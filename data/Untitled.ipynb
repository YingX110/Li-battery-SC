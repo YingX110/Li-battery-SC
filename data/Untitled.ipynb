{
 "cells": [
  {
   "cell_type": "code",
   "execution_count": 1,
   "id": "bf7911f0",
   "metadata": {},
   "outputs": [],
   "source": [
    "using JuMP, Gurobi\n",
    "using CSV, LinearAlgebra, DataFrames\n",
    "using Plots"
   ]
  },
  {
   "cell_type": "code",
   "execution_count": 18,
   "id": "96729b9f",
   "metadata": {},
   "outputs": [],
   "source": [
    "#load the data and orgnize \n",
    "cap_cstr = CSV.read(\"/home/xue.326/julia_env/LiBattery_Env/data/capacity_constraint.csv\", \n",
    "                    DataFrame, \n",
    "                    header=1)  \n",
    "\n",
    "distance = CSV.File(\"/home/xue.326/julia_env/LiBattery_Env/data/distance.csv\",header=1) |> DataFrame; "
   ]
  },
  {
   "cell_type": "code",
   "execution_count": 19,
   "id": "bca2e286",
   "metadata": {},
   "outputs": [
    {
     "data": {
      "text/html": [
       "<div><div style = \"float: left;\"><span>5×16 DataFrame</span></div><div style = \"clear: both;\"></div></div><div class = \"data-frame\" style = \"overflow-x: scroll;\"><table class = \"data-frame\" style = \"margin-bottom: 6px;\"><thead><tr class = \"header\"><th class = \"rowNumber\" style = \"font-weight: bold; text-align: right;\">Row</th><th style = \"text-align: left;\">Country </th><th style = \"text-align: left;\">Li mining</th><th style = \"text-align: left;\">Co mining</th><th style = \"text-align: left;\">Mn mining</th><th style = \"text-align: left;\">Ni mining</th><th style = \"text-align: left;\">Li2SO4</th><th style = \"text-align: left;\">MnSO4</th><th style = \"text-align: left;\">CoSO4</th><th style = \"text-align: left;\">LiCO3</th><th style = \"text-align: left;\">NiSO4</th><th style = \"text-align: left;\">NaOH</th><th style = \"text-align: left;\">Graphite</th><th style = \"text-align: left;\">PP</th><th style = \"text-align: left;\">PE</th><th style = \"text-align: left;\">Cooper</th><th style = \"text-align: left;\">Al</th></tr><tr class = \"subheader headerLastRow\"><th class = \"rowNumber\" style = \"font-weight: bold; text-align: right;\"></th><th title = \"String31\" style = \"text-align: left;\">String31</th><th title = \"Int64\" style = \"text-align: left;\">Int64</th><th title = \"Int64\" style = \"text-align: left;\">Int64</th><th title = \"Int64\" style = \"text-align: left;\">Int64</th><th title = \"Int64\" style = \"text-align: left;\">Int64</th><th title = \"Int64\" style = \"text-align: left;\">Int64</th><th title = \"Int64\" style = \"text-align: left;\">Int64</th><th title = \"Int64\" style = \"text-align: left;\">Int64</th><th title = \"Int64\" style = \"text-align: left;\">Int64</th><th title = \"Int64\" style = \"text-align: left;\">Int64</th><th title = \"Float64\" style = \"text-align: left;\">Float64</th><th title = \"Int64\" style = \"text-align: left;\">Int64</th><th title = \"Int64\" style = \"text-align: left;\">Int64</th><th title = \"Float64\" style = \"text-align: left;\">Float64</th><th title = \"Int64\" style = \"text-align: left;\">Int64</th><th title = \"Int64\" style = \"text-align: left;\">Int64</th></tr></thead><tbody><tr><td class = \"rowNumber\" style = \"font-weight: bold; text-align: right;\">1</td><td style = \"text-align: left;\">Argentina</td><td style = \"text-align: right;\">10800</td><td style = \"text-align: right;\">0</td><td style = \"text-align: right;\">0</td><td style = \"text-align: right;\">0</td><td style = \"text-align: right;\">169000</td><td style = \"text-align: right;\">100000000000</td><td style = \"text-align: right;\">100000000000</td><td style = \"text-align: right;\">114000</td><td style = \"text-align: right;\">0</td><td style = \"text-align: right;\">0.0</td><td style = \"text-align: right;\">0</td><td style = \"text-align: right;\">300000</td><td style = \"text-align: right;\">0.0</td><td style = \"text-align: right;\">0</td><td style = \"text-align: right;\">0</td></tr><tr><td class = \"rowNumber\" style = \"font-weight: bold; text-align: right;\">2</td><td style = \"text-align: left;\">Australia</td><td style = \"text-align: right;\">37000</td><td style = \"text-align: right;\">7400</td><td style = \"text-align: right;\">3000000</td><td style = \"text-align: right;\">189000</td><td style = \"text-align: right;\">581000</td><td style = \"text-align: right;\">0</td><td style = \"text-align: right;\">0</td><td style = \"text-align: right;\">391000</td><td style = \"text-align: right;\">0</td><td style = \"text-align: right;\">0.0</td><td style = \"text-align: right;\">500</td><td style = \"text-align: right;\">500000</td><td style = \"text-align: right;\">600000.0</td><td style = \"text-align: right;\">920000</td><td style = \"text-align: right;\">1600000</td></tr><tr><td class = \"rowNumber\" style = \"font-weight: bold; text-align: right;\">3</td><td style = \"text-align: left;\">Bahrain</td><td style = \"text-align: right;\">0</td><td style = \"text-align: right;\">0</td><td style = \"text-align: right;\">0</td><td style = \"text-align: right;\">0</td><td style = \"text-align: right;\">100000000000</td><td style = \"text-align: right;\">0</td><td style = \"text-align: right;\">0</td><td style = \"text-align: right;\">100000000000</td><td style = \"text-align: right;\">0</td><td style = \"text-align: right;\">0.0</td><td style = \"text-align: right;\">0</td><td style = \"text-align: right;\">0</td><td style = \"text-align: right;\">0.0</td><td style = \"text-align: right;\">0</td><td style = \"text-align: right;\">1200000</td></tr><tr><td class = \"rowNumber\" style = \"font-weight: bold; text-align: right;\">4</td><td style = \"text-align: left;\">Bolivia</td><td style = \"text-align: right;\">0</td><td style = \"text-align: right;\">0</td><td style = \"text-align: right;\">0</td><td style = \"text-align: right;\">0</td><td style = \"text-align: right;\">100000000000</td><td style = \"text-align: right;\">100000000000</td><td style = \"text-align: right;\">0</td><td style = \"text-align: right;\">100000000000</td><td style = \"text-align: right;\">0</td><td style = \"text-align: right;\">0.0</td><td style = \"text-align: right;\">0</td><td style = \"text-align: right;\">0</td><td style = \"text-align: right;\">0.0</td><td style = \"text-align: right;\">0</td><td style = \"text-align: right;\">0</td></tr><tr><td class = \"rowNumber\" style = \"font-weight: bold; text-align: right;\">5</td><td style = \"text-align: left;\">Brazil</td><td style = \"text-align: right;\">1800</td><td style = \"text-align: right;\">0</td><td style = \"text-align: right;\">1200000</td><td style = \"text-align: right;\">135000</td><td style = \"text-align: right;\">28300</td><td style = \"text-align: right;\">0</td><td style = \"text-align: right;\">100000000000</td><td style = \"text-align: right;\">19000</td><td style = \"text-align: right;\">0</td><td style = \"text-align: right;\">1.9e6</td><td style = \"text-align: right;\">87000</td><td style = \"text-align: right;\">1900000</td><td style = \"text-align: right;\">3.6e6</td><td style = \"text-align: right;\">400000</td><td style = \"text-align: right;\">590000</td></tr></tbody></table></div>"
      ],
      "text/latex": [
       "\\begin{tabular}{r|cccccccc}\n",
       "\t& Country  & Li mining & Co mining & Mn mining & Ni mining & Li2SO4 & MnSO4 & \\\\\n",
       "\t\\hline\n",
       "\t& String31 & Int64 & Int64 & Int64 & Int64 & Int64 & Int64 & \\\\\n",
       "\t\\hline\n",
       "\t1 & Argentina & 10800 & 0 & 0 & 0 & 169000 & 100000000000 & $\\dots$ \\\\\n",
       "\t2 & Australia & 37000 & 7400 & 3000000 & 189000 & 581000 & 0 & $\\dots$ \\\\\n",
       "\t3 & Bahrain & 0 & 0 & 0 & 0 & 100000000000 & 0 & $\\dots$ \\\\\n",
       "\t4 & Bolivia & 0 & 0 & 0 & 0 & 100000000000 & 100000000000 & $\\dots$ \\\\\n",
       "\t5 & Brazil & 1800 & 0 & 1200000 & 135000 & 28300 & 0 & $\\dots$ \\\\\n",
       "\\end{tabular}\n"
      ],
      "text/plain": [
       "\u001b[1m5×16 DataFrame\u001b[0m\n",
       "\u001b[1m Row \u001b[0m│\u001b[1m Country   \u001b[0m\u001b[1m Li mining \u001b[0m\u001b[1m Co mining \u001b[0m\u001b[1m Mn mining \u001b[0m\u001b[1m Ni mining \u001b[0m\u001b[1m Li2SO4       \u001b[0m\u001b[1m Mn\u001b[0m ⋯\n",
       "     │\u001b[90m String31  \u001b[0m\u001b[90m Int64     \u001b[0m\u001b[90m Int64     \u001b[0m\u001b[90m Int64     \u001b[0m\u001b[90m Int64     \u001b[0m\u001b[90m Int64        \u001b[0m\u001b[90m In\u001b[0m ⋯\n",
       "─────┼──────────────────────────────────────────────────────────────────────────\n",
       "   1 │ Argentina      10800          0          0          0        169000  10 ⋯\n",
       "   2 │ Australia      37000       7400    3000000     189000        581000\n",
       "   3 │ Bahrain            0          0          0          0  100000000000\n",
       "   4 │ Bolivia            0          0          0          0  100000000000  10\n",
       "   5 │ Brazil          1800          0    1200000     135000         28300     ⋯\n",
       "\u001b[36m                                                              10 columns omitted\u001b[0m"
      ]
     },
     "execution_count": 19,
     "metadata": {},
     "output_type": "execute_result"
    }
   ],
   "source": [
    "first(cap_cstr, 5)"
   ]
  },
  {
   "cell_type": "code",
   "execution_count": 14,
   "id": "b02fe757",
   "metadata": {},
   "outputs": [
    {
     "name": "stdout",
     "output_type": "stream",
     "text": [
      "Vector{Any}\n"
     ]
    }
   ],
   "source": [
    "println(typeof([Any, All(Float64)]))"
   ]
  },
  {
   "cell_type": "code",
   "execution_count": 23,
   "id": "1677740d",
   "metadata": {},
   "outputs": [
    {
     "data": {
      "text/plain": [
       "16"
      ]
     },
     "execution_count": 23,
     "metadata": {},
     "output_type": "execute_result"
    }
   ],
   "source": [
    "size(cap_cstr)[2]"
   ]
  },
  {
   "cell_type": "code",
   "execution_count": 29,
   "id": "fa5157bf",
   "metadata": {},
   "outputs": [
    {
     "name": "stdout",
     "output_type": "stream",
     "text": [
      "Any[String31, Float64, Float64, Float64, Float64, Float64, Float64, Float64, Float64, Float64, Float64, Float64, Float64, Float64, Float64, Float64]\n"
     ]
    }
   ],
   "source": [
    "ls = Vector{Any}(undef,ncol(cap_cstr))\n",
    "ls[1] = String31 \n",
    "for i in 2:ncol(cap_cstr)\n",
    "    ls[i] = Float64\n",
    "end\n",
    "\n",
    "println(ls)"
   ]
  },
  {
   "cell_type": "code",
   "execution_count": 30,
   "id": "c939d889",
   "metadata": {},
   "outputs": [
    {
     "data": {
      "text/html": [
       "<div><div style = \"float: left;\"><span>5×16 DataFrame</span></div><div style = \"clear: both;\"></div></div><div class = \"data-frame\" style = \"overflow-x: scroll;\"><table class = \"data-frame\" style = \"margin-bottom: 6px;\"><thead><tr class = \"header\"><th class = \"rowNumber\" style = \"font-weight: bold; text-align: right;\">Row</th><th style = \"text-align: left;\">Country </th><th style = \"text-align: left;\">Li mining</th><th style = \"text-align: left;\">Co mining</th><th style = \"text-align: left;\">Mn mining</th><th style = \"text-align: left;\">Ni mining</th><th style = \"text-align: left;\">Li2SO4</th><th style = \"text-align: left;\">MnSO4</th><th style = \"text-align: left;\">CoSO4</th><th style = \"text-align: left;\">LiCO3</th><th style = \"text-align: left;\">NiSO4</th><th style = \"text-align: left;\">NaOH</th><th style = \"text-align: left;\">Graphite</th><th style = \"text-align: left;\">PP</th><th style = \"text-align: left;\">PE</th><th style = \"text-align: left;\">Cooper</th><th style = \"text-align: left;\">Al</th></tr><tr class = \"subheader headerLastRow\"><th class = \"rowNumber\" style = \"font-weight: bold; text-align: right;\"></th><th title = \"String31\" style = \"text-align: left;\">String31</th><th title = \"Float64\" style = \"text-align: left;\">Float64</th><th title = \"Float64\" style = \"text-align: left;\">Float64</th><th title = \"Float64\" style = \"text-align: left;\">Float64</th><th title = \"Float64\" style = \"text-align: left;\">Float64</th><th title = \"Float64\" style = \"text-align: left;\">Float64</th><th title = \"Float64\" style = \"text-align: left;\">Float64</th><th title = \"Float64\" style = \"text-align: left;\">Float64</th><th title = \"Float64\" style = \"text-align: left;\">Float64</th><th title = \"Float64\" style = \"text-align: left;\">Float64</th><th title = \"Float64\" style = \"text-align: left;\">Float64</th><th title = \"Float64\" style = \"text-align: left;\">Float64</th><th title = \"Float64\" style = \"text-align: left;\">Float64</th><th title = \"Float64\" style = \"text-align: left;\">Float64</th><th title = \"Float64\" style = \"text-align: left;\">Float64</th><th title = \"Float64\" style = \"text-align: left;\">Float64</th></tr></thead><tbody><tr><td class = \"rowNumber\" style = \"font-weight: bold; text-align: right;\">1</td><td style = \"text-align: left;\">Argentina</td><td style = \"text-align: right;\">10800.0</td><td style = \"text-align: right;\">0.0</td><td style = \"text-align: right;\">0.0</td><td style = \"text-align: right;\">0.0</td><td style = \"text-align: right;\">169000.0</td><td style = \"text-align: right;\">1.0e11</td><td style = \"text-align: right;\">1.0e11</td><td style = \"text-align: right;\">114000.0</td><td style = \"text-align: right;\">0.0</td><td style = \"text-align: right;\">0.0</td><td style = \"text-align: right;\">0.0</td><td style = \"text-align: right;\">300000.0</td><td style = \"text-align: right;\">0.0</td><td style = \"text-align: right;\">0.0</td><td style = \"text-align: right;\">0.0</td></tr><tr><td class = \"rowNumber\" style = \"font-weight: bold; text-align: right;\">2</td><td style = \"text-align: left;\">Australia</td><td style = \"text-align: right;\">37000.0</td><td style = \"text-align: right;\">7400.0</td><td style = \"text-align: right;\">3.0e6</td><td style = \"text-align: right;\">189000.0</td><td style = \"text-align: right;\">581000.0</td><td style = \"text-align: right;\">0.0</td><td style = \"text-align: right;\">0.0</td><td style = \"text-align: right;\">391000.0</td><td style = \"text-align: right;\">0.0</td><td style = \"text-align: right;\">0.0</td><td style = \"text-align: right;\">500.0</td><td style = \"text-align: right;\">500000.0</td><td style = \"text-align: right;\">600000.0</td><td style = \"text-align: right;\">920000.0</td><td style = \"text-align: right;\">1.6e6</td></tr><tr><td class = \"rowNumber\" style = \"font-weight: bold; text-align: right;\">3</td><td style = \"text-align: left;\">Bahrain</td><td style = \"text-align: right;\">0.0</td><td style = \"text-align: right;\">0.0</td><td style = \"text-align: right;\">0.0</td><td style = \"text-align: right;\">0.0</td><td style = \"text-align: right;\">1.0e11</td><td style = \"text-align: right;\">0.0</td><td style = \"text-align: right;\">0.0</td><td style = \"text-align: right;\">1.0e11</td><td style = \"text-align: right;\">0.0</td><td style = \"text-align: right;\">0.0</td><td style = \"text-align: right;\">0.0</td><td style = \"text-align: right;\">0.0</td><td style = \"text-align: right;\">0.0</td><td style = \"text-align: right;\">0.0</td><td style = \"text-align: right;\">1.2e6</td></tr><tr><td class = \"rowNumber\" style = \"font-weight: bold; text-align: right;\">4</td><td style = \"text-align: left;\">Bolivia</td><td style = \"text-align: right;\">0.0</td><td style = \"text-align: right;\">0.0</td><td style = \"text-align: right;\">0.0</td><td style = \"text-align: right;\">0.0</td><td style = \"text-align: right;\">1.0e11</td><td style = \"text-align: right;\">1.0e11</td><td style = \"text-align: right;\">0.0</td><td style = \"text-align: right;\">1.0e11</td><td style = \"text-align: right;\">0.0</td><td style = \"text-align: right;\">0.0</td><td style = \"text-align: right;\">0.0</td><td style = \"text-align: right;\">0.0</td><td style = \"text-align: right;\">0.0</td><td style = \"text-align: right;\">0.0</td><td style = \"text-align: right;\">0.0</td></tr><tr><td class = \"rowNumber\" style = \"font-weight: bold; text-align: right;\">5</td><td style = \"text-align: left;\">Brazil</td><td style = \"text-align: right;\">1800.0</td><td style = \"text-align: right;\">0.0</td><td style = \"text-align: right;\">1.2e6</td><td style = \"text-align: right;\">135000.0</td><td style = \"text-align: right;\">28300.0</td><td style = \"text-align: right;\">0.0</td><td style = \"text-align: right;\">1.0e11</td><td style = \"text-align: right;\">19000.0</td><td style = \"text-align: right;\">0.0</td><td style = \"text-align: right;\">1.9e6</td><td style = \"text-align: right;\">87000.0</td><td style = \"text-align: right;\">1.9e6</td><td style = \"text-align: right;\">3.6e6</td><td style = \"text-align: right;\">400000.0</td><td style = \"text-align: right;\">590000.0</td></tr></tbody></table></div>"
      ],
      "text/latex": [
       "\\begin{tabular}{r|ccccccccc}\n",
       "\t& Country  & Li mining & Co mining & Mn mining & Ni mining & Li2SO4 & MnSO4 & CoSO4 & \\\\\n",
       "\t\\hline\n",
       "\t& String31 & Float64 & Float64 & Float64 & Float64 & Float64 & Float64 & Float64 & \\\\\n",
       "\t\\hline\n",
       "\t1 & Argentina & 10800.0 & 0.0 & 0.0 & 0.0 & 169000.0 & 1.0e11 & 1.0e11 & $\\dots$ \\\\\n",
       "\t2 & Australia & 37000.0 & 7400.0 & 3.0e6 & 189000.0 & 581000.0 & 0.0 & 0.0 & $\\dots$ \\\\\n",
       "\t3 & Bahrain & 0.0 & 0.0 & 0.0 & 0.0 & 1.0e11 & 0.0 & 0.0 & $\\dots$ \\\\\n",
       "\t4 & Bolivia & 0.0 & 0.0 & 0.0 & 0.0 & 1.0e11 & 1.0e11 & 0.0 & $\\dots$ \\\\\n",
       "\t5 & Brazil & 1800.0 & 0.0 & 1.2e6 & 135000.0 & 28300.0 & 0.0 & 1.0e11 & $\\dots$ \\\\\n",
       "\\end{tabular}\n"
      ],
      "text/plain": [
       "\u001b[1m5×16 DataFrame\u001b[0m\n",
       "\u001b[1m Row \u001b[0m│\u001b[1m Country   \u001b[0m\u001b[1m Li mining \u001b[0m\u001b[1m Co mining \u001b[0m\u001b[1m Mn mining \u001b[0m\u001b[1m Ni mining \u001b[0m\u001b[1m Li2SO4      \u001b[0m\u001b[1m MnS\u001b[0m ⋯\n",
       "     │\u001b[90m String31  \u001b[0m\u001b[90m Float64   \u001b[0m\u001b[90m Float64   \u001b[0m\u001b[90m Float64   \u001b[0m\u001b[90m Float64   \u001b[0m\u001b[90m Float64     \u001b[0m\u001b[90m Flo\u001b[0m ⋯\n",
       "─────┼──────────────────────────────────────────────────────────────────────────\n",
       "   1 │ Argentina    10800.0        0.0      0.0          0.0  169000.0      1. ⋯\n",
       "   2 │ Australia    37000.0     7400.0      3.0e6   189000.0  581000.0      0.\n",
       "   3 │ Bahrain          0.0        0.0      0.0          0.0       1.0e11   0.\n",
       "   4 │ Bolivia          0.0        0.0      0.0          0.0       1.0e11   1.\n",
       "   5 │ Brazil        1800.0        0.0      1.2e6   135000.0   28300.0      0. ⋯\n",
       "\u001b[36m                                                              10 columns omitted\u001b[0m"
      ]
     },
     "execution_count": 30,
     "metadata": {},
     "output_type": "execute_result"
    }
   ],
   "source": [
    "# cap_cstr = CSV.read(\"/home/xue.326/julia_env/LiBattery_Env/data/capacity_constraint.csv\", DataFrame, header=1) \n",
    "\n",
    "\n",
    "\n",
    "cap_cstr = CSV.read(\"/home/xue.326/julia_env/LiBattery_Env/data/capacity_constraint.csv\", \n",
    "                    DataFrame, \n",
    "                    header=1, types=ls) \n",
    "first(cap_cstr, 5)"
   ]
  },
  {
   "cell_type": "code",
   "execution_count": null,
   "id": "c9ed0ed6",
   "metadata": {},
   "outputs": [],
   "source": []
  }
 ],
 "metadata": {
  "kernelspec": {
   "display_name": "Julia 1.8.3",
   "language": "julia",
   "name": "julia-1.8"
  },
  "language_info": {
   "file_extension": ".jl",
   "mimetype": "application/julia",
   "name": "julia",
   "version": "1.8.3"
  }
 },
 "nbformat": 4,
 "nbformat_minor": 5
}
