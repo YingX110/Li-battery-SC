{
 "cells": [
  {
   "cell_type": "code",
   "execution_count": null,
   "id": "0723ed89",
   "metadata": {},
   "outputs": [],
   "source": []
  },
  {
   "cell_type": "code",
   "execution_count": 1,
   "id": "19902866",
   "metadata": {},
   "outputs": [
    {
     "name": "stderr",
     "output_type": "stream",
     "text": [
      "┌ Info: Precompiling CSV [336ed68f-0bac-5ca0-87d4-7b16caf5d00b]\n",
      "└ @ Base loading.jl:1664\n"
     ]
    },
    {
     "ename": "LoadError",
     "evalue": "ArgumentError: Package DataFrames [a93c6f00-e57d-5684-b7b6-d8193f3e46c0] is required but does not seem to be installed:\n - Run `Pkg.instantiate()` to install all recorded dependencies.\n",
     "output_type": "error",
     "traceback": [
      "ArgumentError: Package DataFrames [a93c6f00-e57d-5684-b7b6-d8193f3e46c0] is required but does not seem to be installed:\n - Run `Pkg.instantiate()` to install all recorded dependencies.\n",
      "",
      "Stacktrace:",
      " [1] _require(pkg::Base.PkgId)",
      "   @ Base ./loading.jl:1306",
      " [2] _require_prelocked(uuidkey::Base.PkgId)",
      "   @ Base ./loading.jl:1200",
      " [3] macro expansion",
      "   @ ./loading.jl:1180 [inlined]",
      " [4] macro expansion",
      "   @ ./lock.jl:223 [inlined]",
      " [5] require(into::Module, mod::Symbol)",
      "   @ Base ./loading.jl:1144",
      " [6] eval",
      "   @ ./boot.jl:368 [inlined]",
      " [7] include_string(mapexpr::typeof(REPL.softscope), mod::Module, code::String, filename::String)",
      "   @ Base ./loading.jl:1428"
     ]
    }
   ],
   "source": [
    "using JuMP, Gurobi\n",
    "using CSV, LinearAlgebra, DataFrames\n",
    "using Plots"
   ]
  },
  {
   "cell_type": "code",
   "execution_count": 2,
   "id": "a7214b23",
   "metadata": {},
   "outputs": [
    {
     "ename": "LoadError",
     "evalue": "UndefVarError: Pkg not defined",
     "output_type": "error",
     "traceback": [
      "UndefVarError: Pkg not defined",
      "",
      "Stacktrace:",
      " [1] top-level scope",
      "   @ In[2]:1",
      " [2] eval",
      "   @ ./boot.jl:368 [inlined]",
      " [3] include_string(mapexpr::typeof(REPL.softscope), mod::Module, code::String, filename::String)",
      "   @ Base ./loading.jl:1428"
     ]
    }
   ],
   "source": [
    "Pkg.instantiate()"
   ]
  },
  {
   "cell_type": "code",
   "execution_count": 2,
   "id": "af0d1abb",
   "metadata": {},
   "outputs": [],
   "source": [
    "#load the data and orgnize \n",
    "Cdata = CSV.File(\"C:/Users/bourg/.julia/environments/batterySC/data/Julia_country.csv\",header=1,delim=\",\") |> DataFrame    \n",
    "Combo = CSV.File(\"C:/Users/bourg/.julia/environments/batterySC/data/Julia_combo.csv\",header=1,delim=\",\") |> DataFrame; "
   ]
  },
  {
   "cell_type": "code",
   "execution_count": 3,
   "id": "3dda1af6",
   "metadata": {},
   "outputs": [],
   "source": [
    "Jobs_names = names(Combo)[2:size(Combo,2)]\n",
    "com = Combo[1:size(Combo,1),2:size(Combo,2)]; #combination of job work \n",
    "\n",
    "country_names= Cdata[!,\"Country\"]\n",
    "S= Cdata[!,\"S\"] #supply  nx1\n",
    "D= Cdata[!,\"D\"] #Demand  nx1\n",
    "Dsoc= Cdata[!,\"Dsoc\"]; #Social Demand nx1 \n",
    "\n",
    "#parameters \n",
    "m= size(Jobs_names,1); # no. of jobs\n",
    "n= size(S,1); #no of countries"
   ]
  },
  {
   "cell_type": "markdown",
   "id": "dceaec2c",
   "metadata": {},
   "source": [
    "### Ecologically"
   ]
  },
  {
   "cell_type": "code",
   "execution_count": 4,
   "id": "caf0d3d5",
   "metadata": {},
   "outputs": [
    {
     "name": "stdout",
     "output_type": "stream",
     "text": [
      "Academic license - for non-commercial use only - expires 2023-11-27\r\n"
     ]
    }
   ],
   "source": [
    "ecology = Model(Gurobi.Optimizer)\n",
    "set_optimizer_attribute(ecology, \"NonConvex\", 2);\n",
    "\n",
    "#variables \n",
    "@variable(ecology, 0 <= x[1:n, 1:m] <= 1) # whether to select the country? elements in x could only be 0 or 1\n",
    "@variable(ecology, obj >= 0);\n",
    "\n",
    "#Constraints \n",
    "@constraint(ecology, job_full[j in 1:m], sum(x[i, j] for i in 1:n) == 1) # each job is assigned to only 1 country\n",
    "@constraint(ecology, country_job[i in 1:n, j in 1:m], x[i, j] <= com[i,j]) # only candidate countries can do the job\n",
    "@constraint(ecology, obj*(sum(S'*x)) == (sum(D'*x)));\n",
    "\n",
    "# Objective\n",
    "@objective(ecology, Min, obj);"
   ]
  },
  {
   "cell_type": "code",
   "execution_count": 5,
   "id": "637c2950",
   "metadata": {},
   "outputs": [
    {
     "name": "stdout",
     "output_type": "stream",
     "text": [
      "Gurobi Optimizer version 9.1.2 build v9.1.2rc0 (win64)\r\n",
      "Thread count: 6 physical cores, 12 logical processors, using up to 12 threads\r\n",
      "Optimize a model with 481 rows, 469 columns and 936 nonzeros\r\n",
      "Model fingerprint: 0x5e9c2f1f\r\n",
      "Model has 1 quadratic constraint\r\n",
      "Coefficient statistics:\r\n",
      "  Matrix range     [1e+00, 1e+00]\r\n",
      "  QMatrix range    [2e+09, 2e+12]\r\n",
      "  QLMatrix range   [2e+10, 1e+13]\r\n",
      "  Objective range  [1e+00, 1e+00]\r\n",
      "  Bounds range     [1e+00, 1e+00]\r\n",
      "  RHS range        [1e+00, 1e+00]\r\n",
      "Warning: Quadratic constraint contains large coefficients\r\n",
      "Warning: Quadratic constraint contains large coefficients on linear part\r\n",
      "         Consider reformulating model or setting NumericFocus parameter\r\n",
      "         to avoid numerical issues.\r\n",
      "Presolve removed 468 rows and 375 columns\r\n",
      "\r\n",
      "Continuous model is non-convex -- solving as a MIP.\r\n",
      "\r\n",
      "Presolve removed 468 rows and 375 columns\r\n",
      "Presolve time: 0.01s\r\n",
      "Presolved: 386 rows, 188 columns, 930 nonzeros\r\n",
      "Presolved model has 93 bilinear constraint(s)\r\n",
      "Variable types: 188 continuous, 0 integer (0 binary)\r\n",
      "\r\n",
      "Root relaxation: objective 6.844388e-02, 105 iterations, 0.01 seconds\r\n",
      "\r\n",
      "    Nodes    |    Current Node    |     Objective Bounds      |     Work\r\n",
      " Expl Unexpl |  Obj  Depth IntInf | Incumbent    BestBd   Gap | It/Node Time\r\n",
      "\r\n",
      "     0     0    0.06844    0   84          -    0.06844      -     -    0s\r\n",
      "     0     0    0.06844    0   80          -    0.06844      -     -    0s\r\n",
      "     0     2    0.06844    0   80          -    0.06844      -     -    0s\r\n",
      "*    4     2               2      12.7053424    0.10343  99.2%   147    0s\r\n",
      "*    6     2               3       2.7032753    0.23495  91.3%   138    0s\r\n",
      "*    8     2               4       1.3916838    0.89082  36.0%   143    0s\r\n",
      "*   15     2               8       1.2502821    1.24314  0.57%  85.6    0s\r\n",
      "*   17     0               9       1.2441323    1.24359  0.04%  75.6    0s\r\n",
      "\r\n",
      "Explored 19 nodes (1705 simplex iterations) in 0.17 seconds\r\n",
      "Thread count was 12 (of 12 available processors)\r\n",
      "\r\n",
      "Solution count 5: 1.24413 1.25028 1.39168 ... 12.7053\r\n",
      "\r\n",
      "Optimal solution found (tolerance 1.00e-04)\r\n",
      "Warning: max constraint violation (4.8828e-04) exceeds tolerance\r\n",
      "Best objective 1.244132261862e+00, best bound 1.244132261862e+00, gap 0.0000%\r\n",
      "\r\n",
      "User-callback calls 154, time in user-callback 0.01 sec\r\n"
     ]
    },
    {
     "data": {
      "text/plain": [
       "1.244132261861857"
      ]
     },
     "execution_count": 5,
     "metadata": {},
     "output_type": "execute_result"
    }
   ],
   "source": [
    "#optimize           \n",
    "JuMP.optimize!(ecology);\n",
    "\n",
    "solution = JuMP.value.(x);\n",
    "\n",
    "obj1 = JuMP.objective_value(ecology)"
   ]
  },
  {
   "cell_type": "markdown",
   "id": "c0b452d9",
   "metadata": {},
   "source": [
    "### Socially "
   ]
  },
  {
   "cell_type": "code",
   "execution_count": 6,
   "id": "c7e8fc28",
   "metadata": {},
   "outputs": [
    {
     "name": "stdout",
     "output_type": "stream",
     "text": [
      "Academic license - for non-commercial use only - expires 2023-11-27\r\n"
     ]
    }
   ],
   "source": [
    "just = Model(Gurobi.Optimizer)\n",
    "set_optimizer_attribute(just, \"NonConvex\", 2);\n",
    "\n",
    "#variables \n",
    "@variable(just, 0 <= x[1:n, 1:m] <= 1) # whether to select the country? elements in x could only be 0 or 1\n",
    "@variable(just, obj >= 0);\n",
    "\n",
    "#Constraints \n",
    "@constraint(just, job_full[j in 1:m], sum(x[i, j] for i in 1:n) == 1);\n",
    "@constraint(just, country_job[i in 1:n, j in 1:m], x[i, j] <= com[i,j]);\n",
    "@constraint(just, obj*(sum(D'*x)) == (sum(Dsoc'*x)))\n",
    "\n",
    "# Objective\n",
    "@objective(just, Min, obj);"
   ]
  },
  {
   "cell_type": "code",
   "execution_count": 7,
   "id": "ea00afb9",
   "metadata": {},
   "outputs": [
    {
     "name": "stdout",
     "output_type": "stream",
     "text": [
      "Gurobi Optimizer version 9.1.2 build v9.1.2rc0 (win64)\r\n",
      "Thread count: 6 physical cores, 12 logical processors, using up to 12 threads\r\n",
      "Optimize a model with 481 rows, 469 columns and 936 nonzeros\r\n",
      "Model fingerprint: 0xa8d5034e\r\n",
      "Model has 1 quadratic constraint\r\n",
      "Coefficient statistics:\r\n",
      "  Matrix range     [1e+00, 1e+00]\r\n",
      "  QMatrix range    [2e+10, 1e+13]\r\n",
      "  QLMatrix range   [8e+08, 7e+11]\r\n",
      "  Objective range  [1e+00, 1e+00]\r\n",
      "  Bounds range     [1e+00, 1e+00]\r\n",
      "  RHS range        [1e+00, 1e+00]\r\n",
      "Warning: Quadratic constraint contains large coefficients\r\n",
      "Warning: Quadratic constraint contains large coefficients on linear part\r\n",
      "         Consider reformulating model or setting NumericFocus parameter\r\n",
      "         to avoid numerical issues.\r\n",
      "Presolve removed 468 rows and 375 columns\r\n",
      "\r\n",
      "Continuous model is non-convex -- solving as a MIP.\r\n",
      "\r\n",
      "Presolve removed 468 rows and 375 columns\r\n",
      "Presolve time: 0.00s\r\n",
      "Presolved: 386 rows, 188 columns, 930 nonzeros\r\n",
      "Presolved model has 93 bilinear constraint(s)\r\n",
      "Variable types: 188 continuous, 0 integer (0 binary)\r\n",
      "\r\n",
      "Root relaxation: objective 1.243159e-03, 95 iterations, 0.00 seconds\r\n",
      "\r\n",
      "    Nodes    |    Current Node    |     Objective Bounds      |     Work\r\n",
      " Expl Unexpl |  Obj  Depth IntInf | Incumbent    BestBd   Gap | It/Node Time\r\n",
      "\r\n",
      "     0     0    0.00124    0   71          -    0.00124      -     -    0s\r\n",
      "     0     0    0.00124    0   77          -    0.00124      -     -    0s\r\n",
      "     0     2    0.00124    0   77          -    0.00124      -     -    0s\r\n",
      "*   10     2               5       0.0628969    0.00167  97.3%   111    0s\r\n",
      "*   21     0              11       0.0213794    0.01920  10.2%   140    0s\r\n",
      "*   22     0              11       0.0193318    0.01933  0.00%   139    0s\r\n",
      "\r\n",
      "Explored 23 nodes (3461 simplex iterations) in 0.11 seconds\r\n",
      "Thread count was 12 (of 12 available processors)\r\n",
      "\r\n",
      "Solution count 3: 0.0193318 0.0213794 0.0628969 \r\n",
      "\r\n",
      "Optimal solution found (tolerance 1.00e-04)\r\n",
      "Best objective 1.933184586805e-02, best bound 1.933184586805e-02, gap 0.0000%\r\n",
      "\r\n",
      "User-callback calls 141, time in user-callback 0.00 sec\r\n"
     ]
    },
    {
     "data": {
      "text/plain": [
       "0.0193318458680546"
      ]
     },
     "execution_count": 7,
     "metadata": {},
     "output_type": "execute_result"
    }
   ],
   "source": [
    "#optimize           \n",
    "JuMP.optimize!(just);\n",
    "\n",
    "solution2 = JuMP.value.(x);\n",
    "\n",
    "obj2 = JuMP.objective_value(just)"
   ]
  },
  {
   "cell_type": "markdown",
   "id": "a192c48a",
   "metadata": {},
   "source": [
    "### Frontier"
   ]
  },
  {
   "cell_type": "code",
   "execution_count": 8,
   "id": "3f165480",
   "metadata": {},
   "outputs": [],
   "source": [
    "obj2_ = sum(Dsoc'*solution) / sum(D'*solution);\n",
    "obj1_ = sum(D'*solution2) / sum(S'*solution2);\n",
    "\n",
    "# obj*(sum(S'*x)) == (sum(D'*x))\n",
    "# obj*(sum(D'*x)) == (sum(Dsoc'*x))"
   ]
  },
  {
   "cell_type": "code",
   "execution_count": 9,
   "id": "780925cd",
   "metadata": {},
   "outputs": [
    {
     "data": {
      "text/plain": [
       "(1.244132261861857, 0.024836115218104197)"
      ]
     },
     "execution_count": 9,
     "metadata": {},
     "output_type": "execute_result"
    }
   ],
   "source": [
    "(obj1, obj2_)"
   ]
  },
  {
   "cell_type": "code",
   "execution_count": 10,
   "id": "94cf847f",
   "metadata": {},
   "outputs": [
    {
     "data": {
      "text/plain": [
       "(2.8705322210654884, 0.0193318458680546)"
      ]
     },
     "execution_count": 10,
     "metadata": {},
     "output_type": "execute_result"
    }
   ],
   "source": [
    "(obj1_, obj2)"
   ]
  },
  {
   "cell_type": "code",
   "execution_count": 11,
   "id": "d37a7867",
   "metadata": {},
   "outputs": [
    {
     "data": {
      "text/plain": [
       "0.40659998980090784"
      ]
     },
     "execution_count": 11,
     "metadata": {},
     "output_type": "execute_result"
    }
   ],
   "source": [
    "(obj1_ - obj1) / 4"
   ]
  },
  {
   "cell_type": "code",
   "execution_count": 12,
   "id": "a30f9a38",
   "metadata": {},
   "outputs": [
    {
     "name": "stdout",
     "output_type": "stream",
     "text": [
      "Academic license - for non-commercial use only - expires 2023-11-27\r\n",
      "Gurobi Optimizer version 9.1.2 build v9.1.2rc0 (win64)\r\n",
      "Thread count: 6 physical cores, 12 logical processors, using up to 12 threads\r\n",
      "Optimize a model with 482 rows, 469 columns and 1404 nonzeros\r\n",
      "Model fingerprint: 0x05fe85c7\r\n",
      "Model has 1 quadratic constraint\r\n",
      "Coefficient statistics:\r\n",
      "  Matrix range     [1e+00, 1e+13]\r\n",
      "  QMatrix range    [2e+10, 1e+13]\r\n",
      "  QLMatrix range   [8e+08, 7e+11]\r\n",
      "  Objective range  [1e+00, 1e+00]\r\n",
      "  Bounds range     [1e+00, 1e+00]\r\n",
      "  RHS range        [1e+00, 1e+00]\r\n",
      "Warning: Model contains large matrix coefficient range\r\n",
      "Warning: Quadratic constraint contains large coefficients\r\n",
      "Warning: Quadratic constraint contains large coefficients on linear part\r\n",
      "         Consider reformulating model or setting NumericFocus parameter\r\n",
      "         to avoid numerical issues.\r\n",
      "Presolve removed 468 rows and 375 columns\r\n",
      "\r\n",
      "Continuous model is non-convex -- solving as a MIP.\r\n",
      "\r\n",
      "Presolve removed 468 rows and 375 columns\r\n",
      "Presolve time: 0.00s\r\n",
      "Presolved: 387 rows, 188 columns, 1023 nonzeros\r\n",
      "Presolved model has 93 bilinear constraint(s)\r\n",
      "Variable types: 188 continuous, 0 integer (0 binary)\r\n",
      "\r\n",
      "Root relaxation: objective 9.154858e-04, 97 iterations, 0.00 seconds\r\n",
      "\r\n",
      "    Nodes    |    Current Node    |     Objective Bounds      |     Work\r\n",
      " Expl Unexpl |  Obj  Depth IntInf | Incumbent    BestBd   Gap | It/Node Time\r\n",
      "\r\n",
      "     0     0    0.00092    0   75          -    0.00092      -     -    0s\r\n",
      "     0     0    0.00092    0   80          -    0.00092      -     -    0s\r\n",
      "     0     2    0.00092    0   80          -    0.00092      -     -    0s\r\n",
      "*   10     2               5       0.0628540    0.00180  97.1%   124    0s\r\n",
      "*   23     4              11       0.0194039    0.01940  0.00%   137    0s\r\n",
      "\r\n",
      "Explored 25 nodes (3865 simplex iterations) in 0.10 seconds\r\n",
      "Thread count was 12 (of 12 available processors)\r\n",
      "\r\n",
      "Solution count 2: 0.0194039 0.062854 \r\n",
      "\r\n",
      "Optimal solution found (tolerance 1.00e-04)\r\n",
      "Warning: max constraint violation (2.9297e-03) exceeds tolerance\r\n",
      "Best objective 1.940392474928e-02, best bound 1.940392474928e-02, gap 0.0000%\r\n",
      "\r\n",
      "User-callback calls 141, time in user-callback 0.00 sec\r\n",
      "Academic license - for non-commercial use only - expires 2023-11-27\r\n",
      "Gurobi Optimizer version 9.1.2 build v9.1.2rc0 (win64)\r\n",
      "Thread count: 6 physical cores, 12 logical processors, using up to 12 threads\r\n",
      "Optimize a model with 482 rows, 469 columns and 1404 nonzeros\r\n",
      "Model fingerprint: 0x1ebb64cf\r\n",
      "Model has 1 quadratic constraint\r\n",
      "Coefficient statistics:\r\n",
      "  Matrix range     [1e+00, 1e+13]\r\n",
      "  QMatrix range    [2e+10, 1e+13]\r\n",
      "  QLMatrix range   [8e+08, 7e+11]\r\n",
      "  Objective range  [1e+00, 1e+00]\r\n",
      "  Bounds range     [1e+00, 1e+00]\r\n",
      "  RHS range        [1e+00, 1e+00]\r\n",
      "Warning: Model contains large matrix coefficient range\r\n",
      "Warning: Quadratic constraint contains large coefficients\r\n",
      "Warning: Quadratic constraint contains large coefficients on linear part\r\n",
      "         Consider reformulating model or setting NumericFocus parameter\r\n",
      "         to avoid numerical issues.\r\n",
      "Presolve removed 468 rows and 375 columns\r\n",
      "\r\n",
      "Continuous model is non-convex -- solving as a MIP.\r\n",
      "\r\n",
      "Presolve removed 468 rows and 375 columns\r\n",
      "Presolve time: 0.00s\r\n",
      "Presolved: 387 rows, 188 columns, 1023 nonzeros\r\n",
      "Presolved model has 93 bilinear constraint(s)\r\n",
      "Variable types: 188 continuous, 0 integer (0 binary)\r\n",
      "\r\n",
      "Root relaxation: objective 9.448847e-04, 95 iterations, 0.00 seconds\r\n",
      "\r\n",
      "    Nodes    |    Current Node    |     Objective Bounds      |     Work\r\n",
      " Expl Unexpl |  Obj  Depth IntInf | Incumbent    BestBd   Gap | It/Node Time\r\n",
      "\r\n",
      "     0     0    0.00094    0   74          -    0.00094      -     -    0s\r\n",
      "     0     0    0.00108    0   81          -    0.00108      -     -    0s\r\n",
      "     0     2    0.00108    0   81          -    0.00108      -     -    0s\r\n",
      "*   10     2               5       0.0631912    0.00210  96.7%  94.1    0s\r\n",
      "*   22     2              11       0.0199258    0.01956  1.81%   116    0s\r\n",
      "*   28     2              13       0.0196869    0.01968  0.06%   103    0s\r\n",
      "\r\n",
      "Explored 31 nodes (3113 simplex iterations) in 0.09 seconds\r\n",
      "Thread count was 12 (of 12 available processors)\r\n",
      "\r\n",
      "Solution count 3: 0.0196869 0.0199258 0.0631912 \r\n",
      "\r\n",
      "Optimal solution found (tolerance 1.00e-04)\r\n",
      "Warning: max constraint violation (2.4414e-03) exceeds tolerance\r\n",
      "Best objective 1.968689478343e-02, best bound 1.968689478343e-02, gap 0.0000%\r\n",
      "\r\n",
      "User-callback calls 157, time in user-callback 0.00 sec\r\n",
      "Academic license - for non-commercial use only - expires 2023-11-27\r\n",
      "Gurobi Optimizer version 9.1.2 build v9.1.2rc0 (win64)\r\n",
      "Thread count: 6 physical cores, 12 logical processors, using up to 12 threads\r\n",
      "Optimize a model with 482 rows, 469 columns and 1404 nonzeros\r\n",
      "Model fingerprint: 0xeb784c02\r\n",
      "Model has 1 quadratic constraint\r\n",
      "Coefficient statistics:\r\n",
      "  Matrix range     [1e+00, 1e+13]\r\n",
      "  QMatrix range    [2e+10, 1e+13]\r\n",
      "  QLMatrix range   [8e+08, 7e+11]\r\n",
      "  Objective range  [1e+00, 1e+00]\r\n",
      "  Bounds range     [1e+00, 1e+00]\r\n",
      "  RHS range        [1e+00, 1e+00]\r\n",
      "Warning: Model contains large matrix coefficient range\r\n",
      "Warning: Quadratic constraint contains large coefficients\r\n",
      "Warning: Quadratic constraint contains large coefficients on linear part\r\n",
      "         Consider reformulating model or setting NumericFocus parameter\r\n",
      "         to avoid numerical issues.\r\n",
      "Presolve removed 468 rows and 375 columns\r\n",
      "\r\n",
      "Continuous model is non-convex -- solving as a MIP.\r\n",
      "\r\n",
      "Presolve removed 468 rows and 375 columns\r\n",
      "Presolve time: 0.00s\r\n",
      "Presolved: 387 rows, 188 columns, 1023 nonzeros\r\n",
      "Presolved model has 93 bilinear constraint(s)\r\n",
      "Variable types: 188 continuous, 0 integer (0 binary)\r\n",
      "\r\n",
      "Root relaxation: objective 1.070078e-03, 100 iterations, 0.00 seconds\r\n",
      "\r\n",
      "    Nodes    |    Current Node    |     Objective Bounds      |     Work\r\n",
      " Expl Unexpl |  Obj  Depth IntInf | Incumbent    BestBd   Gap | It/Node Time\r\n",
      "\r\n",
      "     0     0    0.00107    0   74          -    0.00107      -     -    0s\r\n",
      "     0     0    0.00114    0   68          -    0.00114      -     -    0s\r\n",
      "     0     0    0.00114    0   75          -    0.00114      -     -    0s\r\n",
      "     0     2    0.00114    0   75          -    0.00114      -     -    0s\r\n",
      "*   10     2               5       0.0630355    0.00215  96.6%  94.6    0s\r\n",
      "*   21     2              11       0.0222790    0.02014  9.59%   110    0s\r\n",
      "*   23     2              12       0.0202828    0.02019  0.47%   112    0s\r\n",
      "*   28     2              14       0.0202377    0.02024  0.01%   107    0s\r\n",
      "\r\n",
      "Cutting planes:\r\n",
      "  RLT: 1\r\n",
      "\r\n",
      "Explored 29 nodes (3387 simplex iterations) in 0.11 seconds\r\n",
      "Thread count was 12 (of 12 available processors)\r\n",
      "\r\n",
      "Solution count 4: 0.0202377 0.0202828 0.022279 0.0630355 \r\n",
      "\r\n",
      "Optimal solution found (tolerance 1.00e-04)\r\n",
      "Warning: max constraint violation (8.8501e-04) exceeds tolerance\r\n",
      "Best objective 2.023768613910e-02, best bound 2.023653891576e-02, gap 0.0057%\r\n",
      "\r\n",
      "User-callback calls 168, time in user-callback 0.00 sec\r\n",
      "Academic license - for non-commercial use only - expires 2023-11-27\r\n",
      "Gurobi Optimizer version 9.1.2 build v9.1.2rc0 (win64)\r\n",
      "Thread count: 6 physical cores, 12 logical processors, using up to 12 threads\r\n",
      "Optimize a model with 482 rows, 469 columns and 1404 nonzeros\r\n",
      "Model fingerprint: 0x63b0e1c9\r\n",
      "Model has 1 quadratic constraint\r\n",
      "Coefficient statistics:\r\n",
      "  Matrix range     [1e+00, 1e+13]\r\n",
      "  QMatrix range    [2e+10, 1e+13]\r\n",
      "  QLMatrix range   [8e+08, 7e+11]\r\n",
      "  Objective range  [1e+00, 1e+00]\r\n",
      "  Bounds range     [1e+00, 1e+00]\r\n",
      "  RHS range        [1e+00, 1e+00]\r\n",
      "Warning: Model contains large matrix coefficient range\r\n",
      "Warning: Quadratic constraint contains large coefficients\r\n",
      "Warning: Quadratic constraint contains large coefficients on linear part\r\n",
      "         Consider reformulating model or setting NumericFocus parameter\r\n",
      "         to avoid numerical issues.\r\n",
      "Presolve removed 468 rows and 375 columns\r\n",
      "\r\n",
      "Continuous model is non-convex -- solving as a MIP.\r\n",
      "\r\n",
      "Presolve removed 468 rows and 375 columns\r\n",
      "Presolve time: 0.00s\r\n",
      "Presolved: 387 rows, 188 columns, 1023 nonzeros\r\n",
      "Presolved model has 93 bilinear constraint(s)\r\n",
      "Variable types: 188 continuous, 0 integer (0 binary)\r\n",
      "\r\n",
      "Root relaxation: objective 1.442099e-03, 116 iterations, 0.00 seconds\r\n",
      "\r\n",
      "    Nodes    |    Current Node    |     Objective Bounds      |     Work\r\n",
      " Expl Unexpl |  Obj  Depth IntInf | Incumbent    BestBd   Gap | It/Node Time\r\n",
      "\r\n",
      "     0     0    0.00144    0   71          -    0.00144      -     -    0s\r\n",
      "     0     0    0.00144    0   81          -    0.00144      -     -    0s\r\n",
      "     0     2    0.00144    0   81          -    0.00144      -     -    0s\r\n",
      "*   10     2               5       0.0628453    0.00298  95.3%   104    0s\r\n",
      "*   21     2              11       0.0232252    0.02115  8.92%   124    0s\r\n",
      "*   28     4              13       0.0217071    0.02154  0.78%   104    0s\r\n",
      "*   29     2              14       0.0215910    0.02154  0.24%   101    0s\r\n",
      "*   30     2              14       0.0215365    0.02154  0.00%   101    0s\r\n",
      "\r\n",
      "Explored 33 nodes (3413 simplex iterations) in 0.10 seconds\r\n",
      "Thread count was 12 (of 12 available processors)\r\n",
      "\r\n",
      "Solution count 5: 0.0215365 0.021591 0.0217071 ... 0.0628453\r\n",
      "\r\n",
      "Optimal solution found (tolerance 1.00e-04)\r\n",
      "Warning: max constraint violation (5.6458e-04) exceeds tolerance\r\n",
      "Best objective 2.153646750626e-02, best bound 2.153646750626e-02, gap 0.0000%\r\n",
      "\r\n",
      "User-callback calls 165, time in user-callback 0.00 sec\r\n",
      "Academic license - for non-commercial use only - expires 2023-11-27\r\n",
      "Gurobi Optimizer version 9.1.2 build v9.1.2rc0 (win64)\r\n",
      "Thread count: 6 physical cores, 12 logical processors, using up to 12 threads\r\n",
      "Optimize a model with 482 rows, 469 columns and 1404 nonzeros\r\n",
      "Model fingerprint: 0x0dfbd974\r\n",
      "Model has 1 quadratic constraint\r\n",
      "Coefficient statistics:\r\n",
      "  Matrix range     [1e+00, 1e+13]\r\n",
      "  QMatrix range    [2e+10, 1e+13]\r\n",
      "  QLMatrix range   [8e+08, 7e+11]\r\n",
      "  Objective range  [1e+00, 1e+00]\r\n",
      "  Bounds range     [1e+00, 1e+00]\r\n",
      "  RHS range        [1e+00, 1e+00]\r\n",
      "Warning: Model contains large matrix coefficient range\r\n",
      "Warning: Quadratic constraint contains large coefficients\r\n",
      "Warning: Quadratic constraint contains large coefficients on linear part\r\n",
      "         Consider reformulating model or setting NumericFocus parameter\r\n",
      "         to avoid numerical issues.\r\n",
      "Presolve removed 468 rows and 375 columns\r\n",
      "\r\n",
      "Continuous model is non-convex -- solving as a MIP.\r\n",
      "\r\n",
      "Presolve removed 468 rows and 375 columns\r\n",
      "Presolve time: 0.00s\r\n",
      "Presolved: 387 rows, 188 columns, 1023 nonzeros\r\n",
      "Presolved model has 93 bilinear constraint(s)\r\n",
      "Variable types: 188 continuous, 0 integer (0 binary)\r\n",
      "\r\n",
      "Root relaxation: objective 2.041606e-03, 122 iterations, 0.00 seconds\r\n",
      "\r\n",
      "    Nodes    |    Current Node    |     Objective Bounds      |     Work\r\n",
      " Expl Unexpl |  Obj  Depth IntInf | Incumbent    BestBd   Gap | It/Node Time\r\n",
      "\r\n",
      "     0     0    0.00204    0   76          -    0.00204      -     -    0s\r\n",
      "*    0     0               0       0.0248361    0.02484  0.00%     -    0s\r\n",
      "\r\n",
      "Explored 1 nodes (397 simplex iterations) in 0.02 seconds\r\n",
      "Thread count was 12 (of 12 available processors)\r\n",
      "\r\n",
      "Solution count 1: 0.0248361 \r\n",
      "\r\n",
      "Optimal solution found (tolerance 1.00e-04)\r\n",
      "Warning: max constraint violation (4.3488e-04) exceeds tolerance\r\n",
      "Best objective 2.483611521810e-02, best bound 2.483611521810e-02, gap 0.0000%\r\n",
      "\r\n",
      "User-callback calls 74, time in user-callback 0.00 sec\r\n"
     ]
    }
   ],
   "source": [
    "N = 4\n",
    "ep = (obj1_ - obj1) / (N)\n",
    "res = []\n",
    "# push!(res, objective)\n",
    "\n",
    "for i in 0:N\n",
    "    model = Model(Gurobi.Optimizer)\n",
    "    set_optimizer_attribute(model, \"NonConvex\", 2);\n",
    "\n",
    "    @variable(model, 0 <= x[1:n, 1:m] <= 1)\n",
    "    @variable(model, obj >= 0);\n",
    "\n",
    "    @constraint(model, job_full[j in 1:m], sum(x[i, j] for i in 1:n) == 1);\n",
    "    @constraint(model, country_job[i in 1:n, j in 1:m], x[i, j] <= com[i,j]);\n",
    "    @constraint(model, obj*(sum(D'*x)) == (sum(Dsoc'*x)))\n",
    "    @constraint(model, sum(D'*x) == sum(S'*x) * (obj1_ - i * ep) );\n",
    "\n",
    "    @objective(model, Min, obj);\n",
    "    \n",
    "    JuMP.optimize!(model)\n",
    "    sol = JuMP.value.(x)\n",
    "    obj = JuMP.objective_value(model);\n",
    "    \n",
    "    push!(res, obj)\n",
    "    \n",
    "end"
   ]
  },
  {
   "cell_type": "code",
   "execution_count": 13,
   "id": "f3344c99",
   "metadata": {},
   "outputs": [
    {
     "data": {
      "text/plain": [
       "5-element Vector{Any}:\n",
       " 0.01940392474927626\n",
       " 0.019686894783425814\n",
       " 0.0202376861391025\n",
       " 0.021536467506257418\n",
       " 0.024836115218104197"
      ]
     },
     "execution_count": 13,
     "metadata": {},
     "output_type": "execute_result"
    }
   ],
   "source": [
    "res"
   ]
  },
  {
   "cell_type": "code",
   "execution_count": 15,
   "id": "e378565c",
   "metadata": {},
   "outputs": [
    {
     "data": {
      "text/plain": [
       "1.244132261861857"
      ]
     },
     "execution_count": 15,
     "metadata": {},
     "output_type": "execute_result"
    }
   ],
   "source": [
    "obj1_ - 4 * ep"
   ]
  },
  {
   "cell_type": "code",
   "execution_count": 16,
   "id": "98350892",
   "metadata": {},
   "outputs": [],
   "source": [
    "ls = []\n",
    "for i in 0: 4\n",
    "    push!(ls, obj1_ - i * ep)\n",
    "end"
   ]
  },
  {
   "cell_type": "code",
   "execution_count": 18,
   "id": "9788f919",
   "metadata": {},
   "outputs": [
    {
     "data": {
      "text/plain": [
       "5-element Vector{Any}:\n",
       " 2.8705322210654884\n",
       " 2.4639322312645806\n",
       " 2.0573322414636728\n",
       " 1.650732251662765\n",
       " 1.244132261861857"
      ]
     },
     "execution_count": 18,
     "metadata": {},
     "output_type": "execute_result"
    }
   ],
   "source": [
    "ls"
   ]
  },
  {
   "cell_type": "code",
   "execution_count": 17,
   "id": "445ff5c5",
   "metadata": {},
   "outputs": [
    {
     "data": {
      "image/svg+xml": [
       "<?xml version=\"1.0\" encoding=\"utf-8\"?>\n",
       "<svg xmlns=\"http://www.w3.org/2000/svg\" xmlns:xlink=\"http://www.w3.org/1999/xlink\" width=\"600\" height=\"400\" viewBox=\"0 0 2400 1600\">\n",
       "<defs>\n",
       "  <clipPath id=\"clip670\">\n",
       "    <rect x=\"0\" y=\"0\" width=\"2400\" height=\"1600\"/>\n",
       "  </clipPath>\n",
       "</defs>\n",
       "<path clip-path=\"url(#clip670)\" d=\"\n",
       "M0 1600 L2400 1600 L2400 0 L0 0  Z\n",
       "  \" fill=\"#ffffff\" fill-rule=\"evenodd\" fill-opacity=\"1\"/>\n",
       "<defs>\n",
       "  <clipPath id=\"clip671\">\n",
       "    <rect x=\"480\" y=\"0\" width=\"1681\" height=\"1600\"/>\n",
       "  </clipPath>\n",
       "</defs>\n",
       "<path clip-path=\"url(#clip670)\" d=\"\n",
       "M280.19 1423.18 L2352.76 1423.18 L2352.76 123.472 L280.19 123.472  Z\n",
       "  \" fill=\"#ffffff\" fill-rule=\"evenodd\" fill-opacity=\"1\"/>\n",
       "<defs>\n",
       "  <clipPath id=\"clip672\">\n",
       "    <rect x=\"280\" y=\"123\" width=\"2074\" height=\"1301\"/>\n",
       "  </clipPath>\n",
       "</defs>\n",
       "<polyline clip-path=\"url(#clip672)\" style=\"stroke:#000000; stroke-linecap:round; stroke-linejoin:round; stroke-width:2; stroke-opacity:0.1; fill:none\" points=\"\n",
       "  345.902,1423.18 345.902,123.472 \n",
       "  \"/>\n",
       "<polyline clip-path=\"url(#clip672)\" style=\"stroke:#000000; stroke-linecap:round; stroke-linejoin:round; stroke-width:2; stroke-opacity:0.1; fill:none\" points=\"\n",
       "  646.451,1423.18 646.451,123.472 \n",
       "  \"/>\n",
       "<polyline clip-path=\"url(#clip672)\" style=\"stroke:#000000; stroke-linecap:round; stroke-linejoin:round; stroke-width:2; stroke-opacity:0.1; fill:none\" points=\"\n",
       "  946.999,1423.18 946.999,123.472 \n",
       "  \"/>\n",
       "<polyline clip-path=\"url(#clip672)\" style=\"stroke:#000000; stroke-linecap:round; stroke-linejoin:round; stroke-width:2; stroke-opacity:0.1; fill:none\" points=\"\n",
       "  1247.55,1423.18 1247.55,123.472 \n",
       "  \"/>\n",
       "<polyline clip-path=\"url(#clip672)\" style=\"stroke:#000000; stroke-linecap:round; stroke-linejoin:round; stroke-width:2; stroke-opacity:0.1; fill:none\" points=\"\n",
       "  1548.1,1423.18 1548.1,123.472 \n",
       "  \"/>\n",
       "<polyline clip-path=\"url(#clip672)\" style=\"stroke:#000000; stroke-linecap:round; stroke-linejoin:round; stroke-width:2; stroke-opacity:0.1; fill:none\" points=\"\n",
       "  1848.65,1423.18 1848.65,123.472 \n",
       "  \"/>\n",
       "<polyline clip-path=\"url(#clip672)\" style=\"stroke:#000000; stroke-linecap:round; stroke-linejoin:round; stroke-width:2; stroke-opacity:0.1; fill:none\" points=\"\n",
       "  2149.2,1423.18 2149.2,123.472 \n",
       "  \"/>\n",
       "<polyline clip-path=\"url(#clip670)\" style=\"stroke:#000000; stroke-linecap:round; stroke-linejoin:round; stroke-width:4; stroke-opacity:1; fill:none\" points=\"\n",
       "  280.19,1423.18 2352.76,1423.18 \n",
       "  \"/>\n",
       "<polyline clip-path=\"url(#clip670)\" style=\"stroke:#000000; stroke-linecap:round; stroke-linejoin:round; stroke-width:4; stroke-opacity:1; fill:none\" points=\"\n",
       "  345.902,1423.18 345.902,1404.28 \n",
       "  \"/>\n",
       "<polyline clip-path=\"url(#clip670)\" style=\"stroke:#000000; stroke-linecap:round; stroke-linejoin:round; stroke-width:4; stroke-opacity:1; fill:none\" points=\"\n",
       "  646.451,1423.18 646.451,1404.28 \n",
       "  \"/>\n",
       "<polyline clip-path=\"url(#clip670)\" style=\"stroke:#000000; stroke-linecap:round; stroke-linejoin:round; stroke-width:4; stroke-opacity:1; fill:none\" points=\"\n",
       "  946.999,1423.18 946.999,1404.28 \n",
       "  \"/>\n",
       "<polyline clip-path=\"url(#clip670)\" style=\"stroke:#000000; stroke-linecap:round; stroke-linejoin:round; stroke-width:4; stroke-opacity:1; fill:none\" points=\"\n",
       "  1247.55,1423.18 1247.55,1404.28 \n",
       "  \"/>\n",
       "<polyline clip-path=\"url(#clip670)\" style=\"stroke:#000000; stroke-linecap:round; stroke-linejoin:round; stroke-width:4; stroke-opacity:1; fill:none\" points=\"\n",
       "  1548.1,1423.18 1548.1,1404.28 \n",
       "  \"/>\n",
       "<polyline clip-path=\"url(#clip670)\" style=\"stroke:#000000; stroke-linecap:round; stroke-linejoin:round; stroke-width:4; stroke-opacity:1; fill:none\" points=\"\n",
       "  1848.65,1423.18 1848.65,1404.28 \n",
       "  \"/>\n",
       "<polyline clip-path=\"url(#clip670)\" style=\"stroke:#000000; stroke-linecap:round; stroke-linejoin:round; stroke-width:4; stroke-opacity:1; fill:none\" points=\"\n",
       "  2149.2,1423.18 2149.2,1404.28 \n",
       "  \"/>\n",
       "<path clip-path=\"url(#clip670)\" d=\"M298.471 1481.64 L306.11 1481.64 L306.11 1455.28 L297.8 1456.95 L297.8 1452.69 L306.064 1451.02 L310.74 1451.02 L310.74 1481.64 L318.379 1481.64 L318.379 1485.58 L298.471 1485.58 L298.471 1481.64 Z\" fill=\"#000000\" fill-rule=\"evenodd\" fill-opacity=\"1\" /><path clip-path=\"url(#clip670)\" d=\"M327.823 1479.7 L332.707 1479.7 L332.707 1485.58 L327.823 1485.58 L327.823 1479.7 Z\" fill=\"#000000\" fill-rule=\"evenodd\" fill-opacity=\"1\" /><path clip-path=\"url(#clip670)\" d=\"M346.92 1481.64 L363.24 1481.64 L363.24 1485.58 L341.295 1485.58 L341.295 1481.64 Q343.957 1478.89 348.541 1474.26 Q353.147 1469.61 354.328 1468.27 Q356.573 1465.74 357.453 1464.01 Q358.355 1462.25 358.355 1460.56 Q358.355 1457.8 356.411 1456.07 Q354.49 1454.33 351.388 1454.33 Q349.189 1454.33 346.735 1455.09 Q344.304 1455.86 341.527 1457.41 L341.527 1452.69 Q344.351 1451.55 346.804 1450.97 Q349.258 1450.39 351.295 1450.39 Q356.666 1450.39 359.86 1453.08 Q363.054 1455.77 363.054 1460.26 Q363.054 1462.39 362.244 1464.31 Q361.457 1466.2 359.351 1468.8 Q358.772 1469.47 355.67 1472.69 Q352.568 1475.88 346.92 1481.64 Z\" fill=\"#000000\" fill-rule=\"evenodd\" fill-opacity=\"1\" /><path clip-path=\"url(#clip670)\" d=\"M373.101 1451.02 L391.457 1451.02 L391.457 1454.96 L377.383 1454.96 L377.383 1463.43 Q378.402 1463.08 379.42 1462.92 Q380.439 1462.73 381.457 1462.73 Q387.244 1462.73 390.624 1465.9 Q394.003 1469.08 394.003 1474.49 Q394.003 1480.07 390.531 1483.17 Q387.059 1486.25 380.739 1486.25 Q378.564 1486.25 376.295 1485.88 Q374.05 1485.51 371.642 1484.77 L371.642 1480.07 Q373.726 1481.2 375.948 1481.76 Q378.17 1482.32 380.647 1482.32 Q384.652 1482.32 386.989 1480.21 Q389.327 1478.1 389.327 1474.49 Q389.327 1470.88 386.989 1468.77 Q384.652 1466.67 380.647 1466.67 Q378.772 1466.67 376.897 1467.08 Q375.045 1467.5 373.101 1468.38 L373.101 1451.02 Z\" fill=\"#000000\" fill-rule=\"evenodd\" fill-opacity=\"1\" /><path clip-path=\"url(#clip670)\" d=\"M598.523 1481.64 L606.161 1481.64 L606.161 1455.28 L597.851 1456.95 L597.851 1452.69 L606.115 1451.02 L610.791 1451.02 L610.791 1481.64 L618.43 1481.64 L618.43 1485.58 L598.523 1485.58 L598.523 1481.64 Z\" fill=\"#000000\" fill-rule=\"evenodd\" fill-opacity=\"1\" /><path clip-path=\"url(#clip670)\" d=\"M627.874 1479.7 L632.759 1479.7 L632.759 1485.58 L627.874 1485.58 L627.874 1479.7 Z\" fill=\"#000000\" fill-rule=\"evenodd\" fill-opacity=\"1\" /><path clip-path=\"url(#clip670)\" d=\"M642.99 1451.02 L661.346 1451.02 L661.346 1454.96 L647.272 1454.96 L647.272 1463.43 Q648.291 1463.08 649.309 1462.92 Q650.328 1462.73 651.346 1462.73 Q657.133 1462.73 660.513 1465.9 Q663.893 1469.08 663.893 1474.49 Q663.893 1480.07 660.42 1483.17 Q656.948 1486.25 650.629 1486.25 Q648.453 1486.25 646.184 1485.88 Q643.939 1485.51 641.532 1484.77 L641.532 1480.07 Q643.615 1481.2 645.837 1481.76 Q648.059 1482.32 650.536 1482.32 Q654.541 1482.32 656.879 1480.21 Q659.217 1478.1 659.217 1474.49 Q659.217 1470.88 656.879 1468.77 Q654.541 1466.67 650.536 1466.67 Q648.661 1466.67 646.786 1467.08 Q644.934 1467.5 642.99 1468.38 L642.99 1451.02 Z\" fill=\"#000000\" fill-rule=\"evenodd\" fill-opacity=\"1\" /><path clip-path=\"url(#clip670)\" d=\"M683.106 1454.1 Q679.494 1454.1 677.666 1457.66 Q675.86 1461.2 675.86 1468.33 Q675.86 1475.44 677.666 1479.01 Q679.494 1482.55 683.106 1482.55 Q686.74 1482.55 688.545 1479.01 Q690.374 1475.44 690.374 1468.33 Q690.374 1461.2 688.545 1457.66 Q686.74 1454.1 683.106 1454.1 M683.106 1450.39 Q688.916 1450.39 691.971 1455 Q695.05 1459.58 695.05 1468.33 Q695.05 1477.06 691.971 1481.67 Q688.916 1486.25 683.106 1486.25 Q677.295 1486.25 674.217 1481.67 Q671.161 1477.06 671.161 1468.33 Q671.161 1459.58 674.217 1455 Q677.295 1450.39 683.106 1450.39 Z\" fill=\"#000000\" fill-rule=\"evenodd\" fill-opacity=\"1\" /><path clip-path=\"url(#clip670)\" d=\"M899.569 1481.64 L907.208 1481.64 L907.208 1455.28 L898.898 1456.95 L898.898 1452.69 L907.162 1451.02 L911.838 1451.02 L911.838 1481.64 L919.476 1481.64 L919.476 1485.58 L899.569 1485.58 L899.569 1481.64 Z\" fill=\"#000000\" fill-rule=\"evenodd\" fill-opacity=\"1\" /><path clip-path=\"url(#clip670)\" d=\"M928.921 1479.7 L933.805 1479.7 L933.805 1485.58 L928.921 1485.58 L928.921 1479.7 Z\" fill=\"#000000\" fill-rule=\"evenodd\" fill-opacity=\"1\" /><path clip-path=\"url(#clip670)\" d=\"M942.81 1451.02 L965.032 1451.02 L965.032 1453.01 L952.486 1485.58 L947.601 1485.58 L959.407 1454.96 L942.81 1454.96 L942.81 1451.02 Z\" fill=\"#000000\" fill-rule=\"evenodd\" fill-opacity=\"1\" /><path clip-path=\"url(#clip670)\" d=\"M974.198 1451.02 L992.555 1451.02 L992.555 1454.96 L978.481 1454.96 L978.481 1463.43 Q979.499 1463.08 980.518 1462.92 Q981.536 1462.73 982.555 1462.73 Q988.342 1462.73 991.721 1465.9 Q995.101 1469.08 995.101 1474.49 Q995.101 1480.07 991.629 1483.17 Q988.157 1486.25 981.837 1486.25 Q979.661 1486.25 977.393 1485.88 Q975.147 1485.51 972.74 1484.77 L972.74 1480.07 Q974.823 1481.2 977.046 1481.76 Q979.268 1482.32 981.745 1482.32 Q985.749 1482.32 988.087 1480.21 Q990.425 1478.1 990.425 1474.49 Q990.425 1470.88 988.087 1468.77 Q985.749 1466.67 981.745 1466.67 Q979.87 1466.67 977.995 1467.08 Q976.143 1467.5 974.198 1468.38 L974.198 1451.02 Z\" fill=\"#000000\" fill-rule=\"evenodd\" fill-opacity=\"1\" /><path clip-path=\"url(#clip670)\" d=\"M1203.71 1481.64 L1220.03 1481.64 L1220.03 1485.58 L1198.08 1485.58 L1198.08 1481.64 Q1200.74 1478.89 1205.33 1474.26 Q1209.93 1469.61 1211.11 1468.27 Q1213.36 1465.74 1214.24 1464.01 Q1215.14 1462.25 1215.14 1460.56 Q1215.14 1457.8 1213.2 1456.07 Q1211.28 1454.33 1208.17 1454.33 Q1205.97 1454.33 1203.52 1455.09 Q1201.09 1455.86 1198.31 1457.41 L1198.31 1452.69 Q1201.14 1451.55 1203.59 1450.97 Q1206.04 1450.39 1208.08 1450.39 Q1213.45 1450.39 1216.65 1453.08 Q1219.84 1455.77 1219.84 1460.26 Q1219.84 1462.39 1219.03 1464.31 Q1218.24 1466.2 1216.14 1468.8 Q1215.56 1469.47 1212.46 1472.69 Q1209.35 1475.88 1203.71 1481.64 Z\" fill=\"#000000\" fill-rule=\"evenodd\" fill-opacity=\"1\" /><path clip-path=\"url(#clip670)\" d=\"M1229.84 1479.7 L1234.72 1479.7 L1234.72 1485.58 L1229.84 1485.58 L1229.84 1479.7 Z\" fill=\"#000000\" fill-rule=\"evenodd\" fill-opacity=\"1\" /><path clip-path=\"url(#clip670)\" d=\"M1254.91 1454.1 Q1251.3 1454.1 1249.47 1457.66 Q1247.66 1461.2 1247.66 1468.33 Q1247.66 1475.44 1249.47 1479.01 Q1251.3 1482.55 1254.91 1482.55 Q1258.54 1482.55 1260.35 1479.01 Q1262.18 1475.44 1262.18 1468.33 Q1262.18 1461.2 1260.35 1457.66 Q1258.54 1454.1 1254.91 1454.1 M1254.91 1450.39 Q1260.72 1450.39 1263.78 1455 Q1266.85 1459.58 1266.85 1468.33 Q1266.85 1477.06 1263.78 1481.67 Q1260.72 1486.25 1254.91 1486.25 Q1249.1 1486.25 1246.02 1481.67 Q1242.97 1477.06 1242.97 1468.33 Q1242.97 1459.58 1246.02 1455 Q1249.1 1450.39 1254.91 1450.39 Z\" fill=\"#000000\" fill-rule=\"evenodd\" fill-opacity=\"1\" /><path clip-path=\"url(#clip670)\" d=\"M1285.07 1454.1 Q1281.46 1454.1 1279.63 1457.66 Q1277.83 1461.2 1277.83 1468.33 Q1277.83 1475.44 1279.63 1479.01 Q1281.46 1482.55 1285.07 1482.55 Q1288.71 1482.55 1290.51 1479.01 Q1292.34 1475.44 1292.34 1468.33 Q1292.34 1461.2 1290.51 1457.66 Q1288.71 1454.1 1285.07 1454.1 M1285.07 1450.39 Q1290.88 1450.39 1293.94 1455 Q1297.02 1459.58 1297.02 1468.33 Q1297.02 1477.06 1293.94 1481.67 Q1290.88 1486.25 1285.07 1486.25 Q1279.26 1486.25 1276.18 1481.67 Q1273.13 1477.06 1273.13 1468.33 Q1273.13 1459.58 1276.18 1455 Q1279.26 1450.39 1285.07 1450.39 Z\" fill=\"#000000\" fill-rule=\"evenodd\" fill-opacity=\"1\" /><path clip-path=\"url(#clip670)\" d=\"M1504.75 1481.64 L1521.07 1481.64 L1521.07 1485.58 L1499.13 1485.58 L1499.13 1481.64 Q1501.79 1478.89 1506.37 1474.26 Q1510.98 1469.61 1512.16 1468.27 Q1514.41 1465.74 1515.28 1464.01 Q1516.19 1462.25 1516.19 1460.56 Q1516.19 1457.8 1514.24 1456.07 Q1512.32 1454.33 1509.22 1454.33 Q1507.02 1454.33 1504.57 1455.09 Q1502.14 1455.86 1499.36 1457.41 L1499.36 1452.69 Q1502.18 1451.55 1504.64 1450.97 Q1507.09 1450.39 1509.13 1450.39 Q1514.5 1450.39 1517.69 1453.08 Q1520.89 1455.77 1520.89 1460.26 Q1520.89 1462.39 1520.08 1464.31 Q1519.29 1466.2 1517.18 1468.8 Q1516.6 1469.47 1513.5 1472.69 Q1510.4 1475.88 1504.75 1481.64 Z\" fill=\"#000000\" fill-rule=\"evenodd\" fill-opacity=\"1\" /><path clip-path=\"url(#clip670)\" d=\"M1530.89 1479.7 L1535.77 1479.7 L1535.77 1485.58 L1530.89 1485.58 L1530.89 1479.7 Z\" fill=\"#000000\" fill-rule=\"evenodd\" fill-opacity=\"1\" /><path clip-path=\"url(#clip670)\" d=\"M1549.98 1481.64 L1566.3 1481.64 L1566.3 1485.58 L1544.36 1485.58 L1544.36 1481.64 Q1547.02 1478.89 1551.6 1474.26 Q1556.21 1469.61 1557.39 1468.27 Q1559.64 1465.74 1560.52 1464.01 Q1561.42 1462.25 1561.42 1460.56 Q1561.42 1457.8 1559.47 1456.07 Q1557.55 1454.33 1554.45 1454.33 Q1552.25 1454.33 1549.8 1455.09 Q1547.37 1455.86 1544.59 1457.41 L1544.59 1452.69 Q1547.41 1451.55 1549.87 1450.97 Q1552.32 1450.39 1554.36 1450.39 Q1559.73 1450.39 1562.92 1453.08 Q1566.12 1455.77 1566.12 1460.26 Q1566.12 1462.39 1565.31 1464.31 Q1564.52 1466.2 1562.41 1468.8 Q1561.84 1469.47 1558.73 1472.69 Q1555.63 1475.88 1549.98 1481.64 Z\" fill=\"#000000\" fill-rule=\"evenodd\" fill-opacity=\"1\" /><path clip-path=\"url(#clip670)\" d=\"M1576.16 1451.02 L1594.52 1451.02 L1594.52 1454.96 L1580.45 1454.96 L1580.45 1463.43 Q1581.47 1463.08 1582.48 1462.92 Q1583.5 1462.73 1584.52 1462.73 Q1590.31 1462.73 1593.69 1465.9 Q1597.07 1469.08 1597.07 1474.49 Q1597.07 1480.07 1593.59 1483.17 Q1590.12 1486.25 1583.8 1486.25 Q1581.63 1486.25 1579.36 1485.88 Q1577.11 1485.51 1574.71 1484.77 L1574.71 1480.07 Q1576.79 1481.2 1579.01 1481.76 Q1581.23 1482.32 1583.71 1482.32 Q1587.72 1482.32 1590.05 1480.21 Q1592.39 1478.1 1592.39 1474.49 Q1592.39 1470.88 1590.05 1468.77 Q1587.72 1466.67 1583.71 1466.67 Q1581.84 1466.67 1579.96 1467.08 Q1578.11 1467.5 1576.16 1468.38 L1576.16 1451.02 Z\" fill=\"#000000\" fill-rule=\"evenodd\" fill-opacity=\"1\" /><path clip-path=\"url(#clip670)\" d=\"M1804.8 1481.64 L1821.12 1481.64 L1821.12 1485.58 L1799.18 1485.58 L1799.18 1481.64 Q1801.84 1478.89 1806.42 1474.26 Q1811.03 1469.61 1812.21 1468.27 Q1814.46 1465.74 1815.34 1464.01 Q1816.24 1462.25 1816.24 1460.56 Q1816.24 1457.8 1814.29 1456.07 Q1812.37 1454.33 1809.27 1454.33 Q1807.07 1454.33 1804.62 1455.09 Q1802.19 1455.86 1799.41 1457.41 L1799.41 1452.69 Q1802.23 1451.55 1804.69 1450.97 Q1807.14 1450.39 1809.18 1450.39 Q1814.55 1450.39 1817.74 1453.08 Q1820.94 1455.77 1820.94 1460.26 Q1820.94 1462.39 1820.13 1464.31 Q1819.34 1466.2 1817.23 1468.8 Q1816.66 1469.47 1813.55 1472.69 Q1810.45 1475.88 1804.8 1481.64 Z\" fill=\"#000000\" fill-rule=\"evenodd\" fill-opacity=\"1\" /><path clip-path=\"url(#clip670)\" d=\"M1830.94 1479.7 L1835.82 1479.7 L1835.82 1485.58 L1830.94 1485.58 L1830.94 1479.7 Z\" fill=\"#000000\" fill-rule=\"evenodd\" fill-opacity=\"1\" /><path clip-path=\"url(#clip670)\" d=\"M1846.05 1451.02 L1864.41 1451.02 L1864.41 1454.96 L1850.34 1454.96 L1850.34 1463.43 Q1851.35 1463.08 1852.37 1462.92 Q1853.39 1462.73 1854.41 1462.73 Q1860.2 1462.73 1863.58 1465.9 Q1866.96 1469.08 1866.96 1474.49 Q1866.96 1480.07 1863.48 1483.17 Q1860.01 1486.25 1853.69 1486.25 Q1851.52 1486.25 1849.25 1485.88 Q1847 1485.51 1844.6 1484.77 L1844.6 1480.07 Q1846.68 1481.2 1848.9 1481.76 Q1851.12 1482.32 1853.6 1482.32 Q1857.6 1482.32 1859.94 1480.21 Q1862.28 1478.1 1862.28 1474.49 Q1862.28 1470.88 1859.94 1468.77 Q1857.6 1466.67 1853.6 1466.67 Q1851.72 1466.67 1849.85 1467.08 Q1848 1467.5 1846.05 1468.38 L1846.05 1451.02 Z\" fill=\"#000000\" fill-rule=\"evenodd\" fill-opacity=\"1\" /><path clip-path=\"url(#clip670)\" d=\"M1886.17 1454.1 Q1882.56 1454.1 1880.73 1457.66 Q1878.92 1461.2 1878.92 1468.33 Q1878.92 1475.44 1880.73 1479.01 Q1882.56 1482.55 1886.17 1482.55 Q1889.8 1482.55 1891.61 1479.01 Q1893.44 1475.44 1893.44 1468.33 Q1893.44 1461.2 1891.61 1457.66 Q1889.8 1454.1 1886.17 1454.1 M1886.17 1450.39 Q1891.98 1450.39 1895.03 1455 Q1898.11 1459.58 1898.11 1468.33 Q1898.11 1477.06 1895.03 1481.67 Q1891.98 1486.25 1886.17 1486.25 Q1880.36 1486.25 1877.28 1481.67 Q1874.22 1477.06 1874.22 1468.33 Q1874.22 1459.58 1877.28 1455 Q1880.36 1450.39 1886.17 1450.39 Z\" fill=\"#000000\" fill-rule=\"evenodd\" fill-opacity=\"1\" /><path clip-path=\"url(#clip670)\" d=\"M2105.85 1481.64 L2122.17 1481.64 L2122.17 1485.58 L2100.23 1485.58 L2100.23 1481.64 Q2102.89 1478.89 2107.47 1474.26 Q2112.08 1469.61 2113.26 1468.27 Q2115.5 1465.74 2116.38 1464.01 Q2117.29 1462.25 2117.29 1460.56 Q2117.29 1457.8 2115.34 1456.07 Q2113.42 1454.33 2110.32 1454.33 Q2108.12 1454.33 2105.67 1455.09 Q2103.23 1455.86 2100.46 1457.41 L2100.46 1452.69 Q2103.28 1451.55 2105.73 1450.97 Q2108.19 1450.39 2110.23 1450.39 Q2115.6 1450.39 2118.79 1453.08 Q2121.98 1455.77 2121.98 1460.26 Q2121.98 1462.39 2121.17 1464.31 Q2120.39 1466.2 2118.28 1468.8 Q2117.7 1469.47 2114.6 1472.69 Q2111.5 1475.88 2105.85 1481.64 Z\" fill=\"#000000\" fill-rule=\"evenodd\" fill-opacity=\"1\" /><path clip-path=\"url(#clip670)\" d=\"M2131.98 1479.7 L2136.87 1479.7 L2136.87 1485.58 L2131.98 1485.58 L2131.98 1479.7 Z\" fill=\"#000000\" fill-rule=\"evenodd\" fill-opacity=\"1\" /><path clip-path=\"url(#clip670)\" d=\"M2145.87 1451.02 L2168.1 1451.02 L2168.1 1453.01 L2155.55 1485.58 L2150.66 1485.58 L2162.47 1454.96 L2145.87 1454.96 L2145.87 1451.02 Z\" fill=\"#000000\" fill-rule=\"evenodd\" fill-opacity=\"1\" /><path clip-path=\"url(#clip670)\" d=\"M2177.26 1451.02 L2195.62 1451.02 L2195.62 1454.96 L2181.54 1454.96 L2181.54 1463.43 Q2182.56 1463.08 2183.58 1462.92 Q2184.6 1462.73 2185.62 1462.73 Q2191.41 1462.73 2194.79 1465.9 Q2198.16 1469.08 2198.16 1474.49 Q2198.16 1480.07 2194.69 1483.17 Q2191.22 1486.25 2184.9 1486.25 Q2182.72 1486.25 2180.46 1485.88 Q2178.21 1485.51 2175.8 1484.77 L2175.8 1480.07 Q2177.89 1481.2 2180.11 1481.76 Q2182.33 1482.32 2184.81 1482.32 Q2188.81 1482.32 2191.15 1480.21 Q2193.49 1478.1 2193.49 1474.49 Q2193.49 1470.88 2191.15 1468.77 Q2188.81 1466.67 2184.81 1466.67 Q2182.93 1466.67 2181.06 1467.08 Q2179.21 1467.5 2177.26 1468.38 L2177.26 1451.02 Z\" fill=\"#000000\" fill-rule=\"evenodd\" fill-opacity=\"1\" /><path clip-path=\"url(#clip670)\" d=\"M1046.38 1520.52 L1076.42 1520.52 L1076.42 1525.93 L1052.81 1525.93 L1052.81 1540 L1075.44 1540 L1075.44 1545.41 L1052.81 1545.41 L1052.81 1562.63 L1077 1562.63 L1077 1568.04 L1046.38 1568.04 L1046.38 1520.52 Z\" fill=\"#000000\" fill-rule=\"evenodd\" fill-opacity=\"1\" /><path clip-path=\"url(#clip670)\" d=\"M1112.96 1533.76 L1112.96 1539.24 Q1110.48 1537.87 1107.96 1537.2 Q1105.48 1536.5 1102.94 1536.5 Q1097.24 1536.5 1094.09 1540.13 Q1090.94 1543.73 1090.94 1550.25 Q1090.94 1556.78 1094.09 1560.4 Q1097.24 1564 1102.94 1564 Q1105.48 1564 1107.96 1563.33 Q1110.48 1562.63 1112.96 1561.26 L1112.96 1566.68 Q1110.51 1567.82 1107.87 1568.39 Q1105.26 1568.97 1102.3 1568.97 Q1094.25 1568.97 1089.5 1563.91 Q1084.76 1558.85 1084.76 1550.25 Q1084.76 1541.53 1089.54 1536.53 Q1094.34 1531.54 1102.68 1531.54 Q1105.39 1531.54 1107.96 1532.11 Q1110.54 1532.65 1112.96 1533.76 Z\" fill=\"#000000\" fill-rule=\"evenodd\" fill-opacity=\"1\" /><path clip-path=\"url(#clip670)\" d=\"M1136.96 1536.5 Q1132.25 1536.5 1129.51 1540.19 Q1126.77 1543.85 1126.77 1550.25 Q1126.77 1556.65 1129.48 1560.34 Q1132.22 1564 1136.96 1564 Q1141.64 1564 1144.38 1560.31 Q1147.11 1556.62 1147.11 1550.25 Q1147.11 1543.92 1144.38 1540.23 Q1141.64 1536.5 1136.96 1536.5 M1136.96 1531.54 Q1144.6 1531.54 1148.96 1536.5 Q1153.32 1541.47 1153.32 1550.25 Q1153.32 1559 1148.96 1564 Q1144.6 1568.97 1136.96 1568.97 Q1129.29 1568.97 1124.93 1564 Q1120.6 1559 1120.6 1550.25 Q1120.6 1541.47 1124.93 1536.5 Q1129.29 1531.54 1136.96 1531.54 Z\" fill=\"#000000\" fill-rule=\"evenodd\" fill-opacity=\"1\" /><path clip-path=\"url(#clip670)\" d=\"M1163.03 1518.52 L1168.88 1518.52 L1168.88 1568.04 L1163.03 1568.04 L1163.03 1518.52 Z\" fill=\"#000000\" fill-rule=\"evenodd\" fill-opacity=\"1\" /><path clip-path=\"url(#clip670)\" d=\"M1194.95 1536.5 Q1190.24 1536.5 1187.5 1540.19 Q1184.77 1543.85 1184.77 1550.25 Q1184.77 1556.65 1187.47 1560.34 Q1190.21 1564 1194.95 1564 Q1199.63 1564 1202.37 1560.31 Q1205.1 1556.62 1205.1 1550.25 Q1205.1 1543.92 1202.37 1540.23 Q1199.63 1536.5 1194.95 1536.5 M1194.95 1531.54 Q1202.59 1531.54 1206.95 1536.5 Q1211.31 1541.47 1211.31 1550.25 Q1211.31 1559 1206.95 1564 Q1202.59 1568.97 1194.95 1568.97 Q1187.28 1568.97 1182.92 1564 Q1178.59 1559 1178.59 1550.25 Q1178.59 1541.47 1182.92 1536.5 Q1187.28 1531.54 1194.95 1531.54 Z\" fill=\"#000000\" fill-rule=\"evenodd\" fill-opacity=\"1\" /><path clip-path=\"url(#clip670)\" d=\"M1244.48 1549.81 Q1244.48 1543.44 1241.84 1539.94 Q1239.23 1536.44 1234.48 1536.44 Q1229.77 1536.44 1227.13 1539.94 Q1224.52 1543.44 1224.52 1549.81 Q1224.52 1556.14 1227.13 1559.64 Q1229.77 1563.14 1234.48 1563.14 Q1239.23 1563.14 1241.84 1559.64 Q1244.48 1556.14 1244.48 1549.81 M1250.33 1563.62 Q1250.33 1572.72 1246.29 1577.15 Q1242.25 1581.6 1233.91 1581.6 Q1230.82 1581.6 1228.09 1581.13 Q1225.35 1580.68 1222.77 1579.72 L1222.77 1574.03 Q1225.35 1575.43 1227.86 1576.1 Q1230.38 1576.76 1232.99 1576.76 Q1238.75 1576.76 1241.61 1573.74 Q1244.48 1570.75 1244.48 1564.67 L1244.48 1561.77 Q1242.66 1564.92 1239.83 1566.48 Q1237 1568.04 1233.05 1568.04 Q1226.49 1568.04 1222.48 1563.05 Q1218.47 1558.05 1218.47 1549.81 Q1218.47 1541.53 1222.48 1536.53 Q1226.49 1531.54 1233.05 1531.54 Q1237 1531.54 1239.83 1533.1 Q1242.66 1534.66 1244.48 1537.81 L1244.48 1532.4 L1250.33 1532.4 L1250.33 1563.62 Z\" fill=\"#000000\" fill-rule=\"evenodd\" fill-opacity=\"1\" /><path clip-path=\"url(#clip670)\" d=\"M1262.4 1532.4 L1268.25 1532.4 L1268.25 1568.04 L1262.4 1568.04 L1262.4 1532.4 M1262.4 1518.52 L1268.25 1518.52 L1268.25 1525.93 L1262.4 1525.93 L1262.4 1518.52 Z\" fill=\"#000000\" fill-rule=\"evenodd\" fill-opacity=\"1\" /><path clip-path=\"url(#clip670)\" d=\"M1306.16 1533.76 L1306.16 1539.24 Q1303.68 1537.87 1301.16 1537.2 Q1298.68 1536.5 1296.13 1536.5 Q1290.44 1536.5 1287.29 1540.13 Q1284.14 1543.73 1284.14 1550.25 Q1284.14 1556.78 1287.29 1560.4 Q1290.44 1564 1296.13 1564 Q1298.68 1564 1301.16 1563.33 Q1303.68 1562.63 1306.16 1561.26 L1306.16 1566.68 Q1303.71 1567.82 1301.07 1568.39 Q1298.46 1568.97 1295.5 1568.97 Q1287.45 1568.97 1282.7 1563.91 Q1277.96 1558.85 1277.96 1550.25 Q1277.96 1541.53 1282.73 1536.53 Q1287.54 1531.54 1295.88 1531.54 Q1298.59 1531.54 1301.16 1532.11 Q1303.74 1532.65 1306.16 1533.76 Z\" fill=\"#000000\" fill-rule=\"evenodd\" fill-opacity=\"1\" /><path clip-path=\"url(#clip670)\" d=\"M1332.55 1550.12 Q1325.45 1550.12 1322.71 1551.75 Q1319.97 1553.37 1319.97 1557.29 Q1319.97 1560.4 1322.01 1562.25 Q1324.08 1564.07 1327.61 1564.07 Q1332.48 1564.07 1335.41 1560.63 Q1338.37 1557.16 1338.37 1551.43 L1338.37 1550.12 L1332.55 1550.12 M1344.23 1547.71 L1344.23 1568.04 L1338.37 1568.04 L1338.37 1562.63 Q1336.37 1565.88 1333.37 1567.44 Q1330.38 1568.97 1326.05 1568.97 Q1320.58 1568.97 1317.33 1565.91 Q1314.12 1562.82 1314.12 1557.67 Q1314.12 1551.65 1318.13 1548.6 Q1322.17 1545.54 1330.16 1545.54 L1338.37 1545.54 L1338.37 1544.97 Q1338.37 1540.93 1335.7 1538.73 Q1333.06 1536.5 1328.25 1536.5 Q1325.19 1536.5 1322.3 1537.23 Q1319.4 1537.97 1316.73 1539.43 L1316.73 1534.02 Q1319.94 1532.78 1322.97 1532.17 Q1325.99 1531.54 1328.85 1531.54 Q1336.59 1531.54 1340.41 1535.55 Q1344.23 1539.56 1344.23 1547.71 Z\" fill=\"#000000\" fill-rule=\"evenodd\" fill-opacity=\"1\" /><path clip-path=\"url(#clip670)\" d=\"M1356.29 1518.52 L1362.15 1518.52 L1362.15 1568.04 L1356.29 1568.04 L1356.29 1518.52 Z\" fill=\"#000000\" fill-rule=\"evenodd\" fill-opacity=\"1\" /><path clip-path=\"url(#clip670)\" d=\"M1374.4 1518.52 L1380.26 1518.52 L1380.26 1568.04 L1374.4 1568.04 L1374.4 1518.52 Z\" fill=\"#000000\" fill-rule=\"evenodd\" fill-opacity=\"1\" /><path clip-path=\"url(#clip670)\" d=\"M1407.34 1571.35 Q1404.86 1577.72 1402.51 1579.66 Q1400.15 1581.6 1396.2 1581.6 L1391.52 1581.6 L1391.52 1576.7 L1394.96 1576.7 Q1397.38 1576.7 1398.72 1575.56 Q1400.05 1574.41 1401.68 1570.14 L1402.73 1567.47 L1388.31 1532.4 L1394.52 1532.4 L1405.66 1560.28 L1416.8 1532.4 L1423 1532.4 L1407.34 1571.35 Z\" fill=\"#000000\" fill-rule=\"evenodd\" fill-opacity=\"1\" /><path clip-path=\"url(#clip670)\" d=\"M1480.55 1522.08 L1480.55 1528.35 Q1476.89 1526.6 1473.64 1525.74 Q1470.4 1524.88 1467.37 1524.88 Q1462.12 1524.88 1459.26 1526.92 Q1456.42 1528.96 1456.42 1532.71 Q1456.42 1535.87 1458.3 1537.49 Q1460.21 1539.08 1465.49 1540.07 L1469.38 1540.86 Q1476.57 1542.23 1479.98 1545.7 Q1483.41 1549.14 1483.41 1554.93 Q1483.41 1561.84 1478.77 1565.4 Q1474.15 1568.97 1465.21 1568.97 Q1461.83 1568.97 1458.01 1568.2 Q1454.23 1567.44 1450.15 1565.94 L1450.15 1559.32 Q1454.07 1561.52 1457.82 1562.63 Q1461.58 1563.75 1465.21 1563.75 Q1470.71 1563.75 1473.71 1561.58 Q1476.7 1559.42 1476.7 1555.41 Q1476.7 1551.91 1474.53 1549.93 Q1472.4 1547.96 1467.5 1546.97 L1463.58 1546.21 Q1456.39 1544.78 1453.18 1541.72 Q1449.96 1538.67 1449.96 1533.22 Q1449.96 1526.92 1454.39 1523.29 Q1458.84 1519.66 1466.64 1519.66 Q1469.98 1519.66 1473.45 1520.27 Q1476.92 1520.87 1480.55 1522.08 Z\" fill=\"#000000\" fill-rule=\"evenodd\" fill-opacity=\"1\" /><path clip-path=\"url(#clip670)\" d=\"M1509.39 1550.12 Q1502.29 1550.12 1499.55 1551.75 Q1496.81 1553.37 1496.81 1557.29 Q1496.81 1560.4 1498.85 1562.25 Q1500.92 1564.07 1504.45 1564.07 Q1509.32 1564.07 1512.25 1560.63 Q1515.21 1557.16 1515.21 1551.43 L1515.21 1550.12 L1509.39 1550.12 M1521.07 1547.71 L1521.07 1568.04 L1515.21 1568.04 L1515.21 1562.63 Q1513.21 1565.88 1510.21 1567.44 Q1507.22 1568.97 1502.89 1568.97 Q1497.42 1568.97 1494.17 1565.91 Q1490.96 1562.82 1490.96 1557.67 Q1490.96 1551.65 1494.97 1548.6 Q1499.01 1545.54 1507 1545.54 L1515.21 1545.54 L1515.21 1544.97 Q1515.21 1540.93 1512.54 1538.73 Q1509.89 1536.5 1505.09 1536.5 Q1502.03 1536.5 1499.14 1537.23 Q1496.24 1537.97 1493.57 1539.43 L1493.57 1534.02 Q1496.78 1532.78 1499.81 1532.17 Q1502.83 1531.54 1505.69 1531.54 Q1513.43 1531.54 1517.25 1535.55 Q1521.07 1539.56 1521.07 1547.71 Z\" fill=\"#000000\" fill-rule=\"evenodd\" fill-opacity=\"1\" /><path clip-path=\"url(#clip670)\" d=\"M1551.18 1518.52 L1551.18 1523.39 L1545.57 1523.39 Q1542.42 1523.39 1541.18 1524.66 Q1539.97 1525.93 1539.97 1529.24 L1539.97 1532.4 L1549.62 1532.4 L1549.62 1536.95 L1539.97 1536.95 L1539.97 1568.04 L1534.08 1568.04 L1534.08 1536.95 L1528.48 1536.95 L1528.48 1532.4 L1534.08 1532.4 L1534.08 1529.91 Q1534.08 1523.96 1536.85 1521.26 Q1539.62 1518.52 1545.64 1518.52 L1551.18 1518.52 Z\" fill=\"#000000\" fill-rule=\"evenodd\" fill-opacity=\"1\" /><path clip-path=\"url(#clip670)\" d=\"M1586.57 1548.76 L1586.57 1551.62 L1559.64 1551.62 Q1560.02 1557.67 1563.27 1560.85 Q1566.55 1564 1572.37 1564 Q1575.75 1564 1578.9 1563.17 Q1582.08 1562.35 1585.2 1560.69 L1585.2 1566.23 Q1582.05 1567.57 1578.74 1568.27 Q1575.43 1568.97 1572.02 1568.97 Q1563.49 1568.97 1558.5 1564 Q1553.53 1559.04 1553.53 1550.57 Q1553.53 1541.82 1558.24 1536.69 Q1562.98 1531.54 1571.01 1531.54 Q1578.2 1531.54 1582.37 1536.18 Q1586.57 1540.8 1586.57 1548.76 M1580.71 1547.04 Q1580.65 1542.23 1578.01 1539.37 Q1575.4 1536.5 1571.07 1536.5 Q1566.17 1536.5 1563.21 1539.27 Q1560.28 1542.04 1559.83 1547.07 L1580.71 1547.04 Z\" fill=\"#000000\" fill-rule=\"evenodd\" fill-opacity=\"1\" /><polyline clip-path=\"url(#clip672)\" style=\"stroke:#000000; stroke-linecap:round; stroke-linejoin:round; stroke-width:2; stroke-opacity:0.1; fill:none\" points=\"\n",
       "  280.19,1251.85 2352.76,1251.85 \n",
       "  \"/>\n",
       "<polyline clip-path=\"url(#clip672)\" style=\"stroke:#000000; stroke-linecap:round; stroke-linejoin:round; stroke-width:2; stroke-opacity:0.1; fill:none\" points=\"\n",
       "  280.19,1026.13 2352.76,1026.13 \n",
       "  \"/>\n",
       "<polyline clip-path=\"url(#clip672)\" style=\"stroke:#000000; stroke-linecap:round; stroke-linejoin:round; stroke-width:2; stroke-opacity:0.1; fill:none\" points=\"\n",
       "  280.19,800.417 2352.76,800.417 \n",
       "  \"/>\n",
       "<polyline clip-path=\"url(#clip672)\" style=\"stroke:#000000; stroke-linecap:round; stroke-linejoin:round; stroke-width:2; stroke-opacity:0.1; fill:none\" points=\"\n",
       "  280.19,574.699 2352.76,574.699 \n",
       "  \"/>\n",
       "<polyline clip-path=\"url(#clip672)\" style=\"stroke:#000000; stroke-linecap:round; stroke-linejoin:round; stroke-width:2; stroke-opacity:0.1; fill:none\" points=\"\n",
       "  280.19,348.982 2352.76,348.982 \n",
       "  \"/>\n",
       "<polyline clip-path=\"url(#clip670)\" style=\"stroke:#000000; stroke-linecap:round; stroke-linejoin:round; stroke-width:4; stroke-opacity:1; fill:none\" points=\"\n",
       "  280.19,1423.18 280.19,123.472 \n",
       "  \"/>\n",
       "<polyline clip-path=\"url(#clip670)\" style=\"stroke:#000000; stroke-linecap:round; stroke-linejoin:round; stroke-width:4; stroke-opacity:1; fill:none\" points=\"\n",
       "  280.19,1251.85 299.088,1251.85 \n",
       "  \"/>\n",
       "<polyline clip-path=\"url(#clip670)\" style=\"stroke:#000000; stroke-linecap:round; stroke-linejoin:round; stroke-width:4; stroke-opacity:1; fill:none\" points=\"\n",
       "  280.19,1026.13 299.088,1026.13 \n",
       "  \"/>\n",
       "<polyline clip-path=\"url(#clip670)\" style=\"stroke:#000000; stroke-linecap:round; stroke-linejoin:round; stroke-width:4; stroke-opacity:1; fill:none\" points=\"\n",
       "  280.19,800.417 299.088,800.417 \n",
       "  \"/>\n",
       "<polyline clip-path=\"url(#clip670)\" style=\"stroke:#000000; stroke-linecap:round; stroke-linejoin:round; stroke-width:4; stroke-opacity:1; fill:none\" points=\"\n",
       "  280.19,574.699 299.088,574.699 \n",
       "  \"/>\n",
       "<polyline clip-path=\"url(#clip670)\" style=\"stroke:#000000; stroke-linecap:round; stroke-linejoin:round; stroke-width:4; stroke-opacity:1; fill:none\" points=\"\n",
       "  280.19,348.982 299.088,348.982 \n",
       "  \"/>\n",
       "<path clip-path=\"url(#clip670)\" d=\"M126.691 1237.65 Q123.08 1237.65 121.251 1241.21 Q119.445 1244.76 119.445 1251.89 Q119.445 1258.99 121.251 1262.56 Q123.08 1266.1 126.691 1266.1 Q130.325 1266.1 132.13 1262.56 Q133.959 1258.99 133.959 1251.89 Q133.959 1244.76 132.13 1241.21 Q130.325 1237.65 126.691 1237.65 M126.691 1233.95 Q132.501 1233.95 135.556 1238.55 Q138.635 1243.14 138.635 1251.89 Q138.635 1260.61 135.556 1265.22 Q132.501 1269.8 126.691 1269.8 Q120.88 1269.8 117.802 1265.22 Q114.746 1260.61 114.746 1251.89 Q114.746 1243.14 117.802 1238.55 Q120.88 1233.95 126.691 1233.95 Z\" fill=\"#000000\" fill-rule=\"evenodd\" fill-opacity=\"1\" /><path clip-path=\"url(#clip670)\" d=\"M146.853 1263.25 L151.737 1263.25 L151.737 1269.13 L146.853 1269.13 L146.853 1263.25 Z\" fill=\"#000000\" fill-rule=\"evenodd\" fill-opacity=\"1\" /><path clip-path=\"url(#clip670)\" d=\"M171.922 1237.65 Q168.311 1237.65 166.482 1241.21 Q164.677 1244.76 164.677 1251.89 Q164.677 1258.99 166.482 1262.56 Q168.311 1266.1 171.922 1266.1 Q175.556 1266.1 177.362 1262.56 Q179.19 1258.99 179.19 1251.89 Q179.19 1244.76 177.362 1241.21 Q175.556 1237.65 171.922 1237.65 M171.922 1233.95 Q177.732 1233.95 180.788 1238.55 Q183.866 1243.14 183.866 1251.89 Q183.866 1260.61 180.788 1265.22 Q177.732 1269.8 171.922 1269.8 Q166.112 1269.8 163.033 1265.22 Q159.978 1260.61 159.978 1251.89 Q159.978 1243.14 163.033 1238.55 Q166.112 1233.95 171.922 1233.95 Z\" fill=\"#000000\" fill-rule=\"evenodd\" fill-opacity=\"1\" /><path clip-path=\"url(#clip670)\" d=\"M196.112 1265.2 L212.431 1265.2 L212.431 1269.13 L190.487 1269.13 L190.487 1265.2 Q193.149 1262.44 197.732 1257.81 Q202.338 1253.16 203.519 1251.82 Q205.764 1249.29 206.644 1247.56 Q207.547 1245.8 207.547 1244.11 Q207.547 1241.35 205.602 1239.62 Q203.681 1237.88 200.579 1237.88 Q198.38 1237.88 195.926 1238.65 Q193.496 1239.41 190.718 1240.96 L190.718 1236.24 Q193.542 1235.1 195.996 1234.52 Q198.45 1233.95 200.487 1233.95 Q205.857 1233.95 209.051 1236.63 Q212.246 1239.32 212.246 1243.81 Q212.246 1245.94 211.436 1247.86 Q210.649 1249.76 208.542 1252.35 Q207.963 1253.02 204.862 1256.24 Q201.76 1259.43 196.112 1265.2 Z\" fill=\"#000000\" fill-rule=\"evenodd\" fill-opacity=\"1\" /><path clip-path=\"url(#clip670)\" d=\"M232.246 1237.65 Q228.635 1237.65 226.806 1241.21 Q225 1244.76 225 1251.89 Q225 1258.99 226.806 1262.56 Q228.635 1266.1 232.246 1266.1 Q235.88 1266.1 237.685 1262.56 Q239.514 1258.99 239.514 1251.89 Q239.514 1244.76 237.685 1241.21 Q235.88 1237.65 232.246 1237.65 M232.246 1233.95 Q238.056 1233.95 241.111 1238.55 Q244.19 1243.14 244.19 1251.89 Q244.19 1260.61 241.111 1265.22 Q238.056 1269.8 232.246 1269.8 Q226.435 1269.8 223.357 1265.22 Q220.301 1260.61 220.301 1251.89 Q220.301 1243.14 223.357 1238.55 Q226.435 1233.95 232.246 1233.95 Z\" fill=\"#000000\" fill-rule=\"evenodd\" fill-opacity=\"1\" /><path clip-path=\"url(#clip670)\" d=\"M127.917 1011.93 Q124.306 1011.93 122.478 1015.5 Q120.672 1019.04 120.672 1026.17 Q120.672 1033.28 122.478 1036.84 Q124.306 1040.38 127.917 1040.38 Q131.552 1040.38 133.357 1036.84 Q135.186 1033.28 135.186 1026.17 Q135.186 1019.04 133.357 1015.5 Q131.552 1011.93 127.917 1011.93 M127.917 1008.23 Q133.728 1008.23 136.783 1012.84 Q139.862 1017.42 139.862 1026.17 Q139.862 1034.9 136.783 1039.5 Q133.728 1044.09 127.917 1044.09 Q122.107 1044.09 119.029 1039.5 Q115.973 1034.9 115.973 1026.17 Q115.973 1017.42 119.029 1012.84 Q122.107 1008.23 127.917 1008.23 Z\" fill=\"#000000\" fill-rule=\"evenodd\" fill-opacity=\"1\" /><path clip-path=\"url(#clip670)\" d=\"M148.079 1037.53 L152.964 1037.53 L152.964 1043.41 L148.079 1043.41 L148.079 1037.53 Z\" fill=\"#000000\" fill-rule=\"evenodd\" fill-opacity=\"1\" /><path clip-path=\"url(#clip670)\" d=\"M173.149 1011.93 Q169.538 1011.93 167.709 1015.5 Q165.903 1019.04 165.903 1026.17 Q165.903 1033.28 167.709 1036.84 Q169.538 1040.38 173.149 1040.38 Q176.783 1040.38 178.589 1036.84 Q180.417 1033.28 180.417 1026.17 Q180.417 1019.04 178.589 1015.5 Q176.783 1011.93 173.149 1011.93 M173.149 1008.23 Q178.959 1008.23 182.014 1012.84 Q185.093 1017.42 185.093 1026.17 Q185.093 1034.9 182.014 1039.5 Q178.959 1044.09 173.149 1044.09 Q167.339 1044.09 164.26 1039.5 Q161.204 1034.9 161.204 1026.17 Q161.204 1017.42 164.26 1012.84 Q167.339 1008.23 173.149 1008.23 Z\" fill=\"#000000\" fill-rule=\"evenodd\" fill-opacity=\"1\" /><path clip-path=\"url(#clip670)\" d=\"M197.338 1039.48 L213.658 1039.48 L213.658 1043.41 L191.713 1043.41 L191.713 1039.48 Q194.375 1036.72 198.959 1032.09 Q203.565 1027.44 204.746 1026.1 Q206.991 1023.58 207.871 1021.84 Q208.774 1020.08 208.774 1018.39 Q208.774 1015.64 206.829 1013.9 Q204.908 1012.16 201.806 1012.16 Q199.607 1012.16 197.153 1012.93 Q194.723 1013.69 191.945 1015.24 L191.945 1010.52 Q194.769 1009.39 197.223 1008.81 Q199.676 1008.23 201.713 1008.23 Q207.084 1008.23 210.278 1010.91 Q213.473 1013.6 213.473 1018.09 Q213.473 1020.22 212.662 1022.14 Q211.875 1024.04 209.769 1026.63 Q209.19 1027.3 206.088 1030.52 Q202.987 1033.71 197.338 1039.48 Z\" fill=\"#000000\" fill-rule=\"evenodd\" fill-opacity=\"1\" /><path clip-path=\"url(#clip670)\" d=\"M224.283 1039.48 L231.922 1039.48 L231.922 1013.11 L223.611 1014.78 L223.611 1010.52 L231.875 1008.85 L236.551 1008.85 L236.551 1039.48 L244.19 1039.48 L244.19 1043.41 L224.283 1043.41 L224.283 1039.48 Z\" fill=\"#000000\" fill-rule=\"evenodd\" fill-opacity=\"1\" /><path clip-path=\"url(#clip670)\" d=\"M128.288 786.215 Q124.677 786.215 122.848 789.78 Q121.043 793.322 121.043 800.451 Q121.043 807.558 122.848 811.123 Q124.677 814.664 128.288 814.664 Q131.922 814.664 133.728 811.123 Q135.556 807.558 135.556 800.451 Q135.556 793.322 133.728 789.78 Q131.922 786.215 128.288 786.215 M128.288 782.512 Q134.098 782.512 137.154 787.118 Q140.232 791.701 140.232 800.451 Q140.232 809.178 137.154 813.785 Q134.098 818.368 128.288 818.368 Q122.478 818.368 119.399 813.785 Q116.343 809.178 116.343 800.451 Q116.343 791.701 119.399 787.118 Q122.478 782.512 128.288 782.512 Z\" fill=\"#000000\" fill-rule=\"evenodd\" fill-opacity=\"1\" /><path clip-path=\"url(#clip670)\" d=\"M148.45 811.817 L153.334 811.817 L153.334 817.697 L148.45 817.697 L148.45 811.817 Z\" fill=\"#000000\" fill-rule=\"evenodd\" fill-opacity=\"1\" /><path clip-path=\"url(#clip670)\" d=\"M173.519 786.215 Q169.908 786.215 168.079 789.78 Q166.274 793.322 166.274 800.451 Q166.274 807.558 168.079 811.123 Q169.908 814.664 173.519 814.664 Q177.153 814.664 178.959 811.123 Q180.788 807.558 180.788 800.451 Q180.788 793.322 178.959 789.78 Q177.153 786.215 173.519 786.215 M173.519 782.512 Q179.329 782.512 182.385 787.118 Q185.463 791.701 185.463 800.451 Q185.463 809.178 182.385 813.785 Q179.329 818.368 173.519 818.368 Q167.709 818.368 164.63 813.785 Q161.575 809.178 161.575 800.451 Q161.575 791.701 164.63 787.118 Q167.709 782.512 173.519 782.512 Z\" fill=\"#000000\" fill-rule=\"evenodd\" fill-opacity=\"1\" /><path clip-path=\"url(#clip670)\" d=\"M197.709 813.761 L214.028 813.761 L214.028 817.697 L192.084 817.697 L192.084 813.761 Q194.746 811.007 199.329 806.377 Q203.936 801.724 205.116 800.382 Q207.362 797.859 208.241 796.123 Q209.144 794.363 209.144 792.674 Q209.144 789.919 207.199 788.183 Q205.278 786.447 202.176 786.447 Q199.977 786.447 197.524 787.211 Q195.093 787.975 192.315 789.525 L192.315 784.803 Q195.139 783.669 197.593 783.09 Q200.047 782.512 202.084 782.512 Q207.454 782.512 210.649 785.197 Q213.843 787.882 213.843 792.373 Q213.843 794.502 213.033 796.424 Q212.246 798.322 210.139 800.914 Q209.561 801.586 206.459 804.803 Q203.357 807.998 197.709 813.761 Z\" fill=\"#000000\" fill-rule=\"evenodd\" fill-opacity=\"1\" /><path clip-path=\"url(#clip670)\" d=\"M227.871 813.761 L244.19 813.761 L244.19 817.697 L222.246 817.697 L222.246 813.761 Q224.908 811.007 229.491 806.377 Q234.097 801.724 235.278 800.382 Q237.523 797.859 238.403 796.123 Q239.306 794.363 239.306 792.674 Q239.306 789.919 237.361 788.183 Q235.44 786.447 232.338 786.447 Q230.139 786.447 227.685 787.211 Q225.255 787.975 222.477 789.525 L222.477 784.803 Q225.301 783.669 227.755 783.09 Q230.209 782.512 232.246 782.512 Q237.616 782.512 240.81 785.197 Q244.005 787.882 244.005 792.373 Q244.005 794.502 243.195 796.424 Q242.408 798.322 240.301 800.914 Q239.722 801.586 236.621 804.803 Q233.519 807.998 227.871 813.761 Z\" fill=\"#000000\" fill-rule=\"evenodd\" fill-opacity=\"1\" /><path clip-path=\"url(#clip670)\" d=\"M127.339 560.498 Q123.728 560.498 121.899 564.063 Q120.093 567.604 120.093 574.734 Q120.093 581.84 121.899 585.405 Q123.728 588.947 127.339 588.947 Q130.973 588.947 132.779 585.405 Q134.607 581.84 134.607 574.734 Q134.607 567.604 132.779 564.063 Q130.973 560.498 127.339 560.498 M127.339 556.794 Q133.149 556.794 136.204 561.401 Q139.283 565.984 139.283 574.734 Q139.283 583.461 136.204 588.067 Q133.149 592.651 127.339 592.651 Q121.529 592.651 118.45 588.067 Q115.394 583.461 115.394 574.734 Q115.394 565.984 118.45 561.401 Q121.529 556.794 127.339 556.794 Z\" fill=\"#000000\" fill-rule=\"evenodd\" fill-opacity=\"1\" /><path clip-path=\"url(#clip670)\" d=\"M147.501 586.1 L152.385 586.1 L152.385 591.979 L147.501 591.979 L147.501 586.1 Z\" fill=\"#000000\" fill-rule=\"evenodd\" fill-opacity=\"1\" /><path clip-path=\"url(#clip670)\" d=\"M172.57 560.498 Q168.959 560.498 167.13 564.063 Q165.325 567.604 165.325 574.734 Q165.325 581.84 167.13 585.405 Q168.959 588.947 172.57 588.947 Q176.204 588.947 178.01 585.405 Q179.839 581.84 179.839 574.734 Q179.839 567.604 178.01 564.063 Q176.204 560.498 172.57 560.498 M172.57 556.794 Q178.38 556.794 181.436 561.401 Q184.514 565.984 184.514 574.734 Q184.514 583.461 181.436 588.067 Q178.38 592.651 172.57 592.651 Q166.76 592.651 163.681 588.067 Q160.626 583.461 160.626 574.734 Q160.626 565.984 163.681 561.401 Q166.76 556.794 172.57 556.794 Z\" fill=\"#000000\" fill-rule=\"evenodd\" fill-opacity=\"1\" /><path clip-path=\"url(#clip670)\" d=\"M196.76 588.044 L213.079 588.044 L213.079 591.979 L191.135 591.979 L191.135 588.044 Q193.797 585.289 198.38 580.66 Q202.987 576.007 204.167 574.665 Q206.412 572.141 207.292 570.405 Q208.195 568.646 208.195 566.956 Q208.195 564.202 206.25 562.466 Q204.329 560.729 201.227 560.729 Q199.028 560.729 196.575 561.493 Q194.144 562.257 191.366 563.808 L191.366 559.086 Q194.19 557.952 196.644 557.373 Q199.098 556.794 201.135 556.794 Q206.505 556.794 209.699 559.479 Q212.894 562.165 212.894 566.655 Q212.894 568.785 212.084 570.706 Q211.297 572.604 209.19 575.197 Q208.612 575.868 205.51 579.086 Q202.408 582.28 196.76 588.044 Z\" fill=\"#000000\" fill-rule=\"evenodd\" fill-opacity=\"1\" /><path clip-path=\"url(#clip670)\" d=\"M237.06 573.345 Q240.417 574.063 242.292 576.331 Q244.19 578.6 244.19 581.933 Q244.19 587.049 240.672 589.85 Q237.153 592.651 230.672 592.651 Q228.496 592.651 226.181 592.211 Q223.889 591.794 221.436 590.938 L221.436 586.424 Q223.38 587.558 225.695 588.137 Q228.01 588.715 230.533 588.715 Q234.931 588.715 237.222 586.979 Q239.537 585.243 239.537 581.933 Q239.537 578.877 237.384 577.165 Q235.255 575.428 231.435 575.428 L227.408 575.428 L227.408 571.586 L231.621 571.586 Q235.07 571.586 236.898 570.22 Q238.727 568.831 238.727 566.239 Q238.727 563.577 236.829 562.165 Q234.954 560.729 231.435 560.729 Q229.514 560.729 227.315 561.146 Q225.116 561.563 222.477 562.442 L222.477 558.276 Q225.139 557.535 227.454 557.165 Q229.792 556.794 231.852 556.794 Q237.176 556.794 240.278 559.225 Q243.38 561.632 243.38 565.753 Q243.38 568.623 241.736 570.614 Q240.093 572.581 237.06 573.345 Z\" fill=\"#000000\" fill-rule=\"evenodd\" fill-opacity=\"1\" /><path clip-path=\"url(#clip670)\" d=\"M126.205 334.781 Q122.593 334.781 120.765 338.345 Q118.959 341.887 118.959 349.017 Q118.959 356.123 120.765 359.688 Q122.593 363.23 126.205 363.23 Q129.839 363.23 131.644 359.688 Q133.473 356.123 133.473 349.017 Q133.473 341.887 131.644 338.345 Q129.839 334.781 126.205 334.781 M126.205 331.077 Q132.015 331.077 135.07 335.683 Q138.149 340.267 138.149 349.017 Q138.149 357.744 135.07 362.35 Q132.015 366.933 126.205 366.933 Q120.394 366.933 117.316 362.35 Q114.26 357.744 114.26 349.017 Q114.26 340.267 117.316 335.683 Q120.394 331.077 126.205 331.077 Z\" fill=\"#000000\" fill-rule=\"evenodd\" fill-opacity=\"1\" /><path clip-path=\"url(#clip670)\" d=\"M146.366 360.382 L151.251 360.382 L151.251 366.262 L146.366 366.262 L146.366 360.382 Z\" fill=\"#000000\" fill-rule=\"evenodd\" fill-opacity=\"1\" /><path clip-path=\"url(#clip670)\" d=\"M171.436 334.781 Q167.825 334.781 165.996 338.345 Q164.19 341.887 164.19 349.017 Q164.19 356.123 165.996 359.688 Q167.825 363.23 171.436 363.23 Q175.07 363.23 176.876 359.688 Q178.704 356.123 178.704 349.017 Q178.704 341.887 176.876 338.345 Q175.07 334.781 171.436 334.781 M171.436 331.077 Q177.246 331.077 180.301 335.683 Q183.38 340.267 183.38 349.017 Q183.38 357.744 180.301 362.35 Q177.246 366.933 171.436 366.933 Q165.626 366.933 162.547 362.35 Q159.491 357.744 159.491 349.017 Q159.491 340.267 162.547 335.683 Q165.626 331.077 171.436 331.077 Z\" fill=\"#000000\" fill-rule=\"evenodd\" fill-opacity=\"1\" /><path clip-path=\"url(#clip670)\" d=\"M195.625 362.327 L211.945 362.327 L211.945 366.262 L190 366.262 L190 362.327 Q192.663 359.572 197.246 354.943 Q201.852 350.29 203.033 348.947 Q205.278 346.424 206.158 344.688 Q207.061 342.929 207.061 341.239 Q207.061 338.484 205.116 336.748 Q203.195 335.012 200.093 335.012 Q197.894 335.012 195.44 335.776 Q193.01 336.54 190.232 338.091 L190.232 333.369 Q193.056 332.234 195.51 331.656 Q197.963 331.077 200 331.077 Q205.371 331.077 208.565 333.762 Q211.76 336.447 211.76 340.938 Q211.76 343.068 210.949 344.989 Q210.162 346.887 208.056 349.48 Q207.477 350.151 204.375 353.369 Q201.274 356.563 195.625 362.327 Z\" fill=\"#000000\" fill-rule=\"evenodd\" fill-opacity=\"1\" /><path clip-path=\"url(#clip670)\" d=\"M234.607 335.776 L222.801 354.225 L234.607 354.225 L234.607 335.776 M233.38 331.702 L239.259 331.702 L239.259 354.225 L244.19 354.225 L244.19 358.114 L239.259 358.114 L239.259 366.262 L234.607 366.262 L234.607 358.114 L219.005 358.114 L219.005 353.6 L233.38 331.702 Z\" fill=\"#000000\" fill-rule=\"evenodd\" fill-opacity=\"1\" /><path clip-path=\"url(#clip670)\" d=\"M18.0438 935.174 L24.314 935.174 Q22.5634 938.834 21.704 942.081 Q20.8447 945.327 20.8447 948.351 Q20.8447 953.603 22.8817 956.467 Q24.9187 959.3 28.6745 959.3 Q31.8255 959.3 33.4488 957.422 Q35.0402 955.513 36.0269 950.229 L36.8226 946.346 Q38.1912 939.153 41.6605 935.747 Q45.098 932.31 50.8908 932.31 Q57.7976 932.31 61.3624 936.956 Q64.9272 941.572 64.9272 950.515 Q64.9272 953.889 64.1633 957.709 Q63.3994 961.496 61.9035 965.57 L55.2831 965.57 Q57.4793 961.655 58.5933 957.9 Q59.7073 954.144 59.7073 950.515 Q59.7073 945.009 57.543 942.017 Q55.3786 939.025 51.3682 939.025 Q47.8671 939.025 45.8937 941.19 Q43.9204 943.322 42.9337 948.224 L42.1698 952.139 Q40.7375 959.332 37.682 962.547 Q34.6264 965.761 29.1837 965.761 Q22.8817 965.761 19.2532 961.337 Q15.6248 956.881 15.6248 949.083 Q15.6248 945.741 16.2295 942.272 Q16.8343 938.803 18.0438 935.174 Z\" fill=\"#000000\" fill-rule=\"evenodd\" fill-opacity=\"1\" /><path clip-path=\"url(#clip670)\" d=\"M32.4621 908.725 Q32.4621 913.435 36.1542 916.172 Q39.8145 918.91 46.212 918.91 Q52.6095 918.91 56.3017 916.204 Q59.9619 913.467 59.9619 908.725 Q59.9619 904.046 56.2698 901.309 Q52.5777 898.571 46.212 898.571 Q39.8781 898.571 36.186 901.309 Q32.4621 904.046 32.4621 908.725 M27.4968 908.725 Q27.4968 901.086 32.4621 896.725 Q37.4273 892.365 46.212 892.365 Q54.9649 892.365 59.9619 896.725 Q64.9272 901.086 64.9272 908.725 Q64.9272 916.395 59.9619 920.756 Q54.9649 925.084 46.212 925.084 Q37.4273 925.084 32.4621 920.756 Q27.4968 916.395 27.4968 908.725 Z\" fill=\"#000000\" fill-rule=\"evenodd\" fill-opacity=\"1\" /><path clip-path=\"url(#clip670)\" d=\"M29.7248 857.003 L35.1993 857.003 Q33.8307 859.486 33.1623 862 Q32.4621 864.483 32.4621 867.029 Q32.4621 872.726 36.0905 875.878 Q39.6872 879.029 46.212 879.029 Q52.7369 879.029 56.3653 875.878 Q59.9619 872.726 59.9619 867.029 Q59.9619 864.483 59.2935 862 Q58.5933 859.486 57.2247 857.003 L62.6355 857.003 Q63.7814 859.454 64.3543 862.096 Q64.9272 864.706 64.9272 867.666 Q64.9272 875.718 59.8664 880.461 Q54.8057 885.203 46.212 885.203 Q37.491 885.203 32.4939 880.429 Q27.4968 875.623 27.4968 867.284 Q27.4968 864.578 28.0697 862 Q28.6108 859.422 29.7248 857.003 Z\" fill=\"#000000\" fill-rule=\"evenodd\" fill-opacity=\"1\" /><path clip-path=\"url(#clip670)\" d=\"M28.3562 846.818 L28.3562 840.962 L64.0042 840.962 L64.0042 846.818 L28.3562 846.818 M14.479 846.818 L14.479 840.962 L21.895 840.962 L21.895 846.818 L14.479 846.818 Z\" fill=\"#000000\" fill-rule=\"evenodd\" fill-opacity=\"1\" /><path clip-path=\"url(#clip670)\" d=\"M46.0847 812.507 Q46.0847 819.605 47.7079 822.342 Q49.3312 825.079 53.2461 825.079 Q56.3653 825.079 58.2114 823.042 Q60.0256 820.973 60.0256 817.44 Q60.0256 812.571 56.5881 809.642 Q53.1188 806.682 47.3897 806.682 L46.0847 806.682 L46.0847 812.507 M43.6657 800.826 L64.0042 800.826 L64.0042 806.682 L58.5933 806.682 Q61.8398 808.687 63.3994 811.679 Q64.9272 814.671 64.9272 819 Q64.9272 824.474 61.8716 827.721 Q58.7843 830.936 53.6281 830.936 Q47.6125 830.936 44.5569 826.925 Q41.5014 822.883 41.5014 814.894 L41.5014 806.682 L40.9285 806.682 Q36.8862 806.682 34.6901 809.356 Q32.4621 811.998 32.4621 816.804 Q32.4621 819.859 33.1941 822.756 Q33.9262 825.652 35.3903 828.326 L29.9795 828.326 Q28.7381 825.111 28.1334 822.087 Q27.4968 819.064 27.4968 816.199 Q27.4968 808.465 31.5072 804.645 Q35.5176 800.826 43.6657 800.826 Z\" fill=\"#000000\" fill-rule=\"evenodd\" fill-opacity=\"1\" /><path clip-path=\"url(#clip670)\" d=\"M14.479 788.763 L14.479 782.906 L64.0042 782.906 L64.0042 788.763 L14.479 788.763 Z\" fill=\"#000000\" fill-rule=\"evenodd\" fill-opacity=\"1\" /><path clip-path=\"url(#clip670)\" d=\"M14.479 770.652 L14.479 764.796 L64.0042 764.796 L64.0042 770.652 L14.479 770.652 Z\" fill=\"#000000\" fill-rule=\"evenodd\" fill-opacity=\"1\" /><path clip-path=\"url(#clip670)\" d=\"M67.3143 737.71 Q73.68 740.192 75.6216 742.548 Q77.5631 744.903 77.5631 748.85 L77.5631 753.529 L72.6615 753.529 L72.6615 750.091 Q72.6615 747.672 71.5157 746.335 Q70.3699 744.999 66.1048 743.375 L63.4312 742.325 L28.3562 756.743 L28.3562 750.537 L56.238 739.397 L28.3562 728.257 L28.3562 722.05 L67.3143 737.71 Z\" fill=\"#000000\" fill-rule=\"evenodd\" fill-opacity=\"1\" /><path clip-path=\"url(#clip670)\" d=\"M16.4842 692.991 L16.4842 686.561 L60.694 686.561 Q69.2877 686.561 73.1708 689.84 Q77.0539 693.086 77.0539 700.311 L77.0539 702.762 L71.643 702.762 L71.643 700.757 Q71.643 696.492 69.2559 694.741 Q66.8687 692.991 60.694 692.991 L16.4842 692.991 Z\" fill=\"#000000\" fill-rule=\"evenodd\" fill-opacity=\"1\" /><path clip-path=\"url(#clip670)\" d=\"M49.9359 674.626 L28.3562 674.626 L28.3562 668.769 L49.7131 668.769 Q54.7739 668.769 57.3202 666.796 Q59.8346 664.823 59.8346 660.876 Q59.8346 656.133 56.8109 653.396 Q53.7872 650.627 48.5673 650.627 L28.3562 650.627 L28.3562 644.771 L64.0042 644.771 L64.0042 650.627 L58.5296 650.627 Q61.7762 652.76 63.3676 655.592 Q64.9272 658.393 64.9272 662.117 Q64.9272 668.26 61.1078 671.443 Q57.2883 674.626 49.9359 674.626 M27.4968 659.889 L27.4968 659.889 Z\" fill=\"#000000\" fill-rule=\"evenodd\" fill-opacity=\"1\" /><path clip-path=\"url(#clip670)\" d=\"M29.4065 609.982 L34.9447 609.982 Q33.6716 612.465 33.035 615.138 Q32.3984 617.812 32.3984 620.676 Q32.3984 625.037 33.7352 627.233 Q35.072 629.397 37.7456 629.397 Q39.7826 629.397 40.9603 627.838 Q42.1061 626.278 43.1565 621.568 L43.6021 619.562 Q44.9389 613.324 47.3897 610.714 Q49.8086 608.072 54.1691 608.072 Q59.1344 608.072 62.0308 612.019 Q64.9272 615.934 64.9272 622.809 Q64.9272 625.673 64.3543 628.793 Q63.8132 631.88 62.6992 635.317 L56.6518 635.317 Q58.3387 632.071 59.198 628.92 Q60.0256 625.769 60.0256 622.682 Q60.0256 618.544 58.6251 616.316 Q57.1929 614.088 54.6147 614.088 Q52.2276 614.088 50.9545 615.711 Q49.6813 617.303 48.5037 622.745 L48.0262 624.782 Q46.8804 630.225 44.5251 632.644 Q42.138 635.063 38.0002 635.063 Q32.9713 635.063 30.2341 631.498 Q27.4968 627.933 27.4968 621.377 Q27.4968 618.13 27.9743 615.265 Q28.4517 612.401 29.4065 609.982 Z\" fill=\"#000000\" fill-rule=\"evenodd\" fill-opacity=\"1\" /><path clip-path=\"url(#clip670)\" d=\"M18.2347 592.954 L28.3562 592.954 L28.3562 580.891 L32.9077 580.891 L32.9077 592.954 L52.2594 592.954 Q56.6199 592.954 57.8613 591.776 Q59.1026 590.567 59.1026 586.906 L59.1026 580.891 L64.0042 580.891 L64.0042 586.906 Q64.0042 593.686 61.4897 596.264 Q58.9434 598.842 52.2594 598.842 L32.9077 598.842 L32.9077 603.139 L28.3562 603.139 L28.3562 598.842 L18.2347 598.842 L18.2347 592.954 Z\" fill=\"#000000\" fill-rule=\"evenodd\" fill-opacity=\"1\" /><path clip-path=\"url(#clip670)\" d=\"M463.251 17.6457 Q454.339 17.6457 449.073 24.2892 Q443.847 30.9327 443.847 42.3968 Q443.847 53.8203 449.073 60.4638 Q454.339 67.1073 463.251 67.1073 Q472.163 67.1073 477.348 60.4638 Q482.574 53.8203 482.574 42.3968 Q482.574 30.9327 477.348 24.2892 Q472.163 17.6457 463.251 17.6457 M463.251 11.0023 Q475.971 11.0023 483.587 19.5497 Q491.202 28.0566 491.202 42.3968 Q491.202 56.6965 483.587 65.2439 Q475.971 73.7508 463.251 73.7508 Q450.491 73.7508 442.835 65.2439 Q435.219 56.737 435.219 42.3968 Q435.219 28.0566 442.835 19.5497 Q450.491 11.0023 463.251 11.0023 Z\" fill=\"#000000\" fill-rule=\"evenodd\" fill-opacity=\"1\" /><path clip-path=\"url(#clip670)\" d=\"M498.332 27.2059 L506.231 27.2059 L520.41 65.2844 L534.588 27.2059 L542.487 27.2059 L525.473 72.576 L515.346 72.576 L498.332 27.2059 Z\" fill=\"#000000\" fill-rule=\"evenodd\" fill-opacity=\"1\" /><path clip-path=\"url(#clip670)\" d=\"M591.584 48.0275 L591.584 51.6733 L557.313 51.6733 Q557.799 59.3701 561.931 63.421 Q566.104 67.4314 573.517 67.4314 Q577.811 67.4314 581.821 66.3781 Q585.872 65.3249 589.842 63.2184 L589.842 70.267 Q585.832 71.9684 581.619 72.8596 Q577.406 73.7508 573.071 73.7508 Q562.215 73.7508 555.855 67.4314 Q549.536 61.1119 549.536 50.3365 Q549.536 39.1965 555.531 32.6746 Q561.567 26.1121 571.775 26.1121 Q580.93 26.1121 586.237 32.0264 Q591.584 37.9003 591.584 48.0275 M584.13 45.84 Q584.049 39.7232 580.687 36.0774 Q577.365 32.4315 571.856 32.4315 Q565.618 32.4315 561.85 35.9558 Q558.123 39.4801 557.556 45.8805 L584.13 45.84 Z\" fill=\"#000000\" fill-rule=\"evenodd\" fill-opacity=\"1\" /><path clip-path=\"url(#clip670)\" d=\"M630.108 34.1734 Q628.852 33.4443 627.353 33.1202 Q625.895 32.7556 624.113 32.7556 Q617.793 32.7556 614.39 36.8875 Q611.028 40.9789 611.028 48.6757 L611.028 72.576 L603.534 72.576 L603.534 27.2059 L611.028 27.2059 L611.028 34.2544 Q613.378 30.1225 617.145 28.1376 Q620.912 26.1121 626.3 26.1121 Q627.07 26.1121 628.002 26.2337 Q628.933 26.3147 630.067 26.5172 L630.108 34.1734 Z\" fill=\"#000000\" fill-rule=\"evenodd\" fill-opacity=\"1\" /><path clip-path=\"url(#clip670)\" d=\"M671.67 14.324 L671.67 27.2059 L687.023 27.2059 L687.023 32.9987 L671.67 32.9987 L671.67 57.6282 Q671.67 63.1779 673.169 64.7578 Q674.708 66.3376 679.367 66.3376 L687.023 66.3376 L687.023 72.576 L679.367 72.576 Q670.739 72.576 667.457 69.3758 Q664.176 66.1351 664.176 57.6282 L664.176 32.9987 L658.707 32.9987 L658.707 27.2059 L664.176 27.2059 L664.176 14.324 L671.67 14.324 Z\" fill=\"#000000\" fill-rule=\"evenodd\" fill-opacity=\"1\" /><path clip-path=\"url(#clip670)\" d=\"M734.54 45.1919 L734.54 72.576 L727.087 72.576 L727.087 45.4349 Q727.087 38.994 724.575 35.7938 Q722.064 32.5936 717.04 32.5936 Q711.005 32.5936 707.521 36.4419 Q704.037 40.2903 704.037 46.9338 L704.037 72.576 L696.543 72.576 L696.543 9.54393 L704.037 9.54393 L704.037 34.2544 Q706.711 30.163 710.316 28.1376 Q713.962 26.1121 718.701 26.1121 Q726.52 26.1121 730.53 30.9732 Q734.54 35.7938 734.54 45.1919 Z\" fill=\"#000000\" fill-rule=\"evenodd\" fill-opacity=\"1\" /><path clip-path=\"url(#clip670)\" d=\"M788.215 48.0275 L788.215 51.6733 L753.944 51.6733 Q754.43 59.3701 758.562 63.421 Q762.735 67.4314 770.148 67.4314 Q774.442 67.4314 778.452 66.3781 Q782.503 65.3249 786.473 63.2184 L786.473 70.267 Q782.463 71.9684 778.25 72.8596 Q774.037 73.7508 769.702 73.7508 Q758.846 73.7508 752.486 67.4314 Q746.166 61.1119 746.166 50.3365 Q746.166 39.1965 752.162 32.6746 Q758.198 26.1121 768.406 26.1121 Q777.561 26.1121 782.868 32.0264 Q788.215 37.9003 788.215 48.0275 M780.761 45.84 Q780.68 39.7232 777.318 36.0774 Q773.996 32.4315 768.487 32.4315 Q762.249 32.4315 758.481 35.9558 Q754.754 39.4801 754.187 45.8805 L780.761 45.84 Z\" fill=\"#000000\" fill-rule=\"evenodd\" fill-opacity=\"1\" /><path clip-path=\"url(#clip670)\" d=\"M822.485 27.2059 L829.939 27.2059 L839.256 62.6108 L848.533 27.2059 L857.323 27.2059 L866.64 62.6108 L875.917 27.2059 L883.371 27.2059 L871.501 72.576 L862.711 72.576 L852.948 35.3887 L843.145 72.576 L834.355 72.576 L822.485 27.2059 Z\" fill=\"#000000\" fill-rule=\"evenodd\" fill-opacity=\"1\" /><path clip-path=\"url(#clip670)\" d=\"M932.386 45.1919 L932.386 72.576 L924.933 72.576 L924.933 45.4349 Q924.933 38.994 922.421 35.7938 Q919.91 32.5936 914.887 32.5936 Q908.851 32.5936 905.367 36.4419 Q901.883 40.2903 901.883 46.9338 L901.883 72.576 L894.389 72.576 L894.389 9.54393 L901.883 9.54393 L901.883 34.2544 Q904.557 30.163 908.162 28.1376 Q911.808 26.1121 916.547 26.1121 Q924.366 26.1121 928.376 30.9732 Q932.386 35.7938 932.386 45.1919 Z\" fill=\"#000000\" fill-rule=\"evenodd\" fill-opacity=\"1\" /><path clip-path=\"url(#clip670)\" d=\"M964.834 32.4315 Q958.839 32.4315 955.355 37.1306 Q951.871 41.7891 951.871 49.9314 Q951.871 58.0738 955.315 62.7728 Q958.798 67.4314 964.834 67.4314 Q970.789 67.4314 974.273 62.7323 Q977.757 58.0333 977.757 49.9314 Q977.757 41.8701 974.273 37.1711 Q970.789 32.4315 964.834 32.4315 M964.834 26.1121 Q974.556 26.1121 980.106 32.4315 Q985.656 38.7509 985.656 49.9314 Q985.656 61.0714 980.106 67.4314 Q974.556 73.7508 964.834 73.7508 Q955.072 73.7508 949.522 67.4314 Q944.013 61.0714 944.013 49.9314 Q944.013 38.7509 949.522 32.4315 Q955.072 26.1121 964.834 26.1121 Z\" fill=\"#000000\" fill-rule=\"evenodd\" fill-opacity=\"1\" /><path clip-path=\"url(#clip670)\" d=\"M998.011 9.54393 L1005.46 9.54393 L1005.46 72.576 L998.011 72.576 L998.011 9.54393 Z\" fill=\"#000000\" fill-rule=\"evenodd\" fill-opacity=\"1\" /><path clip-path=\"url(#clip670)\" d=\"M1059.87 48.0275 L1059.87 51.6733 L1025.6 51.6733 Q1026.08 59.3701 1030.22 63.421 Q1034.39 67.4314 1041.8 67.4314 Q1046.1 67.4314 1050.11 66.3781 Q1054.16 65.3249 1058.13 63.2184 L1058.13 70.267 Q1054.12 71.9684 1049.9 72.8596 Q1045.69 73.7508 1041.36 73.7508 Q1030.5 73.7508 1024.14 67.4314 Q1017.82 61.1119 1017.82 50.3365 Q1017.82 39.1965 1023.82 32.6746 Q1029.85 26.1121 1040.06 26.1121 Q1049.21 26.1121 1054.52 32.0264 Q1059.87 37.9003 1059.87 48.0275 M1052.41 45.84 Q1052.33 39.7232 1048.97 36.0774 Q1045.65 32.4315 1040.14 32.4315 Q1033.9 32.4315 1030.13 35.9558 Q1026.41 39.4801 1025.84 45.8805 L1052.41 45.84 Z\" fill=\"#000000\" fill-rule=\"evenodd\" fill-opacity=\"1\" /><path clip-path=\"url(#clip670)\" d=\"M1127.4 28.5427 L1127.4 35.5912 Q1124.24 33.9709 1120.83 33.1607 Q1117.43 32.3505 1113.79 32.3505 Q1108.24 32.3505 1105.44 34.0519 Q1102.69 35.7533 1102.69 39.156 Q1102.69 41.7486 1104.67 43.2475 Q1106.66 44.7058 1112.65 46.0426 L1115.2 46.6097 Q1123.14 48.3111 1126.47 51.4303 Q1129.83 54.509 1129.83 60.0587 Q1129.83 66.3781 1124.8 70.0644 Q1119.82 73.7508 1111.07 73.7508 Q1107.43 73.7508 1103.46 73.0216 Q1099.53 72.3329 1095.15 70.9151 L1095.15 63.2184 Q1099.28 65.3654 1103.29 66.4591 Q1107.3 67.5124 1111.23 67.5124 Q1116.5 67.5124 1119.34 65.73 Q1122.17 63.9071 1122.17 60.6258 Q1122.17 57.5877 1120.11 55.9673 Q1118.08 54.3469 1111.15 52.8481 L1108.56 52.2405 Q1101.63 50.7821 1098.55 47.7845 Q1095.48 44.7463 1095.48 39.4801 Q1095.48 33.0797 1100.01 29.5959 Q1104.55 26.1121 1112.89 26.1121 Q1117.03 26.1121 1120.67 26.7198 Q1124.32 27.3274 1127.4 28.5427 Z\" fill=\"#000000\" fill-rule=\"evenodd\" fill-opacity=\"1\" /><path clip-path=\"url(#clip670)\" d=\"M1140.93 54.671 L1140.93 27.2059 L1148.38 27.2059 L1148.38 54.3874 Q1148.38 60.8284 1150.89 64.0691 Q1153.4 67.2693 1158.43 67.2693 Q1164.46 67.2693 1167.95 63.421 Q1171.47 59.5726 1171.47 52.9291 L1171.47 27.2059 L1178.92 27.2059 L1178.92 72.576 L1171.47 72.576 L1171.47 65.6084 Q1168.76 69.7404 1165.15 71.7658 Q1161.59 73.7508 1156.85 73.7508 Q1149.03 73.7508 1144.98 68.8897 Q1140.93 64.0286 1140.93 54.671 M1159.68 26.1121 L1159.68 26.1121 Z\" fill=\"#000000\" fill-rule=\"evenodd\" fill-opacity=\"1\" /><path clip-path=\"url(#clip670)\" d=\"M1201.49 65.7705 L1201.49 89.8329 L1193.99 89.8329 L1193.99 27.2059 L1201.49 27.2059 L1201.49 34.0924 Q1203.84 30.0415 1207.4 28.0971 Q1211.01 26.1121 1215.99 26.1121 Q1224.25 26.1121 1229.4 32.6746 Q1234.58 39.2371 1234.58 49.9314 Q1234.58 60.6258 1229.4 67.1883 Q1224.25 73.7508 1215.99 73.7508 Q1211.01 73.7508 1207.4 71.8063 Q1203.84 69.8214 1201.49 65.7705 M1226.85 49.9314 Q1226.85 41.7081 1223.44 37.0496 Q1220.08 32.3505 1214.17 32.3505 Q1208.25 32.3505 1204.85 37.0496 Q1201.49 41.7081 1201.49 49.9314 Q1201.49 58.1548 1204.85 62.8538 Q1208.25 67.5124 1214.17 67.5124 Q1220.08 67.5124 1223.44 62.8538 Q1226.85 58.1548 1226.85 49.9314 Z\" fill=\"#000000\" fill-rule=\"evenodd\" fill-opacity=\"1\" /><path clip-path=\"url(#clip670)\" d=\"M1254.15 65.7705 L1254.15 89.8329 L1246.66 89.8329 L1246.66 27.2059 L1254.15 27.2059 L1254.15 34.0924 Q1256.5 30.0415 1260.06 28.0971 Q1263.67 26.1121 1268.65 26.1121 Q1276.92 26.1121 1282.06 32.6746 Q1287.25 39.2371 1287.25 49.9314 Q1287.25 60.6258 1282.06 67.1883 Q1276.92 73.7508 1268.65 73.7508 Q1263.67 73.7508 1260.06 71.8063 Q1256.5 69.8214 1254.15 65.7705 M1279.51 49.9314 Q1279.51 41.7081 1276.11 37.0496 Q1272.74 32.3505 1266.83 32.3505 Q1260.91 32.3505 1257.51 37.0496 Q1254.15 41.7081 1254.15 49.9314 Q1254.15 58.1548 1257.51 62.8538 Q1260.91 67.5124 1266.83 67.5124 Q1272.74 67.5124 1276.11 62.8538 Q1279.51 58.1548 1279.51 49.9314 Z\" fill=\"#000000\" fill-rule=\"evenodd\" fill-opacity=\"1\" /><path clip-path=\"url(#clip670)\" d=\"M1299.6 9.54393 L1307.05 9.54393 L1307.05 72.576 L1299.6 72.576 L1299.6 9.54393 Z\" fill=\"#000000\" fill-rule=\"evenodd\" fill-opacity=\"1\" /><path clip-path=\"url(#clip670)\" d=\"M1341.53 76.7889 Q1338.37 84.8907 1335.37 87.3618 Q1332.37 89.8329 1327.35 89.8329 L1321.39 89.8329 L1321.39 83.5945 L1325.77 83.5945 Q1328.85 83.5945 1330.55 82.1361 Q1332.25 80.6778 1334.32 75.2496 L1335.65 71.8468 L1317.3 27.2059 L1325.2 27.2059 L1339.38 62.6918 L1353.56 27.2059 L1361.46 27.2059 L1341.53 76.7889 Z\" fill=\"#000000\" fill-rule=\"evenodd\" fill-opacity=\"1\" /><path clip-path=\"url(#clip670)\" d=\"M1430.77 28.9478 L1430.77 35.9153 Q1427.61 34.1734 1424.41 33.3227 Q1421.25 32.4315 1418.01 32.4315 Q1410.76 32.4315 1406.75 37.0496 Q1402.74 41.6271 1402.74 49.9314 Q1402.74 58.2358 1406.75 62.8538 Q1410.76 67.4314 1418.01 67.4314 Q1421.25 67.4314 1424.41 66.5807 Q1427.61 65.6895 1430.77 63.9476 L1430.77 70.8341 Q1427.65 72.2924 1424.29 73.0216 Q1420.97 73.7508 1417.2 73.7508 Q1406.95 73.7508 1400.91 67.3098 Q1394.88 60.8689 1394.88 49.9314 Q1394.88 38.832 1400.95 32.472 Q1407.07 26.1121 1417.68 26.1121 Q1421.13 26.1121 1424.41 26.8413 Q1427.69 27.5299 1430.77 28.9478 Z\" fill=\"#000000\" fill-rule=\"evenodd\" fill-opacity=\"1\" /><path clip-path=\"url(#clip670)\" d=\"M1481.45 45.1919 L1481.45 72.576 L1473.99 72.576 L1473.99 45.4349 Q1473.99 38.994 1471.48 35.7938 Q1468.97 32.5936 1463.95 32.5936 Q1457.91 32.5936 1454.43 36.4419 Q1450.94 40.2903 1450.94 46.9338 L1450.94 72.576 L1443.45 72.576 L1443.45 9.54393 L1450.94 9.54393 L1450.94 34.2544 Q1453.62 30.163 1457.22 28.1376 Q1460.87 26.1121 1465.61 26.1121 Q1473.43 26.1121 1477.44 30.9732 Q1481.45 35.7938 1481.45 45.1919 Z\" fill=\"#000000\" fill-rule=\"evenodd\" fill-opacity=\"1\" /><path clip-path=\"url(#clip670)\" d=\"M1516.93 49.7694 Q1507.9 49.7694 1504.41 51.8354 Q1500.93 53.9013 1500.93 58.8839 Q1500.93 62.8538 1503.52 65.2034 Q1506.16 67.5124 1510.65 67.5124 Q1516.85 67.5124 1520.58 63.1374 Q1524.35 58.7219 1524.35 51.4303 L1524.35 49.7694 L1516.93 49.7694 M1531.8 46.6907 L1531.8 72.576 L1524.35 72.576 L1524.35 65.6895 Q1521.79 69.8214 1517.99 71.8063 Q1514.18 73.7508 1508.67 73.7508 Q1501.7 73.7508 1497.57 69.8619 Q1493.48 65.9325 1493.48 59.3701 Q1493.48 51.7138 1498.58 47.825 Q1503.73 43.9361 1513.89 43.9361 L1524.35 43.9361 L1524.35 43.2069 Q1524.35 38.0623 1520.94 35.2672 Q1517.58 32.4315 1511.46 32.4315 Q1507.57 32.4315 1503.89 33.3632 Q1500.2 34.295 1496.8 36.1584 L1496.8 29.2718 Q1500.89 27.692 1504.74 26.9223 Q1508.59 26.1121 1512.23 26.1121 Q1522.08 26.1121 1526.94 31.2163 Q1531.8 36.3204 1531.8 46.6907 Z\" fill=\"#000000\" fill-rule=\"evenodd\" fill-opacity=\"1\" /><path clip-path=\"url(#clip670)\" d=\"M1547.15 27.2059 L1554.61 27.2059 L1554.61 72.576 L1547.15 72.576 L1547.15 27.2059 M1547.15 9.54393 L1554.61 9.54393 L1554.61 18.9825 L1547.15 18.9825 L1547.15 9.54393 Z\" fill=\"#000000\" fill-rule=\"evenodd\" fill-opacity=\"1\" /><path clip-path=\"url(#clip670)\" d=\"M1607.92 45.1919 L1607.92 72.576 L1600.46 72.576 L1600.46 45.4349 Q1600.46 38.994 1597.95 35.7938 Q1595.44 32.5936 1590.42 32.5936 Q1584.38 32.5936 1580.9 36.4419 Q1577.41 40.2903 1577.41 46.9338 L1577.41 72.576 L1569.92 72.576 L1569.92 27.2059 L1577.41 27.2059 L1577.41 34.2544 Q1580.09 30.163 1583.69 28.1376 Q1587.34 26.1121 1592.08 26.1121 Q1599.89 26.1121 1603.9 30.9732 Q1607.92 35.7938 1607.92 45.1919 Z\" fill=\"#000000\" fill-rule=\"evenodd\" fill-opacity=\"1\" /><path clip-path=\"url(#clip670)\" d=\"M1667.06 9.62495 Q1661.63 18.942 1659 28.0566 Q1656.36 37.1711 1656.36 46.5287 Q1656.36 55.8863 1659 65.0818 Q1661.67 74.2369 1667.06 83.5134 L1660.58 83.5134 Q1654.5 73.9938 1651.46 64.7983 Q1648.46 55.6027 1648.46 46.5287 Q1648.46 37.4952 1651.46 28.3401 Q1654.46 19.1851 1660.58 9.62495 L1667.06 9.62495 Z\" fill=\"#000000\" fill-rule=\"evenodd\" fill-opacity=\"1\" /><path clip-path=\"url(#clip670)\" d=\"M1713.56 34.4165 Q1712.06 33.8899 1710.57 33.4848 Q1706.55 32.4315 1702.26 32.4315 Q1694.85 32.4315 1690.72 36.4419 Q1686.87 40.1688 1686.14 47.0148 L1713.56 47.0148 L1713.56 52.8481 L1686.14 52.8481 Q1686.87 59.6941 1690.72 63.421 Q1694.85 67.4314 1702.26 67.4314 Q1707.45 67.4314 1710.57 66.3781 L1713.56 65.3654 L1713.56 72.1304 L1710.36 72.8596 Q1706.15 73.7508 1701.82 73.7508 Q1690.96 73.7508 1684.64 67.4314 Q1678.28 61.1119 1678.28 49.9314 Q1678.28 38.7509 1684.64 32.4315 Q1690.96 26.1121 1701.82 26.1121 Q1705.91 26.1121 1710.36 27.0033 Q1711.98 27.3274 1713.56 27.8135 L1713.56 34.4165 Z\" fill=\"#000000\" fill-rule=\"evenodd\" fill-opacity=\"1\" /><path clip-path=\"url(#clip670)\" d=\"M1728.79 46.5287 L1750.63 46.5287 L1750.63 53.1722 L1728.79 53.1722 L1728.79 46.5287 Z\" fill=\"#000000\" fill-rule=\"evenodd\" fill-opacity=\"1\" /><path clip-path=\"url(#clip670)\" d=\"M1795.15 28.9478 L1795.15 35.9153 Q1791.99 34.1734 1788.79 33.3227 Q1785.63 32.4315 1782.39 32.4315 Q1775.14 32.4315 1771.13 37.0496 Q1767.12 41.6271 1767.12 49.9314 Q1767.12 58.2358 1771.13 62.8538 Q1775.14 67.4314 1782.39 67.4314 Q1785.63 67.4314 1788.79 66.5807 Q1791.99 65.6895 1795.15 63.9476 L1795.15 70.8341 Q1792.03 72.2924 1788.67 73.0216 Q1785.34 73.7508 1781.58 73.7508 Q1771.33 73.7508 1765.29 67.3098 Q1759.26 60.8689 1759.26 49.9314 Q1759.26 38.832 1765.33 32.472 Q1771.45 26.1121 1782.06 26.1121 Q1785.51 26.1121 1788.79 26.8413 Q1792.07 27.5299 1795.15 28.9478 Z\" fill=\"#000000\" fill-rule=\"evenodd\" fill-opacity=\"1\" /><path clip-path=\"url(#clip670)\" d=\"M1825.69 32.4315 Q1819.7 32.4315 1816.21 37.1306 Q1812.73 41.7891 1812.73 49.9314 Q1812.73 58.0738 1816.17 62.7728 Q1819.66 67.4314 1825.69 67.4314 Q1831.65 67.4314 1835.13 62.7323 Q1838.61 58.0333 1838.61 49.9314 Q1838.61 41.8701 1835.13 37.1711 Q1831.65 32.4315 1825.69 32.4315 M1825.69 26.1121 Q1835.41 26.1121 1840.96 32.4315 Q1846.51 38.7509 1846.51 49.9314 Q1846.51 61.0714 1840.96 67.4314 Q1835.41 73.7508 1825.69 73.7508 Q1815.93 73.7508 1810.38 67.4314 Q1804.87 61.0714 1804.87 49.9314 Q1804.87 38.7509 1810.38 32.4315 Q1815.93 26.1121 1825.69 26.1121 Z\" fill=\"#000000\" fill-rule=\"evenodd\" fill-opacity=\"1\" /><path clip-path=\"url(#clip670)\" d=\"M1896.58 45.1919 L1896.58 72.576 L1889.13 72.576 L1889.13 45.4349 Q1889.13 38.994 1886.62 35.7938 Q1884.11 32.5936 1879.08 32.5936 Q1873.05 32.5936 1869.56 36.4419 Q1866.08 40.2903 1866.08 46.9338 L1866.08 72.576 L1858.59 72.576 L1858.59 27.2059 L1866.08 27.2059 L1866.08 34.2544 Q1868.75 30.163 1872.36 28.1376 Q1876 26.1121 1880.74 26.1121 Q1888.56 26.1121 1892.57 30.9732 Q1896.58 35.7938 1896.58 45.1919 Z\" fill=\"#000000\" fill-rule=\"evenodd\" fill-opacity=\"1\" /><path clip-path=\"url(#clip670)\" d=\"M1940.37 28.5427 L1940.37 35.5912 Q1937.21 33.9709 1933.81 33.1607 Q1930.41 32.3505 1926.76 32.3505 Q1921.21 32.3505 1918.42 34.0519 Q1915.66 35.7533 1915.66 39.156 Q1915.66 41.7486 1917.65 43.2475 Q1919.63 44.7058 1925.63 46.0426 L1928.18 46.6097 Q1936.12 48.3111 1939.44 51.4303 Q1942.8 54.509 1942.8 60.0587 Q1942.8 66.3781 1937.78 70.0644 Q1932.8 73.7508 1924.05 73.7508 Q1920.4 73.7508 1916.43 73.0216 Q1912.5 72.3329 1908.13 70.9151 L1908.13 63.2184 Q1912.26 65.3654 1916.27 66.4591 Q1920.28 67.5124 1924.21 67.5124 Q1929.48 67.5124 1932.31 65.73 Q1935.15 63.9071 1935.15 60.6258 Q1935.15 57.5877 1933.08 55.9673 Q1931.06 54.3469 1924.13 52.8481 L1921.54 52.2405 Q1914.61 50.7821 1911.53 47.7845 Q1908.45 44.7463 1908.45 39.4801 Q1908.45 33.0797 1912.99 29.5959 Q1917.53 26.1121 1925.87 26.1121 Q1930 26.1121 1933.65 26.7198 Q1937.29 27.3274 1940.37 28.5427 Z\" fill=\"#000000\" fill-rule=\"evenodd\" fill-opacity=\"1\" /><path clip-path=\"url(#clip670)\" d=\"M1962.05 14.324 L1962.05 27.2059 L1977.4 27.2059 L1977.4 32.9987 L1962.05 32.9987 L1962.05 57.6282 Q1962.05 63.1779 1963.54 64.7578 Q1965.08 66.3376 1969.74 66.3376 L1977.4 66.3376 L1977.4 72.576 L1969.74 72.576 Q1961.11 72.576 1957.83 69.3758 Q1954.55 66.1351 1954.55 57.6282 L1954.55 32.9987 L1949.08 32.9987 L1949.08 27.2059 L1954.55 27.2059 L1954.55 14.324 L1962.05 14.324 Z\" fill=\"#000000\" fill-rule=\"evenodd\" fill-opacity=\"1\" /><path clip-path=\"url(#clip670)\" d=\"M2013.49 34.1734 Q2012.24 33.4443 2010.74 33.1202 Q2009.28 32.7556 2007.5 32.7556 Q2001.18 32.7556 1997.77 36.8875 Q1994.41 40.9789 1994.41 48.6757 L1994.41 72.576 L1986.92 72.576 L1986.92 27.2059 L1994.41 27.2059 L1994.41 34.2544 Q1996.76 30.1225 2000.53 28.1376 Q2004.3 26.1121 2009.68 26.1121 Q2010.45 26.1121 2011.39 26.2337 Q2012.32 26.3147 2013.45 26.5172 L2013.49 34.1734 Z\" fill=\"#000000\" fill-rule=\"evenodd\" fill-opacity=\"1\" /><path clip-path=\"url(#clip670)\" d=\"M2041.93 49.7694 Q2032.9 49.7694 2029.41 51.8354 Q2025.93 53.9013 2025.93 58.8839 Q2025.93 62.8538 2028.52 65.2034 Q2031.15 67.5124 2035.65 67.5124 Q2041.85 67.5124 2045.57 63.1374 Q2049.34 58.7219 2049.34 51.4303 L2049.34 49.7694 L2041.93 49.7694 M2056.8 46.6907 L2056.8 72.576 L2049.34 72.576 L2049.34 65.6895 Q2046.79 69.8214 2042.98 71.8063 Q2039.17 73.7508 2033.67 73.7508 Q2026.7 73.7508 2022.57 69.8619 Q2018.47 65.9325 2018.47 59.3701 Q2018.47 51.7138 2023.58 47.825 Q2028.72 43.9361 2038.89 43.9361 L2049.34 43.9361 L2049.34 43.2069 Q2049.34 38.0623 2045.94 35.2672 Q2042.58 32.4315 2036.46 32.4315 Q2032.57 32.4315 2028.89 33.3632 Q2025.2 34.295 2021.8 36.1584 L2021.8 29.2718 Q2025.89 27.692 2029.74 26.9223 Q2033.58 26.1121 2037.23 26.1121 Q2047.07 26.1121 2051.93 31.2163 Q2056.8 36.3204 2056.8 46.6907 Z\" fill=\"#000000\" fill-rule=\"evenodd\" fill-opacity=\"1\" /><path clip-path=\"url(#clip670)\" d=\"M2072.15 27.2059 L2079.6 27.2059 L2079.6 72.576 L2072.15 72.576 L2072.15 27.2059 M2072.15 9.54393 L2079.6 9.54393 L2079.6 18.9825 L2072.15 18.9825 L2072.15 9.54393 Z\" fill=\"#000000\" fill-rule=\"evenodd\" fill-opacity=\"1\" /><path clip-path=\"url(#clip670)\" d=\"M2132.91 45.1919 L2132.91 72.576 L2125.46 72.576 L2125.46 45.4349 Q2125.46 38.994 2122.95 35.7938 Q2120.44 32.5936 2115.41 32.5936 Q2109.38 32.5936 2105.89 36.4419 Q2102.41 40.2903 2102.41 46.9338 L2102.41 72.576 L2094.91 72.576 L2094.91 27.2059 L2102.41 27.2059 L2102.41 34.2544 Q2105.08 30.163 2108.69 28.1376 Q2112.33 26.1121 2117.07 26.1121 Q2124.89 26.1121 2128.9 30.9732 Q2132.91 35.7938 2132.91 45.1919 Z\" fill=\"#000000\" fill-rule=\"evenodd\" fill-opacity=\"1\" /><path clip-path=\"url(#clip670)\" d=\"M2155.15 14.324 L2155.15 27.2059 L2170.5 27.2059 L2170.5 32.9987 L2155.15 32.9987 L2155.15 57.6282 Q2155.15 63.1779 2156.65 64.7578 Q2158.19 66.3376 2162.85 66.3376 L2170.5 66.3376 L2170.5 72.576 L2162.85 72.576 Q2154.22 72.576 2150.94 69.3758 Q2147.66 66.1351 2147.66 57.6282 L2147.66 32.9987 L2142.19 32.9987 L2142.19 27.2059 L2147.66 27.2059 L2147.66 14.324 L2155.15 14.324 Z\" fill=\"#000000\" fill-rule=\"evenodd\" fill-opacity=\"1\" /><path clip-path=\"url(#clip670)\" d=\"M2179.13 9.62495 L2185.61 9.62495 Q2191.69 19.1851 2194.69 28.3401 Q2197.73 37.4952 2197.73 46.5287 Q2197.73 55.6027 2194.69 64.7983 Q2191.69 73.9938 2185.61 83.5134 L2179.13 83.5134 Q2184.52 74.2369 2187.15 65.0818 Q2189.83 55.8863 2189.83 46.5287 Q2189.83 37.1711 2187.15 28.0566 Q2184.52 18.942 2179.13 9.62495 Z\" fill=\"#000000\" fill-rule=\"evenodd\" fill-opacity=\"1\" /><polyline clip-path=\"url(#clip672)\" style=\"stroke:#009af9; stroke-linecap:round; stroke-linejoin:round; stroke-width:4; stroke-opacity:1; fill:none\" points=\"\n",
       "  2294.1,1386.4 1805.29,1322.52 1316.47,1198.2 827.66,905.044 338.848,160.256 \n",
       "  \"/>\n",
       "<circle clip-path=\"url(#clip672)\" cx=\"2294.1\" cy=\"1386.4\" r=\"14.4\" fill=\"#e26f46\" fill-rule=\"evenodd\" fill-opacity=\"1\" stroke=\"#000000\" stroke-opacity=\"1\" stroke-width=\"3.2\"/>\n",
       "<circle clip-path=\"url(#clip672)\" cx=\"1805.29\" cy=\"1322.52\" r=\"14.4\" fill=\"#e26f46\" fill-rule=\"evenodd\" fill-opacity=\"1\" stroke=\"#000000\" stroke-opacity=\"1\" stroke-width=\"3.2\"/>\n",
       "<circle clip-path=\"url(#clip672)\" cx=\"1316.47\" cy=\"1198.2\" r=\"14.4\" fill=\"#e26f46\" fill-rule=\"evenodd\" fill-opacity=\"1\" stroke=\"#000000\" stroke-opacity=\"1\" stroke-width=\"3.2\"/>\n",
       "<circle clip-path=\"url(#clip672)\" cx=\"827.66\" cy=\"905.044\" r=\"14.4\" fill=\"#e26f46\" fill-rule=\"evenodd\" fill-opacity=\"1\" stroke=\"#000000\" stroke-opacity=\"1\" stroke-width=\"3.2\"/>\n",
       "<circle clip-path=\"url(#clip672)\" cx=\"338.848\" cy=\"160.256\" r=\"14.4\" fill=\"#e26f46\" fill-rule=\"evenodd\" fill-opacity=\"1\" stroke=\"#000000\" stroke-opacity=\"1\" stroke-width=\"3.2\"/>\n",
       "<path clip-path=\"url(#clip670)\" d=\"\n",
       "M2023.98 322.316 L2283.67 322.316 L2283.67 166.796 L2023.98 166.796  Z\n",
       "  \" fill=\"#ffffff\" fill-rule=\"evenodd\" fill-opacity=\"1\"/>\n",
       "<polyline clip-path=\"url(#clip670)\" style=\"stroke:#000000; stroke-linecap:round; stroke-linejoin:round; stroke-width:4; stroke-opacity:1; fill:none\" points=\"\n",
       "  2023.98,322.316 2283.67,322.316 2283.67,166.796 2023.98,166.796 2023.98,322.316 \n",
       "  \"/>\n",
       "<polyline clip-path=\"url(#clip670)\" style=\"stroke:#009af9; stroke-linecap:round; stroke-linejoin:round; stroke-width:4; stroke-opacity:1; fill:none\" points=\"\n",
       "  2047.01,218.636 2185.18,218.636 \n",
       "  \"/>\n",
       "<path clip-path=\"url(#clip670)\" d=\"M2222.05 238.323 Q2220.25 242.953 2218.54 244.365 Q2216.82 245.777 2213.95 245.777 L2210.55 245.777 L2210.55 242.212 L2213.05 242.212 Q2214.81 242.212 2215.78 241.379 Q2216.75 240.545 2217.93 237.443 L2218.7 235.499 L2208.21 209.99 L2212.73 209.99 L2220.83 230.268 L2228.93 209.99 L2233.44 209.99 L2222.05 238.323 Z\" fill=\"#000000\" fill-rule=\"evenodd\" fill-opacity=\"1\" /><path clip-path=\"url(#clip670)\" d=\"M2240.73 231.981 L2248.37 231.981 L2248.37 205.615 L2240.06 207.282 L2240.06 203.022 L2248.33 201.356 L2253 201.356 L2253 231.981 L2260.64 231.981 L2260.64 235.916 L2240.73 235.916 L2240.73 231.981 Z\" fill=\"#000000\" fill-rule=\"evenodd\" fill-opacity=\"1\" /><circle clip-path=\"url(#clip670)\" cx=\"2116.1\" cy=\"270.476\" r=\"23.04\" fill=\"#e26f46\" fill-rule=\"evenodd\" fill-opacity=\"1\" stroke=\"#000000\" stroke-opacity=\"1\" stroke-width=\"5.12\"/>\n",
       "<path clip-path=\"url(#clip670)\" d=\"M2222.05 290.163 Q2220.25 294.793 2218.54 296.205 Q2216.82 297.617 2213.95 297.617 L2210.55 297.617 L2210.55 294.052 L2213.05 294.052 Q2214.81 294.052 2215.78 293.219 Q2216.75 292.385 2217.93 289.283 L2218.7 287.339 L2208.21 261.83 L2212.73 261.83 L2220.83 282.108 L2228.93 261.83 L2233.44 261.83 L2222.05 290.163 Z\" fill=\"#000000\" fill-rule=\"evenodd\" fill-opacity=\"1\" /><path clip-path=\"url(#clip670)\" d=\"M2243.95 283.821 L2260.27 283.821 L2260.27 287.756 L2238.33 287.756 L2238.33 283.821 Q2240.99 281.066 2245.57 276.436 Q2250.18 271.784 2251.36 270.441 Q2253.6 267.918 2254.48 266.182 Q2255.39 264.423 2255.39 262.733 Q2255.39 259.978 2253.44 258.242 Q2251.52 256.506 2248.42 256.506 Q2246.22 256.506 2243.77 257.27 Q2241.34 258.034 2238.56 259.585 L2238.56 254.862 Q2241.38 253.728 2243.84 253.149 Q2246.29 252.571 2248.33 252.571 Q2253.7 252.571 2256.89 255.256 Q2260.09 257.941 2260.09 262.432 Q2260.09 264.561 2259.28 266.483 Q2258.49 268.381 2256.38 270.973 Q2255.8 271.645 2252.7 274.862 Q2249.6 278.057 2243.95 283.821 Z\" fill=\"#000000\" fill-rule=\"evenodd\" fill-opacity=\"1\" /></svg>\n"
      ]
     },
     "execution_count": 17,
     "metadata": {},
     "output_type": "execute_result"
    }
   ],
   "source": [
    "x_axis = ls\n",
    "y_axis = res\n",
    "\n",
    "plot(x_axis, y_axis)\n",
    "plot!(x_axis, y_axis, seriestype=:scatter)\n",
    "\n",
    "title!(\"Over the whole supply chain (ϵ-constraint)\")\n",
    "xlabel!(\"Ecologically Safe\")\n",
    "ylabel!(\"Socially Just\")"
   ]
  },
  {
   "cell_type": "code",
   "execution_count": null,
   "id": "e4fd3a4b",
   "metadata": {},
   "outputs": [],
   "source": []
  }
 ],
 "metadata": {
  "kernelspec": {
   "display_name": "Julia 1.8.3",
   "language": "julia",
   "name": "julia-1.8"
  },
  "language_info": {
   "file_extension": ".jl",
   "mimetype": "application/julia",
   "name": "julia",
   "version": "1.8.3"
  }
 },
 "nbformat": 4,
 "nbformat_minor": 5
}
