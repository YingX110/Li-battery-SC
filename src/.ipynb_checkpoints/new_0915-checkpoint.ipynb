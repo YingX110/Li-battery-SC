{
 "cells": [
  {
   "cell_type": "code",
   "execution_count": 1,
   "id": "9b532604",
   "metadata": {},
   "outputs": [],
   "source": [
    "using JuMP, Gurobi\n",
    "using CSV, LinearAlgebra, DataFrames"
   ]
  },
  {
   "cell_type": "code",
   "execution_count": 33,
   "id": "52b86dd3",
   "metadata": {},
   "outputs": [],
   "source": [
    "#load the data and orgnize \n",
    "FL = repeat([Float64], inner=15)\n",
    "dtype = append!([String], FL);\n",
    "\n",
    "regional_EF = CSV.File(\"C:/Users/bourg/.julia/environments/batterySC/Li-battery-SC/data/social/new_EF_SC1.csv\",header=1,delim=\",\", types=dtype) |> DataFrame    \n",
    "capacity = CSV.File(\"C:/Users/bourg/.julia/environments/batterySC/Li-battery-SC/data/social/capacity2.csv\",header=1,delim=\",\", types=dtype) |> DataFrame    \n",
    "distance = CSV.File(\"C:/Users/bourg/.julia/environments/batterySC/Li-battery-SC/data/social/distance.csv\",header=1,delim=\",\") |> DataFrame \n",
    "LCA_model = CSV.File(\"C:/Users/bourg/.julia/environments/batterySC/Li-battery-SC/data/social/LCA_model2.csv\",header=1,delim=\",\") |> DataFrame \n",
    "D_Dsoc = CSV.File(\"C:/Users/bourg/.julia/environments/batterySC/Li-battery-SC/data/social/D_Dsoc1.csv\",header=1,delim=\",\") |> DataFrame\n",
    "GDP = CSV.File(\"C:/Users/bourg/.julia/environments/batterySC/Li-battery-SC/data/social/GDP.csv\",header=1,delim=\",\") |> DataFrame;"
   ]
  },
  {
   "cell_type": "code",
   "execution_count": 34,
   "id": "871a427e",
   "metadata": {},
   "outputs": [],
   "source": [
    "cell_demand = 0.001*164.98*(1.3*1e6)*2           # annual demand of Li battery for tesla (1.369M EV/yr, ~2 NMC111 pack/EV, 226 kg/pack (35kwh/pack), 80~100 kWh per EV)\n",
    "\n",
    "D = D_Dsoc[!, \"D\"]          # national CO2 emission (ton/yr)\n",
    "Dsoc = D_Dsoc[!, \"Dsoc ton/yr\"]           # national CO2 sink (ton/yr)\n",
    "\n",
    "EF_trans = 1.005/10000                        # ton CO2/km*ton (The average freight truck in the U.S. emits 161.8 grams of CO2 per ton-mile)\n",
    "process = LCA_model[!,\"process\"]\n",
    "countries = capacity[!,\"country\"]\n",
    "ncty = size(countries,1)                          # No. of countries\n",
    "nproc = size(process,1);                          # No. of processes \n",
    "\n",
    "mkt_loc = findfirst(isequal(\"United States\"), countries)\n",
    "mkt_proc = findfirst(isequal(\"battery\"), process)\n",
    "\n",
    "# seperate model\n",
    "cathode = 1:4\n",
    "cell = 5:10\n",
    "noncell = [12,13]\n",
    "battery = [11,14]\n",
    "scaler = LCA_model[!,\"scaler\"]\n",
    "price = LCA_model[!,\"price (usd/ton product)\"]\n",
    "vGDP = GDP[!,\"GDP usd\"];"
   ]
  },
  {
   "cell_type": "code",
   "execution_count": 35,
   "id": "90603825",
   "metadata": {},
   "outputs": [
    {
     "data": {
      "text/plain": [
       "30-element Vector{Float64}:\n",
       " 4.87e11\n",
       " 1.55e12\n",
       " 1.65e12\n",
       " 2.0e12\n",
       " 3.17e11\n",
       " 1.82e13\n",
       " 3.19e11\n",
       " 5.54e10\n",
       " 2.96e11\n",
       " 2.96e12\n",
       " 4.26e12\n",
       " 3.15e12\n",
       " 1.19e12\n",
       " ⋮\n",
       " 4.9e11\n",
       " 2.24e11\n",
       " 3.94e11\n",
       " 2.54e11\n",
       " 1.84e12\n",
       " 8.69e11\n",
       " 4.19e11\n",
       " 1.81e12\n",
       " 8.19e11\n",
       " 2.0e11\n",
       " 4.15e11\n",
       " 2.33e13"
      ]
     },
     "execution_count": 35,
     "metadata": {},
     "output_type": "execute_result"
    }
   ],
   "source": [
    "vGDP"
   ]
  },
  {
   "cell_type": "code",
   "execution_count": 36,
   "id": "89bd7af2",
   "metadata": {},
   "outputs": [
    {
     "data": {
      "text/plain": [
       "1.0"
      ]
     },
     "execution_count": 36,
     "metadata": {},
     "output_type": "execute_result"
    }
   ],
   "source": [
    "up_cath = scaler[1:4] * scaler[5] * scaler[11]\n",
    "up_cell = scaler[5:10] * scaler[11]\n",
    "cell_sef = scaler[11]\n",
    "up_noncell = scaler[12:13] * scaler[14]\n",
    "noncell_sef = scaler[14]\n",
    "battery_sef = scaler[15]"
   ]
  },
  {
   "cell_type": "code",
   "execution_count": 37,
   "id": "2ba71b3e",
   "metadata": {},
   "outputs": [
    {
     "data": {
      "text/plain": [
       "15-element Vector{Int64}:\n",
       "  40000\n",
       "  79500\n",
       "   1510\n",
       "  20130\n",
       "   7400\n",
       "  20000\n",
       "   1208\n",
       "   1143\n",
       "   8210\n",
       "   2137\n",
       "  27400\n",
       "   1350\n",
       " 600000\n",
       "   3510\n",
       "  23400"
      ]
     },
     "execution_count": 37,
     "metadata": {},
     "output_type": "execute_result"
    }
   ],
   "source": [
    "price # $/ton"
   ]
  },
  {
   "cell_type": "code",
   "execution_count": 38,
   "id": "a82d668a",
   "metadata": {},
   "outputs": [
    {
     "data": {
      "text/plain": [
       "15-element Vector{Float64}:\n",
       "  47166.82181639999\n",
       "  66008.92034879999\n",
       "  64284.806757599996\n",
       "  65885.769378\n",
       " 123150.9708\n",
       "  68728.1933\n",
       "   4975.796799999999\n",
       "   1243.9491999999998\n",
       "  29543.793499999992\n",
       "  57221.66319999999\n",
       " 310987.29999999993\n",
       "   2144.74\n",
       "   1715.792\n",
       " 428947.99999999994\n",
       " 428947.99999999994"
      ]
     },
     "execution_count": 38,
     "metadata": {},
     "output_type": "execute_result"
    }
   ],
   "source": [
    "input_amount = []\n",
    "input_amount = vcat(up_cath, up_cell, cell_sef, up_noncell, noncell_sef, battery_sef) .* cell_demand\n",
    "input_amount  # ton"
   ]
  },
  {
   "cell_type": "code",
   "execution_count": 39,
   "id": "8782fdfa",
   "metadata": {},
   "outputs": [
    {
     "data": {
      "text/plain": [
       "15-element Vector{Float64}:\n",
       " 1.8866728726559997e9\n",
       " 5.247709167729599e9\n",
       " 9.707005820397599e7\n",
       " 1.32628053757914e9\n",
       " 9.1131718392e8\n",
       " 1.374563866e9\n",
       " 6.010762534399999e6\n",
       " 1.4218339355999997e6\n",
       " 2.4255454463499993e8\n",
       " 1.2228269425839998e8\n",
       " 8.521052019999998e9\n",
       " 2.8953989999999995e6\n",
       " 1.0294752e9\n",
       " 1.5056074799999998e9\n",
       " 1.0037383199999998e10"
      ]
     },
     "execution_count": 39,
     "metadata": {},
     "output_type": "execute_result"
    }
   ],
   "source": [
    "MktV = price .* input_amount "
   ]
  },
  {
   "cell_type": "code",
   "execution_count": 40,
   "id": "13d3a0ba",
   "metadata": {},
   "outputs": [
    {
     "data": {
      "text/plain": [
       "1.0037383199999998e10"
      ]
     },
     "execution_count": 40,
     "metadata": {},
     "output_type": "execute_result"
    }
   ],
   "source": [
    "maximum(MktV)"
   ]
  },
  {
   "cell_type": "code",
   "execution_count": 41,
   "id": "fc58931c",
   "metadata": {},
   "outputs": [
    {
     "data": {
      "text/plain": [
       "5.54e10"
      ]
     },
     "execution_count": 41,
     "metadata": {},
     "output_type": "execute_result"
    }
   ],
   "source": [
    "minimum(vGDP)"
   ]
  },
  {
   "cell_type": "markdown",
   "id": "524fd524",
   "metadata": {},
   "source": [
    "----"
   ]
  },
  {
   "cell_type": "code",
   "execution_count": 42,
   "id": "91c4e362",
   "metadata": {},
   "outputs": [
    {
     "name": "stdout",
     "output_type": "stream",
     "text": [
      "Academic license - for non-commercial use only - expires 2023-11-27\r\n"
     ]
    }
   ],
   "source": [
    "model = Model(Gurobi.Optimizer);"
   ]
  },
  {
   "cell_type": "code",
   "execution_count": 43,
   "id": "4157572b",
   "metadata": {},
   "outputs": [],
   "source": [
    "#variables \n",
    "@variable(model, x[1:ncty, 1:nproc] >= 0)            # x[i,k] production amount of product k at location i\n",
    "@variable(model, y[1:ncty, 1:ncty, 1:nproc] >= 0)   # y[i,j,k] ship product k from i to j \n",
    "@variable(model, delta[1:ncty], binary=true);"
   ]
  },
  {
   "cell_type": "code",
   "execution_count": 44,
   "id": "35f9c50e",
   "metadata": {},
   "outputs": [],
   "source": [
    "# capacity constraint: x[i,k] <= capacity[i][k]\n",
    "for k in 1:nproc\n",
    "    for i in 1:ncty\n",
    "        @constraint(model, x[i,k] <= capacity[!, 2:end][i,k])\n",
    "    end\n",
    "end"
   ]
  },
  {
   "cell_type": "code",
   "execution_count": 45,
   "id": "2a16ae37",
   "metadata": {},
   "outputs": [],
   "source": [
    "# node output flow constraint\n",
    "for k in 1:nproc\n",
    "    for i in 1:ncty\n",
    "        @constraint(model, sum(y[i,j,k] for j in 1:ncty) == x[i,k])\n",
    "    end\n",
    "end"
   ]
  },
  {
   "cell_type": "code",
   "execution_count": 46,
   "id": "654f5726",
   "metadata": {},
   "outputs": [],
   "source": [
    "# node output flow to market y[i,38, 15]\n",
    "for i in 1:ncty\n",
    "    for j in [e for e in 1:ncty if e != mkt_loc]\n",
    "        @constraint(model, y[i,j,mkt_proc] == 0)\n",
    "    end\n",
    "end"
   ]
  },
  {
   "cell_type": "code",
   "execution_count": 47,
   "id": "0add76b2",
   "metadata": {},
   "outputs": [],
   "source": [
    "for k in 1:nproc-1\n",
    "    @constraint(model, sum(x[i,k] for i in 1:ncty) == input_amount[k])\n",
    "end"
   ]
  },
  {
   "cell_type": "code",
   "execution_count": 49,
   "id": "85745707",
   "metadata": {},
   "outputs": [],
   "source": [
    "# final demand constraint\n",
    "@constraint(model, sum(y[i,mkt_loc,mkt_proc] for i in 1:ncty) == cell_demand);"
   ]
  },
  {
   "cell_type": "code",
   "execution_count": 50,
   "id": "fd42b376",
   "metadata": {},
   "outputs": [],
   "source": [
    "# cathode LCA constraints (index=5)\n",
    "for k in cathode\n",
    "    for j in 1:ncty\n",
    "        @constraint(model, sum(y[i,j,k] for i in 1:ncty) == x[j,5] * scaler[k])\n",
    "    end\n",
    "end\n",
    "\n",
    "\n",
    "# cell LCA constraints (index=11)\n",
    "for k in cell\n",
    "    for j in 1:ncty\n",
    "        @constraint(model, sum(y[i,j,k] for i in 1:ncty) == x[j,11] * scaler[k])\n",
    "    end\n",
    "end\n",
    "\n",
    "\n",
    "# non cell LCA constraints (index=14)\n",
    "for k in noncell\n",
    "    for j in 1:ncty\n",
    "        @constraint(model, sum(y[i,j,k] for i in 1:ncty) == x[j,14] * scaler[k])\n",
    "    end\n",
    "end\n",
    "\n",
    "\n",
    "# battery LCA constraints (index=15)\n",
    "for k in battery\n",
    "    for j in 1:ncty\n",
    "        @constraint(model, sum(y[i,j,k] for i in 1:ncty) == x[j,15] * scaler[k])\n",
    "    end\n",
    "end\n"
   ]
  },
  {
   "cell_type": "code",
   "execution_count": 51,
   "id": "ab7a1167",
   "metadata": {},
   "outputs": [],
   "source": [
    "Pemi = 0\n",
    "Pincome = 0\n",
    "proD = Vector{AffExpr}(undef, ncty)\n",
    "proM = Vector{AffExpr}(undef, ncty)\n",
    "\n",
    "for i in 1:ncty\n",
    "    for k in 1:nproc\n",
    "        Pemi += regional_EF[i,k+1] * x[i,k]\n",
    "        Pincome += x[i,k] * price[k]\n",
    "    end\n",
    "    proD[i] = Pemi\n",
    "    proM[i] = Pincome\n",
    "end\n",
    "\n",
    "\n",
    "Temi = 0\n",
    "transD = Vector{AffExpr}(undef, ncty)\n",
    "for i in 1:ncty\n",
    "    for j in 1:ncty\n",
    "        amount = sum(y[i,j,k] for k in 1:nproc)\n",
    "        Temi += amount * distance[!, 2:end][i,j] * EF_trans\n",
    "    end\n",
    "    transD[i] = Temi\n",
    "end"
   ]
  },
  {
   "cell_type": "code",
   "execution_count": 52,
   "id": "7f0d126f",
   "metadata": {},
   "outputs": [
    {
     "data": {
      "text/latex": [
       "$$ 40000 x_{1,1} + 79500 x_{1,2} + 1510 x_{1,3} + 20130 x_{1,4} + 7400 x_{1,5} + 20000 x_{1,6} + 1208 x_{1,7} + 1143 x_{1,8} + 8210 x_{1,9} + 2137 x_{1,10} + 27400 x_{1,11} + 1350 x_{1,12} + 600000 x_{1,13} + 3510 x_{1,14} + 23400 x_{1,15} $$"
      ],
      "text/plain": [
       "40000 x[1,1] + 79500 x[1,2] + 1510 x[1,3] + 20130 x[1,4] + 7400 x[1,5] + 20000 x[1,6] + 1208 x[1,7] + 1143 x[1,8] + 8210 x[1,9] + 2137 x[1,10] + 27400 x[1,11] + 1350 x[1,12] + 600000 x[1,13] + 3510 x[1,14] + 23400 x[1,15]"
      ]
     },
     "execution_count": 52,
     "metadata": {},
     "output_type": "execute_result"
    }
   ],
   "source": [
    "proM[1]"
   ]
  },
  {
   "cell_type": "code",
   "execution_count": 53,
   "id": "ba3fcdbf",
   "metadata": {},
   "outputs": [],
   "source": [
    "for i in 1:ncty\n",
    "    @constraint(model, proM[i] <= vGDP[i])\n",
    "end"
   ]
  },
  {
   "cell_type": "code",
   "execution_count": 54,
   "id": "91f502a7",
   "metadata": {},
   "outputs": [],
   "source": [
    "M = 1e20\n",
    "Allo_soc = proM ./ vGDP .* Dsoc\n",
    "SJ = proD + transD - Allo_soc;"
   ]
  },
  {
   "cell_type": "code",
   "execution_count": 55,
   "id": "0319dcec",
   "metadata": {},
   "outputs": [],
   "source": [
    "for i in 1:ncty\n",
    "    @constraint(model, SJ[i] >= (delta[i] - 1) * M)\n",
    "end"
   ]
  },
  {
   "cell_type": "code",
   "execution_count": 56,
   "id": "21f7ccb2",
   "metadata": {},
   "outputs": [],
   "source": [
    "@objective(model, Max, sum(delta));"
   ]
  },
  {
   "cell_type": "code",
   "execution_count": 57,
   "id": "3b08f050",
   "metadata": {},
   "outputs": [
    {
     "name": "stdout",
     "output_type": "stream",
     "text": [
      "Gurobi Optimizer version 9.1.2 build v9.1.2rc0 (win64)\r\n",
      "Thread count: 6 physical cores, 12 logical processors, using up to 12 threads\r\n",
      "Optimize a model with 2265 rows, 13980 columns and 244995 nonzeros\r\n",
      "Model fingerprint: 0xaabf7358\r\n",
      "Variable types: 13950 continuous, 30 integer (30 binary)\r\n",
      "Coefficient statistics:\r\n",
      "  Matrix range     [2e-04, 1e+20]\r\n",
      "  Objective range  [1e+00, 1e+00]\r\n",
      "  Bounds range     [0e+00, 0e+00]\r\n",
      "  RHS range        [2e+02, 1e+20]\r\n",
      "Warning: Model contains large matrix coefficient range\r\n",
      "Warning: Model contains large rhs\r\n",
      "         Consider reformulating model or setting NumericFocus parameter\r\n",
      "         to avoid numerical issues.\r\n",
      "Presolve removed 2265 rows and 13980 columns\r\n",
      "Presolve time: 0.08s\r\n",
      "Presolve: All rows and columns removed\r\n",
      "\r\n",
      "Explored 0 nodes (0 simplex iterations) in 0.25 seconds\r\n",
      "Thread count was 1 (of 12 available processors)\r\n",
      "\r\n",
      "Solution count 1: 30 \r\n",
      "\r\n",
      "Optimal solution found (tolerance 1.00e-04)\r\n",
      "Warning: max constraint violation (3.1164e+08) exceeds tolerance\r\n",
      "         (possibly due to large matrix coefficients)\r\n",
      "Best objective 3.000000000000e+01, best bound 3.000000000000e+01, gap 0.0000%\r\n",
      "\r\n",
      "User-callback calls 125, time in user-callback 0.00 sec\r\n"
     ]
    }
   ],
   "source": [
    "JuMP.optimize!(model)"
   ]
  },
  {
   "cell_type": "code",
   "execution_count": 58,
   "id": "5f897b9a",
   "metadata": {},
   "outputs": [
    {
     "data": {
      "text/plain": [
       "30×15 Matrix{Float64}:\n",
       "  6200.0      0.0      0.0      0.0       0.0  …     0.0        0.0       0.0\n",
       " 17366.8      0.0      0.0      0.0       0.0        0.0        0.0       0.0\n",
       "  2200.0      0.0      0.0      0.0       0.0        0.0        0.0       0.0\n",
       "   500.0      0.0      0.0      0.0       0.0        0.0        0.0       0.0\n",
       "     0.0      0.0      0.0      0.0       0.0        0.0        0.0       0.0\n",
       " 19000.0      0.0      0.0      0.0       0.0  …     0.0        0.0       0.0\n",
       "     0.0      0.0      0.0      0.0       0.0        0.0        0.0       0.0\n",
       "     0.0  45354.9      0.0      0.0       0.0        0.0        0.0       0.0\n",
       "     0.0      0.0      0.0      0.0       0.0        0.0        0.0       0.0\n",
       "     0.0      0.0      0.0      0.0       0.0        0.0        0.0       0.0\n",
       "     0.0      0.0      0.0      0.0       0.0  …     0.0        0.0       0.0\n",
       "     0.0      0.0      0.0      0.0       0.0        0.0        0.0       0.0\n",
       "     0.0   9454.0      0.0      0.0       0.0        0.0        0.0       0.0\n",
       "     ⋮                                         ⋱                     \n",
       "     0.0      0.0      0.0      0.0       0.0        0.0        0.0       0.0\n",
       "     0.0      0.0      0.0      0.0       0.0        0.0        0.0       0.0\n",
       "     0.0   5400.0      0.0      0.0       0.0  …     0.0        0.0       0.0\n",
       "   600.0      0.0      0.0      0.0       0.0        0.0        0.0       0.0\n",
       "     0.0   3500.0      0.0      0.0       0.0        0.0        0.0       0.0\n",
       "     0.0      0.0      0.0      0.0       0.0        0.0        0.0       0.0\n",
       "     0.0      0.0      0.0  51885.8       0.0        0.0        0.0       0.0\n",
       "     0.0      0.0      0.0      0.0       0.0  …     0.0        0.0       0.0\n",
       "     0.0   2300.0      0.0      0.0       0.0        0.0        0.0       0.0\n",
       "     0.0      0.0  64284.8      0.0       0.0        0.0        0.0       0.0\n",
       "     0.0      0.0      0.0      0.0       0.0        0.0        0.0       0.0\n",
       "   900.0      0.0      0.0  14000.0  123151.0     1715.79  428948.0  428948.0"
      ]
     },
     "execution_count": 58,
     "metadata": {},
     "output_type": "execute_result"
    }
   ],
   "source": [
    "JuMP.value.(x)"
   ]
  },
  {
   "cell_type": "code",
   "execution_count": 59,
   "id": "325e211a",
   "metadata": {},
   "outputs": [],
   "source": [
    "# DataFrame(opty[1:end, 1:end, 1], :auto)"
   ]
  },
  {
   "cell_type": "code",
   "execution_count": 60,
   "id": "e44413af",
   "metadata": {},
   "outputs": [],
   "source": [
    "optx = copy(JuMP.value.(x))\n",
    "opty = copy(JuMP.value.(y));"
   ]
  },
  {
   "cell_type": "code",
   "execution_count": 61,
   "id": "509bcb99",
   "metadata": {},
   "outputs": [],
   "source": [
    "res_x = DataFrame(optx, :auto)\n",
    "rename!(res_x, [\"x$i\" => proc for (i, proc) in enumerate(process)])\n",
    "insertcols!(res_x, 1, :country => countries);"
   ]
  },
  {
   "cell_type": "code",
   "execution_count": 62,
   "id": "4ed272e5",
   "metadata": {},
   "outputs": [
    {
     "data": {
      "text/plain": [
       "\"/Users/bourg/Desktop/x_matrix_regional0915_1.csv\""
      ]
     },
     "execution_count": 62,
     "metadata": {},
     "output_type": "execute_result"
    }
   ],
   "source": [
    "CSV.write(\"/Users/bourg/Desktop/x_matrix_regional0915_1.csv\", res_x) "
   ]
  },
  {
   "cell_type": "code",
   "execution_count": 49,
   "id": "a03ed3f7",
   "metadata": {},
   "outputs": [
    {
     "data": {
      "text/plain": [
       "\"/Users/bourg/Desktop/x_matrix_regional0914.csv\""
      ]
     },
     "execution_count": 49,
     "metadata": {},
     "output_type": "execute_result"
    }
   ],
   "source": [
    "using Tables\n",
    "res = Tables.table(optx[1:end, 1:end]);\n",
    "CSV.write(\"/Users/bourg/Desktop/x_matrix_regional0914.csv\", res) "
   ]
  },
  {
   "cell_type": "code",
   "execution_count": 62,
   "id": "3ef4eaf2",
   "metadata": {},
   "outputs": [
    {
     "data": {
      "text/plain": [
       "\"/Users/bourg/Desktop/y02_matrix.csv\""
      ]
     },
     "execution_count": 62,
     "metadata": {},
     "output_type": "execute_result"
    }
   ],
   "source": [
    "res_y02 = Tables.table(opty[1:end, 1:end, 02])\n",
    "CSV.write(\"/Users/bourg/Desktop/y02_matrix.csv\", res_y02) "
   ]
  },
  {
   "cell_type": "code",
   "execution_count": null,
   "id": "8aee5430",
   "metadata": {},
   "outputs": [],
   "source": []
  }
 ],
 "metadata": {
  "kernelspec": {
   "display_name": "Julia 1.8.3",
   "language": "julia",
   "name": "julia-1.8"
  },
  "language_info": {
   "file_extension": ".jl",
   "mimetype": "application/julia",
   "name": "julia",
   "version": "1.8.3"
  }
 },
 "nbformat": 4,
 "nbformat_minor": 5
}
