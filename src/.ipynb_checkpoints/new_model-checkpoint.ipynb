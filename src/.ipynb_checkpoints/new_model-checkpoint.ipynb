{
 "cells": [
  {
   "cell_type": "code",
   "execution_count": 1,
   "id": "bf7911f0",
   "metadata": {},
   "outputs": [],
   "source": [
    "using JuMP, Gurobi\n",
    "using CSV, LinearAlgebra, DataFrames\n",
    "using Plots"
   ]
  },
  {
   "cell_type": "code",
   "execution_count": 2,
   "id": "2212a86c",
   "metadata": {},
   "outputs": [],
   "source": [
    "ls = Vector{Any}(undef, 13) # there are 13 columns\n",
    "ls[1] = String31 \n",
    "for i in 2:13\n",
    "    ls[i] = Float64\n",
    "end"
   ]
  },
  {
   "cell_type": "code",
   "execution_count": null,
   "id": "96729b9f",
   "metadata": {},
   "outputs": [],
   "source": [
    "#load the data and orgnize \n",
    "cap_cstr = CSV.read(\"/home/xue.326/julia_env/LiBattery_Env/data/capacity_constraints.csv\", \n",
    "                    DataFrame, \n",
    "                    header=1,\n",
    "                    types=ls) |> DataFrame\n",
    "\n",
    "distance = CSV.File(\"/home/xue.326/julia_env/LiBattery_Env/data/distance.csv\",header=1) |> DataFrame; \n",
    "\n",
    "LCA_model = CSV.File(\"/home/xue.326/julia_env/LiBattery_Env/data/lCA_model.csv\",header=1) |> DataFrame\n",
    "\n",
    "SD = CSV.File(\"/home/xue.326/julia_env/LiBattery_Env/data/emission_sink.csv\",header=1) |> DataFrame; \n",
    "\n",
    "# first(cap_cstr, 5)\n",
    "# first(distance, 5)\n",
    "# ncol(distance)"
   ]
  },
  {
   "cell_type": "code",
   "execution_count": 51,
   "id": "c9ed0ed6",
   "metadata": {},
   "outputs": [
    {
     "data": {
      "text/html": [
       "<div><div style = \"float: left;\"><span>5×13 DataFrame</span></div><div style = \"clear: both;\"></div></div><div class = \"data-frame\" style = \"overflow-x: scroll;\"><table class = \"data-frame\" style = \"margin-bottom: 6px;\"><thead><tr class = \"header\"><th class = \"rowNumber\" style = \"font-weight: bold; text-align: right;\">Row</th><th style = \"text-align: left;\">Country</th><th style = \"text-align: left;\">Li</th><th style = \"text-align: left;\">Co</th><th style = \"text-align: left;\">Mn</th><th style = \"text-align: left;\">Ni</th><th style = \"text-align: left;\">NMC111 powder</th><th style = \"text-align: left;\">Graphite</th><th style = \"text-align: left;\">PP</th><th style = \"text-align: left;\">PE</th><th style = \"text-align: left;\">Cu</th><th style = \"text-align: left;\">Al</th><th style = \"text-align: left;\">electricity</th><th style = \"text-align: left;\">heat</th></tr><tr class = \"subheader headerLastRow\"><th class = \"rowNumber\" style = \"font-weight: bold; text-align: right;\"></th><th title = \"String31\" style = \"text-align: left;\">String31</th><th title = \"Float64\" style = \"text-align: left;\">Float64</th><th title = \"Float64\" style = \"text-align: left;\">Float64</th><th title = \"Float64\" style = \"text-align: left;\">Float64</th><th title = \"Float64\" style = \"text-align: left;\">Float64</th><th title = \"Float64\" style = \"text-align: left;\">Float64</th><th title = \"Float64\" style = \"text-align: left;\">Float64</th><th title = \"Float64\" style = \"text-align: left;\">Float64</th><th title = \"Float64\" style = \"text-align: left;\">Float64</th><th title = \"Float64\" style = \"text-align: left;\">Float64</th><th title = \"Float64\" style = \"text-align: left;\">Float64</th><th title = \"Float64\" style = \"text-align: left;\">Float64</th><th title = \"Float64\" style = \"text-align: left;\">Float64</th></tr></thead><tbody><tr><td class = \"rowNumber\" style = \"font-weight: bold; text-align: right;\">1</td><td style = \"text-align: left;\">Argentina</td><td style = \"text-align: right;\">10800.0</td><td style = \"text-align: right;\">0.0</td><td style = \"text-align: right;\">0.0</td><td style = \"text-align: right;\">0.0</td><td style = \"text-align: right;\">0.0</td><td style = \"text-align: right;\">0.0</td><td style = \"text-align: right;\">300000.0</td><td style = \"text-align: right;\">0.0</td><td style = \"text-align: right;\">0.0</td><td style = \"text-align: right;\">0.0</td><td style = \"text-align: right;\">0.0</td><td style = \"text-align: right;\">0.0</td></tr><tr><td class = \"rowNumber\" style = \"font-weight: bold; text-align: right;\">2</td><td style = \"text-align: left;\">Australia</td><td style = \"text-align: right;\">37000.0</td><td style = \"text-align: right;\">7400.0</td><td style = \"text-align: right;\">3.0e6</td><td style = \"text-align: right;\">189000.0</td><td style = \"text-align: right;\">0.0</td><td style = \"text-align: right;\">500.0</td><td style = \"text-align: right;\">500000.0</td><td style = \"text-align: right;\">600000.0</td><td style = \"text-align: right;\">920000.0</td><td style = \"text-align: right;\">1.6e6</td><td style = \"text-align: right;\">0.0</td><td style = \"text-align: right;\">0.0</td></tr><tr><td class = \"rowNumber\" style = \"font-weight: bold; text-align: right;\">3</td><td style = \"text-align: left;\">Bahrain</td><td style = \"text-align: right;\">0.0</td><td style = \"text-align: right;\">0.0</td><td style = \"text-align: right;\">0.0</td><td style = \"text-align: right;\">0.0</td><td style = \"text-align: right;\">0.0</td><td style = \"text-align: right;\">0.0</td><td style = \"text-align: right;\">0.0</td><td style = \"text-align: right;\">0.0</td><td style = \"text-align: right;\">0.0</td><td style = \"text-align: right;\">1.2e6</td><td style = \"text-align: right;\">0.0</td><td style = \"text-align: right;\">0.0</td></tr><tr><td class = \"rowNumber\" style = \"font-weight: bold; text-align: right;\">4</td><td style = \"text-align: left;\">Bolivia</td><td style = \"text-align: right;\">0.0</td><td style = \"text-align: right;\">0.0</td><td style = \"text-align: right;\">0.0</td><td style = \"text-align: right;\">0.0</td><td style = \"text-align: right;\">0.0</td><td style = \"text-align: right;\">0.0</td><td style = \"text-align: right;\">0.0</td><td style = \"text-align: right;\">0.0</td><td style = \"text-align: right;\">0.0</td><td style = \"text-align: right;\">0.0</td><td style = \"text-align: right;\">0.0</td><td style = \"text-align: right;\">0.0</td></tr><tr><td class = \"rowNumber\" style = \"font-weight: bold; text-align: right;\">5</td><td style = \"text-align: left;\">Brazil</td><td style = \"text-align: right;\">1800.0</td><td style = \"text-align: right;\">0.0</td><td style = \"text-align: right;\">1.2e6</td><td style = \"text-align: right;\">135000.0</td><td style = \"text-align: right;\">0.0</td><td style = \"text-align: right;\">87000.0</td><td style = \"text-align: right;\">1.9e6</td><td style = \"text-align: right;\">3.6e6</td><td style = \"text-align: right;\">400000.0</td><td style = \"text-align: right;\">590000.0</td><td style = \"text-align: right;\">0.0</td><td style = \"text-align: right;\">0.0</td></tr></tbody></table></div>"
      ],
      "text/latex": [
       "\\begin{tabular}{r|ccccccccc}\n",
       "\t& Country & Li & Co & Mn & Ni & NMC111 powder & Graphite & PP & \\\\\n",
       "\t\\hline\n",
       "\t& String31 & Float64 & Float64 & Float64 & Float64 & Float64 & Float64 & Float64 & \\\\\n",
       "\t\\hline\n",
       "\t1 & Argentina & 10800.0 & 0.0 & 0.0 & 0.0 & 0.0 & 0.0 & 300000.0 & $\\dots$ \\\\\n",
       "\t2 & Australia & 37000.0 & 7400.0 & 3.0e6 & 189000.0 & 0.0 & 500.0 & 500000.0 & $\\dots$ \\\\\n",
       "\t3 & Bahrain & 0.0 & 0.0 & 0.0 & 0.0 & 0.0 & 0.0 & 0.0 & $\\dots$ \\\\\n",
       "\t4 & Bolivia & 0.0 & 0.0 & 0.0 & 0.0 & 0.0 & 0.0 & 0.0 & $\\dots$ \\\\\n",
       "\t5 & Brazil & 1800.0 & 0.0 & 1.2e6 & 135000.0 & 0.0 & 87000.0 & 1.9e6 & $\\dots$ \\\\\n",
       "\\end{tabular}\n"
      ],
      "text/plain": [
       "\u001b[1m5×13 DataFrame\u001b[0m\n",
       "\u001b[1m Row \u001b[0m│\u001b[1m Country   \u001b[0m\u001b[1m Li      \u001b[0m\u001b[1m Co      \u001b[0m\u001b[1m Mn      \u001b[0m\u001b[1m Ni       \u001b[0m\u001b[1m NMC111 powder \u001b[0m\u001b[1m Graphite\u001b[0m ⋯\n",
       "     │\u001b[90m String31  \u001b[0m\u001b[90m Float64 \u001b[0m\u001b[90m Float64 \u001b[0m\u001b[90m Float64 \u001b[0m\u001b[90m Float64  \u001b[0m\u001b[90m Float64       \u001b[0m\u001b[90m Float64 \u001b[0m ⋯\n",
       "─────┼──────────────────────────────────────────────────────────────────────────\n",
       "   1 │ Argentina  10800.0      0.0    0.0         0.0            0.0       0.0 ⋯\n",
       "   2 │ Australia  37000.0   7400.0    3.0e6  189000.0            0.0     500.0\n",
       "   3 │ Bahrain        0.0      0.0    0.0         0.0            0.0       0.0\n",
       "   4 │ Bolivia        0.0      0.0    0.0         0.0            0.0       0.0\n",
       "   5 │ Brazil      1800.0      0.0    1.2e6  135000.0            0.0   87000.0 ⋯\n",
       "\u001b[36m                                                               6 columns omitted\u001b[0m"
      ]
     },
     "execution_count": 51,
     "metadata": {},
     "output_type": "execute_result"
    }
   ],
   "source": [
    "first(cap_cstr, 5)"
   ]
  },
  {
   "cell_type": "code",
   "execution_count": 52,
   "id": "8639c441",
   "metadata": {},
   "outputs": [
    {
     "data": {
      "text/html": [
       "<div><div style = \"float: left;\"><span>5×4 DataFrame</span></div><div style = \"clear: both;\"></div></div><div class = \"data-frame\" style = \"overflow-x: scroll;\"><table class = \"data-frame\" style = \"margin-bottom: 6px;\"><thead><tr class = \"header\"><th class = \"rowNumber\" style = \"font-weight: bold; text-align: right;\">Row</th><th style = \"text-align: left;\">process</th><th style = \"text-align: left;\">input (material/kg battery)</th><th style = \"text-align: left;\">input (material/kWh battery)</th><th style = \"text-align: left;\">EF (kg CO2/material)</th></tr><tr class = \"subheader headerLastRow\"><th class = \"rowNumber\" style = \"font-weight: bold; text-align: right;\"></th><th title = \"String15\" style = \"text-align: left;\">String15</th><th title = \"Float64\" style = \"text-align: left;\">Float64</th><th title = \"Float64\" style = \"text-align: left;\">Float64</th><th title = \"Float64\" style = \"text-align: left;\">Float64</th></tr></thead><tbody><tr><td class = \"rowNumber\" style = \"font-weight: bold; text-align: right;\">1</td><td style = \"text-align: left;\">Li</td><td style = \"text-align: right;\">0.00905</td><td style = \"text-align: right;\">0.0635</td><td style = \"text-align: right;\">0.0155</td></tr><tr><td class = \"rowNumber\" style = \"font-weight: bold; text-align: right;\">2</td><td style = \"text-align: left;\">Co</td><td style = \"text-align: right;\">0.051</td><td style = \"text-align: right;\">0.358</td><td style = \"text-align: right;\">0.492</td></tr><tr><td class = \"rowNumber\" style = \"font-weight: bold; text-align: right;\">3</td><td style = \"text-align: left;\">Mn</td><td style = \"text-align: right;\">0.0479</td><td style = \"text-align: right;\">0.336</td><td style = \"text-align: right;\">5.6</td></tr><tr><td class = \"rowNumber\" style = \"font-weight: bold; text-align: right;\">4</td><td style = \"text-align: left;\">Ni</td><td style = \"text-align: right;\">0.051</td><td style = \"text-align: right;\">0.358</td><td style = \"text-align: right;\">1.07</td></tr><tr><td class = \"rowNumber\" style = \"font-weight: bold; text-align: right;\">5</td><td style = \"text-align: left;\">NMC111 powder</td><td style = \"text-align: right;\">0.252</td><td style = \"text-align: right;\">1.77</td><td style = \"text-align: right;\">14.7</td></tr></tbody></table></div>"
      ],
      "text/latex": [
       "\\begin{tabular}{r|cccc}\n",
       "\t& process & input (material/kg battery) & input (material/kWh battery) & EF (kg CO2/material)\\\\\n",
       "\t\\hline\n",
       "\t& String15 & Float64 & Float64 & Float64\\\\\n",
       "\t\\hline\n",
       "\t1 & Li & 0.00905 & 0.0635 & 0.0155 \\\\\n",
       "\t2 & Co & 0.051 & 0.358 & 0.492 \\\\\n",
       "\t3 & Mn & 0.0479 & 0.336 & 5.6 \\\\\n",
       "\t4 & Ni & 0.051 & 0.358 & 1.07 \\\\\n",
       "\t5 & NMC111 powder & 0.252 & 1.77 & 14.7 \\\\\n",
       "\\end{tabular}\n"
      ],
      "text/plain": [
       "\u001b[1m5×4 DataFrame\u001b[0m\n",
       "\u001b[1m Row \u001b[0m│\u001b[1m process       \u001b[0m\u001b[1m input (material/kg battery) \u001b[0m\u001b[1m input (material/kWh battery\u001b[0m ⋯\n",
       "     │\u001b[90m String15      \u001b[0m\u001b[90m Float64                     \u001b[0m\u001b[90m Float64                    \u001b[0m ⋯\n",
       "─────┼──────────────────────────────────────────────────────────────────────────\n",
       "   1 │ Li                                 0.00905                        0.063 ⋯\n",
       "   2 │ Co                                 0.051                          0.358\n",
       "   3 │ Mn                                 0.0479                         0.336\n",
       "   4 │ Ni                                 0.051                          0.358\n",
       "   5 │ NMC111 powder                      0.252                          1.77  ⋯\n",
       "\u001b[36m                                                               2 columns omitted\u001b[0m"
      ]
     },
     "execution_count": 52,
     "metadata": {},
     "output_type": "execute_result"
    }
   ],
   "source": [
    "first(LCA_model, 5)"
   ]
  },
  {
   "cell_type": "code",
   "execution_count": 53,
   "id": "9493a365",
   "metadata": {},
   "outputs": [
    {
     "data": {
      "text/html": [
       "<div><div style = \"float: left;\"><span>5×3 DataFrame</span></div><div style = \"clear: both;\"></div></div><div class = \"data-frame\" style = \"overflow-x: scroll;\"><table class = \"data-frame\" style = \"margin-bottom: 6px;\"><thead><tr class = \"header\"><th class = \"rowNumber\" style = \"font-weight: bold; text-align: right;\">Row</th><th style = \"text-align: left;\">country</th><th style = \"text-align: left;\">emission</th><th style = \"text-align: left;\">sink ton/yr</th></tr><tr class = \"subheader headerLastRow\"><th class = \"rowNumber\" style = \"font-weight: bold; text-align: right;\"></th><th title = \"String31\" style = \"text-align: left;\">String31</th><th title = \"Float64\" style = \"text-align: left;\">Float64</th><th title = \"Float64\" style = \"text-align: left;\">Float64</th></tr></thead><tbody><tr><td class = \"rowNumber\" style = \"font-weight: bold; text-align: right;\">1</td><td style = \"text-align: left;\">Argentina</td><td style = \"text-align: right;\">1.98e8</td><td style = \"text-align: right;\">1.79e8</td></tr><tr><td class = \"rowNumber\" style = \"font-weight: bold; text-align: right;\">2</td><td style = \"text-align: left;\">Australia</td><td style = \"text-align: right;\">3.89e8</td><td style = \"text-align: right;\">2.87e8</td></tr><tr><td class = \"rowNumber\" style = \"font-weight: bold; text-align: right;\">3</td><td style = \"text-align: left;\">Bahrain</td><td style = \"text-align: right;\">3.33e7</td><td style = \"text-align: right;\">72500.0</td></tr><tr><td class = \"rowNumber\" style = \"font-weight: bold; text-align: right;\">4</td><td style = \"text-align: left;\">Bolivia</td><td style = \"text-align: right;\">8.97e7</td><td style = \"text-align: right;\">1.73e8</td></tr><tr><td class = \"rowNumber\" style = \"font-weight: bold; text-align: right;\">5</td><td style = \"text-align: left;\">Brazil</td><td style = \"text-align: right;\">8.19e8</td><td style = \"text-align: right;\">1.81e9</td></tr></tbody></table></div>"
      ],
      "text/latex": [
       "\\begin{tabular}{r|ccc}\n",
       "\t& country & emission & sink ton/yr\\\\\n",
       "\t\\hline\n",
       "\t& String31 & Float64 & Float64\\\\\n",
       "\t\\hline\n",
       "\t1 & Argentina & 1.98e8 & 1.79e8 \\\\\n",
       "\t2 & Australia & 3.89e8 & 2.87e8 \\\\\n",
       "\t3 & Bahrain & 3.33e7 & 72500.0 \\\\\n",
       "\t4 & Bolivia & 8.97e7 & 1.73e8 \\\\\n",
       "\t5 & Brazil & 8.19e8 & 1.81e9 \\\\\n",
       "\\end{tabular}\n"
      ],
      "text/plain": [
       "\u001b[1m5×3 DataFrame\u001b[0m\n",
       "\u001b[1m Row \u001b[0m│\u001b[1m country   \u001b[0m\u001b[1m emission \u001b[0m\u001b[1m sink ton/yr \u001b[0m\n",
       "     │\u001b[90m String31  \u001b[0m\u001b[90m Float64  \u001b[0m\u001b[90m Float64     \u001b[0m\n",
       "─────┼──────────────────────────────────\n",
       "   1 │ Argentina    1.98e8       1.79e8\n",
       "   2 │ Australia    3.89e8       2.87e8\n",
       "   3 │ Bahrain      3.33e7   72500.0\n",
       "   4 │ Bolivia      8.97e7       1.73e8\n",
       "   5 │ Brazil       8.19e8       1.81e9"
      ]
     },
     "execution_count": 53,
     "metadata": {},
     "output_type": "execute_result"
    }
   ],
   "source": [
    "first(SD, 5)"
   ]
  },
  {
   "cell_type": "code",
   "execution_count": 82,
   "id": "b19eb94e",
   "metadata": {},
   "outputs": [],
   "source": [
    "w_cell = 164.98 # kg/pack\n",
    "cap_cell = 23.5 # kWh/pack\n",
    "cell_demand = 6000000 # annual demand of Li-ion battery for tesla (2M EV/yr, 3 NMC111 pack/EV)\n",
    "gobal_sink = 1.53e9 # global CO2 sequestration\n",
    "global_emission = 4.75e10 # global CO2 emission\n",
    "EF_aircraft = 0.433 # kg CO2/km*ton emission factor for freight transporation \n",
    "A_powder = [0.2025, 0.1903, 0.2025, 0.072] # mineral inputs for 1 kg NMC111 powder\n",
    "process = LCA_model[!,\"process\"]\n",
    "countries = cap_cstr[!,\"Country\"];"
   ]
  },
  {
   "cell_type": "code",
   "execution_count": 59,
   "id": "d03a2856",
   "metadata": {},
   "outputs": [],
   "source": [
    "n = size(countries,1); # No. of countries\n",
    "m = size(process,1) # No. of processes"
   ]
  },
  {
   "cell_type": "code",
   "execution_count": 78,
   "id": "bc9c0d87",
   "metadata": {},
   "outputs": [
    {
     "data": {
      "text/html": [
       "<div><div style = \"float: left;\"><span>5×2 DataFrame</span></div><div style = \"clear: both;\"></div></div><div class = \"data-frame\" style = \"overflow-x: scroll;\"><table class = \"data-frame\" style = \"margin-bottom: 6px;\"><thead><tr class = \"header\"><th class = \"rowNumber\" style = \"font-weight: bold; text-align: right;\">Row</th><th style = \"text-align: left;\">process</th><th style = \"text-align: left;\">inputs</th></tr><tr class = \"subheader headerLastRow\"><th class = \"rowNumber\" style = \"font-weight: bold; text-align: right;\"></th><th title = \"String15\" style = \"text-align: left;\">String15</th><th title = \"Float64\" style = \"text-align: left;\">Float64</th></tr></thead><tbody><tr><td class = \"rowNumber\" style = \"font-weight: bold; text-align: right;\">1</td><td style = \"text-align: left;\">Li</td><td style = \"text-align: right;\">8.95841e6</td></tr><tr><td class = \"rowNumber\" style = \"font-weight: bold; text-align: right;\">2</td><td style = \"text-align: left;\">Co</td><td style = \"text-align: right;\">5.04839e7</td></tr><tr><td class = \"rowNumber\" style = \"font-weight: bold; text-align: right;\">3</td><td style = \"text-align: left;\">Mn</td><td style = \"text-align: right;\">4.74153e7</td></tr><tr><td class = \"rowNumber\" style = \"font-weight: bold; text-align: right;\">4</td><td style = \"text-align: left;\">Ni</td><td style = \"text-align: right;\">5.04839e7</td></tr><tr><td class = \"rowNumber\" style = \"font-weight: bold; text-align: right;\">5</td><td style = \"text-align: left;\">NMC111 powder</td><td style = \"text-align: right;\">2.4945e8</td></tr></tbody></table></div>"
      ],
      "text/latex": [
       "\\begin{tabular}{r|cc}\n",
       "\t& process & inputs\\\\\n",
       "\t\\hline\n",
       "\t& String15 & Float64\\\\\n",
       "\t\\hline\n",
       "\t1 & Li & 8.95841e6 \\\\\n",
       "\t2 & Co & 5.04839e7 \\\\\n",
       "\t3 & Mn & 4.74153e7 \\\\\n",
       "\t4 & Ni & 5.04839e7 \\\\\n",
       "\t5 & NMC111 powder & 2.4945e8 \\\\\n",
       "\\end{tabular}\n"
      ],
      "text/plain": [
       "\u001b[1m5×2 DataFrame\u001b[0m\n",
       "\u001b[1m Row \u001b[0m│\u001b[1m process       \u001b[0m\u001b[1m inputs    \u001b[0m\n",
       "     │\u001b[90m String15      \u001b[0m\u001b[90m Float64   \u001b[0m\n",
       "─────┼──────────────────────────\n",
       "   1 │ Li             8.95841e6\n",
       "   2 │ Co             5.04839e7\n",
       "   3 │ Mn             4.74153e7\n",
       "   4 │ Ni             5.04839e7\n",
       "   5 │ NMC111 powder  2.4945e8"
      ]
     },
     "execution_count": 78,
     "metadata": {},
     "output_type": "execute_result"
    }
   ],
   "source": [
    "FU_mass = cell_demand * w_cell\n",
    "input_FU = DataFrame(process = LCA_model[!,\"process\"], inputs = FU_mass .* LCA_model[!,\"input (material/kg battery)\"]);\n",
    "first(input_FU, 5)"
   ]
  },
  {
   "cell_type": "code",
   "execution_count": 79,
   "id": "4a08aa1e",
   "metadata": {},
   "outputs": [
    {
     "data": {
      "text/plain": [
       "5.048387999999999e7"
      ]
     },
     "execution_count": 79,
     "metadata": {},
     "output_type": "execute_result"
    }
   ],
   "source": [
    "input_FU[2, \"inputs\"]"
   ]
  },
  {
   "cell_type": "markdown",
   "id": "42637071",
   "metadata": {},
   "source": [
    "--------------------"
   ]
  },
  {
   "cell_type": "code",
   "execution_count": null,
   "id": "2f2c9068",
   "metadata": {},
   "outputs": [],
   "source": [
    "model = Model(Gurobi.Optimizer)\n",
    "set_optimizer_attribute(model, \"NonConvex\", 2);"
   ]
  },
  {
   "cell_type": "code",
   "execution_count": null,
   "id": "457ac670",
   "metadata": {},
   "outputs": [],
   "source": [
    "# indices/sets\n",
    "\n",
    "ups_powder = [1, 2, 3, 4] # upstream processes for NMC111 powder\n",
    "ups_cell = [5,6,7,8,9,10] # upstream processes for Li-ion battery manufacturing"
   ]
  },
  {
   "cell_type": "code",
   "execution_count": 81,
   "id": "312caa6c",
   "metadata": {},
   "outputs": [
    {
     "data": {
      "text/plain": [
       "4-element Vector{Int64}:\n",
       " 1\n",
       " 2\n",
       " 3\n",
       " 4"
      ]
     },
     "execution_count": 81,
     "metadata": {},
     "output_type": "execute_result"
    }
   ],
   "source": []
  },
  {
   "cell_type": "code",
   "execution_count": null,
   "id": "b85829d1",
   "metadata": {},
   "outputs": [],
   "source": [
    "#variables \n",
    "@variable(model, x[1:n, 1:m] >= 0) # production amount\n",
    "@variable(model, y[1:n, 1:n, 1:m] >= 0);\n",
    "# @variable(model, obj >= 0);\n",
    "\n",
    "\n",
    "# LCA upstream As=f constraints\n",
    "for j in ups_powder\n",
    "    for i in 1:n\n",
    "        @constraint(model, sum(y[k,i,j] for k in 1:n) == x[i,5] * A_powder[j])\n",
    "    end\n",
    "end\n",
    "\n",
    "# production capacity constraints\n",
    "\n",
    "# shippment amount constraints\n",
    "\n"
   ]
  },
  {
   "cell_type": "code",
   "execution_count": null,
   "id": "752e3192",
   "metadata": {},
   "outputs": [],
   "source": []
  }
 ],
 "metadata": {
  "kernelspec": {
   "display_name": "Julia 1.8.3",
   "language": "julia",
   "name": "julia-1.8"
  },
  "language_info": {
   "file_extension": ".jl",
   "mimetype": "application/julia",
   "name": "julia",
   "version": "1.8.3"
  }
 },
 "nbformat": 4,
 "nbformat_minor": 5
}
