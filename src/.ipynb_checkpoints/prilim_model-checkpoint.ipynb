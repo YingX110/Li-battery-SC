{
 "cells": [
  {
   "cell_type": "code",
   "execution_count": 1,
   "id": "323db6c7",
   "metadata": {},
   "outputs": [],
   "source": [
    "using JuMP, Gurobi\n",
    "using CSV, LinearAlgebra, DataFrames\n",
    "using Plots"
   ]
  },
  {
   "cell_type": "code",
   "execution_count": 44,
   "id": "659e5df3",
   "metadata": {},
   "outputs": [],
   "source": [
    "#load the data and orgnize \n",
    "cap_cstr = CSV.read(\"/Users/bourg/.julia/environments/batterySC/data/capacity_constraint.csv\", \n",
    "                    DataFrame, \n",
    "                    header=1) |> DataFrame\n",
    "\n",
    "distance = CSV.File(\"/Users/bourg/.julia/environments/batterySC/data/distance.csv\",header=1) |> DataFrame\n",
    "\n",
    "LCA_model = CSV.File(\"/Users/bourg/.julia/environments/batterySC/data/LCA_model314.csv\",header=1) |> DataFrame\n",
    "\n",
    "SD = CSV.File(\"/Users/bourg/.julia/environments/batterySC/data/emission_sink.csv\",header=1) |> DataFrame; "
   ]
  },
  {
   "cell_type": "code",
   "execution_count": 45,
   "id": "d9b741ff",
   "metadata": {},
   "outputs": [
    {
     "data": {
      "text/html": [
       "<div><div style = \"float: left;\"><span>5×12 DataFrame</span></div><div style = \"clear: both;\"></div></div><div class = \"data-frame\" style = \"overflow-x: scroll;\"><table class = \"data-frame\" style = \"margin-bottom: 6px;\"><thead><tr class = \"header\"><th class = \"rowNumber\" style = \"font-weight: bold; text-align: right;\">Row</th><th style = \"text-align: left;\">Country</th><th style = \"text-align: left;\">Li</th><th style = \"text-align: left;\">Co</th><th style = \"text-align: left;\">Mn</th><th style = \"text-align: left;\">Ni</th><th style = \"text-align: left;\">NMC111 powder</th><th style = \"text-align: left;\">Graphite</th><th style = \"text-align: left;\">PP</th><th style = \"text-align: left;\">PE</th><th style = \"text-align: left;\">Cu</th><th style = \"text-align: left;\">Al</th><th style = \"text-align: left;\">battery production</th></tr><tr class = \"subheader headerLastRow\"><th class = \"rowNumber\" style = \"font-weight: bold; text-align: right;\"></th><th title = \"String31\" style = \"text-align: left;\">String31</th><th title = \"Int64\" style = \"text-align: left;\">Int64</th><th title = \"Int64\" style = \"text-align: left;\">Int64</th><th title = \"Int64\" style = \"text-align: left;\">Int64</th><th title = \"Int64\" style = \"text-align: left;\">Int64</th><th title = \"Float64\" style = \"text-align: left;\">Float64</th><th title = \"Int64\" style = \"text-align: left;\">Int64</th><th title = \"Int64\" style = \"text-align: left;\">Int64</th><th title = \"Int64\" style = \"text-align: left;\">Int64</th><th title = \"Int64\" style = \"text-align: left;\">Int64</th><th title = \"Int64\" style = \"text-align: left;\">Int64</th><th title = \"Float64\" style = \"text-align: left;\">Float64</th></tr></thead><tbody><tr><td class = \"rowNumber\" style = \"font-weight: bold; text-align: right;\">1</td><td style = \"text-align: left;\">Argentina</td><td style = \"text-align: right;\">10800</td><td style = \"text-align: right;\">0</td><td style = \"text-align: right;\">0</td><td style = \"text-align: right;\">0</td><td style = \"text-align: right;\">0.0</td><td style = \"text-align: right;\">0</td><td style = \"text-align: right;\">300000</td><td style = \"text-align: right;\">0</td><td style = \"text-align: right;\">0</td><td style = \"text-align: right;\">0</td><td style = \"text-align: right;\">0.0</td></tr><tr><td class = \"rowNumber\" style = \"font-weight: bold; text-align: right;\">2</td><td style = \"text-align: left;\">Australia</td><td style = \"text-align: right;\">37000</td><td style = \"text-align: right;\">7400</td><td style = \"text-align: right;\">3000000</td><td style = \"text-align: right;\">189000</td><td style = \"text-align: right;\">0.0</td><td style = \"text-align: right;\">500</td><td style = \"text-align: right;\">500000</td><td style = \"text-align: right;\">600000</td><td style = \"text-align: right;\">920000</td><td style = \"text-align: right;\">1600000</td><td style = \"text-align: right;\">0.0</td></tr><tr><td class = \"rowNumber\" style = \"font-weight: bold; text-align: right;\">3</td><td style = \"text-align: left;\">Bahrain</td><td style = \"text-align: right;\">0</td><td style = \"text-align: right;\">0</td><td style = \"text-align: right;\">0</td><td style = \"text-align: right;\">0</td><td style = \"text-align: right;\">0.0</td><td style = \"text-align: right;\">0</td><td style = \"text-align: right;\">0</td><td style = \"text-align: right;\">0</td><td style = \"text-align: right;\">0</td><td style = \"text-align: right;\">1200000</td><td style = \"text-align: right;\">0.0</td></tr><tr><td class = \"rowNumber\" style = \"font-weight: bold; text-align: right;\">4</td><td style = \"text-align: left;\">Bolivia</td><td style = \"text-align: right;\">0</td><td style = \"text-align: right;\">0</td><td style = \"text-align: right;\">0</td><td style = \"text-align: right;\">0</td><td style = \"text-align: right;\">0.0</td><td style = \"text-align: right;\">0</td><td style = \"text-align: right;\">0</td><td style = \"text-align: right;\">0</td><td style = \"text-align: right;\">0</td><td style = \"text-align: right;\">0</td><td style = \"text-align: right;\">0.0</td></tr><tr><td class = \"rowNumber\" style = \"font-weight: bold; text-align: right;\">5</td><td style = \"text-align: left;\">Brazil</td><td style = \"text-align: right;\">1800</td><td style = \"text-align: right;\">0</td><td style = \"text-align: right;\">1200000</td><td style = \"text-align: right;\">135000</td><td style = \"text-align: right;\">0.0</td><td style = \"text-align: right;\">87000</td><td style = \"text-align: right;\">1900000</td><td style = \"text-align: right;\">3600000</td><td style = \"text-align: right;\">400000</td><td style = \"text-align: right;\">590000</td><td style = \"text-align: right;\">0.0</td></tr></tbody></table></div>"
      ],
      "text/latex": [
       "\\begin{tabular}{r|cccccccccc}\n",
       "\t& Country & Li & Co & Mn & Ni & NMC111 powder & Graphite & PP & PE & \\\\\n",
       "\t\\hline\n",
       "\t& String31 & Int64 & Int64 & Int64 & Int64 & Float64 & Int64 & Int64 & Int64 & \\\\\n",
       "\t\\hline\n",
       "\t1 & Argentina & 10800 & 0 & 0 & 0 & 0.0 & 0 & 300000 & 0 & $\\dots$ \\\\\n",
       "\t2 & Australia & 37000 & 7400 & 3000000 & 189000 & 0.0 & 500 & 500000 & 600000 & $\\dots$ \\\\\n",
       "\t3 & Bahrain & 0 & 0 & 0 & 0 & 0.0 & 0 & 0 & 0 & $\\dots$ \\\\\n",
       "\t4 & Bolivia & 0 & 0 & 0 & 0 & 0.0 & 0 & 0 & 0 & $\\dots$ \\\\\n",
       "\t5 & Brazil & 1800 & 0 & 1200000 & 135000 & 0.0 & 87000 & 1900000 & 3600000 & $\\dots$ \\\\\n",
       "\\end{tabular}\n"
      ],
      "text/plain": [
       "\u001b[1m5×12 DataFrame\u001b[0m\n",
       "\u001b[1m Row \u001b[0m│\u001b[1m Country   \u001b[0m\u001b[1m Li    \u001b[0m\u001b[1m Co    \u001b[0m\u001b[1m Mn      \u001b[0m\u001b[1m Ni     \u001b[0m\u001b[1m NMC111 powder \u001b[0m\u001b[1m Graphite \u001b[0m\u001b[1m PP  \u001b[0m ⋯\n",
       "     │\u001b[90m String31  \u001b[0m\u001b[90m Int64 \u001b[0m\u001b[90m Int64 \u001b[0m\u001b[90m Int64   \u001b[0m\u001b[90m Int64  \u001b[0m\u001b[90m Float64       \u001b[0m\u001b[90m Int64    \u001b[0m\u001b[90m Int6\u001b[0m ⋯\n",
       "─────┼──────────────────────────────────────────────────────────────────────────\n",
       "   1 │ Argentina  10800      0        0       0            0.0         0   300 ⋯\n",
       "   2 │ Australia  37000   7400  3000000  189000            0.0       500   500\n",
       "   3 │ Bahrain        0      0        0       0            0.0         0\n",
       "   4 │ Bolivia        0      0        0       0            0.0         0\n",
       "   5 │ Brazil      1800      0  1200000  135000            0.0     87000  1900 ⋯\n",
       "\u001b[36m                                                               5 columns omitted\u001b[0m"
      ]
     },
     "execution_count": 45,
     "metadata": {},
     "output_type": "execute_result"
    }
   ],
   "source": [
    "first(cap_cstr, 5)"
   ]
  },
  {
   "cell_type": "code",
   "execution_count": 46,
   "id": "9c3ac379",
   "metadata": {},
   "outputs": [
    {
     "data": {
      "text/html": [
       "<div><div style = \"float: left;\"><span>11×5 DataFrame</span></div><div style = \"clear: both;\"></div></div><div class = \"data-frame\" style = \"overflow-x: scroll;\"><table class = \"data-frame\" style = \"margin-bottom: 6px;\"><thead><tr class = \"header\"><th class = \"rowNumber\" style = \"font-weight: bold; text-align: right;\">Row</th><th style = \"text-align: left;\">process</th><th style = \"text-align: left;\">input (material/kg battery)</th><th style = \"text-align: left;\">input (material/kWh battery)</th><th style = \"text-align: left;\">EF (kg CO2/material)</th><th style = \"text-align: left;\">input (material/kg NMC111 powder)</th></tr><tr class = \"subheader headerLastRow\"><th class = \"rowNumber\" style = \"font-weight: bold; text-align: right;\"></th><th title = \"String31\" style = \"text-align: left;\">String31</th><th title = \"Float64\" style = \"text-align: left;\">Float64</th><th title = \"Float64\" style = \"text-align: left;\">Float64</th><th title = \"Float64\" style = \"text-align: left;\">Float64</th><th title = \"Float64\" style = \"text-align: left;\">Float64</th></tr></thead><tbody><tr><td class = \"rowNumber\" style = \"font-weight: bold; text-align: right;\">1</td><td style = \"text-align: left;\">Li</td><td style = \"text-align: right;\">0.00905</td><td style = \"text-align: right;\">0.0635</td><td style = \"text-align: right;\">0.0155</td><td style = \"text-align: right;\">0.072</td></tr><tr><td class = \"rowNumber\" style = \"font-weight: bold; text-align: right;\">2</td><td style = \"text-align: left;\">Co</td><td style = \"text-align: right;\">0.051</td><td style = \"text-align: right;\">0.358</td><td style = \"text-align: right;\">0.492</td><td style = \"text-align: right;\">0.203</td></tr><tr><td class = \"rowNumber\" style = \"font-weight: bold; text-align: right;\">3</td><td style = \"text-align: left;\">Mn</td><td style = \"text-align: right;\">0.0479</td><td style = \"text-align: right;\">0.336</td><td style = \"text-align: right;\">5.6</td><td style = \"text-align: right;\">0.19</td></tr><tr><td class = \"rowNumber\" style = \"font-weight: bold; text-align: right;\">4</td><td style = \"text-align: left;\">Ni</td><td style = \"text-align: right;\">0.051</td><td style = \"text-align: right;\">0.358</td><td style = \"text-align: right;\">1.07</td><td style = \"text-align: right;\">0.203</td></tr><tr><td class = \"rowNumber\" style = \"font-weight: bold; text-align: right;\">5</td><td style = \"text-align: left;\">NMC111 powder</td><td style = \"text-align: right;\">0.252</td><td style = \"text-align: right;\">1.77</td><td style = \"text-align: right;\">14.7</td><td style = \"text-align: right;\">0.0</td></tr><tr><td class = \"rowNumber\" style = \"font-weight: bold; text-align: right;\">6</td><td style = \"text-align: left;\">Graphite</td><td style = \"text-align: right;\">0.141</td><td style = \"text-align: right;\">0.986</td><td style = \"text-align: right;\">4.86</td><td style = \"text-align: right;\">0.0</td></tr><tr><td class = \"rowNumber\" style = \"font-weight: bold; text-align: right;\">7</td><td style = \"text-align: left;\">PP</td><td style = \"text-align: right;\">0.011</td><td style = \"text-align: right;\">0.0774</td><td style = \"text-align: right;\">2.53</td><td style = \"text-align: right;\">0.0</td></tr><tr><td class = \"rowNumber\" style = \"font-weight: bold; text-align: right;\">8</td><td style = \"text-align: left;\">PE</td><td style = \"text-align: right;\">0.00364</td><td style = \"text-align: right;\">0.0255</td><td style = \"text-align: right;\">2.93</td><td style = \"text-align: right;\">0.0</td></tr><tr><td class = \"rowNumber\" style = \"font-weight: bold; text-align: right;\">9</td><td style = \"text-align: left;\">Cu</td><td style = \"text-align: right;\">0.117</td><td style = \"text-align: right;\">0.824</td><td style = \"text-align: right;\">3.08</td><td style = \"text-align: right;\">0.0</td></tr><tr><td class = \"rowNumber\" style = \"font-weight: bold; text-align: right;\">10</td><td style = \"text-align: left;\">Al</td><td style = \"text-align: right;\">0.239</td><td style = \"text-align: right;\">1.67</td><td style = \"text-align: right;\">7.41</td><td style = \"text-align: right;\">0.0</td></tr><tr><td class = \"rowNumber\" style = \"font-weight: bold; text-align: right;\">11</td><td style = \"text-align: left;\">battery production</td><td style = \"text-align: right;\">1.0</td><td style = \"text-align: right;\">0.831</td><td style = \"text-align: right;\">0.1183</td><td style = \"text-align: right;\">0.0</td></tr></tbody></table></div>"
      ],
      "text/latex": [
       "\\begin{tabular}{r|ccccc}\n",
       "\t& process & input (material/kg battery) & input (material/kWh battery) & EF (kg CO2/material) & \\\\\n",
       "\t\\hline\n",
       "\t& String31 & Float64 & Float64 & Float64 & \\\\\n",
       "\t\\hline\n",
       "\t1 & Li & 0.00905 & 0.0635 & 0.0155 & $\\dots$ \\\\\n",
       "\t2 & Co & 0.051 & 0.358 & 0.492 & $\\dots$ \\\\\n",
       "\t3 & Mn & 0.0479 & 0.336 & 5.6 & $\\dots$ \\\\\n",
       "\t4 & Ni & 0.051 & 0.358 & 1.07 & $\\dots$ \\\\\n",
       "\t5 & NMC111 powder & 0.252 & 1.77 & 14.7 & $\\dots$ \\\\\n",
       "\t6 & Graphite & 0.141 & 0.986 & 4.86 & $\\dots$ \\\\\n",
       "\t7 & PP & 0.011 & 0.0774 & 2.53 & $\\dots$ \\\\\n",
       "\t8 & PE & 0.00364 & 0.0255 & 2.93 & $\\dots$ \\\\\n",
       "\t9 & Cu & 0.117 & 0.824 & 3.08 & $\\dots$ \\\\\n",
       "\t10 & Al & 0.239 & 1.67 & 7.41 & $\\dots$ \\\\\n",
       "\t11 & battery production & 1.0 & 0.831 & 0.1183 & $\\dots$ \\\\\n",
       "\\end{tabular}\n"
      ],
      "text/plain": [
       "\u001b[1m11×5 DataFrame\u001b[0m\n",
       "\u001b[1m Row \u001b[0m│\u001b[1m process            \u001b[0m\u001b[1m input (material/kg battery) \u001b[0m\u001b[1m input (material/kWh ba\u001b[0m ⋯\n",
       "     │\u001b[90m String31           \u001b[0m\u001b[90m Float64                     \u001b[0m\u001b[90m Float64               \u001b[0m ⋯\n",
       "─────┼──────────────────────────────────────────────────────────────────────────\n",
       "   1 │ Li                                      0.00905                         ⋯\n",
       "   2 │ Co                                      0.051\n",
       "   3 │ Mn                                      0.0479\n",
       "   4 │ Ni                                      0.051\n",
       "   5 │ NMC111 powder                           0.252                           ⋯\n",
       "   6 │ Graphite                                0.141\n",
       "   7 │ PP                                      0.011\n",
       "   8 │ PE                                      0.00364\n",
       "   9 │ Cu                                      0.117                           ⋯\n",
       "  10 │ Al                                      0.239\n",
       "  11 │ battery production                      1.0\n",
       "\u001b[36m                                                               3 columns omitted\u001b[0m"
      ]
     },
     "execution_count": 46,
     "metadata": {},
     "output_type": "execute_result"
    }
   ],
   "source": [
    "LCA_model"
   ]
  },
  {
   "cell_type": "code",
   "execution_count": 47,
   "id": "eff42f8f",
   "metadata": {},
   "outputs": [],
   "source": [
    "w_cell = 164.98/1000                        # ton/pack\n",
    "cap_cell = 23.5                             # kWh/pack\n",
    "cell_demand = 6000000                       # annual demand of Li-ion battery for tesla (2M EV/yr, 3 NMC111 pack/EV)\n",
    "gobal_sink = 1.53e9                         # global CO2 sequestration (ton/yr)\n",
    "global_emission = 4.75e10                   # global CO2 emission (ton/yr)\n",
    "EF_aircraft = 0.433/1000                    # ton CO2/km*ton emission factor for freight transporation \n",
    "EF_input = LCA_model[!,\"EF (kg CO2/material)\"]\n",
    "process = LCA_model[!,\"process\"]\n",
    "countries = cap_cstr[!,\"Country\"]\n",
    "n = size(countries,1)                       # No. of countries\n",
    "m = size(process,1);                        # No. of processes "
   ]
  },
  {
   "cell_type": "code",
   "execution_count": 48,
   "id": "9abc9283",
   "metadata": {},
   "outputs": [],
   "source": [
    "# seperate model\n",
    "scaler_powder = LCA_model[1:4,\"input (material/kg NMC111 powder)\"]     # mineral inputs for 1 kg NMC111 powder\n",
    "scaler_cell = LCA_model[1:10,\"input (material/kg battery)\"];     # inputs for 1 kg NMC111 powder"
   ]
  },
  {
   "cell_type": "code",
   "execution_count": 49,
   "id": "28fc98b4",
   "metadata": {},
   "outputs": [
    {
     "data": {
      "text/plain": [
       "11-element Vector{Float64}:\n",
       "   8958.413999999999\n",
       "  50483.87999999999\n",
       "  47415.25199999999\n",
       "  50483.87999999999\n",
       " 249449.75999999998\n",
       " 139573.07999999996\n",
       "  10888.679999999998\n",
       "   3603.1631999999995\n",
       " 115815.95999999999\n",
       " 236581.31999999995\n",
       " 989879.9999999999"
      ]
     },
     "execution_count": 49,
     "metadata": {},
     "output_type": "execute_result"
    }
   ],
   "source": [
    "FU_battery = cell_demand * w_cell  # ton\n",
    "FU_input = FU_battery * LCA_model[1:11,\"input (material/kg battery)\"] "
   ]
  },
  {
   "cell_type": "markdown",
   "id": "5e04293b",
   "metadata": {},
   "source": [
    "----"
   ]
  },
  {
   "cell_type": "code",
   "execution_count": 61,
   "id": "04900f2b",
   "metadata": {},
   "outputs": [
    {
     "name": "stdout",
     "output_type": "stream",
     "text": [
      "Academic license - for non-commercial use only - expires 2023-11-27\r\n"
     ]
    }
   ],
   "source": [
    "model = Model(Gurobi.Optimizer);"
   ]
  },
  {
   "cell_type": "code",
   "execution_count": 62,
   "id": "ba522361",
   "metadata": {},
   "outputs": [],
   "source": [
    "#variables \n",
    "@variable(model, x[1:n, 1:m] >= 0)         # x[i,k] production amount of product k at location i\n",
    "@variable(model, y[1:n, 1:n, 1:m] >= 0);   # y[i,j,k] ship product k from i to j "
   ]
  },
  {
   "cell_type": "code",
   "execution_count": 63,
   "id": "25ee5bfa",
   "metadata": {},
   "outputs": [],
   "source": [
    "# node output flow constraint\n",
    "for k in 1:m\n",
    "    for i in 1:n\n",
    "        @constraint(model, sum(y[i,j,k] for j in 1:n) <= x[i,k])\n",
    "    end\n",
    "end"
   ]
  },
  {
   "cell_type": "code",
   "execution_count": 64,
   "id": "d1063079",
   "metadata": {},
   "outputs": [],
   "source": [
    "# NMC111 powder input flow constraint\n",
    "for k in 1:4\n",
    "    for j in 1:n\n",
    "        @constraint(model, sum(y[i,j,k] for i in 1:n) >= x[j,5] * scaler_powder[k])\n",
    "    end\n",
    "end\n",
    "\n",
    "# NMC111 battery input flow constraint\n",
    "for k in 5:10\n",
    "    for j in 1:n\n",
    "        @constraint(model, sum(y[i,j,k] for i in 1:n) >= x[j,11] * scaler_cell[k])\n",
    "    end\n",
    "end"
   ]
  },
  {
   "cell_type": "code",
   "execution_count": 65,
   "id": "64fa182a",
   "metadata": {},
   "outputs": [],
   "source": [
    "# production capacity constraints\n",
    "for i in 1:n\n",
    "    for k in 1:m\n",
    "        @constraint(model, x[i,k] <= cap_cstr[!, 2:end][i,k])\n",
    "    end\n",
    "end"
   ]
  },
  {
   "cell_type": "code",
   "execution_count": 66,
   "id": "354399ae",
   "metadata": {},
   "outputs": [],
   "source": [
    "# final demand constraints\n",
    "for k in 1:m\n",
    "    @constraint(model, sum(x[i,k] for i in 1:n) == FU_input[k])\n",
    "end\n",
    "\n",
    "# @constraint(model, sum(x[i,5] for i in 1:n) == powder_demand)"
   ]
  },
  {
   "cell_type": "code",
   "execution_count": 67,
   "id": "eb53474c",
   "metadata": {},
   "outputs": [],
   "source": [
    "vec_flow = []\n",
    "\n",
    "for k in 1:m\n",
    "    flow = sum(x[i, k] for i in 1:n)\n",
    "    push!(vec_flow, flow)\n",
    "end\n",
    "\n",
    "D_proc = EF_input' * vec_flow;"
   ]
  },
  {
   "cell_type": "code",
   "execution_count": 68,
   "id": "3bb8be98",
   "metadata": {},
   "outputs": [],
   "source": [
    "trans_emi = 0\n",
    "\n",
    "for k in 1:m\n",
    "    for i in 1:n\n",
    "        for j in 1:n\n",
    "            trans_emi += y[i,j,k] * distance[!, 2:end][i,j] * EF_aircraft\n",
    "        end\n",
    "    end\n",
    "end\n",
    "\n",
    "D_trans = trans_emi + sum(x[i,11] * distance[!, 2:end][i,38] for i in 1:n);"
   ]
  },
  {
   "cell_type": "code",
   "execution_count": 69,
   "id": "8c9ab186",
   "metadata": {},
   "outputs": [],
   "source": [
    "# supply - based on emission\n",
    "emi = x * EF_input\n",
    "S_country = SD[!, \"sink ton/yr\"] .* emi ./ SD[!, \"emission\"]\n",
    "S_global = gobal_sink/global_emission * emi\n",
    "S = S_country + S_global\n",
    "S_tot = sum(S);"
   ]
  },
  {
   "cell_type": "code",
   "execution_count": 70,
   "id": "e83fbe5a",
   "metadata": {},
   "outputs": [],
   "source": [
    "@objective(model, Min, D_proc + D_trans - S_tot);"
   ]
  },
  {
   "cell_type": "code",
   "execution_count": 71,
   "id": "c343e55d",
   "metadata": {},
   "outputs": [
    {
     "name": "stdout",
     "output_type": "stream",
     "text": [
      "Gurobi Optimizer version 9.1.2 build v9.1.2rc0 (win64)\r\n",
      "Thread count: 6 physical cores, 12 logical processors, using up to 12 threads\r\n",
      "Optimize a model with 1291 rows, 18040 columns and 35320 nonzeros\r\n",
      "Model fingerprint: 0xff6f58b7\r\n",
      "Coefficient statistics:\r\n",
      "  Matrix range     [4e-03, 1e+00]\r\n",
      "  Objective range  [1e-03, 2e+04]\r\n",
      "  Bounds range     [0e+00, 0e+00]\r\n",
      "  RHS range        [3e+02, 1e+15]\r\n",
      "Warning: Model contains large rhs\r\n",
      "         Consider reformulating model or setting NumericFocus parameter\r\n",
      "         to avoid numerical issues.\r\n",
      "\r\n",
      "Concurrent LP optimizer: primal simplex, dual simplex, and barrier\r\n",
      "Showing barrier log only...\r\n",
      "\r\n",
      "Presolve removed 1093 rows and 17189 columns\r\n",
      "Presolve time: 0.01s\r\n",
      "\r\n",
      "Solved with dual simplex\r\n",
      "Solved in 138 iterations and 0.01 seconds\r\n",
      "Infeasible or unbounded model\r\n",
      "\r\n",
      "User-callback calls 28, time in user-callback 0.00 sec\r\n"
     ]
    }
   ],
   "source": [
    "JuMP.optimize!(model)"
   ]
  },
  {
   "cell_type": "code",
   "execution_count": null,
   "id": "d5512161",
   "metadata": {},
   "outputs": [],
   "source": []
  }
 ],
 "metadata": {
  "kernelspec": {
   "display_name": "Julia 1.8.3",
   "language": "julia",
   "name": "julia-1.8"
  },
  "language_info": {
   "file_extension": ".jl",
   "mimetype": "application/julia",
   "name": "julia",
   "version": "1.8.3"
  }
 },
 "nbformat": 4,
 "nbformat_minor": 5
}
