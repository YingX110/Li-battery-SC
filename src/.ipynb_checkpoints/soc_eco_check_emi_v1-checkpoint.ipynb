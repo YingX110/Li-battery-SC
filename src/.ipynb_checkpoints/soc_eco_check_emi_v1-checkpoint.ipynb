{
 "cells": [
  {
   "cell_type": "code",
   "execution_count": 2,
   "id": "e7955e47",
   "metadata": {},
   "outputs": [],
   "source": [
    "using JuMP, Gurobi\n",
    "using CSV, LinearAlgebra, DataFrames\n",
    "using Plots"
   ]
  },
  {
   "cell_type": "markdown",
   "id": "de79e6e0",
   "metadata": {},
   "source": [
    "### Data"
   ]
  },
  {
   "cell_type": "code",
   "execution_count": 3,
   "id": "fc2b7225",
   "metadata": {},
   "outputs": [],
   "source": [
    "#load social and ecological data and orgnize \n",
    "FL = repeat([Float64], inner=15)\n",
    "dtype = append!([String], FL);\n",
    "\n",
    "regional_EF = CSV.File(\"C:/Users/bourg/.julia/environments/batterySC/Li-battery-SC/data/social/new_EF_SC1.csv\",header=1,delim=\",\", types=dtype) |> DataFrame    \n",
    "capacity = CSV.File(\"C:/Users/bourg/.julia/environments/batterySC/Li-battery-SC/data/social/capacity2.csv\",header=1,delim=\",\", types=dtype) |> DataFrame    \n",
    "distance = CSV.File(\"C:/Users/bourg/.julia/environments/batterySC/Li-battery-SC/data/social/distance.csv\",header=1,delim=\",\") |> DataFrame \n",
    "LCA_model = CSV.File(\"C:/Users/bourg/.julia/environments/batterySC/Li-battery-SC/data/social/LCA_model2.csv\",header=1,delim=\",\") |> DataFrame \n",
    "D_Dsoc = CSV.File(\"C:/Users/bourg/.julia/environments/batterySC/Li-battery-SC/data/social/D_Dsoc1.csv\",header=1,delim=\",\") |> DataFrame\n",
    "GDP = CSV.File(\"C:/Users/bourg/.julia/environments/batterySC/Li-battery-SC/data/social/GDP.csv\",header=1,delim=\",\") |> DataFrame;\n",
    "emi_sink = CSV.File(\"C:/Users/bourg/.julia/environments/batterySC/Li-battery-SC/data/SC_regional/emission_sink1.csv\",header=1,delim=\",\") |> DataFrame;"
   ]
  },
  {
   "cell_type": "code",
   "execution_count": 4,
   "id": "18ab4219",
   "metadata": {},
   "outputs": [],
   "source": [
    "cell_demand = 0.001*164.98*(1.369*1e6)*2           # annual demand of Li battery for tesla (1.369M EV/yr, ~2 NMC111 pack/EV, 164.98 kg/pack (35kwh/pack), 80~100 kWh per EV)\n",
    "\n",
    "global_sink = 1.099e10                        # global pub (ocean) CO2 sequestration (ton/yr)\n",
    "global_sink_tot = 2.236e10                  # global total (ocean+land) CO2 sequestration (ton/yr)\n",
    "global_emi = 3.53e10                          # global CO2 emission (ton/yr)\n",
    "global_gdp = 96882e9                          # 2021 global GDP ($/yr)\n",
    "es_ratio = global_sink/global_emi\n",
    "es_ratio_tot = global_sink_tot/global_emi\n",
    "emission_c = emi_sink[!, \"emission\"]          # national CO2 emission (ton/yr)\n",
    "sink_c = emi_sink[!, \"sink ton/yr\"]           # national CO2 sink (ton/yr)\n",
    "\n",
    "D = D_Dsoc[!, \"D\"]          # national CO2 emission (ton/yr)\n",
    "Dsoc = D_Dsoc[!, \"Dsoc ton/yr\"]           # national CO2 sink (ton/yr)\n",
    "\n",
    "EF_trans = 1.005/10000                        # ton CO2/km*ton (The average freight truck in the U.S. emits 161.8 grams of CO2 per ton-mile)\n",
    "process = LCA_model[!,\"process\"]\n",
    "countries = capacity[!,\"country\"]\n",
    "ncty = size(countries,1)                          # No. of countries\n",
    "nproc = size(process,1);                          # No. of processes \n",
    "\n",
    "mkt_loc = findfirst(isequal(\"United States\"), countries)\n",
    "mkt_proc = findfirst(isequal(\"battery\"), process)\n",
    "\n",
    "# seperate model\n",
    "cathode = 1:4\n",
    "cell = 5:10\n",
    "noncell = [12,13]\n",
    "battery = [11,14]\n",
    "scaler = LCA_model[!,\"scaler\"]\n",
    "price = LCA_model[!,\"price (usd/ton product)\"]\n",
    "vGDP = GDP[!,\"GDP usd\"];"
   ]
  },
  {
   "cell_type": "code",
   "execution_count": 5,
   "id": "ba6b1252",
   "metadata": {},
   "outputs": [],
   "source": [
    "up_cath = scaler[1:4] * scaler[5] * scaler[11]\n",
    "up_cell = scaler[5:10] * scaler[11]\n",
    "cell_sef = scaler[11]\n",
    "up_noncell = scaler[12:13] * scaler[14]\n",
    "noncell_sef = scaler[14]\n",
    "battery_sef = scaler[15];"
   ]
  },
  {
   "cell_type": "code",
   "execution_count": 6,
   "id": "900a2ecc",
   "metadata": {},
   "outputs": [],
   "source": [
    "input_amount = []\n",
    "input_amount = vcat(up_cath, up_cell, cell_sef, up_noncell, noncell_sef, battery_sef) .* cell_demand\n",
    "input_amount\n",
    "\n",
    "MktV = price .* input_amount ;  # ton"
   ]
  },
  {
   "cell_type": "code",
   "execution_count": 7,
   "id": "44f79302",
   "metadata": {},
   "outputs": [
    {
     "data": {
      "text/plain": [
       "15-element Vector{Float64}:\n",
       "  49670.291589732\n",
       "  69512.470736544\n",
       "  67696.846500888\n",
       "  69382.78329114\n",
       " 129687.44540400001\n",
       "  72376.074329\n",
       "   5239.896784\n",
       "   1309.974196\n",
       "  31111.887154999997\n",
       "  60258.81301599999\n",
       " 327493.549\n",
       "   2258.5762\n",
       "   1806.86096\n",
       " 451715.24\n",
       " 451715.24"
      ]
     },
     "execution_count": 7,
     "metadata": {},
     "output_type": "execute_result"
    }
   ],
   "source": [
    "input_amount"
   ]
  },
  {
   "cell_type": "markdown",
   "id": "8ac6417b",
   "metadata": {},
   "source": [
    "----"
   ]
  },
  {
   "cell_type": "code",
   "execution_count": 10,
   "id": "343f17c9",
   "metadata": {},
   "outputs": [
    {
     "name": "stdout",
     "output_type": "stream",
     "text": [
      "Academic license - for non-commercial use only - expires 2023-11-27\r\n"
     ]
    }
   ],
   "source": [
    "model = Model(Gurobi.Optimizer);"
   ]
  },
  {
   "cell_type": "code",
   "execution_count": 11,
   "id": "a899e407",
   "metadata": {},
   "outputs": [],
   "source": [
    "#variables \n",
    "@variable(model, x[1:ncty, 1:nproc] >= 0)            # x[i,k] production amount of product k at location i\n",
    "@variable(model, y[1:ncty, 1:ncty, 1:nproc] >= 0)   # y[i,j,k] ship product k from i to j \n",
    "@variable(model, delta[1:ncty], Bin);"
   ]
  },
  {
   "cell_type": "code",
   "execution_count": 12,
   "id": "0cafbfdd",
   "metadata": {},
   "outputs": [],
   "source": [
    "# capacity constraint: x[i,k] <= capacity[i][k]\n",
    "for k in 1:nproc\n",
    "    for i in 1:ncty\n",
    "        @constraint(model, x[i,k] <= capacity[!, 2:end][i,k])\n",
    "    end\n",
    "end\n",
    "\n",
    "\n",
    "# node output flow constraint\n",
    "for k in 1:nproc\n",
    "    for i in 1:ncty\n",
    "        @constraint(model, sum(y[i,j,k] for j in 1:ncty) == x[i,k])\n",
    "    end\n",
    "end\n",
    "\n",
    "\n",
    "# node output flow to market y[i,38, 15]\n",
    "for i in 1:ncty\n",
    "    for j in [e for e in 1:ncty if e != mkt_loc]\n",
    "        @constraint(model, y[i,j,mkt_proc] == 0)\n",
    "    end\n",
    "end\n",
    "\n",
    "\n",
    "# LCA: As=f\n",
    "for k in 1:nproc-1\n",
    "    @constraint(model, sum(x[i,k] for i in 1:ncty) == input_amount[k])\n",
    "end\n",
    "\n",
    "# final demand constraint\n",
    "@constraint(model, sum(y[i,mkt_loc,mkt_proc] for i in 1:ncty) == cell_demand)\n",
    "\n",
    "\n",
    "# cathode LCA constraints (index=5)\n",
    "for k in cathode\n",
    "    for j in 1:ncty\n",
    "        @constraint(model, sum(y[i,j,k] for i in 1:ncty) == x[j,5] * scaler[k])\n",
    "    end\n",
    "end\n",
    "\n",
    "\n",
    "# cell LCA constraints (index=11)\n",
    "for k in cell\n",
    "    for j in 1:ncty\n",
    "        @constraint(model, sum(y[i,j,k] for i in 1:ncty) == x[j,11] * scaler[k])\n",
    "    end\n",
    "end\n",
    "\n",
    "\n",
    "# non cell LCA constraints (index=14)\n",
    "for k in noncell\n",
    "    for j in 1:ncty\n",
    "        @constraint(model, sum(y[i,j,k] for i in 1:ncty) == x[j,14] * scaler[k])\n",
    "    end\n",
    "end\n",
    "\n",
    "\n",
    "# battery LCA constraints (index=15)\n",
    "for k in battery\n",
    "    for j in 1:ncty\n",
    "        @constraint(model, sum(y[i,j,k] for i in 1:ncty) == x[j,15] * scaler[k])\n",
    "    end\n",
    "end"
   ]
  },
  {
   "cell_type": "code",
   "execution_count": 13,
   "id": "9fd9b34a",
   "metadata": {},
   "outputs": [],
   "source": [
    "# 1. production emission (TES)\n",
    "val_x = zeros(ncty, nproc)\n",
    "\n",
    "for k in 1:nproc\n",
    "    for i in 1:ncty\n",
    "        val_x[i,k] = regional_EF[i, k+1] - (price[k]/vGDP[i])*sink_c[i] - (price[k]/global_gdp)*global_sink\n",
    "#         val_x[i,k] = regional_EF[i, k+1] * (1 - sink_c[i]/emission_c[i] - es_ratio)\n",
    "#         val_x[i,k] = regional_EF[i, k+1]\n",
    "    end\n",
    "end\n",
    "\n",
    "proc_emi = sum(x .* val_x);"
   ]
  },
  {
   "cell_type": "code",
   "execution_count": 14,
   "id": "6b4d484f",
   "metadata": {},
   "outputs": [],
   "source": [
    "# 2. transpotration emission (TES, w/ supply)\n",
    "trans_emi = 0\n",
    "\n",
    "for i in 1:ncty\n",
    "    for j in 1:ncty\n",
    "        amount = sum(y[i,j,k] for k in 1:nproc)\n",
    "        arc_emi = amount * distance[!, 2:end][i,j] * EF_trans\n",
    "#         arc_seq = arc_emi * (sink_c[j]/emission_c[j] + es_ratio)\n",
    "#         arc_net = arc_emi - arc_seq\n",
    "#         trans_emi += arc_net\n",
    "        trans_emi += arc_emi\n",
    "    end\n",
    "end"
   ]
  },
  {
   "cell_type": "code",
   "execution_count": 15,
   "id": "c3b62dfe",
   "metadata": {},
   "outputs": [],
   "source": [
    "slack = 1e-12\n",
    "proM = x * price\n",
    "proD = (x .* Matrix(regional_EF[:,2:end])) * ones(nproc,1) \n",
    "\n",
    "Temi = 0\n",
    "transD = Vector{AffExpr}(undef, ncty)\n",
    "for i in 1:ncty\n",
    "    for j in 1:ncty\n",
    "        amount = sum(y[i,j,k] for k in 1:nproc)\n",
    "        Temi += amount * distance[!, 2:end][i,j] * EF_trans\n",
    "    end\n",
    "    transD[i] = Temi\n",
    "end\n",
    "\n",
    "for i in 1:ncty\n",
    "    @constraint(model, proM[i] <= vGDP[i])\n",
    "end\n",
    "\n",
    "M = 1e15\n",
    "# Allo_soc = proD ./ emission_c .* Dsoc\n",
    "Allo_soc = proM ./ vGDP .* Dsoc\n",
    "SJ = proD + transD - Allo_soc;\n",
    "\n",
    "for i in 1:ncty\n",
    "    @constraint(model, SJ[i] >= (delta[i] - 1) * M)\n",
    "    @constraint(model, SJ[i] + slack <= delta[i] * M)\n",
    "end"
   ]
  },
  {
   "cell_type": "code",
   "execution_count": 16,
   "id": "ee8561d3",
   "metadata": {},
   "outputs": [],
   "source": [
    "@objective(model, Min, proc_emi+trans_emi);"
   ]
  },
  {
   "cell_type": "code",
   "execution_count": 17,
   "id": "cf8e131a",
   "metadata": {},
   "outputs": [
    {
     "name": "stdout",
     "output_type": "stream",
     "text": [
      "Gurobi Optimizer version 9.1.2 build v9.1.2rc0 (win64)\r\n",
      "Thread count: 6 physical cores, 12 logical processors, using up to 12 threads\r\n",
      "Optimize a model with 2295 rows, 13980 columns and 434700 nonzeros\r\n",
      "Model fingerprint: 0x48e2979a\r\n",
      "Variable types: 13950 continuous, 30 integer (30 binary)\r\n",
      "Coefficient statistics:\r\n",
      "  Matrix range     [4e-03, 1e+15]\r\n",
      "  Objective range  [5e-02, 2e+04]\r\n",
      "  Bounds range     [0e+00, 0e+00]\r\n",
      "  RHS range        [1e-12, 1e+15]\r\n",
      "Warning: Model contains large matrix coefficient range\r\n",
      "Warning: Model contains large rhs\r\n",
      "         Consider reformulating model or setting NumericFocus parameter\r\n",
      "         to avoid numerical issues.\r\n",
      "Presolve removed 2052 rows and 12499 columns\r\n",
      "Presolve time: 0.16s\r\n",
      "Presolved: 243 rows, 1481 columns, 9293 nonzeros\r\n",
      "Variable types: 1477 continuous, 4 integer (4 binary)\r\n",
      "\r\n",
      "Root relaxation: objective -1.525119e+08, 27 iterations, 0.00 seconds\r\n",
      "\r\n",
      "    Nodes    |    Current Node    |     Objective Bounds      |     Work\r\n",
      " Expl Unexpl |  Obj  Depth IntInf | Incumbent    BestBd   Gap | It/Node Time\r\n",
      "\r\n",
      "*    0     0               0    -1.52512e+08 -1.525e+08  0.00%     -    0s\r\n",
      "\r\n",
      "Explored 0 nodes (27 simplex iterations) in 0.20 seconds\r\n",
      "Thread count was 12 (of 12 available processors)\r\n",
      "\r\n",
      "Solution count 1: -1.52512e+08 \r\n",
      "No other solutions better than -1.52512e+08\r\n",
      "\r\n",
      "Optimal solution found (tolerance 1.00e-04)\r\n",
      "Best objective -1.525118811059e+08, best bound -1.525118811059e+08, gap 0.0000%\r\n",
      "\r\n",
      "User-callback calls 123, time in user-callback 0.01 sec\r\n"
     ]
    }
   ],
   "source": [
    "JuMP.optimize!(model)"
   ]
  },
  {
   "cell_type": "code",
   "execution_count": 20,
   "id": "a9e513ed",
   "metadata": {},
   "outputs": [],
   "source": [
    "eco_opt_x = JuMP.value.(x)\n",
    "eco_opt_y = JuMP.value.(y)\n",
    "eco_opt_delta = JuMP.value.(delta)\n",
    "eco_opt = JuMP.objective_value(model);"
   ]
  },
  {
   "cell_type": "code",
   "execution_count": 21,
   "id": "ce921c92",
   "metadata": {},
   "outputs": [
    {
     "data": {
      "text/html": [
       "<div><div style = \"float: left;\"><span>30×16 DataFrame</span></div><div style = \"float: right;\"><span style = \"font-style: italic;\">5 rows omitted</span></div><div style = \"clear: both;\"></div></div><div class = \"data-frame\" style = \"overflow-x: scroll;\"><table class = \"data-frame\" style = \"margin-bottom: 6px;\"><thead><tr class = \"header\"><th class = \"rowNumber\" style = \"font-weight: bold; text-align: right;\">Row</th><th style = \"text-align: left;\">country</th><th style = \"text-align: left;\">Li</th><th style = \"text-align: left;\">Co</th><th style = \"text-align: left;\">Mn</th><th style = \"text-align: left;\">Ni</th><th style = \"text-align: left;\">cathode</th><th style = \"text-align: left;\">graphite</th><th style = \"text-align: left;\">PP</th><th style = \"text-align: left;\">PE</th><th style = \"text-align: left;\">Cu</th><th style = \"text-align: left;\">Al</th><th style = \"text-align: left;\">cell</th><th style = \"text-align: left;\">PET</th><th style = \"text-align: left;\">electronics</th><th style = \"text-align: left;\">noncell</th><th style = \"text-align: left;\">battery</th></tr><tr class = \"subheader headerLastRow\"><th class = \"rowNumber\" style = \"font-weight: bold; text-align: right;\"></th><th title = \"String\" style = \"text-align: left;\">String</th><th title = \"Float64\" style = \"text-align: left;\">Float64</th><th title = \"Float64\" style = \"text-align: left;\">Float64</th><th title = \"Float64\" style = \"text-align: left;\">Float64</th><th title = \"Float64\" style = \"text-align: left;\">Float64</th><th title = \"Float64\" style = \"text-align: left;\">Float64</th><th title = \"Float64\" style = \"text-align: left;\">Float64</th><th title = \"Float64\" style = \"text-align: left;\">Float64</th><th title = \"Float64\" style = \"text-align: left;\">Float64</th><th title = \"Float64\" style = \"text-align: left;\">Float64</th><th title = \"Float64\" style = \"text-align: left;\">Float64</th><th title = \"Float64\" style = \"text-align: left;\">Float64</th><th title = \"Float64\" style = \"text-align: left;\">Float64</th><th title = \"Float64\" style = \"text-align: left;\">Float64</th><th title = \"Float64\" style = \"text-align: left;\">Float64</th><th title = \"Float64\" style = \"text-align: left;\">Float64</th></tr></thead><tbody><tr><td class = \"rowNumber\" style = \"font-weight: bold; text-align: right;\">1</td><td style = \"text-align: left;\">Argentina</td><td style = \"text-align: right;\">6200.0</td><td style = \"text-align: right;\">0.0</td><td style = \"text-align: right;\">0.0</td><td style = \"text-align: right;\">0.0</td><td style = \"text-align: right;\">0.0</td><td style = \"text-align: right;\">0.0</td><td style = \"text-align: right;\">0.0</td><td style = \"text-align: right;\">0.0</td><td style = \"text-align: right;\">0.0</td><td style = \"text-align: right;\">0.0</td><td style = \"text-align: right;\">0.0</td><td style = \"text-align: right;\">0.0</td><td style = \"text-align: right;\">0.0</td><td style = \"text-align: right;\">0.0</td><td style = \"text-align: right;\">0.0</td></tr><tr><td class = \"rowNumber\" style = \"font-weight: bold; text-align: right;\">2</td><td style = \"text-align: left;\">Australia</td><td style = \"text-align: right;\">1770.29</td><td style = \"text-align: right;\">0.0</td><td style = \"text-align: right;\">0.0</td><td style = \"text-align: right;\">0.0</td><td style = \"text-align: right;\">0.0</td><td style = \"text-align: right;\">0.0</td><td style = \"text-align: right;\">0.0</td><td style = \"text-align: right;\">0.0</td><td style = \"text-align: right;\">0.0</td><td style = \"text-align: right;\">0.0</td><td style = \"text-align: right;\">0.0</td><td style = \"text-align: right;\">0.0</td><td style = \"text-align: right;\">0.0</td><td style = \"text-align: right;\">0.0</td><td style = \"text-align: right;\">0.0</td></tr><tr><td class = \"rowNumber\" style = \"font-weight: bold; text-align: right;\">3</td><td style = \"text-align: left;\">Brazil</td><td style = \"text-align: right;\">2200.0</td><td style = \"text-align: right;\">0.0</td><td style = \"text-align: right;\">67696.8</td><td style = \"text-align: right;\">67000.0</td><td style = \"text-align: right;\">0.0</td><td style = \"text-align: right;\">72376.1</td><td style = \"text-align: right;\">5239.9</td><td style = \"text-align: right;\">1309.97</td><td style = \"text-align: right;\">31111.9</td><td style = \"text-align: right;\">0.0</td><td style = \"text-align: right;\">0.0</td><td style = \"text-align: right;\">2258.58</td><td style = \"text-align: right;\">0.0</td><td style = \"text-align: right;\">4.51715e5</td><td style = \"text-align: right;\">0.0</td></tr><tr><td class = \"rowNumber\" style = \"font-weight: bold; text-align: right;\">4</td><td style = \"text-align: left;\">Canada</td><td style = \"text-align: right;\">500.0</td><td style = \"text-align: right;\">0.0</td><td style = \"text-align: right;\">0.0</td><td style = \"text-align: right;\">0.0</td><td style = \"text-align: right;\">0.0</td><td style = \"text-align: right;\">0.0</td><td style = \"text-align: right;\">0.0</td><td style = \"text-align: right;\">0.0</td><td style = \"text-align: right;\">0.0</td><td style = \"text-align: right;\">0.0</td><td style = \"text-align: right;\">0.0</td><td style = \"text-align: right;\">0.0</td><td style = \"text-align: right;\">0.0</td><td style = \"text-align: right;\">0.0</td><td style = \"text-align: right;\">0.0</td></tr><tr><td class = \"rowNumber\" style = \"font-weight: bold; text-align: right;\">5</td><td style = \"text-align: left;\">Chile</td><td style = \"text-align: right;\">39000.0</td><td style = \"text-align: right;\">0.0</td><td style = \"text-align: right;\">0.0</td><td style = \"text-align: right;\">0.0</td><td style = \"text-align: right;\">0.0</td><td style = \"text-align: right;\">0.0</td><td style = \"text-align: right;\">0.0</td><td style = \"text-align: right;\">0.0</td><td style = \"text-align: right;\">0.0</td><td style = \"text-align: right;\">0.0</td><td style = \"text-align: right;\">0.0</td><td style = \"text-align: right;\">0.0</td><td style = \"text-align: right;\">0.0</td><td style = \"text-align: right;\">0.0</td><td style = \"text-align: right;\">0.0</td></tr><tr><td class = \"rowNumber\" style = \"font-weight: bold; text-align: right;\">6</td><td style = \"text-align: left;\">China</td><td style = \"text-align: right;\">0.0</td><td style = \"text-align: right;\">0.0</td><td style = \"text-align: right;\">0.0</td><td style = \"text-align: right;\">0.0</td><td style = \"text-align: right;\">0.0</td><td style = \"text-align: right;\">0.0</td><td style = \"text-align: right;\">0.0</td><td style = \"text-align: right;\">0.0</td><td style = \"text-align: right;\">0.0</td><td style = \"text-align: right;\">0.0</td><td style = \"text-align: right;\">0.0</td><td style = \"text-align: right;\">0.0</td><td style = \"text-align: right;\">0.0</td><td style = \"text-align: right;\">0.0</td><td style = \"text-align: right;\">0.0</td></tr><tr><td class = \"rowNumber\" style = \"font-weight: bold; text-align: right;\">7</td><td style = \"text-align: left;\">Colombia</td><td style = \"text-align: right;\">0.0</td><td style = \"text-align: right;\">0.0</td><td style = \"text-align: right;\">0.0</td><td style = \"text-align: right;\">2382.78</td><td style = \"text-align: right;\">0.0</td><td style = \"text-align: right;\">0.0</td><td style = \"text-align: right;\">0.0</td><td style = \"text-align: right;\">0.0</td><td style = \"text-align: right;\">0.0</td><td style = \"text-align: right;\">0.0</td><td style = \"text-align: right;\">0.0</td><td style = \"text-align: right;\">0.0</td><td style = \"text-align: right;\">0.0</td><td style = \"text-align: right;\">0.0</td><td style = \"text-align: right;\">0.0</td></tr><tr><td class = \"rowNumber\" style = \"font-weight: bold; text-align: right;\">8</td><td style = \"text-align: left;\">Congo</td><td style = \"text-align: right;\">0.0</td><td style = \"text-align: right;\">69512.5</td><td style = \"text-align: right;\">0.0</td><td style = \"text-align: right;\">0.0</td><td style = \"text-align: right;\">0.0</td><td style = \"text-align: right;\">0.0</td><td style = \"text-align: right;\">0.0</td><td style = \"text-align: right;\">0.0</td><td style = \"text-align: right;\">0.0</td><td style = \"text-align: right;\">0.0</td><td style = \"text-align: right;\">0.0</td><td style = \"text-align: right;\">0.0</td><td style = \"text-align: right;\">0.0</td><td style = \"text-align: right;\">0.0</td><td style = \"text-align: right;\">0.0</td></tr><tr><td class = \"rowNumber\" style = \"font-weight: bold; text-align: right;\">9</td><td style = \"text-align: left;\">Finland</td><td style = \"text-align: right;\">0.0</td><td style = \"text-align: right;\">0.0</td><td style = \"text-align: right;\">0.0</td><td style = \"text-align: right;\">0.0</td><td style = \"text-align: right;\">0.0</td><td style = \"text-align: right;\">0.0</td><td style = \"text-align: right;\">0.0</td><td style = \"text-align: right;\">0.0</td><td style = \"text-align: right;\">0.0</td><td style = \"text-align: right;\">0.0</td><td style = \"text-align: right;\">0.0</td><td style = \"text-align: right;\">0.0</td><td style = \"text-align: right;\">0.0</td><td style = \"text-align: right;\">0.0</td><td style = \"text-align: right;\">0.0</td></tr><tr><td class = \"rowNumber\" style = \"font-weight: bold; text-align: right;\">10</td><td style = \"text-align: left;\">France</td><td style = \"text-align: right;\">0.0</td><td style = \"text-align: right;\">0.0</td><td style = \"text-align: right;\">0.0</td><td style = \"text-align: right;\">0.0</td><td style = \"text-align: right;\">1.29687e5</td><td style = \"text-align: right;\">0.0</td><td style = \"text-align: right;\">0.0</td><td style = \"text-align: right;\">0.0</td><td style = \"text-align: right;\">0.0</td><td style = \"text-align: right;\">0.0</td><td style = \"text-align: right;\">0.0</td><td style = \"text-align: right;\">0.0</td><td style = \"text-align: right;\">0.0</td><td style = \"text-align: right;\">0.0</td><td style = \"text-align: right;\">0.0</td></tr><tr><td class = \"rowNumber\" style = \"font-weight: bold; text-align: right;\">11</td><td style = \"text-align: left;\">Germany</td><td style = \"text-align: right;\">0.0</td><td style = \"text-align: right;\">0.0</td><td style = \"text-align: right;\">0.0</td><td style = \"text-align: right;\">0.0</td><td style = \"text-align: right;\">0.0</td><td style = \"text-align: right;\">0.0</td><td style = \"text-align: right;\">0.0</td><td style = \"text-align: right;\">0.0</td><td style = \"text-align: right;\">0.0</td><td style = \"text-align: right;\">0.0</td><td style = \"text-align: right;\">0.0</td><td style = \"text-align: right;\">0.0</td><td style = \"text-align: right;\">0.0</td><td style = \"text-align: right;\">0.0</td><td style = \"text-align: right;\">0.0</td></tr><tr><td class = \"rowNumber\" style = \"font-weight: bold; text-align: right;\">12</td><td style = \"text-align: left;\">India</td><td style = \"text-align: right;\">0.0</td><td style = \"text-align: right;\">0.0</td><td style = \"text-align: right;\">0.0</td><td style = \"text-align: right;\">0.0</td><td style = \"text-align: right;\">0.0</td><td style = \"text-align: right;\">0.0</td><td style = \"text-align: right;\">0.0</td><td style = \"text-align: right;\">0.0</td><td style = \"text-align: right;\">0.0</td><td style = \"text-align: right;\">0.0</td><td style = \"text-align: right;\">0.0</td><td style = \"text-align: right;\">0.0</td><td style = \"text-align: right;\">0.0</td><td style = \"text-align: right;\">0.0</td><td style = \"text-align: right;\">0.0</td></tr><tr><td class = \"rowNumber\" style = \"font-weight: bold; text-align: right;\">13</td><td style = \"text-align: left;\">Indonesia</td><td style = \"text-align: right;\">0.0</td><td style = \"text-align: right;\">0.0</td><td style = \"text-align: right;\">0.0</td><td style = \"text-align: right;\">0.0</td><td style = \"text-align: right;\">0.0</td><td style = \"text-align: right;\">0.0</td><td style = \"text-align: right;\">0.0</td><td style = \"text-align: right;\">0.0</td><td style = \"text-align: right;\">0.0</td><td style = \"text-align: right;\">0.0</td><td style = \"text-align: right;\">0.0</td><td style = \"text-align: right;\">0.0</td><td style = \"text-align: right;\">0.0</td><td style = \"text-align: right;\">0.0</td><td style = \"text-align: right;\">0.0</td></tr><tr><td style = \"text-align: right;\">&vellip;</td><td style = \"text-align: right;\">&vellip;</td><td style = \"text-align: right;\">&vellip;</td><td style = \"text-align: right;\">&vellip;</td><td style = \"text-align: right;\">&vellip;</td><td style = \"text-align: right;\">&vellip;</td><td style = \"text-align: right;\">&vellip;</td><td style = \"text-align: right;\">&vellip;</td><td style = \"text-align: right;\">&vellip;</td><td style = \"text-align: right;\">&vellip;</td><td style = \"text-align: right;\">&vellip;</td><td style = \"text-align: right;\">&vellip;</td><td style = \"text-align: right;\">&vellip;</td><td style = \"text-align: right;\">&vellip;</td><td style = \"text-align: right;\">&vellip;</td><td style = \"text-align: right;\">&vellip;</td><td style = \"text-align: right;\">&vellip;</td></tr><tr><td class = \"rowNumber\" style = \"font-weight: bold; text-align: right;\">19</td><td style = \"text-align: left;\">Norway</td><td style = \"text-align: right;\">0.0</td><td style = \"text-align: right;\">0.0</td><td style = \"text-align: right;\">0.0</td><td style = \"text-align: right;\">0.0</td><td style = \"text-align: right;\">0.0</td><td style = \"text-align: right;\">0.0</td><td style = \"text-align: right;\">0.0</td><td style = \"text-align: right;\">0.0</td><td style = \"text-align: right;\">0.0</td><td style = \"text-align: right;\">60258.8</td><td style = \"text-align: right;\">0.0</td><td style = \"text-align: right;\">0.0</td><td style = \"text-align: right;\">0.0</td><td style = \"text-align: right;\">0.0</td><td style = \"text-align: right;\">0.0</td></tr><tr><td class = \"rowNumber\" style = \"font-weight: bold; text-align: right;\">20</td><td style = \"text-align: left;\">Peru</td><td style = \"text-align: right;\">0.0</td><td style = \"text-align: right;\">0.0</td><td style = \"text-align: right;\">0.0</td><td style = \"text-align: right;\">0.0</td><td style = \"text-align: right;\">0.0</td><td style = \"text-align: right;\">0.0</td><td style = \"text-align: right;\">0.0</td><td style = \"text-align: right;\">0.0</td><td style = \"text-align: right;\">0.0</td><td style = \"text-align: right;\">0.0</td><td style = \"text-align: right;\">0.0</td><td style = \"text-align: right;\">0.0</td><td style = \"text-align: right;\">0.0</td><td style = \"text-align: right;\">0.0</td><td style = \"text-align: right;\">0.0</td></tr><tr><td class = \"rowNumber\" style = \"font-weight: bold; text-align: right;\">21</td><td style = \"text-align: left;\">Philippines</td><td style = \"text-align: right;\">0.0</td><td style = \"text-align: right;\">0.0</td><td style = \"text-align: right;\">0.0</td><td style = \"text-align: right;\">0.0</td><td style = \"text-align: right;\">0.0</td><td style = \"text-align: right;\">0.0</td><td style = \"text-align: right;\">0.0</td><td style = \"text-align: right;\">0.0</td><td style = \"text-align: right;\">0.0</td><td style = \"text-align: right;\">0.0</td><td style = \"text-align: right;\">0.0</td><td style = \"text-align: right;\">0.0</td><td style = \"text-align: right;\">0.0</td><td style = \"text-align: right;\">0.0</td><td style = \"text-align: right;\">0.0</td></tr><tr><td class = \"rowNumber\" style = \"font-weight: bold; text-align: right;\">22</td><td style = \"text-align: left;\">Portugal</td><td style = \"text-align: right;\">0.0</td><td style = \"text-align: right;\">0.0</td><td style = \"text-align: right;\">0.0</td><td style = \"text-align: right;\">0.0</td><td style = \"text-align: right;\">0.0</td><td style = \"text-align: right;\">0.0</td><td style = \"text-align: right;\">0.0</td><td style = \"text-align: right;\">0.0</td><td style = \"text-align: right;\">0.0</td><td style = \"text-align: right;\">0.0</td><td style = \"text-align: right;\">0.0</td><td style = \"text-align: right;\">0.0</td><td style = \"text-align: right;\">0.0</td><td style = \"text-align: right;\">0.0</td><td style = \"text-align: right;\">0.0</td></tr><tr><td class = \"rowNumber\" style = \"font-weight: bold; text-align: right;\">23</td><td style = \"text-align: left;\">Russia</td><td style = \"text-align: right;\">0.0</td><td style = \"text-align: right;\">0.0</td><td style = \"text-align: right;\">0.0</td><td style = \"text-align: right;\">0.0</td><td style = \"text-align: right;\">0.0</td><td style = \"text-align: right;\">0.0</td><td style = \"text-align: right;\">0.0</td><td style = \"text-align: right;\">0.0</td><td style = \"text-align: right;\">0.0</td><td style = \"text-align: right;\">0.0</td><td style = \"text-align: right;\">0.0</td><td style = \"text-align: right;\">0.0</td><td style = \"text-align: right;\">0.0</td><td style = \"text-align: right;\">0.0</td><td style = \"text-align: right;\">0.0</td></tr><tr><td class = \"rowNumber\" style = \"font-weight: bold; text-align: right;\">24</td><td style = \"text-align: left;\">Saudi arabia</td><td style = \"text-align: right;\">0.0</td><td style = \"text-align: right;\">0.0</td><td style = \"text-align: right;\">0.0</td><td style = \"text-align: right;\">0.0</td><td style = \"text-align: right;\">0.0</td><td style = \"text-align: right;\">0.0</td><td style = \"text-align: right;\">0.0</td><td style = \"text-align: right;\">0.0</td><td style = \"text-align: right;\">0.0</td><td style = \"text-align: right;\">0.0</td><td style = \"text-align: right;\">0.0</td><td style = \"text-align: right;\">0.0</td><td style = \"text-align: right;\">0.0</td><td style = \"text-align: right;\">0.0</td><td style = \"text-align: right;\">0.0</td></tr><tr><td class = \"rowNumber\" style = \"font-weight: bold; text-align: right;\">25</td><td style = \"text-align: left;\">South Africa</td><td style = \"text-align: right;\">0.0</td><td style = \"text-align: right;\">0.0</td><td style = \"text-align: right;\">0.0</td><td style = \"text-align: right;\">0.0</td><td style = \"text-align: right;\">0.0</td><td style = \"text-align: right;\">0.0</td><td style = \"text-align: right;\">0.0</td><td style = \"text-align: right;\">0.0</td><td style = \"text-align: right;\">0.0</td><td style = \"text-align: right;\">0.0</td><td style = \"text-align: right;\">0.0</td><td style = \"text-align: right;\">0.0</td><td style = \"text-align: right;\">0.0</td><td style = \"text-align: right;\">0.0</td><td style = \"text-align: right;\">0.0</td></tr><tr><td class = \"rowNumber\" style = \"font-weight: bold; text-align: right;\">26</td><td style = \"text-align: left;\">South korea</td><td style = \"text-align: right;\">0.0</td><td style = \"text-align: right;\">0.0</td><td style = \"text-align: right;\">0.0</td><td style = \"text-align: right;\">0.0</td><td style = \"text-align: right;\">0.0</td><td style = \"text-align: right;\">0.0</td><td style = \"text-align: right;\">0.0</td><td style = \"text-align: right;\">0.0</td><td style = \"text-align: right;\">0.0</td><td style = \"text-align: right;\">0.0</td><td style = \"text-align: right;\">0.0</td><td style = \"text-align: right;\">0.0</td><td style = \"text-align: right;\">0.0</td><td style = \"text-align: right;\">0.0</td><td style = \"text-align: right;\">0.0</td></tr><tr><td class = \"rowNumber\" style = \"font-weight: bold; text-align: right;\">27</td><td style = \"text-align: left;\">Turkey</td><td style = \"text-align: right;\">0.0</td><td style = \"text-align: right;\">0.0</td><td style = \"text-align: right;\">0.0</td><td style = \"text-align: right;\">0.0</td><td style = \"text-align: right;\">0.0</td><td style = \"text-align: right;\">0.0</td><td style = \"text-align: right;\">0.0</td><td style = \"text-align: right;\">0.0</td><td style = \"text-align: right;\">0.0</td><td style = \"text-align: right;\">0.0</td><td style = \"text-align: right;\">0.0</td><td style = \"text-align: right;\">0.0</td><td style = \"text-align: right;\">0.0</td><td style = \"text-align: right;\">0.0</td><td style = \"text-align: right;\">0.0</td></tr><tr><td class = \"rowNumber\" style = \"font-weight: bold; text-align: right;\">28</td><td style = \"text-align: left;\">Ukraine</td><td style = \"text-align: right;\">0.0</td><td style = \"text-align: right;\">0.0</td><td style = \"text-align: right;\">0.0</td><td style = \"text-align: right;\">0.0</td><td style = \"text-align: right;\">0.0</td><td style = \"text-align: right;\">0.0</td><td style = \"text-align: right;\">0.0</td><td style = \"text-align: right;\">0.0</td><td style = \"text-align: right;\">0.0</td><td style = \"text-align: right;\">0.0</td><td style = \"text-align: right;\">0.0</td><td style = \"text-align: right;\">0.0</td><td style = \"text-align: right;\">0.0</td><td style = \"text-align: right;\">0.0</td><td style = \"text-align: right;\">0.0</td></tr><tr><td class = \"rowNumber\" style = \"font-weight: bold; text-align: right;\">29</td><td style = \"text-align: left;\">United Arab Emirates</td><td style = \"text-align: right;\">0.0</td><td style = \"text-align: right;\">0.0</td><td style = \"text-align: right;\">0.0</td><td style = \"text-align: right;\">0.0</td><td style = \"text-align: right;\">0.0</td><td style = \"text-align: right;\">0.0</td><td style = \"text-align: right;\">0.0</td><td style = \"text-align: right;\">0.0</td><td style = \"text-align: right;\">0.0</td><td style = \"text-align: right;\">0.0</td><td style = \"text-align: right;\">0.0</td><td style = \"text-align: right;\">0.0</td><td style = \"text-align: right;\">0.0</td><td style = \"text-align: right;\">0.0</td><td style = \"text-align: right;\">0.0</td></tr><tr><td class = \"rowNumber\" style = \"font-weight: bold; text-align: right;\">30</td><td style = \"text-align: left;\">United States</td><td style = \"text-align: right;\">0.0</td><td style = \"text-align: right;\">0.0</td><td style = \"text-align: right;\">0.0</td><td style = \"text-align: right;\">0.0</td><td style = \"text-align: right;\">0.0</td><td style = \"text-align: right;\">0.0</td><td style = \"text-align: right;\">0.0</td><td style = \"text-align: right;\">0.0</td><td style = \"text-align: right;\">0.0</td><td style = \"text-align: right;\">0.0</td><td style = \"text-align: right;\">3.27494e5</td><td style = \"text-align: right;\">0.0</td><td style = \"text-align: right;\">1806.86</td><td style = \"text-align: right;\">0.0</td><td style = \"text-align: right;\">4.51715e5</td></tr></tbody></table></div>"
      ],
      "text/latex": [
       "\\begin{tabular}{r|ccccccccc}\n",
       "\t& country & Li & Co & Mn & Ni & cathode & graphite & PP & \\\\\n",
       "\t\\hline\n",
       "\t& String & Float64 & Float64 & Float64 & Float64 & Float64 & Float64 & Float64 & \\\\\n",
       "\t\\hline\n",
       "\t1 & Argentina & 6200.0 & 0.0 & 0.0 & 0.0 & 0.0 & 0.0 & 0.0 & $\\dots$ \\\\\n",
       "\t2 & Australia & 1770.29 & 0.0 & 0.0 & 0.0 & 0.0 & 0.0 & 0.0 & $\\dots$ \\\\\n",
       "\t3 & Brazil & 2200.0 & 0.0 & 67696.8 & 67000.0 & 0.0 & 72376.1 & 5239.9 & $\\dots$ \\\\\n",
       "\t4 & Canada & 500.0 & 0.0 & 0.0 & 0.0 & 0.0 & 0.0 & 0.0 & $\\dots$ \\\\\n",
       "\t5 & Chile & 39000.0 & 0.0 & 0.0 & 0.0 & 0.0 & 0.0 & 0.0 & $\\dots$ \\\\\n",
       "\t6 & China & 0.0 & 0.0 & 0.0 & 0.0 & 0.0 & 0.0 & 0.0 & $\\dots$ \\\\\n",
       "\t7 & Colombia & 0.0 & 0.0 & 0.0 & 2382.78 & 0.0 & 0.0 & 0.0 & $\\dots$ \\\\\n",
       "\t8 & Congo & 0.0 & 69512.5 & 0.0 & 0.0 & 0.0 & 0.0 & 0.0 & $\\dots$ \\\\\n",
       "\t9 & Finland & 0.0 & 0.0 & 0.0 & 0.0 & 0.0 & 0.0 & 0.0 & $\\dots$ \\\\\n",
       "\t10 & France & 0.0 & 0.0 & 0.0 & 0.0 & 1.29687e5 & 0.0 & 0.0 & $\\dots$ \\\\\n",
       "\t11 & Germany & 0.0 & 0.0 & 0.0 & 0.0 & 0.0 & 0.0 & 0.0 & $\\dots$ \\\\\n",
       "\t12 & India & 0.0 & 0.0 & 0.0 & 0.0 & 0.0 & 0.0 & 0.0 & $\\dots$ \\\\\n",
       "\t13 & Indonesia & 0.0 & 0.0 & 0.0 & 0.0 & 0.0 & 0.0 & 0.0 & $\\dots$ \\\\\n",
       "\t14 & Iran & 0.0 & 0.0 & 0.0 & 0.0 & 0.0 & 0.0 & 0.0 & $\\dots$ \\\\\n",
       "\t15 & Japan & 0.0 & 0.0 & 0.0 & 0.0 & 0.0 & 0.0 & 0.0 & $\\dots$ \\\\\n",
       "\t16 & Kazakhstan & 0.0 & 0.0 & 0.0 & 0.0 & 0.0 & 0.0 & 0.0 & $\\dots$ \\\\\n",
       "\t17 & Malaysia & 0.0 & 0.0 & 0.0 & 0.0 & 0.0 & 0.0 & 0.0 & $\\dots$ \\\\\n",
       "\t18 & Mexico & 0.0 & 0.0 & 0.0 & 0.0 & 0.0 & 0.0 & 0.0 & $\\dots$ \\\\\n",
       "\t19 & Norway & 0.0 & 0.0 & 0.0 & 0.0 & 0.0 & 0.0 & 0.0 & $\\dots$ \\\\\n",
       "\t20 & Peru & 0.0 & 0.0 & 0.0 & 0.0 & 0.0 & 0.0 & 0.0 & $\\dots$ \\\\\n",
       "\t21 & Philippines & 0.0 & 0.0 & 0.0 & 0.0 & 0.0 & 0.0 & 0.0 & $\\dots$ \\\\\n",
       "\t22 & Portugal & 0.0 & 0.0 & 0.0 & 0.0 & 0.0 & 0.0 & 0.0 & $\\dots$ \\\\\n",
       "\t23 & Russia & 0.0 & 0.0 & 0.0 & 0.0 & 0.0 & 0.0 & 0.0 & $\\dots$ \\\\\n",
       "\t24 & Saudi arabia & 0.0 & 0.0 & 0.0 & 0.0 & 0.0 & 0.0 & 0.0 & $\\dots$ \\\\\n",
       "\t25 & South Africa & 0.0 & 0.0 & 0.0 & 0.0 & 0.0 & 0.0 & 0.0 & $\\dots$ \\\\\n",
       "\t26 & South korea & 0.0 & 0.0 & 0.0 & 0.0 & 0.0 & 0.0 & 0.0 & $\\dots$ \\\\\n",
       "\t27 & Turkey & 0.0 & 0.0 & 0.0 & 0.0 & 0.0 & 0.0 & 0.0 & $\\dots$ \\\\\n",
       "\t28 & Ukraine & 0.0 & 0.0 & 0.0 & 0.0 & 0.0 & 0.0 & 0.0 & $\\dots$ \\\\\n",
       "\t29 & United Arab Emirates & 0.0 & 0.0 & 0.0 & 0.0 & 0.0 & 0.0 & 0.0 & $\\dots$ \\\\\n",
       "\t30 & United States & 0.0 & 0.0 & 0.0 & 0.0 & 0.0 & 0.0 & 0.0 & $\\dots$ \\\\\n",
       "\\end{tabular}\n"
      ],
      "text/plain": [
       "\u001b[1m30×16 DataFrame\u001b[0m\n",
       "\u001b[1m Row \u001b[0m│\u001b[1m country              \u001b[0m\u001b[1m Li       \u001b[0m\u001b[1m Co      \u001b[0m\u001b[1m Mn      \u001b[0m\u001b[1m Ni       \u001b[0m\u001b[1m cathode   \u001b[0m\u001b[1m \u001b[0m ⋯\n",
       "     │\u001b[90m String               \u001b[0m\u001b[90m Float64  \u001b[0m\u001b[90m Float64 \u001b[0m\u001b[90m Float64 \u001b[0m\u001b[90m Float64  \u001b[0m\u001b[90m Float64   \u001b[0m\u001b[90m \u001b[0m ⋯\n",
       "─────┼──────────────────────────────────────────────────────────────────────────\n",
       "   1 │ Argentina              6200.0       0.0      0.0      0.0   0.0         ⋯\n",
       "   2 │ Australia              1770.29      0.0      0.0      0.0   0.0\n",
       "   3 │ Brazil                 2200.0       0.0  67696.8  67000.0   0.0\n",
       "   4 │ Canada                  500.0       0.0      0.0      0.0   0.0\n",
       "   5 │ Chile                 39000.0       0.0      0.0      0.0   0.0         ⋯\n",
       "   6 │ China                     0.0       0.0      0.0      0.0   0.0\n",
       "   7 │ Colombia                  0.0       0.0      0.0   2382.78  0.0\n",
       "   8 │ Congo                     0.0   69512.5      0.0      0.0   0.0\n",
       "   9 │ Finland                   0.0       0.0      0.0      0.0   0.0         ⋯\n",
       "  10 │ France                    0.0       0.0      0.0      0.0   1.29687e5\n",
       "  11 │ Germany                   0.0       0.0      0.0      0.0   0.0\n",
       "  ⋮  │          ⋮               ⋮         ⋮        ⋮        ⋮          ⋮       ⋱\n",
       "  21 │ Philippines               0.0       0.0      0.0      0.0   0.0\n",
       "  22 │ Portugal                  0.0       0.0      0.0      0.0   0.0         ⋯\n",
       "  23 │ Russia                    0.0       0.0      0.0      0.0   0.0\n",
       "  24 │ Saudi arabia              0.0       0.0      0.0      0.0   0.0\n",
       "  25 │ South Africa              0.0       0.0      0.0      0.0   0.0\n",
       "  26 │ South korea               0.0       0.0      0.0      0.0   0.0         ⋯\n",
       "  27 │ Turkey                    0.0       0.0      0.0      0.0   0.0\n",
       "  28 │ Ukraine                   0.0       0.0      0.0      0.0   0.0\n",
       "  29 │ United Arab Emirates      0.0       0.0      0.0      0.0   0.0\n",
       "  30 │ United States             0.0       0.0      0.0      0.0   0.0         ⋯\n",
       "\u001b[36m                                                   10 columns and 9 rows omitted\u001b[0m"
      ]
     },
     "execution_count": 21,
     "metadata": {},
     "output_type": "execute_result"
    }
   ],
   "source": [
    "res_x = DataFrame(eco_opt_x, :auto)\n",
    "rename!(res_x, [\"x$i\" => proc for (i, proc) in enumerate(process)])\n",
    "insertcols!(res_x, 1, :country => countries)"
   ]
  },
  {
   "cell_type": "code",
   "execution_count": 1,
   "id": "7c5c2c58",
   "metadata": {},
   "outputs": [],
   "source": [
    "# CSV.write(\"/Users/bourg/Desktop/eco_val_1005.csv\", res_x) "
   ]
  },
  {
   "cell_type": "markdown",
   "id": "4f1c1f4e",
   "metadata": {},
   "source": [
    "### SOCIAL"
   ]
  },
  {
   "cell_type": "code",
   "execution_count": 28,
   "id": "92f48b63",
   "metadata": {},
   "outputs": [
    {
     "name": "stdout",
     "output_type": "stream",
     "text": [
      "Academic license - for non-commercial use only - expires 2023-11-27\r\n"
     ]
    }
   ],
   "source": [
    "model = Model(Gurobi.Optimizer);"
   ]
  },
  {
   "cell_type": "code",
   "execution_count": 29,
   "id": "d4ab2b2d",
   "metadata": {},
   "outputs": [],
   "source": [
    "#variables \n",
    "@variable(model, x[1:ncty, 1:nproc] >= 0)            # x[i,k] production amount of product k at location i\n",
    "@variable(model, y[1:ncty, 1:ncty, 1:nproc] >= 0)   # y[i,j,k] ship product k from i to j \n",
    "@variable(model, delta[1:ncty], Bin);"
   ]
  },
  {
   "cell_type": "code",
   "execution_count": 30,
   "id": "74d056f8",
   "metadata": {},
   "outputs": [],
   "source": [
    "# capacity constraint: x[i,k] <= capacity[i][k]\n",
    "for k in 1:nproc\n",
    "    for i in 1:ncty\n",
    "        @constraint(model, x[i,k] <= capacity[!, 2:end][i,k])\n",
    "    end\n",
    "end\n",
    "\n",
    "\n",
    "# node output flow constraint\n",
    "for k in 1:nproc\n",
    "    for i in 1:ncty\n",
    "        @constraint(model, sum(y[i,j,k] for j in 1:ncty) == x[i,k])\n",
    "    end\n",
    "end\n",
    "\n",
    "\n",
    "# node output flow to market y[i,38, 15]\n",
    "for i in 1:ncty\n",
    "    for j in [e for e in 1:ncty if e != mkt_loc]\n",
    "        @constraint(model, y[i,j,mkt_proc] == 0)\n",
    "    end\n",
    "end\n",
    "\n",
    "\n",
    "# LCA: As=f\n",
    "for k in 1:nproc-1\n",
    "    @constraint(model, sum(x[i,k] for i in 1:ncty) == input_amount[k])\n",
    "end\n",
    "\n",
    "# final demand constraint\n",
    "@constraint(model, sum(y[i,mkt_loc,mkt_proc] for i in 1:ncty) == cell_demand)\n",
    "\n",
    "\n",
    "# cathode LCA constraints (index=5)\n",
    "for k in cathode\n",
    "    for j in 1:ncty\n",
    "        @constraint(model, sum(y[i,j,k] for i in 1:ncty) == x[j,5] * scaler[k])\n",
    "    end\n",
    "end\n",
    "\n",
    "\n",
    "# cell LCA constraints (index=11)\n",
    "for k in cell\n",
    "    for j in 1:ncty\n",
    "        @constraint(model, sum(y[i,j,k] for i in 1:ncty) == x[j,11] * scaler[k])\n",
    "    end\n",
    "end\n",
    "\n",
    "\n",
    "# non cell LCA constraints (index=14)\n",
    "for k in noncell\n",
    "    for j in 1:ncty\n",
    "        @constraint(model, sum(y[i,j,k] for i in 1:ncty) == x[j,14] * scaler[k])\n",
    "    end\n",
    "end\n",
    "\n",
    "\n",
    "# battery LCA constraints (index=15)\n",
    "for k in battery\n",
    "    for j in 1:ncty\n",
    "        @constraint(model, sum(y[i,j,k] for i in 1:ncty) == x[j,15] * scaler[k])\n",
    "    end\n",
    "end"
   ]
  },
  {
   "cell_type": "code",
   "execution_count": 31,
   "id": "6c1b59ec",
   "metadata": {},
   "outputs": [],
   "source": [
    "slack = 1e-12\n",
    "proM = x * price\n",
    "proD = (x .* Matrix(regional_EF[:,2:end])) * ones(nproc,1) \n",
    "\n",
    "Temi = 0\n",
    "transD = Vector{AffExpr}(undef, ncty)\n",
    "for i in 1:ncty\n",
    "    for j in 1:ncty\n",
    "        amount = sum(y[i,j,k] for k in 1:nproc)\n",
    "        Temi += amount * distance[!, 2:end][i,j] * EF_trans\n",
    "    end\n",
    "    transD[i] = Temi\n",
    "end\n",
    "\n",
    "for i in 1:ncty\n",
    "    @constraint(model, proM[i] <= vGDP[i])\n",
    "end\n",
    "\n",
    "M = 1e15\n",
    "# Allo_soc = proD ./ emission_c .* Dsoc\n",
    "Allo_soc = proM ./ vGDP .* Dsoc\n",
    "SJ = proD + transD - Allo_soc;\n",
    "\n",
    "for i in 1:ncty\n",
    "    @constraint(model, SJ[i] >= (delta[i] - 1) * M)\n",
    "    @constraint(model, SJ[i] + slack <= delta[i] * M)\n",
    "end"
   ]
  },
  {
   "cell_type": "code",
   "execution_count": 32,
   "id": "968fdc00",
   "metadata": {},
   "outputs": [],
   "source": [
    "@objective(model, Max, sum(delta));"
   ]
  },
  {
   "cell_type": "code",
   "execution_count": 33,
   "id": "0ced06cf",
   "metadata": {},
   "outputs": [
    {
     "name": "stdout",
     "output_type": "stream",
     "text": [
      "Gurobi Optimizer version 9.1.2 build v9.1.2rc0 (win64)\r\n",
      "Thread count: 6 physical cores, 12 logical processors, using up to 12 threads\r\n",
      "Optimize a model with 2295 rows, 13980 columns and 434700 nonzeros\r\n",
      "Model fingerprint: 0xd62f4a41\r\n",
      "Variable types: 13950 continuous, 30 integer (30 binary)\r\n",
      "Coefficient statistics:\r\n",
      "  Matrix range     [4e-03, 1e+15]\r\n",
      "  Objective range  [1e+00, 1e+00]\r\n",
      "  Bounds range     [0e+00, 0e+00]\r\n",
      "  RHS range        [1e-12, 1e+15]\r\n",
      "Warning: Model contains large matrix coefficient range\r\n",
      "Warning: Model contains large rhs\r\n",
      "         Consider reformulating model or setting NumericFocus parameter\r\n",
      "         to avoid numerical issues.\r\n",
      "Presolve removed 2052 rows and 12499 columns\r\n",
      "Presolve time: 0.12s\r\n",
      "Presolved: 243 rows, 1481 columns, 9293 nonzeros\r\n",
      "Variable types: 1477 continuous, 4 integer (4 binary)\r\n",
      "\r\n",
      "Root relaxation: objective 3.000000e+01, 169 iterations, 0.00 seconds\r\n",
      "\r\n",
      "    Nodes    |    Current Node    |     Objective Bounds      |     Work\r\n",
      " Expl Unexpl |  Obj  Depth IntInf | Incumbent    BestBd   Gap | It/Node Time\r\n",
      "\r\n",
      "*    0     0               0      30.0000000   30.00000  0.00%     -    0s\r\n",
      "\r\n",
      "Explored 0 nodes (169 simplex iterations) in 0.17 seconds\r\n",
      "Thread count was 12 (of 12 available processors)\r\n",
      "\r\n",
      "Solution count 1: 30 \r\n",
      "\r\n",
      "Optimal solution found (tolerance 1.00e-04)\r\n",
      "Best objective 3.000000000000e+01, best bound 3.000000000000e+01, gap 0.0000%\r\n",
      "\r\n",
      "User-callback calls 156, time in user-callback 0.00 sec\r\n"
     ]
    }
   ],
   "source": [
    "JuMP.optimize!(model)"
   ]
  },
  {
   "cell_type": "code",
   "execution_count": 34,
   "id": "d94ab465",
   "metadata": {},
   "outputs": [],
   "source": [
    "soc_opt_x = JuMP.value.(x)\n",
    "soc_opt_y = JuMP.value.(y)\n",
    "soc_opt_delta = JuMP.value.(delta)\n",
    "soc_opt = JuMP.objective_value(model);"
   ]
  },
  {
   "cell_type": "code",
   "execution_count": 35,
   "id": "f350f566",
   "metadata": {},
   "outputs": [
    {
     "data": {
      "text/html": [
       "<div><div style = \"float: left;\"><span>30×16 DataFrame</span></div><div style = \"float: right;\"><span style = \"font-style: italic;\">5 rows omitted</span></div><div style = \"clear: both;\"></div></div><div class = \"data-frame\" style = \"overflow-x: scroll;\"><table class = \"data-frame\" style = \"margin-bottom: 6px;\"><thead><tr class = \"header\"><th class = \"rowNumber\" style = \"font-weight: bold; text-align: right;\">Row</th><th style = \"text-align: left;\">country</th><th style = \"text-align: left;\">Li</th><th style = \"text-align: left;\">Co</th><th style = \"text-align: left;\">Mn</th><th style = \"text-align: left;\">Ni</th><th style = \"text-align: left;\">cathode</th><th style = \"text-align: left;\">graphite</th><th style = \"text-align: left;\">PP</th><th style = \"text-align: left;\">PE</th><th style = \"text-align: left;\">Cu</th><th style = \"text-align: left;\">Al</th><th style = \"text-align: left;\">cell</th><th style = \"text-align: left;\">PET</th><th style = \"text-align: left;\">electronics</th><th style = \"text-align: left;\">noncell</th><th style = \"text-align: left;\">battery</th></tr><tr class = \"subheader headerLastRow\"><th class = \"rowNumber\" style = \"font-weight: bold; text-align: right;\"></th><th title = \"String\" style = \"text-align: left;\">String</th><th title = \"Float64\" style = \"text-align: left;\">Float64</th><th title = \"Float64\" style = \"text-align: left;\">Float64</th><th title = \"Float64\" style = \"text-align: left;\">Float64</th><th title = \"Float64\" style = \"text-align: left;\">Float64</th><th title = \"Float64\" style = \"text-align: left;\">Float64</th><th title = \"Float64\" style = \"text-align: left;\">Float64</th><th title = \"Float64\" style = \"text-align: left;\">Float64</th><th title = \"Float64\" style = \"text-align: left;\">Float64</th><th title = \"Float64\" style = \"text-align: left;\">Float64</th><th title = \"Float64\" style = \"text-align: left;\">Float64</th><th title = \"Float64\" style = \"text-align: left;\">Float64</th><th title = \"Float64\" style = \"text-align: left;\">Float64</th><th title = \"Float64\" style = \"text-align: left;\">Float64</th><th title = \"Float64\" style = \"text-align: left;\">Float64</th><th title = \"Float64\" style = \"text-align: left;\">Float64</th></tr></thead><tbody><tr><td class = \"rowNumber\" style = \"font-weight: bold; text-align: right;\">1</td><td style = \"text-align: left;\">Argentina</td><td style = \"text-align: right;\">0.0</td><td style = \"text-align: right;\">0.0</td><td style = \"text-align: right;\">0.0</td><td style = \"text-align: right;\">0.0</td><td style = \"text-align: right;\">0.0</td><td style = \"text-align: right;\">0.0</td><td style = \"text-align: right;\">0.0</td><td style = \"text-align: right;\">0.0</td><td style = \"text-align: right;\">0.0</td><td style = \"text-align: right;\">0.0</td><td style = \"text-align: right;\">0.0</td><td style = \"text-align: right;\">0.0</td><td style = \"text-align: right;\">0.0</td><td style = \"text-align: right;\">0.0</td><td style = \"text-align: right;\">0.0</td></tr><tr><td class = \"rowNumber\" style = \"font-weight: bold; text-align: right;\">2</td><td style = \"text-align: left;\">Australia</td><td style = \"text-align: right;\">27070.3</td><td style = \"text-align: right;\">7000.0</td><td style = \"text-align: right;\">0.0</td><td style = \"text-align: right;\">52602.7</td><td style = \"text-align: right;\">0.0</td><td style = \"text-align: right;\">0.0</td><td style = \"text-align: right;\">0.0</td><td style = \"text-align: right;\">0.0</td><td style = \"text-align: right;\">0.0</td><td style = \"text-align: right;\">0.0</td><td style = \"text-align: right;\">0.0</td><td style = \"text-align: right;\">0.0</td><td style = \"text-align: right;\">0.0</td><td style = \"text-align: right;\">0.0</td><td style = \"text-align: right;\">0.0</td></tr><tr><td class = \"rowNumber\" style = \"font-weight: bold; text-align: right;\">3</td><td style = \"text-align: left;\">Brazil</td><td style = \"text-align: right;\">2200.0</td><td style = \"text-align: right;\">0.0</td><td style = \"text-align: right;\">0.0</td><td style = \"text-align: right;\">0.0</td><td style = \"text-align: right;\">0.0</td><td style = \"text-align: right;\">0.0</td><td style = \"text-align: right;\">0.0</td><td style = \"text-align: right;\">0.0</td><td style = \"text-align: right;\">0.0</td><td style = \"text-align: right;\">0.0</td><td style = \"text-align: right;\">0.0</td><td style = \"text-align: right;\">0.0</td><td style = \"text-align: right;\">0.0</td><td style = \"text-align: right;\">0.0</td><td style = \"text-align: right;\">0.0</td></tr><tr><td class = \"rowNumber\" style = \"font-weight: bold; text-align: right;\">4</td><td style = \"text-align: left;\">Canada</td><td style = \"text-align: right;\">500.0</td><td style = \"text-align: right;\">3100.0</td><td style = \"text-align: right;\">0.0</td><td style = \"text-align: right;\">0.0</td><td style = \"text-align: right;\">0.0</td><td style = \"text-align: right;\">15000.0</td><td style = \"text-align: right;\">0.0</td><td style = \"text-align: right;\">0.0</td><td style = \"text-align: right;\">0.0</td><td style = \"text-align: right;\">0.0</td><td style = \"text-align: right;\">0.0</td><td style = \"text-align: right;\">0.0</td><td style = \"text-align: right;\">0.0</td><td style = \"text-align: right;\">0.0</td><td style = \"text-align: right;\">0.0</td></tr><tr><td class = \"rowNumber\" style = \"font-weight: bold; text-align: right;\">5</td><td style = \"text-align: left;\">Chile</td><td style = \"text-align: right;\">0.0</td><td style = \"text-align: right;\">0.0</td><td style = \"text-align: right;\">0.0</td><td style = \"text-align: right;\">0.0</td><td style = \"text-align: right;\">0.0</td><td style = \"text-align: right;\">0.0</td><td style = \"text-align: right;\">0.0</td><td style = \"text-align: right;\">0.0</td><td style = \"text-align: right;\">0.0</td><td style = \"text-align: right;\">0.0</td><td style = \"text-align: right;\">0.0</td><td style = \"text-align: right;\">0.0</td><td style = \"text-align: right;\">0.0</td><td style = \"text-align: right;\">0.0</td><td style = \"text-align: right;\">0.0</td></tr><tr><td class = \"rowNumber\" style = \"font-weight: bold; text-align: right;\">6</td><td style = \"text-align: left;\">China</td><td style = \"text-align: right;\">19000.0</td><td style = \"text-align: right;\">2200.0</td><td style = \"text-align: right;\">64984.3</td><td style = \"text-align: right;\">0.0</td><td style = \"text-align: right;\">1.24491e5</td><td style = \"text-align: right;\">41226.1</td><td style = \"text-align: right;\">2027.15</td><td style = \"text-align: right;\">0.0</td><td style = \"text-align: right;\">0.0</td><td style = \"text-align: right;\">0.0</td><td style = \"text-align: right;\">1.26697e5</td><td style = \"text-align: right;\">0.0</td><td style = \"text-align: right;\">0.0</td><td style = \"text-align: right;\">0.0</td><td style = \"text-align: right;\">0.0</td></tr><tr><td class = \"rowNumber\" style = \"font-weight: bold; text-align: right;\">7</td><td style = \"text-align: left;\">Colombia</td><td style = \"text-align: right;\">0.0</td><td style = \"text-align: right;\">0.0</td><td style = \"text-align: right;\">0.0</td><td style = \"text-align: right;\">0.0</td><td style = \"text-align: right;\">0.0</td><td style = \"text-align: right;\">0.0</td><td style = \"text-align: right;\">0.0</td><td style = \"text-align: right;\">0.0</td><td style = \"text-align: right;\">0.0</td><td style = \"text-align: right;\">0.0</td><td style = \"text-align: right;\">0.0</td><td style = \"text-align: right;\">0.0</td><td style = \"text-align: right;\">0.0</td><td style = \"text-align: right;\">0.0</td><td style = \"text-align: right;\">0.0</td></tr><tr><td class = \"rowNumber\" style = \"font-weight: bold; text-align: right;\">8</td><td style = \"text-align: left;\">Congo</td><td style = \"text-align: right;\">0.0</td><td style = \"text-align: right;\">40058.5</td><td style = \"text-align: right;\">0.0</td><td style = \"text-align: right;\">0.0</td><td style = \"text-align: right;\">0.0</td><td style = \"text-align: right;\">0.0</td><td style = \"text-align: right;\">0.0</td><td style = \"text-align: right;\">0.0</td><td style = \"text-align: right;\">0.0</td><td style = \"text-align: right;\">0.0</td><td style = \"text-align: right;\">0.0</td><td style = \"text-align: right;\">0.0</td><td style = \"text-align: right;\">0.0</td><td style = \"text-align: right;\">0.0</td><td style = \"text-align: right;\">0.0</td></tr><tr><td class = \"rowNumber\" style = \"font-weight: bold; text-align: right;\">9</td><td style = \"text-align: left;\">Finland</td><td style = \"text-align: right;\">0.0</td><td style = \"text-align: right;\">0.0</td><td style = \"text-align: right;\">0.0</td><td style = \"text-align: right;\">0.0</td><td style = \"text-align: right;\">0.0</td><td style = \"text-align: right;\">0.0</td><td style = \"text-align: right;\">0.0</td><td style = \"text-align: right;\">0.0</td><td style = \"text-align: right;\">0.0</td><td style = \"text-align: right;\">0.0</td><td style = \"text-align: right;\">0.0</td><td style = \"text-align: right;\">0.0</td><td style = \"text-align: right;\">0.0</td><td style = \"text-align: right;\">0.0</td><td style = \"text-align: right;\">0.0</td></tr><tr><td class = \"rowNumber\" style = \"font-weight: bold; text-align: right;\">10</td><td style = \"text-align: left;\">France</td><td style = \"text-align: right;\">0.0</td><td style = \"text-align: right;\">0.0</td><td style = \"text-align: right;\">0.0</td><td style = \"text-align: right;\">0.0</td><td style = \"text-align: right;\">0.0</td><td style = \"text-align: right;\">0.0</td><td style = \"text-align: right;\">0.0</td><td style = \"text-align: right;\">0.0</td><td style = \"text-align: right;\">0.0</td><td style = \"text-align: right;\">0.0</td><td style = \"text-align: right;\">0.0</td><td style = \"text-align: right;\">0.0</td><td style = \"text-align: right;\">0.0</td><td style = \"text-align: right;\">0.0</td><td style = \"text-align: right;\">0.0</td></tr><tr><td class = \"rowNumber\" style = \"font-weight: bold; text-align: right;\">11</td><td style = \"text-align: left;\">Germany</td><td style = \"text-align: right;\">0.0</td><td style = \"text-align: right;\">0.0</td><td style = \"text-align: right;\">0.0</td><td style = \"text-align: right;\">0.0</td><td style = \"text-align: right;\">0.0</td><td style = \"text-align: right;\">250.0</td><td style = \"text-align: right;\">0.0</td><td style = \"text-align: right;\">0.0</td><td style = \"text-align: right;\">0.0</td><td style = \"text-align: right;\">0.0</td><td style = \"text-align: right;\">1.87675e5</td><td style = \"text-align: right;\">0.0</td><td style = \"text-align: right;\">0.0</td><td style = \"text-align: right;\">0.0</td><td style = \"text-align: right;\">0.0</td></tr><tr><td class = \"rowNumber\" style = \"font-weight: bold; text-align: right;\">12</td><td style = \"text-align: left;\">India</td><td style = \"text-align: right;\">0.0</td><td style = \"text-align: right;\">0.0</td><td style = \"text-align: right;\">0.0</td><td style = \"text-align: right;\">0.0</td><td style = \"text-align: right;\">0.0</td><td style = \"text-align: right;\">0.0</td><td style = \"text-align: right;\">0.0</td><td style = \"text-align: right;\">0.0</td><td style = \"text-align: right;\">0.0</td><td style = \"text-align: right;\">0.0</td><td style = \"text-align: right;\">0.0</td><td style = \"text-align: right;\">0.0</td><td style = \"text-align: right;\">0.0</td><td style = \"text-align: right;\">0.0</td><td style = \"text-align: right;\">0.0</td></tr><tr><td class = \"rowNumber\" style = \"font-weight: bold; text-align: right;\">13</td><td style = \"text-align: left;\">Indonesia</td><td style = \"text-align: right;\">0.0</td><td style = \"text-align: right;\">9454.0</td><td style = \"text-align: right;\">0.0</td><td style = \"text-align: right;\">0.0</td><td style = \"text-align: right;\">0.0</td><td style = \"text-align: right;\">0.0</td><td style = \"text-align: right;\">0.0</td><td style = \"text-align: right;\">0.0</td><td style = \"text-align: right;\">0.0</td><td style = \"text-align: right;\">0.0</td><td style = \"text-align: right;\">0.0</td><td style = \"text-align: right;\">84.6776</td><td style = \"text-align: right;\">0.0</td><td style = \"text-align: right;\">0.0</td><td style = \"text-align: right;\">0.0</td></tr><tr><td style = \"text-align: right;\">&vellip;</td><td style = \"text-align: right;\">&vellip;</td><td style = \"text-align: right;\">&vellip;</td><td style = \"text-align: right;\">&vellip;</td><td style = \"text-align: right;\">&vellip;</td><td style = \"text-align: right;\">&vellip;</td><td style = \"text-align: right;\">&vellip;</td><td style = \"text-align: right;\">&vellip;</td><td style = \"text-align: right;\">&vellip;</td><td style = \"text-align: right;\">&vellip;</td><td style = \"text-align: right;\">&vellip;</td><td style = \"text-align: right;\">&vellip;</td><td style = \"text-align: right;\">&vellip;</td><td style = \"text-align: right;\">&vellip;</td><td style = \"text-align: right;\">&vellip;</td><td style = \"text-align: right;\">&vellip;</td><td style = \"text-align: right;\">&vellip;</td></tr><tr><td class = \"rowNumber\" style = \"font-weight: bold; text-align: right;\">19</td><td style = \"text-align: left;\">Norway</td><td style = \"text-align: right;\">0.0</td><td style = \"text-align: right;\">0.0</td><td style = \"text-align: right;\">0.0</td><td style = \"text-align: right;\">0.0</td><td style = \"text-align: right;\">0.0</td><td style = \"text-align: right;\">10000.0</td><td style = \"text-align: right;\">0.0</td><td style = \"text-align: right;\">0.0</td><td style = \"text-align: right;\">0.0</td><td style = \"text-align: right;\">0.0</td><td style = \"text-align: right;\">0.0</td><td style = \"text-align: right;\">0.0</td><td style = \"text-align: right;\">0.0</td><td style = \"text-align: right;\">0.0</td><td style = \"text-align: right;\">0.0</td></tr><tr><td class = \"rowNumber\" style = \"font-weight: bold; text-align: right;\">20</td><td style = \"text-align: left;\">Peru</td><td style = \"text-align: right;\">0.0</td><td style = \"text-align: right;\">0.0</td><td style = \"text-align: right;\">0.0</td><td style = \"text-align: right;\">0.0</td><td style = \"text-align: right;\">0.0</td><td style = \"text-align: right;\">0.0</td><td style = \"text-align: right;\">0.0</td><td style = \"text-align: right;\">0.0</td><td style = \"text-align: right;\">0.0</td><td style = \"text-align: right;\">0.0</td><td style = \"text-align: right;\">0.0</td><td style = \"text-align: right;\">0.0</td><td style = \"text-align: right;\">0.0</td><td style = \"text-align: right;\">0.0</td><td style = \"text-align: right;\">0.0</td></tr><tr><td class = \"rowNumber\" style = \"font-weight: bold; text-align: right;\">21</td><td style = \"text-align: left;\">Philippines</td><td style = \"text-align: right;\">0.0</td><td style = \"text-align: right;\">5400.0</td><td style = \"text-align: right;\">0.0</td><td style = \"text-align: right;\">0.0</td><td style = \"text-align: right;\">0.0</td><td style = \"text-align: right;\">0.0</td><td style = \"text-align: right;\">0.0</td><td style = \"text-align: right;\">0.0</td><td style = \"text-align: right;\">0.0</td><td style = \"text-align: right;\">0.0</td><td style = \"text-align: right;\">0.0</td><td style = \"text-align: right;\">0.0</td><td style = \"text-align: right;\">0.0</td><td style = \"text-align: right;\">0.0</td><td style = \"text-align: right;\">0.0</td></tr><tr><td class = \"rowNumber\" style = \"font-weight: bold; text-align: right;\">22</td><td style = \"text-align: left;\">Portugal</td><td style = \"text-align: right;\">0.0</td><td style = \"text-align: right;\">0.0</td><td style = \"text-align: right;\">0.0</td><td style = \"text-align: right;\">0.0</td><td style = \"text-align: right;\">0.0</td><td style = \"text-align: right;\">0.0</td><td style = \"text-align: right;\">0.0</td><td style = \"text-align: right;\">0.0</td><td style = \"text-align: right;\">0.0</td><td style = \"text-align: right;\">0.0</td><td style = \"text-align: right;\">0.0</td><td style = \"text-align: right;\">0.0</td><td style = \"text-align: right;\">0.0</td><td style = \"text-align: right;\">0.0</td><td style = \"text-align: right;\">0.0</td></tr><tr><td class = \"rowNumber\" style = \"font-weight: bold; text-align: right;\">23</td><td style = \"text-align: left;\">Russia</td><td style = \"text-align: right;\">0.0</td><td style = \"text-align: right;\">0.0</td><td style = \"text-align: right;\">0.0</td><td style = \"text-align: right;\">630.755</td><td style = \"text-align: right;\">0.0</td><td style = \"text-align: right;\">0.0</td><td style = \"text-align: right;\">0.0</td><td style = \"text-align: right;\">0.0</td><td style = \"text-align: right;\">0.0</td><td style = \"text-align: right;\">0.0</td><td style = \"text-align: right;\">0.0</td><td style = \"text-align: right;\">0.0</td><td style = \"text-align: right;\">0.0</td><td style = \"text-align: right;\">0.0</td><td style = \"text-align: right;\">0.0</td></tr><tr><td class = \"rowNumber\" style = \"font-weight: bold; text-align: right;\">24</td><td style = \"text-align: left;\">Saudi arabia</td><td style = \"text-align: right;\">0.0</td><td style = \"text-align: right;\">0.0</td><td style = \"text-align: right;\">0.0</td><td style = \"text-align: right;\">0.0</td><td style = \"text-align: right;\">0.0</td><td style = \"text-align: right;\">0.0</td><td style = \"text-align: right;\">0.0</td><td style = \"text-align: right;\">0.0</td><td style = \"text-align: right;\">0.0</td><td style = \"text-align: right;\">0.0</td><td style = \"text-align: right;\">0.0</td><td style = \"text-align: right;\">0.0</td><td style = \"text-align: right;\">0.0</td><td style = \"text-align: right;\">0.0</td><td style = \"text-align: right;\">0.0</td></tr><tr><td class = \"rowNumber\" style = \"font-weight: bold; text-align: right;\">25</td><td style = \"text-align: left;\">South Africa</td><td style = \"text-align: right;\">0.0</td><td style = \"text-align: right;\">0.0</td><td style = \"text-align: right;\">0.0</td><td style = \"text-align: right;\">2149.31</td><td style = \"text-align: right;\">0.0</td><td style = \"text-align: right;\">0.0</td><td style = \"text-align: right;\">0.0</td><td style = \"text-align: right;\">0.0</td><td style = \"text-align: right;\">0.0</td><td style = \"text-align: right;\">0.0</td><td style = \"text-align: right;\">0.0</td><td style = \"text-align: right;\">5.82012</td><td style = \"text-align: right;\">0.0</td><td style = \"text-align: right;\">1164.02</td><td style = \"text-align: right;\">0.0</td></tr><tr><td class = \"rowNumber\" style = \"font-weight: bold; text-align: right;\">26</td><td style = \"text-align: left;\">South korea</td><td style = \"text-align: right;\">0.0</td><td style = \"text-align: right;\">0.0</td><td style = \"text-align: right;\">0.0</td><td style = \"text-align: right;\">0.0</td><td style = \"text-align: right;\">0.0</td><td style = \"text-align: right;\">0.0</td><td style = \"text-align: right;\">0.0</td><td style = \"text-align: right;\">0.0</td><td style = \"text-align: right;\">0.0</td><td style = \"text-align: right;\">0.0</td><td style = \"text-align: right;\">0.0</td><td style = \"text-align: right;\">0.0</td><td style = \"text-align: right;\">0.0</td><td style = \"text-align: right;\">0.0</td><td style = \"text-align: right;\">1164.02</td></tr><tr><td class = \"rowNumber\" style = \"font-weight: bold; text-align: right;\">27</td><td style = \"text-align: left;\">Turkey</td><td style = \"text-align: right;\">0.0</td><td style = \"text-align: right;\">2300.0</td><td style = \"text-align: right;\">0.0</td><td style = \"text-align: right;\">0.0</td><td style = \"text-align: right;\">0.0</td><td style = \"text-align: right;\">2900.0</td><td style = \"text-align: right;\">3002.79</td><td style = \"text-align: right;\">803.187</td><td style = \"text-align: right;\">0.0</td><td style = \"text-align: right;\">0.0</td><td style = \"text-align: right;\">0.0</td><td style = \"text-align: right;\">2168.08</td><td style = \"text-align: right;\">0.0</td><td style = \"text-align: right;\">0.0</td><td style = \"text-align: right;\">0.0</td></tr><tr><td class = \"rowNumber\" style = \"font-weight: bold; text-align: right;\">28</td><td style = \"text-align: left;\">Ukraine</td><td style = \"text-align: right;\">0.0</td><td style = \"text-align: right;\">0.0</td><td style = \"text-align: right;\">2712.51</td><td style = \"text-align: right;\">0.0</td><td style = \"text-align: right;\">0.0</td><td style = \"text-align: right;\">3000.0</td><td style = \"text-align: right;\">0.0</td><td style = \"text-align: right;\">0.0</td><td style = \"text-align: right;\">0.0</td><td style = \"text-align: right;\">0.0</td><td style = \"text-align: right;\">0.0</td><td style = \"text-align: right;\">0.0</td><td style = \"text-align: right;\">0.0</td><td style = \"text-align: right;\">0.0</td><td style = \"text-align: right;\">0.0</td></tr><tr><td class = \"rowNumber\" style = \"font-weight: bold; text-align: right;\">29</td><td style = \"text-align: left;\">United Arab Emirates</td><td style = \"text-align: right;\">0.0</td><td style = \"text-align: right;\">0.0</td><td style = \"text-align: right;\">0.0</td><td style = \"text-align: right;\">0.0</td><td style = \"text-align: right;\">0.0</td><td style = \"text-align: right;\">0.0</td><td style = \"text-align: right;\">0.0</td><td style = \"text-align: right;\">0.0</td><td style = \"text-align: right;\">0.0</td><td style = \"text-align: right;\">0.0</td><td style = \"text-align: right;\">0.0</td><td style = \"text-align: right;\">0.0</td><td style = \"text-align: right;\">0.0</td><td style = \"text-align: right;\">0.0</td><td style = \"text-align: right;\">0.0</td></tr><tr><td class = \"rowNumber\" style = \"font-weight: bold; text-align: right;\">30</td><td style = \"text-align: left;\">United States</td><td style = \"text-align: right;\">900.0</td><td style = \"text-align: right;\">0.0</td><td style = \"text-align: right;\">0.0</td><td style = \"text-align: right;\">14000.0</td><td style = \"text-align: right;\">5196.38</td><td style = \"text-align: right;\">0.0</td><td style = \"text-align: right;\">0.0</td><td style = \"text-align: right;\">506.787</td><td style = \"text-align: right;\">31111.9</td><td style = \"text-align: right;\">60258.8</td><td style = \"text-align: right;\">0.0</td><td style = \"text-align: right;\">0.0</td><td style = \"text-align: right;\">1806.86</td><td style = \"text-align: right;\">4.33616e5</td><td style = \"text-align: right;\">4.33616e5</td></tr></tbody></table></div>"
      ],
      "text/latex": [
       "\\begin{tabular}{r|ccccccccc}\n",
       "\t& country & Li & Co & Mn & Ni & cathode & graphite & PP & \\\\\n",
       "\t\\hline\n",
       "\t& String & Float64 & Float64 & Float64 & Float64 & Float64 & Float64 & Float64 & \\\\\n",
       "\t\\hline\n",
       "\t1 & Argentina & 0.0 & 0.0 & 0.0 & 0.0 & 0.0 & 0.0 & 0.0 & $\\dots$ \\\\\n",
       "\t2 & Australia & 27070.3 & 7000.0 & 0.0 & 52602.7 & 0.0 & 0.0 & 0.0 & $\\dots$ \\\\\n",
       "\t3 & Brazil & 2200.0 & 0.0 & 0.0 & 0.0 & 0.0 & 0.0 & 0.0 & $\\dots$ \\\\\n",
       "\t4 & Canada & 500.0 & 3100.0 & 0.0 & 0.0 & 0.0 & 15000.0 & 0.0 & $\\dots$ \\\\\n",
       "\t5 & Chile & 0.0 & 0.0 & 0.0 & 0.0 & 0.0 & 0.0 & 0.0 & $\\dots$ \\\\\n",
       "\t6 & China & 19000.0 & 2200.0 & 64984.3 & 0.0 & 1.24491e5 & 41226.1 & 2027.15 & $\\dots$ \\\\\n",
       "\t7 & Colombia & 0.0 & 0.0 & 0.0 & 0.0 & 0.0 & 0.0 & 0.0 & $\\dots$ \\\\\n",
       "\t8 & Congo & 0.0 & 40058.5 & 0.0 & 0.0 & 0.0 & 0.0 & 0.0 & $\\dots$ \\\\\n",
       "\t9 & Finland & 0.0 & 0.0 & 0.0 & 0.0 & 0.0 & 0.0 & 0.0 & $\\dots$ \\\\\n",
       "\t10 & France & 0.0 & 0.0 & 0.0 & 0.0 & 0.0 & 0.0 & 0.0 & $\\dots$ \\\\\n",
       "\t11 & Germany & 0.0 & 0.0 & 0.0 & 0.0 & 0.0 & 250.0 & 0.0 & $\\dots$ \\\\\n",
       "\t12 & India & 0.0 & 0.0 & 0.0 & 0.0 & 0.0 & 0.0 & 0.0 & $\\dots$ \\\\\n",
       "\t13 & Indonesia & 0.0 & 9454.0 & 0.0 & 0.0 & 0.0 & 0.0 & 0.0 & $\\dots$ \\\\\n",
       "\t14 & Iran & 0.0 & 0.0 & 0.0 & 0.0 & 0.0 & 0.0 & 0.0 & $\\dots$ \\\\\n",
       "\t15 & Japan & 0.0 & 0.0 & 0.0 & 0.0 & 0.0 & 0.0 & 209.955 & $\\dots$ \\\\\n",
       "\t16 & Kazakhstan & 0.0 & 0.0 & 0.0 & 0.0 & 0.0 & 0.0 & 0.0 & $\\dots$ \\\\\n",
       "\t17 & Malaysia & 0.0 & 0.0 & 0.0 & 0.0 & 0.0 & 0.0 & 0.0 & $\\dots$ \\\\\n",
       "\t18 & Mexico & 0.0 & 0.0 & 0.0 & 0.0 & 0.0 & 0.0 & 0.0 & $\\dots$ \\\\\n",
       "\t19 & Norway & 0.0 & 0.0 & 0.0 & 0.0 & 0.0 & 10000.0 & 0.0 & $\\dots$ \\\\\n",
       "\t20 & Peru & 0.0 & 0.0 & 0.0 & 0.0 & 0.0 & 0.0 & 0.0 & $\\dots$ \\\\\n",
       "\t21 & Philippines & 0.0 & 5400.0 & 0.0 & 0.0 & 0.0 & 0.0 & 0.0 & $\\dots$ \\\\\n",
       "\t22 & Portugal & 0.0 & 0.0 & 0.0 & 0.0 & 0.0 & 0.0 & 0.0 & $\\dots$ \\\\\n",
       "\t23 & Russia & 0.0 & 0.0 & 0.0 & 630.755 & 0.0 & 0.0 & 0.0 & $\\dots$ \\\\\n",
       "\t24 & Saudi arabia & 0.0 & 0.0 & 0.0 & 0.0 & 0.0 & 0.0 & 0.0 & $\\dots$ \\\\\n",
       "\t25 & South Africa & 0.0 & 0.0 & 0.0 & 2149.31 & 0.0 & 0.0 & 0.0 & $\\dots$ \\\\\n",
       "\t26 & South korea & 0.0 & 0.0 & 0.0 & 0.0 & 0.0 & 0.0 & 0.0 & $\\dots$ \\\\\n",
       "\t27 & Turkey & 0.0 & 2300.0 & 0.0 & 0.0 & 0.0 & 2900.0 & 3002.79 & $\\dots$ \\\\\n",
       "\t28 & Ukraine & 0.0 & 0.0 & 2712.51 & 0.0 & 0.0 & 3000.0 & 0.0 & $\\dots$ \\\\\n",
       "\t29 & United Arab Emirates & 0.0 & 0.0 & 0.0 & 0.0 & 0.0 & 0.0 & 0.0 & $\\dots$ \\\\\n",
       "\t30 & United States & 900.0 & 0.0 & 0.0 & 14000.0 & 5196.38 & 0.0 & 0.0 & $\\dots$ \\\\\n",
       "\\end{tabular}\n"
      ],
      "text/plain": [
       "\u001b[1m30×16 DataFrame\u001b[0m\n",
       "\u001b[1m Row \u001b[0m│\u001b[1m country              \u001b[0m\u001b[1m Li      \u001b[0m\u001b[1m Co      \u001b[0m\u001b[1m Mn       \u001b[0m\u001b[1m Ni        \u001b[0m\u001b[1m cathode   \u001b[0m ⋯\n",
       "     │\u001b[90m String               \u001b[0m\u001b[90m Float64 \u001b[0m\u001b[90m Float64 \u001b[0m\u001b[90m Float64  \u001b[0m\u001b[90m Float64   \u001b[0m\u001b[90m Float64   \u001b[0m ⋯\n",
       "─────┼──────────────────────────────────────────────────────────────────────────\n",
       "   1 │ Argentina                 0.0      0.0      0.0       0.0       0.0     ⋯\n",
       "   2 │ Australia             27070.3   7000.0      0.0   52602.7       0.0\n",
       "   3 │ Brazil                 2200.0      0.0      0.0       0.0       0.0\n",
       "   4 │ Canada                  500.0   3100.0      0.0       0.0       0.0\n",
       "   5 │ Chile                     0.0      0.0      0.0       0.0       0.0     ⋯\n",
       "   6 │ China                 19000.0   2200.0  64984.3       0.0       1.24491\n",
       "   7 │ Colombia                  0.0      0.0      0.0       0.0       0.0\n",
       "   8 │ Congo                     0.0  40058.5      0.0       0.0       0.0\n",
       "   9 │ Finland                   0.0      0.0      0.0       0.0       0.0     ⋯\n",
       "  10 │ France                    0.0      0.0      0.0       0.0       0.0\n",
       "  11 │ Germany                   0.0      0.0      0.0       0.0       0.0\n",
       "  ⋮  │          ⋮               ⋮        ⋮        ⋮          ⋮           ⋮     ⋱\n",
       "  21 │ Philippines               0.0   5400.0      0.0       0.0       0.0\n",
       "  22 │ Portugal                  0.0      0.0      0.0       0.0       0.0     ⋯\n",
       "  23 │ Russia                    0.0      0.0      0.0     630.755     0.0\n",
       "  24 │ Saudi arabia              0.0      0.0      0.0       0.0       0.0\n",
       "  25 │ South Africa              0.0      0.0      0.0    2149.31      0.0\n",
       "  26 │ South korea               0.0      0.0      0.0       0.0       0.0     ⋯\n",
       "  27 │ Turkey                    0.0   2300.0      0.0       0.0       0.0\n",
       "  28 │ Ukraine                   0.0      0.0   2712.51      0.0       0.0\n",
       "  29 │ United Arab Emirates      0.0      0.0      0.0       0.0       0.0\n",
       "  30 │ United States           900.0      0.0      0.0   14000.0    5196.38    ⋯\n",
       "\u001b[36m                                                   11 columns and 9 rows omitted\u001b[0m"
      ]
     },
     "execution_count": 35,
     "metadata": {},
     "output_type": "execute_result"
    }
   ],
   "source": [
    "res_x1 = DataFrame(soc_opt_x, :auto)\n",
    "rename!(res_x1, [\"x$i\" => proc for (i, proc) in enumerate(process)])\n",
    "insertcols!(res_x1, 1, :country => countries)"
   ]
  },
  {
   "cell_type": "markdown",
   "id": "78b9bbfa",
   "metadata": {},
   "source": [
    "---"
   ]
  },
  {
   "cell_type": "code",
   "execution_count": 52,
   "id": "73546005",
   "metadata": {},
   "outputs": [],
   "source": [
    "x = soc_opt_x\n",
    "y = soc_opt_y\n",
    "\n",
    "proM = x * price\n",
    "proD = (x .* Matrix(regional_EF[:,2:end])) * ones(nproc,1);"
   ]
  },
  {
   "cell_type": "code",
   "execution_count": 53,
   "id": "5056e986",
   "metadata": {},
   "outputs": [],
   "source": [
    "Temi = 0\n",
    "transD = zeros(ncty)\n",
    "for i in 1:ncty\n",
    "    for j in 1:ncty\n",
    "        amount = sum(y[i,j,k] for k in 1:nproc)\n",
    "        Temi += amount * distance[!, 2:end][i,j] * EF_trans\n",
    "    end\n",
    "    transD[i] = Temi\n",
    "end"
   ]
  },
  {
   "cell_type": "code",
   "execution_count": 57,
   "id": "bdbfc577",
   "metadata": {},
   "outputs": [
    {
     "data": {
      "text/plain": [
       "30×1 Matrix{Float64}:\n",
       "      0.0\n",
       " 910153.6449839171\n",
       " 125951.2720811022\n",
       " 284551.5318529858\n",
       " 141407.65611898582\n",
       "      1.651349129658829e6\n",
       " 281840.769904681\n",
       " 355550.2140576629\n",
       " 319627.1272416556\n",
       " 319627.1272416556\n",
       " 729375.7771845789\n",
       " 447681.3618252471\n",
       " 846790.597545041\n",
       "      ⋮\n",
       " 487921.6959178431\n",
       " 477586.8166031492\n",
       " 700366.7350762138\n",
       " 482154.8710357976\n",
       "     -4.190951585769653e-9\n",
       " 482878.6366207367\n",
       " 503092.36204016063\n",
       "      2.584420144557953e-8\n",
       " 617374.4056480951\n",
       " 515516.5037344623\n",
       " 509386.336618255\n",
       "      5.957894574953974e6"
      ]
     },
     "execution_count": 57,
     "metadata": {},
     "output_type": "execute_result"
    }
   ],
   "source": [
    "Allo_soc = proM ./ vGDP .* Dsoc\n",
    "SJ = proD + transD - Allo_soc"
   ]
  },
  {
   "cell_type": "code",
   "execution_count": 58,
   "id": "cc24d9ff",
   "metadata": {},
   "outputs": [
    {
     "data": {
      "text/plain": [
       "30-element Vector{Float64}:\n",
       "      0.0\n",
       "  51701.07816534087\n",
       "   3509.3333333333335\n",
       "   3257.0875\n",
       "      0.0\n",
       " 199606.18049824663\n",
       "      0.0\n",
       " 982987.1487869086\n",
       "      0.0\n",
       "      0.0\n",
       "  47485.49365767402\n",
       "      0.0\n",
       "  55904.28349400981\n",
       "      ⋮\n",
       "   1208.1632653061224\n",
       "      0.0\n",
       "  51210.91370558376\n",
       "      0.0\n",
       " 487872.24363836367\n",
       "      0.0\n",
       "   4702.007299112442\n",
       " 498112.5850579066\n",
       "   8307.730922762485\n",
       "   5255.863038624435\n",
       "      0.0\n",
       "  74128.85978872619"
      ]
     },
     "execution_count": 58,
     "metadata": {},
     "output_type": "execute_result"
    }
   ],
   "source": [
    "Allo_soc"
   ]
  },
  {
   "cell_type": "code",
   "execution_count": 56,
   "id": "c00da507",
   "metadata": {},
   "outputs": [
    {
     "data": {
      "text/plain": [
       "30×1 Matrix{Float64}:\n",
       "      0.0\n",
       " 961854.723149258\n",
       " 129460.60541443553\n",
       " 287808.6193529858\n",
       " 141407.65611898582\n",
       "      1.8509553101570755e6\n",
       " 281840.769904681\n",
       "      1.3385373628445715e6\n",
       " 319627.1272416556\n",
       " 319627.1272416556\n",
       " 776861.270842253\n",
       " 447681.3618252471\n",
       " 902694.8810390509\n",
       "      ⋮\n",
       " 489129.8591831492\n",
       " 477586.8166031492\n",
       " 751577.6487817976\n",
       " 482154.8710357976\n",
       " 487872.2436383595\n",
       " 482878.6366207367\n",
       " 507794.3693392731\n",
       " 498112.5850579324\n",
       " 625682.1365708576\n",
       " 520772.3667730868\n",
       " 509386.336618255\n",
       "      6.0320234347427e6"
      ]
     },
     "execution_count": 56,
     "metadata": {},
     "output_type": "execute_result"
    }
   ],
   "source": [
    "proD + transD"
   ]
  },
  {
   "cell_type": "markdown",
   "id": "14b18205",
   "metadata": {},
   "source": [
    "---"
   ]
  },
  {
   "cell_type": "code",
   "execution_count": 59,
   "id": "36292d1f",
   "metadata": {},
   "outputs": [],
   "source": [
    "x = eco_opt_x\n",
    "y = eco_opt_y\n",
    "\n",
    "proM = x * price\n",
    "proD = (x .* Matrix(regional_EF[:,2:end])) * ones(nproc,1);"
   ]
  },
  {
   "cell_type": "code",
   "execution_count": 60,
   "id": "3ac6620e",
   "metadata": {},
   "outputs": [],
   "source": [
    "Temi = 0\n",
    "transD = zeros(ncty)\n",
    "for i in 1:ncty\n",
    "    for j in 1:ncty\n",
    "        amount = sum(y[i,j,k] for k in 1:nproc)\n",
    "        Temi += amount * distance[!, 2:end][i,j] * EF_trans\n",
    "    end\n",
    "    transD[i] = Temi\n",
    "end"
   ]
  },
  {
   "cell_type": "code",
   "execution_count": 61,
   "id": "19a6f826",
   "metadata": {},
   "outputs": [
    {
     "data": {
      "text/plain": [
       "30×1 Matrix{Float64}:\n",
       "  12249.89770251516\n",
       "  10831.46637444981\n",
       "      1.360414045285675e6\n",
       " 387971.58758949925\n",
       " 471435.56397703465\n",
       " 418912.37701001577\n",
       " 437934.8032415897\n",
       " 550665.0056908114\n",
       " 488328.56410553586\n",
       "      1.263290426000863e6\n",
       " 562918.7425255524\n",
       " 562918.7425255524\n",
       " 562918.7425255524\n",
       "      ⋮\n",
       "      1.6042957361167995e6\n",
       " 596353.0916748741\n",
       " 596353.0916748741\n",
       " 596353.0916748741\n",
       " 596353.0916748741\n",
       " 596353.0916748741\n",
       " 596353.0916748741\n",
       " 596353.0916748741\n",
       " 596353.0916748741\n",
       " 596353.0916748741\n",
       " 596353.0916748741\n",
       "      4.305712016229422e6"
      ]
     },
     "execution_count": 61,
     "metadata": {},
     "output_type": "execute_result"
    }
   ],
   "source": [
    "Allo_soc = proM ./ vGDP .* Dsoc\n",
    "SJ = proD + transD - Allo_soc"
   ]
  },
  {
   "cell_type": "code",
   "execution_count": 62,
   "id": "75331f47",
   "metadata": {},
   "outputs": [
    {
     "data": {
      "text/plain": [
       "30×1 Matrix{Float64}:\n",
       "  14332.098355400001\n",
       "   4241.819389442393\n",
       "      1.1668228177919958e6\n",
       "   1079.0168019999999\n",
       "  94894.164885\n",
       "      0.0\n",
       "  19369.000447168724\n",
       "      1.768089660769296e6\n",
       "      0.0\n",
       " 705170.1189552587\n",
       "      0.0\n",
       "      0.0\n",
       "      0.0\n",
       "      ⋮\n",
       "      1.0087205389866378e6\n",
       "      0.0\n",
       "      0.0\n",
       "      0.0\n",
       "      0.0\n",
       "      0.0\n",
       "      0.0\n",
       "      0.0\n",
       "      0.0\n",
       "      0.0\n",
       "      0.0\n",
       "      3.8216620109956027e6"
      ]
     },
     "execution_count": 62,
     "metadata": {},
     "output_type": "execute_result"
    }
   ],
   "source": [
    "proD"
   ]
  },
  {
   "cell_type": "code",
   "execution_count": 63,
   "id": "cb5d251f",
   "metadata": {},
   "outputs": [
    {
     "data": {
      "text/plain": [
       "30-element Vector{Float64}:\n",
       "   5811.023166417006\n",
       "   7946.489829266522\n",
       " 386535.92881216\n",
       " 387007.57078749925\n",
       " 418912.37701001577\n",
       " 418912.37701001577\n",
       " 421317.4245060412\n",
       " 488328.56410553586\n",
       " 488328.56410553586\n",
       " 562918.7425255524\n",
       " 562918.7425255524\n",
       " 562918.7425255524\n",
       " 562918.7425255524\n",
       "      ⋮\n",
       " 596353.0916748741\n",
       " 596353.0916748741\n",
       " 596353.0916748741\n",
       " 596353.0916748741\n",
       " 596353.0916748741\n",
       " 596353.0916748741\n",
       " 596353.0916748741\n",
       " 596353.0916748741\n",
       " 596353.0916748741\n",
       " 596353.0916748741\n",
       " 596353.0916748741\n",
       " 597368.880067673"
      ]
     },
     "execution_count": 63,
     "metadata": {},
     "output_type": "execute_result"
    }
   ],
   "source": [
    "transD"
   ]
  },
  {
   "cell_type": "code",
   "execution_count": 64,
   "id": "0043aac3",
   "metadata": {},
   "outputs": [
    {
     "data": {
      "text/plain": [
       "30-element Vector{Float64}:\n",
       "   7893.2238193018475\n",
       "   1356.8428442591055\n",
       " 192944.70131848083\n",
       "    115.00000000000001\n",
       "  42370.97791798107\n",
       "      0.0\n",
       "   2751.6217116202615\n",
       "      1.7057532191840203e6\n",
       "      0.0\n",
       "   4798.435479948\n",
       "      0.0\n",
       "      0.0\n",
       "      0.0\n",
       "      ⋮\n",
       "    777.8945447121802\n",
       "      0.0\n",
       "      0.0\n",
       "      0.0\n",
       "      0.0\n",
       "      0.0\n",
       "      0.0\n",
       "      0.0\n",
       "      0.0\n",
       "      0.0\n",
       "      0.0\n",
       " 113318.87483385408"
      ]
     },
     "execution_count": 64,
     "metadata": {},
     "output_type": "execute_result"
    }
   ],
   "source": [
    "Allo_soc"
   ]
  },
  {
   "cell_type": "code",
   "execution_count": 65,
   "id": "21c3aa7c",
   "metadata": {},
   "outputs": [
    {
     "data": {
      "text/plain": [
       "30"
      ]
     },
     "execution_count": 65,
     "metadata": {},
     "output_type": "execute_result"
    }
   ],
   "source": [
    "res = 0\n",
    "for i in SJ\n",
    "    if i > 0\n",
    "        res += 1\n",
    "    end\n",
    "end\n",
    "res"
   ]
  },
  {
   "cell_type": "code",
   "execution_count": null,
   "id": "811c7411",
   "metadata": {},
   "outputs": [],
   "source": []
  },
  {
   "cell_type": "code",
   "execution_count": null,
   "id": "ebf6c703",
   "metadata": {},
   "outputs": [],
   "source": []
  },
  {
   "cell_type": "code",
   "execution_count": null,
   "id": "607048d7",
   "metadata": {},
   "outputs": [],
   "source": []
  },
  {
   "cell_type": "code",
   "execution_count": null,
   "id": "4a3fa75f",
   "metadata": {},
   "outputs": [],
   "source": []
  },
  {
   "cell_type": "markdown",
   "id": "7865290b",
   "metadata": {},
   "source": [
    "----"
   ]
  },
  {
   "cell_type": "code",
   "execution_count": 23,
   "id": "2be6cd64",
   "metadata": {},
   "outputs": [],
   "source": [
    "Pemi = 0\n",
    "Pincome = 0\n",
    "proD = zeros(ncty)\n",
    "proM = zeros(ncty)\n",
    "\n",
    "for i in 1:ncty\n",
    "    for k in 1:nproc\n",
    "        Pemi += regional_EF[i,k+1] * eco_opt_x[i,k]\n",
    "        Pincome += eco_opt_x[i,k] * price[k]\n",
    "    end\n",
    "    proD[i] = Pemi\n",
    "    proM[i] = Pincome\n",
    "end\n",
    "\n",
    "\n",
    "Temi = 0\n",
    "transD = zeros(ncty)\n",
    "for i in 1:ncty\n",
    "    for j in 1:ncty\n",
    "        amount = sum(eco_opt_y[i,j,k] for k in 1:nproc)\n",
    "        Temi += amount * distance[!, 2:end][i,j] * EF_trans\n",
    "    end\n",
    "    transD[i] = Temi\n",
    "end\n",
    "\n",
    "\n",
    "Allo_soc = proM ./ vGDP .* Dsoc\n",
    "SJ = proD + transD - Allo_soc;"
   ]
  },
  {
   "cell_type": "code",
   "execution_count": 24,
   "id": "1e7bc661",
   "metadata": {},
   "outputs": [
    {
     "data": {
      "text/plain": [
       "30-element Vector{Float64}:\n",
       "   10801.291614319034\n",
       "   13571.05143779559\n",
       "       1.3106331276684415e6\n",
       "       1.4780397219171538e6\n",
       "       1.4579167158176373e6\n",
       "       1.4272335338028525e6\n",
       "       1.2632978436497967e6\n",
       " -233003.07915137708\n",
       "       3.280734729728704e6\n",
       "       4.0529733835754534e6\n",
       "       3.999725058056325e6\n",
       "       1.435536447138235e6\n",
       "       3.1787686264777295e6\n",
       "       ⋮\n",
       "       5.028746675761017e6\n",
       "       4.429629329349933e6\n",
       "       3.5877286999672274e6\n",
       "       4.848118868297874e6\n",
       "      -4.8381510422571546e8\n",
       "      -2.0867579322034222e8\n",
       "       3.8422842560176086e6\n",
       "      -2.2758896767349344e8\n",
       "       4.679912494392403e6\n",
       "       4.0622126720368783e6\n",
       "       4.964877577167747e6\n",
       "       8.55811088018545e6"
      ]
     },
     "execution_count": 24,
     "metadata": {},
     "output_type": "execute_result"
    }
   ],
   "source": [
    "SJ"
   ]
  },
  {
   "cell_type": "code",
   "execution_count": 25,
   "id": "fbab037a",
   "metadata": {},
   "outputs": [
    {
     "data": {
      "text/plain": [
       "26"
      ]
     },
     "execution_count": 25,
     "metadata": {},
     "output_type": "execute_result"
    }
   ],
   "source": [
    "res = 0\n",
    "for i in SJ\n",
    "    if i > 0\n",
    "        res += 1\n",
    "    end\n",
    "end\n",
    "res"
   ]
  },
  {
   "cell_type": "markdown",
   "id": "5d4c068e",
   "metadata": {},
   "source": [
    "---"
   ]
  },
  {
   "cell_type": "code",
   "execution_count": 62,
   "id": "fcb653cb",
   "metadata": {},
   "outputs": [],
   "source": [
    "val_x = zeros(ncty, nproc)\n",
    "for k in 1:nproc\n",
    "    for i in 1:ncty\n",
    "        val_x[i,k] = regional_EF[i, k+1] * (1 - sink_c[i]/emission_c[i] - es_ratio)\n",
    "    end\n",
    "end\n",
    "\n",
    "proc_emi = sum(soc_opt_x .* val_x);\n",
    "\n",
    "\n",
    "trans_emi = 0\n",
    "for i in 1:ncty\n",
    "    for j in 1:ncty\n",
    "        amount = sum(soc_opt_y[i,j,k] for k in 1:nproc)\n",
    "        arc_emi = amount * distance[!, 2:end][i,j] * EF_trans\n",
    "        arc_seq = arc_emi * (sink_c[j]/emission_c[j] + es_ratio)\n",
    "        arc_net = arc_emi - arc_seq\n",
    "        trans_emi += arc_net\n",
    "    end\n",
    "end"
   ]
  },
  {
   "cell_type": "code",
   "execution_count": 63,
   "id": "2dd7324c",
   "metadata": {},
   "outputs": [
    {
     "data": {
      "text/plain": [
       "1.6255174248869906e6"
      ]
     },
     "execution_count": 63,
     "metadata": {},
     "output_type": "execute_result"
    }
   ],
   "source": [
    "proc_emi+trans_emi"
   ]
  },
  {
   "cell_type": "code",
   "execution_count": 69,
   "id": "e4c1e2c1",
   "metadata": {},
   "outputs": [
    {
     "data": {
      "image/svg+xml": [
       "<?xml version=\"1.0\" encoding=\"utf-8\"?>\n",
       "<svg xmlns=\"http://www.w3.org/2000/svg\" xmlns:xlink=\"http://www.w3.org/1999/xlink\" width=\"600\" height=\"400\" viewBox=\"0 0 2400 1600\">\n",
       "<defs>\n",
       "  <clipPath id=\"clip930\">\n",
       "    <rect x=\"0\" y=\"0\" width=\"2400\" height=\"1600\"/>\n",
       "  </clipPath>\n",
       "</defs>\n",
       "<path clip-path=\"url(#clip930)\" d=\"\n",
       "M0 1600 L2400 1600 L2400 0 L0 0  Z\n",
       "  \" fill=\"#ffffff\" fill-rule=\"evenodd\" fill-opacity=\"1\"/>\n",
       "<defs>\n",
       "  <clipPath id=\"clip931\">\n",
       "    <rect x=\"480\" y=\"0\" width=\"1681\" height=\"1600\"/>\n",
       "  </clipPath>\n",
       "</defs>\n",
       "<path clip-path=\"url(#clip930)\" d=\"\n",
       "M174.149 1423.18 L2352.76 1423.18 L2352.76 123.472 L174.149 123.472  Z\n",
       "  \" fill=\"#ffffff\" fill-rule=\"evenodd\" fill-opacity=\"1\"/>\n",
       "<defs>\n",
       "  <clipPath id=\"clip932\">\n",
       "    <rect x=\"174\" y=\"123\" width=\"2180\" height=\"1301\"/>\n",
       "  </clipPath>\n",
       "</defs>\n",
       "<polyline clip-path=\"url(#clip932)\" style=\"stroke:#000000; stroke-linecap:round; stroke-linejoin:round; stroke-width:2; stroke-opacity:0.1; fill:none\" points=\"\n",
       "  174.149,1423.18 174.149,123.472 \n",
       "  \"/>\n",
       "<polyline clip-path=\"url(#clip932)\" style=\"stroke:#000000; stroke-linecap:round; stroke-linejoin:round; stroke-width:2; stroke-opacity:0.1; fill:none\" points=\"\n",
       "  509.319,1423.18 509.319,123.472 \n",
       "  \"/>\n",
       "<polyline clip-path=\"url(#clip932)\" style=\"stroke:#000000; stroke-linecap:round; stroke-linejoin:round; stroke-width:2; stroke-opacity:0.1; fill:none\" points=\"\n",
       "  844.49,1423.18 844.49,123.472 \n",
       "  \"/>\n",
       "<polyline clip-path=\"url(#clip932)\" style=\"stroke:#000000; stroke-linecap:round; stroke-linejoin:round; stroke-width:2; stroke-opacity:0.1; fill:none\" points=\"\n",
       "  1179.66,1423.18 1179.66,123.472 \n",
       "  \"/>\n",
       "<polyline clip-path=\"url(#clip932)\" style=\"stroke:#000000; stroke-linecap:round; stroke-linejoin:round; stroke-width:2; stroke-opacity:0.1; fill:none\" points=\"\n",
       "  1514.83,1423.18 1514.83,123.472 \n",
       "  \"/>\n",
       "<polyline clip-path=\"url(#clip932)\" style=\"stroke:#000000; stroke-linecap:round; stroke-linejoin:round; stroke-width:2; stroke-opacity:0.1; fill:none\" points=\"\n",
       "  1850,1423.18 1850,123.472 \n",
       "  \"/>\n",
       "<polyline clip-path=\"url(#clip932)\" style=\"stroke:#000000; stroke-linecap:round; stroke-linejoin:round; stroke-width:2; stroke-opacity:0.1; fill:none\" points=\"\n",
       "  2185.17,1423.18 2185.17,123.472 \n",
       "  \"/>\n",
       "<polyline clip-path=\"url(#clip930)\" style=\"stroke:#000000; stroke-linecap:round; stroke-linejoin:round; stroke-width:4; stroke-opacity:1; fill:none\" points=\"\n",
       "  174.149,1423.18 2352.76,1423.18 \n",
       "  \"/>\n",
       "<polyline clip-path=\"url(#clip930)\" style=\"stroke:#000000; stroke-linecap:round; stroke-linejoin:round; stroke-width:4; stroke-opacity:1; fill:none\" points=\"\n",
       "  174.149,1423.18 174.149,1404.28 \n",
       "  \"/>\n",
       "<polyline clip-path=\"url(#clip930)\" style=\"stroke:#000000; stroke-linecap:round; stroke-linejoin:round; stroke-width:4; stroke-opacity:1; fill:none\" points=\"\n",
       "  509.319,1423.18 509.319,1404.28 \n",
       "  \"/>\n",
       "<polyline clip-path=\"url(#clip930)\" style=\"stroke:#000000; stroke-linecap:round; stroke-linejoin:round; stroke-width:4; stroke-opacity:1; fill:none\" points=\"\n",
       "  844.49,1423.18 844.49,1404.28 \n",
       "  \"/>\n",
       "<polyline clip-path=\"url(#clip930)\" style=\"stroke:#000000; stroke-linecap:round; stroke-linejoin:round; stroke-width:4; stroke-opacity:1; fill:none\" points=\"\n",
       "  1179.66,1423.18 1179.66,1404.28 \n",
       "  \"/>\n",
       "<polyline clip-path=\"url(#clip930)\" style=\"stroke:#000000; stroke-linecap:round; stroke-linejoin:round; stroke-width:4; stroke-opacity:1; fill:none\" points=\"\n",
       "  1514.83,1423.18 1514.83,1404.28 \n",
       "  \"/>\n",
       "<polyline clip-path=\"url(#clip930)\" style=\"stroke:#000000; stroke-linecap:round; stroke-linejoin:round; stroke-width:4; stroke-opacity:1; fill:none\" points=\"\n",
       "  1850,1423.18 1850,1404.28 \n",
       "  \"/>\n",
       "<polyline clip-path=\"url(#clip930)\" style=\"stroke:#000000; stroke-linecap:round; stroke-linejoin:round; stroke-width:4; stroke-opacity:1; fill:none\" points=\"\n",
       "  2185.17,1423.18 2185.17,1404.28 \n",
       "  \"/>\n",
       "<path clip-path=\"url(#clip930)\" d=\"M128.212 1468.75 L157.887 1468.75 L157.887 1472.69 L128.212 1472.69 L128.212 1468.75 Z\" fill=\"#000000\" fill-rule=\"evenodd\" fill-opacity=\"1\" /><path clip-path=\"url(#clip930)\" d=\"M168.79 1481.64 L176.429 1481.64 L176.429 1455.28 L168.119 1456.95 L168.119 1452.69 L176.383 1451.02 L181.059 1451.02 L181.059 1481.64 L188.697 1481.64 L188.697 1485.58 L168.79 1485.58 L168.79 1481.64 Z\" fill=\"#000000\" fill-rule=\"evenodd\" fill-opacity=\"1\" /><path clip-path=\"url(#clip930)\" d=\"M208.142 1454.1 Q204.531 1454.1 202.702 1457.66 Q200.896 1461.2 200.896 1468.33 Q200.896 1475.44 202.702 1479.01 Q204.531 1482.55 208.142 1482.55 Q211.776 1482.55 213.582 1479.01 Q215.41 1475.44 215.41 1468.33 Q215.41 1461.2 213.582 1457.66 Q211.776 1454.1 208.142 1454.1 M208.142 1450.39 Q213.952 1450.39 217.007 1455 Q220.086 1459.58 220.086 1468.33 Q220.086 1477.06 217.007 1481.67 Q213.952 1486.25 208.142 1486.25 Q202.332 1486.25 199.253 1481.67 Q196.197 1477.06 196.197 1468.33 Q196.197 1459.58 199.253 1455 Q202.332 1450.39 208.142 1450.39 Z\" fill=\"#000000\" fill-rule=\"evenodd\" fill-opacity=\"1\" /><path clip-path=\"url(#clip930)\" d=\"M478.509 1468.75 L508.185 1468.75 L508.185 1472.69 L478.509 1472.69 L478.509 1468.75 Z\" fill=\"#000000\" fill-rule=\"evenodd\" fill-opacity=\"1\" /><path clip-path=\"url(#clip930)\" d=\"M528.277 1469.17 Q524.944 1469.17 523.023 1470.95 Q521.125 1472.73 521.125 1475.86 Q521.125 1478.98 523.023 1480.77 Q524.944 1482.55 528.277 1482.55 Q531.611 1482.55 533.532 1480.77 Q535.453 1478.96 535.453 1475.86 Q535.453 1472.73 533.532 1470.95 Q531.634 1469.17 528.277 1469.17 M523.602 1467.18 Q520.592 1466.44 518.903 1464.38 Q517.236 1462.32 517.236 1459.35 Q517.236 1455.21 520.176 1452.8 Q523.139 1450.39 528.277 1450.39 Q533.439 1450.39 536.379 1452.8 Q539.319 1455.21 539.319 1459.35 Q539.319 1462.32 537.629 1464.38 Q535.963 1466.44 532.977 1467.18 Q536.356 1467.96 538.231 1470.26 Q540.129 1472.55 540.129 1475.86 Q540.129 1480.88 537.051 1483.57 Q533.995 1486.25 528.277 1486.25 Q522.56 1486.25 519.481 1483.57 Q516.426 1480.88 516.426 1475.86 Q516.426 1472.55 518.324 1470.26 Q520.222 1467.96 523.602 1467.18 M521.889 1459.79 Q521.889 1462.48 523.555 1463.98 Q525.245 1465.49 528.277 1465.49 Q531.287 1465.49 532.977 1463.98 Q534.689 1462.48 534.689 1459.79 Q534.689 1457.11 532.977 1455.6 Q531.287 1454.1 528.277 1454.1 Q525.245 1454.1 523.555 1455.6 Q521.889 1457.11 521.889 1459.79 Z\" fill=\"#000000\" fill-rule=\"evenodd\" fill-opacity=\"1\" /><path clip-path=\"url(#clip930)\" d=\"M813.552 1468.75 L843.228 1468.75 L843.228 1472.69 L813.552 1472.69 L813.552 1468.75 Z\" fill=\"#000000\" fill-rule=\"evenodd\" fill-opacity=\"1\" /><path clip-path=\"url(#clip930)\" d=\"M863.899 1466.44 Q860.751 1466.44 858.899 1468.59 Q857.07 1470.74 857.07 1474.49 Q857.07 1478.22 858.899 1480.39 Q860.751 1482.55 863.899 1482.55 Q867.047 1482.55 868.876 1480.39 Q870.728 1478.22 870.728 1474.49 Q870.728 1470.74 868.876 1468.59 Q867.047 1466.44 863.899 1466.44 M873.182 1451.78 L873.182 1456.04 Q871.422 1455.21 869.617 1454.77 Q867.834 1454.33 866.075 1454.33 Q861.445 1454.33 858.992 1457.45 Q856.561 1460.58 856.214 1466.9 Q857.58 1464.89 859.64 1463.82 Q861.7 1462.73 864.177 1462.73 Q869.385 1462.73 872.394 1465.9 Q875.427 1469.05 875.427 1474.49 Q875.427 1479.82 872.279 1483.03 Q869.131 1486.25 863.899 1486.25 Q857.904 1486.25 854.733 1481.67 Q851.561 1477.06 851.561 1468.33 Q851.561 1460.14 855.45 1455.28 Q859.339 1450.39 865.89 1450.39 Q867.649 1450.39 869.432 1450.74 Q871.237 1451.09 873.182 1451.78 Z\" fill=\"#000000\" fill-rule=\"evenodd\" fill-opacity=\"1\" /><path clip-path=\"url(#clip930)\" d=\"M1148.56 1468.75 L1178.24 1468.75 L1178.24 1472.69 L1148.56 1472.69 L1148.56 1468.75 Z\" fill=\"#000000\" fill-rule=\"evenodd\" fill-opacity=\"1\" /><path clip-path=\"url(#clip930)\" d=\"M1201.18 1455.09 L1189.37 1473.54 L1201.18 1473.54 L1201.18 1455.09 M1199.95 1451.02 L1205.83 1451.02 L1205.83 1473.54 L1210.76 1473.54 L1210.76 1477.43 L1205.83 1477.43 L1205.83 1485.58 L1201.18 1485.58 L1201.18 1477.43 L1185.57 1477.43 L1185.57 1472.92 L1199.95 1451.02 Z\" fill=\"#000000\" fill-rule=\"evenodd\" fill-opacity=\"1\" /><path clip-path=\"url(#clip930)\" d=\"M1484.77 1468.75 L1514.45 1468.75 L1514.45 1472.69 L1484.77 1472.69 L1484.77 1468.75 Z\" fill=\"#000000\" fill-rule=\"evenodd\" fill-opacity=\"1\" /><path clip-path=\"url(#clip930)\" d=\"M1528.57 1481.64 L1544.89 1481.64 L1544.89 1485.58 L1522.94 1485.58 L1522.94 1481.64 Q1525.61 1478.89 1530.19 1474.26 Q1534.8 1469.61 1535.98 1468.27 Q1538.22 1465.74 1539.1 1464.01 Q1540 1462.25 1540 1460.56 Q1540 1457.8 1538.06 1456.07 Q1536.14 1454.33 1533.04 1454.33 Q1530.84 1454.33 1528.38 1455.09 Q1525.95 1455.86 1523.18 1457.41 L1523.18 1452.69 Q1526 1451.55 1528.45 1450.97 Q1530.91 1450.39 1532.94 1450.39 Q1538.31 1450.39 1541.51 1453.08 Q1544.7 1455.77 1544.7 1460.26 Q1544.7 1462.39 1543.89 1464.31 Q1543.11 1466.2 1541 1468.8 Q1540.42 1469.47 1537.32 1472.69 Q1534.22 1475.88 1528.57 1481.64 Z\" fill=\"#000000\" fill-rule=\"evenodd\" fill-opacity=\"1\" /><path clip-path=\"url(#clip930)\" d=\"M1850 1454.1 Q1846.39 1454.1 1844.56 1457.66 Q1842.76 1461.2 1842.76 1468.33 Q1842.76 1475.44 1844.56 1479.01 Q1846.39 1482.55 1850 1482.55 Q1853.63 1482.55 1855.44 1479.01 Q1857.27 1475.44 1857.27 1468.33 Q1857.27 1461.2 1855.44 1457.66 Q1853.63 1454.1 1850 1454.1 M1850 1450.39 Q1855.81 1450.39 1858.87 1455 Q1861.94 1459.58 1861.94 1468.33 Q1861.94 1477.06 1858.87 1481.67 Q1855.81 1486.25 1850 1486.25 Q1844.19 1486.25 1841.11 1481.67 Q1838.06 1477.06 1838.06 1468.33 Q1838.06 1459.58 1841.11 1455 Q1844.19 1450.39 1850 1450.39 Z\" fill=\"#000000\" fill-rule=\"evenodd\" fill-opacity=\"1\" /><path clip-path=\"url(#clip930)\" d=\"M2179.82 1481.64 L2196.14 1481.64 L2196.14 1485.58 L2174.2 1485.58 L2174.2 1481.64 Q2176.86 1478.89 2181.44 1474.26 Q2186.05 1469.61 2187.23 1468.27 Q2189.48 1465.74 2190.36 1464.01 Q2191.26 1462.25 2191.26 1460.56 Q2191.26 1457.8 2189.31 1456.07 Q2187.39 1454.33 2184.29 1454.33 Q2182.09 1454.33 2179.64 1455.09 Q2177.21 1455.86 2174.43 1457.41 L2174.43 1452.69 Q2177.25 1451.55 2179.71 1450.97 Q2182.16 1450.39 2184.2 1450.39 Q2189.57 1450.39 2192.76 1453.08 Q2195.96 1455.77 2195.96 1460.26 Q2195.96 1462.39 2195.15 1464.31 Q2194.36 1466.2 2192.25 1468.8 Q2191.68 1469.47 2188.57 1472.69 Q2185.47 1475.88 2179.82 1481.64 Z\" fill=\"#000000\" fill-rule=\"evenodd\" fill-opacity=\"1\" /><path clip-path=\"url(#clip930)\" d=\"M993.355 1520.52 L1023.4 1520.52 L1023.4 1525.93 L999.785 1525.93 L999.785 1540 L1022.41 1540 L1022.41 1545.41 L999.785 1545.41 L999.785 1562.63 L1023.97 1562.63 L1023.97 1568.04 L993.355 1568.04 L993.355 1520.52 Z\" fill=\"#000000\" fill-rule=\"evenodd\" fill-opacity=\"1\" /><path clip-path=\"url(#clip930)\" d=\"M1059.94 1533.76 L1059.94 1539.24 Q1057.46 1537.87 1054.94 1537.2 Q1052.46 1536.5 1049.91 1536.5 Q1044.22 1536.5 1041.07 1540.13 Q1037.92 1543.73 1037.92 1550.25 Q1037.92 1556.78 1041.07 1560.4 Q1044.22 1564 1049.91 1564 Q1052.46 1564 1054.94 1563.33 Q1057.46 1562.63 1059.94 1561.26 L1059.94 1566.68 Q1057.49 1567.82 1054.85 1568.39 Q1052.24 1568.97 1049.28 1568.97 Q1041.23 1568.97 1036.48 1563.91 Q1031.74 1558.85 1031.74 1550.25 Q1031.74 1541.53 1036.51 1536.53 Q1041.32 1531.54 1049.66 1531.54 Q1052.37 1531.54 1054.94 1532.11 Q1057.52 1532.65 1059.94 1533.76 Z\" fill=\"#000000\" fill-rule=\"evenodd\" fill-opacity=\"1\" /><path clip-path=\"url(#clip930)\" d=\"M1083.94 1536.5 Q1079.23 1536.5 1076.49 1540.19 Q1073.75 1543.85 1073.75 1550.25 Q1073.75 1556.65 1076.46 1560.34 Q1079.2 1564 1083.94 1564 Q1088.62 1564 1091.36 1560.31 Q1094.09 1556.62 1094.09 1550.25 Q1094.09 1543.92 1091.36 1540.23 Q1088.62 1536.5 1083.94 1536.5 M1083.94 1531.54 Q1091.58 1531.54 1095.94 1536.5 Q1100.3 1541.47 1100.3 1550.25 Q1100.3 1559 1095.94 1564 Q1091.58 1568.97 1083.94 1568.97 Q1076.27 1568.97 1071.91 1564 Q1067.58 1559 1067.58 1550.25 Q1067.58 1541.47 1071.91 1536.5 Q1076.27 1531.54 1083.94 1531.54 Z\" fill=\"#000000\" fill-rule=\"evenodd\" fill-opacity=\"1\" /><path clip-path=\"url(#clip930)\" d=\"M1110.01 1518.52 L1115.86 1518.52 L1115.86 1568.04 L1110.01 1568.04 L1110.01 1518.52 Z\" fill=\"#000000\" fill-rule=\"evenodd\" fill-opacity=\"1\" /><path clip-path=\"url(#clip930)\" d=\"M1141.93 1536.5 Q1137.22 1536.5 1134.48 1540.19 Q1131.75 1543.85 1131.75 1550.25 Q1131.75 1556.65 1134.45 1560.34 Q1137.19 1564 1141.93 1564 Q1146.61 1564 1149.35 1560.31 Q1152.08 1556.62 1152.08 1550.25 Q1152.08 1543.92 1149.35 1540.23 Q1146.61 1536.5 1141.93 1536.5 M1141.93 1531.54 Q1149.57 1531.54 1153.93 1536.5 Q1158.29 1541.47 1158.29 1550.25 Q1158.29 1559 1153.93 1564 Q1149.57 1568.97 1141.93 1568.97 Q1134.26 1568.97 1129.9 1564 Q1125.57 1559 1125.57 1550.25 Q1125.57 1541.47 1129.9 1536.5 Q1134.26 1531.54 1141.93 1531.54 Z\" fill=\"#000000\" fill-rule=\"evenodd\" fill-opacity=\"1\" /><path clip-path=\"url(#clip930)\" d=\"M1191.46 1549.81 Q1191.46 1543.44 1188.81 1539.94 Q1186.2 1536.44 1181.46 1536.44 Q1176.75 1536.44 1174.11 1539.94 Q1171.5 1543.44 1171.5 1549.81 Q1171.5 1556.14 1174.11 1559.64 Q1176.75 1563.14 1181.46 1563.14 Q1186.2 1563.14 1188.81 1559.64 Q1191.46 1556.14 1191.46 1549.81 M1197.31 1563.62 Q1197.31 1572.72 1193.27 1577.15 Q1189.23 1581.6 1180.89 1581.6 Q1177.8 1581.6 1175.06 1581.13 Q1172.33 1580.68 1169.75 1579.72 L1169.75 1574.03 Q1172.33 1575.43 1174.84 1576.1 Q1177.36 1576.76 1179.97 1576.76 Q1185.73 1576.76 1188.59 1573.74 Q1191.46 1570.75 1191.46 1564.67 L1191.46 1561.77 Q1189.64 1564.92 1186.81 1566.48 Q1183.98 1568.04 1180.03 1568.04 Q1173.47 1568.04 1169.46 1563.05 Q1165.45 1558.05 1165.45 1549.81 Q1165.45 1541.53 1169.46 1536.53 Q1173.47 1531.54 1180.03 1531.54 Q1183.98 1531.54 1186.81 1533.1 Q1189.64 1534.66 1191.46 1537.81 L1191.46 1532.4 L1197.31 1532.4 L1197.31 1563.62 Z\" fill=\"#000000\" fill-rule=\"evenodd\" fill-opacity=\"1\" /><path clip-path=\"url(#clip930)\" d=\"M1209.38 1532.4 L1215.23 1532.4 L1215.23 1568.04 L1209.38 1568.04 L1209.38 1532.4 M1209.38 1518.52 L1215.23 1518.52 L1215.23 1525.93 L1209.38 1525.93 L1209.38 1518.52 Z\" fill=\"#000000\" fill-rule=\"evenodd\" fill-opacity=\"1\" /><path clip-path=\"url(#clip930)\" d=\"M1253.14 1533.76 L1253.14 1539.24 Q1250.66 1537.87 1248.14 1537.2 Q1245.66 1536.5 1243.11 1536.5 Q1237.42 1536.5 1234.27 1540.13 Q1231.11 1543.73 1231.11 1550.25 Q1231.11 1556.78 1234.27 1560.4 Q1237.42 1564 1243.11 1564 Q1245.66 1564 1248.14 1563.33 Q1250.66 1562.63 1253.14 1561.26 L1253.14 1566.68 Q1250.69 1567.82 1248.05 1568.39 Q1245.44 1568.97 1242.48 1568.97 Q1234.42 1568.97 1229.68 1563.91 Q1224.94 1558.85 1224.94 1550.25 Q1224.94 1541.53 1229.71 1536.53 Q1234.52 1531.54 1242.86 1531.54 Q1245.56 1531.54 1248.14 1532.11 Q1250.72 1532.65 1253.14 1533.76 Z\" fill=\"#000000\" fill-rule=\"evenodd\" fill-opacity=\"1\" /><path clip-path=\"url(#clip930)\" d=\"M1279.53 1550.12 Q1272.43 1550.12 1269.69 1551.75 Q1266.95 1553.37 1266.95 1557.29 Q1266.95 1560.4 1268.99 1562.25 Q1271.06 1564.07 1274.59 1564.07 Q1279.46 1564.07 1282.39 1560.63 Q1285.35 1557.16 1285.35 1551.43 L1285.35 1550.12 L1279.53 1550.12 M1291.21 1547.71 L1291.21 1568.04 L1285.35 1568.04 L1285.35 1562.63 Q1283.35 1565.88 1280.35 1567.44 Q1277.36 1568.97 1273.03 1568.97 Q1267.56 1568.97 1264.31 1565.91 Q1261.1 1562.82 1261.1 1557.67 Q1261.1 1551.65 1265.11 1548.6 Q1269.15 1545.54 1277.14 1545.54 L1285.35 1545.54 L1285.35 1544.97 Q1285.35 1540.93 1282.68 1538.73 Q1280.04 1536.5 1275.23 1536.5 Q1272.17 1536.5 1269.28 1537.23 Q1266.38 1537.97 1263.71 1539.43 L1263.71 1534.02 Q1266.92 1532.78 1269.95 1532.17 Q1272.97 1531.54 1275.83 1531.54 Q1283.57 1531.54 1287.39 1535.55 Q1291.21 1539.56 1291.21 1547.71 Z\" fill=\"#000000\" fill-rule=\"evenodd\" fill-opacity=\"1\" /><path clip-path=\"url(#clip930)\" d=\"M1303.27 1518.52 L1309.13 1518.52 L1309.13 1568.04 L1303.27 1568.04 L1303.27 1518.52 Z\" fill=\"#000000\" fill-rule=\"evenodd\" fill-opacity=\"1\" /><path clip-path=\"url(#clip930)\" d=\"M1321.38 1518.52 L1327.24 1518.52 L1327.24 1568.04 L1321.38 1568.04 L1321.38 1518.52 Z\" fill=\"#000000\" fill-rule=\"evenodd\" fill-opacity=\"1\" /><path clip-path=\"url(#clip930)\" d=\"M1354.32 1571.35 Q1351.84 1577.72 1349.48 1579.66 Q1347.13 1581.6 1343.18 1581.6 L1338.5 1581.6 L1338.5 1576.7 L1341.94 1576.7 Q1344.36 1576.7 1345.7 1575.56 Q1347.03 1574.41 1348.66 1570.14 L1349.71 1567.47 L1335.29 1532.4 L1341.5 1532.4 L1352.64 1560.28 L1363.78 1532.4 L1369.98 1532.4 L1354.32 1571.35 Z\" fill=\"#000000\" fill-rule=\"evenodd\" fill-opacity=\"1\" /><path clip-path=\"url(#clip930)\" d=\"M1427.53 1522.08 L1427.53 1528.35 Q1423.87 1526.6 1420.62 1525.74 Q1417.38 1524.88 1414.35 1524.88 Q1409.1 1524.88 1406.24 1526.92 Q1403.4 1528.96 1403.4 1532.71 Q1403.4 1535.87 1405.28 1537.49 Q1407.19 1539.08 1412.47 1540.07 L1416.36 1540.86 Q1423.55 1542.23 1426.96 1545.7 Q1430.39 1549.14 1430.39 1554.93 Q1430.39 1561.84 1425.75 1565.4 Q1421.13 1568.97 1412.19 1568.97 Q1408.81 1568.97 1404.99 1568.2 Q1401.21 1567.44 1397.13 1565.94 L1397.13 1559.32 Q1401.05 1561.52 1404.8 1562.63 Q1408.56 1563.75 1412.19 1563.75 Q1417.69 1563.75 1420.69 1561.58 Q1423.68 1559.42 1423.68 1555.41 Q1423.68 1551.91 1421.51 1549.93 Q1419.38 1547.96 1414.48 1546.97 L1410.56 1546.21 Q1403.37 1544.78 1400.16 1541.72 Q1396.94 1538.67 1396.94 1533.22 Q1396.94 1526.92 1401.37 1523.29 Q1405.82 1519.66 1413.62 1519.66 Q1416.96 1519.66 1420.43 1520.27 Q1423.9 1520.87 1427.53 1522.08 Z\" fill=\"#000000\" fill-rule=\"evenodd\" fill-opacity=\"1\" /><path clip-path=\"url(#clip930)\" d=\"M1456.37 1550.12 Q1449.27 1550.12 1446.53 1551.75 Q1443.79 1553.37 1443.79 1557.29 Q1443.79 1560.4 1445.83 1562.25 Q1447.9 1564.07 1451.43 1564.07 Q1456.3 1564.07 1459.23 1560.63 Q1462.19 1557.16 1462.19 1551.43 L1462.19 1550.12 L1456.37 1550.12 M1468.05 1547.71 L1468.05 1568.04 L1462.19 1568.04 L1462.19 1562.63 Q1460.18 1565.88 1457.19 1567.44 Q1454.2 1568.97 1449.87 1568.97 Q1444.4 1568.97 1441.15 1565.91 Q1437.94 1562.82 1437.94 1557.67 Q1437.94 1551.65 1441.95 1548.6 Q1445.99 1545.54 1453.98 1545.54 L1462.19 1545.54 L1462.19 1544.97 Q1462.19 1540.93 1459.52 1538.73 Q1456.87 1536.5 1452.07 1536.5 Q1449.01 1536.5 1446.12 1537.23 Q1443.22 1537.97 1440.55 1539.43 L1440.55 1534.02 Q1443.76 1532.78 1446.78 1532.17 Q1449.81 1531.54 1452.67 1531.54 Q1460.41 1531.54 1464.23 1535.55 Q1468.05 1539.56 1468.05 1547.71 Z\" fill=\"#000000\" fill-rule=\"evenodd\" fill-opacity=\"1\" /><path clip-path=\"url(#clip930)\" d=\"M1498.16 1518.52 L1498.16 1523.39 L1492.55 1523.39 Q1489.4 1523.39 1488.16 1524.66 Q1486.95 1525.93 1486.95 1529.24 L1486.95 1532.4 L1496.6 1532.4 L1496.6 1536.95 L1486.95 1536.95 L1486.95 1568.04 L1481.06 1568.04 L1481.06 1536.95 L1475.46 1536.95 L1475.46 1532.4 L1481.06 1532.4 L1481.06 1529.91 Q1481.06 1523.96 1483.83 1521.26 Q1486.6 1518.52 1492.62 1518.52 L1498.16 1518.52 Z\" fill=\"#000000\" fill-rule=\"evenodd\" fill-opacity=\"1\" /><path clip-path=\"url(#clip930)\" d=\"M1533.55 1548.76 L1533.55 1551.62 L1506.62 1551.62 Q1507 1557.67 1510.25 1560.85 Q1513.53 1564 1519.35 1564 Q1522.73 1564 1525.88 1563.17 Q1529.06 1562.35 1532.18 1560.69 L1532.18 1566.23 Q1529.03 1567.57 1525.72 1568.27 Q1522.41 1568.97 1519 1568.97 Q1510.47 1568.97 1505.48 1564 Q1500.51 1559.04 1500.51 1550.57 Q1500.51 1541.82 1505.22 1536.69 Q1509.96 1531.54 1517.99 1531.54 Q1525.18 1531.54 1529.35 1536.18 Q1533.55 1540.8 1533.55 1548.76 M1527.69 1547.04 Q1527.63 1542.23 1524.99 1539.37 Q1522.38 1536.5 1518.05 1536.5 Q1513.15 1536.5 1510.19 1539.27 Q1507.26 1542.04 1506.81 1547.07 L1527.69 1547.04 Z\" fill=\"#000000\" fill-rule=\"evenodd\" fill-opacity=\"1\" /><polyline clip-path=\"url(#clip932)\" style=\"stroke:#000000; stroke-linecap:round; stroke-linejoin:round; stroke-width:2; stroke-opacity:0.1; fill:none\" points=\"\n",
       "  174.149,1423.18 2352.76,1423.18 \n",
       "  \"/>\n",
       "<polyline clip-path=\"url(#clip932)\" style=\"stroke:#000000; stroke-linecap:round; stroke-linejoin:round; stroke-width:2; stroke-opacity:0.1; fill:none\" points=\"\n",
       "  174.149,989.944 2352.76,989.944 \n",
       "  \"/>\n",
       "<polyline clip-path=\"url(#clip932)\" style=\"stroke:#000000; stroke-linecap:round; stroke-linejoin:round; stroke-width:2; stroke-opacity:0.1; fill:none\" points=\"\n",
       "  174.149,556.708 2352.76,556.708 \n",
       "  \"/>\n",
       "<polyline clip-path=\"url(#clip932)\" style=\"stroke:#000000; stroke-linecap:round; stroke-linejoin:round; stroke-width:2; stroke-opacity:0.1; fill:none\" points=\"\n",
       "  174.149,123.472 2352.76,123.472 \n",
       "  \"/>\n",
       "<polyline clip-path=\"url(#clip930)\" style=\"stroke:#000000; stroke-linecap:round; stroke-linejoin:round; stroke-width:4; stroke-opacity:1; fill:none\" points=\"\n",
       "  174.149,1423.18 174.149,123.472 \n",
       "  \"/>\n",
       "<polyline clip-path=\"url(#clip930)\" style=\"stroke:#000000; stroke-linecap:round; stroke-linejoin:round; stroke-width:4; stroke-opacity:1; fill:none\" points=\"\n",
       "  174.149,1423.18 193.047,1423.18 \n",
       "  \"/>\n",
       "<polyline clip-path=\"url(#clip930)\" style=\"stroke:#000000; stroke-linecap:round; stroke-linejoin:round; stroke-width:4; stroke-opacity:1; fill:none\" points=\"\n",
       "  174.149,989.944 193.047,989.944 \n",
       "  \"/>\n",
       "<polyline clip-path=\"url(#clip930)\" style=\"stroke:#000000; stroke-linecap:round; stroke-linejoin:round; stroke-width:4; stroke-opacity:1; fill:none\" points=\"\n",
       "  174.149,556.708 193.047,556.708 \n",
       "  \"/>\n",
       "<polyline clip-path=\"url(#clip930)\" style=\"stroke:#000000; stroke-linecap:round; stroke-linejoin:round; stroke-width:4; stroke-opacity:1; fill:none\" points=\"\n",
       "  174.149,123.472 193.047,123.472 \n",
       "  \"/>\n",
       "<path clip-path=\"url(#clip930)\" d=\"M126.205 1408.98 Q122.593 1408.98 120.765 1412.54 Q118.959 1416.08 118.959 1423.21 Q118.959 1430.32 120.765 1433.89 Q122.593 1437.43 126.205 1437.43 Q129.839 1437.43 131.644 1433.89 Q133.473 1430.32 133.473 1423.21 Q133.473 1416.08 131.644 1412.54 Q129.839 1408.98 126.205 1408.98 M126.205 1405.27 Q132.015 1405.27 135.07 1409.88 Q138.149 1414.46 138.149 1423.21 Q138.149 1431.94 135.07 1436.55 Q132.015 1441.13 126.205 1441.13 Q120.394 1441.13 117.316 1436.55 Q114.26 1431.94 114.26 1423.21 Q114.26 1414.46 117.316 1409.88 Q120.394 1405.27 126.205 1405.27 Z\" fill=\"#000000\" fill-rule=\"evenodd\" fill-opacity=\"1\" /><path clip-path=\"url(#clip930)\" d=\"M131.019 988.59 Q134.376 989.307 136.251 991.576 Q138.149 993.844 138.149 997.178 Q138.149 1002.29 134.63 1005.09 Q131.112 1007.9 124.63 1007.9 Q122.455 1007.9 120.14 1007.46 Q117.848 1007.04 115.394 1006.18 L115.394 1001.67 Q117.339 1002.8 119.654 1003.38 Q121.968 1003.96 124.492 1003.96 Q128.89 1003.96 131.181 1002.22 Q133.496 1000.49 133.496 997.178 Q133.496 994.122 131.343 992.409 Q129.214 990.673 125.394 990.673 L121.367 990.673 L121.367 986.831 L125.58 986.831 Q129.029 986.831 130.857 985.465 Q132.686 984.076 132.686 981.483 Q132.686 978.821 130.788 977.409 Q128.913 975.974 125.394 975.974 Q123.473 975.974 121.274 976.391 Q119.075 976.807 116.436 977.687 L116.436 973.52 Q119.098 972.78 121.413 972.409 Q123.751 972.039 125.811 972.039 Q131.135 972.039 134.237 974.469 Q137.339 976.877 137.339 980.997 Q137.339 983.868 135.695 985.858 Q134.052 987.826 131.019 988.59 Z\" fill=\"#000000\" fill-rule=\"evenodd\" fill-opacity=\"1\" /><path clip-path=\"url(#clip930)\" d=\"M126.621 554.845 Q123.473 554.845 121.621 556.997 Q119.793 559.15 119.793 562.9 Q119.793 566.627 121.621 568.803 Q123.473 570.956 126.621 570.956 Q129.769 570.956 131.598 568.803 Q133.45 566.627 133.45 562.9 Q133.45 559.15 131.598 556.997 Q129.769 554.845 126.621 554.845 M135.904 540.192 L135.904 544.451 Q134.144 543.618 132.339 543.178 Q130.556 542.738 128.797 542.738 Q124.168 542.738 121.714 545.863 Q119.283 548.988 118.936 555.308 Q120.302 553.294 122.362 552.229 Q124.422 551.141 126.899 551.141 Q132.107 551.141 135.117 554.312 Q138.149 557.46 138.149 562.9 Q138.149 568.224 135.001 571.442 Q131.853 574.659 126.621 574.659 Q120.626 574.659 117.455 570.076 Q114.283 565.47 114.283 556.743 Q114.283 548.548 118.172 543.687 Q122.061 538.803 128.612 538.803 Q130.371 538.803 132.154 539.15 Q133.959 539.497 135.904 540.192 Z\" fill=\"#000000\" fill-rule=\"evenodd\" fill-opacity=\"1\" /><path clip-path=\"url(#clip930)\" d=\"M116.529 140.035 L116.529 135.775 Q118.288 136.609 120.093 137.048 Q121.899 137.488 123.635 137.488 Q128.265 137.488 130.695 134.386 Q133.149 131.261 133.496 124.919 Q132.154 126.91 130.093 127.974 Q128.033 129.039 125.533 129.039 Q120.348 129.039 117.316 125.914 Q114.306 122.766 114.306 117.326 Q114.306 112.002 117.455 108.785 Q120.603 105.567 125.834 105.567 Q131.83 105.567 134.978 110.174 Q138.149 114.757 138.149 123.507 Q138.149 131.678 134.26 136.562 Q130.394 141.423 123.843 141.423 Q122.084 141.423 120.279 141.076 Q118.473 140.729 116.529 140.035 M125.834 125.382 Q128.982 125.382 130.811 123.229 Q132.663 121.076 132.663 117.326 Q132.663 113.599 130.811 111.447 Q128.982 109.271 125.834 109.271 Q122.686 109.271 120.834 111.447 Q119.006 113.599 119.006 117.326 Q119.006 121.076 120.834 123.229 Q122.686 125.382 125.834 125.382 Z\" fill=\"#000000\" fill-rule=\"evenodd\" fill-opacity=\"1\" /><path clip-path=\"url(#clip930)\" d=\"M18.0438 935.174 L24.314 935.174 Q22.5634 938.834 21.704 942.081 Q20.8447 945.327 20.8447 948.351 Q20.8447 953.603 22.8817 956.467 Q24.9187 959.3 28.6745 959.3 Q31.8255 959.3 33.4488 957.422 Q35.0402 955.513 36.0269 950.229 L36.8226 946.346 Q38.1912 939.153 41.6605 935.747 Q45.098 932.31 50.8908 932.31 Q57.7976 932.31 61.3624 936.956 Q64.9272 941.572 64.9272 950.515 Q64.9272 953.889 64.1633 957.709 Q63.3994 961.496 61.9035 965.57 L55.2831 965.57 Q57.4793 961.655 58.5933 957.9 Q59.7073 954.144 59.7073 950.515 Q59.7073 945.009 57.543 942.017 Q55.3786 939.025 51.3682 939.025 Q47.8671 939.025 45.8937 941.19 Q43.9204 943.322 42.9337 948.224 L42.1698 952.139 Q40.7375 959.332 37.682 962.547 Q34.6264 965.761 29.1837 965.761 Q22.8817 965.761 19.2532 961.337 Q15.6248 956.881 15.6248 949.083 Q15.6248 945.741 16.2295 942.272 Q16.8343 938.803 18.0438 935.174 Z\" fill=\"#000000\" fill-rule=\"evenodd\" fill-opacity=\"1\" /><path clip-path=\"url(#clip930)\" d=\"M32.4621 908.725 Q32.4621 913.435 36.1542 916.172 Q39.8145 918.91 46.212 918.91 Q52.6095 918.91 56.3017 916.204 Q59.9619 913.467 59.9619 908.725 Q59.9619 904.046 56.2698 901.309 Q52.5777 898.571 46.212 898.571 Q39.8781 898.571 36.186 901.309 Q32.4621 904.046 32.4621 908.725 M27.4968 908.725 Q27.4968 901.086 32.4621 896.725 Q37.4273 892.365 46.212 892.365 Q54.9649 892.365 59.9619 896.725 Q64.9272 901.086 64.9272 908.725 Q64.9272 916.395 59.9619 920.756 Q54.9649 925.084 46.212 925.084 Q37.4273 925.084 32.4621 920.756 Q27.4968 916.395 27.4968 908.725 Z\" fill=\"#000000\" fill-rule=\"evenodd\" fill-opacity=\"1\" /><path clip-path=\"url(#clip930)\" d=\"M29.7248 857.003 L35.1993 857.003 Q33.8307 859.486 33.1623 862 Q32.4621 864.483 32.4621 867.029 Q32.4621 872.726 36.0905 875.878 Q39.6872 879.029 46.212 879.029 Q52.7369 879.029 56.3653 875.878 Q59.9619 872.726 59.9619 867.029 Q59.9619 864.483 59.2935 862 Q58.5933 859.486 57.2247 857.003 L62.6355 857.003 Q63.7814 859.454 64.3543 862.096 Q64.9272 864.706 64.9272 867.666 Q64.9272 875.718 59.8664 880.461 Q54.8057 885.203 46.212 885.203 Q37.491 885.203 32.4939 880.429 Q27.4968 875.623 27.4968 867.284 Q27.4968 864.578 28.0697 862 Q28.6108 859.422 29.7248 857.003 Z\" fill=\"#000000\" fill-rule=\"evenodd\" fill-opacity=\"1\" /><path clip-path=\"url(#clip930)\" d=\"M28.3562 846.818 L28.3562 840.962 L64.0042 840.962 L64.0042 846.818 L28.3562 846.818 M14.479 846.818 L14.479 840.962 L21.895 840.962 L21.895 846.818 L14.479 846.818 Z\" fill=\"#000000\" fill-rule=\"evenodd\" fill-opacity=\"1\" /><path clip-path=\"url(#clip930)\" d=\"M46.0847 812.507 Q46.0847 819.605 47.7079 822.342 Q49.3312 825.079 53.2461 825.079 Q56.3653 825.079 58.2114 823.042 Q60.0256 820.973 60.0256 817.44 Q60.0256 812.571 56.5881 809.642 Q53.1188 806.682 47.3897 806.682 L46.0847 806.682 L46.0847 812.507 M43.6657 800.826 L64.0042 800.826 L64.0042 806.682 L58.5933 806.682 Q61.8398 808.687 63.3994 811.679 Q64.9272 814.671 64.9272 819 Q64.9272 824.474 61.8716 827.721 Q58.7843 830.936 53.6281 830.936 Q47.6125 830.936 44.5569 826.925 Q41.5014 822.883 41.5014 814.894 L41.5014 806.682 L40.9285 806.682 Q36.8862 806.682 34.6901 809.356 Q32.4621 811.998 32.4621 816.804 Q32.4621 819.859 33.1941 822.756 Q33.9262 825.652 35.3903 828.326 L29.9795 828.326 Q28.7381 825.111 28.1334 822.087 Q27.4968 819.064 27.4968 816.199 Q27.4968 808.465 31.5072 804.645 Q35.5176 800.826 43.6657 800.826 Z\" fill=\"#000000\" fill-rule=\"evenodd\" fill-opacity=\"1\" /><path clip-path=\"url(#clip930)\" d=\"M14.479 788.763 L14.479 782.906 L64.0042 782.906 L64.0042 788.763 L14.479 788.763 Z\" fill=\"#000000\" fill-rule=\"evenodd\" fill-opacity=\"1\" /><path clip-path=\"url(#clip930)\" d=\"M14.479 770.652 L14.479 764.796 L64.0042 764.796 L64.0042 770.652 L14.479 770.652 Z\" fill=\"#000000\" fill-rule=\"evenodd\" fill-opacity=\"1\" /><path clip-path=\"url(#clip930)\" d=\"M67.3143 737.71 Q73.68 740.192 75.6216 742.548 Q77.5631 744.903 77.5631 748.85 L77.5631 753.529 L72.6615 753.529 L72.6615 750.091 Q72.6615 747.672 71.5157 746.335 Q70.3699 744.999 66.1048 743.375 L63.4312 742.325 L28.3562 756.743 L28.3562 750.537 L56.238 739.397 L28.3562 728.257 L28.3562 722.05 L67.3143 737.71 Z\" fill=\"#000000\" fill-rule=\"evenodd\" fill-opacity=\"1\" /><path clip-path=\"url(#clip930)\" d=\"M16.4842 692.991 L16.4842 686.561 L60.694 686.561 Q69.2877 686.561 73.1708 689.84 Q77.0539 693.086 77.0539 700.311 L77.0539 702.762 L71.643 702.762 L71.643 700.757 Q71.643 696.492 69.2559 694.741 Q66.8687 692.991 60.694 692.991 L16.4842 692.991 Z\" fill=\"#000000\" fill-rule=\"evenodd\" fill-opacity=\"1\" /><path clip-path=\"url(#clip930)\" d=\"M49.9359 674.626 L28.3562 674.626 L28.3562 668.769 L49.7131 668.769 Q54.7739 668.769 57.3202 666.796 Q59.8346 664.823 59.8346 660.876 Q59.8346 656.133 56.8109 653.396 Q53.7872 650.627 48.5673 650.627 L28.3562 650.627 L28.3562 644.771 L64.0042 644.771 L64.0042 650.627 L58.5296 650.627 Q61.7762 652.76 63.3676 655.592 Q64.9272 658.393 64.9272 662.117 Q64.9272 668.26 61.1078 671.443 Q57.2883 674.626 49.9359 674.626 M27.4968 659.889 L27.4968 659.889 Z\" fill=\"#000000\" fill-rule=\"evenodd\" fill-opacity=\"1\" /><path clip-path=\"url(#clip930)\" d=\"M29.4065 609.982 L34.9447 609.982 Q33.6716 612.465 33.035 615.138 Q32.3984 617.812 32.3984 620.676 Q32.3984 625.037 33.7352 627.233 Q35.072 629.397 37.7456 629.397 Q39.7826 629.397 40.9603 627.838 Q42.1061 626.278 43.1565 621.568 L43.6021 619.562 Q44.9389 613.324 47.3897 610.714 Q49.8086 608.072 54.1691 608.072 Q59.1344 608.072 62.0308 612.019 Q64.9272 615.934 64.9272 622.809 Q64.9272 625.673 64.3543 628.793 Q63.8132 631.88 62.6992 635.317 L56.6518 635.317 Q58.3387 632.071 59.198 628.92 Q60.0256 625.769 60.0256 622.682 Q60.0256 618.544 58.6251 616.316 Q57.1929 614.088 54.6147 614.088 Q52.2276 614.088 50.9545 615.711 Q49.6813 617.303 48.5037 622.745 L48.0262 624.782 Q46.8804 630.225 44.5251 632.644 Q42.138 635.063 38.0002 635.063 Q32.9713 635.063 30.2341 631.498 Q27.4968 627.933 27.4968 621.377 Q27.4968 618.13 27.9743 615.265 Q28.4517 612.401 29.4065 609.982 Z\" fill=\"#000000\" fill-rule=\"evenodd\" fill-opacity=\"1\" /><path clip-path=\"url(#clip930)\" d=\"M18.2347 592.954 L28.3562 592.954 L28.3562 580.891 L32.9077 580.891 L32.9077 592.954 L52.2594 592.954 Q56.6199 592.954 57.8613 591.776 Q59.1026 590.567 59.1026 586.906 L59.1026 580.891 L64.0042 580.891 L64.0042 586.906 Q64.0042 593.686 61.4897 596.264 Q58.9434 598.842 52.2594 598.842 L32.9077 598.842 L32.9077 603.139 L28.3562 603.139 L28.3562 598.842 L18.2347 598.842 L18.2347 592.954 Z\" fill=\"#000000\" fill-rule=\"evenodd\" fill-opacity=\"1\" /><path clip-path=\"url(#clip930)\" d=\"M705.137 17.6457 Q696.225 17.6457 690.958 24.2892 Q685.733 30.9327 685.733 42.3968 Q685.733 53.8203 690.958 60.4638 Q696.225 67.1073 705.137 67.1073 Q714.049 67.1073 719.234 60.4638 Q724.459 53.8203 724.459 42.3968 Q724.459 30.9327 719.234 24.2892 Q714.049 17.6457 705.137 17.6457 M705.137 11.0023 Q717.856 11.0023 725.472 19.5497 Q733.088 28.0566 733.088 42.3968 Q733.088 56.6965 725.472 65.2439 Q717.856 73.7508 705.137 73.7508 Q692.376 73.7508 684.72 65.2439 Q677.104 56.737 677.104 42.3968 Q677.104 28.0566 684.72 19.5497 Q692.376 11.0023 705.137 11.0023 Z\" fill=\"#000000\" fill-rule=\"evenodd\" fill-opacity=\"1\" /><path clip-path=\"url(#clip930)\" d=\"M740.217 27.2059 L748.117 27.2059 L762.295 65.2844 L776.473 27.2059 L784.372 27.2059 L767.358 72.576 L757.231 72.576 L740.217 27.2059 Z\" fill=\"#000000\" fill-rule=\"evenodd\" fill-opacity=\"1\" /><path clip-path=\"url(#clip930)\" d=\"M833.469 48.0275 L833.469 51.6733 L799.199 51.6733 Q799.685 59.3701 803.817 63.421 Q807.989 67.4314 815.402 67.4314 Q819.696 67.4314 823.707 66.3781 Q827.757 65.3249 831.727 63.2184 L831.727 70.267 Q827.717 71.9684 823.504 72.8596 Q819.291 73.7508 814.957 73.7508 Q804.1 73.7508 797.74 67.4314 Q791.421 61.1119 791.421 50.3365 Q791.421 39.1965 797.416 32.6746 Q803.452 26.1121 813.66 26.1121 Q822.815 26.1121 828.122 32.0264 Q833.469 37.9003 833.469 48.0275 M826.016 45.84 Q825.935 39.7232 822.572 36.0774 Q819.251 32.4315 813.741 32.4315 Q807.503 32.4315 803.736 35.9558 Q800.009 39.4801 799.442 45.8805 L826.016 45.84 Z\" fill=\"#000000\" fill-rule=\"evenodd\" fill-opacity=\"1\" /><path clip-path=\"url(#clip930)\" d=\"M871.993 34.1734 Q870.738 33.4443 869.239 33.1202 Q867.78 32.7556 865.998 32.7556 Q859.679 32.7556 856.276 36.8875 Q852.914 40.9789 852.914 48.6757 L852.914 72.576 L845.419 72.576 L845.419 27.2059 L852.914 27.2059 L852.914 34.2544 Q855.263 30.1225 859.03 28.1376 Q862.798 26.1121 868.185 26.1121 Q868.955 26.1121 869.887 26.2337 Q870.819 26.3147 871.953 26.5172 L871.993 34.1734 Z\" fill=\"#000000\" fill-rule=\"evenodd\" fill-opacity=\"1\" /><path clip-path=\"url(#clip930)\" d=\"M913.556 14.324 L913.556 27.2059 L928.908 27.2059 L928.908 32.9987 L913.556 32.9987 L913.556 57.6282 Q913.556 63.1779 915.054 64.7578 Q916.594 66.3376 921.252 66.3376 L928.908 66.3376 L928.908 72.576 L921.252 72.576 Q912.624 72.576 909.343 69.3758 Q906.061 66.1351 906.061 57.6282 L906.061 32.9987 L900.593 32.9987 L900.593 27.2059 L906.061 27.2059 L906.061 14.324 L913.556 14.324 Z\" fill=\"#000000\" fill-rule=\"evenodd\" fill-opacity=\"1\" /><path clip-path=\"url(#clip930)\" d=\"M976.426 45.1919 L976.426 72.576 L968.972 72.576 L968.972 45.4349 Q968.972 38.994 966.46 35.7938 Q963.949 32.5936 958.926 32.5936 Q952.89 32.5936 949.406 36.4419 Q945.922 40.2903 945.922 46.9338 L945.922 72.576 L938.428 72.576 L938.428 9.54393 L945.922 9.54393 L945.922 34.2544 Q948.596 30.163 952.201 28.1376 Q955.847 26.1121 960.587 26.1121 Q968.405 26.1121 972.415 30.9732 Q976.426 35.7938 976.426 45.1919 Z\" fill=\"#000000\" fill-rule=\"evenodd\" fill-opacity=\"1\" /><path clip-path=\"url(#clip930)\" d=\"M1030.1 48.0275 L1030.1 51.6733 L995.829 51.6733 Q996.316 59.3701 1000.45 63.421 Q1004.62 67.4314 1012.03 67.4314 Q1016.33 67.4314 1020.34 66.3781 Q1024.39 65.3249 1028.36 63.2184 L1028.36 70.267 Q1024.35 71.9684 1020.13 72.8596 Q1015.92 73.7508 1011.59 73.7508 Q1000.73 73.7508 994.371 67.4314 Q988.052 61.1119 988.052 50.3365 Q988.052 39.1965 994.047 32.6746 Q1000.08 26.1121 1010.29 26.1121 Q1019.45 26.1121 1024.75 32.0264 Q1030.1 37.9003 1030.1 48.0275 M1022.65 45.84 Q1022.57 39.7232 1019.2 36.0774 Q1015.88 32.4315 1010.37 32.4315 Q1004.13 32.4315 1000.37 35.9558 Q996.64 39.4801 996.072 45.8805 L1022.65 45.84 Z\" fill=\"#000000\" fill-rule=\"evenodd\" fill-opacity=\"1\" /><path clip-path=\"url(#clip930)\" d=\"M1064.37 27.2059 L1071.82 27.2059 L1081.14 62.6108 L1090.42 27.2059 L1099.21 27.2059 L1108.53 62.6108 L1117.8 27.2059 L1125.26 27.2059 L1113.39 72.576 L1104.6 72.576 L1094.83 35.3887 L1085.03 72.576 L1076.24 72.576 L1064.37 27.2059 Z\" fill=\"#000000\" fill-rule=\"evenodd\" fill-opacity=\"1\" /><path clip-path=\"url(#clip930)\" d=\"M1174.27 45.1919 L1174.27 72.576 L1166.82 72.576 L1166.82 45.4349 Q1166.82 38.994 1164.31 35.7938 Q1161.79 32.5936 1156.77 32.5936 Q1150.74 32.5936 1147.25 36.4419 Q1143.77 40.2903 1143.77 46.9338 L1143.77 72.576 L1136.27 72.576 L1136.27 9.54393 L1143.77 9.54393 L1143.77 34.2544 Q1146.44 30.163 1150.05 28.1376 Q1153.69 26.1121 1158.43 26.1121 Q1166.25 26.1121 1170.26 30.9732 Q1174.27 35.7938 1174.27 45.1919 Z\" fill=\"#000000\" fill-rule=\"evenodd\" fill-opacity=\"1\" /><path clip-path=\"url(#clip930)\" d=\"M1206.72 32.4315 Q1200.72 32.4315 1197.24 37.1306 Q1193.76 41.7891 1193.76 49.9314 Q1193.76 58.0738 1197.2 62.7728 Q1200.68 67.4314 1206.72 67.4314 Q1212.67 67.4314 1216.16 62.7323 Q1219.64 58.0333 1219.64 49.9314 Q1219.64 41.8701 1216.16 37.1711 Q1212.67 32.4315 1206.72 32.4315 M1206.72 26.1121 Q1216.44 26.1121 1221.99 32.4315 Q1227.54 38.7509 1227.54 49.9314 Q1227.54 61.0714 1221.99 67.4314 Q1216.44 73.7508 1206.72 73.7508 Q1196.96 73.7508 1191.41 67.4314 Q1185.9 61.0714 1185.9 49.9314 Q1185.9 38.7509 1191.41 32.4315 Q1196.96 26.1121 1206.72 26.1121 Z\" fill=\"#000000\" fill-rule=\"evenodd\" fill-opacity=\"1\" /><path clip-path=\"url(#clip930)\" d=\"M1239.9 9.54393 L1247.35 9.54393 L1247.35 72.576 L1239.9 72.576 L1239.9 9.54393 Z\" fill=\"#000000\" fill-rule=\"evenodd\" fill-opacity=\"1\" /><path clip-path=\"url(#clip930)\" d=\"M1301.75 48.0275 L1301.75 51.6733 L1267.48 51.6733 Q1267.97 59.3701 1272.1 63.421 Q1276.27 67.4314 1283.69 67.4314 Q1287.98 67.4314 1291.99 66.3781 Q1296.04 65.3249 1300.01 63.2184 L1300.01 70.267 Q1296 71.9684 1291.79 72.8596 Q1287.58 73.7508 1283.24 73.7508 Q1272.38 73.7508 1266.02 67.4314 Q1259.71 61.1119 1259.71 50.3365 Q1259.71 39.1965 1265.7 32.6746 Q1271.74 26.1121 1281.94 26.1121 Q1291.1 26.1121 1296.41 32.0264 Q1301.75 37.9003 1301.75 48.0275 M1294.3 45.84 Q1294.22 39.7232 1290.86 36.0774 Q1287.54 32.4315 1282.03 32.4315 Q1275.79 32.4315 1272.02 35.9558 Q1268.29 39.4801 1267.73 45.8805 L1294.3 45.84 Z\" fill=\"#000000\" fill-rule=\"evenodd\" fill-opacity=\"1\" /><path clip-path=\"url(#clip930)\" d=\"M1369.28 28.5427 L1369.28 35.5912 Q1366.12 33.9709 1362.72 33.1607 Q1359.32 32.3505 1355.67 32.3505 Q1350.12 32.3505 1347.33 34.0519 Q1344.57 35.7533 1344.57 39.156 Q1344.57 41.7486 1346.56 43.2475 Q1348.54 44.7058 1354.54 46.0426 L1357.09 46.6097 Q1365.03 48.3111 1368.35 51.4303 Q1371.71 54.509 1371.71 60.0587 Q1371.71 66.3781 1366.69 70.0644 Q1361.71 73.7508 1352.96 73.7508 Q1349.31 73.7508 1345.34 73.0216 Q1341.41 72.3329 1337.04 70.9151 L1337.04 63.2184 Q1341.17 65.3654 1345.18 66.4591 Q1349.19 67.5124 1353.12 67.5124 Q1358.39 67.5124 1361.22 65.73 Q1364.06 63.9071 1364.06 60.6258 Q1364.06 57.5877 1361.99 55.9673 Q1359.97 54.3469 1353.04 52.8481 L1350.45 52.2405 Q1343.52 50.7821 1340.44 47.7845 Q1337.36 44.7463 1337.36 39.4801 Q1337.36 33.0797 1341.9 29.5959 Q1346.44 26.1121 1354.78 26.1121 Q1358.91 26.1121 1362.56 26.7198 Q1366.2 27.3274 1369.28 28.5427 Z\" fill=\"#000000\" fill-rule=\"evenodd\" fill-opacity=\"1\" /><path clip-path=\"url(#clip930)\" d=\"M1382.81 54.671 L1382.81 27.2059 L1390.27 27.2059 L1390.27 54.3874 Q1390.27 60.8284 1392.78 64.0691 Q1395.29 67.2693 1400.31 67.2693 Q1406.35 67.2693 1409.83 63.421 Q1413.36 59.5726 1413.36 52.9291 L1413.36 27.2059 L1420.81 27.2059 L1420.81 72.576 L1413.36 72.576 L1413.36 65.6084 Q1410.64 69.7404 1407.04 71.7658 Q1403.47 73.7508 1398.73 73.7508 Q1390.91 73.7508 1386.86 68.8897 Q1382.81 64.0286 1382.81 54.671 M1401.57 26.1121 L1401.57 26.1121 Z\" fill=\"#000000\" fill-rule=\"evenodd\" fill-opacity=\"1\" /><path clip-path=\"url(#clip930)\" d=\"M1443.37 65.7705 L1443.37 89.8329 L1435.88 89.8329 L1435.88 27.2059 L1443.37 27.2059 L1443.37 34.0924 Q1445.72 30.0415 1449.29 28.0971 Q1452.89 26.1121 1457.88 26.1121 Q1466.14 26.1121 1471.28 32.6746 Q1476.47 39.2371 1476.47 49.9314 Q1476.47 60.6258 1471.28 67.1883 Q1466.14 73.7508 1457.88 73.7508 Q1452.89 73.7508 1449.29 71.8063 Q1445.72 69.8214 1443.37 65.7705 M1468.73 49.9314 Q1468.73 41.7081 1465.33 37.0496 Q1461.97 32.3505 1456.05 32.3505 Q1450.14 32.3505 1446.74 37.0496 Q1443.37 41.7081 1443.37 49.9314 Q1443.37 58.1548 1446.74 62.8538 Q1450.14 67.5124 1456.05 67.5124 Q1461.97 67.5124 1465.33 62.8538 Q1468.73 58.1548 1468.73 49.9314 Z\" fill=\"#000000\" fill-rule=\"evenodd\" fill-opacity=\"1\" /><path clip-path=\"url(#clip930)\" d=\"M1496.04 65.7705 L1496.04 89.8329 L1488.54 89.8329 L1488.54 27.2059 L1496.04 27.2059 L1496.04 34.0924 Q1498.38 30.0415 1501.95 28.0971 Q1505.55 26.1121 1510.54 26.1121 Q1518.8 26.1121 1523.95 32.6746 Q1529.13 39.2371 1529.13 49.9314 Q1529.13 60.6258 1523.95 67.1883 Q1518.8 73.7508 1510.54 73.7508 Q1505.55 73.7508 1501.95 71.8063 Q1498.38 69.8214 1496.04 65.7705 M1521.39 49.9314 Q1521.39 41.7081 1517.99 37.0496 Q1514.63 32.3505 1508.71 32.3505 Q1502.8 32.3505 1499.4 37.0496 Q1496.04 41.7081 1496.04 49.9314 Q1496.04 58.1548 1499.4 62.8538 Q1502.8 67.5124 1508.71 67.5124 Q1514.63 67.5124 1517.99 62.8538 Q1521.39 58.1548 1521.39 49.9314 Z\" fill=\"#000000\" fill-rule=\"evenodd\" fill-opacity=\"1\" /><path clip-path=\"url(#clip930)\" d=\"M1541.49 9.54393 L1548.94 9.54393 L1548.94 72.576 L1541.49 72.576 L1541.49 9.54393 Z\" fill=\"#000000\" fill-rule=\"evenodd\" fill-opacity=\"1\" /><path clip-path=\"url(#clip930)\" d=\"M1583.41 76.7889 Q1580.25 84.8907 1577.26 87.3618 Q1574.26 89.8329 1569.23 89.8329 L1563.28 89.8329 L1563.28 83.5945 L1567.66 83.5945 Q1570.73 83.5945 1572.44 82.1361 Q1574.14 80.6778 1576.2 75.2496 L1577.54 71.8468 L1559.19 27.2059 L1567.09 27.2059 L1581.27 62.6918 L1595.44 27.2059 L1603.34 27.2059 L1583.41 76.7889 Z\" fill=\"#000000\" fill-rule=\"evenodd\" fill-opacity=\"1\" /><path clip-path=\"url(#clip930)\" d=\"M1672.65 28.9478 L1672.65 35.9153 Q1669.49 34.1734 1666.29 33.3227 Q1663.13 32.4315 1659.89 32.4315 Q1652.64 32.4315 1648.63 37.0496 Q1644.62 41.6271 1644.62 49.9314 Q1644.62 58.2358 1648.63 62.8538 Q1652.64 67.4314 1659.89 67.4314 Q1663.13 67.4314 1666.29 66.5807 Q1669.49 65.6895 1672.65 63.9476 L1672.65 70.8341 Q1669.54 72.2924 1666.17 73.0216 Q1662.85 73.7508 1659.08 73.7508 Q1648.84 73.7508 1642.8 67.3098 Q1636.76 60.8689 1636.76 49.9314 Q1636.76 38.832 1642.84 32.472 Q1648.96 26.1121 1659.57 26.1121 Q1663.01 26.1121 1666.29 26.8413 Q1669.58 27.5299 1672.65 28.9478 Z\" fill=\"#000000\" fill-rule=\"evenodd\" fill-opacity=\"1\" /><path clip-path=\"url(#clip930)\" d=\"M1723.33 45.1919 L1723.33 72.576 L1715.88 72.576 L1715.88 45.4349 Q1715.88 38.994 1713.37 35.7938 Q1710.85 32.5936 1705.83 32.5936 Q1699.8 32.5936 1696.31 36.4419 Q1692.83 40.2903 1692.83 46.9338 L1692.83 72.576 L1685.33 72.576 L1685.33 9.54393 L1692.83 9.54393 L1692.83 34.2544 Q1695.5 30.163 1699.11 28.1376 Q1702.75 26.1121 1707.49 26.1121 Q1715.31 26.1121 1719.32 30.9732 Q1723.33 35.7938 1723.33 45.1919 Z\" fill=\"#000000\" fill-rule=\"evenodd\" fill-opacity=\"1\" /><path clip-path=\"url(#clip930)\" d=\"M1758.82 49.7694 Q1749.78 49.7694 1746.3 51.8354 Q1742.82 53.9013 1742.82 58.8839 Q1742.82 62.8538 1745.41 65.2034 Q1748.04 67.5124 1752.54 67.5124 Q1758.74 67.5124 1762.46 63.1374 Q1766.23 58.7219 1766.23 51.4303 L1766.23 49.7694 L1758.82 49.7694 M1773.68 46.6907 L1773.68 72.576 L1766.23 72.576 L1766.23 65.6895 Q1763.68 69.8214 1759.87 71.8063 Q1756.06 73.7508 1750.55 73.7508 Q1743.59 73.7508 1739.45 69.8619 Q1735.36 65.9325 1735.36 59.3701 Q1735.36 51.7138 1740.47 47.825 Q1745.61 43.9361 1755.78 43.9361 L1766.23 43.9361 L1766.23 43.2069 Q1766.23 38.0623 1762.83 35.2672 Q1759.47 32.4315 1753.35 32.4315 Q1749.46 32.4315 1745.77 33.3632 Q1742.09 34.295 1738.68 36.1584 L1738.68 29.2718 Q1742.78 27.692 1746.62 26.9223 Q1750.47 26.1121 1754.12 26.1121 Q1763.96 26.1121 1768.82 31.2163 Q1773.68 36.3204 1773.68 46.6907 Z\" fill=\"#000000\" fill-rule=\"evenodd\" fill-opacity=\"1\" /><path clip-path=\"url(#clip930)\" d=\"M1789.04 27.2059 L1796.49 27.2059 L1796.49 72.576 L1789.04 72.576 L1789.04 27.2059 M1789.04 9.54393 L1796.49 9.54393 L1796.49 18.9825 L1789.04 18.9825 L1789.04 9.54393 Z\" fill=\"#000000\" fill-rule=\"evenodd\" fill-opacity=\"1\" /><path clip-path=\"url(#clip930)\" d=\"M1849.8 45.1919 L1849.8 72.576 L1842.35 72.576 L1842.35 45.4349 Q1842.35 38.994 1839.84 35.7938 Q1837.32 32.5936 1832.3 32.5936 Q1826.26 32.5936 1822.78 36.4419 Q1819.3 40.2903 1819.3 46.9338 L1819.3 72.576 L1811.8 72.576 L1811.8 27.2059 L1819.3 27.2059 L1819.3 34.2544 Q1821.97 30.163 1825.58 28.1376 Q1829.22 26.1121 1833.96 26.1121 Q1841.78 26.1121 1845.79 30.9732 Q1849.8 35.7938 1849.8 45.1919 Z\" fill=\"#000000\" fill-rule=\"evenodd\" fill-opacity=\"1\" /><polyline clip-path=\"url(#clip932)\" style=\"stroke:#009af9; stroke-linecap:round; stroke-linejoin:round; stroke-width:4; stroke-opacity:1; fill:none\" points=\"\n",
       "  2122.33,989.944 539.485,845.532 \n",
       "  \"/>\n",
       "<circle clip-path=\"url(#clip932)\" cx=\"2122.33\" cy=\"989.944\" r=\"14.4\" fill=\"#e26f46\" fill-rule=\"evenodd\" fill-opacity=\"1\" stroke=\"#000000\" stroke-opacity=\"1\" stroke-width=\"3.2\"/>\n",
       "<circle clip-path=\"url(#clip932)\" cx=\"539.485\" cy=\"845.532\" r=\"14.4\" fill=\"#e26f46\" fill-rule=\"evenodd\" fill-opacity=\"1\" stroke=\"#000000\" stroke-opacity=\"1\" stroke-width=\"3.2\"/>\n",
       "<path clip-path=\"url(#clip930)\" d=\"\n",
       "M2009.84 322.316 L2280.14 322.316 L2280.14 166.796 L2009.84 166.796  Z\n",
       "  \" fill=\"#ffffff\" fill-rule=\"evenodd\" fill-opacity=\"1\"/>\n",
       "<polyline clip-path=\"url(#clip930)\" style=\"stroke:#000000; stroke-linecap:round; stroke-linejoin:round; stroke-width:4; stroke-opacity:1; fill:none\" points=\"\n",
       "  2009.84,322.316 2280.14,322.316 2280.14,166.796 2009.84,166.796 2009.84,322.316 \n",
       "  \"/>\n",
       "<polyline clip-path=\"url(#clip930)\" style=\"stroke:#009af9; stroke-linecap:round; stroke-linejoin:round; stroke-width:4; stroke-opacity:1; fill:none\" points=\"\n",
       "  2034.05,218.636 2179.29,218.636 \n",
       "  \"/>\n",
       "<path clip-path=\"url(#clip930)\" d=\"M2217.34 238.323 Q2215.54 242.953 2213.82 244.365 Q2212.11 245.777 2209.24 245.777 L2205.84 245.777 L2205.84 242.212 L2208.34 242.212 Q2210.1 242.212 2211.07 241.379 Q2212.04 240.545 2213.22 237.443 L2213.98 235.499 L2203.5 209.99 L2208.01 209.99 L2216.11 230.268 L2224.22 209.99 L2228.73 209.99 L2217.34 238.323 Z\" fill=\"#000000\" fill-rule=\"evenodd\" fill-opacity=\"1\" /><path clip-path=\"url(#clip930)\" d=\"M2236.02 231.981 L2243.66 231.981 L2243.66 205.615 L2235.35 207.282 L2235.35 203.022 L2243.61 201.356 L2248.29 201.356 L2248.29 231.981 L2255.93 231.981 L2255.93 235.916 L2236.02 235.916 L2236.02 231.981 Z\" fill=\"#000000\" fill-rule=\"evenodd\" fill-opacity=\"1\" /><circle clip-path=\"url(#clip930)\" cx=\"2106.67\" cy=\"270.476\" r=\"23.04\" fill=\"#e26f46\" fill-rule=\"evenodd\" fill-opacity=\"1\" stroke=\"#000000\" stroke-opacity=\"1\" stroke-width=\"5.12\"/>\n",
       "<path clip-path=\"url(#clip930)\" d=\"M2217.34 290.163 Q2215.54 294.793 2213.82 296.205 Q2212.11 297.617 2209.24 297.617 L2205.84 297.617 L2205.84 294.052 L2208.34 294.052 Q2210.1 294.052 2211.07 293.219 Q2212.04 292.385 2213.22 289.283 L2213.98 287.339 L2203.5 261.83 L2208.01 261.83 L2216.11 282.108 L2224.22 261.83 L2228.73 261.83 L2217.34 290.163 Z\" fill=\"#000000\" fill-rule=\"evenodd\" fill-opacity=\"1\" /><path clip-path=\"url(#clip930)\" d=\"M2239.24 283.821 L2255.56 283.821 L2255.56 287.756 L2233.61 287.756 L2233.61 283.821 Q2236.28 281.066 2240.86 276.436 Q2245.47 271.784 2246.65 270.441 Q2248.89 267.918 2249.77 266.182 Q2250.67 264.423 2250.67 262.733 Q2250.67 259.978 2248.73 258.242 Q2246.81 256.506 2243.71 256.506 Q2241.51 256.506 2239.05 257.27 Q2236.62 258.034 2233.85 259.585 L2233.85 254.862 Q2236.67 253.728 2239.12 253.149 Q2241.58 252.571 2243.61 252.571 Q2248.98 252.571 2252.18 255.256 Q2255.37 257.941 2255.37 262.432 Q2255.37 264.561 2254.56 266.483 Q2253.78 268.381 2251.67 270.973 Q2251.09 271.645 2247.99 274.862 Q2244.89 278.057 2239.24 283.821 Z\" fill=\"#000000\" fill-rule=\"evenodd\" fill-opacity=\"1\" /></svg>\n"
      ]
     },
     "execution_count": 69,
     "metadata": {},
     "output_type": "execute_result"
    }
   ],
   "source": [
    "x_axis =  [1.625, -7.82]\n",
    "y_axis = [3, 4]\n",
    "\n",
    "plot(x_axis, y_axis, xlims=(-10, 3), ylims=(0, 9))\n",
    "plot!(x_axis, y_axis, seriestype=:scatter)\n",
    "\n",
    "title!(\"Over the whole supply chain\")\n",
    "xlabel!(\"Ecologically Safe\")\n",
    "ylabel!(\"Socially Just\")"
   ]
  },
  {
   "cell_type": "code",
   "execution_count": 71,
   "id": "db3b335a",
   "metadata": {},
   "outputs": [
    {
     "data": {
      "text/html": [
       "<div><div style = \"float: left;\"><span>30×16 DataFrame</span></div><div style = \"float: right;\"><span style = \"font-style: italic;\">5 rows omitted</span></div><div style = \"clear: both;\"></div></div><div class = \"data-frame\" style = \"overflow-x: scroll;\"><table class = \"data-frame\" style = \"margin-bottom: 6px;\"><thead><tr class = \"header\"><th class = \"rowNumber\" style = \"font-weight: bold; text-align: right;\">Row</th><th style = \"text-align: left;\">country</th><th style = \"text-align: left;\">Li</th><th style = \"text-align: left;\">Co</th><th style = \"text-align: left;\">Mn</th><th style = \"text-align: left;\">Ni</th><th style = \"text-align: left;\">cathode</th><th style = \"text-align: left;\">graphite</th><th style = \"text-align: left;\">PP</th><th style = \"text-align: left;\">PE</th><th style = \"text-align: left;\">Cu</th><th style = \"text-align: left;\">Al</th><th style = \"text-align: left;\">cell</th><th style = \"text-align: left;\">PET</th><th style = \"text-align: left;\">electronics</th><th style = \"text-align: left;\">noncell</th><th style = \"text-align: left;\">battery</th></tr><tr class = \"subheader headerLastRow\"><th class = \"rowNumber\" style = \"font-weight: bold; text-align: right;\"></th><th title = \"String\" style = \"text-align: left;\">String</th><th title = \"Float64\" style = \"text-align: left;\">Float64</th><th title = \"Float64\" style = \"text-align: left;\">Float64</th><th title = \"Float64\" style = \"text-align: left;\">Float64</th><th title = \"Float64\" style = \"text-align: left;\">Float64</th><th title = \"Float64\" style = \"text-align: left;\">Float64</th><th title = \"Float64\" style = \"text-align: left;\">Float64</th><th title = \"Float64\" style = \"text-align: left;\">Float64</th><th title = \"Float64\" style = \"text-align: left;\">Float64</th><th title = \"Float64\" style = \"text-align: left;\">Float64</th><th title = \"Float64\" style = \"text-align: left;\">Float64</th><th title = \"Float64\" style = \"text-align: left;\">Float64</th><th title = \"Float64\" style = \"text-align: left;\">Float64</th><th title = \"Float64\" style = \"text-align: left;\">Float64</th><th title = \"Float64\" style = \"text-align: left;\">Float64</th><th title = \"Float64\" style = \"text-align: left;\">Float64</th></tr></thead><tbody><tr><td class = \"rowNumber\" style = \"font-weight: bold; text-align: right;\">1</td><td style = \"text-align: left;\">Argentina</td><td style = \"text-align: right;\">6200.0</td><td style = \"text-align: right;\">0.0</td><td style = \"text-align: right;\">0.0</td><td style = \"text-align: right;\">0.0</td><td style = \"text-align: right;\">0.0</td><td style = \"text-align: right;\">0.0</td><td style = \"text-align: right;\">0.0</td><td style = \"text-align: right;\">0.0</td><td style = \"text-align: right;\">0.0</td><td style = \"text-align: right;\">0.0</td><td style = \"text-align: right;\">0.0</td><td style = \"text-align: right;\">0.0</td><td style = \"text-align: right;\">0.0</td><td style = \"text-align: right;\">0.0</td><td style = \"text-align: right;\">0.0</td></tr><tr><td class = \"rowNumber\" style = \"font-weight: bold; text-align: right;\">2</td><td style = \"text-align: left;\">Australia</td><td style = \"text-align: right;\">0.0</td><td style = \"text-align: right;\">0.0</td><td style = \"text-align: right;\">0.0</td><td style = \"text-align: right;\">0.0</td><td style = \"text-align: right;\">0.0</td><td style = \"text-align: right;\">0.0</td><td style = \"text-align: right;\">0.0</td><td style = \"text-align: right;\">0.0</td><td style = \"text-align: right;\">0.0</td><td style = \"text-align: right;\">0.0</td><td style = \"text-align: right;\">0.0</td><td style = \"text-align: right;\">0.0</td><td style = \"text-align: right;\">0.0</td><td style = \"text-align: right;\">0.0</td><td style = \"text-align: right;\">0.0</td></tr><tr><td class = \"rowNumber\" style = \"font-weight: bold; text-align: right;\">3</td><td style = \"text-align: left;\">Brazil</td><td style = \"text-align: right;\">2200.0</td><td style = \"text-align: right;\">0.0</td><td style = \"text-align: right;\">0.0</td><td style = \"text-align: right;\">0.0</td><td style = \"text-align: right;\">0.0</td><td style = \"text-align: right;\">1.45519e-11</td><td style = \"text-align: right;\">0.0</td><td style = \"text-align: right;\">0.0</td><td style = \"text-align: right;\">0.0</td><td style = \"text-align: right;\">0.0</td><td style = \"text-align: right;\">0.0</td><td style = \"text-align: right;\">0.0</td><td style = \"text-align: right;\">0.0</td><td style = \"text-align: right;\">0.0</td><td style = \"text-align: right;\">0.0</td></tr><tr><td class = \"rowNumber\" style = \"font-weight: bold; text-align: right;\">4</td><td style = \"text-align: left;\">Canada</td><td style = \"text-align: right;\">500.0</td><td style = \"text-align: right;\">0.0</td><td style = \"text-align: right;\">0.0</td><td style = \"text-align: right;\">0.0</td><td style = \"text-align: right;\">0.0</td><td style = \"text-align: right;\">15000.0</td><td style = \"text-align: right;\">0.0</td><td style = \"text-align: right;\">0.0</td><td style = \"text-align: right;\">0.0</td><td style = \"text-align: right;\">0.0</td><td style = \"text-align: right;\">0.0</td><td style = \"text-align: right;\">0.0</td><td style = \"text-align: right;\">0.0</td><td style = \"text-align: right;\">0.0</td><td style = \"text-align: right;\">0.0</td></tr><tr><td class = \"rowNumber\" style = \"font-weight: bold; text-align: right;\">5</td><td style = \"text-align: left;\">Chile</td><td style = \"text-align: right;\">17366.8</td><td style = \"text-align: right;\">0.0</td><td style = \"text-align: right;\">0.0</td><td style = \"text-align: right;\">0.0</td><td style = \"text-align: right;\">0.0</td><td style = \"text-align: right;\">0.0</td><td style = \"text-align: right;\">0.0</td><td style = \"text-align: right;\">0.0</td><td style = \"text-align: right;\">0.0</td><td style = \"text-align: right;\">0.0</td><td style = \"text-align: right;\">0.0</td><td style = \"text-align: right;\">0.0</td><td style = \"text-align: right;\">0.0</td><td style = \"text-align: right;\">0.0</td><td style = \"text-align: right;\">0.0</td></tr><tr><td class = \"rowNumber\" style = \"font-weight: bold; text-align: right;\">6</td><td style = \"text-align: left;\">China</td><td style = \"text-align: right;\">19000.0</td><td style = \"text-align: right;\">0.0</td><td style = \"text-align: right;\">0.0</td><td style = \"text-align: right;\">0.0</td><td style = \"text-align: right;\">0.0</td><td style = \"text-align: right;\">11978.2</td><td style = \"text-align: right;\">0.0</td><td style = \"text-align: right;\">0.0</td><td style = \"text-align: right;\">0.0</td><td style = \"text-align: right;\">13620.5</td><td style = \"text-align: right;\">0.0</td><td style = \"text-align: right;\">0.0</td><td style = \"text-align: right;\">0.0</td><td style = \"text-align: right;\">0.0</td><td style = \"text-align: right;\">0.0</td></tr><tr><td class = \"rowNumber\" style = \"font-weight: bold; text-align: right;\">7</td><td style = \"text-align: left;\">Colombia</td><td style = \"text-align: right;\">0.0</td><td style = \"text-align: right;\">0.0</td><td style = \"text-align: right;\">0.0</td><td style = \"text-align: right;\">0.0</td><td style = \"text-align: right;\">0.0</td><td style = \"text-align: right;\">0.0</td><td style = \"text-align: right;\">0.0</td><td style = \"text-align: right;\">0.0</td><td style = \"text-align: right;\">0.0</td><td style = \"text-align: right;\">0.0</td><td style = \"text-align: right;\">0.0</td><td style = \"text-align: right;\">0.0</td><td style = \"text-align: right;\">0.0</td><td style = \"text-align: right;\">0.0</td><td style = \"text-align: right;\">0.0</td></tr><tr><td class = \"rowNumber\" style = \"font-weight: bold; text-align: right;\">8</td><td style = \"text-align: left;\">Congo</td><td style = \"text-align: right;\">0.0</td><td style = \"text-align: right;\">66008.9</td><td style = \"text-align: right;\">0.0</td><td style = \"text-align: right;\">0.0</td><td style = \"text-align: right;\">0.0</td><td style = \"text-align: right;\">0.0</td><td style = \"text-align: right;\">0.0</td><td style = \"text-align: right;\">0.0</td><td style = \"text-align: right;\">0.0</td><td style = \"text-align: right;\">0.0</td><td style = \"text-align: right;\">0.0</td><td style = \"text-align: right;\">0.0</td><td style = \"text-align: right;\">0.0</td><td style = \"text-align: right;\">0.0</td><td style = \"text-align: right;\">0.0</td></tr><tr><td class = \"rowNumber\" style = \"font-weight: bold; text-align: right;\">9</td><td style = \"text-align: left;\">Finland</td><td style = \"text-align: right;\">0.0</td><td style = \"text-align: right;\">0.0</td><td style = \"text-align: right;\">0.0</td><td style = \"text-align: right;\">0.0</td><td style = \"text-align: right;\">0.0</td><td style = \"text-align: right;\">0.0</td><td style = \"text-align: right;\">0.0</td><td style = \"text-align: right;\">0.0</td><td style = \"text-align: right;\">0.0</td><td style = \"text-align: right;\">0.0</td><td style = \"text-align: right;\">0.0</td><td style = \"text-align: right;\">0.0</td><td style = \"text-align: right;\">0.0</td><td style = \"text-align: right;\">0.0</td><td style = \"text-align: right;\">0.0</td></tr><tr><td class = \"rowNumber\" style = \"font-weight: bold; text-align: right;\">10</td><td style = \"text-align: left;\">France</td><td style = \"text-align: right;\">0.0</td><td style = \"text-align: right;\">0.0</td><td style = \"text-align: right;\">0.0</td><td style = \"text-align: right;\">0.0</td><td style = \"text-align: right;\">0.0</td><td style = \"text-align: right;\">0.0</td><td style = \"text-align: right;\">0.0</td><td style = \"text-align: right;\">0.0</td><td style = \"text-align: right;\">0.0</td><td style = \"text-align: right;\">0.0</td><td style = \"text-align: right;\">0.0</td><td style = \"text-align: right;\">0.0</td><td style = \"text-align: right;\">0.0</td><td style = \"text-align: right;\">0.0</td><td style = \"text-align: right;\">0.0</td></tr><tr><td class = \"rowNumber\" style = \"font-weight: bold; text-align: right;\">11</td><td style = \"text-align: left;\">Germany</td><td style = \"text-align: right;\">0.0</td><td style = \"text-align: right;\">0.0</td><td style = \"text-align: right;\">0.0</td><td style = \"text-align: right;\">0.0</td><td style = \"text-align: right;\">0.0</td><td style = \"text-align: right;\">250.0</td><td style = \"text-align: right;\">0.0</td><td style = \"text-align: right;\">0.0</td><td style = \"text-align: right;\">0.0</td><td style = \"text-align: right;\">0.0</td><td style = \"text-align: right;\">0.0</td><td style = \"text-align: right;\">0.0</td><td style = \"text-align: right;\">0.0</td><td style = \"text-align: right;\">0.0</td><td style = \"text-align: right;\">0.0</td></tr><tr><td class = \"rowNumber\" style = \"font-weight: bold; text-align: right;\">12</td><td style = \"text-align: left;\">India</td><td style = \"text-align: right;\">0.0</td><td style = \"text-align: right;\">0.0</td><td style = \"text-align: right;\">0.0</td><td style = \"text-align: right;\">0.0</td><td style = \"text-align: right;\">0.0</td><td style = \"text-align: right;\">8700.0</td><td style = \"text-align: right;\">0.0</td><td style = \"text-align: right;\">0.0</td><td style = \"text-align: right;\">0.0</td><td style = \"text-align: right;\">0.0</td><td style = \"text-align: right;\">0.0</td><td style = \"text-align: right;\">0.0</td><td style = \"text-align: right;\">0.0</td><td style = \"text-align: right;\">0.0</td><td style = \"text-align: right;\">0.0</td></tr><tr><td class = \"rowNumber\" style = \"font-weight: bold; text-align: right;\">13</td><td style = \"text-align: left;\">Indonesia</td><td style = \"text-align: right;\">0.0</td><td style = \"text-align: right;\">0.0</td><td style = \"text-align: right;\">0.0</td><td style = \"text-align: right;\">0.0</td><td style = \"text-align: right;\">0.0</td><td style = \"text-align: right;\">0.0</td><td style = \"text-align: right;\">0.0</td><td style = \"text-align: right;\">0.0</td><td style = \"text-align: right;\">0.0</td><td style = \"text-align: right;\">0.0</td><td style = \"text-align: right;\">0.0</td><td style = \"text-align: right;\">0.0</td><td style = \"text-align: right;\">0.0</td><td style = \"text-align: right;\">0.0</td><td style = \"text-align: right;\">0.0</td></tr><tr><td style = \"text-align: right;\">&vellip;</td><td style = \"text-align: right;\">&vellip;</td><td style = \"text-align: right;\">&vellip;</td><td style = \"text-align: right;\">&vellip;</td><td style = \"text-align: right;\">&vellip;</td><td style = \"text-align: right;\">&vellip;</td><td style = \"text-align: right;\">&vellip;</td><td style = \"text-align: right;\">&vellip;</td><td style = \"text-align: right;\">&vellip;</td><td style = \"text-align: right;\">&vellip;</td><td style = \"text-align: right;\">&vellip;</td><td style = \"text-align: right;\">&vellip;</td><td style = \"text-align: right;\">&vellip;</td><td style = \"text-align: right;\">&vellip;</td><td style = \"text-align: right;\">&vellip;</td><td style = \"text-align: right;\">&vellip;</td><td style = \"text-align: right;\">&vellip;</td></tr><tr><td class = \"rowNumber\" style = \"font-weight: bold; text-align: right;\">19</td><td style = \"text-align: left;\">Norway</td><td style = \"text-align: right;\">0.0</td><td style = \"text-align: right;\">0.0</td><td style = \"text-align: right;\">0.0</td><td style = \"text-align: right;\">0.0</td><td style = \"text-align: right;\">0.0</td><td style = \"text-align: right;\">10000.0</td><td style = \"text-align: right;\">0.0</td><td style = \"text-align: right;\">0.0</td><td style = \"text-align: right;\">0.0</td><td style = \"text-align: right;\">0.0</td><td style = \"text-align: right;\">0.0</td><td style = \"text-align: right;\">0.0</td><td style = \"text-align: right;\">0.0</td><td style = \"text-align: right;\">0.0</td><td style = \"text-align: right;\">0.0</td></tr><tr><td class = \"rowNumber\" style = \"font-weight: bold; text-align: right;\">20</td><td style = \"text-align: left;\">Peru</td><td style = \"text-align: right;\">0.0</td><td style = \"text-align: right;\">0.0</td><td style = \"text-align: right;\">0.0</td><td style = \"text-align: right;\">0.0</td><td style = \"text-align: right;\">0.0</td><td style = \"text-align: right;\">0.0</td><td style = \"text-align: right;\">0.0</td><td style = \"text-align: right;\">0.0</td><td style = \"text-align: right;\">0.0</td><td style = \"text-align: right;\">0.0</td><td style = \"text-align: right;\">0.0</td><td style = \"text-align: right;\">0.0</td><td style = \"text-align: right;\">0.0</td><td style = \"text-align: right;\">0.0</td><td style = \"text-align: right;\">0.0</td></tr><tr><td class = \"rowNumber\" style = \"font-weight: bold; text-align: right;\">21</td><td style = \"text-align: left;\">Philippines</td><td style = \"text-align: right;\">0.0</td><td style = \"text-align: right;\">1.45519e-11</td><td style = \"text-align: right;\">0.0</td><td style = \"text-align: right;\">0.0</td><td style = \"text-align: right;\">0.0</td><td style = \"text-align: right;\">0.0</td><td style = \"text-align: right;\">0.0</td><td style = \"text-align: right;\">0.0</td><td style = \"text-align: right;\">0.0</td><td style = \"text-align: right;\">0.0</td><td style = \"text-align: right;\">0.0</td><td style = \"text-align: right;\">0.0</td><td style = \"text-align: right;\">0.0</td><td style = \"text-align: right;\">0.0</td><td style = \"text-align: right;\">0.0</td></tr><tr><td class = \"rowNumber\" style = \"font-weight: bold; text-align: right;\">22</td><td style = \"text-align: left;\">Portugal</td><td style = \"text-align: right;\">600.0</td><td style = \"text-align: right;\">0.0</td><td style = \"text-align: right;\">0.0</td><td style = \"text-align: right;\">0.0</td><td style = \"text-align: right;\">0.0</td><td style = \"text-align: right;\">0.0</td><td style = \"text-align: right;\">0.0</td><td style = \"text-align: right;\">0.0</td><td style = \"text-align: right;\">0.0</td><td style = \"text-align: right;\">0.0</td><td style = \"text-align: right;\">0.0</td><td style = \"text-align: right;\">0.0</td><td style = \"text-align: right;\">0.0</td><td style = \"text-align: right;\">0.0</td><td style = \"text-align: right;\">0.0</td></tr><tr><td class = \"rowNumber\" style = \"font-weight: bold; text-align: right;\">23</td><td style = \"text-align: left;\">Russia</td><td style = \"text-align: right;\">0.0</td><td style = \"text-align: right;\">0.0</td><td style = \"text-align: right;\">0.0</td><td style = \"text-align: right;\">51885.8</td><td style = \"text-align: right;\">0.0</td><td style = \"text-align: right;\">15000.0</td><td style = \"text-align: right;\">0.0</td><td style = \"text-align: right;\">0.0</td><td style = \"text-align: right;\">0.0</td><td style = \"text-align: right;\">0.0</td><td style = \"text-align: right;\">0.0</td><td style = \"text-align: right;\">0.0</td><td style = \"text-align: right;\">0.0</td><td style = \"text-align: right;\">0.0</td><td style = \"text-align: right;\">0.0</td></tr><tr><td class = \"rowNumber\" style = \"font-weight: bold; text-align: right;\">24</td><td style = \"text-align: left;\">Saudi arabia</td><td style = \"text-align: right;\">0.0</td><td style = \"text-align: right;\">0.0</td><td style = \"text-align: right;\">0.0</td><td style = \"text-align: right;\">0.0</td><td style = \"text-align: right;\">0.0</td><td style = \"text-align: right;\">0.0</td><td style = \"text-align: right;\">0.0</td><td style = \"text-align: right;\">0.0</td><td style = \"text-align: right;\">0.0</td><td style = \"text-align: right;\">0.0</td><td style = \"text-align: right;\">0.0</td><td style = \"text-align: right;\">0.0</td><td style = \"text-align: right;\">0.0</td><td style = \"text-align: right;\">0.0</td><td style = \"text-align: right;\">0.0</td></tr><tr><td class = \"rowNumber\" style = \"font-weight: bold; text-align: right;\">25</td><td style = \"text-align: left;\">South Africa</td><td style = \"text-align: right;\">0.0</td><td style = \"text-align: right;\">0.0</td><td style = \"text-align: right;\">0.0</td><td style = \"text-align: right;\">0.0</td><td style = \"text-align: right;\">0.0</td><td style = \"text-align: right;\">0.0</td><td style = \"text-align: right;\">0.0</td><td style = \"text-align: right;\">0.0</td><td style = \"text-align: right;\">0.0</td><td style = \"text-align: right;\">0.0</td><td style = \"text-align: right;\">0.0</td><td style = \"text-align: right;\">0.0</td><td style = \"text-align: right;\">0.0</td><td style = \"text-align: right;\">0.0</td><td style = \"text-align: right;\">0.0</td></tr><tr><td class = \"rowNumber\" style = \"font-weight: bold; text-align: right;\">26</td><td style = \"text-align: left;\">South korea</td><td style = \"text-align: right;\">0.0</td><td style = \"text-align: right;\">0.0</td><td style = \"text-align: right;\">1250.0</td><td style = \"text-align: right;\">0.0</td><td style = \"text-align: right;\">123151.0</td><td style = \"text-align: right;\">0.0</td><td style = \"text-align: right;\">4975.8</td><td style = \"text-align: right;\">1243.95</td><td style = \"text-align: right;\">0.0</td><td style = \"text-align: right;\">0.0</td><td style = \"text-align: right;\">3.10987e5</td><td style = \"text-align: right;\">2144.74</td><td style = \"text-align: right;\">0.0</td><td style = \"text-align: right;\">428948.0</td><td style = \"text-align: right;\">428948.0</td></tr><tr><td class = \"rowNumber\" style = \"font-weight: bold; text-align: right;\">27</td><td style = \"text-align: left;\">Turkey</td><td style = \"text-align: right;\">0.0</td><td style = \"text-align: right;\">0.0</td><td style = \"text-align: right;\">0.0</td><td style = \"text-align: right;\">0.0</td><td style = \"text-align: right;\">0.0</td><td style = \"text-align: right;\">2900.0</td><td style = \"text-align: right;\">0.0</td><td style = \"text-align: right;\">0.0</td><td style = \"text-align: right;\">0.0</td><td style = \"text-align: right;\">0.0</td><td style = \"text-align: right;\">0.0</td><td style = \"text-align: right;\">0.0</td><td style = \"text-align: right;\">0.0</td><td style = \"text-align: right;\">0.0</td><td style = \"text-align: right;\">0.0</td></tr><tr><td class = \"rowNumber\" style = \"font-weight: bold; text-align: right;\">28</td><td style = \"text-align: left;\">Ukraine</td><td style = \"text-align: right;\">0.0</td><td style = \"text-align: right;\">0.0</td><td style = \"text-align: right;\">63034.8</td><td style = \"text-align: right;\">0.0</td><td style = \"text-align: right;\">0.0</td><td style = \"text-align: right;\">3000.0</td><td style = \"text-align: right;\">0.0</td><td style = \"text-align: right;\">0.0</td><td style = \"text-align: right;\">0.0</td><td style = \"text-align: right;\">0.0</td><td style = \"text-align: right;\">0.0</td><td style = \"text-align: right;\">0.0</td><td style = \"text-align: right;\">0.0</td><td style = \"text-align: right;\">0.0</td><td style = \"text-align: right;\">0.0</td></tr><tr><td class = \"rowNumber\" style = \"font-weight: bold; text-align: right;\">29</td><td style = \"text-align: left;\">United Arab Emirates</td><td style = \"text-align: right;\">0.0</td><td style = \"text-align: right;\">0.0</td><td style = \"text-align: right;\">0.0</td><td style = \"text-align: right;\">0.0</td><td style = \"text-align: right;\">0.0</td><td style = \"text-align: right;\">0.0</td><td style = \"text-align: right;\">0.0</td><td style = \"text-align: right;\">0.0</td><td style = \"text-align: right;\">0.0</td><td style = \"text-align: right;\">0.0</td><td style = \"text-align: right;\">0.0</td><td style = \"text-align: right;\">0.0</td><td style = \"text-align: right;\">0.0</td><td style = \"text-align: right;\">0.0</td><td style = \"text-align: right;\">0.0</td></tr><tr><td class = \"rowNumber\" style = \"font-weight: bold; text-align: right;\">30</td><td style = \"text-align: left;\">United States</td><td style = \"text-align: right;\">900.0</td><td style = \"text-align: right;\">0.0</td><td style = \"text-align: right;\">0.0</td><td style = \"text-align: right;\">14000.0</td><td style = \"text-align: right;\">0.0</td><td style = \"text-align: right;\">0.0</td><td style = \"text-align: right;\">0.0</td><td style = \"text-align: right;\">0.0</td><td style = \"text-align: right;\">29543.8</td><td style = \"text-align: right;\">43601.2</td><td style = \"text-align: right;\">0.0</td><td style = \"text-align: right;\">0.0</td><td style = \"text-align: right;\">1715.79</td><td style = \"text-align: right;\">0.0</td><td style = \"text-align: right;\">0.0</td></tr></tbody></table></div>"
      ],
      "text/latex": [
       "\\begin{tabular}{r|cccccccc}\n",
       "\t& country & Li & Co & Mn & Ni & cathode & graphite & \\\\\n",
       "\t\\hline\n",
       "\t& String & Float64 & Float64 & Float64 & Float64 & Float64 & Float64 & \\\\\n",
       "\t\\hline\n",
       "\t1 & Argentina & 6200.0 & 0.0 & 0.0 & 0.0 & 0.0 & 0.0 & $\\dots$ \\\\\n",
       "\t2 & Australia & 0.0 & 0.0 & 0.0 & 0.0 & 0.0 & 0.0 & $\\dots$ \\\\\n",
       "\t3 & Brazil & 2200.0 & 0.0 & 0.0 & 0.0 & 0.0 & 1.45519e-11 & $\\dots$ \\\\\n",
       "\t4 & Canada & 500.0 & 0.0 & 0.0 & 0.0 & 0.0 & 15000.0 & $\\dots$ \\\\\n",
       "\t5 & Chile & 17366.8 & 0.0 & 0.0 & 0.0 & 0.0 & 0.0 & $\\dots$ \\\\\n",
       "\t6 & China & 19000.0 & 0.0 & 0.0 & 0.0 & 0.0 & 11978.2 & $\\dots$ \\\\\n",
       "\t7 & Colombia & 0.0 & 0.0 & 0.0 & 0.0 & 0.0 & 0.0 & $\\dots$ \\\\\n",
       "\t8 & Congo & 0.0 & 66008.9 & 0.0 & 0.0 & 0.0 & 0.0 & $\\dots$ \\\\\n",
       "\t9 & Finland & 0.0 & 0.0 & 0.0 & 0.0 & 0.0 & 0.0 & $\\dots$ \\\\\n",
       "\t10 & France & 0.0 & 0.0 & 0.0 & 0.0 & 0.0 & 0.0 & $\\dots$ \\\\\n",
       "\t11 & Germany & 0.0 & 0.0 & 0.0 & 0.0 & 0.0 & 250.0 & $\\dots$ \\\\\n",
       "\t12 & India & 0.0 & 0.0 & 0.0 & 0.0 & 0.0 & 8700.0 & $\\dots$ \\\\\n",
       "\t13 & Indonesia & 0.0 & 0.0 & 0.0 & 0.0 & 0.0 & 0.0 & $\\dots$ \\\\\n",
       "\t14 & Iran & 0.0 & 0.0 & 0.0 & 0.0 & 0.0 & 0.0 & $\\dots$ \\\\\n",
       "\t15 & Japan & 0.0 & 0.0 & 0.0 & 0.0 & 0.0 & 0.0 & $\\dots$ \\\\\n",
       "\t16 & Kazakhstan & 0.0 & 0.0 & 0.0 & 0.0 & 0.0 & 0.0 & $\\dots$ \\\\\n",
       "\t17 & Malaysia & 0.0 & 0.0 & 0.0 & 0.0 & 0.0 & 0.0 & $\\dots$ \\\\\n",
       "\t18 & Mexico & 400.0 & 0.0 & 0.0 & 0.0 & 0.0 & 1900.0 & $\\dots$ \\\\\n",
       "\t19 & Norway & 0.0 & 0.0 & 0.0 & 0.0 & 0.0 & 10000.0 & $\\dots$ \\\\\n",
       "\t20 & Peru & 0.0 & 0.0 & 0.0 & 0.0 & 0.0 & 0.0 & $\\dots$ \\\\\n",
       "\t21 & Philippines & 0.0 & 1.45519e-11 & 0.0 & 0.0 & 0.0 & 0.0 & $\\dots$ \\\\\n",
       "\t22 & Portugal & 600.0 & 0.0 & 0.0 & 0.0 & 0.0 & 0.0 & $\\dots$ \\\\\n",
       "\t23 & Russia & 0.0 & 0.0 & 0.0 & 51885.8 & 0.0 & 15000.0 & $\\dots$ \\\\\n",
       "\t24 & Saudi arabia & 0.0 & 0.0 & 0.0 & 0.0 & 0.0 & 0.0 & $\\dots$ \\\\\n",
       "\t25 & South Africa & 0.0 & 0.0 & 0.0 & 0.0 & 0.0 & 0.0 & $\\dots$ \\\\\n",
       "\t26 & South korea & 0.0 & 0.0 & 1250.0 & 0.0 & 123151.0 & 0.0 & $\\dots$ \\\\\n",
       "\t27 & Turkey & 0.0 & 0.0 & 0.0 & 0.0 & 0.0 & 2900.0 & $\\dots$ \\\\\n",
       "\t28 & Ukraine & 0.0 & 0.0 & 63034.8 & 0.0 & 0.0 & 3000.0 & $\\dots$ \\\\\n",
       "\t29 & United Arab Emirates & 0.0 & 0.0 & 0.0 & 0.0 & 0.0 & 0.0 & $\\dots$ \\\\\n",
       "\t30 & United States & 900.0 & 0.0 & 0.0 & 14000.0 & 0.0 & 0.0 & $\\dots$ \\\\\n",
       "\\end{tabular}\n"
      ],
      "text/plain": [
       "\u001b[1m30×16 DataFrame\u001b[0m\n",
       "\u001b[1m Row \u001b[0m│\u001b[1m country              \u001b[0m\u001b[1m Li      \u001b[0m\u001b[1m Co              \u001b[0m\u001b[1m Mn      \u001b[0m\u001b[1m Ni      \u001b[0m\u001b[1m catho\u001b[0m ⋯\n",
       "     │\u001b[90m String               \u001b[0m\u001b[90m Float64 \u001b[0m\u001b[90m Float64         \u001b[0m\u001b[90m Float64 \u001b[0m\u001b[90m Float64 \u001b[0m\u001b[90m Float\u001b[0m ⋯\n",
       "─────┼──────────────────────────────────────────────────────────────────────────\n",
       "   1 │ Argentina              6200.0      0.0              0.0      0.0        ⋯\n",
       "   2 │ Australia                 0.0      0.0              0.0      0.0\n",
       "   3 │ Brazil                 2200.0      0.0              0.0      0.0\n",
       "   4 │ Canada                  500.0      0.0              0.0      0.0\n",
       "   5 │ Chile                 17366.8      0.0              0.0      0.0        ⋯\n",
       "   6 │ China                 19000.0      0.0              0.0      0.0\n",
       "   7 │ Colombia                  0.0      0.0              0.0      0.0\n",
       "   8 │ Congo                     0.0  66008.9              0.0      0.0\n",
       "   9 │ Finland                   0.0      0.0              0.0      0.0        ⋯\n",
       "  10 │ France                    0.0      0.0              0.0      0.0\n",
       "  11 │ Germany                   0.0      0.0              0.0      0.0\n",
       "  ⋮  │          ⋮               ⋮            ⋮            ⋮        ⋮        ⋮  ⋱\n",
       "  21 │ Philippines               0.0      1.45519e-11      0.0      0.0\n",
       "  22 │ Portugal                600.0      0.0              0.0      0.0        ⋯\n",
       "  23 │ Russia                    0.0      0.0              0.0  51885.8\n",
       "  24 │ Saudi arabia              0.0      0.0              0.0      0.0\n",
       "  25 │ South Africa              0.0      0.0              0.0      0.0\n",
       "  26 │ South korea               0.0      0.0           1250.0      0.0  12315 ⋯\n",
       "  27 │ Turkey                    0.0      0.0              0.0      0.0\n",
       "  28 │ Ukraine                   0.0      0.0          63034.8      0.0\n",
       "  29 │ United Arab Emirates      0.0      0.0              0.0      0.0\n",
       "  30 │ United States           900.0      0.0              0.0  14000.0        ⋯\n",
       "\u001b[36m                                                   11 columns and 9 rows omitted\u001b[0m"
      ]
     },
     "execution_count": 71,
     "metadata": {},
     "output_type": "execute_result"
    }
   ],
   "source": [
    "res_x = DataFrame(soc_opt_x, :auto)\n",
    "rename!(res_x, [\"x$i\" => proc for (i, proc) in enumerate(process)])\n",
    "insertcols!(res_x, 1, :country => countries)"
   ]
  },
  {
   "cell_type": "code",
   "execution_count": 72,
   "id": "9be94e3f",
   "metadata": {},
   "outputs": [
    {
     "data": {
      "text/plain": [
       "\"/Users/bourg/Desktop/soc_opt_0919.csv\""
      ]
     },
     "execution_count": 72,
     "metadata": {},
     "output_type": "execute_result"
    }
   ],
   "source": [
    "CSV.write(\"/Users/bourg/Desktop/soc_opt_0919.csv\", res_x) "
   ]
  },
  {
   "cell_type": "code",
   "execution_count": 73,
   "id": "b9048a1b",
   "metadata": {},
   "outputs": [
    {
     "data": {
      "text/plain": [
       "\"/Users/bourg/Desktop/eco_opt_0919.csv\""
      ]
     },
     "execution_count": 73,
     "metadata": {},
     "output_type": "execute_result"
    }
   ],
   "source": [
    "res_x = DataFrame(eco_opt_x, :auto)\n",
    "rename!(res_x, [\"x$i\" => proc for (i, proc) in enumerate(process)])\n",
    "insertcols!(res_x, 1, :country => countries)\n",
    "\n",
    "CSV.write(\"/Users/bourg/Desktop/eco_opt_0919.csv\", res_x) "
   ]
  },
  {
   "cell_type": "code",
   "execution_count": null,
   "id": "5267e882",
   "metadata": {},
   "outputs": [],
   "source": []
  }
 ],
 "metadata": {
  "kernelspec": {
   "display_name": "Julia 1.8.3",
   "language": "julia",
   "name": "julia-1.8"
  },
  "language_info": {
   "file_extension": ".jl",
   "mimetype": "application/julia",
   "name": "julia",
   "version": "1.8.3"
  }
 },
 "nbformat": 4,
 "nbformat_minor": 5
}
