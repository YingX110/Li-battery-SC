{
 "cells": [
  {
   "cell_type": "code",
   "execution_count": 66,
   "id": "5edf3ebd",
   "metadata": {},
   "outputs": [],
   "source": [
    "using JuMP, Gurobi\n",
    "using CSV, LinearAlgebra, DataFrames\n",
    "using Plots\n",
    "using DelimitedFiles\n",
    "using Random"
   ]
  },
  {
   "cell_type": "code",
   "execution_count": 67,
   "id": "cfd14e19",
   "metadata": {},
   "outputs": [],
   "source": [
    "# using Pkg\n",
    "# Pkg.add(\"HiGHS\")"
   ]
  },
  {
   "cell_type": "code",
   "execution_count": 68,
   "id": "04c3d8be",
   "metadata": {},
   "outputs": [],
   "source": [
    "path = \"C:/Users/bourg/.julia/environments/batterySC/Li-battery-SC/src/deterministic/data/\";"
   ]
  },
  {
   "cell_type": "code",
   "execution_count": 69,
   "id": "93d2a5ce",
   "metadata": {},
   "outputs": [],
   "source": [
    "#load social and ecological data and orgnize \n",
    "FL = repeat([Float64], inner=15)\n",
    "dtype = append!([String], FL);\n",
    "\n",
    "regional_EF = CSV.File(string(path,\"EF_SC.csv\"),header=1,delim=\",\", types=dtype) |> DataFrame    \n",
    "capacity = CSV.File(string(path,\"capacity1.csv\"),header=1,delim=\",\", types=dtype) |> DataFrame    \n",
    "distance = CSV.File(string(path,\"distance1.csv\"),header=1,delim=\",\") |> DataFrame \n",
    "LCA_model = CSV.File(string(path,\"LCA_model.csv\"),header=1,delim=\",\") |> DataFrame \n",
    "D_Dsoc = CSV.File(string(path,\"D_Dsoc1.csv\"),header=1,delim=\",\") |> DataFrame\n",
    "GDP = CSV.File(string(path,\"GDP.csv\"),header=1,delim=\",\") |> DataFrame\n",
    "emi_sink = CSV.File(string(path,\"emission_sink1.csv\"),header=1,delim=\",\") |> DataFrame;"
   ]
  },
  {
   "cell_type": "code",
   "execution_count": 70,
   "id": "5118b2b5",
   "metadata": {},
   "outputs": [],
   "source": [
    "global_sink = 1.099e10                        # global pub (ocean) CO2 sequestration (ton/yr)\n",
    "global_sink_tot = 2.236e10                  # global total (ocean+land) CO2 sequestration (ton/yr)\n",
    "global_emi = 3.53e10                          # global CO2 emission (ton/yr)\n",
    "global_gdp = 96882e9                          # 2021 global GDP ($/yr)\n",
    "es_ratio = global_sink/global_emi\n",
    "es_ratio_tot = global_sink_tot/global_emi\n",
    "emission_c = emi_sink[!, \"emission\"]          # national CO2 emission (ton/yr)\n",
    "sink_c = emi_sink[!, \"sink ton/yr\"]           # national CO2 sink (ton/yr)\n",
    "\n",
    "Dsoc = D_Dsoc[!, \"Dsoc ton/yr\"]           # national CO2 sink (ton/yr)\n",
    "\n",
    "EF_trans = 1.005/10000                        # ton CO2/km*ton (The average freight truck in the U.S. emits 161.8 grams of CO2 per ton-mile)\n",
    "process = LCA_model[!,\"process\"]\n",
    "countries = capacity[!,\"country\"]\n",
    "ncty = size(countries,1)                          # No. of countries\n",
    "nproc = size(process,1);                          # No. of processes \n",
    "\n",
    "mkt_loc = findfirst(isequal(\"United States\"), countries)\n",
    "mkt_proc = findfirst(isequal(\"battery\"), process)\n",
    "\n",
    "# seperate model\n",
    "cathode = collect(1:4)\n",
    "cell = collect(5:10)\n",
    "noncell = [12,13]\n",
    "battery = [11,14]\n",
    "scaler = LCA_model[!,\"scaler\"]\n",
    "price = LCA_model[!,\"price (usd/ton product)\"]\n",
    "vGDP = GDP[!,\"GDP usd\"]\n",
    "penalty = 5; # ton/yr;"
   ]
  },
  {
   "cell_type": "code",
   "execution_count": 6,
   "id": "8b703446",
   "metadata": {},
   "outputs": [],
   "source": [
    "# scen_eff = CSV.File(string(path,\"Scen_Efficiency2.csv\"), header=1, delim=\",\") |> DataFrame\n",
    "# scen_eff = Matrix(scen_eff)[:, 2:end]\n",
    "scen_eff = CSV.File(\"C:/Users/bourg/.julia/environments/batterySC/Li-battery-SC/data/Scenarios/feasible_scen.csv\", header=1, delim=\",\") |> DataFrame\n",
    "scen_eff = Matrix(scen_eff)[:, 2:end]\n",
    "\n",
    "scen_d = CSV.File(string(path,\"Scen_Demand.csv\"), header=1, delim=\",\") |> DataFrame\n",
    "scen_d = Matrix(scen_d)[2:end]\n",
    "scen_dmd = rand(scen_d, 19)\n",
    "\n",
    "\n",
    "Omega = ones(Float64, ncty, 19, nproc)  # Omega[ncty,nscena,nproc]\n",
    "Omega[:, :, 1] = scen_eff\n",
    "num_omega = size(Omega)[2];"
   ]
  },
  {
   "cell_type": "code",
   "execution_count": 7,
   "id": "d326e8f0",
   "metadata": {},
   "outputs": [],
   "source": [
    "up_cath = scaler[1:4] * scaler[5] * scaler[11]\n",
    "up_cell = scaler[5:10] * scaler[11]\n",
    "cell_sef = scaler[11]\n",
    "up_noncell = scaler[12:13] * scaler[14]\n",
    "noncell_sef = scaler[14]\n",
    "battery_sef = scaler[15];"
   ]
  },
  {
   "cell_type": "code",
   "execution_count": 352,
   "id": "59d20f44",
   "metadata": {},
   "outputs": [],
   "source": [
    "# IDX = collect(setdiff(Set(collect(1:50)), Set(list)))\n",
    "# scen_eff_new = scen_eff[:, IDX]\n",
    "# CSV.write(\"C:/Users/bourg/.julia/environments/batterySC/Li-battery-SC/data/Scenarios/feasible_scen.csv\", DataFrame(scen_eff_new, :auto))"
   ]
  },
  {
   "cell_type": "markdown",
   "id": "103e72e2",
   "metadata": {},
   "source": [
    "---"
   ]
  },
  {
   "cell_type": "markdown",
   "id": "3573e90d",
   "metadata": {},
   "source": [
    "### Solve Subproblem - Get Dual $\\pi$ & $\\alpha$"
   ]
  },
  {
   "cell_type": "code",
   "execution_count": 8,
   "id": "551a9acc",
   "metadata": {},
   "outputs": [
    {
     "data": {
      "text/plain": [
       "subprob (generic function with 1 method)"
      ]
     },
     "execution_count": 8,
     "metadata": {},
     "output_type": "execute_result"
    }
   ],
   "source": [
    "function subprob(x_hat, s) # s represents specific scenario \n",
    "    \n",
    "    model = Model(Gurobi.Optimizer)\n",
    "    set_silent(model)\n",
    "    @variable(model, y[1:ncty, 1:ncty, 1:nproc] >= 0)\n",
    "    @variable(model, unmeet >= 0)\n",
    "    \n",
    "    cstr_op = [@constraint(model, sum(y[i,j,k] for j in 1:ncty) <= Omega[i,s,k] * x_hat[i,k]) for k in 1:nproc for i in 1:ncty]  # ncty * nproc constraints\n",
    "    cstr_cth = [@constraint(model, sum(y[i,j,k] for i in 1:ncty) >= Omega[j,s,k] * x_hat[j,5]*scaler[k]) for k in cathode for j in 1:ncty]  # ncty * ncth constraints\n",
    "    cstr_cell = [@constraint(model, sum(y[i,j,k] for i in 1:ncty) >= Omega[j,s,k] * x_hat[j,11]*scaler[k]) for k in cell for j in 1:ncty]  # ncty * ncell constraints\n",
    "    cstr_noncell = [@constraint(model, sum(y[i,j,k] for i in 1:ncty) >= Omega[j,s,k] * x_hat[j,14]*scaler[k]) for k in noncell for j in 1:ncty]  # nnoncell * nproc constraints\n",
    "    cstr_battery = [@constraint(model, sum(y[i,j,k] for i in 1:ncty) >= Omega[j,s,k] * x_hat[j,15]*scaler[k]) for k in battery for j in 1:ncty]  # nbat * nproc constraints\n",
    "    cstr_fmk = [@constraint(model, sum(y[i,mkt_loc,mkt_proc] for i in 1:ncty) + unmeet == scen_dmd[s])]  # 1 constraint\n",
    "    cstr_fmk_o = [@constraint(model, sum(y[i,j,mkt_proc] for i in 1:ncty) == 0) for j in 1:ncty-1];  # ncty-1 constraint (accidently the final market (U.S.) locates at the last position in the vector which is 30th)\n",
    "    \n",
    "    \n",
    "    \n",
    "    ####################### \n",
    "    tranD = Vector{AffExpr}(undef, ncty)\n",
    "    for j in 1:ncty\n",
    "        arc_emi = 0\n",
    "        arc_seq = 0\n",
    "        for i in 1:ncty\n",
    "            amount = sum(y[i,j,k] for k in 1:nproc)\n",
    "            arc_emi += (amount * distance[!, 2:end][i,j] * EF_trans)\n",
    "            arc_seq += arc_emi * (sink_c[j]/emission_c[j] + es_ratio)\n",
    "        end\n",
    "#         tranD[j] = arc_emi - arc_seq\n",
    "        tranD[j] = arc_emi\n",
    "    end\n",
    "    \n",
    "    \n",
    "    \n",
    "    ####################### \n",
    "    @objective(model, Min, sum(tranD)+unmeet*penalty)\n",
    "    JuMP.optimize!(model)\n",
    "    \n",
    "    qy_hat = JuMP.objective_value(model)\n",
    "    sub_y = JuMP.value.(y)\n",
    "    sub_unmeet = JuMP.value.(unmeet)\n",
    "    \n",
    "    \n",
    "    ####################### \n",
    "    \n",
    "    op_pi = [getdual(con) for con in cstr_op]\n",
    "    cth_pi = [getdual(con) for con in cstr_cth]\n",
    "    cell_pi = [getdual(con) for con in cstr_cell]\n",
    "    noncell_pi = [getdual(con) for con in cstr_noncell]\n",
    "    battery_pi = [getdual(con) for con in cstr_battery]\n",
    "    fmk_alp = [getdual(con) for con in cstr_fmk]\n",
    "    fmko_alp = [getdual(con) for con in cstr_fmk_o]\n",
    "\n",
    "    Moppi = reshape(op_pi, ncty, nproc) .* Omega[:,s,:]\n",
    "    Mcthpi = reshape(cth_pi, ncty, length(cathode)) .* Omega[:,s,cathode] * (-1)\n",
    "    Mcellpi = reshape(cell_pi, ncty, length(cell)) .* Omega[:,s,cell] * (-1)\n",
    "    Mncellpi = reshape(noncell_pi, ncty, length(noncell)) .* Omega[:,s,noncell] * (-1)\n",
    "    Mbty = reshape(battery_pi, ncty, length(battery)) .* Omega[:,s,battery] * (-1)\n",
    "    Mtx_PI = hcat(Mcthpi, Mcellpi, Mncellpi, Mbty, zeros(ncty)) + Moppi\n",
    "    Mtx_ALP = hcat(zeros(ncty, nproc-1), vcat(fmko_alp, fmk_alp*(scen_dmd[s]-sub_unmeet)));\n",
    "\n",
    "    \n",
    "    #######################\n",
    "    result = Dict([\"qyhat\"=>qy_hat, \"y_opt\"=>sub_y, \"unmeet_opt\"=>sub_unmeet, \"pi\"=>Mtx_PI, \"alp\"=>Mtx_ALP]);\n",
    "    return result\n",
    "    \n",
    "end"
   ]
  },
  {
   "cell_type": "code",
   "execution_count": 9,
   "id": "dbc0c755",
   "metadata": {},
   "outputs": [
    {
     "data": {
      "text/plain": [
       "masterprob (generic function with 1 method)"
      ]
     },
     "execution_count": 9,
     "metadata": {},
     "output_type": "execute_result"
    }
   ],
   "source": [
    "function masterprob(cuts)\n",
    "    model = Model(Gurobi.Optimizer)\n",
    "    set_silent(model)\n",
    "    @variable(model, x[1:ncty, 1:nproc] >= 0)\n",
    "    @variable(model, theta >= M)\n",
    "    \n",
    "    for k in 1:nproc\n",
    "        for i in 1:ncty\n",
    "            @constraint(model, x[i,k] <= 0.6*capacity[!, 2:end][i,k])\n",
    "        end\n",
    "    end\n",
    "\n",
    "    x_cth = [@constraint(model, sum(x[i,k] for i in 1:ncty) == sum(x[i,5] for i in 1:ncty) * scaler[k]) for k in cathode]\n",
    "    x_cell = [@constraint(model, sum(x[i,k] for i in 1:ncty) == sum(x[i,11] for i in 1:ncty) * scaler[k]) for k in cell]\n",
    "    x_noncell = [@constraint(model, sum(x[i,k] for i in 1:ncty) == sum(x[i,14] for i in 1:ncty) * scaler[k]) for k in noncell]\n",
    "    x_battery = [@constraint(model, sum(x[i,k] for i in 1:ncty) == sum(x[i,15] for i in 1:ncty) * scaler[k]) for k in battery];\n",
    "    \n",
    "\n",
    "    ###########\n",
    "    proD = (x .* Matrix(regional_EF[:,2:end])) * ones(nproc,1) \n",
    "\n",
    "    pro_sink = zeros(ncty, nproc)\n",
    "    for k in 1:nproc\n",
    "        for i in 1:ncty\n",
    "            pro_sink[i,k] = regional_EF[i, k+1] * (sink_c[i]/emission_c[i] + es_ratio)\n",
    "        end\n",
    "    end\n",
    "    proS = (x.*pro_sink)*ones(nproc,1) \n",
    "    \n",
    "    \n",
    "    if cuts != []\n",
    "        for cut in cuts\n",
    "            G = cut[\"gradient\"]\n",
    "            g = cut[\"intersection\"]\n",
    "            @constraint(model, sum(x .* G) + theta >= g)\n",
    "        end\n",
    "    end\n",
    "    \n",
    "    @objective(model, Min, sum(proD-proS)+theta)\n",
    "    JuMP.optimize!(model);\n",
    "    \n",
    "    x_hat = JuMP.value.(x)\n",
    "    theta_hat = JuMP.value.(theta)\n",
    "    z_lb = JuMP.objective_value(model)\n",
    "    \n",
    "    result = Dict([\"x_hat\"=>x_hat, \"z_lb\"=>z_lb])\n",
    "    return result\n",
    "end"
   ]
  },
  {
   "cell_type": "code",
   "execution_count": 10,
   "id": "0a50f159",
   "metadata": {},
   "outputs": [
    {
     "data": {
      "text/plain": [
       "add_cuts (generic function with 1 method)"
      ]
     },
     "execution_count": 10,
     "metadata": {},
     "output_type": "execute_result"
    }
   ],
   "source": [
    "function add_cuts(x)\n",
    "    G = [] # gradient\n",
    "    g = [] # intersection\n",
    "    qy = 0\n",
    "    \n",
    "    for s in 1:num_omega\n",
    "        res = subprob(x, s)        \n",
    "        gradient = -1 * res[\"pi\"]\n",
    "        push!(G, gradient)\n",
    "        push!(g, res[\"alp\"])\n",
    "        qy += res[\"qyhat\"]\n",
    "    end\n",
    "    \n",
    "    proD = (x .* Matrix(regional_EF[:,2:end])) * ones(nproc,1) \n",
    "    pro_sink = zeros(ncty, nproc)\n",
    "    for k in 1:nproc\n",
    "        for i in 1:ncty\n",
    "            pro_sink[i,k] = regional_EF[i, k+1] * (sink_c[i]/emission_c[i] + es_ratio)\n",
    "#             pro_sink[i,k] = (price[k]/vGDP[i]) * sink_c[i] + (price[k]/global_gdp) * global_sink\n",
    "        end\n",
    "    end\n",
    "    proS = (x.*pro_sink)*ones(nproc,1) \n",
    "    z_hat = sum(proD - proS) + qy/num_omega\n",
    "    Exp_G = sum(G) / num_omega\n",
    "    Exp_g = sum(g) / num_omega\n",
    "    \n",
    "    cut = Dict([\"gradient\"=>Exp_G, \"intersection\"=>Exp_g])\n",
    "    return cut, z_hat\n",
    "end"
   ]
  },
  {
   "cell_type": "code",
   "execution_count": 11,
   "id": "0e44c501",
   "metadata": {},
   "outputs": [
    {
     "data": {
      "text/plain": [
       "main (generic function with 1 method)"
      ]
     },
     "execution_count": 11,
     "metadata": {},
     "output_type": "execute_result"
    }
   ],
   "source": [
    "function main(toler)\n",
    "    i = 0\n",
    "    z_ub = 1e10\n",
    "    x_opt = 0\n",
    "    \n",
    "    cuts = []\n",
    "    res0 = masterprob(cuts)\n",
    "    x_hat = res0[\"x_hat\"]\n",
    "    z_lb = res0[\"z_lb\"]\n",
    "    \n",
    "    while (z_ub - z_lb) > toler * min(abs(z_ub), abs(z_lb))\n",
    "        new_cut, z_hat = add_cuts(x_hat)\n",
    "        if z_hat < z_ub\n",
    "            z_ub = z_hat\n",
    "            x_opt = x_hat\n",
    "        end\n",
    "        \n",
    "        push!(cuts, new_cut)\n",
    "        \n",
    "        res1 = masterprob(cuts)\n",
    "        z_lb = res1[\"z_lb\"]\n",
    "        x_hat = res1[\"x_hat\"]\n",
    "        \n",
    "        i += 1\n",
    "    end\n",
    "    \n",
    "    result = Dict([\"z_lb\"=>z_lb, \"z_ub\"=>z_ub, \"x_opt\"=>x_opt, \"iteration\"=>i])\n",
    "    return result\n",
    "    \n",
    "end"
   ]
  },
  {
   "cell_type": "markdown",
   "id": "a278e2b3",
   "metadata": {},
   "source": [
    "---"
   ]
  },
  {
   "cell_type": "code",
   "execution_count": 55,
   "id": "fea58fb7",
   "metadata": {},
   "outputs": [
    {
     "data": {
      "text/plain": [
       "-1.0e10"
      ]
     },
     "execution_count": 55,
     "metadata": {},
     "output_type": "execute_result"
    }
   ],
   "source": [
    "M = -1e10"
   ]
  },
  {
   "cell_type": "code",
   "execution_count": 56,
   "id": "895dc055",
   "metadata": {},
   "outputs": [
    {
     "name": "stdout",
     "output_type": "stream",
     "text": [
      "Academic license - for non-commercial use only - expires 2024-12-26\r\n"
     ]
    },
    {
     "data": {
      "text/plain": [
       "-1.0010606048071533e10"
      ]
     },
     "execution_count": 56,
     "metadata": {},
     "output_type": "execute_result"
    }
   ],
   "source": [
    "i = 0\n",
    "z_ub = 1e10\n",
    "x_opt = 0\n",
    "\n",
    "cuts = []\n",
    "res0 = masterprob(cuts)\n",
    "x_hat = res0[\"x_hat\"]\n",
    "z_lb = res0[\"z_lb\"]"
   ]
  },
  {
   "cell_type": "code",
   "execution_count": 57,
   "id": "a5c9e42a",
   "metadata": {},
   "outputs": [
    {
     "name": "stdout",
     "output_type": "stream",
     "text": [
      "Academic license - for non-commercial use only - expires 2024-12-26\r\n",
      "Academic license - for non-commercial use only - expires 2024-12-26\r\n",
      "Academic license - for non-commercial use only - expires 2024-12-26\r\n",
      "Academic license - for non-commercial use only - expires 2024-12-26\r\n",
      "Academic license - for non-commercial use only - expires 2024-12-26\r\n",
      "Academic license - for non-commercial use only - expires 2024-12-26\r\n",
      "Academic license - for non-commercial use only - expires 2024-12-26\r\n",
      "Academic license - for non-commercial use only - expires 2024-12-26\r\n",
      "Academic license - for non-commercial use only - expires 2024-12-26\r\n",
      "Academic license - for non-commercial use only - expires 2024-12-26\r\n",
      "Academic license - for non-commercial use only - expires 2024-12-26\r\n",
      "Academic license - for non-commercial use only - expires 2024-12-26\r\n",
      "Academic license - for non-commercial use only - expires 2024-12-26\r\n",
      "Academic license - for non-commercial use only - expires 2024-12-26\r\n",
      "Academic license - for non-commercial use only - expires 2024-12-26\r\n",
      "Academic license - for non-commercial use only - expires 2024-12-26\r\n",
      "Academic license - for non-commercial use only - expires 2024-12-26\r\n",
      "Academic license - for non-commercial use only - expires 2024-12-26\r\n",
      "Academic license - for non-commercial use only - expires 2024-12-26\r\n"
     ]
    },
    {
     "data": {
      "text/plain": [
       "(Dict(\"gradient\" => [264.34649514805807 375.6056939402044 … 146.95389653024955 21.14445294811133; 357.5839729285828 385.28886467620674 … 385.28886467620674 30.827623684113675; … ; 318.2311138192831 356.9223014484178 … 121.76705982347922 2.4610604563246286; 423.4914648870462 713.1330082999758 … 242.82252505009873 2.1052631578947367], \"intersection\" => [0.0 0.0 … 0.0 -36.362988297923664; 0.0 0.0 … 0.0 -27.17649083149291; … ; 0.0 0.0 … 0.0 -2.3834100597090213; 0.0 0.0 … 0.0 1.4860362434650704e6]), -2.9561768380671587e7)"
      ]
     },
     "execution_count": 57,
     "metadata": {},
     "output_type": "execute_result"
    }
   ],
   "source": [
    "new_cut, z_hat = add_cuts(x_hat)"
   ]
  },
  {
   "cell_type": "code",
   "execution_count": 58,
   "id": "c465ebba",
   "metadata": {},
   "outputs": [],
   "source": [
    "if z_hat < z_ub\n",
    "    z_ub = z_hat\n",
    "    x_opt = x_hat\n",
    "end\n",
    "\n",
    "push!(cuts, new_cut);"
   ]
  },
  {
   "cell_type": "code",
   "execution_count": 59,
   "id": "48d42cb8",
   "metadata": {},
   "outputs": [
    {
     "name": "stdout",
     "output_type": "stream",
     "text": [
      "Academic license - for non-commercial use only - expires 2024-12-26\r\n"
     ]
    }
   ],
   "source": [
    "model = Model(Gurobi.Optimizer)\n",
    "@variable(model, x[1:ncty, 1:nproc] >= 0)\n",
    "@variable(model, theta >= M)\n",
    "\n",
    "for k in 1:nproc\n",
    "    for i in 1:ncty\n",
    "        @constraint(model, x[i,k] <= 0.6*capacity[!, 2:end][i,k])\n",
    "    end\n",
    "end\n",
    "\n",
    "x_cth = [@constraint(model, sum(x[i,k] for i in 1:ncty) == sum(x[i,5] for i in 1:ncty) * scaler[k]) for k in cathode]\n",
    "x_cell = [@constraint(model, sum(x[i,k] for i in 1:ncty) == sum(x[i,11] for i in 1:ncty) * scaler[k]) for k in cell]\n",
    "x_noncell = [@constraint(model, sum(x[i,k] for i in 1:ncty) == sum(x[i,14] for i in 1:ncty) * scaler[k]) for k in noncell]\n",
    "x_battery = [@constraint(model, sum(x[i,k] for i in 1:ncty) == sum(x[i,15] for i in 1:ncty) * scaler[k]) for k in battery];\n",
    "\n",
    "\n",
    "###########\n",
    "proD = (x .* Matrix(regional_EF[:,2:end])) * ones(nproc,1) \n",
    "\n",
    "pro_sink = zeros(ncty, nproc)\n",
    "for k in 1:nproc\n",
    "    for i in 1:ncty\n",
    "        pro_sink[i,k] = regional_EF[i, k+1] * (sink_c[i]/emission_c[i] + es_ratio)\n",
    "    end\n",
    "end\n",
    "proS = (x.*pro_sink)*ones(nproc,1);"
   ]
  },
  {
   "cell_type": "code",
   "execution_count": 60,
   "id": "d0e685f5",
   "metadata": {},
   "outputs": [],
   "source": [
    "G = 0\n",
    "g = 0\n",
    "for cut in cuts\n",
    "    G = cut[\"gradient\"]\n",
    "    g = cut[\"intersection\"]\n",
    "end\n",
    "@constraint(model, sum(x .* G * ones(nproc,1)) + theta >= sum(g * ones(nproc,1)));"
   ]
  },
  {
   "cell_type": "code",
   "execution_count": 61,
   "id": "d1b41ddf",
   "metadata": {},
   "outputs": [],
   "source": [
    "@objective(model, Min, sum(proD-proS)+theta);"
   ]
  },
  {
   "cell_type": "code",
   "execution_count": 62,
   "id": "f780f660",
   "metadata": {},
   "outputs": [
    {
     "name": "stdout",
     "output_type": "stream",
     "text": [
      "Gurobi Optimizer version 9.1.2 build v9.1.2rc0 (win64)\r\n",
      "Thread count: 6 physical cores, 12 logical processors, using up to 12 threads\r\n",
      "Optimize a model with 465 rows, 451 columns and 1741 nonzeros\r\n",
      "Model fingerprint: 0xb0095abc\r\n",
      "Coefficient statistics:\r\n",
      "  Matrix range     [4e-03, 7e+02]\r\n",
      "  Objective range  [7e-03, 3e+02]\r\n",
      "  Bounds range     [1e+10, 1e+10]\r\n",
      "  RHS range        [1e+02, 6e+10]\r\n",
      "Warning: Model contains large rhs\r\n",
      "Warning: Model contains large bounds\r\n",
      "         Consider reformulating model or setting NumericFocus parameter\r\n",
      "         to avoid numerical issues.\r\n",
      "Presolve removed 450 rows and 273 columns\r\n",
      "Presolve time: 0.00s\r\n",
      "Presolved: 15 rows, 178 columns, 460 nonzeros\r\n",
      "\r\n",
      "Iteration    Objective       Primal Inf.    Dual Inf.      Time\r\n",
      "       0   -1.0094036e+10   5.476354e+07   0.000000e+00      0s\r\n",
      "      19   -6.6186475e+08   0.000000e+00   0.000000e+00      0s\r\n",
      "\r\n",
      "Solved in 19 iterations and 0.00 seconds\r\n",
      "Optimal objective -6.618647539e+08\r\n",
      "\r\n",
      "User-callback calls 53, time in user-callback 0.00 sec\r\n"
     ]
    }
   ],
   "source": [
    "JuMP.optimize!(model)"
   ]
  },
  {
   "cell_type": "code",
   "execution_count": null,
   "id": "7b916798",
   "metadata": {},
   "outputs": [],
   "source": []
  }
 ],
 "metadata": {
  "kernelspec": {
   "display_name": "Julia 1.8.3",
   "language": "julia",
   "name": "julia-1.8"
  },
  "language_info": {
   "file_extension": ".jl",
   "mimetype": "application/julia",
   "name": "julia",
   "version": "1.8.3"
  }
 },
 "nbformat": 4,
 "nbformat_minor": 5
}
