{
 "cells": [
  {
   "cell_type": "code",
   "execution_count": 1,
   "id": "5edf3ebd",
   "metadata": {},
   "outputs": [],
   "source": [
    "using JuMP, Gurobi\n",
    "using CSV, LinearAlgebra, DataFrames\n",
    "using Plots\n",
    "using DelimitedFiles\n",
    "using Random"
   ]
  },
  {
   "cell_type": "code",
   "execution_count": 2,
   "id": "04c3d8be",
   "metadata": {},
   "outputs": [],
   "source": [
    "path = \"C:/Users/bourg/.julia/environments/batterySC/Li-battery-SC/src/deterministic/data/\";"
   ]
  },
  {
   "cell_type": "code",
   "execution_count": 3,
   "id": "93d2a5ce",
   "metadata": {},
   "outputs": [],
   "source": [
    "#load social and ecological data and orgnize \n",
    "FL = repeat([Float64], inner=15)\n",
    "dtype = append!([String], FL);\n",
    "\n",
    "regional_EF = CSV.File(string(path,\"EF_SC.csv\"),header=1,delim=\",\", types=dtype) |> DataFrame    \n",
    "capacity = CSV.File(string(path,\"capacity1.csv\"),header=1,delim=\",\", types=dtype) |> DataFrame    \n",
    "distance = CSV.File(string(path,\"distance30.csv\"),header=1,delim=\",\") |> DataFrame \n",
    "LCA_model = CSV.File(string(path,\"LCA_model.csv\"),header=1,delim=\",\") |> DataFrame \n",
    "D_Dsoc = CSV.File(string(path,\"D_Dsoc.csv\"),header=1,delim=\",\") |> DataFrame\n",
    "emi_sink = CSV.File(string(path,\"emission_sink.csv\"),header=1,delim=\",\") |> DataFrame;"
   ]
  },
  {
   "cell_type": "code",
   "execution_count": 4,
   "id": "b032e1d9",
   "metadata": {},
   "outputs": [],
   "source": [
    "# distance[distance.Column1 .∈ countries, :]"
   ]
  },
  {
   "cell_type": "code",
   "execution_count": 5,
   "id": "5118b2b5",
   "metadata": {},
   "outputs": [],
   "source": [
    "global_sink = 1.099e10                        # global pub (ocean) CO2 sequestration (ton/yr)\n",
    "global_sink_tot = 2.236e10                  # global total (ocean+land) CO2 sequestration (ton/yr)\n",
    "global_emi = 3.53e10                          # global CO2 emission (ton/yr)\n",
    "global_gdp = 96882e9                          # 2021 global GDP ($/yr)\n",
    "es_ratio = global_sink/global_emi\n",
    "es_ratio_tot = global_sink_tot/global_emi\n",
    "\n",
    "emission_c = emi_sink[!, \"emission\"]          # national CO2 emission (ton/yr)\n",
    "sink_c = emi_sink[!, \"sink ton/yr\"] .* 0.6          # national CO2 sink (ton/yr)\n",
    "Dsoc = D_Dsoc[!, \"Dsoc ton/yr\"]           # national CO2 sink (ton/yr)\n",
    "\n",
    "EF_trans = 1.005/10000                        # ton CO2/km*ton (The average freight truck in the U.S. emits 161.8 grams of CO2 per ton-mile)\n",
    "process = LCA_model[!,\"process\"]\n",
    "countries = capacity[!,\"country\"]\n",
    "ncty = size(countries,1)                          # No. of countries\n",
    "nproc = size(process,1);                          # No. of processes \n",
    "\n",
    "mkt_loc = findfirst(isequal(\"United States\"), countries)\n",
    "mkt_proc = findfirst(isequal(\"battery\"), process)\n",
    "\n",
    "# seperate model\n",
    "cathode = collect(1:4)\n",
    "cell = collect(5:10)\n",
    "noncell = [12,13]\n",
    "battery = [11,14]\n",
    "scaler = LCA_model[!,\"scaler\"]\n",
    "penalty = 5; # ton/yr;"
   ]
  },
  {
   "cell_type": "code",
   "execution_count": 6,
   "id": "01cc716e",
   "metadata": {},
   "outputs": [],
   "source": [
    "scen_eff = CSV.File(string(path,\"Scenarios/FeaEff_15.csv\"), header=1, delim=\",\") |> DataFrame\n",
    "scen_eff = Matrix(scen_eff)[:, 2:end]\n",
    "\n",
    "scen_d = CSV.File(string(path,\"Scenarios/FeaDmd_15.csv\"), header=1, delim=\",\") |> DataFrame\n",
    "scen_dmd = Matrix(scen_d)\n",
    "\n",
    "num_omega = size(scen_eff)[2]\n",
    "Omega = ones(Float64, ncty, num_omega, nproc);  # Omega[ncty,nscena,nproc]\n",
    "Omega[:, :, 1] = scen_eff;\n",
    "\n",
    "# for k in 1:nproc\n",
    "#     Omega[:, :, k] = scen_eff;\n",
    "# end"
   ]
  },
  {
   "cell_type": "markdown",
   "id": "103e72e2",
   "metadata": {},
   "source": [
    "---"
   ]
  },
  {
   "cell_type": "markdown",
   "id": "3573e90d",
   "metadata": {},
   "source": [
    "### Solve Subproblem - Get Dual $\\pi$ & $\\alpha$"
   ]
  },
  {
   "cell_type": "code",
   "execution_count": 7,
   "id": "551a9acc",
   "metadata": {},
   "outputs": [
    {
     "data": {
      "text/plain": [
       "subprob (generic function with 1 method)"
      ]
     },
     "execution_count": 7,
     "metadata": {},
     "output_type": "execute_result"
    }
   ],
   "source": [
    "function subprob(x_hat, s) # s represents specific scenario     \n",
    "    \n",
    "    model = Model(Gurobi.Optimizer)\n",
    "    set_silent(model)\n",
    "    @variable(model, y[1:ncty, 1:ncty, 1:nproc] >= 0)\n",
    "    @variable(model, unmeet >= 0)\n",
    "\n",
    "    cstr_op = [@constraint(model, sum(y[i,j,k] for j in 1:ncty) <= Omega[i,s,k] * x_hat[i,k]) for k in 1:nproc for i in 1:ncty]\n",
    "    cstr_cth = [@constraint(model, sum(y[i,j,k] for i in 1:ncty) == Omega[j,s,k] * x_hat[j,5]*scaler[k]) for k in cathode for j in 1:ncty]\n",
    "    cstr_cell = [@constraint(model, sum(y[i,j,k] for i in 1:ncty) == Omega[j,s,k] * x_hat[j,11]*scaler[k]) for k in cell for j in 1:ncty]\n",
    "    cstr_noncell = [@constraint(model, sum(y[i,j,k] for i in 1:ncty) == Omega[j,s,k] * x_hat[j,14]*scaler[k]) for k in noncell for j in 1:ncty]\n",
    "    cstr_battery = [@constraint(model, sum(y[i,j,k] for i in 1:ncty) == Omega[j,s,k] * x_hat[j,15]*scaler[k]) for k in battery for j in 1:ncty] \n",
    "    \n",
    "    cstr_fmk = [@constraint(model, sum(y[i,mkt_loc,mkt_proc] for i in 1:ncty) + unmeet == scen_dmd[s])]\n",
    "    cstr_fmko = [@constraint(model, sum(y[i,j,mkt_proc] for i in 1:ncty) == 0) for j in filter!(e->e!=mkt_loc,collect(1:ncty))]\n",
    "    \n",
    "    \n",
    "    transD = Vector{AffExpr}(undef, ncty)\n",
    "    for j in 1:ncty\n",
    "        arc_emi = 0\n",
    "        for i in 1:ncty\n",
    "            amount = sum(y[i,j,k] for k in 1:nproc)\n",
    "            arc_emi += amount * distance[!, 2:end][i,j] * EF_trans\n",
    "        end\n",
    "        transD[j] = arc_emi  # ncty*1 matrix\n",
    "    end\n",
    "    \n",
    "    ####################### \n",
    "    @objective(model, Min, sum(transD)+unmeet*penalty)\n",
    "    JuMP.optimize!(model)\n",
    "    \n",
    "    qy_hat = JuMP.objective_value(model)\n",
    "    sub_y = JuMP.value.(y)\n",
    "    sub_unmeet = JuMP.value.(unmeet)\n",
    "    \n",
    "    ####################### \n",
    "    dual_pi = zeros(ncty,nproc)\n",
    "    \n",
    "    op_pi = [getdual(con) for con in cstr_op]\n",
    "    cth_pi = [getdual(con) for con in cstr_cth]\n",
    "    cell_pi = [getdual(con) for con in cstr_cell]\n",
    "    noncell_pi = [getdual(con) for con in cstr_noncell]\n",
    "    battery_pi = [getdual(con) for con in cstr_battery]\n",
    "    fmk_alp = [getdual(con) for con in cstr_fmk]\n",
    "    fmko_alp = [getdual(con) for con in cstr_fmko]\n",
    "    \n",
    "    dual_pi[:,:] = reshape(op_pi, ncty, nproc) .* Omega[:,s,:]\n",
    "    dual_pi[:, cathode] = reshape(cth_pi, ncty, length(cathode)) .* Omega[:,s,cathode]\n",
    "    dual_pi[:, cell] = reshape(cell_pi, ncty, length(cell)) .* Omega[:,s,cell]\n",
    "    dual_pi[:, noncell] = reshape(noncell_pi, ncty, length(noncell)) .* Omega[:,s,noncell]\n",
    "    dual_pi[:, battery] = reshape(battery_pi, ncty, length(battery)) .* Omega[:,s,battery]\n",
    "    dual_alpha = sum(fmk_alp*(scen_dmd[s] - sub_unmeet)) + sum(fmko_alp * 0)\n",
    "\n",
    "    #######################\n",
    "    result = Dict([\"qyhat\"=>qy_hat, \"y_opt\"=>sub_y, \"unmeet_opt\"=>sub_unmeet, \"pi\"=>dual_pi, \"alp\"=>dual_alpha]);\n",
    "    return result\n",
    "    \n",
    "end"
   ]
  },
  {
   "cell_type": "code",
   "execution_count": 8,
   "id": "dbc0c755",
   "metadata": {},
   "outputs": [
    {
     "data": {
      "text/plain": [
       "masterprob (generic function with 1 method)"
      ]
     },
     "execution_count": 8,
     "metadata": {},
     "output_type": "execute_result"
    }
   ],
   "source": [
    "function masterprob(cuts)\n",
    "    model = Model(Gurobi.Optimizer)\n",
    "    set_silent(model)\n",
    "    @variable(model, x[1:ncty, 1:nproc] >= 0)\n",
    "    @variable(model, theta >= M)\n",
    "    \n",
    "    for k in 1:nproc\n",
    "        for i in 1:ncty\n",
    "            @constraint(model, x[i,k] <= 0.8*capacity[!, 2:end][i,k])\n",
    "        end\n",
    "    end\n",
    "\n",
    "    x_cth = [@constraint(model, sum(x[i,k] for i in 1:ncty) == sum(x[i,5] for i in 1:ncty) * scaler[k]) for k in cathode]\n",
    "    x_cell = [@constraint(model, sum(x[i,k] for i in 1:ncty) == sum(x[i,11] for i in 1:ncty) * scaler[k]) for k in cell]\n",
    "    x_noncell = [@constraint(model, sum(x[i,k] for i in 1:ncty) == sum(x[i,14] for i in 1:ncty) * scaler[k]) for k in noncell]\n",
    "    x_battery = [@constraint(model, sum(x[i,k] for i in 1:ncty) == sum(x[i,15] for i in 1:ncty) * scaler[k]) for k in battery];\n",
    "    \n",
    "\n",
    "    ###########\n",
    "    proD = (x .* Matrix(regional_EF[:,2:end])) * ones(nproc,1) \n",
    "\n",
    "    pro_sink = zeros(ncty, nproc)\n",
    "    for k in 1:nproc\n",
    "        for i in 1:ncty\n",
    "            pro_sink[i,k] = regional_EF[i, k+1] * (sink_c[i]/emission_c[i] + es_ratio)\n",
    "        end\n",
    "    end\n",
    "    proS = (x.*pro_sink)*ones(nproc,1) \n",
    "    \n",
    "    \n",
    "    G = 0\n",
    "    g = 0\n",
    "    if cuts != []\n",
    "        for cut in cuts\n",
    "            G = cut[\"gradient\"]\n",
    "            g = cut[\"intersection\"]\n",
    "            @constraint(model, theta >= sum(x .* G) + g); \n",
    "        end\n",
    "    end\n",
    "    \n",
    "    \n",
    "    @objective(model, Min, sum(proD-proS)+theta)\n",
    "    JuMP.optimize!(model);\n",
    "    \n",
    "    x_hat = JuMP.value.(x)\n",
    "    theta_hat = JuMP.value.(theta)\n",
    "    z_lb = JuMP.objective_value(model)\n",
    "    \n",
    "    result = Dict([\"x_hat\"=>x_hat, \"z_lb\"=>z_lb])\n",
    "    return result\n",
    "end"
   ]
  },
  {
   "cell_type": "code",
   "execution_count": 9,
   "id": "0a50f159",
   "metadata": {},
   "outputs": [
    {
     "data": {
      "text/plain": [
       "add_cuts (generic function with 1 method)"
      ]
     },
     "execution_count": 9,
     "metadata": {},
     "output_type": "execute_result"
    }
   ],
   "source": [
    "function add_cuts(x)\n",
    "    G = [] # gradient\n",
    "    g = [] # intersection\n",
    "    qy = 0\n",
    "    \n",
    "    for s in 1:num_omega\n",
    "        res = subprob(x, s)        \n",
    "        push!(G, res[\"pi\"])   # gradient\n",
    "        push!(g, res[\"alp\"])  # intersection\n",
    "        qy += res[\"qyhat\"]\n",
    "    end\n",
    "    \n",
    "    proD = (x .* Matrix(regional_EF[:,2:end])) * ones(nproc,1) \n",
    "    pro_sink = zeros(ncty, nproc)\n",
    "    for k in 1:nproc\n",
    "        for i in 1:ncty\n",
    "            pro_sink[i,k] = regional_EF[i, k+1] * (sink_c[i]/emission_c[i] + es_ratio)\n",
    "        end\n",
    "    end\n",
    "    proS = (x.*pro_sink)*ones(nproc,1) \n",
    "    \n",
    "    \n",
    "    z_hat = sum(proD - proS) + qy/num_omega\n",
    "    Exp_G = sum(G) / num_omega\n",
    "    Exp_g = sum(g) / num_omega\n",
    "    \n",
    "    cut = Dict([\"gradient\"=>Exp_G, \"intersection\"=>Exp_g])\n",
    "    return cut, z_hat\n",
    "end"
   ]
  },
  {
   "cell_type": "code",
   "execution_count": 10,
   "id": "0e44c501",
   "metadata": {},
   "outputs": [
    {
     "data": {
      "text/plain": [
       "main (generic function with 1 method)"
      ]
     },
     "execution_count": 10,
     "metadata": {},
     "output_type": "execute_result"
    }
   ],
   "source": [
    "function main(toler)\n",
    "    i = 0\n",
    "    z_ub = 1e8\n",
    "    x_opt = 0\n",
    "    \n",
    "    cuts = []\n",
    "    res0 = masterprob(cuts)\n",
    "    x_hat = res0[\"x_hat\"]\n",
    "    z_lb = res0[\"z_lb\"]\n",
    "    \n",
    "    while (z_ub - z_lb) > toler * min(abs(z_ub), abs(z_lb))\n",
    "        new_cut, z_hat = add_cuts(x_hat)\n",
    "        \n",
    "        if z_hat < z_ub\n",
    "            z_ub = z_hat\n",
    "            x_opt = x_hat\n",
    "        end\n",
    "        \n",
    "        push!(cuts, new_cut)\n",
    "        \n",
    "        res1 = masterprob(cuts)\n",
    "        z_lb = res1[\"z_lb\"]\n",
    "        x_hat = res1[\"x_hat\"]\n",
    "        \n",
    "        i += 1\n",
    "    end\n",
    "    \n",
    "    result = Dict([\"z_lb\"=>z_lb, \"z_ub\"=>z_ub, \"x_opt\"=>x_opt, \"iteration\"=>i])\n",
    "    return result\n",
    "    \n",
    "end"
   ]
  },
  {
   "cell_type": "markdown",
   "id": "63be656f",
   "metadata": {},
   "source": [
    "-----"
   ]
  },
  {
   "cell_type": "code",
   "execution_count": 11,
   "id": "bc141bc6",
   "metadata": {},
   "outputs": [
    {
     "data": {
      "text/plain": [
       "0.01"
      ]
     },
     "execution_count": 11,
     "metadata": {},
     "output_type": "execute_result"
    }
   ],
   "source": [
    "M = -10000\n",
    "toler = 0.01"
   ]
  },
  {
   "cell_type": "code",
   "execution_count": 12,
   "id": "5027bd98",
   "metadata": {},
   "outputs": [
    {
     "name": "stdout",
     "output_type": "stream",
     "text": [
      "Academic license - for non-commercial use only - expires 2024-12-26\r\n"
     ]
    },
    {
     "data": {
      "text/plain": [
       "-3.6419971136793885e6"
      ]
     },
     "execution_count": 12,
     "metadata": {},
     "output_type": "execute_result"
    }
   ],
   "source": [
    "i = 0\n",
    "z_ub = 1e8\n",
    "x_opt = 0\n",
    "\n",
    "cuts = []\n",
    "res0 = masterprob(cuts)\n",
    "x_hat = res0[\"x_hat\"]\n",
    "z_lb = res0[\"z_lb\"]"
   ]
  },
  {
   "cell_type": "code",
   "execution_count": 14,
   "id": "bed66f60",
   "metadata": {},
   "outputs": [
    {
     "data": {
      "text/plain": [
       "(1.036419971136794e8, 36419.97113679389)"
      ]
     },
     "execution_count": 14,
     "metadata": {},
     "output_type": "execute_result"
    }
   ],
   "source": [
    "z_ub - z_lb, toler * min(abs(z_ub), abs(z_lb))"
   ]
  },
  {
   "cell_type": "code",
   "execution_count": 16,
   "id": "03a6dace",
   "metadata": {},
   "outputs": [
    {
     "name": "stdout",
     "output_type": "stream",
     "text": [
      "Academic license - for non-commercial use only - expires 2024-12-26\r\n"
     ]
    },
    {
     "ename": "LoadError",
     "evalue": "UndefVarError: tranD not defined",
     "output_type": "error",
     "traceback": [
      "UndefVarError: tranD not defined",
      "",
      "Stacktrace:",
      " [1] macro expansion",
      "   @ C:\\Users\\bourg\\.julia\\packages\\MutableArithmetics\\0Y9ZS\\src\\rewrite.jl:279 [inlined]",
      " [2] macro expansion",
      "   @ C:\\Users\\bourg\\.julia\\packages\\JuMP\\klrjG\\src\\macros.jl:1260 [inlined]",
      " [3] subprob(x_hat::Matrix{Float64}, s::Int64)",
      "   @ Main .\\In[7]:29",
      " [4] top-level scope",
      "   @ .\\In[16]:6",
      " [5] eval",
      "   @ .\\boot.jl:368 [inlined]",
      " [6] include_string(mapexpr::typeof(REPL.softscope), mod::Module, code::String, filename::String)",
      "   @ Base .\\loading.jl:1428"
     ]
    }
   ],
   "source": [
    "G = [] # gradient\n",
    "g = [] # intersection\n",
    "qy = 0\n",
    "\n",
    "for s in 1:num_omega\n",
    "    res = subprob(x_hat, s)        \n",
    "    push!(G, res[\"pi\"])   # gradient\n",
    "    push!(g, res[\"alp\"])  # intersection\n",
    "    qy += res[\"qyhat\"]\n",
    "end"
   ]
  },
  {
   "cell_type": "code",
   "execution_count": null,
   "id": "b264d404",
   "metadata": {},
   "outputs": [],
   "source": []
  },
  {
   "cell_type": "code",
   "execution_count": null,
   "id": "1652a2cd",
   "metadata": {},
   "outputs": [],
   "source": []
  },
  {
   "cell_type": "code",
   "execution_count": null,
   "id": "76235d6b",
   "metadata": {},
   "outputs": [],
   "source": []
  },
  {
   "cell_type": "code",
   "execution_count": null,
   "id": "b6af65e7",
   "metadata": {},
   "outputs": [],
   "source": []
  },
  {
   "cell_type": "code",
   "execution_count": null,
   "id": "784f6bcd",
   "metadata": {},
   "outputs": [],
   "source": []
  },
  {
   "cell_type": "code",
   "execution_count": null,
   "id": "638f4346",
   "metadata": {},
   "outputs": [],
   "source": []
  },
  {
   "cell_type": "code",
   "execution_count": null,
   "id": "892a50e3",
   "metadata": {},
   "outputs": [],
   "source": []
  },
  {
   "cell_type": "code",
   "execution_count": null,
   "id": "22c57aaf",
   "metadata": {},
   "outputs": [],
   "source": []
  },
  {
   "cell_type": "code",
   "execution_count": null,
   "id": "937e9cb3",
   "metadata": {},
   "outputs": [],
   "source": []
  },
  {
   "cell_type": "code",
   "execution_count": null,
   "id": "d6dfffe0",
   "metadata": {},
   "outputs": [],
   "source": []
  },
  {
   "cell_type": "code",
   "execution_count": null,
   "id": "1fc6e93a",
   "metadata": {},
   "outputs": [],
   "source": []
  },
  {
   "cell_type": "code",
   "execution_count": null,
   "id": "ab1a5dfd",
   "metadata": {},
   "outputs": [],
   "source": []
  },
  {
   "cell_type": "code",
   "execution_count": null,
   "id": "a7b7ac66",
   "metadata": {},
   "outputs": [],
   "source": []
  },
  {
   "cell_type": "code",
   "execution_count": null,
   "id": "94423790",
   "metadata": {},
   "outputs": [],
   "source": []
  },
  {
   "cell_type": "code",
   "execution_count": 112,
   "id": "ae28cbe1",
   "metadata": {},
   "outputs": [
    {
     "name": "stdout",
     "output_type": "stream",
     "text": [
      "Academic license - for non-commercial use only - expires 2024-12-26\r\n",
      "Gurobi Optimizer version 9.1.2 build v9.1.2rc0 (win64)\r\n",
      "Thread count: 6 physical cores, 12 logical processors, using up to 12 threads\r\n",
      "Optimize a model with 900 rows, 13501 columns and 27001 nonzeros\r\n",
      "Model fingerprint: 0xb968bf83\r\n",
      "Coefficient statistics:\r\n",
      "  Matrix range     [1e+00, 1e+00]\r\n",
      "  Objective range  [7e-02, 5e+00]\r\n",
      "  Bounds range     [0e+00, 0e+00]\r\n",
      "  RHS range        [1e+02, 4e+05]\r\n",
      "Presolve removed 893 rows and 13484 columns\r\n",
      "Presolve time: 0.00s\r\n",
      "\r\n",
      "Solved in 0 iterations and 0.00 seconds\r\n",
      "Infeasible model\r\n",
      "\r\n",
      "User-callback calls 19, time in user-callback 0.00 sec\r\n"
     ]
    }
   ],
   "source": [
    "s = 15\n",
    "\n",
    "model = Model(Gurobi.Optimizer)\n",
    "@variable(model, y[1:ncty, 1:ncty, 1:nproc] >= 0)\n",
    "@variable(model, unmeet >= 0)\n",
    "\n",
    "cstr_op = [@constraint(model, sum(y[i,j,k] for j in 1:ncty) <= Omega[i,s,k] * x_hat[i,k]) for k in 1:nproc for i in 1:ncty]\n",
    "cstr_cth = [@constraint(model, sum(y[i,j,k] for i in 1:ncty) == Omega[j,s,k] * x_hat[j,5]*scaler[k]) for k in cathode for j in 1:ncty]\n",
    "cstr_cell = [@constraint(model, sum(y[i,j,k] for i in 1:ncty) == Omega[j,s,k] * x_hat[j,11]*scaler[k]) for k in cell for j in 1:ncty]\n",
    "cstr_noncell = [@constraint(model, sum(y[i,j,k] for i in 1:ncty) == Omega[j,s,k] * x_hat[j,14]*scaler[k]) for k in noncell for j in 1:ncty]\n",
    "cstr_battery = [@constraint(model, sum(y[i,j,k] for i in 1:ncty) == Omega[j,s,k] * x_hat[j,15]*scaler[k]) for k in battery for j in 1:ncty] \n",
    "\n",
    "cstr_fmk = [@constraint(model, sum(y[i,mkt_loc,mkt_proc] for i in 1:ncty) + unmeet == scen_dmd[s])]\n",
    "cstr_fmko = [@constraint(model, sum(y[i,j,mkt_proc] for i in 1:ncty) == 0) for j in filter!(e->e!=mkt_loc,collect(1:ncty))]\n",
    "\n",
    "transD = Vector{AffExpr}(undef, ncty)\n",
    "for j in 1:ncty\n",
    "    arc_emi = 0\n",
    "    for i in 1:ncty\n",
    "        amount = sum(y[i,j,k] for k in 1:nproc)\n",
    "        arc_emi += amount * distance[!, 2:end][i,j] * EF_trans\n",
    "    end\n",
    "    transD[j] = arc_emi  # ncty*1 matrix\n",
    "end\n",
    "\n",
    "####################### \n",
    "@objective(model, Min, sum(transD)+unmeet*penalty)\n",
    "JuMP.optimize!(model)"
   ]
  },
  {
   "cell_type": "code",
   "execution_count": 84,
   "id": "15516f0e",
   "metadata": {},
   "outputs": [],
   "source": [
    "y3 = JuMP.value.(y);"
   ]
  },
  {
   "cell_type": "code",
   "execution_count": 87,
   "id": "226688be",
   "metadata": {},
   "outputs": [
    {
     "name": "stdout",
     "output_type": "stream",
     "text": [
      "[4960.0, 4696.81632896]\n",
      "[1, 30, 1]\n",
      "[46959.80895522388, 13783.502897503904]\n",
      "[2, 30, 1]\n",
      "[1760.0, 2717.19298224]\n",
      "[3, 30, 1]\n",
      "[400.0, 0.0]\n",
      "[4, 30, 1]\n",
      "[31200.0, 39000.0]\n",
      "[5, 30, 1]\n",
      "[451715.24, 380000.0]\n",
      "[30, 30, 15]\n"
     ]
    }
   ],
   "source": [
    "for i in 1:ncty\n",
    "    for j in 1:ncty\n",
    "        for k in 1:nproc\n",
    "            if y1[i,j,k] != y2[i,j,k]\n",
    "                println([y1[i,j,k], y2[i,j,k]])\n",
    "                println([i,j,k])\n",
    "            end\n",
    "        end\n",
    "    end\n",
    "end"
   ]
  },
  {
   "cell_type": "code",
   "execution_count": null,
   "id": "4616bc9a",
   "metadata": {},
   "outputs": [],
   "source": []
  },
  {
   "cell_type": "code",
   "execution_count": null,
   "id": "2d81ad58",
   "metadata": {},
   "outputs": [],
   "source": []
  },
  {
   "cell_type": "code",
   "execution_count": null,
   "id": "c7c32a03",
   "metadata": {},
   "outputs": [],
   "source": []
  },
  {
   "cell_type": "code",
   "execution_count": null,
   "id": "3f13b982",
   "metadata": {},
   "outputs": [],
   "source": []
  },
  {
   "cell_type": "code",
   "execution_count": null,
   "id": "86bad1ff",
   "metadata": {},
   "outputs": [],
   "source": []
  },
  {
   "cell_type": "code",
   "execution_count": null,
   "id": "e5d80a9f",
   "metadata": {},
   "outputs": [],
   "source": []
  },
  {
   "cell_type": "code",
   "execution_count": null,
   "id": "ed00f376",
   "metadata": {},
   "outputs": [],
   "source": []
  },
  {
   "cell_type": "code",
   "execution_count": null,
   "id": "630aa2b1",
   "metadata": {},
   "outputs": [],
   "source": []
  },
  {
   "cell_type": "code",
   "execution_count": null,
   "id": "59ccf86b",
   "metadata": {},
   "outputs": [],
   "source": []
  },
  {
   "cell_type": "code",
   "execution_count": null,
   "id": "4d9e9afb",
   "metadata": {},
   "outputs": [],
   "source": []
  },
  {
   "cell_type": "code",
   "execution_count": null,
   "id": "ff3605cc",
   "metadata": {},
   "outputs": [],
   "source": []
  },
  {
   "cell_type": "code",
   "execution_count": null,
   "id": "ff2fb2e1",
   "metadata": {},
   "outputs": [],
   "source": []
  },
  {
   "cell_type": "code",
   "execution_count": null,
   "id": "ea86de66",
   "metadata": {},
   "outputs": [],
   "source": []
  },
  {
   "cell_type": "code",
   "execution_count": null,
   "id": "863b1d37",
   "metadata": {},
   "outputs": [],
   "source": []
  },
  {
   "cell_type": "code",
   "execution_count": null,
   "id": "40648271",
   "metadata": {},
   "outputs": [],
   "source": []
  },
  {
   "cell_type": "code",
   "execution_count": null,
   "id": "e7365123",
   "metadata": {},
   "outputs": [],
   "source": []
  },
  {
   "cell_type": "code",
   "execution_count": null,
   "id": "2026b3ab",
   "metadata": {},
   "outputs": [],
   "source": []
  },
  {
   "cell_type": "code",
   "execution_count": null,
   "id": "17f6795f",
   "metadata": {},
   "outputs": [],
   "source": []
  },
  {
   "cell_type": "code",
   "execution_count": null,
   "id": "068da44c",
   "metadata": {},
   "outputs": [],
   "source": []
  },
  {
   "cell_type": "code",
   "execution_count": null,
   "id": "e5b00bb5",
   "metadata": {},
   "outputs": [],
   "source": []
  },
  {
   "cell_type": "code",
   "execution_count": null,
   "id": "f803487b",
   "metadata": {},
   "outputs": [],
   "source": []
  },
  {
   "cell_type": "code",
   "execution_count": null,
   "id": "11b00ebe",
   "metadata": {},
   "outputs": [],
   "source": []
  },
  {
   "cell_type": "code",
   "execution_count": null,
   "id": "f976bb4d",
   "metadata": {},
   "outputs": [],
   "source": []
  },
  {
   "cell_type": "code",
   "execution_count": null,
   "id": "9dd4ae6f",
   "metadata": {},
   "outputs": [],
   "source": []
  },
  {
   "cell_type": "markdown",
   "id": "cf3b89a0",
   "metadata": {},
   "source": [
    "-----"
   ]
  },
  {
   "cell_type": "code",
   "execution_count": 46,
   "id": "83387c1e",
   "metadata": {},
   "outputs": [
    {
     "data": {
      "text/plain": [
       "1"
      ]
     },
     "execution_count": 46,
     "metadata": {},
     "output_type": "execute_result"
    }
   ],
   "source": [
    "s = 1"
   ]
  },
  {
   "cell_type": "code",
   "execution_count": 47,
   "id": "b8d679a7",
   "metadata": {},
   "outputs": [
    {
     "name": "stdout",
     "output_type": "stream",
     "text": [
      "Academic license - for non-commercial use only - expires 2024-12-26\r\n"
     ]
    }
   ],
   "source": [
    "model = Model(Gurobi.Optimizer)\n",
    "@variable(model, y[1:ncty, 1:ncty, 1:nproc] >= 0)\n",
    "@variable(model, unmeet >= 0)\n",
    "\n",
    "cstr_op = [@constraint(model, sum(y[i,j,k] for j in 1:ncty) <= Omega[i,s,k] * x_hat[i,k]) for k in 1:nproc for i in 1:ncty]\n",
    "cstr_cth = [@constraint(model, sum(y[i,j,k] for i in 1:ncty) == Omega[j,s,k] * x_hat[j,5]*scaler[k]) for k in cathode for j in 1:ncty]\n",
    "cstr_cell = [@constraint(model, sum(y[i,j,k] for i in 1:ncty) == Omega[j,s,k] * x_hat[j,11]*scaler[k]) for k in cell for j in 1:ncty]\n",
    "cstr_noncell = [@constraint(model, sum(y[i,j,k] for i in 1:ncty) == Omega[j,s,k] * x_hat[j,14]*scaler[k]) for k in noncell for j in 1:ncty]\n",
    "cstr_battery = [@constraint(model, sum(y[i,j,k] for i in 1:ncty) == Omega[j,s,k] * x_hat[j,15]*scaler[k]) for k in battery for j in 1:ncty] \n",
    "@constraint(model, sum(y[i,mkt_loc,mkt_proc] for i in 1:ncty) == scen_dmd[s])\n",
    "tmp = filter!(e->e!=mkt_loc,collect(1:ncty))\n",
    "for j in tmp\n",
    "    @constraint(model, sum(y[i,j,mkt_proc] for i in 1:ncty) == 0);\n",
    "end"
   ]
  },
  {
   "cell_type": "code",
   "execution_count": 48,
   "id": "3ec37fa4",
   "metadata": {},
   "outputs": [
    {
     "name": "stdout",
     "output_type": "stream",
     "text": [
      "Gurobi Optimizer version 9.1.2 build v9.1.2rc0 (win64)\r\n",
      "Thread count: 6 physical cores, 12 logical processors, using up to 12 threads\r\n",
      "Optimize a model with 900 rows, 13501 columns and 27000 nonzeros\r\n",
      "Model fingerprint: 0x77656bce\r\n",
      "Coefficient statistics:\r\n",
      "  Matrix range     [1e+00, 1e+00]\r\n",
      "  Objective range  [7e-02, 5e+00]\r\n",
      "  Bounds range     [0e+00, 0e+00]\r\n",
      "  RHS range        [2e+02, 6e+05]\r\n",
      "Presolve removed 900 rows and 13501 columns\r\n",
      "Presolve time: 0.01s\r\n",
      "Presolve: All rows and columns removed\r\n",
      "Iteration    Objective       Primal Inf.    Dual Inf.      Time\r\n",
      "       0    9.9569960e+05   0.000000e+00   0.000000e+00      0s\r\n",
      "\r\n",
      "Solved in 0 iterations and 0.01 seconds\r\n",
      "Optimal objective  9.956996027e+05\r\n",
      "\r\n",
      "User-callback calls 36, time in user-callback 0.00 sec\r\n"
     ]
    }
   ],
   "source": [
    "tranD = Vector{AffExpr}(undef, ncty)\n",
    "for j in 1:ncty\n",
    "    arc_emi = 0\n",
    "    arc_seq = 0\n",
    "    for i in 1:ncty\n",
    "        amount = sum(y[i,j,k] for k in 1:nproc)\n",
    "        arc_emi += (amount * distance[!, 2:end][i,j] * EF_trans)\n",
    "    end\n",
    "    tranD[j] = arc_emi\n",
    "end\n",
    "\n",
    "\n",
    "@objective(model, Min, sum(tranD)+unmeet*penalty)\n",
    "JuMP.optimize!(model)"
   ]
  },
  {
   "cell_type": "code",
   "execution_count": 49,
   "id": "bfe0db8d",
   "metadata": {},
   "outputs": [],
   "source": [
    "sub_y = JuMP.value.(y);"
   ]
  },
  {
   "cell_type": "code",
   "execution_count": 50,
   "id": "8ab11d6f",
   "metadata": {},
   "outputs": [
    {
     "data": {
      "text/plain": [
       "30×15 Matrix{Float64}:\n",
       "  3720.0      0.0  0.0            0.0  …       0.0             0.0\n",
       " 36600.0   4200.0  0.0            0.0          0.0             0.0\n",
       "  1320.0      0.0  1.05786e5  40200.0          0.0             0.0\n",
       "   300.0   1860.0  0.0        68220.1          0.0             0.0\n",
       " 23400.0      0.0  0.0            0.0     600000.0             0.0\n",
       " 11376.7   1320.0  0.0            0.0  …       0.0             0.0\n",
       "     0.0      0.0  0.0            0.0          0.0             0.0\n",
       "     0.0  87000.0  0.0            0.0          0.0             0.0\n",
       "     0.0    650.4  0.0            0.0          0.0             0.0\n",
       "     0.0      0.0  0.0            0.0          0.0             0.0\n",
       "     0.0      0.0  0.0            0.0  …       0.0             1.05867e5\n",
       "     0.0      0.0  0.0            0.0          0.0             0.0\n",
       "     0.0   5672.4  0.0            0.0          0.0             0.0\n",
       "     ⋮                                 ⋱                  \n",
       "     0.0      0.0  0.0            0.0          1.05867e5       0.0\n",
       "     0.0      0.0  0.0            0.0          0.0             0.0\n",
       "     0.0   3240.0  0.0            0.0  …       0.0             0.0\n",
       "   360.0      0.0  0.0            0.0          0.0             0.0\n",
       "     0.0   2100.0  0.0            0.0          0.0             0.0\n",
       "     0.0      0.0  0.0            0.0          0.0             0.0\n",
       "     0.0      0.0  0.0            0.0          0.0             0.0\n",
       "     0.0      0.0  0.0            0.0  …       0.0             0.0\n",
       "     0.0   1380.0  0.0            0.0          0.0             0.0\n",
       "     0.0      0.0  0.0            0.0          0.0             0.0\n",
       "     0.0      0.0  0.0            0.0          0.0             0.0\n",
       "   540.0      0.0  0.0            0.0          0.0        600000.0"
      ]
     },
     "execution_count": 50,
     "metadata": {},
     "output_type": "execute_result"
    }
   ],
   "source": [
    "x_hat"
   ]
  },
  {
   "cell_type": "code",
   "execution_count": null,
   "id": "83e6b5ca",
   "metadata": {},
   "outputs": [],
   "source": []
  },
  {
   "cell_type": "code",
   "execution_count": 176,
   "id": "23058209",
   "metadata": {},
   "outputs": [
    {
     "name": "stdout",
     "output_type": "stream",
     "text": [
      "Academic license - for non-commercial use only - expires 2024-12-26\r\n",
      "Gurobi Optimizer version 9.1.2 build v9.1.2rc0 (win64)\r\n",
      "Thread count: 6 physical cores, 12 logical processors, using up to 12 threads\r\n",
      "Optimize a model with 900 rows, 13501 columns and 27001 nonzeros\r\n",
      "Model fingerprint: 0x7e5ea06d\r\n",
      "Coefficient statistics:\r\n",
      "  Matrix range     [1e+00, 1e+00]\r\n",
      "  Objective range  [7e-02, 5e+00]\r\n",
      "  Bounds range     [0e+00, 0e+00]\r\n",
      "  RHS range        [2e+02, 6e+05]\r\n",
      "Presolve removed 900 rows and 13501 columns\r\n",
      "Presolve time: 0.00s\r\n",
      "Presolve: All rows and columns removed\r\n",
      "Iteration    Objective       Primal Inf.    Dual Inf.      Time\r\n",
      "       0    9.6465484e+05   0.000000e+00   0.000000e+00      0s\r\n",
      "\r\n",
      "Solved in 0 iterations and 0.00 seconds\r\n",
      "Optimal objective  9.646548399e+05\r\n",
      "\r\n",
      "User-callback calls 36, time in user-callback 0.00 sec\r\n"
     ]
    }
   ],
   "source": [
    "x_hat = xhat1\n",
    "\n",
    "model = Model(Gurobi.Optimizer)\n",
    "@variable(model, y[1:ncty, 1:ncty, 1:nproc] >= 0)\n",
    "@variable(model, unmeet >= 0)\n",
    "\n",
    "cstr_op = [@constraint(model, sum(y[i,j,k] for j in 1:ncty) <= Omega[i,s,k] * x_hat[i,k]) for k in 1:nproc for i in 1:ncty]\n",
    "cstr_cth = [@constraint(model, sum(y[i,j,k] for i in 1:ncty) == Omega[j,s,k] * x_hat[j,5]*scaler[k]) for k in cathode for j in 1:ncty]\n",
    "cstr_cell = [@constraint(model, sum(y[i,j,k] for i in 1:ncty) == Omega[j,s,k] * x_hat[j,11]*scaler[k]) for k in cell for j in 1:ncty]\n",
    "cstr_noncell = [@constraint(model, sum(y[i,j,k] for i in 1:ncty) == Omega[j,s,k] * x_hat[j,14]*scaler[k]) for k in noncell for j in 1:ncty]\n",
    "cstr_battery = [@constraint(model, sum(y[i,j,k] for i in 1:ncty) == Omega[j,s,k] * x_hat[j,15]*scaler[k]) for k in battery for j in 1:ncty] \n",
    "\n",
    "cstr_fmk = [@constraint(model, sum(y[i,mkt_loc,mkt_proc] for i in 1:ncty) + unmeet == scen_dmd[s])]\n",
    "cstr_fmko = [@constraint(model, sum(y[i,j,mkt_proc] for i in 1:ncty) == 0) for j in filter!(e->e!=mkt_loc,collect(1:ncty))]\n",
    "\n",
    "\n",
    "#######################   \n",
    "tranD = Vector{AffExpr}(undef, ncty)\n",
    "for j in 1:ncty\n",
    "    arc_emi = 0\n",
    "    arc_seq = 0\n",
    "    for i in 1:ncty\n",
    "        amount = sum(y[i,j,k] for k in 1:nproc)\n",
    "        arc_emi += (amount * distance[!, 2:end][i,j] * EF_trans)\n",
    "    end\n",
    "    tranD[j] = arc_emi\n",
    "end\n",
    "\n",
    "####################### \n",
    "@objective(model, Min, sum(tranD)+unmeet*penalty)\n",
    "JuMP.optimize!(model)\n",
    "\n",
    "qy_hat = JuMP.objective_value(model)\n",
    "sub_y = JuMP.value.(y)\n",
    "sub_unmeet = JuMP.value.(unmeet);\n"
   ]
  },
  {
   "cell_type": "code",
   "execution_count": 166,
   "id": "5501acf3",
   "metadata": {},
   "outputs": [
    {
     "data": {
      "text/plain": [
       "450-element Vector{Float64}:\n",
       " -0.6103064868659767\n",
       "  0.0\n",
       " -1.0203275186877354\n",
       " -0.7617255934395452\n",
       " -0.9006585426113785\n",
       " -0.9510132289004626\n",
       " -0.5973851603180549\n",
       " -0.6952182101935795\n",
       " -0.8659754626717302\n",
       " -1.0501825610470168\n",
       " -0.9264572603302588\n",
       " -1.2799913845815944\n",
       " -1.5145085322032037\n",
       "  ⋮\n",
       "  0.0\n",
       "  0.0\n",
       "  0.0\n",
       "  0.0\n",
       "  0.0\n",
       "  0.0\n",
       "  0.0\n",
       "  0.0\n",
       "  0.0\n",
       "  0.0\n",
       "  0.0\n",
       "  0.0"
      ]
     },
     "execution_count": 166,
     "metadata": {},
     "output_type": "execute_result"
    }
   ],
   "source": [
    "op_pi = [getdual(con) for con in cstr_op]"
   ]
  },
  {
   "cell_type": "code",
   "execution_count": null,
   "id": "51c5fda2",
   "metadata": {},
   "outputs": [],
   "source": [
    "dual_pi = zeros(ncty,nproc)\n",
    "\n",
    "op_pi = [getdual(con) for con in cstr_op]\n",
    "cth_pi = [getdual(con) for con in cstr_cth]\n",
    "cell_pi = [getdual(con) for con in cstr_cell]\n",
    "noncell_pi = [getdual(con) for con in cstr_noncell]\n",
    "battery_pi = [getdual(con) for con in cstr_battery]\n",
    "fmk_alp = [getdual(con) for con in cstr_fmk]\n",
    "fmko_alp = [getdual(con) for con in cstr_fmko]\n",
    "\n",
    "dual_pi[:,:] = reshape(op_pi, ncty, nproc) .* Omega[:,s,:]\n",
    "dual_pi[:, cathode] = reshape(cth_pi, ncty, length(cathode)) .* Omega[:,s,cathode]\n",
    "dual_pi[:, cell] = reshape(cell_pi, ncty, length(cell)) .* Omega[:,s,cell]\n",
    "dual_pi[:, noncell] = reshape(noncell_pi, ncty, length(noncell)) .* Omega[:,s,noncell]\n",
    "dual_pi[:, battery] = reshape(battery_pi, ncty, length(battery)) .* Omega[:,s,battery]\n",
    "dual_alpha = sum(fmk_alp*(scen_dmd[s] - sub_unmeet)) + sum(fmko_alp * 0)"
   ]
  },
  {
   "cell_type": "code",
   "execution_count": null,
   "id": "9d2b6bde",
   "metadata": {},
   "outputs": [],
   "source": []
  },
  {
   "cell_type": "code",
   "execution_count": null,
   "id": "97833586",
   "metadata": {},
   "outputs": [],
   "source": []
  },
  {
   "cell_type": "code",
   "execution_count": 175,
   "id": "1a7214e3",
   "metadata": {},
   "outputs": [
    {
     "name": "stdout",
     "output_type": "stream",
     "text": [
      "Academic license - for non-commercial use only - expires 2024-12-26\r\n",
      "Gurobi Optimizer version 9.1.2 build v9.1.2rc0 (win64)\r\n",
      "Thread count: 6 physical cores, 12 logical processors, using up to 12 threads\r\n",
      "Optimize a model with 900 rows, 13501 columns and 27001 nonzeros\r\n",
      "Model fingerprint: 0xf168361c\r\n",
      "Coefficient statistics:\r\n",
      "  Matrix range     [1e+00, 1e+00]\r\n",
      "  Objective range  [7e-02, 5e+00]\r\n",
      "  Bounds range     [0e+00, 0e+00]\r\n",
      "  RHS range        [2e+02, 6e+05]\r\n",
      "Presolve removed 900 rows and 13501 columns\r\n",
      "Presolve time: 0.00s\r\n",
      "Presolve: All rows and columns removed\r\n",
      "Iteration    Objective       Primal Inf.    Dual Inf.      Time\r\n",
      "       0    9.6465171e+05   0.000000e+00   0.000000e+00      0s\r\n",
      "\r\n",
      "Solved in 0 iterations and 0.01 seconds\r\n",
      "Optimal objective  9.646517101e+05\r\n",
      "\r\n",
      "User-callback calls 36, time in user-callback 0.00 sec\r\n"
     ]
    }
   ],
   "source": [
    "x_hat = xhat2\n",
    "\n",
    "model2 = Model(Gurobi.Optimizer)\n",
    "@variable(model2, y[1:ncty, 1:ncty, 1:nproc] >= 0)\n",
    "@variable(model2, unmeet >= 0)\n",
    "\n",
    "cstr_op2 = [@constraint(model2, sum(y[i,j,k] for j in 1:ncty) <= Omega[i,s,k] * x_hat[i,k]) for k in 1:nproc for i in 1:ncty]\n",
    "cstr_cth2 = [@constraint(model2, sum(y[i,j,k] for i in 1:ncty) == Omega[j,s,k] * x_hat[j,5]*scaler[k]) for k in cathode for j in 1:ncty]\n",
    "cstr_cell2 = [@constraint(model2, sum(y[i,j,k] for i in 1:ncty) == Omega[j,s,k] * x_hat[j,11]*scaler[k]) for k in cell for j in 1:ncty]\n",
    "cstr_noncell2 = [@constraint(model2, sum(y[i,j,k] for i in 1:ncty) == Omega[j,s,k] * x_hat[j,14]*scaler[k]) for k in noncell for j in 1:ncty]\n",
    "cstr_battery2 = [@constraint(model2, sum(y[i,j,k] for i in 1:ncty) == Omega[j,s,k] * x_hat[j,15]*scaler[k]) for k in battery for j in 1:ncty] \n",
    "\n",
    "cstr_fmk2 = [@constraint(model2, sum(y[i,mkt_loc,mkt_proc] for i in 1:ncty) + unmeet == scen_dmd[s])]\n",
    "cstr_fmko2 = [@constraint(model2, sum(y[i,j,mkt_proc] for i in 1:ncty) == 0) for j in filter!(e->e!=mkt_loc,collect(1:ncty))]\n",
    "\n",
    "\n",
    "# #######################   \n",
    "tranD = Vector{AffExpr}(undef, ncty)\n",
    "for j in 1:ncty\n",
    "    arc_emi = 0\n",
    "    arc_seq = 0\n",
    "    for i in 1:ncty\n",
    "        amount = sum(y[i,j,k] for k in 1:nproc)\n",
    "        arc_emi += (amount * distance[!, 2:end][i,j] * EF_trans)\n",
    "    end\n",
    "    tranD[j] = arc_emi\n",
    "end\n",
    "\n",
    "# ####################### \n",
    "@objective(model2, Min, sum(tranD)+unmeet*penalty)\n",
    "JuMP.optimize!(model2)\n",
    "\n",
    "qy_hat2 = JuMP.objective_value(model2)\n",
    "sub_y2 = JuMP.value.(y)\n",
    "sub_unmeet2 = JuMP.value.(unmeet);"
   ]
  },
  {
   "cell_type": "code",
   "execution_count": null,
   "id": "3759aa26",
   "metadata": {},
   "outputs": [],
   "source": []
  }
 ],
 "metadata": {
  "@webio": {
   "lastCommId": null,
   "lastKernelId": null
  },
  "kernelspec": {
   "display_name": "Julia 1.8.3",
   "language": "julia",
   "name": "julia-1.8"
  },
  "language_info": {
   "file_extension": ".jl",
   "mimetype": "application/julia",
   "name": "julia",
   "version": "1.8.3"
  }
 },
 "nbformat": 4,
 "nbformat_minor": 5
}
