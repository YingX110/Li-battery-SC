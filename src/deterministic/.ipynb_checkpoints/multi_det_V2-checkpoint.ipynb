{
 "cells": [
  {
   "cell_type": "code",
   "execution_count": 1,
   "id": "5edf3ebd",
   "metadata": {},
   "outputs": [],
   "source": [
    "using JuMP, Gurobi\n",
    "using CSV, LinearAlgebra, DataFrames\n",
    "using Plots\n",
    "using DelimitedFiles"
   ]
  },
  {
   "cell_type": "code",
   "execution_count": 2,
   "id": "93d2a5ce",
   "metadata": {},
   "outputs": [],
   "source": [
    "#load social and ecological data and orgnize \n",
    "FL = repeat([Float64], inner=15)\n",
    "dtype = append!([String], FL);\n",
    "\n",
    "\n",
    "regional_EF = CSV.File(\"C:/Users/bourg/.julia/environments/batterySC/Li-battery-SC/src/deterministic/data/EF_SC.csv\",header=1,delim=\",\", types=dtype) |> DataFrame    \n",
    "capacity = CSV.File(\"C:/Users/bourg/.julia/environments/batterySC/Li-battery-SC/src/deterministic/data/capacity.csv\",header=1,delim=\",\", types=dtype) |> DataFrame    \n",
    "distance = CSV.File(\"C:/Users/bourg/.julia/environments/batterySC/Li-battery-SC/src/deterministic/data/distance.csv\",header=1,delim=\",\") |> DataFrame \n",
    "LCA_model = CSV.File(\"C:/Users/bourg/.julia/environments/batterySC/Li-battery-SC/src/deterministic/data/LCA_model.csv\",header=1,delim=\",\") |> DataFrame \n",
    "D_Dsoc = CSV.File(\"C:/Users/bourg/.julia/environments/batterySC/Li-battery-SC/src/deterministic/data/D_Dsoc.csv\",header=1,delim=\",\") |> DataFrame\n",
    "GDP = CSV.File(\"C:/Users/bourg/.julia/environments/batterySC/Li-battery-SC/src/deterministic/data/GDP.csv\",header=1,delim=\",\") |> DataFrame;\n",
    "emi_sink = CSV.File(\"C:/Users/bourg/.julia/environments/batterySC/Li-battery-SC/src/deterministic/data/emission_sink.csv\",header=1,delim=\",\") |> DataFrame;"
   ]
  },
  {
   "cell_type": "code",
   "execution_count": 3,
   "id": "5118b2b5",
   "metadata": {},
   "outputs": [],
   "source": [
    "global_sink = 1.099e10                        # global pub (ocean) CO2 sequestration (ton/yr)\n",
    "global_sink_tot = 2.236e10                  # global total (ocean+land) CO2 sequestration (ton/yr)\n",
    "global_emi = 3.53e10                          # global CO2 emission (ton/yr)\n",
    "global_gdp = 96882e9                          # 2021 global GDP ($/yr)\n",
    "es_ratio = global_sink/global_emi\n",
    "es_ratio_tot = global_sink_tot/global_emi\n",
    "emission_c = emi_sink[!, \"emission\"]          # national CO2 emission (ton/yr)\n",
    "sink_c = emi_sink[!, \"sink ton/yr\"]           # national CO2 sink (ton/yr)\n",
    "\n",
    "# D = D_Dsoc[!, \"D\"]          # national CO2 emission (ton/yr)\n",
    "Dsoc = D_Dsoc[!, \"Dsoc ton/yr\"]           # national CO2 sink (ton/yr)\n",
    "\n",
    "EF_trans = 1.005/10000                        # ton CO2/km*ton (The average freight truck in the U.S. emits 161.8 grams of CO2 per ton-mile)\n",
    "process = LCA_model[!,\"process\"]\n",
    "countries = capacity[!,\"country\"]\n",
    "ncty = size(countries,1)                          # No. of countries\n",
    "nproc = size(process,1);                          # No. of processes \n",
    "\n",
    "mkt_loc = findfirst(isequal(\"United States\"), countries)\n",
    "mkt_proc = findfirst(isequal(\"battery\"), process)\n",
    "\n",
    "# seperate model\n",
    "cathode = collect(1:4)\n",
    "cell = collect(5:10)\n",
    "noncell = [12,13]\n",
    "battery = [11,14]\n",
    "scaler = LCA_model[!,\"scaler\"]\n",
    "price = LCA_model[!,\"price (usd/ton product)\"]\n",
    "vGDP = GDP[!,\"GDP usd\"];"
   ]
  },
  {
   "cell_type": "code",
   "execution_count": 4,
   "id": "4729c3eb",
   "metadata": {},
   "outputs": [],
   "source": [
    "cell_demand = 0.001*164.98*(1.369*1e6)*2;           # annual demand of Li battery for tesla (1.369M EV/yr, ~2 NMC111 pack/EV, 164.98 kg/pack (35kwh/pack), 80~100 kWh per EV)"
   ]
  },
  {
   "cell_type": "code",
   "execution_count": 5,
   "id": "d326e8f0",
   "metadata": {},
   "outputs": [],
   "source": [
    "up_cath = scaler[1:4] * scaler[5] * scaler[11]\n",
    "up_cell = scaler[5:10] * scaler[11]\n",
    "cell_sef = scaler[11]\n",
    "up_noncell = scaler[12:13] * scaler[14]\n",
    "noncell_sef = scaler[14]\n",
    "battery_sef = scaler[15];"
   ]
  },
  {
   "cell_type": "code",
   "execution_count": 6,
   "id": "fcfae35d",
   "metadata": {},
   "outputs": [],
   "source": [
    "ipt = vcat(up_cath, up_cell, cell_sef, up_noncell, noncell_sef, battery_sef) \n",
    "input_amount = ipt.* cell_demand;"
   ]
  },
  {
   "cell_type": "markdown",
   "id": "9305c6dd",
   "metadata": {},
   "source": [
    "### Build Model"
   ]
  },
  {
   "cell_type": "code",
   "execution_count": 7,
   "id": "12382191",
   "metadata": {},
   "outputs": [
    {
     "data": {
      "text/plain": [
       "EO_SS_Model (generic function with 1 method)"
      ]
     },
     "execution_count": 7,
     "metadata": {},
     "output_type": "execute_result"
    }
   ],
   "source": [
    "function EO_SS_Model(objfunc)\n",
    "    model = Model(Gurobi.Optimizer)\n",
    "    @variable(model, x[1:ncty, 1:nproc] >= 0)\n",
    "    @variable(model, y[1:ncty, 1:ncty, 1:nproc] >= 0)\n",
    "    \n",
    "    cstr_cap = [@constraint(model, x[i,k] <= capacity[!, 2:end][i,k]) for k in 1:nproc for i in 1:ncty]\n",
    "    cstr_lca = [@constraint(model, sum(x[i,k] for i in 1:ncty) == input_amount[k]) for k in 1:nproc]\n",
    "    cstr_op = [@constraint(model, sum(y[i,j,k] for j in 1:ncty) == x[i,k]) for k in 1:nproc for i in 1:ncty]\n",
    "    cstr_cth = [@constraint(model, sum(y[i,j,k] for i in 1:ncty) == x[j,5]*scaler[k]) for k in cathode for j in 1:ncty]\n",
    "    cstr_cell = [@constraint(model, sum(y[i,j,k] for i in 1:ncty) == x[j,11]*scaler[k]) for k in cell for j in 1:ncty]\n",
    "    cstr_noncell = [@constraint(model, sum(y[i,j,k] for i in 1:ncty) == x[j,14]*scaler[k]) for k in noncell for j in 1:ncty]\n",
    "    cstr_battery = [@constraint(model, sum(y[i,j,k] for i in 1:ncty) == x[j,15]*scaler[k]) for k in battery for j in 1:ncty]\n",
    "    @constraint(model, sum(y[i,mkt_loc,mkt_proc] for i in 1:ncty) == cell_demand)\n",
    "    for j in 1:ncty-1\n",
    "        @constraint(model, sum(y[i,j,mkt_proc] for i in 1:ncty) == 0)\n",
    "    end\n",
    "    \n",
    "    \n",
    "    # obj func calculation\n",
    "    proD = (x .* Matrix(regional_EF[:,2:end])) * ones(nproc,1)  # ncty*1 matrix\n",
    "    pro_sink = zeros(ncty, nproc)\n",
    "    for k in 1:nproc\n",
    "        for i in 1:ncty\n",
    "            pro_sink[i,k] = regional_EF[i, k+1] * (sink_c[i]/emission_c[i] + es_ratio)\n",
    "        end\n",
    "    end\n",
    "    proS = (x.*pro_sink)*ones(nproc,1)  # ncty*1 matrix\n",
    "\n",
    "    transS = Vector{AffExpr}(undef, ncty)\n",
    "    transD = Vector{AffExpr}(undef, ncty)\n",
    "    for j in 1:ncty\n",
    "        arc_emi = 0\n",
    "        arc_seq = 0\n",
    "        for i in 1:ncty\n",
    "            amount = sum(y[i,j,k] for k in 1:nproc)\n",
    "            arc_emi += amount * distance[!, 2:end][i,j] * EF_trans\n",
    "            arc_seq += arc_emi * (sink_c[j]/emission_c[j] + es_ratio)\n",
    "        end\n",
    "        transD[j] = arc_emi  # ncty*1 matrix\n",
    "        transS[j] = arc_seq  # ncty*1 matrix\n",
    "    end\n",
    "    \n",
    "    \n",
    "    EO = sum(proD - proS + transD - transS) \n",
    "\n",
    "    Allo_soc = proD ./ emission_c .* Dsoc\n",
    "    SS = sum(Allo_soc - (proD + transD));\n",
    "    \n",
    "    \n",
    "    if objfunc == \"Ecological\"\n",
    "        @objective(model, Min, EO);\n",
    "    else\n",
    "        @objective(model, Min, SS);\n",
    "    end\n",
    "      \n",
    "    JuMP.optimize!(model)\n",
    "\n",
    "    opt_x = JuMP.value.(x)\n",
    "    opt_y = JuMP.value.(y)\n",
    "    opt_obj = JuMP.objective_value(model);\n",
    "    result = Dict([\"opt_x\"=>opt_x, \"opt_obj\"=>opt_obj, \"opt_y\"=>opt_y])\n",
    "    return result\n",
    "end"
   ]
  },
  {
   "cell_type": "code",
   "execution_count": 8,
   "id": "9c7147c4",
   "metadata": {},
   "outputs": [
    {
     "name": "stdout",
     "output_type": "stream",
     "text": [
      "Academic license - for non-commercial use only - expires 2024-12-26\r\n",
      "Gurobi Optimizer version 9.1.2 build v9.1.2rc0 (win64)\r\n",
      "Thread count: 6 physical cores, 12 logical processors, using up to 12 threads\r\n",
      "Optimize a model with 1365 rows, 13950 columns and 28770 nonzeros\r\n",
      "Model fingerprint: 0x4bc1314c\r\n",
      "Coefficient statistics:\r\n",
      "  Matrix range     [4e-03, 1e+00]\r\n",
      "  Objective range  [7e-03, 4e+02]\r\n",
      "  Bounds range     [0e+00, 0e+00]\r\n",
      "  RHS range        [2e+02, 1e+11]\r\n",
      "Warning: Model contains large rhs\r\n",
      "         Consider reformulating model or setting NumericFocus parameter\r\n",
      "         to avoid numerical issues.\r\n",
      "Presolve removed 1126 rows and 12811 columns\r\n",
      "Presolve time: 0.02s\r\n",
      "Presolved: 239 rows, 1139 columns, 2470 nonzeros\r\n",
      "\r\n",
      "Iteration    Objective       Primal Inf.    Dual Inf.      Time\r\n",
      "       0   -2.3102552e+08   1.135985e+07   0.000000e+00      0s\r\n",
      "     203   -3.0052577e+07   0.000000e+00   0.000000e+00      0s\r\n",
      "\r\n",
      "Solved in 203 iterations and 0.03 seconds\r\n",
      "Optimal objective -3.005257708e+07\r\n",
      "\r\n",
      "User-callback calls 247, time in user-callback 0.02 sec\r\n"
     ]
    },
    {
     "data": {
      "text/plain": [
       "Dict{String, Any} with 3 entries:\n",
       "  \"opt_y\"   => [0.0 0.0 … 0.0 0.0; 0.0 0.0 … 0.0 10670.3; … ; 0.0 0.0 … 0.0 0.0…\n",
       "  \"opt_obj\" => -3.00526e7\n",
       "  \"opt_x\"   => [0.0 0.0 … 0.0 0.0; 10670.3 0.0 … 4.51715e5 0.0; … ; 0.0 0.0 … 0…"
      ]
     },
     "execution_count": 8,
     "metadata": {},
     "output_type": "execute_result"
    }
   ],
   "source": [
    "res_eo = EO_SS_Model(\"Ecological\")"
   ]
  },
  {
   "cell_type": "code",
   "execution_count": 9,
   "id": "4d8e757a",
   "metadata": {},
   "outputs": [
    {
     "name": "stdout",
     "output_type": "stream",
     "text": [
      "Academic license - for non-commercial use only - expires 2024-12-26\r\n",
      "Gurobi Optimizer version 9.1.2 build v9.1.2rc0 (win64)\r\n",
      "Thread count: 6 physical cores, 12 logical processors, using up to 12 threads\r\n",
      "Optimize a model with 1365 rows, 13950 columns and 28770 nonzeros\r\n",
      "Model fingerprint: 0x7c923f46\r\n",
      "Coefficient statistics:\r\n",
      "  Matrix range     [4e-03, 1e+00]\r\n",
      "  Objective range  [8e-02, 5e+01]\r\n",
      "  Bounds range     [0e+00, 0e+00]\r\n",
      "  RHS range        [2e+02, 1e+11]\r\n",
      "Warning: Model contains large rhs\r\n",
      "         Consider reformulating model or setting NumericFocus parameter\r\n",
      "         to avoid numerical issues.\r\n",
      "Presolve removed 1126 rows and 12811 columns\r\n",
      "Presolve time: 0.01s\r\n",
      "Presolved: 239 rows, 1139 columns, 2470 nonzeros\r\n",
      "\r\n",
      "Iteration    Objective       Primal Inf.    Dual Inf.      Time\r\n",
      "       0   -6.2725389e+07   1.214475e+07   0.000000e+00      0s\r\n",
      "     248   -1.2540091e+07   0.000000e+00   0.000000e+00      0s\r\n",
      "\r\n",
      "Solved in 248 iterations and 0.02 seconds\r\n",
      "Optimal objective -1.254009123e+07\r\n",
      "\r\n",
      "User-callback calls 292, time in user-callback 0.00 sec\r\n"
     ]
    },
    {
     "data": {
      "text/plain": [
       "Dict{String, Any} with 3 entries:\n",
       "  \"opt_y\"   => [0.0 0.0 … 0.0 0.0; 0.0 0.0 … 0.0 0.0; … ; 0.0 0.0 … 0.0 0.0; 0.…\n",
       "  \"opt_obj\" => -1.25401e7\n",
       "  \"opt_x\"   => [0.0 0.0 … 0.0 0.0; 49670.3 7000.0 … 0.0 0.0; … ; 0.0 0.0 … 0.0 …"
      ]
     },
     "execution_count": 9,
     "metadata": {},
     "output_type": "execute_result"
    }
   ],
   "source": [
    "res_ss = EO_SS_Model(\"Social\")"
   ]
  },
  {
   "cell_type": "markdown",
   "id": "38f7175c",
   "metadata": {},
   "source": [
    "### Get Extreme Points"
   ]
  },
  {
   "cell_type": "code",
   "execution_count": 10,
   "id": "8b49f8c4",
   "metadata": {},
   "outputs": [],
   "source": [
    "EO1 = res_eo[\"opt_obj\"]\n",
    "SS1 = res_ss[\"opt_obj\"]\n",
    "ss_x = res_ss[\"opt_x\"]\n",
    "ss_y = res_ss[\"opt_y\"]\n",
    "eo_x = res_eo[\"opt_x\"]\n",
    "eo_y = res_eo[\"opt_y\"];"
   ]
  },
  {
   "cell_type": "code",
   "execution_count": 11,
   "id": "397a777d",
   "metadata": {},
   "outputs": [
    {
     "data": {
      "text/plain": [
       "net_emi (generic function with 1 method)"
      ]
     },
     "execution_count": 11,
     "metadata": {},
     "output_type": "execute_result"
    }
   ],
   "source": [
    "function net_emi(x,y)\n",
    "    \n",
    "    proD = (x .* Matrix(regional_EF[:,2:end])) * ones(nproc,1) \n",
    "    pro_sink = zeros(ncty, nproc)\n",
    "    for k in 1:nproc\n",
    "        for i in 1:ncty\n",
    "            pro_sink[i,k] = regional_EF[i, k+1] * (sink_c[i]/emission_c[i] + es_ratio)\n",
    "        end\n",
    "    end\n",
    "    proS = (x.*pro_sink)*ones(nproc,1) \n",
    "    \n",
    "    transS = Vector{Float64}(undef, ncty)\n",
    "    transD = Vector{Float64}(undef, ncty)\n",
    "    for j in 1:ncty\n",
    "        arc_emi = 0\n",
    "        arc_seq = 0\n",
    "        for i in 1:ncty\n",
    "            amount = sum(y[i,j,k] for k in 1:nproc)\n",
    "            arc_emi += amount * distance[!, 2:end][i,j] * EF_trans\n",
    "            arc_seq += arc_emi * (sink_c[j]/emission_c[j] + es_ratio)\n",
    "        end\n",
    "        transD[j] = arc_emi  # ncty*1 matrix\n",
    "        transS[j] = arc_seq  # ncty*1 matrix\n",
    "    end\n",
    "    \n",
    "    EO = sum(proD - proS + transD - transS) \n",
    "    return(EO)\n",
    "end\n",
    "    "
   ]
  },
  {
   "cell_type": "code",
   "execution_count": 12,
   "id": "15cb1ec0",
   "metadata": {},
   "outputs": [
    {
     "data": {
      "text/plain": [
       "soc_ss (generic function with 1 method)"
      ]
     },
     "execution_count": 12,
     "metadata": {},
     "output_type": "execute_result"
    }
   ],
   "source": [
    "function soc_ss(x,y)\n",
    "    \n",
    "    proD = (x .* Matrix(regional_EF[:,2:end])) * ones(nproc,1)  # ncty*1 matrix\n",
    "    pro_sink = zeros(ncty, nproc)\n",
    "    for k in 1:nproc\n",
    "        for i in 1:ncty\n",
    "            pro_sink[i,k] = regional_EF[i, k+1] * (sink_c[i]/emission_c[i] + es_ratio)\n",
    "        end\n",
    "    end\n",
    "    proS = (x.*pro_sink)*ones(nproc,1)  # ncty*1 matrix\n",
    "\n",
    "    \n",
    "    transS = Vector{Float64}(undef, ncty)\n",
    "    transD = Vector{Float64}(undef, ncty)\n",
    "    for j in 1:ncty\n",
    "        arc_emi = 0\n",
    "        arc_seq = 0\n",
    "        for i in 1:ncty\n",
    "            amount = sum(y[i,j,k] for k in 1:nproc)\n",
    "            arc_emi += amount * distance[!, 2:end][i,j] * EF_trans\n",
    "            arc_seq += arc_emi * (sink_c[j]/emission_c[j] + es_ratio)\n",
    "        end\n",
    "        transD[j] = arc_emi  # ncty*1 matrix\n",
    "        transS[j] = arc_seq  # ncty*1 matrix\n",
    "    end\n",
    "\n",
    "    \n",
    "    EO = sum(proD - proS + transD - transS) \n",
    "    Allo_soc = proD ./ emission_c .* Dsoc\n",
    "    SS = sum(Allo_soc - (proD + transD));\n",
    "    \n",
    "    return sum(SS)\n",
    "end\n",
    "    "
   ]
  },
  {
   "cell_type": "code",
   "execution_count": 13,
   "id": "4bbd4d49",
   "metadata": {},
   "outputs": [
    {
     "data": {
      "text/plain": [
       "-2.3863449169501667e6"
      ]
     },
     "execution_count": 13,
     "metadata": {},
     "output_type": "execute_result"
    }
   ],
   "source": [
    "# Obj_EO at sol_soc*\n",
    "\n",
    "EO2 = net_emi(ss_x, ss_y)"
   ]
  },
  {
   "cell_type": "code",
   "execution_count": 14,
   "id": "5d9cbb69",
   "metadata": {},
   "outputs": [
    {
     "data": {
      "text/plain": [
       "-1.0696057136646617e7"
      ]
     },
     "execution_count": 14,
     "metadata": {},
     "output_type": "execute_result"
    }
   ],
   "source": [
    "# Obj_SS at sol_eco*\n",
    "\n",
    "SS2 = soc_ss(eo_x, eo_y)"
   ]
  },
  {
   "cell_type": "code",
   "execution_count": 15,
   "id": "7901451f",
   "metadata": {},
   "outputs": [
    {
     "data": {
      "image/svg+xml": [
       "<?xml version=\"1.0\" encoding=\"utf-8\"?>\n",
       "<svg xmlns=\"http://www.w3.org/2000/svg\" xmlns:xlink=\"http://www.w3.org/1999/xlink\" width=\"600\" height=\"400\" viewBox=\"0 0 2400 1600\">\n",
       "<defs>\n",
       "  <clipPath id=\"clip860\">\n",
       "    <rect x=\"0\" y=\"0\" width=\"2400\" height=\"1600\"/>\n",
       "  </clipPath>\n",
       "</defs>\n",
       "<path clip-path=\"url(#clip860)\" d=\"\n",
       "M0 1600 L2400 1600 L2400 0 L0 0  Z\n",
       "  \" fill=\"#ffffff\" fill-rule=\"evenodd\" fill-opacity=\"1\"/>\n",
       "<defs>\n",
       "  <clipPath id=\"clip861\">\n",
       "    <rect x=\"480\" y=\"0\" width=\"1681\" height=\"1600\"/>\n",
       "  </clipPath>\n",
       "</defs>\n",
       "<path clip-path=\"url(#clip860)\" d=\"\n",
       "M435.629 1410.9 L2352.76 1410.9 L2352.76 47.2441 L435.629 47.2441  Z\n",
       "  \" fill=\"#ffffff\" fill-rule=\"evenodd\" fill-opacity=\"1\"/>\n",
       "<defs>\n",
       "  <clipPath id=\"clip862\">\n",
       "    <rect x=\"435\" y=\"47\" width=\"1918\" height=\"1365\"/>\n",
       "  </clipPath>\n",
       "</defs>\n",
       "<polyline clip-path=\"url(#clip862)\" style=\"stroke:#000000; stroke-linecap:round; stroke-linejoin:round; stroke-width:2; stroke-opacity:0.1; fill:none\" points=\"\n",
       "  493.324,1410.9 493.324,47.2441 \n",
       "  \"/>\n",
       "<polyline clip-path=\"url(#clip862)\" style=\"stroke:#000000; stroke-linecap:round; stroke-linejoin:round; stroke-width:2; stroke-opacity:0.1; fill:none\" points=\"\n",
       "  820.187,1410.9 820.187,47.2441 \n",
       "  \"/>\n",
       "<polyline clip-path=\"url(#clip862)\" style=\"stroke:#000000; stroke-linecap:round; stroke-linejoin:round; stroke-width:2; stroke-opacity:0.1; fill:none\" points=\"\n",
       "  1147.05,1410.9 1147.05,47.2441 \n",
       "  \"/>\n",
       "<polyline clip-path=\"url(#clip862)\" style=\"stroke:#000000; stroke-linecap:round; stroke-linejoin:round; stroke-width:2; stroke-opacity:0.1; fill:none\" points=\"\n",
       "  1473.91,1410.9 1473.91,47.2441 \n",
       "  \"/>\n",
       "<polyline clip-path=\"url(#clip862)\" style=\"stroke:#000000; stroke-linecap:round; stroke-linejoin:round; stroke-width:2; stroke-opacity:0.1; fill:none\" points=\"\n",
       "  1800.77,1410.9 1800.77,47.2441 \n",
       "  \"/>\n",
       "<polyline clip-path=\"url(#clip862)\" style=\"stroke:#000000; stroke-linecap:round; stroke-linejoin:round; stroke-width:2; stroke-opacity:0.1; fill:none\" points=\"\n",
       "  2127.64,1410.9 2127.64,47.2441 \n",
       "  \"/>\n",
       "<polyline clip-path=\"url(#clip860)\" style=\"stroke:#000000; stroke-linecap:round; stroke-linejoin:round; stroke-width:4; stroke-opacity:1; fill:none\" points=\"\n",
       "  435.629,1410.9 2352.76,1410.9 \n",
       "  \"/>\n",
       "<polyline clip-path=\"url(#clip860)\" style=\"stroke:#000000; stroke-linecap:round; stroke-linejoin:round; stroke-width:4; stroke-opacity:1; fill:none\" points=\"\n",
       "  493.324,1410.9 493.324,1392 \n",
       "  \"/>\n",
       "<polyline clip-path=\"url(#clip860)\" style=\"stroke:#000000; stroke-linecap:round; stroke-linejoin:round; stroke-width:4; stroke-opacity:1; fill:none\" points=\"\n",
       "  820.187,1410.9 820.187,1392 \n",
       "  \"/>\n",
       "<polyline clip-path=\"url(#clip860)\" style=\"stroke:#000000; stroke-linecap:round; stroke-linejoin:round; stroke-width:4; stroke-opacity:1; fill:none\" points=\"\n",
       "  1147.05,1410.9 1147.05,1392 \n",
       "  \"/>\n",
       "<polyline clip-path=\"url(#clip860)\" style=\"stroke:#000000; stroke-linecap:round; stroke-linejoin:round; stroke-width:4; stroke-opacity:1; fill:none\" points=\"\n",
       "  1473.91,1410.9 1473.91,1392 \n",
       "  \"/>\n",
       "<polyline clip-path=\"url(#clip860)\" style=\"stroke:#000000; stroke-linecap:round; stroke-linejoin:round; stroke-width:4; stroke-opacity:1; fill:none\" points=\"\n",
       "  1800.77,1410.9 1800.77,1392 \n",
       "  \"/>\n",
       "<polyline clip-path=\"url(#clip860)\" style=\"stroke:#000000; stroke-linecap:round; stroke-linejoin:round; stroke-width:4; stroke-opacity:1; fill:none\" points=\"\n",
       "  2127.64,1410.9 2127.64,1392 \n",
       "  \"/>\n",
       "<path clip-path=\"url(#clip860)\" d=\"M365.721 1472.13 L395.397 1472.13 L395.397 1476.06 L365.721 1476.06 L365.721 1472.13 Z\" fill=\"#000000\" fill-rule=\"evenodd\" fill-opacity=\"1\" /><path clip-path=\"url(#clip860)\" d=\"M419.656 1470.32 Q423.012 1471.04 424.887 1473.31 Q426.785 1475.58 426.785 1478.91 Q426.785 1484.03 423.267 1486.83 Q419.748 1489.63 413.267 1489.63 Q411.091 1489.63 408.776 1489.19 Q406.485 1488.77 404.031 1487.91 L404.031 1483.4 Q405.975 1484.54 408.29 1485.11 Q410.605 1485.69 413.128 1485.69 Q417.526 1485.69 419.818 1483.96 Q422.133 1482.22 422.133 1478.91 Q422.133 1475.85 419.98 1474.14 Q417.85 1472.41 414.031 1472.41 L410.003 1472.41 L410.003 1468.56 L414.216 1468.56 Q417.665 1468.56 419.494 1467.2 Q421.322 1465.81 421.322 1463.22 Q421.322 1460.55 419.424 1459.14 Q417.549 1457.71 414.031 1457.71 Q412.11 1457.71 409.91 1458.12 Q407.711 1458.54 405.073 1459.42 L405.073 1455.25 Q407.735 1454.51 410.049 1454.14 Q412.387 1453.77 414.448 1453.77 Q419.772 1453.77 422.873 1456.2 Q425.975 1458.61 425.975 1462.73 Q425.975 1465.6 424.332 1467.59 Q422.688 1469.56 419.656 1470.32 Z\" fill=\"#000000\" fill-rule=\"evenodd\" fill-opacity=\"1\" /><path clip-path=\"url(#clip860)\" d=\"M435.651 1483.08 L440.535 1483.08 L440.535 1488.96 L435.651 1488.96 L435.651 1483.08 Z\" fill=\"#000000\" fill-rule=\"evenodd\" fill-opacity=\"1\" /><path clip-path=\"url(#clip860)\" d=\"M460.72 1457.48 Q457.109 1457.48 455.281 1461.04 Q453.475 1464.58 453.475 1471.71 Q453.475 1478.82 455.281 1482.38 Q457.109 1485.92 460.72 1485.92 Q464.355 1485.92 466.16 1482.38 Q467.989 1478.82 467.989 1471.71 Q467.989 1464.58 466.16 1461.04 Q464.355 1457.48 460.72 1457.48 M460.72 1453.77 Q466.531 1453.77 469.586 1458.38 Q472.665 1462.96 472.665 1471.71 Q472.665 1480.44 469.586 1485.04 Q466.531 1489.63 460.72 1489.63 Q454.91 1489.63 451.832 1485.04 Q448.776 1480.44 448.776 1471.71 Q448.776 1462.96 451.832 1458.38 Q454.91 1453.77 460.72 1453.77 Z\" fill=\"#000000\" fill-rule=\"evenodd\" fill-opacity=\"1\" /><path clip-path=\"url(#clip860)\" d=\"M490.882 1457.48 Q487.271 1457.48 485.442 1461.04 Q483.637 1464.58 483.637 1471.71 Q483.637 1478.82 485.442 1482.38 Q487.271 1485.92 490.882 1485.92 Q494.517 1485.92 496.322 1482.38 Q498.151 1478.82 498.151 1471.71 Q498.151 1464.58 496.322 1461.04 Q494.517 1457.48 490.882 1457.48 M490.882 1453.77 Q496.692 1453.77 499.748 1458.38 Q502.827 1462.96 502.827 1471.71 Q502.827 1480.44 499.748 1485.04 Q496.692 1489.63 490.882 1489.63 Q485.072 1489.63 481.993 1485.04 Q478.938 1480.44 478.938 1471.71 Q478.938 1462.96 481.993 1458.38 Q485.072 1453.77 490.882 1453.77 Z\" fill=\"#000000\" fill-rule=\"evenodd\" fill-opacity=\"1\" /><path clip-path=\"url(#clip860)\" d=\"M539.215 1463.49 L528.637 1474.12 L539.215 1484.7 L536.461 1487.5 L525.836 1476.87 L515.211 1487.5 L512.479 1484.7 L523.035 1474.12 L512.479 1463.49 L515.211 1460.69 L525.836 1471.32 L536.461 1460.69 L539.215 1463.49 Z\" fill=\"#000000\" fill-rule=\"evenodd\" fill-opacity=\"1\" /><path clip-path=\"url(#clip860)\" d=\"M551.576 1485.02 L559.215 1485.02 L559.215 1458.66 L550.905 1460.32 L550.905 1456.06 L559.169 1454.4 L563.845 1454.4 L563.845 1485.02 L571.484 1485.02 L571.484 1488.96 L551.576 1488.96 L551.576 1485.02 Z\" fill=\"#000000\" fill-rule=\"evenodd\" fill-opacity=\"1\" /><path clip-path=\"url(#clip860)\" d=\"M590.928 1457.48 Q587.317 1457.48 585.488 1461.04 Q583.683 1464.58 583.683 1471.71 Q583.683 1478.82 585.488 1482.38 Q587.317 1485.92 590.928 1485.92 Q594.562 1485.92 596.368 1482.38 Q598.197 1478.82 598.197 1471.71 Q598.197 1464.58 596.368 1461.04 Q594.562 1457.48 590.928 1457.48 M590.928 1453.77 Q596.738 1453.77 599.794 1458.38 Q602.872 1462.96 602.872 1471.71 Q602.872 1480.44 599.794 1485.04 Q596.738 1489.63 590.928 1489.63 Q585.118 1489.63 582.039 1485.04 Q578.984 1480.44 578.984 1471.71 Q578.984 1462.96 582.039 1458.38 Q585.118 1453.77 590.928 1453.77 Z\" fill=\"#000000\" fill-rule=\"evenodd\" fill-opacity=\"1\" /><path clip-path=\"url(#clip860)\" d=\"M602.872 1433.47 L620.928 1433.47 L620.928 1435.08 L610.734 1461.55 L606.766 1461.55 L616.358 1436.66 L602.872 1436.66 L602.872 1433.47 Z\" fill=\"#000000\" fill-rule=\"evenodd\" fill-opacity=\"1\" /><path clip-path=\"url(#clip860)\" d=\"M692.583 1472.13 L722.259 1472.13 L722.259 1476.06 L692.583 1476.06 L692.583 1472.13 Z\" fill=\"#000000\" fill-rule=\"evenodd\" fill-opacity=\"1\" /><path clip-path=\"url(#clip860)\" d=\"M736.379 1485.02 L752.699 1485.02 L752.699 1488.96 L730.754 1488.96 L730.754 1485.02 Q733.416 1482.27 738 1477.64 Q742.606 1472.98 743.787 1471.64 Q746.032 1469.12 746.912 1467.38 Q747.815 1465.62 747.815 1463.93 Q747.815 1461.18 745.87 1459.44 Q743.949 1457.71 740.847 1457.71 Q738.648 1457.71 736.194 1458.47 Q733.764 1459.23 730.986 1460.79 L730.986 1456.06 Q733.81 1454.93 736.264 1454.35 Q738.717 1453.77 740.754 1453.77 Q746.125 1453.77 749.319 1456.46 Q752.514 1459.14 752.514 1463.63 Q752.514 1465.76 751.703 1467.68 Q750.916 1469.58 748.81 1472.17 Q748.231 1472.85 745.129 1476.06 Q742.028 1479.26 736.379 1485.02 Z\" fill=\"#000000\" fill-rule=\"evenodd\" fill-opacity=\"1\" /><path clip-path=\"url(#clip860)\" d=\"M762.514 1483.08 L767.398 1483.08 L767.398 1488.96 L762.514 1488.96 L762.514 1483.08 Z\" fill=\"#000000\" fill-rule=\"evenodd\" fill-opacity=\"1\" /><path clip-path=\"url(#clip860)\" d=\"M777.629 1454.4 L795.986 1454.4 L795.986 1458.33 L781.912 1458.33 L781.912 1466.8 Q782.93 1466.46 783.949 1466.29 Q784.967 1466.11 785.986 1466.11 Q791.773 1466.11 795.152 1469.28 Q798.532 1472.45 798.532 1477.87 Q798.532 1483.45 795.06 1486.55 Q791.587 1489.63 785.268 1489.63 Q783.092 1489.63 780.824 1489.26 Q778.578 1488.89 776.171 1488.15 L776.171 1483.45 Q778.254 1484.58 780.476 1485.14 Q782.699 1485.69 785.175 1485.69 Q789.18 1485.69 791.518 1483.59 Q793.856 1481.48 793.856 1477.87 Q793.856 1474.26 791.518 1472.15 Q789.18 1470.04 785.175 1470.04 Q783.3 1470.04 781.425 1470.46 Q779.574 1470.88 777.629 1471.76 L777.629 1454.4 Z\" fill=\"#000000\" fill-rule=\"evenodd\" fill-opacity=\"1\" /><path clip-path=\"url(#clip860)\" d=\"M817.745 1457.48 Q814.134 1457.48 812.305 1461.04 Q810.499 1464.58 810.499 1471.71 Q810.499 1478.82 812.305 1482.38 Q814.134 1485.92 817.745 1485.92 Q821.379 1485.92 823.184 1482.38 Q825.013 1478.82 825.013 1471.71 Q825.013 1464.58 823.184 1461.04 Q821.379 1457.48 817.745 1457.48 M817.745 1453.77 Q823.555 1453.77 826.61 1458.38 Q829.689 1462.96 829.689 1471.71 Q829.689 1480.44 826.61 1485.04 Q823.555 1489.63 817.745 1489.63 Q811.935 1489.63 808.856 1485.04 Q805.8 1480.44 805.8 1471.71 Q805.8 1462.96 808.856 1458.38 Q811.935 1453.77 817.745 1453.77 Z\" fill=\"#000000\" fill-rule=\"evenodd\" fill-opacity=\"1\" /><path clip-path=\"url(#clip860)\" d=\"M866.078 1463.49 L855.499 1474.12 L866.078 1484.7 L863.323 1487.5 L852.698 1476.87 L842.073 1487.5 L839.342 1484.7 L849.897 1474.12 L839.342 1463.49 L842.073 1460.69 L852.698 1471.32 L863.323 1460.69 L866.078 1463.49 Z\" fill=\"#000000\" fill-rule=\"evenodd\" fill-opacity=\"1\" /><path clip-path=\"url(#clip860)\" d=\"M878.439 1485.02 L886.078 1485.02 L886.078 1458.66 L877.768 1460.32 L877.768 1456.06 L886.031 1454.4 L890.707 1454.4 L890.707 1485.02 L898.346 1485.02 L898.346 1488.96 L878.439 1488.96 L878.439 1485.02 Z\" fill=\"#000000\" fill-rule=\"evenodd\" fill-opacity=\"1\" /><path clip-path=\"url(#clip860)\" d=\"M917.79 1457.48 Q914.179 1457.48 912.351 1461.04 Q910.545 1464.58 910.545 1471.71 Q910.545 1478.82 912.351 1482.38 Q914.179 1485.92 917.79 1485.92 Q921.425 1485.92 923.23 1482.38 Q925.059 1478.82 925.059 1471.71 Q925.059 1464.58 923.23 1461.04 Q921.425 1457.48 917.79 1457.48 M917.79 1453.77 Q923.601 1453.77 926.656 1458.38 Q929.735 1462.96 929.735 1471.71 Q929.735 1480.44 926.656 1485.04 Q923.601 1489.63 917.79 1489.63 Q911.98 1489.63 908.902 1485.04 Q905.846 1480.44 905.846 1471.71 Q905.846 1462.96 908.902 1458.38 Q911.98 1453.77 917.79 1453.77 Z\" fill=\"#000000\" fill-rule=\"evenodd\" fill-opacity=\"1\" /><path clip-path=\"url(#clip860)\" d=\"M929.735 1433.47 L947.79 1433.47 L947.79 1435.08 L937.596 1461.55 L933.628 1461.55 L943.22 1436.66 L929.735 1436.66 L929.735 1433.47 Z\" fill=\"#000000\" fill-rule=\"evenodd\" fill-opacity=\"1\" /><path clip-path=\"url(#clip860)\" d=\"M1019.45 1472.13 L1049.12 1472.13 L1049.12 1476.06 L1019.45 1476.06 L1019.45 1472.13 Z\" fill=\"#000000\" fill-rule=\"evenodd\" fill-opacity=\"1\" /><path clip-path=\"url(#clip860)\" d=\"M1063.24 1485.02 L1079.56 1485.02 L1079.56 1488.96 L1057.62 1488.96 L1057.62 1485.02 Q1060.28 1482.27 1064.86 1477.64 Q1069.47 1472.98 1070.65 1471.64 Q1072.89 1469.12 1073.77 1467.38 Q1074.68 1465.62 1074.68 1463.93 Q1074.68 1461.18 1072.73 1459.44 Q1070.81 1457.71 1067.71 1457.71 Q1065.51 1457.71 1063.06 1458.47 Q1060.63 1459.23 1057.85 1460.79 L1057.85 1456.06 Q1060.67 1454.93 1063.13 1454.35 Q1065.58 1453.77 1067.62 1453.77 Q1072.99 1453.77 1076.18 1456.46 Q1079.38 1459.14 1079.38 1463.63 Q1079.38 1465.76 1078.57 1467.68 Q1077.78 1469.58 1075.67 1472.17 Q1075.09 1472.85 1071.99 1476.06 Q1068.89 1479.26 1063.24 1485.02 Z\" fill=\"#000000\" fill-rule=\"evenodd\" fill-opacity=\"1\" /><path clip-path=\"url(#clip860)\" d=\"M1089.38 1483.08 L1094.26 1483.08 L1094.26 1488.96 L1089.38 1488.96 L1089.38 1483.08 Z\" fill=\"#000000\" fill-rule=\"evenodd\" fill-opacity=\"1\" /><path clip-path=\"url(#clip860)\" d=\"M1114.45 1457.48 Q1110.83 1457.48 1109.01 1461.04 Q1107.2 1464.58 1107.2 1471.71 Q1107.2 1478.82 1109.01 1482.38 Q1110.83 1485.92 1114.45 1485.92 Q1118.08 1485.92 1119.89 1482.38 Q1121.71 1478.82 1121.71 1471.71 Q1121.71 1464.58 1119.89 1461.04 Q1118.08 1457.48 1114.45 1457.48 M1114.45 1453.77 Q1120.26 1453.77 1123.31 1458.38 Q1126.39 1462.96 1126.39 1471.71 Q1126.39 1480.44 1123.31 1485.04 Q1120.26 1489.63 1114.45 1489.63 Q1108.64 1489.63 1105.56 1485.04 Q1102.5 1480.44 1102.5 1471.71 Q1102.5 1462.96 1105.56 1458.38 Q1108.64 1453.77 1114.45 1453.77 Z\" fill=\"#000000\" fill-rule=\"evenodd\" fill-opacity=\"1\" /><path clip-path=\"url(#clip860)\" d=\"M1144.61 1457.48 Q1141 1457.48 1139.17 1461.04 Q1137.36 1464.58 1137.36 1471.71 Q1137.36 1478.82 1139.17 1482.38 Q1141 1485.92 1144.61 1485.92 Q1148.24 1485.92 1150.05 1482.38 Q1151.88 1478.82 1151.88 1471.71 Q1151.88 1464.58 1150.05 1461.04 Q1148.24 1457.48 1144.61 1457.48 M1144.61 1453.77 Q1150.42 1453.77 1153.47 1458.38 Q1156.55 1462.96 1156.55 1471.71 Q1156.55 1480.44 1153.47 1485.04 Q1150.42 1489.63 1144.61 1489.63 Q1138.8 1489.63 1135.72 1485.04 Q1132.66 1480.44 1132.66 1471.71 Q1132.66 1462.96 1135.72 1458.38 Q1138.8 1453.77 1144.61 1453.77 Z\" fill=\"#000000\" fill-rule=\"evenodd\" fill-opacity=\"1\" /><path clip-path=\"url(#clip860)\" d=\"M1192.94 1463.49 L1182.36 1474.12 L1192.94 1484.7 L1190.19 1487.5 L1179.56 1476.87 L1168.94 1487.5 L1166.2 1484.7 L1176.76 1474.12 L1166.2 1463.49 L1168.94 1460.69 L1179.56 1471.32 L1190.19 1460.69 L1192.94 1463.49 Z\" fill=\"#000000\" fill-rule=\"evenodd\" fill-opacity=\"1\" /><path clip-path=\"url(#clip860)\" d=\"M1205.3 1485.02 L1212.94 1485.02 L1212.94 1458.66 L1204.63 1460.32 L1204.63 1456.06 L1212.89 1454.4 L1217.57 1454.4 L1217.57 1485.02 L1225.21 1485.02 L1225.21 1488.96 L1205.3 1488.96 L1205.3 1485.02 Z\" fill=\"#000000\" fill-rule=\"evenodd\" fill-opacity=\"1\" /><path clip-path=\"url(#clip860)\" d=\"M1244.65 1457.48 Q1241.04 1457.48 1239.21 1461.04 Q1237.41 1464.58 1237.41 1471.71 Q1237.41 1478.82 1239.21 1482.38 Q1241.04 1485.92 1244.65 1485.92 Q1248.29 1485.92 1250.09 1482.38 Q1251.92 1478.82 1251.92 1471.71 Q1251.92 1464.58 1250.09 1461.04 Q1248.29 1457.48 1244.65 1457.48 M1244.65 1453.77 Q1250.46 1453.77 1253.52 1458.38 Q1256.6 1462.96 1256.6 1471.71 Q1256.6 1480.44 1253.52 1485.04 Q1250.46 1489.63 1244.65 1489.63 Q1238.84 1489.63 1235.76 1485.04 Q1232.71 1480.44 1232.71 1471.71 Q1232.71 1462.96 1235.76 1458.38 Q1238.84 1453.77 1244.65 1453.77 Z\" fill=\"#000000\" fill-rule=\"evenodd\" fill-opacity=\"1\" /><path clip-path=\"url(#clip860)\" d=\"M1256.6 1433.47 L1274.65 1433.47 L1274.65 1435.08 L1264.46 1461.55 L1260.49 1461.55 L1270.08 1436.66 L1256.6 1436.66 L1256.6 1433.47 Z\" fill=\"#000000\" fill-rule=\"evenodd\" fill-opacity=\"1\" /><path clip-path=\"url(#clip860)\" d=\"M1346.31 1472.13 L1375.98 1472.13 L1375.98 1476.06 L1346.31 1476.06 L1346.31 1472.13 Z\" fill=\"#000000\" fill-rule=\"evenodd\" fill-opacity=\"1\" /><path clip-path=\"url(#clip860)\" d=\"M1386.89 1485.02 L1394.53 1485.02 L1394.53 1458.66 L1386.22 1460.32 L1386.22 1456.06 L1394.48 1454.4 L1399.16 1454.4 L1399.16 1485.02 L1406.79 1485.02 L1406.79 1488.96 L1386.89 1488.96 L1386.89 1485.02 Z\" fill=\"#000000\" fill-rule=\"evenodd\" fill-opacity=\"1\" /><path clip-path=\"url(#clip860)\" d=\"M1416.24 1483.08 L1421.12 1483.08 L1421.12 1488.96 L1416.24 1488.96 L1416.24 1483.08 Z\" fill=\"#000000\" fill-rule=\"evenodd\" fill-opacity=\"1\" /><path clip-path=\"url(#clip860)\" d=\"M1431.35 1454.4 L1449.71 1454.4 L1449.71 1458.33 L1435.64 1458.33 L1435.64 1466.8 Q1436.65 1466.46 1437.67 1466.29 Q1438.69 1466.11 1439.71 1466.11 Q1445.5 1466.11 1448.88 1469.28 Q1452.26 1472.45 1452.26 1477.87 Q1452.26 1483.45 1448.78 1486.55 Q1445.31 1489.63 1438.99 1489.63 Q1436.82 1489.63 1434.55 1489.26 Q1432.3 1488.89 1429.9 1488.15 L1429.9 1483.45 Q1431.98 1484.58 1434.2 1485.14 Q1436.42 1485.69 1438.9 1485.69 Q1442.9 1485.69 1445.24 1483.59 Q1447.58 1481.48 1447.58 1477.87 Q1447.58 1474.26 1445.24 1472.15 Q1442.9 1470.04 1438.9 1470.04 Q1437.03 1470.04 1435.15 1470.46 Q1433.3 1470.88 1431.35 1471.76 L1431.35 1454.4 Z\" fill=\"#000000\" fill-rule=\"evenodd\" fill-opacity=\"1\" /><path clip-path=\"url(#clip860)\" d=\"M1471.47 1457.48 Q1467.86 1457.48 1466.03 1461.04 Q1464.22 1464.58 1464.22 1471.71 Q1464.22 1478.82 1466.03 1482.38 Q1467.86 1485.92 1471.47 1485.92 Q1475.1 1485.92 1476.91 1482.38 Q1478.74 1478.82 1478.74 1471.71 Q1478.74 1464.58 1476.91 1461.04 Q1475.1 1457.48 1471.47 1457.48 M1471.47 1453.77 Q1477.28 1453.77 1480.34 1458.38 Q1483.41 1462.96 1483.41 1471.71 Q1483.41 1480.44 1480.34 1485.04 Q1477.28 1489.63 1471.47 1489.63 Q1465.66 1489.63 1462.58 1485.04 Q1459.53 1480.44 1459.53 1471.71 Q1459.53 1462.96 1462.58 1458.38 Q1465.66 1453.77 1471.47 1453.77 Z\" fill=\"#000000\" fill-rule=\"evenodd\" fill-opacity=\"1\" /><path clip-path=\"url(#clip860)\" d=\"M1519.8 1463.49 L1509.22 1474.12 L1519.8 1484.7 L1517.05 1487.5 L1506.42 1476.87 L1495.8 1487.5 L1493.07 1484.7 L1503.62 1474.12 L1493.07 1463.49 L1495.8 1460.69 L1506.42 1471.32 L1517.05 1460.69 L1519.8 1463.49 Z\" fill=\"#000000\" fill-rule=\"evenodd\" fill-opacity=\"1\" /><path clip-path=\"url(#clip860)\" d=\"M1532.16 1485.02 L1539.8 1485.02 L1539.8 1458.66 L1531.49 1460.32 L1531.49 1456.06 L1539.76 1454.4 L1544.43 1454.4 L1544.43 1485.02 L1552.07 1485.02 L1552.07 1488.96 L1532.16 1488.96 L1532.16 1485.02 Z\" fill=\"#000000\" fill-rule=\"evenodd\" fill-opacity=\"1\" /><path clip-path=\"url(#clip860)\" d=\"M1571.52 1457.48 Q1567.9 1457.48 1566.08 1461.04 Q1564.27 1464.58 1564.27 1471.71 Q1564.27 1478.82 1566.08 1482.38 Q1567.9 1485.92 1571.52 1485.92 Q1575.15 1485.92 1576.96 1482.38 Q1578.78 1478.82 1578.78 1471.71 Q1578.78 1464.58 1576.96 1461.04 Q1575.15 1457.48 1571.52 1457.48 M1571.52 1453.77 Q1577.33 1453.77 1580.38 1458.38 Q1583.46 1462.96 1583.46 1471.71 Q1583.46 1480.44 1580.38 1485.04 Q1577.33 1489.63 1571.52 1489.63 Q1565.71 1489.63 1562.63 1485.04 Q1559.57 1480.44 1559.57 1471.71 Q1559.57 1462.96 1562.63 1458.38 Q1565.71 1453.77 1571.52 1453.77 Z\" fill=\"#000000\" fill-rule=\"evenodd\" fill-opacity=\"1\" /><path clip-path=\"url(#clip860)\" d=\"M1583.46 1433.47 L1601.52 1433.47 L1601.52 1435.08 L1591.32 1461.55 L1587.35 1461.55 L1596.94 1436.66 L1583.46 1436.66 L1583.46 1433.47 Z\" fill=\"#000000\" fill-rule=\"evenodd\" fill-opacity=\"1\" /><path clip-path=\"url(#clip860)\" d=\"M1673.17 1472.13 L1702.85 1472.13 L1702.85 1476.06 L1673.17 1476.06 L1673.17 1472.13 Z\" fill=\"#000000\" fill-rule=\"evenodd\" fill-opacity=\"1\" /><path clip-path=\"url(#clip860)\" d=\"M1713.75 1485.02 L1721.39 1485.02 L1721.39 1458.66 L1713.08 1460.32 L1713.08 1456.06 L1721.34 1454.4 L1726.02 1454.4 L1726.02 1485.02 L1733.66 1485.02 L1733.66 1488.96 L1713.75 1488.96 L1713.75 1485.02 Z\" fill=\"#000000\" fill-rule=\"evenodd\" fill-opacity=\"1\" /><path clip-path=\"url(#clip860)\" d=\"M1743.1 1483.08 L1747.98 1483.08 L1747.98 1488.96 L1743.1 1488.96 L1743.1 1483.08 Z\" fill=\"#000000\" fill-rule=\"evenodd\" fill-opacity=\"1\" /><path clip-path=\"url(#clip860)\" d=\"M1768.17 1457.48 Q1764.56 1457.48 1762.73 1461.04 Q1760.92 1464.58 1760.92 1471.71 Q1760.92 1478.82 1762.73 1482.38 Q1764.56 1485.92 1768.17 1485.92 Q1771.8 1485.92 1773.61 1482.38 Q1775.44 1478.82 1775.44 1471.71 Q1775.44 1464.58 1773.61 1461.04 Q1771.8 1457.48 1768.17 1457.48 M1768.17 1453.77 Q1773.98 1453.77 1777.04 1458.38 Q1780.11 1462.96 1780.11 1471.71 Q1780.11 1480.44 1777.04 1485.04 Q1773.98 1489.63 1768.17 1489.63 Q1762.36 1489.63 1759.28 1485.04 Q1756.23 1480.44 1756.23 1471.71 Q1756.23 1462.96 1759.28 1458.38 Q1762.36 1453.77 1768.17 1453.77 Z\" fill=\"#000000\" fill-rule=\"evenodd\" fill-opacity=\"1\" /><path clip-path=\"url(#clip860)\" d=\"M1798.33 1457.48 Q1794.72 1457.48 1792.89 1461.04 Q1791.09 1464.58 1791.09 1471.71 Q1791.09 1478.82 1792.89 1482.38 Q1794.72 1485.92 1798.33 1485.92 Q1801.97 1485.92 1803.77 1482.38 Q1805.6 1478.82 1805.6 1471.71 Q1805.6 1464.58 1803.77 1461.04 Q1801.97 1457.48 1798.33 1457.48 M1798.33 1453.77 Q1804.14 1453.77 1807.2 1458.38 Q1810.28 1462.96 1810.28 1471.71 Q1810.28 1480.44 1807.2 1485.04 Q1804.14 1489.63 1798.33 1489.63 Q1792.52 1489.63 1789.44 1485.04 Q1786.39 1480.44 1786.39 1471.71 Q1786.39 1462.96 1789.44 1458.38 Q1792.52 1453.77 1798.33 1453.77 Z\" fill=\"#000000\" fill-rule=\"evenodd\" fill-opacity=\"1\" /><path clip-path=\"url(#clip860)\" d=\"M1846.67 1463.49 L1836.09 1474.12 L1846.67 1484.7 L1843.91 1487.5 L1833.29 1476.87 L1822.66 1487.5 L1819.93 1484.7 L1830.48 1474.12 L1819.93 1463.49 L1822.66 1460.69 L1833.29 1471.32 L1843.91 1460.69 L1846.67 1463.49 Z\" fill=\"#000000\" fill-rule=\"evenodd\" fill-opacity=\"1\" /><path clip-path=\"url(#clip860)\" d=\"M1859.03 1485.02 L1866.66 1485.02 L1866.66 1458.66 L1858.35 1460.32 L1858.35 1456.06 L1866.62 1454.4 L1871.29 1454.4 L1871.29 1485.02 L1878.93 1485.02 L1878.93 1488.96 L1859.03 1488.96 L1859.03 1485.02 Z\" fill=\"#000000\" fill-rule=\"evenodd\" fill-opacity=\"1\" /><path clip-path=\"url(#clip860)\" d=\"M1898.38 1457.48 Q1894.77 1457.48 1892.94 1461.04 Q1891.13 1464.58 1891.13 1471.71 Q1891.13 1478.82 1892.94 1482.38 Q1894.77 1485.92 1898.38 1485.92 Q1902.01 1485.92 1903.82 1482.38 Q1905.65 1478.82 1905.65 1471.71 Q1905.65 1464.58 1903.82 1461.04 Q1902.01 1457.48 1898.38 1457.48 M1898.38 1453.77 Q1904.19 1453.77 1907.24 1458.38 Q1910.32 1462.96 1910.32 1471.71 Q1910.32 1480.44 1907.24 1485.04 Q1904.19 1489.63 1898.38 1489.63 Q1892.57 1489.63 1889.49 1485.04 Q1886.43 1480.44 1886.43 1471.71 Q1886.43 1462.96 1889.49 1458.38 Q1892.57 1453.77 1898.38 1453.77 Z\" fill=\"#000000\" fill-rule=\"evenodd\" fill-opacity=\"1\" /><path clip-path=\"url(#clip860)\" d=\"M1910.32 1433.47 L1928.38 1433.47 L1928.38 1435.08 L1918.18 1461.55 L1914.22 1461.55 L1923.81 1436.66 L1910.32 1436.66 L1910.32 1433.47 Z\" fill=\"#000000\" fill-rule=\"evenodd\" fill-opacity=\"1\" /><path clip-path=\"url(#clip860)\" d=\"M1999.37 1472.13 L2029.04 1472.13 L2029.04 1476.06 L1999.37 1476.06 L1999.37 1472.13 Z\" fill=\"#000000\" fill-rule=\"evenodd\" fill-opacity=\"1\" /><path clip-path=\"url(#clip860)\" d=\"M2039.18 1454.4 L2057.54 1454.4 L2057.54 1458.33 L2043.46 1458.33 L2043.46 1466.8 Q2044.48 1466.46 2045.5 1466.29 Q2046.52 1466.11 2047.54 1466.11 Q2053.32 1466.11 2056.7 1469.28 Q2060.08 1472.45 2060.08 1477.87 Q2060.08 1483.45 2056.61 1486.55 Q2053.14 1489.63 2046.82 1489.63 Q2044.64 1489.63 2042.37 1489.26 Q2040.13 1488.89 2037.72 1488.15 L2037.72 1483.45 Q2039.8 1484.58 2042.03 1485.14 Q2044.25 1485.69 2046.73 1485.69 Q2050.73 1485.69 2053.07 1483.59 Q2055.41 1481.48 2055.41 1477.87 Q2055.41 1474.26 2053.07 1472.15 Q2050.73 1470.04 2046.73 1470.04 Q2044.85 1470.04 2042.98 1470.46 Q2041.12 1470.88 2039.18 1471.76 L2039.18 1454.4 Z\" fill=\"#000000\" fill-rule=\"evenodd\" fill-opacity=\"1\" /><path clip-path=\"url(#clip860)\" d=\"M2069.3 1483.08 L2074.18 1483.08 L2074.18 1488.96 L2069.3 1488.96 L2069.3 1483.08 Z\" fill=\"#000000\" fill-rule=\"evenodd\" fill-opacity=\"1\" /><path clip-path=\"url(#clip860)\" d=\"M2094.36 1457.48 Q2090.75 1457.48 2088.93 1461.04 Q2087.12 1464.58 2087.12 1471.71 Q2087.12 1478.82 2088.93 1482.38 Q2090.75 1485.92 2094.36 1485.92 Q2098 1485.92 2099.8 1482.38 Q2101.63 1478.82 2101.63 1471.71 Q2101.63 1464.58 2099.8 1461.04 Q2098 1457.48 2094.36 1457.48 M2094.36 1453.77 Q2100.17 1453.77 2103.23 1458.38 Q2106.31 1462.96 2106.31 1471.71 Q2106.31 1480.44 2103.23 1485.04 Q2100.17 1489.63 2094.36 1489.63 Q2088.55 1489.63 2085.48 1485.04 Q2082.42 1480.44 2082.42 1471.71 Q2082.42 1462.96 2085.48 1458.38 Q2088.55 1453.77 2094.36 1453.77 Z\" fill=\"#000000\" fill-rule=\"evenodd\" fill-opacity=\"1\" /><path clip-path=\"url(#clip860)\" d=\"M2124.53 1457.48 Q2120.92 1457.48 2119.09 1461.04 Q2117.28 1464.58 2117.28 1471.71 Q2117.28 1478.82 2119.09 1482.38 Q2120.92 1485.92 2124.53 1485.92 Q2128.16 1485.92 2129.97 1482.38 Q2131.8 1478.82 2131.8 1471.71 Q2131.8 1464.58 2129.97 1461.04 Q2128.16 1457.48 2124.53 1457.48 M2124.53 1453.77 Q2130.34 1453.77 2133.39 1458.38 Q2136.47 1462.96 2136.47 1471.71 Q2136.47 1480.44 2133.39 1485.04 Q2130.34 1489.63 2124.53 1489.63 Q2118.72 1489.63 2115.64 1485.04 Q2112.58 1480.44 2112.58 1471.71 Q2112.58 1462.96 2115.64 1458.38 Q2118.72 1453.77 2124.53 1453.77 Z\" fill=\"#000000\" fill-rule=\"evenodd\" fill-opacity=\"1\" /><path clip-path=\"url(#clip860)\" d=\"M2172.86 1463.49 L2162.28 1474.12 L2172.86 1484.7 L2170.11 1487.5 L2159.48 1476.87 L2148.86 1487.5 L2146.12 1484.7 L2156.68 1474.12 L2146.12 1463.49 L2148.86 1460.69 L2159.48 1471.32 L2170.11 1460.69 L2172.86 1463.49 Z\" fill=\"#000000\" fill-rule=\"evenodd\" fill-opacity=\"1\" /><path clip-path=\"url(#clip860)\" d=\"M2185.22 1485.02 L2192.86 1485.02 L2192.86 1458.66 L2184.55 1460.32 L2184.55 1456.06 L2192.81 1454.4 L2197.49 1454.4 L2197.49 1485.02 L2205.13 1485.02 L2205.13 1488.96 L2185.22 1488.96 L2185.22 1485.02 Z\" fill=\"#000000\" fill-rule=\"evenodd\" fill-opacity=\"1\" /><path clip-path=\"url(#clip860)\" d=\"M2224.57 1457.48 Q2220.96 1457.48 2219.13 1461.04 Q2217.33 1464.58 2217.33 1471.71 Q2217.33 1478.82 2219.13 1482.38 Q2220.96 1485.92 2224.57 1485.92 Q2228.21 1485.92 2230.01 1482.38 Q2231.84 1478.82 2231.84 1471.71 Q2231.84 1464.58 2230.01 1461.04 Q2228.21 1457.48 2224.57 1457.48 M2224.57 1453.77 Q2230.38 1453.77 2233.44 1458.38 Q2236.52 1462.96 2236.52 1471.71 Q2236.52 1480.44 2233.44 1485.04 Q2230.38 1489.63 2224.57 1489.63 Q2218.76 1489.63 2215.68 1485.04 Q2212.63 1480.44 2212.63 1471.71 Q2212.63 1462.96 2215.68 1458.38 Q2218.76 1453.77 2224.57 1453.77 Z\" fill=\"#000000\" fill-rule=\"evenodd\" fill-opacity=\"1\" /><path clip-path=\"url(#clip860)\" d=\"M2246.54 1445.99 Q2243.98 1445.99 2242.48 1447.74 Q2240.99 1449.49 2240.99 1452.54 Q2240.99 1455.57 2242.48 1457.33 Q2243.98 1459.08 2246.54 1459.08 Q2249.1 1459.08 2250.59 1457.33 Q2252.09 1455.57 2252.09 1452.54 Q2252.09 1449.49 2250.59 1447.74 Q2249.1 1445.99 2246.54 1445.99 M2254.08 1434.09 L2254.08 1437.55 Q2252.65 1436.87 2251.19 1436.51 Q2249.74 1436.16 2248.31 1436.16 Q2244.55 1436.16 2242.55 1438.69 Q2240.58 1441.23 2240.3 1446.37 Q2241.41 1444.73 2243.08 1443.87 Q2244.75 1442.98 2246.77 1442.98 Q2251 1442.98 2253.44 1445.56 Q2255.91 1448.12 2255.91 1452.54 Q2255.91 1456.86 2253.35 1459.48 Q2250.79 1462.09 2246.54 1462.09 Q2241.67 1462.09 2239.09 1458.37 Q2236.52 1454.62 2236.52 1447.53 Q2236.52 1440.88 2239.68 1436.93 Q2242.84 1432.96 2248.16 1432.96 Q2249.59 1432.96 2251.04 1433.24 Q2252.5 1433.52 2254.08 1434.09 Z\" fill=\"#000000\" fill-rule=\"evenodd\" fill-opacity=\"1\" /><path clip-path=\"url(#clip860)\" d=\"M1124.1 1526.67 L1154.14 1526.67 L1154.14 1532.08 L1130.52 1532.08 L1130.52 1546.14 L1153.15 1546.14 L1153.15 1551.56 L1130.52 1551.56 L1130.52 1568.77 L1154.71 1568.77 L1154.71 1574.19 L1124.1 1574.19 L1124.1 1526.67 Z\" fill=\"#000000\" fill-rule=\"evenodd\" fill-opacity=\"1\" /><path clip-path=\"url(#clip860)\" d=\"M1190.68 1539.91 L1190.68 1545.38 Q1188.2 1544.01 1185.68 1543.34 Q1183.2 1542.64 1180.65 1542.64 Q1174.96 1542.64 1171.81 1546.27 Q1168.66 1549.87 1168.66 1556.39 Q1168.66 1562.92 1171.81 1566.55 Q1174.96 1570.14 1180.65 1570.14 Q1183.2 1570.14 1185.68 1569.47 Q1188.2 1568.77 1190.68 1567.41 L1190.68 1572.82 Q1188.23 1573.96 1185.59 1574.54 Q1182.98 1575.11 1180.02 1575.11 Q1171.97 1575.11 1167.22 1570.05 Q1162.48 1564.99 1162.48 1556.39 Q1162.48 1547.67 1167.26 1542.68 Q1172.06 1537.68 1180.4 1537.68 Q1183.11 1537.68 1185.68 1538.25 Q1188.26 1538.79 1190.68 1539.91 Z\" fill=\"#000000\" fill-rule=\"evenodd\" fill-opacity=\"1\" /><path clip-path=\"url(#clip860)\" d=\"M1214.68 1542.64 Q1209.97 1542.64 1207.23 1546.34 Q1204.49 1550 1204.49 1556.39 Q1204.49 1562.79 1207.2 1566.48 Q1209.94 1570.14 1214.68 1570.14 Q1219.36 1570.14 1222.1 1566.45 Q1224.83 1562.76 1224.83 1556.39 Q1224.83 1550.06 1222.1 1546.37 Q1219.36 1542.64 1214.68 1542.64 M1214.68 1537.68 Q1222.32 1537.68 1226.68 1542.64 Q1231.04 1547.61 1231.04 1556.39 Q1231.04 1565.15 1226.68 1570.14 Q1222.32 1575.11 1214.68 1575.11 Q1207.01 1575.11 1202.65 1570.14 Q1198.32 1565.15 1198.32 1556.39 Q1198.32 1547.61 1202.65 1542.64 Q1207.01 1537.68 1214.68 1537.68 Z\" fill=\"#000000\" fill-rule=\"evenodd\" fill-opacity=\"1\" /><path clip-path=\"url(#clip860)\" d=\"M1240.75 1524.66 L1246.6 1524.66 L1246.6 1574.19 L1240.75 1574.19 L1240.75 1524.66 Z\" fill=\"#000000\" fill-rule=\"evenodd\" fill-opacity=\"1\" /><path clip-path=\"url(#clip860)\" d=\"M1272.67 1542.64 Q1267.96 1542.64 1265.22 1546.34 Q1262.49 1550 1262.49 1556.39 Q1262.49 1562.79 1265.19 1566.48 Q1267.93 1570.14 1272.67 1570.14 Q1277.35 1570.14 1280.09 1566.45 Q1282.82 1562.76 1282.82 1556.39 Q1282.82 1550.06 1280.09 1546.37 Q1277.35 1542.64 1272.67 1542.64 M1272.67 1537.68 Q1280.31 1537.68 1284.67 1542.64 Q1289.03 1547.61 1289.03 1556.39 Q1289.03 1565.15 1284.67 1570.14 Q1280.31 1575.11 1272.67 1575.11 Q1265 1575.11 1260.64 1570.14 Q1256.31 1565.15 1256.31 1556.39 Q1256.31 1547.61 1260.64 1542.64 Q1265 1537.68 1272.67 1537.68 Z\" fill=\"#000000\" fill-rule=\"evenodd\" fill-opacity=\"1\" /><path clip-path=\"url(#clip860)\" d=\"M1322.2 1555.95 Q1322.2 1549.58 1319.55 1546.08 Q1316.94 1542.58 1312.2 1542.58 Q1307.49 1542.58 1304.85 1546.08 Q1302.24 1549.58 1302.24 1555.95 Q1302.24 1562.28 1304.85 1565.78 Q1307.49 1569.28 1312.2 1569.28 Q1316.94 1569.28 1319.55 1565.78 Q1322.2 1562.28 1322.2 1555.95 M1328.05 1569.76 Q1328.05 1578.86 1324.01 1583.29 Q1319.97 1587.74 1311.63 1587.74 Q1308.54 1587.74 1305.8 1587.27 Q1303.07 1586.82 1300.49 1585.87 L1300.49 1580.17 Q1303.07 1581.57 1305.58 1582.24 Q1308.1 1582.91 1310.71 1582.91 Q1316.47 1582.91 1319.33 1579.88 Q1322.2 1576.89 1322.2 1570.81 L1322.2 1567.92 Q1320.38 1571.07 1317.55 1572.63 Q1314.72 1574.19 1310.77 1574.19 Q1304.21 1574.19 1300.2 1569.19 Q1296.19 1564.19 1296.19 1555.95 Q1296.19 1547.67 1300.2 1542.68 Q1304.21 1537.68 1310.77 1537.68 Q1314.72 1537.68 1317.55 1539.24 Q1320.38 1540.8 1322.2 1543.95 L1322.2 1538.54 L1328.05 1538.54 L1328.05 1569.76 Z\" fill=\"#000000\" fill-rule=\"evenodd\" fill-opacity=\"1\" /><path clip-path=\"url(#clip860)\" d=\"M1340.12 1538.54 L1345.97 1538.54 L1345.97 1574.19 L1340.12 1574.19 L1340.12 1538.54 M1340.12 1524.66 L1345.97 1524.66 L1345.97 1532.08 L1340.12 1532.08 L1340.12 1524.66 Z\" fill=\"#000000\" fill-rule=\"evenodd\" fill-opacity=\"1\" /><path clip-path=\"url(#clip860)\" d=\"M1383.88 1539.91 L1383.88 1545.38 Q1381.4 1544.01 1378.88 1543.34 Q1376.4 1542.64 1373.85 1542.64 Q1368.16 1542.64 1365.01 1546.27 Q1361.85 1549.87 1361.85 1556.39 Q1361.85 1562.92 1365.01 1566.55 Q1368.16 1570.14 1373.85 1570.14 Q1376.4 1570.14 1378.88 1569.47 Q1381.4 1568.77 1383.88 1567.41 L1383.88 1572.82 Q1381.43 1573.96 1378.79 1574.54 Q1376.18 1575.11 1373.22 1575.11 Q1365.16 1575.11 1360.42 1570.05 Q1355.68 1564.99 1355.68 1556.39 Q1355.68 1547.67 1360.45 1542.68 Q1365.26 1537.68 1373.6 1537.68 Q1376.3 1537.68 1378.88 1538.25 Q1381.46 1538.79 1383.88 1539.91 Z\" fill=\"#000000\" fill-rule=\"evenodd\" fill-opacity=\"1\" /><path clip-path=\"url(#clip860)\" d=\"M1410.27 1556.27 Q1403.17 1556.27 1400.43 1557.89 Q1397.69 1559.51 1397.69 1563.43 Q1397.69 1566.55 1399.73 1568.39 Q1401.8 1570.21 1405.33 1570.21 Q1410.2 1570.21 1413.13 1566.77 Q1416.09 1563.3 1416.09 1557.57 L1416.09 1556.27 L1410.27 1556.27 M1421.95 1553.85 L1421.95 1574.19 L1416.09 1574.19 L1416.09 1568.77 Q1414.09 1572.02 1411.09 1573.58 Q1408.1 1575.11 1403.77 1575.11 Q1398.3 1575.11 1395.05 1572.05 Q1391.84 1568.97 1391.84 1563.81 Q1391.84 1557.79 1395.85 1554.74 Q1399.89 1551.68 1407.88 1551.68 L1416.09 1551.68 L1416.09 1551.11 Q1416.09 1547.07 1413.42 1544.87 Q1410.78 1542.64 1405.97 1542.64 Q1402.91 1542.64 1400.02 1543.38 Q1397.12 1544.11 1394.45 1545.57 L1394.45 1540.16 Q1397.66 1538.92 1400.69 1538.31 Q1403.71 1537.68 1406.57 1537.68 Q1414.31 1537.68 1418.13 1541.69 Q1421.95 1545.7 1421.95 1553.85 Z\" fill=\"#000000\" fill-rule=\"evenodd\" fill-opacity=\"1\" /><path clip-path=\"url(#clip860)\" d=\"M1434.01 1524.66 L1439.87 1524.66 L1439.87 1574.19 L1434.01 1574.19 L1434.01 1524.66 Z\" fill=\"#000000\" fill-rule=\"evenodd\" fill-opacity=\"1\" /><path clip-path=\"url(#clip860)\" d=\"M1452.12 1524.66 L1457.98 1524.66 L1457.98 1574.19 L1452.12 1574.19 L1452.12 1524.66 Z\" fill=\"#000000\" fill-rule=\"evenodd\" fill-opacity=\"1\" /><path clip-path=\"url(#clip860)\" d=\"M1485.06 1577.5 Q1482.58 1583.86 1480.22 1585.8 Q1477.87 1587.74 1473.92 1587.74 L1469.24 1587.74 L1469.24 1582.84 L1472.68 1582.84 Q1475.1 1582.84 1476.44 1581.7 Q1477.77 1580.55 1479.4 1576.29 L1480.45 1573.61 L1466.03 1538.54 L1472.24 1538.54 L1483.38 1566.42 L1494.52 1538.54 L1500.72 1538.54 L1485.06 1577.5 Z\" fill=\"#000000\" fill-rule=\"evenodd\" fill-opacity=\"1\" /><path clip-path=\"url(#clip860)\" d=\"M1558.27 1528.23 L1558.27 1534.5 Q1554.61 1532.74 1551.36 1531.89 Q1548.12 1531.03 1545.09 1531.03 Q1539.84 1531.03 1536.98 1533.06 Q1534.14 1535.1 1534.14 1538.86 Q1534.14 1542.01 1536.02 1543.63 Q1537.93 1545.22 1543.21 1546.21 L1547.1 1547 Q1554.29 1548.37 1557.7 1551.84 Q1561.13 1555.28 1561.13 1561.07 Q1561.13 1567.98 1556.49 1571.54 Q1551.87 1575.11 1542.93 1575.11 Q1539.55 1575.11 1535.73 1574.34 Q1531.95 1573.58 1527.87 1572.08 L1527.87 1565.46 Q1531.79 1567.66 1535.54 1568.77 Q1539.3 1569.89 1542.93 1569.89 Q1548.43 1569.89 1551.43 1567.72 Q1554.42 1565.56 1554.42 1561.55 Q1554.42 1558.05 1552.25 1556.08 Q1550.12 1554.1 1545.22 1553.11 L1541.3 1552.35 Q1534.11 1550.92 1530.9 1547.86 Q1527.68 1544.81 1527.68 1539.37 Q1527.68 1533.06 1532.11 1529.43 Q1536.56 1525.81 1544.36 1525.81 Q1547.7 1525.81 1551.17 1526.41 Q1554.64 1527.02 1558.27 1528.23 Z\" fill=\"#000000\" fill-rule=\"evenodd\" fill-opacity=\"1\" /><path clip-path=\"url(#clip860)\" d=\"M1587.11 1556.27 Q1580.01 1556.27 1577.27 1557.89 Q1574.53 1559.51 1574.53 1563.43 Q1574.53 1566.55 1576.57 1568.39 Q1578.64 1570.21 1582.17 1570.21 Q1587.04 1570.21 1589.97 1566.77 Q1592.93 1563.3 1592.93 1557.57 L1592.93 1556.27 L1587.11 1556.27 M1598.79 1553.85 L1598.79 1574.19 L1592.93 1574.19 L1592.93 1568.77 Q1590.92 1572.02 1587.93 1573.58 Q1584.94 1575.11 1580.61 1575.11 Q1575.14 1575.11 1571.89 1572.05 Q1568.68 1568.97 1568.68 1563.81 Q1568.68 1557.79 1572.69 1554.74 Q1576.73 1551.68 1584.72 1551.68 L1592.93 1551.68 L1592.93 1551.11 Q1592.93 1547.07 1590.26 1544.87 Q1587.61 1542.64 1582.81 1542.64 Q1579.75 1542.64 1576.86 1543.38 Q1573.96 1544.11 1571.29 1545.57 L1571.29 1540.16 Q1574.5 1538.92 1577.52 1538.31 Q1580.55 1537.68 1583.41 1537.68 Q1591.15 1537.68 1594.97 1541.69 Q1598.79 1545.7 1598.79 1553.85 Z\" fill=\"#000000\" fill-rule=\"evenodd\" fill-opacity=\"1\" /><path clip-path=\"url(#clip860)\" d=\"M1628.9 1524.66 L1628.9 1529.53 L1623.29 1529.53 Q1620.14 1529.53 1618.9 1530.8 Q1617.69 1532.08 1617.69 1535.39 L1617.69 1538.54 L1627.34 1538.54 L1627.34 1543.09 L1617.69 1543.09 L1617.69 1574.19 L1611.8 1574.19 L1611.8 1543.09 L1606.2 1543.09 L1606.2 1538.54 L1611.8 1538.54 L1611.8 1536.05 Q1611.8 1530.1 1614.57 1527.4 Q1617.34 1524.66 1623.36 1524.66 L1628.9 1524.66 Z\" fill=\"#000000\" fill-rule=\"evenodd\" fill-opacity=\"1\" /><path clip-path=\"url(#clip860)\" d=\"M1664.29 1554.9 L1664.29 1557.76 L1637.36 1557.76 Q1637.74 1563.81 1640.99 1566.99 Q1644.27 1570.14 1650.09 1570.14 Q1653.47 1570.14 1656.62 1569.32 Q1659.8 1568.49 1662.92 1566.83 L1662.92 1572.37 Q1659.77 1573.71 1656.46 1574.41 Q1653.15 1575.11 1649.74 1575.11 Q1641.21 1575.11 1636.22 1570.14 Q1631.25 1565.18 1631.25 1556.71 Q1631.25 1547.96 1635.96 1542.83 Q1640.7 1537.68 1648.73 1537.68 Q1655.92 1537.68 1660.09 1542.33 Q1664.29 1546.94 1664.29 1554.9 M1658.43 1553.18 Q1658.37 1548.37 1655.73 1545.51 Q1653.12 1542.64 1648.79 1542.64 Q1643.89 1542.64 1640.93 1545.41 Q1638 1548.18 1637.55 1553.21 L1658.43 1553.18 Z\" fill=\"#000000\" fill-rule=\"evenodd\" fill-opacity=\"1\" /><polyline clip-path=\"url(#clip862)\" style=\"stroke:#000000; stroke-linecap:round; stroke-linejoin:round; stroke-width:2; stroke-opacity:0.1; fill:none\" points=\"\n",
       "  435.629,1344.33 2352.76,1344.33 \n",
       "  \"/>\n",
       "<polyline clip-path=\"url(#clip862)\" style=\"stroke:#000000; stroke-linecap:round; stroke-linejoin:round; stroke-width:2; stroke-opacity:0.1; fill:none\" points=\"\n",
       "  435.629,995.516 2352.76,995.516 \n",
       "  \"/>\n",
       "<polyline clip-path=\"url(#clip862)\" style=\"stroke:#000000; stroke-linecap:round; stroke-linejoin:round; stroke-width:2; stroke-opacity:0.1; fill:none\" points=\"\n",
       "  435.629,646.698 2352.76,646.698 \n",
       "  \"/>\n",
       "<polyline clip-path=\"url(#clip862)\" style=\"stroke:#000000; stroke-linecap:round; stroke-linejoin:round; stroke-width:2; stroke-opacity:0.1; fill:none\" points=\"\n",
       "  435.629,297.88 2352.76,297.88 \n",
       "  \"/>\n",
       "<polyline clip-path=\"url(#clip860)\" style=\"stroke:#000000; stroke-linecap:round; stroke-linejoin:round; stroke-width:4; stroke-opacity:1; fill:none\" points=\"\n",
       "  435.629,1410.9 435.629,47.2441 \n",
       "  \"/>\n",
       "<polyline clip-path=\"url(#clip860)\" style=\"stroke:#000000; stroke-linecap:round; stroke-linejoin:round; stroke-width:4; stroke-opacity:1; fill:none\" points=\"\n",
       "  435.629,1344.33 454.527,1344.33 \n",
       "  \"/>\n",
       "<polyline clip-path=\"url(#clip860)\" style=\"stroke:#000000; stroke-linecap:round; stroke-linejoin:round; stroke-width:4; stroke-opacity:1; fill:none\" points=\"\n",
       "  435.629,995.516 454.527,995.516 \n",
       "  \"/>\n",
       "<polyline clip-path=\"url(#clip860)\" style=\"stroke:#000000; stroke-linecap:round; stroke-linejoin:round; stroke-width:4; stroke-opacity:1; fill:none\" points=\"\n",
       "  435.629,646.698 454.527,646.698 \n",
       "  \"/>\n",
       "<polyline clip-path=\"url(#clip860)\" style=\"stroke:#000000; stroke-linecap:round; stroke-linejoin:round; stroke-width:4; stroke-opacity:1; fill:none\" points=\"\n",
       "  435.629,297.88 454.527,297.88 \n",
       "  \"/>\n",
       "<path clip-path=\"url(#clip860)\" d=\"M114.26 1351.23 L143.936 1351.23 L143.936 1355.17 L114.26 1355.17 L114.26 1351.23 Z\" fill=\"#000000\" fill-rule=\"evenodd\" fill-opacity=\"1\" /><path clip-path=\"url(#clip860)\" d=\"M154.839 1364.13 L162.477 1364.13 L162.477 1337.76 L154.167 1339.43 L154.167 1335.17 L162.431 1333.5 L167.107 1333.5 L167.107 1364.13 L174.746 1364.13 L174.746 1368.06 L154.839 1368.06 L154.839 1364.13 Z\" fill=\"#000000\" fill-rule=\"evenodd\" fill-opacity=\"1\" /><path clip-path=\"url(#clip860)\" d=\"M184.19 1362.18 L189.075 1362.18 L189.075 1368.06 L184.19 1368.06 L184.19 1362.18 Z\" fill=\"#000000\" fill-rule=\"evenodd\" fill-opacity=\"1\" /><path clip-path=\"url(#clip860)\" d=\"M203.287 1364.13 L219.607 1364.13 L219.607 1368.06 L197.662 1368.06 L197.662 1364.13 Q200.325 1361.37 204.908 1356.74 Q209.514 1352.09 210.695 1350.75 Q212.94 1348.22 213.82 1346.49 Q214.723 1344.73 214.723 1343.04 Q214.723 1340.28 212.778 1338.55 Q210.857 1336.81 207.755 1336.81 Q205.556 1336.81 203.102 1337.58 Q200.672 1338.34 197.894 1339.89 L197.894 1335.17 Q200.718 1334.03 203.172 1333.45 Q205.625 1332.88 207.662 1332.88 Q213.033 1332.88 216.227 1335.56 Q219.422 1338.25 219.422 1342.74 Q219.422 1344.87 218.611 1346.79 Q217.824 1348.69 215.718 1351.28 Q215.139 1351.95 212.037 1355.17 Q208.936 1358.36 203.287 1364.13 Z\" fill=\"#000000\" fill-rule=\"evenodd\" fill-opacity=\"1\" /><path clip-path=\"url(#clip860)\" d=\"M229.468 1333.5 L247.824 1333.5 L247.824 1337.44 L233.75 1337.44 L233.75 1345.91 Q234.769 1345.56 235.787 1345.4 Q236.806 1345.21 237.824 1345.21 Q243.611 1345.21 246.991 1348.39 Q250.371 1351.56 250.371 1356.97 Q250.371 1362.55 246.898 1365.65 Q243.426 1368.73 237.107 1368.73 Q234.931 1368.73 232.662 1368.36 Q230.417 1367.99 228.01 1367.25 L228.01 1362.55 Q230.093 1363.69 232.315 1364.24 Q234.537 1364.8 237.014 1364.8 Q241.019 1364.8 243.357 1362.69 Q245.695 1360.58 245.695 1356.97 Q245.695 1353.36 243.357 1351.26 Q241.019 1349.15 237.014 1349.15 Q235.139 1349.15 233.264 1349.57 Q231.412 1349.98 229.468 1350.86 L229.468 1333.5 Z\" fill=\"#000000\" fill-rule=\"evenodd\" fill-opacity=\"1\" /><path clip-path=\"url(#clip860)\" d=\"M269.583 1336.58 Q265.972 1336.58 264.144 1340.14 Q262.338 1343.69 262.338 1350.82 Q262.338 1357.92 264.144 1361.49 Q265.972 1365.03 269.583 1365.03 Q273.218 1365.03 275.023 1361.49 Q276.852 1357.92 276.852 1350.82 Q276.852 1343.69 275.023 1340.14 Q273.218 1336.58 269.583 1336.58 M269.583 1332.88 Q275.394 1332.88 278.449 1337.48 Q281.528 1342.07 281.528 1350.82 Q281.528 1359.54 278.449 1364.15 Q275.394 1368.73 269.583 1368.73 Q263.773 1368.73 260.695 1364.15 Q257.639 1359.54 257.639 1350.82 Q257.639 1342.07 260.695 1337.48 Q263.773 1332.88 269.583 1332.88 Z\" fill=\"#000000\" fill-rule=\"evenodd\" fill-opacity=\"1\" /><path clip-path=\"url(#clip860)\" d=\"M317.916 1342.6 L307.338 1353.22 L317.916 1363.8 L315.162 1366.6 L304.537 1355.98 L293.912 1366.6 L291.181 1363.8 L301.736 1353.22 L291.181 1342.6 L293.912 1339.8 L304.537 1350.42 L315.162 1339.8 L317.916 1342.6 Z\" fill=\"#000000\" fill-rule=\"evenodd\" fill-opacity=\"1\" /><path clip-path=\"url(#clip860)\" d=\"M330.278 1364.13 L337.916 1364.13 L337.916 1337.76 L329.606 1339.43 L329.606 1335.17 L337.87 1333.5 L342.546 1333.5 L342.546 1364.13 L350.185 1364.13 L350.185 1368.06 L330.278 1368.06 L330.278 1364.13 Z\" fill=\"#000000\" fill-rule=\"evenodd\" fill-opacity=\"1\" /><path clip-path=\"url(#clip860)\" d=\"M369.629 1336.58 Q366.018 1336.58 364.189 1340.14 Q362.384 1343.69 362.384 1350.82 Q362.384 1357.92 364.189 1361.49 Q366.018 1365.03 369.629 1365.03 Q373.263 1365.03 375.069 1361.49 Q376.898 1357.92 376.898 1350.82 Q376.898 1343.69 375.069 1340.14 Q373.263 1336.58 369.629 1336.58 M369.629 1332.88 Q375.439 1332.88 378.495 1337.48 Q381.574 1342.07 381.574 1350.82 Q381.574 1359.54 378.495 1364.15 Q375.439 1368.73 369.629 1368.73 Q363.819 1368.73 360.74 1364.15 Q357.685 1359.54 357.685 1350.82 Q357.685 1342.07 360.74 1337.48 Q363.819 1332.88 369.629 1332.88 Z\" fill=\"#000000\" fill-rule=\"evenodd\" fill-opacity=\"1\" /><path clip-path=\"url(#clip860)\" d=\"M381.574 1312.57 L399.629 1312.57 L399.629 1314.19 L389.435 1340.65 L385.467 1340.65 L395.059 1315.77 L381.574 1315.77 L381.574 1312.57 Z\" fill=\"#000000\" fill-rule=\"evenodd\" fill-opacity=\"1\" /><path clip-path=\"url(#clip860)\" d=\"M114.26 1002.41 L143.936 1002.41 L143.936 1006.35 L114.26 1006.35 L114.26 1002.41 Z\" fill=\"#000000\" fill-rule=\"evenodd\" fill-opacity=\"1\" /><path clip-path=\"url(#clip860)\" d=\"M154.839 1015.31 L162.477 1015.31 L162.477 988.942 L154.167 990.609 L154.167 986.35 L162.431 984.683 L167.107 984.683 L167.107 1015.31 L174.746 1015.31 L174.746 1019.24 L154.839 1019.24 L154.839 1015.31 Z\" fill=\"#000000\" fill-rule=\"evenodd\" fill-opacity=\"1\" /><path clip-path=\"url(#clip860)\" d=\"M184.19 1013.36 L189.075 1013.36 L189.075 1019.24 L184.19 1019.24 L184.19 1013.36 Z\" fill=\"#000000\" fill-rule=\"evenodd\" fill-opacity=\"1\" /><path clip-path=\"url(#clip860)\" d=\"M203.287 1015.31 L219.607 1015.31 L219.607 1019.24 L197.662 1019.24 L197.662 1015.31 Q200.325 1012.55 204.908 1007.92 Q209.514 1003.27 210.695 1001.93 Q212.94 999.405 213.82 997.669 Q214.723 995.91 214.723 994.22 Q214.723 991.466 212.778 989.729 Q210.857 987.993 207.755 987.993 Q205.556 987.993 203.102 988.757 Q200.672 989.521 197.894 991.072 L197.894 986.35 Q200.718 985.216 203.172 984.637 Q205.625 984.058 207.662 984.058 Q213.033 984.058 216.227 986.743 Q219.422 989.429 219.422 993.919 Q219.422 996.049 218.611 997.97 Q217.824 999.868 215.718 1002.46 Q215.139 1003.13 212.037 1006.35 Q208.936 1009.54 203.287 1015.31 Z\" fill=\"#000000\" fill-rule=\"evenodd\" fill-opacity=\"1\" /><path clip-path=\"url(#clip860)\" d=\"M239.422 987.762 Q235.81 987.762 233.982 991.327 Q232.176 994.868 232.176 1002 Q232.176 1009.1 233.982 1012.67 Q235.81 1016.21 239.422 1016.21 Q243.056 1016.21 244.861 1012.67 Q246.69 1009.1 246.69 1002 Q246.69 994.868 244.861 991.327 Q243.056 987.762 239.422 987.762 M239.422 984.058 Q245.232 984.058 248.287 988.665 Q251.366 993.248 251.366 1002 Q251.366 1010.72 248.287 1015.33 Q245.232 1019.91 239.422 1019.91 Q233.611 1019.91 230.533 1015.33 Q227.477 1010.72 227.477 1002 Q227.477 993.248 230.533 988.665 Q233.611 984.058 239.422 984.058 Z\" fill=\"#000000\" fill-rule=\"evenodd\" fill-opacity=\"1\" /><path clip-path=\"url(#clip860)\" d=\"M269.583 987.762 Q265.972 987.762 264.144 991.327 Q262.338 994.868 262.338 1002 Q262.338 1009.1 264.144 1012.67 Q265.972 1016.21 269.583 1016.21 Q273.218 1016.21 275.023 1012.67 Q276.852 1009.1 276.852 1002 Q276.852 994.868 275.023 991.327 Q273.218 987.762 269.583 987.762 M269.583 984.058 Q275.394 984.058 278.449 988.665 Q281.528 993.248 281.528 1002 Q281.528 1010.72 278.449 1015.33 Q275.394 1019.91 269.583 1019.91 Q263.773 1019.91 260.695 1015.33 Q257.639 1010.72 257.639 1002 Q257.639 993.248 260.695 988.665 Q263.773 984.058 269.583 984.058 Z\" fill=\"#000000\" fill-rule=\"evenodd\" fill-opacity=\"1\" /><path clip-path=\"url(#clip860)\" d=\"M317.916 993.78 L307.338 1004.41 L317.916 1014.98 L315.162 1017.78 L304.537 1007.16 L293.912 1017.78 L291.181 1014.98 L301.736 1004.41 L291.181 993.78 L293.912 990.979 L304.537 1001.6 L315.162 990.979 L317.916 993.78 Z\" fill=\"#000000\" fill-rule=\"evenodd\" fill-opacity=\"1\" /><path clip-path=\"url(#clip860)\" d=\"M330.278 1015.31 L337.916 1015.31 L337.916 988.942 L329.606 990.609 L329.606 986.35 L337.87 984.683 L342.546 984.683 L342.546 1015.31 L350.185 1015.31 L350.185 1019.24 L330.278 1019.24 L330.278 1015.31 Z\" fill=\"#000000\" fill-rule=\"evenodd\" fill-opacity=\"1\" /><path clip-path=\"url(#clip860)\" d=\"M369.629 987.762 Q366.018 987.762 364.189 991.327 Q362.384 994.868 362.384 1002 Q362.384 1009.1 364.189 1012.67 Q366.018 1016.21 369.629 1016.21 Q373.263 1016.21 375.069 1012.67 Q376.898 1009.1 376.898 1002 Q376.898 994.868 375.069 991.327 Q373.263 987.762 369.629 987.762 M369.629 984.058 Q375.439 984.058 378.495 988.665 Q381.574 993.248 381.574 1002 Q381.574 1010.72 378.495 1015.33 Q375.439 1019.91 369.629 1019.91 Q363.819 1019.91 360.74 1015.33 Q357.685 1010.72 357.685 1002 Q357.685 993.248 360.74 988.665 Q363.819 984.058 369.629 984.058 Z\" fill=\"#000000\" fill-rule=\"evenodd\" fill-opacity=\"1\" /><path clip-path=\"url(#clip860)\" d=\"M381.574 963.753 L399.629 963.753 L399.629 965.37 L389.435 991.833 L385.467 991.833 L395.059 966.95 L381.574 966.95 L381.574 963.753 Z\" fill=\"#000000\" fill-rule=\"evenodd\" fill-opacity=\"1\" /><path clip-path=\"url(#clip860)\" d=\"M114.26 653.597 L143.936 653.597 L143.936 657.532 L114.26 657.532 L114.26 653.597 Z\" fill=\"#000000\" fill-rule=\"evenodd\" fill-opacity=\"1\" /><path clip-path=\"url(#clip860)\" d=\"M154.839 666.49 L162.477 666.49 L162.477 640.124 L154.167 641.791 L154.167 637.532 L162.431 635.865 L167.107 635.865 L167.107 666.49 L174.746 666.49 L174.746 670.425 L154.839 670.425 L154.839 666.49 Z\" fill=\"#000000\" fill-rule=\"evenodd\" fill-opacity=\"1\" /><path clip-path=\"url(#clip860)\" d=\"M184.19 664.546 L189.075 664.546 L189.075 670.425 L184.19 670.425 L184.19 664.546 Z\" fill=\"#000000\" fill-rule=\"evenodd\" fill-opacity=\"1\" /><path clip-path=\"url(#clip860)\" d=\"M200.07 666.49 L207.709 666.49 L207.709 640.124 L199.399 641.791 L199.399 637.532 L207.662 635.865 L212.338 635.865 L212.338 666.49 L219.977 666.49 L219.977 670.425 L200.07 670.425 L200.07 666.49 Z\" fill=\"#000000\" fill-rule=\"evenodd\" fill-opacity=\"1\" /><path clip-path=\"url(#clip860)\" d=\"M229.468 635.865 L247.824 635.865 L247.824 639.8 L233.75 639.8 L233.75 648.273 Q234.769 647.925 235.787 647.763 Q236.806 647.578 237.824 647.578 Q243.611 647.578 246.991 650.749 Q250.371 653.921 250.371 659.337 Q250.371 664.916 246.898 668.018 Q243.426 671.096 237.107 671.096 Q234.931 671.096 232.662 670.726 Q230.417 670.356 228.01 669.615 L228.01 664.916 Q230.093 666.05 232.315 666.606 Q234.537 667.161 237.014 667.161 Q241.019 667.161 243.357 665.055 Q245.695 662.948 245.695 659.337 Q245.695 655.726 243.357 653.62 Q241.019 651.513 237.014 651.513 Q235.139 651.513 233.264 651.93 Q231.412 652.347 229.468 653.226 L229.468 635.865 Z\" fill=\"#000000\" fill-rule=\"evenodd\" fill-opacity=\"1\" /><path clip-path=\"url(#clip860)\" d=\"M269.583 638.944 Q265.972 638.944 264.144 642.509 Q262.338 646.05 262.338 653.18 Q262.338 660.286 264.144 663.851 Q265.972 667.393 269.583 667.393 Q273.218 667.393 275.023 663.851 Q276.852 660.286 276.852 653.18 Q276.852 646.05 275.023 642.509 Q273.218 638.944 269.583 638.944 M269.583 635.24 Q275.394 635.24 278.449 639.847 Q281.528 644.43 281.528 653.18 Q281.528 661.907 278.449 666.513 Q275.394 671.096 269.583 671.096 Q263.773 671.096 260.695 666.513 Q257.639 661.907 257.639 653.18 Q257.639 644.43 260.695 639.847 Q263.773 635.24 269.583 635.24 Z\" fill=\"#000000\" fill-rule=\"evenodd\" fill-opacity=\"1\" /><path clip-path=\"url(#clip860)\" d=\"M317.916 644.962 L307.338 655.587 L317.916 666.166 L315.162 668.967 L304.537 658.342 L293.912 668.967 L291.181 666.166 L301.736 655.587 L291.181 644.962 L293.912 642.161 L304.537 652.786 L315.162 642.161 L317.916 644.962 Z\" fill=\"#000000\" fill-rule=\"evenodd\" fill-opacity=\"1\" /><path clip-path=\"url(#clip860)\" d=\"M330.278 666.49 L337.916 666.49 L337.916 640.124 L329.606 641.791 L329.606 637.532 L337.87 635.865 L342.546 635.865 L342.546 666.49 L350.185 666.49 L350.185 670.425 L330.278 670.425 L330.278 666.49 Z\" fill=\"#000000\" fill-rule=\"evenodd\" fill-opacity=\"1\" /><path clip-path=\"url(#clip860)\" d=\"M369.629 638.944 Q366.018 638.944 364.189 642.509 Q362.384 646.05 362.384 653.18 Q362.384 660.286 364.189 663.851 Q366.018 667.393 369.629 667.393 Q373.263 667.393 375.069 663.851 Q376.898 660.286 376.898 653.18 Q376.898 646.05 375.069 642.509 Q373.263 638.944 369.629 638.944 M369.629 635.24 Q375.439 635.24 378.495 639.847 Q381.574 644.43 381.574 653.18 Q381.574 661.907 378.495 666.513 Q375.439 671.096 369.629 671.096 Q363.819 671.096 360.74 666.513 Q357.685 661.907 357.685 653.18 Q357.685 644.43 360.74 639.847 Q363.819 635.24 369.629 635.24 Z\" fill=\"#000000\" fill-rule=\"evenodd\" fill-opacity=\"1\" /><path clip-path=\"url(#clip860)\" d=\"M381.574 614.935 L399.629 614.935 L399.629 616.552 L389.435 643.015 L385.467 643.015 L395.059 618.132 L381.574 618.132 L381.574 614.935 Z\" fill=\"#000000\" fill-rule=\"evenodd\" fill-opacity=\"1\" /><path clip-path=\"url(#clip860)\" d=\"M114.26 304.779 L143.936 304.779 L143.936 308.714 L114.26 308.714 L114.26 304.779 Z\" fill=\"#000000\" fill-rule=\"evenodd\" fill-opacity=\"1\" /><path clip-path=\"url(#clip860)\" d=\"M154.839 317.672 L162.477 317.672 L162.477 291.306 L154.167 292.973 L154.167 288.714 L162.431 287.047 L167.107 287.047 L167.107 317.672 L174.746 317.672 L174.746 321.607 L154.839 321.607 L154.839 317.672 Z\" fill=\"#000000\" fill-rule=\"evenodd\" fill-opacity=\"1\" /><path clip-path=\"url(#clip860)\" d=\"M184.19 315.728 L189.075 315.728 L189.075 321.607 L184.19 321.607 L184.19 315.728 Z\" fill=\"#000000\" fill-rule=\"evenodd\" fill-opacity=\"1\" /><path clip-path=\"url(#clip860)\" d=\"M200.07 317.672 L207.709 317.672 L207.709 291.306 L199.399 292.973 L199.399 288.714 L207.662 287.047 L212.338 287.047 L212.338 317.672 L219.977 317.672 L219.977 321.607 L200.07 321.607 L200.07 317.672 Z\" fill=\"#000000\" fill-rule=\"evenodd\" fill-opacity=\"1\" /><path clip-path=\"url(#clip860)\" d=\"M239.422 290.126 Q235.81 290.126 233.982 293.691 Q232.176 297.232 232.176 304.362 Q232.176 311.468 233.982 315.033 Q235.81 318.575 239.422 318.575 Q243.056 318.575 244.861 315.033 Q246.69 311.468 246.69 304.362 Q246.69 297.232 244.861 293.691 Q243.056 290.126 239.422 290.126 M239.422 286.422 Q245.232 286.422 248.287 291.029 Q251.366 295.612 251.366 304.362 Q251.366 313.089 248.287 317.695 Q245.232 322.278 239.422 322.278 Q233.611 322.278 230.533 317.695 Q227.477 313.089 227.477 304.362 Q227.477 295.612 230.533 291.029 Q233.611 286.422 239.422 286.422 Z\" fill=\"#000000\" fill-rule=\"evenodd\" fill-opacity=\"1\" /><path clip-path=\"url(#clip860)\" d=\"M269.583 290.126 Q265.972 290.126 264.144 293.691 Q262.338 297.232 262.338 304.362 Q262.338 311.468 264.144 315.033 Q265.972 318.575 269.583 318.575 Q273.218 318.575 275.023 315.033 Q276.852 311.468 276.852 304.362 Q276.852 297.232 275.023 293.691 Q273.218 290.126 269.583 290.126 M269.583 286.422 Q275.394 286.422 278.449 291.029 Q281.528 295.612 281.528 304.362 Q281.528 313.089 278.449 317.695 Q275.394 322.278 269.583 322.278 Q263.773 322.278 260.695 317.695 Q257.639 313.089 257.639 304.362 Q257.639 295.612 260.695 291.029 Q263.773 286.422 269.583 286.422 Z\" fill=\"#000000\" fill-rule=\"evenodd\" fill-opacity=\"1\" /><path clip-path=\"url(#clip860)\" d=\"M317.916 296.144 L307.338 306.769 L317.916 317.348 L315.162 320.149 L304.537 309.524 L293.912 320.149 L291.181 317.348 L301.736 306.769 L291.181 296.144 L293.912 293.343 L304.537 303.968 L315.162 293.343 L317.916 296.144 Z\" fill=\"#000000\" fill-rule=\"evenodd\" fill-opacity=\"1\" /><path clip-path=\"url(#clip860)\" d=\"M330.278 317.672 L337.916 317.672 L337.916 291.306 L329.606 292.973 L329.606 288.714 L337.87 287.047 L342.546 287.047 L342.546 317.672 L350.185 317.672 L350.185 321.607 L330.278 321.607 L330.278 317.672 Z\" fill=\"#000000\" fill-rule=\"evenodd\" fill-opacity=\"1\" /><path clip-path=\"url(#clip860)\" d=\"M369.629 290.126 Q366.018 290.126 364.189 293.691 Q362.384 297.232 362.384 304.362 Q362.384 311.468 364.189 315.033 Q366.018 318.575 369.629 318.575 Q373.263 318.575 375.069 315.033 Q376.898 311.468 376.898 304.362 Q376.898 297.232 375.069 293.691 Q373.263 290.126 369.629 290.126 M369.629 286.422 Q375.439 286.422 378.495 291.029 Q381.574 295.612 381.574 304.362 Q381.574 313.089 378.495 317.695 Q375.439 322.278 369.629 322.278 Q363.819 322.278 360.74 317.695 Q357.685 313.089 357.685 304.362 Q357.685 295.612 360.74 291.029 Q363.819 286.422 369.629 286.422 Z\" fill=\"#000000\" fill-rule=\"evenodd\" fill-opacity=\"1\" /><path clip-path=\"url(#clip860)\" d=\"M381.574 266.117 L399.629 266.117 L399.629 267.734 L389.435 294.197 L385.467 294.197 L395.059 269.314 L381.574 269.314 L381.574 266.117 Z\" fill=\"#000000\" fill-rule=\"evenodd\" fill-opacity=\"1\" /><path clip-path=\"url(#clip860)\" d=\"M18.0438 890.918 L24.314 890.918 Q22.5634 894.579 21.704 897.825 Q20.8447 901.072 20.8447 904.095 Q20.8447 909.347 22.8817 912.212 Q24.9187 915.044 28.6745 915.044 Q31.8255 915.044 33.4488 913.167 Q35.0402 911.257 36.0269 905.973 L36.8226 902.09 Q38.1912 894.897 41.6605 891.491 Q45.098 888.054 50.8908 888.054 Q57.7976 888.054 61.3624 892.701 Q64.9272 897.316 64.9272 906.26 Q64.9272 909.634 64.1633 913.453 Q63.3994 917.241 61.9035 921.315 L55.2831 921.315 Q57.4793 917.4 58.5933 913.644 Q59.7073 909.888 59.7073 906.26 Q59.7073 900.753 57.543 897.762 Q55.3786 894.77 51.3682 894.77 Q47.8671 894.77 45.8937 896.934 Q43.9204 899.067 42.9337 903.968 L42.1698 907.883 Q40.7375 915.076 37.682 918.291 Q34.6264 921.506 29.1837 921.506 Q22.8817 921.506 19.2532 917.082 Q15.6248 912.626 15.6248 904.828 Q15.6248 901.486 16.2295 898.016 Q16.8343 894.547 18.0438 890.918 Z\" fill=\"#000000\" fill-rule=\"evenodd\" fill-opacity=\"1\" /><path clip-path=\"url(#clip860)\" d=\"M32.4621 864.469 Q32.4621 869.18 36.1542 871.917 Q39.8145 874.654 46.212 874.654 Q52.6095 874.654 56.3017 871.949 Q59.9619 869.211 59.9619 864.469 Q59.9619 859.79 56.2698 857.053 Q52.5777 854.316 46.212 854.316 Q39.8781 854.316 36.186 857.053 Q32.4621 859.79 32.4621 864.469 M27.4968 864.469 Q27.4968 856.83 32.4621 852.47 Q37.4273 848.109 46.212 848.109 Q54.9649 848.109 59.9619 852.47 Q64.9272 856.83 64.9272 864.469 Q64.9272 872.14 59.9619 876.5 Q54.9649 880.829 46.212 880.829 Q37.4273 880.829 32.4621 876.5 Q27.4968 872.14 27.4968 864.469 Z\" fill=\"#000000\" fill-rule=\"evenodd\" fill-opacity=\"1\" /><path clip-path=\"url(#clip860)\" d=\"M29.7248 812.748 L35.1993 812.748 Q33.8307 815.23 33.1623 817.745 Q32.4621 820.227 32.4621 822.774 Q32.4621 828.471 36.0905 831.622 Q39.6872 834.773 46.212 834.773 Q52.7369 834.773 56.3653 831.622 Q59.9619 828.471 59.9619 822.774 Q59.9619 820.227 59.2935 817.745 Q58.5933 815.23 57.2247 812.748 L62.6355 812.748 Q63.7814 815.198 64.3543 817.84 Q64.9272 820.45 64.9272 823.41 Q64.9272 831.463 59.8664 836.205 Q54.8057 840.948 46.212 840.948 Q37.491 840.948 32.4939 836.173 Q27.4968 831.367 27.4968 823.028 Q27.4968 820.323 28.0697 817.745 Q28.6108 815.167 29.7248 812.748 Z\" fill=\"#000000\" fill-rule=\"evenodd\" fill-opacity=\"1\" /><path clip-path=\"url(#clip860)\" d=\"M28.3562 802.562 L28.3562 796.706 L64.0042 796.706 L64.0042 802.562 L28.3562 802.562 M14.479 802.562 L14.479 796.706 L21.895 796.706 L21.895 802.562 L14.479 802.562 Z\" fill=\"#000000\" fill-rule=\"evenodd\" fill-opacity=\"1\" /><path clip-path=\"url(#clip860)\" d=\"M46.0847 768.251 Q46.0847 775.349 47.7079 778.086 Q49.3312 780.824 53.2461 780.824 Q56.3653 780.824 58.2114 778.787 Q60.0256 776.718 60.0256 773.185 Q60.0256 768.315 56.5881 765.387 Q53.1188 762.427 47.3897 762.427 L46.0847 762.427 L46.0847 768.251 M43.6657 756.57 L64.0042 756.57 L64.0042 762.427 L58.5933 762.427 Q61.8398 764.432 63.3994 767.424 Q64.9272 770.416 64.9272 774.744 Q64.9272 780.219 61.8716 783.465 Q58.7843 786.68 53.6281 786.68 Q47.6125 786.68 44.5569 782.67 Q41.5014 778.627 41.5014 770.638 L41.5014 762.427 L40.9285 762.427 Q36.8862 762.427 34.6901 765.1 Q32.4621 767.742 32.4621 772.548 Q32.4621 775.604 33.1941 778.5 Q33.9262 781.396 35.3903 784.07 L29.9795 784.07 Q28.7381 780.855 28.1334 777.832 Q27.4968 774.808 27.4968 771.943 Q27.4968 764.209 31.5072 760.39 Q35.5176 756.57 43.6657 756.57 Z\" fill=\"#000000\" fill-rule=\"evenodd\" fill-opacity=\"1\" /><path clip-path=\"url(#clip860)\" d=\"M14.479 744.507 L14.479 738.651 L64.0042 738.651 L64.0042 744.507 L14.479 744.507 Z\" fill=\"#000000\" fill-rule=\"evenodd\" fill-opacity=\"1\" /><path clip-path=\"url(#clip860)\" d=\"M14.479 726.397 L14.479 720.54 L64.0042 720.54 L64.0042 726.397 L14.479 726.397 Z\" fill=\"#000000\" fill-rule=\"evenodd\" fill-opacity=\"1\" /><path clip-path=\"url(#clip860)\" d=\"M67.3143 693.454 Q73.68 695.937 75.6216 698.292 Q77.5631 700.647 77.5631 704.594 L77.5631 709.273 L72.6615 709.273 L72.6615 705.836 Q72.6615 703.417 71.5157 702.08 Q70.3699 700.743 66.1048 699.12 L63.4312 698.069 L28.3562 712.488 L28.3562 706.281 L56.238 695.141 L28.3562 684.001 L28.3562 677.795 L67.3143 693.454 Z\" fill=\"#000000\" fill-rule=\"evenodd\" fill-opacity=\"1\" /><path clip-path=\"url(#clip860)\" d=\"M16.4842 648.735 L16.4842 642.306 L60.694 642.306 Q69.2877 642.306 73.1708 645.584 Q77.0539 648.831 77.0539 656.056 L77.0539 658.507 L71.643 658.507 L71.643 656.501 Q71.643 652.236 69.2559 650.486 Q66.8687 648.735 60.694 648.735 L16.4842 648.735 Z\" fill=\"#000000\" fill-rule=\"evenodd\" fill-opacity=\"1\" /><path clip-path=\"url(#clip860)\" d=\"M49.9359 630.37 L28.3562 630.37 L28.3562 624.514 L49.7131 624.514 Q54.7739 624.514 57.3202 622.54 Q59.8346 620.567 59.8346 616.62 Q59.8346 611.878 56.8109 609.14 Q53.7872 606.371 48.5673 606.371 L28.3562 606.371 L28.3562 600.515 L64.0042 600.515 L64.0042 606.371 L58.5296 606.371 Q61.7762 608.504 63.3676 611.337 Q64.9272 614.138 64.9272 617.861 Q64.9272 624.004 61.1078 627.187 Q57.2883 630.37 49.9359 630.37 M27.4968 615.633 L27.4968 615.633 Z\" fill=\"#000000\" fill-rule=\"evenodd\" fill-opacity=\"1\" /><path clip-path=\"url(#clip860)\" d=\"M29.4065 565.726 L34.9447 565.726 Q33.6716 568.209 33.035 570.883 Q32.3984 573.556 32.3984 576.421 Q32.3984 580.781 33.7352 582.977 Q35.072 585.142 37.7456 585.142 Q39.7826 585.142 40.9603 583.582 Q42.1061 582.023 43.1565 577.312 L43.6021 575.307 Q44.9389 569.068 47.3897 566.458 Q49.8086 563.817 54.1691 563.817 Q59.1344 563.817 62.0308 567.763 Q64.9272 571.678 64.9272 578.553 Q64.9272 581.418 64.3543 584.537 Q63.8132 587.624 62.6992 591.062 L56.6518 591.062 Q58.3387 587.815 59.198 584.664 Q60.0256 581.513 60.0256 578.426 Q60.0256 574.288 58.6251 572.06 Q57.1929 569.832 54.6147 569.832 Q52.2276 569.832 50.9545 571.455 Q49.6813 573.047 48.5037 578.49 L48.0262 580.527 Q46.8804 585.969 44.5251 588.388 Q42.138 590.807 38.0002 590.807 Q32.9713 590.807 30.2341 587.242 Q27.4968 583.678 27.4968 577.121 Q27.4968 573.874 27.9743 571.01 Q28.4517 568.145 29.4065 565.726 Z\" fill=\"#000000\" fill-rule=\"evenodd\" fill-opacity=\"1\" /><path clip-path=\"url(#clip860)\" d=\"M18.2347 548.698 L28.3562 548.698 L28.3562 536.635 L32.9077 536.635 L32.9077 548.698 L52.2594 548.698 Q56.6199 548.698 57.8613 547.52 Q59.1026 546.311 59.1026 542.651 L59.1026 536.635 L64.0042 536.635 L64.0042 542.651 Q64.0042 549.43 61.4897 552.008 Q58.9434 554.586 52.2594 554.586 L32.9077 554.586 L32.9077 558.883 L28.3562 558.883 L28.3562 554.586 L18.2347 554.586 L18.2347 548.698 Z\" fill=\"#000000\" fill-rule=\"evenodd\" fill-opacity=\"1\" /><circle clip-path=\"url(#clip862)\" cx=\"489.887\" cy=\"85.838\" r=\"14.4\" fill=\"#009af9\" fill-rule=\"evenodd\" fill-opacity=\"1\" stroke=\"#000000\" stroke-opacity=\"1\" stroke-width=\"3.2\"/>\n",
       "<circle clip-path=\"url(#clip862)\" cx=\"2298.5\" cy=\"1372.3\" r=\"14.4\" fill=\"#009af9\" fill-rule=\"evenodd\" fill-opacity=\"1\" stroke=\"#000000\" stroke-opacity=\"1\" stroke-width=\"3.2\"/>\n",
       "<path clip-path=\"url(#clip860)\" d=\"\n",
       "M2044.71 196.379 L2288.85 196.379 L2288.85 92.6992 L2044.71 92.6992  Z\n",
       "  \" fill=\"#ffffff\" fill-rule=\"evenodd\" fill-opacity=\"1\"/>\n",
       "<polyline clip-path=\"url(#clip860)\" style=\"stroke:#000000; stroke-linecap:round; stroke-linejoin:round; stroke-width:4; stroke-opacity:1; fill:none\" points=\"\n",
       "  2044.71,196.379 2288.85,196.379 2288.85,92.6992 2044.71,92.6992 2044.71,196.379 \n",
       "  \"/>\n",
       "<circle clip-path=\"url(#clip860)\" cx=\"2129.91\" cy=\"144.539\" r=\"23.04\" fill=\"#009af9\" fill-rule=\"evenodd\" fill-opacity=\"1\" stroke=\"#000000\" stroke-opacity=\"1\" stroke-width=\"5.12\"/>\n",
       "<path clip-path=\"url(#clip860)\" d=\"M2228.96 164.227 Q2227.16 168.856 2225.44 170.268 Q2223.73 171.68 2220.86 171.68 L2217.46 171.68 L2217.46 168.115 L2219.96 168.115 Q2221.72 168.115 2222.69 167.282 Q2223.66 166.449 2224.84 163.347 L2225.61 161.403 L2215.12 135.893 L2219.63 135.893 L2227.74 156.171 L2235.84 135.893 L2240.35 135.893 L2228.96 164.227 Z\" fill=\"#000000\" fill-rule=\"evenodd\" fill-opacity=\"1\" /><path clip-path=\"url(#clip860)\" d=\"M2247.64 157.884 L2255.28 157.884 L2255.28 131.518 L2246.97 133.185 L2246.97 128.926 L2255.24 127.259 L2259.91 127.259 L2259.91 157.884 L2267.55 157.884 L2267.55 161.819 L2247.64 161.819 L2247.64 157.884 Z\" fill=\"#000000\" fill-rule=\"evenodd\" fill-opacity=\"1\" /></svg>\n"
      ]
     },
     "execution_count": 15,
     "metadata": {},
     "output_type": "execute_result"
    }
   ],
   "source": [
    "x_axis = [EO1, EO2]\n",
    "y_axis = [SS2, SS1]\n",
    "\n",
    "# plot(x_axis, y_axis)\n",
    "# plot!(x_axis, y_axis, seriestype=:scatter)\n",
    "scatter(x_axis, y_axis)\n",
    "\n",
    "# title!(\"Over the whole supply chain (ϵ-constraint)\")\n",
    "xlabel!(\"Ecologically Safe\")\n",
    "ylabel!(\"Socially Just\")"
   ]
  },
  {
   "cell_type": "markdown",
   "id": "5c2aa1d3",
   "metadata": {},
   "source": [
    "----"
   ]
  },
  {
   "cell_type": "markdown",
   "id": "ebc06cb3",
   "metadata": {},
   "source": [
    "### Pareto Front Plot"
   ]
  },
  {
   "cell_type": "code",
   "execution_count": 16,
   "id": "6f791f8b",
   "metadata": {},
   "outputs": [
    {
     "data": {
      "text/plain": [
       "cal_intm (generic function with 1 method)"
      ]
     },
     "execution_count": 16,
     "metadata": {},
     "output_type": "execute_result"
    }
   ],
   "source": [
    "function cal_intm(EO_m)\n",
    "    model = Model(Gurobi.Optimizer)\n",
    "    set_silent(model)\n",
    "    @variable(model, x[1:ncty, 1:nproc] >= 0)           \n",
    "    @variable(model, y[1:ncty, 1:ncty, 1:nproc] >= 0)\n",
    "    \n",
    "    \n",
    "    cstr_cap = [@constraint(model, x[i,k] <= capacity[!, 2:end][i,k]) for k in 1:nproc for i in 1:ncty]\n",
    "    cstr_lca = [@constraint(model, sum(x[i,k] for i in 1:ncty) == input_amount[k]) for k in 1:nproc]\n",
    "    cstr_op = [@constraint(model, sum(y[i,j,k] for j in 1:ncty) == x[i,k]) for k in 1:nproc for i in 1:ncty]\n",
    "    cstr_cth = [@constraint(model, sum(y[i,j,k] for i in 1:ncty) == x[j,5]*scaler[k]) for k in cathode for j in 1:ncty]\n",
    "    cstr_cell = [@constraint(model, sum(y[i,j,k] for i in 1:ncty) == x[j,11]*scaler[k]) for k in cell for j in 1:ncty]\n",
    "    cstr_noncell = [@constraint(model, sum(y[i,j,k] for i in 1:ncty) == x[j,14]*scaler[k]) for k in noncell for j in 1:ncty]\n",
    "    cstr_battery = [@constraint(model, sum(y[i,j,k] for i in 1:ncty) == x[j,15]*scaler[k]) for k in battery for j in 1:ncty]\n",
    "    @constraint(model, sum(y[i,mkt_loc,mkt_proc] for i in 1:ncty) == cell_demand)\n",
    "    for j in 1:ncty-1\n",
    "        @constraint(model, sum(y[i,j,mkt_proc] for i in 1:ncty) == 0)\n",
    "    end\n",
    "    \n",
    "    \n",
    "    # obj func calculation\n",
    "    proD = (x .* Matrix(regional_EF[:,2:end])) * ones(nproc,1)  # ncty*1 matrix\n",
    "    pro_sink = zeros(ncty, nproc)\n",
    "    for k in 1:nproc\n",
    "        for i in 1:ncty\n",
    "            pro_sink[i,k] = regional_EF[i, k+1] * (sink_c[i]/emission_c[i] + es_ratio)\n",
    "        end\n",
    "    end\n",
    "    proS = (x.*pro_sink)*ones(nproc,1)  # ncty*1 matrix\n",
    "\n",
    "    transS = Vector{AffExpr}(undef, ncty)\n",
    "    transD = Vector{AffExpr}(undef, ncty)\n",
    "    for j in 1:ncty\n",
    "        arc_emi = 0\n",
    "        arc_seq = 0\n",
    "        for i in 1:ncty\n",
    "            amount = sum(y[i,j,k] for k in 1:nproc)\n",
    "            arc_emi += amount * distance[!, 2:end][i,j] * EF_trans\n",
    "            arc_seq += arc_emi * (sink_c[j]/emission_c[j] + es_ratio)\n",
    "        end\n",
    "        transD[j] = arc_emi  # ncty*1 matrix\n",
    "        transS[j] = arc_seq  # ncty*1 matrix\n",
    "    end\n",
    "    \n",
    "    Allo_soc = proD ./ emission_c .* Dsoc\n",
    "    SS = Allo_soc - (proD + transD)\n",
    "    \n",
    "    EO = sum(proD - proS + transD - transS)\n",
    "    @constraint(model, EO==EO_m)\n",
    "    \n",
    "#     if EO_m > 0\n",
    "#         @constraint(model, sum(proD-proS+transD-transS) >= (0.99*EO_m))\n",
    "#         @constraint(model, sum(proD-proS+transD-transS) <= (1.01*EO_m))\n",
    "#     else\n",
    "#         @constraint(model, sum(proD-proS+transD-transS) >= (1.01*EO_m))\n",
    "#         @constraint(model, sum(proD-proS+transD-transS) <= (0.99*EO_m)) \n",
    "#     end\n",
    "    \n",
    "    @objective(model, Min, sum(SS));\n",
    "\n",
    "    JuMP.optimize!(model)\n",
    "    opt_obj = JuMP.objective_value(model)\n",
    "    \n",
    "    return opt_obj\n",
    "end\n",
    "    "
   ]
  },
  {
   "cell_type": "code",
   "execution_count": 17,
   "id": "d9c41ac2",
   "metadata": {},
   "outputs": [
    {
     "data": {
      "text/plain": [
       "ep_constraint (generic function with 1 method)"
      ]
     },
     "execution_count": 17,
     "metadata": {},
     "output_type": "execute_result"
    }
   ],
   "source": [
    "function ep_constraint(N)\n",
    "    \n",
    "    ep = (EO2 - EO1) / N\n",
    "    ls_ss = []\n",
    "    ls_eo = []\n",
    "    for i in 0:N\n",
    "        EO_m = EO1 + i*ep\n",
    "        obj_ss = cal_intm(EO_m)\n",
    "        push!(ls_ss, obj_ss)\n",
    "        push!(ls_eo, EO_m)\n",
    "    end\n",
    "    \n",
    "    return ls_ss, ls_eo\n",
    "end\n",
    "        "
   ]
  },
  {
   "cell_type": "code",
   "execution_count": 18,
   "id": "20c8b158",
   "metadata": {},
   "outputs": [
    {
     "name": "stdout",
     "output_type": "stream",
     "text": [
      "Academic license - for non-commercial use only - expires 2024-12-26\r\n",
      "Academic license - for non-commercial use only - expires 2024-12-26\r\n",
      "Academic license - for non-commercial use only - expires 2024-12-26\r\n",
      "Academic license - for non-commercial use only - expires 2024-12-26\r\n",
      "Academic license - for non-commercial use only - expires 2024-12-26\r\n"
     ]
    },
    {
     "data": {
      "text/plain": [
       "(Any[-1.0696057136646627e7, -1.2051210804550985e7, -1.2360650583082313e7, -1.2490250627347277e7, -1.254009123111362e7], Any[-3.0052577077099532e7, -2.313601903706219e7, -1.6219460997024849e7, -9.302902956987508e6, -2.386344916950166e6])"
      ]
     },
     "execution_count": 18,
     "metadata": {},
     "output_type": "execute_result"
    }
   ],
   "source": [
    "ls_ss, ls_eo = ep_constraint(4)"
   ]
  },
  {
   "cell_type": "code",
   "execution_count": 19,
   "id": "39cd17cd",
   "metadata": {},
   "outputs": [
    {
     "data": {
      "image/svg+xml": [
       "<?xml version=\"1.0\" encoding=\"utf-8\"?>\n",
       "<svg xmlns=\"http://www.w3.org/2000/svg\" xmlns:xlink=\"http://www.w3.org/1999/xlink\" width=\"600\" height=\"400\" viewBox=\"0 0 2400 1600\">\n",
       "<defs>\n",
       "  <clipPath id=\"clip900\">\n",
       "    <rect x=\"0\" y=\"0\" width=\"2400\" height=\"1600\"/>\n",
       "  </clipPath>\n",
       "</defs>\n",
       "<path clip-path=\"url(#clip900)\" d=\"\n",
       "M0 1600 L2400 1600 L2400 0 L0 0  Z\n",
       "  \" fill=\"#ffffff\" fill-rule=\"evenodd\" fill-opacity=\"1\"/>\n",
       "<defs>\n",
       "  <clipPath id=\"clip901\">\n",
       "    <rect x=\"480\" y=\"0\" width=\"1681\" height=\"1600\"/>\n",
       "  </clipPath>\n",
       "</defs>\n",
       "<path clip-path=\"url(#clip900)\" d=\"\n",
       "M435.629 1410.9 L2352.76 1410.9 L2352.76 123.472 L435.629 123.472  Z\n",
       "  \" fill=\"#ffffff\" fill-rule=\"evenodd\" fill-opacity=\"1\"/>\n",
       "<defs>\n",
       "  <clipPath id=\"clip902\">\n",
       "    <rect x=\"435\" y=\"123\" width=\"1918\" height=\"1288\"/>\n",
       "  </clipPath>\n",
       "</defs>\n",
       "<polyline clip-path=\"url(#clip902)\" style=\"stroke:#000000; stroke-linecap:round; stroke-linejoin:round; stroke-width:2; stroke-opacity:0.1; fill:none\" points=\"\n",
       "  493.324,1410.9 493.324,123.472 \n",
       "  \"/>\n",
       "<polyline clip-path=\"url(#clip902)\" style=\"stroke:#000000; stroke-linecap:round; stroke-linejoin:round; stroke-width:2; stroke-opacity:0.1; fill:none\" points=\"\n",
       "  820.187,1410.9 820.187,123.472 \n",
       "  \"/>\n",
       "<polyline clip-path=\"url(#clip902)\" style=\"stroke:#000000; stroke-linecap:round; stroke-linejoin:round; stroke-width:2; stroke-opacity:0.1; fill:none\" points=\"\n",
       "  1147.05,1410.9 1147.05,123.472 \n",
       "  \"/>\n",
       "<polyline clip-path=\"url(#clip902)\" style=\"stroke:#000000; stroke-linecap:round; stroke-linejoin:round; stroke-width:2; stroke-opacity:0.1; fill:none\" points=\"\n",
       "  1473.91,1410.9 1473.91,123.472 \n",
       "  \"/>\n",
       "<polyline clip-path=\"url(#clip902)\" style=\"stroke:#000000; stroke-linecap:round; stroke-linejoin:round; stroke-width:2; stroke-opacity:0.1; fill:none\" points=\"\n",
       "  1800.77,1410.9 1800.77,123.472 \n",
       "  \"/>\n",
       "<polyline clip-path=\"url(#clip902)\" style=\"stroke:#000000; stroke-linecap:round; stroke-linejoin:round; stroke-width:2; stroke-opacity:0.1; fill:none\" points=\"\n",
       "  2127.64,1410.9 2127.64,123.472 \n",
       "  \"/>\n",
       "<polyline clip-path=\"url(#clip900)\" style=\"stroke:#000000; stroke-linecap:round; stroke-linejoin:round; stroke-width:4; stroke-opacity:1; fill:none\" points=\"\n",
       "  435.629,1410.9 2352.76,1410.9 \n",
       "  \"/>\n",
       "<polyline clip-path=\"url(#clip900)\" style=\"stroke:#000000; stroke-linecap:round; stroke-linejoin:round; stroke-width:4; stroke-opacity:1; fill:none\" points=\"\n",
       "  493.324,1410.9 493.324,1392 \n",
       "  \"/>\n",
       "<polyline clip-path=\"url(#clip900)\" style=\"stroke:#000000; stroke-linecap:round; stroke-linejoin:round; stroke-width:4; stroke-opacity:1; fill:none\" points=\"\n",
       "  820.187,1410.9 820.187,1392 \n",
       "  \"/>\n",
       "<polyline clip-path=\"url(#clip900)\" style=\"stroke:#000000; stroke-linecap:round; stroke-linejoin:round; stroke-width:4; stroke-opacity:1; fill:none\" points=\"\n",
       "  1147.05,1410.9 1147.05,1392 \n",
       "  \"/>\n",
       "<polyline clip-path=\"url(#clip900)\" style=\"stroke:#000000; stroke-linecap:round; stroke-linejoin:round; stroke-width:4; stroke-opacity:1; fill:none\" points=\"\n",
       "  1473.91,1410.9 1473.91,1392 \n",
       "  \"/>\n",
       "<polyline clip-path=\"url(#clip900)\" style=\"stroke:#000000; stroke-linecap:round; stroke-linejoin:round; stroke-width:4; stroke-opacity:1; fill:none\" points=\"\n",
       "  1800.77,1410.9 1800.77,1392 \n",
       "  \"/>\n",
       "<polyline clip-path=\"url(#clip900)\" style=\"stroke:#000000; stroke-linecap:round; stroke-linejoin:round; stroke-width:4; stroke-opacity:1; fill:none\" points=\"\n",
       "  2127.64,1410.9 2127.64,1392 \n",
       "  \"/>\n",
       "<path clip-path=\"url(#clip900)\" d=\"M365.721 1472.13 L395.397 1472.13 L395.397 1476.06 L365.721 1476.06 L365.721 1472.13 Z\" fill=\"#000000\" fill-rule=\"evenodd\" fill-opacity=\"1\" /><path clip-path=\"url(#clip900)\" d=\"M419.656 1470.32 Q423.012 1471.04 424.887 1473.31 Q426.785 1475.58 426.785 1478.91 Q426.785 1484.03 423.267 1486.83 Q419.748 1489.63 413.267 1489.63 Q411.091 1489.63 408.776 1489.19 Q406.485 1488.77 404.031 1487.91 L404.031 1483.4 Q405.975 1484.54 408.29 1485.11 Q410.605 1485.69 413.128 1485.69 Q417.526 1485.69 419.818 1483.96 Q422.133 1482.22 422.133 1478.91 Q422.133 1475.85 419.98 1474.14 Q417.85 1472.41 414.031 1472.41 L410.003 1472.41 L410.003 1468.56 L414.216 1468.56 Q417.665 1468.56 419.494 1467.2 Q421.322 1465.81 421.322 1463.22 Q421.322 1460.55 419.424 1459.14 Q417.549 1457.71 414.031 1457.71 Q412.11 1457.71 409.91 1458.12 Q407.711 1458.54 405.073 1459.42 L405.073 1455.25 Q407.735 1454.51 410.049 1454.14 Q412.387 1453.77 414.448 1453.77 Q419.772 1453.77 422.873 1456.2 Q425.975 1458.61 425.975 1462.73 Q425.975 1465.6 424.332 1467.59 Q422.688 1469.56 419.656 1470.32 Z\" fill=\"#000000\" fill-rule=\"evenodd\" fill-opacity=\"1\" /><path clip-path=\"url(#clip900)\" d=\"M435.651 1483.08 L440.535 1483.08 L440.535 1488.96 L435.651 1488.96 L435.651 1483.08 Z\" fill=\"#000000\" fill-rule=\"evenodd\" fill-opacity=\"1\" /><path clip-path=\"url(#clip900)\" d=\"M460.72 1457.48 Q457.109 1457.48 455.281 1461.04 Q453.475 1464.58 453.475 1471.71 Q453.475 1478.82 455.281 1482.38 Q457.109 1485.92 460.72 1485.92 Q464.355 1485.92 466.16 1482.38 Q467.989 1478.82 467.989 1471.71 Q467.989 1464.58 466.16 1461.04 Q464.355 1457.48 460.72 1457.48 M460.72 1453.77 Q466.531 1453.77 469.586 1458.38 Q472.665 1462.96 472.665 1471.71 Q472.665 1480.44 469.586 1485.04 Q466.531 1489.63 460.72 1489.63 Q454.91 1489.63 451.832 1485.04 Q448.776 1480.44 448.776 1471.71 Q448.776 1462.96 451.832 1458.38 Q454.91 1453.77 460.72 1453.77 Z\" fill=\"#000000\" fill-rule=\"evenodd\" fill-opacity=\"1\" /><path clip-path=\"url(#clip900)\" d=\"M490.882 1457.48 Q487.271 1457.48 485.442 1461.04 Q483.637 1464.58 483.637 1471.71 Q483.637 1478.82 485.442 1482.38 Q487.271 1485.92 490.882 1485.92 Q494.517 1485.92 496.322 1482.38 Q498.151 1478.82 498.151 1471.71 Q498.151 1464.58 496.322 1461.04 Q494.517 1457.48 490.882 1457.48 M490.882 1453.77 Q496.692 1453.77 499.748 1458.38 Q502.827 1462.96 502.827 1471.71 Q502.827 1480.44 499.748 1485.04 Q496.692 1489.63 490.882 1489.63 Q485.072 1489.63 481.993 1485.04 Q478.938 1480.44 478.938 1471.71 Q478.938 1462.96 481.993 1458.38 Q485.072 1453.77 490.882 1453.77 Z\" fill=\"#000000\" fill-rule=\"evenodd\" fill-opacity=\"1\" /><path clip-path=\"url(#clip900)\" d=\"M539.215 1463.49 L528.637 1474.12 L539.215 1484.7 L536.461 1487.5 L525.836 1476.87 L515.211 1487.5 L512.479 1484.7 L523.035 1474.12 L512.479 1463.49 L515.211 1460.69 L525.836 1471.32 L536.461 1460.69 L539.215 1463.49 Z\" fill=\"#000000\" fill-rule=\"evenodd\" fill-opacity=\"1\" /><path clip-path=\"url(#clip900)\" d=\"M551.576 1485.02 L559.215 1485.02 L559.215 1458.66 L550.905 1460.32 L550.905 1456.06 L559.169 1454.4 L563.845 1454.4 L563.845 1485.02 L571.484 1485.02 L571.484 1488.96 L551.576 1488.96 L551.576 1485.02 Z\" fill=\"#000000\" fill-rule=\"evenodd\" fill-opacity=\"1\" /><path clip-path=\"url(#clip900)\" d=\"M590.928 1457.48 Q587.317 1457.48 585.488 1461.04 Q583.683 1464.58 583.683 1471.71 Q583.683 1478.82 585.488 1482.38 Q587.317 1485.92 590.928 1485.92 Q594.562 1485.92 596.368 1482.38 Q598.197 1478.82 598.197 1471.71 Q598.197 1464.58 596.368 1461.04 Q594.562 1457.48 590.928 1457.48 M590.928 1453.77 Q596.738 1453.77 599.794 1458.38 Q602.872 1462.96 602.872 1471.71 Q602.872 1480.44 599.794 1485.04 Q596.738 1489.63 590.928 1489.63 Q585.118 1489.63 582.039 1485.04 Q578.984 1480.44 578.984 1471.71 Q578.984 1462.96 582.039 1458.38 Q585.118 1453.77 590.928 1453.77 Z\" fill=\"#000000\" fill-rule=\"evenodd\" fill-opacity=\"1\" /><path clip-path=\"url(#clip900)\" d=\"M602.872 1433.47 L620.928 1433.47 L620.928 1435.08 L610.734 1461.55 L606.766 1461.55 L616.358 1436.66 L602.872 1436.66 L602.872 1433.47 Z\" fill=\"#000000\" fill-rule=\"evenodd\" fill-opacity=\"1\" /><path clip-path=\"url(#clip900)\" d=\"M692.583 1472.13 L722.259 1472.13 L722.259 1476.06 L692.583 1476.06 L692.583 1472.13 Z\" fill=\"#000000\" fill-rule=\"evenodd\" fill-opacity=\"1\" /><path clip-path=\"url(#clip900)\" d=\"M736.379 1485.02 L752.699 1485.02 L752.699 1488.96 L730.754 1488.96 L730.754 1485.02 Q733.416 1482.27 738 1477.64 Q742.606 1472.98 743.787 1471.64 Q746.032 1469.12 746.912 1467.38 Q747.815 1465.62 747.815 1463.93 Q747.815 1461.18 745.87 1459.44 Q743.949 1457.71 740.847 1457.71 Q738.648 1457.71 736.194 1458.47 Q733.764 1459.23 730.986 1460.79 L730.986 1456.06 Q733.81 1454.93 736.264 1454.35 Q738.717 1453.77 740.754 1453.77 Q746.125 1453.77 749.319 1456.46 Q752.514 1459.14 752.514 1463.63 Q752.514 1465.76 751.703 1467.68 Q750.916 1469.58 748.81 1472.17 Q748.231 1472.85 745.129 1476.06 Q742.028 1479.26 736.379 1485.02 Z\" fill=\"#000000\" fill-rule=\"evenodd\" fill-opacity=\"1\" /><path clip-path=\"url(#clip900)\" d=\"M762.514 1483.08 L767.398 1483.08 L767.398 1488.96 L762.514 1488.96 L762.514 1483.08 Z\" fill=\"#000000\" fill-rule=\"evenodd\" fill-opacity=\"1\" /><path clip-path=\"url(#clip900)\" d=\"M777.629 1454.4 L795.986 1454.4 L795.986 1458.33 L781.912 1458.33 L781.912 1466.8 Q782.93 1466.46 783.949 1466.29 Q784.967 1466.11 785.986 1466.11 Q791.773 1466.11 795.152 1469.28 Q798.532 1472.45 798.532 1477.87 Q798.532 1483.45 795.06 1486.55 Q791.587 1489.63 785.268 1489.63 Q783.092 1489.63 780.824 1489.26 Q778.578 1488.89 776.171 1488.15 L776.171 1483.45 Q778.254 1484.58 780.476 1485.14 Q782.699 1485.69 785.175 1485.69 Q789.18 1485.69 791.518 1483.59 Q793.856 1481.48 793.856 1477.87 Q793.856 1474.26 791.518 1472.15 Q789.18 1470.04 785.175 1470.04 Q783.3 1470.04 781.425 1470.46 Q779.574 1470.88 777.629 1471.76 L777.629 1454.4 Z\" fill=\"#000000\" fill-rule=\"evenodd\" fill-opacity=\"1\" /><path clip-path=\"url(#clip900)\" d=\"M817.745 1457.48 Q814.134 1457.48 812.305 1461.04 Q810.499 1464.58 810.499 1471.71 Q810.499 1478.82 812.305 1482.38 Q814.134 1485.92 817.745 1485.92 Q821.379 1485.92 823.184 1482.38 Q825.013 1478.82 825.013 1471.71 Q825.013 1464.58 823.184 1461.04 Q821.379 1457.48 817.745 1457.48 M817.745 1453.77 Q823.555 1453.77 826.61 1458.38 Q829.689 1462.96 829.689 1471.71 Q829.689 1480.44 826.61 1485.04 Q823.555 1489.63 817.745 1489.63 Q811.935 1489.63 808.856 1485.04 Q805.8 1480.44 805.8 1471.71 Q805.8 1462.96 808.856 1458.38 Q811.935 1453.77 817.745 1453.77 Z\" fill=\"#000000\" fill-rule=\"evenodd\" fill-opacity=\"1\" /><path clip-path=\"url(#clip900)\" d=\"M866.078 1463.49 L855.499 1474.12 L866.078 1484.7 L863.323 1487.5 L852.698 1476.87 L842.073 1487.5 L839.342 1484.7 L849.897 1474.12 L839.342 1463.49 L842.073 1460.69 L852.698 1471.32 L863.323 1460.69 L866.078 1463.49 Z\" fill=\"#000000\" fill-rule=\"evenodd\" fill-opacity=\"1\" /><path clip-path=\"url(#clip900)\" d=\"M878.439 1485.02 L886.078 1485.02 L886.078 1458.66 L877.768 1460.32 L877.768 1456.06 L886.031 1454.4 L890.707 1454.4 L890.707 1485.02 L898.346 1485.02 L898.346 1488.96 L878.439 1488.96 L878.439 1485.02 Z\" fill=\"#000000\" fill-rule=\"evenodd\" fill-opacity=\"1\" /><path clip-path=\"url(#clip900)\" d=\"M917.79 1457.48 Q914.179 1457.48 912.351 1461.04 Q910.545 1464.58 910.545 1471.71 Q910.545 1478.82 912.351 1482.38 Q914.179 1485.92 917.79 1485.92 Q921.425 1485.92 923.23 1482.38 Q925.059 1478.82 925.059 1471.71 Q925.059 1464.58 923.23 1461.04 Q921.425 1457.48 917.79 1457.48 M917.79 1453.77 Q923.601 1453.77 926.656 1458.38 Q929.735 1462.96 929.735 1471.71 Q929.735 1480.44 926.656 1485.04 Q923.601 1489.63 917.79 1489.63 Q911.98 1489.63 908.902 1485.04 Q905.846 1480.44 905.846 1471.71 Q905.846 1462.96 908.902 1458.38 Q911.98 1453.77 917.79 1453.77 Z\" fill=\"#000000\" fill-rule=\"evenodd\" fill-opacity=\"1\" /><path clip-path=\"url(#clip900)\" d=\"M929.735 1433.47 L947.79 1433.47 L947.79 1435.08 L937.596 1461.55 L933.628 1461.55 L943.22 1436.66 L929.735 1436.66 L929.735 1433.47 Z\" fill=\"#000000\" fill-rule=\"evenodd\" fill-opacity=\"1\" /><path clip-path=\"url(#clip900)\" d=\"M1019.45 1472.13 L1049.12 1472.13 L1049.12 1476.06 L1019.45 1476.06 L1019.45 1472.13 Z\" fill=\"#000000\" fill-rule=\"evenodd\" fill-opacity=\"1\" /><path clip-path=\"url(#clip900)\" d=\"M1063.24 1485.02 L1079.56 1485.02 L1079.56 1488.96 L1057.62 1488.96 L1057.62 1485.02 Q1060.28 1482.27 1064.86 1477.64 Q1069.47 1472.98 1070.65 1471.64 Q1072.89 1469.12 1073.77 1467.38 Q1074.68 1465.62 1074.68 1463.93 Q1074.68 1461.18 1072.73 1459.44 Q1070.81 1457.71 1067.71 1457.71 Q1065.51 1457.71 1063.06 1458.47 Q1060.63 1459.23 1057.85 1460.79 L1057.85 1456.06 Q1060.67 1454.93 1063.13 1454.35 Q1065.58 1453.77 1067.62 1453.77 Q1072.99 1453.77 1076.18 1456.46 Q1079.38 1459.14 1079.38 1463.63 Q1079.38 1465.76 1078.57 1467.68 Q1077.78 1469.58 1075.67 1472.17 Q1075.09 1472.85 1071.99 1476.06 Q1068.89 1479.26 1063.24 1485.02 Z\" fill=\"#000000\" fill-rule=\"evenodd\" fill-opacity=\"1\" /><path clip-path=\"url(#clip900)\" d=\"M1089.38 1483.08 L1094.26 1483.08 L1094.26 1488.96 L1089.38 1488.96 L1089.38 1483.08 Z\" fill=\"#000000\" fill-rule=\"evenodd\" fill-opacity=\"1\" /><path clip-path=\"url(#clip900)\" d=\"M1114.45 1457.48 Q1110.83 1457.48 1109.01 1461.04 Q1107.2 1464.58 1107.2 1471.71 Q1107.2 1478.82 1109.01 1482.38 Q1110.83 1485.92 1114.45 1485.92 Q1118.08 1485.92 1119.89 1482.38 Q1121.71 1478.82 1121.71 1471.71 Q1121.71 1464.58 1119.89 1461.04 Q1118.08 1457.48 1114.45 1457.48 M1114.45 1453.77 Q1120.26 1453.77 1123.31 1458.38 Q1126.39 1462.96 1126.39 1471.71 Q1126.39 1480.44 1123.31 1485.04 Q1120.26 1489.63 1114.45 1489.63 Q1108.64 1489.63 1105.56 1485.04 Q1102.5 1480.44 1102.5 1471.71 Q1102.5 1462.96 1105.56 1458.38 Q1108.64 1453.77 1114.45 1453.77 Z\" fill=\"#000000\" fill-rule=\"evenodd\" fill-opacity=\"1\" /><path clip-path=\"url(#clip900)\" d=\"M1144.61 1457.48 Q1141 1457.48 1139.17 1461.04 Q1137.36 1464.58 1137.36 1471.71 Q1137.36 1478.82 1139.17 1482.38 Q1141 1485.92 1144.61 1485.92 Q1148.24 1485.92 1150.05 1482.38 Q1151.88 1478.82 1151.88 1471.71 Q1151.88 1464.58 1150.05 1461.04 Q1148.24 1457.48 1144.61 1457.48 M1144.61 1453.77 Q1150.42 1453.77 1153.47 1458.38 Q1156.55 1462.96 1156.55 1471.71 Q1156.55 1480.44 1153.47 1485.04 Q1150.42 1489.63 1144.61 1489.63 Q1138.8 1489.63 1135.72 1485.04 Q1132.66 1480.44 1132.66 1471.71 Q1132.66 1462.96 1135.72 1458.38 Q1138.8 1453.77 1144.61 1453.77 Z\" fill=\"#000000\" fill-rule=\"evenodd\" fill-opacity=\"1\" /><path clip-path=\"url(#clip900)\" d=\"M1192.94 1463.49 L1182.36 1474.12 L1192.94 1484.7 L1190.19 1487.5 L1179.56 1476.87 L1168.94 1487.5 L1166.2 1484.7 L1176.76 1474.12 L1166.2 1463.49 L1168.94 1460.69 L1179.56 1471.32 L1190.19 1460.69 L1192.94 1463.49 Z\" fill=\"#000000\" fill-rule=\"evenodd\" fill-opacity=\"1\" /><path clip-path=\"url(#clip900)\" d=\"M1205.3 1485.02 L1212.94 1485.02 L1212.94 1458.66 L1204.63 1460.32 L1204.63 1456.06 L1212.89 1454.4 L1217.57 1454.4 L1217.57 1485.02 L1225.21 1485.02 L1225.21 1488.96 L1205.3 1488.96 L1205.3 1485.02 Z\" fill=\"#000000\" fill-rule=\"evenodd\" fill-opacity=\"1\" /><path clip-path=\"url(#clip900)\" d=\"M1244.65 1457.48 Q1241.04 1457.48 1239.21 1461.04 Q1237.41 1464.58 1237.41 1471.71 Q1237.41 1478.82 1239.21 1482.38 Q1241.04 1485.92 1244.65 1485.92 Q1248.29 1485.92 1250.09 1482.38 Q1251.92 1478.82 1251.92 1471.71 Q1251.92 1464.58 1250.09 1461.04 Q1248.29 1457.48 1244.65 1457.48 M1244.65 1453.77 Q1250.46 1453.77 1253.52 1458.38 Q1256.6 1462.96 1256.6 1471.71 Q1256.6 1480.44 1253.52 1485.04 Q1250.46 1489.63 1244.65 1489.63 Q1238.84 1489.63 1235.76 1485.04 Q1232.71 1480.44 1232.71 1471.71 Q1232.71 1462.96 1235.76 1458.38 Q1238.84 1453.77 1244.65 1453.77 Z\" fill=\"#000000\" fill-rule=\"evenodd\" fill-opacity=\"1\" /><path clip-path=\"url(#clip900)\" d=\"M1256.6 1433.47 L1274.65 1433.47 L1274.65 1435.08 L1264.46 1461.55 L1260.49 1461.55 L1270.08 1436.66 L1256.6 1436.66 L1256.6 1433.47 Z\" fill=\"#000000\" fill-rule=\"evenodd\" fill-opacity=\"1\" /><path clip-path=\"url(#clip900)\" d=\"M1346.31 1472.13 L1375.98 1472.13 L1375.98 1476.06 L1346.31 1476.06 L1346.31 1472.13 Z\" fill=\"#000000\" fill-rule=\"evenodd\" fill-opacity=\"1\" /><path clip-path=\"url(#clip900)\" d=\"M1386.89 1485.02 L1394.53 1485.02 L1394.53 1458.66 L1386.22 1460.32 L1386.22 1456.06 L1394.48 1454.4 L1399.16 1454.4 L1399.16 1485.02 L1406.79 1485.02 L1406.79 1488.96 L1386.89 1488.96 L1386.89 1485.02 Z\" fill=\"#000000\" fill-rule=\"evenodd\" fill-opacity=\"1\" /><path clip-path=\"url(#clip900)\" d=\"M1416.24 1483.08 L1421.12 1483.08 L1421.12 1488.96 L1416.24 1488.96 L1416.24 1483.08 Z\" fill=\"#000000\" fill-rule=\"evenodd\" fill-opacity=\"1\" /><path clip-path=\"url(#clip900)\" d=\"M1431.35 1454.4 L1449.71 1454.4 L1449.71 1458.33 L1435.64 1458.33 L1435.64 1466.8 Q1436.65 1466.46 1437.67 1466.29 Q1438.69 1466.11 1439.71 1466.11 Q1445.5 1466.11 1448.88 1469.28 Q1452.26 1472.45 1452.26 1477.87 Q1452.26 1483.45 1448.78 1486.55 Q1445.31 1489.63 1438.99 1489.63 Q1436.82 1489.63 1434.55 1489.26 Q1432.3 1488.89 1429.9 1488.15 L1429.9 1483.45 Q1431.98 1484.58 1434.2 1485.14 Q1436.42 1485.69 1438.9 1485.69 Q1442.9 1485.69 1445.24 1483.59 Q1447.58 1481.48 1447.58 1477.87 Q1447.58 1474.26 1445.24 1472.15 Q1442.9 1470.04 1438.9 1470.04 Q1437.03 1470.04 1435.15 1470.46 Q1433.3 1470.88 1431.35 1471.76 L1431.35 1454.4 Z\" fill=\"#000000\" fill-rule=\"evenodd\" fill-opacity=\"1\" /><path clip-path=\"url(#clip900)\" d=\"M1471.47 1457.48 Q1467.86 1457.48 1466.03 1461.04 Q1464.22 1464.58 1464.22 1471.71 Q1464.22 1478.82 1466.03 1482.38 Q1467.86 1485.92 1471.47 1485.92 Q1475.1 1485.92 1476.91 1482.38 Q1478.74 1478.82 1478.74 1471.71 Q1478.74 1464.58 1476.91 1461.04 Q1475.1 1457.48 1471.47 1457.48 M1471.47 1453.77 Q1477.28 1453.77 1480.34 1458.38 Q1483.41 1462.96 1483.41 1471.71 Q1483.41 1480.44 1480.34 1485.04 Q1477.28 1489.63 1471.47 1489.63 Q1465.66 1489.63 1462.58 1485.04 Q1459.53 1480.44 1459.53 1471.71 Q1459.53 1462.96 1462.58 1458.38 Q1465.66 1453.77 1471.47 1453.77 Z\" fill=\"#000000\" fill-rule=\"evenodd\" fill-opacity=\"1\" /><path clip-path=\"url(#clip900)\" d=\"M1519.8 1463.49 L1509.22 1474.12 L1519.8 1484.7 L1517.05 1487.5 L1506.42 1476.87 L1495.8 1487.5 L1493.07 1484.7 L1503.62 1474.12 L1493.07 1463.49 L1495.8 1460.69 L1506.42 1471.32 L1517.05 1460.69 L1519.8 1463.49 Z\" fill=\"#000000\" fill-rule=\"evenodd\" fill-opacity=\"1\" /><path clip-path=\"url(#clip900)\" d=\"M1532.16 1485.02 L1539.8 1485.02 L1539.8 1458.66 L1531.49 1460.32 L1531.49 1456.06 L1539.76 1454.4 L1544.43 1454.4 L1544.43 1485.02 L1552.07 1485.02 L1552.07 1488.96 L1532.16 1488.96 L1532.16 1485.02 Z\" fill=\"#000000\" fill-rule=\"evenodd\" fill-opacity=\"1\" /><path clip-path=\"url(#clip900)\" d=\"M1571.52 1457.48 Q1567.9 1457.48 1566.08 1461.04 Q1564.27 1464.58 1564.27 1471.71 Q1564.27 1478.82 1566.08 1482.38 Q1567.9 1485.92 1571.52 1485.92 Q1575.15 1485.92 1576.96 1482.38 Q1578.78 1478.82 1578.78 1471.71 Q1578.78 1464.58 1576.96 1461.04 Q1575.15 1457.48 1571.52 1457.48 M1571.52 1453.77 Q1577.33 1453.77 1580.38 1458.38 Q1583.46 1462.96 1583.46 1471.71 Q1583.46 1480.44 1580.38 1485.04 Q1577.33 1489.63 1571.52 1489.63 Q1565.71 1489.63 1562.63 1485.04 Q1559.57 1480.44 1559.57 1471.71 Q1559.57 1462.96 1562.63 1458.38 Q1565.71 1453.77 1571.52 1453.77 Z\" fill=\"#000000\" fill-rule=\"evenodd\" fill-opacity=\"1\" /><path clip-path=\"url(#clip900)\" d=\"M1583.46 1433.47 L1601.52 1433.47 L1601.52 1435.08 L1591.32 1461.55 L1587.35 1461.55 L1596.94 1436.66 L1583.46 1436.66 L1583.46 1433.47 Z\" fill=\"#000000\" fill-rule=\"evenodd\" fill-opacity=\"1\" /><path clip-path=\"url(#clip900)\" d=\"M1673.17 1472.13 L1702.85 1472.13 L1702.85 1476.06 L1673.17 1476.06 L1673.17 1472.13 Z\" fill=\"#000000\" fill-rule=\"evenodd\" fill-opacity=\"1\" /><path clip-path=\"url(#clip900)\" d=\"M1713.75 1485.02 L1721.39 1485.02 L1721.39 1458.66 L1713.08 1460.32 L1713.08 1456.06 L1721.34 1454.4 L1726.02 1454.4 L1726.02 1485.02 L1733.66 1485.02 L1733.66 1488.96 L1713.75 1488.96 L1713.75 1485.02 Z\" fill=\"#000000\" fill-rule=\"evenodd\" fill-opacity=\"1\" /><path clip-path=\"url(#clip900)\" d=\"M1743.1 1483.08 L1747.98 1483.08 L1747.98 1488.96 L1743.1 1488.96 L1743.1 1483.08 Z\" fill=\"#000000\" fill-rule=\"evenodd\" fill-opacity=\"1\" /><path clip-path=\"url(#clip900)\" d=\"M1768.17 1457.48 Q1764.56 1457.48 1762.73 1461.04 Q1760.92 1464.58 1760.92 1471.71 Q1760.92 1478.82 1762.73 1482.38 Q1764.56 1485.92 1768.17 1485.92 Q1771.8 1485.92 1773.61 1482.38 Q1775.44 1478.82 1775.44 1471.71 Q1775.44 1464.58 1773.61 1461.04 Q1771.8 1457.48 1768.17 1457.48 M1768.17 1453.77 Q1773.98 1453.77 1777.04 1458.38 Q1780.11 1462.96 1780.11 1471.71 Q1780.11 1480.44 1777.04 1485.04 Q1773.98 1489.63 1768.17 1489.63 Q1762.36 1489.63 1759.28 1485.04 Q1756.23 1480.44 1756.23 1471.71 Q1756.23 1462.96 1759.28 1458.38 Q1762.36 1453.77 1768.17 1453.77 Z\" fill=\"#000000\" fill-rule=\"evenodd\" fill-opacity=\"1\" /><path clip-path=\"url(#clip900)\" d=\"M1798.33 1457.48 Q1794.72 1457.48 1792.89 1461.04 Q1791.09 1464.58 1791.09 1471.71 Q1791.09 1478.82 1792.89 1482.38 Q1794.72 1485.92 1798.33 1485.92 Q1801.97 1485.92 1803.77 1482.38 Q1805.6 1478.82 1805.6 1471.71 Q1805.6 1464.58 1803.77 1461.04 Q1801.97 1457.48 1798.33 1457.48 M1798.33 1453.77 Q1804.14 1453.77 1807.2 1458.38 Q1810.28 1462.96 1810.28 1471.71 Q1810.28 1480.44 1807.2 1485.04 Q1804.14 1489.63 1798.33 1489.63 Q1792.52 1489.63 1789.44 1485.04 Q1786.39 1480.44 1786.39 1471.71 Q1786.39 1462.96 1789.44 1458.38 Q1792.52 1453.77 1798.33 1453.77 Z\" fill=\"#000000\" fill-rule=\"evenodd\" fill-opacity=\"1\" /><path clip-path=\"url(#clip900)\" d=\"M1846.67 1463.49 L1836.09 1474.12 L1846.67 1484.7 L1843.91 1487.5 L1833.29 1476.87 L1822.66 1487.5 L1819.93 1484.7 L1830.48 1474.12 L1819.93 1463.49 L1822.66 1460.69 L1833.29 1471.32 L1843.91 1460.69 L1846.67 1463.49 Z\" fill=\"#000000\" fill-rule=\"evenodd\" fill-opacity=\"1\" /><path clip-path=\"url(#clip900)\" d=\"M1859.03 1485.02 L1866.66 1485.02 L1866.66 1458.66 L1858.35 1460.32 L1858.35 1456.06 L1866.62 1454.4 L1871.29 1454.4 L1871.29 1485.02 L1878.93 1485.02 L1878.93 1488.96 L1859.03 1488.96 L1859.03 1485.02 Z\" fill=\"#000000\" fill-rule=\"evenodd\" fill-opacity=\"1\" /><path clip-path=\"url(#clip900)\" d=\"M1898.38 1457.48 Q1894.77 1457.48 1892.94 1461.04 Q1891.13 1464.58 1891.13 1471.71 Q1891.13 1478.82 1892.94 1482.38 Q1894.77 1485.92 1898.38 1485.92 Q1902.01 1485.92 1903.82 1482.38 Q1905.65 1478.82 1905.65 1471.71 Q1905.65 1464.58 1903.82 1461.04 Q1902.01 1457.48 1898.38 1457.48 M1898.38 1453.77 Q1904.19 1453.77 1907.24 1458.38 Q1910.32 1462.96 1910.32 1471.71 Q1910.32 1480.44 1907.24 1485.04 Q1904.19 1489.63 1898.38 1489.63 Q1892.57 1489.63 1889.49 1485.04 Q1886.43 1480.44 1886.43 1471.71 Q1886.43 1462.96 1889.49 1458.38 Q1892.57 1453.77 1898.38 1453.77 Z\" fill=\"#000000\" fill-rule=\"evenodd\" fill-opacity=\"1\" /><path clip-path=\"url(#clip900)\" d=\"M1910.32 1433.47 L1928.38 1433.47 L1928.38 1435.08 L1918.18 1461.55 L1914.22 1461.55 L1923.81 1436.66 L1910.32 1436.66 L1910.32 1433.47 Z\" fill=\"#000000\" fill-rule=\"evenodd\" fill-opacity=\"1\" /><path clip-path=\"url(#clip900)\" d=\"M1999.37 1472.13 L2029.04 1472.13 L2029.04 1476.06 L1999.37 1476.06 L1999.37 1472.13 Z\" fill=\"#000000\" fill-rule=\"evenodd\" fill-opacity=\"1\" /><path clip-path=\"url(#clip900)\" d=\"M2039.18 1454.4 L2057.54 1454.4 L2057.54 1458.33 L2043.46 1458.33 L2043.46 1466.8 Q2044.48 1466.46 2045.5 1466.29 Q2046.52 1466.11 2047.54 1466.11 Q2053.32 1466.11 2056.7 1469.28 Q2060.08 1472.45 2060.08 1477.87 Q2060.08 1483.45 2056.61 1486.55 Q2053.14 1489.63 2046.82 1489.63 Q2044.64 1489.63 2042.37 1489.26 Q2040.13 1488.89 2037.72 1488.15 L2037.72 1483.45 Q2039.8 1484.58 2042.03 1485.14 Q2044.25 1485.69 2046.73 1485.69 Q2050.73 1485.69 2053.07 1483.59 Q2055.41 1481.48 2055.41 1477.87 Q2055.41 1474.26 2053.07 1472.15 Q2050.73 1470.04 2046.73 1470.04 Q2044.85 1470.04 2042.98 1470.46 Q2041.12 1470.88 2039.18 1471.76 L2039.18 1454.4 Z\" fill=\"#000000\" fill-rule=\"evenodd\" fill-opacity=\"1\" /><path clip-path=\"url(#clip900)\" d=\"M2069.3 1483.08 L2074.18 1483.08 L2074.18 1488.96 L2069.3 1488.96 L2069.3 1483.08 Z\" fill=\"#000000\" fill-rule=\"evenodd\" fill-opacity=\"1\" /><path clip-path=\"url(#clip900)\" d=\"M2094.36 1457.48 Q2090.75 1457.48 2088.93 1461.04 Q2087.12 1464.58 2087.12 1471.71 Q2087.12 1478.82 2088.93 1482.38 Q2090.75 1485.92 2094.36 1485.92 Q2098 1485.92 2099.8 1482.38 Q2101.63 1478.82 2101.63 1471.71 Q2101.63 1464.58 2099.8 1461.04 Q2098 1457.48 2094.36 1457.48 M2094.36 1453.77 Q2100.17 1453.77 2103.23 1458.38 Q2106.31 1462.96 2106.31 1471.71 Q2106.31 1480.44 2103.23 1485.04 Q2100.17 1489.63 2094.36 1489.63 Q2088.55 1489.63 2085.48 1485.04 Q2082.42 1480.44 2082.42 1471.71 Q2082.42 1462.96 2085.48 1458.38 Q2088.55 1453.77 2094.36 1453.77 Z\" fill=\"#000000\" fill-rule=\"evenodd\" fill-opacity=\"1\" /><path clip-path=\"url(#clip900)\" d=\"M2124.53 1457.48 Q2120.92 1457.48 2119.09 1461.04 Q2117.28 1464.58 2117.28 1471.71 Q2117.28 1478.82 2119.09 1482.38 Q2120.92 1485.92 2124.53 1485.92 Q2128.16 1485.92 2129.97 1482.38 Q2131.8 1478.82 2131.8 1471.71 Q2131.8 1464.58 2129.97 1461.04 Q2128.16 1457.48 2124.53 1457.48 M2124.53 1453.77 Q2130.34 1453.77 2133.39 1458.38 Q2136.47 1462.96 2136.47 1471.71 Q2136.47 1480.44 2133.39 1485.04 Q2130.34 1489.63 2124.53 1489.63 Q2118.72 1489.63 2115.64 1485.04 Q2112.58 1480.44 2112.58 1471.71 Q2112.58 1462.96 2115.64 1458.38 Q2118.72 1453.77 2124.53 1453.77 Z\" fill=\"#000000\" fill-rule=\"evenodd\" fill-opacity=\"1\" /><path clip-path=\"url(#clip900)\" d=\"M2172.86 1463.49 L2162.28 1474.12 L2172.86 1484.7 L2170.11 1487.5 L2159.48 1476.87 L2148.86 1487.5 L2146.12 1484.7 L2156.68 1474.12 L2146.12 1463.49 L2148.86 1460.69 L2159.48 1471.32 L2170.11 1460.69 L2172.86 1463.49 Z\" fill=\"#000000\" fill-rule=\"evenodd\" fill-opacity=\"1\" /><path clip-path=\"url(#clip900)\" d=\"M2185.22 1485.02 L2192.86 1485.02 L2192.86 1458.66 L2184.55 1460.32 L2184.55 1456.06 L2192.81 1454.4 L2197.49 1454.4 L2197.49 1485.02 L2205.13 1485.02 L2205.13 1488.96 L2185.22 1488.96 L2185.22 1485.02 Z\" fill=\"#000000\" fill-rule=\"evenodd\" fill-opacity=\"1\" /><path clip-path=\"url(#clip900)\" d=\"M2224.57 1457.48 Q2220.96 1457.48 2219.13 1461.04 Q2217.33 1464.58 2217.33 1471.71 Q2217.33 1478.82 2219.13 1482.38 Q2220.96 1485.92 2224.57 1485.92 Q2228.21 1485.92 2230.01 1482.38 Q2231.84 1478.82 2231.84 1471.71 Q2231.84 1464.58 2230.01 1461.04 Q2228.21 1457.48 2224.57 1457.48 M2224.57 1453.77 Q2230.38 1453.77 2233.44 1458.38 Q2236.52 1462.96 2236.52 1471.71 Q2236.52 1480.44 2233.44 1485.04 Q2230.38 1489.63 2224.57 1489.63 Q2218.76 1489.63 2215.68 1485.04 Q2212.63 1480.44 2212.63 1471.71 Q2212.63 1462.96 2215.68 1458.38 Q2218.76 1453.77 2224.57 1453.77 Z\" fill=\"#000000\" fill-rule=\"evenodd\" fill-opacity=\"1\" /><path clip-path=\"url(#clip900)\" d=\"M2246.54 1445.99 Q2243.98 1445.99 2242.48 1447.74 Q2240.99 1449.49 2240.99 1452.54 Q2240.99 1455.57 2242.48 1457.33 Q2243.98 1459.08 2246.54 1459.08 Q2249.1 1459.08 2250.59 1457.33 Q2252.09 1455.57 2252.09 1452.54 Q2252.09 1449.49 2250.59 1447.74 Q2249.1 1445.99 2246.54 1445.99 M2254.08 1434.09 L2254.08 1437.55 Q2252.65 1436.87 2251.19 1436.51 Q2249.74 1436.16 2248.31 1436.16 Q2244.55 1436.16 2242.55 1438.69 Q2240.58 1441.23 2240.3 1446.37 Q2241.41 1444.73 2243.08 1443.87 Q2244.75 1442.98 2246.77 1442.98 Q2251 1442.98 2253.44 1445.56 Q2255.91 1448.12 2255.91 1452.54 Q2255.91 1456.86 2253.35 1459.48 Q2250.79 1462.09 2246.54 1462.09 Q2241.67 1462.09 2239.09 1458.37 Q2236.52 1454.62 2236.52 1447.53 Q2236.52 1440.88 2239.68 1436.93 Q2242.84 1432.96 2248.16 1432.96 Q2249.59 1432.96 2251.04 1433.24 Q2252.5 1433.52 2254.08 1434.09 Z\" fill=\"#000000\" fill-rule=\"evenodd\" fill-opacity=\"1\" /><path clip-path=\"url(#clip900)\" d=\"M1124.1 1526.67 L1154.14 1526.67 L1154.14 1532.08 L1130.52 1532.08 L1130.52 1546.14 L1153.15 1546.14 L1153.15 1551.56 L1130.52 1551.56 L1130.52 1568.77 L1154.71 1568.77 L1154.71 1574.19 L1124.1 1574.19 L1124.1 1526.67 Z\" fill=\"#000000\" fill-rule=\"evenodd\" fill-opacity=\"1\" /><path clip-path=\"url(#clip900)\" d=\"M1190.68 1539.91 L1190.68 1545.38 Q1188.2 1544.01 1185.68 1543.34 Q1183.2 1542.64 1180.65 1542.64 Q1174.96 1542.64 1171.81 1546.27 Q1168.66 1549.87 1168.66 1556.39 Q1168.66 1562.92 1171.81 1566.55 Q1174.96 1570.14 1180.65 1570.14 Q1183.2 1570.14 1185.68 1569.47 Q1188.2 1568.77 1190.68 1567.41 L1190.68 1572.82 Q1188.23 1573.96 1185.59 1574.54 Q1182.98 1575.11 1180.02 1575.11 Q1171.97 1575.11 1167.22 1570.05 Q1162.48 1564.99 1162.48 1556.39 Q1162.48 1547.67 1167.26 1542.68 Q1172.06 1537.68 1180.4 1537.68 Q1183.11 1537.68 1185.68 1538.25 Q1188.26 1538.79 1190.68 1539.91 Z\" fill=\"#000000\" fill-rule=\"evenodd\" fill-opacity=\"1\" /><path clip-path=\"url(#clip900)\" d=\"M1214.68 1542.64 Q1209.97 1542.64 1207.23 1546.34 Q1204.49 1550 1204.49 1556.39 Q1204.49 1562.79 1207.2 1566.48 Q1209.94 1570.14 1214.68 1570.14 Q1219.36 1570.14 1222.1 1566.45 Q1224.83 1562.76 1224.83 1556.39 Q1224.83 1550.06 1222.1 1546.37 Q1219.36 1542.64 1214.68 1542.64 M1214.68 1537.68 Q1222.32 1537.68 1226.68 1542.64 Q1231.04 1547.61 1231.04 1556.39 Q1231.04 1565.15 1226.68 1570.14 Q1222.32 1575.11 1214.68 1575.11 Q1207.01 1575.11 1202.65 1570.14 Q1198.32 1565.15 1198.32 1556.39 Q1198.32 1547.61 1202.65 1542.64 Q1207.01 1537.68 1214.68 1537.68 Z\" fill=\"#000000\" fill-rule=\"evenodd\" fill-opacity=\"1\" /><path clip-path=\"url(#clip900)\" d=\"M1240.75 1524.66 L1246.6 1524.66 L1246.6 1574.19 L1240.75 1574.19 L1240.75 1524.66 Z\" fill=\"#000000\" fill-rule=\"evenodd\" fill-opacity=\"1\" /><path clip-path=\"url(#clip900)\" d=\"M1272.67 1542.64 Q1267.96 1542.64 1265.22 1546.34 Q1262.49 1550 1262.49 1556.39 Q1262.49 1562.79 1265.19 1566.48 Q1267.93 1570.14 1272.67 1570.14 Q1277.35 1570.14 1280.09 1566.45 Q1282.82 1562.76 1282.82 1556.39 Q1282.82 1550.06 1280.09 1546.37 Q1277.35 1542.64 1272.67 1542.64 M1272.67 1537.68 Q1280.31 1537.68 1284.67 1542.64 Q1289.03 1547.61 1289.03 1556.39 Q1289.03 1565.15 1284.67 1570.14 Q1280.31 1575.11 1272.67 1575.11 Q1265 1575.11 1260.64 1570.14 Q1256.31 1565.15 1256.31 1556.39 Q1256.31 1547.61 1260.64 1542.64 Q1265 1537.68 1272.67 1537.68 Z\" fill=\"#000000\" fill-rule=\"evenodd\" fill-opacity=\"1\" /><path clip-path=\"url(#clip900)\" d=\"M1322.2 1555.95 Q1322.2 1549.58 1319.55 1546.08 Q1316.94 1542.58 1312.2 1542.58 Q1307.49 1542.58 1304.85 1546.08 Q1302.24 1549.58 1302.24 1555.95 Q1302.24 1562.28 1304.85 1565.78 Q1307.49 1569.28 1312.2 1569.28 Q1316.94 1569.28 1319.55 1565.78 Q1322.2 1562.28 1322.2 1555.95 M1328.05 1569.76 Q1328.05 1578.86 1324.01 1583.29 Q1319.97 1587.74 1311.63 1587.74 Q1308.54 1587.74 1305.8 1587.27 Q1303.07 1586.82 1300.49 1585.87 L1300.49 1580.17 Q1303.07 1581.57 1305.58 1582.24 Q1308.1 1582.91 1310.71 1582.91 Q1316.47 1582.91 1319.33 1579.88 Q1322.2 1576.89 1322.2 1570.81 L1322.2 1567.92 Q1320.38 1571.07 1317.55 1572.63 Q1314.72 1574.19 1310.77 1574.19 Q1304.21 1574.19 1300.2 1569.19 Q1296.19 1564.19 1296.19 1555.95 Q1296.19 1547.67 1300.2 1542.68 Q1304.21 1537.68 1310.77 1537.68 Q1314.72 1537.68 1317.55 1539.24 Q1320.38 1540.8 1322.2 1543.95 L1322.2 1538.54 L1328.05 1538.54 L1328.05 1569.76 Z\" fill=\"#000000\" fill-rule=\"evenodd\" fill-opacity=\"1\" /><path clip-path=\"url(#clip900)\" d=\"M1340.12 1538.54 L1345.97 1538.54 L1345.97 1574.19 L1340.12 1574.19 L1340.12 1538.54 M1340.12 1524.66 L1345.97 1524.66 L1345.97 1532.08 L1340.12 1532.08 L1340.12 1524.66 Z\" fill=\"#000000\" fill-rule=\"evenodd\" fill-opacity=\"1\" /><path clip-path=\"url(#clip900)\" d=\"M1383.88 1539.91 L1383.88 1545.38 Q1381.4 1544.01 1378.88 1543.34 Q1376.4 1542.64 1373.85 1542.64 Q1368.16 1542.64 1365.01 1546.27 Q1361.85 1549.87 1361.85 1556.39 Q1361.85 1562.92 1365.01 1566.55 Q1368.16 1570.14 1373.85 1570.14 Q1376.4 1570.14 1378.88 1569.47 Q1381.4 1568.77 1383.88 1567.41 L1383.88 1572.82 Q1381.43 1573.96 1378.79 1574.54 Q1376.18 1575.11 1373.22 1575.11 Q1365.16 1575.11 1360.42 1570.05 Q1355.68 1564.99 1355.68 1556.39 Q1355.68 1547.67 1360.45 1542.68 Q1365.26 1537.68 1373.6 1537.68 Q1376.3 1537.68 1378.88 1538.25 Q1381.46 1538.79 1383.88 1539.91 Z\" fill=\"#000000\" fill-rule=\"evenodd\" fill-opacity=\"1\" /><path clip-path=\"url(#clip900)\" d=\"M1410.27 1556.27 Q1403.17 1556.27 1400.43 1557.89 Q1397.69 1559.51 1397.69 1563.43 Q1397.69 1566.55 1399.73 1568.39 Q1401.8 1570.21 1405.33 1570.21 Q1410.2 1570.21 1413.13 1566.77 Q1416.09 1563.3 1416.09 1557.57 L1416.09 1556.27 L1410.27 1556.27 M1421.95 1553.85 L1421.95 1574.19 L1416.09 1574.19 L1416.09 1568.77 Q1414.09 1572.02 1411.09 1573.58 Q1408.1 1575.11 1403.77 1575.11 Q1398.3 1575.11 1395.05 1572.05 Q1391.84 1568.97 1391.84 1563.81 Q1391.84 1557.79 1395.85 1554.74 Q1399.89 1551.68 1407.88 1551.68 L1416.09 1551.68 L1416.09 1551.11 Q1416.09 1547.07 1413.42 1544.87 Q1410.78 1542.64 1405.97 1542.64 Q1402.91 1542.64 1400.02 1543.38 Q1397.12 1544.11 1394.45 1545.57 L1394.45 1540.16 Q1397.66 1538.92 1400.69 1538.31 Q1403.71 1537.68 1406.57 1537.68 Q1414.31 1537.68 1418.13 1541.69 Q1421.95 1545.7 1421.95 1553.85 Z\" fill=\"#000000\" fill-rule=\"evenodd\" fill-opacity=\"1\" /><path clip-path=\"url(#clip900)\" d=\"M1434.01 1524.66 L1439.87 1524.66 L1439.87 1574.19 L1434.01 1574.19 L1434.01 1524.66 Z\" fill=\"#000000\" fill-rule=\"evenodd\" fill-opacity=\"1\" /><path clip-path=\"url(#clip900)\" d=\"M1452.12 1524.66 L1457.98 1524.66 L1457.98 1574.19 L1452.12 1574.19 L1452.12 1524.66 Z\" fill=\"#000000\" fill-rule=\"evenodd\" fill-opacity=\"1\" /><path clip-path=\"url(#clip900)\" d=\"M1485.06 1577.5 Q1482.58 1583.86 1480.22 1585.8 Q1477.87 1587.74 1473.92 1587.74 L1469.24 1587.74 L1469.24 1582.84 L1472.68 1582.84 Q1475.1 1582.84 1476.44 1581.7 Q1477.77 1580.55 1479.4 1576.29 L1480.45 1573.61 L1466.03 1538.54 L1472.24 1538.54 L1483.38 1566.42 L1494.52 1538.54 L1500.72 1538.54 L1485.06 1577.5 Z\" fill=\"#000000\" fill-rule=\"evenodd\" fill-opacity=\"1\" /><path clip-path=\"url(#clip900)\" d=\"M1558.27 1528.23 L1558.27 1534.5 Q1554.61 1532.74 1551.36 1531.89 Q1548.12 1531.03 1545.09 1531.03 Q1539.84 1531.03 1536.98 1533.06 Q1534.14 1535.1 1534.14 1538.86 Q1534.14 1542.01 1536.02 1543.63 Q1537.93 1545.22 1543.21 1546.21 L1547.1 1547 Q1554.29 1548.37 1557.7 1551.84 Q1561.13 1555.28 1561.13 1561.07 Q1561.13 1567.98 1556.49 1571.54 Q1551.87 1575.11 1542.93 1575.11 Q1539.55 1575.11 1535.73 1574.34 Q1531.95 1573.58 1527.87 1572.08 L1527.87 1565.46 Q1531.79 1567.66 1535.54 1568.77 Q1539.3 1569.89 1542.93 1569.89 Q1548.43 1569.89 1551.43 1567.72 Q1554.42 1565.56 1554.42 1561.55 Q1554.42 1558.05 1552.25 1556.08 Q1550.12 1554.1 1545.22 1553.11 L1541.3 1552.35 Q1534.11 1550.92 1530.9 1547.86 Q1527.68 1544.81 1527.68 1539.37 Q1527.68 1533.06 1532.11 1529.43 Q1536.56 1525.81 1544.36 1525.81 Q1547.7 1525.81 1551.17 1526.41 Q1554.64 1527.02 1558.27 1528.23 Z\" fill=\"#000000\" fill-rule=\"evenodd\" fill-opacity=\"1\" /><path clip-path=\"url(#clip900)\" d=\"M1587.11 1556.27 Q1580.01 1556.27 1577.27 1557.89 Q1574.53 1559.51 1574.53 1563.43 Q1574.53 1566.55 1576.57 1568.39 Q1578.64 1570.21 1582.17 1570.21 Q1587.04 1570.21 1589.97 1566.77 Q1592.93 1563.3 1592.93 1557.57 L1592.93 1556.27 L1587.11 1556.27 M1598.79 1553.85 L1598.79 1574.19 L1592.93 1574.19 L1592.93 1568.77 Q1590.92 1572.02 1587.93 1573.58 Q1584.94 1575.11 1580.61 1575.11 Q1575.14 1575.11 1571.89 1572.05 Q1568.68 1568.97 1568.68 1563.81 Q1568.68 1557.79 1572.69 1554.74 Q1576.73 1551.68 1584.72 1551.68 L1592.93 1551.68 L1592.93 1551.11 Q1592.93 1547.07 1590.26 1544.87 Q1587.61 1542.64 1582.81 1542.64 Q1579.75 1542.64 1576.86 1543.38 Q1573.96 1544.11 1571.29 1545.57 L1571.29 1540.16 Q1574.5 1538.92 1577.52 1538.31 Q1580.55 1537.68 1583.41 1537.68 Q1591.15 1537.68 1594.97 1541.69 Q1598.79 1545.7 1598.79 1553.85 Z\" fill=\"#000000\" fill-rule=\"evenodd\" fill-opacity=\"1\" /><path clip-path=\"url(#clip900)\" d=\"M1628.9 1524.66 L1628.9 1529.53 L1623.29 1529.53 Q1620.14 1529.53 1618.9 1530.8 Q1617.69 1532.08 1617.69 1535.39 L1617.69 1538.54 L1627.34 1538.54 L1627.34 1543.09 L1617.69 1543.09 L1617.69 1574.19 L1611.8 1574.19 L1611.8 1543.09 L1606.2 1543.09 L1606.2 1538.54 L1611.8 1538.54 L1611.8 1536.05 Q1611.8 1530.1 1614.57 1527.4 Q1617.34 1524.66 1623.36 1524.66 L1628.9 1524.66 Z\" fill=\"#000000\" fill-rule=\"evenodd\" fill-opacity=\"1\" /><path clip-path=\"url(#clip900)\" d=\"M1664.29 1554.9 L1664.29 1557.76 L1637.36 1557.76 Q1637.74 1563.81 1640.99 1566.99 Q1644.27 1570.14 1650.09 1570.14 Q1653.47 1570.14 1656.62 1569.32 Q1659.8 1568.49 1662.92 1566.83 L1662.92 1572.37 Q1659.77 1573.71 1656.46 1574.41 Q1653.15 1575.11 1649.74 1575.11 Q1641.21 1575.11 1636.22 1570.14 Q1631.25 1565.18 1631.25 1556.71 Q1631.25 1547.96 1635.96 1542.83 Q1640.7 1537.68 1648.73 1537.68 Q1655.92 1537.68 1660.09 1542.33 Q1664.29 1546.94 1664.29 1554.9 M1658.43 1553.18 Q1658.37 1548.37 1655.73 1545.51 Q1653.12 1542.64 1648.79 1542.64 Q1643.89 1542.64 1640.93 1545.41 Q1638 1548.18 1637.55 1553.21 L1658.43 1553.18 Z\" fill=\"#000000\" fill-rule=\"evenodd\" fill-opacity=\"1\" /><polyline clip-path=\"url(#clip902)\" style=\"stroke:#000000; stroke-linecap:round; stroke-linejoin:round; stroke-width:2; stroke-opacity:0.1; fill:none\" points=\"\n",
       "  435.629,1348.05 2352.76,1348.05 \n",
       "  \"/>\n",
       "<polyline clip-path=\"url(#clip902)\" style=\"stroke:#000000; stroke-linecap:round; stroke-linejoin:round; stroke-width:2; stroke-opacity:0.1; fill:none\" points=\"\n",
       "  435.629,1018.74 2352.76,1018.74 \n",
       "  \"/>\n",
       "<polyline clip-path=\"url(#clip902)\" style=\"stroke:#000000; stroke-linecap:round; stroke-linejoin:round; stroke-width:2; stroke-opacity:0.1; fill:none\" points=\"\n",
       "  435.629,689.416 2352.76,689.416 \n",
       "  \"/>\n",
       "<polyline clip-path=\"url(#clip902)\" style=\"stroke:#000000; stroke-linecap:round; stroke-linejoin:round; stroke-width:2; stroke-opacity:0.1; fill:none\" points=\"\n",
       "  435.629,360.097 2352.76,360.097 \n",
       "  \"/>\n",
       "<polyline clip-path=\"url(#clip900)\" style=\"stroke:#000000; stroke-linecap:round; stroke-linejoin:round; stroke-width:4; stroke-opacity:1; fill:none\" points=\"\n",
       "  435.629,1410.9 435.629,123.472 \n",
       "  \"/>\n",
       "<polyline clip-path=\"url(#clip900)\" style=\"stroke:#000000; stroke-linecap:round; stroke-linejoin:round; stroke-width:4; stroke-opacity:1; fill:none\" points=\"\n",
       "  435.629,1348.05 454.527,1348.05 \n",
       "  \"/>\n",
       "<polyline clip-path=\"url(#clip900)\" style=\"stroke:#000000; stroke-linecap:round; stroke-linejoin:round; stroke-width:4; stroke-opacity:1; fill:none\" points=\"\n",
       "  435.629,1018.74 454.527,1018.74 \n",
       "  \"/>\n",
       "<polyline clip-path=\"url(#clip900)\" style=\"stroke:#000000; stroke-linecap:round; stroke-linejoin:round; stroke-width:4; stroke-opacity:1; fill:none\" points=\"\n",
       "  435.629,689.416 454.527,689.416 \n",
       "  \"/>\n",
       "<polyline clip-path=\"url(#clip900)\" style=\"stroke:#000000; stroke-linecap:round; stroke-linejoin:round; stroke-width:4; stroke-opacity:1; fill:none\" points=\"\n",
       "  435.629,360.097 454.527,360.097 \n",
       "  \"/>\n",
       "<path clip-path=\"url(#clip900)\" d=\"M114.26 1354.95 L143.936 1354.95 L143.936 1358.89 L114.26 1358.89 L114.26 1354.95 Z\" fill=\"#000000\" fill-rule=\"evenodd\" fill-opacity=\"1\" /><path clip-path=\"url(#clip900)\" d=\"M154.839 1367.85 L162.477 1367.85 L162.477 1341.48 L154.167 1343.15 L154.167 1338.89 L162.431 1337.22 L167.107 1337.22 L167.107 1367.85 L174.746 1367.85 L174.746 1371.78 L154.839 1371.78 L154.839 1367.85 Z\" fill=\"#000000\" fill-rule=\"evenodd\" fill-opacity=\"1\" /><path clip-path=\"url(#clip900)\" d=\"M184.19 1365.9 L189.075 1365.9 L189.075 1371.78 L184.19 1371.78 L184.19 1365.9 Z\" fill=\"#000000\" fill-rule=\"evenodd\" fill-opacity=\"1\" /><path clip-path=\"url(#clip900)\" d=\"M203.287 1367.85 L219.607 1367.85 L219.607 1371.78 L197.662 1371.78 L197.662 1367.85 Q200.325 1365.09 204.908 1360.46 Q209.514 1355.81 210.695 1354.47 Q212.94 1351.94 213.82 1350.21 Q214.723 1348.45 214.723 1346.76 Q214.723 1344 212.778 1342.27 Q210.857 1340.53 207.755 1340.53 Q205.556 1340.53 203.102 1341.3 Q200.672 1342.06 197.894 1343.61 L197.894 1338.89 Q200.718 1337.75 203.172 1337.18 Q205.625 1336.6 207.662 1336.6 Q213.033 1336.6 216.227 1339.28 Q219.422 1341.97 219.422 1346.46 Q219.422 1348.59 218.611 1350.51 Q217.824 1352.41 215.718 1355 Q215.139 1355.67 212.037 1358.89 Q208.936 1362.08 203.287 1367.85 Z\" fill=\"#000000\" fill-rule=\"evenodd\" fill-opacity=\"1\" /><path clip-path=\"url(#clip900)\" d=\"M229.468 1337.22 L247.824 1337.22 L247.824 1341.16 L233.75 1341.16 L233.75 1349.63 Q234.769 1349.28 235.787 1349.12 Q236.806 1348.93 237.824 1348.93 Q243.611 1348.93 246.991 1352.11 Q250.371 1355.28 250.371 1360.69 Q250.371 1366.27 246.898 1369.37 Q243.426 1372.45 237.107 1372.45 Q234.931 1372.45 232.662 1372.08 Q230.417 1371.71 228.01 1370.97 L228.01 1366.27 Q230.093 1367.41 232.315 1367.96 Q234.537 1368.52 237.014 1368.52 Q241.019 1368.52 243.357 1366.41 Q245.695 1364.31 245.695 1360.69 Q245.695 1357.08 243.357 1354.98 Q241.019 1352.87 237.014 1352.87 Q235.139 1352.87 233.264 1353.29 Q231.412 1353.7 229.468 1354.58 L229.468 1337.22 Z\" fill=\"#000000\" fill-rule=\"evenodd\" fill-opacity=\"1\" /><path clip-path=\"url(#clip900)\" d=\"M269.583 1340.3 Q265.972 1340.3 264.144 1343.87 Q262.338 1347.41 262.338 1354.54 Q262.338 1361.64 264.144 1365.21 Q265.972 1368.75 269.583 1368.75 Q273.218 1368.75 275.023 1365.21 Q276.852 1361.64 276.852 1354.54 Q276.852 1347.41 275.023 1343.87 Q273.218 1340.3 269.583 1340.3 M269.583 1336.6 Q275.394 1336.6 278.449 1341.2 Q281.528 1345.79 281.528 1354.54 Q281.528 1363.26 278.449 1367.87 Q275.394 1372.45 269.583 1372.45 Q263.773 1372.45 260.695 1367.87 Q257.639 1363.26 257.639 1354.54 Q257.639 1345.79 260.695 1341.2 Q263.773 1336.6 269.583 1336.6 Z\" fill=\"#000000\" fill-rule=\"evenodd\" fill-opacity=\"1\" /><path clip-path=\"url(#clip900)\" d=\"M317.916 1346.32 L307.338 1356.94 L317.916 1367.52 L315.162 1370.32 L304.537 1359.7 L293.912 1370.32 L291.181 1367.52 L301.736 1356.94 L291.181 1346.32 L293.912 1343.52 L304.537 1354.14 L315.162 1343.52 L317.916 1346.32 Z\" fill=\"#000000\" fill-rule=\"evenodd\" fill-opacity=\"1\" /><path clip-path=\"url(#clip900)\" d=\"M330.278 1367.85 L337.916 1367.85 L337.916 1341.48 L329.606 1343.15 L329.606 1338.89 L337.87 1337.22 L342.546 1337.22 L342.546 1367.85 L350.185 1367.85 L350.185 1371.78 L330.278 1371.78 L330.278 1367.85 Z\" fill=\"#000000\" fill-rule=\"evenodd\" fill-opacity=\"1\" /><path clip-path=\"url(#clip900)\" d=\"M369.629 1340.3 Q366.018 1340.3 364.189 1343.87 Q362.384 1347.41 362.384 1354.54 Q362.384 1361.64 364.189 1365.21 Q366.018 1368.75 369.629 1368.75 Q373.263 1368.75 375.069 1365.21 Q376.898 1361.64 376.898 1354.54 Q376.898 1347.41 375.069 1343.87 Q373.263 1340.3 369.629 1340.3 M369.629 1336.6 Q375.439 1336.6 378.495 1341.2 Q381.574 1345.79 381.574 1354.54 Q381.574 1363.26 378.495 1367.87 Q375.439 1372.45 369.629 1372.45 Q363.819 1372.45 360.74 1367.87 Q357.685 1363.26 357.685 1354.54 Q357.685 1345.79 360.74 1341.2 Q363.819 1336.6 369.629 1336.6 Z\" fill=\"#000000\" fill-rule=\"evenodd\" fill-opacity=\"1\" /><path clip-path=\"url(#clip900)\" d=\"M381.574 1316.29 L399.629 1316.29 L399.629 1317.91 L389.435 1344.37 L385.467 1344.37 L395.059 1319.49 L381.574 1319.49 L381.574 1316.29 Z\" fill=\"#000000\" fill-rule=\"evenodd\" fill-opacity=\"1\" /><path clip-path=\"url(#clip900)\" d=\"M114.26 1025.63 L143.936 1025.63 L143.936 1029.57 L114.26 1029.57 L114.26 1025.63 Z\" fill=\"#000000\" fill-rule=\"evenodd\" fill-opacity=\"1\" /><path clip-path=\"url(#clip900)\" d=\"M154.839 1038.53 L162.477 1038.53 L162.477 1012.16 L154.167 1013.83 L154.167 1009.57 L162.431 1007.9 L167.107 1007.9 L167.107 1038.53 L174.746 1038.53 L174.746 1042.46 L154.839 1042.46 L154.839 1038.53 Z\" fill=\"#000000\" fill-rule=\"evenodd\" fill-opacity=\"1\" /><path clip-path=\"url(#clip900)\" d=\"M184.19 1036.58 L189.075 1036.58 L189.075 1042.46 L184.19 1042.46 L184.19 1036.58 Z\" fill=\"#000000\" fill-rule=\"evenodd\" fill-opacity=\"1\" /><path clip-path=\"url(#clip900)\" d=\"M203.287 1038.53 L219.607 1038.53 L219.607 1042.46 L197.662 1042.46 L197.662 1038.53 Q200.325 1035.77 204.908 1031.14 Q209.514 1026.49 210.695 1025.15 Q212.94 1022.63 213.82 1020.89 Q214.723 1019.13 214.723 1017.44 Q214.723 1014.69 212.778 1012.95 Q210.857 1011.21 207.755 1011.21 Q205.556 1011.21 203.102 1011.98 Q200.672 1012.74 197.894 1014.29 L197.894 1009.57 Q200.718 1008.44 203.172 1007.86 Q205.625 1007.28 207.662 1007.28 Q213.033 1007.28 216.227 1009.96 Q219.422 1012.65 219.422 1017.14 Q219.422 1019.27 218.611 1021.19 Q217.824 1023.09 215.718 1025.68 Q215.139 1026.35 212.037 1029.57 Q208.936 1032.76 203.287 1038.53 Z\" fill=\"#000000\" fill-rule=\"evenodd\" fill-opacity=\"1\" /><path clip-path=\"url(#clip900)\" d=\"M239.422 1010.98 Q235.81 1010.98 233.982 1014.55 Q232.176 1018.09 232.176 1025.22 Q232.176 1032.32 233.982 1035.89 Q235.81 1039.43 239.422 1039.43 Q243.056 1039.43 244.861 1035.89 Q246.69 1032.32 246.69 1025.22 Q246.69 1018.09 244.861 1014.55 Q243.056 1010.98 239.422 1010.98 M239.422 1007.28 Q245.232 1007.28 248.287 1011.88 Q251.366 1016.47 251.366 1025.22 Q251.366 1033.94 248.287 1038.55 Q245.232 1043.13 239.422 1043.13 Q233.611 1043.13 230.533 1038.55 Q227.477 1033.94 227.477 1025.22 Q227.477 1016.47 230.533 1011.88 Q233.611 1007.28 239.422 1007.28 Z\" fill=\"#000000\" fill-rule=\"evenodd\" fill-opacity=\"1\" /><path clip-path=\"url(#clip900)\" d=\"M269.583 1010.98 Q265.972 1010.98 264.144 1014.55 Q262.338 1018.09 262.338 1025.22 Q262.338 1032.32 264.144 1035.89 Q265.972 1039.43 269.583 1039.43 Q273.218 1039.43 275.023 1035.89 Q276.852 1032.32 276.852 1025.22 Q276.852 1018.09 275.023 1014.55 Q273.218 1010.98 269.583 1010.98 M269.583 1007.28 Q275.394 1007.28 278.449 1011.88 Q281.528 1016.47 281.528 1025.22 Q281.528 1033.94 278.449 1038.55 Q275.394 1043.13 269.583 1043.13 Q263.773 1043.13 260.695 1038.55 Q257.639 1033.94 257.639 1025.22 Q257.639 1016.47 260.695 1011.88 Q263.773 1007.28 269.583 1007.28 Z\" fill=\"#000000\" fill-rule=\"evenodd\" fill-opacity=\"1\" /><path clip-path=\"url(#clip900)\" d=\"M317.916 1017 L307.338 1027.63 L317.916 1038.2 L315.162 1041 L304.537 1030.38 L293.912 1041 L291.181 1038.2 L301.736 1027.63 L291.181 1017 L293.912 1014.2 L304.537 1024.82 L315.162 1014.2 L317.916 1017 Z\" fill=\"#000000\" fill-rule=\"evenodd\" fill-opacity=\"1\" /><path clip-path=\"url(#clip900)\" d=\"M330.278 1038.53 L337.916 1038.53 L337.916 1012.16 L329.606 1013.83 L329.606 1009.57 L337.87 1007.9 L342.546 1007.9 L342.546 1038.53 L350.185 1038.53 L350.185 1042.46 L330.278 1042.46 L330.278 1038.53 Z\" fill=\"#000000\" fill-rule=\"evenodd\" fill-opacity=\"1\" /><path clip-path=\"url(#clip900)\" d=\"M369.629 1010.98 Q366.018 1010.98 364.189 1014.55 Q362.384 1018.09 362.384 1025.22 Q362.384 1032.32 364.189 1035.89 Q366.018 1039.43 369.629 1039.43 Q373.263 1039.43 375.069 1035.89 Q376.898 1032.32 376.898 1025.22 Q376.898 1018.09 375.069 1014.55 Q373.263 1010.98 369.629 1010.98 M369.629 1007.28 Q375.439 1007.28 378.495 1011.88 Q381.574 1016.47 381.574 1025.22 Q381.574 1033.94 378.495 1038.55 Q375.439 1043.13 369.629 1043.13 Q363.819 1043.13 360.74 1038.55 Q357.685 1033.94 357.685 1025.22 Q357.685 1016.47 360.74 1011.88 Q363.819 1007.28 369.629 1007.28 Z\" fill=\"#000000\" fill-rule=\"evenodd\" fill-opacity=\"1\" /><path clip-path=\"url(#clip900)\" d=\"M381.574 986.973 L399.629 986.973 L399.629 988.59 L389.435 1015.05 L385.467 1015.05 L395.059 990.17 L381.574 990.17 L381.574 986.973 Z\" fill=\"#000000\" fill-rule=\"evenodd\" fill-opacity=\"1\" /><path clip-path=\"url(#clip900)\" d=\"M114.26 696.315 L143.936 696.315 L143.936 700.25 L114.26 700.25 L114.26 696.315 Z\" fill=\"#000000\" fill-rule=\"evenodd\" fill-opacity=\"1\" /><path clip-path=\"url(#clip900)\" d=\"M154.839 709.209 L162.477 709.209 L162.477 682.843 L154.167 684.51 L154.167 680.25 L162.431 678.584 L167.107 678.584 L167.107 709.209 L174.746 709.209 L174.746 713.144 L154.839 713.144 L154.839 709.209 Z\" fill=\"#000000\" fill-rule=\"evenodd\" fill-opacity=\"1\" /><path clip-path=\"url(#clip900)\" d=\"M184.19 707.264 L189.075 707.264 L189.075 713.144 L184.19 713.144 L184.19 707.264 Z\" fill=\"#000000\" fill-rule=\"evenodd\" fill-opacity=\"1\" /><path clip-path=\"url(#clip900)\" d=\"M200.07 709.209 L207.709 709.209 L207.709 682.843 L199.399 684.51 L199.399 680.25 L207.662 678.584 L212.338 678.584 L212.338 709.209 L219.977 709.209 L219.977 713.144 L200.07 713.144 L200.07 709.209 Z\" fill=\"#000000\" fill-rule=\"evenodd\" fill-opacity=\"1\" /><path clip-path=\"url(#clip900)\" d=\"M229.468 678.584 L247.824 678.584 L247.824 682.519 L233.75 682.519 L233.75 690.991 Q234.769 690.644 235.787 690.482 Q236.806 690.297 237.824 690.297 Q243.611 690.297 246.991 693.468 Q250.371 696.639 250.371 702.056 Q250.371 707.635 246.898 710.736 Q243.426 713.815 237.107 713.815 Q234.931 713.815 232.662 713.445 Q230.417 713.074 228.01 712.334 L228.01 707.635 Q230.093 708.769 232.315 709.324 Q234.537 709.88 237.014 709.88 Q241.019 709.88 243.357 707.773 Q245.695 705.667 245.695 702.056 Q245.695 698.445 243.357 696.338 Q241.019 694.232 237.014 694.232 Q235.139 694.232 233.264 694.649 Q231.412 695.065 229.468 695.945 L229.468 678.584 Z\" fill=\"#000000\" fill-rule=\"evenodd\" fill-opacity=\"1\" /><path clip-path=\"url(#clip900)\" d=\"M269.583 681.662 Q265.972 681.662 264.144 685.227 Q262.338 688.769 262.338 695.899 Q262.338 703.005 264.144 706.57 Q265.972 710.111 269.583 710.111 Q273.218 710.111 275.023 706.57 Q276.852 703.005 276.852 695.899 Q276.852 688.769 275.023 685.227 Q273.218 681.662 269.583 681.662 M269.583 677.959 Q275.394 677.959 278.449 682.565 Q281.528 687.149 281.528 695.899 Q281.528 704.625 278.449 709.232 Q275.394 713.815 269.583 713.815 Q263.773 713.815 260.695 709.232 Q257.639 704.625 257.639 695.899 Q257.639 687.149 260.695 682.565 Q263.773 677.959 269.583 677.959 Z\" fill=\"#000000\" fill-rule=\"evenodd\" fill-opacity=\"1\" /><path clip-path=\"url(#clip900)\" d=\"M317.916 687.681 L307.338 698.306 L317.916 708.885 L315.162 711.685 L304.537 701.061 L293.912 711.685 L291.181 708.885 L301.736 698.306 L291.181 687.681 L293.912 684.88 L304.537 695.505 L315.162 684.88 L317.916 687.681 Z\" fill=\"#000000\" fill-rule=\"evenodd\" fill-opacity=\"1\" /><path clip-path=\"url(#clip900)\" d=\"M330.278 709.209 L337.916 709.209 L337.916 682.843 L329.606 684.51 L329.606 680.25 L337.87 678.584 L342.546 678.584 L342.546 709.209 L350.185 709.209 L350.185 713.144 L330.278 713.144 L330.278 709.209 Z\" fill=\"#000000\" fill-rule=\"evenodd\" fill-opacity=\"1\" /><path clip-path=\"url(#clip900)\" d=\"M369.629 681.662 Q366.018 681.662 364.189 685.227 Q362.384 688.769 362.384 695.899 Q362.384 703.005 364.189 706.57 Q366.018 710.111 369.629 710.111 Q373.263 710.111 375.069 706.57 Q376.898 703.005 376.898 695.899 Q376.898 688.769 375.069 685.227 Q373.263 681.662 369.629 681.662 M369.629 677.959 Q375.439 677.959 378.495 682.565 Q381.574 687.149 381.574 695.899 Q381.574 704.625 378.495 709.232 Q375.439 713.815 369.629 713.815 Q363.819 713.815 360.74 709.232 Q357.685 704.625 357.685 695.899 Q357.685 687.149 360.74 682.565 Q363.819 677.959 369.629 677.959 Z\" fill=\"#000000\" fill-rule=\"evenodd\" fill-opacity=\"1\" /><path clip-path=\"url(#clip900)\" d=\"M381.574 657.653 L399.629 657.653 L399.629 659.271 L389.435 685.733 L385.467 685.733 L395.059 660.851 L381.574 660.851 L381.574 657.653 Z\" fill=\"#000000\" fill-rule=\"evenodd\" fill-opacity=\"1\" /><path clip-path=\"url(#clip900)\" d=\"M114.26 366.996 L143.936 366.996 L143.936 370.931 L114.26 370.931 L114.26 366.996 Z\" fill=\"#000000\" fill-rule=\"evenodd\" fill-opacity=\"1\" /><path clip-path=\"url(#clip900)\" d=\"M154.839 379.89 L162.477 379.89 L162.477 353.524 L154.167 355.191 L154.167 350.931 L162.431 349.265 L167.107 349.265 L167.107 379.89 L174.746 379.89 L174.746 383.825 L154.839 383.825 L154.839 379.89 Z\" fill=\"#000000\" fill-rule=\"evenodd\" fill-opacity=\"1\" /><path clip-path=\"url(#clip900)\" d=\"M184.19 377.945 L189.075 377.945 L189.075 383.825 L184.19 383.825 L184.19 377.945 Z\" fill=\"#000000\" fill-rule=\"evenodd\" fill-opacity=\"1\" /><path clip-path=\"url(#clip900)\" d=\"M200.07 379.89 L207.709 379.89 L207.709 353.524 L199.399 355.191 L199.399 350.931 L207.662 349.265 L212.338 349.265 L212.338 379.89 L219.977 379.89 L219.977 383.825 L200.07 383.825 L200.07 379.89 Z\" fill=\"#000000\" fill-rule=\"evenodd\" fill-opacity=\"1\" /><path clip-path=\"url(#clip900)\" d=\"M239.422 352.343 Q235.81 352.343 233.982 355.908 Q232.176 359.45 232.176 366.579 Q232.176 373.686 233.982 377.251 Q235.81 380.792 239.422 380.792 Q243.056 380.792 244.861 377.251 Q246.69 373.686 246.69 366.579 Q246.69 359.45 244.861 355.908 Q243.056 352.343 239.422 352.343 M239.422 348.64 Q245.232 348.64 248.287 353.246 Q251.366 357.829 251.366 366.579 Q251.366 375.306 248.287 379.913 Q245.232 384.496 239.422 384.496 Q233.611 384.496 230.533 379.913 Q227.477 375.306 227.477 366.579 Q227.477 357.829 230.533 353.246 Q233.611 348.64 239.422 348.64 Z\" fill=\"#000000\" fill-rule=\"evenodd\" fill-opacity=\"1\" /><path clip-path=\"url(#clip900)\" d=\"M269.583 352.343 Q265.972 352.343 264.144 355.908 Q262.338 359.45 262.338 366.579 Q262.338 373.686 264.144 377.251 Q265.972 380.792 269.583 380.792 Q273.218 380.792 275.023 377.251 Q276.852 373.686 276.852 366.579 Q276.852 359.45 275.023 355.908 Q273.218 352.343 269.583 352.343 M269.583 348.64 Q275.394 348.64 278.449 353.246 Q281.528 357.829 281.528 366.579 Q281.528 375.306 278.449 379.913 Q275.394 384.496 269.583 384.496 Q263.773 384.496 260.695 379.913 Q257.639 375.306 257.639 366.579 Q257.639 357.829 260.695 353.246 Q263.773 348.64 269.583 348.64 Z\" fill=\"#000000\" fill-rule=\"evenodd\" fill-opacity=\"1\" /><path clip-path=\"url(#clip900)\" d=\"M317.916 358.362 L307.338 368.987 L317.916 379.565 L315.162 382.366 L304.537 371.741 L293.912 382.366 L291.181 379.565 L301.736 368.987 L291.181 358.362 L293.912 355.561 L304.537 366.186 L315.162 355.561 L317.916 358.362 Z\" fill=\"#000000\" fill-rule=\"evenodd\" fill-opacity=\"1\" /><path clip-path=\"url(#clip900)\" d=\"M330.278 379.89 L337.916 379.89 L337.916 353.524 L329.606 355.191 L329.606 350.931 L337.87 349.265 L342.546 349.265 L342.546 379.89 L350.185 379.89 L350.185 383.825 L330.278 383.825 L330.278 379.89 Z\" fill=\"#000000\" fill-rule=\"evenodd\" fill-opacity=\"1\" /><path clip-path=\"url(#clip900)\" d=\"M369.629 352.343 Q366.018 352.343 364.189 355.908 Q362.384 359.45 362.384 366.579 Q362.384 373.686 364.189 377.251 Q366.018 380.792 369.629 380.792 Q373.263 380.792 375.069 377.251 Q376.898 373.686 376.898 366.579 Q376.898 359.45 375.069 355.908 Q373.263 352.343 369.629 352.343 M369.629 348.64 Q375.439 348.64 378.495 353.246 Q381.574 357.829 381.574 366.579 Q381.574 375.306 378.495 379.913 Q375.439 384.496 369.629 384.496 Q363.819 384.496 360.74 379.913 Q357.685 375.306 357.685 366.579 Q357.685 357.829 360.74 353.246 Q363.819 348.64 369.629 348.64 Z\" fill=\"#000000\" fill-rule=\"evenodd\" fill-opacity=\"1\" /><path clip-path=\"url(#clip900)\" d=\"M381.574 328.334 L399.629 328.334 L399.629 329.952 L389.435 356.414 L385.467 356.414 L395.059 331.532 L381.574 331.532 L381.574 328.334 Z\" fill=\"#000000\" fill-rule=\"evenodd\" fill-opacity=\"1\" /><path clip-path=\"url(#clip900)\" d=\"M18.0438 929.032 L24.314 929.032 Q22.5634 932.693 21.704 935.939 Q20.8447 939.186 20.8447 942.209 Q20.8447 947.461 22.8817 950.326 Q24.9187 953.159 28.6745 953.159 Q31.8255 953.159 33.4488 951.281 Q35.0402 949.371 36.0269 944.087 L36.8226 940.204 Q38.1912 933.011 41.6605 929.605 Q45.098 926.168 50.8908 926.168 Q57.7976 926.168 61.3624 930.815 Q64.9272 935.43 64.9272 944.374 Q64.9272 947.748 64.1633 951.567 Q63.3994 955.355 61.9035 959.429 L55.2831 959.429 Q57.4793 955.514 58.5933 951.758 Q59.7073 948.002 59.7073 944.374 Q59.7073 938.867 57.543 935.876 Q55.3786 932.884 51.3682 932.884 Q47.8671 932.884 45.8937 935.048 Q43.9204 937.181 42.9337 942.082 L42.1698 945.997 Q40.7375 953.19 37.682 956.405 Q34.6264 959.62 29.1837 959.62 Q22.8817 959.62 19.2532 955.196 Q15.6248 950.74 15.6248 942.942 Q15.6248 939.6 16.2295 936.13 Q16.8343 932.661 18.0438 929.032 Z\" fill=\"#000000\" fill-rule=\"evenodd\" fill-opacity=\"1\" /><path clip-path=\"url(#clip900)\" d=\"M32.4621 902.583 Q32.4621 907.294 36.1542 910.031 Q39.8145 912.768 46.212 912.768 Q52.6095 912.768 56.3017 910.063 Q59.9619 907.325 59.9619 902.583 Q59.9619 897.904 56.2698 895.167 Q52.5777 892.43 46.212 892.43 Q39.8781 892.43 36.186 895.167 Q32.4621 897.904 32.4621 902.583 M27.4968 902.583 Q27.4968 894.944 32.4621 890.584 Q37.4273 886.223 46.212 886.223 Q54.9649 886.223 59.9619 890.584 Q64.9272 894.944 64.9272 902.583 Q64.9272 910.254 59.9619 914.614 Q54.9649 918.943 46.212 918.943 Q37.4273 918.943 32.4621 914.614 Q27.4968 910.254 27.4968 902.583 Z\" fill=\"#000000\" fill-rule=\"evenodd\" fill-opacity=\"1\" /><path clip-path=\"url(#clip900)\" d=\"M29.7248 850.862 L35.1993 850.862 Q33.8307 853.344 33.1623 855.859 Q32.4621 858.341 32.4621 860.888 Q32.4621 866.585 36.0905 869.736 Q39.6872 872.887 46.212 872.887 Q52.7369 872.887 56.3653 869.736 Q59.9619 866.585 59.9619 860.888 Q59.9619 858.341 59.2935 855.859 Q58.5933 853.344 57.2247 850.862 L62.6355 850.862 Q63.7814 853.312 64.3543 855.954 Q64.9272 858.564 64.9272 861.524 Q64.9272 869.577 59.8664 874.319 Q54.8057 879.062 46.212 879.062 Q37.491 879.062 32.4939 874.287 Q27.4968 869.481 27.4968 861.142 Q27.4968 858.437 28.0697 855.859 Q28.6108 853.281 29.7248 850.862 Z\" fill=\"#000000\" fill-rule=\"evenodd\" fill-opacity=\"1\" /><path clip-path=\"url(#clip900)\" d=\"M28.3562 840.676 L28.3562 834.82 L64.0042 834.82 L64.0042 840.676 L28.3562 840.676 M14.479 840.676 L14.479 834.82 L21.895 834.82 L21.895 840.676 L14.479 840.676 Z\" fill=\"#000000\" fill-rule=\"evenodd\" fill-opacity=\"1\" /><path clip-path=\"url(#clip900)\" d=\"M46.0847 806.365 Q46.0847 813.463 47.7079 816.2 Q49.3312 818.938 53.2461 818.938 Q56.3653 818.938 58.2114 816.901 Q60.0256 814.832 60.0256 811.299 Q60.0256 806.429 56.5881 803.501 Q53.1188 800.541 47.3897 800.541 L46.0847 800.541 L46.0847 806.365 M43.6657 794.684 L64.0042 794.684 L64.0042 800.541 L58.5933 800.541 Q61.8398 802.546 63.3994 805.538 Q64.9272 808.53 64.9272 812.858 Q64.9272 818.333 61.8716 821.579 Q58.7843 824.794 53.6281 824.794 Q47.6125 824.794 44.5569 820.784 Q41.5014 816.741 41.5014 808.752 L41.5014 800.541 L40.9285 800.541 Q36.8862 800.541 34.6901 803.214 Q32.4621 805.856 32.4621 810.662 Q32.4621 813.718 33.1941 816.614 Q33.9262 819.51 35.3903 822.184 L29.9795 822.184 Q28.7381 818.969 28.1334 815.946 Q27.4968 812.922 27.4968 810.057 Q27.4968 802.323 31.5072 798.504 Q35.5176 794.684 43.6657 794.684 Z\" fill=\"#000000\" fill-rule=\"evenodd\" fill-opacity=\"1\" /><path clip-path=\"url(#clip900)\" d=\"M14.479 782.621 L14.479 776.765 L64.0042 776.765 L64.0042 782.621 L14.479 782.621 Z\" fill=\"#000000\" fill-rule=\"evenodd\" fill-opacity=\"1\" /><path clip-path=\"url(#clip900)\" d=\"M14.479 764.511 L14.479 758.654 L64.0042 758.654 L64.0042 764.511 L14.479 764.511 Z\" fill=\"#000000\" fill-rule=\"evenodd\" fill-opacity=\"1\" /><path clip-path=\"url(#clip900)\" d=\"M67.3143 731.568 Q73.68 734.051 75.6216 736.406 Q77.5631 738.762 77.5631 742.708 L77.5631 747.387 L72.6615 747.387 L72.6615 743.95 Q72.6615 741.531 71.5157 740.194 Q70.3699 738.857 66.1048 737.234 L63.4312 736.183 L28.3562 750.602 L28.3562 744.395 L56.238 733.255 L28.3562 722.115 L28.3562 715.909 L67.3143 731.568 Z\" fill=\"#000000\" fill-rule=\"evenodd\" fill-opacity=\"1\" /><path clip-path=\"url(#clip900)\" d=\"M16.4842 686.849 L16.4842 680.42 L60.694 680.42 Q69.2877 680.42 73.1708 683.698 Q77.0539 686.945 77.0539 694.17 L77.0539 696.621 L71.643 696.621 L71.643 694.615 Q71.643 690.35 69.2559 688.6 Q66.8687 686.849 60.694 686.849 L16.4842 686.849 Z\" fill=\"#000000\" fill-rule=\"evenodd\" fill-opacity=\"1\" /><path clip-path=\"url(#clip900)\" d=\"M49.9359 668.484 L28.3562 668.484 L28.3562 662.628 L49.7131 662.628 Q54.7739 662.628 57.3202 660.654 Q59.8346 658.681 59.8346 654.734 Q59.8346 649.992 56.8109 647.254 Q53.7872 644.485 48.5673 644.485 L28.3562 644.485 L28.3562 638.629 L64.0042 638.629 L64.0042 644.485 L58.5296 644.485 Q61.7762 646.618 63.3676 649.451 Q64.9272 652.252 64.9272 655.975 Q64.9272 662.118 61.1078 665.301 Q57.2883 668.484 49.9359 668.484 M27.4968 653.747 L27.4968 653.747 Z\" fill=\"#000000\" fill-rule=\"evenodd\" fill-opacity=\"1\" /><path clip-path=\"url(#clip900)\" d=\"M29.4065 603.84 L34.9447 603.84 Q33.6716 606.323 33.035 608.997 Q32.3984 611.67 32.3984 614.535 Q32.3984 618.895 33.7352 621.091 Q35.072 623.256 37.7456 623.256 Q39.7826 623.256 40.9603 621.696 Q42.1061 620.137 43.1565 615.426 L43.6021 613.421 Q44.9389 607.182 47.3897 604.572 Q49.8086 601.931 54.1691 601.931 Q59.1344 601.931 62.0308 605.877 Q64.9272 609.792 64.9272 616.667 Q64.9272 619.532 64.3543 622.651 Q63.8132 625.738 62.6992 629.176 L56.6518 629.176 Q58.3387 625.929 59.198 622.778 Q60.0256 619.627 60.0256 616.54 Q60.0256 612.402 58.6251 610.174 Q57.1929 607.946 54.6147 607.946 Q52.2276 607.946 50.9545 609.569 Q49.6813 611.161 48.5037 616.604 L48.0262 618.641 Q46.8804 624.083 44.5251 626.502 Q42.138 628.921 38.0002 628.921 Q32.9713 628.921 30.2341 625.356 Q27.4968 621.792 27.4968 615.235 Q27.4968 611.988 27.9743 609.124 Q28.4517 606.259 29.4065 603.84 Z\" fill=\"#000000\" fill-rule=\"evenodd\" fill-opacity=\"1\" /><path clip-path=\"url(#clip900)\" d=\"M18.2347 586.812 L28.3562 586.812 L28.3562 574.749 L32.9077 574.749 L32.9077 586.812 L52.2594 586.812 Q56.6199 586.812 57.8613 585.634 Q59.1026 584.425 59.1026 580.765 L59.1026 574.749 L64.0042 574.749 L64.0042 580.765 Q64.0042 587.544 61.4897 590.122 Q58.9434 592.7 52.2594 592.7 L32.9077 592.7 L32.9077 596.997 L28.3562 596.997 L28.3562 592.7 L18.2347 592.7 L18.2347 586.812 Z\" fill=\"#000000\" fill-rule=\"evenodd\" fill-opacity=\"1\" /><path clip-path=\"url(#clip900)\" d=\"M540.971 17.6457 Q532.059 17.6457 526.793 24.2892 Q521.567 30.9327 521.567 42.3968 Q521.567 53.8203 526.793 60.4638 Q532.059 67.1073 540.971 67.1073 Q549.883 67.1073 555.068 60.4638 Q560.294 53.8203 560.294 42.3968 Q560.294 30.9327 555.068 24.2892 Q549.883 17.6457 540.971 17.6457 M540.971 11.0023 Q553.691 11.0023 561.306 19.5497 Q568.922 28.0566 568.922 42.3968 Q568.922 56.6965 561.306 65.2439 Q553.691 73.7508 540.971 73.7508 Q528.21 73.7508 520.554 65.2439 Q512.938 56.737 512.938 42.3968 Q512.938 28.0566 520.554 19.5497 Q528.21 11.0023 540.971 11.0023 Z\" fill=\"#000000\" fill-rule=\"evenodd\" fill-opacity=\"1\" /><path clip-path=\"url(#clip900)\" d=\"M576.052 27.2059 L583.951 27.2059 L598.129 65.2844 L612.307 27.2059 L620.206 27.2059 L603.193 72.576 L593.065 72.576 L576.052 27.2059 Z\" fill=\"#000000\" fill-rule=\"evenodd\" fill-opacity=\"1\" /><path clip-path=\"url(#clip900)\" d=\"M669.303 48.0275 L669.303 51.6733 L635.033 51.6733 Q635.519 59.3701 639.651 63.421 Q643.823 67.4314 651.236 67.4314 Q655.53 67.4314 659.541 66.3781 Q663.592 65.3249 667.562 63.2184 L667.562 70.267 Q663.551 71.9684 659.338 72.8596 Q655.125 73.7508 650.791 73.7508 Q639.934 73.7508 633.574 67.4314 Q627.255 61.1119 627.255 50.3365 Q627.255 39.1965 633.25 32.6746 Q639.286 26.1121 649.494 26.1121 Q658.65 26.1121 663.956 32.0264 Q669.303 37.9003 669.303 48.0275 M661.85 45.84 Q661.769 39.7232 658.406 36.0774 Q655.085 32.4315 649.575 32.4315 Q643.337 32.4315 639.57 35.9558 Q635.843 39.4801 635.276 45.8805 L661.85 45.84 Z\" fill=\"#000000\" fill-rule=\"evenodd\" fill-opacity=\"1\" /><path clip-path=\"url(#clip900)\" d=\"M707.827 34.1734 Q706.572 33.4443 705.073 33.1202 Q703.615 32.7556 701.832 32.7556 Q695.513 32.7556 692.11 36.8875 Q688.748 40.9789 688.748 48.6757 L688.748 72.576 L681.254 72.576 L681.254 27.2059 L688.748 27.2059 L688.748 34.2544 Q691.097 30.1225 694.865 28.1376 Q698.632 26.1121 704.02 26.1121 Q704.789 26.1121 705.721 26.2337 Q706.653 26.3147 707.787 26.5172 L707.827 34.1734 Z\" fill=\"#000000\" fill-rule=\"evenodd\" fill-opacity=\"1\" /><path clip-path=\"url(#clip900)\" d=\"M749.39 14.324 L749.39 27.2059 L764.743 27.2059 L764.743 32.9987 L749.39 32.9987 L749.39 57.6282 Q749.39 63.1779 750.889 64.7578 Q752.428 66.3376 757.086 66.3376 L764.743 66.3376 L764.743 72.576 L757.086 72.576 Q748.458 72.576 745.177 69.3758 Q741.896 66.1351 741.896 57.6282 L741.896 32.9987 L736.427 32.9987 L736.427 27.2059 L741.896 27.2059 L741.896 14.324 L749.39 14.324 Z\" fill=\"#000000\" fill-rule=\"evenodd\" fill-opacity=\"1\" /><path clip-path=\"url(#clip900)\" d=\"M812.26 45.1919 L812.26 72.576 L804.806 72.576 L804.806 45.4349 Q804.806 38.994 802.295 35.7938 Q799.783 32.5936 794.76 32.5936 Q788.724 32.5936 785.24 36.4419 Q781.756 40.2903 781.756 46.9338 L781.756 72.576 L774.262 72.576 L774.262 9.54393 L781.756 9.54393 L781.756 34.2544 Q784.43 30.163 788.035 28.1376 Q791.681 26.1121 796.421 26.1121 Q804.239 26.1121 808.249 30.9732 Q812.26 35.7938 812.26 45.1919 Z\" fill=\"#000000\" fill-rule=\"evenodd\" fill-opacity=\"1\" /><path clip-path=\"url(#clip900)\" d=\"M865.934 48.0275 L865.934 51.6733 L831.664 51.6733 Q832.15 59.3701 836.282 63.421 Q840.454 67.4314 847.867 67.4314 Q852.161 67.4314 856.172 66.3781 Q860.223 65.3249 864.192 63.2184 L864.192 70.267 Q860.182 71.9684 855.969 72.8596 Q851.756 73.7508 847.422 73.7508 Q836.565 73.7508 830.205 67.4314 Q823.886 61.1119 823.886 50.3365 Q823.886 39.1965 829.881 32.6746 Q835.917 26.1121 846.125 26.1121 Q855.28 26.1121 860.587 32.0264 Q865.934 37.9003 865.934 48.0275 M858.481 45.84 Q858.4 39.7232 855.037 36.0774 Q851.716 32.4315 846.206 32.4315 Q839.968 32.4315 836.201 35.9558 Q832.474 39.4801 831.907 45.8805 L858.481 45.84 Z\" fill=\"#000000\" fill-rule=\"evenodd\" fill-opacity=\"1\" /><path clip-path=\"url(#clip900)\" d=\"M900.205 27.2059 L907.659 27.2059 L916.976 62.6108 L926.252 27.2059 L935.043 27.2059 L944.36 62.6108 L953.636 27.2059 L961.09 27.2059 L949.221 72.576 L940.43 72.576 L930.668 35.3887 L920.865 72.576 L912.074 72.576 L900.205 27.2059 Z\" fill=\"#000000\" fill-rule=\"evenodd\" fill-opacity=\"1\" /><path clip-path=\"url(#clip900)\" d=\"M1010.11 45.1919 L1010.11 72.576 L1002.65 72.576 L1002.65 45.4349 Q1002.65 38.994 1000.14 35.7938 Q997.629 32.5936 992.606 32.5936 Q986.57 32.5936 983.086 36.4419 Q979.603 40.2903 979.603 46.9338 L979.603 72.576 L972.108 72.576 L972.108 9.54393 L979.603 9.54393 L979.603 34.2544 Q982.276 30.163 985.882 28.1376 Q989.527 26.1121 994.267 26.1121 Q1002.09 26.1121 1006.1 30.9732 Q1010.11 35.7938 1010.11 45.1919 Z\" fill=\"#000000\" fill-rule=\"evenodd\" fill-opacity=\"1\" /><path clip-path=\"url(#clip900)\" d=\"M1042.55 32.4315 Q1036.56 32.4315 1033.07 37.1306 Q1029.59 41.7891 1029.59 49.9314 Q1029.59 58.0738 1033.03 62.7728 Q1036.52 67.4314 1042.55 67.4314 Q1048.51 67.4314 1051.99 62.7323 Q1055.48 58.0333 1055.48 49.9314 Q1055.48 41.8701 1051.99 37.1711 Q1048.51 32.4315 1042.55 32.4315 M1042.55 26.1121 Q1052.28 26.1121 1057.83 32.4315 Q1063.38 38.7509 1063.38 49.9314 Q1063.38 61.0714 1057.83 67.4314 Q1052.28 73.7508 1042.55 73.7508 Q1032.79 73.7508 1027.24 67.4314 Q1021.73 61.0714 1021.73 49.9314 Q1021.73 38.7509 1027.24 32.4315 Q1032.79 26.1121 1042.55 26.1121 Z\" fill=\"#000000\" fill-rule=\"evenodd\" fill-opacity=\"1\" /><path clip-path=\"url(#clip900)\" d=\"M1075.73 9.54393 L1083.18 9.54393 L1083.18 72.576 L1075.73 72.576 L1075.73 9.54393 Z\" fill=\"#000000\" fill-rule=\"evenodd\" fill-opacity=\"1\" /><path clip-path=\"url(#clip900)\" d=\"M1137.59 48.0275 L1137.59 51.6733 L1103.32 51.6733 Q1103.8 59.3701 1107.94 63.421 Q1112.11 67.4314 1119.52 67.4314 Q1123.81 67.4314 1127.83 66.3781 Q1131.88 65.3249 1135.85 63.2184 L1135.85 70.267 Q1131.84 71.9684 1127.62 72.8596 Q1123.41 73.7508 1119.08 73.7508 Q1108.22 73.7508 1101.86 67.4314 Q1095.54 61.1119 1095.54 50.3365 Q1095.54 39.1965 1101.53 32.6746 Q1107.57 26.1121 1117.78 26.1121 Q1126.93 26.1121 1132.24 32.0264 Q1137.59 37.9003 1137.59 48.0275 M1130.13 45.84 Q1130.05 39.7232 1126.69 36.0774 Q1123.37 32.4315 1117.86 32.4315 Q1111.62 32.4315 1107.85 35.9558 Q1104.13 39.4801 1103.56 45.8805 L1130.13 45.84 Z\" fill=\"#000000\" fill-rule=\"evenodd\" fill-opacity=\"1\" /><path clip-path=\"url(#clip900)\" d=\"M1205.12 28.5427 L1205.12 35.5912 Q1201.96 33.9709 1198.55 33.1607 Q1195.15 32.3505 1191.51 32.3505 Q1185.96 32.3505 1183.16 34.0519 Q1180.41 35.7533 1180.41 39.156 Q1180.41 41.7486 1182.39 43.2475 Q1184.38 44.7058 1190.37 46.0426 L1192.92 46.6097 Q1200.86 48.3111 1204.18 51.4303 Q1207.55 54.509 1207.55 60.0587 Q1207.55 66.3781 1202.52 70.0644 Q1197.54 73.7508 1188.79 73.7508 Q1185.15 73.7508 1181.18 73.0216 Q1177.25 72.3329 1172.87 70.9151 L1172.87 63.2184 Q1177 65.3654 1181.01 66.4591 Q1185.02 67.5124 1188.95 67.5124 Q1194.22 67.5124 1197.06 65.73 Q1199.89 63.9071 1199.89 60.6258 Q1199.89 57.5877 1197.82 55.9673 Q1195.8 54.3469 1188.87 52.8481 L1186.28 52.2405 Q1179.35 50.7821 1176.27 47.7845 Q1173.2 44.7463 1173.2 39.4801 Q1173.2 33.0797 1177.73 29.5959 Q1182.27 26.1121 1190.61 26.1121 Q1194.75 26.1121 1198.39 26.7198 Q1202.04 27.3274 1205.12 28.5427 Z\" fill=\"#000000\" fill-rule=\"evenodd\" fill-opacity=\"1\" /><path clip-path=\"url(#clip900)\" d=\"M1218.65 54.671 L1218.65 27.2059 L1226.1 27.2059 L1226.1 54.3874 Q1226.1 60.8284 1228.61 64.0691 Q1231.12 67.2693 1236.15 67.2693 Q1242.18 67.2693 1245.67 63.421 Q1249.19 59.5726 1249.19 52.9291 L1249.19 27.2059 L1256.64 27.2059 L1256.64 72.576 L1249.19 72.576 L1249.19 65.6084 Q1246.48 69.7404 1242.87 71.7658 Q1239.31 73.7508 1234.57 73.7508 Q1226.75 73.7508 1222.7 68.8897 Q1218.65 64.0286 1218.65 54.671 M1237.4 26.1121 L1237.4 26.1121 Z\" fill=\"#000000\" fill-rule=\"evenodd\" fill-opacity=\"1\" /><path clip-path=\"url(#clip900)\" d=\"M1279.21 65.7705 L1279.21 89.8329 L1271.71 89.8329 L1271.71 27.2059 L1279.21 27.2059 L1279.21 34.0924 Q1281.56 30.0415 1285.12 28.0971 Q1288.73 26.1121 1293.71 26.1121 Q1301.97 26.1121 1307.12 32.6746 Q1312.3 39.2371 1312.3 49.9314 Q1312.3 60.6258 1307.12 67.1883 Q1301.97 73.7508 1293.71 73.7508 Q1288.73 73.7508 1285.12 71.8063 Q1281.56 69.8214 1279.21 65.7705 M1304.57 49.9314 Q1304.57 41.7081 1301.16 37.0496 Q1297.8 32.3505 1291.89 32.3505 Q1285.97 32.3505 1282.57 37.0496 Q1279.21 41.7081 1279.21 49.9314 Q1279.21 58.1548 1282.57 62.8538 Q1285.97 67.5124 1291.89 67.5124 Q1297.8 67.5124 1301.16 62.8538 Q1304.57 58.1548 1304.57 49.9314 Z\" fill=\"#000000\" fill-rule=\"evenodd\" fill-opacity=\"1\" /><path clip-path=\"url(#clip900)\" d=\"M1331.87 65.7705 L1331.87 89.8329 L1324.38 89.8329 L1324.38 27.2059 L1331.87 27.2059 L1331.87 34.0924 Q1334.22 30.0415 1337.78 28.0971 Q1341.39 26.1121 1346.37 26.1121 Q1354.64 26.1121 1359.78 32.6746 Q1364.97 39.2371 1364.97 49.9314 Q1364.97 60.6258 1359.78 67.1883 Q1354.64 73.7508 1346.37 73.7508 Q1341.39 73.7508 1337.78 71.8063 Q1334.22 69.8214 1331.87 65.7705 M1357.23 49.9314 Q1357.23 41.7081 1353.83 37.0496 Q1350.46 32.3505 1344.55 32.3505 Q1338.63 32.3505 1335.23 37.0496 Q1331.87 41.7081 1331.87 49.9314 Q1331.87 58.1548 1335.23 62.8538 Q1338.63 67.5124 1344.55 67.5124 Q1350.46 67.5124 1353.83 62.8538 Q1357.23 58.1548 1357.23 49.9314 Z\" fill=\"#000000\" fill-rule=\"evenodd\" fill-opacity=\"1\" /><path clip-path=\"url(#clip900)\" d=\"M1377.32 9.54393 L1384.77 9.54393 L1384.77 72.576 L1377.32 72.576 L1377.32 9.54393 Z\" fill=\"#000000\" fill-rule=\"evenodd\" fill-opacity=\"1\" /><path clip-path=\"url(#clip900)\" d=\"M1419.25 76.7889 Q1416.09 84.8907 1413.09 87.3618 Q1410.09 89.8329 1405.07 89.8329 L1399.11 89.8329 L1399.11 83.5945 L1403.49 83.5945 Q1406.57 83.5945 1408.27 82.1361 Q1409.97 80.6778 1412.04 75.2496 L1413.37 71.8468 L1395.02 27.2059 L1402.92 27.2059 L1417.1 62.6918 L1431.28 27.2059 L1439.18 27.2059 L1419.25 76.7889 Z\" fill=\"#000000\" fill-rule=\"evenodd\" fill-opacity=\"1\" /><path clip-path=\"url(#clip900)\" d=\"M1508.49 28.9478 L1508.49 35.9153 Q1505.33 34.1734 1502.13 33.3227 Q1498.97 32.4315 1495.73 32.4315 Q1488.48 32.4315 1484.47 37.0496 Q1480.46 41.6271 1480.46 49.9314 Q1480.46 58.2358 1484.47 62.8538 Q1488.48 67.4314 1495.73 67.4314 Q1498.97 67.4314 1502.13 66.5807 Q1505.33 65.6895 1508.49 63.9476 L1508.49 70.8341 Q1505.37 72.2924 1502.01 73.0216 Q1498.69 73.7508 1494.92 73.7508 Q1484.67 73.7508 1478.63 67.3098 Q1472.6 60.8689 1472.6 49.9314 Q1472.6 38.832 1478.67 32.472 Q1484.79 26.1121 1495.4 26.1121 Q1498.85 26.1121 1502.13 26.8413 Q1505.41 27.5299 1508.49 28.9478 Z\" fill=\"#000000\" fill-rule=\"evenodd\" fill-opacity=\"1\" /><path clip-path=\"url(#clip900)\" d=\"M1559.17 45.1919 L1559.17 72.576 L1551.71 72.576 L1551.71 45.4349 Q1551.71 38.994 1549.2 35.7938 Q1546.69 32.5936 1541.67 32.5936 Q1535.63 32.5936 1532.15 36.4419 Q1528.66 40.2903 1528.66 46.9338 L1528.66 72.576 L1521.17 72.576 L1521.17 9.54393 L1528.66 9.54393 L1528.66 34.2544 Q1531.34 30.163 1534.94 28.1376 Q1538.59 26.1121 1543.33 26.1121 Q1551.14 26.1121 1555.16 30.9732 Q1559.17 35.7938 1559.17 45.1919 Z\" fill=\"#000000\" fill-rule=\"evenodd\" fill-opacity=\"1\" /><path clip-path=\"url(#clip900)\" d=\"M1594.65 49.7694 Q1585.62 49.7694 1582.13 51.8354 Q1578.65 53.9013 1578.65 58.8839 Q1578.65 62.8538 1581.24 65.2034 Q1583.88 67.5124 1588.37 67.5124 Q1594.57 67.5124 1598.3 63.1374 Q1602.06 58.7219 1602.06 51.4303 L1602.06 49.7694 L1594.65 49.7694 M1609.52 46.6907 L1609.52 72.576 L1602.06 72.576 L1602.06 65.6895 Q1599.51 69.8214 1595.7 71.8063 Q1591.9 73.7508 1586.39 73.7508 Q1579.42 73.7508 1575.29 69.8619 Q1571.2 65.9325 1571.2 59.3701 Q1571.2 51.7138 1576.3 47.825 Q1581.45 43.9361 1591.61 43.9361 L1602.06 43.9361 L1602.06 43.2069 Q1602.06 38.0623 1598.66 35.2672 Q1595.3 32.4315 1589.18 32.4315 Q1585.29 32.4315 1581.61 33.3632 Q1577.92 34.295 1574.52 36.1584 L1574.52 29.2718 Q1578.61 27.692 1582.46 26.9223 Q1586.31 26.1121 1589.95 26.1121 Q1599.8 26.1121 1604.66 31.2163 Q1609.52 36.3204 1609.52 46.6907 Z\" fill=\"#000000\" fill-rule=\"evenodd\" fill-opacity=\"1\" /><path clip-path=\"url(#clip900)\" d=\"M1624.87 27.2059 L1632.32 27.2059 L1632.32 72.576 L1624.87 72.576 L1624.87 27.2059 M1624.87 9.54393 L1632.32 9.54393 L1632.32 18.9825 L1624.87 18.9825 L1624.87 9.54393 Z\" fill=\"#000000\" fill-rule=\"evenodd\" fill-opacity=\"1\" /><path clip-path=\"url(#clip900)\" d=\"M1685.63 45.1919 L1685.63 72.576 L1678.18 72.576 L1678.18 45.4349 Q1678.18 38.994 1675.67 35.7938 Q1673.16 32.5936 1668.13 32.5936 Q1662.1 32.5936 1658.62 36.4419 Q1655.13 40.2903 1655.13 46.9338 L1655.13 72.576 L1647.64 72.576 L1647.64 27.2059 L1655.13 27.2059 L1655.13 34.2544 Q1657.81 30.163 1661.41 28.1376 Q1665.06 26.1121 1669.8 26.1121 Q1677.61 26.1121 1681.62 30.9732 Q1685.63 35.7938 1685.63 45.1919 Z\" fill=\"#000000\" fill-rule=\"evenodd\" fill-opacity=\"1\" /><path clip-path=\"url(#clip900)\" d=\"M1744.78 9.62495 Q1739.35 18.942 1736.72 28.0566 Q1734.08 37.1711 1734.08 46.5287 Q1734.08 55.8863 1736.72 65.0818 Q1739.39 74.2369 1744.78 83.5134 L1738.3 83.5134 Q1732.22 73.9938 1729.18 64.7983 Q1726.18 55.6027 1726.18 46.5287 Q1726.18 37.4952 1729.18 28.3401 Q1732.18 19.1851 1738.3 9.62495 L1744.78 9.62495 Z\" fill=\"#000000\" fill-rule=\"evenodd\" fill-opacity=\"1\" /><path clip-path=\"url(#clip900)\" d=\"M1791.28 34.4165 Q1789.78 33.8899 1788.28 33.4848 Q1784.27 32.4315 1779.98 32.4315 Q1772.57 32.4315 1768.44 36.4419 Q1764.59 40.1688 1763.86 47.0148 L1791.28 47.0148 L1791.28 52.8481 L1763.86 52.8481 Q1764.59 59.6941 1768.44 63.421 Q1772.57 67.4314 1779.98 67.4314 Q1785.17 67.4314 1788.28 66.3781 L1791.28 65.3654 L1791.28 72.1304 L1788.08 72.8596 Q1783.87 73.7508 1779.53 73.7508 Q1768.68 73.7508 1762.36 67.4314 Q1756 61.1119 1756 49.9314 Q1756 38.7509 1762.36 32.4315 Q1768.68 26.1121 1779.53 26.1121 Q1783.63 26.1121 1788.08 27.0033 Q1789.7 27.3274 1791.28 27.8135 L1791.28 34.4165 Z\" fill=\"#000000\" fill-rule=\"evenodd\" fill-opacity=\"1\" /><path clip-path=\"url(#clip900)\" d=\"M1806.51 46.5287 L1828.35 46.5287 L1828.35 53.1722 L1806.51 53.1722 L1806.51 46.5287 Z\" fill=\"#000000\" fill-rule=\"evenodd\" fill-opacity=\"1\" /><path clip-path=\"url(#clip900)\" d=\"M1872.87 28.9478 L1872.87 35.9153 Q1869.71 34.1734 1866.51 33.3227 Q1863.35 32.4315 1860.11 32.4315 Q1852.86 32.4315 1848.85 37.0496 Q1844.84 41.6271 1844.84 49.9314 Q1844.84 58.2358 1848.85 62.8538 Q1852.86 67.4314 1860.11 67.4314 Q1863.35 67.4314 1866.51 66.5807 Q1869.71 65.6895 1872.87 63.9476 L1872.87 70.8341 Q1869.75 72.2924 1866.39 73.0216 Q1863.06 73.7508 1859.3 73.7508 Q1849.05 73.7508 1843.01 67.3098 Q1836.98 60.8689 1836.98 49.9314 Q1836.98 38.832 1843.05 32.472 Q1849.17 26.1121 1859.78 26.1121 Q1863.23 26.1121 1866.51 26.8413 Q1869.79 27.5299 1872.87 28.9478 Z\" fill=\"#000000\" fill-rule=\"evenodd\" fill-opacity=\"1\" /><path clip-path=\"url(#clip900)\" d=\"M1903.41 32.4315 Q1897.42 32.4315 1893.93 37.1306 Q1890.45 41.7891 1890.45 49.9314 Q1890.45 58.0738 1893.89 62.7728 Q1897.38 67.4314 1903.41 67.4314 Q1909.37 67.4314 1912.85 62.7323 Q1916.33 58.0333 1916.33 49.9314 Q1916.33 41.8701 1912.85 37.1711 Q1909.37 32.4315 1903.41 32.4315 M1903.41 26.1121 Q1913.13 26.1121 1918.68 32.4315 Q1924.23 38.7509 1924.23 49.9314 Q1924.23 61.0714 1918.68 67.4314 Q1913.13 73.7508 1903.41 73.7508 Q1893.65 73.7508 1888.1 67.4314 Q1882.59 61.0714 1882.59 49.9314 Q1882.59 38.7509 1888.1 32.4315 Q1893.65 26.1121 1903.41 26.1121 Z\" fill=\"#000000\" fill-rule=\"evenodd\" fill-opacity=\"1\" /><path clip-path=\"url(#clip900)\" d=\"M1974.3 45.1919 L1974.3 72.576 L1966.85 72.576 L1966.85 45.4349 Q1966.85 38.994 1964.34 35.7938 Q1961.83 32.5936 1956.8 32.5936 Q1950.77 32.5936 1947.28 36.4419 Q1943.8 40.2903 1943.8 46.9338 L1943.8 72.576 L1936.3 72.576 L1936.3 27.2059 L1943.8 27.2059 L1943.8 34.2544 Q1946.47 30.163 1950.08 28.1376 Q1953.72 26.1121 1958.46 26.1121 Q1966.28 26.1121 1970.29 30.9732 Q1974.3 35.7938 1974.3 45.1919 Z\" fill=\"#000000\" fill-rule=\"evenodd\" fill-opacity=\"1\" /><path clip-path=\"url(#clip900)\" d=\"M2018.09 28.5427 L2018.09 35.5912 Q2014.93 33.9709 2011.53 33.1607 Q2008.13 32.3505 2004.48 32.3505 Q1998.93 32.3505 1996.14 34.0519 Q1993.38 35.7533 1993.38 39.156 Q1993.38 41.7486 1995.37 43.2475 Q1997.35 44.7058 2003.35 46.0426 L2005.9 46.6097 Q2013.84 48.3111 2017.16 51.4303 Q2020.52 54.509 2020.52 60.0587 Q2020.52 66.3781 2015.5 70.0644 Q2010.52 73.7508 2001.77 73.7508 Q1998.12 73.7508 1994.15 73.0216 Q1990.22 72.3329 1985.85 70.9151 L1985.85 63.2184 Q1989.98 65.3654 1993.99 66.4591 Q1998 67.5124 2001.93 67.5124 Q2007.2 67.5124 2010.03 65.73 Q2012.87 63.9071 2012.87 60.6258 Q2012.87 57.5877 2010.8 55.9673 Q2008.78 54.3469 2001.85 52.8481 L1999.26 52.2405 Q1992.33 50.7821 1989.25 47.7845 Q1986.17 44.7463 1986.17 39.4801 Q1986.17 33.0797 1990.71 29.5959 Q1995.25 26.1121 2003.59 26.1121 Q2007.72 26.1121 2011.37 26.7198 Q2015.01 27.3274 2018.09 28.5427 Z\" fill=\"#000000\" fill-rule=\"evenodd\" fill-opacity=\"1\" /><path clip-path=\"url(#clip900)\" d=\"M2039.76 14.324 L2039.76 27.2059 L2055.12 27.2059 L2055.12 32.9987 L2039.76 32.9987 L2039.76 57.6282 Q2039.76 63.1779 2041.26 64.7578 Q2042.8 66.3376 2047.46 66.3376 L2055.12 66.3376 L2055.12 72.576 L2047.46 72.576 Q2038.83 72.576 2035.55 69.3758 Q2032.27 66.1351 2032.27 57.6282 L2032.27 32.9987 L2026.8 32.9987 L2026.8 27.2059 L2032.27 27.2059 L2032.27 14.324 L2039.76 14.324 Z\" fill=\"#000000\" fill-rule=\"evenodd\" fill-opacity=\"1\" /><path clip-path=\"url(#clip900)\" d=\"M2091.21 34.1734 Q2089.96 33.4443 2088.46 33.1202 Q2087 32.7556 2085.22 32.7556 Q2078.9 32.7556 2075.49 36.8875 Q2072.13 40.9789 2072.13 48.6757 L2072.13 72.576 L2064.64 72.576 L2064.64 27.2059 L2072.13 27.2059 L2072.13 34.2544 Q2074.48 30.1225 2078.25 28.1376 Q2082.02 26.1121 2087.4 26.1121 Q2088.17 26.1121 2089.1 26.2337 Q2090.04 26.3147 2091.17 26.5172 L2091.21 34.1734 Z\" fill=\"#000000\" fill-rule=\"evenodd\" fill-opacity=\"1\" /><path clip-path=\"url(#clip900)\" d=\"M2119.65 49.7694 Q2110.62 49.7694 2107.13 51.8354 Q2103.65 53.9013 2103.65 58.8839 Q2103.65 62.8538 2106.24 65.2034 Q2108.87 67.5124 2113.37 67.5124 Q2119.57 67.5124 2123.29 63.1374 Q2127.06 58.7219 2127.06 51.4303 L2127.06 49.7694 L2119.65 49.7694 M2134.52 46.6907 L2134.52 72.576 L2127.06 72.576 L2127.06 65.6895 Q2124.51 69.8214 2120.7 71.8063 Q2116.89 73.7508 2111.38 73.7508 Q2104.42 73.7508 2100.29 69.8619 Q2096.19 65.9325 2096.19 59.3701 Q2096.19 51.7138 2101.3 47.825 Q2106.44 43.9361 2116.61 43.9361 L2127.06 43.9361 L2127.06 43.2069 Q2127.06 38.0623 2123.66 35.2672 Q2120.3 32.4315 2114.18 32.4315 Q2110.29 32.4315 2106.6 33.3632 Q2102.92 34.295 2099.52 36.1584 L2099.52 29.2718 Q2103.61 27.692 2107.46 26.9223 Q2111.3 26.1121 2114.95 26.1121 Q2124.79 26.1121 2129.65 31.2163 Q2134.52 36.3204 2134.52 46.6907 Z\" fill=\"#000000\" fill-rule=\"evenodd\" fill-opacity=\"1\" /><path clip-path=\"url(#clip900)\" d=\"M2149.87 27.2059 L2157.32 27.2059 L2157.32 72.576 L2149.87 72.576 L2149.87 27.2059 M2149.87 9.54393 L2157.32 9.54393 L2157.32 18.9825 L2149.87 18.9825 L2149.87 9.54393 Z\" fill=\"#000000\" fill-rule=\"evenodd\" fill-opacity=\"1\" /><path clip-path=\"url(#clip900)\" d=\"M2210.63 45.1919 L2210.63 72.576 L2203.18 72.576 L2203.18 45.4349 Q2203.18 38.994 2200.67 35.7938 Q2198.16 32.5936 2193.13 32.5936 Q2187.1 32.5936 2183.61 36.4419 Q2180.13 40.2903 2180.13 46.9338 L2180.13 72.576 L2172.63 72.576 L2172.63 27.2059 L2180.13 27.2059 L2180.13 34.2544 Q2182.8 30.163 2186.41 28.1376 Q2190.05 26.1121 2194.79 26.1121 Q2202.61 26.1121 2206.62 30.9732 Q2210.63 35.7938 2210.63 45.1919 Z\" fill=\"#000000\" fill-rule=\"evenodd\" fill-opacity=\"1\" /><path clip-path=\"url(#clip900)\" d=\"M2232.87 14.324 L2232.87 27.2059 L2248.22 27.2059 L2248.22 32.9987 L2232.87 32.9987 L2232.87 57.6282 Q2232.87 63.1779 2234.37 64.7578 Q2235.91 66.3376 2240.57 66.3376 L2248.22 66.3376 L2248.22 72.576 L2240.57 72.576 Q2231.94 72.576 2228.66 69.3758 Q2225.38 66.1351 2225.38 57.6282 L2225.38 32.9987 L2219.91 32.9987 L2219.91 27.2059 L2225.38 27.2059 L2225.38 14.324 L2232.87 14.324 Z\" fill=\"#000000\" fill-rule=\"evenodd\" fill-opacity=\"1\" /><path clip-path=\"url(#clip900)\" d=\"M2256.85 9.62495 L2263.33 9.62495 Q2269.41 19.1851 2272.41 28.3401 Q2275.45 37.4952 2275.45 46.5287 Q2275.45 55.6027 2272.41 64.7983 Q2269.41 73.9938 2263.33 83.5134 L2256.85 83.5134 Q2262.24 74.2369 2264.87 65.0818 Q2267.55 55.8863 2267.55 46.5287 Q2267.55 37.1711 2264.87 28.0566 Q2262.24 18.942 2256.85 9.62495 Z\" fill=\"#000000\" fill-rule=\"evenodd\" fill-opacity=\"1\" /><polyline clip-path=\"url(#clip902)\" style=\"stroke:#009af9; stroke-linecap:round; stroke-linejoin:round; stroke-width:4; stroke-opacity:1; fill:none\" points=\"\n",
       "  489.887,159.909 942.04,1052.46 1394.19,1256.27 1846.35,1341.63 2298.5,1374.46 \n",
       "  \"/>\n",
       "<circle clip-path=\"url(#clip902)\" cx=\"489.887\" cy=\"159.909\" r=\"14.4\" fill=\"#e26f46\" fill-rule=\"evenodd\" fill-opacity=\"1\" stroke=\"#000000\" stroke-opacity=\"1\" stroke-width=\"3.2\"/>\n",
       "<circle clip-path=\"url(#clip902)\" cx=\"942.04\" cy=\"1052.46\" r=\"14.4\" fill=\"#e26f46\" fill-rule=\"evenodd\" fill-opacity=\"1\" stroke=\"#000000\" stroke-opacity=\"1\" stroke-width=\"3.2\"/>\n",
       "<circle clip-path=\"url(#clip902)\" cx=\"1394.19\" cy=\"1256.27\" r=\"14.4\" fill=\"#e26f46\" fill-rule=\"evenodd\" fill-opacity=\"1\" stroke=\"#000000\" stroke-opacity=\"1\" stroke-width=\"3.2\"/>\n",
       "<circle clip-path=\"url(#clip902)\" cx=\"1846.35\" cy=\"1341.63\" r=\"14.4\" fill=\"#e26f46\" fill-rule=\"evenodd\" fill-opacity=\"1\" stroke=\"#000000\" stroke-opacity=\"1\" stroke-width=\"3.2\"/>\n",
       "<circle clip-path=\"url(#clip902)\" cx=\"2298.5\" cy=\"1374.46\" r=\"14.4\" fill=\"#e26f46\" fill-rule=\"evenodd\" fill-opacity=\"1\" stroke=\"#000000\" stroke-opacity=\"1\" stroke-width=\"3.2\"/>\n",
       "<path clip-path=\"url(#clip900)\" d=\"\n",
       "M2044.71 321.906 L2288.85 321.906 L2288.85 166.386 L2044.71 166.386  Z\n",
       "  \" fill=\"#ffffff\" fill-rule=\"evenodd\" fill-opacity=\"1\"/>\n",
       "<polyline clip-path=\"url(#clip900)\" style=\"stroke:#000000; stroke-linecap:round; stroke-linejoin:round; stroke-width:4; stroke-opacity:1; fill:none\" points=\"\n",
       "  2044.71,321.906 2288.85,321.906 2288.85,166.386 2044.71,166.386 2044.71,321.906 \n",
       "  \"/>\n",
       "<polyline clip-path=\"url(#clip900)\" style=\"stroke:#009af9; stroke-linecap:round; stroke-linejoin:round; stroke-width:4; stroke-opacity:1; fill:none\" points=\"\n",
       "  2066.01,218.226 2193.82,218.226 \n",
       "  \"/>\n",
       "<path clip-path=\"url(#clip900)\" d=\"M2228.96 237.914 Q2227.16 242.543 2225.44 243.955 Q2223.73 245.367 2220.86 245.367 L2217.46 245.367 L2217.46 241.803 L2219.96 241.803 Q2221.72 241.803 2222.69 240.969 Q2223.66 240.136 2224.84 237.034 L2225.61 235.09 L2215.12 209.58 L2219.63 209.58 L2227.74 229.858 L2235.84 209.58 L2240.35 209.58 L2228.96 237.914 Z\" fill=\"#000000\" fill-rule=\"evenodd\" fill-opacity=\"1\" /><path clip-path=\"url(#clip900)\" d=\"M2247.64 231.571 L2255.28 231.571 L2255.28 205.206 L2246.97 206.872 L2246.97 202.613 L2255.24 200.946 L2259.91 200.946 L2259.91 231.571 L2267.55 231.571 L2267.55 235.506 L2247.64 235.506 L2247.64 231.571 Z\" fill=\"#000000\" fill-rule=\"evenodd\" fill-opacity=\"1\" /><circle clip-path=\"url(#clip900)\" cx=\"2129.91\" cy=\"270.066\" r=\"23.04\" fill=\"#e26f46\" fill-rule=\"evenodd\" fill-opacity=\"1\" stroke=\"#000000\" stroke-opacity=\"1\" stroke-width=\"5.12\"/>\n",
       "<path clip-path=\"url(#clip900)\" d=\"M2228.96 289.754 Q2227.16 294.383 2225.44 295.795 Q2223.73 297.207 2220.86 297.207 L2217.46 297.207 L2217.46 293.643 L2219.96 293.643 Q2221.72 293.643 2222.69 292.809 Q2223.66 291.976 2224.84 288.874 L2225.61 286.93 L2215.12 261.42 L2219.63 261.42 L2227.74 281.698 L2235.84 261.42 L2240.35 261.42 L2228.96 289.754 Z\" fill=\"#000000\" fill-rule=\"evenodd\" fill-opacity=\"1\" /><path clip-path=\"url(#clip900)\" d=\"M2250.86 283.411 L2267.18 283.411 L2267.18 287.346 L2245.24 287.346 L2245.24 283.411 Q2247.9 280.656 2252.48 276.027 Q2257.09 271.374 2258.27 270.032 Q2260.51 267.508 2261.39 265.772 Q2262.3 264.013 2262.3 262.323 Q2262.3 259.569 2260.35 257.833 Q2258.43 256.096 2255.33 256.096 Q2253.13 256.096 2250.68 256.86 Q2248.24 257.624 2245.47 259.175 L2245.47 254.453 Q2248.29 253.319 2250.74 252.74 Q2253.2 252.161 2255.24 252.161 Q2260.61 252.161 2263.8 254.846 Q2266.99 257.532 2266.99 262.022 Q2266.99 264.152 2266.18 266.073 Q2265.4 267.971 2263.29 270.564 Q2262.71 271.235 2259.61 274.453 Q2256.51 277.647 2250.86 283.411 Z\" fill=\"#000000\" fill-rule=\"evenodd\" fill-opacity=\"1\" /></svg>\n"
      ]
     },
     "execution_count": 19,
     "metadata": {},
     "output_type": "execute_result"
    }
   ],
   "source": [
    "x_axis = ls_eo\n",
    "y_axis = ls_ss\n",
    "\n",
    "plot(x_axis, y_axis)\n",
    "plot!(x_axis, y_axis, seriestype=:scatter)\n",
    "# scatter(x_axis, y_axis)\n",
    "\n",
    "title!(\"Over the whole supply chain (ϵ-constraint)\")\n",
    "xlabel!(\"Ecologically Safe\")\n",
    "ylabel!(\"Socially Just\")"
   ]
  },
  {
   "cell_type": "code",
   "execution_count": null,
   "id": "782d0a96",
   "metadata": {},
   "outputs": [],
   "source": []
  }
 ],
 "metadata": {
  "kernelspec": {
   "display_name": "Julia 1.8.3",
   "language": "julia",
   "name": "julia-1.8"
  },
  "language_info": {
   "file_extension": ".jl",
   "mimetype": "application/julia",
   "name": "julia",
   "version": "1.8.3"
  }
 },
 "nbformat": 4,
 "nbformat_minor": 5
}
