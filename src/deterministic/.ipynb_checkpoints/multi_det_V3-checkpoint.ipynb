{
 "cells": [
  {
   "cell_type": "code",
   "execution_count": 1,
   "id": "5edf3ebd",
   "metadata": {},
   "outputs": [],
   "source": [
    "using JuMP, Gurobi\n",
    "using CSV, LinearAlgebra, DataFrames\n",
    "using Plots\n",
    "using DelimitedFiles"
   ]
  },
  {
   "cell_type": "code",
   "execution_count": 4,
   "id": "93d2a5ce",
   "metadata": {},
   "outputs": [],
   "source": [
    "#load social and ecological data and orgnize \n",
    "FL = repeat([Float64], inner=15)\n",
    "dtype = append!([String], FL);\n",
    "\n",
    "\n",
    "regional_EF = CSV.File(\"C:/Users/bourg/.julia/environments/batterySC/Li-battery-SC/src/deterministic/data/EF_SC.csv\",header=1,delim=\",\", types=dtype) |> DataFrame    \n",
    "capacity = CSV.File(\"C:/Users/bourg/.julia/environments/batterySC/Li-battery-SC/src/deterministic/data/capacity.csv\",header=1,delim=\",\", types=dtype) |> DataFrame    \n",
    "distance = CSV.File(\"C:/Users/bourg/.julia/environments/batterySC/Li-battery-SC/src/deterministic/data/distance.csv\",header=1,delim=\",\") |> DataFrame \n",
    "LCA_model = CSV.File(\"C:/Users/bourg/.julia/environments/batterySC/Li-battery-SC/src/deterministic/data/LCA_model.csv\",header=1,delim=\",\") |> DataFrame \n",
    "D_Dsoc = CSV.File(\"C:/Users/bourg/.julia/environments/batterySC/Li-battery-SC/src/deterministic/data/D_Dsoc.csv\",header=1,delim=\",\") |> DataFrame\n",
    "GDP = CSV.File(\"C:/Users/bourg/.julia/environments/batterySC/Li-battery-SC/src/deterministic/data/GDP.csv\",header=1,delim=\",\") |> DataFrame;\n",
    "emi_sink = CSV.File(\"C:/Users/bourg/.julia/environments/batterySC/Li-battery-SC/src/deterministic/data/emission_sink.csv\",header=1,delim=\",\") |> DataFrame;"
   ]
  },
  {
   "cell_type": "code",
   "execution_count": 5,
   "id": "5118b2b5",
   "metadata": {},
   "outputs": [],
   "source": [
    "global_sink = 1.099e10                        # global pub (ocean) CO2 sequestration (ton/yr)\n",
    "global_sink_tot = 2.236e10                  # global total (ocean+land) CO2 sequestration (ton/yr)\n",
    "global_emi = 3.53e10                          # global CO2 emission (ton/yr)\n",
    "global_gdp = 96882e9                          # 2021 global GDP ($/yr)\n",
    "es_ratio = global_sink/global_emi\n",
    "es_ratio_tot = global_sink_tot/global_emi\n",
    "emission_c = emi_sink[!, \"emission\"]          # national CO2 emission (ton/yr)\n",
    "sink_c = emi_sink[!, \"sink ton/yr\"]           # national CO2 sink (ton/yr)\n",
    "\n",
    "# D = D_Dsoc[!, \"D\"]          # national CO2 emission (ton/yr)\n",
    "Dsoc = D_Dsoc[!, \"Dsoc ton/yr\"]           # national CO2 sink (ton/yr)\n",
    "\n",
    "EF_trans = 1.005/10000                        # ton CO2/km*ton (The average freight truck in the U.S. emits 161.8 grams of CO2 per ton-mile)\n",
    "process = LCA_model[!,\"process\"]\n",
    "countries = capacity[!,\"country\"]\n",
    "ncty = size(countries,1)                          # No. of countries\n",
    "nproc = size(process,1);                          # No. of processes \n",
    "\n",
    "mkt_loc = findfirst(isequal(\"United States\"), countries)\n",
    "mkt_proc = findfirst(isequal(\"battery\"), process)\n",
    "\n",
    "# seperate model\n",
    "cathode = collect(1:4)\n",
    "cell = collect(5:10)\n",
    "noncell = [12,13]\n",
    "battery = [11,14]\n",
    "scaler = LCA_model[!,\"scaler\"]\n",
    "price = LCA_model[!,\"price (usd/ton product)\"]\n",
    "vGDP = GDP[!,\"GDP usd\"];"
   ]
  },
  {
   "cell_type": "code",
   "execution_count": 11,
   "id": "4729c3eb",
   "metadata": {},
   "outputs": [],
   "source": [
    "cell_demand = 0.001*164.98*(1.369*1e6)*2;           # annual demand of Li battery for tesla (1.369M EV/yr, ~2 NMC111 pack/EV, 164.98 kg/pack (35kwh/pack), 80~100 kWh per EV)"
   ]
  },
  {
   "cell_type": "code",
   "execution_count": 8,
   "id": "d326e8f0",
   "metadata": {},
   "outputs": [],
   "source": [
    "up_cath = scaler[1:4] * scaler[5] * scaler[11]\n",
    "up_cell = scaler[5:10] * scaler[11]\n",
    "cell_sef = scaler[11]\n",
    "up_noncell = scaler[12:13] * scaler[14]\n",
    "noncell_sef = scaler[14]\n",
    "battery_sef = scaler[15];"
   ]
  },
  {
   "cell_type": "code",
   "execution_count": 9,
   "id": "fcfae35d",
   "metadata": {},
   "outputs": [],
   "source": [
    "ipt = vcat(up_cath, up_cell, cell_sef, up_noncell, noncell_sef, battery_sef) \n",
    "input_amount = ipt.* cell_demand;"
   ]
  },
  {
   "cell_type": "markdown",
   "id": "9305c6dd",
   "metadata": {},
   "source": [
    "### Build Model"
   ]
  },
  {
   "cell_type": "code",
   "execution_count": 317,
   "id": "12382191",
   "metadata": {},
   "outputs": [
    {
     "data": {
      "text/plain": [
       "EO_SS_Model (generic function with 1 method)"
      ]
     },
     "execution_count": 317,
     "metadata": {},
     "output_type": "execute_result"
    }
   ],
   "source": [
    "function EO_SS_Model(objfunc)\n",
    "    model = Model(Gurobi.Optimizer)\n",
    "    @variable(model, x[1:ncty, 1:nproc] >= 0)\n",
    "    @variable(model, y[1:ncty, 1:ncty, 1:nproc] >= 0)\n",
    "    \n",
    "    cstr_cap = [@constraint(model, x[i,k] <= capacity[!, 2:end][i,k]) for k in 1:nproc for i in 1:ncty]\n",
    "    cstr_lca = [@constraint(model, sum(x[i,k] for i in 1:ncty) == input_amount[k]) for k in 1:nproc]\n",
    "    cstr_op = [@constraint(model, sum(y[i,j,k] for j in 1:ncty) == x[i,k]) for k in 1:nproc for i in 1:ncty]\n",
    "    cstr_cth = [@constraint(model, sum(y[i,j,k] for i in 1:ncty) == x[j,5]*scaler[k]) for k in cathode for j in 1:ncty]\n",
    "    cstr_cell = [@constraint(model, sum(y[i,j,k] for i in 1:ncty) == x[j,11]*scaler[k]) for k in cell for j in 1:ncty]\n",
    "    cstr_noncell = [@constraint(model, sum(y[i,j,k] for i in 1:ncty) == x[j,14]*scaler[k]) for k in noncell for j in 1:ncty]\n",
    "    cstr_battery = [@constraint(model, sum(y[i,j,k] for i in 1:ncty) == x[j,15]*scaler[k]) for k in battery for j in 1:ncty]\n",
    "    @constraint(model, sum(y[i,mkt_loc,mkt_proc] for i in 1:ncty) == cell_demand)\n",
    "    for j in 1:ncty-1\n",
    "        @constraint(model, sum(y[i,j,mkt_proc] for i in 1:ncty) == 0)\n",
    "    end\n",
    "    \n",
    "    \n",
    "    # obj func calculation\n",
    "    proD = (x .* Matrix(regional_EF[:,2:end])) * ones(nproc,1) \n",
    "    transD = Vector{AffExpr}(undef, ncty)\n",
    "    for j in 1:ncty\n",
    "        Temi = 0\n",
    "        for i in 1:ncty\n",
    "            amount = sum(y[i,j,k] for k in 1:nproc)\n",
    "            Temi += amount * distance[!, 2:end][i,j] * EF_trans\n",
    "        end\n",
    "        transD[j] = Temi\n",
    "    end\n",
    "    EO = sum(proD + transD)\n",
    "\n",
    "    Allo_soc = proD ./ emission_c .* Dsoc\n",
    "    SS = sum(Allo_soc - (proD + transD));\n",
    "    \n",
    "    \n",
    "    if objfunc == \"Ecological\"\n",
    "        @objective(model, Min, EO);\n",
    "    else\n",
    "        @objective(model, Min, SS);\n",
    "    end\n",
    "      \n",
    "    JuMP.optimize!(model)\n",
    "\n",
    "    opt_x = JuMP.value.(x)\n",
    "    opt_y = JuMP.value.(y)\n",
    "    opt_obj = JuMP.objective_value(model);\n",
    "    result = Dict([\"opt_x\"=>opt_x, \"opt_obj\"=>opt_obj, \"opt_y\"=>opt_y])\n",
    "    return result\n",
    "end"
   ]
  },
  {
   "cell_type": "code",
   "execution_count": 320,
   "id": "9c7147c4",
   "metadata": {},
   "outputs": [
    {
     "name": "stdout",
     "output_type": "stream",
     "text": [
      "Academic license - for non-commercial use only - expires 2024-12-26\r\n",
      "Gurobi Optimizer version 9.1.2 build v9.1.2rc0 (win64)\r\n",
      "Thread count: 6 physical cores, 12 logical processors, using up to 12 threads\r\n",
      "Optimize a model with 1365 rows, 13950 columns and 28770 nonzeros\r\n",
      "Model fingerprint: 0xf435d10c\r\n",
      "Coefficient statistics:\r\n",
      "  Matrix range     [4e-03, 1e+00]\r\n",
      "  Objective range  [8e-02, 5e+01]\r\n",
      "  Bounds range     [0e+00, 0e+00]\r\n",
      "  RHS range        [2e+02, 1e+11]\r\n",
      "Warning: Model contains large rhs\r\n",
      "         Consider reformulating model or setting NumericFocus parameter\r\n",
      "         to avoid numerical issues.\r\n",
      "Presolve removed 1119 rows and 12768 columns\r\n",
      "Presolve time: 0.01s\r\n",
      "Presolved: 246 rows, 1182 columns, 2548 nonzeros\r\n",
      "\r\n",
      "Iteration    Objective       Primal Inf.    Dual Inf.      Time\r\n",
      "       0    8.5833273e+06   3.488235e+05   0.000000e+00      0s\r\n",
      "      44    8.9248914e+06   0.000000e+00   0.000000e+00      0s\r\n",
      "\r\n",
      "Solved in 44 iterations and 0.01 seconds\r\n",
      "Optimal objective  8.924891434e+06\r\n",
      "\r\n",
      "User-callback calls 88, time in user-callback 0.00 sec\r\n"
     ]
    },
    {
     "data": {
      "text/plain": [
       "Dict{String, Any} with 3 entries:\n",
       "  \"opt_y\"   => [0.0 0.0 … 0.0 0.0; 0.0 0.0 … 0.0 0.0; … ; 0.0 0.0 … 0.0 0.0; 0.…\n",
       "  \"opt_obj\" => 8.92489e6\n",
       "  \"opt_x\"   => [6200.0 0.0 … 0.0 0.0; 0.0 0.0 … 0.0 0.0; … ; 0.0 0.0 … 0.0 0.0;…"
      ]
     },
     "execution_count": 320,
     "metadata": {},
     "output_type": "execute_result"
    }
   ],
   "source": [
    "res_eo = EO_SS_Model(\"Ecological\")"
   ]
  },
  {
   "cell_type": "code",
   "execution_count": 321,
   "id": "4d8e757a",
   "metadata": {},
   "outputs": [
    {
     "name": "stdout",
     "output_type": "stream",
     "text": [
      "Academic license - for non-commercial use only - expires 2024-12-26\r\n",
      "Gurobi Optimizer version 9.1.2 build v9.1.2rc0 (win64)\r\n",
      "Thread count: 6 physical cores, 12 logical processors, using up to 12 threads\r\n",
      "Optimize a model with 1365 rows, 13950 columns and 28770 nonzeros\r\n",
      "Model fingerprint: 0x8f7f2228\r\n",
      "Coefficient statistics:\r\n",
      "  Matrix range     [4e-03, 1e+00]\r\n",
      "  Objective range  [8e-02, 5e+01]\r\n",
      "  Bounds range     [0e+00, 0e+00]\r\n",
      "  RHS range        [2e+02, 1e+11]\r\n",
      "Warning: Model contains large rhs\r\n",
      "         Consider reformulating model or setting NumericFocus parameter\r\n",
      "         to avoid numerical issues.\r\n",
      "Presolve removed 1119 rows and 12768 columns\r\n",
      "Presolve time: 0.00s\r\n",
      "Presolved: 246 rows, 1182 columns, 2548 nonzeros\r\n",
      "\r\n",
      "Iteration    Objective       Primal Inf.    Dual Inf.      Time\r\n",
      "       0   -6.0076060e+07   1.243055e+07   0.000000e+00      0s\r\n",
      "     236   -1.2540091e+07   0.000000e+00   0.000000e+00      0s\r\n",
      "\r\n",
      "Solved in 236 iterations and 0.01 seconds\r\n",
      "Optimal objective -1.254009123e+07\r\n",
      "\r\n",
      "User-callback calls 280, time in user-callback 0.00 sec\r\n"
     ]
    },
    {
     "data": {
      "text/plain": [
       "Dict{String, Any} with 3 entries:\n",
       "  \"opt_y\"   => [0.0 0.0 … 0.0 0.0; 0.0 0.0 … 0.0 0.0; … ; 0.0 0.0 … 0.0 0.0; 0.…\n",
       "  \"opt_obj\" => -1.25401e7\n",
       "  \"opt_x\"   => [0.0 0.0 … 0.0 0.0; 49670.3 7000.0 … 0.0 0.0; … ; 0.0 0.0 … 0.0 …"
      ]
     },
     "execution_count": 321,
     "metadata": {},
     "output_type": "execute_result"
    }
   ],
   "source": [
    "res_ss = EO_SS_Model(\"Social\")"
   ]
  },
  {
   "cell_type": "markdown",
   "id": "38f7175c",
   "metadata": {},
   "source": [
    "### Get Extreme Points"
   ]
  },
  {
   "cell_type": "code",
   "execution_count": 325,
   "id": "8b49f8c4",
   "metadata": {},
   "outputs": [],
   "source": [
    "EO1 = res_eo[\"opt_obj\"]\n",
    "SS1 = res_ss[\"opt_obj\"]\n",
    "ss_x = res_ss[\"opt_x\"]\n",
    "ss_y = res_ss[\"opt_y\"]\n",
    "eo_x = res_eo[\"opt_x\"]\n",
    "eo_y = res_eo[\"opt_y\"];"
   ]
  },
  {
   "cell_type": "code",
   "execution_count": 322,
   "id": "397a777d",
   "metadata": {},
   "outputs": [
    {
     "data": {
      "text/plain": [
       "net_emi (generic function with 1 method)"
      ]
     },
     "execution_count": 322,
     "metadata": {},
     "output_type": "execute_result"
    }
   ],
   "source": [
    "function net_emi(x,y)\n",
    "    proD = (x .* Matrix(regional_EF[:,2:end])) * ones(nproc,1) \n",
    "\n",
    "\n",
    "    transD = Vector{Float64}(undef, ncty)\n",
    "    for j in 1:ncty\n",
    "        Temi = 0\n",
    "        for i in 1:ncty\n",
    "            amount = sum(y[i,j,k] for k in 1:nproc)\n",
    "            Temi += amount * distance[!, 2:end][i,j] * EF_trans\n",
    "        end\n",
    "        transD[j] = Temi\n",
    "    end\n",
    "    \n",
    "    EO = sum(proD + transD)\n",
    "    return(EO)\n",
    "end\n",
    "    "
   ]
  },
  {
   "cell_type": "code",
   "execution_count": 327,
   "id": "15cb1ec0",
   "metadata": {},
   "outputs": [
    {
     "data": {
      "text/plain": [
       "soc_ss (generic function with 1 method)"
      ]
     },
     "execution_count": 327,
     "metadata": {},
     "output_type": "execute_result"
    }
   ],
   "source": [
    "function soc_ss(x,y)\n",
    "    proD = (x .* Matrix(regional_EF[:,2:end])) * ones(nproc,1) \n",
    "    \n",
    "    transD = Vector{Float64}(undef, ncty)\n",
    "    for j in 1:ncty\n",
    "        Temi = 0\n",
    "        for i in 1:ncty\n",
    "            amount = sum(y[i,j,k] for k in 1:nproc)\n",
    "            Temi += amount * distance[!, 2:end][i,j] * EF_trans\n",
    "        end\n",
    "        transD[j] = Temi\n",
    "    end   \n",
    "    \n",
    "    Allo_soc = proD ./ emission_c .* Dsoc\n",
    "    # Allo_soc = proM ./ vGDP .* Dsoc\n",
    "    SS = Allo_soc - (proD + transD)\n",
    "    return sum(SS)\n",
    "end\n",
    "    "
   ]
  },
  {
   "cell_type": "code",
   "execution_count": 326,
   "id": "4bbd4d49",
   "metadata": {},
   "outputs": [
    {
     "data": {
      "text/plain": [
       "1.3227859330684464e7"
      ]
     },
     "execution_count": 326,
     "metadata": {},
     "output_type": "execute_result"
    }
   ],
   "source": [
    "# Obj_EO at sol_soc*\n",
    "\n",
    "EO2 = net_emi(ss_x, ss_y)"
   ]
  },
  {
   "cell_type": "code",
   "execution_count": 328,
   "id": "5d9cbb69",
   "metadata": {},
   "outputs": [
    {
     "data": {
      "text/plain": [
       "-8.443854871866554e6"
      ]
     },
     "execution_count": 328,
     "metadata": {},
     "output_type": "execute_result"
    }
   ],
   "source": [
    "# Obj_SS at sol_eco*\n",
    "\n",
    "SS2 = soc_ss(eo_x, eo_y)"
   ]
  },
  {
   "cell_type": "code",
   "execution_count": 329,
   "id": "7901451f",
   "metadata": {},
   "outputs": [
    {
     "data": {
      "image/svg+xml": [
       "<?xml version=\"1.0\" encoding=\"utf-8\"?>\n",
       "<svg xmlns=\"http://www.w3.org/2000/svg\" xmlns:xlink=\"http://www.w3.org/1999/xlink\" width=\"600\" height=\"400\" viewBox=\"0 0 2400 1600\">\n",
       "<defs>\n",
       "  <clipPath id=\"clip960\">\n",
       "    <rect x=\"0\" y=\"0\" width=\"2400\" height=\"1600\"/>\n",
       "  </clipPath>\n",
       "</defs>\n",
       "<path clip-path=\"url(#clip960)\" d=\"\n",
       "M0 1600 L2400 1600 L2400 0 L0 0  Z\n",
       "  \" fill=\"#ffffff\" fill-rule=\"evenodd\" fill-opacity=\"1\"/>\n",
       "<defs>\n",
       "  <clipPath id=\"clip961\">\n",
       "    <rect x=\"480\" y=\"0\" width=\"1681\" height=\"1600\"/>\n",
       "  </clipPath>\n",
       "</defs>\n",
       "<path clip-path=\"url(#clip960)\" d=\"\n",
       "M406.802 1410.9 L2352.76 1410.9 L2352.76 47.2441 L406.802 47.2441  Z\n",
       "  \" fill=\"#ffffff\" fill-rule=\"evenodd\" fill-opacity=\"1\"/>\n",
       "<defs>\n",
       "  <clipPath id=\"clip962\">\n",
       "    <rect x=\"406\" y=\"47\" width=\"1947\" height=\"1365\"/>\n",
       "  </clipPath>\n",
       "</defs>\n",
       "<polyline clip-path=\"url(#clip962)\" style=\"stroke:#000000; stroke-linecap:round; stroke-linejoin:round; stroke-width:2; stroke-opacity:0.1; fill:none\" points=\"\n",
       "  493.921,1410.9 493.921,47.2441 \n",
       "  \"/>\n",
       "<polyline clip-path=\"url(#clip962)\" style=\"stroke:#000000; stroke-linecap:round; stroke-linejoin:round; stroke-width:2; stroke-opacity:0.1; fill:none\" points=\"\n",
       "  920.558,1410.9 920.558,47.2441 \n",
       "  \"/>\n",
       "<polyline clip-path=\"url(#clip962)\" style=\"stroke:#000000; stroke-linecap:round; stroke-linejoin:round; stroke-width:2; stroke-opacity:0.1; fill:none\" points=\"\n",
       "  1347.19,1410.9 1347.19,47.2441 \n",
       "  \"/>\n",
       "<polyline clip-path=\"url(#clip962)\" style=\"stroke:#000000; stroke-linecap:round; stroke-linejoin:round; stroke-width:2; stroke-opacity:0.1; fill:none\" points=\"\n",
       "  1773.83,1410.9 1773.83,47.2441 \n",
       "  \"/>\n",
       "<polyline clip-path=\"url(#clip962)\" style=\"stroke:#000000; stroke-linecap:round; stroke-linejoin:round; stroke-width:2; stroke-opacity:0.1; fill:none\" points=\"\n",
       "  2200.47,1410.9 2200.47,47.2441 \n",
       "  \"/>\n",
       "<polyline clip-path=\"url(#clip960)\" style=\"stroke:#000000; stroke-linecap:round; stroke-linejoin:round; stroke-width:4; stroke-opacity:1; fill:none\" points=\"\n",
       "  406.802,1410.9 2352.76,1410.9 \n",
       "  \"/>\n",
       "<polyline clip-path=\"url(#clip960)\" style=\"stroke:#000000; stroke-linecap:round; stroke-linejoin:round; stroke-width:4; stroke-opacity:1; fill:none\" points=\"\n",
       "  493.921,1410.9 493.921,1392 \n",
       "  \"/>\n",
       "<polyline clip-path=\"url(#clip960)\" style=\"stroke:#000000; stroke-linecap:round; stroke-linejoin:round; stroke-width:4; stroke-opacity:1; fill:none\" points=\"\n",
       "  920.558,1410.9 920.558,1392 \n",
       "  \"/>\n",
       "<polyline clip-path=\"url(#clip960)\" style=\"stroke:#000000; stroke-linecap:round; stroke-linejoin:round; stroke-width:4; stroke-opacity:1; fill:none\" points=\"\n",
       "  1347.19,1410.9 1347.19,1392 \n",
       "  \"/>\n",
       "<polyline clip-path=\"url(#clip960)\" style=\"stroke:#000000; stroke-linecap:round; stroke-linejoin:round; stroke-width:4; stroke-opacity:1; fill:none\" points=\"\n",
       "  1773.83,1410.9 1773.83,1392 \n",
       "  \"/>\n",
       "<polyline clip-path=\"url(#clip960)\" style=\"stroke:#000000; stroke-linecap:round; stroke-linejoin:round; stroke-width:4; stroke-opacity:1; fill:none\" points=\"\n",
       "  2200.47,1410.9 2200.47,1392 \n",
       "  \"/>\n",
       "<path clip-path=\"url(#clip960)\" d=\"M386.714 1488.24 L386.714 1483.98 Q388.474 1484.81 390.279 1485.25 Q392.085 1485.69 393.821 1485.69 Q398.45 1485.69 400.881 1482.59 Q403.335 1479.47 403.682 1473.12 Q402.339 1475.11 400.279 1476.18 Q398.219 1477.24 395.719 1477.24 Q390.534 1477.24 387.501 1474.12 Q384.492 1470.97 384.492 1465.53 Q384.492 1460.21 387.64 1456.99 Q390.788 1453.77 396.02 1453.77 Q402.015 1453.77 405.163 1458.38 Q408.335 1462.96 408.335 1471.71 Q408.335 1479.88 404.446 1484.77 Q400.58 1489.63 394.029 1489.63 Q392.27 1489.63 390.464 1489.28 Q388.659 1488.93 386.714 1488.24 M396.02 1473.59 Q399.168 1473.59 400.997 1471.43 Q402.848 1469.28 402.848 1465.53 Q402.848 1461.8 400.997 1459.65 Q399.168 1457.48 396.02 1457.48 Q392.872 1457.48 391.02 1459.65 Q389.191 1461.8 389.191 1465.53 Q389.191 1469.28 391.02 1471.43 Q392.872 1473.59 396.02 1473.59 Z\" fill=\"#000000\" fill-rule=\"evenodd\" fill-opacity=\"1\" /><path clip-path=\"url(#clip960)\" d=\"M416.737 1483.08 L421.621 1483.08 L421.621 1488.96 L416.737 1488.96 L416.737 1483.08 Z\" fill=\"#000000\" fill-rule=\"evenodd\" fill-opacity=\"1\" /><path clip-path=\"url(#clip960)\" d=\"M441.807 1457.48 Q438.195 1457.48 436.367 1461.04 Q434.561 1464.58 434.561 1471.71 Q434.561 1478.82 436.367 1482.38 Q438.195 1485.92 441.807 1485.92 Q445.441 1485.92 447.246 1482.38 Q449.075 1478.82 449.075 1471.71 Q449.075 1464.58 447.246 1461.04 Q445.441 1457.48 441.807 1457.48 M441.807 1453.77 Q447.617 1453.77 450.672 1458.38 Q453.751 1462.96 453.751 1471.71 Q453.751 1480.44 450.672 1485.04 Q447.617 1489.63 441.807 1489.63 Q435.996 1489.63 432.918 1485.04 Q429.862 1480.44 429.862 1471.71 Q429.862 1462.96 432.918 1458.38 Q435.996 1453.77 441.807 1453.77 Z\" fill=\"#000000\" fill-rule=\"evenodd\" fill-opacity=\"1\" /><path clip-path=\"url(#clip960)\" d=\"M471.968 1457.48 Q468.357 1457.48 466.529 1461.04 Q464.723 1464.58 464.723 1471.71 Q464.723 1478.82 466.529 1482.38 Q468.357 1485.92 471.968 1485.92 Q475.603 1485.92 477.408 1482.38 Q479.237 1478.82 479.237 1471.71 Q479.237 1464.58 477.408 1461.04 Q475.603 1457.48 471.968 1457.48 M471.968 1453.77 Q477.779 1453.77 480.834 1458.38 Q483.913 1462.96 483.913 1471.71 Q483.913 1480.44 480.834 1485.04 Q477.779 1489.63 471.968 1489.63 Q466.158 1489.63 463.08 1485.04 Q460.024 1480.44 460.024 1471.71 Q460.024 1462.96 463.08 1458.38 Q466.158 1453.77 471.968 1453.77 Z\" fill=\"#000000\" fill-rule=\"evenodd\" fill-opacity=\"1\" /><path clip-path=\"url(#clip960)\" d=\"M520.302 1463.49 L509.723 1474.12 L520.302 1484.7 L517.547 1487.5 L506.922 1476.87 L496.297 1487.5 L493.566 1484.7 L504.121 1474.12 L493.566 1463.49 L496.297 1460.69 L506.922 1471.32 L517.547 1460.69 L520.302 1463.49 Z\" fill=\"#000000\" fill-rule=\"evenodd\" fill-opacity=\"1\" /><path clip-path=\"url(#clip960)\" d=\"M532.663 1485.02 L540.301 1485.02 L540.301 1458.66 L531.991 1460.32 L531.991 1456.06 L540.255 1454.4 L544.931 1454.4 L544.931 1485.02 L552.57 1485.02 L552.57 1488.96 L532.663 1488.96 L532.663 1485.02 Z\" fill=\"#000000\" fill-rule=\"evenodd\" fill-opacity=\"1\" /><path clip-path=\"url(#clip960)\" d=\"M572.014 1457.48 Q568.403 1457.48 566.574 1461.04 Q564.769 1464.58 564.769 1471.71 Q564.769 1478.82 566.574 1482.38 Q568.403 1485.92 572.014 1485.92 Q575.648 1485.92 577.454 1482.38 Q579.283 1478.82 579.283 1471.71 Q579.283 1464.58 577.454 1461.04 Q575.648 1457.48 572.014 1457.48 M572.014 1453.77 Q577.824 1453.77 580.88 1458.38 Q583.959 1462.96 583.959 1471.71 Q583.959 1480.44 580.88 1485.04 Q577.824 1489.63 572.014 1489.63 Q566.204 1489.63 563.125 1485.04 Q560.07 1480.44 560.07 1471.71 Q560.07 1462.96 563.125 1458.38 Q566.204 1453.77 572.014 1453.77 Z\" fill=\"#000000\" fill-rule=\"evenodd\" fill-opacity=\"1\" /><path clip-path=\"url(#clip960)\" d=\"M593.983 1445.99 Q591.425 1445.99 589.921 1447.74 Q588.435 1449.49 588.435 1452.54 Q588.435 1455.57 589.921 1457.33 Q591.425 1459.08 593.983 1459.08 Q596.541 1459.08 598.027 1457.33 Q599.531 1455.57 599.531 1452.54 Q599.531 1449.49 598.027 1447.74 Q596.541 1445.99 593.983 1445.99 M601.525 1434.09 L601.525 1437.55 Q600.096 1436.87 598.629 1436.51 Q597.18 1436.16 595.751 1436.16 Q591.989 1436.16 589.996 1438.69 Q588.021 1441.23 587.739 1446.37 Q588.849 1444.73 590.522 1443.87 Q592.196 1442.98 594.209 1442.98 Q598.441 1442.98 600.886 1445.56 Q603.349 1448.12 603.349 1452.54 Q603.349 1456.86 600.792 1459.48 Q598.234 1462.09 593.983 1462.09 Q589.112 1462.09 586.535 1458.37 Q583.959 1454.62 583.959 1447.53 Q583.959 1440.88 587.118 1436.93 Q590.278 1432.96 595.601 1432.96 Q597.03 1432.96 598.478 1433.24 Q599.945 1433.52 601.525 1434.09 Z\" fill=\"#000000\" fill-rule=\"evenodd\" fill-opacity=\"1\" /><path clip-path=\"url(#clip960)\" d=\"M813.579 1485.02 L821.218 1485.02 L821.218 1458.66 L812.908 1460.32 L812.908 1456.06 L821.172 1454.4 L825.848 1454.4 L825.848 1485.02 L833.486 1485.02 L833.486 1488.96 L813.579 1488.96 L813.579 1485.02 Z\" fill=\"#000000\" fill-rule=\"evenodd\" fill-opacity=\"1\" /><path clip-path=\"url(#clip960)\" d=\"M842.931 1483.08 L847.815 1483.08 L847.815 1488.96 L842.931 1488.96 L842.931 1483.08 Z\" fill=\"#000000\" fill-rule=\"evenodd\" fill-opacity=\"1\" /><path clip-path=\"url(#clip960)\" d=\"M868 1457.48 Q864.389 1457.48 862.56 1461.04 Q860.755 1464.58 860.755 1471.71 Q860.755 1478.82 862.56 1482.38 Q864.389 1485.92 868 1485.92 Q871.634 1485.92 873.44 1482.38 Q875.269 1478.82 875.269 1471.71 Q875.269 1464.58 873.44 1461.04 Q871.634 1457.48 868 1457.48 M868 1453.77 Q873.81 1453.77 876.866 1458.38 Q879.944 1462.96 879.944 1471.71 Q879.944 1480.44 876.866 1485.04 Q873.81 1489.63 868 1489.63 Q862.19 1489.63 859.111 1485.04 Q856.056 1480.44 856.056 1471.71 Q856.056 1462.96 859.111 1458.38 Q862.19 1453.77 868 1453.77 Z\" fill=\"#000000\" fill-rule=\"evenodd\" fill-opacity=\"1\" /><path clip-path=\"url(#clip960)\" d=\"M898.162 1457.48 Q894.551 1457.48 892.722 1461.04 Q890.917 1464.58 890.917 1471.71 Q890.917 1478.82 892.722 1482.38 Q894.551 1485.92 898.162 1485.92 Q901.796 1485.92 903.602 1482.38 Q905.43 1478.82 905.43 1471.71 Q905.43 1464.58 903.602 1461.04 Q901.796 1457.48 898.162 1457.48 M898.162 1453.77 Q903.972 1453.77 907.028 1458.38 Q910.106 1462.96 910.106 1471.71 Q910.106 1480.44 907.028 1485.04 Q903.972 1489.63 898.162 1489.63 Q892.352 1489.63 889.273 1485.04 Q886.218 1480.44 886.218 1471.71 Q886.218 1462.96 889.273 1458.38 Q892.352 1453.77 898.162 1453.77 Z\" fill=\"#000000\" fill-rule=\"evenodd\" fill-opacity=\"1\" /><path clip-path=\"url(#clip960)\" d=\"M946.495 1463.49 L935.916 1474.12 L946.495 1484.7 L943.74 1487.5 L933.115 1476.87 L922.491 1487.5 L919.759 1484.7 L930.315 1474.12 L919.759 1463.49 L922.491 1460.69 L933.115 1471.32 L943.74 1460.69 L946.495 1463.49 Z\" fill=\"#000000\" fill-rule=\"evenodd\" fill-opacity=\"1\" /><path clip-path=\"url(#clip960)\" d=\"M958.856 1485.02 L966.495 1485.02 L966.495 1458.66 L958.185 1460.32 L958.185 1456.06 L966.449 1454.4 L971.125 1454.4 L971.125 1485.02 L978.763 1485.02 L978.763 1488.96 L958.856 1488.96 L958.856 1485.02 Z\" fill=\"#000000\" fill-rule=\"evenodd\" fill-opacity=\"1\" /><path clip-path=\"url(#clip960)\" d=\"M998.208 1457.48 Q994.597 1457.48 992.768 1461.04 Q990.962 1464.58 990.962 1471.71 Q990.962 1478.82 992.768 1482.38 Q994.597 1485.92 998.208 1485.92 Q1001.84 1485.92 1003.65 1482.38 Q1005.48 1478.82 1005.48 1471.71 Q1005.48 1464.58 1003.65 1461.04 Q1001.84 1457.48 998.208 1457.48 M998.208 1453.77 Q1004.02 1453.77 1007.07 1458.38 Q1010.15 1462.96 1010.15 1471.71 Q1010.15 1480.44 1007.07 1485.04 Q1004.02 1489.63 998.208 1489.63 Q992.398 1489.63 989.319 1485.04 Q986.263 1480.44 986.263 1471.71 Q986.263 1462.96 989.319 1458.38 Q992.398 1453.77 998.208 1453.77 Z\" fill=\"#000000\" fill-rule=\"evenodd\" fill-opacity=\"1\" /><path clip-path=\"url(#clip960)\" d=\"M1010.15 1433.47 L1028.21 1433.47 L1028.21 1435.08 L1018.01 1461.55 L1014.05 1461.55 L1023.64 1436.66 L1010.15 1436.66 L1010.15 1433.47 Z\" fill=\"#000000\" fill-rule=\"evenodd\" fill-opacity=\"1\" /><path clip-path=\"url(#clip960)\" d=\"M1240.22 1485.02 L1247.85 1485.02 L1247.85 1458.66 L1239.54 1460.32 L1239.54 1456.06 L1247.81 1454.4 L1252.48 1454.4 L1252.48 1485.02 L1260.12 1485.02 L1260.12 1488.96 L1240.22 1488.96 L1240.22 1485.02 Z\" fill=\"#000000\" fill-rule=\"evenodd\" fill-opacity=\"1\" /><path clip-path=\"url(#clip960)\" d=\"M1269.57 1483.08 L1274.45 1483.08 L1274.45 1488.96 L1269.57 1488.96 L1269.57 1483.08 Z\" fill=\"#000000\" fill-rule=\"evenodd\" fill-opacity=\"1\" /><path clip-path=\"url(#clip960)\" d=\"M1285.45 1485.02 L1293.09 1485.02 L1293.09 1458.66 L1284.78 1460.32 L1284.78 1456.06 L1293.04 1454.4 L1297.72 1454.4 L1297.72 1485.02 L1305.35 1485.02 L1305.35 1488.96 L1285.45 1488.96 L1285.45 1485.02 Z\" fill=\"#000000\" fill-rule=\"evenodd\" fill-opacity=\"1\" /><path clip-path=\"url(#clip960)\" d=\"M1324.8 1457.48 Q1321.19 1457.48 1319.36 1461.04 Q1317.55 1464.58 1317.55 1471.71 Q1317.55 1478.82 1319.36 1482.38 Q1321.19 1485.92 1324.8 1485.92 Q1328.43 1485.92 1330.24 1482.38 Q1332.07 1478.82 1332.07 1471.71 Q1332.07 1464.58 1330.24 1461.04 Q1328.43 1457.48 1324.8 1457.48 M1324.8 1453.77 Q1330.61 1453.77 1333.66 1458.38 Q1336.74 1462.96 1336.74 1471.71 Q1336.74 1480.44 1333.66 1485.04 Q1330.61 1489.63 1324.8 1489.63 Q1318.99 1489.63 1315.91 1485.04 Q1312.85 1480.44 1312.85 1471.71 Q1312.85 1462.96 1315.91 1458.38 Q1318.99 1453.77 1324.8 1453.77 Z\" fill=\"#000000\" fill-rule=\"evenodd\" fill-opacity=\"1\" /><path clip-path=\"url(#clip960)\" d=\"M1373.13 1463.49 L1362.55 1474.12 L1373.13 1484.7 L1370.38 1487.5 L1359.75 1476.87 L1349.13 1487.5 L1346.4 1484.7 L1356.95 1474.12 L1346.4 1463.49 L1349.13 1460.69 L1359.75 1471.32 L1370.38 1460.69 L1373.13 1463.49 Z\" fill=\"#000000\" fill-rule=\"evenodd\" fill-opacity=\"1\" /><path clip-path=\"url(#clip960)\" d=\"M1385.49 1485.02 L1393.13 1485.02 L1393.13 1458.66 L1384.82 1460.32 L1384.82 1456.06 L1393.09 1454.4 L1397.76 1454.4 L1397.76 1485.02 L1405.4 1485.02 L1405.4 1488.96 L1385.49 1488.96 L1385.49 1485.02 Z\" fill=\"#000000\" fill-rule=\"evenodd\" fill-opacity=\"1\" /><path clip-path=\"url(#clip960)\" d=\"M1424.84 1457.48 Q1421.23 1457.48 1419.4 1461.04 Q1417.6 1464.58 1417.6 1471.71 Q1417.6 1478.82 1419.4 1482.38 Q1421.23 1485.92 1424.84 1485.92 Q1428.48 1485.92 1430.28 1482.38 Q1432.11 1478.82 1432.11 1471.71 Q1432.11 1464.58 1430.28 1461.04 Q1428.48 1457.48 1424.84 1457.48 M1424.84 1453.77 Q1430.65 1453.77 1433.71 1458.38 Q1436.79 1462.96 1436.79 1471.71 Q1436.79 1480.44 1433.71 1485.04 Q1430.65 1489.63 1424.84 1489.63 Q1419.03 1489.63 1415.96 1485.04 Q1412.9 1480.44 1412.9 1471.71 Q1412.9 1462.96 1415.96 1458.38 Q1419.03 1453.77 1424.84 1453.77 Z\" fill=\"#000000\" fill-rule=\"evenodd\" fill-opacity=\"1\" /><path clip-path=\"url(#clip960)\" d=\"M1436.79 1433.47 L1454.84 1433.47 L1454.84 1435.08 L1444.65 1461.55 L1440.68 1461.55 L1450.27 1436.66 L1436.79 1436.66 L1436.79 1433.47 Z\" fill=\"#000000\" fill-rule=\"evenodd\" fill-opacity=\"1\" /><path clip-path=\"url(#clip960)\" d=\"M1666.85 1485.02 L1674.49 1485.02 L1674.49 1458.66 L1666.18 1460.32 L1666.18 1456.06 L1674.45 1454.4 L1679.12 1454.4 L1679.12 1485.02 L1686.76 1485.02 L1686.76 1488.96 L1666.85 1488.96 L1666.85 1485.02 Z\" fill=\"#000000\" fill-rule=\"evenodd\" fill-opacity=\"1\" /><path clip-path=\"url(#clip960)\" d=\"M1696.2 1483.08 L1701.09 1483.08 L1701.09 1488.96 L1696.2 1488.96 L1696.2 1483.08 Z\" fill=\"#000000\" fill-rule=\"evenodd\" fill-opacity=\"1\" /><path clip-path=\"url(#clip960)\" d=\"M1715.3 1485.02 L1731.62 1485.02 L1731.62 1488.96 L1709.68 1488.96 L1709.68 1485.02 Q1712.34 1482.27 1716.92 1477.64 Q1721.53 1472.98 1722.71 1471.64 Q1724.95 1469.12 1725.83 1467.38 Q1726.74 1465.62 1726.74 1463.93 Q1726.74 1461.18 1724.79 1459.44 Q1722.87 1457.71 1719.77 1457.71 Q1717.57 1457.71 1715.12 1458.47 Q1712.69 1459.23 1709.91 1460.79 L1709.91 1456.06 Q1712.73 1454.93 1715.19 1454.35 Q1717.64 1453.77 1719.68 1453.77 Q1725.05 1453.77 1728.24 1456.46 Q1731.44 1459.14 1731.44 1463.63 Q1731.44 1465.76 1730.63 1467.68 Q1729.84 1469.58 1727.73 1472.17 Q1727.15 1472.85 1724.05 1476.06 Q1720.95 1479.26 1715.3 1485.02 Z\" fill=\"#000000\" fill-rule=\"evenodd\" fill-opacity=\"1\" /><path clip-path=\"url(#clip960)\" d=\"M1751.44 1457.48 Q1747.82 1457.48 1746 1461.04 Q1744.19 1464.58 1744.19 1471.71 Q1744.19 1478.82 1746 1482.38 Q1747.82 1485.92 1751.44 1485.92 Q1755.07 1485.92 1756.88 1482.38 Q1758.7 1478.82 1758.7 1471.71 Q1758.7 1464.58 1756.88 1461.04 Q1755.07 1457.48 1751.44 1457.48 M1751.44 1453.77 Q1757.25 1453.77 1760.3 1458.38 Q1763.38 1462.96 1763.38 1471.71 Q1763.38 1480.44 1760.3 1485.04 Q1757.25 1489.63 1751.44 1489.63 Q1745.63 1489.63 1742.55 1485.04 Q1739.49 1480.44 1739.49 1471.71 Q1739.49 1462.96 1742.55 1458.38 Q1745.63 1453.77 1751.44 1453.77 Z\" fill=\"#000000\" fill-rule=\"evenodd\" fill-opacity=\"1\" /><path clip-path=\"url(#clip960)\" d=\"M1799.77 1463.49 L1789.19 1474.12 L1799.77 1484.7 L1797.01 1487.5 L1786.39 1476.87 L1775.76 1487.5 L1773.03 1484.7 L1783.59 1474.12 L1773.03 1463.49 L1775.76 1460.69 L1786.39 1471.32 L1797.01 1460.69 L1799.77 1463.49 Z\" fill=\"#000000\" fill-rule=\"evenodd\" fill-opacity=\"1\" /><path clip-path=\"url(#clip960)\" d=\"M1812.13 1485.02 L1819.77 1485.02 L1819.77 1458.66 L1811.46 1460.32 L1811.46 1456.06 L1819.72 1454.4 L1824.4 1454.4 L1824.4 1485.02 L1832.04 1485.02 L1832.04 1488.96 L1812.13 1488.96 L1812.13 1485.02 Z\" fill=\"#000000\" fill-rule=\"evenodd\" fill-opacity=\"1\" /><path clip-path=\"url(#clip960)\" d=\"M1851.48 1457.48 Q1847.87 1457.48 1846.04 1461.04 Q1844.24 1464.58 1844.24 1471.71 Q1844.24 1478.82 1846.04 1482.38 Q1847.87 1485.92 1851.48 1485.92 Q1855.12 1485.92 1856.92 1482.38 Q1858.75 1478.82 1858.75 1471.71 Q1858.75 1464.58 1856.92 1461.04 Q1855.12 1457.48 1851.48 1457.48 M1851.48 1453.77 Q1857.29 1453.77 1860.35 1458.38 Q1863.43 1462.96 1863.43 1471.71 Q1863.43 1480.44 1860.35 1485.04 Q1857.29 1489.63 1851.48 1489.63 Q1845.67 1489.63 1842.59 1485.04 Q1839.54 1480.44 1839.54 1471.71 Q1839.54 1462.96 1842.59 1458.38 Q1845.67 1453.77 1851.48 1453.77 Z\" fill=\"#000000\" fill-rule=\"evenodd\" fill-opacity=\"1\" /><path clip-path=\"url(#clip960)\" d=\"M1863.43 1433.47 L1881.48 1433.47 L1881.48 1435.08 L1871.29 1461.55 L1867.32 1461.55 L1876.91 1436.66 L1863.43 1436.66 L1863.43 1433.47 Z\" fill=\"#000000\" fill-rule=\"evenodd\" fill-opacity=\"1\" /><path clip-path=\"url(#clip960)\" d=\"M2093.49 1485.02 L2101.13 1485.02 L2101.13 1458.66 L2092.82 1460.32 L2092.82 1456.06 L2101.08 1454.4 L2105.76 1454.4 L2105.76 1485.02 L2113.4 1485.02 L2113.4 1488.96 L2093.49 1488.96 L2093.49 1485.02 Z\" fill=\"#000000\" fill-rule=\"evenodd\" fill-opacity=\"1\" /><path clip-path=\"url(#clip960)\" d=\"M2122.84 1483.08 L2127.73 1483.08 L2127.73 1488.96 L2122.84 1488.96 L2122.84 1483.08 Z\" fill=\"#000000\" fill-rule=\"evenodd\" fill-opacity=\"1\" /><path clip-path=\"url(#clip960)\" d=\"M2152.08 1470.32 Q2155.43 1471.04 2157.31 1473.31 Q2159.21 1475.58 2159.21 1478.91 Q2159.21 1484.03 2155.69 1486.83 Q2152.17 1489.63 2145.69 1489.63 Q2143.51 1489.63 2141.2 1489.19 Q2138.91 1488.77 2136.45 1487.91 L2136.45 1483.4 Q2138.4 1484.54 2140.71 1485.11 Q2143.03 1485.69 2145.55 1485.69 Q2149.95 1485.69 2152.24 1483.96 Q2154.55 1482.22 2154.55 1478.91 Q2154.55 1475.85 2152.4 1474.14 Q2150.27 1472.41 2146.45 1472.41 L2142.42 1472.41 L2142.42 1468.56 L2146.64 1468.56 Q2150.09 1468.56 2151.92 1467.2 Q2153.74 1465.81 2153.74 1463.22 Q2153.74 1460.55 2151.85 1459.14 Q2149.97 1457.71 2146.45 1457.71 Q2144.53 1457.71 2142.33 1458.12 Q2140.13 1458.54 2137.49 1459.42 L2137.49 1455.25 Q2140.16 1454.51 2142.47 1454.14 Q2144.81 1453.77 2146.87 1453.77 Q2152.19 1453.77 2155.3 1456.2 Q2158.4 1458.61 2158.4 1462.73 Q2158.4 1465.6 2156.75 1467.59 Q2155.11 1469.56 2152.08 1470.32 Z\" fill=\"#000000\" fill-rule=\"evenodd\" fill-opacity=\"1\" /><path clip-path=\"url(#clip960)\" d=\"M2178.07 1457.48 Q2174.46 1457.48 2172.63 1461.04 Q2170.83 1464.58 2170.83 1471.71 Q2170.83 1478.82 2172.63 1482.38 Q2174.46 1485.92 2178.07 1485.92 Q2181.71 1485.92 2183.51 1482.38 Q2185.34 1478.82 2185.34 1471.71 Q2185.34 1464.58 2183.51 1461.04 Q2181.71 1457.48 2178.07 1457.48 M2178.07 1453.77 Q2183.88 1453.77 2186.94 1458.38 Q2190.02 1462.96 2190.02 1471.71 Q2190.02 1480.44 2186.94 1485.04 Q2183.88 1489.63 2178.07 1489.63 Q2172.26 1489.63 2169.18 1485.04 Q2166.13 1480.44 2166.13 1471.71 Q2166.13 1462.96 2169.18 1458.38 Q2172.26 1453.77 2178.07 1453.77 Z\" fill=\"#000000\" fill-rule=\"evenodd\" fill-opacity=\"1\" /><path clip-path=\"url(#clip960)\" d=\"M2226.41 1463.49 L2215.83 1474.12 L2226.41 1484.7 L2223.65 1487.5 L2213.03 1476.87 L2202.4 1487.5 L2199.67 1484.7 L2210.23 1474.12 L2199.67 1463.49 L2202.4 1460.69 L2213.03 1471.32 L2223.65 1460.69 L2226.41 1463.49 Z\" fill=\"#000000\" fill-rule=\"evenodd\" fill-opacity=\"1\" /><path clip-path=\"url(#clip960)\" d=\"M2238.77 1485.02 L2246.41 1485.02 L2246.41 1458.66 L2238.1 1460.32 L2238.1 1456.06 L2246.36 1454.4 L2251.04 1454.4 L2251.04 1485.02 L2258.67 1485.02 L2258.67 1488.96 L2238.77 1488.96 L2238.77 1485.02 Z\" fill=\"#000000\" fill-rule=\"evenodd\" fill-opacity=\"1\" /><path clip-path=\"url(#clip960)\" d=\"M2278.12 1457.48 Q2274.51 1457.48 2272.68 1461.04 Q2270.87 1464.58 2270.87 1471.71 Q2270.87 1478.82 2272.68 1482.38 Q2274.51 1485.92 2278.12 1485.92 Q2281.75 1485.92 2283.56 1482.38 Q2285.39 1478.82 2285.39 1471.71 Q2285.39 1464.58 2283.56 1461.04 Q2281.75 1457.48 2278.12 1457.48 M2278.12 1453.77 Q2283.93 1453.77 2286.98 1458.38 Q2290.06 1462.96 2290.06 1471.71 Q2290.06 1480.44 2286.98 1485.04 Q2283.93 1489.63 2278.12 1489.63 Q2272.31 1489.63 2269.23 1485.04 Q2266.17 1480.44 2266.17 1471.71 Q2266.17 1462.96 2269.23 1458.38 Q2272.31 1453.77 2278.12 1453.77 Z\" fill=\"#000000\" fill-rule=\"evenodd\" fill-opacity=\"1\" /><path clip-path=\"url(#clip960)\" d=\"M2290.06 1433.47 L2308.12 1433.47 L2308.12 1435.08 L2297.92 1461.55 L2293.96 1461.55 L2303.55 1436.66 L2290.06 1436.66 L2290.06 1433.47 Z\" fill=\"#000000\" fill-rule=\"evenodd\" fill-opacity=\"1\" /><path clip-path=\"url(#clip960)\" d=\"M1109.68 1526.67 L1139.73 1526.67 L1139.73 1532.08 L1116.11 1532.08 L1116.11 1546.14 L1138.74 1546.14 L1138.74 1551.56 L1116.11 1551.56 L1116.11 1568.77 L1140.3 1568.77 L1140.3 1574.19 L1109.68 1574.19 L1109.68 1526.67 Z\" fill=\"#000000\" fill-rule=\"evenodd\" fill-opacity=\"1\" /><path clip-path=\"url(#clip960)\" d=\"M1176.27 1539.91 L1176.27 1545.38 Q1173.78 1544.01 1171.27 1543.34 Q1168.79 1542.64 1166.24 1542.64 Q1160.54 1542.64 1157.39 1546.27 Q1154.24 1549.87 1154.24 1556.39 Q1154.24 1562.92 1157.39 1566.55 Q1160.54 1570.14 1166.24 1570.14 Q1168.79 1570.14 1171.27 1569.47 Q1173.78 1568.77 1176.27 1567.41 L1176.27 1572.82 Q1173.82 1573.96 1171.17 1574.54 Q1168.57 1575.11 1165.6 1575.11 Q1157.55 1575.11 1152.81 1570.05 Q1148.07 1564.99 1148.07 1556.39 Q1148.07 1547.67 1152.84 1542.68 Q1157.65 1537.68 1165.99 1537.68 Q1168.69 1537.68 1171.27 1538.25 Q1173.85 1538.79 1176.27 1539.91 Z\" fill=\"#000000\" fill-rule=\"evenodd\" fill-opacity=\"1\" /><path clip-path=\"url(#clip960)\" d=\"M1200.27 1542.64 Q1195.56 1542.64 1192.82 1546.34 Q1190.08 1550 1190.08 1556.39 Q1190.08 1562.79 1192.79 1566.48 Q1195.52 1570.14 1200.27 1570.14 Q1204.95 1570.14 1207.68 1566.45 Q1210.42 1562.76 1210.42 1556.39 Q1210.42 1550.06 1207.68 1546.37 Q1204.95 1542.64 1200.27 1542.64 M1200.27 1537.68 Q1207.91 1537.68 1212.27 1542.64 Q1216.63 1547.61 1216.63 1556.39 Q1216.63 1565.15 1212.27 1570.14 Q1207.91 1575.11 1200.27 1575.11 Q1192.6 1575.11 1188.24 1570.14 Q1183.91 1565.15 1183.91 1556.39 Q1183.91 1547.61 1188.24 1542.64 Q1192.6 1537.68 1200.27 1537.68 Z\" fill=\"#000000\" fill-rule=\"evenodd\" fill-opacity=\"1\" /><path clip-path=\"url(#clip960)\" d=\"M1226.33 1524.66 L1232.19 1524.66 L1232.19 1574.19 L1226.33 1574.19 L1226.33 1524.66 Z\" fill=\"#000000\" fill-rule=\"evenodd\" fill-opacity=\"1\" /><path clip-path=\"url(#clip960)\" d=\"M1258.26 1542.64 Q1253.55 1542.64 1250.81 1546.34 Q1248.07 1550 1248.07 1556.39 Q1248.07 1562.79 1250.78 1566.48 Q1253.52 1570.14 1258.26 1570.14 Q1262.94 1570.14 1265.67 1566.45 Q1268.41 1562.76 1268.41 1556.39 Q1268.41 1550.06 1265.67 1546.37 Q1262.94 1542.64 1258.26 1542.64 M1258.26 1537.68 Q1265.9 1537.68 1270.26 1542.64 Q1274.62 1547.61 1274.62 1556.39 Q1274.62 1565.15 1270.26 1570.14 Q1265.9 1575.11 1258.26 1575.11 Q1250.59 1575.11 1246.23 1570.14 Q1241.9 1565.15 1241.9 1556.39 Q1241.9 1547.61 1246.23 1542.64 Q1250.59 1537.68 1258.26 1537.68 Z\" fill=\"#000000\" fill-rule=\"evenodd\" fill-opacity=\"1\" /><path clip-path=\"url(#clip960)\" d=\"M1307.78 1555.95 Q1307.78 1549.58 1305.14 1546.08 Q1302.53 1542.58 1297.79 1542.58 Q1293.08 1542.58 1290.44 1546.08 Q1287.83 1549.58 1287.83 1555.95 Q1287.83 1562.28 1290.44 1565.78 Q1293.08 1569.28 1297.79 1569.28 Q1302.53 1569.28 1305.14 1565.78 Q1307.78 1562.28 1307.78 1555.95 M1313.64 1569.76 Q1313.64 1578.86 1309.6 1583.29 Q1305.56 1587.74 1297.22 1587.74 Q1294.13 1587.74 1291.39 1587.27 Q1288.65 1586.82 1286.08 1585.87 L1286.08 1580.17 Q1288.65 1581.57 1291.17 1582.24 Q1293.68 1582.91 1296.29 1582.91 Q1302.05 1582.91 1304.92 1579.88 Q1307.78 1576.89 1307.78 1570.81 L1307.78 1567.92 Q1305.97 1571.07 1303.14 1572.63 Q1300.3 1574.19 1296.36 1574.19 Q1289.8 1574.19 1285.79 1569.19 Q1281.78 1564.19 1281.78 1555.95 Q1281.78 1547.67 1285.79 1542.68 Q1289.8 1537.68 1296.36 1537.68 Q1300.3 1537.68 1303.14 1539.24 Q1305.97 1540.8 1307.78 1543.95 L1307.78 1538.54 L1313.64 1538.54 L1313.64 1569.76 Z\" fill=\"#000000\" fill-rule=\"evenodd\" fill-opacity=\"1\" /><path clip-path=\"url(#clip960)\" d=\"M1325.7 1538.54 L1331.56 1538.54 L1331.56 1574.19 L1325.7 1574.19 L1325.7 1538.54 M1325.7 1524.66 L1331.56 1524.66 L1331.56 1532.08 L1325.7 1532.08 L1325.7 1524.66 Z\" fill=\"#000000\" fill-rule=\"evenodd\" fill-opacity=\"1\" /><path clip-path=\"url(#clip960)\" d=\"M1369.47 1539.91 L1369.47 1545.38 Q1366.98 1544.01 1364.47 1543.34 Q1361.99 1542.64 1359.44 1542.64 Q1353.74 1542.64 1350.59 1546.27 Q1347.44 1549.87 1347.44 1556.39 Q1347.44 1562.92 1350.59 1566.55 Q1353.74 1570.14 1359.44 1570.14 Q1361.99 1570.14 1364.47 1569.47 Q1366.98 1568.77 1369.47 1567.41 L1369.47 1572.82 Q1367.02 1573.96 1364.37 1574.54 Q1361.76 1575.11 1358.8 1575.11 Q1350.75 1575.11 1346.01 1570.05 Q1341.27 1564.99 1341.27 1556.39 Q1341.27 1547.67 1346.04 1542.68 Q1350.85 1537.68 1359.19 1537.68 Q1361.89 1537.68 1364.47 1538.25 Q1367.05 1538.79 1369.47 1539.91 Z\" fill=\"#000000\" fill-rule=\"evenodd\" fill-opacity=\"1\" /><path clip-path=\"url(#clip960)\" d=\"M1395.85 1556.27 Q1388.75 1556.27 1386.02 1557.89 Q1383.28 1559.51 1383.28 1563.43 Q1383.28 1566.55 1385.32 1568.39 Q1387.39 1570.21 1390.92 1570.21 Q1395.79 1570.21 1398.72 1566.77 Q1401.68 1563.3 1401.68 1557.57 L1401.68 1556.27 L1395.85 1556.27 M1407.53 1553.85 L1407.53 1574.19 L1401.68 1574.19 L1401.68 1568.77 Q1399.67 1572.02 1396.68 1573.58 Q1393.69 1575.11 1389.36 1575.11 Q1383.89 1575.11 1380.64 1572.05 Q1377.42 1568.97 1377.42 1563.81 Q1377.42 1557.79 1381.43 1554.74 Q1385.48 1551.68 1393.47 1551.68 L1401.68 1551.68 L1401.68 1551.11 Q1401.68 1547.07 1399 1544.87 Q1396.36 1542.64 1391.56 1542.64 Q1388.5 1542.64 1385.6 1543.38 Q1382.71 1544.11 1380.03 1545.57 L1380.03 1540.16 Q1383.25 1538.92 1386.27 1538.31 Q1389.3 1537.68 1392.16 1537.68 Q1399.89 1537.68 1403.71 1541.69 Q1407.53 1545.7 1407.53 1553.85 Z\" fill=\"#000000\" fill-rule=\"evenodd\" fill-opacity=\"1\" /><path clip-path=\"url(#clip960)\" d=\"M1419.6 1524.66 L1425.45 1524.66 L1425.45 1574.19 L1419.6 1574.19 L1419.6 1524.66 Z\" fill=\"#000000\" fill-rule=\"evenodd\" fill-opacity=\"1\" /><path clip-path=\"url(#clip960)\" d=\"M1437.71 1524.66 L1443.56 1524.66 L1443.56 1574.19 L1437.71 1574.19 L1437.71 1524.66 Z\" fill=\"#000000\" fill-rule=\"evenodd\" fill-opacity=\"1\" /><path clip-path=\"url(#clip960)\" d=\"M1470.65 1577.5 Q1468.17 1583.86 1465.81 1585.8 Q1463.46 1587.74 1459.51 1587.74 L1454.83 1587.74 L1454.83 1582.84 L1458.27 1582.84 Q1460.69 1582.84 1462.02 1581.7 Q1463.36 1580.55 1464.98 1576.29 L1466.03 1573.61 L1451.62 1538.54 L1457.82 1538.54 L1468.96 1566.42 L1480.1 1538.54 L1486.31 1538.54 L1470.65 1577.5 Z\" fill=\"#000000\" fill-rule=\"evenodd\" fill-opacity=\"1\" /><path clip-path=\"url(#clip960)\" d=\"M1543.86 1528.23 L1543.86 1534.5 Q1540.19 1532.74 1536.95 1531.89 Q1533.7 1531.03 1530.68 1531.03 Q1525.43 1531.03 1522.56 1533.06 Q1519.73 1535.1 1519.73 1538.86 Q1519.73 1542.01 1521.61 1543.63 Q1523.52 1545.22 1528.8 1546.21 L1532.68 1547 Q1539.88 1548.37 1543.28 1551.84 Q1546.72 1555.28 1546.72 1561.07 Q1546.72 1567.98 1542.07 1571.54 Q1537.46 1575.11 1528.51 1575.11 Q1525.14 1575.11 1521.32 1574.34 Q1517.53 1573.58 1513.46 1572.08 L1513.46 1565.46 Q1517.37 1567.66 1521.13 1568.77 Q1524.89 1569.89 1528.51 1569.89 Q1534.02 1569.89 1537.01 1567.72 Q1540 1565.56 1540 1561.55 Q1540 1558.05 1537.84 1556.08 Q1535.71 1554.1 1530.81 1553.11 L1526.89 1552.35 Q1519.7 1550.92 1516.48 1547.86 Q1513.27 1544.81 1513.27 1539.37 Q1513.27 1533.06 1517.69 1529.43 Q1522.15 1525.81 1529.95 1525.81 Q1533.29 1525.81 1536.76 1526.41 Q1540.23 1527.02 1543.86 1528.23 Z\" fill=\"#000000\" fill-rule=\"evenodd\" fill-opacity=\"1\" /><path clip-path=\"url(#clip960)\" d=\"M1572.69 1556.27 Q1565.59 1556.27 1562.86 1557.89 Q1560.12 1559.51 1560.12 1563.43 Q1560.12 1566.55 1562.16 1568.39 Q1564.23 1570.21 1567.76 1570.21 Q1572.63 1570.21 1575.56 1566.77 Q1578.52 1563.3 1578.52 1557.57 L1578.52 1556.27 L1572.69 1556.27 M1584.37 1553.85 L1584.37 1574.19 L1578.52 1574.19 L1578.52 1568.77 Q1576.51 1572.02 1573.52 1573.58 Q1570.53 1575.11 1566.2 1575.11 Q1560.72 1575.11 1557.48 1572.05 Q1554.26 1568.97 1554.26 1563.81 Q1554.26 1557.79 1558.27 1554.74 Q1562.32 1551.68 1570.3 1551.68 L1578.52 1551.68 L1578.52 1551.11 Q1578.52 1547.07 1575.84 1544.87 Q1573.2 1542.64 1568.4 1542.64 Q1565.34 1542.64 1562.44 1543.38 Q1559.55 1544.11 1556.87 1545.57 L1556.87 1540.16 Q1560.09 1538.92 1563.11 1538.31 Q1566.14 1537.68 1569 1537.68 Q1576.73 1537.68 1580.55 1541.69 Q1584.37 1545.7 1584.37 1553.85 Z\" fill=\"#000000\" fill-rule=\"evenodd\" fill-opacity=\"1\" /><path clip-path=\"url(#clip960)\" d=\"M1614.48 1524.66 L1614.48 1529.53 L1608.88 1529.53 Q1605.73 1529.53 1604.49 1530.8 Q1603.28 1532.08 1603.28 1535.39 L1603.28 1538.54 L1612.92 1538.54 L1612.92 1543.09 L1603.28 1543.09 L1603.28 1574.19 L1597.39 1574.19 L1597.39 1543.09 L1591.79 1543.09 L1591.79 1538.54 L1597.39 1538.54 L1597.39 1536.05 Q1597.39 1530.1 1600.16 1527.4 Q1602.93 1524.66 1608.94 1524.66 L1614.48 1524.66 Z\" fill=\"#000000\" fill-rule=\"evenodd\" fill-opacity=\"1\" /><path clip-path=\"url(#clip960)\" d=\"M1649.88 1554.9 L1649.88 1557.76 L1622.95 1557.76 Q1623.33 1563.81 1626.58 1566.99 Q1629.86 1570.14 1635.68 1570.14 Q1639.05 1570.14 1642.21 1569.32 Q1645.39 1568.49 1648.51 1566.83 L1648.51 1572.37 Q1645.36 1573.71 1642.05 1574.41 Q1638.74 1575.11 1635.33 1575.11 Q1626.8 1575.11 1621.8 1570.14 Q1616.84 1565.18 1616.84 1556.71 Q1616.84 1547.96 1621.55 1542.83 Q1626.29 1537.68 1634.31 1537.68 Q1641.51 1537.68 1645.67 1542.33 Q1649.88 1546.94 1649.88 1554.9 M1644.02 1553.18 Q1643.96 1548.37 1641.31 1545.51 Q1638.7 1542.64 1634.38 1542.64 Q1629.47 1542.64 1626.51 1545.41 Q1623.59 1548.18 1623.14 1553.21 L1644.02 1553.18 Z\" fill=\"#000000\" fill-rule=\"evenodd\" fill-opacity=\"1\" /><polyline clip-path=\"url(#clip962)\" style=\"stroke:#000000; stroke-linecap:round; stroke-linejoin:round; stroke-width:2; stroke-opacity:0.1; fill:none\" points=\"\n",
       "  406.802,1202.68 2352.76,1202.68 \n",
       "  \"/>\n",
       "<polyline clip-path=\"url(#clip962)\" style=\"stroke:#000000; stroke-linecap:round; stroke-linejoin:round; stroke-width:2; stroke-opacity:0.1; fill:none\" points=\"\n",
       "  406.802,888.621 2352.76,888.621 \n",
       "  \"/>\n",
       "<polyline clip-path=\"url(#clip962)\" style=\"stroke:#000000; stroke-linecap:round; stroke-linejoin:round; stroke-width:2; stroke-opacity:0.1; fill:none\" points=\"\n",
       "  406.802,574.561 2352.76,574.561 \n",
       "  \"/>\n",
       "<polyline clip-path=\"url(#clip962)\" style=\"stroke:#000000; stroke-linecap:round; stroke-linejoin:round; stroke-width:2; stroke-opacity:0.1; fill:none\" points=\"\n",
       "  406.802,260.501 2352.76,260.501 \n",
       "  \"/>\n",
       "<polyline clip-path=\"url(#clip960)\" style=\"stroke:#000000; stroke-linecap:round; stroke-linejoin:round; stroke-width:4; stroke-opacity:1; fill:none\" points=\"\n",
       "  406.802,1410.9 406.802,47.2441 \n",
       "  \"/>\n",
       "<polyline clip-path=\"url(#clip960)\" style=\"stroke:#000000; stroke-linecap:round; stroke-linejoin:round; stroke-width:4; stroke-opacity:1; fill:none\" points=\"\n",
       "  406.802,1202.68 425.7,1202.68 \n",
       "  \"/>\n",
       "<polyline clip-path=\"url(#clip960)\" style=\"stroke:#000000; stroke-linecap:round; stroke-linejoin:round; stroke-width:4; stroke-opacity:1; fill:none\" points=\"\n",
       "  406.802,888.621 425.7,888.621 \n",
       "  \"/>\n",
       "<polyline clip-path=\"url(#clip960)\" style=\"stroke:#000000; stroke-linecap:round; stroke-linejoin:round; stroke-width:4; stroke-opacity:1; fill:none\" points=\"\n",
       "  406.802,574.561 425.7,574.561 \n",
       "  \"/>\n",
       "<polyline clip-path=\"url(#clip960)\" style=\"stroke:#000000; stroke-linecap:round; stroke-linejoin:round; stroke-width:4; stroke-opacity:1; fill:none\" points=\"\n",
       "  406.802,260.501 425.7,260.501 \n",
       "  \"/>\n",
       "<path clip-path=\"url(#clip960)\" d=\"M115.596 1209.58 L145.271 1209.58 L145.271 1213.52 L115.596 1213.52 L115.596 1209.58 Z\" fill=\"#000000\" fill-rule=\"evenodd\" fill-opacity=\"1\" /><path clip-path=\"url(#clip960)\" d=\"M156.174 1222.47 L163.813 1222.47 L163.813 1196.11 L155.503 1197.78 L155.503 1193.52 L163.767 1191.85 L168.442 1191.85 L168.442 1222.47 L176.081 1222.47 L176.081 1226.41 L156.174 1226.41 L156.174 1222.47 Z\" fill=\"#000000\" fill-rule=\"evenodd\" fill-opacity=\"1\" /><path clip-path=\"url(#clip960)\" d=\"M185.526 1220.53 L190.41 1220.53 L190.41 1226.41 L185.526 1226.41 L185.526 1220.53 Z\" fill=\"#000000\" fill-rule=\"evenodd\" fill-opacity=\"1\" /><path clip-path=\"url(#clip960)\" d=\"M204.623 1222.47 L220.942 1222.47 L220.942 1226.41 L198.998 1226.41 L198.998 1222.47 Q201.66 1219.72 206.243 1215.09 Q210.85 1210.44 212.03 1209.09 Q214.276 1206.57 215.155 1204.84 Q216.058 1203.08 216.058 1201.39 Q216.058 1198.63 214.113 1196.9 Q212.192 1195.16 209.09 1195.16 Q206.891 1195.16 204.438 1195.92 Q202.007 1196.69 199.229 1198.24 L199.229 1193.52 Q202.053 1192.38 204.507 1191.8 Q206.961 1191.22 208.998 1191.22 Q214.368 1191.22 217.563 1193.91 Q220.757 1196.59 220.757 1201.09 Q220.757 1203.21 219.947 1205.14 Q219.16 1207.03 217.053 1209.63 Q216.475 1210.3 213.373 1213.52 Q210.271 1216.71 204.623 1222.47 Z\" fill=\"#000000\" fill-rule=\"evenodd\" fill-opacity=\"1\" /><path clip-path=\"url(#clip960)\" d=\"M240.757 1194.93 Q237.146 1194.93 235.317 1198.49 Q233.512 1202.03 233.512 1209.16 Q233.512 1216.27 235.317 1219.84 Q237.146 1223.38 240.757 1223.38 Q244.391 1223.38 246.197 1219.84 Q248.025 1216.27 248.025 1209.16 Q248.025 1202.03 246.197 1198.49 Q244.391 1194.93 240.757 1194.93 M240.757 1191.22 Q246.567 1191.22 249.623 1195.83 Q252.701 1200.41 252.701 1209.16 Q252.701 1217.89 249.623 1222.5 Q246.567 1227.08 240.757 1227.08 Q234.947 1227.08 231.868 1222.5 Q228.812 1217.89 228.812 1209.16 Q228.812 1200.41 231.868 1195.83 Q234.947 1191.22 240.757 1191.22 Z\" fill=\"#000000\" fill-rule=\"evenodd\" fill-opacity=\"1\" /><path clip-path=\"url(#clip960)\" d=\"M289.09 1200.95 L278.511 1211.57 L289.09 1222.15 L286.335 1224.95 L275.71 1214.33 L265.085 1224.95 L262.354 1222.15 L272.909 1211.57 L262.354 1200.95 L265.085 1198.15 L275.71 1208.77 L286.335 1198.15 L289.09 1200.95 Z\" fill=\"#000000\" fill-rule=\"evenodd\" fill-opacity=\"1\" /><path clip-path=\"url(#clip960)\" d=\"M301.451 1222.47 L309.09 1222.47 L309.09 1196.11 L300.78 1197.78 L300.78 1193.52 L309.044 1191.85 L313.719 1191.85 L313.719 1222.47 L321.358 1222.47 L321.358 1226.41 L301.451 1226.41 L301.451 1222.47 Z\" fill=\"#000000\" fill-rule=\"evenodd\" fill-opacity=\"1\" /><path clip-path=\"url(#clip960)\" d=\"M340.803 1194.93 Q337.192 1194.93 335.363 1198.49 Q333.557 1202.03 333.557 1209.16 Q333.557 1216.27 335.363 1219.84 Q337.192 1223.38 340.803 1223.38 Q344.437 1223.38 346.242 1219.84 Q348.071 1216.27 348.071 1209.16 Q348.071 1202.03 346.242 1198.49 Q344.437 1194.93 340.803 1194.93 M340.803 1191.22 Q346.613 1191.22 349.668 1195.83 Q352.747 1200.41 352.747 1209.16 Q352.747 1217.89 349.668 1222.5 Q346.613 1227.08 340.803 1227.08 Q334.992 1227.08 331.914 1222.5 Q328.858 1217.89 328.858 1209.16 Q328.858 1200.41 331.914 1195.83 Q334.992 1191.22 340.803 1191.22 Z\" fill=\"#000000\" fill-rule=\"evenodd\" fill-opacity=\"1\" /><path clip-path=\"url(#clip960)\" d=\"M352.747 1170.92 L370.802 1170.92 L370.802 1172.54 L360.609 1199 L356.64 1199 L366.232 1174.12 L352.747 1174.12 L352.747 1170.92 Z\" fill=\"#000000\" fill-rule=\"evenodd\" fill-opacity=\"1\" /><path clip-path=\"url(#clip960)\" d=\"M115.596 895.52 L145.271 895.52 L145.271 899.456 L115.596 899.456 L115.596 895.52 Z\" fill=\"#000000\" fill-rule=\"evenodd\" fill-opacity=\"1\" /><path clip-path=\"url(#clip960)\" d=\"M156.174 908.414 L163.813 908.414 L163.813 882.048 L155.503 883.715 L155.503 879.456 L163.767 877.789 L168.442 877.789 L168.442 908.414 L176.081 908.414 L176.081 912.349 L156.174 912.349 L156.174 908.414 Z\" fill=\"#000000\" fill-rule=\"evenodd\" fill-opacity=\"1\" /><path clip-path=\"url(#clip960)\" d=\"M185.526 906.469 L190.41 906.469 L190.41 912.349 L185.526 912.349 L185.526 906.469 Z\" fill=\"#000000\" fill-rule=\"evenodd\" fill-opacity=\"1\" /><path clip-path=\"url(#clip960)\" d=\"M201.405 908.414 L209.044 908.414 L209.044 882.048 L200.734 883.715 L200.734 879.456 L208.998 877.789 L213.674 877.789 L213.674 908.414 L221.313 908.414 L221.313 912.349 L201.405 912.349 L201.405 908.414 Z\" fill=\"#000000\" fill-rule=\"evenodd\" fill-opacity=\"1\" /><path clip-path=\"url(#clip960)\" d=\"M240.757 880.868 Q237.146 880.868 235.317 884.432 Q233.512 887.974 233.512 895.104 Q233.512 902.21 235.317 905.775 Q237.146 909.317 240.757 909.317 Q244.391 909.317 246.197 905.775 Q248.025 902.21 248.025 895.104 Q248.025 887.974 246.197 884.432 Q244.391 880.868 240.757 880.868 M240.757 877.164 Q246.567 877.164 249.623 881.77 Q252.701 886.354 252.701 895.104 Q252.701 903.831 249.623 908.437 Q246.567 913.02 240.757 913.02 Q234.947 913.02 231.868 908.437 Q228.812 903.831 228.812 895.104 Q228.812 886.354 231.868 881.77 Q234.947 877.164 240.757 877.164 Z\" fill=\"#000000\" fill-rule=\"evenodd\" fill-opacity=\"1\" /><path clip-path=\"url(#clip960)\" d=\"M289.09 886.886 L278.511 897.511 L289.09 908.09 L286.335 910.891 L275.71 900.266 L265.085 910.891 L262.354 908.09 L272.909 897.511 L262.354 886.886 L265.085 884.085 L275.71 894.71 L286.335 884.085 L289.09 886.886 Z\" fill=\"#000000\" fill-rule=\"evenodd\" fill-opacity=\"1\" /><path clip-path=\"url(#clip960)\" d=\"M301.451 908.414 L309.09 908.414 L309.09 882.048 L300.78 883.715 L300.78 879.456 L309.044 877.789 L313.719 877.789 L313.719 908.414 L321.358 908.414 L321.358 912.349 L301.451 912.349 L301.451 908.414 Z\" fill=\"#000000\" fill-rule=\"evenodd\" fill-opacity=\"1\" /><path clip-path=\"url(#clip960)\" d=\"M340.803 880.868 Q337.192 880.868 335.363 884.432 Q333.557 887.974 333.557 895.104 Q333.557 902.21 335.363 905.775 Q337.192 909.317 340.803 909.317 Q344.437 909.317 346.242 905.775 Q348.071 902.21 348.071 895.104 Q348.071 887.974 346.242 884.432 Q344.437 880.868 340.803 880.868 M340.803 877.164 Q346.613 877.164 349.668 881.77 Q352.747 886.354 352.747 895.104 Q352.747 903.831 349.668 908.437 Q346.613 913.02 340.803 913.02 Q334.992 913.02 331.914 908.437 Q328.858 903.831 328.858 895.104 Q328.858 886.354 331.914 881.77 Q334.992 877.164 340.803 877.164 Z\" fill=\"#000000\" fill-rule=\"evenodd\" fill-opacity=\"1\" /><path clip-path=\"url(#clip960)\" d=\"M352.747 856.859 L370.802 856.859 L370.802 858.476 L360.609 884.939 L356.64 884.939 L366.232 860.056 L352.747 860.056 L352.747 856.859 Z\" fill=\"#000000\" fill-rule=\"evenodd\" fill-opacity=\"1\" /><path clip-path=\"url(#clip960)\" d=\"M115.596 581.46 L145.271 581.46 L145.271 585.395 L115.596 585.395 L115.596 581.46 Z\" fill=\"#000000\" fill-rule=\"evenodd\" fill-opacity=\"1\" /><path clip-path=\"url(#clip960)\" d=\"M156.174 594.354 L163.813 594.354 L163.813 567.988 L155.503 569.655 L155.503 565.395 L163.767 563.729 L168.442 563.729 L168.442 594.354 L176.081 594.354 L176.081 598.289 L156.174 598.289 L156.174 594.354 Z\" fill=\"#000000\" fill-rule=\"evenodd\" fill-opacity=\"1\" /><path clip-path=\"url(#clip960)\" d=\"M185.526 592.409 L190.41 592.409 L190.41 598.289 L185.526 598.289 L185.526 592.409 Z\" fill=\"#000000\" fill-rule=\"evenodd\" fill-opacity=\"1\" /><path clip-path=\"url(#clip960)\" d=\"M210.595 566.808 Q206.984 566.808 205.155 570.372 Q203.35 573.914 203.35 581.044 Q203.35 588.15 205.155 591.715 Q206.984 595.256 210.595 595.256 Q214.229 595.256 216.035 591.715 Q217.863 588.15 217.863 581.044 Q217.863 573.914 216.035 570.372 Q214.229 566.808 210.595 566.808 M210.595 563.104 Q216.405 563.104 219.461 567.71 Q222.539 572.294 222.539 581.044 Q222.539 589.77 219.461 594.377 Q216.405 598.96 210.595 598.96 Q204.785 598.96 201.706 594.377 Q198.651 589.77 198.651 581.044 Q198.651 572.294 201.706 567.71 Q204.785 563.104 210.595 563.104 Z\" fill=\"#000000\" fill-rule=\"evenodd\" fill-opacity=\"1\" /><path clip-path=\"url(#clip960)\" d=\"M240.757 566.808 Q237.146 566.808 235.317 570.372 Q233.512 573.914 233.512 581.044 Q233.512 588.15 235.317 591.715 Q237.146 595.256 240.757 595.256 Q244.391 595.256 246.197 591.715 Q248.025 588.15 248.025 581.044 Q248.025 573.914 246.197 570.372 Q244.391 566.808 240.757 566.808 M240.757 563.104 Q246.567 563.104 249.623 567.71 Q252.701 572.294 252.701 581.044 Q252.701 589.77 249.623 594.377 Q246.567 598.96 240.757 598.96 Q234.947 598.96 231.868 594.377 Q228.812 589.77 228.812 581.044 Q228.812 572.294 231.868 567.71 Q234.947 563.104 240.757 563.104 Z\" fill=\"#000000\" fill-rule=\"evenodd\" fill-opacity=\"1\" /><path clip-path=\"url(#clip960)\" d=\"M289.09 572.826 L278.511 583.451 L289.09 594.03 L286.335 596.831 L275.71 586.206 L265.085 596.831 L262.354 594.03 L272.909 583.451 L262.354 572.826 L265.085 570.025 L275.71 580.65 L286.335 570.025 L289.09 572.826 Z\" fill=\"#000000\" fill-rule=\"evenodd\" fill-opacity=\"1\" /><path clip-path=\"url(#clip960)\" d=\"M301.451 594.354 L309.09 594.354 L309.09 567.988 L300.78 569.655 L300.78 565.395 L309.044 563.729 L313.719 563.729 L313.719 594.354 L321.358 594.354 L321.358 598.289 L301.451 598.289 L301.451 594.354 Z\" fill=\"#000000\" fill-rule=\"evenodd\" fill-opacity=\"1\" /><path clip-path=\"url(#clip960)\" d=\"M340.803 566.808 Q337.192 566.808 335.363 570.372 Q333.557 573.914 333.557 581.044 Q333.557 588.15 335.363 591.715 Q337.192 595.256 340.803 595.256 Q344.437 595.256 346.242 591.715 Q348.071 588.15 348.071 581.044 Q348.071 573.914 346.242 570.372 Q344.437 566.808 340.803 566.808 M340.803 563.104 Q346.613 563.104 349.668 567.71 Q352.747 572.294 352.747 581.044 Q352.747 589.77 349.668 594.377 Q346.613 598.96 340.803 598.96 Q334.992 598.96 331.914 594.377 Q328.858 589.77 328.858 581.044 Q328.858 572.294 331.914 567.71 Q334.992 563.104 340.803 563.104 Z\" fill=\"#000000\" fill-rule=\"evenodd\" fill-opacity=\"1\" /><path clip-path=\"url(#clip960)\" d=\"M352.747 542.798 L370.802 542.798 L370.802 544.416 L360.609 570.878 L356.64 570.878 L366.232 545.996 L352.747 545.996 L352.747 542.798 Z\" fill=\"#000000\" fill-rule=\"evenodd\" fill-opacity=\"1\" /><path clip-path=\"url(#clip960)\" d=\"M114.26 267.4 L143.936 267.4 L143.936 271.335 L114.26 271.335 L114.26 267.4 Z\" fill=\"#000000\" fill-rule=\"evenodd\" fill-opacity=\"1\" /><path clip-path=\"url(#clip960)\" d=\"M154.167 283.511 L154.167 279.252 Q155.927 280.085 157.732 280.525 Q159.538 280.965 161.274 280.965 Q165.903 280.965 168.334 277.863 Q170.788 274.738 171.135 268.395 Q169.792 270.386 167.732 271.451 Q165.672 272.516 163.172 272.516 Q157.987 272.516 154.954 269.391 Q151.945 266.243 151.945 260.803 Q151.945 255.479 155.093 252.261 Q158.241 249.044 163.473 249.044 Q169.468 249.044 172.616 253.65 Q175.788 258.233 175.788 266.983 Q175.788 275.155 171.899 280.039 Q168.033 284.9 161.482 284.9 Q159.723 284.9 157.917 284.553 Q156.112 284.206 154.167 283.511 M163.473 268.858 Q166.621 268.858 168.45 266.706 Q170.302 264.553 170.302 260.803 Q170.302 257.076 168.45 254.923 Q166.621 252.747 163.473 252.747 Q160.325 252.747 158.473 254.923 Q156.644 257.076 156.644 260.803 Q156.644 264.553 158.473 266.706 Q160.325 268.858 163.473 268.858 Z\" fill=\"#000000\" fill-rule=\"evenodd\" fill-opacity=\"1\" /><path clip-path=\"url(#clip960)\" d=\"M184.19 278.349 L189.075 278.349 L189.075 284.229 L184.19 284.229 L184.19 278.349 Z\" fill=\"#000000\" fill-rule=\"evenodd\" fill-opacity=\"1\" /><path clip-path=\"url(#clip960)\" d=\"M209.26 252.747 Q205.649 252.747 203.82 256.312 Q202.014 259.854 202.014 266.983 Q202.014 274.09 203.82 277.655 Q205.649 281.196 209.26 281.196 Q212.894 281.196 214.699 277.655 Q216.528 274.09 216.528 266.983 Q216.528 259.854 214.699 256.312 Q212.894 252.747 209.26 252.747 M209.26 249.044 Q215.07 249.044 218.125 253.65 Q221.204 258.233 221.204 266.983 Q221.204 275.71 218.125 280.317 Q215.07 284.9 209.26 284.9 Q203.449 284.9 200.371 280.317 Q197.315 275.71 197.315 266.983 Q197.315 258.233 200.371 253.65 Q203.449 249.044 209.26 249.044 Z\" fill=\"#000000\" fill-rule=\"evenodd\" fill-opacity=\"1\" /><path clip-path=\"url(#clip960)\" d=\"M239.422 252.747 Q235.81 252.747 233.982 256.312 Q232.176 259.854 232.176 266.983 Q232.176 274.09 233.982 277.655 Q235.81 281.196 239.422 281.196 Q243.056 281.196 244.861 277.655 Q246.69 274.09 246.69 266.983 Q246.69 259.854 244.861 256.312 Q243.056 252.747 239.422 252.747 M239.422 249.044 Q245.232 249.044 248.287 253.65 Q251.366 258.233 251.366 266.983 Q251.366 275.71 248.287 280.317 Q245.232 284.9 239.422 284.9 Q233.611 284.9 230.533 280.317 Q227.477 275.71 227.477 266.983 Q227.477 258.233 230.533 253.65 Q233.611 249.044 239.422 249.044 Z\" fill=\"#000000\" fill-rule=\"evenodd\" fill-opacity=\"1\" /><path clip-path=\"url(#clip960)\" d=\"M287.755 258.766 L277.176 269.391 L287.755 279.969 L285 282.77 L274.375 272.145 L263.75 282.77 L261.019 279.969 L271.574 269.391 L261.019 258.766 L263.75 255.965 L274.375 266.59 L285 255.965 L287.755 258.766 Z\" fill=\"#000000\" fill-rule=\"evenodd\" fill-opacity=\"1\" /><path clip-path=\"url(#clip960)\" d=\"M300.116 280.294 L307.754 280.294 L307.754 253.928 L299.444 255.595 L299.444 251.335 L307.708 249.669 L312.384 249.669 L312.384 280.294 L320.023 280.294 L320.023 284.229 L300.116 284.229 L300.116 280.294 Z\" fill=\"#000000\" fill-rule=\"evenodd\" fill-opacity=\"1\" /><path clip-path=\"url(#clip960)\" d=\"M339.467 252.747 Q335.856 252.747 334.027 256.312 Q332.222 259.854 332.222 266.983 Q332.222 274.09 334.027 277.655 Q335.856 281.196 339.467 281.196 Q343.102 281.196 344.907 277.655 Q346.736 274.09 346.736 266.983 Q346.736 259.854 344.907 256.312 Q343.102 252.747 339.467 252.747 M339.467 249.044 Q345.277 249.044 348.333 253.65 Q351.412 258.233 351.412 266.983 Q351.412 275.71 348.333 280.317 Q345.277 284.9 339.467 284.9 Q333.657 284.9 330.578 280.317 Q327.523 275.71 327.523 266.983 Q327.523 258.233 330.578 253.65 Q333.657 249.044 339.467 249.044 Z\" fill=\"#000000\" fill-rule=\"evenodd\" fill-opacity=\"1\" /><path clip-path=\"url(#clip960)\" d=\"M361.436 241.264 Q358.878 241.264 357.374 243.013 Q355.888 244.762 355.888 247.809 Q355.888 250.837 357.374 252.605 Q358.878 254.354 361.436 254.354 Q363.994 254.354 365.48 252.605 Q366.984 250.837 366.984 247.809 Q366.984 244.762 365.48 243.013 Q363.994 241.264 361.436 241.264 M368.978 229.359 L368.978 232.82 Q367.549 232.142 366.082 231.785 Q364.634 231.428 363.204 231.428 Q359.443 231.428 357.449 233.967 Q355.474 236.506 355.192 241.64 Q356.302 240.004 357.976 239.139 Q359.649 238.255 361.662 238.255 Q365.894 238.255 368.339 240.832 Q370.802 243.39 370.802 247.809 Q370.802 252.135 368.245 254.749 Q365.687 257.364 361.436 257.364 Q356.565 257.364 353.988 253.64 Q351.412 249.897 351.412 242.806 Q351.412 236.149 354.571 232.199 Q357.731 228.23 363.054 228.23 Q364.483 228.23 365.931 228.513 Q367.398 228.795 368.978 229.359 Z\" fill=\"#000000\" fill-rule=\"evenodd\" fill-opacity=\"1\" /><path clip-path=\"url(#clip960)\" d=\"M18.0438 890.918 L24.314 890.918 Q22.5634 894.579 21.704 897.825 Q20.8447 901.072 20.8447 904.095 Q20.8447 909.347 22.8817 912.212 Q24.9187 915.044 28.6745 915.044 Q31.8255 915.044 33.4488 913.167 Q35.0402 911.257 36.0269 905.973 L36.8226 902.09 Q38.1912 894.897 41.6605 891.491 Q45.098 888.054 50.8908 888.054 Q57.7976 888.054 61.3624 892.701 Q64.9272 897.316 64.9272 906.26 Q64.9272 909.634 64.1633 913.453 Q63.3994 917.241 61.9035 921.315 L55.2831 921.315 Q57.4793 917.4 58.5933 913.644 Q59.7073 909.888 59.7073 906.26 Q59.7073 900.753 57.543 897.762 Q55.3786 894.77 51.3682 894.77 Q47.8671 894.77 45.8937 896.934 Q43.9204 899.067 42.9337 903.968 L42.1698 907.883 Q40.7375 915.076 37.682 918.291 Q34.6264 921.506 29.1837 921.506 Q22.8817 921.506 19.2532 917.082 Q15.6248 912.626 15.6248 904.828 Q15.6248 901.486 16.2295 898.016 Q16.8343 894.547 18.0438 890.918 Z\" fill=\"#000000\" fill-rule=\"evenodd\" fill-opacity=\"1\" /><path clip-path=\"url(#clip960)\" d=\"M32.4621 864.469 Q32.4621 869.18 36.1542 871.917 Q39.8145 874.654 46.212 874.654 Q52.6095 874.654 56.3017 871.949 Q59.9619 869.211 59.9619 864.469 Q59.9619 859.79 56.2698 857.053 Q52.5777 854.316 46.212 854.316 Q39.8781 854.316 36.186 857.053 Q32.4621 859.79 32.4621 864.469 M27.4968 864.469 Q27.4968 856.83 32.4621 852.47 Q37.4273 848.109 46.212 848.109 Q54.9649 848.109 59.9619 852.47 Q64.9272 856.83 64.9272 864.469 Q64.9272 872.14 59.9619 876.5 Q54.9649 880.829 46.212 880.829 Q37.4273 880.829 32.4621 876.5 Q27.4968 872.14 27.4968 864.469 Z\" fill=\"#000000\" fill-rule=\"evenodd\" fill-opacity=\"1\" /><path clip-path=\"url(#clip960)\" d=\"M29.7248 812.748 L35.1993 812.748 Q33.8307 815.23 33.1623 817.745 Q32.4621 820.227 32.4621 822.774 Q32.4621 828.471 36.0905 831.622 Q39.6872 834.773 46.212 834.773 Q52.7369 834.773 56.3653 831.622 Q59.9619 828.471 59.9619 822.774 Q59.9619 820.227 59.2935 817.745 Q58.5933 815.23 57.2247 812.748 L62.6355 812.748 Q63.7814 815.198 64.3543 817.84 Q64.9272 820.45 64.9272 823.41 Q64.9272 831.463 59.8664 836.205 Q54.8057 840.948 46.212 840.948 Q37.491 840.948 32.4939 836.173 Q27.4968 831.367 27.4968 823.028 Q27.4968 820.323 28.0697 817.745 Q28.6108 815.167 29.7248 812.748 Z\" fill=\"#000000\" fill-rule=\"evenodd\" fill-opacity=\"1\" /><path clip-path=\"url(#clip960)\" d=\"M28.3562 802.562 L28.3562 796.706 L64.0042 796.706 L64.0042 802.562 L28.3562 802.562 M14.479 802.562 L14.479 796.706 L21.895 796.706 L21.895 802.562 L14.479 802.562 Z\" fill=\"#000000\" fill-rule=\"evenodd\" fill-opacity=\"1\" /><path clip-path=\"url(#clip960)\" d=\"M46.0847 768.251 Q46.0847 775.349 47.7079 778.086 Q49.3312 780.824 53.2461 780.824 Q56.3653 780.824 58.2114 778.787 Q60.0256 776.718 60.0256 773.185 Q60.0256 768.315 56.5881 765.387 Q53.1188 762.427 47.3897 762.427 L46.0847 762.427 L46.0847 768.251 M43.6657 756.57 L64.0042 756.57 L64.0042 762.427 L58.5933 762.427 Q61.8398 764.432 63.3994 767.424 Q64.9272 770.416 64.9272 774.744 Q64.9272 780.219 61.8716 783.465 Q58.7843 786.68 53.6281 786.68 Q47.6125 786.68 44.5569 782.67 Q41.5014 778.627 41.5014 770.638 L41.5014 762.427 L40.9285 762.427 Q36.8862 762.427 34.6901 765.1 Q32.4621 767.742 32.4621 772.548 Q32.4621 775.604 33.1941 778.5 Q33.9262 781.396 35.3903 784.07 L29.9795 784.07 Q28.7381 780.855 28.1334 777.832 Q27.4968 774.808 27.4968 771.943 Q27.4968 764.209 31.5072 760.39 Q35.5176 756.57 43.6657 756.57 Z\" fill=\"#000000\" fill-rule=\"evenodd\" fill-opacity=\"1\" /><path clip-path=\"url(#clip960)\" d=\"M14.479 744.507 L14.479 738.651 L64.0042 738.651 L64.0042 744.507 L14.479 744.507 Z\" fill=\"#000000\" fill-rule=\"evenodd\" fill-opacity=\"1\" /><path clip-path=\"url(#clip960)\" d=\"M14.479 726.397 L14.479 720.54 L64.0042 720.54 L64.0042 726.397 L14.479 726.397 Z\" fill=\"#000000\" fill-rule=\"evenodd\" fill-opacity=\"1\" /><path clip-path=\"url(#clip960)\" d=\"M67.3143 693.454 Q73.68 695.937 75.6216 698.292 Q77.5631 700.647 77.5631 704.594 L77.5631 709.273 L72.6615 709.273 L72.6615 705.836 Q72.6615 703.417 71.5157 702.08 Q70.3699 700.743 66.1048 699.12 L63.4312 698.069 L28.3562 712.488 L28.3562 706.281 L56.238 695.141 L28.3562 684.001 L28.3562 677.795 L67.3143 693.454 Z\" fill=\"#000000\" fill-rule=\"evenodd\" fill-opacity=\"1\" /><path clip-path=\"url(#clip960)\" d=\"M16.4842 648.735 L16.4842 642.306 L60.694 642.306 Q69.2877 642.306 73.1708 645.584 Q77.0539 648.831 77.0539 656.056 L77.0539 658.507 L71.643 658.507 L71.643 656.501 Q71.643 652.236 69.2559 650.486 Q66.8687 648.735 60.694 648.735 L16.4842 648.735 Z\" fill=\"#000000\" fill-rule=\"evenodd\" fill-opacity=\"1\" /><path clip-path=\"url(#clip960)\" d=\"M49.9359 630.37 L28.3562 630.37 L28.3562 624.514 L49.7131 624.514 Q54.7739 624.514 57.3202 622.54 Q59.8346 620.567 59.8346 616.62 Q59.8346 611.878 56.8109 609.14 Q53.7872 606.371 48.5673 606.371 L28.3562 606.371 L28.3562 600.515 L64.0042 600.515 L64.0042 606.371 L58.5296 606.371 Q61.7762 608.504 63.3676 611.337 Q64.9272 614.138 64.9272 617.861 Q64.9272 624.004 61.1078 627.187 Q57.2883 630.37 49.9359 630.37 M27.4968 615.633 L27.4968 615.633 Z\" fill=\"#000000\" fill-rule=\"evenodd\" fill-opacity=\"1\" /><path clip-path=\"url(#clip960)\" d=\"M29.4065 565.726 L34.9447 565.726 Q33.6716 568.209 33.035 570.883 Q32.3984 573.556 32.3984 576.421 Q32.3984 580.781 33.7352 582.977 Q35.072 585.142 37.7456 585.142 Q39.7826 585.142 40.9603 583.582 Q42.1061 582.023 43.1565 577.312 L43.6021 575.307 Q44.9389 569.068 47.3897 566.458 Q49.8086 563.817 54.1691 563.817 Q59.1344 563.817 62.0308 567.763 Q64.9272 571.678 64.9272 578.553 Q64.9272 581.418 64.3543 584.537 Q63.8132 587.624 62.6992 591.062 L56.6518 591.062 Q58.3387 587.815 59.198 584.664 Q60.0256 581.513 60.0256 578.426 Q60.0256 574.288 58.6251 572.06 Q57.1929 569.832 54.6147 569.832 Q52.2276 569.832 50.9545 571.455 Q49.6813 573.047 48.5037 578.49 L48.0262 580.527 Q46.8804 585.969 44.5251 588.388 Q42.138 590.807 38.0002 590.807 Q32.9713 590.807 30.2341 587.242 Q27.4968 583.678 27.4968 577.121 Q27.4968 573.874 27.9743 571.01 Q28.4517 568.145 29.4065 565.726 Z\" fill=\"#000000\" fill-rule=\"evenodd\" fill-opacity=\"1\" /><path clip-path=\"url(#clip960)\" d=\"M18.2347 548.698 L28.3562 548.698 L28.3562 536.635 L32.9077 536.635 L32.9077 548.698 L52.2594 548.698 Q56.6199 548.698 57.8613 547.52 Q59.1026 546.311 59.1026 542.651 L59.1026 536.635 L64.0042 536.635 L64.0042 542.651 Q64.0042 549.43 61.4897 552.008 Q58.9434 554.586 52.2594 554.586 L32.9077 554.586 L32.9077 558.883 L28.3562 558.883 L28.3562 554.586 L18.2347 554.586 L18.2347 548.698 Z\" fill=\"#000000\" fill-rule=\"evenodd\" fill-opacity=\"1\" /><circle clip-path=\"url(#clip962)\" cx=\"461.877\" cy=\"85.838\" r=\"14.4\" fill=\"#009af9\" fill-rule=\"evenodd\" fill-opacity=\"1\" stroke=\"#000000\" stroke-opacity=\"1\" stroke-width=\"3.2\"/>\n",
       "<circle clip-path=\"url(#clip962)\" cx=\"2297.68\" cy=\"1372.3\" r=\"14.4\" fill=\"#009af9\" fill-rule=\"evenodd\" fill-opacity=\"1\" stroke=\"#000000\" stroke-opacity=\"1\" stroke-width=\"3.2\"/>\n",
       "<path clip-path=\"url(#clip960)\" d=\"\n",
       "M2040.87 196.379 L2287.89 196.379 L2287.89 92.6992 L2040.87 92.6992  Z\n",
       "  \" fill=\"#ffffff\" fill-rule=\"evenodd\" fill-opacity=\"1\"/>\n",
       "<polyline clip-path=\"url(#clip960)\" style=\"stroke:#000000; stroke-linecap:round; stroke-linejoin:round; stroke-width:4; stroke-opacity:1; fill:none\" points=\"\n",
       "  2040.87,196.379 2287.89,196.379 2287.89,92.6992 2040.87,92.6992 2040.87,196.379 \n",
       "  \"/>\n",
       "<circle clip-path=\"url(#clip960)\" cx=\"2127.35\" cy=\"144.539\" r=\"23.04\" fill=\"#009af9\" fill-rule=\"evenodd\" fill-opacity=\"1\" stroke=\"#000000\" stroke-opacity=\"1\" stroke-width=\"5.12\"/>\n",
       "<path clip-path=\"url(#clip960)\" d=\"M2227.68 164.227 Q2225.88 168.856 2224.16 170.268 Q2222.45 171.68 2219.58 171.68 L2216.18 171.68 L2216.18 168.115 L2218.68 168.115 Q2220.44 168.115 2221.41 167.282 Q2222.38 166.449 2223.56 163.347 L2224.32 161.403 L2213.84 135.893 L2218.35 135.893 L2226.45 156.171 L2234.56 135.893 L2239.07 135.893 L2227.68 164.227 Z\" fill=\"#000000\" fill-rule=\"evenodd\" fill-opacity=\"1\" /><path clip-path=\"url(#clip960)\" d=\"M2246.36 157.884 L2254 157.884 L2254 131.518 L2245.69 133.185 L2245.69 128.926 L2253.95 127.259 L2258.63 127.259 L2258.63 157.884 L2266.27 157.884 L2266.27 161.819 L2246.36 161.819 L2246.36 157.884 Z\" fill=\"#000000\" fill-rule=\"evenodd\" fill-opacity=\"1\" /></svg>\n"
      ]
     },
     "execution_count": 329,
     "metadata": {},
     "output_type": "execute_result"
    }
   ],
   "source": [
    "x_axis = [EO1, EO2]\n",
    "y_axis = [SS2, SS1]\n",
    "\n",
    "# plot(x_axis, y_axis)\n",
    "# plot!(x_axis, y_axis, seriestype=:scatter)\n",
    "scatter(x_axis, y_axis)\n",
    "\n",
    "# title!(\"Over the whole supply chain (ϵ-constraint)\")\n",
    "xlabel!(\"Ecologically Safe\")\n",
    "ylabel!(\"Socially Just\")"
   ]
  },
  {
   "cell_type": "markdown",
   "id": "5c2aa1d3",
   "metadata": {},
   "source": [
    "----"
   ]
  },
  {
   "cell_type": "markdown",
   "id": "ebc06cb3",
   "metadata": {},
   "source": [
    "### Pareto Front Plot"
   ]
  },
  {
   "cell_type": "code",
   "execution_count": 330,
   "id": "e3f9bae8",
   "metadata": {},
   "outputs": [
    {
     "data": {
      "text/plain": [
       "cal_intm (generic function with 1 method)"
      ]
     },
     "execution_count": 330,
     "metadata": {},
     "output_type": "execute_result"
    }
   ],
   "source": [
    "function cal_intm(EO_m)\n",
    "    model = Model(Gurobi.Optimizer)\n",
    "    set_silent(model)\n",
    "    @variable(model, x[1:ncty, 1:nproc] >= 0)           \n",
    "    @variable(model, y[1:ncty, 1:ncty, 1:nproc] >= 0)\n",
    "    \n",
    "    for k in 1:nproc\n",
    "        for i in 1:ncty\n",
    "            @constraint(model, x[i,k] <= capacity[!, 2:end][i,k])\n",
    "        end\n",
    "    end\n",
    "\n",
    "    for k in 1:nproc\n",
    "        for i in 1:ncty\n",
    "            @constraint(model, sum(y[i,j,k] for j in 1:ncty) == x[i,k])\n",
    "        end\n",
    "    end\n",
    "\n",
    "    for i in 1:ncty\n",
    "        for j in [e for e in 1:ncty if e != mkt_loc]\n",
    "            @constraint(model, y[i,j,mkt_proc] == 0)\n",
    "        end\n",
    "    end\n",
    "\n",
    "    for k in 1:nproc-1\n",
    "        @constraint(model, sum(x[i,k] for i in 1:ncty) == input_amount[k])\n",
    "    end\n",
    "\n",
    "    @constraint(model, sum(y[i,mkt_loc,mkt_proc] for i in 1:ncty) == cell_demand)\n",
    "\n",
    "    for k in cathode\n",
    "        for j in 1:ncty\n",
    "            @constraint(model, sum(y[i,j,k] for i in 1:ncty) == x[j,5] * scaler[k])\n",
    "        end\n",
    "    end\n",
    "\n",
    "    for k in cell\n",
    "        for j in 1:ncty\n",
    "            @constraint(model, sum(y[i,j,k] for i in 1:ncty) == x[j,11] * scaler[k])\n",
    "        end\n",
    "    end\n",
    "\n",
    "    for k in noncell\n",
    "        for j in 1:ncty\n",
    "            @constraint(model, sum(y[i,j,k] for i in 1:ncty) == x[j,14] * scaler[k])\n",
    "        end\n",
    "    end\n",
    "\n",
    "    for k in battery\n",
    "        for j in 1:ncty\n",
    "            @constraint(model, sum(y[i,j,k] for i in 1:ncty) == x[j,15] * scaler[k])\n",
    "        end\n",
    "    end\n",
    "    \n",
    "    \n",
    "    \n",
    "    proD = (x .* Matrix(regional_EF[:,2:end])) * ones(nproc,1) \n",
    "    transD = Vector{AffExpr}(undef, ncty)\n",
    "    for j in 1:ncty\n",
    "        Temi = 0\n",
    "        for i in 1:ncty\n",
    "            amount = sum(y[i,j,k] for k in 1:nproc)\n",
    "            Temi += amount * distance[!, 2:end][i,j] * EF_trans\n",
    "        end\n",
    "        transD[j] = Temi\n",
    "    end    \n",
    "    \n",
    "    Allo_soc = proD ./ emission_c .* Dsoc\n",
    "    SS = Allo_soc - (proD + transD)\n",
    "    \n",
    "    @constraint(model, sum(proD + transD) >= (EO_m) * 0.99)\n",
    "    @constraint(model, sum(proD + transD) <= (EO_m) * 1.01)\n",
    "    \n",
    "    @objective(model, Min, sum(SS));\n",
    "    \n",
    "    JuMP.optimize!(model)\n",
    "#     opt_x = JuMP.value.(x)\n",
    "#     opt_y = JuMP.value.(y)\n",
    "    opt_obj = JuMP.objective_value(model)\n",
    "\n",
    "    return opt_obj\n",
    "\n",
    "end"
   ]
  },
  {
   "cell_type": "code",
   "execution_count": 331,
   "id": "d9c41ac2",
   "metadata": {},
   "outputs": [
    {
     "data": {
      "text/plain": [
       "ep_constraint (generic function with 1 method)"
      ]
     },
     "execution_count": 331,
     "metadata": {},
     "output_type": "execute_result"
    }
   ],
   "source": [
    "function ep_constraint(N)\n",
    "    \n",
    "    ep = (EO2 - EO1) / N\n",
    "    ls_ss = []\n",
    "    ls_eo = []\n",
    "    for i in 0:N\n",
    "        EO_m = EO1 + i*ep\n",
    "        obj_ss = cal_intm(EO_m)\n",
    "        push!(ls_ss, obj_ss)\n",
    "        push!(ls_eo, EO_m)\n",
    "    end\n",
    "    \n",
    "    return ls_ss, ls_eo\n",
    "end\n",
    "        "
   ]
  },
  {
   "cell_type": "code",
   "execution_count": 332,
   "id": "20c8b158",
   "metadata": {},
   "outputs": [
    {
     "name": "stdout",
     "output_type": "stream",
     "text": [
      "Academic license - for non-commercial use only - expires 2024-12-26\r\n",
      "Academic license - for non-commercial use only - expires 2024-12-26\r\n",
      "Academic license - for non-commercial use only - expires 2024-12-26\r\n",
      "Academic license - for non-commercial use only - expires 2024-12-26\r\n",
      "Academic license - for non-commercial use only - expires 2024-12-26\r\n"
     ]
    },
    {
     "data": {
      "text/plain": [
       "(Any[-8.612517865834503e6, -9.858822812748263e6, -1.0916196293454092e7, -1.1911578234276028e7, -1.254009123111362e7], Any[8.924891434436727e6, 1.0000633408498662e7, 1.1076375382560596e7, 1.215211735662253e7, 1.3227859330684464e7])"
      ]
     },
     "execution_count": 332,
     "metadata": {},
     "output_type": "execute_result"
    }
   ],
   "source": [
    "ls_ss, ls_eo = ep_constraint(4)"
   ]
  },
  {
   "cell_type": "code",
   "execution_count": 333,
   "id": "c3bab871",
   "metadata": {},
   "outputs": [
    {
     "data": {
      "image/svg+xml": [
       "<?xml version=\"1.0\" encoding=\"utf-8\"?>\n",
       "<svg xmlns=\"http://www.w3.org/2000/svg\" xmlns:xlink=\"http://www.w3.org/1999/xlink\" width=\"600\" height=\"400\" viewBox=\"0 0 2400 1600\">\n",
       "<defs>\n",
       "  <clipPath id=\"clip000\">\n",
       "    <rect x=\"0\" y=\"0\" width=\"2400\" height=\"1600\"/>\n",
       "  </clipPath>\n",
       "</defs>\n",
       "<path clip-path=\"url(#clip000)\" d=\"\n",
       "M0 1600 L2400 1600 L2400 0 L0 0  Z\n",
       "  \" fill=\"#ffffff\" fill-rule=\"evenodd\" fill-opacity=\"1\"/>\n",
       "<defs>\n",
       "  <clipPath id=\"clip001\">\n",
       "    <rect x=\"480\" y=\"0\" width=\"1681\" height=\"1600\"/>\n",
       "  </clipPath>\n",
       "</defs>\n",
       "<path clip-path=\"url(#clip000)\" d=\"\n",
       "M406.802 1410.9 L2352.76 1410.9 L2352.76 123.472 L406.802 123.472  Z\n",
       "  \" fill=\"#ffffff\" fill-rule=\"evenodd\" fill-opacity=\"1\"/>\n",
       "<defs>\n",
       "  <clipPath id=\"clip002\">\n",
       "    <rect x=\"406\" y=\"123\" width=\"1947\" height=\"1288\"/>\n",
       "  </clipPath>\n",
       "</defs>\n",
       "<polyline clip-path=\"url(#clip002)\" style=\"stroke:#000000; stroke-linecap:round; stroke-linejoin:round; stroke-width:2; stroke-opacity:0.1; fill:none\" points=\"\n",
       "  493.921,1410.9 493.921,123.472 \n",
       "  \"/>\n",
       "<polyline clip-path=\"url(#clip002)\" style=\"stroke:#000000; stroke-linecap:round; stroke-linejoin:round; stroke-width:2; stroke-opacity:0.1; fill:none\" points=\"\n",
       "  920.558,1410.9 920.558,123.472 \n",
       "  \"/>\n",
       "<polyline clip-path=\"url(#clip002)\" style=\"stroke:#000000; stroke-linecap:round; stroke-linejoin:round; stroke-width:2; stroke-opacity:0.1; fill:none\" points=\"\n",
       "  1347.19,1410.9 1347.19,123.472 \n",
       "  \"/>\n",
       "<polyline clip-path=\"url(#clip002)\" style=\"stroke:#000000; stroke-linecap:round; stroke-linejoin:round; stroke-width:2; stroke-opacity:0.1; fill:none\" points=\"\n",
       "  1773.83,1410.9 1773.83,123.472 \n",
       "  \"/>\n",
       "<polyline clip-path=\"url(#clip002)\" style=\"stroke:#000000; stroke-linecap:round; stroke-linejoin:round; stroke-width:2; stroke-opacity:0.1; fill:none\" points=\"\n",
       "  2200.47,1410.9 2200.47,123.472 \n",
       "  \"/>\n",
       "<polyline clip-path=\"url(#clip000)\" style=\"stroke:#000000; stroke-linecap:round; stroke-linejoin:round; stroke-width:4; stroke-opacity:1; fill:none\" points=\"\n",
       "  406.802,1410.9 2352.76,1410.9 \n",
       "  \"/>\n",
       "<polyline clip-path=\"url(#clip000)\" style=\"stroke:#000000; stroke-linecap:round; stroke-linejoin:round; stroke-width:4; stroke-opacity:1; fill:none\" points=\"\n",
       "  493.921,1410.9 493.921,1392 \n",
       "  \"/>\n",
       "<polyline clip-path=\"url(#clip000)\" style=\"stroke:#000000; stroke-linecap:round; stroke-linejoin:round; stroke-width:4; stroke-opacity:1; fill:none\" points=\"\n",
       "  920.558,1410.9 920.558,1392 \n",
       "  \"/>\n",
       "<polyline clip-path=\"url(#clip000)\" style=\"stroke:#000000; stroke-linecap:round; stroke-linejoin:round; stroke-width:4; stroke-opacity:1; fill:none\" points=\"\n",
       "  1347.19,1410.9 1347.19,1392 \n",
       "  \"/>\n",
       "<polyline clip-path=\"url(#clip000)\" style=\"stroke:#000000; stroke-linecap:round; stroke-linejoin:round; stroke-width:4; stroke-opacity:1; fill:none\" points=\"\n",
       "  1773.83,1410.9 1773.83,1392 \n",
       "  \"/>\n",
       "<polyline clip-path=\"url(#clip000)\" style=\"stroke:#000000; stroke-linecap:round; stroke-linejoin:round; stroke-width:4; stroke-opacity:1; fill:none\" points=\"\n",
       "  2200.47,1410.9 2200.47,1392 \n",
       "  \"/>\n",
       "<path clip-path=\"url(#clip000)\" d=\"M386.714 1488.24 L386.714 1483.98 Q388.474 1484.81 390.279 1485.25 Q392.085 1485.69 393.821 1485.69 Q398.45 1485.69 400.881 1482.59 Q403.335 1479.47 403.682 1473.12 Q402.339 1475.11 400.279 1476.18 Q398.219 1477.24 395.719 1477.24 Q390.534 1477.24 387.501 1474.12 Q384.492 1470.97 384.492 1465.53 Q384.492 1460.21 387.64 1456.99 Q390.788 1453.77 396.02 1453.77 Q402.015 1453.77 405.163 1458.38 Q408.335 1462.96 408.335 1471.71 Q408.335 1479.88 404.446 1484.77 Q400.58 1489.63 394.029 1489.63 Q392.27 1489.63 390.464 1489.28 Q388.659 1488.93 386.714 1488.24 M396.02 1473.59 Q399.168 1473.59 400.997 1471.43 Q402.848 1469.28 402.848 1465.53 Q402.848 1461.8 400.997 1459.65 Q399.168 1457.48 396.02 1457.48 Q392.872 1457.48 391.02 1459.65 Q389.191 1461.8 389.191 1465.53 Q389.191 1469.28 391.02 1471.43 Q392.872 1473.59 396.02 1473.59 Z\" fill=\"#000000\" fill-rule=\"evenodd\" fill-opacity=\"1\" /><path clip-path=\"url(#clip000)\" d=\"M416.737 1483.08 L421.621 1483.08 L421.621 1488.96 L416.737 1488.96 L416.737 1483.08 Z\" fill=\"#000000\" fill-rule=\"evenodd\" fill-opacity=\"1\" /><path clip-path=\"url(#clip000)\" d=\"M441.807 1457.48 Q438.195 1457.48 436.367 1461.04 Q434.561 1464.58 434.561 1471.71 Q434.561 1478.82 436.367 1482.38 Q438.195 1485.92 441.807 1485.92 Q445.441 1485.92 447.246 1482.38 Q449.075 1478.82 449.075 1471.71 Q449.075 1464.58 447.246 1461.04 Q445.441 1457.48 441.807 1457.48 M441.807 1453.77 Q447.617 1453.77 450.672 1458.38 Q453.751 1462.96 453.751 1471.71 Q453.751 1480.44 450.672 1485.04 Q447.617 1489.63 441.807 1489.63 Q435.996 1489.63 432.918 1485.04 Q429.862 1480.44 429.862 1471.71 Q429.862 1462.96 432.918 1458.38 Q435.996 1453.77 441.807 1453.77 Z\" fill=\"#000000\" fill-rule=\"evenodd\" fill-opacity=\"1\" /><path clip-path=\"url(#clip000)\" d=\"M471.968 1457.48 Q468.357 1457.48 466.529 1461.04 Q464.723 1464.58 464.723 1471.71 Q464.723 1478.82 466.529 1482.38 Q468.357 1485.92 471.968 1485.92 Q475.603 1485.92 477.408 1482.38 Q479.237 1478.82 479.237 1471.71 Q479.237 1464.58 477.408 1461.04 Q475.603 1457.48 471.968 1457.48 M471.968 1453.77 Q477.779 1453.77 480.834 1458.38 Q483.913 1462.96 483.913 1471.71 Q483.913 1480.44 480.834 1485.04 Q477.779 1489.63 471.968 1489.63 Q466.158 1489.63 463.08 1485.04 Q460.024 1480.44 460.024 1471.71 Q460.024 1462.96 463.08 1458.38 Q466.158 1453.77 471.968 1453.77 Z\" fill=\"#000000\" fill-rule=\"evenodd\" fill-opacity=\"1\" /><path clip-path=\"url(#clip000)\" d=\"M520.302 1463.49 L509.723 1474.12 L520.302 1484.7 L517.547 1487.5 L506.922 1476.87 L496.297 1487.5 L493.566 1484.7 L504.121 1474.12 L493.566 1463.49 L496.297 1460.69 L506.922 1471.32 L517.547 1460.69 L520.302 1463.49 Z\" fill=\"#000000\" fill-rule=\"evenodd\" fill-opacity=\"1\" /><path clip-path=\"url(#clip000)\" d=\"M532.663 1485.02 L540.301 1485.02 L540.301 1458.66 L531.991 1460.32 L531.991 1456.06 L540.255 1454.4 L544.931 1454.4 L544.931 1485.02 L552.57 1485.02 L552.57 1488.96 L532.663 1488.96 L532.663 1485.02 Z\" fill=\"#000000\" fill-rule=\"evenodd\" fill-opacity=\"1\" /><path clip-path=\"url(#clip000)\" d=\"M572.014 1457.48 Q568.403 1457.48 566.574 1461.04 Q564.769 1464.58 564.769 1471.71 Q564.769 1478.82 566.574 1482.38 Q568.403 1485.92 572.014 1485.92 Q575.648 1485.92 577.454 1482.38 Q579.283 1478.82 579.283 1471.71 Q579.283 1464.58 577.454 1461.04 Q575.648 1457.48 572.014 1457.48 M572.014 1453.77 Q577.824 1453.77 580.88 1458.38 Q583.959 1462.96 583.959 1471.71 Q583.959 1480.44 580.88 1485.04 Q577.824 1489.63 572.014 1489.63 Q566.204 1489.63 563.125 1485.04 Q560.07 1480.44 560.07 1471.71 Q560.07 1462.96 563.125 1458.38 Q566.204 1453.77 572.014 1453.77 Z\" fill=\"#000000\" fill-rule=\"evenodd\" fill-opacity=\"1\" /><path clip-path=\"url(#clip000)\" d=\"M593.983 1445.99 Q591.425 1445.99 589.921 1447.74 Q588.435 1449.49 588.435 1452.54 Q588.435 1455.57 589.921 1457.33 Q591.425 1459.08 593.983 1459.08 Q596.541 1459.08 598.027 1457.33 Q599.531 1455.57 599.531 1452.54 Q599.531 1449.49 598.027 1447.74 Q596.541 1445.99 593.983 1445.99 M601.525 1434.09 L601.525 1437.55 Q600.096 1436.87 598.629 1436.51 Q597.18 1436.16 595.751 1436.16 Q591.989 1436.16 589.996 1438.69 Q588.021 1441.23 587.739 1446.37 Q588.849 1444.73 590.522 1443.87 Q592.196 1442.98 594.209 1442.98 Q598.441 1442.98 600.886 1445.56 Q603.349 1448.12 603.349 1452.54 Q603.349 1456.86 600.792 1459.48 Q598.234 1462.09 593.983 1462.09 Q589.112 1462.09 586.535 1458.37 Q583.959 1454.62 583.959 1447.53 Q583.959 1440.88 587.118 1436.93 Q590.278 1432.96 595.601 1432.96 Q597.03 1432.96 598.478 1433.24 Q599.945 1433.52 601.525 1434.09 Z\" fill=\"#000000\" fill-rule=\"evenodd\" fill-opacity=\"1\" /><path clip-path=\"url(#clip000)\" d=\"M813.579 1485.02 L821.218 1485.02 L821.218 1458.66 L812.908 1460.32 L812.908 1456.06 L821.172 1454.4 L825.848 1454.4 L825.848 1485.02 L833.486 1485.02 L833.486 1488.96 L813.579 1488.96 L813.579 1485.02 Z\" fill=\"#000000\" fill-rule=\"evenodd\" fill-opacity=\"1\" /><path clip-path=\"url(#clip000)\" d=\"M842.931 1483.08 L847.815 1483.08 L847.815 1488.96 L842.931 1488.96 L842.931 1483.08 Z\" fill=\"#000000\" fill-rule=\"evenodd\" fill-opacity=\"1\" /><path clip-path=\"url(#clip000)\" d=\"M868 1457.48 Q864.389 1457.48 862.56 1461.04 Q860.755 1464.58 860.755 1471.71 Q860.755 1478.82 862.56 1482.38 Q864.389 1485.92 868 1485.92 Q871.634 1485.92 873.44 1482.38 Q875.269 1478.82 875.269 1471.71 Q875.269 1464.58 873.44 1461.04 Q871.634 1457.48 868 1457.48 M868 1453.77 Q873.81 1453.77 876.866 1458.38 Q879.944 1462.96 879.944 1471.71 Q879.944 1480.44 876.866 1485.04 Q873.81 1489.63 868 1489.63 Q862.19 1489.63 859.111 1485.04 Q856.056 1480.44 856.056 1471.71 Q856.056 1462.96 859.111 1458.38 Q862.19 1453.77 868 1453.77 Z\" fill=\"#000000\" fill-rule=\"evenodd\" fill-opacity=\"1\" /><path clip-path=\"url(#clip000)\" d=\"M898.162 1457.48 Q894.551 1457.48 892.722 1461.04 Q890.917 1464.58 890.917 1471.71 Q890.917 1478.82 892.722 1482.38 Q894.551 1485.92 898.162 1485.92 Q901.796 1485.92 903.602 1482.38 Q905.43 1478.82 905.43 1471.71 Q905.43 1464.58 903.602 1461.04 Q901.796 1457.48 898.162 1457.48 M898.162 1453.77 Q903.972 1453.77 907.028 1458.38 Q910.106 1462.96 910.106 1471.71 Q910.106 1480.44 907.028 1485.04 Q903.972 1489.63 898.162 1489.63 Q892.352 1489.63 889.273 1485.04 Q886.218 1480.44 886.218 1471.71 Q886.218 1462.96 889.273 1458.38 Q892.352 1453.77 898.162 1453.77 Z\" fill=\"#000000\" fill-rule=\"evenodd\" fill-opacity=\"1\" /><path clip-path=\"url(#clip000)\" d=\"M946.495 1463.49 L935.916 1474.12 L946.495 1484.7 L943.74 1487.5 L933.115 1476.87 L922.491 1487.5 L919.759 1484.7 L930.315 1474.12 L919.759 1463.49 L922.491 1460.69 L933.115 1471.32 L943.74 1460.69 L946.495 1463.49 Z\" fill=\"#000000\" fill-rule=\"evenodd\" fill-opacity=\"1\" /><path clip-path=\"url(#clip000)\" d=\"M958.856 1485.02 L966.495 1485.02 L966.495 1458.66 L958.185 1460.32 L958.185 1456.06 L966.449 1454.4 L971.125 1454.4 L971.125 1485.02 L978.763 1485.02 L978.763 1488.96 L958.856 1488.96 L958.856 1485.02 Z\" fill=\"#000000\" fill-rule=\"evenodd\" fill-opacity=\"1\" /><path clip-path=\"url(#clip000)\" d=\"M998.208 1457.48 Q994.597 1457.48 992.768 1461.04 Q990.962 1464.58 990.962 1471.71 Q990.962 1478.82 992.768 1482.38 Q994.597 1485.92 998.208 1485.92 Q1001.84 1485.92 1003.65 1482.38 Q1005.48 1478.82 1005.48 1471.71 Q1005.48 1464.58 1003.65 1461.04 Q1001.84 1457.48 998.208 1457.48 M998.208 1453.77 Q1004.02 1453.77 1007.07 1458.38 Q1010.15 1462.96 1010.15 1471.71 Q1010.15 1480.44 1007.07 1485.04 Q1004.02 1489.63 998.208 1489.63 Q992.398 1489.63 989.319 1485.04 Q986.263 1480.44 986.263 1471.71 Q986.263 1462.96 989.319 1458.38 Q992.398 1453.77 998.208 1453.77 Z\" fill=\"#000000\" fill-rule=\"evenodd\" fill-opacity=\"1\" /><path clip-path=\"url(#clip000)\" d=\"M1010.15 1433.47 L1028.21 1433.47 L1028.21 1435.08 L1018.01 1461.55 L1014.05 1461.55 L1023.64 1436.66 L1010.15 1436.66 L1010.15 1433.47 Z\" fill=\"#000000\" fill-rule=\"evenodd\" fill-opacity=\"1\" /><path clip-path=\"url(#clip000)\" d=\"M1240.22 1485.02 L1247.85 1485.02 L1247.85 1458.66 L1239.54 1460.32 L1239.54 1456.06 L1247.81 1454.4 L1252.48 1454.4 L1252.48 1485.02 L1260.12 1485.02 L1260.12 1488.96 L1240.22 1488.96 L1240.22 1485.02 Z\" fill=\"#000000\" fill-rule=\"evenodd\" fill-opacity=\"1\" /><path clip-path=\"url(#clip000)\" d=\"M1269.57 1483.08 L1274.45 1483.08 L1274.45 1488.96 L1269.57 1488.96 L1269.57 1483.08 Z\" fill=\"#000000\" fill-rule=\"evenodd\" fill-opacity=\"1\" /><path clip-path=\"url(#clip000)\" d=\"M1285.45 1485.02 L1293.09 1485.02 L1293.09 1458.66 L1284.78 1460.32 L1284.78 1456.06 L1293.04 1454.4 L1297.72 1454.4 L1297.72 1485.02 L1305.35 1485.02 L1305.35 1488.96 L1285.45 1488.96 L1285.45 1485.02 Z\" fill=\"#000000\" fill-rule=\"evenodd\" fill-opacity=\"1\" /><path clip-path=\"url(#clip000)\" d=\"M1324.8 1457.48 Q1321.19 1457.48 1319.36 1461.04 Q1317.55 1464.58 1317.55 1471.71 Q1317.55 1478.82 1319.36 1482.38 Q1321.19 1485.92 1324.8 1485.92 Q1328.43 1485.92 1330.24 1482.38 Q1332.07 1478.82 1332.07 1471.71 Q1332.07 1464.58 1330.24 1461.04 Q1328.43 1457.48 1324.8 1457.48 M1324.8 1453.77 Q1330.61 1453.77 1333.66 1458.38 Q1336.74 1462.96 1336.74 1471.71 Q1336.74 1480.44 1333.66 1485.04 Q1330.61 1489.63 1324.8 1489.63 Q1318.99 1489.63 1315.91 1485.04 Q1312.85 1480.44 1312.85 1471.71 Q1312.85 1462.96 1315.91 1458.38 Q1318.99 1453.77 1324.8 1453.77 Z\" fill=\"#000000\" fill-rule=\"evenodd\" fill-opacity=\"1\" /><path clip-path=\"url(#clip000)\" d=\"M1373.13 1463.49 L1362.55 1474.12 L1373.13 1484.7 L1370.38 1487.5 L1359.75 1476.87 L1349.13 1487.5 L1346.4 1484.7 L1356.95 1474.12 L1346.4 1463.49 L1349.13 1460.69 L1359.75 1471.32 L1370.38 1460.69 L1373.13 1463.49 Z\" fill=\"#000000\" fill-rule=\"evenodd\" fill-opacity=\"1\" /><path clip-path=\"url(#clip000)\" d=\"M1385.49 1485.02 L1393.13 1485.02 L1393.13 1458.66 L1384.82 1460.32 L1384.82 1456.06 L1393.09 1454.4 L1397.76 1454.4 L1397.76 1485.02 L1405.4 1485.02 L1405.4 1488.96 L1385.49 1488.96 L1385.49 1485.02 Z\" fill=\"#000000\" fill-rule=\"evenodd\" fill-opacity=\"1\" /><path clip-path=\"url(#clip000)\" d=\"M1424.84 1457.48 Q1421.23 1457.48 1419.4 1461.04 Q1417.6 1464.58 1417.6 1471.71 Q1417.6 1478.82 1419.4 1482.38 Q1421.23 1485.92 1424.84 1485.92 Q1428.48 1485.92 1430.28 1482.38 Q1432.11 1478.82 1432.11 1471.71 Q1432.11 1464.58 1430.28 1461.04 Q1428.48 1457.48 1424.84 1457.48 M1424.84 1453.77 Q1430.65 1453.77 1433.71 1458.38 Q1436.79 1462.96 1436.79 1471.71 Q1436.79 1480.44 1433.71 1485.04 Q1430.65 1489.63 1424.84 1489.63 Q1419.03 1489.63 1415.96 1485.04 Q1412.9 1480.44 1412.9 1471.71 Q1412.9 1462.96 1415.96 1458.38 Q1419.03 1453.77 1424.84 1453.77 Z\" fill=\"#000000\" fill-rule=\"evenodd\" fill-opacity=\"1\" /><path clip-path=\"url(#clip000)\" d=\"M1436.79 1433.47 L1454.84 1433.47 L1454.84 1435.08 L1444.65 1461.55 L1440.68 1461.55 L1450.27 1436.66 L1436.79 1436.66 L1436.79 1433.47 Z\" fill=\"#000000\" fill-rule=\"evenodd\" fill-opacity=\"1\" /><path clip-path=\"url(#clip000)\" d=\"M1666.85 1485.02 L1674.49 1485.02 L1674.49 1458.66 L1666.18 1460.32 L1666.18 1456.06 L1674.45 1454.4 L1679.12 1454.4 L1679.12 1485.02 L1686.76 1485.02 L1686.76 1488.96 L1666.85 1488.96 L1666.85 1485.02 Z\" fill=\"#000000\" fill-rule=\"evenodd\" fill-opacity=\"1\" /><path clip-path=\"url(#clip000)\" d=\"M1696.2 1483.08 L1701.09 1483.08 L1701.09 1488.96 L1696.2 1488.96 L1696.2 1483.08 Z\" fill=\"#000000\" fill-rule=\"evenodd\" fill-opacity=\"1\" /><path clip-path=\"url(#clip000)\" d=\"M1715.3 1485.02 L1731.62 1485.02 L1731.62 1488.96 L1709.68 1488.96 L1709.68 1485.02 Q1712.34 1482.27 1716.92 1477.64 Q1721.53 1472.98 1722.71 1471.64 Q1724.95 1469.12 1725.83 1467.38 Q1726.74 1465.62 1726.74 1463.93 Q1726.74 1461.18 1724.79 1459.44 Q1722.87 1457.71 1719.77 1457.71 Q1717.57 1457.71 1715.12 1458.47 Q1712.69 1459.23 1709.91 1460.79 L1709.91 1456.06 Q1712.73 1454.93 1715.19 1454.35 Q1717.64 1453.77 1719.68 1453.77 Q1725.05 1453.77 1728.24 1456.46 Q1731.44 1459.14 1731.44 1463.63 Q1731.44 1465.76 1730.63 1467.68 Q1729.84 1469.58 1727.73 1472.17 Q1727.15 1472.85 1724.05 1476.06 Q1720.95 1479.26 1715.3 1485.02 Z\" fill=\"#000000\" fill-rule=\"evenodd\" fill-opacity=\"1\" /><path clip-path=\"url(#clip000)\" d=\"M1751.44 1457.48 Q1747.82 1457.48 1746 1461.04 Q1744.19 1464.58 1744.19 1471.71 Q1744.19 1478.82 1746 1482.38 Q1747.82 1485.92 1751.44 1485.92 Q1755.07 1485.92 1756.88 1482.38 Q1758.7 1478.82 1758.7 1471.71 Q1758.7 1464.58 1756.88 1461.04 Q1755.07 1457.48 1751.44 1457.48 M1751.44 1453.77 Q1757.25 1453.77 1760.3 1458.38 Q1763.38 1462.96 1763.38 1471.71 Q1763.38 1480.44 1760.3 1485.04 Q1757.25 1489.63 1751.44 1489.63 Q1745.63 1489.63 1742.55 1485.04 Q1739.49 1480.44 1739.49 1471.71 Q1739.49 1462.96 1742.55 1458.38 Q1745.63 1453.77 1751.44 1453.77 Z\" fill=\"#000000\" fill-rule=\"evenodd\" fill-opacity=\"1\" /><path clip-path=\"url(#clip000)\" d=\"M1799.77 1463.49 L1789.19 1474.12 L1799.77 1484.7 L1797.01 1487.5 L1786.39 1476.87 L1775.76 1487.5 L1773.03 1484.7 L1783.59 1474.12 L1773.03 1463.49 L1775.76 1460.69 L1786.39 1471.32 L1797.01 1460.69 L1799.77 1463.49 Z\" fill=\"#000000\" fill-rule=\"evenodd\" fill-opacity=\"1\" /><path clip-path=\"url(#clip000)\" d=\"M1812.13 1485.02 L1819.77 1485.02 L1819.77 1458.66 L1811.46 1460.32 L1811.46 1456.06 L1819.72 1454.4 L1824.4 1454.4 L1824.4 1485.02 L1832.04 1485.02 L1832.04 1488.96 L1812.13 1488.96 L1812.13 1485.02 Z\" fill=\"#000000\" fill-rule=\"evenodd\" fill-opacity=\"1\" /><path clip-path=\"url(#clip000)\" d=\"M1851.48 1457.48 Q1847.87 1457.48 1846.04 1461.04 Q1844.24 1464.58 1844.24 1471.71 Q1844.24 1478.82 1846.04 1482.38 Q1847.87 1485.92 1851.48 1485.92 Q1855.12 1485.92 1856.92 1482.38 Q1858.75 1478.82 1858.75 1471.71 Q1858.75 1464.58 1856.92 1461.04 Q1855.12 1457.48 1851.48 1457.48 M1851.48 1453.77 Q1857.29 1453.77 1860.35 1458.38 Q1863.43 1462.96 1863.43 1471.71 Q1863.43 1480.44 1860.35 1485.04 Q1857.29 1489.63 1851.48 1489.63 Q1845.67 1489.63 1842.59 1485.04 Q1839.54 1480.44 1839.54 1471.71 Q1839.54 1462.96 1842.59 1458.38 Q1845.67 1453.77 1851.48 1453.77 Z\" fill=\"#000000\" fill-rule=\"evenodd\" fill-opacity=\"1\" /><path clip-path=\"url(#clip000)\" d=\"M1863.43 1433.47 L1881.48 1433.47 L1881.48 1435.08 L1871.29 1461.55 L1867.32 1461.55 L1876.91 1436.66 L1863.43 1436.66 L1863.43 1433.47 Z\" fill=\"#000000\" fill-rule=\"evenodd\" fill-opacity=\"1\" /><path clip-path=\"url(#clip000)\" d=\"M2093.49 1485.02 L2101.13 1485.02 L2101.13 1458.66 L2092.82 1460.32 L2092.82 1456.06 L2101.08 1454.4 L2105.76 1454.4 L2105.76 1485.02 L2113.4 1485.02 L2113.4 1488.96 L2093.49 1488.96 L2093.49 1485.02 Z\" fill=\"#000000\" fill-rule=\"evenodd\" fill-opacity=\"1\" /><path clip-path=\"url(#clip000)\" d=\"M2122.84 1483.08 L2127.73 1483.08 L2127.73 1488.96 L2122.84 1488.96 L2122.84 1483.08 Z\" fill=\"#000000\" fill-rule=\"evenodd\" fill-opacity=\"1\" /><path clip-path=\"url(#clip000)\" d=\"M2152.08 1470.32 Q2155.43 1471.04 2157.31 1473.31 Q2159.21 1475.58 2159.21 1478.91 Q2159.21 1484.03 2155.69 1486.83 Q2152.17 1489.63 2145.69 1489.63 Q2143.51 1489.63 2141.2 1489.19 Q2138.91 1488.77 2136.45 1487.91 L2136.45 1483.4 Q2138.4 1484.54 2140.71 1485.11 Q2143.03 1485.69 2145.55 1485.69 Q2149.95 1485.69 2152.24 1483.96 Q2154.55 1482.22 2154.55 1478.91 Q2154.55 1475.85 2152.4 1474.14 Q2150.27 1472.41 2146.45 1472.41 L2142.42 1472.41 L2142.42 1468.56 L2146.64 1468.56 Q2150.09 1468.56 2151.92 1467.2 Q2153.74 1465.81 2153.74 1463.22 Q2153.74 1460.55 2151.85 1459.14 Q2149.97 1457.71 2146.45 1457.71 Q2144.53 1457.71 2142.33 1458.12 Q2140.13 1458.54 2137.49 1459.42 L2137.49 1455.25 Q2140.16 1454.51 2142.47 1454.14 Q2144.81 1453.77 2146.87 1453.77 Q2152.19 1453.77 2155.3 1456.2 Q2158.4 1458.61 2158.4 1462.73 Q2158.4 1465.6 2156.75 1467.59 Q2155.11 1469.56 2152.08 1470.32 Z\" fill=\"#000000\" fill-rule=\"evenodd\" fill-opacity=\"1\" /><path clip-path=\"url(#clip000)\" d=\"M2178.07 1457.48 Q2174.46 1457.48 2172.63 1461.04 Q2170.83 1464.58 2170.83 1471.71 Q2170.83 1478.82 2172.63 1482.38 Q2174.46 1485.92 2178.07 1485.92 Q2181.71 1485.92 2183.51 1482.38 Q2185.34 1478.82 2185.34 1471.71 Q2185.34 1464.58 2183.51 1461.04 Q2181.71 1457.48 2178.07 1457.48 M2178.07 1453.77 Q2183.88 1453.77 2186.94 1458.38 Q2190.02 1462.96 2190.02 1471.71 Q2190.02 1480.44 2186.94 1485.04 Q2183.88 1489.63 2178.07 1489.63 Q2172.26 1489.63 2169.18 1485.04 Q2166.13 1480.44 2166.13 1471.71 Q2166.13 1462.96 2169.18 1458.38 Q2172.26 1453.77 2178.07 1453.77 Z\" fill=\"#000000\" fill-rule=\"evenodd\" fill-opacity=\"1\" /><path clip-path=\"url(#clip000)\" d=\"M2226.41 1463.49 L2215.83 1474.12 L2226.41 1484.7 L2223.65 1487.5 L2213.03 1476.87 L2202.4 1487.5 L2199.67 1484.7 L2210.23 1474.12 L2199.67 1463.49 L2202.4 1460.69 L2213.03 1471.32 L2223.65 1460.69 L2226.41 1463.49 Z\" fill=\"#000000\" fill-rule=\"evenodd\" fill-opacity=\"1\" /><path clip-path=\"url(#clip000)\" d=\"M2238.77 1485.02 L2246.41 1485.02 L2246.41 1458.66 L2238.1 1460.32 L2238.1 1456.06 L2246.36 1454.4 L2251.04 1454.4 L2251.04 1485.02 L2258.67 1485.02 L2258.67 1488.96 L2238.77 1488.96 L2238.77 1485.02 Z\" fill=\"#000000\" fill-rule=\"evenodd\" fill-opacity=\"1\" /><path clip-path=\"url(#clip000)\" d=\"M2278.12 1457.48 Q2274.51 1457.48 2272.68 1461.04 Q2270.87 1464.58 2270.87 1471.71 Q2270.87 1478.82 2272.68 1482.38 Q2274.51 1485.92 2278.12 1485.92 Q2281.75 1485.92 2283.56 1482.38 Q2285.39 1478.82 2285.39 1471.71 Q2285.39 1464.58 2283.56 1461.04 Q2281.75 1457.48 2278.12 1457.48 M2278.12 1453.77 Q2283.93 1453.77 2286.98 1458.38 Q2290.06 1462.96 2290.06 1471.71 Q2290.06 1480.44 2286.98 1485.04 Q2283.93 1489.63 2278.12 1489.63 Q2272.31 1489.63 2269.23 1485.04 Q2266.17 1480.44 2266.17 1471.71 Q2266.17 1462.96 2269.23 1458.38 Q2272.31 1453.77 2278.12 1453.77 Z\" fill=\"#000000\" fill-rule=\"evenodd\" fill-opacity=\"1\" /><path clip-path=\"url(#clip000)\" d=\"M2290.06 1433.47 L2308.12 1433.47 L2308.12 1435.08 L2297.92 1461.55 L2293.96 1461.55 L2303.55 1436.66 L2290.06 1436.66 L2290.06 1433.47 Z\" fill=\"#000000\" fill-rule=\"evenodd\" fill-opacity=\"1\" /><path clip-path=\"url(#clip000)\" d=\"M1109.68 1526.67 L1139.73 1526.67 L1139.73 1532.08 L1116.11 1532.08 L1116.11 1546.14 L1138.74 1546.14 L1138.74 1551.56 L1116.11 1551.56 L1116.11 1568.77 L1140.3 1568.77 L1140.3 1574.19 L1109.68 1574.19 L1109.68 1526.67 Z\" fill=\"#000000\" fill-rule=\"evenodd\" fill-opacity=\"1\" /><path clip-path=\"url(#clip000)\" d=\"M1176.27 1539.91 L1176.27 1545.38 Q1173.78 1544.01 1171.27 1543.34 Q1168.79 1542.64 1166.24 1542.64 Q1160.54 1542.64 1157.39 1546.27 Q1154.24 1549.87 1154.24 1556.39 Q1154.24 1562.92 1157.39 1566.55 Q1160.54 1570.14 1166.24 1570.14 Q1168.79 1570.14 1171.27 1569.47 Q1173.78 1568.77 1176.27 1567.41 L1176.27 1572.82 Q1173.82 1573.96 1171.17 1574.54 Q1168.57 1575.11 1165.6 1575.11 Q1157.55 1575.11 1152.81 1570.05 Q1148.07 1564.99 1148.07 1556.39 Q1148.07 1547.67 1152.84 1542.68 Q1157.65 1537.68 1165.99 1537.68 Q1168.69 1537.68 1171.27 1538.25 Q1173.85 1538.79 1176.27 1539.91 Z\" fill=\"#000000\" fill-rule=\"evenodd\" fill-opacity=\"1\" /><path clip-path=\"url(#clip000)\" d=\"M1200.27 1542.64 Q1195.56 1542.64 1192.82 1546.34 Q1190.08 1550 1190.08 1556.39 Q1190.08 1562.79 1192.79 1566.48 Q1195.52 1570.14 1200.27 1570.14 Q1204.95 1570.14 1207.68 1566.45 Q1210.42 1562.76 1210.42 1556.39 Q1210.42 1550.06 1207.68 1546.37 Q1204.95 1542.64 1200.27 1542.64 M1200.27 1537.68 Q1207.91 1537.68 1212.27 1542.64 Q1216.63 1547.61 1216.63 1556.39 Q1216.63 1565.15 1212.27 1570.14 Q1207.91 1575.11 1200.27 1575.11 Q1192.6 1575.11 1188.24 1570.14 Q1183.91 1565.15 1183.91 1556.39 Q1183.91 1547.61 1188.24 1542.64 Q1192.6 1537.68 1200.27 1537.68 Z\" fill=\"#000000\" fill-rule=\"evenodd\" fill-opacity=\"1\" /><path clip-path=\"url(#clip000)\" d=\"M1226.33 1524.66 L1232.19 1524.66 L1232.19 1574.19 L1226.33 1574.19 L1226.33 1524.66 Z\" fill=\"#000000\" fill-rule=\"evenodd\" fill-opacity=\"1\" /><path clip-path=\"url(#clip000)\" d=\"M1258.26 1542.64 Q1253.55 1542.64 1250.81 1546.34 Q1248.07 1550 1248.07 1556.39 Q1248.07 1562.79 1250.78 1566.48 Q1253.52 1570.14 1258.26 1570.14 Q1262.94 1570.14 1265.67 1566.45 Q1268.41 1562.76 1268.41 1556.39 Q1268.41 1550.06 1265.67 1546.37 Q1262.94 1542.64 1258.26 1542.64 M1258.26 1537.68 Q1265.9 1537.68 1270.26 1542.64 Q1274.62 1547.61 1274.62 1556.39 Q1274.62 1565.15 1270.26 1570.14 Q1265.9 1575.11 1258.26 1575.11 Q1250.59 1575.11 1246.23 1570.14 Q1241.9 1565.15 1241.9 1556.39 Q1241.9 1547.61 1246.23 1542.64 Q1250.59 1537.68 1258.26 1537.68 Z\" fill=\"#000000\" fill-rule=\"evenodd\" fill-opacity=\"1\" /><path clip-path=\"url(#clip000)\" d=\"M1307.78 1555.95 Q1307.78 1549.58 1305.14 1546.08 Q1302.53 1542.58 1297.79 1542.58 Q1293.08 1542.58 1290.44 1546.08 Q1287.83 1549.58 1287.83 1555.95 Q1287.83 1562.28 1290.44 1565.78 Q1293.08 1569.28 1297.79 1569.28 Q1302.53 1569.28 1305.14 1565.78 Q1307.78 1562.28 1307.78 1555.95 M1313.64 1569.76 Q1313.64 1578.86 1309.6 1583.29 Q1305.56 1587.74 1297.22 1587.74 Q1294.13 1587.74 1291.39 1587.27 Q1288.65 1586.82 1286.08 1585.87 L1286.08 1580.17 Q1288.65 1581.57 1291.17 1582.24 Q1293.68 1582.91 1296.29 1582.91 Q1302.05 1582.91 1304.92 1579.88 Q1307.78 1576.89 1307.78 1570.81 L1307.78 1567.92 Q1305.97 1571.07 1303.14 1572.63 Q1300.3 1574.19 1296.36 1574.19 Q1289.8 1574.19 1285.79 1569.19 Q1281.78 1564.19 1281.78 1555.95 Q1281.78 1547.67 1285.79 1542.68 Q1289.8 1537.68 1296.36 1537.68 Q1300.3 1537.68 1303.14 1539.24 Q1305.97 1540.8 1307.78 1543.95 L1307.78 1538.54 L1313.64 1538.54 L1313.64 1569.76 Z\" fill=\"#000000\" fill-rule=\"evenodd\" fill-opacity=\"1\" /><path clip-path=\"url(#clip000)\" d=\"M1325.7 1538.54 L1331.56 1538.54 L1331.56 1574.19 L1325.7 1574.19 L1325.7 1538.54 M1325.7 1524.66 L1331.56 1524.66 L1331.56 1532.08 L1325.7 1532.08 L1325.7 1524.66 Z\" fill=\"#000000\" fill-rule=\"evenodd\" fill-opacity=\"1\" /><path clip-path=\"url(#clip000)\" d=\"M1369.47 1539.91 L1369.47 1545.38 Q1366.98 1544.01 1364.47 1543.34 Q1361.99 1542.64 1359.44 1542.64 Q1353.74 1542.64 1350.59 1546.27 Q1347.44 1549.87 1347.44 1556.39 Q1347.44 1562.92 1350.59 1566.55 Q1353.74 1570.14 1359.44 1570.14 Q1361.99 1570.14 1364.47 1569.47 Q1366.98 1568.77 1369.47 1567.41 L1369.47 1572.82 Q1367.02 1573.96 1364.37 1574.54 Q1361.76 1575.11 1358.8 1575.11 Q1350.75 1575.11 1346.01 1570.05 Q1341.27 1564.99 1341.27 1556.39 Q1341.27 1547.67 1346.04 1542.68 Q1350.85 1537.68 1359.19 1537.68 Q1361.89 1537.68 1364.47 1538.25 Q1367.05 1538.79 1369.47 1539.91 Z\" fill=\"#000000\" fill-rule=\"evenodd\" fill-opacity=\"1\" /><path clip-path=\"url(#clip000)\" d=\"M1395.85 1556.27 Q1388.75 1556.27 1386.02 1557.89 Q1383.28 1559.51 1383.28 1563.43 Q1383.28 1566.55 1385.32 1568.39 Q1387.39 1570.21 1390.92 1570.21 Q1395.79 1570.21 1398.72 1566.77 Q1401.68 1563.3 1401.68 1557.57 L1401.68 1556.27 L1395.85 1556.27 M1407.53 1553.85 L1407.53 1574.19 L1401.68 1574.19 L1401.68 1568.77 Q1399.67 1572.02 1396.68 1573.58 Q1393.69 1575.11 1389.36 1575.11 Q1383.89 1575.11 1380.64 1572.05 Q1377.42 1568.97 1377.42 1563.81 Q1377.42 1557.79 1381.43 1554.74 Q1385.48 1551.68 1393.47 1551.68 L1401.68 1551.68 L1401.68 1551.11 Q1401.68 1547.07 1399 1544.87 Q1396.36 1542.64 1391.56 1542.64 Q1388.5 1542.64 1385.6 1543.38 Q1382.71 1544.11 1380.03 1545.57 L1380.03 1540.16 Q1383.25 1538.92 1386.27 1538.31 Q1389.3 1537.68 1392.16 1537.68 Q1399.89 1537.68 1403.71 1541.69 Q1407.53 1545.7 1407.53 1553.85 Z\" fill=\"#000000\" fill-rule=\"evenodd\" fill-opacity=\"1\" /><path clip-path=\"url(#clip000)\" d=\"M1419.6 1524.66 L1425.45 1524.66 L1425.45 1574.19 L1419.6 1574.19 L1419.6 1524.66 Z\" fill=\"#000000\" fill-rule=\"evenodd\" fill-opacity=\"1\" /><path clip-path=\"url(#clip000)\" d=\"M1437.71 1524.66 L1443.56 1524.66 L1443.56 1574.19 L1437.71 1574.19 L1437.71 1524.66 Z\" fill=\"#000000\" fill-rule=\"evenodd\" fill-opacity=\"1\" /><path clip-path=\"url(#clip000)\" d=\"M1470.65 1577.5 Q1468.17 1583.86 1465.81 1585.8 Q1463.46 1587.74 1459.51 1587.74 L1454.83 1587.74 L1454.83 1582.84 L1458.27 1582.84 Q1460.69 1582.84 1462.02 1581.7 Q1463.36 1580.55 1464.98 1576.29 L1466.03 1573.61 L1451.62 1538.54 L1457.82 1538.54 L1468.96 1566.42 L1480.1 1538.54 L1486.31 1538.54 L1470.65 1577.5 Z\" fill=\"#000000\" fill-rule=\"evenodd\" fill-opacity=\"1\" /><path clip-path=\"url(#clip000)\" d=\"M1543.86 1528.23 L1543.86 1534.5 Q1540.19 1532.74 1536.95 1531.89 Q1533.7 1531.03 1530.68 1531.03 Q1525.43 1531.03 1522.56 1533.06 Q1519.73 1535.1 1519.73 1538.86 Q1519.73 1542.01 1521.61 1543.63 Q1523.52 1545.22 1528.8 1546.21 L1532.68 1547 Q1539.88 1548.37 1543.28 1551.84 Q1546.72 1555.28 1546.72 1561.07 Q1546.72 1567.98 1542.07 1571.54 Q1537.46 1575.11 1528.51 1575.11 Q1525.14 1575.11 1521.32 1574.34 Q1517.53 1573.58 1513.46 1572.08 L1513.46 1565.46 Q1517.37 1567.66 1521.13 1568.77 Q1524.89 1569.89 1528.51 1569.89 Q1534.02 1569.89 1537.01 1567.72 Q1540 1565.56 1540 1561.55 Q1540 1558.05 1537.84 1556.08 Q1535.71 1554.1 1530.81 1553.11 L1526.89 1552.35 Q1519.7 1550.92 1516.48 1547.86 Q1513.27 1544.81 1513.27 1539.37 Q1513.27 1533.06 1517.69 1529.43 Q1522.15 1525.81 1529.95 1525.81 Q1533.29 1525.81 1536.76 1526.41 Q1540.23 1527.02 1543.86 1528.23 Z\" fill=\"#000000\" fill-rule=\"evenodd\" fill-opacity=\"1\" /><path clip-path=\"url(#clip000)\" d=\"M1572.69 1556.27 Q1565.59 1556.27 1562.86 1557.89 Q1560.12 1559.51 1560.12 1563.43 Q1560.12 1566.55 1562.16 1568.39 Q1564.23 1570.21 1567.76 1570.21 Q1572.63 1570.21 1575.56 1566.77 Q1578.52 1563.3 1578.52 1557.57 L1578.52 1556.27 L1572.69 1556.27 M1584.37 1553.85 L1584.37 1574.19 L1578.52 1574.19 L1578.52 1568.77 Q1576.51 1572.02 1573.52 1573.58 Q1570.53 1575.11 1566.2 1575.11 Q1560.72 1575.11 1557.48 1572.05 Q1554.26 1568.97 1554.26 1563.81 Q1554.26 1557.79 1558.27 1554.74 Q1562.32 1551.68 1570.3 1551.68 L1578.52 1551.68 L1578.52 1551.11 Q1578.52 1547.07 1575.84 1544.87 Q1573.2 1542.64 1568.4 1542.64 Q1565.34 1542.64 1562.44 1543.38 Q1559.55 1544.11 1556.87 1545.57 L1556.87 1540.16 Q1560.09 1538.92 1563.11 1538.31 Q1566.14 1537.68 1569 1537.68 Q1576.73 1537.68 1580.55 1541.69 Q1584.37 1545.7 1584.37 1553.85 Z\" fill=\"#000000\" fill-rule=\"evenodd\" fill-opacity=\"1\" /><path clip-path=\"url(#clip000)\" d=\"M1614.48 1524.66 L1614.48 1529.53 L1608.88 1529.53 Q1605.73 1529.53 1604.49 1530.8 Q1603.28 1532.08 1603.28 1535.39 L1603.28 1538.54 L1612.92 1538.54 L1612.92 1543.09 L1603.28 1543.09 L1603.28 1574.19 L1597.39 1574.19 L1597.39 1543.09 L1591.79 1543.09 L1591.79 1538.54 L1597.39 1538.54 L1597.39 1536.05 Q1597.39 1530.1 1600.16 1527.4 Q1602.93 1524.66 1608.94 1524.66 L1614.48 1524.66 Z\" fill=\"#000000\" fill-rule=\"evenodd\" fill-opacity=\"1\" /><path clip-path=\"url(#clip000)\" d=\"M1649.88 1554.9 L1649.88 1557.76 L1622.95 1557.76 Q1623.33 1563.81 1626.58 1566.99 Q1629.86 1570.14 1635.68 1570.14 Q1639.05 1570.14 1642.21 1569.32 Q1645.39 1568.49 1648.51 1566.83 L1648.51 1572.37 Q1645.36 1573.71 1642.05 1574.41 Q1638.74 1575.11 1635.33 1575.11 Q1626.8 1575.11 1621.8 1570.14 Q1616.84 1565.18 1616.84 1556.71 Q1616.84 1547.96 1621.55 1542.83 Q1626.29 1537.68 1634.31 1537.68 Q1641.51 1537.68 1645.67 1542.33 Q1649.88 1546.94 1649.88 1554.9 M1644.02 1553.18 Q1643.96 1548.37 1641.31 1545.51 Q1638.7 1542.64 1634.38 1542.64 Q1629.47 1542.64 1626.51 1545.41 Q1623.59 1548.18 1623.14 1553.21 L1644.02 1553.18 Z\" fill=\"#000000\" fill-rule=\"evenodd\" fill-opacity=\"1\" /><polyline clip-path=\"url(#clip002)\" style=\"stroke:#000000; stroke-linecap:round; stroke-linejoin:round; stroke-width:2; stroke-opacity:0.1; fill:none\" points=\"\n",
       "  406.802,1207.44 2352.76,1207.44 \n",
       "  \"/>\n",
       "<polyline clip-path=\"url(#clip002)\" style=\"stroke:#000000; stroke-linecap:round; stroke-linejoin:round; stroke-width:2; stroke-opacity:0.1; fill:none\" points=\"\n",
       "  406.802,898.207 2352.76,898.207 \n",
       "  \"/>\n",
       "<polyline clip-path=\"url(#clip002)\" style=\"stroke:#000000; stroke-linecap:round; stroke-linejoin:round; stroke-width:2; stroke-opacity:0.1; fill:none\" points=\"\n",
       "  406.802,588.97 2352.76,588.97 \n",
       "  \"/>\n",
       "<polyline clip-path=\"url(#clip002)\" style=\"stroke:#000000; stroke-linecap:round; stroke-linejoin:round; stroke-width:2; stroke-opacity:0.1; fill:none\" points=\"\n",
       "  406.802,279.733 2352.76,279.733 \n",
       "  \"/>\n",
       "<polyline clip-path=\"url(#clip000)\" style=\"stroke:#000000; stroke-linecap:round; stroke-linejoin:round; stroke-width:4; stroke-opacity:1; fill:none\" points=\"\n",
       "  406.802,1410.9 406.802,123.472 \n",
       "  \"/>\n",
       "<polyline clip-path=\"url(#clip000)\" style=\"stroke:#000000; stroke-linecap:round; stroke-linejoin:round; stroke-width:4; stroke-opacity:1; fill:none\" points=\"\n",
       "  406.802,1207.44 425.7,1207.44 \n",
       "  \"/>\n",
       "<polyline clip-path=\"url(#clip000)\" style=\"stroke:#000000; stroke-linecap:round; stroke-linejoin:round; stroke-width:4; stroke-opacity:1; fill:none\" points=\"\n",
       "  406.802,898.207 425.7,898.207 \n",
       "  \"/>\n",
       "<polyline clip-path=\"url(#clip000)\" style=\"stroke:#000000; stroke-linecap:round; stroke-linejoin:round; stroke-width:4; stroke-opacity:1; fill:none\" points=\"\n",
       "  406.802,588.97 425.7,588.97 \n",
       "  \"/>\n",
       "<polyline clip-path=\"url(#clip000)\" style=\"stroke:#000000; stroke-linecap:round; stroke-linejoin:round; stroke-width:4; stroke-opacity:1; fill:none\" points=\"\n",
       "  406.802,279.733 425.7,279.733 \n",
       "  \"/>\n",
       "<path clip-path=\"url(#clip000)\" d=\"M115.596 1214.34 L145.271 1214.34 L145.271 1218.28 L115.596 1218.28 L115.596 1214.34 Z\" fill=\"#000000\" fill-rule=\"evenodd\" fill-opacity=\"1\" /><path clip-path=\"url(#clip000)\" d=\"M156.174 1227.24 L163.813 1227.24 L163.813 1200.87 L155.503 1202.54 L155.503 1198.28 L163.767 1196.61 L168.442 1196.61 L168.442 1227.24 L176.081 1227.24 L176.081 1231.17 L156.174 1231.17 L156.174 1227.24 Z\" fill=\"#000000\" fill-rule=\"evenodd\" fill-opacity=\"1\" /><path clip-path=\"url(#clip000)\" d=\"M185.526 1225.29 L190.41 1225.29 L190.41 1231.17 L185.526 1231.17 L185.526 1225.29 Z\" fill=\"#000000\" fill-rule=\"evenodd\" fill-opacity=\"1\" /><path clip-path=\"url(#clip000)\" d=\"M204.623 1227.24 L220.942 1227.24 L220.942 1231.17 L198.998 1231.17 L198.998 1227.24 Q201.66 1224.48 206.243 1219.85 Q210.85 1215.2 212.03 1213.86 Q214.276 1211.33 215.155 1209.6 Q216.058 1207.84 216.058 1206.15 Q216.058 1203.39 214.113 1201.66 Q212.192 1199.92 209.09 1199.92 Q206.891 1199.92 204.438 1200.69 Q202.007 1201.45 199.229 1203 L199.229 1198.28 Q202.053 1197.14 204.507 1196.57 Q206.961 1195.99 208.998 1195.99 Q214.368 1195.99 217.563 1198.67 Q220.757 1201.36 220.757 1205.85 Q220.757 1207.98 219.947 1209.9 Q219.16 1211.8 217.053 1214.39 Q216.475 1215.06 213.373 1218.28 Q210.271 1221.47 204.623 1227.24 Z\" fill=\"#000000\" fill-rule=\"evenodd\" fill-opacity=\"1\" /><path clip-path=\"url(#clip000)\" d=\"M240.757 1199.69 Q237.146 1199.69 235.317 1203.25 Q233.512 1206.8 233.512 1213.93 Q233.512 1221.03 235.317 1224.6 Q237.146 1228.14 240.757 1228.14 Q244.391 1228.14 246.197 1224.6 Q248.025 1221.03 248.025 1213.93 Q248.025 1206.8 246.197 1203.25 Q244.391 1199.69 240.757 1199.69 M240.757 1195.99 Q246.567 1195.99 249.623 1200.59 Q252.701 1205.18 252.701 1213.93 Q252.701 1222.65 249.623 1227.26 Q246.567 1231.84 240.757 1231.84 Q234.947 1231.84 231.868 1227.26 Q228.812 1222.65 228.812 1213.93 Q228.812 1205.18 231.868 1200.59 Q234.947 1195.99 240.757 1195.99 Z\" fill=\"#000000\" fill-rule=\"evenodd\" fill-opacity=\"1\" /><path clip-path=\"url(#clip000)\" d=\"M289.09 1205.71 L278.511 1216.33 L289.09 1226.91 L286.335 1229.71 L275.71 1219.09 L265.085 1229.71 L262.354 1226.91 L272.909 1216.33 L262.354 1205.71 L265.085 1202.91 L275.71 1213.53 L286.335 1202.91 L289.09 1205.71 Z\" fill=\"#000000\" fill-rule=\"evenodd\" fill-opacity=\"1\" /><path clip-path=\"url(#clip000)\" d=\"M301.451 1227.24 L309.09 1227.24 L309.09 1200.87 L300.78 1202.54 L300.78 1198.28 L309.044 1196.61 L313.719 1196.61 L313.719 1227.24 L321.358 1227.24 L321.358 1231.17 L301.451 1231.17 L301.451 1227.24 Z\" fill=\"#000000\" fill-rule=\"evenodd\" fill-opacity=\"1\" /><path clip-path=\"url(#clip000)\" d=\"M340.803 1199.69 Q337.192 1199.69 335.363 1203.25 Q333.557 1206.8 333.557 1213.93 Q333.557 1221.03 335.363 1224.6 Q337.192 1228.14 340.803 1228.14 Q344.437 1228.14 346.242 1224.6 Q348.071 1221.03 348.071 1213.93 Q348.071 1206.8 346.242 1203.25 Q344.437 1199.69 340.803 1199.69 M340.803 1195.99 Q346.613 1195.99 349.668 1200.59 Q352.747 1205.18 352.747 1213.93 Q352.747 1222.65 349.668 1227.26 Q346.613 1231.84 340.803 1231.84 Q334.992 1231.84 331.914 1227.26 Q328.858 1222.65 328.858 1213.93 Q328.858 1205.18 331.914 1200.59 Q334.992 1195.99 340.803 1195.99 Z\" fill=\"#000000\" fill-rule=\"evenodd\" fill-opacity=\"1\" /><path clip-path=\"url(#clip000)\" d=\"M352.747 1175.68 L370.802 1175.68 L370.802 1177.3 L360.609 1203.76 L356.64 1203.76 L366.232 1178.88 L352.747 1178.88 L352.747 1175.68 Z\" fill=\"#000000\" fill-rule=\"evenodd\" fill-opacity=\"1\" /><path clip-path=\"url(#clip000)\" d=\"M115.596 905.106 L145.271 905.106 L145.271 909.041 L115.596 909.041 L115.596 905.106 Z\" fill=\"#000000\" fill-rule=\"evenodd\" fill-opacity=\"1\" /><path clip-path=\"url(#clip000)\" d=\"M156.174 917.999 L163.813 917.999 L163.813 891.634 L155.503 893.3 L155.503 889.041 L163.767 887.374 L168.442 887.374 L168.442 917.999 L176.081 917.999 L176.081 921.934 L156.174 921.934 L156.174 917.999 Z\" fill=\"#000000\" fill-rule=\"evenodd\" fill-opacity=\"1\" /><path clip-path=\"url(#clip000)\" d=\"M185.526 916.055 L190.41 916.055 L190.41 921.934 L185.526 921.934 L185.526 916.055 Z\" fill=\"#000000\" fill-rule=\"evenodd\" fill-opacity=\"1\" /><path clip-path=\"url(#clip000)\" d=\"M201.405 917.999 L209.044 917.999 L209.044 891.634 L200.734 893.3 L200.734 889.041 L208.998 887.374 L213.674 887.374 L213.674 917.999 L221.313 917.999 L221.313 921.934 L201.405 921.934 L201.405 917.999 Z\" fill=\"#000000\" fill-rule=\"evenodd\" fill-opacity=\"1\" /><path clip-path=\"url(#clip000)\" d=\"M240.757 890.453 Q237.146 890.453 235.317 894.018 Q233.512 897.559 233.512 904.689 Q233.512 911.796 235.317 915.36 Q237.146 918.902 240.757 918.902 Q244.391 918.902 246.197 915.36 Q248.025 911.796 248.025 904.689 Q248.025 897.559 246.197 894.018 Q244.391 890.453 240.757 890.453 M240.757 886.749 Q246.567 886.749 249.623 891.356 Q252.701 895.939 252.701 904.689 Q252.701 913.416 249.623 918.022 Q246.567 922.606 240.757 922.606 Q234.947 922.606 231.868 918.022 Q228.812 913.416 228.812 904.689 Q228.812 895.939 231.868 891.356 Q234.947 886.749 240.757 886.749 Z\" fill=\"#000000\" fill-rule=\"evenodd\" fill-opacity=\"1\" /><path clip-path=\"url(#clip000)\" d=\"M289.09 896.472 L278.511 907.096 L289.09 917.675 L286.335 920.476 L275.71 909.851 L265.085 920.476 L262.354 917.675 L272.909 907.096 L262.354 896.472 L265.085 893.671 L275.71 904.296 L286.335 893.671 L289.09 896.472 Z\" fill=\"#000000\" fill-rule=\"evenodd\" fill-opacity=\"1\" /><path clip-path=\"url(#clip000)\" d=\"M301.451 917.999 L309.09 917.999 L309.09 891.634 L300.78 893.3 L300.78 889.041 L309.044 887.374 L313.719 887.374 L313.719 917.999 L321.358 917.999 L321.358 921.934 L301.451 921.934 L301.451 917.999 Z\" fill=\"#000000\" fill-rule=\"evenodd\" fill-opacity=\"1\" /><path clip-path=\"url(#clip000)\" d=\"M340.803 890.453 Q337.192 890.453 335.363 894.018 Q333.557 897.559 333.557 904.689 Q333.557 911.796 335.363 915.36 Q337.192 918.902 340.803 918.902 Q344.437 918.902 346.242 915.36 Q348.071 911.796 348.071 904.689 Q348.071 897.559 346.242 894.018 Q344.437 890.453 340.803 890.453 M340.803 886.749 Q346.613 886.749 349.668 891.356 Q352.747 895.939 352.747 904.689 Q352.747 913.416 349.668 918.022 Q346.613 922.606 340.803 922.606 Q334.992 922.606 331.914 918.022 Q328.858 913.416 328.858 904.689 Q328.858 895.939 331.914 891.356 Q334.992 886.749 340.803 886.749 Z\" fill=\"#000000\" fill-rule=\"evenodd\" fill-opacity=\"1\" /><path clip-path=\"url(#clip000)\" d=\"M352.747 866.444 L370.802 866.444 L370.802 868.061 L360.609 894.524 L356.64 894.524 L366.232 869.641 L352.747 869.641 L352.747 866.444 Z\" fill=\"#000000\" fill-rule=\"evenodd\" fill-opacity=\"1\" /><path clip-path=\"url(#clip000)\" d=\"M115.596 595.869 L145.271 595.869 L145.271 599.804 L115.596 599.804 L115.596 595.869 Z\" fill=\"#000000\" fill-rule=\"evenodd\" fill-opacity=\"1\" /><path clip-path=\"url(#clip000)\" d=\"M156.174 608.762 L163.813 608.762 L163.813 582.396 L155.503 584.063 L155.503 579.804 L163.767 578.137 L168.442 578.137 L168.442 608.762 L176.081 608.762 L176.081 612.697 L156.174 612.697 L156.174 608.762 Z\" fill=\"#000000\" fill-rule=\"evenodd\" fill-opacity=\"1\" /><path clip-path=\"url(#clip000)\" d=\"M185.526 606.818 L190.41 606.818 L190.41 612.697 L185.526 612.697 L185.526 606.818 Z\" fill=\"#000000\" fill-rule=\"evenodd\" fill-opacity=\"1\" /><path clip-path=\"url(#clip000)\" d=\"M210.595 581.216 Q206.984 581.216 205.155 584.781 Q203.35 588.322 203.35 595.452 Q203.35 602.558 205.155 606.123 Q206.984 609.665 210.595 609.665 Q214.229 609.665 216.035 606.123 Q217.863 602.558 217.863 595.452 Q217.863 588.322 216.035 584.781 Q214.229 581.216 210.595 581.216 M210.595 577.512 Q216.405 577.512 219.461 582.119 Q222.539 586.702 222.539 595.452 Q222.539 604.179 219.461 608.785 Q216.405 613.369 210.595 613.369 Q204.785 613.369 201.706 608.785 Q198.651 604.179 198.651 595.452 Q198.651 586.702 201.706 582.119 Q204.785 577.512 210.595 577.512 Z\" fill=\"#000000\" fill-rule=\"evenodd\" fill-opacity=\"1\" /><path clip-path=\"url(#clip000)\" d=\"M240.757 581.216 Q237.146 581.216 235.317 584.781 Q233.512 588.322 233.512 595.452 Q233.512 602.558 235.317 606.123 Q237.146 609.665 240.757 609.665 Q244.391 609.665 246.197 606.123 Q248.025 602.558 248.025 595.452 Q248.025 588.322 246.197 584.781 Q244.391 581.216 240.757 581.216 M240.757 577.512 Q246.567 577.512 249.623 582.119 Q252.701 586.702 252.701 595.452 Q252.701 604.179 249.623 608.785 Q246.567 613.369 240.757 613.369 Q234.947 613.369 231.868 608.785 Q228.812 604.179 228.812 595.452 Q228.812 586.702 231.868 582.119 Q234.947 577.512 240.757 577.512 Z\" fill=\"#000000\" fill-rule=\"evenodd\" fill-opacity=\"1\" /><path clip-path=\"url(#clip000)\" d=\"M289.09 587.234 L278.511 597.859 L289.09 608.438 L286.335 611.239 L275.71 600.614 L265.085 611.239 L262.354 608.438 L272.909 597.859 L262.354 587.234 L265.085 584.433 L275.71 595.058 L286.335 584.433 L289.09 587.234 Z\" fill=\"#000000\" fill-rule=\"evenodd\" fill-opacity=\"1\" /><path clip-path=\"url(#clip000)\" d=\"M301.451 608.762 L309.09 608.762 L309.09 582.396 L300.78 584.063 L300.78 579.804 L309.044 578.137 L313.719 578.137 L313.719 608.762 L321.358 608.762 L321.358 612.697 L301.451 612.697 L301.451 608.762 Z\" fill=\"#000000\" fill-rule=\"evenodd\" fill-opacity=\"1\" /><path clip-path=\"url(#clip000)\" d=\"M340.803 581.216 Q337.192 581.216 335.363 584.781 Q333.557 588.322 333.557 595.452 Q333.557 602.558 335.363 606.123 Q337.192 609.665 340.803 609.665 Q344.437 609.665 346.242 606.123 Q348.071 602.558 348.071 595.452 Q348.071 588.322 346.242 584.781 Q344.437 581.216 340.803 581.216 M340.803 577.512 Q346.613 577.512 349.668 582.119 Q352.747 586.702 352.747 595.452 Q352.747 604.179 349.668 608.785 Q346.613 613.369 340.803 613.369 Q334.992 613.369 331.914 608.785 Q328.858 604.179 328.858 595.452 Q328.858 586.702 331.914 582.119 Q334.992 577.512 340.803 577.512 Z\" fill=\"#000000\" fill-rule=\"evenodd\" fill-opacity=\"1\" /><path clip-path=\"url(#clip000)\" d=\"M352.747 557.207 L370.802 557.207 L370.802 558.824 L360.609 585.287 L356.64 585.287 L366.232 560.404 L352.747 560.404 L352.747 557.207 Z\" fill=\"#000000\" fill-rule=\"evenodd\" fill-opacity=\"1\" /><path clip-path=\"url(#clip000)\" d=\"M114.26 286.632 L143.936 286.632 L143.936 290.567 L114.26 290.567 L114.26 286.632 Z\" fill=\"#000000\" fill-rule=\"evenodd\" fill-opacity=\"1\" /><path clip-path=\"url(#clip000)\" d=\"M154.167 302.743 L154.167 298.483 Q155.927 299.317 157.732 299.756 Q159.538 300.196 161.274 300.196 Q165.903 300.196 168.334 297.094 Q170.788 293.969 171.135 287.627 Q169.792 289.618 167.732 290.682 Q165.672 291.747 163.172 291.747 Q157.987 291.747 154.954 288.622 Q151.945 285.474 151.945 280.034 Q151.945 274.71 155.093 271.493 Q158.241 268.275 163.473 268.275 Q169.468 268.275 172.616 272.882 Q175.788 277.465 175.788 286.215 Q175.788 294.386 171.899 299.27 Q168.033 304.131 161.482 304.131 Q159.723 304.131 157.917 303.784 Q156.112 303.437 154.167 302.743 M163.473 288.09 Q166.621 288.09 168.45 285.937 Q170.302 283.784 170.302 280.034 Q170.302 276.307 168.45 274.155 Q166.621 271.979 163.473 271.979 Q160.325 271.979 158.473 274.155 Q156.644 276.307 156.644 280.034 Q156.644 283.784 158.473 285.937 Q160.325 288.09 163.473 288.09 Z\" fill=\"#000000\" fill-rule=\"evenodd\" fill-opacity=\"1\" /><path clip-path=\"url(#clip000)\" d=\"M184.19 297.581 L189.075 297.581 L189.075 303.46 L184.19 303.46 L184.19 297.581 Z\" fill=\"#000000\" fill-rule=\"evenodd\" fill-opacity=\"1\" /><path clip-path=\"url(#clip000)\" d=\"M209.26 271.979 Q205.649 271.979 203.82 275.544 Q202.014 279.085 202.014 286.215 Q202.014 293.321 203.82 296.886 Q205.649 300.428 209.26 300.428 Q212.894 300.428 214.699 296.886 Q216.528 293.321 216.528 286.215 Q216.528 279.085 214.699 275.544 Q212.894 271.979 209.26 271.979 M209.26 268.275 Q215.07 268.275 218.125 272.882 Q221.204 277.465 221.204 286.215 Q221.204 294.942 218.125 299.548 Q215.07 304.131 209.26 304.131 Q203.449 304.131 200.371 299.548 Q197.315 294.942 197.315 286.215 Q197.315 277.465 200.371 272.882 Q203.449 268.275 209.26 268.275 Z\" fill=\"#000000\" fill-rule=\"evenodd\" fill-opacity=\"1\" /><path clip-path=\"url(#clip000)\" d=\"M239.422 271.979 Q235.81 271.979 233.982 275.544 Q232.176 279.085 232.176 286.215 Q232.176 293.321 233.982 296.886 Q235.81 300.428 239.422 300.428 Q243.056 300.428 244.861 296.886 Q246.69 293.321 246.69 286.215 Q246.69 279.085 244.861 275.544 Q243.056 271.979 239.422 271.979 M239.422 268.275 Q245.232 268.275 248.287 272.882 Q251.366 277.465 251.366 286.215 Q251.366 294.942 248.287 299.548 Q245.232 304.131 239.422 304.131 Q233.611 304.131 230.533 299.548 Q227.477 294.942 227.477 286.215 Q227.477 277.465 230.533 272.882 Q233.611 268.275 239.422 268.275 Z\" fill=\"#000000\" fill-rule=\"evenodd\" fill-opacity=\"1\" /><path clip-path=\"url(#clip000)\" d=\"M287.755 277.997 L277.176 288.622 L287.755 299.201 L285 302.002 L274.375 291.377 L263.75 302.002 L261.019 299.201 L271.574 288.622 L261.019 277.997 L263.75 275.196 L274.375 285.821 L285 275.196 L287.755 277.997 Z\" fill=\"#000000\" fill-rule=\"evenodd\" fill-opacity=\"1\" /><path clip-path=\"url(#clip000)\" d=\"M300.116 299.525 L307.754 299.525 L307.754 273.159 L299.444 274.826 L299.444 270.567 L307.708 268.9 L312.384 268.9 L312.384 299.525 L320.023 299.525 L320.023 303.46 L300.116 303.46 L300.116 299.525 Z\" fill=\"#000000\" fill-rule=\"evenodd\" fill-opacity=\"1\" /><path clip-path=\"url(#clip000)\" d=\"M339.467 271.979 Q335.856 271.979 334.027 275.544 Q332.222 279.085 332.222 286.215 Q332.222 293.321 334.027 296.886 Q335.856 300.428 339.467 300.428 Q343.102 300.428 344.907 296.886 Q346.736 293.321 346.736 286.215 Q346.736 279.085 344.907 275.544 Q343.102 271.979 339.467 271.979 M339.467 268.275 Q345.277 268.275 348.333 272.882 Q351.412 277.465 351.412 286.215 Q351.412 294.942 348.333 299.548 Q345.277 304.131 339.467 304.131 Q333.657 304.131 330.578 299.548 Q327.523 294.942 327.523 286.215 Q327.523 277.465 330.578 272.882 Q333.657 268.275 339.467 268.275 Z\" fill=\"#000000\" fill-rule=\"evenodd\" fill-opacity=\"1\" /><path clip-path=\"url(#clip000)\" d=\"M361.436 260.496 Q358.878 260.496 357.374 262.245 Q355.888 263.994 355.888 267.041 Q355.888 270.069 357.374 271.837 Q358.878 273.586 361.436 273.586 Q363.994 273.586 365.48 271.837 Q366.984 270.069 366.984 267.041 Q366.984 263.994 365.48 262.245 Q363.994 260.496 361.436 260.496 M368.978 248.59 L368.978 252.051 Q367.549 251.374 366.082 251.017 Q364.634 250.659 363.204 250.659 Q359.443 250.659 357.449 253.198 Q355.474 255.737 355.192 260.872 Q356.302 259.236 357.976 258.37 Q359.649 257.486 361.662 257.486 Q365.894 257.486 368.339 260.063 Q370.802 262.621 370.802 267.041 Q370.802 271.367 368.245 273.981 Q365.687 276.595 361.436 276.595 Q356.565 276.595 353.988 272.871 Q351.412 269.128 351.412 262.038 Q351.412 255.38 354.571 251.43 Q357.731 247.462 363.054 247.462 Q364.483 247.462 365.931 247.744 Q367.398 248.026 368.978 248.59 Z\" fill=\"#000000\" fill-rule=\"evenodd\" fill-opacity=\"1\" /><path clip-path=\"url(#clip000)\" d=\"M18.0438 929.032 L24.314 929.032 Q22.5634 932.693 21.704 935.939 Q20.8447 939.186 20.8447 942.209 Q20.8447 947.461 22.8817 950.326 Q24.9187 953.159 28.6745 953.159 Q31.8255 953.159 33.4488 951.281 Q35.0402 949.371 36.0269 944.087 L36.8226 940.204 Q38.1912 933.011 41.6605 929.605 Q45.098 926.168 50.8908 926.168 Q57.7976 926.168 61.3624 930.815 Q64.9272 935.43 64.9272 944.374 Q64.9272 947.748 64.1633 951.567 Q63.3994 955.355 61.9035 959.429 L55.2831 959.429 Q57.4793 955.514 58.5933 951.758 Q59.7073 948.002 59.7073 944.374 Q59.7073 938.867 57.543 935.876 Q55.3786 932.884 51.3682 932.884 Q47.8671 932.884 45.8937 935.048 Q43.9204 937.181 42.9337 942.082 L42.1698 945.997 Q40.7375 953.19 37.682 956.405 Q34.6264 959.62 29.1837 959.62 Q22.8817 959.62 19.2532 955.196 Q15.6248 950.74 15.6248 942.942 Q15.6248 939.6 16.2295 936.13 Q16.8343 932.661 18.0438 929.032 Z\" fill=\"#000000\" fill-rule=\"evenodd\" fill-opacity=\"1\" /><path clip-path=\"url(#clip000)\" d=\"M32.4621 902.583 Q32.4621 907.294 36.1542 910.031 Q39.8145 912.768 46.212 912.768 Q52.6095 912.768 56.3017 910.063 Q59.9619 907.325 59.9619 902.583 Q59.9619 897.904 56.2698 895.167 Q52.5777 892.43 46.212 892.43 Q39.8781 892.43 36.186 895.167 Q32.4621 897.904 32.4621 902.583 M27.4968 902.583 Q27.4968 894.944 32.4621 890.584 Q37.4273 886.223 46.212 886.223 Q54.9649 886.223 59.9619 890.584 Q64.9272 894.944 64.9272 902.583 Q64.9272 910.254 59.9619 914.614 Q54.9649 918.943 46.212 918.943 Q37.4273 918.943 32.4621 914.614 Q27.4968 910.254 27.4968 902.583 Z\" fill=\"#000000\" fill-rule=\"evenodd\" fill-opacity=\"1\" /><path clip-path=\"url(#clip000)\" d=\"M29.7248 850.862 L35.1993 850.862 Q33.8307 853.344 33.1623 855.859 Q32.4621 858.341 32.4621 860.888 Q32.4621 866.585 36.0905 869.736 Q39.6872 872.887 46.212 872.887 Q52.7369 872.887 56.3653 869.736 Q59.9619 866.585 59.9619 860.888 Q59.9619 858.341 59.2935 855.859 Q58.5933 853.344 57.2247 850.862 L62.6355 850.862 Q63.7814 853.312 64.3543 855.954 Q64.9272 858.564 64.9272 861.524 Q64.9272 869.577 59.8664 874.319 Q54.8057 879.062 46.212 879.062 Q37.491 879.062 32.4939 874.287 Q27.4968 869.481 27.4968 861.142 Q27.4968 858.437 28.0697 855.859 Q28.6108 853.281 29.7248 850.862 Z\" fill=\"#000000\" fill-rule=\"evenodd\" fill-opacity=\"1\" /><path clip-path=\"url(#clip000)\" d=\"M28.3562 840.676 L28.3562 834.82 L64.0042 834.82 L64.0042 840.676 L28.3562 840.676 M14.479 840.676 L14.479 834.82 L21.895 834.82 L21.895 840.676 L14.479 840.676 Z\" fill=\"#000000\" fill-rule=\"evenodd\" fill-opacity=\"1\" /><path clip-path=\"url(#clip000)\" d=\"M46.0847 806.365 Q46.0847 813.463 47.7079 816.2 Q49.3312 818.938 53.2461 818.938 Q56.3653 818.938 58.2114 816.901 Q60.0256 814.832 60.0256 811.299 Q60.0256 806.429 56.5881 803.501 Q53.1188 800.541 47.3897 800.541 L46.0847 800.541 L46.0847 806.365 M43.6657 794.684 L64.0042 794.684 L64.0042 800.541 L58.5933 800.541 Q61.8398 802.546 63.3994 805.538 Q64.9272 808.53 64.9272 812.858 Q64.9272 818.333 61.8716 821.579 Q58.7843 824.794 53.6281 824.794 Q47.6125 824.794 44.5569 820.784 Q41.5014 816.741 41.5014 808.752 L41.5014 800.541 L40.9285 800.541 Q36.8862 800.541 34.6901 803.214 Q32.4621 805.856 32.4621 810.662 Q32.4621 813.718 33.1941 816.614 Q33.9262 819.51 35.3903 822.184 L29.9795 822.184 Q28.7381 818.969 28.1334 815.946 Q27.4968 812.922 27.4968 810.057 Q27.4968 802.323 31.5072 798.504 Q35.5176 794.684 43.6657 794.684 Z\" fill=\"#000000\" fill-rule=\"evenodd\" fill-opacity=\"1\" /><path clip-path=\"url(#clip000)\" d=\"M14.479 782.621 L14.479 776.765 L64.0042 776.765 L64.0042 782.621 L14.479 782.621 Z\" fill=\"#000000\" fill-rule=\"evenodd\" fill-opacity=\"1\" /><path clip-path=\"url(#clip000)\" d=\"M14.479 764.511 L14.479 758.654 L64.0042 758.654 L64.0042 764.511 L14.479 764.511 Z\" fill=\"#000000\" fill-rule=\"evenodd\" fill-opacity=\"1\" /><path clip-path=\"url(#clip000)\" d=\"M67.3143 731.568 Q73.68 734.051 75.6216 736.406 Q77.5631 738.762 77.5631 742.708 L77.5631 747.387 L72.6615 747.387 L72.6615 743.95 Q72.6615 741.531 71.5157 740.194 Q70.3699 738.857 66.1048 737.234 L63.4312 736.183 L28.3562 750.602 L28.3562 744.395 L56.238 733.255 L28.3562 722.115 L28.3562 715.909 L67.3143 731.568 Z\" fill=\"#000000\" fill-rule=\"evenodd\" fill-opacity=\"1\" /><path clip-path=\"url(#clip000)\" d=\"M16.4842 686.849 L16.4842 680.42 L60.694 680.42 Q69.2877 680.42 73.1708 683.698 Q77.0539 686.945 77.0539 694.17 L77.0539 696.621 L71.643 696.621 L71.643 694.615 Q71.643 690.35 69.2559 688.6 Q66.8687 686.849 60.694 686.849 L16.4842 686.849 Z\" fill=\"#000000\" fill-rule=\"evenodd\" fill-opacity=\"1\" /><path clip-path=\"url(#clip000)\" d=\"M49.9359 668.484 L28.3562 668.484 L28.3562 662.628 L49.7131 662.628 Q54.7739 662.628 57.3202 660.654 Q59.8346 658.681 59.8346 654.734 Q59.8346 649.992 56.8109 647.254 Q53.7872 644.485 48.5673 644.485 L28.3562 644.485 L28.3562 638.629 L64.0042 638.629 L64.0042 644.485 L58.5296 644.485 Q61.7762 646.618 63.3676 649.451 Q64.9272 652.252 64.9272 655.975 Q64.9272 662.118 61.1078 665.301 Q57.2883 668.484 49.9359 668.484 M27.4968 653.747 L27.4968 653.747 Z\" fill=\"#000000\" fill-rule=\"evenodd\" fill-opacity=\"1\" /><path clip-path=\"url(#clip000)\" d=\"M29.4065 603.84 L34.9447 603.84 Q33.6716 606.323 33.035 608.997 Q32.3984 611.67 32.3984 614.535 Q32.3984 618.895 33.7352 621.091 Q35.072 623.256 37.7456 623.256 Q39.7826 623.256 40.9603 621.696 Q42.1061 620.137 43.1565 615.426 L43.6021 613.421 Q44.9389 607.182 47.3897 604.572 Q49.8086 601.931 54.1691 601.931 Q59.1344 601.931 62.0308 605.877 Q64.9272 609.792 64.9272 616.667 Q64.9272 619.532 64.3543 622.651 Q63.8132 625.738 62.6992 629.176 L56.6518 629.176 Q58.3387 625.929 59.198 622.778 Q60.0256 619.627 60.0256 616.54 Q60.0256 612.402 58.6251 610.174 Q57.1929 607.946 54.6147 607.946 Q52.2276 607.946 50.9545 609.569 Q49.6813 611.161 48.5037 616.604 L48.0262 618.641 Q46.8804 624.083 44.5251 626.502 Q42.138 628.921 38.0002 628.921 Q32.9713 628.921 30.2341 625.356 Q27.4968 621.792 27.4968 615.235 Q27.4968 611.988 27.9743 609.124 Q28.4517 606.259 29.4065 603.84 Z\" fill=\"#000000\" fill-rule=\"evenodd\" fill-opacity=\"1\" /><path clip-path=\"url(#clip000)\" d=\"M18.2347 586.812 L28.3562 586.812 L28.3562 574.749 L32.9077 574.749 L32.9077 586.812 L52.2594 586.812 Q56.6199 586.812 57.8613 585.634 Q59.1026 584.425 59.1026 580.765 L59.1026 574.749 L64.0042 574.749 L64.0042 580.765 Q64.0042 587.544 61.4897 590.122 Q58.9434 592.7 52.2594 592.7 L32.9077 592.7 L32.9077 596.997 L28.3562 596.997 L28.3562 592.7 L18.2347 592.7 L18.2347 586.812 Z\" fill=\"#000000\" fill-rule=\"evenodd\" fill-opacity=\"1\" /><path clip-path=\"url(#clip000)\" d=\"M526.557 17.6457 Q517.645 17.6457 512.379 24.2892 Q507.154 30.9327 507.154 42.3968 Q507.154 53.8203 512.379 60.4638 Q517.645 67.1073 526.557 67.1073 Q535.469 67.1073 540.655 60.4638 Q545.88 53.8203 545.88 42.3968 Q545.88 30.9327 540.655 24.2892 Q535.469 17.6457 526.557 17.6457 M526.557 11.0023 Q539.277 11.0023 546.893 19.5497 Q554.509 28.0566 554.509 42.3968 Q554.509 56.6965 546.893 65.2439 Q539.277 73.7508 526.557 73.7508 Q513.797 73.7508 506.141 65.2439 Q498.525 56.737 498.525 42.3968 Q498.525 28.0566 506.141 19.5497 Q513.797 11.0023 526.557 11.0023 Z\" fill=\"#000000\" fill-rule=\"evenodd\" fill-opacity=\"1\" /><path clip-path=\"url(#clip000)\" d=\"M561.638 27.2059 L569.538 27.2059 L583.716 65.2844 L597.894 27.2059 L605.793 27.2059 L588.779 72.576 L578.652 72.576 L561.638 27.2059 Z\" fill=\"#000000\" fill-rule=\"evenodd\" fill-opacity=\"1\" /><path clip-path=\"url(#clip000)\" d=\"M654.89 48.0275 L654.89 51.6733 L620.619 51.6733 Q621.106 59.3701 625.238 63.421 Q629.41 67.4314 636.823 67.4314 Q641.117 67.4314 645.127 66.3781 Q649.178 65.3249 653.148 63.2184 L653.148 70.267 Q649.138 71.9684 644.925 72.8596 Q640.712 73.7508 636.378 73.7508 Q625.521 73.7508 619.161 67.4314 Q612.842 61.1119 612.842 50.3365 Q612.842 39.1965 618.837 32.6746 Q624.873 26.1121 635.081 26.1121 Q644.236 26.1121 649.543 32.0264 Q654.89 37.9003 654.89 48.0275 M647.436 45.84 Q647.355 39.7232 643.993 36.0774 Q640.671 32.4315 635.162 32.4315 Q628.924 32.4315 625.156 35.9558 Q621.43 39.4801 620.863 45.8805 L647.436 45.84 Z\" fill=\"#000000\" fill-rule=\"evenodd\" fill-opacity=\"1\" /><path clip-path=\"url(#clip000)\" d=\"M693.414 34.1734 Q692.158 33.4443 690.66 33.1202 Q689.201 32.7556 687.419 32.7556 Q681.099 32.7556 677.697 36.8875 Q674.334 40.9789 674.334 48.6757 L674.334 72.576 L666.84 72.576 L666.84 27.2059 L674.334 27.2059 L674.334 34.2544 Q676.684 30.1225 680.451 28.1376 Q684.219 26.1121 689.606 26.1121 Q690.376 26.1121 691.308 26.2337 Q692.239 26.3147 693.374 26.5172 L693.414 34.1734 Z\" fill=\"#000000\" fill-rule=\"evenodd\" fill-opacity=\"1\" /><path clip-path=\"url(#clip000)\" d=\"M734.977 14.324 L734.977 27.2059 L750.329 27.2059 L750.329 32.9987 L734.977 32.9987 L734.977 57.6282 Q734.977 63.1779 736.475 64.7578 Q738.015 66.3376 742.673 66.3376 L750.329 66.3376 L750.329 72.576 L742.673 72.576 Q734.045 72.576 730.764 69.3758 Q727.482 66.1351 727.482 57.6282 L727.482 32.9987 L722.014 32.9987 L722.014 27.2059 L727.482 27.2059 L727.482 14.324 L734.977 14.324 Z\" fill=\"#000000\" fill-rule=\"evenodd\" fill-opacity=\"1\" /><path clip-path=\"url(#clip000)\" d=\"M797.847 45.1919 L797.847 72.576 L790.393 72.576 L790.393 45.4349 Q790.393 38.994 787.881 35.7938 Q785.37 32.5936 780.347 32.5936 Q774.311 32.5936 770.827 36.4419 Q767.343 40.2903 767.343 46.9338 L767.343 72.576 L759.849 72.576 L759.849 9.54393 L767.343 9.54393 L767.343 34.2544 Q770.017 30.163 773.622 28.1376 Q777.268 26.1121 782.008 26.1121 Q789.826 26.1121 793.836 30.9732 Q797.847 35.7938 797.847 45.1919 Z\" fill=\"#000000\" fill-rule=\"evenodd\" fill-opacity=\"1\" /><path clip-path=\"url(#clip000)\" d=\"M851.521 48.0275 L851.521 51.6733 L817.25 51.6733 Q817.736 59.3701 821.868 63.421 Q826.041 67.4314 833.454 67.4314 Q837.748 67.4314 841.758 66.3781 Q845.809 65.3249 849.779 63.2184 L849.779 70.267 Q845.769 71.9684 841.556 72.8596 Q837.343 73.7508 833.008 73.7508 Q822.152 73.7508 815.792 67.4314 Q809.473 61.1119 809.473 50.3365 Q809.473 39.1965 815.468 32.6746 Q821.504 26.1121 831.712 26.1121 Q840.867 26.1121 846.174 32.0264 Q851.521 37.9003 851.521 48.0275 M844.067 45.84 Q843.986 39.7232 840.624 36.0774 Q837.302 32.4315 831.793 32.4315 Q825.555 32.4315 821.787 35.9558 Q818.061 39.4801 817.493 45.8805 L844.067 45.84 Z\" fill=\"#000000\" fill-rule=\"evenodd\" fill-opacity=\"1\" /><path clip-path=\"url(#clip000)\" d=\"M885.792 27.2059 L893.245 27.2059 L902.562 62.6108 L911.839 27.2059 L920.629 27.2059 L929.947 62.6108 L939.223 27.2059 L946.677 27.2059 L934.808 72.576 L926.017 72.576 L916.254 35.3887 L906.451 72.576 L897.661 72.576 L885.792 27.2059 Z\" fill=\"#000000\" fill-rule=\"evenodd\" fill-opacity=\"1\" /><path clip-path=\"url(#clip000)\" d=\"M995.693 45.1919 L995.693 72.576 L988.239 72.576 L988.239 45.4349 Q988.239 38.994 985.727 35.7938 Q983.216 32.5936 978.193 32.5936 Q972.157 32.5936 968.673 36.4419 Q965.189 40.2903 965.189 46.9338 L965.189 72.576 L957.695 72.576 L957.695 9.54393 L965.189 9.54393 L965.189 34.2544 Q967.863 30.163 971.468 28.1376 Q975.114 26.1121 979.854 26.1121 Q987.672 26.1121 991.682 30.9732 Q995.693 35.7938 995.693 45.1919 Z\" fill=\"#000000\" fill-rule=\"evenodd\" fill-opacity=\"1\" /><path clip-path=\"url(#clip000)\" d=\"M1028.14 32.4315 Q1022.15 32.4315 1018.66 37.1306 Q1015.18 41.7891 1015.18 49.9314 Q1015.18 58.0738 1018.62 62.7728 Q1022.1 67.4314 1028.14 67.4314 Q1034.1 67.4314 1037.58 62.7323 Q1041.06 58.0333 1041.06 49.9314 Q1041.06 41.8701 1037.58 37.1711 Q1034.1 32.4315 1028.14 32.4315 M1028.14 26.1121 Q1037.86 26.1121 1043.41 32.4315 Q1048.96 38.7509 1048.96 49.9314 Q1048.96 61.0714 1043.41 67.4314 Q1037.86 73.7508 1028.14 73.7508 Q1018.38 73.7508 1012.83 67.4314 Q1007.32 61.0714 1007.32 49.9314 Q1007.32 38.7509 1012.83 32.4315 Q1018.38 26.1121 1028.14 26.1121 Z\" fill=\"#000000\" fill-rule=\"evenodd\" fill-opacity=\"1\" /><path clip-path=\"url(#clip000)\" d=\"M1061.32 9.54393 L1068.77 9.54393 L1068.77 72.576 L1061.32 72.576 L1061.32 9.54393 Z\" fill=\"#000000\" fill-rule=\"evenodd\" fill-opacity=\"1\" /><path clip-path=\"url(#clip000)\" d=\"M1123.17 48.0275 L1123.17 51.6733 L1088.9 51.6733 Q1089.39 59.3701 1093.52 63.421 Q1097.69 67.4314 1105.11 67.4314 Q1109.4 67.4314 1113.41 66.3781 Q1117.46 65.3249 1121.43 63.2184 L1121.43 70.267 Q1117.42 71.9684 1113.21 72.8596 Q1109 73.7508 1104.66 73.7508 Q1093.81 73.7508 1087.45 67.4314 Q1081.13 61.1119 1081.13 50.3365 Q1081.13 39.1965 1087.12 32.6746 Q1093.16 26.1121 1103.37 26.1121 Q1112.52 26.1121 1117.83 32.0264 Q1123.17 37.9003 1123.17 48.0275 M1115.72 45.84 Q1115.64 39.7232 1112.28 36.0774 Q1108.96 32.4315 1103.45 32.4315 Q1097.21 32.4315 1093.44 35.9558 Q1089.71 39.4801 1089.15 45.8805 L1115.72 45.84 Z\" fill=\"#000000\" fill-rule=\"evenodd\" fill-opacity=\"1\" /><path clip-path=\"url(#clip000)\" d=\"M1190.7 28.5427 L1190.7 35.5912 Q1187.54 33.9709 1184.14 33.1607 Q1180.74 32.3505 1177.09 32.3505 Q1171.54 32.3505 1168.75 34.0519 Q1165.99 35.7533 1165.99 39.156 Q1165.99 41.7486 1167.98 43.2475 Q1169.96 44.7058 1175.96 46.0426 L1178.51 46.6097 Q1186.45 48.3111 1189.77 51.4303 Q1193.13 54.509 1193.13 60.0587 Q1193.13 66.3781 1188.11 70.0644 Q1183.13 73.7508 1174.38 73.7508 Q1170.73 73.7508 1166.76 73.0216 Q1162.83 72.3329 1158.46 70.9151 L1158.46 63.2184 Q1162.59 65.3654 1166.6 66.4591 Q1170.61 67.5124 1174.54 67.5124 Q1179.81 67.5124 1182.64 65.73 Q1185.48 63.9071 1185.48 60.6258 Q1185.48 57.5877 1183.41 55.9673 Q1181.39 54.3469 1174.46 52.8481 L1171.87 52.2405 Q1164.94 50.7821 1161.86 47.7845 Q1158.78 44.7463 1158.78 39.4801 Q1158.78 33.0797 1163.32 29.5959 Q1167.86 26.1121 1176.2 26.1121 Q1180.33 26.1121 1183.98 26.7198 Q1187.62 27.3274 1190.7 28.5427 Z\" fill=\"#000000\" fill-rule=\"evenodd\" fill-opacity=\"1\" /><path clip-path=\"url(#clip000)\" d=\"M1204.23 54.671 L1204.23 27.2059 L1211.69 27.2059 L1211.69 54.3874 Q1211.69 60.8284 1214.2 64.0691 Q1216.71 67.2693 1221.73 67.2693 Q1227.77 67.2693 1231.25 63.421 Q1234.78 59.5726 1234.78 52.9291 L1234.78 27.2059 L1242.23 27.2059 L1242.23 72.576 L1234.78 72.576 L1234.78 65.6084 Q1232.06 69.7404 1228.46 71.7658 Q1224.89 73.7508 1220.15 73.7508 Q1212.34 73.7508 1208.28 68.8897 Q1204.23 64.0286 1204.23 54.671 M1222.99 26.1121 L1222.99 26.1121 Z\" fill=\"#000000\" fill-rule=\"evenodd\" fill-opacity=\"1\" /><path clip-path=\"url(#clip000)\" d=\"M1264.79 65.7705 L1264.79 89.8329 L1257.3 89.8329 L1257.3 27.2059 L1264.79 27.2059 L1264.79 34.0924 Q1267.14 30.0415 1270.71 28.0971 Q1274.31 26.1121 1279.3 26.1121 Q1287.56 26.1121 1292.71 32.6746 Q1297.89 39.2371 1297.89 49.9314 Q1297.89 60.6258 1292.71 67.1883 Q1287.56 73.7508 1279.3 73.7508 Q1274.31 73.7508 1270.71 71.8063 Q1267.14 69.8214 1264.79 65.7705 M1290.15 49.9314 Q1290.15 41.7081 1286.75 37.0496 Q1283.39 32.3505 1277.47 32.3505 Q1271.56 32.3505 1268.16 37.0496 Q1264.79 41.7081 1264.79 49.9314 Q1264.79 58.1548 1268.16 62.8538 Q1271.56 67.5124 1277.47 67.5124 Q1283.39 67.5124 1286.75 62.8538 Q1290.15 58.1548 1290.15 49.9314 Z\" fill=\"#000000\" fill-rule=\"evenodd\" fill-opacity=\"1\" /><path clip-path=\"url(#clip000)\" d=\"M1317.46 65.7705 L1317.46 89.8329 L1309.96 89.8329 L1309.96 27.2059 L1317.46 27.2059 L1317.46 34.0924 Q1319.81 30.0415 1323.37 28.0971 Q1326.98 26.1121 1331.96 26.1121 Q1340.22 26.1121 1345.37 32.6746 Q1350.55 39.2371 1350.55 49.9314 Q1350.55 60.6258 1345.37 67.1883 Q1340.22 73.7508 1331.96 73.7508 Q1326.98 73.7508 1323.37 71.8063 Q1319.81 69.8214 1317.46 65.7705 M1342.81 49.9314 Q1342.81 41.7081 1339.41 37.0496 Q1336.05 32.3505 1330.14 32.3505 Q1324.22 32.3505 1320.82 37.0496 Q1317.46 41.7081 1317.46 49.9314 Q1317.46 58.1548 1320.82 62.8538 Q1324.22 67.5124 1330.14 67.5124 Q1336.05 67.5124 1339.41 62.8538 Q1342.81 58.1548 1342.81 49.9314 Z\" fill=\"#000000\" fill-rule=\"evenodd\" fill-opacity=\"1\" /><path clip-path=\"url(#clip000)\" d=\"M1362.91 9.54393 L1370.36 9.54393 L1370.36 72.576 L1362.91 72.576 L1362.91 9.54393 Z\" fill=\"#000000\" fill-rule=\"evenodd\" fill-opacity=\"1\" /><path clip-path=\"url(#clip000)\" d=\"M1404.83 76.7889 Q1401.67 84.8907 1398.68 87.3618 Q1395.68 89.8329 1390.66 89.8329 L1384.7 89.8329 L1384.7 83.5945 L1389.08 83.5945 Q1392.15 83.5945 1393.86 82.1361 Q1395.56 80.6778 1397.62 75.2496 L1398.96 71.8468 L1380.61 27.2059 L1388.51 27.2059 L1402.69 62.6918 L1416.87 27.2059 L1424.76 27.2059 L1404.83 76.7889 Z\" fill=\"#000000\" fill-rule=\"evenodd\" fill-opacity=\"1\" /><path clip-path=\"url(#clip000)\" d=\"M1494.08 28.9478 L1494.08 35.9153 Q1490.92 34.1734 1487.72 33.3227 Q1484.56 32.4315 1481.32 32.4315 Q1474.06 32.4315 1470.05 37.0496 Q1466.04 41.6271 1466.04 49.9314 Q1466.04 58.2358 1470.05 62.8538 Q1474.06 67.4314 1481.32 67.4314 Q1484.56 67.4314 1487.72 66.5807 Q1490.92 65.6895 1494.08 63.9476 L1494.08 70.8341 Q1490.96 72.2924 1487.59 73.0216 Q1484.27 73.7508 1480.5 73.7508 Q1470.26 73.7508 1464.22 67.3098 Q1458.18 60.8689 1458.18 49.9314 Q1458.18 38.832 1464.26 32.472 Q1470.38 26.1121 1480.99 26.1121 Q1484.43 26.1121 1487.72 26.8413 Q1491 27.5299 1494.08 28.9478 Z\" fill=\"#000000\" fill-rule=\"evenodd\" fill-opacity=\"1\" /><path clip-path=\"url(#clip000)\" d=\"M1544.75 45.1919 L1544.75 72.576 L1537.3 72.576 L1537.3 45.4349 Q1537.3 38.994 1534.79 35.7938 Q1532.28 32.5936 1527.25 32.5936 Q1521.22 32.5936 1517.73 36.4419 Q1514.25 40.2903 1514.25 46.9338 L1514.25 72.576 L1506.75 72.576 L1506.75 9.54393 L1514.25 9.54393 L1514.25 34.2544 Q1516.92 30.163 1520.53 28.1376 Q1524.17 26.1121 1528.91 26.1121 Q1536.73 26.1121 1540.74 30.9732 Q1544.75 35.7938 1544.75 45.1919 Z\" fill=\"#000000\" fill-rule=\"evenodd\" fill-opacity=\"1\" /><path clip-path=\"url(#clip000)\" d=\"M1580.24 49.7694 Q1571.2 49.7694 1567.72 51.8354 Q1564.24 53.9013 1564.24 58.8839 Q1564.24 62.8538 1566.83 65.2034 Q1569.46 67.5124 1573.96 67.5124 Q1580.16 67.5124 1583.88 63.1374 Q1587.65 58.7219 1587.65 51.4303 L1587.65 49.7694 L1580.24 49.7694 M1595.11 46.6907 L1595.11 72.576 L1587.65 72.576 L1587.65 65.6895 Q1585.1 69.8214 1581.29 71.8063 Q1577.48 73.7508 1571.97 73.7508 Q1565.01 73.7508 1560.87 69.8619 Q1556.78 65.9325 1556.78 59.3701 Q1556.78 51.7138 1561.89 47.825 Q1567.03 43.9361 1577.2 43.9361 L1587.65 43.9361 L1587.65 43.2069 Q1587.65 38.0623 1584.25 35.2672 Q1580.89 32.4315 1574.77 32.4315 Q1570.88 32.4315 1567.19 33.3632 Q1563.51 34.295 1560.11 36.1584 L1560.11 29.2718 Q1564.2 27.692 1568.04 26.9223 Q1571.89 26.1121 1575.54 26.1121 Q1585.38 26.1121 1590.24 31.2163 Q1595.11 36.3204 1595.11 46.6907 Z\" fill=\"#000000\" fill-rule=\"evenodd\" fill-opacity=\"1\" /><path clip-path=\"url(#clip000)\" d=\"M1610.46 27.2059 L1617.91 27.2059 L1617.91 72.576 L1610.46 72.576 L1610.46 27.2059 M1610.46 9.54393 L1617.91 9.54393 L1617.91 18.9825 L1610.46 18.9825 L1610.46 9.54393 Z\" fill=\"#000000\" fill-rule=\"evenodd\" fill-opacity=\"1\" /><path clip-path=\"url(#clip000)\" d=\"M1671.22 45.1919 L1671.22 72.576 L1663.77 72.576 L1663.77 45.4349 Q1663.77 38.994 1661.26 35.7938 Q1658.74 32.5936 1653.72 32.5936 Q1647.69 32.5936 1644.2 36.4419 Q1640.72 40.2903 1640.72 46.9338 L1640.72 72.576 L1633.22 72.576 L1633.22 27.2059 L1640.72 27.2059 L1640.72 34.2544 Q1643.39 30.163 1647 28.1376 Q1650.64 26.1121 1655.38 26.1121 Q1663.2 26.1121 1667.21 30.9732 Q1671.22 35.7938 1671.22 45.1919 Z\" fill=\"#000000\" fill-rule=\"evenodd\" fill-opacity=\"1\" /><path clip-path=\"url(#clip000)\" d=\"M1730.36 9.62495 Q1724.94 18.942 1722.3 28.0566 Q1719.67 37.1711 1719.67 46.5287 Q1719.67 55.8863 1722.3 65.0818 Q1724.98 74.2369 1730.36 83.5134 L1723.88 83.5134 Q1717.81 73.9938 1714.77 64.7983 Q1711.77 55.6027 1711.77 46.5287 Q1711.77 37.4952 1714.77 28.3401 Q1717.77 19.1851 1723.88 9.62495 L1730.36 9.62495 Z\" fill=\"#000000\" fill-rule=\"evenodd\" fill-opacity=\"1\" /><path clip-path=\"url(#clip000)\" d=\"M1776.87 34.4165 Q1775.37 33.8899 1773.87 33.4848 Q1769.86 32.4315 1765.57 32.4315 Q1758.15 32.4315 1754.02 36.4419 Q1750.17 40.1688 1749.44 47.0148 L1776.87 47.0148 L1776.87 52.8481 L1749.44 52.8481 Q1750.17 59.6941 1754.02 63.421 Q1758.15 67.4314 1765.57 67.4314 Q1770.75 67.4314 1773.87 66.3781 L1776.87 65.3654 L1776.87 72.1304 L1773.67 72.8596 Q1769.46 73.7508 1765.12 73.7508 Q1754.27 73.7508 1747.95 67.4314 Q1741.59 61.1119 1741.59 49.9314 Q1741.59 38.7509 1747.95 32.4315 Q1754.27 26.1121 1765.12 26.1121 Q1769.21 26.1121 1773.67 27.0033 Q1775.29 27.3274 1776.87 27.8135 L1776.87 34.4165 Z\" fill=\"#000000\" fill-rule=\"evenodd\" fill-opacity=\"1\" /><path clip-path=\"url(#clip000)\" d=\"M1792.1 46.5287 L1813.93 46.5287 L1813.93 53.1722 L1792.1 53.1722 L1792.1 46.5287 Z\" fill=\"#000000\" fill-rule=\"evenodd\" fill-opacity=\"1\" /><path clip-path=\"url(#clip000)\" d=\"M1858.45 28.9478 L1858.45 35.9153 Q1855.29 34.1734 1852.09 33.3227 Q1848.93 32.4315 1845.69 32.4315 Q1838.44 32.4315 1834.43 37.0496 Q1830.42 41.6271 1830.42 49.9314 Q1830.42 58.2358 1834.43 62.8538 Q1838.44 67.4314 1845.69 67.4314 Q1848.93 67.4314 1852.09 66.5807 Q1855.29 65.6895 1858.45 63.9476 L1858.45 70.8341 Q1855.34 72.2924 1851.97 73.0216 Q1848.65 73.7508 1844.88 73.7508 Q1834.63 73.7508 1828.6 67.3098 Q1822.56 60.8689 1822.56 49.9314 Q1822.56 38.832 1828.64 32.472 Q1834.76 26.1121 1845.37 26.1121 Q1848.81 26.1121 1852.09 26.8413 Q1855.38 27.5299 1858.45 28.9478 Z\" fill=\"#000000\" fill-rule=\"evenodd\" fill-opacity=\"1\" /><path clip-path=\"url(#clip000)\" d=\"M1889 32.4315 Q1883 32.4315 1879.52 37.1306 Q1876.04 41.7891 1876.04 49.9314 Q1876.04 58.0738 1879.48 62.7728 Q1882.96 67.4314 1889 67.4314 Q1894.95 67.4314 1898.44 62.7323 Q1901.92 58.0333 1901.92 49.9314 Q1901.92 41.8701 1898.44 37.1711 Q1894.95 32.4315 1889 32.4315 M1889 26.1121 Q1898.72 26.1121 1904.27 32.4315 Q1909.82 38.7509 1909.82 49.9314 Q1909.82 61.0714 1904.27 67.4314 Q1898.72 73.7508 1889 73.7508 Q1879.24 73.7508 1873.69 67.4314 Q1868.18 61.0714 1868.18 49.9314 Q1868.18 38.7509 1873.69 32.4315 Q1879.24 26.1121 1889 26.1121 Z\" fill=\"#000000\" fill-rule=\"evenodd\" fill-opacity=\"1\" /><path clip-path=\"url(#clip000)\" d=\"M1959.89 45.1919 L1959.89 72.576 L1952.44 72.576 L1952.44 45.4349 Q1952.44 38.994 1949.92 35.7938 Q1947.41 32.5936 1942.39 32.5936 Q1936.35 32.5936 1932.87 36.4419 Q1929.39 40.2903 1929.39 46.9338 L1929.39 72.576 L1921.89 72.576 L1921.89 27.2059 L1929.39 27.2059 L1929.39 34.2544 Q1932.06 30.163 1935.66 28.1376 Q1939.31 26.1121 1944.05 26.1121 Q1951.87 26.1121 1955.88 30.9732 Q1959.89 35.7938 1959.89 45.1919 Z\" fill=\"#000000\" fill-rule=\"evenodd\" fill-opacity=\"1\" /><path clip-path=\"url(#clip000)\" d=\"M2003.68 28.5427 L2003.68 35.5912 Q2000.52 33.9709 1997.12 33.1607 Q1993.71 32.3505 1990.07 32.3505 Q1984.52 32.3505 1981.72 34.0519 Q1978.97 35.7533 1978.97 39.156 Q1978.97 41.7486 1980.95 43.2475 Q1982.94 44.7058 1988.93 46.0426 L1991.49 46.6097 Q1999.43 48.3111 2002.75 51.4303 Q2006.11 54.509 2006.11 60.0587 Q2006.11 66.3781 2001.09 70.0644 Q1996.1 73.7508 1987.35 73.7508 Q1983.71 73.7508 1979.74 73.0216 Q1975.81 72.3329 1971.43 70.9151 L1971.43 63.2184 Q1975.57 65.3654 1979.58 66.4591 Q1983.59 67.5124 1987.52 67.5124 Q1992.78 67.5124 1995.62 65.73 Q1998.45 63.9071 1998.45 60.6258 Q1998.45 57.5877 1996.39 55.9673 Q1994.36 54.3469 1987.44 52.8481 L1984.84 52.2405 Q1977.92 50.7821 1974.84 47.7845 Q1971.76 44.7463 1971.76 39.4801 Q1971.76 33.0797 1976.3 29.5959 Q1980.83 26.1121 1989.18 26.1121 Q1993.31 26.1121 1996.95 26.7198 Q2000.6 27.3274 2003.68 28.5427 Z\" fill=\"#000000\" fill-rule=\"evenodd\" fill-opacity=\"1\" /><path clip-path=\"url(#clip000)\" d=\"M2025.35 14.324 L2025.35 27.2059 L2040.7 27.2059 L2040.7 32.9987 L2025.35 32.9987 L2025.35 57.6282 Q2025.35 63.1779 2026.85 64.7578 Q2028.39 66.3376 2033.05 66.3376 L2040.7 66.3376 L2040.7 72.576 L2033.05 72.576 Q2024.42 72.576 2021.14 69.3758 Q2017.86 66.1351 2017.86 57.6282 L2017.86 32.9987 L2012.39 32.9987 L2012.39 27.2059 L2017.86 27.2059 L2017.86 14.324 L2025.35 14.324 Z\" fill=\"#000000\" fill-rule=\"evenodd\" fill-opacity=\"1\" /><path clip-path=\"url(#clip000)\" d=\"M2076.8 34.1734 Q2075.54 33.4443 2074.04 33.1202 Q2072.59 32.7556 2070.8 32.7556 Q2064.48 32.7556 2061.08 36.8875 Q2057.72 40.9789 2057.72 48.6757 L2057.72 72.576 L2050.22 72.576 L2050.22 27.2059 L2057.72 27.2059 L2057.72 34.2544 Q2060.07 30.1225 2063.84 28.1376 Q2067.6 26.1121 2072.99 26.1121 Q2073.76 26.1121 2074.69 26.2337 Q2075.62 26.3147 2076.76 26.5172 L2076.8 34.1734 Z\" fill=\"#000000\" fill-rule=\"evenodd\" fill-opacity=\"1\" /><path clip-path=\"url(#clip000)\" d=\"M2105.24 49.7694 Q2096.2 49.7694 2092.72 51.8354 Q2089.23 53.9013 2089.23 58.8839 Q2089.23 62.8538 2091.83 65.2034 Q2094.46 67.5124 2098.96 67.5124 Q2105.15 67.5124 2108.88 63.1374 Q2112.65 58.7219 2112.65 51.4303 L2112.65 49.7694 L2105.24 49.7694 M2120.1 46.6907 L2120.1 72.576 L2112.65 72.576 L2112.65 65.6895 Q2110.1 69.8214 2106.29 71.8063 Q2102.48 73.7508 2096.97 73.7508 Q2090 73.7508 2085.87 69.8619 Q2081.78 65.9325 2081.78 59.3701 Q2081.78 51.7138 2086.88 47.825 Q2092.03 43.9361 2102.2 43.9361 L2112.65 43.9361 L2112.65 43.2069 Q2112.65 38.0623 2109.25 35.2672 Q2105.88 32.4315 2099.77 32.4315 Q2095.88 32.4315 2092.19 33.3632 Q2088.51 34.295 2085.1 36.1584 L2085.1 29.2718 Q2089.19 27.692 2093.04 26.9223 Q2096.89 26.1121 2100.54 26.1121 Q2110.38 26.1121 2115.24 31.2163 Q2120.1 36.3204 2120.1 46.6907 Z\" fill=\"#000000\" fill-rule=\"evenodd\" fill-opacity=\"1\" /><path clip-path=\"url(#clip000)\" d=\"M2135.46 27.2059 L2142.91 27.2059 L2142.91 72.576 L2135.46 72.576 L2135.46 27.2059 M2135.46 9.54393 L2142.91 9.54393 L2142.91 18.9825 L2135.46 18.9825 L2135.46 9.54393 Z\" fill=\"#000000\" fill-rule=\"evenodd\" fill-opacity=\"1\" /><path clip-path=\"url(#clip000)\" d=\"M2196.22 45.1919 L2196.22 72.576 L2188.77 72.576 L2188.77 45.4349 Q2188.77 38.994 2186.25 35.7938 Q2183.74 32.5936 2178.72 32.5936 Q2172.68 32.5936 2169.2 36.4419 Q2165.72 40.2903 2165.72 46.9338 L2165.72 72.576 L2158.22 72.576 L2158.22 27.2059 L2165.72 27.2059 L2165.72 34.2544 Q2168.39 30.163 2171.99 28.1376 Q2175.64 26.1121 2180.38 26.1121 Q2188.2 26.1121 2192.21 30.9732 Q2196.22 35.7938 2196.22 45.1919 Z\" fill=\"#000000\" fill-rule=\"evenodd\" fill-opacity=\"1\" /><path clip-path=\"url(#clip000)\" d=\"M2218.46 14.324 L2218.46 27.2059 L2233.81 27.2059 L2233.81 32.9987 L2218.46 32.9987 L2218.46 57.6282 Q2218.46 63.1779 2219.96 64.7578 Q2221.5 66.3376 2226.15 66.3376 L2233.81 66.3376 L2233.81 72.576 L2226.15 72.576 Q2217.53 72.576 2214.25 69.3758 Q2210.96 66.1351 2210.96 57.6282 L2210.96 32.9987 L2205.5 32.9987 L2205.5 27.2059 L2210.96 27.2059 L2210.96 14.324 L2218.46 14.324 Z\" fill=\"#000000\" fill-rule=\"evenodd\" fill-opacity=\"1\" /><path clip-path=\"url(#clip000)\" d=\"M2242.44 9.62495 L2248.92 9.62495 Q2255 19.1851 2257.99 28.3401 Q2261.03 37.4952 2261.03 46.5287 Q2261.03 55.6027 2257.99 64.7983 Q2255 73.9938 2248.92 83.5134 L2242.44 83.5134 Q2247.83 74.2369 2250.46 65.0818 Q2253.13 55.8863 2253.13 46.5287 Q2253.13 37.1711 2250.46 28.0566 Q2247.83 18.942 2242.44 9.62495 Z\" fill=\"#000000\" fill-rule=\"evenodd\" fill-opacity=\"1\" /><polyline clip-path=\"url(#clip002)\" style=\"stroke:#009af9; stroke-linecap:round; stroke-linejoin:round; stroke-width:4; stroke-opacity:1; fill:none\" points=\"\n",
       "  461.877,159.909 920.828,545.312 1379.78,872.292 1838.73,1180.1 2297.68,1374.46 \n",
       "  \"/>\n",
       "<circle clip-path=\"url(#clip002)\" cx=\"461.877\" cy=\"159.909\" r=\"14.4\" fill=\"#e26f46\" fill-rule=\"evenodd\" fill-opacity=\"1\" stroke=\"#000000\" stroke-opacity=\"1\" stroke-width=\"3.2\"/>\n",
       "<circle clip-path=\"url(#clip002)\" cx=\"920.828\" cy=\"545.312\" r=\"14.4\" fill=\"#e26f46\" fill-rule=\"evenodd\" fill-opacity=\"1\" stroke=\"#000000\" stroke-opacity=\"1\" stroke-width=\"3.2\"/>\n",
       "<circle clip-path=\"url(#clip002)\" cx=\"1379.78\" cy=\"872.292\" r=\"14.4\" fill=\"#e26f46\" fill-rule=\"evenodd\" fill-opacity=\"1\" stroke=\"#000000\" stroke-opacity=\"1\" stroke-width=\"3.2\"/>\n",
       "<circle clip-path=\"url(#clip002)\" cx=\"1838.73\" cy=\"1180.1\" r=\"14.4\" fill=\"#e26f46\" fill-rule=\"evenodd\" fill-opacity=\"1\" stroke=\"#000000\" stroke-opacity=\"1\" stroke-width=\"3.2\"/>\n",
       "<circle clip-path=\"url(#clip002)\" cx=\"2297.68\" cy=\"1374.46\" r=\"14.4\" fill=\"#e26f46\" fill-rule=\"evenodd\" fill-opacity=\"1\" stroke=\"#000000\" stroke-opacity=\"1\" stroke-width=\"3.2\"/>\n",
       "<path clip-path=\"url(#clip000)\" d=\"\n",
       "M2040.87 321.906 L2287.89 321.906 L2287.89 166.386 L2040.87 166.386  Z\n",
       "  \" fill=\"#ffffff\" fill-rule=\"evenodd\" fill-opacity=\"1\"/>\n",
       "<polyline clip-path=\"url(#clip000)\" style=\"stroke:#000000; stroke-linecap:round; stroke-linejoin:round; stroke-width:4; stroke-opacity:1; fill:none\" points=\"\n",
       "  2040.87,321.906 2287.89,321.906 2287.89,166.386 2040.87,166.386 2040.87,321.906 \n",
       "  \"/>\n",
       "<polyline clip-path=\"url(#clip000)\" style=\"stroke:#009af9; stroke-linecap:round; stroke-linejoin:round; stroke-width:4; stroke-opacity:1; fill:none\" points=\"\n",
       "  2062.49,218.226 2192.22,218.226 \n",
       "  \"/>\n",
       "<path clip-path=\"url(#clip000)\" d=\"M2227.68 237.914 Q2225.88 242.543 2224.16 243.955 Q2222.45 245.367 2219.58 245.367 L2216.18 245.367 L2216.18 241.803 L2218.68 241.803 Q2220.44 241.803 2221.41 240.969 Q2222.38 240.136 2223.56 237.034 L2224.32 235.09 L2213.84 209.58 L2218.35 209.58 L2226.45 229.858 L2234.56 209.58 L2239.07 209.58 L2227.68 237.914 Z\" fill=\"#000000\" fill-rule=\"evenodd\" fill-opacity=\"1\" /><path clip-path=\"url(#clip000)\" d=\"M2246.36 231.571 L2254 231.571 L2254 205.206 L2245.69 206.872 L2245.69 202.613 L2253.95 200.946 L2258.63 200.946 L2258.63 231.571 L2266.27 231.571 L2266.27 235.506 L2246.36 235.506 L2246.36 231.571 Z\" fill=\"#000000\" fill-rule=\"evenodd\" fill-opacity=\"1\" /><circle clip-path=\"url(#clip000)\" cx=\"2127.35\" cy=\"270.066\" r=\"23.04\" fill=\"#e26f46\" fill-rule=\"evenodd\" fill-opacity=\"1\" stroke=\"#000000\" stroke-opacity=\"1\" stroke-width=\"5.12\"/>\n",
       "<path clip-path=\"url(#clip000)\" d=\"M2227.68 289.754 Q2225.88 294.383 2224.16 295.795 Q2222.45 297.207 2219.58 297.207 L2216.18 297.207 L2216.18 293.643 L2218.68 293.643 Q2220.44 293.643 2221.41 292.809 Q2222.38 291.976 2223.56 288.874 L2224.32 286.93 L2213.84 261.42 L2218.35 261.42 L2226.45 281.698 L2234.56 261.42 L2239.07 261.42 L2227.68 289.754 Z\" fill=\"#000000\" fill-rule=\"evenodd\" fill-opacity=\"1\" /><path clip-path=\"url(#clip000)\" d=\"M2249.58 283.411 L2265.9 283.411 L2265.9 287.346 L2243.95 287.346 L2243.95 283.411 Q2246.62 280.656 2251.2 276.027 Q2255.81 271.374 2256.99 270.032 Q2259.23 267.508 2260.11 265.772 Q2261.01 264.013 2261.01 262.323 Q2261.01 259.569 2259.07 257.833 Q2257.15 256.096 2254.05 256.096 Q2251.85 256.096 2249.39 256.86 Q2246.96 257.624 2244.19 259.175 L2244.19 254.453 Q2247.01 253.319 2249.46 252.74 Q2251.92 252.161 2253.95 252.161 Q2259.32 252.161 2262.52 254.846 Q2265.71 257.532 2265.71 262.022 Q2265.71 264.152 2264.9 266.073 Q2264.12 267.971 2262.01 270.564 Q2261.43 271.235 2258.33 274.453 Q2255.23 277.647 2249.58 283.411 Z\" fill=\"#000000\" fill-rule=\"evenodd\" fill-opacity=\"1\" /></svg>\n"
      ]
     },
     "execution_count": 333,
     "metadata": {},
     "output_type": "execute_result"
    }
   ],
   "source": [
    "x_axis = ls_eo\n",
    "y_axis = ls_ss\n",
    "\n",
    "plot(x_axis, y_axis)\n",
    "plot!(x_axis, y_axis, seriestype=:scatter)\n",
    "# scatter(x_axis, y_axis)\n",
    "\n",
    "title!(\"Over the whole supply chain (ϵ-constraint)\")\n",
    "xlabel!(\"Ecologically Safe\")\n",
    "ylabel!(\"Socially Just\")"
   ]
  },
  {
   "cell_type": "code",
   "execution_count": null,
   "id": "39cd17cd",
   "metadata": {},
   "outputs": [],
   "source": []
  }
 ],
 "metadata": {
  "kernelspec": {
   "display_name": "Julia 1.8.3",
   "language": "julia",
   "name": "julia-1.8"
  },
  "language_info": {
   "file_extension": ".jl",
   "mimetype": "application/julia",
   "name": "julia",
   "version": "1.8.3"
  }
 },
 "nbformat": 4,
 "nbformat_minor": 5
}
