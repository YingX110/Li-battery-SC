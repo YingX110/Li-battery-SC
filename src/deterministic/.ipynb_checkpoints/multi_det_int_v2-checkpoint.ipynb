{
 "cells": [
  {
   "cell_type": "code",
   "execution_count": 105,
   "id": "5edf3ebd",
   "metadata": {},
   "outputs": [],
   "source": [
    "using JuMP, Gurobi\n",
    "using CSV, LinearAlgebra, DataFrames\n",
    "using Plots\n",
    "using DelimitedFiles"
   ]
  },
  {
   "cell_type": "code",
   "execution_count": 106,
   "id": "9200f615",
   "metadata": {},
   "outputs": [],
   "source": [
    "path = \"C:/Users/bourg/.julia/environments/batterySC/Li-battery-SC/src/deterministic/data/\";"
   ]
  },
  {
   "cell_type": "code",
   "execution_count": 107,
   "id": "93d2a5ce",
   "metadata": {},
   "outputs": [],
   "source": [
    "#load social and ecological data and orgnize \n",
    "FL = repeat([Float64], inner=15)\n",
    "dtype = append!([String], FL);\n",
    "\n",
    "regional_EF = CSV.File(string(path,\"EF_SC31.csv\"),header=1,delim=\",\", types=dtype) |> DataFrame    \n",
    "capacity = CSV.File(string(path,\"capacity31.csv\"),header=1,delim=\",\", types=dtype) |> DataFrame    \n",
    "distance = CSV.File(string(path,\"distance31.csv\"),header=1,delim=\",\") |> DataFrame \n",
    "LCA_model = CSV.File(string(path,\"LCA_model.csv\"), header=1, delim=\",\") |> DataFrame \n",
    "SDD = CSV.File(string(path,\"SDD31.csv\"),header=1,delim=\",\") |> DataFrame;"
   ]
  },
  {
   "cell_type": "code",
   "execution_count": 108,
   "id": "5118b2b5",
   "metadata": {},
   "outputs": [],
   "source": [
    "global_sink = 1.099e10                        # global pub (ocean) CO2 sequestration (ton/yr)\n",
    "global_sink_tot = 2.236e10                  # global total (ocean+land) CO2 sequestration (ton/yr)\n",
    "global_emi = 3.53e10                          # global CO2 emission (ton/yr)                          # 2021 global GD ($/yr)\n",
    "es_ratio = global_sink/global_emi\n",
    "\n",
    "emission_c = SDD[!, \"emission\"]          # national CO2 emission (ton/yr)\n",
    "sink_c = SDD[!, \"sink ton/yr\"]           # national CO2 sink (ton/yr)\n",
    "Dsoc = SDD[!, \"Dsoc ton/yr\"]           # national CO2 sink (ton/yr)\n",
    "\n",
    "EF_trans = 1.005/10000                        # ton CO2/km*ton (The average freight truck in the U.S. emits 161.8 grams of CO2 per ton-mile)\n",
    "process = LCA_model[!,\"process\"]\n",
    "countries = capacity[!,\"country\"]\n",
    "ncty = size(countries,1)                          # No. of countries\n",
    "nproc = size(process,1);                          # No. of processes \n",
    "\n",
    "mkt_loc = findfirst(isequal(\"United States\"), countries)\n",
    "mkt_proc = findfirst(isequal(\"battery\"), process)\n",
    "\n",
    "# seperate model\n",
    "cathode = collect(1:4)\n",
    "cell = collect(5:10)\n",
    "noncell = [12,13]\n",
    "battery = [11,14]\n",
    "scaler = LCA_model[!,\"scaler\"];"
   ]
  },
  {
   "cell_type": "code",
   "execution_count": 139,
   "id": "4729c3eb",
   "metadata": {},
   "outputs": [],
   "source": [
    "cell_demand = 0.001*164.98*(1.369*1e6)*2;           # annual demand of Li battery for tesla (1.369M EV/yr, ~2 NMC111 pack/EV, 164.98 kg/pack (35kwh/pack), 80~100 kWh per EV)"
   ]
  },
  {
   "cell_type": "code",
   "execution_count": 142,
   "id": "8675cf9c",
   "metadata": {},
   "outputs": [],
   "source": [
    "cell_demand = 500000;"
   ]
  },
  {
   "cell_type": "markdown",
   "id": "a5a22eba",
   "metadata": {},
   "source": [
    "----"
   ]
  },
  {
   "cell_type": "code",
   "execution_count": 143,
   "id": "4a2dd54c",
   "metadata": {},
   "outputs": [],
   "source": [
    "# function OvershootPct_proc(tp=\"PRODUCER\")\n",
    "#     model = Model(Gurobi.Optimizer)\n",
    "#     set_optimizer_attribute(model, \"NonConvex\", 2)\n",
    "    \n",
    "#     @variable(model, x[1:ncty, 1:nproc] >= 0)\n",
    "#     @variable(model, y[1:ncty, 1:ncty, 1:nproc] >= 0)\n",
    "#     @variable(model, delta[1:ncty, 1:nproc], Bin)\n",
    "#     @variable(model, z[1:ncty, 1:nproc], Bin)\n",
    "#     @variable(model, obj>=0);\n",
    "    \n",
    "#     M = 1e10\n",
    "#     slack = 1e-10\n",
    "    \n",
    "#     x_cth = [@constraint(model, sum(x[i,k] for i in 1:ncty) == sum(x[i,5] for i in 1:ncty) * scaler[k]) for k in cathode]\n",
    "#     x_cell = [@constraint(model, sum(x[i,k] for i in 1:ncty) == sum(x[i,11] for i in 1:ncty) * scaler[k]) for k in cell]\n",
    "#     x_noncell = [@constraint(model, sum(x[i,k] for i in 1:ncty) == sum(x[i,14] for i in 1:ncty) * scaler[k]) for k in noncell]\n",
    "#     x_battery = [@constraint(model, sum(x[i,k] for i in 1:ncty) == sum(x[i,15] for i in 1:ncty) * scaler[k]) for k in battery];\n",
    "\n",
    "#     cstr_cap = [@constraint(model, x[i,k] <= capacity[!, 2:end][i,k]) for k in 1:nproc for i in 1:ncty]\n",
    "#     cstr_op = [@constraint(model, sum(y[i,j,k] for j in 1:ncty) == x[i,k]) for k in 1:nproc for i in 1:ncty]\n",
    "#     cstr_cth = [@constraint(model, sum(y[i,j,k] for i in 1:ncty) == x[j,5]*scaler[k]) for k in cathode for j in 1:ncty]\n",
    "#     cstr_cell = [@constraint(model, sum(y[i,j,k] for i in 1:ncty) == x[j,11]*scaler[k]) for k in cell for j in 1:ncty]\n",
    "#     cstr_noncell = [@constraint(model, sum(y[i,j,k] for i in 1:ncty) == x[j,14]*scaler[k]) for k in noncell for j in 1:ncty]\n",
    "#     cstr_battery = [@constraint(model, sum(y[i,j,k] for i in 1:ncty) == x[j,15]*scaler[k]) for k in battery for j in 1:ncty]\n",
    "\n",
    "#     @constraint(model, sum(y[i,mkt_loc,mkt_proc] for i in 1:ncty) == cell_demand)\n",
    "#     tmp = filter!(e->e!=mkt_loc,collect(1:ncty))\n",
    "#     for j in tmp\n",
    "#         @constraint(model, sum(y[i,j,mkt_proc] for i in 1:ncty) == 0);\n",
    "#     end\n",
    "    \n",
    "#     proD = x .* Matrix(regional_EF[:,2:end])\n",
    "#     pro_sink = zeros(ncty, nproc)\n",
    "#     for k in 1:nproc\n",
    "#         for i in 1:ncty\n",
    "#             pro_sink[i,k] = regional_EF[i, k+1] * (sink_c[i]/emission_c[i] + es_ratio)\n",
    "#         end\n",
    "#     end\n",
    "#     proS = x .* pro_sink\n",
    "\n",
    "\n",
    "#     transD = Matrix{AffExpr}(undef, ncty, nproc)\n",
    "#     if tp == \"PRODUCER\"\n",
    "#         for k in 1:nproc\n",
    "#             for j in 1:ncty\n",
    "#                 emi = 0\n",
    "#                 for i in 1:ncty\n",
    "#                     emi += y[i,j,k] * distance[!, 2:end][i,j] * EF_trans  #PRODUCER\n",
    "#                 end\n",
    "#                 transD[j,k] = emi\n",
    "#             end\n",
    "#         end\n",
    "#     elseif tp == \"CUSTOMER\"\n",
    "#         for k in 1:nproc\n",
    "#             for i in 1:ncty\n",
    "#                 emi = 0\n",
    "#                 for j in 1:ncty\n",
    "#                     emi += y[i,j,k] * distance[!, 2:end][i,j] * EF_trans #CUSTOMER\n",
    "#                 end\n",
    "#                 transD[i,k] = emi\n",
    "#             end\n",
    "#         end\n",
    "#     end\n",
    "    \n",
    "#     Allo_Dsoc = (proD*ones(nproc,1)) .* (Dsoc./emission_c)\n",
    "#     SS = transD*ones(nproc,1) + proD*ones(nproc,1) - Allo_Dsoc\n",
    "#     cstr_soc = [@constraint(model, SS[i] >= slack) for i in 1:ncty]\n",
    "\n",
    "#     EO = proD - proS + transD\n",
    "    \n",
    "#     for i in 1:ncty\n",
    "#         for k in 1:nproc\n",
    "#             @constraint(model, EO[i,k] >= slack + (delta[i,k] - 1) * M)\n",
    "#             @constraint(model, EO[i,k] <= delta[i,k] * M - slack)\n",
    "#             @constraint(model, EO[i,k] >= z[i,k])\n",
    "#             @constraint(model, EO[i,k] <= z[i,k] * M)\n",
    "#         end\n",
    "#     end\n",
    "    \n",
    "    \n",
    "#     @constraint(model, obj*(sum(z)) == sum(delta))\n",
    "#     @objective(model, Min, obj)\n",
    "    \n",
    "    \n",
    "#     JuMP.optimize!(model)\n",
    "#     optx = JuMP.value.(x)\n",
    "#     opty = JuMP.value.(y)\n",
    "#     optz = JuMP.value.(z)\n",
    "#     obj = JuMP.objective_value(model)\n",
    "#     res = Dict([\"optx\"=>optx, \"optobj\"=>obj, \"opty\"=>opty, \"optz\"=>optz])\n",
    "    \n",
    "#     return res\n",
    "# end\n"
   ]
  },
  {
   "cell_type": "code",
   "execution_count": 144,
   "id": "f2a3c924",
   "metadata": {},
   "outputs": [
    {
     "data": {
      "text/plain": [
       "EO_SS_Model (generic function with 1 method)"
      ]
     },
     "execution_count": 144,
     "metadata": {},
     "output_type": "execute_result"
    }
   ],
   "source": [
    "function EO_SS_Model(objfunc)\n",
    "    model = Model(Gurobi.Optimizer)\n",
    "    @variable(model, x[1:ncty, 1:nproc] >= 0)\n",
    "    @variable(model, y[1:ncty, 1:ncty, 1:nproc] >= 0)\n",
    "    \n",
    "    x_cth = [@constraint(model, sum(x[i,k] for i in 1:ncty) == sum(x[i,5] for i in 1:ncty) * scaler[k]) for k in cathode]\n",
    "    x_cell = [@constraint(model, sum(x[i,k] for i in 1:ncty) == sum(x[i,11] for i in 1:ncty) * scaler[k]) for k in cell]\n",
    "    x_noncell = [@constraint(model, sum(x[i,k] for i in 1:ncty) == sum(x[i,14] for i in 1:ncty) * scaler[k]) for k in noncell]\n",
    "    x_battery = [@constraint(model, sum(x[i,k] for i in 1:ncty) == sum(x[i,15] for i in 1:ncty) * scaler[k]) for k in battery];\n",
    "\n",
    "    cstr_cap = [@constraint(model, x[i,k] <= capacity[!, 2:end][i,k]) for k in 1:nproc for i in 1:ncty]\n",
    "    cstr_op = [@constraint(model, sum(y[i,j,k] for j in 1:ncty) == x[i,k]) for k in 1:nproc for i in 1:ncty]\n",
    "    cstr_cth = [@constraint(model, sum(y[i,j,k] for i in 1:ncty) == x[j,5]*scaler[k]) for k in cathode for j in 1:ncty]\n",
    "    cstr_cell = [@constraint(model, sum(y[i,j,k] for i in 1:ncty) == x[j,11]*scaler[k]) for k in cell for j in 1:ncty]\n",
    "    cstr_noncell = [@constraint(model, sum(y[i,j,k] for i in 1:ncty) == x[j,14]*scaler[k]) for k in noncell for j in 1:ncty]\n",
    "    cstr_battery = [@constraint(model, sum(y[i,j,k] for i in 1:ncty) == x[j,15]*scaler[k]) for k in battery for j in 1:ncty]\n",
    "    \n",
    "    @constraint(model, sum(y[i,mkt_loc,mkt_proc] for i in 1:ncty) == cell_demand)\n",
    "    tmp = filter!(e->e!=mkt_loc,collect(1:ncty))\n",
    "    for j in tmp\n",
    "        @constraint(model, sum(y[i,j,mkt_proc] for i in 1:ncty) == 0);\n",
    "    end\n",
    "    \n",
    "    \n",
    "    # obj func calculation\n",
    "    proD = (x .* Matrix(regional_EF[:,2:end])) * ones(nproc,1)  \n",
    "    pro_sink = zeros(ncty, nproc)\n",
    "    for k in 1:nproc\n",
    "        for i in 1:ncty\n",
    "            pro_sink[i,k] = regional_EF[i, k+1] * (sink_c[i]/emission_c[i] + es_ratio)\n",
    "        end\n",
    "    end\n",
    "    proS = (x.*pro_sink)*ones(nproc,1)  # ncty*1 matrix\n",
    "\n",
    "    transS = Vector{AffExpr}(undef, ncty)\n",
    "    transD = Vector{AffExpr}(undef, ncty)\n",
    "    for j in 1:ncty\n",
    "        arc_emi = 0\n",
    "        arc_seq = 0\n",
    "        for i in 1:ncty\n",
    "            amount = sum(y[i,j,k] for k in 1:nproc)\n",
    "            arc_emi += amount * distance[!, 2:end][i,j] * EF_trans\n",
    "            arc_seq += arc_emi * (sink_c[j]/emission_c[j] + es_ratio)\n",
    "        end\n",
    "        transD[j] = arc_emi  \n",
    "        transS[j] = arc_seq\n",
    "    end\n",
    "\n",
    "    Allo_soc = proD ./ emission_c .* Dsoc\n",
    "    \n",
    "    \n",
    "    SS = sum(Allo_soc - (proD + transD))\n",
    "    EO = sum(proD - proS + transD)\n",
    "    \n",
    "    \n",
    "    if objfunc == \"Ecological\"\n",
    "        @objective(model, Min, EO);\n",
    "    else\n",
    "        @objective(model, Min, SS);\n",
    "    end\n",
    "      \n",
    "    JuMP.optimize!(model)\n",
    "\n",
    "    opt_x = JuMP.value.(x)\n",
    "    opt_y = JuMP.value.(y)\n",
    "    opt_obj = JuMP.objective_value(model);\n",
    "    result = Dict([\"optx\"=>opt_x, \"optobj\"=>opt_obj, \"opty\"=>opt_y])\n",
    "    return result\n",
    "end"
   ]
  },
  {
   "cell_type": "code",
   "execution_count": null,
   "id": "f3862be2",
   "metadata": {},
   "outputs": [],
   "source": []
  },
  {
   "cell_type": "code",
   "execution_count": null,
   "id": "eacb2cb9",
   "metadata": {},
   "outputs": [],
   "source": []
  },
  {
   "cell_type": "code",
   "execution_count": 270,
   "id": "d11ac94c",
   "metadata": {},
   "outputs": [
    {
     "data": {
      "text/plain": [
       "OvershootPct_proc (generic function with 2 methods)"
      ]
     },
     "execution_count": 270,
     "metadata": {},
     "output_type": "execute_result"
    }
   ],
   "source": [
    "function OvershootPct_proc(tp=\"PRODUCER\")\n",
    "    model = Model(Gurobi.Optimizer)\n",
    "    set_optimizer_attribute(model, \"NonConvex\", 2)\n",
    "    \n",
    "    @variable(model, x[1:ncty, 1:nproc] >= 0.00)\n",
    "    @variable(model, y[1:ncty, 1:ncty, 1:nproc] >= 0.00)\n",
    "    @variable(model, delta[1:ncty, 1:nproc], Bin)\n",
    "    @variable(model, beta[1:ncty, 1:nproc], Bin)\n",
    "    @variable(model, z[1:ncty, 1:nproc], Bin)\n",
    "    @variable(model, r[1:ncty, 1:nproc], Bin)\n",
    "    @variable(model, t[1:ncty, 1:nproc], Bin)\n",
    "    @variable(model, obj>=0);\n",
    "    \n",
    "    M = 1e10\n",
    "    slack = 1e-10\n",
    "    \n",
    "    cstr_bin = [@constraint(model, sum(z[i,k] + r[i,k] + t[i,k]) == 1) for i in 1:ncty for k in 1:nproc]\n",
    "    \n",
    "    x_cth = [@constraint(model, sum(x[i,k] for i in 1:ncty) >= sum(x[i,5] for i in 1:ncty) * scaler[k]) for k in cathode]\n",
    "    x_cell = [@constraint(model, sum(x[i,k] for i in 1:ncty) >= sum(x[i,11] for i in 1:ncty) * scaler[k]) for k in cell]\n",
    "    x_noncell = [@constraint(model, sum(x[i,k] for i in 1:ncty) >= sum(x[i,14] for i in 1:ncty) * scaler[k]) for k in noncell]\n",
    "    x_battery = [@constraint(model, sum(x[i,k] for i in 1:ncty) >= sum(x[i,15] for i in 1:ncty) * scaler[k]) for k in battery];\n",
    "\n",
    "    cstr_cap = [@constraint(model, x[i,k] <= capacity[!, 2:end][i,k]) for k in 1:nproc for i in 1:ncty]\n",
    "    cstr_op = [@constraint(model, sum(y[i,j,k] for j in 1:ncty) <= x[i,k]) for k in 1:nproc for i in 1:ncty]\n",
    "    cstr_cth = [@constraint(model, sum(y[i,j,k] for i in 1:ncty) >= x[j,5]*scaler[k]) for k in cathode for j in 1:ncty]\n",
    "    cstr_cell = [@constraint(model, sum(y[i,j,k] for i in 1:ncty) >= x[j,11]*scaler[k]) for k in cell for j in 1:ncty]\n",
    "    cstr_noncell = [@constraint(model, sum(y[i,j,k] for i in 1:ncty) >= x[j,14]*scaler[k]) for k in noncell for j in 1:ncty]\n",
    "    cstr_battery = [@constraint(model, sum(y[i,j,k] for i in 1:ncty) >= x[j,15]*scaler[k]) for k in battery for j in 1:ncty]\n",
    "\n",
    "    @constraint(model, sum(y[i,mkt_loc,mkt_proc] for i in 1:ncty) >= cell_demand)\n",
    "    tmp = filter!(e->e!=mkt_loc,collect(1:ncty))\n",
    "    for j in tmp\n",
    "        @constraint(model, sum(y[i,j,mkt_proc] for i in 1:ncty) == 0);\n",
    "    end\n",
    "    \n",
    "    proD = x .* Matrix(regional_EF[:,2:end])\n",
    "    pro_sink = zeros(ncty, nproc)\n",
    "    for k in 1:nproc\n",
    "        for i in 1:ncty\n",
    "            pro_sink[i,k] = regional_EF[i, k+1] * (sink_c[i]/emission_c[i] + es_ratio)\n",
    "        end\n",
    "    end\n",
    "    proS = x .* pro_sink\n",
    "\n",
    "\n",
    "    transD = Matrix{AffExpr}(undef, ncty, nproc)\n",
    "    if tp == \"PRODUCER\"\n",
    "        for k in 1:nproc\n",
    "            for i in 1:ncty\n",
    "                emi = 0\n",
    "                for j in 1:ncty\n",
    "                    emi += y[i,j,k] * distance[!, 2:end][i,j] * EF_trans  #PRODUCER\n",
    "                end\n",
    "                transD[i,k] = emi\n",
    "            end\n",
    "        end\n",
    "    elseif tp == \"CONSUMER\"\n",
    "        for k in 1:nproc\n",
    "            for j in 1:ncty\n",
    "                emi = 0\n",
    "                for i in 1:ncty\n",
    "                    emi += y[i,j,k] * distance[!, 2:end][i,j] * EF_trans #CUSTOMER\n",
    "                end\n",
    "                transD[j,k] = emi\n",
    "            end\n",
    "        end\n",
    "    end\n",
    "    \n",
    "    Allo_Dsoc = (proD*ones(nproc,1)) .* (Dsoc./emission_c)\n",
    "    SS = transD*ones(nproc,1) + proD*ones(nproc,1) - Allo_Dsoc\n",
    "    cstr_soc = [@constraint(model, SS[i] >= slack) for i in 1:ncty]\n",
    "\n",
    "    EO = proD - proS + transD\n",
    "    a = -0.01\n",
    "    b = 0.01\n",
    "    \n",
    "    for i in 1:ncty\n",
    "        for k in 1:nproc\n",
    "            @constraint(model, EO[i,k] >= slack + (delta[i,k] - 1) * M)\n",
    "            @constraint(model, EO[i,k] <= delta[i,k] * M - slack)\n",
    "#             @constraint(model, EO[i,k] >= z[i,k])\n",
    "#             @constraint(model, EO[i,k] <= z[i,k] * M)\n",
    "            @constraint(model, x[i,k] <= beta[i,k] * M)\n",
    "            @constraint(model, x[i,k] >= -M * (1 - beta[i,k]) + 10)\n",
    "            \n",
    "            @constraint(model, EO[i,k] >= -M*r[i,k] + a*z[i,k] + (b+slack)*t[i,k])\n",
    "            @constraint(model, EO[i,k] <= (a-slack)*r[i,k] + b*z[i,k] + M*t[i,k])\n",
    "        end\n",
    "    end\n",
    "    \n",
    "    num_selected = ncty * nproc - sum(z)\n",
    "    @constraint(model, obj*num_selected == sum(delta))\n",
    "#     @constraint(model, obj*(sum(z)) == sum(delta))\n",
    "    @objective(model, Min, obj)\n",
    "    \n",
    "    \n",
    "    JuMP.optimize!(model)\n",
    "    optx = JuMP.value.(x)\n",
    "    opty = JuMP.value.(y)\n",
    "    optz = JuMP.value.(z)\n",
    "    obj = JuMP.objective_value(model)\n",
    "    res = Dict([\"optx\"=>optx, \"optobj\"=>obj, \"opty\"=>opty, \"optz\"=>optz])\n",
    "    \n",
    "    return res\n",
    "end\n"
   ]
  },
  {
   "cell_type": "code",
   "execution_count": 273,
   "id": "dbdfa043",
   "metadata": {},
   "outputs": [
    {
     "name": "stdout",
     "output_type": "stream",
     "text": [
      "Academic license - for non-commercial use only - expires 2024-12-26\r\n",
      "Gurobi Optimizer version 9.1.2 build v9.1.2rc0 (win64)\r\n",
      "Thread count: 6 physical cores, 12 logical processors, using up to 12 threads\r\n",
      "Optimize a model with 4695 rows, 17206 columns and 110112 nonzeros\r\n",
      "Model fingerprint: 0xa31fcd82\r\n",
      "Model has 1 quadratic constraint\r\n",
      "Variable types: 14881 continuous, 2325 integer (2325 binary)\r\n",
      "Coefficient statistics:\r\n",
      "  Matrix range     [4e-03, 1e+10]\r\n",
      "  QMatrix range    [1e+00, 1e+00]\r\n",
      "  QLMatrix range   [1e+00, 5e+02]\r\n",
      "  Objective range  [1e+00, 1e+00]\r\n",
      "  Bounds range     [0e+00, 0e+00]\r\n",
      "  RHS range        [1e-10, 1e+11]\r\n",
      "Warning: Model contains large matrix coefficient range\r\n",
      "Warning: Model contains large rhs\r\n",
      "         Consider reformulating model or setting NumericFocus parameter\r\n",
      "         to avoid numerical issues.\r\n",
      "Presolve removed 3458 rows and 11294 columns\r\n",
      "Presolve time: 0.10s\r\n",
      "Presolved: 1594 rows, 6446 columns, 26295 nonzeros\r\n",
      "Presolved model has 356 SOS constraint(s)\r\n",
      "Variable types: 5540 continuous, 906 integer (906 binary)\r\n",
      "\r\n",
      "Root relaxation: objective 0.000000e+00, 379 iterations, 0.01 seconds\r\n",
      "\r\n",
      "    Nodes    |    Current Node    |     Objective Bounds      |     Work\r\n",
      " Expl Unexpl |  Obj  Depth IntInf | Incumbent    BestBd   Gap | It/Node Time\r\n",
      "\r\n",
      "     0     0    0.00000    0    1          -    0.00000      -     -    0s\r\n",
      "H    0     0                       0.7407407    0.00000   100%     -    0s\r\n",
      "     0     0    0.00000    0    1    0.74074    0.00000   100%     -    0s\r\n",
      "     0     0    0.00000    0    1    0.74074    0.00000   100%     -    0s\r\n",
      "     0     2    0.00000    0    1    0.74074    0.00000   100%     -    0s\r\n",
      "* 1511  2095             173       0.3272727    0.00000   100%   3.2    1s\r\n",
      "* 1773  2095             176       0.3148148    0.00000   100%   3.0    1s\r\n",
      "H 2712  2365                       0.1500004    0.11402  24.0%   2.9    2s\r\n",
      "H 2713  2247                       0.1481484    0.11402  23.0%   2.9    2s\r\n",
      "\r\n",
      "Cutting planes:\r\n",
      "  Learned: 53\r\n",
      "  Cover: 90\r\n",
      "  Implied bound: 127\r\n",
      "  Clique: 5\r\n",
      "  MIR: 16\r\n",
      "  Flow cover: 637\r\n",
      "  Inf proof: 1\r\n",
      "  Zero half: 2\r\n",
      "  RLT: 2\r\n",
      "  Relax-and-lift: 4\r\n",
      "\r\n",
      "Explored 2715 nodes (12197 simplex iterations) in 2.44 seconds\r\n",
      "Thread count was 12 (of 12 available processors)\r\n",
      "\r\n",
      "Solution count 5: 0.148148 0.15 0.314815 ... 0.740741\r\n",
      "\r\n",
      "Optimal solution found (tolerance 1.00e-04)\r\n",
      "Warning: max constraint violation (3.3753e+00) exceeds tolerance\r\n",
      "         (possibly due to large matrix coefficients)\r\n",
      "Best objective 1.481483746273e-01, best bound 1.481483746273e-01, gap 0.0000%\r\n",
      "\r\n",
      "User-callback calls 6037, time in user-callback 0.00 sec\r\n"
     ]
    },
    {
     "data": {
      "text/plain": [
       "Dict{String, Any} with 4 entries:\n",
       "  \"optobj\" => 0.148148\n",
       "  \"optz\"   => [1.0 1.0 … 1.0 1.0; 0.0 1.0 … 1.0 1.0; … ; 1.0 1.0 … 1.0 1.0; 1.0…\n",
       "  \"opty\"   => [0.0 0.0 … 0.0 0.0; 0.0 0.0 … 0.0 1.76811e-10; … ; 0.0 0.0 … 0.0 …\n",
       "  \"optx\"   => [0.0 0.0 … 0.0 0.0; 15979.7 -7.96746e-12 … -1.35491e-14 0.0; … ; …"
      ]
     },
     "execution_count": 273,
     "metadata": {},
     "output_type": "execute_result"
    }
   ],
   "source": [
    "PCT = OvershootPct_proc()"
   ]
  },
  {
   "cell_type": "code",
   "execution_count": 274,
   "id": "b5b705a2",
   "metadata": {},
   "outputs": [
    {
     "data": {
      "text/plain": [
       "31×15 Matrix{Float64}:\n",
       "     0.0              0.0          …  0.0   0.0               0.0\n",
       " 15979.7             -7.96746e-12     0.0  -1.35491e-14       0.0\n",
       "    -2.18827e-9       0.0             0.0   0.0               0.0\n",
       "   500.0             10.0             0.0  10.0               0.0\n",
       " 39000.0              0.0             0.0  10.0               0.0\n",
       "     0.0             -3.65343e-12  …  0.0   0.0               0.0\n",
       "     0.0              0.0             0.0   0.0               0.0\n",
       "     0.0          76932.8             0.0   0.0               0.0\n",
       "     0.0             10.0             0.0   4.99984e5         0.0\n",
       "     0.0              0.0             0.0   0.0               0.0\n",
       "     0.0              0.0          …  0.0   0.0          500000.0\n",
       "     0.0              0.0             0.0   0.0               0.0\n",
       "     0.0              0.0             0.0  -1.69316e-14       0.0\n",
       "     ⋮                             ⋱                     \n",
       "     0.0              0.0             0.0  10.0               0.0\n",
       "     0.0              0.0          …  0.0   0.0               0.0\n",
       "     0.0              0.0             0.0  -1.12662e-14       0.0\n",
       "    -8.4424e-11       0.0             0.0  10.0               0.0\n",
       "     0.0           3500.0             0.0  10.0               0.0\n",
       "     0.0              0.0             0.0   0.0               0.0\n",
       "     0.0              0.0          …  0.0   0.0               0.0\n",
       "     0.0              0.0             0.0  -1.84912e-14       0.0\n",
       "     0.0              0.0             0.0   0.0               0.0\n",
       "     0.0              0.0             0.0   0.0               0.0\n",
       "     0.0              0.0             0.0   0.0               0.0\n",
       "    -9.23868e-11      0.0          …  0.0   0.0               0.0"
      ]
     },
     "execution_count": 274,
     "metadata": {},
     "output_type": "execute_result"
    }
   ],
   "source": [
    "y = PCT[\"opty\"]\n",
    "z = PCT[\"optz\"]\n",
    "x = PCT[\"optx\"]"
   ]
  },
  {
   "cell_type": "code",
   "execution_count": 277,
   "id": "c5c190a6",
   "metadata": {},
   "outputs": [
    {
     "data": {
      "text/plain": [
       "31×15 Matrix{Float64}:\n",
       "  1.0          1.0   1.0          1.0  …  1.0  1.0  1.0   1.0          1.0\n",
       "  0.0          1.0   1.0          1.0     1.0  1.0  1.0   1.0          1.0\n",
       "  1.0          1.0   1.0          1.0     1.0  1.0  1.0   1.0          1.0\n",
       " -2.67564e-12  0.0   1.0          0.0     1.0  0.0  1.0   0.0          1.0\n",
       "  0.0          1.0   1.0          1.0     1.0  0.0  1.0  -5.92911e-9   1.0\n",
       "  1.0          1.0   1.0          1.0  …  1.0  1.0  1.0   1.0          1.0\n",
       "  1.0          1.0   1.0          0.0     1.0  0.0  1.0   1.0          1.0\n",
       "  1.0          0.0   1.0          1.0     1.0  1.0  1.0   1.0          1.0\n",
       "  1.0          0.0   1.0          0.0     1.0  1.0  1.0   0.0          1.0\n",
       "  1.0          1.0   1.0          1.0     1.0  1.0  1.0   1.0          1.0\n",
       "  1.0          1.0   1.0          1.0  …  0.0  1.0  1.0   1.0          0.0\n",
       "  1.0          1.0   1.0          1.0     1.0  1.0  1.0   1.0          1.0\n",
       "  1.0          1.0   1.0          1.0     1.0  1.0  1.0   1.0          1.0\n",
       "  ⋮                                    ⋱  ⋮                            \n",
       "  1.0          1.0   1.0          1.0     1.0  1.0  1.0  -1.38791e-8   1.0\n",
       "  1.0          1.0  -2.62699e-11  1.0  …  1.0  1.0  1.0   1.0          1.0\n",
       "  1.0          1.0   1.0          1.0     1.0  1.0  1.0   1.0          1.0\n",
       "  1.0          1.0   1.0          1.0     1.0  1.0  1.0   0.0          1.0\n",
       "  1.0          0.0   1.0          0.0     1.0  0.0  1.0  -4.59108e-10  1.0\n",
       "  1.0          1.0   1.0          1.0     1.0  1.0  1.0   1.0          1.0\n",
       "  1.0          1.0   1.0          1.0  …  1.0  1.0  1.0   1.0          1.0\n",
       "  1.0          1.0   1.0          1.0     1.0  1.0  1.0   1.0          1.0\n",
       "  1.0          1.0   1.0          1.0     1.0  1.0  1.0   1.0          1.0\n",
       "  1.0          1.0   1.0          1.0     1.0  1.0  1.0   1.0          1.0\n",
       "  1.0          1.0   1.0          1.0     1.0  1.0  1.0   1.0          1.0\n",
       "  1.0          1.0   1.0          1.0  …  1.0  1.0  1.0   1.0          1.0"
      ]
     },
     "execution_count": 277,
     "metadata": {},
     "output_type": "execute_result"
    }
   ],
   "source": [
    "z"
   ]
  },
  {
   "cell_type": "code",
   "execution_count": 275,
   "id": "e9ce565e",
   "metadata": {},
   "outputs": [
    {
     "data": {
      "text/plain": [
       "-2.1882734546918576e-9"
      ]
     },
     "execution_count": 275,
     "metadata": {},
     "output_type": "execute_result"
    }
   ],
   "source": [
    "minimum(y) "
   ]
  },
  {
   "cell_type": "code",
   "execution_count": 276,
   "id": "280e4838",
   "metadata": {},
   "outputs": [
    {
     "data": {
      "text/plain": [
       "-2.1882734546918576e-9"
      ]
     },
     "execution_count": 276,
     "metadata": {},
     "output_type": "execute_result"
    }
   ],
   "source": [
    "# sum(x, dims=1)\n",
    "minimum(x)"
   ]
  },
  {
   "cell_type": "code",
   "execution_count": 255,
   "id": "c8c205bd",
   "metadata": {},
   "outputs": [],
   "source": [
    "proD = x .* Matrix(regional_EF[:,2:end])\n",
    "pro_sink = zeros(ncty, nproc)\n",
    "for k in 1:nproc\n",
    "    for i in 1:ncty\n",
    "        pro_sink[i,k] = regional_EF[i, k+1] * (sink_c[i]/emission_c[i] + es_ratio)\n",
    "    end\n",
    "end\n",
    "proS = x .* pro_sink\n",
    "\n",
    "\n",
    "transD = zeros(ncty, nproc)\n",
    "for k in 1:nproc\n",
    "    for i in 1:ncty\n",
    "        emi = 0\n",
    "        for j in 1:ncty\n",
    "            emi += y[i,j,k] * distance[!, 2:end][i,j] * EF_trans  \n",
    "        end\n",
    "        transD[i,k] = emi\n",
    "    end\n",
    "end\n",
    "\n",
    "\n",
    "Allo_Dsoc = (proD*ones(nproc,1)) .* (Dsoc./emission_c)\n",
    "SS = transD*ones(nproc,1) + proD*ones(nproc,1) - Allo_Dsoc\n",
    "EO = proD - proS + transD;"
   ]
  },
  {
   "cell_type": "code",
   "execution_count": 259,
   "id": "32ebf82f",
   "metadata": {},
   "outputs": [
    {
     "data": {
      "text/plain": [
       "31×15 Matrix{Float64}:\n",
       "    0.0        0.0        0.0        …  0.0        0.0        0.0\n",
       "    1.30159e5  0.0        0.0           0.0        0.0        0.0\n",
       "    0.0        0.0        0.0           0.0        8.31094e5  0.0\n",
       " -472.505      0.0        0.0           0.0        0.0        0.0\n",
       "    0.0        0.0        0.0           0.0        0.0        0.0\n",
       "    0.0        0.0        0.0        …  0.0        0.0        2.69652e6\n",
       "    0.0        0.0        0.0           0.0        0.0        0.0\n",
       "    0.0        9.27849e5  0.0           0.0        0.0        0.0\n",
       "    0.0        0.0        0.0           0.0        0.0        0.0\n",
       "    0.0        0.0        0.0           0.0        0.0        0.0\n",
       "    0.0        0.0        0.0        …  0.0        0.0        0.0\n",
       "    0.0        0.0        2.14137e6     0.0        0.0        0.0\n",
       "    0.0        0.0        0.0           0.0        0.0        0.0\n",
       "    ⋮                                ⋱                        \n",
       "    0.0        0.0        0.0           0.0        0.0        0.0\n",
       "    0.0        0.0        0.0        …  0.0        0.0        0.0\n",
       "    0.0        0.0        0.0           0.0        0.0        0.0\n",
       "    0.0        0.0        0.0           0.0        0.0        0.0\n",
       "    0.0        0.0        0.0           0.0        0.0        0.0\n",
       "    0.0        0.0        0.0           0.0        0.0        0.0\n",
       "    0.0        0.0        0.0        …  0.0        0.0        0.0\n",
       "    0.0        0.0        0.0           2.31579e5  0.0        0.0\n",
       "    0.0        0.0        0.0           0.0        0.0        0.0\n",
       "    0.0        0.0        0.0           0.0        0.0        0.0\n",
       "    0.0        0.0        0.0           0.0        0.0        0.0\n",
       "    0.0        0.0        0.0        …  0.0        0.0        0.0"
      ]
     },
     "execution_count": 259,
     "metadata": {},
     "output_type": "execute_result"
    }
   ],
   "source": [
    "EO"
   ]
  },
  {
   "cell_type": "code",
   "execution_count": 267,
   "id": "4e10a473",
   "metadata": {},
   "outputs": [
    {
     "data": {
      "text/plain": [
       "31×15 Matrix{Float64}:\n",
       " -0.0  -0.0  -0.0  -0.0  -0.0  -0.0  …  -0.0  -0.0  -0.0  -0.0   1.0   1.0\n",
       " -0.0  -0.0  -0.0  -0.0  -0.0  -0.0     -0.0  -0.0   0.0  -0.0   1.0   1.0\n",
       " -0.0  -0.0  -0.0  -0.0  -0.0  -0.0     -0.0   0.0  -0.0  -0.0  -0.0  -0.0\n",
       " -0.0  -0.0  -0.0  -0.0  -0.0  -0.0      0.0  -0.0  -0.0  -0.0   1.0  -0.0\n",
       " -0.0  -0.0  -0.0  -0.0  -0.0  -0.0     -0.0  -0.0  -0.0  -0.0   1.0  -0.0\n",
       " -0.0  -0.0  -0.0  -0.0  -0.0  -0.0  …  -0.0  -0.0   0.0  -0.0  -0.0  -0.0\n",
       " -0.0  -0.0  -0.0  -0.0  -0.0  -0.0     -0.0  -0.0   0.0  -0.0   1.0  -0.0\n",
       " -0.0  -0.0  -0.0  -0.0  -0.0  -0.0     -0.0   0.0  -0.0   0.0  -0.0   1.0\n",
       " -0.0  -0.0  -0.0  -0.0  -0.0  -0.0      0.0  -0.0  -0.0  -0.0  -0.0   1.0\n",
       " -0.0  -0.0  -0.0  -0.0  -0.0  -0.0      0.0   0.0   0.0  -0.0   1.0   1.0\n",
       " -0.0  -0.0  -0.0  -0.0  -0.0  -0.0  …  -0.0  -0.0  -0.0  -0.0   1.0   1.0\n",
       " -0.0  -0.0  -0.0  -0.0  -0.0  -0.0     -0.0  -0.0  -0.0   0.0  -0.0  -0.0\n",
       " -0.0  -0.0  -0.0  -0.0  -0.0  -0.0     -0.0  -0.0  -0.0  -0.0  -0.0   1.0\n",
       "  ⋮                             ⋮    ⋱         ⋮                      \n",
       " -0.0  -0.0  -0.0  -0.0  -0.0  -0.0     -0.0   0.0   0.0  -0.0   1.0   1.0\n",
       " -0.0  -0.0  -0.0  -0.0  -0.0  -0.0  …   0.0  -0.0  -0.0   1.0  -0.0   1.0\n",
       " -0.0  -0.0  -0.0  -0.0  -0.0  -0.0     -0.0   0.0   0.0   1.0   1.0  -0.0\n",
       " -0.0  -0.0  -0.0  -0.0  -0.0  -0.0     -0.0   0.0  -0.0  -0.0  -0.0  -0.0\n",
       " -0.0  -0.0  -0.0  -0.0  -0.0  -0.0      0.0  -0.0   0.0  -0.0  -0.0   1.0\n",
       " -0.0  -0.0  -0.0  -0.0  -0.0  -0.0     -0.0   0.0   0.0   1.0   1.0  -0.0\n",
       " -0.0  -0.0  -0.0  -0.0  -0.0  -0.0  …  -0.0   0.0  -0.0  -0.0  -0.0   1.0\n",
       " -0.0  -0.0  -0.0  -0.0  -0.0  -0.0     -0.0   0.0   0.0  -0.0  -0.0  -0.0\n",
       " -0.0  -0.0  -0.0  -0.0  -0.0  -0.0      0.0  -0.0   0.0   1.0   1.0   1.0\n",
       " -0.0  -0.0  -0.0  -0.0  -0.0  -0.0     -0.0   0.0  -0.0   1.0   1.0  -0.0\n",
       " -0.0  -0.0  -0.0  -0.0  -0.0  -0.0     -0.0  -0.0  -0.0  -0.0   1.0   1.0\n",
       " -0.0  -0.0  -0.0  -0.0  -0.0  -0.0  …  -0.0  -0.0   0.0  -0.0   1.0   1.0"
      ]
     },
     "execution_count": 267,
     "metadata": {},
     "output_type": "execute_result"
    }
   ],
   "source": [
    "PCT[\"optz\"]"
   ]
  },
  {
   "cell_type": "code",
   "execution_count": 262,
   "id": "d4922805",
   "metadata": {},
   "outputs": [
    {
     "data": {
      "text/plain": [
       "20-element Vector{Float64}:\n",
       "  130158.8792753311\n",
       "    -472.5046727267405\n",
       "  927849.1267462556\n",
       "       2.1413685914402837e6\n",
       " -725763.8211171728\n",
       "  689262.9501486202\n",
       "   82630.04721206604\n",
       "  -10365.823673621804\n",
       "    -365.72386098726383\n",
       "      -4.314351826906204e-7\n",
       "      -3.523891791701317e-7\n",
       "      -5.060353768304526e7\n",
       "      -8.208844851697427e6\n",
       "      -5.188117711684195e6\n",
       "  624914.5527604626\n",
       "   -7440.183036020811\n",
       "   -2266.625354107644\n",
       "  231579.39286561578\n",
       "  831094.4619946799\n",
       "       2.6965246766087906e6"
      ]
     },
     "execution_count": 262,
     "metadata": {},
     "output_type": "execute_result"
    }
   ],
   "source": [
    "indices = (EO .!= 0)\n",
    "ls = EO[indices]"
   ]
  },
  {
   "cell_type": "code",
   "execution_count": 264,
   "id": "689cf7e0",
   "metadata": {},
   "outputs": [
    {
     "data": {
      "text/plain": [
       "9-element Vector{Any}:\n",
       " 130158.8792753311\n",
       " 927849.1267462556\n",
       "      2.1413685914402837e6\n",
       " 689262.9501486202\n",
       "  82630.04721206604\n",
       " 624914.5527604626\n",
       " 231579.39286561578\n",
       " 831094.4619946799\n",
       "      2.6965246766087906e6"
      ]
     },
     "execution_count": 264,
     "metadata": {},
     "output_type": "execute_result"
    }
   ],
   "source": [
    "os = []\n",
    "for e in ls\n",
    "    if e > 0\n",
    "        push!(os,e)\n",
    "    end\n",
    "end\n",
    "os"
   ]
  },
  {
   "cell_type": "code",
   "execution_count": 265,
   "id": "307c4e43",
   "metadata": {},
   "outputs": [
    {
     "data": {
      "text/plain": [
       "0.45"
      ]
     },
     "execution_count": 265,
     "metadata": {},
     "output_type": "execute_result"
    }
   ],
   "source": [
    "9/20"
   ]
  },
  {
   "cell_type": "code",
   "execution_count": 220,
   "id": "1587e372",
   "metadata": {},
   "outputs": [
    {
     "name": "stdout",
     "output_type": "stream",
     "text": [
      "0.0\n",
      "0.0\n",
      "0.0\n",
      "0.0\n",
      "0.0\n",
      "0.0\n",
      "0.0\n",
      "0.0\n",
      "0.0\n",
      "0.0\n",
      "0.0\n",
      "0.0\n",
      "0.0\n",
      "0.0\n",
      "0.0\n",
      "0.0\n",
      "0.0\n",
      "0.0\n",
      "0.0\n",
      "0.0\n",
      "0.0\n",
      "-5.0e-11\n",
      "0.0\n",
      "0.0\n",
      "0.0\n",
      "0.0\n",
      "0.0\n",
      "0.0\n",
      "0.0\n",
      "0.0\n",
      "0.0\n"
     ]
    }
   ],
   "source": [
    "emi = 0.0\n",
    "for j in 1:ncty\n",
    "    te = y[5,j,1] * distance[!, 2:end][5,j] * EF_trans \n",
    "    println(te)\n",
    "    emi += te  \n",
    "end\n"
   ]
  },
  {
   "cell_type": "code",
   "execution_count": null,
   "id": "6d9e5e3d",
   "metadata": {},
   "outputs": [],
   "source": []
  },
  {
   "cell_type": "code",
   "execution_count": null,
   "id": "52551864",
   "metadata": {},
   "outputs": [],
   "source": []
  },
  {
   "cell_type": "code",
   "execution_count": null,
   "id": "7a4e9778",
   "metadata": {},
   "outputs": [],
   "source": []
  },
  {
   "cell_type": "code",
   "execution_count": null,
   "id": "ec7e0d90",
   "metadata": {},
   "outputs": [],
   "source": []
  },
  {
   "cell_type": "code",
   "execution_count": null,
   "id": "6bfb2407",
   "metadata": {},
   "outputs": [],
   "source": []
  },
  {
   "cell_type": "code",
   "execution_count": null,
   "id": "6eccb301",
   "metadata": {},
   "outputs": [],
   "source": []
  },
  {
   "cell_type": "code",
   "execution_count": null,
   "id": "cb0aec33",
   "metadata": {},
   "outputs": [],
   "source": []
  },
  {
   "cell_type": "code",
   "execution_count": null,
   "id": "75d43313",
   "metadata": {},
   "outputs": [],
   "source": []
  },
  {
   "cell_type": "code",
   "execution_count": null,
   "id": "a64c47a4",
   "metadata": {},
   "outputs": [],
   "source": []
  },
  {
   "cell_type": "code",
   "execution_count": null,
   "id": "109f6fc7",
   "metadata": {},
   "outputs": [],
   "source": []
  },
  {
   "cell_type": "code",
   "execution_count": null,
   "id": "3bdc7319",
   "metadata": {},
   "outputs": [],
   "source": []
  },
  {
   "cell_type": "code",
   "execution_count": null,
   "id": "f7c11672",
   "metadata": {},
   "outputs": [],
   "source": []
  },
  {
   "cell_type": "code",
   "execution_count": null,
   "id": "b4141f7d",
   "metadata": {},
   "outputs": [],
   "source": []
  },
  {
   "cell_type": "code",
   "execution_count": null,
   "id": "4e8f6a07",
   "metadata": {},
   "outputs": [],
   "source": []
  },
  {
   "cell_type": "code",
   "execution_count": null,
   "id": "61ba7708",
   "metadata": {},
   "outputs": [],
   "source": []
  },
  {
   "cell_type": "code",
   "execution_count": null,
   "id": "8d8e4e3c",
   "metadata": {},
   "outputs": [],
   "source": []
  },
  {
   "cell_type": "code",
   "execution_count": null,
   "id": "5316c2ba",
   "metadata": {},
   "outputs": [],
   "source": []
  },
  {
   "cell_type": "code",
   "execution_count": null,
   "id": "8cc2f4c4",
   "metadata": {},
   "outputs": [],
   "source": []
  },
  {
   "cell_type": "code",
   "execution_count": null,
   "id": "3686e60c",
   "metadata": {},
   "outputs": [],
   "source": []
  },
  {
   "cell_type": "code",
   "execution_count": null,
   "id": "20800e33",
   "metadata": {},
   "outputs": [],
   "source": []
  },
  {
   "cell_type": "code",
   "execution_count": null,
   "id": "1090d9dc",
   "metadata": {},
   "outputs": [],
   "source": []
  },
  {
   "cell_type": "code",
   "execution_count": 82,
   "id": "1881878e",
   "metadata": {},
   "outputs": [],
   "source": [
    "NE1 = NE[\"optobj\"]\n",
    "PCT1 = PCT[\"optobj\"]\n",
    "\n",
    "NE_x = NE[\"optx\"]\n",
    "NE_y = NE[\"opty\"]\n",
    "PCT_x = PCT[\"optx\"]\n",
    "PCT_y = PCT[\"opty\"];"
   ]
  },
  {
   "cell_type": "code",
   "execution_count": 83,
   "id": "d996b38d",
   "metadata": {},
   "outputs": [
    {
     "data": {
      "text/plain": [
       "net_emi (generic function with 1 method)"
      ]
     },
     "execution_count": 83,
     "metadata": {},
     "output_type": "execute_result"
    }
   ],
   "source": [
    "function net_emi(x,y)\n",
    "    proD = (x .* Matrix(regional_EF[:,2:end])) * ones(nproc,1) \n",
    "    pro_sink = zeros(ncty, nproc)\n",
    "    for k in 1:nproc\n",
    "        for i in 1:ncty\n",
    "            pro_sink[i,k] = regional_EF[i, k+1] * (sink_c[i]/emission_c[i] + es_ratio)\n",
    "        end\n",
    "    end\n",
    "    proS = (x.*pro_sink)*ones(nproc,1) \n",
    "    \n",
    "    transS = Vector{Float64}(undef, ncty)\n",
    "    transD = Vector{Float64}(undef, ncty)\n",
    "    for j in 1:ncty\n",
    "        arc_emi = 0\n",
    "        arc_seq = 0\n",
    "        for i in 1:ncty\n",
    "            amount = sum(y[i,j,k] for k in 1:nproc)\n",
    "            arc_emi += amount * distance[!, 2:end][i,j] * EF_trans\n",
    "            arc_seq += arc_emi * (sink_c[j]/emission_c[j] + es_ratio)\n",
    "        end\n",
    "        transD[j] = arc_emi  # ncty*1 matrix\n",
    "        transS[j] = arc_seq  # ncty*1 matrix\n",
    "    end\n",
    "    \n",
    "    EO = proD - proS + transD\n",
    "    return(sum(EO))\n",
    "end"
   ]
  },
  {
   "cell_type": "code",
   "execution_count": 102,
   "id": "8cf29179",
   "metadata": {},
   "outputs": [
    {
     "data": {
      "text/plain": [
       "overshoot_pct (generic function with 1 method)"
      ]
     },
     "execution_count": 102,
     "metadata": {},
     "output_type": "execute_result"
    }
   ],
   "source": [
    "function overshoot_pct(x,y)\n",
    "    \n",
    "    proD = x .* Matrix(regional_EF[:,2:end])\n",
    "    pro_sink = zeros(ncty, nproc)\n",
    "    for k in 1:nproc\n",
    "        for i in 1:ncty\n",
    "            pro_sink[i,k] = regional_EF[i, k+1] * (sink_c[i]/emission_c[i] + es_ratio)\n",
    "        end\n",
    "    end\n",
    "    proS = x .* pro_sink\n",
    "\n",
    "    transD = zeros(ncty, nproc)\n",
    "    for k in 1:nproc\n",
    "        for j in 1:ncty\n",
    "            emi = 0\n",
    "            for i in 1:ncty\n",
    "                emi += y[i,j,k] * distance[!, 2:end][i,j] * EF_trans  #PRODUCER\n",
    "            end\n",
    "            transD[j,k] = emi\n",
    "        end\n",
    "    end\n",
    "    \n",
    "    mat = proD - proS + transD\n",
    "#     idx = (mat .>= -1e-5) .& (mat .<= 1e-5)\n",
    "#     mat[idx] .= 0\n",
    "    n_selec = 0\n",
    "    num_os = 0\n",
    "    for i in 1:ncty\n",
    "        for k in 1:nproc\n",
    "            if mat[i,k] != 0\n",
    "                n_selec += 1\n",
    "                if mat[i,k] > 0\n",
    "                    num_os += 1\n",
    "                end\n",
    "            end\n",
    "        end\n",
    "    end\n",
    "    \n",
    "#     return num_os/n_selec\n",
    "    return mat,num_os/n_selec\n",
    "end\n",
    "            "
   ]
  },
  {
   "cell_type": "code",
   "execution_count": 103,
   "id": "9e347479",
   "metadata": {},
   "outputs": [
    {
     "data": {
      "text/plain": [
       "([0.0 0.0 … 0.0 0.0; 40322.00363957 0.0 … 23638.470455940565 0.0; … ; 0.0 0.0 … 0.0 0.0; 90811.04120904274 190901.89350735172 … 665257.1448955996 1.4605763398852374e6], 0.8620689655172413)"
      ]
     },
     "execution_count": 103,
     "metadata": {},
     "output_type": "execute_result"
    }
   ],
   "source": [
    "overshoot_pct(PCT_x,PCT_y)"
   ]
  },
  {
   "cell_type": "code",
   "execution_count": 104,
   "id": "d70e22cd",
   "metadata": {},
   "outputs": [
    {
     "data": {
      "text/plain": [
       "31×15 Matrix{Float64}:\n",
       "     0.0       0.0  0.0           0.0  …      0.0  0.0        0.0\n",
       " 61000.0       0.0  0.0           0.0         0.0  4.51715e5  0.0\n",
       "     0.0       0.0  9.4386e5  67000.0         0.0  0.0        0.0\n",
       "     0.0       0.0  0.0           0.0         0.0  0.0        0.0\n",
       "     0.0       0.0  0.0           0.0         0.0  0.0        0.0\n",
       "     0.0       0.0  0.0           0.0  …  10000.0  0.0        0.0\n",
       "     0.0       0.0  0.0           0.0         0.0  0.0        0.0\n",
       "     0.0  145000.0  0.0           0.0         0.0  0.0        0.0\n",
       "     0.0       0.0  0.0           0.0         0.0  0.0        0.0\n",
       "     0.0       0.0  0.0           0.0         0.0  0.0        0.0\n",
       "     0.0       0.0  0.0           0.0  …      0.0  0.0        0.0\n",
       "     0.0       0.0  0.0           0.0         0.0  0.0        0.0\n",
       "     0.0       0.0  0.0           0.0         0.0  0.0        0.0\n",
       "     ⋮                                 ⋱                      \n",
       "     0.0       0.0  0.0           0.0         0.0  0.0        0.0\n",
       "     0.0       0.0  0.0           0.0  …      0.0  0.0        0.0\n",
       "     0.0       0.0  0.0           0.0         0.0  0.0        0.0\n",
       "     0.0       0.0  0.0           0.0         0.0  0.0        0.0\n",
       "     0.0       0.0  0.0           0.0         0.0  0.0        0.0\n",
       "     0.0       0.0  0.0           0.0         0.0  0.0        0.0\n",
       "     0.0       0.0  0.0           0.0  …      0.0  0.0        0.0\n",
       "     0.0       0.0  0.0           0.0         0.0  0.0        0.0\n",
       "     0.0       0.0  0.0           0.0         0.0  0.0        0.0\n",
       "     0.0       0.0  0.0           0.0         0.0  0.0        0.0\n",
       "     0.0       0.0  0.0           0.0         0.0  0.0        0.0\n",
       "   900.0       0.0  0.0       14000.0  …      0.0  0.0        4.51715e5"
      ]
     },
     "execution_count": 104,
     "metadata": {},
     "output_type": "execute_result"
    }
   ],
   "source": [
    "PCT_x"
   ]
  },
  {
   "cell_type": "code",
   "execution_count": null,
   "id": "64193ba2",
   "metadata": {},
   "outputs": [],
   "source": []
  },
  {
   "cell_type": "code",
   "execution_count": null,
   "id": "caa417f3",
   "metadata": {},
   "outputs": [],
   "source": []
  },
  {
   "cell_type": "code",
   "execution_count": null,
   "id": "4a52c663",
   "metadata": {},
   "outputs": [],
   "source": []
  },
  {
   "cell_type": "code",
   "execution_count": null,
   "id": "00a6b7ce",
   "metadata": {},
   "outputs": [],
   "source": []
  },
  {
   "cell_type": "code",
   "execution_count": null,
   "id": "305a8cec",
   "metadata": {},
   "outputs": [],
   "source": []
  },
  {
   "cell_type": "code",
   "execution_count": null,
   "id": "6d0cc6af",
   "metadata": {},
   "outputs": [],
   "source": []
  },
  {
   "cell_type": "code",
   "execution_count": null,
   "id": "ea08bad8",
   "metadata": {},
   "outputs": [],
   "source": []
  },
  {
   "cell_type": "code",
   "execution_count": null,
   "id": "2cac11ee",
   "metadata": {},
   "outputs": [],
   "source": []
  },
  {
   "cell_type": "code",
   "execution_count": null,
   "id": "3223d110",
   "metadata": {},
   "outputs": [],
   "source": []
  },
  {
   "cell_type": "code",
   "execution_count": null,
   "id": "e09dd300",
   "metadata": {},
   "outputs": [],
   "source": []
  },
  {
   "cell_type": "code",
   "execution_count": null,
   "id": "3a602fef",
   "metadata": {},
   "outputs": [],
   "source": []
  },
  {
   "cell_type": "code",
   "execution_count": null,
   "id": "265c7c32",
   "metadata": {},
   "outputs": [],
   "source": []
  },
  {
   "cell_type": "code",
   "execution_count": null,
   "id": "06a207bc",
   "metadata": {},
   "outputs": [],
   "source": []
  },
  {
   "cell_type": "code",
   "execution_count": null,
   "id": "342f1119",
   "metadata": {},
   "outputs": [],
   "source": []
  },
  {
   "cell_type": "code",
   "execution_count": null,
   "id": "da1e860f",
   "metadata": {},
   "outputs": [],
   "source": []
  },
  {
   "cell_type": "code",
   "execution_count": null,
   "id": "841d5388",
   "metadata": {},
   "outputs": [],
   "source": []
  },
  {
   "cell_type": "code",
   "execution_count": null,
   "id": "f5ce6ccd",
   "metadata": {},
   "outputs": [],
   "source": []
  },
  {
   "cell_type": "code",
   "execution_count": null,
   "id": "2b7ad450",
   "metadata": {},
   "outputs": [],
   "source": []
  },
  {
   "cell_type": "code",
   "execution_count": null,
   "id": "b8595210",
   "metadata": {},
   "outputs": [],
   "source": []
  },
  {
   "cell_type": "code",
   "execution_count": null,
   "id": "6f1e7815",
   "metadata": {},
   "outputs": [],
   "source": []
  },
  {
   "cell_type": "code",
   "execution_count": null,
   "id": "868d597f",
   "metadata": {},
   "outputs": [],
   "source": []
  },
  {
   "cell_type": "code",
   "execution_count": null,
   "id": "d5552aaa",
   "metadata": {},
   "outputs": [],
   "source": []
  },
  {
   "cell_type": "code",
   "execution_count": null,
   "id": "3dcc9d8a",
   "metadata": {},
   "outputs": [],
   "source": []
  },
  {
   "cell_type": "code",
   "execution_count": null,
   "id": "e09ddf3e",
   "metadata": {},
   "outputs": [],
   "source": []
  },
  {
   "cell_type": "code",
   "execution_count": null,
   "id": "81247081",
   "metadata": {},
   "outputs": [],
   "source": []
  },
  {
   "cell_type": "code",
   "execution_count": null,
   "id": "76d5f2d5",
   "metadata": {},
   "outputs": [],
   "source": []
  },
  {
   "cell_type": "code",
   "execution_count": null,
   "id": "97a5ddaf",
   "metadata": {},
   "outputs": [],
   "source": []
  },
  {
   "cell_type": "code",
   "execution_count": null,
   "id": "8f312583",
   "metadata": {},
   "outputs": [],
   "source": []
  },
  {
   "cell_type": "code",
   "execution_count": null,
   "id": "7fb0168a",
   "metadata": {},
   "outputs": [],
   "source": []
  },
  {
   "cell_type": "code",
   "execution_count": null,
   "id": "50fbe8a5",
   "metadata": {},
   "outputs": [],
   "source": []
  },
  {
   "cell_type": "code",
   "execution_count": null,
   "id": "987594f0",
   "metadata": {},
   "outputs": [],
   "source": []
  },
  {
   "cell_type": "code",
   "execution_count": 79,
   "id": "fb4d4cfa",
   "metadata": {},
   "outputs": [
    {
     "data": {
      "text/plain": [
       "OvershootNum (generic function with 2 methods)"
      ]
     },
     "execution_count": 79,
     "metadata": {},
     "output_type": "execute_result"
    }
   ],
   "source": [
    "function OvershootNum(tp=\"PRODUCER\")\n",
    "    model = Model(Gurobi.Optimizer)\n",
    "    @variable(model, x[1:ncty, 1:nproc] >= 0)\n",
    "    @variable(model, y[1:ncty, 1:ncty, 1:nproc] >= 0)\n",
    "    @variable(model, delta[1:ncty], Bin)\n",
    "    \n",
    "    M = 1e10\n",
    "    slack = 1e-10\n",
    "    \n",
    "    x_cth = [@constraint(model, sum(x[i,k] for i in 1:ncty) == sum(x[i,5] for i in 1:ncty) * scaler[k]) for k in cathode]\n",
    "    x_cell = [@constraint(model, sum(x[i,k] for i in 1:ncty) == sum(x[i,11] for i in 1:ncty) * scaler[k]) for k in cell]\n",
    "    x_noncell = [@constraint(model, sum(x[i,k] for i in 1:ncty) == sum(x[i,14] for i in 1:ncty) * scaler[k]) for k in noncell]\n",
    "    x_battery = [@constraint(model, sum(x[i,k] for i in 1:ncty) == sum(x[i,15] for i in 1:ncty) * scaler[k]) for k in battery];\n",
    "\n",
    "    cstr_cap = [@constraint(model, x[i,k] <= capacity[!, 2:end][i,k]) for k in 1:nproc for i in 1:ncty]\n",
    "    cstr_op = [@constraint(model, sum(y[i,j,k] for j in 1:ncty) == x[i,k]) for k in 1:nproc for i in 1:ncty]\n",
    "    cstr_cth = [@constraint(model, sum(y[i,j,k] for i in 1:ncty) == x[j,5]*scaler[k]) for k in cathode for j in 1:ncty]\n",
    "    cstr_cell = [@constraint(model, sum(y[i,j,k] for i in 1:ncty) == x[j,11]*scaler[k]) for k in cell for j in 1:ncty]\n",
    "    cstr_noncell = [@constraint(model, sum(y[i,j,k] for i in 1:ncty) == x[j,14]*scaler[k]) for k in noncell for j in 1:ncty]\n",
    "    cstr_battery = [@constraint(model, sum(y[i,j,k] for i in 1:ncty) == x[j,15]*scaler[k]) for k in battery for j in 1:ncty]\n",
    "\n",
    "    @constraint(model, sum(y[i,mkt_loc,mkt_proc] for i in 1:ncty) == cell_demand)\n",
    "    tmp = filter!(e->e!=mkt_loc,collect(1:ncty))\n",
    "    for j in tmp\n",
    "        @constraint(model, sum(y[i,j,mkt_proc] for i in 1:ncty) == 0);\n",
    "    end\n",
    "    \n",
    "    proD = (x .* Matrix(regional_EF[:,2:end])) \n",
    "    pro_sink = zeros(ncty, nproc)\n",
    "    for k in 1:nproc\n",
    "        for i in 1:ncty\n",
    "            pro_sink[i,k] = regional_EF[i, k+1] * (sink_c[i]/emission_c[i] + es_ratio)\n",
    "        end\n",
    "    end\n",
    "    proS = (x.*pro_sink)\n",
    "\n",
    "\n",
    "    transD = Matrix{AffExpr}(undef, ncty, nproc)\n",
    "    if tp == \"PRODUCER\"\n",
    "        for k in 1:nproc\n",
    "            for j in 1:ncty\n",
    "                emi = 0\n",
    "                for i in 1:ncty\n",
    "                    emi += y[i,j,k] * distance[!, 2:end][i,j] * EF_trans  #PRODUCER\n",
    "                end\n",
    "                transD[j,k] = emi\n",
    "            end\n",
    "        end\n",
    "    elseif tp == \"CUSTOMER\"\n",
    "        for k in 1:nproc\n",
    "            for i in 1:ncty\n",
    "                emi = 0\n",
    "                for j in 1:ncty\n",
    "                    emi += y[i,j,k] * distance[!, 2:end][i,j] * EF_trans #CUSTOMER\n",
    "                end\n",
    "                transD[i,k] = emi\n",
    "            end\n",
    "        end\n",
    "    end\n",
    "    \n",
    "    Allo_Dsoc = (proD*ones(nproc,1)) .* (Dsoc./emission_c)\n",
    "    SS = transD*ones(nproc,1) + proD*ones(nproc,1) - Allo_Dsoc\n",
    "    cstr_soc = [@constraint(model, SS[i] >= slack) for i in 1:ncty]\n",
    "\n",
    "    EO = (proD - proS + transD) * ones(nproc,1)\n",
    "    \n",
    "    for i in 1:ncty\n",
    "        @constraint(model, EO[i] >= slack + (delta[i] - 1) * M)\n",
    "        @constraint(model, EO[i] <= delta[i] * M - slack)\n",
    "    end\n",
    "    \n",
    "    @objective(model, Min, sum(delta))\n",
    "    JuMP.optimize!(model)\n",
    "    \n",
    "    optx = JuMP.value.(x)\n",
    "    opty = JuMP.value.(y)\n",
    "    obj = JuMP.objective_value(model)\n",
    "    res = Dict([\"optx\"=>optx, \"optobj\"=>obj, \"opty\"=>opty])\n",
    "    \n",
    "    return res\n",
    "end"
   ]
  },
  {
   "cell_type": "code",
   "execution_count": 80,
   "id": "ca7194fe",
   "metadata": {},
   "outputs": [
    {
     "name": "stdout",
     "output_type": "stream",
     "text": [
      "Academic license - for non-commercial use only - expires 2024-12-26\r\n",
      "Gurobi Optimizer version 9.1.2 build v9.1.2rc0 (win64)\r\n",
      "Thread count: 6 physical cores, 12 logical processors, using up to 12 threads\r\n",
      "Optimize a model with 1502 rows, 14911 columns and 74369 nonzeros\r\n",
      "Model fingerprint: 0x5ab99c85\r\n",
      "Variable types: 14880 continuous, 31 integer (31 binary)\r\n",
      "Coefficient statistics:\r\n",
      "  Matrix range     [4e-03, 1e+10]\r\n",
      "  Objective range  [1e+00, 1e+00]\r\n",
      "  Bounds range     [0e+00, 0e+00]\r\n",
      "  RHS range        [1e-10, 1e+11]\r\n",
      "Warning: Model contains large matrix coefficient range\r\n",
      "Warning: Model contains large rhs\r\n",
      "         Consider reformulating model or setting NumericFocus parameter\r\n",
      "         to avoid numerical issues.\r\n",
      "Presolve removed 1184 rows and 13368 columns\r\n",
      "Presolve time: 0.03s\r\n",
      "Presolved: 318 rows, 1543 columns, 4559 nonzeros\r\n",
      "Variable types: 1517 continuous, 26 integer (26 binary)\r\n",
      "\r\n",
      "Root relaxation: objective 2.017784e+00, 54 iterations, 0.00 seconds\r\n",
      "\r\n",
      "    Nodes    |    Current Node    |     Objective Bounds      |     Work\r\n",
      " Expl Unexpl |  Obj  Depth IntInf | Incumbent    BestBd   Gap | It/Node Time\r\n",
      "\r\n",
      "     0     0    2.01778    0    1          -    2.01778      -     -    0s\r\n",
      "H    0     0                       3.0000000    2.01778  32.7%     -    0s\r\n",
      "\r\n",
      "Explored 1 nodes (54 simplex iterations) in 0.03 seconds\r\n",
      "Thread count was 12 (of 12 available processors)\r\n",
      "\r\n",
      "Solution count 1: 3 \r\n",
      "\r\n",
      "Optimal solution found (tolerance 1.00e-04)\r\n",
      "Best objective 3.000000000000e+00, best bound 3.000000000000e+00, gap 0.0000%\r\n",
      "\r\n",
      "User-callback calls 74, time in user-callback 0.00 sec\r\n"
     ]
    },
    {
     "data": {
      "text/plain": [
       "Dict{String, Any} with 3 entries:\n",
       "  \"optobj\" => 3.0\n",
       "  \"opty\"   => [0.0 0.0 … 0.0 0.0; 0.0 0.0 … 0.0 0.0; … ; 0.0 0.0 … 0.0 0.0; 0.0…\n",
       "  \"optx\"   => [0.0 0.0 … 0.0 0.0; 0.0 0.0 … 0.0 0.0; … ; 0.0 0.0 … 0.0 0.0; 900…"
      ]
     },
     "execution_count": 80,
     "metadata": {},
     "output_type": "execute_result"
    }
   ],
   "source": [
    "OvershootNum(\"PRODUCER\")"
   ]
  },
  {
   "cell_type": "code",
   "execution_count": 81,
   "id": "841166ce",
   "metadata": {},
   "outputs": [
    {
     "name": "stdout",
     "output_type": "stream",
     "text": [
      "Academic license - for non-commercial use only - expires 2024-12-26\r\n",
      "Gurobi Optimizer version 9.1.2 build v9.1.2rc0 (win64)\r\n",
      "Thread count: 6 physical cores, 12 logical processors, using up to 12 threads\r\n",
      "Optimize a model with 1502 rows, 14911 columns and 74369 nonzeros\r\n",
      "Model fingerprint: 0xebe21b55\r\n",
      "Variable types: 14880 continuous, 31 integer (31 binary)\r\n",
      "Coefficient statistics:\r\n",
      "  Matrix range     [4e-03, 1e+10]\r\n",
      "  Objective range  [1e+00, 1e+00]\r\n",
      "  Bounds range     [0e+00, 0e+00]\r\n",
      "  RHS range        [1e-10, 1e+11]\r\n",
      "Warning: Model contains large matrix coefficient range\r\n",
      "Warning: Model contains large rhs\r\n",
      "         Consider reformulating model or setting NumericFocus parameter\r\n",
      "         to avoid numerical issues.\r\n",
      "Presolve removed 1180 rows and 13352 columns\r\n",
      "Presolve time: 0.01s\r\n",
      "Presolved: 322 rows, 1559 columns, 4831 nonzeros\r\n",
      "Variable types: 1530 continuous, 29 integer (29 binary)\r\n",
      "\r\n",
      "Root relaxation: objective 1.537068e+00, 234 iterations, 0.00 seconds\r\n",
      "\r\n",
      "    Nodes    |    Current Node    |     Objective Bounds      |     Work\r\n",
      " Expl Unexpl |  Obj  Depth IntInf | Incumbent    BestBd   Gap | It/Node Time\r\n",
      "\r\n",
      "     0     0    1.53707    0    2          -    1.53707      -     -    0s\r\n",
      "H    0     0                       3.0000000    1.53707  48.8%     -    0s\r\n",
      "H    0     0                       2.0000000    1.53707  23.1%     -    0s\r\n",
      "     0     0    1.53707    0    2    2.00000    1.53707  23.1%     -    0s\r\n",
      "\r\n",
      "Explored 1 nodes (234 simplex iterations) in 0.03 seconds\r\n",
      "Thread count was 12 (of 12 available processors)\r\n",
      "\r\n",
      "Solution count 2: 2 3 \r\n",
      "\r\n",
      "Optimal solution found (tolerance 1.00e-04)\r\n",
      "Best objective 2.000000000000e+00, best bound 2.000000000000e+00, gap 0.0000%\r\n",
      "\r\n",
      "User-callback calls 80, time in user-callback 0.00 sec\r\n"
     ]
    },
    {
     "data": {
      "text/plain": [
       "Dict{String, Any} with 3 entries:\n",
       "  \"optobj\" => 2.0\n",
       "  \"opty\"   => [0.0 0.0 … 0.0 0.0; 0.0 0.0 … 0.0 0.0; … ; 0.0 0.0 … 0.0 0.0; 0.0…\n",
       "  \"optx\"   => [0.0 0.0 … 0.0 0.0; 0.0 0.0 … 0.0 0.0; … ; 0.0 0.0 … 0.0 0.0; 0.0…"
      ]
     },
     "execution_count": 81,
     "metadata": {},
     "output_type": "execute_result"
    }
   ],
   "source": [
    "OvershootNum(\"CUSTOMER\")"
   ]
  },
  {
   "cell_type": "code",
   "execution_count": null,
   "id": "41d28536",
   "metadata": {},
   "outputs": [],
   "source": []
  },
  {
   "cell_type": "code",
   "execution_count": null,
   "id": "203741a8",
   "metadata": {},
   "outputs": [],
   "source": []
  },
  {
   "cell_type": "code",
   "execution_count": null,
   "id": "eff45993",
   "metadata": {},
   "outputs": [],
   "source": []
  },
  {
   "cell_type": "code",
   "execution_count": 82,
   "id": "7079935d",
   "metadata": {},
   "outputs": [
    {
     "data": {
      "text/plain": [
       "OvershootNum_proc (generic function with 2 methods)"
      ]
     },
     "execution_count": 82,
     "metadata": {},
     "output_type": "execute_result"
    }
   ],
   "source": [
    "function OvershootNum_proc(tp=\"PRODUCER\")\n",
    "    model = Model(Gurobi.Optimizer)\n",
    "    @variable(model, x[1:ncty, 1:nproc] >= 0)\n",
    "    @variable(model, y[1:ncty, 1:ncty, 1:nproc] >= 0)\n",
    "    @variable(model, delta[1:ncty, 1:nproc], Bin)\n",
    "    \n",
    "    M = 1e10\n",
    "    slack = 1e-10\n",
    "    \n",
    "    x_cth = [@constraint(model, sum(x[i,k] for i in 1:ncty) == sum(x[i,5] for i in 1:ncty) * scaler[k]) for k in cathode]\n",
    "    x_cell = [@constraint(model, sum(x[i,k] for i in 1:ncty) == sum(x[i,11] for i in 1:ncty) * scaler[k]) for k in cell]\n",
    "    x_noncell = [@constraint(model, sum(x[i,k] for i in 1:ncty) == sum(x[i,14] for i in 1:ncty) * scaler[k]) for k in noncell]\n",
    "    x_battery = [@constraint(model, sum(x[i,k] for i in 1:ncty) == sum(x[i,15] for i in 1:ncty) * scaler[k]) for k in battery];\n",
    "\n",
    "    cstr_cap = [@constraint(model, x[i,k] <= capacity[!, 2:end][i,k]) for k in 1:nproc for i in 1:ncty]\n",
    "    cstr_op = [@constraint(model, sum(y[i,j,k] for j in 1:ncty) == x[i,k]) for k in 1:nproc for i in 1:ncty]\n",
    "    cstr_cth = [@constraint(model, sum(y[i,j,k] for i in 1:ncty) == x[j,5]*scaler[k]) for k in cathode for j in 1:ncty]\n",
    "    cstr_cell = [@constraint(model, sum(y[i,j,k] for i in 1:ncty) == x[j,11]*scaler[k]) for k in cell for j in 1:ncty]\n",
    "    cstr_noncell = [@constraint(model, sum(y[i,j,k] for i in 1:ncty) == x[j,14]*scaler[k]) for k in noncell for j in 1:ncty]\n",
    "    cstr_battery = [@constraint(model, sum(y[i,j,k] for i in 1:ncty) == x[j,15]*scaler[k]) for k in battery for j in 1:ncty]\n",
    "\n",
    "    @constraint(model, sum(y[i,mkt_loc,mkt_proc] for i in 1:ncty) == cell_demand)\n",
    "    tmp = filter!(e->e!=mkt_loc,collect(1:ncty))\n",
    "    for j in tmp\n",
    "        @constraint(model, sum(y[i,j,mkt_proc] for i in 1:ncty) == 0);\n",
    "    end\n",
    "    \n",
    "    proD = (x .* Matrix(regional_EF[:,2:end])) \n",
    "    pro_sink = zeros(ncty, nproc)\n",
    "    for k in 1:nproc\n",
    "        for i in 1:ncty\n",
    "            pro_sink[i,k] = regional_EF[i, k+1] * (sink_c[i]/emission_c[i] + es_ratio)\n",
    "        end\n",
    "    end\n",
    "    proS = (x.*pro_sink)\n",
    "\n",
    "\n",
    "    transD = Matrix{AffExpr}(undef, ncty, nproc)\n",
    "    if tp == \"PRODUCER\"\n",
    "        for k in 1:nproc\n",
    "            for j in 1:ncty\n",
    "                emi = 0\n",
    "                for i in 1:ncty\n",
    "                    emi += y[i,j,k] * distance[!, 2:end][i,j] * EF_trans  #PRODUCER\n",
    "                end\n",
    "                transD[j,k] = emi\n",
    "            end\n",
    "        end\n",
    "    elseif tp == \"CUSTOMER\"\n",
    "        for k in 1:nproc\n",
    "            for i in 1:ncty\n",
    "                emi = 0\n",
    "                for j in 1:ncty\n",
    "                    emi += y[i,j,k] * distance[!, 2:end][i,j] * EF_trans #CUSTOMER\n",
    "                end\n",
    "                transD[i,k] = emi\n",
    "            end\n",
    "        end\n",
    "    end\n",
    "    \n",
    "    Allo_Dsoc = (proD*ones(nproc,1)) .* (Dsoc./emission_c)\n",
    "    SS = transD*ones(nproc,1) + proD*ones(nproc,1) - Allo_Dsoc\n",
    "    cstr_soc = [@constraint(model, SS[i] >= slack) for i in 1:ncty]\n",
    "\n",
    "    EO = proD - proS + transD\n",
    "    \n",
    "    for i in 1:ncty\n",
    "        for k in 1:nproc\n",
    "            @constraint(model, EO[i,k] >= slack + (delta[i,k] - 1) * M)\n",
    "            @constraint(model, EO[i,k] <= delta[i,k] * M - slack)\n",
    "        end\n",
    "    end\n",
    "    \n",
    "    @objective(model, Min, sum(delta))\n",
    "    JuMP.optimize!(model)\n",
    "    \n",
    "    optx = JuMP.value.(x)\n",
    "    opty = JuMP.value.(y)\n",
    "    obj = JuMP.objective_value(model)\n",
    "    res = Dict([\"optx\"=>optx, \"optobj\"=>obj, \"opty\"=>opty])\n",
    "    \n",
    "    return res\n",
    "end"
   ]
  },
  {
   "cell_type": "code",
   "execution_count": 84,
   "id": "8705defb",
   "metadata": {},
   "outputs": [
    {
     "name": "stdout",
     "output_type": "stream",
     "text": [
      "Academic license - for non-commercial use only - expires 2024-12-26\r\n",
      "Gurobi Optimizer version 9.1.2 build v9.1.2rc0 (win64)\r\n",
      "Thread count: 6 physical cores, 12 logical processors, using up to 12 threads\r\n",
      "Optimize a model with 2370 rows, 15345 columns and 75237 nonzeros\r\n",
      "Model fingerprint: 0xb38b9931\r\n",
      "Variable types: 14880 continuous, 465 integer (465 binary)\r\n",
      "Coefficient statistics:\r\n",
      "  Matrix range     [4e-03, 1e+10]\r\n",
      "  Objective range  [1e+00, 1e+00]\r\n",
      "  Bounds range     [0e+00, 0e+00]\r\n",
      "  RHS range        [1e-10, 1e+11]\r\n",
      "Warning: Model contains large matrix coefficient range\r\n",
      "Warning: Model contains large rhs\r\n",
      "         Consider reformulating model or setting NumericFocus parameter\r\n",
      "         to avoid numerical issues.\r\n",
      "Presolve removed 1899 rows and 13697 columns\r\n",
      "Presolve time: 0.02s\r\n",
      "Presolved: 471 rows, 1648 columns, 4655 nonzeros\r\n",
      "Variable types: 1458 continuous, 190 integer (190 binary)\r\n",
      "\r\n",
      "Root relaxation: objective 7.258539e+00, 560 iterations, 0.01 seconds\r\n",
      "\r\n",
      "    Nodes    |    Current Node    |     Objective Bounds      |     Work\r\n",
      " Expl Unexpl |  Obj  Depth IntInf | Incumbent    BestBd   Gap | It/Node Time\r\n",
      "\r\n",
      "     0     0    7.25854    0   25          -    7.25854      -     -    0s\r\n",
      "H    0     0                      19.0000000    7.25854  61.8%     -    0s\r\n",
      "H    0     0                      17.0000000    7.25854  57.3%     -    0s\r\n",
      "     0     0   11.76100    0   57   17.00000   11.76100  30.8%     -    0s\r\n",
      "     0     0   11.99473    0   52   17.00000   11.99473  29.4%     -    0s\r\n",
      "     0     0   12.00497    0   55   17.00000   12.00497  29.4%     -    0s\r\n",
      "     0     0   12.02122    0   50   17.00000   12.02122  29.3%     -    0s\r\n",
      "     0     0   13.41696    0   54   17.00000   13.41696  21.1%     -    0s\r\n",
      "     0     0   13.51833    0   42   17.00000   13.51833  20.5%     -    0s\r\n",
      "     0     0   13.51856    0   26   17.00000   13.51856  20.5%     -    0s\r\n",
      "     0     0   14.74683    0   42   17.00000   14.74683  13.3%     -    0s\r\n",
      "     0     0   15.40561    0   56   17.00000   15.40561  9.38%     -    0s\r\n",
      "     0     0   15.58349    0   51   17.00000   15.58349  8.33%     -    0s\r\n",
      "     0     0   15.69199    0   49   17.00000   15.69199  7.69%     -    0s\r\n",
      "     0     0   15.77151    0   51   17.00000   15.77151  7.23%     -    0s\r\n",
      "     0     0   15.78770    0   59   17.00000   15.78770  7.13%     -    0s\r\n",
      "     0     0   15.81143    0   45   17.00000   15.81143  6.99%     -    0s\r\n",
      "     0     0   15.81264    0   45   17.00000   15.81264  6.98%     -    0s\r\n",
      "     0     0     cutoff    0        17.00000   17.00000  0.00%     -    0s\r\n",
      "\r\n",
      "Cutting planes:\r\n",
      "  Gomory: 1\r\n",
      "  Cover: 3\r\n",
      "  Implied bound: 146\r\n",
      "  MIR: 17\r\n",
      "  Flow cover: 80\r\n",
      "  Flow path: 19\r\n",
      "  Network: 17\r\n",
      "  RLT: 1\r\n",
      "  Relax-and-lift: 11\r\n",
      "\r\n",
      "Explored 1 nodes (4004 simplex iterations) in 0.35 seconds\r\n",
      "Thread count was 12 (of 12 available processors)\r\n",
      "\r\n",
      "Solution count 2: 17 19 \r\n",
      "\r\n",
      "Optimal solution found (tolerance 1.00e-04)\r\n",
      "Best objective 1.700000000000e+01, best bound 1.700000000000e+01, gap 0.0000%\r\n",
      "\r\n",
      "User-callback calls 177, time in user-callback 0.00 sec\r\n"
     ]
    },
    {
     "data": {
      "text/plain": [
       "Dict{String, Any} with 3 entries:\n",
       "  \"optobj\" => 17.0\n",
       "  \"opty\"   => [0.0 0.0 … 0.0 0.0; 0.0 0.0 … 0.0 0.0; … ; 0.0 0.0 … 0.0 0.0; 0.0…\n",
       "  \"optx\"   => [0.0 0.0 … 0.0 0.0; 0.0 0.0 … 0.0 0.0; … ; 0.0 0.0 … 0.0 0.0; 0.0…"
      ]
     },
     "execution_count": 84,
     "metadata": {},
     "output_type": "execute_result"
    }
   ],
   "source": [
    "OvershootNum_proc(\"PRODUCER\")"
   ]
  },
  {
   "cell_type": "code",
   "execution_count": 85,
   "id": "d53e3234",
   "metadata": {},
   "outputs": [
    {
     "name": "stdout",
     "output_type": "stream",
     "text": [
      "Academic license - for non-commercial use only - expires 2024-12-26\r\n",
      "Gurobi Optimizer version 9.1.2 build v9.1.2rc0 (win64)\r\n",
      "Thread count: 6 physical cores, 12 logical processors, using up to 12 threads\r\n",
      "Optimize a model with 2370 rows, 15345 columns and 75237 nonzeros\r\n",
      "Model fingerprint: 0xb92de35b\r\n",
      "Variable types: 14880 continuous, 465 integer (465 binary)\r\n",
      "Coefficient statistics:\r\n",
      "  Matrix range     [4e-03, 1e+10]\r\n",
      "  Objective range  [1e+00, 1e+00]\r\n",
      "  Bounds range     [0e+00, 0e+00]\r\n",
      "  RHS range        [1e-10, 1e+11]\r\n",
      "Warning: Model contains large matrix coefficient range\r\n",
      "Warning: Model contains large rhs\r\n",
      "         Consider reformulating model or setting NumericFocus parameter\r\n",
      "         to avoid numerical issues.\r\n",
      "Presolve removed 1906 rows and 13679 columns\r\n",
      "Presolve time: 0.03s\r\n",
      "Presolved: 464 rows, 1666 columns, 4742 nonzeros\r\n",
      "Variable types: 1512 continuous, 154 integer (154 binary)\r\n",
      "\r\n",
      "Root relaxation: objective 4.734132e+00, 655 iterations, 0.02 seconds\r\n",
      "\r\n",
      "    Nodes    |    Current Node    |     Objective Bounds      |     Work\r\n",
      " Expl Unexpl |  Obj  Depth IntInf | Incumbent    BestBd   Gap | It/Node Time\r\n",
      "\r\n",
      "     0     0    4.73413    0   23          -    4.73413      -     -    0s\r\n",
      "H    0     0                       9.0000000    4.73413  47.4%     -    0s\r\n",
      "H    0     0                       8.0000000    4.73413  40.8%     -    0s\r\n",
      "     0     0    6.13020    0   14    8.00000    6.13020  23.4%     -    0s\r\n",
      "     0     0    6.19635    0   14    8.00000    6.19635  22.5%     -    0s\r\n",
      "     0     0    6.49300    0    9    8.00000    6.49300  18.8%     -    0s\r\n",
      "     0     0    6.49300    0   17    8.00000    6.49300  18.8%     -    0s\r\n",
      "     0     0    6.49300    0   16    8.00000    6.49300  18.8%     -    0s\r\n",
      "     0     0    6.50860    0   13    8.00000    6.50860  18.6%     -    0s\r\n",
      "     0     0    6.57028    0   12    8.00000    6.57028  17.9%     -    0s\r\n",
      "     0     0    6.57113    0   13    8.00000    6.57113  17.9%     -    0s\r\n",
      "     0     0    6.57113    0   13    8.00000    6.57113  17.9%     -    0s\r\n",
      "     0     0     cutoff    0         8.00000    8.00000  0.00%     -    0s\r\n",
      "\r\n",
      "Cutting planes:\r\n",
      "  Gomory: 1\r\n",
      "  Cover: 1\r\n",
      "  Implied bound: 53\r\n",
      "  Clique: 1\r\n",
      "  MIR: 4\r\n",
      "  Flow cover: 40\r\n",
      "  Flow path: 2\r\n",
      "  Network: 2\r\n",
      "  Relax-and-lift: 4\r\n",
      "\r\n",
      "Explored 1 nodes (1689 simplex iterations) in 0.16 seconds\r\n",
      "Thread count was 12 (of 12 available processors)\r\n",
      "\r\n",
      "Solution count 2: 8 9 \r\n",
      "\r\n",
      "Optimal solution found (tolerance 1.00e-04)\r\n",
      "Best objective 8.000000000000e+00, best bound 8.000000000000e+00, gap 0.0000%\r\n",
      "\r\n",
      "User-callback calls 144, time in user-callback 0.00 sec\r\n"
     ]
    },
    {
     "data": {
      "text/plain": [
       "Dict{String, Any} with 3 entries:\n",
       "  \"optobj\" => 8.0\n",
       "  \"opty\"   => [0.0 0.0 … 0.0 0.0; 0.0 0.0 … 0.0 49670.3; … ; 0.0 0.0 … 0.0 0.0;…\n",
       "  \"optx\"   => [0.0 0.0 … 0.0 0.0; 49670.3 0.0 … 0.0 0.0; … ; 0.0 0.0 … 0.0 0.0;…"
      ]
     },
     "execution_count": 85,
     "metadata": {},
     "output_type": "execute_result"
    }
   ],
   "source": [
    "OvershootNum_proc(\"CUSTOMER\")"
   ]
  },
  {
   "cell_type": "code",
   "execution_count": null,
   "id": "c6021677",
   "metadata": {},
   "outputs": [],
   "source": [
    " "
   ]
  },
  {
   "cell_type": "code",
   "execution_count": null,
   "id": "9da0d5e9",
   "metadata": {},
   "outputs": [],
   "source": []
  },
  {
   "cell_type": "code",
   "execution_count": null,
   "id": "b40ba889",
   "metadata": {},
   "outputs": [],
   "source": []
  },
  {
   "cell_type": "code",
   "execution_count": null,
   "id": "88f5f7a3",
   "metadata": {},
   "outputs": [],
   "source": []
  },
  {
   "cell_type": "code",
   "execution_count": null,
   "id": "8ff4dfbe",
   "metadata": {},
   "outputs": [],
   "source": []
  },
  {
   "cell_type": "code",
   "execution_count": 111,
   "id": "6fd3283b",
   "metadata": {},
   "outputs": [
    {
     "data": {
      "text/plain": [
       "OvershootPct_proc (generic function with 2 methods)"
      ]
     },
     "execution_count": 111,
     "metadata": {},
     "output_type": "execute_result"
    }
   ],
   "source": [
    "function OvershootPct_proc(tp=\"PRODUCER\")\n",
    "    model = Model(Gurobi.Optimizer)\n",
    "    set_optimizer_attribute(model, \"NonConvex\", 2)\n",
    "    \n",
    "    @variable(model, x[1:ncty, 1:nproc] >= 0)\n",
    "    @variable(model, y[1:ncty, 1:ncty, 1:nproc] >= 0)\n",
    "    @variable(model, delta[1:ncty, 1:nproc], Bin)\n",
    "    @variable(model, z[1:ncty, 1:nproc], Bin)\n",
    "    @variable(model, obj>=0);\n",
    "    \n",
    "    M = 1e10\n",
    "    slack = 1e-10\n",
    "    \n",
    "    x_cth = [@constraint(model, sum(x[i,k]*z[i,k] for i in 1:ncty) == sum(x[i,5]*z[i,5] for i in 1:ncty) * scaler[k]) for k in cathode]\n",
    "    x_cell = [@constraint(model, sum(x[i,k]*z[i,k] for i in 1:ncty) == sum(x[i,11]*z[i,11] for i in 1:ncty) * scaler[k]) for k in cell]\n",
    "    x_noncell = [@constraint(model, sum(x[i,k]*z[i,k] for i in 1:ncty) == sum(x[i,14]*z[i,14] for i in 1:ncty) * scaler[k]) for k in noncell]\n",
    "    x_battery = [@constraint(model, sum(x[i,k]*z[i,k] for i in 1:ncty) == sum(x[i,15]*z[i,15] for i in 1:ncty) * scaler[k]) for k in battery];\n",
    "\n",
    "    cstr_cap = [@constraint(model, x[i,k]*z[i,k] <= capacity[!, 2:end][i,k]) for k in 1:nproc for i in 1:ncty]\n",
    "    cstr_op = [@constraint(model, sum(y[i,j,k] for j in 1:ncty) == x[i,k]*z[i,k]) for k in 1:nproc for i in 1:ncty]\n",
    "    cstr_cth = [@constraint(model, sum(y[i,j,k] for i in 1:ncty) == x[j,5]*z[j,5]*scaler[k]) for k in cathode for j in 1:ncty]\n",
    "    cstr_cell = [@constraint(model, sum(y[i,j,k] for i in 1:ncty) == x[j,11]*z[j,11]*scaler[k]) for k in cell for j in 1:ncty]\n",
    "    cstr_noncell = [@constraint(model, sum(y[i,j,k] for i in 1:ncty) == x[j,14]*z[j,14]*scaler[k]) for k in noncell for j in 1:ncty]\n",
    "    cstr_battery = [@constraint(model, sum(y[i,j,k] for i in 1:ncty) == x[j,15]*z[j,15]*scaler[k]) for k in battery for j in 1:ncty]\n",
    "\n",
    "    @constraint(model, sum(y[i,mkt_loc,mkt_proc] for i in 1:ncty) == cell_demand)\n",
    "    tmp = filter!(e->e!=mkt_loc,collect(1:ncty))\n",
    "    for j in tmp\n",
    "        @constraint(model, sum(y[i,j,mkt_proc] for i in 1:ncty) == 0);\n",
    "    end\n",
    "    \n",
    "    proD = x .* z .* Matrix(regional_EF[:,2:end])\n",
    "    pro_sink = zeros(ncty, nproc)\n",
    "    for k in 1:nproc\n",
    "        for i in 1:ncty\n",
    "            pro_sink[i,k] = regional_EF[i, k+1] * (sink_c[i]/emission_c[i] + es_ratio)\n",
    "        end\n",
    "    end\n",
    "    proS = x .* z .* pro_sink\n",
    "\n",
    "\n",
    "    transD = Matrix{AffExpr}(undef, ncty, nproc)\n",
    "    if tp == \"PRODUCER\"\n",
    "        for k in 1:nproc\n",
    "            for j in 1:ncty\n",
    "                emi = 0\n",
    "                for i in 1:ncty\n",
    "                    emi += y[i,j,k] * distance[!, 2:end][i,j] * EF_trans  #PRODUCER\n",
    "                end\n",
    "                transD[j,k] = emi\n",
    "            end\n",
    "        end\n",
    "    elseif tp == \"CUSTOMER\"\n",
    "        for k in 1:nproc\n",
    "            for i in 1:ncty\n",
    "                emi = 0\n",
    "                for j in 1:ncty\n",
    "                    emi += y[i,j,k] * distance[!, 2:end][i,j] * EF_trans #CUSTOMER\n",
    "                end\n",
    "                transD[i,k] = emi\n",
    "            end\n",
    "        end\n",
    "    end\n",
    "    \n",
    "    Allo_Dsoc = (proD*ones(nproc,1)) .* (Dsoc./emission_c)\n",
    "    SS = transD*ones(nproc,1) + proD*ones(nproc,1) - Allo_Dsoc\n",
    "    cstr_soc = [@constraint(model, SS[i] >= slack) for i in 1:ncty]\n",
    "\n",
    "    EO = proD - proS + transD\n",
    "    \n",
    "    for i in 1:ncty\n",
    "        for k in 1:nproc\n",
    "            @constraint(model, EO[i,k] >= slack + (delta[i,k] - 1) * M)\n",
    "            @constraint(model, EO[i,k] <= delta[i,k] * M - slack)\n",
    "        end\n",
    "    end\n",
    "    \n",
    "    \n",
    "    @constraint(model, obj*(sum(z)) == sum(delta))\n",
    "    @objective(model, Min, obj)\n",
    "    \n",
    "#     obj = @expression(model, sum(delta[i,k] for i in 1:ncty for k in 1:nproc)/sum(z[i,k] for i in 1:ncty for k in 1:nproc))\n",
    "#     @objective(model, Min, obj)\n",
    "# #     @NLobjective(model, Min, sum(delta[i,k] for i in 1:ncty for k in 1:nproc)/sum(z[i,k] for i in 1:ncty for k in 1:nproc))\n",
    "    \n",
    "    \n",
    "    JuMP.optimize!(model)\n",
    "    optx = JuMP.value.(x)\n",
    "    opty = JuMP.value.(y)\n",
    "    optz = JuMP.value.(z)\n",
    "    obj = JuMP.objective_value(model)\n",
    "    res = Dict([\"optx\"=>optx, \"optobj\"=>obj, \"opty\"=>opty, \"optz\"=>optz])\n",
    "    \n",
    "    return res\n",
    "end\n",
    "\n"
   ]
  },
  {
   "cell_type": "code",
   "execution_count": 105,
   "id": "e891996e",
   "metadata": {},
   "outputs": [
    {
     "name": "stdout",
     "output_type": "stream",
     "text": [
      "Academic license - for non-commercial use only - expires 2024-12-26\r\n",
      "Gurobi Optimizer version 9.1.2 build v9.1.2rc0 (win64)\r\n",
      "Thread count: 6 physical cores, 12 logical processors, using up to 12 threads\r\n",
      "Optimize a model with 31 rows, 15811 columns and 961 nonzeros\r\n",
      "Model fingerprint: 0xe7dbc982\r\n",
      "Model has 2340 quadratic constraints\r\n",
      "Variable types: 14881 continuous, 930 integer (930 binary)\r\n",
      "Coefficient statistics:\r\n",
      "  Matrix range     [1e+00, 1e+00]\r\n",
      "  QMatrix range    [4e-03, 9e+01]\r\n",
      "  QLMatrix range   [7e-02, 1e+10]\r\n",
      "  Objective range  [1e+00, 1e+00]\r\n",
      "  Bounds range     [0e+00, 0e+00]\r\n",
      "  RHS range        [5e+05, 5e+05]\r\n",
      "  QRHS range       [1e-10, 1e+11]\r\n",
      "Warning: Quadratic constraints contain large coefficients on linear part\r\n",
      "Warning: Model contains large rhs on quadratic constraints\r\n",
      "         Consider reformulating model or setting NumericFocus parameter\r\n",
      "         to avoid numerical issues.\r\n",
      "Presolve added 482 rows and 0 columns\r\n",
      "Presolve removed 0 rows and 12880 columns\r\n",
      "Presolve time: 0.03s\r\n",
      "Presolved: 2566 rows, 5721 columns, 11584 nonzeros\r\n",
      "Presolved model has 2147 SOS constraint(s)\r\n",
      "Variable types: 3869 continuous, 1852 integer (1852 binary)\r\n",
      "Found heuristic solution: objective 1.1011236\r\n",
      "\r\n",
      "Root relaxation: objective 4.612273e-02, 1199 iterations, 0.02 seconds\r\n",
      "\r\n",
      "    Nodes    |    Current Node    |     Objective Bounds      |     Work\r\n",
      " Expl Unexpl |  Obj  Depth IntInf | Incumbent    BestBd   Gap | It/Node Time\r\n",
      "\r\n",
      "     0     0    0.04612    0   17    1.10112    0.04612  95.8%     -    0s\r\n",
      "     0     0    0.04949    0   34    1.10112    0.04949  95.5%     -    0s\r\n",
      "H    0     0                       0.0688172    0.04949  28.1%     -    0s\r\n",
      "H    0     0                       0.0666667    0.04949  25.8%     -    0s\r\n",
      "     0     0    0.04949    0   27    0.06667    0.04949  25.8%     -    0s\r\n",
      "     0     0    0.05604    0   33    0.06667    0.05604  15.9%     -    0s\r\n",
      "     0     0    0.05644    0   25    0.06667    0.05644  15.3%     -    0s\r\n",
      "     0     0    0.05772    0   27    0.06667    0.05772  13.4%     -    0s\r\n",
      "     0     0    0.05772    0   25    0.06667    0.05772  13.4%     -    0s\r\n",
      "     0     0    0.05923    0   24    0.06667    0.05923  11.2%     -    0s\r\n",
      "     0     0    0.05923    0   25    0.06667    0.05923  11.2%     -    0s\r\n",
      "H    0     0                       0.0580645    0.05806  0.00%     -    0s\r\n",
      "     0     0    0.05852    0   25    0.05806    0.05806  0.00%     -    0s\r\n",
      "\r\n",
      "Cutting planes:\r\n",
      "  Gomory: 4\r\n",
      "  Cover: 1\r\n",
      "  Implied bound: 47\r\n",
      "  MIR: 19\r\n",
      "  Flow cover: 23\r\n",
      "  Flow path: 9\r\n",
      "  Network: 3\r\n",
      "  Relax-and-lift: 1\r\n",
      "\r\n",
      "Explored 1 nodes (1642 simplex iterations) in 0.85 seconds\r\n",
      "Thread count was 12 (of 12 available processors)\r\n",
      "\r\n",
      "Solution count 4: 0.0580645 0.0666667 0.0688172 1.10112 \r\n",
      "\r\n",
      "Optimal solution found (tolerance 1.00e-04)\r\n",
      "Best objective 5.806451612903e-02, best bound 5.806451612903e-02, gap 0.0000%\r\n",
      "\r\n",
      "User-callback calls 154, time in user-callback 0.00 sec\r\n"
     ]
    },
    {
     "data": {
      "text/plain": [
       "Dict{String, Any} with 4 entries:\n",
       "  \"optobj\" => 0.0580645\n",
       "  \"optz\"   => [1.0 1.0 … 1.0 1.0; 1.0 1.0 … 1.0 1.0; … ; 1.0 1.0 … 1.0 1.0; 1.0…\n",
       "  \"opty\"   => [0.0 0.0 … 0.0 0.0; 0.0 0.0 … 0.0 0.0; … ; 0.0 0.0 … 0.0 0.0; 0.0…\n",
       "  \"optx\"   => [0.0 0.0 … 0.0 0.0; 0.0 0.0 … 4.51715e5 0.0; … ; 0.0 0.0 … 0.0 0.…"
      ]
     },
     "execution_count": 105,
     "metadata": {},
     "output_type": "execute_result"
    }
   ],
   "source": [
    "OvershootPct_proc()"
   ]
  },
  {
   "cell_type": "code",
   "execution_count": null,
   "id": "7d09cf66",
   "metadata": {},
   "outputs": [],
   "source": []
  },
  {
   "cell_type": "code",
   "execution_count": null,
   "id": "4cb55489",
   "metadata": {},
   "outputs": [],
   "source": []
  },
  {
   "cell_type": "code",
   "execution_count": null,
   "id": "4472617f",
   "metadata": {},
   "outputs": [],
   "source": []
  },
  {
   "cell_type": "code",
   "execution_count": null,
   "id": "424608da",
   "metadata": {},
   "outputs": [],
   "source": []
  },
  {
   "cell_type": "code",
   "execution_count": null,
   "id": "d56d584e",
   "metadata": {},
   "outputs": [],
   "source": []
  },
  {
   "cell_type": "code",
   "execution_count": null,
   "id": "b13c48ca",
   "metadata": {},
   "outputs": [],
   "source": []
  },
  {
   "cell_type": "code",
   "execution_count": null,
   "id": "bed4cf77",
   "metadata": {},
   "outputs": [],
   "source": []
  },
  {
   "cell_type": "code",
   "execution_count": null,
   "id": "8f358062",
   "metadata": {},
   "outputs": [],
   "source": []
  },
  {
   "cell_type": "code",
   "execution_count": null,
   "id": "39f671f8",
   "metadata": {},
   "outputs": [],
   "source": []
  },
  {
   "cell_type": "code",
   "execution_count": null,
   "id": "c0aa34fd",
   "metadata": {},
   "outputs": [],
   "source": []
  },
  {
   "cell_type": "code",
   "execution_count": null,
   "id": "5fa0b8de",
   "metadata": {},
   "outputs": [],
   "source": []
  },
  {
   "cell_type": "code",
   "execution_count": null,
   "id": "4f178916",
   "metadata": {},
   "outputs": [],
   "source": []
  },
  {
   "cell_type": "code",
   "execution_count": null,
   "id": "55efb362",
   "metadata": {},
   "outputs": [],
   "source": []
  },
  {
   "cell_type": "code",
   "execution_count": null,
   "id": "d62eb2aa",
   "metadata": {},
   "outputs": [],
   "source": []
  },
  {
   "cell_type": "code",
   "execution_count": null,
   "id": "964e81ba",
   "metadata": {},
   "outputs": [],
   "source": []
  },
  {
   "cell_type": "code",
   "execution_count": null,
   "id": "3879e48c",
   "metadata": {},
   "outputs": [],
   "source": []
  },
  {
   "cell_type": "code",
   "execution_count": null,
   "id": "c826742b",
   "metadata": {},
   "outputs": [],
   "source": []
  }
 ],
 "metadata": {
  "@webio": {
   "lastCommId": "573498ee8ad3424289ed644dae36ef98",
   "lastKernelId": "c1192948-744d-447f-8156-570f252fa1f0"
  },
  "kernelspec": {
   "display_name": "Julia 1.8.3",
   "language": "julia",
   "name": "julia-1.8"
  },
  "language_info": {
   "file_extension": ".jl",
   "mimetype": "application/julia",
   "name": "julia",
   "version": "1.8.3"
  }
 },
 "nbformat": 4,
 "nbformat_minor": 5
}
