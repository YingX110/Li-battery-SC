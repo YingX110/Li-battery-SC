{
 "cells": [
  {
   "cell_type": "code",
   "execution_count": 1,
   "id": "5edf3ebd",
   "metadata": {},
   "outputs": [],
   "source": [
    "using JuMP, Gurobi\n",
    "using CSV, LinearAlgebra, DataFrames\n",
    "using Plots\n",
    "using DelimitedFiles"
   ]
  },
  {
   "cell_type": "code",
   "execution_count": 2,
   "id": "9200f615",
   "metadata": {},
   "outputs": [],
   "source": [
    "path = \"C:/Users/bourg/.julia/environments/batterySC/Li-battery-SC/src/deterministic/data/\";"
   ]
  },
  {
   "cell_type": "code",
   "execution_count": 3,
   "id": "93d2a5ce",
   "metadata": {},
   "outputs": [],
   "source": [
    "#load social and ecological data and orgnize \n",
    "FL = repeat([Float64], inner=15)\n",
    "dtype = append!([String], FL);\n",
    "\n",
    "regional_EF = CSV.File(string(path,\"EF_SC31.csv\"),header=1,delim=\",\", types=dtype) |> DataFrame    \n",
    "capacity = CSV.File(string(path,\"capacity31.csv\"),header=1,delim=\",\", types=dtype) |> DataFrame    \n",
    "distance = CSV.File(string(path,\"distance31.csv\"),header=1,delim=\",\") |> DataFrame \n",
    "LCA_model = CSV.File(string(path,\"LCA_model.csv\"), header=1, delim=\",\") |> DataFrame \n",
    "SDD = CSV.File(string(path,\"SDD31.csv\"),header=1,delim=\",\") |> DataFrame;"
   ]
  },
  {
   "cell_type": "code",
   "execution_count": 4,
   "id": "5118b2b5",
   "metadata": {},
   "outputs": [],
   "source": [
    "global_sink = 1.099e10                        # global pub (ocean) CO2 sequestration (ton/yr)\n",
    "global_sink_tot = 2.236e10                  # global total (ocean+land) CO2 sequestration (ton/yr)\n",
    "global_emi = 3.53e10                          # global CO2 emission (ton/yr)                          # 2021 global GD ($/yr)\n",
    "es_ratio = global_sink/global_emi\n",
    "\n",
    "emission_c = SDD[!, \"emission\"]          # national CO2 emission (ton/yr)\n",
    "sink_c = SDD[!, \"sink ton/yr\"]           # national CO2 sink (ton/yr)\n",
    "Dsoc = SDD[!, \"Dsoc ton/yr\"]           # national CO2 sink (ton/yr)\n",
    "\n",
    "EF_trans = 1.005/10000                        # ton CO2/km*ton (The average freight truck in the U.S. emits 161.8 grams of CO2 per ton-mile)\n",
    "process = LCA_model[!,\"process\"]\n",
    "countries = capacity[!,\"country\"]\n",
    "ncty = size(countries,1)                          # No. of countries\n",
    "nproc = size(process,1);                          # No. of processes \n",
    "\n",
    "mkt_loc = findfirst(isequal(\"United States\"), countries)\n",
    "mkt_proc = findfirst(isequal(\"battery\"), process)\n",
    "\n",
    "# seperate model\n",
    "cathode = collect(1:4)\n",
    "cell = collect(5:10)\n",
    "noncell = [12,13]\n",
    "battery = [11,14]\n",
    "scaler = LCA_model[!,\"scaler\"];"
   ]
  },
  {
   "cell_type": "code",
   "execution_count": 5,
   "id": "4729c3eb",
   "metadata": {},
   "outputs": [],
   "source": [
    "cell_demand = 0.001*164.98*(1.369*1e6)*2;           # annual demand of Li battery for tesla (1.369M EV/yr, ~2 NMC111 pack/EV, 164.98 kg/pack (35kwh/pack), 80~100 kWh per EV)"
   ]
  },
  {
   "cell_type": "code",
   "execution_count": 6,
   "id": "794d3722",
   "metadata": {},
   "outputs": [],
   "source": [
    "cell_demand = 500000;"
   ]
  },
  {
   "cell_type": "code",
   "execution_count": 52,
   "id": "adc39e9b",
   "metadata": {},
   "outputs": [
    {
     "data": {
      "text/plain": [
       "pct_count (generic function with 1 method)"
      ]
     },
     "execution_count": 52,
     "metadata": {},
     "output_type": "execute_result"
    }
   ],
   "source": [
    "function pct_count(x,y)\n",
    "    proD = x .* Matrix(regional_EF[:,2:end])\n",
    "    pro_sink = zeros(ncty, nproc)\n",
    "    for k in 1:nproc\n",
    "        for i in 1:ncty\n",
    "            pro_sink[i,k] = regional_EF[i, k+1] * (sink_c[i]/emission_c[i] + es_ratio)\n",
    "        end\n",
    "    end\n",
    "    proS = x .* pro_sink\n",
    "\n",
    "\n",
    "    transD = zeros(ncty, nproc)\n",
    "    for k in 1:nproc\n",
    "        for i in 1:ncty\n",
    "            emi = 0\n",
    "            for j in 1:ncty\n",
    "                emi += y[i,j,k] * distance[!, 2:end][i,j] * EF_trans  \n",
    "            end\n",
    "            transD[i,k] = emi\n",
    "        end\n",
    "    end\n",
    "\n",
    "    MEO = proD - proS + transD;\n",
    "    \n",
    "    indices = (MEO .>= 0.1) .|| (MEO .<= -0.1)\n",
    "    ls = MEO[indices]\n",
    "    total = length(ls)\n",
    "    \n",
    "    num_os = 0\n",
    "    num_safe = 0\n",
    "    for e in ls\n",
    "        if e > 0\n",
    "            num_os += 1\n",
    "        elseif e < 0\n",
    "            num_safe += 1\n",
    "        end\n",
    "    end\n",
    "    \n",
    "    return MEO, num_os,num_safe\n",
    "\n",
    "#     return MEO,num_os,num_safe,total\n",
    "end"
   ]
  },
  {
   "cell_type": "markdown",
   "id": "a5a22eba",
   "metadata": {},
   "source": [
    "----"
   ]
  },
  {
   "cell_type": "code",
   "execution_count": 231,
   "id": "34b7bc79",
   "metadata": {},
   "outputs": [
    {
     "name": "stdout",
     "output_type": "stream",
     "text": [
      "Academic license - for non-commercial use only - expires 2024-12-26\r\n"
     ]
    }
   ],
   "source": [
    "model = Model(Gurobi.Optimizer)\n",
    "set_optimizer_attributes(model, \"NonConvex\" => 2, \"IntegralityFocus\" => 1)"
   ]
  },
  {
   "cell_type": "code",
   "execution_count": 232,
   "id": "ad4f9c9f",
   "metadata": {},
   "outputs": [],
   "source": [
    "@variable(model, x[1:ncty, 1:nproc] >= 0)\n",
    "@variable(model, y[1:ncty, 1:ncty, 1:nproc] >= 0)\n",
    "@variable(model, 0<=obj<=1)\n",
    "\n",
    "@variable(model, delta[1:ncty, 1:nproc], Bin)\n",
    "@variable(model, z[1:ncty, 1:nproc], Bin)\n",
    "@variable(model, r[1:ncty, 1:nproc], Bin)\n",
    "@variable(model, t[1:ncty, 1:nproc], Bin);"
   ]
  },
  {
   "cell_type": "code",
   "execution_count": 233,
   "id": "996e7c4d",
   "metadata": {},
   "outputs": [],
   "source": [
    "x_cth = [@constraint(model, sum(x[i,k] for i in 1:ncty) >= sum(x[i,5] for i in 1:ncty) * scaler[k]) for k in cathode]\n",
    "x_cell = [@constraint(model, sum(x[i,k] for i in 1:ncty) >= sum(x[i,11] for i in 1:ncty) * scaler[k]) for k in cell]\n",
    "x_noncell = [@constraint(model, sum(x[i,k] for i in 1:ncty) >= sum(x[i,14] for i in 1:ncty) * scaler[k]) for k in noncell]\n",
    "x_battery = [@constraint(model, sum(x[i,k] for i in 1:ncty) >= sum(x[i,15] for i in 1:ncty) * scaler[k]) for k in battery];\n",
    "\n",
    "cstr_cap = [@constraint(model, x[i,k] <= capacity[!, 2:end][i,k]) for k in 1:nproc for i in 1:ncty]\n",
    "cstr_op = [@constraint(model, sum(y[i,j,k] for j in 1:ncty) <= x[i,k]) for k in 1:nproc for i in 1:ncty]\n",
    "cstr_cth = [@constraint(model, sum(y[i,j,k] for i in 1:ncty) >= x[j,5]*scaler[k]) for k in cathode for j in 1:ncty]\n",
    "cstr_cell = [@constraint(model, sum(y[i,j,k] for i in 1:ncty) >= x[j,11]*scaler[k]) for k in cell for j in 1:ncty]\n",
    "cstr_noncell = [@constraint(model, sum(y[i,j,k] for i in 1:ncty) >= x[j,14]*scaler[k]) for k in noncell for j in 1:ncty]\n",
    "cstr_battery = [@constraint(model, sum(y[i,j,k] for i in 1:ncty) >= x[j,15]*scaler[k]) for k in battery for j in 1:ncty]\n",
    "\n",
    "@constraint(model, sum(y[i,mkt_loc,mkt_proc] for i in 1:ncty) >= cell_demand)\n",
    "tmp = filter!(e->e!=mkt_loc,collect(1:ncty))\n",
    "for j in tmp\n",
    "    @constraint(model, sum(y[i,j,mkt_proc] for i in 1:ncty) == 0);\n",
    "end"
   ]
  },
  {
   "cell_type": "code",
   "execution_count": 234,
   "id": "7eeac4d5",
   "metadata": {},
   "outputs": [],
   "source": [
    "proD = x .* Matrix(regional_EF[:,2:end])\n",
    "pro_sink = zeros(ncty, nproc)\n",
    "for k in 1:nproc\n",
    "    for i in 1:ncty\n",
    "        pro_sink[i,k] = regional_EF[i, k+1] * (sink_c[i]/emission_c[i] + es_ratio)\n",
    "    end\n",
    "end\n",
    "proS = x .* pro_sink\n",
    "\n",
    "transD = Matrix{AffExpr}(undef, ncty, nproc)\n",
    "for k in 1:nproc\n",
    "    for i in 1:ncty\n",
    "        emi = 0\n",
    "        for j in 1:ncty\n",
    "            emi += y[i,j,k] * distance[!, 2:end][i,j] * EF_trans  #PRODUCER\n",
    "        end\n",
    "        transD[i,k] = emi\n",
    "    end\n",
    "end"
   ]
  },
  {
   "cell_type": "code",
   "execution_count": 235,
   "id": "44d7b638",
   "metadata": {},
   "outputs": [
    {
     "data": {
      "text/plain": [
       "1.0e-6"
      ]
     },
     "execution_count": 235,
     "metadata": {},
     "output_type": "execute_result"
    }
   ],
   "source": [
    "slack = 1e-6"
   ]
  },
  {
   "cell_type": "code",
   "execution_count": 236,
   "id": "423e4d4e",
   "metadata": {},
   "outputs": [
    {
     "data": {
      "text/plain": [
       "1.0e7"
      ]
     },
     "execution_count": 236,
     "metadata": {},
     "output_type": "execute_result"
    }
   ],
   "source": [
    "M = 1e7"
   ]
  },
  {
   "cell_type": "code",
   "execution_count": 237,
   "id": "364831a1",
   "metadata": {},
   "outputs": [],
   "source": [
    "Allo_Dsoc = (proD*ones(nproc,1)) .* (Dsoc./emission_c)\n",
    "SS = transD*ones(nproc,1) + proD*ones(nproc,1) - Allo_Dsoc\n",
    "cstr_soc = [@constraint(model, SS[i] >= slack) for i in 1:ncty];"
   ]
  },
  {
   "cell_type": "code",
   "execution_count": 238,
   "id": "c17b7bd9",
   "metadata": {},
   "outputs": [],
   "source": [
    "EO = proD - proS + transD;"
   ]
  },
  {
   "cell_type": "code",
   "execution_count": 239,
   "id": "cc9d3f95",
   "metadata": {},
   "outputs": [],
   "source": [
    "# for i in 1:ncty\n",
    "#     for k in 1:nproc\n",
    "#         @constraint(model, EO[i,k] >= -M*(t[i,k]-1) + slack)\n",
    "#         @constraint(model, EO[i,k] <= M*t[i,k])\n",
    "#         @constraint(model, delta[i,k] => {x[i,k] >= 0.1})\n",
    "#     end\n",
    "# end"
   ]
  },
  {
   "cell_type": "code",
   "execution_count": 240,
   "id": "da031a85",
   "metadata": {},
   "outputs": [],
   "source": [
    "for i in 1:ncty\n",
    "    for k in 1:nproc\n",
    "        @constraint(model, EO[i,k] >= -M*r[i,k] + slack*t[i,k])\n",
    "        @constraint(model, EO[i,k] <= -slack*r[i,k] + M*t[i,k])\n",
    "        @constraint(model, z[i,k] + r[i,k] + t[i,k] == 1)\n",
    "        @constraint(model, delta[i,k] => {x[i,k] >= 0.1})\n",
    "    end\n",
    "end"
   ]
  },
  {
   "cell_type": "code",
   "execution_count": 241,
   "id": "8719d482",
   "metadata": {},
   "outputs": [
    {
     "data": {
      "text/latex": [
       "$$ obj $$"
      ],
      "text/plain": [
       "obj"
      ]
     },
     "execution_count": 241,
     "metadata": {},
     "output_type": "execute_result"
    }
   ],
   "source": [
    "# @constraint(model, obj*(sum(r) + sum(t)) == sum(t))\n",
    "@constraint(model, obj*sum(delta) == sum(t))\n",
    "@objective(model, Min, obj)"
   ]
  },
  {
   "cell_type": "code",
   "execution_count": 242,
   "id": "d86dbcaa",
   "metadata": {},
   "outputs": [
    {
     "name": "stdout",
     "output_type": "stream",
     "text": [
      "Gurobi Optimizer version 9.1.2 build v9.1.2rc0 (win64)\r\n",
      "Thread count: 6 physical cores, 12 logical processors, using up to 12 threads\r\n",
      "Optimize a model with 2835 rows, 16741 columns and 77562 nonzeros\r\n",
      "Model fingerprint: 0x6c214684\r\n",
      "Model has 1 quadratic constraint\r\n",
      "Model has 465 general constraints\r\n",
      "Variable types: 14881 continuous, 1860 integer (1860 binary)\r\n",
      "Coefficient statistics:\r\n",
      "  Matrix range     [1e-06, 1e+07]\r\n",
      "  QMatrix range    [1e+00, 1e+00]\r\n",
      "  QLMatrix range   [1e+00, 1e+00]\r\n",
      "  Objective range  [1e+00, 1e+00]\r\n",
      "  Bounds range     [1e+00, 1e+00]\r\n",
      "  RHS range        [1e-06, 1e+11]\r\n",
      "Warning: Model contains large matrix coefficient range\r\n",
      "Warning: Model contains large rhs\r\n",
      "         Consider reformulating model or setting NumericFocus parameter\r\n",
      "         to avoid numerical issues.\r\n",
      "Presolve removed 2101 rows and 13632 columns\r\n",
      "Presolve time: 0.04s\r\n",
      "Presolved: 1269 rows, 3287 columns, 10346 nonzeros\r\n",
      "Variable types: 2606 continuous, 681 integer (681 binary)\r\n",
      "\r\n",
      "Root relaxation: objective 2.562311e-02, 1051 iterations, 0.04 seconds\r\n",
      "\r\n",
      "    Nodes    |    Current Node    |     Objective Bounds      |     Work\r\n",
      " Expl Unexpl |  Obj  Depth IntInf | Incumbent    BestBd   Gap | It/Node Time\r\n",
      "\r\n",
      "     0     0    0.02562    0  175          -    0.02562      -     -    0s\r\n",
      "H    0     0                       0.7647059    0.02562  96.6%     -    0s\r\n",
      "     0     0    0.06260    0   86    0.76471    0.06260  91.8%     -    0s\r\n",
      "H    0     0                       0.5294118    0.06260  88.2%     -    0s\r\n",
      "     0     0    0.06260    0   86    0.52941    0.06260  88.2%     -    0s\r\n",
      "     0     0    0.06260    0   89    0.52941    0.06260  88.2%     -    0s\r\n",
      "     0     0    0.06260    0   89    0.52941    0.06260  88.2%     -    0s\r\n",
      "     0     0    0.08185    0   80    0.52941    0.08185  84.5%     -    0s\r\n",
      "     0     0    0.08185    0   76    0.52941    0.08185  84.5%     -    0s\r\n",
      "     0     0    0.08185    0   68    0.52941    0.08185  84.5%     -    0s\r\n",
      "H    0     0                       0.3214286    0.08185  74.5%     -    0s\r\n",
      "     0     0    0.08185    0   64    0.32143    0.08185  74.5%     -    0s\r\n",
      "     0     0    0.08185    0   64    0.32143    0.08185  74.5%     -    0s\r\n",
      "     0     0    0.09034    0   52    0.32143    0.09034  71.9%     -    0s\r\n",
      "     0     0    0.09598    0   46    0.32143    0.09598  70.1%     -    0s\r\n",
      "     0     0    0.09608    0   46    0.32143    0.09608  70.1%     -    0s\r\n",
      "     0     0    0.09608    0   49    0.32143    0.09608  70.1%     -    0s\r\n",
      "     0     0    0.09608    0   44    0.32143    0.09608  70.1%     -    0s\r\n",
      "H    0     0                       0.2352941    0.09608  59.2%     -    0s\r\n",
      "     0     2    0.09608    0   42    0.23529    0.09608  59.2%     -    0s\r\n",
      "H   31    43                       0.2142857    0.09608  55.2%  34.2    0s\r\n",
      "H  123   129                       0.1956522    0.09608  50.9%  21.0    1s\r\n",
      "H  268   210                       0.1956522    0.10109  48.3%  24.6    1s\r\n",
      "H  274   210                       0.1739130    0.10109  41.9%  30.9    1s\r\n",
      "H  355   218                       0.1739130    0.11276  35.2%  31.0    1s\r\n",
      "  2118   735    0.17033   22   19    0.17391    0.13074  24.8%  76.4    5s\r\n",
      "  3428   966    0.17190    9    9    0.17391    0.14081  19.0%  86.2   12s\r\n",
      "  4798  1177    0.15752   26    4    0.17391    0.14479  16.7%  96.7   15s\r\n",
      "\r\n",
      "Cutting planes:\r\n",
      "  Learned: 4\r\n",
      "  Gomory: 2\r\n",
      "  Cover: 32\r\n",
      "  Implied bound: 7\r\n",
      "  Clique: 4\r\n",
      "  MIR: 6\r\n",
      "  Flow cover: 82\r\n",
      "  Inf proof: 1\r\n",
      "  Zero half: 1\r\n",
      "  RLT: 14\r\n",
      "  Relax-and-lift: 11\r\n",
      "\r\n",
      "Explored 5070 nodes (493989 simplex iterations) in 16.27 seconds\r\n",
      "Thread count was 12 (of 12 available processors)\r\n",
      "\r\n",
      "Solution count 8: 0.173913 0.195652 0.195652 ... 0.764706\r\n",
      "\r\n",
      "Optimal solution found (tolerance 1.00e-04)\r\n",
      "Best objective 1.739130331940e-01, best bound 1.739130331940e-01, gap 0.0000%\r\n",
      "\r\n",
      "User-callback calls 11408, time in user-callback 0.00 sec\r\n"
     ]
    }
   ],
   "source": [
    "JuMP.optimize!(model)"
   ]
  },
  {
   "cell_type": "code",
   "execution_count": 244,
   "id": "a0cb4fb0",
   "metadata": {},
   "outputs": [
    {
     "data": {
      "text/plain": [
       "0.17391303319397852"
      ]
     },
     "execution_count": 244,
     "metadata": {},
     "output_type": "execute_result"
    }
   ],
   "source": [
    "x = JuMP.value.(x)\n",
    "y = JuMP.value.(y)\n",
    "z = JuMP.value.(z)\n",
    "r = JuMP.value.(r)\n",
    "t = JuMP.value.(t)\n",
    "delta = JuMP.value.(delta)\n",
    "solution = JuMP.objective_value(model)"
   ]
  },
  {
   "cell_type": "code",
   "execution_count": 246,
   "id": "0ac89a97",
   "metadata": {},
   "outputs": [
    {
     "data": {
      "text/plain": [
       "31×15 Matrix{Float64}:\n",
       " 0.0  1.0  1.0  1.0  1.0  1.0   0.0   1.0  …  1.0  1.0   0.0  1.0   1.0  1.0\n",
       " 0.0  0.0  0.0  0.0  1.0  0.0   0.0   0.0     0.0  1.0   0.0  1.0   0.0  1.0\n",
       " 0.0  1.0  0.0  0.0  1.0  0.0   0.0   0.0     0.0  1.0   0.0  1.0   0.0  1.0\n",
       " 1.0  1.0  1.0  1.0  1.0  1.0  -0.0   1.0     1.0  1.0   1.0  1.0  -0.0  1.0\n",
       " 1.0  1.0  1.0  1.0  1.0  1.0   1.0   1.0     1.0  1.0   1.0  1.0  -0.0  1.0\n",
       " 0.0  0.0  0.0  1.0  0.0  0.0   0.0   0.0  …  0.0  0.0   0.0  0.0   0.0  0.0\n",
       " 1.0  1.0  1.0  1.0  1.0  1.0   1.0   1.0     1.0  1.0   1.0  1.0   1.0  1.0\n",
       " 1.0  0.0  1.0  1.0  1.0  1.0   1.0   1.0     1.0  1.0   1.0  1.0   1.0  1.0\n",
       " 1.0  1.0  1.0  1.0  1.0  1.0   1.0   1.0     1.0  1.0   1.0  1.0   1.0  1.0\n",
       " 1.0  1.0  1.0  1.0  1.0  1.0   0.0   1.0     1.0  1.0   1.0  1.0   0.0  1.0\n",
       " 1.0  1.0  1.0  1.0  0.0  0.0   0.0   0.0  …  1.0  0.0   0.0  0.0   0.0  0.0\n",
       " 1.0  1.0  0.0  1.0  1.0  0.0   0.0   0.0     0.0  1.0   0.0  1.0   0.0  1.0\n",
       " 1.0  0.0  1.0  0.0  1.0  1.0   0.0   0.0     1.0  1.0   0.0  1.0   0.0  1.0\n",
       " ⋮                        ⋮                ⋱       ⋮                     \n",
       " 1.0  1.0  1.0  1.0  1.0  1.0   1.0   1.0     1.0  1.0   1.0  1.0  -0.0  1.0\n",
       " 1.0  1.0  1.0  1.0  1.0  1.0   1.0   1.0  …  1.0  1.0   1.0  1.0   1.0  1.0\n",
       " 1.0  0.0  0.0  0.0  1.0  1.0   1.0   0.0     1.0  1.0   0.0  1.0   0.0  1.0\n",
       " 0.0  1.0  1.0  1.0  1.0  1.0   1.0   1.0     1.0  1.0   1.0  1.0   0.0  1.0\n",
       " 1.0  1.0  1.0  1.0  1.0  1.0  -0.0  -0.0     1.0  1.0  -0.0  1.0  -0.0  1.0\n",
       " 1.0  1.0  1.0  1.0  1.0  1.0   0.0   0.0     0.0  1.0   0.0  1.0   0.0  1.0\n",
       " 1.0  1.0  0.0  0.0  1.0  1.0   1.0   0.0  …  0.0  1.0   0.0  1.0   0.0  1.0\n",
       " 1.0  1.0  0.0  1.0  0.0  1.0   0.0   0.0     1.0  0.0   0.0  0.0   0.0  0.0\n",
       " 1.0  0.0  1.0  1.0  1.0  0.0   0.0   0.0     1.0  1.0   0.0  1.0   0.0  1.0\n",
       " 1.0  1.0  0.0  1.0  1.0  0.0   1.0   1.0     0.0  1.0   1.0  1.0   0.0  1.0\n",
       " 1.0  1.0  1.0  1.0  1.0  1.0   1.0   1.0     0.0  1.0   1.0  1.0   0.0  1.0\n",
       " 0.0  1.0  1.0  0.0  0.0  1.0   0.0   0.0  …  0.0  0.0   1.0  0.0   0.0  0.0"
      ]
     },
     "execution_count": 246,
     "metadata": {},
     "output_type": "execute_result"
    }
   ],
   "source": [
    "r"
   ]
  },
  {
   "cell_type": "code",
   "execution_count": 153,
   "id": "ddc1674b",
   "metadata": {},
   "outputs": [],
   "source": [
    "meo, nos, nsf = pct_count(x,y);"
   ]
  },
  {
   "cell_type": "code",
   "execution_count": 154,
   "id": "dccfa127",
   "metadata": {},
   "outputs": [
    {
     "data": {
      "text/plain": [
       "1.6167003131057064e6"
      ]
     },
     "execution_count": 154,
     "metadata": {},
     "output_type": "execute_result"
    }
   ],
   "source": [
    "maximum(meo)"
   ]
  },
  {
   "cell_type": "code",
   "execution_count": 155,
   "id": "02fcbdd0",
   "metadata": {},
   "outputs": [
    {
     "data": {
      "text/plain": [
       "(8, 27, 0.22857142857142856)"
      ]
     },
     "execution_count": 155,
     "metadata": {},
     "output_type": "execute_result"
    }
   ],
   "source": [
    "nos, nsf, nos/(nos+nsf) "
   ]
  },
  {
   "cell_type": "code",
   "execution_count": 156,
   "id": "18ea3bd9",
   "metadata": {},
   "outputs": [
    {
     "data": {
      "text/plain": [
       "31×15 Matrix{Float64}:\n",
       "       0.0            0.0        …  0.0         0.0          0.0\n",
       "   82051.7            0.0           0.0         0.0          0.0\n",
       "       0.0            0.0           0.0         0.0          0.0\n",
       "      -0.118858  -65557.2           0.0        -4.36557e-11  0.0\n",
       " -103967.0            0.0           0.0         0.0          0.0\n",
       "       0.0            0.0        …  0.0         0.0          0.0\n",
       "       0.0            0.0           0.0         0.0          0.0\n",
       "       0.0            9.18613e5     0.0         0.0          0.0\n",
       "       0.0       -39785.9           0.0        -1.00001e-6   0.0\n",
       "       0.0            0.0           0.0         0.0          0.0\n",
       "       0.0            0.0        …  1.94419e5   0.0          0.0\n",
       "       0.0            0.0           0.0         0.0          0.0\n",
       "       0.0            0.0           0.0         0.0          0.0\n",
       "       ⋮                         ⋱                           \n",
       "       0.0            0.0           0.0         8.67362e-19  0.0\n",
       "       0.0            0.0        …  0.0         0.0          0.0\n",
       "       0.0            0.0           0.0         0.0          0.0\n",
       "       0.0            0.0           0.0         0.0          0.0\n",
       "       0.0        -9085.99          0.0         8.67362e-19  0.0\n",
       "       0.0            0.0           0.0         0.0          0.0\n",
       "       0.0            0.0        …  0.0         0.0          0.0\n",
       "       0.0            0.0           0.0         0.0          0.0\n",
       "       0.0            0.0           0.0         0.0          0.0\n",
       "       0.0            0.0           0.0         0.0          0.0\n",
       "       0.0            0.0           0.0         0.0          0.0\n",
       "       0.0            0.0        …  0.0         0.0          1.6167e6"
      ]
     },
     "execution_count": 156,
     "metadata": {},
     "output_type": "execute_result"
    }
   ],
   "source": [
    "meo"
   ]
  },
  {
   "cell_type": "code",
   "execution_count": 157,
   "id": "5393c434",
   "metadata": {},
   "outputs": [
    {
     "data": {
      "text/plain": [
       "31×15 Matrix{Float64}:\n",
       "     0.0       0.0       0.0       0.0  0.0  …      0.0  0.0             0.0\n",
       " 61000.0       0.0       0.0       0.0  0.0         0.0  0.0             0.0\n",
       "     0.0       0.0  881547.0       0.0  0.0         0.0  0.0             0.0\n",
       "     0.1    3100.0       0.0  180000.0  0.0         0.0  1.0e6           0.0\n",
       " 39000.0       0.0       0.0       0.0  0.0         0.0  0.1             0.0\n",
       "     0.0       0.0       0.0       0.0  0.0  …      0.0  0.0             0.0\n",
       "     0.0       0.0       0.0  110000.0  0.0         0.0  0.0             0.0\n",
       "     0.0  145000.0       0.0       0.0  0.0         0.0  0.0             0.0\n",
       "     0.0    1084.0       0.0   42000.0  0.0         0.0  3.10324e5       0.0\n",
       "     0.0       0.0       0.0       0.0  0.0         0.0  0.0             0.0\n",
       "     0.0       0.0       0.0       0.0  0.0  …  10000.0  0.0             0.0\n",
       "     0.0       0.0       0.0       0.0  0.0         0.0  0.0             0.0\n",
       "     0.0       0.0       0.0       0.0  0.0         0.0  0.0             0.0\n",
       "     ⋮                                       ⋱                      \n",
       "     0.0       0.0       0.0       0.0  0.0         0.0  0.1             0.0\n",
       "     0.0       0.0   10100.0       0.0  0.0  …      0.0  0.0             0.0\n",
       "     0.0       0.0       0.0       0.0  0.0         0.0  0.0             0.0\n",
       "     0.0       0.0       0.0       0.0  0.0         0.0  0.0             0.0\n",
       "     0.0    3500.0       0.0  270000.0  0.0         0.0  0.1             0.0\n",
       "     0.0       0.0       0.0       0.0  0.0         0.0  0.0             0.0\n",
       "     0.0       0.0       0.0       0.0  0.0  …      0.0  0.0             0.0\n",
       "     0.0       0.0       0.0       0.0  0.0         0.0  0.0             0.0\n",
       "     0.0       0.0       0.0       0.0  0.0         0.0  0.0             0.0\n",
       "     0.0       0.0       0.0       0.0  0.0         0.0  0.0             0.0\n",
       "     0.0       0.0       0.0       0.0  0.0         0.0  0.0             0.0\n",
       "     0.0       0.0       0.0       0.0  0.0  …      0.0  0.0        500000.0"
      ]
     },
     "execution_count": 157,
     "metadata": {},
     "output_type": "execute_result"
    }
   ],
   "source": [
    "x"
   ]
  },
  {
   "cell_type": "code",
   "execution_count": 160,
   "id": "69e8d5de",
   "metadata": {},
   "outputs": [
    {
     "name": "stdout",
     "output_type": "stream",
     "text": [
      "61000.0\n",
      "39000.0\n"
     ]
    }
   ],
   "source": [
    "for i in 1:ncty\n",
    "    if x[i,1] > 1\n",
    "        println(x[i,1])\n",
    "    end\n",
    "end"
   ]
  },
  {
   "cell_type": "code",
   "execution_count": 166,
   "id": "befb68c1",
   "metadata": {},
   "outputs": [
    {
     "data": {
      "text/plain": [
       "46.0"
      ]
     },
     "execution_count": 166,
     "metadata": {},
     "output_type": "execute_result"
    }
   ],
   "source": [
    "sum(delta)"
   ]
  },
  {
   "cell_type": "code",
   "execution_count": 164,
   "id": "1b07eaed",
   "metadata": {},
   "outputs": [
    {
     "name": "stdout",
     "output_type": "stream",
     "text": [
      "2\n",
      "4\n",
      "2\n",
      "4\n",
      "1\n",
      "5\n",
      "2\n",
      "3\n",
      "3\n",
      "3\n",
      "1\n",
      "3\n",
      "1\n",
      "2\n",
      "1\n"
     ]
    }
   ],
   "source": [
    "tot = 0\n",
    "for k in 1: nproc\n",
    "    num = 0\n",
    "    for i in 1:ncty\n",
    "        if x[i,k] > 1\n",
    "            num += 1\n",
    "            tot += 1\n",
    "        end\n",
    "    end\n",
    "    println(num)\n",
    "end\n"
   ]
  },
  {
   "cell_type": "code",
   "execution_count": 165,
   "id": "011ae1ad",
   "metadata": {},
   "outputs": [
    {
     "data": {
      "text/plain": [
       "37"
      ]
     },
     "execution_count": 165,
     "metadata": {},
     "output_type": "execute_result"
    }
   ],
   "source": [
    "tot"
   ]
  },
  {
   "cell_type": "code",
   "execution_count": 159,
   "id": "d03fc16c",
   "metadata": {},
   "outputs": [
    {
     "name": "stdout",
     "output_type": "stream",
     "text": [
      "3.0\n",
      "4.0\n",
      "2.0\n",
      "4.0\n",
      "1.0\n",
      "5.0\n",
      "4.0\n",
      "4.0\n",
      "4.0\n",
      "3.0\n",
      "1.0\n",
      "4.0\n",
      "1.0\n",
      "5.0\n",
      "1.0\n"
     ]
    }
   ],
   "source": [
    "for k in 1:nproc\n",
    "    println(sum(delta[:,k]))\n",
    "end"
   ]
  },
  {
   "cell_type": "code",
   "execution_count": null,
   "id": "c2a191ac",
   "metadata": {},
   "outputs": [],
   "source": []
  },
  {
   "cell_type": "code",
   "execution_count": null,
   "id": "a78e509a",
   "metadata": {},
   "outputs": [],
   "source": []
  },
  {
   "cell_type": "code",
   "execution_count": null,
   "id": "46d8cad9",
   "metadata": {},
   "outputs": [],
   "source": []
  },
  {
   "cell_type": "code",
   "execution_count": null,
   "id": "9d426e06",
   "metadata": {},
   "outputs": [],
   "source": []
  },
  {
   "cell_type": "code",
   "execution_count": 28,
   "id": "0103de4b",
   "metadata": {},
   "outputs": [],
   "source": [
    "# for i in 1:ncty\n",
    "#     for k in 1:nproc\n",
    "#         if MEO[i,k] > 0.1 || MEO[i,k] < -0.1\n",
    "#             MEO[i,k] = 0\n",
    "#         else\n",
    "#             MEO[i,k] = 1\n",
    "#         end\n",
    "#     end\n",
    "# end"
   ]
  },
  {
   "cell_type": "markdown",
   "id": "9e5b1f4e",
   "metadata": {},
   "source": [
    "----"
   ]
  },
  {
   "cell_type": "code",
   "execution_count": 128,
   "id": "c78a7d84",
   "metadata": {},
   "outputs": [
    {
     "name": "stdout",
     "output_type": "stream",
     "text": [
      "Academic license - for non-commercial use only - expires 2024-12-26\r\n"
     ]
    }
   ],
   "source": [
    "model = Model(Gurobi.Optimizer)\n",
    "set_optimizer_attributes(model, \"NonConvex\" => 2, \"IntegralityFocus\" => 1)\n",
    "\n",
    "@variable(model, x[1:ncty, 1:nproc] >= 0)\n",
    "@variable(model, y[1:ncty, 1:ncty, 1:nproc] >= 0)\n",
    "@variable(model, 0<=obj<=1)\n",
    "\n",
    "@variable(model, z[1:ncty, 1:nproc], Bin)\n",
    "@variable(model, r[1:ncty, 1:nproc], Bin)\n",
    "@variable(model, t[1:ncty, 1:nproc], Bin);"
   ]
  },
  {
   "cell_type": "code",
   "execution_count": 129,
   "id": "85e78e35",
   "metadata": {},
   "outputs": [],
   "source": [
    "x_cth = [@constraint(model, sum(x[i,k] for i in 1:ncty) >= sum(x[i,5] for i in 1:ncty) * scaler[k]) for k in cathode]\n",
    "x_cell = [@constraint(model, sum(x[i,k] for i in 1:ncty) >= sum(x[i,11] for i in 1:ncty) * scaler[k]) for k in cell]\n",
    "x_noncell = [@constraint(model, sum(x[i,k] for i in 1:ncty) >= sum(x[i,14] for i in 1:ncty) * scaler[k]) for k in noncell]\n",
    "x_battery = [@constraint(model, sum(x[i,k] for i in 1:ncty) >= sum(x[i,15] for i in 1:ncty) * scaler[k]) for k in battery];\n",
    "\n",
    "cstr_cap = [@constraint(model, x[i,k] <= capacity[!, 2:end][i,k]) for k in 1:nproc for i in 1:ncty]\n",
    "cstr_op = [@constraint(model, sum(y[i,j,k] for j in 1:ncty) <= x[i,k]) for k in 1:nproc for i in 1:ncty]\n",
    "cstr_cth = [@constraint(model, sum(y[i,j,k] for i in 1:ncty) >= x[j,5]*scaler[k]) for k in cathode for j in 1:ncty]\n",
    "cstr_cell = [@constraint(model, sum(y[i,j,k] for i in 1:ncty) >= x[j,11]*scaler[k]) for k in cell for j in 1:ncty]\n",
    "cstr_noncell = [@constraint(model, sum(y[i,j,k] for i in 1:ncty) >= x[j,14]*scaler[k]) for k in noncell for j in 1:ncty]\n",
    "cstr_battery = [@constraint(model, sum(y[i,j,k] for i in 1:ncty) >= x[j,15]*scaler[k]) for k in battery for j in 1:ncty]\n",
    "\n",
    "@constraint(model, sum(y[i,mkt_loc,mkt_proc] for i in 1:ncty) >= cell_demand)\n",
    "tmp = filter!(e->e!=mkt_loc,collect(1:ncty))\n",
    "for j in tmp\n",
    "    @constraint(model, sum(y[i,j,mkt_proc] for i in 1:ncty) == 0);\n",
    "end"
   ]
  },
  {
   "cell_type": "code",
   "execution_count": 130,
   "id": "776bcf8c",
   "metadata": {},
   "outputs": [],
   "source": [
    "proD = x .* Matrix(regional_EF[:,2:end])\n",
    "pro_sink = zeros(ncty, nproc)\n",
    "for k in 1:nproc\n",
    "    for i in 1:ncty\n",
    "        pro_sink[i,k] = regional_EF[i, k+1] * (sink_c[i]/emission_c[i] + es_ratio)\n",
    "    end\n",
    "end\n",
    "proS = x .* pro_sink\n",
    "\n",
    "transD = Matrix{AffExpr}(undef, ncty, nproc)\n",
    "for k in 1:nproc\n",
    "    for i in 1:ncty\n",
    "        emi = 0\n",
    "        for j in 1:ncty\n",
    "            emi += y[i,j,k] * distance[!, 2:end][i,j] * EF_trans  #PRODUCER\n",
    "        end\n",
    "        transD[i,k] = emi\n",
    "    end\n",
    "end"
   ]
  },
  {
   "cell_type": "code",
   "execution_count": 131,
   "id": "0c9d81ee",
   "metadata": {},
   "outputs": [
    {
     "data": {
      "text/plain": [
       "0.0001"
      ]
     },
     "execution_count": 131,
     "metadata": {},
     "output_type": "execute_result"
    }
   ],
   "source": [
    "slack = 1e-4"
   ]
  },
  {
   "cell_type": "code",
   "execution_count": 132,
   "id": "2fc1dbbc",
   "metadata": {},
   "outputs": [],
   "source": [
    "Allo_Dsoc = (proD*ones(nproc,1)) .* (Dsoc./emission_c)\n",
    "SS = transD*ones(nproc,1) + proD*ones(nproc,1) - Allo_Dsoc\n",
    "cstr_soc = [@constraint(model, SS[i] >= slack) for i in 1:ncty];"
   ]
  },
  {
   "cell_type": "code",
   "execution_count": 133,
   "id": "262b43b3",
   "metadata": {},
   "outputs": [],
   "source": [
    "EO = proD - proS + transD;"
   ]
  },
  {
   "cell_type": "code",
   "execution_count": 134,
   "id": "627088fb",
   "metadata": {},
   "outputs": [],
   "source": [
    "for i in 1:ncty\n",
    "    for k in 1:nproc\n",
    "        @constraint(model, z[i,k] => {EO[i,k] == 0})\n",
    "        @constraint(model, r[i,k] => {EO[i,k] + slack <= 0})\n",
    "        @constraint(model, t[i,k] => {EO[i,k] - slack >= 0})\n",
    "        @constraint(model, z[i,k] + r[i,k] + t[i,k] == 1)\n",
    "    end\n",
    "end"
   ]
  },
  {
   "cell_type": "code",
   "execution_count": 135,
   "id": "8e69a453",
   "metadata": {},
   "outputs": [
    {
     "data": {
      "text/latex": [
       "$$ obj $$"
      ],
      "text/plain": [
       "obj"
      ]
     },
     "execution_count": 135,
     "metadata": {},
     "output_type": "execute_result"
    }
   ],
   "source": [
    "@constraint(model, obj*(sum(r) + sum(t)) == sum(t))\n",
    "@objective(model, Min, obj)"
   ]
  },
  {
   "cell_type": "code",
   "execution_count": null,
   "id": "66a7331b",
   "metadata": {},
   "outputs": [],
   "source": [
    "JuMP.optimize!(model)"
   ]
  },
  {
   "cell_type": "code",
   "execution_count": 127,
   "id": "e97e2105",
   "metadata": {},
   "outputs": [
    {
     "data": {
      "text/plain": [
       "31×15 Matrix{Float64}:\n",
       " 0.0  0.0  0.0  0.0  0.0  0.0  0.0  0.0  0.0  0.0  0.0  0.0  0.0  0.0  0.0\n",
       " 0.0  0.0  0.0  0.0  0.0  0.0  0.0  0.0  0.0  0.0  0.0  0.0  0.0  0.0  0.0\n",
       " 0.0  0.0  0.0  0.0  0.0  0.0  0.0  0.0  0.0  0.0  0.0  0.0  0.0  0.0  0.0\n",
       " 0.0  0.0  0.0  0.0  0.0  0.0  0.0  0.0  0.0  0.0  0.0  0.0  0.0  0.0  0.0\n",
       " 0.0  0.0  0.0  0.0  0.0  0.0  0.0  0.0  0.0  0.0  0.0  0.0  0.0  0.0  0.0\n",
       " 0.0  0.0  0.0  0.0  0.0  0.0  0.0  0.0  0.0  0.0  0.0  0.0  0.0  0.0  0.0\n",
       " 0.0  0.0  0.0  0.0  0.0  0.0  0.0  0.0  0.0  0.0  0.0  0.0  0.0  0.0  0.0\n",
       " 0.0  0.0  0.0  0.0  0.0  0.0  0.0  0.0  0.0  0.0  0.0  0.0  0.0  0.0  0.0\n",
       " 0.0  0.0  0.0  0.0  0.0  0.0  0.0  0.0  0.0  0.0  0.0  0.0  0.0  0.0  0.0\n",
       " 0.0  0.0  0.0  0.0  0.0  0.0  0.0  0.0  0.0  0.0  0.0  0.0  0.0  0.0  0.0\n",
       " 0.0  0.0  0.0  0.0  0.0  0.0  0.0  0.0  0.0  0.0  0.0  0.0  0.0  0.0  0.0\n",
       " 0.0  0.0  0.0  0.0  0.0  0.0  0.0  0.0  0.0  0.0  0.0  0.0  0.0  0.0  0.0\n",
       " 0.0  0.0  0.0  0.0  0.0  0.0  0.0  0.0  0.0  0.0  0.0  0.0  0.0  0.0  0.0\n",
       " ⋮                        ⋮                        ⋮                   \n",
       " 0.0  0.0  0.0  0.0  0.0  0.0  0.0  0.0  0.0  0.0  0.0  0.0  0.0  0.0  0.0\n",
       " 0.0  0.0  0.0  0.0  0.0  0.0  0.0  0.0  0.0  0.0  0.0  0.0  0.0  0.0  0.0\n",
       " 0.0  0.0  0.0  0.0  0.0  0.0  0.0  0.0  0.0  0.0  0.0  0.0  0.0  0.0  0.0\n",
       " 0.0  0.0  0.0  0.0  0.0  0.0  0.0  0.0  0.0  0.0  0.0  0.0  0.0  0.0  0.0\n",
       " 0.0  0.0  0.0  0.0  0.0  0.0  0.0  0.0  0.0  0.0  0.0  0.0  0.0  0.0  0.0\n",
       " 0.0  0.0  0.0  0.0  0.0  0.0  0.0  0.0  0.0  0.0  0.0  0.0  0.0  0.0  0.0\n",
       " 0.0  0.0  0.0  0.0  0.0  0.0  0.0  0.0  0.0  0.0  0.0  0.0  0.0  0.0  0.0\n",
       " 0.0  0.0  0.0  0.0  0.0  0.0  0.0  0.0  0.0  0.0  0.0  0.0  0.0  0.0  0.0\n",
       " 0.0  0.0  0.0  0.0  0.0  0.0  0.0  0.0  0.0  0.0  0.0  0.0  0.0  0.0  0.0\n",
       " 0.0  0.0  0.0  0.0  0.0  0.0  0.0  0.0  0.0  0.0  0.0  0.0  0.0  0.0  0.0\n",
       " 0.0  0.0  0.0  0.0  0.0  0.0  0.0  0.0  0.0  0.0  0.0  0.0  0.0  0.0  0.0\n",
       " 0.0  0.0  0.0  0.0  0.0  0.0  0.0  0.0  0.0  0.0  0.0  0.0  0.0  0.0  0.0"
      ]
     },
     "execution_count": 127,
     "metadata": {},
     "output_type": "execute_result"
    }
   ],
   "source": [
    "JuMP.value.(z)"
   ]
  },
  {
   "cell_type": "code",
   "execution_count": null,
   "id": "92e3ddcd",
   "metadata": {},
   "outputs": [],
   "source": []
  },
  {
   "cell_type": "code",
   "execution_count": null,
   "id": "ccd68d81",
   "metadata": {},
   "outputs": [],
   "source": []
  },
  {
   "cell_type": "code",
   "execution_count": 116,
   "id": "954a504e",
   "metadata": {},
   "outputs": [
    {
     "name": "stdout",
     "output_type": "stream",
     "text": [
      "Academic license - for non-commercial use only - expires 2024-12-26\r\n"
     ]
    },
    {
     "data": {
      "text/latex": [
       "$$ z => {x + y \\leq 2.0} $$"
      ],
      "text/plain": [
       "z => {x + y <= 2.0}"
      ]
     },
     "execution_count": 116,
     "metadata": {},
     "output_type": "execute_result"
    }
   ],
   "source": [
    "model = Model(Gurobi.Optimizer)\n",
    "@variable(model, x)\n",
    "@variable(model, y)\n",
    "@variable(model, z, Bin)\n",
    "@constraint(model, z => {x + y <= 2})\n"
   ]
  },
  {
   "cell_type": "code",
   "execution_count": null,
   "id": "c7c17d85",
   "metadata": {},
   "outputs": [],
   "source": []
  }
 ],
 "metadata": {
  "@webio": {
   "lastCommId": null,
   "lastKernelId": null
  },
  "kernelspec": {
   "display_name": "Julia 1.8.3",
   "language": "julia",
   "name": "julia-1.8"
  },
  "language_info": {
   "file_extension": ".jl",
   "mimetype": "application/julia",
   "name": "julia",
   "version": "1.8.3"
  }
 },
 "nbformat": 4,
 "nbformat_minor": 5
}
