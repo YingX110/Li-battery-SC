{
 "cells": [
  {
   "cell_type": "code",
   "execution_count": 132,
   "id": "5edf3ebd",
   "metadata": {},
   "outputs": [],
   "source": [
    "using JuMP, Gurobi\n",
    "using CSV, LinearAlgebra, DataFrames\n",
    "using Plots\n",
    "using DelimitedFiles\n",
    "using Random"
   ]
  },
  {
   "cell_type": "code",
   "execution_count": 1,
   "id": "04c3d8be",
   "metadata": {},
   "outputs": [],
   "source": [
    "path = \"C:/Users/bourg/.julia/environments/batterySC/Li-battery-SC/src/deterministic/data/\";"
   ]
  },
  {
   "cell_type": "code",
   "execution_count": 134,
   "id": "93d2a5ce",
   "metadata": {},
   "outputs": [],
   "source": [
    "#load social and ecological data and orgnize \n",
    "FL = repeat([Float64], inner=15)\n",
    "dtype = append!([String], FL);\n",
    "\n",
    "regional_EF = CSV.File(string(path,\"EF_SC.csv\"),header=1,delim=\",\", types=dtype) |> DataFrame    \n",
    "capacity = CSV.File(string(path,\"capacity30_.csv\"),header=1,delim=\",\", types=dtype) |> DataFrame    \n",
    "distance = CSV.File(string(path,\"distance30.csv\"),header=1,delim=\",\") |> DataFrame \n",
    "LCA_model = CSV.File(string(path,\"LCA_model.csv\"),header=1,delim=\",\") |> DataFrame \n",
    "D_Dsoc = CSV.File(string(path,\"D_Dsoc.csv\"),header=1,delim=\",\") |> DataFrame\n",
    "emi_sink = CSV.File(string(path,\"emission_sink.csv\"),header=1,delim=\",\") |> DataFrame;"
   ]
  },
  {
   "cell_type": "code",
   "execution_count": 135,
   "id": "5118b2b5",
   "metadata": {},
   "outputs": [],
   "source": [
    "global_sink = 1.099e10                        # global pub (ocean) CO2 sequestration (ton/yr)\n",
    "global_sink_tot = 2.236e10                  # global total (ocean+land) CO2 sequestration (ton/yr)\n",
    "global_emi = 3.53e10                          # global CO2 emission (ton/yr)\n",
    "global_gdp = 96882e9                          # 2021 global GDP ($/yr)\n",
    "es_ratio = global_sink/global_emi\n",
    "es_ratio_tot = global_sink_tot/global_emi\n",
    "\n",
    "emission_c = emi_sink[!, \"emission\"]          # national CO2 emission (ton/yr)\n",
    "sink_c = emi_sink[!, \"sink ton/yr\"] .* 0.6          # national CO2 sink (ton/yr)\n",
    "Dsoc = D_Dsoc[!, \"Dsoc ton/yr\"]           # national CO2 sink (ton/yr)\n",
    "\n",
    "EF_trans = 1.005/10000                        # ton CO2/km*ton (The average freight truck in the U.S. emits 161.8 grams of CO2 per ton-mile)\n",
    "# EF_trans = 86/1000000                          #5-LH trucks emit on average 56.6 gCO2/tkm while 5-RD emit 84.0 gCO2/tkm\n",
    "process = LCA_model[!,\"process\"]\n",
    "countries = capacity[!,\"country\"]\n",
    "ncty = size(countries,1)                          # No. of countries\n",
    "nproc = size(process,1);                          # No. of processes \n",
    "\n",
    "mkt_loc = findfirst(isequal(\"United States\"), countries)\n",
    "mkt_proc = findfirst(isequal(\"battery\"), process)\n",
    "\n",
    "# seperate model\n",
    "cathode = collect(1:4)\n",
    "cell = collect(5:10)\n",
    "noncell = [12,13]\n",
    "battery = [11,14]\n",
    "scaler = LCA_model[!,\"scaler\"]\n",
    "penalty = 5; # ton/yr;"
   ]
  },
  {
   "cell_type": "code",
   "execution_count": 564,
   "id": "6d939fc8",
   "metadata": {},
   "outputs": [
    {
     "data": {
      "text/plain": [
       "1-element Vector{Float64}:\n",
       " 451715.24"
      ]
     },
     "execution_count": 564,
     "metadata": {},
     "output_type": "execute_result"
    }
   ],
   "source": [
    "Omega = ones(Float64, ncty, num_omega, nproc);  # Omega[ncty,nscena,nproc]\n",
    "scen_dmd = [0.001*164.98*(1.369*1e6)*2]"
   ]
  },
  {
   "cell_type": "code",
   "execution_count": null,
   "id": "f7a50c44",
   "metadata": {},
   "outputs": [],
   "source": []
  },
  {
   "cell_type": "markdown",
   "id": "103e72e2",
   "metadata": {},
   "source": [
    "---"
   ]
  },
  {
   "cell_type": "code",
   "execution_count": 567,
   "id": "63361622",
   "metadata": {},
   "outputs": [],
   "source": [
    "sink_ratio = zeros(ncty, nproc)\n",
    "for k in 1:nproc\n",
    "    for i in 1:ncty\n",
    "        sink_ratio[i,k] = regional_EF[i, k+1] * (sink_c[i]/emission_c[i])\n",
    "    end\n",
    "end"
   ]
  },
  {
   "cell_type": "code",
   "execution_count": 568,
   "id": "f6957afe",
   "metadata": {},
   "outputs": [
    {
     "data": {
      "text/plain": [
       "30×15 Matrix{Float64}:\n",
       "  1.253       23.6117       1.64897      …  0.103061     3.62339\n",
       "  1.06242     20.1726       1.42541         0.084108     3.26693\n",
       "  2.91722     54.2602       3.73934         0.251941     7.67758\n",
       "  2.86595     52.8343       3.62224         0.252098     7.19141\n",
       " 11.9687     228.882       16.2537          0.935821    37.8761\n",
       "  0.103673     1.95778      0.137045     …  0.00845406   0.304346\n",
       "  2.00093     37.3624       2.59412         0.16822      5.51583\n",
       "  2.05865     33.5718       1.96628         0.501466     0.659824\n",
       "  2.11562     39.2694       2.70491         0.183547     5.50642\n",
       "  0.699213    12.7714       0.868218        0.0629623    1.65028\n",
       "  0.221656     4.18854      0.293312     …  0.0181529    0.648726\n",
       "  0.0695702    1.33124      0.094376        0.00541736   0.221256\n",
       "  0.647481    12.4196       0.885065        0.0496054    2.10692\n",
       "  ⋮                                      ⋱              \n",
       "  3.4848      60.9933       3.95068         0.354071     5.59059\n",
       "  1.64527     31.0764       2.18192         0.134163     4.83694\n",
       "  1.0023      19.4571       1.4001       …  0.0741       3.4554\n",
       "  0.444027     8.38717      0.588241        0.0360535    1.31121\n",
       "  0.45913      8.51687      0.586435        0.0396522    1.2\n",
       "  0.00048      0.00932702   0.000674198     3.48092e-5   0.0016855\n",
       "  0.133157     2.55118      0.181528        0.0103265    0.426646\n",
       "  0.103871     1.98953      0.141719     …  0.00799009   0.335163\n",
       "  0.0945652    1.7841       0.124728        0.00774457   0.275951\n",
       "  0.710669    13.0514       0.88581         0.0639939    1.70089\n",
       "  0.0137143    0.260686     0.0184          0.00108571   0.0422857\n",
       "  0.47         8.9          0.626           0.038        1.404"
      ]
     },
     "execution_count": 568,
     "metadata": {},
     "output_type": "execute_result"
    }
   ],
   "source": [
    "sink_ratio"
   ]
  },
  {
   "cell_type": "code",
   "execution_count": null,
   "id": "b2874b5b",
   "metadata": {},
   "outputs": [],
   "source": []
  },
  {
   "cell_type": "markdown",
   "id": "05bf1f75",
   "metadata": {},
   "source": [
    "---"
   ]
  },
  {
   "cell_type": "markdown",
   "id": "3573e90d",
   "metadata": {},
   "source": [
    "### Solve Subproblem - Get Dual $\\pi$ & $\\alpha$"
   ]
  },
  {
   "cell_type": "code",
   "execution_count": 653,
   "id": "dbc0c755",
   "metadata": {},
   "outputs": [
    {
     "data": {
      "text/plain": [
       "masterprob (generic function with 1 method)"
      ]
     },
     "execution_count": 653,
     "metadata": {},
     "output_type": "execute_result"
    }
   ],
   "source": [
    "function masterprob(cuts)\n",
    "    model = Model(Gurobi.Optimizer)\n",
    "#     set_silent(model)\n",
    "    @variable(model, x[1:ncty, 1:nproc] >= 0)\n",
    "    @variable(model, theta >= M)\n",
    "    \n",
    "    for k in 1:nproc\n",
    "        for i in 1:ncty\n",
    "            @constraint(model, x[i,k] <= 0.8*capacity[!, 2:end][i,k])\n",
    "        end\n",
    "    end\n",
    "\n",
    "    x_cth = [@constraint(model, sum(x[i,k] for i in 1:ncty) == sum(x[i,5] for i in 1:ncty) * scaler[k]) for k in cathode]\n",
    "    x_cell = [@constraint(model, sum(x[i,k] for i in 1:ncty) == sum(x[i,11] for i in 1:ncty) * scaler[k]) for k in cell]\n",
    "    x_noncell = [@constraint(model, sum(x[i,k] for i in 1:ncty) == sum(x[i,14] for i in 1:ncty) * scaler[k]) for k in noncell]\n",
    "    x_battery = [@constraint(model, sum(x[i,k] for i in 1:ncty) == sum(x[i,15] for i in 1:ncty) * scaler[k]) for k in battery];\n",
    "    \n",
    "\n",
    "    ###########\n",
    "    proD = (x .* Matrix(regional_EF[:,2:end])) * ones(nproc,1) \n",
    "    \n",
    "    \n",
    "    G = 0\n",
    "    g = 0\n",
    "    if cuts != []\n",
    "        for cut in cuts\n",
    "            G = cut[\"gradient\"]\n",
    "            g = cut[\"intersection\"]\n",
    "            @constraint(model, theta >= sum(x .* G) + g); \n",
    "        end\n",
    "    end\n",
    "    \n",
    "    \n",
    "    @objective(model, Min, sum(proD)+theta)\n",
    "    JuMP.optimize!(model);\n",
    "    \n",
    "    x_hat = JuMP.value.(x)\n",
    "    theta_hat = JuMP.value.(theta)\n",
    "    z_lb = JuMP.objective_value(model)\n",
    "    \n",
    "    result = Dict([\"x_hat\"=>x_hat, \"z_lb\"=>z_lb])\n",
    "    return result\n",
    "\n",
    "end"
   ]
  },
  {
   "cell_type": "code",
   "execution_count": 654,
   "id": "551a9acc",
   "metadata": {},
   "outputs": [
    {
     "data": {
      "text/plain": [
       "subprob (generic function with 1 method)"
      ]
     },
     "execution_count": 654,
     "metadata": {},
     "output_type": "execute_result"
    }
   ],
   "source": [
    "function subprob(x_hat, s) # s represents specific scenario     \n",
    "    \n",
    "    model = Model(Gurobi.Optimizer)\n",
    "#     set_silent(model)\n",
    "    @variable(model, y[1:ncty, 1:ncty, 1:nproc] >= 0)\n",
    "    @variable(model, unmeet)\n",
    "\n",
    "    cstr_op = [@constraint(model, sum(y[i,j,k] for j in 1:ncty) == Omega[i,s,k] * x_hat[i,k]) for k in 1:nproc for i in 1:ncty]\n",
    "    cstr_cth = [@constraint(model, sum(y[i,j,k] for i in 1:ncty) == Omega[j,s,k] * x_hat[j,5] * scaler[k]) for k in cathode for j in 1:ncty]\n",
    "    cstr_cell = [@constraint(model, sum(y[i,j,k] for i in 1:ncty) == Omega[j,s,k] * x_hat[j,11] * scaler[k]) for k in cell for j in 1:ncty]\n",
    "    cstr_noncell = [@constraint(model, sum(y[i,j,k] for i in 1:ncty) == Omega[j,s,k] * x_hat[j,14] * scaler[k]) for k in noncell for j in 1:ncty]\n",
    "    cstr_battery = [@constraint(model, sum(y[i,j,k] for i in 1:ncty) == Omega[j,s,k] * x_hat[j,15] * scaler[k]) for k in battery for j in 1:ncty] \n",
    "    \n",
    "# #     cstr_fmk = [@constraint(model, sum(y[i,mkt_loc,mkt_proc] for i in 1:ncty) + unmeet == scen_dmd[s])]\n",
    "#     cstr_fmk = [@constraint(model, sum(y[i,j,mkt_proc] for i in 1:ncty for j in 1:ncty) + unmeet == scen_dmd[s])]\n",
    "#     tmp = filter!(e->e!=mkt_loc,collect(1:ncty))\n",
    "#     cstr_fmko = [@constraint(model, y[i,j,mkt_proc] == 0) for i in 1:ncty for j in tmp]\n",
    "    cstr_fmk = [@constraint(model, sum(y[i,j,14] for i in 1:ncty for j in 1:ncty) + unmeet == scen_dmd[s])] \n",
    "    \n",
    "    \n",
    "    transD = Vector{AffExpr}(undef, ncty)\n",
    "    for j in 1:ncty\n",
    "        arc_emi = 0\n",
    "        for i in 1:ncty\n",
    "            amount = sum(y[i,j,k] for k in 1:nproc)\n",
    "            arc_emi += amount * distance[!, 2:end][i,j] * EF_trans\n",
    "        end\n",
    "        transD[j] = arc_emi  # ncty*1 matrix\n",
    "    end\n",
    "    \n",
    "    \n",
    "    pro_sink = zeros(AffExpr, ncty, nproc)\n",
    "    sink_ratio = zeros(ncty, nproc)\n",
    "    for k in 1:nproc\n",
    "        for i in 1:ncty\n",
    "            sink_ratio[i,k] = regional_EF[i, k+1] * (sink_c[i]/emission_c[i])\n",
    "            pro_sink[i,k] = (sum(y[i,j,k] for j in 1:ncty)) * regional_EF[i, k+1] * (sink_c[i]/emission_c[i])\n",
    "        end\n",
    "    end\n",
    "    proS = sum(pro_sink)\n",
    "    \n",
    "    \n",
    "    overprod_penalty = sum((x_hat - sum(y, dims=2)[:,1,:]) .* sink_ratio)\n",
    "    \n",
    "    ############### Obj function ##############\n",
    "    @objective(model, Min, sum(transD) + unmeet*penalty - proS)\n",
    "    JuMP.optimize!(model)\n",
    "    \n",
    "    qy_hat = JuMP.objective_value(model)\n",
    "    sub_y = JuMP.value.(y)\n",
    "    sub_unmeet = JuMP.value.(unmeet)\n",
    "    \n",
    "    \n",
    "    ################## get dual and calculate cuts ################\n",
    "    dual_pi = zeros(ncty,nproc)\n",
    "\n",
    "    op_pi = [getdual(con) for con in cstr_op]\n",
    "    cth_pi = [getdual(con) for con in cstr_cth]\n",
    "    cell_pi = [getdual(con) for con in cstr_cell]\n",
    "    noncell_pi = [getdual(con) for con in cstr_noncell]\n",
    "    battery_pi = [getdual(con) for con in cstr_battery]\n",
    "    fmk_alp = [getdual(con) for con in cstr_fmk]\n",
    "\n",
    "\n",
    "    dual_pi[:, cathode] = reshape(cth_pi, ncty, length(cathode)) .* Omega[:,s,cathode] .* repeat(scaler[cathode]', ncty, 1)\n",
    "    dual_pi[:, cell] = reshape(cell_pi, ncty, length(cell)) .* Omega[:,s,cell] .* repeat(scaler[cell]', ncty, 1)\n",
    "    dual_pi[:, noncell] = reshape(noncell_pi, ncty, length(noncell)) .* Omega[:,s,noncell] .* repeat(scaler[noncell]', ncty, 1)\n",
    "    dual_pi[:, battery] = reshape(battery_pi, ncty, length(battery)) .* Omega[:,s,battery] .* repeat(scaler[battery]', ncty, 1)\n",
    "    dual_pi += reshape(op_pi, ncty, nproc) .* Omega[:,s,:]\n",
    "    \n",
    "    dual_alpha = sum(fmk_alp) * scen_dmd[s]\n",
    "\n",
    "    #######################\n",
    "    result = Dict([\"qyhat\"=>qy_hat, \"y_opt\"=>sub_y, \"unmeet_opt\"=>sub_unmeet, \"pi\"=>dual_pi, \"alp\"=>dual_alpha]);\n",
    "    return result\n",
    "    \n",
    "end"
   ]
  },
  {
   "cell_type": "code",
   "execution_count": 655,
   "id": "0a50f159",
   "metadata": {},
   "outputs": [
    {
     "data": {
      "text/plain": [
       "add_cuts (generic function with 1 method)"
      ]
     },
     "execution_count": 655,
     "metadata": {},
     "output_type": "execute_result"
    }
   ],
   "source": [
    "function add_cuts(x)\n",
    "    G = [] # gradient\n",
    "    g = [] # intersection\n",
    "    qy = 0\n",
    "    \n",
    "    \n",
    "    for s in 1:num_omega\n",
    "        res = subprob(x, s)        \n",
    "        push!(G, res[\"pi\"])   # gradient\n",
    "        push!(g, res[\"alp\"])  # intersection\n",
    "        qy += res[\"qyhat\"]\n",
    "    end\n",
    "    \n",
    "    \n",
    "    proD = (x .* Matrix(regional_EF[:,2:end])) * ones(nproc,1) \n",
    "    \n",
    "    \n",
    "    z_hat = sum(proD) + qy/num_omega\n",
    "    Exp_G = sum(G) / num_omega\n",
    "    Exp_g = sum(g) / num_omega\n",
    "    \n",
    "    cut = Dict([\"gradient\"=>Exp_G, \"intersection\"=>Exp_g])\n",
    "    return cut, z_hat\n",
    "\n",
    "end"
   ]
  },
  {
   "cell_type": "code",
   "execution_count": 656,
   "id": "0e44c501",
   "metadata": {},
   "outputs": [
    {
     "data": {
      "text/plain": [
       "main (generic function with 1 method)"
      ]
     },
     "execution_count": 656,
     "metadata": {},
     "output_type": "execute_result"
    }
   ],
   "source": [
    "function main(toler)\n",
    "    i = 0\n",
    "    z_ub = 1e8\n",
    "    x_opt = 0\n",
    "    \n",
    "    \n",
    "    cuts = []\n",
    "    res0 = masterprob(cuts)\n",
    "    x_hat = res0[\"x_hat\"]\n",
    "    z_lb = res0[\"z_lb\"]\n",
    "    \n",
    "    \n",
    "    while (z_ub - z_lb) > toler * min(abs(z_ub), abs(z_lb))\n",
    "        new_cut, z_hat = add_cuts(x_hat)\n",
    "        \n",
    "        if z_hat < z_ub\n",
    "            x_opt = x_hat\n",
    "            z_ub = z_hat\n",
    "        end\n",
    "        \n",
    "        push!(cuts, new_cut)\n",
    "        \n",
    "        res1 = masterprob(cuts)\n",
    "        z_lb = res1[\"z_lb\"]\n",
    "        x_hat = res1[\"x_hat\"]\n",
    "        \n",
    "        i += 1\n",
    "    end\n",
    "    \n",
    "    \n",
    "    result = Dict([\"z_lb\"=>z_lb, \"z_ub\"=>z_ub, \"x_opt\"=>x_opt, \"iteration\"=>i])\n",
    "    return result\n",
    "    \n",
    "end"
   ]
  },
  {
   "cell_type": "markdown",
   "id": "63be656f",
   "metadata": {},
   "source": [
    "-----"
   ]
  },
  {
   "cell_type": "code",
   "execution_count": 657,
   "id": "10d09180",
   "metadata": {},
   "outputs": [
    {
     "data": {
      "text/plain": [
       "0.01"
      ]
     },
     "execution_count": 657,
     "metadata": {},
     "output_type": "execute_result"
    }
   ],
   "source": [
    "M = -20000000\n",
    "toler = 0.01"
   ]
  },
  {
   "cell_type": "code",
   "execution_count": 658,
   "id": "44e3ad18",
   "metadata": {},
   "outputs": [
    {
     "name": "stdout",
     "output_type": "stream",
     "text": [
      "Academic license - for non-commercial use only - expires 2024-12-26\r\n",
      "Gurobi Optimizer version 9.1.2 build v9.1.2rc0 (win64)\r\n",
      "Thread count: 6 physical cores, 12 logical processors, using up to 12 threads\r\n",
      "Optimize a model with 464 rows, 451 columns and 1290 nonzeros\r\n",
      "Model fingerprint: 0x68cbfabe\r\n",
      "Coefficient statistics:\r\n",
      "  Matrix range     [4e-03, 1e+00]\r\n",
      "  Objective range  [2e-01, 5e+01]\r\n",
      "  Bounds range     [2e+07, 2e+07]\r\n",
      "  RHS range        [2e+02, 8e+10]\r\n",
      "Warning: Model contains large rhs\r\n",
      "         Consider reformulating model or setting NumericFocus parameter\r\n",
      "         to avoid numerical issues.\r\n",
      "Presolve removed 464 rows and 451 columns\r\n",
      "Presolve time: 0.00s\r\n",
      "Presolve: All rows and columns removed\r\n",
      "Iteration    Objective       Primal Inf.    Dual Inf.      Time\r\n",
      "       0   -2.0000000e+07   0.000000e+00   0.000000e+00      0s\r\n",
      "\r\n",
      "Solved in 0 iterations and 0.00 seconds\r\n",
      "Optimal objective -2.000000000e+07\r\n",
      "\r\n",
      "User-callback calls 31, time in user-callback 0.00 sec\r\n"
     ]
    },
    {
     "data": {
      "text/plain": [
       "-2.0e7"
      ]
     },
     "execution_count": 658,
     "metadata": {},
     "output_type": "execute_result"
    }
   ],
   "source": [
    "i = 0\n",
    "z_ub = 1e8\n",
    "x_opt = 0\n",
    "\n",
    "\n",
    "cuts = []\n",
    "res0 = masterprob(cuts)\n",
    "x_hat = res0[\"x_hat\"]\n",
    "z_lb = res0[\"z_lb\"]"
   ]
  },
  {
   "cell_type": "code",
   "execution_count": 659,
   "id": "63e9c5be",
   "metadata": {},
   "outputs": [
    {
     "data": {
      "text/plain": [
       "30×15 Matrix{Float64}:\n",
       " 0.0  0.0  0.0  0.0  0.0  0.0  0.0  0.0  0.0  0.0  0.0  0.0  0.0  0.0  0.0\n",
       " 0.0  0.0  0.0  0.0  0.0  0.0  0.0  0.0  0.0  0.0  0.0  0.0  0.0  0.0  0.0\n",
       " 0.0  0.0  0.0  0.0  0.0  0.0  0.0  0.0  0.0  0.0  0.0  0.0  0.0  0.0  0.0\n",
       " 0.0  0.0  0.0  0.0  0.0  0.0  0.0  0.0  0.0  0.0  0.0  0.0  0.0  0.0  0.0\n",
       " 0.0  0.0  0.0  0.0  0.0  0.0  0.0  0.0  0.0  0.0  0.0  0.0  0.0  0.0  0.0\n",
       " 0.0  0.0  0.0  0.0  0.0  0.0  0.0  0.0  0.0  0.0  0.0  0.0  0.0  0.0  0.0\n",
       " 0.0  0.0  0.0  0.0  0.0  0.0  0.0  0.0  0.0  0.0  0.0  0.0  0.0  0.0  0.0\n",
       " 0.0  0.0  0.0  0.0  0.0  0.0  0.0  0.0  0.0  0.0  0.0  0.0  0.0  0.0  0.0\n",
       " 0.0  0.0  0.0  0.0  0.0  0.0  0.0  0.0  0.0  0.0  0.0  0.0  0.0  0.0  0.0\n",
       " 0.0  0.0  0.0  0.0  0.0  0.0  0.0  0.0  0.0  0.0  0.0  0.0  0.0  0.0  0.0\n",
       " 0.0  0.0  0.0  0.0  0.0  0.0  0.0  0.0  0.0  0.0  0.0  0.0  0.0  0.0  0.0\n",
       " 0.0  0.0  0.0  0.0  0.0  0.0  0.0  0.0  0.0  0.0  0.0  0.0  0.0  0.0  0.0\n",
       " 0.0  0.0  0.0  0.0  0.0  0.0  0.0  0.0  0.0  0.0  0.0  0.0  0.0  0.0  0.0\n",
       " ⋮                        ⋮                        ⋮                   \n",
       " 0.0  0.0  0.0  0.0  0.0  0.0  0.0  0.0  0.0  0.0  0.0  0.0  0.0  0.0  0.0\n",
       " 0.0  0.0  0.0  0.0  0.0  0.0  0.0  0.0  0.0  0.0  0.0  0.0  0.0  0.0  0.0\n",
       " 0.0  0.0  0.0  0.0  0.0  0.0  0.0  0.0  0.0  0.0  0.0  0.0  0.0  0.0  0.0\n",
       " 0.0  0.0  0.0  0.0  0.0  0.0  0.0  0.0  0.0  0.0  0.0  0.0  0.0  0.0  0.0\n",
       " 0.0  0.0  0.0  0.0  0.0  0.0  0.0  0.0  0.0  0.0  0.0  0.0  0.0  0.0  0.0\n",
       " 0.0  0.0  0.0  0.0  0.0  0.0  0.0  0.0  0.0  0.0  0.0  0.0  0.0  0.0  0.0\n",
       " 0.0  0.0  0.0  0.0  0.0  0.0  0.0  0.0  0.0  0.0  0.0  0.0  0.0  0.0  0.0\n",
       " 0.0  0.0  0.0  0.0  0.0  0.0  0.0  0.0  0.0  0.0  0.0  0.0  0.0  0.0  0.0\n",
       " 0.0  0.0  0.0  0.0  0.0  0.0  0.0  0.0  0.0  0.0  0.0  0.0  0.0  0.0  0.0\n",
       " 0.0  0.0  0.0  0.0  0.0  0.0  0.0  0.0  0.0  0.0  0.0  0.0  0.0  0.0  0.0\n",
       " 0.0  0.0  0.0  0.0  0.0  0.0  0.0  0.0  0.0  0.0  0.0  0.0  0.0  0.0  0.0\n",
       " 0.0  0.0  0.0  0.0  0.0  0.0  0.0  0.0  0.0  0.0  0.0  0.0  0.0  0.0  0.0"
      ]
     },
     "execution_count": 659,
     "metadata": {},
     "output_type": "execute_result"
    }
   ],
   "source": [
    "x_hat"
   ]
  },
  {
   "cell_type": "code",
   "execution_count": 660,
   "id": "a18be369",
   "metadata": {},
   "outputs": [
    {
     "data": {
      "text/plain": [
       "(-2.0e7, 1.0e8)"
      ]
     },
     "execution_count": 660,
     "metadata": {},
     "output_type": "execute_result"
    }
   ],
   "source": [
    "z_lb, z_ub"
   ]
  },
  {
   "cell_type": "code",
   "execution_count": 661,
   "id": "9ee4ffee",
   "metadata": {},
   "outputs": [
    {
     "data": {
      "text/plain": [
       "1.2e8"
      ]
     },
     "execution_count": 661,
     "metadata": {},
     "output_type": "execute_result"
    }
   ],
   "source": [
    "(z_ub - z_lb)"
   ]
  },
  {
   "cell_type": "code",
   "execution_count": 662,
   "id": "5750cc7c",
   "metadata": {},
   "outputs": [
    {
     "name": "stdout",
     "output_type": "stream",
     "text": [
      "Academic license - for non-commercial use only - expires 2024-12-26\r\n",
      "Gurobi Optimizer version 9.1.2 build v9.1.2rc0 (win64)\r\n",
      "Thread count: 6 physical cores, 12 logical processors, using up to 12 threads\r\n",
      "Optimize a model with 871 rows, 13501 columns and 27001 nonzeros\r\n",
      "Model fingerprint: 0x54783d97\r\n",
      "Coefficient statistics:\r\n",
      "  Matrix range     [1e+00, 1e+00]\r\n",
      "  Objective range  [3e-05, 2e+02]\r\n",
      "  Bounds range     [0e+00, 0e+00]\r\n",
      "  RHS range        [5e+05, 5e+05]\r\n",
      "Presolve removed 871 rows and 13501 columns\r\n",
      "Presolve time: 0.00s\r\n",
      "Presolve: All rows and columns removed\r\n",
      "Iteration    Objective       Primal Inf.    Dual Inf.      Time\r\n",
      "       0    2.2585762e+06   0.000000e+00   0.000000e+00      0s\r\n",
      "\r\n",
      "Solved in 0 iterations and 0.01 seconds\r\n",
      "Optimal objective  2.258576200e+06\r\n",
      "\r\n",
      "User-callback calls 24, time in user-callback 0.00 sec\r\n",
      "Academic license - for non-commercial use only - expires 2024-12-26\r\n",
      "Gurobi Optimizer version 9.1.2 build v9.1.2rc0 (win64)\r\n",
      "Thread count: 6 physical cores, 12 logical processors, using up to 12 threads\r\n",
      "Optimize a model with 465 rows, 451 columns and 1741 nonzeros\r\n",
      "Model fingerprint: 0x04e94dc8\r\n",
      "Coefficient statistics:\r\n",
      "  Matrix range     [4e-04, 2e+02]\r\n",
      "  Objective range  [2e-01, 5e+01]\r\n",
      "  Bounds range     [2e+07, 2e+07]\r\n",
      "  RHS range        [2e+02, 8e+10]\r\n",
      "Warning: Model contains large rhs\r\n",
      "         Consider reformulating model or setting NumericFocus parameter\r\n",
      "         to avoid numerical issues.\r\n",
      "Presolve removed 450 rows and 298 columns\r\n",
      "Presolve time: 0.00s\r\n",
      "Presolved: 15 rows, 153 columns, 400 nonzeros\r\n",
      "\r\n",
      "Iteration    Objective       Primal Inf.    Dual Inf.      Time\r\n",
      "       0   -1.9287524e+07   8.435619e+05   0.000000e+00      0s\r\n",
      "      19   -2.5081214e+05   0.000000e+00   0.000000e+00      0s\r\n",
      "\r\n",
      "Solved in 19 iterations and 0.00 seconds\r\n",
      "Optimal objective -2.508121442e+05\r\n",
      "\r\n",
      "User-callback calls 55, time in user-callback 0.00 sec\r\n"
     ]
    },
    {
     "data": {
      "text/plain": [
       "30×15 Matrix{Float64}:\n",
       "  4960.0       0.0  0.0           0.0  …     0.0   0.0        0.0\n",
       " 46959.8       0.0  0.0           0.0        0.0   0.0        0.0\n",
       "  1760.0       0.0  1.1623e5  53600.0        0.0   0.0        0.0\n",
       "   400.0    2480.0  0.0       65524.5        0.0   0.0        0.0\n",
       " 31200.0       0.0  0.0           0.0        0.0   7.75558e5  0.0\n",
       "     0.0       0.0  0.0           0.0  …     0.0   0.0        0.0\n",
       "     0.0       0.0  0.0           0.0        0.0   0.0        0.0\n",
       "     0.0  116000.0  0.0           0.0        0.0   0.0        0.0\n",
       "     0.0     867.2  0.0           0.0        0.0   0.0        0.0\n",
       "     0.0       0.0  0.0           0.0        0.0   0.0        0.0\n",
       "     0.0       0.0  0.0           0.0  …  3102.23  0.0        0.0\n",
       "     0.0       0.0  0.0           0.0        0.0   0.0        0.0\n",
       "     0.0       0.0  0.0           0.0        0.0   0.0        0.0\n",
       "     ⋮                                 ⋱                      \n",
       "     0.0       0.0  0.0           0.0        0.0   0.0        0.0\n",
       "     0.0       0.0  0.0           0.0        0.0   0.0        0.0\n",
       "     0.0       0.0  0.0           0.0  …     0.0   0.0        0.0\n",
       "     0.0       0.0  0.0           0.0        0.0   0.0        0.0\n",
       "     0.0       0.0  0.0           0.0        0.0   0.0        0.0\n",
       "     0.0       0.0  0.0           0.0        0.0   0.0        0.0\n",
       "     0.0       0.0  0.0           0.0        0.0   0.0        0.0\n",
       "     0.0       0.0  0.0           0.0  …     0.0   0.0        0.0\n",
       "     0.0       0.0  0.0           0.0        0.0   0.0        0.0\n",
       "     0.0       0.0  0.0           0.0        0.0   0.0        0.0\n",
       "     0.0       0.0  0.0           0.0        0.0   0.0        0.0\n",
       "     0.0       0.0  0.0           0.0        0.0   0.0        7.75558e5"
      ]
     },
     "execution_count": 662,
     "metadata": {},
     "output_type": "execute_result"
    }
   ],
   "source": [
    "new_cut, z_hat = add_cuts(x_hat)\n",
    "if z_hat < z_ub\n",
    "    x_opt = x_hat\n",
    "    z_ub = z_hat\n",
    "end\n",
    "\n",
    "push!(cuts, new_cut)\n",
    "res1 = masterprob(cuts)\n",
    "z_lb = res1[\"z_lb\"]\n",
    "x_hat = res1[\"x_hat\"]"
   ]
  },
  {
   "cell_type": "code",
   "execution_count": 640,
   "id": "a980c484",
   "metadata": {},
   "outputs": [
    {
     "data": {
      "text/plain": [
       "(-9.42785727133547e6, 2.2585762e6)"
      ]
     },
     "execution_count": 640,
     "metadata": {},
     "output_type": "execute_result"
    }
   ],
   "source": [
    "z_lb, z_ub"
   ]
  },
  {
   "cell_type": "code",
   "execution_count": 641,
   "id": "608bd280",
   "metadata": {},
   "outputs": [
    {
     "data": {
      "text/plain": [
       "1.168643347133547e7"
      ]
     },
     "execution_count": 641,
     "metadata": {},
     "output_type": "execute_result"
    }
   ],
   "source": [
    "(z_ub - z_lb) "
   ]
  },
  {
   "cell_type": "code",
   "execution_count": 643,
   "id": "bffa004a",
   "metadata": {},
   "outputs": [
    {
     "data": {
      "text/plain": [
       "30×15 Matrix{Float64}:\n",
       "  4960.0      0.0      0.0      0.0  …     0.0   0.0        0.0\n",
       " 20694.4      0.0      0.0      0.0        0.0   0.0        0.0\n",
       "  1760.0      0.0  80432.2  53600.0        0.0   0.0        0.0\n",
       "   400.0   2480.0      0.0  28835.3        0.0   0.0        0.0\n",
       " 31200.0      0.0      0.0      0.0        0.0   5.36693e5  0.0\n",
       "     0.0      0.0      0.0      0.0  …     0.0   0.0        0.0\n",
       "     0.0      0.0      0.0      0.0        0.0   0.0        0.0\n",
       "     0.0  80109.4      0.0      0.0        0.0   0.0        0.0\n",
       "     0.0      0.0      0.0      0.0        0.0   0.0        0.0\n",
       "     0.0      0.0      0.0      0.0        0.0   0.0        0.0\n",
       "     0.0      0.0      0.0      0.0  …  2146.77  0.0        0.0\n",
       "     0.0      0.0      0.0      0.0        0.0   0.0        0.0\n",
       "     0.0      0.0      0.0      0.0        0.0   0.0        0.0\n",
       "     ⋮                               ⋱                      \n",
       "     0.0      0.0      0.0      0.0        0.0   0.0        0.0\n",
       "     0.0      0.0      0.0      0.0        0.0   0.0        0.0\n",
       "     0.0      0.0      0.0      0.0  …     0.0   0.0        0.0\n",
       "     0.0      0.0      0.0      0.0        0.0   0.0        0.0\n",
       "     0.0      0.0      0.0      0.0        0.0   0.0        0.0\n",
       "     0.0      0.0      0.0      0.0        0.0   0.0        0.0\n",
       "     0.0      0.0      0.0      0.0        0.0   0.0        0.0\n",
       "     0.0      0.0      0.0      0.0  …     0.0   0.0        0.0\n",
       "     0.0      0.0      0.0      0.0        0.0   0.0        0.0\n",
       "     0.0      0.0      0.0      0.0        0.0   0.0        0.0\n",
       "     0.0      0.0      0.0      0.0        0.0   0.0        0.0\n",
       "     0.0      0.0      0.0      0.0        0.0   0.0        5.36693e5"
      ]
     },
     "execution_count": 643,
     "metadata": {},
     "output_type": "execute_result"
    }
   ],
   "source": [
    "x_hat"
   ]
  },
  {
   "cell_type": "code",
   "execution_count": 644,
   "id": "c3804cba",
   "metadata": {},
   "outputs": [
    {
     "data": {
      "text/plain": [
       "1"
      ]
     },
     "execution_count": 644,
     "metadata": {},
     "output_type": "execute_result"
    }
   ],
   "source": [
    "s "
   ]
  },
  {
   "cell_type": "code",
   "execution_count": 649,
   "id": "3faa16b5",
   "metadata": {},
   "outputs": [
    {
     "name": "stdout",
     "output_type": "stream",
     "text": [
      "Academic license - for non-commercial use only - expires 2024-12-26\r\n",
      "Gurobi Optimizer version 9.1.2 build v9.1.2rc0 (win64)\r\n",
      "Thread count: 6 physical cores, 12 logical processors, using up to 12 threads\r\n",
      "Optimize a model with 871 rows, 13501 columns and 27001 nonzeros\r\n",
      "Model fingerprint: 0xce0462ac\r\n",
      "Coefficient statistics:\r\n",
      "  Matrix range     [1e+00, 1e+00]\r\n",
      "  Objective range  [7e-05, 5e+02]\r\n",
      "  Bounds range     [0e+00, 0e+00]\r\n",
      "  RHS range        [5e+05, 5e+05]\r\n",
      "Presolve removed 871 rows and 13501 columns\r\n",
      "Presolve time: 0.00s\r\n",
      "Presolve: All rows and columns removed\r\n",
      "Iteration    Objective       Primal Inf.    Dual Inf.      Time\r\n",
      "       0    2.2585762e+06   0.000000e+00   0.000000e+00      0s\r\n",
      "\r\n",
      "Solved in 0 iterations and 0.01 seconds\r\n",
      "Optimal objective  2.258576200e+06\r\n",
      "\r\n",
      "User-callback calls 25, time in user-callback 0.00 sec\r\n"
     ]
    },
    {
     "data": {
      "text/plain": [
       "451715.24"
      ]
     },
     "execution_count": 649,
     "metadata": {},
     "output_type": "execute_result"
    }
   ],
   "source": [
    "model = Model(Gurobi.Optimizer)\n",
    "#     set_silent(model)\n",
    "@variable(model, y[1:ncty, 1:ncty, 1:nproc] >= 0)\n",
    "@variable(model, unmeet >= 0)\n",
    "\n",
    "cstr_op = [@constraint(model, sum(y[i,j,k] for j in 1:ncty) == Omega[i,s,k] * x_hat[i,k]) for k in 1:nproc for i in 1:ncty]\n",
    "cstr_cth = [@constraint(model, sum(y[i,j,k] for i in 1:ncty) == Omega[j,s,k] * x_hat[j,5] * scaler[k]) for k in cathode for j in 1:ncty]\n",
    "cstr_cell = [@constraint(model, sum(y[i,j,k] for i in 1:ncty) == Omega[j,s,k] * x_hat[j,11] * scaler[k]) for k in cell for j in 1:ncty]\n",
    "cstr_noncell = [@constraint(model, sum(y[i,j,k] for i in 1:ncty) == Omega[j,s,k] * x_hat[j,14] * scaler[k]) for k in noncell for j in 1:ncty]\n",
    "cstr_battery = [@constraint(model, sum(y[i,j,k] for i in 1:ncty) == Omega[j,s,k] * x_hat[j,15] * scaler[k]) for k in battery for j in 1:ncty] \n",
    "cstr_fmk = [@constraint(model, sum(y[i,j,14] for i in 1:ncty for j in 1:ncty) + unmeet == scen_dmd[s])] \n",
    "\n",
    "\n",
    "transD = Vector{AffExpr}(undef, ncty)\n",
    "for j in 1:ncty\n",
    "    arc_emi = 0\n",
    "    for i in 1:ncty\n",
    "        amount = sum(y[i,j,k] for k in 1:nproc)\n",
    "        arc_emi += amount * distance[!, 2:end][i,j] * EF_trans\n",
    "    end\n",
    "    transD[j] = arc_emi  # ncty*1 matrix\n",
    "end\n",
    "\n",
    "\n",
    "pro_sink = zeros(AffExpr, ncty, nproc)\n",
    "sink_ratio = zeros(ncty, nproc)\n",
    "for k in 1:nproc\n",
    "    for i in 1:ncty\n",
    "        sink_ratio[i,k] = regional_EF[i, k+1] * (sink_c[i]/emission_c[i])\n",
    "        pro_sink[i,k] = (sum(y[i,j,k] for j in 1:ncty)) * regional_EF[i, k+1] * (sink_c[i]/emission_c[i])\n",
    "    end\n",
    "end\n",
    "proS = sum(pro_sink)\n",
    "\n",
    "\n",
    "# overprod_penalty = sum((x_hat - sum(y, dims=2)[:,1,:]) .* sink_ratio)\n",
    "\n",
    "\n",
    "@objective(model, Min, sum(transD) + unmeet*penalty - proS + overprod_penalty)\n",
    "JuMP.optimize!(model)\n",
    "\n",
    "qy_hat = JuMP.objective_value(model)\n",
    "sub_y = JuMP.value.(y)\n",
    "sub_unmeet = JuMP.value.(unmeet)"
   ]
  },
  {
   "cell_type": "code",
   "execution_count": 652,
   "id": "8c3070f4",
   "metadata": {},
   "outputs": [
    {
     "data": {
      "text/plain": [
       "451715.24"
      ]
     },
     "execution_count": 652,
     "metadata": {},
     "output_type": "execute_result"
    }
   ],
   "source": [
    "sub_unmeet"
   ]
  },
  {
   "cell_type": "code",
   "execution_count": null,
   "id": "5d011b65",
   "metadata": {},
   "outputs": [],
   "source": []
  },
  {
   "cell_type": "code",
   "execution_count": null,
   "id": "a2be5adb",
   "metadata": {},
   "outputs": [],
   "source": []
  },
  {
   "cell_type": "code",
   "execution_count": null,
   "id": "c7132153",
   "metadata": {},
   "outputs": [],
   "source": []
  }
 ],
 "metadata": {
  "@webio": {
   "lastCommId": null,
   "lastKernelId": null
  },
  "kernelspec": {
   "display_name": "Julia 1.8.3",
   "language": "julia",
   "name": "julia-1.8"
  },
  "language_info": {
   "file_extension": ".jl",
   "mimetype": "application/julia",
   "name": "julia",
   "version": "1.8.3"
  }
 },
 "nbformat": 4,
 "nbformat_minor": 5
}
