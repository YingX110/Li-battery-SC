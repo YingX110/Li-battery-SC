{
 "cells": [
  {
   "cell_type": "code",
   "execution_count": 1,
   "id": "5edf3ebd",
   "metadata": {},
   "outputs": [],
   "source": [
    "using JuMP, Gurobi\n",
    "using CSV, LinearAlgebra, DataFrames\n",
    "using Plots\n",
    "using DelimitedFiles"
   ]
  },
  {
   "cell_type": "code",
   "execution_count": 2,
   "id": "cfd14e19",
   "metadata": {},
   "outputs": [],
   "source": [
    "# using Pkg\n",
    "# Pkg.add(\"HiGHS\")"
   ]
  },
  {
   "cell_type": "code",
   "execution_count": 3,
   "id": "04c3d8be",
   "metadata": {},
   "outputs": [],
   "source": [
    "path = \"C:/Users/bourg/.julia/environments/batterySC/Li-battery-SC/src/deterministic/data/\";"
   ]
  },
  {
   "cell_type": "code",
   "execution_count": 4,
   "id": "93d2a5ce",
   "metadata": {},
   "outputs": [],
   "source": [
    "#load social and ecological data and orgnize \n",
    "FL = repeat([Float64], inner=15)\n",
    "dtype = append!([String], FL);\n",
    "\n",
    "regional_EF = CSV.File(string(path,\"EF_SC.csv\"),header=1,delim=\",\", types=dtype) |> DataFrame    \n",
    "capacity = CSV.File(string(path,\"capacity.csv\"),header=1,delim=\",\", types=dtype) |> DataFrame    \n",
    "distance = CSV.File(string(path,\"distance.csv\"),header=1,delim=\",\") |> DataFrame \n",
    "LCA_model = CSV.File(string(path,\"LCA_model.csv\"),header=1,delim=\",\") |> DataFrame \n",
    "D_Dsoc = CSV.File(string(path,\"D_Dsoc.csv\"),header=1,delim=\",\") |> DataFrame\n",
    "GDP = CSV.File(string(path,\"GDP.csv\"),header=1,delim=\",\") |> DataFrame\n",
    "emi_sink = CSV.File(string(path,\"emission_sink.csv\"),header=1,delim=\",\") |> DataFrame;"
   ]
  },
  {
   "cell_type": "code",
   "execution_count": 5,
   "id": "5118b2b5",
   "metadata": {},
   "outputs": [],
   "source": [
    "global_sink = 1.099e10                        # global pub (ocean) CO2 sequestration (ton/yr)\n",
    "global_sink_tot = 2.236e10                  # global total (ocean+land) CO2 sequestration (ton/yr)\n",
    "global_emi = 3.53e10                          # global CO2 emission (ton/yr)\n",
    "global_gdp = 96882e9                          # 2021 global GDP ($/yr)\n",
    "es_ratio = global_sink/global_emi\n",
    "es_ratio_tot = global_sink_tot/global_emi\n",
    "emission_c = emi_sink[!, \"emission\"]          # national CO2 emission (ton/yr)\n",
    "sink_c = emi_sink[!, \"sink ton/yr\"]           # national CO2 sink (ton/yr)\n",
    "\n",
    "Dsoc = D_Dsoc[!, \"Dsoc ton/yr\"]           # national CO2 sink (ton/yr)\n",
    "\n",
    "EF_trans = 1.005/10000                        # ton CO2/km*ton (The average freight truck in the U.S. emits 161.8 grams of CO2 per ton-mile)\n",
    "process = LCA_model[!,\"process\"]\n",
    "countries = capacity[!,\"country\"]\n",
    "ncty = size(countries,1)                          # No. of countries\n",
    "nproc = size(process,1);                          # No. of processes \n",
    "\n",
    "mkt_loc = findfirst(isequal(\"United States\"), countries)\n",
    "mkt_proc = findfirst(isequal(\"battery\"), process)\n",
    "\n",
    "# seperate model\n",
    "cathode = collect(1:4)\n",
    "cell = collect(5:10)\n",
    "noncell = [12,13]\n",
    "battery = [11,14]\n",
    "scaler = LCA_model[!,\"scaler\"]\n",
    "price = LCA_model[!,\"price (usd/ton product)\"]\n",
    "vGDP = GDP[!,\"GDP usd\"]\n",
    "penalty = 5; # ton/yr;"
   ]
  },
  {
   "cell_type": "code",
   "execution_count": 6,
   "id": "8b703446",
   "metadata": {},
   "outputs": [],
   "source": [
    "scen_eff = CSV.File(string(path,\"Scen_Efficiency.csv\"), header=1, delim=\",\") |> DataFrame\n",
    "scen_eff = Matrix(scen_eff)[:, 2:end]\n",
    "\n",
    "scen_dmd = CSV.File(string(path,\"Scen_Demand.csv\"), header=1, delim=\",\") |> DataFrame\n",
    "scen_dmd = Matrix(scen_dmd)[2:end]\n",
    "\n",
    "Omega = ones(Float64, ncty, 50, nproc)\n",
    "Omega[:, :, 1] = scen_eff\n",
    "num_omega = size(Omega)[2];"
   ]
  },
  {
   "cell_type": "code",
   "execution_count": 7,
   "id": "d326e8f0",
   "metadata": {},
   "outputs": [],
   "source": [
    "up_cath = scaler[1:4] * scaler[5] * scaler[11]\n",
    "up_cell = scaler[5:10] * scaler[11]\n",
    "cell_sef = scaler[11]\n",
    "up_noncell = scaler[12:13] * scaler[14]\n",
    "noncell_sef = scaler[14]\n",
    "battery_sef = scaler[15];"
   ]
  },
  {
   "cell_type": "code",
   "execution_count": 8,
   "id": "fcfae35d",
   "metadata": {},
   "outputs": [],
   "source": [
    "# ipt = vcat(up_cath, up_cell, cell_sef, up_noncell, noncell_sef, battery_sef);\n",
    "# input_amount = ipt.* cell_demand;"
   ]
  },
  {
   "cell_type": "code",
   "execution_count": 9,
   "id": "84a3ce77",
   "metadata": {},
   "outputs": [],
   "source": [
    "# cell_demand = 0.001*164.98*(1.369*1e6)*2   \n",
    "# input_amount = ipt.* cell_demand"
   ]
  },
  {
   "cell_type": "markdown",
   "id": "103e72e2",
   "metadata": {},
   "source": [
    "---"
   ]
  },
  {
   "cell_type": "code",
   "execution_count": 121,
   "id": "a716a76d",
   "metadata": {},
   "outputs": [
    {
     "data": {
      "text/plain": [
       "Any[]"
      ]
     },
     "execution_count": 121,
     "metadata": {},
     "output_type": "execute_result"
    }
   ],
   "source": [
    "s = 1\n",
    "M = -1e10\n",
    "cuts = []"
   ]
  },
  {
   "cell_type": "code",
   "execution_count": 122,
   "id": "a039203b",
   "metadata": {},
   "outputs": [
    {
     "name": "stdout",
     "output_type": "stream",
     "text": [
      "Academic license - for non-commercial use only - expires 2024-12-26\r\n"
     ]
    }
   ],
   "source": [
    "model = Model(Gurobi.Optimizer)\n",
    "set_silent(model)\n",
    "@variable(model, x[1:ncty, 1:nproc] >= 0)\n",
    "@variable(model, theta >= M)\n",
    "\n",
    "for k in 1:nproc\n",
    "    for i in 1:ncty\n",
    "        @constraint(model, x[i,k] <= capacity[!, 2:end][i,k])\n",
    "    end\n",
    "end\n",
    "    "
   ]
  },
  {
   "cell_type": "code",
   "execution_count": 123,
   "id": "54d527fe",
   "metadata": {},
   "outputs": [],
   "source": [
    "# [@constraint(model, sum(y[i,j,k] for i in 1:ncty) <= e*x_hat[j,5]*scaler[k]) for k in cathode for j in 1:ncty]"
   ]
  },
  {
   "cell_type": "code",
   "execution_count": 124,
   "id": "0931cfcd",
   "metadata": {},
   "outputs": [],
   "source": [
    "x_cth = [@constraint(model, sum(x[i,k] for i in 1:ncty) == sum(x[i,5] for i in 1:ncty) * scaler[k]) for k in cathode]\n",
    "x_cell = [@constraint(model, sum(x[i,k] for i in 1:ncty) == sum(x[i,11] for i in 1:ncty) * scaler[k]) for k in cell]\n",
    "x_noncell = [@constraint(model, sum(x[i,k] for i in 1:ncty) == sum(x[i,14] for i in 1:ncty) * scaler[k]) for k in noncell]\n",
    "x_battery = [@constraint(model, sum(x[i,k] for i in 1:ncty) == sum(x[i,15] for i in 1:ncty) * scaler[k]) for k in battery];"
   ]
  },
  {
   "cell_type": "code",
   "execution_count": 125,
   "id": "20c9c693",
   "metadata": {},
   "outputs": [],
   "source": [
    "proD = (x .* Matrix(regional_EF[:,2:end])) * ones(nproc,1) \n",
    "\n",
    "pro_sink = zeros(ncty, nproc)\n",
    "for k in 1:nproc\n",
    "    for i in 1:ncty\n",
    "        pro_sink[i,k] = regional_EF[i, k+1] * (sink_c[i]/emission_c[i] + es_ratio)\n",
    "    end\n",
    "end\n",
    "proS = (x.*pro_sink)*ones(nproc,1);"
   ]
  },
  {
   "cell_type": "code",
   "execution_count": 126,
   "id": "8be35091",
   "metadata": {},
   "outputs": [],
   "source": [
    "@objective(model, Min, sum(proD-proS)+theta)\n",
    "JuMP.optimize!(model);"
   ]
  },
  {
   "cell_type": "code",
   "execution_count": 127,
   "id": "da7b81a4",
   "metadata": {},
   "outputs": [
    {
     "data": {
      "text/plain": [
       "-1.0018192887208946e10"
      ]
     },
     "execution_count": 127,
     "metadata": {},
     "output_type": "execute_result"
    }
   ],
   "source": [
    "x_hat = JuMP.value.(x)\n",
    "theta_hat = JuMP.value.(theta)\n",
    "z_lb = JuMP.objective_value(model)"
   ]
  },
  {
   "cell_type": "code",
   "execution_count": 128,
   "id": "1d0d07e2",
   "metadata": {},
   "outputs": [
    {
     "data": {
      "text/plain": [
       "30×15 Matrix{Float64}:\n",
       "  6200.0       0.0  0.0             0.0  …     0.0   0.0        0.0\n",
       " 61000.0    7000.0  0.0             0.0        0.0   0.0        0.0\n",
       "  2200.0       0.0  1.73306e5   67000.0        0.0   0.0        0.0\n",
       "   500.0    3100.0  0.0        110622.0        0.0   0.0        0.0\n",
       " 39000.0       0.0  0.0             0.0        0.0   1.0e6      0.0\n",
       " 16757.4    2200.0  0.0             0.0  …     0.0   0.0        0.0\n",
       "     0.0       0.0  0.0             0.0        0.0   0.0        0.0\n",
       "     0.0  145000.0  0.0             0.0        0.0   0.0        0.0\n",
       "     0.0       0.0  0.0             0.0        0.0   0.0        0.0\n",
       "     0.0       0.0  0.0             0.0        0.0   0.0        0.0\n",
       "     0.0       0.0  0.0             0.0  …     0.0   0.0        1.56404e5\n",
       "     0.0       0.0  0.0             0.0        0.0   0.0        0.0\n",
       "     0.0    9454.0  0.0             0.0        0.0   0.0        0.0\n",
       "     ⋮                                   ⋱                      \n",
       "     0.0       0.0  0.0             0.0        0.0   1.56404e5  0.0\n",
       "     0.0       0.0  0.0             0.0        0.0   0.0        0.0\n",
       "     0.0    5400.0  0.0             0.0  …     0.0   0.0        0.0\n",
       "   600.0       0.0  0.0             0.0        0.0   0.0        0.0\n",
       "     0.0    3500.0  0.0             0.0        0.0   0.0        0.0\n",
       "     0.0       0.0  0.0             0.0        0.0   0.0        0.0\n",
       "     0.0       0.0  0.0             0.0        0.0   0.0        0.0\n",
       "     0.0       0.0  0.0             0.0  …     0.0   0.0        0.0\n",
       "     0.0    2300.0  0.0             0.0        0.0   0.0        0.0\n",
       "     0.0       0.0  0.0             0.0        0.0   0.0        0.0\n",
       "     0.0       0.0  0.0             0.0        0.0   0.0        0.0\n",
       "   900.0       0.0  0.0             0.0     4625.62  0.0        1.0e6"
      ]
     },
     "execution_count": 128,
     "metadata": {},
     "output_type": "execute_result"
    }
   ],
   "source": [
    "x_hat"
   ]
  },
  {
   "cell_type": "markdown",
   "id": "615d598e",
   "metadata": {},
   "source": [
    "---"
   ]
  },
  {
   "cell_type": "code",
   "execution_count": 146,
   "id": "fb0ad135",
   "metadata": {},
   "outputs": [],
   "source": [
    "# model = Model(Gurobi.Optimizer)\n",
    "# @variable(model, a[1:2, 1:2, 1:3] >= 0)\n",
    "# cstr1 = [@constraint(model, sum(a[i,j,k] for j in 1:2) <= 0) for k in 1:3 for i in 1:2]\n",
    "\n",
    "# nc = 2\n",
    "# np = 3\n",
    "# test = AffExpr[x[i,k] for k in 1:np for i in 1:nc]\n",
    "# reshape(test, 2, 3)\n",
    "# Matrix{AffExpr}(undef, 2, 3)\n",
    "\n",
    "# TT = [@constraint(model, sum(y[i,j,13] for j in 1:ncty) <= Omega[i,1,13] * x_hat[i,13]) for i in 1:ncty];\n",
    "# t2 = [@constraint(model, sum(y[i,j,13] for i in 1:ncty) >= Omega[j,1,13] * x_hat[j,14]*scaler[13]) for j in 1:ncty];"
   ]
  },
  {
   "cell_type": "code",
   "execution_count": 133,
   "id": "9f7c5690",
   "metadata": {},
   "outputs": [
    {
     "name": "stdout",
     "output_type": "stream",
     "text": [
      "Academic license - for non-commercial use only - expires 2024-12-26\r\n"
     ]
    }
   ],
   "source": [
    "# model = Model(Gurobi.Optimizer)\n",
    "# # set_silent(model)\n",
    "# @variable(model, y[1:ncty, 1:ncty, 1:nproc] >= 0)\n",
    "# @variable(model, unmeet >= 0)\n",
    "\n",
    "# cstr_op = [@constraint(model, sum(y[i,j,k] for j in 1:ncty) <= Omega[i,s,k] * x_hat[i,k]) for k in 1:nproc for i in 1:ncty]  # ncty * nproc constraints\n",
    "# cstr_cth = [@constraint(model, sum(y[i,j,k] for i in 1:ncty) >= Omega[j,s,k] * x_hat[j,5]*scaler[k]) for k in cathode for j in 1:ncty]  # ncty * ncth constraints\n",
    "# cstr_cell = [@constraint(model, sum(y[i,j,k] for i in 1:ncty) >= Omega[j,s,k] * x_hat[j,11]*scaler[k]) for k in cell for j in 1:ncty]  # ncty * ncell constraints\n",
    "# cstr_noncell = [@constraint(model, sum(y[i,j,k] for i in 1:ncty) >= Omega[j,s,k] * x_hat[j,14]*scaler[k]) for k in noncell for j in 1:ncty]  # nnoncell * nproc constraints\n",
    "# cstr_battery = [@constraint(model, sum(y[i,j,k] for i in 1:ncty) >= Omega[j,s,k] * x_hat[j,15]*scaler[k]) for k in battery for j in 1:ncty]  # nbat * nproc constraints\n",
    "# cstr_fmk = [@constraint(model, sum(y[i,mkt_loc,mkt_proc] for i in 1:ncty) + unmeet == scen_dmd[s])]  # 1 constraint\n",
    "# cstr_fmk_o = [@constraint(model, sum(y[i,j,mkt_proc] for i in 1:ncty) == 0) for j in 1:ncty-1];  # ncty-1 constraint"
   ]
  },
  {
   "cell_type": "markdown",
   "id": "c24ee3ea",
   "metadata": {},
   "source": [
    "---"
   ]
  },
  {
   "cell_type": "code",
   "execution_count": 182,
   "id": "cd2f3f33",
   "metadata": {},
   "outputs": [
    {
     "name": "stdout",
     "output_type": "stream",
     "text": [
      "Academic license - for non-commercial use only - expires 2024-12-26\r\n"
     ]
    }
   ],
   "source": [
    "model = Model(Gurobi.Optimizer)\n",
    "# set_silent(model)\n",
    "@variable(model, y[1:ncty, 1:ncty, 1:nproc] >= 0)\n",
    "@variable(model, unmeet >= 0)\n",
    "\n",
    "cstr_op = [@constraint(model, sum(y[i,j,k] for j in 1:ncty) <= Omega[i,s,k] * x_hat[i,k]) for k in 1:nproc for i in 1:ncty]  # ncty * nproc constraints\n",
    "cstr_cth = [@constraint(model, sum(y[i,j,k] for i in 1:ncty) >= Omega[j,s,k] * x_hat[j,5]*scaler[k]) for k in cathode for j in 1:ncty]  # ncty * ncth constraints\n",
    "cstr_cell = [@constraint(model, sum(y[i,j,k] for i in 1:ncty) >= Omega[j,s,k] * x_hat[j,11]*scaler[k]) for k in cell for j in 1:ncty]  # ncty * ncell constraints\n",
    "cstr_noncell = [@constraint(model, sum(y[i,j,k] for i in 1:ncty) >= Omega[j,s,k] * x_hat[j,14]*scaler[k]) for k in noncell for j in 1:ncty]  # nnoncell * nproc constraints\n",
    "cstr_battery = [@constraint(model, sum(y[i,j,k] for i in 1:ncty) >= Omega[j,s,k] * x_hat[j,15]*scaler[k]) for k in battery for j in 1:ncty]  # nbat * nproc constraints\n",
    "cstr_fmk = [@constraint(model, sum(y[i,mkt_loc,mkt_proc] for i in 1:ncty) + unmeet == scen_dmd[s])]  # 1 constraint\n",
    "cstr_fmk_o = [@constraint(model, sum(y[i,j,mkt_proc] for i in 1:ncty) == 0) for j in 1:ncty-1];  # ncty-1 constraint (accidently the final market (U.S.) locates at the last position in the vector which is 30th)"
   ]
  },
  {
   "cell_type": "code",
   "execution_count": 183,
   "id": "bd0cf324",
   "metadata": {},
   "outputs": [],
   "source": [
    "tranD = Vector{AffExpr}(undef, ncty)\n",
    "for j in 1:ncty\n",
    "    arc_emi = 0\n",
    "    arc_seq = 0\n",
    "    for i in 1:ncty\n",
    "        amount = sum(y[i,j,k] for k in 1:nproc)\n",
    "        arc_emi += (amount * distance[!, 2:end][i,j] * EF_trans)\n",
    "        arc_seq += arc_emi * (sink_c[j]/emission_c[j] + es_ratio)\n",
    "    end\n",
    "    tranD[j] = arc_emi - arc_seq\n",
    "#     tranD[j] = arc_emi \n",
    "end"
   ]
  },
  {
   "cell_type": "code",
   "execution_count": 184,
   "id": "3a203ed5",
   "metadata": {},
   "outputs": [
    {
     "name": "stdout",
     "output_type": "stream",
     "text": [
      "Gurobi Optimizer version 9.1.2 build v9.1.2rc0 (win64)\r\n",
      "Thread count: 6 physical cores, 12 logical processors, using up to 12 threads\r\n",
      "Optimize a model with 900 rows, 13501 columns and 27001 nonzeros\r\n",
      "Model fingerprint: 0xabf85eea\r\n",
      "Coefficient statistics:\r\n",
      "  Matrix range     [1e+00, 1e+00]\r\n",
      "  Objective range  [2e-02, 4e+02]\r\n",
      "  Bounds range     [0e+00, 0e+00]\r\n",
      "  RHS range        [3e+02, 1e+06]\r\n",
      "Presolve removed 900 rows and 13501 columns\r\n",
      "Presolve time: 0.01s\r\n",
      "Presolve: All rows and columns removed\r\n",
      "Iteration    Objective       Primal Inf.    Dual Inf.      Time\r\n",
      "       0   -4.7500554e+07   0.000000e+00   0.000000e+00      0s\r\n",
      "\r\n",
      "Solved in 0 iterations and 0.01 seconds\r\n",
      "Optimal objective -4.750055359e+07\r\n",
      "\r\n",
      "User-callback calls 38, time in user-callback 0.00 sec\r\n"
     ]
    }
   ],
   "source": [
    "@objective(model, Min, sum(tranD)+unmeet*penalty)\n",
    "JuMP.optimize!(model)"
   ]
  },
  {
   "cell_type": "code",
   "execution_count": 185,
   "id": "032bb376",
   "metadata": {},
   "outputs": [],
   "source": [
    "qy_hat = JuMP.objective_value(model)\n",
    "sub_y = JuMP.value.(y)\n",
    "sub_s = JuMP.value.(unmeet);"
   ]
  },
  {
   "cell_type": "code",
   "execution_count": 186,
   "id": "8688f1e2",
   "metadata": {},
   "outputs": [],
   "source": [
    "op_pi = [getdual(con) for con in cstr_op]\n",
    "cth_pi = [getdual(con) for con in cstr_cth]\n",
    "cell_pi = [getdual(con) for con in cstr_cell]\n",
    "noncell_pi = [getdual(con) for con in cstr_noncell]\n",
    "battery_pi = [getdual(con) for con in cstr_battery]\n",
    "fmk_alp = [getdual(con) for con in cstr_fmk]\n",
    "fmko_alp = [getdual(con) for con in cstr_fmk_o];"
   ]
  },
  {
   "cell_type": "code",
   "execution_count": 187,
   "id": "3b53aa01",
   "metadata": {},
   "outputs": [],
   "source": [
    "Moppi = reshape(op_pi, ncty, nproc) .* Omega[:,s,:]\n",
    "Mcthpi = reshape(cth_pi, ncty, length(cathode)) .* Omega[:,s,cathode]\n",
    "Mcellpi = reshape(cell_pi, ncty, length(cell)) .* Omega[:,s,cell]\n",
    "Mncellpi = reshape(noncell_pi, ncty, length(noncell)) .* Omega[:,s,noncell]\n",
    "Mbty = reshape(battery_pi, ncty, length(battery)) .* Omega[:,s,battery]\n",
    "Mtx_PI = hcat(Mcthpi, Mcellpi, Mncellpi, Mbty, zeros(ncty)) + Moppi\n",
    "Mtx_ALP = hcat(zeros(ncty, nproc-1), vcat(fmko_alp, fmk_alp));"
   ]
  },
  {
   "cell_type": "code",
   "execution_count": null,
   "id": "1645c669",
   "metadata": {},
   "outputs": [],
   "source": []
  },
  {
   "cell_type": "code",
   "execution_count": 10,
   "id": "53c973a1",
   "metadata": {},
   "outputs": [],
   "source": [
    "# function reformu_pi(e, col_idx, proc_idx, ls_cstr)\n",
    "#     pi_matrix = zeros(ncty, nproc)\n",
    "#     pi = [getdual(con) for con in ls_cstr]\n",
    "#     B = []\n",
    "#     for k in proc_idx\n",
    "#         append!(B, e*scaler[k]*ones(ncty))\n",
    "#     end\n",
    "#     pi = pi .* B\n",
    "#     pi = reshape(pi, ncty, size(proc_idx)[1])\n",
    "#     pi_matrix[:,col_idx] = sum(pi, dims=2)\n",
    "    \n",
    "#     return pi_matrix\n",
    "# end"
   ]
  },
  {
   "cell_type": "code",
   "execution_count": null,
   "id": "51ab40a5",
   "metadata": {},
   "outputs": [],
   "source": []
  },
  {
   "cell_type": "code",
   "execution_count": null,
   "id": "082832dd",
   "metadata": {},
   "outputs": [],
   "source": []
  },
  {
   "cell_type": "code",
   "execution_count": null,
   "id": "3e337f3c",
   "metadata": {},
   "outputs": [],
   "source": []
  },
  {
   "cell_type": "code",
   "execution_count": null,
   "id": "95800afe",
   "metadata": {},
   "outputs": [],
   "source": []
  },
  {
   "cell_type": "code",
   "execution_count": null,
   "id": "d6500f46",
   "metadata": {},
   "outputs": [],
   "source": []
  },
  {
   "cell_type": "code",
   "execution_count": null,
   "id": "5cb227cf",
   "metadata": {},
   "outputs": [],
   "source": []
  },
  {
   "cell_type": "code",
   "execution_count": null,
   "id": "91459f58",
   "metadata": {},
   "outputs": [],
   "source": []
  },
  {
   "cell_type": "code",
   "execution_count": null,
   "id": "7e90fad6",
   "metadata": {},
   "outputs": [],
   "source": []
  },
  {
   "cell_type": "markdown",
   "id": "3573e90d",
   "metadata": {},
   "source": [
    "### Solve Subproblem - Get Dual $\\pi$ & $\\alpha$"
   ]
  },
  {
   "cell_type": "code",
   "execution_count": 11,
   "id": "551a9acc",
   "metadata": {},
   "outputs": [
    {
     "data": {
      "text/plain": [
       "subprob (generic function with 1 method)"
      ]
     },
     "execution_count": 11,
     "metadata": {},
     "output_type": "execute_result"
    }
   ],
   "source": [
    "function subprob(x_hat, s) # s represents specific scenario \n",
    "    \n",
    "    model = Model(Gurobi.Optimizer)\n",
    "    set_silent(model)\n",
    "    @variable(model, y[1:ncty, 1:ncty, 1:nproc] >= 0)\n",
    "    @variable(model, unmeet >= 0)\n",
    "    \n",
    "    cstr_op = [@constraint(model, sum(y[i,j,k] for j in 1:ncty) <= Omega[i,s,k] * x_hat[i,k]) for k in 1:nproc for i in 1:ncty]  # ncty * nproc constraints\n",
    "    cstr_cth = [@constraint(model, sum(y[i,j,k] for i in 1:ncty) >= Omega[j,s,k] * x_hat[j,5]*scaler[k]) for k in cathode for j in 1:ncty]  # ncty * ncth constraints\n",
    "    cstr_cell = [@constraint(model, sum(y[i,j,k] for i in 1:ncty) >= Omega[j,s,k] * x_hat[j,11]*scaler[k]) for k in cell for j in 1:ncty]  # ncty * ncell constraints\n",
    "    cstr_noncell = [@constraint(model, sum(y[i,j,k] for i in 1:ncty) >= Omega[j,s,k] * x_hat[j,14]*scaler[k]) for k in noncell for j in 1:ncty]  # nnoncell * nproc constraints\n",
    "    cstr_battery = [@constraint(model, sum(y[i,j,k] for i in 1:ncty) >= Omega[j,s,k] * x_hat[j,15]*scaler[k]) for k in battery for j in 1:ncty]  # nbat * nproc constraints\n",
    "    cstr_fmk = [@constraint(model, sum(y[i,mkt_loc,mkt_proc] for i in 1:ncty) + unmeet == scen_dmd[s])]  # 1 constraint\n",
    "    cstr_fmk_o = [@constraint(model, sum(y[i,j,mkt_proc] for i in 1:ncty) == 0) for j in 1:ncty-1];  # ncty-1 constraint (accidently the final market (U.S.) locates at the last position in the vector which is 30th)\n",
    "    \n",
    "    \n",
    "    \n",
    "    ####################### \n",
    "    tranD = Vector{AffExpr}(undef, ncty)\n",
    "    for j in 1:ncty\n",
    "        arc_emi = 0\n",
    "        arc_seq = 0\n",
    "        for i in 1:ncty\n",
    "            amount = sum(y[i,j,k] for k in 1:nproc)\n",
    "            arc_emi += (amount * distance[!, 2:end][i,j] * EF_trans)\n",
    "            arc_seq += arc_emi * (sink_c[j]/emission_c[j] + es_ratio)\n",
    "        end\n",
    "        tranD[j] = arc_emi - arc_seq\n",
    "    end\n",
    "    \n",
    "    \n",
    "    \n",
    "    ####################### \n",
    "    @objective(model, Min, sum(tranD)+unmeet*penalty)\n",
    "    JuMP.optimize!(model)\n",
    "    \n",
    "    qy_hat = JuMP.objective_value(model)\n",
    "    sub_y = JuMP.value.(y)\n",
    "    sub_unmeet = JuMP.value.(unmeet)\n",
    "    \n",
    "    \n",
    "    ####################### \n",
    "    \n",
    "    op_pi = [getdual(con) for con in cstr_op]\n",
    "    cth_pi = [getdual(con) for con in cstr_cth]\n",
    "    cell_pi = [getdual(con) for con in cstr_cell]\n",
    "    noncell_pi = [getdual(con) for con in cstr_noncell]\n",
    "    battery_pi = [getdual(con) for con in cstr_battery]\n",
    "    fmk_alp = [getdual(con) for con in cstr_fmk]\n",
    "    fmko_alp = [getdual(con) for con in cstr_fmk_o]\n",
    "\n",
    "    Moppi = reshape(op_pi, ncty, nproc) .* Omega[:,s,:]\n",
    "    Mcthpi = reshape(cth_pi, ncty, length(cathode)) .* Omega[:,s,cathode] * (-1)\n",
    "    Mcellpi = reshape(cell_pi, ncty, length(cell)) .* Omega[:,s,cell] * (-1)\n",
    "    Mncellpi = reshape(noncell_pi, ncty, length(noncell)) .* Omega[:,s,noncell] * (-1)\n",
    "    Mbty = reshape(battery_pi, ncty, length(battery)) .* Omega[:,s,battery] * (-1)\n",
    "    Mtx_PI = hcat(Mcthpi, Mcellpi, Mncellpi, Mbty, zeros(ncty)) + Moppi\n",
    "    Mtx_ALP = hcat(zeros(ncty, nproc-1), vcat(fmko_alp, fmk_alp*(scen_dmd[s]-sub_unmeet)));\n",
    "\n",
    "    \n",
    "    #######################\n",
    "    result = Dict([\"qyhat\"=>qy_hat, \"y_opt\"=>sub_y, \"unmeet_opt\"=>sub_unmeet, \"pi\"=>Mtx_PI, \"alp\"=>Mtx_ALP]);\n",
    "    return result\n",
    "    \n",
    "end"
   ]
  },
  {
   "cell_type": "code",
   "execution_count": 27,
   "id": "dbc0c755",
   "metadata": {},
   "outputs": [
    {
     "data": {
      "text/plain": [
       "masterprob (generic function with 1 method)"
      ]
     },
     "execution_count": 27,
     "metadata": {},
     "output_type": "execute_result"
    }
   ],
   "source": [
    "function masterprob(cuts)\n",
    "    model = Model(Gurobi.Optimizer)\n",
    "    set_silent(model)\n",
    "    @variable(model, x[1:ncty, 1:nproc] >= 0)\n",
    "    @variable(model, theta >= M)\n",
    "    \n",
    "    for k in 1:nproc\n",
    "        for i in 1:ncty\n",
    "            @constraint(model, x[i,k] <= capacity[!, 2:end][i,k])\n",
    "        end\n",
    "    end\n",
    "\n",
    "    x_cth = [@constraint(model, sum(x[i,k] for i in 1:ncty) == sum(x[i,5] for i in 1:ncty) * scaler[k]) for k in cathode]\n",
    "    x_cell = [@constraint(model, sum(x[i,k] for i in 1:ncty) == sum(x[i,11] for i in 1:ncty) * scaler[k]) for k in cell]\n",
    "    x_noncell = [@constraint(model, sum(x[i,k] for i in 1:ncty) == sum(x[i,14] for i in 1:ncty) * scaler[k]) for k in noncell]\n",
    "    x_battery = [@constraint(model, sum(x[i,k] for i in 1:ncty) == sum(x[i,15] for i in 1:ncty) * scaler[k]) for k in battery];\n",
    "    \n",
    "\n",
    "    ###########\n",
    "    proD = (x .* Matrix(regional_EF[:,2:end])) * ones(nproc,1) \n",
    "\n",
    "    pro_sink = zeros(ncty, nproc)\n",
    "    for k in 1:nproc\n",
    "        for i in 1:ncty\n",
    "            pro_sink[i,k] = regional_EF[i, k+1] * (sink_c[i]/emission_c[i] + es_ratio)\n",
    "        end\n",
    "    end\n",
    "    proS = (x.*pro_sink)*ones(nproc,1) \n",
    "    \n",
    "    \n",
    "    if cuts != []\n",
    "        for cut in cuts\n",
    "            G = cut[\"gradient\"]\n",
    "            g = cut[\"intersection\"]\n",
    "            @constraint(model, sum(x .* G) + theta >= g)\n",
    "        end\n",
    "    end\n",
    "    \n",
    "    @objective(model, Min, sum(proD-proS)+theta)\n",
    "    JuMP.optimize!(model);\n",
    "    \n",
    "    x_hat = JuMP.value.(x)\n",
    "    theta_hat = JuMP.value.(theta)\n",
    "    z_lb = JuMP.objective_value(model)\n",
    "    \n",
    "    result = Dict([\"x_hat\"=>x_hat, \"z_lb\"=>z_lb])\n",
    "    return result\n",
    "end"
   ]
  },
  {
   "cell_type": "code",
   "execution_count": 13,
   "id": "0a50f159",
   "metadata": {},
   "outputs": [
    {
     "data": {
      "text/plain": [
       "add_cuts (generic function with 1 method)"
      ]
     },
     "execution_count": 13,
     "metadata": {},
     "output_type": "execute_result"
    }
   ],
   "source": [
    "function add_cuts(x, Omega)\n",
    "    G = [] # gradient\n",
    "    g = [] # intersection\n",
    "#     G = zeros(ncty,nproc) \n",
    "#     g = zeros(ncty,nproc) \n",
    "    qy = 0\n",
    "    \n",
    "    for s in 1:num_omega\n",
    "        res = subprob(x, s)        \n",
    "        gradient = -1 * res[\"pi\"]\n",
    "        push!(G, gradient)\n",
    "        push!(g, res[\"alp\"])\n",
    "#         G += (-1 * res[\"pi\"])\n",
    "#         g += res[\"alp\"]\n",
    "        qy += res[\"qyhat\"]\n",
    "    end\n",
    "    \n",
    "    proD = (x .* Matrix(regional_EF[:,2:end])) * ones(nproc,1) \n",
    "    pro_sink = zeros(ncty, nproc)\n",
    "    for k in 1:nproc\n",
    "        for i in 1:ncty\n",
    "            pro_sink[i,k] = regional_EF[i, k+1] * (sink_c[i]/emission_c[i] + es_ratio)\n",
    "#             pro_sink[i,k] = (price[k]/vGDP[i]) * sink_c[i] + (price[k]/global_gdp) * global_sink\n",
    "        end\n",
    "    end\n",
    "    proS = (x.*pro_sink)*ones(nproc,1) \n",
    "    z_hat = sum(proD - proS) + qy/num_omega\n",
    "    Exp_G = sum(G) / num_omega\n",
    "    Exp_g = sum(g) / num_omega\n",
    "    \n",
    "    cut = Dict([\"gradient\"=>Exp_G, \"intersection\"=>Exp_g])\n",
    "    return cut, z_hat\n",
    "end"
   ]
  },
  {
   "cell_type": "code",
   "execution_count": 14,
   "id": "0e44c501",
   "metadata": {},
   "outputs": [
    {
     "data": {
      "text/plain": [
       "main (generic function with 1 method)"
      ]
     },
     "execution_count": 14,
     "metadata": {},
     "output_type": "execute_result"
    }
   ],
   "source": [
    "function main(toler)\n",
    "    i = 0\n",
    "    z_ub = 1e10\n",
    "    x_opt = 0\n",
    "    \n",
    "    cuts = []\n",
    "    res0 = masterprob(cuts)\n",
    "    x_hat = res0[\"x_hat\"]\n",
    "    z_lb = res0[\"z_lb\"]\n",
    "    \n",
    "    while (z_ub - z_lb) > toler * min(abs(z_ub), abs(z_lb))\n",
    "        new_cut, z_hat = add_cuts(x_hat, Omega)\n",
    "        if z_hat < z_ub\n",
    "            z_ub = z_hat\n",
    "            x_opt = x_hat\n",
    "        end\n",
    "        \n",
    "        push!(cuts, new_cut)\n",
    "        \n",
    "        res1 = masterprob(cuts)\n",
    "        z_lb = res1[\"z_lb\"]\n",
    "        x_hat = res1[\"x_hat\"]\n",
    "        \n",
    "        i += 1\n",
    "    end\n",
    "    \n",
    "    result = Dict([\"z_lb\"=>z_lb, \"z_ub\"=>z_ub, \"x_opt\"=>x_opt, \"iteration\"=>i])\n",
    "    return result\n",
    "    \n",
    "end"
   ]
  },
  {
   "cell_type": "markdown",
   "id": "a278e2b3",
   "metadata": {},
   "source": [
    "---"
   ]
  },
  {
   "cell_type": "code",
   "execution_count": 28,
   "id": "4e32c290",
   "metadata": {},
   "outputs": [
    {
     "data": {
      "text/plain": [
       "-1.0e10"
      ]
     },
     "execution_count": 28,
     "metadata": {},
     "output_type": "execute_result"
    }
   ],
   "source": [
    "M = -1e10"
   ]
  },
  {
   "cell_type": "code",
   "execution_count": 29,
   "id": "b3dc8a03",
   "metadata": {},
   "outputs": [
    {
     "name": "stdout",
     "output_type": "stream",
     "text": [
      "Academic license - for non-commercial use only - expires 2024-12-26\r\n"
     ]
    },
    {
     "data": {
      "text/plain": [
       "-1.0018192887208946e10"
      ]
     },
     "execution_count": 29,
     "metadata": {},
     "output_type": "execute_result"
    }
   ],
   "source": [
    "i = 0\n",
    "z_ub = 1e10\n",
    "x_opt = 0\n",
    "\n",
    "cuts = []\n",
    "res0 = masterprob(cuts)\n",
    "x_hat = res0[\"x_hat\"]\n",
    "z_lb = res0[\"z_lb\"]\n",
    "    "
   ]
  },
  {
   "cell_type": "code",
   "execution_count": 30,
   "id": "fe90a8e9",
   "metadata": {},
   "outputs": [
    {
     "data": {
      "text/plain": [
       "0.1"
      ]
     },
     "execution_count": 30,
     "metadata": {},
     "output_type": "execute_result"
    }
   ],
   "source": [
    "toler = 0.1"
   ]
  },
  {
   "cell_type": "code",
   "execution_count": 31,
   "id": "cfe5f602",
   "metadata": {},
   "outputs": [
    {
     "data": {
      "text/plain": [
       "2.0018192887208946e10"
      ]
     },
     "execution_count": 31,
     "metadata": {},
     "output_type": "execute_result"
    }
   ],
   "source": [
    "z_ub - z_lb"
   ]
  },
  {
   "cell_type": "code",
   "execution_count": 32,
   "id": "433c1566",
   "metadata": {},
   "outputs": [
    {
     "data": {
      "text/plain": [
       "1.0e9"
      ]
     },
     "execution_count": 32,
     "metadata": {},
     "output_type": "execute_result"
    }
   ],
   "source": [
    "toler * min(abs(z_ub), abs(z_lb))"
   ]
  },
  {
   "cell_type": "code",
   "execution_count": 33,
   "id": "1a540fde",
   "metadata": {},
   "outputs": [
    {
     "data": {
      "text/plain": [
       "30×15 Matrix{Float64}:\n",
       "  6200.0       0.0  0.0             0.0  …     0.0   0.0        0.0\n",
       " 61000.0    7000.0  0.0             0.0        0.0   0.0        0.0\n",
       "  2200.0       0.0  1.73306e5   67000.0        0.0   0.0        0.0\n",
       "   500.0    3100.0  0.0        110622.0        0.0   0.0        0.0\n",
       " 39000.0       0.0  0.0             0.0        0.0   1.0e6      0.0\n",
       " 16757.4    2200.0  0.0             0.0  …     0.0   0.0        0.0\n",
       "     0.0       0.0  0.0             0.0        0.0   0.0        0.0\n",
       "     0.0  145000.0  0.0             0.0        0.0   0.0        0.0\n",
       "     0.0       0.0  0.0             0.0        0.0   0.0        0.0\n",
       "     0.0       0.0  0.0             0.0        0.0   0.0        0.0\n",
       "     0.0       0.0  0.0             0.0  …     0.0   0.0        1.56404e5\n",
       "     0.0       0.0  0.0             0.0        0.0   0.0        0.0\n",
       "     0.0    9454.0  0.0             0.0        0.0   0.0        0.0\n",
       "     ⋮                                   ⋱                      \n",
       "     0.0       0.0  0.0             0.0        0.0   1.56404e5  0.0\n",
       "     0.0       0.0  0.0             0.0        0.0   0.0        0.0\n",
       "     0.0    5400.0  0.0             0.0  …     0.0   0.0        0.0\n",
       "   600.0       0.0  0.0             0.0        0.0   0.0        0.0\n",
       "     0.0    3500.0  0.0             0.0        0.0   0.0        0.0\n",
       "     0.0       0.0  0.0             0.0        0.0   0.0        0.0\n",
       "     0.0       0.0  0.0             0.0        0.0   0.0        0.0\n",
       "     0.0       0.0  0.0             0.0  …     0.0   0.0        0.0\n",
       "     0.0    2300.0  0.0             0.0        0.0   0.0        0.0\n",
       "     0.0       0.0  0.0             0.0        0.0   0.0        0.0\n",
       "     0.0       0.0  0.0             0.0        0.0   0.0        0.0\n",
       "   900.0       0.0  0.0             0.0     4625.62  0.0        1.0e6"
      ]
     },
     "execution_count": 33,
     "metadata": {},
     "output_type": "execute_result"
    }
   ],
   "source": [
    "x_hat"
   ]
  },
  {
   "cell_type": "code",
   "execution_count": 34,
   "id": "fe8a6c63",
   "metadata": {},
   "outputs": [
    {
     "name": "stdout",
     "output_type": "stream",
     "text": [
      "Academic license - for non-commercial use only - expires 2024-12-26\r\n",
      "Academic license - for non-commercial use only - expires 2024-12-26\r\n"
     ]
    },
    {
     "ename": "LoadError",
     "evalue": "Result index of attribute MathOptInterface.ObjectiveValue(1) out of bounds. There are currently 0 solution(s) in the model.",
     "output_type": "error",
     "traceback": [
      "Result index of attribute MathOptInterface.ObjectiveValue(1) out of bounds. There are currently 0 solution(s) in the model.",
      "",
      "Stacktrace:",
      "  [1] check_result_index_bounds",
      "    @ C:\\Users\\bourg\\.julia\\packages\\MathOptInterface\\YDdD3\\src\\attributes.jl:139 [inlined]",
      "  [2] get(model::Gurobi.Optimizer, attr::MathOptInterface.ObjectiveValue)",
      "    @ Gurobi C:\\Users\\bourg\\.julia\\packages\\Gurobi\\Dn7m0\\src\\MOI_wrapper.jl:2828",
      "  [3] get(b::MathOptInterface.Bridges.LazyBridgeOptimizer{Gurobi.Optimizer}, attr::MathOptInterface.ObjectiveValue)",
      "    @ MathOptInterface.Bridges C:\\Users\\bourg\\.julia\\packages\\MathOptInterface\\YDdD3\\src\\Bridges\\bridge_optimizer.jl:913",
      "  [4] get(model::MathOptInterface.Utilities.CachingOptimizer{MathOptInterface.AbstractOptimizer, MathOptInterface.Utilities.UniversalFallback{MathOptInterface.Utilities.GenericModel{Float64, MathOptInterface.Utilities.ModelFunctionConstraints{Float64}}}}, attr::MathOptInterface.ObjectiveValue)",
      "    @ MathOptInterface.Utilities C:\\Users\\bourg\\.julia\\packages\\MathOptInterface\\YDdD3\\src\\Utilities\\cachingoptimizer.jl:716",
      "  [5] _moi_get_result(model::MathOptInterface.Utilities.CachingOptimizer{MathOptInterface.AbstractOptimizer, MathOptInterface.Utilities.UniversalFallback{MathOptInterface.Utilities.GenericModel{Float64, MathOptInterface.Utilities.ModelFunctionConstraints{Float64}}}}, args::MathOptInterface.ObjectiveValue)",
      "    @ JuMP C:\\Users\\bourg\\.julia\\packages\\JuMP\\klrjG\\src\\JuMP.jl:1199",
      "  [6] get(model::Model, attr::MathOptInterface.ObjectiveValue)",
      "    @ JuMP C:\\Users\\bourg\\.julia\\packages\\JuMP\\klrjG\\src\\JuMP.jl:1212",
      "  [7] objective_value(model::Model; result::Int64)",
      "    @ JuMP C:\\Users\\bourg\\.julia\\packages\\JuMP\\klrjG\\src\\objective.jl:42",
      "  [8] objective_value",
      "    @ C:\\Users\\bourg\\.julia\\packages\\JuMP\\klrjG\\src\\objective.jl:41 [inlined]",
      "  [9] subprob(x_hat::Matrix{Float64}, s::Int64)",
      "    @ Main .\\In[11]:37",
      " [10] add_cuts(x::Matrix{Float64}, Omega::Array{Float64, 3})",
      "    @ Main .\\In[13]:9",
      " [11] top-level scope",
      "    @ In[34]:1",
      " [12] eval",
      "    @ .\\boot.jl:368 [inlined]",
      " [13] include_string(mapexpr::typeof(REPL.softscope), mod::Module, code::String, filename::String)",
      "    @ Base .\\loading.jl:1428"
     ]
    }
   ],
   "source": [
    "add_cuts(x_hat, Omega)"
   ]
  },
  {
   "cell_type": "code",
   "execution_count": null,
   "id": "3ff036f9",
   "metadata": {},
   "outputs": [],
   "source": []
  },
  {
   "cell_type": "code",
   "execution_count": 25,
   "id": "dc4b2b76",
   "metadata": {},
   "outputs": [
    {
     "name": "stdout",
     "output_type": "stream",
     "text": [
      "Academic license - for non-commercial use only - expires 2024-12-26\r\n"
     ]
    },
    {
     "ename": "LoadError",
     "evalue": "Result index of attribute MathOptInterface.ObjectiveValue(1) out of bounds. There are currently 0 solution(s) in the model.",
     "output_type": "error",
     "traceback": [
      "Result index of attribute MathOptInterface.ObjectiveValue(1) out of bounds. There are currently 0 solution(s) in the model.",
      "",
      "Stacktrace:",
      "  [1] check_result_index_bounds",
      "    @ C:\\Users\\bourg\\.julia\\packages\\MathOptInterface\\YDdD3\\src\\attributes.jl:139 [inlined]",
      "  [2] get(model::Gurobi.Optimizer, attr::MathOptInterface.ObjectiveValue)",
      "    @ Gurobi C:\\Users\\bourg\\.julia\\packages\\Gurobi\\Dn7m0\\src\\MOI_wrapper.jl:2828",
      "  [3] get(b::MathOptInterface.Bridges.LazyBridgeOptimizer{Gurobi.Optimizer}, attr::MathOptInterface.ObjectiveValue)",
      "    @ MathOptInterface.Bridges C:\\Users\\bourg\\.julia\\packages\\MathOptInterface\\YDdD3\\src\\Bridges\\bridge_optimizer.jl:913",
      "  [4] get(model::MathOptInterface.Utilities.CachingOptimizer{MathOptInterface.AbstractOptimizer, MathOptInterface.Utilities.UniversalFallback{MathOptInterface.Utilities.GenericModel{Float64, MathOptInterface.Utilities.ModelFunctionConstraints{Float64}}}}, attr::MathOptInterface.ObjectiveValue)",
      "    @ MathOptInterface.Utilities C:\\Users\\bourg\\.julia\\packages\\MathOptInterface\\YDdD3\\src\\Utilities\\cachingoptimizer.jl:716",
      "  [5] _moi_get_result(model::MathOptInterface.Utilities.CachingOptimizer{MathOptInterface.AbstractOptimizer, MathOptInterface.Utilities.UniversalFallback{MathOptInterface.Utilities.GenericModel{Float64, MathOptInterface.Utilities.ModelFunctionConstraints{Float64}}}}, args::MathOptInterface.ObjectiveValue)",
      "    @ JuMP C:\\Users\\bourg\\.julia\\packages\\JuMP\\klrjG\\src\\JuMP.jl:1199",
      "  [6] get(model::Model, attr::MathOptInterface.ObjectiveValue)",
      "    @ JuMP C:\\Users\\bourg\\.julia\\packages\\JuMP\\klrjG\\src\\JuMP.jl:1212",
      "  [7] objective_value(model::Model; result::Int64)",
      "    @ JuMP C:\\Users\\bourg\\.julia\\packages\\JuMP\\klrjG\\src\\objective.jl:42",
      "  [8] objective_value",
      "    @ C:\\Users\\bourg\\.julia\\packages\\JuMP\\klrjG\\src\\objective.jl:41 [inlined]",
      "  [9] subprob(x_hat::Matrix{Float64}, s::Int64)",
      "    @ Main .\\In[11]:37",
      " [10] add_cuts(x::Matrix{Float64}, Omega::Array{Float64, 3})",
      "    @ Main .\\In[13]:9",
      " [11] top-level scope",
      "    @ .\\In[25]:2",
      " [12] eval",
      "    @ .\\boot.jl:368 [inlined]",
      " [13] include_string(mapexpr::typeof(REPL.softscope), mod::Module, code::String, filename::String)",
      "    @ Base .\\loading.jl:1428"
     ]
    }
   ],
   "source": [
    "while (z_ub - z_lb) > toler * min(abs(z_ub), abs(z_lb))\n",
    "    new_cut, z_hat = add_cuts(x_hat, Omega)\n",
    "    if z_hat < z_ub\n",
    "        z_ub = z_hat\n",
    "        x_opt = x_hat\n",
    "    end\n",
    "\n",
    "    push!(cuts, new_cut)\n",
    "\n",
    "    res1 = masterprob(cuts)\n",
    "    z_lb = res1[\"z_lb\"]\n",
    "    x_hat = res1[\"x_hat\"]\n",
    "\n",
    "    i += 1\n",
    "end"
   ]
  },
  {
   "cell_type": "code",
   "execution_count": null,
   "id": "097a1d83",
   "metadata": {},
   "outputs": [],
   "source": []
  }
 ],
 "metadata": {
  "kernelspec": {
   "display_name": "Julia 1.8.3",
   "language": "julia",
   "name": "julia-1.8"
  },
  "language_info": {
   "file_extension": ".jl",
   "mimetype": "application/julia",
   "name": "julia",
   "version": "1.8.3"
  }
 },
 "nbformat": 4,
 "nbformat_minor": 5
}
