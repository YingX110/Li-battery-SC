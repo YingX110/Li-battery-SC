{
 "cells": [
  {
   "cell_type": "code",
   "execution_count": 1,
   "id": "5edf3ebd",
   "metadata": {},
   "outputs": [],
   "source": [
    "using JuMP, Gurobi\n",
    "using CSV, LinearAlgebra, DataFrames\n",
    "using Plots\n",
    "using DelimitedFiles\n",
    "using Random"
   ]
  },
  {
   "cell_type": "code",
   "execution_count": 2,
   "id": "04c3d8be",
   "metadata": {},
   "outputs": [],
   "source": [
    "path = \"C:/Users/bourg/.julia/environments/batterySC/Li-battery-SC/src/deterministic/data/\";"
   ]
  },
  {
   "cell_type": "code",
   "execution_count": 3,
   "id": "93d2a5ce",
   "metadata": {},
   "outputs": [],
   "source": [
    "#load social and ecological data and orgnize \n",
    "FL = repeat([Float64], inner=15)\n",
    "dtype = append!([String], FL);\n",
    "\n",
    "regional_EF = CSV.File(string(path,\"EF_SC.csv\"),header=1,delim=\",\", types=dtype) |> DataFrame    \n",
    "capacity = CSV.File(string(path,\"capacity1.csv\"),header=1,delim=\",\", types=dtype) |> DataFrame    \n",
    "distance = CSV.File(string(path,\"distance30.csv\"),header=1,delim=\",\") |> DataFrame \n",
    "LCA_model = CSV.File(string(path,\"LCA_model.csv\"),header=1,delim=\",\") |> DataFrame \n",
    "D_Dsoc = CSV.File(string(path,\"D_Dsoc.csv\"),header=1,delim=\",\") |> DataFrame\n",
    "emi_sink = CSV.File(string(path,\"emission_sink.csv\"),header=1,delim=\",\") |> DataFrame;"
   ]
  },
  {
   "cell_type": "code",
   "execution_count": 5,
   "id": "93fdb442",
   "metadata": {},
   "outputs": [],
   "source": [
    "# distance[distance.Column1 .∈ countries, :]"
   ]
  },
  {
   "cell_type": "code",
   "execution_count": 6,
   "id": "5118b2b5",
   "metadata": {},
   "outputs": [],
   "source": [
    "global_sink = 1.099e10                        # global pub (ocean) CO2 sequestration (ton/yr)\n",
    "global_sink_tot = 2.236e10                  # global total (ocean+land) CO2 sequestration (ton/yr)\n",
    "global_emi = 3.53e10                          # global CO2 emission (ton/yr)\n",
    "global_gdp = 96882e9                          # 2021 global GDP ($/yr)\n",
    "es_ratio = global_sink/global_emi\n",
    "es_ratio_tot = global_sink_tot/global_emi\n",
    "\n",
    "emission_c = emi_sink[!, \"emission\"]          # national CO2 emission (ton/yr)\n",
    "sink_c = emi_sink[!, \"sink ton/yr\"]           # national CO2 sink (ton/yr)\n",
    "Dsoc = D_Dsoc[!, \"Dsoc ton/yr\"]           # national CO2 sink (ton/yr)\n",
    "\n",
    "EF_trans = 1.005/10000                        # ton CO2/km*ton (The average freight truck in the U.S. emits 161.8 grams of CO2 per ton-mile)\n",
    "process = LCA_model[!,\"process\"]\n",
    "countries = capacity[!,\"country\"]\n",
    "ncty = size(countries,1)                          # No. of countries\n",
    "nproc = size(process,1);                          # No. of processes \n",
    "\n",
    "mkt_loc = findfirst(isequal(\"United States\"), countries)\n",
    "mkt_proc = findfirst(isequal(\"battery\"), process)\n",
    "\n",
    "# seperate model\n",
    "cathode = collect(1:4)\n",
    "cell = collect(5:10)\n",
    "noncell = [12,13]\n",
    "battery = [11,14]\n",
    "scaler = LCA_model[!,\"scaler\"]\n",
    "penalty = 5; # ton/yr;"
   ]
  },
  {
   "cell_type": "code",
   "execution_count": 7,
   "id": "6c3013e5",
   "metadata": {},
   "outputs": [],
   "source": [
    "scen_eff = CSV.File(string(path,\"Scenarios/FeaEff_15.csv\"), header=1, delim=\",\") |> DataFrame\n",
    "scen_eff = Matrix(scen_eff)[:, 2:end]\n",
    "\n",
    "scen_d = CSV.File(string(path,\"Scenarios/FeaDmd_15.csv\"), header=1, delim=\",\") |> DataFrame\n",
    "scen_dmd = Matrix(scen_d)\n",
    "\n",
    "num_omega = size(scen_eff)[2]\n",
    "Omega = ones(Float64, ncty, num_omega, nproc)  # Omega[ncty,nscena,nproc]\n",
    "Omega[:, :, 1] = scen_eff;"
   ]
  },
  {
   "cell_type": "code",
   "execution_count": 9,
   "id": "0c2d2e97",
   "metadata": {},
   "outputs": [
    {
     "data": {
      "text/plain": [
       "30×16 Matrix{Any}:\n",
       " 1  0.946939  0.946939  0.522449  0.946939   …  0.587755  0.587755  1.0449\n",
       " 1  1.30063   1.26412   0.912721  1.26412       1.26412   0.271535  1.30063\n",
       " 1  1.54386   0.210526  0.701754  0.0701754     0.210526  0.140351  0.210526\n",
       " 1  0.0       0.0       1.0       0.0           0.0       0.0       0.0\n",
       " 1  1.25      0.519231  1.25      1.25          1.03846   0.519231  1.25\n",
       " 1  0.677804  0.21957   1.03103   1.33652    …  0.21957   0.21957   1.33652\n",
       " 1  1.0       1.0       1.0       1.0           1.0       1.0       1.0\n",
       " 1  1.0       1.0       1.0       1.0           1.0       1.0       1.0\n",
       " 1  1.0       1.0       1.0       1.0           1.0       1.0       1.0\n",
       " 1  1.0       1.0       1.0       1.0           1.0       1.0       1.0\n",
       " 1  1.0       1.0       1.0       1.0        …  1.0       1.0       1.0\n",
       " 1  1.0       1.0       1.0       1.0           1.0       1.0       1.0\n",
       " 1  1.0       1.0       1.0       1.0           1.0       1.0       1.0\n",
       " ⋮                                           ⋱                      ⋮\n",
       " 1  1.0       1.0       1.0       1.0           1.0       1.0       1.0\n",
       " 1  1.0       1.0       1.0       1.0           1.0       1.0       1.0\n",
       " 1  1.0       1.0       1.0       1.0        …  1.0       1.0       1.0\n",
       " 1  1.0       0.444444  0.888889  1.33333       1.33333   0.333333  0.333333\n",
       " 1  1.0       1.0       1.0       1.0           1.0       1.0       1.0\n",
       " 1  1.0       1.0       1.0       1.0           1.0       1.0       1.0\n",
       " 1  1.0       1.0       1.0       1.0           1.0       1.0       1.0\n",
       " 1  1.0       1.0       1.0       1.0        …  1.0       1.0       1.0\n",
       " 1  1.0       1.0       1.0       1.0           1.0       1.0       1.0\n",
       " 1  1.0       1.0       1.0       1.0           1.0       1.0       1.0\n",
       " 1  1.0       1.0       1.0       1.0           1.0       1.0       1.0\n",
       " 1  0.705882  0.705882  0.784314  0.627451      0.705882  0.313725  0.705882"
      ]
     },
     "execution_count": 9,
     "metadata": {},
     "output_type": "execute_result"
    }
   ],
   "source": [
    "scen_eff"
   ]
  },
  {
   "cell_type": "markdown",
   "id": "103e72e2",
   "metadata": {},
   "source": [
    "---"
   ]
  },
  {
   "cell_type": "code",
   "execution_count": 226,
   "id": "51c49922",
   "metadata": {},
   "outputs": [],
   "source": [
    "# [\"x[$i,$k]\" for k in cathode for i in 1:ncty]"
   ]
  },
  {
   "cell_type": "markdown",
   "id": "3573e90d",
   "metadata": {},
   "source": [
    "### Solve Subproblem - Get Dual $\\pi$ & $\\alpha$"
   ]
  },
  {
   "cell_type": "code",
   "execution_count": 227,
   "id": "551a9acc",
   "metadata": {},
   "outputs": [
    {
     "data": {
      "text/plain": [
       "subprob (generic function with 1 method)"
      ]
     },
     "execution_count": 227,
     "metadata": {},
     "output_type": "execute_result"
    }
   ],
   "source": [
    "function subprob(x_hat, s) # s represents specific scenario     \n",
    "    \n",
    "    model = Model(Gurobi.Optimizer)\n",
    "    set_silent(model)\n",
    "    @variable(model, y[1:ncty, 1:ncty, 1:nproc] >= 0)\n",
    "    @variable(model, unmeet >= 0)\n",
    "\n",
    "    cstr_op = [@constraint(model, sum(y[i,j,k] for j in 1:ncty) <= Omega[i,s,k] * x_hat[i,k]) for k in 1:nproc for i in 1:ncty]\n",
    "    cstr_cth = [@constraint(model, sum(y[i,j,k] for i in 1:ncty) == Omega[j,s,k] * x_hat[j,5]*scaler[k]) for k in cathode for j in 1:ncty]\n",
    "    cstr_cell = [@constraint(model, sum(y[i,j,k] for i in 1:ncty) == Omega[j,s,k] * x_hat[j,11]*scaler[k]) for k in cell for j in 1:ncty]\n",
    "    cstr_noncell = [@constraint(model, sum(y[i,j,k] for i in 1:ncty) == Omega[j,s,k] * x_hat[j,14]*scaler[k]) for k in noncell for j in 1:ncty]\n",
    "    cstr_battery = [@constraint(model, sum(y[i,j,k] for i in 1:ncty) == Omega[j,s,k] * x_hat[j,15]*scaler[k]) for k in battery for j in 1:ncty] \n",
    "    \n",
    "    cstr_fmk = [@constraint(model, sum(y[i,mkt_loc,mkt_proc] for i in 1:ncty) + unmeet == scen_dmd[s])]\n",
    "    cstr_fmko = [@constraint(model, sum(y[i,j,mkt_proc] for i in 1:ncty) == 0) for j in filter!(e->e!=mkt_loc,collect(1:ncty))]\n",
    "#     tmp = filter!(e->e!=mkt_loc,collect(1:ncty))\n",
    "#     for j in tmp\n",
    "#         @constraint(model, sum(y[i,j,mkt_proc] for i in 1:ncty) == 0);\n",
    "#     end\n",
    "    \n",
    "    \n",
    "    #######################   \n",
    "#     tranD = Vector{AffExpr}(undef, ncty)\n",
    "#     for j in 1:ncty\n",
    "#         arc_emi = 0\n",
    "#         arc_seq = 0\n",
    "#         for i in 1:ncty\n",
    "#             amount = sum(y[i,j,k] for k in 1:nproc)\n",
    "#             arc_emi += (amount * distance[!, 2:end][i,j] * EF_trans)\n",
    "#         end\n",
    "#         tranD[j] = arc_emi\n",
    "#     end\n",
    "    \n",
    "    \n",
    "    transD = Vector{AffExpr}(undef, ncty)\n",
    "    for j in 1:ncty\n",
    "        arc_emi = 0\n",
    "        for i in 1:ncty\n",
    "            amount = sum(y[i,j,k] for k in 1:nproc)\n",
    "            arc_emi += amount * distance[!, 2:end][i,j] * EF_trans\n",
    "        end\n",
    "        transD[j] = arc_emi  # ncty*1 matrix\n",
    "    end\n",
    "    \n",
    "    ####################### \n",
    "    @objective(model, Min, sum(tranD)+unmeet*penalty)\n",
    "    JuMP.optimize!(model)\n",
    "    \n",
    "    qy_hat = JuMP.objective_value(model)\n",
    "    sub_y = JuMP.value.(y)\n",
    "    sub_unmeet = JuMP.value.(unmeet)\n",
    "    \n",
    "    ####################### \n",
    "    dual_pi = zeros(ncty,nproc)\n",
    "    \n",
    "    op_pi = [getdual(con) for con in cstr_op]\n",
    "    cth_pi = [getdual(con) for con in cstr_cth]\n",
    "    cell_pi = [getdual(con) for con in cstr_cell]\n",
    "    noncell_pi = [getdual(con) for con in cstr_noncell]\n",
    "    battery_pi = [getdual(con) for con in cstr_battery]\n",
    "    fmk_alp = [getdual(con) for con in cstr_fmk]\n",
    "    fmko_alp = [getdual(con) for con in cstr_fmko]\n",
    "    \n",
    "    dual_pi[:,:] = reshape(op_pi, ncty, nproc) .* Omega[:,s,:]\n",
    "    dual_pi[:, cathode] = reshape(cth_pi, ncty, length(cathode)) .* Omega[:,s,cathode]\n",
    "    dual_pi[:, cell] = reshape(cell_pi, ncty, length(cell)) .* Omega[:,s,cell]\n",
    "    dual_pi[:, noncell] = reshape(noncell_pi, ncty, length(noncell)) .* Omega[:,s,noncell]\n",
    "    dual_pi[:, battery] = reshape(battery_pi, ncty, length(battery)) .* Omega[:,s,battery]\n",
    "    dual_alpha = sum(fmk_alp*(scen_dmd[s] - sub_unmeet)) + sum(fmko_alp * 0)\n",
    "\n",
    "    #######################\n",
    "    result = Dict([\"qyhat\"=>qy_hat, \"y_opt\"=>sub_y, \"unmeet_opt\"=>sub_unmeet, \"pi\"=>dual_pi, \"alp\"=>dual_alpha]);\n",
    "    return result\n",
    "    \n",
    "end"
   ]
  },
  {
   "cell_type": "code",
   "execution_count": 228,
   "id": "52051c95",
   "metadata": {},
   "outputs": [],
   "source": [
    "# test = zeros(2,3)\n",
    "# t1 = [1 2 3; 4 5 6]\n",
    "# test[:,:] = t1"
   ]
  },
  {
   "cell_type": "code",
   "execution_count": 229,
   "id": "dbc0c755",
   "metadata": {},
   "outputs": [
    {
     "data": {
      "text/plain": [
       "masterprob (generic function with 1 method)"
      ]
     },
     "execution_count": 229,
     "metadata": {},
     "output_type": "execute_result"
    }
   ],
   "source": [
    "function masterprob(cuts)\n",
    "    model = Model(Gurobi.Optimizer)\n",
    "    set_silent(model)\n",
    "    @variable(model, x[1:ncty, 1:nproc] >= 0)\n",
    "    @variable(model, theta >= M)\n",
    "    \n",
    "    for k in 1:nproc\n",
    "        for i in 1:ncty\n",
    "            @constraint(model, x[i,k] <= 0.8*capacity[!, 2:end][i,k])\n",
    "        end\n",
    "    end\n",
    "\n",
    "    x_cth = [@constraint(model, sum(x[i,k] for i in 1:ncty) == sum(x[i,5] for i in 1:ncty) * scaler[k]) for k in cathode]\n",
    "    x_cell = [@constraint(model, sum(x[i,k] for i in 1:ncty) == sum(x[i,11] for i in 1:ncty) * scaler[k]) for k in cell]\n",
    "    x_noncell = [@constraint(model, sum(x[i,k] for i in 1:ncty) == sum(x[i,14] for i in 1:ncty) * scaler[k]) for k in noncell]\n",
    "    x_battery = [@constraint(model, sum(x[i,k] for i in 1:ncty) == sum(x[i,15] for i in 1:ncty) * scaler[k]) for k in battery];\n",
    "    \n",
    "\n",
    "    ###########\n",
    "    proD = (x .* Matrix(regional_EF[:,2:end])) * ones(nproc,1) \n",
    "\n",
    "    pro_sink = zeros(ncty, nproc)\n",
    "    for k in 1:nproc\n",
    "        for i in 1:ncty\n",
    "            pro_sink[i,k] = regional_EF[i, k+1] * (sink_c[i]/emission_c[i] + es_ratio)\n",
    "        end\n",
    "    end\n",
    "    proS = (x.*pro_sink)*ones(nproc,1) \n",
    "    \n",
    "    \n",
    "    G = 0\n",
    "    g = 0\n",
    "    if cuts != []\n",
    "        for cut in cuts\n",
    "            G = cut[\"gradient\"]\n",
    "            g = cut[\"intersection\"]\n",
    "            @constraint(model, theta >= sum(x .* G) + g); \n",
    "        end\n",
    "    end\n",
    "    \n",
    "    \n",
    "    @objective(model, Min, sum(proD-proS)+theta)\n",
    "    JuMP.optimize!(model);\n",
    "    \n",
    "    x_hat = JuMP.value.(x)\n",
    "    theta_hat = JuMP.value.(theta)\n",
    "    z_lb = JuMP.objective_value(model)\n",
    "    \n",
    "    result = Dict([\"x_hat\"=>x_hat, \"z_lb\"=>z_lb])\n",
    "    return result\n",
    "end"
   ]
  },
  {
   "cell_type": "code",
   "execution_count": 230,
   "id": "0a50f159",
   "metadata": {},
   "outputs": [
    {
     "data": {
      "text/plain": [
       "add_cuts (generic function with 1 method)"
      ]
     },
     "execution_count": 230,
     "metadata": {},
     "output_type": "execute_result"
    }
   ],
   "source": [
    "function add_cuts(x)\n",
    "    G = [] # gradient\n",
    "    g = [] # intersection\n",
    "    qy = 0\n",
    "    \n",
    "    for s in 1:num_omega\n",
    "        res = subprob(x, s)        \n",
    "        push!(G, res[\"pi\"])   # gradient\n",
    "        push!(g, res[\"alp\"])  # intersection\n",
    "        qy += res[\"qyhat\"]\n",
    "    end\n",
    "    \n",
    "    proD = (x .* Matrix(regional_EF[:,2:end])) * ones(nproc,1) \n",
    "    pro_sink = zeros(ncty, nproc)\n",
    "    for k in 1:nproc\n",
    "        for i in 1:ncty\n",
    "            pro_sink[i,k] = regional_EF[i, k+1] * (sink_c[i]/emission_c[i] + es_ratio)\n",
    "        end\n",
    "    end\n",
    "    proS = (x.*pro_sink)*ones(nproc,1) \n",
    "    \n",
    "    \n",
    "    z_hat = sum(proD - proS) + qy/num_omega\n",
    "    Exp_G = sum(G) / num_omega\n",
    "    Exp_g = sum(g) / num_omega\n",
    "    \n",
    "    cut = Dict([\"gradient\"=>Exp_G, \"intersection\"=>Exp_g])\n",
    "    return cut, z_hat\n",
    "end"
   ]
  },
  {
   "cell_type": "code",
   "execution_count": 231,
   "id": "0e44c501",
   "metadata": {},
   "outputs": [
    {
     "data": {
      "text/plain": [
       "main (generic function with 1 method)"
      ]
     },
     "execution_count": 231,
     "metadata": {},
     "output_type": "execute_result"
    }
   ],
   "source": [
    "function main(toler)\n",
    "    i = 0\n",
    "    z_ub = 1e8\n",
    "    x_opt = 0\n",
    "    \n",
    "    cuts = []\n",
    "    res0 = masterprob(cuts)\n",
    "    x_hat = res0[\"x_hat\"]\n",
    "    z_lb = res0[\"z_lb\"]\n",
    "    \n",
    "    while (z_ub - z_lb) > toler * min(abs(z_ub), abs(z_lb))\n",
    "        new_cut, z_hat = add_cuts(x_hat)\n",
    "        \n",
    "        if z_hat < z_ub\n",
    "            z_ub = z_hat\n",
    "            x_opt = x_hat\n",
    "        end\n",
    "        \n",
    "        push!(cuts, new_cut)\n",
    "        \n",
    "        res1 = masterprob(cuts)\n",
    "        z_lb = res1[\"z_lb\"]\n",
    "        x_hat = res1[\"x_hat\"]\n",
    "        \n",
    "        i += 1\n",
    "    end\n",
    "    \n",
    "    result = Dict([\"z_lb\"=>z_lb, \"z_ub\"=>z_ub, \"x_opt\"=>x_opt, \"iteration\"=>i])\n",
    "    return result\n",
    "    \n",
    "end"
   ]
  },
  {
   "cell_type": "markdown",
   "id": "63be656f",
   "metadata": {},
   "source": [
    "-----"
   ]
  },
  {
   "cell_type": "code",
   "execution_count": 232,
   "id": "bc141bc6",
   "metadata": {},
   "outputs": [
    {
     "data": {
      "text/plain": [
       "0.01"
      ]
     },
     "execution_count": 232,
     "metadata": {},
     "output_type": "execute_result"
    }
   ],
   "source": [
    "M = -10000\n",
    "toler = 0.01"
   ]
  },
  {
   "cell_type": "code",
   "execution_count": 233,
   "id": "5027bd98",
   "metadata": {},
   "outputs": [
    {
     "name": "stdout",
     "output_type": "stream",
     "text": [
      "Academic license - for non-commercial use only - expires 2024-12-26\r\n"
     ]
    },
    {
     "data": {
      "text/plain": [
       "-1.4151397428710328e7"
      ]
     },
     "execution_count": 233,
     "metadata": {},
     "output_type": "execute_result"
    }
   ],
   "source": [
    "i = 0\n",
    "z_ub = 1e8\n",
    "x_opt = 0\n",
    "\n",
    "cuts = []\n",
    "res0 = masterprob(cuts)\n",
    "x_hat = res0[\"x_hat\"]\n",
    "z_lb = res0[\"z_lb\"]"
   ]
  },
  {
   "cell_type": "code",
   "execution_count": 235,
   "id": "300f90eb",
   "metadata": {},
   "outputs": [
    {
     "data": {
      "text/plain": [
       "(1.1415139742871033e8, 141513.97428710328)"
      ]
     },
     "execution_count": 235,
     "metadata": {},
     "output_type": "execute_result"
    }
   ],
   "source": [
    "z_ub - z_lb, toler * min(abs(z_ub), abs(z_lb))"
   ]
  },
  {
   "cell_type": "code",
   "execution_count": 243,
   "id": "96ff3a36",
   "metadata": {},
   "outputs": [
    {
     "name": "stdout",
     "output_type": "stream",
     "text": [
      "Academic license - for non-commercial use only - expires 2024-12-26\r\n"
     ]
    }
   ],
   "source": [
    "s = 1\n",
    "\n",
    "\n",
    "model = Model(Gurobi.Optimizer)\n",
    "@variable(model, y[1:ncty, 1:ncty, 1:nproc] >= 0)\n",
    "@variable(model, unmeet >= 0)\n",
    "\n",
    "cstr_op = [@constraint(model, sum(y[i,j,k] for j in 1:ncty) <= Omega[i,s,k] * x_hat[i,k]) for k in 1:nproc for i in 1:ncty]\n",
    "cstr_cth = [@constraint(model, sum(y[i,j,k] for i in 1:ncty) == Omega[j,s,k] * x_hat[j,5]*scaler[k]) for k in cathode for j in 1:ncty]\n",
    "cstr_cell = [@constraint(model, sum(y[i,j,k] for i in 1:ncty) == Omega[j,s,k] * x_hat[j,11]*scaler[k]) for k in cell for j in 1:ncty]\n",
    "cstr_noncell = [@constraint(model, sum(y[i,j,k] for i in 1:ncty) == Omega[j,s,k] * x_hat[j,14]*scaler[k]) for k in noncell for j in 1:ncty]\n",
    "cstr_battery = [@constraint(model, sum(y[i,j,k] for i in 1:ncty) == Omega[j,s,k] * x_hat[j,15]*scaler[k]) for k in battery for j in 1:ncty] \n",
    "\n",
    "cstr_fmk = [@constraint(model, sum(y[i,mkt_loc,mkt_proc] for i in 1:ncty) + unmeet == scen_dmd[s])]\n",
    "cstr_fmko = [@constraint(model, sum(y[i,j,mkt_proc] for i in 1:ncty) == 0) for j in filter!(e->e!=mkt_loc,collect(1:ncty))]\n",
    "\n",
    "transD = Vector{AffExpr}(undef, ncty)\n",
    "for j in 1:ncty\n",
    "    arc_emi = 0\n",
    "    for i in 1:ncty\n",
    "        amount = sum(y[i,j,k] for k in 1:nproc)\n",
    "        arc_emi += amount * distance[!, 2:end][i,j] * EF_trans\n",
    "    end\n",
    "    transD[j] = arc_emi  # ncty*1 matrix\n",
    "end\n",
    "\n",
    "# ####################### \n",
    "# @objective(model, Min, sum(tranD)+unmeet*penalty)\n",
    "# JuMP.optimize!(model)"
   ]
  },
  {
   "cell_type": "code",
   "execution_count": 218,
   "id": "1e739106",
   "metadata": {},
   "outputs": [
    {
     "name": "stdout",
     "output_type": "stream",
     "text": [
      "Academic license - for non-commercial use only - expires 2024-12-26\r\n",
      "Academic license - for non-commercial use only - expires 2024-12-26\r\n",
      "Academic license - for non-commercial use only - expires 2024-12-26\r\n",
      "Academic license - for non-commercial use only - expires 2024-12-26\r\n",
      "Academic license - for non-commercial use only - expires 2024-12-26\r\n",
      "Academic license - for non-commercial use only - expires 2024-12-26\r\n",
      "Academic license - for non-commercial use only - expires 2024-12-26\r\n",
      "Academic license - for non-commercial use only - expires 2024-12-26\r\n",
      "Academic license - for non-commercial use only - expires 2024-12-26\r\n",
      "Academic license - for non-commercial use only - expires 2024-12-26\r\n",
      "Academic license - for non-commercial use only - expires 2024-12-26\r\n",
      "Academic license - for non-commercial use only - expires 2024-12-26\r\n",
      "Academic license - for non-commercial use only - expires 2024-12-26\r\n",
      "Academic license - for non-commercial use only - expires 2024-12-26\r\n",
      "Academic license - for non-commercial use only - expires 2024-12-26\r\n"
     ]
    },
    {
     "data": {
      "text/plain": [
       "(Dict{String, Any}(\"gradient\" => [0.0 0.0 … 0.0 0.0; 0.0 0.0 … 0.0 0.0; … ; 0.0 0.0 … 0.0 0.0; 1.6271430209522355 1.6271430209522355 … 0.7264844783408562 0.0], \"intersection\" => 0.0), -1.276172716115965e7)"
      ]
     },
     "execution_count": 218,
     "metadata": {},
     "output_type": "execute_result"
    }
   ],
   "source": [
    "new_cut, z_hat = add_cuts(x_hat)"
   ]
  },
  {
   "cell_type": "code",
   "execution_count": 219,
   "id": "d6c57e16",
   "metadata": {},
   "outputs": [
    {
     "data": {
      "text/plain": [
       "30×15 Matrix{Float64}:\n",
       "  4960.0       0.0  0.0            0.0  …       0.0             0.0\n",
       " 48800.0    5600.0  0.0            0.0          0.0             0.0\n",
       "  1760.0       0.0  1.41048e5  53600.0          0.0             0.0\n",
       "   400.0    2480.0  0.0        90960.2          0.0             0.0\n",
       " 31200.0       0.0  0.0            0.0     800000.0             0.0\n",
       " 15168.9    1760.0  0.0            0.0  …       0.0             0.0\n",
       "     0.0       0.0  0.0            0.0          0.0             0.0\n",
       "     0.0  116000.0  0.0            0.0          0.0             0.0\n",
       "     0.0     867.2  0.0            0.0          0.0             0.0\n",
       "     0.0       0.0  0.0            0.0          0.0             0.0\n",
       "     0.0       0.0  0.0            0.0  …       0.0             1.41156e5\n",
       "     0.0       0.0  0.0            0.0          0.0             0.0\n",
       "     0.0    7563.2  0.0            0.0          0.0             0.0\n",
       "     ⋮                                  ⋱                  \n",
       "     0.0       0.0  0.0            0.0          1.41156e5       0.0\n",
       "     0.0       0.0  0.0            0.0          0.0             0.0\n",
       "     0.0    4320.0  0.0            0.0  …       0.0             0.0\n",
       "   480.0       0.0  0.0            0.0          0.0             0.0\n",
       "     0.0    2800.0  0.0            0.0          0.0             0.0\n",
       "     0.0       0.0  0.0            0.0          0.0             0.0\n",
       "     0.0       0.0  0.0            0.0          0.0             0.0\n",
       "     0.0       0.0  0.0            0.0  …       0.0             0.0\n",
       "     0.0    1840.0  0.0            0.0          0.0             0.0\n",
       "     0.0       0.0  0.0            0.0          0.0             0.0\n",
       "     0.0       0.0  0.0            0.0          0.0             0.0\n",
       "   720.0       0.0  0.0            0.0          0.0        800000.0"
      ]
     },
     "execution_count": 219,
     "metadata": {},
     "output_type": "execute_result"
    }
   ],
   "source": [
    "if z_hat < z_ub\n",
    "    z_ub = z_hat\n",
    "    x_opt = x_hat;\n",
    "end"
   ]
  },
  {
   "cell_type": "code",
   "execution_count": 220,
   "id": "846abbb3",
   "metadata": {},
   "outputs": [
    {
     "data": {
      "text/plain": [
       "-1.276172716115965e7"
      ]
     },
     "execution_count": 220,
     "metadata": {},
     "output_type": "execute_result"
    }
   ],
   "source": [
    "z_hat"
   ]
  },
  {
   "cell_type": "code",
   "execution_count": 115,
   "id": "a3f37b2a",
   "metadata": {},
   "outputs": [
    {
     "data": {
      "text/plain": [
       "1-element Vector{Any}:\n",
       " Dict{String, Any}(\"gradient\" => [0.0 0.0 … 0.0 0.0; 0.0 0.0 … 0.0 0.0; … ; 0.0 0.0 … 0.0 0.0; 0.9662566550445021 1.6271430209522355 … 0.7264844783408562 -0.09342476808293014], \"intersection\" => 59324.72773266064)"
      ]
     },
     "execution_count": 115,
     "metadata": {},
     "output_type": "execute_result"
    }
   ],
   "source": [
    "push!(cuts, new_cut)"
   ]
  },
  {
   "cell_type": "code",
   "execution_count": 116,
   "id": "e882b387",
   "metadata": {},
   "outputs": [
    {
     "name": "stdout",
     "output_type": "stream",
     "text": [
      "Academic license - for non-commercial use only - expires 2024-12-26\r\n"
     ]
    }
   ],
   "source": [
    "res1 = masterprob(cuts)\n",
    "z_lb = res1[\"z_lb\"]\n",
    "x_hat = res1[\"x_hat\"];"
   ]
  },
  {
   "cell_type": "code",
   "execution_count": 126,
   "id": "a65c051d",
   "metadata": {},
   "outputs": [
    {
     "name": "stdout",
     "output_type": "stream",
     "text": [
      "Academic license - for non-commercial use only - expires 2024-12-26\r\n",
      "Academic license - for non-commercial use only - expires 2024-12-26\r\n",
      "Academic license - for non-commercial use only - expires 2024-12-26\r\n",
      "Academic license - for non-commercial use only - expires 2024-12-26\r\n",
      "Academic license - for non-commercial use only - expires 2024-12-26\r\n",
      "Academic license - for non-commercial use only - expires 2024-12-26\r\n",
      "Academic license - for non-commercial use only - expires 2024-12-26\r\n",
      "Academic license - for non-commercial use only - expires 2024-12-26\r\n",
      "Academic license - for non-commercial use only - expires 2024-12-26\r\n",
      "Academic license - for non-commercial use only - expires 2024-12-26\r\n",
      "Academic license - for non-commercial use only - expires 2024-12-26\r\n",
      "Academic license - for non-commercial use only - expires 2024-12-26\r\n",
      "Academic license - for non-commercial use only - expires 2024-12-26\r\n",
      "Academic license - for non-commercial use only - expires 2024-12-26\r\n",
      "Academic license - for non-commercial use only - expires 2024-12-26\r\n"
     ]
    },
    {
     "data": {
      "text/plain": [
       "(Dict{String, Any}(\"gradient\" => [0.0 0.0 … 0.0 0.0; 0.0 0.0 … 0.0 0.0; … ; 0.0 0.0 … 0.0 0.0; 0.9662566550445021 1.6271430209522355 … 0.7264844783408562 -0.09342476808293014], \"intersection\" => 59324.72773266064), -9.605830880721424e6)"
      ]
     },
     "execution_count": 126,
     "metadata": {},
     "output_type": "execute_result"
    }
   ],
   "source": [
    "new_cut, z_hat = add_cuts(x_hat)"
   ]
  },
  {
   "cell_type": "code",
   "execution_count": 131,
   "id": "7136b8d1",
   "metadata": {},
   "outputs": [
    {
     "name": "stdout",
     "output_type": "stream",
     "text": [
      "Academic license - for non-commercial use only - expires 2024-12-26\r\n",
      "Academic license - for non-commercial use only - expires 2024-12-26\r\n",
      "Academic license - for non-commercial use only - expires 2024-12-26\r\n",
      "Academic license - for non-commercial use only - expires 2024-12-26\r\n",
      "Academic license - for non-commercial use only - expires 2024-12-26\r\n",
      "Academic license - for non-commercial use only - expires 2024-12-26\r\n",
      "Academic license - for non-commercial use only - expires 2024-12-26\r\n",
      "Academic license - for non-commercial use only - expires 2024-12-26\r\n",
      "Academic license - for non-commercial use only - expires 2024-12-26\r\n",
      "Academic license - for non-commercial use only - expires 2024-12-26\r\n",
      "Academic license - for non-commercial use only - expires 2024-12-26\r\n",
      "Academic license - for non-commercial use only - expires 2024-12-26\r\n",
      "Academic license - for non-commercial use only - expires 2024-12-26\r\n",
      "Academic license - for non-commercial use only - expires 2024-12-26\r\n",
      "Academic license - for non-commercial use only - expires 2024-12-26\r\n"
     ]
    }
   ],
   "source": [
    "G = [] # gradient\n",
    "g = [] # intersection\n",
    "qy = 0\n",
    "\n",
    "for s in 1:num_omega\n",
    "    res = subprob(x_hat, s)        \n",
    "    push!(G, res[\"pi\"])   # gradient\n",
    "    push!(g, res[\"alp\"])  # intersection\n",
    "    qy += res[\"qyhat\"]\n",
    "end"
   ]
  },
  {
   "cell_type": "code",
   "execution_count": 158,
   "id": "71cce11c",
   "metadata": {},
   "outputs": [
    {
     "data": {
      "text/plain": [
       "10"
      ]
     },
     "execution_count": 158,
     "metadata": {},
     "output_type": "execute_result"
    }
   ],
   "source": [
    "s = 10"
   ]
  },
  {
   "cell_type": "code",
   "execution_count": 159,
   "id": "23a12aeb",
   "metadata": {},
   "outputs": [
    {
     "name": "stdout",
     "output_type": "stream",
     "text": [
      "Academic license - for non-commercial use only - expires 2024-12-26\r\n",
      "Academic license - for non-commercial use only - expires 2024-12-26\r\n"
     ]
    },
    {
     "data": {
      "text/plain": [
       "Dict{String, Any} with 5 entries:\n",
       "  \"unmeet_opt\" => 0.0\n",
       "  \"y_opt\"      => [0.0 0.0 … 0.0 2186.45; 0.0 0.0 … 0.0 1619.55; … ; 0.0 0.0 … …\n",
       "  \"alp\"        => 0.0\n",
       "  \"pi\"         => [0.0 0.0 … 0.0 0.0; 0.0 0.0 … 0.0 0.0; … ; 0.0 0.0 … 0.0 0.0;…\n",
       "  \"qyhat\"      => 9.64652e5"
      ]
     },
     "execution_count": 159,
     "metadata": {},
     "output_type": "execute_result"
    }
   ],
   "source": [
    "r1 = subprob(xhat1, s)\n",
    "r2 = subprob(xhat2, s)"
   ]
  },
  {
   "cell_type": "code",
   "execution_count": 160,
   "id": "04062e06",
   "metadata": {},
   "outputs": [
    {
     "data": {
      "text/plain": [
       "true"
      ]
     },
     "execution_count": 160,
     "metadata": {},
     "output_type": "execute_result"
    }
   ],
   "source": [
    "r1[\"unmeet_opt\"] == r2[\"unmeet_opt\"]"
   ]
  },
  {
   "cell_type": "code",
   "execution_count": 161,
   "id": "5ccce50e",
   "metadata": {},
   "outputs": [
    {
     "data": {
      "text/plain": [
       "false"
      ]
     },
     "execution_count": 161,
     "metadata": {},
     "output_type": "execute_result"
    }
   ],
   "source": [
    "r1[\"y_opt\"] == r2[\"y_opt\"]"
   ]
  },
  {
   "cell_type": "code",
   "execution_count": 162,
   "id": "e67c2f3d",
   "metadata": {},
   "outputs": [
    {
     "data": {
      "text/plain": [
       "true"
      ]
     },
     "execution_count": 162,
     "metadata": {},
     "output_type": "execute_result"
    }
   ],
   "source": [
    "r1[\"alp\"] == r2[\"alp\"]"
   ]
  },
  {
   "cell_type": "code",
   "execution_count": 163,
   "id": "d454828a",
   "metadata": {},
   "outputs": [
    {
     "data": {
      "text/plain": [
       "true"
      ]
     },
     "execution_count": 163,
     "metadata": {},
     "output_type": "execute_result"
    }
   ],
   "source": [
    "r1[\"pi\"] == r2[\"pi\"]"
   ]
  },
  {
   "cell_type": "code",
   "execution_count": 164,
   "id": "c17e8b1d",
   "metadata": {},
   "outputs": [
    {
     "data": {
      "text/plain": [
       "false"
      ]
     },
     "execution_count": 164,
     "metadata": {},
     "output_type": "execute_result"
    }
   ],
   "source": [
    "r1[\"qyhat\"] == r2[\"qyhat\"]"
   ]
  },
  {
   "cell_type": "code",
   "execution_count": null,
   "id": "5f9c9049",
   "metadata": {},
   "outputs": [],
   "source": []
  },
  {
   "cell_type": "code",
   "execution_count": null,
   "id": "403aa166",
   "metadata": {},
   "outputs": [],
   "source": []
  },
  {
   "cell_type": "code",
   "execution_count": null,
   "id": "f4dd647f",
   "metadata": {},
   "outputs": [],
   "source": []
  },
  {
   "cell_type": "code",
   "execution_count": null,
   "id": "7b924a83",
   "metadata": {},
   "outputs": [],
   "source": []
  },
  {
   "cell_type": "code",
   "execution_count": null,
   "id": "d9755780",
   "metadata": {},
   "outputs": [],
   "source": []
  },
  {
   "cell_type": "code",
   "execution_count": null,
   "id": "840503b2",
   "metadata": {},
   "outputs": [],
   "source": []
  },
  {
   "cell_type": "code",
   "execution_count": null,
   "id": "3c93dcb6",
   "metadata": {},
   "outputs": [],
   "source": []
  },
  {
   "cell_type": "code",
   "execution_count": null,
   "id": "a5ee22f5",
   "metadata": {},
   "outputs": [],
   "source": []
  },
  {
   "cell_type": "code",
   "execution_count": null,
   "id": "9a982f67",
   "metadata": {},
   "outputs": [],
   "source": []
  },
  {
   "cell_type": "code",
   "execution_count": null,
   "id": "083a4820",
   "metadata": {},
   "outputs": [],
   "source": []
  },
  {
   "cell_type": "code",
   "execution_count": null,
   "id": "2bcd86ee",
   "metadata": {},
   "outputs": [],
   "source": []
  },
  {
   "cell_type": "code",
   "execution_count": null,
   "id": "7eda6311",
   "metadata": {},
   "outputs": [],
   "source": []
  },
  {
   "cell_type": "code",
   "execution_count": null,
   "id": "7c2159c9",
   "metadata": {},
   "outputs": [],
   "source": []
  },
  {
   "cell_type": "code",
   "execution_count": null,
   "id": "96746004",
   "metadata": {},
   "outputs": [],
   "source": []
  },
  {
   "cell_type": "code",
   "execution_count": null,
   "id": "b02592e9",
   "metadata": {},
   "outputs": [],
   "source": []
  },
  {
   "cell_type": "code",
   "execution_count": null,
   "id": "d13feea9",
   "metadata": {},
   "outputs": [],
   "source": []
  },
  {
   "cell_type": "code",
   "execution_count": null,
   "id": "2c26974a",
   "metadata": {},
   "outputs": [],
   "source": []
  },
  {
   "cell_type": "code",
   "execution_count": null,
   "id": "056429c2",
   "metadata": {},
   "outputs": [],
   "source": []
  },
  {
   "cell_type": "markdown",
   "id": "f7a47c54",
   "metadata": {},
   "source": [
    "-----"
   ]
  },
  {
   "cell_type": "code",
   "execution_count": 46,
   "id": "83387c1e",
   "metadata": {},
   "outputs": [
    {
     "data": {
      "text/plain": [
       "1"
      ]
     },
     "execution_count": 46,
     "metadata": {},
     "output_type": "execute_result"
    }
   ],
   "source": [
    "s = 1"
   ]
  },
  {
   "cell_type": "code",
   "execution_count": 47,
   "id": "b8d679a7",
   "metadata": {},
   "outputs": [
    {
     "name": "stdout",
     "output_type": "stream",
     "text": [
      "Academic license - for non-commercial use only - expires 2024-12-26\r\n"
     ]
    }
   ],
   "source": [
    "model = Model(Gurobi.Optimizer)\n",
    "@variable(model, y[1:ncty, 1:ncty, 1:nproc] >= 0)\n",
    "@variable(model, unmeet >= 0)\n",
    "\n",
    "cstr_op = [@constraint(model, sum(y[i,j,k] for j in 1:ncty) <= Omega[i,s,k] * x_hat[i,k]) for k in 1:nproc for i in 1:ncty]\n",
    "cstr_cth = [@constraint(model, sum(y[i,j,k] for i in 1:ncty) == Omega[j,s,k] * x_hat[j,5]*scaler[k]) for k in cathode for j in 1:ncty]\n",
    "cstr_cell = [@constraint(model, sum(y[i,j,k] for i in 1:ncty) == Omega[j,s,k] * x_hat[j,11]*scaler[k]) for k in cell for j in 1:ncty]\n",
    "cstr_noncell = [@constraint(model, sum(y[i,j,k] for i in 1:ncty) == Omega[j,s,k] * x_hat[j,14]*scaler[k]) for k in noncell for j in 1:ncty]\n",
    "cstr_battery = [@constraint(model, sum(y[i,j,k] for i in 1:ncty) == Omega[j,s,k] * x_hat[j,15]*scaler[k]) for k in battery for j in 1:ncty] \n",
    "@constraint(model, sum(y[i,mkt_loc,mkt_proc] for i in 1:ncty) == scen_dmd[s])\n",
    "tmp = filter!(e->e!=mkt_loc,collect(1:ncty))\n",
    "for j in tmp\n",
    "    @constraint(model, sum(y[i,j,mkt_proc] for i in 1:ncty) == 0);\n",
    "end"
   ]
  },
  {
   "cell_type": "code",
   "execution_count": 48,
   "id": "3ec37fa4",
   "metadata": {},
   "outputs": [
    {
     "name": "stdout",
     "output_type": "stream",
     "text": [
      "Gurobi Optimizer version 9.1.2 build v9.1.2rc0 (win64)\r\n",
      "Thread count: 6 physical cores, 12 logical processors, using up to 12 threads\r\n",
      "Optimize a model with 900 rows, 13501 columns and 27000 nonzeros\r\n",
      "Model fingerprint: 0x77656bce\r\n",
      "Coefficient statistics:\r\n",
      "  Matrix range     [1e+00, 1e+00]\r\n",
      "  Objective range  [7e-02, 5e+00]\r\n",
      "  Bounds range     [0e+00, 0e+00]\r\n",
      "  RHS range        [2e+02, 6e+05]\r\n",
      "Presolve removed 900 rows and 13501 columns\r\n",
      "Presolve time: 0.01s\r\n",
      "Presolve: All rows and columns removed\r\n",
      "Iteration    Objective       Primal Inf.    Dual Inf.      Time\r\n",
      "       0    9.9569960e+05   0.000000e+00   0.000000e+00      0s\r\n",
      "\r\n",
      "Solved in 0 iterations and 0.01 seconds\r\n",
      "Optimal objective  9.956996027e+05\r\n",
      "\r\n",
      "User-callback calls 36, time in user-callback 0.00 sec\r\n"
     ]
    }
   ],
   "source": [
    "tranD = Vector{AffExpr}(undef, ncty)\n",
    "for j in 1:ncty\n",
    "    arc_emi = 0\n",
    "    arc_seq = 0\n",
    "    for i in 1:ncty\n",
    "        amount = sum(y[i,j,k] for k in 1:nproc)\n",
    "        arc_emi += (amount * distance[!, 2:end][i,j] * EF_trans)\n",
    "    end\n",
    "    tranD[j] = arc_emi\n",
    "end\n",
    "\n",
    "\n",
    "@objective(model, Min, sum(tranD)+unmeet*penalty)\n",
    "JuMP.optimize!(model)"
   ]
  },
  {
   "cell_type": "code",
   "execution_count": 49,
   "id": "bfe0db8d",
   "metadata": {},
   "outputs": [],
   "source": [
    "sub_y = JuMP.value.(y);"
   ]
  },
  {
   "cell_type": "code",
   "execution_count": 50,
   "id": "8ab11d6f",
   "metadata": {},
   "outputs": [
    {
     "data": {
      "text/plain": [
       "30×15 Matrix{Float64}:\n",
       "  3720.0      0.0  0.0            0.0  …       0.0             0.0\n",
       " 36600.0   4200.0  0.0            0.0          0.0             0.0\n",
       "  1320.0      0.0  1.05786e5  40200.0          0.0             0.0\n",
       "   300.0   1860.0  0.0        68220.1          0.0             0.0\n",
       " 23400.0      0.0  0.0            0.0     600000.0             0.0\n",
       " 11376.7   1320.0  0.0            0.0  …       0.0             0.0\n",
       "     0.0      0.0  0.0            0.0          0.0             0.0\n",
       "     0.0  87000.0  0.0            0.0          0.0             0.0\n",
       "     0.0    650.4  0.0            0.0          0.0             0.0\n",
       "     0.0      0.0  0.0            0.0          0.0             0.0\n",
       "     0.0      0.0  0.0            0.0  …       0.0             1.05867e5\n",
       "     0.0      0.0  0.0            0.0          0.0             0.0\n",
       "     0.0   5672.4  0.0            0.0          0.0             0.0\n",
       "     ⋮                                 ⋱                  \n",
       "     0.0      0.0  0.0            0.0          1.05867e5       0.0\n",
       "     0.0      0.0  0.0            0.0          0.0             0.0\n",
       "     0.0   3240.0  0.0            0.0  …       0.0             0.0\n",
       "   360.0      0.0  0.0            0.0          0.0             0.0\n",
       "     0.0   2100.0  0.0            0.0          0.0             0.0\n",
       "     0.0      0.0  0.0            0.0          0.0             0.0\n",
       "     0.0      0.0  0.0            0.0          0.0             0.0\n",
       "     0.0      0.0  0.0            0.0  …       0.0             0.0\n",
       "     0.0   1380.0  0.0            0.0          0.0             0.0\n",
       "     0.0      0.0  0.0            0.0          0.0             0.0\n",
       "     0.0      0.0  0.0            0.0          0.0             0.0\n",
       "   540.0      0.0  0.0            0.0          0.0        600000.0"
      ]
     },
     "execution_count": 50,
     "metadata": {},
     "output_type": "execute_result"
    }
   ],
   "source": [
    "x_hat"
   ]
  },
  {
   "cell_type": "code",
   "execution_count": null,
   "id": "83e6b5ca",
   "metadata": {},
   "outputs": [],
   "source": []
  },
  {
   "cell_type": "code",
   "execution_count": 176,
   "id": "d4c3bc51",
   "metadata": {},
   "outputs": [
    {
     "name": "stdout",
     "output_type": "stream",
     "text": [
      "Academic license - for non-commercial use only - expires 2024-12-26\r\n",
      "Gurobi Optimizer version 9.1.2 build v9.1.2rc0 (win64)\r\n",
      "Thread count: 6 physical cores, 12 logical processors, using up to 12 threads\r\n",
      "Optimize a model with 900 rows, 13501 columns and 27001 nonzeros\r\n",
      "Model fingerprint: 0x7e5ea06d\r\n",
      "Coefficient statistics:\r\n",
      "  Matrix range     [1e+00, 1e+00]\r\n",
      "  Objective range  [7e-02, 5e+00]\r\n",
      "  Bounds range     [0e+00, 0e+00]\r\n",
      "  RHS range        [2e+02, 6e+05]\r\n",
      "Presolve removed 900 rows and 13501 columns\r\n",
      "Presolve time: 0.00s\r\n",
      "Presolve: All rows and columns removed\r\n",
      "Iteration    Objective       Primal Inf.    Dual Inf.      Time\r\n",
      "       0    9.6465484e+05   0.000000e+00   0.000000e+00      0s\r\n",
      "\r\n",
      "Solved in 0 iterations and 0.00 seconds\r\n",
      "Optimal objective  9.646548399e+05\r\n",
      "\r\n",
      "User-callback calls 36, time in user-callback 0.00 sec\r\n"
     ]
    }
   ],
   "source": [
    "x_hat = xhat1\n",
    "\n",
    "model = Model(Gurobi.Optimizer)\n",
    "@variable(model, y[1:ncty, 1:ncty, 1:nproc] >= 0)\n",
    "@variable(model, unmeet >= 0)\n",
    "\n",
    "cstr_op = [@constraint(model, sum(y[i,j,k] for j in 1:ncty) <= Omega[i,s,k] * x_hat[i,k]) for k in 1:nproc for i in 1:ncty]\n",
    "cstr_cth = [@constraint(model, sum(y[i,j,k] for i in 1:ncty) == Omega[j,s,k] * x_hat[j,5]*scaler[k]) for k in cathode for j in 1:ncty]\n",
    "cstr_cell = [@constraint(model, sum(y[i,j,k] for i in 1:ncty) == Omega[j,s,k] * x_hat[j,11]*scaler[k]) for k in cell for j in 1:ncty]\n",
    "cstr_noncell = [@constraint(model, sum(y[i,j,k] for i in 1:ncty) == Omega[j,s,k] * x_hat[j,14]*scaler[k]) for k in noncell for j in 1:ncty]\n",
    "cstr_battery = [@constraint(model, sum(y[i,j,k] for i in 1:ncty) == Omega[j,s,k] * x_hat[j,15]*scaler[k]) for k in battery for j in 1:ncty] \n",
    "\n",
    "cstr_fmk = [@constraint(model, sum(y[i,mkt_loc,mkt_proc] for i in 1:ncty) + unmeet == scen_dmd[s])]\n",
    "cstr_fmko = [@constraint(model, sum(y[i,j,mkt_proc] for i in 1:ncty) == 0) for j in filter!(e->e!=mkt_loc,collect(1:ncty))]\n",
    "\n",
    "\n",
    "#######################   \n",
    "tranD = Vector{AffExpr}(undef, ncty)\n",
    "for j in 1:ncty\n",
    "    arc_emi = 0\n",
    "    arc_seq = 0\n",
    "    for i in 1:ncty\n",
    "        amount = sum(y[i,j,k] for k in 1:nproc)\n",
    "        arc_emi += (amount * distance[!, 2:end][i,j] * EF_trans)\n",
    "    end\n",
    "    tranD[j] = arc_emi\n",
    "end\n",
    "\n",
    "####################### \n",
    "@objective(model, Min, sum(tranD)+unmeet*penalty)\n",
    "JuMP.optimize!(model)\n",
    "\n",
    "qy_hat = JuMP.objective_value(model)\n",
    "sub_y = JuMP.value.(y)\n",
    "sub_unmeet = JuMP.value.(unmeet);\n"
   ]
  },
  {
   "cell_type": "code",
   "execution_count": 166,
   "id": "62ef6dc6",
   "metadata": {},
   "outputs": [
    {
     "data": {
      "text/plain": [
       "450-element Vector{Float64}:\n",
       " -0.6103064868659767\n",
       "  0.0\n",
       " -1.0203275186877354\n",
       " -0.7617255934395452\n",
       " -0.9006585426113785\n",
       " -0.9510132289004626\n",
       " -0.5973851603180549\n",
       " -0.6952182101935795\n",
       " -0.8659754626717302\n",
       " -1.0501825610470168\n",
       " -0.9264572603302588\n",
       " -1.2799913845815944\n",
       " -1.5145085322032037\n",
       "  ⋮\n",
       "  0.0\n",
       "  0.0\n",
       "  0.0\n",
       "  0.0\n",
       "  0.0\n",
       "  0.0\n",
       "  0.0\n",
       "  0.0\n",
       "  0.0\n",
       "  0.0\n",
       "  0.0\n",
       "  0.0"
      ]
     },
     "execution_count": 166,
     "metadata": {},
     "output_type": "execute_result"
    }
   ],
   "source": [
    "op_pi = [getdual(con) for con in cstr_op]"
   ]
  },
  {
   "cell_type": "code",
   "execution_count": null,
   "id": "aab623cc",
   "metadata": {},
   "outputs": [],
   "source": [
    "dual_pi = zeros(ncty,nproc)\n",
    "\n",
    "op_pi = [getdual(con) for con in cstr_op]\n",
    "cth_pi = [getdual(con) for con in cstr_cth]\n",
    "cell_pi = [getdual(con) for con in cstr_cell]\n",
    "noncell_pi = [getdual(con) for con in cstr_noncell]\n",
    "battery_pi = [getdual(con) for con in cstr_battery]\n",
    "fmk_alp = [getdual(con) for con in cstr_fmk]\n",
    "fmko_alp = [getdual(con) for con in cstr_fmko]\n",
    "\n",
    "dual_pi[:,:] = reshape(op_pi, ncty, nproc) .* Omega[:,s,:]\n",
    "dual_pi[:, cathode] = reshape(cth_pi, ncty, length(cathode)) .* Omega[:,s,cathode]\n",
    "dual_pi[:, cell] = reshape(cell_pi, ncty, length(cell)) .* Omega[:,s,cell]\n",
    "dual_pi[:, noncell] = reshape(noncell_pi, ncty, length(noncell)) .* Omega[:,s,noncell]\n",
    "dual_pi[:, battery] = reshape(battery_pi, ncty, length(battery)) .* Omega[:,s,battery]\n",
    "dual_alpha = sum(fmk_alp*(scen_dmd[s] - sub_unmeet)) + sum(fmko_alp * 0)"
   ]
  },
  {
   "cell_type": "code",
   "execution_count": null,
   "id": "d08c656f",
   "metadata": {},
   "outputs": [],
   "source": []
  },
  {
   "cell_type": "code",
   "execution_count": null,
   "id": "a153131e",
   "metadata": {},
   "outputs": [],
   "source": []
  },
  {
   "cell_type": "code",
   "execution_count": 175,
   "id": "8b8b61f6",
   "metadata": {},
   "outputs": [
    {
     "name": "stdout",
     "output_type": "stream",
     "text": [
      "Academic license - for non-commercial use only - expires 2024-12-26\r\n",
      "Gurobi Optimizer version 9.1.2 build v9.1.2rc0 (win64)\r\n",
      "Thread count: 6 physical cores, 12 logical processors, using up to 12 threads\r\n",
      "Optimize a model with 900 rows, 13501 columns and 27001 nonzeros\r\n",
      "Model fingerprint: 0xf168361c\r\n",
      "Coefficient statistics:\r\n",
      "  Matrix range     [1e+00, 1e+00]\r\n",
      "  Objective range  [7e-02, 5e+00]\r\n",
      "  Bounds range     [0e+00, 0e+00]\r\n",
      "  RHS range        [2e+02, 6e+05]\r\n",
      "Presolve removed 900 rows and 13501 columns\r\n",
      "Presolve time: 0.00s\r\n",
      "Presolve: All rows and columns removed\r\n",
      "Iteration    Objective       Primal Inf.    Dual Inf.      Time\r\n",
      "       0    9.6465171e+05   0.000000e+00   0.000000e+00      0s\r\n",
      "\r\n",
      "Solved in 0 iterations and 0.01 seconds\r\n",
      "Optimal objective  9.646517101e+05\r\n",
      "\r\n",
      "User-callback calls 36, time in user-callback 0.00 sec\r\n"
     ]
    }
   ],
   "source": [
    "x_hat = xhat2\n",
    "\n",
    "model2 = Model(Gurobi.Optimizer)\n",
    "@variable(model2, y[1:ncty, 1:ncty, 1:nproc] >= 0)\n",
    "@variable(model2, unmeet >= 0)\n",
    "\n",
    "cstr_op2 = [@constraint(model2, sum(y[i,j,k] for j in 1:ncty) <= Omega[i,s,k] * x_hat[i,k]) for k in 1:nproc for i in 1:ncty]\n",
    "cstr_cth2 = [@constraint(model2, sum(y[i,j,k] for i in 1:ncty) == Omega[j,s,k] * x_hat[j,5]*scaler[k]) for k in cathode for j in 1:ncty]\n",
    "cstr_cell2 = [@constraint(model2, sum(y[i,j,k] for i in 1:ncty) == Omega[j,s,k] * x_hat[j,11]*scaler[k]) for k in cell for j in 1:ncty]\n",
    "cstr_noncell2 = [@constraint(model2, sum(y[i,j,k] for i in 1:ncty) == Omega[j,s,k] * x_hat[j,14]*scaler[k]) for k in noncell for j in 1:ncty]\n",
    "cstr_battery2 = [@constraint(model2, sum(y[i,j,k] for i in 1:ncty) == Omega[j,s,k] * x_hat[j,15]*scaler[k]) for k in battery for j in 1:ncty] \n",
    "\n",
    "cstr_fmk2 = [@constraint(model2, sum(y[i,mkt_loc,mkt_proc] for i in 1:ncty) + unmeet == scen_dmd[s])]\n",
    "cstr_fmko2 = [@constraint(model2, sum(y[i,j,mkt_proc] for i in 1:ncty) == 0) for j in filter!(e->e!=mkt_loc,collect(1:ncty))]\n",
    "\n",
    "\n",
    "# #######################   \n",
    "tranD = Vector{AffExpr}(undef, ncty)\n",
    "for j in 1:ncty\n",
    "    arc_emi = 0\n",
    "    arc_seq = 0\n",
    "    for i in 1:ncty\n",
    "        amount = sum(y[i,j,k] for k in 1:nproc)\n",
    "        arc_emi += (amount * distance[!, 2:end][i,j] * EF_trans)\n",
    "    end\n",
    "    tranD[j] = arc_emi\n",
    "end\n",
    "\n",
    "# ####################### \n",
    "@objective(model2, Min, sum(tranD)+unmeet*penalty)\n",
    "JuMP.optimize!(model2)\n",
    "\n",
    "qy_hat2 = JuMP.objective_value(model2)\n",
    "sub_y2 = JuMP.value.(y)\n",
    "sub_unmeet2 = JuMP.value.(unmeet);"
   ]
  },
  {
   "cell_type": "code",
   "execution_count": null,
   "id": "c32ddea7",
   "metadata": {},
   "outputs": [],
   "source": []
  }
 ],
 "metadata": {
  "@webio": {
   "lastCommId": null,
   "lastKernelId": null
  },
  "kernelspec": {
   "display_name": "Julia 1.8.3",
   "language": "julia",
   "name": "julia-1.8"
  },
  "language_info": {
   "file_extension": ".jl",
   "mimetype": "application/julia",
   "name": "julia",
   "version": "1.8.3"
  }
 },
 "nbformat": 4,
 "nbformat_minor": 5
}
