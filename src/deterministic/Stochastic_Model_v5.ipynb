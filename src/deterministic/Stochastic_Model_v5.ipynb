{
 "cells": [
  {
   "cell_type": "code",
   "execution_count": 1,
   "id": "5edf3ebd",
   "metadata": {},
   "outputs": [],
   "source": [
    "using JuMP, Gurobi\n",
    "using CSV, LinearAlgebra, DataFrames\n",
    "using Plots\n",
    "using DelimitedFiles\n",
    "using Random"
   ]
  },
  {
   "cell_type": "code",
   "execution_count": 2,
   "id": "04c3d8be",
   "metadata": {},
   "outputs": [],
   "source": [
    "path = \"C:/Users/bourg/.julia/environments/batterySC/Li-battery-SC/src/deterministic/data/\";"
   ]
  },
  {
   "cell_type": "code",
   "execution_count": 3,
   "id": "93d2a5ce",
   "metadata": {},
   "outputs": [],
   "source": [
    "#load social and ecological data and orgnize \n",
    "FL = repeat([Float64], inner=15)\n",
    "dtype = append!([String], FL);\n",
    "\n",
    "regional_EF = CSV.File(string(path,\"EF_SC.csv\"),header=1,delim=\",\", types=dtype) |> DataFrame    \n",
    "capacity = CSV.File(string(path,\"capacity30_.csv\"),header=1,delim=\",\", types=dtype) |> DataFrame    \n",
    "distance = CSV.File(string(path,\"distance30.csv\"),header=1,delim=\",\") |> DataFrame \n",
    "LCA_model = CSV.File(string(path,\"LCA_model.csv\"),header=1,delim=\",\") |> DataFrame \n",
    "D_Dsoc = CSV.File(string(path,\"D_Dsoc.csv\"),header=1,delim=\",\") |> DataFrame\n",
    "emi_sink = CSV.File(string(path,\"emission_sink.csv\"),header=1,delim=\",\") |> DataFrame;"
   ]
  },
  {
   "cell_type": "code",
   "execution_count": 4,
   "id": "403d8e0f",
   "metadata": {},
   "outputs": [],
   "source": [
    "# distance[distance.Column1 .∈ countries, :]"
   ]
  },
  {
   "cell_type": "code",
   "execution_count": 5,
   "id": "5118b2b5",
   "metadata": {},
   "outputs": [],
   "source": [
    "global_sink = 1.099e10                        # global pub (ocean) CO2 sequestration (ton/yr)\n",
    "global_sink_tot = 2.236e10                  # global total (ocean+land) CO2 sequestration (ton/yr)\n",
    "global_emi = 3.53e10                          # global CO2 emission (ton/yr)\n",
    "global_gdp = 96882e9                          # 2021 global GDP ($/yr)\n",
    "es_ratio = global_sink/global_emi\n",
    "es_ratio_tot = global_sink_tot/global_emi\n",
    "\n",
    "emission_c = emi_sink[!, \"emission\"]          # national CO2 emission (ton/yr)\n",
    "sink_c = emi_sink[!, \"sink ton/yr\"] .* 0.6          # national CO2 sink (ton/yr)\n",
    "Dsoc = D_Dsoc[!, \"Dsoc ton/yr\"]           # national CO2 sink (ton/yr)\n",
    "\n",
    "EF_trans = 1.005/10000                        # ton CO2/km*ton (The average freight truck in the U.S. emits 161.8 grams of CO2 per ton-mile)\n",
    "# EF_trans = 86/1000000                          #5-LH trucks emit on average 56.6 gCO2/tkm while 5-RD emit 84.0 gCO2/tkm\n",
    "process = LCA_model[!,\"process\"]\n",
    "countries = capacity[!,\"country\"]\n",
    "ncty = size(countries,1)                          # No. of countries\n",
    "nproc = size(process,1);                          # No. of processes \n",
    "\n",
    "mkt_loc = findfirst(isequal(\"United States\"), countries)\n",
    "mkt_proc = findfirst(isequal(\"battery\"), process)\n",
    "\n",
    "# seperate model\n",
    "cathode = collect(1:4)\n",
    "cell = collect(5:10)\n",
    "noncell = [12,13]\n",
    "battery = [11,14]\n",
    "scaler = LCA_model[!,\"scaler\"]\n",
    "penalty = 5; # ton/yr;"
   ]
  },
  {
   "cell_type": "code",
   "execution_count": 6,
   "id": "e474f8cc",
   "metadata": {},
   "outputs": [],
   "source": [
    "# # scen_eff = CSV.File(string(path,\"Scenarios/FeaEff_15.csv\"), header=1, delim=\",\") |> DataFrame\n",
    "# scen_eff = CSV.File(string(path,\"Scenarios/Scen_Efficiency2.csv\"), header=1, delim=\",\") |> DataFrame\n",
    "# scen_eff = Matrix(scen_eff)[:, 2:end]\n",
    "\n",
    "# # scen_d = CSV.File(string(path,\"Scenarios/FeaDmd_15.csv\"), header=1, delim=\",\") |> DataFrame\n",
    "# # scen_dmd = Matrix(scen_d).*1.2\n",
    "\n",
    "# scen_dmd = ones(16) .* 452000\n",
    "\n",
    "# num_omega = size(scen_eff)[2]\n",
    "# Omega = ones(Float64, ncty, num_omega, nproc);  # Omega[ncty,nscena,nproc]\n",
    "# Omega[:, :, 1] = scen_eff;\n",
    "\n",
    "# dmd_fixed = 452000\n",
    "# # for k in 1:nproc\n",
    "# #     Omega[:, :, k] = scen_eff;\n",
    "# # end"
   ]
  },
  {
   "cell_type": "code",
   "execution_count": 7,
   "id": "41d96717",
   "metadata": {},
   "outputs": [],
   "source": [
    "# list = [1,4,5,31,37,38,49];\n",
    "list = [1,4,5,11,21,31,37,41,49];"
   ]
  },
  {
   "cell_type": "code",
   "execution_count": 8,
   "id": "96282cfd",
   "metadata": {},
   "outputs": [
    {
     "data": {
      "text/plain": [
       "452000"
      ]
     },
     "execution_count": 8,
     "metadata": {},
     "output_type": "execute_result"
    }
   ],
   "source": [
    "scen_eff = CSV.File(string(path,\"Scenarios/Scen_Efficiency2.csv\"), header=1, delim=\",\") |> DataFrame\n",
    "scen_eff = Matrix(scen_eff)[:, 2:end]\n",
    "scen_eff = scen_eff[:, list]\n",
    "num_omega = size(scen_eff)[2]\n",
    "scen_dmd = ones(num_omega) .* 452000\n",
    "\n",
    "Omega = ones(Float64, ncty, num_omega, nproc);  # Omega[ncty,nscena,nproc]\n",
    "Omega[:, :, 1] = scen_eff;\n",
    "\n",
    "dmd_fixed = 452000"
   ]
  },
  {
   "cell_type": "markdown",
   "id": "103e72e2",
   "metadata": {},
   "source": [
    "---"
   ]
  },
  {
   "cell_type": "markdown",
   "id": "3573e90d",
   "metadata": {},
   "source": [
    "### Solve Subproblem - Get Dual $\\pi$ & $\\alpha$"
   ]
  },
  {
   "cell_type": "code",
   "execution_count": 9,
   "id": "551a9acc",
   "metadata": {},
   "outputs": [
    {
     "data": {
      "text/plain": [
       "subprob (generic function with 1 method)"
      ]
     },
     "execution_count": 9,
     "metadata": {},
     "output_type": "execute_result"
    }
   ],
   "source": [
    "function subprob(x_hat, s) # s represents specific scenario     \n",
    "    \n",
    "    model = Model(Gurobi.Optimizer)\n",
    "    set_silent(model)\n",
    "    @variable(model, y[1:ncty, 1:ncty, 1:nproc] >= 0)\n",
    "    @variable(model, unmeet >= 0)\n",
    "\n",
    "    cstr_op = [@constraint(model, sum(y[i,j,k] for j in 1:ncty) <= Omega[i,s,k] * x_hat[i,k]) for k in 1:nproc for i in 1:ncty]\n",
    "    cstr_cth = [@constraint(model, sum(y[i,j,k] for i in 1:ncty) == Omega[j,s,k] * x_hat[j,5]*scaler[k]) for k in cathode for j in 1:ncty]\n",
    "    cstr_cell = [@constraint(model, sum(y[i,j,k] for i in 1:ncty) == Omega[j,s,k] * x_hat[j,11]*scaler[k]) for k in cell for j in 1:ncty]\n",
    "    cstr_noncell = [@constraint(model, sum(y[i,j,k] for i in 1:ncty) == Omega[j,s,k] * x_hat[j,14]*scaler[k]) for k in noncell for j in 1:ncty]\n",
    "    cstr_battery = [@constraint(model, sum(y[i,j,k] for i in 1:ncty) == Omega[j,s,k] * x_hat[j,15]*scaler[k]) for k in battery for j in 1:ncty] \n",
    "    \n",
    "    cstr_fmk = [@constraint(model, sum(y[i,mkt_loc,mkt_proc] for i in 1:ncty) + unmeet == scen_dmd[s])]\n",
    "    cstr_fmko = [@constraint(model, sum(y[i,j,mkt_proc] for i in 1:ncty) == 0) for j in filter!(e->e!=mkt_loc,collect(1:ncty))]\n",
    "    \n",
    "    \n",
    "    transD = Vector{AffExpr}(undef, ncty)\n",
    "    for j in 1:ncty\n",
    "        arc_emi = 0\n",
    "        for i in 1:ncty\n",
    "            amount = sum(y[i,j,k] for k in 1:nproc)\n",
    "            arc_emi += amount * distance[!, 2:end][i,j] * EF_trans\n",
    "        end\n",
    "        transD[j] = arc_emi  # ncty*1 matrix\n",
    "    end\n",
    "    \n",
    "    \n",
    "    ############# over produced part wont get supply ###########\n",
    "    sink_ratio = zeros(ncty, nproc)\n",
    "    for k in 1:nproc\n",
    "        for i in 1:ncty\n",
    "            sink_ratio[i,k] = regional_EF[i, k+1] * (sink_c[i]/emission_c[i] + es_ratio)\n",
    "        end\n",
    "    end\n",
    "    overprod_penalty = sum((x_hat - sum(y, dims=2)[:,1,:]) .* sink_ratio)\n",
    "    \n",
    "    \n",
    "    ############### Obj function ##############\n",
    "    @objective(model, Min, sum(transD) + unmeet*penalty + overprod_penalty)\n",
    "    JuMP.optimize!(model)\n",
    "    \n",
    "    qy_hat = JuMP.objective_value(model)\n",
    "    sub_y = JuMP.value.(y)\n",
    "    sub_unmeet = JuMP.value.(unmeet)\n",
    "    \n",
    "    \n",
    "    ################## get dual and calculate cuts ################\n",
    "    dual_pi = zeros(ncty,nproc)\n",
    "    \n",
    "    op_pi = [getdual(con) for con in cstr_op]\n",
    "    cth_pi = [getdual(con) for con in cstr_cth]\n",
    "    cell_pi = [getdual(con) for con in cstr_cell]\n",
    "    noncell_pi = [getdual(con) for con in cstr_noncell]\n",
    "    battery_pi = [getdual(con) for con in cstr_battery]\n",
    "    fmk_alp = [getdual(con) for con in cstr_fmk]\n",
    "    fmko_alp = [getdual(con) for con in cstr_fmko]\n",
    "    \n",
    "    dual_pi[:,:] = reshape(op_pi, ncty, nproc) .* Omega[:,s,:]\n",
    "    dual_pi[:, cathode] = reshape(cth_pi, ncty, length(cathode)) .* Omega[:,s,cathode]\n",
    "    dual_pi[:, cell] = reshape(cell_pi, ncty, length(cell)) .* Omega[:,s,cell]\n",
    "    dual_pi[:, noncell] = reshape(noncell_pi, ncty, length(noncell)) .* Omega[:,s,noncell]\n",
    "    dual_pi[:, battery] = reshape(battery_pi, ncty, length(battery)) .* Omega[:,s,battery]\n",
    "    dual_alpha = sum(fmk_alp*(scen_dmd[s] - sub_unmeet)) + sum(fmko_alp * 0)\n",
    "\n",
    "    #######################\n",
    "    result = Dict([\"qyhat\"=>qy_hat, \"y_opt\"=>sub_y, \"unmeet_opt\"=>sub_unmeet, \"pi\"=>dual_pi, \"alp\"=>dual_alpha]);\n",
    "    return result\n",
    "    \n",
    "end"
   ]
  },
  {
   "cell_type": "code",
   "execution_count": 10,
   "id": "dbc0c755",
   "metadata": {},
   "outputs": [
    {
     "data": {
      "text/plain": [
       "masterprob (generic function with 1 method)"
      ]
     },
     "execution_count": 10,
     "metadata": {},
     "output_type": "execute_result"
    }
   ],
   "source": [
    "function masterprob(cuts)\n",
    "    model = Model(Gurobi.Optimizer)\n",
    "    set_silent(model)\n",
    "    @variable(model, x[1:ncty, 1:nproc] >= 0)\n",
    "    @variable(model, theta >= M)\n",
    "    \n",
    "    for k in 1:nproc\n",
    "        for i in 1:ncty\n",
    "            @constraint(model, x[i,k] <= 0.8*capacity[!, 2:end][i,k])\n",
    "        end\n",
    "    end\n",
    "\n",
    "    x_cth = [@constraint(model, sum(x[i,k] for i in 1:ncty) == sum(x[i,5] for i in 1:ncty) * scaler[k]) for k in cathode]\n",
    "    x_cell = [@constraint(model, sum(x[i,k] for i in 1:ncty) == sum(x[i,11] for i in 1:ncty) * scaler[k]) for k in cell]\n",
    "    x_noncell = [@constraint(model, sum(x[i,k] for i in 1:ncty) == sum(x[i,14] for i in 1:ncty) * scaler[k]) for k in noncell]\n",
    "    x_battery = [@constraint(model, sum(x[i,k] for i in 1:ncty) == sum(x[i,15] for i in 1:ncty) * scaler[k]) for k in battery];\n",
    "#     x_demand = @constraint(model, sum(x[i,15] for i in 1:ncty) == dmd_fixed) \n",
    "    \n",
    "\n",
    "    ###########\n",
    "    proD = (x .* Matrix(regional_EF[:,2:end])) * ones(nproc,1) \n",
    "\n",
    "    pro_sink = zeros(ncty, nproc)\n",
    "    for k in 1:nproc\n",
    "        for i in 1:ncty\n",
    "            pro_sink[i,k] = regional_EF[i, k+1] * (sink_c[i]/emission_c[i] + es_ratio)\n",
    "        end\n",
    "    end\n",
    "    proS = (x.*pro_sink)*ones(nproc,1) \n",
    "    \n",
    "    \n",
    "    G = 0\n",
    "    g = 0\n",
    "    if cuts != []\n",
    "        for cut in cuts\n",
    "            G = cut[\"gradient\"]\n",
    "            g = cut[\"intersection\"]\n",
    "            @constraint(model, theta >= sum(x .* G) + g); \n",
    "        end\n",
    "    end\n",
    "    \n",
    "    \n",
    "    @objective(model, Min, sum(proD-proS)+theta)\n",
    "    JuMP.optimize!(model);\n",
    "    \n",
    "    x_hat = JuMP.value.(x)\n",
    "    theta_hat = JuMP.value.(theta)\n",
    "    z_lb = JuMP.objective_value(model)\n",
    "    \n",
    "    result = Dict([\"x_hat\"=>x_hat, \"z_lb\"=>z_lb])\n",
    "    return result\n",
    "end"
   ]
  },
  {
   "cell_type": "code",
   "execution_count": 11,
   "id": "0a50f159",
   "metadata": {},
   "outputs": [
    {
     "data": {
      "text/plain": [
       "add_cuts (generic function with 1 method)"
      ]
     },
     "execution_count": 11,
     "metadata": {},
     "output_type": "execute_result"
    }
   ],
   "source": [
    "function add_cuts(x)\n",
    "    G = [] # gradient\n",
    "    g = [] # intersection\n",
    "    qy = 0\n",
    "    \n",
    "    for s in 1:num_omega\n",
    "        res = subprob(x, s)        \n",
    "        push!(G, res[\"pi\"])   # gradient\n",
    "        push!(g, res[\"alp\"])  # intersection\n",
    "        qy += res[\"qyhat\"]\n",
    "    end\n",
    "    \n",
    "    proD = (x .* Matrix(regional_EF[:,2:end])) * ones(nproc,1) \n",
    "    pro_sink = zeros(ncty, nproc)\n",
    "    for k in 1:nproc\n",
    "        for i in 1:ncty\n",
    "            pro_sink[i,k] = regional_EF[i, k+1] * (sink_c[i]/emission_c[i] + es_ratio)\n",
    "        end\n",
    "    end\n",
    "    proS = (x.*pro_sink)*ones(nproc,1) \n",
    "    \n",
    "    \n",
    "    z_hat = sum(proD - proS) + qy/num_omega\n",
    "    Exp_G = sum(G) / num_omega\n",
    "    Exp_g = sum(g) / num_omega\n",
    "    \n",
    "    cut = Dict([\"gradient\"=>Exp_G, \"intersection\"=>Exp_g])\n",
    "    return cut, z_hat\n",
    "end"
   ]
  },
  {
   "cell_type": "code",
   "execution_count": 12,
   "id": "0e44c501",
   "metadata": {},
   "outputs": [
    {
     "data": {
      "text/plain": [
       "main (generic function with 1 method)"
      ]
     },
     "execution_count": 12,
     "metadata": {},
     "output_type": "execute_result"
    }
   ],
   "source": [
    "function main(toler)\n",
    "    i = 0\n",
    "    z_ub = 1e8\n",
    "    x_opt = 0\n",
    "    \n",
    "    cuts = []\n",
    "    res0 = masterprob(cuts)\n",
    "    x_hat = res0[\"x_hat\"]\n",
    "    z_lb = res0[\"z_lb\"]\n",
    "    \n",
    "    while (z_ub - z_lb) > toler * min(abs(z_ub), abs(z_lb))\n",
    "        new_cut, z_hat = add_cuts(x_hat)\n",
    "        \n",
    "        if z_hat < z_ub\n",
    "            z_ub = z_hat\n",
    "            x_opt = x_hat\n",
    "        end\n",
    "        \n",
    "        push!(cuts, new_cut)\n",
    "        \n",
    "        res1 = masterprob(cuts)\n",
    "        z_lb = res1[\"z_lb\"]\n",
    "        x_hat = res1[\"x_hat\"]\n",
    "        \n",
    "        i += 1\n",
    "    end\n",
    "    \n",
    "    result = Dict([\"z_lb\"=>z_lb, \"z_ub\"=>z_ub, \"x_opt\"=>x_opt, \"iteration\"=>i])\n",
    "    return result\n",
    "    \n",
    "end"
   ]
  },
  {
   "cell_type": "markdown",
   "id": "63be656f",
   "metadata": {},
   "source": [
    "-----"
   ]
  },
  {
   "cell_type": "code",
   "execution_count": 13,
   "id": "bc141bc6",
   "metadata": {},
   "outputs": [
    {
     "data": {
      "text/plain": [
       "0.01"
      ]
     },
     "execution_count": 13,
     "metadata": {},
     "output_type": "execute_result"
    }
   ],
   "source": [
    "M = -100000\n",
    "toler = 0.01"
   ]
  },
  {
   "cell_type": "code",
   "execution_count": 14,
   "id": "5027bd98",
   "metadata": {},
   "outputs": [
    {
     "name": "stdout",
     "output_type": "stream",
     "text": [
      "Academic license - for non-commercial use only - expires 2024-12-26\r\n"
     ]
    },
    {
     "data": {
      "text/plain": [
       "-3.4870410868231794e6"
      ]
     },
     "execution_count": 14,
     "metadata": {},
     "output_type": "execute_result"
    }
   ],
   "source": [
    "i = 0\n",
    "z_ub = 1e8\n",
    "x_opt = 0\n",
    "\n",
    "cuts = []\n",
    "res0 = masterprob(cuts)\n",
    "x_hat = res0[\"x_hat\"]\n",
    "z_lb = res0[\"z_lb\"]"
   ]
  },
  {
   "cell_type": "code",
   "execution_count": 15,
   "id": "f8454bc8",
   "metadata": {},
   "outputs": [
    {
     "data": {
      "text/plain": [
       "30×15 Matrix{Float64}:\n",
       "  4960.0       0.0  0.0           0.0  …     0.0   0.0        0.0\n",
       " 46959.8       0.0  0.0           0.0        0.0   0.0        0.0\n",
       "  1760.0       0.0  1.1623e5  53600.0        0.0   0.0        0.0\n",
       "   400.0    2480.0  0.0       65524.5        0.0   0.0        0.0\n",
       " 31200.0       0.0  0.0           0.0        0.0   7.75558e5  0.0\n",
       "     0.0       0.0  0.0           0.0  …     0.0   0.0        0.0\n",
       "     0.0       0.0  0.0           0.0        0.0   0.0        0.0\n",
       "     0.0  116000.0  0.0           0.0        0.0   0.0        0.0\n",
       "     0.0     867.2  0.0           0.0        0.0   0.0        0.0\n",
       "     0.0       0.0  0.0           0.0        0.0   0.0        0.0\n",
       "     0.0       0.0  0.0           0.0  …  3102.23  0.0        0.0\n",
       "     0.0       0.0  0.0           0.0        0.0   0.0        0.0\n",
       "     0.0       0.0  0.0           0.0        0.0   0.0        0.0\n",
       "     ⋮                                 ⋱                      \n",
       "     0.0       0.0  0.0           0.0        0.0   0.0        0.0\n",
       "     0.0       0.0  0.0           0.0        0.0   0.0        0.0\n",
       "     0.0       0.0  0.0           0.0  …     0.0   0.0        0.0\n",
       "     0.0       0.0  0.0           0.0        0.0   0.0        0.0\n",
       "     0.0       0.0  0.0           0.0        0.0   0.0        0.0\n",
       "     0.0       0.0  0.0           0.0        0.0   0.0        0.0\n",
       "     0.0       0.0  0.0           0.0        0.0   0.0        0.0\n",
       "     0.0       0.0  0.0           0.0  …     0.0   0.0        0.0\n",
       "     0.0       0.0  0.0           0.0        0.0   0.0        0.0\n",
       "     0.0       0.0  0.0           0.0        0.0   0.0        0.0\n",
       "     0.0       0.0  0.0           0.0        0.0   0.0        0.0\n",
       "     0.0       0.0  0.0           0.0        0.0   0.0        7.75558e5"
      ]
     },
     "execution_count": 15,
     "metadata": {},
     "output_type": "execute_result"
    }
   ],
   "source": [
    "x_hat"
   ]
  },
  {
   "cell_type": "code",
   "execution_count": 295,
   "id": "ed3eed29",
   "metadata": {},
   "outputs": [
    {
     "data": {
      "text/plain": [
       "(1.0348704108682318e8, 34870.4108682318)"
      ]
     },
     "execution_count": 295,
     "metadata": {},
     "output_type": "execute_result"
    }
   ],
   "source": [
    "z_ub - z_lb, toler * min(abs(z_ub), abs(z_lb))"
   ]
  },
  {
   "cell_type": "code",
   "execution_count": 296,
   "id": "d93d1375",
   "metadata": {},
   "outputs": [
    {
     "name": "stdout",
     "output_type": "stream",
     "text": [
      "Academic license - for non-commercial use only - expires 2024-12-26\r\n",
      "Academic license - for non-commercial use only - expires 2024-12-26\r\n",
      "Academic license - for non-commercial use only - expires 2024-12-26\r\n",
      "Academic license - for non-commercial use only - expires 2024-12-26\r\n",
      "Academic license - for non-commercial use only - expires 2024-12-26\r\n",
      "Academic license - for non-commercial use only - expires 2024-12-26\r\n",
      "Academic license - for non-commercial use only - expires 2024-12-26\r\n",
      "Academic license - for non-commercial use only - expires 2024-12-26\r\n",
      "Academic license - for non-commercial use only - expires 2024-12-26\r\n"
     ]
    },
    {
     "data": {
      "text/plain": [
       "(Dict{String, Any}(\"gradient\" => [-1.3220747403589865 -1.2104112555449973 … -0.9255104467762373 -1.2044061861658102; -2.198557475293465 -1.4560881958799996 … -0.14326094365592024 -0.5022742452579547; … ; -0.7804945007042557 -0.48022544401350054 … -0.17495540134682266 0.0; -1.0107935004455875 -0.7948778024324987 … -0.14348608036663746 0.0], \"intersection\" => -1.6224751274787537e6), -557701.6138260942)"
      ]
     },
     "execution_count": 296,
     "metadata": {},
     "output_type": "execute_result"
    }
   ],
   "source": [
    "new_cut, z_hat = add_cuts(x_hat)"
   ]
  },
  {
   "cell_type": "code",
   "execution_count": 297,
   "id": "349e1558",
   "metadata": {},
   "outputs": [
    {
     "data": {
      "text/plain": [
       "30×15 Matrix{Float64}:\n",
       " -1.32207   -1.21041   -4.85117  …  -12.7139  -0.92551     -1.20441\n",
       " -2.19856   -1.45609   -3.59755     -13.9676  -0.143261    -0.502274\n",
       " -0.674395  -0.918405  -4.6173      -12.9479  -0.6916      -5.14866\n",
       " -0.11092   -0.64476   -4.34365     -13.7312  -0.311251    -5.04571\n",
       " -1.65437   -1.22175   -4.92064     -12.6445  -0.994974   -35.8292\n",
       " -0.999412  -0.739851  -3.44476  …  -14.0936  -0.067607     0.0\n",
       " -1.27727   -0.923744  -4.52142     -13.0437  -0.595756    -3.38083\n",
       " -0.969931  -0.616408  -3.88279     -13.6823  -0.619772     0.0\n",
       " -0.517268  -0.163745  -3.77674     -13.9973  -0.340847    -2.92369\n",
       " -0.434541  -0.081017  -3.77897     -13.7862  -0.203646     0.0\n",
       " -0.353524   0.0       -3.69889  …  -13.8662  -0.263        0.0\n",
       " -1.00623   -0.66288   -3.26439     -14.022   -0.0645703    0.0\n",
       " -1.50208   -1.14911   -3.30333     -14.2618  -0.108758     0.0\n",
       "  ⋮                              ⋱                        \n",
       " -0.503747  -0.150223  -3.84911     -13.9327  -0.413224    -2.22942\n",
       " -1.38721   -1.03369   -4.64096     -12.9242  -0.715301    -2.79831\n",
       " -1.39895   -1.04542   -3.269    …  -14.3996  -0.133253    -1.34965\n",
       " -0.459327  -0.193615  -3.89088     -13.6742  -0.106522     0.0\n",
       " -0.849213  -0.49569   -3.75156     -14.2792  -0.0988051    0.0\n",
       " -0.747294  -0.39377   -3.55306     -13.7166  -0.243577     0.0\n",
       " -0.895919  -0.901866  -4.02373     -13.4381  -0.332146     0.0\n",
       " -1.12836   -0.856389  -3.53321  …  -14.2664  -0.0671431    0.0\n",
       " -0.588597  -0.235073  -3.56848     -13.8785  -0.139221     0.0\n",
       " -0.503215  -0.149692  -3.64359     -13.9996  -0.207704     0.0\n",
       " -0.780495  -0.480225  -3.45029     -13.7826  -0.174955     0.0\n",
       " -1.01079   -0.794878  -4.10008     -13.496   -0.143486     0.0"
      ]
     },
     "execution_count": 297,
     "metadata": {},
     "output_type": "execute_result"
    }
   ],
   "source": [
    "new_cut[\"gradient\"]"
   ]
  },
  {
   "cell_type": "code",
   "execution_count": 250,
   "id": "e8fdbb01",
   "metadata": {},
   "outputs": [
    {
     "data": {
      "text/plain": [
       "30×15 Matrix{Float64}:\n",
       "  4960.0       0.0  0.0           0.0  …     0.0   0.0        0.0\n",
       " 46959.8       0.0  0.0           0.0        0.0   0.0        0.0\n",
       "  1760.0       0.0  1.1623e5  53600.0        0.0   0.0        0.0\n",
       "   400.0    2480.0  0.0       65524.5        0.0   0.0        0.0\n",
       " 31200.0       0.0  0.0           0.0        0.0   7.75558e5  0.0\n",
       "     0.0       0.0  0.0           0.0  …     0.0   0.0        0.0\n",
       "     0.0       0.0  0.0           0.0        0.0   0.0        0.0\n",
       "     0.0  116000.0  0.0           0.0        0.0   0.0        0.0\n",
       "     0.0     867.2  0.0           0.0        0.0   0.0        0.0\n",
       "     0.0       0.0  0.0           0.0        0.0   0.0        0.0\n",
       "     0.0       0.0  0.0           0.0  …  3102.23  0.0        0.0\n",
       "     0.0       0.0  0.0           0.0        0.0   0.0        0.0\n",
       "     0.0       0.0  0.0           0.0        0.0   0.0        0.0\n",
       "     ⋮                                 ⋱                      \n",
       "     0.0       0.0  0.0           0.0        0.0   0.0        0.0\n",
       "     0.0       0.0  0.0           0.0        0.0   0.0        0.0\n",
       "     0.0       0.0  0.0           0.0  …     0.0   0.0        0.0\n",
       "     0.0       0.0  0.0           0.0        0.0   0.0        0.0\n",
       "     0.0       0.0  0.0           0.0        0.0   0.0        0.0\n",
       "     0.0       0.0  0.0           0.0        0.0   0.0        0.0\n",
       "     0.0       0.0  0.0           0.0        0.0   0.0        0.0\n",
       "     0.0       0.0  0.0           0.0  …     0.0   0.0        0.0\n",
       "     0.0       0.0  0.0           0.0        0.0   0.0        0.0\n",
       "     0.0       0.0  0.0           0.0        0.0   0.0        0.0\n",
       "     0.0       0.0  0.0           0.0        0.0   0.0        0.0\n",
       "     0.0       0.0  0.0           0.0        0.0   0.0        7.75558e5"
      ]
     },
     "execution_count": 250,
     "metadata": {},
     "output_type": "execute_result"
    }
   ],
   "source": [
    "if z_hat < z_ub\n",
    "    z_ub = z_hat\n",
    "    x_opt = x_hat;\n",
    "end"
   ]
  },
  {
   "cell_type": "code",
   "execution_count": 252,
   "id": "089f0a73",
   "metadata": {},
   "outputs": [
    {
     "data": {
      "text/plain": [
       "1-element Vector{Any}:\n",
       " Dict{String, Any}(\"gradient\" => [-1.3220747403589865 -1.2104112555449973 … -0.9255104467762373 -1.2044061861658102; -2.198557475293465 -1.4560881958799996 … -0.14326094365592024 -0.5022742452579547; … ; -0.7804945007042557 -0.48022544401350054 … -0.17495540134682266 0.0; -1.0107935004455875 -0.7948778024324987 … -0.14348608036663746 0.0], \"intersection\" => -1.6224751274787537e6)"
      ]
     },
     "execution_count": 252,
     "metadata": {},
     "output_type": "execute_result"
    }
   ],
   "source": [
    "push!(cuts, new_cut)"
   ]
  },
  {
   "cell_type": "code",
   "execution_count": 254,
   "id": "d4cc976a",
   "metadata": {},
   "outputs": [
    {
     "name": "stdout",
     "output_type": "stream",
     "text": [
      "Academic license - for non-commercial use only - expires 2024-12-26\r\n"
     ]
    },
    {
     "data": {
      "text/plain": [
       "Dict{String, Any} with 2 entries:\n",
       "  \"x_hat\" => [4960.0 0.0 … 0.0 0.0; 46959.8 0.0 … 0.0 0.0; … ; 0.0 0.0 … 0.0 0.…\n",
       "  \"z_lb\"  => -1.3387e7"
      ]
     },
     "execution_count": 254,
     "metadata": {},
     "output_type": "execute_result"
    }
   ],
   "source": [
    "res1 = masterprob(cuts)"
   ]
  },
  {
   "cell_type": "code",
   "execution_count": 255,
   "id": "7761a169",
   "metadata": {},
   "outputs": [
    {
     "data": {
      "text/plain": [
       "true"
      ]
     },
     "execution_count": 255,
     "metadata": {},
     "output_type": "execute_result"
    }
   ],
   "source": [
    "res1[\"x_hat\"] == xhat1"
   ]
  },
  {
   "cell_type": "code",
   "execution_count": 256,
   "id": "597d7a0e",
   "metadata": {},
   "outputs": [
    {
     "name": "stdout",
     "output_type": "stream",
     "text": [
      "Academic license - for non-commercial use only - expires 2024-12-26\r\n",
      "Gurobi Optimizer version 9.1.2 build v9.1.2rc0 (win64)\r\n",
      "Thread count: 6 physical cores, 12 logical processors, using up to 12 threads\r\n",
      "Optimize a model with 464 rows, 451 columns and 1290 nonzeros\r\n",
      "Model fingerprint: 0xd147b2ef\r\n",
      "Coefficient statistics:\r\n",
      "  Matrix range     [4e-03, 1e+00]\r\n",
      "  Objective range  [3e-03, 2e+02]\r\n",
      "  Bounds range     [1e+07, 1e+07]\r\n",
      "  RHS range        [2e+02, 8e+10]\r\n",
      "Warning: Model contains large rhs\r\n",
      "         Consider reformulating model or setting NumericFocus parameter\r\n",
      "         to avoid numerical issues.\r\n",
      "Presolve removed 456 rows and 373 columns\r\n",
      "Presolve time: 0.00s\r\n",
      "Presolved: 8 rows, 78 columns, 137 nonzeros\r\n",
      "\r\n",
      "Iteration    Objective       Primal Inf.    Dual Inf.      Time\r\n",
      "       0   -1.7632856e+07   6.151405e+05   0.000000e+00      0s\r\n",
      "      12   -1.3387041e+07   0.000000e+00   0.000000e+00      0s\r\n",
      "\r\n",
      "Solved in 12 iterations and 0.00 seconds\r\n",
      "Optimal objective -1.338704109e+07\r\n",
      "\r\n",
      "User-callback calls 56, time in user-callback 0.00 sec\r\n"
     ]
    }
   ],
   "source": [
    "model = Model(Gurobi.Optimizer)\n",
    "@variable(model, x[1:ncty, 1:nproc] >= 0)\n",
    "@variable(model, theta >= M)\n",
    "\n",
    "for k in 1:nproc\n",
    "    for i in 1:ncty\n",
    "        @constraint(model, x[i,k] <= 0.8*capacity[!, 2:end][i,k])\n",
    "    end\n",
    "end\n",
    "\n",
    "x_cth = [@constraint(model, sum(x[i,k] for i in 1:ncty) == sum(x[i,5] for i in 1:ncty) * scaler[k]) for k in cathode]\n",
    "x_cell = [@constraint(model, sum(x[i,k] for i in 1:ncty) == sum(x[i,11] for i in 1:ncty) * scaler[k]) for k in cell]\n",
    "x_noncell = [@constraint(model, sum(x[i,k] for i in 1:ncty) == sum(x[i,14] for i in 1:ncty) * scaler[k]) for k in noncell]\n",
    "x_battery = [@constraint(model, sum(x[i,k] for i in 1:ncty) == sum(x[i,15] for i in 1:ncty) * scaler[k]) for k in battery];\n",
    "\n",
    "\n",
    "###########\n",
    "proD = (x .* Matrix(regional_EF[:,2:end])) * ones(nproc,1) \n",
    "\n",
    "pro_sink = zeros(ncty, nproc)\n",
    "for k in 1:nproc\n",
    "    for i in 1:ncty\n",
    "        pro_sink[i,k] = regional_EF[i, k+1] * (sink_c[i]/emission_c[i] + es_ratio)\n",
    "    end\n",
    "end\n",
    "proS = (x.*pro_sink)*ones(nproc,1) \n",
    "\n",
    "\n",
    "# G = 0\n",
    "# g = 0\n",
    "# if cuts != []\n",
    "#     for cut in cuts\n",
    "#         G = cut[\"gradient\"]\n",
    "#         g = cut[\"intersection\"]\n",
    "#         @constraint(model, theta >= sum(x .* G) + g); \n",
    "#     end\n",
    "# end\n",
    "\n",
    "\n",
    "@objective(model, Min, sum(proD-proS)+theta)\n",
    "JuMP.optimize!(model);"
   ]
  },
  {
   "cell_type": "code",
   "execution_count": 259,
   "id": "2abdbf4b",
   "metadata": {},
   "outputs": [
    {
     "name": "stdout",
     "output_type": "stream",
     "text": [
      "Academic license - for non-commercial use only - expires 2024-12-26\r\n"
     ]
    }
   ],
   "source": [
    "model = Model(Gurobi.Optimizer)\n",
    "@variable(model, x[1:ncty, 1:nproc] >= 0)\n",
    "@variable(model, theta >= M)\n",
    "\n",
    "for k in 1:nproc\n",
    "    for i in 1:ncty\n",
    "        @constraint(model, x[i,k] <= 0.8*capacity[!, 2:end][i,k])\n",
    "    end\n",
    "end\n",
    "\n",
    "x_cth = [@constraint(model, sum(x[i,k] for i in 1:ncty) == sum(x[i,5] for i in 1:ncty) * scaler[k]) for k in cathode]\n",
    "x_cell = [@constraint(model, sum(x[i,k] for i in 1:ncty) == sum(x[i,11] for i in 1:ncty) * scaler[k]) for k in cell]\n",
    "x_noncell = [@constraint(model, sum(x[i,k] for i in 1:ncty) == sum(x[i,14] for i in 1:ncty) * scaler[k]) for k in noncell]\n",
    "x_battery = [@constraint(model, sum(x[i,k] for i in 1:ncty) == sum(x[i,15] for i in 1:ncty) * scaler[k]) for k in battery];\n"
   ]
  },
  {
   "cell_type": "code",
   "execution_count": 231,
   "id": "ccc1c434",
   "metadata": {},
   "outputs": [
    {
     "data": {
      "text/latex": [
       "$$ 1.3220747403589865 x_{1,1} + 2.198557475293465 x_{2,1} + 0.6743950229994301 x_{3,1} + 0.11092038917519506 x_{4,1} + 1.6543707363067766 x_{5,1} + 0.9994117352487749 x_{6,1} + 1.2772678395527557 x_{7,1} + 0.9699313732067554 x_{8,1} + 0.5172683792102557 x_{9,1} + 0.43454075414605586 x_{10,1} + 0.3535237239842557 x_{11,1} + 1.0062281032532552 x_{12,1} + 1.5020821858877555 x_{13,1} + 0.7432841475692555 x_{14,1} + 1.1255186035292555 x_{15,1} + 0.7538218683407558 x_{16,1} + 1.3286388690137556 x_{17,1} + 1.3217247554387557 x_{18,1} + 0.5037472008662558 x_{19,1} + 1.3872129142742557 x_{20,1} + 1.3989464510792557 x_{21,1} + 0.4593266486874252 x_{22,1} + 0.8492132917367555 x_{23,1} + 0.7472937473267556 x_{24,1} + 0.8959189903327027 x_{25,1} + 1.128355851490756 x_{26,1} + 0.5885971340372557 x_{27,1} + 0.5032153786847556 x_{28,1} + 0.7804945007042557 x_{29,1} + 1.0107935004455875 x_{30,1} + 1.2104112555449973 x_{1,2} + 1.4560881958799996 x_{2,2} + 0.9184051244235008 x_{3,2} + 0.6447597785925012 x_{4,2} + 1.2217468857149925 x_{5,2} + 0.7398513764190007 x_{6,2} + 0.9237441155685033 x_{7,2} + 0.6164076492225021 x_{8,2} + 0.16374465522599735 x_{9,2} + 0.0810170301617994 x_{10,2} + 0.6628800741164991 x_{12,2} + 1.1491061721300007 x_{13,2} + 0.41346594962550043 x_{14,2} + 0.9125222200425007 x_{15,2} + 0.40029814435650124 x_{16,2} + 0.9791289031754999 x_{17,2} + 0.9682010314545018 x_{18,2} + 0.15022347688200455 x_{19,2} + 1.0336891902899978 x_{20,2} + 1.0454227270950014 x_{21,2} + 0.19361537235900173 x_{22,2} + 0.4956895677524997 x_{23,2} + 0.39377002334249944 x_{24,2} + 0.9018659842440009 x_{25,2} + 0.8563894040009998 x_{26,2} + 0.23507341005299942 x_{27,2} + 0.14969165470050072 x_{28,2} + 0.48022544401350054 x_{29,2} + 0.7948778024324987 x_{30,2} + 4.851173671602722 x_{1,3} + 3.5975548491181226 x_{2,3} + 4.617295333561622 x_{3,3} + 4.343649987730622 x_{4,3} + 4.920637094853121 x_{5,3} + 3.4447559445631226 x_{6,3} + 4.521419122486621 x_{7,3} + 3.882788866833123 x_{8,3} + 3.776737247536622 x_{9,3} + 3.778970297437623 x_{10,3} + 3.6988902091381215 x_{11,3} + 3.2643874413256233 x_{12,3} + 3.3033253557931213 x_{13,3} + 3.4150920148231227 x_{14,3} + 3.5794047239881226 x_{15,3} + 3.5504826254506225 x_{16,3} + 3.220030030188121 x_{17,3} + 4.277871465501122 x_{18,3} + 3.849113686020122 x_{19,3} + 4.640964654075121 x_{20,3} + 3.2689970366356222 x_{21,3} + 3.8908792344181213 x_{22,3} + 3.751561076253122 x_{23,3} + 3.5530607092381237 x_{24,3} + 4.023730558378623 x_{25,3} + 3.5332110150406217 x_{26,3} + 3.5684846170981217 x_{27,3} + 3.6435945940756227 x_{28,3} + 3.450288470568122 x_{29,3} + 4.100077217805122 x_{30,3} + 1.210411255545 x_{1,4} + 1.4560881958799996 x_{2,4} + 0.9184051244235008 x_{3,4} + 0.6447597785924994 x_{4,4} + 1.2217468857149996 x_{5,4} + 0.7398513764189998 x_{6,4} + 0.9237441155684998 x_{7,4} + 0.6164076492225004 x_{8,4} + 0.16374465522599913 x_{9,4} + 0.08101703016180029 x_{10,4} + 0.6628800741165 x_{12,4} + 1.1491061721299998 x_{13,4} + 0.4134659496255 x_{14,4} + 0.9125222200424999 x_{15,4} + 0.4002981443564999 x_{16,4} + 0.9791289031754999 x_{17,4} + 0.9682010314545 x_{18,4} + 0.15022347688199922 x_{19,4} + 1.0336891902899996 x_{20,4} + 1.0454227270949996 x_{21,4} + 0.19361537235899995 x_{22,4} + 0.4956895677525001 x_{23,4} + 0.3937700233424999 x_{24,4} + 0.9018659842440001 x_{25,4} + 0.8563894040009998 x_{26,4} + 0.23507341005299986 x_{27,4} + 0.14969165470049983 x_{28,4} + 0.48022544401350015 x_{29,4} + 0.7948778024325001 x_{30,4} + 4.229407773110544 x_{1,5} + 4.475084713445543 x_{2,5} + 3.937401641989044 x_{3,5} + 3.6637562961580423 x_{4,5} + 4.240743403280547 x_{5,5} + 3.7585069158760436 x_{6,5} + 3.9427406331340435 x_{7,5} + 3.271541176655543 x_{8,5} + 3.1827411727915442 x_{9,5} + 3.1000135477273436 x_{10,5} + 3.0189965175655438 x_{11,5} + 3.6750642994810443 x_{12,5} + 4.1681026896955435 x_{13,5} + 3.4107989629630433 x_{14,5} + 3.7909913971105444 x_{15,5} + 3.4174993616800435 x_{16,5} + 3.998125420741044 x_{17,5} + 3.9871975490200446 x_{18,5} + 3.1692199944475443 x_{19,5} + 4.052685707855544 x_{20,5} + 4.0644192446605425 x_{21,5} + 3.2126118899245446 x_{22,5} + 3.4535656142725424 x_{23,5} + 3.330446000480543 x_{24,5} + 3.424599141065543 x_{25,5} + 3.793828645072043 x_{26,5} + 3.2202391035610427 x_{27,5} + 3.168688172266044 x_{28,5} + 3.445967294285544 x_{29,5} + 3.8138743199980434 x_{30,5} + 1.0436715525682823 x_{1,6} + 1.2893484929032821 x_{2,6} + 0.7516654214467823 x_{3,6} + 0.4780200756157821 x_{4,6} + 1.0550071827382812 x_{5,6} + 0.5731116734422822 x_{6,6} + 0.7570044125917823 x_{7,6} + 0.4496679462457821 x_{8,6} - 0.1667397029767177 x_{11,6} + 0.4961403711397821 x_{12,6} + 0.9823664691532823 x_{13,6} + 0.24672624664878226 x_{14,6} + 0.7117395710238769 x_{15,6} + 0.23355844137978224 x_{16,6} + 0.8123892001987822 x_{17,6} + 0.8014613284777824 x_{18,6} + 0.8669494873132821 x_{20,6} + 0.8786830241182821 x_{21,6} + 0.026875669382282252 x_{22,6} + 0.3289498647757823 x_{23,6} + 0.22703032036578222 x_{24,6} + 0.6472557603628095 x_{25,6} + 0.6290244849457244 x_{26,6} + 0.06833370707628228 x_{27,6} + 0.31348574103678223 x_{29,6} + 0.6281380994557823 x_{30,6} + 3.9178905722657973 x_{1,7} + 2.6642717497811983 x_{2,7} + 3.684012234224699 x_{3,7} + 3.4103668883936993 x_{4,7} + 3.9873539955161985 x_{5,7} + 2.511472845226199 x_{6,7} + 3.588136023149698 x_{7,7} + 3.164100304885647 x_{8,7} + 2.8613069645625098 x_{9,7} + 2.845687198100699 x_{10,7} + 2.765607109801199 x_{11,7} + 2.502461531796147 x_{12,7} + 2.3700422564561983 x_{13,7} + 2.651175640483647 x_{14,7} + 2.6461216246511987 x_{15,7} + 2.617199526113699 x_{16,7} + 2.286746930851198 x_{17,7} + 3.3445883661641966 x_{18,7} + 2.915830586683199 x_{19,7} + 3.707681554738198 x_{20,7} + 2.335713937298699 x_{21,7} + 2.9575961350811983 x_{22,7} + 2.818277976916199 x_{23,7} + 2.7879051033676463 x_{24,7} + 3.090447459041698 x_{25,7} + 2.599927915703699 x_{26,7} + 2.6835486751576463 x_{27,7} + 2.7103114947386997 x_{28,7} + 2.719283481564147 x_{29,7} + 3.166794118468199 x_{30,7} + 12.708095749723258 x_{1,8} + 11.454476927238659 x_{2,8} + 12.47418569056566 x_{3,8} + 11.690883126483657 x_{4,8} + 12.777559172973657 x_{5,8} + 10.81597337766366 x_{6,8} + 12.378341200607156 x_{7,8} + 11.739710944953659 x_{8,8} + 11.42470599816366 x_{9,8} + 11.635864609518661 x_{10,8} + 11.555812287258659 x_{11,8} + 11.080631872593658 x_{12,8} + 11.160247433913657 x_{13,8} + 11.27201409294366 x_{14,8} + 11.051931645393658 x_{15,8} + 11.162769873363658 x_{16,8} + 11.076952108308658 x_{17,8} + 12.134793543621656 x_{18,8} + 11.489329690068658 x_{19,8} + 12.497886732195656 x_{20,8} + 11.02247987014866 x_{21,8} + 11.747801312538657 x_{22,8} + 11.142789626148657 x_{23,8} + 11.40998278735866 x_{24,8} + 11.88065263649916 x_{25,8} + 10.949044692003657 x_{26,8} + 11.425406695218657 x_{27,8} + 11.422404328068659 x_{28,8} + 11.307210548688658 x_{29,8} + 11.926071383313657 x_{30,8} + 42.34784366735888 x_{1,9} + 41.094224844874276 x_{2,9} + 42.11393360820128 x_{3,9} + 41.33063104411928 x_{4,9} + 42.41730709060928 x_{5,9} + 40.45572129529928 x_{6,9} + 42.01808911824278 x_{7,9} + 41.379458862589274 x_{8,9} + 41.06445391579928 x_{9,9} + 41.27561252715429 x_{10,9} + 41.19556020489427 x_{11,9} + 40.72037979022928 x_{12,9} + 40.79999535154928 x_{13,9} + 40.91176201057928 x_{14,9} + 40.691679563029275 x_{15,9} + 40.802517790999275 x_{16,9} + 40.71670002594428 x_{17,9} + 41.77454146125728 x_{18,9} + 41.12907760770428 x_{19,9} + 42.13763464983128 x_{20,9} + 40.662227787784275 x_{21,9} + 41.38754923017428 x_{22,9} + 40.78253754378428 x_{23,9} + 41.04973070499427 x_{24,9} + 41.520400554134774 x_{25,9} + 40.58879260963928 x_{26,9} + 41.06515461285428 x_{27,9} + 41.062152245704276 x_{28,9} + 40.946958466324276 x_{29,9} + 41.56581930094928 x_{30,9} + 37.40923072379289 x_{1,10} + 36.155611901308276 x_{2,10} + 37.1753523857518 x_{3,10} + 36.9017070399208 x_{4,10} + 37.478694147043285 x_{5,10} + 36.0028129967533 x_{6,10} + 37.079476174676785 x_{7,10} + 36.440845919023275 x_{8,10} + 36.3347942997268 x_{9,10} + 36.33702734962781 x_{10,10} + 36.2569472613283 x_{11,10} + 35.8224444935158 x_{12,10} + 35.861382407983285 x_{13,10} + 35.97314906701328 x_{14,10} + 36.1374617761783 x_{15,10} + 36.1085396776408 x_{16,10} + 35.77808708237828 x_{17,10} + 36.835928517691286 x_{18,10} + 36.407170738210304 x_{19,10} + 37.199021706265285 x_{20,10} + 35.827054088825804 x_{21,10} + 36.44893628660827 x_{22,10} + 36.309618128443304 x_{23,10} + 36.11111776142829 x_{24,10} + 36.581787610568796 x_{25,10} + 36.0912680672308 x_{26,10} + 36.12654166928829 x_{27,10} + 36.201651646265795 x_{28,10} + 36.008345522758276 x_{29,10} + 36.658134269995294 x_{30,10} + 0.8262847401354111 x_{1,11} + 1.3898853442404115 x_{2,11} + 0.659134782305411 x_{3,11} + 0.1607224480509113 x_{4,11} + 0.7686374677854122 x_{5,11} + 0.8858400121209111 x_{6,11} + 0.40219701234241123 x_{7,11} + 0.5219134523522717 x_{8,11} + 0.6849145485489112 x_{9,11} + 0.6945032835984113 x_{10,11} + 0.7120274805579112 x_{11,11} + 0.711408500354411 x_{12,11} + 1.1677215527141873 x_{13,11} + 0.5738802068919772 x_{14,11} + 0.8789353915749112 x_{15,11} + 0.7410459303034821 x_{16,11} + 0.9806315414496785 x_{17,11} + 0.1442258201754113 x_{18,11} + 0.6227682872694108 x_{19,11} + 0.49885490618641093 x_{20,11} + 1.1917523409054114 x_{21,11} + 0.6720161039829112 x_{22,11} + 0.7526492699124113 x_{23,11} + 0.7164836969919771 x_{24,11} + 0.7277056288824807 x_{25,11} + 0.921161741316911 x_{26,11} + 0.7049888152224114 x_{27,11} + 0.8261169636264113 x_{28,11} + 0.5992164305949009 x_{29,11} - 0.08285032187458874 x_{30,11} + 16.68799122982981 x_{1,12} + 15.43437240734521 x_{2,12} + 16.45408117067221 x_{3,12} + 15.670778606590208 x_{4,12} + 16.757454653080206 x_{5,12} + 14.795868857770213 x_{6,12} + 16.358236680713706 x_{7,12} + 15.719606425060208 x_{8,12} + 15.404601478270207 x_{9,12} + 15.615760089625208 x_{10,12} + 15.53570776736521 x_{11,12} + 15.060527352700209 x_{12,12} + 15.140142914020206 x_{13,12} + 15.251909573050211 x_{14,12} + 15.03182712550021 x_{15,12} + 15.142665353470209 x_{16,12} + 15.056847588415211 x_{17,12} + 16.114689023728207 x_{18,12} + 15.46922517017521 x_{19,12} + 16.477782212302206 x_{20,12} + 15.002375350255209 x_{21,12} + 15.72769679264521 x_{22,12} + 15.122685106255208 x_{23,12} + 15.38987826746521 x_{24,12} + 15.86054811660571 x_{25,12} + 14.928940172110206 x_{26,12} + 15.405302175325208 x_{27,12} + 15.40229980817521 x_{28,12} + 15.28710602879521 x_{29,12} + 15.90596686342021 x_{30,12} + 12.71394313034318 x_{1,13} + 13.967561952827781 x_{2,13} + 12.947853189500776 x_{3,13} + 13.73115575358278 x_{4,13} + 12.644479707092781 x_{5,13} + 14.093646681133277 x_{6,13} + 13.043697679459282 x_{7,13} + 13.682327935112781 x_{8,13} + 13.997332881902778 x_{9,13} + 13.786174270547779 x_{10,13} + 13.866226592807779 x_{11,13} + 14.02202565049778 x_{12,13} + 14.261791446152781 x_{13,13} + 13.816130996686281 x_{14,13} + 14.370107234672783 x_{15,13} + 14.017036102676782 x_{16,13} + 14.34508677175778 x_{17,13} + 13.28724533644478 x_{18,13} + 13.93270918999778 x_{19,13} + 12.924152147870782 x_{20,13} + 14.399559009917779 x_{21,13} + 13.674237567527781 x_{22,13} + 14.27924925391778 x_{23,13} + 13.716556897960277 x_{24,13} + 13.43806589126378 x_{25,13} + 14.266375297583782 x_{26,13} + 13.878506403593777 x_{27,13} + 13.999634551997776 x_{28,13} + 13.782595883929279 x_{29,13} + 13.49596749675278 x_{30,13} + 0.9255104467762373 x_{1,14} + 0.14326094365592024 x_{2,14} + 0.6916003876186374 x_{3,14} + 0.3112505354798591 x_{4,14} + 0.9949738700266375 x_{5,14} + 0.06760703391018989 x_{6,14} + 0.5957558976601374 x_{7,14} + 0.6197722246683225 x_{8,14} + 0.3408471242560434 x_{9,14} + 0.2036459333665435 x_{10,14} + 0.2630000858575435 x_{11,14} + 0.06457032987615013 x_{12,14} + 0.10875837990965473 x_{13,14} + 0.1068475602663227 x_{14,14} + 0.07771868878996357 x_{15,14} + 0.07371661086788567 x_{16,14} + 0.09806315414496786 x_{17,14} + 0.3522082406746374 x_{18,14} + 0.4132235627395434 x_{19,14} + 0.7153014292486376 x_{20,14} + 0.1332529745042493 x_{21,14} + 0.10652191610054351 x_{22,14} + 0.09880514841729279 x_{23,14} + 0.24357702315032265 x_{24,14} + 0.3321457422438226 x_{25,14} + 0.06714306299982452 x_{26,14} + 0.13922059494032266 x_{27,14} + 0.20770447079504348 x_{28,14} + 0.17495540134682266 x_{29,14} + 0.14348608036663746 x_{30,14} + 1.2044061861658102 x_{1,15} + 0.5022742452579547 x_{2,15} + 5.148659636348594 x_{3,15} + 5.045711552606114 x_{4,15} + 35.82922368131374 x_{5,15} + 3.3808300927159105 x_{7,15} + 2.92369271683397 x_{9,15} + 0.26676925943481056 x_{18,15} + 2.229417218218108 x_{19,15} + 2.798307201840139 x_{20,15} + 1.3496471955769407 x_{21,15} + theta \\geq -1.6224751274787537e6 $$"
      ],
      "text/plain": [
       "1.3220747403589865 x[1,1] + 2.198557475293465 x[2,1] + 0.6743950229994301 x[3,1] + 0.11092038917519506 x[4,1] + 1.6543707363067766 x[5,1] + 0.9994117352487749 x[6,1] + 1.2772678395527557 x[7,1] + 0.9699313732067554 x[8,1] + 0.5172683792102557 x[9,1] + 0.43454075414605586 x[10,1] + 0.3535237239842557 x[11,1] + 1.0062281032532552 x[12,1] + 1.5020821858877555 x[13,1] + 0.7432841475692555 x[14,1] + 1.1255186035292555 x[15,1] + 0.7538218683407558 x[16,1] + 1.3286388690137556 x[17,1] + 1.3217247554387557 x[18,1] + 0.5037472008662558 x[19,1] + 1.3872129142742557 x[20,1] + 1.3989464510792557 x[21,1] + 0.4593266486874252 x[22,1] + 0.8492132917367555 x[23,1] + 0.7472937473267556 x[24,1] + 0.8959189903327027 x[25,1] + 1.128355851490756 x[26,1] + 0.5885971340372557 x[27,1] + 0.5032153786847556 x[28,1] + 0.7804945007042557 x[29,1] + 1.0107935004455875 x[30,1] + 1.2104112555449973 x[1,2] + 1.4560881958799996 x[2,2] + 0.9184051244235008 x[3,2] + 0.6447597785925012 x[4,2] + 1.2217468857149925 x[5,2] + 0.7398513764190007 x[6,2] + 0.9237441155685033 x[7,2] + 0.6164076492225021 x[8,2] + 0.16374465522599735 x[9,2] + 0.0810170301617994 x[10,2] + 0.6628800741164991 x[12,2] + 1.1491061721300007 x[13,2] + 0.41346594962550043 x[14,2] + 0.9125222200425007 x[15,2] + 0.40029814435650124 x[16,2] + 0.9791289031754999 x[17,2] + 0.9682010314545018 x[18,2] + 0.15022347688200455 x[19,2] + 1.0336891902899978 x[20,2] + 1.0454227270950014 x[21,2] + 0.19361537235900173 x[22,2] + 0.4956895677524997 x[23,2] + 0.39377002334249944 x[24,2] + 0.9018659842440009 x[25,2] + 0.8563894040009998 x[26,2] + 0.23507341005299942 x[27,2] + 0.14969165470050072 x[28,2] + 0.48022544401350054 x[29,2] + 0.7948778024324987 x[30,2] + 4.851173671602722 x[1,3] + 3.5975548491181226 x[2,3] + 4.617295333561622 x[3,3] + 4.343649987730622 x[4,3] + 4.920637094853121 x[5,3] + 3.4447559445631226 x[6,3] + 4.521419122486621 x[7,3] + 3.882788866833123 x[8,3] + 3.776737247536622 x[9,3] + 3.778970297437623 x[10,3] + 3.6988902091381215 x[11,3] + 3.2643874413256233 x[12,3] + 3.3033253557931213 x[13,3] + 3.4150920148231227 x[14,3] + 3.5794047239881226 x[15,3] + 3.5504826254506225 x[16,3] + 3.220030030188121 x[17,3] + 4.277871465501122 x[18,3] + 3.849113686020122 x[19,3] + 4.640964654075121 x[20,3] + 3.2689970366356222 x[21,3] + 3.8908792344181213 x[22,3] + 3.751561076253122 x[23,3] + 3.5530607092381237 x[24,3] + 4.023730558378623 x[25,3] + 3.5332110150406217 x[26,3] + 3.5684846170981217 x[27,3] + 3.6435945940756227 x[28,3] + 3.450288470568122 x[29,3] + 4.100077217805122 x[30,3] + 1.210411255545 x[1,4] + 1.4560881958799996 x[2,4] + 0.9184051244235008 x[3,4] + 0.6447597785924994 x[4,4] + 1.2217468857149996 x[5,4] + 0.7398513764189998 x[6,4] + 0.9237441155684998 x[7,4] + 0.6164076492225004 x[8,4] + 0.16374465522599913 x[9,4] + 0.08101703016180029 x[10,4] + 0.6628800741165 x[12,4] + 1.1491061721299998 x[13,4] + 0.4134659496255 x[14,4] + 0.9125222200424999 x[15,4] + 0.4002981443564999 x[16,4] + 0.9791289031754999 x[17,4] + 0.9682010314545 x[18,4] + 0.15022347688199922 x[19,4] + 1.0336891902899996 x[20,4] + 1.0454227270949996 x[21,4] + 0.19361537235899995 x[22,4] + 0.4956895677525001 x[23,4] + 0.3937700233424999 x[24,4] + 0.9018659842440001 x[25,4] + 0.8563894040009998 x[26,4] + 0.23507341005299986 x[27,4] + 0.14969165470049983 x[28,4] + 0.48022544401350015 x[29,4] + 0.7948778024325001 x[30,4] + 4.229407773110544 x[1,5] + 4.475084713445543 x[2,5] + 3.937401641989044 x[3,5] + 3.6637562961580423 x[4,5] + 4.240743403280547 x[5,5] + 3.7585069158760436 x[6,5] + 3.9427406331340435 x[7,5] + 3.271541176655543 x[8,5] + 3.1827411727915442 x[9,5] + 3.1000135477273436 x[10,5] + 3.0189965175655438 x[11,5] + 3.6750642994810443 x[12,5] + 4.1681026896955435 x[13,5] + 3.4107989629630433 x[14,5] + 3.7909913971105444 x[15,5] + 3.4174993616800435 x[16,5] + 3.998125420741044 x[17,5] + 3.9871975490200446 x[18,5] + 3.1692199944475443 x[19,5] + 4.052685707855544 x[20,5] + 4.0644192446605425 x[21,5] + 3.2126118899245446 x[22,5] + 3.4535656142725424 x[23,5] + 3.330446000480543 x[24,5] + 3.424599141065543 x[25,5] + 3.793828645072043 x[26,5] + 3.2202391035610427 x[27,5] + 3.168688172266044 x[28,5] + 3.445967294285544 x[29,5] + 3.8138743199980434 x[30,5] + 1.0436715525682823 x[1,6] + 1.2893484929032821 x[2,6] + 0.7516654214467823 x[3,6] + 0.4780200756157821 x[4,6] + 1.0550071827382812 x[5,6] + 0.5731116734422822 x[6,6] + 0.7570044125917823 x[7,6] + 0.4496679462457821 x[8,6] - 0.1667397029767177 x[11,6] + 0.4961403711397821 x[12,6] + 0.9823664691532823 x[13,6] + 0.24672624664878226 x[14,6] + 0.7117395710238769 x[15,6] + 0.23355844137978224 x[16,6] + 0.8123892001987822 x[17,6] + 0.8014613284777824 x[18,6] + 0.8669494873132821 x[20,6] + 0.8786830241182821 x[21,6] + 0.026875669382282252 x[22,6] + 0.3289498647757823 x[23,6] + 0.22703032036578222 x[24,6] + 0.6472557603628095 x[25,6] + 0.6290244849457244 x[26,6] + 0.06833370707628228 x[27,6] + 0.31348574103678223 x[29,6] + 0.6281380994557823 x[30,6] + 3.9178905722657973 x[1,7] + 2.6642717497811983 x[2,7] + 3.684012234224699 x[3,7] + 3.4103668883936993 x[4,7] + 3.9873539955161985 x[5,7] + 2.511472845226199 x[6,7] + 3.588136023149698 x[7,7] + 3.164100304885647 x[8,7] + 2.8613069645625098 x[9,7] + 2.845687198100699 x[10,7] + 2.765607109801199 x[11,7] + 2.502461531796147 x[12,7] + 2.3700422564561983 x[13,7] + 2.651175640483647 x[14,7] + 2.6461216246511987 x[15,7] + 2.617199526113699 x[16,7] + 2.286746930851198 x[17,7] + 3.3445883661641966 x[18,7] + 2.915830586683199 x[19,7] + 3.707681554738198 x[20,7] + 2.335713937298699 x[21,7] + 2.9575961350811983 x[22,7] + 2.818277976916199 x[23,7] + 2.7879051033676463 x[24,7] + 3.090447459041698 x[25,7] + 2.599927915703699 x[26,7] + 2.6835486751576463 x[27,7] + 2.7103114947386997 x[28,7] + 2.719283481564147 x[29,7] + 3.166794118468199 x[30,7] + 12.708095749723258 x[1,8] + 11.454476927238659 x[2,8] + 12.47418569056566 x[3,8] + 11.690883126483657 x[4,8] + 12.777559172973657 x[5,8] + 10.81597337766366 x[6,8] + 12.378341200607156 x[7,8] + 11.739710944953659 x[8,8] + 11.42470599816366 x[9,8] + 11.635864609518661 x[10,8] + 11.555812287258659 x[11,8] + 11.080631872593658 x[12,8] + 11.160247433913657 x[13,8] + 11.27201409294366 x[14,8] + 11.051931645393658 x[15,8] + 11.162769873363658 x[16,8] + 11.076952108308658 x[17,8] + 12.134793543621656 x[18,8] + 11.489329690068658 x[19,8] + 12.497886732195656 x[20,8] + 11.02247987014866 x[21,8] + 11.747801312538657 x[22,8] + 11.142789626148657 x[23,8] + 11.40998278735866 x[24,8] + 11.88065263649916 x[25,8] + 10.949044692003657 x[26,8] + 11.425406695218657 x[27,8] + 11.422404328068659 x[28,8] + 11.307210548688658 x[29,8] + 11.926071383313657 x[30,8] + 42.34784366735888 x[1,9] + 41.094224844874276 x[2,9] + 42.11393360820128 x[3,9] + 41.33063104411928 x[4,9] + 42.41730709060928 x[5,9] + 40.45572129529928 x[6,9] + 42.01808911824278 x[7,9] + 41.379458862589274 x[8,9] + 41.06445391579928 x[9,9] + 41.27561252715429 x[10,9] + 41.19556020489427 x[11,9] + 40.72037979022928 x[12,9] + 40.79999535154928 x[13,9] + 40.91176201057928 x[14,9] + 40.691679563029275 x[15,9] + 40.802517790999275 x[16,9] + 40.71670002594428 x[17,9] + 41.77454146125728 x[18,9] + 41.12907760770428 x[19,9] + 42.13763464983128 x[20,9] + 40.662227787784275 x[21,9] + 41.38754923017428 x[22,9] + 40.78253754378428 x[23,9] + 41.04973070499427 x[24,9] + 41.520400554134774 x[25,9] + 40.58879260963928 x[26,9] + 41.06515461285428 x[27,9] + 41.062152245704276 x[28,9] + 40.946958466324276 x[29,9] + 41.56581930094928 x[30,9] + 37.40923072379289 x[1,10] + 36.155611901308276 x[2,10] + 37.1753523857518 x[3,10] + 36.9017070399208 x[4,10] + 37.478694147043285 x[5,10] + 36.0028129967533 x[6,10] + 37.079476174676785 x[7,10] + 36.440845919023275 x[8,10] + 36.3347942997268 x[9,10] + 36.33702734962781 x[10,10] + 36.2569472613283 x[11,10] + 35.8224444935158 x[12,10] + 35.861382407983285 x[13,10] + 35.97314906701328 x[14,10] + 36.1374617761783 x[15,10] + 36.1085396776408 x[16,10] + 35.77808708237828 x[17,10] + 36.835928517691286 x[18,10] + 36.407170738210304 x[19,10] + 37.199021706265285 x[20,10] + 35.827054088825804 x[21,10] + 36.44893628660827 x[22,10] + 36.309618128443304 x[23,10] + 36.11111776142829 x[24,10] + 36.581787610568796 x[25,10] + 36.0912680672308 x[26,10] + 36.12654166928829 x[27,10] + 36.201651646265795 x[28,10] + 36.008345522758276 x[29,10] + 36.658134269995294 x[30,10] + 0.8262847401354111 x[1,11] + 1.3898853442404115 x[2,11] + 0.659134782305411 x[3,11] + 0.1607224480509113 x[4,11] + 0.7686374677854122 x[5,11] + 0.8858400121209111 x[6,11] + 0.40219701234241123 x[7,11] + 0.5219134523522717 x[8,11] + 0.6849145485489112 x[9,11] + 0.6945032835984113 x[10,11] + 0.7120274805579112 x[11,11] + 0.711408500354411 x[12,11] + 1.1677215527141873 x[13,11] + 0.5738802068919772 x[14,11] + 0.8789353915749112 x[15,11] + 0.7410459303034821 x[16,11] + 0.9806315414496785 x[17,11] + 0.1442258201754113 x[18,11] + 0.6227682872694108 x[19,11] + 0.49885490618641093 x[20,11] + 1.1917523409054114 x[21,11] + 0.6720161039829112 x[22,11] + 0.7526492699124113 x[23,11] + 0.7164836969919771 x[24,11] + 0.7277056288824807 x[25,11] + 0.921161741316911 x[26,11] + 0.7049888152224114 x[27,11] + 0.8261169636264113 x[28,11] + 0.5992164305949009 x[29,11] - 0.08285032187458874 x[30,11] + 16.68799122982981 x[1,12] + 15.43437240734521 x[2,12] + 16.45408117067221 x[3,12] + 15.670778606590208 x[4,12] + 16.757454653080206 x[5,12] + 14.795868857770213 x[6,12] + 16.358236680713706 x[7,12] + 15.719606425060208 x[8,12] + 15.404601478270207 x[9,12] + 15.615760089625208 x[10,12] + 15.53570776736521 x[11,12] + 15.060527352700209 x[12,12] + 15.140142914020206 x[13,12] + 15.251909573050211 x[14,12] + 15.03182712550021 x[15,12] + 15.142665353470209 x[16,12] + 15.056847588415211 x[17,12] + 16.114689023728207 x[18,12] + 15.46922517017521 x[19,12] + 16.477782212302206 x[20,12] + 15.002375350255209 x[21,12] + 15.72769679264521 x[22,12] + 15.122685106255208 x[23,12] + 15.38987826746521 x[24,12] + 15.86054811660571 x[25,12] + 14.928940172110206 x[26,12] + 15.405302175325208 x[27,12] + 15.40229980817521 x[28,12] + 15.28710602879521 x[29,12] + 15.90596686342021 x[30,12] + 12.71394313034318 x[1,13] + 13.967561952827781 x[2,13] + 12.947853189500776 x[3,13] + 13.73115575358278 x[4,13] + 12.644479707092781 x[5,13] + 14.093646681133277 x[6,13] + 13.043697679459282 x[7,13] + 13.682327935112781 x[8,13] + 13.997332881902778 x[9,13] + 13.786174270547779 x[10,13] + 13.866226592807779 x[11,13] + 14.02202565049778 x[12,13] + 14.261791446152781 x[13,13] + 13.816130996686281 x[14,13] + 14.370107234672783 x[15,13] + 14.017036102676782 x[16,13] + 14.34508677175778 x[17,13] + 13.28724533644478 x[18,13] + 13.93270918999778 x[19,13] + 12.924152147870782 x[20,13] + 14.399559009917779 x[21,13] + 13.674237567527781 x[22,13] + 14.27924925391778 x[23,13] + 13.716556897960277 x[24,13] + 13.43806589126378 x[25,13] + 14.266375297583782 x[26,13] + 13.878506403593777 x[27,13] + 13.999634551997776 x[28,13] + 13.782595883929279 x[29,13] + 13.49596749675278 x[30,13] + 0.9255104467762373 x[1,14] + 0.14326094365592024 x[2,14] + 0.6916003876186374 x[3,14] + 0.3112505354798591 x[4,14] + 0.9949738700266375 x[5,14] + 0.06760703391018989 x[6,14] + 0.5957558976601374 x[7,14] + 0.6197722246683225 x[8,14] + 0.3408471242560434 x[9,14] + 0.2036459333665435 x[10,14] + 0.2630000858575435 x[11,14] + 0.06457032987615013 x[12,14] + 0.10875837990965473 x[13,14] + 0.1068475602663227 x[14,14] + 0.07771868878996357 x[15,14] + 0.07371661086788567 x[16,14] + 0.09806315414496786 x[17,14] + 0.3522082406746374 x[18,14] + 0.4132235627395434 x[19,14] + 0.7153014292486376 x[20,14] + 0.1332529745042493 x[21,14] + 0.10652191610054351 x[22,14] + 0.09880514841729279 x[23,14] + 0.24357702315032265 x[24,14] + 0.3321457422438226 x[25,14] + 0.06714306299982452 x[26,14] + 0.13922059494032266 x[27,14] + 0.20770447079504348 x[28,14] + 0.17495540134682266 x[29,14] + 0.14348608036663746 x[30,14] + 1.2044061861658102 x[1,15] + 0.5022742452579547 x[2,15] + 5.148659636348594 x[3,15] + 5.045711552606114 x[4,15] + 35.82922368131374 x[5,15] + 3.3808300927159105 x[7,15] + 2.92369271683397 x[9,15] + 0.26676925943481056 x[18,15] + 2.229417218218108 x[19,15] + 2.798307201840139 x[20,15] + 1.3496471955769407 x[21,15] + theta >= -1.6224751274787537e6"
      ]
     },
     "execution_count": 231,
     "metadata": {},
     "output_type": "execute_result"
    }
   ],
   "source": [
    "G = cuts[1][\"gradient\"]\n",
    "g = cuts[1][\"intersection\"]\n",
    "@constraint(model, theta >= sum(x .* G) + g)"
   ]
  },
  {
   "cell_type": "code",
   "execution_count": null,
   "id": "7f2c2a07",
   "metadata": {},
   "outputs": [],
   "source": [
    "###########\n",
    "proD = (x .* Matrix(regional_EF[:,2:end])) * ones(nproc,1) \n",
    "\n",
    "pro_sink = zeros(ncty, nproc)\n",
    "for k in 1:nproc\n",
    "    for i in 1:ncty\n",
    "        pro_sink[i,k] = regional_EF[i, k+1] * (sink_c[i]/emission_c[i] + es_ratio)\n",
    "    end\n",
    "end\n",
    "proS = (x.*pro_sink)*ones(nproc,1) \n",
    "\n",
    "@objective(model, Min, sum(proD-proS)+theta)\n",
    "JuMP.optimize!(model);"
   ]
  },
  {
   "cell_type": "code",
   "execution_count": 275,
   "id": "c6b90073",
   "metadata": {},
   "outputs": [
    {
     "data": {
      "text/plain": [
       "-1.6224751274787537e6"
      ]
     },
     "execution_count": 275,
     "metadata": {},
     "output_type": "execute_result"
    }
   ],
   "source": [
    "g"
   ]
  },
  {
   "cell_type": "code",
   "execution_count": 276,
   "id": "664dfd16",
   "metadata": {},
   "outputs": [
    {
     "data": {
      "text/plain": [
       "8.983529970885588e6"
      ]
     },
     "execution_count": 276,
     "metadata": {},
     "output_type": "execute_result"
    }
   ],
   "source": [
    "sum(-x_hat .* G)"
   ]
  },
  {
   "cell_type": "code",
   "execution_count": 264,
   "id": "03ada4fd",
   "metadata": {},
   "outputs": [
    {
     "data": {
      "text/plain": [
       "7.361054843406834e6"
      ]
     },
     "execution_count": 264,
     "metadata": {},
     "output_type": "execute_result"
    }
   ],
   "source": [
    "-sum(x_hat .* G) + g"
   ]
  },
  {
   "cell_type": "code",
   "execution_count": null,
   "id": "010759b4",
   "metadata": {},
   "outputs": [],
   "source": []
  },
  {
   "cell_type": "code",
   "execution_count": null,
   "id": "cd8d174e",
   "metadata": {},
   "outputs": [],
   "source": []
  },
  {
   "cell_type": "code",
   "execution_count": null,
   "id": "227cb3a5",
   "metadata": {},
   "outputs": [],
   "source": []
  },
  {
   "cell_type": "code",
   "execution_count": null,
   "id": "f6af134a",
   "metadata": {},
   "outputs": [],
   "source": []
  },
  {
   "cell_type": "code",
   "execution_count": null,
   "id": "6f7f8392",
   "metadata": {},
   "outputs": [],
   "source": []
  },
  {
   "cell_type": "code",
   "execution_count": null,
   "id": "a8ee8361",
   "metadata": {},
   "outputs": [],
   "source": []
  },
  {
   "cell_type": "code",
   "execution_count": null,
   "id": "1c4fbfdd",
   "metadata": {},
   "outputs": [],
   "source": []
  },
  {
   "cell_type": "code",
   "execution_count": null,
   "id": "cbec3ea2",
   "metadata": {},
   "outputs": [],
   "source": []
  },
  {
   "cell_type": "code",
   "execution_count": null,
   "id": "64f1b47c",
   "metadata": {},
   "outputs": [],
   "source": []
  },
  {
   "cell_type": "code",
   "execution_count": null,
   "id": "18294421",
   "metadata": {},
   "outputs": [],
   "source": []
  },
  {
   "cell_type": "code",
   "execution_count": null,
   "id": "aa7b8c73",
   "metadata": {},
   "outputs": [],
   "source": []
  },
  {
   "cell_type": "code",
   "execution_count": null,
   "id": "ab424ee0",
   "metadata": {},
   "outputs": [],
   "source": []
  },
  {
   "cell_type": "code",
   "execution_count": null,
   "id": "f658f398",
   "metadata": {},
   "outputs": [],
   "source": []
  },
  {
   "cell_type": "code",
   "execution_count": null,
   "id": "8b0c2e3a",
   "metadata": {},
   "outputs": [],
   "source": []
  },
  {
   "cell_type": "code",
   "execution_count": null,
   "id": "175651c7",
   "metadata": {},
   "outputs": [],
   "source": []
  },
  {
   "cell_type": "code",
   "execution_count": null,
   "id": "fe3c523c",
   "metadata": {},
   "outputs": [],
   "source": []
  },
  {
   "cell_type": "code",
   "execution_count": null,
   "id": "e9e3933d",
   "metadata": {},
   "outputs": [],
   "source": []
  },
  {
   "cell_type": "code",
   "execution_count": null,
   "id": "53c9c6a7",
   "metadata": {},
   "outputs": [],
   "source": []
  },
  {
   "cell_type": "code",
   "execution_count": null,
   "id": "55e0dbf4",
   "metadata": {},
   "outputs": [],
   "source": []
  },
  {
   "cell_type": "code",
   "execution_count": null,
   "id": "90820212",
   "metadata": {},
   "outputs": [],
   "source": []
  },
  {
   "cell_type": "code",
   "execution_count": null,
   "id": "00a1656e",
   "metadata": {},
   "outputs": [],
   "source": []
  },
  {
   "cell_type": "code",
   "execution_count": null,
   "id": "0450b124",
   "metadata": {},
   "outputs": [],
   "source": []
  },
  {
   "cell_type": "code",
   "execution_count": null,
   "id": "c65500b5",
   "metadata": {},
   "outputs": [],
   "source": []
  },
  {
   "cell_type": "code",
   "execution_count": null,
   "id": "ae9a0267",
   "metadata": {},
   "outputs": [],
   "source": []
  },
  {
   "cell_type": "code",
   "execution_count": null,
   "id": "9dc7519c",
   "metadata": {},
   "outputs": [],
   "source": []
  },
  {
   "cell_type": "code",
   "execution_count": null,
   "id": "c0100930",
   "metadata": {},
   "outputs": [],
   "source": []
  },
  {
   "cell_type": "markdown",
   "id": "3a69b8f0",
   "metadata": {},
   "source": [
    "-----"
   ]
  },
  {
   "cell_type": "code",
   "execution_count": 185,
   "id": "140f29b1",
   "metadata": {},
   "outputs": [
    {
     "data": {
      "text/plain": [
       "gen_fea (generic function with 1 method)"
      ]
     },
     "execution_count": 185,
     "metadata": {},
     "output_type": "execute_result"
    }
   ],
   "source": [
    "function gen_fea(x_hat)\n",
    "    ls = []\n",
    "    for s in 1: num_omega\n",
    "        model = Model(Gurobi.Optimizer)\n",
    "        set_silent(model)\n",
    "        @variable(model, y[1:ncty, 1:ncty, 1:nproc] >= 0)\n",
    "        @variable(model, unmeet >= 0)\n",
    "\n",
    "        cstr_op = [@constraint(model, sum(y[i,j,k] for j in 1:ncty) <= Omega[i,s,k] * x_hat[i,k]) for k in 1:nproc for i in 1:ncty]\n",
    "        cstr_cth = [@constraint(model, sum(y[i,j,k] for i in 1:ncty) == Omega[j,s,k] * x_hat[j,5]*scaler[k]) for k in cathode for j in 1:ncty]\n",
    "        cstr_cell = [@constraint(model, sum(y[i,j,k] for i in 1:ncty) == Omega[j,s,k] * x_hat[j,11]*scaler[k]) for k in cell for j in 1:ncty]\n",
    "        cstr_noncell = [@constraint(model, sum(y[i,j,k] for i in 1:ncty) == Omega[j,s,k] * x_hat[j,14]*scaler[k]) for k in noncell for j in 1:ncty]\n",
    "        cstr_battery = [@constraint(model, sum(y[i,j,k] for i in 1:ncty) == Omega[j,s,k] * x_hat[j,15]*scaler[k]) for k in battery for j in 1:ncty] \n",
    "\n",
    "        cstr_fmk = [@constraint(model, sum(y[i,mkt_loc,mkt_proc] for i in 1:ncty) + unmeet == scen_dmd[s])]\n",
    "        cstr_fmko = [@constraint(model, sum(y[i,j,mkt_proc] for i in 1:ncty) == 0) for j in filter!(e->e!=mkt_loc,collect(1:ncty))]\n",
    "\n",
    "\n",
    "        transD = Vector{AffExpr}(undef, ncty)\n",
    "        for j in 1:ncty\n",
    "            arc_emi = 0\n",
    "            for i in 1:ncty\n",
    "                amount = sum(y[i,j,k] for k in 1:nproc)\n",
    "                arc_emi += amount * distance[!, 2:end][i,j] * EF_trans\n",
    "            end\n",
    "            transD[j] = arc_emi  # ncty*1 matrix\n",
    "        end\n",
    "\n",
    "        sink_ratio = zeros(ncty, nproc)\n",
    "        for k in 1:nproc\n",
    "            for i in 1:ncty\n",
    "                sink_ratio[i,k] = regional_EF[i, k+1] * (sink_c[i]/emission_c[i] + es_ratio)\n",
    "            end\n",
    "        end\n",
    "        overprod_penalty = sum((x_hat - sum(y, dims=2)[:,1,:]) .* sink_ratio)\n",
    "\n",
    "\n",
    "\n",
    "        @objective(model, Min, sum(transD) + unmeet*penalty + overprod_penalty)\n",
    "        JuMP.optimize!(model)\n",
    "\n",
    "        if termination_status(model) == MOI.OPTIMAL\n",
    "            push!(ls, s)\n",
    "        end\n",
    "    end\n",
    "    \n",
    "    return ls\n",
    "    \n",
    "end"
   ]
  }
 ],
 "metadata": {
  "@webio": {
   "lastCommId": null,
   "lastKernelId": null
  },
  "kernelspec": {
   "display_name": "Julia 1.8.3",
   "language": "julia",
   "name": "julia-1.8"
  },
  "language_info": {
   "file_extension": ".jl",
   "mimetype": "application/julia",
   "name": "julia",
   "version": "1.8.3"
  }
 },
 "nbformat": 4,
 "nbformat_minor": 5
}
