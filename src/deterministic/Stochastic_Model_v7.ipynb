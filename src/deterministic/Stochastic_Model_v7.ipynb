{
 "cells": [
  {
   "cell_type": "code",
   "execution_count": 9,
   "id": "5edf3ebd",
   "metadata": {},
   "outputs": [],
   "source": [
    "using JuMP, Gurobi\n",
    "using CSV, LinearAlgebra, DataFrames\n",
    "using Plots\n",
    "using DelimitedFiles\n",
    "using Random"
   ]
  },
  {
   "cell_type": "code",
   "execution_count": 10,
   "id": "04c3d8be",
   "metadata": {},
   "outputs": [],
   "source": [
    "path = \"C:/Users/bourg/.julia/environments/batterySC/Li-battery-SC/src/deterministic/data/\";"
   ]
  },
  {
   "cell_type": "code",
   "execution_count": 11,
   "id": "93d2a5ce",
   "metadata": {},
   "outputs": [],
   "source": [
    "#load social and ecological data and orgnize \n",
    "FL = repeat([Float64], inner=15)\n",
    "dtype = append!([String], FL);\n",
    "\n",
    "regional_EF = CSV.File(string(path,\"EF_SC.csv\"),header=1,delim=\",\", types=dtype) |> DataFrame    \n",
    "capacity = CSV.File(string(path,\"capacity30_.csv\"),header=1,delim=\",\", types=dtype) |> DataFrame    \n",
    "distance = CSV.File(string(path,\"distance30.csv\"),header=1,delim=\",\") |> DataFrame \n",
    "LCA_model = CSV.File(string(path,\"LCA_model.csv\"),header=1,delim=\",\") |> DataFrame \n",
    "D_Dsoc = CSV.File(string(path,\"D_Dsoc.csv\"),header=1,delim=\",\") |> DataFrame\n",
    "emi_sink = CSV.File(string(path,\"emission_sink.csv\"),header=1,delim=\",\") |> DataFrame;"
   ]
  },
  {
   "cell_type": "code",
   "execution_count": 12,
   "id": "5118b2b5",
   "metadata": {},
   "outputs": [],
   "source": [
    "global_sink = 1.099e10                        # global pub (ocean) CO2 sequestration (ton/yr)\n",
    "global_sink_tot = 2.236e10                  # global total (ocean+land) CO2 sequestration (ton/yr)\n",
    "global_emi = 3.53e10                          # global CO2 emission (ton/yr)\n",
    "global_gdp = 96882e9                          # 2021 global GDP ($/yr)\n",
    "es_ratio = global_sink/global_emi\n",
    "es_ratio_tot = global_sink_tot/global_emi\n",
    "\n",
    "emission_c = emi_sink[!, \"emission\"]          # national CO2 emission (ton/yr)\n",
    "sink_c = emi_sink[!, \"sink ton/yr\"] .* 0.6          # national CO2 sink (ton/yr)\n",
    "Dsoc = D_Dsoc[!, \"Dsoc ton/yr\"]           # national CO2 sink (ton/yr)\n",
    "\n",
    "EF_trans = 1.005/10000                        # ton CO2/km*ton (The average freight truck in the U.S. emits 161.8 grams of CO2 per ton-mile)\n",
    "# EF_trans = 86/1000000                          #5-LH trucks emit on average 56.6 gCO2/tkm while 5-RD emit 84.0 gCO2/tkm\n",
    "process = LCA_model[!,\"process\"]\n",
    "countries = capacity[!,\"country\"]\n",
    "ncty = size(countries,1)                          # No. of countries\n",
    "nproc = size(process,1);                          # No. of processes \n",
    "\n",
    "mkt_loc = findfirst(isequal(\"United States\"), countries)\n",
    "mkt_proc = findfirst(isequal(\"battery\"), process)\n",
    "\n",
    "# seperate model\n",
    "cathode = collect(1:4)\n",
    "cell = collect(5:10)\n",
    "noncell = [12,13]\n",
    "battery = [11,14]\n",
    "scaler = LCA_model[!,\"scaler\"]\n",
    "penalty = 5; # ton/yr;"
   ]
  },
  {
   "cell_type": "code",
   "execution_count": 13,
   "id": "f1b13094",
   "metadata": {},
   "outputs": [],
   "source": [
    "# list = [1,4,5,31,37,38,49];\n",
    "# list = [1,4,5,11,21,31,37,41,49];\n",
    "list = [1,3,4,5,9,17,18,31,32,37,38,41,43,44,48,49];\n",
    "# list = [1];"
   ]
  },
  {
   "cell_type": "code",
   "execution_count": 14,
   "id": "e8062306",
   "metadata": {},
   "outputs": [
    {
     "data": {
      "text/plain": [
       "452000"
      ]
     },
     "execution_count": 14,
     "metadata": {},
     "output_type": "execute_result"
    }
   ],
   "source": [
    "scen_eff = CSV.File(string(path,\"Scenarios/Scen_Efficiency2.csv\"), header=1, delim=\",\") |> DataFrame\n",
    "scen_eff = Matrix(scen_eff)[:, 2:end]\n",
    "scen_eff = scen_eff[:, list]\n",
    "num_omega = size(scen_eff)[2]\n",
    "\n",
    "scen_dmd = CSV.File(string(path,\"Scenarios/Scen_Demand.csv\"), header=1, delim=\",\") |> DataFrame\n",
    "scen_dmd = Matrix(scen_dmd)[2:end][list]\n",
    "# scen_dmd = ones(num_omega) .* 452000\n",
    "\n",
    "Omega = ones(Float64, ncty, num_omega, nproc);  # Omega[ncty,nscena,nproc]\n",
    "Omega[:, :, 1] = scen_eff;\n",
    "\n",
    "dmd_fixed = 452000"
   ]
  },
  {
   "cell_type": "markdown",
   "id": "103e72e2",
   "metadata": {},
   "source": [
    "---"
   ]
  },
  {
   "cell_type": "code",
   "execution_count": null,
   "id": "835d560a",
   "metadata": {},
   "outputs": [],
   "source": []
  },
  {
   "cell_type": "markdown",
   "id": "3573e90d",
   "metadata": {},
   "source": [
    "### Solve Subproblem - Get Dual $\\pi$ & $\\alpha$"
   ]
  },
  {
   "cell_type": "code",
   "execution_count": 68,
   "id": "551a9acc",
   "metadata": {},
   "outputs": [
    {
     "data": {
      "text/plain": [
       "subprob (generic function with 1 method)"
      ]
     },
     "execution_count": 68,
     "metadata": {},
     "output_type": "execute_result"
    }
   ],
   "source": [
    "function subprob(x_hat, s) # s represents specific scenario     \n",
    "    \n",
    "    model = Model(Gurobi.Optimizer)\n",
    "    set_silent(model)\n",
    "    @variable(model, y[1:ncty, 1:ncty, 1:nproc] >= 0)\n",
    "    @variable(model, unmeet >= 0)\n",
    "\n",
    "    cstr_op = [@constraint(model, sum(y[i,j,k] for j in 1:ncty) == Omega[i,s,k] * x_hat[i,k]) for k in 1:nproc for i in 1:ncty]\n",
    "    cstr_cth = [@constraint(model, sum(y[i,j,k] for i in 1:ncty) >= Omega[j,s,k] * x_hat[j,5] * scaler[k]) for k in cathode for j in 1:ncty]\n",
    "    cstr_cell = [@constraint(model, sum(y[i,j,k] for i in 1:ncty) >= Omega[j,s,k] * x_hat[j,11] * scaler[k]) for k in cell for j in 1:ncty]\n",
    "    cstr_noncell = [@constraint(model, sum(y[i,j,k] for i in 1:ncty) >= Omega[j,s,k] * x_hat[j,14] * scaler[k]) for k in noncell for j in 1:ncty]\n",
    "    cstr_battery = [@constraint(model, sum(y[i,j,k] for i in 1:ncty) >= Omega[j,s,k] * x_hat[j,15] * scaler[k]) for k in battery for j in 1:ncty] \n",
    "    \n",
    "    cstr_fmk = [@constraint(model, sum(y[i,mkt_loc,mkt_proc] for i in 1:ncty) + unmeet == scen_dmd[s])]\n",
    "    \n",
    "    \n",
    "    transD = Vector{AffExpr}(undef, ncty)\n",
    "    for j in 1:ncty\n",
    "        arc_emi = 0\n",
    "        for i in 1:ncty\n",
    "            amount = sum(y[i,j,k] for k in 1:nproc)\n",
    "            arc_emi += amount * distance[!, 2:end][i,j] * EF_trans\n",
    "        end\n",
    "        transD[j] = arc_emi  # ncty*1 matrix\n",
    "    end\n",
    "    \n",
    "    \n",
    "    pro_sink = zeros(AffExpr, ncty, nproc)\n",
    "    for k in 1:nproc\n",
    "        for i in 1:ncty\n",
    "            pro_sink[i,k] = (sum(y[i,j,k] for j in 1:ncty)) * regional_EF[i, k+1] * (sink_c[i]/emission_c[i] + es_ratio)\n",
    "        end\n",
    "    end\n",
    "    proS = sum(pro_sink)\n",
    "    \n",
    "    \n",
    "    ############### Obj function ##############\n",
    "    @objective(model, Min, sum(transD) + unmeet*penalty - proS)\n",
    "    JuMP.optimize!(model)\n",
    "    \n",
    "    qy_hat = JuMP.objective_value(model)\n",
    "    sub_y = JuMP.value.(y)\n",
    "    sub_unmeet = JuMP.value.(unmeet)\n",
    "    \n",
    "    \n",
    "    ################## get dual and calculate cuts ################\n",
    "    dual_pi = zeros(ncty,nproc)\n",
    "\n",
    "    op_pi = [getdual(con) for con in cstr_op]\n",
    "    cth_pi = [getdual(con) for con in cstr_cth]\n",
    "    cell_pi = [getdual(con) for con in cstr_cell]\n",
    "    noncell_pi = [getdual(con) for con in cstr_noncell]\n",
    "    battery_pi = [getdual(con) for con in cstr_battery]\n",
    "    fmk_alp = [getdual(con) for con in cstr_fmk]\n",
    "\n",
    "\n",
    "    dual_pi[:, cathode] = reshape(cth_pi, ncty, length(cathode)) .* Omega[:,s,cathode] .* repeat(scaler[cathode]', ncty, 1)\n",
    "    dual_pi[:, cell] = reshape(cell_pi, ncty, length(cell)) .* Omega[:,s,cell] .* repeat(scaler[cell]', ncty, 1)\n",
    "    dual_pi[:, noncell] = reshape(noncell_pi, ncty, length(noncell)) .* Omega[:,s,noncell] .* repeat(scaler[noncell]', ncty, 1)\n",
    "    dual_pi[:, battery] = reshape(battery_pi, ncty, length(battery)) .* Omega[:,s,battery] .* repeat(scaler[battery]', ncty, 1)\n",
    "    dual_pi += reshape(op_pi, ncty, nproc) .* Omega[:,s,:]\n",
    "    \n",
    "    dual_alpha = sum(fmk_alp) * scen_dmd[s]\n",
    "\n",
    "    #######################\n",
    "    result = Dict([\"qyhat\"=>qy_hat, \"y_opt\"=>sub_y, \"unmeet_opt\"=>sub_unmeet, \"pi\"=>dual_pi, \"alp\"=>dual_alpha]);\n",
    "    return result\n",
    "    \n",
    "end"
   ]
  },
  {
   "cell_type": "code",
   "execution_count": 69,
   "id": "dbc0c755",
   "metadata": {},
   "outputs": [
    {
     "data": {
      "text/plain": [
       "masterprob (generic function with 1 method)"
      ]
     },
     "execution_count": 69,
     "metadata": {},
     "output_type": "execute_result"
    }
   ],
   "source": [
    "function masterprob(cuts)\n",
    "    model = Model(Gurobi.Optimizer)\n",
    "    set_silent(model)\n",
    "    @variable(model, x[1:ncty, 1:nproc] >= 0)\n",
    "    @variable(model, theta >= M)\n",
    "    \n",
    "    for k in 1:nproc\n",
    "        for i in 1:ncty\n",
    "            @constraint(model, x[i,k] <= 0.8*capacity[!, 2:end][i,k])\n",
    "        end\n",
    "    end\n",
    "\n",
    "    x_cth = [@constraint(model, sum(x[i,k] for i in 1:ncty) == sum(x[i,5] for i in 1:ncty) * scaler[k]) for k in cathode]\n",
    "    x_cell = [@constraint(model, sum(x[i,k] for i in 1:ncty) == sum(x[i,11] for i in 1:ncty) * scaler[k]) for k in cell]\n",
    "    x_noncell = [@constraint(model, sum(x[i,k] for i in 1:ncty) == sum(x[i,14] for i in 1:ncty) * scaler[k]) for k in noncell]\n",
    "    x_battery = [@constraint(model, sum(x[i,k] for i in 1:ncty) == sum(x[i,15] for i in 1:ncty) * scaler[k]) for k in battery];\n",
    "    \n",
    "\n",
    "    ###########\n",
    "    proD = (x .* Matrix(regional_EF[:,2:end])) * ones(nproc,1) \n",
    "    \n",
    "    \n",
    "    G = 0\n",
    "    g = 0\n",
    "    if cuts != []\n",
    "        for cut in cuts\n",
    "            G = cut[\"gradient\"]\n",
    "            g = cut[\"intersection\"]\n",
    "            @constraint(model, theta >= sum(x .* G) + g); \n",
    "        end\n",
    "    end\n",
    "    \n",
    "    \n",
    "    @objective(model, Min, sum(proD)+theta)\n",
    "    JuMP.optimize!(model);\n",
    "    \n",
    "    x_hat = JuMP.value.(x)\n",
    "    theta_hat = JuMP.value.(theta)\n",
    "    z_lb = JuMP.objective_value(model)\n",
    "    \n",
    "    result = Dict([\"x_hat\"=>x_hat, \"z_lb\"=>z_lb])\n",
    "    return result\n",
    "\n",
    "end"
   ]
  },
  {
   "cell_type": "code",
   "execution_count": 70,
   "id": "0a50f159",
   "metadata": {},
   "outputs": [
    {
     "data": {
      "text/plain": [
       "add_cuts (generic function with 1 method)"
      ]
     },
     "execution_count": 70,
     "metadata": {},
     "output_type": "execute_result"
    }
   ],
   "source": [
    "function add_cuts(x)\n",
    "    G = [] # gradient\n",
    "    g = [] # intersection\n",
    "    qy = 0\n",
    "    \n",
    "    \n",
    "    for s in 1:num_omega\n",
    "        res = subprob(x, s)        \n",
    "        push!(G, res[\"pi\"])   # gradient\n",
    "        push!(g, res[\"alp\"])  # intersection\n",
    "        qy += res[\"qyhat\"]\n",
    "    end\n",
    "    \n",
    "    \n",
    "    proD = (x .* Matrix(regional_EF[:,2:end])) * ones(nproc,1) \n",
    "    \n",
    "    \n",
    "    z_hat = sum(proD) + qy/num_omega\n",
    "    Exp_G = sum(G) / num_omega\n",
    "    Exp_g = sum(g) / num_omega\n",
    "    \n",
    "    cut = Dict([\"gradient\"=>Exp_G, \"intersection\"=>Exp_g])\n",
    "    return cut, z_hat\n",
    "\n",
    "end"
   ]
  },
  {
   "cell_type": "code",
   "execution_count": 71,
   "id": "0e44c501",
   "metadata": {},
   "outputs": [
    {
     "data": {
      "text/plain": [
       "main (generic function with 1 method)"
      ]
     },
     "execution_count": 71,
     "metadata": {},
     "output_type": "execute_result"
    }
   ],
   "source": [
    "function main(toler)\n",
    "    i = 0\n",
    "    z_ub = 1e8\n",
    "    x_opt = 0\n",
    "    \n",
    "    \n",
    "    cuts = []\n",
    "    res0 = masterprob(cuts)\n",
    "    x_hat = res0[\"x_hat\"]\n",
    "    z_lb = res0[\"z_lb\"]\n",
    "    \n",
    "    \n",
    "    while (z_ub - z_lb) > toler * min(abs(z_ub), abs(z_lb))\n",
    "        new_cut, z_hat = add_cuts(x_hat)\n",
    "        \n",
    "        if z_hat < z_ub\n",
    "            x_opt = x_hat\n",
    "            z_ub = z_hat\n",
    "        end\n",
    "        \n",
    "        push!(cuts, new_cut)\n",
    "        \n",
    "        res1 = masterprob(cuts)\n",
    "        z_lb = res1[\"z_lb\"]\n",
    "        x_hat = res1[\"x_hat\"]\n",
    "        \n",
    "        i += 1\n",
    "    end\n",
    "    \n",
    "    \n",
    "    result = Dict([\"z_lb\"=>z_lb, \"z_ub\"=>z_ub, \"x_opt\"=>x_opt, \"iteration\"=>i])\n",
    "    return result\n",
    "    \n",
    "end"
   ]
  },
  {
   "cell_type": "markdown",
   "id": "75c8d9f5",
   "metadata": {},
   "source": [
    "----"
   ]
  },
  {
   "cell_type": "code",
   "execution_count": 72,
   "id": "6cfc2310",
   "metadata": {},
   "outputs": [
    {
     "data": {
      "text/plain": [
       "0.01"
      ]
     },
     "execution_count": 72,
     "metadata": {},
     "output_type": "execute_result"
    }
   ],
   "source": [
    "M = 0\n",
    "toler = 0.01"
   ]
  },
  {
   "cell_type": "code",
   "execution_count": 73,
   "id": "3dd11b1d",
   "metadata": {},
   "outputs": [
    {
     "name": "stdout",
     "output_type": "stream",
     "text": [
      "Academic license - for non-commercial use only - expires 2024-12-26\r\n"
     ]
    },
    {
     "data": {
      "text/plain": [
       "0.0"
      ]
     },
     "execution_count": 73,
     "metadata": {},
     "output_type": "execute_result"
    }
   ],
   "source": [
    "i = 0\n",
    "z_ub = 1e8\n",
    "x_opt = 0\n",
    "\n",
    "cuts = []\n",
    "res0 = masterprob(cuts)\n",
    "x_hat = res0[\"x_hat\"]\n",
    "z_lb = res0[\"z_lb\"]"
   ]
  },
  {
   "cell_type": "code",
   "execution_count": 74,
   "id": "a0c51762",
   "metadata": {},
   "outputs": [
    {
     "name": "stdout",
     "output_type": "stream",
     "text": [
      "Academic license - for non-commercial use only - expires 2024-12-26\r\n",
      "Academic license - for non-commercial use only - expires 2024-12-26\r\n",
      "Academic license - for non-commercial use only - expires 2024-12-26\r\n",
      "Academic license - for non-commercial use only - expires 2024-12-26\r\n",
      "Academic license - for non-commercial use only - expires 2024-12-26\r\n",
      "Academic license - for non-commercial use only - expires 2024-12-26\r\n",
      "Academic license - for non-commercial use only - expires 2024-12-26\r\n",
      "Academic license - for non-commercial use only - expires 2024-12-26\r\n",
      "Academic license - for non-commercial use only - expires 2024-12-26\r\n",
      "Academic license - for non-commercial use only - expires 2024-12-26\r\n",
      "Academic license - for non-commercial use only - expires 2024-12-26\r\n",
      "Academic license - for non-commercial use only - expires 2024-12-26\r\n",
      "Academic license - for non-commercial use only - expires 2024-12-26\r\n",
      "Academic license - for non-commercial use only - expires 2024-12-26\r\n",
      "Academic license - for non-commercial use only - expires 2024-12-26\r\n",
      "Academic license - for non-commercial use only - expires 2024-12-26\r\n",
      "Academic license - for non-commercial use only - expires 2024-12-26\r\n"
     ]
    },
    {
     "data": {
      "text/plain": [
       "30×15 Matrix{Float64}:\n",
       "     0.0      0.0      0.0      0.0  …    0.0    0.0        0.0\n",
       "     0.0      0.0      0.0      0.0       0.0    0.0        0.0\n",
       "     0.0      0.0  22032.7  22581.4       0.0    0.0        0.0\n",
       "     0.0   2480.0      0.0      0.0       0.0    0.0        0.0\n",
       " 16165.7      0.0      0.0      0.0       0.0    1.47016e5  0.0\n",
       "     0.0      0.0      0.0      0.0  …    0.0    0.0        0.0\n",
       "     0.0      0.0      0.0      0.0       0.0    0.0        0.0\n",
       "     0.0  20143.6      0.0      0.0       0.0    0.0        0.0\n",
       "     0.0      0.0      0.0      0.0       0.0    0.0        0.0\n",
       "     0.0      0.0      0.0      0.0       0.0    0.0        0.0\n",
       "     0.0      0.0      0.0      0.0  …  588.062  0.0        0.0\n",
       "     0.0      0.0      0.0      0.0       0.0    0.0        0.0\n",
       "     0.0      0.0      0.0      0.0       0.0    0.0        0.0\n",
       "     ⋮                               ⋱                      \n",
       "     0.0      0.0      0.0      0.0       0.0    0.0        0.0\n",
       "     0.0      0.0      0.0      0.0       0.0    0.0        0.0\n",
       "     0.0      0.0      0.0      0.0  …    0.0    0.0        0.0\n",
       "     0.0      0.0      0.0      0.0       0.0    0.0        0.0\n",
       "     0.0      0.0      0.0      0.0       0.0    0.0        0.0\n",
       "     0.0      0.0      0.0      0.0       0.0    0.0        0.0\n",
       "     0.0      0.0      0.0      0.0       0.0    0.0        0.0\n",
       "     0.0      0.0      0.0      0.0  …    0.0    0.0        0.0\n",
       "     0.0      0.0      0.0      0.0       0.0    0.0        0.0\n",
       "     0.0      0.0      0.0      0.0       0.0    0.0        0.0\n",
       "     0.0      0.0      0.0      0.0       0.0    0.0        0.0\n",
       "     0.0      0.0      0.0      0.0       0.0    0.0        1.47016e5"
      ]
     },
     "execution_count": 74,
     "metadata": {},
     "output_type": "execute_result"
    }
   ],
   "source": [
    "new_cut, z_hat = add_cuts(x_hat)\n",
    "if z_hat < z_ub\n",
    "    x_opt = x_hat\n",
    "    z_ub = z_hat\n",
    "end\n",
    "\n",
    "push!(cuts, new_cut)\n",
    "\n",
    "res1 = masterprob(cuts)\n",
    "z_lb = res1[\"z_lb\"]\n",
    "x_hat = res1[\"x_hat\"]"
   ]
  },
  {
   "cell_type": "code",
   "execution_count": 75,
   "id": "ee44207e",
   "metadata": {},
   "outputs": [
    {
     "data": {
      "text/plain": [
       "0.5324093348716853"
      ]
     },
     "execution_count": 75,
     "metadata": {},
     "output_type": "execute_result"
    }
   ],
   "source": [
    "(z_ub - z_lb) / min(abs(z_ub), abs(z_lb))"
   ]
  },
  {
   "cell_type": "code",
   "execution_count": 76,
   "id": "29b4089e",
   "metadata": {},
   "outputs": [
    {
     "name": "stdout",
     "output_type": "stream",
     "text": [
      "Academic license - for non-commercial use only - expires 2024-12-26\r\n",
      "Academic license - for non-commercial use only - expires 2024-12-26\r\n",
      "Academic license - for non-commercial use only - expires 2024-12-26\r\n",
      "Academic license - for non-commercial use only - expires 2024-12-26\r\n",
      "Academic license - for non-commercial use only - expires 2024-12-26\r\n",
      "Academic license - for non-commercial use only - expires 2024-12-26\r\n",
      "Academic license - for non-commercial use only - expires 2024-12-26\r\n",
      "Academic license - for non-commercial use only - expires 2024-12-26\r\n",
      "Academic license - for non-commercial use only - expires 2024-12-26\r\n",
      "Academic license - for non-commercial use only - expires 2024-12-26\r\n",
      "Academic license - for non-commercial use only - expires 2024-12-26\r\n",
      "Academic license - for non-commercial use only - expires 2024-12-26\r\n",
      "Academic license - for non-commercial use only - expires 2024-12-26\r\n",
      "Academic license - for non-commercial use only - expires 2024-12-26\r\n",
      "Academic license - for non-commercial use only - expires 2024-12-26\r\n",
      "Academic license - for non-commercial use only - expires 2024-12-26\r\n",
      "Academic license - for non-commercial use only - expires 2024-12-26\r\n"
     ]
    },
    {
     "data": {
      "text/plain": [
       "30×15 Matrix{Float64}:\n",
       "     0.0      0.0      0.0      0.0  …    0.0    0.0        0.0\n",
       "     0.0      0.0      0.0      0.0       0.0    0.0        0.0\n",
       "     0.0      0.0  22032.7  22581.4       0.0    0.0        0.0\n",
       "     0.0   2480.0      0.0      0.0       0.0    0.0        0.0\n",
       " 16165.7      0.0      0.0      0.0       0.0    1.47016e5  0.0\n",
       "     0.0      0.0      0.0      0.0  …    0.0    0.0        0.0\n",
       "     0.0      0.0      0.0      0.0       0.0    0.0        0.0\n",
       "     0.0  20143.6      0.0      0.0       0.0    0.0        0.0\n",
       "     0.0      0.0      0.0      0.0       0.0    0.0        0.0\n",
       "     0.0      0.0      0.0      0.0       0.0    0.0        0.0\n",
       "     0.0      0.0      0.0      0.0  …  588.062  0.0        0.0\n",
       "     0.0      0.0      0.0      0.0       0.0    0.0        0.0\n",
       "     0.0      0.0      0.0      0.0       0.0    0.0        0.0\n",
       "     ⋮                               ⋱                      \n",
       "     0.0      0.0      0.0      0.0       0.0    0.0        0.0\n",
       "     0.0      0.0      0.0      0.0       0.0    0.0        0.0\n",
       "     0.0      0.0      0.0      0.0  …    0.0    0.0        0.0\n",
       "     0.0      0.0      0.0      0.0       0.0    0.0        0.0\n",
       "     0.0      0.0      0.0      0.0       0.0    0.0        0.0\n",
       "     0.0      0.0      0.0      0.0       0.0    0.0        0.0\n",
       "     0.0      0.0      0.0      0.0       0.0    0.0        0.0\n",
       "     0.0      0.0      0.0      0.0  …    0.0    0.0        0.0\n",
       "     0.0      0.0      0.0      0.0       0.0    0.0        0.0\n",
       "     0.0      0.0      0.0      0.0       0.0    0.0        0.0\n",
       "     0.0      0.0      0.0      0.0       0.0    0.0        0.0\n",
       "     0.0      0.0      0.0      0.0       0.0    0.0        1.47016e5"
      ]
     },
     "execution_count": 76,
     "metadata": {},
     "output_type": "execute_result"
    }
   ],
   "source": [
    "new_cut, z_hat = add_cuts(x_hat)\n",
    "if z_hat < z_ub\n",
    "    x_opt = x_hat\n",
    "    z_ub = z_hat\n",
    "end\n",
    "\n",
    "push!(cuts, new_cut)\n",
    "\n",
    "res1 = masterprob(cuts)\n",
    "z_lb = res1[\"z_lb\"]\n",
    "x_hat = res1[\"x_hat\"]"
   ]
  },
  {
   "cell_type": "code",
   "execution_count": 77,
   "id": "40e555a9",
   "metadata": {},
   "outputs": [
    {
     "data": {
      "text/plain": [
       "0.10892959372836099"
      ]
     },
     "execution_count": 77,
     "metadata": {},
     "output_type": "execute_result"
    }
   ],
   "source": [
    "(z_ub - z_lb) / min(abs(z_ub), abs(z_lb))"
   ]
  },
  {
   "cell_type": "code",
   "execution_count": 78,
   "id": "8518ed3c",
   "metadata": {},
   "outputs": [
    {
     "name": "stdout",
     "output_type": "stream",
     "text": [
      "Academic license - for non-commercial use only - expires 2024-12-26\r\n",
      "Academic license - for non-commercial use only - expires 2024-12-26\r\n",
      "Academic license - for non-commercial use only - expires 2024-12-26\r\n",
      "Academic license - for non-commercial use only - expires 2024-12-26\r\n",
      "Academic license - for non-commercial use only - expires 2024-12-26\r\n",
      "Academic license - for non-commercial use only - expires 2024-12-26\r\n",
      "Academic license - for non-commercial use only - expires 2024-12-26\r\n",
      "Academic license - for non-commercial use only - expires 2024-12-26\r\n",
      "Academic license - for non-commercial use only - expires 2024-12-26\r\n",
      "Academic license - for non-commercial use only - expires 2024-12-26\r\n",
      "Academic license - for non-commercial use only - expires 2024-12-26\r\n",
      "Academic license - for non-commercial use only - expires 2024-12-26\r\n",
      "Academic license - for non-commercial use only - expires 2024-12-26\r\n",
      "Academic license - for non-commercial use only - expires 2024-12-26\r\n",
      "Academic license - for non-commercial use only - expires 2024-12-26\r\n",
      "Academic license - for non-commercial use only - expires 2024-12-26\r\n",
      "Academic license - for non-commercial use only - expires 2024-12-26\r\n"
     ]
    },
    {
     "data": {
      "text/plain": [
       "30×15 Matrix{Float64}:\n",
       "     0.0      0.0      0.0      0.0  …    0.0    0.0        0.0\n",
       "     0.0      0.0      0.0      0.0       0.0    0.0        0.0\n",
       "     0.0      0.0  22032.7  22581.4       0.0    0.0        0.0\n",
       "     0.0   2480.0      0.0      0.0       0.0    0.0        0.0\n",
       " 16165.7      0.0      0.0      0.0       0.0    1.47016e5  0.0\n",
       "     0.0      0.0      0.0      0.0  …    0.0    0.0        0.0\n",
       "     0.0      0.0      0.0      0.0       0.0    0.0        0.0\n",
       "     0.0  20143.6      0.0      0.0       0.0    0.0        0.0\n",
       "     0.0      0.0      0.0      0.0       0.0    0.0        0.0\n",
       "     0.0      0.0      0.0      0.0       0.0    0.0        0.0\n",
       "     0.0      0.0      0.0      0.0  …  588.062  0.0        0.0\n",
       "     0.0      0.0      0.0      0.0       0.0    0.0        0.0\n",
       "     0.0      0.0      0.0      0.0       0.0    0.0        0.0\n",
       "     ⋮                               ⋱                      \n",
       "     0.0      0.0      0.0      0.0       0.0    0.0        0.0\n",
       "     0.0      0.0      0.0      0.0       0.0    0.0        0.0\n",
       "     0.0      0.0      0.0      0.0  …    0.0    0.0        0.0\n",
       "     0.0      0.0      0.0      0.0       0.0    0.0        0.0\n",
       "     0.0      0.0      0.0      0.0       0.0    0.0        0.0\n",
       "     0.0      0.0      0.0      0.0       0.0    0.0        0.0\n",
       "     0.0      0.0      0.0      0.0       0.0    0.0        0.0\n",
       "     0.0      0.0      0.0      0.0  …    0.0    0.0        0.0\n",
       "     0.0      0.0      0.0      0.0       0.0    0.0        0.0\n",
       "     0.0      0.0      0.0      0.0       0.0    0.0        0.0\n",
       "     0.0      0.0      0.0      0.0       0.0    0.0        0.0\n",
       "     0.0      0.0      0.0      0.0       0.0    0.0        1.47016e5"
      ]
     },
     "execution_count": 78,
     "metadata": {},
     "output_type": "execute_result"
    }
   ],
   "source": [
    "new_cut, z_hat = add_cuts(x_hat)\n",
    "if z_hat < z_ub\n",
    "    x_opt = x_hat\n",
    "    z_ub = z_hat\n",
    "end\n",
    "\n",
    "push!(cuts, new_cut)\n",
    "\n",
    "res1 = masterprob(cuts)\n",
    "z_lb = res1[\"z_lb\"]\n",
    "x_hat = res1[\"x_hat\"]"
   ]
  },
  {
   "cell_type": "code",
   "execution_count": 79,
   "id": "1c34d63f",
   "metadata": {},
   "outputs": [
    {
     "data": {
      "text/plain": [
       "0.10892959372836099"
      ]
     },
     "execution_count": 79,
     "metadata": {},
     "output_type": "execute_result"
    }
   ],
   "source": [
    "(z_ub - z_lb) / min(abs(z_ub), abs(z_lb))"
   ]
  },
  {
   "cell_type": "code",
   "execution_count": 82,
   "id": "dffd760c",
   "metadata": {},
   "outputs": [
    {
     "data": {
      "text/plain": [
       "30×15 Matrix{Float64}:\n",
       "     0.0      0.0      0.0      0.0  …    0.0    0.0        0.0\n",
       "     0.0      0.0      0.0      0.0       0.0    0.0        0.0\n",
       "     0.0      0.0  22032.7  22581.4       0.0    0.0        0.0\n",
       "     0.0   2480.0      0.0      0.0       0.0    0.0        0.0\n",
       " 16165.7      0.0      0.0      0.0       0.0    1.47016e5  0.0\n",
       "     0.0      0.0      0.0      0.0  …    0.0    0.0        0.0\n",
       "     0.0      0.0      0.0      0.0       0.0    0.0        0.0\n",
       "     0.0  20143.6      0.0      0.0       0.0    0.0        0.0\n",
       "     0.0      0.0      0.0      0.0       0.0    0.0        0.0\n",
       "     0.0      0.0      0.0      0.0       0.0    0.0        0.0\n",
       "     0.0      0.0      0.0      0.0  …  588.062  0.0        0.0\n",
       "     0.0      0.0      0.0      0.0       0.0    0.0        0.0\n",
       "     0.0      0.0      0.0      0.0       0.0    0.0        0.0\n",
       "     ⋮                               ⋱                      \n",
       "     0.0      0.0      0.0      0.0       0.0    0.0        0.0\n",
       "     0.0      0.0      0.0      0.0       0.0    0.0        0.0\n",
       "     0.0      0.0      0.0      0.0  …    0.0    0.0        0.0\n",
       "     0.0      0.0      0.0      0.0       0.0    0.0        0.0\n",
       "     0.0      0.0      0.0      0.0       0.0    0.0        0.0\n",
       "     0.0      0.0      0.0      0.0       0.0    0.0        0.0\n",
       "     0.0      0.0      0.0      0.0       0.0    0.0        0.0\n",
       "     0.0      0.0      0.0      0.0  …    0.0    0.0        0.0\n",
       "     0.0      0.0      0.0      0.0       0.0    0.0        0.0\n",
       "     0.0      0.0      0.0      0.0       0.0    0.0        0.0\n",
       "     0.0      0.0      0.0      0.0       0.0    0.0        0.0\n",
       "     0.0      0.0      0.0      0.0       0.0    0.0        1.47016e5"
      ]
     },
     "execution_count": 82,
     "metadata": {},
     "output_type": "execute_result"
    }
   ],
   "source": [
    "x_opt"
   ]
  },
  {
   "cell_type": "code",
   "execution_count": 85,
   "id": "b5b30e3f",
   "metadata": {},
   "outputs": [],
   "source": [
    "df_xopt = DataFrame(x_opt,:auto);"
   ]
  },
  {
   "cell_type": "code",
   "execution_count": 86,
   "id": "5b0f0d83",
   "metadata": {},
   "outputs": [
    {
     "data": {
      "text/plain": [
       "\"C:/Users/bourg/.julia/environments/batterySC/Li-battery-SC/src/deterministic/data/xopt.csv\""
      ]
     },
     "execution_count": 86,
     "metadata": {},
     "output_type": "execute_result"
    }
   ],
   "source": [
    "CSV.write(string(path,\"/result/xopt.csv\"), df_xopt)"
   ]
  },
  {
   "cell_type": "code",
   "execution_count": null,
   "id": "e5ac72b5",
   "metadata": {},
   "outputs": [],
   "source": []
  },
  {
   "cell_type": "code",
   "execution_count": null,
   "id": "13bd3bd3",
   "metadata": {},
   "outputs": [],
   "source": []
  },
  {
   "cell_type": "code",
   "execution_count": null,
   "id": "8fb80cdd",
   "metadata": {},
   "outputs": [],
   "source": []
  },
  {
   "cell_type": "code",
   "execution_count": null,
   "id": "113f27c0",
   "metadata": {},
   "outputs": [],
   "source": []
  },
  {
   "cell_type": "markdown",
   "id": "7c5f5492",
   "metadata": {},
   "source": [
    "---"
   ]
  },
  {
   "cell_type": "code",
   "execution_count": 27,
   "id": "6e0e096a",
   "metadata": {},
   "outputs": [
    {
     "data": {
      "text/plain": [
       "gen_fea (generic function with 1 method)"
      ]
     },
     "execution_count": 27,
     "metadata": {},
     "output_type": "execute_result"
    }
   ],
   "source": [
    "function gen_fea(x_hat)\n",
    "    ls = []\n",
    "    for s in 1: num_omega\n",
    "        model = Model(Gurobi.Optimizer)\n",
    "        set_silent(model)\n",
    "        @variable(model, y[1:ncty, 1:ncty, 1:nproc] >= 0)\n",
    "        @variable(model, unmeet >= 0)\n",
    "\n",
    "        cstr_op = [@constraint(model, sum(y[i,j,k] for j in 1:ncty) <= Omega[i,s,k] * x_hat[i,k]) for k in 1:nproc for i in 1:ncty]\n",
    "        cstr_cth = [@constraint(model, sum(y[i,j,k] for i in 1:ncty) >= Omega[j,s,k] * x_hat[j,5]*scaler[k]) for k in cathode for j in 1:ncty]\n",
    "        cstr_cell = [@constraint(model, sum(y[i,j,k] for i in 1:ncty) >= Omega[j,s,k] * x_hat[j,11]*scaler[k]) for k in cell for j in 1:ncty]\n",
    "        cstr_noncell = [@constraint(model, sum(y[i,j,k] for i in 1:ncty) >= Omega[j,s,k] * x_hat[j,14]*scaler[k]) for k in noncell for j in 1:ncty]\n",
    "        cstr_battery = [@constraint(model, sum(y[i,j,k] for i in 1:ncty) >= Omega[j,s,k] * x_hat[j,15]*scaler[k]) for k in battery for j in 1:ncty] \n",
    "\n",
    "        cstr_fmk = [@constraint(model, sum(y[i,mkt_loc,mkt_proc] for i in 1:ncty) + unmeet >= scen_dmd[s])]\n",
    "        \n",
    "        transD = Vector{AffExpr}(undef, ncty)\n",
    "        for j in 1:ncty\n",
    "            arc_emi = 0\n",
    "            for i in 1:ncty\n",
    "                amount = sum(y[i,j,k] for k in 1:nproc)\n",
    "                arc_emi += amount * distance[!, 2:end][i,j] * EF_trans\n",
    "            end\n",
    "            transD[j] = arc_emi  # ncty*1 matrix\n",
    "        end\n",
    "\n",
    "\n",
    "        pro_sink = zeros(AffExpr, ncty, nproc)\n",
    "        for k in 1:nproc\n",
    "            for i in 1:ncty\n",
    "                pro_sink[i,k] = (sum(y[i,j,k] for j in 1:ncty)) * regional_EF[i, k+1] * (sink_c[i]/emission_c[i] + es_ratio)\n",
    "            end\n",
    "        end\n",
    "        proS = sum(pro_sink)\n",
    "\n",
    "        @objective(model, Min, sum(transD) + unmeet*penalty - proS)\n",
    "        JuMP.optimize!(model)\n",
    "\n",
    "        if termination_status(model) == MOI.OPTIMAL\n",
    "            push!(ls, s)\n",
    "        end\n",
    "    end\n",
    "    \n",
    "    return ls\n",
    "    \n",
    "end"
   ]
  },
  {
   "cell_type": "code",
   "execution_count": 43,
   "id": "06e5e1b4",
   "metadata": {},
   "outputs": [
    {
     "name": "stdout",
     "output_type": "stream",
     "text": [
      "Academic license - for non-commercial use only - expires 2024-12-26\r\n",
      "Academic license - for non-commercial use only - expires 2024-12-26\r\n",
      "Academic license - for non-commercial use only - expires 2024-12-26\r\n",
      "Academic license - for non-commercial use only - expires 2024-12-26\r\n",
      "Academic license - for non-commercial use only - expires 2024-12-26\r\n",
      "Academic license - for non-commercial use only - expires 2024-12-26\r\n",
      "Academic license - for non-commercial use only - expires 2024-12-26\r\n",
      "Academic license - for non-commercial use only - expires 2024-12-26\r\n",
      "Academic license - for non-commercial use only - expires 2024-12-26\r\n",
      "Academic license - for non-commercial use only - expires 2024-12-26\r\n",
      "Academic license - for non-commercial use only - expires 2024-12-26\r\n",
      "Academic license - for non-commercial use only - expires 2024-12-26\r\n",
      "Academic license - for non-commercial use only - expires 2024-12-26\r\n",
      "Academic license - for non-commercial use only - expires 2024-12-26\r\n",
      "Academic license - for non-commercial use only - expires 2024-12-26\r\n",
      "Academic license - for non-commercial use only - expires 2024-12-26\r\n",
      "Academic license - for non-commercial use only - expires 2024-12-26\r\n",
      "Academic license - for non-commercial use only - expires 2024-12-26\r\n",
      "Academic license - for non-commercial use only - expires 2024-12-26\r\n",
      "Academic license - for non-commercial use only - expires 2024-12-26\r\n",
      "Academic license - for non-commercial use only - expires 2024-12-26\r\n",
      "Academic license - for non-commercial use only - expires 2024-12-26\r\n",
      "Academic license - for non-commercial use only - expires 2024-12-26\r\n",
      "Academic license - for non-commercial use only - expires 2024-12-26\r\n",
      "Academic license - for non-commercial use only - expires 2024-12-26\r\n",
      "Academic license - for non-commercial use only - expires 2024-12-26\r\n",
      "Academic license - for non-commercial use only - expires 2024-12-26\r\n",
      "Academic license - for non-commercial use only - expires 2024-12-26\r\n",
      "Academic license - for non-commercial use only - expires 2024-12-26\r\n",
      "Academic license - for non-commercial use only - expires 2024-12-26\r\n",
      "Academic license - for non-commercial use only - expires 2024-12-26\r\n",
      "Academic license - for non-commercial use only - expires 2024-12-26\r\n",
      "Academic license - for non-commercial use only - expires 2024-12-26\r\n",
      "Academic license - for non-commercial use only - expires 2024-12-26\r\n",
      "Academic license - for non-commercial use only - expires 2024-12-26\r\n",
      "Academic license - for non-commercial use only - expires 2024-12-26\r\n",
      "Academic license - for non-commercial use only - expires 2024-12-26\r\n",
      "Academic license - for non-commercial use only - expires 2024-12-26\r\n",
      "Academic license - for non-commercial use only - expires 2024-12-26\r\n",
      "Academic license - for non-commercial use only - expires 2024-12-26\r\n",
      "Academic license - for non-commercial use only - expires 2024-12-26\r\n",
      "Academic license - for non-commercial use only - expires 2024-12-26\r\n",
      "Academic license - for non-commercial use only - expires 2024-12-26\r\n",
      "Academic license - for non-commercial use only - expires 2024-12-26\r\n",
      "Academic license - for non-commercial use only - expires 2024-12-26\r\n",
      "Academic license - for non-commercial use only - expires 2024-12-26\r\n",
      "Academic license - for non-commercial use only - expires 2024-12-26\r\n",
      "Academic license - for non-commercial use only - expires 2024-12-26\r\n",
      "Academic license - for non-commercial use only - expires 2024-12-26\r\n",
      "Academic license - for non-commercial use only - expires 2024-12-26\r\n"
     ]
    },
    {
     "data": {
      "text/plain": [
       "16-element Vector{Any}:\n",
       "  1\n",
       "  3\n",
       "  4\n",
       "  5\n",
       "  9\n",
       " 17\n",
       " 18\n",
       " 31\n",
       " 32\n",
       " 37\n",
       " 38\n",
       " 41\n",
       " 43\n",
       " 44\n",
       " 48\n",
       " 49"
      ]
     },
     "execution_count": 43,
     "metadata": {},
     "output_type": "execute_result"
    }
   ],
   "source": [
    "ls = gen_fea(x_hat)"
   ]
  },
  {
   "cell_type": "code",
   "execution_count": 36,
   "id": "c4d14577",
   "metadata": {},
   "outputs": [
    {
     "name": "stdout",
     "output_type": "stream",
     "text": [
      "Academic license - for non-commercial use only - expires 2024-12-26\r\n",
      "Academic license - for non-commercial use only - expires 2024-12-26\r\n",
      "Academic license - for non-commercial use only - expires 2024-12-26\r\n",
      "Academic license - for non-commercial use only - expires 2024-12-26\r\n",
      "Academic license - for non-commercial use only - expires 2024-12-26\r\n",
      "Academic license - for non-commercial use only - expires 2024-12-26\r\n",
      "Academic license - for non-commercial use only - expires 2024-12-26\r\n",
      "Academic license - for non-commercial use only - expires 2024-12-26\r\n",
      "Academic license - for non-commercial use only - expires 2024-12-26\r\n",
      "Academic license - for non-commercial use only - expires 2024-12-26\r\n",
      "Academic license - for non-commercial use only - expires 2024-12-26\r\n",
      "Academic license - for non-commercial use only - expires 2024-12-26\r\n",
      "Academic license - for non-commercial use only - expires 2024-12-26\r\n",
      "Academic license - for non-commercial use only - expires 2024-12-26\r\n",
      "Academic license - for non-commercial use only - expires 2024-12-26\r\n",
      "Academic license - for non-commercial use only - expires 2024-12-26\r\n",
      "Academic license - for non-commercial use only - expires 2024-12-26\r\n",
      "Academic license - for non-commercial use only - expires 2024-12-26\r\n",
      "Academic license - for non-commercial use only - expires 2024-12-26\r\n",
      "Academic license - for non-commercial use only - expires 2024-12-26\r\n",
      "Academic license - for non-commercial use only - expires 2024-12-26\r\n",
      "Academic license - for non-commercial use only - expires 2024-12-26\r\n",
      "Academic license - for non-commercial use only - expires 2024-12-26\r\n",
      "Academic license - for non-commercial use only - expires 2024-12-26\r\n",
      "Academic license - for non-commercial use only - expires 2024-12-26\r\n",
      "Academic license - for non-commercial use only - expires 2024-12-26\r\n",
      "Academic license - for non-commercial use only - expires 2024-12-26\r\n",
      "Academic license - for non-commercial use only - expires 2024-12-26\r\n",
      "Academic license - for non-commercial use only - expires 2024-12-26\r\n",
      "Academic license - for non-commercial use only - expires 2024-12-26\r\n",
      "Academic license - for non-commercial use only - expires 2024-12-26\r\n",
      "Academic license - for non-commercial use only - expires 2024-12-26\r\n",
      "Academic license - for non-commercial use only - expires 2024-12-26\r\n",
      "Academic license - for non-commercial use only - expires 2024-12-26\r\n",
      "Academic license - for non-commercial use only - expires 2024-12-26\r\n",
      "Academic license - for non-commercial use only - expires 2024-12-26\r\n",
      "Academic license - for non-commercial use only - expires 2024-12-26\r\n",
      "Academic license - for non-commercial use only - expires 2024-12-26\r\n",
      "Academic license - for non-commercial use only - expires 2024-12-26\r\n",
      "Academic license - for non-commercial use only - expires 2024-12-26\r\n",
      "Academic license - for non-commercial use only - expires 2024-12-26\r\n",
      "Academic license - for non-commercial use only - expires 2024-12-26\r\n",
      "Academic license - for non-commercial use only - expires 2024-12-26\r\n",
      "Academic license - for non-commercial use only - expires 2024-12-26\r\n",
      "Academic license - for non-commercial use only - expires 2024-12-26\r\n",
      "Academic license - for non-commercial use only - expires 2024-12-26\r\n",
      "Academic license - for non-commercial use only - expires 2024-12-26\r\n",
      "Academic license - for non-commercial use only - expires 2024-12-26\r\n",
      "Academic license - for non-commercial use only - expires 2024-12-26\r\n",
      "Academic license - for non-commercial use only - expires 2024-12-26\r\n"
     ]
    },
    {
     "data": {
      "text/plain": [
       "50-element Vector{Any}:\n",
       "  1\n",
       "  2\n",
       "  3\n",
       "  4\n",
       "  5\n",
       "  6\n",
       "  7\n",
       "  8\n",
       "  9\n",
       " 10\n",
       " 11\n",
       " 12\n",
       " 13\n",
       "  ⋮\n",
       " 39\n",
       " 40\n",
       " 41\n",
       " 42\n",
       " 43\n",
       " 44\n",
       " 45\n",
       " 46\n",
       " 47\n",
       " 48\n",
       " 49\n",
       " 50"
      ]
     },
     "execution_count": 36,
     "metadata": {},
     "output_type": "execute_result"
    }
   ],
   "source": [
    "xhat1 = zeros(30,15)\n",
    "gen_fea(xhat1)"
   ]
  },
  {
   "cell_type": "code",
   "execution_count": null,
   "id": "89ce28a0",
   "metadata": {},
   "outputs": [],
   "source": []
  }
 ],
 "metadata": {
  "@webio": {
   "lastCommId": null,
   "lastKernelId": null
  },
  "kernelspec": {
   "display_name": "Julia 1.8.3",
   "language": "julia",
   "name": "julia-1.8"
  },
  "language_info": {
   "file_extension": ".jl",
   "mimetype": "application/julia",
   "name": "julia",
   "version": "1.8.3"
  }
 },
 "nbformat": 4,
 "nbformat_minor": 5
}
