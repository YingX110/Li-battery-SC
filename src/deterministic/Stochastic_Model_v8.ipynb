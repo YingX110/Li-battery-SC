{
 "cells": [
  {
   "cell_type": "code",
   "execution_count": 682,
   "id": "5edf3ebd",
   "metadata": {},
   "outputs": [],
   "source": [
    "using JuMP, Gurobi\n",
    "using CSV, LinearAlgebra, DataFrames\n",
    "using Plots\n",
    "using DelimitedFiles\n",
    "using Random"
   ]
  },
  {
   "cell_type": "code",
   "execution_count": 683,
   "id": "04c3d8be",
   "metadata": {},
   "outputs": [],
   "source": [
    "path = \"C:/Users/bourg/.julia/environments/batterySC/Li-battery-SC/src/deterministic/data/\";"
   ]
  },
  {
   "cell_type": "code",
   "execution_count": 684,
   "id": "93d2a5ce",
   "metadata": {},
   "outputs": [],
   "source": [
    "#load social and ecological data and orgnize \n",
    "FL = repeat([Float64], inner=15)\n",
    "dtype = append!([String], FL);\n",
    "\n",
    "regional_EF = CSV.File(string(path,\"EF_SC.csv\"),header=1,delim=\",\", types=dtype) |> DataFrame    \n",
    "capacity = CSV.File(string(path,\"capacity30_.csv\"),header=1,delim=\",\", types=dtype) |> DataFrame    \n",
    "distance = CSV.File(string(path,\"distance30.csv\"),header=1,delim=\",\") |> DataFrame \n",
    "LCA_model = CSV.File(string(path,\"LCA_model.csv\"),header=1,delim=\",\") |> DataFrame \n",
    "D_Dsoc = CSV.File(string(path,\"D_Dsoc.csv\"),header=1,delim=\",\") |> DataFrame\n",
    "emi_sink = CSV.File(string(path,\"emission_sink.csv\"),header=1,delim=\",\") |> DataFrame;"
   ]
  },
  {
   "cell_type": "code",
   "execution_count": 685,
   "id": "5118b2b5",
   "metadata": {},
   "outputs": [],
   "source": [
    "global_sink = 1.099e10                        # global pub (ocean) CO2 sequestration (ton/yr)\n",
    "global_sink_tot = 2.236e10                  # global total (ocean+land) CO2 sequestration (ton/yr)\n",
    "global_emi = 3.53e10                          # global CO2 emission (ton/yr)\n",
    "global_gdp = 96882e9                          # 2021 global GDP ($/yr)\n",
    "es_ratio = global_sink/global_emi\n",
    "es_ratio_tot = global_sink_tot/global_emi\n",
    "\n",
    "emission_c = emi_sink[!, \"emission\"]          # national CO2 emission (ton/yr)\n",
    "sink_c = emi_sink[!, \"sink ton/yr\"] .* 0.6          # national CO2 sink (ton/yr)\n",
    "Dsoc = D_Dsoc[!, \"Dsoc ton/yr\"]           # national CO2 sink (ton/yr)\n",
    "\n",
    "EF_trans = 1.005/10000                        # ton CO2/km*ton (The average freight truck in the U.S. emits 161.8 grams of CO2 per ton-mile)\n",
    "# EF_trans = 86/1000000                          #5-LH trucks emit on average 56.6 gCO2/tkm while 5-RD emit 84.0 gCO2/tkm\n",
    "process = LCA_model[!,\"process\"]\n",
    "countries = capacity[!,\"country\"]\n",
    "ncty = size(countries,1)                          # No. of countries\n",
    "nproc = size(process,1);                          # No. of processes \n",
    "\n",
    "mkt_loc = findfirst(isequal(\"United States\"), countries)\n",
    "mkt_proc = findfirst(isequal(\"battery\"), process)\n",
    "\n",
    "# seperate model\n",
    "cathode = collect(1:4)\n",
    "cell = collect(5:10)\n",
    "noncell = [12,13]\n",
    "battery = [11,14]\n",
    "scaler = LCA_model[!,\"scaler\"]\n",
    "penalty = 5; # ton/yr;"
   ]
  },
  {
   "cell_type": "code",
   "execution_count": 686,
   "id": "f1b13094",
   "metadata": {},
   "outputs": [
    {
     "data": {
      "text/plain": [
       "7-element Vector{Int64}:\n",
       "  1\n",
       "  4\n",
       "  5\n",
       " 31\n",
       " 37\n",
       " 41\n",
       " 49"
      ]
     },
     "execution_count": 686,
     "metadata": {},
     "output_type": "execute_result"
    }
   ],
   "source": [
    "# list = [1,4,5,31,37,38,49];\n",
    "# list = [1,4,5,11,21,31,37,41,49];\n",
    "# list = [1,3,4,5,9,17,18,31,32,37,38,41,43,44,48,49];\n",
    "# list = [1];\n",
    "# list = [1, 4, 11, 21, 31, 37, 41, 49];\n",
    "list = [1,4,5,31,37,41,49]"
   ]
  },
  {
   "cell_type": "code",
   "execution_count": 687,
   "id": "e8062306",
   "metadata": {},
   "outputs": [
    {
     "data": {
      "text/plain": [
       "452000"
      ]
     },
     "execution_count": 687,
     "metadata": {},
     "output_type": "execute_result"
    }
   ],
   "source": [
    "scen_eff = CSV.File(string(path,\"Scenarios/Scen_Efficiency2.csv\"), header=1, delim=\",\") |> DataFrame\n",
    "scen_eff = Matrix(scen_eff)[:, 2:end]\n",
    "scen_eff = scen_eff[:, list]\n",
    "num_omega = size(scen_eff)[2]\n",
    "\n",
    "scen_dmd = CSV.File(string(path,\"Scenarios/Scen_Demand.csv\"), header=1, delim=\",\") |> DataFrame\n",
    "scen_dmd = Matrix(scen_dmd)[2:end][list]\n",
    "# scen_dmd = ones(num_omega) .* 452000\n",
    "\n",
    "Omega = ones(Float64, ncty, num_omega, nproc);  # Omega[ncty,nscena,nproc]\n",
    "Omega[:, :, 1] = scen_eff;\n",
    "\n",
    "dmd_fixed = 452000"
   ]
  },
  {
   "cell_type": "markdown",
   "id": "103e72e2",
   "metadata": {},
   "source": [
    "---"
   ]
  },
  {
   "cell_type": "code",
   "execution_count": null,
   "id": "b483c738",
   "metadata": {},
   "outputs": [],
   "source": []
  },
  {
   "cell_type": "markdown",
   "id": "3573e90d",
   "metadata": {},
   "source": [
    "### Solve Subproblem - Get Dual $\\pi$ & $\\alpha$"
   ]
  },
  {
   "cell_type": "code",
   "execution_count": 688,
   "id": "551a9acc",
   "metadata": {},
   "outputs": [
    {
     "data": {
      "text/plain": [
       "subprob (generic function with 1 method)"
      ]
     },
     "execution_count": 688,
     "metadata": {},
     "output_type": "execute_result"
    }
   ],
   "source": [
    "function subprob(x_hat, s) # s represents specific scenario     \n",
    "    \n",
    "    model = Model(Gurobi.Optimizer)\n",
    "    set_silent(model)\n",
    "    @variable(model, y[1:ncty, 1:ncty, 1:nproc] >= 0)\n",
    "    @variable(model, unmeet >= 0)\n",
    "\n",
    "    cstr_op = [@constraint(model, sum(y[i,j,k] for j in 1:ncty) == Omega[i,s,k] * x_hat[i,k]) for k in 1:nproc for i in 1:ncty]\n",
    "    cstr_cth = [@constraint(model, sum(y[i,j,k] for i in 1:ncty) >= Omega[j,s,k] * x_hat[j,5] * scaler[k]) for k in cathode for j in 1:ncty]\n",
    "    cstr_cell = [@constraint(model, sum(y[i,j,k] for i in 1:ncty) >= Omega[j,s,k] * x_hat[j,11] * scaler[k]) for k in cell for j in 1:ncty]\n",
    "    cstr_noncell = [@constraint(model, sum(y[i,j,k] for i in 1:ncty) >= Omega[j,s,k] * x_hat[j,14] * scaler[k]) for k in noncell for j in 1:ncty]\n",
    "    cstr_battery = [@constraint(model, sum(y[i,j,k] for i in 1:ncty) >= Omega[j,s,k] * x_hat[j,15] * scaler[k]) for k in battery for j in 1:ncty] \n",
    "    \n",
    "    cstr_fmk = [@constraint(model, sum(y[i,mkt_loc,mkt_proc] for i in 1:ncty) + unmeet == scen_dmd[s])]\n",
    "    \n",
    "    \n",
    "    transD = Vector{AffExpr}(undef, ncty)\n",
    "    for j in 1:ncty\n",
    "        arc_emi = 0\n",
    "        for i in 1:ncty\n",
    "            amount = sum(y[i,j,k] for k in 1:nproc)\n",
    "            arc_emi += amount * distance[!, 2:end][i,j] * EF_trans\n",
    "        end\n",
    "        transD[j] = arc_emi  # ncty*1 matrix\n",
    "    end\n",
    "    \n",
    "    \n",
    "    pro_sink = zeros(AffExpr, ncty, nproc)\n",
    "    for k in 1:nproc\n",
    "        for i in 1:ncty\n",
    "            pro_sink[i,k] = (sum(y[i,j,k] for j in 1:ncty)) * regional_EF[i, k+1] * (sink_c[i]/emission_c[i] + es_ratio)\n",
    "        end\n",
    "    end\n",
    "    proS = sum(pro_sink)\n",
    "    \n",
    "    \n",
    "    sink_ratio = zeros(ncty, nproc)\n",
    "    for k in 1:nproc\n",
    "        for i in 1:ncty\n",
    "            sink_ratio[i,k] = regional_EF[i, k+1] * (sink_c[i]/emission_c[i] + es_ratio)\n",
    "        end\n",
    "    end\n",
    "    overprod_penalty = sum((x_hat - sum(y, dims=2)[:,1,:]) .* sink_ratio)\n",
    "    \n",
    "    \n",
    "    ############### Obj function ##############\n",
    "    @objective(model, Min, sum(transD) + unmeet * penalty + overprod_penalty)\n",
    "    JuMP.optimize!(model)\n",
    "    \n",
    "    qy_hat = JuMP.objective_value(model)\n",
    "    sub_y = JuMP.value.(y)\n",
    "    sub_unmeet = JuMP.value.(unmeet)\n",
    "    \n",
    "    \n",
    "    ################## get dual and calculate cuts ################\n",
    "    dual_pi = zeros(ncty,nproc)\n",
    "\n",
    "    op_pi = [getdual(con) for con in cstr_op]\n",
    "    cth_pi = [getdual(con) for con in cstr_cth]\n",
    "    cell_pi = [getdual(con) for con in cstr_cell]\n",
    "    noncell_pi = [getdual(con) for con in cstr_noncell]\n",
    "    battery_pi = [getdual(con) for con in cstr_battery]\n",
    "    fmk_alp = [getdual(con) for con in cstr_fmk]\n",
    "\n",
    "\n",
    "    dual_pi[:, cathode] = reshape(cth_pi, ncty, length(cathode)) .* Omega[:,s,cathode] .* repeat(scaler[cathode]', ncty, 1)\n",
    "    dual_pi[:, cell] = reshape(cell_pi, ncty, length(cell)) .* Omega[:,s,cell] .* repeat(scaler[cell]', ncty, 1)\n",
    "    dual_pi[:, noncell] = reshape(noncell_pi, ncty, length(noncell)) .* Omega[:,s,noncell] .* repeat(scaler[noncell]', ncty, 1)\n",
    "    dual_pi[:, battery] = reshape(battery_pi, ncty, length(battery)) .* Omega[:,s,battery] .* repeat(scaler[battery]', ncty, 1)\n",
    "    dual_pi += reshape(op_pi, ncty, nproc) .* Omega[:,s,:]\n",
    "    \n",
    "    dual_alpha = sum(fmk_alp) * scen_dmd[s]\n",
    "\n",
    "    #######################\n",
    "    result = Dict([\"qyhat\"=>qy_hat, \"y_opt\"=>sub_y, \"unmeet_opt\"=>sub_unmeet, \"pi\"=>dual_pi, \"alp\"=>dual_alpha]);\n",
    "    return result\n",
    "    \n",
    "end"
   ]
  },
  {
   "cell_type": "code",
   "execution_count": 689,
   "id": "dbc0c755",
   "metadata": {},
   "outputs": [
    {
     "data": {
      "text/plain": [
       "masterprob (generic function with 1 method)"
      ]
     },
     "execution_count": 689,
     "metadata": {},
     "output_type": "execute_result"
    }
   ],
   "source": [
    "function masterprob(cuts)\n",
    "    model = Model(Gurobi.Optimizer)\n",
    "    set_silent(model)\n",
    "    @variable(model, x[1:ncty, 1:nproc] >= 0)\n",
    "    @variable(model, theta >= M)\n",
    "    \n",
    "    for k in 1:nproc\n",
    "        for i in 1:ncty\n",
    "            @constraint(model, x[i,k] <= 0.8*capacity[!, 2:end][i,k])\n",
    "        end\n",
    "    end\n",
    "\n",
    "    x_cth = [@constraint(model, sum(x[i,k] for i in 1:ncty) == sum(x[i,5] for i in 1:ncty) * scaler[k]) for k in cathode]\n",
    "    x_cell = [@constraint(model, sum(x[i,k] for i in 1:ncty) == sum(x[i,11] for i in 1:ncty) * scaler[k]) for k in cell]\n",
    "    x_noncell = [@constraint(model, sum(x[i,k] for i in 1:ncty) == sum(x[i,14] for i in 1:ncty) * scaler[k]) for k in noncell]\n",
    "    x_battery = [@constraint(model, sum(x[i,k] for i in 1:ncty) == sum(x[i,15] for i in 1:ncty) * scaler[k]) for k in battery];\n",
    "    \n",
    "\n",
    "    ###########\n",
    "    proD = (x .* Matrix(regional_EF[:,2:end])) * ones(nproc,1) \n",
    "    pro_sink = zeros(ncty, nproc)\n",
    "    for k in 1:nproc\n",
    "        for i in 1:ncty\n",
    "            pro_sink[i,k] = regional_EF[i, k+1] * (sink_c[i]/emission_c[i] + es_ratio)\n",
    "        end\n",
    "    end\n",
    "    proS = (x.*pro_sink)*ones(nproc,1) \n",
    "    \n",
    "    G = 0\n",
    "    g = 0\n",
    "    if cuts != []\n",
    "        for cut in cuts\n",
    "            G = cut[\"gradient\"]\n",
    "            g = cut[\"intersection\"]\n",
    "            @constraint(model, theta >= sum(x .* G) + g); \n",
    "        end\n",
    "    end\n",
    "    \n",
    "    \n",
    "    @objective(model, Min, sum(proD - proS) + theta)\n",
    "    JuMP.optimize!(model);\n",
    "    \n",
    "    x_hat = JuMP.value.(x)\n",
    "    theta_hat = JuMP.value.(theta)\n",
    "    z_lb = JuMP.objective_value(model)\n",
    "    \n",
    "    result = Dict([\"x_hat\"=>x_hat, \"z_lb\"=>z_lb])\n",
    "    return result\n",
    "\n",
    "end"
   ]
  },
  {
   "cell_type": "code",
   "execution_count": 690,
   "id": "0a50f159",
   "metadata": {},
   "outputs": [
    {
     "data": {
      "text/plain": [
       "add_cuts (generic function with 1 method)"
      ]
     },
     "execution_count": 690,
     "metadata": {},
     "output_type": "execute_result"
    }
   ],
   "source": [
    "function add_cuts(x)\n",
    "    G = [] # gradient\n",
    "    g = [] # intersection\n",
    "    qy = 0\n",
    "    \n",
    "    \n",
    "    for s in 1:num_omega\n",
    "        res = subprob(x, s)        \n",
    "        push!(G, res[\"pi\"])   # gradient\n",
    "        push!(g, res[\"alp\"])  # intersection\n",
    "        qy += res[\"qyhat\"]\n",
    "    end\n",
    "\n",
    "    \n",
    "    proD = (x .* Matrix(regional_EF[:,2:end])) * ones(nproc,1) \n",
    "    pro_sink = zeros(ncty, nproc)\n",
    "    for k in 1:nproc\n",
    "        for i in 1:ncty\n",
    "            pro_sink[i,k] = regional_EF[i, k+1] * (sink_c[i]/emission_c[i] + es_ratio)\n",
    "        end\n",
    "    end\n",
    "    proS = (x.*pro_sink)*ones(nproc,1) \n",
    "    \n",
    "    \n",
    "    z_hat = sum(proD - proS) + qy/num_omega\n",
    "    Exp_G = sum(G) / num_omega\n",
    "    Exp_g = sum(g) / num_omega\n",
    "    \n",
    "    cut = Dict([\"gradient\"=>Exp_G, \"intersection\"=>Exp_g])\n",
    "    return cut, z_hat\n",
    "\n",
    "end"
   ]
  },
  {
   "cell_type": "code",
   "execution_count": 691,
   "id": "0e44c501",
   "metadata": {},
   "outputs": [
    {
     "data": {
      "text/plain": [
       "main (generic function with 1 method)"
      ]
     },
     "execution_count": 691,
     "metadata": {},
     "output_type": "execute_result"
    }
   ],
   "source": [
    "function main(toler)\n",
    "    i = 0\n",
    "    z_ub = 1e8\n",
    "    x_opt = 0\n",
    "    \n",
    "    \n",
    "    cuts = []\n",
    "    res0 = masterprob(cuts)\n",
    "    x_hat = res0[\"x_hat\"]\n",
    "    z_lb = res0[\"z_lb\"]\n",
    "    \n",
    "    \n",
    "    while (z_ub - z_lb) > toler * min(abs(z_ub), abs(z_lb))\n",
    "        new_cut, z_hat = add_cuts(x_hat)\n",
    "        \n",
    "        if z_hat < z_ub\n",
    "            x_opt = x_hat\n",
    "            z_ub = z_hat\n",
    "        end\n",
    "        \n",
    "        push!(cuts, new_cut)\n",
    "        \n",
    "        res1 = masterprob(cuts)\n",
    "        z_lb = res1[\"z_lb\"]\n",
    "        x_hat = res1[\"x_hat\"]\n",
    "        \n",
    "        i += 1\n",
    "    end\n",
    "    \n",
    "    \n",
    "    result = Dict([\"z_lb\"=>z_lb, \"z_ub\"=>z_ub, \"x_opt\"=>x_opt, \"iteration\"=>i])\n",
    "    return result\n",
    "    \n",
    "end"
   ]
  },
  {
   "cell_type": "code",
   "execution_count": null,
   "id": "14ef0c29",
   "metadata": {},
   "outputs": [],
   "source": []
  },
  {
   "cell_type": "code",
   "execution_count": null,
   "id": "73ca8b48",
   "metadata": {},
   "outputs": [],
   "source": []
  },
  {
   "cell_type": "markdown",
   "id": "e5c16b4a",
   "metadata": {},
   "source": [
    "---"
   ]
  },
  {
   "cell_type": "code",
   "execution_count": 692,
   "id": "cbfff09b",
   "metadata": {},
   "outputs": [
    {
     "data": {
      "text/plain": [
       "0"
      ]
     },
     "execution_count": 692,
     "metadata": {},
     "output_type": "execute_result"
    }
   ],
   "source": [
    "M = 0"
   ]
  },
  {
   "cell_type": "code",
   "execution_count": 695,
   "id": "eb324dab",
   "metadata": {},
   "outputs": [
    {
     "name": "stdout",
     "output_type": "stream",
     "text": [
      "Academic license - for non-commercial use only - expires 2024-12-26\n",
      "Academic license - for non-commercial use only - expires 2024-12-26\n",
      "Academic license - for non-commercial use only - expires 2024-12-26\n",
      "Academic license - for non-commercial use only - expires 2024-12-26\n",
      "Academic license - for non-commercial use only - expires 2024-12-26\n",
      "Academic license - for non-commercial use only - expires 2024-12-26\n",
      "Academic license - for non-commercial use only - expires 2024-12-26\n",
      "Academic license - for non-commercial use only - expires 2024-12-26\n",
      "Academic license - for non-commercial use only - expires 2024-12-26\n",
      "2.7874744341209135e6\n",
      "Academic license - for non-commercial use only - expires 2024-12-26\n",
      "Academic license - for non-commercial use only - expires 2024-12-26\n",
      "Academic license - for non-commercial use only - expires 2024-12-26\n",
      "Academic license - for non-commercial use only - expires 2024-12-26\n",
      "Academic license - for non-commercial use only - expires 2024-12-26\n",
      "Academic license - for non-commercial use only - expires 2024-12-26\n",
      "Academic license - for non-commercial use only - expires 2024-12-26\n",
      "Academic license - for non-commercial use only - expires 2024-12-26\n",
      "2.7874744341209135e6\n",
      "Academic license - for non-commercial use only - expires 2024-12-26\n",
      "Academic license - for non-commercial use only - expires 2024-12-26\n",
      "Academic license - for non-commercial use only - expires 2024-12-26\n",
      "Academic license - for non-commercial use only - expires 2024-12-26\n",
      "Academic license - for non-commercial use only - expires 2024-12-26\n",
      "Academic license - for non-commercial use only - expires 2024-12-26\n",
      "Academic license - for non-commercial use only - expires 2024-12-26\n",
      "Academic license - for non-commercial use only - expires 2024-12-26\n",
      "2.7874744341209135e6\n",
      "Academic license - for non-commercial use only - expires 2024-12-26\n",
      "Academic license - for non-commercial use only - expires 2024-12-26\n",
      "Academic license - for non-commercial use only - expires 2024-12-26\n",
      "Academic license - for non-commercial use only - expires 2024-12-26\n",
      "Academic license - for non-commercial use only - expires 2024-12-26\n",
      "Academic license - for non-commercial use only - expires 2024-12-26\n",
      "Academic license - for non-commercial use only - expires 2024-12-26\n",
      "Academic license - for non-commercial use only - expires 2024-12-26\n",
      "2.7874744341209135e6\n",
      "Academic license - for non-commercial use only - expires 2024-12-26\n",
      "Academic license - for non-commercial use only - expires 2024-12-26\n",
      "Academic license - for non-commercial use only - expires 2024-12-26\n",
      "Academic license - for non-commercial use only - expires 2024-12-26\n",
      "Academic license - for non-commercial use only - expires 2024-12-26\n",
      "Academic license - for non-commercial use only - expires 2024-12-26\n",
      "Academic license - for non-commercial use only - expires 2024-12-26\n",
      "Academic license - for non-commercial use only - expires 2024-12-26\n",
      "2.7874744341209135e6\n"
     ]
    }
   ],
   "source": [
    "z_ub = 1e8\n",
    "x_opt = 0\n",
    "\n",
    "\n",
    "cuts = []\n",
    "res0 = masterprob(cuts)\n",
    "x_hat = res0[\"x_hat\"]\n",
    "z_lb = res0[\"z_lb\"]\n",
    "\n",
    "\n",
    "for i in 1:5\n",
    "    new_cut, z_hat = add_cuts(x_hat)\n",
    "\n",
    "    if z_hat < z_ub\n",
    "        x_opt = x_hat\n",
    "        z_ub = z_hat\n",
    "    end\n",
    "\n",
    "    push!(cuts, new_cut)\n",
    "\n",
    "    res1 = masterprob(cuts)\n",
    "    z_lb = res1[\"z_lb\"]\n",
    "    x_hat = res1[\"x_hat\"]\n",
    "    println(-z_lb+z_ub)\n",
    "\n",
    "end"
   ]
  },
  {
   "cell_type": "code",
   "execution_count": null,
   "id": "8caab7d6",
   "metadata": {},
   "outputs": [],
   "source": []
  },
  {
   "cell_type": "code",
   "execution_count": null,
   "id": "8f82d590",
   "metadata": {},
   "outputs": [],
   "source": []
  },
  {
   "cell_type": "code",
   "execution_count": null,
   "id": "a2699a2a",
   "metadata": {},
   "outputs": [],
   "source": []
  },
  {
   "cell_type": "markdown",
   "id": "63be656f",
   "metadata": {},
   "source": [
    "-----"
   ]
  },
  {
   "cell_type": "code",
   "execution_count": 643,
   "id": "bc141bc6",
   "metadata": {},
   "outputs": [
    {
     "data": {
      "text/plain": [
       "0.01"
      ]
     },
     "execution_count": 643,
     "metadata": {},
     "output_type": "execute_result"
    }
   ],
   "source": [
    "M = 0\n",
    "toler = 0.01"
   ]
  },
  {
   "cell_type": "code",
   "execution_count": 644,
   "id": "5027bd98",
   "metadata": {},
   "outputs": [
    {
     "name": "stdout",
     "output_type": "stream",
     "text": [
      "Academic license - for non-commercial use only - expires 2024-12-26\r\n"
     ]
    },
    {
     "data": {
      "text/plain": [
       "-3.3870410868231794e6"
      ]
     },
     "execution_count": 644,
     "metadata": {},
     "output_type": "execute_result"
    }
   ],
   "source": [
    "i = 0\n",
    "z_ub = 1e8\n",
    "x_opt = 0\n",
    "\n",
    "cuts = []\n",
    "res0 = masterprob(cuts)\n",
    "x_hat = res0[\"x_hat\"]\n",
    "z_lb = res0[\"z_lb\"]"
   ]
  },
  {
   "cell_type": "code",
   "execution_count": 645,
   "id": "71158d0c",
   "metadata": {},
   "outputs": [
    {
     "data": {
      "text/plain": [
       "30×15 Matrix{Float64}:\n",
       "  4960.0       0.0  0.0           0.0  …     0.0   0.0        0.0\n",
       " 46959.8       0.0  0.0           0.0        0.0   0.0        0.0\n",
       "  1760.0       0.0  1.1623e5  53600.0        0.0   0.0        0.0\n",
       "   400.0    2480.0  0.0       65524.5        0.0   0.0        0.0\n",
       " 31200.0       0.0  0.0           0.0        0.0   7.75558e5  0.0\n",
       "     0.0       0.0  0.0           0.0  …     0.0   0.0        0.0\n",
       "     0.0       0.0  0.0           0.0        0.0   0.0        0.0\n",
       "     0.0  116000.0  0.0           0.0        0.0   0.0        0.0\n",
       "     0.0     867.2  0.0           0.0        0.0   0.0        0.0\n",
       "     0.0       0.0  0.0           0.0        0.0   0.0        0.0\n",
       "     0.0       0.0  0.0           0.0  …  3102.23  0.0        0.0\n",
       "     0.0       0.0  0.0           0.0        0.0   0.0        0.0\n",
       "     0.0       0.0  0.0           0.0        0.0   0.0        0.0\n",
       "     ⋮                                 ⋱                      \n",
       "     0.0       0.0  0.0           0.0        0.0   0.0        0.0\n",
       "     0.0       0.0  0.0           0.0        0.0   0.0        0.0\n",
       "     0.0       0.0  0.0           0.0  …     0.0   0.0        0.0\n",
       "     0.0       0.0  0.0           0.0        0.0   0.0        0.0\n",
       "     0.0       0.0  0.0           0.0        0.0   0.0        0.0\n",
       "     0.0       0.0  0.0           0.0        0.0   0.0        0.0\n",
       "     0.0       0.0  0.0           0.0        0.0   0.0        0.0\n",
       "     0.0       0.0  0.0           0.0  …     0.0   0.0        0.0\n",
       "     0.0       0.0  0.0           0.0        0.0   0.0        0.0\n",
       "     0.0       0.0  0.0           0.0        0.0   0.0        0.0\n",
       "     0.0       0.0  0.0           0.0        0.0   0.0        0.0\n",
       "     0.0       0.0  0.0           0.0        0.0   0.0        7.75558e5"
      ]
     },
     "execution_count": 645,
     "metadata": {},
     "output_type": "execute_result"
    }
   ],
   "source": [
    "xhat11 = x_hat"
   ]
  },
  {
   "cell_type": "code",
   "execution_count": 646,
   "id": "b02698ed",
   "metadata": {},
   "outputs": [
    {
     "name": "stdout",
     "output_type": "stream",
     "text": [
      "Academic license - for non-commercial use only - expires 2024-12-26\r\n",
      "Academic license - for non-commercial use only - expires 2024-12-26\r\n",
      "Academic license - for non-commercial use only - expires 2024-12-26\r\n",
      "Academic license - for non-commercial use only - expires 2024-12-26\r\n",
      "Academic license - for non-commercial use only - expires 2024-12-26\r\n",
      "Academic license - for non-commercial use only - expires 2024-12-26\r\n",
      "Academic license - for non-commercial use only - expires 2024-12-26\r\n"
     ]
    },
    {
     "data": {
      "text/plain": [
       "2.1610772922702786e6"
      ]
     },
     "execution_count": 646,
     "metadata": {},
     "output_type": "execute_result"
    }
   ],
   "source": [
    "new_cut, z_hat = add_cuts(x_hat)\n",
    "\n",
    "G = new_cut[\"gradient\"]\n",
    "g = new_cut[\"intersection\"]"
   ]
  },
  {
   "cell_type": "code",
   "execution_count": 647,
   "id": "8a381340",
   "metadata": {},
   "outputs": [
    {
     "data": {
      "text/plain": [
       "30×15 Matrix{Float64}:\n",
       "  -1.94499    -37.164    -2.59542  …   -30.1117  -0.162214    -6.87191\n",
       "  -2.15425    -34.36     -2.4279       -26.36    -0.143261    -6.57235\n",
       "  -1.82609    -66.9999   -4.6173       -54.2792  -0.420597   -10.6968\n",
       "  -0.621394   -65.2316   -4.74582      -52.6054  -0.919166   -10.2378\n",
       " -15.0245    -243.35    -17.2811      -186.701   -0.994974   -41.4555\n",
       "  -1.39305    -15.6564   -1.2745   …   -12.155   -0.067607    -3.53728\n",
       "  -3.23688    -50.5006   -3.50632      -40.6007  -0.593813    -8.74541\n",
       "  -3.38401    -41.5205   -2.73216      -40.4691  -0.619772    -1.8679\n",
       "  -4.08978    -52.4061   -4.33129      -41.4634  -0.326423    -8.49021\n",
       "  -2.73119    -25.3339   -2.52129      -20.2484  -0.19625     -4.40718\n",
       "  -1.84235    -18.1365   -1.6881   …   -13.8662  -0.133916    -3.96413\n",
       "  -1.62243    -15.8673   -1.38041      -12.0747  -0.0645703   -3.68888\n",
       "  -1.72657    -27.2297   -1.94048      -20.5954  -0.108758    -5.63564\n",
       "   ⋮                               ⋱                         \n",
       "  -5.37285    -71.6777   -5.37889      -61.8095  -0.559093    -7.75155\n",
       "  -2.79307    -44.7781   -3.14393      -35.7085  -0.463099    -8.23193\n",
       "  -2.21309    -34.9894   -2.51778  …   -26.0615  -0.133253    -7.2782\n",
       "  -2.16446    -22.5992   -2.27816      -17.3592  -0.191828    -4.6754\n",
       "  -2.10446    -21.3714   -1.88399      -16.9165  -0.114793    -4.18001\n",
       "  -1.87849    -16.1102   -1.67101      -11.7379  -0.0591878   -3.95554\n",
       "  -1.45014    -17.1651   -1.23791      -13.365   -0.0694794   -3.87029\n",
       "  -1.47256    -16.7186   -1.25292  …   -12.6688  -0.0671431   -3.95161\n",
       "  -2.03787    -15.8208   -1.76073      -11.9887  -0.0668975   -3.52\n",
       "  -2.67397    -25.6105   -2.47332      -20.41    -0.123147    -4.44198\n",
       "  -1.73677    -14.6282   -1.45907      -11.0903  -0.0602387   -3.41681\n",
       "  -1.52367    -22.7542   -1.72399      -17.9703  -0.097153    -4.85592"
      ]
     },
     "execution_count": 647,
     "metadata": {},
     "output_type": "execute_result"
    }
   ],
   "source": [
    "G"
   ]
  },
  {
   "cell_type": "code",
   "execution_count": 648,
   "id": "1aaad94d",
   "metadata": {},
   "outputs": [
    {
     "data": {
      "text/plain": [
       "2.1610772922702786e6"
      ]
     },
     "execution_count": 648,
     "metadata": {},
     "output_type": "execute_result"
    }
   ],
   "source": [
    "g"
   ]
  },
  {
   "cell_type": "code",
   "execution_count": 649,
   "id": "e2305260",
   "metadata": {},
   "outputs": [
    {
     "data": {
      "text/plain": [
       "-1.7675175975429416e7"
      ]
     },
     "execution_count": 649,
     "metadata": {},
     "output_type": "execute_result"
    }
   ],
   "source": [
    "sum(x_hat .* G) + g"
   ]
  },
  {
   "cell_type": "code",
   "execution_count": 650,
   "id": "6aa4059d",
   "metadata": {},
   "outputs": [
    {
     "data": {
      "text/plain": [
       "Any[]"
      ]
     },
     "execution_count": 650,
     "metadata": {},
     "output_type": "execute_result"
    }
   ],
   "source": [
    "cuts"
   ]
  },
  {
   "cell_type": "code",
   "execution_count": 651,
   "id": "e2f1e170",
   "metadata": {},
   "outputs": [
    {
     "name": "stdout",
     "output_type": "stream",
     "text": [
      "Academic license - for non-commercial use only - expires 2024-12-26\r\n",
      "Gurobi Optimizer version 9.1.2 build v9.1.2rc0 (win64)\r\n",
      "Thread count: 6 physical cores, 12 logical processors, using up to 12 threads\r\n",
      "Optimize a model with 465 rows, 451 columns and 1740 nonzeros\r\n",
      "Model fingerprint: 0x89c09483\r\n",
      "Coefficient statistics:\r\n",
      "  Matrix range     [4e-03, 2e+02]\r\n",
      "  Objective range  [3e-03, 2e+02]\r\n",
      "  Bounds range     [0e+00, 0e+00]\r\n",
      "  RHS range        [2e+02, 8e+10]\r\n",
      "Warning: Model contains large rhs\r\n",
      "         Consider reformulating model or setting NumericFocus parameter\r\n",
      "         to avoid numerical issues.\r\n",
      "Presolve removed 450 rows and 277 columns\r\n",
      "Presolve time: 0.00s\r\n",
      "Presolved: 15 rows, 174 columns, 443 nonzeros\r\n",
      "\r\n",
      "Iteration    Objective       Primal Inf.    Dual Inf.      Time\r\n",
      "       0   -4.7938816e+06   8.693978e+05   0.000000e+00      0s\r\n",
      "      17   -4.3702460e+05   0.000000e+00   0.000000e+00      0s\r\n",
      "\r\n",
      "Solved in 17 iterations and 0.00 seconds\r\n",
      "Optimal objective -4.370245978e+05\r\n",
      "\r\n",
      "User-callback calls 50, time in user-callback 0.00 sec\r\n"
     ]
    }
   ],
   "source": [
    "model = Model(Gurobi.Optimizer)\n",
    "# set_silent(model)\n",
    "@variable(model, x[1:ncty, 1:nproc] >= 0)\n",
    "@variable(model, theta >= M)\n",
    "\n",
    "for k in 1:nproc\n",
    "    for i in 1:ncty\n",
    "        @constraint(model, x[i,k] <= 0.8*capacity[!, 2:end][i,k])\n",
    "    end\n",
    "end\n",
    "\n",
    "x_cth = [@constraint(model, sum(x[i,k] for i in 1:ncty) == sum(x[i,5] for i in 1:ncty) * scaler[k]) for k in cathode]\n",
    "x_cell = [@constraint(model, sum(x[i,k] for i in 1:ncty) == sum(x[i,11] for i in 1:ncty) * scaler[k]) for k in cell]\n",
    "x_noncell = [@constraint(model, sum(x[i,k] for i in 1:ncty) == sum(x[i,14] for i in 1:ncty) * scaler[k]) for k in noncell]\n",
    "x_battery = [@constraint(model, sum(x[i,k] for i in 1:ncty) == sum(x[i,15] for i in 1:ncty) * scaler[k]) for k in battery];\n",
    "\n",
    "\n",
    "###########\n",
    "proD = (x .* Matrix(regional_EF[:,2:end])) * ones(nproc,1) \n",
    "pro_sink = zeros(ncty, nproc)\n",
    "for k in 1:nproc\n",
    "    for i in 1:ncty\n",
    "        pro_sink[i,k] = regional_EF[i, k+1] * (sink_c[i]/emission_c[i] + es_ratio)\n",
    "    end\n",
    "end\n",
    "proS = (x.*pro_sink)*ones(nproc,1) \n",
    "\n",
    "\n",
    "@constraint(model, sum(x .* G) + g >= 0); \n",
    "\n",
    "\n",
    "@objective(model, Min, sum(proD - proS) + theta)\n",
    "JuMP.optimize!(model);"
   ]
  },
  {
   "cell_type": "code",
   "execution_count": 652,
   "id": "c1e20504",
   "metadata": {},
   "outputs": [
    {
     "data": {
      "text/plain": [
       "30×15 Matrix{Float64}:\n",
       "    0.0      0.0       0.0      0.0  …    0.0      0.0        0.0      0.0\n",
       "    0.0      0.0       0.0      0.0       0.0      0.0        0.0      0.0\n",
       "    0.0      0.0   11879.4  12175.2       0.0      0.0        0.0      0.0\n",
       "    0.0   2480.0       0.0      0.0       0.0      0.0        0.0      0.0\n",
       " 8716.07     0.0       0.0      0.0     396.332    0.0    79266.4      0.0\n",
       "    0.0      0.0       0.0      0.0  …    0.0      0.0        0.0      0.0\n",
       "    0.0      0.0       0.0      0.0       0.0      0.0        0.0      0.0\n",
       "    0.0   9717.95      0.0      0.0       0.0      0.0        0.0      0.0\n",
       "    0.0      0.0       0.0      0.0       0.0      0.0        0.0      0.0\n",
       "    0.0      0.0       0.0      0.0       0.0      0.0        0.0      0.0\n",
       "    0.0      0.0       0.0      0.0  …    0.0    317.065      0.0      0.0\n",
       "    0.0      0.0       0.0      0.0       0.0      0.0        0.0      0.0\n",
       "    0.0      0.0       0.0      0.0       0.0      0.0        0.0      0.0\n",
       "    ⋮                                ⋱                             \n",
       "    0.0      0.0       0.0      0.0       0.0      0.0        0.0      0.0\n",
       "    0.0      0.0       0.0      0.0       0.0      0.0        0.0      0.0\n",
       "    0.0      0.0       0.0      0.0  …    0.0      0.0        0.0      0.0\n",
       "    0.0      0.0       0.0      0.0       0.0      0.0        0.0      0.0\n",
       "    0.0      0.0       0.0      0.0       0.0      0.0        0.0      0.0\n",
       "    0.0      0.0       0.0      0.0       0.0      0.0        0.0      0.0\n",
       "    0.0      0.0       0.0      0.0       0.0      0.0        0.0      0.0\n",
       "    0.0      0.0       0.0      0.0  …    0.0      0.0        0.0      0.0\n",
       "    0.0      0.0       0.0      0.0       0.0      0.0        0.0      0.0\n",
       "    0.0      0.0       0.0      0.0       0.0      0.0        0.0      0.0\n",
       "    0.0      0.0       0.0      0.0       0.0      0.0        0.0      0.0\n",
       "    0.0      0.0       0.0      0.0       0.0      0.0        0.0  79266.4"
      ]
     },
     "execution_count": 652,
     "metadata": {},
     "output_type": "execute_result"
    }
   ],
   "source": [
    "x_hat = JuMP.value.(x)\n",
    "x_hat22 = x_hat"
   ]
  },
  {
   "cell_type": "code",
   "execution_count": 654,
   "id": "d4e58548",
   "metadata": {},
   "outputs": [
    {
     "name": "stdout",
     "output_type": "stream",
     "text": [
      "Academic license - for non-commercial use only - expires 2024-12-26\r\n",
      "Academic license - for non-commercial use only - expires 2024-12-26\r\n",
      "Academic license - for non-commercial use only - expires 2024-12-26\r\n",
      "Academic license - for non-commercial use only - expires 2024-12-26\r\n",
      "Academic license - for non-commercial use only - expires 2024-12-26\r\n",
      "Academic license - for non-commercial use only - expires 2024-12-26\r\n",
      "Academic license - for non-commercial use only - expires 2024-12-26\r\n"
     ]
    },
    {
     "data": {
      "text/plain": [
       "4.0435714285714286e6"
      ]
     },
     "execution_count": 654,
     "metadata": {},
     "output_type": "execute_result"
    }
   ],
   "source": [
    "new_cut, z_hat = add_cuts(x_hat22)\n",
    "\n",
    "G = new_cut[\"gradient\"]\n",
    "g = new_cut[\"intersection\"]"
   ]
  },
  {
   "cell_type": "code",
   "execution_count": 655,
   "id": "0ab5dbf4",
   "metadata": {},
   "outputs": [
    {
     "data": {
      "text/plain": [
       "(3.36133623300073e6, 1.0e8)"
      ]
     },
     "execution_count": 655,
     "metadata": {},
     "output_type": "execute_result"
    }
   ],
   "source": [
    "z_hat, z_ub"
   ]
  },
  {
   "cell_type": "code",
   "execution_count": 656,
   "id": "ec13725b",
   "metadata": {},
   "outputs": [
    {
     "data": {
      "text/plain": [
       "3.36133623300073e6"
      ]
     },
     "execution_count": 656,
     "metadata": {},
     "output_type": "execute_result"
    }
   ],
   "source": [
    "if z_hat < z_ub\n",
    "    x_opt = x_hat\n",
    "    z_ub = z_hat\n",
    "end"
   ]
  },
  {
   "cell_type": "code",
   "execution_count": 657,
   "id": "492a5692",
   "metadata": {},
   "outputs": [
    {
     "data": {
      "text/plain": [
       "1-element Vector{Any}:\n",
       " Dict{String, Any}(\"gradient\" => [-1.7394757707304322 -37.163985063095545 … -0.16221358056485538 -9.793952928375441; -2.154250748215941 -34.360006328422564 … -0.14326094365592024 -9.091820987467585; … ; -1.502431194837882 -14.628160558779728 … -0.060238688789963586 -6.093503531203845; -1.3319927442737913 -22.754249291784703 … -0.09715297450424931 -8.589546742209633], \"intersection\" => 4.0435714285714286e6)"
      ]
     },
     "execution_count": 657,
     "metadata": {},
     "output_type": "execute_result"
    }
   ],
   "source": [
    "push!(cuts, new_cut)"
   ]
  },
  {
   "cell_type": "code",
   "execution_count": 660,
   "id": "70c4d766",
   "metadata": {},
   "outputs": [
    {
     "name": "stdout",
     "output_type": "stream",
     "text": [
      "Academic license - for non-commercial use only - expires 2024-12-26\r\n"
     ]
    },
    {
     "data": {
      "text/plain": [
       "Dict{String, Any} with 2 entries:\n",
       "  \"x_hat\" => [4960.0 0.0 … 0.0 0.0; 46959.8 0.0 … 0.0 0.0; … ; 0.0 0.0 … 0.0 0.…\n",
       "  \"z_lb\"  => -3.38704e6"
      ]
     },
     "execution_count": 660,
     "metadata": {},
     "output_type": "execute_result"
    }
   ],
   "source": [
    "res1 = masterprob(cuts)"
   ]
  },
  {
   "cell_type": "code",
   "execution_count": 663,
   "id": "8939329a",
   "metadata": {},
   "outputs": [
    {
     "data": {
      "text/plain": [
       "30×15 Matrix{Float64}:\n",
       "  4960.0       0.0  0.0           0.0  …     0.0   0.0        0.0\n",
       " 46959.8       0.0  0.0           0.0        0.0   0.0        0.0\n",
       "  1760.0       0.0  1.1623e5  53600.0        0.0   0.0        0.0\n",
       "   400.0    2480.0  0.0       65524.5        0.0   0.0        0.0\n",
       " 31200.0       0.0  0.0           0.0        0.0   7.75558e5  0.0\n",
       "     0.0       0.0  0.0           0.0  …     0.0   0.0        0.0\n",
       "     0.0       0.0  0.0           0.0        0.0   0.0        0.0\n",
       "     0.0  116000.0  0.0           0.0        0.0   0.0        0.0\n",
       "     0.0     867.2  0.0           0.0        0.0   0.0        0.0\n",
       "     0.0       0.0  0.0           0.0        0.0   0.0        0.0\n",
       "     0.0       0.0  0.0           0.0  …  3102.23  0.0        0.0\n",
       "     0.0       0.0  0.0           0.0        0.0   0.0        0.0\n",
       "     0.0       0.0  0.0           0.0        0.0   0.0        0.0\n",
       "     ⋮                                 ⋱                      \n",
       "     0.0       0.0  0.0           0.0        0.0   0.0        0.0\n",
       "     0.0       0.0  0.0           0.0        0.0   0.0        0.0\n",
       "     0.0       0.0  0.0           0.0  …     0.0   0.0        0.0\n",
       "     0.0       0.0  0.0           0.0        0.0   0.0        0.0\n",
       "     0.0       0.0  0.0           0.0        0.0   0.0        0.0\n",
       "     0.0       0.0  0.0           0.0        0.0   0.0        0.0\n",
       "     0.0       0.0  0.0           0.0        0.0   0.0        0.0\n",
       "     0.0       0.0  0.0           0.0  …     0.0   0.0        0.0\n",
       "     0.0       0.0  0.0           0.0        0.0   0.0        0.0\n",
       "     0.0       0.0  0.0           0.0        0.0   0.0        0.0\n",
       "     0.0       0.0  0.0           0.0        0.0   0.0        0.0\n",
       "     0.0       0.0  0.0           0.0        0.0   0.0        7.75558e5"
      ]
     },
     "execution_count": 663,
     "metadata": {},
     "output_type": "execute_result"
    }
   ],
   "source": [
    "z_lb = res1[\"z_lb\"]\n",
    "x_hat = res1[\"x_hat\"]"
   ]
  },
  {
   "cell_type": "code",
   "execution_count": 664,
   "id": "0621c70d",
   "metadata": {},
   "outputs": [],
   "source": [
    "xhat33 = x_hat;"
   ]
  },
  {
   "cell_type": "code",
   "execution_count": 667,
   "id": "38ce1dc7",
   "metadata": {},
   "outputs": [
    {
     "data": {
      "text/plain": [
       "2.007647212906012"
      ]
     },
     "execution_count": 667,
     "metadata": {},
     "output_type": "execute_result"
    }
   ],
   "source": [
    "(z_ub - z_lb) / min(abs(z_ub), abs(z_lb))"
   ]
  },
  {
   "cell_type": "code",
   "execution_count": 665,
   "id": "907437f0",
   "metadata": {},
   "outputs": [
    {
     "name": "stdout",
     "output_type": "stream",
     "text": [
      "Academic license - for non-commercial use only - expires 2024-12-26\r\n",
      "Academic license - for non-commercial use only - expires 2024-12-26\r\n",
      "Academic license - for non-commercial use only - expires 2024-12-26\r\n",
      "Academic license - for non-commercial use only - expires 2024-12-26\r\n",
      "Academic license - for non-commercial use only - expires 2024-12-26\r\n",
      "Academic license - for non-commercial use only - expires 2024-12-26\r\n",
      "Academic license - for non-commercial use only - expires 2024-12-26\r\n"
     ]
    },
    {
     "data": {
      "text/plain": [
       "(Dict{String, Any}(\"gradient\" => [-1.9449855844527981 -37.163985063095545 … -0.16221358056485538 -6.871906544096869; -2.154250748215941 -34.360006328422564 … -0.14326094365592024 -6.572346463264013; … ; -1.7367725050028822 -14.628160558779728 … -0.060238688789963586 -3.4168141557038445; -1.5236668691120065 -22.754249291784703 … -0.09715297450424931 -4.855920926459632], \"intersection\" => 2.1610772922702786e6), -599566.6527022659)"
      ]
     },
     "execution_count": 665,
     "metadata": {},
     "output_type": "execute_result"
    }
   ],
   "source": [
    "new_cut, z_hat = add_cuts(x_hat)"
   ]
  },
  {
   "cell_type": "code",
   "execution_count": 666,
   "id": "3f5caf1b",
   "metadata": {},
   "outputs": [
    {
     "data": {
      "text/plain": [
       "(-599566.6527022659, 3.36133623300073e6)"
      ]
     },
     "execution_count": 666,
     "metadata": {},
     "output_type": "execute_result"
    }
   ],
   "source": [
    "z_hat, z_ub"
   ]
  },
  {
   "cell_type": "code",
   "execution_count": 668,
   "id": "93e1b06b",
   "metadata": {},
   "outputs": [
    {
     "data": {
      "text/plain": [
       "-599566.6527022659"
      ]
     },
     "execution_count": 668,
     "metadata": {},
     "output_type": "execute_result"
    }
   ],
   "source": [
    "if z_hat < z_ub\n",
    "    x_opt = x_hat\n",
    "    z_ub = z_hat\n",
    "end"
   ]
  },
  {
   "cell_type": "code",
   "execution_count": 669,
   "id": "21f97f51",
   "metadata": {},
   "outputs": [
    {
     "data": {
      "text/plain": [
       "2-element Vector{Any}:\n",
       " Dict{String, Any}(\"gradient\" => [-1.7394757707304322 -37.163985063095545 … -0.16221358056485538 -9.793952928375441; -2.154250748215941 -34.360006328422564 … -0.14326094365592024 -9.091820987467585; … ; -1.502431194837882 -14.628160558779728 … -0.060238688789963586 -6.093503531203845; -1.3319927442737913 -22.754249291784703 … -0.09715297450424931 -8.589546742209633], \"intersection\" => 4.0435714285714286e6)\n",
       " Dict{String, Any}(\"gradient\" => [-1.9449855844527981 -37.163985063095545 … -0.16221358056485538 -6.871906544096869; -2.154250748215941 -34.360006328422564 … -0.14326094365592024 -6.572346463264013; … ; -1.7367725050028822 -14.628160558779728 … -0.060238688789963586 -3.4168141557038445; -1.5236668691120065 -22.754249291784703 … -0.09715297450424931 -4.855920926459632], \"intersection\" => 2.1610772922702786e6)"
      ]
     },
     "execution_count": 669,
     "metadata": {},
     "output_type": "execute_result"
    }
   ],
   "source": [
    "push!(cuts, new_cut)"
   ]
  },
  {
   "cell_type": "code",
   "execution_count": 674,
   "id": "44e7c4a8",
   "metadata": {},
   "outputs": [
    {
     "data": {
      "text/plain": [
       "false"
      ]
     },
     "execution_count": 674,
     "metadata": {},
     "output_type": "execute_result"
    }
   ],
   "source": [
    "cuts[1][\"gradient\"] == cuts[2][\"gradient\"]\n",
    "cuts[1][\"intersection\"] == cuts[2][\"intersection\"]"
   ]
  },
  {
   "cell_type": "code",
   "execution_count": 676,
   "id": "11b36d3e",
   "metadata": {},
   "outputs": [
    {
     "name": "stdout",
     "output_type": "stream",
     "text": [
      "Academic license - for non-commercial use only - expires 2024-12-26\r\n"
     ]
    },
    {
     "data": {
      "text/plain": [
       "Dict{String, Any} with 2 entries:\n",
       "  \"x_hat\" => [4960.0 0.0 … 0.0 0.0; 46959.8 0.0 … 0.0 0.0; … ; 0.0 0.0 … 0.0 0.…\n",
       "  \"z_lb\"  => -3.38704e6"
      ]
     },
     "execution_count": 676,
     "metadata": {},
     "output_type": "execute_result"
    }
   ],
   "source": [
    "res = masterprob(cuts)"
   ]
  },
  {
   "cell_type": "code",
   "execution_count": 681,
   "id": "d04ba776",
   "metadata": {},
   "outputs": [
    {
     "data": {
      "text/plain": [
       "30×15 Matrix{Float64}:\n",
       " 0.0  0.0  0.0  0.0  0.0  0.0  0.0  0.0  0.0  0.0  0.0  0.0  0.0  0.0  0.0\n",
       " 0.0  0.0  0.0  0.0  0.0  0.0  0.0  0.0  0.0  0.0  0.0  0.0  0.0  0.0  0.0\n",
       " 0.0  0.0  0.0  0.0  0.0  0.0  0.0  0.0  0.0  0.0  0.0  0.0  0.0  0.0  0.0\n",
       " 0.0  0.0  0.0  0.0  0.0  0.0  0.0  0.0  0.0  0.0  0.0  0.0  0.0  0.0  0.0\n",
       " 0.0  0.0  0.0  0.0  0.0  0.0  0.0  0.0  0.0  0.0  0.0  0.0  0.0  0.0  0.0\n",
       " 0.0  0.0  0.0  0.0  0.0  0.0  0.0  0.0  0.0  0.0  0.0  0.0  0.0  0.0  0.0\n",
       " 0.0  0.0  0.0  0.0  0.0  0.0  0.0  0.0  0.0  0.0  0.0  0.0  0.0  0.0  0.0\n",
       " 0.0  0.0  0.0  0.0  0.0  0.0  0.0  0.0  0.0  0.0  0.0  0.0  0.0  0.0  0.0\n",
       " 0.0  0.0  0.0  0.0  0.0  0.0  0.0  0.0  0.0  0.0  0.0  0.0  0.0  0.0  0.0\n",
       " 0.0  0.0  0.0  0.0  0.0  0.0  0.0  0.0  0.0  0.0  0.0  0.0  0.0  0.0  0.0\n",
       " 0.0  0.0  0.0  0.0  0.0  0.0  0.0  0.0  0.0  0.0  0.0  0.0  0.0  0.0  0.0\n",
       " 0.0  0.0  0.0  0.0  0.0  0.0  0.0  0.0  0.0  0.0  0.0  0.0  0.0  0.0  0.0\n",
       " 0.0  0.0  0.0  0.0  0.0  0.0  0.0  0.0  0.0  0.0  0.0  0.0  0.0  0.0  0.0\n",
       " ⋮                        ⋮                        ⋮                   \n",
       " 0.0  0.0  0.0  0.0  0.0  0.0  0.0  0.0  0.0  0.0  0.0  0.0  0.0  0.0  0.0\n",
       " 0.0  0.0  0.0  0.0  0.0  0.0  0.0  0.0  0.0  0.0  0.0  0.0  0.0  0.0  0.0\n",
       " 0.0  0.0  0.0  0.0  0.0  0.0  0.0  0.0  0.0  0.0  0.0  0.0  0.0  0.0  0.0\n",
       " 0.0  0.0  0.0  0.0  0.0  0.0  0.0  0.0  0.0  0.0  0.0  0.0  0.0  0.0  0.0\n",
       " 0.0  0.0  0.0  0.0  0.0  0.0  0.0  0.0  0.0  0.0  0.0  0.0  0.0  0.0  0.0\n",
       " 0.0  0.0  0.0  0.0  0.0  0.0  0.0  0.0  0.0  0.0  0.0  0.0  0.0  0.0  0.0\n",
       " 0.0  0.0  0.0  0.0  0.0  0.0  0.0  0.0  0.0  0.0  0.0  0.0  0.0  0.0  0.0\n",
       " 0.0  0.0  0.0  0.0  0.0  0.0  0.0  0.0  0.0  0.0  0.0  0.0  0.0  0.0  0.0\n",
       " 0.0  0.0  0.0  0.0  0.0  0.0  0.0  0.0  0.0  0.0  0.0  0.0  0.0  0.0  0.0\n",
       " 0.0  0.0  0.0  0.0  0.0  0.0  0.0  0.0  0.0  0.0  0.0  0.0  0.0  0.0  0.0\n",
       " 0.0  0.0  0.0  0.0  0.0  0.0  0.0  0.0  0.0  0.0  0.0  0.0  0.0  0.0  0.0\n",
       " 0.0  0.0  0.0  0.0  0.0  0.0  0.0  0.0  0.0  0.0  0.0  0.0  0.0  0.0  0.0"
      ]
     },
     "execution_count": 681,
     "metadata": {},
     "output_type": "execute_result"
    }
   ],
   "source": [
    "res[\"x_hat\"] - xhat11"
   ]
  },
  {
   "cell_type": "code",
   "execution_count": null,
   "id": "2d3ea278",
   "metadata": {},
   "outputs": [],
   "source": []
  },
  {
   "cell_type": "code",
   "execution_count": null,
   "id": "cd1f131f",
   "metadata": {},
   "outputs": [],
   "source": []
  },
  {
   "cell_type": "code",
   "execution_count": null,
   "id": "d12efbb9",
   "metadata": {},
   "outputs": [],
   "source": []
  },
  {
   "cell_type": "code",
   "execution_count": null,
   "id": "78847936",
   "metadata": {},
   "outputs": [],
   "source": []
  },
  {
   "cell_type": "code",
   "execution_count": null,
   "id": "9dc2b5f4",
   "metadata": {},
   "outputs": [],
   "source": []
  },
  {
   "cell_type": "code",
   "execution_count": null,
   "id": "5b7c34e4",
   "metadata": {},
   "outputs": [],
   "source": []
  },
  {
   "cell_type": "code",
   "execution_count": null,
   "id": "32620831",
   "metadata": {},
   "outputs": [],
   "source": []
  },
  {
   "cell_type": "code",
   "execution_count": null,
   "id": "7a6ce60d",
   "metadata": {},
   "outputs": [],
   "source": []
  },
  {
   "cell_type": "code",
   "execution_count": null,
   "id": "f74b6187",
   "metadata": {},
   "outputs": [],
   "source": []
  },
  {
   "cell_type": "code",
   "execution_count": null,
   "id": "0461e968",
   "metadata": {},
   "outputs": [],
   "source": []
  },
  {
   "cell_type": "code",
   "execution_count": null,
   "id": "57820a7b",
   "metadata": {},
   "outputs": [],
   "source": []
  },
  {
   "cell_type": "code",
   "execution_count": 658,
   "id": "f10aeb60",
   "metadata": {},
   "outputs": [
    {
     "data": {
      "text/plain": [
       "1.5957399771203836e6"
      ]
     },
     "execution_count": 658,
     "metadata": {},
     "output_type": "execute_result"
    }
   ],
   "source": []
  },
  {
   "cell_type": "code",
   "execution_count": null,
   "id": "0c8b69d2",
   "metadata": {},
   "outputs": [],
   "source": []
  },
  {
   "cell_type": "code",
   "execution_count": null,
   "id": "98c77f68",
   "metadata": {},
   "outputs": [],
   "source": []
  },
  {
   "cell_type": "code",
   "execution_count": null,
   "id": "092e13db",
   "metadata": {},
   "outputs": [],
   "source": []
  },
  {
   "cell_type": "code",
   "execution_count": null,
   "id": "5c7ca86f",
   "metadata": {},
   "outputs": [],
   "source": []
  },
  {
   "cell_type": "code",
   "execution_count": null,
   "id": "222c14a4",
   "metadata": {},
   "outputs": [],
   "source": []
  },
  {
   "cell_type": "code",
   "execution_count": null,
   "id": "ffe4220a",
   "metadata": {},
   "outputs": [],
   "source": []
  },
  {
   "cell_type": "code",
   "execution_count": null,
   "id": "252f662f",
   "metadata": {},
   "outputs": [],
   "source": []
  },
  {
   "cell_type": "code",
   "execution_count": null,
   "id": "758a9522",
   "metadata": {},
   "outputs": [],
   "source": []
  },
  {
   "cell_type": "code",
   "execution_count": null,
   "id": "576098b5",
   "metadata": {},
   "outputs": [],
   "source": []
  },
  {
   "cell_type": "code",
   "execution_count": null,
   "id": "c6729fea",
   "metadata": {},
   "outputs": [],
   "source": []
  },
  {
   "cell_type": "code",
   "execution_count": null,
   "id": "d971cb66",
   "metadata": {},
   "outputs": [],
   "source": []
  },
  {
   "cell_type": "code",
   "execution_count": null,
   "id": "cf8e5030",
   "metadata": {},
   "outputs": [],
   "source": []
  },
  {
   "cell_type": "code",
   "execution_count": null,
   "id": "e53b1634",
   "metadata": {},
   "outputs": [],
   "source": []
  },
  {
   "cell_type": "code",
   "execution_count": null,
   "id": "5361eb40",
   "metadata": {},
   "outputs": [],
   "source": []
  },
  {
   "cell_type": "code",
   "execution_count": 420,
   "id": "a8aca4b7",
   "metadata": {},
   "outputs": [
    {
     "data": {
      "text/plain": [
       "1-element Vector{Any}:\n",
       " Dict{String, Any}(\"gradient\" => [-0.20456365647918104 0.0 … 0.0 -1.53407435174625; 0.0 0.0 … 0.0 -1.322724125206875; … ; -0.9758627518664998 -0.16453433457900002 … 0.0 -1.4052619221375; -0.6028682999858039 0.0 … 0.0 -1.875], \"intersection\" => 3.5875e6)"
      ]
     },
     "execution_count": 420,
     "metadata": {},
     "output_type": "execute_result"
    }
   ],
   "source": [
    "if z_hat < z_ub\n",
    "    x_opt = x_hat\n",
    "    z_ub = z_hat\n",
    "end\n",
    "\n",
    "push!(cuts, new_cut)"
   ]
  },
  {
   "cell_type": "code",
   "execution_count": 421,
   "id": "1e97bc30",
   "metadata": {},
   "outputs": [
    {
     "name": "stdout",
     "output_type": "stream",
     "text": [
      "Academic license - for non-commercial use only - expires 2024-12-26\r\n"
     ]
    },
    {
     "data": {
      "text/plain": [
       "Dict{String, Any} with 2 entries:\n",
       "  \"x_hat\" => [4960.0 0.0 … 0.0 0.0; 48800.0 5600.0 … 0.0 0.0; … ; 0.0 0.0 … 0.0…\n",
       "  \"z_lb\"  => -1.42621e6"
      ]
     },
     "execution_count": 421,
     "metadata": {},
     "output_type": "execute_result"
    }
   ],
   "source": [
    "res1 = masterprob(cuts)"
   ]
  },
  {
   "cell_type": "code",
   "execution_count": 422,
   "id": "ab9a6e8a",
   "metadata": {},
   "outputs": [
    {
     "data": {
      "text/plain": [
       "30×15 Matrix{Float64}:\n",
       "  4960.0         0.0  0.0        0.0        …     0.0        0.0       0.0\n",
       " 48800.0      5600.0  0.0        0.0              0.0        0.0       0.0\n",
       "  1760.0         0.0  1.21684e5  0.0              0.0        0.0       0.0\n",
       "   400.0      2480.0  0.0        1.24714e5        0.0    11948.6       0.0\n",
       " 31200.0         0.0  0.0        0.0              0.0   800000.0       0.0\n",
       "   961.301       0.0  0.0        0.0        …     0.0        0.0       0.0\n",
       "     0.0         0.0  0.0        0.0              0.0        0.0       0.0\n",
       "     0.0    116000.0  0.0        0.0              0.0        0.0       0.0\n",
       "     0.0       867.2  0.0        0.0              0.0        0.0       0.0\n",
       "     0.0         0.0  0.0        0.0              0.0        0.0       0.0\n",
       "     0.0         0.0  0.0        0.0        …  3247.79       0.0   11948.6\n",
       "     0.0         0.0  0.0        0.0              0.0        0.0       0.0\n",
       "     0.0         0.0  0.0        0.0              0.0        0.0       0.0\n",
       "     ⋮                                      ⋱                     \n",
       "     0.0         0.0  0.0        0.0              0.0        0.0       0.0\n",
       "     0.0         0.0  0.0        0.0              0.0        0.0       0.0\n",
       "     0.0         0.0  0.0        0.0        …     0.0        0.0       0.0\n",
       "   480.0         0.0  0.0        0.0              0.0        0.0       0.0\n",
       "     0.0         0.0  0.0        0.0              0.0        0.0       0.0\n",
       "     0.0         0.0  0.0        0.0              0.0        0.0       0.0\n",
       "     0.0         0.0  0.0        0.0              0.0        0.0       0.0\n",
       "     0.0         0.0  0.0        0.0        …     0.0        0.0       0.0\n",
       "     0.0         0.0  0.0        0.0              0.0        0.0       0.0\n",
       "     0.0         0.0  0.0        0.0              0.0        0.0       0.0\n",
       "     0.0         0.0  0.0        0.0              0.0        0.0       0.0\n",
       "   720.0         0.0  0.0        0.0              0.0        0.0  800000.0"
      ]
     },
     "execution_count": 422,
     "metadata": {},
     "output_type": "execute_result"
    }
   ],
   "source": [
    "z_lb = res1[\"z_lb\"]\n",
    "x_hat = res1[\"x_hat\"]"
   ]
  },
  {
   "cell_type": "code",
   "execution_count": 427,
   "id": "da18cf22",
   "metadata": {},
   "outputs": [
    {
     "name": "stdout",
     "output_type": "stream",
     "text": [
      "Academic license - for non-commercial use only - expires 2024-12-26\r\n",
      "Academic license - for non-commercial use only - expires 2024-12-26\r\n",
      "Academic license - for non-commercial use only - expires 2024-12-26\r\n",
      "Academic license - for non-commercial use only - expires 2024-12-26\r\n",
      "Academic license - for non-commercial use only - expires 2024-12-26\r\n",
      "Academic license - for non-commercial use only - expires 2024-12-26\r\n",
      "Academic license - for non-commercial use only - expires 2024-12-26\r\n",
      "Academic license - for non-commercial use only - expires 2024-12-26\r\n"
     ]
    },
    {
     "data": {
      "text/plain": [
       "(Dict{String, Any}(\"gradient\" => [-0.20456365647918104 -0.2456769403350001 … -0.011335630170000055 -1.53407435174625; 0.0 0.0 … 0.0 -1.322724125206875; … ; -0.9758627518664998 -0.9758627518664998 … -0.7415214417014998 -1.4052619221375; -0.6028682999858039 -0.6612103934474999 … 0.0 -1.875], \"intersection\" => 3.5875e6), 461498.0955369733)"
      ]
     },
     "execution_count": 427,
     "metadata": {},
     "output_type": "execute_result"
    }
   ],
   "source": [
    "new_cut, z_hat = add_cuts(x_hat)"
   ]
  },
  {
   "cell_type": "code",
   "execution_count": 428,
   "id": "38360bb4",
   "metadata": {},
   "outputs": [
    {
     "data": {
      "text/plain": [
       "2-element Vector{Any}:\n",
       " Dict{String, Any}(\"gradient\" => [-0.20456365647918104 0.0 … 0.0 -1.53407435174625; 0.0 0.0 … 0.0 -1.322724125206875; … ; -0.9758627518664998 -0.16453433457900002 … 0.0 -1.4052619221375; -0.6028682999858039 0.0 … 0.0 -1.875], \"intersection\" => 3.5875e6)\n",
       " Dict{String, Any}(\"gradient\" => [-0.20456365647918104 -0.2456769403350001 … -0.011335630170000055 -1.53407435174625; 0.0 0.0 … 0.0 -1.322724125206875; … ; -0.9758627518664998 -0.9758627518664998 … -0.7415214417014998 -1.4052619221375; -0.6028682999858039 -0.6612103934474999 … 0.0 -1.875], \"intersection\" => 3.5875e6)"
      ]
     },
     "execution_count": 428,
     "metadata": {},
     "output_type": "execute_result"
    }
   ],
   "source": [
    "if z_hat < z_ub\n",
    "    x_opt = x_hat\n",
    "    z_ub = z_hat\n",
    "end\n",
    "\n",
    "push!(cuts, new_cut)"
   ]
  },
  {
   "cell_type": "code",
   "execution_count": 438,
   "id": "d9dcb6e7",
   "metadata": {},
   "outputs": [
    {
     "data": {
      "text/plain": [
       "1.9218392077057904e6"
      ]
     },
     "execution_count": 438,
     "metadata": {},
     "output_type": "execute_result"
    }
   ],
   "source": [
    "G = new_cut[\"gradient\"]\n",
    "g = new_cut[\"intersection\"]\n",
    "sum(x_hat .* G) + g"
   ]
  },
  {
   "cell_type": "code",
   "execution_count": 434,
   "id": "aebb528e",
   "metadata": {},
   "outputs": [
    {
     "name": "stdout",
     "output_type": "stream",
     "text": [
      "Academic license - for non-commercial use only - expires 2024-12-26\r\n"
     ]
    },
    {
     "data": {
      "text/plain": [
       "Dict{String, Any} with 2 entries:\n",
       "  \"x_hat\" => [4960.0 0.0 … 0.0 0.0; 48800.0 5600.0 … 0.0 0.0; … ; 0.0 0.0 … 0.0…\n",
       "  \"z_lb\"  => -1.42496e6"
      ]
     },
     "execution_count": 434,
     "metadata": {},
     "output_type": "execute_result"
    }
   ],
   "source": [
    "res1 = masterprob(cuts)"
   ]
  },
  {
   "cell_type": "code",
   "execution_count": null,
   "id": "de355ce5",
   "metadata": {},
   "outputs": [],
   "source": []
  },
  {
   "cell_type": "code",
   "execution_count": null,
   "id": "adadbfb0",
   "metadata": {},
   "outputs": [],
   "source": []
  },
  {
   "cell_type": "code",
   "execution_count": null,
   "id": "2a70c95e",
   "metadata": {},
   "outputs": [],
   "source": []
  },
  {
   "cell_type": "code",
   "execution_count": 575,
   "id": "5c94d4f6",
   "metadata": {},
   "outputs": [
    {
     "data": {
      "text/plain": [
       "1×15 Matrix{Float64}:\n",
       " 89281.3  1.24947e5  1.21684e5  1.24714e5  …  3247.79  8.11949e5  8.11949e5"
      ]
     },
     "execution_count": 575,
     "metadata": {},
     "output_type": "execute_result"
    }
   ],
   "source": [
    "x_hat = xhat22\n",
    "\n",
    "sum(x_hat, dims=1)"
   ]
  },
  {
   "cell_type": "code",
   "execution_count": 576,
   "id": "8c74ec27",
   "metadata": {},
   "outputs": [
    {
     "data": {
      "text/plain": [
       "380000"
      ]
     },
     "execution_count": 576,
     "metadata": {},
     "output_type": "execute_result"
    }
   ],
   "source": [
    "s = 2\n",
    "scen_dmd[s]"
   ]
  },
  {
   "cell_type": "code",
   "execution_count": 577,
   "id": "a8522f35",
   "metadata": {},
   "outputs": [
    {
     "name": "stdout",
     "output_type": "stream",
     "text": [
      "Academic license - for non-commercial use only - expires 2024-12-26\r\n",
      "Gurobi Optimizer version 9.1.2 build v9.1.2rc0 (win64)\r\n",
      "Thread count: 6 physical cores, 12 logical processors, using up to 12 threads\r\n",
      "Optimize a model with 871 rows, 13501 columns and 26131 nonzeros\r\n",
      "Model fingerprint: 0x41928716\r\n",
      "Coefficient statistics:\r\n",
      "  Matrix range     [1e+00, 1e+00]\r\n",
      "  Objective range  [8e-05, 2e+02]\r\n",
      "  Bounds range     [0e+00, 0e+00]\r\n",
      "  RHS range        [5e+01, 8e+05]\r\n",
      "Presolve removed 871 rows and 13501 columns\r\n",
      "Presolve time: 0.00s\r\n",
      "Presolve: All rows and columns removed\r\n",
      "Iteration    Objective       Primal Inf.    Dual Inf.      Time\r\n",
      "       0    1.7463936e+06   0.000000e+00   0.000000e+00      0s\r\n",
      "\r\n",
      "Solved in 0 iterations and 0.01 seconds\r\n",
      "Optimal objective  1.746393644e+06\r\n",
      "\r\n",
      "User-callback calls 35, time in user-callback 0.00 sec\r\n"
     ]
    }
   ],
   "source": [
    "model = Model(Gurobi.Optimizer)\n",
    "@variable(model, y[1:ncty, 1:ncty, 1:nproc] >= 0)\n",
    "@variable(model, unmeet >= 0)\n",
    "\n",
    "cstr_op = [@constraint(model, sum(y[i,j,k] for j in 1:ncty) == Omega[i,s,k] * x_hat[i,k]) for k in 1:nproc for i in 1:ncty]\n",
    "cstr_cth = [@constraint(model, sum(y[i,j,k] for i in 1:ncty) >= Omega[j,s,k] * x_hat[j,5] * scaler[k]) for k in cathode for j in 1:ncty]\n",
    "cstr_cell = [@constraint(model, sum(y[i,j,k] for i in 1:ncty) >= Omega[j,s,k] * x_hat[j,11] * scaler[k]) for k in cell for j in 1:ncty]\n",
    "cstr_noncell = [@constraint(model, sum(y[i,j,k] for i in 1:ncty) >= Omega[j,s,k] * x_hat[j,14] * scaler[k]) for k in noncell for j in 1:ncty]\n",
    "cstr_battery = [@constraint(model, sum(y[i,j,k] for i in 1:ncty) >= Omega[j,s,k] * x_hat[j,15] * scaler[k]) for k in battery for j in 1:ncty] \n",
    "\n",
    "cstr_fmk = [@constraint(model, sum(y[i,mkt_loc,mkt_proc] for i in 1:ncty) + unmeet == scen_dmd[s])]\n",
    "\n",
    "\n",
    "transD = Vector{AffExpr}(undef, ncty)\n",
    "for j in 1:ncty\n",
    "    arc_emi = 0\n",
    "    for i in 1:ncty\n",
    "        amount = sum(y[i,j,k] for k in 1:nproc)\n",
    "        arc_emi += amount * distance[!, 2:end][i,j] * EF_trans\n",
    "    end\n",
    "    transD[j] = arc_emi  # ncty*1 matrix\n",
    "end\n",
    "\n",
    "\n",
    "sink_ratio = zeros(ncty, nproc)\n",
    "for k in 1:nproc\n",
    "    for i in 1:ncty\n",
    "        sink_ratio[i,k] = regional_EF[i, k+1] * (sink_c[i]/emission_c[i] + es_ratio)\n",
    "    end\n",
    "end\n",
    "overprod_penalty = sum((x_hat - sum(y, dims=2)[:,1,:]) .* sink_ratio)\n",
    "\n",
    "\n",
    "############### Obj function ##############\n",
    "@objective(model, Min, sum(transD) + unmeet * penalty + overprod_penalty)\n",
    "JuMP.optimize!(model)"
   ]
  },
  {
   "cell_type": "code",
   "execution_count": 578,
   "id": "f8911f02",
   "metadata": {},
   "outputs": [
    {
     "data": {
      "text/plain": [
       "1-element Vector{Float64}:\n",
       " -0.22707614205000004"
      ]
     },
     "execution_count": 578,
     "metadata": {},
     "output_type": "execute_result"
    }
   ],
   "source": [
    "qy_hat = JuMP.objective_value(model)\n",
    "sub_y = JuMP.value.(y)\n",
    "sub_unmeet = JuMP.value.(unmeet)\n",
    "\n",
    "op_pi = [getdual(con) for con in cstr_op]\n",
    "fmk_alp = [getdual(con) for con in cstr_fmk]"
   ]
  },
  {
   "cell_type": "code",
   "execution_count": 564,
   "id": "6c4de4f4",
   "metadata": {},
   "outputs": [
    {
     "data": {
      "text/plain": [
       "0.0"
      ]
     },
     "execution_count": 564,
     "metadata": {},
     "output_type": "execute_result"
    }
   ],
   "source": [
    "sub_unmeet"
   ]
  },
  {
   "cell_type": "code",
   "execution_count": 580,
   "id": "40041eab",
   "metadata": {},
   "outputs": [
    {
     "data": {
      "text/plain": [
       "1-element Vector{Float64}:\n",
       " -0.22707614205000004"
      ]
     },
     "execution_count": 580,
     "metadata": {},
     "output_type": "execute_result"
    }
   ],
   "source": [
    "fmk_alp"
   ]
  },
  {
   "cell_type": "code",
   "execution_count": 581,
   "id": "8961c357",
   "metadata": {},
   "outputs": [
    {
     "data": {
      "text/plain": [
       "450-element Vector{Float64}:\n",
       "  -2.217852577728768\n",
       "  -1.8096119198642555\n",
       "  -4.139828367142872\n",
       "  -4.3497555574795825\n",
       " -12.959533437347783\n",
       "  -1.5453125510964865\n",
       "  -3.2368799747355994\n",
       "  -3.3840086268748246\n",
       "  -4.089782046186096\n",
       "  -2.731193903281465\n",
       "  -2.4000331986767733\n",
       "  -1.622427094909849\n",
       "  -1.7265650878339138\n",
       "   ⋮\n",
       "  -6.524582569571739\n",
       "  -6.96955917211077\n",
       "  -6.213796600566572\n",
       "  -3.4625074102348945\n",
       "  -2.9901558073654395\n",
       "  -2.8659347879679085\n",
       "  -2.8705975812700872\n",
       "  -2.8164748005715863\n",
       "  -2.383664967976352\n",
       "  -3.273113366586142\n",
       "  -2.346138405503845\n",
       "  -3.3624706001596314"
      ]
     },
     "execution_count": 581,
     "metadata": {},
     "output_type": "execute_result"
    }
   ],
   "source": [
    "op_pi"
   ]
  },
  {
   "cell_type": "code",
   "execution_count": null,
   "id": "6cb757b2",
   "metadata": {},
   "outputs": [],
   "source": []
  },
  {
   "cell_type": "code",
   "execution_count": 574,
   "id": "20b902ce",
   "metadata": {},
   "outputs": [
    {
     "data": {
      "text/plain": [
       "1-element Vector{Float64}:\n",
       " -0.22707614205000004"
      ]
     },
     "execution_count": 574,
     "metadata": {},
     "output_type": "execute_result"
    }
   ],
   "source": [
    "fmk_alp"
   ]
  },
  {
   "cell_type": "code",
   "execution_count": 573,
   "id": "a0b4585b",
   "metadata": {},
   "outputs": [
    {
     "data": {
      "text/plain": [
       "450-element Vector{Float64}:\n",
       "  -2.217852577728768\n",
       "  -1.8096119198642555\n",
       "  -4.139828367142872\n",
       "  -4.3497555574795825\n",
       " -12.959533437347783\n",
       "  -1.5453125510964865\n",
       "  -3.2368799747355994\n",
       "  -3.3840086268748246\n",
       "  -4.089782046186096\n",
       "  -2.731193903281465\n",
       "  -2.4000331986767733\n",
       "  -1.622427094909849\n",
       "  -1.7265650878339138\n",
       "   ⋮\n",
       "  -6.524582569571739\n",
       "  -6.96955917211077\n",
       "  -6.213796600566572\n",
       "  -3.4625074102348945\n",
       "  -2.9901558073654395\n",
       "  -2.8659347879679085\n",
       "  -2.8705975812700872\n",
       "  -2.8164748005715863\n",
       "  -2.383664967976352\n",
       "  -3.273113366586142\n",
       "  -2.346138405503845\n",
       "  -3.3624706001596314"
      ]
     },
     "execution_count": 573,
     "metadata": {},
     "output_type": "execute_result"
    }
   ],
   "source": [
    "op_pi"
   ]
  },
  {
   "cell_type": "code",
   "execution_count": null,
   "id": "7e70e3d3",
   "metadata": {},
   "outputs": [],
   "source": []
  },
  {
   "cell_type": "code",
   "execution_count": null,
   "id": "35a054b6",
   "metadata": {},
   "outputs": [],
   "source": []
  },
  {
   "cell_type": "code",
   "execution_count": null,
   "id": "cce49694",
   "metadata": {},
   "outputs": [],
   "source": []
  },
  {
   "cell_type": "code",
   "execution_count": null,
   "id": "5b00afc2",
   "metadata": {},
   "outputs": [],
   "source": []
  },
  {
   "cell_type": "code",
   "execution_count": null,
   "id": "e4a9130e",
   "metadata": {},
   "outputs": [],
   "source": []
  },
  {
   "cell_type": "code",
   "execution_count": null,
   "id": "1074f360",
   "metadata": {},
   "outputs": [],
   "source": []
  },
  {
   "cell_type": "code",
   "execution_count": null,
   "id": "c77e7409",
   "metadata": {},
   "outputs": [],
   "source": []
  },
  {
   "cell_type": "code",
   "execution_count": null,
   "id": "7efe4f54",
   "metadata": {},
   "outputs": [],
   "source": []
  },
  {
   "cell_type": "code",
   "execution_count": null,
   "id": "db74364c",
   "metadata": {},
   "outputs": [],
   "source": []
  },
  {
   "cell_type": "code",
   "execution_count": null,
   "id": "48d8e5e9",
   "metadata": {},
   "outputs": [],
   "source": []
  },
  {
   "cell_type": "code",
   "execution_count": null,
   "id": "7864ac5e",
   "metadata": {},
   "outputs": [],
   "source": []
  },
  {
   "cell_type": "code",
   "execution_count": null,
   "id": "26416e25",
   "metadata": {},
   "outputs": [],
   "source": []
  },
  {
   "cell_type": "code",
   "execution_count": null,
   "id": "fa427f68",
   "metadata": {},
   "outputs": [],
   "source": []
  },
  {
   "cell_type": "code",
   "execution_count": null,
   "id": "77dc014c",
   "metadata": {},
   "outputs": [],
   "source": []
  },
  {
   "cell_type": "code",
   "execution_count": null,
   "id": "5481d77e",
   "metadata": {},
   "outputs": [],
   "source": []
  },
  {
   "cell_type": "code",
   "execution_count": null,
   "id": "0c68d25d",
   "metadata": {},
   "outputs": [],
   "source": []
  },
  {
   "cell_type": "code",
   "execution_count": null,
   "id": "e3fa86d6",
   "metadata": {},
   "outputs": [],
   "source": []
  },
  {
   "cell_type": "code",
   "execution_count": null,
   "id": "00b09f7d",
   "metadata": {},
   "outputs": [],
   "source": []
  },
  {
   "cell_type": "code",
   "execution_count": null,
   "id": "93a3f041",
   "metadata": {},
   "outputs": [],
   "source": []
  },
  {
   "cell_type": "code",
   "execution_count": null,
   "id": "a42ded77",
   "metadata": {},
   "outputs": [],
   "source": []
  },
  {
   "cell_type": "code",
   "execution_count": null,
   "id": "2319fb31",
   "metadata": {},
   "outputs": [],
   "source": []
  },
  {
   "cell_type": "code",
   "execution_count": null,
   "id": "be60a47f",
   "metadata": {},
   "outputs": [],
   "source": []
  },
  {
   "cell_type": "code",
   "execution_count": null,
   "id": "1205a835",
   "metadata": {},
   "outputs": [],
   "source": []
  },
  {
   "cell_type": "code",
   "execution_count": null,
   "id": "350da1de",
   "metadata": {},
   "outputs": [],
   "source": []
  },
  {
   "cell_type": "code",
   "execution_count": null,
   "id": "3719b492",
   "metadata": {},
   "outputs": [],
   "source": []
  },
  {
   "cell_type": "code",
   "execution_count": null,
   "id": "b08454e9",
   "metadata": {},
   "outputs": [],
   "source": []
  },
  {
   "cell_type": "code",
   "execution_count": null,
   "id": "86451db9",
   "metadata": {},
   "outputs": [],
   "source": []
  },
  {
   "cell_type": "code",
   "execution_count": null,
   "id": "4ba8e152",
   "metadata": {},
   "outputs": [],
   "source": []
  },
  {
   "cell_type": "code",
   "execution_count": null,
   "id": "a8b8c904",
   "metadata": {},
   "outputs": [],
   "source": []
  },
  {
   "cell_type": "code",
   "execution_count": null,
   "id": "a7b0242c",
   "metadata": {},
   "outputs": [],
   "source": []
  },
  {
   "cell_type": "code",
   "execution_count": null,
   "id": "e7b552d9",
   "metadata": {},
   "outputs": [],
   "source": []
  },
  {
   "cell_type": "code",
   "execution_count": null,
   "id": "da0577d7",
   "metadata": {},
   "outputs": [],
   "source": []
  },
  {
   "cell_type": "code",
   "execution_count": null,
   "id": "7cd63a2d",
   "metadata": {},
   "outputs": [],
   "source": []
  },
  {
   "cell_type": "code",
   "execution_count": null,
   "id": "d21a573a",
   "metadata": {},
   "outputs": [],
   "source": []
  },
  {
   "cell_type": "code",
   "execution_count": null,
   "id": "ee7e5f0e",
   "metadata": {},
   "outputs": [],
   "source": []
  },
  {
   "cell_type": "code",
   "execution_count": null,
   "id": "d164a4a6",
   "metadata": {},
   "outputs": [],
   "source": []
  },
  {
   "cell_type": "code",
   "execution_count": null,
   "id": "94edb671",
   "metadata": {},
   "outputs": [],
   "source": []
  },
  {
   "cell_type": "code",
   "execution_count": null,
   "id": "93efc215",
   "metadata": {},
   "outputs": [],
   "source": []
  },
  {
   "cell_type": "code",
   "execution_count": null,
   "id": "45695c70",
   "metadata": {},
   "outputs": [],
   "source": []
  },
  {
   "cell_type": "code",
   "execution_count": null,
   "id": "8bed2e39",
   "metadata": {},
   "outputs": [],
   "source": []
  },
  {
   "cell_type": "code",
   "execution_count": null,
   "id": "897089d9",
   "metadata": {},
   "outputs": [],
   "source": []
  },
  {
   "cell_type": "code",
   "execution_count": null,
   "id": "fa7e37e2",
   "metadata": {},
   "outputs": [],
   "source": []
  },
  {
   "cell_type": "code",
   "execution_count": null,
   "id": "c8b5fb96",
   "metadata": {},
   "outputs": [],
   "source": []
  },
  {
   "cell_type": "code",
   "execution_count": null,
   "id": "6075c486",
   "metadata": {},
   "outputs": [],
   "source": []
  },
  {
   "cell_type": "code",
   "execution_count": null,
   "id": "777959bd",
   "metadata": {},
   "outputs": [],
   "source": []
  },
  {
   "cell_type": "code",
   "execution_count": null,
   "id": "e307dea4",
   "metadata": {},
   "outputs": [],
   "source": []
  },
  {
   "cell_type": "code",
   "execution_count": null,
   "id": "643a9d85",
   "metadata": {},
   "outputs": [],
   "source": []
  },
  {
   "cell_type": "code",
   "execution_count": null,
   "id": "bc5ca32e",
   "metadata": {},
   "outputs": [],
   "source": []
  },
  {
   "cell_type": "code",
   "execution_count": null,
   "id": "a72260fd",
   "metadata": {},
   "outputs": [],
   "source": []
  },
  {
   "cell_type": "markdown",
   "id": "51997c64",
   "metadata": {},
   "source": [
    "----"
   ]
  },
  {
   "cell_type": "code",
   "execution_count": 630,
   "id": "b9e0567a",
   "metadata": {},
   "outputs": [],
   "source": [
    "scen_eff = CSV.File(string(path,\"Scenarios/Scen_Efficiency2.csv\"), header=1, delim=\",\") |> DataFrame\n",
    "scen_eff = Matrix(scen_eff)[:, 2:end]\n",
    "num_omega = size(scen_eff)[2]\n",
    "\n",
    "scen_dmd = CSV.File(string(path,\"Scenarios/Scen_Demand.csv\"), header=1, delim=\",\") |> DataFrame\n",
    "scen_dmd = Matrix(scen_dmd)[2:end]\n",
    "# scen_dmd = Matrix(scen_dmd)[2:end][list]\n",
    "# scen_dmd = ones(num_omega) .* 452000\n",
    "\n",
    "Omega = ones(Float64, ncty, num_omega, nproc);  # Omega[ncty,nscena,nproc]\n",
    "Omega[:, :, 1] = scen_eff;"
   ]
  },
  {
   "cell_type": "code",
   "execution_count": 631,
   "id": "d46da410",
   "metadata": {},
   "outputs": [
    {
     "data": {
      "text/plain": [
       "sub_test (generic function with 2 methods)"
      ]
     },
     "execution_count": 631,
     "metadata": {},
     "output_type": "execute_result"
    }
   ],
   "source": [
    "function sub_test(s,x)\n",
    "    model = Model(Gurobi.Optimizer)\n",
    "    set_silent(model)\n",
    "    @variable(model, y[1:ncty, 1:ncty, 1:nproc] >= 0)\n",
    "    @variable(model, unmeet >= 0)\n",
    "\n",
    "    cstr_op = [@constraint(model, sum(y[i,j,k] for j in 1:ncty) == Omega[i,s,k] * x[i,k]) for k in 1:nproc for i in 1:ncty]\n",
    "    cstr_cth = [@constraint(model, sum(y[i,j,k] for i in 1:ncty) >= Omega[j,s,k] * x[j,5] * scaler[k]) for k in cathode for j in 1:ncty]\n",
    "    cstr_cell = [@constraint(model, sum(y[i,j,k] for i in 1:ncty) >= Omega[j,s,k] * x[j,11] * scaler[k]) for k in cell for j in 1:ncty]\n",
    "    cstr_noncell = [@constraint(model, sum(y[i,j,k] for i in 1:ncty) >= Omega[j,s,k] * x[j,14] * scaler[k]) for k in noncell for j in 1:ncty]\n",
    "    cstr_battery = [@constraint(model, sum(y[i,j,k] for i in 1:ncty) >= Omega[j,s,k] * x[j,15] * scaler[k]) for k in battery for j in 1:ncty] \n",
    "\n",
    "    cstr_fmk = [@constraint(model, sum(y[i,mkt_loc,mkt_proc] for i in 1:ncty) + unmeet >= scen_dmd[s])]\n",
    "\n",
    "\n",
    "    transD = Vector{AffExpr}(undef, ncty)\n",
    "    for j in 1:ncty\n",
    "        arc_emi = 0\n",
    "        for i in 1:ncty\n",
    "            amount = sum(y[i,j,k] for k in 1:nproc)\n",
    "            arc_emi += amount * distance[!, 2:end][i,j] * EF_trans\n",
    "        end\n",
    "        transD[j] = arc_emi  # ncty*1 matrix\n",
    "    end\n",
    "\n",
    "\n",
    "    pro_sink = zeros(AffExpr, ncty, nproc)\n",
    "    for k in 1:nproc\n",
    "        for i in 1:ncty\n",
    "            pro_sink[i,k] = (sum(y[i,j,k] for j in 1:ncty)) * regional_EF[i, k+1] * (sink_c[i]/emission_c[i] + es_ratio)\n",
    "        end\n",
    "    end\n",
    "    proS = sum(pro_sink)\n",
    "\n",
    "    @objective(model, Min, sum(transD) + unmeet*penalty)\n",
    "    JuMP.optimize!(model)\n",
    "    \n",
    "    op_pi = [getdual(con) for con in cstr_op]\n",
    "    cth_pi = [getdual(con) for con in cstr_cth]\n",
    "    cell_pi = [getdual(con) for con in cstr_cell]\n",
    "    noncell_pi = [getdual(con) for con in cstr_noncell]\n",
    "    battery_pi = [getdual(con) for con in cstr_battery]\n",
    "    fmk_alp = [getdual(con) for con in cstr_fmk]\n",
    "    \n",
    "    sol_unmeet = JuMP.value.(unmeet)\n",
    "    sol_y = JuMP.value.(y)\n",
    "    \n",
    "    res = Dict([\"y\"=>sol_y, \n",
    "            \"unmeet\"=>sol_unmeet, \n",
    "            \"dual_op\"=>op_pi, \n",
    "            \"dual_cth\"=>cth_pi,\n",
    "            \"dual_cell\"=>cell_pi,\n",
    "            \"dual_ncell\"=>noncell_pi,\n",
    "            \"dual_bty\"=>battery_pi,\n",
    "            \"dual_alp\"=>fmk_alp])\n",
    "\n",
    "    return res\n",
    "    \n",
    "end\n"
   ]
  },
  {
   "cell_type": "code",
   "execution_count": 127,
   "id": "3bf123ba",
   "metadata": {},
   "outputs": [],
   "source": [
    "x = xhat1;"
   ]
  },
  {
   "cell_type": "code",
   "execution_count": 129,
   "id": "f493e6da",
   "metadata": {},
   "outputs": [
    {
     "name": "stdout",
     "output_type": "stream",
     "text": [
      "Academic license - for non-commercial use only - expires 2024-12-26\r\n"
     ]
    }
   ],
   "source": [
    "lsop = []\n",
    "lscth = []\n",
    "lscell = []\n",
    "lsncell = []\n",
    "lsbty = []\n",
    "lsalp = []\n",
    "lsunmeet = []\n",
    "\n",
    "for s in 1: num_omega\n",
    "    res = sub_test(s,x)\n",
    "    push!(lsop, res[\"dual_op\"])\n",
    "    push!(lscth, res[\"dual_cth\"])\n",
    "    push!(lscell, res[\"dual_cell\"])\n",
    "    push!(lsncell, res[\"dual_ncell\"])\n",
    "    push!(lsbty, res[\"dual_bty\"])\n",
    "    push!(lsalp, res[\"dual_alp\"])\n",
    "    push!(lsunmeet, res[\"unmeet\"])\n",
    "end\n",
    "    \n",
    "    "
   ]
  },
  {
   "cell_type": "code",
   "execution_count": 130,
   "id": "583f34bf",
   "metadata": {},
   "outputs": [
    {
     "data": {
      "text/plain": [
       "450-element Vector{Float64}:\n",
       " -0.1232609773371105\n",
       " -0.11310074499151597\n",
       " -0.22513408098039828\n",
       " -0.22115169626200515\n",
       " -0.795324507948924\n",
       " -0.05181723322721791\n",
       " -0.16903349340150622\n",
       " -0.15902050501358278\n",
       " -0.17483990659575604\n",
       " -0.08475767109770407\n",
       " -0.05899656267479836\n",
       " -0.05182618582164681\n",
       " -0.08872394150524462\n",
       "  ⋮\n",
       " -0.6761852475267337\n",
       " -0.7117408715031106\n",
       " -0.6211996211116608\n",
       " -0.48172756152358714\n",
       " -0.4471660134736525\n",
       " -0.4174731006658068\n",
       " -0.3980953570012555\n",
       " -0.42433941588759916\n",
       " -0.397553144616022\n",
       " -0.4602591300678214\n",
       " -0.38084397070024034\n",
       " -0.5368466713881019"
      ]
     },
     "execution_count": 130,
     "metadata": {},
     "output_type": "execute_result"
    }
   ],
   "source": [
    "op1 = sum(lsop)/16"
   ]
  },
  {
   "cell_type": "code",
   "execution_count": 131,
   "id": "b50bcb46",
   "metadata": {},
   "outputs": [],
   "source": [
    "x = xhat2;"
   ]
  },
  {
   "cell_type": "code",
   "execution_count": 132,
   "id": "20d472d2",
   "metadata": {},
   "outputs": [
    {
     "name": "stdout",
     "output_type": "stream",
     "text": [
      "Academic license - for non-commercial use only - expires 2024-12-26\r\n"
     ]
    }
   ],
   "source": [
    "lsop = []\n",
    "lscth = []\n",
    "lscell = []\n",
    "lsncell = []\n",
    "lsbty = []\n",
    "lsalp = []\n",
    "lsunmeet = []\n",
    "\n",
    "for s in 1: num_omega\n",
    "    res = sub_test(s,x)\n",
    "    push!(lsop, res[\"dual_op\"])\n",
    "    push!(lscth, res[\"dual_cth\"])\n",
    "    push!(lscell, res[\"dual_cell\"])\n",
    "    push!(lsncell, res[\"dual_ncell\"])\n",
    "    push!(lsbty, res[\"dual_bty\"])\n",
    "    push!(lsalp, res[\"dual_alp\"])\n",
    "    push!(lsunmeet, res[\"unmeet\"])\n",
    "end"
   ]
  },
  {
   "cell_type": "code",
   "execution_count": 133,
   "id": "059725a3",
   "metadata": {},
   "outputs": [
    {
     "data": {
      "text/plain": [
       "450-element Vector{Float64}:\n",
       " -0.12396945422273549\n",
       " -0.11310074499151597\n",
       " -0.244092941061117\n",
       " -0.2572133904571614\n",
       " -0.795324507948924\n",
       " -0.08193570255821789\n",
       " -0.18765866653566243\n",
       " -0.196854207294364\n",
       " -0.24096504600131852\n",
       " -0.15605328706977906\n",
       " -0.13535574303198583\n",
       " -0.08675536154655304\n",
       " -0.0932639861043071\n",
       "  ⋮\n",
       " -0.6761852475267337\n",
       " -0.7117408715031106\n",
       " -0.6211996211116608\n",
       " -0.48172756152358714\n",
       " -0.4471660134736525\n",
       " -0.4174731006658068\n",
       " -0.3980953570012555\n",
       " -0.42433941588759916\n",
       " -0.397553144616022\n",
       " -0.4602591300678214\n",
       " -0.38084397070024034\n",
       " -0.5368466713881019"
      ]
     },
     "execution_count": 133,
     "metadata": {},
     "output_type": "execute_result"
    }
   ],
   "source": [
    "op2 = sum(lsop)/16"
   ]
  },
  {
   "cell_type": "code",
   "execution_count": 134,
   "id": "9c9ed1c0",
   "metadata": {},
   "outputs": [
    {
     "data": {
      "text/plain": [
       "450-element Vector{Float64}:\n",
       " 0.0007084768856249896\n",
       " 0.0\n",
       " 0.01895886008071873\n",
       " 0.03606169419515626\n",
       " 0.0\n",
       " 0.03011846933099998\n",
       " 0.01862517313415621\n",
       " 0.03783370228078123\n",
       " 0.06612513940556247\n",
       " 0.07129561597207498\n",
       " 0.07635918035718747\n",
       " 0.03492917572490623\n",
       " 0.004540044599062473\n",
       " ⋮\n",
       " 0.0\n",
       " 0.0\n",
       " 0.0\n",
       " 0.0\n",
       " 0.0\n",
       " 0.0\n",
       " 0.0\n",
       " 0.0\n",
       " 0.0\n",
       " 0.0\n",
       " 0.0\n",
       " 0.0"
      ]
     },
     "execution_count": 134,
     "metadata": {},
     "output_type": "execute_result"
    }
   ],
   "source": [
    "op1 - op2"
   ]
  },
  {
   "cell_type": "code",
   "execution_count": 121,
   "id": "aa98a70b",
   "metadata": {},
   "outputs": [
    {
     "data": {
      "text/plain": [
       "1"
      ]
     },
     "execution_count": 121,
     "metadata": {},
     "output_type": "execute_result"
    }
   ],
   "source": [
    "s = 1"
   ]
  },
  {
   "cell_type": "code",
   "execution_count": 123,
   "id": "77433444",
   "metadata": {},
   "outputs": [
    {
     "name": "stdout",
     "output_type": "stream",
     "text": [
      "Academic license - for non-commercial use only - expires 2024-12-26\r\n",
      "Gurobi Optimizer version 9.1.2 build v9.1.2rc0 (win64)\r\n",
      "Thread count: 6 physical cores, 12 logical processors, using up to 12 threads\r\n",
      "Optimize a model with 871 rows, 13501 columns and 26131 nonzeros\r\n",
      "Model fingerprint: 0xe3b3a2fd\r\n",
      "Coefficient statistics:\r\n",
      "  Matrix range     [1e+00, 1e+00]\r\n",
      "  Objective range  [8e-05, 2e+02]\r\n",
      "  Bounds range     [0e+00, 0e+00]\r\n",
      "  RHS range        [2e+02, 5e+05]\r\n",
      "Presolve removed 871 rows and 13501 columns\r\n",
      "Presolve time: 0.00s\r\n",
      "Presolve: All rows and columns removed\r\n",
      "Iteration    Objective       Primal Inf.    Dual Inf.      Time\r\n",
      "       0    6.2108645e+04   0.000000e+00   0.000000e+00      0s\r\n",
      "\r\n",
      "Solved in 0 iterations and 0.00 seconds\r\n",
      "Optimal objective  6.210864452e+04\r\n",
      "\r\n",
      "User-callback calls 30, time in user-callback 0.00 sec\r\n"
     ]
    }
   ],
   "source": [
    "model = Model(Gurobi.Optimizer)\n",
    "@variable(model, y[1:ncty, 1:ncty, 1:nproc] >= 0)\n",
    "@variable(model, unmeet >= 0)\n",
    "\n",
    "cstr_op = [@constraint(model, sum(y[i,j,k] for j in 1:ncty) == Omega[i,s,k] * x_hat[i,k]) for k in 1:nproc for i in 1:ncty]\n",
    "cstr_cth = [@constraint(model, sum(y[i,j,k] for i in 1:ncty) >= Omega[j,s,k] * x_hat[j,5] * scaler[k]) for k in cathode for j in 1:ncty]\n",
    "cstr_cell = [@constraint(model, sum(y[i,j,k] for i in 1:ncty) >= Omega[j,s,k] * x_hat[j,11] * scaler[k]) for k in cell for j in 1:ncty]\n",
    "cstr_noncell = [@constraint(model, sum(y[i,j,k] for i in 1:ncty) >= Omega[j,s,k] * x_hat[j,14] * scaler[k]) for k in noncell for j in 1:ncty]\n",
    "cstr_battery = [@constraint(model, sum(y[i,j,k] for i in 1:ncty) >= Omega[j,s,k] * x_hat[j,15] * scaler[k]) for k in battery for j in 1:ncty] \n",
    "\n",
    "cstr_fmk = [@constraint(model, sum(y[i,mkt_loc,mkt_proc] for i in 1:ncty) + unmeet >= scen_dmd[s])]\n",
    "\n",
    "\n",
    "transD = Vector{AffExpr}(undef, ncty)\n",
    "for j in 1:ncty\n",
    "    arc_emi = 0\n",
    "    for i in 1:ncty\n",
    "        amount = sum(y[i,j,k] for k in 1:nproc)\n",
    "        arc_emi += amount * distance[!, 2:end][i,j] * EF_trans\n",
    "    end\n",
    "    transD[j] = arc_emi  # ncty*1 matrix\n",
    "end\n",
    "\n",
    "\n",
    "pro_sink = zeros(AffExpr, ncty, nproc)\n",
    "for k in 1:nproc\n",
    "    for i in 1:ncty\n",
    "        pro_sink[i,k] = (sum(y[i,j,k] for j in 1:ncty)) * regional_EF[i, k+1] * (sink_c[i]/emission_c[i] + es_ratio)\n",
    "    end\n",
    "end\n",
    "proS = sum(pro_sink)\n",
    "\n",
    "@objective(model, Min, sum(transD) + unmeet*penalty - proS)\n",
    "JuMP.optimize!(model)"
   ]
  },
  {
   "cell_type": "code",
   "execution_count": 124,
   "id": "3c9661ba",
   "metadata": {},
   "outputs": [
    {
     "data": {
      "text/plain": [
       "375764.1741144483"
      ]
     },
     "execution_count": 124,
     "metadata": {},
     "output_type": "execute_result"
    }
   ],
   "source": [
    "qy_hat = JuMP.objective_value(model)\n",
    "sub_y = JuMP.value.(y)\n",
    "sub_unmeet = JuMP.value.(unmeet)"
   ]
  },
  {
   "cell_type": "code",
   "execution_count": 125,
   "id": "e5345af1",
   "metadata": {},
   "outputs": [
    {
     "data": {
      "text/plain": [
       "1-element Vector{Float64}:\n",
       " 5.0"
      ]
     },
     "execution_count": 125,
     "metadata": {},
     "output_type": "execute_result"
    }
   ],
   "source": [
    "[getdual(con) for con in cstr_fmk]"
   ]
  },
  {
   "cell_type": "code",
   "execution_count": null,
   "id": "2ed5fc9b",
   "metadata": {},
   "outputs": [],
   "source": []
  },
  {
   "cell_type": "code",
   "execution_count": null,
   "id": "e683b905",
   "metadata": {},
   "outputs": [],
   "source": [
    "\n",
    "    \n",
    "    ################## get dual and calculate cuts ################\n",
    "    dual_pi = zeros(ncty,nproc)\n",
    "\n",
    "    op_pi = [getdual(con) for con in cstr_op]\n",
    "    cth_pi = [getdual(con) for con in cstr_cth]\n",
    "    cell_pi = [getdual(con) for con in cstr_cell]\n",
    "    noncell_pi = [getdual(con) for con in cstr_noncell]\n",
    "    battery_pi = [getdual(con) for con in cstr_battery]\n",
    "    fmk_alp = [getdual(con) for con in cstr_fmk]\n",
    "\n",
    "\n",
    "    dual_pi[:, cathode] = reshape(cth_pi, ncty, length(cathode)) .* Omega[:,s,cathode] .* repeat(scaler[cathode]', ncty, 1)\n",
    "    dual_pi[:, cell] = reshape(cell_pi, ncty, length(cell)) .* Omega[:,s,cell] .* repeat(scaler[cell]', ncty, 1)\n",
    "    dual_pi[:, noncell] = reshape(noncell_pi, ncty, length(noncell)) .* Omega[:,s,noncell] .* repeat(scaler[noncell]', ncty, 1)\n",
    "    dual_pi[:, battery] = reshape(battery_pi, ncty, length(battery)) .* Omega[:,s,battery] .* repeat(scaler[battery]', ncty, 1)\n",
    "    dual_pi += reshape(op_pi, ncty, nproc) .* Omega[:,s,:]\n",
    "    \n",
    "    dual_alpha = sum(fmk_alp) * scen_dmd[s]"
   ]
  },
  {
   "cell_type": "code",
   "execution_count": null,
   "id": "b6db952d",
   "metadata": {},
   "outputs": [],
   "source": []
  },
  {
   "cell_type": "code",
   "execution_count": null,
   "id": "86d5c73c",
   "metadata": {},
   "outputs": [],
   "source": [
    "\n",
    "    "
   ]
  },
  {
   "cell_type": "code",
   "execution_count": null,
   "id": "c6ad57bf",
   "metadata": {},
   "outputs": [],
   "source": []
  },
  {
   "cell_type": "code",
   "execution_count": null,
   "id": "59bae1b8",
   "metadata": {},
   "outputs": [],
   "source": []
  },
  {
   "cell_type": "code",
   "execution_count": null,
   "id": "006e959d",
   "metadata": {},
   "outputs": [],
   "source": []
  },
  {
   "cell_type": "code",
   "execution_count": null,
   "id": "646111d2",
   "metadata": {},
   "outputs": [],
   "source": []
  },
  {
   "cell_type": "code",
   "execution_count": null,
   "id": "113f27c0",
   "metadata": {},
   "outputs": [],
   "source": []
  },
  {
   "cell_type": "markdown",
   "id": "27811351",
   "metadata": {},
   "source": [
    "---"
   ]
  },
  {
   "cell_type": "code",
   "execution_count": 632,
   "id": "661bcef8",
   "metadata": {},
   "outputs": [],
   "source": [
    "scen_eff = CSV.File(string(path,\"Scenarios/Scen_Efficiency2.csv\"), header=1, delim=\",\") |> DataFrame\n",
    "scen_eff = Matrix(scen_eff)[:, 2:end]\n",
    "num_omega = size(scen_eff)[2]\n",
    "\n",
    "scen_dmd = CSV.File(string(path,\"Scenarios/Scen_Demand.csv\"), header=1, delim=\",\") |> DataFrame\n",
    "scen_dmd = Matrix(scen_dmd)[2:end]\n",
    "# scen_dmd = Matrix(scen_dmd)[2:end][list]\n",
    "# scen_dmd = ones(num_omega) .* 452000\n",
    "\n",
    "Omega = ones(Float64, ncty, num_omega, nproc);  # Omega[ncty,nscena,nproc]\n",
    "Omega[:, :, 1] = scen_eff;"
   ]
  },
  {
   "cell_type": "code",
   "execution_count": 633,
   "id": "6e0e096a",
   "metadata": {},
   "outputs": [
    {
     "data": {
      "text/plain": [
       "gen_fea (generic function with 1 method)"
      ]
     },
     "execution_count": 633,
     "metadata": {},
     "output_type": "execute_result"
    }
   ],
   "source": [
    "function gen_fea(x_hat)\n",
    "    ls = []\n",
    "    for s in 1: num_omega\n",
    "        model = Model(Gurobi.Optimizer)\n",
    "        set_silent(model)\n",
    "        @variable(model, y[1:ncty, 1:ncty, 1:nproc] >= 0)\n",
    "        @variable(model, unmeet >= 0)\n",
    "\n",
    "        cstr_op = [@constraint(model, sum(y[i,j,k] for j in 1:ncty) == Omega[i,s,k] * x_hat[i,k]) for k in 1:nproc for i in 1:ncty]\n",
    "        cstr_cth = [@constraint(model, sum(y[i,j,k] for i in 1:ncty) >= Omega[j,s,k] * x_hat[j,5]*scaler[k]) for k in cathode for j in 1:ncty]\n",
    "        cstr_cell = [@constraint(model, sum(y[i,j,k] for i in 1:ncty) >= Omega[j,s,k] * x_hat[j,11]*scaler[k]) for k in cell for j in 1:ncty]\n",
    "        cstr_noncell = [@constraint(model, sum(y[i,j,k] for i in 1:ncty) >= Omega[j,s,k] * x_hat[j,14]*scaler[k]) for k in noncell for j in 1:ncty]\n",
    "        cstr_battery = [@constraint(model, sum(y[i,j,k] for i in 1:ncty) >= Omega[j,s,k] * x_hat[j,15]*scaler[k]) for k in battery for j in 1:ncty] \n",
    "\n",
    "        cstr_fmk = [@constraint(model, sum(y[i,mkt_loc,mkt_proc] for i in 1:ncty) + unmeet == scen_dmd[s])]\n",
    "        \n",
    "        transD = Vector{AffExpr}(undef, ncty)\n",
    "        for j in 1:ncty\n",
    "            arc_emi = 0\n",
    "            for i in 1:ncty\n",
    "                amount = sum(y[i,j,k] for k in 1:nproc)\n",
    "                arc_emi += amount * distance[!, 2:end][i,j] * EF_trans\n",
    "            end\n",
    "            transD[j] = arc_emi  # ncty*1 matrix\n",
    "        end\n",
    "\n",
    "\n",
    "        pro_sink = zeros(AffExpr, ncty, nproc)\n",
    "        for k in 1:nproc\n",
    "            for i in 1:ncty\n",
    "                pro_sink[i,k] = (sum(y[i,j,k] for j in 1:ncty)) * regional_EF[i, k+1] * (sink_c[i]/emission_c[i] + es_ratio)\n",
    "            end\n",
    "        end\n",
    "        proS = sum(pro_sink)\n",
    "        \n",
    "        \n",
    "        sink_ratio = zeros(ncty, nproc)\n",
    "        for k in 1:nproc\n",
    "            for i in 1:ncty\n",
    "                sink_ratio[i,k] = regional_EF[i, k+1] * (sink_c[i]/emission_c[i] + es_ratio)\n",
    "            end\n",
    "        end\n",
    "        overprod_penalty = sum((x_hat - sum(y, dims=2)[:,1,:]) .* sink_ratio)\n",
    "        \n",
    "\n",
    "        @objective(model, Min, sum(transD) + unmeet * penalty + overprod_penalty)\n",
    "        JuMP.optimize!(model)\n",
    "\n",
    "        if termination_status(model) == MOI.OPTIMAL\n",
    "            push!(ls, s)\n",
    "        end\n",
    "    end\n",
    "    \n",
    "    return ls\n",
    "    \n",
    "end"
   ]
  },
  {
   "cell_type": "code",
   "execution_count": 635,
   "id": "13655db8",
   "metadata": {},
   "outputs": [
    {
     "name": "stdout",
     "output_type": "stream",
     "text": [
      "Academic license - for non-commercial use only - expires 2024-12-26\r\n",
      "Academic license - for non-commercial use only - expires 2024-12-26\r\n",
      "Academic license - for non-commercial use only - expires 2024-12-26\r\n",
      "Academic license - for non-commercial use only - expires 2024-12-26\r\n",
      "Academic license - for non-commercial use only - expires 2024-12-26\r\n",
      "Academic license - for non-commercial use only - expires 2024-12-26\r\n",
      "Academic license - for non-commercial use only - expires 2024-12-26\r\n",
      "Academic license - for non-commercial use only - expires 2024-12-26\r\n",
      "Academic license - for non-commercial use only - expires 2024-12-26\r\n",
      "Academic license - for non-commercial use only - expires 2024-12-26\r\n",
      "Academic license - for non-commercial use only - expires 2024-12-26\r\n",
      "Academic license - for non-commercial use only - expires 2024-12-26\r\n",
      "Academic license - for non-commercial use only - expires 2024-12-26\r\n",
      "Academic license - for non-commercial use only - expires 2024-12-26\r\n",
      "Academic license - for non-commercial use only - expires 2024-12-26\r\n",
      "Academic license - for non-commercial use only - expires 2024-12-26\r\n",
      "Academic license - for non-commercial use only - expires 2024-12-26\r\n",
      "Academic license - for non-commercial use only - expires 2024-12-26\r\n",
      "Academic license - for non-commercial use only - expires 2024-12-26\r\n",
      "Academic license - for non-commercial use only - expires 2024-12-26\r\n",
      "Academic license - for non-commercial use only - expires 2024-12-26\r\n",
      "Academic license - for non-commercial use only - expires 2024-12-26\r\n",
      "Academic license - for non-commercial use only - expires 2024-12-26\r\n",
      "Academic license - for non-commercial use only - expires 2024-12-26\r\n",
      "Academic license - for non-commercial use only - expires 2024-12-26\r\n",
      "Academic license - for non-commercial use only - expires 2024-12-26\r\n",
      "Academic license - for non-commercial use only - expires 2024-12-26\r\n",
      "Academic license - for non-commercial use only - expires 2024-12-26\r\n",
      "Academic license - for non-commercial use only - expires 2024-12-26\r\n",
      "Academic license - for non-commercial use only - expires 2024-12-26\r\n",
      "Academic license - for non-commercial use only - expires 2024-12-26\r\n",
      "Academic license - for non-commercial use only - expires 2024-12-26\r\n",
      "Academic license - for non-commercial use only - expires 2024-12-26\r\n",
      "Academic license - for non-commercial use only - expires 2024-12-26\r\n",
      "Academic license - for non-commercial use only - expires 2024-12-26\r\n",
      "Academic license - for non-commercial use only - expires 2024-12-26\r\n",
      "Academic license - for non-commercial use only - expires 2024-12-26\r\n",
      "Academic license - for non-commercial use only - expires 2024-12-26\r\n",
      "Academic license - for non-commercial use only - expires 2024-12-26\r\n",
      "Academic license - for non-commercial use only - expires 2024-12-26\r\n",
      "Academic license - for non-commercial use only - expires 2024-12-26\r\n",
      "Academic license - for non-commercial use only - expires 2024-12-26\r\n",
      "Academic license - for non-commercial use only - expires 2024-12-26\r\n",
      "Academic license - for non-commercial use only - expires 2024-12-26\r\n",
      "Academic license - for non-commercial use only - expires 2024-12-26\r\n",
      "Academic license - for non-commercial use only - expires 2024-12-26\r\n",
      "Academic license - for non-commercial use only - expires 2024-12-26\r\n",
      "Academic license - for non-commercial use only - expires 2024-12-26\r\n",
      "Academic license - for non-commercial use only - expires 2024-12-26\r\n",
      "Academic license - for non-commercial use only - expires 2024-12-26\r\n"
     ]
    },
    {
     "data": {
      "text/plain": [
       "9-element Vector{Any}:\n",
       "  1\n",
       "  4\n",
       "  5\n",
       " 11\n",
       " 21\n",
       " 31\n",
       " 37\n",
       " 41\n",
       " 49"
      ]
     },
     "execution_count": 635,
     "metadata": {},
     "output_type": "execute_result"
    }
   ],
   "source": [
    "ls = gen_fea(x_hat)"
   ]
  },
  {
   "cell_type": "code",
   "execution_count": null,
   "id": "4ab890b0",
   "metadata": {},
   "outputs": [],
   "source": []
  }
 ],
 "metadata": {
  "@webio": {
   "lastCommId": null,
   "lastKernelId": null
  },
  "kernelspec": {
   "display_name": "Julia 1.8.3",
   "language": "julia",
   "name": "julia-1.8"
  },
  "language_info": {
   "file_extension": ".jl",
   "mimetype": "application/julia",
   "name": "julia",
   "version": "1.8.3"
  }
 },
 "nbformat": 4,
 "nbformat_minor": 5
}
