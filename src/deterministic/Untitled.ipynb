{
 "cells": [
  {
   "cell_type": "code",
   "execution_count": 1,
   "id": "1a35f9e6",
   "metadata": {},
   "outputs": [],
   "source": [
    "using JuMP, Gurobi\n",
    "using CSV, LinearAlgebra, DataFrames\n",
    "using Plots\n",
    "using DelimitedFiles"
   ]
  },
  {
   "cell_type": "code",
   "execution_count": 2,
   "id": "271fe046",
   "metadata": {},
   "outputs": [],
   "source": [
    "path = \"./data/\";"
   ]
  },
  {
   "cell_type": "code",
   "execution_count": 3,
   "id": "f0471d19",
   "metadata": {},
   "outputs": [],
   "source": [
    "#load social and ecological data and orgnize \n",
    "FL = repeat([Float64], inner=15)\n",
    "dtype = append!([String], FL);\n",
    "\n",
    "regional_EF = CSV.File(string(path,\"EF_SC31.csv\"),header=1,delim=\",\", types=dtype) |> DataFrame    \n",
    "capacity = CSV.File(string(path,\"capacity31.csv\"),header=1,delim=\",\", types=dtype) |> DataFrame    \n",
    "distance = CSV.File(string(path,\"distance31.csv\"),header=1,delim=\",\") |> DataFrame \n",
    "LCA_model = CSV.File(string(path,\"LCA_model.csv\"), header=1, delim=\",\") |> DataFrame \n",
    "SDD = CSV.File(string(path,\"SDD31.csv\"),header=1,delim=\",\") |> DataFrame;"
   ]
  },
  {
   "cell_type": "code",
   "execution_count": 4,
   "id": "4e7fd3f0",
   "metadata": {},
   "outputs": [],
   "source": [
    "global_sink = 1.099e10                        # global pub (ocean) CO2 sequestration (ton/yr)\n",
    "global_sink_tot = 2.236e10                  # global total (ocean+land) CO2 sequestration (ton/yr)\n",
    "global_emi = 3.53e10                          # global CO2 emission (ton/yr)                          # 2021 global GD ($/yr)\n",
    "es_ratio = global_sink/global_emi\n",
    "\n",
    "emission_c = SDD[!, \"emission\"]          # national CO2 emission (ton/yr)\n",
    "sink_c = SDD[!, \"sink ton/yr\"]           # national CO2 sink (ton/yr)\n",
    "Dsoc = SDD[!, \"Dsoc ton/yr\"]           # national CO2 sink (ton/yr)\n",
    "\n",
    "EF_trans = 1.005/10000                        # ton CO2/km*ton (The average freight truck in the U.S. emits 161.8 grams of CO2 per ton-mile)\n",
    "process = LCA_model[!,\"process\"]\n",
    "countries = capacity[!,\"country\"]\n",
    "ncty = size(countries,1)                          # No. of countries\n",
    "nproc = size(process,1);                          # No. of processes \n",
    "\n",
    "mkt_loc = findfirst(isequal(\"United States\"), countries)\n",
    "mkt_proc = findfirst(isequal(\"battery\"), process)\n",
    "\n",
    "# seperate model\n",
    "cathode = collect(1:4)\n",
    "cell = collect(5:10)\n",
    "noncell = [12,13]\n",
    "battery = [11,14]\n",
    "scaler = LCA_model[!,\"scaler\"];"
   ]
  },
  {
   "cell_type": "code",
   "execution_count": 5,
   "id": "2c752235",
   "metadata": {},
   "outputs": [],
   "source": [
    "cell_demand = 500000;"
   ]
  },
  {
   "cell_type": "markdown",
   "id": "78572189",
   "metadata": {},
   "source": [
    "---"
   ]
  },
  {
   "cell_type": "code",
   "execution_count": 12,
   "id": "3131baed",
   "metadata": {},
   "outputs": [
    {
     "data": {
      "text/plain": [
       "EO_SS_Model (generic function with 1 method)"
      ]
     },
     "execution_count": 12,
     "metadata": {},
     "output_type": "execute_result"
    }
   ],
   "source": [
    "function EO_SS_Model(objfunc)\n",
    "    model = Model(Gurobi.Optimizer)\n",
    "    @variable(model, x[1:ncty, 1:nproc] >= 0)\n",
    "    @variable(model, y[1:ncty, 1:ncty, 1:nproc] >= 0)\n",
    "    \n",
    "    x_cth = [@constraint(model, sum(x[i,k] for i in 1:ncty) == sum(x[i,5] for i in 1:ncty) * scaler[k]) for k in cathode]\n",
    "    x_cell = [@constraint(model, sum(x[i,k] for i in 1:ncty) == sum(x[i,11] for i in 1:ncty) * scaler[k]) for k in cell]\n",
    "    x_noncell = [@constraint(model, sum(x[i,k] for i in 1:ncty) == sum(x[i,14] for i in 1:ncty) * scaler[k]) for k in noncell]\n",
    "    x_battery = [@constraint(model, sum(x[i,k] for i in 1:ncty) == sum(x[i,15] for i in 1:ncty) * scaler[k]) for k in battery];\n",
    "\n",
    "    cstr_cap = [@constraint(model, x[i,k] <= capacity[!, 2:end][i,k]) for k in 1:nproc for i in 1:ncty]\n",
    "    cstr_op = [@constraint(model, sum(y[i,j,k] for j in 1:ncty) == x[i,k]) for k in 1:nproc for i in 1:ncty]\n",
    "    cstr_cth = [@constraint(model, sum(y[i,j,k] for i in 1:ncty) == x[j,5]*scaler[k]) for k in cathode for j in 1:ncty]\n",
    "    cstr_cell = [@constraint(model, sum(y[i,j,k] for i in 1:ncty) == x[j,11]*scaler[k]) for k in cell for j in 1:ncty]\n",
    "    cstr_noncell = [@constraint(model, sum(y[i,j,k] for i in 1:ncty) == x[j,14]*scaler[k]) for k in noncell for j in 1:ncty]\n",
    "    cstr_battery = [@constraint(model, sum(y[i,j,k] for i in 1:ncty) == x[j,15]*scaler[k]) for k in battery for j in 1:ncty]\n",
    "    \n",
    "    @constraint(model, sum(y[i,mkt_loc,mkt_proc] for i in 1:ncty) == cell_demand)\n",
    "    tmp = filter!(e->e!=mkt_loc,collect(1:ncty))\n",
    "    for j in tmp\n",
    "        @constraint(model, sum(y[i,j,mkt_proc] for i in 1:ncty) == 0);\n",
    "    end\n",
    "    \n",
    "    \n",
    "    # obj func calculation\n",
    "    proD = (x .* Matrix(regional_EF[:,2:end])) * ones(nproc,1)  # ncty*1 matrix\n",
    "    pro_sink = zeros(ncty, nproc)\n",
    "    for k in 1:nproc\n",
    "        for i in 1:ncty\n",
    "            pro_sink[i,k] = regional_EF[i, k+1] * (sink_c[i]/emission_c[i] + es_ratio)\n",
    "        end\n",
    "    end\n",
    "    proS = (x.*pro_sink)*ones(nproc,1)  # ncty*1 matrix\n",
    "\n",
    "    transS = Vector{AffExpr}(undef, ncty)\n",
    "    transD = Vector{AffExpr}(undef, ncty)\n",
    "    for j in 1:ncty\n",
    "        arc_emi = 0\n",
    "        arc_seq = 0\n",
    "        for i in 1:ncty\n",
    "            amount = sum(y[i,j,k] for k in 1:nproc)\n",
    "            arc_emi += amount * distance[!, 2:end][i,j] * EF_trans\n",
    "            arc_seq += arc_emi * (sink_c[j]/emission_c[j] + es_ratio)\n",
    "        end\n",
    "        transD[j] = arc_emi  # ncty*1 matrix\n",
    "        transS[j] = arc_seq  # ncty*1 matrix\n",
    "    end\n",
    "\n",
    "    Allo_soc = proD ./ emission_c .* Dsoc\n",
    "    \n",
    "    \n",
    "    SS = sum(Allo_soc - (proD + transD))\n",
    "    EO = sum(proD - proS + transD)\n",
    "    \n",
    "    \n",
    "    if objfunc == \"Ecological\"\n",
    "        @objective(model, Min, EO);\n",
    "    else\n",
    "        @objective(model, Min, SS);\n",
    "    end\n",
    "      \n",
    "    JuMP.optimize!(model)\n",
    "\n",
    "    opt_x = JuMP.value.(x)\n",
    "    opt_y = JuMP.value.(y)\n",
    "    opt_obj = JuMP.objective_value(model);\n",
    "    result = Dict([\"x\"=>opt_x, \"obj\"=>opt_obj, \"y\"=>opt_y])\n",
    "    return result\n",
    "end"
   ]
  },
  {
   "cell_type": "code",
   "execution_count": 13,
   "id": "37d94191",
   "metadata": {},
   "outputs": [
    {
     "data": {
      "text/plain": [
       "ovpct (generic function with 1 method)"
      ]
     },
     "execution_count": 13,
     "metadata": {},
     "output_type": "execute_result"
    }
   ],
   "source": [
    "function ovpct()\n",
    "    model = Model(Gurobi.Optimizer)\n",
    "    set_optimizer_attributes(model, \"NonConvex\" => 2, \"IntegralityFocus\" => 1)\n",
    "    \n",
    "    @variable(model, x[1:ncty, 1:nproc] >= 0)\n",
    "    @variable(model, y[1:ncty, 1:ncty, 1:nproc] >= 0)\n",
    "    @variable(model, 0<=obj<=1)\n",
    "\n",
    "    @variable(model, z[1:ncty, 1:nproc], Bin)\n",
    "    @variable(model, r[1:ncty, 1:nproc], Bin)\n",
    "    @variable(model, t[1:ncty, 1:nproc], Bin)\n",
    "    \n",
    "    x_cth = [@constraint(model, sum(x[i,k] for i in 1:ncty) >= sum(x[i,5] for i in 1:ncty) * scaler[k]) for k in cathode]\n",
    "    x_cell = [@constraint(model, sum(x[i,k] for i in 1:ncty) >= sum(x[i,11] for i in 1:ncty) * scaler[k]) for k in cell]\n",
    "    x_noncell = [@constraint(model, sum(x[i,k] for i in 1:ncty) >= sum(x[i,14] for i in 1:ncty) * scaler[k]) for k in noncell]\n",
    "    x_battery = [@constraint(model, sum(x[i,k] for i in 1:ncty) >= sum(x[i,15] for i in 1:ncty) * scaler[k]) for k in battery];\n",
    "\n",
    "    cstr_cap = [@constraint(model, x[i,k] <= capacity[!, 2:end][i,k]) for k in 1:nproc for i in 1:ncty]\n",
    "    cstr_op = [@constraint(model, sum(y[i,j,k] for j in 1:ncty) <= x[i,k]) for k in 1:nproc for i in 1:ncty]\n",
    "    cstr_cth = [@constraint(model, sum(y[i,j,k] for i in 1:ncty) >= x[j,5]*scaler[k]) for k in cathode for j in 1:ncty]\n",
    "    cstr_cell = [@constraint(model, sum(y[i,j,k] for i in 1:ncty) >= x[j,11]*scaler[k]) for k in cell for j in 1:ncty]\n",
    "    cstr_noncell = [@constraint(model, sum(y[i,j,k] for i in 1:ncty) >= x[j,14]*scaler[k]) for k in noncell for j in 1:ncty]\n",
    "    cstr_battery = [@constraint(model, sum(y[i,j,k] for i in 1:ncty) >= x[j,15]*scaler[k]) for k in battery for j in 1:ncty]\n",
    "\n",
    "    @constraint(model, sum(y[i,mkt_loc,mkt_proc] for i in 1:ncty) >= cell_demand)\n",
    "    tmp = filter!(e->e!=mkt_loc,collect(1:ncty))\n",
    "    for j in tmp\n",
    "        @constraint(model, sum(y[i,j,mkt_proc] for i in 1:ncty) == 0);\n",
    "    end\n",
    "    \n",
    "    proD = x .* Matrix(regional_EF[:,2:end])\n",
    "    pro_sink = zeros(ncty, nproc)\n",
    "    for k in 1:nproc\n",
    "        for i in 1:ncty\n",
    "            pro_sink[i,k] = regional_EF[i, k+1] * (sink_c[i]/emission_c[i] + es_ratio)\n",
    "        end\n",
    "    end\n",
    "    proS = x .* pro_sink\n",
    "\n",
    "    transD = Matrix{AffExpr}(undef, ncty, nproc)\n",
    "    for k in 1:nproc\n",
    "        for i in 1:ncty\n",
    "            emi = 0\n",
    "            for j in 1:ncty\n",
    "                emi += y[i,j,k] * distance[!, 2:end][i,j] * EF_trans  #PRODUCER\n",
    "            end\n",
    "            transD[i,k] = emi\n",
    "        end\n",
    "    end\n",
    "    \n",
    "    slack = 1e-5\n",
    "    M = 1e7\n",
    "    Allo_Dsoc = (proD*ones(nproc,1)) .* (Dsoc./emission_c)\n",
    "    SS = transD*ones(nproc,1) + proD*ones(nproc,1) - Allo_Dsoc\n",
    "    cstr_soc = [@constraint(model, SS[i] >= slack) for i in 1:ncty]\n",
    "    \n",
    "    EO = proD - proS + transD\n",
    "    \n",
    "    for i in 1:ncty\n",
    "        for k in 1:nproc\n",
    "            @constraint(model, EO[i,k] >= -M*r[i,k] + slack*t[i,k])\n",
    "            @constraint(model, EO[i,k] <= -slack*r[i,k] + M*t[i,k])\n",
    "            @constraint(model, z[i,k] + r[i,k] + t[i,k] == 1)\n",
    "        end\n",
    "    end\n",
    "    \n",
    "    @constraint(model, obj*(sum(r) + sum(t)) == sum(t))\n",
    "    @objective(model, Min, obj)\n",
    "    JuMP.optimize!(model)\n",
    "    \n",
    "    xx = JuMP.value.(x)\n",
    "    yy = JuMP.value.(y)\n",
    "    zz = JuMP.value.(z)\n",
    "    rr = JuMP.value.(r)\n",
    "    tt = JuMP.value.(t)\n",
    "    solution = JuMP.objective_value(model)\n",
    "    \n",
    "    return Dict([\"x\"=>xx, \"obj\"=>solution, \"y\"=>yy, \"z\"=>zz, \"t\"=>tt, \"r\"=>rr])\n",
    "    \n",
    "end "
   ]
  },
  {
   "cell_type": "code",
   "execution_count": 14,
   "id": "736239f0",
   "metadata": {},
   "outputs": [
    {
     "name": "stdout",
     "output_type": "stream",
     "text": [
      "Set parameter Username\n",
      "Academic license - for non-commercial use only - expires 2025-04-05\n",
      "Set parameter NonConvex to value 2\n",
      "Set parameter IntegralityFocus to value 1\n",
      "Set parameter NonConvex to value 2\n",
      "Set parameter IntegralityFocus to value 1\n",
      "Gurobi Optimizer version 11.0.0 build v11.0.0rc2 (linux64 - \"Ubuntu 23.10\")\n",
      "\n",
      "CPU model: 11th Gen Intel(R) Core(TM) i7-11700 @ 2.50GHz, instruction set [SSE2|AVX|AVX2|AVX512]\n",
      "Thread count: 8 physical cores, 16 logical processors, using up to 16 threads\n",
      "\n",
      "Optimize a model with 2835 rows, 16276 columns and 77562 nonzeros\n",
      "Model fingerprint: 0x667cb93e\n",
      "Model has 1 quadratic constraint\n",
      "Variable types: 14881 continuous, 1395 integer (1395 binary)\n",
      "Coefficient statistics:\n",
      "  Matrix range     [1e-05, 1e+07]\n",
      "  QMatrix range    [1e+00, 1e+00]\n",
      "  QLMatrix range   [1e+00, 1e+00]\n",
      "  Objective range  [1e+00, 1e+00]\n",
      "  Bounds range     [1e+00, 1e+00]\n",
      "  RHS range        [1e-05, 1e+11]\n",
      "Warning: Model contains large rhs\n",
      "         Consider reformulating model or setting NumericFocus parameter\n",
      "         to avoid numerical issues.\n",
      "Presolve removed 2120 rows and 10626 columns\n",
      "Presolve time: 0.05s\n",
      "Presolved: 1364 rows, 5866 columns, 25341 nonzeros\n",
      "Variable types: 5650 continuous, 216 integer (216 binary)\n",
      "\n",
      "Root relaxation: objective 5.210742e-02, 604 iterations, 0.01 seconds (0.02 work units)\n",
      "\n",
      "    Nodes    |    Current Node    |     Objective Bounds      |     Work\n",
      " Expl Unexpl |  Obj  Depth IntInf | Incumbent    BestBd   Gap | It/Node Time\n",
      "\n",
      "     0     0    0.05211    0   50          -    0.05211      -     -    0s\n",
      "     0     0    0.30531    0   73          -    0.30531      -     -    0s\n",
      "     0     0    0.39285    0   54          -    0.39285      -     -    0s\n",
      "     0     0    0.40499    0   56          -    0.40499      -     -    0s\n",
      "     0     0    0.40517    0   56          -    0.40517      -     -    0s\n",
      "H    0     0                       0.3333333    0.33333  0.00%     -    0s\n",
      "     0     0    0.42078    0   53    0.33333    0.33333  0.00%     -    0s\n",
      "\n",
      "Cutting planes:\n",
      "  Gomory: 1\n",
      "  Implied bound: 40\n",
      "  MIR: 23\n",
      "  Flow cover: 53\n",
      "  RLT: 5\n",
      "  Relax-and-lift: 26\n",
      "\n",
      "Explored 1 nodes (1623 simplex iterations) in 0.19 seconds (0.27 work units)\n",
      "Thread count was 16 (of 16 available processors)\n",
      "\n",
      "Solution count 1: 0.333333 \n",
      "\n",
      "Optimal solution found (tolerance 1.00e-04)\n",
      "Best objective 3.333333333333e-01, best bound 3.333333333333e-01, gap 0.0000%\n",
      "\n",
      "User-callback calls 569, time in user-callback 0.00 sec\n"
     ]
    },
    {
     "data": {
      "text/plain": [
       "Dict{String, Any} with 6 entries:\n",
       "  \"obj\" => 0.333333\n",
       "  \"t\"   => [0.0 0.0 … 0.0 0.0; 1.0 0.0 … 1.0 0.0; … ; 0.0 0.0 … 8.32497e-12 0.0…\n",
       "  \"x\"   => [0.0 0.0 … 0.0 0.0; 15479.6 0.0 … 500000.0 0.0; … ; 0.0 0.0 … 6.0396…\n",
       "  \"r\"   => [0.0 0.0 … 0.0 0.0; 0.0 0.0 … 0.0 0.0; … ; 0.0 0.0 … 0.0 0.0; 0.0 0.…\n",
       "  \"z\"   => [1.0 1.0 … 1.0 1.0; 0.0 1.0 … 0.0 1.0; … ; 1.0 1.0 … 1.0 1.0; 1.0 1.…\n",
       "  \"y\"   => [0.0 0.0 … 0.0 0.0; 0.0 0.0 … 0.0 0.0; … ; 0.0 0.0 … 0.0 0.0; 0.0 0.…"
      ]
     },
     "execution_count": 14,
     "metadata": {},
     "output_type": "execute_result"
    }
   ],
   "source": [
    "res_os = ovpct()"
   ]
  },
  {
   "cell_type": "code",
   "execution_count": 15,
   "id": "bada75c5",
   "metadata": {},
   "outputs": [
    {
     "name": "stdout",
     "output_type": "stream",
     "text": [
      "Set parameter Username\n",
      "Academic license - for non-commercial use only - expires 2025-04-05\n",
      "Gurobi Optimizer version 11.0.0 build v11.0.0rc2 (linux64 - \"Ubuntu 23.10\")\n",
      "\n",
      "CPU model: 11th Gen Intel(R) Core(TM) i7-11700 @ 2.50GHz, instruction set [SSE2|AVX|AVX2|AVX512]\n",
      "Thread count: 8 physical cores, 16 logical processors, using up to 16 threads\n",
      "\n",
      "Optimize a model with 1409 rows, 14880 columns and 31062 nonzeros\n",
      "Model fingerprint: 0x41ee94ee\n",
      "Coefficient statistics:\n",
      "  Matrix range     [4e-03, 1e+00]\n",
      "  Objective range  [4e-03, 9e+01]\n",
      "  Bounds range     [0e+00, 0e+00]\n",
      "  RHS range        [2e+02, 1e+11]\n",
      "Warning: Model contains large rhs\n",
      "         Consider reformulating model or setting NumericFocus parameter\n",
      "         to avoid numerical issues.\n",
      "Presolve removed 1135 rows and 13441 columns\n",
      "Presolve time: 0.00s\n",
      "Presolved: 274 rows, 1439 columns, 3110 nonzeros\n",
      "\n",
      "Concurrent LP optimizer: primal simplex, dual simplex, and barrier\n",
      "Showing barrier log only...\n",
      "\n",
      "Ordering time: 0.00s\n",
      "\n",
      "Barrier statistics:\n",
      " AA' NZ     : 2.259e+03\n",
      " Factor NZ  : 5.974e+03 (roughly 1 MB of memory)\n",
      " Factor Ops : 1.594e+05 (less than 1 second per iteration)\n",
      " Threads    : 1\n",
      "\n",
      "Barrier performed 0 iterations in 0.00 seconds (0.01 work units)\n",
      "Barrier solve interrupted - model solved by another algorithm\n",
      "\n",
      "\n",
      "Solved with dual simplex\n",
      "Iteration    Objective       Primal Inf.    Dual Inf.      Time\n",
      "      60    1.0566378e+06   0.000000e+00   0.000000e+00      0s\n",
      "\n",
      "Solved in 60 iterations and 0.01 seconds (0.01 work units)\n",
      "Optimal objective  1.056637832e+06\n",
      "\n",
      "User-callback calls 95, time in user-callback 0.00 sec\n"
     ]
    },
    {
     "data": {
      "text/plain": [
       "Dict{String, Any} with 3 entries:\n",
       "  \"obj\" => 1.05664e6\n",
       "  \"x\"   => [6200.0 0.0 … 0.0 0.0; 5579.65 0.0 … 0.0 0.0; … ; 0.0 0.0 … 0.0 0.0;…\n",
       "  \"y\"   => [0.0 0.0 … 0.0 6200.0; 0.0 0.0 … 0.0 5579.65; … ; 0.0 0.0 … 0.0 0.0;…"
      ]
     },
     "execution_count": 15,
     "metadata": {},
     "output_type": "execute_result"
    }
   ],
   "source": [
    "res_eo = EO_SS_Model(\"Ecological\")"
   ]
  },
  {
   "cell_type": "markdown",
   "id": "a978d473",
   "metadata": {},
   "source": [
    "---"
   ]
  },
  {
   "cell_type": "code",
   "execution_count": 21,
   "id": "b756165f",
   "metadata": {},
   "outputs": [
    {
     "data": {
      "text/plain": [
       "pct_count (generic function with 1 method)"
      ]
     },
     "execution_count": 21,
     "metadata": {},
     "output_type": "execute_result"
    }
   ],
   "source": [
    "function pct_count(x,y)\n",
    "    proD = x .* Matrix(regional_EF[:,2:end])\n",
    "    pro_sink = zeros(ncty, nproc)\n",
    "    for k in 1:nproc\n",
    "        for i in 1:ncty\n",
    "            pro_sink[i,k] = regional_EF[i, k+1] * (sink_c[i]/emission_c[i] + es_ratio)\n",
    "        end\n",
    "    end\n",
    "    proS = x .* pro_sink\n",
    "\n",
    "    transD = zeros(ncty, nproc)\n",
    "    for k in 1:nproc\n",
    "        for i in 1:ncty\n",
    "            emi = 0\n",
    "            for j in 1:ncty\n",
    "                emi += y[i,j,k] * distance[!, 2:end][i,j] * EF_trans  \n",
    "            end\n",
    "            transD[i,k] = emi\n",
    "        end\n",
    "    end\n",
    "\n",
    "    MEO = proD - proS + transD;\n",
    "    \n",
    "    indices = (MEO .>= 0.1) .|| (MEO .<= -0.1)\n",
    "    ls = MEO[indices]\n",
    "    total = length(ls)\n",
    "    \n",
    "    num_os = 0\n",
    "    num_safe = 0\n",
    "    for e in ls\n",
    "        if e > 0\n",
    "            num_os += 1\n",
    "        elseif e < 0\n",
    "            num_safe += 1\n",
    "        end\n",
    "    end\n",
    "    \n",
    "#     return proD, proS, transD\n",
    "\n",
    "    return MEO,num_os,num_safe,total,num_os/total\n",
    "end"
   ]
  },
  {
   "cell_type": "code",
   "execution_count": 23,
   "id": "df8edbc8",
   "metadata": {},
   "outputs": [
    {
     "data": {
      "text/plain": [
       "net_emi (generic function with 1 method)"
      ]
     },
     "execution_count": 23,
     "metadata": {},
     "output_type": "execute_result"
    }
   ],
   "source": [
    "function net_emi(x,y)\n",
    "    \n",
    "    proD = (x .* Matrix(regional_EF[:,2:end])) * ones(nproc,1) \n",
    "    pro_sink = zeros(ncty, nproc)\n",
    "    for k in 1:nproc\n",
    "        for i in 1:ncty\n",
    "            pro_sink[i,k] = regional_EF[i, k+1] * (sink_c[i]/emission_c[i] + es_ratio)\n",
    "        end\n",
    "    end\n",
    "    proS = (x.*pro_sink)*ones(nproc,1) \n",
    "    \n",
    "    transS = Vector{Float64}(undef, ncty)\n",
    "    transD = Vector{Float64}(undef, ncty)\n",
    "    for j in 1:ncty\n",
    "        arc_emi = 0\n",
    "        arc_seq = 0\n",
    "        for i in 1:ncty\n",
    "            amount = sum(y[i,j,k] for k in 1:nproc)\n",
    "            arc_emi += amount * distance[!, 2:end][i,j] * EF_trans\n",
    "            arc_seq += arc_emi * (sink_c[j]/emission_c[j] + es_ratio)\n",
    "        end\n",
    "        transD[j] = arc_emi  # ncty*1 matrix\n",
    "        transS[j] = arc_seq  # ncty*1 matrix\n",
    "    end\n",
    "    \n",
    "    EO = proD - proS + transD\n",
    "    return(sum(EO))\n",
    "end\n",
    "    "
   ]
  },
  {
   "cell_type": "code",
   "execution_count": 26,
   "id": "7d5a5622",
   "metadata": {},
   "outputs": [
    {
     "data": {
      "text/plain": [
       "([0.0 0.0 … 0.0 0.0; 21624.200459696025 0.0 … 369771.2699507179 0.0; … ; 0.0 0.0 … 9.659678420069358e-6 0.0; 0.0 0.0 … 0.0 0.0], 9, 14, 23, 0.391304347826087)"
      ]
     },
     "execution_count": 26,
     "metadata": {},
     "output_type": "execute_result"
    }
   ],
   "source": [
    "osx = res_os[\"x\"]\n",
    "osy = res_os[\"y\"]\n",
    "pct_opt = pct_count(osx,osy)"
   ]
  },
  {
   "cell_type": "code",
   "execution_count": 27,
   "id": "fe0491cf",
   "metadata": {},
   "outputs": [
    {
     "data": {
      "text/plain": [
       "([10278.48977681775 0.0 … 0.0 0.0; 11905.590012272154 0.0 … 0.0 0.0; … ; 0.0 0.0 … 0.0 0.0; 974.165573281646 0.0 … 43756.84608120868 1.6167003131057103e6], 15, 15, 30, 0.5)"
      ]
     },
     "execution_count": 27,
     "metadata": {},
     "output_type": "execute_result"
    }
   ],
   "source": [
    "eox = res_eo[\"x\"]\n",
    "eoy = res_eo[\"y\"]\n",
    "pct_eo = pct_count(eox,eoy)"
   ]
  },
  {
   "cell_type": "code",
   "execution_count": 32,
   "id": "b9515f3e",
   "metadata": {},
   "outputs": [
    {
     "data": {
      "text/plain": [
       "5.04851940200074e6"
      ]
     },
     "execution_count": 32,
     "metadata": {},
     "output_type": "execute_result"
    }
   ],
   "source": [
    "ne_os = net_emi(osx,osy)"
   ]
  },
  {
   "cell_type": "code",
   "execution_count": 31,
   "id": "ab40461a",
   "metadata": {},
   "outputs": [
    {
     "data": {
      "text/plain": [
       "1.0566378315515348e6"
      ]
     },
     "execution_count": 31,
     "metadata": {},
     "output_type": "execute_result"
    }
   ],
   "source": [
    "ne_opt = net_emi(eox,eoy)"
   ]
  },
  {
   "cell_type": "markdown",
   "id": "4d5c3147",
   "metadata": {},
   "source": [
    "---"
   ]
  },
  {
   "cell_type": "code",
   "execution_count": 129,
   "id": "112fcc39",
   "metadata": {},
   "outputs": [
    {
     "name": "stdout",
     "output_type": "stream",
     "text": [
      "Set parameter Username\n",
      "Academic license - for non-commercial use only - expires 2025-04-05\n",
      "Set parameter NonConvex to value 2\n",
      "Set parameter IntegralityFocus to value 1\n"
     ]
    }
   ],
   "source": [
    "model = Model(Gurobi.Optimizer)\n",
    "set_optimizer_attributes(model, \"NonConvex\" => 2, \"IntegralityFocus\" => 1)\n",
    "\n",
    "@variable(model, x[1:ncty, 1:nproc] >= 0)\n",
    "@variable(model, y[1:ncty, 1:ncty, 1:nproc] >= 0)\n",
    "@variable(model, 0<=obj<=1)\n",
    "\n",
    "@variable(model, z[1:ncty, 1:nproc], Bin)\n",
    "@variable(model, r[1:ncty, 1:nproc], Bin)\n",
    "@variable(model, t[1:ncty, 1:nproc], Bin)\n",
    "@variable(model, beta[1:ncty, 1:nproc], Bin)\n",
    "\n",
    "x_cth = [@constraint(model, sum(x[i,k] for i in 1:ncty) >= sum(x[i,5] for i in 1:ncty) * scaler[k]) for k in cathode]\n",
    "x_cell = [@constraint(model, sum(x[i,k] for i in 1:ncty) >= sum(x[i,11] for i in 1:ncty) * scaler[k]) for k in cell]\n",
    "x_noncell = [@constraint(model, sum(x[i,k] for i in 1:ncty) >= sum(x[i,14] for i in 1:ncty) * scaler[k]) for k in noncell]\n",
    "x_battery = [@constraint(model, sum(x[i,k] for i in 1:ncty) >= sum(x[i,15] for i in 1:ncty) * scaler[k]) for k in battery];\n",
    "\n",
    "cstr_cap = [@constraint(model, x[i,k] <= capacity[!, 2:end][i,k]) for k in 1:nproc for i in 1:ncty]\n",
    "cstr_op = [@constraint(model, sum(y[i,j,k] for j in 1:ncty) <= x[i,k]) for k in 1:nproc for i in 1:ncty]\n",
    "cstr_cth = [@constraint(model, sum(y[i,j,k] for i in 1:ncty) >= x[j,5]*scaler[k]) for k in cathode for j in 1:ncty]\n",
    "cstr_cell = [@constraint(model, sum(y[i,j,k] for i in 1:ncty) >= x[j,11]*scaler[k]) for k in cell for j in 1:ncty]\n",
    "cstr_noncell = [@constraint(model, sum(y[i,j,k] for i in 1:ncty) >= x[j,14]*scaler[k]) for k in noncell for j in 1:ncty]\n",
    "cstr_battery = [@constraint(model, sum(y[i,j,k] for i in 1:ncty) >= x[j,15]*scaler[k]) for k in battery for j in 1:ncty]\n",
    "\n",
    "@constraint(model, sum(y[i,mkt_loc,mkt_proc] for i in 1:ncty) >= cell_demand)\n",
    "tmp = filter!(e->e!=mkt_loc,collect(1:ncty))\n",
    "for j in tmp\n",
    "    @constraint(model, sum(y[i,j,mkt_proc] for i in 1:ncty) == 0);\n",
    "end\n",
    "\n",
    "proD = x .* Matrix(regional_EF[:,2:end])\n",
    "pro_sink = zeros(ncty, nproc)\n",
    "for k in 1:nproc\n",
    "    for i in 1:ncty\n",
    "        pro_sink[i,k] = regional_EF[i, k+1] * (sink_c[i]/emission_c[i] + es_ratio)\n",
    "    end\n",
    "end\n",
    "proS = x .* pro_sink\n",
    "\n",
    "transD = Matrix{AffExpr}(undef, ncty, nproc)\n",
    "for k in 1:nproc\n",
    "    for i in 1:ncty\n",
    "        emi = 0\n",
    "        for j in 1:ncty\n",
    "            emi += y[i,j,k] * distance[!, 2:end][i,j] * EF_trans  #PRODUCER\n",
    "        end\n",
    "        transD[i,k] = emi\n",
    "    end\n",
    "end\n",
    "\n",
    "slack = 1e-4\n",
    "M = 1e7\n",
    "\n",
    "Allo_Dsoc = (proD*ones(nproc,1)) .* (Dsoc./emission_c)\n",
    "SS = transD*ones(nproc,1) + proD*ones(nproc,1) - Allo_Dsoc\n",
    "cstr_soc = [@constraint(model, SS[i] >= slack) for i in 1:ncty]\n",
    "\n",
    "EO = proD - proS + transD\n",
    "\n",
    "for i in 1:ncty\n",
    "    for k in 1:nproc\n",
    "        @constraint(model, EO[i,k] >= -M*r[i,k] + slack*t[i,k])\n",
    "        @constraint(model, EO[i,k] <= -slack*r[i,k] + M*t[i,k])\n",
    "        @constraint(model, z[i,k] + r[i,k] + t[i,k] == 1)\n",
    "        \n",
    "        @constraint(model, x[i,k] <= beta[i,k] * M)\n",
    "        @constraint(model, x[i,k] >= -M * (1 - beta[i,k]) + 5)\n",
    "    end\n",
    "end"
   ]
  },
  {
   "cell_type": "code",
   "execution_count": 130,
   "id": "6b7f9c80",
   "metadata": {},
   "outputs": [
    {
     "name": "stdout",
     "output_type": "stream",
     "text": [
      "Set parameter NonConvex to value 2\n",
      "Set parameter IntegralityFocus to value 1\n",
      "Gurobi Optimizer version 11.0.0 build v11.0.0rc2 (linux64 - \"Ubuntu 23.10\")\n",
      "\n",
      "CPU model: 11th Gen Intel(R) Core(TM) i7-11700 @ 2.50GHz, instruction set [SSE2|AVX|AVX2|AVX512]\n",
      "Thread count: 8 physical cores, 16 logical processors, using up to 16 threads\n",
      "\n",
      "Optimize a model with 3765 rows, 16741 columns and 79422 nonzeros\n",
      "Model fingerprint: 0xc47013d8\n",
      "Model has 1 quadratic constraint\n",
      "Variable types: 14881 continuous, 1860 integer (1860 binary)\n",
      "Coefficient statistics:\n",
      "  Matrix range     [1e-04, 1e+07]\n",
      "  QMatrix range    [1e+00, 1e+00]\n",
      "  QLMatrix range   [1e+00, 1e+00]\n",
      "  Objective range  [1e+00, 1e+00]\n",
      "  Bounds range     [1e+00, 1e+00]\n",
      "  RHS range        [1e-04, 1e+11]\n",
      "Warning: Model contains large rhs\n",
      "         Consider reformulating model or setting NumericFocus parameter\n",
      "         to avoid numerical issues.\n",
      "Presolve removed 2708 rows and 11054 columns\n",
      "Presolve time: 0.06s\n",
      "Presolved: 1703 rows, 5902 columns, 26057 nonzeros\n",
      "Variable types: 5649 continuous, 253 integer (253 binary)\n",
      "\n",
      "Root relaxation: objective 6.690353e-02, 853 iterations, 0.01 seconds (0.04 work units)\n",
      "\n",
      "    Nodes    |    Current Node    |     Objective Bounds      |     Work\n",
      " Expl Unexpl |  Obj  Depth IntInf | Incumbent    BestBd   Gap | It/Node Time\n",
      "\n",
      "     0     0    0.06690    0   67          -    0.06690      -     -    0s\n",
      "     0     0    0.09676    0   57          -    0.09676      -     -    0s\n",
      "H    0     0                       0.7500000    0.09676  87.1%     -    0s\n",
      "     0     0    0.09676    0   57    0.75000    0.09676  87.1%     -    0s\n",
      "     0     0    0.10534    0   55    0.75000    0.10534  86.0%     -    0s\n",
      "H    0     0                       0.7105263    0.10534  85.2%     -    0s\n",
      "     0     0    0.13490    0   90    0.71053    0.13490  81.0%     -    0s\n",
      "     0     0    0.14100    0   88    0.71053    0.14100  80.2%     -    0s\n",
      "H    0     0                       0.6315789    0.14100  77.7%     -    0s\n",
      "     0     0    0.14100    0   71    0.63158    0.14100  77.7%     -    0s\n",
      "     0     0    0.14100    0   68    0.63158    0.14100  77.7%     -    0s\n",
      "     0     0    0.14100    0   50    0.63158    0.14100  77.7%     -    0s\n",
      "     0     0    0.14100    0   49    0.63158    0.14100  77.7%     -    0s\n",
      "H    0     0                       0.4307692    0.14100  67.3%     -    0s\n",
      "     0     0    0.14540    0   55    0.43077    0.14540  66.2%     -    0s\n",
      "     0     0    0.14540    0   48    0.43077    0.14540  66.2%     -    0s\n",
      "     0     0    0.14540    0   48    0.43077    0.14540  66.2%     -    0s\n",
      "     0     0    0.16118    0   36    0.43077    0.16118  62.6%     -    0s\n",
      "     0     0    0.16702    0   38    0.43077    0.16702  61.2%     -    0s\n",
      "     0     0    0.16702    0   50    0.43077    0.16702  61.2%     -    0s\n",
      "     0     0    0.16702    0   50    0.43077    0.16702  61.2%     -    0s\n",
      "     0     0    0.16702    0   49    0.43077    0.16702  61.2%     -    0s\n",
      "     0     0    0.16702    0   48    0.43077    0.16702  61.2%     -    0s\n",
      "     0     2    0.17829    0   48    0.43077    0.17829  58.6%     -    0s\n",
      "*  946   879             105       0.4032258    0.18402  54.4%  10.2    1s\n",
      "* 1029   879              97       0.4000000    0.18402  54.0%   9.8    1s\n",
      "H 2175  1669                       0.3728814    0.20990  43.7%  14.2    2s\n",
      "* 4542  2174              87       0.3684211    0.20990  43.0%   9.3    3s\n",
      "* 6555  2313              84       0.3620690    0.20990  42.0%   7.1    3s\n",
      "* 7729  2440              77       0.3571429    0.20990  41.2%   6.3    3s\n",
      " 14049  3992    0.29412   60   10    0.35714    0.20990  41.2%   4.3    5s\n",
      "*17923  4639              61       0.3555556    0.20990  41.0%   3.7    5s\n",
      "*18933  4601              84       0.3454545    0.20990  39.2%   3.6    5s\n",
      "*20814  5115              64       0.3400000    0.20990  38.3%   3.5    5s\n",
      "*22520  5294              72       0.3396227    0.20990  38.2%   3.4    5s\n",
      "*23059  5260              69       0.3333334    0.20990  37.0%   3.3    6s\n",
      "*24209  5225              74       0.3269231    0.20990  35.8%   3.3    6s\n",
      "*33073  7159              77       0.3265306    0.20990  35.7%   3.0    7s\n",
      "*35396  7201              84       0.3207547    0.20990  34.6%   3.0    7s\n",
      "*37042  7178              77       0.3148148    0.20990  33.3%   2.9    7s\n",
      "*38028  7370              61       0.3125000    0.20990  32.8%   2.9    7s\n",
      "*39407  7136              71       0.3076923    0.20990  31.8%   2.9    7s\n",
      " 42298  7896    0.24490   50   33    0.30769    0.23242  24.5%   2.9   10s\n",
      "*43065  7903              54       0.3018868    0.24093  20.2%   3.1   10s\n",
      "*46527  8241              90       0.2941177    0.24191  17.8%   4.3   12s\n",
      "*50651  8232              76       0.2941177    0.24191  17.8%   5.5   14s\n",
      " 51485  8361    0.26223   47    8    0.29412    0.24359  17.2%   5.7   15s\n",
      "*51545  7631              70       0.2884616    0.24359  15.6%   5.7   15s\n",
      "*56757  7276              72       0.2884615    0.24490  15.1%   7.1   17s\n",
      " 61243  7477 infeasible   62         0.28846    0.24490  15.1%   7.8   20s\n",
      "*63029  7974              73       0.2884615    0.24490  15.1%   7.8   20s\n",
      "*63121  7937              69       0.2884615    0.24490  15.1%   7.8   20s\n",
      "*76095  9819              70       0.2857143    0.24490  14.3%   7.9   24s\n",
      " 77627 10523 infeasible   54         0.28571    0.24490  14.3%   7.9   25s\n",
      "*78778  9995              74       0.2800000    0.24490  12.5%   7.9   25s\n",
      "*80201  9719              79       0.2745098    0.24490  10.8%   8.0   26s\n",
      " 87318 11425 infeasible   52         0.27451    0.24538  10.6%   8.6   30s\n",
      " 101591 12585    0.24619   59    1    0.27451    0.24619  10.3%   8.6   35s\n",
      " 121412 14040    0.27385   46    2    0.27451    0.24783  9.72%   8.3   40s\n",
      " 154077 15488    0.25789   62   13    0.27451    0.24909  9.26%   7.5   45s\n",
      " 196129 16249    0.26000   62    4    0.27451    0.24926  9.20%   6.6   50s\n",
      " 234116 17353    0.26000   58    4    0.27451    0.24926  9.20%   6.1   55s\n",
      " 274017 18681     cutoff   68         0.27451    0.24926  9.20%   5.7   60s\n",
      " 312815 20414     cutoff   62         0.27451    0.24926  9.20%   5.5   65s\n",
      " 342484 21825    0.25308   58    4    0.27451    0.24926  9.20%   5.4   70s\n",
      " 361727 23378 infeasible   59         0.27451    0.24926  9.20%   5.5   75s\n",
      " 379055 25392     cutoff   68         0.27451    0.24926  9.20%   5.6   80s\n",
      " 389085 27029 infeasible   58         0.27451    0.24926  9.20%   5.9   85s\n",
      " 399242 28455    0.25094   58    8    0.27451    0.24926  9.20%   6.2   90s\n",
      " 411933 30642    0.24926   63    1    0.27451    0.24926  9.20%   6.5   95s\n",
      " 419415 31733 infeasible   46         0.27451    0.24926  9.20%   6.6  100s\n",
      " 429727 33218    0.26050   57    4    0.27451    0.24926  9.20%   6.9  105s\n",
      " 443658 34979 infeasible   62         0.27451    0.24926  9.20%   7.1  110s\n",
      "*470627 35612              73       0.2745098    0.24972  9.03%   6.9  113s\n",
      "*490672 28637              70       0.2653061    0.24972  5.88%   6.6  114s\n",
      " 490710 28629 infeasible 1541         0.26531    0.24972  5.88%   6.6  115s\n",
      "*492561 22371              70       0.2600000    0.24972  3.95%   6.6  115s\n",
      "*492562 21476              72       0.2600000    0.24972  3.95%   6.6  115s\n",
      " 505584 20944 infeasible   68         0.26000    0.24999  3.85%   6.9  120s\n",
      " 518910 20005    0.25002   67    4    0.26000    0.25002  3.84%   7.2  125s\n",
      " 530062 19484 infeasible   53         0.26000    0.25002  3.84%   7.5  130s\n",
      " 539325 18002    0.25194   51    9    0.26000    0.25002  3.84%   7.8  135s\n",
      " 552437 17150 infeasible   56         0.26000    0.25002  3.84%   8.1  140s\n",
      " 565250 16545    0.25288   52    1    0.26000    0.25002  3.84%   8.4  145s\n",
      " 576885 16102 infeasible   52         0.26000    0.25002  3.84%   8.7  150s\n",
      " 590314 15845 infeasible   52         0.26000    0.25002  3.84%   8.8  155s\n",
      " 603821 14915    0.25002   50    7    0.26000    0.25002  3.84%   9.1  160s\n",
      " 617349 14461    0.25282   46    7    0.26000    0.25002  3.84%   9.4  165s\n",
      " 628026 13807 infeasible   49         0.26000    0.25579  1.62%   9.8  170s\n",
      " 635913 13468 infeasible   47         0.26000    0.25596  1.56%  10.1  175s\n",
      " 645959 12711    0.25657   50   11    0.26000    0.25657  1.32%  10.4  180s\n",
      " 653027 11972 infeasible   61         0.26000    0.25728  1.05%  10.7  185s\n",
      " 661512 11196    0.25937   62    3    0.26000    0.25773  0.87%  11.1  190s\n",
      " 671159 10043    0.25824   52    4    0.26000    0.25824  0.68%  11.3  195s\n",
      " 678895  8503 infeasible   54         0.26000    0.25882  0.46%  11.6  200s\n",
      " 687524  3279 infeasible   47         0.26000    0.25904  0.37%  11.7  206s\n",
      " 694780  1918 infeasible   54         0.26000    0.25933  0.26%  12.1  210s\n",
      " 702758   871    0.26000   51    2    0.26000    0.25965  0.13%  12.4  215s\n",
      "\n",
      "Cutting planes:\n",
      "  Gomory: 5\n",
      "  Cover: 6\n",
      "  Implied bound: 37\n",
      "  MIR: 50\n",
      "  Mixing: 2\n",
      "  Flow cover: 335\n",
      "  Inf proof: 16\n",
      "  RLT: 5\n",
      "  Relax-and-lift: 8\n",
      "\n",
      "Explored 711605 nodes (8962693 simplex iterations) in 218.73 seconds (145.05 work units)\n",
      "Thread count was 16 (of 16 available processors)\n",
      "\n",
      "Solution count 10: 0.26 0.26 0.265306 ... 0.288462\n",
      "\n",
      "Optimal solution found (tolerance 1.00e-04)\n",
      "Warning: max constraint violation (5.3033e-04) exceeds tolerance\n",
      "Best objective 2.600000106227e-01, best bound 2.599985746577e-01, gap 0.0006%\n",
      "\n",
      "User-callback calls 1443201, time in user-callback 0.32 sec\n"
     ]
    },
    {
     "data": {
      "text/plain": [
       "0.2600000106226735"
      ]
     },
     "execution_count": 130,
     "metadata": {},
     "output_type": "execute_result"
    }
   ],
   "source": [
    "@constraint(model, obj*(sum(r) + sum(t)) == sum(t))\n",
    "@objective(model, Min, obj)\n",
    "JuMP.optimize!(model)\n",
    "\n",
    "xx = JuMP.value.(x)\n",
    "yy = JuMP.value.(y)\n",
    "zz = JuMP.value.(z)\n",
    "rr = JuMP.value.(r)\n",
    "tt = JuMP.value.(t)\n",
    "solution = JuMP.objective_value(model)"
   ]
  },
  {
   "cell_type": "code",
   "execution_count": 121,
   "id": "a7b3117b",
   "metadata": {},
   "outputs": [
    {
     "data": {
      "text/plain": [
       "([16398.174428063292 0.0 … 0.0 0.0; 82241.93995209163 0.0 … 0.0 0.0; … ; 0.0 0.0 … 9.659678420069358e-5 0.0; 0.0 0.0 … 0.0 0.0], 19, 31, 50, 0.38)"
      ]
     },
     "execution_count": 121,
     "metadata": {},
     "output_type": "execute_result"
    }
   ],
   "source": [
    "pct_count(xx,yy)"
   ]
  },
  {
   "cell_type": "code",
   "execution_count": 123,
   "id": "bf37f67d",
   "metadata": {},
   "outputs": [
    {
     "data": {
      "text/plain": [
       "31×15 Matrix{Float64}:\n",
       " 1.0  0.0  0.0  0.0  0.0  0.0  0.0  0.0  0.0  0.0  0.0  0.0  0.0  0.0  0.0\n",
       " 1.0  0.0  0.0  0.0  0.0  0.0  0.0  0.0  0.0  0.0  0.0  0.0  0.0  0.0  0.0\n",
       " 0.0  0.0  0.0  1.0  0.0  0.0  0.0  0.0  0.0  0.0  0.0  0.0  0.0  0.0  0.0\n",
       " 1.0  1.0  0.0  1.0  0.0  1.0  1.0  1.0  1.0  1.0  0.0  1.0  0.0  1.0  0.0\n",
       " 1.0  0.0  0.0  0.0  0.0  0.0  0.0  0.0  1.0  0.0  0.0  1.0  0.0  1.0  0.0\n",
       " 0.0  0.0  0.0  0.0  0.0  1.0  0.0  0.0  0.0  0.0  0.0  0.0  0.0  0.0  0.0\n",
       " 0.0  0.0  0.0  1.0  0.0  0.0  1.0  1.0  0.0  0.0  0.0  1.0  0.0  0.0  0.0\n",
       " 0.0  1.0  0.0  0.0  0.0  0.0  0.0  0.0  0.0  0.0  0.0  0.0  0.0  0.0  0.0\n",
       " 0.0  1.0  0.0  1.0  0.0  0.0  1.0  0.0  0.0  0.0  0.0  0.0  0.0  1.0  0.0\n",
       " 0.0  0.0  0.0  0.0  0.0  0.0  1.0  0.0  0.0  0.0  0.0  0.0  0.0  1.0  0.0\n",
       " 0.0  0.0  0.0  0.0  0.0  0.0  0.0  0.0  0.0  0.0  0.0  0.0  1.0  0.0  0.0\n",
       " 0.0  0.0  0.0  0.0  0.0  1.0  0.0  0.0  0.0  0.0  0.0  0.0  0.0  0.0  0.0\n",
       " 0.0  0.0  0.0  0.0  0.0  0.0  0.0  0.0  0.0  0.0  0.0  0.0  0.0  1.0  0.0\n",
       " ⋮                        ⋮                        ⋮                   \n",
       " 0.0  0.0  0.0  0.0  0.0  1.0  0.0  0.0  0.0  1.0  0.0  0.0  0.0  1.0  0.0\n",
       " 0.0  0.0  1.0  0.0  0.0  0.0  0.0  0.0  1.0  0.0  0.0  0.0  0.0  0.0  0.0\n",
       " 0.0  0.0  0.0  0.0  0.0  0.0  0.0  0.0  0.0  0.0  0.0  0.0  0.0  0.0  0.0\n",
       " 0.0  0.0  0.0  0.0  0.0  0.0  0.0  0.0  0.0  0.0  0.0  0.0  0.0  0.0  0.0\n",
       " 0.0  1.0  0.0  1.0  0.0  1.0  1.0  0.0  1.0  1.0  0.0  1.0  0.0  1.0  0.0\n",
       " 0.0  0.0  0.0  0.0  0.0  0.0  0.0  0.0  0.0  0.0  0.0  1.0  0.0  0.0  0.0\n",
       " 0.0  0.0  0.0  0.0  0.0  0.0  0.0  0.0  0.0  0.0  0.0  0.0  0.0  0.0  0.0\n",
       " 0.0  0.0  0.0  0.0  1.0  0.0  0.0  0.0  0.0  0.0  0.0  0.0  0.0  0.0  0.0\n",
       " 0.0  0.0  0.0  0.0  0.0  1.0  0.0  0.0  0.0  0.0  0.0  0.0  0.0  0.0  0.0\n",
       " 0.0  0.0  0.0  0.0  0.0  0.0  0.0  0.0  0.0  0.0  0.0  0.0  0.0  0.0  0.0\n",
       " 0.0  0.0  0.0  0.0  0.0  0.0  0.0  0.0  0.0  0.0  0.0  0.0  0.0  0.0  0.0\n",
       " 0.0  0.0  0.0  0.0  0.0  0.0  0.0  0.0  0.0  0.0  1.0  0.0  0.0  0.0  0.0"
      ]
     },
     "execution_count": 123,
     "metadata": {},
     "output_type": "execute_result"
    }
   ],
   "source": [
    "JuMP.value.(beta)"
   ]
  },
  {
   "cell_type": "code",
   "execution_count": 128,
   "id": "65f7b504",
   "metadata": {},
   "outputs": [
    {
     "data": {
      "text/plain": [
       "31×15 Matrix{Float64}:\n",
       "  6200.0       0.0          0.0  …     0.0    0.0          0.0\n",
       " 61000.0       0.0          0.0        0.0    0.0          0.0\n",
       "     0.0       0.0          0.0        0.0    0.0          0.0\n",
       "   500.0    3100.0          0.0        0.0    9.99999      0.0\n",
       " 10346.1       0.0          0.0        0.0   10.0          0.0\n",
       "     0.0       0.0          0.0  …     0.0    0.0          0.0\n",
       "     0.0       0.0          0.0        0.0    0.0          0.0\n",
       "     0.0  145000.0          0.0        0.0    0.0          0.0\n",
       "     0.0    1084.0          0.0        0.0    9.99999      0.0\n",
       "     0.0       0.0          0.0        0.0   10.0          0.0\n",
       "     0.0       0.0          0.0  …  2000.28   0.0          0.0\n",
       "     0.0       0.0          0.0        0.0    0.0          0.0\n",
       "     0.0       0.0          0.0        0.0   10.0          0.0\n",
       "     ⋮                           ⋱                         \n",
       "     0.0       0.0          0.0        0.0   10.0          0.0\n",
       "     0.0       0.0         10.0  …     0.0    0.0          0.0\n",
       "     0.0       2.37104e-6   0.0        0.0    0.0          0.0\n",
       "     0.0       0.0          0.0        0.0    7.83316e-5   0.0\n",
       "     0.0    3500.0          0.0        0.0   10.0          0.0\n",
       "     0.0       0.0          0.0        0.0    0.0          0.0\n",
       "     0.0       0.0          0.0  …     0.0    0.0          0.0\n",
       "     0.0       0.0          0.0        0.0    0.0          0.0\n",
       "     0.0       0.0          0.0        0.0    0.0          0.0\n",
       "     0.0       0.0          0.0        0.0    0.000100255  0.0\n",
       "     0.0       0.0          0.0        0.0    6.03962e-5   0.0\n",
       "     0.0       0.0          0.0  …     0.0    0.0          0.0"
      ]
     },
     "execution_count": 128,
     "metadata": {},
     "output_type": "execute_result"
    }
   ],
   "source": [
    "JuMP.value.(x)"
   ]
  },
  {
   "cell_type": "code",
   "execution_count": null,
   "id": "4750ef6d",
   "metadata": {},
   "outputs": [],
   "source": []
  },
  {
   "cell_type": "code",
   "execution_count": null,
   "id": "7a1d9dd4",
   "metadata": {},
   "outputs": [],
   "source": []
  },
  {
   "cell_type": "code",
   "execution_count": null,
   "id": "fdaeb6ec",
   "metadata": {},
   "outputs": [],
   "source": []
  },
  {
   "cell_type": "code",
   "execution_count": 117,
   "id": "29f8f60d",
   "metadata": {},
   "outputs": [
    {
     "data": {
      "text/plain": [
       "31×15 Matrix{Float64}:\n",
       "      0.0             0.0         0.0        …       0.0          0.0\n",
       "      1.29143e5       0.0         0.0                0.0          0.0\n",
       "      0.0             0.0         0.0                0.0          0.0\n",
       "   -271.911      -65927.6         0.0               -1.45519e-11  0.0\n",
       " -56318.9             0.0         0.0               -2.08439e5    0.0\n",
       "      0.0             0.0         6.73675e6  …       0.0          0.0\n",
       "      0.0             0.0         0.0                0.0          0.0\n",
       "      0.0             8.26326e5   0.0                0.0          0.0\n",
       "      0.0            -0.0001      0.0           -75144.9          0.0\n",
       "      0.0             0.0         0.0            56838.8          0.0\n",
       "      0.0             0.0         0.0        …       0.0          0.0\n",
       "      0.0             0.0         0.0                0.0          0.0\n",
       "      0.0             0.0         0.0                0.0          0.0\n",
       "      ⋮                                      ⋱                    \n",
       "      0.0             0.0         0.0               -0.0001       0.0\n",
       "      0.0             0.0        -0.0001     …       0.0          0.0\n",
       "      0.0             0.0         0.0                0.0          0.0\n",
       "      0.0             0.0         0.0                5.39484e-5   0.0\n",
       "      0.0         -8810.8         0.0               -0.0001       0.0\n",
       "      0.0             0.0         0.0                0.0          0.0\n",
       "      0.0             0.0         0.0        …       0.0          0.0\n",
       "      0.0             0.0         0.0                0.0          0.0\n",
       "      0.0             0.0         0.0                6.70669e-5   0.0\n",
       "      0.0             0.0         0.0                0.0          0.0\n",
       "      0.0             0.0         0.0                0.0          0.0\n",
       "      0.0             0.0         0.0        …       0.0          1.6167e6"
      ]
     },
     "execution_count": 117,
     "metadata": {},
     "output_type": "execute_result"
    }
   ],
   "source": [
    "EO = pct_count(xx,yy)[1]"
   ]
  },
  {
   "cell_type": "code",
   "execution_count": 61,
   "id": "a94d9446",
   "metadata": {},
   "outputs": [
    {
     "data": {
      "text/plain": [
       "31×15 Matrix{Float64}:\n",
       " 0.0  0.0  0.0  0.0  0.0  0.0  0.0  0.0  0.0  0.0  0.0  0.0  0.0  0.0  0.0\n",
       " 0.0  0.0  0.0  0.0  0.0  0.0  0.0  0.0  0.0  0.0  0.0  0.0  0.0  0.0  0.0\n",
       " 0.0  0.0  0.0  0.0  0.0  0.0  0.0  0.0  0.0  0.0  0.0  0.0  0.0  0.0  0.0\n",
       " 1.0  1.0  0.0  0.0  0.0  1.0  0.0  0.0  0.0  0.0  0.0  1.0  0.0  0.0  0.0\n",
       " 1.0  0.0  0.0  0.0  0.0  0.0  0.0  0.0  0.0  0.0  0.0  0.0  0.0  0.0  0.0\n",
       " 0.0  0.0  0.0  0.0  0.0  0.0  0.0  0.0  0.0  0.0  0.0  0.0  0.0  0.0  0.0\n",
       " 0.0  0.0  0.0  0.0  0.0  0.0  0.0  1.0  0.0  0.0  0.0  0.0  0.0  0.0  0.0\n",
       " 0.0  0.0  0.0  0.0  0.0  0.0  0.0  0.0  0.0  0.0  0.0  0.0  0.0  0.0  0.0\n",
       " 0.0  1.0  0.0  1.0  0.0  0.0  0.0  0.0  0.0  0.0  0.0  0.0  0.0  0.0  0.0\n",
       " 0.0  0.0  0.0  0.0  0.0  0.0  0.0  0.0  0.0  0.0  0.0  0.0  0.0  0.0  0.0\n",
       " 0.0  0.0  0.0  0.0  0.0  0.0  0.0  0.0  0.0  0.0  0.0  0.0  0.0  0.0  0.0\n",
       " 0.0  0.0  0.0  0.0  0.0  0.0  0.0  0.0  0.0  0.0  0.0  0.0  0.0  0.0  0.0\n",
       " 0.0  0.0  0.0  0.0  0.0  0.0  0.0  0.0  0.0  0.0  0.0  0.0  0.0  0.0  0.0\n",
       " ⋮                        ⋮                        ⋮                   \n",
       " 0.0  0.0  0.0  0.0  0.0  1.0  0.0  0.0  0.0  0.0  0.0  0.0  0.0  0.0  0.0\n",
       " 0.0  0.0  0.0  0.0  0.0  0.0  0.0  0.0  0.0  0.0  0.0  0.0  0.0  0.0  0.0\n",
       " 0.0  0.0  0.0  0.0  0.0  0.0  0.0  0.0  0.0  0.0  0.0  0.0  0.0  0.0  0.0\n",
       " 0.0  0.0  0.0  0.0  0.0  0.0  0.0  0.0  0.0  0.0  0.0  0.0  0.0  0.0  0.0\n",
       " 0.0  1.0  0.0  1.0  0.0  0.0  0.0  0.0  1.0  1.0  0.0  0.0  0.0  0.0  0.0\n",
       " 0.0  0.0  0.0  0.0  0.0  0.0  0.0  0.0  0.0  0.0  0.0  0.0  0.0  0.0  0.0\n",
       " 0.0  0.0  0.0  0.0  0.0  0.0  0.0  0.0  0.0  0.0  0.0  0.0  0.0  0.0  0.0\n",
       " 0.0  0.0  0.0  0.0  0.0  0.0  0.0  0.0  0.0  0.0  0.0  0.0  0.0  0.0  0.0\n",
       " 0.0  0.0  0.0  0.0  0.0  0.0  0.0  0.0  0.0  0.0  0.0  0.0  0.0  0.0  0.0\n",
       " 0.0  0.0  0.0  0.0  0.0  0.0  0.0  0.0  0.0  0.0  0.0  0.0  0.0  0.0  0.0\n",
       " 0.0  0.0  0.0  0.0  0.0  0.0  0.0  0.0  0.0  0.0  0.0  0.0  0.0  0.0  0.0\n",
       " 0.0  0.0  0.0  0.0  0.0  0.0  0.0  0.0  0.0  0.0  0.0  0.0  0.0  0.0  0.0"
      ]
     },
     "execution_count": 61,
     "metadata": {},
     "output_type": "execute_result"
    }
   ],
   "source": [
    "for i in 1:ncty\n",
    "    for k in 1:nproc\n",
    "        if EO[i,k] < 0.1 && EO[i,k] > -0.1\n",
    "            EO[i,k] = 0\n",
    "        end\n",
    "    end\n",
    "end\n",
    "\n",
    "for i in 1:ncty\n",
    "    for k in 1:nproc\n",
    "        if EO[i,k] < 0\n",
    "            EO[i,k] = 1\n",
    "        else\n",
    "            EO[i,k] = 0\n",
    "        end\n",
    "    end\n",
    "end\n",
    "EO"
   ]
  },
  {
   "cell_type": "code",
   "execution_count": 64,
   "id": "79cd693c",
   "metadata": {},
   "outputs": [
    {
     "name": "stdout",
     "output_type": "stream",
     "text": [
      "[21, 3]\n",
      "[24, 7]\n",
      "[24, 8]\n",
      "[24, 12]\n"
     ]
    }
   ],
   "source": [
    "diff = EO - rr\n",
    "\n",
    "for i in 1:ncty\n",
    "    for k in 1:nproc\n",
    "        if diff[i,k] != 0\n",
    "            println([i,k])\n",
    "        end\n",
    "    end\n",
    "end"
   ]
  },
  {
   "cell_type": "code",
   "execution_count": 66,
   "id": "1d1acb73",
   "metadata": {},
   "outputs": [],
   "source": [
    "EO_ORG = pct_count(xx,yy)[1];"
   ]
  },
  {
   "cell_type": "code",
   "execution_count": 82,
   "id": "60c9802f",
   "metadata": {},
   "outputs": [
    {
     "data": {
      "text/plain": [
       "-9.999996109399945"
      ]
     },
     "execution_count": 82,
     "metadata": {},
     "output_type": "execute_result"
    }
   ],
   "source": [
    "EO_ORG[21,3]*1e6"
   ]
  },
  {
   "cell_type": "code",
   "execution_count": null,
   "id": "ee693a9c",
   "metadata": {},
   "outputs": [],
   "source": []
  },
  {
   "cell_type": "code",
   "execution_count": 68,
   "id": "f1cbd1ed",
   "metadata": {},
   "outputs": [
    {
     "data": {
      "text/plain": [
       "0.0"
      ]
     },
     "execution_count": 68,
     "metadata": {},
     "output_type": "execute_result"
    }
   ],
   "source": [
    "EO_ORG[24,7]"
   ]
  },
  {
   "cell_type": "code",
   "execution_count": 69,
   "id": "fac7fe05",
   "metadata": {},
   "outputs": [
    {
     "data": {
      "text/plain": [
       "0.0"
      ]
     },
     "execution_count": 69,
     "metadata": {},
     "output_type": "execute_result"
    }
   ],
   "source": [
    "EO_ORG[24,8]"
   ]
  },
  {
   "cell_type": "code",
   "execution_count": 75,
   "id": "1663ea3f",
   "metadata": {},
   "outputs": [
    {
     "data": {
      "text/plain": [
       "-0.9999999999999999"
      ]
     },
     "execution_count": 75,
     "metadata": {},
     "output_type": "execute_result"
    }
   ],
   "source": [
    "EO_ORG[24,12]*1E5"
   ]
  },
  {
   "cell_type": "code",
   "execution_count": null,
   "id": "69fbbae0",
   "metadata": {},
   "outputs": [],
   "source": []
  },
  {
   "cell_type": "code",
   "execution_count": 71,
   "id": "04949759",
   "metadata": {},
   "outputs": [
    {
     "data": {
      "text/plain": [
       "0.0"
      ]
     },
     "execution_count": 71,
     "metadata": {},
     "output_type": "execute_result"
    }
   ],
   "source": [
    "EO[24,7]"
   ]
  },
  {
   "cell_type": "code",
   "execution_count": null,
   "id": "eb5e450b",
   "metadata": {},
   "outputs": [],
   "source": []
  },
  {
   "cell_type": "code",
   "execution_count": null,
   "id": "1af7a054",
   "metadata": {},
   "outputs": [],
   "source": []
  },
  {
   "cell_type": "code",
   "execution_count": 80,
   "id": "954b75e5",
   "metadata": {},
   "outputs": [
    {
     "data": {
      "text/plain": [
       "-279740.33056179655"
      ]
     },
     "execution_count": 80,
     "metadata": {},
     "output_type": "execute_result"
    }
   ],
   "source": [
    "minimum(EO_ORG)"
   ]
  },
  {
   "cell_type": "code",
   "execution_count": null,
   "id": "046cbe4e",
   "metadata": {},
   "outputs": [],
   "source": [
    "minimium()"
   ]
  },
  {
   "cell_type": "code",
   "execution_count": null,
   "id": "cc8f6462",
   "metadata": {},
   "outputs": [],
   "source": []
  }
 ],
 "metadata": {
  "kernelspec": {
   "display_name": "Julia 1.10.2",
   "language": "julia",
   "name": "julia-1.10"
  },
  "language_info": {
   "file_extension": ".jl",
   "mimetype": "application/julia",
   "name": "julia",
   "version": "1.10.2"
  }
 },
 "nbformat": 4,
 "nbformat_minor": 5
}
