{
 "cells": [
  {
   "cell_type": "code",
   "execution_count": 1,
   "id": "5edf3ebd",
   "metadata": {},
   "outputs": [],
   "source": [
    "using JuMP, Gurobi\n",
    "using CSV, LinearAlgebra, DataFrames\n",
    "using Plots\n",
    "using DelimitedFiles"
   ]
  },
  {
   "cell_type": "code",
   "execution_count": 2,
   "id": "f3795ee8",
   "metadata": {},
   "outputs": [],
   "source": [
    "path = \"C:/Users/bourg/.julia/environments/batterySC/Li-battery-SC/src/deterministic/data/\";"
   ]
  },
  {
   "cell_type": "code",
   "execution_count": 3,
   "id": "93d2a5ce",
   "metadata": {},
   "outputs": [],
   "source": [
    "#load social and ecological data and orgnize \n",
    "FL = repeat([Float64], inner=15)\n",
    "dtype = append!([String], FL);\n",
    "\n",
    "regional_EF = CSV.File(string(path,\"EF_SC31.csv\"),header=1,delim=\",\", types=dtype) |> DataFrame    \n",
    "capacity = CSV.File(string(path,\"capacity31.csv\"),header=1,delim=\",\", types=dtype) |> DataFrame    \n",
    "distance = CSV.File(string(path,\"distance31.csv\"),header=1,delim=\",\") |> DataFrame \n",
    "LCA_model = CSV.File(string(path,\"LCA_model.csv\"), header=1, delim=\",\") |> DataFrame \n",
    "SDD = CSV.File(string(path,\"SDD31.csv\"),header=1,delim=\",\") |> DataFrame;"
   ]
  },
  {
   "cell_type": "code",
   "execution_count": 4,
   "id": "5118b2b5",
   "metadata": {},
   "outputs": [],
   "source": [
    "global_sink = 1.099e10                        # global pub (ocean) CO2 sequestration (ton/yr)\n",
    "global_sink_tot = 2.236e10                  # global total (ocean+land) CO2 sequestration (ton/yr)\n",
    "global_emi = 3.53e10                          # global CO2 emission (ton/yr)                          # 2021 global GD ($/yr)\n",
    "es_ratio = global_sink/global_emi\n",
    "\n",
    "emission_c = SDD[!, \"emission\"]          # national CO2 emission (ton/yr)\n",
    "sink_c = SDD[!, \"sink ton/yr\"]           # national CO2 sink (ton/yr)\n",
    "Dsoc = SDD[!, \"Dsoc ton/yr\"]           # national CO2 sink (ton/yr)\n",
    "\n",
    "EF_trans = 1.005/10000                        # ton CO2/km*ton (The average freight truck in the U.S. emits 161.8 grams of CO2 per ton-mile)\n",
    "process = LCA_model[!,\"process\"]\n",
    "countries = capacity[!,\"country\"]\n",
    "ncty = size(countries,1)                          # No. of countries\n",
    "nproc = size(process,1);                          # No. of processes \n",
    "\n",
    "mkt_loc = findfirst(isequal(\"United States\"), countries)\n",
    "mkt_proc = findfirst(isequal(\"battery\"), process)\n",
    "\n",
    "# seperate model\n",
    "cathode = collect(1:4)\n",
    "cell = collect(5:10)\n",
    "noncell = [12,13]\n",
    "battery = [11,14]\n",
    "scaler = LCA_model[!,\"scaler\"];"
   ]
  },
  {
   "cell_type": "code",
   "execution_count": 5,
   "id": "4729c3eb",
   "metadata": {},
   "outputs": [],
   "source": [
    "cell_demand = 0.001*164.98*(1.369*1e6)*2;           # annual demand of Li battery for tesla (1.369M EV/yr, ~2 NMC111 pack/EV, 164.98 kg/pack (35kwh/pack), 80~100 kWh per EV)"
   ]
  },
  {
   "cell_type": "markdown",
   "id": "a5a22eba",
   "metadata": {},
   "source": [
    "----"
   ]
  },
  {
   "cell_type": "markdown",
   "id": "9305c6dd",
   "metadata": {},
   "source": [
    "### Build Model"
   ]
  },
  {
   "cell_type": "code",
   "execution_count": 6,
   "id": "12382191",
   "metadata": {},
   "outputs": [
    {
     "data": {
      "text/plain": [
       "EO_SS_Model (generic function with 1 method)"
      ]
     },
     "execution_count": 6,
     "metadata": {},
     "output_type": "execute_result"
    }
   ],
   "source": [
    "function EO_SS_Model(objfunc)\n",
    "    model = Model(Gurobi.Optimizer)\n",
    "    @variable(model, x[1:ncty, 1:nproc] >= 0)\n",
    "    @variable(model, y[1:ncty, 1:ncty, 1:nproc] >= 0)\n",
    "    \n",
    "    x_cth = [@constraint(model, sum(x[i,k] for i in 1:ncty) == sum(x[i,5] for i in 1:ncty) * scaler[k]) for k in cathode]\n",
    "    x_cell = [@constraint(model, sum(x[i,k] for i in 1:ncty) == sum(x[i,11] for i in 1:ncty) * scaler[k]) for k in cell]\n",
    "    x_noncell = [@constraint(model, sum(x[i,k] for i in 1:ncty) == sum(x[i,14] for i in 1:ncty) * scaler[k]) for k in noncell]\n",
    "    x_battery = [@constraint(model, sum(x[i,k] for i in 1:ncty) == sum(x[i,15] for i in 1:ncty) * scaler[k]) for k in battery];\n",
    "\n",
    "    cstr_cap = [@constraint(model, x[i,k] <= capacity[!, 2:end][i,k]) for k in 1:nproc for i in 1:ncty]\n",
    "    cstr_op = [@constraint(model, sum(y[i,j,k] for j in 1:ncty) == x[i,k]) for k in 1:nproc for i in 1:ncty]\n",
    "    cstr_cth = [@constraint(model, sum(y[i,j,k] for i in 1:ncty) == x[j,5]*scaler[k]) for k in cathode for j in 1:ncty]\n",
    "    cstr_cell = [@constraint(model, sum(y[i,j,k] for i in 1:ncty) == x[j,11]*scaler[k]) for k in cell for j in 1:ncty]\n",
    "    cstr_noncell = [@constraint(model, sum(y[i,j,k] for i in 1:ncty) == x[j,14]*scaler[k]) for k in noncell for j in 1:ncty]\n",
    "    cstr_battery = [@constraint(model, sum(y[i,j,k] for i in 1:ncty) == x[j,15]*scaler[k]) for k in battery for j in 1:ncty]\n",
    "    \n",
    "    @constraint(model, sum(y[i,mkt_loc,mkt_proc] for i in 1:ncty) == cell_demand)\n",
    "    tmp = filter!(e->e!=mkt_loc,collect(1:ncty))\n",
    "    for j in tmp\n",
    "        @constraint(model, sum(y[i,j,mkt_proc] for i in 1:ncty) == 0);\n",
    "    end\n",
    "    \n",
    "    \n",
    "    # obj func calculation\n",
    "    proD = (x .* Matrix(regional_EF[:,2:end])) * ones(nproc,1)  # ncty*1 matrix\n",
    "    pro_sink = zeros(ncty, nproc)\n",
    "    for k in 1:nproc\n",
    "        for i in 1:ncty\n",
    "            pro_sink[i,k] = regional_EF[i, k+1] * (sink_c[i]/emission_c[i] + es_ratio)\n",
    "        end\n",
    "    end\n",
    "    proS = (x.*pro_sink)*ones(nproc,1)  # ncty*1 matrix\n",
    "\n",
    "    transS = Vector{AffExpr}(undef, ncty)\n",
    "    transD = Vector{AffExpr}(undef, ncty)\n",
    "    for j in 1:ncty\n",
    "        arc_emi = 0\n",
    "        arc_seq = 0\n",
    "        for i in 1:ncty\n",
    "            amount = sum(y[i,j,k] for k in 1:nproc)\n",
    "            arc_emi += amount * distance[!, 2:end][i,j] * EF_trans\n",
    "            arc_seq += arc_emi * (sink_c[j]/emission_c[j] + es_ratio)\n",
    "        end\n",
    "        transD[j] = arc_emi  # ncty*1 matrix\n",
    "        transS[j] = arc_seq  # ncty*1 matrix\n",
    "    end\n",
    "\n",
    "    Allo_soc = proD ./ emission_c .* Dsoc\n",
    "    \n",
    "    \n",
    "    SS = sum(Allo_soc - (proD + transD))\n",
    "    EO = sum(proD - proS + transD)\n",
    "    \n",
    "    \n",
    "    if objfunc == \"Ecological\"\n",
    "        @objective(model, Min, EO);\n",
    "    else\n",
    "        @objective(model, Min, SS);\n",
    "    end\n",
    "      \n",
    "    JuMP.optimize!(model)\n",
    "\n",
    "    opt_x = JuMP.value.(x)\n",
    "    opt_y = JuMP.value.(y)\n",
    "    opt_obj = JuMP.objective_value(model);\n",
    "    result = Dict([\"opt_x\"=>opt_x, \"opt_obj\"=>opt_obj, \"opt_y\"=>opt_y])\n",
    "    return result\n",
    "end"
   ]
  },
  {
   "cell_type": "code",
   "execution_count": 7,
   "id": "9c7147c4",
   "metadata": {},
   "outputs": [
    {
     "name": "stdout",
     "output_type": "stream",
     "text": [
      "Academic license - for non-commercial use only - expires 2024-12-26\r\n",
      "Gurobi Optimizer version 9.1.2 build v9.1.2rc0 (win64)\r\n",
      "Thread count: 6 physical cores, 12 logical processors, using up to 12 threads\r\n",
      "Optimize a model with 1409 rows, 14880 columns and 31062 nonzeros\r\n",
      "Model fingerprint: 0x058cb9de\r\n",
      "Coefficient statistics:\r\n",
      "  Matrix range     [4e-03, 1e+00]\r\n",
      "  Objective range  [4e-03, 9e+01]\r\n",
      "  Bounds range     [0e+00, 0e+00]\r\n",
      "  RHS range        [2e+02, 1e+11]\r\n",
      "Warning: Model contains large rhs\r\n",
      "         Consider reformulating model or setting NumericFocus parameter\r\n",
      "         to avoid numerical issues.\r\n",
      "\r\n",
      "Concurrent LP optimizer: primal simplex, dual simplex, and barrier\r\n",
      "Showing barrier log only...\r\n",
      "\r\n",
      "Presolve removed 1160 rows and 13492 columns\r\n",
      "Presolve time: 0.03s\r\n",
      "Presolved: 249 rows, 1388 columns, 2818 nonzeros\r\n",
      "\r\n",
      "Ordering time: 0.00s\r\n",
      "\r\n",
      "Barrier performed 0 iterations in 0.03 seconds\r\n",
      "Barrier solve interrupted - model solved by another algorithm\r\n",
      "\r\n",
      "\r\n",
      "Solved with dual simplex\r\n",
      "Solved in 58 iterations and 0.03 seconds\r\n",
      "Optimal objective  9.052371707e+05\r\n",
      "\r\n",
      "User-callback calls 54, time in user-callback 0.00 sec\r\n"
     ]
    },
    {
     "data": {
      "text/plain": [
       "Dict{String, Any} with 3 entries:\n",
       "  \"opt_y\"   => [0.0 0.0 … 0.0 6200.0; 0.0 0.0 … 0.0 270.292; … ; 0.0 0.0 … 0.0 …\n",
       "  \"opt_obj\" => 9.05237e5\n",
       "  \"opt_x\"   => [6200.0 0.0 … 0.0 0.0; 270.292 0.0 … 0.0 0.0; … ; 0.0 0.0 … 0.0 …"
      ]
     },
     "execution_count": 7,
     "metadata": {},
     "output_type": "execute_result"
    }
   ],
   "source": [
    "res_eo = EO_SS_Model(\"Ecological\")"
   ]
  },
  {
   "cell_type": "code",
   "execution_count": 8,
   "id": "4d8e757a",
   "metadata": {},
   "outputs": [
    {
     "name": "stdout",
     "output_type": "stream",
     "text": [
      "Academic license - for non-commercial use only - expires 2024-12-26\r\n",
      "Gurobi Optimizer version 9.1.2 build v9.1.2rc0 (win64)\r\n",
      "Thread count: 6 physical cores, 12 logical processors, using up to 12 threads\r\n",
      "Optimize a model with 1409 rows, 14880 columns and 31062 nonzeros\r\n",
      "Model fingerprint: 0x305319b0\r\n",
      "Coefficient statistics:\r\n",
      "  Matrix range     [4e-03, 1e+00]\r\n",
      "  Objective range  [7e-02, 5e+01]\r\n",
      "  Bounds range     [0e+00, 0e+00]\r\n",
      "  RHS range        [2e+02, 1e+11]\r\n",
      "Warning: Model contains large rhs\r\n",
      "         Consider reformulating model or setting NumericFocus parameter\r\n",
      "         to avoid numerical issues.\r\n",
      "\r\n",
      "Concurrent LP optimizer: primal simplex, dual simplex, and barrier\r\n",
      "Showing barrier log only...\r\n",
      "\r\n",
      "Presolve removed 1160 rows and 13492 columns\r\n",
      "Presolve time: 0.03s\r\n",
      "Presolved: 249 rows, 1388 columns, 2818 nonzeros\r\n",
      "\r\n",
      "Ordering time: 0.00s\r\n",
      "\r\n",
      "Barrier statistics:\r\n",
      " AA' NZ     : 1.747e+03\r\n",
      " Factor NZ  : 4.612e+03 (roughly 1 MByte of memory)\r\n",
      " Factor Ops : 1.096e+05 (less than 1 second per iteration)\r\n",
      " Threads    : 1\r\n",
      "\r\n",
      "Barrier performed 0 iterations in 0.03 seconds\r\n",
      "Barrier solve interrupted - model solved by another algorithm\r\n",
      "\r\n",
      "\r\n",
      "Solved with dual simplex\r\n",
      "Solved in 296 iterations and 0.03 seconds\r\n",
      "Optimal objective -1.317106545e+07\r\n",
      "\r\n",
      "User-callback calls 60, time in user-callback 0.00 sec\r\n"
     ]
    },
    {
     "data": {
      "text/plain": [
       "Dict{String, Any} with 3 entries:\n",
       "  \"opt_y\"   => [0.0 0.0 … 0.0 0.0; 0.0 0.0 … 0.0 0.0; … ; 0.0 0.0 … 0.0 0.0; 0.…\n",
       "  \"opt_obj\" => -1.31711e7\n",
       "  \"opt_x\"   => [6200.0 0.0 … 0.0 0.0; 770.292 7000.0 … 0.0 0.0; … ; 0.0 0.0 … 0…"
      ]
     },
     "execution_count": 8,
     "metadata": {},
     "output_type": "execute_result"
    }
   ],
   "source": [
    "res_ss = EO_SS_Model(\"Social\")"
   ]
  },
  {
   "cell_type": "code",
   "execution_count": 12,
   "id": "c94d00c2",
   "metadata": {},
   "outputs": [],
   "source": [
    "eo_x = DataFrame(res_eo[\"opt_x\"],:auto)\n",
    "rename!(eo_x,process)\n",
    "eo_x.index = countries;\n",
    "# CSV.write(\"C:/Users/bourg/.julia/environments/batterySC/Li-battery-SC/src/deterministic/data/result/EO_optX_0401.csv\", eo_x)"
   ]
  },
  {
   "cell_type": "code",
   "execution_count": 13,
   "id": "da2c55f7",
   "metadata": {},
   "outputs": [],
   "source": [
    "ss_x = DataFrame(res_ss[\"opt_x\"],:auto)\n",
    "rename!(ss_x,process)\n",
    "ss_x.index = countries;\n",
    "# CSV.write(\"C:/Users/bourg/.julia/environments/batterySC/Li-battery-SC/src/deterministic/data/result/SS_optX_0401.csv\", ss_x)"
   ]
  },
  {
   "cell_type": "markdown",
   "id": "38f7175c",
   "metadata": {},
   "source": [
    "### Get Extreme Points"
   ]
  },
  {
   "cell_type": "code",
   "execution_count": 14,
   "id": "8b49f8c4",
   "metadata": {},
   "outputs": [],
   "source": [
    "EO1 = res_eo[\"opt_obj\"]\n",
    "SS1 = res_ss[\"opt_obj\"]\n",
    "ss_x = res_ss[\"opt_x\"]\n",
    "ss_y = res_ss[\"opt_y\"]\n",
    "eo_x = res_eo[\"opt_x\"]\n",
    "eo_y = res_eo[\"opt_y\"];"
   ]
  },
  {
   "cell_type": "code",
   "execution_count": 41,
   "id": "397a777d",
   "metadata": {},
   "outputs": [
    {
     "data": {
      "text/plain": [
       "net_emi (generic function with 1 method)"
      ]
     },
     "execution_count": 41,
     "metadata": {},
     "output_type": "execute_result"
    }
   ],
   "source": [
    "function net_emi(x,y)\n",
    "    \n",
    "    proD = (x .* Matrix(regional_EF[:,2:end])) * ones(nproc,1) \n",
    "    pro_sink = zeros(ncty, nproc)\n",
    "    for k in 1:nproc\n",
    "        for i in 1:ncty\n",
    "            pro_sink[i,k] = regional_EF[i, k+1] * (sink_c[i]/emission_c[i] + es_ratio)\n",
    "        end\n",
    "    end\n",
    "    proS = (x.*pro_sink)*ones(nproc,1) \n",
    "    \n",
    "    transS = Vector{Float64}(undef, ncty)\n",
    "    transD = Vector{Float64}(undef, ncty)\n",
    "    for j in 1:ncty\n",
    "        arc_emi = 0\n",
    "        arc_seq = 0\n",
    "        for i in 1:ncty\n",
    "            amount = sum(y[i,j,k] for k in 1:nproc)\n",
    "            arc_emi += amount * distance[!, 2:end][i,j] * EF_trans\n",
    "            arc_seq += arc_emi * (sink_c[j]/emission_c[j] + es_ratio)\n",
    "        end\n",
    "        transD[j] = arc_emi  # ncty*1 matrix\n",
    "        transS[j] = arc_seq  # ncty*1 matrix\n",
    "    end\n",
    "    \n",
    "    EO = proD - proS + transD\n",
    "    return(sum(EO))\n",
    "end\n",
    "    "
   ]
  },
  {
   "cell_type": "code",
   "execution_count": 21,
   "id": "15cb1ec0",
   "metadata": {},
   "outputs": [
    {
     "data": {
      "text/plain": [
       "soc_ss (generic function with 1 method)"
      ]
     },
     "execution_count": 21,
     "metadata": {},
     "output_type": "execute_result"
    }
   ],
   "source": [
    "function soc_ss(x,y)\n",
    "    \n",
    "    proD = (x .* Matrix(regional_EF[:,2:end])) * ones(nproc,1)  # ncty*1 matrix\n",
    "    pro_sink = zeros(ncty, nproc)\n",
    "    for k in 1:nproc\n",
    "        for i in 1:ncty\n",
    "            pro_sink[i,k] = regional_EF[i, k+1] * (sink_c[i]/emission_c[i] + es_ratio)\n",
    "        end\n",
    "    end\n",
    "    proS = (x.*pro_sink)*ones(nproc,1)  # ncty*1 matrix\n",
    "\n",
    "    \n",
    "    transS = Vector{Float64}(undef, ncty)\n",
    "    transD = Vector{Float64}(undef, ncty)\n",
    "    for j in 1:ncty\n",
    "        arc_emi = 0\n",
    "        arc_seq = 0\n",
    "        for i in 1:ncty\n",
    "            amount = sum(y[i,j,k] for k in 1:nproc)\n",
    "            arc_emi += amount * distance[!, 2:end][i,j] * EF_trans\n",
    "            arc_seq += arc_emi * (sink_c[j]/emission_c[j] + es_ratio)\n",
    "        end\n",
    "        transD[j] = arc_emi  # ncty*1 matrix\n",
    "        transS[j] = arc_seq  # ncty*1 matrix\n",
    "    end\n",
    "\n",
    "    \n",
    "    EO = sum(proD - proS + transD) \n",
    "    Allo_soc = proD ./ emission_c .* Dsoc\n",
    "    SS = sum(Allo_soc - (proD + transD));\n",
    "    \n",
    "    return sum(SS)\n",
    "end\n",
    "    "
   ]
  },
  {
   "cell_type": "code",
   "execution_count": 48,
   "id": "76f9c8b7",
   "metadata": {},
   "outputs": [
    {
     "data": {
      "text/plain": [
       "country_EO (generic function with 1 method)"
      ]
     },
     "execution_count": 48,
     "metadata": {},
     "output_type": "execute_result"
    }
   ],
   "source": [
    "function country_EO(x,y)\n",
    "    \n",
    "    proD = (x .* Matrix(regional_EF[:,2:end]))\n",
    "    pro_sink = zeros(ncty, nproc)\n",
    "    for k in 1:nproc\n",
    "        for i in 1:ncty\n",
    "            pro_sink[i,k] = regional_EF[i, k+1] * (sink_c[i]/emission_c[i] + es_ratio)\n",
    "        end\n",
    "    end\n",
    "    proS = x .* pro_sink\n",
    "    \n",
    "    \n",
    "    transD = zeros(ncty, nproc)\n",
    "    for k in 1:nproc\n",
    "        for j in 1:ncty\n",
    "            emi = 0\n",
    "            for i in 1:ncty\n",
    "                emi += y[i,j,k] * distance[!, 2:end][i,j] * EF_trans\n",
    "            end\n",
    "            transD[j,k] = emi\n",
    "        end\n",
    "    end\n",
    "    \n",
    "    \n",
    "    EO = proD - proS + transD\n",
    "    return proD + transD, proS\n",
    "end"
   ]
  },
  {
   "cell_type": "code",
   "execution_count": 56,
   "id": "f14e7ccf",
   "metadata": {},
   "outputs": [
    {
     "data": {
      "text/plain": [
       "31×15 Matrix{Float64}:\n",
       "   1.47952   NaN         NaN        …  NaN        NaN         NaN\n",
       "   1.38012     1.38012   NaN           NaN        NaN         NaN\n",
       "   1.02121   NaN           1.02121     NaN        NaN         NaN\n",
       " NaN           0.645049  NaN           NaN        NaN         NaN\n",
       "   0.476861  NaN         NaN            Inf         0.476861  NaN\n",
       " NaN           2.64607   NaN        …  NaN        NaN         NaN\n",
       " NaN         NaN         NaN           NaN        NaN         NaN\n",
       " NaN           1.24966   NaN           NaN        NaN         NaN\n",
       " NaN           0.520455  NaN           NaN        NaN         NaN\n",
       " NaN         NaN         NaN           NaN        NaN         NaN\n",
       " NaN         NaN         NaN        …  NaN        NaN         NaN\n",
       " NaN         NaN         NaN           NaN        NaN         NaN\n",
       " NaN           1.59091   NaN           NaN        NaN         NaN\n",
       "   ⋮                                ⋱                         \n",
       " NaN         NaN         NaN           NaN        NaN         NaN\n",
       " NaN         NaN         NaN        …  NaN        NaN         NaN\n",
       " NaN           1.48794   NaN           NaN        NaN         NaN\n",
       "   2.02509   NaN         NaN           NaN        NaN         NaN\n",
       " NaN           0.931245  NaN           NaN        NaN         NaN\n",
       " NaN         NaN         NaN           NaN        NaN         NaN\n",
       " NaN         NaN         NaN        …  NaN        NaN         NaN\n",
       "  Inf         Inf         Inf            2.75017   Inf          2.75017\n",
       " NaN           2.63667   NaN           NaN        NaN         NaN\n",
       " NaN         NaN         NaN           NaN        NaN         NaN\n",
       " NaN         NaN         NaN           NaN        NaN         NaN\n",
       "   1.85391   NaN         NaN        …  NaN        NaN          Inf"
      ]
     },
     "execution_count": 56,
     "metadata": {},
     "output_type": "execute_result"
    }
   ],
   "source": [
    "MD, MS = country_EO(ss_x,ss_y)\n",
    "\n",
    "MD ./ MS"
   ]
  },
  {
   "cell_type": "code",
   "execution_count": null,
   "id": "8058b9bf",
   "metadata": {},
   "outputs": [],
   "source": []
  },
  {
   "cell_type": "code",
   "execution_count": null,
   "id": "709e3d26",
   "metadata": {},
   "outputs": [],
   "source": []
  },
  {
   "cell_type": "code",
   "execution_count": null,
   "id": "a264ceb2",
   "metadata": {},
   "outputs": [],
   "source": []
  },
  {
   "cell_type": "code",
   "execution_count": null,
   "id": "035daf8c",
   "metadata": {},
   "outputs": [],
   "source": []
  },
  {
   "cell_type": "code",
   "execution_count": null,
   "id": "9b4a4783",
   "metadata": {},
   "outputs": [],
   "source": []
  },
  {
   "cell_type": "code",
   "execution_count": 75,
   "id": "e3c7ed12",
   "metadata": {},
   "outputs": [
    {
     "data": {
      "text/plain": [
       "country_SS (generic function with 2 methods)"
      ]
     },
     "execution_count": 75,
     "metadata": {},
     "output_type": "execute_result"
    }
   ],
   "source": [
    "function country_SS(x, y, tp=\"consumer\")\n",
    "\n",
    "    proD = (x .* Matrix(regional_EF[:,2:end]))\n",
    "\n",
    "    Allo_soc = proD ./ emission_c .* Dsoc\n",
    "    \n",
    "    transD = zeros(ncty, nproc)\n",
    "    if tp == \"consumer\"\n",
    "        for k in 1:nproc\n",
    "            for j in 1:ncty\n",
    "                emi = 0\n",
    "                for i in 1:ncty\n",
    "                    emi += y[i,j,k] * distance[!, 2:end][i,j] * EF_trans\n",
    "                end\n",
    "                transD[j,k] = emi\n",
    "            end\n",
    "        end\n",
    "    else\n",
    "        for k in 1:nproc\n",
    "            for i in 1:ncty\n",
    "                emi = 0\n",
    "                for j in 1:ncty\n",
    "                    emi += y[i,j,k] * distance[!, 2:end][i,j] * EF_trans\n",
    "                end\n",
    "                transD[i,k] = emi\n",
    "            end\n",
    "        end\n",
    "    end\n",
    "\n",
    "    SS_M = Allo_soc - (proD + transD)\n",
    "\n",
    "    idx = []\n",
    "    for i in 1:ncty\n",
    "        for k in 1:nproc\n",
    "            if SS_M[i,k] > 0\n",
    "                push!(idx, [i,k])\n",
    "            end\n",
    "        end\n",
    "    end\n",
    "    \n",
    "    return Allo_soc, proD, transD, idx\n",
    "    \n",
    "end"
   ]
  },
  {
   "cell_type": "code",
   "execution_count": 76,
   "id": "f56d1a28",
   "metadata": {},
   "outputs": [
    {
     "data": {
      "text/plain": [
       "([452.1201629327902 0.0 … 0.0 0.0; 25.51839008754615 0.0 … 0.0 0.0; … ; 0.0 0.0 … 0.0 0.0; 39.57894736842105 0.0 … 1606.098631111111 59341.11784421052], [14322.0 0.0 … 0.0 0.0; 648.6998153568129 0.0 … 0.0 0.0; … ; 0.0 0.0 … 0.0 0.0; 2115.0 0.0 … 85825.8956 3.1710409847999997e6], [5636.637384463592 0.0 … 0.0 0.0; 398.0680644614152 0.0 … 0.0 0.0; … ; 0.0 0.0 … 0.0 0.0; 0.0 0.0 … 0.0 0.0], Any[])"
      ]
     },
     "execution_count": 76,
     "metadata": {},
     "output_type": "execute_result"
    }
   ],
   "source": [
    "AD1, PD1, TD1, uss1 = country_SS(eo_x, eo_y, \"customer\")"
   ]
  },
  {
   "cell_type": "code",
   "execution_count": 77,
   "id": "d1741d11",
   "metadata": {},
   "outputs": [
    {
     "data": {
      "text/plain": [
       "([452.1201629327902 0.0 … 0.0 0.0; 25.51839008754615 0.0 … 0.0 0.0; … ; 0.0 0.0 … 0.0 0.0; 39.57894736842105 0.0 … 1606.098631111111 59341.11784421052], [14322.0 0.0 … 0.0 0.0; 648.6998153568129 0.0 … 0.0 0.0; … ; 0.0 0.0 … 0.0 0.0; 2115.0 0.0 … 85825.8956 3.1710409847999997e6], [0.0 0.0 … 0.0 0.0; 0.0 0.0 … 0.0 0.0; … ; 0.0 0.0 … 0.0 0.0; 41449.80271397623 85912.76842424828 … 0.0 0.0], Any[])"
      ]
     },
     "execution_count": 77,
     "metadata": {},
     "output_type": "execute_result"
    }
   ],
   "source": [
    "AD2, PD2, TD2, uss2 = country_SS(eo_x, eo_y, \"consumer\")"
   ]
  },
  {
   "cell_type": "code",
   "execution_count": 73,
   "id": "b59897e2",
   "metadata": {},
   "outputs": [
    {
     "data": {
      "text/plain": [
       "31×15 Matrix{Float64}:\n",
       " -19506.5            0.0        …       0.0       0.0   0.0\n",
       "  -1021.25           0.0                0.0       0.0   0.0\n",
       "  -6354.85           0.0                0.0       0.0   0.0\n",
       "  -1190.8           -1.22941e5          0.0       0.0   0.0\n",
       "     -1.2268e5       0.0                0.0       0.0   0.0\n",
       "      0.0            0.0        …       0.0       0.0   0.0\n",
       "      0.0            0.0                0.0       0.0   0.0\n",
       "      0.0           -1.11095e6          0.0       0.0   0.0\n",
       "      0.0       -42679.8                0.0       0.0   0.0\n",
       "      0.0            0.0                0.0       0.0   0.0\n",
       "      0.0            0.0        …       0.0       0.0   0.0\n",
       "      0.0            0.0                0.0       0.0   0.0\n",
       "      0.0            0.0                0.0       0.0   0.0\n",
       "      ⋮                         ⋱                      \n",
       "      0.0            0.0                0.0       0.0   0.0\n",
       "      0.0            0.0        …       0.0       0.0   0.0\n",
       "      0.0            0.0                0.0       0.0   0.0\n",
       "  -1770.29           0.0                0.0       0.0   0.0\n",
       "      0.0           -1.42603e5          0.0       0.0   0.0\n",
       "      0.0            0.0                0.0       0.0   0.0\n",
       "      0.0            0.0        …       0.0       0.0   0.0\n",
       "      0.0            0.0                0.0       0.0   0.0\n",
       "      0.0            0.0                0.0       0.0   0.0\n",
       "      0.0            0.0                0.0       0.0   0.0\n",
       "      0.0            0.0                0.0       0.0   0.0\n",
       "  -2075.42           0.0        …  -61028.3  -84219.8  -3.1117e6"
      ]
     },
     "execution_count": 73,
     "metadata": {},
     "output_type": "execute_result"
    }
   ],
   "source": [
    "AD1 - PD1 -TD1"
   ]
  },
  {
   "cell_type": "code",
   "execution_count": 74,
   "id": "bac2553f",
   "metadata": {},
   "outputs": [
    {
     "data": {
      "text/plain": [
       "31×15 Matrix{Float64}:\n",
       " -13869.9         0.0             0.0        …       0.0       0.0   0.0\n",
       "   -623.181       0.0             0.0                0.0       0.0   0.0\n",
       "  -4722.48        0.0            -1.58479e5          0.0       0.0   0.0\n",
       "  -1069.01       -1.22186e5       0.0                0.0       0.0   0.0\n",
       " -89471.5         0.0             0.0                0.0       0.0   0.0\n",
       "      0.0         0.0             0.0        …       0.0       0.0   0.0\n",
       "      0.0         0.0             0.0                0.0       0.0   0.0\n",
       "      0.0        -1.02955e6       0.0                0.0       0.0   0.0\n",
       "      0.0    -41847.5             0.0                0.0       0.0   0.0\n",
       "      0.0         0.0             0.0                0.0       0.0   0.0\n",
       "      0.0         0.0             0.0        …       0.0       0.0   0.0\n",
       "      0.0         0.0             0.0                0.0       0.0   0.0\n",
       "      0.0         0.0             0.0                0.0       0.0   0.0\n",
       "      ⋮                                      ⋱                      \n",
       "      0.0         0.0             0.0                0.0       0.0   0.0\n",
       "      0.0         0.0        -28682.6        …       0.0       0.0   0.0\n",
       "      0.0         0.0             0.0                0.0       0.0   0.0\n",
       "  -1317.37        0.0             0.0                0.0       0.0   0.0\n",
       "      0.0        -1.39679e5       0.0                0.0       0.0   0.0\n",
       "      0.0         0.0             0.0                0.0       0.0   0.0\n",
       "      0.0         0.0             0.0        …       0.0       0.0   0.0\n",
       "      0.0         0.0             0.0                0.0       0.0   0.0\n",
       "      0.0         0.0             0.0                0.0       0.0   0.0\n",
       "      0.0         0.0             0.0                0.0       0.0   0.0\n",
       "      0.0         0.0             0.0                0.0       0.0   0.0\n",
       " -43525.2    -85912.8        -48611.2        …  -61028.3  -84219.8  -3.1117e6"
      ]
     },
     "execution_count": 74,
     "metadata": {},
     "output_type": "execute_result"
    }
   ],
   "source": [
    "AD2 - PD2 -TD2"
   ]
  },
  {
   "cell_type": "code",
   "execution_count": null,
   "id": "f023d0ea",
   "metadata": {},
   "outputs": [],
   "source": []
  },
  {
   "cell_type": "code",
   "execution_count": null,
   "id": "4f147c06",
   "metadata": {},
   "outputs": [],
   "source": []
  },
  {
   "cell_type": "code",
   "execution_count": null,
   "id": "89050d9e",
   "metadata": {},
   "outputs": [],
   "source": []
  },
  {
   "cell_type": "code",
   "execution_count": null,
   "id": "3f2d4d15",
   "metadata": {},
   "outputs": [],
   "source": []
  },
  {
   "cell_type": "code",
   "execution_count": null,
   "id": "dbec8720",
   "metadata": {},
   "outputs": [],
   "source": []
  },
  {
   "cell_type": "code",
   "execution_count": null,
   "id": "0bedf8a2",
   "metadata": {},
   "outputs": [],
   "source": []
  },
  {
   "cell_type": "code",
   "execution_count": null,
   "id": "f0f16909",
   "metadata": {},
   "outputs": [],
   "source": []
  },
  {
   "cell_type": "code",
   "execution_count": null,
   "id": "f07bcda8",
   "metadata": {},
   "outputs": [],
   "source": []
  },
  {
   "cell_type": "code",
   "execution_count": null,
   "id": "e95e647e",
   "metadata": {},
   "outputs": [],
   "source": []
  },
  {
   "cell_type": "code",
   "execution_count": null,
   "id": "be7c65d7",
   "metadata": {},
   "outputs": [],
   "source": []
  },
  {
   "cell_type": "code",
   "execution_count": 55,
   "id": "4bbd4d49",
   "metadata": {},
   "outputs": [
    {
     "data": {
      "text/plain": [
       "7.671101386127347e6"
      ]
     },
     "execution_count": 55,
     "metadata": {},
     "output_type": "execute_result"
    }
   ],
   "source": [
    "# Obj_EO at sol_soc*\n",
    "\n",
    "EO2 = net_emi(ss_x, ss_y)"
   ]
  },
  {
   "cell_type": "code",
   "execution_count": 56,
   "id": "5d9cbb69",
   "metadata": {},
   "outputs": [
    {
     "data": {
      "text/plain": [
       "-9.16961495628337e6"
      ]
     },
     "execution_count": 56,
     "metadata": {},
     "output_type": "execute_result"
    }
   ],
   "source": [
    "# Obj_SS at sol_eco*\n",
    "\n",
    "SS2 = soc_ss(eo_x, eo_y)"
   ]
  },
  {
   "cell_type": "code",
   "execution_count": 57,
   "id": "7901451f",
   "metadata": {},
   "outputs": [
    {
     "data": {
      "image/svg+xml": [
       "<?xml version=\"1.0\" encoding=\"utf-8\"?>\n",
       "<svg xmlns=\"http://www.w3.org/2000/svg\" xmlns:xlink=\"http://www.w3.org/1999/xlink\" width=\"600\" height=\"400\" viewBox=\"0 0 2400 1600\">\n",
       "<defs>\n",
       "  <clipPath id=\"clip650\">\n",
       "    <rect x=\"0\" y=\"0\" width=\"2400\" height=\"1600\"/>\n",
       "  </clipPath>\n",
       "</defs>\n",
       "<path clip-path=\"url(#clip650)\" d=\"\n",
       "M0 1600 L2400 1600 L2400 0 L0 0  Z\n",
       "  \" fill=\"#ffffff\" fill-rule=\"evenodd\" fill-opacity=\"1\"/>\n",
       "<defs>\n",
       "  <clipPath id=\"clip651\">\n",
       "    <rect x=\"480\" y=\"0\" width=\"1681\" height=\"1600\"/>\n",
       "  </clipPath>\n",
       "</defs>\n",
       "<path clip-path=\"url(#clip650)\" d=\"\n",
       "M405.467 1410.9 L2352.76 1410.9 L2352.76 47.2441 L405.467 47.2441  Z\n",
       "  \" fill=\"#ffffff\" fill-rule=\"evenodd\" fill-opacity=\"1\"/>\n",
       "<defs>\n",
       "  <clipPath id=\"clip652\">\n",
       "    <rect x=\"405\" y=\"47\" width=\"1948\" height=\"1365\"/>\n",
       "  </clipPath>\n",
       "</defs>\n",
       "<polyline clip-path=\"url(#clip652)\" style=\"stroke:#000000; stroke-linecap:round; stroke-linejoin:round; stroke-width:2; stroke-opacity:0.1; fill:none\" points=\"\n",
       "  486.309,1410.9 486.309,47.2441 \n",
       "  \"/>\n",
       "<polyline clip-path=\"url(#clip652)\" style=\"stroke:#000000; stroke-linecap:round; stroke-linejoin:round; stroke-width:2; stroke-opacity:0.1; fill:none\" points=\"\n",
       "  757.829,1410.9 757.829,47.2441 \n",
       "  \"/>\n",
       "<polyline clip-path=\"url(#clip652)\" style=\"stroke:#000000; stroke-linecap:round; stroke-linejoin:round; stroke-width:2; stroke-opacity:0.1; fill:none\" points=\"\n",
       "  1029.35,1410.9 1029.35,47.2441 \n",
       "  \"/>\n",
       "<polyline clip-path=\"url(#clip652)\" style=\"stroke:#000000; stroke-linecap:round; stroke-linejoin:round; stroke-width:2; stroke-opacity:0.1; fill:none\" points=\"\n",
       "  1300.87,1410.9 1300.87,47.2441 \n",
       "  \"/>\n",
       "<polyline clip-path=\"url(#clip652)\" style=\"stroke:#000000; stroke-linecap:round; stroke-linejoin:round; stroke-width:2; stroke-opacity:0.1; fill:none\" points=\"\n",
       "  1572.39,1410.9 1572.39,47.2441 \n",
       "  \"/>\n",
       "<polyline clip-path=\"url(#clip652)\" style=\"stroke:#000000; stroke-linecap:round; stroke-linejoin:round; stroke-width:2; stroke-opacity:0.1; fill:none\" points=\"\n",
       "  1843.91,1410.9 1843.91,47.2441 \n",
       "  \"/>\n",
       "<polyline clip-path=\"url(#clip652)\" style=\"stroke:#000000; stroke-linecap:round; stroke-linejoin:round; stroke-width:2; stroke-opacity:0.1; fill:none\" points=\"\n",
       "  2115.43,1410.9 2115.43,47.2441 \n",
       "  \"/>\n",
       "<polyline clip-path=\"url(#clip650)\" style=\"stroke:#000000; stroke-linecap:round; stroke-linejoin:round; stroke-width:4; stroke-opacity:1; fill:none\" points=\"\n",
       "  405.467,1410.9 2352.76,1410.9 \n",
       "  \"/>\n",
       "<polyline clip-path=\"url(#clip650)\" style=\"stroke:#000000; stroke-linecap:round; stroke-linejoin:round; stroke-width:4; stroke-opacity:1; fill:none\" points=\"\n",
       "  486.309,1410.9 486.309,1392 \n",
       "  \"/>\n",
       "<polyline clip-path=\"url(#clip650)\" style=\"stroke:#000000; stroke-linecap:round; stroke-linejoin:round; stroke-width:4; stroke-opacity:1; fill:none\" points=\"\n",
       "  757.829,1410.9 757.829,1392 \n",
       "  \"/>\n",
       "<polyline clip-path=\"url(#clip650)\" style=\"stroke:#000000; stroke-linecap:round; stroke-linejoin:round; stroke-width:4; stroke-opacity:1; fill:none\" points=\"\n",
       "  1029.35,1410.9 1029.35,1392 \n",
       "  \"/>\n",
       "<polyline clip-path=\"url(#clip650)\" style=\"stroke:#000000; stroke-linecap:round; stroke-linejoin:round; stroke-width:4; stroke-opacity:1; fill:none\" points=\"\n",
       "  1300.87,1410.9 1300.87,1392 \n",
       "  \"/>\n",
       "<polyline clip-path=\"url(#clip650)\" style=\"stroke:#000000; stroke-linecap:round; stroke-linejoin:round; stroke-width:4; stroke-opacity:1; fill:none\" points=\"\n",
       "  1572.39,1410.9 1572.39,1392 \n",
       "  \"/>\n",
       "<polyline clip-path=\"url(#clip650)\" style=\"stroke:#000000; stroke-linecap:round; stroke-linejoin:round; stroke-width:4; stroke-opacity:1; fill:none\" points=\"\n",
       "  1843.91,1410.9 1843.91,1392 \n",
       "  \"/>\n",
       "<polyline clip-path=\"url(#clip650)\" style=\"stroke:#000000; stroke-linecap:round; stroke-linejoin:round; stroke-width:4; stroke-opacity:1; fill:none\" points=\"\n",
       "  2115.43,1410.9 2115.43,1392 \n",
       "  \"/>\n",
       "<path clip-path=\"url(#clip650)\" d=\"M393.744 1485.02 L401.383 1485.02 L401.383 1458.66 L393.072 1460.32 L393.072 1456.06 L401.336 1454.4 L406.012 1454.4 L406.012 1485.02 L413.651 1485.02 L413.651 1488.96 L393.744 1488.96 L393.744 1485.02 Z\" fill=\"#000000\" fill-rule=\"evenodd\" fill-opacity=\"1\" /><path clip-path=\"url(#clip650)\" d=\"M423.095 1483.08 L427.98 1483.08 L427.98 1488.96 L423.095 1488.96 L423.095 1483.08 Z\" fill=\"#000000\" fill-rule=\"evenodd\" fill-opacity=\"1\" /><path clip-path=\"url(#clip650)\" d=\"M448.165 1457.48 Q444.554 1457.48 442.725 1461.04 Q440.919 1464.58 440.919 1471.71 Q440.919 1478.82 442.725 1482.38 Q444.554 1485.92 448.165 1485.92 Q451.799 1485.92 453.604 1482.38 Q455.433 1478.82 455.433 1471.71 Q455.433 1464.58 453.604 1461.04 Q451.799 1457.48 448.165 1457.48 M448.165 1453.77 Q453.975 1453.77 457.03 1458.38 Q460.109 1462.96 460.109 1471.71 Q460.109 1480.44 457.03 1485.04 Q453.975 1489.63 448.165 1489.63 Q442.355 1489.63 439.276 1485.04 Q436.22 1480.44 436.22 1471.71 Q436.22 1462.96 439.276 1458.38 Q442.355 1453.77 448.165 1453.77 Z\" fill=\"#000000\" fill-rule=\"evenodd\" fill-opacity=\"1\" /><path clip-path=\"url(#clip650)\" d=\"M496.498 1463.49 L485.919 1474.12 L496.498 1484.7 L493.743 1487.5 L483.118 1476.87 L472.493 1487.5 L469.762 1484.7 L480.317 1474.12 L469.762 1463.49 L472.493 1460.69 L483.118 1471.32 L493.743 1460.69 L496.498 1463.49 Z\" fill=\"#000000\" fill-rule=\"evenodd\" fill-opacity=\"1\" /><path clip-path=\"url(#clip650)\" d=\"M508.859 1485.02 L516.498 1485.02 L516.498 1458.66 L508.188 1460.32 L508.188 1456.06 L516.451 1454.4 L521.127 1454.4 L521.127 1485.02 L528.766 1485.02 L528.766 1488.96 L508.859 1488.96 L508.859 1485.02 Z\" fill=\"#000000\" fill-rule=\"evenodd\" fill-opacity=\"1\" /><path clip-path=\"url(#clip650)\" d=\"M548.21 1457.48 Q544.599 1457.48 542.771 1461.04 Q540.965 1464.58 540.965 1471.71 Q540.965 1478.82 542.771 1482.38 Q544.599 1485.92 548.21 1485.92 Q551.845 1485.92 553.65 1482.38 Q555.479 1478.82 555.479 1471.71 Q555.479 1464.58 553.65 1461.04 Q551.845 1457.48 548.21 1457.48 M548.21 1453.77 Q554.021 1453.77 557.076 1458.38 Q560.155 1462.96 560.155 1471.71 Q560.155 1480.44 557.076 1485.04 Q554.021 1489.63 548.21 1489.63 Q542.4 1489.63 539.322 1485.04 Q536.266 1480.44 536.266 1471.71 Q536.266 1462.96 539.322 1458.38 Q542.4 1453.77 548.21 1453.77 Z\" fill=\"#000000\" fill-rule=\"evenodd\" fill-opacity=\"1\" /><path clip-path=\"url(#clip650)\" d=\"M570.179 1445.99 Q567.622 1445.99 566.117 1447.74 Q564.631 1449.49 564.631 1452.54 Q564.631 1455.57 566.117 1457.33 Q567.622 1459.08 570.179 1459.08 Q572.737 1459.08 574.223 1457.33 Q575.728 1455.57 575.728 1452.54 Q575.728 1449.49 574.223 1447.74 Q572.737 1445.99 570.179 1445.99 M577.721 1434.09 L577.721 1437.55 Q576.292 1436.87 574.825 1436.51 Q573.377 1436.16 571.947 1436.16 Q568.186 1436.16 566.192 1438.69 Q564.217 1441.23 563.935 1446.37 Q565.045 1444.73 566.719 1443.87 Q568.393 1442.98 570.405 1442.98 Q574.637 1442.98 577.082 1445.56 Q579.546 1448.12 579.546 1452.54 Q579.546 1456.86 576.988 1459.48 Q574.43 1462.09 570.179 1462.09 Q565.308 1462.09 562.732 1458.37 Q560.155 1454.62 560.155 1447.53 Q560.155 1440.88 563.315 1436.93 Q566.474 1432.96 571.797 1432.96 Q573.226 1432.96 574.674 1433.24 Q576.141 1433.52 577.721 1434.09 Z\" fill=\"#000000\" fill-rule=\"evenodd\" fill-opacity=\"1\" /><path clip-path=\"url(#clip650)\" d=\"M669.349 1485.02 L685.668 1485.02 L685.668 1488.96 L663.724 1488.96 L663.724 1485.02 Q666.386 1482.27 670.969 1477.64 Q675.576 1472.98 676.756 1471.64 Q679.002 1469.12 679.881 1467.38 Q680.784 1465.62 680.784 1463.93 Q680.784 1461.18 678.84 1459.44 Q676.918 1457.71 673.817 1457.71 Q671.617 1457.71 669.164 1458.47 Q666.733 1459.23 663.955 1460.79 L663.955 1456.06 Q666.78 1454.93 669.233 1454.35 Q671.687 1453.77 673.724 1453.77 Q679.094 1453.77 682.289 1456.46 Q685.483 1459.14 685.483 1463.63 Q685.483 1465.76 684.673 1467.68 Q683.886 1469.58 681.779 1472.17 Q681.201 1472.85 678.099 1476.06 Q674.997 1479.26 669.349 1485.02 Z\" fill=\"#000000\" fill-rule=\"evenodd\" fill-opacity=\"1\" /><path clip-path=\"url(#clip650)\" d=\"M695.483 1483.08 L700.367 1483.08 L700.367 1488.96 L695.483 1488.96 L695.483 1483.08 Z\" fill=\"#000000\" fill-rule=\"evenodd\" fill-opacity=\"1\" /><path clip-path=\"url(#clip650)\" d=\"M720.552 1457.48 Q716.941 1457.48 715.113 1461.04 Q713.307 1464.58 713.307 1471.71 Q713.307 1478.82 715.113 1482.38 Q716.941 1485.92 720.552 1485.92 Q724.187 1485.92 725.992 1482.38 Q727.821 1478.82 727.821 1471.71 Q727.821 1464.58 725.992 1461.04 Q724.187 1457.48 720.552 1457.48 M720.552 1453.77 Q726.363 1453.77 729.418 1458.38 Q732.497 1462.96 732.497 1471.71 Q732.497 1480.44 729.418 1485.04 Q726.363 1489.63 720.552 1489.63 Q714.742 1489.63 711.664 1485.04 Q708.608 1480.44 708.608 1471.71 Q708.608 1462.96 711.664 1458.38 Q714.742 1453.77 720.552 1453.77 Z\" fill=\"#000000\" fill-rule=\"evenodd\" fill-opacity=\"1\" /><path clip-path=\"url(#clip650)\" d=\"M768.885 1463.49 L758.307 1474.12 L768.885 1484.7 L766.131 1487.5 L755.506 1476.87 L744.881 1487.5 L742.149 1484.7 L752.705 1474.12 L742.149 1463.49 L744.881 1460.69 L755.506 1471.32 L766.131 1460.69 L768.885 1463.49 Z\" fill=\"#000000\" fill-rule=\"evenodd\" fill-opacity=\"1\" /><path clip-path=\"url(#clip650)\" d=\"M781.247 1485.02 L788.885 1485.02 L788.885 1458.66 L780.575 1460.32 L780.575 1456.06 L788.839 1454.4 L793.515 1454.4 L793.515 1485.02 L801.154 1485.02 L801.154 1488.96 L781.247 1488.96 L781.247 1485.02 Z\" fill=\"#000000\" fill-rule=\"evenodd\" fill-opacity=\"1\" /><path clip-path=\"url(#clip650)\" d=\"M820.598 1457.48 Q816.987 1457.48 815.158 1461.04 Q813.353 1464.58 813.353 1471.71 Q813.353 1478.82 815.158 1482.38 Q816.987 1485.92 820.598 1485.92 Q824.232 1485.92 826.038 1482.38 Q827.867 1478.82 827.867 1471.71 Q827.867 1464.58 826.038 1461.04 Q824.232 1457.48 820.598 1457.48 M820.598 1453.77 Q826.408 1453.77 829.464 1458.38 Q832.543 1462.96 832.543 1471.71 Q832.543 1480.44 829.464 1485.04 Q826.408 1489.63 820.598 1489.63 Q814.788 1489.63 811.709 1485.04 Q808.654 1480.44 808.654 1471.71 Q808.654 1462.96 811.709 1458.38 Q814.788 1453.77 820.598 1453.77 Z\" fill=\"#000000\" fill-rule=\"evenodd\" fill-opacity=\"1\" /><path clip-path=\"url(#clip650)\" d=\"M842.567 1445.99 Q840.009 1445.99 838.505 1447.74 Q837.019 1449.49 837.019 1452.54 Q837.019 1455.57 838.505 1457.33 Q840.009 1459.08 842.567 1459.08 Q845.125 1459.08 846.611 1457.33 Q848.115 1455.57 848.115 1452.54 Q848.115 1449.49 846.611 1447.74 Q845.125 1445.99 842.567 1445.99 M850.109 1434.09 L850.109 1437.55 Q848.68 1436.87 847.213 1436.51 Q845.764 1436.16 844.335 1436.16 Q840.573 1436.16 838.58 1438.69 Q836.605 1441.23 836.323 1446.37 Q837.433 1444.73 839.106 1443.87 Q840.78 1442.98 842.793 1442.98 Q847.025 1442.98 849.47 1445.56 Q851.933 1448.12 851.933 1452.54 Q851.933 1456.86 849.375 1459.48 Q846.818 1462.09 842.567 1462.09 Q837.696 1462.09 835.119 1458.37 Q832.543 1454.62 832.543 1447.53 Q832.543 1440.88 835.702 1436.93 Q838.862 1432.96 844.185 1432.96 Q845.614 1432.96 847.062 1433.24 Q848.529 1433.52 850.109 1434.09 Z\" fill=\"#000000\" fill-rule=\"evenodd\" fill-opacity=\"1\" /><path clip-path=\"url(#clip650)\" d=\"M950.938 1470.32 Q954.294 1471.04 956.169 1473.31 Q958.068 1475.58 958.068 1478.91 Q958.068 1484.03 954.549 1486.83 Q951.031 1489.63 944.549 1489.63 Q942.373 1489.63 940.058 1489.19 Q937.767 1488.77 935.313 1487.91 L935.313 1483.4 Q937.257 1484.54 939.572 1485.11 Q941.887 1485.69 944.41 1485.69 Q948.808 1485.69 951.1 1483.96 Q953.415 1482.22 953.415 1478.91 Q953.415 1475.85 951.262 1474.14 Q949.132 1472.41 945.313 1472.41 L941.285 1472.41 L941.285 1468.56 L945.498 1468.56 Q948.947 1468.56 950.776 1467.2 Q952.605 1465.81 952.605 1463.22 Q952.605 1460.55 950.706 1459.14 Q948.831 1457.71 945.313 1457.71 Q943.392 1457.71 941.193 1458.12 Q938.994 1458.54 936.355 1459.42 L936.355 1455.25 Q939.017 1454.51 941.332 1454.14 Q943.669 1453.77 945.73 1453.77 Q951.054 1453.77 954.156 1456.2 Q957.257 1458.61 957.257 1462.73 Q957.257 1465.6 955.614 1467.59 Q953.97 1469.56 950.938 1470.32 Z\" fill=\"#000000\" fill-rule=\"evenodd\" fill-opacity=\"1\" /><path clip-path=\"url(#clip650)\" d=\"M966.933 1483.08 L971.817 1483.08 L971.817 1488.96 L966.933 1488.96 L966.933 1483.08 Z\" fill=\"#000000\" fill-rule=\"evenodd\" fill-opacity=\"1\" /><path clip-path=\"url(#clip650)\" d=\"M992.003 1457.48 Q988.391 1457.48 986.563 1461.04 Q984.757 1464.58 984.757 1471.71 Q984.757 1478.82 986.563 1482.38 Q988.391 1485.92 992.003 1485.92 Q995.637 1485.92 997.442 1482.38 Q999.271 1478.82 999.271 1471.71 Q999.271 1464.58 997.442 1461.04 Q995.637 1457.48 992.003 1457.48 M992.003 1453.77 Q997.813 1453.77 1000.87 1458.38 Q1003.95 1462.96 1003.95 1471.71 Q1003.95 1480.44 1000.87 1485.04 Q997.813 1489.63 992.003 1489.63 Q986.192 1489.63 983.114 1485.04 Q980.058 1480.44 980.058 1471.71 Q980.058 1462.96 983.114 1458.38 Q986.192 1453.77 992.003 1453.77 Z\" fill=\"#000000\" fill-rule=\"evenodd\" fill-opacity=\"1\" /><path clip-path=\"url(#clip650)\" d=\"M1040.34 1463.49 L1029.76 1474.12 L1040.34 1484.7 L1037.58 1487.5 L1026.96 1476.87 L1016.33 1487.5 L1013.6 1484.7 L1024.16 1474.12 L1013.6 1463.49 L1016.33 1460.69 L1026.96 1471.32 L1037.58 1460.69 L1040.34 1463.49 Z\" fill=\"#000000\" fill-rule=\"evenodd\" fill-opacity=\"1\" /><path clip-path=\"url(#clip650)\" d=\"M1052.7 1485.02 L1060.34 1485.02 L1060.34 1458.66 L1052.03 1460.32 L1052.03 1456.06 L1060.29 1454.4 L1064.97 1454.4 L1064.97 1485.02 L1072.6 1485.02 L1072.6 1488.96 L1052.7 1488.96 L1052.7 1485.02 Z\" fill=\"#000000\" fill-rule=\"evenodd\" fill-opacity=\"1\" /><path clip-path=\"url(#clip650)\" d=\"M1092.05 1457.48 Q1088.44 1457.48 1086.61 1461.04 Q1084.8 1464.58 1084.8 1471.71 Q1084.8 1478.82 1086.61 1482.38 Q1088.44 1485.92 1092.05 1485.92 Q1095.68 1485.92 1097.49 1482.38 Q1099.32 1478.82 1099.32 1471.71 Q1099.32 1464.58 1097.49 1461.04 Q1095.68 1457.48 1092.05 1457.48 M1092.05 1453.77 Q1097.86 1453.77 1100.91 1458.38 Q1103.99 1462.96 1103.99 1471.71 Q1103.99 1480.44 1100.91 1485.04 Q1097.86 1489.63 1092.05 1489.63 Q1086.24 1489.63 1083.16 1485.04 Q1080.1 1480.44 1080.1 1471.71 Q1080.1 1462.96 1083.16 1458.38 Q1086.24 1453.77 1092.05 1453.77 Z\" fill=\"#000000\" fill-rule=\"evenodd\" fill-opacity=\"1\" /><path clip-path=\"url(#clip650)\" d=\"M1114.02 1445.99 Q1111.46 1445.99 1109.95 1447.74 Q1108.47 1449.49 1108.47 1452.54 Q1108.47 1455.57 1109.95 1457.33 Q1111.46 1459.08 1114.02 1459.08 Q1116.58 1459.08 1118.06 1457.33 Q1119.57 1455.57 1119.57 1452.54 Q1119.57 1449.49 1118.06 1447.74 Q1116.58 1445.99 1114.02 1445.99 M1121.56 1434.09 L1121.56 1437.55 Q1120.13 1436.87 1118.66 1436.51 Q1117.21 1436.16 1115.79 1436.16 Q1112.02 1436.16 1110.03 1438.69 Q1108.06 1441.23 1107.77 1446.37 Q1108.88 1444.73 1110.56 1443.87 Q1112.23 1442.98 1114.24 1442.98 Q1118.47 1442.98 1120.92 1445.56 Q1123.38 1448.12 1123.38 1452.54 Q1123.38 1456.86 1120.83 1459.48 Q1118.27 1462.09 1114.02 1462.09 Q1109.15 1462.09 1106.57 1458.37 Q1103.99 1454.62 1103.99 1447.53 Q1103.99 1440.88 1107.15 1436.93 Q1110.31 1432.96 1115.63 1432.96 Q1117.06 1432.96 1118.51 1433.24 Q1119.98 1433.52 1121.56 1434.09 Z\" fill=\"#000000\" fill-rule=\"evenodd\" fill-opacity=\"1\" /><path clip-path=\"url(#clip650)\" d=\"M1221.79 1458.47 L1209.98 1476.92 L1221.79 1476.92 L1221.79 1458.47 M1220.56 1454.4 L1226.44 1454.4 L1226.44 1476.92 L1231.37 1476.92 L1231.37 1480.81 L1226.44 1480.81 L1226.44 1488.96 L1221.79 1488.96 L1221.79 1480.81 L1206.18 1480.81 L1206.18 1476.29 L1220.56 1454.4 Z\" fill=\"#000000\" fill-rule=\"evenodd\" fill-opacity=\"1\" /><path clip-path=\"url(#clip650)\" d=\"M1239.1 1483.08 L1243.99 1483.08 L1243.99 1488.96 L1239.1 1488.96 L1239.1 1483.08 Z\" fill=\"#000000\" fill-rule=\"evenodd\" fill-opacity=\"1\" /><path clip-path=\"url(#clip650)\" d=\"M1264.17 1457.48 Q1260.56 1457.48 1258.73 1461.04 Q1256.92 1464.58 1256.92 1471.71 Q1256.92 1478.82 1258.73 1482.38 Q1260.56 1485.92 1264.17 1485.92 Q1267.8 1485.92 1269.61 1482.38 Q1271.44 1478.82 1271.44 1471.71 Q1271.44 1464.58 1269.61 1461.04 Q1267.8 1457.48 1264.17 1457.48 M1264.17 1453.77 Q1269.98 1453.77 1273.04 1458.38 Q1276.11 1462.96 1276.11 1471.71 Q1276.11 1480.44 1273.04 1485.04 Q1269.98 1489.63 1264.17 1489.63 Q1258.36 1489.63 1255.28 1485.04 Q1252.23 1480.44 1252.23 1471.71 Q1252.23 1462.96 1255.28 1458.38 Q1258.36 1453.77 1264.17 1453.77 Z\" fill=\"#000000\" fill-rule=\"evenodd\" fill-opacity=\"1\" /><path clip-path=\"url(#clip650)\" d=\"M1312.5 1463.49 L1301.92 1474.12 L1312.5 1484.7 L1309.75 1487.5 L1299.12 1476.87 L1288.5 1487.5 L1285.77 1484.7 L1296.32 1474.12 L1285.77 1463.49 L1288.5 1460.69 L1299.12 1471.32 L1309.75 1460.69 L1312.5 1463.49 Z\" fill=\"#000000\" fill-rule=\"evenodd\" fill-opacity=\"1\" /><path clip-path=\"url(#clip650)\" d=\"M1324.86 1485.02 L1332.5 1485.02 L1332.5 1458.66 L1324.19 1460.32 L1324.19 1456.06 L1332.46 1454.4 L1337.13 1454.4 L1337.13 1485.02 L1344.77 1485.02 L1344.77 1488.96 L1324.86 1488.96 L1324.86 1485.02 Z\" fill=\"#000000\" fill-rule=\"evenodd\" fill-opacity=\"1\" /><path clip-path=\"url(#clip650)\" d=\"M1364.22 1457.48 Q1360.6 1457.48 1358.78 1461.04 Q1356.97 1464.58 1356.97 1471.71 Q1356.97 1478.82 1358.78 1482.38 Q1360.6 1485.92 1364.22 1485.92 Q1367.85 1485.92 1369.66 1482.38 Q1371.48 1478.82 1371.48 1471.71 Q1371.48 1464.58 1369.66 1461.04 Q1367.85 1457.48 1364.22 1457.48 M1364.22 1453.77 Q1370.03 1453.77 1373.08 1458.38 Q1376.16 1462.96 1376.16 1471.71 Q1376.16 1480.44 1373.08 1485.04 Q1370.03 1489.63 1364.22 1489.63 Q1358.41 1489.63 1355.33 1485.04 Q1352.27 1480.44 1352.27 1471.71 Q1352.27 1462.96 1355.33 1458.38 Q1358.41 1453.77 1364.22 1453.77 Z\" fill=\"#000000\" fill-rule=\"evenodd\" fill-opacity=\"1\" /><path clip-path=\"url(#clip650)\" d=\"M1386.19 1445.99 Q1383.63 1445.99 1382.12 1447.74 Q1380.64 1449.49 1380.64 1452.54 Q1380.64 1455.57 1382.12 1457.33 Q1383.63 1459.08 1386.19 1459.08 Q1388.74 1459.08 1390.23 1457.33 Q1391.73 1455.57 1391.73 1452.54 Q1391.73 1449.49 1390.23 1447.74 Q1388.74 1445.99 1386.19 1445.99 M1393.73 1434.09 L1393.73 1437.55 Q1392.3 1436.87 1390.83 1436.51 Q1389.38 1436.16 1387.95 1436.16 Q1384.19 1436.16 1382.2 1438.69 Q1380.22 1441.23 1379.94 1446.37 Q1381.05 1444.73 1382.72 1443.87 Q1384.4 1442.98 1386.41 1442.98 Q1390.64 1442.98 1393.09 1445.56 Q1395.55 1448.12 1395.55 1452.54 Q1395.55 1456.86 1392.99 1459.48 Q1390.44 1462.09 1386.19 1462.09 Q1381.31 1462.09 1378.74 1458.37 Q1376.16 1454.62 1376.16 1447.53 Q1376.16 1440.88 1379.32 1436.93 Q1382.48 1432.96 1387.8 1432.96 Q1389.23 1432.96 1390.68 1433.24 Q1392.15 1433.52 1393.73 1434.09 Z\" fill=\"#000000\" fill-rule=\"evenodd\" fill-opacity=\"1\" /><path clip-path=\"url(#clip650)\" d=\"M1479.83 1454.4 L1498.19 1454.4 L1498.19 1458.33 L1484.12 1458.33 L1484.12 1466.8 Q1485.13 1466.46 1486.15 1466.29 Q1487.17 1466.11 1488.19 1466.11 Q1493.98 1466.11 1497.36 1469.28 Q1500.74 1472.45 1500.74 1477.87 Q1500.74 1483.45 1497.26 1486.55 Q1493.79 1489.63 1487.47 1489.63 Q1485.3 1489.63 1483.03 1489.26 Q1480.78 1488.89 1478.38 1488.15 L1478.38 1483.45 Q1480.46 1484.58 1482.68 1485.14 Q1484.9 1485.69 1487.38 1485.69 Q1491.38 1485.69 1493.72 1483.59 Q1496.06 1481.48 1496.06 1477.87 Q1496.06 1474.26 1493.72 1472.15 Q1491.38 1470.04 1487.38 1470.04 Q1485.51 1470.04 1483.63 1470.46 Q1481.78 1470.88 1479.83 1471.76 L1479.83 1454.4 Z\" fill=\"#000000\" fill-rule=\"evenodd\" fill-opacity=\"1\" /><path clip-path=\"url(#clip650)\" d=\"M1509.95 1483.08 L1514.83 1483.08 L1514.83 1488.96 L1509.95 1488.96 L1509.95 1483.08 Z\" fill=\"#000000\" fill-rule=\"evenodd\" fill-opacity=\"1\" /><path clip-path=\"url(#clip650)\" d=\"M1535.02 1457.48 Q1531.41 1457.48 1529.58 1461.04 Q1527.77 1464.58 1527.77 1471.71 Q1527.77 1478.82 1529.58 1482.38 Q1531.41 1485.92 1535.02 1485.92 Q1538.65 1485.92 1540.46 1482.38 Q1542.29 1478.82 1542.29 1471.71 Q1542.29 1464.58 1540.46 1461.04 Q1538.65 1457.48 1535.02 1457.48 M1535.02 1453.77 Q1540.83 1453.77 1543.88 1458.38 Q1546.96 1462.96 1546.96 1471.71 Q1546.96 1480.44 1543.88 1485.04 Q1540.83 1489.63 1535.02 1489.63 Q1529.21 1489.63 1526.13 1485.04 Q1523.07 1480.44 1523.07 1471.71 Q1523.07 1462.96 1526.13 1458.38 Q1529.21 1453.77 1535.02 1453.77 Z\" fill=\"#000000\" fill-rule=\"evenodd\" fill-opacity=\"1\" /><path clip-path=\"url(#clip650)\" d=\"M1583.35 1463.49 L1572.77 1474.12 L1583.35 1484.7 L1580.6 1487.5 L1569.97 1476.87 L1559.35 1487.5 L1556.62 1484.7 L1567.17 1474.12 L1556.62 1463.49 L1559.35 1460.69 L1569.97 1471.32 L1580.6 1460.69 L1583.35 1463.49 Z\" fill=\"#000000\" fill-rule=\"evenodd\" fill-opacity=\"1\" /><path clip-path=\"url(#clip650)\" d=\"M1595.71 1485.02 L1603.35 1485.02 L1603.35 1458.66 L1595.04 1460.32 L1595.04 1456.06 L1603.31 1454.4 L1607.98 1454.4 L1607.98 1485.02 L1615.62 1485.02 L1615.62 1488.96 L1595.71 1488.96 L1595.71 1485.02 Z\" fill=\"#000000\" fill-rule=\"evenodd\" fill-opacity=\"1\" /><path clip-path=\"url(#clip650)\" d=\"M1635.06 1457.48 Q1631.45 1457.48 1629.62 1461.04 Q1627.82 1464.58 1627.82 1471.71 Q1627.82 1478.82 1629.62 1482.38 Q1631.45 1485.92 1635.06 1485.92 Q1638.7 1485.92 1640.5 1482.38 Q1642.33 1478.82 1642.33 1471.71 Q1642.33 1464.58 1640.5 1461.04 Q1638.7 1457.48 1635.06 1457.48 M1635.06 1453.77 Q1640.87 1453.77 1643.93 1458.38 Q1647.01 1462.96 1647.01 1471.71 Q1647.01 1480.44 1643.93 1485.04 Q1640.87 1489.63 1635.06 1489.63 Q1629.25 1489.63 1626.18 1485.04 Q1623.12 1480.44 1623.12 1471.71 Q1623.12 1462.96 1626.18 1458.38 Q1629.25 1453.77 1635.06 1453.77 Z\" fill=\"#000000\" fill-rule=\"evenodd\" fill-opacity=\"1\" /><path clip-path=\"url(#clip650)\" d=\"M1657.03 1445.99 Q1654.48 1445.99 1652.97 1447.74 Q1651.49 1449.49 1651.49 1452.54 Q1651.49 1455.57 1652.97 1457.33 Q1654.48 1459.08 1657.03 1459.08 Q1659.59 1459.08 1661.08 1457.33 Q1662.58 1455.57 1662.58 1452.54 Q1662.58 1449.49 1661.08 1447.74 Q1659.59 1445.99 1657.03 1445.99 M1664.58 1434.09 L1664.58 1437.55 Q1663.15 1436.87 1661.68 1436.51 Q1660.23 1436.16 1658.8 1436.16 Q1655.04 1436.16 1653.05 1438.69 Q1651.07 1441.23 1650.79 1446.37 Q1651.9 1444.73 1653.57 1443.87 Q1655.25 1442.98 1657.26 1442.98 Q1661.49 1442.98 1663.94 1445.56 Q1666.4 1448.12 1666.4 1452.54 Q1666.4 1456.86 1663.84 1459.48 Q1661.28 1462.09 1657.03 1462.09 Q1652.16 1462.09 1649.59 1458.37 Q1647.01 1454.62 1647.01 1447.53 Q1647.01 1440.88 1650.17 1436.93 Q1653.33 1432.96 1658.65 1432.96 Q1660.08 1432.96 1661.53 1433.24 Q1663 1433.52 1664.58 1434.09 Z\" fill=\"#000000\" fill-rule=\"evenodd\" fill-opacity=\"1\" /><path clip-path=\"url(#clip650)\" d=\"M1762.06 1469.81 Q1758.91 1469.81 1757.06 1471.97 Q1755.23 1474.12 1755.23 1477.87 Q1755.23 1481.6 1757.06 1483.77 Q1758.91 1485.92 1762.06 1485.92 Q1765.21 1485.92 1767.04 1483.77 Q1768.89 1481.6 1768.89 1477.87 Q1768.89 1474.12 1767.04 1471.97 Q1765.21 1469.81 1762.06 1469.81 M1771.34 1455.16 L1771.34 1459.42 Q1769.58 1458.59 1767.78 1458.15 Q1765.99 1457.71 1764.24 1457.71 Q1759.61 1457.71 1757.15 1460.83 Q1754.72 1463.96 1754.37 1470.28 Q1755.74 1468.26 1757.8 1467.2 Q1759.86 1466.11 1762.34 1466.11 Q1767.55 1466.11 1770.55 1469.28 Q1773.59 1472.43 1773.59 1477.87 Q1773.59 1483.19 1770.44 1486.41 Q1767.29 1489.63 1762.06 1489.63 Q1756.06 1489.63 1752.89 1485.04 Q1749.72 1480.44 1749.72 1471.71 Q1749.72 1463.52 1753.61 1458.66 Q1757.5 1453.77 1764.05 1453.77 Q1765.81 1453.77 1767.59 1454.12 Q1769.4 1454.47 1771.34 1455.16 Z\" fill=\"#000000\" fill-rule=\"evenodd\" fill-opacity=\"1\" /><path clip-path=\"url(#clip650)\" d=\"M1781.64 1483.08 L1786.53 1483.08 L1786.53 1488.96 L1781.64 1488.96 L1781.64 1483.08 Z\" fill=\"#000000\" fill-rule=\"evenodd\" fill-opacity=\"1\" /><path clip-path=\"url(#clip650)\" d=\"M1806.71 1457.48 Q1803.1 1457.48 1801.27 1461.04 Q1799.47 1464.58 1799.47 1471.71 Q1799.47 1478.82 1801.27 1482.38 Q1803.1 1485.92 1806.71 1485.92 Q1810.35 1485.92 1812.15 1482.38 Q1813.98 1478.82 1813.98 1471.71 Q1813.98 1464.58 1812.15 1461.04 Q1810.35 1457.48 1806.71 1457.48 M1806.71 1453.77 Q1812.52 1453.77 1815.58 1458.38 Q1818.66 1462.96 1818.66 1471.71 Q1818.66 1480.44 1815.58 1485.04 Q1812.52 1489.63 1806.71 1489.63 Q1800.9 1489.63 1797.82 1485.04 Q1794.77 1480.44 1794.77 1471.71 Q1794.77 1462.96 1797.82 1458.38 Q1800.9 1453.77 1806.71 1453.77 Z\" fill=\"#000000\" fill-rule=\"evenodd\" fill-opacity=\"1\" /><path clip-path=\"url(#clip650)\" d=\"M1855.04 1463.49 L1844.47 1474.12 L1855.04 1484.7 L1852.29 1487.5 L1841.67 1476.87 L1831.04 1487.5 L1828.31 1484.7 L1838.86 1474.12 L1828.31 1463.49 L1831.04 1460.69 L1841.67 1471.32 L1852.29 1460.69 L1855.04 1463.49 Z\" fill=\"#000000\" fill-rule=\"evenodd\" fill-opacity=\"1\" /><path clip-path=\"url(#clip650)\" d=\"M1867.41 1485.02 L1875.04 1485.02 L1875.04 1458.66 L1866.73 1460.32 L1866.73 1456.06 L1875 1454.4 L1879.67 1454.4 L1879.67 1485.02 L1887.31 1485.02 L1887.31 1488.96 L1867.41 1488.96 L1867.41 1485.02 Z\" fill=\"#000000\" fill-rule=\"evenodd\" fill-opacity=\"1\" /><path clip-path=\"url(#clip650)\" d=\"M1906.76 1457.48 Q1903.15 1457.48 1901.32 1461.04 Q1899.51 1464.58 1899.51 1471.71 Q1899.51 1478.82 1901.32 1482.38 Q1903.15 1485.92 1906.76 1485.92 Q1910.39 1485.92 1912.2 1482.38 Q1914.03 1478.82 1914.03 1471.71 Q1914.03 1464.58 1912.2 1461.04 Q1910.39 1457.48 1906.76 1457.48 M1906.76 1453.77 Q1912.57 1453.77 1915.62 1458.38 Q1918.7 1462.96 1918.7 1471.71 Q1918.7 1480.44 1915.62 1485.04 Q1912.57 1489.63 1906.76 1489.63 Q1900.95 1489.63 1897.87 1485.04 Q1894.81 1480.44 1894.81 1471.71 Q1894.81 1462.96 1897.87 1458.38 Q1900.95 1453.77 1906.76 1453.77 Z\" fill=\"#000000\" fill-rule=\"evenodd\" fill-opacity=\"1\" /><path clip-path=\"url(#clip650)\" d=\"M1928.73 1445.99 Q1926.17 1445.99 1924.66 1447.74 Q1923.18 1449.49 1923.18 1452.54 Q1923.18 1455.57 1924.66 1457.33 Q1926.17 1459.08 1928.73 1459.08 Q1931.28 1459.08 1932.77 1457.33 Q1934.27 1455.57 1934.27 1452.54 Q1934.27 1449.49 1932.77 1447.74 Q1931.28 1445.99 1928.73 1445.99 M1936.27 1434.09 L1936.27 1437.55 Q1934.84 1436.87 1933.37 1436.51 Q1931.92 1436.16 1930.49 1436.16 Q1926.73 1436.16 1924.74 1438.69 Q1922.76 1441.23 1922.48 1446.37 Q1923.59 1444.73 1925.27 1443.87 Q1926.94 1442.98 1928.95 1442.98 Q1933.18 1442.98 1935.63 1445.56 Q1938.09 1448.12 1938.09 1452.54 Q1938.09 1456.86 1935.53 1459.48 Q1932.98 1462.09 1928.73 1462.09 Q1923.86 1462.09 1921.28 1458.37 Q1918.7 1454.62 1918.7 1447.53 Q1918.7 1440.88 1921.86 1436.93 Q1925.02 1432.96 1930.34 1432.96 Q1931.77 1432.96 1933.22 1433.24 Q1934.69 1433.52 1936.27 1434.09 Z\" fill=\"#000000\" fill-rule=\"evenodd\" fill-opacity=\"1\" /><path clip-path=\"url(#clip650)\" d=\"M2021.53 1454.4 L2043.75 1454.4 L2043.75 1456.39 L2031.21 1488.96 L2026.32 1488.96 L2038.13 1458.33 L2021.53 1458.33 L2021.53 1454.4 Z\" fill=\"#000000\" fill-rule=\"evenodd\" fill-opacity=\"1\" /><path clip-path=\"url(#clip650)\" d=\"M2052.87 1483.08 L2057.76 1483.08 L2057.76 1488.96 L2052.87 1488.96 L2052.87 1483.08 Z\" fill=\"#000000\" fill-rule=\"evenodd\" fill-opacity=\"1\" /><path clip-path=\"url(#clip650)\" d=\"M2077.94 1457.48 Q2074.33 1457.48 2072.5 1461.04 Q2070.7 1464.58 2070.7 1471.71 Q2070.7 1478.82 2072.5 1482.38 Q2074.33 1485.92 2077.94 1485.92 Q2081.58 1485.92 2083.38 1482.38 Q2085.21 1478.82 2085.21 1471.71 Q2085.21 1464.58 2083.38 1461.04 Q2081.58 1457.48 2077.94 1457.48 M2077.94 1453.77 Q2083.75 1453.77 2086.81 1458.38 Q2089.89 1462.96 2089.89 1471.71 Q2089.89 1480.44 2086.81 1485.04 Q2083.75 1489.63 2077.94 1489.63 Q2072.13 1489.63 2069.05 1485.04 Q2066 1480.44 2066 1471.71 Q2066 1462.96 2069.05 1458.38 Q2072.13 1453.77 2077.94 1453.77 Z\" fill=\"#000000\" fill-rule=\"evenodd\" fill-opacity=\"1\" /><path clip-path=\"url(#clip650)\" d=\"M2126.28 1463.49 L2115.7 1474.12 L2126.28 1484.7 L2123.52 1487.5 L2112.9 1476.87 L2102.27 1487.5 L2099.54 1484.7 L2110.09 1474.12 L2099.54 1463.49 L2102.27 1460.69 L2112.9 1471.32 L2123.52 1460.69 L2126.28 1463.49 Z\" fill=\"#000000\" fill-rule=\"evenodd\" fill-opacity=\"1\" /><path clip-path=\"url(#clip650)\" d=\"M2138.64 1485.02 L2146.28 1485.02 L2146.28 1458.66 L2137.96 1460.32 L2137.96 1456.06 L2146.23 1454.4 L2150.9 1454.4 L2150.9 1485.02 L2158.54 1485.02 L2158.54 1488.96 L2138.64 1488.96 L2138.64 1485.02 Z\" fill=\"#000000\" fill-rule=\"evenodd\" fill-opacity=\"1\" /><path clip-path=\"url(#clip650)\" d=\"M2177.99 1457.48 Q2174.38 1457.48 2172.55 1461.04 Q2170.74 1464.58 2170.74 1471.71 Q2170.74 1478.82 2172.55 1482.38 Q2174.38 1485.92 2177.99 1485.92 Q2181.62 1485.92 2183.43 1482.38 Q2185.26 1478.82 2185.26 1471.71 Q2185.26 1464.58 2183.43 1461.04 Q2181.62 1457.48 2177.99 1457.48 M2177.99 1453.77 Q2183.8 1453.77 2186.85 1458.38 Q2189.93 1462.96 2189.93 1471.71 Q2189.93 1480.44 2186.85 1485.04 Q2183.8 1489.63 2177.99 1489.63 Q2172.18 1489.63 2169.1 1485.04 Q2166.04 1480.44 2166.04 1471.71 Q2166.04 1462.96 2169.1 1458.38 Q2172.18 1453.77 2177.99 1453.77 Z\" fill=\"#000000\" fill-rule=\"evenodd\" fill-opacity=\"1\" /><path clip-path=\"url(#clip650)\" d=\"M2199.96 1445.99 Q2197.4 1445.99 2195.89 1447.74 Q2194.41 1449.49 2194.41 1452.54 Q2194.41 1455.57 2195.89 1457.33 Q2197.4 1459.08 2199.96 1459.08 Q2202.51 1459.08 2204 1457.33 Q2205.51 1455.57 2205.51 1452.54 Q2205.51 1449.49 2204 1447.74 Q2202.51 1445.99 2199.96 1445.99 M2207.5 1434.09 L2207.5 1437.55 Q2206.07 1436.87 2204.6 1436.51 Q2203.15 1436.16 2201.72 1436.16 Q2197.96 1436.16 2195.97 1438.69 Q2193.99 1441.23 2193.71 1446.37 Q2194.82 1444.73 2196.5 1443.87 Q2198.17 1442.98 2200.18 1442.98 Q2204.41 1442.98 2206.86 1445.56 Q2209.32 1448.12 2209.32 1452.54 Q2209.32 1456.86 2206.77 1459.48 Q2204.21 1462.09 2199.96 1462.09 Q2195.09 1462.09 2192.51 1458.37 Q2189.93 1454.62 2189.93 1447.53 Q2189.93 1440.88 2193.09 1436.93 Q2196.25 1432.96 2201.57 1432.96 Q2203 1432.96 2204.45 1433.24 Q2205.92 1433.52 2207.5 1434.09 Z\" fill=\"#000000\" fill-rule=\"evenodd\" fill-opacity=\"1\" /><path clip-path=\"url(#clip650)\" d=\"M1109.01 1526.67 L1139.06 1526.67 L1139.06 1532.08 L1115.44 1532.08 L1115.44 1546.14 L1138.07 1546.14 L1138.07 1551.56 L1115.44 1551.56 L1115.44 1568.77 L1139.63 1568.77 L1139.63 1574.19 L1109.01 1574.19 L1109.01 1526.67 Z\" fill=\"#000000\" fill-rule=\"evenodd\" fill-opacity=\"1\" /><path clip-path=\"url(#clip650)\" d=\"M1175.6 1539.91 L1175.6 1545.38 Q1173.12 1544.01 1170.6 1543.34 Q1168.12 1542.64 1165.57 1542.64 Q1159.88 1542.64 1156.73 1546.27 Q1153.57 1549.87 1153.57 1556.39 Q1153.57 1562.92 1156.73 1566.55 Q1159.88 1570.14 1165.57 1570.14 Q1168.12 1570.14 1170.6 1569.47 Q1173.12 1568.77 1175.6 1567.41 L1175.6 1572.82 Q1173.15 1573.96 1170.51 1574.54 Q1167.9 1575.11 1164.94 1575.11 Q1156.88 1575.11 1152.14 1570.05 Q1147.4 1564.99 1147.4 1556.39 Q1147.4 1547.67 1152.17 1542.68 Q1156.98 1537.68 1165.32 1537.68 Q1168.02 1537.68 1170.6 1538.25 Q1173.18 1538.79 1175.6 1539.91 Z\" fill=\"#000000\" fill-rule=\"evenodd\" fill-opacity=\"1\" /><path clip-path=\"url(#clip650)\" d=\"M1199.6 1542.64 Q1194.89 1542.64 1192.15 1546.34 Q1189.41 1550 1189.41 1556.39 Q1189.41 1562.79 1192.12 1566.48 Q1194.86 1570.14 1199.6 1570.14 Q1204.28 1570.14 1207.01 1566.45 Q1209.75 1562.76 1209.75 1556.39 Q1209.75 1550.06 1207.01 1546.37 Q1204.28 1542.64 1199.6 1542.64 M1199.6 1537.68 Q1207.24 1537.68 1211.6 1542.64 Q1215.96 1547.61 1215.96 1556.39 Q1215.96 1565.15 1211.6 1570.14 Q1207.24 1575.11 1199.6 1575.11 Q1191.93 1575.11 1187.57 1570.14 Q1183.24 1565.15 1183.24 1556.39 Q1183.24 1547.61 1187.57 1542.64 Q1191.93 1537.68 1199.6 1537.68 Z\" fill=\"#000000\" fill-rule=\"evenodd\" fill-opacity=\"1\" /><path clip-path=\"url(#clip650)\" d=\"M1225.67 1524.66 L1231.52 1524.66 L1231.52 1574.19 L1225.67 1574.19 L1225.67 1524.66 Z\" fill=\"#000000\" fill-rule=\"evenodd\" fill-opacity=\"1\" /><path clip-path=\"url(#clip650)\" d=\"M1257.59 1542.64 Q1252.88 1542.64 1250.14 1546.34 Q1247.41 1550 1247.41 1556.39 Q1247.41 1562.79 1250.11 1566.48 Q1252.85 1570.14 1257.59 1570.14 Q1262.27 1570.14 1265.01 1566.45 Q1267.74 1562.76 1267.74 1556.39 Q1267.74 1550.06 1265.01 1546.37 Q1262.27 1542.64 1257.59 1542.64 M1257.59 1537.68 Q1265.23 1537.68 1269.59 1542.64 Q1273.95 1547.61 1273.95 1556.39 Q1273.95 1565.15 1269.59 1570.14 Q1265.23 1575.11 1257.59 1575.11 Q1249.92 1575.11 1245.56 1570.14 Q1241.23 1565.15 1241.23 1556.39 Q1241.23 1547.61 1245.56 1542.64 Q1249.92 1537.68 1257.59 1537.68 Z\" fill=\"#000000\" fill-rule=\"evenodd\" fill-opacity=\"1\" /><path clip-path=\"url(#clip650)\" d=\"M1307.12 1555.95 Q1307.12 1549.58 1304.47 1546.08 Q1301.86 1542.58 1297.12 1542.58 Q1292.41 1542.58 1289.77 1546.08 Q1287.16 1549.58 1287.16 1555.95 Q1287.16 1562.28 1289.77 1565.78 Q1292.41 1569.28 1297.12 1569.28 Q1301.86 1569.28 1304.47 1565.78 Q1307.12 1562.28 1307.12 1555.95 M1312.97 1569.76 Q1312.97 1578.86 1308.93 1583.29 Q1304.89 1587.74 1296.55 1587.74 Q1293.46 1587.74 1290.72 1587.27 Q1287.99 1586.82 1285.41 1585.87 L1285.41 1580.17 Q1287.99 1581.57 1290.5 1582.24 Q1293.02 1582.91 1295.63 1582.91 Q1301.39 1582.91 1304.25 1579.88 Q1307.12 1576.89 1307.12 1570.81 L1307.12 1567.92 Q1305.3 1571.07 1302.47 1572.63 Q1299.64 1574.19 1295.69 1574.19 Q1289.13 1574.19 1285.12 1569.19 Q1281.11 1564.19 1281.11 1555.95 Q1281.11 1547.67 1285.12 1542.68 Q1289.13 1537.68 1295.69 1537.68 Q1299.64 1537.68 1302.47 1539.24 Q1305.3 1540.8 1307.12 1543.95 L1307.12 1538.54 L1312.97 1538.54 L1312.97 1569.76 Z\" fill=\"#000000\" fill-rule=\"evenodd\" fill-opacity=\"1\" /><path clip-path=\"url(#clip650)\" d=\"M1325.03 1538.54 L1330.89 1538.54 L1330.89 1574.19 L1325.03 1574.19 L1325.03 1538.54 M1325.03 1524.66 L1330.89 1524.66 L1330.89 1532.08 L1325.03 1532.08 L1325.03 1524.66 Z\" fill=\"#000000\" fill-rule=\"evenodd\" fill-opacity=\"1\" /><path clip-path=\"url(#clip650)\" d=\"M1368.8 1539.91 L1368.8 1545.38 Q1366.32 1544.01 1363.8 1543.34 Q1361.32 1542.64 1358.77 1542.64 Q1353.08 1542.64 1349.92 1546.27 Q1346.77 1549.87 1346.77 1556.39 Q1346.77 1562.92 1349.92 1566.55 Q1353.08 1570.14 1358.77 1570.14 Q1361.32 1570.14 1363.8 1569.47 Q1366.32 1568.77 1368.8 1567.41 L1368.8 1572.82 Q1366.35 1573.96 1363.71 1574.54 Q1361.1 1575.11 1358.14 1575.11 Q1350.08 1575.11 1345.34 1570.05 Q1340.6 1564.99 1340.6 1556.39 Q1340.6 1547.67 1345.37 1542.68 Q1350.18 1537.68 1358.52 1537.68 Q1361.22 1537.68 1363.8 1538.25 Q1366.38 1538.79 1368.8 1539.91 Z\" fill=\"#000000\" fill-rule=\"evenodd\" fill-opacity=\"1\" /><path clip-path=\"url(#clip650)\" d=\"M1395.18 1556.27 Q1388.09 1556.27 1385.35 1557.89 Q1382.61 1559.51 1382.61 1563.43 Q1382.61 1566.55 1384.65 1568.39 Q1386.72 1570.21 1390.25 1570.21 Q1395.12 1570.21 1398.05 1566.77 Q1401.01 1563.3 1401.01 1557.57 L1401.01 1556.27 L1395.18 1556.27 M1406.87 1553.85 L1406.87 1574.19 L1401.01 1574.19 L1401.01 1568.77 Q1399 1572.02 1396.01 1573.58 Q1393.02 1575.11 1388.69 1575.11 Q1383.22 1575.11 1379.97 1572.05 Q1376.76 1568.97 1376.76 1563.81 Q1376.76 1557.79 1380.77 1554.74 Q1384.81 1551.68 1392.8 1551.68 L1401.01 1551.68 L1401.01 1551.11 Q1401.01 1547.07 1398.34 1544.87 Q1395.69 1542.64 1390.89 1542.64 Q1387.83 1542.64 1384.94 1543.38 Q1382.04 1544.11 1379.37 1545.57 L1379.37 1540.16 Q1382.58 1538.92 1385.6 1538.31 Q1388.63 1537.68 1391.49 1537.68 Q1399.23 1537.68 1403.05 1541.69 Q1406.87 1545.7 1406.87 1553.85 Z\" fill=\"#000000\" fill-rule=\"evenodd\" fill-opacity=\"1\" /><path clip-path=\"url(#clip650)\" d=\"M1418.93 1524.66 L1424.79 1524.66 L1424.79 1574.19 L1418.93 1574.19 L1418.93 1524.66 Z\" fill=\"#000000\" fill-rule=\"evenodd\" fill-opacity=\"1\" /><path clip-path=\"url(#clip650)\" d=\"M1437.04 1524.66 L1442.9 1524.66 L1442.9 1574.19 L1437.04 1574.19 L1437.04 1524.66 Z\" fill=\"#000000\" fill-rule=\"evenodd\" fill-opacity=\"1\" /><path clip-path=\"url(#clip650)\" d=\"M1469.98 1577.5 Q1467.5 1583.86 1465.14 1585.8 Q1462.79 1587.74 1458.84 1587.74 L1454.16 1587.74 L1454.16 1582.84 L1457.6 1582.84 Q1460.02 1582.84 1461.36 1581.7 Q1462.69 1580.55 1464.32 1576.29 L1465.37 1573.61 L1450.95 1538.54 L1457.16 1538.54 L1468.3 1566.42 L1479.44 1538.54 L1485.64 1538.54 L1469.98 1577.5 Z\" fill=\"#000000\" fill-rule=\"evenodd\" fill-opacity=\"1\" /><path clip-path=\"url(#clip650)\" d=\"M1543.19 1528.23 L1543.19 1534.5 Q1539.53 1532.74 1536.28 1531.89 Q1533.03 1531.03 1530.01 1531.03 Q1524.76 1531.03 1521.89 1533.06 Q1519.06 1535.1 1519.06 1538.86 Q1519.06 1542.01 1520.94 1543.63 Q1522.85 1545.22 1528.13 1546.21 L1532.02 1547 Q1539.21 1548.37 1542.61 1551.84 Q1546.05 1555.28 1546.05 1561.07 Q1546.05 1567.98 1541.41 1571.54 Q1536.79 1575.11 1527.85 1575.11 Q1524.47 1575.11 1520.65 1574.34 Q1516.87 1573.58 1512.79 1572.08 L1512.79 1565.46 Q1516.71 1567.66 1520.46 1568.77 Q1524.22 1569.89 1527.85 1569.89 Q1533.35 1569.89 1536.34 1567.72 Q1539.34 1565.56 1539.34 1561.55 Q1539.34 1558.05 1537.17 1556.08 Q1535.04 1554.1 1530.14 1553.11 L1526.22 1552.35 Q1519.03 1550.92 1515.82 1547.86 Q1512.6 1544.81 1512.6 1539.37 Q1512.6 1533.06 1517.02 1529.43 Q1521.48 1525.81 1529.28 1525.81 Q1532.62 1525.81 1536.09 1526.41 Q1539.56 1527.02 1543.19 1528.23 Z\" fill=\"#000000\" fill-rule=\"evenodd\" fill-opacity=\"1\" /><path clip-path=\"url(#clip650)\" d=\"M1572.02 1556.27 Q1564.93 1556.27 1562.19 1557.89 Q1559.45 1559.51 1559.45 1563.43 Q1559.45 1566.55 1561.49 1568.39 Q1563.56 1570.21 1567.09 1570.21 Q1571.96 1570.21 1574.89 1566.77 Q1577.85 1563.3 1577.85 1557.57 L1577.85 1556.27 L1572.02 1556.27 M1583.71 1553.85 L1583.71 1574.19 L1577.85 1574.19 L1577.85 1568.77 Q1575.84 1572.02 1572.85 1573.58 Q1569.86 1575.11 1565.53 1575.11 Q1560.06 1575.11 1556.81 1572.05 Q1553.6 1568.97 1553.6 1563.81 Q1553.6 1557.79 1557.61 1554.74 Q1561.65 1551.68 1569.64 1551.68 L1577.85 1551.68 L1577.85 1551.11 Q1577.85 1547.07 1575.18 1544.87 Q1572.53 1542.64 1567.73 1542.64 Q1564.67 1542.64 1561.78 1543.38 Q1558.88 1544.11 1556.21 1545.57 L1556.21 1540.16 Q1559.42 1538.92 1562.44 1538.31 Q1565.47 1537.68 1568.33 1537.68 Q1576.07 1537.68 1579.89 1541.69 Q1583.71 1545.7 1583.71 1553.85 Z\" fill=\"#000000\" fill-rule=\"evenodd\" fill-opacity=\"1\" /><path clip-path=\"url(#clip650)\" d=\"M1613.82 1524.66 L1613.82 1529.53 L1608.21 1529.53 Q1605.06 1529.53 1603.82 1530.8 Q1602.61 1532.08 1602.61 1535.39 L1602.61 1538.54 L1612.26 1538.54 L1612.26 1543.09 L1602.61 1543.09 L1602.61 1574.19 L1596.72 1574.19 L1596.72 1543.09 L1591.12 1543.09 L1591.12 1538.54 L1596.72 1538.54 L1596.72 1536.05 Q1596.72 1530.1 1599.49 1527.4 Q1602.26 1524.66 1608.28 1524.66 L1613.82 1524.66 Z\" fill=\"#000000\" fill-rule=\"evenodd\" fill-opacity=\"1\" /><path clip-path=\"url(#clip650)\" d=\"M1649.21 1554.9 L1649.21 1557.76 L1622.28 1557.76 Q1622.66 1563.81 1625.91 1566.99 Q1629.19 1570.14 1635.01 1570.14 Q1638.39 1570.14 1641.54 1569.32 Q1644.72 1568.49 1647.84 1566.83 L1647.84 1572.37 Q1644.69 1573.71 1641.38 1574.41 Q1638.07 1575.11 1634.66 1575.11 Q1626.13 1575.11 1621.14 1570.14 Q1616.17 1565.18 1616.17 1556.71 Q1616.17 1547.96 1620.88 1542.83 Q1625.62 1537.68 1633.64 1537.68 Q1640.84 1537.68 1645.01 1542.33 Q1649.21 1546.94 1649.21 1554.9 M1643.35 1553.18 Q1643.29 1548.37 1640.65 1545.51 Q1638.04 1542.64 1633.71 1542.64 Q1628.81 1542.64 1625.85 1545.41 Q1622.92 1548.18 1622.47 1553.21 L1643.35 1553.18 Z\" fill=\"#000000\" fill-rule=\"evenodd\" fill-opacity=\"1\" /><polyline clip-path=\"url(#clip652)\" style=\"stroke:#000000; stroke-linecap:round; stroke-linejoin:round; stroke-width:2; stroke-opacity:0.1; fill:none\" points=\"\n",
       "  405.467,1317.31 2352.76,1317.31 \n",
       "  \"/>\n",
       "<polyline clip-path=\"url(#clip652)\" style=\"stroke:#000000; stroke-linecap:round; stroke-linejoin:round; stroke-width:2; stroke-opacity:0.1; fill:none\" points=\"\n",
       "  405.467,995.806 2352.76,995.806 \n",
       "  \"/>\n",
       "<polyline clip-path=\"url(#clip652)\" style=\"stroke:#000000; stroke-linecap:round; stroke-linejoin:round; stroke-width:2; stroke-opacity:0.1; fill:none\" points=\"\n",
       "  405.467,674.306 2352.76,674.306 \n",
       "  \"/>\n",
       "<polyline clip-path=\"url(#clip652)\" style=\"stroke:#000000; stroke-linecap:round; stroke-linejoin:round; stroke-width:2; stroke-opacity:0.1; fill:none\" points=\"\n",
       "  405.467,352.806 2352.76,352.806 \n",
       "  \"/>\n",
       "<polyline clip-path=\"url(#clip650)\" style=\"stroke:#000000; stroke-linecap:round; stroke-linejoin:round; stroke-width:4; stroke-opacity:1; fill:none\" points=\"\n",
       "  405.467,1410.9 405.467,47.2441 \n",
       "  \"/>\n",
       "<polyline clip-path=\"url(#clip650)\" style=\"stroke:#000000; stroke-linecap:round; stroke-linejoin:round; stroke-width:4; stroke-opacity:1; fill:none\" points=\"\n",
       "  405.467,1317.31 424.365,1317.31 \n",
       "  \"/>\n",
       "<polyline clip-path=\"url(#clip650)\" style=\"stroke:#000000; stroke-linecap:round; stroke-linejoin:round; stroke-width:4; stroke-opacity:1; fill:none\" points=\"\n",
       "  405.467,995.806 424.365,995.806 \n",
       "  \"/>\n",
       "<polyline clip-path=\"url(#clip650)\" style=\"stroke:#000000; stroke-linecap:round; stroke-linejoin:round; stroke-width:4; stroke-opacity:1; fill:none\" points=\"\n",
       "  405.467,674.306 424.365,674.306 \n",
       "  \"/>\n",
       "<polyline clip-path=\"url(#clip650)\" style=\"stroke:#000000; stroke-linecap:round; stroke-linejoin:round; stroke-width:4; stroke-opacity:1; fill:none\" points=\"\n",
       "  405.467,352.806 424.365,352.806 \n",
       "  \"/>\n",
       "<path clip-path=\"url(#clip650)\" d=\"M114.26 1324.2 L143.936 1324.2 L143.936 1328.14 L114.26 1328.14 L114.26 1324.2 Z\" fill=\"#000000\" fill-rule=\"evenodd\" fill-opacity=\"1\" /><path clip-path=\"url(#clip650)\" d=\"M154.839 1337.1 L162.477 1337.1 L162.477 1310.73 L154.167 1312.4 L154.167 1308.14 L162.431 1306.47 L167.107 1306.47 L167.107 1337.1 L174.746 1337.1 L174.746 1341.03 L154.839 1341.03 L154.839 1337.1 Z\" fill=\"#000000\" fill-rule=\"evenodd\" fill-opacity=\"1\" /><path clip-path=\"url(#clip650)\" d=\"M184.19 1335.15 L189.075 1335.15 L189.075 1341.03 L184.19 1341.03 L184.19 1335.15 Z\" fill=\"#000000\" fill-rule=\"evenodd\" fill-opacity=\"1\" /><path clip-path=\"url(#clip650)\" d=\"M213.426 1322.4 Q216.783 1323.12 218.658 1325.38 Q220.556 1327.65 220.556 1330.99 Q220.556 1336.1 217.037 1338.9 Q213.519 1341.7 207.037 1341.7 Q204.862 1341.7 202.547 1341.26 Q200.255 1340.85 197.801 1339.99 L197.801 1335.48 Q199.746 1336.61 202.061 1337.19 Q204.375 1337.77 206.899 1337.77 Q211.297 1337.77 213.588 1336.03 Q215.903 1334.3 215.903 1330.99 Q215.903 1327.93 213.75 1326.22 Q211.621 1324.48 207.801 1324.48 L203.774 1324.48 L203.774 1320.64 L207.987 1320.64 Q211.436 1320.64 213.264 1319.27 Q215.093 1317.88 215.093 1315.29 Q215.093 1312.63 213.195 1311.22 Q211.32 1309.78 207.801 1309.78 Q205.88 1309.78 203.681 1310.2 Q201.482 1310.62 198.843 1311.5 L198.843 1307.33 Q201.505 1306.59 203.82 1306.22 Q206.158 1305.85 208.218 1305.85 Q213.542 1305.85 216.644 1308.28 Q219.746 1310.69 219.746 1314.81 Q219.746 1317.68 218.102 1319.67 Q216.459 1321.63 213.426 1322.4 Z\" fill=\"#000000\" fill-rule=\"evenodd\" fill-opacity=\"1\" /><path clip-path=\"url(#clip650)\" d=\"M239.422 1309.55 Q235.81 1309.55 233.982 1313.12 Q232.176 1316.66 232.176 1323.79 Q232.176 1330.89 233.982 1334.46 Q235.81 1338 239.422 1338 Q243.056 1338 244.861 1334.46 Q246.69 1330.89 246.69 1323.79 Q246.69 1316.66 244.861 1313.12 Q243.056 1309.55 239.422 1309.55 M239.422 1305.85 Q245.232 1305.85 248.287 1310.45 Q251.366 1315.04 251.366 1323.79 Q251.366 1332.51 248.287 1337.12 Q245.232 1341.7 239.422 1341.7 Q233.611 1341.7 230.533 1337.12 Q227.477 1332.51 227.477 1323.79 Q227.477 1315.04 230.533 1310.45 Q233.611 1305.85 239.422 1305.85 Z\" fill=\"#000000\" fill-rule=\"evenodd\" fill-opacity=\"1\" /><path clip-path=\"url(#clip650)\" d=\"M287.755 1315.57 L277.176 1326.19 L287.755 1336.77 L285 1339.57 L274.375 1328.95 L263.75 1339.57 L261.019 1336.77 L271.574 1326.19 L261.019 1315.57 L263.75 1312.77 L274.375 1323.39 L285 1312.77 L287.755 1315.57 Z\" fill=\"#000000\" fill-rule=\"evenodd\" fill-opacity=\"1\" /><path clip-path=\"url(#clip650)\" d=\"M300.116 1337.1 L307.754 1337.1 L307.754 1310.73 L299.444 1312.4 L299.444 1308.14 L307.708 1306.47 L312.384 1306.47 L312.384 1337.1 L320.023 1337.1 L320.023 1341.03 L300.116 1341.03 L300.116 1337.1 Z\" fill=\"#000000\" fill-rule=\"evenodd\" fill-opacity=\"1\" /><path clip-path=\"url(#clip650)\" d=\"M339.467 1309.55 Q335.856 1309.55 334.027 1313.12 Q332.222 1316.66 332.222 1323.79 Q332.222 1330.89 334.027 1334.46 Q335.856 1338 339.467 1338 Q343.102 1338 344.907 1334.46 Q346.736 1330.89 346.736 1323.79 Q346.736 1316.66 344.907 1313.12 Q343.102 1309.55 339.467 1309.55 M339.467 1305.85 Q345.277 1305.85 348.333 1310.45 Q351.412 1315.04 351.412 1323.79 Q351.412 1332.51 348.333 1337.12 Q345.277 1341.7 339.467 1341.7 Q333.657 1341.7 330.578 1337.12 Q327.523 1332.51 327.523 1323.79 Q327.523 1315.04 330.578 1310.45 Q333.657 1305.85 339.467 1305.85 Z\" fill=\"#000000\" fill-rule=\"evenodd\" fill-opacity=\"1\" /><path clip-path=\"url(#clip650)\" d=\"M351.412 1285.54 L369.467 1285.54 L369.467 1287.16 L359.273 1313.62 L355.305 1313.62 L364.897 1288.74 L351.412 1288.74 L351.412 1285.54 Z\" fill=\"#000000\" fill-rule=\"evenodd\" fill-opacity=\"1\" /><path clip-path=\"url(#clip650)\" d=\"M114.26 1002.7 L143.936 1002.7 L143.936 1006.64 L114.26 1006.64 L114.26 1002.7 Z\" fill=\"#000000\" fill-rule=\"evenodd\" fill-opacity=\"1\" /><path clip-path=\"url(#clip650)\" d=\"M154.839 1015.6 L162.477 1015.6 L162.477 989.232 L154.167 990.899 L154.167 986.64 L162.431 984.973 L167.107 984.973 L167.107 1015.6 L174.746 1015.6 L174.746 1019.53 L154.839 1019.53 L154.839 1015.6 Z\" fill=\"#000000\" fill-rule=\"evenodd\" fill-opacity=\"1\" /><path clip-path=\"url(#clip650)\" d=\"M184.19 1013.65 L189.075 1013.65 L189.075 1019.53 L184.19 1019.53 L184.19 1013.65 Z\" fill=\"#000000\" fill-rule=\"evenodd\" fill-opacity=\"1\" /><path clip-path=\"url(#clip650)\" d=\"M203.287 1015.6 L219.607 1015.6 L219.607 1019.53 L197.662 1019.53 L197.662 1015.6 Q200.325 1012.84 204.908 1008.21 Q209.514 1003.56 210.695 1002.22 Q212.94 999.695 213.82 997.959 Q214.723 996.2 214.723 994.51 Q214.723 991.756 212.778 990.02 Q210.857 988.283 207.755 988.283 Q205.556 988.283 203.102 989.047 Q200.672 989.811 197.894 991.362 L197.894 986.64 Q200.718 985.506 203.172 984.927 Q205.625 984.348 207.662 984.348 Q213.033 984.348 216.227 987.033 Q219.422 989.719 219.422 994.209 Q219.422 996.339 218.611 998.26 Q217.824 1000.16 215.718 1002.75 Q215.139 1003.42 212.037 1006.64 Q208.936 1009.83 203.287 1015.6 Z\" fill=\"#000000\" fill-rule=\"evenodd\" fill-opacity=\"1\" /><path clip-path=\"url(#clip650)\" d=\"M239.422 988.052 Q235.81 988.052 233.982 991.617 Q232.176 995.158 232.176 1002.29 Q232.176 1009.39 233.982 1012.96 Q235.81 1016.5 239.422 1016.5 Q243.056 1016.5 244.861 1012.96 Q246.69 1009.39 246.69 1002.29 Q246.69 995.158 244.861 991.617 Q243.056 988.052 239.422 988.052 M239.422 984.348 Q245.232 984.348 248.287 988.955 Q251.366 993.538 251.366 1002.29 Q251.366 1011.01 248.287 1015.62 Q245.232 1020.2 239.422 1020.2 Q233.611 1020.2 230.533 1015.62 Q227.477 1011.01 227.477 1002.29 Q227.477 993.538 230.533 988.955 Q233.611 984.348 239.422 984.348 Z\" fill=\"#000000\" fill-rule=\"evenodd\" fill-opacity=\"1\" /><path clip-path=\"url(#clip650)\" d=\"M287.755 994.07 L277.176 1004.7 L287.755 1015.27 L285 1018.07 L274.375 1007.45 L263.75 1018.07 L261.019 1015.27 L271.574 1004.7 L261.019 994.07 L263.75 991.27 L274.375 1001.89 L285 991.27 L287.755 994.07 Z\" fill=\"#000000\" fill-rule=\"evenodd\" fill-opacity=\"1\" /><path clip-path=\"url(#clip650)\" d=\"M300.116 1015.6 L307.754 1015.6 L307.754 989.232 L299.444 990.899 L299.444 986.64 L307.708 984.973 L312.384 984.973 L312.384 1015.6 L320.023 1015.6 L320.023 1019.53 L300.116 1019.53 L300.116 1015.6 Z\" fill=\"#000000\" fill-rule=\"evenodd\" fill-opacity=\"1\" /><path clip-path=\"url(#clip650)\" d=\"M339.467 988.052 Q335.856 988.052 334.027 991.617 Q332.222 995.158 332.222 1002.29 Q332.222 1009.39 334.027 1012.96 Q335.856 1016.5 339.467 1016.5 Q343.102 1016.5 344.907 1012.96 Q346.736 1009.39 346.736 1002.29 Q346.736 995.158 344.907 991.617 Q343.102 988.052 339.467 988.052 M339.467 984.348 Q345.277 984.348 348.333 988.955 Q351.412 993.538 351.412 1002.29 Q351.412 1011.01 348.333 1015.62 Q345.277 1020.2 339.467 1020.2 Q333.657 1020.2 330.578 1015.62 Q327.523 1011.01 327.523 1002.29 Q327.523 993.538 330.578 988.955 Q333.657 984.348 339.467 984.348 Z\" fill=\"#000000\" fill-rule=\"evenodd\" fill-opacity=\"1\" /><path clip-path=\"url(#clip650)\" d=\"M351.412 964.043 L369.467 964.043 L369.467 965.66 L359.273 992.123 L355.305 992.123 L364.897 967.24 L351.412 967.24 L351.412 964.043 Z\" fill=\"#000000\" fill-rule=\"evenodd\" fill-opacity=\"1\" /><path clip-path=\"url(#clip650)\" d=\"M114.26 681.205 L143.936 681.205 L143.936 685.14 L114.26 685.14 L114.26 681.205 Z\" fill=\"#000000\" fill-rule=\"evenodd\" fill-opacity=\"1\" /><path clip-path=\"url(#clip650)\" d=\"M154.839 694.099 L162.477 694.099 L162.477 667.733 L154.167 669.4 L154.167 665.14 L162.431 663.474 L167.107 663.474 L167.107 694.099 L174.746 694.099 L174.746 698.034 L154.839 698.034 L154.839 694.099 Z\" fill=\"#000000\" fill-rule=\"evenodd\" fill-opacity=\"1\" /><path clip-path=\"url(#clip650)\" d=\"M184.19 692.154 L189.075 692.154 L189.075 698.034 L184.19 698.034 L184.19 692.154 Z\" fill=\"#000000\" fill-rule=\"evenodd\" fill-opacity=\"1\" /><path clip-path=\"url(#clip650)\" d=\"M200.07 694.099 L207.709 694.099 L207.709 667.733 L199.399 669.4 L199.399 665.14 L207.662 663.474 L212.338 663.474 L212.338 694.099 L219.977 694.099 L219.977 698.034 L200.07 698.034 L200.07 694.099 Z\" fill=\"#000000\" fill-rule=\"evenodd\" fill-opacity=\"1\" /><path clip-path=\"url(#clip650)\" d=\"M239.422 666.552 Q235.81 666.552 233.982 670.117 Q232.176 673.659 232.176 680.788 Q232.176 687.895 233.982 691.46 Q235.81 695.001 239.422 695.001 Q243.056 695.001 244.861 691.46 Q246.69 687.895 246.69 680.788 Q246.69 673.659 244.861 670.117 Q243.056 666.552 239.422 666.552 M239.422 662.849 Q245.232 662.849 248.287 667.455 Q251.366 672.038 251.366 680.788 Q251.366 689.515 248.287 694.122 Q245.232 698.705 239.422 698.705 Q233.611 698.705 230.533 694.122 Q227.477 689.515 227.477 680.788 Q227.477 672.038 230.533 667.455 Q233.611 662.849 239.422 662.849 Z\" fill=\"#000000\" fill-rule=\"evenodd\" fill-opacity=\"1\" /><path clip-path=\"url(#clip650)\" d=\"M287.755 672.571 L277.176 683.196 L287.755 693.774 L285 696.575 L274.375 685.95 L263.75 696.575 L261.019 693.774 L271.574 683.196 L261.019 672.571 L263.75 669.77 L274.375 680.395 L285 669.77 L287.755 672.571 Z\" fill=\"#000000\" fill-rule=\"evenodd\" fill-opacity=\"1\" /><path clip-path=\"url(#clip650)\" d=\"M300.116 694.099 L307.754 694.099 L307.754 667.733 L299.444 669.4 L299.444 665.14 L307.708 663.474 L312.384 663.474 L312.384 694.099 L320.023 694.099 L320.023 698.034 L300.116 698.034 L300.116 694.099 Z\" fill=\"#000000\" fill-rule=\"evenodd\" fill-opacity=\"1\" /><path clip-path=\"url(#clip650)\" d=\"M339.467 666.552 Q335.856 666.552 334.027 670.117 Q332.222 673.659 332.222 680.788 Q332.222 687.895 334.027 691.46 Q335.856 695.001 339.467 695.001 Q343.102 695.001 344.907 691.46 Q346.736 687.895 346.736 680.788 Q346.736 673.659 344.907 670.117 Q343.102 666.552 339.467 666.552 M339.467 662.849 Q345.277 662.849 348.333 667.455 Q351.412 672.038 351.412 680.788 Q351.412 689.515 348.333 694.122 Q345.277 698.705 339.467 698.705 Q333.657 698.705 330.578 694.122 Q327.523 689.515 327.523 680.788 Q327.523 672.038 330.578 667.455 Q333.657 662.849 339.467 662.849 Z\" fill=\"#000000\" fill-rule=\"evenodd\" fill-opacity=\"1\" /><path clip-path=\"url(#clip650)\" d=\"M351.412 642.543 L369.467 642.543 L369.467 644.161 L359.273 670.623 L355.305 670.623 L364.897 645.741 L351.412 645.741 L351.412 642.543 Z\" fill=\"#000000\" fill-rule=\"evenodd\" fill-opacity=\"1\" /><path clip-path=\"url(#clip650)\" d=\"M114.26 359.705 L143.936 359.705 L143.936 363.641 L114.26 363.641 L114.26 359.705 Z\" fill=\"#000000\" fill-rule=\"evenodd\" fill-opacity=\"1\" /><path clip-path=\"url(#clip650)\" d=\"M154.839 372.599 L162.477 372.599 L162.477 346.233 L154.167 347.9 L154.167 343.641 L162.431 341.974 L167.107 341.974 L167.107 372.599 L174.746 372.599 L174.746 376.534 L154.839 376.534 L154.839 372.599 Z\" fill=\"#000000\" fill-rule=\"evenodd\" fill-opacity=\"1\" /><path clip-path=\"url(#clip650)\" d=\"M184.19 370.654 L189.075 370.654 L189.075 376.534 L184.19 376.534 L184.19 370.654 Z\" fill=\"#000000\" fill-rule=\"evenodd\" fill-opacity=\"1\" /><path clip-path=\"url(#clip650)\" d=\"M209.26 345.053 Q205.649 345.053 203.82 348.618 Q202.014 352.159 202.014 359.289 Q202.014 366.395 203.82 369.96 Q205.649 373.502 209.26 373.502 Q212.894 373.502 214.699 369.96 Q216.528 366.395 216.528 359.289 Q216.528 352.159 214.699 348.618 Q212.894 345.053 209.26 345.053 M209.26 341.349 Q215.07 341.349 218.125 345.956 Q221.204 350.539 221.204 359.289 Q221.204 368.016 218.125 372.622 Q215.07 377.205 209.26 377.205 Q203.449 377.205 200.371 372.622 Q197.315 368.016 197.315 359.289 Q197.315 350.539 200.371 345.956 Q203.449 341.349 209.26 341.349 Z\" fill=\"#000000\" fill-rule=\"evenodd\" fill-opacity=\"1\" /><path clip-path=\"url(#clip650)\" d=\"M239.422 345.053 Q235.81 345.053 233.982 348.618 Q232.176 352.159 232.176 359.289 Q232.176 366.395 233.982 369.96 Q235.81 373.502 239.422 373.502 Q243.056 373.502 244.861 369.96 Q246.69 366.395 246.69 359.289 Q246.69 352.159 244.861 348.618 Q243.056 345.053 239.422 345.053 M239.422 341.349 Q245.232 341.349 248.287 345.956 Q251.366 350.539 251.366 359.289 Q251.366 368.016 248.287 372.622 Q245.232 377.205 239.422 377.205 Q233.611 377.205 230.533 372.622 Q227.477 368.016 227.477 359.289 Q227.477 350.539 230.533 345.956 Q233.611 341.349 239.422 341.349 Z\" fill=\"#000000\" fill-rule=\"evenodd\" fill-opacity=\"1\" /><path clip-path=\"url(#clip650)\" d=\"M287.755 351.071 L277.176 361.696 L287.755 372.275 L285 375.076 L274.375 364.451 L263.75 375.076 L261.019 372.275 L271.574 361.696 L261.019 351.071 L263.75 348.27 L274.375 358.895 L285 348.27 L287.755 351.071 Z\" fill=\"#000000\" fill-rule=\"evenodd\" fill-opacity=\"1\" /><path clip-path=\"url(#clip650)\" d=\"M300.116 372.599 L307.754 372.599 L307.754 346.233 L299.444 347.9 L299.444 343.641 L307.708 341.974 L312.384 341.974 L312.384 372.599 L320.023 372.599 L320.023 376.534 L300.116 376.534 L300.116 372.599 Z\" fill=\"#000000\" fill-rule=\"evenodd\" fill-opacity=\"1\" /><path clip-path=\"url(#clip650)\" d=\"M339.467 345.053 Q335.856 345.053 334.027 348.618 Q332.222 352.159 332.222 359.289 Q332.222 366.395 334.027 369.96 Q335.856 373.502 339.467 373.502 Q343.102 373.502 344.907 369.96 Q346.736 366.395 346.736 359.289 Q346.736 352.159 344.907 348.618 Q343.102 345.053 339.467 345.053 M339.467 341.349 Q345.277 341.349 348.333 345.956 Q351.412 350.539 351.412 359.289 Q351.412 368.016 348.333 372.622 Q345.277 377.205 339.467 377.205 Q333.657 377.205 330.578 372.622 Q327.523 368.016 327.523 359.289 Q327.523 350.539 330.578 345.956 Q333.657 341.349 339.467 341.349 Z\" fill=\"#000000\" fill-rule=\"evenodd\" fill-opacity=\"1\" /><path clip-path=\"url(#clip650)\" d=\"M351.412 321.044 L369.467 321.044 L369.467 322.661 L359.273 349.124 L355.305 349.124 L364.897 324.241 L351.412 324.241 L351.412 321.044 Z\" fill=\"#000000\" fill-rule=\"evenodd\" fill-opacity=\"1\" /><path clip-path=\"url(#clip650)\" d=\"M18.0438 890.918 L24.314 890.918 Q22.5634 894.579 21.704 897.825 Q20.8447 901.072 20.8447 904.095 Q20.8447 909.347 22.8817 912.212 Q24.9187 915.044 28.6745 915.044 Q31.8255 915.044 33.4488 913.167 Q35.0402 911.257 36.0269 905.973 L36.8226 902.09 Q38.1912 894.897 41.6605 891.491 Q45.098 888.054 50.8908 888.054 Q57.7976 888.054 61.3624 892.701 Q64.9272 897.316 64.9272 906.26 Q64.9272 909.634 64.1633 913.453 Q63.3994 917.241 61.9035 921.315 L55.2831 921.315 Q57.4793 917.4 58.5933 913.644 Q59.7073 909.888 59.7073 906.26 Q59.7073 900.753 57.543 897.762 Q55.3786 894.77 51.3682 894.77 Q47.8671 894.77 45.8937 896.934 Q43.9204 899.067 42.9337 903.968 L42.1698 907.883 Q40.7375 915.076 37.682 918.291 Q34.6264 921.506 29.1837 921.506 Q22.8817 921.506 19.2532 917.082 Q15.6248 912.626 15.6248 904.828 Q15.6248 901.486 16.2295 898.016 Q16.8343 894.547 18.0438 890.918 Z\" fill=\"#000000\" fill-rule=\"evenodd\" fill-opacity=\"1\" /><path clip-path=\"url(#clip650)\" d=\"M32.4621 864.469 Q32.4621 869.18 36.1542 871.917 Q39.8145 874.654 46.212 874.654 Q52.6095 874.654 56.3017 871.949 Q59.9619 869.211 59.9619 864.469 Q59.9619 859.79 56.2698 857.053 Q52.5777 854.316 46.212 854.316 Q39.8781 854.316 36.186 857.053 Q32.4621 859.79 32.4621 864.469 M27.4968 864.469 Q27.4968 856.83 32.4621 852.47 Q37.4273 848.109 46.212 848.109 Q54.9649 848.109 59.9619 852.47 Q64.9272 856.83 64.9272 864.469 Q64.9272 872.14 59.9619 876.5 Q54.9649 880.829 46.212 880.829 Q37.4273 880.829 32.4621 876.5 Q27.4968 872.14 27.4968 864.469 Z\" fill=\"#000000\" fill-rule=\"evenodd\" fill-opacity=\"1\" /><path clip-path=\"url(#clip650)\" d=\"M29.7248 812.748 L35.1993 812.748 Q33.8307 815.23 33.1623 817.745 Q32.4621 820.227 32.4621 822.774 Q32.4621 828.471 36.0905 831.622 Q39.6872 834.773 46.212 834.773 Q52.7369 834.773 56.3653 831.622 Q59.9619 828.471 59.9619 822.774 Q59.9619 820.227 59.2935 817.745 Q58.5933 815.23 57.2247 812.748 L62.6355 812.748 Q63.7814 815.198 64.3543 817.84 Q64.9272 820.45 64.9272 823.41 Q64.9272 831.463 59.8664 836.205 Q54.8057 840.948 46.212 840.948 Q37.491 840.948 32.4939 836.173 Q27.4968 831.367 27.4968 823.028 Q27.4968 820.323 28.0697 817.745 Q28.6108 815.167 29.7248 812.748 Z\" fill=\"#000000\" fill-rule=\"evenodd\" fill-opacity=\"1\" /><path clip-path=\"url(#clip650)\" d=\"M28.3562 802.562 L28.3562 796.706 L64.0042 796.706 L64.0042 802.562 L28.3562 802.562 M14.479 802.562 L14.479 796.706 L21.895 796.706 L21.895 802.562 L14.479 802.562 Z\" fill=\"#000000\" fill-rule=\"evenodd\" fill-opacity=\"1\" /><path clip-path=\"url(#clip650)\" d=\"M46.0847 768.251 Q46.0847 775.349 47.7079 778.086 Q49.3312 780.824 53.2461 780.824 Q56.3653 780.824 58.2114 778.787 Q60.0256 776.718 60.0256 773.185 Q60.0256 768.315 56.5881 765.387 Q53.1188 762.427 47.3897 762.427 L46.0847 762.427 L46.0847 768.251 M43.6657 756.57 L64.0042 756.57 L64.0042 762.427 L58.5933 762.427 Q61.8398 764.432 63.3994 767.424 Q64.9272 770.416 64.9272 774.744 Q64.9272 780.219 61.8716 783.465 Q58.7843 786.68 53.6281 786.68 Q47.6125 786.68 44.5569 782.67 Q41.5014 778.627 41.5014 770.638 L41.5014 762.427 L40.9285 762.427 Q36.8862 762.427 34.6901 765.1 Q32.4621 767.742 32.4621 772.548 Q32.4621 775.604 33.1941 778.5 Q33.9262 781.396 35.3903 784.07 L29.9795 784.07 Q28.7381 780.855 28.1334 777.832 Q27.4968 774.808 27.4968 771.943 Q27.4968 764.209 31.5072 760.39 Q35.5176 756.57 43.6657 756.57 Z\" fill=\"#000000\" fill-rule=\"evenodd\" fill-opacity=\"1\" /><path clip-path=\"url(#clip650)\" d=\"M14.479 744.507 L14.479 738.651 L64.0042 738.651 L64.0042 744.507 L14.479 744.507 Z\" fill=\"#000000\" fill-rule=\"evenodd\" fill-opacity=\"1\" /><path clip-path=\"url(#clip650)\" d=\"M14.479 726.397 L14.479 720.54 L64.0042 720.54 L64.0042 726.397 L14.479 726.397 Z\" fill=\"#000000\" fill-rule=\"evenodd\" fill-opacity=\"1\" /><path clip-path=\"url(#clip650)\" d=\"M67.3143 693.454 Q73.68 695.937 75.6216 698.292 Q77.5631 700.647 77.5631 704.594 L77.5631 709.273 L72.6615 709.273 L72.6615 705.836 Q72.6615 703.417 71.5157 702.08 Q70.3699 700.743 66.1048 699.12 L63.4312 698.069 L28.3562 712.488 L28.3562 706.281 L56.238 695.141 L28.3562 684.001 L28.3562 677.795 L67.3143 693.454 Z\" fill=\"#000000\" fill-rule=\"evenodd\" fill-opacity=\"1\" /><path clip-path=\"url(#clip650)\" d=\"M16.4842 648.735 L16.4842 642.306 L60.694 642.306 Q69.2877 642.306 73.1708 645.584 Q77.0539 648.831 77.0539 656.056 L77.0539 658.507 L71.643 658.507 L71.643 656.501 Q71.643 652.236 69.2559 650.486 Q66.8687 648.735 60.694 648.735 L16.4842 648.735 Z\" fill=\"#000000\" fill-rule=\"evenodd\" fill-opacity=\"1\" /><path clip-path=\"url(#clip650)\" d=\"M49.9359 630.37 L28.3562 630.37 L28.3562 624.514 L49.7131 624.514 Q54.7739 624.514 57.3202 622.54 Q59.8346 620.567 59.8346 616.62 Q59.8346 611.878 56.8109 609.14 Q53.7872 606.371 48.5673 606.371 L28.3562 606.371 L28.3562 600.515 L64.0042 600.515 L64.0042 606.371 L58.5296 606.371 Q61.7762 608.504 63.3676 611.337 Q64.9272 614.138 64.9272 617.861 Q64.9272 624.004 61.1078 627.187 Q57.2883 630.37 49.9359 630.37 M27.4968 615.633 L27.4968 615.633 Z\" fill=\"#000000\" fill-rule=\"evenodd\" fill-opacity=\"1\" /><path clip-path=\"url(#clip650)\" d=\"M29.4065 565.726 L34.9447 565.726 Q33.6716 568.209 33.035 570.883 Q32.3984 573.556 32.3984 576.421 Q32.3984 580.781 33.7352 582.977 Q35.072 585.142 37.7456 585.142 Q39.7826 585.142 40.9603 583.582 Q42.1061 582.023 43.1565 577.312 L43.6021 575.307 Q44.9389 569.068 47.3897 566.458 Q49.8086 563.817 54.1691 563.817 Q59.1344 563.817 62.0308 567.763 Q64.9272 571.678 64.9272 578.553 Q64.9272 581.418 64.3543 584.537 Q63.8132 587.624 62.6992 591.062 L56.6518 591.062 Q58.3387 587.815 59.198 584.664 Q60.0256 581.513 60.0256 578.426 Q60.0256 574.288 58.6251 572.06 Q57.1929 569.832 54.6147 569.832 Q52.2276 569.832 50.9545 571.455 Q49.6813 573.047 48.5037 578.49 L48.0262 580.527 Q46.8804 585.969 44.5251 588.388 Q42.138 590.807 38.0002 590.807 Q32.9713 590.807 30.2341 587.242 Q27.4968 583.678 27.4968 577.121 Q27.4968 573.874 27.9743 571.01 Q28.4517 568.145 29.4065 565.726 Z\" fill=\"#000000\" fill-rule=\"evenodd\" fill-opacity=\"1\" /><path clip-path=\"url(#clip650)\" d=\"M18.2347 548.698 L28.3562 548.698 L28.3562 536.635 L32.9077 536.635 L32.9077 548.698 L52.2594 548.698 Q56.6199 548.698 57.8613 547.52 Q59.1026 546.311 59.1026 542.651 L59.1026 536.635 L64.0042 536.635 L64.0042 542.651 Q64.0042 549.43 61.4897 552.008 Q58.9434 554.586 52.2594 554.586 L32.9077 554.586 L32.9077 558.883 L28.3562 558.883 L28.3562 554.586 L18.2347 554.586 L18.2347 548.698 Z\" fill=\"#000000\" fill-rule=\"evenodd\" fill-opacity=\"1\" /><circle clip-path=\"url(#clip652)\" cx=\"460.579\" cy=\"85.838\" r=\"14.4\" fill=\"#009af9\" fill-rule=\"evenodd\" fill-opacity=\"1\" stroke=\"#000000\" stroke-opacity=\"1\" stroke-width=\"3.2\"/>\n",
       "<circle clip-path=\"url(#clip652)\" cx=\"2297.64\" cy=\"1372.3\" r=\"14.4\" fill=\"#009af9\" fill-rule=\"evenodd\" fill-opacity=\"1\" stroke=\"#000000\" stroke-opacity=\"1\" stroke-width=\"3.2\"/>\n",
       "<path clip-path=\"url(#clip650)\" d=\"\n",
       "M2040.69 196.379 L2287.85 196.379 L2287.85 92.6992 L2040.69 92.6992  Z\n",
       "  \" fill=\"#ffffff\" fill-rule=\"evenodd\" fill-opacity=\"1\"/>\n",
       "<polyline clip-path=\"url(#clip650)\" style=\"stroke:#000000; stroke-linecap:round; stroke-linejoin:round; stroke-width:4; stroke-opacity:1; fill:none\" points=\"\n",
       "  2040.69,196.379 2287.85,196.379 2287.85,92.6992 2040.69,92.6992 2040.69,196.379 \n",
       "  \"/>\n",
       "<circle clip-path=\"url(#clip650)\" cx=\"2127.23\" cy=\"144.539\" r=\"23.04\" fill=\"#009af9\" fill-rule=\"evenodd\" fill-opacity=\"1\" stroke=\"#000000\" stroke-opacity=\"1\" stroke-width=\"5.12\"/>\n",
       "<path clip-path=\"url(#clip650)\" d=\"M2227.62 164.227 Q2225.82 168.856 2224.1 170.268 Q2222.39 171.68 2219.52 171.68 L2216.12 171.68 L2216.12 168.115 L2218.62 168.115 Q2220.38 168.115 2221.35 167.282 Q2222.32 166.449 2223.5 163.347 L2224.27 161.403 L2213.78 135.893 L2218.29 135.893 L2226.4 156.171 L2234.5 135.893 L2239.01 135.893 L2227.62 164.227 Z\" fill=\"#000000\" fill-rule=\"evenodd\" fill-opacity=\"1\" /><path clip-path=\"url(#clip650)\" d=\"M2246.3 157.884 L2253.94 157.884 L2253.94 131.518 L2245.63 133.185 L2245.63 128.926 L2253.89 127.259 L2258.57 127.259 L2258.57 157.884 L2266.21 157.884 L2266.21 161.819 L2246.3 161.819 L2246.3 157.884 Z\" fill=\"#000000\" fill-rule=\"evenodd\" fill-opacity=\"1\" /></svg>\n"
      ]
     },
     "execution_count": 57,
     "metadata": {},
     "output_type": "execute_result"
    }
   ],
   "source": [
    "x_axis = [EO1, EO2]\n",
    "y_axis = [SS2, SS1]\n",
    "\n",
    "# plot(x_axis, y_axis)\n",
    "# plot!(x_axis, y_axis, seriestype=:scatter)\n",
    "scatter(x_axis, y_axis)\n",
    "\n",
    "# title!(\"Over the whole supply chain (ϵ-constraint)\")\n",
    "xlabel!(\"Ecologically Safe\")\n",
    "ylabel!(\"Socially Just\")"
   ]
  },
  {
   "cell_type": "markdown",
   "id": "5c2aa1d3",
   "metadata": {},
   "source": [
    "----"
   ]
  },
  {
   "cell_type": "markdown",
   "id": "ebc06cb3",
   "metadata": {},
   "source": [
    "### Pareto Front Plot"
   ]
  },
  {
   "cell_type": "code",
   "execution_count": 58,
   "id": "6f791f8b",
   "metadata": {},
   "outputs": [
    {
     "data": {
      "text/plain": [
       "cal_intm (generic function with 1 method)"
      ]
     },
     "execution_count": 58,
     "metadata": {},
     "output_type": "execute_result"
    }
   ],
   "source": [
    "function cal_intm(EO_m)\n",
    "    model = Model(Gurobi.Optimizer)\n",
    "    set_silent(model)\n",
    "    @variable(model, x[1:ncty, 1:nproc] >= 0)           \n",
    "    @variable(model, y[1:ncty, 1:ncty, 1:nproc] >= 0)\n",
    "    \n",
    "    \n",
    "    cstr_cap = [@constraint(model, x[i,k] <= capacity[!, 2:end][i,k]) for k in 1:nproc for i in 1:ncty]\n",
    "    cstr_op = [@constraint(model, sum(y[i,j,k] for j in 1:ncty) == x[i,k]) for k in 1:nproc for i in 1:ncty]\n",
    "    cstr_cth = [@constraint(model, sum(y[i,j,k] for i in 1:ncty) == x[j,5]*scaler[k]) for k in cathode for j in 1:ncty]\n",
    "    cstr_cell = [@constraint(model, sum(y[i,j,k] for i in 1:ncty) == x[j,11]*scaler[k]) for k in cell for j in 1:ncty]\n",
    "    cstr_noncell = [@constraint(model, sum(y[i,j,k] for i in 1:ncty) == x[j,14]*scaler[k]) for k in noncell for j in 1:ncty]\n",
    "    cstr_battery = [@constraint(model, sum(y[i,j,k] for i in 1:ncty) == x[j,15]*scaler[k]) for k in battery for j in 1:ncty]\n",
    "    \n",
    "    @constraint(model, sum(y[i,mkt_loc,mkt_proc] for i in 1:ncty) == cell_demand)\n",
    "    tmp = filter!(e->e!=mkt_loc,collect(1:ncty))\n",
    "    for j in tmp\n",
    "        @constraint(model, sum(y[i,j,mkt_proc] for i in 1:ncty) == 0);\n",
    "    end\n",
    "    \n",
    "#     @constraint(model, sum(y[i,mkt_loc,mkt_proc] for i in 1:ncty) == cell_demand)\n",
    "#     for j in 1:ncty-1\n",
    "#         @constraint(model, sum(y[i,j,mkt_proc] for i in 1:ncty) == 0)\n",
    "#     end\n",
    "    \n",
    "    \n",
    "    # obj func calculation\n",
    "    proD = (x .* Matrix(regional_EF[:,2:end])) * ones(nproc,1)  # ncty*1 matrix\n",
    "    pro_sink = zeros(ncty, nproc)\n",
    "    for k in 1:nproc\n",
    "        for i in 1:ncty\n",
    "            pro_sink[i,k] = regional_EF[i, k+1] * (sink_c[i]/emission_c[i] + es_ratio)\n",
    "        end\n",
    "    end\n",
    "    proS = (x.*pro_sink)*ones(nproc,1)  # ncty*1 matrix\n",
    "\n",
    "    \n",
    "    transD = Vector{AffExpr}(undef, ncty)\n",
    "    for j in 1:ncty\n",
    "        arc_emi = 0\n",
    "        arc_seq = 0\n",
    "        for i in 1:ncty\n",
    "            amount = sum(y[i,j,k] for k in 1:nproc)\n",
    "            arc_emi += amount * distance[!, 2:end][i,j] * EF_trans\n",
    "        end\n",
    "        transD[j] = arc_emi  # ncty*1 matrix\n",
    "    end\n",
    "    \n",
    "    Allo_soc = proD ./ emission_c .* Dsoc\n",
    "    SS = Allo_soc - (proD + transD)\n",
    "    \n",
    "    EO = sum(proD - proS + transD)\n",
    "    @constraint(model, EO==EO_m)\n",
    "    \n",
    "    @objective(model, Min, sum(SS));\n",
    "\n",
    "    JuMP.optimize!(model)\n",
    "    opt_obj = JuMP.objective_value(model)\n",
    "    \n",
    "    return opt_obj\n",
    "end\n",
    "    "
   ]
  },
  {
   "cell_type": "code",
   "execution_count": 59,
   "id": "d9c41ac2",
   "metadata": {},
   "outputs": [
    {
     "data": {
      "text/plain": [
       "ep_constraint (generic function with 1 method)"
      ]
     },
     "execution_count": 59,
     "metadata": {},
     "output_type": "execute_result"
    }
   ],
   "source": [
    "function ep_constraint(N, EO1, EO2)\n",
    "    \n",
    "    ep = (EO2 - EO1) / N\n",
    "    lsss = []\n",
    "    lseo = []\n",
    "    for i in 0:N\n",
    "        EO_m = EO1 + i*ep\n",
    "        obj_ss = cal_intm(EO_m)\n",
    "        push!(lsss, obj_ss)\n",
    "        push!(lseo, EO_m)\n",
    "    end\n",
    "    \n",
    "    return lsss, lseo\n",
    "end\n",
    "        "
   ]
  },
  {
   "cell_type": "code",
   "execution_count": 60,
   "id": "20c8b158",
   "metadata": {},
   "outputs": [
    {
     "name": "stdout",
     "output_type": "stream",
     "text": [
      "Academic license - for non-commercial use only - expires 2024-12-26\r\n",
      "Academic license - for non-commercial use only - expires 2024-12-26\r\n",
      "Academic license - for non-commercial use only - expires 2024-12-26\r\n",
      "Academic license - for non-commercial use only - expires 2024-12-26\r\n",
      "Academic license - for non-commercial use only - expires 2024-12-26\r\n"
     ]
    },
    {
     "data": {
      "text/plain": [
       "(Any[-9.16961495628338e6, -1.1249843181737576e7, -1.2291016115949703e7, -1.2840372863405662e7, -1.3171065447874242e7], Any[905237.170677799, 2.596703224540186e6, 4.288169278402573e6, 5.97963533226496e6, 7.671101386127347e6])"
      ]
     },
     "execution_count": 60,
     "metadata": {},
     "output_type": "execute_result"
    }
   ],
   "source": [
    "ls_ss, ls_eo = ep_constraint(4, EO1, EO2)"
   ]
  },
  {
   "cell_type": "code",
   "execution_count": 61,
   "id": "39cd17cd",
   "metadata": {},
   "outputs": [
    {
     "data": {
      "image/svg+xml": [
       "<?xml version=\"1.0\" encoding=\"utf-8\"?>\n",
       "<svg xmlns=\"http://www.w3.org/2000/svg\" xmlns:xlink=\"http://www.w3.org/1999/xlink\" width=\"600\" height=\"400\" viewBox=\"0 0 2400 1600\">\n",
       "<defs>\n",
       "  <clipPath id=\"clip690\">\n",
       "    <rect x=\"0\" y=\"0\" width=\"2400\" height=\"1600\"/>\n",
       "  </clipPath>\n",
       "</defs>\n",
       "<path clip-path=\"url(#clip690)\" d=\"\n",
       "M0 1600 L2400 1600 L2400 0 L0 0  Z\n",
       "  \" fill=\"#ffffff\" fill-rule=\"evenodd\" fill-opacity=\"1\"/>\n",
       "<defs>\n",
       "  <clipPath id=\"clip691\">\n",
       "    <rect x=\"480\" y=\"0\" width=\"1681\" height=\"1600\"/>\n",
       "  </clipPath>\n",
       "</defs>\n",
       "<path clip-path=\"url(#clip690)\" d=\"\n",
       "M405.467 1410.9 L2352.76 1410.9 L2352.76 123.472 L405.467 123.472  Z\n",
       "  \" fill=\"#ffffff\" fill-rule=\"evenodd\" fill-opacity=\"1\"/>\n",
       "<defs>\n",
       "  <clipPath id=\"clip692\">\n",
       "    <rect x=\"405\" y=\"123\" width=\"1948\" height=\"1288\"/>\n",
       "  </clipPath>\n",
       "</defs>\n",
       "<polyline clip-path=\"url(#clip692)\" style=\"stroke:#000000; stroke-linecap:round; stroke-linejoin:round; stroke-width:2; stroke-opacity:0.1; fill:none\" points=\"\n",
       "  486.309,1410.9 486.309,123.472 \n",
       "  \"/>\n",
       "<polyline clip-path=\"url(#clip692)\" style=\"stroke:#000000; stroke-linecap:round; stroke-linejoin:round; stroke-width:2; stroke-opacity:0.1; fill:none\" points=\"\n",
       "  757.829,1410.9 757.829,123.472 \n",
       "  \"/>\n",
       "<polyline clip-path=\"url(#clip692)\" style=\"stroke:#000000; stroke-linecap:round; stroke-linejoin:round; stroke-width:2; stroke-opacity:0.1; fill:none\" points=\"\n",
       "  1029.35,1410.9 1029.35,123.472 \n",
       "  \"/>\n",
       "<polyline clip-path=\"url(#clip692)\" style=\"stroke:#000000; stroke-linecap:round; stroke-linejoin:round; stroke-width:2; stroke-opacity:0.1; fill:none\" points=\"\n",
       "  1300.87,1410.9 1300.87,123.472 \n",
       "  \"/>\n",
       "<polyline clip-path=\"url(#clip692)\" style=\"stroke:#000000; stroke-linecap:round; stroke-linejoin:round; stroke-width:2; stroke-opacity:0.1; fill:none\" points=\"\n",
       "  1572.39,1410.9 1572.39,123.472 \n",
       "  \"/>\n",
       "<polyline clip-path=\"url(#clip692)\" style=\"stroke:#000000; stroke-linecap:round; stroke-linejoin:round; stroke-width:2; stroke-opacity:0.1; fill:none\" points=\"\n",
       "  1843.91,1410.9 1843.91,123.472 \n",
       "  \"/>\n",
       "<polyline clip-path=\"url(#clip692)\" style=\"stroke:#000000; stroke-linecap:round; stroke-linejoin:round; stroke-width:2; stroke-opacity:0.1; fill:none\" points=\"\n",
       "  2115.43,1410.9 2115.43,123.472 \n",
       "  \"/>\n",
       "<polyline clip-path=\"url(#clip690)\" style=\"stroke:#000000; stroke-linecap:round; stroke-linejoin:round; stroke-width:4; stroke-opacity:1; fill:none\" points=\"\n",
       "  405.467,1410.9 2352.76,1410.9 \n",
       "  \"/>\n",
       "<polyline clip-path=\"url(#clip690)\" style=\"stroke:#000000; stroke-linecap:round; stroke-linejoin:round; stroke-width:4; stroke-opacity:1; fill:none\" points=\"\n",
       "  486.309,1410.9 486.309,1392 \n",
       "  \"/>\n",
       "<polyline clip-path=\"url(#clip690)\" style=\"stroke:#000000; stroke-linecap:round; stroke-linejoin:round; stroke-width:4; stroke-opacity:1; fill:none\" points=\"\n",
       "  757.829,1410.9 757.829,1392 \n",
       "  \"/>\n",
       "<polyline clip-path=\"url(#clip690)\" style=\"stroke:#000000; stroke-linecap:round; stroke-linejoin:round; stroke-width:4; stroke-opacity:1; fill:none\" points=\"\n",
       "  1029.35,1410.9 1029.35,1392 \n",
       "  \"/>\n",
       "<polyline clip-path=\"url(#clip690)\" style=\"stroke:#000000; stroke-linecap:round; stroke-linejoin:round; stroke-width:4; stroke-opacity:1; fill:none\" points=\"\n",
       "  1300.87,1410.9 1300.87,1392 \n",
       "  \"/>\n",
       "<polyline clip-path=\"url(#clip690)\" style=\"stroke:#000000; stroke-linecap:round; stroke-linejoin:round; stroke-width:4; stroke-opacity:1; fill:none\" points=\"\n",
       "  1572.39,1410.9 1572.39,1392 \n",
       "  \"/>\n",
       "<polyline clip-path=\"url(#clip690)\" style=\"stroke:#000000; stroke-linecap:round; stroke-linejoin:round; stroke-width:4; stroke-opacity:1; fill:none\" points=\"\n",
       "  1843.91,1410.9 1843.91,1392 \n",
       "  \"/>\n",
       "<polyline clip-path=\"url(#clip690)\" style=\"stroke:#000000; stroke-linecap:round; stroke-linejoin:round; stroke-width:4; stroke-opacity:1; fill:none\" points=\"\n",
       "  2115.43,1410.9 2115.43,1392 \n",
       "  \"/>\n",
       "<path clip-path=\"url(#clip690)\" d=\"M393.744 1485.02 L401.383 1485.02 L401.383 1458.66 L393.072 1460.32 L393.072 1456.06 L401.336 1454.4 L406.012 1454.4 L406.012 1485.02 L413.651 1485.02 L413.651 1488.96 L393.744 1488.96 L393.744 1485.02 Z\" fill=\"#000000\" fill-rule=\"evenodd\" fill-opacity=\"1\" /><path clip-path=\"url(#clip690)\" d=\"M423.095 1483.08 L427.98 1483.08 L427.98 1488.96 L423.095 1488.96 L423.095 1483.08 Z\" fill=\"#000000\" fill-rule=\"evenodd\" fill-opacity=\"1\" /><path clip-path=\"url(#clip690)\" d=\"M448.165 1457.48 Q444.554 1457.48 442.725 1461.04 Q440.919 1464.58 440.919 1471.71 Q440.919 1478.82 442.725 1482.38 Q444.554 1485.92 448.165 1485.92 Q451.799 1485.92 453.604 1482.38 Q455.433 1478.82 455.433 1471.71 Q455.433 1464.58 453.604 1461.04 Q451.799 1457.48 448.165 1457.48 M448.165 1453.77 Q453.975 1453.77 457.03 1458.38 Q460.109 1462.96 460.109 1471.71 Q460.109 1480.44 457.03 1485.04 Q453.975 1489.63 448.165 1489.63 Q442.355 1489.63 439.276 1485.04 Q436.22 1480.44 436.22 1471.71 Q436.22 1462.96 439.276 1458.38 Q442.355 1453.77 448.165 1453.77 Z\" fill=\"#000000\" fill-rule=\"evenodd\" fill-opacity=\"1\" /><path clip-path=\"url(#clip690)\" d=\"M496.498 1463.49 L485.919 1474.12 L496.498 1484.7 L493.743 1487.5 L483.118 1476.87 L472.493 1487.5 L469.762 1484.7 L480.317 1474.12 L469.762 1463.49 L472.493 1460.69 L483.118 1471.32 L493.743 1460.69 L496.498 1463.49 Z\" fill=\"#000000\" fill-rule=\"evenodd\" fill-opacity=\"1\" /><path clip-path=\"url(#clip690)\" d=\"M508.859 1485.02 L516.498 1485.02 L516.498 1458.66 L508.188 1460.32 L508.188 1456.06 L516.451 1454.4 L521.127 1454.4 L521.127 1485.02 L528.766 1485.02 L528.766 1488.96 L508.859 1488.96 L508.859 1485.02 Z\" fill=\"#000000\" fill-rule=\"evenodd\" fill-opacity=\"1\" /><path clip-path=\"url(#clip690)\" d=\"M548.21 1457.48 Q544.599 1457.48 542.771 1461.04 Q540.965 1464.58 540.965 1471.71 Q540.965 1478.82 542.771 1482.38 Q544.599 1485.92 548.21 1485.92 Q551.845 1485.92 553.65 1482.38 Q555.479 1478.82 555.479 1471.71 Q555.479 1464.58 553.65 1461.04 Q551.845 1457.48 548.21 1457.48 M548.21 1453.77 Q554.021 1453.77 557.076 1458.38 Q560.155 1462.96 560.155 1471.71 Q560.155 1480.44 557.076 1485.04 Q554.021 1489.63 548.21 1489.63 Q542.4 1489.63 539.322 1485.04 Q536.266 1480.44 536.266 1471.71 Q536.266 1462.96 539.322 1458.38 Q542.4 1453.77 548.21 1453.77 Z\" fill=\"#000000\" fill-rule=\"evenodd\" fill-opacity=\"1\" /><path clip-path=\"url(#clip690)\" d=\"M570.179 1445.99 Q567.622 1445.99 566.117 1447.74 Q564.631 1449.49 564.631 1452.54 Q564.631 1455.57 566.117 1457.33 Q567.622 1459.08 570.179 1459.08 Q572.737 1459.08 574.223 1457.33 Q575.728 1455.57 575.728 1452.54 Q575.728 1449.49 574.223 1447.74 Q572.737 1445.99 570.179 1445.99 M577.721 1434.09 L577.721 1437.55 Q576.292 1436.87 574.825 1436.51 Q573.377 1436.16 571.947 1436.16 Q568.186 1436.16 566.192 1438.69 Q564.217 1441.23 563.935 1446.37 Q565.045 1444.73 566.719 1443.87 Q568.393 1442.98 570.405 1442.98 Q574.637 1442.98 577.082 1445.56 Q579.546 1448.12 579.546 1452.54 Q579.546 1456.86 576.988 1459.48 Q574.43 1462.09 570.179 1462.09 Q565.308 1462.09 562.732 1458.37 Q560.155 1454.62 560.155 1447.53 Q560.155 1440.88 563.315 1436.93 Q566.474 1432.96 571.797 1432.96 Q573.226 1432.96 574.674 1433.24 Q576.141 1433.52 577.721 1434.09 Z\" fill=\"#000000\" fill-rule=\"evenodd\" fill-opacity=\"1\" /><path clip-path=\"url(#clip690)\" d=\"M669.349 1485.02 L685.668 1485.02 L685.668 1488.96 L663.724 1488.96 L663.724 1485.02 Q666.386 1482.27 670.969 1477.64 Q675.576 1472.98 676.756 1471.64 Q679.002 1469.12 679.881 1467.38 Q680.784 1465.62 680.784 1463.93 Q680.784 1461.18 678.84 1459.44 Q676.918 1457.71 673.817 1457.71 Q671.617 1457.71 669.164 1458.47 Q666.733 1459.23 663.955 1460.79 L663.955 1456.06 Q666.78 1454.93 669.233 1454.35 Q671.687 1453.77 673.724 1453.77 Q679.094 1453.77 682.289 1456.46 Q685.483 1459.14 685.483 1463.63 Q685.483 1465.76 684.673 1467.68 Q683.886 1469.58 681.779 1472.17 Q681.201 1472.85 678.099 1476.06 Q674.997 1479.26 669.349 1485.02 Z\" fill=\"#000000\" fill-rule=\"evenodd\" fill-opacity=\"1\" /><path clip-path=\"url(#clip690)\" d=\"M695.483 1483.08 L700.367 1483.08 L700.367 1488.96 L695.483 1488.96 L695.483 1483.08 Z\" fill=\"#000000\" fill-rule=\"evenodd\" fill-opacity=\"1\" /><path clip-path=\"url(#clip690)\" d=\"M720.552 1457.48 Q716.941 1457.48 715.113 1461.04 Q713.307 1464.58 713.307 1471.71 Q713.307 1478.82 715.113 1482.38 Q716.941 1485.92 720.552 1485.92 Q724.187 1485.92 725.992 1482.38 Q727.821 1478.82 727.821 1471.71 Q727.821 1464.58 725.992 1461.04 Q724.187 1457.48 720.552 1457.48 M720.552 1453.77 Q726.363 1453.77 729.418 1458.38 Q732.497 1462.96 732.497 1471.71 Q732.497 1480.44 729.418 1485.04 Q726.363 1489.63 720.552 1489.63 Q714.742 1489.63 711.664 1485.04 Q708.608 1480.44 708.608 1471.71 Q708.608 1462.96 711.664 1458.38 Q714.742 1453.77 720.552 1453.77 Z\" fill=\"#000000\" fill-rule=\"evenodd\" fill-opacity=\"1\" /><path clip-path=\"url(#clip690)\" d=\"M768.885 1463.49 L758.307 1474.12 L768.885 1484.7 L766.131 1487.5 L755.506 1476.87 L744.881 1487.5 L742.149 1484.7 L752.705 1474.12 L742.149 1463.49 L744.881 1460.69 L755.506 1471.32 L766.131 1460.69 L768.885 1463.49 Z\" fill=\"#000000\" fill-rule=\"evenodd\" fill-opacity=\"1\" /><path clip-path=\"url(#clip690)\" d=\"M781.247 1485.02 L788.885 1485.02 L788.885 1458.66 L780.575 1460.32 L780.575 1456.06 L788.839 1454.4 L793.515 1454.4 L793.515 1485.02 L801.154 1485.02 L801.154 1488.96 L781.247 1488.96 L781.247 1485.02 Z\" fill=\"#000000\" fill-rule=\"evenodd\" fill-opacity=\"1\" /><path clip-path=\"url(#clip690)\" d=\"M820.598 1457.48 Q816.987 1457.48 815.158 1461.04 Q813.353 1464.58 813.353 1471.71 Q813.353 1478.82 815.158 1482.38 Q816.987 1485.92 820.598 1485.92 Q824.232 1485.92 826.038 1482.38 Q827.867 1478.82 827.867 1471.71 Q827.867 1464.58 826.038 1461.04 Q824.232 1457.48 820.598 1457.48 M820.598 1453.77 Q826.408 1453.77 829.464 1458.38 Q832.543 1462.96 832.543 1471.71 Q832.543 1480.44 829.464 1485.04 Q826.408 1489.63 820.598 1489.63 Q814.788 1489.63 811.709 1485.04 Q808.654 1480.44 808.654 1471.71 Q808.654 1462.96 811.709 1458.38 Q814.788 1453.77 820.598 1453.77 Z\" fill=\"#000000\" fill-rule=\"evenodd\" fill-opacity=\"1\" /><path clip-path=\"url(#clip690)\" d=\"M842.567 1445.99 Q840.009 1445.99 838.505 1447.74 Q837.019 1449.49 837.019 1452.54 Q837.019 1455.57 838.505 1457.33 Q840.009 1459.08 842.567 1459.08 Q845.125 1459.08 846.611 1457.33 Q848.115 1455.57 848.115 1452.54 Q848.115 1449.49 846.611 1447.74 Q845.125 1445.99 842.567 1445.99 M850.109 1434.09 L850.109 1437.55 Q848.68 1436.87 847.213 1436.51 Q845.764 1436.16 844.335 1436.16 Q840.573 1436.16 838.58 1438.69 Q836.605 1441.23 836.323 1446.37 Q837.433 1444.73 839.106 1443.87 Q840.78 1442.98 842.793 1442.98 Q847.025 1442.98 849.47 1445.56 Q851.933 1448.12 851.933 1452.54 Q851.933 1456.86 849.375 1459.48 Q846.818 1462.09 842.567 1462.09 Q837.696 1462.09 835.119 1458.37 Q832.543 1454.62 832.543 1447.53 Q832.543 1440.88 835.702 1436.93 Q838.862 1432.96 844.185 1432.96 Q845.614 1432.96 847.062 1433.24 Q848.529 1433.52 850.109 1434.09 Z\" fill=\"#000000\" fill-rule=\"evenodd\" fill-opacity=\"1\" /><path clip-path=\"url(#clip690)\" d=\"M950.938 1470.32 Q954.294 1471.04 956.169 1473.31 Q958.068 1475.58 958.068 1478.91 Q958.068 1484.03 954.549 1486.83 Q951.031 1489.63 944.549 1489.63 Q942.373 1489.63 940.058 1489.19 Q937.767 1488.77 935.313 1487.91 L935.313 1483.4 Q937.257 1484.54 939.572 1485.11 Q941.887 1485.69 944.41 1485.69 Q948.808 1485.69 951.1 1483.96 Q953.415 1482.22 953.415 1478.91 Q953.415 1475.85 951.262 1474.14 Q949.132 1472.41 945.313 1472.41 L941.285 1472.41 L941.285 1468.56 L945.498 1468.56 Q948.947 1468.56 950.776 1467.2 Q952.605 1465.81 952.605 1463.22 Q952.605 1460.55 950.706 1459.14 Q948.831 1457.71 945.313 1457.71 Q943.392 1457.71 941.193 1458.12 Q938.994 1458.54 936.355 1459.42 L936.355 1455.25 Q939.017 1454.51 941.332 1454.14 Q943.669 1453.77 945.73 1453.77 Q951.054 1453.77 954.156 1456.2 Q957.257 1458.61 957.257 1462.73 Q957.257 1465.6 955.614 1467.59 Q953.97 1469.56 950.938 1470.32 Z\" fill=\"#000000\" fill-rule=\"evenodd\" fill-opacity=\"1\" /><path clip-path=\"url(#clip690)\" d=\"M966.933 1483.08 L971.817 1483.08 L971.817 1488.96 L966.933 1488.96 L966.933 1483.08 Z\" fill=\"#000000\" fill-rule=\"evenodd\" fill-opacity=\"1\" /><path clip-path=\"url(#clip690)\" d=\"M992.003 1457.48 Q988.391 1457.48 986.563 1461.04 Q984.757 1464.58 984.757 1471.71 Q984.757 1478.82 986.563 1482.38 Q988.391 1485.92 992.003 1485.92 Q995.637 1485.92 997.442 1482.38 Q999.271 1478.82 999.271 1471.71 Q999.271 1464.58 997.442 1461.04 Q995.637 1457.48 992.003 1457.48 M992.003 1453.77 Q997.813 1453.77 1000.87 1458.38 Q1003.95 1462.96 1003.95 1471.71 Q1003.95 1480.44 1000.87 1485.04 Q997.813 1489.63 992.003 1489.63 Q986.192 1489.63 983.114 1485.04 Q980.058 1480.44 980.058 1471.71 Q980.058 1462.96 983.114 1458.38 Q986.192 1453.77 992.003 1453.77 Z\" fill=\"#000000\" fill-rule=\"evenodd\" fill-opacity=\"1\" /><path clip-path=\"url(#clip690)\" d=\"M1040.34 1463.49 L1029.76 1474.12 L1040.34 1484.7 L1037.58 1487.5 L1026.96 1476.87 L1016.33 1487.5 L1013.6 1484.7 L1024.16 1474.12 L1013.6 1463.49 L1016.33 1460.69 L1026.96 1471.32 L1037.58 1460.69 L1040.34 1463.49 Z\" fill=\"#000000\" fill-rule=\"evenodd\" fill-opacity=\"1\" /><path clip-path=\"url(#clip690)\" d=\"M1052.7 1485.02 L1060.34 1485.02 L1060.34 1458.66 L1052.03 1460.32 L1052.03 1456.06 L1060.29 1454.4 L1064.97 1454.4 L1064.97 1485.02 L1072.6 1485.02 L1072.6 1488.96 L1052.7 1488.96 L1052.7 1485.02 Z\" fill=\"#000000\" fill-rule=\"evenodd\" fill-opacity=\"1\" /><path clip-path=\"url(#clip690)\" d=\"M1092.05 1457.48 Q1088.44 1457.48 1086.61 1461.04 Q1084.8 1464.58 1084.8 1471.71 Q1084.8 1478.82 1086.61 1482.38 Q1088.44 1485.92 1092.05 1485.92 Q1095.68 1485.92 1097.49 1482.38 Q1099.32 1478.82 1099.32 1471.71 Q1099.32 1464.58 1097.49 1461.04 Q1095.68 1457.48 1092.05 1457.48 M1092.05 1453.77 Q1097.86 1453.77 1100.91 1458.38 Q1103.99 1462.96 1103.99 1471.71 Q1103.99 1480.44 1100.91 1485.04 Q1097.86 1489.63 1092.05 1489.63 Q1086.24 1489.63 1083.16 1485.04 Q1080.1 1480.44 1080.1 1471.71 Q1080.1 1462.96 1083.16 1458.38 Q1086.24 1453.77 1092.05 1453.77 Z\" fill=\"#000000\" fill-rule=\"evenodd\" fill-opacity=\"1\" /><path clip-path=\"url(#clip690)\" d=\"M1114.02 1445.99 Q1111.46 1445.99 1109.95 1447.74 Q1108.47 1449.49 1108.47 1452.54 Q1108.47 1455.57 1109.95 1457.33 Q1111.46 1459.08 1114.02 1459.08 Q1116.58 1459.08 1118.06 1457.33 Q1119.57 1455.57 1119.57 1452.54 Q1119.57 1449.49 1118.06 1447.74 Q1116.58 1445.99 1114.02 1445.99 M1121.56 1434.09 L1121.56 1437.55 Q1120.13 1436.87 1118.66 1436.51 Q1117.21 1436.16 1115.79 1436.16 Q1112.02 1436.16 1110.03 1438.69 Q1108.06 1441.23 1107.77 1446.37 Q1108.88 1444.73 1110.56 1443.87 Q1112.23 1442.98 1114.24 1442.98 Q1118.47 1442.98 1120.92 1445.56 Q1123.38 1448.12 1123.38 1452.54 Q1123.38 1456.86 1120.83 1459.48 Q1118.27 1462.09 1114.02 1462.09 Q1109.15 1462.09 1106.57 1458.37 Q1103.99 1454.62 1103.99 1447.53 Q1103.99 1440.88 1107.15 1436.93 Q1110.31 1432.96 1115.63 1432.96 Q1117.06 1432.96 1118.51 1433.24 Q1119.98 1433.52 1121.56 1434.09 Z\" fill=\"#000000\" fill-rule=\"evenodd\" fill-opacity=\"1\" /><path clip-path=\"url(#clip690)\" d=\"M1221.79 1458.47 L1209.98 1476.92 L1221.79 1476.92 L1221.79 1458.47 M1220.56 1454.4 L1226.44 1454.4 L1226.44 1476.92 L1231.37 1476.92 L1231.37 1480.81 L1226.44 1480.81 L1226.44 1488.96 L1221.79 1488.96 L1221.79 1480.81 L1206.18 1480.81 L1206.18 1476.29 L1220.56 1454.4 Z\" fill=\"#000000\" fill-rule=\"evenodd\" fill-opacity=\"1\" /><path clip-path=\"url(#clip690)\" d=\"M1239.1 1483.08 L1243.99 1483.08 L1243.99 1488.96 L1239.1 1488.96 L1239.1 1483.08 Z\" fill=\"#000000\" fill-rule=\"evenodd\" fill-opacity=\"1\" /><path clip-path=\"url(#clip690)\" d=\"M1264.17 1457.48 Q1260.56 1457.48 1258.73 1461.04 Q1256.92 1464.58 1256.92 1471.71 Q1256.92 1478.82 1258.73 1482.38 Q1260.56 1485.92 1264.17 1485.92 Q1267.8 1485.92 1269.61 1482.38 Q1271.44 1478.82 1271.44 1471.71 Q1271.44 1464.58 1269.61 1461.04 Q1267.8 1457.48 1264.17 1457.48 M1264.17 1453.77 Q1269.98 1453.77 1273.04 1458.38 Q1276.11 1462.96 1276.11 1471.71 Q1276.11 1480.44 1273.04 1485.04 Q1269.98 1489.63 1264.17 1489.63 Q1258.36 1489.63 1255.28 1485.04 Q1252.23 1480.44 1252.23 1471.71 Q1252.23 1462.96 1255.28 1458.38 Q1258.36 1453.77 1264.17 1453.77 Z\" fill=\"#000000\" fill-rule=\"evenodd\" fill-opacity=\"1\" /><path clip-path=\"url(#clip690)\" d=\"M1312.5 1463.49 L1301.92 1474.12 L1312.5 1484.7 L1309.75 1487.5 L1299.12 1476.87 L1288.5 1487.5 L1285.77 1484.7 L1296.32 1474.12 L1285.77 1463.49 L1288.5 1460.69 L1299.12 1471.32 L1309.75 1460.69 L1312.5 1463.49 Z\" fill=\"#000000\" fill-rule=\"evenodd\" fill-opacity=\"1\" /><path clip-path=\"url(#clip690)\" d=\"M1324.86 1485.02 L1332.5 1485.02 L1332.5 1458.66 L1324.19 1460.32 L1324.19 1456.06 L1332.46 1454.4 L1337.13 1454.4 L1337.13 1485.02 L1344.77 1485.02 L1344.77 1488.96 L1324.86 1488.96 L1324.86 1485.02 Z\" fill=\"#000000\" fill-rule=\"evenodd\" fill-opacity=\"1\" /><path clip-path=\"url(#clip690)\" d=\"M1364.22 1457.48 Q1360.6 1457.48 1358.78 1461.04 Q1356.97 1464.58 1356.97 1471.71 Q1356.97 1478.82 1358.78 1482.38 Q1360.6 1485.92 1364.22 1485.92 Q1367.85 1485.92 1369.66 1482.38 Q1371.48 1478.82 1371.48 1471.71 Q1371.48 1464.58 1369.66 1461.04 Q1367.85 1457.48 1364.22 1457.48 M1364.22 1453.77 Q1370.03 1453.77 1373.08 1458.38 Q1376.16 1462.96 1376.16 1471.71 Q1376.16 1480.44 1373.08 1485.04 Q1370.03 1489.63 1364.22 1489.63 Q1358.41 1489.63 1355.33 1485.04 Q1352.27 1480.44 1352.27 1471.71 Q1352.27 1462.96 1355.33 1458.38 Q1358.41 1453.77 1364.22 1453.77 Z\" fill=\"#000000\" fill-rule=\"evenodd\" fill-opacity=\"1\" /><path clip-path=\"url(#clip690)\" d=\"M1386.19 1445.99 Q1383.63 1445.99 1382.12 1447.74 Q1380.64 1449.49 1380.64 1452.54 Q1380.64 1455.57 1382.12 1457.33 Q1383.63 1459.08 1386.19 1459.08 Q1388.74 1459.08 1390.23 1457.33 Q1391.73 1455.57 1391.73 1452.54 Q1391.73 1449.49 1390.23 1447.74 Q1388.74 1445.99 1386.19 1445.99 M1393.73 1434.09 L1393.73 1437.55 Q1392.3 1436.87 1390.83 1436.51 Q1389.38 1436.16 1387.95 1436.16 Q1384.19 1436.16 1382.2 1438.69 Q1380.22 1441.23 1379.94 1446.37 Q1381.05 1444.73 1382.72 1443.87 Q1384.4 1442.98 1386.41 1442.98 Q1390.64 1442.98 1393.09 1445.56 Q1395.55 1448.12 1395.55 1452.54 Q1395.55 1456.86 1392.99 1459.48 Q1390.44 1462.09 1386.19 1462.09 Q1381.31 1462.09 1378.74 1458.37 Q1376.16 1454.62 1376.16 1447.53 Q1376.16 1440.88 1379.32 1436.93 Q1382.48 1432.96 1387.8 1432.96 Q1389.23 1432.96 1390.68 1433.24 Q1392.15 1433.52 1393.73 1434.09 Z\" fill=\"#000000\" fill-rule=\"evenodd\" fill-opacity=\"1\" /><path clip-path=\"url(#clip690)\" d=\"M1479.83 1454.4 L1498.19 1454.4 L1498.19 1458.33 L1484.12 1458.33 L1484.12 1466.8 Q1485.13 1466.46 1486.15 1466.29 Q1487.17 1466.11 1488.19 1466.11 Q1493.98 1466.11 1497.36 1469.28 Q1500.74 1472.45 1500.74 1477.87 Q1500.74 1483.45 1497.26 1486.55 Q1493.79 1489.63 1487.47 1489.63 Q1485.3 1489.63 1483.03 1489.26 Q1480.78 1488.89 1478.38 1488.15 L1478.38 1483.45 Q1480.46 1484.58 1482.68 1485.14 Q1484.9 1485.69 1487.38 1485.69 Q1491.38 1485.69 1493.72 1483.59 Q1496.06 1481.48 1496.06 1477.87 Q1496.06 1474.26 1493.72 1472.15 Q1491.38 1470.04 1487.38 1470.04 Q1485.51 1470.04 1483.63 1470.46 Q1481.78 1470.88 1479.83 1471.76 L1479.83 1454.4 Z\" fill=\"#000000\" fill-rule=\"evenodd\" fill-opacity=\"1\" /><path clip-path=\"url(#clip690)\" d=\"M1509.95 1483.08 L1514.83 1483.08 L1514.83 1488.96 L1509.95 1488.96 L1509.95 1483.08 Z\" fill=\"#000000\" fill-rule=\"evenodd\" fill-opacity=\"1\" /><path clip-path=\"url(#clip690)\" d=\"M1535.02 1457.48 Q1531.41 1457.48 1529.58 1461.04 Q1527.77 1464.58 1527.77 1471.71 Q1527.77 1478.82 1529.58 1482.38 Q1531.41 1485.92 1535.02 1485.92 Q1538.65 1485.92 1540.46 1482.38 Q1542.29 1478.82 1542.29 1471.71 Q1542.29 1464.58 1540.46 1461.04 Q1538.65 1457.48 1535.02 1457.48 M1535.02 1453.77 Q1540.83 1453.77 1543.88 1458.38 Q1546.96 1462.96 1546.96 1471.71 Q1546.96 1480.44 1543.88 1485.04 Q1540.83 1489.63 1535.02 1489.63 Q1529.21 1489.63 1526.13 1485.04 Q1523.07 1480.44 1523.07 1471.71 Q1523.07 1462.96 1526.13 1458.38 Q1529.21 1453.77 1535.02 1453.77 Z\" fill=\"#000000\" fill-rule=\"evenodd\" fill-opacity=\"1\" /><path clip-path=\"url(#clip690)\" d=\"M1583.35 1463.49 L1572.77 1474.12 L1583.35 1484.7 L1580.6 1487.5 L1569.97 1476.87 L1559.35 1487.5 L1556.62 1484.7 L1567.17 1474.12 L1556.62 1463.49 L1559.35 1460.69 L1569.97 1471.32 L1580.6 1460.69 L1583.35 1463.49 Z\" fill=\"#000000\" fill-rule=\"evenodd\" fill-opacity=\"1\" /><path clip-path=\"url(#clip690)\" d=\"M1595.71 1485.02 L1603.35 1485.02 L1603.35 1458.66 L1595.04 1460.32 L1595.04 1456.06 L1603.31 1454.4 L1607.98 1454.4 L1607.98 1485.02 L1615.62 1485.02 L1615.62 1488.96 L1595.71 1488.96 L1595.71 1485.02 Z\" fill=\"#000000\" fill-rule=\"evenodd\" fill-opacity=\"1\" /><path clip-path=\"url(#clip690)\" d=\"M1635.06 1457.48 Q1631.45 1457.48 1629.62 1461.04 Q1627.82 1464.58 1627.82 1471.71 Q1627.82 1478.82 1629.62 1482.38 Q1631.45 1485.92 1635.06 1485.92 Q1638.7 1485.92 1640.5 1482.38 Q1642.33 1478.82 1642.33 1471.71 Q1642.33 1464.58 1640.5 1461.04 Q1638.7 1457.48 1635.06 1457.48 M1635.06 1453.77 Q1640.87 1453.77 1643.93 1458.38 Q1647.01 1462.96 1647.01 1471.71 Q1647.01 1480.44 1643.93 1485.04 Q1640.87 1489.63 1635.06 1489.63 Q1629.25 1489.63 1626.18 1485.04 Q1623.12 1480.44 1623.12 1471.71 Q1623.12 1462.96 1626.18 1458.38 Q1629.25 1453.77 1635.06 1453.77 Z\" fill=\"#000000\" fill-rule=\"evenodd\" fill-opacity=\"1\" /><path clip-path=\"url(#clip690)\" d=\"M1657.03 1445.99 Q1654.48 1445.99 1652.97 1447.74 Q1651.49 1449.49 1651.49 1452.54 Q1651.49 1455.57 1652.97 1457.33 Q1654.48 1459.08 1657.03 1459.08 Q1659.59 1459.08 1661.08 1457.33 Q1662.58 1455.57 1662.58 1452.54 Q1662.58 1449.49 1661.08 1447.74 Q1659.59 1445.99 1657.03 1445.99 M1664.58 1434.09 L1664.58 1437.55 Q1663.15 1436.87 1661.68 1436.51 Q1660.23 1436.16 1658.8 1436.16 Q1655.04 1436.16 1653.05 1438.69 Q1651.07 1441.23 1650.79 1446.37 Q1651.9 1444.73 1653.57 1443.87 Q1655.25 1442.98 1657.26 1442.98 Q1661.49 1442.98 1663.94 1445.56 Q1666.4 1448.12 1666.4 1452.54 Q1666.4 1456.86 1663.84 1459.48 Q1661.28 1462.09 1657.03 1462.09 Q1652.16 1462.09 1649.59 1458.37 Q1647.01 1454.62 1647.01 1447.53 Q1647.01 1440.88 1650.17 1436.93 Q1653.33 1432.96 1658.65 1432.96 Q1660.08 1432.96 1661.53 1433.24 Q1663 1433.52 1664.58 1434.09 Z\" fill=\"#000000\" fill-rule=\"evenodd\" fill-opacity=\"1\" /><path clip-path=\"url(#clip690)\" d=\"M1762.06 1469.81 Q1758.91 1469.81 1757.06 1471.97 Q1755.23 1474.12 1755.23 1477.87 Q1755.23 1481.6 1757.06 1483.77 Q1758.91 1485.92 1762.06 1485.92 Q1765.21 1485.92 1767.04 1483.77 Q1768.89 1481.6 1768.89 1477.87 Q1768.89 1474.12 1767.04 1471.97 Q1765.21 1469.81 1762.06 1469.81 M1771.34 1455.16 L1771.34 1459.42 Q1769.58 1458.59 1767.78 1458.15 Q1765.99 1457.71 1764.24 1457.71 Q1759.61 1457.71 1757.15 1460.83 Q1754.72 1463.96 1754.37 1470.28 Q1755.74 1468.26 1757.8 1467.2 Q1759.86 1466.11 1762.34 1466.11 Q1767.55 1466.11 1770.55 1469.28 Q1773.59 1472.43 1773.59 1477.87 Q1773.59 1483.19 1770.44 1486.41 Q1767.29 1489.63 1762.06 1489.63 Q1756.06 1489.63 1752.89 1485.04 Q1749.72 1480.44 1749.72 1471.71 Q1749.72 1463.52 1753.61 1458.66 Q1757.5 1453.77 1764.05 1453.77 Q1765.81 1453.77 1767.59 1454.12 Q1769.4 1454.47 1771.34 1455.16 Z\" fill=\"#000000\" fill-rule=\"evenodd\" fill-opacity=\"1\" /><path clip-path=\"url(#clip690)\" d=\"M1781.64 1483.08 L1786.53 1483.08 L1786.53 1488.96 L1781.64 1488.96 L1781.64 1483.08 Z\" fill=\"#000000\" fill-rule=\"evenodd\" fill-opacity=\"1\" /><path clip-path=\"url(#clip690)\" d=\"M1806.71 1457.48 Q1803.1 1457.48 1801.27 1461.04 Q1799.47 1464.58 1799.47 1471.71 Q1799.47 1478.82 1801.27 1482.38 Q1803.1 1485.92 1806.71 1485.92 Q1810.35 1485.92 1812.15 1482.38 Q1813.98 1478.82 1813.98 1471.71 Q1813.98 1464.58 1812.15 1461.04 Q1810.35 1457.48 1806.71 1457.48 M1806.71 1453.77 Q1812.52 1453.77 1815.58 1458.38 Q1818.66 1462.96 1818.66 1471.71 Q1818.66 1480.44 1815.58 1485.04 Q1812.52 1489.63 1806.71 1489.63 Q1800.9 1489.63 1797.82 1485.04 Q1794.77 1480.44 1794.77 1471.71 Q1794.77 1462.96 1797.82 1458.38 Q1800.9 1453.77 1806.71 1453.77 Z\" fill=\"#000000\" fill-rule=\"evenodd\" fill-opacity=\"1\" /><path clip-path=\"url(#clip690)\" d=\"M1855.04 1463.49 L1844.47 1474.12 L1855.04 1484.7 L1852.29 1487.5 L1841.67 1476.87 L1831.04 1487.5 L1828.31 1484.7 L1838.86 1474.12 L1828.31 1463.49 L1831.04 1460.69 L1841.67 1471.32 L1852.29 1460.69 L1855.04 1463.49 Z\" fill=\"#000000\" fill-rule=\"evenodd\" fill-opacity=\"1\" /><path clip-path=\"url(#clip690)\" d=\"M1867.41 1485.02 L1875.04 1485.02 L1875.04 1458.66 L1866.73 1460.32 L1866.73 1456.06 L1875 1454.4 L1879.67 1454.4 L1879.67 1485.02 L1887.31 1485.02 L1887.31 1488.96 L1867.41 1488.96 L1867.41 1485.02 Z\" fill=\"#000000\" fill-rule=\"evenodd\" fill-opacity=\"1\" /><path clip-path=\"url(#clip690)\" d=\"M1906.76 1457.48 Q1903.15 1457.48 1901.32 1461.04 Q1899.51 1464.58 1899.51 1471.71 Q1899.51 1478.82 1901.32 1482.38 Q1903.15 1485.92 1906.76 1485.92 Q1910.39 1485.92 1912.2 1482.38 Q1914.03 1478.82 1914.03 1471.71 Q1914.03 1464.58 1912.2 1461.04 Q1910.39 1457.48 1906.76 1457.48 M1906.76 1453.77 Q1912.57 1453.77 1915.62 1458.38 Q1918.7 1462.96 1918.7 1471.71 Q1918.7 1480.44 1915.62 1485.04 Q1912.57 1489.63 1906.76 1489.63 Q1900.95 1489.63 1897.87 1485.04 Q1894.81 1480.44 1894.81 1471.71 Q1894.81 1462.96 1897.87 1458.38 Q1900.95 1453.77 1906.76 1453.77 Z\" fill=\"#000000\" fill-rule=\"evenodd\" fill-opacity=\"1\" /><path clip-path=\"url(#clip690)\" d=\"M1928.73 1445.99 Q1926.17 1445.99 1924.66 1447.74 Q1923.18 1449.49 1923.18 1452.54 Q1923.18 1455.57 1924.66 1457.33 Q1926.17 1459.08 1928.73 1459.08 Q1931.28 1459.08 1932.77 1457.33 Q1934.27 1455.57 1934.27 1452.54 Q1934.27 1449.49 1932.77 1447.74 Q1931.28 1445.99 1928.73 1445.99 M1936.27 1434.09 L1936.27 1437.55 Q1934.84 1436.87 1933.37 1436.51 Q1931.92 1436.16 1930.49 1436.16 Q1926.73 1436.16 1924.74 1438.69 Q1922.76 1441.23 1922.48 1446.37 Q1923.59 1444.73 1925.27 1443.87 Q1926.94 1442.98 1928.95 1442.98 Q1933.18 1442.98 1935.63 1445.56 Q1938.09 1448.12 1938.09 1452.54 Q1938.09 1456.86 1935.53 1459.48 Q1932.98 1462.09 1928.73 1462.09 Q1923.86 1462.09 1921.28 1458.37 Q1918.7 1454.62 1918.7 1447.53 Q1918.7 1440.88 1921.86 1436.93 Q1925.02 1432.96 1930.34 1432.96 Q1931.77 1432.96 1933.22 1433.24 Q1934.69 1433.52 1936.27 1434.09 Z\" fill=\"#000000\" fill-rule=\"evenodd\" fill-opacity=\"1\" /><path clip-path=\"url(#clip690)\" d=\"M2021.53 1454.4 L2043.75 1454.4 L2043.75 1456.39 L2031.21 1488.96 L2026.32 1488.96 L2038.13 1458.33 L2021.53 1458.33 L2021.53 1454.4 Z\" fill=\"#000000\" fill-rule=\"evenodd\" fill-opacity=\"1\" /><path clip-path=\"url(#clip690)\" d=\"M2052.87 1483.08 L2057.76 1483.08 L2057.76 1488.96 L2052.87 1488.96 L2052.87 1483.08 Z\" fill=\"#000000\" fill-rule=\"evenodd\" fill-opacity=\"1\" /><path clip-path=\"url(#clip690)\" d=\"M2077.94 1457.48 Q2074.33 1457.48 2072.5 1461.04 Q2070.7 1464.58 2070.7 1471.71 Q2070.7 1478.82 2072.5 1482.38 Q2074.33 1485.92 2077.94 1485.92 Q2081.58 1485.92 2083.38 1482.38 Q2085.21 1478.82 2085.21 1471.71 Q2085.21 1464.58 2083.38 1461.04 Q2081.58 1457.48 2077.94 1457.48 M2077.94 1453.77 Q2083.75 1453.77 2086.81 1458.38 Q2089.89 1462.96 2089.89 1471.71 Q2089.89 1480.44 2086.81 1485.04 Q2083.75 1489.63 2077.94 1489.63 Q2072.13 1489.63 2069.05 1485.04 Q2066 1480.44 2066 1471.71 Q2066 1462.96 2069.05 1458.38 Q2072.13 1453.77 2077.94 1453.77 Z\" fill=\"#000000\" fill-rule=\"evenodd\" fill-opacity=\"1\" /><path clip-path=\"url(#clip690)\" d=\"M2126.28 1463.49 L2115.7 1474.12 L2126.28 1484.7 L2123.52 1487.5 L2112.9 1476.87 L2102.27 1487.5 L2099.54 1484.7 L2110.09 1474.12 L2099.54 1463.49 L2102.27 1460.69 L2112.9 1471.32 L2123.52 1460.69 L2126.28 1463.49 Z\" fill=\"#000000\" fill-rule=\"evenodd\" fill-opacity=\"1\" /><path clip-path=\"url(#clip690)\" d=\"M2138.64 1485.02 L2146.28 1485.02 L2146.28 1458.66 L2137.96 1460.32 L2137.96 1456.06 L2146.23 1454.4 L2150.9 1454.4 L2150.9 1485.02 L2158.54 1485.02 L2158.54 1488.96 L2138.64 1488.96 L2138.64 1485.02 Z\" fill=\"#000000\" fill-rule=\"evenodd\" fill-opacity=\"1\" /><path clip-path=\"url(#clip690)\" d=\"M2177.99 1457.48 Q2174.38 1457.48 2172.55 1461.04 Q2170.74 1464.58 2170.74 1471.71 Q2170.74 1478.82 2172.55 1482.38 Q2174.38 1485.92 2177.99 1485.92 Q2181.62 1485.92 2183.43 1482.38 Q2185.26 1478.82 2185.26 1471.71 Q2185.26 1464.58 2183.43 1461.04 Q2181.62 1457.48 2177.99 1457.48 M2177.99 1453.77 Q2183.8 1453.77 2186.85 1458.38 Q2189.93 1462.96 2189.93 1471.71 Q2189.93 1480.44 2186.85 1485.04 Q2183.8 1489.63 2177.99 1489.63 Q2172.18 1489.63 2169.1 1485.04 Q2166.04 1480.44 2166.04 1471.71 Q2166.04 1462.96 2169.1 1458.38 Q2172.18 1453.77 2177.99 1453.77 Z\" fill=\"#000000\" fill-rule=\"evenodd\" fill-opacity=\"1\" /><path clip-path=\"url(#clip690)\" d=\"M2199.96 1445.99 Q2197.4 1445.99 2195.89 1447.74 Q2194.41 1449.49 2194.41 1452.54 Q2194.41 1455.57 2195.89 1457.33 Q2197.4 1459.08 2199.96 1459.08 Q2202.51 1459.08 2204 1457.33 Q2205.51 1455.57 2205.51 1452.54 Q2205.51 1449.49 2204 1447.74 Q2202.51 1445.99 2199.96 1445.99 M2207.5 1434.09 L2207.5 1437.55 Q2206.07 1436.87 2204.6 1436.51 Q2203.15 1436.16 2201.72 1436.16 Q2197.96 1436.16 2195.97 1438.69 Q2193.99 1441.23 2193.71 1446.37 Q2194.82 1444.73 2196.5 1443.87 Q2198.17 1442.98 2200.18 1442.98 Q2204.41 1442.98 2206.86 1445.56 Q2209.32 1448.12 2209.32 1452.54 Q2209.32 1456.86 2206.77 1459.48 Q2204.21 1462.09 2199.96 1462.09 Q2195.09 1462.09 2192.51 1458.37 Q2189.93 1454.62 2189.93 1447.53 Q2189.93 1440.88 2193.09 1436.93 Q2196.25 1432.96 2201.57 1432.96 Q2203 1432.96 2204.45 1433.24 Q2205.92 1433.52 2207.5 1434.09 Z\" fill=\"#000000\" fill-rule=\"evenodd\" fill-opacity=\"1\" /><path clip-path=\"url(#clip690)\" d=\"M1109.01 1526.67 L1139.06 1526.67 L1139.06 1532.08 L1115.44 1532.08 L1115.44 1546.14 L1138.07 1546.14 L1138.07 1551.56 L1115.44 1551.56 L1115.44 1568.77 L1139.63 1568.77 L1139.63 1574.19 L1109.01 1574.19 L1109.01 1526.67 Z\" fill=\"#000000\" fill-rule=\"evenodd\" fill-opacity=\"1\" /><path clip-path=\"url(#clip690)\" d=\"M1175.6 1539.91 L1175.6 1545.38 Q1173.12 1544.01 1170.6 1543.34 Q1168.12 1542.64 1165.57 1542.64 Q1159.88 1542.64 1156.73 1546.27 Q1153.57 1549.87 1153.57 1556.39 Q1153.57 1562.92 1156.73 1566.55 Q1159.88 1570.14 1165.57 1570.14 Q1168.12 1570.14 1170.6 1569.47 Q1173.12 1568.77 1175.6 1567.41 L1175.6 1572.82 Q1173.15 1573.96 1170.51 1574.54 Q1167.9 1575.11 1164.94 1575.11 Q1156.88 1575.11 1152.14 1570.05 Q1147.4 1564.99 1147.4 1556.39 Q1147.4 1547.67 1152.17 1542.68 Q1156.98 1537.68 1165.32 1537.68 Q1168.02 1537.68 1170.6 1538.25 Q1173.18 1538.79 1175.6 1539.91 Z\" fill=\"#000000\" fill-rule=\"evenodd\" fill-opacity=\"1\" /><path clip-path=\"url(#clip690)\" d=\"M1199.6 1542.64 Q1194.89 1542.64 1192.15 1546.34 Q1189.41 1550 1189.41 1556.39 Q1189.41 1562.79 1192.12 1566.48 Q1194.86 1570.14 1199.6 1570.14 Q1204.28 1570.14 1207.01 1566.45 Q1209.75 1562.76 1209.75 1556.39 Q1209.75 1550.06 1207.01 1546.37 Q1204.28 1542.64 1199.6 1542.64 M1199.6 1537.68 Q1207.24 1537.68 1211.6 1542.64 Q1215.96 1547.61 1215.96 1556.39 Q1215.96 1565.15 1211.6 1570.14 Q1207.24 1575.11 1199.6 1575.11 Q1191.93 1575.11 1187.57 1570.14 Q1183.24 1565.15 1183.24 1556.39 Q1183.24 1547.61 1187.57 1542.64 Q1191.93 1537.68 1199.6 1537.68 Z\" fill=\"#000000\" fill-rule=\"evenodd\" fill-opacity=\"1\" /><path clip-path=\"url(#clip690)\" d=\"M1225.67 1524.66 L1231.52 1524.66 L1231.52 1574.19 L1225.67 1574.19 L1225.67 1524.66 Z\" fill=\"#000000\" fill-rule=\"evenodd\" fill-opacity=\"1\" /><path clip-path=\"url(#clip690)\" d=\"M1257.59 1542.64 Q1252.88 1542.64 1250.14 1546.34 Q1247.41 1550 1247.41 1556.39 Q1247.41 1562.79 1250.11 1566.48 Q1252.85 1570.14 1257.59 1570.14 Q1262.27 1570.14 1265.01 1566.45 Q1267.74 1562.76 1267.74 1556.39 Q1267.74 1550.06 1265.01 1546.37 Q1262.27 1542.64 1257.59 1542.64 M1257.59 1537.68 Q1265.23 1537.68 1269.59 1542.64 Q1273.95 1547.61 1273.95 1556.39 Q1273.95 1565.15 1269.59 1570.14 Q1265.23 1575.11 1257.59 1575.11 Q1249.92 1575.11 1245.56 1570.14 Q1241.23 1565.15 1241.23 1556.39 Q1241.23 1547.61 1245.56 1542.64 Q1249.92 1537.68 1257.59 1537.68 Z\" fill=\"#000000\" fill-rule=\"evenodd\" fill-opacity=\"1\" /><path clip-path=\"url(#clip690)\" d=\"M1307.12 1555.95 Q1307.12 1549.58 1304.47 1546.08 Q1301.86 1542.58 1297.12 1542.58 Q1292.41 1542.58 1289.77 1546.08 Q1287.16 1549.58 1287.16 1555.95 Q1287.16 1562.28 1289.77 1565.78 Q1292.41 1569.28 1297.12 1569.28 Q1301.86 1569.28 1304.47 1565.78 Q1307.12 1562.28 1307.12 1555.95 M1312.97 1569.76 Q1312.97 1578.86 1308.93 1583.29 Q1304.89 1587.74 1296.55 1587.74 Q1293.46 1587.74 1290.72 1587.27 Q1287.99 1586.82 1285.41 1585.87 L1285.41 1580.17 Q1287.99 1581.57 1290.5 1582.24 Q1293.02 1582.91 1295.63 1582.91 Q1301.39 1582.91 1304.25 1579.88 Q1307.12 1576.89 1307.12 1570.81 L1307.12 1567.92 Q1305.3 1571.07 1302.47 1572.63 Q1299.64 1574.19 1295.69 1574.19 Q1289.13 1574.19 1285.12 1569.19 Q1281.11 1564.19 1281.11 1555.95 Q1281.11 1547.67 1285.12 1542.68 Q1289.13 1537.68 1295.69 1537.68 Q1299.64 1537.68 1302.47 1539.24 Q1305.3 1540.8 1307.12 1543.95 L1307.12 1538.54 L1312.97 1538.54 L1312.97 1569.76 Z\" fill=\"#000000\" fill-rule=\"evenodd\" fill-opacity=\"1\" /><path clip-path=\"url(#clip690)\" d=\"M1325.03 1538.54 L1330.89 1538.54 L1330.89 1574.19 L1325.03 1574.19 L1325.03 1538.54 M1325.03 1524.66 L1330.89 1524.66 L1330.89 1532.08 L1325.03 1532.08 L1325.03 1524.66 Z\" fill=\"#000000\" fill-rule=\"evenodd\" fill-opacity=\"1\" /><path clip-path=\"url(#clip690)\" d=\"M1368.8 1539.91 L1368.8 1545.38 Q1366.32 1544.01 1363.8 1543.34 Q1361.32 1542.64 1358.77 1542.64 Q1353.08 1542.64 1349.92 1546.27 Q1346.77 1549.87 1346.77 1556.39 Q1346.77 1562.92 1349.92 1566.55 Q1353.08 1570.14 1358.77 1570.14 Q1361.32 1570.14 1363.8 1569.47 Q1366.32 1568.77 1368.8 1567.41 L1368.8 1572.82 Q1366.35 1573.96 1363.71 1574.54 Q1361.1 1575.11 1358.14 1575.11 Q1350.08 1575.11 1345.34 1570.05 Q1340.6 1564.99 1340.6 1556.39 Q1340.6 1547.67 1345.37 1542.68 Q1350.18 1537.68 1358.52 1537.68 Q1361.22 1537.68 1363.8 1538.25 Q1366.38 1538.79 1368.8 1539.91 Z\" fill=\"#000000\" fill-rule=\"evenodd\" fill-opacity=\"1\" /><path clip-path=\"url(#clip690)\" d=\"M1395.18 1556.27 Q1388.09 1556.27 1385.35 1557.89 Q1382.61 1559.51 1382.61 1563.43 Q1382.61 1566.55 1384.65 1568.39 Q1386.72 1570.21 1390.25 1570.21 Q1395.12 1570.21 1398.05 1566.77 Q1401.01 1563.3 1401.01 1557.57 L1401.01 1556.27 L1395.18 1556.27 M1406.87 1553.85 L1406.87 1574.19 L1401.01 1574.19 L1401.01 1568.77 Q1399 1572.02 1396.01 1573.58 Q1393.02 1575.11 1388.69 1575.11 Q1383.22 1575.11 1379.97 1572.05 Q1376.76 1568.97 1376.76 1563.81 Q1376.76 1557.79 1380.77 1554.74 Q1384.81 1551.68 1392.8 1551.68 L1401.01 1551.68 L1401.01 1551.11 Q1401.01 1547.07 1398.34 1544.87 Q1395.69 1542.64 1390.89 1542.64 Q1387.83 1542.64 1384.94 1543.38 Q1382.04 1544.11 1379.37 1545.57 L1379.37 1540.16 Q1382.58 1538.92 1385.6 1538.31 Q1388.63 1537.68 1391.49 1537.68 Q1399.23 1537.68 1403.05 1541.69 Q1406.87 1545.7 1406.87 1553.85 Z\" fill=\"#000000\" fill-rule=\"evenodd\" fill-opacity=\"1\" /><path clip-path=\"url(#clip690)\" d=\"M1418.93 1524.66 L1424.79 1524.66 L1424.79 1574.19 L1418.93 1574.19 L1418.93 1524.66 Z\" fill=\"#000000\" fill-rule=\"evenodd\" fill-opacity=\"1\" /><path clip-path=\"url(#clip690)\" d=\"M1437.04 1524.66 L1442.9 1524.66 L1442.9 1574.19 L1437.04 1574.19 L1437.04 1524.66 Z\" fill=\"#000000\" fill-rule=\"evenodd\" fill-opacity=\"1\" /><path clip-path=\"url(#clip690)\" d=\"M1469.98 1577.5 Q1467.5 1583.86 1465.14 1585.8 Q1462.79 1587.74 1458.84 1587.74 L1454.16 1587.74 L1454.16 1582.84 L1457.6 1582.84 Q1460.02 1582.84 1461.36 1581.7 Q1462.69 1580.55 1464.32 1576.29 L1465.37 1573.61 L1450.95 1538.54 L1457.16 1538.54 L1468.3 1566.42 L1479.44 1538.54 L1485.64 1538.54 L1469.98 1577.5 Z\" fill=\"#000000\" fill-rule=\"evenodd\" fill-opacity=\"1\" /><path clip-path=\"url(#clip690)\" d=\"M1543.19 1528.23 L1543.19 1534.5 Q1539.53 1532.74 1536.28 1531.89 Q1533.03 1531.03 1530.01 1531.03 Q1524.76 1531.03 1521.89 1533.06 Q1519.06 1535.1 1519.06 1538.86 Q1519.06 1542.01 1520.94 1543.63 Q1522.85 1545.22 1528.13 1546.21 L1532.02 1547 Q1539.21 1548.37 1542.61 1551.84 Q1546.05 1555.28 1546.05 1561.07 Q1546.05 1567.98 1541.41 1571.54 Q1536.79 1575.11 1527.85 1575.11 Q1524.47 1575.11 1520.65 1574.34 Q1516.87 1573.58 1512.79 1572.08 L1512.79 1565.46 Q1516.71 1567.66 1520.46 1568.77 Q1524.22 1569.89 1527.85 1569.89 Q1533.35 1569.89 1536.34 1567.72 Q1539.34 1565.56 1539.34 1561.55 Q1539.34 1558.05 1537.17 1556.08 Q1535.04 1554.1 1530.14 1553.11 L1526.22 1552.35 Q1519.03 1550.92 1515.82 1547.86 Q1512.6 1544.81 1512.6 1539.37 Q1512.6 1533.06 1517.02 1529.43 Q1521.48 1525.81 1529.28 1525.81 Q1532.62 1525.81 1536.09 1526.41 Q1539.56 1527.02 1543.19 1528.23 Z\" fill=\"#000000\" fill-rule=\"evenodd\" fill-opacity=\"1\" /><path clip-path=\"url(#clip690)\" d=\"M1572.02 1556.27 Q1564.93 1556.27 1562.19 1557.89 Q1559.45 1559.51 1559.45 1563.43 Q1559.45 1566.55 1561.49 1568.39 Q1563.56 1570.21 1567.09 1570.21 Q1571.96 1570.21 1574.89 1566.77 Q1577.85 1563.3 1577.85 1557.57 L1577.85 1556.27 L1572.02 1556.27 M1583.71 1553.85 L1583.71 1574.19 L1577.85 1574.19 L1577.85 1568.77 Q1575.84 1572.02 1572.85 1573.58 Q1569.86 1575.11 1565.53 1575.11 Q1560.06 1575.11 1556.81 1572.05 Q1553.6 1568.97 1553.6 1563.81 Q1553.6 1557.79 1557.61 1554.74 Q1561.65 1551.68 1569.64 1551.68 L1577.85 1551.68 L1577.85 1551.11 Q1577.85 1547.07 1575.18 1544.87 Q1572.53 1542.64 1567.73 1542.64 Q1564.67 1542.64 1561.78 1543.38 Q1558.88 1544.11 1556.21 1545.57 L1556.21 1540.16 Q1559.42 1538.92 1562.44 1538.31 Q1565.47 1537.68 1568.33 1537.68 Q1576.07 1537.68 1579.89 1541.69 Q1583.71 1545.7 1583.71 1553.85 Z\" fill=\"#000000\" fill-rule=\"evenodd\" fill-opacity=\"1\" /><path clip-path=\"url(#clip690)\" d=\"M1613.82 1524.66 L1613.82 1529.53 L1608.21 1529.53 Q1605.06 1529.53 1603.82 1530.8 Q1602.61 1532.08 1602.61 1535.39 L1602.61 1538.54 L1612.26 1538.54 L1612.26 1543.09 L1602.61 1543.09 L1602.61 1574.19 L1596.72 1574.19 L1596.72 1543.09 L1591.12 1543.09 L1591.12 1538.54 L1596.72 1538.54 L1596.72 1536.05 Q1596.72 1530.1 1599.49 1527.4 Q1602.26 1524.66 1608.28 1524.66 L1613.82 1524.66 Z\" fill=\"#000000\" fill-rule=\"evenodd\" fill-opacity=\"1\" /><path clip-path=\"url(#clip690)\" d=\"M1649.21 1554.9 L1649.21 1557.76 L1622.28 1557.76 Q1622.66 1563.81 1625.91 1566.99 Q1629.19 1570.14 1635.01 1570.14 Q1638.39 1570.14 1641.54 1569.32 Q1644.72 1568.49 1647.84 1566.83 L1647.84 1572.37 Q1644.69 1573.71 1641.38 1574.41 Q1638.07 1575.11 1634.66 1575.11 Q1626.13 1575.11 1621.14 1570.14 Q1616.17 1565.18 1616.17 1556.71 Q1616.17 1547.96 1620.88 1542.83 Q1625.62 1537.68 1633.64 1537.68 Q1640.84 1537.68 1645.01 1542.33 Q1649.21 1546.94 1649.21 1554.9 M1643.35 1553.18 Q1643.29 1548.37 1640.65 1545.51 Q1638.04 1542.64 1633.71 1542.64 Q1628.81 1542.64 1625.85 1545.41 Q1622.92 1548.18 1622.47 1553.21 L1643.35 1553.18 Z\" fill=\"#000000\" fill-rule=\"evenodd\" fill-opacity=\"1\" /><polyline clip-path=\"url(#clip692)\" style=\"stroke:#000000; stroke-linecap:round; stroke-linejoin:round; stroke-width:2; stroke-opacity:0.1; fill:none\" points=\"\n",
       "  405.467,1322.54 2352.76,1322.54 \n",
       "  \"/>\n",
       "<polyline clip-path=\"url(#clip692)\" style=\"stroke:#000000; stroke-linecap:round; stroke-linejoin:round; stroke-width:2; stroke-opacity:0.1; fill:none\" points=\"\n",
       "  405.467,1019.01 2352.76,1019.01 \n",
       "  \"/>\n",
       "<polyline clip-path=\"url(#clip692)\" style=\"stroke:#000000; stroke-linecap:round; stroke-linejoin:round; stroke-width:2; stroke-opacity:0.1; fill:none\" points=\"\n",
       "  405.467,715.481 2352.76,715.481 \n",
       "  \"/>\n",
       "<polyline clip-path=\"url(#clip692)\" style=\"stroke:#000000; stroke-linecap:round; stroke-linejoin:round; stroke-width:2; stroke-opacity:0.1; fill:none\" points=\"\n",
       "  405.467,411.954 2352.76,411.954 \n",
       "  \"/>\n",
       "<polyline clip-path=\"url(#clip690)\" style=\"stroke:#000000; stroke-linecap:round; stroke-linejoin:round; stroke-width:4; stroke-opacity:1; fill:none\" points=\"\n",
       "  405.467,1410.9 405.467,123.472 \n",
       "  \"/>\n",
       "<polyline clip-path=\"url(#clip690)\" style=\"stroke:#000000; stroke-linecap:round; stroke-linejoin:round; stroke-width:4; stroke-opacity:1; fill:none\" points=\"\n",
       "  405.467,1322.54 424.365,1322.54 \n",
       "  \"/>\n",
       "<polyline clip-path=\"url(#clip690)\" style=\"stroke:#000000; stroke-linecap:round; stroke-linejoin:round; stroke-width:4; stroke-opacity:1; fill:none\" points=\"\n",
       "  405.467,1019.01 424.365,1019.01 \n",
       "  \"/>\n",
       "<polyline clip-path=\"url(#clip690)\" style=\"stroke:#000000; stroke-linecap:round; stroke-linejoin:round; stroke-width:4; stroke-opacity:1; fill:none\" points=\"\n",
       "  405.467,715.481 424.365,715.481 \n",
       "  \"/>\n",
       "<polyline clip-path=\"url(#clip690)\" style=\"stroke:#000000; stroke-linecap:round; stroke-linejoin:round; stroke-width:4; stroke-opacity:1; fill:none\" points=\"\n",
       "  405.467,411.954 424.365,411.954 \n",
       "  \"/>\n",
       "<path clip-path=\"url(#clip690)\" d=\"M114.26 1329.44 L143.936 1329.44 L143.936 1333.37 L114.26 1333.37 L114.26 1329.44 Z\" fill=\"#000000\" fill-rule=\"evenodd\" fill-opacity=\"1\" /><path clip-path=\"url(#clip690)\" d=\"M154.839 1342.33 L162.477 1342.33 L162.477 1315.96 L154.167 1317.63 L154.167 1313.37 L162.431 1311.7 L167.107 1311.7 L167.107 1342.33 L174.746 1342.33 L174.746 1346.26 L154.839 1346.26 L154.839 1342.33 Z\" fill=\"#000000\" fill-rule=\"evenodd\" fill-opacity=\"1\" /><path clip-path=\"url(#clip690)\" d=\"M184.19 1340.38 L189.075 1340.38 L189.075 1346.26 L184.19 1346.26 L184.19 1340.38 Z\" fill=\"#000000\" fill-rule=\"evenodd\" fill-opacity=\"1\" /><path clip-path=\"url(#clip690)\" d=\"M213.426 1327.63 Q216.783 1328.35 218.658 1330.62 Q220.556 1332.89 220.556 1336.22 Q220.556 1341.33 217.037 1344.13 Q213.519 1346.94 207.037 1346.94 Q204.862 1346.94 202.547 1346.5 Q200.255 1346.08 197.801 1345.22 L197.801 1340.71 Q199.746 1341.84 202.061 1342.42 Q204.375 1343 206.899 1343 Q211.297 1343 213.588 1341.26 Q215.903 1339.53 215.903 1336.22 Q215.903 1333.16 213.75 1331.45 Q211.621 1329.71 207.801 1329.71 L203.774 1329.71 L203.774 1325.87 L207.987 1325.87 Q211.436 1325.87 213.264 1324.51 Q215.093 1323.12 215.093 1320.52 Q215.093 1317.86 213.195 1316.45 Q211.32 1315.01 207.801 1315.01 Q205.88 1315.01 203.681 1315.43 Q201.482 1315.85 198.843 1316.73 L198.843 1312.56 Q201.505 1311.82 203.82 1311.45 Q206.158 1311.08 208.218 1311.08 Q213.542 1311.08 216.644 1313.51 Q219.746 1315.92 219.746 1320.04 Q219.746 1322.91 218.102 1324.9 Q216.459 1326.87 213.426 1327.63 Z\" fill=\"#000000\" fill-rule=\"evenodd\" fill-opacity=\"1\" /><path clip-path=\"url(#clip690)\" d=\"M239.422 1314.78 Q235.81 1314.78 233.982 1318.35 Q232.176 1321.89 232.176 1329.02 Q232.176 1336.13 233.982 1339.69 Q235.81 1343.23 239.422 1343.23 Q243.056 1343.23 244.861 1339.69 Q246.69 1336.13 246.69 1329.02 Q246.69 1321.89 244.861 1318.35 Q243.056 1314.78 239.422 1314.78 M239.422 1311.08 Q245.232 1311.08 248.287 1315.69 Q251.366 1320.27 251.366 1329.02 Q251.366 1337.75 248.287 1342.35 Q245.232 1346.94 239.422 1346.94 Q233.611 1346.94 230.533 1342.35 Q227.477 1337.75 227.477 1329.02 Q227.477 1320.27 230.533 1315.69 Q233.611 1311.08 239.422 1311.08 Z\" fill=\"#000000\" fill-rule=\"evenodd\" fill-opacity=\"1\" /><path clip-path=\"url(#clip690)\" d=\"M287.755 1320.8 L277.176 1331.43 L287.755 1342.01 L285 1344.81 L274.375 1334.18 L263.75 1344.81 L261.019 1342.01 L271.574 1331.43 L261.019 1320.8 L263.75 1318 L274.375 1328.63 L285 1318 L287.755 1320.8 Z\" fill=\"#000000\" fill-rule=\"evenodd\" fill-opacity=\"1\" /><path clip-path=\"url(#clip690)\" d=\"M300.116 1342.33 L307.754 1342.33 L307.754 1315.96 L299.444 1317.63 L299.444 1313.37 L307.708 1311.7 L312.384 1311.7 L312.384 1342.33 L320.023 1342.33 L320.023 1346.26 L300.116 1346.26 L300.116 1342.33 Z\" fill=\"#000000\" fill-rule=\"evenodd\" fill-opacity=\"1\" /><path clip-path=\"url(#clip690)\" d=\"M339.467 1314.78 Q335.856 1314.78 334.027 1318.35 Q332.222 1321.89 332.222 1329.02 Q332.222 1336.13 334.027 1339.69 Q335.856 1343.23 339.467 1343.23 Q343.102 1343.23 344.907 1339.69 Q346.736 1336.13 346.736 1329.02 Q346.736 1321.89 344.907 1318.35 Q343.102 1314.78 339.467 1314.78 M339.467 1311.08 Q345.277 1311.08 348.333 1315.69 Q351.412 1320.27 351.412 1329.02 Q351.412 1337.75 348.333 1342.35 Q345.277 1346.94 339.467 1346.94 Q333.657 1346.94 330.578 1342.35 Q327.523 1337.75 327.523 1329.02 Q327.523 1320.27 330.578 1315.69 Q333.657 1311.08 339.467 1311.08 Z\" fill=\"#000000\" fill-rule=\"evenodd\" fill-opacity=\"1\" /><path clip-path=\"url(#clip690)\" d=\"M351.412 1290.77 L369.467 1290.77 L369.467 1292.39 L359.273 1318.85 L355.305 1318.85 L364.897 1293.97 L351.412 1293.97 L351.412 1290.77 Z\" fill=\"#000000\" fill-rule=\"evenodd\" fill-opacity=\"1\" /><path clip-path=\"url(#clip690)\" d=\"M114.26 1025.91 L143.936 1025.91 L143.936 1029.84 L114.26 1029.84 L114.26 1025.91 Z\" fill=\"#000000\" fill-rule=\"evenodd\" fill-opacity=\"1\" /><path clip-path=\"url(#clip690)\" d=\"M154.839 1038.8 L162.477 1038.8 L162.477 1012.44 L154.167 1014.1 L154.167 1009.84 L162.431 1008.18 L167.107 1008.18 L167.107 1038.8 L174.746 1038.8 L174.746 1042.74 L154.839 1042.74 L154.839 1038.8 Z\" fill=\"#000000\" fill-rule=\"evenodd\" fill-opacity=\"1\" /><path clip-path=\"url(#clip690)\" d=\"M184.19 1036.86 L189.075 1036.86 L189.075 1042.74 L184.19 1042.74 L184.19 1036.86 Z\" fill=\"#000000\" fill-rule=\"evenodd\" fill-opacity=\"1\" /><path clip-path=\"url(#clip690)\" d=\"M203.287 1038.8 L219.607 1038.8 L219.607 1042.74 L197.662 1042.74 L197.662 1038.8 Q200.325 1036.05 204.908 1031.42 Q209.514 1026.76 210.695 1025.42 Q212.94 1022.9 213.82 1021.16 Q214.723 1019.4 214.723 1017.71 Q214.723 1014.96 212.778 1013.22 Q210.857 1011.49 207.755 1011.49 Q205.556 1011.49 203.102 1012.25 Q200.672 1013.01 197.894 1014.57 L197.894 1009.84 Q200.718 1008.71 203.172 1008.13 Q205.625 1007.55 207.662 1007.55 Q213.033 1007.55 216.227 1010.24 Q219.422 1012.92 219.422 1017.41 Q219.422 1019.54 218.611 1021.46 Q217.824 1023.36 215.718 1025.95 Q215.139 1026.63 212.037 1029.84 Q208.936 1033.04 203.287 1038.8 Z\" fill=\"#000000\" fill-rule=\"evenodd\" fill-opacity=\"1\" /><path clip-path=\"url(#clip690)\" d=\"M239.422 1011.26 Q235.81 1011.26 233.982 1014.82 Q232.176 1018.36 232.176 1025.49 Q232.176 1032.6 233.982 1036.16 Q235.81 1039.7 239.422 1039.7 Q243.056 1039.7 244.861 1036.16 Q246.69 1032.6 246.69 1025.49 Q246.69 1018.36 244.861 1014.82 Q243.056 1011.26 239.422 1011.26 M239.422 1007.55 Q245.232 1007.55 248.287 1012.16 Q251.366 1016.74 251.366 1025.49 Q251.366 1034.22 248.287 1038.82 Q245.232 1043.41 239.422 1043.41 Q233.611 1043.41 230.533 1038.82 Q227.477 1034.22 227.477 1025.49 Q227.477 1016.74 230.533 1012.16 Q233.611 1007.55 239.422 1007.55 Z\" fill=\"#000000\" fill-rule=\"evenodd\" fill-opacity=\"1\" /><path clip-path=\"url(#clip690)\" d=\"M287.755 1017.27 L277.176 1027.9 L287.755 1038.48 L285 1041.28 L274.375 1030.65 L263.75 1041.28 L261.019 1038.48 L271.574 1027.9 L261.019 1017.27 L263.75 1014.47 L274.375 1025.1 L285 1014.47 L287.755 1017.27 Z\" fill=\"#000000\" fill-rule=\"evenodd\" fill-opacity=\"1\" /><path clip-path=\"url(#clip690)\" d=\"M300.116 1038.8 L307.754 1038.8 L307.754 1012.44 L299.444 1014.1 L299.444 1009.84 L307.708 1008.18 L312.384 1008.18 L312.384 1038.8 L320.023 1038.8 L320.023 1042.74 L300.116 1042.74 L300.116 1038.8 Z\" fill=\"#000000\" fill-rule=\"evenodd\" fill-opacity=\"1\" /><path clip-path=\"url(#clip690)\" d=\"M339.467 1011.26 Q335.856 1011.26 334.027 1014.82 Q332.222 1018.36 332.222 1025.49 Q332.222 1032.6 334.027 1036.16 Q335.856 1039.7 339.467 1039.7 Q343.102 1039.7 344.907 1036.16 Q346.736 1032.6 346.736 1025.49 Q346.736 1018.36 344.907 1014.82 Q343.102 1011.26 339.467 1011.26 M339.467 1007.55 Q345.277 1007.55 348.333 1012.16 Q351.412 1016.74 351.412 1025.49 Q351.412 1034.22 348.333 1038.82 Q345.277 1043.41 339.467 1043.41 Q333.657 1043.41 330.578 1038.82 Q327.523 1034.22 327.523 1025.49 Q327.523 1016.74 330.578 1012.16 Q333.657 1007.55 339.467 1007.55 Z\" fill=\"#000000\" fill-rule=\"evenodd\" fill-opacity=\"1\" /><path clip-path=\"url(#clip690)\" d=\"M351.412 987.246 L369.467 987.246 L369.467 988.864 L359.273 1015.33 L355.305 1015.33 L364.897 990.444 L351.412 990.444 L351.412 987.246 Z\" fill=\"#000000\" fill-rule=\"evenodd\" fill-opacity=\"1\" /><path clip-path=\"url(#clip690)\" d=\"M114.26 722.38 L143.936 722.38 L143.936 726.316 L114.26 726.316 L114.26 722.38 Z\" fill=\"#000000\" fill-rule=\"evenodd\" fill-opacity=\"1\" /><path clip-path=\"url(#clip690)\" d=\"M154.839 735.274 L162.477 735.274 L162.477 708.908 L154.167 710.575 L154.167 706.316 L162.431 704.649 L167.107 704.649 L167.107 735.274 L174.746 735.274 L174.746 739.209 L154.839 739.209 L154.839 735.274 Z\" fill=\"#000000\" fill-rule=\"evenodd\" fill-opacity=\"1\" /><path clip-path=\"url(#clip690)\" d=\"M184.19 733.329 L189.075 733.329 L189.075 739.209 L184.19 739.209 L184.19 733.329 Z\" fill=\"#000000\" fill-rule=\"evenodd\" fill-opacity=\"1\" /><path clip-path=\"url(#clip690)\" d=\"M200.07 735.274 L207.709 735.274 L207.709 708.908 L199.399 710.575 L199.399 706.316 L207.662 704.649 L212.338 704.649 L212.338 735.274 L219.977 735.274 L219.977 739.209 L200.07 739.209 L200.07 735.274 Z\" fill=\"#000000\" fill-rule=\"evenodd\" fill-opacity=\"1\" /><path clip-path=\"url(#clip690)\" d=\"M239.422 707.728 Q235.81 707.728 233.982 711.292 Q232.176 714.834 232.176 721.964 Q232.176 729.07 233.982 732.635 Q235.81 736.177 239.422 736.177 Q243.056 736.177 244.861 732.635 Q246.69 729.07 246.69 721.964 Q246.69 714.834 244.861 711.292 Q243.056 707.728 239.422 707.728 M239.422 704.024 Q245.232 704.024 248.287 708.63 Q251.366 713.214 251.366 721.964 Q251.366 730.691 248.287 735.297 Q245.232 739.88 239.422 739.88 Q233.611 739.88 230.533 735.297 Q227.477 730.691 227.477 721.964 Q227.477 713.214 230.533 708.63 Q233.611 704.024 239.422 704.024 Z\" fill=\"#000000\" fill-rule=\"evenodd\" fill-opacity=\"1\" /><path clip-path=\"url(#clip690)\" d=\"M287.755 713.746 L277.176 724.371 L287.755 734.95 L285 737.751 L274.375 727.126 L263.75 737.751 L261.019 734.95 L271.574 724.371 L261.019 713.746 L263.75 710.945 L274.375 721.57 L285 710.945 L287.755 713.746 Z\" fill=\"#000000\" fill-rule=\"evenodd\" fill-opacity=\"1\" /><path clip-path=\"url(#clip690)\" d=\"M300.116 735.274 L307.754 735.274 L307.754 708.908 L299.444 710.575 L299.444 706.316 L307.708 704.649 L312.384 704.649 L312.384 735.274 L320.023 735.274 L320.023 739.209 L300.116 739.209 L300.116 735.274 Z\" fill=\"#000000\" fill-rule=\"evenodd\" fill-opacity=\"1\" /><path clip-path=\"url(#clip690)\" d=\"M339.467 707.728 Q335.856 707.728 334.027 711.292 Q332.222 714.834 332.222 721.964 Q332.222 729.07 334.027 732.635 Q335.856 736.177 339.467 736.177 Q343.102 736.177 344.907 732.635 Q346.736 729.07 346.736 721.964 Q346.736 714.834 344.907 711.292 Q343.102 707.728 339.467 707.728 M339.467 704.024 Q345.277 704.024 348.333 708.63 Q351.412 713.214 351.412 721.964 Q351.412 730.691 348.333 735.297 Q345.277 739.88 339.467 739.88 Q333.657 739.88 330.578 735.297 Q327.523 730.691 327.523 721.964 Q327.523 713.214 330.578 708.63 Q333.657 704.024 339.467 704.024 Z\" fill=\"#000000\" fill-rule=\"evenodd\" fill-opacity=\"1\" /><path clip-path=\"url(#clip690)\" d=\"M351.412 683.719 L369.467 683.719 L369.467 685.336 L359.273 711.799 L355.305 711.799 L364.897 686.916 L351.412 686.916 L351.412 683.719 Z\" fill=\"#000000\" fill-rule=\"evenodd\" fill-opacity=\"1\" /><path clip-path=\"url(#clip690)\" d=\"M114.26 418.853 L143.936 418.853 L143.936 422.788 L114.26 422.788 L114.26 418.853 Z\" fill=\"#000000\" fill-rule=\"evenodd\" fill-opacity=\"1\" /><path clip-path=\"url(#clip690)\" d=\"M154.839 431.746 L162.477 431.746 L162.477 405.38 L154.167 407.047 L154.167 402.788 L162.431 401.121 L167.107 401.121 L167.107 431.746 L174.746 431.746 L174.746 435.681 L154.839 435.681 L154.839 431.746 Z\" fill=\"#000000\" fill-rule=\"evenodd\" fill-opacity=\"1\" /><path clip-path=\"url(#clip690)\" d=\"M184.19 429.802 L189.075 429.802 L189.075 435.681 L184.19 435.681 L184.19 429.802 Z\" fill=\"#000000\" fill-rule=\"evenodd\" fill-opacity=\"1\" /><path clip-path=\"url(#clip690)\" d=\"M209.26 404.2 Q205.649 404.2 203.82 407.765 Q202.014 411.306 202.014 418.436 Q202.014 425.542 203.82 429.107 Q205.649 432.649 209.26 432.649 Q212.894 432.649 214.699 429.107 Q216.528 425.542 216.528 418.436 Q216.528 411.306 214.699 407.765 Q212.894 404.2 209.26 404.2 M209.26 400.496 Q215.07 400.496 218.125 405.103 Q221.204 409.686 221.204 418.436 Q221.204 427.163 218.125 431.769 Q215.07 436.353 209.26 436.353 Q203.449 436.353 200.371 431.769 Q197.315 427.163 197.315 418.436 Q197.315 409.686 200.371 405.103 Q203.449 400.496 209.26 400.496 Z\" fill=\"#000000\" fill-rule=\"evenodd\" fill-opacity=\"1\" /><path clip-path=\"url(#clip690)\" d=\"M239.422 404.2 Q235.81 404.2 233.982 407.765 Q232.176 411.306 232.176 418.436 Q232.176 425.542 233.982 429.107 Q235.81 432.649 239.422 432.649 Q243.056 432.649 244.861 429.107 Q246.69 425.542 246.69 418.436 Q246.69 411.306 244.861 407.765 Q243.056 404.2 239.422 404.2 M239.422 400.496 Q245.232 400.496 248.287 405.103 Q251.366 409.686 251.366 418.436 Q251.366 427.163 248.287 431.769 Q245.232 436.353 239.422 436.353 Q233.611 436.353 230.533 431.769 Q227.477 427.163 227.477 418.436 Q227.477 409.686 230.533 405.103 Q233.611 400.496 239.422 400.496 Z\" fill=\"#000000\" fill-rule=\"evenodd\" fill-opacity=\"1\" /><path clip-path=\"url(#clip690)\" d=\"M287.755 410.218 L277.176 420.843 L287.755 431.422 L285 434.223 L274.375 423.598 L263.75 434.223 L261.019 431.422 L271.574 420.843 L261.019 410.218 L263.75 407.417 L274.375 418.042 L285 407.417 L287.755 410.218 Z\" fill=\"#000000\" fill-rule=\"evenodd\" fill-opacity=\"1\" /><path clip-path=\"url(#clip690)\" d=\"M300.116 431.746 L307.754 431.746 L307.754 405.38 L299.444 407.047 L299.444 402.788 L307.708 401.121 L312.384 401.121 L312.384 431.746 L320.023 431.746 L320.023 435.681 L300.116 435.681 L300.116 431.746 Z\" fill=\"#000000\" fill-rule=\"evenodd\" fill-opacity=\"1\" /><path clip-path=\"url(#clip690)\" d=\"M339.467 404.2 Q335.856 404.2 334.027 407.765 Q332.222 411.306 332.222 418.436 Q332.222 425.542 334.027 429.107 Q335.856 432.649 339.467 432.649 Q343.102 432.649 344.907 429.107 Q346.736 425.542 346.736 418.436 Q346.736 411.306 344.907 407.765 Q343.102 404.2 339.467 404.2 M339.467 400.496 Q345.277 400.496 348.333 405.103 Q351.412 409.686 351.412 418.436 Q351.412 427.163 348.333 431.769 Q345.277 436.353 339.467 436.353 Q333.657 436.353 330.578 431.769 Q327.523 427.163 327.523 418.436 Q327.523 409.686 330.578 405.103 Q333.657 400.496 339.467 400.496 Z\" fill=\"#000000\" fill-rule=\"evenodd\" fill-opacity=\"1\" /><path clip-path=\"url(#clip690)\" d=\"M351.412 380.191 L369.467 380.191 L369.467 381.808 L359.273 408.271 L355.305 408.271 L364.897 383.388 L351.412 383.388 L351.412 380.191 Z\" fill=\"#000000\" fill-rule=\"evenodd\" fill-opacity=\"1\" /><path clip-path=\"url(#clip690)\" d=\"M18.0438 929.032 L24.314 929.032 Q22.5634 932.693 21.704 935.939 Q20.8447 939.186 20.8447 942.209 Q20.8447 947.461 22.8817 950.326 Q24.9187 953.159 28.6745 953.159 Q31.8255 953.159 33.4488 951.281 Q35.0402 949.371 36.0269 944.087 L36.8226 940.204 Q38.1912 933.011 41.6605 929.605 Q45.098 926.168 50.8908 926.168 Q57.7976 926.168 61.3624 930.815 Q64.9272 935.43 64.9272 944.374 Q64.9272 947.748 64.1633 951.567 Q63.3994 955.355 61.9035 959.429 L55.2831 959.429 Q57.4793 955.514 58.5933 951.758 Q59.7073 948.002 59.7073 944.374 Q59.7073 938.867 57.543 935.876 Q55.3786 932.884 51.3682 932.884 Q47.8671 932.884 45.8937 935.048 Q43.9204 937.181 42.9337 942.082 L42.1698 945.997 Q40.7375 953.19 37.682 956.405 Q34.6264 959.62 29.1837 959.62 Q22.8817 959.62 19.2532 955.196 Q15.6248 950.74 15.6248 942.942 Q15.6248 939.6 16.2295 936.13 Q16.8343 932.661 18.0438 929.032 Z\" fill=\"#000000\" fill-rule=\"evenodd\" fill-opacity=\"1\" /><path clip-path=\"url(#clip690)\" d=\"M32.4621 902.583 Q32.4621 907.294 36.1542 910.031 Q39.8145 912.768 46.212 912.768 Q52.6095 912.768 56.3017 910.063 Q59.9619 907.325 59.9619 902.583 Q59.9619 897.904 56.2698 895.167 Q52.5777 892.43 46.212 892.43 Q39.8781 892.43 36.186 895.167 Q32.4621 897.904 32.4621 902.583 M27.4968 902.583 Q27.4968 894.944 32.4621 890.584 Q37.4273 886.223 46.212 886.223 Q54.9649 886.223 59.9619 890.584 Q64.9272 894.944 64.9272 902.583 Q64.9272 910.254 59.9619 914.614 Q54.9649 918.943 46.212 918.943 Q37.4273 918.943 32.4621 914.614 Q27.4968 910.254 27.4968 902.583 Z\" fill=\"#000000\" fill-rule=\"evenodd\" fill-opacity=\"1\" /><path clip-path=\"url(#clip690)\" d=\"M29.7248 850.862 L35.1993 850.862 Q33.8307 853.344 33.1623 855.859 Q32.4621 858.341 32.4621 860.888 Q32.4621 866.585 36.0905 869.736 Q39.6872 872.887 46.212 872.887 Q52.7369 872.887 56.3653 869.736 Q59.9619 866.585 59.9619 860.888 Q59.9619 858.341 59.2935 855.859 Q58.5933 853.344 57.2247 850.862 L62.6355 850.862 Q63.7814 853.312 64.3543 855.954 Q64.9272 858.564 64.9272 861.524 Q64.9272 869.577 59.8664 874.319 Q54.8057 879.062 46.212 879.062 Q37.491 879.062 32.4939 874.287 Q27.4968 869.481 27.4968 861.142 Q27.4968 858.437 28.0697 855.859 Q28.6108 853.281 29.7248 850.862 Z\" fill=\"#000000\" fill-rule=\"evenodd\" fill-opacity=\"1\" /><path clip-path=\"url(#clip690)\" d=\"M28.3562 840.676 L28.3562 834.82 L64.0042 834.82 L64.0042 840.676 L28.3562 840.676 M14.479 840.676 L14.479 834.82 L21.895 834.82 L21.895 840.676 L14.479 840.676 Z\" fill=\"#000000\" fill-rule=\"evenodd\" fill-opacity=\"1\" /><path clip-path=\"url(#clip690)\" d=\"M46.0847 806.365 Q46.0847 813.463 47.7079 816.2 Q49.3312 818.938 53.2461 818.938 Q56.3653 818.938 58.2114 816.901 Q60.0256 814.832 60.0256 811.299 Q60.0256 806.429 56.5881 803.501 Q53.1188 800.541 47.3897 800.541 L46.0847 800.541 L46.0847 806.365 M43.6657 794.684 L64.0042 794.684 L64.0042 800.541 L58.5933 800.541 Q61.8398 802.546 63.3994 805.538 Q64.9272 808.53 64.9272 812.858 Q64.9272 818.333 61.8716 821.579 Q58.7843 824.794 53.6281 824.794 Q47.6125 824.794 44.5569 820.784 Q41.5014 816.741 41.5014 808.752 L41.5014 800.541 L40.9285 800.541 Q36.8862 800.541 34.6901 803.214 Q32.4621 805.856 32.4621 810.662 Q32.4621 813.718 33.1941 816.614 Q33.9262 819.51 35.3903 822.184 L29.9795 822.184 Q28.7381 818.969 28.1334 815.946 Q27.4968 812.922 27.4968 810.057 Q27.4968 802.323 31.5072 798.504 Q35.5176 794.684 43.6657 794.684 Z\" fill=\"#000000\" fill-rule=\"evenodd\" fill-opacity=\"1\" /><path clip-path=\"url(#clip690)\" d=\"M14.479 782.621 L14.479 776.765 L64.0042 776.765 L64.0042 782.621 L14.479 782.621 Z\" fill=\"#000000\" fill-rule=\"evenodd\" fill-opacity=\"1\" /><path clip-path=\"url(#clip690)\" d=\"M14.479 764.511 L14.479 758.654 L64.0042 758.654 L64.0042 764.511 L14.479 764.511 Z\" fill=\"#000000\" fill-rule=\"evenodd\" fill-opacity=\"1\" /><path clip-path=\"url(#clip690)\" d=\"M67.3143 731.568 Q73.68 734.051 75.6216 736.406 Q77.5631 738.762 77.5631 742.708 L77.5631 747.387 L72.6615 747.387 L72.6615 743.95 Q72.6615 741.531 71.5157 740.194 Q70.3699 738.857 66.1048 737.234 L63.4312 736.183 L28.3562 750.602 L28.3562 744.395 L56.238 733.255 L28.3562 722.115 L28.3562 715.909 L67.3143 731.568 Z\" fill=\"#000000\" fill-rule=\"evenodd\" fill-opacity=\"1\" /><path clip-path=\"url(#clip690)\" d=\"M16.4842 686.849 L16.4842 680.42 L60.694 680.42 Q69.2877 680.42 73.1708 683.698 Q77.0539 686.945 77.0539 694.17 L77.0539 696.621 L71.643 696.621 L71.643 694.615 Q71.643 690.35 69.2559 688.6 Q66.8687 686.849 60.694 686.849 L16.4842 686.849 Z\" fill=\"#000000\" fill-rule=\"evenodd\" fill-opacity=\"1\" /><path clip-path=\"url(#clip690)\" d=\"M49.9359 668.484 L28.3562 668.484 L28.3562 662.628 L49.7131 662.628 Q54.7739 662.628 57.3202 660.654 Q59.8346 658.681 59.8346 654.734 Q59.8346 649.992 56.8109 647.254 Q53.7872 644.485 48.5673 644.485 L28.3562 644.485 L28.3562 638.629 L64.0042 638.629 L64.0042 644.485 L58.5296 644.485 Q61.7762 646.618 63.3676 649.451 Q64.9272 652.252 64.9272 655.975 Q64.9272 662.118 61.1078 665.301 Q57.2883 668.484 49.9359 668.484 M27.4968 653.747 L27.4968 653.747 Z\" fill=\"#000000\" fill-rule=\"evenodd\" fill-opacity=\"1\" /><path clip-path=\"url(#clip690)\" d=\"M29.4065 603.84 L34.9447 603.84 Q33.6716 606.323 33.035 608.997 Q32.3984 611.67 32.3984 614.535 Q32.3984 618.895 33.7352 621.091 Q35.072 623.256 37.7456 623.256 Q39.7826 623.256 40.9603 621.696 Q42.1061 620.137 43.1565 615.426 L43.6021 613.421 Q44.9389 607.182 47.3897 604.572 Q49.8086 601.931 54.1691 601.931 Q59.1344 601.931 62.0308 605.877 Q64.9272 609.792 64.9272 616.667 Q64.9272 619.532 64.3543 622.651 Q63.8132 625.738 62.6992 629.176 L56.6518 629.176 Q58.3387 625.929 59.198 622.778 Q60.0256 619.627 60.0256 616.54 Q60.0256 612.402 58.6251 610.174 Q57.1929 607.946 54.6147 607.946 Q52.2276 607.946 50.9545 609.569 Q49.6813 611.161 48.5037 616.604 L48.0262 618.641 Q46.8804 624.083 44.5251 626.502 Q42.138 628.921 38.0002 628.921 Q32.9713 628.921 30.2341 625.356 Q27.4968 621.792 27.4968 615.235 Q27.4968 611.988 27.9743 609.124 Q28.4517 606.259 29.4065 603.84 Z\" fill=\"#000000\" fill-rule=\"evenodd\" fill-opacity=\"1\" /><path clip-path=\"url(#clip690)\" d=\"M18.2347 586.812 L28.3562 586.812 L28.3562 574.749 L32.9077 574.749 L32.9077 586.812 L52.2594 586.812 Q56.6199 586.812 57.8613 585.634 Q59.1026 584.425 59.1026 580.765 L59.1026 574.749 L64.0042 574.749 L64.0042 580.765 Q64.0042 587.544 61.4897 590.122 Q58.9434 592.7 52.2594 592.7 L32.9077 592.7 L32.9077 596.997 L28.3562 596.997 L28.3562 592.7 L18.2347 592.7 L18.2347 586.812 Z\" fill=\"#000000\" fill-rule=\"evenodd\" fill-opacity=\"1\" /><path clip-path=\"url(#clip690)\" d=\"M525.89 17.6457 Q516.978 17.6457 511.712 24.2892 Q506.486 30.9327 506.486 42.3968 Q506.486 53.8203 511.712 60.4638 Q516.978 67.1073 525.89 67.1073 Q534.802 67.1073 539.987 60.4638 Q545.213 53.8203 545.213 42.3968 Q545.213 30.9327 539.987 24.2892 Q534.802 17.6457 525.89 17.6457 M525.89 11.0023 Q538.61 11.0023 546.225 19.5497 Q553.841 28.0566 553.841 42.3968 Q553.841 56.6965 546.225 65.2439 Q538.61 73.7508 525.89 73.7508 Q513.129 73.7508 505.473 65.2439 Q497.858 56.737 497.858 42.3968 Q497.858 28.0566 505.473 19.5497 Q513.129 11.0023 525.89 11.0023 Z\" fill=\"#000000\" fill-rule=\"evenodd\" fill-opacity=\"1\" /><path clip-path=\"url(#clip690)\" d=\"M560.971 27.2059 L568.87 27.2059 L583.048 65.2844 L597.226 27.2059 L605.125 27.2059 L588.112 72.576 L577.984 72.576 L560.971 27.2059 Z\" fill=\"#000000\" fill-rule=\"evenodd\" fill-opacity=\"1\" /><path clip-path=\"url(#clip690)\" d=\"M654.222 48.0275 L654.222 51.6733 L619.952 51.6733 Q620.438 59.3701 624.57 63.421 Q628.742 67.4314 636.155 67.4314 Q640.449 67.4314 644.46 66.3781 Q648.511 65.3249 652.481 63.2184 L652.481 70.267 Q648.47 71.9684 644.257 72.8596 Q640.044 73.7508 635.71 73.7508 Q624.853 73.7508 618.493 67.4314 Q612.174 61.1119 612.174 50.3365 Q612.174 39.1965 618.169 32.6746 Q624.205 26.1121 634.414 26.1121 Q643.569 26.1121 648.875 32.0264 Q654.222 37.9003 654.222 48.0275 M646.769 45.84 Q646.688 39.7232 643.326 36.0774 Q640.004 32.4315 634.495 32.4315 Q628.256 32.4315 624.489 35.9558 Q620.762 39.4801 620.195 45.8805 L646.769 45.84 Z\" fill=\"#000000\" fill-rule=\"evenodd\" fill-opacity=\"1\" /><path clip-path=\"url(#clip690)\" d=\"M692.747 34.1734 Q691.491 33.4443 689.992 33.1202 Q688.534 32.7556 686.751 32.7556 Q680.432 32.7556 677.029 36.8875 Q673.667 40.9789 673.667 48.6757 L673.667 72.576 L666.173 72.576 L666.173 27.2059 L673.667 27.2059 L673.667 34.2544 Q676.016 30.1225 679.784 28.1376 Q683.551 26.1121 688.939 26.1121 Q689.708 26.1121 690.64 26.2337 Q691.572 26.3147 692.706 26.5172 L692.747 34.1734 Z\" fill=\"#000000\" fill-rule=\"evenodd\" fill-opacity=\"1\" /><path clip-path=\"url(#clip690)\" d=\"M734.309 14.324 L734.309 27.2059 L749.662 27.2059 L749.662 32.9987 L734.309 32.9987 L734.309 57.6282 Q734.309 63.1779 735.808 64.7578 Q737.347 66.3376 742.006 66.3376 L749.662 66.3376 L749.662 72.576 L742.006 72.576 Q733.377 72.576 730.096 69.3758 Q726.815 66.1351 726.815 57.6282 L726.815 32.9987 L721.346 32.9987 L721.346 27.2059 L726.815 27.2059 L726.815 14.324 L734.309 14.324 Z\" fill=\"#000000\" fill-rule=\"evenodd\" fill-opacity=\"1\" /><path clip-path=\"url(#clip690)\" d=\"M797.179 45.1919 L797.179 72.576 L789.725 72.576 L789.725 45.4349 Q789.725 38.994 787.214 35.7938 Q784.702 32.5936 779.679 32.5936 Q773.643 32.5936 770.159 36.4419 Q766.676 40.2903 766.676 46.9338 L766.676 72.576 L759.181 72.576 L759.181 9.54393 L766.676 9.54393 L766.676 34.2544 Q769.349 30.163 772.954 28.1376 Q776.6 26.1121 781.34 26.1121 Q789.158 26.1121 793.168 30.9732 Q797.179 35.7938 797.179 45.1919 Z\" fill=\"#000000\" fill-rule=\"evenodd\" fill-opacity=\"1\" /><path clip-path=\"url(#clip690)\" d=\"M850.853 48.0275 L850.853 51.6733 L816.583 51.6733 Q817.069 59.3701 821.201 63.421 Q825.373 67.4314 832.786 67.4314 Q837.08 67.4314 841.091 66.3781 Q845.142 65.3249 849.111 63.2184 L849.111 70.267 Q845.101 71.9684 840.888 72.8596 Q836.675 73.7508 832.341 73.7508 Q821.484 73.7508 815.124 67.4314 Q808.805 61.1119 808.805 50.3365 Q808.805 39.1965 814.8 32.6746 Q820.836 26.1121 831.044 26.1121 Q840.199 26.1121 845.506 32.0264 Q850.853 37.9003 850.853 48.0275 M843.4 45.84 Q843.319 39.7232 839.956 36.0774 Q836.635 32.4315 831.125 32.4315 Q824.887 32.4315 821.12 35.9558 Q817.393 39.4801 816.826 45.8805 L843.4 45.84 Z\" fill=\"#000000\" fill-rule=\"evenodd\" fill-opacity=\"1\" /><path clip-path=\"url(#clip690)\" d=\"M885.124 27.2059 L892.578 27.2059 L901.895 62.6108 L911.171 27.2059 L919.962 27.2059 L929.279 62.6108 L938.555 27.2059 L946.009 27.2059 L934.14 72.576 L925.349 72.576 L915.587 35.3887 L905.784 72.576 L896.993 72.576 L885.124 27.2059 Z\" fill=\"#000000\" fill-rule=\"evenodd\" fill-opacity=\"1\" /><path clip-path=\"url(#clip690)\" d=\"M995.025 45.1919 L995.025 72.576 L987.571 72.576 L987.571 45.4349 Q987.571 38.994 985.06 35.7938 Q982.548 32.5936 977.525 32.5936 Q971.489 32.5936 968.005 36.4419 Q964.522 40.2903 964.522 46.9338 L964.522 72.576 L957.028 72.576 L957.028 9.54393 L964.522 9.54393 L964.522 34.2544 Q967.195 30.163 970.801 28.1376 Q974.446 26.1121 979.186 26.1121 Q987.004 26.1121 991.015 30.9732 Q995.025 35.7938 995.025 45.1919 Z\" fill=\"#000000\" fill-rule=\"evenodd\" fill-opacity=\"1\" /><path clip-path=\"url(#clip690)\" d=\"M1027.47 32.4315 Q1021.48 32.4315 1017.99 37.1306 Q1014.51 41.7891 1014.51 49.9314 Q1014.51 58.0738 1017.95 62.7728 Q1021.44 67.4314 1027.47 67.4314 Q1033.43 67.4314 1036.91 62.7323 Q1040.4 58.0333 1040.4 49.9314 Q1040.4 41.8701 1036.91 37.1711 Q1033.43 32.4315 1027.47 32.4315 M1027.47 26.1121 Q1037.19 26.1121 1042.74 32.4315 Q1048.29 38.7509 1048.29 49.9314 Q1048.29 61.0714 1042.74 67.4314 Q1037.19 73.7508 1027.47 73.7508 Q1017.71 73.7508 1012.16 67.4314 Q1006.65 61.0714 1006.65 49.9314 Q1006.65 38.7509 1012.16 32.4315 Q1017.71 26.1121 1027.47 26.1121 Z\" fill=\"#000000\" fill-rule=\"evenodd\" fill-opacity=\"1\" /><path clip-path=\"url(#clip690)\" d=\"M1060.65 9.54393 L1068.1 9.54393 L1068.1 72.576 L1060.65 72.576 L1060.65 9.54393 Z\" fill=\"#000000\" fill-rule=\"evenodd\" fill-opacity=\"1\" /><path clip-path=\"url(#clip690)\" d=\"M1122.51 48.0275 L1122.51 51.6733 L1088.24 51.6733 Q1088.72 59.3701 1092.85 63.421 Q1097.03 67.4314 1104.44 67.4314 Q1108.73 67.4314 1112.74 66.3781 Q1116.8 65.3249 1120.77 63.2184 L1120.77 70.267 Q1116.75 71.9684 1112.54 72.8596 Q1108.33 73.7508 1103.99 73.7508 Q1093.14 73.7508 1086.78 67.4314 Q1080.46 61.1119 1080.46 50.3365 Q1080.46 39.1965 1086.45 32.6746 Q1092.49 26.1121 1102.7 26.1121 Q1111.85 26.1121 1117.16 32.0264 Q1122.51 37.9003 1122.51 48.0275 M1115.05 45.84 Q1114.97 39.7232 1111.61 36.0774 Q1108.29 32.4315 1102.78 32.4315 Q1096.54 32.4315 1092.77 35.9558 Q1089.05 39.4801 1088.48 45.8805 L1115.05 45.84 Z\" fill=\"#000000\" fill-rule=\"evenodd\" fill-opacity=\"1\" /><path clip-path=\"url(#clip690)\" d=\"M1190.04 28.5427 L1190.04 35.5912 Q1186.88 33.9709 1183.47 33.1607 Q1180.07 32.3505 1176.42 32.3505 Q1170.87 32.3505 1168.08 34.0519 Q1165.33 35.7533 1165.33 39.156 Q1165.33 41.7486 1167.31 43.2475 Q1169.29 44.7058 1175.29 46.0426 L1177.84 46.6097 Q1185.78 48.3111 1189.1 51.4303 Q1192.47 54.509 1192.47 60.0587 Q1192.47 66.3781 1187.44 70.0644 Q1182.46 73.7508 1173.71 73.7508 Q1170.06 73.7508 1166.09 73.0216 Q1162.17 72.3329 1157.79 70.9151 L1157.79 63.2184 Q1161.92 65.3654 1165.93 66.4591 Q1169.94 67.5124 1173.87 67.5124 Q1179.14 67.5124 1181.97 65.73 Q1184.81 63.9071 1184.81 60.6258 Q1184.81 57.5877 1182.74 55.9673 Q1180.72 54.3469 1173.79 52.8481 L1171.2 52.2405 Q1164.27 50.7821 1161.19 47.7845 Q1158.11 44.7463 1158.11 39.4801 Q1158.11 33.0797 1162.65 29.5959 Q1167.19 26.1121 1175.53 26.1121 Q1179.67 26.1121 1183.31 26.7198 Q1186.96 27.3274 1190.04 28.5427 Z\" fill=\"#000000\" fill-rule=\"evenodd\" fill-opacity=\"1\" /><path clip-path=\"url(#clip690)\" d=\"M1203.57 54.671 L1203.57 27.2059 L1211.02 27.2059 L1211.02 54.3874 Q1211.02 60.8284 1213.53 64.0691 Q1216.04 67.2693 1221.07 67.2693 Q1227.1 67.2693 1230.59 63.421 Q1234.11 59.5726 1234.11 52.9291 L1234.11 27.2059 L1241.56 27.2059 L1241.56 72.576 L1234.11 72.576 L1234.11 65.6084 Q1231.4 69.7404 1227.79 71.7658 Q1224.23 73.7508 1219.49 73.7508 Q1211.67 73.7508 1207.62 68.8897 Q1203.57 64.0286 1203.57 54.671 M1222.32 26.1121 L1222.32 26.1121 Z\" fill=\"#000000\" fill-rule=\"evenodd\" fill-opacity=\"1\" /><path clip-path=\"url(#clip690)\" d=\"M1264.13 65.7705 L1264.13 89.8329 L1256.63 89.8329 L1256.63 27.2059 L1264.13 27.2059 L1264.13 34.0924 Q1266.48 30.0415 1270.04 28.0971 Q1273.65 26.1121 1278.63 26.1121 Q1286.89 26.1121 1292.04 32.6746 Q1297.22 39.2371 1297.22 49.9314 Q1297.22 60.6258 1292.04 67.1883 Q1286.89 73.7508 1278.63 73.7508 Q1273.65 73.7508 1270.04 71.8063 Q1266.48 69.8214 1264.13 65.7705 M1289.49 49.9314 Q1289.49 41.7081 1286.08 37.0496 Q1282.72 32.3505 1276.81 32.3505 Q1270.89 32.3505 1267.49 37.0496 Q1264.13 41.7081 1264.13 49.9314 Q1264.13 58.1548 1267.49 62.8538 Q1270.89 67.5124 1276.81 67.5124 Q1282.72 67.5124 1286.08 62.8538 Q1289.49 58.1548 1289.49 49.9314 Z\" fill=\"#000000\" fill-rule=\"evenodd\" fill-opacity=\"1\" /><path clip-path=\"url(#clip690)\" d=\"M1316.79 65.7705 L1316.79 89.8329 L1309.29 89.8329 L1309.29 27.2059 L1316.79 27.2059 L1316.79 34.0924 Q1319.14 30.0415 1322.7 28.0971 Q1326.31 26.1121 1331.29 26.1121 Q1339.55 26.1121 1344.7 32.6746 Q1349.88 39.2371 1349.88 49.9314 Q1349.88 60.6258 1344.7 67.1883 Q1339.55 73.7508 1331.29 73.7508 Q1326.31 73.7508 1322.7 71.8063 Q1319.14 69.8214 1316.79 65.7705 M1342.15 49.9314 Q1342.15 41.7081 1338.74 37.0496 Q1335.38 32.3505 1329.47 32.3505 Q1323.55 32.3505 1320.15 37.0496 Q1316.79 41.7081 1316.79 49.9314 Q1316.79 58.1548 1320.15 62.8538 Q1323.55 67.5124 1329.47 67.5124 Q1335.38 67.5124 1338.74 62.8538 Q1342.15 58.1548 1342.15 49.9314 Z\" fill=\"#000000\" fill-rule=\"evenodd\" fill-opacity=\"1\" /><path clip-path=\"url(#clip690)\" d=\"M1362.24 9.54393 L1369.69 9.54393 L1369.69 72.576 L1362.24 72.576 L1362.24 9.54393 Z\" fill=\"#000000\" fill-rule=\"evenodd\" fill-opacity=\"1\" /><path clip-path=\"url(#clip690)\" d=\"M1404.17 76.7889 Q1401.01 84.8907 1398.01 87.3618 Q1395.01 89.8329 1389.99 89.8329 L1384.03 89.8329 L1384.03 83.5945 L1388.41 83.5945 Q1391.49 83.5945 1393.19 82.1361 Q1394.89 80.6778 1396.96 75.2496 L1398.29 71.8468 L1379.94 27.2059 L1387.84 27.2059 L1402.02 62.6918 L1416.2 27.2059 L1424.1 27.2059 L1404.17 76.7889 Z\" fill=\"#000000\" fill-rule=\"evenodd\" fill-opacity=\"1\" /><path clip-path=\"url(#clip690)\" d=\"M1493.41 28.9478 L1493.41 35.9153 Q1490.25 34.1734 1487.05 33.3227 Q1483.89 32.4315 1480.65 32.4315 Q1473.4 32.4315 1469.39 37.0496 Q1465.38 41.6271 1465.38 49.9314 Q1465.38 58.2358 1469.39 62.8538 Q1473.4 67.4314 1480.65 67.4314 Q1483.89 67.4314 1487.05 66.5807 Q1490.25 65.6895 1493.41 63.9476 L1493.41 70.8341 Q1490.29 72.2924 1486.93 73.0216 Q1483.6 73.7508 1479.84 73.7508 Q1469.59 73.7508 1463.55 67.3098 Q1457.52 60.8689 1457.52 49.9314 Q1457.52 38.832 1463.59 32.472 Q1469.71 26.1121 1480.32 26.1121 Q1483.77 26.1121 1487.05 26.8413 Q1490.33 27.5299 1493.41 28.9478 Z\" fill=\"#000000\" fill-rule=\"evenodd\" fill-opacity=\"1\" /><path clip-path=\"url(#clip690)\" d=\"M1544.08 45.1919 L1544.08 72.576 L1536.63 72.576 L1536.63 45.4349 Q1536.63 38.994 1534.12 35.7938 Q1531.61 32.5936 1526.58 32.5936 Q1520.55 32.5936 1517.07 36.4419 Q1513.58 40.2903 1513.58 46.9338 L1513.58 72.576 L1506.09 72.576 L1506.09 9.54393 L1513.58 9.54393 L1513.58 34.2544 Q1516.25 30.163 1519.86 28.1376 Q1523.51 26.1121 1528.25 26.1121 Q1536.06 26.1121 1540.07 30.9732 Q1544.08 35.7938 1544.08 45.1919 Z\" fill=\"#000000\" fill-rule=\"evenodd\" fill-opacity=\"1\" /><path clip-path=\"url(#clip690)\" d=\"M1579.57 49.7694 Q1570.54 49.7694 1567.05 51.8354 Q1563.57 53.9013 1563.57 58.8839 Q1563.57 62.8538 1566.16 65.2034 Q1568.8 67.5124 1573.29 67.5124 Q1579.49 67.5124 1583.22 63.1374 Q1586.98 58.7219 1586.98 51.4303 L1586.98 49.7694 L1579.57 49.7694 M1594.44 46.6907 L1594.44 72.576 L1586.98 72.576 L1586.98 65.6895 Q1584.43 69.8214 1580.62 71.8063 Q1576.82 73.7508 1571.31 73.7508 Q1564.34 73.7508 1560.21 69.8619 Q1556.12 65.9325 1556.12 59.3701 Q1556.12 51.7138 1561.22 47.825 Q1566.36 43.9361 1576.53 43.9361 L1586.98 43.9361 L1586.98 43.2069 Q1586.98 38.0623 1583.58 35.2672 Q1580.22 32.4315 1574.1 32.4315 Q1570.21 32.4315 1566.53 33.3632 Q1562.84 34.295 1559.44 36.1584 L1559.44 29.2718 Q1563.53 27.692 1567.38 26.9223 Q1571.23 26.1121 1574.87 26.1121 Q1584.72 26.1121 1589.58 31.2163 Q1594.44 36.3204 1594.44 46.6907 Z\" fill=\"#000000\" fill-rule=\"evenodd\" fill-opacity=\"1\" /><path clip-path=\"url(#clip690)\" d=\"M1609.79 27.2059 L1617.24 27.2059 L1617.24 72.576 L1609.79 72.576 L1609.79 27.2059 M1609.79 9.54393 L1617.24 9.54393 L1617.24 18.9825 L1609.79 18.9825 L1609.79 9.54393 Z\" fill=\"#000000\" fill-rule=\"evenodd\" fill-opacity=\"1\" /><path clip-path=\"url(#clip690)\" d=\"M1670.55 45.1919 L1670.55 72.576 L1663.1 72.576 L1663.1 45.4349 Q1663.1 38.994 1660.59 35.7938 Q1658.08 32.5936 1653.05 32.5936 Q1647.02 32.5936 1643.53 36.4419 Q1640.05 40.2903 1640.05 46.9338 L1640.05 72.576 L1632.56 72.576 L1632.56 27.2059 L1640.05 27.2059 L1640.05 34.2544 Q1642.72 30.163 1646.33 28.1376 Q1649.98 26.1121 1654.71 26.1121 Q1662.53 26.1121 1666.54 30.9732 Q1670.55 35.7938 1670.55 45.1919 Z\" fill=\"#000000\" fill-rule=\"evenodd\" fill-opacity=\"1\" /><path clip-path=\"url(#clip690)\" d=\"M1729.7 9.62495 Q1724.27 18.942 1721.64 28.0566 Q1719 37.1711 1719 46.5287 Q1719 55.8863 1721.64 65.0818 Q1724.31 74.2369 1729.7 83.5134 L1723.22 83.5134 Q1717.14 73.9938 1714.1 64.7983 Q1711.1 55.6027 1711.1 46.5287 Q1711.1 37.4952 1714.1 28.3401 Q1717.1 19.1851 1723.22 9.62495 L1729.7 9.62495 Z\" fill=\"#000000\" fill-rule=\"evenodd\" fill-opacity=\"1\" /><path clip-path=\"url(#clip690)\" d=\"M1776.2 34.4165 Q1774.7 33.8899 1773.2 33.4848 Q1769.19 32.4315 1764.9 32.4315 Q1757.49 32.4315 1753.35 36.4419 Q1749.51 40.1688 1748.78 47.0148 L1776.2 47.0148 L1776.2 52.8481 L1748.78 52.8481 Q1749.51 59.6941 1753.35 63.421 Q1757.49 67.4314 1764.9 67.4314 Q1770.08 67.4314 1773.2 66.3781 L1776.2 65.3654 L1776.2 72.1304 L1773 72.8596 Q1768.79 73.7508 1764.45 73.7508 Q1753.6 73.7508 1747.28 67.4314 Q1740.92 61.1119 1740.92 49.9314 Q1740.92 38.7509 1747.28 32.4315 Q1753.6 26.1121 1764.45 26.1121 Q1768.55 26.1121 1773 27.0033 Q1774.62 27.3274 1776.2 27.8135 L1776.2 34.4165 Z\" fill=\"#000000\" fill-rule=\"evenodd\" fill-opacity=\"1\" /><path clip-path=\"url(#clip690)\" d=\"M1791.43 46.5287 L1813.27 46.5287 L1813.27 53.1722 L1791.43 53.1722 L1791.43 46.5287 Z\" fill=\"#000000\" fill-rule=\"evenodd\" fill-opacity=\"1\" /><path clip-path=\"url(#clip690)\" d=\"M1857.79 28.9478 L1857.79 35.9153 Q1854.63 34.1734 1851.43 33.3227 Q1848.27 32.4315 1845.03 32.4315 Q1837.78 32.4315 1833.76 37.0496 Q1829.75 41.6271 1829.75 49.9314 Q1829.75 58.2358 1833.76 62.8538 Q1837.78 67.4314 1845.03 67.4314 Q1848.27 67.4314 1851.43 66.5807 Q1854.63 65.6895 1857.79 63.9476 L1857.79 70.8341 Q1854.67 72.2924 1851.31 73.0216 Q1847.98 73.7508 1844.22 73.7508 Q1833.97 73.7508 1827.93 67.3098 Q1821.9 60.8689 1821.9 49.9314 Q1821.9 38.832 1827.97 32.472 Q1834.09 26.1121 1844.7 26.1121 Q1848.15 26.1121 1851.43 26.8413 Q1854.71 27.5299 1857.79 28.9478 Z\" fill=\"#000000\" fill-rule=\"evenodd\" fill-opacity=\"1\" /><path clip-path=\"url(#clip690)\" d=\"M1888.33 32.4315 Q1882.34 32.4315 1878.85 37.1306 Q1875.37 41.7891 1875.37 49.9314 Q1875.37 58.0738 1878.81 62.7728 Q1882.29 67.4314 1888.33 67.4314 Q1894.29 67.4314 1897.77 62.7323 Q1901.25 58.0333 1901.25 49.9314 Q1901.25 41.8701 1897.77 37.1711 Q1894.29 32.4315 1888.33 32.4315 M1888.33 26.1121 Q1898.05 26.1121 1903.6 32.4315 Q1909.15 38.7509 1909.15 49.9314 Q1909.15 61.0714 1903.6 67.4314 Q1898.05 73.7508 1888.33 73.7508 Q1878.57 73.7508 1873.02 67.4314 Q1867.51 61.0714 1867.51 49.9314 Q1867.51 38.7509 1873.02 32.4315 Q1878.57 26.1121 1888.33 26.1121 Z\" fill=\"#000000\" fill-rule=\"evenodd\" fill-opacity=\"1\" /><path clip-path=\"url(#clip690)\" d=\"M1959.22 45.1919 L1959.22 72.576 L1951.77 72.576 L1951.77 45.4349 Q1951.77 38.994 1949.26 35.7938 Q1946.74 32.5936 1941.72 32.5936 Q1935.69 32.5936 1932.2 36.4419 Q1928.72 40.2903 1928.72 46.9338 L1928.72 72.576 L1921.22 72.576 L1921.22 27.2059 L1928.72 27.2059 L1928.72 34.2544 Q1931.39 30.163 1935 28.1376 Q1938.64 26.1121 1943.38 26.1121 Q1951.2 26.1121 1955.21 30.9732 Q1959.22 35.7938 1959.22 45.1919 Z\" fill=\"#000000\" fill-rule=\"evenodd\" fill-opacity=\"1\" /><path clip-path=\"url(#clip690)\" d=\"M2003.01 28.5427 L2003.01 35.5912 Q1999.85 33.9709 1996.45 33.1607 Q1993.05 32.3505 1989.4 32.3505 Q1983.85 32.3505 1981.06 34.0519 Q1978.3 35.7533 1978.3 39.156 Q1978.3 41.7486 1980.29 43.2475 Q1982.27 44.7058 1988.27 46.0426 L1990.82 46.6097 Q1998.76 48.3111 2002.08 51.4303 Q2005.44 54.509 2005.44 60.0587 Q2005.44 66.3781 2000.42 70.0644 Q1995.44 73.7508 1986.69 73.7508 Q1983.04 73.7508 1979.07 73.0216 Q1975.14 72.3329 1970.77 70.9151 L1970.77 63.2184 Q1974.9 65.3654 1978.91 66.4591 Q1982.92 67.5124 1986.85 67.5124 Q1992.11 67.5124 1994.95 65.73 Q1997.79 63.9071 1997.79 60.6258 Q1997.79 57.5877 1995.72 55.9673 Q1993.69 54.3469 1986.77 52.8481 L1984.17 52.2405 Q1977.25 50.7821 1974.17 47.7845 Q1971.09 44.7463 1971.09 39.4801 Q1971.09 33.0797 1975.63 29.5959 Q1980.16 26.1121 1988.51 26.1121 Q1992.64 26.1121 1996.29 26.7198 Q1999.93 27.3274 2003.01 28.5427 Z\" fill=\"#000000\" fill-rule=\"evenodd\" fill-opacity=\"1\" /><path clip-path=\"url(#clip690)\" d=\"M2024.68 14.324 L2024.68 27.2059 L2040.04 27.2059 L2040.04 32.9987 L2024.68 32.9987 L2024.68 57.6282 Q2024.68 63.1779 2026.18 64.7578 Q2027.72 66.3376 2032.38 66.3376 L2040.04 66.3376 L2040.04 72.576 L2032.38 72.576 Q2023.75 72.576 2020.47 69.3758 Q2017.19 66.1351 2017.19 57.6282 L2017.19 32.9987 L2011.72 32.9987 L2011.72 27.2059 L2017.19 27.2059 L2017.19 14.324 L2024.68 14.324 Z\" fill=\"#000000\" fill-rule=\"evenodd\" fill-opacity=\"1\" /><path clip-path=\"url(#clip690)\" d=\"M2076.13 34.1734 Q2074.87 33.4443 2073.38 33.1202 Q2071.92 32.7556 2070.14 32.7556 Q2063.82 32.7556 2060.41 36.8875 Q2057.05 40.9789 2057.05 48.6757 L2057.05 72.576 L2049.56 72.576 L2049.56 27.2059 L2057.05 27.2059 L2057.05 34.2544 Q2059.4 30.1225 2063.17 28.1376 Q2066.93 26.1121 2072.32 26.1121 Q2073.09 26.1121 2074.02 26.2337 Q2074.96 26.3147 2076.09 26.5172 L2076.13 34.1734 Z\" fill=\"#000000\" fill-rule=\"evenodd\" fill-opacity=\"1\" /><path clip-path=\"url(#clip690)\" d=\"M2104.57 49.7694 Q2095.53 49.7694 2092.05 51.8354 Q2088.57 53.9013 2088.57 58.8839 Q2088.57 62.8538 2091.16 65.2034 Q2093.79 67.5124 2098.29 67.5124 Q2104.49 67.5124 2108.21 63.1374 Q2111.98 58.7219 2111.98 51.4303 L2111.98 49.7694 L2104.57 49.7694 M2119.43 46.6907 L2119.43 72.576 L2111.98 72.576 L2111.98 65.6895 Q2109.43 69.8214 2105.62 71.8063 Q2101.81 73.7508 2096.3 73.7508 Q2089.34 73.7508 2085.2 69.8619 Q2081.11 65.9325 2081.11 59.3701 Q2081.11 51.7138 2086.22 47.825 Q2091.36 43.9361 2101.53 43.9361 L2111.98 43.9361 L2111.98 43.2069 Q2111.98 38.0623 2108.58 35.2672 Q2105.22 32.4315 2099.1 32.4315 Q2095.21 32.4315 2091.52 33.3632 Q2087.84 34.295 2084.43 36.1584 L2084.43 29.2718 Q2088.53 27.692 2092.37 26.9223 Q2096.22 26.1121 2099.87 26.1121 Q2109.71 26.1121 2114.57 31.2163 Q2119.43 36.3204 2119.43 46.6907 Z\" fill=\"#000000\" fill-rule=\"evenodd\" fill-opacity=\"1\" /><path clip-path=\"url(#clip690)\" d=\"M2134.79 27.2059 L2142.24 27.2059 L2142.24 72.576 L2134.79 72.576 L2134.79 27.2059 M2134.79 9.54393 L2142.24 9.54393 L2142.24 18.9825 L2134.79 18.9825 L2134.79 9.54393 Z\" fill=\"#000000\" fill-rule=\"evenodd\" fill-opacity=\"1\" /><path clip-path=\"url(#clip690)\" d=\"M2195.55 45.1919 L2195.55 72.576 L2188.1 72.576 L2188.1 45.4349 Q2188.1 38.994 2185.59 35.7938 Q2183.07 32.5936 2178.05 32.5936 Q2172.02 32.5936 2168.53 36.4419 Q2165.05 40.2903 2165.05 46.9338 L2165.05 72.576 L2157.55 72.576 L2157.55 27.2059 L2165.05 27.2059 L2165.05 34.2544 Q2167.72 30.163 2171.33 28.1376 Q2174.97 26.1121 2179.71 26.1121 Q2187.53 26.1121 2191.54 30.9732 Q2195.55 35.7938 2195.55 45.1919 Z\" fill=\"#000000\" fill-rule=\"evenodd\" fill-opacity=\"1\" /><path clip-path=\"url(#clip690)\" d=\"M2217.79 14.324 L2217.79 27.2059 L2233.14 27.2059 L2233.14 32.9987 L2217.79 32.9987 L2217.79 57.6282 Q2217.79 63.1779 2219.29 64.7578 Q2220.83 66.3376 2225.49 66.3376 L2233.14 66.3376 L2233.14 72.576 L2225.49 72.576 Q2216.86 72.576 2213.58 69.3758 Q2210.3 66.1351 2210.3 57.6282 L2210.3 32.9987 L2204.83 32.9987 L2204.83 27.2059 L2210.3 27.2059 L2210.3 14.324 L2217.79 14.324 Z\" fill=\"#000000\" fill-rule=\"evenodd\" fill-opacity=\"1\" /><path clip-path=\"url(#clip690)\" d=\"M2241.77 9.62495 L2248.25 9.62495 Q2254.33 19.1851 2257.33 28.3401 Q2260.37 37.4952 2260.37 46.5287 Q2260.37 55.6027 2257.33 64.7983 Q2254.33 73.9938 2248.25 83.5134 L2241.77 83.5134 Q2247.16 74.2369 2249.79 65.0818 Q2252.47 55.8863 2252.47 46.5287 Q2252.47 37.1711 2249.79 28.0566 Q2247.16 18.942 2241.77 9.62495 Z\" fill=\"#000000\" fill-rule=\"evenodd\" fill-opacity=\"1\" /><polyline clip-path=\"url(#clip692)\" style=\"stroke:#009af9; stroke-linecap:round; stroke-linejoin:round; stroke-width:4; stroke-opacity:1; fill:none\" points=\"\n",
       "  460.579,159.909 919.845,791.316 1379.11,1107.34 1838.38,1274.09 2297.64,1374.46 \n",
       "  \"/>\n",
       "<circle clip-path=\"url(#clip692)\" cx=\"460.579\" cy=\"159.909\" r=\"14.4\" fill=\"#e26f46\" fill-rule=\"evenodd\" fill-opacity=\"1\" stroke=\"#000000\" stroke-opacity=\"1\" stroke-width=\"3.2\"/>\n",
       "<circle clip-path=\"url(#clip692)\" cx=\"919.845\" cy=\"791.316\" r=\"14.4\" fill=\"#e26f46\" fill-rule=\"evenodd\" fill-opacity=\"1\" stroke=\"#000000\" stroke-opacity=\"1\" stroke-width=\"3.2\"/>\n",
       "<circle clip-path=\"url(#clip692)\" cx=\"1379.11\" cy=\"1107.34\" r=\"14.4\" fill=\"#e26f46\" fill-rule=\"evenodd\" fill-opacity=\"1\" stroke=\"#000000\" stroke-opacity=\"1\" stroke-width=\"3.2\"/>\n",
       "<circle clip-path=\"url(#clip692)\" cx=\"1838.38\" cy=\"1274.09\" r=\"14.4\" fill=\"#e26f46\" fill-rule=\"evenodd\" fill-opacity=\"1\" stroke=\"#000000\" stroke-opacity=\"1\" stroke-width=\"3.2\"/>\n",
       "<circle clip-path=\"url(#clip692)\" cx=\"2297.64\" cy=\"1374.46\" r=\"14.4\" fill=\"#e26f46\" fill-rule=\"evenodd\" fill-opacity=\"1\" stroke=\"#000000\" stroke-opacity=\"1\" stroke-width=\"3.2\"/>\n",
       "<path clip-path=\"url(#clip690)\" d=\"\n",
       "M2040.69 321.906 L2287.85 321.906 L2287.85 166.386 L2040.69 166.386  Z\n",
       "  \" fill=\"#ffffff\" fill-rule=\"evenodd\" fill-opacity=\"1\"/>\n",
       "<polyline clip-path=\"url(#clip690)\" style=\"stroke:#000000; stroke-linecap:round; stroke-linejoin:round; stroke-width:4; stroke-opacity:1; fill:none\" points=\"\n",
       "  2040.69,321.906 2287.85,321.906 2287.85,166.386 2040.69,166.386 2040.69,321.906 \n",
       "  \"/>\n",
       "<polyline clip-path=\"url(#clip690)\" style=\"stroke:#009af9; stroke-linecap:round; stroke-linejoin:round; stroke-width:4; stroke-opacity:1; fill:none\" points=\"\n",
       "  2062.32,218.226 2192.14,218.226 \n",
       "  \"/>\n",
       "<path clip-path=\"url(#clip690)\" d=\"M2227.62 237.914 Q2225.82 242.543 2224.1 243.955 Q2222.39 245.367 2219.52 245.367 L2216.12 245.367 L2216.12 241.803 L2218.62 241.803 Q2220.38 241.803 2221.35 240.969 Q2222.32 240.136 2223.5 237.034 L2224.27 235.09 L2213.78 209.58 L2218.29 209.58 L2226.4 229.858 L2234.5 209.58 L2239.01 209.58 L2227.62 237.914 Z\" fill=\"#000000\" fill-rule=\"evenodd\" fill-opacity=\"1\" /><path clip-path=\"url(#clip690)\" d=\"M2246.3 231.571 L2253.94 231.571 L2253.94 205.206 L2245.63 206.872 L2245.63 202.613 L2253.89 200.946 L2258.57 200.946 L2258.57 231.571 L2266.21 231.571 L2266.21 235.506 L2246.3 235.506 L2246.3 231.571 Z\" fill=\"#000000\" fill-rule=\"evenodd\" fill-opacity=\"1\" /><circle clip-path=\"url(#clip690)\" cx=\"2127.23\" cy=\"270.066\" r=\"23.04\" fill=\"#e26f46\" fill-rule=\"evenodd\" fill-opacity=\"1\" stroke=\"#000000\" stroke-opacity=\"1\" stroke-width=\"5.12\"/>\n",
       "<path clip-path=\"url(#clip690)\" d=\"M2227.62 289.754 Q2225.82 294.383 2224.1 295.795 Q2222.39 297.207 2219.52 297.207 L2216.12 297.207 L2216.12 293.643 L2218.62 293.643 Q2220.38 293.643 2221.35 292.809 Q2222.32 291.976 2223.5 288.874 L2224.27 286.93 L2213.78 261.42 L2218.29 261.42 L2226.4 281.698 L2234.5 261.42 L2239.01 261.42 L2227.62 289.754 Z\" fill=\"#000000\" fill-rule=\"evenodd\" fill-opacity=\"1\" /><path clip-path=\"url(#clip690)\" d=\"M2249.52 283.411 L2265.84 283.411 L2265.84 287.346 L2243.9 287.346 L2243.9 283.411 Q2246.56 280.656 2251.14 276.027 Q2255.75 271.374 2256.93 270.032 Q2259.17 267.508 2260.05 265.772 Q2260.96 264.013 2260.96 262.323 Q2260.96 259.569 2259.01 257.833 Q2257.09 256.096 2253.99 256.096 Q2251.79 256.096 2249.33 256.86 Q2246.9 257.624 2244.13 259.175 L2244.13 254.453 Q2246.95 253.319 2249.4 252.74 Q2251.86 252.161 2253.89 252.161 Q2259.27 252.161 2262.46 254.846 Q2265.65 257.532 2265.65 262.022 Q2265.65 264.152 2264.84 266.073 Q2264.06 267.971 2261.95 270.564 Q2261.37 271.235 2258.27 274.453 Q2255.17 277.647 2249.52 283.411 Z\" fill=\"#000000\" fill-rule=\"evenodd\" fill-opacity=\"1\" /></svg>\n"
      ]
     },
     "execution_count": 61,
     "metadata": {},
     "output_type": "execute_result"
    }
   ],
   "source": [
    "x_axis = ls_eo\n",
    "y_axis = ls_ss\n",
    "\n",
    "plot(x_axis, y_axis)\n",
    "plot!(x_axis, y_axis, seriestype=:scatter)\n",
    "# scatter(x_axis, y_axis)\n",
    "\n",
    "title!(\"Over the whole supply chain (ϵ-constraint)\")\n",
    "xlabel!(\"Ecologically Safe\")\n",
    "ylabel!(\"Socially Just\")"
   ]
  },
  {
   "cell_type": "code",
   "execution_count": 62,
   "id": "7d25ee0c",
   "metadata": {},
   "outputs": [
    {
     "data": {
      "text/plain": [
       "\"C:/Users/bourg/.julia/environments/batterySC/Li-battery-SC/src/deterministic/data/result/PERATO_0401.csv\""
      ]
     },
     "execution_count": 62,
     "metadata": {},
     "output_type": "execute_result"
    }
   ],
   "source": [
    "perato1 = DataFrame([ls_eo, ls_ss],:auto)\n",
    "rename!(perato1,[\"EO\", \"SS\"])\n",
    "CSV.write(\"C:/Users/bourg/.julia/environments/batterySC/Li-battery-SC/src/deterministic/data/result/PERATO_0401.csv\", perato1)"
   ]
  },
  {
   "cell_type": "markdown",
   "id": "5d748606",
   "metadata": {},
   "source": [
    "### Tesla Case"
   ]
  },
  {
   "cell_type": "code",
   "execution_count": 63,
   "id": "4ae30434",
   "metadata": {},
   "outputs": [],
   "source": [
    "tesla_soc = -1.034e7\n",
    "tesla_eco = 3.614e6;"
   ]
  },
  {
   "cell_type": "code",
   "execution_count": 64,
   "id": "782d0a96",
   "metadata": {},
   "outputs": [
    {
     "data": {
      "image/svg+xml": [
       "<?xml version=\"1.0\" encoding=\"utf-8\"?>\n",
       "<svg xmlns=\"http://www.w3.org/2000/svg\" xmlns:xlink=\"http://www.w3.org/1999/xlink\" width=\"600\" height=\"400\" viewBox=\"0 0 2400 1600\">\n",
       "<defs>\n",
       "  <clipPath id=\"clip730\">\n",
       "    <rect x=\"0\" y=\"0\" width=\"2400\" height=\"1600\"/>\n",
       "  </clipPath>\n",
       "</defs>\n",
       "<path clip-path=\"url(#clip730)\" d=\"\n",
       "M0 1600 L2400 1600 L2400 0 L0 0  Z\n",
       "  \" fill=\"#ffffff\" fill-rule=\"evenodd\" fill-opacity=\"1\"/>\n",
       "<defs>\n",
       "  <clipPath id=\"clip731\">\n",
       "    <rect x=\"480\" y=\"0\" width=\"1681\" height=\"1600\"/>\n",
       "  </clipPath>\n",
       "</defs>\n",
       "<path clip-path=\"url(#clip730)\" d=\"\n",
       "M405.467 1410.9 L2352.76 1410.9 L2352.76 123.472 L405.467 123.472  Z\n",
       "  \" fill=\"#ffffff\" fill-rule=\"evenodd\" fill-opacity=\"1\"/>\n",
       "<defs>\n",
       "  <clipPath id=\"clip732\">\n",
       "    <rect x=\"405\" y=\"123\" width=\"1948\" height=\"1288\"/>\n",
       "  </clipPath>\n",
       "</defs>\n",
       "<polyline clip-path=\"url(#clip732)\" style=\"stroke:#000000; stroke-linecap:round; stroke-linejoin:round; stroke-width:2; stroke-opacity:0.1; fill:none\" points=\"\n",
       "  486.309,1410.9 486.309,123.472 \n",
       "  \"/>\n",
       "<polyline clip-path=\"url(#clip732)\" style=\"stroke:#000000; stroke-linecap:round; stroke-linejoin:round; stroke-width:2; stroke-opacity:0.1; fill:none\" points=\"\n",
       "  757.829,1410.9 757.829,123.472 \n",
       "  \"/>\n",
       "<polyline clip-path=\"url(#clip732)\" style=\"stroke:#000000; stroke-linecap:round; stroke-linejoin:round; stroke-width:2; stroke-opacity:0.1; fill:none\" points=\"\n",
       "  1029.35,1410.9 1029.35,123.472 \n",
       "  \"/>\n",
       "<polyline clip-path=\"url(#clip732)\" style=\"stroke:#000000; stroke-linecap:round; stroke-linejoin:round; stroke-width:2; stroke-opacity:0.1; fill:none\" points=\"\n",
       "  1300.87,1410.9 1300.87,123.472 \n",
       "  \"/>\n",
       "<polyline clip-path=\"url(#clip732)\" style=\"stroke:#000000; stroke-linecap:round; stroke-linejoin:round; stroke-width:2; stroke-opacity:0.1; fill:none\" points=\"\n",
       "  1572.39,1410.9 1572.39,123.472 \n",
       "  \"/>\n",
       "<polyline clip-path=\"url(#clip732)\" style=\"stroke:#000000; stroke-linecap:round; stroke-linejoin:round; stroke-width:2; stroke-opacity:0.1; fill:none\" points=\"\n",
       "  1843.91,1410.9 1843.91,123.472 \n",
       "  \"/>\n",
       "<polyline clip-path=\"url(#clip732)\" style=\"stroke:#000000; stroke-linecap:round; stroke-linejoin:round; stroke-width:2; stroke-opacity:0.1; fill:none\" points=\"\n",
       "  2115.43,1410.9 2115.43,123.472 \n",
       "  \"/>\n",
       "<polyline clip-path=\"url(#clip730)\" style=\"stroke:#000000; stroke-linecap:round; stroke-linejoin:round; stroke-width:4; stroke-opacity:1; fill:none\" points=\"\n",
       "  405.467,1410.9 2352.76,1410.9 \n",
       "  \"/>\n",
       "<polyline clip-path=\"url(#clip730)\" style=\"stroke:#000000; stroke-linecap:round; stroke-linejoin:round; stroke-width:4; stroke-opacity:1; fill:none\" points=\"\n",
       "  486.309,1410.9 486.309,1392 \n",
       "  \"/>\n",
       "<polyline clip-path=\"url(#clip730)\" style=\"stroke:#000000; stroke-linecap:round; stroke-linejoin:round; stroke-width:4; stroke-opacity:1; fill:none\" points=\"\n",
       "  757.829,1410.9 757.829,1392 \n",
       "  \"/>\n",
       "<polyline clip-path=\"url(#clip730)\" style=\"stroke:#000000; stroke-linecap:round; stroke-linejoin:round; stroke-width:4; stroke-opacity:1; fill:none\" points=\"\n",
       "  1029.35,1410.9 1029.35,1392 \n",
       "  \"/>\n",
       "<polyline clip-path=\"url(#clip730)\" style=\"stroke:#000000; stroke-linecap:round; stroke-linejoin:round; stroke-width:4; stroke-opacity:1; fill:none\" points=\"\n",
       "  1300.87,1410.9 1300.87,1392 \n",
       "  \"/>\n",
       "<polyline clip-path=\"url(#clip730)\" style=\"stroke:#000000; stroke-linecap:round; stroke-linejoin:round; stroke-width:4; stroke-opacity:1; fill:none\" points=\"\n",
       "  1572.39,1410.9 1572.39,1392 \n",
       "  \"/>\n",
       "<polyline clip-path=\"url(#clip730)\" style=\"stroke:#000000; stroke-linecap:round; stroke-linejoin:round; stroke-width:4; stroke-opacity:1; fill:none\" points=\"\n",
       "  1843.91,1410.9 1843.91,1392 \n",
       "  \"/>\n",
       "<polyline clip-path=\"url(#clip730)\" style=\"stroke:#000000; stroke-linecap:round; stroke-linejoin:round; stroke-width:4; stroke-opacity:1; fill:none\" points=\"\n",
       "  2115.43,1410.9 2115.43,1392 \n",
       "  \"/>\n",
       "<path clip-path=\"url(#clip730)\" d=\"M393.744 1485.02 L401.383 1485.02 L401.383 1458.66 L393.072 1460.32 L393.072 1456.06 L401.336 1454.4 L406.012 1454.4 L406.012 1485.02 L413.651 1485.02 L413.651 1488.96 L393.744 1488.96 L393.744 1485.02 Z\" fill=\"#000000\" fill-rule=\"evenodd\" fill-opacity=\"1\" /><path clip-path=\"url(#clip730)\" d=\"M423.095 1483.08 L427.98 1483.08 L427.98 1488.96 L423.095 1488.96 L423.095 1483.08 Z\" fill=\"#000000\" fill-rule=\"evenodd\" fill-opacity=\"1\" /><path clip-path=\"url(#clip730)\" d=\"M448.165 1457.48 Q444.554 1457.48 442.725 1461.04 Q440.919 1464.58 440.919 1471.71 Q440.919 1478.82 442.725 1482.38 Q444.554 1485.92 448.165 1485.92 Q451.799 1485.92 453.604 1482.38 Q455.433 1478.82 455.433 1471.71 Q455.433 1464.58 453.604 1461.04 Q451.799 1457.48 448.165 1457.48 M448.165 1453.77 Q453.975 1453.77 457.03 1458.38 Q460.109 1462.96 460.109 1471.71 Q460.109 1480.44 457.03 1485.04 Q453.975 1489.63 448.165 1489.63 Q442.355 1489.63 439.276 1485.04 Q436.22 1480.44 436.22 1471.71 Q436.22 1462.96 439.276 1458.38 Q442.355 1453.77 448.165 1453.77 Z\" fill=\"#000000\" fill-rule=\"evenodd\" fill-opacity=\"1\" /><path clip-path=\"url(#clip730)\" d=\"M496.498 1463.49 L485.919 1474.12 L496.498 1484.7 L493.743 1487.5 L483.118 1476.87 L472.493 1487.5 L469.762 1484.7 L480.317 1474.12 L469.762 1463.49 L472.493 1460.69 L483.118 1471.32 L493.743 1460.69 L496.498 1463.49 Z\" fill=\"#000000\" fill-rule=\"evenodd\" fill-opacity=\"1\" /><path clip-path=\"url(#clip730)\" d=\"M508.859 1485.02 L516.498 1485.02 L516.498 1458.66 L508.188 1460.32 L508.188 1456.06 L516.451 1454.4 L521.127 1454.4 L521.127 1485.02 L528.766 1485.02 L528.766 1488.96 L508.859 1488.96 L508.859 1485.02 Z\" fill=\"#000000\" fill-rule=\"evenodd\" fill-opacity=\"1\" /><path clip-path=\"url(#clip730)\" d=\"M548.21 1457.48 Q544.599 1457.48 542.771 1461.04 Q540.965 1464.58 540.965 1471.71 Q540.965 1478.82 542.771 1482.38 Q544.599 1485.92 548.21 1485.92 Q551.845 1485.92 553.65 1482.38 Q555.479 1478.82 555.479 1471.71 Q555.479 1464.58 553.65 1461.04 Q551.845 1457.48 548.21 1457.48 M548.21 1453.77 Q554.021 1453.77 557.076 1458.38 Q560.155 1462.96 560.155 1471.71 Q560.155 1480.44 557.076 1485.04 Q554.021 1489.63 548.21 1489.63 Q542.4 1489.63 539.322 1485.04 Q536.266 1480.44 536.266 1471.71 Q536.266 1462.96 539.322 1458.38 Q542.4 1453.77 548.21 1453.77 Z\" fill=\"#000000\" fill-rule=\"evenodd\" fill-opacity=\"1\" /><path clip-path=\"url(#clip730)\" d=\"M570.179 1445.99 Q567.622 1445.99 566.117 1447.74 Q564.631 1449.49 564.631 1452.54 Q564.631 1455.57 566.117 1457.33 Q567.622 1459.08 570.179 1459.08 Q572.737 1459.08 574.223 1457.33 Q575.728 1455.57 575.728 1452.54 Q575.728 1449.49 574.223 1447.74 Q572.737 1445.99 570.179 1445.99 M577.721 1434.09 L577.721 1437.55 Q576.292 1436.87 574.825 1436.51 Q573.377 1436.16 571.947 1436.16 Q568.186 1436.16 566.192 1438.69 Q564.217 1441.23 563.935 1446.37 Q565.045 1444.73 566.719 1443.87 Q568.393 1442.98 570.405 1442.98 Q574.637 1442.98 577.082 1445.56 Q579.546 1448.12 579.546 1452.54 Q579.546 1456.86 576.988 1459.48 Q574.43 1462.09 570.179 1462.09 Q565.308 1462.09 562.732 1458.37 Q560.155 1454.62 560.155 1447.53 Q560.155 1440.88 563.315 1436.93 Q566.474 1432.96 571.797 1432.96 Q573.226 1432.96 574.674 1433.24 Q576.141 1433.52 577.721 1434.09 Z\" fill=\"#000000\" fill-rule=\"evenodd\" fill-opacity=\"1\" /><path clip-path=\"url(#clip730)\" d=\"M669.349 1485.02 L685.668 1485.02 L685.668 1488.96 L663.724 1488.96 L663.724 1485.02 Q666.386 1482.27 670.969 1477.64 Q675.576 1472.98 676.756 1471.64 Q679.002 1469.12 679.881 1467.38 Q680.784 1465.62 680.784 1463.93 Q680.784 1461.18 678.84 1459.44 Q676.918 1457.71 673.817 1457.71 Q671.617 1457.71 669.164 1458.47 Q666.733 1459.23 663.955 1460.79 L663.955 1456.06 Q666.78 1454.93 669.233 1454.35 Q671.687 1453.77 673.724 1453.77 Q679.094 1453.77 682.289 1456.46 Q685.483 1459.14 685.483 1463.63 Q685.483 1465.76 684.673 1467.68 Q683.886 1469.58 681.779 1472.17 Q681.201 1472.85 678.099 1476.06 Q674.997 1479.26 669.349 1485.02 Z\" fill=\"#000000\" fill-rule=\"evenodd\" fill-opacity=\"1\" /><path clip-path=\"url(#clip730)\" d=\"M695.483 1483.08 L700.367 1483.08 L700.367 1488.96 L695.483 1488.96 L695.483 1483.08 Z\" fill=\"#000000\" fill-rule=\"evenodd\" fill-opacity=\"1\" /><path clip-path=\"url(#clip730)\" d=\"M720.552 1457.48 Q716.941 1457.48 715.113 1461.04 Q713.307 1464.58 713.307 1471.71 Q713.307 1478.82 715.113 1482.38 Q716.941 1485.92 720.552 1485.92 Q724.187 1485.92 725.992 1482.38 Q727.821 1478.82 727.821 1471.71 Q727.821 1464.58 725.992 1461.04 Q724.187 1457.48 720.552 1457.48 M720.552 1453.77 Q726.363 1453.77 729.418 1458.38 Q732.497 1462.96 732.497 1471.71 Q732.497 1480.44 729.418 1485.04 Q726.363 1489.63 720.552 1489.63 Q714.742 1489.63 711.664 1485.04 Q708.608 1480.44 708.608 1471.71 Q708.608 1462.96 711.664 1458.38 Q714.742 1453.77 720.552 1453.77 Z\" fill=\"#000000\" fill-rule=\"evenodd\" fill-opacity=\"1\" /><path clip-path=\"url(#clip730)\" d=\"M768.885 1463.49 L758.307 1474.12 L768.885 1484.7 L766.131 1487.5 L755.506 1476.87 L744.881 1487.5 L742.149 1484.7 L752.705 1474.12 L742.149 1463.49 L744.881 1460.69 L755.506 1471.32 L766.131 1460.69 L768.885 1463.49 Z\" fill=\"#000000\" fill-rule=\"evenodd\" fill-opacity=\"1\" /><path clip-path=\"url(#clip730)\" d=\"M781.247 1485.02 L788.885 1485.02 L788.885 1458.66 L780.575 1460.32 L780.575 1456.06 L788.839 1454.4 L793.515 1454.4 L793.515 1485.02 L801.154 1485.02 L801.154 1488.96 L781.247 1488.96 L781.247 1485.02 Z\" fill=\"#000000\" fill-rule=\"evenodd\" fill-opacity=\"1\" /><path clip-path=\"url(#clip730)\" d=\"M820.598 1457.48 Q816.987 1457.48 815.158 1461.04 Q813.353 1464.58 813.353 1471.71 Q813.353 1478.82 815.158 1482.38 Q816.987 1485.92 820.598 1485.92 Q824.232 1485.92 826.038 1482.38 Q827.867 1478.82 827.867 1471.71 Q827.867 1464.58 826.038 1461.04 Q824.232 1457.48 820.598 1457.48 M820.598 1453.77 Q826.408 1453.77 829.464 1458.38 Q832.543 1462.96 832.543 1471.71 Q832.543 1480.44 829.464 1485.04 Q826.408 1489.63 820.598 1489.63 Q814.788 1489.63 811.709 1485.04 Q808.654 1480.44 808.654 1471.71 Q808.654 1462.96 811.709 1458.38 Q814.788 1453.77 820.598 1453.77 Z\" fill=\"#000000\" fill-rule=\"evenodd\" fill-opacity=\"1\" /><path clip-path=\"url(#clip730)\" d=\"M842.567 1445.99 Q840.009 1445.99 838.505 1447.74 Q837.019 1449.49 837.019 1452.54 Q837.019 1455.57 838.505 1457.33 Q840.009 1459.08 842.567 1459.08 Q845.125 1459.08 846.611 1457.33 Q848.115 1455.57 848.115 1452.54 Q848.115 1449.49 846.611 1447.74 Q845.125 1445.99 842.567 1445.99 M850.109 1434.09 L850.109 1437.55 Q848.68 1436.87 847.213 1436.51 Q845.764 1436.16 844.335 1436.16 Q840.573 1436.16 838.58 1438.69 Q836.605 1441.23 836.323 1446.37 Q837.433 1444.73 839.106 1443.87 Q840.78 1442.98 842.793 1442.98 Q847.025 1442.98 849.47 1445.56 Q851.933 1448.12 851.933 1452.54 Q851.933 1456.86 849.375 1459.48 Q846.818 1462.09 842.567 1462.09 Q837.696 1462.09 835.119 1458.37 Q832.543 1454.62 832.543 1447.53 Q832.543 1440.88 835.702 1436.93 Q838.862 1432.96 844.185 1432.96 Q845.614 1432.96 847.062 1433.24 Q848.529 1433.52 850.109 1434.09 Z\" fill=\"#000000\" fill-rule=\"evenodd\" fill-opacity=\"1\" /><path clip-path=\"url(#clip730)\" d=\"M950.938 1470.32 Q954.294 1471.04 956.169 1473.31 Q958.068 1475.58 958.068 1478.91 Q958.068 1484.03 954.549 1486.83 Q951.031 1489.63 944.549 1489.63 Q942.373 1489.63 940.058 1489.19 Q937.767 1488.77 935.313 1487.91 L935.313 1483.4 Q937.257 1484.54 939.572 1485.11 Q941.887 1485.69 944.41 1485.69 Q948.808 1485.69 951.1 1483.96 Q953.415 1482.22 953.415 1478.91 Q953.415 1475.85 951.262 1474.14 Q949.132 1472.41 945.313 1472.41 L941.285 1472.41 L941.285 1468.56 L945.498 1468.56 Q948.947 1468.56 950.776 1467.2 Q952.605 1465.81 952.605 1463.22 Q952.605 1460.55 950.706 1459.14 Q948.831 1457.71 945.313 1457.71 Q943.392 1457.71 941.193 1458.12 Q938.994 1458.54 936.355 1459.42 L936.355 1455.25 Q939.017 1454.51 941.332 1454.14 Q943.669 1453.77 945.73 1453.77 Q951.054 1453.77 954.156 1456.2 Q957.257 1458.61 957.257 1462.73 Q957.257 1465.6 955.614 1467.59 Q953.97 1469.56 950.938 1470.32 Z\" fill=\"#000000\" fill-rule=\"evenodd\" fill-opacity=\"1\" /><path clip-path=\"url(#clip730)\" d=\"M966.933 1483.08 L971.817 1483.08 L971.817 1488.96 L966.933 1488.96 L966.933 1483.08 Z\" fill=\"#000000\" fill-rule=\"evenodd\" fill-opacity=\"1\" /><path clip-path=\"url(#clip730)\" d=\"M992.003 1457.48 Q988.391 1457.48 986.563 1461.04 Q984.757 1464.58 984.757 1471.71 Q984.757 1478.82 986.563 1482.38 Q988.391 1485.92 992.003 1485.92 Q995.637 1485.92 997.442 1482.38 Q999.271 1478.82 999.271 1471.71 Q999.271 1464.58 997.442 1461.04 Q995.637 1457.48 992.003 1457.48 M992.003 1453.77 Q997.813 1453.77 1000.87 1458.38 Q1003.95 1462.96 1003.95 1471.71 Q1003.95 1480.44 1000.87 1485.04 Q997.813 1489.63 992.003 1489.63 Q986.192 1489.63 983.114 1485.04 Q980.058 1480.44 980.058 1471.71 Q980.058 1462.96 983.114 1458.38 Q986.192 1453.77 992.003 1453.77 Z\" fill=\"#000000\" fill-rule=\"evenodd\" fill-opacity=\"1\" /><path clip-path=\"url(#clip730)\" d=\"M1040.34 1463.49 L1029.76 1474.12 L1040.34 1484.7 L1037.58 1487.5 L1026.96 1476.87 L1016.33 1487.5 L1013.6 1484.7 L1024.16 1474.12 L1013.6 1463.49 L1016.33 1460.69 L1026.96 1471.32 L1037.58 1460.69 L1040.34 1463.49 Z\" fill=\"#000000\" fill-rule=\"evenodd\" fill-opacity=\"1\" /><path clip-path=\"url(#clip730)\" d=\"M1052.7 1485.02 L1060.34 1485.02 L1060.34 1458.66 L1052.03 1460.32 L1052.03 1456.06 L1060.29 1454.4 L1064.97 1454.4 L1064.97 1485.02 L1072.6 1485.02 L1072.6 1488.96 L1052.7 1488.96 L1052.7 1485.02 Z\" fill=\"#000000\" fill-rule=\"evenodd\" fill-opacity=\"1\" /><path clip-path=\"url(#clip730)\" d=\"M1092.05 1457.48 Q1088.44 1457.48 1086.61 1461.04 Q1084.8 1464.58 1084.8 1471.71 Q1084.8 1478.82 1086.61 1482.38 Q1088.44 1485.92 1092.05 1485.92 Q1095.68 1485.92 1097.49 1482.38 Q1099.32 1478.82 1099.32 1471.71 Q1099.32 1464.58 1097.49 1461.04 Q1095.68 1457.48 1092.05 1457.48 M1092.05 1453.77 Q1097.86 1453.77 1100.91 1458.38 Q1103.99 1462.96 1103.99 1471.71 Q1103.99 1480.44 1100.91 1485.04 Q1097.86 1489.63 1092.05 1489.63 Q1086.24 1489.63 1083.16 1485.04 Q1080.1 1480.44 1080.1 1471.71 Q1080.1 1462.96 1083.16 1458.38 Q1086.24 1453.77 1092.05 1453.77 Z\" fill=\"#000000\" fill-rule=\"evenodd\" fill-opacity=\"1\" /><path clip-path=\"url(#clip730)\" d=\"M1114.02 1445.99 Q1111.46 1445.99 1109.95 1447.74 Q1108.47 1449.49 1108.47 1452.54 Q1108.47 1455.57 1109.95 1457.33 Q1111.46 1459.08 1114.02 1459.08 Q1116.58 1459.08 1118.06 1457.33 Q1119.57 1455.57 1119.57 1452.54 Q1119.57 1449.49 1118.06 1447.74 Q1116.58 1445.99 1114.02 1445.99 M1121.56 1434.09 L1121.56 1437.55 Q1120.13 1436.87 1118.66 1436.51 Q1117.21 1436.16 1115.79 1436.16 Q1112.02 1436.16 1110.03 1438.69 Q1108.06 1441.23 1107.77 1446.37 Q1108.88 1444.73 1110.56 1443.87 Q1112.23 1442.98 1114.24 1442.98 Q1118.47 1442.98 1120.92 1445.56 Q1123.38 1448.12 1123.38 1452.54 Q1123.38 1456.86 1120.83 1459.48 Q1118.27 1462.09 1114.02 1462.09 Q1109.15 1462.09 1106.57 1458.37 Q1103.99 1454.62 1103.99 1447.53 Q1103.99 1440.88 1107.15 1436.93 Q1110.31 1432.96 1115.63 1432.96 Q1117.06 1432.96 1118.51 1433.24 Q1119.98 1433.52 1121.56 1434.09 Z\" fill=\"#000000\" fill-rule=\"evenodd\" fill-opacity=\"1\" /><path clip-path=\"url(#clip730)\" d=\"M1221.79 1458.47 L1209.98 1476.92 L1221.79 1476.92 L1221.79 1458.47 M1220.56 1454.4 L1226.44 1454.4 L1226.44 1476.92 L1231.37 1476.92 L1231.37 1480.81 L1226.44 1480.81 L1226.44 1488.96 L1221.79 1488.96 L1221.79 1480.81 L1206.18 1480.81 L1206.18 1476.29 L1220.56 1454.4 Z\" fill=\"#000000\" fill-rule=\"evenodd\" fill-opacity=\"1\" /><path clip-path=\"url(#clip730)\" d=\"M1239.1 1483.08 L1243.99 1483.08 L1243.99 1488.96 L1239.1 1488.96 L1239.1 1483.08 Z\" fill=\"#000000\" fill-rule=\"evenodd\" fill-opacity=\"1\" /><path clip-path=\"url(#clip730)\" d=\"M1264.17 1457.48 Q1260.56 1457.48 1258.73 1461.04 Q1256.92 1464.58 1256.92 1471.71 Q1256.92 1478.82 1258.73 1482.38 Q1260.56 1485.92 1264.17 1485.92 Q1267.8 1485.92 1269.61 1482.38 Q1271.44 1478.82 1271.44 1471.71 Q1271.44 1464.58 1269.61 1461.04 Q1267.8 1457.48 1264.17 1457.48 M1264.17 1453.77 Q1269.98 1453.77 1273.04 1458.38 Q1276.11 1462.96 1276.11 1471.71 Q1276.11 1480.44 1273.04 1485.04 Q1269.98 1489.63 1264.17 1489.63 Q1258.36 1489.63 1255.28 1485.04 Q1252.23 1480.44 1252.23 1471.71 Q1252.23 1462.96 1255.28 1458.38 Q1258.36 1453.77 1264.17 1453.77 Z\" fill=\"#000000\" fill-rule=\"evenodd\" fill-opacity=\"1\" /><path clip-path=\"url(#clip730)\" d=\"M1312.5 1463.49 L1301.92 1474.12 L1312.5 1484.7 L1309.75 1487.5 L1299.12 1476.87 L1288.5 1487.5 L1285.77 1484.7 L1296.32 1474.12 L1285.77 1463.49 L1288.5 1460.69 L1299.12 1471.32 L1309.75 1460.69 L1312.5 1463.49 Z\" fill=\"#000000\" fill-rule=\"evenodd\" fill-opacity=\"1\" /><path clip-path=\"url(#clip730)\" d=\"M1324.86 1485.02 L1332.5 1485.02 L1332.5 1458.66 L1324.19 1460.32 L1324.19 1456.06 L1332.46 1454.4 L1337.13 1454.4 L1337.13 1485.02 L1344.77 1485.02 L1344.77 1488.96 L1324.86 1488.96 L1324.86 1485.02 Z\" fill=\"#000000\" fill-rule=\"evenodd\" fill-opacity=\"1\" /><path clip-path=\"url(#clip730)\" d=\"M1364.22 1457.48 Q1360.6 1457.48 1358.78 1461.04 Q1356.97 1464.58 1356.97 1471.71 Q1356.97 1478.82 1358.78 1482.38 Q1360.6 1485.92 1364.22 1485.92 Q1367.85 1485.92 1369.66 1482.38 Q1371.48 1478.82 1371.48 1471.71 Q1371.48 1464.58 1369.66 1461.04 Q1367.85 1457.48 1364.22 1457.48 M1364.22 1453.77 Q1370.03 1453.77 1373.08 1458.38 Q1376.16 1462.96 1376.16 1471.71 Q1376.16 1480.44 1373.08 1485.04 Q1370.03 1489.63 1364.22 1489.63 Q1358.41 1489.63 1355.33 1485.04 Q1352.27 1480.44 1352.27 1471.71 Q1352.27 1462.96 1355.33 1458.38 Q1358.41 1453.77 1364.22 1453.77 Z\" fill=\"#000000\" fill-rule=\"evenodd\" fill-opacity=\"1\" /><path clip-path=\"url(#clip730)\" d=\"M1386.19 1445.99 Q1383.63 1445.99 1382.12 1447.74 Q1380.64 1449.49 1380.64 1452.54 Q1380.64 1455.57 1382.12 1457.33 Q1383.63 1459.08 1386.19 1459.08 Q1388.74 1459.08 1390.23 1457.33 Q1391.73 1455.57 1391.73 1452.54 Q1391.73 1449.49 1390.23 1447.74 Q1388.74 1445.99 1386.19 1445.99 M1393.73 1434.09 L1393.73 1437.55 Q1392.3 1436.87 1390.83 1436.51 Q1389.38 1436.16 1387.95 1436.16 Q1384.19 1436.16 1382.2 1438.69 Q1380.22 1441.23 1379.94 1446.37 Q1381.05 1444.73 1382.72 1443.87 Q1384.4 1442.98 1386.41 1442.98 Q1390.64 1442.98 1393.09 1445.56 Q1395.55 1448.12 1395.55 1452.54 Q1395.55 1456.86 1392.99 1459.48 Q1390.44 1462.09 1386.19 1462.09 Q1381.31 1462.09 1378.74 1458.37 Q1376.16 1454.62 1376.16 1447.53 Q1376.16 1440.88 1379.32 1436.93 Q1382.48 1432.96 1387.8 1432.96 Q1389.23 1432.96 1390.68 1433.24 Q1392.15 1433.52 1393.73 1434.09 Z\" fill=\"#000000\" fill-rule=\"evenodd\" fill-opacity=\"1\" /><path clip-path=\"url(#clip730)\" d=\"M1479.83 1454.4 L1498.19 1454.4 L1498.19 1458.33 L1484.12 1458.33 L1484.12 1466.8 Q1485.13 1466.46 1486.15 1466.29 Q1487.17 1466.11 1488.19 1466.11 Q1493.98 1466.11 1497.36 1469.28 Q1500.74 1472.45 1500.74 1477.87 Q1500.74 1483.45 1497.26 1486.55 Q1493.79 1489.63 1487.47 1489.63 Q1485.3 1489.63 1483.03 1489.26 Q1480.78 1488.89 1478.38 1488.15 L1478.38 1483.45 Q1480.46 1484.58 1482.68 1485.14 Q1484.9 1485.69 1487.38 1485.69 Q1491.38 1485.69 1493.72 1483.59 Q1496.06 1481.48 1496.06 1477.87 Q1496.06 1474.26 1493.72 1472.15 Q1491.38 1470.04 1487.38 1470.04 Q1485.51 1470.04 1483.63 1470.46 Q1481.78 1470.88 1479.83 1471.76 L1479.83 1454.4 Z\" fill=\"#000000\" fill-rule=\"evenodd\" fill-opacity=\"1\" /><path clip-path=\"url(#clip730)\" d=\"M1509.95 1483.08 L1514.83 1483.08 L1514.83 1488.96 L1509.95 1488.96 L1509.95 1483.08 Z\" fill=\"#000000\" fill-rule=\"evenodd\" fill-opacity=\"1\" /><path clip-path=\"url(#clip730)\" d=\"M1535.02 1457.48 Q1531.41 1457.48 1529.58 1461.04 Q1527.77 1464.58 1527.77 1471.71 Q1527.77 1478.82 1529.58 1482.38 Q1531.41 1485.92 1535.02 1485.92 Q1538.65 1485.92 1540.46 1482.38 Q1542.29 1478.82 1542.29 1471.71 Q1542.29 1464.58 1540.46 1461.04 Q1538.65 1457.48 1535.02 1457.48 M1535.02 1453.77 Q1540.83 1453.77 1543.88 1458.38 Q1546.96 1462.96 1546.96 1471.71 Q1546.96 1480.44 1543.88 1485.04 Q1540.83 1489.63 1535.02 1489.63 Q1529.21 1489.63 1526.13 1485.04 Q1523.07 1480.44 1523.07 1471.71 Q1523.07 1462.96 1526.13 1458.38 Q1529.21 1453.77 1535.02 1453.77 Z\" fill=\"#000000\" fill-rule=\"evenodd\" fill-opacity=\"1\" /><path clip-path=\"url(#clip730)\" d=\"M1583.35 1463.49 L1572.77 1474.12 L1583.35 1484.7 L1580.6 1487.5 L1569.97 1476.87 L1559.35 1487.5 L1556.62 1484.7 L1567.17 1474.12 L1556.62 1463.49 L1559.35 1460.69 L1569.97 1471.32 L1580.6 1460.69 L1583.35 1463.49 Z\" fill=\"#000000\" fill-rule=\"evenodd\" fill-opacity=\"1\" /><path clip-path=\"url(#clip730)\" d=\"M1595.71 1485.02 L1603.35 1485.02 L1603.35 1458.66 L1595.04 1460.32 L1595.04 1456.06 L1603.31 1454.4 L1607.98 1454.4 L1607.98 1485.02 L1615.62 1485.02 L1615.62 1488.96 L1595.71 1488.96 L1595.71 1485.02 Z\" fill=\"#000000\" fill-rule=\"evenodd\" fill-opacity=\"1\" /><path clip-path=\"url(#clip730)\" d=\"M1635.06 1457.48 Q1631.45 1457.48 1629.62 1461.04 Q1627.82 1464.58 1627.82 1471.71 Q1627.82 1478.82 1629.62 1482.38 Q1631.45 1485.92 1635.06 1485.92 Q1638.7 1485.92 1640.5 1482.38 Q1642.33 1478.82 1642.33 1471.71 Q1642.33 1464.58 1640.5 1461.04 Q1638.7 1457.48 1635.06 1457.48 M1635.06 1453.77 Q1640.87 1453.77 1643.93 1458.38 Q1647.01 1462.96 1647.01 1471.71 Q1647.01 1480.44 1643.93 1485.04 Q1640.87 1489.63 1635.06 1489.63 Q1629.25 1489.63 1626.18 1485.04 Q1623.12 1480.44 1623.12 1471.71 Q1623.12 1462.96 1626.18 1458.38 Q1629.25 1453.77 1635.06 1453.77 Z\" fill=\"#000000\" fill-rule=\"evenodd\" fill-opacity=\"1\" /><path clip-path=\"url(#clip730)\" d=\"M1657.03 1445.99 Q1654.48 1445.99 1652.97 1447.74 Q1651.49 1449.49 1651.49 1452.54 Q1651.49 1455.57 1652.97 1457.33 Q1654.48 1459.08 1657.03 1459.08 Q1659.59 1459.08 1661.08 1457.33 Q1662.58 1455.57 1662.58 1452.54 Q1662.58 1449.49 1661.08 1447.74 Q1659.59 1445.99 1657.03 1445.99 M1664.58 1434.09 L1664.58 1437.55 Q1663.15 1436.87 1661.68 1436.51 Q1660.23 1436.16 1658.8 1436.16 Q1655.04 1436.16 1653.05 1438.69 Q1651.07 1441.23 1650.79 1446.37 Q1651.9 1444.73 1653.57 1443.87 Q1655.25 1442.98 1657.26 1442.98 Q1661.49 1442.98 1663.94 1445.56 Q1666.4 1448.12 1666.4 1452.54 Q1666.4 1456.86 1663.84 1459.48 Q1661.28 1462.09 1657.03 1462.09 Q1652.16 1462.09 1649.59 1458.37 Q1647.01 1454.62 1647.01 1447.53 Q1647.01 1440.88 1650.17 1436.93 Q1653.33 1432.96 1658.65 1432.96 Q1660.08 1432.96 1661.53 1433.24 Q1663 1433.52 1664.58 1434.09 Z\" fill=\"#000000\" fill-rule=\"evenodd\" fill-opacity=\"1\" /><path clip-path=\"url(#clip730)\" d=\"M1762.06 1469.81 Q1758.91 1469.81 1757.06 1471.97 Q1755.23 1474.12 1755.23 1477.87 Q1755.23 1481.6 1757.06 1483.77 Q1758.91 1485.92 1762.06 1485.92 Q1765.21 1485.92 1767.04 1483.77 Q1768.89 1481.6 1768.89 1477.87 Q1768.89 1474.12 1767.04 1471.97 Q1765.21 1469.81 1762.06 1469.81 M1771.34 1455.16 L1771.34 1459.42 Q1769.58 1458.59 1767.78 1458.15 Q1765.99 1457.71 1764.24 1457.71 Q1759.61 1457.71 1757.15 1460.83 Q1754.72 1463.96 1754.37 1470.28 Q1755.74 1468.26 1757.8 1467.2 Q1759.86 1466.11 1762.34 1466.11 Q1767.55 1466.11 1770.55 1469.28 Q1773.59 1472.43 1773.59 1477.87 Q1773.59 1483.19 1770.44 1486.41 Q1767.29 1489.63 1762.06 1489.63 Q1756.06 1489.63 1752.89 1485.04 Q1749.72 1480.44 1749.72 1471.71 Q1749.72 1463.52 1753.61 1458.66 Q1757.5 1453.77 1764.05 1453.77 Q1765.81 1453.77 1767.59 1454.12 Q1769.4 1454.47 1771.34 1455.16 Z\" fill=\"#000000\" fill-rule=\"evenodd\" fill-opacity=\"1\" /><path clip-path=\"url(#clip730)\" d=\"M1781.64 1483.08 L1786.53 1483.08 L1786.53 1488.96 L1781.64 1488.96 L1781.64 1483.08 Z\" fill=\"#000000\" fill-rule=\"evenodd\" fill-opacity=\"1\" /><path clip-path=\"url(#clip730)\" d=\"M1806.71 1457.48 Q1803.1 1457.48 1801.27 1461.04 Q1799.47 1464.58 1799.47 1471.71 Q1799.47 1478.82 1801.27 1482.38 Q1803.1 1485.92 1806.71 1485.92 Q1810.35 1485.92 1812.15 1482.38 Q1813.98 1478.82 1813.98 1471.71 Q1813.98 1464.58 1812.15 1461.04 Q1810.35 1457.48 1806.71 1457.48 M1806.71 1453.77 Q1812.52 1453.77 1815.58 1458.38 Q1818.66 1462.96 1818.66 1471.71 Q1818.66 1480.44 1815.58 1485.04 Q1812.52 1489.63 1806.71 1489.63 Q1800.9 1489.63 1797.82 1485.04 Q1794.77 1480.44 1794.77 1471.71 Q1794.77 1462.96 1797.82 1458.38 Q1800.9 1453.77 1806.71 1453.77 Z\" fill=\"#000000\" fill-rule=\"evenodd\" fill-opacity=\"1\" /><path clip-path=\"url(#clip730)\" d=\"M1855.04 1463.49 L1844.47 1474.12 L1855.04 1484.7 L1852.29 1487.5 L1841.67 1476.87 L1831.04 1487.5 L1828.31 1484.7 L1838.86 1474.12 L1828.31 1463.49 L1831.04 1460.69 L1841.67 1471.32 L1852.29 1460.69 L1855.04 1463.49 Z\" fill=\"#000000\" fill-rule=\"evenodd\" fill-opacity=\"1\" /><path clip-path=\"url(#clip730)\" d=\"M1867.41 1485.02 L1875.04 1485.02 L1875.04 1458.66 L1866.73 1460.32 L1866.73 1456.06 L1875 1454.4 L1879.67 1454.4 L1879.67 1485.02 L1887.31 1485.02 L1887.31 1488.96 L1867.41 1488.96 L1867.41 1485.02 Z\" fill=\"#000000\" fill-rule=\"evenodd\" fill-opacity=\"1\" /><path clip-path=\"url(#clip730)\" d=\"M1906.76 1457.48 Q1903.15 1457.48 1901.32 1461.04 Q1899.51 1464.58 1899.51 1471.71 Q1899.51 1478.82 1901.32 1482.38 Q1903.15 1485.92 1906.76 1485.92 Q1910.39 1485.92 1912.2 1482.38 Q1914.03 1478.82 1914.03 1471.71 Q1914.03 1464.58 1912.2 1461.04 Q1910.39 1457.48 1906.76 1457.48 M1906.76 1453.77 Q1912.57 1453.77 1915.62 1458.38 Q1918.7 1462.96 1918.7 1471.71 Q1918.7 1480.44 1915.62 1485.04 Q1912.57 1489.63 1906.76 1489.63 Q1900.95 1489.63 1897.87 1485.04 Q1894.81 1480.44 1894.81 1471.71 Q1894.81 1462.96 1897.87 1458.38 Q1900.95 1453.77 1906.76 1453.77 Z\" fill=\"#000000\" fill-rule=\"evenodd\" fill-opacity=\"1\" /><path clip-path=\"url(#clip730)\" d=\"M1928.73 1445.99 Q1926.17 1445.99 1924.66 1447.74 Q1923.18 1449.49 1923.18 1452.54 Q1923.18 1455.57 1924.66 1457.33 Q1926.17 1459.08 1928.73 1459.08 Q1931.28 1459.08 1932.77 1457.33 Q1934.27 1455.57 1934.27 1452.54 Q1934.27 1449.49 1932.77 1447.74 Q1931.28 1445.99 1928.73 1445.99 M1936.27 1434.09 L1936.27 1437.55 Q1934.84 1436.87 1933.37 1436.51 Q1931.92 1436.16 1930.49 1436.16 Q1926.73 1436.16 1924.74 1438.69 Q1922.76 1441.23 1922.48 1446.37 Q1923.59 1444.73 1925.27 1443.87 Q1926.94 1442.98 1928.95 1442.98 Q1933.18 1442.98 1935.63 1445.56 Q1938.09 1448.12 1938.09 1452.54 Q1938.09 1456.86 1935.53 1459.48 Q1932.98 1462.09 1928.73 1462.09 Q1923.86 1462.09 1921.28 1458.37 Q1918.7 1454.62 1918.7 1447.53 Q1918.7 1440.88 1921.86 1436.93 Q1925.02 1432.96 1930.34 1432.96 Q1931.77 1432.96 1933.22 1433.24 Q1934.69 1433.52 1936.27 1434.09 Z\" fill=\"#000000\" fill-rule=\"evenodd\" fill-opacity=\"1\" /><path clip-path=\"url(#clip730)\" d=\"M2021.53 1454.4 L2043.75 1454.4 L2043.75 1456.39 L2031.21 1488.96 L2026.32 1488.96 L2038.13 1458.33 L2021.53 1458.33 L2021.53 1454.4 Z\" fill=\"#000000\" fill-rule=\"evenodd\" fill-opacity=\"1\" /><path clip-path=\"url(#clip730)\" d=\"M2052.87 1483.08 L2057.76 1483.08 L2057.76 1488.96 L2052.87 1488.96 L2052.87 1483.08 Z\" fill=\"#000000\" fill-rule=\"evenodd\" fill-opacity=\"1\" /><path clip-path=\"url(#clip730)\" d=\"M2077.94 1457.48 Q2074.33 1457.48 2072.5 1461.04 Q2070.7 1464.58 2070.7 1471.71 Q2070.7 1478.82 2072.5 1482.38 Q2074.33 1485.92 2077.94 1485.92 Q2081.58 1485.92 2083.38 1482.38 Q2085.21 1478.82 2085.21 1471.71 Q2085.21 1464.58 2083.38 1461.04 Q2081.58 1457.48 2077.94 1457.48 M2077.94 1453.77 Q2083.75 1453.77 2086.81 1458.38 Q2089.89 1462.96 2089.89 1471.71 Q2089.89 1480.44 2086.81 1485.04 Q2083.75 1489.63 2077.94 1489.63 Q2072.13 1489.63 2069.05 1485.04 Q2066 1480.44 2066 1471.71 Q2066 1462.96 2069.05 1458.38 Q2072.13 1453.77 2077.94 1453.77 Z\" fill=\"#000000\" fill-rule=\"evenodd\" fill-opacity=\"1\" /><path clip-path=\"url(#clip730)\" d=\"M2126.28 1463.49 L2115.7 1474.12 L2126.28 1484.7 L2123.52 1487.5 L2112.9 1476.87 L2102.27 1487.5 L2099.54 1484.7 L2110.09 1474.12 L2099.54 1463.49 L2102.27 1460.69 L2112.9 1471.32 L2123.52 1460.69 L2126.28 1463.49 Z\" fill=\"#000000\" fill-rule=\"evenodd\" fill-opacity=\"1\" /><path clip-path=\"url(#clip730)\" d=\"M2138.64 1485.02 L2146.28 1485.02 L2146.28 1458.66 L2137.96 1460.32 L2137.96 1456.06 L2146.23 1454.4 L2150.9 1454.4 L2150.9 1485.02 L2158.54 1485.02 L2158.54 1488.96 L2138.64 1488.96 L2138.64 1485.02 Z\" fill=\"#000000\" fill-rule=\"evenodd\" fill-opacity=\"1\" /><path clip-path=\"url(#clip730)\" d=\"M2177.99 1457.48 Q2174.38 1457.48 2172.55 1461.04 Q2170.74 1464.58 2170.74 1471.71 Q2170.74 1478.82 2172.55 1482.38 Q2174.38 1485.92 2177.99 1485.92 Q2181.62 1485.92 2183.43 1482.38 Q2185.26 1478.82 2185.26 1471.71 Q2185.26 1464.58 2183.43 1461.04 Q2181.62 1457.48 2177.99 1457.48 M2177.99 1453.77 Q2183.8 1453.77 2186.85 1458.38 Q2189.93 1462.96 2189.93 1471.71 Q2189.93 1480.44 2186.85 1485.04 Q2183.8 1489.63 2177.99 1489.63 Q2172.18 1489.63 2169.1 1485.04 Q2166.04 1480.44 2166.04 1471.71 Q2166.04 1462.96 2169.1 1458.38 Q2172.18 1453.77 2177.99 1453.77 Z\" fill=\"#000000\" fill-rule=\"evenodd\" fill-opacity=\"1\" /><path clip-path=\"url(#clip730)\" d=\"M2199.96 1445.99 Q2197.4 1445.99 2195.89 1447.74 Q2194.41 1449.49 2194.41 1452.54 Q2194.41 1455.57 2195.89 1457.33 Q2197.4 1459.08 2199.96 1459.08 Q2202.51 1459.08 2204 1457.33 Q2205.51 1455.57 2205.51 1452.54 Q2205.51 1449.49 2204 1447.74 Q2202.51 1445.99 2199.96 1445.99 M2207.5 1434.09 L2207.5 1437.55 Q2206.07 1436.87 2204.6 1436.51 Q2203.15 1436.16 2201.72 1436.16 Q2197.96 1436.16 2195.97 1438.69 Q2193.99 1441.23 2193.71 1446.37 Q2194.82 1444.73 2196.5 1443.87 Q2198.17 1442.98 2200.18 1442.98 Q2204.41 1442.98 2206.86 1445.56 Q2209.32 1448.12 2209.32 1452.54 Q2209.32 1456.86 2206.77 1459.48 Q2204.21 1462.09 2199.96 1462.09 Q2195.09 1462.09 2192.51 1458.37 Q2189.93 1454.62 2189.93 1447.53 Q2189.93 1440.88 2193.09 1436.93 Q2196.25 1432.96 2201.57 1432.96 Q2203 1432.96 2204.45 1433.24 Q2205.92 1433.52 2207.5 1434.09 Z\" fill=\"#000000\" fill-rule=\"evenodd\" fill-opacity=\"1\" /><path clip-path=\"url(#clip730)\" d=\"M1109.01 1526.67 L1139.06 1526.67 L1139.06 1532.08 L1115.44 1532.08 L1115.44 1546.14 L1138.07 1546.14 L1138.07 1551.56 L1115.44 1551.56 L1115.44 1568.77 L1139.63 1568.77 L1139.63 1574.19 L1109.01 1574.19 L1109.01 1526.67 Z\" fill=\"#000000\" fill-rule=\"evenodd\" fill-opacity=\"1\" /><path clip-path=\"url(#clip730)\" d=\"M1175.6 1539.91 L1175.6 1545.38 Q1173.12 1544.01 1170.6 1543.34 Q1168.12 1542.64 1165.57 1542.64 Q1159.88 1542.64 1156.73 1546.27 Q1153.57 1549.87 1153.57 1556.39 Q1153.57 1562.92 1156.73 1566.55 Q1159.88 1570.14 1165.57 1570.14 Q1168.12 1570.14 1170.6 1569.47 Q1173.12 1568.77 1175.6 1567.41 L1175.6 1572.82 Q1173.15 1573.96 1170.51 1574.54 Q1167.9 1575.11 1164.94 1575.11 Q1156.88 1575.11 1152.14 1570.05 Q1147.4 1564.99 1147.4 1556.39 Q1147.4 1547.67 1152.17 1542.68 Q1156.98 1537.68 1165.32 1537.68 Q1168.02 1537.68 1170.6 1538.25 Q1173.18 1538.79 1175.6 1539.91 Z\" fill=\"#000000\" fill-rule=\"evenodd\" fill-opacity=\"1\" /><path clip-path=\"url(#clip730)\" d=\"M1199.6 1542.64 Q1194.89 1542.64 1192.15 1546.34 Q1189.41 1550 1189.41 1556.39 Q1189.41 1562.79 1192.12 1566.48 Q1194.86 1570.14 1199.6 1570.14 Q1204.28 1570.14 1207.01 1566.45 Q1209.75 1562.76 1209.75 1556.39 Q1209.75 1550.06 1207.01 1546.37 Q1204.28 1542.64 1199.6 1542.64 M1199.6 1537.68 Q1207.24 1537.68 1211.6 1542.64 Q1215.96 1547.61 1215.96 1556.39 Q1215.96 1565.15 1211.6 1570.14 Q1207.24 1575.11 1199.6 1575.11 Q1191.93 1575.11 1187.57 1570.14 Q1183.24 1565.15 1183.24 1556.39 Q1183.24 1547.61 1187.57 1542.64 Q1191.93 1537.68 1199.6 1537.68 Z\" fill=\"#000000\" fill-rule=\"evenodd\" fill-opacity=\"1\" /><path clip-path=\"url(#clip730)\" d=\"M1225.67 1524.66 L1231.52 1524.66 L1231.52 1574.19 L1225.67 1574.19 L1225.67 1524.66 Z\" fill=\"#000000\" fill-rule=\"evenodd\" fill-opacity=\"1\" /><path clip-path=\"url(#clip730)\" d=\"M1257.59 1542.64 Q1252.88 1542.64 1250.14 1546.34 Q1247.41 1550 1247.41 1556.39 Q1247.41 1562.79 1250.11 1566.48 Q1252.85 1570.14 1257.59 1570.14 Q1262.27 1570.14 1265.01 1566.45 Q1267.74 1562.76 1267.74 1556.39 Q1267.74 1550.06 1265.01 1546.37 Q1262.27 1542.64 1257.59 1542.64 M1257.59 1537.68 Q1265.23 1537.68 1269.59 1542.64 Q1273.95 1547.61 1273.95 1556.39 Q1273.95 1565.15 1269.59 1570.14 Q1265.23 1575.11 1257.59 1575.11 Q1249.92 1575.11 1245.56 1570.14 Q1241.23 1565.15 1241.23 1556.39 Q1241.23 1547.61 1245.56 1542.64 Q1249.92 1537.68 1257.59 1537.68 Z\" fill=\"#000000\" fill-rule=\"evenodd\" fill-opacity=\"1\" /><path clip-path=\"url(#clip730)\" d=\"M1307.12 1555.95 Q1307.12 1549.58 1304.47 1546.08 Q1301.86 1542.58 1297.12 1542.58 Q1292.41 1542.58 1289.77 1546.08 Q1287.16 1549.58 1287.16 1555.95 Q1287.16 1562.28 1289.77 1565.78 Q1292.41 1569.28 1297.12 1569.28 Q1301.86 1569.28 1304.47 1565.78 Q1307.12 1562.28 1307.12 1555.95 M1312.97 1569.76 Q1312.97 1578.86 1308.93 1583.29 Q1304.89 1587.74 1296.55 1587.74 Q1293.46 1587.74 1290.72 1587.27 Q1287.99 1586.82 1285.41 1585.87 L1285.41 1580.17 Q1287.99 1581.57 1290.5 1582.24 Q1293.02 1582.91 1295.63 1582.91 Q1301.39 1582.91 1304.25 1579.88 Q1307.12 1576.89 1307.12 1570.81 L1307.12 1567.92 Q1305.3 1571.07 1302.47 1572.63 Q1299.64 1574.19 1295.69 1574.19 Q1289.13 1574.19 1285.12 1569.19 Q1281.11 1564.19 1281.11 1555.95 Q1281.11 1547.67 1285.12 1542.68 Q1289.13 1537.68 1295.69 1537.68 Q1299.64 1537.68 1302.47 1539.24 Q1305.3 1540.8 1307.12 1543.95 L1307.12 1538.54 L1312.97 1538.54 L1312.97 1569.76 Z\" fill=\"#000000\" fill-rule=\"evenodd\" fill-opacity=\"1\" /><path clip-path=\"url(#clip730)\" d=\"M1325.03 1538.54 L1330.89 1538.54 L1330.89 1574.19 L1325.03 1574.19 L1325.03 1538.54 M1325.03 1524.66 L1330.89 1524.66 L1330.89 1532.08 L1325.03 1532.08 L1325.03 1524.66 Z\" fill=\"#000000\" fill-rule=\"evenodd\" fill-opacity=\"1\" /><path clip-path=\"url(#clip730)\" d=\"M1368.8 1539.91 L1368.8 1545.38 Q1366.32 1544.01 1363.8 1543.34 Q1361.32 1542.64 1358.77 1542.64 Q1353.08 1542.64 1349.92 1546.27 Q1346.77 1549.87 1346.77 1556.39 Q1346.77 1562.92 1349.92 1566.55 Q1353.08 1570.14 1358.77 1570.14 Q1361.32 1570.14 1363.8 1569.47 Q1366.32 1568.77 1368.8 1567.41 L1368.8 1572.82 Q1366.35 1573.96 1363.71 1574.54 Q1361.1 1575.11 1358.14 1575.11 Q1350.08 1575.11 1345.34 1570.05 Q1340.6 1564.99 1340.6 1556.39 Q1340.6 1547.67 1345.37 1542.68 Q1350.18 1537.68 1358.52 1537.68 Q1361.22 1537.68 1363.8 1538.25 Q1366.38 1538.79 1368.8 1539.91 Z\" fill=\"#000000\" fill-rule=\"evenodd\" fill-opacity=\"1\" /><path clip-path=\"url(#clip730)\" d=\"M1395.18 1556.27 Q1388.09 1556.27 1385.35 1557.89 Q1382.61 1559.51 1382.61 1563.43 Q1382.61 1566.55 1384.65 1568.39 Q1386.72 1570.21 1390.25 1570.21 Q1395.12 1570.21 1398.05 1566.77 Q1401.01 1563.3 1401.01 1557.57 L1401.01 1556.27 L1395.18 1556.27 M1406.87 1553.85 L1406.87 1574.19 L1401.01 1574.19 L1401.01 1568.77 Q1399 1572.02 1396.01 1573.58 Q1393.02 1575.11 1388.69 1575.11 Q1383.22 1575.11 1379.97 1572.05 Q1376.76 1568.97 1376.76 1563.81 Q1376.76 1557.79 1380.77 1554.74 Q1384.81 1551.68 1392.8 1551.68 L1401.01 1551.68 L1401.01 1551.11 Q1401.01 1547.07 1398.34 1544.87 Q1395.69 1542.64 1390.89 1542.64 Q1387.83 1542.64 1384.94 1543.38 Q1382.04 1544.11 1379.37 1545.57 L1379.37 1540.16 Q1382.58 1538.92 1385.6 1538.31 Q1388.63 1537.68 1391.49 1537.68 Q1399.23 1537.68 1403.05 1541.69 Q1406.87 1545.7 1406.87 1553.85 Z\" fill=\"#000000\" fill-rule=\"evenodd\" fill-opacity=\"1\" /><path clip-path=\"url(#clip730)\" d=\"M1418.93 1524.66 L1424.79 1524.66 L1424.79 1574.19 L1418.93 1574.19 L1418.93 1524.66 Z\" fill=\"#000000\" fill-rule=\"evenodd\" fill-opacity=\"1\" /><path clip-path=\"url(#clip730)\" d=\"M1437.04 1524.66 L1442.9 1524.66 L1442.9 1574.19 L1437.04 1574.19 L1437.04 1524.66 Z\" fill=\"#000000\" fill-rule=\"evenodd\" fill-opacity=\"1\" /><path clip-path=\"url(#clip730)\" d=\"M1469.98 1577.5 Q1467.5 1583.86 1465.14 1585.8 Q1462.79 1587.74 1458.84 1587.74 L1454.16 1587.74 L1454.16 1582.84 L1457.6 1582.84 Q1460.02 1582.84 1461.36 1581.7 Q1462.69 1580.55 1464.32 1576.29 L1465.37 1573.61 L1450.95 1538.54 L1457.16 1538.54 L1468.3 1566.42 L1479.44 1538.54 L1485.64 1538.54 L1469.98 1577.5 Z\" fill=\"#000000\" fill-rule=\"evenodd\" fill-opacity=\"1\" /><path clip-path=\"url(#clip730)\" d=\"M1543.19 1528.23 L1543.19 1534.5 Q1539.53 1532.74 1536.28 1531.89 Q1533.03 1531.03 1530.01 1531.03 Q1524.76 1531.03 1521.89 1533.06 Q1519.06 1535.1 1519.06 1538.86 Q1519.06 1542.01 1520.94 1543.63 Q1522.85 1545.22 1528.13 1546.21 L1532.02 1547 Q1539.21 1548.37 1542.61 1551.84 Q1546.05 1555.28 1546.05 1561.07 Q1546.05 1567.98 1541.41 1571.54 Q1536.79 1575.11 1527.85 1575.11 Q1524.47 1575.11 1520.65 1574.34 Q1516.87 1573.58 1512.79 1572.08 L1512.79 1565.46 Q1516.71 1567.66 1520.46 1568.77 Q1524.22 1569.89 1527.85 1569.89 Q1533.35 1569.89 1536.34 1567.72 Q1539.34 1565.56 1539.34 1561.55 Q1539.34 1558.05 1537.17 1556.08 Q1535.04 1554.1 1530.14 1553.11 L1526.22 1552.35 Q1519.03 1550.92 1515.82 1547.86 Q1512.6 1544.81 1512.6 1539.37 Q1512.6 1533.06 1517.02 1529.43 Q1521.48 1525.81 1529.28 1525.81 Q1532.62 1525.81 1536.09 1526.41 Q1539.56 1527.02 1543.19 1528.23 Z\" fill=\"#000000\" fill-rule=\"evenodd\" fill-opacity=\"1\" /><path clip-path=\"url(#clip730)\" d=\"M1572.02 1556.27 Q1564.93 1556.27 1562.19 1557.89 Q1559.45 1559.51 1559.45 1563.43 Q1559.45 1566.55 1561.49 1568.39 Q1563.56 1570.21 1567.09 1570.21 Q1571.96 1570.21 1574.89 1566.77 Q1577.85 1563.3 1577.85 1557.57 L1577.85 1556.27 L1572.02 1556.27 M1583.71 1553.85 L1583.71 1574.19 L1577.85 1574.19 L1577.85 1568.77 Q1575.84 1572.02 1572.85 1573.58 Q1569.86 1575.11 1565.53 1575.11 Q1560.06 1575.11 1556.81 1572.05 Q1553.6 1568.97 1553.6 1563.81 Q1553.6 1557.79 1557.61 1554.74 Q1561.65 1551.68 1569.64 1551.68 L1577.85 1551.68 L1577.85 1551.11 Q1577.85 1547.07 1575.18 1544.87 Q1572.53 1542.64 1567.73 1542.64 Q1564.67 1542.64 1561.78 1543.38 Q1558.88 1544.11 1556.21 1545.57 L1556.21 1540.16 Q1559.42 1538.92 1562.44 1538.31 Q1565.47 1537.68 1568.33 1537.68 Q1576.07 1537.68 1579.89 1541.69 Q1583.71 1545.7 1583.71 1553.85 Z\" fill=\"#000000\" fill-rule=\"evenodd\" fill-opacity=\"1\" /><path clip-path=\"url(#clip730)\" d=\"M1613.82 1524.66 L1613.82 1529.53 L1608.21 1529.53 Q1605.06 1529.53 1603.82 1530.8 Q1602.61 1532.08 1602.61 1535.39 L1602.61 1538.54 L1612.26 1538.54 L1612.26 1543.09 L1602.61 1543.09 L1602.61 1574.19 L1596.72 1574.19 L1596.72 1543.09 L1591.12 1543.09 L1591.12 1538.54 L1596.72 1538.54 L1596.72 1536.05 Q1596.72 1530.1 1599.49 1527.4 Q1602.26 1524.66 1608.28 1524.66 L1613.82 1524.66 Z\" fill=\"#000000\" fill-rule=\"evenodd\" fill-opacity=\"1\" /><path clip-path=\"url(#clip730)\" d=\"M1649.21 1554.9 L1649.21 1557.76 L1622.28 1557.76 Q1622.66 1563.81 1625.91 1566.99 Q1629.19 1570.14 1635.01 1570.14 Q1638.39 1570.14 1641.54 1569.32 Q1644.72 1568.49 1647.84 1566.83 L1647.84 1572.37 Q1644.69 1573.71 1641.38 1574.41 Q1638.07 1575.11 1634.66 1575.11 Q1626.13 1575.11 1621.14 1570.14 Q1616.17 1565.18 1616.17 1556.71 Q1616.17 1547.96 1620.88 1542.83 Q1625.62 1537.68 1633.64 1537.68 Q1640.84 1537.68 1645.01 1542.33 Q1649.21 1546.94 1649.21 1554.9 M1643.35 1553.18 Q1643.29 1548.37 1640.65 1545.51 Q1638.04 1542.64 1633.71 1542.64 Q1628.81 1542.64 1625.85 1545.41 Q1622.92 1548.18 1622.47 1553.21 L1643.35 1553.18 Z\" fill=\"#000000\" fill-rule=\"evenodd\" fill-opacity=\"1\" /><polyline clip-path=\"url(#clip732)\" style=\"stroke:#000000; stroke-linecap:round; stroke-linejoin:round; stroke-width:2; stroke-opacity:0.1; fill:none\" points=\"\n",
       "  405.467,1322.54 2352.76,1322.54 \n",
       "  \"/>\n",
       "<polyline clip-path=\"url(#clip732)\" style=\"stroke:#000000; stroke-linecap:round; stroke-linejoin:round; stroke-width:2; stroke-opacity:0.1; fill:none\" points=\"\n",
       "  405.467,1019.01 2352.76,1019.01 \n",
       "  \"/>\n",
       "<polyline clip-path=\"url(#clip732)\" style=\"stroke:#000000; stroke-linecap:round; stroke-linejoin:round; stroke-width:2; stroke-opacity:0.1; fill:none\" points=\"\n",
       "  405.467,715.481 2352.76,715.481 \n",
       "  \"/>\n",
       "<polyline clip-path=\"url(#clip732)\" style=\"stroke:#000000; stroke-linecap:round; stroke-linejoin:round; stroke-width:2; stroke-opacity:0.1; fill:none\" points=\"\n",
       "  405.467,411.954 2352.76,411.954 \n",
       "  \"/>\n",
       "<polyline clip-path=\"url(#clip730)\" style=\"stroke:#000000; stroke-linecap:round; stroke-linejoin:round; stroke-width:4; stroke-opacity:1; fill:none\" points=\"\n",
       "  405.467,1410.9 405.467,123.472 \n",
       "  \"/>\n",
       "<polyline clip-path=\"url(#clip730)\" style=\"stroke:#000000; stroke-linecap:round; stroke-linejoin:round; stroke-width:4; stroke-opacity:1; fill:none\" points=\"\n",
       "  405.467,1322.54 424.365,1322.54 \n",
       "  \"/>\n",
       "<polyline clip-path=\"url(#clip730)\" style=\"stroke:#000000; stroke-linecap:round; stroke-linejoin:round; stroke-width:4; stroke-opacity:1; fill:none\" points=\"\n",
       "  405.467,1019.01 424.365,1019.01 \n",
       "  \"/>\n",
       "<polyline clip-path=\"url(#clip730)\" style=\"stroke:#000000; stroke-linecap:round; stroke-linejoin:round; stroke-width:4; stroke-opacity:1; fill:none\" points=\"\n",
       "  405.467,715.481 424.365,715.481 \n",
       "  \"/>\n",
       "<polyline clip-path=\"url(#clip730)\" style=\"stroke:#000000; stroke-linecap:round; stroke-linejoin:round; stroke-width:4; stroke-opacity:1; fill:none\" points=\"\n",
       "  405.467,411.954 424.365,411.954 \n",
       "  \"/>\n",
       "<path clip-path=\"url(#clip730)\" d=\"M114.26 1329.44 L143.936 1329.44 L143.936 1333.37 L114.26 1333.37 L114.26 1329.44 Z\" fill=\"#000000\" fill-rule=\"evenodd\" fill-opacity=\"1\" /><path clip-path=\"url(#clip730)\" d=\"M154.839 1342.33 L162.477 1342.33 L162.477 1315.96 L154.167 1317.63 L154.167 1313.37 L162.431 1311.7 L167.107 1311.7 L167.107 1342.33 L174.746 1342.33 L174.746 1346.26 L154.839 1346.26 L154.839 1342.33 Z\" fill=\"#000000\" fill-rule=\"evenodd\" fill-opacity=\"1\" /><path clip-path=\"url(#clip730)\" d=\"M184.19 1340.38 L189.075 1340.38 L189.075 1346.26 L184.19 1346.26 L184.19 1340.38 Z\" fill=\"#000000\" fill-rule=\"evenodd\" fill-opacity=\"1\" /><path clip-path=\"url(#clip730)\" d=\"M213.426 1327.63 Q216.783 1328.35 218.658 1330.62 Q220.556 1332.89 220.556 1336.22 Q220.556 1341.33 217.037 1344.13 Q213.519 1346.94 207.037 1346.94 Q204.862 1346.94 202.547 1346.5 Q200.255 1346.08 197.801 1345.22 L197.801 1340.71 Q199.746 1341.84 202.061 1342.42 Q204.375 1343 206.899 1343 Q211.297 1343 213.588 1341.26 Q215.903 1339.53 215.903 1336.22 Q215.903 1333.16 213.75 1331.45 Q211.621 1329.71 207.801 1329.71 L203.774 1329.71 L203.774 1325.87 L207.987 1325.87 Q211.436 1325.87 213.264 1324.51 Q215.093 1323.12 215.093 1320.52 Q215.093 1317.86 213.195 1316.45 Q211.32 1315.01 207.801 1315.01 Q205.88 1315.01 203.681 1315.43 Q201.482 1315.85 198.843 1316.73 L198.843 1312.56 Q201.505 1311.82 203.82 1311.45 Q206.158 1311.08 208.218 1311.08 Q213.542 1311.08 216.644 1313.51 Q219.746 1315.92 219.746 1320.04 Q219.746 1322.91 218.102 1324.9 Q216.459 1326.87 213.426 1327.63 Z\" fill=\"#000000\" fill-rule=\"evenodd\" fill-opacity=\"1\" /><path clip-path=\"url(#clip730)\" d=\"M239.422 1314.78 Q235.81 1314.78 233.982 1318.35 Q232.176 1321.89 232.176 1329.02 Q232.176 1336.13 233.982 1339.69 Q235.81 1343.23 239.422 1343.23 Q243.056 1343.23 244.861 1339.69 Q246.69 1336.13 246.69 1329.02 Q246.69 1321.89 244.861 1318.35 Q243.056 1314.78 239.422 1314.78 M239.422 1311.08 Q245.232 1311.08 248.287 1315.69 Q251.366 1320.27 251.366 1329.02 Q251.366 1337.75 248.287 1342.35 Q245.232 1346.94 239.422 1346.94 Q233.611 1346.94 230.533 1342.35 Q227.477 1337.75 227.477 1329.02 Q227.477 1320.27 230.533 1315.69 Q233.611 1311.08 239.422 1311.08 Z\" fill=\"#000000\" fill-rule=\"evenodd\" fill-opacity=\"1\" /><path clip-path=\"url(#clip730)\" d=\"M287.755 1320.8 L277.176 1331.43 L287.755 1342.01 L285 1344.81 L274.375 1334.18 L263.75 1344.81 L261.019 1342.01 L271.574 1331.43 L261.019 1320.8 L263.75 1318 L274.375 1328.63 L285 1318 L287.755 1320.8 Z\" fill=\"#000000\" fill-rule=\"evenodd\" fill-opacity=\"1\" /><path clip-path=\"url(#clip730)\" d=\"M300.116 1342.33 L307.754 1342.33 L307.754 1315.96 L299.444 1317.63 L299.444 1313.37 L307.708 1311.7 L312.384 1311.7 L312.384 1342.33 L320.023 1342.33 L320.023 1346.26 L300.116 1346.26 L300.116 1342.33 Z\" fill=\"#000000\" fill-rule=\"evenodd\" fill-opacity=\"1\" /><path clip-path=\"url(#clip730)\" d=\"M339.467 1314.78 Q335.856 1314.78 334.027 1318.35 Q332.222 1321.89 332.222 1329.02 Q332.222 1336.13 334.027 1339.69 Q335.856 1343.23 339.467 1343.23 Q343.102 1343.23 344.907 1339.69 Q346.736 1336.13 346.736 1329.02 Q346.736 1321.89 344.907 1318.35 Q343.102 1314.78 339.467 1314.78 M339.467 1311.08 Q345.277 1311.08 348.333 1315.69 Q351.412 1320.27 351.412 1329.02 Q351.412 1337.75 348.333 1342.35 Q345.277 1346.94 339.467 1346.94 Q333.657 1346.94 330.578 1342.35 Q327.523 1337.75 327.523 1329.02 Q327.523 1320.27 330.578 1315.69 Q333.657 1311.08 339.467 1311.08 Z\" fill=\"#000000\" fill-rule=\"evenodd\" fill-opacity=\"1\" /><path clip-path=\"url(#clip730)\" d=\"M351.412 1290.77 L369.467 1290.77 L369.467 1292.39 L359.273 1318.85 L355.305 1318.85 L364.897 1293.97 L351.412 1293.97 L351.412 1290.77 Z\" fill=\"#000000\" fill-rule=\"evenodd\" fill-opacity=\"1\" /><path clip-path=\"url(#clip730)\" d=\"M114.26 1025.91 L143.936 1025.91 L143.936 1029.84 L114.26 1029.84 L114.26 1025.91 Z\" fill=\"#000000\" fill-rule=\"evenodd\" fill-opacity=\"1\" /><path clip-path=\"url(#clip730)\" d=\"M154.839 1038.8 L162.477 1038.8 L162.477 1012.44 L154.167 1014.1 L154.167 1009.84 L162.431 1008.18 L167.107 1008.18 L167.107 1038.8 L174.746 1038.8 L174.746 1042.74 L154.839 1042.74 L154.839 1038.8 Z\" fill=\"#000000\" fill-rule=\"evenodd\" fill-opacity=\"1\" /><path clip-path=\"url(#clip730)\" d=\"M184.19 1036.86 L189.075 1036.86 L189.075 1042.74 L184.19 1042.74 L184.19 1036.86 Z\" fill=\"#000000\" fill-rule=\"evenodd\" fill-opacity=\"1\" /><path clip-path=\"url(#clip730)\" d=\"M203.287 1038.8 L219.607 1038.8 L219.607 1042.74 L197.662 1042.74 L197.662 1038.8 Q200.325 1036.05 204.908 1031.42 Q209.514 1026.76 210.695 1025.42 Q212.94 1022.9 213.82 1021.16 Q214.723 1019.4 214.723 1017.71 Q214.723 1014.96 212.778 1013.22 Q210.857 1011.49 207.755 1011.49 Q205.556 1011.49 203.102 1012.25 Q200.672 1013.01 197.894 1014.57 L197.894 1009.84 Q200.718 1008.71 203.172 1008.13 Q205.625 1007.55 207.662 1007.55 Q213.033 1007.55 216.227 1010.24 Q219.422 1012.92 219.422 1017.41 Q219.422 1019.54 218.611 1021.46 Q217.824 1023.36 215.718 1025.95 Q215.139 1026.63 212.037 1029.84 Q208.936 1033.04 203.287 1038.8 Z\" fill=\"#000000\" fill-rule=\"evenodd\" fill-opacity=\"1\" /><path clip-path=\"url(#clip730)\" d=\"M239.422 1011.26 Q235.81 1011.26 233.982 1014.82 Q232.176 1018.36 232.176 1025.49 Q232.176 1032.6 233.982 1036.16 Q235.81 1039.7 239.422 1039.7 Q243.056 1039.7 244.861 1036.16 Q246.69 1032.6 246.69 1025.49 Q246.69 1018.36 244.861 1014.82 Q243.056 1011.26 239.422 1011.26 M239.422 1007.55 Q245.232 1007.55 248.287 1012.16 Q251.366 1016.74 251.366 1025.49 Q251.366 1034.22 248.287 1038.82 Q245.232 1043.41 239.422 1043.41 Q233.611 1043.41 230.533 1038.82 Q227.477 1034.22 227.477 1025.49 Q227.477 1016.74 230.533 1012.16 Q233.611 1007.55 239.422 1007.55 Z\" fill=\"#000000\" fill-rule=\"evenodd\" fill-opacity=\"1\" /><path clip-path=\"url(#clip730)\" d=\"M287.755 1017.27 L277.176 1027.9 L287.755 1038.48 L285 1041.28 L274.375 1030.65 L263.75 1041.28 L261.019 1038.48 L271.574 1027.9 L261.019 1017.27 L263.75 1014.47 L274.375 1025.1 L285 1014.47 L287.755 1017.27 Z\" fill=\"#000000\" fill-rule=\"evenodd\" fill-opacity=\"1\" /><path clip-path=\"url(#clip730)\" d=\"M300.116 1038.8 L307.754 1038.8 L307.754 1012.44 L299.444 1014.1 L299.444 1009.84 L307.708 1008.18 L312.384 1008.18 L312.384 1038.8 L320.023 1038.8 L320.023 1042.74 L300.116 1042.74 L300.116 1038.8 Z\" fill=\"#000000\" fill-rule=\"evenodd\" fill-opacity=\"1\" /><path clip-path=\"url(#clip730)\" d=\"M339.467 1011.26 Q335.856 1011.26 334.027 1014.82 Q332.222 1018.36 332.222 1025.49 Q332.222 1032.6 334.027 1036.16 Q335.856 1039.7 339.467 1039.7 Q343.102 1039.7 344.907 1036.16 Q346.736 1032.6 346.736 1025.49 Q346.736 1018.36 344.907 1014.82 Q343.102 1011.26 339.467 1011.26 M339.467 1007.55 Q345.277 1007.55 348.333 1012.16 Q351.412 1016.74 351.412 1025.49 Q351.412 1034.22 348.333 1038.82 Q345.277 1043.41 339.467 1043.41 Q333.657 1043.41 330.578 1038.82 Q327.523 1034.22 327.523 1025.49 Q327.523 1016.74 330.578 1012.16 Q333.657 1007.55 339.467 1007.55 Z\" fill=\"#000000\" fill-rule=\"evenodd\" fill-opacity=\"1\" /><path clip-path=\"url(#clip730)\" d=\"M351.412 987.246 L369.467 987.246 L369.467 988.864 L359.273 1015.33 L355.305 1015.33 L364.897 990.444 L351.412 990.444 L351.412 987.246 Z\" fill=\"#000000\" fill-rule=\"evenodd\" fill-opacity=\"1\" /><path clip-path=\"url(#clip730)\" d=\"M114.26 722.38 L143.936 722.38 L143.936 726.316 L114.26 726.316 L114.26 722.38 Z\" fill=\"#000000\" fill-rule=\"evenodd\" fill-opacity=\"1\" /><path clip-path=\"url(#clip730)\" d=\"M154.839 735.274 L162.477 735.274 L162.477 708.908 L154.167 710.575 L154.167 706.316 L162.431 704.649 L167.107 704.649 L167.107 735.274 L174.746 735.274 L174.746 739.209 L154.839 739.209 L154.839 735.274 Z\" fill=\"#000000\" fill-rule=\"evenodd\" fill-opacity=\"1\" /><path clip-path=\"url(#clip730)\" d=\"M184.19 733.329 L189.075 733.329 L189.075 739.209 L184.19 739.209 L184.19 733.329 Z\" fill=\"#000000\" fill-rule=\"evenodd\" fill-opacity=\"1\" /><path clip-path=\"url(#clip730)\" d=\"M200.07 735.274 L207.709 735.274 L207.709 708.908 L199.399 710.575 L199.399 706.316 L207.662 704.649 L212.338 704.649 L212.338 735.274 L219.977 735.274 L219.977 739.209 L200.07 739.209 L200.07 735.274 Z\" fill=\"#000000\" fill-rule=\"evenodd\" fill-opacity=\"1\" /><path clip-path=\"url(#clip730)\" d=\"M239.422 707.728 Q235.81 707.728 233.982 711.292 Q232.176 714.834 232.176 721.964 Q232.176 729.07 233.982 732.635 Q235.81 736.177 239.422 736.177 Q243.056 736.177 244.861 732.635 Q246.69 729.07 246.69 721.964 Q246.69 714.834 244.861 711.292 Q243.056 707.728 239.422 707.728 M239.422 704.024 Q245.232 704.024 248.287 708.63 Q251.366 713.214 251.366 721.964 Q251.366 730.691 248.287 735.297 Q245.232 739.88 239.422 739.88 Q233.611 739.88 230.533 735.297 Q227.477 730.691 227.477 721.964 Q227.477 713.214 230.533 708.63 Q233.611 704.024 239.422 704.024 Z\" fill=\"#000000\" fill-rule=\"evenodd\" fill-opacity=\"1\" /><path clip-path=\"url(#clip730)\" d=\"M287.755 713.746 L277.176 724.371 L287.755 734.95 L285 737.751 L274.375 727.126 L263.75 737.751 L261.019 734.95 L271.574 724.371 L261.019 713.746 L263.75 710.945 L274.375 721.57 L285 710.945 L287.755 713.746 Z\" fill=\"#000000\" fill-rule=\"evenodd\" fill-opacity=\"1\" /><path clip-path=\"url(#clip730)\" d=\"M300.116 735.274 L307.754 735.274 L307.754 708.908 L299.444 710.575 L299.444 706.316 L307.708 704.649 L312.384 704.649 L312.384 735.274 L320.023 735.274 L320.023 739.209 L300.116 739.209 L300.116 735.274 Z\" fill=\"#000000\" fill-rule=\"evenodd\" fill-opacity=\"1\" /><path clip-path=\"url(#clip730)\" d=\"M339.467 707.728 Q335.856 707.728 334.027 711.292 Q332.222 714.834 332.222 721.964 Q332.222 729.07 334.027 732.635 Q335.856 736.177 339.467 736.177 Q343.102 736.177 344.907 732.635 Q346.736 729.07 346.736 721.964 Q346.736 714.834 344.907 711.292 Q343.102 707.728 339.467 707.728 M339.467 704.024 Q345.277 704.024 348.333 708.63 Q351.412 713.214 351.412 721.964 Q351.412 730.691 348.333 735.297 Q345.277 739.88 339.467 739.88 Q333.657 739.88 330.578 735.297 Q327.523 730.691 327.523 721.964 Q327.523 713.214 330.578 708.63 Q333.657 704.024 339.467 704.024 Z\" fill=\"#000000\" fill-rule=\"evenodd\" fill-opacity=\"1\" /><path clip-path=\"url(#clip730)\" d=\"M351.412 683.719 L369.467 683.719 L369.467 685.336 L359.273 711.799 L355.305 711.799 L364.897 686.916 L351.412 686.916 L351.412 683.719 Z\" fill=\"#000000\" fill-rule=\"evenodd\" fill-opacity=\"1\" /><path clip-path=\"url(#clip730)\" d=\"M114.26 418.853 L143.936 418.853 L143.936 422.788 L114.26 422.788 L114.26 418.853 Z\" fill=\"#000000\" fill-rule=\"evenodd\" fill-opacity=\"1\" /><path clip-path=\"url(#clip730)\" d=\"M154.839 431.746 L162.477 431.746 L162.477 405.38 L154.167 407.047 L154.167 402.788 L162.431 401.121 L167.107 401.121 L167.107 431.746 L174.746 431.746 L174.746 435.681 L154.839 435.681 L154.839 431.746 Z\" fill=\"#000000\" fill-rule=\"evenodd\" fill-opacity=\"1\" /><path clip-path=\"url(#clip730)\" d=\"M184.19 429.802 L189.075 429.802 L189.075 435.681 L184.19 435.681 L184.19 429.802 Z\" fill=\"#000000\" fill-rule=\"evenodd\" fill-opacity=\"1\" /><path clip-path=\"url(#clip730)\" d=\"M209.26 404.2 Q205.649 404.2 203.82 407.765 Q202.014 411.306 202.014 418.436 Q202.014 425.542 203.82 429.107 Q205.649 432.649 209.26 432.649 Q212.894 432.649 214.699 429.107 Q216.528 425.542 216.528 418.436 Q216.528 411.306 214.699 407.765 Q212.894 404.2 209.26 404.2 M209.26 400.496 Q215.07 400.496 218.125 405.103 Q221.204 409.686 221.204 418.436 Q221.204 427.163 218.125 431.769 Q215.07 436.353 209.26 436.353 Q203.449 436.353 200.371 431.769 Q197.315 427.163 197.315 418.436 Q197.315 409.686 200.371 405.103 Q203.449 400.496 209.26 400.496 Z\" fill=\"#000000\" fill-rule=\"evenodd\" fill-opacity=\"1\" /><path clip-path=\"url(#clip730)\" d=\"M239.422 404.2 Q235.81 404.2 233.982 407.765 Q232.176 411.306 232.176 418.436 Q232.176 425.542 233.982 429.107 Q235.81 432.649 239.422 432.649 Q243.056 432.649 244.861 429.107 Q246.69 425.542 246.69 418.436 Q246.69 411.306 244.861 407.765 Q243.056 404.2 239.422 404.2 M239.422 400.496 Q245.232 400.496 248.287 405.103 Q251.366 409.686 251.366 418.436 Q251.366 427.163 248.287 431.769 Q245.232 436.353 239.422 436.353 Q233.611 436.353 230.533 431.769 Q227.477 427.163 227.477 418.436 Q227.477 409.686 230.533 405.103 Q233.611 400.496 239.422 400.496 Z\" fill=\"#000000\" fill-rule=\"evenodd\" fill-opacity=\"1\" /><path clip-path=\"url(#clip730)\" d=\"M287.755 410.218 L277.176 420.843 L287.755 431.422 L285 434.223 L274.375 423.598 L263.75 434.223 L261.019 431.422 L271.574 420.843 L261.019 410.218 L263.75 407.417 L274.375 418.042 L285 407.417 L287.755 410.218 Z\" fill=\"#000000\" fill-rule=\"evenodd\" fill-opacity=\"1\" /><path clip-path=\"url(#clip730)\" d=\"M300.116 431.746 L307.754 431.746 L307.754 405.38 L299.444 407.047 L299.444 402.788 L307.708 401.121 L312.384 401.121 L312.384 431.746 L320.023 431.746 L320.023 435.681 L300.116 435.681 L300.116 431.746 Z\" fill=\"#000000\" fill-rule=\"evenodd\" fill-opacity=\"1\" /><path clip-path=\"url(#clip730)\" d=\"M339.467 404.2 Q335.856 404.2 334.027 407.765 Q332.222 411.306 332.222 418.436 Q332.222 425.542 334.027 429.107 Q335.856 432.649 339.467 432.649 Q343.102 432.649 344.907 429.107 Q346.736 425.542 346.736 418.436 Q346.736 411.306 344.907 407.765 Q343.102 404.2 339.467 404.2 M339.467 400.496 Q345.277 400.496 348.333 405.103 Q351.412 409.686 351.412 418.436 Q351.412 427.163 348.333 431.769 Q345.277 436.353 339.467 436.353 Q333.657 436.353 330.578 431.769 Q327.523 427.163 327.523 418.436 Q327.523 409.686 330.578 405.103 Q333.657 400.496 339.467 400.496 Z\" fill=\"#000000\" fill-rule=\"evenodd\" fill-opacity=\"1\" /><path clip-path=\"url(#clip730)\" d=\"M351.412 380.191 L369.467 380.191 L369.467 381.808 L359.273 408.271 L355.305 408.271 L364.897 383.388 L351.412 383.388 L351.412 380.191 Z\" fill=\"#000000\" fill-rule=\"evenodd\" fill-opacity=\"1\" /><path clip-path=\"url(#clip730)\" d=\"M18.0438 929.032 L24.314 929.032 Q22.5634 932.693 21.704 935.939 Q20.8447 939.186 20.8447 942.209 Q20.8447 947.461 22.8817 950.326 Q24.9187 953.159 28.6745 953.159 Q31.8255 953.159 33.4488 951.281 Q35.0402 949.371 36.0269 944.087 L36.8226 940.204 Q38.1912 933.011 41.6605 929.605 Q45.098 926.168 50.8908 926.168 Q57.7976 926.168 61.3624 930.815 Q64.9272 935.43 64.9272 944.374 Q64.9272 947.748 64.1633 951.567 Q63.3994 955.355 61.9035 959.429 L55.2831 959.429 Q57.4793 955.514 58.5933 951.758 Q59.7073 948.002 59.7073 944.374 Q59.7073 938.867 57.543 935.876 Q55.3786 932.884 51.3682 932.884 Q47.8671 932.884 45.8937 935.048 Q43.9204 937.181 42.9337 942.082 L42.1698 945.997 Q40.7375 953.19 37.682 956.405 Q34.6264 959.62 29.1837 959.62 Q22.8817 959.62 19.2532 955.196 Q15.6248 950.74 15.6248 942.942 Q15.6248 939.6 16.2295 936.13 Q16.8343 932.661 18.0438 929.032 Z\" fill=\"#000000\" fill-rule=\"evenodd\" fill-opacity=\"1\" /><path clip-path=\"url(#clip730)\" d=\"M32.4621 902.583 Q32.4621 907.294 36.1542 910.031 Q39.8145 912.768 46.212 912.768 Q52.6095 912.768 56.3017 910.063 Q59.9619 907.325 59.9619 902.583 Q59.9619 897.904 56.2698 895.167 Q52.5777 892.43 46.212 892.43 Q39.8781 892.43 36.186 895.167 Q32.4621 897.904 32.4621 902.583 M27.4968 902.583 Q27.4968 894.944 32.4621 890.584 Q37.4273 886.223 46.212 886.223 Q54.9649 886.223 59.9619 890.584 Q64.9272 894.944 64.9272 902.583 Q64.9272 910.254 59.9619 914.614 Q54.9649 918.943 46.212 918.943 Q37.4273 918.943 32.4621 914.614 Q27.4968 910.254 27.4968 902.583 Z\" fill=\"#000000\" fill-rule=\"evenodd\" fill-opacity=\"1\" /><path clip-path=\"url(#clip730)\" d=\"M29.7248 850.862 L35.1993 850.862 Q33.8307 853.344 33.1623 855.859 Q32.4621 858.341 32.4621 860.888 Q32.4621 866.585 36.0905 869.736 Q39.6872 872.887 46.212 872.887 Q52.7369 872.887 56.3653 869.736 Q59.9619 866.585 59.9619 860.888 Q59.9619 858.341 59.2935 855.859 Q58.5933 853.344 57.2247 850.862 L62.6355 850.862 Q63.7814 853.312 64.3543 855.954 Q64.9272 858.564 64.9272 861.524 Q64.9272 869.577 59.8664 874.319 Q54.8057 879.062 46.212 879.062 Q37.491 879.062 32.4939 874.287 Q27.4968 869.481 27.4968 861.142 Q27.4968 858.437 28.0697 855.859 Q28.6108 853.281 29.7248 850.862 Z\" fill=\"#000000\" fill-rule=\"evenodd\" fill-opacity=\"1\" /><path clip-path=\"url(#clip730)\" d=\"M28.3562 840.676 L28.3562 834.82 L64.0042 834.82 L64.0042 840.676 L28.3562 840.676 M14.479 840.676 L14.479 834.82 L21.895 834.82 L21.895 840.676 L14.479 840.676 Z\" fill=\"#000000\" fill-rule=\"evenodd\" fill-opacity=\"1\" /><path clip-path=\"url(#clip730)\" d=\"M46.0847 806.365 Q46.0847 813.463 47.7079 816.2 Q49.3312 818.938 53.2461 818.938 Q56.3653 818.938 58.2114 816.901 Q60.0256 814.832 60.0256 811.299 Q60.0256 806.429 56.5881 803.501 Q53.1188 800.541 47.3897 800.541 L46.0847 800.541 L46.0847 806.365 M43.6657 794.684 L64.0042 794.684 L64.0042 800.541 L58.5933 800.541 Q61.8398 802.546 63.3994 805.538 Q64.9272 808.53 64.9272 812.858 Q64.9272 818.333 61.8716 821.579 Q58.7843 824.794 53.6281 824.794 Q47.6125 824.794 44.5569 820.784 Q41.5014 816.741 41.5014 808.752 L41.5014 800.541 L40.9285 800.541 Q36.8862 800.541 34.6901 803.214 Q32.4621 805.856 32.4621 810.662 Q32.4621 813.718 33.1941 816.614 Q33.9262 819.51 35.3903 822.184 L29.9795 822.184 Q28.7381 818.969 28.1334 815.946 Q27.4968 812.922 27.4968 810.057 Q27.4968 802.323 31.5072 798.504 Q35.5176 794.684 43.6657 794.684 Z\" fill=\"#000000\" fill-rule=\"evenodd\" fill-opacity=\"1\" /><path clip-path=\"url(#clip730)\" d=\"M14.479 782.621 L14.479 776.765 L64.0042 776.765 L64.0042 782.621 L14.479 782.621 Z\" fill=\"#000000\" fill-rule=\"evenodd\" fill-opacity=\"1\" /><path clip-path=\"url(#clip730)\" d=\"M14.479 764.511 L14.479 758.654 L64.0042 758.654 L64.0042 764.511 L14.479 764.511 Z\" fill=\"#000000\" fill-rule=\"evenodd\" fill-opacity=\"1\" /><path clip-path=\"url(#clip730)\" d=\"M67.3143 731.568 Q73.68 734.051 75.6216 736.406 Q77.5631 738.762 77.5631 742.708 L77.5631 747.387 L72.6615 747.387 L72.6615 743.95 Q72.6615 741.531 71.5157 740.194 Q70.3699 738.857 66.1048 737.234 L63.4312 736.183 L28.3562 750.602 L28.3562 744.395 L56.238 733.255 L28.3562 722.115 L28.3562 715.909 L67.3143 731.568 Z\" fill=\"#000000\" fill-rule=\"evenodd\" fill-opacity=\"1\" /><path clip-path=\"url(#clip730)\" d=\"M16.4842 686.849 L16.4842 680.42 L60.694 680.42 Q69.2877 680.42 73.1708 683.698 Q77.0539 686.945 77.0539 694.17 L77.0539 696.621 L71.643 696.621 L71.643 694.615 Q71.643 690.35 69.2559 688.6 Q66.8687 686.849 60.694 686.849 L16.4842 686.849 Z\" fill=\"#000000\" fill-rule=\"evenodd\" fill-opacity=\"1\" /><path clip-path=\"url(#clip730)\" d=\"M49.9359 668.484 L28.3562 668.484 L28.3562 662.628 L49.7131 662.628 Q54.7739 662.628 57.3202 660.654 Q59.8346 658.681 59.8346 654.734 Q59.8346 649.992 56.8109 647.254 Q53.7872 644.485 48.5673 644.485 L28.3562 644.485 L28.3562 638.629 L64.0042 638.629 L64.0042 644.485 L58.5296 644.485 Q61.7762 646.618 63.3676 649.451 Q64.9272 652.252 64.9272 655.975 Q64.9272 662.118 61.1078 665.301 Q57.2883 668.484 49.9359 668.484 M27.4968 653.747 L27.4968 653.747 Z\" fill=\"#000000\" fill-rule=\"evenodd\" fill-opacity=\"1\" /><path clip-path=\"url(#clip730)\" d=\"M29.4065 603.84 L34.9447 603.84 Q33.6716 606.323 33.035 608.997 Q32.3984 611.67 32.3984 614.535 Q32.3984 618.895 33.7352 621.091 Q35.072 623.256 37.7456 623.256 Q39.7826 623.256 40.9603 621.696 Q42.1061 620.137 43.1565 615.426 L43.6021 613.421 Q44.9389 607.182 47.3897 604.572 Q49.8086 601.931 54.1691 601.931 Q59.1344 601.931 62.0308 605.877 Q64.9272 609.792 64.9272 616.667 Q64.9272 619.532 64.3543 622.651 Q63.8132 625.738 62.6992 629.176 L56.6518 629.176 Q58.3387 625.929 59.198 622.778 Q60.0256 619.627 60.0256 616.54 Q60.0256 612.402 58.6251 610.174 Q57.1929 607.946 54.6147 607.946 Q52.2276 607.946 50.9545 609.569 Q49.6813 611.161 48.5037 616.604 L48.0262 618.641 Q46.8804 624.083 44.5251 626.502 Q42.138 628.921 38.0002 628.921 Q32.9713 628.921 30.2341 625.356 Q27.4968 621.792 27.4968 615.235 Q27.4968 611.988 27.9743 609.124 Q28.4517 606.259 29.4065 603.84 Z\" fill=\"#000000\" fill-rule=\"evenodd\" fill-opacity=\"1\" /><path clip-path=\"url(#clip730)\" d=\"M18.2347 586.812 L28.3562 586.812 L28.3562 574.749 L32.9077 574.749 L32.9077 586.812 L52.2594 586.812 Q56.6199 586.812 57.8613 585.634 Q59.1026 584.425 59.1026 580.765 L59.1026 574.749 L64.0042 574.749 L64.0042 580.765 Q64.0042 587.544 61.4897 590.122 Q58.9434 592.7 52.2594 592.7 L32.9077 592.7 L32.9077 596.997 L28.3562 596.997 L28.3562 592.7 L18.2347 592.7 L18.2347 586.812 Z\" fill=\"#000000\" fill-rule=\"evenodd\" fill-opacity=\"1\" /><path clip-path=\"url(#clip730)\" d=\"M441.428 17.6457 Q432.516 17.6457 427.25 24.2892 Q422.025 30.9327 422.025 42.3968 Q422.025 53.8203 427.25 60.4638 Q432.516 67.1073 441.428 67.1073 Q450.34 67.1073 455.526 60.4638 Q460.751 53.8203 460.751 42.3968 Q460.751 30.9327 455.526 24.2892 Q450.34 17.6457 441.428 17.6457 M441.428 11.0023 Q454.148 11.0023 461.764 19.5497 Q469.38 28.0566 469.38 42.3968 Q469.38 56.6965 461.764 65.2439 Q454.148 73.7508 441.428 73.7508 Q428.668 73.7508 421.012 65.2439 Q413.396 56.737 413.396 42.3968 Q413.396 28.0566 421.012 19.5497 Q428.668 11.0023 441.428 11.0023 Z\" fill=\"#000000\" fill-rule=\"evenodd\" fill-opacity=\"1\" /><path clip-path=\"url(#clip730)\" d=\"M489.067 65.7705 L489.067 89.8329 L481.573 89.8329 L481.573 27.2059 L489.067 27.2059 L489.067 34.0924 Q491.417 30.0415 494.981 28.0971 Q498.587 26.1121 503.569 26.1121 Q511.833 26.1121 516.978 32.6746 Q522.163 39.2371 522.163 49.9314 Q522.163 60.6258 516.978 67.1883 Q511.833 73.7508 503.569 73.7508 Q498.587 73.7508 494.981 71.8063 Q491.417 69.8214 489.067 65.7705 M514.426 49.9314 Q514.426 41.7081 511.023 37.0496 Q507.661 32.3505 501.746 32.3505 Q495.832 32.3505 492.429 37.0496 Q489.067 41.7081 489.067 49.9314 Q489.067 58.1548 492.429 62.8538 Q495.832 67.5124 501.746 67.5124 Q507.661 67.5124 511.023 62.8538 Q514.426 58.1548 514.426 49.9314 Z\" fill=\"#000000\" fill-rule=\"evenodd\" fill-opacity=\"1\" /><path clip-path=\"url(#clip730)\" d=\"M541.891 14.324 L541.891 27.2059 L557.244 27.2059 L557.244 32.9987 L541.891 32.9987 L541.891 57.6282 Q541.891 63.1779 543.39 64.7578 Q544.929 66.3376 549.588 66.3376 L557.244 66.3376 L557.244 72.576 L549.588 72.576 Q540.959 72.576 537.678 69.3758 Q534.397 66.1351 534.397 57.6282 L534.397 32.9987 L528.928 32.9987 L528.928 27.2059 L534.397 27.2059 L534.397 14.324 L541.891 14.324 Z\" fill=\"#000000\" fill-rule=\"evenodd\" fill-opacity=\"1\" /><path clip-path=\"url(#clip730)\" d=\"M567.047 27.2059 L574.501 27.2059 L574.501 72.576 L567.047 72.576 L567.047 27.2059 M567.047 9.54393 L574.501 9.54393 L574.501 18.9825 L567.047 18.9825 L567.047 9.54393 Z\" fill=\"#000000\" fill-rule=\"evenodd\" fill-opacity=\"1\" /><path clip-path=\"url(#clip730)\" d=\"M625.421 35.9153 Q628.216 30.8922 632.105 28.5022 Q635.993 26.1121 641.26 26.1121 Q648.349 26.1121 652.197 31.0947 Q656.045 36.0368 656.045 45.1919 L656.045 72.576 L648.551 72.576 L648.551 45.4349 Q648.551 38.913 646.242 35.7533 Q643.933 32.5936 639.194 32.5936 Q633.401 32.5936 630.039 36.4419 Q626.676 40.2903 626.676 46.9338 L626.676 72.576 L619.182 72.576 L619.182 45.4349 Q619.182 38.8725 616.873 35.7533 Q614.564 32.5936 609.744 32.5936 Q604.032 32.5936 600.67 36.4824 Q597.307 40.3308 597.307 46.9338 L597.307 72.576 L589.813 72.576 L589.813 27.2059 L597.307 27.2059 L597.307 34.2544 Q599.859 30.082 603.424 28.0971 Q606.989 26.1121 611.891 26.1121 Q616.833 26.1121 620.276 28.6237 Q623.76 31.1352 625.421 35.9153 Z\" fill=\"#000000\" fill-rule=\"evenodd\" fill-opacity=\"1\" /><path clip-path=\"url(#clip730)\" d=\"M691.531 49.7694 Q682.498 49.7694 679.014 51.8354 Q675.53 53.9013 675.53 58.8839 Q675.53 62.8538 678.123 65.2034 Q680.756 67.5124 685.252 67.5124 Q691.45 67.5124 695.177 63.1374 Q698.944 58.7219 698.944 51.4303 L698.944 49.7694 L691.531 49.7694 M706.398 46.6907 L706.398 72.576 L698.944 72.576 L698.944 65.6895 Q696.392 69.8214 692.585 71.8063 Q688.777 73.7508 683.267 73.7508 Q676.3 73.7508 672.168 69.8619 Q668.077 65.9325 668.077 59.3701 Q668.077 51.7138 673.181 47.825 Q678.325 43.9361 688.493 43.9361 L698.944 43.9361 L698.944 43.2069 Q698.944 38.0623 695.542 35.2672 Q692.179 32.4315 686.063 32.4315 Q682.174 32.4315 678.487 33.3632 Q674.801 34.295 671.398 36.1584 L671.398 29.2718 Q675.49 27.692 679.338 26.9223 Q683.186 26.1121 686.832 26.1121 Q696.676 26.1121 701.537 31.2163 Q706.398 36.3204 706.398 46.6907 Z\" fill=\"#000000\" fill-rule=\"evenodd\" fill-opacity=\"1\" /><path clip-path=\"url(#clip730)\" d=\"M721.751 9.54393 L729.205 9.54393 L729.205 72.576 L721.751 72.576 L721.751 9.54393 Z\" fill=\"#000000\" fill-rule=\"evenodd\" fill-opacity=\"1\" /><path clip-path=\"url(#clip730)\" d=\"M807.752 14.0809 L807.752 22.0612 Q803.093 19.8332 798.961 18.7395 Q794.829 17.6457 790.981 17.6457 Q784.297 17.6457 780.651 20.2383 Q777.046 22.8309 777.046 27.611 Q777.046 31.6214 779.436 33.6873 Q781.866 35.7128 788.591 36.9686 L793.533 37.9813 Q802.688 39.7232 807.023 44.1387 Q811.398 48.5136 811.398 55.8863 Q811.398 64.6767 805.483 69.2137 Q799.609 73.7508 788.226 73.7508 Q783.932 73.7508 779.071 72.7785 Q774.251 71.8063 769.066 69.9024 L769.066 61.4765 Q774.048 64.2716 778.828 65.6895 Q783.608 67.1073 788.226 67.1073 Q795.234 67.1073 799.042 64.3527 Q802.85 61.598 802.85 56.4939 Q802.85 52.0379 800.096 49.5264 Q797.381 47.0148 791.143 45.759 L786.16 44.7868 Q777.005 42.9639 772.914 39.075 Q768.823 35.1862 768.823 28.2591 Q768.823 20.2383 774.453 15.6203 Q780.125 11.0023 790.049 11.0023 Q794.303 11.0023 798.718 11.7719 Q803.134 12.5416 807.752 14.0809 Z\" fill=\"#000000\" fill-rule=\"evenodd\" fill-opacity=\"1\" /><path clip-path=\"url(#clip730)\" d=\"M841.415 32.4315 Q835.419 32.4315 831.936 37.1306 Q828.452 41.7891 828.452 49.9314 Q828.452 58.0738 831.895 62.7728 Q835.379 67.4314 841.415 67.4314 Q847.37 67.4314 850.853 62.7323 Q854.337 58.0333 854.337 49.9314 Q854.337 41.8701 850.853 37.1711 Q847.37 32.4315 841.415 32.4315 M841.415 26.1121 Q851.137 26.1121 856.687 32.4315 Q862.236 38.7509 862.236 49.9314 Q862.236 61.0714 856.687 67.4314 Q851.137 73.7508 841.415 73.7508 Q831.652 73.7508 826.102 67.4314 Q820.593 61.0714 820.593 49.9314 Q820.593 38.7509 826.102 32.4315 Q831.652 26.1121 841.415 26.1121 Z\" fill=\"#000000\" fill-rule=\"evenodd\" fill-opacity=\"1\" /><path clip-path=\"url(#clip730)\" d=\"M874.592 9.54393 L882.045 9.54393 L882.045 72.576 L874.592 72.576 L874.592 9.54393 Z\" fill=\"#000000\" fill-rule=\"evenodd\" fill-opacity=\"1\" /><path clip-path=\"url(#clip730)\" d=\"M896.872 54.671 L896.872 27.2059 L904.325 27.2059 L904.325 54.3874 Q904.325 60.8284 906.837 64.0691 Q909.348 67.2693 914.372 67.2693 Q920.407 67.2693 923.891 63.421 Q927.415 59.5726 927.415 52.9291 L927.415 27.2059 L934.869 27.2059 L934.869 72.576 L927.415 72.576 L927.415 65.6084 Q924.701 69.7404 921.096 71.7658 Q917.531 73.7508 912.792 73.7508 Q904.973 73.7508 900.923 68.8897 Q896.872 64.0286 896.872 54.671 M915.627 26.1121 L915.627 26.1121 Z\" fill=\"#000000\" fill-rule=\"evenodd\" fill-opacity=\"1\" /><path clip-path=\"url(#clip730)\" d=\"M957.595 14.324 L957.595 27.2059 L972.948 27.2059 L972.948 32.9987 L957.595 32.9987 L957.595 57.6282 Q957.595 63.1779 959.094 64.7578 Q960.633 66.3376 965.291 66.3376 L972.948 66.3376 L972.948 72.576 L965.291 72.576 Q956.663 72.576 953.382 69.3758 Q950.101 66.1351 950.101 57.6282 L950.101 32.9987 L944.632 32.9987 L944.632 27.2059 L950.101 27.2059 L950.101 14.324 L957.595 14.324 Z\" fill=\"#000000\" fill-rule=\"evenodd\" fill-opacity=\"1\" /><path clip-path=\"url(#clip730)\" d=\"M982.751 27.2059 L990.204 27.2059 L990.204 72.576 L982.751 72.576 L982.751 27.2059 M982.751 9.54393 L990.204 9.54393 L990.204 18.9825 L982.751 18.9825 L982.751 9.54393 Z\" fill=\"#000000\" fill-rule=\"evenodd\" fill-opacity=\"1\" /><path clip-path=\"url(#clip730)\" d=\"M1023.38 32.4315 Q1017.39 32.4315 1013.9 37.1306 Q1010.42 41.7891 1010.42 49.9314 Q1010.42 58.0738 1013.86 62.7728 Q1017.35 67.4314 1023.38 67.4314 Q1029.34 67.4314 1032.82 62.7323 Q1036.3 58.0333 1036.3 49.9314 Q1036.3 41.8701 1032.82 37.1711 Q1029.34 32.4315 1023.38 32.4315 M1023.38 26.1121 Q1033.1 26.1121 1038.65 32.4315 Q1044.2 38.7509 1044.2 49.9314 Q1044.2 61.0714 1038.65 67.4314 Q1033.1 73.7508 1023.38 73.7508 Q1013.62 73.7508 1008.07 67.4314 Q1002.56 61.0714 1002.56 49.9314 Q1002.56 38.7509 1008.07 32.4315 Q1013.62 26.1121 1023.38 26.1121 Z\" fill=\"#000000\" fill-rule=\"evenodd\" fill-opacity=\"1\" /><path clip-path=\"url(#clip730)\" d=\"M1094.27 45.1919 L1094.27 72.576 L1086.82 72.576 L1086.82 45.4349 Q1086.82 38.994 1084.31 35.7938 Q1081.8 32.5936 1076.77 32.5936 Q1070.74 32.5936 1067.25 36.4419 Q1063.77 40.2903 1063.77 46.9338 L1063.77 72.576 L1056.27 72.576 L1056.27 27.2059 L1063.77 27.2059 L1063.77 34.2544 Q1066.44 30.163 1070.05 28.1376 Q1073.69 26.1121 1078.43 26.1121 Q1086.25 26.1121 1090.26 30.9732 Q1094.27 35.7938 1094.27 45.1919 Z\" fill=\"#000000\" fill-rule=\"evenodd\" fill-opacity=\"1\" /><path clip-path=\"url(#clip730)\" d=\"M1158.48 9.54393 L1158.48 15.7418 L1151.35 15.7418 Q1147.34 15.7418 1145.76 17.3622 Q1144.22 18.9825 1144.22 23.1955 L1144.22 27.2059 L1156.49 27.2059 L1156.49 32.9987 L1144.22 32.9987 L1144.22 72.576 L1136.73 72.576 L1136.73 32.9987 L1129.6 32.9987 L1129.6 27.2059 L1136.73 27.2059 L1136.73 24.0462 Q1136.73 16.471 1140.25 13.0277 Q1143.77 9.54393 1151.43 9.54393 L1158.48 9.54393 Z\" fill=\"#000000\" fill-rule=\"evenodd\" fill-opacity=\"1\" /><path clip-path=\"url(#clip730)\" d=\"M1191.01 34.1734 Q1189.75 33.4443 1188.25 33.1202 Q1186.79 32.7556 1185.01 32.7556 Q1178.69 32.7556 1175.29 36.8875 Q1171.93 40.9789 1171.93 48.6757 L1171.93 72.576 L1164.43 72.576 L1164.43 27.2059 L1171.93 27.2059 L1171.93 34.2544 Q1174.28 30.1225 1178.04 28.1376 Q1181.81 26.1121 1187.2 26.1121 Q1187.97 26.1121 1188.9 26.2337 Q1189.83 26.3147 1190.97 26.5172 L1191.01 34.1734 Z\" fill=\"#000000\" fill-rule=\"evenodd\" fill-opacity=\"1\" /><path clip-path=\"url(#clip730)\" d=\"M1214.58 32.4315 Q1208.59 32.4315 1205.1 37.1306 Q1201.62 41.7891 1201.62 49.9314 Q1201.62 58.0738 1205.06 62.7728 Q1208.55 67.4314 1214.58 67.4314 Q1220.54 67.4314 1224.02 62.7323 Q1227.51 58.0333 1227.51 49.9314 Q1227.51 41.8701 1224.02 37.1711 Q1220.54 32.4315 1214.58 32.4315 M1214.58 26.1121 Q1224.31 26.1121 1229.86 32.4315 Q1235.41 38.7509 1235.41 49.9314 Q1235.41 61.0714 1229.86 67.4314 Q1224.31 73.7508 1214.58 73.7508 Q1204.82 73.7508 1199.27 67.4314 Q1193.76 61.0714 1193.76 49.9314 Q1193.76 38.7509 1199.27 32.4315 Q1204.82 26.1121 1214.58 26.1121 Z\" fill=\"#000000\" fill-rule=\"evenodd\" fill-opacity=\"1\" /><path clip-path=\"url(#clip730)\" d=\"M1283.08 35.9153 Q1285.88 30.8922 1289.77 28.5022 Q1293.66 26.1121 1298.92 26.1121 Q1306.01 26.1121 1309.86 31.0947 Q1313.71 36.0368 1313.71 45.1919 L1313.71 72.576 L1306.22 72.576 L1306.22 45.4349 Q1306.22 38.913 1303.91 35.7533 Q1301.6 32.5936 1296.86 32.5936 Q1291.07 32.5936 1287.7 36.4419 Q1284.34 40.2903 1284.34 46.9338 L1284.34 72.576 L1276.85 72.576 L1276.85 45.4349 Q1276.85 38.8725 1274.54 35.7533 Q1272.23 32.5936 1267.41 32.5936 Q1261.7 32.5936 1258.33 36.4824 Q1254.97 40.3308 1254.97 46.9338 L1254.97 72.576 L1247.48 72.576 L1247.48 27.2059 L1254.97 27.2059 L1254.97 34.2544 Q1257.52 30.082 1261.09 28.0971 Q1264.65 26.1121 1269.55 26.1121 Q1274.5 26.1121 1277.94 28.6237 Q1281.42 31.1352 1283.08 35.9153 Z\" fill=\"#000000\" fill-rule=\"evenodd\" fill-opacity=\"1\" /><path clip-path=\"url(#clip730)\" d=\"M1363.45 18.8205 L1363.45 65.8515 L1373.34 65.8515 Q1385.86 65.8515 1391.65 60.1802 Q1397.48 54.509 1397.48 42.2752 Q1397.48 30.1225 1391.65 24.4918 Q1385.86 18.8205 1373.34 18.8205 L1363.45 18.8205 M1355.27 12.096 L1372.08 12.096 Q1389.66 12.096 1397.89 19.4281 Q1406.11 26.7198 1406.11 42.2752 Q1406.11 57.9117 1397.85 65.2439 Q1389.58 72.576 1372.08 72.576 L1355.27 72.576 L1355.27 12.096 Z\" fill=\"#000000\" fill-rule=\"evenodd\" fill-opacity=\"1\" /><path clip-path=\"url(#clip730)\" d=\"M1457.64 48.0275 L1457.64 51.6733 L1423.37 51.6733 Q1423.85 59.3701 1427.99 63.421 Q1432.16 67.4314 1439.57 67.4314 Q1443.87 67.4314 1447.88 66.3781 Q1451.93 65.3249 1455.9 63.2184 L1455.9 70.267 Q1451.89 71.9684 1447.67 72.8596 Q1443.46 73.7508 1439.13 73.7508 Q1428.27 73.7508 1421.91 67.4314 Q1415.59 61.1119 1415.59 50.3365 Q1415.59 39.1965 1421.59 32.6746 Q1427.62 26.1121 1437.83 26.1121 Q1446.98 26.1121 1452.29 32.0264 Q1457.64 37.9003 1457.64 48.0275 M1450.18 45.84 Q1450.1 39.7232 1446.74 36.0774 Q1443.42 32.4315 1437.91 32.4315 Q1431.67 32.4315 1427.9 35.9558 Q1424.18 39.4801 1423.61 45.8805 L1450.18 45.84 Z\" fill=\"#000000\" fill-rule=\"evenodd\" fill-opacity=\"1\" /><path clip-path=\"url(#clip730)\" d=\"M1477.24 14.324 L1477.24 27.2059 L1492.6 27.2059 L1492.6 32.9987 L1477.24 32.9987 L1477.24 57.6282 Q1477.24 63.1779 1478.74 64.7578 Q1480.28 66.3376 1484.94 66.3376 L1492.6 66.3376 L1492.6 72.576 L1484.94 72.576 Q1476.31 72.576 1473.03 69.3758 Q1469.75 66.1351 1469.75 57.6282 L1469.75 32.9987 L1464.28 32.9987 L1464.28 27.2059 L1469.75 27.2059 L1469.75 14.324 L1477.24 14.324 Z\" fill=\"#000000\" fill-rule=\"evenodd\" fill-opacity=\"1\" /><path clip-path=\"url(#clip730)\" d=\"M1529.1 12.096 L1541.29 12.096 L1556.72 53.2532 L1572.24 12.096 L1584.43 12.096 L1584.43 72.576 L1576.45 72.576 L1576.45 19.4686 L1560.86 60.9499 L1552.63 60.9499 L1537.04 19.4686 L1537.04 72.576 L1529.1 72.576 L1529.1 12.096 Z\" fill=\"#000000\" fill-rule=\"evenodd\" fill-opacity=\"1\" /><path clip-path=\"url(#clip730)\" d=\"M1617.93 32.4315 Q1611.94 32.4315 1608.45 37.1306 Q1604.97 41.7891 1604.97 49.9314 Q1604.97 58.0738 1608.41 62.7728 Q1611.9 67.4314 1617.93 67.4314 Q1623.89 67.4314 1627.37 62.7323 Q1630.85 58.0333 1630.85 49.9314 Q1630.85 41.8701 1627.37 37.1711 Q1623.89 32.4315 1617.93 32.4315 M1617.93 26.1121 Q1627.65 26.1121 1633.2 32.4315 Q1638.75 38.7509 1638.75 49.9314 Q1638.75 61.0714 1633.2 67.4314 Q1627.65 73.7508 1617.93 73.7508 Q1608.17 73.7508 1602.62 67.4314 Q1597.11 61.0714 1597.11 49.9314 Q1597.11 38.7509 1602.62 32.4315 Q1608.17 26.1121 1617.93 26.1121 Z\" fill=\"#000000\" fill-rule=\"evenodd\" fill-opacity=\"1\" /><path clip-path=\"url(#clip730)\" d=\"M1680.96 34.0924 L1680.96 9.54393 L1688.42 9.54393 L1688.42 72.576 L1680.96 72.576 L1680.96 65.7705 Q1678.62 69.8214 1675.01 71.8063 Q1671.45 73.7508 1666.42 73.7508 Q1658.2 73.7508 1653.01 67.1883 Q1647.87 60.6258 1647.87 49.9314 Q1647.87 39.2371 1653.01 32.6746 Q1658.2 26.1121 1666.42 26.1121 Q1671.45 26.1121 1675.01 28.0971 Q1678.62 30.0415 1680.96 34.0924 M1655.57 49.9314 Q1655.57 58.1548 1658.93 62.8538 Q1662.33 67.5124 1668.24 67.5124 Q1674.16 67.5124 1677.56 62.8538 Q1680.96 58.1548 1680.96 49.9314 Q1680.96 41.7081 1677.56 37.0496 Q1674.16 32.3505 1668.24 32.3505 Q1662.33 32.3505 1658.93 37.0496 Q1655.57 41.7081 1655.57 49.9314 Z\" fill=\"#000000\" fill-rule=\"evenodd\" fill-opacity=\"1\" /><path clip-path=\"url(#clip730)\" d=\"M1742.58 48.0275 L1742.58 51.6733 L1708.31 51.6733 Q1708.79 59.3701 1712.93 63.421 Q1717.1 67.4314 1724.51 67.4314 Q1728.81 67.4314 1732.82 66.3781 Q1736.87 65.3249 1740.84 63.2184 L1740.84 70.267 Q1736.83 71.9684 1732.61 72.8596 Q1728.4 73.7508 1724.07 73.7508 Q1713.21 73.7508 1706.85 67.4314 Q1700.53 61.1119 1700.53 50.3365 Q1700.53 39.1965 1706.53 32.6746 Q1712.56 26.1121 1722.77 26.1121 Q1731.93 26.1121 1737.23 32.0264 Q1742.58 37.9003 1742.58 48.0275 M1735.13 45.84 Q1735.04 39.7232 1731.68 36.0774 Q1728.36 32.4315 1722.85 32.4315 Q1716.61 32.4315 1712.85 35.9558 Q1709.12 39.4801 1708.55 45.8805 L1735.13 45.84 Z\" fill=\"#000000\" fill-rule=\"evenodd\" fill-opacity=\"1\" /><path clip-path=\"url(#clip730)\" d=\"M1754.81 9.54393 L1762.27 9.54393 L1762.27 72.576 L1754.81 72.576 L1754.81 9.54393 Z\" fill=\"#000000\" fill-rule=\"evenodd\" fill-opacity=\"1\" /><path clip-path=\"url(#clip730)\" d=\"M1798.89 27.2059 L1806.79 27.2059 L1820.96 65.2844 L1835.14 27.2059 L1843.04 27.2059 L1826.03 72.576 L1815.9 72.576 L1798.89 27.2059 Z\" fill=\"#000000\" fill-rule=\"evenodd\" fill-opacity=\"1\" /><path clip-path=\"url(#clip730)\" d=\"M1882.25 28.5427 L1882.25 35.5912 Q1879.09 33.9709 1875.69 33.1607 Q1872.29 32.3505 1868.64 32.3505 Q1863.09 32.3505 1860.3 34.0519 Q1857.54 35.7533 1857.54 39.156 Q1857.54 41.7486 1859.53 43.2475 Q1861.51 44.7058 1867.51 46.0426 L1870.06 46.6097 Q1878 48.3111 1881.32 51.4303 Q1884.68 54.509 1884.68 60.0587 Q1884.68 66.3781 1879.66 70.0644 Q1874.68 73.7508 1865.93 73.7508 Q1862.28 73.7508 1858.31 73.0216 Q1854.38 72.3329 1850.01 70.9151 L1850.01 63.2184 Q1854.14 65.3654 1858.15 66.4591 Q1862.16 67.5124 1866.09 67.5124 Q1871.36 67.5124 1874.19 65.73 Q1877.03 63.9071 1877.03 60.6258 Q1877.03 57.5877 1874.96 55.9673 Q1872.94 54.3469 1866.01 52.8481 L1863.42 52.2405 Q1856.49 50.7821 1853.41 47.7845 Q1850.33 44.7463 1850.33 39.4801 Q1850.33 33.0797 1854.87 29.5959 Q1859.41 26.1121 1867.75 26.1121 Q1871.88 26.1121 1875.53 26.7198 Q1879.18 27.3274 1882.25 28.5427 Z\" fill=\"#000000\" fill-rule=\"evenodd\" fill-opacity=\"1\" /><path clip-path=\"url(#clip730)\" d=\"M1914.86 12.096 L1966.03 12.096 L1966.03 18.9825 L1944.56 18.9825 L1944.56 72.576 L1936.33 72.576 L1936.33 18.9825 L1914.86 18.9825 L1914.86 12.096 Z\" fill=\"#000000\" fill-rule=\"evenodd\" fill-opacity=\"1\" /><path clip-path=\"url(#clip730)\" d=\"M1998.31 48.0275 L1998.31 51.6733 L1964.04 51.6733 Q1964.53 59.3701 1968.66 63.421 Q1972.83 67.4314 1980.25 67.4314 Q1984.54 67.4314 1988.55 66.3781 Q1992.6 65.3249 1996.57 63.2184 L1996.57 70.267 Q1992.56 71.9684 1988.35 72.8596 Q1984.13 73.7508 1979.8 73.7508 Q1968.94 73.7508 1962.58 67.4314 Q1956.26 61.1119 1956.26 50.3365 Q1956.26 39.1965 1962.26 32.6746 Q1968.3 26.1121 1978.5 26.1121 Q1987.66 26.1121 1992.97 32.0264 Q1998.31 37.9003 1998.31 48.0275 M1990.86 45.84 Q1990.78 39.7232 1987.42 36.0774 Q1984.09 32.4315 1978.58 32.4315 Q1972.35 32.4315 1968.58 35.9558 Q1964.85 39.4801 1964.28 45.8805 L1990.86 45.84 Z\" fill=\"#000000\" fill-rule=\"evenodd\" fill-opacity=\"1\" /><path clip-path=\"url(#clip730)\" d=\"M2039.47 28.5427 L2039.47 35.5912 Q2036.31 33.9709 2032.91 33.1607 Q2029.5 32.3505 2025.86 32.3505 Q2020.31 32.3505 2017.51 34.0519 Q2014.76 35.7533 2014.76 39.156 Q2014.76 41.7486 2016.74 43.2475 Q2018.73 44.7058 2024.72 46.0426 L2027.28 46.6097 Q2035.22 48.3111 2038.54 51.4303 Q2041.9 54.509 2041.9 60.0587 Q2041.9 66.3781 2036.88 70.0644 Q2031.89 73.7508 2023.14 73.7508 Q2019.5 73.7508 2015.53 73.0216 Q2011.6 72.3329 2007.22 70.9151 L2007.22 63.2184 Q2011.36 65.3654 2015.37 66.4591 Q2019.38 67.5124 2023.31 67.5124 Q2028.57 67.5124 2031.41 65.73 Q2034.24 63.9071 2034.24 60.6258 Q2034.24 57.5877 2032.18 55.9673 Q2030.15 54.3469 2023.23 52.8481 L2020.63 52.2405 Q2013.71 50.7821 2010.63 47.7845 Q2007.55 44.7463 2007.55 39.4801 Q2007.55 33.0797 2012.09 29.5959 Q2016.62 26.1121 2024.97 26.1121 Q2029.1 26.1121 2032.75 26.7198 Q2036.39 27.3274 2039.47 28.5427 Z\" fill=\"#000000\" fill-rule=\"evenodd\" fill-opacity=\"1\" /><path clip-path=\"url(#clip730)\" d=\"M2053.77 9.54393 L2061.22 9.54393 L2061.22 72.576 L2053.77 72.576 L2053.77 9.54393 Z\" fill=\"#000000\" fill-rule=\"evenodd\" fill-opacity=\"1\" /><path clip-path=\"url(#clip730)\" d=\"M2097.44 49.7694 Q2088.4 49.7694 2084.92 51.8354 Q2081.44 53.9013 2081.44 58.8839 Q2081.44 62.8538 2084.03 65.2034 Q2086.66 67.5124 2091.16 67.5124 Q2097.36 67.5124 2101.08 63.1374 Q2104.85 58.7219 2104.85 51.4303 L2104.85 49.7694 L2097.44 49.7694 M2112.3 46.6907 L2112.3 72.576 L2104.85 72.576 L2104.85 65.6895 Q2102.3 69.8214 2098.49 71.8063 Q2094.68 73.7508 2089.17 73.7508 Q2082.21 73.7508 2078.07 69.8619 Q2073.98 65.9325 2073.98 59.3701 Q2073.98 51.7138 2079.09 47.825 Q2084.23 43.9361 2094.4 43.9361 L2104.85 43.9361 L2104.85 43.2069 Q2104.85 38.0623 2101.45 35.2672 Q2098.09 32.4315 2091.97 32.4315 Q2088.08 32.4315 2084.39 33.3632 Q2080.71 34.295 2077.31 36.1584 L2077.31 29.2718 Q2081.4 27.692 2085.24 26.9223 Q2089.09 26.1121 2092.74 26.1121 Q2102.58 26.1121 2107.44 31.2163 Q2112.3 36.3204 2112.3 46.6907 Z\" fill=\"#000000\" fill-rule=\"evenodd\" fill-opacity=\"1\" /><path clip-path=\"url(#clip730)\" d=\"M2199.64 16.7545 L2199.64 25.383 Q2195.51 21.5346 2190.81 19.6307 Q2186.15 17.7268 2180.89 17.7268 Q2170.52 17.7268 2165.01 24.0867 Q2159.5 30.4061 2159.5 42.3968 Q2159.5 54.3469 2165.01 60.7069 Q2170.52 67.0263 2180.89 67.0263 Q2186.15 67.0263 2190.81 65.1223 Q2195.51 63.2184 2199.64 59.3701 L2199.64 67.9175 Q2195.35 70.8341 2190.53 72.2924 Q2185.75 73.7508 2180.4 73.7508 Q2166.67 73.7508 2158.77 65.3654 Q2150.87 56.9395 2150.87 42.3968 Q2150.87 27.8135 2158.77 19.4281 Q2166.67 11.0023 2180.4 11.0023 Q2185.83 11.0023 2190.61 12.4606 Q2195.43 13.8784 2199.64 16.7545 Z\" fill=\"#000000\" fill-rule=\"evenodd\" fill-opacity=\"1\" /><path clip-path=\"url(#clip730)\" d=\"M2232.58 49.7694 Q2223.54 49.7694 2220.06 51.8354 Q2216.58 53.9013 2216.58 58.8839 Q2216.58 62.8538 2219.17 65.2034 Q2221.8 67.5124 2226.3 67.5124 Q2232.5 67.5124 2236.22 63.1374 Q2239.99 58.7219 2239.99 51.4303 L2239.99 49.7694 L2232.58 49.7694 M2247.44 46.6907 L2247.44 72.576 L2239.99 72.576 L2239.99 65.6895 Q2237.44 69.8214 2233.63 71.8063 Q2229.82 73.7508 2224.31 73.7508 Q2217.34 73.7508 2213.21 69.8619 Q2209.12 65.9325 2209.12 59.3701 Q2209.12 51.7138 2214.23 47.825 Q2219.37 43.9361 2229.54 43.9361 L2239.99 43.9361 L2239.99 43.2069 Q2239.99 38.0623 2236.59 35.2672 Q2233.22 32.4315 2227.11 32.4315 Q2223.22 32.4315 2219.53 33.3632 Q2215.85 34.295 2212.44 36.1584 L2212.44 29.2718 Q2216.53 27.692 2220.38 26.9223 Q2224.23 26.1121 2227.88 26.1121 Q2237.72 26.1121 2242.58 31.2163 Q2247.44 36.3204 2247.44 46.6907 Z\" fill=\"#000000\" fill-rule=\"evenodd\" fill-opacity=\"1\" /><path clip-path=\"url(#clip730)\" d=\"M2291.72 28.5427 L2291.72 35.5912 Q2288.56 33.9709 2285.16 33.1607 Q2281.75 32.3505 2278.11 32.3505 Q2272.56 32.3505 2269.76 34.0519 Q2267.01 35.7533 2267.01 39.156 Q2267.01 41.7486 2268.99 43.2475 Q2270.98 44.7058 2276.97 46.0426 L2279.53 46.6097 Q2287.47 48.3111 2290.79 51.4303 Q2294.15 54.509 2294.15 60.0587 Q2294.15 66.3781 2289.13 70.0644 Q2284.14 73.7508 2275.39 73.7508 Q2271.75 73.7508 2267.78 73.0216 Q2263.85 72.3329 2259.47 70.9151 L2259.47 63.2184 Q2263.61 65.3654 2267.62 66.4591 Q2271.63 67.5124 2275.56 67.5124 Q2280.82 67.5124 2283.66 65.73 Q2286.49 63.9071 2286.49 60.6258 Q2286.49 57.5877 2284.43 55.9673 Q2282.4 54.3469 2275.48 52.8481 L2272.88 52.2405 Q2265.96 50.7821 2262.88 47.7845 Q2259.8 44.7463 2259.8 39.4801 Q2259.8 33.0797 2264.34 29.5959 Q2268.87 26.1121 2277.22 26.1121 Q2281.35 26.1121 2284.99 26.7198 Q2288.64 27.3274 2291.72 28.5427 Z\" fill=\"#000000\" fill-rule=\"evenodd\" fill-opacity=\"1\" /><path clip-path=\"url(#clip730)\" d=\"M2344.83 48.0275 L2344.83 51.6733 L2310.56 51.6733 Q2311.04 59.3701 2315.17 63.421 Q2319.35 67.4314 2326.76 67.4314 Q2331.05 67.4314 2335.06 66.3781 Q2339.12 65.3249 2343.08 63.2184 L2343.08 70.267 Q2339.07 71.9684 2334.86 72.8596 Q2330.65 73.7508 2326.31 73.7508 Q2315.46 73.7508 2309.1 67.4314 Q2302.78 61.1119 2302.78 50.3365 Q2302.78 39.1965 2308.77 32.6746 Q2314.81 26.1121 2325.02 26.1121 Q2334.17 26.1121 2339.48 32.0264 Q2344.83 37.9003 2344.83 48.0275 M2337.37 45.84 Q2337.29 39.7232 2333.93 36.0774 Q2330.61 32.4315 2325.1 32.4315 Q2318.86 32.4315 2315.09 35.9558 Q2311.37 39.4801 2310.8 45.8805 L2337.37 45.84 Z\" fill=\"#000000\" fill-rule=\"evenodd\" fill-opacity=\"1\" /><polyline clip-path=\"url(#clip732)\" style=\"stroke:#009af9; stroke-linecap:round; stroke-linejoin:round; stroke-width:4; stroke-opacity:1; fill:none\" points=\"\n",
       "  460.579,159.909 919.845,791.316 1379.11,1107.34 1838.38,1274.09 2297.64,1374.46 \n",
       "  \"/>\n",
       "<circle clip-path=\"url(#clip732)\" cx=\"460.579\" cy=\"159.909\" r=\"14.4\" fill=\"#e26f46\" fill-rule=\"evenodd\" fill-opacity=\"1\" stroke=\"#000000\" stroke-opacity=\"1\" stroke-width=\"3.2\"/>\n",
       "<circle clip-path=\"url(#clip732)\" cx=\"919.845\" cy=\"791.316\" r=\"14.4\" fill=\"#e26f46\" fill-rule=\"evenodd\" fill-opacity=\"1\" stroke=\"#000000\" stroke-opacity=\"1\" stroke-width=\"3.2\"/>\n",
       "<circle clip-path=\"url(#clip732)\" cx=\"1379.11\" cy=\"1107.34\" r=\"14.4\" fill=\"#e26f46\" fill-rule=\"evenodd\" fill-opacity=\"1\" stroke=\"#000000\" stroke-opacity=\"1\" stroke-width=\"3.2\"/>\n",
       "<circle clip-path=\"url(#clip732)\" cx=\"1838.38\" cy=\"1274.09\" r=\"14.4\" fill=\"#e26f46\" fill-rule=\"evenodd\" fill-opacity=\"1\" stroke=\"#000000\" stroke-opacity=\"1\" stroke-width=\"3.2\"/>\n",
       "<circle clip-path=\"url(#clip732)\" cx=\"2297.64\" cy=\"1374.46\" r=\"14.4\" fill=\"#e26f46\" fill-rule=\"evenodd\" fill-opacity=\"1\" stroke=\"#000000\" stroke-opacity=\"1\" stroke-width=\"3.2\"/>\n",
       "<circle clip-path=\"url(#clip732)\" cx=\"1196.06\" cy=\"515.153\" r=\"18\" fill=\"#008000\" fill-rule=\"evenodd\" fill-opacity=\"1\" stroke=\"#000000\" stroke-opacity=\"1\" stroke-width=\"3.2\"/>\n",
       "<path clip-path=\"url(#clip730)\" d=\"\n",
       "M2040.69 321.906 L2287.85 321.906 L2287.85 166.386 L2040.69 166.386  Z\n",
       "  \" fill=\"#ffffff\" fill-rule=\"evenodd\" fill-opacity=\"1\"/>\n",
       "<polyline clip-path=\"url(#clip730)\" style=\"stroke:#000000; stroke-linecap:round; stroke-linejoin:round; stroke-width:4; stroke-opacity:1; fill:none\" points=\"\n",
       "  2040.69,321.906 2287.85,321.906 2287.85,166.386 2040.69,166.386 2040.69,321.906 \n",
       "  \"/>\n",
       "<polyline clip-path=\"url(#clip730)\" style=\"stroke:#009af9; stroke-linecap:round; stroke-linejoin:round; stroke-width:4; stroke-opacity:1; fill:none\" points=\"\n",
       "  2062.32,218.226 2192.14,218.226 \n",
       "  \"/>\n",
       "<path clip-path=\"url(#clip730)\" d=\"M2227.62 237.914 Q2225.82 242.543 2224.1 243.955 Q2222.39 245.367 2219.52 245.367 L2216.12 245.367 L2216.12 241.803 L2218.62 241.803 Q2220.38 241.803 2221.35 240.969 Q2222.32 240.136 2223.5 237.034 L2224.27 235.09 L2213.78 209.58 L2218.29 209.58 L2226.4 229.858 L2234.5 209.58 L2239.01 209.58 L2227.62 237.914 Z\" fill=\"#000000\" fill-rule=\"evenodd\" fill-opacity=\"1\" /><path clip-path=\"url(#clip730)\" d=\"M2246.3 231.571 L2253.94 231.571 L2253.94 205.206 L2245.63 206.872 L2245.63 202.613 L2253.89 200.946 L2258.57 200.946 L2258.57 231.571 L2266.21 231.571 L2266.21 235.506 L2246.3 235.506 L2246.3 231.571 Z\" fill=\"#000000\" fill-rule=\"evenodd\" fill-opacity=\"1\" /><circle clip-path=\"url(#clip730)\" cx=\"2127.23\" cy=\"270.066\" r=\"23.04\" fill=\"#e26f46\" fill-rule=\"evenodd\" fill-opacity=\"1\" stroke=\"#000000\" stroke-opacity=\"1\" stroke-width=\"5.12\"/>\n",
       "<path clip-path=\"url(#clip730)\" d=\"M2227.62 289.754 Q2225.82 294.383 2224.1 295.795 Q2222.39 297.207 2219.52 297.207 L2216.12 297.207 L2216.12 293.643 L2218.62 293.643 Q2220.38 293.643 2221.35 292.809 Q2222.32 291.976 2223.5 288.874 L2224.27 286.93 L2213.78 261.42 L2218.29 261.42 L2226.4 281.698 L2234.5 261.42 L2239.01 261.42 L2227.62 289.754 Z\" fill=\"#000000\" fill-rule=\"evenodd\" fill-opacity=\"1\" /><path clip-path=\"url(#clip730)\" d=\"M2249.52 283.411 L2265.84 283.411 L2265.84 287.346 L2243.9 287.346 L2243.9 283.411 Q2246.56 280.656 2251.14 276.027 Q2255.75 271.374 2256.93 270.032 Q2259.17 267.508 2260.05 265.772 Q2260.96 264.013 2260.96 262.323 Q2260.96 259.569 2259.01 257.833 Q2257.09 256.096 2253.99 256.096 Q2251.79 256.096 2249.33 256.86 Q2246.9 257.624 2244.13 259.175 L2244.13 254.453 Q2246.95 253.319 2249.4 252.74 Q2251.86 252.161 2253.89 252.161 Q2259.27 252.161 2262.46 254.846 Q2265.65 257.532 2265.65 262.022 Q2265.65 264.152 2264.84 266.073 Q2264.06 267.971 2261.95 270.564 Q2261.37 271.235 2258.27 274.453 Q2255.17 277.647 2249.52 283.411 Z\" fill=\"#000000\" fill-rule=\"evenodd\" fill-opacity=\"1\" /></svg>\n"
      ]
     },
     "execution_count": 64,
     "metadata": {},
     "output_type": "execute_result"
    }
   ],
   "source": [
    "x_axis = ls_eo\n",
    "y_axis = ls_ss\n",
    "\n",
    "plot(x_axis, y_axis)\n",
    "plot!(x_axis, y_axis, seriestype=:scatter)\n",
    "scatter!([tesla_eco], [tesla_soc], color = \"green\", label = \"\", markersize = 5)\n",
    "\n",
    "title!(\"Optimal Solution from Det Model vs Tesla Case\")\n",
    "xlabel!(\"Ecologically Safe\")\n",
    "ylabel!(\"Socially Just\")"
   ]
  },
  {
   "cell_type": "markdown",
   "id": "1ac85f23",
   "metadata": {},
   "source": [
    "---"
   ]
  },
  {
   "cell_type": "code",
   "execution_count": null,
   "id": "4f44b6bf",
   "metadata": {},
   "outputs": [],
   "source": []
  },
  {
   "cell_type": "code",
   "execution_count": 65,
   "id": "db0ac7c3",
   "metadata": {},
   "outputs": [],
   "source": [
    "path = \"C:/Users/bourg/.julia/environments/batterySC/Li-battery-SC/src/deterministic/data/Tesla/\";"
   ]
  },
  {
   "cell_type": "code",
   "execution_count": 66,
   "id": "197a0933",
   "metadata": {},
   "outputs": [],
   "source": [
    "#load social and ecological data and orgnize \n",
    "regional_EF = CSV.File(string(path,\"EF_SC.csv\"),header=1,delim=\",\", types=dtype) |> DataFrame \n",
    "capacity = CSV.File(string(path,\"capacity.csv\"),header=1,delim=\",\", types=dtype) |> DataFrame    \n",
    "distance = CSV.File(string(path,\"distance.csv\"),header=1,delim=\",\") |> DataFrame \n",
    "SDD = CSV.File(string(path,\"SDD.csv\"),header=1,delim=\",\") |> DataFrame;"
   ]
  },
  {
   "cell_type": "code",
   "execution_count": 67,
   "id": "751e8aee",
   "metadata": {},
   "outputs": [],
   "source": [
    "emission_c = SDD[!, \"D\"]         \n",
    "sink_c = SDD[!, \"S\"]           \n",
    "Dsoc = SDD[!, \"Dsoc\"]          \n",
    "\n",
    "countries = capacity[!,\"country\"]\n",
    "ncty = size(countries,1)                       \n",
    "nproc = size(process,1);                         \n",
    "\n",
    "mkt_loc = findfirst(isequal(\"United States\"), countries)\n",
    "mkt_proc = findfirst(isequal(\"battery\"), process);"
   ]
  },
  {
   "cell_type": "code",
   "execution_count": 68,
   "id": "16ba32b2",
   "metadata": {},
   "outputs": [],
   "source": [
    "emission_c = SDD[!, \"D\"]          # national CO2 emission (ton/yr)\n",
    "sink_c = SDD[!, \"S\"]           # national CO2 sink (ton/yr)\n",
    "Dsoc = SDD[!, \"Dsoc\"]           # national CO2 sink (ton/yr)\n",
    "\n",
    "countries = capacity[!,\"country\"]\n",
    "ncty = size(countries,1)                          # No. of countries\n",
    "nproc = size(process,1);                          # No. of processes \n",
    "\n",
    "mkt_loc = findfirst(isequal(\"United States\"), countries)\n",
    "mkt_proc = findfirst(isequal(\"battery\"), process);"
   ]
  },
  {
   "cell_type": "code",
   "execution_count": 69,
   "id": "bdc579eb",
   "metadata": {},
   "outputs": [
    {
     "name": "stdout",
     "output_type": "stream",
     "text": [
      "Academic license - for non-commercial use only - expires 2024-12-26\r\n",
      "Gurobi Optimizer version 9.1.2 build v9.1.2rc0 (win64)\r\n",
      "Thread count: 6 physical cores, 12 logical processors, using up to 12 threads\r\n",
      "Optimize a model with 554 rows, 2340 columns and 5184 nonzeros\r\n",
      "Model fingerprint: 0x0c56b797\r\n",
      "Coefficient statistics:\r\n",
      "  Matrix range     [4e-03, 1e+00]\r\n",
      "  Objective range  [1e-02, 9e+01]\r\n",
      "  Bounds range     [0e+00, 0e+00]\r\n",
      "  RHS range        [5e+02, 1e+11]\r\n",
      "Warning: Model contains large rhs\r\n",
      "         Consider reformulating model or setting NumericFocus parameter\r\n",
      "         to avoid numerical issues.\r\n",
      "Presolve removed 416 rows and 1947 columns\r\n",
      "Presolve time: 0.00s\r\n",
      "Presolved: 138 rows, 393 columns, 962 nonzeros\r\n",
      "\r\n",
      "Iteration    Objective       Primal Inf.    Dual Inf.      Time\r\n",
      "       0   -3.3339040e+06   3.838389e+05   0.000000e+00      0s\r\n",
      "      45    1.3363448e+06   0.000000e+00   0.000000e+00      0s\r\n",
      "\r\n",
      "Solved in 45 iterations and 0.00 seconds\r\n",
      "Optimal objective  1.336344810e+06\r\n",
      "\r\n",
      "User-callback calls 88, time in user-callback 0.00 sec\r\n"
     ]
    },
    {
     "data": {
      "text/plain": [
       "Dict{String, Any} with 3 entries:\n",
       "  \"opt_y\"   => [0.0 0.0 … 0.0 0.0; 0.0 0.0 … 0.0 48270.3; … ; 0.0 0.0 … 0.0 0.0…\n",
       "  \"opt_obj\" => 1.33634e6\n",
       "  \"opt_x\"   => [0.0 0.0 … 0.0 0.0; 48270.3 0.0 … 0.0 0.0; … ; 0.0 0.0 … 0.0 0.0…"
      ]
     },
     "execution_count": 69,
     "metadata": {},
     "output_type": "execute_result"
    }
   ],
   "source": [
    "tesla_eo = EO_SS_Model(\"Ecological\")"
   ]
  },
  {
   "cell_type": "code",
   "execution_count": 70,
   "id": "32f62291",
   "metadata": {},
   "outputs": [
    {
     "name": "stdout",
     "output_type": "stream",
     "text": [
      "Academic license - for non-commercial use only - expires 2024-12-26\r\n",
      "Gurobi Optimizer version 9.1.2 build v9.1.2rc0 (win64)\r\n",
      "Thread count: 6 physical cores, 12 logical processors, using up to 12 threads\r\n",
      "Optimize a model with 554 rows, 2340 columns and 5184 nonzeros\r\n",
      "Model fingerprint: 0xd706de45\r\n",
      "Coefficient statistics:\r\n",
      "  Matrix range     [4e-03, 1e+00]\r\n",
      "  Objective range  [7e-02, 5e+01]\r\n",
      "  Bounds range     [0e+00, 0e+00]\r\n",
      "  RHS range        [5e+02, 1e+11]\r\n",
      "Warning: Model contains large rhs\r\n",
      "         Consider reformulating model or setting NumericFocus parameter\r\n",
      "         to avoid numerical issues.\r\n",
      "Presolve removed 416 rows and 1947 columns\r\n",
      "Presolve time: 0.00s\r\n",
      "Presolved: 138 rows, 393 columns, 962 nonzeros\r\n",
      "\r\n",
      "Iteration    Objective       Primal Inf.    Dual Inf.      Time\r\n",
      "       0   -7.5118538e+07   3.753092e+06   0.000000e+00      0s\r\n",
      "     139   -1.2276735e+07   0.000000e+00   0.000000e+00      0s\r\n",
      "\r\n",
      "Solved in 139 iterations and 0.00 seconds\r\n",
      "Optimal objective -1.227673453e+07\r\n",
      "\r\n",
      "User-callback calls 182, time in user-callback 0.00 sec\r\n"
     ]
    },
    {
     "data": {
      "text/plain": [
       "Dict{String, Any} with 3 entries:\n",
       "  \"opt_y\"   => [0.0 0.0 … 0.0 0.0; 0.0 0.0 … 48895.7 0.0; … ; 0.0 0.0 … 0.0 0.0…\n",
       "  \"opt_obj\" => -1.22767e7\n",
       "  \"opt_x\"   => [0.0 0.0 … 0.0 0.0; 48895.7 7000.0 … 0.0 0.0; … ; 0.0 0.0 … 0.0 …"
      ]
     },
     "execution_count": 70,
     "metadata": {},
     "output_type": "execute_result"
    }
   ],
   "source": [
    "tesla_ss = EO_SS_Model(\"Social\")"
   ]
  },
  {
   "cell_type": "code",
   "execution_count": 71,
   "id": "0b65f576",
   "metadata": {},
   "outputs": [],
   "source": [
    "EO1_tesla = tesla_eo[\"opt_obj\"]\n",
    "SS1_tesla = tesla_ss[\"opt_obj\"]\n",
    "ss_x_tesla = tesla_ss[\"opt_x\"]\n",
    "ss_y_tesla = tesla_ss[\"opt_y\"]\n",
    "eo_x_tesla = tesla_eo[\"opt_x\"]\n",
    "eo_y_tesla = tesla_eo[\"opt_y\"];"
   ]
  },
  {
   "cell_type": "code",
   "execution_count": 72,
   "id": "a0742bcc",
   "metadata": {},
   "outputs": [],
   "source": [
    "EO2_tesla = net_emi(ss_x_tesla, ss_y_tesla)\n",
    "SS2_tesla = soc_ss(eo_x_tesla, eo_y_tesla);"
   ]
  },
  {
   "cell_type": "code",
   "execution_count": 73,
   "id": "05d09511",
   "metadata": {},
   "outputs": [
    {
     "name": "stdout",
     "output_type": "stream",
     "text": [
      "Academic license - for non-commercial use only - expires 2024-12-26\r\n",
      "Academic license - for non-commercial use only - expires 2024-12-26\r\n",
      "Academic license - for non-commercial use only - expires 2024-12-26\r\n",
      "Academic license - for non-commercial use only - expires 2024-12-26\r\n",
      "Academic license - for non-commercial use only - expires 2024-12-26\r\n"
     ]
    },
    {
     "data": {
      "text/plain": [
       "(Any[-9.1934813271811e6, -1.0699242937837709e7, -1.1677720218908057e7, -1.2051640882783424e7, -1.227673452730028e7], Any[1.33634480957356e6, 2.6421255015690466e6, 3.947906193564533e6, 5.253686885560019e6, 6.559467577555506e6])"
      ]
     },
     "execution_count": 73,
     "metadata": {},
     "output_type": "execute_result"
    }
   ],
   "source": [
    "tesla_ss, tesla_eo = ep_constraint(4, EO1_tesla, EO2_tesla)"
   ]
  },
  {
   "cell_type": "code",
   "execution_count": 74,
   "id": "aba4c8aa",
   "metadata": {},
   "outputs": [
    {
     "data": {
      "text/plain": [
       "\"C:/Users/bourg/.julia/environments/batterySC/Li-battery-SC/src/deterministic/data/result/PERATO_tesla.csv\""
      ]
     },
     "execution_count": 74,
     "metadata": {},
     "output_type": "execute_result"
    }
   ],
   "source": [
    "perato2 = DataFrame([tesla_eo, tesla_ss],:auto)\n",
    "rename!(perato2,[\"EO\", \"SS\"])\n",
    "CSV.write(\"C:/Users/bourg/.julia/environments/batterySC/Li-battery-SC/src/deterministic/data/result/PERATO_tesla.csv\", perato2)"
   ]
  },
  {
   "cell_type": "code",
   "execution_count": 75,
   "id": "15c83f94",
   "metadata": {},
   "outputs": [
    {
     "data": {
      "image/svg+xml": [
       "<?xml version=\"1.0\" encoding=\"utf-8\"?>\n",
       "<svg xmlns=\"http://www.w3.org/2000/svg\" xmlns:xlink=\"http://www.w3.org/1999/xlink\" width=\"600\" height=\"400\" viewBox=\"0 0 2400 1600\">\n",
       "<defs>\n",
       "  <clipPath id=\"clip770\">\n",
       "    <rect x=\"0\" y=\"0\" width=\"2400\" height=\"1600\"/>\n",
       "  </clipPath>\n",
       "</defs>\n",
       "<path clip-path=\"url(#clip770)\" d=\"\n",
       "M0 1600 L2400 1600 L2400 0 L0 0  Z\n",
       "  \" fill=\"#ffffff\" fill-rule=\"evenodd\" fill-opacity=\"1\"/>\n",
       "<defs>\n",
       "  <clipPath id=\"clip771\">\n",
       "    <rect x=\"480\" y=\"0\" width=\"1681\" height=\"1600\"/>\n",
       "  </clipPath>\n",
       "</defs>\n",
       "<path clip-path=\"url(#clip770)\" d=\"\n",
       "M405.467 1410.9 L2352.76 1410.9 L2352.76 123.472 L405.467 123.472  Z\n",
       "  \" fill=\"#ffffff\" fill-rule=\"evenodd\" fill-opacity=\"1\"/>\n",
       "<defs>\n",
       "  <clipPath id=\"clip772\">\n",
       "    <rect x=\"405\" y=\"123\" width=\"1948\" height=\"1288\"/>\n",
       "  </clipPath>\n",
       "</defs>\n",
       "<polyline clip-path=\"url(#clip772)\" style=\"stroke:#000000; stroke-linecap:round; stroke-linejoin:round; stroke-width:2; stroke-opacity:0.1; fill:none\" points=\"\n",
       "  486.309,1410.9 486.309,123.472 \n",
       "  \"/>\n",
       "<polyline clip-path=\"url(#clip772)\" style=\"stroke:#000000; stroke-linecap:round; stroke-linejoin:round; stroke-width:2; stroke-opacity:0.1; fill:none\" points=\"\n",
       "  757.829,1410.9 757.829,123.472 \n",
       "  \"/>\n",
       "<polyline clip-path=\"url(#clip772)\" style=\"stroke:#000000; stroke-linecap:round; stroke-linejoin:round; stroke-width:2; stroke-opacity:0.1; fill:none\" points=\"\n",
       "  1029.35,1410.9 1029.35,123.472 \n",
       "  \"/>\n",
       "<polyline clip-path=\"url(#clip772)\" style=\"stroke:#000000; stroke-linecap:round; stroke-linejoin:round; stroke-width:2; stroke-opacity:0.1; fill:none\" points=\"\n",
       "  1300.87,1410.9 1300.87,123.472 \n",
       "  \"/>\n",
       "<polyline clip-path=\"url(#clip772)\" style=\"stroke:#000000; stroke-linecap:round; stroke-linejoin:round; stroke-width:2; stroke-opacity:0.1; fill:none\" points=\"\n",
       "  1572.39,1410.9 1572.39,123.472 \n",
       "  \"/>\n",
       "<polyline clip-path=\"url(#clip772)\" style=\"stroke:#000000; stroke-linecap:round; stroke-linejoin:round; stroke-width:2; stroke-opacity:0.1; fill:none\" points=\"\n",
       "  1843.91,1410.9 1843.91,123.472 \n",
       "  \"/>\n",
       "<polyline clip-path=\"url(#clip772)\" style=\"stroke:#000000; stroke-linecap:round; stroke-linejoin:round; stroke-width:2; stroke-opacity:0.1; fill:none\" points=\"\n",
       "  2115.43,1410.9 2115.43,123.472 \n",
       "  \"/>\n",
       "<polyline clip-path=\"url(#clip770)\" style=\"stroke:#000000; stroke-linecap:round; stroke-linejoin:round; stroke-width:4; stroke-opacity:1; fill:none\" points=\"\n",
       "  405.467,1410.9 2352.76,1410.9 \n",
       "  \"/>\n",
       "<polyline clip-path=\"url(#clip770)\" style=\"stroke:#000000; stroke-linecap:round; stroke-linejoin:round; stroke-width:4; stroke-opacity:1; fill:none\" points=\"\n",
       "  486.309,1410.9 486.309,1392 \n",
       "  \"/>\n",
       "<polyline clip-path=\"url(#clip770)\" style=\"stroke:#000000; stroke-linecap:round; stroke-linejoin:round; stroke-width:4; stroke-opacity:1; fill:none\" points=\"\n",
       "  757.829,1410.9 757.829,1392 \n",
       "  \"/>\n",
       "<polyline clip-path=\"url(#clip770)\" style=\"stroke:#000000; stroke-linecap:round; stroke-linejoin:round; stroke-width:4; stroke-opacity:1; fill:none\" points=\"\n",
       "  1029.35,1410.9 1029.35,1392 \n",
       "  \"/>\n",
       "<polyline clip-path=\"url(#clip770)\" style=\"stroke:#000000; stroke-linecap:round; stroke-linejoin:round; stroke-width:4; stroke-opacity:1; fill:none\" points=\"\n",
       "  1300.87,1410.9 1300.87,1392 \n",
       "  \"/>\n",
       "<polyline clip-path=\"url(#clip770)\" style=\"stroke:#000000; stroke-linecap:round; stroke-linejoin:round; stroke-width:4; stroke-opacity:1; fill:none\" points=\"\n",
       "  1572.39,1410.9 1572.39,1392 \n",
       "  \"/>\n",
       "<polyline clip-path=\"url(#clip770)\" style=\"stroke:#000000; stroke-linecap:round; stroke-linejoin:round; stroke-width:4; stroke-opacity:1; fill:none\" points=\"\n",
       "  1843.91,1410.9 1843.91,1392 \n",
       "  \"/>\n",
       "<polyline clip-path=\"url(#clip770)\" style=\"stroke:#000000; stroke-linecap:round; stroke-linejoin:round; stroke-width:4; stroke-opacity:1; fill:none\" points=\"\n",
       "  2115.43,1410.9 2115.43,1392 \n",
       "  \"/>\n",
       "<path clip-path=\"url(#clip770)\" d=\"M393.744 1485.02 L401.383 1485.02 L401.383 1458.66 L393.072 1460.32 L393.072 1456.06 L401.336 1454.4 L406.012 1454.4 L406.012 1485.02 L413.651 1485.02 L413.651 1488.96 L393.744 1488.96 L393.744 1485.02 Z\" fill=\"#000000\" fill-rule=\"evenodd\" fill-opacity=\"1\" /><path clip-path=\"url(#clip770)\" d=\"M423.095 1483.08 L427.98 1483.08 L427.98 1488.96 L423.095 1488.96 L423.095 1483.08 Z\" fill=\"#000000\" fill-rule=\"evenodd\" fill-opacity=\"1\" /><path clip-path=\"url(#clip770)\" d=\"M448.165 1457.48 Q444.554 1457.48 442.725 1461.04 Q440.919 1464.58 440.919 1471.71 Q440.919 1478.82 442.725 1482.38 Q444.554 1485.92 448.165 1485.92 Q451.799 1485.92 453.604 1482.38 Q455.433 1478.82 455.433 1471.71 Q455.433 1464.58 453.604 1461.04 Q451.799 1457.48 448.165 1457.48 M448.165 1453.77 Q453.975 1453.77 457.03 1458.38 Q460.109 1462.96 460.109 1471.71 Q460.109 1480.44 457.03 1485.04 Q453.975 1489.63 448.165 1489.63 Q442.355 1489.63 439.276 1485.04 Q436.22 1480.44 436.22 1471.71 Q436.22 1462.96 439.276 1458.38 Q442.355 1453.77 448.165 1453.77 Z\" fill=\"#000000\" fill-rule=\"evenodd\" fill-opacity=\"1\" /><path clip-path=\"url(#clip770)\" d=\"M496.498 1463.49 L485.919 1474.12 L496.498 1484.7 L493.743 1487.5 L483.118 1476.87 L472.493 1487.5 L469.762 1484.7 L480.317 1474.12 L469.762 1463.49 L472.493 1460.69 L483.118 1471.32 L493.743 1460.69 L496.498 1463.49 Z\" fill=\"#000000\" fill-rule=\"evenodd\" fill-opacity=\"1\" /><path clip-path=\"url(#clip770)\" d=\"M508.859 1485.02 L516.498 1485.02 L516.498 1458.66 L508.188 1460.32 L508.188 1456.06 L516.451 1454.4 L521.127 1454.4 L521.127 1485.02 L528.766 1485.02 L528.766 1488.96 L508.859 1488.96 L508.859 1485.02 Z\" fill=\"#000000\" fill-rule=\"evenodd\" fill-opacity=\"1\" /><path clip-path=\"url(#clip770)\" d=\"M548.21 1457.48 Q544.599 1457.48 542.771 1461.04 Q540.965 1464.58 540.965 1471.71 Q540.965 1478.82 542.771 1482.38 Q544.599 1485.92 548.21 1485.92 Q551.845 1485.92 553.65 1482.38 Q555.479 1478.82 555.479 1471.71 Q555.479 1464.58 553.65 1461.04 Q551.845 1457.48 548.21 1457.48 M548.21 1453.77 Q554.021 1453.77 557.076 1458.38 Q560.155 1462.96 560.155 1471.71 Q560.155 1480.44 557.076 1485.04 Q554.021 1489.63 548.21 1489.63 Q542.4 1489.63 539.322 1485.04 Q536.266 1480.44 536.266 1471.71 Q536.266 1462.96 539.322 1458.38 Q542.4 1453.77 548.21 1453.77 Z\" fill=\"#000000\" fill-rule=\"evenodd\" fill-opacity=\"1\" /><path clip-path=\"url(#clip770)\" d=\"M570.179 1445.99 Q567.622 1445.99 566.117 1447.74 Q564.631 1449.49 564.631 1452.54 Q564.631 1455.57 566.117 1457.33 Q567.622 1459.08 570.179 1459.08 Q572.737 1459.08 574.223 1457.33 Q575.728 1455.57 575.728 1452.54 Q575.728 1449.49 574.223 1447.74 Q572.737 1445.99 570.179 1445.99 M577.721 1434.09 L577.721 1437.55 Q576.292 1436.87 574.825 1436.51 Q573.377 1436.16 571.947 1436.16 Q568.186 1436.16 566.192 1438.69 Q564.217 1441.23 563.935 1446.37 Q565.045 1444.73 566.719 1443.87 Q568.393 1442.98 570.405 1442.98 Q574.637 1442.98 577.082 1445.56 Q579.546 1448.12 579.546 1452.54 Q579.546 1456.86 576.988 1459.48 Q574.43 1462.09 570.179 1462.09 Q565.308 1462.09 562.732 1458.37 Q560.155 1454.62 560.155 1447.53 Q560.155 1440.88 563.315 1436.93 Q566.474 1432.96 571.797 1432.96 Q573.226 1432.96 574.674 1433.24 Q576.141 1433.52 577.721 1434.09 Z\" fill=\"#000000\" fill-rule=\"evenodd\" fill-opacity=\"1\" /><path clip-path=\"url(#clip770)\" d=\"M669.349 1485.02 L685.668 1485.02 L685.668 1488.96 L663.724 1488.96 L663.724 1485.02 Q666.386 1482.27 670.969 1477.64 Q675.576 1472.98 676.756 1471.64 Q679.002 1469.12 679.881 1467.38 Q680.784 1465.62 680.784 1463.93 Q680.784 1461.18 678.84 1459.44 Q676.918 1457.71 673.817 1457.71 Q671.617 1457.71 669.164 1458.47 Q666.733 1459.23 663.955 1460.79 L663.955 1456.06 Q666.78 1454.93 669.233 1454.35 Q671.687 1453.77 673.724 1453.77 Q679.094 1453.77 682.289 1456.46 Q685.483 1459.14 685.483 1463.63 Q685.483 1465.76 684.673 1467.68 Q683.886 1469.58 681.779 1472.17 Q681.201 1472.85 678.099 1476.06 Q674.997 1479.26 669.349 1485.02 Z\" fill=\"#000000\" fill-rule=\"evenodd\" fill-opacity=\"1\" /><path clip-path=\"url(#clip770)\" d=\"M695.483 1483.08 L700.367 1483.08 L700.367 1488.96 L695.483 1488.96 L695.483 1483.08 Z\" fill=\"#000000\" fill-rule=\"evenodd\" fill-opacity=\"1\" /><path clip-path=\"url(#clip770)\" d=\"M720.552 1457.48 Q716.941 1457.48 715.113 1461.04 Q713.307 1464.58 713.307 1471.71 Q713.307 1478.82 715.113 1482.38 Q716.941 1485.92 720.552 1485.92 Q724.187 1485.92 725.992 1482.38 Q727.821 1478.82 727.821 1471.71 Q727.821 1464.58 725.992 1461.04 Q724.187 1457.48 720.552 1457.48 M720.552 1453.77 Q726.363 1453.77 729.418 1458.38 Q732.497 1462.96 732.497 1471.71 Q732.497 1480.44 729.418 1485.04 Q726.363 1489.63 720.552 1489.63 Q714.742 1489.63 711.664 1485.04 Q708.608 1480.44 708.608 1471.71 Q708.608 1462.96 711.664 1458.38 Q714.742 1453.77 720.552 1453.77 Z\" fill=\"#000000\" fill-rule=\"evenodd\" fill-opacity=\"1\" /><path clip-path=\"url(#clip770)\" d=\"M768.885 1463.49 L758.307 1474.12 L768.885 1484.7 L766.131 1487.5 L755.506 1476.87 L744.881 1487.5 L742.149 1484.7 L752.705 1474.12 L742.149 1463.49 L744.881 1460.69 L755.506 1471.32 L766.131 1460.69 L768.885 1463.49 Z\" fill=\"#000000\" fill-rule=\"evenodd\" fill-opacity=\"1\" /><path clip-path=\"url(#clip770)\" d=\"M781.247 1485.02 L788.885 1485.02 L788.885 1458.66 L780.575 1460.32 L780.575 1456.06 L788.839 1454.4 L793.515 1454.4 L793.515 1485.02 L801.154 1485.02 L801.154 1488.96 L781.247 1488.96 L781.247 1485.02 Z\" fill=\"#000000\" fill-rule=\"evenodd\" fill-opacity=\"1\" /><path clip-path=\"url(#clip770)\" d=\"M820.598 1457.48 Q816.987 1457.48 815.158 1461.04 Q813.353 1464.58 813.353 1471.71 Q813.353 1478.82 815.158 1482.38 Q816.987 1485.92 820.598 1485.92 Q824.232 1485.92 826.038 1482.38 Q827.867 1478.82 827.867 1471.71 Q827.867 1464.58 826.038 1461.04 Q824.232 1457.48 820.598 1457.48 M820.598 1453.77 Q826.408 1453.77 829.464 1458.38 Q832.543 1462.96 832.543 1471.71 Q832.543 1480.44 829.464 1485.04 Q826.408 1489.63 820.598 1489.63 Q814.788 1489.63 811.709 1485.04 Q808.654 1480.44 808.654 1471.71 Q808.654 1462.96 811.709 1458.38 Q814.788 1453.77 820.598 1453.77 Z\" fill=\"#000000\" fill-rule=\"evenodd\" fill-opacity=\"1\" /><path clip-path=\"url(#clip770)\" d=\"M842.567 1445.99 Q840.009 1445.99 838.505 1447.74 Q837.019 1449.49 837.019 1452.54 Q837.019 1455.57 838.505 1457.33 Q840.009 1459.08 842.567 1459.08 Q845.125 1459.08 846.611 1457.33 Q848.115 1455.57 848.115 1452.54 Q848.115 1449.49 846.611 1447.74 Q845.125 1445.99 842.567 1445.99 M850.109 1434.09 L850.109 1437.55 Q848.68 1436.87 847.213 1436.51 Q845.764 1436.16 844.335 1436.16 Q840.573 1436.16 838.58 1438.69 Q836.605 1441.23 836.323 1446.37 Q837.433 1444.73 839.106 1443.87 Q840.78 1442.98 842.793 1442.98 Q847.025 1442.98 849.47 1445.56 Q851.933 1448.12 851.933 1452.54 Q851.933 1456.86 849.375 1459.48 Q846.818 1462.09 842.567 1462.09 Q837.696 1462.09 835.119 1458.37 Q832.543 1454.62 832.543 1447.53 Q832.543 1440.88 835.702 1436.93 Q838.862 1432.96 844.185 1432.96 Q845.614 1432.96 847.062 1433.24 Q848.529 1433.52 850.109 1434.09 Z\" fill=\"#000000\" fill-rule=\"evenodd\" fill-opacity=\"1\" /><path clip-path=\"url(#clip770)\" d=\"M950.938 1470.32 Q954.294 1471.04 956.169 1473.31 Q958.068 1475.58 958.068 1478.91 Q958.068 1484.03 954.549 1486.83 Q951.031 1489.63 944.549 1489.63 Q942.373 1489.63 940.058 1489.19 Q937.767 1488.77 935.313 1487.91 L935.313 1483.4 Q937.257 1484.54 939.572 1485.11 Q941.887 1485.69 944.41 1485.69 Q948.808 1485.69 951.1 1483.96 Q953.415 1482.22 953.415 1478.91 Q953.415 1475.85 951.262 1474.14 Q949.132 1472.41 945.313 1472.41 L941.285 1472.41 L941.285 1468.56 L945.498 1468.56 Q948.947 1468.56 950.776 1467.2 Q952.605 1465.81 952.605 1463.22 Q952.605 1460.55 950.706 1459.14 Q948.831 1457.71 945.313 1457.71 Q943.392 1457.71 941.193 1458.12 Q938.994 1458.54 936.355 1459.42 L936.355 1455.25 Q939.017 1454.51 941.332 1454.14 Q943.669 1453.77 945.73 1453.77 Q951.054 1453.77 954.156 1456.2 Q957.257 1458.61 957.257 1462.73 Q957.257 1465.6 955.614 1467.59 Q953.97 1469.56 950.938 1470.32 Z\" fill=\"#000000\" fill-rule=\"evenodd\" fill-opacity=\"1\" /><path clip-path=\"url(#clip770)\" d=\"M966.933 1483.08 L971.817 1483.08 L971.817 1488.96 L966.933 1488.96 L966.933 1483.08 Z\" fill=\"#000000\" fill-rule=\"evenodd\" fill-opacity=\"1\" /><path clip-path=\"url(#clip770)\" d=\"M992.003 1457.48 Q988.391 1457.48 986.563 1461.04 Q984.757 1464.58 984.757 1471.71 Q984.757 1478.82 986.563 1482.38 Q988.391 1485.92 992.003 1485.92 Q995.637 1485.92 997.442 1482.38 Q999.271 1478.82 999.271 1471.71 Q999.271 1464.58 997.442 1461.04 Q995.637 1457.48 992.003 1457.48 M992.003 1453.77 Q997.813 1453.77 1000.87 1458.38 Q1003.95 1462.96 1003.95 1471.71 Q1003.95 1480.44 1000.87 1485.04 Q997.813 1489.63 992.003 1489.63 Q986.192 1489.63 983.114 1485.04 Q980.058 1480.44 980.058 1471.71 Q980.058 1462.96 983.114 1458.38 Q986.192 1453.77 992.003 1453.77 Z\" fill=\"#000000\" fill-rule=\"evenodd\" fill-opacity=\"1\" /><path clip-path=\"url(#clip770)\" d=\"M1040.34 1463.49 L1029.76 1474.12 L1040.34 1484.7 L1037.58 1487.5 L1026.96 1476.87 L1016.33 1487.5 L1013.6 1484.7 L1024.16 1474.12 L1013.6 1463.49 L1016.33 1460.69 L1026.96 1471.32 L1037.58 1460.69 L1040.34 1463.49 Z\" fill=\"#000000\" fill-rule=\"evenodd\" fill-opacity=\"1\" /><path clip-path=\"url(#clip770)\" d=\"M1052.7 1485.02 L1060.34 1485.02 L1060.34 1458.66 L1052.03 1460.32 L1052.03 1456.06 L1060.29 1454.4 L1064.97 1454.4 L1064.97 1485.02 L1072.6 1485.02 L1072.6 1488.96 L1052.7 1488.96 L1052.7 1485.02 Z\" fill=\"#000000\" fill-rule=\"evenodd\" fill-opacity=\"1\" /><path clip-path=\"url(#clip770)\" d=\"M1092.05 1457.48 Q1088.44 1457.48 1086.61 1461.04 Q1084.8 1464.58 1084.8 1471.71 Q1084.8 1478.82 1086.61 1482.38 Q1088.44 1485.92 1092.05 1485.92 Q1095.68 1485.92 1097.49 1482.38 Q1099.32 1478.82 1099.32 1471.71 Q1099.32 1464.58 1097.49 1461.04 Q1095.68 1457.48 1092.05 1457.48 M1092.05 1453.77 Q1097.86 1453.77 1100.91 1458.38 Q1103.99 1462.96 1103.99 1471.71 Q1103.99 1480.44 1100.91 1485.04 Q1097.86 1489.63 1092.05 1489.63 Q1086.24 1489.63 1083.16 1485.04 Q1080.1 1480.44 1080.1 1471.71 Q1080.1 1462.96 1083.16 1458.38 Q1086.24 1453.77 1092.05 1453.77 Z\" fill=\"#000000\" fill-rule=\"evenodd\" fill-opacity=\"1\" /><path clip-path=\"url(#clip770)\" d=\"M1114.02 1445.99 Q1111.46 1445.99 1109.95 1447.74 Q1108.47 1449.49 1108.47 1452.54 Q1108.47 1455.57 1109.95 1457.33 Q1111.46 1459.08 1114.02 1459.08 Q1116.58 1459.08 1118.06 1457.33 Q1119.57 1455.57 1119.57 1452.54 Q1119.57 1449.49 1118.06 1447.74 Q1116.58 1445.99 1114.02 1445.99 M1121.56 1434.09 L1121.56 1437.55 Q1120.13 1436.87 1118.66 1436.51 Q1117.21 1436.16 1115.79 1436.16 Q1112.02 1436.16 1110.03 1438.69 Q1108.06 1441.23 1107.77 1446.37 Q1108.88 1444.73 1110.56 1443.87 Q1112.23 1442.98 1114.24 1442.98 Q1118.47 1442.98 1120.92 1445.56 Q1123.38 1448.12 1123.38 1452.54 Q1123.38 1456.86 1120.83 1459.48 Q1118.27 1462.09 1114.02 1462.09 Q1109.15 1462.09 1106.57 1458.37 Q1103.99 1454.62 1103.99 1447.53 Q1103.99 1440.88 1107.15 1436.93 Q1110.31 1432.96 1115.63 1432.96 Q1117.06 1432.96 1118.51 1433.24 Q1119.98 1433.52 1121.56 1434.09 Z\" fill=\"#000000\" fill-rule=\"evenodd\" fill-opacity=\"1\" /><path clip-path=\"url(#clip770)\" d=\"M1221.79 1458.47 L1209.98 1476.92 L1221.79 1476.92 L1221.79 1458.47 M1220.56 1454.4 L1226.44 1454.4 L1226.44 1476.92 L1231.37 1476.92 L1231.37 1480.81 L1226.44 1480.81 L1226.44 1488.96 L1221.79 1488.96 L1221.79 1480.81 L1206.18 1480.81 L1206.18 1476.29 L1220.56 1454.4 Z\" fill=\"#000000\" fill-rule=\"evenodd\" fill-opacity=\"1\" /><path clip-path=\"url(#clip770)\" d=\"M1239.1 1483.08 L1243.99 1483.08 L1243.99 1488.96 L1239.1 1488.96 L1239.1 1483.08 Z\" fill=\"#000000\" fill-rule=\"evenodd\" fill-opacity=\"1\" /><path clip-path=\"url(#clip770)\" d=\"M1264.17 1457.48 Q1260.56 1457.48 1258.73 1461.04 Q1256.92 1464.58 1256.92 1471.71 Q1256.92 1478.82 1258.73 1482.38 Q1260.56 1485.92 1264.17 1485.92 Q1267.8 1485.92 1269.61 1482.38 Q1271.44 1478.82 1271.44 1471.71 Q1271.44 1464.58 1269.61 1461.04 Q1267.8 1457.48 1264.17 1457.48 M1264.17 1453.77 Q1269.98 1453.77 1273.04 1458.38 Q1276.11 1462.96 1276.11 1471.71 Q1276.11 1480.44 1273.04 1485.04 Q1269.98 1489.63 1264.17 1489.63 Q1258.36 1489.63 1255.28 1485.04 Q1252.23 1480.44 1252.23 1471.71 Q1252.23 1462.96 1255.28 1458.38 Q1258.36 1453.77 1264.17 1453.77 Z\" fill=\"#000000\" fill-rule=\"evenodd\" fill-opacity=\"1\" /><path clip-path=\"url(#clip770)\" d=\"M1312.5 1463.49 L1301.92 1474.12 L1312.5 1484.7 L1309.75 1487.5 L1299.12 1476.87 L1288.5 1487.5 L1285.77 1484.7 L1296.32 1474.12 L1285.77 1463.49 L1288.5 1460.69 L1299.12 1471.32 L1309.75 1460.69 L1312.5 1463.49 Z\" fill=\"#000000\" fill-rule=\"evenodd\" fill-opacity=\"1\" /><path clip-path=\"url(#clip770)\" d=\"M1324.86 1485.02 L1332.5 1485.02 L1332.5 1458.66 L1324.19 1460.32 L1324.19 1456.06 L1332.46 1454.4 L1337.13 1454.4 L1337.13 1485.02 L1344.77 1485.02 L1344.77 1488.96 L1324.86 1488.96 L1324.86 1485.02 Z\" fill=\"#000000\" fill-rule=\"evenodd\" fill-opacity=\"1\" /><path clip-path=\"url(#clip770)\" d=\"M1364.22 1457.48 Q1360.6 1457.48 1358.78 1461.04 Q1356.97 1464.58 1356.97 1471.71 Q1356.97 1478.82 1358.78 1482.38 Q1360.6 1485.92 1364.22 1485.92 Q1367.85 1485.92 1369.66 1482.38 Q1371.48 1478.82 1371.48 1471.71 Q1371.48 1464.58 1369.66 1461.04 Q1367.85 1457.48 1364.22 1457.48 M1364.22 1453.77 Q1370.03 1453.77 1373.08 1458.38 Q1376.16 1462.96 1376.16 1471.71 Q1376.16 1480.44 1373.08 1485.04 Q1370.03 1489.63 1364.22 1489.63 Q1358.41 1489.63 1355.33 1485.04 Q1352.27 1480.44 1352.27 1471.71 Q1352.27 1462.96 1355.33 1458.38 Q1358.41 1453.77 1364.22 1453.77 Z\" fill=\"#000000\" fill-rule=\"evenodd\" fill-opacity=\"1\" /><path clip-path=\"url(#clip770)\" d=\"M1386.19 1445.99 Q1383.63 1445.99 1382.12 1447.74 Q1380.64 1449.49 1380.64 1452.54 Q1380.64 1455.57 1382.12 1457.33 Q1383.63 1459.08 1386.19 1459.08 Q1388.74 1459.08 1390.23 1457.33 Q1391.73 1455.57 1391.73 1452.54 Q1391.73 1449.49 1390.23 1447.74 Q1388.74 1445.99 1386.19 1445.99 M1393.73 1434.09 L1393.73 1437.55 Q1392.3 1436.87 1390.83 1436.51 Q1389.38 1436.16 1387.95 1436.16 Q1384.19 1436.16 1382.2 1438.69 Q1380.22 1441.23 1379.94 1446.37 Q1381.05 1444.73 1382.72 1443.87 Q1384.4 1442.98 1386.41 1442.98 Q1390.64 1442.98 1393.09 1445.56 Q1395.55 1448.12 1395.55 1452.54 Q1395.55 1456.86 1392.99 1459.48 Q1390.44 1462.09 1386.19 1462.09 Q1381.31 1462.09 1378.74 1458.37 Q1376.16 1454.62 1376.16 1447.53 Q1376.16 1440.88 1379.32 1436.93 Q1382.48 1432.96 1387.8 1432.96 Q1389.23 1432.96 1390.68 1433.24 Q1392.15 1433.52 1393.73 1434.09 Z\" fill=\"#000000\" fill-rule=\"evenodd\" fill-opacity=\"1\" /><path clip-path=\"url(#clip770)\" d=\"M1479.83 1454.4 L1498.19 1454.4 L1498.19 1458.33 L1484.12 1458.33 L1484.12 1466.8 Q1485.13 1466.46 1486.15 1466.29 Q1487.17 1466.11 1488.19 1466.11 Q1493.98 1466.11 1497.36 1469.28 Q1500.74 1472.45 1500.74 1477.87 Q1500.74 1483.45 1497.26 1486.55 Q1493.79 1489.63 1487.47 1489.63 Q1485.3 1489.63 1483.03 1489.26 Q1480.78 1488.89 1478.38 1488.15 L1478.38 1483.45 Q1480.46 1484.58 1482.68 1485.14 Q1484.9 1485.69 1487.38 1485.69 Q1491.38 1485.69 1493.72 1483.59 Q1496.06 1481.48 1496.06 1477.87 Q1496.06 1474.26 1493.72 1472.15 Q1491.38 1470.04 1487.38 1470.04 Q1485.51 1470.04 1483.63 1470.46 Q1481.78 1470.88 1479.83 1471.76 L1479.83 1454.4 Z\" fill=\"#000000\" fill-rule=\"evenodd\" fill-opacity=\"1\" /><path clip-path=\"url(#clip770)\" d=\"M1509.95 1483.08 L1514.83 1483.08 L1514.83 1488.96 L1509.95 1488.96 L1509.95 1483.08 Z\" fill=\"#000000\" fill-rule=\"evenodd\" fill-opacity=\"1\" /><path clip-path=\"url(#clip770)\" d=\"M1535.02 1457.48 Q1531.41 1457.48 1529.58 1461.04 Q1527.77 1464.58 1527.77 1471.71 Q1527.77 1478.82 1529.58 1482.38 Q1531.41 1485.92 1535.02 1485.92 Q1538.65 1485.92 1540.46 1482.38 Q1542.29 1478.82 1542.29 1471.71 Q1542.29 1464.58 1540.46 1461.04 Q1538.65 1457.48 1535.02 1457.48 M1535.02 1453.77 Q1540.83 1453.77 1543.88 1458.38 Q1546.96 1462.96 1546.96 1471.71 Q1546.96 1480.44 1543.88 1485.04 Q1540.83 1489.63 1535.02 1489.63 Q1529.21 1489.63 1526.13 1485.04 Q1523.07 1480.44 1523.07 1471.71 Q1523.07 1462.96 1526.13 1458.38 Q1529.21 1453.77 1535.02 1453.77 Z\" fill=\"#000000\" fill-rule=\"evenodd\" fill-opacity=\"1\" /><path clip-path=\"url(#clip770)\" d=\"M1583.35 1463.49 L1572.77 1474.12 L1583.35 1484.7 L1580.6 1487.5 L1569.97 1476.87 L1559.35 1487.5 L1556.62 1484.7 L1567.17 1474.12 L1556.62 1463.49 L1559.35 1460.69 L1569.97 1471.32 L1580.6 1460.69 L1583.35 1463.49 Z\" fill=\"#000000\" fill-rule=\"evenodd\" fill-opacity=\"1\" /><path clip-path=\"url(#clip770)\" d=\"M1595.71 1485.02 L1603.35 1485.02 L1603.35 1458.66 L1595.04 1460.32 L1595.04 1456.06 L1603.31 1454.4 L1607.98 1454.4 L1607.98 1485.02 L1615.62 1485.02 L1615.62 1488.96 L1595.71 1488.96 L1595.71 1485.02 Z\" fill=\"#000000\" fill-rule=\"evenodd\" fill-opacity=\"1\" /><path clip-path=\"url(#clip770)\" d=\"M1635.06 1457.48 Q1631.45 1457.48 1629.62 1461.04 Q1627.82 1464.58 1627.82 1471.71 Q1627.82 1478.82 1629.62 1482.38 Q1631.45 1485.92 1635.06 1485.92 Q1638.7 1485.92 1640.5 1482.38 Q1642.33 1478.82 1642.33 1471.71 Q1642.33 1464.58 1640.5 1461.04 Q1638.7 1457.48 1635.06 1457.48 M1635.06 1453.77 Q1640.87 1453.77 1643.93 1458.38 Q1647.01 1462.96 1647.01 1471.71 Q1647.01 1480.44 1643.93 1485.04 Q1640.87 1489.63 1635.06 1489.63 Q1629.25 1489.63 1626.18 1485.04 Q1623.12 1480.44 1623.12 1471.71 Q1623.12 1462.96 1626.18 1458.38 Q1629.25 1453.77 1635.06 1453.77 Z\" fill=\"#000000\" fill-rule=\"evenodd\" fill-opacity=\"1\" /><path clip-path=\"url(#clip770)\" d=\"M1657.03 1445.99 Q1654.48 1445.99 1652.97 1447.74 Q1651.49 1449.49 1651.49 1452.54 Q1651.49 1455.57 1652.97 1457.33 Q1654.48 1459.08 1657.03 1459.08 Q1659.59 1459.08 1661.08 1457.33 Q1662.58 1455.57 1662.58 1452.54 Q1662.58 1449.49 1661.08 1447.74 Q1659.59 1445.99 1657.03 1445.99 M1664.58 1434.09 L1664.58 1437.55 Q1663.15 1436.87 1661.68 1436.51 Q1660.23 1436.16 1658.8 1436.16 Q1655.04 1436.16 1653.05 1438.69 Q1651.07 1441.23 1650.79 1446.37 Q1651.9 1444.73 1653.57 1443.87 Q1655.25 1442.98 1657.26 1442.98 Q1661.49 1442.98 1663.94 1445.56 Q1666.4 1448.12 1666.4 1452.54 Q1666.4 1456.86 1663.84 1459.48 Q1661.28 1462.09 1657.03 1462.09 Q1652.16 1462.09 1649.59 1458.37 Q1647.01 1454.62 1647.01 1447.53 Q1647.01 1440.88 1650.17 1436.93 Q1653.33 1432.96 1658.65 1432.96 Q1660.08 1432.96 1661.53 1433.24 Q1663 1433.52 1664.58 1434.09 Z\" fill=\"#000000\" fill-rule=\"evenodd\" fill-opacity=\"1\" /><path clip-path=\"url(#clip770)\" d=\"M1762.06 1469.81 Q1758.91 1469.81 1757.06 1471.97 Q1755.23 1474.12 1755.23 1477.87 Q1755.23 1481.6 1757.06 1483.77 Q1758.91 1485.92 1762.06 1485.92 Q1765.21 1485.92 1767.04 1483.77 Q1768.89 1481.6 1768.89 1477.87 Q1768.89 1474.12 1767.04 1471.97 Q1765.21 1469.81 1762.06 1469.81 M1771.34 1455.16 L1771.34 1459.42 Q1769.58 1458.59 1767.78 1458.15 Q1765.99 1457.71 1764.24 1457.71 Q1759.61 1457.71 1757.15 1460.83 Q1754.72 1463.96 1754.37 1470.28 Q1755.74 1468.26 1757.8 1467.2 Q1759.86 1466.11 1762.34 1466.11 Q1767.55 1466.11 1770.55 1469.28 Q1773.59 1472.43 1773.59 1477.87 Q1773.59 1483.19 1770.44 1486.41 Q1767.29 1489.63 1762.06 1489.63 Q1756.06 1489.63 1752.89 1485.04 Q1749.72 1480.44 1749.72 1471.71 Q1749.72 1463.52 1753.61 1458.66 Q1757.5 1453.77 1764.05 1453.77 Q1765.81 1453.77 1767.59 1454.12 Q1769.4 1454.47 1771.34 1455.16 Z\" fill=\"#000000\" fill-rule=\"evenodd\" fill-opacity=\"1\" /><path clip-path=\"url(#clip770)\" d=\"M1781.64 1483.08 L1786.53 1483.08 L1786.53 1488.96 L1781.64 1488.96 L1781.64 1483.08 Z\" fill=\"#000000\" fill-rule=\"evenodd\" fill-opacity=\"1\" /><path clip-path=\"url(#clip770)\" d=\"M1806.71 1457.48 Q1803.1 1457.48 1801.27 1461.04 Q1799.47 1464.58 1799.47 1471.71 Q1799.47 1478.82 1801.27 1482.38 Q1803.1 1485.92 1806.71 1485.92 Q1810.35 1485.92 1812.15 1482.38 Q1813.98 1478.82 1813.98 1471.71 Q1813.98 1464.58 1812.15 1461.04 Q1810.35 1457.48 1806.71 1457.48 M1806.71 1453.77 Q1812.52 1453.77 1815.58 1458.38 Q1818.66 1462.96 1818.66 1471.71 Q1818.66 1480.44 1815.58 1485.04 Q1812.52 1489.63 1806.71 1489.63 Q1800.9 1489.63 1797.82 1485.04 Q1794.77 1480.44 1794.77 1471.71 Q1794.77 1462.96 1797.82 1458.38 Q1800.9 1453.77 1806.71 1453.77 Z\" fill=\"#000000\" fill-rule=\"evenodd\" fill-opacity=\"1\" /><path clip-path=\"url(#clip770)\" d=\"M1855.04 1463.49 L1844.47 1474.12 L1855.04 1484.7 L1852.29 1487.5 L1841.67 1476.87 L1831.04 1487.5 L1828.31 1484.7 L1838.86 1474.12 L1828.31 1463.49 L1831.04 1460.69 L1841.67 1471.32 L1852.29 1460.69 L1855.04 1463.49 Z\" fill=\"#000000\" fill-rule=\"evenodd\" fill-opacity=\"1\" /><path clip-path=\"url(#clip770)\" d=\"M1867.41 1485.02 L1875.04 1485.02 L1875.04 1458.66 L1866.73 1460.32 L1866.73 1456.06 L1875 1454.4 L1879.67 1454.4 L1879.67 1485.02 L1887.31 1485.02 L1887.31 1488.96 L1867.41 1488.96 L1867.41 1485.02 Z\" fill=\"#000000\" fill-rule=\"evenodd\" fill-opacity=\"1\" /><path clip-path=\"url(#clip770)\" d=\"M1906.76 1457.48 Q1903.15 1457.48 1901.32 1461.04 Q1899.51 1464.58 1899.51 1471.71 Q1899.51 1478.82 1901.32 1482.38 Q1903.15 1485.92 1906.76 1485.92 Q1910.39 1485.92 1912.2 1482.38 Q1914.03 1478.82 1914.03 1471.71 Q1914.03 1464.58 1912.2 1461.04 Q1910.39 1457.48 1906.76 1457.48 M1906.76 1453.77 Q1912.57 1453.77 1915.62 1458.38 Q1918.7 1462.96 1918.7 1471.71 Q1918.7 1480.44 1915.62 1485.04 Q1912.57 1489.63 1906.76 1489.63 Q1900.95 1489.63 1897.87 1485.04 Q1894.81 1480.44 1894.81 1471.71 Q1894.81 1462.96 1897.87 1458.38 Q1900.95 1453.77 1906.76 1453.77 Z\" fill=\"#000000\" fill-rule=\"evenodd\" fill-opacity=\"1\" /><path clip-path=\"url(#clip770)\" d=\"M1928.73 1445.99 Q1926.17 1445.99 1924.66 1447.74 Q1923.18 1449.49 1923.18 1452.54 Q1923.18 1455.57 1924.66 1457.33 Q1926.17 1459.08 1928.73 1459.08 Q1931.28 1459.08 1932.77 1457.33 Q1934.27 1455.57 1934.27 1452.54 Q1934.27 1449.49 1932.77 1447.74 Q1931.28 1445.99 1928.73 1445.99 M1936.27 1434.09 L1936.27 1437.55 Q1934.84 1436.87 1933.37 1436.51 Q1931.92 1436.16 1930.49 1436.16 Q1926.73 1436.16 1924.74 1438.69 Q1922.76 1441.23 1922.48 1446.37 Q1923.59 1444.73 1925.27 1443.87 Q1926.94 1442.98 1928.95 1442.98 Q1933.18 1442.98 1935.63 1445.56 Q1938.09 1448.12 1938.09 1452.54 Q1938.09 1456.86 1935.53 1459.48 Q1932.98 1462.09 1928.73 1462.09 Q1923.86 1462.09 1921.28 1458.37 Q1918.7 1454.62 1918.7 1447.53 Q1918.7 1440.88 1921.86 1436.93 Q1925.02 1432.96 1930.34 1432.96 Q1931.77 1432.96 1933.22 1433.24 Q1934.69 1433.52 1936.27 1434.09 Z\" fill=\"#000000\" fill-rule=\"evenodd\" fill-opacity=\"1\" /><path clip-path=\"url(#clip770)\" d=\"M2021.53 1454.4 L2043.75 1454.4 L2043.75 1456.39 L2031.21 1488.96 L2026.32 1488.96 L2038.13 1458.33 L2021.53 1458.33 L2021.53 1454.4 Z\" fill=\"#000000\" fill-rule=\"evenodd\" fill-opacity=\"1\" /><path clip-path=\"url(#clip770)\" d=\"M2052.87 1483.08 L2057.76 1483.08 L2057.76 1488.96 L2052.87 1488.96 L2052.87 1483.08 Z\" fill=\"#000000\" fill-rule=\"evenodd\" fill-opacity=\"1\" /><path clip-path=\"url(#clip770)\" d=\"M2077.94 1457.48 Q2074.33 1457.48 2072.5 1461.04 Q2070.7 1464.58 2070.7 1471.71 Q2070.7 1478.82 2072.5 1482.38 Q2074.33 1485.92 2077.94 1485.92 Q2081.58 1485.92 2083.38 1482.38 Q2085.21 1478.82 2085.21 1471.71 Q2085.21 1464.58 2083.38 1461.04 Q2081.58 1457.48 2077.94 1457.48 M2077.94 1453.77 Q2083.75 1453.77 2086.81 1458.38 Q2089.89 1462.96 2089.89 1471.71 Q2089.89 1480.44 2086.81 1485.04 Q2083.75 1489.63 2077.94 1489.63 Q2072.13 1489.63 2069.05 1485.04 Q2066 1480.44 2066 1471.71 Q2066 1462.96 2069.05 1458.38 Q2072.13 1453.77 2077.94 1453.77 Z\" fill=\"#000000\" fill-rule=\"evenodd\" fill-opacity=\"1\" /><path clip-path=\"url(#clip770)\" d=\"M2126.28 1463.49 L2115.7 1474.12 L2126.28 1484.7 L2123.52 1487.5 L2112.9 1476.87 L2102.27 1487.5 L2099.54 1484.7 L2110.09 1474.12 L2099.54 1463.49 L2102.27 1460.69 L2112.9 1471.32 L2123.52 1460.69 L2126.28 1463.49 Z\" fill=\"#000000\" fill-rule=\"evenodd\" fill-opacity=\"1\" /><path clip-path=\"url(#clip770)\" d=\"M2138.64 1485.02 L2146.28 1485.02 L2146.28 1458.66 L2137.96 1460.32 L2137.96 1456.06 L2146.23 1454.4 L2150.9 1454.4 L2150.9 1485.02 L2158.54 1485.02 L2158.54 1488.96 L2138.64 1488.96 L2138.64 1485.02 Z\" fill=\"#000000\" fill-rule=\"evenodd\" fill-opacity=\"1\" /><path clip-path=\"url(#clip770)\" d=\"M2177.99 1457.48 Q2174.38 1457.48 2172.55 1461.04 Q2170.74 1464.58 2170.74 1471.71 Q2170.74 1478.82 2172.55 1482.38 Q2174.38 1485.92 2177.99 1485.92 Q2181.62 1485.92 2183.43 1482.38 Q2185.26 1478.82 2185.26 1471.71 Q2185.26 1464.58 2183.43 1461.04 Q2181.62 1457.48 2177.99 1457.48 M2177.99 1453.77 Q2183.8 1453.77 2186.85 1458.38 Q2189.93 1462.96 2189.93 1471.71 Q2189.93 1480.44 2186.85 1485.04 Q2183.8 1489.63 2177.99 1489.63 Q2172.18 1489.63 2169.1 1485.04 Q2166.04 1480.44 2166.04 1471.71 Q2166.04 1462.96 2169.1 1458.38 Q2172.18 1453.77 2177.99 1453.77 Z\" fill=\"#000000\" fill-rule=\"evenodd\" fill-opacity=\"1\" /><path clip-path=\"url(#clip770)\" d=\"M2199.96 1445.99 Q2197.4 1445.99 2195.89 1447.74 Q2194.41 1449.49 2194.41 1452.54 Q2194.41 1455.57 2195.89 1457.33 Q2197.4 1459.08 2199.96 1459.08 Q2202.51 1459.08 2204 1457.33 Q2205.51 1455.57 2205.51 1452.54 Q2205.51 1449.49 2204 1447.74 Q2202.51 1445.99 2199.96 1445.99 M2207.5 1434.09 L2207.5 1437.55 Q2206.07 1436.87 2204.6 1436.51 Q2203.15 1436.16 2201.72 1436.16 Q2197.96 1436.16 2195.97 1438.69 Q2193.99 1441.23 2193.71 1446.37 Q2194.82 1444.73 2196.5 1443.87 Q2198.17 1442.98 2200.18 1442.98 Q2204.41 1442.98 2206.86 1445.56 Q2209.32 1448.12 2209.32 1452.54 Q2209.32 1456.86 2206.77 1459.48 Q2204.21 1462.09 2199.96 1462.09 Q2195.09 1462.09 2192.51 1458.37 Q2189.93 1454.62 2189.93 1447.53 Q2189.93 1440.88 2193.09 1436.93 Q2196.25 1432.96 2201.57 1432.96 Q2203 1432.96 2204.45 1433.24 Q2205.92 1433.52 2207.5 1434.09 Z\" fill=\"#000000\" fill-rule=\"evenodd\" fill-opacity=\"1\" /><path clip-path=\"url(#clip770)\" d=\"M1109.01 1526.67 L1139.06 1526.67 L1139.06 1532.08 L1115.44 1532.08 L1115.44 1546.14 L1138.07 1546.14 L1138.07 1551.56 L1115.44 1551.56 L1115.44 1568.77 L1139.63 1568.77 L1139.63 1574.19 L1109.01 1574.19 L1109.01 1526.67 Z\" fill=\"#000000\" fill-rule=\"evenodd\" fill-opacity=\"1\" /><path clip-path=\"url(#clip770)\" d=\"M1175.6 1539.91 L1175.6 1545.38 Q1173.12 1544.01 1170.6 1543.34 Q1168.12 1542.64 1165.57 1542.64 Q1159.88 1542.64 1156.73 1546.27 Q1153.57 1549.87 1153.57 1556.39 Q1153.57 1562.92 1156.73 1566.55 Q1159.88 1570.14 1165.57 1570.14 Q1168.12 1570.14 1170.6 1569.47 Q1173.12 1568.77 1175.6 1567.41 L1175.6 1572.82 Q1173.15 1573.96 1170.51 1574.54 Q1167.9 1575.11 1164.94 1575.11 Q1156.88 1575.11 1152.14 1570.05 Q1147.4 1564.99 1147.4 1556.39 Q1147.4 1547.67 1152.17 1542.68 Q1156.98 1537.68 1165.32 1537.68 Q1168.02 1537.68 1170.6 1538.25 Q1173.18 1538.79 1175.6 1539.91 Z\" fill=\"#000000\" fill-rule=\"evenodd\" fill-opacity=\"1\" /><path clip-path=\"url(#clip770)\" d=\"M1199.6 1542.64 Q1194.89 1542.64 1192.15 1546.34 Q1189.41 1550 1189.41 1556.39 Q1189.41 1562.79 1192.12 1566.48 Q1194.86 1570.14 1199.6 1570.14 Q1204.28 1570.14 1207.01 1566.45 Q1209.75 1562.76 1209.75 1556.39 Q1209.75 1550.06 1207.01 1546.37 Q1204.28 1542.64 1199.6 1542.64 M1199.6 1537.68 Q1207.24 1537.68 1211.6 1542.64 Q1215.96 1547.61 1215.96 1556.39 Q1215.96 1565.15 1211.6 1570.14 Q1207.24 1575.11 1199.6 1575.11 Q1191.93 1575.11 1187.57 1570.14 Q1183.24 1565.15 1183.24 1556.39 Q1183.24 1547.61 1187.57 1542.64 Q1191.93 1537.68 1199.6 1537.68 Z\" fill=\"#000000\" fill-rule=\"evenodd\" fill-opacity=\"1\" /><path clip-path=\"url(#clip770)\" d=\"M1225.67 1524.66 L1231.52 1524.66 L1231.52 1574.19 L1225.67 1574.19 L1225.67 1524.66 Z\" fill=\"#000000\" fill-rule=\"evenodd\" fill-opacity=\"1\" /><path clip-path=\"url(#clip770)\" d=\"M1257.59 1542.64 Q1252.88 1542.64 1250.14 1546.34 Q1247.41 1550 1247.41 1556.39 Q1247.41 1562.79 1250.11 1566.48 Q1252.85 1570.14 1257.59 1570.14 Q1262.27 1570.14 1265.01 1566.45 Q1267.74 1562.76 1267.74 1556.39 Q1267.74 1550.06 1265.01 1546.37 Q1262.27 1542.64 1257.59 1542.64 M1257.59 1537.68 Q1265.23 1537.68 1269.59 1542.64 Q1273.95 1547.61 1273.95 1556.39 Q1273.95 1565.15 1269.59 1570.14 Q1265.23 1575.11 1257.59 1575.11 Q1249.92 1575.11 1245.56 1570.14 Q1241.23 1565.15 1241.23 1556.39 Q1241.23 1547.61 1245.56 1542.64 Q1249.92 1537.68 1257.59 1537.68 Z\" fill=\"#000000\" fill-rule=\"evenodd\" fill-opacity=\"1\" /><path clip-path=\"url(#clip770)\" d=\"M1307.12 1555.95 Q1307.12 1549.58 1304.47 1546.08 Q1301.86 1542.58 1297.12 1542.58 Q1292.41 1542.58 1289.77 1546.08 Q1287.16 1549.58 1287.16 1555.95 Q1287.16 1562.28 1289.77 1565.78 Q1292.41 1569.28 1297.12 1569.28 Q1301.86 1569.28 1304.47 1565.78 Q1307.12 1562.28 1307.12 1555.95 M1312.97 1569.76 Q1312.97 1578.86 1308.93 1583.29 Q1304.89 1587.74 1296.55 1587.74 Q1293.46 1587.74 1290.72 1587.27 Q1287.99 1586.82 1285.41 1585.87 L1285.41 1580.17 Q1287.99 1581.57 1290.5 1582.24 Q1293.02 1582.91 1295.63 1582.91 Q1301.39 1582.91 1304.25 1579.88 Q1307.12 1576.89 1307.12 1570.81 L1307.12 1567.92 Q1305.3 1571.07 1302.47 1572.63 Q1299.64 1574.19 1295.69 1574.19 Q1289.13 1574.19 1285.12 1569.19 Q1281.11 1564.19 1281.11 1555.95 Q1281.11 1547.67 1285.12 1542.68 Q1289.13 1537.68 1295.69 1537.68 Q1299.64 1537.68 1302.47 1539.24 Q1305.3 1540.8 1307.12 1543.95 L1307.12 1538.54 L1312.97 1538.54 L1312.97 1569.76 Z\" fill=\"#000000\" fill-rule=\"evenodd\" fill-opacity=\"1\" /><path clip-path=\"url(#clip770)\" d=\"M1325.03 1538.54 L1330.89 1538.54 L1330.89 1574.19 L1325.03 1574.19 L1325.03 1538.54 M1325.03 1524.66 L1330.89 1524.66 L1330.89 1532.08 L1325.03 1532.08 L1325.03 1524.66 Z\" fill=\"#000000\" fill-rule=\"evenodd\" fill-opacity=\"1\" /><path clip-path=\"url(#clip770)\" d=\"M1368.8 1539.91 L1368.8 1545.38 Q1366.32 1544.01 1363.8 1543.34 Q1361.32 1542.64 1358.77 1542.64 Q1353.08 1542.64 1349.92 1546.27 Q1346.77 1549.87 1346.77 1556.39 Q1346.77 1562.92 1349.92 1566.55 Q1353.08 1570.14 1358.77 1570.14 Q1361.32 1570.14 1363.8 1569.47 Q1366.32 1568.77 1368.8 1567.41 L1368.8 1572.82 Q1366.35 1573.96 1363.71 1574.54 Q1361.1 1575.11 1358.14 1575.11 Q1350.08 1575.11 1345.34 1570.05 Q1340.6 1564.99 1340.6 1556.39 Q1340.6 1547.67 1345.37 1542.68 Q1350.18 1537.68 1358.52 1537.68 Q1361.22 1537.68 1363.8 1538.25 Q1366.38 1538.79 1368.8 1539.91 Z\" fill=\"#000000\" fill-rule=\"evenodd\" fill-opacity=\"1\" /><path clip-path=\"url(#clip770)\" d=\"M1395.18 1556.27 Q1388.09 1556.27 1385.35 1557.89 Q1382.61 1559.51 1382.61 1563.43 Q1382.61 1566.55 1384.65 1568.39 Q1386.72 1570.21 1390.25 1570.21 Q1395.12 1570.21 1398.05 1566.77 Q1401.01 1563.3 1401.01 1557.57 L1401.01 1556.27 L1395.18 1556.27 M1406.87 1553.85 L1406.87 1574.19 L1401.01 1574.19 L1401.01 1568.77 Q1399 1572.02 1396.01 1573.58 Q1393.02 1575.11 1388.69 1575.11 Q1383.22 1575.11 1379.97 1572.05 Q1376.76 1568.97 1376.76 1563.81 Q1376.76 1557.79 1380.77 1554.74 Q1384.81 1551.68 1392.8 1551.68 L1401.01 1551.68 L1401.01 1551.11 Q1401.01 1547.07 1398.34 1544.87 Q1395.69 1542.64 1390.89 1542.64 Q1387.83 1542.64 1384.94 1543.38 Q1382.04 1544.11 1379.37 1545.57 L1379.37 1540.16 Q1382.58 1538.92 1385.6 1538.31 Q1388.63 1537.68 1391.49 1537.68 Q1399.23 1537.68 1403.05 1541.69 Q1406.87 1545.7 1406.87 1553.85 Z\" fill=\"#000000\" fill-rule=\"evenodd\" fill-opacity=\"1\" /><path clip-path=\"url(#clip770)\" d=\"M1418.93 1524.66 L1424.79 1524.66 L1424.79 1574.19 L1418.93 1574.19 L1418.93 1524.66 Z\" fill=\"#000000\" fill-rule=\"evenodd\" fill-opacity=\"1\" /><path clip-path=\"url(#clip770)\" d=\"M1437.04 1524.66 L1442.9 1524.66 L1442.9 1574.19 L1437.04 1574.19 L1437.04 1524.66 Z\" fill=\"#000000\" fill-rule=\"evenodd\" fill-opacity=\"1\" /><path clip-path=\"url(#clip770)\" d=\"M1469.98 1577.5 Q1467.5 1583.86 1465.14 1585.8 Q1462.79 1587.74 1458.84 1587.74 L1454.16 1587.74 L1454.16 1582.84 L1457.6 1582.84 Q1460.02 1582.84 1461.36 1581.7 Q1462.69 1580.55 1464.32 1576.29 L1465.37 1573.61 L1450.95 1538.54 L1457.16 1538.54 L1468.3 1566.42 L1479.44 1538.54 L1485.64 1538.54 L1469.98 1577.5 Z\" fill=\"#000000\" fill-rule=\"evenodd\" fill-opacity=\"1\" /><path clip-path=\"url(#clip770)\" d=\"M1543.19 1528.23 L1543.19 1534.5 Q1539.53 1532.74 1536.28 1531.89 Q1533.03 1531.03 1530.01 1531.03 Q1524.76 1531.03 1521.89 1533.06 Q1519.06 1535.1 1519.06 1538.86 Q1519.06 1542.01 1520.94 1543.63 Q1522.85 1545.22 1528.13 1546.21 L1532.02 1547 Q1539.21 1548.37 1542.61 1551.84 Q1546.05 1555.28 1546.05 1561.07 Q1546.05 1567.98 1541.41 1571.54 Q1536.79 1575.11 1527.85 1575.11 Q1524.47 1575.11 1520.65 1574.34 Q1516.87 1573.58 1512.79 1572.08 L1512.79 1565.46 Q1516.71 1567.66 1520.46 1568.77 Q1524.22 1569.89 1527.85 1569.89 Q1533.35 1569.89 1536.34 1567.72 Q1539.34 1565.56 1539.34 1561.55 Q1539.34 1558.05 1537.17 1556.08 Q1535.04 1554.1 1530.14 1553.11 L1526.22 1552.35 Q1519.03 1550.92 1515.82 1547.86 Q1512.6 1544.81 1512.6 1539.37 Q1512.6 1533.06 1517.02 1529.43 Q1521.48 1525.81 1529.28 1525.81 Q1532.62 1525.81 1536.09 1526.41 Q1539.56 1527.02 1543.19 1528.23 Z\" fill=\"#000000\" fill-rule=\"evenodd\" fill-opacity=\"1\" /><path clip-path=\"url(#clip770)\" d=\"M1572.02 1556.27 Q1564.93 1556.27 1562.19 1557.89 Q1559.45 1559.51 1559.45 1563.43 Q1559.45 1566.55 1561.49 1568.39 Q1563.56 1570.21 1567.09 1570.21 Q1571.96 1570.21 1574.89 1566.77 Q1577.85 1563.3 1577.85 1557.57 L1577.85 1556.27 L1572.02 1556.27 M1583.71 1553.85 L1583.71 1574.19 L1577.85 1574.19 L1577.85 1568.77 Q1575.84 1572.02 1572.85 1573.58 Q1569.86 1575.11 1565.53 1575.11 Q1560.06 1575.11 1556.81 1572.05 Q1553.6 1568.97 1553.6 1563.81 Q1553.6 1557.79 1557.61 1554.74 Q1561.65 1551.68 1569.64 1551.68 L1577.85 1551.68 L1577.85 1551.11 Q1577.85 1547.07 1575.18 1544.87 Q1572.53 1542.64 1567.73 1542.64 Q1564.67 1542.64 1561.78 1543.38 Q1558.88 1544.11 1556.21 1545.57 L1556.21 1540.16 Q1559.42 1538.92 1562.44 1538.31 Q1565.47 1537.68 1568.33 1537.68 Q1576.07 1537.68 1579.89 1541.69 Q1583.71 1545.7 1583.71 1553.85 Z\" fill=\"#000000\" fill-rule=\"evenodd\" fill-opacity=\"1\" /><path clip-path=\"url(#clip770)\" d=\"M1613.82 1524.66 L1613.82 1529.53 L1608.21 1529.53 Q1605.06 1529.53 1603.82 1530.8 Q1602.61 1532.08 1602.61 1535.39 L1602.61 1538.54 L1612.26 1538.54 L1612.26 1543.09 L1602.61 1543.09 L1602.61 1574.19 L1596.72 1574.19 L1596.72 1543.09 L1591.12 1543.09 L1591.12 1538.54 L1596.72 1538.54 L1596.72 1536.05 Q1596.72 1530.1 1599.49 1527.4 Q1602.26 1524.66 1608.28 1524.66 L1613.82 1524.66 Z\" fill=\"#000000\" fill-rule=\"evenodd\" fill-opacity=\"1\" /><path clip-path=\"url(#clip770)\" d=\"M1649.21 1554.9 L1649.21 1557.76 L1622.28 1557.76 Q1622.66 1563.81 1625.91 1566.99 Q1629.19 1570.14 1635.01 1570.14 Q1638.39 1570.14 1641.54 1569.32 Q1644.72 1568.49 1647.84 1566.83 L1647.84 1572.37 Q1644.69 1573.71 1641.38 1574.41 Q1638.07 1575.11 1634.66 1575.11 Q1626.13 1575.11 1621.14 1570.14 Q1616.17 1565.18 1616.17 1556.71 Q1616.17 1547.96 1620.88 1542.83 Q1625.62 1537.68 1633.64 1537.68 Q1640.84 1537.68 1645.01 1542.33 Q1649.21 1546.94 1649.21 1554.9 M1643.35 1553.18 Q1643.29 1548.37 1640.65 1545.51 Q1638.04 1542.64 1633.71 1542.64 Q1628.81 1542.64 1625.85 1545.41 Q1622.92 1548.18 1622.47 1553.21 L1643.35 1553.18 Z\" fill=\"#000000\" fill-rule=\"evenodd\" fill-opacity=\"1\" /><polyline clip-path=\"url(#clip772)\" style=\"stroke:#000000; stroke-linecap:round; stroke-linejoin:round; stroke-width:2; stroke-opacity:0.1; fill:none\" points=\"\n",
       "  405.467,1322.54 2352.76,1322.54 \n",
       "  \"/>\n",
       "<polyline clip-path=\"url(#clip772)\" style=\"stroke:#000000; stroke-linecap:round; stroke-linejoin:round; stroke-width:2; stroke-opacity:0.1; fill:none\" points=\"\n",
       "  405.467,1019.01 2352.76,1019.01 \n",
       "  \"/>\n",
       "<polyline clip-path=\"url(#clip772)\" style=\"stroke:#000000; stroke-linecap:round; stroke-linejoin:round; stroke-width:2; stroke-opacity:0.1; fill:none\" points=\"\n",
       "  405.467,715.481 2352.76,715.481 \n",
       "  \"/>\n",
       "<polyline clip-path=\"url(#clip772)\" style=\"stroke:#000000; stroke-linecap:round; stroke-linejoin:round; stroke-width:2; stroke-opacity:0.1; fill:none\" points=\"\n",
       "  405.467,411.954 2352.76,411.954 \n",
       "  \"/>\n",
       "<polyline clip-path=\"url(#clip770)\" style=\"stroke:#000000; stroke-linecap:round; stroke-linejoin:round; stroke-width:4; stroke-opacity:1; fill:none\" points=\"\n",
       "  405.467,1410.9 405.467,123.472 \n",
       "  \"/>\n",
       "<polyline clip-path=\"url(#clip770)\" style=\"stroke:#000000; stroke-linecap:round; stroke-linejoin:round; stroke-width:4; stroke-opacity:1; fill:none\" points=\"\n",
       "  405.467,1322.54 424.365,1322.54 \n",
       "  \"/>\n",
       "<polyline clip-path=\"url(#clip770)\" style=\"stroke:#000000; stroke-linecap:round; stroke-linejoin:round; stroke-width:4; stroke-opacity:1; fill:none\" points=\"\n",
       "  405.467,1019.01 424.365,1019.01 \n",
       "  \"/>\n",
       "<polyline clip-path=\"url(#clip770)\" style=\"stroke:#000000; stroke-linecap:round; stroke-linejoin:round; stroke-width:4; stroke-opacity:1; fill:none\" points=\"\n",
       "  405.467,715.481 424.365,715.481 \n",
       "  \"/>\n",
       "<polyline clip-path=\"url(#clip770)\" style=\"stroke:#000000; stroke-linecap:round; stroke-linejoin:round; stroke-width:4; stroke-opacity:1; fill:none\" points=\"\n",
       "  405.467,411.954 424.365,411.954 \n",
       "  \"/>\n",
       "<path clip-path=\"url(#clip770)\" d=\"M114.26 1329.44 L143.936 1329.44 L143.936 1333.37 L114.26 1333.37 L114.26 1329.44 Z\" fill=\"#000000\" fill-rule=\"evenodd\" fill-opacity=\"1\" /><path clip-path=\"url(#clip770)\" d=\"M154.839 1342.33 L162.477 1342.33 L162.477 1315.96 L154.167 1317.63 L154.167 1313.37 L162.431 1311.7 L167.107 1311.7 L167.107 1342.33 L174.746 1342.33 L174.746 1346.26 L154.839 1346.26 L154.839 1342.33 Z\" fill=\"#000000\" fill-rule=\"evenodd\" fill-opacity=\"1\" /><path clip-path=\"url(#clip770)\" d=\"M184.19 1340.38 L189.075 1340.38 L189.075 1346.26 L184.19 1346.26 L184.19 1340.38 Z\" fill=\"#000000\" fill-rule=\"evenodd\" fill-opacity=\"1\" /><path clip-path=\"url(#clip770)\" d=\"M213.426 1327.63 Q216.783 1328.35 218.658 1330.62 Q220.556 1332.89 220.556 1336.22 Q220.556 1341.33 217.037 1344.13 Q213.519 1346.94 207.037 1346.94 Q204.862 1346.94 202.547 1346.5 Q200.255 1346.08 197.801 1345.22 L197.801 1340.71 Q199.746 1341.84 202.061 1342.42 Q204.375 1343 206.899 1343 Q211.297 1343 213.588 1341.26 Q215.903 1339.53 215.903 1336.22 Q215.903 1333.16 213.75 1331.45 Q211.621 1329.71 207.801 1329.71 L203.774 1329.71 L203.774 1325.87 L207.987 1325.87 Q211.436 1325.87 213.264 1324.51 Q215.093 1323.12 215.093 1320.52 Q215.093 1317.86 213.195 1316.45 Q211.32 1315.01 207.801 1315.01 Q205.88 1315.01 203.681 1315.43 Q201.482 1315.85 198.843 1316.73 L198.843 1312.56 Q201.505 1311.82 203.82 1311.45 Q206.158 1311.08 208.218 1311.08 Q213.542 1311.08 216.644 1313.51 Q219.746 1315.92 219.746 1320.04 Q219.746 1322.91 218.102 1324.9 Q216.459 1326.87 213.426 1327.63 Z\" fill=\"#000000\" fill-rule=\"evenodd\" fill-opacity=\"1\" /><path clip-path=\"url(#clip770)\" d=\"M239.422 1314.78 Q235.81 1314.78 233.982 1318.35 Q232.176 1321.89 232.176 1329.02 Q232.176 1336.13 233.982 1339.69 Q235.81 1343.23 239.422 1343.23 Q243.056 1343.23 244.861 1339.69 Q246.69 1336.13 246.69 1329.02 Q246.69 1321.89 244.861 1318.35 Q243.056 1314.78 239.422 1314.78 M239.422 1311.08 Q245.232 1311.08 248.287 1315.69 Q251.366 1320.27 251.366 1329.02 Q251.366 1337.75 248.287 1342.35 Q245.232 1346.94 239.422 1346.94 Q233.611 1346.94 230.533 1342.35 Q227.477 1337.75 227.477 1329.02 Q227.477 1320.27 230.533 1315.69 Q233.611 1311.08 239.422 1311.08 Z\" fill=\"#000000\" fill-rule=\"evenodd\" fill-opacity=\"1\" /><path clip-path=\"url(#clip770)\" d=\"M287.755 1320.8 L277.176 1331.43 L287.755 1342.01 L285 1344.81 L274.375 1334.18 L263.75 1344.81 L261.019 1342.01 L271.574 1331.43 L261.019 1320.8 L263.75 1318 L274.375 1328.63 L285 1318 L287.755 1320.8 Z\" fill=\"#000000\" fill-rule=\"evenodd\" fill-opacity=\"1\" /><path clip-path=\"url(#clip770)\" d=\"M300.116 1342.33 L307.754 1342.33 L307.754 1315.96 L299.444 1317.63 L299.444 1313.37 L307.708 1311.7 L312.384 1311.7 L312.384 1342.33 L320.023 1342.33 L320.023 1346.26 L300.116 1346.26 L300.116 1342.33 Z\" fill=\"#000000\" fill-rule=\"evenodd\" fill-opacity=\"1\" /><path clip-path=\"url(#clip770)\" d=\"M339.467 1314.78 Q335.856 1314.78 334.027 1318.35 Q332.222 1321.89 332.222 1329.02 Q332.222 1336.13 334.027 1339.69 Q335.856 1343.23 339.467 1343.23 Q343.102 1343.23 344.907 1339.69 Q346.736 1336.13 346.736 1329.02 Q346.736 1321.89 344.907 1318.35 Q343.102 1314.78 339.467 1314.78 M339.467 1311.08 Q345.277 1311.08 348.333 1315.69 Q351.412 1320.27 351.412 1329.02 Q351.412 1337.75 348.333 1342.35 Q345.277 1346.94 339.467 1346.94 Q333.657 1346.94 330.578 1342.35 Q327.523 1337.75 327.523 1329.02 Q327.523 1320.27 330.578 1315.69 Q333.657 1311.08 339.467 1311.08 Z\" fill=\"#000000\" fill-rule=\"evenodd\" fill-opacity=\"1\" /><path clip-path=\"url(#clip770)\" d=\"M351.412 1290.77 L369.467 1290.77 L369.467 1292.39 L359.273 1318.85 L355.305 1318.85 L364.897 1293.97 L351.412 1293.97 L351.412 1290.77 Z\" fill=\"#000000\" fill-rule=\"evenodd\" fill-opacity=\"1\" /><path clip-path=\"url(#clip770)\" d=\"M114.26 1025.91 L143.936 1025.91 L143.936 1029.84 L114.26 1029.84 L114.26 1025.91 Z\" fill=\"#000000\" fill-rule=\"evenodd\" fill-opacity=\"1\" /><path clip-path=\"url(#clip770)\" d=\"M154.839 1038.8 L162.477 1038.8 L162.477 1012.44 L154.167 1014.1 L154.167 1009.84 L162.431 1008.18 L167.107 1008.18 L167.107 1038.8 L174.746 1038.8 L174.746 1042.74 L154.839 1042.74 L154.839 1038.8 Z\" fill=\"#000000\" fill-rule=\"evenodd\" fill-opacity=\"1\" /><path clip-path=\"url(#clip770)\" d=\"M184.19 1036.86 L189.075 1036.86 L189.075 1042.74 L184.19 1042.74 L184.19 1036.86 Z\" fill=\"#000000\" fill-rule=\"evenodd\" fill-opacity=\"1\" /><path clip-path=\"url(#clip770)\" d=\"M203.287 1038.8 L219.607 1038.8 L219.607 1042.74 L197.662 1042.74 L197.662 1038.8 Q200.325 1036.05 204.908 1031.42 Q209.514 1026.76 210.695 1025.42 Q212.94 1022.9 213.82 1021.16 Q214.723 1019.4 214.723 1017.71 Q214.723 1014.96 212.778 1013.22 Q210.857 1011.49 207.755 1011.49 Q205.556 1011.49 203.102 1012.25 Q200.672 1013.01 197.894 1014.57 L197.894 1009.84 Q200.718 1008.71 203.172 1008.13 Q205.625 1007.55 207.662 1007.55 Q213.033 1007.55 216.227 1010.24 Q219.422 1012.92 219.422 1017.41 Q219.422 1019.54 218.611 1021.46 Q217.824 1023.36 215.718 1025.95 Q215.139 1026.63 212.037 1029.84 Q208.936 1033.04 203.287 1038.8 Z\" fill=\"#000000\" fill-rule=\"evenodd\" fill-opacity=\"1\" /><path clip-path=\"url(#clip770)\" d=\"M239.422 1011.26 Q235.81 1011.26 233.982 1014.82 Q232.176 1018.36 232.176 1025.49 Q232.176 1032.6 233.982 1036.16 Q235.81 1039.7 239.422 1039.7 Q243.056 1039.7 244.861 1036.16 Q246.69 1032.6 246.69 1025.49 Q246.69 1018.36 244.861 1014.82 Q243.056 1011.26 239.422 1011.26 M239.422 1007.55 Q245.232 1007.55 248.287 1012.16 Q251.366 1016.74 251.366 1025.49 Q251.366 1034.22 248.287 1038.82 Q245.232 1043.41 239.422 1043.41 Q233.611 1043.41 230.533 1038.82 Q227.477 1034.22 227.477 1025.49 Q227.477 1016.74 230.533 1012.16 Q233.611 1007.55 239.422 1007.55 Z\" fill=\"#000000\" fill-rule=\"evenodd\" fill-opacity=\"1\" /><path clip-path=\"url(#clip770)\" d=\"M287.755 1017.27 L277.176 1027.9 L287.755 1038.48 L285 1041.28 L274.375 1030.65 L263.75 1041.28 L261.019 1038.48 L271.574 1027.9 L261.019 1017.27 L263.75 1014.47 L274.375 1025.1 L285 1014.47 L287.755 1017.27 Z\" fill=\"#000000\" fill-rule=\"evenodd\" fill-opacity=\"1\" /><path clip-path=\"url(#clip770)\" d=\"M300.116 1038.8 L307.754 1038.8 L307.754 1012.44 L299.444 1014.1 L299.444 1009.84 L307.708 1008.18 L312.384 1008.18 L312.384 1038.8 L320.023 1038.8 L320.023 1042.74 L300.116 1042.74 L300.116 1038.8 Z\" fill=\"#000000\" fill-rule=\"evenodd\" fill-opacity=\"1\" /><path clip-path=\"url(#clip770)\" d=\"M339.467 1011.26 Q335.856 1011.26 334.027 1014.82 Q332.222 1018.36 332.222 1025.49 Q332.222 1032.6 334.027 1036.16 Q335.856 1039.7 339.467 1039.7 Q343.102 1039.7 344.907 1036.16 Q346.736 1032.6 346.736 1025.49 Q346.736 1018.36 344.907 1014.82 Q343.102 1011.26 339.467 1011.26 M339.467 1007.55 Q345.277 1007.55 348.333 1012.16 Q351.412 1016.74 351.412 1025.49 Q351.412 1034.22 348.333 1038.82 Q345.277 1043.41 339.467 1043.41 Q333.657 1043.41 330.578 1038.82 Q327.523 1034.22 327.523 1025.49 Q327.523 1016.74 330.578 1012.16 Q333.657 1007.55 339.467 1007.55 Z\" fill=\"#000000\" fill-rule=\"evenodd\" fill-opacity=\"1\" /><path clip-path=\"url(#clip770)\" d=\"M351.412 987.246 L369.467 987.246 L369.467 988.864 L359.273 1015.33 L355.305 1015.33 L364.897 990.444 L351.412 990.444 L351.412 987.246 Z\" fill=\"#000000\" fill-rule=\"evenodd\" fill-opacity=\"1\" /><path clip-path=\"url(#clip770)\" d=\"M114.26 722.38 L143.936 722.38 L143.936 726.316 L114.26 726.316 L114.26 722.38 Z\" fill=\"#000000\" fill-rule=\"evenodd\" fill-opacity=\"1\" /><path clip-path=\"url(#clip770)\" d=\"M154.839 735.274 L162.477 735.274 L162.477 708.908 L154.167 710.575 L154.167 706.316 L162.431 704.649 L167.107 704.649 L167.107 735.274 L174.746 735.274 L174.746 739.209 L154.839 739.209 L154.839 735.274 Z\" fill=\"#000000\" fill-rule=\"evenodd\" fill-opacity=\"1\" /><path clip-path=\"url(#clip770)\" d=\"M184.19 733.329 L189.075 733.329 L189.075 739.209 L184.19 739.209 L184.19 733.329 Z\" fill=\"#000000\" fill-rule=\"evenodd\" fill-opacity=\"1\" /><path clip-path=\"url(#clip770)\" d=\"M200.07 735.274 L207.709 735.274 L207.709 708.908 L199.399 710.575 L199.399 706.316 L207.662 704.649 L212.338 704.649 L212.338 735.274 L219.977 735.274 L219.977 739.209 L200.07 739.209 L200.07 735.274 Z\" fill=\"#000000\" fill-rule=\"evenodd\" fill-opacity=\"1\" /><path clip-path=\"url(#clip770)\" d=\"M239.422 707.728 Q235.81 707.728 233.982 711.292 Q232.176 714.834 232.176 721.964 Q232.176 729.07 233.982 732.635 Q235.81 736.177 239.422 736.177 Q243.056 736.177 244.861 732.635 Q246.69 729.07 246.69 721.964 Q246.69 714.834 244.861 711.292 Q243.056 707.728 239.422 707.728 M239.422 704.024 Q245.232 704.024 248.287 708.63 Q251.366 713.214 251.366 721.964 Q251.366 730.691 248.287 735.297 Q245.232 739.88 239.422 739.88 Q233.611 739.88 230.533 735.297 Q227.477 730.691 227.477 721.964 Q227.477 713.214 230.533 708.63 Q233.611 704.024 239.422 704.024 Z\" fill=\"#000000\" fill-rule=\"evenodd\" fill-opacity=\"1\" /><path clip-path=\"url(#clip770)\" d=\"M287.755 713.746 L277.176 724.371 L287.755 734.95 L285 737.751 L274.375 727.126 L263.75 737.751 L261.019 734.95 L271.574 724.371 L261.019 713.746 L263.75 710.945 L274.375 721.57 L285 710.945 L287.755 713.746 Z\" fill=\"#000000\" fill-rule=\"evenodd\" fill-opacity=\"1\" /><path clip-path=\"url(#clip770)\" d=\"M300.116 735.274 L307.754 735.274 L307.754 708.908 L299.444 710.575 L299.444 706.316 L307.708 704.649 L312.384 704.649 L312.384 735.274 L320.023 735.274 L320.023 739.209 L300.116 739.209 L300.116 735.274 Z\" fill=\"#000000\" fill-rule=\"evenodd\" fill-opacity=\"1\" /><path clip-path=\"url(#clip770)\" d=\"M339.467 707.728 Q335.856 707.728 334.027 711.292 Q332.222 714.834 332.222 721.964 Q332.222 729.07 334.027 732.635 Q335.856 736.177 339.467 736.177 Q343.102 736.177 344.907 732.635 Q346.736 729.07 346.736 721.964 Q346.736 714.834 344.907 711.292 Q343.102 707.728 339.467 707.728 M339.467 704.024 Q345.277 704.024 348.333 708.63 Q351.412 713.214 351.412 721.964 Q351.412 730.691 348.333 735.297 Q345.277 739.88 339.467 739.88 Q333.657 739.88 330.578 735.297 Q327.523 730.691 327.523 721.964 Q327.523 713.214 330.578 708.63 Q333.657 704.024 339.467 704.024 Z\" fill=\"#000000\" fill-rule=\"evenodd\" fill-opacity=\"1\" /><path clip-path=\"url(#clip770)\" d=\"M351.412 683.719 L369.467 683.719 L369.467 685.336 L359.273 711.799 L355.305 711.799 L364.897 686.916 L351.412 686.916 L351.412 683.719 Z\" fill=\"#000000\" fill-rule=\"evenodd\" fill-opacity=\"1\" /><path clip-path=\"url(#clip770)\" d=\"M114.26 418.853 L143.936 418.853 L143.936 422.788 L114.26 422.788 L114.26 418.853 Z\" fill=\"#000000\" fill-rule=\"evenodd\" fill-opacity=\"1\" /><path clip-path=\"url(#clip770)\" d=\"M154.839 431.746 L162.477 431.746 L162.477 405.38 L154.167 407.047 L154.167 402.788 L162.431 401.121 L167.107 401.121 L167.107 431.746 L174.746 431.746 L174.746 435.681 L154.839 435.681 L154.839 431.746 Z\" fill=\"#000000\" fill-rule=\"evenodd\" fill-opacity=\"1\" /><path clip-path=\"url(#clip770)\" d=\"M184.19 429.802 L189.075 429.802 L189.075 435.681 L184.19 435.681 L184.19 429.802 Z\" fill=\"#000000\" fill-rule=\"evenodd\" fill-opacity=\"1\" /><path clip-path=\"url(#clip770)\" d=\"M209.26 404.2 Q205.649 404.2 203.82 407.765 Q202.014 411.306 202.014 418.436 Q202.014 425.542 203.82 429.107 Q205.649 432.649 209.26 432.649 Q212.894 432.649 214.699 429.107 Q216.528 425.542 216.528 418.436 Q216.528 411.306 214.699 407.765 Q212.894 404.2 209.26 404.2 M209.26 400.496 Q215.07 400.496 218.125 405.103 Q221.204 409.686 221.204 418.436 Q221.204 427.163 218.125 431.769 Q215.07 436.353 209.26 436.353 Q203.449 436.353 200.371 431.769 Q197.315 427.163 197.315 418.436 Q197.315 409.686 200.371 405.103 Q203.449 400.496 209.26 400.496 Z\" fill=\"#000000\" fill-rule=\"evenodd\" fill-opacity=\"1\" /><path clip-path=\"url(#clip770)\" d=\"M239.422 404.2 Q235.81 404.2 233.982 407.765 Q232.176 411.306 232.176 418.436 Q232.176 425.542 233.982 429.107 Q235.81 432.649 239.422 432.649 Q243.056 432.649 244.861 429.107 Q246.69 425.542 246.69 418.436 Q246.69 411.306 244.861 407.765 Q243.056 404.2 239.422 404.2 M239.422 400.496 Q245.232 400.496 248.287 405.103 Q251.366 409.686 251.366 418.436 Q251.366 427.163 248.287 431.769 Q245.232 436.353 239.422 436.353 Q233.611 436.353 230.533 431.769 Q227.477 427.163 227.477 418.436 Q227.477 409.686 230.533 405.103 Q233.611 400.496 239.422 400.496 Z\" fill=\"#000000\" fill-rule=\"evenodd\" fill-opacity=\"1\" /><path clip-path=\"url(#clip770)\" d=\"M287.755 410.218 L277.176 420.843 L287.755 431.422 L285 434.223 L274.375 423.598 L263.75 434.223 L261.019 431.422 L271.574 420.843 L261.019 410.218 L263.75 407.417 L274.375 418.042 L285 407.417 L287.755 410.218 Z\" fill=\"#000000\" fill-rule=\"evenodd\" fill-opacity=\"1\" /><path clip-path=\"url(#clip770)\" d=\"M300.116 431.746 L307.754 431.746 L307.754 405.38 L299.444 407.047 L299.444 402.788 L307.708 401.121 L312.384 401.121 L312.384 431.746 L320.023 431.746 L320.023 435.681 L300.116 435.681 L300.116 431.746 Z\" fill=\"#000000\" fill-rule=\"evenodd\" fill-opacity=\"1\" /><path clip-path=\"url(#clip770)\" d=\"M339.467 404.2 Q335.856 404.2 334.027 407.765 Q332.222 411.306 332.222 418.436 Q332.222 425.542 334.027 429.107 Q335.856 432.649 339.467 432.649 Q343.102 432.649 344.907 429.107 Q346.736 425.542 346.736 418.436 Q346.736 411.306 344.907 407.765 Q343.102 404.2 339.467 404.2 M339.467 400.496 Q345.277 400.496 348.333 405.103 Q351.412 409.686 351.412 418.436 Q351.412 427.163 348.333 431.769 Q345.277 436.353 339.467 436.353 Q333.657 436.353 330.578 431.769 Q327.523 427.163 327.523 418.436 Q327.523 409.686 330.578 405.103 Q333.657 400.496 339.467 400.496 Z\" fill=\"#000000\" fill-rule=\"evenodd\" fill-opacity=\"1\" /><path clip-path=\"url(#clip770)\" d=\"M351.412 380.191 L369.467 380.191 L369.467 381.808 L359.273 408.271 L355.305 408.271 L364.897 383.388 L351.412 383.388 L351.412 380.191 Z\" fill=\"#000000\" fill-rule=\"evenodd\" fill-opacity=\"1\" /><path clip-path=\"url(#clip770)\" d=\"M18.0438 929.032 L24.314 929.032 Q22.5634 932.693 21.704 935.939 Q20.8447 939.186 20.8447 942.209 Q20.8447 947.461 22.8817 950.326 Q24.9187 953.159 28.6745 953.159 Q31.8255 953.159 33.4488 951.281 Q35.0402 949.371 36.0269 944.087 L36.8226 940.204 Q38.1912 933.011 41.6605 929.605 Q45.098 926.168 50.8908 926.168 Q57.7976 926.168 61.3624 930.815 Q64.9272 935.43 64.9272 944.374 Q64.9272 947.748 64.1633 951.567 Q63.3994 955.355 61.9035 959.429 L55.2831 959.429 Q57.4793 955.514 58.5933 951.758 Q59.7073 948.002 59.7073 944.374 Q59.7073 938.867 57.543 935.876 Q55.3786 932.884 51.3682 932.884 Q47.8671 932.884 45.8937 935.048 Q43.9204 937.181 42.9337 942.082 L42.1698 945.997 Q40.7375 953.19 37.682 956.405 Q34.6264 959.62 29.1837 959.62 Q22.8817 959.62 19.2532 955.196 Q15.6248 950.74 15.6248 942.942 Q15.6248 939.6 16.2295 936.13 Q16.8343 932.661 18.0438 929.032 Z\" fill=\"#000000\" fill-rule=\"evenodd\" fill-opacity=\"1\" /><path clip-path=\"url(#clip770)\" d=\"M32.4621 902.583 Q32.4621 907.294 36.1542 910.031 Q39.8145 912.768 46.212 912.768 Q52.6095 912.768 56.3017 910.063 Q59.9619 907.325 59.9619 902.583 Q59.9619 897.904 56.2698 895.167 Q52.5777 892.43 46.212 892.43 Q39.8781 892.43 36.186 895.167 Q32.4621 897.904 32.4621 902.583 M27.4968 902.583 Q27.4968 894.944 32.4621 890.584 Q37.4273 886.223 46.212 886.223 Q54.9649 886.223 59.9619 890.584 Q64.9272 894.944 64.9272 902.583 Q64.9272 910.254 59.9619 914.614 Q54.9649 918.943 46.212 918.943 Q37.4273 918.943 32.4621 914.614 Q27.4968 910.254 27.4968 902.583 Z\" fill=\"#000000\" fill-rule=\"evenodd\" fill-opacity=\"1\" /><path clip-path=\"url(#clip770)\" d=\"M29.7248 850.862 L35.1993 850.862 Q33.8307 853.344 33.1623 855.859 Q32.4621 858.341 32.4621 860.888 Q32.4621 866.585 36.0905 869.736 Q39.6872 872.887 46.212 872.887 Q52.7369 872.887 56.3653 869.736 Q59.9619 866.585 59.9619 860.888 Q59.9619 858.341 59.2935 855.859 Q58.5933 853.344 57.2247 850.862 L62.6355 850.862 Q63.7814 853.312 64.3543 855.954 Q64.9272 858.564 64.9272 861.524 Q64.9272 869.577 59.8664 874.319 Q54.8057 879.062 46.212 879.062 Q37.491 879.062 32.4939 874.287 Q27.4968 869.481 27.4968 861.142 Q27.4968 858.437 28.0697 855.859 Q28.6108 853.281 29.7248 850.862 Z\" fill=\"#000000\" fill-rule=\"evenodd\" fill-opacity=\"1\" /><path clip-path=\"url(#clip770)\" d=\"M28.3562 840.676 L28.3562 834.82 L64.0042 834.82 L64.0042 840.676 L28.3562 840.676 M14.479 840.676 L14.479 834.82 L21.895 834.82 L21.895 840.676 L14.479 840.676 Z\" fill=\"#000000\" fill-rule=\"evenodd\" fill-opacity=\"1\" /><path clip-path=\"url(#clip770)\" d=\"M46.0847 806.365 Q46.0847 813.463 47.7079 816.2 Q49.3312 818.938 53.2461 818.938 Q56.3653 818.938 58.2114 816.901 Q60.0256 814.832 60.0256 811.299 Q60.0256 806.429 56.5881 803.501 Q53.1188 800.541 47.3897 800.541 L46.0847 800.541 L46.0847 806.365 M43.6657 794.684 L64.0042 794.684 L64.0042 800.541 L58.5933 800.541 Q61.8398 802.546 63.3994 805.538 Q64.9272 808.53 64.9272 812.858 Q64.9272 818.333 61.8716 821.579 Q58.7843 824.794 53.6281 824.794 Q47.6125 824.794 44.5569 820.784 Q41.5014 816.741 41.5014 808.752 L41.5014 800.541 L40.9285 800.541 Q36.8862 800.541 34.6901 803.214 Q32.4621 805.856 32.4621 810.662 Q32.4621 813.718 33.1941 816.614 Q33.9262 819.51 35.3903 822.184 L29.9795 822.184 Q28.7381 818.969 28.1334 815.946 Q27.4968 812.922 27.4968 810.057 Q27.4968 802.323 31.5072 798.504 Q35.5176 794.684 43.6657 794.684 Z\" fill=\"#000000\" fill-rule=\"evenodd\" fill-opacity=\"1\" /><path clip-path=\"url(#clip770)\" d=\"M14.479 782.621 L14.479 776.765 L64.0042 776.765 L64.0042 782.621 L14.479 782.621 Z\" fill=\"#000000\" fill-rule=\"evenodd\" fill-opacity=\"1\" /><path clip-path=\"url(#clip770)\" d=\"M14.479 764.511 L14.479 758.654 L64.0042 758.654 L64.0042 764.511 L14.479 764.511 Z\" fill=\"#000000\" fill-rule=\"evenodd\" fill-opacity=\"1\" /><path clip-path=\"url(#clip770)\" d=\"M67.3143 731.568 Q73.68 734.051 75.6216 736.406 Q77.5631 738.762 77.5631 742.708 L77.5631 747.387 L72.6615 747.387 L72.6615 743.95 Q72.6615 741.531 71.5157 740.194 Q70.3699 738.857 66.1048 737.234 L63.4312 736.183 L28.3562 750.602 L28.3562 744.395 L56.238 733.255 L28.3562 722.115 L28.3562 715.909 L67.3143 731.568 Z\" fill=\"#000000\" fill-rule=\"evenodd\" fill-opacity=\"1\" /><path clip-path=\"url(#clip770)\" d=\"M16.4842 686.849 L16.4842 680.42 L60.694 680.42 Q69.2877 680.42 73.1708 683.698 Q77.0539 686.945 77.0539 694.17 L77.0539 696.621 L71.643 696.621 L71.643 694.615 Q71.643 690.35 69.2559 688.6 Q66.8687 686.849 60.694 686.849 L16.4842 686.849 Z\" fill=\"#000000\" fill-rule=\"evenodd\" fill-opacity=\"1\" /><path clip-path=\"url(#clip770)\" d=\"M49.9359 668.484 L28.3562 668.484 L28.3562 662.628 L49.7131 662.628 Q54.7739 662.628 57.3202 660.654 Q59.8346 658.681 59.8346 654.734 Q59.8346 649.992 56.8109 647.254 Q53.7872 644.485 48.5673 644.485 L28.3562 644.485 L28.3562 638.629 L64.0042 638.629 L64.0042 644.485 L58.5296 644.485 Q61.7762 646.618 63.3676 649.451 Q64.9272 652.252 64.9272 655.975 Q64.9272 662.118 61.1078 665.301 Q57.2883 668.484 49.9359 668.484 M27.4968 653.747 L27.4968 653.747 Z\" fill=\"#000000\" fill-rule=\"evenodd\" fill-opacity=\"1\" /><path clip-path=\"url(#clip770)\" d=\"M29.4065 603.84 L34.9447 603.84 Q33.6716 606.323 33.035 608.997 Q32.3984 611.67 32.3984 614.535 Q32.3984 618.895 33.7352 621.091 Q35.072 623.256 37.7456 623.256 Q39.7826 623.256 40.9603 621.696 Q42.1061 620.137 43.1565 615.426 L43.6021 613.421 Q44.9389 607.182 47.3897 604.572 Q49.8086 601.931 54.1691 601.931 Q59.1344 601.931 62.0308 605.877 Q64.9272 609.792 64.9272 616.667 Q64.9272 619.532 64.3543 622.651 Q63.8132 625.738 62.6992 629.176 L56.6518 629.176 Q58.3387 625.929 59.198 622.778 Q60.0256 619.627 60.0256 616.54 Q60.0256 612.402 58.6251 610.174 Q57.1929 607.946 54.6147 607.946 Q52.2276 607.946 50.9545 609.569 Q49.6813 611.161 48.5037 616.604 L48.0262 618.641 Q46.8804 624.083 44.5251 626.502 Q42.138 628.921 38.0002 628.921 Q32.9713 628.921 30.2341 625.356 Q27.4968 621.792 27.4968 615.235 Q27.4968 611.988 27.9743 609.124 Q28.4517 606.259 29.4065 603.84 Z\" fill=\"#000000\" fill-rule=\"evenodd\" fill-opacity=\"1\" /><path clip-path=\"url(#clip770)\" d=\"M18.2347 586.812 L28.3562 586.812 L28.3562 574.749 L32.9077 574.749 L32.9077 586.812 L52.2594 586.812 Q56.6199 586.812 57.8613 585.634 Q59.1026 584.425 59.1026 580.765 L59.1026 574.749 L64.0042 574.749 L64.0042 580.765 Q64.0042 587.544 61.4897 590.122 Q58.9434 592.7 52.2594 592.7 L32.9077 592.7 L32.9077 596.997 L28.3562 596.997 L28.3562 592.7 L18.2347 592.7 L18.2347 586.812 Z\" fill=\"#000000\" fill-rule=\"evenodd\" fill-opacity=\"1\" /><path clip-path=\"url(#clip770)\" d=\"M1164.13 12.096 L1215.29 12.096 L1215.29 18.9825 L1193.82 18.9825 L1193.82 72.576 L1185.6 72.576 L1185.6 18.9825 L1164.13 18.9825 L1164.13 12.096 Z\" fill=\"#000000\" fill-rule=\"evenodd\" fill-opacity=\"1\" /><path clip-path=\"url(#clip770)\" d=\"M1247.58 48.0275 L1247.58 51.6733 L1213.31 51.6733 Q1213.79 59.3701 1217.93 63.421 Q1222.1 67.4314 1229.51 67.4314 Q1233.81 67.4314 1237.82 66.3781 Q1241.87 65.3249 1245.84 63.2184 L1245.84 70.267 Q1241.83 71.9684 1237.61 72.8596 Q1233.4 73.7508 1229.07 73.7508 Q1218.21 73.7508 1211.85 67.4314 Q1205.53 61.1119 1205.53 50.3365 Q1205.53 39.1965 1211.53 32.6746 Q1217.56 26.1121 1227.77 26.1121 Q1236.92 26.1121 1242.23 32.0264 Q1247.58 37.9003 1247.58 48.0275 M1240.12 45.84 Q1240.04 39.7232 1236.68 36.0774 Q1233.36 32.4315 1227.85 32.4315 Q1221.61 32.4315 1217.85 35.9558 Q1214.12 39.4801 1213.55 45.8805 L1240.12 45.84 Z\" fill=\"#000000\" fill-rule=\"evenodd\" fill-opacity=\"1\" /><path clip-path=\"url(#clip770)\" d=\"M1288.74 28.5427 L1288.74 35.5912 Q1285.58 33.9709 1282.17 33.1607 Q1278.77 32.3505 1275.12 32.3505 Q1269.58 32.3505 1266.78 34.0519 Q1264.03 35.7533 1264.03 39.156 Q1264.03 41.7486 1266.01 43.2475 Q1268 44.7058 1273.99 46.0426 L1276.54 46.6097 Q1284.48 48.3111 1287.8 51.4303 Q1291.17 54.509 1291.17 60.0587 Q1291.17 66.3781 1286.14 70.0644 Q1281.16 73.7508 1272.41 73.7508 Q1268.76 73.7508 1264.79 73.0216 Q1260.87 72.3329 1256.49 70.9151 L1256.49 63.2184 Q1260.62 65.3654 1264.63 66.4591 Q1268.64 67.5124 1272.57 67.5124 Q1277.84 67.5124 1280.67 65.73 Q1283.51 63.9071 1283.51 60.6258 Q1283.51 57.5877 1281.44 55.9673 Q1279.42 54.3469 1272.49 52.8481 L1269.9 52.2405 Q1262.97 50.7821 1259.89 47.7845 Q1256.81 44.7463 1256.81 39.4801 Q1256.81 33.0797 1261.35 29.5959 Q1265.89 26.1121 1274.23 26.1121 Q1278.37 26.1121 1282.01 26.7198 Q1285.66 27.3274 1288.74 28.5427 Z\" fill=\"#000000\" fill-rule=\"evenodd\" fill-opacity=\"1\" /><path clip-path=\"url(#clip770)\" d=\"M1303.04 9.54393 L1310.49 9.54393 L1310.49 72.576 L1303.04 72.576 L1303.04 9.54393 Z\" fill=\"#000000\" fill-rule=\"evenodd\" fill-opacity=\"1\" /><path clip-path=\"url(#clip770)\" d=\"M1346.7 49.7694 Q1337.67 49.7694 1334.19 51.8354 Q1330.7 53.9013 1330.7 58.8839 Q1330.7 62.8538 1333.3 65.2034 Q1335.93 67.5124 1340.43 67.5124 Q1346.62 67.5124 1350.35 63.1374 Q1354.12 58.7219 1354.12 51.4303 L1354.12 49.7694 L1346.7 49.7694 M1361.57 46.6907 L1361.57 72.576 L1354.12 72.576 L1354.12 65.6895 Q1351.57 69.8214 1347.76 71.8063 Q1343.95 73.7508 1338.44 73.7508 Q1331.47 73.7508 1327.34 69.8619 Q1323.25 65.9325 1323.25 59.3701 Q1323.25 51.7138 1328.35 47.825 Q1333.5 43.9361 1343.67 43.9361 L1354.12 43.9361 L1354.12 43.2069 Q1354.12 38.0623 1350.71 35.2672 Q1347.35 32.4315 1341.24 32.4315 Q1337.35 32.4315 1333.66 33.3632 Q1329.97 34.295 1326.57 36.1584 L1326.57 29.2718 Q1330.66 27.692 1334.51 26.9223 Q1338.36 26.1121 1342.01 26.1121 Q1351.85 26.1121 1356.71 31.2163 Q1361.57 36.3204 1361.57 46.6907 Z\" fill=\"#000000\" fill-rule=\"evenodd\" fill-opacity=\"1\" /><path clip-path=\"url(#clip770)\" d=\"M1448.91 16.7545 L1448.91 25.383 Q1444.78 21.5346 1440.08 19.6307 Q1435.42 17.7268 1430.15 17.7268 Q1419.78 17.7268 1414.27 24.0867 Q1408.76 30.4061 1408.76 42.3968 Q1408.76 54.3469 1414.27 60.7069 Q1419.78 67.0263 1430.15 67.0263 Q1435.42 67.0263 1440.08 65.1223 Q1444.78 63.2184 1448.91 59.3701 L1448.91 67.9175 Q1444.61 70.8341 1439.79 72.2924 Q1435.01 73.7508 1429.67 73.7508 Q1415.93 73.7508 1408.03 65.3654 Q1400.14 56.9395 1400.14 42.3968 Q1400.14 27.8135 1408.03 19.4281 Q1415.93 11.0023 1429.67 11.0023 Q1435.1 11.0023 1439.88 12.4606 Q1444.7 13.8784 1448.91 16.7545 Z\" fill=\"#000000\" fill-rule=\"evenodd\" fill-opacity=\"1\" /><path clip-path=\"url(#clip770)\" d=\"M1481.84 49.7694 Q1472.81 49.7694 1469.33 51.8354 Q1465.84 53.9013 1465.84 58.8839 Q1465.84 62.8538 1468.43 65.2034 Q1471.07 67.5124 1475.56 67.5124 Q1481.76 67.5124 1485.49 63.1374 Q1489.26 58.7219 1489.26 51.4303 L1489.26 49.7694 L1481.84 49.7694 M1496.71 46.6907 L1496.71 72.576 L1489.26 72.576 L1489.26 65.6895 Q1486.7 69.8214 1482.9 71.8063 Q1479.09 73.7508 1473.58 73.7508 Q1466.61 73.7508 1462.48 69.8619 Q1458.39 65.9325 1458.39 59.3701 Q1458.39 51.7138 1463.49 47.825 Q1468.64 43.9361 1478.8 43.9361 L1489.26 43.9361 L1489.26 43.2069 Q1489.26 38.0623 1485.85 35.2672 Q1482.49 32.4315 1476.37 32.4315 Q1472.48 32.4315 1468.8 33.3632 Q1465.11 34.295 1461.71 36.1584 L1461.71 29.2718 Q1465.8 27.692 1469.65 26.9223 Q1473.5 26.1121 1477.14 26.1121 Q1486.99 26.1121 1491.85 31.2163 Q1496.71 36.3204 1496.71 46.6907 Z\" fill=\"#000000\" fill-rule=\"evenodd\" fill-opacity=\"1\" /><path clip-path=\"url(#clip770)\" d=\"M1540.99 28.5427 L1540.99 35.5912 Q1537.83 33.9709 1534.42 33.1607 Q1531.02 32.3505 1527.37 32.3505 Q1521.82 32.3505 1519.03 34.0519 Q1516.28 35.7533 1516.28 39.156 Q1516.28 41.7486 1518.26 43.2475 Q1520.25 44.7058 1526.24 46.0426 L1528.79 46.6097 Q1536.73 48.3111 1540.05 51.4303 Q1543.42 54.509 1543.42 60.0587 Q1543.42 66.3781 1538.39 70.0644 Q1533.41 73.7508 1524.66 73.7508 Q1521.01 73.7508 1517.04 73.0216 Q1513.12 72.3329 1508.74 70.9151 L1508.74 63.2184 Q1512.87 65.3654 1516.88 66.4591 Q1520.89 67.5124 1524.82 67.5124 Q1530.09 67.5124 1532.92 65.73 Q1535.76 63.9071 1535.76 60.6258 Q1535.76 57.5877 1533.69 55.9673 Q1531.67 54.3469 1524.74 52.8481 L1522.15 52.2405 Q1515.22 50.7821 1512.14 47.7845 Q1509.06 44.7463 1509.06 39.4801 Q1509.06 33.0797 1513.6 29.5959 Q1518.14 26.1121 1526.48 26.1121 Q1530.62 26.1121 1534.26 26.7198 Q1537.91 27.3274 1540.99 28.5427 Z\" fill=\"#000000\" fill-rule=\"evenodd\" fill-opacity=\"1\" /><path clip-path=\"url(#clip770)\" d=\"M1594.09 48.0275 L1594.09 51.6733 L1559.82 51.6733 Q1560.31 59.3701 1564.44 63.421 Q1568.61 67.4314 1576.03 67.4314 Q1580.32 67.4314 1584.33 66.3781 Q1588.38 65.3249 1592.35 63.2184 L1592.35 70.267 Q1588.34 71.9684 1584.13 72.8596 Q1579.91 73.7508 1575.58 73.7508 Q1564.72 73.7508 1558.36 67.4314 Q1552.04 61.1119 1552.04 50.3365 Q1552.04 39.1965 1558.04 32.6746 Q1564.08 26.1121 1574.28 26.1121 Q1583.44 26.1121 1588.75 32.0264 Q1594.09 37.9003 1594.09 48.0275 M1586.64 45.84 Q1586.56 39.7232 1583.2 36.0774 Q1579.87 32.4315 1574.37 32.4315 Q1568.13 32.4315 1564.36 35.9558 Q1560.63 39.4801 1560.07 45.8805 L1586.64 45.84 Z\" fill=\"#000000\" fill-rule=\"evenodd\" fill-opacity=\"1\" /><polyline clip-path=\"url(#clip772)\" style=\"stroke:#009af9; stroke-linecap:round; stroke-linejoin:round; stroke-width:4; stroke-opacity:1; fill:none\" points=\"\n",
       "  577.633,167.153 932.178,624.193 1286.72,921.188 1641.27,1034.68 1995.81,1103.01 \n",
       "  \"/>\n",
       "<circle clip-path=\"url(#clip772)\" cx=\"577.633\" cy=\"167.153\" r=\"14.4\" fill=\"#e26f46\" fill-rule=\"evenodd\" fill-opacity=\"1\" stroke=\"#000000\" stroke-opacity=\"1\" stroke-width=\"3.2\"/>\n",
       "<circle clip-path=\"url(#clip772)\" cx=\"932.178\" cy=\"624.193\" r=\"14.4\" fill=\"#e26f46\" fill-rule=\"evenodd\" fill-opacity=\"1\" stroke=\"#000000\" stroke-opacity=\"1\" stroke-width=\"3.2\"/>\n",
       "<circle clip-path=\"url(#clip772)\" cx=\"1286.72\" cy=\"921.188\" r=\"14.4\" fill=\"#e26f46\" fill-rule=\"evenodd\" fill-opacity=\"1\" stroke=\"#000000\" stroke-opacity=\"1\" stroke-width=\"3.2\"/>\n",
       "<circle clip-path=\"url(#clip772)\" cx=\"1641.27\" cy=\"1034.68\" r=\"14.4\" fill=\"#e26f46\" fill-rule=\"evenodd\" fill-opacity=\"1\" stroke=\"#000000\" stroke-opacity=\"1\" stroke-width=\"3.2\"/>\n",
       "<circle clip-path=\"url(#clip772)\" cx=\"1995.81\" cy=\"1103.01\" r=\"14.4\" fill=\"#e26f46\" fill-rule=\"evenodd\" fill-opacity=\"1\" stroke=\"#000000\" stroke-opacity=\"1\" stroke-width=\"3.2\"/>\n",
       "<polyline clip-path=\"url(#clip772)\" style=\"stroke:#3da44d; stroke-linecap:round; stroke-linejoin:round; stroke-width:4; stroke-opacity:1; fill:none\" points=\"\n",
       "  460.579,159.909 919.845,791.316 1379.11,1107.34 1838.38,1274.09 2297.64,1374.46 \n",
       "  \"/>\n",
       "<circle clip-path=\"url(#clip772)\" cx=\"460.579\" cy=\"159.909\" r=\"14.4\" fill=\"#c271d2\" fill-rule=\"evenodd\" fill-opacity=\"1\" stroke=\"#000000\" stroke-opacity=\"1\" stroke-width=\"3.2\"/>\n",
       "<circle clip-path=\"url(#clip772)\" cx=\"919.845\" cy=\"791.316\" r=\"14.4\" fill=\"#c271d2\" fill-rule=\"evenodd\" fill-opacity=\"1\" stroke=\"#000000\" stroke-opacity=\"1\" stroke-width=\"3.2\"/>\n",
       "<circle clip-path=\"url(#clip772)\" cx=\"1379.11\" cy=\"1107.34\" r=\"14.4\" fill=\"#c271d2\" fill-rule=\"evenodd\" fill-opacity=\"1\" stroke=\"#000000\" stroke-opacity=\"1\" stroke-width=\"3.2\"/>\n",
       "<circle clip-path=\"url(#clip772)\" cx=\"1838.38\" cy=\"1274.09\" r=\"14.4\" fill=\"#c271d2\" fill-rule=\"evenodd\" fill-opacity=\"1\" stroke=\"#000000\" stroke-opacity=\"1\" stroke-width=\"3.2\"/>\n",
       "<circle clip-path=\"url(#clip772)\" cx=\"2297.64\" cy=\"1374.46\" r=\"14.4\" fill=\"#c271d2\" fill-rule=\"evenodd\" fill-opacity=\"1\" stroke=\"#000000\" stroke-opacity=\"1\" stroke-width=\"3.2\"/>\n",
       "<circle clip-path=\"url(#clip772)\" cx=\"1196.06\" cy=\"515.153\" r=\"18\" fill=\"#008000\" fill-rule=\"evenodd\" fill-opacity=\"1\" stroke=\"#000000\" stroke-opacity=\"1\" stroke-width=\"3.2\"/>\n",
       "<path clip-path=\"url(#clip770)\" d=\"\n",
       "M2038.97 425.586 L2287.85 425.586 L2287.85 166.386 L2038.97 166.386  Z\n",
       "  \" fill=\"#ffffff\" fill-rule=\"evenodd\" fill-opacity=\"1\"/>\n",
       "<polyline clip-path=\"url(#clip770)\" style=\"stroke:#000000; stroke-linecap:round; stroke-linejoin:round; stroke-width:4; stroke-opacity:1; fill:none\" points=\"\n",
       "  2038.97,425.586 2287.85,425.586 2287.85,166.386 2038.97,166.386 2038.97,425.586 \n",
       "  \"/>\n",
       "<polyline clip-path=\"url(#clip770)\" style=\"stroke:#009af9; stroke-linecap:round; stroke-linejoin:round; stroke-width:4; stroke-opacity:1; fill:none\" points=\"\n",
       "  2060.61,218.226 2190.43,218.226 \n",
       "  \"/>\n",
       "<path clip-path=\"url(#clip770)\" d=\"M2225.91 237.914 Q2224.1 242.543 2222.39 243.955 Q2220.68 245.367 2217.81 245.367 L2214.4 245.367 L2214.4 241.803 L2216.9 241.803 Q2218.66 241.803 2219.64 240.969 Q2220.61 240.136 2221.79 237.034 L2222.55 235.09 L2212.07 209.58 L2216.58 209.58 L2224.68 229.858 L2232.78 209.58 L2237.3 209.58 L2225.91 237.914 Z\" fill=\"#000000\" fill-rule=\"evenodd\" fill-opacity=\"1\" /><path clip-path=\"url(#clip770)\" d=\"M2244.59 231.571 L2252.23 231.571 L2252.23 205.206 L2243.92 206.872 L2243.92 202.613 L2252.18 200.946 L2256.86 200.946 L2256.86 231.571 L2264.5 231.571 L2264.5 235.506 L2244.59 235.506 L2244.59 231.571 Z\" fill=\"#000000\" fill-rule=\"evenodd\" fill-opacity=\"1\" /><circle clip-path=\"url(#clip770)\" cx=\"2125.52\" cy=\"270.066\" r=\"23.04\" fill=\"#e26f46\" fill-rule=\"evenodd\" fill-opacity=\"1\" stroke=\"#000000\" stroke-opacity=\"1\" stroke-width=\"5.12\"/>\n",
       "<path clip-path=\"url(#clip770)\" d=\"M2225.91 289.754 Q2224.1 294.383 2222.39 295.795 Q2220.68 297.207 2217.81 297.207 L2214.4 297.207 L2214.4 293.643 L2216.9 293.643 Q2218.66 293.643 2219.64 292.809 Q2220.61 291.976 2221.79 288.874 L2222.55 286.93 L2212.07 261.42 L2216.58 261.42 L2224.68 281.698 L2232.78 261.42 L2237.3 261.42 L2225.91 289.754 Z\" fill=\"#000000\" fill-rule=\"evenodd\" fill-opacity=\"1\" /><path clip-path=\"url(#clip770)\" d=\"M2247.81 283.411 L2264.13 283.411 L2264.13 287.346 L2242.18 287.346 L2242.18 283.411 Q2244.84 280.656 2249.43 276.027 Q2254.03 271.374 2255.21 270.032 Q2257.46 267.508 2258.34 265.772 Q2259.24 264.013 2259.24 262.323 Q2259.24 259.569 2257.3 257.833 Q2255.38 256.096 2252.27 256.096 Q2250.08 256.096 2247.62 256.86 Q2245.19 257.624 2242.41 259.175 L2242.41 254.453 Q2245.24 253.319 2247.69 252.74 Q2250.15 252.161 2252.18 252.161 Q2257.55 252.161 2260.75 254.846 Q2263.94 257.532 2263.94 262.022 Q2263.94 264.152 2263.13 266.073 Q2262.34 267.971 2260.24 270.564 Q2259.66 271.235 2256.56 274.453 Q2253.46 277.647 2247.81 283.411 Z\" fill=\"#000000\" fill-rule=\"evenodd\" fill-opacity=\"1\" /><polyline clip-path=\"url(#clip770)\" style=\"stroke:#3da44d; stroke-linecap:round; stroke-linejoin:round; stroke-width:4; stroke-opacity:1; fill:none\" points=\"\n",
       "  2060.61,321.906 2190.43,321.906 \n",
       "  \"/>\n",
       "<path clip-path=\"url(#clip770)\" d=\"M2225.91 341.594 Q2224.1 346.223 2222.39 347.635 Q2220.68 349.047 2217.81 349.047 L2214.4 349.047 L2214.4 345.483 L2216.9 345.483 Q2218.66 345.483 2219.64 344.649 Q2220.61 343.816 2221.79 340.714 L2222.55 338.77 L2212.07 313.26 L2216.58 313.26 L2224.68 333.538 L2232.78 313.26 L2237.3 313.26 L2225.91 341.594 Z\" fill=\"#000000\" fill-rule=\"evenodd\" fill-opacity=\"1\" /><path clip-path=\"url(#clip770)\" d=\"M2257.95 320.552 Q2261.3 321.27 2263.18 323.538 Q2265.08 325.807 2265.08 329.14 Q2265.08 334.256 2261.56 337.057 Q2258.04 339.858 2251.56 339.858 Q2249.38 339.858 2247.07 339.418 Q2244.77 339.001 2242.32 338.145 L2242.32 333.631 Q2244.27 334.765 2246.58 335.344 Q2248.9 335.922 2251.42 335.922 Q2255.82 335.922 2258.11 334.186 Q2260.42 332.45 2260.42 329.14 Q2260.42 326.084 2258.27 324.372 Q2256.14 322.635 2252.32 322.635 L2248.29 322.635 L2248.29 318.793 L2252.51 318.793 Q2255.96 318.793 2257.78 317.427 Q2259.61 316.038 2259.61 313.446 Q2259.61 310.784 2257.71 309.372 Q2255.84 307.936 2252.32 307.936 Q2250.4 307.936 2248.2 308.353 Q2246 308.77 2243.36 309.649 L2243.36 305.483 Q2246.02 304.742 2248.34 304.372 Q2250.68 304.001 2252.74 304.001 Q2258.06 304.001 2261.16 306.432 Q2264.27 308.839 2264.27 312.96 Q2264.27 315.83 2262.62 317.821 Q2260.98 319.788 2257.95 320.552 Z\" fill=\"#000000\" fill-rule=\"evenodd\" fill-opacity=\"1\" /><circle clip-path=\"url(#clip770)\" cx=\"2125.52\" cy=\"373.746\" r=\"23.04\" fill=\"#c271d2\" fill-rule=\"evenodd\" fill-opacity=\"1\" stroke=\"#000000\" stroke-opacity=\"1\" stroke-width=\"5.12\"/>\n",
       "<path clip-path=\"url(#clip770)\" d=\"M2225.91 393.434 Q2224.1 398.063 2222.39 399.475 Q2220.68 400.887 2217.81 400.887 L2214.4 400.887 L2214.4 397.323 L2216.9 397.323 Q2218.66 397.323 2219.64 396.489 Q2220.61 395.656 2221.79 392.554 L2222.55 390.61 L2212.07 365.1 L2216.58 365.1 L2224.68 385.378 L2232.78 365.1 L2237.3 365.1 L2225.91 393.434 Z\" fill=\"#000000\" fill-rule=\"evenodd\" fill-opacity=\"1\" /><path clip-path=\"url(#clip770)\" d=\"M2256.63 360.54 L2244.82 378.989 L2256.63 378.989 L2256.63 360.54 M2255.4 356.466 L2261.28 356.466 L2261.28 378.989 L2266.21 378.989 L2266.21 382.878 L2261.28 382.878 L2261.28 391.026 L2256.63 391.026 L2256.63 382.878 L2241.02 382.878 L2241.02 378.364 L2255.4 356.466 Z\" fill=\"#000000\" fill-rule=\"evenodd\" fill-opacity=\"1\" /></svg>\n"
      ]
     },
     "execution_count": 75,
     "metadata": {},
     "output_type": "execute_result"
    }
   ],
   "source": [
    "x_axis = tesla_eo\n",
    "y_axis = tesla_ss\n",
    "\n",
    "plot(x_axis, y_axis)\n",
    "plot!(x_axis, y_axis, seriestype=:scatter)\n",
    "plot!(ls_eo, ls_ss)\n",
    "plot!(ls_eo, ls_ss, seriestype=:scatter)\n",
    "scatter!([tesla_eco], [tesla_soc], color = \"green\", label = \"\", markersize = 5)\n",
    "\n",
    "title!(\"Tesla Case\")\n",
    "xlabel!(\"Ecologically Safe\")\n",
    "ylabel!(\"Socially Just\")"
   ]
  },
  {
   "cell_type": "markdown",
   "id": "4c5c2f56",
   "metadata": {},
   "source": [
    "### Plots"
   ]
  },
  {
   "cell_type": "code",
   "execution_count": 48,
   "id": "67ac1bff",
   "metadata": {},
   "outputs": [],
   "source": [
    "xrange = [-3e6, 9e6]\n",
    "yrange = [-1.5e7, 0.5e7];"
   ]
  },
  {
   "cell_type": "code",
   "execution_count": 63,
   "id": "d8e58fbf",
   "metadata": {},
   "outputs": [
    {
     "data": {
      "image/svg+xml": [
       "<?xml version=\"1.0\" encoding=\"utf-8\"?>\n",
       "<svg xmlns=\"http://www.w3.org/2000/svg\" xmlns:xlink=\"http://www.w3.org/1999/xlink\" width=\"600\" height=\"400\" viewBox=\"0 0 2400 1600\">\n",
       "<defs>\n",
       "  <clipPath id=\"clip980\">\n",
       "    <rect x=\"0\" y=\"0\" width=\"2400\" height=\"1600\"/>\n",
       "  </clipPath>\n",
       "</defs>\n",
       "<path clip-path=\"url(#clip980)\" d=\"\n",
       "M0 1600 L2400 1600 L2400 0 L0 0  Z\n",
       "  \" fill=\"#ffffff\" fill-rule=\"evenodd\" fill-opacity=\"1\"/>\n",
       "<defs>\n",
       "  <clipPath id=\"clip981\">\n",
       "    <rect x=\"480\" y=\"0\" width=\"1681\" height=\"1600\"/>\n",
       "  </clipPath>\n",
       "</defs>\n",
       "<path clip-path=\"url(#clip980)\" d=\"\n",
       "M343.534 1474.16 L2352.76 1474.16 L2352.76 47.2441 L343.534 47.2441  Z\n",
       "  \" fill=\"#ffffff\" fill-rule=\"evenodd\" fill-opacity=\"1\"/>\n",
       "<defs>\n",
       "  <clipPath id=\"clip982\">\n",
       "    <rect x=\"343\" y=\"47\" width=\"2010\" height=\"1428\"/>\n",
       "  </clipPath>\n",
       "</defs>\n",
       "<polyline clip-path=\"url(#clip982)\" style=\"stroke:#000000; stroke-linecap:round; stroke-linejoin:round; stroke-width:2; stroke-opacity:0.1; fill:none\" points=\"\n",
       "  343.534,1474.16 343.534,47.2441 \n",
       "  \"/>\n",
       "<polyline clip-path=\"url(#clip982)\" style=\"stroke:#000000; stroke-linecap:round; stroke-linejoin:round; stroke-width:2; stroke-opacity:0.1; fill:none\" points=\"\n",
       "  845.84,1474.16 845.84,47.2441 \n",
       "  \"/>\n",
       "<polyline clip-path=\"url(#clip982)\" style=\"stroke:#000000; stroke-linecap:round; stroke-linejoin:round; stroke-width:2; stroke-opacity:0.1; fill:none\" points=\"\n",
       "  1348.15,1474.16 1348.15,47.2441 \n",
       "  \"/>\n",
       "<polyline clip-path=\"url(#clip982)\" style=\"stroke:#000000; stroke-linecap:round; stroke-linejoin:round; stroke-width:2; stroke-opacity:0.1; fill:none\" points=\"\n",
       "  1850.45,1474.16 1850.45,47.2441 \n",
       "  \"/>\n",
       "<polyline clip-path=\"url(#clip982)\" style=\"stroke:#000000; stroke-linecap:round; stroke-linejoin:round; stroke-width:2; stroke-opacity:0.1; fill:none\" points=\"\n",
       "  2352.76,1474.16 2352.76,47.2441 \n",
       "  \"/>\n",
       "<polyline clip-path=\"url(#clip980)\" style=\"stroke:#000000; stroke-linecap:round; stroke-linejoin:round; stroke-width:4; stroke-opacity:1; fill:none\" points=\"\n",
       "  343.534,1474.16 2352.76,1474.16 \n",
       "  \"/>\n",
       "<polyline clip-path=\"url(#clip980)\" style=\"stroke:#000000; stroke-linecap:round; stroke-linejoin:round; stroke-width:4; stroke-opacity:1; fill:none\" points=\"\n",
       "  343.534,1474.16 343.534,1455.27 \n",
       "  \"/>\n",
       "<polyline clip-path=\"url(#clip980)\" style=\"stroke:#000000; stroke-linecap:round; stroke-linejoin:round; stroke-width:4; stroke-opacity:1; fill:none\" points=\"\n",
       "  845.84,1474.16 845.84,1455.27 \n",
       "  \"/>\n",
       "<polyline clip-path=\"url(#clip980)\" style=\"stroke:#000000; stroke-linecap:round; stroke-linejoin:round; stroke-width:4; stroke-opacity:1; fill:none\" points=\"\n",
       "  1348.15,1474.16 1348.15,1455.27 \n",
       "  \"/>\n",
       "<polyline clip-path=\"url(#clip980)\" style=\"stroke:#000000; stroke-linecap:round; stroke-linejoin:round; stroke-width:4; stroke-opacity:1; fill:none\" points=\"\n",
       "  1850.45,1474.16 1850.45,1455.27 \n",
       "  \"/>\n",
       "<polyline clip-path=\"url(#clip980)\" style=\"stroke:#000000; stroke-linecap:round; stroke-linejoin:round; stroke-width:4; stroke-opacity:1; fill:none\" points=\"\n",
       "  2352.76,1474.16 2352.76,1455.27 \n",
       "  \"/>\n",
       "<path clip-path=\"url(#clip980)\" d=\"M230.344 1535.4 L260.02 1535.4 L260.02 1539.33 L230.344 1539.33 L230.344 1535.4 Z\" fill=\"#000000\" fill-rule=\"evenodd\" fill-opacity=\"1\" /><path clip-path=\"url(#clip980)\" d=\"M284.279 1533.59 Q287.636 1534.31 289.511 1536.58 Q291.409 1538.85 291.409 1542.18 Q291.409 1547.29 287.89 1550.1 Q284.372 1552.9 277.89 1552.9 Q275.714 1552.9 273.4 1552.46 Q271.108 1552.04 268.654 1551.18 L268.654 1546.67 Q270.599 1547.8 272.913 1548.38 Q275.228 1548.96 277.751 1548.96 Q282.15 1548.96 284.441 1547.22 Q286.756 1545.49 286.756 1542.18 Q286.756 1539.12 284.603 1537.41 Q282.474 1535.67 278.654 1535.67 L274.626 1535.67 L274.626 1531.83 L278.839 1531.83 Q282.288 1531.83 284.117 1530.47 Q285.946 1529.08 285.946 1526.48 Q285.946 1523.82 284.048 1522.41 Q282.173 1520.97 278.654 1520.97 Q276.733 1520.97 274.534 1521.39 Q272.335 1521.81 269.696 1522.69 L269.696 1518.52 Q272.358 1517.78 274.673 1517.41 Q277.011 1517.04 279.071 1517.04 Q284.395 1517.04 287.497 1519.47 Q290.599 1521.88 290.599 1526 Q290.599 1528.87 288.955 1530.86 Q287.312 1532.83 284.279 1533.59 Z\" fill=\"#000000\" fill-rule=\"evenodd\" fill-opacity=\"1\" /><path clip-path=\"url(#clip980)\" d=\"M300.274 1546.35 L305.159 1546.35 L305.159 1552.22 L300.274 1552.22 L300.274 1546.35 Z\" fill=\"#000000\" fill-rule=\"evenodd\" fill-opacity=\"1\" /><path clip-path=\"url(#clip980)\" d=\"M325.344 1520.74 Q321.733 1520.74 319.904 1524.31 Q318.098 1527.85 318.098 1534.98 Q318.098 1542.09 319.904 1545.65 Q321.733 1549.19 325.344 1549.19 Q328.978 1549.19 330.783 1545.65 Q332.612 1542.09 332.612 1534.98 Q332.612 1527.85 330.783 1524.31 Q328.978 1520.74 325.344 1520.74 M325.344 1517.04 Q331.154 1517.04 334.209 1521.65 Q337.288 1526.23 337.288 1534.98 Q337.288 1543.71 334.209 1548.31 Q331.154 1552.9 325.344 1552.9 Q319.534 1552.9 316.455 1548.31 Q313.399 1543.71 313.399 1534.98 Q313.399 1526.23 316.455 1521.65 Q319.534 1517.04 325.344 1517.04 Z\" fill=\"#000000\" fill-rule=\"evenodd\" fill-opacity=\"1\" /><path clip-path=\"url(#clip980)\" d=\"M373.677 1526.76 L363.098 1537.39 L373.677 1547.97 L370.922 1550.77 L360.297 1540.14 L349.672 1550.77 L346.941 1547.97 L357.496 1537.39 L346.941 1526.76 L349.672 1523.96 L360.297 1534.59 L370.922 1523.96 L373.677 1526.76 Z\" fill=\"#000000\" fill-rule=\"evenodd\" fill-opacity=\"1\" /><path clip-path=\"url(#clip980)\" d=\"M386.038 1548.29 L393.677 1548.29 L393.677 1521.92 L385.367 1523.59 L385.367 1519.33 L393.63 1517.66 L398.306 1517.66 L398.306 1548.29 L405.945 1548.29 L405.945 1552.22 L386.038 1552.22 L386.038 1548.29 Z\" fill=\"#000000\" fill-rule=\"evenodd\" fill-opacity=\"1\" /><path clip-path=\"url(#clip980)\" d=\"M425.389 1520.74 Q421.778 1520.74 419.95 1524.31 Q418.144 1527.85 418.144 1534.98 Q418.144 1542.09 419.95 1545.65 Q421.778 1549.19 425.389 1549.19 Q429.024 1549.19 430.829 1545.65 Q432.658 1542.09 432.658 1534.98 Q432.658 1527.85 430.829 1524.31 Q429.024 1520.74 425.389 1520.74 M425.389 1517.04 Q431.2 1517.04 434.255 1521.65 Q437.334 1526.23 437.334 1534.98 Q437.334 1543.71 434.255 1548.31 Q431.2 1552.9 425.389 1552.9 Q419.579 1552.9 416.501 1548.31 Q413.445 1543.71 413.445 1534.98 Q413.445 1526.23 416.501 1521.65 Q419.579 1517.04 425.389 1517.04 Z\" fill=\"#000000\" fill-rule=\"evenodd\" fill-opacity=\"1\" /><path clip-path=\"url(#clip980)\" d=\"M447.358 1509.26 Q444.801 1509.26 443.296 1511.01 Q441.81 1512.76 441.81 1515.81 Q441.81 1518.83 443.296 1520.6 Q444.801 1522.35 447.358 1522.35 Q449.916 1522.35 451.402 1520.6 Q452.907 1518.83 452.907 1515.81 Q452.907 1512.76 451.402 1511.01 Q449.916 1509.26 447.358 1509.26 M454.9 1497.35 L454.9 1500.82 Q453.471 1500.14 452.004 1499.78 Q450.556 1499.42 449.126 1499.42 Q445.365 1499.42 443.371 1501.96 Q441.396 1504.5 441.114 1509.64 Q442.224 1508 443.898 1507.13 Q445.572 1506.25 447.584 1506.25 Q451.816 1506.25 454.261 1508.83 Q456.725 1511.39 456.725 1515.81 Q456.725 1520.13 454.167 1522.75 Q451.609 1525.36 447.358 1525.36 Q442.487 1525.36 439.911 1521.64 Q437.334 1517.89 437.334 1510.8 Q437.334 1504.14 440.494 1500.19 Q443.653 1496.23 448.976 1496.23 Q450.405 1496.23 451.853 1496.51 Q453.32 1496.79 454.9 1497.35 Z\" fill=\"#000000\" fill-rule=\"evenodd\" fill-opacity=\"1\" /><path clip-path=\"url(#clip980)\" d=\"M845.84 1505.08 Q842.229 1505.08 840.4 1508.65 Q838.594 1512.19 838.594 1519.32 Q838.594 1526.43 840.4 1529.99 Q842.229 1533.53 845.84 1533.53 Q849.474 1533.53 851.28 1529.99 Q853.108 1526.43 853.108 1519.32 Q853.108 1512.19 851.28 1508.65 Q849.474 1505.08 845.84 1505.08 M845.84 1501.38 Q851.65 1501.38 854.706 1505.99 Q857.784 1510.57 857.784 1519.32 Q857.784 1528.05 854.706 1532.65 Q851.65 1537.24 845.84 1537.24 Q840.03 1537.24 836.951 1532.65 Q833.895 1528.05 833.895 1519.32 Q833.895 1510.57 836.951 1505.99 Q840.03 1501.38 845.84 1501.38 Z\" fill=\"#000000\" fill-rule=\"evenodd\" fill-opacity=\"1\" /><path clip-path=\"url(#clip980)\" d=\"M1269.73 1533.59 Q1273.09 1534.31 1274.97 1536.58 Q1276.86 1538.85 1276.86 1542.18 Q1276.86 1547.29 1273.35 1550.1 Q1269.83 1552.9 1263.35 1552.9 Q1261.17 1552.9 1258.86 1552.46 Q1256.56 1552.04 1254.11 1551.18 L1254.11 1546.67 Q1256.05 1547.8 1258.37 1548.38 Q1260.68 1548.96 1263.21 1548.96 Q1267.61 1548.96 1269.9 1547.22 Q1272.21 1545.49 1272.21 1542.18 Q1272.21 1539.12 1270.06 1537.41 Q1267.93 1535.67 1264.11 1535.67 L1260.08 1535.67 L1260.08 1531.83 L1264.3 1531.83 Q1267.74 1531.83 1269.57 1530.47 Q1271.4 1529.08 1271.4 1526.48 Q1271.4 1523.82 1269.5 1522.41 Q1267.63 1520.97 1264.11 1520.97 Q1262.19 1520.97 1259.99 1521.39 Q1257.79 1521.81 1255.15 1522.69 L1255.15 1518.52 Q1257.81 1517.78 1260.13 1517.41 Q1262.47 1517.04 1264.53 1517.04 Q1269.85 1517.04 1272.95 1519.47 Q1276.05 1521.88 1276.05 1526 Q1276.05 1528.87 1274.41 1530.86 Q1272.77 1532.83 1269.73 1533.59 Z\" fill=\"#000000\" fill-rule=\"evenodd\" fill-opacity=\"1\" /><path clip-path=\"url(#clip980)\" d=\"M1285.73 1546.35 L1290.61 1546.35 L1290.61 1552.22 L1285.73 1552.22 L1285.73 1546.35 Z\" fill=\"#000000\" fill-rule=\"evenodd\" fill-opacity=\"1\" /><path clip-path=\"url(#clip980)\" d=\"M1310.8 1520.74 Q1307.19 1520.74 1305.36 1524.31 Q1303.55 1527.85 1303.55 1534.98 Q1303.55 1542.09 1305.36 1545.65 Q1307.19 1549.19 1310.8 1549.19 Q1314.43 1549.19 1316.24 1545.65 Q1318.07 1542.09 1318.07 1534.98 Q1318.07 1527.85 1316.24 1524.31 Q1314.43 1520.74 1310.8 1520.74 M1310.8 1517.04 Q1316.61 1517.04 1319.67 1521.65 Q1322.74 1526.23 1322.74 1534.98 Q1322.74 1543.71 1319.67 1548.31 Q1316.61 1552.9 1310.8 1552.9 Q1304.99 1552.9 1301.91 1548.31 Q1298.86 1543.71 1298.86 1534.98 Q1298.86 1526.23 1301.91 1521.65 Q1304.99 1517.04 1310.8 1517.04 Z\" fill=\"#000000\" fill-rule=\"evenodd\" fill-opacity=\"1\" /><path clip-path=\"url(#clip980)\" d=\"M1359.13 1526.76 L1348.55 1537.39 L1359.13 1547.97 L1356.38 1550.77 L1345.75 1540.14 L1335.13 1550.77 L1332.4 1547.97 L1342.95 1537.39 L1332.4 1526.76 L1335.13 1523.96 L1345.75 1534.59 L1356.38 1523.96 L1359.13 1526.76 Z\" fill=\"#000000\" fill-rule=\"evenodd\" fill-opacity=\"1\" /><path clip-path=\"url(#clip980)\" d=\"M1371.49 1548.29 L1379.13 1548.29 L1379.13 1521.92 L1370.82 1523.59 L1370.82 1519.33 L1379.09 1517.66 L1383.76 1517.66 L1383.76 1548.29 L1391.4 1548.29 L1391.4 1552.22 L1371.49 1552.22 L1371.49 1548.29 Z\" fill=\"#000000\" fill-rule=\"evenodd\" fill-opacity=\"1\" /><path clip-path=\"url(#clip980)\" d=\"M1410.85 1520.74 Q1407.23 1520.74 1405.41 1524.31 Q1403.6 1527.85 1403.6 1534.98 Q1403.6 1542.09 1405.41 1545.65 Q1407.23 1549.19 1410.85 1549.19 Q1414.48 1549.19 1416.29 1545.65 Q1418.11 1542.09 1418.11 1534.98 Q1418.11 1527.85 1416.29 1524.31 Q1414.48 1520.74 1410.85 1520.74 M1410.85 1517.04 Q1416.66 1517.04 1419.71 1521.65 Q1422.79 1526.23 1422.79 1534.98 Q1422.79 1543.71 1419.71 1548.31 Q1416.66 1552.9 1410.85 1552.9 Q1405.04 1552.9 1401.96 1548.31 Q1398.9 1543.71 1398.9 1534.98 Q1398.9 1526.23 1401.96 1521.65 Q1405.04 1517.04 1410.85 1517.04 Z\" fill=\"#000000\" fill-rule=\"evenodd\" fill-opacity=\"1\" /><path clip-path=\"url(#clip980)\" d=\"M1432.81 1509.26 Q1430.26 1509.26 1428.75 1511.01 Q1427.27 1512.76 1427.27 1515.81 Q1427.27 1518.83 1428.75 1520.6 Q1430.26 1522.35 1432.81 1522.35 Q1435.37 1522.35 1436.86 1520.6 Q1438.36 1518.83 1438.36 1515.81 Q1438.36 1512.76 1436.86 1511.01 Q1435.37 1509.26 1432.81 1509.26 M1440.36 1497.35 L1440.36 1500.82 Q1438.93 1500.14 1437.46 1499.78 Q1436.01 1499.42 1434.58 1499.42 Q1430.82 1499.42 1428.83 1501.96 Q1426.85 1504.5 1426.57 1509.64 Q1427.68 1508 1429.35 1507.13 Q1431.03 1506.25 1433.04 1506.25 Q1437.27 1506.25 1439.72 1508.83 Q1442.18 1511.39 1442.18 1515.81 Q1442.18 1520.13 1439.62 1522.75 Q1437.06 1525.36 1432.81 1525.36 Q1427.94 1525.36 1425.37 1521.64 Q1422.79 1517.89 1422.79 1510.8 Q1422.79 1504.14 1425.95 1500.19 Q1429.11 1496.23 1434.43 1496.23 Q1435.86 1496.23 1437.31 1496.51 Q1438.78 1496.79 1440.36 1497.35 Z\" fill=\"#000000\" fill-rule=\"evenodd\" fill-opacity=\"1\" /><path clip-path=\"url(#clip980)\" d=\"M1768.6 1533.08 Q1765.45 1533.08 1763.6 1535.23 Q1761.77 1537.39 1761.77 1541.14 Q1761.77 1544.86 1763.6 1547.04 Q1765.45 1549.19 1768.6 1549.19 Q1771.75 1549.19 1773.58 1547.04 Q1775.43 1544.86 1775.43 1541.14 Q1775.43 1537.39 1773.58 1535.23 Q1771.75 1533.08 1768.6 1533.08 M1777.89 1518.43 L1777.89 1522.69 Q1776.13 1521.85 1774.32 1521.41 Q1772.54 1520.97 1770.78 1520.97 Q1766.15 1520.97 1763.7 1524.1 Q1761.26 1527.22 1760.92 1533.54 Q1762.28 1531.53 1764.34 1530.47 Q1766.4 1529.38 1768.88 1529.38 Q1774.09 1529.38 1777.1 1532.55 Q1780.13 1535.7 1780.13 1541.14 Q1780.13 1546.46 1776.98 1549.68 Q1773.83 1552.9 1768.6 1552.9 Q1762.61 1552.9 1759.44 1548.31 Q1756.26 1543.71 1756.26 1534.98 Q1756.26 1526.78 1760.15 1521.92 Q1764.04 1517.04 1770.59 1517.04 Q1772.35 1517.04 1774.14 1517.39 Q1775.94 1517.73 1777.89 1518.43 Z\" fill=\"#000000\" fill-rule=\"evenodd\" fill-opacity=\"1\" /><path clip-path=\"url(#clip980)\" d=\"M1788.19 1546.35 L1793.07 1546.35 L1793.07 1552.22 L1788.19 1552.22 L1788.19 1546.35 Z\" fill=\"#000000\" fill-rule=\"evenodd\" fill-opacity=\"1\" /><path clip-path=\"url(#clip980)\" d=\"M1813.26 1520.74 Q1809.64 1520.74 1807.82 1524.31 Q1806.01 1527.85 1806.01 1534.98 Q1806.01 1542.09 1807.82 1545.65 Q1809.64 1549.19 1813.26 1549.19 Q1816.89 1549.19 1818.7 1545.65 Q1820.52 1542.09 1820.52 1534.98 Q1820.52 1527.85 1818.7 1524.31 Q1816.89 1520.74 1813.26 1520.74 M1813.26 1517.04 Q1819.07 1517.04 1822.12 1521.65 Q1825.2 1526.23 1825.2 1534.98 Q1825.2 1543.71 1822.12 1548.31 Q1819.07 1552.9 1813.26 1552.9 Q1807.45 1552.9 1804.37 1548.31 Q1801.31 1543.71 1801.31 1534.98 Q1801.31 1526.23 1804.37 1521.65 Q1807.45 1517.04 1813.26 1517.04 Z\" fill=\"#000000\" fill-rule=\"evenodd\" fill-opacity=\"1\" /><path clip-path=\"url(#clip980)\" d=\"M1861.59 1526.76 L1851.01 1537.39 L1861.59 1547.97 L1858.83 1550.77 L1848.21 1540.14 L1837.58 1550.77 L1834.85 1547.97 L1845.41 1537.39 L1834.85 1526.76 L1837.58 1523.96 L1848.21 1534.59 L1858.83 1523.96 L1861.59 1526.76 Z\" fill=\"#000000\" fill-rule=\"evenodd\" fill-opacity=\"1\" /><path clip-path=\"url(#clip980)\" d=\"M1873.95 1548.29 L1881.59 1548.29 L1881.59 1521.92 L1873.28 1523.59 L1873.28 1519.33 L1881.54 1517.66 L1886.22 1517.66 L1886.22 1548.29 L1893.86 1548.29 L1893.86 1552.22 L1873.95 1552.22 L1873.95 1548.29 Z\" fill=\"#000000\" fill-rule=\"evenodd\" fill-opacity=\"1\" /><path clip-path=\"url(#clip980)\" d=\"M1913.3 1520.74 Q1909.69 1520.74 1907.86 1524.31 Q1906.06 1527.85 1906.06 1534.98 Q1906.06 1542.09 1907.86 1545.65 Q1909.69 1549.19 1913.3 1549.19 Q1916.94 1549.19 1918.74 1545.65 Q1920.57 1542.09 1920.57 1534.98 Q1920.57 1527.85 1918.74 1524.31 Q1916.94 1520.74 1913.3 1520.74 M1913.3 1517.04 Q1919.11 1517.04 1922.17 1521.65 Q1925.25 1526.23 1925.25 1534.98 Q1925.25 1543.71 1922.17 1548.31 Q1919.11 1552.9 1913.3 1552.9 Q1907.49 1552.9 1904.41 1548.31 Q1901.36 1543.71 1901.36 1534.98 Q1901.36 1526.23 1904.41 1521.65 Q1907.49 1517.04 1913.3 1517.04 Z\" fill=\"#000000\" fill-rule=\"evenodd\" fill-opacity=\"1\" /><path clip-path=\"url(#clip980)\" d=\"M1935.27 1509.26 Q1932.71 1509.26 1931.21 1511.01 Q1929.72 1512.76 1929.72 1515.81 Q1929.72 1518.83 1931.21 1520.6 Q1932.71 1522.35 1935.27 1522.35 Q1937.83 1522.35 1939.31 1520.6 Q1940.82 1518.83 1940.82 1515.81 Q1940.82 1512.76 1939.31 1511.01 Q1937.83 1509.26 1935.27 1509.26 M1942.81 1497.35 L1942.81 1500.82 Q1941.38 1500.14 1939.92 1499.78 Q1938.47 1499.42 1937.04 1499.42 Q1933.28 1499.42 1931.28 1501.96 Q1929.31 1504.5 1929.03 1509.64 Q1930.14 1508 1931.81 1507.13 Q1933.48 1506.25 1935.5 1506.25 Q1939.73 1506.25 1942.17 1508.83 Q1944.64 1511.39 1944.64 1515.81 Q1944.64 1520.13 1942.08 1522.75 Q1939.52 1525.36 1935.27 1525.36 Q1930.4 1525.36 1927.82 1521.64 Q1925.25 1517.89 1925.25 1510.8 Q1925.25 1504.14 1928.41 1500.19 Q1931.56 1496.23 1936.89 1496.23 Q1938.32 1496.23 1939.77 1496.51 Q1941.23 1496.79 1942.81 1497.35 Z\" fill=\"#000000\" fill-rule=\"evenodd\" fill-opacity=\"1\" /><path clip-path=\"url(#clip980)\" d=\"M2260.63 1551.51 L2260.63 1547.25 Q2262.39 1548.08 2264.2 1548.52 Q2266 1548.96 2267.74 1548.96 Q2272.37 1548.96 2274.8 1545.86 Q2277.25 1542.73 2277.6 1536.39 Q2276.26 1538.38 2274.2 1539.45 Q2272.13 1540.51 2269.63 1540.51 Q2264.45 1540.51 2261.42 1537.39 Q2258.41 1534.24 2258.41 1528.8 Q2258.41 1523.47 2261.56 1520.26 Q2264.7 1517.04 2269.94 1517.04 Q2275.93 1517.04 2279.08 1521.65 Q2282.25 1526.23 2282.25 1534.98 Q2282.25 1543.15 2278.36 1548.03 Q2274.5 1552.9 2267.95 1552.9 Q2266.19 1552.9 2264.38 1552.55 Q2262.57 1552.2 2260.63 1551.51 M2269.94 1536.85 Q2273.08 1536.85 2274.91 1534.7 Q2276.76 1532.55 2276.76 1528.8 Q2276.76 1525.07 2274.91 1522.92 Q2273.08 1520.74 2269.94 1520.74 Q2266.79 1520.74 2264.94 1522.92 Q2263.11 1525.07 2263.11 1528.8 Q2263.11 1532.55 2264.94 1534.7 Q2266.79 1536.85 2269.94 1536.85 Z\" fill=\"#000000\" fill-rule=\"evenodd\" fill-opacity=\"1\" /><path clip-path=\"url(#clip980)\" d=\"M2290.65 1546.35 L2295.54 1546.35 L2295.54 1552.22 L2290.65 1552.22 L2290.65 1546.35 Z\" fill=\"#000000\" fill-rule=\"evenodd\" fill-opacity=\"1\" /><path clip-path=\"url(#clip980)\" d=\"M2315.72 1520.74 Q2312.11 1520.74 2310.28 1524.31 Q2308.48 1527.85 2308.48 1534.98 Q2308.48 1542.09 2310.28 1545.65 Q2312.11 1549.19 2315.72 1549.19 Q2319.36 1549.19 2321.16 1545.65 Q2322.99 1542.09 2322.99 1534.98 Q2322.99 1527.85 2321.16 1524.31 Q2319.36 1520.74 2315.72 1520.74 M2315.72 1517.04 Q2321.53 1517.04 2324.59 1521.65 Q2327.67 1526.23 2327.67 1534.98 Q2327.67 1543.71 2324.59 1548.31 Q2321.53 1552.9 2315.72 1552.9 Q2309.91 1552.9 2306.83 1548.31 Q2303.78 1543.71 2303.78 1534.98 Q2303.78 1526.23 2306.83 1521.65 Q2309.91 1517.04 2315.72 1517.04 Z\" fill=\"#000000\" fill-rule=\"evenodd\" fill-opacity=\"1\" /><path clip-path=\"url(#clip980)\" d=\"M2364.06 1526.76 L2353.48 1537.39 L2364.06 1547.97 L2361.3 1550.77 L2350.68 1540.14 L2340.05 1550.77 L2337.32 1547.97 L2347.88 1537.39 L2337.32 1526.76 L2340.05 1523.96 L2350.68 1534.59 L2361.3 1523.96 L2364.06 1526.76 Z\" fill=\"#000000\" fill-rule=\"evenodd\" fill-opacity=\"1\" /><path clip-path=\"url(#clip980)\" d=\"M2376.42 1548.29 L2384.06 1548.29 L2384.06 1521.92 L2375.75 1523.59 L2375.75 1519.33 L2384.01 1517.66 L2388.69 1517.66 L2388.69 1548.29 L2396.32 1548.29 L2396.32 1552.22 L2376.42 1552.22 L2376.42 1548.29 Z\" fill=\"#000000\" fill-rule=\"evenodd\" fill-opacity=\"1\" /><path clip-path=\"url(#clip980)\" d=\"M2415.77 1520.74 Q2412.16 1520.74 2410.33 1524.31 Q2408.52 1527.85 2408.52 1534.98 Q2408.52 1542.09 2410.33 1545.65 Q2412.16 1549.19 2415.77 1549.19 Q2419.4 1549.19 2421.21 1545.65 Q2423.04 1542.09 2423.04 1534.98 Q2423.04 1527.85 2421.21 1524.31 Q2419.4 1520.74 2415.77 1520.74 M2415.77 1517.04 Q2421.58 1517.04 2424.63 1521.65 Q2427.71 1526.23 2427.71 1534.98 Q2427.71 1543.71 2424.63 1548.31 Q2421.58 1552.9 2415.77 1552.9 Q2409.96 1552.9 2406.88 1548.31 Q2403.82 1543.71 2403.82 1534.98 Q2403.82 1526.23 2406.88 1521.65 Q2409.96 1517.04 2415.77 1517.04 Z\" fill=\"#000000\" fill-rule=\"evenodd\" fill-opacity=\"1\" /><path clip-path=\"url(#clip980)\" d=\"M2437.74 1509.26 Q2435.18 1509.26 2433.67 1511.01 Q2432.19 1512.76 2432.19 1515.81 Q2432.19 1518.83 2433.67 1520.6 Q2435.18 1522.35 2437.74 1522.35 Q2440.3 1522.35 2441.78 1520.6 Q2443.29 1518.83 2443.29 1515.81 Q2443.29 1512.76 2441.78 1511.01 Q2440.3 1509.26 2437.74 1509.26 M2445.28 1497.35 L2445.28 1500.82 Q2443.85 1500.14 2442.38 1499.78 Q2440.93 1499.42 2439.51 1499.42 Q2435.74 1499.42 2433.75 1501.96 Q2431.78 1504.5 2431.49 1509.64 Q2432.6 1508 2434.28 1507.13 Q2435.95 1506.25 2437.96 1506.25 Q2442.19 1506.25 2444.64 1508.83 Q2447.1 1511.39 2447.1 1515.81 Q2447.1 1520.13 2444.55 1522.75 Q2441.99 1525.36 2437.74 1525.36 Q2432.87 1525.36 2430.29 1521.64 Q2427.71 1517.89 2427.71 1510.8 Q2427.71 1504.14 2430.87 1500.19 Q2434.03 1496.23 2439.35 1496.23 Q2440.78 1496.23 2442.23 1496.51 Q2443.7 1496.79 2445.28 1497.35 Z\" fill=\"#000000\" fill-rule=\"evenodd\" fill-opacity=\"1\" /><polyline clip-path=\"url(#clip982)\" style=\"stroke:#000000; stroke-linecap:round; stroke-linejoin:round; stroke-width:2; stroke-opacity:0.1; fill:none\" points=\"\n",
       "  343.534,1474.16 2352.76,1474.16 \n",
       "  \"/>\n",
       "<polyline clip-path=\"url(#clip982)\" style=\"stroke:#000000; stroke-linecap:round; stroke-linejoin:round; stroke-width:2; stroke-opacity:0.1; fill:none\" points=\"\n",
       "  343.534,1117.43 2352.76,1117.43 \n",
       "  \"/>\n",
       "<polyline clip-path=\"url(#clip982)\" style=\"stroke:#000000; stroke-linecap:round; stroke-linejoin:round; stroke-width:2; stroke-opacity:0.1; fill:none\" points=\"\n",
       "  343.534,760.704 2352.76,760.704 \n",
       "  \"/>\n",
       "<polyline clip-path=\"url(#clip982)\" style=\"stroke:#000000; stroke-linecap:round; stroke-linejoin:round; stroke-width:2; stroke-opacity:0.1; fill:none\" points=\"\n",
       "  343.534,403.974 2352.76,403.974 \n",
       "  \"/>\n",
       "<polyline clip-path=\"url(#clip982)\" style=\"stroke:#000000; stroke-linecap:round; stroke-linejoin:round; stroke-width:2; stroke-opacity:0.1; fill:none\" points=\"\n",
       "  343.534,47.2441 2352.76,47.2441 \n",
       "  \"/>\n",
       "<polyline clip-path=\"url(#clip980)\" style=\"stroke:#000000; stroke-linecap:round; stroke-linejoin:round; stroke-width:4; stroke-opacity:1; fill:none\" points=\"\n",
       "  343.534,1474.16 343.534,47.2441 \n",
       "  \"/>\n",
       "<polyline clip-path=\"url(#clip980)\" style=\"stroke:#000000; stroke-linecap:round; stroke-linejoin:round; stroke-width:4; stroke-opacity:1; fill:none\" points=\"\n",
       "  343.534,1474.16 362.432,1474.16 \n",
       "  \"/>\n",
       "<polyline clip-path=\"url(#clip980)\" style=\"stroke:#000000; stroke-linecap:round; stroke-linejoin:round; stroke-width:4; stroke-opacity:1; fill:none\" points=\"\n",
       "  343.534,1117.43 362.432,1117.43 \n",
       "  \"/>\n",
       "<polyline clip-path=\"url(#clip980)\" style=\"stroke:#000000; stroke-linecap:round; stroke-linejoin:round; stroke-width:4; stroke-opacity:1; fill:none\" points=\"\n",
       "  343.534,760.704 362.432,760.704 \n",
       "  \"/>\n",
       "<polyline clip-path=\"url(#clip980)\" style=\"stroke:#000000; stroke-linecap:round; stroke-linejoin:round; stroke-width:4; stroke-opacity:1; fill:none\" points=\"\n",
       "  343.534,403.974 362.432,403.974 \n",
       "  \"/>\n",
       "<polyline clip-path=\"url(#clip980)\" style=\"stroke:#000000; stroke-linecap:round; stroke-linejoin:round; stroke-width:4; stroke-opacity:1; fill:none\" points=\"\n",
       "  343.534,47.2441 362.432,47.2441 \n",
       "  \"/>\n",
       "<path clip-path=\"url(#clip980)\" d=\"M52.3275 1481.06 L82.0032 1481.06 L82.0032 1485 L52.3275 1485 L52.3275 1481.06 Z\" fill=\"#000000\" fill-rule=\"evenodd\" fill-opacity=\"1\" /><path clip-path=\"url(#clip980)\" d=\"M92.906 1493.96 L100.545 1493.96 L100.545 1467.59 L92.2347 1469.26 L92.2347 1465 L100.499 1463.33 L105.174 1463.33 L105.174 1493.96 L112.813 1493.96 L112.813 1497.89 L92.906 1497.89 L92.906 1493.96 Z\" fill=\"#000000\" fill-rule=\"evenodd\" fill-opacity=\"1\" /><path clip-path=\"url(#clip980)\" d=\"M122.258 1492.01 L127.142 1492.01 L127.142 1497.89 L122.258 1497.89 L122.258 1492.01 Z\" fill=\"#000000\" fill-rule=\"evenodd\" fill-opacity=\"1\" /><path clip-path=\"url(#clip980)\" d=\"M137.373 1463.33 L155.73 1463.33 L155.73 1467.27 L141.656 1467.27 L141.656 1475.74 Q142.674 1475.39 143.693 1475.23 Q144.711 1475.05 145.73 1475.05 Q151.517 1475.05 154.896 1478.22 Q158.276 1481.39 158.276 1486.8 Q158.276 1492.38 154.804 1495.48 Q151.332 1498.56 145.012 1498.56 Q142.836 1498.56 140.568 1498.19 Q138.322 1497.82 135.915 1497.08 L135.915 1492.38 Q137.998 1493.52 140.221 1494.07 Q142.443 1494.63 144.92 1494.63 Q148.924 1494.63 151.262 1492.52 Q153.6 1490.42 153.6 1486.8 Q153.6 1483.19 151.262 1481.09 Q148.924 1478.98 144.92 1478.98 Q143.045 1478.98 141.17 1479.4 Q139.318 1479.81 137.373 1480.69 L137.373 1463.33 Z\" fill=\"#000000\" fill-rule=\"evenodd\" fill-opacity=\"1\" /><path clip-path=\"url(#clip980)\" d=\"M177.489 1466.41 Q173.878 1466.41 172.049 1469.98 Q170.244 1473.52 170.244 1480.65 Q170.244 1487.75 172.049 1491.32 Q173.878 1494.86 177.489 1494.86 Q181.123 1494.86 182.929 1491.32 Q184.757 1487.75 184.757 1480.65 Q184.757 1473.52 182.929 1469.98 Q181.123 1466.41 177.489 1466.41 M177.489 1462.71 Q183.299 1462.71 186.355 1467.31 Q189.433 1471.9 189.433 1480.65 Q189.433 1489.37 186.355 1493.98 Q183.299 1498.56 177.489 1498.56 Q171.679 1498.56 168.6 1493.98 Q165.544 1489.37 165.544 1480.65 Q165.544 1471.9 168.6 1467.31 Q171.679 1462.71 177.489 1462.71 Z\" fill=\"#000000\" fill-rule=\"evenodd\" fill-opacity=\"1\" /><path clip-path=\"url(#clip980)\" d=\"M225.822 1472.43 L215.243 1483.05 L225.822 1493.63 L223.067 1496.43 L212.442 1485.81 L201.817 1496.43 L199.086 1493.63 L209.641 1483.05 L199.086 1472.43 L201.817 1469.63 L212.442 1480.25 L223.067 1469.63 L225.822 1472.43 Z\" fill=\"#000000\" fill-rule=\"evenodd\" fill-opacity=\"1\" /><path clip-path=\"url(#clip980)\" d=\"M238.183 1493.96 L245.822 1493.96 L245.822 1467.59 L237.512 1469.26 L237.512 1465 L245.776 1463.33 L250.451 1463.33 L250.451 1493.96 L258.09 1493.96 L258.09 1497.89 L238.183 1497.89 L238.183 1493.96 Z\" fill=\"#000000\" fill-rule=\"evenodd\" fill-opacity=\"1\" /><path clip-path=\"url(#clip980)\" d=\"M277.535 1466.41 Q273.924 1466.41 272.095 1469.98 Q270.289 1473.52 270.289 1480.65 Q270.289 1487.75 272.095 1491.32 Q273.924 1494.86 277.535 1494.86 Q281.169 1494.86 282.974 1491.32 Q284.803 1487.75 284.803 1480.65 Q284.803 1473.52 282.974 1469.98 Q281.169 1466.41 277.535 1466.41 M277.535 1462.71 Q283.345 1462.71 286.4 1467.31 Q289.479 1471.9 289.479 1480.65 Q289.479 1489.37 286.4 1493.98 Q283.345 1498.56 277.535 1498.56 Q271.724 1498.56 268.646 1493.98 Q265.59 1489.37 265.59 1480.65 Q265.59 1471.9 268.646 1467.31 Q271.724 1462.71 277.535 1462.71 Z\" fill=\"#000000\" fill-rule=\"evenodd\" fill-opacity=\"1\" /><path clip-path=\"url(#clip980)\" d=\"M289.479 1442.4 L307.534 1442.4 L307.534 1444.02 L297.341 1470.48 L293.372 1470.48 L302.964 1445.6 L289.479 1445.6 L289.479 1442.4 Z\" fill=\"#000000\" fill-rule=\"evenodd\" fill-opacity=\"1\" /><path clip-path=\"url(#clip980)\" d=\"M52.3275 1124.33 L82.0032 1124.33 L82.0032 1128.27 L52.3275 1128.27 L52.3275 1124.33 Z\" fill=\"#000000\" fill-rule=\"evenodd\" fill-opacity=\"1\" /><path clip-path=\"url(#clip980)\" d=\"M92.906 1137.23 L100.545 1137.23 L100.545 1110.86 L92.2347 1112.53 L92.2347 1108.27 L100.499 1106.6 L105.174 1106.6 L105.174 1137.23 L112.813 1137.23 L112.813 1141.16 L92.906 1141.16 L92.906 1137.23 Z\" fill=\"#000000\" fill-rule=\"evenodd\" fill-opacity=\"1\" /><path clip-path=\"url(#clip980)\" d=\"M122.258 1135.28 L127.142 1135.28 L127.142 1141.16 L122.258 1141.16 L122.258 1135.28 Z\" fill=\"#000000\" fill-rule=\"evenodd\" fill-opacity=\"1\" /><path clip-path=\"url(#clip980)\" d=\"M147.327 1109.68 Q143.716 1109.68 141.887 1113.25 Q140.082 1116.79 140.082 1123.92 Q140.082 1131.02 141.887 1134.59 Q143.716 1138.13 147.327 1138.13 Q150.961 1138.13 152.767 1134.59 Q154.595 1131.02 154.595 1123.92 Q154.595 1116.79 152.767 1113.25 Q150.961 1109.68 147.327 1109.68 M147.327 1105.98 Q153.137 1105.98 156.193 1110.58 Q159.271 1115.17 159.271 1123.92 Q159.271 1132.64 156.193 1137.25 Q153.137 1141.83 147.327 1141.83 Q141.517 1141.83 138.438 1137.25 Q135.383 1132.64 135.383 1123.92 Q135.383 1115.17 138.438 1110.58 Q141.517 1105.98 147.327 1105.98 Z\" fill=\"#000000\" fill-rule=\"evenodd\" fill-opacity=\"1\" /><path clip-path=\"url(#clip980)\" d=\"M177.489 1109.68 Q173.878 1109.68 172.049 1113.25 Q170.244 1116.79 170.244 1123.92 Q170.244 1131.02 172.049 1134.59 Q173.878 1138.13 177.489 1138.13 Q181.123 1138.13 182.929 1134.59 Q184.757 1131.02 184.757 1123.92 Q184.757 1116.79 182.929 1113.25 Q181.123 1109.68 177.489 1109.68 M177.489 1105.98 Q183.299 1105.98 186.355 1110.58 Q189.433 1115.17 189.433 1123.92 Q189.433 1132.64 186.355 1137.25 Q183.299 1141.83 177.489 1141.83 Q171.679 1141.83 168.6 1137.25 Q165.544 1132.64 165.544 1123.92 Q165.544 1115.17 168.6 1110.58 Q171.679 1105.98 177.489 1105.98 Z\" fill=\"#000000\" fill-rule=\"evenodd\" fill-opacity=\"1\" /><path clip-path=\"url(#clip980)\" d=\"M225.822 1115.7 L215.243 1126.32 L225.822 1136.9 L223.067 1139.7 L212.442 1129.08 L201.817 1139.7 L199.086 1136.9 L209.641 1126.32 L199.086 1115.7 L201.817 1112.9 L212.442 1123.52 L223.067 1112.9 L225.822 1115.7 Z\" fill=\"#000000\" fill-rule=\"evenodd\" fill-opacity=\"1\" /><path clip-path=\"url(#clip980)\" d=\"M238.183 1137.23 L245.822 1137.23 L245.822 1110.86 L237.512 1112.53 L237.512 1108.27 L245.776 1106.6 L250.451 1106.6 L250.451 1137.23 L258.09 1137.23 L258.09 1141.16 L238.183 1141.16 L238.183 1137.23 Z\" fill=\"#000000\" fill-rule=\"evenodd\" fill-opacity=\"1\" /><path clip-path=\"url(#clip980)\" d=\"M277.535 1109.68 Q273.924 1109.68 272.095 1113.25 Q270.289 1116.79 270.289 1123.92 Q270.289 1131.02 272.095 1134.59 Q273.924 1138.13 277.535 1138.13 Q281.169 1138.13 282.974 1134.59 Q284.803 1131.02 284.803 1123.92 Q284.803 1116.79 282.974 1113.25 Q281.169 1109.68 277.535 1109.68 M277.535 1105.98 Q283.345 1105.98 286.4 1110.58 Q289.479 1115.17 289.479 1123.92 Q289.479 1132.64 286.4 1137.25 Q283.345 1141.83 277.535 1141.83 Q271.724 1141.83 268.646 1137.25 Q265.59 1132.64 265.59 1123.92 Q265.59 1115.17 268.646 1110.58 Q271.724 1105.98 277.535 1105.98 Z\" fill=\"#000000\" fill-rule=\"evenodd\" fill-opacity=\"1\" /><path clip-path=\"url(#clip980)\" d=\"M289.479 1085.67 L307.534 1085.67 L307.534 1087.29 L297.341 1113.75 L293.372 1113.75 L302.964 1088.87 L289.479 1088.87 L289.479 1085.67 Z\" fill=\"#000000\" fill-rule=\"evenodd\" fill-opacity=\"1\" /><path clip-path=\"url(#clip980)\" d=\"M50.9921 767.603 L80.6679 767.603 L80.6679 771.539 L50.9921 771.539 L50.9921 767.603 Z\" fill=\"#000000\" fill-rule=\"evenodd\" fill-opacity=\"1\" /><path clip-path=\"url(#clip980)\" d=\"M90.8067 749.872 L109.163 749.872 L109.163 753.807 L95.0891 753.807 L95.0891 762.279 Q96.1076 761.932 97.1261 761.77 Q98.1447 761.585 99.1632 761.585 Q104.95 761.585 108.33 764.756 Q111.709 767.927 111.709 773.344 Q111.709 778.923 108.237 782.025 Q104.765 785.103 98.4456 785.103 Q96.2697 785.103 94.0012 784.733 Q91.7558 784.363 89.3484 783.622 L89.3484 778.923 Q91.4317 780.057 93.6539 780.613 Q95.8761 781.168 98.353 781.168 Q102.358 781.168 104.696 779.062 Q107.033 776.955 107.033 773.344 Q107.033 769.733 104.696 767.627 Q102.358 765.52 98.353 765.52 Q96.478 765.52 94.603 765.937 Q92.7512 766.353 90.8067 767.233 L90.8067 749.872 Z\" fill=\"#000000\" fill-rule=\"evenodd\" fill-opacity=\"1\" /><path clip-path=\"url(#clip980)\" d=\"M120.922 778.552 L125.807 778.552 L125.807 784.432 L120.922 784.432 L120.922 778.552 Z\" fill=\"#000000\" fill-rule=\"evenodd\" fill-opacity=\"1\" /><path clip-path=\"url(#clip980)\" d=\"M145.992 752.951 Q142.381 752.951 140.552 756.515 Q138.746 760.057 138.746 767.187 Q138.746 774.293 140.552 777.858 Q142.381 781.4 145.992 781.4 Q149.626 781.4 151.431 777.858 Q153.26 774.293 153.26 767.187 Q153.26 760.057 151.431 756.515 Q149.626 752.951 145.992 752.951 M145.992 749.247 Q151.802 749.247 154.857 753.853 Q157.936 758.437 157.936 767.187 Q157.936 775.914 154.857 780.52 Q151.802 785.103 145.992 785.103 Q140.181 785.103 137.103 780.52 Q134.047 775.914 134.047 767.187 Q134.047 758.437 137.103 753.853 Q140.181 749.247 145.992 749.247 Z\" fill=\"#000000\" fill-rule=\"evenodd\" fill-opacity=\"1\" /><path clip-path=\"url(#clip980)\" d=\"M176.153 752.951 Q172.542 752.951 170.714 756.515 Q168.908 760.057 168.908 767.187 Q168.908 774.293 170.714 777.858 Q172.542 781.4 176.153 781.4 Q179.788 781.4 181.593 777.858 Q183.422 774.293 183.422 767.187 Q183.422 760.057 181.593 756.515 Q179.788 752.951 176.153 752.951 M176.153 749.247 Q181.964 749.247 185.019 753.853 Q188.098 758.437 188.098 767.187 Q188.098 775.914 185.019 780.52 Q181.964 785.103 176.153 785.103 Q170.343 785.103 167.265 780.52 Q164.209 775.914 164.209 767.187 Q164.209 758.437 167.265 753.853 Q170.343 749.247 176.153 749.247 Z\" fill=\"#000000\" fill-rule=\"evenodd\" fill-opacity=\"1\" /><path clip-path=\"url(#clip980)\" d=\"M224.487 758.969 L213.908 769.594 L224.487 780.173 L221.732 782.974 L211.107 772.349 L200.482 782.974 L197.751 780.173 L208.306 769.594 L197.751 758.969 L200.482 756.168 L211.107 766.793 L221.732 756.168 L224.487 758.969 Z\" fill=\"#000000\" fill-rule=\"evenodd\" fill-opacity=\"1\" /><path clip-path=\"url(#clip980)\" d=\"M236.848 780.497 L244.486 780.497 L244.486 754.131 L236.176 755.798 L236.176 751.539 L244.44 749.872 L249.116 749.872 L249.116 780.497 L256.755 780.497 L256.755 784.432 L236.848 784.432 L236.848 780.497 Z\" fill=\"#000000\" fill-rule=\"evenodd\" fill-opacity=\"1\" /><path clip-path=\"url(#clip980)\" d=\"M276.199 752.951 Q272.588 752.951 270.759 756.515 Q268.954 760.057 268.954 767.187 Q268.954 774.293 270.759 777.858 Q272.588 781.4 276.199 781.4 Q279.833 781.4 281.639 777.858 Q283.468 774.293 283.468 767.187 Q283.468 760.057 281.639 756.515 Q279.833 752.951 276.199 752.951 M276.199 749.247 Q282.009 749.247 285.065 753.853 Q288.144 758.437 288.144 767.187 Q288.144 775.914 285.065 780.52 Q282.009 785.103 276.199 785.103 Q270.389 785.103 267.31 780.52 Q264.255 775.914 264.255 767.187 Q264.255 758.437 267.31 753.853 Q270.389 749.247 276.199 749.247 Z\" fill=\"#000000\" fill-rule=\"evenodd\" fill-opacity=\"1\" /><path clip-path=\"url(#clip980)\" d=\"M298.168 741.468 Q295.61 741.468 294.106 743.217 Q292.62 744.966 292.62 748.013 Q292.62 751.041 294.106 752.809 Q295.61 754.558 298.168 754.558 Q300.726 754.558 302.212 752.809 Q303.716 751.041 303.716 748.013 Q303.716 744.966 302.212 743.217 Q300.726 741.468 298.168 741.468 M305.71 729.562 L305.71 733.023 Q304.281 732.346 302.814 731.988 Q301.365 731.631 299.936 731.631 Q296.175 731.631 294.181 734.17 Q292.206 736.709 291.924 741.844 Q293.034 740.207 294.708 739.342 Q296.381 738.458 298.394 738.458 Q302.626 738.458 305.071 741.035 Q307.534 743.593 307.534 748.013 Q307.534 752.338 304.977 754.953 Q302.419 757.567 298.168 757.567 Q293.297 757.567 290.72 753.843 Q288.144 750.1 288.144 743.01 Q288.144 736.352 291.303 732.402 Q294.463 728.434 299.786 728.434 Q301.215 728.434 302.663 728.716 Q304.13 728.998 305.71 729.562 Z\" fill=\"#000000\" fill-rule=\"evenodd\" fill-opacity=\"1\" /><path clip-path=\"url(#clip980)\" d=\"M295.59 389.773 Q291.979 389.773 290.15 393.338 Q288.345 396.879 288.345 404.009 Q288.345 411.115 290.15 414.68 Q291.979 418.222 295.59 418.222 Q299.224 418.222 301.03 414.68 Q302.859 411.115 302.859 404.009 Q302.859 396.879 301.03 393.338 Q299.224 389.773 295.59 389.773 M295.59 386.069 Q301.4 386.069 304.456 390.676 Q307.534 395.259 307.534 404.009 Q307.534 412.736 304.456 417.342 Q301.4 421.926 295.59 421.926 Q289.78 421.926 286.701 417.342 Q283.646 412.736 283.646 404.009 Q283.646 395.259 286.701 390.676 Q289.78 386.069 295.59 386.069 Z\" fill=\"#000000\" fill-rule=\"evenodd\" fill-opacity=\"1\" /><path clip-path=\"url(#clip980)\" d=\"M90.8067 36.4117 L109.163 36.4117 L109.163 40.3469 L95.0891 40.3469 L95.0891 48.819 Q96.1076 48.4718 97.1261 48.3098 Q98.1447 48.1246 99.1632 48.1246 Q104.95 48.1246 108.33 51.2959 Q111.709 54.4672 111.709 59.8838 Q111.709 65.4625 108.237 68.5643 Q104.765 71.643 98.4456 71.643 Q96.2697 71.643 94.0012 71.2726 Q91.7558 70.9023 89.3484 70.1615 L89.3484 65.4625 Q91.4317 66.5967 93.6539 67.1523 Q95.8761 67.7078 98.353 67.7078 Q102.358 67.7078 104.696 65.6014 Q107.033 63.4949 107.033 59.8838 Q107.033 56.2727 104.696 54.1662 Q102.358 52.0598 98.353 52.0598 Q96.478 52.0598 94.603 52.4764 Q92.7512 52.8931 90.8067 53.7727 L90.8067 36.4117 Z\" fill=\"#000000\" fill-rule=\"evenodd\" fill-opacity=\"1\" /><path clip-path=\"url(#clip980)\" d=\"M120.922 65.0921 L125.807 65.0921 L125.807 70.9717 L120.922 70.9717 L120.922 65.0921 Z\" fill=\"#000000\" fill-rule=\"evenodd\" fill-opacity=\"1\" /><path clip-path=\"url(#clip980)\" d=\"M145.992 39.4904 Q142.381 39.4904 140.552 43.0552 Q138.746 46.5968 138.746 53.7264 Q138.746 60.8329 140.552 64.3977 Q142.381 67.9393 145.992 67.9393 Q149.626 67.9393 151.431 64.3977 Q153.26 60.8329 153.26 53.7264 Q153.26 46.5968 151.431 43.0552 Q149.626 39.4904 145.992 39.4904 M145.992 35.7867 Q151.802 35.7867 154.857 40.3932 Q157.936 44.9765 157.936 53.7264 Q157.936 62.4532 154.857 67.0597 Q151.802 71.643 145.992 71.643 Q140.181 71.643 137.103 67.0597 Q134.047 62.4532 134.047 53.7264 Q134.047 44.9765 137.103 40.3932 Q140.181 35.7867 145.992 35.7867 Z\" fill=\"#000000\" fill-rule=\"evenodd\" fill-opacity=\"1\" /><path clip-path=\"url(#clip980)\" d=\"M176.153 39.4904 Q172.542 39.4904 170.714 43.0552 Q168.908 46.5968 168.908 53.7264 Q168.908 60.8329 170.714 64.3977 Q172.542 67.9393 176.153 67.9393 Q179.788 67.9393 181.593 64.3977 Q183.422 60.8329 183.422 53.7264 Q183.422 46.5968 181.593 43.0552 Q179.788 39.4904 176.153 39.4904 M176.153 35.7867 Q181.964 35.7867 185.019 40.3932 Q188.098 44.9765 188.098 53.7264 Q188.098 62.4532 185.019 67.0597 Q181.964 71.643 176.153 71.643 Q170.343 71.643 167.265 67.0597 Q164.209 62.4532 164.209 53.7264 Q164.209 44.9765 167.265 40.3932 Q170.343 35.7867 176.153 35.7867 Z\" fill=\"#000000\" fill-rule=\"evenodd\" fill-opacity=\"1\" /><path clip-path=\"url(#clip980)\" d=\"M224.487 45.5089 L213.908 56.1338 L224.487 66.7125 L221.732 69.5134 L211.107 58.8884 L200.482 69.5134 L197.751 66.7125 L208.306 56.1338 L197.751 45.5089 L200.482 42.708 L211.107 53.3329 L221.732 42.708 L224.487 45.5089 Z\" fill=\"#000000\" fill-rule=\"evenodd\" fill-opacity=\"1\" /><path clip-path=\"url(#clip980)\" d=\"M236.848 67.0365 L244.486 67.0365 L244.486 40.6709 L236.176 42.3376 L236.176 38.0784 L244.44 36.4117 L249.116 36.4117 L249.116 67.0365 L256.755 67.0365 L256.755 70.9717 L236.848 70.9717 L236.848 67.0365 Z\" fill=\"#000000\" fill-rule=\"evenodd\" fill-opacity=\"1\" /><path clip-path=\"url(#clip980)\" d=\"M276.199 39.4904 Q272.588 39.4904 270.759 43.0552 Q268.954 46.5968 268.954 53.7264 Q268.954 60.8329 270.759 64.3977 Q272.588 67.9393 276.199 67.9393 Q279.833 67.9393 281.639 64.3977 Q283.468 60.8329 283.468 53.7264 Q283.468 46.5968 281.639 43.0552 Q279.833 39.4904 276.199 39.4904 M276.199 35.7867 Q282.009 35.7867 285.065 40.3932 Q288.144 44.9765 288.144 53.7264 Q288.144 62.4532 285.065 67.0597 Q282.009 71.643 276.199 71.643 Q270.389 71.643 267.31 67.0597 Q264.255 62.4532 264.255 53.7264 Q264.255 44.9765 267.31 40.3932 Q270.389 35.7867 276.199 35.7867 Z\" fill=\"#000000\" fill-rule=\"evenodd\" fill-opacity=\"1\" /><path clip-path=\"url(#clip980)\" d=\"M298.168 28.0073 Q295.61 28.0073 294.106 29.7564 Q292.62 31.5055 292.62 34.5524 Q292.62 37.5804 294.106 39.3484 Q295.61 41.0975 298.168 41.0975 Q300.726 41.0975 302.212 39.3484 Q303.716 37.5804 303.716 34.5524 Q303.716 31.5055 302.212 29.7564 Q300.726 28.0073 298.168 28.0073 M305.71 16.102 L305.71 19.5626 Q304.281 18.8855 302.814 18.5282 Q301.365 18.1708 299.936 18.1708 Q296.175 18.1708 294.181 20.7099 Q292.206 23.2489 291.924 28.3834 Q293.034 26.7471 294.708 25.882 Q296.381 24.998 298.394 24.998 Q302.626 24.998 305.071 27.5747 Q307.534 30.1325 307.534 34.5524 Q307.534 38.8782 304.977 41.4924 Q302.419 44.1067 298.168 44.1067 Q293.297 44.1067 290.72 40.3828 Q288.144 36.64 288.144 29.5495 Q288.144 22.8916 291.303 18.9419 Q294.463 14.9735 299.786 14.9735 Q301.215 14.9735 302.663 15.2556 Q304.13 15.5377 305.71 16.102 Z\" fill=\"#000000\" fill-rule=\"evenodd\" fill-opacity=\"1\" /><polyline clip-path=\"url(#clip982)\" style=\"stroke:#009af9; stroke-linecap:round; stroke-linejoin:round; stroke-width:4; stroke-opacity:1; fill:none\" points=\"\n",
       "  1069.59,1059.89 1288.22,1167.32 1506.86,1237.13 1725.49,1263.81 1944.13,1279.87 \n",
       "  \"/>\n",
       "<circle clip-path=\"url(#clip982)\" cx=\"1069.59\" cy=\"1059.89\" r=\"14.4\" fill=\"#e26f46\" fill-rule=\"evenodd\" fill-opacity=\"1\" stroke=\"#000000\" stroke-opacity=\"1\" stroke-width=\"3.2\"/>\n",
       "<circle clip-path=\"url(#clip982)\" cx=\"1288.22\" cy=\"1167.32\" r=\"14.4\" fill=\"#e26f46\" fill-rule=\"evenodd\" fill-opacity=\"1\" stroke=\"#000000\" stroke-opacity=\"1\" stroke-width=\"3.2\"/>\n",
       "<circle clip-path=\"url(#clip982)\" cx=\"1506.86\" cy=\"1237.13\" r=\"14.4\" fill=\"#e26f46\" fill-rule=\"evenodd\" fill-opacity=\"1\" stroke=\"#000000\" stroke-opacity=\"1\" stroke-width=\"3.2\"/>\n",
       "<circle clip-path=\"url(#clip982)\" cx=\"1725.49\" cy=\"1263.81\" r=\"14.4\" fill=\"#e26f46\" fill-rule=\"evenodd\" fill-opacity=\"1\" stroke=\"#000000\" stroke-opacity=\"1\" stroke-width=\"3.2\"/>\n",
       "<circle clip-path=\"url(#clip982)\" cx=\"1944.13\" cy=\"1279.87\" r=\"14.4\" fill=\"#e26f46\" fill-rule=\"evenodd\" fill-opacity=\"1\" stroke=\"#000000\" stroke-opacity=\"1\" stroke-width=\"3.2\"/>\n",
       "<polyline clip-path=\"url(#clip982)\" style=\"stroke:#3da44d; stroke-linecap:round; stroke-linejoin:round; stroke-width:4; stroke-opacity:1; fill:none\" points=\"\n",
       "  1007.17,1061.73 1311.8,1214.8 1616.43,1290.45 1921.07,1332.16 2225.7,1351.06 \n",
       "  \"/>\n",
       "<circle clip-path=\"url(#clip982)\" cx=\"1007.17\" cy=\"1061.73\" r=\"14.4\" fill=\"#c271d2\" fill-rule=\"evenodd\" fill-opacity=\"1\" stroke=\"#000000\" stroke-opacity=\"1\" stroke-width=\"3.2\"/>\n",
       "<circle clip-path=\"url(#clip982)\" cx=\"1311.8\" cy=\"1214.8\" r=\"14.4\" fill=\"#c271d2\" fill-rule=\"evenodd\" fill-opacity=\"1\" stroke=\"#000000\" stroke-opacity=\"1\" stroke-width=\"3.2\"/>\n",
       "<circle clip-path=\"url(#clip982)\" cx=\"1616.43\" cy=\"1290.45\" r=\"14.4\" fill=\"#c271d2\" fill-rule=\"evenodd\" fill-opacity=\"1\" stroke=\"#000000\" stroke-opacity=\"1\" stroke-width=\"3.2\"/>\n",
       "<circle clip-path=\"url(#clip982)\" cx=\"1921.07\" cy=\"1332.16\" r=\"14.4\" fill=\"#c271d2\" fill-rule=\"evenodd\" fill-opacity=\"1\" stroke=\"#000000\" stroke-opacity=\"1\" stroke-width=\"3.2\"/>\n",
       "<circle clip-path=\"url(#clip982)\" cx=\"2225.7\" cy=\"1351.06\" r=\"14.4\" fill=\"#c271d2\" fill-rule=\"evenodd\" fill-opacity=\"1\" stroke=\"#000000\" stroke-opacity=\"1\" stroke-width=\"3.2\"/>\n",
       "<circle clip-path=\"url(#clip982)\" cx=\"1450.95\" cy=\"1141.69\" r=\"18\" fill=\"#008000\" fill-rule=\"evenodd\" fill-opacity=\"1\" stroke=\"#000000\" stroke-opacity=\"1\" stroke-width=\"3.2\"/>\n",
       "<polyline clip-path=\"url(#clip982)\" style=\"stroke:#000000; stroke-linecap:round; stroke-linejoin:round; stroke-width:4; stroke-opacity:1; fill:none\" points=\"\n",
       "  845.84,2901.09 845.84,-1379.68 \n",
       "  \"/>\n",
       "<polyline clip-path=\"url(#clip982)\" style=\"stroke:#000000; stroke-linecap:round; stroke-linejoin:round; stroke-width:4; stroke-opacity:1; fill:none\" points=\"\n",
       "  -1665.69,403.974 4361.98,403.974 \n",
       "  \"/>\n",
       "<path clip-path=\"url(#clip980)\" d=\"\n",
       "M2030.72 457.688 L2285.78 457.688 L2285.78 94.8081 L2030.72 94.8081  Z\n",
       "  \" fill=\"#ffffff\" fill-rule=\"evenodd\" fill-opacity=\"1\"/>\n",
       "<polyline clip-path=\"url(#clip980)\" style=\"stroke:#000000; stroke-linecap:round; stroke-linejoin:round; stroke-width:4; stroke-opacity:1; fill:none\" points=\"\n",
       "  2030.72,457.688 2285.78,457.688 2285.78,94.8081 2030.72,94.8081 2030.72,457.688 \n",
       "  \"/>\n",
       "<polyline clip-path=\"url(#clip980)\" style=\"stroke:#009af9; stroke-linecap:round; stroke-linejoin:round; stroke-width:4; stroke-opacity:1; fill:none\" points=\"\n",
       "  2053.04,146.648 2186.99,146.648 \n",
       "  \"/>\n",
       "<path clip-path=\"url(#clip980)\" d=\"M2223.16 166.336 Q2221.35 170.965 2219.64 172.377 Q2217.93 173.789 2215.05 173.789 L2211.65 173.789 L2211.65 170.224 L2214.15 170.224 Q2215.91 170.224 2216.88 169.391 Q2217.86 168.558 2219.04 165.456 L2219.8 163.511 L2209.31 138.002 L2213.83 138.002 L2221.93 158.28 L2230.03 138.002 L2234.55 138.002 L2223.16 166.336 Z\" fill=\"#000000\" fill-rule=\"evenodd\" fill-opacity=\"1\" /><path clip-path=\"url(#clip980)\" d=\"M2241.84 159.993 L2249.48 159.993 L2249.48 133.627 L2241.17 135.294 L2241.17 131.035 L2249.43 129.368 L2254.11 129.368 L2254.11 159.993 L2261.74 159.993 L2261.74 163.928 L2241.84 163.928 L2241.84 159.993 Z\" fill=\"#000000\" fill-rule=\"evenodd\" fill-opacity=\"1\" /><circle clip-path=\"url(#clip980)\" cx=\"2120.02\" cy=\"198.488\" r=\"23.04\" fill=\"#e26f46\" fill-rule=\"evenodd\" fill-opacity=\"1\" stroke=\"#000000\" stroke-opacity=\"1\" stroke-width=\"5.12\"/>\n",
       "<path clip-path=\"url(#clip980)\" d=\"M2223.16 218.176 Q2221.35 222.805 2219.64 224.217 Q2217.93 225.629 2215.05 225.629 L2211.65 225.629 L2211.65 222.064 L2214.15 222.064 Q2215.91 222.064 2216.88 221.231 Q2217.86 220.398 2219.04 217.296 L2219.8 215.351 L2209.31 189.842 L2213.83 189.842 L2221.93 210.12 L2230.03 189.842 L2234.55 189.842 L2223.16 218.176 Z\" fill=\"#000000\" fill-rule=\"evenodd\" fill-opacity=\"1\" /><path clip-path=\"url(#clip980)\" d=\"M2245.05 211.833 L2261.37 211.833 L2261.37 215.768 L2239.43 215.768 L2239.43 211.833 Q2242.09 209.078 2246.67 204.449 Q2251.28 199.796 2252.46 198.453 Q2254.71 195.93 2255.59 194.194 Q2256.49 192.435 2256.49 190.745 Q2256.49 187.99 2254.55 186.254 Q2252.62 184.518 2249.52 184.518 Q2247.32 184.518 2244.87 185.282 Q2242.44 186.046 2239.66 187.597 L2239.66 182.875 Q2242.49 181.741 2244.94 181.162 Q2247.39 180.583 2249.43 180.583 Q2254.8 180.583 2257.99 183.268 Q2261.19 185.953 2261.19 190.444 Q2261.19 192.574 2260.38 194.495 Q2259.59 196.393 2257.48 198.986 Q2256.91 199.657 2253.8 202.875 Q2250.7 206.069 2245.05 211.833 Z\" fill=\"#000000\" fill-rule=\"evenodd\" fill-opacity=\"1\" /><polyline clip-path=\"url(#clip980)\" style=\"stroke:#3da44d; stroke-linecap:round; stroke-linejoin:round; stroke-width:4; stroke-opacity:1; fill:none\" points=\"\n",
       "  2053.04,250.328 2186.99,250.328 \n",
       "  \"/>\n",
       "<path clip-path=\"url(#clip980)\" d=\"M2223.16 270.016 Q2221.35 274.645 2219.64 276.057 Q2217.93 277.469 2215.05 277.469 L2211.65 277.469 L2211.65 273.904 L2214.15 273.904 Q2215.91 273.904 2216.88 273.071 Q2217.86 272.238 2219.04 269.136 L2219.8 267.191 L2209.31 241.682 L2213.83 241.682 L2221.93 261.96 L2230.03 241.682 L2234.55 241.682 L2223.16 270.016 Z\" fill=\"#000000\" fill-rule=\"evenodd\" fill-opacity=\"1\" /><path clip-path=\"url(#clip980)\" d=\"M2255.19 248.974 Q2258.55 249.692 2260.42 251.96 Q2262.32 254.229 2262.32 257.562 Q2262.32 262.678 2258.8 265.478 Q2255.29 268.279 2248.8 268.279 Q2246.63 268.279 2244.31 267.84 Q2242.02 267.423 2239.57 266.566 L2239.57 262.053 Q2241.51 263.187 2243.83 263.766 Q2246.14 264.344 2248.67 264.344 Q2253.06 264.344 2255.36 262.608 Q2257.67 260.872 2257.67 257.562 Q2257.67 254.506 2255.52 252.793 Q2253.39 251.057 2249.57 251.057 L2245.54 251.057 L2245.54 247.215 L2249.75 247.215 Q2253.2 247.215 2255.03 245.849 Q2256.86 244.46 2256.86 241.868 Q2256.86 239.205 2254.96 237.793 Q2253.09 236.358 2249.57 236.358 Q2247.65 236.358 2245.45 236.775 Q2243.25 237.192 2240.61 238.071 L2240.61 233.905 Q2243.27 233.164 2245.59 232.793 Q2247.92 232.423 2249.99 232.423 Q2255.31 232.423 2258.41 234.854 Q2261.51 237.261 2261.51 241.381 Q2261.51 244.252 2259.87 246.242 Q2258.23 248.21 2255.19 248.974 Z\" fill=\"#000000\" fill-rule=\"evenodd\" fill-opacity=\"1\" /><circle clip-path=\"url(#clip980)\" cx=\"2120.02\" cy=\"302.168\" r=\"23.04\" fill=\"#c271d2\" fill-rule=\"evenodd\" fill-opacity=\"1\" stroke=\"#000000\" stroke-opacity=\"1\" stroke-width=\"5.12\"/>\n",
       "<path clip-path=\"url(#clip980)\" d=\"M2223.16 321.856 Q2221.35 326.485 2219.64 327.897 Q2217.93 329.309 2215.05 329.309 L2211.65 329.309 L2211.65 325.744 L2214.15 325.744 Q2215.91 325.744 2216.88 324.911 Q2217.86 324.078 2219.04 320.976 L2219.8 319.031 L2209.31 293.522 L2213.83 293.522 L2221.93 313.8 L2230.03 293.522 L2234.55 293.522 L2223.16 321.856 Z\" fill=\"#000000\" fill-rule=\"evenodd\" fill-opacity=\"1\" /><path clip-path=\"url(#clip980)\" d=\"M2253.87 288.962 L2242.07 307.411 L2253.87 307.411 L2253.87 288.962 M2252.65 284.888 L2258.53 284.888 L2258.53 307.411 L2263.46 307.411 L2263.46 311.3 L2258.53 311.3 L2258.53 319.448 L2253.87 319.448 L2253.87 311.3 L2238.27 311.3 L2238.27 306.786 L2252.65 284.888 Z\" fill=\"#000000\" fill-rule=\"evenodd\" fill-opacity=\"1\" /><polyline clip-path=\"url(#clip980)\" style=\"stroke:#000000; stroke-linecap:round; stroke-linejoin:round; stroke-width:4; stroke-opacity:1; fill:none\" points=\"\n",
       "  2053.04,354.008 2186.99,354.008 \n",
       "  \"/>\n",
       "<path clip-path=\"url(#clip980)\" d=\"M2223.16 373.696 Q2221.35 378.325 2219.64 379.737 Q2217.93 381.149 2215.05 381.149 L2211.65 381.149 L2211.65 377.584 L2214.15 377.584 Q2215.91 377.584 2216.88 376.751 Q2217.86 375.918 2219.04 372.816 L2219.8 370.871 L2209.31 345.362 L2213.83 345.362 L2221.93 365.64 L2230.03 345.362 L2234.55 345.362 L2223.16 373.696 Z\" fill=\"#000000\" fill-rule=\"evenodd\" fill-opacity=\"1\" /><path clip-path=\"url(#clip980)\" d=\"M2251.61 352.145 Q2248.46 352.145 2246.61 354.297 Q2244.78 356.45 2244.78 360.2 Q2244.78 363.927 2246.61 366.103 Q2248.46 368.256 2251.61 368.256 Q2254.75 368.256 2256.58 366.103 Q2258.43 363.927 2258.43 360.2 Q2258.43 356.45 2256.58 354.297 Q2254.75 352.145 2251.61 352.145 M2260.89 337.492 L2260.89 341.751 Q2259.13 340.918 2257.32 340.478 Q2255.54 340.038 2253.78 340.038 Q2249.15 340.038 2246.7 343.163 Q2244.27 346.288 2243.92 352.608 Q2245.29 350.594 2247.35 349.529 Q2249.41 348.441 2251.88 348.441 Q2257.09 348.441 2260.1 351.612 Q2263.13 354.76 2263.13 360.2 Q2263.13 365.524 2259.98 368.742 Q2256.84 371.959 2251.61 371.959 Q2245.61 371.959 2242.44 367.376 Q2239.27 362.77 2239.27 354.043 Q2239.27 345.848 2243.16 340.987 Q2247.05 336.103 2253.6 336.103 Q2255.36 336.103 2257.14 336.45 Q2258.94 336.798 2260.89 337.492 Z\" fill=\"#000000\" fill-rule=\"evenodd\" fill-opacity=\"1\" /><polyline clip-path=\"url(#clip980)\" style=\"stroke:#000000; stroke-linecap:round; stroke-linejoin:round; stroke-width:4; stroke-opacity:1; fill:none\" points=\"\n",
       "  2053.04,405.848 2186.99,405.848 \n",
       "  \"/>\n",
       "<path clip-path=\"url(#clip980)\" d=\"M2223.16 425.536 Q2221.35 430.165 2219.64 431.577 Q2217.93 432.989 2215.05 432.989 L2211.65 432.989 L2211.65 429.424 L2214.15 429.424 Q2215.91 429.424 2216.88 428.591 Q2217.86 427.758 2219.04 424.656 L2219.8 422.711 L2209.31 397.202 L2213.83 397.202 L2221.93 417.48 L2230.03 397.202 L2234.55 397.202 L2223.16 425.536 Z\" fill=\"#000000\" fill-rule=\"evenodd\" fill-opacity=\"1\" /><path clip-path=\"url(#clip980)\" d=\"M2239.85 388.568 L2262.07 388.568 L2262.07 390.559 L2249.52 423.128 L2244.64 423.128 L2256.44 392.503 L2239.85 392.503 L2239.85 388.568 Z\" fill=\"#000000\" fill-rule=\"evenodd\" fill-opacity=\"1\" /></svg>\n"
      ]
     },
     "execution_count": 63,
     "metadata": {},
     "output_type": "execute_result"
    }
   ],
   "source": [
    "plot(x_axis, y_axis, xlims=xrange, ylims=yrange)\n",
    "plot!(x_axis, y_axis, seriestype=:scatter)\n",
    "plot!(ls_eo, ls_ss)\n",
    "plot!(ls_eo, ls_ss, seriestype=:scatter)\n",
    "scatter!([tesla_eco], [tesla_soc], color = \"green\", label = \"\", markersize = 5)\n",
    "vline!([0], color=:black)\n",
    "hline!([0], color=:black)"
   ]
  },
  {
   "cell_type": "code",
   "execution_count": null,
   "id": "404560a9",
   "metadata": {},
   "outputs": [],
   "source": []
  }
 ],
 "metadata": {
  "@webio": {
   "lastCommId": "573498ee8ad3424289ed644dae36ef98",
   "lastKernelId": "c1192948-744d-447f-8156-570f252fa1f0"
  },
  "kernelspec": {
   "display_name": "Julia 1.8.3",
   "language": "julia",
   "name": "julia-1.8"
  },
  "language_info": {
   "file_extension": ".jl",
   "mimetype": "application/julia",
   "name": "julia",
   "version": "1.8.3"
  }
 },
 "nbformat": 4,
 "nbformat_minor": 5
}
