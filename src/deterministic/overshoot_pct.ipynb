{
 "cells": [
  {
   "cell_type": "code",
   "execution_count": 1,
   "id": "5edf3ebd",
   "metadata": {},
   "outputs": [],
   "source": [
    "using JuMP, Gurobi\n",
    "using CSV, LinearAlgebra, DataFrames\n",
    "using Plots\n",
    "using DelimitedFiles"
   ]
  },
  {
   "cell_type": "code",
   "execution_count": 2,
   "id": "9200f615",
   "metadata": {},
   "outputs": [],
   "source": [
    "path = \"C:/Users/bourg/.julia/environments/batterySC/Li-battery-SC/src/deterministic/data/\";"
   ]
  },
  {
   "cell_type": "code",
   "execution_count": 3,
   "id": "93d2a5ce",
   "metadata": {},
   "outputs": [],
   "source": [
    "#load social and ecological data and orgnize \n",
    "FL = repeat([Float64], inner=15)\n",
    "dtype = append!([String], FL);\n",
    "\n",
    "regional_EF = CSV.File(string(path,\"EF_SC31.csv\"),header=1,delim=\",\", types=dtype) |> DataFrame    \n",
    "capacity = CSV.File(string(path,\"capacity31.csv\"),header=1,delim=\",\", types=dtype) |> DataFrame    \n",
    "distance = CSV.File(string(path,\"distance31.csv\"),header=1,delim=\",\") |> DataFrame \n",
    "LCA_model = CSV.File(string(path,\"LCA_model.csv\"), header=1, delim=\",\") |> DataFrame \n",
    "SDD = CSV.File(string(path,\"SDD31.csv\"),header=1,delim=\",\") |> DataFrame;"
   ]
  },
  {
   "cell_type": "code",
   "execution_count": 4,
   "id": "5118b2b5",
   "metadata": {},
   "outputs": [],
   "source": [
    "global_sink = 1.099e10                        # global pub (ocean) CO2 sequestration (ton/yr)\n",
    "global_sink_tot = 2.236e10                  # global total (ocean+land) CO2 sequestration (ton/yr)\n",
    "global_emi = 3.53e10                          # global CO2 emission (ton/yr)                          # 2021 global GD ($/yr)\n",
    "es_ratio = global_sink/global_emi\n",
    "\n",
    "emission_c = SDD[!, \"emission\"]          # national CO2 emission (ton/yr)\n",
    "sink_c = SDD[!, \"sink ton/yr\"]           # national CO2 sink (ton/yr)\n",
    "Dsoc = SDD[!, \"Dsoc ton/yr\"]           # national CO2 sink (ton/yr)\n",
    "\n",
    "EF_trans = 1.005/10000                        # ton CO2/km*ton (The average freight truck in the U.S. emits 161.8 grams of CO2 per ton-mile)\n",
    "process = LCA_model[!,\"process\"]\n",
    "countries = capacity[!,\"country\"]\n",
    "ncty = size(countries,1)                          # No. of countries\n",
    "nproc = size(process,1);                          # No. of processes \n",
    "\n",
    "mkt_loc = findfirst(isequal(\"United States\"), countries)\n",
    "mkt_proc = findfirst(isequal(\"battery\"), process)\n",
    "\n",
    "# seperate model\n",
    "cathode = collect(1:4)\n",
    "cell = collect(5:10)\n",
    "noncell = [12,13]\n",
    "battery = [11,14]\n",
    "scaler = LCA_model[!,\"scaler\"];"
   ]
  },
  {
   "cell_type": "code",
   "execution_count": 5,
   "id": "4729c3eb",
   "metadata": {},
   "outputs": [],
   "source": [
    "cell_demand = 0.001*164.98*(1.369*1e6)*2;           # annual demand of Li battery for tesla (1.369M EV/yr, ~2 NMC111 pack/EV, 164.98 kg/pack (35kwh/pack), 80~100 kWh per EV)"
   ]
  },
  {
   "cell_type": "code",
   "execution_count": 6,
   "id": "3c1d7db8",
   "metadata": {},
   "outputs": [],
   "source": [
    "cell_demand = 500000;"
   ]
  },
  {
   "cell_type": "code",
   "execution_count": 52,
   "id": "7849f891",
   "metadata": {},
   "outputs": [
    {
     "data": {
      "text/plain": [
       "pct_count (generic function with 1 method)"
      ]
     },
     "execution_count": 52,
     "metadata": {},
     "output_type": "execute_result"
    }
   ],
   "source": [
    "function pct_count(x,y)\n",
    "    proD = x .* Matrix(regional_EF[:,2:end])\n",
    "    pro_sink = zeros(ncty, nproc)\n",
    "    for k in 1:nproc\n",
    "        for i in 1:ncty\n",
    "            pro_sink[i,k] = regional_EF[i, k+1] * (sink_c[i]/emission_c[i] + es_ratio)\n",
    "        end\n",
    "    end\n",
    "    proS = x .* pro_sink\n",
    "\n",
    "\n",
    "    transD = zeros(ncty, nproc)\n",
    "    for k in 1:nproc\n",
    "        for i in 1:ncty\n",
    "            emi = 0\n",
    "            for j in 1:ncty\n",
    "                emi += y[i,j,k] * distance[!, 2:end][i,j] * EF_trans  \n",
    "            end\n",
    "            transD[i,k] = emi\n",
    "        end\n",
    "    end\n",
    "\n",
    "    MEO = proD - proS + transD;\n",
    "    \n",
    "    indices = (MEO .>= 0.1) .|| (MEO .<= -0.1)\n",
    "    ls = MEO[indices]\n",
    "    total = length(ls)\n",
    "    \n",
    "    num_os = 0\n",
    "    num_safe = 0\n",
    "    for e in ls\n",
    "        if e > 0\n",
    "            num_os += 1\n",
    "        elseif e < 0\n",
    "            num_safe += 1\n",
    "        end\n",
    "    end\n",
    "    \n",
    "    return MEO, num_os,num_safe\n",
    "\n",
    "#     return MEO,num_os,num_safe,total\n",
    "end"
   ]
  },
  {
   "cell_type": "code",
   "execution_count": 278,
   "id": "49e16ea7",
   "metadata": {},
   "outputs": [
    {
     "data": {
      "text/plain": [
       "overshoot_pct (generic function with 1 method)"
      ]
     },
     "execution_count": 278,
     "metadata": {},
     "output_type": "execute_result"
    }
   ],
   "source": [
    "function overshoot_pct()\n",
    "    model = Model(Gurobi.Optimizer)\n",
    "    set_optimizer_attributes(model, \"NonConvex\" => 2, \"IntegralityFocus\" => 1)\n",
    "    set_optimizer_attribute(model, MOI.Silent(), true)\n",
    "    \n",
    "    @variable(model, x[1:ncty, 1:nproc] >= 0)\n",
    "    @variable(model, y[1:ncty, 1:ncty, 1:nproc] >= 0)\n",
    "    @variable(model, 0<=obj<=1)\n",
    "\n",
    "    @variable(model, delta[1:ncty, 1:nproc], Bin)\n",
    "    @variable(model, z[1:ncty, 1:nproc], Bin)\n",
    "    @variable(model, r[1:ncty, 1:nproc], Bin)\n",
    "    @variable(model, t[1:ncty, 1:nproc], Bin);\n",
    "    \n",
    "    x_cth = [@constraint(model, sum(x[i,k] for i in 1:ncty) >= sum(x[i,5] for i in 1:ncty) * scaler[k]) for k in cathode]\n",
    "    x_cell = [@constraint(model, sum(x[i,k] for i in 1:ncty) >= sum(x[i,11] for i in 1:ncty) * scaler[k]) for k in cell]\n",
    "    x_noncell = [@constraint(model, sum(x[i,k] for i in 1:ncty) >= sum(x[i,14] for i in 1:ncty) * scaler[k]) for k in noncell]\n",
    "    x_battery = [@constraint(model, sum(x[i,k] for i in 1:ncty) >= sum(x[i,15] for i in 1:ncty) * scaler[k]) for k in battery];\n",
    "\n",
    "    cstr_cap = [@constraint(model, x[i,k] <= capacity[!, 2:end][i,k]) for k in 1:nproc for i in 1:ncty]\n",
    "    cstr_op = [@constraint(model, sum(y[i,j,k] for j in 1:ncty) <= x[i,k]) for k in 1:nproc for i in 1:ncty]\n",
    "    cstr_cth = [@constraint(model, sum(y[i,j,k] for i in 1:ncty) >= x[j,5]*scaler[k]) for k in cathode for j in 1:ncty]\n",
    "    cstr_cell = [@constraint(model, sum(y[i,j,k] for i in 1:ncty) >= x[j,11]*scaler[k]) for k in cell for j in 1:ncty]\n",
    "    cstr_noncell = [@constraint(model, sum(y[i,j,k] for i in 1:ncty) >= x[j,14]*scaler[k]) for k in noncell for j in 1:ncty]\n",
    "    cstr_battery = [@constraint(model, sum(y[i,j,k] for i in 1:ncty) >= x[j,15]*scaler[k]) for k in battery for j in 1:ncty]\n",
    "\n",
    "    @constraint(model, sum(y[i,mkt_loc,mkt_proc] for i in 1:ncty) >= cell_demand)\n",
    "    tmp = filter!(e->e!=mkt_loc,collect(1:ncty))\n",
    "    for j in tmp\n",
    "        @constraint(model, sum(y[i,j,mkt_proc] for i in 1:ncty) == 0);\n",
    "    end\n",
    "    \n",
    "    proD = x .* Matrix(regional_EF[:,2:end])\n",
    "    pro_sink = zeros(ncty, nproc)\n",
    "    for k in 1:nproc\n",
    "        for i in 1:ncty\n",
    "            pro_sink[i,k] = regional_EF[i, k+1] * (sink_c[i]/emission_c[i] + es_ratio)\n",
    "        end\n",
    "    end\n",
    "    proS = x .* pro_sink\n",
    "\n",
    "    transD = Matrix{AffExpr}(undef, ncty, nproc)\n",
    "    for k in 1:nproc\n",
    "        for i in 1:ncty\n",
    "            emi = 0\n",
    "            for j in 1:ncty\n",
    "                emi += y[i,j,k] * distance[!, 2:end][i,j] * EF_trans  #PRODUCER\n",
    "            end\n",
    "            transD[i,k] = emi\n",
    "        end\n",
    "    end\n",
    "    \n",
    "    slack = 1e-6\n",
    "    M = 1e7\n",
    "    \n",
    "    Allo_Dsoc = (proD*ones(nproc,1)) .* (Dsoc./emission_c)\n",
    "    SS = transD*ones(nproc,1) + proD*ones(nproc,1) - Allo_Dsoc\n",
    "    cstr_soc = [@constraint(model, SS[i] >= slack) for i in 1:ncty];\n",
    "    \n",
    "    EO = proD - proS + transD\n",
    "    for i in 1:ncty\n",
    "        for k in 1:nproc\n",
    "            @constraint(model, EO[i,k] >= -M*r[i,k] + slack*t[i,k])\n",
    "            @constraint(model, EO[i,k] <= -slack*r[i,k] + M*t[i,k])\n",
    "            @constraint(model, z[i,k] + r[i,k] + t[i,k] == 1)\n",
    "            @constraint(model, delta[i,k] => {x[i,k] >= 0.1})\n",
    "        end\n",
    "    end\n",
    "    \n",
    "    @constraint(model, obj*sum(delta) == sum(t))\n",
    "    @objective(model, Min, obj)\n",
    "    JuMP.optimize!(model)\n",
    "    \n",
    "    xx = JuMP.value.(x)\n",
    "    yy = JuMP.value.(y)\n",
    "    zz = JuMP.value.(z)\n",
    "    rr = JuMP.value.(r)\n",
    "    tt = JuMP.value.(t)\n",
    "    solution = JuMP.objective_value(model)\n",
    "    \n",
    "    return Dict([\"x\"=>xx, \"obj\"=>solution, \"y\"=>yy, \"z\"=>zz, \"t\"=>tt, \"r\"=>rr])\n",
    "    \n",
    "end"
   ]
  },
  {
   "cell_type": "markdown",
   "id": "a5a22eba",
   "metadata": {},
   "source": [
    "----"
   ]
  },
  {
   "cell_type": "code",
   "execution_count": 259,
   "id": "801ae90a",
   "metadata": {},
   "outputs": [
    {
     "name": "stdout",
     "output_type": "stream",
     "text": [
      "Academic license - for non-commercial use only - expires 2024-12-26\r\n"
     ]
    }
   ],
   "source": [
    "model = Model(Gurobi.Optimizer)\n",
    "set_optimizer_attributes(model, \"NonConvex\" => 2, \"IntegralityFocus\" => 1)"
   ]
  },
  {
   "cell_type": "code",
   "execution_count": 260,
   "id": "2373be80",
   "metadata": {},
   "outputs": [],
   "source": [
    "@variable(model, x[1:ncty, 1:nproc] >= 0)\n",
    "@variable(model, y[1:ncty, 1:ncty, 1:nproc] >= 0)\n",
    "@variable(model, 0<=obj<=1)\n",
    "\n",
    "@variable(model, delta[1:ncty, 1:nproc], Bin)\n",
    "@variable(model, z[1:ncty, 1:nproc], Bin)\n",
    "@variable(model, r[1:ncty, 1:nproc], Bin)\n",
    "@variable(model, t[1:ncty, 1:nproc], Bin);"
   ]
  },
  {
   "cell_type": "code",
   "execution_count": 261,
   "id": "93078638",
   "metadata": {},
   "outputs": [],
   "source": [
    "x_cth = [@constraint(model, sum(x[i,k] for i in 1:ncty) >= sum(x[i,5] for i in 1:ncty) * scaler[k]) for k in cathode]\n",
    "x_cell = [@constraint(model, sum(x[i,k] for i in 1:ncty) >= sum(x[i,11] for i in 1:ncty) * scaler[k]) for k in cell]\n",
    "x_noncell = [@constraint(model, sum(x[i,k] for i in 1:ncty) >= sum(x[i,14] for i in 1:ncty) * scaler[k]) for k in noncell]\n",
    "x_battery = [@constraint(model, sum(x[i,k] for i in 1:ncty) >= sum(x[i,15] for i in 1:ncty) * scaler[k]) for k in battery];\n",
    "\n",
    "cstr_cap = [@constraint(model, x[i,k] <= capacity[!, 2:end][i,k]) for k in 1:nproc for i in 1:ncty]\n",
    "cstr_op = [@constraint(model, sum(y[i,j,k] for j in 1:ncty) <= x[i,k]) for k in 1:nproc for i in 1:ncty]\n",
    "cstr_cth = [@constraint(model, sum(y[i,j,k] for i in 1:ncty) >= x[j,5]*scaler[k]) for k in cathode for j in 1:ncty]\n",
    "cstr_cell = [@constraint(model, sum(y[i,j,k] for i in 1:ncty) >= x[j,11]*scaler[k]) for k in cell for j in 1:ncty]\n",
    "cstr_noncell = [@constraint(model, sum(y[i,j,k] for i in 1:ncty) >= x[j,14]*scaler[k]) for k in noncell for j in 1:ncty]\n",
    "cstr_battery = [@constraint(model, sum(y[i,j,k] for i in 1:ncty) >= x[j,15]*scaler[k]) for k in battery for j in 1:ncty]\n",
    "\n",
    "@constraint(model, sum(y[i,mkt_loc,mkt_proc] for i in 1:ncty) >= cell_demand)\n",
    "tmp = filter!(e->e!=mkt_loc,collect(1:ncty))\n",
    "for j in tmp\n",
    "    @constraint(model, sum(y[i,j,mkt_proc] for i in 1:ncty) == 0);\n",
    "end"
   ]
  },
  {
   "cell_type": "code",
   "execution_count": 262,
   "id": "ca360db4",
   "metadata": {},
   "outputs": [],
   "source": [
    "proD = x .* Matrix(regional_EF[:,2:end])\n",
    "pro_sink = zeros(ncty, nproc)\n",
    "for k in 1:nproc\n",
    "    for i in 1:ncty\n",
    "        pro_sink[i,k] = regional_EF[i, k+1] * (sink_c[i]/emission_c[i] + es_ratio)\n",
    "    end\n",
    "end\n",
    "proS = x .* pro_sink\n",
    "\n",
    "transD = Matrix{AffExpr}(undef, ncty, nproc)\n",
    "for k in 1:nproc\n",
    "    for i in 1:ncty\n",
    "        emi = 0\n",
    "        for j in 1:ncty\n",
    "            emi += y[i,j,k] * distance[!, 2:end][i,j] * EF_trans  #PRODUCER\n",
    "        end\n",
    "        transD[i,k] = emi\n",
    "    end\n",
    "end"
   ]
  },
  {
   "cell_type": "code",
   "execution_count": 263,
   "id": "984da303",
   "metadata": {},
   "outputs": [
    {
     "data": {
      "text/plain": [
       "1.0e-6"
      ]
     },
     "execution_count": 263,
     "metadata": {},
     "output_type": "execute_result"
    }
   ],
   "source": [
    "slack = 1e-6"
   ]
  },
  {
   "cell_type": "code",
   "execution_count": 264,
   "id": "da306181",
   "metadata": {},
   "outputs": [
    {
     "data": {
      "text/plain": [
       "1.0e7"
      ]
     },
     "execution_count": 264,
     "metadata": {},
     "output_type": "execute_result"
    }
   ],
   "source": [
    "M = 1e7"
   ]
  },
  {
   "cell_type": "code",
   "execution_count": 265,
   "id": "455dc5d8",
   "metadata": {},
   "outputs": [],
   "source": [
    "Allo_Dsoc = (proD*ones(nproc,1)) .* (Dsoc./emission_c)\n",
    "SS = transD*ones(nproc,1) + proD*ones(nproc,1) - Allo_Dsoc\n",
    "cstr_soc = [@constraint(model, SS[i] >= slack) for i in 1:ncty];"
   ]
  },
  {
   "cell_type": "code",
   "execution_count": 266,
   "id": "b71b6200",
   "metadata": {},
   "outputs": [],
   "source": [
    "EO = proD - proS + transD;"
   ]
  },
  {
   "cell_type": "code",
   "execution_count": 267,
   "id": "fac97a07",
   "metadata": {},
   "outputs": [],
   "source": [
    "# for i in 1:ncty\n",
    "#     for k in 1:nproc\n",
    "#         @constraint(model, EO[i,k] >= -M*(t[i,k]-1) + slack)\n",
    "#         @constraint(model, EO[i,k] <= M*t[i,k])\n",
    "#         @constraint(model, delta[i,k] => {x[i,k] >= 0.1})\n",
    "#     end\n",
    "# end"
   ]
  },
  {
   "cell_type": "code",
   "execution_count": 268,
   "id": "2df92c2f",
   "metadata": {},
   "outputs": [],
   "source": [
    "for i in 1:ncty\n",
    "    for k in 1:nproc\n",
    "        @constraint(model, EO[i,k] >= -M*r[i,k] + slack*t[i,k])\n",
    "        @constraint(model, EO[i,k] <= -slack*r[i,k] + M*t[i,k])\n",
    "        @constraint(model, z[i,k] + r[i,k] + t[i,k] == 1)\n",
    "        @constraint(model, delta[i,k] => {x[i,k] >= 0.1})\n",
    "    end\n",
    "end"
   ]
  },
  {
   "cell_type": "code",
   "execution_count": 269,
   "id": "6800e2f2",
   "metadata": {},
   "outputs": [
    {
     "data": {
      "text/latex": [
       "$$ obj $$"
      ],
      "text/plain": [
       "obj"
      ]
     },
     "execution_count": 269,
     "metadata": {},
     "output_type": "execute_result"
    }
   ],
   "source": [
    "# @constraint(model, obj*(sum(r) + sum(t)) == sum(t))\n",
    "@constraint(model, obj*sum(delta) == sum(t))\n",
    "@objective(model, Min, obj)"
   ]
  },
  {
   "cell_type": "code",
   "execution_count": 270,
   "id": "74ce6b3e",
   "metadata": {},
   "outputs": [
    {
     "name": "stdout",
     "output_type": "stream",
     "text": [
      "Gurobi Optimizer version 9.1.2 build v9.1.2rc0 (win64)\r\n",
      "Thread count: 6 physical cores, 12 logical processors, using up to 12 threads\r\n",
      "Optimize a model with 2835 rows, 16741 columns and 77562 nonzeros\r\n",
      "Model fingerprint: 0x371fab0d\r\n",
      "Model has 1 quadratic constraint\r\n",
      "Model has 465 general constraints\r\n",
      "Variable types: 14881 continuous, 1860 integer (1860 binary)\r\n",
      "Coefficient statistics:\r\n",
      "  Matrix range     [1e-06, 1e+07]\r\n",
      "  QMatrix range    [1e+00, 1e+00]\r\n",
      "  QLMatrix range   [1e+00, 1e+00]\r\n",
      "  Objective range  [1e+00, 1e+00]\r\n",
      "  Bounds range     [1e+00, 1e+00]\r\n",
      "  RHS range        [1e-06, 1e+11]\r\n",
      "Warning: Model contains large matrix coefficient range\r\n",
      "Warning: Model contains large rhs\r\n",
      "         Consider reformulating model or setting NumericFocus parameter\r\n",
      "         to avoid numerical issues.\r\n",
      "Presolve removed 2101 rows and 13632 columns\r\n",
      "Presolve time: 0.08s\r\n",
      "Presolved: 1269 rows, 3287 columns, 10346 nonzeros\r\n",
      "Variable types: 2606 continuous, 681 integer (681 binary)\r\n",
      "\r\n",
      "Root relaxation: objective 2.562444e-02, 1136 iterations, 0.06 seconds\r\n",
      "\r\n",
      "    Nodes    |    Current Node    |     Objective Bounds      |     Work\r\n",
      " Expl Unexpl |  Obj  Depth IntInf | Incumbent    BestBd   Gap | It/Node Time\r\n",
      "\r\n",
      "     0     0    0.02562    0  184          -    0.02562      -     -    0s\r\n",
      "H    0     0                       1.0000000    0.02562  97.4%     -    0s\r\n",
      "     0     0    0.05408    0  153    1.00000    0.05408  94.6%     -    0s\r\n",
      "H    0     0                       0.6153846    0.05408  91.2%     -    0s\r\n",
      "H    0     0                       0.5000000    0.05408  89.2%     -    0s\r\n",
      "     0     0    0.06110    0  138    0.50000    0.06110  87.8%     -    0s\r\n",
      "     0     0    0.06116    0  141    0.50000    0.06116  87.8%     -    0s\r\n",
      "H    0     0                       0.4705882    0.06116  87.0%     -    0s\r\n",
      "     0     0    0.06780    0  117    0.47059    0.06780  85.6%     -    0s\r\n",
      "H    0     0                       0.4347826    0.06780  84.4%     -    0s\r\n",
      "     0     0    0.06780    0  112    0.43478    0.06780  84.4%     -    0s\r\n",
      "H    0     0                       0.4000000    0.06780  83.0%     -    0s\r\n",
      "     0     0    0.07871    0   54    0.40000    0.07871  80.3%     -    0s\r\n",
      "H    0     0                       0.3888889    0.07871  79.8%     -    0s\r\n",
      "     0     0    0.08187    0   54    0.38889    0.08187  78.9%     -    0s\r\n",
      "H    0     0                       0.2692308    0.08187  69.6%     -    0s\r\n",
      "     0     0    0.08215    0   52    0.26923    0.08215  69.5%     -    0s\r\n",
      "     0     0    0.09052    0   57    0.26923    0.09052  66.4%     -    0s\r\n",
      "     0     0    0.09052    0   37    0.26923    0.09052  66.4%     -    0s\r\n",
      "     0     2    0.09052    0   35    0.26923    0.09052  66.4%     -    0s\r\n",
      "H    8    14                       0.2432432    0.09517  60.9%  52.0    0s\r\n",
      "H   33    41                       0.2250000    0.09517  57.7%  32.1    0s\r\n",
      "H   34    41                       0.2195122    0.09517  56.6%  31.6    0s\r\n",
      "H   71    74                       0.2000000    0.09517  52.4%  21.1    1s\r\n",
      "H   77    74                       0.1956522    0.09517  51.4%  19.7    1s\r\n",
      "*  134    93              19       0.1914894    0.09738  49.1%  32.1    1s\r\n",
      "H  293   146                       0.1777778    0.09738  45.2%  43.3    1s\r\n",
      "*  403   210              65       0.1739130    0.09738  44.0%  41.7    1s\r\n",
      "  2508   807    0.17346   18   17    0.17391    0.12602  27.5%  67.7    5s\r\n",
      "H 2899   855                       0.1702128    0.16985  0.21%   5.5    7s\r\n",
      "\r\n",
      "Cutting planes:\r\n",
      "  Learned: 5\r\n",
      "  Gomory: 2\r\n",
      "  Cover: 58\r\n",
      "  Implied bound: 46\r\n",
      "  Clique: 10\r\n",
      "  MIR: 15\r\n",
      "  Flow cover: 194\r\n",
      "  Inf proof: 65\r\n",
      "  RLT: 14\r\n",
      "  Relax-and-lift: 20\r\n",
      "  BQP: 6\r\n",
      "\r\n",
      "Explored 3986 nodes (241481 simplex iterations) in 8.28 seconds\r\n",
      "Thread count was 12 (of 12 available processors)\r\n",
      "\r\n",
      "Solution count 10: 0.170213 0.173913 0.177778 ... 0.269231\r\n",
      "\r\n",
      "Optimal solution found (tolerance 1.00e-04)\r\n",
      "Best objective 1.702128085106e-01, best bound 1.702128085106e-01, gap 0.0000%\r\n",
      "\r\n",
      "User-callback calls 8517, time in user-callback 0.00 sec\r\n"
     ]
    }
   ],
   "source": [
    "JuMP.optimize!(model)"
   ]
  },
  {
   "cell_type": "code",
   "execution_count": 271,
   "id": "04b8d9b6",
   "metadata": {},
   "outputs": [
    {
     "data": {
      "text/plain": [
       "0.1702128085106383"
      ]
     },
     "execution_count": 271,
     "metadata": {},
     "output_type": "execute_result"
    }
   ],
   "source": [
    "x = JuMP.value.(x)\n",
    "y = JuMP.value.(y)\n",
    "z = JuMP.value.(z)\n",
    "r = JuMP.value.(r)\n",
    "t = JuMP.value.(t)\n",
    "delta = JuMP.value.(delta)\n",
    "solution = JuMP.objective_value(model)"
   ]
  },
  {
   "cell_type": "code",
   "execution_count": 276,
   "id": "e958e14b",
   "metadata": {},
   "outputs": [
    {
     "data": {
      "text/plain": [
       "(8.00000199985714, 320.0, 136.99999800014285, 47.0)"
      ]
     },
     "execution_count": 276,
     "metadata": {},
     "output_type": "execute_result"
    }
   ],
   "source": [
    "sum(t), sum(r), sum(z), sum(delta)"
   ]
  },
  {
   "cell_type": "code",
   "execution_count": 273,
   "id": "2700d388",
   "metadata": {},
   "outputs": [],
   "source": [
    "meo, nos, nsf = pct_count(x,y);"
   ]
  },
  {
   "cell_type": "code",
   "execution_count": 274,
   "id": "0324e774",
   "metadata": {},
   "outputs": [
    {
     "data": {
      "text/plain": [
       "2.039760546779608e6"
      ]
     },
     "execution_count": 274,
     "metadata": {},
     "output_type": "execute_result"
    }
   ],
   "source": [
    "maximum(meo)"
   ]
  },
  {
   "cell_type": "code",
   "execution_count": 275,
   "id": "7dc4d47f",
   "metadata": {},
   "outputs": [
    {
     "data": {
      "text/plain": [
       "(9, 29, 0.23684210526315788)"
      ]
     },
     "execution_count": 275,
     "metadata": {},
     "output_type": "execute_result"
    }
   ],
   "source": [
    "nos, nsf, nos/(nos+nsf) "
   ]
  },
  {
   "cell_type": "code",
   "execution_count": 252,
   "id": "95317e7d",
   "metadata": {},
   "outputs": [
    {
     "data": {
      "text/plain": [
       "31×15 Matrix{Float64}:\n",
       "       0.0            0.0        …  0.0         0.0          0.0\n",
       "   82051.7            0.0           0.0         0.0          0.0\n",
       "       0.0            0.0           0.0         0.0          0.0\n",
       "      -0.118858  -65557.2           0.0        -4.36557e-11  0.0\n",
       " -103967.0            0.0           0.0         0.0          0.0\n",
       "       0.0            0.0        …  0.0         0.0          0.0\n",
       "       0.0            0.0           0.0         0.0          0.0\n",
       "       0.0            9.18613e5     0.0         0.0          0.0\n",
       "       0.0       -39785.9           0.0        -1.00001e-6   0.0\n",
       "       0.0            0.0           0.0         0.0          0.0\n",
       "       0.0            0.0        …  1.94419e5   0.0          0.0\n",
       "       0.0            0.0           0.0         0.0          0.0\n",
       "       0.0            0.0           0.0         0.0          0.0\n",
       "       ⋮                         ⋱                           \n",
       "       0.0            0.0           0.0         8.67362e-19  0.0\n",
       "       0.0            0.0        …  0.0         0.0          0.0\n",
       "       0.0            0.0           0.0         0.0          0.0\n",
       "       0.0            0.0           0.0         0.0          0.0\n",
       "       0.0        -9085.99          0.0         8.67362e-19  0.0\n",
       "       0.0            0.0           0.0         0.0          0.0\n",
       "       0.0            0.0        …  0.0         0.0          0.0\n",
       "       0.0            0.0           0.0         0.0          0.0\n",
       "       0.0            0.0           0.0         0.0          0.0\n",
       "       0.0            0.0           0.0         0.0          0.0\n",
       "       0.0            0.0           0.0         0.0          0.0\n",
       "       0.0            0.0        …  0.0         0.0          1.6167e6"
      ]
     },
     "execution_count": 252,
     "metadata": {},
     "output_type": "execute_result"
    }
   ],
   "source": [
    "meo"
   ]
  },
  {
   "cell_type": "code",
   "execution_count": 253,
   "id": "f5da528d",
   "metadata": {},
   "outputs": [
    {
     "data": {
      "text/plain": [
       "31×15 Matrix{Float64}:\n",
       "     0.0       0.0       0.0       0.0  0.0  …      0.0  0.0             0.0\n",
       " 61000.0       0.0       0.0       0.0  0.0         0.0  0.0             0.0\n",
       "     0.0       0.0  881547.0       0.0  0.0         0.0  0.0             0.0\n",
       "     0.1    3100.0       0.0  180000.0  0.0         0.0  1.0e6           0.0\n",
       " 39000.0       0.0       0.0       0.0  0.0         0.0  0.1             0.0\n",
       "     0.0       0.0       0.0       0.0  0.0  …      0.0  0.0             0.0\n",
       "     0.0       0.0       0.0  110000.0  0.0         0.0  0.0             0.0\n",
       "     0.0  145000.0       0.0       0.0  0.0         0.0  0.0             0.0\n",
       "     0.0    1084.0       0.0   42000.0  0.0         0.0  3.10324e5       0.0\n",
       "     0.0       0.0       0.0       0.0  0.0         0.0  0.0             0.0\n",
       "     0.0       0.0       0.0       0.0  0.0  …  10000.0  0.0             0.0\n",
       "     0.0       0.0       0.0       0.0  0.0         0.0  0.0             0.0\n",
       "     0.0       0.0       0.0       0.0  0.0         0.0  0.0             0.0\n",
       "     ⋮                                       ⋱                      \n",
       "     0.0       0.0       0.0       0.0  0.0         0.0  0.1             0.0\n",
       "     0.0       0.0   10100.0       0.0  0.0  …      0.0  0.0             0.0\n",
       "     0.0       0.0       0.0       0.0  0.0         0.0  0.0             0.0\n",
       "     0.0       0.0       0.0       0.0  0.0         0.0  0.0             0.0\n",
       "     0.0    3500.0       0.0  270000.0  0.0         0.0  0.1             0.0\n",
       "     0.0       0.0       0.0       0.0  0.0         0.0  0.0             0.0\n",
       "     0.0       0.0       0.0       0.0  0.0  …      0.0  0.0             0.0\n",
       "     0.0       0.0       0.0       0.0  0.0         0.0  0.0             0.0\n",
       "     0.0       0.0       0.0       0.0  0.0         0.0  0.0             0.0\n",
       "     0.0       0.0       0.0       0.0  0.0         0.0  0.0             0.0\n",
       "     0.0       0.0       0.0       0.0  0.0         0.0  0.0             0.0\n",
       "     0.0       0.0       0.0       0.0  0.0  …      0.0  0.0        500000.0"
      ]
     },
     "execution_count": 253,
     "metadata": {},
     "output_type": "execute_result"
    }
   ],
   "source": [
    "x"
   ]
  },
  {
   "cell_type": "code",
   "execution_count": 254,
   "id": "ecef778d",
   "metadata": {},
   "outputs": [
    {
     "name": "stdout",
     "output_type": "stream",
     "text": [
      "61000.0\n",
      "39000.0\n"
     ]
    }
   ],
   "source": [
    "for i in 1:ncty\n",
    "    if x[i,1] > 1\n",
    "        println(x[i,1])\n",
    "    end\n",
    "end"
   ]
  },
  {
   "cell_type": "code",
   "execution_count": 255,
   "id": "e04f2f1a",
   "metadata": {},
   "outputs": [
    {
     "data": {
      "text/plain": [
       "46.0"
      ]
     },
     "execution_count": 255,
     "metadata": {},
     "output_type": "execute_result"
    }
   ],
   "source": [
    "sum(delta)"
   ]
  },
  {
   "cell_type": "code",
   "execution_count": 256,
   "id": "ae376876",
   "metadata": {},
   "outputs": [
    {
     "name": "stdout",
     "output_type": "stream",
     "text": [
      "2\n",
      "4\n",
      "2\n",
      "4\n",
      "1\n",
      "5\n",
      "2\n",
      "3\n",
      "3\n",
      "3\n",
      "1\n",
      "3\n",
      "1\n",
      "2\n",
      "1\n"
     ]
    }
   ],
   "source": [
    "tot = 0\n",
    "for k in 1: nproc\n",
    "    num = 0\n",
    "    for i in 1:ncty\n",
    "        if x[i,k] > 1\n",
    "            num += 1\n",
    "            tot += 1\n",
    "        end\n",
    "    end\n",
    "    println(num)\n",
    "end\n"
   ]
  },
  {
   "cell_type": "code",
   "execution_count": 257,
   "id": "892b8f31",
   "metadata": {},
   "outputs": [
    {
     "data": {
      "text/plain": [
       "37"
      ]
     },
     "execution_count": 257,
     "metadata": {},
     "output_type": "execute_result"
    }
   ],
   "source": [
    "tot"
   ]
  },
  {
   "cell_type": "code",
   "execution_count": 159,
   "id": "7699ec2b",
   "metadata": {},
   "outputs": [
    {
     "name": "stdout",
     "output_type": "stream",
     "text": [
      "3.0\n",
      "4.0\n",
      "2.0\n",
      "4.0\n",
      "1.0\n",
      "5.0\n",
      "4.0\n",
      "4.0\n",
      "4.0\n",
      "3.0\n",
      "1.0\n",
      "4.0\n",
      "1.0\n",
      "5.0\n",
      "1.0\n"
     ]
    }
   ],
   "source": [
    "for k in 1:nproc\n",
    "    println(sum(delta[:,k]))\n",
    "end"
   ]
  },
  {
   "cell_type": "code",
   "execution_count": null,
   "id": "5c9b7d57",
   "metadata": {},
   "outputs": [],
   "source": []
  },
  {
   "cell_type": "code",
   "execution_count": null,
   "id": "f1a4f578",
   "metadata": {},
   "outputs": [],
   "source": []
  },
  {
   "cell_type": "code",
   "execution_count": null,
   "id": "be999fca",
   "metadata": {},
   "outputs": [],
   "source": []
  },
  {
   "cell_type": "code",
   "execution_count": null,
   "id": "2c55f96f",
   "metadata": {},
   "outputs": [],
   "source": []
  },
  {
   "cell_type": "code",
   "execution_count": 28,
   "id": "3ceca324",
   "metadata": {},
   "outputs": [],
   "source": [
    "# for i in 1:ncty\n",
    "#     for k in 1:nproc\n",
    "#         if MEO[i,k] > 0.1 || MEO[i,k] < -0.1\n",
    "#             MEO[i,k] = 0\n",
    "#         else\n",
    "#             MEO[i,k] = 1\n",
    "#         end\n",
    "#     end\n",
    "# end"
   ]
  },
  {
   "cell_type": "markdown",
   "id": "cec7130f",
   "metadata": {},
   "source": [
    "----"
   ]
  },
  {
   "cell_type": "code",
   "execution_count": 128,
   "id": "213a4438",
   "metadata": {},
   "outputs": [
    {
     "name": "stdout",
     "output_type": "stream",
     "text": [
      "Academic license - for non-commercial use only - expires 2024-12-26\r\n"
     ]
    }
   ],
   "source": [
    "model = Model(Gurobi.Optimizer)\n",
    "set_optimizer_attributes(model, \"NonConvex\" => 2, \"IntegralityFocus\" => 1)\n",
    "\n",
    "@variable(model, x[1:ncty, 1:nproc] >= 0)\n",
    "@variable(model, y[1:ncty, 1:ncty, 1:nproc] >= 0)\n",
    "@variable(model, 0<=obj<=1)\n",
    "\n",
    "@variable(model, z[1:ncty, 1:nproc], Bin)\n",
    "@variable(model, r[1:ncty, 1:nproc], Bin)\n",
    "@variable(model, t[1:ncty, 1:nproc], Bin);"
   ]
  },
  {
   "cell_type": "code",
   "execution_count": 129,
   "id": "f42c5db4",
   "metadata": {},
   "outputs": [],
   "source": [
    "x_cth = [@constraint(model, sum(x[i,k] for i in 1:ncty) >= sum(x[i,5] for i in 1:ncty) * scaler[k]) for k in cathode]\n",
    "x_cell = [@constraint(model, sum(x[i,k] for i in 1:ncty) >= sum(x[i,11] for i in 1:ncty) * scaler[k]) for k in cell]\n",
    "x_noncell = [@constraint(model, sum(x[i,k] for i in 1:ncty) >= sum(x[i,14] for i in 1:ncty) * scaler[k]) for k in noncell]\n",
    "x_battery = [@constraint(model, sum(x[i,k] for i in 1:ncty) >= sum(x[i,15] for i in 1:ncty) * scaler[k]) for k in battery];\n",
    "\n",
    "cstr_cap = [@constraint(model, x[i,k] <= capacity[!, 2:end][i,k]) for k in 1:nproc for i in 1:ncty]\n",
    "cstr_op = [@constraint(model, sum(y[i,j,k] for j in 1:ncty) <= x[i,k]) for k in 1:nproc for i in 1:ncty]\n",
    "cstr_cth = [@constraint(model, sum(y[i,j,k] for i in 1:ncty) >= x[j,5]*scaler[k]) for k in cathode for j in 1:ncty]\n",
    "cstr_cell = [@constraint(model, sum(y[i,j,k] for i in 1:ncty) >= x[j,11]*scaler[k]) for k in cell for j in 1:ncty]\n",
    "cstr_noncell = [@constraint(model, sum(y[i,j,k] for i in 1:ncty) >= x[j,14]*scaler[k]) for k in noncell for j in 1:ncty]\n",
    "cstr_battery = [@constraint(model, sum(y[i,j,k] for i in 1:ncty) >= x[j,15]*scaler[k]) for k in battery for j in 1:ncty]\n",
    "\n",
    "@constraint(model, sum(y[i,mkt_loc,mkt_proc] for i in 1:ncty) >= cell_demand)\n",
    "tmp = filter!(e->e!=mkt_loc,collect(1:ncty))\n",
    "for j in tmp\n",
    "    @constraint(model, sum(y[i,j,mkt_proc] for i in 1:ncty) == 0);\n",
    "end"
   ]
  },
  {
   "cell_type": "code",
   "execution_count": 130,
   "id": "9e89831b",
   "metadata": {},
   "outputs": [],
   "source": [
    "proD = x .* Matrix(regional_EF[:,2:end])\n",
    "pro_sink = zeros(ncty, nproc)\n",
    "for k in 1:nproc\n",
    "    for i in 1:ncty\n",
    "        pro_sink[i,k] = regional_EF[i, k+1] * (sink_c[i]/emission_c[i] + es_ratio)\n",
    "    end\n",
    "end\n",
    "proS = x .* pro_sink\n",
    "\n",
    "transD = Matrix{AffExpr}(undef, ncty, nproc)\n",
    "for k in 1:nproc\n",
    "    for i in 1:ncty\n",
    "        emi = 0\n",
    "        for j in 1:ncty\n",
    "            emi += y[i,j,k] * distance[!, 2:end][i,j] * EF_trans  #PRODUCER\n",
    "        end\n",
    "        transD[i,k] = emi\n",
    "    end\n",
    "end"
   ]
  },
  {
   "cell_type": "code",
   "execution_count": 131,
   "id": "48a431e2",
   "metadata": {},
   "outputs": [
    {
     "data": {
      "text/plain": [
       "0.0001"
      ]
     },
     "execution_count": 131,
     "metadata": {},
     "output_type": "execute_result"
    }
   ],
   "source": [
    "slack = 1e-4"
   ]
  },
  {
   "cell_type": "code",
   "execution_count": 132,
   "id": "04515959",
   "metadata": {},
   "outputs": [],
   "source": [
    "Allo_Dsoc = (proD*ones(nproc,1)) .* (Dsoc./emission_c)\n",
    "SS = transD*ones(nproc,1) + proD*ones(nproc,1) - Allo_Dsoc\n",
    "cstr_soc = [@constraint(model, SS[i] >= slack) for i in 1:ncty];"
   ]
  },
  {
   "cell_type": "code",
   "execution_count": 133,
   "id": "fdb8a76d",
   "metadata": {},
   "outputs": [],
   "source": [
    "EO = proD - proS + transD;"
   ]
  },
  {
   "cell_type": "code",
   "execution_count": 134,
   "id": "d4685704",
   "metadata": {},
   "outputs": [],
   "source": [
    "for i in 1:ncty\n",
    "    for k in 1:nproc\n",
    "        @constraint(model, z[i,k] => {EO[i,k] == 0})\n",
    "        @constraint(model, r[i,k] => {EO[i,k] + slack <= 0})\n",
    "        @constraint(model, t[i,k] => {EO[i,k] - slack >= 0})\n",
    "        @constraint(model, z[i,k] + r[i,k] + t[i,k] == 1)\n",
    "    end\n",
    "end"
   ]
  },
  {
   "cell_type": "code",
   "execution_count": 135,
   "id": "64df551e",
   "metadata": {},
   "outputs": [
    {
     "data": {
      "text/latex": [
       "$$ obj $$"
      ],
      "text/plain": [
       "obj"
      ]
     },
     "execution_count": 135,
     "metadata": {},
     "output_type": "execute_result"
    }
   ],
   "source": [
    "@constraint(model, obj*(sum(r) + sum(t)) == sum(t))\n",
    "@objective(model, Min, obj)"
   ]
  },
  {
   "cell_type": "code",
   "execution_count": null,
   "id": "26ca05ca",
   "metadata": {},
   "outputs": [],
   "source": [
    "JuMP.optimize!(model)"
   ]
  },
  {
   "cell_type": "code",
   "execution_count": 127,
   "id": "8caad3ab",
   "metadata": {},
   "outputs": [
    {
     "data": {
      "text/plain": [
       "31×15 Matrix{Float64}:\n",
       " 0.0  0.0  0.0  0.0  0.0  0.0  0.0  0.0  0.0  0.0  0.0  0.0  0.0  0.0  0.0\n",
       " 0.0  0.0  0.0  0.0  0.0  0.0  0.0  0.0  0.0  0.0  0.0  0.0  0.0  0.0  0.0\n",
       " 0.0  0.0  0.0  0.0  0.0  0.0  0.0  0.0  0.0  0.0  0.0  0.0  0.0  0.0  0.0\n",
       " 0.0  0.0  0.0  0.0  0.0  0.0  0.0  0.0  0.0  0.0  0.0  0.0  0.0  0.0  0.0\n",
       " 0.0  0.0  0.0  0.0  0.0  0.0  0.0  0.0  0.0  0.0  0.0  0.0  0.0  0.0  0.0\n",
       " 0.0  0.0  0.0  0.0  0.0  0.0  0.0  0.0  0.0  0.0  0.0  0.0  0.0  0.0  0.0\n",
       " 0.0  0.0  0.0  0.0  0.0  0.0  0.0  0.0  0.0  0.0  0.0  0.0  0.0  0.0  0.0\n",
       " 0.0  0.0  0.0  0.0  0.0  0.0  0.0  0.0  0.0  0.0  0.0  0.0  0.0  0.0  0.0\n",
       " 0.0  0.0  0.0  0.0  0.0  0.0  0.0  0.0  0.0  0.0  0.0  0.0  0.0  0.0  0.0\n",
       " 0.0  0.0  0.0  0.0  0.0  0.0  0.0  0.0  0.0  0.0  0.0  0.0  0.0  0.0  0.0\n",
       " 0.0  0.0  0.0  0.0  0.0  0.0  0.0  0.0  0.0  0.0  0.0  0.0  0.0  0.0  0.0\n",
       " 0.0  0.0  0.0  0.0  0.0  0.0  0.0  0.0  0.0  0.0  0.0  0.0  0.0  0.0  0.0\n",
       " 0.0  0.0  0.0  0.0  0.0  0.0  0.0  0.0  0.0  0.0  0.0  0.0  0.0  0.0  0.0\n",
       " ⋮                        ⋮                        ⋮                   \n",
       " 0.0  0.0  0.0  0.0  0.0  0.0  0.0  0.0  0.0  0.0  0.0  0.0  0.0  0.0  0.0\n",
       " 0.0  0.0  0.0  0.0  0.0  0.0  0.0  0.0  0.0  0.0  0.0  0.0  0.0  0.0  0.0\n",
       " 0.0  0.0  0.0  0.0  0.0  0.0  0.0  0.0  0.0  0.0  0.0  0.0  0.0  0.0  0.0\n",
       " 0.0  0.0  0.0  0.0  0.0  0.0  0.0  0.0  0.0  0.0  0.0  0.0  0.0  0.0  0.0\n",
       " 0.0  0.0  0.0  0.0  0.0  0.0  0.0  0.0  0.0  0.0  0.0  0.0  0.0  0.0  0.0\n",
       " 0.0  0.0  0.0  0.0  0.0  0.0  0.0  0.0  0.0  0.0  0.0  0.0  0.0  0.0  0.0\n",
       " 0.0  0.0  0.0  0.0  0.0  0.0  0.0  0.0  0.0  0.0  0.0  0.0  0.0  0.0  0.0\n",
       " 0.0  0.0  0.0  0.0  0.0  0.0  0.0  0.0  0.0  0.0  0.0  0.0  0.0  0.0  0.0\n",
       " 0.0  0.0  0.0  0.0  0.0  0.0  0.0  0.0  0.0  0.0  0.0  0.0  0.0  0.0  0.0\n",
       " 0.0  0.0  0.0  0.0  0.0  0.0  0.0  0.0  0.0  0.0  0.0  0.0  0.0  0.0  0.0\n",
       " 0.0  0.0  0.0  0.0  0.0  0.0  0.0  0.0  0.0  0.0  0.0  0.0  0.0  0.0  0.0\n",
       " 0.0  0.0  0.0  0.0  0.0  0.0  0.0  0.0  0.0  0.0  0.0  0.0  0.0  0.0  0.0"
      ]
     },
     "execution_count": 127,
     "metadata": {},
     "output_type": "execute_result"
    }
   ],
   "source": [
    "JuMP.value.(z)"
   ]
  },
  {
   "cell_type": "code",
   "execution_count": null,
   "id": "604b6c4f",
   "metadata": {},
   "outputs": [],
   "source": []
  },
  {
   "cell_type": "code",
   "execution_count": null,
   "id": "493a9f55",
   "metadata": {},
   "outputs": [],
   "source": []
  },
  {
   "cell_type": "code",
   "execution_count": 116,
   "id": "a4014f30",
   "metadata": {},
   "outputs": [
    {
     "name": "stdout",
     "output_type": "stream",
     "text": [
      "Academic license - for non-commercial use only - expires 2024-12-26\r\n"
     ]
    },
    {
     "data": {
      "text/latex": [
       "$$ z => {x + y \\leq 2.0} $$"
      ],
      "text/plain": [
       "z => {x + y <= 2.0}"
      ]
     },
     "execution_count": 116,
     "metadata": {},
     "output_type": "execute_result"
    }
   ],
   "source": [
    "model = Model(Gurobi.Optimizer)\n",
    "@variable(model, x)\n",
    "@variable(model, y)\n",
    "@variable(model, z, Bin)\n",
    "@constraint(model, z => {x + y <= 2})\n"
   ]
  },
  {
   "cell_type": "code",
   "execution_count": null,
   "id": "dca123fb",
   "metadata": {},
   "outputs": [],
   "source": []
  }
 ],
 "metadata": {
  "@webio": {
   "lastCommId": null,
   "lastKernelId": null
  },
  "kernelspec": {
   "display_name": "Julia 1.8.3",
   "language": "julia",
   "name": "julia-1.8"
  },
  "language_info": {
   "file_extension": ".jl",
   "mimetype": "application/julia",
   "name": "julia",
   "version": "1.8.3"
  }
 },
 "nbformat": 4,
 "nbformat_minor": 5
}
