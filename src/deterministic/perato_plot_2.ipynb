{
 "cells": [
  {
   "cell_type": "code",
   "execution_count": 1,
   "id": "de5e7156",
   "metadata": {},
   "outputs": [],
   "source": [
    "using JuMP, Gurobi\n",
    "using CSV, LinearAlgebra, DataFrames\n",
    "using Plots\n",
    "using DelimitedFiles"
   ]
  },
  {
   "cell_type": "code",
   "execution_count": 2,
   "id": "51ceb11c",
   "metadata": {},
   "outputs": [],
   "source": [
    "path = \"C:/Users/bourg/.julia/environments/batterySC/Li-battery-SC/src/deterministic/data/\";"
   ]
  },
  {
   "cell_type": "code",
   "execution_count": 3,
   "id": "33120c3f",
   "metadata": {},
   "outputs": [],
   "source": [
    "#load social and ecological data and orgnize \n",
    "FL = repeat([Float64], inner=15)\n",
    "dtype = append!([String], FL);\n",
    "\n",
    "regional_EF = CSV.File(string(path,\"EF_SC31.csv\"),header=1,delim=\",\", types=dtype) |> DataFrame    \n",
    "capacity = CSV.File(string(path,\"capacity31.csv\"),header=1,delim=\",\", types=dtype) |> DataFrame    \n",
    "distance = CSV.File(string(path,\"distance31.csv\"),header=1,delim=\",\") |> DataFrame \n",
    "LCA_model = CSV.File(string(path,\"LCA_model.csv\"), header=1, delim=\",\") |> DataFrame \n",
    "SDD = CSV.File(string(path,\"SDD31.csv\"),header=1,delim=\",\") |> DataFrame;"
   ]
  },
  {
   "cell_type": "code",
   "execution_count": 4,
   "id": "397c425c",
   "metadata": {},
   "outputs": [],
   "source": [
    "global_sink = 1.099e10                        # global pub (ocean) CO2 sequestration (ton/yr)\n",
    "global_sink_tot = 2.236e10                  # global total (ocean+land) CO2 sequestration (ton/yr)\n",
    "global_emi = 3.53e10                          # global CO2 emission (ton/yr)                          # 2021 global GD ($/yr)\n",
    "es_ratio = global_sink/global_emi\n",
    "\n",
    "emission_c = SDD[!, \"emission\"]          # national CO2 emission (ton/yr)\n",
    "sink_c = SDD[!, \"sink ton/yr\"]           # national CO2 sink (ton/yr)\n",
    "Dsoc = SDD[!, \"Dsoc ton/yr\"]           # national CO2 sink (ton/yr)\n",
    "\n",
    "EF_trans = 1.005/10000                        # ton CO2/km*ton (The average freight truck in the U.S. emits 161.8 grams of CO2 per ton-mile)\n",
    "process = LCA_model[!,\"process\"]\n",
    "countries = capacity[!,\"country\"]\n",
    "ncty = size(countries,1)                          # No. of countries\n",
    "nproc = size(process,1);                          # No. of processes \n",
    "\n",
    "mkt_loc = findfirst(isequal(\"United States\"), countries)\n",
    "mkt_proc = findfirst(isequal(\"battery\"), process)\n",
    "\n",
    "# seperate model\n",
    "cathode = collect(1:4)\n",
    "cell = collect(5:10)\n",
    "noncell = [12,13]\n",
    "battery = [11,14]\n",
    "scaler = LCA_model[!,\"scaler\"];"
   ]
  },
  {
   "cell_type": "code",
   "execution_count": 5,
   "id": "a141de9a",
   "metadata": {},
   "outputs": [],
   "source": [
    "cell_demand = 500000;"
   ]
  },
  {
   "cell_type": "markdown",
   "id": "ebddedb7",
   "metadata": {},
   "source": [
    "----"
   ]
  },
  {
   "cell_type": "code",
   "execution_count": 6,
   "id": "244f60e5",
   "metadata": {},
   "outputs": [
    {
     "data": {
      "text/plain": [
       "EO_SS_Model (generic function with 1 method)"
      ]
     },
     "execution_count": 6,
     "metadata": {},
     "output_type": "execute_result"
    }
   ],
   "source": [
    "function EO_SS_Model(objfunc)\n",
    "    model = Model(Gurobi.Optimizer)\n",
    "    set_optimizer_attribute(model, MOI.Silent(), true)\n",
    "    \n",
    "    @variable(model, x[1:ncty, 1:nproc] >= 0)\n",
    "    @variable(model, y[1:ncty, 1:ncty, 1:nproc] >= 0)\n",
    "    \n",
    "    x_cth = [@constraint(model, sum(x[i,k] for i in 1:ncty) == sum(x[i,5] for i in 1:ncty) * scaler[k]) for k in cathode]\n",
    "    x_cell = [@constraint(model, sum(x[i,k] for i in 1:ncty) == sum(x[i,11] for i in 1:ncty) * scaler[k]) for k in cell]\n",
    "    x_noncell = [@constraint(model, sum(x[i,k] for i in 1:ncty) == sum(x[i,14] for i in 1:ncty) * scaler[k]) for k in noncell]\n",
    "    x_battery = [@constraint(model, sum(x[i,k] for i in 1:ncty) == sum(x[i,15] for i in 1:ncty) * scaler[k]) for k in battery];\n",
    "\n",
    "    cstr_cap = [@constraint(model, x[i,k] <= capacity[!, 2:end][i,k]) for k in 1:nproc for i in 1:ncty]\n",
    "    cstr_op = [@constraint(model, sum(y[i,j,k] for j in 1:ncty) == x[i,k]) for k in 1:nproc for i in 1:ncty]\n",
    "    cstr_cth = [@constraint(model, sum(y[i,j,k] for i in 1:ncty) == x[j,5]*scaler[k]) for k in cathode for j in 1:ncty]\n",
    "    cstr_cell = [@constraint(model, sum(y[i,j,k] for i in 1:ncty) == x[j,11]*scaler[k]) for k in cell for j in 1:ncty]\n",
    "    cstr_noncell = [@constraint(model, sum(y[i,j,k] for i in 1:ncty) == x[j,14]*scaler[k]) for k in noncell for j in 1:ncty]\n",
    "    cstr_battery = [@constraint(model, sum(y[i,j,k] for i in 1:ncty) == x[j,15]*scaler[k]) for k in battery for j in 1:ncty]\n",
    "    \n",
    "    @constraint(model, sum(y[i,mkt_loc,mkt_proc] for i in 1:ncty) == cell_demand)\n",
    "    tmp = filter!(e->e!=mkt_loc,collect(1:ncty))\n",
    "    for j in tmp\n",
    "        @constraint(model, sum(y[i,j,mkt_proc] for i in 1:ncty) == 0);\n",
    "    end\n",
    "    \n",
    "    \n",
    "    # obj func calculation\n",
    "    proD = (x .* Matrix(regional_EF[:,2:end])) * ones(nproc,1)  # ncty*1 matrix\n",
    "    pro_sink = zeros(ncty, nproc)\n",
    "    for k in 1:nproc\n",
    "        for i in 1:ncty\n",
    "            pro_sink[i,k] = regional_EF[i, k+1] * (sink_c[i]/emission_c[i] + es_ratio)\n",
    "        end\n",
    "    end\n",
    "    proS = (x.*pro_sink)*ones(nproc,1)  # ncty*1 matrix\n",
    "\n",
    "    transS = Vector{AffExpr}(undef, ncty)\n",
    "    transD = Vector{AffExpr}(undef, ncty)\n",
    "    for j in 1:ncty\n",
    "        arc_emi = 0\n",
    "        arc_seq = 0\n",
    "        for i in 1:ncty\n",
    "            amount = sum(y[i,j,k] for k in 1:nproc)\n",
    "            arc_emi += amount * distance[!, 2:end][i,j] * EF_trans\n",
    "            arc_seq += arc_emi * (sink_c[j]/emission_c[j] + es_ratio)\n",
    "        end\n",
    "        transD[j] = arc_emi  # ncty*1 matrix\n",
    "        transS[j] = arc_seq  # ncty*1 matrix\n",
    "    end\n",
    "\n",
    "    Allo_soc = proD ./ emission_c .* Dsoc\n",
    "    \n",
    "    \n",
    "    SS = sum(Allo_soc - (proD + transD))\n",
    "    EO = sum(proD - proS + transD)\n",
    "    \n",
    "    \n",
    "    if objfunc == \"Ecological\"\n",
    "        @objective(model, Min, EO);\n",
    "    else\n",
    "        @objective(model, Min, SS);\n",
    "    end\n",
    "      \n",
    "    JuMP.optimize!(model)\n",
    "\n",
    "    opt_x = JuMP.value.(x)\n",
    "    opt_y = JuMP.value.(y)\n",
    "    opt_obj = JuMP.objective_value(model);\n",
    "    result = Dict([\"x\"=>opt_x, \"obj\"=>opt_obj, \"y\"=>opt_y])\n",
    "    return result\n",
    "end"
   ]
  },
  {
   "cell_type": "code",
   "execution_count": 7,
   "id": "f37fa2fc",
   "metadata": {},
   "outputs": [
    {
     "data": {
      "text/plain": [
       "overshoot_pct (generic function with 1 method)"
      ]
     },
     "execution_count": 7,
     "metadata": {},
     "output_type": "execute_result"
    }
   ],
   "source": [
    "function overshoot_pct()\n",
    "    model = Model(Gurobi.Optimizer)\n",
    "    set_optimizer_attributes(model, \"NonConvex\" => 2, \"IntegralityFocus\" => 1)\n",
    "    set_optimizer_attribute(model, MOI.Silent(), true)\n",
    "    \n",
    "    @variable(model, x[1:ncty, 1:nproc] >= 0)\n",
    "    @variable(model, y[1:ncty, 1:ncty, 1:nproc] >= 0)\n",
    "    @variable(model, 0<=obj<=1)\n",
    "\n",
    "    @variable(model, delta[1:ncty, 1:nproc], Bin)\n",
    "    @variable(model, z[1:ncty, 1:nproc], Bin)\n",
    "    @variable(model, r[1:ncty, 1:nproc], Bin)\n",
    "    @variable(model, t[1:ncty, 1:nproc], Bin);\n",
    "    \n",
    "    x_cth = [@constraint(model, sum(x[i,k] for i in 1:ncty) == sum(x[i,5] for i in 1:ncty) * scaler[k]) for k in cathode]\n",
    "    x_cell = [@constraint(model, sum(x[i,k] for i in 1:ncty) == sum(x[i,11] for i in 1:ncty) * scaler[k]) for k in cell]\n",
    "    x_noncell = [@constraint(model, sum(x[i,k] for i in 1:ncty) == sum(x[i,14] for i in 1:ncty) * scaler[k]) for k in noncell]\n",
    "    x_battery = [@constraint(model, sum(x[i,k] for i in 1:ncty) == sum(x[i,15] for i in 1:ncty) * scaler[k]) for k in battery];\n",
    "\n",
    "    cstr_cap = [@constraint(model, x[i,k] <= capacity[!, 2:end][i,k]) for k in 1:nproc for i in 1:ncty]\n",
    "    cstr_op = [@constraint(model, sum(y[i,j,k] for j in 1:ncty) == x[i,k]) for k in 1:nproc for i in 1:ncty]\n",
    "    cstr_cth = [@constraint(model, sum(y[i,j,k] for i in 1:ncty) == x[j,5]*scaler[k]) for k in cathode for j in 1:ncty]\n",
    "    cstr_cell = [@constraint(model, sum(y[i,j,k] for i in 1:ncty) == x[j,11]*scaler[k]) for k in cell for j in 1:ncty]\n",
    "    cstr_noncell = [@constraint(model, sum(y[i,j,k] for i in 1:ncty) == x[j,14]*scaler[k]) for k in noncell for j in 1:ncty]\n",
    "    cstr_battery = [@constraint(model, sum(y[i,j,k] for i in 1:ncty) == x[j,15]*scaler[k]) for k in battery for j in 1:ncty]\n",
    "\n",
    "    @constraint(model, sum(y[i,mkt_loc,mkt_proc] for i in 1:ncty) == cell_demand)\n",
    "    tmp = filter!(e->e!=mkt_loc,collect(1:ncty))\n",
    "    for j in tmp\n",
    "        @constraint(model, sum(y[i,j,mkt_proc] for i in 1:ncty) == 0);\n",
    "    end\n",
    "    \n",
    "    proD = x .* Matrix(regional_EF[:,2:end])\n",
    "    pro_sink = zeros(ncty, nproc)\n",
    "    for k in 1:nproc\n",
    "        for i in 1:ncty\n",
    "            pro_sink[i,k] = regional_EF[i, k+1] * (sink_c[i]/emission_c[i] + es_ratio)\n",
    "        end\n",
    "    end\n",
    "    proS = x .* pro_sink\n",
    "\n",
    "    transD = Matrix{AffExpr}(undef, ncty, nproc)\n",
    "    for k in 1:nproc\n",
    "        for i in 1:ncty\n",
    "            emi = 0\n",
    "            for j in 1:ncty\n",
    "                emi += y[i,j,k] * distance[!, 2:end][i,j] * EF_trans  #PRODUCER\n",
    "            end\n",
    "            transD[i,k] = emi\n",
    "        end\n",
    "    end\n",
    "    \n",
    "    slack = 1e-6\n",
    "    M = 1e7\n",
    "    \n",
    "    Allo_Dsoc = (proD*ones(nproc,1)) .* (Dsoc./emission_c)\n",
    "    SS = transD*ones(nproc,1) + proD*ones(nproc,1) - Allo_Dsoc\n",
    "    cstr_soc = [@constraint(model, SS[i] >= slack) for i in 1:ncty];\n",
    "    \n",
    "    EO = proD - proS + transD\n",
    "    for i in 1:ncty\n",
    "        for k in 1:nproc\n",
    "            @constraint(model, EO[i,k] >= -M*r[i,k] + slack*t[i,k])\n",
    "            @constraint(model, EO[i,k] <= -slack*r[i,k] + M*t[i,k])\n",
    "            @constraint(model, z[i,k] + r[i,k] + t[i,k] == 1)\n",
    "            @constraint(model, delta[i,k] => {x[i,k] >= 0.1})\n",
    "        end\n",
    "    end\n",
    "    \n",
    "    @constraint(model, obj*sum(delta) == sum(t))\n",
    "    @objective(model, Min, obj)\n",
    "    JuMP.optimize!(model)\n",
    "    \n",
    "    xx = JuMP.value.(x)\n",
    "    yy = JuMP.value.(y)\n",
    "    zz = JuMP.value.(z)\n",
    "    rr = JuMP.value.(r)\n",
    "    tt = JuMP.value.(t)\n",
    "    solution = JuMP.objective_value(model)\n",
    "    \n",
    "    return Dict([\"x\"=>xx, \"obj\"=>solution, \"y\"=>yy, \"z\"=>zz, \"t\"=>tt, \"r\"=>rr])\n",
    "    \n",
    "end"
   ]
  },
  {
   "cell_type": "markdown",
   "id": "6fa1bf3b",
   "metadata": {},
   "source": [
    "---"
   ]
  },
  {
   "cell_type": "code",
   "execution_count": 8,
   "id": "29223793",
   "metadata": {},
   "outputs": [
    {
     "data": {
      "text/plain": [
       "net_emi (generic function with 1 method)"
      ]
     },
     "execution_count": 8,
     "metadata": {},
     "output_type": "execute_result"
    }
   ],
   "source": [
    "function net_emi(x,y)\n",
    "    \n",
    "    proD = (x .* Matrix(regional_EF[:,2:end])) * ones(nproc,1) \n",
    "    pro_sink = zeros(ncty, nproc)\n",
    "    for k in 1:nproc\n",
    "        for i in 1:ncty\n",
    "            pro_sink[i,k] = regional_EF[i, k+1] * (sink_c[i]/emission_c[i] + es_ratio)\n",
    "        end\n",
    "    end\n",
    "    proS = (x.*pro_sink)*ones(nproc,1) \n",
    "    \n",
    "    transS = Vector{Float64}(undef, ncty)\n",
    "    transD = Vector{Float64}(undef, ncty)\n",
    "    for j in 1:ncty\n",
    "        arc_emi = 0\n",
    "        arc_seq = 0\n",
    "        for i in 1:ncty\n",
    "            amount = sum(y[i,j,k] for k in 1:nproc)\n",
    "            arc_emi += amount * distance[!, 2:end][i,j] * EF_trans\n",
    "            arc_seq += arc_emi * (sink_c[j]/emission_c[j] + es_ratio)\n",
    "        end\n",
    "        transD[j] = arc_emi  # ncty*1 matrix\n",
    "        transS[j] = arc_seq  # ncty*1 matrix\n",
    "    end\n",
    "    \n",
    "    EO = proD - proS + transD\n",
    "    return(sum(EO))\n",
    "end"
   ]
  },
  {
   "cell_type": "code",
   "execution_count": 9,
   "id": "8cddd6fb",
   "metadata": {},
   "outputs": [
    {
     "data": {
      "text/plain": [
       "soc_ss (generic function with 1 method)"
      ]
     },
     "execution_count": 9,
     "metadata": {},
     "output_type": "execute_result"
    }
   ],
   "source": [
    "function soc_ss(x,y)\n",
    "    \n",
    "    proD = (x .* Matrix(regional_EF[:,2:end])) * ones(nproc,1)  # ncty*1 matrix\n",
    "    pro_sink = zeros(ncty, nproc)\n",
    "    for k in 1:nproc\n",
    "        for i in 1:ncty\n",
    "            pro_sink[i,k] = regional_EF[i, k+1] * (sink_c[i]/emission_c[i] + es_ratio)\n",
    "        end\n",
    "    end\n",
    "    proS = (x.*pro_sink)*ones(nproc,1)  # ncty*1 matrix\n",
    "\n",
    "    \n",
    "    transS = Vector{Float64}(undef, ncty)\n",
    "    transD = Vector{Float64}(undef, ncty)\n",
    "    for j in 1:ncty\n",
    "        arc_emi = 0\n",
    "        arc_seq = 0\n",
    "        for i in 1:ncty\n",
    "            amount = sum(y[i,j,k] for k in 1:nproc)\n",
    "            arc_emi += amount * distance[!, 2:end][i,j] * EF_trans\n",
    "            arc_seq += arc_emi * (sink_c[j]/emission_c[j] + es_ratio)\n",
    "        end\n",
    "        transD[j] = arc_emi  # ncty*1 matrix\n",
    "        transS[j] = arc_seq  # ncty*1 matrix\n",
    "    end\n",
    "\n",
    "    \n",
    "    EO = sum(proD - proS + transD) \n",
    "    Allo_soc = proD ./ emission_c .* Dsoc\n",
    "    SS = sum(Allo_soc - (proD + transD));\n",
    "    \n",
    "    return sum(SS)\n",
    "end"
   ]
  },
  {
   "cell_type": "code",
   "execution_count": 10,
   "id": "250e2c35",
   "metadata": {},
   "outputs": [
    {
     "data": {
      "text/plain": [
       "country_EO (generic function with 1 method)"
      ]
     },
     "execution_count": 10,
     "metadata": {},
     "output_type": "execute_result"
    }
   ],
   "source": [
    "function country_EO(x,y)\n",
    "    \n",
    "    proD = (x .* Matrix(regional_EF[:,2:end]))\n",
    "    pro_sink = zeros(ncty, nproc)\n",
    "    for k in 1:nproc\n",
    "        for i in 1:ncty\n",
    "            pro_sink[i,k] = regional_EF[i, k+1] * (sink_c[i]/emission_c[i] + es_ratio)\n",
    "        end\n",
    "    end\n",
    "    proS = x .* pro_sink\n",
    "    \n",
    "    \n",
    "    transD = zeros(ncty, nproc)\n",
    "    for k in 1:nproc\n",
    "        for j in 1:ncty\n",
    "            emi = 0\n",
    "            for i in 1:ncty\n",
    "                emi += y[i,j,k] * distance[!, 2:end][i,j] * EF_trans\n",
    "            end\n",
    "            transD[j,k] = emi\n",
    "        end\n",
    "    end\n",
    "    \n",
    "    \n",
    "    EO = proD - proS + transD\n",
    "    return proD + transD, proS\n",
    "end"
   ]
  },
  {
   "cell_type": "code",
   "execution_count": 11,
   "id": "ad2d974e",
   "metadata": {},
   "outputs": [
    {
     "data": {
      "text/plain": [
       "pct_count (generic function with 1 method)"
      ]
     },
     "execution_count": 11,
     "metadata": {},
     "output_type": "execute_result"
    }
   ],
   "source": [
    "function pct_count(x,y)\n",
    "    proD = x .* Matrix(regional_EF[:,2:end])\n",
    "    pro_sink = zeros(ncty, nproc)\n",
    "    for k in 1:nproc\n",
    "        for i in 1:ncty\n",
    "            pro_sink[i,k] = regional_EF[i, k+1] * (sink_c[i]/emission_c[i] + es_ratio)\n",
    "        end\n",
    "    end\n",
    "    proS = x .* pro_sink\n",
    "\n",
    "    transD = zeros(ncty, nproc)\n",
    "    for k in 1:nproc\n",
    "        for i in 1:ncty\n",
    "            emi = 0\n",
    "            for j in 1:ncty\n",
    "                emi += y[i,j,k] * distance[!, 2:end][i,j] * EF_trans  \n",
    "            end\n",
    "            transD[i,k] = emi\n",
    "        end\n",
    "    end\n",
    "\n",
    "    MEO = proD - proS + transD;\n",
    "    \n",
    "    indices = (MEO .>= 0.1) .|| (MEO .<= -0.1)\n",
    "    ls = MEO[indices]\n",
    "    total = length(ls)\n",
    "    \n",
    "    num_os = 0\n",
    "    num_safe = 0\n",
    "    for e in ls\n",
    "        if e > 0\n",
    "            num_os += 1\n",
    "        elseif e < 0\n",
    "            num_safe += 1\n",
    "        end\n",
    "    end\n",
    "    \n",
    "#     return proD, proS, transD\n",
    "\n",
    "    return num_os,num_safe\n",
    "end"
   ]
  },
  {
   "cell_type": "code",
   "execution_count": 12,
   "id": "f9d31306",
   "metadata": {},
   "outputs": [
    {
     "data": {
      "text/plain": [
       "cal_intm (generic function with 1 method)"
      ]
     },
     "execution_count": 12,
     "metadata": {},
     "output_type": "execute_result"
    }
   ],
   "source": [
    "function cal_intm(EO_m)\n",
    "    model = Model(Gurobi.Optimizer)\n",
    "    set_silent(model)\n",
    "    @variable(model, x[1:ncty, 1:nproc] >= 0)           \n",
    "    @variable(model, y[1:ncty, 1:ncty, 1:nproc] >= 0)\n",
    "    \n",
    "    \n",
    "    cstr_cap = [@constraint(model, x[i,k] <= capacity[!, 2:end][i,k]) for k in 1:nproc for i in 1:ncty]\n",
    "    cstr_op = [@constraint(model, sum(y[i,j,k] for j in 1:ncty) == x[i,k]) for k in 1:nproc for i in 1:ncty]\n",
    "    cstr_cth = [@constraint(model, sum(y[i,j,k] for i in 1:ncty) == x[j,5]*scaler[k]) for k in cathode for j in 1:ncty]\n",
    "    cstr_cell = [@constraint(model, sum(y[i,j,k] for i in 1:ncty) == x[j,11]*scaler[k]) for k in cell for j in 1:ncty]\n",
    "    cstr_noncell = [@constraint(model, sum(y[i,j,k] for i in 1:ncty) == x[j,14]*scaler[k]) for k in noncell for j in 1:ncty]\n",
    "    cstr_battery = [@constraint(model, sum(y[i,j,k] for i in 1:ncty) == x[j,15]*scaler[k]) for k in battery for j in 1:ncty]\n",
    "    \n",
    "    @constraint(model, sum(y[i,mkt_loc,mkt_proc] for i in 1:ncty) == cell_demand)\n",
    "    tmp = filter!(e->e!=mkt_loc,collect(1:ncty))\n",
    "    for j in tmp\n",
    "        @constraint(model, sum(y[i,j,mkt_proc] for i in 1:ncty) == 0);\n",
    "    end\n",
    "    \n",
    "    \n",
    "    # obj func calculation\n",
    "    proD = (x .* Matrix(regional_EF[:,2:end])) * ones(nproc,1)  # ncty*1 matrix\n",
    "    pro_sink = zeros(ncty, nproc)\n",
    "    for k in 1:nproc\n",
    "        for i in 1:ncty\n",
    "            pro_sink[i,k] = regional_EF[i, k+1] * (sink_c[i]/emission_c[i] + es_ratio)\n",
    "        end\n",
    "    end\n",
    "    proS = (x.*pro_sink)*ones(nproc,1)  # ncty*1 matrix\n",
    "\n",
    "    \n",
    "    transD = Vector{AffExpr}(undef, ncty)\n",
    "    for j in 1:ncty\n",
    "        arc_emi = 0\n",
    "        arc_seq = 0\n",
    "        for i in 1:ncty\n",
    "            amount = sum(y[i,j,k] for k in 1:nproc)\n",
    "            arc_emi += amount * distance[!, 2:end][i,j] * EF_trans\n",
    "        end\n",
    "        transD[j] = arc_emi  # ncty*1 matrix\n",
    "    end\n",
    "    \n",
    "    Allo_soc = proD ./ emission_c .* Dsoc\n",
    "    SS = Allo_soc - (proD + transD)\n",
    "    \n",
    "    EO = sum(proD - proS + transD)\n",
    "    @constraint(model, EO==EO_m)\n",
    "    \n",
    "    @objective(model, Min, sum(SS));\n",
    "\n",
    "    JuMP.optimize!(model)\n",
    "    opt_obj = JuMP.objective_value(model)\n",
    "    opt_x = JuMP.value.(x)\n",
    "    opt_y = JuMP.value.(y)\n",
    "    \n",
    "    return opt_obj, opt_x, opt_y\n",
    "end\n",
    "    "
   ]
  },
  {
   "cell_type": "code",
   "execution_count": 13,
   "id": "bcad0ebb",
   "metadata": {},
   "outputs": [
    {
     "data": {
      "text/plain": [
       "ep_constraint (generic function with 1 method)"
      ]
     },
     "execution_count": 13,
     "metadata": {},
     "output_type": "execute_result"
    }
   ],
   "source": [
    "function ep_constraint(N, EO1, EO2)\n",
    "    \n",
    "    ep = (EO2 - EO1) / N\n",
    "    lsss = []\n",
    "    lseo = []\n",
    "    lspct = []\n",
    "    for i in 0:N\n",
    "        EO_m = EO1 + i*ep\n",
    "        obj_ss, opt_x, opt_y = cal_intm(EO_m)\n",
    "        pct_m = pct_count(opt_x, opt_y)\n",
    "        push!(lsss, obj_ss)\n",
    "        push!(lseo, EO_m)\n",
    "        push!(lspct, pct_m)\n",
    "    end\n",
    "    \n",
    "    return lsss, lseo, lspct\n",
    "end"
   ]
  },
  {
   "cell_type": "markdown",
   "id": "ab7937cd",
   "metadata": {},
   "source": [
    "---"
   ]
  },
  {
   "cell_type": "code",
   "execution_count": 14,
   "id": "330a7c6a",
   "metadata": {},
   "outputs": [
    {
     "name": "stdout",
     "output_type": "stream",
     "text": [
      "Academic license - for non-commercial use only - expires 2024-12-26\r\n",
      "Academic license - for non-commercial use only - expires 2024-12-26\r\n"
     ]
    }
   ],
   "source": [
    "res_eo = EO_SS_Model(\"Ecological\")\n",
    "res_ss = EO_SS_Model(\"Social\");"
   ]
  },
  {
   "cell_type": "code",
   "execution_count": 43,
   "id": "d4ae7136",
   "metadata": {},
   "outputs": [
    {
     "data": {
      "text/plain": [
       "Dict{String, Any} with 3 entries:\n",
       "  \"obj\" => 1.05664e6\n",
       "  \"x\"   => [6200.0 0.0 … 0.0 0.0; 5579.65 0.0 … 0.0 0.0; … ; 0.0 0.0 … 0.0 0.0;…\n",
       "  \"y\"   => [0.0 0.0 … 0.0 6200.0; 0.0 0.0 … 0.0 5579.65; … ; 0.0 0.0 … 0.0 0.0;…"
      ]
     },
     "execution_count": 43,
     "metadata": {},
     "output_type": "execute_result"
    }
   ],
   "source": [
    "res_eo"
   ]
  },
  {
   "cell_type": "code",
   "execution_count": 22,
   "id": "dd699edc",
   "metadata": {},
   "outputs": [
    {
     "data": {
      "text/plain": [
       "\"C:/Users/bourg/.julia/environments/batterySC/Li-battery-SC/src/deterministic/data/result/EO_opt_X_0408.csv\""
      ]
     },
     "execution_count": 22,
     "metadata": {},
     "output_type": "execute_result"
    }
   ],
   "source": [
    "eo_x = DataFrame(res_eo[\"x\"],:auto)\n",
    "rename!(eo_x,process)\n",
    "eo_x.index = countries\n",
    "# CSV.write(\"C:/Users/bourg/.julia/environments/batterySC/Li-battery-SC/src/deterministic/data/result/EO_opt_X_0408.csv\", eo_x)"
   ]
  },
  {
   "cell_type": "code",
   "execution_count": 32,
   "id": "656e7274",
   "metadata": {},
   "outputs": [
    {
     "data": {
      "text/plain": [
       "\"C:/Users/bourg/.julia/environments/batterySC/Li-battery-SC/src/deterministic/data/result/EO_loc.csv\""
      ]
     },
     "execution_count": 32,
     "metadata": {},
     "output_type": "execute_result"
    }
   ],
   "source": [
    "eo_y = res_eo[\"y\"]\n",
    "arc = []\n",
    "for i in 1:ncty\n",
    "    for j in 1:ncty\n",
    "        for k in 1:nproc\n",
    "            start = countries[i]\n",
    "            stop  = countries[j]\n",
    "            if eo_y[i,j,k] > 1 && i != j && [start, stop] ∉ arc\n",
    "                push!(arc, [start, stop])\n",
    "            end\n",
    "        end\n",
    "    end\n",
    "end\n",
    "\n",
    "column1 = [elem[1] for elem in arc]\n",
    "column2 = [elem[2] for elem in arc]\n",
    "\n",
    "df_loc = DataFrame(Column1 = column1, Column2 = column2)\n",
    "rename!(df_loc,[\"from\", \"to\"])\n",
    "CSV.write(\"C:/Users/bourg/.julia/environments/batterySC/Li-battery-SC/src/deterministic/data/result/EO_loc.csv\", df_loc)"
   ]
  },
  {
   "cell_type": "code",
   "execution_count": 35,
   "id": "bd6cc42b",
   "metadata": {},
   "outputs": [],
   "source": [
    "ss_x = DataFrame(res_ss[\"x\"],:auto)\n",
    "rename!(ss_x,process)\n",
    "ss_x.index = countries\n",
    "# CSV.write(\"C:/Users/bourg/.julia/environments/batterySC/Li-battery-SC/src/deterministic/data/result/SS_opt_X_0408.csv\", ss_x)"
   ]
  },
  {
   "cell_type": "code",
   "execution_count": 36,
   "id": "9ceb195e",
   "metadata": {},
   "outputs": [
    {
     "data": {
      "text/plain": [
       "\"C:/Users/bourg/.julia/environments/batterySC/Li-battery-SC/src/deterministic/data/result/SS_loc.csv\""
      ]
     },
     "execution_count": 36,
     "metadata": {},
     "output_type": "execute_result"
    }
   ],
   "source": [
    "ss_y = res_ss[\"y\"]\n",
    "arc = []\n",
    "for i in 1:ncty\n",
    "    for j in 1:ncty\n",
    "        for k in 1:nproc\n",
    "            start = countries[i]\n",
    "            stop  = countries[j]\n",
    "            if ss_y[i,j,k] > 1 && i != j && [start, stop] ∉ arc\n",
    "                push!(arc, [start, stop])\n",
    "            end\n",
    "        end\n",
    "    end\n",
    "end\n",
    "\n",
    "column1 = [elem[1] for elem in arc]\n",
    "column2 = [elem[2] for elem in arc]\n",
    "\n",
    "df_loc = DataFrame(Column1 = column1, Column2 = column2)\n",
    "rename!(df_loc,[\"from\", \"to\"])\n",
    "CSV.write(\"C:/Users/bourg/.julia/environments/batterySC/Li-battery-SC/src/deterministic/data/result/SS_loc.csv\", df_loc)"
   ]
  },
  {
   "cell_type": "code",
   "execution_count": 38,
   "id": "b4f65433",
   "metadata": {},
   "outputs": [
    {
     "name": "stdout",
     "output_type": "stream",
     "text": [
      "Academic license - for non-commercial use only - expires 2024-12-26\r\n"
     ]
    },
    {
     "data": {
      "text/plain": [
       "Dict{String, Any} with 6 entries:\n",
       "  \"obj\" => 0.210526\n",
       "  \"t\"   => [-0.0 0.0 … 0.0 0.0; -0.0 -0.0 … -0.0 0.0; … ; 0.0 0.0 … -0.0 -0.0; …\n",
       "  \"x\"   => [0.0 0.0 … 0.0 0.0; 0.0 0.0 … 0.0 0.0; … ; 0.0 0.0 … 0.0 0.0; 0.0 0.…\n",
       "  \"r\"   => [0.0 1.0 … 1.0 1.0; 0.0 0.0 … 0.0 1.0; … ; 1.0 1.0 … 0.0 1.0; 0.0 1.…\n",
       "  \"z\"   => [1.0 0.0 … 0.0 0.0; 1.0 1.0 … 1.0 0.0; … ; 0.0 0.0 … 1.0 0.0; 1.0 0.…\n",
       "  \"y\"   => [0.0 0.0 … 0.0 0.0; 0.0 0.0 … 0.0 0.0; … ; 0.0 0.0 … 0.0 0.0; 0.0 0.…"
      ]
     },
     "execution_count": 38,
     "metadata": {},
     "output_type": "execute_result"
    }
   ],
   "source": [
    "OSPct = overshoot_pct()"
   ]
  },
  {
   "cell_type": "code",
   "execution_count": 40,
   "id": "8fdbf710",
   "metadata": {},
   "outputs": [],
   "source": [
    "pct_x = DataFrame(OSPct[\"x\"],:auto)\n",
    "rename!(pct_x,process)\n",
    "pct_x.index = countries\n",
    "# CSV.write(\"C:/Users/bourg/.julia/environments/batterySC/Li-battery-SC/src/deterministic/data/result/PCT_opt_X_0408.csv\", pct_x)"
   ]
  },
  {
   "cell_type": "code",
   "execution_count": 41,
   "id": "b4c5dad9",
   "metadata": {},
   "outputs": [
    {
     "data": {
      "text/plain": [
       "\"C:/Users/bourg/.julia/environments/batterySC/Li-battery-SC/src/deterministic/data/result/PCT_loc.csv\""
      ]
     },
     "execution_count": 41,
     "metadata": {},
     "output_type": "execute_result"
    }
   ],
   "source": [
    "pct_y = OSPct[\"y\"]\n",
    "arc = []\n",
    "for i in 1:ncty\n",
    "    for j in 1:ncty\n",
    "        for k in 1:nproc\n",
    "            start = countries[i]\n",
    "            stop  = countries[j]\n",
    "            if pct_y[i,j,k] > 1 && i != j && [start, stop] ∉ arc\n",
    "                push!(arc, [start, stop])\n",
    "            end\n",
    "        end\n",
    "    end\n",
    "end\n",
    "\n",
    "column1 = [elem[1] for elem in arc]\n",
    "column2 = [elem[2] for elem in arc]\n",
    "\n",
    "df_loc = DataFrame(Column1 = column1, Column2 = column2)\n",
    "rename!(df_loc,[\"from\", \"to\"])\n",
    "CSV.write(\"C:/Users/bourg/.julia/environments/batterySC/Li-battery-SC/src/deterministic/data/result/PCT_loc.csv\", df_loc)"
   ]
  },
  {
   "cell_type": "markdown",
   "id": "117c3d54",
   "metadata": {},
   "source": [
    "----"
   ]
  },
  {
   "cell_type": "code",
   "execution_count": 20,
   "id": "3027f493",
   "metadata": {},
   "outputs": [],
   "source": [
    "EO1 = res_eo[\"obj\"]\n",
    "SS1 = res_ss[\"obj\"]\n",
    "ss_x = res_ss[\"x\"]\n",
    "ss_y = res_ss[\"y\"]\n",
    "eo_x = res_eo[\"x\"]\n",
    "eo_y = res_eo[\"y\"];"
   ]
  },
  {
   "cell_type": "code",
   "execution_count": 21,
   "id": "6633e7bc",
   "metadata": {},
   "outputs": [
    {
     "data": {
      "text/plain": [
       "8.520654106727423e6"
      ]
     },
     "execution_count": 21,
     "metadata": {},
     "output_type": "execute_result"
    }
   ],
   "source": [
    "EO2 = net_emi(ss_x, ss_y)"
   ]
  },
  {
   "cell_type": "code",
   "execution_count": 22,
   "id": "c56f7ad8",
   "metadata": {},
   "outputs": [
    {
     "data": {
      "text/plain": [
       "-1.0130200636800908e7"
      ]
     },
     "execution_count": 22,
     "metadata": {},
     "output_type": "execute_result"
    }
   ],
   "source": [
    "SS2 = soc_ss(eo_x, eo_y)"
   ]
  },
  {
   "cell_type": "code",
   "execution_count": 39,
   "id": "c4a61253",
   "metadata": {},
   "outputs": [
    {
     "name": "stdout",
     "output_type": "stream",
     "text": [
      "Academic license - for non-commercial use only - expires 2024-12-26\r\n"
     ]
    },
    {
     "data": {
      "text/plain": [
       "Dict{String, Any} with 6 entries:\n",
       "  \"obj\" => 0.210526\n",
       "  \"t\"   => [-0.0 0.0 … 0.0 0.0; -0.0 -0.0 … -0.0 0.0; … ; 0.0 0.0 … -0.0 -0.0; …\n",
       "  \"x\"   => [0.0 0.0 … 0.0 0.0; 0.0 0.0 … 0.0 0.0; … ; 0.0 0.0 … 0.0 0.0; 0.0 0.…\n",
       "  \"r\"   => [0.0 1.0 … 1.0 1.0; 0.0 0.0 … 0.0 1.0; … ; 1.0 1.0 … 0.0 1.0; 0.0 1.…\n",
       "  \"z\"   => [1.0 0.0 … 0.0 0.0; 1.0 1.0 … 1.0 0.0; … ; 0.0 0.0 … 1.0 0.0; 1.0 0.…\n",
       "  \"y\"   => [0.0 0.0 … 0.0 0.0; 0.0 0.0 … 0.0 0.0; … ; 0.0 0.0 … 0.0 0.0; 0.0 0.…"
      ]
     },
     "execution_count": 39,
     "metadata": {},
     "output_type": "execute_result"
    }
   ],
   "source": [
    "OSPct = overshoot_pct()"
   ]
  },
  {
   "cell_type": "code",
   "execution_count": 40,
   "id": "89878f48",
   "metadata": {},
   "outputs": [],
   "source": [
    "pct_x = OSPct[\"x\"]\n",
    "pct_y = OSPct[\"y\"];"
   ]
  },
  {
   "cell_type": "code",
   "execution_count": 41,
   "id": "03e5c2b0",
   "metadata": {},
   "outputs": [
    {
     "data": {
      "text/plain": [
       "0.25"
      ]
     },
     "execution_count": 41,
     "metadata": {},
     "output_type": "execute_result"
    }
   ],
   "source": [
    "num_os, num_safe = pct_count(pct_x,pct_y)\n",
    "OS1 = num_os / (num_os+num_safe)"
   ]
  },
  {
   "cell_type": "code",
   "execution_count": 29,
   "id": "da7d1f95",
   "metadata": {},
   "outputs": [
    {
     "data": {
      "text/plain": [
       "0.5"
      ]
     },
     "execution_count": 29,
     "metadata": {},
     "output_type": "execute_result"
    }
   ],
   "source": [
    "num_os, num_safe = pct_count(eo_x,eo_y)\n",
    "OS_eo = num_os / (num_os+num_safe)"
   ]
  },
  {
   "cell_type": "code",
   "execution_count": 31,
   "id": "f0f7f275",
   "metadata": {},
   "outputs": [
    {
     "data": {
      "text/plain": [
       "0.8484848484848485"
      ]
     },
     "execution_count": 31,
     "metadata": {},
     "output_type": "execute_result"
    }
   ],
   "source": [
    "num_os, num_safe = pct_count(ss_x,ss_y)\n",
    "OSss = num_os / (num_os+num_safe)"
   ]
  },
  {
   "cell_type": "code",
   "execution_count": 42,
   "id": "c0f4c85f",
   "metadata": {},
   "outputs": [
    {
     "data": {
      "text/plain": [
       "3.667688221260466e6"
      ]
     },
     "execution_count": 42,
     "metadata": {},
     "output_type": "execute_result"
    }
   ],
   "source": [
    "EO_pct = net_emi(pct_x, pct_y)"
   ]
  },
  {
   "cell_type": "code",
   "execution_count": 44,
   "id": "2527e9ce",
   "metadata": {},
   "outputs": [
    {
     "data": {
      "text/plain": [
       "-9.51823344053983e6"
      ]
     },
     "execution_count": 44,
     "metadata": {},
     "output_type": "execute_result"
    }
   ],
   "source": [
    "SS_pct = soc_ss(pct_x, pct_y)"
   ]
  },
  {
   "cell_type": "code",
   "execution_count": 63,
   "id": "c96afaf9",
   "metadata": {},
   "outputs": [
    {
     "data": {
      "text/plain": [
       "4"
      ]
     },
     "execution_count": 63,
     "metadata": {},
     "output_type": "execute_result"
    }
   ],
   "source": [
    "N = 4"
   ]
  },
  {
   "cell_type": "code",
   "execution_count": 64,
   "id": "c0ee30d0",
   "metadata": {},
   "outputs": [
    {
     "name": "stdout",
     "output_type": "stream",
     "text": [
      "Academic license - for non-commercial use only - expires 2024-12-26\r\n",
      "Academic license - for non-commercial use only - expires 2024-12-26\r\n",
      "Academic license - for non-commercial use only - expires 2024-12-26\r\n",
      "Academic license - for non-commercial use only - expires 2024-12-26\r\n",
      "Academic license - for non-commercial use only - expires 2024-12-26\r\n"
     ]
    }
   ],
   "source": [
    "ep = (EO2 - EO1) / N\n",
    "lsss = []\n",
    "lseo = []\n",
    "lspct = []\n",
    "for i in 0:N\n",
    "    EO_m = EO1 + i*ep\n",
    "    obj_ss, opt_x, opt_y = cal_intm(EO_m)\n",
    "    bad,good = pct_count(opt_x, opt_y)\n",
    "    push!(lsss, obj_ss)\n",
    "    push!(lseo, EO_m)\n",
    "    push!(lspct, bad/(bad+good))\n",
    "end"
   ]
  },
  {
   "cell_type": "code",
   "execution_count": 65,
   "id": "02878d43",
   "metadata": {},
   "outputs": [
    {
     "data": {
      "text/plain": [
       "5-element Vector{Any}:\n",
       " 0.5\n",
       " 0.5588235294117647\n",
       " 0.6285714285714286\n",
       " 0.6285714285714286\n",
       " 0.8484848484848485"
      ]
     },
     "execution_count": 65,
     "metadata": {},
     "output_type": "execute_result"
    }
   ],
   "source": [
    "lspct"
   ]
  },
  {
   "cell_type": "code",
   "execution_count": 69,
   "id": "955d94b7",
   "metadata": {},
   "outputs": [
    {
     "name": "stdout",
     "output_type": "stream",
     "text": [
      "Academic license - for non-commercial use only - expires 2024-12-26\r\n",
      "Academic license - for non-commercial use only - expires 2024-12-26\r\n",
      "Academic license - for non-commercial use only - expires 2024-12-26\r\n",
      "Academic license - for non-commercial use only - expires 2024-12-26\r\n",
      "Academic license - for non-commercial use only - expires 2024-12-26\r\n",
      "Academic license - for non-commercial use only - expires 2024-12-26\r\n",
      "Academic license - for non-commercial use only - expires 2024-12-26\r\n"
     ]
    },
    {
     "data": {
      "text/plain": [
       "(Any[-1.020627587733916e7, -1.1804541522433808e7, -1.2566932827329068e7, -1.300848653113937e7, -1.3256116817437839e7], Any[1.5783408217550563e6, 3.0503593332896587e6, 4.522377844824261e6, 5.994396356358863e6, 7.466414867893466e6], Any[(13, 13), (15, 13), (21, 11), (19, 11), (22, 5)])"
      ]
     },
     "execution_count": 69,
     "metadata": {},
     "output_type": "execute_result"
    }
   ],
   "source": [
    "path = \"C:/Users/bourg/.julia/environments/batterySC/Li-battery-SC/src/deterministic/data/Tesla/\";\n",
    "#load social and ecological data and orgnize \n",
    "regional_EF = CSV.File(string(path,\"EF_SC.csv\"),header=1,delim=\",\", types=dtype) |> DataFrame \n",
    "capacity = CSV.File(string(path,\"capacity.csv\"),header=1,delim=\",\", types=dtype) |> DataFrame    \n",
    "distance = CSV.File(string(path,\"distance.csv\"),header=1,delim=\",\") |> DataFrame \n",
    "SDD = CSV.File(string(path,\"SDD.csv\"),header=1,delim=\",\") |> DataFrame;\n",
    "\n",
    "emission_c = SDD[!, \"D\"]         \n",
    "sink_c = SDD[!, \"S\"]           \n",
    "Dsoc = SDD[!, \"Dsoc\"]          \n",
    "\n",
    "countries = capacity[!,\"country\"]\n",
    "ncty = size(countries,1)                       \n",
    "nproc = size(process,1);                         \n",
    "\n",
    "mkt_loc = findfirst(isequal(\"United States\"), countries)\n",
    "mkt_proc = findfirst(isequal(\"battery\"), process)\n",
    "\n",
    "emission_c = SDD[!, \"D\"]          # national CO2 emission (ton/yr)\n",
    "sink_c = SDD[!, \"S\"]           # national CO2 sink (ton/yr)\n",
    "Dsoc = SDD[!, \"Dsoc\"]           # national CO2 sink (ton/yr)\n",
    "\n",
    "countries = capacity[!,\"country\"]\n",
    "ncty = size(countries,1)                          # No. of countries\n",
    "nproc = size(process,1);                          # No. of processes \n",
    "\n",
    "mkt_loc = findfirst(isequal(\"United States\"), countries)\n",
    "mkt_proc = findfirst(isequal(\"battery\"), process)\n",
    "\n",
    "tesla_eo = EO_SS_Model(\"Ecological\")\n",
    "tesla_ss = EO_SS_Model(\"Social\")\n",
    "\n",
    "EO1_tesla = tesla_eo[\"obj\"]\n",
    "SS1_tesla = tesla_ss[\"obj\"]\n",
    "ss_x_tesla = tesla_ss[\"x\"]\n",
    "ss_y_tesla = tesla_ss[\"y\"]\n",
    "eo_x_tesla = tesla_eo[\"x\"]\n",
    "eo_y_tesla = tesla_eo[\"y\"]\n",
    "\n",
    "EO2_tesla = net_emi(ss_x_tesla, ss_y_tesla)\n",
    "SS2_tesla = soc_ss(eo_x_tesla, eo_y_tesla)\n",
    "\n",
    "tesla_ss, tesla_eo, tesla_pct = ep_constraint(4, EO1_tesla, EO2_tesla)"
   ]
  },
  {
   "cell_type": "code",
   "execution_count": 70,
   "id": "3f3cd2b0",
   "metadata": {},
   "outputs": [
    {
     "data": {
      "text/plain": [
       "\"C:/Users/bourg/.julia/environments/batterySC/Li-battery-SC/src/deterministic/data/result/PERATO_tesla_0406.csv\""
      ]
     },
     "execution_count": 70,
     "metadata": {},
     "output_type": "execute_result"
    }
   ],
   "source": [
    "perato2 = DataFrame([tesla_eo, tesla_ss, tesla_pct],:auto)\n",
    "rename!(perato2,[\"EO\", \"SS\", \"PCT\"])\n",
    "CSV.write(\"C:/Users/bourg/.julia/environments/batterySC/Li-battery-SC/src/deterministic/data/result/PERATO_tesla_0406.csv\", perato2)"
   ]
  },
  {
   "cell_type": "code",
   "execution_count": null,
   "id": "8ddf22be",
   "metadata": {},
   "outputs": [],
   "source": [
    "ep = (EO2_tesla - EO_tesla) / N\n",
    "lsss0 = []\n",
    "lseo0 = []\n",
    "lspct0 = []\n",
    "for i in 0:N\n",
    "    EO_m = EO1 + i*ep\n",
    "    obj_ss, opt_x, opt_y = cal_intm(EO_m)\n",
    "    bad,good = pct_count(opt_x, opt_y)\n",
    "    push!(lsss, obj_ss)\n",
    "    push!(lseo, EO_m)\n",
    "    push!(lspct, bad/(bad+good))\n",
    "end"
   ]
  }
 ],
 "metadata": {
  "@webio": {
   "lastCommId": null,
   "lastKernelId": null
  },
  "kernelspec": {
   "display_name": "Julia 1.8.3",
   "language": "julia",
   "name": "julia-1.8"
  },
  "language_info": {
   "file_extension": ".jl",
   "mimetype": "application/julia",
   "name": "julia",
   "version": "1.8.3"
  }
 },
 "nbformat": 4,
 "nbformat_minor": 5
}
