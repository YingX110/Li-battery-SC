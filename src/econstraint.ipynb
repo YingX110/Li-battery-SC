{
 "cells": [
  {
   "cell_type": "code",
   "execution_count": 1,
   "id": "a19e9bf8",
   "metadata": {},
   "outputs": [],
   "source": [
    "using JuMP, Gurobi\n",
    "using CSV, LinearAlgebra, DataFrames"
   ]
  },
  {
   "cell_type": "code",
   "execution_count": 7,
   "id": "219378fc",
   "metadata": {},
   "outputs": [],
   "source": [
    "#load the data and orgnize \n",
    "Cdata = CSV.File(\"C:/Users/bourg/.julia/environments/batterySC/data/capacity_constraint.csv\",header=1,delim=\",\") |> DataFrame    \n",
    "Combo = CSV.File(\"C:/Users/bourg/.julia/environments/batterySC/data/Julia_combo.csv\",header=1,delim=\",\") |> DataFrame; "
   ]
  },
  {
   "cell_type": "code",
   "execution_count": 8,
   "id": "16033ef3",
   "metadata": {},
   "outputs": [],
   "source": [
    "Jobs_names = names(Combo)[2:size(Combo,2)]\n",
    "com = Combo[1:size(Combo,1),2:size(Combo,2)]; #combination of job work \n",
    "\n",
    "country_names= Cdata[!,\"Country\"]\n",
    "S= Cdata[!,\"S\"] #supply  nx1\n",
    "D= Cdata[!,\"D\"] #Demand  nx1\n",
    "Dsoc= Cdata[!,\"Dsoc\"]; #Social Demand nx1 \n",
    "\n",
    "#parameters \n",
    "m= size(Jobs_names,1); # no. of jobs\n",
    "n= size(S,1); #no of countries"
   ]
  },
  {
   "cell_type": "code",
   "execution_count": 6,
   "id": "1ad520e5",
   "metadata": {},
   "outputs": [
    {
     "data": {
      "text/plain": [
       "false"
      ]
     },
     "execution_count": 6,
     "metadata": {},
     "output_type": "execute_result"
    }
   ],
   "source": [
    "1 == 2"
   ]
  },
  {
   "cell_type": "code",
   "execution_count": null,
   "id": "5aa2f7ec",
   "metadata": {},
   "outputs": [],
   "source": [
    "dict = Dict(\"Eco\" => 1, \"Just\" => 2)"
   ]
  },
  {
   "cell_type": "code",
   "execution_count": null,
   "id": "7f2422e8",
   "metadata": {},
   "outputs": [],
   "source": [
    "function "
   ]
  },
  {
   "cell_type": "code",
   "execution_count": null,
   "id": "85089882",
   "metadata": {},
   "outputs": [],
   "source": [
    "function e_const(m, n, steps)\n",
    "    model = Model(Gurobi.Optimizer);\n",
    "    set_optimizer_attribute(model, \"NonConvex\", 2);\n",
    "    \n",
    "    @variable(model, 0 <= x[1:n, 1:m] <= 1);\n",
    "    @variable(model, obj >= 0);\n",
    "    \n",
    "    @constraint(model, job_full[j in 1:m], sum(x[i, j] for i in 1:n) == 1);\n",
    "    @constraint(model, country_job[i in 1:n, j in 1:m], x[i, j] <= com[i, j]); \n",
    "    \n",
    "    for (key, val) in dict\n",
    "        \n",
    "   \n",
    "    \n",
    "    \n",
    "end"
   ]
  },
  {
   "cell_type": "markdown",
   "id": "2bfedf7e",
   "metadata": {},
   "source": [
    "### Safe"
   ]
  },
  {
   "cell_type": "code",
   "execution_count": null,
   "id": "5b9f10f9",
   "metadata": {},
   "outputs": [],
   "source": [
    "model= Model(Gurobi.Optimizer)\n",
    "set_optimizer_attribute(model, \"NonConvex\", 2);\n",
    "\n",
    "#variables \n",
    "@variable(model, 0 <= x[1:n, 1:m] <= 1) # whether to select the country? elements in x could only be 0 or 1\n",
    "@variable(model, obj >= 0);\n",
    "\n",
    "#Constraints \n",
    "@constraint(model, job_full[j in 1:m], sum(x[i, j] for i in 1:n) == 1) # each job is assigned to only 1 country\n",
    "@constraint(model, country_job[i in 1:n, j in 1:m], x[i, j] <= com[i,j]) # only candidate countries can do the job\n",
    "@constraint(model, obj*(sum(S'*x)) == (sum(D'*x)));\n",
    "\n",
    "# Objective\n",
    "@objective(model, Min, obj);"
   ]
  },
  {
   "cell_type": "code",
   "execution_count": 4,
   "id": "b052feb8",
   "metadata": {},
   "outputs": [],
   "source": [
    "using LinearFractional"
   ]
  },
  {
   "cell_type": "code",
   "execution_count": 43,
   "id": "97ff7dea",
   "metadata": {},
   "outputs": [
    {
     "name": "stdout",
     "output_type": "stream",
     "text": [
      "Academic license - for non-commercial use only - expires 2023-11-27\r\n"
     ]
    },
    {
     "data": {
      "text/plain": [
       "A JuMP Model\n",
       "Feasibility problem with:\n",
       "Variable: 1\n",
       "`VariableRef`-in-`MathOptInterface.GreaterThan{Float64}`: 1 constraint\n"
      ]
     },
     "execution_count": 43,
     "metadata": {},
     "output_type": "execute_result"
    }
   ],
   "source": [
    "lfp = LinearFractionalModel(with_optimizer(Gurobi.Optimizer))\n",
    "# x1 = @variable(lfp, base_name=\"x1\", lower_bound=0)\n",
    "# x2 = @variable(lfp, base_name=\"x2\", lower_bound=0, upper_bound=6)\n",
    "# x = @variable(lfp, 0 <= x[1:n, 1:m] <= 1)\n",
    "# obj = @variable(lfp, obj >= 0);"
   ]
  },
  {
   "cell_type": "code",
   "execution_count": 47,
   "id": "27923bae",
   "metadata": {},
   "outputs": [
    {
     "data": {
      "text/html": [
       "<div><div style = \"float: left;\"><span>36×13 DataFrame</span></div><div style = \"float: right;\"><span style = \"font-style: italic;\">11 rows omitted</span></div><div style = \"clear: both;\"></div></div><div class = \"data-frame\" style = \"overflow-x: scroll;\"><table class = \"data-frame\" style = \"margin-bottom: 6px;\"><thead><tr class = \"header\"><th class = \"rowNumber\" style = \"font-weight: bold; text-align: right;\">Row</th><th style = \"text-align: left;\">Mining_Li</th><th style = \"text-align: left;\">Mining_Co</th><th style = \"text-align: left;\">Mining_Ni</th><th style = \"text-align: left;\">Mining_Graphite</th><th style = \"text-align: left;\">Mining_Mn</th><th style = \"text-align: left;\">Processing_Li2CO3_LiOH</th><th style = \"text-align: left;\">Processing_CoSO4_NiSO4</th><th style = \"text-align: left;\">Processing_MnSO4</th><th style = \"text-align: left;\">Production_Cathode</th><th style = \"text-align: left;\">Production_Anode</th><th style = \"text-align: left;\">Production_Separators</th><th style = \"text-align: left;\">Production_Electrolytes</th><th style = \"text-align: left;\">Production_Cell_Pack</th></tr><tr class = \"subheader headerLastRow\"><th class = \"rowNumber\" style = \"font-weight: bold; text-align: right;\"></th><th title = \"Int64\" style = \"text-align: left;\">Int64</th><th title = \"Int64\" style = \"text-align: left;\">Int64</th><th title = \"Int64\" style = \"text-align: left;\">Int64</th><th title = \"Int64\" style = \"text-align: left;\">Int64</th><th title = \"Int64\" style = \"text-align: left;\">Int64</th><th title = \"Int64\" style = \"text-align: left;\">Int64</th><th title = \"Int64\" style = \"text-align: left;\">Int64</th><th title = \"Int64\" style = \"text-align: left;\">Int64</th><th title = \"Int64\" style = \"text-align: left;\">Int64</th><th title = \"Int64\" style = \"text-align: left;\">Int64</th><th title = \"Int64\" style = \"text-align: left;\">Int64</th><th title = \"Int64\" style = \"text-align: left;\">Int64</th><th title = \"Int64\" style = \"text-align: left;\">Int64</th></tr></thead><tbody><tr><td class = \"rowNumber\" style = \"font-weight: bold; text-align: right;\">1</td><td style = \"text-align: right;\">1</td><td style = \"text-align: right;\">0</td><td style = \"text-align: right;\">0</td><td style = \"text-align: right;\">0</td><td style = \"text-align: right;\">0</td><td style = \"text-align: right;\">1</td><td style = \"text-align: right;\">0</td><td style = \"text-align: right;\">0</td><td style = \"text-align: right;\">0</td><td style = \"text-align: right;\">0</td><td style = \"text-align: right;\">0</td><td style = \"text-align: right;\">0</td><td style = \"text-align: right;\">0</td></tr><tr><td class = \"rowNumber\" style = \"font-weight: bold; text-align: right;\">2</td><td style = \"text-align: right;\">1</td><td style = \"text-align: right;\">1</td><td style = \"text-align: right;\">1</td><td style = \"text-align: right;\">0</td><td style = \"text-align: right;\">1</td><td style = \"text-align: right;\">0</td><td style = \"text-align: right;\">0</td><td style = \"text-align: right;\">1</td><td style = \"text-align: right;\">0</td><td style = \"text-align: right;\">0</td><td style = \"text-align: right;\">0</td><td style = \"text-align: right;\">0</td><td style = \"text-align: right;\">0</td></tr><tr><td class = \"rowNumber\" style = \"font-weight: bold; text-align: right;\">3</td><td style = \"text-align: right;\">0</td><td style = \"text-align: right;\">0</td><td style = \"text-align: right;\">0</td><td style = \"text-align: right;\">0</td><td style = \"text-align: right;\">0</td><td style = \"text-align: right;\">1</td><td style = \"text-align: right;\">0</td><td style = \"text-align: right;\">0</td><td style = \"text-align: right;\">0</td><td style = \"text-align: right;\">0</td><td style = \"text-align: right;\">0</td><td style = \"text-align: right;\">0</td><td style = \"text-align: right;\">0</td></tr><tr><td class = \"rowNumber\" style = \"font-weight: bold; text-align: right;\">4</td><td style = \"text-align: right;\">1</td><td style = \"text-align: right;\">0</td><td style = \"text-align: right;\">1</td><td style = \"text-align: right;\">1</td><td style = \"text-align: right;\">1</td><td style = \"text-align: right;\">0</td><td style = \"text-align: right;\">0</td><td style = \"text-align: right;\">0</td><td style = \"text-align: right;\">0</td><td style = \"text-align: right;\">0</td><td style = \"text-align: right;\">0</td><td style = \"text-align: right;\">0</td><td style = \"text-align: right;\">0</td></tr><tr><td class = \"rowNumber\" style = \"font-weight: bold; text-align: right;\">5</td><td style = \"text-align: right;\">0</td><td style = \"text-align: right;\">1</td><td style = \"text-align: right;\">1</td><td style = \"text-align: right;\">1</td><td style = \"text-align: right;\">0</td><td style = \"text-align: right;\">1</td><td style = \"text-align: right;\">0</td><td style = \"text-align: right;\">0</td><td style = \"text-align: right;\">0</td><td style = \"text-align: right;\">0</td><td style = \"text-align: right;\">0</td><td style = \"text-align: right;\">0</td><td style = \"text-align: right;\">0</td></tr><tr><td class = \"rowNumber\" style = \"font-weight: bold; text-align: right;\">6</td><td style = \"text-align: right;\">1</td><td style = \"text-align: right;\">0</td><td style = \"text-align: right;\">0</td><td style = \"text-align: right;\">0</td><td style = \"text-align: right;\">0</td><td style = \"text-align: right;\">1</td><td style = \"text-align: right;\">0</td><td style = \"text-align: right;\">0</td><td style = \"text-align: right;\">0</td><td style = \"text-align: right;\">0</td><td style = \"text-align: right;\">0</td><td style = \"text-align: right;\">0</td><td style = \"text-align: right;\">0</td></tr><tr><td class = \"rowNumber\" style = \"font-weight: bold; text-align: right;\">7</td><td style = \"text-align: right;\">1</td><td style = \"text-align: right;\">1</td><td style = \"text-align: right;\">1</td><td style = \"text-align: right;\">1</td><td style = \"text-align: right;\">1</td><td style = \"text-align: right;\">1</td><td style = \"text-align: right;\">1</td><td style = \"text-align: right;\">1</td><td style = \"text-align: right;\">1</td><td style = \"text-align: right;\">1</td><td style = \"text-align: right;\">1</td><td style = \"text-align: right;\">1</td><td style = \"text-align: right;\">1</td></tr><tr><td class = \"rowNumber\" style = \"font-weight: bold; text-align: right;\">8</td><td style = \"text-align: right;\">0</td><td style = \"text-align: right;\">1</td><td style = \"text-align: right;\">0</td><td style = \"text-align: right;\">0</td><td style = \"text-align: right;\">0</td><td style = \"text-align: right;\">0</td><td style = \"text-align: right;\">0</td><td style = \"text-align: right;\">0</td><td style = \"text-align: right;\">0</td><td style = \"text-align: right;\">0</td><td style = \"text-align: right;\">0</td><td style = \"text-align: right;\">0</td><td style = \"text-align: right;\">0</td></tr><tr><td class = \"rowNumber\" style = \"font-weight: bold; text-align: right;\">9</td><td style = \"text-align: right;\">0</td><td style = \"text-align: right;\">0</td><td style = \"text-align: right;\">0</td><td style = \"text-align: right;\">0</td><td style = \"text-align: right;\">1</td><td style = \"text-align: right;\">0</td><td style = \"text-align: right;\">0</td><td style = \"text-align: right;\">0</td><td style = \"text-align: right;\">0</td><td style = \"text-align: right;\">0</td><td style = \"text-align: right;\">0</td><td style = \"text-align: right;\">0</td><td style = \"text-align: right;\">0</td></tr><tr><td class = \"rowNumber\" style = \"font-weight: bold; text-align: right;\">10</td><td style = \"text-align: right;\">0</td><td style = \"text-align: right;\">1</td><td style = \"text-align: right;\">0</td><td style = \"text-align: right;\">0</td><td style = \"text-align: right;\">0</td><td style = \"text-align: right;\">0</td><td style = \"text-align: right;\">0</td><td style = \"text-align: right;\">0</td><td style = \"text-align: right;\">0</td><td style = \"text-align: right;\">0</td><td style = \"text-align: right;\">0</td><td style = \"text-align: right;\">0</td><td style = \"text-align: right;\">0</td></tr><tr><td class = \"rowNumber\" style = \"font-weight: bold; text-align: right;\">11</td><td style = \"text-align: right;\">0</td><td style = \"text-align: right;\">0</td><td style = \"text-align: right;\">0</td><td style = \"text-align: right;\">0</td><td style = \"text-align: right;\">1</td><td style = \"text-align: right;\">0</td><td style = \"text-align: right;\">0</td><td style = \"text-align: right;\">0</td><td style = \"text-align: right;\">0</td><td style = \"text-align: right;\">0</td><td style = \"text-align: right;\">0</td><td style = \"text-align: right;\">0</td><td style = \"text-align: right;\">0</td></tr><tr><td class = \"rowNumber\" style = \"font-weight: bold; text-align: right;\">12</td><td style = \"text-align: right;\">0</td><td style = \"text-align: right;\">0</td><td style = \"text-align: right;\">0</td><td style = \"text-align: right;\">0</td><td style = \"text-align: right;\">0</td><td style = \"text-align: right;\">1</td><td style = \"text-align: right;\">1</td><td style = \"text-align: right;\">1</td><td style = \"text-align: right;\">0</td><td style = \"text-align: right;\">0</td><td style = \"text-align: right;\">0</td><td style = \"text-align: right;\">0</td><td style = \"text-align: right;\">1</td></tr><tr><td class = \"rowNumber\" style = \"font-weight: bold; text-align: right;\">13</td><td style = \"text-align: right;\">0</td><td style = \"text-align: right;\">0</td><td style = \"text-align: right;\">0</td><td style = \"text-align: right;\">0</td><td style = \"text-align: right;\">1</td><td style = \"text-align: right;\">0</td><td style = \"text-align: right;\">0</td><td style = \"text-align: right;\">0</td><td style = \"text-align: right;\">0</td><td style = \"text-align: right;\">0</td><td style = \"text-align: right;\">0</td><td style = \"text-align: right;\">0</td><td style = \"text-align: right;\">0</td></tr><tr><td style = \"text-align: right;\">&vellip;</td><td style = \"text-align: right;\">&vellip;</td><td style = \"text-align: right;\">&vellip;</td><td style = \"text-align: right;\">&vellip;</td><td style = \"text-align: right;\">&vellip;</td><td style = \"text-align: right;\">&vellip;</td><td style = \"text-align: right;\">&vellip;</td><td style = \"text-align: right;\">&vellip;</td><td style = \"text-align: right;\">&vellip;</td><td style = \"text-align: right;\">&vellip;</td><td style = \"text-align: right;\">&vellip;</td><td style = \"text-align: right;\">&vellip;</td><td style = \"text-align: right;\">&vellip;</td><td style = \"text-align: right;\">&vellip;</td></tr><tr><td class = \"rowNumber\" style = \"font-weight: bold; text-align: right;\">25</td><td style = \"text-align: right;\">0</td><td style = \"text-align: right;\">0</td><td style = \"text-align: right;\">0</td><td style = \"text-align: right;\">1</td><td style = \"text-align: right;\">0</td><td style = \"text-align: right;\">0</td><td style = \"text-align: right;\">0</td><td style = \"text-align: right;\">0</td><td style = \"text-align: right;\">0</td><td style = \"text-align: right;\">0</td><td style = \"text-align: right;\">0</td><td style = \"text-align: right;\">0</td><td style = \"text-align: right;\">0</td></tr><tr><td class = \"rowNumber\" style = \"font-weight: bold; text-align: right;\">26</td><td style = \"text-align: right;\">0</td><td style = \"text-align: right;\">1</td><td style = \"text-align: right;\">0</td><td style = \"text-align: right;\">0</td><td style = \"text-align: right;\">0</td><td style = \"text-align: right;\">0</td><td style = \"text-align: right;\">0</td><td style = \"text-align: right;\">0</td><td style = \"text-align: right;\">0</td><td style = \"text-align: right;\">0</td><td style = \"text-align: right;\">0</td><td style = \"text-align: right;\">0</td><td style = \"text-align: right;\">0</td></tr><tr><td class = \"rowNumber\" style = \"font-weight: bold; text-align: right;\">27</td><td style = \"text-align: right;\">0</td><td style = \"text-align: right;\">1</td><td style = \"text-align: right;\">1</td><td style = \"text-align: right;\">0</td><td style = \"text-align: right;\">0</td><td style = \"text-align: right;\">0</td><td style = \"text-align: right;\">0</td><td style = \"text-align: right;\">0</td><td style = \"text-align: right;\">0</td><td style = \"text-align: right;\">0</td><td style = \"text-align: right;\">0</td><td style = \"text-align: right;\">0</td><td style = \"text-align: right;\">0</td></tr><tr><td class = \"rowNumber\" style = \"font-weight: bold; text-align: right;\">28</td><td style = \"text-align: right;\">0</td><td style = \"text-align: right;\">0</td><td style = \"text-align: right;\">0</td><td style = \"text-align: right;\">0</td><td style = \"text-align: right;\">0</td><td style = \"text-align: right;\">0</td><td style = \"text-align: right;\">0</td><td style = \"text-align: right;\">0</td><td style = \"text-align: right;\">0</td><td style = \"text-align: right;\">0</td><td style = \"text-align: right;\">0</td><td style = \"text-align: right;\">0</td><td style = \"text-align: right;\">1</td></tr><tr><td class = \"rowNumber\" style = \"font-weight: bold; text-align: right;\">29</td><td style = \"text-align: right;\">1</td><td style = \"text-align: right;\">0</td><td style = \"text-align: right;\">0</td><td style = \"text-align: right;\">0</td><td style = \"text-align: right;\">0</td><td style = \"text-align: right;\">0</td><td style = \"text-align: right;\">0</td><td style = \"text-align: right;\">0</td><td style = \"text-align: right;\">0</td><td style = \"text-align: right;\">0</td><td style = \"text-align: right;\">0</td><td style = \"text-align: right;\">0</td><td style = \"text-align: right;\">0</td></tr><tr><td class = \"rowNumber\" style = \"font-weight: bold; text-align: right;\">30</td><td style = \"text-align: right;\">0</td><td style = \"text-align: right;\">1</td><td style = \"text-align: right;\">1</td><td style = \"text-align: right;\">1</td><td style = \"text-align: right;\">0</td><td style = \"text-align: right;\">1</td><td style = \"text-align: right;\">1</td><td style = \"text-align: right;\">0</td><td style = \"text-align: right;\">0</td><td style = \"text-align: right;\">0</td><td style = \"text-align: right;\">0</td><td style = \"text-align: right;\">0</td><td style = \"text-align: right;\">0</td></tr><tr><td class = \"rowNumber\" style = \"font-weight: bold; text-align: right;\">31</td><td style = \"text-align: right;\">0</td><td style = \"text-align: right;\">0</td><td style = \"text-align: right;\">0</td><td style = \"text-align: right;\">0</td><td style = \"text-align: right;\">1</td><td style = \"text-align: right;\">0</td><td style = \"text-align: right;\">0</td><td style = \"text-align: right;\">0</td><td style = \"text-align: right;\">0</td><td style = \"text-align: right;\">0</td><td style = \"text-align: right;\">0</td><td style = \"text-align: right;\">0</td><td style = \"text-align: right;\">0</td></tr><tr><td class = \"rowNumber\" style = \"font-weight: bold; text-align: right;\">32</td><td style = \"text-align: right;\">0</td><td style = \"text-align: right;\">0</td><td style = \"text-align: right;\">0</td><td style = \"text-align: right;\">1</td><td style = \"text-align: right;\">0</td><td style = \"text-align: right;\">0</td><td style = \"text-align: right;\">0</td><td style = \"text-align: right;\">0</td><td style = \"text-align: right;\">0</td><td style = \"text-align: right;\">0</td><td style = \"text-align: right;\">0</td><td style = \"text-align: right;\">0</td><td style = \"text-align: right;\">0</td></tr><tr><td class = \"rowNumber\" style = \"font-weight: bold; text-align: right;\">33</td><td style = \"text-align: right;\">0</td><td style = \"text-align: right;\">0</td><td style = \"text-align: right;\">0</td><td style = \"text-align: right;\">1</td><td style = \"text-align: right;\">1</td><td style = \"text-align: right;\">0</td><td style = \"text-align: right;\">0</td><td style = \"text-align: right;\">0</td><td style = \"text-align: right;\">0</td><td style = \"text-align: right;\">0</td><td style = \"text-align: right;\">0</td><td style = \"text-align: right;\">0</td><td style = \"text-align: right;\">0</td></tr><tr><td class = \"rowNumber\" style = \"font-weight: bold; text-align: right;\">34</td><td style = \"text-align: right;\">0</td><td style = \"text-align: right;\">1</td><td style = \"text-align: right;\">1</td><td style = \"text-align: right;\">0</td><td style = \"text-align: right;\">0</td><td style = \"text-align: right;\">1</td><td style = \"text-align: right;\">1</td><td style = \"text-align: right;\">1</td><td style = \"text-align: right;\">1</td><td style = \"text-align: right;\">0</td><td style = \"text-align: right;\">0</td><td style = \"text-align: right;\">0</td><td style = \"text-align: right;\">1</td></tr><tr><td class = \"rowNumber\" style = \"font-weight: bold; text-align: right;\">35</td><td style = \"text-align: right;\">0</td><td style = \"text-align: right;\">0</td><td style = \"text-align: right;\">0</td><td style = \"text-align: right;\">1</td><td style = \"text-align: right;\">0</td><td style = \"text-align: right;\">0</td><td style = \"text-align: right;\">0</td><td style = \"text-align: right;\">0</td><td style = \"text-align: right;\">0</td><td style = \"text-align: right;\">0</td><td style = \"text-align: right;\">0</td><td style = \"text-align: right;\">0</td><td style = \"text-align: right;\">0</td></tr><tr><td class = \"rowNumber\" style = \"font-weight: bold; text-align: right;\">36</td><td style = \"text-align: right;\">1</td><td style = \"text-align: right;\">0</td><td style = \"text-align: right;\">0</td><td style = \"text-align: right;\">0</td><td style = \"text-align: right;\">0</td><td style = \"text-align: right;\">0</td><td style = \"text-align: right;\">0</td><td style = \"text-align: right;\">0</td><td style = \"text-align: right;\">0</td><td style = \"text-align: right;\">0</td><td style = \"text-align: right;\">0</td><td style = \"text-align: right;\">0</td><td style = \"text-align: right;\">0</td></tr></tbody></table></div>"
      ],
      "text/latex": [
       "\\begin{tabular}{r|ccccccc}\n",
       "\t& Mining\\_Li & Mining\\_Co & Mining\\_Ni & Mining\\_Graphite & Mining\\_Mn & Processing\\_Li2CO3\\_LiOH & \\\\\n",
       "\t\\hline\n",
       "\t& Int64 & Int64 & Int64 & Int64 & Int64 & Int64 & \\\\\n",
       "\t\\hline\n",
       "\t1 & 1 & 0 & 0 & 0 & 0 & 1 & $\\dots$ \\\\\n",
       "\t2 & 1 & 1 & 1 & 0 & 1 & 0 & $\\dots$ \\\\\n",
       "\t3 & 0 & 0 & 0 & 0 & 0 & 1 & $\\dots$ \\\\\n",
       "\t4 & 1 & 0 & 1 & 1 & 1 & 0 & $\\dots$ \\\\\n",
       "\t5 & 0 & 1 & 1 & 1 & 0 & 1 & $\\dots$ \\\\\n",
       "\t6 & 1 & 0 & 0 & 0 & 0 & 1 & $\\dots$ \\\\\n",
       "\t7 & 1 & 1 & 1 & 1 & 1 & 1 & $\\dots$ \\\\\n",
       "\t8 & 0 & 1 & 0 & 0 & 0 & 0 & $\\dots$ \\\\\n",
       "\t9 & 0 & 0 & 0 & 0 & 1 & 0 & $\\dots$ \\\\\n",
       "\t10 & 0 & 1 & 0 & 0 & 0 & 0 & $\\dots$ \\\\\n",
       "\t11 & 0 & 0 & 0 & 0 & 1 & 0 & $\\dots$ \\\\\n",
       "\t12 & 0 & 0 & 0 & 0 & 0 & 1 & $\\dots$ \\\\\n",
       "\t13 & 0 & 0 & 0 & 0 & 1 & 0 & $\\dots$ \\\\\n",
       "\t14 & 0 & 0 & 0 & 0 & 0 & 0 & $\\dots$ \\\\\n",
       "\t15 & 0 & 0 & 0 & 1 & 1 & 0 & $\\dots$ \\\\\n",
       "\t16 & 0 & 1 & 1 & 0 & 0 & 0 & $\\dots$ \\\\\n",
       "\t17 & 0 & 0 & 0 & 0 & 0 & 0 & $\\dots$ \\\\\n",
       "\t18 & 0 & 0 & 0 & 0 & 0 & 1 & $\\dots$ \\\\\n",
       "\t19 & 0 & 1 & 0 & 1 & 0 & 0 & $\\dots$ \\\\\n",
       "\t20 & 0 & 0 & 0 & 0 & 1 & 0 & $\\dots$ \\\\\n",
       "\t21 & 0 & 1 & 0 & 0 & 0 & 0 & $\\dots$ \\\\\n",
       "\t22 & 0 & 0 & 0 & 1 & 0 & 0 & $\\dots$ \\\\\n",
       "\t23 & 0 & 0 & 0 & 0 & 0 & 0 & $\\dots$ \\\\\n",
       "\t24 & 0 & 0 & 0 & 1 & 0 & 0 & $\\dots$ \\\\\n",
       "\t25 & 0 & 0 & 0 & 1 & 0 & 0 & $\\dots$ \\\\\n",
       "\t26 & 0 & 1 & 0 & 0 & 0 & 0 & $\\dots$ \\\\\n",
       "\t27 & 0 & 1 & 1 & 0 & 0 & 0 & $\\dots$ \\\\\n",
       "\t28 & 0 & 0 & 0 & 0 & 0 & 0 & $\\dots$ \\\\\n",
       "\t29 & 1 & 0 & 0 & 0 & 0 & 0 & $\\dots$ \\\\\n",
       "\t30 & 0 & 1 & 1 & 1 & 0 & 1 & $\\dots$ \\\\\n",
       "\t$\\dots$ & $\\dots$ & $\\dots$ & $\\dots$ & $\\dots$ & $\\dots$ & $\\dots$ &  \\\\\n",
       "\\end{tabular}\n"
      ],
      "text/plain": [
       "\u001b[1m36×13 DataFrame\u001b[0m\n",
       "\u001b[1m Row \u001b[0m│\u001b[1m Mining_Li \u001b[0m\u001b[1m Mining_Co \u001b[0m\u001b[1m Mining_Ni \u001b[0m\u001b[1m Mining_Graphite \u001b[0m\u001b[1m Mining_Mn \u001b[0m\u001b[1m Processing\u001b[0m ⋯\n",
       "     │\u001b[90m Int64     \u001b[0m\u001b[90m Int64     \u001b[0m\u001b[90m Int64     \u001b[0m\u001b[90m Int64           \u001b[0m\u001b[90m Int64     \u001b[0m\u001b[90m Int64     \u001b[0m ⋯\n",
       "─────┼──────────────────────────────────────────────────────────────────────────\n",
       "   1 │         1          0          0                0          0             ⋯\n",
       "   2 │         1          1          1                0          1\n",
       "   3 │         0          0          0                0          0\n",
       "   4 │         1          0          1                1          1\n",
       "   5 │         0          1          1                1          0             ⋯\n",
       "   6 │         1          0          0                0          0\n",
       "   7 │         1          1          1                1          1\n",
       "   8 │         0          1          0                0          0\n",
       "   9 │         0          0          0                0          1             ⋯\n",
       "  10 │         0          1          0                0          0\n",
       "  11 │         0          0          0                0          1\n",
       "  ⋮  │     ⋮          ⋮          ⋮             ⋮             ⋮                 ⋱\n",
       "  27 │         0          1          1                0          0\n",
       "  28 │         0          0          0                0          0             ⋯\n",
       "  29 │         1          0          0                0          0\n",
       "  30 │         0          1          1                1          0\n",
       "  31 │         0          0          0                0          1\n",
       "  32 │         0          0          0                1          0             ⋯\n",
       "  33 │         0          0          0                1          1\n",
       "  34 │         0          1          1                0          0\n",
       "  35 │         0          0          0                1          0\n",
       "  36 │         1          0          0                0          0             ⋯\n",
       "\u001b[36m                                                   8 columns and 15 rows omitted\u001b[0m"
      ]
     },
     "execution_count": 47,
     "metadata": {},
     "output_type": "execute_result"
    }
   ],
   "source": [
    "com"
   ]
  },
  {
   "cell_type": "code",
   "execution_count": 44,
   "id": "208d8e93",
   "metadata": {},
   "outputs": [],
   "source": [
    "@variable(lfp, x[1:n, 1:m], Bin);\n",
    "@variable(lfp, obj >= 0);"
   ]
  },
  {
   "cell_type": "code",
   "execution_count": 50,
   "id": "f4299233",
   "metadata": {},
   "outputs": [
    {
     "name": "stdout",
     "output_type": "stream",
     "text": [
      "Gurobi Optimizer version 9.1.2 build v9.1.2rc0 (win64)\r\n",
      "Thread count: 6 physical cores, 12 logical processors, using up to 12 threads\r\n",
      "Optimize a model with 1887 rows, 938 columns and 4787 nonzeros\r\n",
      "Model fingerprint: 0xde153127\r\n",
      "Variable types: 470 continuous, 468 integer (468 binary)\r\n",
      "Coefficient statistics:\r\n",
      "  Matrix range     [1e+00, 2e+12]\r\n",
      "  Objective range  [2e+10, 1e+13]\r\n",
      "  Bounds range     [2e-15, 2e-15]\r\n",
      "  RHS range        [1e+00, 1e+03]\r\n",
      "Warning: Model contains large matrix coefficient range\r\n",
      "Warning: Model contains large objective coefficients\r\n",
      "         Consider reformulating model or setting NumericFocus parameter\r\n",
      "         to avoid numerical issues.\r\n",
      "Presolve removed 1780 rows and 845 columns\r\n",
      "Presolve time: 0.00s\r\n",
      "\r\n",
      "Explored 0 nodes (0 simplex iterations) in 0.01 seconds\r\n",
      "Thread count was 1 (of 12 available processors)\r\n",
      "\r\n",
      "Solution count 0\r\n",
      "\r\n",
      "Model is infeasible\r\n",
      "Best objective -, best bound -, gap -\r\n",
      "\r\n",
      "User-callback calls 37, time in user-callback 0.00 sec\r\n"
     ]
    }
   ],
   "source": [
    "# @constraint(lfp, job_full[j in 1:m], sum(x[i, j] for i in 1:n) == 1)\n",
    "# @constraint(lfp, country_job[i in 1:n, j in 1:m], x[i, j] <= com[i,j])\n",
    "\n",
    "# numer = @expression(lfp, sum(D'*x))\n",
    "# denom = @expression(lfp, sum(S'*x))\n",
    "\n",
    "# set_objective(lfp, JuMP.MOI.MIN_SENSE, numer, denom)\n",
    "optimize!(lfp)\n",
    "# termination_status(lfp)\n",
    "# objective_value(lfp)"
   ]
  },
  {
   "cell_type": "code",
   "execution_count": 51,
   "id": "be68851e",
   "metadata": {},
   "outputs": [
    {
     "ename": "LoadError",
     "evalue": "Result index of attribute MathOptInterface.VariablePrimal(1) out of bounds. There are currently 0 solution(s) in the model.",
     "output_type": "error",
     "traceback": [
      "Result index of attribute MathOptInterface.VariablePrimal(1) out of bounds. There are currently 0 solution(s) in the model.",
      "",
      "Stacktrace:",
      "  [1] check_result_index_bounds",
      "    @ C:\\Users\\bourg\\.julia\\packages\\MathOptInterface\\YDdD3\\src\\attributes.jl:139 [inlined]",
      "  [2] get(model::Gurobi.Optimizer, attr::MathOptInterface.VariablePrimal, x::MathOptInterface.VariableIndex)",
      "    @ Gurobi C:\\Users\\bourg\\.julia\\packages\\Gurobi\\Dn7m0\\src\\MOI_wrapper.jl:2599",
      "  [3] get(b::MathOptInterface.Bridges.LazyBridgeOptimizer{Gurobi.Optimizer}, attr::MathOptInterface.VariablePrimal, index::MathOptInterface.VariableIndex)",
      "    @ MathOptInterface.Bridges C:\\Users\\bourg\\.julia\\packages\\MathOptInterface\\YDdD3\\src\\Bridges\\bridge_optimizer.jl:1039",
      "  [4] get(model::MathOptInterface.Utilities.CachingOptimizer{MathOptInterface.AbstractOptimizer, MathOptInterface.Utilities.UniversalFallback{MathOptInterface.Utilities.GenericModel{Float64, MathOptInterface.Utilities.ModelFunctionConstraints{Float64}}}}, attr::MathOptInterface.VariablePrimal, index::MathOptInterface.VariableIndex)",
      "    @ MathOptInterface.Utilities C:\\Users\\bourg\\.julia\\packages\\MathOptInterface\\YDdD3\\src\\Utilities\\cachingoptimizer.jl:757",
      "  [5] _moi_get_result(::MathOptInterface.Utilities.CachingOptimizer{MathOptInterface.AbstractOptimizer, MathOptInterface.Utilities.UniversalFallback{MathOptInterface.Utilities.GenericModel{Float64, MathOptInterface.Utilities.ModelFunctionConstraints{Float64}}}}, ::MathOptInterface.VariablePrimal, ::Vararg{Any})",
      "    @ JuMP C:\\Users\\bourg\\.julia\\packages\\JuMP\\klrjG\\src\\JuMP.jl:1199",
      "  [6] get(model::Model, attr::MathOptInterface.VariablePrimal, v::VariableRef)",
      "    @ JuMP C:\\Users\\bourg\\.julia\\packages\\JuMP\\klrjG\\src\\JuMP.jl:1232",
      "  [7] value(v::VariableRef; result::Int64)",
      "    @ JuMP C:\\Users\\bourg\\.julia\\packages\\JuMP\\klrjG\\src\\variables.jl:943",
      "  [8] #value#13",
      "    @ C:\\Users\\bourg\\.julia\\packages\\LinearFractional\\1hPOC\\src\\LinearFractional.jl:358 [inlined]",
      "  [9] value",
      "    @ C:\\Users\\bourg\\.julia\\packages\\LinearFractional\\1hPOC\\src\\LinearFractional.jl:357 [inlined]",
      " [10] _broadcast_getindex_evalf",
      "    @ .\\broadcast.jl:670 [inlined]",
      " [11] _broadcast_getindex",
      "    @ .\\broadcast.jl:643 [inlined]",
      " [12] getindex",
      "    @ .\\broadcast.jl:597 [inlined]",
      " [13] macro expansion",
      "    @ .\\broadcast.jl:961 [inlined]",
      " [14] macro expansion",
      "    @ .\\simdloop.jl:77 [inlined]",
      " [15] copyto!",
      "    @ .\\broadcast.jl:960 [inlined]",
      " [16] copyto!",
      "    @ .\\broadcast.jl:913 [inlined]",
      " [17] copy",
      "    @ .\\broadcast.jl:885 [inlined]",
      " [18] materialize(bc::Base.Broadcast.Broadcasted{Base.Broadcast.DefaultArrayStyle{2}, Nothing, typeof(value), Tuple{Matrix{LinearFractional.LinearFractionalVariableRef}}})",
      "    @ Base.Broadcast .\\broadcast.jl:860",
      " [19] top-level scope",
      "    @ In[51]:1",
      " [20] eval",
      "    @ .\\boot.jl:368 [inlined]",
      " [21] include_string(mapexpr::typeof(REPL.softscope), mod::Module, code::String, filename::String)",
      "    @ Base .\\loading.jl:1428"
     ]
    }
   ],
   "source": [
    "JuMP.value.(x)"
   ]
  },
  {
   "cell_type": "markdown",
   "id": "2241198c",
   "metadata": {},
   "source": [
    "### Just"
   ]
  },
  {
   "cell_type": "code",
   "execution_count": null,
   "id": "ea377536",
   "metadata": {},
   "outputs": [],
   "source": [
    "just= Model(Gurobi.Optimizer)\n",
    "set_optimizer_attribute(just, \"NonConvex\", 2)\n",
    "\n",
    "#variables \n",
    "@variable(just, 0 <= x[1:n, 1:m] <= 1);\n",
    "@variable(just,obj >=0);\n",
    "\n",
    "#Constraints \n",
    "@constraint(just, job_full[j in 1:m], sum(x[i, j] for i in 1:n) == 1);\n",
    "@constraint(just, country_job[i in 1:n, j in 1:m], x[i, j] <= com[i,j]);\n",
    "@constraint(just, obj*(sum(D'*x)) == (sum(Dsoc'*x)))\n",
    "\n",
    "# Objective\n",
    "@objective(just, Min, obj);"
   ]
  }
 ],
 "metadata": {
  "kernelspec": {
   "display_name": "Julia 1.8.3",
   "language": "julia",
   "name": "julia-1.8"
  },
  "language_info": {
   "file_extension": ".jl",
   "mimetype": "application/julia",
   "name": "julia",
   "version": "1.8.3"
  }
 },
 "nbformat": 4,
 "nbformat_minor": 5
}
