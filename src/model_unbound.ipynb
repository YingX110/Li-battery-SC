{
 "cells": [
  {
   "cell_type": "code",
   "execution_count": 5,
   "id": "323db6c7",
   "metadata": {},
   "outputs": [],
   "source": [
    "using JuMP, Gurobi\n",
    "using CSV, LinearAlgebra, DataFrames\n",
    "using Plots"
   ]
  },
  {
   "cell_type": "code",
   "execution_count": 6,
   "id": "a0036f56",
   "metadata": {},
   "outputs": [],
   "source": [
    "ls = Vector{Any}(undef, 13) # there are 13 columns\n",
    "ls[1] = String31 \n",
    "for i in 2:13\n",
    "    ls[i] = Float64\n",
    "end"
   ]
  },
  {
   "cell_type": "code",
   "execution_count": 7,
   "id": "659e5df3",
   "metadata": {},
   "outputs": [],
   "source": [
    "#load the data and orgnize \n",
    "cap_cstr = CSV.read(\"/home/xue.326/julia_env/LiBattery_Env/data/capacity_constraints.csv\", \n",
    "                    DataFrame, \n",
    "                    header=1,\n",
    "                    types=ls) |> DataFrame\n",
    "\n",
    "distance = CSV.File(\"/home/xue.326/julia_env/LiBattery_Env/data/distance.csv\",header=1) |> DataFrame\n",
    "\n",
    "LCA_model = CSV.File(\"/home/xue.326/julia_env/LiBattery_Env/data/LCA_model314.csv\",header=1) |> DataFrame\n",
    "\n",
    "SD = CSV.File(\"/home/xue.326/julia_env/LiBattery_Env/data/emission_sink.csv\",header=1) |> DataFrame; \n",
    "\n",
    "# first(cap_cstr, 5)\n",
    "# first(distance, 5)\n",
    "# ncol(distance)"
   ]
  },
  {
   "cell_type": "code",
   "execution_count": 8,
   "id": "d9b741ff",
   "metadata": {},
   "outputs": [
    {
     "data": {
      "text/html": [
       "<div><div style = \"float: left;\"><span>5×13 DataFrame</span></div><div style = \"clear: both;\"></div></div><div class = \"data-frame\" style = \"overflow-x: scroll;\"><table class = \"data-frame\" style = \"margin-bottom: 6px;\"><thead><tr class = \"header\"><th class = \"rowNumber\" style = \"font-weight: bold; text-align: right;\">Row</th><th style = \"text-align: left;\">Country</th><th style = \"text-align: left;\">Li</th><th style = \"text-align: left;\">Co</th><th style = \"text-align: left;\">Mn</th><th style = \"text-align: left;\">Ni</th><th style = \"text-align: left;\">NMC111 powder</th><th style = \"text-align: left;\">Graphite</th><th style = \"text-align: left;\">PP</th><th style = \"text-align: left;\">PE</th><th style = \"text-align: left;\">Cu</th><th style = \"text-align: left;\">Al</th><th style = \"text-align: left;\">electricity</th><th style = \"text-align: left;\">heat</th></tr><tr class = \"subheader headerLastRow\"><th class = \"rowNumber\" style = \"font-weight: bold; text-align: right;\"></th><th title = \"String31\" style = \"text-align: left;\">String31</th><th title = \"Float64\" style = \"text-align: left;\">Float64</th><th title = \"Float64\" style = \"text-align: left;\">Float64</th><th title = \"Float64\" style = \"text-align: left;\">Float64</th><th title = \"Float64\" style = \"text-align: left;\">Float64</th><th title = \"Float64\" style = \"text-align: left;\">Float64</th><th title = \"Float64\" style = \"text-align: left;\">Float64</th><th title = \"Float64\" style = \"text-align: left;\">Float64</th><th title = \"Float64\" style = \"text-align: left;\">Float64</th><th title = \"Float64\" style = \"text-align: left;\">Float64</th><th title = \"Float64\" style = \"text-align: left;\">Float64</th><th title = \"Float64\" style = \"text-align: left;\">Float64</th><th title = \"Float64\" style = \"text-align: left;\">Float64</th></tr></thead><tbody><tr><td class = \"rowNumber\" style = \"font-weight: bold; text-align: right;\">1</td><td style = \"text-align: left;\">Argentina</td><td style = \"text-align: right;\">10800.0</td><td style = \"text-align: right;\">0.0</td><td style = \"text-align: right;\">0.0</td><td style = \"text-align: right;\">0.0</td><td style = \"text-align: right;\">0.0</td><td style = \"text-align: right;\">0.0</td><td style = \"text-align: right;\">300000.0</td><td style = \"text-align: right;\">0.0</td><td style = \"text-align: right;\">0.0</td><td style = \"text-align: right;\">0.0</td><td style = \"text-align: right;\">0.0</td><td style = \"text-align: right;\">0.0</td></tr><tr><td class = \"rowNumber\" style = \"font-weight: bold; text-align: right;\">2</td><td style = \"text-align: left;\">Australia</td><td style = \"text-align: right;\">37000.0</td><td style = \"text-align: right;\">7400.0</td><td style = \"text-align: right;\">3.0e6</td><td style = \"text-align: right;\">189000.0</td><td style = \"text-align: right;\">0.0</td><td style = \"text-align: right;\">500.0</td><td style = \"text-align: right;\">500000.0</td><td style = \"text-align: right;\">600000.0</td><td style = \"text-align: right;\">920000.0</td><td style = \"text-align: right;\">1.6e6</td><td style = \"text-align: right;\">0.0</td><td style = \"text-align: right;\">0.0</td></tr><tr><td class = \"rowNumber\" style = \"font-weight: bold; text-align: right;\">3</td><td style = \"text-align: left;\">Bahrain</td><td style = \"text-align: right;\">0.0</td><td style = \"text-align: right;\">0.0</td><td style = \"text-align: right;\">0.0</td><td style = \"text-align: right;\">0.0</td><td style = \"text-align: right;\">0.0</td><td style = \"text-align: right;\">0.0</td><td style = \"text-align: right;\">0.0</td><td style = \"text-align: right;\">0.0</td><td style = \"text-align: right;\">0.0</td><td style = \"text-align: right;\">1.2e6</td><td style = \"text-align: right;\">0.0</td><td style = \"text-align: right;\">0.0</td></tr><tr><td class = \"rowNumber\" style = \"font-weight: bold; text-align: right;\">4</td><td style = \"text-align: left;\">Bolivia</td><td style = \"text-align: right;\">0.0</td><td style = \"text-align: right;\">0.0</td><td style = \"text-align: right;\">0.0</td><td style = \"text-align: right;\">0.0</td><td style = \"text-align: right;\">0.0</td><td style = \"text-align: right;\">0.0</td><td style = \"text-align: right;\">0.0</td><td style = \"text-align: right;\">0.0</td><td style = \"text-align: right;\">0.0</td><td style = \"text-align: right;\">0.0</td><td style = \"text-align: right;\">0.0</td><td style = \"text-align: right;\">0.0</td></tr><tr><td class = \"rowNumber\" style = \"font-weight: bold; text-align: right;\">5</td><td style = \"text-align: left;\">Brazil</td><td style = \"text-align: right;\">1800.0</td><td style = \"text-align: right;\">0.0</td><td style = \"text-align: right;\">1.2e6</td><td style = \"text-align: right;\">135000.0</td><td style = \"text-align: right;\">0.0</td><td style = \"text-align: right;\">87000.0</td><td style = \"text-align: right;\">1.9e6</td><td style = \"text-align: right;\">3.6e6</td><td style = \"text-align: right;\">400000.0</td><td style = \"text-align: right;\">590000.0</td><td style = \"text-align: right;\">0.0</td><td style = \"text-align: right;\">0.0</td></tr></tbody></table></div>"
      ],
      "text/latex": [
       "\\begin{tabular}{r|ccccccccc}\n",
       "\t& Country & Li & Co & Mn & Ni & NMC111 powder & Graphite & PP & \\\\\n",
       "\t\\hline\n",
       "\t& String31 & Float64 & Float64 & Float64 & Float64 & Float64 & Float64 & Float64 & \\\\\n",
       "\t\\hline\n",
       "\t1 & Argentina & 10800.0 & 0.0 & 0.0 & 0.0 & 0.0 & 0.0 & 300000.0 & $\\dots$ \\\\\n",
       "\t2 & Australia & 37000.0 & 7400.0 & 3.0e6 & 189000.0 & 0.0 & 500.0 & 500000.0 & $\\dots$ \\\\\n",
       "\t3 & Bahrain & 0.0 & 0.0 & 0.0 & 0.0 & 0.0 & 0.0 & 0.0 & $\\dots$ \\\\\n",
       "\t4 & Bolivia & 0.0 & 0.0 & 0.0 & 0.0 & 0.0 & 0.0 & 0.0 & $\\dots$ \\\\\n",
       "\t5 & Brazil & 1800.0 & 0.0 & 1.2e6 & 135000.0 & 0.0 & 87000.0 & 1.9e6 & $\\dots$ \\\\\n",
       "\\end{tabular}\n"
      ],
      "text/plain": [
       "\u001b[1m5×13 DataFrame\u001b[0m\n",
       "\u001b[1m Row \u001b[0m│\u001b[1m Country   \u001b[0m\u001b[1m Li      \u001b[0m\u001b[1m Co      \u001b[0m\u001b[1m Mn      \u001b[0m\u001b[1m Ni       \u001b[0m\u001b[1m NMC111 powder \u001b[0m\u001b[1m Graphite\u001b[0m ⋯\n",
       "     │\u001b[90m String31  \u001b[0m\u001b[90m Float64 \u001b[0m\u001b[90m Float64 \u001b[0m\u001b[90m Float64 \u001b[0m\u001b[90m Float64  \u001b[0m\u001b[90m Float64       \u001b[0m\u001b[90m Float64 \u001b[0m ⋯\n",
       "─────┼──────────────────────────────────────────────────────────────────────────\n",
       "   1 │ Argentina  10800.0      0.0    0.0         0.0            0.0       0.0 ⋯\n",
       "   2 │ Australia  37000.0   7400.0    3.0e6  189000.0            0.0     500.0\n",
       "   3 │ Bahrain        0.0      0.0    0.0         0.0            0.0       0.0\n",
       "   4 │ Bolivia        0.0      0.0    0.0         0.0            0.0       0.0\n",
       "   5 │ Brazil      1800.0      0.0    1.2e6  135000.0            0.0   87000.0 ⋯\n",
       "\u001b[36m                                                               6 columns omitted\u001b[0m"
      ]
     },
     "execution_count": 8,
     "metadata": {},
     "output_type": "execute_result"
    }
   ],
   "source": [
    "first(cap_cstr, 5)"
   ]
  },
  {
   "cell_type": "code",
   "execution_count": 9,
   "id": "9c3ac379",
   "metadata": {},
   "outputs": [
    {
     "data": {
      "text/html": [
       "<div><div style = \"float: left;\"><span>11×5 DataFrame</span></div><div style = \"clear: both;\"></div></div><div class = \"data-frame\" style = \"overflow-x: scroll;\"><table class = \"data-frame\" style = \"margin-bottom: 6px;\"><thead><tr class = \"header\"><th class = \"rowNumber\" style = \"font-weight: bold; text-align: right;\">Row</th><th style = \"text-align: left;\">process</th><th style = \"text-align: left;\">input (material/kg battery)</th><th style = \"text-align: left;\">input (material/kWh battery)</th><th style = \"text-align: left;\">EF (kg CO2/material)</th><th style = \"text-align: left;\">input (material/kg NMC111 powder)</th></tr><tr class = \"subheader headerLastRow\"><th class = \"rowNumber\" style = \"font-weight: bold; text-align: right;\"></th><th title = \"String15\" style = \"text-align: left;\">String15</th><th title = \"Float64\" style = \"text-align: left;\">Float64</th><th title = \"Float64\" style = \"text-align: left;\">Float64</th><th title = \"Float64\" style = \"text-align: left;\">Float64</th><th title = \"Float64\" style = \"text-align: left;\">Float64</th></tr></thead><tbody><tr><td class = \"rowNumber\" style = \"font-weight: bold; text-align: right;\">1</td><td style = \"text-align: left;\">Li</td><td style = \"text-align: right;\">0.00905</td><td style = \"text-align: right;\">0.0635</td><td style = \"text-align: right;\">0.0155</td><td style = \"text-align: right;\">0.072</td></tr><tr><td class = \"rowNumber\" style = \"font-weight: bold; text-align: right;\">2</td><td style = \"text-align: left;\">Co</td><td style = \"text-align: right;\">0.051</td><td style = \"text-align: right;\">0.358</td><td style = \"text-align: right;\">0.492</td><td style = \"text-align: right;\">0.203</td></tr><tr><td class = \"rowNumber\" style = \"font-weight: bold; text-align: right;\">3</td><td style = \"text-align: left;\">Mn</td><td style = \"text-align: right;\">0.0479</td><td style = \"text-align: right;\">0.336</td><td style = \"text-align: right;\">5.6</td><td style = \"text-align: right;\">0.19</td></tr><tr><td class = \"rowNumber\" style = \"font-weight: bold; text-align: right;\">4</td><td style = \"text-align: left;\">Ni</td><td style = \"text-align: right;\">0.051</td><td style = \"text-align: right;\">0.358</td><td style = \"text-align: right;\">1.07</td><td style = \"text-align: right;\">0.203</td></tr><tr><td class = \"rowNumber\" style = \"font-weight: bold; text-align: right;\">5</td><td style = \"text-align: left;\">NMC111 powder</td><td style = \"text-align: right;\">0.252</td><td style = \"text-align: right;\">1.77</td><td style = \"text-align: right;\">14.7</td><td style = \"text-align: right;\">0.0</td></tr><tr><td class = \"rowNumber\" style = \"font-weight: bold; text-align: right;\">6</td><td style = \"text-align: left;\">Graphite</td><td style = \"text-align: right;\">0.141</td><td style = \"text-align: right;\">0.986</td><td style = \"text-align: right;\">4.86</td><td style = \"text-align: right;\">0.0</td></tr><tr><td class = \"rowNumber\" style = \"font-weight: bold; text-align: right;\">7</td><td style = \"text-align: left;\">PP</td><td style = \"text-align: right;\">0.011</td><td style = \"text-align: right;\">0.0774</td><td style = \"text-align: right;\">2.53</td><td style = \"text-align: right;\">0.0</td></tr><tr><td class = \"rowNumber\" style = \"font-weight: bold; text-align: right;\">8</td><td style = \"text-align: left;\">PE</td><td style = \"text-align: right;\">0.00364</td><td style = \"text-align: right;\">0.0255</td><td style = \"text-align: right;\">2.93</td><td style = \"text-align: right;\">0.0</td></tr><tr><td class = \"rowNumber\" style = \"font-weight: bold; text-align: right;\">9</td><td style = \"text-align: left;\">Cu</td><td style = \"text-align: right;\">0.117</td><td style = \"text-align: right;\">0.824</td><td style = \"text-align: right;\">3.08</td><td style = \"text-align: right;\">0.0</td></tr><tr><td class = \"rowNumber\" style = \"font-weight: bold; text-align: right;\">10</td><td style = \"text-align: left;\">Al</td><td style = \"text-align: right;\">0.239</td><td style = \"text-align: right;\">1.67</td><td style = \"text-align: right;\">7.41</td><td style = \"text-align: right;\">0.0</td></tr><tr><td class = \"rowNumber\" style = \"font-weight: bold; text-align: right;\">11</td><td style = \"text-align: left;\">NMC111 battery</td><td style = \"text-align: right;\">0.1183</td><td style = \"text-align: right;\">0.831</td><td style = \"text-align: right;\">0.1183</td><td style = \"text-align: right;\">0.0</td></tr></tbody></table></div>"
      ],
      "text/latex": [
       "\\begin{tabular}{r|ccccc}\n",
       "\t& process & input (material/kg battery) & input (material/kWh battery) & EF (kg CO2/material) & \\\\\n",
       "\t\\hline\n",
       "\t& String15 & Float64 & Float64 & Float64 & \\\\\n",
       "\t\\hline\n",
       "\t1 & Li & 0.00905 & 0.0635 & 0.0155 & $\\dots$ \\\\\n",
       "\t2 & Co & 0.051 & 0.358 & 0.492 & $\\dots$ \\\\\n",
       "\t3 & Mn & 0.0479 & 0.336 & 5.6 & $\\dots$ \\\\\n",
       "\t4 & Ni & 0.051 & 0.358 & 1.07 & $\\dots$ \\\\\n",
       "\t5 & NMC111 powder & 0.252 & 1.77 & 14.7 & $\\dots$ \\\\\n",
       "\t6 & Graphite & 0.141 & 0.986 & 4.86 & $\\dots$ \\\\\n",
       "\t7 & PP & 0.011 & 0.0774 & 2.53 & $\\dots$ \\\\\n",
       "\t8 & PE & 0.00364 & 0.0255 & 2.93 & $\\dots$ \\\\\n",
       "\t9 & Cu & 0.117 & 0.824 & 3.08 & $\\dots$ \\\\\n",
       "\t10 & Al & 0.239 & 1.67 & 7.41 & $\\dots$ \\\\\n",
       "\t11 & NMC111 battery & 0.1183 & 0.831 & 0.1183 & $\\dots$ \\\\\n",
       "\\end{tabular}\n"
      ],
      "text/plain": [
       "\u001b[1m11×5 DataFrame\u001b[0m\n",
       "\u001b[1m Row \u001b[0m│\u001b[1m process        \u001b[0m\u001b[1m input (material/kg battery) \u001b[0m\u001b[1m input (material/kWh batter\u001b[0m ⋯\n",
       "     │\u001b[90m String15       \u001b[0m\u001b[90m Float64                     \u001b[0m\u001b[90m Float64                   \u001b[0m ⋯\n",
       "─────┼──────────────────────────────────────────────────────────────────────────\n",
       "   1 │ Li                                  0.00905                        0.06 ⋯\n",
       "   2 │ Co                                  0.051                          0.35\n",
       "   3 │ Mn                                  0.0479                         0.33\n",
       "   4 │ Ni                                  0.051                          0.35\n",
       "   5 │ NMC111 powder                       0.252                          1.77 ⋯\n",
       "   6 │ Graphite                            0.141                          0.98\n",
       "   7 │ PP                                  0.011                          0.07\n",
       "   8 │ PE                                  0.00364                        0.02\n",
       "   9 │ Cu                                  0.117                          0.82 ⋯\n",
       "  10 │ Al                                  0.239                          1.67\n",
       "  11 │ NMC111 battery                      0.1183                         0.83\n",
       "\u001b[36m                                                               3 columns omitted\u001b[0m"
      ]
     },
     "execution_count": 9,
     "metadata": {},
     "output_type": "execute_result"
    }
   ],
   "source": [
    "LCA_model"
   ]
  },
  {
   "cell_type": "code",
   "execution_count": 10,
   "id": "eff42f8f",
   "metadata": {},
   "outputs": [],
   "source": [
    "w_cell = 164.98                             # kg/pack\n",
    "cap_cell = 23.5                             # kWh/pack\n",
    "cell_demand = 6000000                       # annual demand of Li-ion battery for tesla (2M EV/yr, 3 NMC111 pack/EV)\n",
    "gobal_sink = 1.53e9                         # global CO2 sequestration\n",
    "global_emission = 4.75e10                   # global CO2 emission\n",
    "EF_aircraft = 0.433                         # kg CO2/km*ton emission factor for freight transporation \n",
    "EF_input = LCA_model[!,\"EF (kg CO2/material)\"]\n",
    "process = LCA_model[!,\"process\"]\n",
    "countries = cap_cstr[!,\"Country\"]\n",
    "n = size(countries,1)                       # No. of countries\n",
    "m = size(process,1);                        # No. of processes "
   ]
  },
  {
   "cell_type": "code",
   "execution_count": 11,
   "id": "9abc9283",
   "metadata": {},
   "outputs": [],
   "source": [
    "# seperate model\n",
    "ups_powder = [1, 2, 3, 4]      # upstream processes for NMC111 powder\n",
    "ups_cell = [i for i in 5:10];  # upstream processes for Li-ion battery manufacturing\n",
    "\n",
    "scaler_powder = LCA_model[1:4,\"input (material/kg NMC111 powder)\"]     # mineral inputs for 1 kg NMC111 powder\n",
    "scaler_cell = LCA_model[!, \"input (material/kg battery)\"];             # inputs for 1 kg NMC111 cell"
   ]
  },
  {
   "cell_type": "code",
   "execution_count": 12,
   "id": "28fc98b4",
   "metadata": {},
   "outputs": [
    {
     "data": {
      "text/plain": [
       "11-element Vector{Float64}:\n",
       " 8.958414e6\n",
       " 5.048387999999999e7\n",
       " 4.741525199999999e7\n",
       " 5.048387999999999e7\n",
       " 2.4944975999999997e8\n",
       " 1.3957307999999997e8\n",
       " 1.0888679999999998e7\n",
       " 3.6031631999999997e6\n",
       " 1.1581596e8\n",
       " 2.3658131999999997e8\n",
       " 1.1710280399999999e8"
      ]
     },
     "execution_count": 12,
     "metadata": {},
     "output_type": "execute_result"
    }
   ],
   "source": [
    "FU_mass = cell_demand * w_cell      # input amount per FU\n",
    "input_FU = DataFrame(process = LCA_model[!,\"process\"], inputs = FU_mass .* LCA_model[!,\"input (material/kg battery)\"]);\n",
    "input_FU = input_FU[!, \"inputs\"]\n",
    "# first(input_FU, 5)"
   ]
  },
  {
   "cell_type": "markdown",
   "id": "5e04293b",
   "metadata": {},
   "source": [
    "----"
   ]
  },
  {
   "cell_type": "code",
   "execution_count": 27,
   "id": "04900f2b",
   "metadata": {},
   "outputs": [
    {
     "name": "stdout",
     "output_type": "stream",
     "text": [
      "Academic license - for non-commercial use only - expires 2023-11-24\n"
     ]
    }
   ],
   "source": [
    "model = Model(Gurobi.Optimizer);"
   ]
  },
  {
   "cell_type": "code",
   "execution_count": 33,
   "id": "354399ae",
   "metadata": {},
   "outputs": [],
   "source": [
    "#variables \n",
    "@variable(model, x[1:n, 1:m] >= 0)         # x[i,k] production amount of product k at location i\n",
    "@variable(model, y[1:n, 1:n, 1:m] >= 0);   # y[i,j,k] ship product k from i to j \n",
    "\n",
    "\n",
    "# node output flow constraint\n",
    "for k in 1:m\n",
    "    for i in 1:n\n",
    "        @constraint(model, sum(y[i,j,k] for j in 1:n) <= x[i,k])\n",
    "    end\n",
    "end\n",
    "\n",
    "\n",
    "# NMC111 powder input flow constraint\n",
    "for k in ups_powder\n",
    "    for j in 1:n\n",
    "        @constraint(model, sum(y[i,j,k] for i in 1:n) >= x[j,5] * scaler_powder[k])\n",
    "    end\n",
    "end\n",
    "\n",
    "\n",
    "# Li-ion battery input flow constraint\n",
    "for k in ups_cell\n",
    "    for j in 1:n\n",
    "        @constraint(model, sum(y[i,j,k] for i in 1:n) >= x[j,11] * scaler_cell[k])\n",
    "    end\n",
    "end\n",
    "\n",
    "\n",
    "# production capacity constraints\n",
    "for i in 1:n\n",
    "    for k in 1:m\n",
    "        @constraint(model, x[i,k] <= cap_cstr[!, 2:end][i,k])\n",
    "    end\n",
    "end\n",
    "\n",
    "\n",
    "# final demand constraints\n",
    "for k in 1:m\n",
    "    @constraint(model, sum(x[i,k] for i in 1:n) >= input_FU[k])\n",
    "end"
   ]
  },
  {
   "cell_type": "code",
   "execution_count": 34,
   "id": "eb53474c",
   "metadata": {},
   "outputs": [],
   "source": [
    "proc_emi = []\n",
    "\n",
    "for k in 1:m\n",
    "    emi = sum(x[i, k] for i in 1:n)\n",
    "    push!(proc_emi, emi)\n",
    "end\n",
    "\n",
    "tot_pemi = EF_input' * proc_emi;"
   ]
  },
  {
   "cell_type": "code",
   "execution_count": 35,
   "id": "3bb8be98",
   "metadata": {},
   "outputs": [],
   "source": [
    "trans_emi = 0\n",
    "\n",
    "for k in 1:m\n",
    "    for i in 1:n\n",
    "        for j in 1:n\n",
    "            trans_emi += y[i,j,k] * distance[!, 2:end][i,j] * EF_aircraft\n",
    "        end\n",
    "    end\n",
    "end\n",
    "\n",
    "cell_output = sum(x[i,11] for i in 1:n)\n",
    "tot_temi = trans_emi + sum(cell_output * distance[!, 2:end][i,38] for i in 1:n);"
   ]
  },
  {
   "cell_type": "code",
   "execution_count": 36,
   "id": "8c9ab186",
   "metadata": {},
   "outputs": [],
   "source": [
    "# supply - based on emission\n",
    "tot_sink = 0\n",
    "for k in 1:m\n",
    "    for i in 1:n\n",
    "        emi = x[i,k] * EF_input[k]\n",
    "        S_country = SD[!, \"sink ton/yr\"][i] * emi / SD[!, \"emission\"][i]\n",
    "        S_global = gobal_sink * emi / global_emission\n",
    "        S = S_country + S_global\n",
    "        tot_sink += S\n",
    "    end\n",
    "end"
   ]
  },
  {
   "cell_type": "code",
   "execution_count": 37,
   "id": "e83fbe5a",
   "metadata": {},
   "outputs": [],
   "source": [
    "@objective(model, Max, tot_sink - tot_temi);"
   ]
  },
  {
   "cell_type": "code",
   "execution_count": 38,
   "id": "9214e206",
   "metadata": {},
   "outputs": [
    {
     "name": "stdout",
     "output_type": "stream",
     "text": [
      "Gurobi Optimizer version 9.1.2 build v9.1.2rc0 (linux64)\n",
      "Thread count: 8 physical cores, 16 logical processors, using up to 16 threads\n",
      "Optimize a model with 1291 rows, 18040 columns and 35320 nonzeros\n",
      "Model fingerprint: 0xc300a0fd\n",
      "Coefficient statistics:\n",
      "  Matrix range     [4e-03, 1e+00]\n",
      "  Objective range  [5e-04, 4e+05]\n",
      "  Bounds range     [0e+00, 0e+00]\n",
      "  RHS range        [2e+02, 1e+15]\n",
      "Warning: Model contains large rhs\n",
      "         Consider reformulating model or setting NumericFocus parameter\n",
      "         to avoid numerical issues.\n",
      "\n",
      "Concurrent LP optimizer: primal simplex, dual simplex, and barrier\n",
      "Showing barrier log only...\n",
      "\n",
      "Presolve time: 0.01s\n",
      "\n",
      "Solved with dual simplex\n",
      "Solved in 0 iterations and 0.01 seconds\n",
      "Infeasible or unbounded model\n",
      "\n",
      "User-callback calls 43, time in user-callback 0.00 sec\n"
     ]
    }
   ],
   "source": [
    "JuMP.optimize!(model)"
   ]
  },
  {
   "cell_type": "code",
   "execution_count": 20,
   "id": "6cbff3fc",
   "metadata": {},
   "outputs": [
    {
     "data": {
      "text/html": [
       "<div><div style = \"float: left;\"><span>5×3 DataFrame</span></div><div style = \"clear: both;\"></div></div><div class = \"data-frame\" style = \"overflow-x: scroll;\"><table class = \"data-frame\" style = \"margin-bottom: 6px;\"><thead><tr class = \"header\"><th class = \"rowNumber\" style = \"font-weight: bold; text-align: right;\">Row</th><th style = \"text-align: left;\">country</th><th style = \"text-align: left;\">emission</th><th style = \"text-align: left;\">sink ton/yr</th></tr><tr class = \"subheader headerLastRow\"><th class = \"rowNumber\" style = \"font-weight: bold; text-align: right;\"></th><th title = \"String31\" style = \"text-align: left;\">String31</th><th title = \"Float64\" style = \"text-align: left;\">Float64</th><th title = \"Float64\" style = \"text-align: left;\">Float64</th></tr></thead><tbody><tr><td class = \"rowNumber\" style = \"font-weight: bold; text-align: right;\">1</td><td style = \"text-align: left;\">Argentina</td><td style = \"text-align: right;\">1.98e8</td><td style = \"text-align: right;\">1.79e8</td></tr><tr><td class = \"rowNumber\" style = \"font-weight: bold; text-align: right;\">2</td><td style = \"text-align: left;\">Australia</td><td style = \"text-align: right;\">3.89e8</td><td style = \"text-align: right;\">2.87e8</td></tr><tr><td class = \"rowNumber\" style = \"font-weight: bold; text-align: right;\">3</td><td style = \"text-align: left;\">Bahrain</td><td style = \"text-align: right;\">3.33e7</td><td style = \"text-align: right;\">72500.0</td></tr><tr><td class = \"rowNumber\" style = \"font-weight: bold; text-align: right;\">4</td><td style = \"text-align: left;\">Bolivia</td><td style = \"text-align: right;\">8.97e7</td><td style = \"text-align: right;\">1.73e8</td></tr><tr><td class = \"rowNumber\" style = \"font-weight: bold; text-align: right;\">5</td><td style = \"text-align: left;\">Brazil</td><td style = \"text-align: right;\">8.19e8</td><td style = \"text-align: right;\">1.81e9</td></tr></tbody></table></div>"
      ],
      "text/latex": [
       "\\begin{tabular}{r|ccc}\n",
       "\t& country & emission & sink ton/yr\\\\\n",
       "\t\\hline\n",
       "\t& String31 & Float64 & Float64\\\\\n",
       "\t\\hline\n",
       "\t1 & Argentina & 1.98e8 & 1.79e8 \\\\\n",
       "\t2 & Australia & 3.89e8 & 2.87e8 \\\\\n",
       "\t3 & Bahrain & 3.33e7 & 72500.0 \\\\\n",
       "\t4 & Bolivia & 8.97e7 & 1.73e8 \\\\\n",
       "\t5 & Brazil & 8.19e8 & 1.81e9 \\\\\n",
       "\\end{tabular}\n"
      ],
      "text/plain": [
       "\u001b[1m5×3 DataFrame\u001b[0m\n",
       "\u001b[1m Row \u001b[0m│\u001b[1m country   \u001b[0m\u001b[1m emission \u001b[0m\u001b[1m sink ton/yr \u001b[0m\n",
       "     │\u001b[90m String31  \u001b[0m\u001b[90m Float64  \u001b[0m\u001b[90m Float64     \u001b[0m\n",
       "─────┼──────────────────────────────────\n",
       "   1 │ Argentina    1.98e8       1.79e8\n",
       "   2 │ Australia    3.89e8       2.87e8\n",
       "   3 │ Bahrain      3.33e7   72500.0\n",
       "   4 │ Bolivia      8.97e7       1.73e8\n",
       "   5 │ Brazil       8.19e8       1.81e9"
      ]
     },
     "execution_count": 20,
     "metadata": {},
     "output_type": "execute_result"
    }
   ],
   "source": [
    "first(SD,5)"
   ]
  },
  {
   "cell_type": "code",
   "execution_count": null,
   "id": "86acfddc",
   "metadata": {},
   "outputs": [],
   "source": []
  }
 ],
 "metadata": {
  "kernelspec": {
   "display_name": "Julia 1.8.3",
   "language": "julia",
   "name": "julia-1.8"
  },
  "language_info": {
   "file_extension": ".jl",
   "mimetype": "application/julia",
   "name": "julia",
   "version": "1.8.3"
  }
 },
 "nbformat": 4,
 "nbformat_minor": 5
}
