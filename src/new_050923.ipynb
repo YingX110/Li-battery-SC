{
 "cells": [
  {
   "cell_type": "code",
   "execution_count": 52,
   "id": "9b532604",
   "metadata": {},
   "outputs": [],
   "source": [
    "using JuMP, Gurobi\n",
    "using CSV, LinearAlgebra, DataFrames"
   ]
  },
  {
   "cell_type": "code",
   "execution_count": 53,
   "id": "52b86dd3",
   "metadata": {},
   "outputs": [],
   "source": [
    "#load the data and orgnize \n",
    "FL = repeat([Float64], inner=15)\n",
    "dtype = append!([String], FL);\n",
    "\n",
    "capacity = CSV.File(\"C:/Users/bourg/.julia/environments/batterySC/data/may9/capacity.csv\",header=1,delim=\",\", types=dtype) |> DataFrame    \n",
    "distance = CSV.File(\"C:/Users/bourg/.julia/environments/batterySC/data/may9/distance.csv\",header=1,delim=\",\") |> DataFrame \n",
    "LCA_model = CSV.File(\"C:/Users/bourg/.julia/environments/batterySC/data/may9/LCA_model.csv\",header=1,delim=\",\") |> DataFrame \n",
    "emi_sink = CSV.File(\"C:/Users/bourg/.julia/environments/batterySC/data/may9/emission_sink.csv\",header=1,delim=\",\") |> DataFrame;"
   ]
  },
  {
   "cell_type": "code",
   "execution_count": 54,
   "id": "871a427e",
   "metadata": {},
   "outputs": [],
   "source": [
    "cell_demand = 0.001*226.0*(1e6)               # annual demand of Li battery for tesla (2M EV/yr, 3 NMC111 pack/EV, 164.98 kg/pack)\n",
    "\n",
    "global_sink = 1.099e10                        # global CO2 sequestration (ton/yr)\n",
    "global_emi = 3.53e10                          # global CO2 emission (ton/yr)\n",
    "es_ratio = global_sink/global_emi\n",
    "emission_c = emi_sink[!, \"emission\"]          # national CO2 emission (ton/yr)\n",
    "sink_c = emi_sink[!, \"sink ton/yr\"]           # national CO2 sink (ton/yr)\n",
    "\n",
    "EF_trans = 1.005/10000                        # ton CO2/km*ton (The average freight truck in the U.S. emits 161.8 grams of CO2 per ton-mile)\n",
    "EF_input = LCA_model[!,\"EF (kg CO2/material)\"]\n",
    "process = LCA_model[!,\"process\"]\n",
    "countries = capacity[!,\"Country\"]\n",
    "ncty = size(countries,1)                          # No. of countries\n",
    "nproc = size(process,1);                          # No. of processes \n",
    "\n",
    "mkt_loc = findfirst(isequal(\"United States\"), countries)\n",
    "mkt_proc = findfirst(isequal(\"battery\"), process)\n",
    "\n",
    "# seperate model\n",
    "cathode = 1:4\n",
    "cell = 5:10\n",
    "noncell = [12,13]\n",
    "battery = [11,14]\n",
    "scaler = LCA_model[!,\"scaler\"]\n",
    "input_amount = LCA_model[!,\"input (material/kg battery)\"] * cell_demand;"
   ]
  },
  {
   "cell_type": "code",
   "execution_count": 55,
   "id": "699e800d",
   "metadata": {},
   "outputs": [
    {
     "data": {
      "text/html": [
       "<div><div style = \"float: left;\"><span>15×4 DataFrame</span></div><div style = \"clear: both;\"></div></div><div class = \"data-frame\" style = \"overflow-x: scroll;\"><table class = \"data-frame\" style = \"margin-bottom: 6px;\"><thead><tr class = \"header\"><th class = \"rowNumber\" style = \"font-weight: bold; text-align: right;\">Row</th><th style = \"text-align: left;\">process</th><th style = \"text-align: left;\">input (material/kg battery)</th><th style = \"text-align: left;\">EF (kg CO2/material)</th><th style = \"text-align: left;\">scaler</th></tr><tr class = \"subheader headerLastRow\"><th class = \"rowNumber\" style = \"font-weight: bold; text-align: right;\"></th><th title = \"String15\" style = \"text-align: left;\">String15</th><th title = \"Float64\" style = \"text-align: left;\">Float64</th><th title = \"Float64\" style = \"text-align: left;\">Float64</th><th title = \"Float64\" style = \"text-align: left;\">Float64</th></tr></thead><tbody><tr><td class = \"rowNumber\" style = \"font-weight: bold; text-align: right;\">1</td><td style = \"text-align: left;\">Li</td><td style = \"text-align: right;\">0.11</td><td style = \"text-align: right;\">7.5</td><td style = \"text-align: right;\">0.383</td></tr><tr><td class = \"rowNumber\" style = \"font-weight: bold; text-align: right;\">2</td><td style = \"text-align: left;\">Co</td><td style = \"text-align: right;\">0.154</td><td style = \"text-align: right;\">23.6</td><td style = \"text-align: right;\">0.536</td></tr><tr><td class = \"rowNumber\" style = \"font-weight: bold; text-align: right;\">3</td><td style = \"text-align: left;\">Mn</td><td style = \"text-align: right;\">0.15</td><td style = \"text-align: right;\">0.709</td><td style = \"text-align: right;\">0.522</td></tr><tr><td class = \"rowNumber\" style = \"font-weight: bold; text-align: right;\">4</td><td style = \"text-align: left;\">Ni</td><td style = \"text-align: right;\">0.154</td><td style = \"text-align: right;\">7.32</td><td style = \"text-align: right;\">0.535</td></tr><tr><td class = \"rowNumber\" style = \"font-weight: bold; text-align: right;\">5</td><td style = \"text-align: left;\">cathode</td><td style = \"text-align: right;\">0.287</td><td style = \"text-align: right;\">6.6</td><td style = \"text-align: right;\">0.396</td></tr><tr><td class = \"rowNumber\" style = \"font-weight: bold; text-align: right;\">6</td><td style = \"text-align: left;\">graphite</td><td style = \"text-align: right;\">0.16</td><td style = \"text-align: right;\">0.0679</td><td style = \"text-align: right;\">0.221</td></tr><tr><td class = \"rowNumber\" style = \"font-weight: bold; text-align: right;\">7</td><td style = \"text-align: left;\">PP</td><td style = \"text-align: right;\">0.0116</td><td style = \"text-align: right;\">2.21</td><td style = \"text-align: right;\">0.016</td></tr><tr><td class = \"rowNumber\" style = \"font-weight: bold; text-align: right;\">8</td><td style = \"text-align: left;\">PE</td><td style = \"text-align: right;\">0.0029</td><td style = \"text-align: right;\">2.4</td><td style = \"text-align: right;\">0.004</td></tr><tr><td class = \"rowNumber\" style = \"font-weight: bold; text-align: right;\">9</td><td style = \"text-align: left;\">Cu</td><td style = \"text-align: right;\">0.0689</td><td style = \"text-align: right;\">1.11</td><td style = \"text-align: right;\">0.095</td></tr><tr><td class = \"rowNumber\" style = \"font-weight: bold; text-align: right;\">10</td><td style = \"text-align: left;\">Al</td><td style = \"text-align: right;\">0.133</td><td style = \"text-align: right;\">13.8</td><td style = \"text-align: right;\">0.184</td></tr><tr><td class = \"rowNumber\" style = \"font-weight: bold; text-align: right;\">11</td><td style = \"text-align: left;\">cell</td><td style = \"text-align: right;\">0.725</td><td style = \"text-align: right;\">1.99</td><td style = \"text-align: right;\">0.725</td></tr><tr><td class = \"rowNumber\" style = \"font-weight: bold; text-align: right;\">12</td><td style = \"text-align: left;\">PET</td><td style = \"text-align: right;\">0.005</td><td style = \"text-align: right;\">3.04</td><td style = \"text-align: right;\">0.005</td></tr><tr><td class = \"rowNumber\" style = \"font-weight: bold; text-align: right;\">13</td><td style = \"text-align: left;\">electronics</td><td style = \"text-align: right;\">0.004</td><td style = \"text-align: right;\">33.8</td><td style = \"text-align: right;\">0.004</td></tr><tr><td class = \"rowNumber\" style = \"font-weight: bold; text-align: right;\">14</td><td style = \"text-align: left;\">noncell</td><td style = \"text-align: right;\">1.0</td><td style = \"text-align: right;\">0.0566</td><td style = \"text-align: right;\">1.0</td></tr><tr><td class = \"rowNumber\" style = \"font-weight: bold; text-align: right;\">15</td><td style = \"text-align: left;\">battery</td><td style = \"text-align: right;\">1.0</td><td style = \"text-align: right;\">4.76</td><td style = \"text-align: right;\">1.0</td></tr></tbody></table></div>"
      ],
      "text/latex": [
       "\\begin{tabular}{r|cccc}\n",
       "\t& process & input (material/kg battery) & EF (kg CO2/material) & scaler\\\\\n",
       "\t\\hline\n",
       "\t& String15 & Float64 & Float64 & Float64\\\\\n",
       "\t\\hline\n",
       "\t1 & Li & 0.11 & 7.5 & 0.383 \\\\\n",
       "\t2 & Co & 0.154 & 23.6 & 0.536 \\\\\n",
       "\t3 & Mn & 0.15 & 0.709 & 0.522 \\\\\n",
       "\t4 & Ni & 0.154 & 7.32 & 0.535 \\\\\n",
       "\t5 & cathode & 0.287 & 6.6 & 0.396 \\\\\n",
       "\t6 & graphite & 0.16 & 0.0679 & 0.221 \\\\\n",
       "\t7 & PP & 0.0116 & 2.21 & 0.016 \\\\\n",
       "\t8 & PE & 0.0029 & 2.4 & 0.004 \\\\\n",
       "\t9 & Cu & 0.0689 & 1.11 & 0.095 \\\\\n",
       "\t10 & Al & 0.133 & 13.8 & 0.184 \\\\\n",
       "\t11 & cell & 0.725 & 1.99 & 0.725 \\\\\n",
       "\t12 & PET & 0.005 & 3.04 & 0.005 \\\\\n",
       "\t13 & electronics & 0.004 & 33.8 & 0.004 \\\\\n",
       "\t14 & noncell & 1.0 & 0.0566 & 1.0 \\\\\n",
       "\t15 & battery & 1.0 & 4.76 & 1.0 \\\\\n",
       "\\end{tabular}\n"
      ],
      "text/plain": [
       "\u001b[1m15×4 DataFrame\u001b[0m\n",
       "\u001b[1m Row \u001b[0m│\u001b[1m process     \u001b[0m\u001b[1m input (material/kg battery) \u001b[0m\u001b[1m EF (kg CO2/material) \u001b[0m\u001b[1m scaler \u001b[0m ⋯\n",
       "     │\u001b[90m String15    \u001b[0m\u001b[90m Float64                     \u001b[0m\u001b[90m Float64              \u001b[0m\u001b[90m Float64\u001b[0m ⋯\n",
       "─────┼──────────────────────────────────────────────────────────────────────────\n",
       "   1 │ Li                                0.11                  7.5       0.383 ⋯\n",
       "   2 │ Co                                0.154                23.6       0.536\n",
       "   3 │ Mn                                0.15                  0.709     0.522\n",
       "   4 │ Ni                                0.154                 7.32      0.535\n",
       "   5 │ cathode                           0.287                 6.6       0.396 ⋯\n",
       "   6 │ graphite                          0.16                  0.0679    0.221\n",
       "   7 │ PP                                0.0116                2.21      0.016\n",
       "   8 │ PE                                0.0029                2.4       0.004\n",
       "   9 │ Cu                                0.0689                1.11      0.095 ⋯\n",
       "  10 │ Al                                0.133                13.8       0.184\n",
       "  11 │ cell                              0.725                 1.99      0.725\n",
       "  12 │ PET                               0.005                 3.04      0.005\n",
       "  13 │ electronics                       0.004                33.8       0.004 ⋯\n",
       "  14 │ noncell                           1.0                   0.0566    1.0\n",
       "  15 │ battery                           1.0                   4.76      1.0"
      ]
     },
     "execution_count": 55,
     "metadata": {},
     "output_type": "execute_result"
    }
   ],
   "source": [
    "LCA_model"
   ]
  },
  {
   "cell_type": "code",
   "execution_count": 107,
   "id": "89bd7af2",
   "metadata": {},
   "outputs": [
    {
     "data": {
      "text/plain": [
       "1.0"
      ]
     },
     "execution_count": 107,
     "metadata": {},
     "output_type": "execute_result"
    }
   ],
   "source": [
    "up_cath = scaler[1:4] * scaler[5] * scaler[11]\n",
    "up_cell = scaler[5:10] * scaler[11]\n",
    "cell_sef = scaler[11]\n",
    "up_noncell = scaler[12:13] * scaler[14]\n",
    "noncell_sef = scaler[14]\n",
    "battery_sef = scaler[15]"
   ]
  },
  {
   "cell_type": "code",
   "execution_count": 108,
   "id": "a82d668a",
   "metadata": {},
   "outputs": [
    {
     "data": {
      "text/plain": [
       "15-element Vector{Float64}:\n",
       "  24850.801799999997\n",
       "  34778.1456\n",
       "  33869.7612\n",
       "  34713.261\n",
       "  64884.600000000006\n",
       "  36210.85\n",
       "   2621.6\n",
       "    655.4\n",
       "  15565.749999999998\n",
       "  30148.399999999998\n",
       " 163850.0\n",
       "   1130.0\n",
       "    904.0\n",
       " 226000.0\n",
       " 226000.0"
      ]
     },
     "execution_count": 108,
     "metadata": {},
     "output_type": "execute_result"
    }
   ],
   "source": [
    "input_amount = []\n",
    "input_amount = vcat(up_cath, up_cell, cell_sef, up_noncell, noncell_sef, battery_sef) .* cell_demand\n",
    "input_amount"
   ]
  },
  {
   "cell_type": "markdown",
   "id": "524fd524",
   "metadata": {},
   "source": [
    "----"
   ]
  },
  {
   "cell_type": "code",
   "execution_count": 124,
   "id": "91c4e362",
   "metadata": {},
   "outputs": [
    {
     "name": "stdout",
     "output_type": "stream",
     "text": [
      "Academic license - for non-commercial use only - expires 2023-11-27\r\n"
     ]
    }
   ],
   "source": [
    "model = Model(Gurobi.Optimizer);"
   ]
  },
  {
   "cell_type": "code",
   "execution_count": 125,
   "id": "4157572b",
   "metadata": {},
   "outputs": [],
   "source": [
    "#variables \n",
    "@variable(model, x[1:ncty, 1:nproc] >= 0)            # x[i,k] production amount of product k at location i\n",
    "@variable(model, y[1:ncty, 1:ncty, 1:nproc] >= 0);   # y[i,j,k] ship product k from i to j "
   ]
  },
  {
   "cell_type": "code",
   "execution_count": 126,
   "id": "35f9c50e",
   "metadata": {},
   "outputs": [],
   "source": [
    "# capacity constraint: x[i,k] <= capacity[i][k]\n",
    "for k in 1:nproc\n",
    "    for i in 1:ncty\n",
    "        @constraint(model, x[i,k] <= capacity[!, 2:end][i,k])\n",
    "    end\n",
    "end"
   ]
  },
  {
   "cell_type": "code",
   "execution_count": 127,
   "id": "2a16ae37",
   "metadata": {},
   "outputs": [],
   "source": [
    "# node output flow constraint\n",
    "for k in 1:nproc\n",
    "    for i in 1:ncty\n",
    "        @constraint(model, sum(y[i,j,k] for j in 1:ncty) == x[i,k])\n",
    "    end\n",
    "end"
   ]
  },
  {
   "cell_type": "code",
   "execution_count": 128,
   "id": "654f5726",
   "metadata": {},
   "outputs": [],
   "source": [
    "# node output flow to market y[i,38, 15]\n",
    "for i in 1:ncty\n",
    "    for j in [e for e in 1:40 if e != mkt_loc]\n",
    "        @constraint(model, y[i,j,mkt_proc] == 0)\n",
    "    end\n",
    "end"
   ]
  },
  {
   "cell_type": "code",
   "execution_count": 129,
   "id": "0add76b2",
   "metadata": {},
   "outputs": [],
   "source": [
    "for k in 1:nproc-1\n",
    "    @constraint(model, sum(x[i,k] for i in 1:ncty) == input_amount[k])\n",
    "end"
   ]
  },
  {
   "cell_type": "code",
   "execution_count": 130,
   "id": "d98a47b2",
   "metadata": {},
   "outputs": [],
   "source": [
    "# @constraint(model, sum(x[i,9] for i in 1:ncty) == input_amount[9])"
   ]
  },
  {
   "cell_type": "code",
   "execution_count": 131,
   "id": "f939779d",
   "metadata": {},
   "outputs": [],
   "source": [
    "# # final demand constraint\n",
    "# @constraint(model, sum(x[i, mkt_proc] for i in 1:ncty) == cell_demand);"
   ]
  },
  {
   "cell_type": "code",
   "execution_count": 132,
   "id": "85745707",
   "metadata": {},
   "outputs": [],
   "source": [
    "# final demand constraint\n",
    "@constraint(model, sum(y[i,mkt_loc,mkt_proc] for i in 1:ncty) == cell_demand);"
   ]
  },
  {
   "cell_type": "code",
   "execution_count": 133,
   "id": "fd42b376",
   "metadata": {},
   "outputs": [],
   "source": [
    "# cathode LCA constraints (index=5)\n",
    "for k in cathode\n",
    "    for j in 1:ncty\n",
    "        @constraint(model, sum(y[i,j,k] for i in 1:ncty) == x[j,5] * scaler[k])\n",
    "    end\n",
    "end\n",
    "\n",
    "\n",
    "# cell LCA constraints (index=11)\n",
    "for k in cell\n",
    "    for j in 1:ncty\n",
    "        @constraint(model, sum(y[i,j,k] for i in 1:ncty) == x[j,11] * scaler[k])\n",
    "    end\n",
    "end\n",
    "\n",
    "\n",
    "# non cell LCA constraints (index=14)\n",
    "for k in noncell\n",
    "    for j in 1:ncty\n",
    "        @constraint(model, sum(y[i,j,k] for i in 1:ncty) == x[j,14] * scaler[k])\n",
    "    end\n",
    "end\n",
    "\n",
    "\n",
    "# battery LCA constraints (index=15)\n",
    "for k in battery\n",
    "    for j in 1:ncty\n",
    "        @constraint(model, sum(y[i,j,k] for i in 1:ncty) == x[j,15] * scaler[k])\n",
    "    end\n",
    "end\n"
   ]
  },
  {
   "cell_type": "code",
   "execution_count": 134,
   "id": "2d01cf15",
   "metadata": {},
   "outputs": [],
   "source": [
    "# 1. production emission\n",
    "val_x = zeros(ncty, nproc)\n",
    "\n",
    "for k in 1:nproc\n",
    "    for i in 1:ncty\n",
    "        val_x[i,k] = EF_input[k] * (1 - sink_c[i]/emission_c[i] - es_ratio)\n",
    "    end\n",
    "end\n",
    "\n",
    "proc_emi = sum(x .* val_x);"
   ]
  },
  {
   "cell_type": "code",
   "execution_count": 135,
   "id": "2a3a3c86",
   "metadata": {},
   "outputs": [],
   "source": [
    "# 2. transpotration emission\n",
    "trans_emi = 0\n",
    "\n",
    "for i in 1:ncty\n",
    "    for j in 1:ncty\n",
    "        amount = sum(y[i,j,k] for k in 1:nproc)\n",
    "        trans_emi += amount * distance[!, 2:end][i,j] * EF_trans\n",
    "    end\n",
    "end"
   ]
  },
  {
   "cell_type": "code",
   "execution_count": 136,
   "id": "8ffec852",
   "metadata": {},
   "outputs": [],
   "source": [
    "# # 2. transpotration emission\n",
    "# trans_emi = 0\n",
    "# for k in 1:nproc\n",
    "#     for i in 1:ncty\n",
    "#         for j in 1:ncty\n",
    "#             trans_emi += y[i,j,k] * distance[!, 2:end][i,j] * EF_trans;\n",
    "#         end\n",
    "#     end\n",
    "# end"
   ]
  },
  {
   "cell_type": "code",
   "execution_count": 137,
   "id": "7a186025",
   "metadata": {},
   "outputs": [],
   "source": [
    "@objective(model, Min, proc_emi+trans_emi);"
   ]
  },
  {
   "cell_type": "code",
   "execution_count": 138,
   "id": "3b08f050",
   "metadata": {},
   "outputs": [
    {
     "name": "stdout",
     "output_type": "stream",
     "text": [
      "Gurobi Optimizer version 9.1.2 build v9.1.2rc0 (win64)\r\n",
      "Thread count: 6 physical cores, 12 logical processors, using up to 12 threads\r\n",
      "Optimize a model with 3335 rows, 24600 columns and 50320 nonzeros\r\n",
      "Model fingerprint: 0x0313f911\r\n",
      "Coefficient statistics:\r\n",
      "  Matrix range     [4e-03, 1e+00]\r\n",
      "  Objective range  [2e-03, 3e+02]\r\n",
      "  Bounds range     [0e+00, 0e+00]\r\n",
      "  RHS range        [3e+02, 1e+15]\r\n",
      "Warning: Model contains large rhs\r\n",
      "         Consider reformulating model or setting NumericFocus parameter\r\n",
      "         to avoid numerical issues.\r\n",
      "\r\n",
      "Concurrent LP optimizer: primal simplex, dual simplex, and barrier\r\n",
      "Showing barrier log only...\r\n",
      "\r\n",
      "Presolve removed 3150 rows and 23724 columns\r\n",
      "Presolve time: 0.02s\r\n",
      "Presolved: 185 rows, 876 columns, 1716 nonzeros\r\n",
      "\r\n",
      "Ordering time: 0.00s\r\n",
      "\r\n",
      "Barrier statistics:\r\n",
      " AA' NZ     : 9.010e+02\r\n",
      " Factor NZ  : 2.486e+03\r\n",
      " Factor Ops : 3.829e+04 (less than 1 second per iteration)\r\n",
      " Threads    : 1\r\n",
      "\r\n",
      "                  Objective                Residual\r\n",
      "Iter       Primal          Dual         Primal    Dual     Compl     Time\r\n",
      "   0  -3.41127664e+13 -4.06287052e+18  3.12e+11 1.43e+02  1.13e+13     0s\r\n",
      "   1  -1.38144016e+13 -1.70501357e+19  3.12e+11 1.18e+03  1.27e+13     0s\r\n",
      "   2  -6.08877496e+12 -9.30736961e+19  3.12e+11 1.18e+03  2.63e+13     0s\r\n",
      "   3  -3.41127664e+13 -4.06287052e+18  3.12e+11 1.43e+02  1.13e+13     0s\r\n",
      "   4  -1.38144014e+13 -1.70501361e+19  3.12e+11 1.18e+03  1.27e+13     0s\r\n",
      "   5  -6.08877502e+12 -9.30736950e+19  3.12e+11 1.18e+03  2.63e+13     0s\r\n",
      "   6  -2.14967654e+13 -1.42539253e+23  3.12e+11 1.16e+03  2.95e+16     0s\r\n",
      "   7  -1.80618232e+13 -1.48003763e+25  3.12e+11 1.16e+03  3.28e+18     0s\r\n",
      "   8  -1.49669456e+13 -1.56750814e+32  3.12e+11 3.20e+01  3.71e+25     0s\r\n",
      "\r\n",
      "Barrier performed 8 iterations in 0.03 seconds\r\n",
      "Numerical trouble encountered\r\n",
      "\r\n",
      "Model may be infeasible or unbounded.  Consider using the\r\n",
      "homogeneous algorithm (through parameter 'BarHomogeneous')\r\n",
      "\r\n",
      "Iteration    Objective       Primal Inf.    Dual Inf.      Time\r\n",
      "       0   -4.8802146e+32   4.574138e+31   4.880215e+02      0s\r\n",
      "     146   -3.0911407e+06   0.000000e+00   0.000000e+00      0s\r\n",
      "\r\n",
      "Solved with dual simplex\r\n",
      "Solved in 55 iterations and 0.04 seconds\r\n",
      "Optimal objective -3.091140734e+06\r\n",
      "\r\n",
      "User-callback calls 240, time in user-callback 0.00 sec\r\n"
     ]
    }
   ],
   "source": [
    "JuMP.optimize!(model)"
   ]
  },
  {
   "cell_type": "code",
   "execution_count": 139,
   "id": "e44413af",
   "metadata": {},
   "outputs": [],
   "source": [
    "optx = copy(JuMP.value.(x))\n",
    "opty = copy(JuMP.value.(y));"
   ]
  },
  {
   "cell_type": "code",
   "execution_count": 140,
   "id": "7d0dec5e",
   "metadata": {},
   "outputs": [
    {
     "data": {
      "text/plain": [
       "40×15 Matrix{Float64}:\n",
       "  3010.8      0.0    0.0      0.0  …     0.0    0.0       0.0       0.0\n",
       "     0.0   7400.0    0.0      0.0        0.0    0.0       0.0       0.0\n",
       "     0.0      0.0    0.0      0.0        0.0    0.0       0.0       0.0\n",
       "     0.0      0.0    0.0      0.0        0.0    0.0       0.0       0.0\n",
       "  1800.0      0.0    0.0      0.0        0.0    0.0       0.0       0.0\n",
       "  1540.0   4440.0    0.0  34713.3  …     0.0    0.0       0.0       0.0\n",
       " 18500.0      0.0    0.0      0.0        0.0  904.0       0.0       0.0\n",
       "     0.0      0.0    0.0      0.0        0.0    0.0       0.0       0.0\n",
       "     0.0      0.0    0.0      0.0        0.0    0.0       0.0       0.0\n",
       "     0.0  10400.0    0.0      0.0        0.0    0.0       0.0       0.0\n",
       "     0.0   3500.0    0.0      0.0  …     0.0    0.0       0.0       0.0\n",
       "     0.0   1380.0    0.0      0.0        0.0    0.0       0.0       0.0\n",
       "     0.0      0.0    0.0      0.0        0.0    0.0       0.0       0.0\n",
       "     ⋮                             ⋱                           \n",
       "     0.0    261.146  0.0      0.0        0.0    0.0       0.0       0.0\n",
       "     0.0      0.0    0.0      0.0        0.0    0.0       0.0       0.0\n",
       "     0.0      0.0    0.0      0.0  …     0.0    0.0       0.0       0.0\n",
       "     0.0      0.0    0.0      0.0        0.0    0.0       0.0       0.0\n",
       "     0.0      0.0    0.0      0.0        0.0    0.0       0.0       0.0\n",
       "     0.0      0.0    0.0      0.0        0.0    0.0       0.0       0.0\n",
       "     0.0      0.0    0.0      0.0        0.0    0.0       0.0       0.0\n",
       "     0.0      0.0    0.0      0.0  …     0.0    0.0       0.0       0.0\n",
       "     0.0      0.0    0.0      0.0        0.0    0.0       0.0       0.0\n",
       "     0.0      0.0    0.0      0.0     1130.0    0.0  226000.0  226000.0\n",
       "     0.0    897.0    0.0      0.0        0.0    0.0       0.0       0.0\n",
       "     0.0      0.0    0.0      0.0        0.0    0.0       0.0       0.0"
      ]
     },
     "execution_count": 140,
     "metadata": {},
     "output_type": "execute_result"
    }
   ],
   "source": [
    "optx"
   ]
  },
  {
   "cell_type": "code",
   "execution_count": 141,
   "id": "a03ed3f7",
   "metadata": {},
   "outputs": [
    {
     "data": {
      "text/plain": [
       "\"/Users/bourg/Desktop/x_matrix3.csv\""
      ]
     },
     "execution_count": 141,
     "metadata": {},
     "output_type": "execute_result"
    }
   ],
   "source": [
    "using Tables\n",
    "res = Tables.table(optx[1:end, 1:end]);\n",
    "CSV.write(\"/Users/bourg/Desktop/x_matrix3.csv\", res) "
   ]
  },
  {
   "cell_type": "code",
   "execution_count": 62,
   "id": "3ef4eaf2",
   "metadata": {},
   "outputs": [
    {
     "data": {
      "text/plain": [
       "\"/Users/bourg/Desktop/y02_matrix.csv\""
      ]
     },
     "execution_count": 62,
     "metadata": {},
     "output_type": "execute_result"
    }
   ],
   "source": [
    "res_y02 = Tables.table(opty[1:end, 1:end, 02])\n",
    "CSV.write(\"/Users/bourg/Desktop/y02_matrix.csv\", res_y02) "
   ]
  },
  {
   "cell_type": "code",
   "execution_count": null,
   "id": "8aee5430",
   "metadata": {},
   "outputs": [],
   "source": []
  }
 ],
 "metadata": {
  "kernelspec": {
   "display_name": "Julia 1.8.3",
   "language": "julia",
   "name": "julia-1.8"
  },
  "language_info": {
   "file_extension": ".jl",
   "mimetype": "application/julia",
   "name": "julia",
   "version": "1.8.3"
  }
 },
 "nbformat": 4,
 "nbformat_minor": 5
}
