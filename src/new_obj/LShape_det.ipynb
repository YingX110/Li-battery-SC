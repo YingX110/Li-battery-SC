{
 "cells": [
  {
   "cell_type": "code",
   "execution_count": 10,
   "id": "5edf3ebd",
   "metadata": {},
   "outputs": [],
   "source": [
    "using JuMP, Gurobi\n",
    "using CSV, LinearAlgebra, DataFrames\n",
    "using Plots\n",
    "using DelimitedFiles"
   ]
  },
  {
   "cell_type": "code",
   "execution_count": 11,
   "id": "93d2a5ce",
   "metadata": {},
   "outputs": [],
   "source": [
    "#load social and ecological data and orgnize \n",
    "FL = repeat([Float64], inner=15)\n",
    "dtype = append!([String], FL);\n",
    "\n",
    "regional_EF = CSV.File(\"C:/Users/bourg/.julia/environments/batterySC/Li-battery-SC/data/social/new_EF_SC1.csv\",header=1,delim=\",\", types=dtype) |> DataFrame    \n",
    "capacity = CSV.File(\"C:/Users/bourg/.julia/environments/batterySC/Li-battery-SC/data/social/capacity2.csv\",header=1,delim=\",\", types=dtype) |> DataFrame    \n",
    "distance = CSV.File(\"C:/Users/bourg/.julia/environments/batterySC/Li-battery-SC/data/social/distance.csv\",header=1,delim=\",\") |> DataFrame \n",
    "LCA_model = CSV.File(\"C:/Users/bourg/.julia/environments/batterySC/Li-battery-SC/data/social/LCA_model2.csv\",header=1,delim=\",\") |> DataFrame \n",
    "D_Dsoc = CSV.File(\"C:/Users/bourg/.julia/environments/batterySC/Li-battery-SC/data/social/D_Dsoc1.csv\",header=1,delim=\",\") |> DataFrame\n",
    "GDP = CSV.File(\"C:/Users/bourg/.julia/environments/batterySC/Li-battery-SC/data/social/GDP.csv\",header=1,delim=\",\") |> DataFrame;\n",
    "emi_sink = CSV.File(\"C:/Users/bourg/.julia/environments/batterySC/Li-battery-SC/data/SC_regional/emission_sink1.csv\",header=1,delim=\",\") |> DataFrame;"
   ]
  },
  {
   "cell_type": "code",
   "execution_count": 12,
   "id": "5118b2b5",
   "metadata": {},
   "outputs": [],
   "source": [
    "cell_demand = 0.001*164.98*(1.369*1e6)*2           # annual demand of Li battery for tesla (1.369M EV/yr, ~2 NMC111 pack/EV, 164.98 kg/pack (35kwh/pack), 80~100 kWh per EV)\n",
    "\n",
    "global_sink = 1.099e10                        # global pub (ocean) CO2 sequestration (ton/yr)\n",
    "global_sink_tot = 2.236e10                  # global total (ocean+land) CO2 sequestration (ton/yr)\n",
    "global_emi = 3.53e10                          # global CO2 emission (ton/yr)\n",
    "global_gdp = 96882e9                          # 2021 global GDP ($/yr)\n",
    "es_ratio = global_sink/global_emi\n",
    "es_ratio_tot = global_sink_tot/global_emi\n",
    "emission_c = emi_sink[!, \"emission\"]          # national CO2 emission (ton/yr)\n",
    "sink_c = emi_sink[!, \"sink ton/yr\"]           # national CO2 sink (ton/yr)\n",
    "\n",
    "# D = D_Dsoc[!, \"D\"]          # national CO2 emission (ton/yr)\n",
    "Dsoc = D_Dsoc[!, \"Dsoc ton/yr\"]           # national CO2 sink (ton/yr)\n",
    "\n",
    "EF_trans = 1.005/10000                        # ton CO2/km*ton (The average freight truck in the U.S. emits 161.8 grams of CO2 per ton-mile)\n",
    "process = LCA_model[!,\"process\"]\n",
    "countries = capacity[!,\"country\"]\n",
    "ncty = size(countries,1)                          # No. of countries\n",
    "nproc = size(process,1);                          # No. of processes \n",
    "\n",
    "mkt_loc = findfirst(isequal(\"United States\"), countries)\n",
    "mkt_proc = findfirst(isequal(\"battery\"), process)\n",
    "\n",
    "# seperate model\n",
    "cathode = collect(1:4)\n",
    "cell = collect(5:10)\n",
    "noncell = [12,13]\n",
    "battery = [11,14]\n",
    "scaler = LCA_model[!,\"scaler\"]\n",
    "price = LCA_model[!,\"price (usd/ton product)\"]\n",
    "vGDP = GDP[!,\"GDP usd\"];"
   ]
  },
  {
   "cell_type": "code",
   "execution_count": 13,
   "id": "e6d8b773",
   "metadata": {},
   "outputs": [],
   "source": [
    "# penalty = 10000 # ton/yr\n",
    "penalty = 6; # ton/yr"
   ]
  },
  {
   "cell_type": "code",
   "execution_count": 14,
   "id": "d326e8f0",
   "metadata": {},
   "outputs": [],
   "source": [
    "up_cath = scaler[1:4] * scaler[5] * scaler[11]\n",
    "up_cell = scaler[5:10] * scaler[11]\n",
    "cell_sef = scaler[11]\n",
    "up_noncell = scaler[12:13] * scaler[14]\n",
    "noncell_sef = scaler[14]\n",
    "battery_sef = scaler[15];"
   ]
  },
  {
   "cell_type": "code",
   "execution_count": 15,
   "id": "fcfae35d",
   "metadata": {},
   "outputs": [
    {
     "data": {
      "text/plain": [
       "15-element Vector{Float64}:\n",
       "  49670.291589732\n",
       "  69512.470736544\n",
       "  67696.846500888\n",
       "  69382.78329114\n",
       " 129687.44540400001\n",
       "  72376.074329\n",
       "   5239.896784\n",
       "   1309.974196\n",
       "  31111.887154999997\n",
       "  60258.81301599999\n",
       " 327493.549\n",
       "   2258.5762\n",
       "   1806.86096\n",
       " 451715.24\n",
       " 451715.24"
      ]
     },
     "execution_count": 15,
     "metadata": {},
     "output_type": "execute_result"
    }
   ],
   "source": [
    "ipt = []\n",
    "ipt = vcat(up_cath, up_cell, cell_sef, up_noncell, noncell_sef, battery_sef) .* cell_demand\n",
    "input_amount = ipt"
   ]
  },
  {
   "cell_type": "code",
   "execution_count": 16,
   "id": "b548eb11",
   "metadata": {},
   "outputs": [
    {
     "data": {
      "text/plain": [
       "7-element Vector{Float64}:\n",
       " 225857.62\n",
       " 316200.66799999995\n",
       " 361372.19200000004\n",
       " 451715.24\n",
       " 496886.764\n",
       " 542058.288\n",
       " 632401.3359999999"
      ]
     },
     "execution_count": 16,
     "metadata": {},
     "output_type": "execute_result"
    }
   ],
   "source": [
    "D = [0.5, 0.7, 0.8, 1, 1.1, 1.2, 1.4]*cell_demand"
   ]
  },
  {
   "cell_type": "markdown",
   "id": "2f814c33",
   "metadata": {},
   "source": [
    "### Solve subproblem to get dual $\\pi$ and $\\alpha$"
   ]
  },
  {
   "cell_type": "markdown",
   "id": "53a757a5",
   "metadata": {},
   "source": [
    "----"
   ]
  },
  {
   "cell_type": "code",
   "execution_count": 23,
   "id": "a148dcac",
   "metadata": {},
   "outputs": [
    {
     "data": {
      "text/plain": [
       "main (generic function with 1 method)"
      ]
     },
     "execution_count": 23,
     "metadata": {},
     "output_type": "execute_result"
    }
   ],
   "source": [
    "function main()\n",
    "    model = Model(Gurobi.Optimizer)\n",
    "    @variable(model, y[1:ncty, 1:ncty, 1:nproc] >= 0)\n",
    "    @variable(model, x[1:ncty, 1:nproc] >= 0)\n",
    "    \n",
    "    cstr_cap = [@constraint(model, x[i,k] <= capacity[!, 2:end][i,k]) for k in 1:nproc for i in 1:ncty]\n",
    "    cstr_ip = [@constraint(model, sum(x[i,k] for i in 1:ncty) == input_amount[k]) for k in 1:nproc]\n",
    "    \n",
    "    cstr_op = [@constraint(model, sum(y[i,j,k] for j in 1:ncty) == x[i,k]) for k in 1:nproc for i in 1:ncty]\n",
    "    cstr_cth = [@constraint(model, sum(y[i,j,k] for i in 1:ncty) == x[j,5]*scaler[k]) for k in cathode for j in 1:ncty]\n",
    "    cstr_cell = [@constraint(model, sum(y[i,j,k] for i in 1:ncty) == x[j,11]*scaler[k]) for k in cell for j in 1:ncty]\n",
    "    cstr_noncell = [@constraint(model, sum(y[i,j,k] for i in 1:ncty) == x[j,14]*scaler[k]) for k in noncell for j in 1:ncty]\n",
    "    cstr_battery = [@constraint(model, sum(y[i,j,k] for i in 1:ncty) == x[j,15]*scaler[k]) for k in battery for j in 1:ncty]\n",
    "    @constraint(model, sum(y[i,mkt_loc,mkt_proc] for i in 1:ncty) == cell_demand)\n",
    "    for j in 1:ncty-1\n",
    "        @constraint(model, sum(y[i,j,mkt_proc] for i in 1:ncty) == 0)\n",
    "    end\n",
    "    \n",
    "    ############################\n",
    "    proD = (x .* Matrix(regional_EF[:,2:end])) * ones(nproc,1) \n",
    "    proM = x * price\n",
    "\n",
    "    pro_sink = zeros(ncty, nproc)\n",
    "    for k in 1:nproc\n",
    "        for i in 1:ncty\n",
    "            pro_sink[i,k] = regional_EF[i, k+1] * (sink_c[i]/emission_c[i] + es_ratio)\n",
    "        end\n",
    "    end\n",
    "    proS = (x.*pro_sink)*ones(nproc,1) \n",
    "    \n",
    "    ###\n",
    "    proD = (x .* Matrix(regional_EF[:,2:end])) * ones(nproc,1) \n",
    "    proM = x * price\n",
    "\n",
    "    pro_sink = zeros(ncty, nproc)\n",
    "    for k in 1:nproc\n",
    "        for i in 1:ncty\n",
    "            pro_sink[i,k] = regional_EF[i, k+1] * (sink_c[i]/emission_c[i] + es_ratio)\n",
    "        end\n",
    "    end\n",
    "    proS = (x.*pro_sink)*ones(nproc,1) \n",
    "    #######\n",
    "    \n",
    "    tranD = Vector{AffExpr}(undef, ncty)\n",
    "    tranS= Vector{AffExpr}(undef, ncty)\n",
    "    for j in 1:ncty\n",
    "        arc_emi = 0\n",
    "        for i in 1:ncty\n",
    "            amount = sum(y[i,j,k] for k in 1:nproc)\n",
    "            arc_emi += (amount * distance[!, 2:end][i,j] * EF_trans)\n",
    "        end\n",
    "        tranD[j] = arc_emi\n",
    "        tranS[j] = arc_emi * (sink_c[j]/emission_c[j] + es_ratio)\n",
    "    end\n",
    "\n",
    "    Allo_soc = (proD+tranD) ./ emission_c .* Dsoc\n",
    "\n",
    "    vec_S = proS + tranS\n",
    "    vec_D = proD + tranD\n",
    "    \n",
    "    @objective(model, Min, sum(vec_D-vec_S))\n",
    "    JuMP.optimize!(model)\n",
    "    \n",
    "    opt_x = JuMP.value.(x)\n",
    "    opt_y = JuMP.value.(y)\n",
    "    opt_obj = JuMP.objective_value(model)\n",
    "    \n",
    "    result = Dict([\"opt_x\"=>opt_x, \"opt_obj\"=>opt_obj, \"opt_y\"=>opt_y])\n",
    "    \n",
    "    return result\n",
    "    \n",
    "end"
   ]
  },
  {
   "cell_type": "markdown",
   "id": "d062d55e",
   "metadata": {},
   "source": [
    "---"
   ]
  },
  {
   "cell_type": "code",
   "execution_count": 26,
   "id": "72f62719",
   "metadata": {},
   "outputs": [
    {
     "name": "stdout",
     "output_type": "stream",
     "text": [
      "Academic license - for non-commercial use only - expires 2023-11-27\r\n",
      "Gurobi Optimizer version 9.1.2 build v9.1.2rc0 (win64)\r\n",
      "Thread count: 6 physical cores, 12 logical processors, using up to 12 threads\r\n",
      "Optimize a model with 1365 rows, 13950 columns and 28770 nonzeros\r\n",
      "Model fingerprint: 0x7de78d9d\r\n",
      "Coefficient statistics:\r\n",
      "  Matrix range     [4e-03, 1e+00]\r\n",
      "  Objective range  [7e-03, 3e+02]\r\n",
      "  Bounds range     [0e+00, 0e+00]\r\n",
      "  RHS range        [2e+02, 1e+11]\r\n",
      "Warning: Model contains large rhs\r\n",
      "         Consider reformulating model or setting NumericFocus parameter\r\n",
      "         to avoid numerical issues.\r\n",
      "Presolve removed 1119 rows and 12768 columns\r\n",
      "Presolve time: 0.01s\r\n",
      "Presolved: 246 rows, 1182 columns, 2548 nonzeros\r\n",
      "\r\n",
      "Iteration    Objective       Primal Inf.    Dual Inf.      Time\r\n",
      "       0   -1.0366234e+07   3.023558e+05   0.000000e+00      0s\r\n",
      "      77   -8.1875518e+06   0.000000e+00   0.000000e+00      0s\r\n",
      "\r\n",
      "Solved in 77 iterations and 0.01 seconds\r\n",
      "Optimal objective -8.187551773e+06\r\n",
      "\r\n",
      "User-callback calls 121, time in user-callback 0.00 sec\r\n"
     ]
    },
    {
     "data": {
      "text/plain": [
       "Dict{String, Any} with 3 entries:\n",
       "  \"opt_y\"   => [0.0 0.0 … 0.0 0.0; 0.0 0.0 … 0.0 0.0; … ; 0.0 0.0 … 0.0 0.0; 0.…\n",
       "  \"opt_obj\" => -8.18755e6\n",
       "  \"opt_x\"   => [6200.0 0.0 … 0.0 0.0; 1770.29 0.0 … 0.0 0.0; … ; 0.0 0.0 … 0.0 …"
      ]
     },
     "execution_count": 26,
     "metadata": {},
     "output_type": "execute_result"
    }
   ],
   "source": [
    "res = main()"
   ]
  },
  {
   "cell_type": "code",
   "execution_count": 27,
   "id": "6422275a",
   "metadata": {},
   "outputs": [
    {
     "data": {
      "text/plain": [
       "30×15 Matrix{Float64}:\n",
       "  6200.0       0.0      0.0      0.0   …     0.0   0.0        0.0\n",
       "  1770.29      0.0      0.0      0.0         0.0   0.0        0.0\n",
       "  2200.0       0.0  67696.8  67000.0         0.0   0.0        0.0\n",
       "   500.0    3100.0      0.0   2382.78        0.0   0.0        0.0\n",
       " 39000.0       0.0      0.0      0.0         0.0   4.51715e5  0.0\n",
       "     0.0       0.0      0.0      0.0   …     0.0   0.0        0.0\n",
       "     0.0       0.0      0.0      0.0         0.0   0.0        0.0\n",
       "     0.0   66412.5      0.0      0.0         0.0   0.0        0.0\n",
       "     0.0       0.0      0.0      0.0         0.0   0.0        0.0\n",
       "     0.0       0.0      0.0      0.0         0.0   0.0        0.0\n",
       "     0.0       0.0      0.0      0.0   …     0.0   0.0        0.0\n",
       "     0.0       0.0      0.0      0.0         0.0   0.0        0.0\n",
       "     0.0       0.0      0.0      0.0         0.0   0.0        0.0\n",
       "     ⋮                                 ⋱                      \n",
       "     0.0       0.0      0.0      0.0         0.0   0.0        0.0\n",
       "     0.0       0.0      0.0      0.0         0.0   0.0        0.0\n",
       "     0.0       0.0      0.0      0.0   …     0.0   0.0        0.0\n",
       "     0.0       0.0      0.0      0.0         0.0   0.0        0.0\n",
       "     0.0       0.0      0.0      0.0         0.0   0.0        0.0\n",
       "     0.0       0.0      0.0      0.0         0.0   0.0        0.0\n",
       "     0.0       0.0      0.0      0.0         0.0   0.0        0.0\n",
       "     0.0       0.0      0.0      0.0   …     0.0   0.0        0.0\n",
       "     0.0       0.0      0.0      0.0         0.0   0.0        0.0\n",
       "     0.0       0.0      0.0      0.0         0.0   0.0        0.0\n",
       "     0.0       0.0      0.0      0.0         0.0   0.0        0.0\n",
       "     0.0       0.0      0.0      0.0      1806.86  0.0        4.51715e5"
      ]
     },
     "execution_count": 27,
     "metadata": {},
     "output_type": "execute_result"
    }
   ],
   "source": [
    "res[\"opt_x\"]"
   ]
  },
  {
   "cell_type": "code",
   "execution_count": null,
   "id": "3d04e380",
   "metadata": {},
   "outputs": [],
   "source": []
  }
 ],
 "metadata": {
  "kernelspec": {
   "display_name": "Julia 1.8.3",
   "language": "julia",
   "name": "julia-1.8"
  },
  "language_info": {
   "file_extension": ".jl",
   "mimetype": "application/julia",
   "name": "julia",
   "version": "1.8.3"
  }
 },
 "nbformat": 4,
 "nbformat_minor": 5
}
