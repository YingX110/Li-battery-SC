{
 "cells": [
  {
   "cell_type": "code",
   "execution_count": 1,
   "id": "5edf3ebd",
   "metadata": {},
   "outputs": [],
   "source": [
    "using JuMP, Gurobi\n",
    "using CSV, LinearAlgebra, DataFrames\n",
    "using Plots\n",
    "using DelimitedFiles"
   ]
  },
  {
   "cell_type": "code",
   "execution_count": 2,
   "id": "93d2a5ce",
   "metadata": {},
   "outputs": [],
   "source": [
    "#load social and ecological data and orgnize \n",
    "FL = repeat([Float64], inner=15)\n",
    "dtype = append!([String], FL);\n",
    "\n",
    "regional_EF = CSV.File(\"C:/Users/bourg/.julia/environments/batterySC/Li-battery-SC/data/social/new_EF_SC1.csv\",header=1,delim=\",\", types=dtype) |> DataFrame    \n",
    "capacity = CSV.File(\"C:/Users/bourg/.julia/environments/batterySC/Li-battery-SC/data/social/capacity2.csv\",header=1,delim=\",\", types=dtype) |> DataFrame    \n",
    "distance = CSV.File(\"C:/Users/bourg/.julia/environments/batterySC/Li-battery-SC/data/social/distance.csv\",header=1,delim=\",\") |> DataFrame \n",
    "LCA_model = CSV.File(\"C:/Users/bourg/.julia/environments/batterySC/Li-battery-SC/data/social/LCA_model2.csv\",header=1,delim=\",\") |> DataFrame \n",
    "D_Dsoc = CSV.File(\"C:/Users/bourg/.julia/environments/batterySC/Li-battery-SC/data/social/D_Dsoc1.csv\",header=1,delim=\",\") |> DataFrame\n",
    "GDP = CSV.File(\"C:/Users/bourg/.julia/environments/batterySC/Li-battery-SC/data/social/GDP.csv\",header=1,delim=\",\") |> DataFrame;\n",
    "emi_sink = CSV.File(\"C:/Users/bourg/.julia/environments/batterySC/Li-battery-SC/data/SC_regional/emission_sink1.csv\",header=1,delim=\",\") |> DataFrame;"
   ]
  },
  {
   "cell_type": "code",
   "execution_count": 3,
   "id": "5118b2b5",
   "metadata": {},
   "outputs": [],
   "source": [
    "cell_demand = 0.001*164.98*(1.369*1e6)*2           # annual demand of Li battery for tesla (1.369M EV/yr, ~2 NMC111 pack/EV, 164.98 kg/pack (35kwh/pack), 80~100 kWh per EV)\n",
    "\n",
    "global_sink = 1.099e10                        # global pub (ocean) CO2 sequestration (ton/yr)\n",
    "global_sink_tot = 2.236e10                  # global total (ocean+land) CO2 sequestration (ton/yr)\n",
    "global_emi = 3.53e10                          # global CO2 emission (ton/yr)\n",
    "global_gdp = 96882e9                          # 2021 global GDP ($/yr)\n",
    "es_ratio = global_sink/global_emi\n",
    "es_ratio_tot = global_sink_tot/global_emi\n",
    "emission_c = emi_sink[!, \"emission\"]          # national CO2 emission (ton/yr)\n",
    "sink_c = emi_sink[!, \"sink ton/yr\"]           # national CO2 sink (ton/yr)\n",
    "\n",
    "# D = D_Dsoc[!, \"D\"]          # national CO2 emission (ton/yr)\n",
    "Dsoc = D_Dsoc[!, \"Dsoc ton/yr\"]           # national CO2 sink (ton/yr)\n",
    "\n",
    "EF_trans = 1.005/10000                        # ton CO2/km*ton (The average freight truck in the U.S. emits 161.8 grams of CO2 per ton-mile)\n",
    "process = LCA_model[!,\"process\"]\n",
    "countries = capacity[!,\"country\"]\n",
    "ncty = size(countries,1)                          # No. of countries\n",
    "nproc = size(process,1);                          # No. of processes \n",
    "\n",
    "mkt_loc = findfirst(isequal(\"United States\"), countries)\n",
    "mkt_proc = findfirst(isequal(\"battery\"), process)\n",
    "\n",
    "# seperate model\n",
    "cathode = collect(1:4)\n",
    "cell = collect(5:10)\n",
    "noncell = [12,13]\n",
    "battery = [11,14]\n",
    "scaler = LCA_model[!,\"scaler\"]\n",
    "price = LCA_model[!,\"price (usd/ton product)\"]\n",
    "vGDP = GDP[!,\"GDP usd\"];"
   ]
  },
  {
   "cell_type": "code",
   "execution_count": 114,
   "id": "e6d8b773",
   "metadata": {},
   "outputs": [],
   "source": [
    "# penalty = 10000 # ton/yr\n",
    "penalty = 6; # ton/yr"
   ]
  },
  {
   "cell_type": "code",
   "execution_count": 5,
   "id": "d326e8f0",
   "metadata": {},
   "outputs": [],
   "source": [
    "up_cath = scaler[1:4] * scaler[5] * scaler[11]\n",
    "up_cell = scaler[5:10] * scaler[11]\n",
    "cell_sef = scaler[11]\n",
    "up_noncell = scaler[12:13] * scaler[14]\n",
    "noncell_sef = scaler[14]\n",
    "battery_sef = scaler[15];"
   ]
  },
  {
   "cell_type": "code",
   "execution_count": 6,
   "id": "fcfae35d",
   "metadata": {},
   "outputs": [
    {
     "data": {
      "text/plain": [
       "15-element Vector{Float64}:\n",
       "  49670.291589732\n",
       "  69512.470736544\n",
       "  67696.846500888\n",
       "  69382.78329114\n",
       " 129687.44540400001\n",
       "  72376.074329\n",
       "   5239.896784\n",
       "   1309.974196\n",
       "  31111.887154999997\n",
       "  60258.81301599999\n",
       " 327493.549\n",
       "   2258.5762\n",
       "   1806.86096\n",
       " 451715.24\n",
       " 451715.24"
      ]
     },
     "execution_count": 6,
     "metadata": {},
     "output_type": "execute_result"
    }
   ],
   "source": [
    "ipt = []\n",
    "ipt = vcat(up_cath, up_cell, cell_sef, up_noncell, noncell_sef, battery_sef) .* cell_demand\n",
    "input_amount = ipt"
   ]
  },
  {
   "cell_type": "code",
   "execution_count": 108,
   "id": "b548eb11",
   "metadata": {},
   "outputs": [
    {
     "data": {
      "text/plain": [
       "7-element Vector{Float64}:\n",
       " 225857.62\n",
       " 316200.66799999995\n",
       " 361372.19200000004\n",
       " 451715.24\n",
       " 496886.764\n",
       " 542058.288\n",
       " 632401.3359999999"
      ]
     },
     "execution_count": 108,
     "metadata": {},
     "output_type": "execute_result"
    }
   ],
   "source": [
    "D = [0.5, 0.7, 0.8, 1, 1.1, 1.2, 1.4]*cell_demand"
   ]
  },
  {
   "cell_type": "markdown",
   "id": "2f814c33",
   "metadata": {},
   "source": [
    "### Solve subproblem to get dual $\\pi$ and $\\alpha$"
   ]
  },
  {
   "cell_type": "code",
   "execution_count": 115,
   "id": "05f2e73c",
   "metadata": {},
   "outputs": [
    {
     "data": {
      "text/plain": [
       "reformu_pi (generic function with 1 method)"
      ]
     },
     "execution_count": 115,
     "metadata": {},
     "output_type": "execute_result"
    }
   ],
   "source": [
    "function reformu_pi(col_idx, proc_idx, ls_cstr)\n",
    "    pi_matrix = zeros(ncty, nproc)\n",
    "    pi = [getdual(con) for con in ls_cstr]\n",
    "    B = []\n",
    "    for k in proc_idx\n",
    "        append!(B, scaler[k] * ones(ncty))\n",
    "    end\n",
    "    pi = pi .* B\n",
    "    pi = reshape(pi, ncty, size(proc_idx)[1])\n",
    "    pi_matrix[:,col_idx] = sum(pi, dims=2)\n",
    "    \n",
    "    return pi_matrix\n",
    "end\n",
    "\n",
    "\n",
    "# cathode_pi = zeros(ncty, nproc)\n",
    "# cth_pi = [getdual(con) for con in cstr_cth]\n",
    "# cth_B = []\n",
    "# for k in cathode\n",
    "#     push!(cth_B, scaler[k] * ones(ncty))\n",
    "# end\n",
    "# cth_pi = cth_pi .* cth_B\n",
    "# cth_pi = reshape(cth_pi, ncty, size(cathode)[1])\n",
    "# cathode_pi[:,5] = sum(cth_pi, 2)"
   ]
  },
  {
   "cell_type": "code",
   "execution_count": 116,
   "id": "82fcf67f",
   "metadata": {},
   "outputs": [
    {
     "data": {
      "text/plain": [
       "subprob (generic function with 1 method)"
      ]
     },
     "execution_count": 116,
     "metadata": {},
     "output_type": "execute_result"
    }
   ],
   "source": [
    "function subprob(x_hat, d)\n",
    "    model = Model(Gurobi.Optimizer)\n",
    "    set_silent(model)\n",
    "    @variable(model, y[1:ncty, 1:ncty, 1:nproc] >= 0)\n",
    "    @variable(model, s >= 0)\n",
    "\n",
    "    # node output flow constraint\n",
    "    cstr_op = [@constraint(model, sum(y[i,j,k] for j in 1:ncty) == x_hat[i,k]) for k in 1:nproc for i in 1:ncty]\n",
    "\n",
    "    # cathode LCA constraints (index=5)\n",
    "    cstr_cth = [@constraint(model, sum(y[i,j,k] for i in 1:ncty) == x_hat[j,5]*scaler[k]) for k in cathode for j in 1:ncty]\n",
    "\n",
    "    # cell LCA constraints (index=11)\n",
    "    cstr_cell = [@constraint(model, sum(y[i,j,k] for i in 1:ncty) == x_hat[j,11]*scaler[k]) for k in cell for j in 1:ncty]\n",
    "\n",
    "    # non cell LCA constraints (index=14)\n",
    "    cstr_noncell = [@constraint(model, sum(y[i,j,k] for i in 1:ncty) == x_hat[j,14]*scaler[k]) for k in noncell for j in 1:ncty]\n",
    "\n",
    "    # battery LCA constraints (index=15)\n",
    "    cstr_battery = [@constraint(model, sum(y[i,j,k] for i in 1:ncty) == x_hat[j,15]*scaler[k]) for k in battery for j in 1:ncty]\n",
    "    \n",
    "    @constraint(model, cstr_alp, sum(y[i,mkt_loc,mkt_proc] for i in 1:ncty) + s >= d)\n",
    "    for j in 1:ncty-1\n",
    "        @constraint(model, sum(y[i,j,mkt_proc] for i in 1:ncty) == 0)\n",
    "    end \n",
    "    \n",
    "    \n",
    "    #######################\n",
    "    tranD = Vector{AffExpr}(undef, ncty)\n",
    "    tranS= Vector{AffExpr}(undef, ncty)\n",
    "    for j in 1:ncty\n",
    "        arc_emi = 0\n",
    "        for i in 1:ncty\n",
    "            amount = sum(y[i,j,k] for k in 1:nproc)\n",
    "            arc_emi += (amount * distance[!, 2:end][i,j] * EF_trans)\n",
    "        end\n",
    "        tranD[j] = arc_emi\n",
    "        tranS[j] = arc_emi * (sink_c[j]/emission_c[j] + es_ratio)\n",
    "    end\n",
    "    \n",
    "    \n",
    "    @objective(model, Min, sum(tranD-tranS) + s*penalty)\n",
    "    JuMP.optimize!(model)\n",
    "    \n",
    "    qy_hat = JuMP.objective_value(model)\n",
    "    sub_y = JuMP.value.(y)\n",
    "    sub_s = JuMP.value.(s)\n",
    "    \n",
    "    \n",
    "    ####################### \n",
    "    op_pi = [getdual(con) for con in cstr_op]\n",
    "    op_pi = reshape(op_pi, ncty, nproc)\n",
    "\n",
    "    cth_pi = reformu_pi(5, cathode, cstr_cth)\n",
    "    cell_pi = reformu_pi(11, cell, cstr_cell)\n",
    "    noncell_pi = reformu_pi(14, noncell, cstr_noncell)\n",
    "    battery_pi = reformu_pi(15, battery, cstr_battery)\n",
    "    pi_matrix = op_pi + cth_pi + cell_pi + noncell_pi + battery_pi\n",
    "    \n",
    "    alp = getdual(cstr_alp)\n",
    "\n",
    "    \n",
    "    #######################\n",
    "    result = Dict([\"qyhat\"=>qy_hat, \"y_opt\"=>sub_y, \"s_opt\"=>sub_s, \"pi\"=>pi_matrix, \"alp\"=>alp]);\n",
    "    return result\n",
    "    \n",
    "end\n"
   ]
  },
  {
   "cell_type": "markdown",
   "id": "01a4df41",
   "metadata": {},
   "source": [
    "### Solve master problem"
   ]
  },
  {
   "cell_type": "code",
   "execution_count": 117,
   "id": "3ec63d44",
   "metadata": {},
   "outputs": [
    {
     "data": {
      "text/plain": [
       "-1.0e8"
      ]
     },
     "execution_count": 117,
     "metadata": {},
     "output_type": "execute_result"
    }
   ],
   "source": [
    "M = -1e8"
   ]
  },
  {
   "cell_type": "code",
   "execution_count": 118,
   "id": "bd4fb20b",
   "metadata": {},
   "outputs": [
    {
     "data": {
      "text/plain": [
       "masterprob (generic function with 1 method)"
      ]
     },
     "execution_count": 118,
     "metadata": {},
     "output_type": "execute_result"
    }
   ],
   "source": [
    "function masterprob(cuts)\n",
    "    model = Model(Gurobi.Optimizer)\n",
    "    set_silent(model)\n",
    "    @variable(model, x[1:ncty, 1:nproc] >= 0)\n",
    "    @variable(model, theta >= M)\n",
    "    \n",
    "    for k in 1:nproc\n",
    "        for i in 1:ncty\n",
    "            @constraint(model, x[i,k] <= capacity[!, 2:end][i,k])\n",
    "        end\n",
    "    end\n",
    "    for k in 1:nproc\n",
    "        @constraint(model, sum(x[i,k] for i in 1:ncty) == input_amount[k])\n",
    "    end\n",
    "    \n",
    "    proD = (x .* Matrix(regional_EF[:,2:end])) * ones(nproc,1) \n",
    "    proM = x * price\n",
    "\n",
    "    pro_sink = zeros(ncty, nproc)\n",
    "    for k in 1:nproc\n",
    "        for i in 1:ncty\n",
    "            pro_sink[i,k] = regional_EF[i, k+1] * (sink_c[i]/emission_c[i] + es_ratio)\n",
    "        end\n",
    "    end\n",
    "    proS = (x.*pro_sink)*ones(nproc,1) \n",
    "    \n",
    "    if cuts != []\n",
    "        for cut in cuts\n",
    "            G = cut[\"gradient\"]\n",
    "            g = cut[\"intersection\"]\n",
    "            @constraint(model, sum(x .* G) + theta >= g)\n",
    "        end\n",
    "    end\n",
    "    \n",
    "    @objective(model, Min, sum(proD-proS)+theta)\n",
    "    JuMP.optimize!(model);\n",
    "    \n",
    "    x_hat = JuMP.value.(x)\n",
    "    theta_hat = JuMP.value.(theta)\n",
    "    z_lb = JuMP.objective_value(model)\n",
    "    \n",
    "    result = Dict([\"x_hat\"=>x_hat, \"z_lb\"=>z_lb])\n",
    "    return result\n",
    "end"
   ]
  },
  {
   "cell_type": "markdown",
   "id": "34c32338",
   "metadata": {},
   "source": [
    "### Generate cuts"
   ]
  },
  {
   "cell_type": "code",
   "execution_count": 119,
   "id": "a7595372",
   "metadata": {},
   "outputs": [
    {
     "data": {
      "text/plain": [
       "add_cuts (generic function with 1 method)"
      ]
     },
     "execution_count": 119,
     "metadata": {},
     "output_type": "execute_result"
    }
   ],
   "source": [
    "function add_cuts(x, D)\n",
    "    G = [] # gradient\n",
    "    g = 0 # intersection\n",
    "    qy = 0\n",
    "    \n",
    "    for d in D\n",
    "        res = subprob(x, d)\n",
    "        gradient = -1 * res[\"pi\"]\n",
    "        \n",
    "        push!(G, gradient)\n",
    "        g += d * res[\"alp\"]\n",
    "        qy += res[\"qyhat\"]\n",
    "    end\n",
    "    \n",
    "    proD = (x .* Matrix(regional_EF[:,2:end])) * ones(nproc,1) \n",
    "    pro_sink = zeros(ncty, nproc)\n",
    "    for k in 1:nproc\n",
    "        for i in 1:ncty\n",
    "            pro_sink[i,k] = regional_EF[i, k+1] * (sink_c[i]/emission_c[i] + es_ratio)\n",
    "        end\n",
    "    end\n",
    "    proS = (x.*pro_sink)*ones(nproc,1) \n",
    "    z_hat = sum(proD - proS) + qy/size(D)[1]\n",
    "    Exp_G = sum(G) / size(D)[1]\n",
    "    Exp_g = sum(g) / size(D)[1]\n",
    "    \n",
    "    cut = Dict([\"gradient\"=>Exp_G, \"intersection\"=>z_lb])\n",
    "    return cut, z_hat\n",
    "end\n"
   ]
  },
  {
   "cell_type": "markdown",
   "id": "c9c29956",
   "metadata": {},
   "source": [
    "### L Shape Method"
   ]
  },
  {
   "cell_type": "code",
   "execution_count": 120,
   "id": "f6fba313",
   "metadata": {},
   "outputs": [
    {
     "data": {
      "text/plain": [
       "main (generic function with 1 method)"
      ]
     },
     "execution_count": 120,
     "metadata": {},
     "output_type": "execute_result"
    }
   ],
   "source": [
    "function main(toler)\n",
    "    i = 0\n",
    "    z_ub = 1e7\n",
    "    x_opt = 0\n",
    "    \n",
    "    cuts = []\n",
    "    res0 = masterprob(cuts)\n",
    "    x_hat = res0[\"x_hat\"]\n",
    "    z_lb = res0[\"z_lb\"]\n",
    "    \n",
    "    while (z_ub - z_lb) > toler * min(abs(z_ub), abs(z_lb))\n",
    "        new_cut, z_hat = add_cuts(x_hat, D)\n",
    "        if z_hat < z_ub\n",
    "            z_ub = z_hat\n",
    "            x_opt = x_hat\n",
    "        end\n",
    "        \n",
    "        push!(cuts, new_cut)\n",
    "        \n",
    "        res1 = masterprob(cuts)\n",
    "        z_lb = res1[\"z_lb\"]\n",
    "        x_hat = res1[\"x_hat\"]\n",
    "        \n",
    "        i += 1\n",
    "    end\n",
    "    \n",
    "    println(z_lb, z_ub, x_opt, i)\n",
    "    \n",
    "end"
   ]
  },
  {
   "cell_type": "code",
   "execution_count": 121,
   "id": "b0a81c94",
   "metadata": {},
   "outputs": [
    {
     "name": "stdout",
     "output_type": "stream",
     "text": [
      "Academic license - for non-commercial use only - expires 2023-11-27\r\n"
     ]
    }
   ],
   "source": [
    "i = 0\n",
    "z_ub = 1e7\n",
    "x_opt = 0\n",
    "\n",
    "cuts = []\n",
    "res0 = masterprob(cuts)\n",
    "x_hat = res0[\"x_hat\"]\n",
    "z_lb = res0[\"z_lb\"];"
   ]
  },
  {
   "cell_type": "code",
   "execution_count": 122,
   "id": "2fb12bd6",
   "metadata": {},
   "outputs": [
    {
     "data": {
      "text/plain": [
       "([6200.0 0.0 … 0.0 0.0; 1770.291589731998 0.0 … 0.0 0.0; … ; 0.0 0.0 … 0.0 0.0; 0.0 0.0 … 0.0 451715.24], -1.0838412704242925e8)"
      ]
     },
     "execution_count": 122,
     "metadata": {},
     "output_type": "execute_result"
    }
   ],
   "source": [
    "x_hat, z_lb"
   ]
  },
  {
   "cell_type": "code",
   "execution_count": 102,
   "id": "00e2f29c",
   "metadata": {},
   "outputs": [
    {
     "data": {
      "text/plain": [
       "0"
      ]
     },
     "execution_count": 102,
     "metadata": {},
     "output_type": "execute_result"
    }
   ],
   "source": [
    "G = [] # gradient\n",
    "g = 0 # intersection\n",
    "qy = 0"
   ]
  },
  {
   "cell_type": "code",
   "execution_count": 87,
   "id": "602f944a",
   "metadata": {},
   "outputs": [
    {
     "name": "stdout",
     "output_type": "stream",
     "text": [
      "Academic license - for non-commercial use only - expires 2023-11-27\r\n",
      "Academic license - for non-commercial use only - expires 2023-11-27\r\n",
      "Academic license - for non-commercial use only - expires 2023-11-27\r\n",
      "Academic license - for non-commercial use only - expires 2023-11-27\r\n",
      "Academic license - for non-commercial use only - expires 2023-11-27\r\n",
      "Academic license - for non-commercial use only - expires 2023-11-27\r\n"
     ]
    },
    {
     "data": {
      "text/plain": [
       "1-element Vector{Any}:\n",
       " Dict{String, Any}(\"gradient\" => [-0.12781186121027854 0.08988994647713167 … 2.2113261655335346 3.619925219844523; -0.16449709458296913 -0.0 … 11.774861570087412 8.750448032779437; … ; 2.6613651079346035 1.8976178674364448 … 14.600020319491604 11.441599432116169; -0.0 -0.0 … 5.658420887375434 2.232638351401434], \"intersection\" => -1.0838412704242925e8)"
      ]
     },
     "execution_count": 87,
     "metadata": {},
     "output_type": "execute_result"
    }
   ],
   "source": [
    "new_cut, z_hat = add_cuts(x_hat, D)\n",
    "if z_hat < z_ub\n",
    "    z_ub = z_hat\n",
    "    x_opt = x_hat\n",
    "end\n",
    "\n",
    "push!(cuts, new_cut)"
   ]
  },
  {
   "cell_type": "code",
   "execution_count": 88,
   "id": "be37995a",
   "metadata": {},
   "outputs": [
    {
     "name": "stdout",
     "output_type": "stream",
     "text": [
      "Academic license - for non-commercial use only - expires 2023-11-27\r\n"
     ]
    },
    {
     "data": {
      "text/plain": [
       "Dict{String, Any} with 2 entries:\n",
       "  \"x_hat\" => [6200.0 0.0 … 0.0 0.0; 1770.29 0.0 … 0.0 0.0; … ; 0.0 0.0 … 0.0 0.…\n",
       "  \"z_lb\"  => -1.08384e8"
      ]
     },
     "execution_count": 88,
     "metadata": {},
     "output_type": "execute_result"
    }
   ],
   "source": [
    "res = masterprob(cuts)"
   ]
  },
  {
   "cell_type": "code",
   "execution_count": 99,
   "id": "b994d09e",
   "metadata": {},
   "outputs": [
    {
     "name": "stdout",
     "output_type": "stream",
     "text": [
      "Academic license - for non-commercial use only - expires 2023-11-27\r\n",
      "Gurobi Optimizer version 9.1.2 build v9.1.2rc0 (win64)\r\n",
      "Thread count: 6 physical cores, 12 logical processors, using up to 12 threads\r\n",
      "Optimize a model with 465 rows, 451 columns and 900 nonzeros\r\n",
      "Model fingerprint: 0x1d9e757c\r\n",
      "Coefficient statistics:\r\n",
      "  Matrix range     [1e+00, 1e+00]\r\n",
      "  Objective range  [7e-03, 3e+02]\r\n",
      "  Bounds range     [1e+08, 1e+08]\r\n",
      "  RHS range        [2e+02, 1e+11]\r\n",
      "Warning: Model contains large rhs\r\n",
      "         Consider reformulating model or setting NumericFocus parameter\r\n",
      "         to avoid numerical issues.\r\n",
      "Presolve removed 465 rows and 451 columns\r\n",
      "Presolve time: 0.00s\r\n",
      "Presolve: All rows and columns removed\r\n",
      "Iteration    Objective       Primal Inf.    Dual Inf.      Time\r\n",
      "       0   -1.0838413e+08   0.000000e+00   0.000000e+00      0s\r\n",
      "\r\n",
      "Solved in 0 iterations and 0.00 seconds\r\n",
      "Optimal objective -1.083841270e+08\r\n",
      "\r\n",
      "User-callback calls 33, time in user-callback 0.00 sec\r\n"
     ]
    }
   ],
   "source": [
    "model = Model(Gurobi.Optimizer)\n",
    "@variable(model, x[1:ncty, 1:nproc] >= 0)\n",
    "@variable(model, theta >= -1e8)\n",
    "\n",
    "for k in 1:nproc\n",
    "    for i in 1:ncty\n",
    "        @constraint(model, x[i,k] <= capacity[!, 2:end][i,k])\n",
    "    end\n",
    "end\n",
    "for k in 1:nproc\n",
    "    @constraint(model, sum(x[i,k] for i in 1:ncty) == input_amount[k])\n",
    "end\n",
    "\n",
    "proD = (x .* Matrix(regional_EF[:,2:end])) * ones(nproc,1) \n",
    "proM = x * price\n",
    "\n",
    "pro_sink = zeros(ncty, nproc)\n",
    "for k in 1:nproc\n",
    "    for i in 1:ncty\n",
    "        pro_sink[i,k] = regional_EF[i, k+1] * (sink_c[i]/emission_c[i] + es_ratio)\n",
    "    end\n",
    "end\n",
    "proS = (x.*pro_sink)*ones(nproc,1) \n",
    "\n",
    "@objective(model, Min, sum(proD-proS)+theta)\n",
    "JuMP.optimize!(model)"
   ]
  },
  {
   "cell_type": "code",
   "execution_count": 95,
   "id": "bde95a7f",
   "metadata": {},
   "outputs": [
    {
     "data": {
      "text/plain": [
       "-1.0838412704242925e8"
      ]
     },
     "execution_count": 95,
     "metadata": {},
     "output_type": "execute_result"
    }
   ],
   "source": [
    "cut = cuts[1]\n",
    "G = cut[\"gradient\"]\n",
    "g = cut[\"intersection\"]\n",
    "# @constraint(model, sum(x .* G) + theta >= g)"
   ]
  },
  {
   "cell_type": "code",
   "execution_count": null,
   "id": "1b8bd635",
   "metadata": {},
   "outputs": [],
   "source": [
    "model = Model(Gurobi.Optimizer)\n",
    "@variable(model, x[1:ncty, 1:nproc] >= 0)\n",
    "@variable(model, theta >= M)\n",
    "\n",
    "for k in 1:nproc\n",
    "    for i in 1:ncty\n",
    "        @constraint(model, x[i,k] <= capacity[!, 2:end][i,k])\n",
    "    end\n",
    "end\n",
    "for k in 1:nproc\n",
    "    @constraint(model, sum(x[i,k] for i in 1:ncty) == input_amount[k])\n",
    "end\n",
    "\n",
    "proD = (x .* Matrix(regional_EF[:,2:end])) * ones(nproc,1) \n",
    "proM = x * price\n",
    "\n",
    "pro_sink = zeros(ncty, nproc)\n",
    "for k in 1:nproc\n",
    "    for i in 1:ncty\n",
    "        pro_sink[i,k] = regional_EF[i, k+1] * (sink_c[i]/emission_c[i] + es_ratio)\n",
    "    end\n",
    "end\n",
    "proS = (x.*pro_sink)*ones(nproc,1) \n",
    "\n",
    "@objective(model, Min, sum(proD-proS)+theta)\n",
    "JuMP.optimize!(model)"
   ]
  },
  {
   "cell_type": "code",
   "execution_count": 104,
   "id": "04a1de85",
   "metadata": {},
   "outputs": [
    {
     "name": "stdout",
     "output_type": "stream",
     "text": [
      "Academic license - for non-commercial use only - expires 2023-11-27\r\n"
     ]
    },
    {
     "data": {
      "text/plain": [
       "Dict{String, Any} with 5 entries:\n",
       "  \"y_opt\" => [0.0 0.0 … 0.0 0.0; 0.0 0.0 … 0.0 0.0; … ; 0.0 0.0 … 0.0 0.0; 0.0 …\n",
       "  \"s_opt\" => 0.0\n",
       "  \"pi\"    => [0.127812 -0.0898899 … -2.21133 -2.38334; 0.164497 0.0 … -11.7749 …\n",
       "  \"alp\"   => 0.0\n",
       "  \"qyhat\" => 1.96575e5"
      ]
     },
     "execution_count": 104,
     "metadata": {},
     "output_type": "execute_result"
    }
   ],
   "source": [
    "res = subprob(x_hat, D[1])"
   ]
  },
  {
   "cell_type": "code",
   "execution_count": 107,
   "id": "c430d6ab",
   "metadata": {},
   "outputs": [
    {
     "name": "stdout",
     "output_type": "stream",
     "text": [
      "Academic license - for non-commercial use only - expires 2023-11-27\r\n"
     ]
    },
    {
     "data": {
      "text/plain": [
       "Dict{String, Any} with 5 entries:\n",
       "  \"y_opt\" => [0.0 0.0 … 0.0 0.0; 0.0 0.0 … 0.0 0.0; … ; 0.0 0.0 … 0.0 0.0; 0.0 …\n",
       "  \"s_opt\" => 45171.5\n",
       "  \"pi\"    => [0.127812 -0.0898899 … -2.21133 -4.85651; 0.164497 0.0 … -11.7749 …\n",
       "  \"alp\"   => 5.0\n",
       "  \"qyhat\" => 4.22433e5"
      ]
     },
     "execution_count": 107,
     "metadata": {},
     "output_type": "execute_result"
    }
   ],
   "source": [
    "res = subprob(x_hat, D[5])"
   ]
  },
  {
   "cell_type": "code",
   "execution_count": 123,
   "id": "eebe0c58",
   "metadata": {},
   "outputs": [
    {
     "name": "stdout",
     "output_type": "stream",
     "text": [
      "Academic license - for non-commercial use only - expires 2023-11-27\r\n",
      "Academic license - for non-commercial use only - expires 2023-11-27\r\n",
      "Academic license - for non-commercial use only - expires 2023-11-27\r\n",
      "Academic license - for non-commercial use only - expires 2023-11-27\r\n",
      "Academic license - for non-commercial use only - expires 2023-11-27\r\n",
      "Academic license - for non-commercial use only - expires 2023-11-27\r\n",
      "Academic license - for non-commercial use only - expires 2023-11-27\r\n"
     ]
    }
   ],
   "source": [
    "G = [] \n",
    "g = 0\n",
    "qy = 0\n",
    "lsal = []\n",
    "\n",
    "for d in D\n",
    "    res = subprob(x_hat, d)\n",
    "    gradient = -1 * res[\"pi\"]\n",
    "\n",
    "    push!(G, gradient)\n",
    "    push!(lsal, res[\"alp\"])\n",
    "    g += d * res[\"alp\"]\n",
    "    qy += res[\"qyhat\"]\n",
    "end"
   ]
  },
  {
   "cell_type": "code",
   "execution_count": 124,
   "id": "f2ade176",
   "metadata": {},
   "outputs": [
    {
     "data": {
      "text/plain": [
       "7-element Vector{Any}:\n",
       " 0.0\n",
       " 0.0\n",
       " 0.0\n",
       " 6.0\n",
       " 6.0\n",
       " 6.0\n",
       " 6.0"
      ]
     },
     "execution_count": 124,
     "metadata": {},
     "output_type": "execute_result"
    }
   ],
   "source": [
    "lsal"
   ]
  },
  {
   "cell_type": "code",
   "execution_count": 125,
   "id": "65c8107b",
   "metadata": {},
   "outputs": [
    {
     "name": "stdout",
     "output_type": "stream",
     "text": [
      "Academic license - for non-commercial use only - expires 2023-11-27\r\n"
     ]
    },
    {
     "data": {
      "text/plain": [
       "Dict{String, Any} with 5 entries:\n",
       "  \"y_opt\" => [0.0 0.0 … 0.0 0.0; 0.0 0.0 … 0.0 0.0; … ; 0.0 0.0 … 0.0 0.0; 0.0 …\n",
       "  \"s_opt\" => 0.0\n",
       "  \"pi\"    => [0.127812 -0.0898899 … -2.21133 -2.38334; 0.164497 0.0 … -11.7749 …\n",
       "  \"alp\"   => 0.0\n",
       "  \"qyhat\" => 1.96575e5"
      ]
     },
     "execution_count": 125,
     "metadata": {},
     "output_type": "execute_result"
    }
   ],
   "source": [
    "subprob(x_hat, D[1])"
   ]
  },
  {
   "cell_type": "code",
   "execution_count": 126,
   "id": "57e4bdf7",
   "metadata": {},
   "outputs": [
    {
     "name": "stdout",
     "output_type": "stream",
     "text": [
      "Academic license - for non-commercial use only - expires 2023-11-27\r\n"
     ]
    },
    {
     "data": {
      "text/plain": [
       "Dict{String, Any} with 5 entries:\n",
       "  \"y_opt\" => [0.0 0.0 … 0.0 0.0; 0.0 0.0 … 0.0 0.0; … ; 0.0 0.0 … 0.0 0.0; 0.0 …\n",
       "  \"s_opt\" => 0.0\n",
       "  \"pi\"    => [0.127812 -0.0898899 … -2.21133 -2.38334; 0.164497 0.0 … -11.7749 …\n",
       "  \"alp\"   => 0.0\n",
       "  \"qyhat\" => 1.96575e5"
      ]
     },
     "execution_count": 126,
     "metadata": {},
     "output_type": "execute_result"
    }
   ],
   "source": [
    "subprob(x_hat, D[2])"
   ]
  },
  {
   "cell_type": "code",
   "execution_count": 127,
   "id": "c80e402f",
   "metadata": {},
   "outputs": [
    {
     "name": "stdout",
     "output_type": "stream",
     "text": [
      "Academic license - for non-commercial use only - expires 2023-11-27\r\n"
     ]
    },
    {
     "data": {
      "text/plain": [
       "Dict{String, Any} with 5 entries:\n",
       "  \"y_opt\" => [0.0 0.0 … 0.0 0.0; 0.0 0.0 … 0.0 0.0; … ; 0.0 0.0 … 0.0 0.0; 0.0 …\n",
       "  \"s_opt\" => 0.0\n",
       "  \"pi\"    => [0.127812 -0.0898899 … -2.21133 -2.38334; 0.164497 0.0 … -11.7749 …\n",
       "  \"alp\"   => 0.0\n",
       "  \"qyhat\" => 1.96575e5"
      ]
     },
     "execution_count": 127,
     "metadata": {},
     "output_type": "execute_result"
    }
   ],
   "source": [
    "subprob(x_hat, D[3])"
   ]
  },
  {
   "cell_type": "code",
   "execution_count": 128,
   "id": "eea7971a",
   "metadata": {},
   "outputs": [
    {
     "name": "stdout",
     "output_type": "stream",
     "text": [
      "Academic license - for non-commercial use only - expires 2023-11-27\r\n"
     ]
    },
    {
     "data": {
      "text/plain": [
       "Dict{String, Any} with 5 entries:\n",
       "  \"y_opt\" => [0.0 0.0 … 0.0 0.0; 0.0 0.0 … 0.0 0.0; … ; 0.0 0.0 … 0.0 0.0; 0.0 …\n",
       "  \"s_opt\" => 0.0\n",
       "  \"pi\"    => [0.127812 -0.0898899 … -2.21133 -5.85651; 0.164497 0.0 … -11.7749 …\n",
       "  \"alp\"   => 6.0\n",
       "  \"qyhat\" => 1.96575e5"
      ]
     },
     "execution_count": 128,
     "metadata": {},
     "output_type": "execute_result"
    }
   ],
   "source": [
    "subprob(x_hat, D[4])"
   ]
  },
  {
   "cell_type": "code",
   "execution_count": 132,
   "id": "ff1e0cd0",
   "metadata": {},
   "outputs": [
    {
     "name": "stdout",
     "output_type": "stream",
     "text": [
      "Academic license - for non-commercial use only - expires 2023-11-27\r\n"
     ]
    },
    {
     "data": {
      "text/plain": [
       "Dict{String, Any} with 5 entries:\n",
       "  \"y_opt\" => [0.0 0.0 … 0.0 0.0; 0.0 0.0 … 0.0 0.0; … ; 0.0 0.0 … 0.0 0.0; 0.0 …\n",
       "  \"s_opt\" => 45171.5\n",
       "  \"pi\"    => [0.127812 -0.0898899 … -2.21133 -5.85651; 0.164497 0.0 … -11.7749 …\n",
       "  \"alp\"   => 6.0\n",
       "  \"qyhat\" => 4.67604e5"
      ]
     },
     "execution_count": 132,
     "metadata": {},
     "output_type": "execute_result"
    }
   ],
   "source": [
    "subprob(x_hat, D[5])"
   ]
  },
  {
   "cell_type": "code",
   "execution_count": 133,
   "id": "60638d6a",
   "metadata": {},
   "outputs": [
    {
     "name": "stdout",
     "output_type": "stream",
     "text": [
      "Academic license - for non-commercial use only - expires 2023-11-27\r\n"
     ]
    },
    {
     "data": {
      "text/plain": [
       "Dict{String, Any} with 5 entries:\n",
       "  \"y_opt\" => [0.0 0.0 … 0.0 0.0; 0.0 0.0 … 0.0 0.0; … ; 0.0 0.0 … 0.0 0.0; 0.0 …\n",
       "  \"s_opt\" => 90343.0\n",
       "  \"pi\"    => [0.127812 -0.0898899 … -2.21133 -5.85651; 0.164497 0.0 … -11.7749 …\n",
       "  \"alp\"   => 6.0\n",
       "  \"qyhat\" => 7.38634e5"
      ]
     },
     "execution_count": 133,
     "metadata": {},
     "output_type": "execute_result"
    }
   ],
   "source": [
    "subprob(x_hat, D[6])"
   ]
  },
  {
   "cell_type": "code",
   "execution_count": 1,
   "id": "152de35b",
   "metadata": {},
   "outputs": [
    {
     "data": {
      "text/plain": [
       "903430.48"
      ]
     },
     "execution_count": 1,
     "metadata": {},
     "output_type": "execute_result"
    }
   ],
   "source": [
    "T = 451715.24*2"
   ]
  },
  {
   "cell_type": "code",
   "execution_count": 2,
   "id": "1c09a423",
   "metadata": {},
   "outputs": [
    {
     "ename": "LoadError",
     "evalue": "UndefVarError: subprob not defined",
     "output_type": "error",
     "traceback": [
      "UndefVarError: subprob not defined",
      "",
      "Stacktrace:",
      " [1] top-level scope",
      "   @ In[2]:1",
      " [2] eval",
      "   @ .\\boot.jl:368 [inlined]",
      " [3] include_string(mapexpr::typeof(REPL.softscope), mod::Module, code::String, filename::String)",
      "   @ Base .\\loading.jl:1428"
     ]
    }
   ],
   "source": [
    "subprob(x_hat, T)"
   ]
  },
  {
   "cell_type": "markdown",
   "id": "d00d526c",
   "metadata": {},
   "source": [
    "----"
   ]
  },
  {
   "cell_type": "markdown",
   "id": "ce28295e",
   "metadata": {},
   "source": [
    "### Debug"
   ]
  },
  {
   "cell_type": "code",
   "execution_count": 57,
   "id": "3ecb75c0",
   "metadata": {},
   "outputs": [
    {
     "name": "stdout",
     "output_type": "stream",
     "text": [
      "Academic license - for non-commercial use only - expires 2023-11-27\r\n"
     ]
    },
    {
     "data": {
      "text/plain": [
       "-1.0838412704242925e8"
      ]
     },
     "execution_count": 57,
     "metadata": {},
     "output_type": "execute_result"
    }
   ],
   "source": [
    "i = 0\n",
    "z_ub = 1e7\n",
    "x_opt = 0\n",
    "\n",
    "cuts = []\n",
    "res0 = masterprob(cuts)\n",
    "x_hat = res0[\"x_hat\"]\n",
    "z_lb = res0[\"z_lb\"]\n"
   ]
  },
  {
   "cell_type": "code",
   "execution_count": 59,
   "id": "5f538395",
   "metadata": {},
   "outputs": [
    {
     "name": "stdout",
     "output_type": "stream",
     "text": [
      "Academic license - for non-commercial use only - expires 2023-11-27\r\n",
      "Academic license - for non-commercial use only - expires 2023-11-27\r\n",
      "Academic license - for non-commercial use only - expires 2023-11-27\r\n",
      "Academic license - for non-commercial use only - expires 2023-11-27\r\n",
      "Academic license - for non-commercial use only - expires 2023-11-27\r\n",
      "Academic license - for non-commercial use only - expires 2023-11-27\r\n"
     ]
    },
    {
     "data": {
      "text/plain": [
       "(Dict{String, Any}(\"gradient\" => [-0.12781186121027854 0.08988994647713167 … 2.2113261655335346 3.619925219844523; -0.16449709458296913 -0.0 … 11.774861570087412 8.750448032779437; … ; 2.6613651079346035 1.8976178674364448 … 14.600020319491604 11.441599432116169; -0.0 -0.0 … 5.658420887375434 2.232638351401434], \"intersection\" => -1.0838412704242925e8), -7.999337089810846e6)"
      ]
     },
     "execution_count": 59,
     "metadata": {},
     "output_type": "execute_result"
    }
   ],
   "source": [
    "new_cut, z_hat = get_cuts(x_hat, D)"
   ]
  },
  {
   "cell_type": "code",
   "execution_count": 64,
   "id": "938d6b62",
   "metadata": {},
   "outputs": [],
   "source": [
    "if z_hat < z_ub\n",
    "    z_ub = z_hat\n",
    "    x_opt = x_hat\n",
    "end"
   ]
  },
  {
   "cell_type": "code",
   "execution_count": 65,
   "id": "66d5e01d",
   "metadata": {},
   "outputs": [
    {
     "data": {
      "text/plain": [
       "1-element Vector{Any}:\n",
       " Dict{String, Any}(\"gradient\" => [-0.12781186121027854 0.08988994647713167 … 2.2113261655335346 3.619925219844523; -0.16449709458296913 -0.0 … 11.774861570087412 8.750448032779437; … ; 2.6613651079346035 1.8976178674364448 … 14.600020319491604 11.441599432116169; -0.0 -0.0 … 5.658420887375434 2.232638351401434], \"intersection\" => -1.0838412704242925e8)"
      ]
     },
     "execution_count": 65,
     "metadata": {},
     "output_type": "execute_result"
    }
   ],
   "source": [
    "push!(cuts, new_cut)"
   ]
  },
  {
   "cell_type": "code",
   "execution_count": 70,
   "id": "7e8da297",
   "metadata": {},
   "outputs": [
    {
     "name": "stdout",
     "output_type": "stream",
     "text": [
      "Academic license - for non-commercial use only - expires 2023-11-27\r\n"
     ]
    }
   ],
   "source": [
    "model = Model(Gurobi.Optimizer)\n",
    "set_silent(model)\n",
    "@variable(model, x[1:ncty, 1:nproc] >= 0)\n",
    "@variable(model, theta >= M);"
   ]
  },
  {
   "cell_type": "code",
   "execution_count": 72,
   "id": "f9c455a7",
   "metadata": {},
   "outputs": [],
   "source": [
    "for k in 1:nproc\n",
    "    for i in 1:ncty\n",
    "        @constraint(model, x[i,k] <= capacity[!, 2:end][i,k])\n",
    "    end\n",
    "end\n",
    "for k in 1:nproc\n",
    "    @constraint(model, sum(x[i,k] for i in 1:ncty) == input_amount[k])\n",
    "end\n",
    "\n",
    "proD = (x .* Matrix(regional_EF[:,2:end])) * ones(nproc,1) \n",
    "proM = x * price\n",
    "\n",
    "pro_sink = zeros(ncty, nproc)\n",
    "for k in 1:nproc\n",
    "    for i in 1:ncty\n",
    "        pro_sink[i,k] = regional_EF[i, k+1] * (sink_c[i]/emission_c[i] + es_ratio)\n",
    "    end\n",
    "end\n",
    "proS = (x.*pro_sink)*ones(nproc,1);"
   ]
  },
  {
   "cell_type": "code",
   "execution_count": 75,
   "id": "f26302b5",
   "metadata": {},
   "outputs": [
    {
     "data": {
      "text/plain": [
       "true"
      ]
     },
     "execution_count": 75,
     "metadata": {},
     "output_type": "execute_result"
    }
   ],
   "source": [
    "cuts != []"
   ]
  },
  {
   "cell_type": "code",
   "execution_count": 76,
   "id": "ef17c908",
   "metadata": {},
   "outputs": [
    {
     "name": "stdout",
     "output_type": "stream",
     "text": [
      "[-0.12781186121027854 0.08988994647713167 3.3121560494813855 0.08988994647713167 3.0259320489585444 3.112392259152848 3.3121560494813855 2.2101153571782315 2.2101153571782315 3.4991285897879876 2.418769203098346 2.2101153571782315 2.157947673074384 2.2113261655335346 3.619925219844523; -0.16449709458296913 -0.0 2.762316726407633 2.6997787485105107 5.944200275205094 2.2810510915810003 2.762316726407633 11.774158116974029 11.774158116974029 2.5823577517437264 6.213011643978857 11.774158116974029 6.115737229598595 11.774861570087412 8.750448032779437; -0.06253797789712207 -0.0 -0.0 -0.06253797789712207 6.011038783218303 -0.19976379032853783 -0.0 9.011841390566396 9.011841390566396 0.18697254030660201 3.901420521670424 9.011841390566396 3.353420503190962 9.02437790667264 8.296578090373998; -0.1286330854974228 -0.1286330854974228 3.0936330175068316 -0.1286330854974228 6.615186266318056 2.893869227178293 3.0936330175068316 0.9610888723900507 0.9610888723900507 3.2806055578134337 3.4402733703040345 0.9610888723900507 1.9394246410998293 0.9672284870431004 4.450053774991737; -0.11155826363918264 -0.0 2.8009854267574643 -0.0 22.647403606157578 2.6012216364289276 2.8009854267574643 -0.0 -0.0 2.9879579670640664 8.03564380974167 -0.0 1.6467770503504628 0.022633683549501734 7.292062844223138; -0.0 -0.0 2.23934848244625 -0.0 1.1457998335148245 2.0395846921177134 2.23934848244625 7.03227073046046 7.03227073046046 2.426321022752852 1.3738498430850257 7.03227073046046 1.3738498430850257 7.03227073046046 3.8738498430850257; 0.022314648427925743 0.24001645611533595 3.46228255911959 0.24001645611533595 4.976193350277107 3.2625187687910526 3.46228255911959 2.3310020050446894 2.3310020050446894 3.649255099426192 3.1897960799689233 2.3310020050446894 2.3080741827125877 2.3355657085473713 4.315327059266129; 0.6322869704056888 -0.1314602700924703 3.559100791396291 3.496562813499169 10.963634106552034 3.077835156569659 3.559100791396291 12.570942181962687 12.570942181962687 3.2749914110606198 8.098098200085333 12.570942181962687 6.912521294587253 12.589130676715039 12.945939167581342; -0.0 -0.0 3.0104056146257494 -0.0 4.71921957254547 2.810641824297211 3.0104056146257494 2.4443861830236724 2.4443861830236724 3.1973781549323514 2.8362023118098656 2.4443861830236724 1.856197238218747 2.448713823503167 4.104127652862506; -0.0 -0.0 1.0935486489314261 -0.0 -0.03264482446229772 0.8937848586028884 1.0935486489314261 6.152135612839154 6.152135612839154 1.2805211892380282 0.5240416300110646 6.152135612839154 0.49371472546372175 6.152135612839154 2.9937147254637217; -0.0 -0.0 2.753631555740272 -0.0 1.6600829068088458 2.5538677654117343 2.753631555740272 3.6845846153954382 3.6845846153954382 2.940604096046874 1.59942317933327 3.6845846153954382 1.59942317933327 3.6845846153954382 3.1784852933961134; -0.0 -0.0 0.7450768336284482 -0.0 1.9886123075095803 0.5453130432999106 0.7450768336284482 8.140747920348735 8.140747920348735 0.9320493739350503 2.482327032973302 8.140747920348735 2.482327032973302 8.140747920348735 4.982327032973302; -0.0 -0.0 0.9294584906210154 -0.0 0.36677464607350885 0.7296947002924777 0.9294584906210154 6.518910258912663 6.518910258912663 1.1164310309276175 0.8781820925196818 6.518910258912663 0.8604893715372306 6.518910258912663 3.3604893715372306; -0.0 -0.0 1.2113022959137754 -0.0 0.11775364698234947 1.0115385055852377 1.2113022959137754 5.394580673081818 5.394580673081818 1.3982748362203774 0.17780523091234823 5.394580673081818 0.17780523091234823 5.394580673081818 2.5013106787662776; -0.0 -0.0 0.800400687757687 -0.0 0.9762075863451223 0.6006368974291493 0.800400687757687 7.128343199184278 7.128343199184278 0.9873732280642891 1.469922311808844 7.128343199184278 1.469922311808844 7.128343199184278 3.969922311808844; -0.0 -0.0 1.3296990082082958 -0.0 0.23615035927686967 1.1299352178797581 1.3296990082082958 4.634872748728209 4.634872748728209 1.5166715485148978 0.25485354408150473 4.634872748728209 0.25485354408150473 4.634872748728209 2.5636736921336656; 0.1135170989960177 -0.0 2.15518515852834 2.092647180631218 5.029523430499332 1.6739195237017075 2.15518515852834 11.167026549094736 11.167026549094736 1.8710757781926688 5.5303614880997705 11.167026549094736 5.508605661719302 11.167026549094736 8.008605661719303; 1.461923867459026 0.6981766269608674 4.38873768844963 4.326199710552507 7.297875612294734 3.907472053622996 4.38873768844963 13.400579079016024 13.400579079016024 4.104628308113958 7.747810634169153 13.400579079016024 7.742158191640591 13.400579079016024 10.242158191640591; -0.0 -0.0 0.28410938033567135 0.22157140243854911 8.28182760382122 -0.19715625449096089 0.28410938033567135 9.295950770902067 9.295950770902067 -0.0 4.528884402919508 9.295950770902067 3.6375298835266334 9.316255284404242 10.097844015208066; 1.1897393305285533 0.4259920900303946 4.116553151519156 4.054015173622034 8.60039427688254 3.635287516692523 4.116553151519156 13.12839454208555 13.12839454208555 3.8324437711834847 8.006490725952562 13.12839454208555 7.469973654710118 13.1348017595024 11.211182077735394; 0.08761891679301259 -0.0 1.0486425839311941 0.9861046060340719 4.058295219985769 0.5673769491045615 1.0486425839311941 10.060483974497588 10.060483974497588 0.7645332035955228 4.443865824470662 10.060483974497588 4.4020630871221575 10.060483974497588 6.9020630871221575; -0.0 -0.0 1.207129850470164 -0.0 1.7063596055229298 1.0073660601416263 1.207129850470164 7.858495218362084 7.858495218362084 1.394102390776766 2.202855267082135 7.858495218362084 2.2000743309866517 7.858495218362084 4.700074330986651; 0.868654925031171 0.18690434907959563 3.795468746021774 3.732930768124652 6.661618852419967 3.314203111195141 3.795468746021774 12.80731013658817 12.80731013658817 3.511359365686103 7.148889249212736 12.80731013658817 7.148889249212736 12.80731013658817 9.648889249212736; -0.0 -0.0 3.041620993146863 -0.0 1.9480723442154366 2.8418572028183253 3.041620993146863 5.236328430314415 5.236328430314415 3.228593533453465 1.887412616739861 5.236328430314415 1.887412616739861 5.236328430314415 3.2880417449619963; -0.0 -0.0 3.0293195943660183 1.772361273569702 4.694605029194065 2.8295558040374797 3.0293195943660183 10.84674064203322 10.84674064203322 3.2162921346726203 5.188319754657787 10.84674064203322 5.188319754657787 10.84674064203322 7.688319754657786; -0.0 -0.0 0.9089194538132731 -0.0 1.3053074360017565 0.7091556634847352 0.9089194538132731 7.457443048840912 7.457443048840912 1.095891994119875 1.7990221614654782 7.457443048840912 1.7990221614654782 7.457443048840912 4.299022161465479; 1.0123247094337913 0.2485774689356326 3.939138530424394 3.8766005525272718 6.805218449418844 3.457872895597761 3.939138530424394 12.95097992099079 12.95097992099079 3.6550291500887226 7.292559033615356 12.95097992099079 7.292559033615356 12.95097992099079 9.792559033615357; -0.0 0.030756483002560397 3.2530225860068143 0.030756483002560397 2.3191844672817656 3.0532587956782766 3.2530225860068143 1.9455949480712131 1.9455949480712131 3.4399951263134163 2.103381590501178 1.9455949480712131 2.098814209599812 1.9455949480712131 3.3935349820109315; 2.6613651079346035 1.8976178674364448 5.588178928925206 5.525640951028084 8.447884706652447 5.106913294098574 5.588178928925206 14.600020319491604 14.600020319491604 5.304069548589535 8.941599432116169 14.600020319491604 8.941599432116169 14.600020319491604 11.441599432116169; -0.0 -0.0 1.154208376407002 -0.0 0.2043722699481605 0.9544445860784642 1.154208376407002 5.658420887375434 5.658420887375434 1.341180916713604 -0.146873193582323 5.658420887375434 -0.0 5.658420887375434 2.232638351401434]\n"
     ]
    }
   ],
   "source": [
    "if cuts != []\n",
    "    for cut in cuts\n",
    "        G = cut[\"gradient\"]\n",
    "        g = cut[\"intersection\"]\n",
    "        println(G)\n",
    "#         @constraint(model, sum(x .* G) + theta >= g)\n",
    "    end\n",
    "end"
   ]
  },
  {
   "cell_type": "code",
   "execution_count": null,
   "id": "fbcdd399",
   "metadata": {},
   "outputs": [],
   "source": []
  },
  {
   "cell_type": "code",
   "execution_count": null,
   "id": "d5683a66",
   "metadata": {},
   "outputs": [],
   "source": []
  }
 ],
 "metadata": {
  "kernelspec": {
   "display_name": "Julia 1.8.3",
   "language": "julia",
   "name": "julia-1.8"
  },
  "language_info": {
   "file_extension": ".jl",
   "mimetype": "application/julia",
   "name": "julia",
   "version": "1.8.3"
  }
 },
 "nbformat": 4,
 "nbformat_minor": 5
}
