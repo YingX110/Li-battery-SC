{
 "cells": [
  {
   "cell_type": "code",
   "execution_count": 212,
   "id": "5edf3ebd",
   "metadata": {},
   "outputs": [],
   "source": [
    "using JuMP, Gurobi\n",
    "using CSV, LinearAlgebra, DataFrames\n",
    "using Plots\n",
    "using DelimitedFiles"
   ]
  },
  {
   "cell_type": "code",
   "execution_count": 213,
   "id": "93d2a5ce",
   "metadata": {},
   "outputs": [],
   "source": [
    "#load social and ecological data and orgnize \n",
    "FL = repeat([Float64], inner=15)\n",
    "dtype = append!([String], FL);\n",
    "\n",
    "regional_EF = CSV.File(\"C:/Users/bourg/.julia/environments/batterySC/Li-battery-SC/data/social/new_EF_SC1.csv\",header=1,delim=\",\", types=dtype) |> DataFrame    \n",
    "capacity = CSV.File(\"C:/Users/bourg/.julia/environments/batterySC/Li-battery-SC/data/social/capacity2.csv\",header=1,delim=\",\", types=dtype) |> DataFrame    \n",
    "distance = CSV.File(\"C:/Users/bourg/.julia/environments/batterySC/Li-battery-SC/data/social/distance.csv\",header=1,delim=\",\") |> DataFrame \n",
    "LCA_model = CSV.File(\"C:/Users/bourg/.julia/environments/batterySC/Li-battery-SC/data/social/LCA_model2.csv\",header=1,delim=\",\") |> DataFrame \n",
    "D_Dsoc = CSV.File(\"C:/Users/bourg/.julia/environments/batterySC/Li-battery-SC/data/social/D_Dsoc1.csv\",header=1,delim=\",\") |> DataFrame\n",
    "GDP = CSV.File(\"C:/Users/bourg/.julia/environments/batterySC/Li-battery-SC/data/social/GDP.csv\",header=1,delim=\",\") |> DataFrame;\n",
    "emi_sink = CSV.File(\"C:/Users/bourg/.julia/environments/batterySC/Li-battery-SC/data/SC_regional/emission_sink1.csv\",header=1,delim=\",\") |> DataFrame;"
   ]
  },
  {
   "cell_type": "code",
   "execution_count": 214,
   "id": "5118b2b5",
   "metadata": {},
   "outputs": [],
   "source": [
    "cell_demand = 0.001*164.98*(1.369*1e6)*2           # annual demand of Li battery for tesla (1.369M EV/yr, ~2 NMC111 pack/EV, 164.98 kg/pack (35kwh/pack), 80~100 kWh per EV)\n",
    "\n",
    "global_sink = 1.099e10                        # global pub (ocean) CO2 sequestration (ton/yr)\n",
    "global_sink_tot = 2.236e10                  # global total (ocean+land) CO2 sequestration (ton/yr)\n",
    "global_emi = 3.53e10                          # global CO2 emission (ton/yr)\n",
    "global_gdp = 96882e9                          # 2021 global GDP ($/yr)\n",
    "es_ratio = global_sink/global_emi\n",
    "es_ratio_tot = global_sink_tot/global_emi\n",
    "emission_c = emi_sink[!, \"emission\"]          # national CO2 emission (ton/yr)\n",
    "sink_c = emi_sink[!, \"sink ton/yr\"]           # national CO2 sink (ton/yr)\n",
    "\n",
    "# D = D_Dsoc[!, \"D\"]          # national CO2 emission (ton/yr)\n",
    "Dsoc = D_Dsoc[!, \"Dsoc ton/yr\"]           # national CO2 sink (ton/yr)\n",
    "\n",
    "EF_trans = 1.005/10000                        # ton CO2/km*ton (The average freight truck in the U.S. emits 161.8 grams of CO2 per ton-mile)\n",
    "process = LCA_model[!,\"process\"]\n",
    "countries = capacity[!,\"country\"]\n",
    "ncty = size(countries,1)                          # No. of countries\n",
    "nproc = size(process,1);                          # No. of processes \n",
    "\n",
    "mkt_loc = findfirst(isequal(\"United States\"), countries)\n",
    "mkt_proc = findfirst(isequal(\"battery\"), process)\n",
    "\n",
    "# seperate model\n",
    "cathode = collect(1:4)\n",
    "cell = collect(5:10)\n",
    "noncell = [12,13]\n",
    "battery = [11,14]\n",
    "scaler = LCA_model[!,\"scaler\"]\n",
    "price = LCA_model[!,\"price (usd/ton product)\"]\n",
    "vGDP = GDP[!,\"GDP usd\"];"
   ]
  },
  {
   "cell_type": "code",
   "execution_count": 215,
   "id": "e6d8b773",
   "metadata": {},
   "outputs": [],
   "source": [
    "# penalty = 10000 # ton/yr\n",
    "penalty = 6; # ton/yr"
   ]
  },
  {
   "cell_type": "code",
   "execution_count": 216,
   "id": "d326e8f0",
   "metadata": {},
   "outputs": [],
   "source": [
    "up_cath = scaler[1:4] * scaler[5] * scaler[11]\n",
    "up_cell = scaler[5:10] * scaler[11]\n",
    "cell_sef = scaler[11]\n",
    "up_noncell = scaler[12:13] * scaler[14]\n",
    "noncell_sef = scaler[14]\n",
    "battery_sef = scaler[15];"
   ]
  },
  {
   "cell_type": "code",
   "execution_count": 217,
   "id": "fcfae35d",
   "metadata": {},
   "outputs": [
    {
     "data": {
      "text/plain": [
       "15-element Vector{Float64}:\n",
       "  49670.291589732\n",
       "  69512.470736544\n",
       "  67696.846500888\n",
       "  69382.78329114\n",
       " 129687.44540400001\n",
       "  72376.074329\n",
       "   5239.896784\n",
       "   1309.974196\n",
       "  31111.887154999997\n",
       "  60258.81301599999\n",
       " 327493.549\n",
       "   2258.5762\n",
       "   1806.86096\n",
       " 451715.24\n",
       " 451715.24"
      ]
     },
     "execution_count": 217,
     "metadata": {},
     "output_type": "execute_result"
    }
   ],
   "source": [
    "ipt = []\n",
    "ipt = vcat(up_cath, up_cell, cell_sef, up_noncell, noncell_sef, battery_sef) .* cell_demand\n",
    "input_amount = ipt"
   ]
  },
  {
   "cell_type": "code",
   "execution_count": 218,
   "id": "b548eb11",
   "metadata": {},
   "outputs": [
    {
     "data": {
      "text/plain": [
       "7-element Vector{Float64}:\n",
       " 225857.62\n",
       " 316200.66799999995\n",
       " 361372.19200000004\n",
       " 451715.24\n",
       " 496886.764\n",
       " 542058.288\n",
       " 632401.3359999999"
      ]
     },
     "execution_count": 218,
     "metadata": {},
     "output_type": "execute_result"
    }
   ],
   "source": [
    "D = [0.5, 0.7, 0.8, 1, 1.1, 1.2, 1.4]*cell_demand"
   ]
  },
  {
   "cell_type": "markdown",
   "id": "2f814c33",
   "metadata": {},
   "source": [
    "### Solve subproblem to get dual $\\pi$ and $\\alpha$"
   ]
  },
  {
   "cell_type": "code",
   "execution_count": 219,
   "id": "05f2e73c",
   "metadata": {},
   "outputs": [
    {
     "data": {
      "text/plain": [
       "reformu_pi (generic function with 1 method)"
      ]
     },
     "execution_count": 219,
     "metadata": {},
     "output_type": "execute_result"
    }
   ],
   "source": [
    "function reformu_pi(col_idx, proc_idx, ls_cstr)\n",
    "    pi_matrix = zeros(ncty, nproc)\n",
    "    pi = [getdual(con) for con in ls_cstr]\n",
    "    B = []\n",
    "    for k in proc_idx\n",
    "        append!(B, scaler[k] * ones(ncty))\n",
    "    end\n",
    "    pi = pi .* B\n",
    "    pi = reshape(pi, ncty, size(proc_idx)[1])\n",
    "    pi_matrix[:,col_idx] = sum(pi, dims=2)\n",
    "    \n",
    "    return pi_matrix\n",
    "end"
   ]
  },
  {
   "cell_type": "code",
   "execution_count": 220,
   "id": "82fcf67f",
   "metadata": {},
   "outputs": [
    {
     "data": {
      "text/plain": [
       "subprob (generic function with 1 method)"
      ]
     },
     "execution_count": 220,
     "metadata": {},
     "output_type": "execute_result"
    }
   ],
   "source": [
    "function subprob(x_hat, d)\n",
    "    model = Model(Gurobi.Optimizer)\n",
    "    set_silent(model)\n",
    "    @variable(model, y[1:ncty, 1:ncty, 1:nproc] >= 0)\n",
    "    @variable(model, s >= 0)\n",
    "\n",
    "    # node output flow constraint\n",
    "    cstr_op = [@constraint(model, sum(y[i,j,k] for j in 1:ncty) == x_hat[i,k]) for k in 1:nproc for i in 1:ncty]\n",
    "\n",
    "    # cathode LCA constraints (index=5)\n",
    "    cstr_cth = [@constraint(model, sum(y[i,j,k] for i in 1:ncty) == x_hat[j,5]*scaler[k]) for k in cathode for j in 1:ncty]\n",
    "\n",
    "    # cell LCA constraints (index=11)\n",
    "    cstr_cell = [@constraint(model, sum(y[i,j,k] for i in 1:ncty) == x_hat[j,11]*scaler[k]) for k in cell for j in 1:ncty]\n",
    "\n",
    "    # non cell LCA constraints (index=14)\n",
    "    cstr_noncell = [@constraint(model, sum(y[i,j,k] for i in 1:ncty) == x_hat[j,14]*scaler[k]) for k in noncell for j in 1:ncty]\n",
    "\n",
    "    # battery LCA constraints (index=15)\n",
    "    cstr_battery = [@constraint(model, sum(y[i,j,k] for i in 1:ncty) == x_hat[j,15]*scaler[k]) for k in battery for j in 1:ncty]\n",
    "    \n",
    "    @constraint(model, cstr_alp, sum(y[i,mkt_loc,mkt_proc] for i in 1:ncty) + s >= d)\n",
    "    for j in 1:ncty-1\n",
    "        @constraint(model, sum(y[i,j,mkt_proc] for i in 1:ncty) == 0)\n",
    "    end \n",
    "    \n",
    "    \n",
    "    #######################\n",
    "    tranD = Vector{AffExpr}(undef, ncty)\n",
    "    tranS= Vector{AffExpr}(undef, ncty)\n",
    "    for j in 1:ncty\n",
    "        arc_emi = 0\n",
    "        for i in 1:ncty\n",
    "            amount = sum(y[i,j,k] for k in 1:nproc)\n",
    "            arc_emi += (amount * distance[!, 2:end][i,j] * EF_trans)\n",
    "        end\n",
    "        tranD[j] = arc_emi\n",
    "        tranS[j] = arc_emi * (sink_c[j]/emission_c[j] + es_ratio)\n",
    "    end\n",
    "    \n",
    "    \n",
    "    @objective(model, Min, sum(tranD-tranS) + s*penalty)\n",
    "    JuMP.optimize!(model)\n",
    "    \n",
    "    qy_hat = JuMP.objective_value(model)\n",
    "    sub_y = JuMP.value.(y)\n",
    "    sub_s = JuMP.value.(s)\n",
    "    \n",
    "    \n",
    "    ####################### \n",
    "    op_pi = [getdual(con) for con in cstr_op]\n",
    "    op_pi = reshape(op_pi, ncty, nproc)\n",
    "\n",
    "    cth_pi = reformu_pi(5, cathode, cstr_cth)\n",
    "    cell_pi = reformu_pi(11, cell, cstr_cell)\n",
    "    noncell_pi = reformu_pi(14, noncell, cstr_noncell)\n",
    "    battery_pi = reformu_pi(15, battery, cstr_battery)\n",
    "    pi_matrix = op_pi + cth_pi + cell_pi + noncell_pi + battery_pi\n",
    "    \n",
    "    alp = getdual(cstr_alp)\n",
    "\n",
    "    \n",
    "    #######################\n",
    "    result = Dict([\"qyhat\"=>qy_hat, \"y_opt\"=>sub_y, \"s_opt\"=>sub_s, \"pi\"=>pi_matrix, \"alp\"=>alp]);\n",
    "    return result\n",
    "    \n",
    "end\n"
   ]
  },
  {
   "cell_type": "markdown",
   "id": "01a4df41",
   "metadata": {},
   "source": [
    "### Solve master problem"
   ]
  },
  {
   "cell_type": "code",
   "execution_count": 221,
   "id": "3ec63d44",
   "metadata": {},
   "outputs": [
    {
     "data": {
      "text/plain": [
       "-5.0e7"
      ]
     },
     "execution_count": 221,
     "metadata": {},
     "output_type": "execute_result"
    }
   ],
   "source": [
    "M = -5e7"
   ]
  },
  {
   "cell_type": "code",
   "execution_count": 222,
   "id": "bd4fb20b",
   "metadata": {},
   "outputs": [
    {
     "data": {
      "text/plain": [
       "masterprob (generic function with 1 method)"
      ]
     },
     "execution_count": 222,
     "metadata": {},
     "output_type": "execute_result"
    }
   ],
   "source": [
    "function masterprob(cuts)\n",
    "    model = Model(Gurobi.Optimizer)\n",
    "    set_silent(model)\n",
    "    @variable(model, x[1:ncty, 1:nproc] >= 0)\n",
    "    @variable(model, theta >= M)\n",
    "    \n",
    "    for k in 1:nproc\n",
    "        for i in 1:ncty\n",
    "            @constraint(model, x[i,k] <= capacity[!, 2:end][i,k])\n",
    "        end\n",
    "    end\n",
    "    for k in 1:nproc\n",
    "        @constraint(model, sum(x[i,k] for i in 1:ncty) == input_amount[k])\n",
    "    end\n",
    "    \n",
    "    proD = (x .* Matrix(regional_EF[:,2:end])) * ones(nproc,1) \n",
    "    proM = x * price\n",
    "\n",
    "    pro_sink = zeros(ncty, nproc)\n",
    "    for k in 1:nproc\n",
    "        for i in 1:ncty\n",
    "            pro_sink[i,k] = regional_EF[i, k+1] * (sink_c[i]/emission_c[i] + es_ratio)\n",
    "        end\n",
    "    end\n",
    "    proS = (x.*pro_sink)*ones(nproc,1) \n",
    "    \n",
    "    if cuts != []\n",
    "        for cut in cuts\n",
    "            G = cut[\"gradient\"]\n",
    "            g = cut[\"intersection\"]\n",
    "            @constraint(model, sum(x .* G) + theta >= g)\n",
    "        end\n",
    "    end\n",
    "    \n",
    "    @objective(model, Min, sum(proD-proS)+theta)\n",
    "    JuMP.optimize!(model);\n",
    "    \n",
    "    x_hat = JuMP.value.(x)\n",
    "    theta_hat = JuMP.value.(theta)\n",
    "    z_lb = JuMP.objective_value(model)\n",
    "    \n",
    "    result = Dict([\"x_hat\"=>x_hat, \"z_lb\"=>z_lb])\n",
    "    return result\n",
    "end"
   ]
  },
  {
   "cell_type": "markdown",
   "id": "34c32338",
   "metadata": {},
   "source": [
    "### Generate cuts"
   ]
  },
  {
   "cell_type": "code",
   "execution_count": 223,
   "id": "a7595372",
   "metadata": {},
   "outputs": [
    {
     "data": {
      "text/plain": [
       "add_cuts (generic function with 1 method)"
      ]
     },
     "execution_count": 223,
     "metadata": {},
     "output_type": "execute_result"
    }
   ],
   "source": [
    "function add_cuts(x, D)\n",
    "    G = [] # gradient\n",
    "    g = 0 # intersection\n",
    "    qy = 0\n",
    "    \n",
    "    for d in D\n",
    "        res = subprob(x, d)\n",
    "        gradient = -1 * res[\"pi\"]\n",
    "        \n",
    "        push!(G, gradient)\n",
    "        g += d * res[\"alp\"]\n",
    "        qy += res[\"qyhat\"]\n",
    "    end\n",
    "    \n",
    "    proD = (x .* Matrix(regional_EF[:,2:end])) * ones(nproc,1) \n",
    "    pro_sink = zeros(ncty, nproc)\n",
    "    for k in 1:nproc\n",
    "        for i in 1:ncty\n",
    "            pro_sink[i,k] = regional_EF[i, k+1] * (sink_c[i]/emission_c[i] + es_ratio)\n",
    "        end\n",
    "    end\n",
    "    proS = (x.*pro_sink)*ones(nproc,1) \n",
    "    z_hat = sum(proD - proS) + qy/size(D)[1]\n",
    "    Exp_G = sum(G) / size(D)[1]\n",
    "    Exp_g = sum(g) / size(D)[1]\n",
    "    \n",
    "    cut = Dict([\"gradient\"=>Exp_G, \"intersection\"=>Exp_g])\n",
    "    return cut, z_hat\n",
    "end\n"
   ]
  },
  {
   "cell_type": "markdown",
   "id": "c9c29956",
   "metadata": {},
   "source": [
    "### L Shape Method"
   ]
  },
  {
   "cell_type": "code",
   "execution_count": 255,
   "id": "f6fba313",
   "metadata": {},
   "outputs": [
    {
     "data": {
      "text/plain": [
       "main (generic function with 1 method)"
      ]
     },
     "execution_count": 255,
     "metadata": {},
     "output_type": "execute_result"
    }
   ],
   "source": [
    "function main(toler)\n",
    "    i = 0\n",
    "    z_ub = 1e7\n",
    "    x_opt = 0\n",
    "    \n",
    "    cuts = []\n",
    "    res0 = masterprob(cuts)\n",
    "    x_hat = res0[\"x_hat\"]\n",
    "    z_lb = res0[\"z_lb\"]\n",
    "    \n",
    "    while (z_ub - z_lb) > toler * min(abs(z_ub), abs(z_lb))\n",
    "        new_cut, z_hat = add_cuts(x_hat, D)\n",
    "        if z_hat < z_ub\n",
    "            z_ub = z_hat\n",
    "            x_opt = x_hat\n",
    "        end\n",
    "        \n",
    "        push!(cuts, new_cut)\n",
    "        \n",
    "        res1 = masterprob(cuts)\n",
    "        z_lb = res1[\"z_lb\"]\n",
    "        x_hat = res1[\"x_hat\"]\n",
    "        \n",
    "        i += 1\n",
    "    end\n",
    "    \n",
    "    result = Dict([\"z_lb\"=>z_lb, \"z_ub\"=>z_ub, \"x_opt\"=>x_opt, \"iteration\"=>i])\n",
    "    return result\n",
    "#     println(z_lb, z_ub, x_opt, i)\n",
    "    \n",
    "end"
   ]
  },
  {
   "cell_type": "code",
   "execution_count": 256,
   "id": "41a1dfec",
   "metadata": {},
   "outputs": [
    {
     "name": "stdout",
     "output_type": "stream",
     "text": [
      "Academic license - for non-commercial use only - expires 2023-11-27\r\n",
      "Academic license - for non-commercial use only - expires 2023-11-27\r\n",
      "Academic license - for non-commercial use only - expires 2023-11-27\r\n",
      "Academic license - for non-commercial use only - expires 2023-11-27\r\n",
      "Academic license - for non-commercial use only - expires 2023-11-27\r\n",
      "Academic license - for non-commercial use only - expires 2023-11-27\r\n",
      "Academic license - for non-commercial use only - expires 2023-11-27\r\n",
      "Academic license - for non-commercial use only - expires 2023-11-27\r\n",
      "Academic license - for non-commercial use only - expires 2023-11-27\r\n",
      "Academic license - for non-commercial use only - expires 2023-11-27\r\n",
      "Academic license - for non-commercial use only - expires 2023-11-27\r\n",
      "Academic license - for non-commercial use only - expires 2023-11-27\r\n",
      "Academic license - for non-commercial use only - expires 2023-11-27\r\n",
      "Academic license - for non-commercial use only - expires 2023-11-27\r\n",
      "Academic license - for non-commercial use only - expires 2023-11-27\r\n",
      "Academic license - for non-commercial use only - expires 2023-11-27\r\n",
      "Academic license - for non-commercial use only - expires 2023-11-27\r\n",
      "Academic license - for non-commercial use only - expires 2023-11-27\r\n",
      "Academic license - for non-commercial use only - expires 2023-11-27\r\n",
      "Academic license - for non-commercial use only - expires 2023-11-27\r\n",
      "Academic license - for non-commercial use only - expires 2023-11-27\r\n",
      "Academic license - for non-commercial use only - expires 2023-11-27\r\n",
      "Academic license - for non-commercial use only - expires 2023-11-27\r\n",
      "Academic license - for non-commercial use only - expires 2023-11-27\r\n",
      "Academic license - for non-commercial use only - expires 2023-11-27\r\n",
      "Academic license - for non-commercial use only - expires 2023-11-27\r\n",
      "Academic license - for non-commercial use only - expires 2023-11-27\r\n",
      "Academic license - for non-commercial use only - expires 2023-11-27\r\n",
      "Academic license - for non-commercial use only - expires 2023-11-27\r\n",
      "Academic license - for non-commercial use only - expires 2023-11-27\r\n",
      "Academic license - for non-commercial use only - expires 2023-11-27\r\n",
      "Academic license - for non-commercial use only - expires 2023-11-27\r\n",
      "Academic license - for non-commercial use only - expires 2023-11-27\r\n",
      "Academic license - for non-commercial use only - expires 2023-11-27\r\n",
      "Academic license - for non-commercial use only - expires 2023-11-27\r\n",
      "Academic license - for non-commercial use only - expires 2023-11-27\r\n",
      "Academic license - for non-commercial use only - expires 2023-11-27\r\n",
      "Academic license - for non-commercial use only - expires 2023-11-27\r\n",
      "Academic license - for non-commercial use only - expires 2023-11-27\r\n",
      "Academic license - for non-commercial use only - expires 2023-11-27\r\n",
      "Academic license - for non-commercial use only - expires 2023-11-27\r\n",
      "Academic license - for non-commercial use only - expires 2023-11-27\r\n",
      "Academic license - for non-commercial use only - expires 2023-11-27\r\n",
      "Academic license - for non-commercial use only - expires 2023-11-27\r\n",
      "Academic license - for non-commercial use only - expires 2023-11-27\r\n",
      "Academic license - for non-commercial use only - expires 2023-11-27\r\n",
      "Academic license - for non-commercial use only - expires 2023-11-27\r\n",
      "Academic license - for non-commercial use only - expires 2023-11-27\r\n",
      "Academic license - for non-commercial use only - expires 2023-11-27\r\n",
      "Academic license - for non-commercial use only - expires 2023-11-27\r\n",
      "Academic license - for non-commercial use only - expires 2023-11-27\r\n",
      "Academic license - for non-commercial use only - expires 2023-11-27\r\n",
      "Academic license - for non-commercial use only - expires 2023-11-27\r\n",
      "Academic license - for non-commercial use only - expires 2023-11-27\r\n",
      "Academic license - for non-commercial use only - expires 2023-11-27\r\n",
      "Academic license - for non-commercial use only - expires 2023-11-27\r\n",
      "Academic license - for non-commercial use only - expires 2023-11-27\r\n",
      "Academic license - for non-commercial use only - expires 2023-11-27\r\n",
      "Academic license - for non-commercial use only - expires 2023-11-27\r\n",
      "Academic license - for non-commercial use only - expires 2023-11-27\r\n",
      "Academic license - for non-commercial use only - expires 2023-11-27\r\n",
      "Academic license - for non-commercial use only - expires 2023-11-27\r\n",
      "Academic license - for non-commercial use only - expires 2023-11-27\r\n",
      "Academic license - for non-commercial use only - expires 2023-11-27\r\n",
      "Academic license - for non-commercial use only - expires 2023-11-27\r\n",
      "Academic license - for non-commercial use only - expires 2023-11-27\r\n",
      "Academic license - for non-commercial use only - expires 2023-11-27\r\n",
      "Academic license - for non-commercial use only - expires 2023-11-27\r\n",
      "Academic license - for non-commercial use only - expires 2023-11-27\r\n",
      "Academic license - for non-commercial use only - expires 2023-11-27\r\n",
      "Academic license - for non-commercial use only - expires 2023-11-27\r\n",
      "Academic license - for non-commercial use only - expires 2023-11-27\r\n",
      "Academic license - for non-commercial use only - expires 2023-11-27\r\n",
      "Academic license - for non-commercial use only - expires 2023-11-27\r\n",
      "Academic license - for non-commercial use only - expires 2023-11-27\r\n",
      "Academic license - for non-commercial use only - expires 2023-11-27\r\n",
      "Academic license - for non-commercial use only - expires 2023-11-27\r\n",
      "Academic license - for non-commercial use only - expires 2023-11-27\r\n",
      "Academic license - for non-commercial use only - expires 2023-11-27\r\n",
      "Academic license - for non-commercial use only - expires 2023-11-27\r\n",
      "Academic license - for non-commercial use only - expires 2023-11-27\r\n",
      "Academic license - for non-commercial use only - expires 2023-11-27\r\n",
      "Academic license - for non-commercial use only - expires 2023-11-27\r\n",
      "Academic license - for non-commercial use only - expires 2023-11-27\r\n",
      "Academic license - for non-commercial use only - expires 2023-11-27\r\n",
      "Academic license - for non-commercial use only - expires 2023-11-27\r\n",
      "Academic license - for non-commercial use only - expires 2023-11-27\r\n",
      "Academic license - for non-commercial use only - expires 2023-11-27\r\n",
      "Academic license - for non-commercial use only - expires 2023-11-27\r\n",
      "Academic license - for non-commercial use only - expires 2023-11-27\r\n",
      "Academic license - for non-commercial use only - expires 2023-11-27\r\n",
      "Academic license - for non-commercial use only - expires 2023-11-27\r\n",
      "Academic license - for non-commercial use only - expires 2023-11-27\r\n",
      "Academic license - for non-commercial use only - expires 2023-11-27\r\n",
      "Academic license - for non-commercial use only - expires 2023-11-27\r\n",
      "Academic license - for non-commercial use only - expires 2023-11-27\r\n",
      "Academic license - for non-commercial use only - expires 2023-11-27\r\n",
      "Academic license - for non-commercial use only - expires 2023-11-27\r\n",
      "Academic license - for non-commercial use only - expires 2023-11-27\r\n",
      "Academic license - for non-commercial use only - expires 2023-11-27\r\n",
      "Academic license - for non-commercial use only - expires 2023-11-27\r\n",
      "Academic license - for non-commercial use only - expires 2023-11-27\r\n",
      "Academic license - for non-commercial use only - expires 2023-11-27\r\n",
      "Academic license - for non-commercial use only - expires 2023-11-27\r\n",
      "Academic license - for non-commercial use only - expires 2023-11-27\r\n"
     ]
    },
    {
     "data": {
      "text/plain": [
       "Dict{String, Any} with 4 entries:\n",
       "  \"z_lb\"      => -7.93916e6\n",
       "  \"x_opt\"     => [6200.0 0.0 … 0.0 0.0; 1770.29 0.0 … 0.0 0.0; … ; 0.0 0.0 … 0.…\n",
       "  \"iteration\" => 13\n",
       "  \"z_ub\"      => -7.91652e6"
      ]
     },
     "execution_count": 256,
     "metadata": {},
     "output_type": "execute_result"
    }
   ],
   "source": [
    "result = main(0.005)"
   ]
  },
  {
   "cell_type": "code",
   "execution_count": 259,
   "id": "5b9483d2",
   "metadata": {},
   "outputs": [
    {
     "data": {
      "text/plain": [
       "30×15 Matrix{Float64}:\n",
       "  6200.0       0.0      0.0      0.0   …     0.0   0.0        0.0\n",
       "  1770.29      0.0      0.0      0.0         0.0   0.0        0.0\n",
       "  2200.0       0.0  67696.8  67000.0         0.0   0.0        0.0\n",
       "   500.0    3100.0      0.0   2382.78        0.0   0.0        0.0\n",
       " 39000.0       0.0      0.0      0.0         0.0   4.51715e5  0.0\n",
       "     0.0       0.0      0.0      0.0   …     0.0   0.0        0.0\n",
       "     0.0       0.0      0.0      0.0         0.0   0.0        0.0\n",
       "     0.0   66412.5      0.0      0.0         0.0   0.0        0.0\n",
       "     0.0       0.0      0.0      0.0         0.0   0.0        0.0\n",
       "     0.0       0.0      0.0      0.0         0.0   0.0        0.0\n",
       "     0.0       0.0      0.0      0.0   …     0.0   0.0        0.0\n",
       "     0.0       0.0      0.0      0.0         0.0   0.0        0.0\n",
       "     0.0       0.0      0.0      0.0         0.0   0.0        0.0\n",
       "     ⋮                                 ⋱                      \n",
       "     0.0       0.0      0.0      0.0         0.0   0.0        0.0\n",
       "     0.0       0.0      0.0      0.0         0.0   0.0        0.0\n",
       "     0.0       0.0      0.0      0.0   …     0.0   0.0        0.0\n",
       "     0.0       0.0      0.0      0.0         0.0   0.0        0.0\n",
       "     0.0       0.0      0.0      0.0         0.0   0.0        0.0\n",
       "     0.0       0.0      0.0      0.0         0.0   0.0        0.0\n",
       "     0.0       0.0      0.0      0.0         0.0   0.0        0.0\n",
       "     0.0       0.0      0.0      0.0   …     0.0   0.0        0.0\n",
       "     0.0       0.0      0.0      0.0         0.0   0.0        0.0\n",
       "     0.0       0.0      0.0      0.0         0.0   0.0        0.0\n",
       "     0.0       0.0      0.0      0.0         0.0   0.0        0.0\n",
       "     0.0       0.0      0.0      0.0      1806.86  0.0        4.51715e5"
      ]
     },
     "execution_count": 259,
     "metadata": {},
     "output_type": "execute_result"
    }
   ],
   "source": [
    "xopt = result[\"x_opt\"]"
   ]
  },
  {
   "cell_type": "code",
   "execution_count": 260,
   "id": "b9b833aa",
   "metadata": {},
   "outputs": [
    {
     "data": {
      "text/html": [
       "<div><div style = \"float: left;\"><span>30×16 DataFrame</span></div><div style = \"float: right;\"><span style = \"font-style: italic;\">5 rows omitted</span></div><div style = \"clear: both;\"></div></div><div class = \"data-frame\" style = \"overflow-x: scroll;\"><table class = \"data-frame\" style = \"margin-bottom: 6px;\"><thead><tr class = \"header\"><th class = \"rowNumber\" style = \"font-weight: bold; text-align: right;\">Row</th><th style = \"text-align: left;\">country</th><th style = \"text-align: left;\">Li</th><th style = \"text-align: left;\">Co</th><th style = \"text-align: left;\">Mn</th><th style = \"text-align: left;\">Ni</th><th style = \"text-align: left;\">cathode</th><th style = \"text-align: left;\">graphite</th><th style = \"text-align: left;\">PP</th><th style = \"text-align: left;\">PE</th><th style = \"text-align: left;\">Cu</th><th style = \"text-align: left;\">Al</th><th style = \"text-align: left;\">cell</th><th style = \"text-align: left;\">PET</th><th style = \"text-align: left;\">electronics</th><th style = \"text-align: left;\">noncell</th><th style = \"text-align: left;\">battery</th></tr><tr class = \"subheader headerLastRow\"><th class = \"rowNumber\" style = \"font-weight: bold; text-align: right;\"></th><th title = \"String\" style = \"text-align: left;\">String</th><th title = \"Float64\" style = \"text-align: left;\">Float64</th><th title = \"Float64\" style = \"text-align: left;\">Float64</th><th title = \"Float64\" style = \"text-align: left;\">Float64</th><th title = \"Float64\" style = \"text-align: left;\">Float64</th><th title = \"Float64\" style = \"text-align: left;\">Float64</th><th title = \"Float64\" style = \"text-align: left;\">Float64</th><th title = \"Float64\" style = \"text-align: left;\">Float64</th><th title = \"Float64\" style = \"text-align: left;\">Float64</th><th title = \"Float64\" style = \"text-align: left;\">Float64</th><th title = \"Float64\" style = \"text-align: left;\">Float64</th><th title = \"Float64\" style = \"text-align: left;\">Float64</th><th title = \"Float64\" style = \"text-align: left;\">Float64</th><th title = \"Float64\" style = \"text-align: left;\">Float64</th><th title = \"Float64\" style = \"text-align: left;\">Float64</th><th title = \"Float64\" style = \"text-align: left;\">Float64</th></tr></thead><tbody><tr><td class = \"rowNumber\" style = \"font-weight: bold; text-align: right;\">1</td><td style = \"text-align: left;\">Argentina</td><td style = \"text-align: right;\">6200.0</td><td style = \"text-align: right;\">0.0</td><td style = \"text-align: right;\">0.0</td><td style = \"text-align: right;\">0.0</td><td style = \"text-align: right;\">0.0</td><td style = \"text-align: right;\">0.0</td><td style = \"text-align: right;\">0.0</td><td style = \"text-align: right;\">0.0</td><td style = \"text-align: right;\">0.0</td><td style = \"text-align: right;\">0.0</td><td style = \"text-align: right;\">0.0</td><td style = \"text-align: right;\">0.0</td><td style = \"text-align: right;\">0.0</td><td style = \"text-align: right;\">0.0</td><td style = \"text-align: right;\">0.0</td></tr><tr><td class = \"rowNumber\" style = \"font-weight: bold; text-align: right;\">2</td><td style = \"text-align: left;\">Australia</td><td style = \"text-align: right;\">1770.29</td><td style = \"text-align: right;\">0.0</td><td style = \"text-align: right;\">0.0</td><td style = \"text-align: right;\">0.0</td><td style = \"text-align: right;\">0.0</td><td style = \"text-align: right;\">0.0</td><td style = \"text-align: right;\">0.0</td><td style = \"text-align: right;\">0.0</td><td style = \"text-align: right;\">0.0</td><td style = \"text-align: right;\">0.0</td><td style = \"text-align: right;\">0.0</td><td style = \"text-align: right;\">0.0</td><td style = \"text-align: right;\">0.0</td><td style = \"text-align: right;\">0.0</td><td style = \"text-align: right;\">0.0</td></tr><tr><td class = \"rowNumber\" style = \"font-weight: bold; text-align: right;\">3</td><td style = \"text-align: left;\">Brazil</td><td style = \"text-align: right;\">2200.0</td><td style = \"text-align: right;\">0.0</td><td style = \"text-align: right;\">67696.8</td><td style = \"text-align: right;\">67000.0</td><td style = \"text-align: right;\">0.0</td><td style = \"text-align: right;\">62376.1</td><td style = \"text-align: right;\">5239.9</td><td style = \"text-align: right;\">0.0</td><td style = \"text-align: right;\">0.0</td><td style = \"text-align: right;\">0.0</td><td style = \"text-align: right;\">0.0</td><td style = \"text-align: right;\">0.0</td><td style = \"text-align: right;\">0.0</td><td style = \"text-align: right;\">0.0</td><td style = \"text-align: right;\">0.0</td></tr><tr><td class = \"rowNumber\" style = \"font-weight: bold; text-align: right;\">4</td><td style = \"text-align: left;\">Canada</td><td style = \"text-align: right;\">500.0</td><td style = \"text-align: right;\">3100.0</td><td style = \"text-align: right;\">0.0</td><td style = \"text-align: right;\">2382.78</td><td style = \"text-align: right;\">0.0</td><td style = \"text-align: right;\">0.0</td><td style = \"text-align: right;\">0.0</td><td style = \"text-align: right;\">0.0</td><td style = \"text-align: right;\">0.0</td><td style = \"text-align: right;\">0.0</td><td style = \"text-align: right;\">0.0</td><td style = \"text-align: right;\">0.0</td><td style = \"text-align: right;\">0.0</td><td style = \"text-align: right;\">0.0</td><td style = \"text-align: right;\">0.0</td></tr><tr><td class = \"rowNumber\" style = \"font-weight: bold; text-align: right;\">5</td><td style = \"text-align: left;\">Chile</td><td style = \"text-align: right;\">39000.0</td><td style = \"text-align: right;\">0.0</td><td style = \"text-align: right;\">0.0</td><td style = \"text-align: right;\">0.0</td><td style = \"text-align: right;\">0.0</td><td style = \"text-align: right;\">0.0</td><td style = \"text-align: right;\">0.0</td><td style = \"text-align: right;\">1309.97</td><td style = \"text-align: right;\">31111.9</td><td style = \"text-align: right;\">0.0</td><td style = \"text-align: right;\">0.0</td><td style = \"text-align: right;\">2258.58</td><td style = \"text-align: right;\">0.0</td><td style = \"text-align: right;\">4.51715e5</td><td style = \"text-align: right;\">0.0</td></tr><tr><td class = \"rowNumber\" style = \"font-weight: bold; text-align: right;\">6</td><td style = \"text-align: left;\">China</td><td style = \"text-align: right;\">0.0</td><td style = \"text-align: right;\">0.0</td><td style = \"text-align: right;\">0.0</td><td style = \"text-align: right;\">0.0</td><td style = \"text-align: right;\">0.0</td><td style = \"text-align: right;\">0.0</td><td style = \"text-align: right;\">0.0</td><td style = \"text-align: right;\">0.0</td><td style = \"text-align: right;\">0.0</td><td style = \"text-align: right;\">0.0</td><td style = \"text-align: right;\">0.0</td><td style = \"text-align: right;\">0.0</td><td style = \"text-align: right;\">0.0</td><td style = \"text-align: right;\">0.0</td><td style = \"text-align: right;\">0.0</td></tr><tr><td class = \"rowNumber\" style = \"font-weight: bold; text-align: right;\">7</td><td style = \"text-align: left;\">Colombia</td><td style = \"text-align: right;\">0.0</td><td style = \"text-align: right;\">0.0</td><td style = \"text-align: right;\">0.0</td><td style = \"text-align: right;\">0.0</td><td style = \"text-align: right;\">0.0</td><td style = \"text-align: right;\">0.0</td><td style = \"text-align: right;\">0.0</td><td style = \"text-align: right;\">0.0</td><td style = \"text-align: right;\">0.0</td><td style = \"text-align: right;\">0.0</td><td style = \"text-align: right;\">0.0</td><td style = \"text-align: right;\">0.0</td><td style = \"text-align: right;\">0.0</td><td style = \"text-align: right;\">0.0</td><td style = \"text-align: right;\">0.0</td></tr><tr><td class = \"rowNumber\" style = \"font-weight: bold; text-align: right;\">8</td><td style = \"text-align: left;\">Congo</td><td style = \"text-align: right;\">0.0</td><td style = \"text-align: right;\">66412.5</td><td style = \"text-align: right;\">0.0</td><td style = \"text-align: right;\">0.0</td><td style = \"text-align: right;\">0.0</td><td style = \"text-align: right;\">0.0</td><td style = \"text-align: right;\">0.0</td><td style = \"text-align: right;\">0.0</td><td style = \"text-align: right;\">0.0</td><td style = \"text-align: right;\">0.0</td><td style = \"text-align: right;\">0.0</td><td style = \"text-align: right;\">0.0</td><td style = \"text-align: right;\">0.0</td><td style = \"text-align: right;\">0.0</td><td style = \"text-align: right;\">0.0</td></tr><tr><td class = \"rowNumber\" style = \"font-weight: bold; text-align: right;\">9</td><td style = \"text-align: left;\">Finland</td><td style = \"text-align: right;\">0.0</td><td style = \"text-align: right;\">0.0</td><td style = \"text-align: right;\">0.0</td><td style = \"text-align: right;\">0.0</td><td style = \"text-align: right;\">0.0</td><td style = \"text-align: right;\">0.0</td><td style = \"text-align: right;\">0.0</td><td style = \"text-align: right;\">0.0</td><td style = \"text-align: right;\">0.0</td><td style = \"text-align: right;\">0.0</td><td style = \"text-align: right;\">0.0</td><td style = \"text-align: right;\">0.0</td><td style = \"text-align: right;\">0.0</td><td style = \"text-align: right;\">0.0</td><td style = \"text-align: right;\">0.0</td></tr><tr><td class = \"rowNumber\" style = \"font-weight: bold; text-align: right;\">10</td><td style = \"text-align: left;\">France</td><td style = \"text-align: right;\">0.0</td><td style = \"text-align: right;\">0.0</td><td style = \"text-align: right;\">0.0</td><td style = \"text-align: right;\">0.0</td><td style = \"text-align: right;\">1.29687e5</td><td style = \"text-align: right;\">0.0</td><td style = \"text-align: right;\">0.0</td><td style = \"text-align: right;\">0.0</td><td style = \"text-align: right;\">0.0</td><td style = \"text-align: right;\">0.0</td><td style = \"text-align: right;\">0.0</td><td style = \"text-align: right;\">0.0</td><td style = \"text-align: right;\">0.0</td><td style = \"text-align: right;\">0.0</td><td style = \"text-align: right;\">0.0</td></tr><tr><td class = \"rowNumber\" style = \"font-weight: bold; text-align: right;\">11</td><td style = \"text-align: left;\">Germany</td><td style = \"text-align: right;\">0.0</td><td style = \"text-align: right;\">0.0</td><td style = \"text-align: right;\">0.0</td><td style = \"text-align: right;\">0.0</td><td style = \"text-align: right;\">0.0</td><td style = \"text-align: right;\">0.0</td><td style = \"text-align: right;\">0.0</td><td style = \"text-align: right;\">0.0</td><td style = \"text-align: right;\">0.0</td><td style = \"text-align: right;\">0.0</td><td style = \"text-align: right;\">0.0</td><td style = \"text-align: right;\">0.0</td><td style = \"text-align: right;\">0.0</td><td style = \"text-align: right;\">0.0</td><td style = \"text-align: right;\">0.0</td></tr><tr><td class = \"rowNumber\" style = \"font-weight: bold; text-align: right;\">12</td><td style = \"text-align: left;\">India</td><td style = \"text-align: right;\">0.0</td><td style = \"text-align: right;\">0.0</td><td style = \"text-align: right;\">0.0</td><td style = \"text-align: right;\">0.0</td><td style = \"text-align: right;\">0.0</td><td style = \"text-align: right;\">0.0</td><td style = \"text-align: right;\">0.0</td><td style = \"text-align: right;\">0.0</td><td style = \"text-align: right;\">0.0</td><td style = \"text-align: right;\">0.0</td><td style = \"text-align: right;\">0.0</td><td style = \"text-align: right;\">0.0</td><td style = \"text-align: right;\">0.0</td><td style = \"text-align: right;\">0.0</td><td style = \"text-align: right;\">0.0</td></tr><tr><td class = \"rowNumber\" style = \"font-weight: bold; text-align: right;\">13</td><td style = \"text-align: left;\">Indonesia</td><td style = \"text-align: right;\">0.0</td><td style = \"text-align: right;\">0.0</td><td style = \"text-align: right;\">0.0</td><td style = \"text-align: right;\">0.0</td><td style = \"text-align: right;\">0.0</td><td style = \"text-align: right;\">0.0</td><td style = \"text-align: right;\">0.0</td><td style = \"text-align: right;\">0.0</td><td style = \"text-align: right;\">0.0</td><td style = \"text-align: right;\">0.0</td><td style = \"text-align: right;\">0.0</td><td style = \"text-align: right;\">0.0</td><td style = \"text-align: right;\">0.0</td><td style = \"text-align: right;\">0.0</td><td style = \"text-align: right;\">0.0</td></tr><tr><td style = \"text-align: right;\">&vellip;</td><td style = \"text-align: right;\">&vellip;</td><td style = \"text-align: right;\">&vellip;</td><td style = \"text-align: right;\">&vellip;</td><td style = \"text-align: right;\">&vellip;</td><td style = \"text-align: right;\">&vellip;</td><td style = \"text-align: right;\">&vellip;</td><td style = \"text-align: right;\">&vellip;</td><td style = \"text-align: right;\">&vellip;</td><td style = \"text-align: right;\">&vellip;</td><td style = \"text-align: right;\">&vellip;</td><td style = \"text-align: right;\">&vellip;</td><td style = \"text-align: right;\">&vellip;</td><td style = \"text-align: right;\">&vellip;</td><td style = \"text-align: right;\">&vellip;</td><td style = \"text-align: right;\">&vellip;</td><td style = \"text-align: right;\">&vellip;</td></tr><tr><td class = \"rowNumber\" style = \"font-weight: bold; text-align: right;\">19</td><td style = \"text-align: left;\">Norway</td><td style = \"text-align: right;\">0.0</td><td style = \"text-align: right;\">0.0</td><td style = \"text-align: right;\">0.0</td><td style = \"text-align: right;\">0.0</td><td style = \"text-align: right;\">0.0</td><td style = \"text-align: right;\">10000.0</td><td style = \"text-align: right;\">0.0</td><td style = \"text-align: right;\">0.0</td><td style = \"text-align: right;\">0.0</td><td style = \"text-align: right;\">60258.8</td><td style = \"text-align: right;\">0.0</td><td style = \"text-align: right;\">0.0</td><td style = \"text-align: right;\">0.0</td><td style = \"text-align: right;\">0.0</td><td style = \"text-align: right;\">0.0</td></tr><tr><td class = \"rowNumber\" style = \"font-weight: bold; text-align: right;\">20</td><td style = \"text-align: left;\">Peru</td><td style = \"text-align: right;\">0.0</td><td style = \"text-align: right;\">0.0</td><td style = \"text-align: right;\">0.0</td><td style = \"text-align: right;\">0.0</td><td style = \"text-align: right;\">0.0</td><td style = \"text-align: right;\">0.0</td><td style = \"text-align: right;\">0.0</td><td style = \"text-align: right;\">0.0</td><td style = \"text-align: right;\">0.0</td><td style = \"text-align: right;\">0.0</td><td style = \"text-align: right;\">0.0</td><td style = \"text-align: right;\">0.0</td><td style = \"text-align: right;\">0.0</td><td style = \"text-align: right;\">0.0</td><td style = \"text-align: right;\">0.0</td></tr><tr><td class = \"rowNumber\" style = \"font-weight: bold; text-align: right;\">21</td><td style = \"text-align: left;\">Philippines</td><td style = \"text-align: right;\">0.0</td><td style = \"text-align: right;\">0.0</td><td style = \"text-align: right;\">0.0</td><td style = \"text-align: right;\">0.0</td><td style = \"text-align: right;\">0.0</td><td style = \"text-align: right;\">0.0</td><td style = \"text-align: right;\">0.0</td><td style = \"text-align: right;\">0.0</td><td style = \"text-align: right;\">0.0</td><td style = \"text-align: right;\">0.0</td><td style = \"text-align: right;\">0.0</td><td style = \"text-align: right;\">0.0</td><td style = \"text-align: right;\">0.0</td><td style = \"text-align: right;\">0.0</td><td style = \"text-align: right;\">0.0</td></tr><tr><td class = \"rowNumber\" style = \"font-weight: bold; text-align: right;\">22</td><td style = \"text-align: left;\">Portugal</td><td style = \"text-align: right;\">0.0</td><td style = \"text-align: right;\">0.0</td><td style = \"text-align: right;\">0.0</td><td style = \"text-align: right;\">0.0</td><td style = \"text-align: right;\">0.0</td><td style = \"text-align: right;\">0.0</td><td style = \"text-align: right;\">0.0</td><td style = \"text-align: right;\">0.0</td><td style = \"text-align: right;\">0.0</td><td style = \"text-align: right;\">0.0</td><td style = \"text-align: right;\">0.0</td><td style = \"text-align: right;\">0.0</td><td style = \"text-align: right;\">0.0</td><td style = \"text-align: right;\">0.0</td><td style = \"text-align: right;\">0.0</td></tr><tr><td class = \"rowNumber\" style = \"font-weight: bold; text-align: right;\">23</td><td style = \"text-align: left;\">Russia</td><td style = \"text-align: right;\">0.0</td><td style = \"text-align: right;\">0.0</td><td style = \"text-align: right;\">0.0</td><td style = \"text-align: right;\">0.0</td><td style = \"text-align: right;\">0.0</td><td style = \"text-align: right;\">0.0</td><td style = \"text-align: right;\">0.0</td><td style = \"text-align: right;\">0.0</td><td style = \"text-align: right;\">0.0</td><td style = \"text-align: right;\">0.0</td><td style = \"text-align: right;\">0.0</td><td style = \"text-align: right;\">0.0</td><td style = \"text-align: right;\">0.0</td><td style = \"text-align: right;\">0.0</td><td style = \"text-align: right;\">0.0</td></tr><tr><td class = \"rowNumber\" style = \"font-weight: bold; text-align: right;\">24</td><td style = \"text-align: left;\">Saudi arabia</td><td style = \"text-align: right;\">0.0</td><td style = \"text-align: right;\">0.0</td><td style = \"text-align: right;\">0.0</td><td style = \"text-align: right;\">0.0</td><td style = \"text-align: right;\">0.0</td><td style = \"text-align: right;\">0.0</td><td style = \"text-align: right;\">0.0</td><td style = \"text-align: right;\">0.0</td><td style = \"text-align: right;\">0.0</td><td style = \"text-align: right;\">0.0</td><td style = \"text-align: right;\">0.0</td><td style = \"text-align: right;\">0.0</td><td style = \"text-align: right;\">0.0</td><td style = \"text-align: right;\">0.0</td><td style = \"text-align: right;\">0.0</td></tr><tr><td class = \"rowNumber\" style = \"font-weight: bold; text-align: right;\">25</td><td style = \"text-align: left;\">South Africa</td><td style = \"text-align: right;\">0.0</td><td style = \"text-align: right;\">0.0</td><td style = \"text-align: right;\">0.0</td><td style = \"text-align: right;\">0.0</td><td style = \"text-align: right;\">0.0</td><td style = \"text-align: right;\">0.0</td><td style = \"text-align: right;\">0.0</td><td style = \"text-align: right;\">0.0</td><td style = \"text-align: right;\">0.0</td><td style = \"text-align: right;\">0.0</td><td style = \"text-align: right;\">0.0</td><td style = \"text-align: right;\">0.0</td><td style = \"text-align: right;\">0.0</td><td style = \"text-align: right;\">0.0</td><td style = \"text-align: right;\">0.0</td></tr><tr><td class = \"rowNumber\" style = \"font-weight: bold; text-align: right;\">26</td><td style = \"text-align: left;\">South korea</td><td style = \"text-align: right;\">0.0</td><td style = \"text-align: right;\">0.0</td><td style = \"text-align: right;\">0.0</td><td style = \"text-align: right;\">0.0</td><td style = \"text-align: right;\">0.0</td><td style = \"text-align: right;\">0.0</td><td style = \"text-align: right;\">0.0</td><td style = \"text-align: right;\">0.0</td><td style = \"text-align: right;\">0.0</td><td style = \"text-align: right;\">0.0</td><td style = \"text-align: right;\">0.0</td><td style = \"text-align: right;\">0.0</td><td style = \"text-align: right;\">0.0</td><td style = \"text-align: right;\">0.0</td><td style = \"text-align: right;\">0.0</td></tr><tr><td class = \"rowNumber\" style = \"font-weight: bold; text-align: right;\">27</td><td style = \"text-align: left;\">Turkey</td><td style = \"text-align: right;\">0.0</td><td style = \"text-align: right;\">0.0</td><td style = \"text-align: right;\">0.0</td><td style = \"text-align: right;\">0.0</td><td style = \"text-align: right;\">0.0</td><td style = \"text-align: right;\">0.0</td><td style = \"text-align: right;\">0.0</td><td style = \"text-align: right;\">0.0</td><td style = \"text-align: right;\">0.0</td><td style = \"text-align: right;\">0.0</td><td style = \"text-align: right;\">0.0</td><td style = \"text-align: right;\">0.0</td><td style = \"text-align: right;\">0.0</td><td style = \"text-align: right;\">0.0</td><td style = \"text-align: right;\">0.0</td></tr><tr><td class = \"rowNumber\" style = \"font-weight: bold; text-align: right;\">28</td><td style = \"text-align: left;\">Ukraine</td><td style = \"text-align: right;\">0.0</td><td style = \"text-align: right;\">0.0</td><td style = \"text-align: right;\">0.0</td><td style = \"text-align: right;\">0.0</td><td style = \"text-align: right;\">0.0</td><td style = \"text-align: right;\">0.0</td><td style = \"text-align: right;\">0.0</td><td style = \"text-align: right;\">0.0</td><td style = \"text-align: right;\">0.0</td><td style = \"text-align: right;\">0.0</td><td style = \"text-align: right;\">0.0</td><td style = \"text-align: right;\">0.0</td><td style = \"text-align: right;\">0.0</td><td style = \"text-align: right;\">0.0</td><td style = \"text-align: right;\">0.0</td></tr><tr><td class = \"rowNumber\" style = \"font-weight: bold; text-align: right;\">29</td><td style = \"text-align: left;\">United Arab Emirates</td><td style = \"text-align: right;\">0.0</td><td style = \"text-align: right;\">0.0</td><td style = \"text-align: right;\">0.0</td><td style = \"text-align: right;\">0.0</td><td style = \"text-align: right;\">0.0</td><td style = \"text-align: right;\">0.0</td><td style = \"text-align: right;\">0.0</td><td style = \"text-align: right;\">0.0</td><td style = \"text-align: right;\">0.0</td><td style = \"text-align: right;\">0.0</td><td style = \"text-align: right;\">0.0</td><td style = \"text-align: right;\">0.0</td><td style = \"text-align: right;\">0.0</td><td style = \"text-align: right;\">0.0</td><td style = \"text-align: right;\">0.0</td></tr><tr><td class = \"rowNumber\" style = \"font-weight: bold; text-align: right;\">30</td><td style = \"text-align: left;\">United States</td><td style = \"text-align: right;\">0.0</td><td style = \"text-align: right;\">0.0</td><td style = \"text-align: right;\">0.0</td><td style = \"text-align: right;\">0.0</td><td style = \"text-align: right;\">0.0</td><td style = \"text-align: right;\">0.0</td><td style = \"text-align: right;\">0.0</td><td style = \"text-align: right;\">0.0</td><td style = \"text-align: right;\">0.0</td><td style = \"text-align: right;\">0.0</td><td style = \"text-align: right;\">3.27494e5</td><td style = \"text-align: right;\">0.0</td><td style = \"text-align: right;\">1806.86</td><td style = \"text-align: right;\">0.0</td><td style = \"text-align: right;\">4.51715e5</td></tr></tbody></table></div>"
      ],
      "text/latex": [
       "\\begin{tabular}{r|ccccccccc}\n",
       "\t& country & Li & Co & Mn & Ni & cathode & graphite & PP & \\\\\n",
       "\t\\hline\n",
       "\t& String & Float64 & Float64 & Float64 & Float64 & Float64 & Float64 & Float64 & \\\\\n",
       "\t\\hline\n",
       "\t1 & Argentina & 6200.0 & 0.0 & 0.0 & 0.0 & 0.0 & 0.0 & 0.0 & $\\dots$ \\\\\n",
       "\t2 & Australia & 1770.29 & 0.0 & 0.0 & 0.0 & 0.0 & 0.0 & 0.0 & $\\dots$ \\\\\n",
       "\t3 & Brazil & 2200.0 & 0.0 & 67696.8 & 67000.0 & 0.0 & 62376.1 & 5239.9 & $\\dots$ \\\\\n",
       "\t4 & Canada & 500.0 & 3100.0 & 0.0 & 2382.78 & 0.0 & 0.0 & 0.0 & $\\dots$ \\\\\n",
       "\t5 & Chile & 39000.0 & 0.0 & 0.0 & 0.0 & 0.0 & 0.0 & 0.0 & $\\dots$ \\\\\n",
       "\t6 & China & 0.0 & 0.0 & 0.0 & 0.0 & 0.0 & 0.0 & 0.0 & $\\dots$ \\\\\n",
       "\t7 & Colombia & 0.0 & 0.0 & 0.0 & 0.0 & 0.0 & 0.0 & 0.0 & $\\dots$ \\\\\n",
       "\t8 & Congo & 0.0 & 66412.5 & 0.0 & 0.0 & 0.0 & 0.0 & 0.0 & $\\dots$ \\\\\n",
       "\t9 & Finland & 0.0 & 0.0 & 0.0 & 0.0 & 0.0 & 0.0 & 0.0 & $\\dots$ \\\\\n",
       "\t10 & France & 0.0 & 0.0 & 0.0 & 0.0 & 1.29687e5 & 0.0 & 0.0 & $\\dots$ \\\\\n",
       "\t11 & Germany & 0.0 & 0.0 & 0.0 & 0.0 & 0.0 & 0.0 & 0.0 & $\\dots$ \\\\\n",
       "\t12 & India & 0.0 & 0.0 & 0.0 & 0.0 & 0.0 & 0.0 & 0.0 & $\\dots$ \\\\\n",
       "\t13 & Indonesia & 0.0 & 0.0 & 0.0 & 0.0 & 0.0 & 0.0 & 0.0 & $\\dots$ \\\\\n",
       "\t14 & Iran & 0.0 & 0.0 & 0.0 & 0.0 & 0.0 & 0.0 & 0.0 & $\\dots$ \\\\\n",
       "\t15 & Japan & 0.0 & 0.0 & 0.0 & 0.0 & 0.0 & 0.0 & 0.0 & $\\dots$ \\\\\n",
       "\t16 & Kazakhstan & 0.0 & 0.0 & 0.0 & 0.0 & 0.0 & 0.0 & 0.0 & $\\dots$ \\\\\n",
       "\t17 & Malaysia & 0.0 & 0.0 & 0.0 & 0.0 & 0.0 & 0.0 & 0.0 & $\\dots$ \\\\\n",
       "\t18 & Mexico & 0.0 & 0.0 & 0.0 & 0.0 & 0.0 & 0.0 & 0.0 & $\\dots$ \\\\\n",
       "\t19 & Norway & 0.0 & 0.0 & 0.0 & 0.0 & 0.0 & 10000.0 & 0.0 & $\\dots$ \\\\\n",
       "\t20 & Peru & 0.0 & 0.0 & 0.0 & 0.0 & 0.0 & 0.0 & 0.0 & $\\dots$ \\\\\n",
       "\t21 & Philippines & 0.0 & 0.0 & 0.0 & 0.0 & 0.0 & 0.0 & 0.0 & $\\dots$ \\\\\n",
       "\t22 & Portugal & 0.0 & 0.0 & 0.0 & 0.0 & 0.0 & 0.0 & 0.0 & $\\dots$ \\\\\n",
       "\t23 & Russia & 0.0 & 0.0 & 0.0 & 0.0 & 0.0 & 0.0 & 0.0 & $\\dots$ \\\\\n",
       "\t24 & Saudi arabia & 0.0 & 0.0 & 0.0 & 0.0 & 0.0 & 0.0 & 0.0 & $\\dots$ \\\\\n",
       "\t25 & South Africa & 0.0 & 0.0 & 0.0 & 0.0 & 0.0 & 0.0 & 0.0 & $\\dots$ \\\\\n",
       "\t26 & South korea & 0.0 & 0.0 & 0.0 & 0.0 & 0.0 & 0.0 & 0.0 & $\\dots$ \\\\\n",
       "\t27 & Turkey & 0.0 & 0.0 & 0.0 & 0.0 & 0.0 & 0.0 & 0.0 & $\\dots$ \\\\\n",
       "\t28 & Ukraine & 0.0 & 0.0 & 0.0 & 0.0 & 0.0 & 0.0 & 0.0 & $\\dots$ \\\\\n",
       "\t29 & United Arab Emirates & 0.0 & 0.0 & 0.0 & 0.0 & 0.0 & 0.0 & 0.0 & $\\dots$ \\\\\n",
       "\t30 & United States & 0.0 & 0.0 & 0.0 & 0.0 & 0.0 & 0.0 & 0.0 & $\\dots$ \\\\\n",
       "\\end{tabular}\n"
      ],
      "text/plain": [
       "\u001b[1m30×16 DataFrame\u001b[0m\n",
       "\u001b[1m Row \u001b[0m│\u001b[1m country              \u001b[0m\u001b[1m Li       \u001b[0m\u001b[1m Co      \u001b[0m\u001b[1m Mn      \u001b[0m\u001b[1m Ni       \u001b[0m\u001b[1m cathode   \u001b[0m\u001b[1m \u001b[0m ⋯\n",
       "     │\u001b[90m String               \u001b[0m\u001b[90m Float64  \u001b[0m\u001b[90m Float64 \u001b[0m\u001b[90m Float64 \u001b[0m\u001b[90m Float64  \u001b[0m\u001b[90m Float64   \u001b[0m\u001b[90m \u001b[0m ⋯\n",
       "─────┼──────────────────────────────────────────────────────────────────────────\n",
       "   1 │ Argentina              6200.0       0.0      0.0      0.0   0.0         ⋯\n",
       "   2 │ Australia              1770.29      0.0      0.0      0.0   0.0\n",
       "   3 │ Brazil                 2200.0       0.0  67696.8  67000.0   0.0\n",
       "   4 │ Canada                  500.0    3100.0      0.0   2382.78  0.0\n",
       "   5 │ Chile                 39000.0       0.0      0.0      0.0   0.0         ⋯\n",
       "   6 │ China                     0.0       0.0      0.0      0.0   0.0\n",
       "   7 │ Colombia                  0.0       0.0      0.0      0.0   0.0\n",
       "   8 │ Congo                     0.0   66412.5      0.0      0.0   0.0\n",
       "   9 │ Finland                   0.0       0.0      0.0      0.0   0.0         ⋯\n",
       "  10 │ France                    0.0       0.0      0.0      0.0   1.29687e5\n",
       "  11 │ Germany                   0.0       0.0      0.0      0.0   0.0\n",
       "  ⋮  │          ⋮               ⋮         ⋮        ⋮        ⋮          ⋮       ⋱\n",
       "  21 │ Philippines               0.0       0.0      0.0      0.0   0.0\n",
       "  22 │ Portugal                  0.0       0.0      0.0      0.0   0.0         ⋯\n",
       "  23 │ Russia                    0.0       0.0      0.0      0.0   0.0\n",
       "  24 │ Saudi arabia              0.0       0.0      0.0      0.0   0.0\n",
       "  25 │ South Africa              0.0       0.0      0.0      0.0   0.0\n",
       "  26 │ South korea               0.0       0.0      0.0      0.0   0.0         ⋯\n",
       "  27 │ Turkey                    0.0       0.0      0.0      0.0   0.0\n",
       "  28 │ Ukraine                   0.0       0.0      0.0      0.0   0.0\n",
       "  29 │ United Arab Emirates      0.0       0.0      0.0      0.0   0.0\n",
       "  30 │ United States             0.0       0.0      0.0      0.0   0.0         ⋯\n",
       "\u001b[36m                                                   10 columns and 9 rows omitted\u001b[0m"
      ]
     },
     "execution_count": 260,
     "metadata": {},
     "output_type": "execute_result"
    }
   ],
   "source": [
    "res_x = DataFrame(xopt, :auto)\n",
    "rename!(res_x, [\"x$i\" => proc for (i, proc) in enumerate(process)])\n",
    "insertcols!(res_x, 1, :country => countries)"
   ]
  },
  {
   "cell_type": "code",
   "execution_count": 261,
   "id": "b8261198",
   "metadata": {},
   "outputs": [
    {
     "data": {
      "text/plain": [
       "\"/Users/bourg/Desktop/Oct31/eco_stoc.csv\""
      ]
     },
     "execution_count": 261,
     "metadata": {},
     "output_type": "execute_result"
    }
   ],
   "source": [
    "CSV.write(\"/Users/bourg/Desktop/Oct31/eco_stoc.csv\", res_x) "
   ]
  },
  {
   "cell_type": "code",
   "execution_count": 250,
   "id": "b0429c00",
   "metadata": {},
   "outputs": [],
   "source": [
    "# i = 0\n",
    "# z_ub = 1e7\n",
    "# x_opt = 0\n",
    "\n",
    "# cuts = []\n",
    "# res0 = masterprob(cuts)\n",
    "# x_hat = res0[\"x_hat\"]\n",
    "# z_lb = res0[\"z_lb\"]\n",
    "\n",
    "# for i in 1:15\n",
    "#     new_cut, z_hat = add_cuts(x_hat, D)\n",
    "#     if z_hat < z_ub\n",
    "#         z_ub = z_hat\n",
    "#         x_opt = x_hat\n",
    "#     end\n",
    "\n",
    "#     push!(cuts, new_cut)\n",
    "\n",
    "#     res1 = masterprob(cuts)\n",
    "#     z_lb = res1[\"z_lb\"]\n",
    "#     x_hat = res1[\"x_hat\"]\n",
    "\n",
    "# end\n",
    "\n",
    "# println(z_lb, z_ub)\n"
   ]
  },
  {
   "cell_type": "code",
   "execution_count": 245,
   "id": "e5eaf2dd",
   "metadata": {},
   "outputs": [
    {
     "data": {
      "text/plain": [
       "-7.91652262914418e6"
      ]
     },
     "execution_count": 245,
     "metadata": {},
     "output_type": "execute_result"
    }
   ],
   "source": [
    "z_lb = -7.932124752515396e6\n",
    "z_ub = -7.91652262914418e6"
   ]
  },
  {
   "cell_type": "code",
   "execution_count": null,
   "id": "b1545807",
   "metadata": {},
   "outputs": [],
   "source": []
  },
  {
   "cell_type": "code",
   "execution_count": 247,
   "id": "d8edb41d",
   "metadata": {},
   "outputs": [
    {
     "data": {
      "text/plain": [
       "true"
      ]
     },
     "execution_count": 247,
     "metadata": {},
     "output_type": "execute_result"
    }
   ],
   "source": [
    "(z_ub - z_lb) <= 0.01 * min(abs(z_ub), abs(z_lb))"
   ]
  },
  {
   "cell_type": "code",
   "execution_count": 227,
   "id": "96df3b84",
   "metadata": {},
   "outputs": [],
   "source": [
    "zlb = -8.01779695932381e6                \n",
    "zub = -7.91652262914418e6;"
   ]
  },
  {
   "cell_type": "code",
   "execution_count": 242,
   "id": "424546f8",
   "metadata": {},
   "outputs": [
    {
     "data": {
      "text/plain": [
       "false"
      ]
     },
     "execution_count": 242,
     "metadata": {},
     "output_type": "execute_result"
    }
   ],
   "source": [
    "(zub - z_lb) > 0.02 * min(abs(zub), abs(zlb))"
   ]
  },
  {
   "cell_type": "code",
   "execution_count": 230,
   "id": "fd2cdc27",
   "metadata": {},
   "outputs": [
    {
     "data": {
      "text/plain": [
       "791652.262914418"
      ]
     },
     "execution_count": 230,
     "metadata": {},
     "output_type": "execute_result"
    }
   ],
   "source": []
  },
  {
   "cell_type": "markdown",
   "id": "a697c6c3",
   "metadata": {},
   "source": [
    "---"
   ]
  },
  {
   "cell_type": "code",
   "execution_count": 54,
   "id": "4df6e8a0",
   "metadata": {},
   "outputs": [
    {
     "name": "stdout",
     "output_type": "stream",
     "text": [
      "Academic license - for non-commercial use only - expires 2023-11-27\r\n"
     ]
    },
    {
     "data": {
      "text/plain": [
       "-1.0838412704242925e8"
      ]
     },
     "execution_count": 54,
     "metadata": {},
     "output_type": "execute_result"
    }
   ],
   "source": [
    "i = 0\n",
    "z_ub = 1e7\n",
    "x_opt = 0\n",
    "\n",
    "cuts = []\n",
    "res0 = masterprob(cuts)\n",
    "x_hat = res0[\"x_hat\"]\n",
    "z_lb = res0[\"z_lb\"]"
   ]
  },
  {
   "cell_type": "code",
   "execution_count": 55,
   "id": "b6d97119",
   "metadata": {},
   "outputs": [
    {
     "name": "stdout",
     "output_type": "stream",
     "text": [
      "Academic license - for non-commercial use only - expires 2023-11-27\r\n",
      "Academic license - for non-commercial use only - expires 2023-11-27\r\n",
      "Academic license - for non-commercial use only - expires 2023-11-27\r\n",
      "Academic license - for non-commercial use only - expires 2023-11-27\r\n",
      "Academic license - for non-commercial use only - expires 2023-11-27\r\n",
      "Academic license - for non-commercial use only - expires 2023-11-27\r\n",
      "Academic license - for non-commercial use only - expires 2023-11-27\r\n"
     ]
    },
    {
     "data": {
      "text/plain": [
       "(Dict{String, Any}(\"gradient\" => [-0.12781186121027854 0.08988994647713167 … 2.2113261655335346 4.368008737708988; -0.16449709458296913 -0.0 … 11.774861570087412 9.483831396993969; … ; 2.6613651079346035 1.8976178674364448 … 14.600020319491604 12.174982796330704; -0.0 -0.0 … 5.658420887375434 3.1612097799728622], \"intersection\" => 1.8197671097142857e6), -7.91652262914418e6)"
      ]
     },
     "execution_count": 55,
     "metadata": {},
     "output_type": "execute_result"
    }
   ],
   "source": [
    "new_cut, z_hat = add_cuts(x_hat, D)"
   ]
  },
  {
   "cell_type": "code",
   "execution_count": 56,
   "id": "1c695026",
   "metadata": {},
   "outputs": [
    {
     "data": {
      "text/plain": [
       "Dict{String, Any} with 2 entries:\n",
       "  \"gradient\"     => [-0.127812 0.0898899 … 2.21133 4.36801; -0.164497 -0.0 … 11…\n",
       "  \"intersection\" => 1.81977e6"
      ]
     },
     "execution_count": 56,
     "metadata": {},
     "output_type": "execute_result"
    }
   ],
   "source": [
    "new_cut"
   ]
  },
  {
   "cell_type": "code",
   "execution_count": 57,
   "id": "eb47c7dd",
   "metadata": {},
   "outputs": [
    {
     "data": {
      "text/plain": [
       "1-element Vector{Any}:\n",
       " Dict{String, Any}(\"gradient\" => [-0.12781186121027854 0.08988994647713167 … 2.2113261655335346 4.368008737708988; -0.16449709458296913 -0.0 … 11.774861570087412 9.483831396993969; … ; 2.6613651079346035 1.8976178674364448 … 14.600020319491604 12.174982796330704; -0.0 -0.0 … 5.658420887375434 3.1612097799728622], \"intersection\" => 1.8197671097142857e6)"
      ]
     },
     "execution_count": 57,
     "metadata": {},
     "output_type": "execute_result"
    }
   ],
   "source": [
    "push!(cuts, new_cut)"
   ]
  },
  {
   "cell_type": "code",
   "execution_count": null,
   "id": "416a08d4",
   "metadata": {},
   "outputs": [],
   "source": []
  },
  {
   "cell_type": "code",
   "execution_count": null,
   "id": "75227b4f",
   "metadata": {},
   "outputs": [],
   "source": []
  },
  {
   "cell_type": "code",
   "execution_count": 125,
   "id": "925b94e4",
   "metadata": {},
   "outputs": [
    {
     "name": "stdout",
     "output_type": "stream",
     "text": [
      "Academic license - for non-commercial use only - expires 2023-11-27\r\n"
     ]
    }
   ],
   "source": [
    "model = Model(Gurobi.Optimizer)\n",
    "@variable(model, x[1:ncty, 1:nproc] >= 0)\n",
    "@variable(model, theta >= M)\n",
    "\n",
    "for k in 1:nproc\n",
    "    for i in 1:ncty\n",
    "        @constraint(model, x[i,k] <= capacity[!, 2:end][i,k])\n",
    "    end\n",
    "end\n",
    "for k in 1:nproc\n",
    "    @constraint(model, sum(x[i,k] for i in 1:ncty) == input_amount[k])\n",
    "end\n",
    "\n",
    "proD = (x .* Matrix(regional_EF[:,2:end])) * ones(nproc,1) \n",
    "proM = x * price\n",
    "\n",
    "pro_sink = zeros(ncty, nproc)\n",
    "for k in 1:nproc\n",
    "    for i in 1:ncty\n",
    "        pro_sink[i,k] = regional_EF[i, k+1] * (sink_c[i]/emission_c[i] + es_ratio)\n",
    "    end\n",
    "end\n",
    "proS = (x.*pro_sink)*ones(nproc,1);"
   ]
  },
  {
   "cell_type": "code",
   "execution_count": 126,
   "id": "63fa58fb",
   "metadata": {},
   "outputs": [
    {
     "data": {
      "text/plain": [
       "1.8197671097142857e6"
      ]
     },
     "execution_count": 126,
     "metadata": {},
     "output_type": "execute_result"
    }
   ],
   "source": [
    "G = new_cut[\"gradient\"]\n",
    "g = new_cut[\"intersection\"]"
   ]
  },
  {
   "cell_type": "code",
   "execution_count": 127,
   "id": "98cb56c0",
   "metadata": {},
   "outputs": [],
   "source": [
    "@constraint(model, sum(x .* G) + theta >= g);"
   ]
  },
  {
   "cell_type": "code",
   "execution_count": 128,
   "id": "0ee6ae9c",
   "metadata": {},
   "outputs": [
    {
     "name": "stdout",
     "output_type": "stream",
     "text": [
      "Gurobi Optimizer version 9.1.2 build v9.1.2rc0 (win64)\r\n",
      "Thread count: 6 physical cores, 12 logical processors, using up to 12 threads\r\n",
      "Optimize a model with 466 rows, 451 columns and 1294 nonzeros\r\n",
      "Model fingerprint: 0xc3f55207\r\n",
      "Coefficient statistics:\r\n",
      "  Matrix range     [2e-02, 2e+01]\r\n",
      "  Objective range  [7e-03, 3e+02]\r\n",
      "  Bounds range     [1e+08, 1e+08]\r\n",
      "  RHS range        [2e+02, 1e+11]\r\n",
      "Warning: Model contains large rhs\r\n",
      "         Consider reformulating model or setting NumericFocus parameter\r\n",
      "         to avoid numerical issues.\r\n",
      "Presolve removed 460 rows and 399 columns\r\n",
      "Presolve time: 0.00s\r\n",
      "Presolved: 6 rows, 52 columns, 93 nonzeros\r\n",
      "\r\n",
      "Iteration    Objective       Primal Inf.    Dual Inf.      Time\r\n",
      "       0   -1.0838413e+08   3.139613e+06   0.000000e+00      0s\r\n",
      "       5   -1.4442859e+07   0.000000e+00   0.000000e+00      0s\r\n",
      "\r\n",
      "Solved in 5 iterations and 0.00 seconds\r\n",
      "Optimal objective -1.444285937e+07\r\n",
      "\r\n",
      "User-callback calls 43, time in user-callback 0.00 sec\r\n"
     ]
    }
   ],
   "source": [
    "@objective(model, Min, sum(proD-proS)+theta)\n",
    "JuMP.optimize!(model)"
   ]
  },
  {
   "cell_type": "code",
   "execution_count": 129,
   "id": "fe6ac013",
   "metadata": {},
   "outputs": [
    {
     "data": {
      "text/plain": [
       "30×15 Matrix{Float64}:\n",
       "  6200.0       0.0      0.0      0.0   …     0.0   0.0        0.0\n",
       "  1370.29      0.0      0.0      0.0         0.0   0.0        0.0\n",
       "  2200.0       0.0  57596.8  67000.0         0.0   0.0        0.0\n",
       "   500.0    3100.0      0.0   2382.78        0.0   0.0        0.0\n",
       " 39000.0       0.0      0.0      0.0         0.0   0.0        0.0\n",
       "     0.0       0.0      0.0      0.0   …     0.0   0.0        0.0\n",
       "     0.0       0.0      0.0      0.0         0.0   0.0        0.0\n",
       "     0.0   66412.5      0.0      0.0         0.0   0.0        0.0\n",
       "     0.0       0.0      0.0      0.0         0.0   0.0        0.0\n",
       "     0.0       0.0      0.0      0.0         0.0   0.0        0.0\n",
       "     0.0       0.0      0.0      0.0   …     0.0   0.0        0.0\n",
       "     0.0       0.0      0.0      0.0         0.0   0.0        0.0\n",
       "     0.0       0.0      0.0      0.0         0.0   0.0        0.0\n",
       "     ⋮                                 ⋱                      \n",
       "     0.0       0.0      0.0      0.0         0.0   0.0        0.0\n",
       "     0.0       0.0  10100.0      0.0         0.0   0.0        0.0\n",
       "     0.0       0.0      0.0      0.0   …     0.0   0.0        0.0\n",
       "     0.0       0.0      0.0      0.0         0.0   0.0        0.0\n",
       "     0.0       0.0      0.0      0.0         0.0   0.0        0.0\n",
       "     0.0       0.0      0.0      0.0         0.0   0.0        0.0\n",
       "     0.0       0.0      0.0      0.0         0.0   0.0        0.0\n",
       "     0.0       0.0      0.0      0.0   …     0.0   0.0        0.0\n",
       "     0.0       0.0      0.0      0.0         0.0   0.0        0.0\n",
       "     0.0       0.0      0.0      0.0         0.0   0.0        0.0\n",
       "     0.0       0.0      0.0      0.0         0.0   4.51715e5  0.0\n",
       "     0.0       0.0      0.0      0.0      1806.86  0.0        4.51715e5"
      ]
     },
     "execution_count": 129,
     "metadata": {},
     "output_type": "execute_result"
    }
   ],
   "source": [
    "x_hat2 = JuMP.value.(x)"
   ]
  },
  {
   "cell_type": "code",
   "execution_count": 123,
   "id": "8c431258",
   "metadata": {},
   "outputs": [
    {
     "data": {
      "text/plain": [
       "30×15 Matrix{Float64}:\n",
       "  6200.0       0.0      0.0      0.0   …     0.0   0.0        0.0\n",
       "  1770.29      0.0      0.0      0.0         0.0   0.0        0.0\n",
       "  2200.0       0.0  67696.8  67000.0         0.0   0.0        0.0\n",
       "   500.0    3100.0      0.0   2382.78        0.0   0.0        0.0\n",
       " 39000.0       0.0      0.0      0.0         0.0   4.51715e5  0.0\n",
       "     0.0       0.0      0.0      0.0   …     0.0   0.0        0.0\n",
       "     0.0       0.0      0.0      0.0         0.0   0.0        0.0\n",
       "     0.0   66412.5      0.0      0.0         0.0   0.0        0.0\n",
       "     0.0       0.0      0.0      0.0         0.0   0.0        0.0\n",
       "     0.0       0.0      0.0      0.0         0.0   0.0        0.0\n",
       "     0.0       0.0      0.0      0.0   …     0.0   0.0        0.0\n",
       "     0.0       0.0      0.0      0.0         0.0   0.0        0.0\n",
       "     0.0       0.0      0.0      0.0         0.0   0.0        0.0\n",
       "     ⋮                                 ⋱                      \n",
       "     0.0       0.0      0.0      0.0         0.0   0.0        0.0\n",
       "     0.0       0.0      0.0      0.0         0.0   0.0        0.0\n",
       "     0.0       0.0      0.0      0.0   …     0.0   0.0        0.0\n",
       "     0.0       0.0      0.0      0.0         0.0   0.0        0.0\n",
       "     0.0       0.0      0.0      0.0         0.0   0.0        0.0\n",
       "     0.0       0.0      0.0      0.0         0.0   0.0        0.0\n",
       "     0.0       0.0      0.0      0.0         0.0   0.0        0.0\n",
       "     0.0       0.0      0.0      0.0   …     0.0   0.0        0.0\n",
       "     0.0       0.0      0.0      0.0         0.0   0.0        0.0\n",
       "     0.0       0.0      0.0      0.0         0.0   0.0        0.0\n",
       "     0.0       0.0      0.0      0.0         0.0   0.0        0.0\n",
       "     0.0       0.0      0.0      0.0      1806.86  0.0        4.51715e5"
      ]
     },
     "execution_count": 123,
     "metadata": {},
     "output_type": "execute_result"
    }
   ],
   "source": [
    "x_hat1 = JuMP.value.(x)"
   ]
  },
  {
   "cell_type": "code",
   "execution_count": 130,
   "id": "db24d375",
   "metadata": {},
   "outputs": [
    {
     "data": {
      "text/plain": [
       "-7.073771924593389e6"
      ]
     },
     "execution_count": 130,
     "metadata": {},
     "output_type": "execute_result"
    }
   ],
   "source": [
    "theta_hat2 = JuMP.value.(theta)"
   ]
  },
  {
   "cell_type": "code",
   "execution_count": 94,
   "id": "786f0672",
   "metadata": {},
   "outputs": [
    {
     "data": {
      "text/plain": [
       "-1.44428593698294e7"
      ]
     },
     "execution_count": 94,
     "metadata": {},
     "output_type": "execute_result"
    }
   ],
   "source": [
    "z_lb = JuMP.objective_value(model)"
   ]
  },
  {
   "cell_type": "code",
   "execution_count": null,
   "id": "a01c7e9d",
   "metadata": {},
   "outputs": [],
   "source": []
  },
  {
   "cell_type": "code",
   "execution_count": 100,
   "id": "1de7cea6",
   "metadata": {},
   "outputs": [
    {
     "name": "stdout",
     "output_type": "stream",
     "text": [
      "Academic license - for non-commercial use only - expires 2023-11-27\r\n",
      "Academic license - for non-commercial use only - expires 2023-11-27\r\n",
      "Academic license - for non-commercial use only - expires 2023-11-27\r\n",
      "Academic license - for non-commercial use only - expires 2023-11-27\r\n",
      "Academic license - for non-commercial use only - expires 2023-11-27\r\n",
      "Academic license - for non-commercial use only - expires 2023-11-27\r\n",
      "Academic license - for non-commercial use only - expires 2023-11-27\r\n",
      "Academic license - for non-commercial use only - expires 2023-11-27\r\n"
     ]
    },
    {
     "data": {
      "text/plain": [
       "(Dict{String, Any}(\"gradient\" => [-0.12781186121027854 0.08988994647713167 … 2.2113261655335346 4.368008737708988; -0.16449709458296913 -0.0 … 11.774861570087412 9.483831396993969; … ; 2.6613651079346035 1.8976178674364448 … 14.600020319491604 12.174982796330704; -0.0 -0.0 … 5.658420887375434 3.1612097799728622], \"intersection\" => 1.8197671097142857e6), -7.91652262914418e6)"
      ]
     },
     "execution_count": 100,
     "metadata": {},
     "output_type": "execute_result"
    }
   ],
   "source": [
    "i = 0\n",
    "z_ub = 1e7\n",
    "x_opt = 0\n",
    "\n",
    "cuts = []\n",
    "res0 = masterprob(cuts)\n",
    "x_hat = res0[\"x_hat\"]\n",
    "z_lb = res0[\"z_lb\"]\n",
    "\n",
    "new_cut, z_hat = add_cuts(x_hat, D)"
   ]
  },
  {
   "cell_type": "code",
   "execution_count": 102,
   "id": "5414ca7e",
   "metadata": {},
   "outputs": [
    {
     "data": {
      "text/plain": [
       "(-7.91652262914418e6, 1.0e7)"
      ]
     },
     "execution_count": 102,
     "metadata": {},
     "output_type": "execute_result"
    }
   ],
   "source": [
    "z_hat, z_ub"
   ]
  },
  {
   "cell_type": "code",
   "execution_count": 104,
   "id": "8ebe81fc",
   "metadata": {},
   "outputs": [],
   "source": [
    "z_ub = z_hat\n",
    "x_opt = x_hat;"
   ]
  },
  {
   "cell_type": "code",
   "execution_count": 106,
   "id": "0dafeab2",
   "metadata": {},
   "outputs": [
    {
     "data": {
      "text/plain": [
       "1-element Vector{Any}:\n",
       " Dict{String, Any}(\"gradient\" => [-0.12781186121027854 0.08988994647713167 … 2.2113261655335346 4.368008737708988; -0.16449709458296913 -0.0 … 11.774861570087412 9.483831396993969; … ; 2.6613651079346035 1.8976178674364448 … 14.600020319491604 12.174982796330704; -0.0 -0.0 … 5.658420887375434 3.1612097799728622], \"intersection\" => 1.8197671097142857e6)"
      ]
     },
     "execution_count": 106,
     "metadata": {},
     "output_type": "execute_result"
    }
   ],
   "source": [
    "push!(cuts, new_cut)"
   ]
  },
  {
   "cell_type": "code",
   "execution_count": 107,
   "id": "d6e0f1e2",
   "metadata": {},
   "outputs": [
    {
     "name": "stdout",
     "output_type": "stream",
     "text": [
      "Academic license - for non-commercial use only - expires 2023-11-27\r\n"
     ]
    },
    {
     "data": {
      "text/plain": [
       "Dict{String, Any} with 2 entries:\n",
       "  \"x_hat\" => [6200.0 0.0 … 0.0 0.0; 1370.29 0.0 … 0.0 0.0; … ; 0.0 0.0 … 4.5171…\n",
       "  \"z_lb\"  => -1.44429e7"
      ]
     },
     "execution_count": 107,
     "metadata": {},
     "output_type": "execute_result"
    }
   ],
   "source": [
    "res1 = masterprob(cuts)"
   ]
  },
  {
   "cell_type": "code",
   "execution_count": 111,
   "id": "0a6a363b",
   "metadata": {},
   "outputs": [
    {
     "data": {
      "text/plain": [
       "-1.44428593698294e7"
      ]
     },
     "execution_count": 111,
     "metadata": {},
     "output_type": "execute_result"
    }
   ],
   "source": [
    "z_lb = res1[\"z_lb\"]"
   ]
  },
  {
   "cell_type": "code",
   "execution_count": 113,
   "id": "6b8cc3f1",
   "metadata": {},
   "outputs": [],
   "source": [
    "x_hat = res1[\"x_hat\"];"
   ]
  },
  {
   "cell_type": "code",
   "execution_count": 114,
   "id": "3218f1e5",
   "metadata": {},
   "outputs": [
    {
     "name": "stdout",
     "output_type": "stream",
     "text": [
      "Academic license - for non-commercial use only - expires 2023-11-27\r\n",
      "Academic license - for non-commercial use only - expires 2023-11-27\r\n",
      "Academic license - for non-commercial use only - expires 2023-11-27\r\n",
      "Academic license - for non-commercial use only - expires 2023-11-27\r\n",
      "Academic license - for non-commercial use only - expires 2023-11-27\r\n",
      "Academic license - for non-commercial use only - expires 2023-11-27\r\n",
      "Academic license - for non-commercial use only - expires 2023-11-27\r\n"
     ]
    },
    {
     "data": {
      "text/plain": [
       "(Dict{String, Any}(\"gradient\" => [-0.12781186121027854 0.08988994647713167 … 2.3995522894787125 4.620436383490762; -0.16449709458296913 -0.0 … 0.8340864939957929 9.431066318012025; … ; 1.0590860694264475 1.8976178674364448 … -0.00993317862443092 12.174982796330704; -0.0 -0.0 … 0.919324128563967 2.8158268387991185], \"intersection\" => 1.8197671097142857e6), -6.646553849579561e6)"
      ]
     },
     "execution_count": 114,
     "metadata": {},
     "output_type": "execute_result"
    }
   ],
   "source": [
    "add_cuts(x_hat, D)"
   ]
  },
  {
   "cell_type": "code",
   "execution_count": 115,
   "id": "eae6bdd4",
   "metadata": {},
   "outputs": [
    {
     "name": "stdout",
     "output_type": "stream",
     "text": [
      "Academic license - for non-commercial use only - expires 2023-11-27\r\n"
     ]
    },
    {
     "data": {
      "text/plain": [
       "Dict{String, Any} with 5 entries:\n",
       "  \"y_opt\" => [0.0 0.0 … 0.0 0.0; 0.0 0.0 … 0.0 0.0; … ; 0.0 0.0 … 0.0 0.0; 0.0 …\n",
       "  \"s_opt\" => 0.0\n",
       "  \"pi\"    => [0.127812 -0.0898899 … -2.39955 -2.63577; 0.164497 0.0 … -0.834086…\n",
       "  \"alp\"   => 0.0\n",
       "  \"qyhat\" => 4.51504e5"
      ]
     },
     "execution_count": 115,
     "metadata": {},
     "output_type": "execute_result"
    }
   ],
   "source": [
    "subprob(x_hat, D[1])"
   ]
  },
  {
   "cell_type": "code",
   "execution_count": null,
   "id": "93b8f3bd",
   "metadata": {},
   "outputs": [],
   "source": []
  },
  {
   "cell_type": "code",
   "execution_count": null,
   "id": "24c1c1c2",
   "metadata": {},
   "outputs": [],
   "source": []
  },
  {
   "cell_type": "code",
   "execution_count": 172,
   "id": "277400b4",
   "metadata": {},
   "outputs": [],
   "source": [
    "x_hat = x_hat1;"
   ]
  },
  {
   "cell_type": "code",
   "execution_count": 173,
   "id": "27e2f932",
   "metadata": {},
   "outputs": [
    {
     "data": {
      "text/plain": [
       "225857.62"
      ]
     },
     "execution_count": 173,
     "metadata": {},
     "output_type": "execute_result"
    }
   ],
   "source": [
    "d = D[1]"
   ]
  },
  {
   "cell_type": "code",
   "execution_count": 174,
   "id": "f0d13695",
   "metadata": {},
   "outputs": [
    {
     "name": "stdout",
     "output_type": "stream",
     "text": [
      "Academic license - for non-commercial use only - expires 2023-11-27\r\n",
      "Gurobi Optimizer version 9.1.2 build v9.1.2rc0 (win64)\r\n",
      "Thread count: 6 physical cores, 12 logical processors, using up to 12 threads\r\n",
      "Optimize a model with 900 rows, 13501 columns and 27001 nonzeros\r\n",
      "Model fingerprint: 0x0c7eff29\r\n",
      "Coefficient statistics:\r\n",
      "  Matrix range     [1e+00, 1e+00]\r\n",
      "  Objective range  [8e-03, 1e+01]\r\n",
      "  Bounds range     [0e+00, 0e+00]\r\n",
      "  RHS range        [5e+02, 5e+05]\r\n",
      "Presolve removed 900 rows and 13501 columns\r\n",
      "Presolve time: 0.00s\r\n",
      "Presolve: All rows and columns removed\r\n",
      "Iteration    Objective       Primal Inf.    Dual Inf.      Time\r\n",
      "       0    1.9657527e+05   0.000000e+00   0.000000e+00      0s\r\n",
      "\r\n",
      "Solved in 0 iterations and 0.01 seconds\r\n",
      "Optimal objective  1.965752693e+05\r\n",
      "\r\n",
      "User-callback calls 29, time in user-callback 0.00 sec\r\n"
     ]
    }
   ],
   "source": [
    "for d in D\n",
    "    model = Model(Gurobi.Optimizer)\n",
    "    @variable(model, y[1:ncty, 1:ncty, 1:nproc] >= 0)\n",
    "    @variable(model, s >= 0)\n",
    "\n",
    "    # node output flow constraint\n",
    "    cstr_op = [@constraint(model, sum(y[i,j,k] for j in 1:ncty) == x_hat[i,k]) for k in 1:nproc for i in 1:ncty]\n",
    "\n",
    "    # cathode LCA constraints (index=5)\n",
    "    cstr_cth = [@constraint(model, sum(y[i,j,k] for i in 1:ncty) == x_hat[j,5]*scaler[k]) for k in cathode for j in 1:ncty]\n",
    "\n",
    "    # cell LCA constraints (index=11)\n",
    "    cstr_cell = [@constraint(model, sum(y[i,j,k] for i in 1:ncty) == x_hat[j,11]*scaler[k]) for k in cell for j in 1:ncty]\n",
    "\n",
    "    # non cell LCA constraints (index=14)\n",
    "    cstr_noncell = [@constraint(model, sum(y[i,j,k] for i in 1:ncty) == x_hat[j,14]*scaler[k]) for k in noncell for j in 1:ncty]\n",
    "\n",
    "    # battery LCA constraints (index=15)\n",
    "    cstr_battery = [@constraint(model, sum(y[i,j,k] for i in 1:ncty) == x_hat[j,15]*scaler[k]) for k in battery for j in 1:ncty]\n",
    "\n",
    "    @constraint(model, cstr_alp, sum(y[i,mkt_loc,mkt_proc] for i in 1:ncty) + s >= d)\n",
    "    for j in 1:ncty-1\n",
    "        @constraint(model, sum(y[i,j,mkt_proc] for i in 1:ncty) == 0)\n",
    "    end \n",
    "\n",
    "\n",
    "    #######################\n",
    "    tranD = Vector{AffExpr}(undef, ncty)\n",
    "    tranS= Vector{AffExpr}(undef, ncty)\n",
    "    for j in 1:ncty\n",
    "        arc_emi = 0\n",
    "        for i in 1:ncty\n",
    "            amount = sum(y[i,j,k] for k in 1:nproc)\n",
    "            arc_emi += (amount * distance[!, 2:end][i,j] * EF_trans)\n",
    "        end\n",
    "        tranD[j] = arc_emi\n",
    "        tranS[j] = arc_emi * (sink_c[j]/emission_c[j] + es_ratio)\n",
    "    end\n",
    "\n",
    "\n",
    "    @objective(model, Min, sum(tranD-tranS) + s*penalty)\n",
    "    JuMP.optimize!(model)\n",
    "end"
   ]
  },
  {
   "cell_type": "code",
   "execution_count": 175,
   "id": "3feeb14d",
   "metadata": {},
   "outputs": [
    {
     "data": {
      "text/plain": [
       "0.0"
      ]
     },
     "execution_count": 175,
     "metadata": {},
     "output_type": "execute_result"
    }
   ],
   "source": [
    "qy_hat1 = JuMP.objective_value(model)\n",
    "sub_y1 = JuMP.value.(y)\n",
    "sub_s1 = JuMP.value.(s)"
   ]
  },
  {
   "cell_type": "code",
   "execution_count": 176,
   "id": "fa07ede0",
   "metadata": {},
   "outputs": [
    {
     "data": {
      "text/plain": [
       "0.0"
      ]
     },
     "execution_count": 176,
     "metadata": {},
     "output_type": "execute_result"
    }
   ],
   "source": [
    "op_pi1 = [getdual(con) for con in cstr_op]\n",
    "op_pi1 = reshape(op_pi1, ncty, nproc)\n",
    "\n",
    "cth_pi1 = reformu_pi(5, cathode, cstr_cth)\n",
    "cell_pi1 = reformu_pi(11, cell, cstr_cell)\n",
    "noncell_pi1 = reformu_pi(14, noncell, cstr_noncell)\n",
    "battery_pi1 = reformu_pi(15, battery, cstr_battery)\n",
    "pi_matrix1 = op_pi1 + cth_pi1 + cell_pi1 + noncell_pi1 + battery_pi1\n",
    "\n",
    "alp1 = getdual(cstr_alp)"
   ]
  },
  {
   "cell_type": "code",
   "execution_count": 156,
   "id": "8aca7901",
   "metadata": {},
   "outputs": [
    {
     "data": {
      "text/plain": [
       "0.0"
      ]
     },
     "execution_count": 156,
     "metadata": {},
     "output_type": "execute_result"
    }
   ],
   "source": [
    "qy_hat2 = JuMP.objective_value(model)\n",
    "sub_y2 = JuMP.value.(y)\n",
    "sub_s2 = JuMP.value.(s)"
   ]
  },
  {
   "cell_type": "code",
   "execution_count": 157,
   "id": "28728eb4",
   "metadata": {},
   "outputs": [
    {
     "data": {
      "text/plain": [
       "30×15 Matrix{Float64}:\n",
       "  0.127812   -0.0898899  -2.02277     …  -2.15795   -2.39955      -2.63577\n",
       "  0.164497    0.0        -0.583463       -6.11574   -0.834086     -6.19768\n",
       "  0.062538    0.0         0.062538       -3.35342   -0.32557      -5.87118\n",
       "  0.128633    0.128633   -1.81422        -1.93942   -2.19593      -5.3938\n",
       "  0.111558    0.0        -1.67871        -1.64678   -2.07691     -18.9181\n",
       "  0.0         0.0        -0.578394    …  -1.37385   -0.953965     -1.37385\n",
       " -0.0223146  -0.240016   -2.13377        -2.30807   -2.51391      -4.03107\n",
       " -0.152984    0.13146    -0.00776108     -6.91252   -0.214301     -8.88406\n",
       "  0.0         0.0        -1.5092         -1.8562    -1.8891       -3.59509\n",
       "  0.0         0.0        -0.609721       -0.493715  -0.985292     -0.493715\n",
       "  0.0         0.0        -1.22293     …  -1.59942   -1.5985       -1.59942\n",
       "  0.0         0.0        -0.0584193      -2.48233   -0.433991     -2.48233\n",
       "  0.0         0.0        -0.371318       -0.860489  -0.74689      -0.860489\n",
       "  ⋮                                   ⋱                          \n",
       "  0.0         0.0         0.0            -3.63753   -0.260115     -7.51844\n",
       "  0.0        -0.425992    0.173148       -7.46997   -0.100733     -8.06758\n",
       "  0.0         0.0         0.0         …  -4.40206   -0.227224     -4.40206\n",
       "  0.0         0.0        -0.452483       -2.20007   -0.828055     -2.20007\n",
       "  0.0        -0.186904   -0.252553       -7.14889   -0.145328     -7.14889\n",
       "  0.0         0.0        -1.2297         -1.88741   -1.47962      -1.88741\n",
       "  0.0         0.0        -1.2174         -5.18832   -1.46732      -5.18832\n",
       "  0.0         0.0        -0.199614    …  -1.79902   -0.575185     -1.79902\n",
       "  0.0        -0.248577   -0.529656       -7.29256   -0.779576     -7.29256\n",
       "  0.0        -0.0307565  -1.74178        -2.09881   -2.11735      -2.09881\n",
       " -1.05909    -1.89762    -1.29848        -8.9416     0.00993318   -8.9416\n",
       "  0.0         0.0        -0.543752        0.0       -0.919324      0.612745"
      ]
     },
     "execution_count": 157,
     "metadata": {},
     "output_type": "execute_result"
    }
   ],
   "source": [
    "op_pi2 = [getdual(con) for con in cstr_op]\n",
    "op_pi2 = reshape(op_pi2, ncty, nproc)\n",
    "\n",
    "cth_pi2 = reformu_pi(5, cathode, cstr_cth)\n",
    "cell_pi2 = reformu_pi(11, cell, cstr_cell)\n",
    "noncell_pi2 = reformu_pi(14, noncell, cstr_noncell)\n",
    "battery_pi2 = reformu_pi(15, battery, cstr_battery)\n",
    "pi_matrix2 = op_pi2 + cth_pi2 + cell_pi2 + noncell_pi2 + battery_pi2\n",
    "\n",
    "alp2 = getdual(cstr_alp)"
   ]
  },
  {
   "cell_type": "code",
   "execution_count": 160,
   "id": "33ebb58a",
   "metadata": {},
   "outputs": [
    {
     "data": {
      "text/plain": [
       "false"
      ]
     },
     "execution_count": 160,
     "metadata": {},
     "output_type": "execute_result"
    }
   ],
   "source": [
    "op_pi1 == op_pi2"
   ]
  },
  {
   "cell_type": "code",
   "execution_count": 161,
   "id": "11e10361",
   "metadata": {},
   "outputs": [
    {
     "data": {
      "text/plain": [
       "false"
      ]
     },
     "execution_count": 161,
     "metadata": {},
     "output_type": "execute_result"
    }
   ],
   "source": [
    "cth_pi1 == cth_pi2"
   ]
  },
  {
   "cell_type": "code",
   "execution_count": 164,
   "id": "3b52192a",
   "metadata": {},
   "outputs": [
    {
     "data": {
      "text/plain": [
       "false"
      ]
     },
     "execution_count": 164,
     "metadata": {},
     "output_type": "execute_result"
    }
   ],
   "source": [
    "cell_pi1 == cell_pi2"
   ]
  },
  {
   "cell_type": "code",
   "execution_count": 165,
   "id": "c55b5f12",
   "metadata": {},
   "outputs": [
    {
     "data": {
      "text/plain": [
       "false"
      ]
     },
     "execution_count": 165,
     "metadata": {},
     "output_type": "execute_result"
    }
   ],
   "source": [
    "noncell_pi1 == noncell_pi2"
   ]
  },
  {
   "cell_type": "code",
   "execution_count": 166,
   "id": "fd7ba9f6",
   "metadata": {},
   "outputs": [
    {
     "data": {
      "text/plain": [
       "false"
      ]
     },
     "execution_count": 166,
     "metadata": {},
     "output_type": "execute_result"
    }
   ],
   "source": [
    "battery_pi1 == battery_pi2"
   ]
  },
  {
   "cell_type": "code",
   "execution_count": 169,
   "id": "597dc2a6",
   "metadata": {},
   "outputs": [
    {
     "data": {
      "text/plain": [
       "false"
      ]
     },
     "execution_count": 169,
     "metadata": {},
     "output_type": "execute_result"
    }
   ],
   "source": [
    "pi_matrix1[:,1] == pi_matrix2[:,2]"
   ]
  },
  {
   "cell_type": "code",
   "execution_count": 171,
   "id": "21e723ba",
   "metadata": {},
   "outputs": [
    {
     "name": "stdout",
     "output_type": "stream",
     "text": [
      "(-0.6322869704056888, -0.1529843099906445)\n",
      "(-0.1135170989960177, 0.0)\n",
      "(-1.461923867459026, 0.1403551710491303)\n",
      "(-1.1897393305285533, 0.0)\n",
      "(-0.08761891679301259, 0.0)\n",
      "(-0.868654925031171, 0.0)\n",
      "(-1.0123247094337913, 0.0)\n",
      "(-2.6613651079346035, -1.0590860694264475)\n"
     ]
    }
   ],
   "source": [
    "for i in 1:30\n",
    "    if pi_matrix1[i,1] != pi_matrix2[i,1]\n",
    "        println((pi_matrix1[i,1], pi_matrix2[i,1]))\n",
    "    end\n",
    "end"
   ]
  },
  {
   "cell_type": "code",
   "execution_count": 182,
   "id": "a0173b30",
   "metadata": {},
   "outputs": [],
   "source": [
    "x = x_hat2;"
   ]
  },
  {
   "cell_type": "code",
   "execution_count": 183,
   "id": "225ec245",
   "metadata": {},
   "outputs": [
    {
     "name": "stdout",
     "output_type": "stream",
     "text": [
      "Academic license - for non-commercial use only - expires 2023-11-27\r\n",
      "Academic license - for non-commercial use only - expires 2023-11-27\r\n",
      "Academic license - for non-commercial use only - expires 2023-11-27\r\n",
      "Academic license - for non-commercial use only - expires 2023-11-27\r\n",
      "Academic license - for non-commercial use only - expires 2023-11-27\r\n",
      "Academic license - for non-commercial use only - expires 2023-11-27\r\n",
      "Academic license - for non-commercial use only - expires 2023-11-27\r\n"
     ]
    }
   ],
   "source": [
    "G = []\n",
    "g = []\n",
    "qy = []\n",
    "for d in D\n",
    "    res = subprob(x, d)\n",
    "    gradient = -1 * res[\"pi\"]\n",
    "    itc = d * res[\"alp\"]\n",
    "\n",
    "    push!(G, gradient)\n",
    "    push!(g, itc)\n",
    "    push!(qy, res[\"qyhat\"])\n",
    "end"
   ]
  },
  {
   "cell_type": "code",
   "execution_count": 181,
   "id": "abf07bb2",
   "metadata": {},
   "outputs": [
    {
     "data": {
      "text/plain": [
       "7-element Vector{Any}:\n",
       " 196575.26928507572\n",
       " 196575.26928507572\n",
       " 196575.26928507572\n",
       " 196575.26928507572\n",
       " 467604.4132850759\n",
       " 738633.5572850754\n",
       "      1.2806918452850753e6"
      ]
     },
     "execution_count": 181,
     "metadata": {},
     "output_type": "execute_result"
    }
   ],
   "source": [
    "G1 = G\n",
    "g1 = g\n",
    "qy1 = qy"
   ]
  },
  {
   "cell_type": "code",
   "execution_count": 184,
   "id": "2fa2c9f0",
   "metadata": {},
   "outputs": [
    {
     "data": {
      "text/plain": [
       "7-element Vector{Any}:\n",
       " 451504.45165644935\n",
       " 451504.45165644935\n",
       " 451504.45165644935\n",
       " 451504.45165644935\n",
       " 722533.5956564496\n",
       " 993562.7396564491\n",
       "      1.5356210276564488e6"
      ]
     },
     "execution_count": 184,
     "metadata": {},
     "output_type": "execute_result"
    }
   ],
   "source": [
    "G2 = G\n",
    "g2 = g\n",
    "qy2 = qy"
   ]
  },
  {
   "cell_type": "code",
   "execution_count": 198,
   "id": "c8a0dbb5",
   "metadata": {},
   "outputs": [
    {
     "data": {
      "text/plain": [
       "30×15 Matrix{Float64}:\n",
       " -0.127812    0.0898899   3.31216   …   2.15795    2.21133     4.36801\n",
       " -0.164497   -0.0         2.76232       6.11574   11.7749      9.48383\n",
       " -0.062538   -0.0        -0.0           3.35342    9.02438     9.02996\n",
       " -0.128633   -0.128633    3.09363       1.93942    0.967228    5.21857\n",
       " -0.111558   -0.0         2.80099       1.64678    0.0226337   8.08391\n",
       " -0.0        -0.0         2.23935   …   1.37385    7.03227     4.60723\n",
       "  0.0223146   0.240016    3.46228       2.30807    2.33557     5.05207\n",
       "  0.632287   -0.13146     3.5591        6.91252   12.5891     13.6793\n",
       " -0.0        -0.0         3.01041       1.8562     2.44871     4.88062\n",
       " -0.0        -0.0         1.09355       0.493715   6.15214     3.7271\n",
       " -0.0        -0.0         2.75363   …   1.59942    3.68458     3.97549\n",
       " -0.0        -0.0         0.745077      2.48233    8.14075     5.71571\n",
       " -0.0        -0.0         0.929458      0.860489   6.51891     4.09387\n",
       "  ⋮                                 ⋱                         \n",
       " -0.0        -0.0         0.284109      3.63753    9.31626    10.8312\n",
       "  1.18974     0.425992    4.11655       7.46997   13.1348     11.9446\n",
       "  0.0876189  -0.0         1.04864   …   4.40206   10.0605      7.63545\n",
       " -0.0        -0.0         1.20713       2.20007    7.8585      5.43346\n",
       "  0.868655    0.186904    3.79547       7.14889   12.8073     10.3823\n",
       " -0.0        -0.0         3.04162       1.88741    5.23633     4.05956\n",
       " -0.0        -0.0         3.02932       5.18832   10.8467      8.4217\n",
       " -0.0        -0.0         0.908919  …   1.79902    7.45744     5.03241\n",
       "  1.01232     0.248577    3.93914       7.29256   12.951      10.5259\n",
       " -0.0         0.0307565   3.25302       2.09881    1.94559     4.14992\n",
       "  2.66137     1.89762     5.58818       8.9416    14.6        12.175\n",
       " -0.0        -0.0         1.15421      -0.0        5.65842     3.16121"
      ]
     },
     "execution_count": 198,
     "metadata": {},
     "output_type": "execute_result"
    }
   ],
   "source": [
    "G11 = sum(G1) / 7"
   ]
  },
  {
   "cell_type": "code",
   "execution_count": 199,
   "id": "b46d2ea2",
   "metadata": {},
   "outputs": [
    {
     "data": {
      "text/plain": [
       "30×15 Matrix{Float64}:\n",
       " -0.127812    0.0898899   2.02277     …   2.15795    2.39955      4.62044\n",
       " -0.164497   -0.0         0.583463        6.11574    0.834086     9.43107\n",
       " -0.062538   -0.0        -0.062538        3.35342    0.32557      9.10456\n",
       " -0.128633   -0.128633    1.81422         1.93942    2.19593      7.54189\n",
       " -0.111558   -0.0         1.67871         1.64678    2.07691     21.2529\n",
       " -0.0        -0.0         0.578394    …   1.37385    0.953965     4.60723\n",
       "  0.0223146   0.240016    2.13377         2.30807    2.51391      5.92503\n",
       "  0.152984   -0.13146     0.00776108      6.91252    0.214301    12.1174\n",
       " -0.0        -0.0         1.5092          1.8562     1.8891       5.80706\n",
       " -0.0        -0.0         0.609721        0.493715   0.985292     3.7271\n",
       " -0.0        -0.0         1.22293     …   1.59942    1.5985       3.97549\n",
       " -0.0        -0.0         0.0584193       2.48233    0.433991     5.71571\n",
       " -0.0        -0.0         0.371318        0.860489   0.74689      4.09387\n",
       "  ⋮                                   ⋱                          \n",
       " -0.0        -0.0        -0.0             3.63753    0.260115    10.7518\n",
       " -0.0         0.425992   -0.173148        7.46997    0.100733    11.301\n",
       " -0.0        -0.0        -0.0         …   4.40206    0.227224     7.63545\n",
       " -0.0        -0.0         0.452483        2.20007    0.828055     5.43346\n",
       " -0.0         0.186904    0.252553        7.14889    0.145328    10.3823\n",
       " -0.0        -0.0         1.2297          1.88741    1.47962      4.05956\n",
       " -0.0        -0.0         1.2174          5.18832    1.46732      8.4217\n",
       " -0.0        -0.0         0.199614    …   1.79902    0.575185     5.03241\n",
       " -0.0         0.248577    0.529656        7.29256    0.779576    10.5259\n",
       " -0.0         0.0307565   1.74178         2.09881    2.11735      4.14992\n",
       "  1.05909     1.89762     1.29848         8.9416    -0.00993318  12.175\n",
       " -0.0        -0.0         0.543752       -0.0        0.919324     2.81583"
      ]
     },
     "execution_count": 199,
     "metadata": {},
     "output_type": "execute_result"
    }
   ],
   "source": [
    "G22 = sum(G2) / 7"
   ]
  },
  {
   "cell_type": "code",
   "execution_count": 208,
   "id": "e9bc3205",
   "metadata": {},
   "outputs": [
    {
     "data": {
      "text/plain": [
       "1.8197671097142857e6"
      ]
     },
     "execution_count": 208,
     "metadata": {},
     "output_type": "execute_result"
    }
   ],
   "source": [
    "g11 = sum(g1)/7"
   ]
  },
  {
   "cell_type": "code",
   "execution_count": 209,
   "id": "767c299f",
   "metadata": {},
   "outputs": [
    {
     "data": {
      "text/plain": [
       "1.8197671097142857e6"
      ]
     },
     "execution_count": 209,
     "metadata": {},
     "output_type": "execute_result"
    }
   ],
   "source": [
    "g22 = sum(g2)/7"
   ]
  },
  {
   "cell_type": "code",
   "execution_count": 210,
   "id": "9e774b8b",
   "metadata": {},
   "outputs": [
    {
     "data": {
      "text/plain": [
       "true"
      ]
     },
     "execution_count": 210,
     "metadata": {},
     "output_type": "execute_result"
    }
   ],
   "source": [
    "g1 == g2"
   ]
  },
  {
   "cell_type": "code",
   "execution_count": null,
   "id": "7e6390f1",
   "metadata": {},
   "outputs": [],
   "source": []
  }
 ],
 "metadata": {
  "kernelspec": {
   "display_name": "Julia 1.8.3",
   "language": "julia",
   "name": "julia-1.8"
  },
  "language_info": {
   "file_extension": ".jl",
   "mimetype": "application/julia",
   "name": "julia",
   "version": "1.8.3"
  }
 },
 "nbformat": 4,
 "nbformat_minor": 5
}
