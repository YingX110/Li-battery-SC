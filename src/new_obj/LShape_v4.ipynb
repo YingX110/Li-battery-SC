{
 "cells": [
  {
   "cell_type": "code",
   "execution_count": 1,
   "id": "5edf3ebd",
   "metadata": {},
   "outputs": [],
   "source": [
    "using JuMP, Gurobi\n",
    "using CSV, LinearAlgebra, DataFrames\n",
    "using Plots\n",
    "using DelimitedFiles"
   ]
  },
  {
   "cell_type": "code",
   "execution_count": 2,
   "id": "93d2a5ce",
   "metadata": {},
   "outputs": [],
   "source": [
    "#load social and ecological data and orgnize \n",
    "FL = repeat([Float64], inner=15)\n",
    "dtype = append!([String], FL);\n",
    "\n",
    "regional_EF = CSV.File(\"C:/Users/bourg/.julia/environments/batterySC/Li-battery-SC/data/social/new_EF_SC1.csv\",header=1,delim=\",\", types=dtype) |> DataFrame    \n",
    "capacity = CSV.File(\"C:/Users/bourg/.julia/environments/batterySC/Li-battery-SC/data/social/capacity2.csv\",header=1,delim=\",\", types=dtype) |> DataFrame    \n",
    "distance = CSV.File(\"C:/Users/bourg/.julia/environments/batterySC/Li-battery-SC/data/social/distance.csv\",header=1,delim=\",\") |> DataFrame \n",
    "LCA_model = CSV.File(\"C:/Users/bourg/.julia/environments/batterySC/Li-battery-SC/data/social/LCA_model2.csv\",header=1,delim=\",\") |> DataFrame \n",
    "D_Dsoc = CSV.File(\"C:/Users/bourg/.julia/environments/batterySC/Li-battery-SC/data/social/D_Dsoc1.csv\",header=1,delim=\",\") |> DataFrame\n",
    "GDP = CSV.File(\"C:/Users/bourg/.julia/environments/batterySC/Li-battery-SC/data/social/GDP.csv\",header=1,delim=\",\") |> DataFrame;\n",
    "emi_sink = CSV.File(\"C:/Users/bourg/.julia/environments/batterySC/Li-battery-SC/data/SC_regional/emission_sink1.csv\",header=1,delim=\",\") |> DataFrame;"
   ]
  },
  {
   "cell_type": "code",
   "execution_count": 3,
   "id": "5118b2b5",
   "metadata": {},
   "outputs": [],
   "source": [
    "cell_demand = 0.001*164.98*(1.369*1e6)*2           # annual demand of Li battery for tesla (1.369M EV/yr, ~2 NMC111 pack/EV, 164.98 kg/pack (35kwh/pack), 80~100 kWh per EV)\n",
    "\n",
    "global_sink = 1.099e10                        # global pub (ocean) CO2 sequestration (ton/yr)\n",
    "global_sink_tot = 2.236e10                  # global total (ocean+land) CO2 sequestration (ton/yr)\n",
    "global_emi = 3.53e10                          # global CO2 emission (ton/yr)\n",
    "global_gdp = 96882e9                          # 2021 global GDP ($/yr)\n",
    "es_ratio = global_sink/global_emi\n",
    "es_ratio_tot = global_sink_tot/global_emi\n",
    "emission_c = emi_sink[!, \"emission\"]          # national CO2 emission (ton/yr)\n",
    "sink_c = emi_sink[!, \"sink ton/yr\"]           # national CO2 sink (ton/yr)\n",
    "\n",
    "# D = D_Dsoc[!, \"D\"]          # national CO2 emission (ton/yr)\n",
    "Dsoc = D_Dsoc[!, \"Dsoc ton/yr\"]           # national CO2 sink (ton/yr)\n",
    "\n",
    "EF_trans = 1.005/10000                        # ton CO2/km*ton (The average freight truck in the U.S. emits 161.8 grams of CO2 per ton-mile)\n",
    "process = LCA_model[!,\"process\"]\n",
    "countries = capacity[!,\"country\"]\n",
    "ncty = size(countries,1)                          # No. of countries\n",
    "nproc = size(process,1);                          # No. of processes \n",
    "\n",
    "mkt_loc = findfirst(isequal(\"United States\"), countries)\n",
    "mkt_proc = findfirst(isequal(\"battery\"), process)\n",
    "\n",
    "# seperate model\n",
    "cathode = collect(1:4)\n",
    "cell = collect(5:10)\n",
    "noncell = [12,13]\n",
    "battery = [11,14]\n",
    "scaler = LCA_model[!,\"scaler\"]\n",
    "price = LCA_model[!,\"price (usd/ton product)\"]\n",
    "vGDP = GDP[!,\"GDP usd\"];"
   ]
  },
  {
   "cell_type": "code",
   "execution_count": 4,
   "id": "e6d8b773",
   "metadata": {},
   "outputs": [],
   "source": [
    "# penalty = 10000 # ton/yr\n",
    "penalty = 5; # ton/yr"
   ]
  },
  {
   "cell_type": "code",
   "execution_count": 5,
   "id": "d326e8f0",
   "metadata": {},
   "outputs": [],
   "source": [
    "up_cath = scaler[1:4] * scaler[5] * scaler[11]\n",
    "up_cell = scaler[5:10] * scaler[11]\n",
    "cell_sef = scaler[11]\n",
    "up_noncell = scaler[12:13] * scaler[14]\n",
    "noncell_sef = scaler[14]\n",
    "battery_sef = scaler[15];"
   ]
  },
  {
   "cell_type": "code",
   "execution_count": 54,
   "id": "fcfae35d",
   "metadata": {},
   "outputs": [
    {
     "data": {
      "text/plain": [
       "15-element Vector{Float64}:\n",
       "  49670.291589732\n",
       "  69512.470736544\n",
       "  67696.846500888\n",
       "  69382.78329114\n",
       " 129687.44540400001\n",
       "  72376.074329\n",
       "   5239.896784\n",
       "   1309.974196\n",
       "  31111.887154999997\n",
       "  60258.81301599999\n",
       " 327493.549\n",
       "   2258.5762\n",
       "   1806.86096\n",
       " 451715.24\n",
       " 451715.24"
      ]
     },
     "execution_count": 54,
     "metadata": {},
     "output_type": "execute_result"
    }
   ],
   "source": [
    "ipt = []\n",
    "ipt = vcat(up_cath, up_cell, cell_sef, up_noncell, noncell_sef, battery_sef) .* cell_demand\n",
    "input_amount = ipt"
   ]
  },
  {
   "cell_type": "code",
   "execution_count": 61,
   "id": "b548eb11",
   "metadata": {},
   "outputs": [
    {
     "data": {
      "text/plain": [
       "8-element Vector{Float64}:\n",
       " 0.5\n",
       " 0.7\n",
       " 0.7\n",
       " 0.8\n",
       " 0.8\n",
       " 0.8\n",
       " 0.9\n",
       " 1.0"
      ]
     },
     "execution_count": 61,
     "metadata": {},
     "output_type": "execute_result"
    }
   ],
   "source": [
    "Efficiency = [0.5, 0.7, 0.7, 0.8, 0.8, 0.8, 0.9, 1]"
   ]
  },
  {
   "cell_type": "markdown",
   "id": "015c778c",
   "metadata": {},
   "source": [
    "---"
   ]
  },
  {
   "cell_type": "markdown",
   "id": "2f814c33",
   "metadata": {},
   "source": [
    "### Solve subproblem to get dual $\\pi$ and $\\alpha$"
   ]
  },
  {
   "cell_type": "code",
   "execution_count": 66,
   "id": "05f2e73c",
   "metadata": {},
   "outputs": [
    {
     "data": {
      "text/plain": [
       "reformu_pi (generic function with 2 methods)"
      ]
     },
     "execution_count": 66,
     "metadata": {},
     "output_type": "execute_result"
    }
   ],
   "source": [
    "function reformu_pi(eff, col_idx, proc_idx, ls_cstr)\n",
    "    pi_matrix = zeros(ncty, nproc)\n",
    "    pi = [getdual(con) for con in ls_cstr]\n",
    "    B = []\n",
    "    for k in proc_idx\n",
    "        append!(B, eff * scaler[k] * ones(ncty))\n",
    "    end\n",
    "    pi = pi .* B\n",
    "    pi = reshape(pi, ncty, size(proc_idx)[1])\n",
    "    pi_matrix[:,col_idx] = sum(pi, dims=2)\n",
    "    \n",
    "    return pi_matrix\n",
    "end"
   ]
  },
  {
   "cell_type": "code",
   "execution_count": 67,
   "id": "82fcf67f",
   "metadata": {},
   "outputs": [
    {
     "data": {
      "text/plain": [
       "subprob (generic function with 1 method)"
      ]
     },
     "execution_count": 67,
     "metadata": {},
     "output_type": "execute_result"
    }
   ],
   "source": [
    "function subprob(x_hat, eff)\n",
    "    model = Model(Gurobi.Optimizer)\n",
    "    set_silent(model)\n",
    "    @variable(model, y[1:ncty, 1:ncty, 1:nproc] >= 0)\n",
    "    @variable(model, s >= 0)\n",
    "\n",
    "    # node output flow constraint\n",
    "    cstr_op = [@constraint(model, sum(y[i,j,k] for j in 1:ncty) == eff*x_hat[i,k]) for k in 1:nproc for i in 1:ncty]\n",
    "\n",
    "    # cathode LCA constraints (index=5)\n",
    "    cstr_cth = [@constraint(model, sum(y[i,j,k] for i in 1:ncty) == eff*x_hat[j,5]*scaler[k]) for k in cathode for j in 1:ncty]\n",
    "\n",
    "    # cell LCA constraints (index=11)\n",
    "    cstr_cell = [@constraint(model, sum(y[i,j,k] for i in 1:ncty) == eff*x_hat[j,11]*scaler[k]) for k in cell for j in 1:ncty]\n",
    "\n",
    "    # non cell LCA constraints (index=14)\n",
    "    cstr_noncell = [@constraint(model, sum(y[i,j,k] for i in 1:ncty) == eff*x_hat[j,14]*scaler[k]) for k in noncell for j in 1:ncty]\n",
    "\n",
    "    # battery LCA constraints (index=15)\n",
    "    cstr_battery = [@constraint(model, sum(y[i,j,k] for i in 1:ncty) == eff*x_hat[j,15]*scaler[k]) for k in battery for j in 1:ncty]\n",
    "    \n",
    "    @constraint(model, cstr_alp, sum(y[i,mkt_loc,mkt_proc] for i in 1:ncty) + s >= cell_demand)\n",
    "    for j in 1:ncty-1\n",
    "        @constraint(model, sum(y[i,j,mkt_proc] for i in 1:ncty) == 0)\n",
    "    end \n",
    "    \n",
    "    \n",
    "    #######################\n",
    "    tranD = Vector{AffExpr}(undef, ncty)\n",
    "    tranS= Vector{AffExpr}(undef, ncty)\n",
    "    for j in 1:ncty\n",
    "        arc_emi = 0\n",
    "        for i in 1:ncty\n",
    "            amount = sum(y[i,j,k] for k in 1:nproc)\n",
    "            arc_emi += (amount * distance[!, 2:end][i,j] * EF_trans)\n",
    "        end\n",
    "        tranD[j] = arc_emi\n",
    "        tranS[j] = arc_emi * (sink_c[j]/emission_c[j] + es_ratio)\n",
    "    end\n",
    "    \n",
    "    \n",
    "    @objective(model, Min, sum(tranD-tranS) + s*penalty)\n",
    "    JuMP.optimize!(model)\n",
    "    \n",
    "    qy_hat = JuMP.objective_value(model)\n",
    "    sub_y = JuMP.value.(y)\n",
    "    sub_s = JuMP.value.(s)\n",
    "    \n",
    "    \n",
    "    ####################### \n",
    "    op_pi = [getdual(con) for con in cstr_op]\n",
    "    op_pi = reshape(op_pi, ncty, nproc) * eff\n",
    "\n",
    "    cth_pi = reformu_pi(eff, 5, cathode, cstr_cth)\n",
    "    cell_pi = reformu_pi(eff, 11, cell, cstr_cell)\n",
    "    noncell_pi = reformu_pi(eff, 14, noncell, cstr_noncell)\n",
    "    battery_pi = reformu_pi(eff, 15, battery, cstr_battery)\n",
    "    pi_matrix = op_pi + cth_pi + cell_pi + noncell_pi + battery_pi\n",
    "    \n",
    "    alp = getdual(cstr_alp)\n",
    "\n",
    "    \n",
    "    #######################\n",
    "    result = Dict([\"qyhat\"=>qy_hat, \"y_opt\"=>sub_y, \"s_opt\"=>sub_s, \"pi\"=>pi_matrix, \"alp\"=>alp]);\n",
    "    return result\n",
    "    \n",
    "end\n"
   ]
  },
  {
   "cell_type": "markdown",
   "id": "01a4df41",
   "metadata": {},
   "source": [
    "### Solve master problem"
   ]
  },
  {
   "cell_type": "code",
   "execution_count": 68,
   "id": "3ec63d44",
   "metadata": {},
   "outputs": [
    {
     "data": {
      "text/plain": [
       "-5.0e7"
      ]
     },
     "execution_count": 68,
     "metadata": {},
     "output_type": "execute_result"
    }
   ],
   "source": [
    "M = -5e7"
   ]
  },
  {
   "cell_type": "code",
   "execution_count": 69,
   "id": "bd4fb20b",
   "metadata": {},
   "outputs": [
    {
     "data": {
      "text/plain": [
       "masterprob (generic function with 1 method)"
      ]
     },
     "execution_count": 69,
     "metadata": {},
     "output_type": "execute_result"
    }
   ],
   "source": [
    "function masterprob(cuts)\n",
    "    model = Model(Gurobi.Optimizer)\n",
    "    set_silent(model)\n",
    "    @variable(model, x[1:ncty, 1:nproc] >= 0)\n",
    "    @variable(model, theta >= M)\n",
    "    \n",
    "    for k in 1:nproc\n",
    "        for i in 1:ncty\n",
    "            @constraint(model, x[i,k] <= capacity[!, 2:end][i,k])\n",
    "        end\n",
    "    end\n",
    "#     for k in 1:nproc\n",
    "#         @constraint(model, sum(x[i,k] for i in 1:ncty) == input_amount[k])\n",
    "#     end\n",
    "    \n",
    "    proD = (x .* Matrix(regional_EF[:,2:end])) * ones(nproc,1) \n",
    "    proM = x * price\n",
    "\n",
    "    pro_sink = zeros(ncty, nproc)\n",
    "    for k in 1:nproc\n",
    "        for i in 1:ncty\n",
    "            pro_sink[i,k] = regional_EF[i, k+1] * (sink_c[i]/emission_c[i] + es_ratio)\n",
    "        end\n",
    "    end\n",
    "    proS = (x.*pro_sink)*ones(nproc,1) \n",
    "    \n",
    "    if cuts != []\n",
    "        for cut in cuts\n",
    "            G = cut[\"gradient\"]\n",
    "            g = cut[\"intersection\"]\n",
    "            @constraint(model, sum(x .* G) + theta >= g)\n",
    "        end\n",
    "    end\n",
    "    \n",
    "    @objective(model, Min, sum(proD-proS)+theta)\n",
    "    JuMP.optimize!(model);\n",
    "    \n",
    "    x_hat = JuMP.value.(x)\n",
    "    theta_hat = JuMP.value.(theta)\n",
    "    z_lb = JuMP.objective_value(model)\n",
    "    \n",
    "    result = Dict([\"x_hat\"=>x_hat, \"z_lb\"=>z_lb])\n",
    "    return result\n",
    "end"
   ]
  },
  {
   "cell_type": "markdown",
   "id": "34c32338",
   "metadata": {},
   "source": [
    "### Generate cuts"
   ]
  },
  {
   "cell_type": "code",
   "execution_count": 75,
   "id": "a7595372",
   "metadata": {},
   "outputs": [
    {
     "data": {
      "text/plain": [
       "add_cuts (generic function with 1 method)"
      ]
     },
     "execution_count": 75,
     "metadata": {},
     "output_type": "execute_result"
    }
   ],
   "source": [
    "function add_cuts(x, Efficiency)\n",
    "    G = [] # gradient\n",
    "    g = 0 # intersection\n",
    "    qy = 0\n",
    "    \n",
    "    for eff in Efficiency\n",
    "        res = subprob(x, eff)\n",
    "        gradient = -1 * res[\"pi\"]\n",
    "        \n",
    "        push!(G, gradient)\n",
    "        g += cell_demand * res[\"alp\"]\n",
    "        qy += res[\"qyhat\"]\n",
    "    end\n",
    "    \n",
    "    proD = (x .* Matrix(regional_EF[:,2:end])) * ones(nproc,1) \n",
    "    pro_sink = zeros(ncty, nproc)\n",
    "    for k in 1:nproc\n",
    "        for i in 1:ncty\n",
    "            pro_sink[i,k] = regional_EF[i, k+1] * (sink_c[i]/emission_c[i] + es_ratio)\n",
    "        end\n",
    "    end\n",
    "    proS = (x.*pro_sink)*ones(nproc,1) \n",
    "    z_hat = sum(proD - proS) + qy/size(D)[1]\n",
    "    Exp_G = sum(G) / size(D)[1]\n",
    "    Exp_g = sum(g) / size(D)[1]\n",
    "    \n",
    "    cut = Dict([\"gradient\"=>Exp_G, \"intersection\"=>Exp_g])\n",
    "    return cut, z_hat\n",
    "end\n"
   ]
  },
  {
   "cell_type": "markdown",
   "id": "c9c29956",
   "metadata": {},
   "source": [
    "### L Shape Method"
   ]
  },
  {
   "cell_type": "code",
   "execution_count": 76,
   "id": "f6fba313",
   "metadata": {},
   "outputs": [
    {
     "data": {
      "text/plain": [
       "main (generic function with 1 method)"
      ]
     },
     "execution_count": 76,
     "metadata": {},
     "output_type": "execute_result"
    }
   ],
   "source": [
    "function main(toler)\n",
    "    i = 0\n",
    "    z_ub = 1e7\n",
    "    x_opt = 0\n",
    "    \n",
    "    cuts = []\n",
    "    res0 = masterprob(cuts)\n",
    "    x_hat = res0[\"x_hat\"]\n",
    "    z_lb = res0[\"z_lb\"]\n",
    "    \n",
    "    while (z_ub - z_lb) > toler * min(abs(z_ub), abs(z_lb))\n",
    "        new_cut, z_hat = add_cuts(x_hat, Efficiency)\n",
    "        if z_hat < z_ub\n",
    "            z_ub = z_hat\n",
    "            x_opt = x_hat\n",
    "        end\n",
    "        \n",
    "        push!(cuts, new_cut)\n",
    "        \n",
    "        res1 = masterprob(cuts)\n",
    "        z_lb = res1[\"z_lb\"]\n",
    "        x_hat = res1[\"x_hat\"]\n",
    "        \n",
    "        i += 1\n",
    "    end\n",
    "    \n",
    "    result = Dict([\"z_lb\"=>z_lb, \"z_ub\"=>z_ub, \"x_opt\"=>x_opt, \"iteration\"=>i])\n",
    "    return result\n",
    "#     println(z_lb, z_ub, x_opt, i)\n",
    "    \n",
    "end"
   ]
  },
  {
   "cell_type": "code",
   "execution_count": 79,
   "id": "34f04aa6",
   "metadata": {},
   "outputs": [
    {
     "name": "stdout",
     "output_type": "stream",
     "text": [
      "Academic license - for non-commercial use only - expires 2023-11-27\r\n",
      "Academic license - for non-commercial use only - expires 2023-11-27\r\n",
      "Academic license - for non-commercial use only - expires 2023-11-27\r\n",
      "Academic license - for non-commercial use only - expires 2023-11-27\r\n",
      "Academic license - for non-commercial use only - expires 2023-11-27\r\n",
      "Academic license - for non-commercial use only - expires 2023-11-27\r\n",
      "Academic license - for non-commercial use only - expires 2023-11-27\r\n",
      "Academic license - for non-commercial use only - expires 2023-11-27\r\n",
      "Academic license - for non-commercial use only - expires 2023-11-27\r\n",
      "Academic license - for non-commercial use only - expires 2023-11-27\r\n",
      "Academic license - for non-commercial use only - expires 2023-11-27\r\n",
      "Academic license - for non-commercial use only - expires 2023-11-27\r\n",
      "Academic license - for non-commercial use only - expires 2023-11-27\r\n",
      "Academic license - for non-commercial use only - expires 2023-11-27\r\n",
      "Academic license - for non-commercial use only - expires 2023-11-27\r\n",
      "Academic license - for non-commercial use only - expires 2023-11-27\r\n",
      "Academic license - for non-commercial use only - expires 2023-11-27\r\n",
      "Academic license - for non-commercial use only - expires 2023-11-27\r\n",
      "Academic license - for non-commercial use only - expires 2023-11-27\r\n",
      "Academic license - for non-commercial use only - expires 2023-11-27\r\n",
      "Academic license - for non-commercial use only - expires 2023-11-27\r\n",
      "Academic license - for non-commercial use only - expires 2023-11-27\r\n",
      "Academic license - for non-commercial use only - expires 2023-11-27\r\n",
      "Academic license - for non-commercial use only - expires 2023-11-27\r\n",
      "Academic license - for non-commercial use only - expires 2023-11-27\r\n",
      "Academic license - for non-commercial use only - expires 2023-11-27\r\n",
      "Academic license - for non-commercial use only - expires 2023-11-27\r\n",
      "Academic license - for non-commercial use only - expires 2023-11-27\r\n",
      "Academic license - for non-commercial use only - expires 2023-11-27\r\n",
      "Academic license - for non-commercial use only - expires 2023-11-27\r\n",
      "Academic license - for non-commercial use only - expires 2023-11-27\r\n",
      "Academic license - for non-commercial use only - expires 2023-11-27\r\n",
      "Academic license - for non-commercial use only - expires 2023-11-27\r\n",
      "Academic license - for non-commercial use only - expires 2023-11-27\r\n",
      "Academic license - for non-commercial use only - expires 2023-11-27\r\n",
      "Academic license - for non-commercial use only - expires 2023-11-27\r\n",
      "Academic license - for non-commercial use only - expires 2023-11-27\r\n"
     ]
    },
    {
     "data": {
      "text/plain": [
       "Dict{String, Any} with 4 entries:\n",
       "  \"z_lb\"      => -8.07419e6\n",
       "  \"x_opt\"     => [6200.0 0.0 … 0.0 0.0; 1770.29 0.0 … 0.0 0.0; … ; 0.0 0.0 … 0.…\n",
       "  \"iteration\" => 4\n",
       "  \"z_ub\"      => -7.79699e6"
      ]
     },
     "execution_count": 79,
     "metadata": {},
     "output_type": "execute_result"
    }
   ],
   "source": [
    "result = main(0.05)"
   ]
  },
  {
   "cell_type": "code",
   "execution_count": 77,
   "id": "6af3bc96",
   "metadata": {},
   "outputs": [
    {
     "name": "stdout",
     "output_type": "stream",
     "text": [
      "Academic license - for non-commercial use only - expires 2023-11-27\r\n"
     ]
    },
    {
     "data": {
      "text/plain": [
       "-5.838412704242925e7"
      ]
     },
     "execution_count": 77,
     "metadata": {},
     "output_type": "execute_result"
    }
   ],
   "source": [
    "i = 0\n",
    "z_ub = 1e7\n",
    "x_opt = 0\n",
    "\n",
    "cuts = []\n",
    "res0 = masterprob(cuts)\n",
    "x_hat = res0[\"x_hat\"]\n",
    "z_lb = res0[\"z_lb\"]"
   ]
  },
  {
   "cell_type": "code",
   "execution_count": 83,
   "id": "e4572154",
   "metadata": {},
   "outputs": [
    {
     "data": {
      "text/plain": [
       "1×15 Matrix{Float64}:\n",
       " 49670.3  69512.5  67696.8  69382.8  …  1806.86  4.51715e5  4.51715e5"
      ]
     },
     "execution_count": 83,
     "metadata": {},
     "output_type": "execute_result"
    }
   ],
   "source": [
    "sum(result[\"x_opt\"], dims=1)"
   ]
  },
  {
   "cell_type": "code",
   "execution_count": 81,
   "id": "962d8e80",
   "metadata": {},
   "outputs": [
    {
     "data": {
      "text/plain": [
       "8-element Vector{Float64}:\n",
       " 0.5\n",
       " 0.7\n",
       " 0.7\n",
       " 0.8\n",
       " 0.8\n",
       " 0.8\n",
       " 0.9\n",
       " 1.0"
      ]
     },
     "execution_count": 81,
     "metadata": {},
     "output_type": "execute_result"
    }
   ],
   "source": [
    "Efficiency"
   ]
  },
  {
   "cell_type": "code",
   "execution_count": null,
   "id": "b618313c",
   "metadata": {},
   "outputs": [],
   "source": []
  },
  {
   "cell_type": "code",
   "execution_count": null,
   "id": "3f45726d",
   "metadata": {},
   "outputs": [],
   "source": []
  },
  {
   "cell_type": "code",
   "execution_count": null,
   "id": "ed9e027b",
   "metadata": {},
   "outputs": [],
   "source": []
  },
  {
   "cell_type": "code",
   "execution_count": null,
   "id": "b9e24a5b",
   "metadata": {},
   "outputs": [],
   "source": []
  },
  {
   "cell_type": "code",
   "execution_count": null,
   "id": "5ad2cde7",
   "metadata": {},
   "outputs": [],
   "source": []
  },
  {
   "cell_type": "code",
   "execution_count": 28,
   "id": "41a1dfec",
   "metadata": {},
   "outputs": [],
   "source": [
    "# result = main(0.005)"
   ]
  },
  {
   "cell_type": "code",
   "execution_count": 26,
   "id": "b9b833aa",
   "metadata": {},
   "outputs": [],
   "source": [
    "# res_x = DataFrame(xopt, :auto)\n",
    "# rename!(res_x, [\"x$i\" => proc for (i, proc) in enumerate(process)])\n",
    "# insertcols!(res_x, 1, :country => countries)"
   ]
  },
  {
   "cell_type": "code",
   "execution_count": 261,
   "id": "b8261198",
   "metadata": {},
   "outputs": [
    {
     "data": {
      "text/plain": [
       "\"/Users/bourg/Desktop/Oct31/eco_stoc.csv\""
      ]
     },
     "execution_count": 261,
     "metadata": {},
     "output_type": "execute_result"
    }
   ],
   "source": [
    "# CSV.write(\"/Users/bourg/Desktop/Oct31/eco_stoc.csv\", res_x) "
   ]
  },
  {
   "cell_type": "markdown",
   "id": "6ac976de",
   "metadata": {},
   "source": [
    "---"
   ]
  },
  {
   "cell_type": "code",
   "execution_count": 18,
   "id": "082dfc32",
   "metadata": {},
   "outputs": [
    {
     "data": {
      "text/plain": [
       "det_model (generic function with 1 method)"
      ]
     },
     "execution_count": 18,
     "metadata": {},
     "output_type": "execute_result"
    }
   ],
   "source": [
    "function det_model()\n",
    "    model = Model(Gurobi.Optimizer)\n",
    "    @variable(model, y[1:ncty, 1:ncty, 1:nproc] >= 0)\n",
    "    @variable(model, x[1:ncty, 1:nproc] >= 0)\n",
    "    \n",
    "    cstr_cap = [@constraint(model, x[i,k] <= capacity[!, 2:end][i,k]) for k in 1:nproc for i in 1:ncty]\n",
    "    cstr_ip = [@constraint(model, sum(x[i,k] for i in 1:ncty) == input_amount[k]) for k in 1:nproc]\n",
    "    \n",
    "    cstr_op = [@constraint(model, sum(y[i,j,k] for j in 1:ncty) == x[i,k]) for k in 1:nproc for i in 1:ncty]\n",
    "    cstr_cth = [@constraint(model, sum(y[i,j,k] for i in 1:ncty) == x[j,5]*scaler[k]) for k in cathode for j in 1:ncty]\n",
    "    cstr_cell = [@constraint(model, sum(y[i,j,k] for i in 1:ncty) == x[j,11]*scaler[k]) for k in cell for j in 1:ncty]\n",
    "    cstr_noncell = [@constraint(model, sum(y[i,j,k] for i in 1:ncty) == x[j,14]*scaler[k]) for k in noncell for j in 1:ncty]\n",
    "    cstr_battery = [@constraint(model, sum(y[i,j,k] for i in 1:ncty) == x[j,15]*scaler[k]) for k in battery for j in 1:ncty]\n",
    "    @constraint(model, sum(y[i,mkt_loc,mkt_proc] for i in 1:ncty) == cell_demand)\n",
    "    for j in 1:ncty-1\n",
    "        @constraint(model, sum(y[i,j,mkt_proc] for i in 1:ncty) == 0)\n",
    "    end\n",
    "    \n",
    "    ############################\n",
    "    proD = (x .* Matrix(regional_EF[:,2:end])) * ones(nproc,1) \n",
    "    proM = x * price\n",
    "\n",
    "    pro_sink = zeros(ncty, nproc)\n",
    "    for k in 1:nproc\n",
    "        for i in 1:ncty\n",
    "            pro_sink[i,k] = regional_EF[i, k+1] * (sink_c[i]/emission_c[i] + es_ratio)\n",
    "        end\n",
    "    end\n",
    "    proS = (x.*pro_sink)*ones(nproc,1) \n",
    "    \n",
    "    ###\n",
    "    proD = (x .* Matrix(regional_EF[:,2:end])) * ones(nproc,1) \n",
    "    proM = x * price\n",
    "\n",
    "    pro_sink = zeros(ncty, nproc)\n",
    "    for k in 1:nproc\n",
    "        for i in 1:ncty\n",
    "            pro_sink[i,k] = regional_EF[i, k+1] * (sink_c[i]/emission_c[i] + es_ratio)\n",
    "        end\n",
    "    end\n",
    "    proS = (x.*pro_sink)*ones(nproc,1) \n",
    "    #######\n",
    "    \n",
    "    tranD = Vector{AffExpr}(undef, ncty)\n",
    "    tranS= Vector{AffExpr}(undef, ncty)\n",
    "    for j in 1:ncty\n",
    "        arc_emi = 0\n",
    "        for i in 1:ncty\n",
    "            amount = sum(y[i,j,k] for k in 1:nproc)\n",
    "            arc_emi += (amount * distance[!, 2:end][i,j] * EF_trans)\n",
    "        end\n",
    "        tranD[j] = arc_emi\n",
    "        tranS[j] = arc_emi * (sink_c[j]/emission_c[j] + es_ratio)\n",
    "    end\n",
    "\n",
    "    Allo_soc = (proD+tranD) ./ emission_c .* Dsoc\n",
    "\n",
    "    vec_S = proS + tranS\n",
    "    vec_D = proD + tranD\n",
    "    \n",
    "    @objective(model, Min, sum(vec_D-vec_S))\n",
    "    JuMP.optimize!(model)\n",
    "    \n",
    "    opt_x = JuMP.value.(x)\n",
    "    opt_y = JuMP.value.(y)\n",
    "    opt_obj = JuMP.objective_value(model)\n",
    "    \n",
    "    result = Dict([\"opt_x\"=>opt_x, \"opt_obj\"=>opt_obj, \"opt_y\"=>opt_y])\n",
    "    \n",
    "    return result\n",
    "    \n",
    "end"
   ]
  },
  {
   "cell_type": "code",
   "execution_count": 19,
   "id": "d1c31633",
   "metadata": {},
   "outputs": [
    {
     "name": "stdout",
     "output_type": "stream",
     "text": [
      "Academic license - for non-commercial use only - expires 2023-11-27\r\n",
      "Gurobi Optimizer version 9.1.2 build v9.1.2rc0 (win64)\r\n",
      "Thread count: 6 physical cores, 12 logical processors, using up to 12 threads\r\n",
      "Optimize a model with 1365 rows, 13950 columns and 28770 nonzeros\r\n",
      "Model fingerprint: 0x7de78d9d\r\n",
      "Coefficient statistics:\r\n",
      "  Matrix range     [4e-03, 1e+00]\r\n",
      "  Objective range  [7e-03, 3e+02]\r\n",
      "  Bounds range     [0e+00, 0e+00]\r\n",
      "  RHS range        [2e+02, 1e+11]\r\n",
      "Warning: Model contains large rhs\r\n",
      "         Consider reformulating model or setting NumericFocus parameter\r\n",
      "         to avoid numerical issues.\r\n",
      "Presolve removed 1119 rows and 12768 columns\r\n",
      "Presolve time: 0.01s\r\n",
      "Presolved: 246 rows, 1182 columns, 2548 nonzeros\r\n",
      "\r\n",
      "Iteration    Objective       Primal Inf.    Dual Inf.      Time\r\n",
      "       0   -1.0366234e+07   3.023558e+05   0.000000e+00      0s\r\n",
      "      77   -8.1875518e+06   0.000000e+00   0.000000e+00      0s\r\n",
      "\r\n",
      "Solved in 77 iterations and 0.01 seconds\r\n",
      "Optimal objective -8.187551773e+06\r\n",
      "\r\n",
      "User-callback calls 121, time in user-callback 0.00 sec\r\n"
     ]
    },
    {
     "data": {
      "text/plain": [
       "Dict{String, Any} with 3 entries:\n",
       "  \"opt_y\"   => [0.0 0.0 … 0.0 0.0; 0.0 0.0 … 0.0 0.0; … ; 0.0 0.0 … 0.0 0.0; 0.…\n",
       "  \"opt_obj\" => -8.18755e6\n",
       "  \"opt_x\"   => [6200.0 0.0 … 0.0 0.0; 1770.29 0.0 … 0.0 0.0; … ; 0.0 0.0 … 0.0 …"
      ]
     },
     "execution_count": 19,
     "metadata": {},
     "output_type": "execute_result"
    }
   ],
   "source": [
    "det_res = det_model()"
   ]
  },
  {
   "cell_type": "code",
   "execution_count": 21,
   "id": "c7defc99",
   "metadata": {},
   "outputs": [
    {
     "data": {
      "text/plain": [
       "-8.187551773144178e6"
      ]
     },
     "execution_count": 21,
     "metadata": {},
     "output_type": "execute_result"
    }
   ],
   "source": [
    "optx_det = det_res[\"opt_x\"]\n",
    "opty_det = det_res[\"opt_y\"]\n",
    "opt_obj = det_res[\"opt_obj\"]"
   ]
  },
  {
   "cell_type": "code",
   "execution_count": 27,
   "id": "336f2471",
   "metadata": {},
   "outputs": [
    {
     "data": {
      "text/plain": [
       "30×15 Matrix{Float64}:\n",
       "  6200.0       0.0      0.0      0.0   …     0.0   0.0        0.0\n",
       "  1770.29      0.0      0.0      0.0         0.0   0.0        0.0\n",
       "  2200.0       0.0  67696.8  67000.0         0.0   0.0        0.0\n",
       "   500.0    3100.0      0.0   2382.78        0.0   0.0        0.0\n",
       " 39000.0       0.0      0.0      0.0         0.0   4.51715e5  0.0\n",
       "     0.0       0.0      0.0      0.0   …     0.0   0.0        0.0\n",
       "     0.0       0.0      0.0      0.0         0.0   0.0        0.0\n",
       "     0.0   66412.5      0.0      0.0         0.0   0.0        0.0\n",
       "     0.0       0.0      0.0      0.0         0.0   0.0        0.0\n",
       "     0.0       0.0      0.0      0.0         0.0   0.0        0.0\n",
       "     0.0       0.0      0.0      0.0   …     0.0   0.0        0.0\n",
       "     0.0       0.0      0.0      0.0         0.0   0.0        0.0\n",
       "     0.0       0.0      0.0      0.0         0.0   0.0        0.0\n",
       "     ⋮                                 ⋱                      \n",
       "     0.0       0.0      0.0      0.0         0.0   0.0        0.0\n",
       "     0.0       0.0      0.0      0.0         0.0   0.0        0.0\n",
       "     0.0       0.0      0.0      0.0   …     0.0   0.0        0.0\n",
       "     0.0       0.0      0.0      0.0         0.0   0.0        0.0\n",
       "     0.0       0.0      0.0      0.0         0.0   0.0        0.0\n",
       "     0.0       0.0      0.0      0.0         0.0   0.0        0.0\n",
       "     0.0       0.0      0.0      0.0         0.0   0.0        0.0\n",
       "     0.0       0.0      0.0      0.0   …     0.0   0.0        0.0\n",
       "     0.0       0.0      0.0      0.0         0.0   0.0        0.0\n",
       "     0.0       0.0      0.0      0.0         0.0   0.0        0.0\n",
       "     0.0       0.0      0.0      0.0         0.0   0.0        0.0\n",
       "     0.0       0.0      0.0      0.0      1806.86  0.0        4.51715e5"
      ]
     },
     "execution_count": 27,
     "metadata": {},
     "output_type": "execute_result"
    }
   ],
   "source": [
    "optx_det"
   ]
  },
  {
   "cell_type": "code",
   "execution_count": null,
   "id": "317bf811",
   "metadata": {},
   "outputs": [],
   "source": [
    "res_x = DataFrame(optx_det, :auto)\n",
    "rename!(res_x, [\"x$i\" => proc for (i, proc) in enumerate(process)])\n",
    "insertcols!(res_x, 1, :country => countries)"
   ]
  }
 ],
 "metadata": {
  "kernelspec": {
   "display_name": "Julia 1.8.3",
   "language": "julia",
   "name": "julia-1.8"
  },
  "language_info": {
   "file_extension": ".jl",
   "mimetype": "application/julia",
   "name": "julia",
   "version": "1.8.3"
  }
 },
 "nbformat": 4,
 "nbformat_minor": 5
}
