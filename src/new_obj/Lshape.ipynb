{
 "cells": [
  {
   "cell_type": "code",
   "execution_count": 54,
   "id": "5edf3ebd",
   "metadata": {},
   "outputs": [],
   "source": [
    "using JuMP, Gurobi\n",
    "using CSV, LinearAlgebra, DataFrames\n",
    "using Plots\n",
    "using DelimitedFiles"
   ]
  },
  {
   "cell_type": "code",
   "execution_count": 55,
   "id": "93d2a5ce",
   "metadata": {},
   "outputs": [],
   "source": [
    "#load social and ecological data and orgnize \n",
    "FL = repeat([Float64], inner=15)\n",
    "dtype = append!([String], FL);\n",
    "\n",
    "regional_EF = CSV.File(\"C:/Users/bourg/.julia/environments/batterySC/Li-battery-SC/data/social/new_EF_SC1.csv\",header=1,delim=\",\", types=dtype) |> DataFrame    \n",
    "capacity = CSV.File(\"C:/Users/bourg/.julia/environments/batterySC/Li-battery-SC/data/social/capacity2.csv\",header=1,delim=\",\", types=dtype) |> DataFrame    \n",
    "distance = CSV.File(\"C:/Users/bourg/.julia/environments/batterySC/Li-battery-SC/data/social/distance.csv\",header=1,delim=\",\") |> DataFrame \n",
    "LCA_model = CSV.File(\"C:/Users/bourg/.julia/environments/batterySC/Li-battery-SC/data/social/LCA_model2.csv\",header=1,delim=\",\") |> DataFrame \n",
    "D_Dsoc = CSV.File(\"C:/Users/bourg/.julia/environments/batterySC/Li-battery-SC/data/social/D_Dsoc1.csv\",header=1,delim=\",\") |> DataFrame\n",
    "GDP = CSV.File(\"C:/Users/bourg/.julia/environments/batterySC/Li-battery-SC/data/social/GDP.csv\",header=1,delim=\",\") |> DataFrame;\n",
    "emi_sink = CSV.File(\"C:/Users/bourg/.julia/environments/batterySC/Li-battery-SC/data/SC_regional/emission_sink1.csv\",header=1,delim=\",\") |> DataFrame;"
   ]
  },
  {
   "cell_type": "code",
   "execution_count": 56,
   "id": "5118b2b5",
   "metadata": {},
   "outputs": [],
   "source": [
    "cell_demand = 0.001*164.98*(1.369*1e6)*2           # annual demand of Li battery for tesla (1.369M EV/yr, ~2 NMC111 pack/EV, 164.98 kg/pack (35kwh/pack), 80~100 kWh per EV)\n",
    "\n",
    "global_sink = 1.099e10                        # global pub (ocean) CO2 sequestration (ton/yr)\n",
    "global_sink_tot = 2.236e10                  # global total (ocean+land) CO2 sequestration (ton/yr)\n",
    "global_emi = 3.53e10                          # global CO2 emission (ton/yr)\n",
    "global_gdp = 96882e9                          # 2021 global GDP ($/yr)\n",
    "es_ratio = global_sink/global_emi\n",
    "es_ratio_tot = global_sink_tot/global_emi\n",
    "emission_c = emi_sink[!, \"emission\"]          # national CO2 emission (ton/yr)\n",
    "sink_c = emi_sink[!, \"sink ton/yr\"]           # national CO2 sink (ton/yr)\n",
    "\n",
    "# D = D_Dsoc[!, \"D\"]          # national CO2 emission (ton/yr)\n",
    "Dsoc = D_Dsoc[!, \"Dsoc ton/yr\"]           # national CO2 sink (ton/yr)\n",
    "\n",
    "EF_trans = 1.005/10000                        # ton CO2/km*ton (The average freight truck in the U.S. emits 161.8 grams of CO2 per ton-mile)\n",
    "process = LCA_model[!,\"process\"]\n",
    "countries = capacity[!,\"country\"]\n",
    "ncty = size(countries,1)                          # No. of countries\n",
    "nproc = size(process,1);                          # No. of processes \n",
    "\n",
    "mkt_loc = findfirst(isequal(\"United States\"), countries)\n",
    "mkt_proc = findfirst(isequal(\"battery\"), process)\n",
    "\n",
    "# seperate model\n",
    "cathode = collect(1:4)\n",
    "cell = collect(5:10)\n",
    "noncell = [12,13]\n",
    "battery = [11,14]\n",
    "scaler = LCA_model[!,\"scaler\"]\n",
    "price = LCA_model[!,\"price (usd/ton product)\"]\n",
    "vGDP = GDP[!,\"GDP usd\"];"
   ]
  },
  {
   "cell_type": "code",
   "execution_count": 197,
   "id": "e6d8b773",
   "metadata": {},
   "outputs": [],
   "source": [
    "# penalty = 10000 # ton/yr\n",
    "penalty = 5; # ton/yr"
   ]
  },
  {
   "cell_type": "code",
   "execution_count": 58,
   "id": "d326e8f0",
   "metadata": {},
   "outputs": [],
   "source": [
    "up_cath = scaler[1:4] * scaler[5] * scaler[11]\n",
    "up_cell = scaler[5:10] * scaler[11]\n",
    "cell_sef = scaler[11]\n",
    "up_noncell = scaler[12:13] * scaler[14]\n",
    "noncell_sef = scaler[14]\n",
    "battery_sef = scaler[15];"
   ]
  },
  {
   "cell_type": "code",
   "execution_count": 59,
   "id": "fcfae35d",
   "metadata": {},
   "outputs": [
    {
     "data": {
      "text/plain": [
       "15-element Vector{Float64}:\n",
       "  49670.291589732\n",
       "  69512.470736544\n",
       "  67696.846500888\n",
       "  69382.78329114\n",
       " 129687.44540400001\n",
       "  72376.074329\n",
       "   5239.896784\n",
       "   1309.974196\n",
       "  31111.887154999997\n",
       "  60258.81301599999\n",
       " 327493.549\n",
       "   2258.5762\n",
       "   1806.86096\n",
       " 451715.24\n",
       " 451715.24"
      ]
     },
     "execution_count": 59,
     "metadata": {},
     "output_type": "execute_result"
    }
   ],
   "source": [
    "ipt = []\n",
    "ipt = vcat(up_cath, up_cell, cell_sef, up_noncell, noncell_sef, battery_sef) .* cell_demand\n",
    "input_amount = ipt"
   ]
  },
  {
   "cell_type": "code",
   "execution_count": 60,
   "id": "b548eb11",
   "metadata": {},
   "outputs": [
    {
     "data": {
      "text/plain": [
       "8-element Vector{Float64}:\n",
       " 225857.62\n",
       " 271029.144\n",
       " 316200.66799999995\n",
       " 361372.19200000004\n",
       " 406543.716\n",
       " 451715.24\n",
       " 496886.764\n",
       " 632401.3359999999"
      ]
     },
     "execution_count": 60,
     "metadata": {},
     "output_type": "execute_result"
    }
   ],
   "source": [
    "D = [0.5, 0.6, 0.7, 0.8, 0.9, 1, 1.1, 1.4]*cell_demand"
   ]
  },
  {
   "cell_type": "markdown",
   "id": "2f814c33",
   "metadata": {},
   "source": [
    "### Solve subproblem to get dual $\\pi$ and $\\alpha$"
   ]
  },
  {
   "cell_type": "code",
   "execution_count": 61,
   "id": "c75ecdbe",
   "metadata": {},
   "outputs": [
    {
     "data": {
      "text/plain": [
       "870"
      ]
     },
     "execution_count": 61,
     "metadata": {},
     "output_type": "execute_result"
    }
   ],
   "source": [
    "sub_nctr = nproc * ncty + size(cathode)[1]*ncty + size(cell)[1]*ncty + size(noncell)[1]*ncty + size(battery)[1]*ncty"
   ]
  },
  {
   "cell_type": "code",
   "execution_count": 406,
   "id": "d48a80a0",
   "metadata": {},
   "outputs": [
    {
     "name": "stdout",
     "output_type": "stream",
     "text": [
      "[\"x_1_1\", \"x_2_1\", \"x_3_1\", \"x_4_1\", \"x_5_1\", \"x_1_2\", \"x_2_2\", \"x_3_2\", \"x_4_2\", \"x_5_2\", \"x_1_3\", \"x_2_3\", \"x_3_3\", \"x_4_3\", \"x_5_3\"]\n"
     ]
    }
   ],
   "source": [
    "println([\"x_$(i)_$(k)\" for k in 1:3 for i in 1:5])"
   ]
  },
  {
   "cell_type": "code",
   "execution_count": 407,
   "id": "ab3d1f20",
   "metadata": {},
   "outputs": [
    {
     "data": {
      "text/plain": [
       "5×3 Matrix{String}:\n",
       " \"x_1_1\"  \"x_1_2\"  \"x_1_3\"\n",
       " \"x_2_1\"  \"x_2_2\"  \"x_2_3\"\n",
       " \"x_3_1\"  \"x_3_2\"  \"x_3_3\"\n",
       " \"x_4_1\"  \"x_4_2\"  \"x_4_3\"\n",
       " \"x_5_1\"  \"x_5_2\"  \"x_5_3\""
      ]
     },
     "execution_count": 407,
     "metadata": {},
     "output_type": "execute_result"
    }
   ],
   "source": [
    "test = [\"x_$(i)_$(k)\" for k in 1:3 for i in 1:5]\n",
    "reshape(test, 5, 3)"
   ]
  },
  {
   "cell_type": "code",
   "execution_count": 430,
   "id": "51027f30",
   "metadata": {},
   "outputs": [
    {
     "data": {
      "text/plain": [
       "30×5 Matrix{String}:\n",
       " \"x_1_10*k[1]\"   \"x_1_10*k[2]\"   …  \"x_1_10*k[4]\"   \"x_1_10*k[5]\"\n",
       " \"x_2_10*k[1]\"   \"x_2_10*k[2]\"      \"x_2_10*k[4]\"   \"x_2_10*k[5]\"\n",
       " \"x_3_10*k[1]\"   \"x_3_10*k[2]\"      \"x_3_10*k[4]\"   \"x_3_10*k[5]\"\n",
       " \"x_4_10*k[1]\"   \"x_4_10*k[2]\"      \"x_4_10*k[4]\"   \"x_4_10*k[5]\"\n",
       " \"x_5_10*k[1]\"   \"x_5_10*k[2]\"      \"x_5_10*k[4]\"   \"x_5_10*k[5]\"\n",
       " \"x_6_10*k[1]\"   \"x_6_10*k[2]\"   …  \"x_6_10*k[4]\"   \"x_6_10*k[5]\"\n",
       " \"x_7_10*k[1]\"   \"x_7_10*k[2]\"      \"x_7_10*k[4]\"   \"x_7_10*k[5]\"\n",
       " \"x_8_10*k[1]\"   \"x_8_10*k[2]\"      \"x_8_10*k[4]\"   \"x_8_10*k[5]\"\n",
       " \"x_9_10*k[1]\"   \"x_9_10*k[2]\"      \"x_9_10*k[4]\"   \"x_9_10*k[5]\"\n",
       " \"x_10_10*k[1]\"  \"x_10_10*k[2]\"     \"x_10_10*k[4]\"  \"x_10_10*k[5]\"\n",
       " \"x_11_10*k[1]\"  \"x_11_10*k[2]\"  …  \"x_11_10*k[4]\"  \"x_11_10*k[5]\"\n",
       " \"x_12_10*k[1]\"  \"x_12_10*k[2]\"     \"x_12_10*k[4]\"  \"x_12_10*k[5]\"\n",
       " \"x_13_10*k[1]\"  \"x_13_10*k[2]\"     \"x_13_10*k[4]\"  \"x_13_10*k[5]\"\n",
       " ⋮                               ⋱                  \n",
       " \"x_19_10*k[1]\"  \"x_19_10*k[2]\"     \"x_19_10*k[4]\"  \"x_19_10*k[5]\"\n",
       " \"x_20_10*k[1]\"  \"x_20_10*k[2]\"     \"x_20_10*k[4]\"  \"x_20_10*k[5]\"\n",
       " \"x_21_10*k[1]\"  \"x_21_10*k[2]\"  …  \"x_21_10*k[4]\"  \"x_21_10*k[5]\"\n",
       " \"x_22_10*k[1]\"  \"x_22_10*k[2]\"     \"x_22_10*k[4]\"  \"x_22_10*k[5]\"\n",
       " \"x_23_10*k[1]\"  \"x_23_10*k[2]\"     \"x_23_10*k[4]\"  \"x_23_10*k[5]\"\n",
       " \"x_24_10*k[1]\"  \"x_24_10*k[2]\"     \"x_24_10*k[4]\"  \"x_24_10*k[5]\"\n",
       " \"x_25_10*k[1]\"  \"x_25_10*k[2]\"     \"x_25_10*k[4]\"  \"x_25_10*k[5]\"\n",
       " \"x_26_10*k[1]\"  \"x_26_10*k[2]\"  …  \"x_26_10*k[4]\"  \"x_26_10*k[5]\"\n",
       " \"x_27_10*k[1]\"  \"x_27_10*k[2]\"     \"x_27_10*k[4]\"  \"x_27_10*k[5]\"\n",
       " \"x_28_10*k[1]\"  \"x_28_10*k[2]\"     \"x_28_10*k[4]\"  \"x_28_10*k[5]\"\n",
       " \"x_29_10*k[1]\"  \"x_29_10*k[2]\"     \"x_29_10*k[4]\"  \"x_29_10*k[5]\"\n",
       " \"x_30_10*k[1]\"  \"x_30_10*k[2]\"     \"x_30_10*k[4]\"  \"x_30_10*k[5]\""
      ]
     },
     "execution_count": 430,
     "metadata": {},
     "output_type": "execute_result"
    }
   ],
   "source": [
    "test2 = [\"x_$(j)_$(10)*k[$(k)]\" for k in 1:5 for j in 1:30]\n",
    "reshape(test2, 30, 5)"
   ]
  },
  {
   "cell_type": "code",
   "execution_count": 416,
   "id": "bae9c8c2",
   "metadata": {},
   "outputs": [],
   "source": [
    "B = zeros(30,15);"
   ]
  },
  {
   "cell_type": "code",
   "execution_count": 448,
   "id": "43293455",
   "metadata": {},
   "outputs": [
    {
     "data": {
      "text/plain": [
       "4×2 Matrix{Int64}:\n",
       " 1  1\n",
       " 2  2\n",
       " 3  3\n",
       " 4  4"
      ]
     },
     "execution_count": 448,
     "metadata": {},
     "output_type": "execute_result"
    }
   ],
   "source": [
    "2*ones(3)\n",
    "[1,2,3] .* [3,4,5]\n",
    "size(cathode)\n",
    "tt = [[1,2,3,4] [2,3,4,5]]\n",
    "tt[:,2] = [1,2,3,4]\n",
    "tt\n",
    "# transpose(tt)"
   ]
  },
  {
   "cell_type": "code",
   "execution_count": 454,
   "id": "acd31304",
   "metadata": {},
   "outputs": [
    {
     "data": {
      "text/plain": [
       "5-element Vector{Int64}:\n",
       " 1\n",
       " 2\n",
       " 1\n",
       " 2\n",
       " 4"
      ]
     },
     "execution_count": 454,
     "metadata": {},
     "output_type": "execute_result"
    }
   ],
   "source": [
    "append!([1,2], [1,2,4])"
   ]
  },
  {
   "cell_type": "code",
   "execution_count": 456,
   "id": "05f2e73c",
   "metadata": {},
   "outputs": [
    {
     "data": {
      "text/plain": [
       "reformu_pi (generic function with 1 method)"
      ]
     },
     "execution_count": 456,
     "metadata": {},
     "output_type": "execute_result"
    }
   ],
   "source": [
    "function reformu_pi(col_idx, proc_idx, ls_cstr)\n",
    "    pi_matrix = zeros(ncty, nproc)\n",
    "    pi = [getdual(con) for con in ls_cstr]\n",
    "    B = []\n",
    "    for k in proc_idx\n",
    "        append!(B, scaler[k] * ones(ncty))\n",
    "    end\n",
    "    pi = pi .* B\n",
    "    pi = reshape(pi, ncty, size(proc_idx)[1])\n",
    "    pi_matrix[:,col_idx] = sum(pi, 2)\n",
    "    \n",
    "    return pi_matrix\n",
    "end\n",
    "\n",
    "\n",
    "# cathode_pi = zeros(ncty, nproc)\n",
    "# cth_pi = [getdual(con) for con in cstr_cth]\n",
    "# cth_B = []\n",
    "# for k in cathode\n",
    "#     push!(cth_B, scaler[k] * ones(ncty))\n",
    "# end\n",
    "# cth_pi = cth_pi .* cth_B\n",
    "# cth_pi = reshape(cth_pi, ncty, size(cathode)[1])\n",
    "# cathode_pi[:,5] = sum(cth_pi, 2)"
   ]
  },
  {
   "cell_type": "code",
   "execution_count": null,
   "id": "9dd4239e",
   "metadata": {},
   "outputs": [],
   "source": []
  },
  {
   "cell_type": "code",
   "execution_count": 457,
   "id": "82fcf67f",
   "metadata": {},
   "outputs": [
    {
     "data": {
      "text/plain": [
       "subprob (generic function with 2 methods)"
      ]
     },
     "execution_count": 457,
     "metadata": {},
     "output_type": "execute_result"
    }
   ],
   "source": [
    "function subprob(x_hat, d)\n",
    "    model = Model(Gurobi.Optimizer)\n",
    "    @variable(model, y[1:ncty, 1:ncty, 1:nproc] >= 0)\n",
    "    @variable(model, s >= 0)\n",
    "\n",
    "    # node output flow constraint\n",
    "    cstr_op = [@constraint(model, sum(y[i,j,k] for j in 1:ncty) == x_hat[i,k]) for k in 1:nproc for i in 1:ncty]\n",
    "\n",
    "    # cathode LCA constraints (index=5)\n",
    "    cstr_cth = [@constraint(model, sum(y[i,j,k] for i in 1:ncty) == x_hat[j,5]*scaler[k]) for k in cathode for j in 1:ncty]\n",
    "\n",
    "    # cell LCA constraints (index=11)\n",
    "    cstr_cell = [@constraint(model, sum(y[i,j,k] for i in 1:ncty) == x_hat[j,11]*scaler[k]) for k in cell for j in 1:ncty]\n",
    "\n",
    "    # non cell LCA constraints (index=14)\n",
    "    cstr_noncell = [@constraint(model, sum(y[i,j,k] for i in 1:ncty) == x_hat[j,14]*scaler[k]) for k in noncell for j in 1:ncty]\n",
    "\n",
    "    # battery LCA constraints (index=15)\n",
    "    cstr_battery = [@constraint(model, sum(y[i,j,k] for i in 1:ncty) == x_hat[j,15]*scaler[k]) for k in battery for j in 1:ncty]\n",
    "    \n",
    "\n",
    "    for j in 1:ncty\n",
    "        if j == mkt_loc\n",
    "            @constraint(model, cstr_alp, sum(y[i,j,mkt_proc] for i in 1:ncty) + s >= d)\n",
    "        else\n",
    "            @constraint(model, sum(y[i,j,mkt_proc] for i in 1:ncty) == 0)\n",
    "        end\n",
    "    end    \n",
    "    \n",
    "    \n",
    "    #######################\n",
    "    tranD = Vector{AffExpr}(undef, ncty)\n",
    "    tranS= Vector{AffExpr}(undef, ncty)\n",
    "    for j in 1:ncty\n",
    "        arc_emi = 0\n",
    "        for i in 1:ncty\n",
    "            amount = sum(y[i,j,k] for k in 1:nproc)\n",
    "            arc_emi += (amount * distance[!, 2:end][i,j] * EF_trans)\n",
    "        end\n",
    "        tranD[j] = arc_emi\n",
    "        tranS[j] = arc_emi * (sink_c[j]/emission_c[j] + es_ratio)\n",
    "    end\n",
    "    \n",
    "    \n",
    "    @objective(model, Min, sum(tranD-tranS) + s*penalty)\n",
    "    JuMP.optimize!(model)\n",
    "    \n",
    "    qy_hat = JuMP.objective_value(model)\n",
    "    sub_y = JuMP.value.(y)\n",
    "    sub_s = JuMP.value.(s)\n",
    "    \n",
    "    \n",
    "    ####################### \n",
    "    op_pi = [getdual(con) for con in cstr_op]\n",
    "    op_pi = reshape(op_pi, ncty, nproc)\n",
    "\n",
    "    cth_pi = reformu_pi(5, cathode, cstr_cth)\n",
    "    cell_pi = reformu_pi(11, cell, cstr_cell)\n",
    "    noncell_pi = reformu_pi(14, noncell, cstr_noncell)\n",
    "    battery_pi = reformu_pi(15, battery, cstr_battery)\n",
    "    pi_matrix = op_pi + cth_pi + cell_pi + noncell_pi + battery_pi\n",
    "    \n",
    "    alp = getdual(cstr_alp)\n",
    "\n",
    "#     ls_pi = []\n",
    "#     ls_alp = []\n",
    "#     for ls in ls_cstr\n",
    "#         temp = []\n",
    "#         for con in ls\n",
    "#             push!(temp, getdual(con))\n",
    "#         end\n",
    "#         push!(ls_pi, temp)\n",
    "#     end\n",
    "\n",
    "    #######################\n",
    "    result = Dict([\"qyhat\"=>qy_hat, \"y_opt\"=>sub_y, \"s_opt\"=>sub_s, \"pi\"=>ls_pi, \"alp\"=>alp])\n",
    "    return result\n",
    "    \n",
    "end\n"
   ]
  },
  {
   "cell_type": "code",
   "execution_count": 458,
   "id": "6e4001da",
   "metadata": {},
   "outputs": [],
   "source": [
    "# function subprob(x_hat, d)\n",
    "#     model = Model(Gurobi.Optimizer)\n",
    "#     @variable(model, y[1:ncty, 1:ncty, 1:nproc] >= 0)\n",
    "#     @variable(model, s >= 0)\n",
    "\n",
    "#     # node output flow constraint\n",
    "#     cstr_op = [@constraint(model, sum(y[i,j,k] for j in 1:ncty) == x_hat[i,k]) for k in 1:nproc for i in 1:ncty]\n",
    "\n",
    "#     # cathode LCA constraints (index=5)\n",
    "#     cstr_cth = [@constraint(model, sum(y[i,j,k] for i in 1:ncty) == x_hat[j,5]*scaler[k]) for j in 1:ncty for k in cathode]\n",
    "\n",
    "#     # cell LCA constraints (index=11)\n",
    "#     cstr_cell = [@constraint(model, sum(y[i,j,k] for i in 1:ncty) == x_hat[j,11]*scaler[k]) for j in 1:ncty for k in cell]\n",
    "\n",
    "#     # non cell LCA constraints (index=14)\n",
    "#     cstr_noncell = [@constraint(model, sum(y[i,j,k] for i in 1:ncty) == x_hat[j,14]*scaler[k]) for j in 1:ncty for k in noncell]\n",
    "\n",
    "#     # battery LCA constraints (index=15)\n",
    "#     cstr_battery = [@constraint(model, sum(y[i,j,k] for i in 1:ncty) == x_hat[j,15]*scaler[k]) for j in 1:ncty for k in battery]\n",
    "\n",
    "# #     ls_cstr = [cstr_op; cstr_cth; cstr_cell; cstr_noncell; cstr_battery]\n",
    "#     ls_cstr = [cstr_op; cstr_cth; cstr_cell; cstr_noncell; cstr_battery]\n",
    "    \n",
    "\n",
    "\n",
    "#     for j in 1:ncty\n",
    "#         if j == mkt_loc\n",
    "#             @constraint(model, cstr_alp, sum(y[i,j,mkt_proc] for i in 1:ncty) + s >= d)\n",
    "#         else\n",
    "#             @constraint(model, sum(y[i,j,mkt_proc] for i in 1:ncty) == 0)\n",
    "#         end\n",
    "#     end    \n",
    "    \n",
    "    \n",
    "#     #######################\n",
    "#     tranD = Vector{AffExpr}(undef, ncty)\n",
    "#     tranS= Vector{AffExpr}(undef, ncty)\n",
    "#     for j in 1:ncty\n",
    "#         arc_emi = 0\n",
    "#         for i in 1:ncty\n",
    "#             amount = sum(y[i,j,k] for k in 1:nproc)\n",
    "#             arc_emi += (amount * distance[!, 2:end][i,j] * EF_trans)\n",
    "#         end\n",
    "#         tranD[j] = arc_emi\n",
    "#         tranS[j] = arc_emi * (sink_c[j]/emission_c[j] + es_ratio)\n",
    "#     end\n",
    "    \n",
    "# #     tranD = Vector{AffExpr}(undef, ncty)\n",
    "# #     tranS= Vector{AffExpr}(undef, ncty)\n",
    "# #     for j in 1:ncty\n",
    "# #         arc_emi = 0\n",
    "# #         for i in 1:ncty\n",
    "# #             amount = sum(y[i,j,k] for k in 1:nproc-1)\n",
    "# #             arc_emi += (amount * distance[!, 2:end][i,j] * EF_trans)\n",
    "# #         end\n",
    "# #         tranD[j] = arc_emi\n",
    "# #         tranS[j] = arc_emi * (sink_c[j]/emission_c[j] + es_ratio)\n",
    "# #     end\n",
    "# #     tranD[mkt_loc] += sum(y[i,mkt_loc, mkt_proc] for i in 1:ncty)\n",
    "# #     tranS[mkt_loc] += sum(y[i,mkt_loc, mkt_proc] for i in 1:ncty) * (sink_c[j]/emission_c[j] + es_ratio)\n",
    "    \n",
    "#     @objective(model, Min, sum(tranD-tranS) + s*penalty)\n",
    "#     JuMP.optimize!(model)\n",
    "    \n",
    "#     qy_hat = JuMP.objective_value(model)\n",
    "#     sub_y = JuMP.value.(y)\n",
    "#     sub_s = JuMP.value.(s)\n",
    "    \n",
    "    \n",
    "#     #######################    \n",
    "#     ls_pi = []\n",
    "#     ls_alp = []\n",
    "#     for con in ls_cstr\n",
    "#         push!(ls_pi, getdual(con))\n",
    "#     end\n",
    "\n",
    "#     push!(ls_alp, getdual(cstr_alp))\n",
    "    \n",
    "    \n",
    "#     #######################\n",
    "#     result = Dict([\"qyhat\"=>qy_hat, \"y_opt\"=>sub_y, \"s_opt\"=>sub_s, \"pi\"=>ls_pi, \"alp\"=>ls_alp])\n",
    "#     return result\n",
    "    \n",
    "# end\n"
   ]
  },
  {
   "cell_type": "markdown",
   "id": "01a4df41",
   "metadata": {},
   "source": [
    "### Solve master problem"
   ]
  },
  {
   "cell_type": "code",
   "execution_count": 103,
   "id": "3ec63d44",
   "metadata": {},
   "outputs": [
    {
     "data": {
      "text/plain": [
       "-1.0e10"
      ]
     },
     "execution_count": 103,
     "metadata": {},
     "output_type": "execute_result"
    }
   ],
   "source": [
    "M = -10e9"
   ]
  },
  {
   "cell_type": "code",
   "execution_count": 111,
   "id": "bd4fb20b",
   "metadata": {},
   "outputs": [
    {
     "data": {
      "text/plain": [
       "masterprob (generic function with 1 method)"
      ]
     },
     "execution_count": 111,
     "metadata": {},
     "output_type": "execute_result"
    }
   ],
   "source": [
    "function masterprob(cuts)\n",
    "    model = Model(Gurobi.Optimizer)\n",
    "    @variable(model, x[1:ncty, 1:nproc] >= 0)\n",
    "    @variable(model, theta >= M)\n",
    "    \n",
    "    for k in 1:nproc\n",
    "        for i in 1:ncty\n",
    "            @constraint(model, x[i,k] <= capacity[!, 2:end][i,k])\n",
    "        end\n",
    "    end\n",
    "    for k in 1:nproc\n",
    "        @constraint(model, sum(x[i,k] for i in 1:ncty) == input_amount[k])\n",
    "    end\n",
    "    \n",
    "    proD = (x .* Matrix(regional_EF[:,2:end])) * ones(nproc,1) \n",
    "    proM = x * price\n",
    "\n",
    "    pro_sink = zeros(ncty, nproc)\n",
    "    for k in 1:nproc\n",
    "        for i in 1:ncty\n",
    "            pro_sink[i,k] = regional_EF[i, k+1] * (sink_c[i]/emission_c[i] + es_ratio)\n",
    "        end\n",
    "    end\n",
    "    proS = (x.*pro_sink)*ones(nproc,1) \n",
    "    \n",
    "    if cuts != []\n",
    "        for cut in cuts\n",
    "            G = cut[\"gradient\"]\n",
    "            g = cut[\"intersection\"]\n",
    "            @constraint(model, sum(x .* G) + theta >= g)\n",
    "        end\n",
    "    end\n",
    "    \n",
    "    @objective(model, Min, sum(proD-proS)+theta)\n",
    "    JuMP.optimize!(model)\n",
    "    \n",
    "    x_hat = JuMP.value.(x)\n",
    "    theta_hat = JuMP.value.(theta)\n",
    "    z_lb = JuMP.objective_value(model)\n",
    "    \n",
    "    result = Dict([\"x_hat\"=>x_hat, \"z_lb\"=>z_lb])\n",
    "    return result\n",
    "end"
   ]
  },
  {
   "cell_type": "markdown",
   "id": "34c32338",
   "metadata": {},
   "source": [
    "### Generate cuts"
   ]
  },
  {
   "cell_type": "code",
   "execution_count": 366,
   "id": "a7595372",
   "metadata": {},
   "outputs": [
    {
     "data": {
      "text/plain": [
       "get_cuts (generic function with 1 method)"
      ]
     },
     "execution_count": 366,
     "metadata": {},
     "output_type": "execute_result"
    }
   ],
   "source": [
    "function get_cuts(x, D)\n",
    "    G = [] # gradient\n",
    "    g = 0 # intersection\n",
    "    qy = 0\n",
    "    \n",
    "    for d in D\n",
    "        res = subprob(x, d)\n",
    "        gradient = -1 * res[\"pi\"]\n",
    "        \n",
    "        push!(G, gradient)\n",
    "        g += d * res[\"alp\"]\n",
    "        qy += res[\"qyhat\"]\n",
    "    end\n",
    "    \n",
    "    proD = (x .* Matrix(regional_EF[:,2:end])) * ones(nproc,1) \n",
    "    pro_sink = zeros(ncty, nproc)\n",
    "    for k in 1:nproc\n",
    "        for i in 1:ncty\n",
    "            pro_sink[i,k] = regional_EF[i, k+1] * (sink_c[i]/emission_c[i] + es_ratio)\n",
    "        end\n",
    "    end\n",
    "    proS = (x.*pro_sink)*ones(nproc,1) \n",
    "    z_hat = sum(proD - proS) + qy/size(D)[1]\n",
    "    Exp_G = sum(G) / size(D)[1]\n",
    "    Exp_g = sum(g) / size(D)[1]\n",
    "    \n",
    "    cut = Dict([\"gradient\"=>Exp_G, \"intersection\"=>z_lb])\n",
    "    return cut, z_hat\n",
    "end\n"
   ]
  },
  {
   "cell_type": "markdown",
   "id": "c9c29956",
   "metadata": {},
   "source": [
    "### L Shape Method"
   ]
  },
  {
   "cell_type": "code",
   "execution_count": 113,
   "id": "f6fba313",
   "metadata": {},
   "outputs": [
    {
     "data": {
      "text/plain": [
       "main (generic function with 1 method)"
      ]
     },
     "execution_count": 113,
     "metadata": {},
     "output_type": "execute_result"
    }
   ],
   "source": [
    "function main(toler)\n",
    "    i = 0\n",
    "    z_ub = Inf\n",
    "    x_opt = 0\n",
    "    \n",
    "    cuts = []\n",
    "    res0 = masterprob(cuts)\n",
    "    x_hat = res0[\"x_hat\"]\n",
    "    z_lb = res0[\"z_lb\"]\n",
    "    \n",
    "    while (z_ub - z_lb) > toler * min(abs(z_ub), abs(z_lb))\n",
    "        new_cut, z_hat = get_cuts(x_hat, D)\n",
    "        if z_hat < z_ub\n",
    "            z_ub = z_hat\n",
    "            x_opt = x_hat;\n",
    "        end\n",
    "        \n",
    "        push!(cuts, new_cut)\n",
    "        \n",
    "        res1 = masterprob(cuts)\n",
    "        z_lb = res1[\"z_lb\"]\n",
    "        x_hat = res1[\"x_hat\"]\n",
    "        \n",
    "        i += 1\n",
    "    end\n",
    "    \n",
    "    println(z_lb,z_ub, x_opt, i)\n",
    "    \n",
    "end"
   ]
  },
  {
   "cell_type": "code",
   "execution_count": 68,
   "id": "1c6e64c4",
   "metadata": {},
   "outputs": [
    {
     "name": "stdout",
     "output_type": "stream",
     "text": [
      "Academic license - for non-commercial use only - expires 2023-11-27\r\n"
     ]
    },
    {
     "ename": "LoadError",
     "evalue": "MethodError: no method matching +(::Matrix{AffExpr}, ::VariableRef)\n\u001b[0mClosest candidates are:\n\u001b[0m  +(::Any, ::Any, \u001b[91m::Any\u001b[39m, \u001b[91m::Any...\u001b[39m) at operators.jl:591\n\u001b[0m  +(\u001b[91m::Union{MathOptInterface.ScalarAffineFunction{T}, MathOptInterface.ScalarQuadraticFunction{T}}\u001b[39m, ::T) where T at C:\\Users\\bourg\\.julia\\packages\\MathOptInterface\\YDdD3\\src\\Utilities\\functions.jl:1716\n\u001b[0m  +(\u001b[91m::ChainRulesCore.Tangent{P}\u001b[39m, ::P) where P at C:\\Users\\bourg\\.julia\\packages\\ChainRulesCore\\C73ay\\src\\tangent_arithmetic.jl:146\n\u001b[0m  ...",
     "output_type": "error",
     "traceback": [
      "MethodError: no method matching +(::Matrix{AffExpr}, ::VariableRef)\n\u001b[0mClosest candidates are:\n\u001b[0m  +(::Any, ::Any, \u001b[91m::Any\u001b[39m, \u001b[91m::Any...\u001b[39m) at operators.jl:591\n\u001b[0m  +(\u001b[91m::Union{MathOptInterface.ScalarAffineFunction{T}, MathOptInterface.ScalarQuadraticFunction{T}}\u001b[39m, ::T) where T at C:\\Users\\bourg\\.julia\\packages\\MathOptInterface\\YDdD3\\src\\Utilities\\functions.jl:1716\n\u001b[0m  +(\u001b[91m::ChainRulesCore.Tangent{P}\u001b[39m, ::P) where P at C:\\Users\\bourg\\.julia\\packages\\ChainRulesCore\\C73ay\\src\\tangent_arithmetic.jl:146\n\u001b[0m  ...",
      "",
      "Stacktrace:",
      " [1] macro expansion",
      "   @ C:\\Users\\bourg\\.julia\\packages\\MutableArithmetics\\0Y9ZS\\src\\rewrite.jl:279 [inlined]",
      " [2] macro expansion",
      "   @ C:\\Users\\bourg\\.julia\\packages\\JuMP\\klrjG\\src\\macros.jl:1260 [inlined]",
      " [3] masterprob(cuts::Vector{Any})",
      "   @ Main .\\In[64]:35",
      " [4] main(toler::Float64)",
      "   @ Main .\\In[66]:7",
      " [5] top-level scope",
      "   @ In[68]:1",
      " [6] eval",
      "   @ .\\boot.jl:368 [inlined]",
      " [7] include_string(mapexpr::typeof(REPL.softscope), mod::Module, code::String, filename::String)",
      "   @ Base .\\loading.jl:1428"
     ]
    }
   ],
   "source": [
    "main(0.01)"
   ]
  },
  {
   "cell_type": "markdown",
   "id": "d00d526c",
   "metadata": {},
   "source": [
    "----"
   ]
  },
  {
   "cell_type": "markdown",
   "id": "ce28295e",
   "metadata": {},
   "source": [
    "### Debug"
   ]
  },
  {
   "cell_type": "code",
   "execution_count": 375,
   "id": "9471aa38",
   "metadata": {},
   "outputs": [
    {
     "name": "stdout",
     "output_type": "stream",
     "text": [
      "Academic license - for non-commercial use only - expires 2023-11-27\r\n",
      "Gurobi Optimizer version 9.1.2 build v9.1.2rc0 (win64)\r\n",
      "Thread count: 6 physical cores, 12 logical processors, using up to 12 threads\r\n",
      "Optimize a model with 465 rows, 451 columns and 900 nonzeros\r\n",
      "Model fingerprint: 0xd7367c88\r\n",
      "Coefficient statistics:\r\n",
      "  Matrix range     [1e+00, 1e+00]\r\n",
      "  Objective range  [7e-03, 3e+02]\r\n",
      "  Bounds range     [1e+10, 1e+10]\r\n",
      "  RHS range        [2e+02, 1e+11]\r\n",
      "Warning: Model contains large rhs\r\n",
      "Warning: Model contains large bounds\r\n",
      "         Consider reformulating model or setting NumericFocus parameter\r\n",
      "         to avoid numerical issues.\r\n",
      "Presolve removed 465 rows and 451 columns\r\n",
      "Presolve time: 0.00s\r\n",
      "Presolve: All rows and columns removed\r\n",
      "Iteration    Objective       Primal Inf.    Dual Inf.      Time\r\n",
      "       0   -1.0008384e+10   0.000000e+00   0.000000e+00      0s\r\n",
      "\r\n",
      "Solved in 0 iterations and 0.00 seconds\r\n",
      "Optimal objective -1.000838413e+10\r\n",
      "\r\n",
      "User-callback calls 34, time in user-callback 0.00 sec\r\n"
     ]
    },
    {
     "data": {
      "text/plain": [
       "-1.0008384127042429e10"
      ]
     },
     "execution_count": 375,
     "metadata": {},
     "output_type": "execute_result"
    }
   ],
   "source": [
    "i = 0\n",
    "z_ub = Inf\n",
    "x_opt = 0\n",
    "\n",
    "cuts = []\n",
    "res0 = masterprob(cuts)\n",
    "x_hat = res0[\"x_hat\"]\n",
    "z_lb = res0[\"z_lb\"]"
   ]
  },
  {
   "cell_type": "code",
   "execution_count": 377,
   "id": "d30d1fe8",
   "metadata": {},
   "outputs": [
    {
     "data": {
      "text/plain": [
       "true"
      ]
     },
     "execution_count": 377,
     "metadata": {},
     "output_type": "execute_result"
    }
   ],
   "source": [
    "(z_ub - z_lb) > toler * min(abs(z_ub), abs(z_lb))"
   ]
  },
  {
   "cell_type": "code",
   "execution_count": 378,
   "id": "f05d63f5",
   "metadata": {},
   "outputs": [
    {
     "name": "stdout",
     "output_type": "stream",
     "text": [
      "Academic license - for non-commercial use only - expires 2023-11-27\r\n",
      "Gurobi Optimizer version 9.1.2 build v9.1.2rc0 (win64)\r\n",
      "Thread count: 6 physical cores, 12 logical processors, using up to 12 threads\r\n",
      "Optimize a model with 900 rows, 13501 columns and 27001 nonzeros\r\n",
      "Model fingerprint: 0x2b967fcc\r\n",
      "Coefficient statistics:\r\n",
      "  Matrix range     [1e+00, 1e+00]\r\n",
      "  Objective range  [8e-03, 1e+01]\r\n",
      "  Bounds range     [0e+00, 0e+00]\r\n",
      "  RHS range        [5e+02, 5e+05]\r\n",
      "Presolve removed 900 rows and 13501 columns\r\n",
      "Presolve time: 0.01s\r\n",
      "Presolve: All rows and columns removed\r\n",
      "Iteration    Objective       Primal Inf.    Dual Inf.      Time\r\n",
      "       0    1.9657527e+05   0.000000e+00   0.000000e+00      0s\r\n",
      "\r\n",
      "Solved in 0 iterations and 0.01 seconds\r\n",
      "Optimal objective  1.965752693e+05\r\n",
      "\r\n",
      "User-callback calls 29, time in user-callback 0.00 sec\r\n",
      "Academic license - for non-commercial use only - expires 2023-11-27\r\n",
      "Gurobi Optimizer version 9.1.2 build v9.1.2rc0 (win64)\r\n",
      "Thread count: 6 physical cores, 12 logical processors, using up to 12 threads\r\n",
      "Optimize a model with 900 rows, 13501 columns and 27001 nonzeros\r\n",
      "Model fingerprint: 0x14e90afd\r\n",
      "Coefficient statistics:\r\n",
      "  Matrix range     [1e+00, 1e+00]\r\n",
      "  Objective range  [8e-03, 1e+01]\r\n",
      "  Bounds range     [0e+00, 0e+00]\r\n",
      "  RHS range        [5e+02, 5e+05]\r\n",
      "Presolve removed 900 rows and 13501 columns\r\n",
      "Presolve time: 0.01s\r\n",
      "Presolve: All rows and columns removed\r\n",
      "Iteration    Objective       Primal Inf.    Dual Inf.      Time\r\n",
      "       0    1.9657527e+05   0.000000e+00   0.000000e+00      0s\r\n",
      "\r\n",
      "Solved in 0 iterations and 0.01 seconds\r\n",
      "Optimal objective  1.965752693e+05\r\n",
      "\r\n",
      "User-callback calls 29, time in user-callback 0.00 sec\r\n",
      "Academic license - for non-commercial use only - expires 2023-11-27\r\n",
      "Gurobi Optimizer version 9.1.2 build v9.1.2rc0 (win64)\r\n",
      "Thread count: 6 physical cores, 12 logical processors, using up to 12 threads\r\n",
      "Optimize a model with 900 rows, 13501 columns and 27001 nonzeros\r\n",
      "Model fingerprint: 0xaeea434b\r\n",
      "Coefficient statistics:\r\n",
      "  Matrix range     [1e+00, 1e+00]\r\n",
      "  Objective range  [8e-03, 1e+01]\r\n",
      "  Bounds range     [0e+00, 0e+00]\r\n",
      "  RHS range        [5e+02, 5e+05]\r\n",
      "Presolve removed 900 rows and 13501 columns\r\n",
      "Presolve time: 0.01s\r\n",
      "Presolve: All rows and columns removed\r\n",
      "Iteration    Objective       Primal Inf.    Dual Inf.      Time\r\n",
      "       0    1.9657527e+05   0.000000e+00   0.000000e+00      0s\r\n",
      "\r\n",
      "Solved in 0 iterations and 0.01 seconds\r\n",
      "Optimal objective  1.965752693e+05\r\n",
      "\r\n",
      "User-callback calls 29, time in user-callback 0.00 sec\r\n",
      "Academic license - for non-commercial use only - expires 2023-11-27\r\n",
      "Gurobi Optimizer version 9.1.2 build v9.1.2rc0 (win64)\r\n",
      "Thread count: 6 physical cores, 12 logical processors, using up to 12 threads\r\n",
      "Optimize a model with 900 rows, 13501 columns and 27001 nonzeros\r\n",
      "Model fingerprint: 0x5c0c6cfb\r\n",
      "Coefficient statistics:\r\n",
      "  Matrix range     [1e+00, 1e+00]\r\n",
      "  Objective range  [8e-03, 1e+01]\r\n",
      "  Bounds range     [0e+00, 0e+00]\r\n",
      "  RHS range        [5e+02, 5e+05]\r\n",
      "Presolve removed 900 rows and 13501 columns\r\n",
      "Presolve time: 0.01s\r\n",
      "Presolve: All rows and columns removed\r\n",
      "Iteration    Objective       Primal Inf.    Dual Inf.      Time\r\n",
      "       0    1.9657527e+05   0.000000e+00   0.000000e+00      0s\r\n",
      "\r\n",
      "Solved in 0 iterations and 0.01 seconds\r\n",
      "Optimal objective  1.965752693e+05\r\n",
      "\r\n",
      "User-callback calls 29, time in user-callback 0.00 sec\r\n",
      "Academic license - for non-commercial use only - expires 2023-11-27\r\n",
      "Gurobi Optimizer version 9.1.2 build v9.1.2rc0 (win64)\r\n",
      "Thread count: 6 physical cores, 12 logical processors, using up to 12 threads\r\n",
      "Optimize a model with 900 rows, 13501 columns and 27001 nonzeros\r\n",
      "Model fingerprint: 0xd1f1849b\r\n",
      "Coefficient statistics:\r\n",
      "  Matrix range     [1e+00, 1e+00]\r\n",
      "  Objective range  [8e-03, 1e+01]\r\n",
      "  Bounds range     [0e+00, 0e+00]\r\n",
      "  RHS range        [5e+02, 5e+05]\r\n",
      "Presolve removed 900 rows and 13501 columns\r\n",
      "Presolve time: 0.00s\r\n",
      "Presolve: All rows and columns removed\r\n",
      "Iteration    Objective       Primal Inf.    Dual Inf.      Time\r\n",
      "       0    1.9657527e+05   0.000000e+00   0.000000e+00      0s\r\n",
      "\r\n",
      "Solved in 0 iterations and 0.01 seconds\r\n",
      "Optimal objective  1.965752693e+05\r\n",
      "\r\n",
      "User-callback calls 29, time in user-callback 0.00 sec\r\n",
      "Academic license - for non-commercial use only - expires 2023-11-27\r\n",
      "Gurobi Optimizer version 9.1.2 build v9.1.2rc0 (win64)\r\n",
      "Thread count: 6 physical cores, 12 logical processors, using up to 12 threads\r\n",
      "Optimize a model with 900 rows, 13501 columns and 27001 nonzeros\r\n",
      "Model fingerprint: 0x2c5f62b5\r\n",
      "Coefficient statistics:\r\n",
      "  Matrix range     [1e+00, 1e+00]\r\n",
      "  Objective range  [8e-03, 1e+01]\r\n",
      "  Bounds range     [0e+00, 0e+00]\r\n",
      "  RHS range        [5e+02, 5e+05]\r\n",
      "Presolve removed 900 rows and 13501 columns\r\n",
      "Presolve time: 0.01s\r\n",
      "Presolve: All rows and columns removed\r\n",
      "Iteration    Objective       Primal Inf.    Dual Inf.      Time\r\n",
      "       0    1.9657527e+05   0.000000e+00   0.000000e+00      0s\r\n",
      "\r\n",
      "Solved in 0 iterations and 0.01 seconds\r\n",
      "Optimal objective  1.965752693e+05\r\n",
      "\r\n",
      "User-callback calls 28, time in user-callback 0.00 sec\r\n",
      "Academic license - for non-commercial use only - expires 2023-11-27\r\n",
      "Gurobi Optimizer version 9.1.2 build v9.1.2rc0 (win64)\r\n",
      "Thread count: 6 physical cores, 12 logical processors, using up to 12 threads\r\n",
      "Optimize a model with 900 rows, 13501 columns and 27001 nonzeros\r\n",
      "Model fingerprint: 0x3509f94a\r\n",
      "Coefficient statistics:\r\n",
      "  Matrix range     [1e+00, 1e+00]\r\n",
      "  Objective range  [8e-03, 1e+01]\r\n",
      "  Bounds range     [0e+00, 0e+00]\r\n",
      "  RHS range        [5e+02, 5e+05]\r\n",
      "Presolve removed 900 rows and 13501 columns\r\n",
      "Presolve time: 0.01s\r\n",
      "Presolve: All rows and columns removed\r\n",
      "Iteration    Objective       Primal Inf.    Dual Inf.      Time\r\n",
      "       0    4.2243289e+05   0.000000e+00   0.000000e+00      0s\r\n",
      "\r\n",
      "Solved in 0 iterations and 0.01 seconds\r\n",
      "Optimal objective  4.224328893e+05\r\n",
      "\r\n",
      "User-callback calls 28, time in user-callback 0.00 sec\r\n",
      "Academic license - for non-commercial use only - expires 2023-11-27\r\n",
      "Gurobi Optimizer version 9.1.2 build v9.1.2rc0 (win64)\r\n",
      "Thread count: 6 physical cores, 12 logical processors, using up to 12 threads\r\n",
      "Optimize a model with 900 rows, 13501 columns and 27001 nonzeros\r\n",
      "Model fingerprint: 0x2d76e2a3\r\n",
      "Coefficient statistics:\r\n",
      "  Matrix range     [1e+00, 1e+00]\r\n",
      "  Objective range  [8e-03, 1e+01]\r\n",
      "  Bounds range     [0e+00, 0e+00]\r\n",
      "  RHS range        [5e+02, 6e+05]\r\n",
      "Presolve removed 900 rows and 13501 columns\r\n",
      "Presolve time: 0.01s\r\n",
      "Presolve: All rows and columns removed\r\n",
      "Iteration    Objective       Primal Inf.    Dual Inf.      Time\r\n",
      "       0    1.1000057e+06   0.000000e+00   0.000000e+00      0s\r\n",
      "\r\n",
      "Solved in 0 iterations and 0.01 seconds\r\n",
      "Optimal objective  1.100005749e+06\r\n",
      "\r\n",
      "User-callback calls 28, time in user-callback 0.00 sec\r\n"
     ]
    },
    {
     "data": {
      "text/plain": [
       "(Dict{String, Any}(\"gradient\" => [-0.12781186121027854, -0.16449709458296913, -0.06253797789712207, -0.1286330854974228, -0.11155826363918264, -0.0, 0.022314648427925743, 0.6322869704056888, -0.0, -0.0  …  -0.0, -0.0, -0.0, -0.0, -0.0, -0.0, -0.0, -0.0, -0.0, -0.2673616485985661], \"intersection\" => -1.0008384127042429e10), -8.04639076064418e6)"
      ]
     },
     "execution_count": 378,
     "metadata": {},
     "output_type": "execute_result"
    }
   ],
   "source": [
    "new_cut, z_hat = get_cuts(x_hat, D)"
   ]
  },
  {
   "cell_type": "code",
   "execution_count": 380,
   "id": "2ae9fa9b",
   "metadata": {},
   "outputs": [
    {
     "data": {
      "text/plain": [
       "(-8.04639076064418e6, Inf)"
      ]
     },
     "execution_count": 380,
     "metadata": {},
     "output_type": "execute_result"
    }
   ],
   "source": [
    "z_hat, z_ub"
   ]
  },
  {
   "cell_type": "code",
   "execution_count": 382,
   "id": "5ee04884",
   "metadata": {},
   "outputs": [],
   "source": [
    "if z_hat < z_ub\n",
    "    z_ub = z_hat\n",
    "    x_opt = x_hat;\n",
    "end"
   ]
  },
  {
   "cell_type": "code",
   "execution_count": 386,
   "id": "ca29c18e",
   "metadata": {},
   "outputs": [],
   "source": [
    "push!(cuts, new_cut);"
   ]
  },
  {
   "cell_type": "code",
   "execution_count": 392,
   "id": "704449f7",
   "metadata": {},
   "outputs": [
    {
     "data": {
      "text/plain": [
       "870-element Vector{Float64}:\n",
       " -0.12781186121027854\n",
       " -0.16449709458296913\n",
       " -0.06253797789712207\n",
       " -0.1286330854974228\n",
       " -0.11155826363918264\n",
       " -0.0\n",
       "  0.022314648427925743\n",
       "  0.6322869704056888\n",
       " -0.0\n",
       " -0.0\n",
       " -0.0\n",
       " -0.0\n",
       " -0.0\n",
       "  ⋮\n",
       " -0.0\n",
       " -0.0\n",
       " -0.0\n",
       " -0.0\n",
       " -0.0\n",
       " -0.0\n",
       " -0.0\n",
       " -0.0\n",
       " -0.0\n",
       " -0.0\n",
       " -0.0\n",
       " -0.2673616485985661"
      ]
     },
     "execution_count": 392,
     "metadata": {},
     "output_type": "execute_result"
    }
   ],
   "source": [
    "cuts[1][\"gradient\"]"
   ]
  },
  {
   "cell_type": "code",
   "execution_count": 394,
   "id": "0c658c09",
   "metadata": {},
   "outputs": [
    {
     "name": "stdout",
     "output_type": "stream",
     "text": [
      "Academic license - for non-commercial use only - expires 2023-11-27\r\n"
     ]
    }
   ],
   "source": [
    "model = Model(Gurobi.Optimizer)\n",
    "@variable(model, x[1:ncty, 1:nproc] >= 0)\n",
    "@variable(model, theta >= M)\n",
    "\n",
    "for k in 1:nproc\n",
    "    for i in 1:ncty\n",
    "        @constraint(model, x[i,k] <= capacity[!, 2:end][i,k])\n",
    "    end\n",
    "end\n",
    "for k in 1:nproc\n",
    "    @constraint(model, sum(x[i,k] for i in 1:ncty) == input_amount[k])\n",
    "end\n",
    "\n",
    "proD = (x .* Matrix(regional_EF[:,2:end])) * ones(nproc,1) \n",
    "proM = x * price\n",
    "\n",
    "pro_sink = zeros(ncty, nproc)\n",
    "for k in 1:nproc\n",
    "    for i in 1:ncty\n",
    "        pro_sink[i,k] = regional_EF[i, k+1] * (sink_c[i]/emission_c[i] + es_ratio)\n",
    "    end\n",
    "end\n",
    "proS = (x.*pro_sink)*ones(nproc,1);"
   ]
  },
  {
   "cell_type": "code",
   "execution_count": 400,
   "id": "63312b9f",
   "metadata": {},
   "outputs": [
    {
     "data": {
      "text/plain": [
       "870-element Vector{Float64}:\n",
       " -0.12781186121027854\n",
       " -0.16449709458296913\n",
       " -0.06253797789712207\n",
       " -0.1286330854974228\n",
       " -0.11155826363918264\n",
       " -0.0\n",
       "  0.022314648427925743\n",
       "  0.6322869704056888\n",
       " -0.0\n",
       " -0.0\n",
       " -0.0\n",
       " -0.0\n",
       " -0.0\n",
       "  ⋮\n",
       " -0.0\n",
       " -0.0\n",
       " -0.0\n",
       " -0.0\n",
       " -0.0\n",
       " -0.0\n",
       " -0.0\n",
       " -0.0\n",
       " -0.0\n",
       " -0.0\n",
       " -0.0\n",
       " -0.2673616485985661"
      ]
     },
     "execution_count": 400,
     "metadata": {},
     "output_type": "execute_result"
    }
   ],
   "source": [
    "cuts[1][\"gradient\"]"
   ]
  },
  {
   "cell_type": "code",
   "execution_count": 396,
   "id": "96d93fda",
   "metadata": {},
   "outputs": [
    {
     "data": {
      "text/plain": [
       "true"
      ]
     },
     "execution_count": 396,
     "metadata": {},
     "output_type": "execute_result"
    }
   ],
   "source": [
    "cuts != []"
   ]
  },
  {
   "cell_type": "code",
   "execution_count": 398,
   "id": "f4f3bc23",
   "metadata": {},
   "outputs": [
    {
     "name": "stdout",
     "output_type": "stream",
     "text": [
      "[-0.12781186121027854, -0.16449709458296913, -0.06253797789712207, -0.1286330854974228, -0.11155826363918264, -0.0, 0.022314648427925743, 0.6322869704056888, -0.0, -0.0, -0.0, -0.0, -0.0, -0.0, -0.0, -0.0, 0.1135170989960177, 1.461923867459026, -0.0, 1.1897393305285533, 0.08761891679301259, -0.0, 0.868654925031171, -0.0, -0.0, -0.0, 1.0123247094337913, -0.0, 2.6613651079346035, -0.0, 0.08988994647713167, -0.0, -0.0, -0.1286330854974228, -0.0, -0.0, 0.24001645611533595, -0.1314602700924703, -0.0, -0.0, -0.0, -0.0, -0.0, -0.0, -0.0, -0.0, -0.0, 0.6981766269608674, -0.0, 0.4259920900303946, -0.0, -0.0, 0.18690434907959563, -0.0, -0.0, -0.0, 0.2485774689356326, 0.030756483002560397, 1.8976178674364448, -0.0, 3.312156049481385, 2.762316726407633, -0.0, 3.0936330175068316, 2.8009854267574643, 2.23934848244625, 3.46228255911959, 3.5591007913962907, 3.0104056146257494, 1.0935486489314261, 2.753631555740272, 0.7450768336284482, 0.9294584906210154, 1.2113022959137754, 0.800400687757687, 1.3296990082082958, 2.15518515852834, 4.38873768844963, 0.28410938033567135, 4.116553151519156, 1.0486425839311941, 1.207129850470164, 3.7954687460217746, 3.0416209931468634, 3.0293195943660183, 0.9089194538132731, 3.939138530424394, 3.2530225860068143, 5.588178928925206, 1.154208376407002, 0.08988994647713167, 2.6997787485105107, -0.06253797789712207, -0.1286330854974228, -0.0, -0.0, 0.24001645611533595, 3.4965628134991684, -0.0, -0.0, -0.0, -0.0, -0.0, -0.0, -0.0, -0.0, 2.092647180631218, 4.326199710552507, 0.22157140243854911, 4.054015173622034, 0.9861046060340719, -0.0, 3.7329307681246524, -0.0, 1.772361273569702, -0.0, 3.8766005525272718, 0.030756483002560397, 5.525640951028084, -0.0, 2.2186074005499594, 5.622022504134875, 2.8597057777272408, 2.0000843685754046, 1.707436777826039, 1.1457998335148245, 2.3687339101881637, 6.418806569123532, 1.9168569656943224, -0.0, 1.6600829068088458, 1.9886123075095803, 0.36677464607350885, 0.11775364698234947, 0.9762075863451223, 0.23615035927686967, 5.014890936255582, 7.248443466176868, 3.143815158062912, 6.976258929246398, 3.908348361658434, 1.70635960552293, 6.655174523749013, 1.9480723442154366, 4.694605029194065, 1.3053074360017565, 6.798844308151636, 2.159473937075388, 8.447884706652447, 0.2043722699481605, 3.112392259152848, 2.2810510915810003, -0.19976379032853783, 2.893869227178293, 2.6012216364289276, 2.0395846921177134, 3.262518768791053, 3.077835156569659, 2.810641824297211, 0.8937848586028884, 2.5538677654117343, 0.5453130432999106, 0.7296947002924777, 1.0115385055852377, 0.6006368974291493, 1.1299352178797581, 1.6739195237017075, 3.907472053622996, -0.19715625449096089, 3.6352875166925225, 0.5673769491045615, 1.0073660601416263, 3.314203111195141, 2.8418572028183253, 2.8295558040374797, 0.7091556634847354, 3.4578728955977605, 3.0532587956782766, 5.106913294098574, 0.9544445860784643, 3.312156049481385, 2.762316726407633, -0.0, 3.0936330175068316, 2.8009854267574643, 2.23934848244625, 3.46228255911959, 3.5591007913962907, 3.0104056146257494, 1.0935486489314261, 2.753631555740272, 0.7450768336284482, 0.9294584906210154, 1.2113022959137754, 0.800400687757687, 1.3296990082082958, 2.15518515852834, 4.38873768844963, 0.28410938033567135, 4.116553151519156, 1.0486425839311941, 1.207129850470164, 3.7954687460217746, 3.0416209931468634, 3.0293195943660183, 0.9089194538132731, 3.939138530424394, 3.2530225860068143, 5.588178928925206, 1.154208376407002, 2.2101153571782315, 11.774158116974029, 9.011841390566396, 0.9610888723900508, -0.0, 7.03227073046046, 2.3310020050446894, 12.570942181962689, 2.4443861830236724, 6.152135612839154, 3.684584615395438, 8.140747920348735, 6.518910258912663, 5.394580673081818, 7.128343199184278, 4.634872748728209, 11.167026549094736, 13.400579079016024, 9.295950770902067, 13.128394542085548, 10.060483974497588, 7.858495218362085, 12.80731013658817, 5.236328430314415, 10.846740642033222, 7.457443048840913, 12.95097992099079, 1.945594948071213, 14.600020319491604, 5.658420887375434, 2.2101153571782315, 11.774158116974029, 9.011841390566396, 0.9610888723900508, -0.0, 7.03227073046046, 2.3310020050446894, 12.570942181962689, 2.4443861830236724, 6.152135612839154, 3.684584615395438, 8.140747920348735, 6.518910258912663, 5.394580673081818, 7.128343199184278, 4.634872748728209, 11.167026549094736, 13.400579079016024, 9.295950770902067, 13.128394542085548, 10.060483974497588, 7.858495218362085, 12.80731013658817, 5.236328430314415, 10.846740642033222, 7.457443048840913, 12.95097992099079, 1.945594948071213, 14.600020319491604, 5.658420887375434, 3.499128589787987, 2.5823577517437264, 0.18697254030660201, 3.2806055578134337, 2.9879579670640664, 2.426321022752852, 3.649255099426192, 3.2749914110606193, 3.1973781549323514, 1.2805211892380282, 2.940604096046874, 0.9320493739350503, 1.1164310309276175, 1.3982748362203774, 0.9873732280642891, 1.5166715485148978, 1.8710757781926688, 4.104628308113958, -0.0, 3.8324437711834847, 0.7645332035955228, 1.394102390776766, 3.5113593656861033, 3.2285935334534654, 3.2162921346726203, 1.095891994119875, 3.6550291500887226, 3.4399951263134163, 5.304069548589535, 1.341180916713604, 2.157947673074384, 6.115737229598595, 3.3534205031909616, 1.9394246410998295, 1.646777050350463, 1.3738498430850257, 2.3080741827125877, 6.912521294587252, 1.8561972382187473, 0.49371472546372175, 1.59942317933327, 2.482327032973302, 0.8604893715372306, 0.17780523091234823, 1.469922311808844, 0.25485354408150473, 5.508605661719302, 7.742158191640591, 3.637529883526633, 7.469973654710118, 4.4020630871221575, 2.2000743309866517, 7.148889249212736, 1.8874126167398608, 5.188319754657787, 1.7990221614654782, 7.292559033615356, 2.098814209599812, 8.941599432116169, -0.0, 2.2101153571782315, 11.774158116974029, 9.011841390566396, 0.9610888723900508, -0.0, 7.03227073046046, 2.3310020050446894, 12.570942181962689, 2.4443861830236724, 6.152135612839154, 3.684584615395438, 8.140747920348735, 6.518910258912663, 5.394580673081818, 7.128343199184278, 4.634872748728209, 11.167026549094736, 13.400579079016024, 9.295950770902067, 13.128394542085548, 10.060483974497588, 7.858495218362085, 12.80731013658817, 5.236328430314415, 10.846740642033222, 7.457443048840913, 12.95097992099079, 1.945594948071213, 14.600020319491604, 5.658420887375434, 2.157947673074384, 6.115737229598595, 3.3534205031909616, 1.9394246410998295, 1.646777050350463, 1.3738498430850257, 2.3080741827125877, 6.912521294587252, 1.8561972382187473, 0.49371472546372175, 1.59942317933327, 2.482327032973302, 0.8604893715372306, 0.17780523091234823, 1.469922311808844, 0.25485354408150473, 5.508605661719302, 7.742158191640591, 3.637529883526633, 7.469973654710118, 4.4020630871221575, 2.2000743309866517, 7.148889249212736, 1.8874126167398608, 5.188319754657787, 1.7990221614654782, 7.292559033615356, 2.098814209599812, 8.941599432116169, -0.0, 2.2101153571782315, 11.774158116974029, 9.011841390566396, 0.9610888723900508, -0.0, 7.03227073046046, 2.3310020050446894, 12.570942181962689, 2.4443861830236724, 6.152135612839154, 3.684584615395438, 8.140747920348735, 6.518910258912663, 5.394580673081818, 7.128343199184278, 4.634872748728209, 11.167026549094736, 13.400579079016024, 9.295950770902067, 13.128394542085548, 10.060483974497588, 7.858495218362085, 12.80731013658817, 5.236328430314415, 10.846740642033222, 7.457443048840913, 12.95097992099079, 1.945594948071213, 14.600020319491604, 5.658420887375434, 3.085386141862822, 7.990737229598595, 5.228420503190962, 2.9741096693378526, 2.8039750382445767, 3.2488498430850257, 3.175984646882731, 8.787521294587252, 2.9327985969589783, 2.3687147254637217, 2.7837197648804026, 4.357327032973302, 2.7354893715372306, 1.9204343168027953, 3.344922311808844, 1.9864686551206252, 7.383605661719302, 9.617158191640591, 5.512529883526633, 9.344973654710119, 6.2770630871221575, 4.075074330986651, 9.023889249212736, 2.937884462906462, 7.063319754657787, 3.674022161465478, 9.167559033615357, 3.0698547889081516, 10.816599432116169, 1.875, 0.43949097796519443, 0.5405265526890669, 0.2987886030573461, 0.3613265809544682, 0.2028073419036614, 0.2028073419036614, 0.052290988395203186, 0.2028073419036614, 2.2383947805325115, 2.1419493973362376, -0.0, 2.1419493973362376, 2.4638589899310124, 2.813422584887898, 2.0151292156331126, 2.077667193530235, 11.938655211556998, 12.702402452055155, 9.011841390566396, 9.074379368463518, -0.0, -0.0, -0.0, -0.0, 1.2065995301274197, 1.68395697979059, 1.1440615522302977, 1.2065995301274197, 2.9972435801190254, 2.7895150082682116, 0.7841238934629462, 2.7895150082682116, 1.6681690438939358, 1.5682875240291756, 1.219861808879065, 1.282399786776187, -0.0, -0.0, -0.06253797789712207, -0.0, -0.0, -0.0, -0.0, -0.0, -0.0, -0.0, -0.0, -0.0, -0.0, -0.0, -0.0, -0.0, -0.0, -0.0, -0.0, -0.0, -0.0, -0.0, -0.0, -0.0, -0.0, -0.0, -0.0, -0.0, -0.0, 0.02729942955923878, -0.0, -0.0, 0.08321378252751704, 0.03276355860042146, -0.0, -0.0, 3.626940450998266, 3.4092386433108564, 0.18697254030660201, 3.4092386433108564, 1.0144058520576793, 0.9590071811099341, 0.3994659297496392, 0.9590071811099341, 0.12363266250869076, 0.1185380601735608, -0.0, 0.07300775389435066, -0.0, -0.0, -0.0, -0.0, 0.001920734664825674, 0.01065053599687385, -0.0, -0.0, -0.0, -0.0, -0.0, -0.0, -0.0, -0.0, -0.0, -0.0, -0.0, -0.0, -0.0, -0.0, 0.016642666494016356, -0.0, -0.0, -0.0, 0.10984218033451032, 0.10984218033451032, -0.0, 0.10984218033451032, -0.0, -0.0, -0.0, -0.0, -0.0, -0.0, -0.0, -0.0, 0.2018598068981609, 0.5089258605916561, 0.2987886030573461, 0.06329501141503446, 0.06329501141503446, 0.31176960610069515, 0.05925323632385182, 0.252054778723741, 0.052290988395203186, 0.07690588138557342, 0.07690588138557342, 0.05247656862268668, 0.6976874650196861, 0.31483284895792657, -0.0, 1.8230831245458836, 1.8230831245458836, 0.11767659446696567, 1.4363512612893852, 2.2637597828958325, 2.0151292156331126, 0.19460203067680698, 0.19460203067680698, 2.066603528404872, 6.152135612839154, 9.493107025393028, 9.011841390566396, -0.0, -0.0, 9.295950770902067, -0.0, -0.0, -0.0, -0.0, -0.0, -0.0, 0.7942942069794093, 1.3851972928580136, 1.1440615522302977, 0.24392175429945184, 0.24392175429945184, 1.188041038367053, 1.4563824106955574, 0.983887683791484, 0.7841238934629462, 2.5253674573908405"
     ]
    },
    {
     "name": "stdout",
     "output_type": "stream",
     "text": [
      ", 2.5253674573908405, 0.7002876748240238, 0.9920341527023309, 1.4196255992076028, 1.219861808879065, 0.2994890604272764, 0.2994890604272764, 1.218777640063858, -0.0, 0.13722581243141574, -0.0, -0.0, -0.0, -0.0, -0.0, -0.0, -0.0, -0.0, -0.0, -0.0, -0.0, -0.0, -0.0, -0.0, -0.0, -0.0, -0.0, 0.08005756100656714, -0.0, -0.0, -0.0, -0.0, -0.0, -0.0, -0.0, -0.0, -0.0, -0.0, -0.0, -0.0, -0.0, -0.0, -0.0, -0.0, -0.0, -0.0, -0.0, -0.0, -0.0, -0.0, -0.0, 0.09844265330528067, -0.0, -0.0, -0.0, -0.0, -0.0, 0.025576663025165203, -0.0, -0.0, -0.0, -0.0, 1.2805211892380282, 0.38673633063513974, 0.18697254030660201, 2.9879579670640664, 2.9879579670640664, -0.0, 0.6198793501156351, 0.5992297200781769, 0.3994659297496392, 0.8522695063621838, 0.8522695063621838, 0.36874426333437244, -0.0, 0.18915265768554604, -0.0, -0.0, -0.0, -0.0, -0.0, 0.01258342124653039, -0.0, -0.0, -0.0, -0.0, -0.0, -0.0, -0.0, -0.0, -0.0, -0.0, -0.0, -0.0, -0.0, -0.0, -0.0, -0.0, -0.0, -0.0, -0.0, -0.0, -0.0, -0.0, -0.0, -0.0, -0.0, -0.0, -0.0, -0.0, -0.0, -0.0, -0.0, -0.0, -0.0, -0.0, -0.0, 0.020666881906632628, -0.0, -0.0, -0.0, -0.0, -0.0, -0.0, -0.0, -0.0, -0.0, -0.0, -0.2043722699481605, -0.0, -0.19976379032853783, -0.2673616485985661, -0.2673616485985661, -0.19715625449096089, 0.06329501141503446, 0.22358332455703822, 0.07690588138557342, 0.0797309266141617, 1.8230831245458836, 0.8552751208788302, 0.19460203067680698, 1.291651124916419, -0.0, 5.658420887375434, -0.0, -0.0, 0.24392175429945184, 0.8360236827961813, 2.5253674573908405, 1.3904143663493043, 0.2994890604272764, 0.7075487943395514, -0.0, -0.0, -0.0, -0.0, -0.0, -0.0, -0.0, -0.0, -0.0, -0.0, -0.0, -0.0, -0.0, -0.0, -0.0, -0.0, -0.0, -0.0, 2.9879579670640664, 1.341180916713604, 0.8522695063621838, 0.536467471259437, -0.0, -0.0, -0.0, -0.0, -0.0, -0.0, -0.0, -0.0, -0.0, -0.0, -0.0, -0.0, -0.0, -0.0, -0.0, -0.0, -0.0, -0.0, -0.0, -0.0, 0.22358332455703822, 0.06329501141503446, 0.0797309266141617, 0.07690588138557342, 0.8552751208788302, 1.8230831245458836, 1.291651124916419, 0.19460203067680698, 5.658420887375434, -0.0, -0.0, -0.0, 0.8360236827961813, 0.24392175429945184, 1.3904143663493043, 2.5253674573908405, 0.7075487943395514, 0.2994890604272764, -0.0, -0.0, -0.0, -0.0, -0.0, -0.0, -0.0, -0.0, -0.0, -0.0, -0.0, -0.0, -0.0, -0.0, -0.0, -0.0, -0.0, -0.0, 1.341180916713604, 2.9879579670640664, 0.536467471259437, 0.8522695063621838, -0.0, -0.0, -0.0, -0.0, -0.0, -0.0, -0.0, -0.0, -0.0, -0.0, -0.0, -0.0, -0.0, -0.0, -0.0, -0.0, -0.0, -0.0, -0.0, -0.2673616485985661]\n"
     ]
    },
    {
     "name": "stdout",
     "output_type": "stream",
     "text": [
      "[-0.12781186121027854, -0.16449709458296913, -0.06253797789712207, -0.1286330854974228, -0.11155826363918264, -0.0, 0.022314648427925743, 0.6322869704056888, -0.0, -0.0, -0.0, -0.0, -0.0, -0.0, -0.0, -0.0, 0.1135170989960177, 1.461923867459026, -0.0, 1.1897393305285533, 0.08761891679301259, -0.0, 0.868654925031171, -0.0, -0.0, -0.0, 1.0123247094337913, -0.0, 2.6613651079346035, -0.0, 0.08988994647713167, -0.0, -0.0, -0.1286330854974228, -0.0, -0.0, 0.24001645611533595, -0.1314602700924703, -0.0, -0.0, -0.0, -0.0, -0.0, -0.0, -0.0, -0.0, -0.0, 0.6981766269608674, -0.0, 0.4259920900303946, -0.0, -0.0, 0.18690434907959563, -0.0, -0.0, -0.0, 0.2485774689356326, 0.030756483002560397, 1.8976178674364448, -0.0, 3.312156049481385, 2.762316726407633, -0.0, 3.0936330175068316, 2.8009854267574643, 2.23934848244625, 3.46228255911959, 3.5591007913962907, 3.0104056146257494, 1.0935486489314261, 2.753631555740272, 0.7450768336284482, 0.9294584906210154, 1.2113022959137754, 0.800400687757687, 1.3296990082082958, 2.15518515852834, 4.38873768844963, 0.28410938033567135, 4.116553151519156, 1.0486425839311941, 1.207129850470164, 3.7954687460217746, 3.0416209931468634, 3.0293195943660183, 0.9089194538132731, 3.939138530424394, 3.2530225860068143, 5.588178928925206, 1.154208376407002, 0.08988994647713167, 2.6997787485105107, -0.06253797789712207, -0.1286330854974228, -0.0, -0.0, 0.24001645611533595, 3.4965628134991684, -0.0, -0.0, -0.0, -0.0, -0.0, -0.0, -0.0, -0.0, 2.092647180631218, 4.326199710552507, 0.22157140243854911, 4.054015173622034, 0.9861046060340719, -0.0, 3.7329307681246524, -0.0, 1.772361273569702, -0.0, 3.8766005525272718, 0.030756483002560397, 5.525640951028084, -0.0, 2.2186074005499594, 5.622022504134875, 2.8597057777272408, 2.0000843685754046, 1.707436777826039, 1.1457998335148245, 2.3687339101881637, 6.418806569123532, 1.9168569656943224, -0.0, 1.6600829068088458, 1.9886123075095803, 0.36677464607350885, 0.11775364698234947, 0.9762075863451223, 0.23615035927686967, 5.014890936255582, 7.248443466176868, 3.143815158062912, 6.976258929246398, 3.908348361658434, 1.70635960552293, 6.655174523749013, 1.9480723442154366, 4.694605029194065, 1.3053074360017565, 6.798844308151636, 2.159473937075388, 8.447884706652447, 0.2043722699481605, 3.112392259152848, 2.2810510915810003, -0.19976379032853783, 2.893869227178293, 2.6012216364289276, 2.0395846921177134, 3.262518768791053, 3.077835156569659, 2.810641824297211, 0.8937848586028884, 2.5538677654117343, 0.5453130432999106, 0.7296947002924777, 1.0115385055852377, 0.6006368974291493, 1.1299352178797581, 1.6739195237017075, 3.907472053622996, -0.19715625449096089, 3.6352875166925225, 0.5673769491045615, 1.0073660601416263, 3.314203111195141, 2.8418572028183253, 2.8295558040374797, 0.7091556634847354, 3.4578728955977605, 3.0532587956782766, 5.106913294098574, 0.9544445860784643, 3.312156049481385, 2.762316726407633, -0.0, 3.0936330175068316, 2.8009854267574643, 2.23934848244625, 3.46228255911959, 3.5591007913962907, 3.0104056146257494, 1.0935486489314261, 2.753631555740272, 0.7450768336284482, 0.9294584906210154, 1.2113022959137754, 0.800400687757687, 1.3296990082082958, 2.15518515852834, 4.38873768844963, 0.28410938033567135, 4.116553151519156, 1.0486425839311941, 1.207129850470164, 3.7954687460217746, 3.0416209931468634, 3.0293195943660183, 0.9089194538132731, 3.939138530424394, 3.2530225860068143, 5.588178928925206, 1.154208376407002, 2.2101153571782315, 11.774158116974029, 9.011841390566396, 0.9610888723900508, -0.0, 7.03227073046046, 2.3310020050446894, 12.570942181962689, 2.4443861830236724, 6.152135612839154, 3.684584615395438, 8.140747920348735, 6.518910258912663, 5.394580673081818, 7.128343199184278, 4.634872748728209, 11.167026549094736, 13.400579079016024, 9.295950770902067, 13.128394542085548, 10.060483974497588, 7.858495218362085, 12.80731013658817, 5.236328430314415, 10.846740642033222, 7.457443048840913, 12.95097992099079, 1.945594948071213, 14.600020319491604, 5.658420887375434, 2.2101153571782315, 11.774158116974029, 9.011841390566396, 0.9610888723900508, -0.0, 7.03227073046046, 2.3310020050446894, 12.570942181962689, 2.4443861830236724, 6.152135612839154, 3.684584615395438, 8.140747920348735, 6.518910258912663, 5.394580673081818, 7.128343199184278, 4.634872748728209, 11.167026549094736, 13.400579079016024, 9.295950770902067, 13.128394542085548, 10.060483974497588, 7.858495218362085, 12.80731013658817, 5.236328430314415, 10.846740642033222, 7.457443048840913, 12.95097992099079, 1.945594948071213, 14.600020319491604, 5.658420887375434, 3.499128589787987, 2.5823577517437264, 0.18697254030660201, 3.2806055578134337, 2.9879579670640664, 2.426321022752852, 3.649255099426192, 3.2749914110606193, 3.1973781549323514, 1.2805211892380282, 2.940604096046874, 0.9320493739350503, 1.1164310309276175, 1.3982748362203774, 0.9873732280642891, 1.5166715485148978, 1.8710757781926688, 4.104628308113958, -0.0, 3.8324437711834847, 0.7645332035955228, 1.394102390776766, 3.5113593656861033, 3.2285935334534654, 3.2162921346726203, 1.095891994119875, 3.6550291500887226, 3.4399951263134163, 5.304069548589535, 1.341180916713604, 2.157947673074384, 6.115737229598595, 3.3534205031909616, 1.9394246410998295, 1.646777050350463, 1.3738498430850257, 2.3080741827125877, 6.912521294587252, 1.8561972382187473, 0.49371472546372175, 1.59942317933327, 2.482327032973302, 0.8604893715372306, 0.17780523091234823, 1.469922311808844, 0.25485354408150473, 5.508605661719302, 7.742158191640591, 3.637529883526633, 7.469973654710118, 4.4020630871221575, 2.2000743309866517, 7.148889249212736, 1.8874126167398608, 5.188319754657787, 1.7990221614654782, 7.292559033615356, 2.098814209599812, 8.941599432116169, -0.0, 2.2101153571782315, 11.774158116974029, 9.011841390566396, 0.9610888723900508, -0.0, 7.03227073046046, 2.3310020050446894, 12.570942181962689, 2.4443861830236724, 6.152135612839154, 3.684584615395438, 8.140747920348735, 6.518910258912663, 5.394580673081818, 7.128343199184278, 4.634872748728209, 11.167026549094736, 13.400579079016024, 9.295950770902067, 13.128394542085548, 10.060483974497588, 7.858495218362085, 12.80731013658817, 5.236328430314415, 10.846740642033222, 7.457443048840913, 12.95097992099079, 1.945594948071213, 14.600020319491604, 5.658420887375434, 2.157947673074384, 6.115737229598595, 3.3534205031909616, 1.9394246410998295, 1.646777050350463, 1.3738498430850257, 2.3080741827125877, 6.912521294587252, 1.8561972382187473, 0.49371472546372175, 1.59942317933327, 2.482327032973302, 0.8604893715372306, 0.17780523091234823, 1.469922311808844, 0.25485354408150473, 5.508605661719302, 7.742158191640591, 3.637529883526633, 7.469973654710118, 4.4020630871221575, 2.2000743309866517, 7.148889249212736, 1.8874126167398608, 5.188319754657787, 1.7990221614654782, 7.292559033615356, 2.098814209599812, 8.941599432116169, -0.0, 2.2101153571782315, 11.774158116974029, 9.011841390566396, 0.9610888723900508, -0.0, 7.03227073046046, 2.3310020050446894, 12.570942181962689, 2.4443861830236724, 6.152135612839154, 3.684584615395438, 8.140747920348735, 6.518910258912663, 5.394580673081818, 7.128343199184278, 4.634872748728209, 11.167026549094736, 13.400579079016024, 9.295950770902067, 13.128394542085548, 10.060483974497588, 7.858495218362085, 12.80731013658817, 5.236328430314415, 10.846740642033222, 7.457443048840913, 12.95097992099079, 1.945594948071213, 14.600020319491604, 5.658420887375434, 3.085386141862822, 7.990737229598595, 5.228420503190962, 2.9741096693378526, 2.8039750382445767, 3.2488498430850257, 3.175984646882731, 8.787521294587252, 2.9327985969589783, 2.3687147254637217, 2.7837197648804026, 4.357327032973302, 2.7354893715372306, 1.9204343168027953, 3.344922311808844, 1.9864686551206252, 7.383605661719302, 9.617158191640591, 5.512529883526633, 9.344973654710119, 6.2770630871221575, 4.075074330986651, 9.023889249212736, 2.937884462906462, 7.063319754657787, 3.674022161465478, 9.167559033615357, 3.0698547889081516, 10.816599432116169, 1.875, 0.43949097796519443, 0.5405265526890669, 0.2987886030573461, 0.3613265809544682, 0.2028073419036614, 0.2028073419036614, 0.052290988395203186, 0.2028073419036614, 2.2383947805325115, 2.1419493973362376, -0.0, 2.1419493973362376, 2.4638589899310124, 2.813422584887898, 2.0151292156331126, 2.077667193530235, 11.938655211556998, 12.702402452055155, 9.011841390566396, 9.074379368463518, -0.0, -0.0, -0.0, -0.0, 1.2065995301274197, 1.68395697979059, 1.1440615522302977, 1.2065995301274197, 2.9972435801190254, 2.7895150082682116, 0.7841238934629462, 2.7895150082682116, 1.6681690438939358, 1.5682875240291756, 1.219861808879065, 1.282399786776187, -0.0, -0.0, -0.06253797789712207, -0.0, -0.0, -0.0, -0.0, -0.0, -0.0, -0.0, -0.0, -0.0, -0.0, -0.0, -0.0, -0.0, -0.0, -0.0, -0.0, -0.0, -0.0, -0.0, -0.0, -0.0, -0.0, -0.0, -0.0, -0.0, -0.0, 0.02729942955923878, -0.0, -0.0, 0.08321378252751704, 0.03276355860042146, -0.0, -0.0, 3.626940450998266, 3.4092386433108564, 0.18697254030660201, 3.4092386433108564, 1.0144058520576793, 0.9590071811099341, 0.3994659297496392, 0.9590071811099341, 0.12363266250869076, 0.1185380601735608, -0.0, 0.07300775389435066, -0.0, -0.0, -0.0, -0.0, 0.001920734664825674, 0.01065053599687385, -0.0, -0.0, -0.0, -0.0, -0.0, -0.0, -0.0, -0.0, -0.0, -0.0, -0.0, -0.0, -0.0, -0.0, 0.016642666494016356, -0.0, -0.0, -0.0, 0.10984218033451032, 0.10984218033451032, -0.0, 0.10984218033451032, -0.0, -0.0, -0.0, -0.0, -0.0, -0.0, -0.0, -0.0, 0.2018598068981609, 0.5089258605916561, 0.2987886030573461, 0.06329501141503446, 0.06329501141503446"
     ]
    },
    {
     "name": "stdout",
     "output_type": "stream",
     "text": [
      ", 0.31176960610069515, 0.05925323632385182, 0.252054778723741, 0.052290988395203186, 0.07690588138557342, 0.07690588138557342, 0.05247656862268668, 0.6976874650196861, 0.31483284895792657, -0.0, 1.8230831245458836, 1.8230831245458836, 0.11767659446696567, 1.4363512612893852, 2.2637597828958325, 2.0151292156331126, 0.19460203067680698, 0.19460203067680698, 2.066603528404872, 6.152135612839154, 9.493107025393028, 9.011841390566396, -0.0, -0.0, 9.295950770902067, -0.0, -0.0, -0.0, -0.0, -0.0, -0.0, 0.7942942069794093, 1.3851972928580136, 1.1440615522302977, 0.24392175429945184, 0.24392175429945184, 1.188041038367053, 1.4563824106955574, 0.983887683791484, 0.7841238934629462, 2.5253674573908405, 2.5253674573908405, 0.7002876748240238, 0.9920341527023309, 1.4196255992076028, 1.219861808879065, 0.2994890604272764, 0.2994890604272764, 1.218777640063858, -0.0, 0.13722581243141574, -0.0, -0.0, -0.0, -0.0, -0.0, -0.0, -0.0, -0.0, -0.0, -0.0, -0.0, -0.0, -0.0, -0.0, -0.0, -0.0, -0.0, 0.08005756100656714, -0.0, -0.0, -0.0, -0.0, -0.0, -0.0, -0.0, -0.0, -0.0, -0.0, -0.0, -0.0, -0.0, -0.0, -0.0, -0.0, -0.0, -0.0, -0.0, -0.0, -0.0, -0.0, -0.0, 0.09844265330528067, -0.0, -0.0, -0.0, -0.0, -0.0, 0.025576663025165203, -0.0, -0.0, -0.0, -0.0, 1.2805211892380282, 0.38673633063513974, 0.18697254030660201, 2.9879579670640664, 2.9879579670640664, -0.0, 0.6198793501156351, 0.5992297200781769, 0.3994659297496392, 0.8522695063621838, 0.8522695063621838, 0.36874426333437244, -0.0, 0.18915265768554604, -0.0, -0.0, -0.0, -0.0, -0.0, 0.01258342124653039, -0.0, -0.0, -0.0, -0.0, -0.0, -0.0, -0.0, -0.0, -0.0, -0.0, -0.0, -0.0, -0.0, -0.0, -0.0, -0.0, -0.0, -0.0, -0.0, -0.0, -0.0, -0.0, -0.0, -0.0, -0.0, -0.0, -0.0, -0.0, -0.0, -0.0, -0.0, -0.0, -0.0, -0.0, -0.0, 0.020666881906632628, -0.0, -0.0, -0.0, -0.0, -0.0, -0.0, -0.0, -0.0, -0.0, -0.0, -0.2043722699481605, -0.0, -0.19976379032853783, -0.2673616485985661, -0.2673616485985661, -0.19715625449096089, 0.06329501141503446, 0.22358332455703822, 0.07690588138557342, 0.0797309266141617, 1.8230831245458836, 0.8552751208788302, 0.19460203067680698, 1.291651124916419, -0.0, 5.658420887375434, -0.0, -0.0, 0.24392175429945184, 0.8360236827961813, 2.5253674573908405, 1.3904143663493043, 0.2994890604272764, 0.7075487943395514, -0.0, -0.0, -0.0, -0.0, -0.0, -0.0, -0.0, -0.0, -0.0, -0.0, -0.0, -0.0, -0.0, -0.0, -0.0, -0.0, -0.0, -0.0, 2.9879579670640664, 1.341180916713604, 0.8522695063621838, 0.536467471259437, -0.0, -0.0, -0.0, -0.0, -0.0, -0.0, -0.0, -0.0, -0.0, -0.0, -0.0, -0.0, -0.0, -0.0, -0.0, -0.0, -0.0, -0.0, -0.0, -0.0, 0.22358332455703822, 0.06329501141503446, 0.0797309266141617, 0.07690588138557342, 0.8552751208788302, 1.8230831245458836, 1.291651124916419, 0.19460203067680698, 5.658420887375434, -0.0, -0.0, -0.0, 0.8360236827961813, 0.24392175429945184, 1.3904143663493043, 2.5253674573908405, 0.7075487943395514, 0.2994890604272764, -0.0, -0.0, -0.0, -0.0, -0.0, -0.0, -0.0, -0.0, -0.0, -0.0, -0.0, -0.0, -0.0, -0.0, -0.0, -0.0, -0.0, -0.0, 1.341180916713604, 2.9879579670640664, 0.536467471259437, 0.8522695063621838, -0.0, -0.0, -0.0, -0.0, -0.0, -0.0, -0.0, -0.0, -0.0, -0.0, -0.0, -0.0, -0.0, -0.0, -0.0, -0.0, -0.0, -0.0, -0.0, -0.2673616485985661]\n"
     ]
    }
   ],
   "source": [
    "if cuts != []\n",
    "    for cut in cuts\n",
    "        G = cut[\"gradient\"]\n",
    "        g = cut[\"intersection\"]\n",
    "        println(G)\n",
    "#         @constraint(model, sum(x .* G) + theta >= g)\n",
    "    end\n",
    "end"
   ]
  },
  {
   "cell_type": "code",
   "execution_count": null,
   "id": "1ca3a07b",
   "metadata": {},
   "outputs": [],
   "source": []
  },
  {
   "cell_type": "code",
   "execution_count": null,
   "id": "30b17e87",
   "metadata": {},
   "outputs": [],
   "source": []
  },
  {
   "cell_type": "code",
   "execution_count": null,
   "id": "de3a12d9",
   "metadata": {},
   "outputs": [],
   "source": []
  },
  {
   "cell_type": "code",
   "execution_count": 387,
   "id": "87c066e9",
   "metadata": {},
   "outputs": [
    {
     "name": "stdout",
     "output_type": "stream",
     "text": [
      "Academic license - for non-commercial use only - expires 2023-11-27\r\n"
     ]
    },
    {
     "ename": "LoadError",
     "evalue": "DimensionMismatch: arrays could not be broadcast to a common size; got a dimension with lengths 30 and 870",
     "output_type": "error",
     "traceback": [
      "DimensionMismatch: arrays could not be broadcast to a common size; got a dimension with lengths 30 and 870",
      "",
      "Stacktrace:",
      "  [1] _bcs1",
      "    @ .\\broadcast.jl:516 [inlined]",
      "  [2] _bcs",
      "    @ .\\broadcast.jl:510 [inlined]",
      "  [3] broadcast_shape",
      "    @ .\\broadcast.jl:504 [inlined]",
      "  [4] combine_axes",
      "    @ .\\broadcast.jl:499 [inlined]",
      "  [5] instantiate",
      "    @ .\\broadcast.jl:281 [inlined]",
      "  [6] materialize(bc::Base.Broadcast.Broadcasted{Base.Broadcast.DefaultArrayStyle{2}, Nothing, typeof(*), Tuple{Matrix{VariableRef}, Vector{Float64}}})",
      "    @ Base.Broadcast .\\broadcast.jl:860",
      "  [7] macro expansion",
      "    @ C:\\Users\\bourg\\.julia\\packages\\MutableArithmetics\\0Y9ZS\\src\\rewrite.jl:279 [inlined]",
      "  [8] macro expansion",
      "    @ C:\\Users\\bourg\\.julia\\packages\\JuMP\\klrjG\\src\\macros.jl:676 [inlined]",
      "  [9] masterprob(cuts::Vector{Any})",
      "    @ Main .\\In[111]:30",
      " [10] top-level scope",
      "    @ In[387]:1",
      " [11] eval",
      "    @ .\\boot.jl:368 [inlined]",
      " [12] include_string(mapexpr::typeof(REPL.softscope), mod::Module, code::String, filename::String)",
      "    @ Base .\\loading.jl:1428"
     ]
    }
   ],
   "source": [
    "function masterprob(cuts)\n",
    "    model = Model(Gurobi.Optimizer)\n",
    "    @variable(model, x[1:ncty, 1:nproc] >= 0)\n",
    "    @variable(model, theta >= M)\n",
    "    \n",
    "    for k in 1:nproc\n",
    "        for i in 1:ncty\n",
    "            @constraint(model, x[i,k] <= capacity[!, 2:end][i,k])\n",
    "        end\n",
    "    end\n",
    "    for k in 1:nproc\n",
    "        @constraint(model, sum(x[i,k] for i in 1:ncty) == input_amount[k])\n",
    "    end\n",
    "    \n",
    "    proD = (x .* Matrix(regional_EF[:,2:end])) * ones(nproc,1) \n",
    "    proM = x * price\n",
    "\n",
    "    pro_sink = zeros(ncty, nproc)\n",
    "    for k in 1:nproc\n",
    "        for i in 1:ncty\n",
    "            pro_sink[i,k] = regional_EF[i, k+1] * (sink_c[i]/emission_c[i] + es_ratio)\n",
    "        end\n",
    "    end\n",
    "    proS = (x.*pro_sink)*ones(nproc,1) \n",
    "    \n",
    "    if cuts != []\n",
    "        for cut in cuts\n",
    "            G = cut[\"gradient\"]\n",
    "            g = cut[\"intersection\"]\n",
    "            @constraint(model, sum(x .* G) + theta >= g)\n",
    "        end\n",
    "    end\n",
    "    \n",
    "    @objective(model, Min, sum(proD-proS)+theta)\n",
    "    JuMP.optimize!(model)\n",
    "    \n",
    "    x_hat = JuMP.value.(x)\n",
    "    theta_hat = JuMP.value.(theta)\n",
    "    z_lb = JuMP.objective_value(model)\n",
    "    \n",
    "    result = Dict([\"x_hat\"=>x_hat, \"z_lb\"=>z_lb])\n",
    "    return result\n",
    "end"
   ]
  },
  {
   "cell_type": "code",
   "execution_count": null,
   "id": "e09290a9",
   "metadata": {},
   "outputs": [],
   "source": [
    "while (z_ub - z_lb) > toler * min(abs(z_ub), abs(z_lb))\n",
    "    new_cut, z_hat = get_cuts(x_hat, D)\n",
    "    if z_hat < z_ub\n",
    "        z_ub = z_hat\n",
    "        x_opt = x_hat\n",
    "    end\n",
    "\n",
    "    push!(cuts, new_cut)\n",
    "\n",
    "    res1 = masterprob(cuts)\n",
    "    z_lb = res1[\"z_lb\"]\n",
    "    x_hat = res1[\"x_hat\"]\n",
    "\n",
    "    i += 1\n",
    "end"
   ]
  },
  {
   "cell_type": "code",
   "execution_count": null,
   "id": "024df1d9",
   "metadata": {},
   "outputs": [],
   "source": []
  },
  {
   "cell_type": "code",
   "execution_count": null,
   "id": "afbf77eb",
   "metadata": {},
   "outputs": [],
   "source": []
  },
  {
   "cell_type": "code",
   "execution_count": null,
   "id": "a140f64c",
   "metadata": {},
   "outputs": [],
   "source": []
  },
  {
   "cell_type": "code",
   "execution_count": null,
   "id": "1f27f293",
   "metadata": {},
   "outputs": [],
   "source": []
  },
  {
   "cell_type": "code",
   "execution_count": null,
   "id": "3ecb75c0",
   "metadata": {},
   "outputs": [],
   "source": []
  },
  {
   "cell_type": "code",
   "execution_count": null,
   "id": "1eaccdef",
   "metadata": {},
   "outputs": [],
   "source": []
  },
  {
   "cell_type": "code",
   "execution_count": null,
   "id": "6dd13d4d",
   "metadata": {},
   "outputs": [],
   "source": []
  },
  {
   "cell_type": "markdown",
   "id": "3395037a",
   "metadata": {},
   "source": [
    "---"
   ]
  },
  {
   "cell_type": "code",
   "execution_count": 331,
   "id": "ea297138",
   "metadata": {},
   "outputs": [
    {
     "data": {
      "text/plain": [
       "0.01"
      ]
     },
     "execution_count": 331,
     "metadata": {},
     "output_type": "execute_result"
    }
   ],
   "source": [
    "toler = 0.01"
   ]
  },
  {
   "cell_type": "code",
   "execution_count": 332,
   "id": "66b189cf",
   "metadata": {},
   "outputs": [
    {
     "name": "stdout",
     "output_type": "stream",
     "text": [
      "Academic license - for non-commercial use only - expires 2023-11-27\r\n",
      "Gurobi Optimizer version 9.1.2 build v9.1.2rc0 (win64)\r\n",
      "Thread count: 6 physical cores, 12 logical processors, using up to 12 threads\r\n",
      "Optimize a model with 465 rows, 451 columns and 900 nonzeros\r\n",
      "Model fingerprint: 0xd7367c88\r\n",
      "Coefficient statistics:\r\n",
      "  Matrix range     [1e+00, 1e+00]\r\n",
      "  Objective range  [7e-03, 3e+02]\r\n",
      "  Bounds range     [1e+10, 1e+10]\r\n",
      "  RHS range        [2e+02, 1e+11]\r\n",
      "Warning: Model contains large rhs\r\n",
      "Warning: Model contains large bounds\r\n",
      "         Consider reformulating model or setting NumericFocus parameter\r\n",
      "         to avoid numerical issues.\r\n",
      "Presolve removed 465 rows and 451 columns\r\n",
      "Presolve time: 0.00s\r\n",
      "Presolve: All rows and columns removed\r\n",
      "Iteration    Objective       Primal Inf.    Dual Inf.      Time\r\n",
      "       0   -1.0008384e+10   0.000000e+00   0.000000e+00      0s\r\n",
      "\r\n",
      "Solved in 0 iterations and 0.00 seconds\r\n",
      "Optimal objective -1.000838413e+10\r\n",
      "\r\n",
      "User-callback calls 34, time in user-callback 0.00 sec\r\n"
     ]
    },
    {
     "data": {
      "text/plain": [
       "Dict{String, Any} with 2 entries:\n",
       "  \"x_hat\" => [6200.0 0.0 … 0.0 0.0; 1770.29 0.0 … 0.0 0.0; … ; 0.0 0.0 … 0.0 0.…\n",
       "  \"z_lb\"  => -1.00084e10"
      ]
     },
     "execution_count": 332,
     "metadata": {},
     "output_type": "execute_result"
    }
   ],
   "source": [
    "i = 0\n",
    "z_ub = Inf\n",
    "x_opt = 0\n",
    "\n",
    "cuts = []\n",
    "res0 = masterprob(cuts)"
   ]
  },
  {
   "cell_type": "code",
   "execution_count": 333,
   "id": "61cd475d",
   "metadata": {},
   "outputs": [],
   "source": [
    "x_hat = res0[\"x_hat\"]\n",
    "z_lb = res0[\"z_lb\"];"
   ]
  },
  {
   "cell_type": "code",
   "execution_count": 346,
   "id": "d97b100b",
   "metadata": {},
   "outputs": [
    {
     "data": {
      "text/plain": [
       "225857.62"
      ]
     },
     "execution_count": 346,
     "metadata": {},
     "output_type": "execute_result"
    }
   ],
   "source": [
    "d = D[1]"
   ]
  },
  {
   "cell_type": "code",
   "execution_count": 335,
   "id": "6dead5f7",
   "metadata": {},
   "outputs": [
    {
     "name": "stdout",
     "output_type": "stream",
     "text": [
      "Academic license - for non-commercial use only - expires 2023-11-27\r\n",
      "Gurobi Optimizer version 9.1.2 build v9.1.2rc0 (win64)\r\n",
      "Thread count: 6 physical cores, 12 logical processors, using up to 12 threads\r\n",
      "Optimize a model with 900 rows, 13501 columns and 27001 nonzeros\r\n",
      "Model fingerprint: 0x2b967fcc\r\n",
      "Coefficient statistics:\r\n",
      "  Matrix range     [1e+00, 1e+00]\r\n",
      "  Objective range  [8e-03, 1e+01]\r\n",
      "  Bounds range     [0e+00, 0e+00]\r\n",
      "  RHS range        [5e+02, 5e+05]\r\n",
      "Presolve removed 900 rows and 13501 columns\r\n",
      "Presolve time: 0.00s\r\n",
      "Presolve: All rows and columns removed\r\n",
      "Iteration    Objective       Primal Inf.    Dual Inf.      Time\r\n",
      "       0    1.9657527e+05   0.000000e+00   0.000000e+00      0s\r\n",
      "\r\n",
      "Solved in 0 iterations and 0.01 seconds\r\n",
      "Optimal objective  1.965752693e+05\r\n",
      "\r\n",
      "User-callback calls 29, time in user-callback 0.00 sec\r\n"
     ]
    }
   ],
   "source": [
    "res = subprob(x_hat, d);"
   ]
  },
  {
   "cell_type": "code",
   "execution_count": 348,
   "id": "294c8a55",
   "metadata": {},
   "outputs": [
    {
     "name": "stdout",
     "output_type": "stream",
     "text": [
      "Academic license - for non-commercial use only - expires 2023-11-27\r\n",
      "Gurobi Optimizer version 9.1.2 build v9.1.2rc0 (win64)\r\n",
      "Thread count: 6 physical cores, 12 logical processors, using up to 12 threads\r\n",
      "Optimize a model with 900 rows, 13501 columns and 27001 nonzeros\r\n",
      "Model fingerprint: 0x2b967fcc\r\n",
      "Coefficient statistics:\r\n",
      "  Matrix range     [1e+00, 1e+00]\r\n",
      "  Objective range  [8e-03, 1e+01]\r\n",
      "  Bounds range     [0e+00, 0e+00]\r\n",
      "  RHS range        [5e+02, 5e+05]\r\n",
      "Presolve removed 900 rows and 13501 columns\r\n",
      "Presolve time: 0.00s\r\n",
      "Presolve: All rows and columns removed\r\n",
      "Iteration    Objective       Primal Inf.    Dual Inf.      Time\r\n",
      "       0    1.9657527e+05   0.000000e+00   0.000000e+00      0s\r\n",
      "\r\n",
      "Solved in 0 iterations and 0.01 seconds\r\n",
      "Optimal objective  1.965752693e+05\r\n",
      "\r\n",
      "User-callback calls 29, time in user-callback 0.00 sec\r\n",
      "Academic license - for non-commercial use only - expires 2023-11-27\r\n",
      "Gurobi Optimizer version 9.1.2 build v9.1.2rc0 (win64)\r\n",
      "Thread count: 6 physical cores, 12 logical processors, using up to 12 threads\r\n",
      "Optimize a model with 900 rows, 13501 columns and 27001 nonzeros\r\n",
      "Model fingerprint: 0x14e90afd\r\n",
      "Coefficient statistics:\r\n",
      "  Matrix range     [1e+00, 1e+00]\r\n",
      "  Objective range  [8e-03, 1e+01]\r\n",
      "  Bounds range     [0e+00, 0e+00]\r\n",
      "  RHS range        [5e+02, 5e+05]\r\n",
      "Presolve removed 900 rows and 13501 columns\r\n",
      "Presolve time: 0.00s\r\n",
      "Presolve: All rows and columns removed\r\n",
      "Iteration    Objective       Primal Inf.    Dual Inf.      Time\r\n",
      "       0    1.9657527e+05   0.000000e+00   0.000000e+00      0s\r\n",
      "\r\n",
      "Solved in 0 iterations and 0.01 seconds\r\n",
      "Optimal objective  1.965752693e+05\r\n",
      "\r\n",
      "User-callback calls 29, time in user-callback 0.00 sec\r\n",
      "Academic license - for non-commercial use only - expires 2023-11-27\r\n",
      "Gurobi Optimizer version 9.1.2 build v9.1.2rc0 (win64)\r\n",
      "Thread count: 6 physical cores, 12 logical processors, using up to 12 threads\r\n",
      "Optimize a model with 900 rows, 13501 columns and 27001 nonzeros\r\n",
      "Model fingerprint: 0xaeea434b\r\n",
      "Coefficient statistics:\r\n",
      "  Matrix range     [1e+00, 1e+00]\r\n",
      "  Objective range  [8e-03, 1e+01]\r\n",
      "  Bounds range     [0e+00, 0e+00]\r\n",
      "  RHS range        [5e+02, 5e+05]\r\n",
      "Presolve removed 900 rows and 13501 columns\r\n",
      "Presolve time: 0.00s\r\n",
      "Presolve: All rows and columns removed\r\n",
      "Iteration    Objective       Primal Inf.    Dual Inf.      Time\r\n",
      "       0    1.9657527e+05   0.000000e+00   0.000000e+00      0s\r\n",
      "\r\n",
      "Solved in 0 iterations and 0.01 seconds\r\n",
      "Optimal objective  1.965752693e+05\r\n",
      "\r\n",
      "User-callback calls 29, time in user-callback 0.00 sec\r\n",
      "Academic license - for non-commercial use only - expires 2023-11-27\r\n",
      "Gurobi Optimizer version 9.1.2 build v9.1.2rc0 (win64)\r\n",
      "Thread count: 6 physical cores, 12 logical processors, using up to 12 threads\r\n",
      "Optimize a model with 900 rows, 13501 columns and 27001 nonzeros\r\n",
      "Model fingerprint: 0x5c0c6cfb\r\n",
      "Coefficient statistics:\r\n",
      "  Matrix range     [1e+00, 1e+00]\r\n",
      "  Objective range  [8e-03, 1e+01]\r\n",
      "  Bounds range     [0e+00, 0e+00]\r\n",
      "  RHS range        [5e+02, 5e+05]\r\n",
      "Presolve removed 900 rows and 13501 columns\r\n",
      "Presolve time: 0.01s\r\n",
      "Presolve: All rows and columns removed\r\n",
      "Iteration    Objective       Primal Inf.    Dual Inf.      Time\r\n",
      "       0    1.9657527e+05   0.000000e+00   0.000000e+00      0s\r\n",
      "\r\n",
      "Solved in 0 iterations and 0.01 seconds\r\n",
      "Optimal objective  1.965752693e+05\r\n",
      "\r\n",
      "User-callback calls 29, time in user-callback 0.00 sec\r\n",
      "Academic license - for non-commercial use only - expires 2023-11-27\r\n",
      "Gurobi Optimizer version 9.1.2 build v9.1.2rc0 (win64)\r\n",
      "Thread count: 6 physical cores, 12 logical processors, using up to 12 threads\r\n",
      "Optimize a model with 900 rows, 13501 columns and 27001 nonzeros\r\n",
      "Model fingerprint: 0xd1f1849b\r\n",
      "Coefficient statistics:\r\n",
      "  Matrix range     [1e+00, 1e+00]\r\n",
      "  Objective range  [8e-03, 1e+01]\r\n",
      "  Bounds range     [0e+00, 0e+00]\r\n",
      "  RHS range        [5e+02, 5e+05]\r\n",
      "Presolve removed 900 rows and 13501 columns\r\n",
      "Presolve time: 0.00s\r\n",
      "Presolve: All rows and columns removed\r\n",
      "Iteration    Objective       Primal Inf.    Dual Inf.      Time\r\n",
      "       0    1.9657527e+05   0.000000e+00   0.000000e+00      0s\r\n",
      "\r\n",
      "Solved in 0 iterations and 0.01 seconds\r\n",
      "Optimal objective  1.965752693e+05\r\n",
      "\r\n",
      "User-callback calls 29, time in user-callback 0.00 sec\r\n",
      "Academic license - for non-commercial use only - expires 2023-11-27\r\n",
      "Gurobi Optimizer version 9.1.2 build v9.1.2rc0 (win64)\r\n",
      "Thread count: 6 physical cores, 12 logical processors, using up to 12 threads\r\n",
      "Optimize a model with 900 rows, 13501 columns and 27001 nonzeros\r\n",
      "Model fingerprint: 0x2c5f62b5\r\n",
      "Coefficient statistics:\r\n",
      "  Matrix range     [1e+00, 1e+00]\r\n",
      "  Objective range  [8e-03, 1e+01]\r\n",
      "  Bounds range     [0e+00, 0e+00]\r\n",
      "  RHS range        [5e+02, 5e+05]\r\n",
      "Presolve removed 900 rows and 13501 columns\r\n",
      "Presolve time: 0.00s\r\n",
      "Presolve: All rows and columns removed\r\n",
      "Iteration    Objective       Primal Inf.    Dual Inf.      Time\r\n",
      "       0    1.9657527e+05   0.000000e+00   0.000000e+00      0s\r\n",
      "\r\n",
      "Solved in 0 iterations and 0.01 seconds\r\n",
      "Optimal objective  1.965752693e+05\r\n",
      "\r\n",
      "User-callback calls 28, time in user-callback 0.00 sec\r\n",
      "Academic license - for non-commercial use only - expires 2023-11-27\r\n",
      "Gurobi Optimizer version 9.1.2 build v9.1.2rc0 (win64)\r\n",
      "Thread count: 6 physical cores, 12 logical processors, using up to 12 threads\r\n",
      "Optimize a model with 900 rows, 13501 columns and 27001 nonzeros\r\n",
      "Model fingerprint: 0x3509f94a\r\n",
      "Coefficient statistics:\r\n",
      "  Matrix range     [1e+00, 1e+00]\r\n",
      "  Objective range  [8e-03, 1e+01]\r\n",
      "  Bounds range     [0e+00, 0e+00]\r\n",
      "  RHS range        [5e+02, 5e+05]\r\n",
      "Presolve removed 900 rows and 13501 columns\r\n",
      "Presolve time: 0.00s\r\n",
      "Presolve: All rows and columns removed\r\n",
      "Iteration    Objective       Primal Inf.    Dual Inf.      Time\r\n",
      "       0    4.2243289e+05   0.000000e+00   0.000000e+00      0s\r\n",
      "\r\n",
      "Solved in 0 iterations and 0.01 seconds\r\n",
      "Optimal objective  4.224328893e+05\r\n",
      "\r\n",
      "User-callback calls 28, time in user-callback 0.00 sec\r\n",
      "Academic license - for non-commercial use only - expires 2023-11-27\r\n",
      "Gurobi Optimizer version 9.1.2 build v9.1.2rc0 (win64)\r\n",
      "Thread count: 6 physical cores, 12 logical processors, using up to 12 threads\r\n",
      "Optimize a model with 900 rows, 13501 columns and 27001 nonzeros\r\n",
      "Model fingerprint: 0x2d76e2a3\r\n",
      "Coefficient statistics:\r\n",
      "  Matrix range     [1e+00, 1e+00]\r\n",
      "  Objective range  [8e-03, 1e+01]\r\n",
      "  Bounds range     [0e+00, 0e+00]\r\n",
      "  RHS range        [5e+02, 6e+05]\r\n",
      "Presolve removed 900 rows and 13501 columns\r\n",
      "Presolve time: 0.00s\r\n",
      "Presolve: All rows and columns removed\r\n",
      "Iteration    Objective       Primal Inf.    Dual Inf.      Time\r\n",
      "       0    1.1000057e+06   0.000000e+00   0.000000e+00      0s\r\n",
      "\r\n",
      "Solved in 0 iterations and 0.00 seconds\r\n",
      "Optimal objective  1.100005749e+06\r\n",
      "\r\n",
      "User-callback calls 28, time in user-callback 0.00 sec\r\n"
     ]
    }
   ],
   "source": [
    "G = [] # gradient\n",
    "g = 0 # intersection\n",
    "qy = 0\n",
    "\n",
    "for d in D\n",
    "    res = subprob(x_hat, d)\n",
    "    gradient = -1 * res[\"pi\"]\n",
    "\n",
    "    push!(G, gradient)\n",
    "    g += d * res[\"alp\"][1]\n",
    "    qy += res[\"qyhat\"]\n",
    "end\n",
    "    "
   ]
  },
  {
   "cell_type": "code",
   "execution_count": 349,
   "id": "e2f8e0c6",
   "metadata": {},
   "outputs": [],
   "source": [
    "proD = (x_hat .* Matrix(regional_EF[:,2:end])) * ones(nproc,1) \n",
    "pro_sink = zeros(ncty, nproc)\n",
    "for k in 1:nproc\n",
    "    for i in 1:ncty\n",
    "        pro_sink[i,k] = regional_EF[i, k+1] * (sink_c[i]/emission_c[i] + es_ratio)\n",
    "    end\n",
    "end"
   ]
  },
  {
   "cell_type": "code",
   "execution_count": 361,
   "id": "0ea9d437",
   "metadata": {},
   "outputs": [
    {
     "data": {
      "text/plain": [
       "0.0"
      ]
     },
     "execution_count": 361,
     "metadata": {},
     "output_type": "execute_result"
    }
   ],
   "source": [
    "proS = (x_hat .*pro_sink)*ones(nproc,1)\n",
    "z_hat = sum(proD - proS) + qy/size(D)[1]\n",
    "Exp_G = sum(G) / size(D)[1]\n",
    "Exp_g = sum(g) / size(D)[1]"
   ]
  },
  {
   "cell_type": "code",
   "execution_count": 368,
   "id": "c7a6cce5",
   "metadata": {},
   "outputs": [
    {
     "name": "stdout",
     "output_type": "stream",
     "text": [
      "Academic license - for non-commercial use only - expires 2023-11-27\r\n",
      "Gurobi Optimizer version 9.1.2 build v9.1.2rc0 (win64)\r\n",
      "Thread count: 6 physical cores, 12 logical processors, using up to 12 threads\r\n",
      "Optimize a model with 900 rows, 13501 columns and 27001 nonzeros\r\n",
      "Model fingerprint: 0x2b967fcc\r\n",
      "Coefficient statistics:\r\n",
      "  Matrix range     [1e+00, 1e+00]\r\n",
      "  Objective range  [8e-03, 1e+01]\r\n",
      "  Bounds range     [0e+00, 0e+00]\r\n",
      "  RHS range        [5e+02, 5e+05]\r\n",
      "Presolve removed 900 rows and 13501 columns\r\n",
      "Presolve time: 0.00s\r\n",
      "Presolve: All rows and columns removed\r\n",
      "Iteration    Objective       Primal Inf.    Dual Inf.      Time\r\n",
      "       0    1.9657527e+05   0.000000e+00   0.000000e+00      0s\r\n",
      "\r\n",
      "Solved in 0 iterations and 0.01 seconds\r\n",
      "Optimal objective  1.965752693e+05\r\n",
      "\r\n",
      "User-callback calls 29, time in user-callback 0.00 sec\r\n",
      "Academic license - for non-commercial use only - expires 2023-11-27\r\n",
      "Gurobi Optimizer version 9.1.2 build v9.1.2rc0 (win64)\r\n",
      "Thread count: 6 physical cores, 12 logical processors, using up to 12 threads\r\n",
      "Optimize a model with 900 rows, 13501 columns and 27001 nonzeros\r\n",
      "Model fingerprint: 0x14e90afd\r\n",
      "Coefficient statistics:\r\n",
      "  Matrix range     [1e+00, 1e+00]\r\n",
      "  Objective range  [8e-03, 1e+01]\r\n",
      "  Bounds range     [0e+00, 0e+00]\r\n",
      "  RHS range        [5e+02, 5e+05]\r\n",
      "Presolve removed 900 rows and 13501 columns\r\n",
      "Presolve time: 0.00s\r\n",
      "Presolve: All rows and columns removed\r\n",
      "Iteration    Objective       Primal Inf.    Dual Inf.      Time\r\n",
      "       0    1.9657527e+05   0.000000e+00   0.000000e+00      0s\r\n",
      "\r\n",
      "Solved in 0 iterations and 0.01 seconds\r\n",
      "Optimal objective  1.965752693e+05\r\n",
      "\r\n",
      "User-callback calls 29, time in user-callback 0.00 sec\r\n",
      "Academic license - for non-commercial use only - expires 2023-11-27\r\n",
      "Gurobi Optimizer version 9.1.2 build v9.1.2rc0 (win64)\r\n",
      "Thread count: 6 physical cores, 12 logical processors, using up to 12 threads\r\n",
      "Optimize a model with 900 rows, 13501 columns and 27001 nonzeros\r\n",
      "Model fingerprint: 0xaeea434b\r\n",
      "Coefficient statistics:\r\n",
      "  Matrix range     [1e+00, 1e+00]\r\n",
      "  Objective range  [8e-03, 1e+01]\r\n",
      "  Bounds range     [0e+00, 0e+00]\r\n",
      "  RHS range        [5e+02, 5e+05]\r\n",
      "Presolve removed 900 rows and 13501 columns\r\n",
      "Presolve time: 0.01s\r\n",
      "Presolve: All rows and columns removed\r\n",
      "Iteration    Objective       Primal Inf.    Dual Inf.      Time\r\n",
      "       0    1.9657527e+05   0.000000e+00   0.000000e+00      0s\r\n",
      "\r\n",
      "Solved in 0 iterations and 0.01 seconds\r\n",
      "Optimal objective  1.965752693e+05\r\n",
      "\r\n",
      "User-callback calls 29, time in user-callback 0.00 sec\r\n",
      "Academic license - for non-commercial use only - expires 2023-11-27\r\n",
      "Gurobi Optimizer version 9.1.2 build v9.1.2rc0 (win64)\r\n",
      "Thread count: 6 physical cores, 12 logical processors, using up to 12 threads\r\n",
      "Optimize a model with 900 rows, 13501 columns and 27001 nonzeros\r\n",
      "Model fingerprint: 0x5c0c6cfb\r\n",
      "Coefficient statistics:\r\n",
      "  Matrix range     [1e+00, 1e+00]\r\n",
      "  Objective range  [8e-03, 1e+01]\r\n",
      "  Bounds range     [0e+00, 0e+00]\r\n",
      "  RHS range        [5e+02, 5e+05]\r\n",
      "Presolve removed 900 rows and 13501 columns\r\n",
      "Presolve time: 0.00s\r\n",
      "Presolve: All rows and columns removed\r\n",
      "Iteration    Objective       Primal Inf.    Dual Inf.      Time\r\n",
      "       0    1.9657527e+05   0.000000e+00   0.000000e+00      0s\r\n",
      "\r\n",
      "Solved in 0 iterations and 0.01 seconds\r\n",
      "Optimal objective  1.965752693e+05\r\n",
      "\r\n",
      "User-callback calls 29, time in user-callback 0.00 sec\r\n",
      "Academic license - for non-commercial use only - expires 2023-11-27\r\n",
      "Gurobi Optimizer version 9.1.2 build v9.1.2rc0 (win64)\r\n",
      "Thread count: 6 physical cores, 12 logical processors, using up to 12 threads\r\n",
      "Optimize a model with 900 rows, 13501 columns and 27001 nonzeros\r\n",
      "Model fingerprint: 0xd1f1849b\r\n",
      "Coefficient statistics:\r\n",
      "  Matrix range     [1e+00, 1e+00]\r\n",
      "  Objective range  [8e-03, 1e+01]\r\n",
      "  Bounds range     [0e+00, 0e+00]\r\n",
      "  RHS range        [5e+02, 5e+05]\r\n",
      "Presolve removed 900 rows and 13501 columns\r\n",
      "Presolve time: 0.00s\r\n",
      "Presolve: All rows and columns removed\r\n",
      "Iteration    Objective       Primal Inf.    Dual Inf.      Time\r\n",
      "       0    1.9657527e+05   0.000000e+00   0.000000e+00      0s\r\n",
      "\r\n",
      "Solved in 0 iterations and 0.01 seconds\r\n",
      "Optimal objective  1.965752693e+05\r\n",
      "\r\n",
      "User-callback calls 29, time in user-callback 0.00 sec\r\n",
      "Academic license - for non-commercial use only - expires 2023-11-27\r\n",
      "Gurobi Optimizer version 9.1.2 build v9.1.2rc0 (win64)\r\n",
      "Thread count: 6 physical cores, 12 logical processors, using up to 12 threads\r\n",
      "Optimize a model with 900 rows, 13501 columns and 27001 nonzeros\r\n",
      "Model fingerprint: 0x2c5f62b5\r\n",
      "Coefficient statistics:\r\n",
      "  Matrix range     [1e+00, 1e+00]\r\n",
      "  Objective range  [8e-03, 1e+01]\r\n",
      "  Bounds range     [0e+00, 0e+00]\r\n",
      "  RHS range        [5e+02, 5e+05]\r\n",
      "Presolve removed 900 rows and 13501 columns\r\n",
      "Presolve time: 0.00s\r\n",
      "Presolve: All rows and columns removed\r\n",
      "Iteration    Objective       Primal Inf.    Dual Inf.      Time\r\n",
      "       0    1.9657527e+05   0.000000e+00   0.000000e+00      0s\r\n",
      "\r\n",
      "Solved in 0 iterations and 0.01 seconds\r\n",
      "Optimal objective  1.965752693e+05\r\n",
      "\r\n",
      "User-callback calls 28, time in user-callback 0.00 sec\r\n",
      "Academic license - for non-commercial use only - expires 2023-11-27\r\n",
      "Gurobi Optimizer version 9.1.2 build v9.1.2rc0 (win64)\r\n",
      "Thread count: 6 physical cores, 12 logical processors, using up to 12 threads\r\n",
      "Optimize a model with 900 rows, 13501 columns and 27001 nonzeros\r\n",
      "Model fingerprint: 0x3509f94a\r\n",
      "Coefficient statistics:\r\n",
      "  Matrix range     [1e+00, 1e+00]\r\n",
      "  Objective range  [8e-03, 1e+01]\r\n",
      "  Bounds range     [0e+00, 0e+00]\r\n",
      "  RHS range        [5e+02, 5e+05]\r\n",
      "Presolve removed 900 rows and 13501 columns\r\n",
      "Presolve time: 0.00s\r\n",
      "Presolve: All rows and columns removed\r\n",
      "Iteration    Objective       Primal Inf.    Dual Inf.      Time\r\n",
      "       0    4.2243289e+05   0.000000e+00   0.000000e+00      0s\r\n",
      "\r\n",
      "Solved in 0 iterations and 0.01 seconds\r\n",
      "Optimal objective  4.224328893e+05\r\n",
      "\r\n",
      "User-callback calls 28, time in user-callback 0.00 sec\r\n",
      "Academic license - for non-commercial use only - expires 2023-11-27\r\n",
      "Gurobi Optimizer version 9.1.2 build v9.1.2rc0 (win64)\r\n",
      "Thread count: 6 physical cores, 12 logical processors, using up to 12 threads\r\n",
      "Optimize a model with 900 rows, 13501 columns and 27001 nonzeros\r\n",
      "Model fingerprint: 0x2d76e2a3\r\n",
      "Coefficient statistics:\r\n",
      "  Matrix range     [1e+00, 1e+00]\r\n",
      "  Objective range  [8e-03, 1e+01]\r\n",
      "  Bounds range     [0e+00, 0e+00]\r\n",
      "  RHS range        [5e+02, 6e+05]\r\n",
      "Presolve removed 900 rows and 13501 columns\r\n",
      "Presolve time: 0.00s\r\n",
      "Presolve: All rows and columns removed\r\n",
      "Iteration    Objective       Primal Inf.    Dual Inf.      Time\r\n",
      "       0    1.1000057e+06   0.000000e+00   0.000000e+00      0s\r\n",
      "\r\n",
      "Solved in 0 iterations and 0.01 seconds\r\n",
      "Optimal objective  1.100005749e+06\r\n",
      "\r\n",
      "User-callback calls 28, time in user-callback 0.00 sec\r\n"
     ]
    },
    {
     "data": {
      "text/plain": [
       "(Dict{String, Any}(\"gradient\" => [-0.12781186121027854, -0.16449709458296913, -0.06253797789712207, -0.1286330854974228, -0.11155826363918264, -0.0, 0.022314648427925743, 0.6322869704056888, -0.0, -0.0  …  -0.0, -0.0, -0.0, -0.0, -0.0, -0.0, -0.0, -0.0, -0.0, -0.2673616485985661], \"intersection\" => -1.0008384127042429e10), -8.04639076064418e6)"
      ]
     },
     "execution_count": 368,
     "metadata": {},
     "output_type": "execute_result"
    }
   ],
   "source": [
    "res = get_cuts(x_hat, D)"
   ]
  },
  {
   "cell_type": "code",
   "execution_count": 369,
   "id": "7c8132c7",
   "metadata": {},
   "outputs": [
    {
     "data": {
      "text/plain": [
       "(Dict{String, Any}(\"gradient\" => [-0.12781186121027854, -0.16449709458296913, -0.06253797789712207, -0.1286330854974228, -0.11155826363918264, -0.0, 0.022314648427925743, 0.6322869704056888, -0.0, -0.0  …  -0.0, -0.0, -0.0, -0.0, -0.0, -0.0, -0.0, -0.0, -0.0, -0.2673616485985661], \"intersection\" => -1.0008384127042429e10), -8.04639076064418e6)"
      ]
     },
     "execution_count": 369,
     "metadata": {},
     "output_type": "execute_result"
    }
   ],
   "source": [
    "res"
   ]
  },
  {
   "cell_type": "code",
   "execution_count": null,
   "id": "b5e55653",
   "metadata": {},
   "outputs": [],
   "source": []
  },
  {
   "cell_type": "code",
   "execution_count": null,
   "id": "bf03df53",
   "metadata": {},
   "outputs": [],
   "source": []
  },
  {
   "cell_type": "code",
   "execution_count": null,
   "id": "d6cbe1db",
   "metadata": {},
   "outputs": [],
   "source": []
  },
  {
   "cell_type": "code",
   "execution_count": null,
   "id": "12432707",
   "metadata": {},
   "outputs": [],
   "source": []
  },
  {
   "cell_type": "code",
   "execution_count": null,
   "id": "f1e3afa1",
   "metadata": {},
   "outputs": [],
   "source": []
  },
  {
   "cell_type": "code",
   "execution_count": null,
   "id": "820a2061",
   "metadata": {},
   "outputs": [],
   "source": []
  },
  {
   "cell_type": "code",
   "execution_count": null,
   "id": "704316c4",
   "metadata": {},
   "outputs": [],
   "source": []
  },
  {
   "cell_type": "code",
   "execution_count": null,
   "id": "0e527ff0",
   "metadata": {},
   "outputs": [],
   "source": []
  },
  {
   "cell_type": "code",
   "execution_count": null,
   "id": "358c39f1",
   "metadata": {},
   "outputs": [],
   "source": []
  },
  {
   "cell_type": "code",
   "execution_count": null,
   "id": "372aa95e",
   "metadata": {},
   "outputs": [],
   "source": []
  },
  {
   "cell_type": "code",
   "execution_count": null,
   "id": "af2942be",
   "metadata": {},
   "outputs": [],
   "source": []
  },
  {
   "cell_type": "code",
   "execution_count": null,
   "id": "254b421c",
   "metadata": {},
   "outputs": [],
   "source": []
  },
  {
   "cell_type": "code",
   "execution_count": null,
   "id": "eb1bd45f",
   "metadata": {},
   "outputs": [],
   "source": []
  },
  {
   "cell_type": "code",
   "execution_count": null,
   "id": "7e8da297",
   "metadata": {},
   "outputs": [],
   "source": []
  },
  {
   "cell_type": "code",
   "execution_count": null,
   "id": "f9c455a7",
   "metadata": {},
   "outputs": [],
   "source": []
  },
  {
   "cell_type": "code",
   "execution_count": null,
   "id": "ef17c908",
   "metadata": {},
   "outputs": [],
   "source": []
  },
  {
   "cell_type": "code",
   "execution_count": null,
   "id": "fbcdd399",
   "metadata": {},
   "outputs": [],
   "source": []
  },
  {
   "cell_type": "code",
   "execution_count": null,
   "id": "d5683a66",
   "metadata": {},
   "outputs": [],
   "source": []
  },
  {
   "cell_type": "markdown",
   "id": "6c772692",
   "metadata": {},
   "source": [
    "---"
   ]
  },
  {
   "cell_type": "markdown",
   "id": "f3633eee",
   "metadata": {},
   "source": [
    "### Draft"
   ]
  },
  {
   "cell_type": "code",
   "execution_count": 292,
   "id": "a5828fcd",
   "metadata": {},
   "outputs": [],
   "source": [
    "# new_cut, z_hat = get_cuts(x_hat, D)"
   ]
  },
  {
   "cell_type": "code",
   "execution_count": 126,
   "id": "32ae0f38",
   "metadata": {},
   "outputs": [
    {
     "data": {
      "text/plain": [
       "0"
      ]
     },
     "execution_count": 126,
     "metadata": {},
     "output_type": "execute_result"
    }
   ],
   "source": [
    "G = []\n",
    "g = 0 \n",
    "qy = 0"
   ]
  },
  {
   "cell_type": "code",
   "execution_count": 178,
   "id": "a55604ea",
   "metadata": {},
   "outputs": [
    {
     "data": {
      "text/plain": [
       "225857.62"
      ]
     },
     "execution_count": 178,
     "metadata": {},
     "output_type": "execute_result"
    }
   ],
   "source": [
    "d = D[1]"
   ]
  },
  {
   "cell_type": "code",
   "execution_count": 227,
   "id": "b1b655f1",
   "metadata": {},
   "outputs": [
    {
     "name": "stdout",
     "output_type": "stream",
     "text": [
      "Academic license - for non-commercial use only - expires 2023-11-27\r\n"
     ]
    }
   ],
   "source": [
    "model = Model(Gurobi.Optimizer)\n",
    "@variable(model, y[1:ncty, 1:ncty, 1:nproc] >= 0)\n",
    "@variable(model, s >= 0)\n",
    "\n",
    "# node output flow constraint\n",
    "cstr_op = [@constraint(model, sum(y[i,j,k] for j in 1:ncty) == x_hat[i,k]) for k in 1:nproc for i in 1:ncty]\n",
    "\n",
    "# cathode LCA constraints (index=5)\n",
    "cstr_cth = [@constraint(model, sum(y[i,j,k] for i in 1:ncty) == x_hat[j,5]*scaler[k]) for j in 1:ncty for k in cathode]\n",
    "\n",
    "# cell LCA constraints (index=11)\n",
    "cstr_cell = [@constraint(model, sum(y[i,j,k] for i in 1:ncty) == x_hat[j,11]*scaler[k]) for j in 1:ncty for k in cell]\n",
    "\n",
    "# non cell LCA constraints (index=14)\n",
    "cstr_noncell = [@constraint(model, sum(y[i,j,k] for i in 1:ncty) == x_hat[j,14]*scaler[k]) for j in 1:ncty for k in noncell]\n",
    "\n",
    "# battery LCA constraints (index=15)\n",
    "cstr_battery = [@constraint(model, sum(y[i,j,k] for i in 1:ncty) == x_hat[j,15]*scaler[k]) for j in 1:ncty for k in battery]\n",
    "\n",
    "cstr1 = [cstr_op; cstr_cth; cstr_cell; cstr_noncell; cstr_battery]\n",
    "ncstr1 = size(cstr1)[1]\n",
    "for i in 1:ncstr1\n",
    "    set_name(cstr1[i], \"cstr_pi$(i)\")\n",
    "end\n",
    "\n",
    "for j in 1:ncty\n",
    "    if j == mkt_loc\n",
    "        @constraint(model, cstr_alp, sum(y[i,j,15] for i in 1:ncty) + s >= d)\n",
    "    else\n",
    "        @constraint(model, sum(y[i,j,mkt_proc] for i in 1:ncty) == 0)\n",
    "    end\n",
    "end\n",
    "\n",
    "\n",
    "# for i in 1:ncty\n",
    "#     for j in [e for e in 1:ncty if e != mkt_loc]\n",
    "#         @constraint(model, y[i,j,mkt_proc] == 0)\n",
    "#     end\n",
    "# end\n",
    "\n",
    "# @constraint(model, cstr_alp, sum(y[i,mkt_loc,15] for i in 1:ncty) + s >= d)"
   ]
  },
  {
   "cell_type": "code",
   "execution_count": 228,
   "id": "7b9e1c50",
   "metadata": {},
   "outputs": [],
   "source": [
    "tranD = Vector{AffExpr}(undef, ncty)\n",
    "tranS= Vector{AffExpr}(undef, ncty)\n",
    "for j in 1:ncty\n",
    "    arc_emi = 0\n",
    "    for i in 1:ncty\n",
    "        amount = sum(y[i,j,k] for k in 1:nproc)\n",
    "        arc_emi += (amount * distance[!, 2:end][i,j] * EF_trans)\n",
    "    end\n",
    "    tranD[j] = arc_emi\n",
    "    tranS[j] = arc_emi * (sink_c[j]/emission_c[j] + es_ratio)\n",
    "end\n",
    "\n",
    "# tranD[mkt_loc] += sum(y[i,mkt_loc, mkt_proc] for i in 1:ncty)\n",
    "# tranS[mkt_loc] += sum(y[i,mkt_loc, mkt_proc] for i in 1:ncty) * (sink_c[mkt_loc]/emission_c[mkt_loc] + es_ratio);"
   ]
  },
  {
   "cell_type": "code",
   "execution_count": 229,
   "id": "6d631ff4",
   "metadata": {},
   "outputs": [
    {
     "name": "stdout",
     "output_type": "stream",
     "text": [
      "Gurobi Optimizer version 9.1.2 build v9.1.2rc0 (win64)\r\n",
      "Thread count: 6 physical cores, 12 logical processors, using up to 12 threads\r\n",
      "Optimize a model with 900 rows, 13501 columns and 27001 nonzeros\r\n",
      "Model fingerprint: 0x2b967fcc\r\n",
      "Coefficient statistics:\r\n",
      "  Matrix range     [1e+00, 1e+00]\r\n",
      "  Objective range  [8e-03, 1e+01]\r\n",
      "  Bounds range     [0e+00, 0e+00]\r\n",
      "  RHS range        [5e+02, 5e+05]\r\n",
      "Presolve removed 900 rows and 13501 columns\r\n",
      "Presolve time: 0.01s\r\n",
      "Presolve: All rows and columns removed\r\n",
      "Iteration    Objective       Primal Inf.    Dual Inf.      Time\r\n",
      "       0    1.9657527e+05   0.000000e+00   0.000000e+00      0s\r\n",
      "\r\n",
      "Solved in 0 iterations and 0.01 seconds\r\n",
      "Optimal objective  1.965752693e+05\r\n",
      "\r\n",
      "User-callback calls 29, time in user-callback 0.00 sec\r\n"
     ]
    }
   ],
   "source": [
    "@objective(model, Min, sum(tranD-tranS) + s*penalty)\n",
    "JuMP.optimize!(model)"
   ]
  },
  {
   "cell_type": "code",
   "execution_count": 230,
   "id": "4bc4f58e",
   "metadata": {},
   "outputs": [],
   "source": [
    "qy_hat = JuMP.objective_value(model)\n",
    "sub_y = JuMP.value.(y)\n",
    "sub_s = JuMP.value.(s);"
   ]
  },
  {
   "cell_type": "code",
   "execution_count": 272,
   "id": "76bff3e6",
   "metadata": {},
   "outputs": [
    {
     "name": "stdout",
     "output_type": "stream",
     "text": [
      "Academic license - for non-commercial use only - expires 2023-11-27\r\n"
     ]
    },
    {
     "data": {
      "text/plain": [
       "4-element Vector{ConstraintRef{Model, MathOptInterface.ConstraintIndex{MathOptInterface.ScalarAffineFunction{Float64}, MathOptInterface.EqualTo{Float64}}, ScalarShape}}:\n",
       " y[1,1,1] + y[1,2,1] == 6200.0\n",
       " y[2,1,1] + y[2,2,1] == 1770.291589731998\n",
       " y[1,1,2] + y[1,2,2] == 0.0\n",
       " y[2,1,2] + y[2,2,2] == 0.0"
      ]
     },
     "execution_count": 272,
     "metadata": {},
     "output_type": "execute_result"
    }
   ],
   "source": [
    "model = Model(Gurobi.Optimizer)\n",
    "@variable(model, y[1:2, 1:2, 1:3] >= 0)\n",
    "@variable(model, s >= 0)\n",
    "cstr_op = [@constraint(model, sum(y[i,j,k] for j in 1:2) == x_hat[i,k]) for k in 1:2 for i in 1:2]\n",
    "\n",
    "# node output flow constraint\n",
    "# @constraint(model, cstr_pi1,y[1,1,1]+y[1,2,1] == 6200) \n",
    "# @constraint(model, cstr_pi2,y[2,1,1]+y[2,2,1] == 1770.29) \n",
    "# @constraint(model, cstr_pi3,y[1,1,2]+y[1,2,2] == 0) "
   ]
  },
  {
   "cell_type": "code",
   "execution_count": 274,
   "id": "7f034c43",
   "metadata": {},
   "outputs": [
    {
     "data": {
      "text/latex": [
       "$$ y_{2,1,1} \\geq 12.0 $$"
      ],
      "text/plain": [
       "y[2,1,1] >= 12.0"
      ]
     },
     "execution_count": 274,
     "metadata": {},
     "output_type": "execute_result"
    }
   ],
   "source": [
    "con_test = @constraint(model, y[2,1,1] >= 12)"
   ]
  },
  {
   "cell_type": "code",
   "execution_count": 275,
   "id": "7b05c5b2",
   "metadata": {},
   "outputs": [],
   "source": [
    "set_name(cstr_op[1], \"cstr_pi1\")\n",
    "set_name(cstr_op[2], \"cstr_pi2\")\n",
    "set_name(cstr_op[3], \"cstr_pi3\")"
   ]
  },
  {
   "cell_type": "code",
   "execution_count": 276,
   "id": "5d299457",
   "metadata": {},
   "outputs": [
    {
     "name": "stdout",
     "output_type": "stream",
     "text": [
      "Gurobi Optimizer version 9.1.2 build v9.1.2rc0 (win64)\r\n",
      "Thread count: 6 physical cores, 12 logical processors, using up to 12 threads\r\n",
      "Optimize a model with 5 rows, 13 columns and 9 nonzeros\r\n",
      "Model fingerprint: 0xf3bfd4b7\r\n",
      "Coefficient statistics:\r\n",
      "  Matrix range     [1e+00, 1e+00]\r\n",
      "  Objective range  [1e+00, 1e+00]\r\n",
      "  Bounds range     [0e+00, 0e+00]\r\n",
      "  RHS range        [1e+01, 6e+03]\r\n",
      "Presolve removed 5 rows and 13 columns\r\n",
      "Presolve time: 0.01s\r\n",
      "Presolve: All rows and columns removed\r\n",
      "Iteration    Objective       Primal Inf.    Dual Inf.      Time\r\n",
      "       0    7.9702916e+03   0.000000e+00   0.000000e+00      0s\r\n",
      "\r\n",
      "Solved in 0 iterations and 0.01 seconds\r\n",
      "Optimal objective  7.970291590e+03\r\n",
      "\r\n",
      "User-callback calls 25, time in user-callback 0.00 sec\r\n"
     ]
    }
   ],
   "source": [
    "@objective(model, Max, sum(y[1,1,1]+y[2,1,1]))\n",
    "JuMP.optimize!(model)"
   ]
  },
  {
   "cell_type": "code",
   "execution_count": 283,
   "id": "dd878378",
   "metadata": {},
   "outputs": [],
   "source": [
    "test = []\n",
    "for con in cstr_op\n",
    "    push!(test, getdual(con))\n",
    "end"
   ]
  },
  {
   "cell_type": "code",
   "execution_count": 284,
   "id": "f487f98a",
   "metadata": {},
   "outputs": [
    {
     "data": {
      "text/plain": [
       "4-element Vector{Any}:\n",
       " -1.0\n",
       " -1.0\n",
       "  0.0\n",
       "  0.0"
      ]
     },
     "execution_count": 284,
     "metadata": {},
     "output_type": "execute_result"
    }
   ],
   "source": [
    "test"
   ]
  },
  {
   "cell_type": "code",
   "execution_count": 267,
   "id": "1c9b3b13",
   "metadata": {},
   "outputs": [
    {
     "data": {
      "text/plain": [
       "ConstraintRef{Model, MathOptInterface.ConstraintIndex{MathOptInterface.ScalarAffineFunction{Float64}, MathOptInterface.EqualTo{Float64}}, ScalarShape}"
      ]
     },
     "execution_count": 267,
     "metadata": {},
     "output_type": "execute_result"
    }
   ],
   "source": [
    "typeof(cstr_pi1)"
   ]
  },
  {
   "cell_type": "code",
   "execution_count": 257,
   "id": "c756b157",
   "metadata": {},
   "outputs": [],
   "source": [
    "for i in 3:4\n",
    "    set_name(cstr_op[i], \"cstr_pi$(i)\")\n",
    "end"
   ]
  },
  {
   "cell_type": "code",
   "execution_count": 259,
   "id": "e2d9ec20",
   "metadata": {},
   "outputs": [
    {
     "data": {
      "text/latex": [
       "cstr_pi3 : $ y_{1,1,2} + y_{1,2,2} = 0.0 $"
      ],
      "text/plain": [
       "cstr_pi3 : y[1,1,2] + y[1,2,2] == 0.0"
      ]
     },
     "execution_count": 259,
     "metadata": {},
     "output_type": "execute_result"
    }
   ],
   "source": [
    "cstr_op[3]"
   ]
  },
  {
   "cell_type": "code",
   "execution_count": 255,
   "id": "4ffb58ec",
   "metadata": {},
   "outputs": [
    {
     "name": "stdout",
     "output_type": "stream",
     "text": [
      "Gurobi Optimizer version 9.1.2 build v9.1.2rc0 (win64)\r\n",
      "Thread count: 6 physical cores, 12 logical processors, using up to 12 threads\r\n",
      "Optimize a model with 4 rows, 13 columns and 8 nonzeros\r\n",
      "Model fingerprint: 0x9658fdf8\r\n",
      "Coefficient statistics:\r\n",
      "  Matrix range     [1e+00, 1e+00]\r\n",
      "  Objective range  [1e+00, 1e+00]\r\n",
      "  Bounds range     [0e+00, 0e+00]\r\n",
      "  RHS range        [2e+03, 6e+03]\r\n",
      "Presolve removed 4 rows and 13 columns\r\n",
      "Presolve time: 0.00s\r\n",
      "Presolve: All rows and columns removed\r\n",
      "Iteration    Objective       Primal Inf.    Dual Inf.      Time\r\n",
      "       0    7.9702916e+03   0.000000e+00   0.000000e+00      0s\r\n",
      "\r\n",
      "Solved in 0 iterations and 0.00 seconds\r\n",
      "Optimal objective  7.970291590e+03\r\n",
      "\r\n",
      "User-callback calls 25, time in user-callback 0.00 sec\r\n"
     ]
    }
   ],
   "source": [
    "@objective(model, Max, sum(y[1,1,1]+y[2,1,1]))\n",
    "JuMP.optimize!(model)"
   ]
  },
  {
   "cell_type": "code",
   "execution_count": 11,
   "id": "98c27400",
   "metadata": {},
   "outputs": [],
   "source": [
    "#variables \n",
    "ncty = 5\n",
    "nproc = 4\n",
    "@variable(model, x[1:ncty, 1:nproc])             \n",
    "@variable(model, y[1:ncty, 1:ncty, 1:nproc] >= 0); "
   ]
  },
  {
   "cell_type": "code",
   "execution_count": 12,
   "id": "e5e45076",
   "metadata": {},
   "outputs": [
    {
     "data": {
      "text/latex": [
       "$$ y_{1,3,4} + y_{2,3,4} + y_{3,3,4} + y_{4,3,4} + y_{5,3,4} $$"
      ],
      "text/plain": [
       "y[1,3,4] + y[2,3,4] + y[3,3,4] + y[4,3,4] + y[5,3,4]"
      ]
     },
     "execution_count": 12,
     "metadata": {},
     "output_type": "execute_result"
    }
   ],
   "source": [
    "sum(y[i,3,4] for i in 1:ncty)"
   ]
  },
  {
   "cell_type": "code",
   "execution_count": 25,
   "id": "d7ffa33d",
   "metadata": {},
   "outputs": [
    {
     "data": {
      "text/plain": [
       "4"
      ]
     },
     "execution_count": 25,
     "metadata": {},
     "output_type": "execute_result"
    }
   ],
   "source": [
    "j = 3\n",
    "k = 4\n",
    "# sum(y[i,3,4] for i in 1:ncty) == x[3,15] * scaler[k]"
   ]
  },
  {
   "cell_type": "code",
   "execution_count": 28,
   "id": "5df41070",
   "metadata": {},
   "outputs": [
    {
     "data": {
      "text/latex": [
       "$$ y_{1,3,4} + y_{2,3,4} + y_{3,3,4} + y_{4,3,4} + y_{5,3,4} $$"
      ],
      "text/plain": [
       "y[1,3,4] + y[2,3,4] + y[3,3,4] + y[4,3,4] + y[5,3,4]"
      ]
     },
     "execution_count": 28,
     "metadata": {},
     "output_type": "execute_result"
    }
   ],
   "source": [
    "sum(y[i,3,4] for i in 1:ncty) "
   ]
  },
  {
   "cell_type": "code",
   "execution_count": 29,
   "id": "3994f012",
   "metadata": {},
   "outputs": [
    {
     "data": {
      "text/latex": [
       "$$ y_{3,1,4} + y_{3,2,4} + y_{3,3,4} + y_{3,4,4} + y_{3,5,4} $$"
      ],
      "text/plain": [
       "y[3,1,4] + y[3,2,4] + y[3,3,4] + y[3,4,4] + y[3,5,4]"
      ]
     },
     "execution_count": 29,
     "metadata": {},
     "output_type": "execute_result"
    }
   ],
   "source": [
    "sum(y[3,j,4] for j in 1:ncty)"
   ]
  },
  {
   "cell_type": "code",
   "execution_count": 27,
   "id": "48148a36",
   "metadata": {},
   "outputs": [
    {
     "data": {
      "text/latex": [
       "$$ x_{3,4} $$"
      ],
      "text/plain": [
       "x[3,4]"
      ]
     },
     "execution_count": 27,
     "metadata": {},
     "output_type": "execute_result"
    }
   ],
   "source": [
    "x[i,k]"
   ]
  },
  {
   "cell_type": "code",
   "execution_count": 26,
   "id": "fc346dfc",
   "metadata": {},
   "outputs": [
    {
     "data": {
      "text/latex": [
       "$$ x_{1,4} + x_{2,4} + x_{3,4} + x_{4,4} + x_{5,4} $$"
      ],
      "text/plain": [
       "x[1,4] + x[2,4] + x[3,4] + x[4,4] + x[5,4]"
      ]
     },
     "execution_count": 26,
     "metadata": {},
     "output_type": "execute_result"
    }
   ],
   "source": [
    "sum(x[i,4] for i in 1:ncty)"
   ]
  },
  {
   "cell_type": "code",
   "execution_count": 19,
   "id": "85ce5bfd",
   "metadata": {},
   "outputs": [
    {
     "name": "stdout",
     "output_type": "stream",
     "text": [
      "y[1,1,1] + y[1,1,2] + y[1,1,3] + y[2,1,1] + y[2,1,2] + y[2,1,3] + y[3,1,1] + y[3,1,2] + y[3,1,3] + y[4,1,1] + y[4,1,2] + y[4,1,3] + y[5,1,1] + y[5,1,2] + y[5,1,3]\n",
      "y[1,2,1] + y[1,2,2] + y[1,2,3] + y[2,2,1] + y[2,2,2] + y[2,2,3] + y[3,2,1] + y[3,2,2] + y[3,2,3] + y[4,2,1] + y[4,2,2] + y[4,2,3] + y[5,2,1] + y[5,2,2] + y[5,2,3]\n",
      "y[1,3,1] + y[1,3,2] + y[1,3,3] + y[2,3,1] + y[2,3,2] + y[2,3,3] + y[3,3,1] + y[3,3,2] + y[3,3,3] + y[4,3,1] + y[4,3,2] + y[4,3,3] + y[5,3,1] + y[5,3,2] + y[5,3,3]\n",
      "y[1,4,1] + y[1,4,2] + y[1,4,3] + y[2,4,1] + y[2,4,2] + y[2,4,3] + y[3,4,1] + y[3,4,2] + y[3,4,3] + y[4,4,1] + y[4,4,2] + y[4,4,3] + y[5,4,1] + y[5,4,2] + y[5,4,3]\n",
      "y[1,5,1] + y[1,5,2] + y[1,5,3] + y[2,5,1] + y[2,5,2] + y[2,5,3] + y[3,5,1] + y[3,5,2] + y[3,5,3] + y[4,5,1] + y[4,5,2] + y[4,5,3] + y[5,5,1] + y[5,5,2] + y[5,5,3]\n"
     ]
    }
   ],
   "source": [
    "tranD = Vector{AffExpr}(undef, ncty)\n",
    "tranS= Vector{AffExpr}(undef, ncty)\n",
    "for j in 1:ncty\n",
    "    arc_emi = 0\n",
    "    for i in 1:ncty\n",
    "        amount = sum(y[i,j,k] for k in 1:3)\n",
    "        arc_emi += amount\n",
    "    end\n",
    "    println(arc_emi)\n",
    "    tranD[j] = arc_emi\n",
    "    tranS[j] = arc_emi * (sink_c[j]/emission_c[j] + es_ratio)\n",
    "end"
   ]
  },
  {
   "cell_type": "code",
   "execution_count": 20,
   "id": "c8d03420",
   "metadata": {},
   "outputs": [
    {
     "data": {
      "text/plain": [
       "5-element Vector{AffExpr}:\n",
       " y[1,1,1] + y[1,1,2] + y[1,1,3] + y[2,1,1] + y[2,1,2] + y[2,1,3] + y[3,1,1] + y[3,1,2] + y[3,1,3] + y[4,1,1] + y[4,1,2] + y[4,1,3] + y[5,1,1] + y[5,1,2] + y[5,1,3]\n",
       " y[1,2,1] + y[1,2,2] + y[1,2,3] + y[2,2,1] + y[2,2,2] + y[2,2,3] + y[3,2,1] + y[3,2,2] + y[3,2,3] + y[4,2,1] + y[4,2,2] + y[4,2,3] + y[5,2,1] + y[5,2,2] + y[5,2,3]\n",
       " y[1,3,1] + y[1,3,2] + y[1,3,3] + y[2,3,1] + y[2,3,2] + y[2,3,3] + y[3,3,1] + y[3,3,2] + y[3,3,3] + y[4,3,1] + y[4,3,2] + y[4,3,3] + y[5,3,1] + y[5,3,2] + y[5,3,3]\n",
       " y[1,4,1] + y[1,4,2] + y[1,4,3] + y[2,4,1] + y[2,4,2] + y[2,4,3] + y[3,4,1] + y[3,4,2] + y[3,4,3] + y[4,4,1] + y[4,4,2] + y[4,4,3] + y[5,4,1] + y[5,4,2] + y[5,4,3]\n",
       " y[1,5,1] + y[1,5,2] + y[1,5,3] + y[2,5,1] + y[2,5,2] + y[2,5,3] + y[3,5,1] + y[3,5,2] + y[3,5,3] + y[4,5,1] + y[4,5,2] + y[4,5,3] + y[5,5,1] + y[5,5,2] + y[5,5,3]"
      ]
     },
     "execution_count": 20,
     "metadata": {},
     "output_type": "execute_result"
    }
   ],
   "source": [
    "tranD"
   ]
  },
  {
   "cell_type": "code",
   "execution_count": 21,
   "id": "f169edd3",
   "metadata": {},
   "outputs": [
    {
     "data": {
      "text/latex": [
       "$$ y_{1,3,4} + y_{2,3,4} + y_{3,3,4} + y_{4,3,4} + y_{5,3,4} $$"
      ],
      "text/plain": [
       "y[1,3,4] + y[2,3,4] + y[3,3,4] + y[4,3,4] + y[5,3,4]"
      ]
     },
     "execution_count": 21,
     "metadata": {},
     "output_type": "execute_result"
    }
   ],
   "source": [
    "sum(y[i,3,4] for i in 1:ncty)"
   ]
  },
  {
   "cell_type": "code",
   "execution_count": 22,
   "id": "d067c53c",
   "metadata": {},
   "outputs": [
    {
     "data": {
      "text/plain": [
       "5-element Vector{AffExpr}:\n",
       " y[1,1,1] + y[1,1,2] + y[1,1,3] + y[2,1,1] + y[2,1,2] + y[2,1,3] + y[3,1,1] + y[3,1,2] + y[3,1,3] + y[4,1,1] + y[4,1,2] + y[4,1,3] + y[5,1,1] + y[5,1,2] + y[5,1,3]\n",
       " y[1,2,1] + y[1,2,2] + y[1,2,3] + y[2,2,1] + y[2,2,2] + y[2,2,3] + y[3,2,1] + y[3,2,2] + y[3,2,3] + y[4,2,1] + y[4,2,2] + y[4,2,3] + y[5,2,1] + y[5,2,2] + y[5,2,3]\n",
       " y[1,3,1] + y[1,3,2] + y[1,3,3] + y[2,3,1] + y[2,3,2] + y[2,3,3] + y[3,3,1] + y[3,3,2] + y[3,3,3] + y[4,3,1] + y[4,3,2] + y[4,3,3] + y[5,3,1] + y[5,3,2] + y[5,3,3] + y[1,3,4] + y[2,3,4] + y[3,3,4] + y[4,3,4] + y[5,3,4]\n",
       " y[1,4,1] + y[1,4,2] + y[1,4,3] + y[2,4,1] + y[2,4,2] + y[2,4,3] + y[3,4,1] + y[3,4,2] + y[3,4,3] + y[4,4,1] + y[4,4,2] + y[4,4,3] + y[5,4,1] + y[5,4,2] + y[5,4,3]\n",
       " y[1,5,1] + y[1,5,2] + y[1,5,3] + y[2,5,1] + y[2,5,2] + y[2,5,3] + y[3,5,1] + y[3,5,2] + y[3,5,3] + y[4,5,1] + y[4,5,2] + y[4,5,3] + y[5,5,1] + y[5,5,2] + y[5,5,3]"
      ]
     },
     "execution_count": 22,
     "metadata": {},
     "output_type": "execute_result"
    }
   ],
   "source": [
    "tranD[3] += sum(y[i,3,4] for i in 1:ncty)\n",
    "tranD"
   ]
  },
  {
   "cell_type": "code",
   "execution_count": 8,
   "id": "cd63e724",
   "metadata": {},
   "outputs": [
    {
     "name": "stdout",
     "output_type": "stream",
     "text": [
      "1\n",
      "2\n",
      "3\n",
      "4\n",
      "5\n",
      "6\n",
      "7\n",
      "8\n",
      "9\n",
      "10\n",
      "11\n",
      "12\n",
      "13\n",
      "14\n"
     ]
    }
   ],
   "source": [
    "for k in 1:nproc-1\n",
    "    println(k)\n",
    "end"
   ]
  },
  {
   "cell_type": "code",
   "execution_count": 32,
   "id": "f66cee80",
   "metadata": {},
   "outputs": [],
   "source": [
    "tranD = Vector{AffExpr}(undef, ncty)\n",
    "tranS= Vector{AffExpr}(undef, ncty)\n",
    "for j in 1:ncty\n",
    "    arc_emi = 0\n",
    "    for i in 1:ncty\n",
    "        amount = sum(y[i,j,k] for k in 1:nproc-1)\n",
    "        arc_emi += (amount * distance[!, 2:end][i,j] * EF_trans)\n",
    "    end\n",
    "    tranD[j] = arc_emi\n",
    "    tranS[j] = arc_emi * (sink_c[j]/emission_c[j] + es_ratio)\n",
    "end"
   ]
  },
  {
   "cell_type": "code",
   "execution_count": 37,
   "id": "e6f1d174",
   "metadata": {},
   "outputs": [
    {
     "data": {
      "text/latex": [
       "$$ -0.2749938833822254 y_{2,1,1} - 0.2749938833822254 y_{2,1,2} - 0.2987886030573461 y_{3,1,1} - 0.2987886030573461 y_{3,1,2} - 0.05325282213384844 y_{4,1,1} - 0.05325282213384844 y_{4,1,2} - 0.06329501141503446 y_{5,1,1} - 0.06329501141503446 y_{5,1,2} - 0.06271886404917937 y_{1,2,1} - 0.06271886404917937 y_{1,2,2} - 0.052290988395203186 y_{3,2,1} - 0.052290988395203186 y_{3,2,2} - 0.07417425640623865 y_{4,2,1} - 0.07417425640623865 y_{4,2,2} - 0.07690588138557342 y_{5,2,1} - 0.07690588138557342 y_{5,2,2} - 2.110582919322233 y_{1,3,1} - 2.110582919322233 y_{1,3,2} - 1.6195340836983962 y_{2,3,1} - 1.6195340836983962 y_{2,3,2} - 2.013316311838815 y_{4,3,1} - 2.013316311838815 y_{4,3,2} - 1.8230831245458838 y_{5,3,1} - 1.8230831245458838 y_{5,3,2} - 0.37650600460474426 y_{1,4,1} - 0.37650600460474426 y_{1,4,2} - 2.299361895348044 y_{2,4,1} - 2.299361895348044 y_{2,4,2} - 2.015129215633112 y_{3,4,1} - 2.015129215633112 y_{3,4,2} - 0.19460203067680695 y_{5,4,1} - 0.19460203067680695 y_{5,4,2} - 2.210115357178231 y_{1,5,1} - 2.210115357178231 y_{1,5,2} - 11.774158116974029 y_{2,5,1} - 11.774158116974029 y_{2,5,2} - 9.011841390566396 y_{3,5,1} - 9.011841390566396 y_{3,5,2} - 0.9610888723900507 y_{4,5,1} - 0.9610888723900507 y_{4,5,2} $$"
      ],
      "text/plain": [
       "-0.2749938833822254 y[2,1,1] - 0.2749938833822254 y[2,1,2] - 0.2987886030573461 y[3,1,1] - 0.2987886030573461 y[3,1,2] - 0.05325282213384844 y[4,1,1] - 0.05325282213384844 y[4,1,2] - 0.06329501141503446 y[5,1,1] - 0.06329501141503446 y[5,1,2] - 0.06271886404917937 y[1,2,1] - 0.06271886404917937 y[1,2,2] - 0.052290988395203186 y[3,2,1] - 0.052290988395203186 y[3,2,2] - 0.07417425640623865 y[4,2,1] - 0.07417425640623865 y[4,2,2] - 0.07690588138557342 y[5,2,1] - 0.07690588138557342 y[5,2,2] - 2.110582919322233 y[1,3,1] - 2.110582919322233 y[1,3,2] - 1.6195340836983962 y[2,3,1] - 1.6195340836983962 y[2,3,2] - 2.013316311838815 y[4,3,1] - 2.013316311838815 y[4,3,2] - 1.8230831245458838 y[5,3,1] - 1.8230831245458838 y[5,3,2] - 0.37650600460474426 y[1,4,1] - 0.37650600460474426 y[1,4,2] - 2.299361895348044 y[2,4,1] - 2.299361895348044 y[2,4,2] - 2.015129215633112 y[3,4,1] - 2.015129215633112 y[3,4,2] - 0.19460203067680695 y[5,4,1] - 0.19460203067680695 y[5,4,2] - 2.210115357178231 y[1,5,1] - 2.210115357178231 y[1,5,2] - 11.774158116974029 y[2,5,1] - 11.774158116974029 y[2,5,2] - 9.011841390566396 y[3,5,1] - 9.011841390566396 y[3,5,2] - 0.9610888723900507 y[4,5,1] - 0.9610888723900507 y[4,5,2]"
      ]
     },
     "execution_count": 37,
     "metadata": {},
     "output_type": "execute_result"
    }
   ],
   "source": [
    "sum(tranD - tranS)"
   ]
  },
  {
   "cell_type": "code",
   "execution_count": 39,
   "id": "a34a09b2",
   "metadata": {},
   "outputs": [
    {
     "data": {
      "text/latex": [
       "$$ 1.276832997975 y_{2,1,1} + 1.276832997975 y_{2,1,2} + 1.38731503083 y_{3,1,1} + 1.38731503083 y_{3,1,2} + 0.247259901564 y_{4,1,1} + 0.247259901564 y_{4,1,2} + 0.29388711555299996 y_{5,1,1} + 0.29388711555299996 y_{5,1,2} $$"
      ],
      "text/plain": [
       "1.276832997975 y[2,1,1] + 1.276832997975 y[2,1,2] + 1.38731503083 y[3,1,1] + 1.38731503083 y[3,1,2] + 0.247259901564 y[4,1,1] + 0.247259901564 y[4,1,2] + 0.29388711555299996 y[5,1,1] + 0.29388711555299996 y[5,1,2]"
      ]
     },
     "execution_count": 39,
     "metadata": {},
     "output_type": "execute_result"
    }
   ],
   "source": [
    "tranD[1]"
   ]
  },
  {
   "cell_type": "code",
   "execution_count": 40,
   "id": "d1fb9264",
   "metadata": {},
   "outputs": [
    {
     "data": {
      "text/latex": [
       "$$ y_{1,1,1} + y_{1,1,2} $$"
      ],
      "text/plain": [
       "y[1,1,1] + y[1,1,2]"
      ]
     },
     "execution_count": 40,
     "metadata": {},
     "output_type": "execute_result"
    }
   ],
   "source": [
    "sum(y[1,1,k] for k in 1:nproc)"
   ]
  },
  {
   "cell_type": "code",
   "execution_count": 13,
   "id": "31c35803",
   "metadata": {},
   "outputs": [],
   "source": [
    "# [\"c_$(i)_$(j)\" for i in 1:3 for j in 5:7]\n",
    "\n",
    "#     for i in 1:nproc*ncty\n",
    "#         set_name(cstr_cth[i], \"cathode[$(i)]\")\n",
    "#     end\n",
    "\n",
    "#     for k in cell\n",
    "#         for j in 1:ncty\n",
    "#             @constraint(model, \"lca_$(j)_$(k)\", sum(y[i,j,k] for i in 1:ncty) == x[j,11] * scaler[k])\n",
    "#         end\n",
    "#     end\n",
    "\n",
    "#     for k in noncell\n",
    "#         for j in 1:ncty\n",
    "#             @constraint(model, \"lca_$(j)_$(k)\", sum(y[i,j,k] for i in 1:ncty) == x[j,14] * scaler[k])\n",
    "#         end\n",
    "#     end\n",
    "\n",
    "#     for k in battery\n",
    "#         for j in 1:ncty\n",
    "#             @constraint(model, \"lca_$(j)_$(k)\", sum(y[i,j,k] for i in 1:ncty) == x[j,15] * scaler[k])\n",
    "#         end\n",
    "#     end\n",
    "\n",
    "# for k in vcat(cathode, cell, noncell, battery)\n",
    "#     for j in 1:ncty\n",
    "#         push!(pi, getdual(\"cstr_demand\"))\n",
    "#     end\n",
    "# end"
   ]
  },
  {
   "cell_type": "code",
   "execution_count": 23,
   "id": "9174a54a",
   "metadata": {},
   "outputs": [],
   "source": [
    "# c1_cstr = [@constraint(model, \n",
    "#         sum(y[i,j,k] for j in 1:ncty) == x[i,k]) \n",
    "#     for k in 1:nproc for i in 1:ncty];\n",
    "\n",
    "\n",
    "# for i in 1:nproc*ncty\n",
    "#         set_name(c1_cstr[i], \"constraint[$(i)]\")\n",
    "# end"
   ]
  },
  {
   "cell_type": "code",
   "execution_count": null,
   "id": "d2bcf840",
   "metadata": {},
   "outputs": [],
   "source": [
    "#     @constraint(model, cstr_alp, sum(y[i,j,k] for i in 1:ncty) + s == d)\n",
    "#     ncstr1 = size(cstr1)[1]\n",
    "#     for i in 1:ncstr1\n",
    "#         set_name(cstr1[i], \"cstr_pi[$(i)]\")\n",
    "#     end"
   ]
  }
 ],
 "metadata": {
  "kernelspec": {
   "display_name": "Julia 1.8.3",
   "language": "julia",
   "name": "julia-1.8"
  },
  "language_info": {
   "file_extension": ".jl",
   "mimetype": "application/julia",
   "name": "julia",
   "version": "1.8.3"
  }
 },
 "nbformat": 4,
 "nbformat_minor": 5
}
