{
 "cells": [
  {
   "cell_type": "code",
   "execution_count": 1,
   "id": "e7955e47",
   "metadata": {},
   "outputs": [],
   "source": [
    "using JuMP, Gurobi\n",
    "using CSV, LinearAlgebra, DataFrames\n",
    "using Plots"
   ]
  },
  {
   "cell_type": "markdown",
   "id": "de79e6e0",
   "metadata": {},
   "source": [
    "### Data"
   ]
  },
  {
   "cell_type": "code",
   "execution_count": 2,
   "id": "fc2b7225",
   "metadata": {},
   "outputs": [],
   "source": [
    "#load social and ecological data and orgnize \n",
    "FL = repeat([Float64], inner=15)\n",
    "dtype = append!([String], FL);\n",
    "\n",
    "regional_EF = CSV.File(\"C:/Users/bourg/.julia/environments/batterySC/Li-battery-SC/data/social/new_EF_SC1.csv\",header=1,delim=\",\", types=dtype) |> DataFrame    \n",
    "capacity = CSV.File(\"C:/Users/bourg/.julia/environments/batterySC/Li-battery-SC/data/social/capacity2.csv\",header=1,delim=\",\", types=dtype) |> DataFrame    \n",
    "distance = CSV.File(\"C:/Users/bourg/.julia/environments/batterySC/Li-battery-SC/data/social/distance.csv\",header=1,delim=\",\") |> DataFrame \n",
    "LCA_model = CSV.File(\"C:/Users/bourg/.julia/environments/batterySC/Li-battery-SC/data/social/LCA_model2.csv\",header=1,delim=\",\") |> DataFrame \n",
    "D_Dsoc = CSV.File(\"C:/Users/bourg/.julia/environments/batterySC/Li-battery-SC/data/social/D_Dsoc1.csv\",header=1,delim=\",\") |> DataFrame\n",
    "GDP = CSV.File(\"C:/Users/bourg/.julia/environments/batterySC/Li-battery-SC/data/social/GDP.csv\",header=1,delim=\",\") |> DataFrame;\n",
    "emi_sink = CSV.File(\"C:/Users/bourg/.julia/environments/batterySC/Li-battery-SC/data/SC_regional/emission_sink1.csv\",header=1,delim=\",\") |> DataFrame;"
   ]
  },
  {
   "cell_type": "code",
   "execution_count": 3,
   "id": "18ab4219",
   "metadata": {},
   "outputs": [],
   "source": [
    "cell_demand = 0.001*164.98*(1.369*1e6)*2           # annual demand of Li battery for tesla (1.369M EV/yr, ~2 NMC111 pack/EV, 164.98 kg/pack (35kwh/pack), 80~100 kWh per EV)\n",
    "\n",
    "global_sink = 1.099e10                        # global pub (ocean) CO2 sequestration (ton/yr)\n",
    "global_sink_tot = 2.236e10                  # global total (ocean+land) CO2 sequestration (ton/yr)\n",
    "global_emi = 3.53e10                          # global CO2 emission (ton/yr)\n",
    "global_gdp = 96882e9                          # 2021 global GDP ($/yr)\n",
    "es_ratio = global_sink/global_emi\n",
    "es_ratio_tot = global_sink_tot/global_emi\n",
    "emission_c = emi_sink[!, \"emission\"]          # national CO2 emission (ton/yr)\n",
    "sink_c = emi_sink[!, \"sink ton/yr\"]           # national CO2 sink (ton/yr)\n",
    "\n",
    "D = D_Dsoc[!, \"D\"]          # national CO2 emission (ton/yr)\n",
    "Dsoc = D_Dsoc[!, \"Dsoc ton/yr\"]           # national CO2 sink (ton/yr)\n",
    "\n",
    "EF_trans = 1.005/10000                        # ton CO2/km*ton (The average freight truck in the U.S. emits 161.8 grams of CO2 per ton-mile)\n",
    "process = LCA_model[!,\"process\"]\n",
    "countries = capacity[!,\"country\"]\n",
    "ncty = size(countries,1)                          # No. of countries\n",
    "nproc = size(process,1);                          # No. of processes \n",
    "\n",
    "mkt_loc = findfirst(isequal(\"United States\"), countries)\n",
    "mkt_proc = findfirst(isequal(\"battery\"), process)\n",
    "\n",
    "# seperate model\n",
    "cathode = 1:4\n",
    "cell = 5:10\n",
    "noncell = [12,13]\n",
    "battery = [11,14]\n",
    "scaler = LCA_model[!,\"scaler\"]\n",
    "price = LCA_model[!,\"price (usd/ton product)\"]\n",
    "vGDP = GDP[!,\"GDP usd\"];"
   ]
  },
  {
   "cell_type": "code",
   "execution_count": 4,
   "id": "ba6b1252",
   "metadata": {},
   "outputs": [],
   "source": [
    "up_cath = scaler[1:4] * scaler[5] * scaler[11]\n",
    "up_cell = scaler[5:10] * scaler[11]\n",
    "cell_sef = scaler[11]\n",
    "up_noncell = scaler[12:13] * scaler[14]\n",
    "noncell_sef = scaler[14]\n",
    "battery_sef = scaler[15];"
   ]
  },
  {
   "cell_type": "code",
   "execution_count": 5,
   "id": "900a2ecc",
   "metadata": {},
   "outputs": [],
   "source": [
    "input_amount = []\n",
    "input_amount = vcat(up_cath, up_cell, cell_sef, up_noncell, noncell_sef, battery_sef) .* cell_demand\n",
    "input_amount\n",
    "\n",
    "MktV = price .* input_amount ;  # ton"
   ]
  },
  {
   "cell_type": "code",
   "execution_count": 6,
   "id": "44f79302",
   "metadata": {},
   "outputs": [
    {
     "data": {
      "text/plain": [
       "15-element Vector{Float64}:\n",
       "  49670.291589732\n",
       "  69512.470736544\n",
       "  67696.846500888\n",
       "  69382.78329114\n",
       " 129687.44540400001\n",
       "  72376.074329\n",
       "   5239.896784\n",
       "   1309.974196\n",
       "  31111.887154999997\n",
       "  60258.81301599999\n",
       " 327493.549\n",
       "   2258.5762\n",
       "   1806.86096\n",
       " 451715.24\n",
       " 451715.24"
      ]
     },
     "execution_count": 6,
     "metadata": {},
     "output_type": "execute_result"
    }
   ],
   "source": [
    "input_amount"
   ]
  },
  {
   "cell_type": "markdown",
   "id": "8ac6417b",
   "metadata": {},
   "source": [
    "----"
   ]
  },
  {
   "cell_type": "code",
   "execution_count": 140,
   "id": "343f17c9",
   "metadata": {},
   "outputs": [
    {
     "name": "stdout",
     "output_type": "stream",
     "text": [
      "Academic license - for non-commercial use only - expires 2023-11-27\r\n"
     ]
    }
   ],
   "source": [
    "model = Model(Gurobi.Optimizer);"
   ]
  },
  {
   "cell_type": "code",
   "execution_count": 141,
   "id": "a899e407",
   "metadata": {},
   "outputs": [],
   "source": [
    "#variables \n",
    "@variable(model, x[1:ncty, 1:nproc] >= 0)            # x[i,k] production amount of product k at location i\n",
    "@variable(model, y[1:ncty, 1:ncty, 1:nproc] >= 0)   # y[i,j,k] ship product k from i to j \n",
    "@variable(model, delta[1:ncty], Bin);"
   ]
  },
  {
   "cell_type": "code",
   "execution_count": 142,
   "id": "0cafbfdd",
   "metadata": {},
   "outputs": [],
   "source": [
    "# capacity constraint: x[i,k] <= capacity[i][k]\n",
    "for k in 1:nproc\n",
    "    for i in 1:ncty\n",
    "        @constraint(model, x[i,k] <= capacity[!, 2:end][i,k])\n",
    "    end\n",
    "end\n",
    "\n",
    "\n",
    "# node output flow constraint\n",
    "for k in 1:nproc\n",
    "    for i in 1:ncty\n",
    "        @constraint(model, sum(y[i,j,k] for j in 1:ncty) == x[i,k])\n",
    "    end\n",
    "end\n",
    "\n",
    "\n",
    "# node output flow to market y[i,38, 15]\n",
    "for i in 1:ncty\n",
    "    for j in [e for e in 1:ncty if e != mkt_loc]\n",
    "        @constraint(model, y[i,j,mkt_proc] == 0)\n",
    "    end\n",
    "end\n",
    "\n",
    "\n",
    "# LCA: As=f\n",
    "for k in 1:nproc-1\n",
    "    @constraint(model, sum(x[i,k] for i in 1:ncty) == input_amount[k])\n",
    "end\n",
    "\n",
    "# final demand constraint\n",
    "@constraint(model, sum(y[i,mkt_loc,mkt_proc] for i in 1:ncty) == cell_demand)\n",
    "\n",
    "\n",
    "# cathode LCA constraints (index=5)\n",
    "for k in cathode\n",
    "    for j in 1:ncty\n",
    "        @constraint(model, sum(y[i,j,k] for i in 1:ncty) == x[j,5] * scaler[k])\n",
    "    end\n",
    "end\n",
    "\n",
    "\n",
    "# cell LCA constraints (index=11)\n",
    "for k in cell\n",
    "    for j in 1:ncty\n",
    "        @constraint(model, sum(y[i,j,k] for i in 1:ncty) == x[j,11] * scaler[k])\n",
    "    end\n",
    "end\n",
    "\n",
    "\n",
    "# non cell LCA constraints (index=14)\n",
    "for k in noncell\n",
    "    for j in 1:ncty\n",
    "        @constraint(model, sum(y[i,j,k] for i in 1:ncty) == x[j,14] * scaler[k])\n",
    "    end\n",
    "end\n",
    "\n",
    "\n",
    "# battery LCA constraints (index=15)\n",
    "for k in battery\n",
    "    for j in 1:ncty\n",
    "        @constraint(model, sum(y[i,j,k] for i in 1:ncty) == x[j,15] * scaler[k])\n",
    "    end\n",
    "end"
   ]
  },
  {
   "cell_type": "code",
   "execution_count": 143,
   "id": "aa513db6",
   "metadata": {},
   "outputs": [],
   "source": [
    "proD = (x .* Matrix(regional_EF[:,2:end])) * ones(nproc,1) \n",
    "proM = x * price\n",
    "\n",
    "pro_sink = zeros(ncty, nproc)\n",
    "for k in 1:nproc\n",
    "    for i in 1:ncty\n",
    "        pro_sink[i,k] = (price[k]/vGDP[i]) * sink_c[i] + (price[k]/global_gdp) * global_sink\n",
    "    end\n",
    "end\n",
    "proS = (x.*pro_sink)*ones(nproc,1) \n",
    "\n",
    "\n",
    "############################\n",
    "tranD = Vector{AffExpr}(undef, ncty)\n",
    "for j in 1:ncty\n",
    "    arc_emi = 0\n",
    "    for i in 1:ncty\n",
    "        amount = sum(y[i,j,k] for k in 1:nproc)\n",
    "        arc_emi += (amount * distance[!, 2:end][i,j] * EF_trans)\n",
    "    end\n",
    "    tranD[j] = arc_emi\n",
    "end\n",
    "\n",
    "\n",
    "###################################\n",
    "Allo_soc = proM ./ vGDP .* Dsoc\n",
    "\n",
    "\n",
    "#############\n",
    "vec_S = proS\n",
    "vec_D = proD + tranD\n",
    "vec_Dsoc = Allo_soc;"
   ]
  },
  {
   "cell_type": "code",
   "execution_count": 144,
   "id": "5460442e",
   "metadata": {},
   "outputs": [],
   "source": [
    "threshold = 0.1\n",
    "UB = vec_S - threshold * (vec_S-vec_Dsoc)\n",
    "LB = vec_Dsoc + threshold * (vec_S-vec_Dsoc);"
   ]
  },
  {
   "cell_type": "code",
   "execution_count": 145,
   "id": "a1fd2716",
   "metadata": {},
   "outputs": [],
   "source": [
    "# M = 1e12\n",
    "# for i in 1:ncty\n",
    "#     @constraint(model, vec_D[i]-LB[i] >= (delta[i] - 1) * M)\n",
    "#     @constraint(model, vec_D[i]-LB[i] <= delta[i] * M)\n",
    "#     @constraint(model, UB[i]-vec_D[i] >= (delta[i] - 1) * M)\n",
    "#     @constraint(model, UB[i]-vec_D[i] <= delta[i] * M)\n",
    "# end\n",
    "\n",
    "\n",
    "M = 1e10\n",
    "slack = 0.0001\n",
    "for i in 1:ncty\n",
    "#     @constraint(model, vec_D[i]-LB[i] >= (delta[i] - 1) * M)\n",
    "#     @constraint(model, vec_D[i]-LB[i] <= delta[i] * M)\n",
    "    @constraint(model, UB[i]-vec_D[i] >= slack + (delta[i] - 1) * M)\n",
    "    @constraint(model, UB[i]-vec_D[i] <= delta[i] * M)\n",
    "end"
   ]
  },
  {
   "cell_type": "code",
   "execution_count": 146,
   "id": "608f58ff",
   "metadata": {},
   "outputs": [],
   "source": [
    "@objective(model, Max, sum(delta));"
   ]
  },
  {
   "cell_type": "code",
   "execution_count": 147,
   "id": "cf8e131a",
   "metadata": {},
   "outputs": [
    {
     "name": "stdout",
     "output_type": "stream",
     "text": [
      "Gurobi Optimizer version 9.1.2 build v9.1.2rc0 (win64)\r\n",
      "Thread count: 6 physical cores, 12 logical processors, using up to 12 threads\r\n",
      "Optimize a model with 2265 rows, 13980 columns and 55800 nonzeros\r\n",
      "Model fingerprint: 0xd45673aa\r\n",
      "Variable types: 13950 continuous, 30 integer (30 binary)\r\n",
      "Coefficient statistics:\r\n",
      "  Matrix range     [4e-03, 1e+10]\r\n",
      "  Objective range  [1e+00, 1e+00]\r\n",
      "  Bounds range     [0e+00, 0e+00]\r\n",
      "  RHS range        [2e+02, 1e+11]\r\n",
      "Warning: Model contains large matrix coefficient range\r\n",
      "Warning: Model contains large rhs\r\n",
      "         Consider reformulating model or setting NumericFocus parameter\r\n",
      "         to avoid numerical issues.\r\n",
      "Presolve removed 1914 rows and 12387 columns\r\n",
      "Presolve time: 0.03s\r\n",
      "Presolved: 351 rows, 1593 columns, 6203 nonzeros\r\n",
      "Variable types: 1566 continuous, 27 integer (27 binary)\r\n",
      "\r\n",
      "Root relaxation: objective 2.798029e+01, 358 iterations, 0.00 seconds\r\n",
      "\r\n",
      "    Nodes    |    Current Node    |     Objective Bounds      |     Work\r\n",
      " Expl Unexpl |  Obj  Depth IntInf | Incumbent    BestBd   Gap | It/Node Time\r\n",
      "\r\n",
      "     0     0   27.98029    0    2          -   27.98029      -     -    0s\r\n",
      "H    0     0                      28.0000000   28.00000  0.00%     -    0s\r\n",
      "\r\n",
      "Explored 1 nodes (358 simplex iterations) in 0.10 seconds\r\n",
      "Thread count was 12 (of 12 available processors)\r\n",
      "\r\n",
      "Solution count 1: 28 \r\n",
      "\r\n",
      "Optimal solution found (tolerance 1.00e-04)\r\n",
      "Best objective 2.800000000000e+01, best bound 2.800000000000e+01, gap 0.0000%\r\n",
      "\r\n",
      "User-callback calls 86, time in user-callback 0.00 sec\r\n"
     ]
    }
   ],
   "source": [
    "JuMP.optimize!(model)"
   ]
  },
  {
   "cell_type": "code",
   "execution_count": 94,
   "id": "a9e513ed",
   "metadata": {},
   "outputs": [],
   "source": [
    "soc_opt_x = JuMP.value.(x)\n",
    "soc_opt_y = JuMP.value.(y)\n",
    "soc_opt_delta = JuMP.value.(delta)\n",
    "soc_opt = JuMP.objective_value(model);"
   ]
  },
  {
   "cell_type": "code",
   "execution_count": 95,
   "id": "ce921c92",
   "metadata": {},
   "outputs": [
    {
     "data": {
      "text/html": [
       "<div><div style = \"float: left;\"><span>30×16 DataFrame</span></div><div style = \"float: right;\"><span style = \"font-style: italic;\">5 rows omitted</span></div><div style = \"clear: both;\"></div></div><div class = \"data-frame\" style = \"overflow-x: scroll;\"><table class = \"data-frame\" style = \"margin-bottom: 6px;\"><thead><tr class = \"header\"><th class = \"rowNumber\" style = \"font-weight: bold; text-align: right;\">Row</th><th style = \"text-align: left;\">country</th><th style = \"text-align: left;\">Li</th><th style = \"text-align: left;\">Co</th><th style = \"text-align: left;\">Mn</th><th style = \"text-align: left;\">Ni</th><th style = \"text-align: left;\">cathode</th><th style = \"text-align: left;\">graphite</th><th style = \"text-align: left;\">PP</th><th style = \"text-align: left;\">PE</th><th style = \"text-align: left;\">Cu</th><th style = \"text-align: left;\">Al</th><th style = \"text-align: left;\">cell</th><th style = \"text-align: left;\">PET</th><th style = \"text-align: left;\">electronics</th><th style = \"text-align: left;\">noncell</th><th style = \"text-align: left;\">battery</th></tr><tr class = \"subheader headerLastRow\"><th class = \"rowNumber\" style = \"font-weight: bold; text-align: right;\"></th><th title = \"String\" style = \"text-align: left;\">String</th><th title = \"Float64\" style = \"text-align: left;\">Float64</th><th title = \"Float64\" style = \"text-align: left;\">Float64</th><th title = \"Float64\" style = \"text-align: left;\">Float64</th><th title = \"Float64\" style = \"text-align: left;\">Float64</th><th title = \"Float64\" style = \"text-align: left;\">Float64</th><th title = \"Float64\" style = \"text-align: left;\">Float64</th><th title = \"Float64\" style = \"text-align: left;\">Float64</th><th title = \"Float64\" style = \"text-align: left;\">Float64</th><th title = \"Float64\" style = \"text-align: left;\">Float64</th><th title = \"Float64\" style = \"text-align: left;\">Float64</th><th title = \"Float64\" style = \"text-align: left;\">Float64</th><th title = \"Float64\" style = \"text-align: left;\">Float64</th><th title = \"Float64\" style = \"text-align: left;\">Float64</th><th title = \"Float64\" style = \"text-align: left;\">Float64</th><th title = \"Float64\" style = \"text-align: left;\">Float64</th></tr></thead><tbody><tr><td class = \"rowNumber\" style = \"font-weight: bold; text-align: right;\">1</td><td style = \"text-align: left;\">Argentina</td><td style = \"text-align: right;\">379.315</td><td style = \"text-align: right;\">0.0</td><td style = \"text-align: right;\">0.0</td><td style = \"text-align: right;\">0.0</td><td style = \"text-align: right;\">0.0</td><td style = \"text-align: right;\">0.0</td><td style = \"text-align: right;\">0.0</td><td style = \"text-align: right;\">0.0</td><td style = \"text-align: right;\">0.0</td><td style = \"text-align: right;\">0.0</td><td style = \"text-align: right;\">0.0</td><td style = \"text-align: right;\">2258.58</td><td style = \"text-align: right;\">0.0</td><td style = \"text-align: right;\">0.0</td><td style = \"text-align: right;\">0.0</td></tr><tr><td class = \"rowNumber\" style = \"font-weight: bold; text-align: right;\">2</td><td style = \"text-align: left;\">Australia</td><td style = \"text-align: right;\">27088.2</td><td style = \"text-align: right;\">0.0</td><td style = \"text-align: right;\">0.0</td><td style = \"text-align: right;\">0.0</td><td style = \"text-align: right;\">0.0</td><td style = \"text-align: right;\">500.0</td><td style = \"text-align: right;\">0.0</td><td style = \"text-align: right;\">0.0</td><td style = \"text-align: right;\">0.0</td><td style = \"text-align: right;\">7292.98</td><td style = \"text-align: right;\">0.0</td><td style = \"text-align: right;\">0.0</td><td style = \"text-align: right;\">0.0</td><td style = \"text-align: right;\">0.0</td><td style = \"text-align: right;\">0.0</td></tr><tr><td class = \"rowNumber\" style = \"font-weight: bold; text-align: right;\">3</td><td style = \"text-align: left;\">Brazil</td><td style = \"text-align: right;\">1802.74</td><td style = \"text-align: right;\">0.0</td><td style = \"text-align: right;\">64035.2</td><td style = \"text-align: right;\">0.0</td><td style = \"text-align: right;\">0.0</td><td style = \"text-align: right;\">0.0</td><td style = \"text-align: right;\">0.0</td><td style = \"text-align: right;\">0.0</td><td style = \"text-align: right;\">0.0</td><td style = \"text-align: right;\">0.0</td><td style = \"text-align: right;\">0.0</td><td style = \"text-align: right;\">0.0</td><td style = \"text-align: right;\">0.0</td><td style = \"text-align: right;\">0.0</td><td style = \"text-align: right;\">0.0</td></tr><tr><td class = \"rowNumber\" style = \"font-weight: bold; text-align: right;\">4</td><td style = \"text-align: left;\">Canada</td><td style = \"text-align: right;\">500.0</td><td style = \"text-align: right;\">3100.0</td><td style = \"text-align: right;\">0.0</td><td style = \"text-align: right;\">68843.7</td><td style = \"text-align: right;\">0.0</td><td style = \"text-align: right;\">15000.0</td><td style = \"text-align: right;\">0.0</td><td style = \"text-align: right;\">0.0</td><td style = \"text-align: right;\">0.0</td><td style = \"text-align: right;\">30124.4</td><td style = \"text-align: right;\">0.0</td><td style = \"text-align: right;\">0.0</td><td style = \"text-align: right;\">0.0</td><td style = \"text-align: right;\">0.0</td><td style = \"text-align: right;\">0.0</td></tr><tr><td class = \"rowNumber\" style = \"font-weight: bold; text-align: right;\">5</td><td style = \"text-align: left;\">Chile</td><td style = \"text-align: right;\">0.0</td><td style = \"text-align: right;\">0.0</td><td style = \"text-align: right;\">0.0</td><td style = \"text-align: right;\">0.0</td><td style = \"text-align: right;\">0.0</td><td style = \"text-align: right;\">0.0</td><td style = \"text-align: right;\">0.0</td><td style = \"text-align: right;\">0.0</td><td style = \"text-align: right;\">0.0</td><td style = \"text-align: right;\">0.0</td><td style = \"text-align: right;\">0.0</td><td style = \"text-align: right;\">0.0</td><td style = \"text-align: right;\">0.0</td><td style = \"text-align: right;\">0.0</td><td style = \"text-align: right;\">0.0</td></tr><tr><td class = \"rowNumber\" style = \"font-weight: bold; text-align: right;\">6</td><td style = \"text-align: left;\">China</td><td style = \"text-align: right;\">19000.0</td><td style = \"text-align: right;\">0.0</td><td style = \"text-align: right;\">0.0</td><td style = \"text-align: right;\">0.0</td><td style = \"text-align: right;\">69657.6</td><td style = \"text-align: right;\">26806.6</td><td style = \"text-align: right;\">5121.01</td><td style = \"text-align: right;\">0.0</td><td style = \"text-align: right;\">0.0</td><td style = \"text-align: right;\">0.0</td><td style = \"text-align: right;\">3.26727e5</td><td style = \"text-align: right;\">0.0</td><td style = \"text-align: right;\">0.0</td><td style = \"text-align: right;\">0.0</td><td style = \"text-align: right;\">0.0</td></tr><tr><td class = \"rowNumber\" style = \"font-weight: bold; text-align: right;\">7</td><td style = \"text-align: left;\">Colombia</td><td style = \"text-align: right;\">0.0</td><td style = \"text-align: right;\">0.0</td><td style = \"text-align: right;\">0.0</td><td style = \"text-align: right;\">0.0</td><td style = \"text-align: right;\">0.0</td><td style = \"text-align: right;\">0.0</td><td style = \"text-align: right;\">0.0</td><td style = \"text-align: right;\">0.0</td><td style = \"text-align: right;\">0.0</td><td style = \"text-align: right;\">0.0</td><td style = \"text-align: right;\">0.0</td><td style = \"text-align: right;\">0.0</td><td style = \"text-align: right;\">0.0</td><td style = \"text-align: right;\">0.0</td><td style = \"text-align: right;\">0.0</td></tr><tr><td class = \"rowNumber\" style = \"font-weight: bold; text-align: right;\">8</td><td style = \"text-align: left;\">Congo</td><td style = \"text-align: right;\">0.0</td><td style = \"text-align: right;\">53458.5</td><td style = \"text-align: right;\">0.0</td><td style = \"text-align: right;\">0.0</td><td style = \"text-align: right;\">0.0</td><td style = \"text-align: right;\">0.0</td><td style = \"text-align: right;\">0.0</td><td style = \"text-align: right;\">0.0</td><td style = \"text-align: right;\">0.0</td><td style = \"text-align: right;\">0.0</td><td style = \"text-align: right;\">0.0</td><td style = \"text-align: right;\">0.0</td><td style = \"text-align: right;\">0.0</td><td style = \"text-align: right;\">0.0</td><td style = \"text-align: right;\">0.0</td></tr><tr><td class = \"rowNumber\" style = \"font-weight: bold; text-align: right;\">9</td><td style = \"text-align: left;\">Finland</td><td style = \"text-align: right;\">0.0</td><td style = \"text-align: right;\">0.0</td><td style = \"text-align: right;\">0.0</td><td style = \"text-align: right;\">0.0</td><td style = \"text-align: right;\">0.0</td><td style = \"text-align: right;\">0.0</td><td style = \"text-align: right;\">0.0</td><td style = \"text-align: right;\">0.0</td><td style = \"text-align: right;\">0.0</td><td style = \"text-align: right;\">0.0</td><td style = \"text-align: right;\">0.0</td><td style = \"text-align: right;\">0.0</td><td style = \"text-align: right;\">0.0</td><td style = \"text-align: right;\">0.0</td><td style = \"text-align: right;\">0.0</td></tr><tr><td class = \"rowNumber\" style = \"font-weight: bold; text-align: right;\">10</td><td style = \"text-align: left;\">France</td><td style = \"text-align: right;\">0.0</td><td style = \"text-align: right;\">0.0</td><td style = \"text-align: right;\">0.0</td><td style = \"text-align: right;\">0.0</td><td style = \"text-align: right;\">0.0</td><td style = \"text-align: right;\">0.0</td><td style = \"text-align: right;\">0.0</td><td style = \"text-align: right;\">0.0</td><td style = \"text-align: right;\">0.0</td><td style = \"text-align: right;\">0.0</td><td style = \"text-align: right;\">0.0</td><td style = \"text-align: right;\">0.0</td><td style = \"text-align: right;\">0.0</td><td style = \"text-align: right;\">0.0</td><td style = \"text-align: right;\">0.0</td></tr><tr><td class = \"rowNumber\" style = \"font-weight: bold; text-align: right;\">11</td><td style = \"text-align: left;\">Germany</td><td style = \"text-align: right;\">0.0</td><td style = \"text-align: right;\">0.0</td><td style = \"text-align: right;\">0.0</td><td style = \"text-align: right;\">0.0</td><td style = \"text-align: right;\">0.0</td><td style = \"text-align: right;\">0.0</td><td style = \"text-align: right;\">0.0</td><td style = \"text-align: right;\">0.0</td><td style = \"text-align: right;\">0.0</td><td style = \"text-align: right;\">0.0</td><td style = \"text-align: right;\">0.0</td><td style = \"text-align: right;\">0.0</td><td style = \"text-align: right;\">0.0</td><td style = \"text-align: right;\">0.0</td><td style = \"text-align: right;\">0.0</td></tr><tr><td class = \"rowNumber\" style = \"font-weight: bold; text-align: right;\">12</td><td style = \"text-align: left;\">India</td><td style = \"text-align: right;\">0.0</td><td style = \"text-align: right;\">0.0</td><td style = \"text-align: right;\">0.0</td><td style = \"text-align: right;\">0.0</td><td style = \"text-align: right;\">0.0</td><td style = \"text-align: right;\">169.45</td><td style = \"text-align: right;\">106.619</td><td style = \"text-align: right;\">0.0</td><td style = \"text-align: right;\">0.0</td><td style = \"text-align: right;\">0.0</td><td style = \"text-align: right;\">0.0</td><td style = \"text-align: right;\">0.0</td><td style = \"text-align: right;\">0.0</td><td style = \"text-align: right;\">0.0</td><td style = \"text-align: right;\">0.0</td></tr><tr><td class = \"rowNumber\" style = \"font-weight: bold; text-align: right;\">13</td><td style = \"text-align: left;\">Indonesia</td><td style = \"text-align: right;\">0.0</td><td style = \"text-align: right;\">9454.0</td><td style = \"text-align: right;\">0.0</td><td style = \"text-align: right;\">539.112</td><td style = \"text-align: right;\">0.0</td><td style = \"text-align: right;\">0.0</td><td style = \"text-align: right;\">12.2679</td><td style = \"text-align: right;\">0.0</td><td style = \"text-align: right;\">72.8406</td><td style = \"text-align: right;\">0.0</td><td style = \"text-align: right;\">0.0</td><td style = \"text-align: right;\">0.0</td><td style = \"text-align: right;\">0.0</td><td style = \"text-align: right;\">0.0</td><td style = \"text-align: right;\">0.0</td></tr><tr><td style = \"text-align: right;\">&vellip;</td><td style = \"text-align: right;\">&vellip;</td><td style = \"text-align: right;\">&vellip;</td><td style = \"text-align: right;\">&vellip;</td><td style = \"text-align: right;\">&vellip;</td><td style = \"text-align: right;\">&vellip;</td><td style = \"text-align: right;\">&vellip;</td><td style = \"text-align: right;\">&vellip;</td><td style = \"text-align: right;\">&vellip;</td><td style = \"text-align: right;\">&vellip;</td><td style = \"text-align: right;\">&vellip;</td><td style = \"text-align: right;\">&vellip;</td><td style = \"text-align: right;\">&vellip;</td><td style = \"text-align: right;\">&vellip;</td><td style = \"text-align: right;\">&vellip;</td><td style = \"text-align: right;\">&vellip;</td><td style = \"text-align: right;\">&vellip;</td></tr><tr><td class = \"rowNumber\" style = \"font-weight: bold; text-align: right;\">19</td><td style = \"text-align: left;\">Norway</td><td style = \"text-align: right;\">0.0</td><td style = \"text-align: right;\">0.0</td><td style = \"text-align: right;\">0.0</td><td style = \"text-align: right;\">0.0</td><td style = \"text-align: right;\">0.0</td><td style = \"text-align: right;\">10000.0</td><td style = \"text-align: right;\">0.0</td><td style = \"text-align: right;\">0.0</td><td style = \"text-align: right;\">0.0</td><td style = \"text-align: right;\">0.0</td><td style = \"text-align: right;\">0.0</td><td style = \"text-align: right;\">0.0</td><td style = \"text-align: right;\">0.0</td><td style = \"text-align: right;\">0.0</td><td style = \"text-align: right;\">0.0</td></tr><tr><td class = \"rowNumber\" style = \"font-weight: bold; text-align: right;\">20</td><td style = \"text-align: left;\">Peru</td><td style = \"text-align: right;\">0.0</td><td style = \"text-align: right;\">0.0</td><td style = \"text-align: right;\">0.0</td><td style = \"text-align: right;\">0.0</td><td style = \"text-align: right;\">0.0</td><td style = \"text-align: right;\">0.0</td><td style = \"text-align: right;\">0.0</td><td style = \"text-align: right;\">0.0</td><td style = \"text-align: right;\">0.0</td><td style = \"text-align: right;\">0.0</td><td style = \"text-align: right;\">0.0</td><td style = \"text-align: right;\">0.0</td><td style = \"text-align: right;\">0.0</td><td style = \"text-align: right;\">0.0</td><td style = \"text-align: right;\">0.0</td></tr><tr><td class = \"rowNumber\" style = \"font-weight: bold; text-align: right;\">21</td><td style = \"text-align: left;\">Philippines</td><td style = \"text-align: right;\">0.0</td><td style = \"text-align: right;\">0.0</td><td style = \"text-align: right;\">0.0</td><td style = \"text-align: right;\">0.0</td><td style = \"text-align: right;\">0.0</td><td style = \"text-align: right;\">0.0</td><td style = \"text-align: right;\">0.0</td><td style = \"text-align: right;\">0.0</td><td style = \"text-align: right;\">0.0</td><td style = \"text-align: right;\">0.0</td><td style = \"text-align: right;\">0.0</td><td style = \"text-align: right;\">0.0</td><td style = \"text-align: right;\">0.0</td><td style = \"text-align: right;\">0.0</td><td style = \"text-align: right;\">0.0</td></tr><tr><td class = \"rowNumber\" style = \"font-weight: bold; text-align: right;\">22</td><td style = \"text-align: left;\">Portugal</td><td style = \"text-align: right;\">0.0</td><td style = \"text-align: right;\">0.0</td><td style = \"text-align: right;\">0.0</td><td style = \"text-align: right;\">0.0</td><td style = \"text-align: right;\">0.0</td><td style = \"text-align: right;\">0.0</td><td style = \"text-align: right;\">0.0</td><td style = \"text-align: right;\">0.0</td><td style = \"text-align: right;\">0.0</td><td style = \"text-align: right;\">0.0</td><td style = \"text-align: right;\">0.0</td><td style = \"text-align: right;\">0.0</td><td style = \"text-align: right;\">0.0</td><td style = \"text-align: right;\">0.0</td><td style = \"text-align: right;\">0.0</td></tr><tr><td class = \"rowNumber\" style = \"font-weight: bold; text-align: right;\">23</td><td style = \"text-align: left;\">Russia</td><td style = \"text-align: right;\">0.0</td><td style = \"text-align: right;\">3500.0</td><td style = \"text-align: right;\">0.0</td><td style = \"text-align: right;\">0.0</td><td style = \"text-align: right;\">0.0</td><td style = \"text-align: right;\">15000.0</td><td style = \"text-align: right;\">0.0</td><td style = \"text-align: right;\">0.0</td><td style = \"text-align: right;\">31039.0</td><td style = \"text-align: right;\">21655.9</td><td style = \"text-align: right;\">0.0</td><td style = \"text-align: right;\">0.0</td><td style = \"text-align: right;\">0.0</td><td style = \"text-align: right;\">0.0</td><td style = \"text-align: right;\">0.0</td></tr><tr><td class = \"rowNumber\" style = \"font-weight: bold; text-align: right;\">24</td><td style = \"text-align: left;\">Saudi arabia</td><td style = \"text-align: right;\">0.0</td><td style = \"text-align: right;\">0.0</td><td style = \"text-align: right;\">0.0</td><td style = \"text-align: right;\">0.0</td><td style = \"text-align: right;\">0.0</td><td style = \"text-align: right;\">0.0</td><td style = \"text-align: right;\">0.0</td><td style = \"text-align: right;\">0.0</td><td style = \"text-align: right;\">0.0</td><td style = \"text-align: right;\">0.0</td><td style = \"text-align: right;\">0.0</td><td style = \"text-align: right;\">0.0</td><td style = \"text-align: right;\">0.0</td><td style = \"text-align: right;\">0.0</td><td style = \"text-align: right;\">0.0</td></tr><tr><td class = \"rowNumber\" style = \"font-weight: bold; text-align: right;\">25</td><td style = \"text-align: left;\">South Africa</td><td style = \"text-align: right;\">0.0</td><td style = \"text-align: right;\">0.0</td><td style = \"text-align: right;\">0.0</td><td style = \"text-align: right;\">0.0</td><td style = \"text-align: right;\">0.0</td><td style = \"text-align: right;\">0.0</td><td style = \"text-align: right;\">0.0</td><td style = \"text-align: right;\">0.0</td><td style = \"text-align: right;\">0.0</td><td style = \"text-align: right;\">0.0</td><td style = \"text-align: right;\">0.0</td><td style = \"text-align: right;\">0.0</td><td style = \"text-align: right;\">0.0</td><td style = \"text-align: right;\">0.0</td><td style = \"text-align: right;\">0.0</td></tr><tr><td class = \"rowNumber\" style = \"font-weight: bold; text-align: right;\">26</td><td style = \"text-align: left;\">South korea</td><td style = \"text-align: right;\">0.0</td><td style = \"text-align: right;\">0.0</td><td style = \"text-align: right;\">1250.0</td><td style = \"text-align: right;\">0.0</td><td style = \"text-align: right;\">60029.9</td><td style = \"text-align: right;\">0.0</td><td style = \"text-align: right;\">0.0</td><td style = \"text-align: right;\">1309.97</td><td style = \"text-align: right;\">0.0</td><td style = \"text-align: right;\">0.0</td><td style = \"text-align: right;\">0.0</td><td style = \"text-align: right;\">0.0</td><td style = \"text-align: right;\">0.0</td><td style = \"text-align: right;\">4.51715e5</td><td style = \"text-align: right;\">4.51715e5</td></tr><tr><td class = \"rowNumber\" style = \"font-weight: bold; text-align: right;\">27</td><td style = \"text-align: left;\">Turkey</td><td style = \"text-align: right;\">0.0</td><td style = \"text-align: right;\">0.0</td><td style = \"text-align: right;\">0.0</td><td style = \"text-align: right;\">0.0</td><td style = \"text-align: right;\">0.0</td><td style = \"text-align: right;\">0.0</td><td style = \"text-align: right;\">0.0</td><td style = \"text-align: right;\">0.0</td><td style = \"text-align: right;\">0.0</td><td style = \"text-align: right;\">0.0</td><td style = \"text-align: right;\">0.0</td><td style = \"text-align: right;\">0.0</td><td style = \"text-align: right;\">0.0</td><td style = \"text-align: right;\">0.0</td><td style = \"text-align: right;\">0.0</td></tr><tr><td class = \"rowNumber\" style = \"font-weight: bold; text-align: right;\">28</td><td style = \"text-align: left;\">Ukraine</td><td style = \"text-align: right;\">0.0</td><td style = \"text-align: right;\">0.0</td><td style = \"text-align: right;\">0.0</td><td style = \"text-align: right;\">0.0</td><td style = \"text-align: right;\">0.0</td><td style = \"text-align: right;\">3000.0</td><td style = \"text-align: right;\">0.0</td><td style = \"text-align: right;\">0.0</td><td style = \"text-align: right;\">0.0</td><td style = \"text-align: right;\">1185.5</td><td style = \"text-align: right;\">0.0</td><td style = \"text-align: right;\">0.0</td><td style = \"text-align: right;\">0.0</td><td style = \"text-align: right;\">0.0</td><td style = \"text-align: right;\">0.0</td></tr><tr><td class = \"rowNumber\" style = \"font-weight: bold; text-align: right;\">29</td><td style = \"text-align: left;\">United Arab Emirates</td><td style = \"text-align: right;\">0.0</td><td style = \"text-align: right;\">0.0</td><td style = \"text-align: right;\">0.0</td><td style = \"text-align: right;\">0.0</td><td style = \"text-align: right;\">0.0</td><td style = \"text-align: right;\">0.0</td><td style = \"text-align: right;\">0.0</td><td style = \"text-align: right;\">0.0</td><td style = \"text-align: right;\">0.0</td><td style = \"text-align: right;\">0.0</td><td style = \"text-align: right;\">0.0</td><td style = \"text-align: right;\">0.0</td><td style = \"text-align: right;\">0.0</td><td style = \"text-align: right;\">0.0</td><td style = \"text-align: right;\">0.0</td></tr><tr><td class = \"rowNumber\" style = \"font-weight: bold; text-align: right;\">30</td><td style = \"text-align: left;\">United States</td><td style = \"text-align: right;\">900.0</td><td style = \"text-align: right;\">0.0</td><td style = \"text-align: right;\">0.0</td><td style = \"text-align: right;\">0.0</td><td style = \"text-align: right;\">0.0</td><td style = \"text-align: right;\">0.0</td><td style = \"text-align: right;\">0.0</td><td style = \"text-align: right;\">0.0</td><td style = \"text-align: right;\">0.0</td><td style = \"text-align: right;\">0.0</td><td style = \"text-align: right;\">766.743</td><td style = \"text-align: right;\">0.0</td><td style = \"text-align: right;\">1806.86</td><td style = \"text-align: right;\">0.0</td><td style = \"text-align: right;\">0.0</td></tr></tbody></table></div>"
      ],
      "text/latex": [
       "\\begin{tabular}{r|ccccccccc}\n",
       "\t& country & Li & Co & Mn & Ni & cathode & graphite & PP & \\\\\n",
       "\t\\hline\n",
       "\t& String & Float64 & Float64 & Float64 & Float64 & Float64 & Float64 & Float64 & \\\\\n",
       "\t\\hline\n",
       "\t1 & Argentina & 379.315 & 0.0 & 0.0 & 0.0 & 0.0 & 0.0 & 0.0 & $\\dots$ \\\\\n",
       "\t2 & Australia & 27088.2 & 0.0 & 0.0 & 0.0 & 0.0 & 500.0 & 0.0 & $\\dots$ \\\\\n",
       "\t3 & Brazil & 1802.74 & 0.0 & 64035.2 & 0.0 & 0.0 & 0.0 & 0.0 & $\\dots$ \\\\\n",
       "\t4 & Canada & 500.0 & 3100.0 & 0.0 & 68843.7 & 0.0 & 15000.0 & 0.0 & $\\dots$ \\\\\n",
       "\t5 & Chile & 0.0 & 0.0 & 0.0 & 0.0 & 0.0 & 0.0 & 0.0 & $\\dots$ \\\\\n",
       "\t6 & China & 19000.0 & 0.0 & 0.0 & 0.0 & 69657.6 & 26806.6 & 5121.01 & $\\dots$ \\\\\n",
       "\t7 & Colombia & 0.0 & 0.0 & 0.0 & 0.0 & 0.0 & 0.0 & 0.0 & $\\dots$ \\\\\n",
       "\t8 & Congo & 0.0 & 53458.5 & 0.0 & 0.0 & 0.0 & 0.0 & 0.0 & $\\dots$ \\\\\n",
       "\t9 & Finland & 0.0 & 0.0 & 0.0 & 0.0 & 0.0 & 0.0 & 0.0 & $\\dots$ \\\\\n",
       "\t10 & France & 0.0 & 0.0 & 0.0 & 0.0 & 0.0 & 0.0 & 0.0 & $\\dots$ \\\\\n",
       "\t11 & Germany & 0.0 & 0.0 & 0.0 & 0.0 & 0.0 & 0.0 & 0.0 & $\\dots$ \\\\\n",
       "\t12 & India & 0.0 & 0.0 & 0.0 & 0.0 & 0.0 & 169.45 & 106.619 & $\\dots$ \\\\\n",
       "\t13 & Indonesia & 0.0 & 9454.0 & 0.0 & 539.112 & 0.0 & 0.0 & 12.2679 & $\\dots$ \\\\\n",
       "\t14 & Iran & 0.0 & 0.0 & 0.0 & 0.0 & 0.0 & 0.0 & 0.0 & $\\dots$ \\\\\n",
       "\t15 & Japan & 0.0 & 0.0 & 0.0 & 0.0 & 0.0 & 0.0 & 0.0 & $\\dots$ \\\\\n",
       "\t16 & Kazakhstan & 0.0 & 0.0 & 0.0 & 0.0 & 0.0 & 0.0 & 0.0 & $\\dots$ \\\\\n",
       "\t17 & Malaysia & 0.0 & 0.0 & 0.0 & 0.0 & 0.0 & 0.0 & 0.0 & $\\dots$ \\\\\n",
       "\t18 & Mexico & 0.0 & 0.0 & 2411.65 & 0.0 & 0.0 & 1900.0 & 0.0 & $\\dots$ \\\\\n",
       "\t19 & Norway & 0.0 & 0.0 & 0.0 & 0.0 & 0.0 & 10000.0 & 0.0 & $\\dots$ \\\\\n",
       "\t20 & Peru & 0.0 & 0.0 & 0.0 & 0.0 & 0.0 & 0.0 & 0.0 & $\\dots$ \\\\\n",
       "\t21 & Philippines & 0.0 & 0.0 & 0.0 & 0.0 & 0.0 & 0.0 & 0.0 & $\\dots$ \\\\\n",
       "\t22 & Portugal & 0.0 & 0.0 & 0.0 & 0.0 & 0.0 & 0.0 & 0.0 & $\\dots$ \\\\\n",
       "\t23 & Russia & 0.0 & 3500.0 & 0.0 & 0.0 & 0.0 & 15000.0 & 0.0 & $\\dots$ \\\\\n",
       "\t24 & Saudi arabia & 0.0 & 0.0 & 0.0 & 0.0 & 0.0 & 0.0 & 0.0 & $\\dots$ \\\\\n",
       "\t25 & South Africa & 0.0 & 0.0 & 0.0 & 0.0 & 0.0 & 0.0 & 0.0 & $\\dots$ \\\\\n",
       "\t26 & South korea & 0.0 & 0.0 & 1250.0 & 0.0 & 60029.9 & 0.0 & 0.0 & $\\dots$ \\\\\n",
       "\t27 & Turkey & 0.0 & 0.0 & 0.0 & 0.0 & 0.0 & 0.0 & 0.0 & $\\dots$ \\\\\n",
       "\t28 & Ukraine & 0.0 & 0.0 & 0.0 & 0.0 & 0.0 & 3000.0 & 0.0 & $\\dots$ \\\\\n",
       "\t29 & United Arab Emirates & 0.0 & 0.0 & 0.0 & 0.0 & 0.0 & 0.0 & 0.0 & $\\dots$ \\\\\n",
       "\t30 & United States & 900.0 & 0.0 & 0.0 & 0.0 & 0.0 & 0.0 & 0.0 & $\\dots$ \\\\\n",
       "\\end{tabular}\n"
      ],
      "text/plain": [
       "\u001b[1m30×16 DataFrame\u001b[0m\n",
       "\u001b[1m Row \u001b[0m│\u001b[1m country              \u001b[0m\u001b[1m Li        \u001b[0m\u001b[1m Co      \u001b[0m\u001b[1m Mn       \u001b[0m\u001b[1m Ni        \u001b[0m\u001b[1m cathode \u001b[0m\u001b[1m\u001b[0m ⋯\n",
       "     │\u001b[90m String               \u001b[0m\u001b[90m Float64   \u001b[0m\u001b[90m Float64 \u001b[0m\u001b[90m Float64  \u001b[0m\u001b[90m Float64   \u001b[0m\u001b[90m Float64 \u001b[0m\u001b[90m\u001b[0m ⋯\n",
       "─────┼──────────────────────────────────────────────────────────────────────────\n",
       "   1 │ Argentina               379.315      0.0      0.0       0.0        0.0  ⋯\n",
       "   2 │ Australia             27088.2        0.0      0.0       0.0        0.0\n",
       "   3 │ Brazil                 1802.74       0.0  64035.2       0.0        0.0\n",
       "   4 │ Canada                  500.0     3100.0      0.0   68843.7        0.0\n",
       "   5 │ Chile                     0.0        0.0      0.0       0.0        0.0  ⋯\n",
       "   6 │ China                 19000.0        0.0      0.0       0.0    69657.6\n",
       "   7 │ Colombia                  0.0        0.0      0.0       0.0        0.0\n",
       "   8 │ Congo                     0.0    53458.5      0.0       0.0        0.0\n",
       "   9 │ Finland                   0.0        0.0      0.0       0.0        0.0  ⋯\n",
       "  10 │ France                    0.0        0.0      0.0       0.0        0.0\n",
       "  11 │ Germany                   0.0        0.0      0.0       0.0        0.0\n",
       "  ⋮  │          ⋮                ⋮         ⋮        ⋮          ⋮         ⋮     ⋱\n",
       "  21 │ Philippines               0.0        0.0      0.0       0.0        0.0\n",
       "  22 │ Portugal                  0.0        0.0      0.0       0.0        0.0  ⋯\n",
       "  23 │ Russia                    0.0     3500.0      0.0       0.0        0.0\n",
       "  24 │ Saudi arabia              0.0        0.0      0.0       0.0        0.0\n",
       "  25 │ South Africa              0.0        0.0      0.0       0.0        0.0\n",
       "  26 │ South korea               0.0        0.0   1250.0       0.0    60029.9  ⋯\n",
       "  27 │ Turkey                    0.0        0.0      0.0       0.0        0.0\n",
       "  28 │ Ukraine                   0.0        0.0      0.0       0.0        0.0\n",
       "  29 │ United Arab Emirates      0.0        0.0      0.0       0.0        0.0\n",
       "  30 │ United States           900.0        0.0      0.0       0.0        0.0  ⋯\n",
       "\u001b[36m                                                   10 columns and 9 rows omitted\u001b[0m"
      ]
     },
     "execution_count": 95,
     "metadata": {},
     "output_type": "execute_result"
    }
   ],
   "source": [
    "res_x = DataFrame(soc_opt_x, :auto)\n",
    "rename!(res_x, [\"x$i\" => proc for (i, proc) in enumerate(process)])\n",
    "insertcols!(res_x, 1, :country => countries)"
   ]
  },
  {
   "cell_type": "code",
   "execution_count": 85,
   "id": "7c5c2c58",
   "metadata": {},
   "outputs": [],
   "source": [
    "# CSV.write(\"/Users/bourg/Desktop/new_obj_1009.csv\", res_x) "
   ]
  },
  {
   "cell_type": "markdown",
   "id": "4f1c1f4e",
   "metadata": {},
   "source": [
    "### Test"
   ]
  },
  {
   "cell_type": "code",
   "execution_count": 96,
   "id": "6395693f",
   "metadata": {},
   "outputs": [],
   "source": [
    "proD = (soc_opt_x .* Matrix(regional_EF[:,2:end])) * ones(nproc,1)\n",
    "proM = soc_opt_x * price;"
   ]
  },
  {
   "cell_type": "code",
   "execution_count": 97,
   "id": "ab8751f1",
   "metadata": {},
   "outputs": [],
   "source": [
    "pro_sink = zeros(ncty, nproc)\n",
    "for k in 1:nproc\n",
    "    for i in 1:ncty\n",
    "        pro_sink[i,k] = (price[k]/vGDP[i]) * sink_c[i] + (price[k]/global_gdp) * global_sink\n",
    "    end\n",
    "end\n",
    "proS = (soc_opt_x.*pro_sink)*ones(nproc,1);"
   ]
  },
  {
   "cell_type": "code",
   "execution_count": 98,
   "id": "3b4d56fe",
   "metadata": {},
   "outputs": [],
   "source": [
    "tranD = zeros(ncty,1)\n",
    "for j in 1:ncty\n",
    "    arc_emi = 0\n",
    "    for i in 1:ncty\n",
    "        amount = sum(soc_opt_y[i,j,k] for k in 1:nproc)\n",
    "        arc_emi += (amount * distance[!, 2:end][i,j] * EF_trans)\n",
    "    end\n",
    "    tranD[j] = arc_emi\n",
    "end"
   ]
  },
  {
   "cell_type": "code",
   "execution_count": 99,
   "id": "d21f355a",
   "metadata": {},
   "outputs": [],
   "source": [
    "Allo_soc = proM ./ vGDP .* Dsoc;"
   ]
  },
  {
   "cell_type": "code",
   "execution_count": 100,
   "id": "e0c740ea",
   "metadata": {},
   "outputs": [],
   "source": [
    "vec_S = proS\n",
    "vec_D = proD + tranD\n",
    "vec_Dsoc = Allo_soc;"
   ]
  },
  {
   "cell_type": "code",
   "execution_count": 101,
   "id": "389ae8b3",
   "metadata": {},
   "outputs": [],
   "source": [
    "threshold = 0.1\n",
    "UB = vec_S - threshold * (vec_S - vec_D)\n",
    "LB = vec_Dsoc + threshold * (vec_S - vec_D);"
   ]
  },
  {
   "cell_type": "code",
   "execution_count": 103,
   "id": "0d87e92e",
   "metadata": {},
   "outputs": [
    {
     "data": {
      "text/plain": [
       "30×1 Matrix{Float64}:\n",
       "   7946.047500563336\n",
       " 300186.9038896368\n",
       " 184561.16973597236\n",
       "      1.4412350207338766e6\n",
       "      0.0\n",
       "      1.5328439956254172e6\n",
       "      0.0\n",
       "      1.359746940200916e6\n",
       "      0.0\n",
       "      0.0\n",
       "      0.0\n",
       "    549.5516336327978\n",
       " 455232.15615241084\n",
       "      ⋮\n",
       "  11543.042580000001\n",
       "      0.0\n",
       "      0.0\n",
       "      0.0\n",
       " 958661.9022711741\n",
       "      0.0\n",
       "      0.0\n",
       "      4.5031692642146135e6\n",
       "      0.0\n",
       "  32645.14832932916\n",
       "      0.0\n",
       " 184567.13713330677"
      ]
     },
     "execution_count": 103,
     "metadata": {},
     "output_type": "execute_result"
    }
   ],
   "source": [
    "vec_D"
   ]
  },
  {
   "cell_type": "code",
   "execution_count": 104,
   "id": "79e20294",
   "metadata": {},
   "outputs": [
    {
     "data": {
      "text/plain": [
       "30×1 Matrix{Float64}:\n",
       "    661.7959479010133\n",
       "  24351.341529640762\n",
       "   8707.533671623736\n",
       "  27480.612520226834\n",
       "      0.0\n",
       " 357026.14068958844\n",
       "      0.0\n",
       "      1.2731123184929075e7\n",
       "      0.0\n",
       "      0.0\n",
       "      0.0\n",
       "    746.0229743600659\n",
       "  61176.03990987667\n",
       "      ⋮\n",
       "   4477.700339218834\n",
       "      0.0\n",
       "      0.0\n",
       "      0.0\n",
       "      3.3721650440336734e7\n",
       "      0.0\n",
       "      0.0\n",
       "      2.301997853230893e8\n",
       "      0.0\n",
       "   5433.4890106869025\n",
       "      0.0\n",
       "   8249.935199623751"
      ]
     },
     "execution_count": 104,
     "metadata": {},
     "output_type": "execute_result"
    }
   ],
   "source": [
    "LB"
   ]
  },
  {
   "cell_type": "code",
   "execution_count": 107,
   "id": "93794c13",
   "metadata": {},
   "outputs": [
    {
     "data": {
      "text/plain": [
       "(4.249948423555248e9, 5.54e10)"
      ]
     },
     "execution_count": 107,
     "metadata": {},
     "output_type": "execute_result"
    }
   ],
   "source": [
    "proM[8], vGDP[8]"
   ]
  },
  {
   "cell_type": "code",
   "execution_count": null,
   "id": "346d2247",
   "metadata": {},
   "outputs": [],
   "source": []
  },
  {
   "cell_type": "code",
   "execution_count": null,
   "id": "9390c802",
   "metadata": {},
   "outputs": [],
   "source": []
  },
  {
   "cell_type": "code",
   "execution_count": null,
   "id": "70e5ae77",
   "metadata": {},
   "outputs": [],
   "source": []
  },
  {
   "cell_type": "code",
   "execution_count": null,
   "id": "4ddd8330",
   "metadata": {},
   "outputs": [],
   "source": []
  },
  {
   "cell_type": "code",
   "execution_count": null,
   "id": "5b262f2d",
   "metadata": {},
   "outputs": [],
   "source": []
  },
  {
   "cell_type": "code",
   "execution_count": 140,
   "id": "4efd2a1c",
   "metadata": {},
   "outputs": [],
   "source": [
    "threshold = 0.1\n",
    "UB = Supply - threshold * (Supply - Demand_soc)\n",
    "LB = Demand_soc + threshold * (Supply - Demand_soc);"
   ]
  },
  {
   "cell_type": "code",
   "execution_count": 142,
   "id": "84e6d0c1",
   "metadata": {},
   "outputs": [
    {
     "name": "stdout",
     "output_type": "stream",
     "text": [
      "2\n",
      "30\n"
     ]
    }
   ],
   "source": [
    "count = 0\n",
    "for i in 1:ncty\n",
    "    if Demand[i] <= UB[i] &&  Demand[i] >= LB[i]\n",
    "        count += 1\n",
    "    else\n",
    "        println(i)\n",
    "    end\n",
    "end\n",
    "        "
   ]
  },
  {
   "cell_type": "code",
   "execution_count": 146,
   "id": "e4f53fee",
   "metadata": {},
   "outputs": [
    {
     "data": {
      "text/plain": [
       "(90933.1734161161, 95533.73970084239, 16587.209657751875)"
      ]
     },
     "execution_count": 146,
     "metadata": {},
     "output_type": "execute_result"
    }
   ],
   "source": [
    "UB[2], Demand[2], LB[2]"
   ]
  },
  {
   "cell_type": "code",
   "execution_count": 147,
   "id": "a3d33476",
   "metadata": {},
   "outputs": [
    {
     "data": {
      "text/plain": [
       "(3.3370216879528533e6, 5.724007314383266e6, 512667.9505599628)"
      ]
     },
     "execution_count": 147,
     "metadata": {},
     "output_type": "execute_result"
    }
   ],
   "source": [
    "UB[30], Demand[30], LB[30]"
   ]
  },
  {
   "cell_type": "code",
   "execution_count": 148,
   "id": "55971076",
   "metadata": {},
   "outputs": [
    {
     "data": {
      "text/plain": [
       "(23577.0312852324, 21401.3109498063, 4108.874720680133)"
      ]
     },
     "execution_count": 148,
     "metadata": {},
     "output_type": "execute_result"
    }
   ],
   "source": [
    "UB[1], Demand[1], LB[1]"
   ]
  },
  {
   "cell_type": "code",
   "execution_count": 151,
   "id": "384ddd96",
   "metadata": {},
   "outputs": [
    {
     "data": {
      "text/plain": [
       "1.106145251396648"
      ]
     },
     "execution_count": 151,
     "metadata": {},
     "output_type": "execute_result"
    }
   ],
   "source": [
    "1.98e8 / 179000000"
   ]
  },
  {
   "cell_type": "code",
   "execution_count": 150,
   "id": "a20426eb",
   "metadata": {},
   "outputs": [
    {
     "data": {
      "text/html": [
       "<div><div style = \"float: left;\"><span>30×3 DataFrame</span></div><div style = \"float: right;\"><span style = \"font-style: italic;\">5 rows omitted</span></div><div style = \"clear: both;\"></div></div><div class = \"data-frame\" style = \"overflow-x: scroll;\"><table class = \"data-frame\" style = \"margin-bottom: 6px;\"><thead><tr class = \"header\"><th class = \"rowNumber\" style = \"font-weight: bold; text-align: right;\">Row</th><th style = \"text-align: left;\">country</th><th style = \"text-align: left;\">emission</th><th style = \"text-align: left;\">sink ton/yr</th></tr><tr class = \"subheader headerLastRow\"><th class = \"rowNumber\" style = \"font-weight: bold; text-align: right;\"></th><th title = \"String31\" style = \"text-align: left;\">String31</th><th title = \"Float64\" style = \"text-align: left;\">Float64</th><th title = \"Int64\" style = \"text-align: left;\">Int64</th></tr></thead><tbody><tr><td class = \"rowNumber\" style = \"font-weight: bold; text-align: right;\">1</td><td style = \"text-align: left;\">Argentina</td><td style = \"text-align: right;\">1.98e8</td><td style = \"text-align: right;\">179000000</td></tr><tr><td class = \"rowNumber\" style = \"font-weight: bold; text-align: right;\">2</td><td style = \"text-align: left;\">Australia</td><td style = \"text-align: right;\">3.89e8</td><td style = \"text-align: right;\">287000000</td></tr><tr><td class = \"rowNumber\" style = \"font-weight: bold; text-align: right;\">3</td><td style = \"text-align: left;\">Brazil</td><td style = \"text-align: right;\">8.19e8</td><td style = \"text-align: right;\">1810000000</td></tr><tr><td class = \"rowNumber\" style = \"font-weight: bold; text-align: right;\">4</td><td style = \"text-align: left;\">Canada</td><td style = \"text-align: right;\">6.15e8</td><td style = \"text-align: right;\">1360000000</td></tr><tr><td class = \"rowNumber\" style = \"font-weight: bold; text-align: right;\">5</td><td style = \"text-align: left;\">Chile</td><td style = \"text-align: right;\">3.35e7</td><td style = \"text-align: right;\">275000000</td></tr><tr><td class = \"rowNumber\" style = \"font-weight: bold; text-align: right;\">6</td><td style = \"text-align: left;\">China</td><td style = \"text-align: right;\">1.01e10</td><td style = \"text-align: right;\">749000000</td></tr><tr><td class = \"rowNumber\" style = \"font-weight: bold; text-align: right;\">7</td><td style = \"text-align: left;\">Colombia</td><td style = \"text-align: right;\">1.64e8</td><td style = \"text-align: right;\">242000000</td></tr><tr><td class = \"rowNumber\" style = \"font-weight: bold; text-align: right;\">8</td><td style = \"text-align: left;\">Congo</td><td style = \"text-align: right;\">6.82e8</td><td style = \"text-align: right;\">1500000000</td></tr><tr><td class = \"rowNumber\" style = \"font-weight: bold; text-align: right;\">9</td><td style = \"text-align: left;\">Finland</td><td style = \"text-align: right;\">4.77e7</td><td style = \"text-align: right;\">76800000</td></tr><tr><td class = \"rowNumber\" style = \"font-weight: bold; text-align: right;\">10</td><td style = \"text-align: left;\">France</td><td style = \"text-align: right;\">2.39e8</td><td style = \"text-align: right;\">132000000</td></tr><tr><td class = \"rowNumber\" style = \"font-weight: bold; text-align: right;\">11</td><td style = \"text-align: left;\">Germany</td><td style = \"text-align: right;\">6.28e8</td><td style = \"text-align: right;\">100000000</td></tr><tr><td class = \"rowNumber\" style = \"font-weight: bold; text-align: right;\">12</td><td style = \"text-align: left;\">India</td><td style = \"text-align: right;\">2.42e9</td><td style = \"text-align: right;\">115000000</td></tr><tr><td class = \"rowNumber\" style = \"font-weight: bold; text-align: right;\">13</td><td style = \"text-align: left;\">Indonesia</td><td style = \"text-align: right;\">1.48e9</td><td style = \"text-align: right;\">644000000</td></tr><tr><td style = \"text-align: right;\">&vellip;</td><td style = \"text-align: right;\">&vellip;</td><td style = \"text-align: right;\">&vellip;</td><td style = \"text-align: right;\">&vellip;</td></tr><tr><td class = \"rowNumber\" style = \"font-weight: bold; text-align: right;\">19</td><td style = \"text-align: left;\">Norway</td><td style = \"text-align: right;\">1.7e7</td><td style = \"text-align: right;\">52800000</td></tr><tr><td class = \"rowNumber\" style = \"font-weight: bold; text-align: right;\">20</td><td style = \"text-align: left;\">Peru</td><td style = \"text-align: right;\">1.47e8</td><td style = \"text-align: right;\">173000000</td></tr><tr><td class = \"rowNumber\" style = \"font-weight: bold; text-align: right;\">21</td><td style = \"text-align: left;\">Philippines</td><td style = \"text-align: right;\">1.48e8</td><td style = \"text-align: right;\">96200000</td></tr><tr><td class = \"rowNumber\" style = \"font-weight: bold; text-align: right;\">22</td><td style = \"text-align: left;\">Portugal</td><td style = \"text-align: right;\">4.49e7</td><td style = \"text-align: right;\">14200000</td></tr><tr><td class = \"rowNumber\" style = \"font-weight: bold; text-align: right;\">23</td><td style = \"text-align: left;\">Russia</td><td style = \"text-align: right;\">1.15e9</td><td style = \"text-align: right;\">400000000</td></tr><tr><td class = \"rowNumber\" style = \"font-weight: bold; text-align: right;\">24</td><td style = \"text-align: left;\">Saudi arabia</td><td style = \"text-align: right;\">5.24e8</td><td style = \"text-align: right;\">160000</td></tr><tr><td class = \"rowNumber\" style = \"font-weight: bold; text-align: right;\">25</td><td style = \"text-align: left;\">South Africa</td><td style = \"text-align: right;\">4.46e8</td><td style = \"text-align: right;\">40400000</td></tr><tr><td class = \"rowNumber\" style = \"font-weight: bold; text-align: right;\">26</td><td style = \"text-align: left;\">South korea</td><td style = \"text-align: right;\">5.65e8</td><td style = \"text-align: right;\">39600000</td></tr><tr><td class = \"rowNumber\" style = \"font-weight: bold; text-align: right;\">27</td><td style = \"text-align: left;\">Turkey</td><td style = \"text-align: right;\">3.68e8</td><td style = \"text-align: right;\">25000000</td></tr><tr><td class = \"rowNumber\" style = \"font-weight: bold; text-align: right;\">28</td><td style = \"text-align: left;\">Ukraine</td><td style = \"text-align: right;\">1.63e8</td><td style = \"text-align: right;\">91500000</td></tr><tr><td class = \"rowNumber\" style = \"font-weight: bold; text-align: right;\">29</td><td style = \"text-align: left;\">United Arab Emirates</td><td style = \"text-align: right;\">1.89e8</td><td style = \"text-align: right;\">1800000</td></tr><tr><td class = \"rowNumber\" style = \"font-weight: bold; text-align: right;\">30</td><td style = \"text-align: left;\">United States</td><td style = \"text-align: right;\">4.59e9</td><td style = \"text-align: right;\">1530000000</td></tr></tbody></table></div>"
      ],
      "text/latex": [
       "\\begin{tabular}{r|ccc}\n",
       "\t& country & emission & sink ton/yr\\\\\n",
       "\t\\hline\n",
       "\t& String31 & Float64 & Int64\\\\\n",
       "\t\\hline\n",
       "\t1 & Argentina & 1.98e8 & 179000000 \\\\\n",
       "\t2 & Australia & 3.89e8 & 287000000 \\\\\n",
       "\t3 & Brazil & 8.19e8 & 1810000000 \\\\\n",
       "\t4 & Canada & 6.15e8 & 1360000000 \\\\\n",
       "\t5 & Chile & 3.35e7 & 275000000 \\\\\n",
       "\t6 & China & 1.01e10 & 749000000 \\\\\n",
       "\t7 & Colombia & 1.64e8 & 242000000 \\\\\n",
       "\t8 & Congo & 6.82e8 & 1500000000 \\\\\n",
       "\t9 & Finland & 4.77e7 & 76800000 \\\\\n",
       "\t10 & France & 2.39e8 & 132000000 \\\\\n",
       "\t11 & Germany & 6.28e8 & 100000000 \\\\\n",
       "\t12 & India & 2.42e9 & 115000000 \\\\\n",
       "\t13 & Indonesia & 1.48e9 & 644000000 \\\\\n",
       "\t14 & Iran & 6.3e8 & 3610000 \\\\\n",
       "\t15 & Japan & 1.05e9 & 171000000 \\\\\n",
       "\t16 & Kazakhstan & 2.09e8 & 26700000 \\\\\n",
       "\t17 & Malaysia & 3.34e8 & 114000000 \\\\\n",
       "\t18 & Mexico & 4.64e8 & 211000000 \\\\\n",
       "\t19 & Norway & 1.7e7 & 52800000 \\\\\n",
       "\t20 & Peru & 1.47e8 & 173000000 \\\\\n",
       "\t21 & Philippines & 1.48e8 & 96200000 \\\\\n",
       "\t22 & Portugal & 4.49e7 & 14200000 \\\\\n",
       "\t23 & Russia & 1.15e9 & 400000000 \\\\\n",
       "\t24 & Saudi arabia & 5.24e8 & 160000 \\\\\n",
       "\t25 & South Africa & 4.46e8 & 40400000 \\\\\n",
       "\t26 & South korea & 5.65e8 & 39600000 \\\\\n",
       "\t27 & Turkey & 3.68e8 & 25000000 \\\\\n",
       "\t28 & Ukraine & 1.63e8 & 91500000 \\\\\n",
       "\t29 & United Arab Emirates & 1.89e8 & 1800000 \\\\\n",
       "\t30 & United States & 4.59e9 & 1530000000 \\\\\n",
       "\\end{tabular}\n"
      ],
      "text/plain": [
       "\u001b[1m30×3 DataFrame\u001b[0m\n",
       "\u001b[1m Row \u001b[0m│\u001b[1m country              \u001b[0m\u001b[1m emission \u001b[0m\u001b[1m sink ton/yr \u001b[0m\n",
       "     │\u001b[90m String31             \u001b[0m\u001b[90m Float64  \u001b[0m\u001b[90m Int64       \u001b[0m\n",
       "─────┼─────────────────────────────────────────────\n",
       "   1 │ Argentina              1.98e8     179000000\n",
       "   2 │ Australia              3.89e8     287000000\n",
       "   3 │ Brazil                 8.19e8    1810000000\n",
       "   4 │ Canada                 6.15e8    1360000000\n",
       "   5 │ Chile                  3.35e7     275000000\n",
       "   6 │ China                  1.01e10    749000000\n",
       "   7 │ Colombia               1.64e8     242000000\n",
       "   8 │ Congo                  6.82e8    1500000000\n",
       "   9 │ Finland                4.77e7      76800000\n",
       "  10 │ France                 2.39e8     132000000\n",
       "  11 │ Germany                6.28e8     100000000\n",
       "  ⋮  │          ⋮               ⋮           ⋮\n",
       "  21 │ Philippines            1.48e8      96200000\n",
       "  22 │ Portugal               4.49e7      14200000\n",
       "  23 │ Russia                 1.15e9     400000000\n",
       "  24 │ Saudi arabia           5.24e8        160000\n",
       "  25 │ South Africa           4.46e8      40400000\n",
       "  26 │ South korea            5.65e8      39600000\n",
       "  27 │ Turkey                 3.68e8      25000000\n",
       "  28 │ Ukraine                1.63e8      91500000\n",
       "  29 │ United Arab Emirates   1.89e8       1800000\n",
       "  30 │ United States          4.59e9    1530000000\n",
       "\u001b[36m                                     9 rows omitted\u001b[0m"
      ]
     },
     "execution_count": 150,
     "metadata": {},
     "output_type": "execute_result"
    }
   ],
   "source": [
    "emi_sink"
   ]
  },
  {
   "cell_type": "code",
   "execution_count": null,
   "id": "fd2a375d",
   "metadata": {},
   "outputs": [],
   "source": []
  },
  {
   "cell_type": "code",
   "execution_count": null,
   "id": "5267e882",
   "metadata": {},
   "outputs": [],
   "source": []
  }
 ],
 "metadata": {
  "kernelspec": {
   "display_name": "Julia 1.8.3",
   "language": "julia",
   "name": "julia-1.8"
  },
  "language_info": {
   "file_extension": ".jl",
   "mimetype": "application/julia",
   "name": "julia",
   "version": "1.8.3"
  }
 },
 "nbformat": 4,
 "nbformat_minor": 5
}
