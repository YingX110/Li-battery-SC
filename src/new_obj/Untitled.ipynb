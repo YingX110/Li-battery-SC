{
 "cells": [
  {
   "cell_type": "code",
   "execution_count": 1,
   "id": "16235604",
   "metadata": {},
   "outputs": [],
   "source": [
    "import numpy as np\n",
    "import gurobipy as gp\n",
    "from gurobipy import GRB"
   ]
  },
  {
   "cell_type": "code",
   "execution_count": 5,
   "id": "213cf00f",
   "metadata": {},
   "outputs": [],
   "source": [
    "m.setObjective(i @ x + gp.quicksum(c @ y[:,k] * p[k] for k in range(K)))\n",
    "m.addConstr(i @ x <= B)\n",
    "m.optimize()"
   ]
  },
  {
   "cell_type": "code",
   "execution_count": 7,
   "id": "cc37ef59",
   "metadata": {},
   "outputs": [
    {
     "name": "stdout",
     "output_type": "stream",
     "text": [
      "Our Server farm will cost $1005.32. We should buy 50.0 CPUs, 4.0 GPUs, and 10.0 TPUs \n"
     ]
    }
   ],
   "source": [
    "\n",
    "# SOLVING\n",
    "\n",
    "result = x.x\n",
    "\n",
    "print(f\"Our Server farm will cost ${np.round(m.ObjVal,2)}. We should buy {result[0]} CPUs, {result[1]} GPUs, and {result[2]} TPUs \")"
   ]
  },
  {
   "cell_type": "code",
   "execution_count": null,
   "id": "97bac4d4",
   "metadata": {},
   "outputs": [],
   "source": []
  }
 ],
 "metadata": {
  "kernelspec": {
   "display_name": "base",
   "language": "python",
   "name": "base"
  },
  "language_info": {
   "codemirror_mode": {
    "name": "ipython",
    "version": 3
   },
   "file_extension": ".py",
   "mimetype": "text/x-python",
   "name": "python",
   "nbconvert_exporter": "python",
   "pygments_lexer": "ipython3",
   "version": "3.8.5"
  }
 },
 "nbformat": 4,
 "nbformat_minor": 5
}
