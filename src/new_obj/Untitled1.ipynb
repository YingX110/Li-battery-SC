{
 "cells": [
  {
   "cell_type": "code",
   "execution_count": 13,
   "id": "e19190b0",
   "metadata": {},
   "outputs": [],
   "source": [
    "using JuMP, Gurobi\n",
    "using CSV, LinearAlgebra, DataFrames\n",
    "using Plots\n",
    "using DelimitedFiles"
   ]
  },
  {
   "cell_type": "code",
   "execution_count": 24,
   "id": "11556832",
   "metadata": {},
   "outputs": [
    {
     "name": "stdout",
     "output_type": "stream",
     "text": [
      "Academic license - for non-commercial use only - expires 2024-12-26\r\n"
     ]
    }
   ],
   "source": [
    "model = Model(Gurobi.Optimizer)\n",
    "@variable(model, w)\n",
    "@variable(model, 1 <= x <= 10)\n",
    "@variable(model, 0 <= y <= 10)\n",
    "@constraint(model, w >= 2 * x + 3 * y);"
   ]
  },
  {
   "cell_type": "code",
   "execution_count": 25,
   "id": "d2e4f4c1",
   "metadata": {},
   "outputs": [],
   "source": [
    "@objective(model, Min, w);"
   ]
  },
  {
   "cell_type": "code",
   "execution_count": 26,
   "id": "9d8e6ffa",
   "metadata": {},
   "outputs": [
    {
     "name": "stdout",
     "output_type": "stream",
     "text": [
      "Gurobi Optimizer version 9.1.2 build v9.1.2rc0 (win64)\r\n",
      "Thread count: 6 physical cores, 12 logical processors, using up to 12 threads\r\n",
      "Optimize a model with 1 rows, 3 columns and 3 nonzeros\r\n",
      "Model fingerprint: 0x74fe810a\r\n",
      "Coefficient statistics:\r\n",
      "  Matrix range     [1e+00, 3e+00]\r\n",
      "  Objective range  [1e+00, 1e+00]\r\n",
      "  Bounds range     [1e+00, 1e+01]\r\n",
      "  RHS range        [0e+00, 0e+00]\r\n",
      "Presolve removed 1 rows and 3 columns\r\n",
      "Presolve time: 0.00s\r\n",
      "Presolve: All rows and columns removed\r\n",
      "Iteration    Objective       Primal Inf.    Dual Inf.      Time\r\n",
      "       0    2.0000000e+00   0.000000e+00   0.000000e+00      0s\r\n",
      "\r\n",
      "Solved in 0 iterations and 0.00 seconds\r\n",
      "Optimal objective  2.000000000e+00\r\n",
      "\r\n",
      "User-callback calls 24, time in user-callback 0.00 sec\r\n"
     ]
    }
   ],
   "source": [
    "JuMP.optimize!(model)"
   ]
  },
  {
   "cell_type": "code",
   "execution_count": 27,
   "id": "0638ce2d",
   "metadata": {},
   "outputs": [
    {
     "name": "stdout",
     "output_type": "stream",
     "text": [
      "Academic license - for non-commercial use only - expires 2024-12-26\r\n",
      "Gurobi Optimizer version 9.1.2 build v9.1.2rc0 (win64)\r\n",
      "Thread count: 6 physical cores, 12 logical processors, using up to 12 threads\r\n",
      "Optimize a model with 0 rows, 2 columns and 0 nonzeros\r\n",
      "Model fingerprint: 0xe7d1ade3\r\n",
      "Coefficient statistics:\r\n",
      "  Matrix range     [0e+00, 0e+00]\r\n",
      "  Objective range  [2e+00, 3e+00]\r\n",
      "  Bounds range     [1e+00, 1e+01]\r\n",
      "  RHS range        [0e+00, 0e+00]\r\n",
      "Presolve removed 0 rows and 2 columns\r\n",
      "Presolve time: 0.00s\r\n",
      "Presolve: All rows and columns removed\r\n",
      "Iteration    Objective       Primal Inf.    Dual Inf.      Time\r\n",
      "       0    2.0000000e+00   0.000000e+00   0.000000e+00      0s\r\n",
      "\r\n",
      "Solved in 0 iterations and 0.00 seconds\r\n",
      "Optimal objective  2.000000000e+00\r\n",
      "\r\n",
      "User-callback calls 20, time in user-callback 0.00 sec\r\n"
     ]
    }
   ],
   "source": [
    "model = Model(Gurobi.Optimizer)\n",
    "@variable(model, 1 <= x <= 10)\n",
    "@variable(model, 0 <= y <= 10)\n",
    "\n",
    "@objective(model, Min, 2 * x + 3 * y)\n",
    "JuMP.optimize!(model);"
   ]
  },
  {
   "cell_type": "code",
   "execution_count": null,
   "id": "df0b7af8",
   "metadata": {},
   "outputs": [],
   "source": []
  }
 ],
 "metadata": {
  "kernelspec": {
   "display_name": "Julia 1.8.3",
   "language": "julia",
   "name": "julia-1.8"
  },
  "language_info": {
   "file_extension": ".jl",
   "mimetype": "application/julia",
   "name": "julia",
   "version": "1.8.3"
  }
 },
 "nbformat": 4,
 "nbformat_minor": 5
}
