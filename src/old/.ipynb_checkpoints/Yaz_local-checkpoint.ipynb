{
 "cells": [
  {
   "cell_type": "code",
   "execution_count": 1,
   "id": "646a7345",
   "metadata": {},
   "outputs": [],
   "source": [
    "using Pkg"
   ]
  },
  {
   "cell_type": "code",
   "execution_count": 2,
   "id": "a33c8be4",
   "metadata": {},
   "outputs": [],
   "source": [
    "# Pkg.activate(\"batterySC\")"
   ]
  },
  {
   "cell_type": "code",
   "execution_count": 3,
   "id": "c4966677",
   "metadata": {},
   "outputs": [
    {
     "name": "stdout",
     "output_type": "stream",
     "text": [
      "\u001b[36m\u001b[1mProject\u001b[22m\u001b[39m batterySC v0.1.0\n",
      "\u001b[32m\u001b[1mStatus\u001b[22m\u001b[39m `C:\\Users\\bourg\\.julia\\environments\\batterySC\\Project.toml`\n",
      " \u001b[90m [336ed68f] \u001b[39mCSV v0.10.7\n",
      " \u001b[90m [a93c6f00] \u001b[39mDataFrames v1.4.4\n",
      "\u001b[32m⌃\u001b[39m\u001b[90m [2e9cd046] \u001b[39mGurobi v0.9.12\n",
      " \u001b[90m [7073ff75] \u001b[39mIJulia v1.23.3\n",
      "\u001b[32m⌃\u001b[39m\u001b[90m [4076af6c] \u001b[39mJuMP v0.21.10\n",
      "\u001b[33m⌅\u001b[39m\u001b[90m [b8f27783] \u001b[39mMathOptInterface v0.9.22\n",
      "\u001b[32m⌃\u001b[39m\u001b[90m [c3e4b0f8] \u001b[39mPluto v0.19.9\n",
      " \u001b[90m [37e2e46d] \u001b[39mLinearAlgebra\n",
      "\u001b[36m\u001b[1mInfo\u001b[22m\u001b[39m Packages marked with \u001b[32m⌃\u001b[39m and \u001b[33m⌅\u001b[39m have new versions available, but those with \u001b[33m⌅\u001b[39m are restricted by compatibility constraints from upgrading. To see why use `status --outdated`\n"
     ]
    }
   ],
   "source": [
    "Pkg.status()"
   ]
  },
  {
   "cell_type": "code",
   "execution_count": 4,
   "id": "0f6fa371",
   "metadata": {},
   "outputs": [],
   "source": [
    "using JuMP, Gurobi\n",
    "using CSV, LinearAlgebra, DataFrames"
   ]
  },
  {
   "cell_type": "code",
   "execution_count": 13,
   "id": "d1aedda5",
   "metadata": {},
   "outputs": [],
   "source": [
    "Cdata = CSV.File(\"C:/Users/bourg/.julia/environments/batterySC/data/Julia_country.csv\",header=1,delim=\",\") |> DataFrame;"
   ]
  },
  {
   "cell_type": "code",
   "execution_count": 35,
   "id": "38e8e585",
   "metadata": {},
   "outputs": [],
   "source": [
    "#load the data and orgnize \n",
    "Cdata = CSV.File(\"C:/Users/bourg/.julia/environments/batterySC/data/Julia_country.csv\",header=1,delim=\",\") |> DataFrame    #country data (Supply,Demand,Dsoc)\n",
    "Combo = CSV.File(\"C:/Users/bourg/.julia/environments/batterySC/data/Julia_combo.csv\",header=1,delim=\",\") |> DataFrame;   #Job country combinations "
   ]
  },
  {
   "cell_type": "code",
   "execution_count": 36,
   "id": "68606b06",
   "metadata": {},
   "outputs": [],
   "source": [
    "Jobs_names = names(Combo)[2:size(Combo,2)]\n",
    "com = Combo[1:size(Combo,1),2:size(Combo,2)]; #combination of job work "
   ]
  },
  {
   "cell_type": "code",
   "execution_count": 37,
   "id": "6dd91507",
   "metadata": {},
   "outputs": [],
   "source": [
    "country_names= Cdata[!,\"Country\"]\n",
    "S= Cdata[!,\"S\"] #supply  nx1\n",
    "D= Cdata[!,\"D\"] #Demand  nx1\n",
    "Dsoc= Cdata[!,\"Dsoc\"]; #Social Demand nx1 "
   ]
  },
  {
   "cell_type": "code",
   "execution_count": 38,
   "id": "d4efe5c2",
   "metadata": {},
   "outputs": [],
   "source": [
    "#parameters \n",
    "m= size(Jobs_names,1); # no. of jobs\n",
    "n= size(S,1); #no of countries"
   ]
  },
  {
   "cell_type": "code",
   "execution_count": 44,
   "id": "dc85ecfc",
   "metadata": {},
   "outputs": [
    {
     "name": "stdout",
     "output_type": "stream",
     "text": [
      "Academic license - for non-commercial use only - expires 2023-11-27\r\n"
     ]
    }
   ],
   "source": [
    "model= Model(Gurobi.Optimizer)\n",
    "set_optimizer_attribute(model, \"NonConvex\", 2);\n",
    "\n",
    "#variables \n",
    "@variable(model, 0 <= x[1:n, 1:m] <= 1) # whether to select the country? elements in x could only be 0 or 1\n",
    "@variable(model, obj >= 0);\n",
    "\n",
    "#Constraints \n",
    "@constraint(model, job_full[j in 1:m], sum(x[i, j] for i in 1:n) == 1) # each job is assigned to only 1 country\n",
    "@constraint(model, country_job[i in 1:n, j in 1:m], x[i, j] <= com[i,j]) # only candidate countries can do the job\n",
    "@constraint(model, obj*(sum(S'*x)) == (sum(D'*x)));\n",
    "\n",
    "# Objective\n",
    "@objective(model, Min, obj);"
   ]
  },
  {
   "cell_type": "code",
   "execution_count": 4,
   "id": "2443f8ba",
   "metadata": {},
   "outputs": [
    {
     "name": "stdout",
     "output_type": "stream",
     "text": [
      "Gurobi Optimizer version 9.1.2 build v9.1.2rc0 (win64)\r\n",
      "Thread count: 8 physical cores, 16 logical processors, using up to 16 threads\r\n",
      "Optimize a model with 481 rows, 469 columns and 936 nonzeros\r\n",
      "Model fingerprint: 0x5e9c2f1f\r\n",
      "Model has 1 quadratic constraint\r\n",
      "Coefficient statistics:\r\n",
      "  Matrix range     [1e+00, 1e+00]\r\n",
      "  QMatrix range    [2e+09, 2e+12]\r\n",
      "  QLMatrix range   [2e+10, 1e+13]\r\n",
      "  Objective range  [1e+00, 1e+00]\r\n",
      "  Bounds range     [1e+00, 1e+00]\r\n",
      "  RHS range        [1e+00, 1e+00]\r\n",
      "Warning: Quadratic constraint contains large coefficients\r\n",
      "Warning: Quadratic constraint contains large coefficients on linear part\r\n",
      "         Consider reformulating model or setting NumericFocus parameter\r\n",
      "         to avoid numerical issues.\r\n",
      "Presolve removed 468 rows and 375 columns\r\n",
      "\r\n",
      "Continuous model is non-convex -- solving as a MIP.\r\n",
      "\r\n",
      "Presolve removed 468 rows and 375 columns\r\n",
      "Presolve time: 0.00s\r\n",
      "Presolved: 386 rows, 188 columns, 930 nonzeros\r\n",
      "Presolved model has 93 bilinear constraint(s)\r\n",
      "Variable types: 188 continuous, 0 integer (0 binary)\r\n",
      "\r\n",
      "Root relaxation: objective 6.844388e-02, 105 iterations, 0.00 seconds\r\n",
      "\r\n",
      "    Nodes    |    Current Node    |     Objective Bounds      |     Work\r\n",
      " Expl Unexpl |  Obj  Depth IntInf | Incumbent    BestBd   Gap | It/Node Time\r\n",
      "\r\n",
      "     0     0    0.06844    0   84          -    0.06844      -     -    0s\r\n",
      "     0     0    0.06844    0   80          -    0.06844      -     -    0s\r\n",
      "     0     2    0.06844    0   80          -    0.06844      -     -    0s\r\n",
      "*    4     2               2      12.7053424    0.10343  99.2%   147    0s\r\n",
      "*    6     2               3       2.7032753    0.23495  91.3%   138    0s\r\n",
      "*    8     2               4       1.3916838    0.89082  36.0%   143    0s\r\n",
      "*   15     2               8       1.2502821    1.24314  0.57%  85.6    0s\r\n",
      "*   17     0               9       1.2441323    1.24359  0.04%  75.6    0s\r\n",
      "\r\n",
      "Explored 19 nodes (1705 simplex iterations) in 0.05 seconds\r\n",
      "Thread count was 16 (of 16 available processors)\r\n",
      "\r\n",
      "Solution count 5: 1.24413 1.25028 1.39168 ... 12.7053\r\n",
      "\r\n",
      "Optimal solution found (tolerance 1.00e-04)\r\n",
      "Warning: max constraint violation (4.8828e-04) exceeds tolerance\r\n",
      "Best objective 1.244132261862e+00, best bound 1.244132261862e+00, gap 0.0000%\r\n",
      "\r\n",
      "User-callback calls 118, time in user-callback 0.00 sec\r\n"
     ]
    }
   ],
   "source": [
    "#optimize           \n",
    "JuMP.optimize!(model)"
   ]
  },
  {
   "cell_type": "code",
   "execution_count": 5,
   "id": "0619b455",
   "metadata": {},
   "outputs": [
    {
     "data": {
      "text/plain": [
       "36×13 Matrix{Float64}:\n",
       " 0.0  0.0  0.0  0.0  0.0  0.0  0.0  0.0  0.0  0.0  0.0  0.0  0.0\n",
       " 0.0  0.0  0.0  0.0  0.0  0.0  0.0  0.0  0.0  0.0  0.0  0.0  0.0\n",
       " 0.0  0.0  0.0  0.0  0.0  0.0  0.0  0.0  0.0  0.0  0.0  0.0  0.0\n",
       " 0.0  0.0  0.0  0.0  0.0  0.0  0.0  0.0  0.0  0.0  0.0  0.0  0.0\n",
       " 0.0  1.0  1.0  1.0  0.0  1.0  0.0  0.0  0.0  0.0  0.0  0.0  0.0\n",
       " 1.0  0.0  0.0  0.0  0.0  0.0  0.0  0.0  0.0  0.0  0.0  0.0  0.0\n",
       " 0.0  0.0  0.0  0.0  0.0  0.0  0.0  0.0  0.0  0.0  0.0  0.0  0.0\n",
       " 0.0  0.0  0.0  0.0  0.0  0.0  0.0  0.0  0.0  0.0  0.0  0.0  0.0\n",
       " 0.0  0.0  0.0  0.0  1.0  0.0  0.0  0.0  0.0  0.0  0.0  0.0  0.0\n",
       " 0.0  0.0  0.0  0.0  0.0  0.0  0.0  0.0  0.0  0.0  0.0  0.0  0.0\n",
       " 0.0  0.0  0.0  0.0  0.0  0.0  0.0  0.0  0.0  0.0  0.0  0.0  0.0\n",
       " 0.0  0.0  0.0  0.0  0.0  0.0  0.0  0.0  0.0  0.0  0.0  0.0  0.0\n",
       " 0.0  0.0  0.0  0.0  0.0  0.0  0.0  0.0  0.0  0.0  0.0  0.0  0.0\n",
       " ⋮                        ⋮                        ⋮         \n",
       " 0.0  0.0  0.0  0.0  0.0  0.0  0.0  0.0  0.0  0.0  0.0  0.0  0.0\n",
       " 0.0  0.0  0.0  0.0  0.0  0.0  0.0  0.0  0.0  0.0  0.0  0.0  0.0\n",
       " 0.0  0.0  0.0  0.0  0.0  0.0  0.0  0.0  0.0  0.0  0.0  0.0  0.0\n",
       " 0.0  0.0  0.0  0.0  0.0  0.0  0.0  0.0  0.0  0.0  0.0  0.0  0.0\n",
       " 0.0  0.0  0.0  0.0  0.0  0.0  0.0  0.0  0.0  0.0  0.0  0.0  0.0\n",
       " 0.0  0.0  0.0  0.0  0.0  0.0  1.0  0.0  0.0  0.0  0.0  0.0  0.0\n",
       " 0.0  0.0  0.0  0.0  0.0  0.0  0.0  0.0  0.0  0.0  0.0  0.0  0.0\n",
       " 0.0  0.0  0.0  0.0  0.0  0.0  0.0  0.0  0.0  0.0  0.0  0.0  0.0\n",
       " 0.0  0.0  0.0  0.0  0.0  0.0  0.0  0.0  0.0  0.0  0.0  0.0  0.0\n",
       " 0.0  0.0  0.0  0.0  0.0  0.0  0.0  0.0  0.0  0.0  0.0  0.0  0.0\n",
       " 0.0  0.0  0.0  0.0  0.0  0.0  0.0  0.0  0.0  0.0  0.0  0.0  0.0\n",
       " 0.0  0.0  0.0  0.0  0.0  0.0  0.0  0.0  0.0  0.0  0.0  0.0  0.0"
      ]
     },
     "execution_count": 5,
     "metadata": {},
     "output_type": "execute_result"
    }
   ],
   "source": [
    "solution = JuMP.value.(x)"
   ]
  },
  {
   "cell_type": "code",
   "execution_count": 6,
   "id": "24a68157",
   "metadata": {},
   "outputs": [
    {
     "name": "stdout",
     "output_type": "stream",
     "text": [
      "\n",
      "Objective value): 1.244132261861857\n"
     ]
    }
   ],
   "source": [
    "#Print the results\n",
    "        \n",
    "# solution = JuMP.value.(x) #??? \n",
    "println(\"\\nObjective value): \", JuMP.objective_value(model)) "
   ]
  },
  {
   "cell_type": "code",
   "execution_count": 7,
   "id": "ae216619",
   "metadata": {},
   "outputs": [
    {
     "data": {
      "text/plain": [
       "myfind (generic function with 1 method)"
      ]
     },
     "execution_count": 7,
     "metadata": {},
     "output_type": "execute_result"
    }
   ],
   "source": [
    "function myfind(c)\n",
    "    a = similar(c, Int)\n",
    "    count = 1\n",
    "    @inbounds for i in eachindex(c)\n",
    "        a[count] = i\n",
    "        count += (c[i] != zero(eltype(c)))\n",
    "    end\n",
    "    return resize!(a, count-1)\n",
    "end"
   ]
  },
  {
   "cell_type": "code",
   "execution_count": 8,
   "id": "601d7047",
   "metadata": {},
   "outputs": [
    {
     "name": "stdout",
     "output_type": "stream",
     "text": [
      "Mining_Li :String31[\"Chile\"]\n",
      "Mining_Co :String31[\"Canada\"]\n",
      "Mining_Ni :String31[\"Canada\"]\n",
      "Mining_Graphite :String31[\"Canada\"]\n",
      "Mining_Mn :String31[\"Cote dIvoire\"]\n",
      "Processing_Li2CO3_LiOH :String31[\"Canada\"]\n",
      "Processing_CoSO4_NiSO4 :String31[\"Russia\"]\n",
      "Processing_MnSO4 :String31[\"Netherlands\"]\n",
      "Production_Cathode :String31[\"Korea\"]\n",
      "Production_Anode :String31[\"Korea\"]\n",
      "Production_Separators :String31[\"Korea\"]\n",
      "Production_Electrolytes :String31[\"Korea\"]\n",
      "Production_Cell_Pack :String31[\"Hungary\"]\n"
     ]
    }
   ],
   "source": [
    "for i in 1:size(solution,2)\n",
    "    print(Jobs_names[i])\n",
    "    print(\" :\")\n",
    "    println(country_names[myfind(solution[:,i])])\n",
    "end"
   ]
  },
  {
   "cell_type": "code",
   "execution_count": 30,
   "id": "28a9521c",
   "metadata": {},
   "outputs": [
    {
     "name": "stdout",
     "output_type": "stream",
     "text": [
      "Academic license - for non-commercial use only - expires 2023-10-02\r\n"
     ]
    }
   ],
   "source": [
    "just= Model(Gurobi.Optimizer)\n",
    "set_optimizer_attribute(just, \"NonConvex\", 2)\n",
    "#variables \n",
    "@variable(just, 0 <= x[1:n, 1:m] <= 1);\n",
    "@variable(just, obj >=0);\n",
    "\n",
    "#Constraints \n",
    "@constraint(just, job_full[j in 1:m], sum(x[i, j] for i in 1:n) == 1);\n",
    "@constraint(just, country_job[i in 1:n, j in 1:m], x[i, j] <= com[i,j]);\n",
    "@constraint(just, obj*(sum(D'*x)) == (sum(Dsoc'*x)))\n",
    "\n",
    "\n",
    "@objective(just, Min, obj);"
   ]
  },
  {
   "cell_type": "code",
   "execution_count": 51,
   "id": "a3e909a4",
   "metadata": {},
   "outputs": [
    {
     "name": "stdout",
     "output_type": "stream",
     "text": [
      "Academic license - for non-commercial use only - expires 2023-11-27\r\n",
      "Min obj\n",
      "Subject to\n",
      " job_full[1] : x[1,1] + x[2,1] == 1.0\n",
      " job_full[2] : x[1,2] + x[2,2] == 1.0\n",
      " job_full[3] : x[1,3] + x[2,3] == 1.0\n",
      " x[1,1] >= 0.0\n",
      " x[2,1] >= 0.0\n",
      " x[1,2] >= 0.0\n",
      " x[2,2] >= 0.0\n",
      " x[1,3] >= 0.0\n",
      " x[2,3] >= 0.0\n",
      " obj >= 0.0\n",
      " x[1,1] <= 1.0\n",
      " x[2,1] <= 1.0\n",
      " x[1,2] <= 1.0\n",
      " x[2,2] <= 1.0\n",
      " x[1,3] <= 1.0\n",
      " x[2,3] <= 1.0\n",
      "\n"
     ]
    }
   ],
   "source": [
    "just= Model(Gurobi.Optimizer)\n",
    "set_optimizer_attribute(just, \"NonConvex\", 2)\n",
    "#variables \n",
    "n = 2;\n",
    "m = 3;\n",
    "@variable(just, 0 <= x[1:n, 1:m] <= 1);\n",
    "@variable(just, obj >=0);\n",
    "\n",
    "#Constraints \n",
    "@constraint(just, job_full[j in 1:m], sum(x[i, j] for i in 1:n) == 1);\n",
    "@constraint(just, country_job[i in 1:n, j in 1:m], x[i, j] <= com[i,j]);\n",
    "@constraint(just, obj*(sum(D'*x)) == (sum(Dsoc'*x)))\n",
    "\n",
    "@objective(just, Min, obj);\n",
    "\n",
    "println(just)"
   ]
  },
  {
   "cell_type": "code",
   "execution_count": 58,
   "id": "4f4d84c1",
   "metadata": {},
   "outputs": [
    {
     "data": {
      "text/plain": [
       "2"
      ]
     },
     "execution_count": 58,
     "metadata": {},
     "output_type": "execute_result"
    }
   ],
   "source": [
    "ls[1]"
   ]
  },
  {
   "cell_type": "code",
   "execution_count": 59,
   "id": "6db83c47",
   "metadata": {},
   "outputs": [
    {
     "data": {
      "text/plain": [
       "3-element Vector{ConstraintRef{Model, MathOptInterface.ConstraintIndex{MathOptInterface.ScalarAffineFunction{Float64}, MathOptInterface.LessThan{Float64}}, ScalarShape}}:\n",
       " c[1] : x[1] <= 2.0\n",
       " c[2] : x[2] <= 5.0\n",
       " c[3] : x[3] <= 1.0"
      ]
     },
     "execution_count": 59,
     "metadata": {},
     "output_type": "execute_result"
    }
   ],
   "source": [
    "model = Model()\n",
    "@variable(model, x[1:3])\n",
    "ls = [2, 5, 1]\n",
    "@constraint(model, c[i=1:3], x[i] <= ls[i])"
   ]
  },
  {
   "cell_type": "code",
   "execution_count": 31,
   "id": "1836f4f8",
   "metadata": {},
   "outputs": [
    {
     "name": "stdout",
     "output_type": "stream",
     "text": [
      "Gurobi Optimizer version 9.1.2 build v9.1.2rc0 (win64)\r\n",
      "Thread count: 8 physical cores, 16 logical processors, using up to 16 threads\r\n",
      "Optimize a model with 481 rows, 469 columns and 936 nonzeros\r\n",
      "Model fingerprint: 0xa8d5034e\r\n",
      "Model has 1 quadratic constraint\r\n",
      "Coefficient statistics:\r\n",
      "  Matrix range     [1e+00, 1e+00]\r\n",
      "  QMatrix range    [2e+10, 1e+13]\r\n",
      "  QLMatrix range   [8e+08, 7e+11]\r\n",
      "  Objective range  [1e+00, 1e+00]\r\n",
      "  Bounds range     [1e+00, 1e+00]\r\n",
      "  RHS range        [1e+00, 1e+00]\r\n",
      "Warning: Quadratic constraint contains large coefficients\r\n",
      "Warning: Quadratic constraint contains large coefficients on linear part\r\n",
      "         Consider reformulating model or setting NumericFocus parameter\r\n",
      "         to avoid numerical issues.\r\n",
      "Presolve removed 468 rows and 375 columns\r\n",
      "\r\n",
      "Continuous model is non-convex -- solving as a MIP.\r\n",
      "\r\n",
      "Presolve removed 468 rows and 375 columns\r\n",
      "Presolve time: 0.00s\r\n",
      "Presolved: 386 rows, 188 columns, 930 nonzeros\r\n",
      "Presolved model has 93 bilinear constraint(s)\r\n",
      "Variable types: 188 continuous, 0 integer (0 binary)\r\n",
      "\r\n",
      "Root relaxation: objective 1.243159e-03, 95 iterations, 0.00 seconds\r\n",
      "\r\n",
      "    Nodes    |    Current Node    |     Objective Bounds      |     Work\r\n",
      " Expl Unexpl |  Obj  Depth IntInf | Incumbent    BestBd   Gap | It/Node Time\r\n",
      "\r\n",
      "     0     0    0.00124    0   71          -    0.00124      -     -    0s\r\n",
      "     0     0    0.00124    0   77          -    0.00124      -     -    0s\r\n",
      "     0     2    0.00124    0   77          -    0.00124      -     -    0s\r\n",
      "*   10     2               5       0.0628969    0.00167  97.3%   111    0s\r\n",
      "*   21     0              11       0.0213794    0.01920  10.2%   140    0s\r\n",
      "*   22     0              11       0.0193318    0.01933  0.00%   139    0s\r\n",
      "\r\n",
      "Explored 23 nodes (3461 simplex iterations) in 0.05 seconds\r\n",
      "Thread count was 16 (of 16 available processors)\r\n",
      "\r\n",
      "Solution count 3: 0.0193318 0.0213794 0.0628969 \r\n",
      "\r\n",
      "Optimal solution found (tolerance 1.00e-04)\r\n",
      "Best objective 1.933184586805e-02, best bound 1.933184586805e-02, gap 0.0000%\r\n",
      "\r\n",
      "User-callback calls 131, time in user-callback 0.00 sec\r\n"
     ]
    }
   ],
   "source": [
    "#optimize           \n",
    "JuMP.optimize!(just)"
   ]
  },
  {
   "cell_type": "code",
   "execution_count": 35,
   "id": "e1f525ae",
   "metadata": {},
   "outputs": [
    {
     "name": "stdout",
     "output_type": "stream",
     "text": [
      "Mining_Li :String31[\"Portugal\"]\n",
      "Mining_Co :String31[\"Canada\"]\n",
      "Mining_Ni :String31[\"Canada\"]\n",
      "Mining_Graphite :String31[\"Canada\"]\n",
      "Mining_Mn :String31[\"Malaysia\"]\n",
      "Processing_Li2CO3_LiOH :String31[\"Canada\"]\n",
      "Processing_CoSO4_NiSO4 :String31[\"United States\"]\n",
      "Processing_MnSO4 :String31[\"United States\"]\n",
      "Production_Cathode :String31[\"United States\"]\n",
      "Production_Anode :String31[\"Korea\"]\n",
      "Production_Separators :String31[\"Korea\"]\n",
      "Production_Electrolytes :String31[\"Korea\"]\n",
      "Production_Cell_Pack :String31[\"United States\"]\n"
     ]
    }
   ],
   "source": [
    "Jsolution = JuMP.value.(x);\n",
    "for i in 1:size(Jsolution,2)\n",
    "    print(Jobs_names[i])\n",
    "    print(\" :\")\n",
    "    println(country_names[myfind(Jsolution[:,i])])\n",
    "end"
   ]
  },
  {
   "cell_type": "code",
   "execution_count": null,
   "id": "822b53cc",
   "metadata": {},
   "outputs": [],
   "source": []
  },
  {
   "cell_type": "code",
   "execution_count": null,
   "id": "0dcc1582",
   "metadata": {},
   "outputs": [],
   "source": []
  }
 ],
 "metadata": {
  "kernelspec": {
   "display_name": "Julia 1.8.3",
   "language": "julia",
   "name": "julia-1.8"
  },
  "language_info": {
   "file_extension": ".jl",
   "mimetype": "application/julia",
   "name": "julia",
   "version": "1.8.3"
  }
 },
 "nbformat": 4,
 "nbformat_minor": 5
}
