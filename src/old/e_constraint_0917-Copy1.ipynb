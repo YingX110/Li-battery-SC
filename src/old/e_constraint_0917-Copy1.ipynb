{
 "cells": [
  {
   "cell_type": "code",
   "execution_count": 2,
   "id": "19902866",
   "metadata": {},
   "outputs": [],
   "source": [
    "using JuMP, Gurobi\n",
    "using CSV, LinearAlgebra, DataFrames\n",
    "using Plots"
   ]
  },
  {
   "cell_type": "code",
   "execution_count": 3,
   "id": "fbe79368",
   "metadata": {},
   "outputs": [],
   "source": [
    "#load social and ecological data and orgnize \n",
    "FL = repeat([Float64], inner=15)\n",
    "dtype = append!([String], FL);\n",
    "\n",
    "regional_EF = CSV.File(\"C:/Users/bourg/.julia/environments/batterySC/Li-battery-SC/data/social/new_EF_SC1.csv\",header=1,delim=\",\", types=dtype) |> DataFrame    \n",
    "capacity = CSV.File(\"C:/Users/bourg/.julia/environments/batterySC/Li-battery-SC/data/social/capacity2.csv\",header=1,delim=\",\", types=dtype) |> DataFrame    \n",
    "distance = CSV.File(\"C:/Users/bourg/.julia/environments/batterySC/Li-battery-SC/data/social/distance.csv\",header=1,delim=\",\") |> DataFrame \n",
    "LCA_model = CSV.File(\"C:/Users/bourg/.julia/environments/batterySC/Li-battery-SC/data/social/LCA_model2.csv\",header=1,delim=\",\") |> DataFrame \n",
    "D_Dsoc = CSV.File(\"C:/Users/bourg/.julia/environments/batterySC/Li-battery-SC/data/social/D_Dsoc1.csv\",header=1,delim=\",\") |> DataFrame\n",
    "GDP = CSV.File(\"C:/Users/bourg/.julia/environments/batterySC/Li-battery-SC/data/social/GDP.csv\",header=1,delim=\",\") |> DataFrame;\n",
    "emi_sink = CSV.File(\"C:/Users/bourg/.julia/environments/batterySC/Li-battery-SC/data/SC_regional/emission_sink1.csv\",header=1,delim=\",\") |> DataFrame;\n"
   ]
  },
  {
   "cell_type": "markdown",
   "id": "a3b05322",
   "metadata": {},
   "source": [
    "### Ecological"
   ]
  },
  {
   "cell_type": "code",
   "execution_count": 4,
   "id": "00b8c425",
   "metadata": {},
   "outputs": [],
   "source": [
    "cell_demand = 0.001*164.98*(1.3*1e6)*2           # annual demand of Li battery for tesla (1.369M EV/yr, ~2 NMC111 pack/EV, 226 kg/pack (35kwh/pack), 80~100 kWh per EV)\n",
    "\n",
    "global_sink = 1.099e10                        # global pub (ocean) CO2 sequestration (ton/yr)\n",
    "global_sink_tot = 2.236e10                  # global total (ocean+land) CO2 sequestration (ton/yr)\n",
    "global_emi = 3.53e10                          # global CO2 emission (ton/yr)\n",
    "es_ratio = global_sink/global_emi\n",
    "es_ratio_tot = global_sink_tot/global_emi\n",
    "emission_c = emi_sink[!, \"emission\"]          # national CO2 emission (ton/yr)\n",
    "sink_c = emi_sink[!, \"sink ton/yr\"]           # national CO2 sink (ton/yr)\n",
    "\n",
    "D = D_Dsoc[!, \"D\"]          # national CO2 emission (ton/yr)\n",
    "Dsoc = D_Dsoc[!, \"Dsoc ton/yr\"]           # national CO2 sink (ton/yr)\n",
    "\n",
    "EF_trans = 1.005/10000                        # ton CO2/km*ton (The average freight truck in the U.S. emits 161.8 grams of CO2 per ton-mile)\n",
    "process = LCA_model[!,\"process\"]\n",
    "countries = capacity[!,\"country\"]\n",
    "ncty = size(countries,1)                          # No. of countries\n",
    "nproc = size(process,1);                          # No. of processes \n",
    "\n",
    "mkt_loc = findfirst(isequal(\"United States\"), countries)\n",
    "mkt_proc = findfirst(isequal(\"battery\"), process)\n",
    "\n",
    "# seperate model\n",
    "cathode = 1:4\n",
    "cell = 5:10\n",
    "noncell = [12,13]\n",
    "battery = [11,14]\n",
    "scaler = LCA_model[!,\"scaler\"]\n",
    "price = LCA_model[!,\"price (usd/ton product)\"]\n",
    "vGDP = GDP[!,\"GDP usd\"];"
   ]
  },
  {
   "cell_type": "code",
   "execution_count": 5,
   "id": "eb0fbf97",
   "metadata": {},
   "outputs": [],
   "source": [
    "up_cath = scaler[1:4] * scaler[5] * scaler[11]\n",
    "up_cell = scaler[5:10] * scaler[11]\n",
    "cell_sef = scaler[11]\n",
    "up_noncell = scaler[12:13] * scaler[14]\n",
    "noncell_sef = scaler[14]\n",
    "battery_sef = scaler[15];"
   ]
  },
  {
   "cell_type": "code",
   "execution_count": 6,
   "id": "9f6a9e7f",
   "metadata": {},
   "outputs": [],
   "source": [
    "input_amount = []\n",
    "input_amount = vcat(up_cath, up_cell, cell_sef, up_noncell, noncell_sef, battery_sef) .* cell_demand\n",
    "input_amount\n",
    "\n",
    "MktV = price .* input_amount ;  # ton"
   ]
  },
  {
   "cell_type": "markdown",
   "id": "fe92b0ca",
   "metadata": {},
   "source": [
    "---"
   ]
  },
  {
   "cell_type": "code",
   "execution_count": 7,
   "id": "97913613",
   "metadata": {},
   "outputs": [
    {
     "name": "stdout",
     "output_type": "stream",
     "text": [
      "Academic license - for non-commercial use only - expires 2023-11-27\r\n"
     ]
    }
   ],
   "source": [
    "model = Model(Gurobi.Optimizer);"
   ]
  },
  {
   "cell_type": "code",
   "execution_count": 8,
   "id": "3fefda83",
   "metadata": {},
   "outputs": [],
   "source": [
    "#variables \n",
    "@variable(model, x[1:ncty, 1:nproc] >= 0)            # x[i,k] production amount of product k at location i\n",
    "@variable(model, y[1:ncty, 1:ncty, 1:nproc] >= 0)   # y[i,j,k] ship product k from i to j \n",
    "@variable(model, delta[1:ncty], binary=true);"
   ]
  },
  {
   "cell_type": "code",
   "execution_count": 9,
   "id": "bad7e976",
   "metadata": {},
   "outputs": [],
   "source": [
    "# capacity constraint: x[i,k] <= capacity[i][k]\n",
    "for k in 1:nproc\n",
    "    for i in 1:ncty\n",
    "        @constraint(model, x[i,k] <= capacity[!, 2:end][i,k])\n",
    "    end\n",
    "end\n",
    "\n",
    "\n",
    "# node output flow constraint\n",
    "for k in 1:nproc\n",
    "    for i in 1:ncty\n",
    "        @constraint(model, sum(y[i,j,k] for j in 1:ncty) == x[i,k])\n",
    "    end\n",
    "end\n",
    "\n",
    "\n",
    "# node output flow to market y[i,38, 15]\n",
    "for i in 1:ncty\n",
    "    for j in [e for e in 1:ncty if e != mkt_loc]\n",
    "        @constraint(model, y[i,j,mkt_proc] == 0)\n",
    "    end\n",
    "end\n",
    "\n",
    "\n",
    "for k in 1:nproc-1\n",
    "    @constraint(model, sum(x[i,k] for i in 1:ncty) == input_amount[k])\n",
    "end\n",
    "\n",
    "\n",
    "# final demand constraint\n",
    "@constraint(model, sum(y[i,mkt_loc,mkt_proc] for i in 1:ncty) == cell_demand);"
   ]
  },
  {
   "cell_type": "code",
   "execution_count": 10,
   "id": "fb93de5c",
   "metadata": {},
   "outputs": [],
   "source": [
    "# cathode LCA constraints (index=5)\n",
    "for k in cathode\n",
    "    for j in 1:ncty\n",
    "        @constraint(model, sum(y[i,j,k] for i in 1:ncty) == x[j,5] * scaler[k])\n",
    "    end\n",
    "end\n",
    "\n",
    "\n",
    "# cell LCA constraints (index=11)\n",
    "for k in cell\n",
    "    for j in 1:ncty\n",
    "        @constraint(model, sum(y[i,j,k] for i in 1:ncty) == x[j,11] * scaler[k])\n",
    "    end\n",
    "end\n",
    "\n",
    "\n",
    "# non cell LCA constraints (index=14)\n",
    "for k in noncell\n",
    "    for j in 1:ncty\n",
    "        @constraint(model, sum(y[i,j,k] for i in 1:ncty) == x[j,14] * scaler[k])\n",
    "    end\n",
    "end\n",
    "\n",
    "\n",
    "# battery LCA constraints (index=15)\n",
    "for k in battery\n",
    "    for j in 1:ncty\n",
    "        @constraint(model, sum(y[i,j,k] for i in 1:ncty) == x[j,15] * scaler[k])\n",
    "    end\n",
    "end"
   ]
  },
  {
   "cell_type": "code",
   "execution_count": null,
   "id": "96695f07",
   "metadata": {},
   "outputs": [],
   "source": []
  },
  {
   "cell_type": "code",
   "execution_count": 11,
   "id": "4fae0019",
   "metadata": {},
   "outputs": [],
   "source": [
    "# 1. production emission (TES)\n",
    "val_x = zeros(ncty, nproc)\n",
    "\n",
    "for k in 1:nproc\n",
    "    for i in 1:ncty\n",
    "        val_x[i,k] = regional_EF[i, k+1] * (1 - sink_c[i]/emission_c[i] - es_ratio)\n",
    "    end\n",
    "end\n",
    "\n",
    "proc_emi = sum(x .* val_x);"
   ]
  },
  {
   "cell_type": "code",
   "execution_count": 12,
   "id": "ba777be9",
   "metadata": {},
   "outputs": [],
   "source": [
    "# 2. transpotration emission (TES, w/ supply)\n",
    "trans_emi = 0\n",
    "\n",
    "for i in 1:ncty\n",
    "    for j in 1:ncty\n",
    "        amount = sum(y[i,j,k] for k in 1:nproc)\n",
    "        arc_emi = amount * distance[!, 2:end][i,j] * EF_trans\n",
    "        arc_seq = arc_emi * (sink_c[j]/emission_c[j] + es_ratio)\n",
    "        arc_net = arc_emi - arc_seq\n",
    "        trans_emi += arc_net\n",
    "    end\n",
    "end"
   ]
  },
  {
   "cell_type": "code",
   "execution_count": 13,
   "id": "d71a53ec",
   "metadata": {},
   "outputs": [],
   "source": [
    "@objective(model, Min, proc_emi+trans_emi);"
   ]
  },
  {
   "cell_type": "code",
   "execution_count": 14,
   "id": "f5618821",
   "metadata": {},
   "outputs": [
    {
     "name": "stdout",
     "output_type": "stream",
     "text": [
      "Gurobi Optimizer version 9.1.2 build v9.1.2rc0 (win64)\r\n",
      "Thread count: 6 physical cores, 12 logical processors, using up to 12 threads\r\n",
      "Optimize a model with 2205 rows, 13980 columns and 28740 nonzeros\r\n",
      "Model fingerprint: 0xfe002d69\r\n",
      "Variable types: 13950 continuous, 30 integer (30 binary)\r\n",
      "Coefficient statistics:\r\n",
      "  Matrix range     [4e-03, 1e+00]\r\n",
      "  Objective range  [7e-03, 3e+02]\r\n",
      "  Bounds range     [0e+00, 0e+00]\r\n",
      "  RHS range        [2e+02, 1e+11]\r\n",
      "Warning: Model contains large rhs\r\n",
      "         Consider reformulating model or setting NumericFocus parameter\r\n",
      "         to avoid numerical issues.\r\n",
      "Presolve removed 2089 rows and 13538 columns\r\n",
      "Presolve time: 0.02s\r\n",
      "Presolved: 116 rows, 442 columns, 923 nonzeros\r\n",
      "Variable types: 442 continuous, 0 integer (0 binary)\r\n",
      "\r\n",
      "Root relaxation: objective -7.822274e+06, 14 iterations, 0.00 seconds\r\n",
      "\r\n",
      "    Nodes    |    Current Node    |     Objective Bounds      |     Work\r\n",
      " Expl Unexpl |  Obj  Depth IntInf | Incumbent    BestBd   Gap | It/Node Time\r\n",
      "\r\n",
      "*    0     0               0    -7822273.529 -7822273.5  0.00%     -    0s\r\n",
      "\r\n",
      "Explored 0 nodes (14 simplex iterations) in 0.02 seconds\r\n",
      "Thread count was 12 (of 12 available processors)\r\n",
      "\r\n",
      "Solution count 1: -7.82227e+06 \r\n",
      "No other solutions better than -7.82227e+06\r\n",
      "\r\n",
      "Optimal solution found (tolerance 1.00e-04)\r\n",
      "Best objective -7.822273528863e+06, best bound -7.822273528863e+06, gap 0.0000%\r\n",
      "\r\n",
      "User-callback calls 124, time in user-callback 0.01 sec\r\n"
     ]
    }
   ],
   "source": [
    "JuMP.optimize!(model)"
   ]
  },
  {
   "cell_type": "code",
   "execution_count": 15,
   "id": "780ce79c",
   "metadata": {},
   "outputs": [],
   "source": [
    "optx = copy(JuMP.value.(x))\n",
    "opty = copy(JuMP.value.(y));"
   ]
  },
  {
   "cell_type": "code",
   "execution_count": 16,
   "id": "0b3dbc0c",
   "metadata": {},
   "outputs": [],
   "source": [
    "eco_opt = optx;"
   ]
  },
  {
   "cell_type": "code",
   "execution_count": 17,
   "id": "9d8405f4",
   "metadata": {},
   "outputs": [],
   "source": [
    "eco_opt_y = opty;"
   ]
  },
  {
   "cell_type": "markdown",
   "id": "a2c8ed25",
   "metadata": {},
   "source": [
    "### Social"
   ]
  },
  {
   "cell_type": "code",
   "execution_count": 18,
   "id": "b429b926",
   "metadata": {},
   "outputs": [
    {
     "name": "stdout",
     "output_type": "stream",
     "text": [
      "Academic license - for non-commercial use only - expires 2023-11-27\r\n"
     ]
    }
   ],
   "source": [
    "model1 = Model(Gurobi.Optimizer);"
   ]
  },
  {
   "cell_type": "code",
   "execution_count": 19,
   "id": "7b8e27dd",
   "metadata": {},
   "outputs": [],
   "source": [
    "#variables \n",
    "@variable(model1, x[1:ncty, 1:nproc] >= 0)            # x[i,k] production amount of product k at location i\n",
    "@variable(model1, y[1:ncty, 1:ncty, 1:nproc] >= 0)   # y[i,j,k] ship product k from i to j \n",
    "@variable(model1, delta[1:ncty], binary=true);"
   ]
  },
  {
   "cell_type": "code",
   "execution_count": 20,
   "id": "d9c7d5bc",
   "metadata": {},
   "outputs": [],
   "source": [
    "# capacity constraint: x[i,k] <= capacity[i][k]\n",
    "for k in 1:nproc\n",
    "    for i in 1:ncty\n",
    "        @constraint(model1, x[i,k] <= capacity[!, 2:end][i,k])\n",
    "    end\n",
    "end"
   ]
  },
  {
   "cell_type": "code",
   "execution_count": 21,
   "id": "db5fa716",
   "metadata": {},
   "outputs": [],
   "source": [
    "# node output flow constraint\n",
    "for k in 1:nproc\n",
    "    for i in 1:ncty\n",
    "        @constraint(model1, sum(y[i,j,k] for j in 1:ncty) == x[i,k])\n",
    "    end\n",
    "end"
   ]
  },
  {
   "cell_type": "code",
   "execution_count": 22,
   "id": "9ae34be1",
   "metadata": {},
   "outputs": [],
   "source": [
    "# node output flow to market y[i,38, 15]\n",
    "for i in 1:ncty\n",
    "    for j in [e for e in 1:ncty if e != mkt_loc]\n",
    "        @constraint(model1, y[i,j,mkt_proc] == 0)\n",
    "    end\n",
    "end\n",
    "\n",
    "for k in 1:nproc-1\n",
    "    @constraint(model1, sum(x[i,k] for i in 1:ncty) == input_amount[k])\n",
    "end"
   ]
  },
  {
   "cell_type": "code",
   "execution_count": 23,
   "id": "23721dc5",
   "metadata": {},
   "outputs": [],
   "source": [
    "# final demand constraint\n",
    "@constraint(model1, sum(y[i,mkt_loc,mkt_proc] for i in 1:ncty) == cell_demand);"
   ]
  },
  {
   "cell_type": "code",
   "execution_count": 24,
   "id": "d28cffc8",
   "metadata": {},
   "outputs": [],
   "source": [
    "# cathode LCA constraints (index=5)\n",
    "for k in cathode\n",
    "    for j in 1:ncty\n",
    "        @constraint(model1, sum(y[i,j,k] for i in 1:ncty) == x[j,5] * scaler[k])\n",
    "    end\n",
    "end\n",
    "\n",
    "\n",
    "# cell LCA constraints (index=11)\n",
    "for k in cell\n",
    "    for j in 1:ncty\n",
    "        @constraint(model1, sum(y[i,j,k] for i in 1:ncty) == x[j,11] * scaler[k])\n",
    "    end\n",
    "end\n",
    "\n",
    "\n",
    "# non cell LCA constraints (index=14)\n",
    "for k in noncell\n",
    "    for j in 1:ncty\n",
    "        @constraint(model1, sum(y[i,j,k] for i in 1:ncty) == x[j,14] * scaler[k])\n",
    "    end\n",
    "end\n",
    "\n",
    "\n",
    "# battery LCA constraints (index=15)\n",
    "for k in battery\n",
    "    for j in 1:ncty\n",
    "        @constraint(model1, sum(y[i,j,k] for i in 1:ncty) == x[j,15] * scaler[k])\n",
    "    end\n",
    "end"
   ]
  },
  {
   "cell_type": "code",
   "execution_count": 25,
   "id": "35c427d7",
   "metadata": {},
   "outputs": [],
   "source": [
    "Pemi = 0\n",
    "Pincome = 0\n",
    "proD = Vector{AffExpr}(undef, ncty)\n",
    "proM = Vector{AffExpr}(undef, ncty)\n",
    "\n",
    "for i in 1:ncty\n",
    "    for k in 1:nproc\n",
    "        Pemi += regional_EF[i,k+1] * x[i,k]\n",
    "        Pincome += x[i,k] * price[k]\n",
    "    end\n",
    "    proD[i] = Pemi\n",
    "    proM[i] = Pincome\n",
    "end\n",
    "\n",
    "\n",
    "Temi = 0\n",
    "transD = Vector{AffExpr}(undef, ncty)\n",
    "for i in 1:ncty\n",
    "    for j in 1:ncty\n",
    "        amount = sum(y[i,j,k] for k in 1:nproc)\n",
    "        Temi += amount * distance[!, 2:end][i,j] * EF_trans\n",
    "    end\n",
    "    transD[i] = Temi\n",
    "end"
   ]
  },
  {
   "cell_type": "code",
   "execution_count": 26,
   "id": "d36b03b4",
   "metadata": {},
   "outputs": [],
   "source": [
    "for i in 1:ncty\n",
    "    @constraint(model1, proM[i] <= vGDP[i])\n",
    "end"
   ]
  },
  {
   "cell_type": "code",
   "execution_count": 27,
   "id": "102320ad",
   "metadata": {},
   "outputs": [],
   "source": [
    "M = 1e20\n",
    "Allo_soc = proM ./ vGDP .* Dsoc\n",
    "SJ = proD + transD - Allo_soc;"
   ]
  },
  {
   "cell_type": "code",
   "execution_count": 28,
   "id": "58e40522",
   "metadata": {},
   "outputs": [],
   "source": [
    "for i in 1:ncty\n",
    "    @constraint(model1, SJ[i] >= (delta[i] - 1) * M)\n",
    "end\n",
    "\n",
    "for i in 1:ncty\n",
    "    @constraint(model1, SJ[i] <= delta[i] * M)\n",
    "end"
   ]
  },
  {
   "cell_type": "code",
   "execution_count": 29,
   "id": "8f792953",
   "metadata": {},
   "outputs": [],
   "source": [
    "@objective(model1, Min, ncty - sum(delta));"
   ]
  },
  {
   "cell_type": "code",
   "execution_count": 30,
   "id": "35a5b3e3",
   "metadata": {},
   "outputs": [
    {
     "name": "stdout",
     "output_type": "stream",
     "text": [
      "Gurobi Optimizer version 9.1.2 build v9.1.2rc0 (win64)\r\n",
      "Thread count: 6 physical cores, 12 logical processors, using up to 12 threads\r\n",
      "Optimize a model with 2295 rows, 13980 columns and 454275 nonzeros\r\n",
      "Model fingerprint: 0xe557bd1b\r\n",
      "Variable types: 13950 continuous, 30 integer (30 binary)\r\n",
      "Coefficient statistics:\r\n",
      "  Matrix range     [2e-04, 1e+20]\r\n",
      "  Objective range  [1e+00, 1e+00]\r\n",
      "  Bounds range     [0e+00, 0e+00]\r\n",
      "  RHS range        [2e+02, 1e+20]\r\n",
      "Warning: Model contains large matrix coefficient range\r\n",
      "Warning: Model contains large rhs\r\n",
      "         Consider reformulating model or setting NumericFocus parameter\r\n",
      "         to avoid numerical issues.\r\n",
      "Presolve removed 2295 rows and 13980 columns\r\n",
      "Presolve time: 0.07s\r\n",
      "Presolve: All rows and columns removed\r\n",
      "\r\n",
      "Explored 0 nodes (0 simplex iterations) in 0.16 seconds\r\n",
      "Thread count was 1 (of 12 available processors)\r\n",
      "\r\n",
      "Solution count 1: 0 \r\n",
      "\r\n",
      "Optimal solution found (tolerance 1.00e-04)\r\n",
      "Warning: max constraint violation (3.1166e+08) exceeds tolerance\r\n",
      "         (possibly due to large matrix coefficients)\r\n",
      "Best objective 0.000000000000e+00, best bound 0.000000000000e+00, gap 0.0000%\r\n",
      "\r\n",
      "User-callback calls 142, time in user-callback 0.00 sec\r\n"
     ]
    }
   ],
   "source": [
    "JuMP.optimize!(model1)"
   ]
  },
  {
   "cell_type": "code",
   "execution_count": 31,
   "id": "8be2745e",
   "metadata": {},
   "outputs": [],
   "source": [
    "optx1 = copy(JuMP.value.(x))\n",
    "opty1 = copy(JuMP.value.(y));"
   ]
  },
  {
   "cell_type": "code",
   "execution_count": 32,
   "id": "968ec079",
   "metadata": {},
   "outputs": [],
   "source": [
    "social_opt = optx1;"
   ]
  },
  {
   "cell_type": "code",
   "execution_count": 33,
   "id": "4b688a5c",
   "metadata": {},
   "outputs": [],
   "source": [
    "social_opt_y = opty1;"
   ]
  },
  {
   "cell_type": "markdown",
   "id": "a192c48a",
   "metadata": {},
   "source": [
    "### Frontier"
   ]
  },
  {
   "cell_type": "code",
   "execution_count": 41,
   "id": "b8cbbe82",
   "metadata": {},
   "outputs": [],
   "source": [
    "# 1. production emission (TES)\n",
    "val_x = zeros(ncty, nproc)\n",
    "\n",
    "for k in 1:nproc\n",
    "    for i in 1:ncty\n",
    "        val_x[i,k] = regional_EF[i, k+1] * (1 - sink_c[i]/emission_c[i] - es_ratio)\n",
    "    end\n",
    "end\n",
    "\n",
    "proc_emi_opt = sum(social_opt .* val_x);\n",
    "\n",
    "\n",
    "# 2. transpotration emission (TES, w/ supply)\n",
    "trans_emi_opt = 0\n",
    "\n",
    "for i in 1:ncty\n",
    "    for j in 1:ncty\n",
    "        amount = sum(social_opt_y[i,j,k] for k in 1:nproc)\n",
    "        arc_emi = amount * distance[!, 2:end][i,j] * EF_trans\n",
    "        arc_seq = arc_emi * (sink_c[j]/emission_c[j] + es_ratio)\n",
    "        arc_net = arc_emi - arc_seq\n",
    "        trans_emi_opt += arc_net\n",
    "    end\n",
    "end"
   ]
  },
  {
   "cell_type": "code",
   "execution_count": 42,
   "id": "c5e9e4af",
   "metadata": {},
   "outputs": [
    {
     "data": {
      "text/plain": [
       "877874.86149461"
      ]
     },
     "execution_count": 42,
     "metadata": {},
     "output_type": "execute_result"
    }
   ],
   "source": [
    "eco_opt2 = proc_emi_opt + trans_emi_opt  # Obj_EO at Obj_ss*"
   ]
  },
  {
   "cell_type": "code",
   "execution_count": 43,
   "id": "ad5d0c9b",
   "metadata": {},
   "outputs": [
    {
     "data": {
      "text/plain": [
       "8.77874"
      ]
     },
     "execution_count": 43,
     "metadata": {},
     "output_type": "execute_result"
    }
   ],
   "source": [
    "877874 / 100000"
   ]
  },
  {
   "cell_type": "markdown",
   "id": "47d1e6e6",
   "metadata": {},
   "source": [
    "----"
   ]
  },
  {
   "cell_type": "code",
   "execution_count": 36,
   "id": "24b3427f",
   "metadata": {},
   "outputs": [],
   "source": [
    "Pemi = 0\n",
    "Pincome = 0\n",
    "proD = zeros(ncty)\n",
    "proM = zeros(ncty)\n",
    "\n",
    "for i in 1:ncty\n",
    "    for k in 1:nproc\n",
    "        Pemi += regional_EF[i,k+1] * eco_opt[i,k]\n",
    "        Pincome += eco_opt[i,k] * price[k]\n",
    "    end\n",
    "    proD[i] = Pemi\n",
    "    proM[i] = Pincome\n",
    "end\n",
    "\n",
    "\n",
    "Temi = 0\n",
    "transD = zeros(ncty)\n",
    "for i in 1:ncty\n",
    "    for j in 1:ncty\n",
    "        amount = sum(eco_opt_y[i,j,k] for k in 1:nproc)\n",
    "        Temi += amount * distance[!, 2:end][i,j] * EF_trans\n",
    "    end\n",
    "    transD[i] = Temi\n",
    "end"
   ]
  },
  {
   "cell_type": "code",
   "execution_count": 37,
   "id": "7ca5a60e",
   "metadata": {},
   "outputs": [],
   "source": [
    "Allo_soc = proM ./ vGDP .* Dsoc\n",
    "SJ = proD + transD - Allo_soc;"
   ]
  },
  {
   "cell_type": "code",
   "execution_count": 38,
   "id": "b6333625",
   "metadata": {},
   "outputs": [],
   "source": [
    "soc_opt2 = 0\n",
    "\n",
    "for i in SJ\n",
    "    if i < 0\n",
    "        soc_opt2 += 1\n",
    "    end\n",
    "end"
   ]
  },
  {
   "cell_type": "code",
   "execution_count": 39,
   "id": "bbc0ed88",
   "metadata": {},
   "outputs": [
    {
     "name": "stdout",
     "output_type": "stream",
     "text": [
      "The optimal social objective value at ecological optimal solution is 4.\n"
     ]
    }
   ],
   "source": [
    "println(\"The optimal social objective value at ecological optimal solution is $soc_opt2.\")"
   ]
  },
  {
   "cell_type": "code",
   "execution_count": 44,
   "id": "383ce13a",
   "metadata": {},
   "outputs": [
    {
     "name": "stdout",
     "output_type": "stream",
     "text": [
      "The optimal ecological objective value at social optimal solution is 877874.86149461.\n"
     ]
    }
   ],
   "source": [
    "println(\"The optimal ecological objective value at social optimal solution is $eco_opt2.\")"
   ]
  },
  {
   "cell_type": "code",
   "execution_count": 51,
   "id": "2808ab6c",
   "metadata": {},
   "outputs": [],
   "source": [
    "eco_optV = -7.82e+6\n",
    "soc_optV = 0;"
   ]
  },
  {
   "cell_type": "code",
   "execution_count": 53,
   "id": "ed203cec",
   "metadata": {},
   "outputs": [],
   "source": [
    "N = 4\n",
    "ep = (soc_opt2 - soc_optV) / N\n",
    "res = [];"
   ]
  },
  {
   "cell_type": "code",
   "execution_count": null,
   "id": "ae6e9294",
   "metadata": {},
   "outputs": [],
   "source": [
    "for i in 0:N\n",
    "    model = Model(Gurobi.Optimizer)\n",
    "    \n",
    "    @variable(model, x[1:ncty, 1:nproc] >= 0)            \n",
    "    @variable(model, y[1:ncty, 1:ncty, 1:nproc] >= 0) \n",
    "    @variable(model, delta[1:ncty], binary=true)\n",
    "    \n",
    "    #########################\n",
    "    for k in 1:nproc\n",
    "        for i in 1:ncty\n",
    "            @constraint(model, x[i,k] <= capacity[!, 2:end][i,k])\n",
    "            @constraint(model, sum(y[i,j,k] for j in 1:ncty) == x[i,k])\n",
    "        end\n",
    "    end\n",
    "\n",
    "    for i in 1:ncty\n",
    "        for j in [e for e in 1:ncty if e != mkt_loc]\n",
    "            @constraint(model, y[i,j,mkt_proc] == 0)\n",
    "        end\n",
    "    end\n",
    "\n",
    "    for k in 1:nproc-1\n",
    "        @constraint(model, sum(x[i,k] for i in 1:ncty) == input_amount[k])\n",
    "    end\n",
    "\n",
    "    @constraint(model, sum(y[i,mkt_loc,mkt_proc] for i in 1:ncty) == cell_demand)\n",
    "    \n",
    "    #########################\n",
    "    for k in cathode\n",
    "        for j in 1:ncty\n",
    "            @constraint(model, sum(y[i,j,k] for i in 1:ncty) == x[j,5] * scaler[k])\n",
    "        end\n",
    "    end\n",
    "\n",
    "\n",
    "    for k in cell\n",
    "        for j in 1:ncty\n",
    "            @constraint(model, sum(y[i,j,k] for i in 1:ncty) == x[j,11] * scaler[k])\n",
    "        end\n",
    "    end\n",
    "\n",
    "    for k in noncell\n",
    "        for j in 1:ncty\n",
    "            @constraint(model, sum(y[i,j,k] for i in 1:ncty) == x[j,14] * scaler[k])\n",
    "        end\n",
    "    end\n",
    "\n",
    "    for k in battery\n",
    "        for j in 1:ncty\n",
    "            @constraint(model, sum(y[i,j,k] for i in 1:ncty) == x[j,15] * scaler[k])\n",
    "        end\n",
    "    end\n",
    "    \n",
    "    #######################\n",
    "    val_x = zeros(ncty, nproc)\n",
    "    for k in 1:nproc\n",
    "        for i in 1:ncty\n",
    "            val_x[i,k] = regional_EF[i, k+1] * (1 - sink_c[i]/emission_c[i] - es_ratio)\n",
    "        end\n",
    "    end\n",
    "    proc_emi = sum(x .* val_x)\n",
    "    \n",
    "    #######################\n",
    "    trans_emi = 0\n",
    "    for i in 1:ncty\n",
    "        for j in 1:ncty\n",
    "            amount = sum(y[i,j,k] for k in 1:nproc)\n",
    "            arc_emi = amount * distance[!, 2:end][i,j] * EF_trans\n",
    "            arc_seq = arc_emi * (sink_c[j]/emission_c[j] + es_ratio)\n",
    "            arc_net = arc_emi - arc_seq\n",
    "            trans_emi += arc_net\n",
    "        end\n",
    "    end\n",
    "    \n",
    "    #######################    \n",
    "    Pemi = 0\n",
    "    Pincome = 0\n",
    "    proD = Vector{AffExpr}(undef, ncty)\n",
    "    proM = Vector{AffExpr}(undef, ncty)\n",
    "\n",
    "    for i in 1:ncty\n",
    "        for k in 1:nproc\n",
    "            Pemi += regional_EF[i,k+1] * x[i,k]\n",
    "            Pincome += x[i,k] * price[k]\n",
    "        end\n",
    "        proD[i] = Pemi\n",
    "        proM[i] = Pincome\n",
    "    end\n",
    "\n",
    "    Temi = 0\n",
    "    transD = Vector{AffExpr}(undef, ncty)\n",
    "    for i in 1:ncty\n",
    "        for j in 1:ncty\n",
    "            amount = sum(y[i,j,k] for k in 1:nproc)\n",
    "            Temi += amount * distance[!, 2:end][i,j] * EF_trans\n",
    "        end\n",
    "        transD[i] = Temi\n",
    "    end\n",
    "    \n",
    "    for i in 1:ncty\n",
    "        @constraint(model1, proM[i] <= vGDP[i])\n",
    "    end"
   ]
  },
  {
   "cell_type": "code",
   "execution_count": null,
   "id": "9d0824bc",
   "metadata": {},
   "outputs": [],
   "source": []
  },
  {
   "cell_type": "code",
   "execution_count": null,
   "id": "7169a021",
   "metadata": {},
   "outputs": [],
   "source": []
  },
  {
   "cell_type": "code",
   "execution_count": null,
   "id": "f2afacf5",
   "metadata": {},
   "outputs": [],
   "source": []
  },
  {
   "cell_type": "code",
   "execution_count": null,
   "id": "df7bbabd",
   "metadata": {},
   "outputs": [],
   "source": []
  },
  {
   "cell_type": "code",
   "execution_count": null,
   "id": "dffb2efa",
   "metadata": {},
   "outputs": [],
   "source": []
  },
  {
   "cell_type": "code",
   "execution_count": null,
   "id": "cee49dbe",
   "metadata": {},
   "outputs": [],
   "source": []
  },
  {
   "cell_type": "code",
   "execution_count": null,
   "id": "5844148d",
   "metadata": {},
   "outputs": [],
   "source": []
  },
  {
   "cell_type": "code",
   "execution_count": 27,
   "id": "a30f9a38",
   "metadata": {},
   "outputs": [
    {
     "name": "stdout",
     "output_type": "stream",
     "text": [
      "Academic license - for non-commercial use only - expires 2023-11-27\r\n",
      "Gurobi Optimizer version 9.1.2 build v9.1.2rc0 (win64)\r\n",
      "Thread count: 6 physical cores, 12 logical processors, using up to 12 threads\r\n",
      "Optimize a model with 482 rows, 469 columns and 1404 nonzeros\r\n",
      "Model fingerprint: 0x2fc8371e\r\n",
      "Model has 1 quadratic constraint\r\n",
      "Coefficient statistics:\r\n",
      "  Matrix range     [1e+00, 9e+12]\r\n",
      "  QMatrix range    [2e+10, 1e+13]\r\n",
      "  QLMatrix range   [2e+10, 1e+13]\r\n",
      "  Objective range  [1e+00, 1e+00]\r\n",
      "  Bounds range     [1e+00, 1e+00]\r\n",
      "  RHS range        [1e+00, 1e+00]\r\n",
      "Warning: Model contains large matrix coefficient range\r\n",
      "Warning: Quadratic constraint contains large coefficients\r\n",
      "Warning: Quadratic constraint contains large coefficients on linear part\r\n",
      "         Consider reformulating model or setting NumericFocus parameter\r\n",
      "         to avoid numerical issues.\r\n",
      "Presolve removed 468 rows and 375 columns\r\n",
      "\r\n",
      "Continuous model is non-convex -- solving as a MIP.\r\n",
      "\r\n",
      "Presolve removed 468 rows and 375 columns\r\n",
      "Presolve time: 0.00s\r\n",
      "Presolved: 387 rows, 188 columns, 1209 nonzeros\r\n",
      "Presolved model has 93 bilinear constraint(s)\r\n",
      "Variable types: 188 continuous, 0 integer (0 binary)\r\n",
      "\r\n",
      "Root relaxation: objective -9.987556e-01, 245 iterations, 0.00 seconds\r\n",
      "\r\n",
      "    Nodes    |    Current Node    |     Objective Bounds      |     Work\r\n",
      " Expl Unexpl |  Obj  Depth IntInf | Incumbent    BestBd   Gap | It/Node Time\r\n",
      "\r\n",
      "     0     0   -0.99876    0   72          -   -0.99876      -     -    0s\r\n",
      "     0     0   -0.99868    0   67          -   -0.99868      -     -    0s\r\n",
      "     0     0   -0.99844    0   76          -   -0.99844      -     -    0s\r\n",
      "     0     2   -0.99844    0   76          -   -0.99844      -     -    0s\r\n",
      "*   10     2               5      -0.9366603   -0.99767  6.51%  70.4    0s\r\n",
      "*   20     2              10      -0.9793775   -0.98019  0.08%   103    0s\r\n",
      "*   26     4              12      -0.9801267   -0.98019  0.01%  85.3    0s\r\n",
      "\r\n",
      "Cutting planes:\r\n",
      "  RLT: 1\r\n",
      "\r\n",
      "Explored 27 nodes (2865 simplex iterations) in 0.09 seconds\r\n",
      "Thread count was 12 (of 12 available processors)\r\n",
      "\r\n",
      "Solution count 3: -0.980127 -0.979378 -0.93666 \r\n",
      "\r\n",
      "Optimal solution found (tolerance 1.00e-04)\r\n",
      "Warning: max constraint violation (1.9531e-03) exceeds tolerance\r\n",
      "Best objective -9.801267442101e-01, best bound -9.801907256837e-01, gap 0.0065%\r\n",
      "\r\n",
      "User-callback calls 140, time in user-callback 0.00 sec\r\n",
      "Academic license - for non-commercial use only - expires 2023-11-27\r\n",
      "Gurobi Optimizer version 9.1.2 build v9.1.2rc0 (win64)\r\n",
      "Thread count: 6 physical cores, 12 logical processors, using up to 12 threads\r\n",
      "Optimize a model with 482 rows, 469 columns and 1404 nonzeros\r\n",
      "Model fingerprint: 0xdea898d3\r\n",
      "Model has 1 quadratic constraint\r\n",
      "Coefficient statistics:\r\n",
      "  Matrix range     [1e+00, 1e+13]\r\n",
      "  QMatrix range    [2e+10, 1e+13]\r\n",
      "  QLMatrix range   [2e+10, 1e+13]\r\n",
      "  Objective range  [1e+00, 1e+00]\r\n",
      "  Bounds range     [1e+00, 1e+00]\r\n",
      "  RHS range        [1e+00, 1e+00]\r\n",
      "Warning: Model contains large matrix coefficient range\r\n",
      "Warning: Quadratic constraint contains large coefficients\r\n",
      "Warning: Quadratic constraint contains large coefficients on linear part\r\n",
      "         Consider reformulating model or setting NumericFocus parameter\r\n",
      "         to avoid numerical issues.\r\n",
      "Presolve removed 468 rows and 375 columns\r\n",
      "\r\n",
      "Continuous model is non-convex -- solving as a MIP.\r\n",
      "\r\n",
      "Presolve removed 468 rows and 375 columns\r\n",
      "Presolve time: 0.00s\r\n",
      "Presolved: 387 rows, 188 columns, 1209 nonzeros\r\n",
      "Presolved model has 93 bilinear constraint(s)\r\n",
      "Variable types: 188 continuous, 0 integer (0 binary)\r\n",
      "\r\n",
      "Root relaxation: objective -9.986305e-01, 235 iterations, 0.00 seconds\r\n",
      "\r\n",
      "    Nodes    |    Current Node    |     Objective Bounds      |     Work\r\n",
      " Expl Unexpl |  Obj  Depth IntInf | Incumbent    BestBd   Gap | It/Node Time\r\n",
      "\r\n",
      "     0     0   -0.99863    0   77          -   -0.99863      -     -    0s\r\n",
      "     0     0   -0.99860    0   75          -   -0.99860      -     -    0s\r\n",
      "     0     2   -0.99860    0   75          -   -0.99860      -     -    0s\r\n",
      "*   10     2               5      -0.9364822   -0.99808  6.58%  58.9    0s\r\n",
      "*   24     4              11      -0.9781551   -0.98044  0.23%  88.3    0s\r\n",
      "*   28     4              12      -0.9802072   -0.98043  0.02%  80.9    0s\r\n",
      "*   30     4              13      -0.9803676   -0.98043  0.01%  76.7    0s\r\n",
      "*   31     4              13      -0.9804275   -0.98043  0.00%  77.4    0s\r\n",
      "\r\n",
      "Explored 33 nodes (2715 simplex iterations) in 0.08 seconds\r\n",
      "Thread count was 12 (of 12 available processors)\r\n",
      "\r\n",
      "Solution count 5: -0.980427 -0.980368 -0.980207 ... -0.936482\r\n",
      "\r\n",
      "Optimal solution found (tolerance 1.00e-04)\r\n",
      "Warning: max constraint violation (3.9063e-03) exceeds tolerance\r\n",
      "Best objective -9.804274834981e-01, best bound -9.804294811313e-01, gap 0.0002%\r\n",
      "\r\n",
      "User-callback calls 148, time in user-callback 0.00 sec\r\n",
      "Academic license - for non-commercial use only - expires 2023-11-27\r\n",
      "Gurobi Optimizer version 9.1.2 build v9.1.2rc0 (win64)\r\n",
      "Thread count: 6 physical cores, 12 logical processors, using up to 12 threads\r\n",
      "Optimize a model with 482 rows, 469 columns and 1404 nonzeros\r\n",
      "Model fingerprint: 0x980718d0\r\n",
      "Model has 1 quadratic constraint\r\n",
      "Coefficient statistics:\r\n",
      "  Matrix range     [1e+00, 1e+13]\r\n",
      "  QMatrix range    [2e+10, 1e+13]\r\n",
      "  QLMatrix range   [2e+10, 1e+13]\r\n",
      "  Objective range  [1e+00, 1e+00]\r\n",
      "  Bounds range     [1e+00, 1e+00]\r\n",
      "  RHS range        [1e+00, 1e+00]\r\n",
      "Warning: Model contains large matrix coefficient range\r\n",
      "Warning: Quadratic constraint contains large coefficients\r\n",
      "Warning: Quadratic constraint contains large coefficients on linear part\r\n",
      "         Consider reformulating model or setting NumericFocus parameter\r\n",
      "         to avoid numerical issues.\r\n",
      "Presolve removed 468 rows and 375 columns\r\n",
      "\r\n",
      "Continuous model is non-convex -- solving as a MIP.\r\n",
      "\r\n",
      "Presolve removed 468 rows and 375 columns\r\n",
      "Presolve time: 0.00s\r\n",
      "Presolved: 387 rows, 188 columns, 1209 nonzeros\r\n",
      "Presolved model has 93 bilinear constraint(s)\r\n",
      "Variable types: 188 continuous, 0 integer (0 binary)\r\n",
      "\r\n",
      "Root relaxation: objective -9.986231e-01, 230 iterations, 0.00 seconds\r\n",
      "\r\n",
      "    Nodes    |    Current Node    |     Objective Bounds      |     Work\r\n",
      " Expl Unexpl |  Obj  Depth IntInf | Incumbent    BestBd   Gap | It/Node Time\r\n",
      "\r\n",
      "     0     0   -0.99862    0   77          -   -0.99862      -     -    0s\r\n",
      "     0     0   -0.99862    0   76          -   -0.99862      -     -    0s\r\n",
      "     0     2   -0.99862    0   76          -   -0.99862      -     -    0s\r\n",
      "*   10     2               5      -0.9365791   -0.99781  6.54%  60.9    0s\r\n",
      "*   20     2              10      -0.9799048   -0.98048  0.06%   100    0s\r\n",
      "*   26     4              12      -0.9804163   -0.98048  0.01%  82.2    0s\r\n",
      "\r\n",
      "Explored 27 nodes (2448 simplex iterations) in 0.08 seconds\r\n",
      "Thread count was 12 (of 12 available processors)\r\n",
      "\r\n",
      "Solution count 3: -0.980416 -0.979905 -0.936579 \r\n",
      "\r\n",
      "Optimal solution found (tolerance 1.00e-04)\r\n",
      "Warning: max constraint violation (9.7656e-04) exceeds tolerance\r\n",
      "Best objective -9.804162931534e-01, best bound -9.804841481454e-01, gap 0.0069%\r\n",
      "\r\n",
      "User-callback calls 133, time in user-callback 0.00 sec\r\n",
      "Academic license - for non-commercial use only - expires 2023-11-27\r\n",
      "Gurobi Optimizer version 9.1.2 build v9.1.2rc0 (win64)\r\n",
      "Thread count: 6 physical cores, 12 logical processors, using up to 12 threads\r\n",
      "Optimize a model with 482 rows, 469 columns and 1404 nonzeros\r\n",
      "Model fingerprint: 0x94e2a580\r\n",
      "Model has 1 quadratic constraint\r\n",
      "Coefficient statistics:\r\n",
      "  Matrix range     [1e+00, 1e+13]\r\n",
      "  QMatrix range    [2e+10, 1e+13]\r\n",
      "  QLMatrix range   [2e+10, 1e+13]\r\n",
      "  Objective range  [1e+00, 1e+00]\r\n",
      "  Bounds range     [1e+00, 1e+00]\r\n",
      "  RHS range        [1e+00, 1e+00]\r\n",
      "Warning: Model contains large matrix coefficient range\r\n",
      "Warning: Quadratic constraint contains large coefficients\r\n",
      "Warning: Quadratic constraint contains large coefficients on linear part\r\n",
      "         Consider reformulating model or setting NumericFocus parameter\r\n",
      "         to avoid numerical issues.\r\n",
      "Presolve removed 468 rows and 375 columns\r\n",
      "\r\n",
      "Continuous model is non-convex -- solving as a MIP.\r\n",
      "\r\n",
      "Presolve removed 468 rows and 375 columns\r\n",
      "Presolve time: 0.00s\r\n",
      "Presolved: 387 rows, 188 columns, 1209 nonzeros\r\n",
      "Presolved model has 93 bilinear constraint(s)\r\n",
      "Variable types: 188 continuous, 0 integer (0 binary)\r\n",
      "\r\n",
      "Root relaxation: objective -9.984429e-01, 240 iterations, 0.00 seconds\r\n",
      "\r\n",
      "    Nodes    |    Current Node    |     Objective Bounds      |     Work\r\n",
      " Expl Unexpl |  Obj  Depth IntInf | Incumbent    BestBd   Gap | It/Node Time\r\n",
      "\r\n",
      "     0     0   -0.99844    0   75          -   -0.99844      -     -    0s\r\n",
      "     0     0   -0.99834    0   69          -   -0.99834      -     -    0s\r\n",
      "     0     0   -0.99834    0   69          -   -0.99834      -     -    0s\r\n",
      "     0     2   -0.99834    0   69          -   -0.99834      -     -    0s\r\n",
      "*   10     2               5      -0.9363824   -0.99802  6.58%  60.6    0s\r\n",
      "*   23     2              12      -0.9782442   -0.97994  0.17%   118    0s\r\n",
      "*   25     2              12      -0.9798840   -0.97994  0.01%   117    0s\r\n",
      "\r\n",
      "Cutting planes:\r\n",
      "  RLT: 1\r\n",
      "\r\n",
      "Explored 27 nodes (3433 simplex iterations) in 0.09 seconds\r\n",
      "Thread count was 12 (of 12 available processors)\r\n",
      "\r\n",
      "Solution count 3: -0.979884 -0.978244 -0.936382 \r\n",
      "\r\n",
      "Optimal solution found (tolerance 1.00e-04)\r\n",
      "Warning: max constraint violation (1.4648e-03) exceeds tolerance\r\n",
      "Best objective -9.798839644118e-01, best bound -9.799380485721e-01, gap 0.0055%\r\n",
      "\r\n",
      "User-callback calls 143, time in user-callback 0.00 sec\r\n",
      "Academic license - for non-commercial use only - expires 2023-11-27\r\n",
      "Gurobi Optimizer version 9.1.2 build v9.1.2rc0 (win64)\r\n",
      "Thread count: 6 physical cores, 12 logical processors, using up to 12 threads\r\n",
      "Optimize a model with 482 rows, 469 columns and 1404 nonzeros\r\n",
      "Model fingerprint: 0x88788373\r\n",
      "Model has 1 quadratic constraint\r\n",
      "Coefficient statistics:\r\n",
      "  Matrix range     [1e+00, 1e+13]\r\n",
      "  QMatrix range    [2e+10, 1e+13]\r\n",
      "  QLMatrix range   [2e+10, 1e+13]\r\n",
      "  Objective range  [1e+00, 1e+00]\r\n",
      "  Bounds range     [1e+00, 1e+00]\r\n",
      "  RHS range        [1e+00, 1e+00]\r\n",
      "Warning: Model contains large matrix coefficient range\r\n",
      "Warning: Quadratic constraint contains large coefficients\r\n",
      "Warning: Quadratic constraint contains large coefficients on linear part\r\n",
      "         Consider reformulating model or setting NumericFocus parameter\r\n",
      "         to avoid numerical issues.\r\n",
      "Presolve removed 468 rows and 375 columns\r\n",
      "\r\n",
      "Continuous model is non-convex -- solving as a MIP.\r\n",
      "\r\n",
      "Presolve removed 468 rows and 375 columns\r\n",
      "Presolve time: 0.00s\r\n",
      "Presolved: 387 rows, 188 columns, 1209 nonzeros\r\n",
      "Presolved model has 93 bilinear constraint(s)\r\n",
      "Variable types: 188 continuous, 0 integer (0 binary)\r\n",
      "\r\n",
      "Root relaxation: objective -9.986338e-01, 234 iterations, 0.00 seconds\r\n",
      "\r\n",
      "    Nodes    |    Current Node    |     Objective Bounds      |     Work\r\n",
      " Expl Unexpl |  Obj  Depth IntInf | Incumbent    BestBd   Gap | It/Node Time\r\n",
      "\r\n",
      "     0     0   -0.99863    0   73          -   -0.99863      -     -    0s\r\n",
      "     0     0   -0.99788    0   74          -   -0.99788      -     -    0s\r\n",
      "     0     2   -0.99788    0   74          -   -0.99788      -     -    0s\r\n",
      "*   10     2               5      -0.9363317   -0.99753  6.54%  62.0    0s\r\n",
      "*   21     2              11      -0.9782127   -0.98041  0.22%  86.2    0s\r\n",
      "*   31     4              15      -0.9791771   -0.97918  0.00%  82.2    0s\r\n",
      "\r\n",
      "Explored 37 nodes (2957 simplex iterations) in 0.08 seconds\r\n",
      "Thread count was 12 (of 12 available processors)\r\n",
      "\r\n",
      "Solution count 3: -0.979177 -0.978213 -0.936332 \r\n",
      "\r\n",
      "Optimal solution found (tolerance 1.00e-04)\r\n",
      "Warning: max constraint violation (2.9297e-03) exceeds tolerance\r\n",
      "Best objective -9.791771402046e-01, best bound -9.791771402046e-01, gap 0.0000%\r\n",
      "\r\n",
      "User-callback calls 152, time in user-callback 0.00 sec\r\n",
      "Academic license - for non-commercial use only - expires 2023-11-27\r\n",
      "Gurobi Optimizer version 9.1.2 build v9.1.2rc0 (win64)\r\n",
      "Thread count: 6 physical cores, 12 logical processors, using up to 12 threads\r\n",
      "Optimize a model with 482 rows, 469 columns and 1404 nonzeros\r\n",
      "Model fingerprint: 0xd2f93716\r\n",
      "Model has 1 quadratic constraint\r\n",
      "Coefficient statistics:\r\n",
      "  Matrix range     [1e+00, 1e+13]\r\n",
      "  QMatrix range    [2e+10, 1e+13]\r\n",
      "  QLMatrix range   [2e+10, 1e+13]\r\n",
      "  Objective range  [1e+00, 1e+00]\r\n",
      "  Bounds range     [1e+00, 1e+00]\r\n",
      "  RHS range        [1e+00, 1e+00]\r\n",
      "Warning: Model contains large matrix coefficient range\r\n",
      "Warning: Quadratic constraint contains large coefficients\r\n",
      "Warning: Quadratic constraint contains large coefficients on linear part\r\n",
      "         Consider reformulating model or setting NumericFocus parameter\r\n",
      "         to avoid numerical issues.\r\n",
      "Presolve removed 468 rows and 375 columns\r\n",
      "\r\n",
      "Continuous model is non-convex -- solving as a MIP.\r\n",
      "\r\n",
      "Presolve removed 468 rows and 375 columns\r\n",
      "Presolve time: 0.00s\r\n",
      "Presolved: 387 rows, 188 columns, 1209 nonzeros\r\n",
      "Presolved model has 93 bilinear constraint(s)\r\n",
      "Variable types: 188 continuous, 0 integer (0 binary)\r\n",
      "\r\n",
      "Root relaxation: objective -9.979578e-01, 255 iterations, 0.00 seconds\r\n",
      "\r\n",
      "    Nodes    |    Current Node    |     Objective Bounds      |     Work\r\n",
      " Expl Unexpl |  Obj  Depth IntInf | Incumbent    BestBd   Gap | It/Node Time\r\n",
      "\r\n",
      "     0     0   -0.99796    0   75          -   -0.99796      -     -    0s\r\n",
      "*    0     0               0      -0.9751639   -0.97516  0.00%     -    0s\r\n",
      "\r\n",
      "Explored 1 nodes (382 simplex iterations) in 0.02 seconds\r\n",
      "Thread count was 12 (of 12 available processors)\r\n",
      "\r\n",
      "Solution count 1: -0.975164 \r\n",
      "\r\n",
      "Optimal solution found (tolerance 1.00e-04)\r\n",
      "Warning: max constraint violation (1.9531e-03) exceeds tolerance\r\n",
      "Best objective -9.751638847819e-01, best bound -9.751638847819e-01, gap 0.0000%\r\n",
      "\r\n",
      "User-callback calls 70, time in user-callback 0.00 sec\r\n"
     ]
    }
   ],
   "source": [
    "N = 5\n",
    "ep = (obj1_ - obj1) / N\n",
    "res = []\n",
    "# push!(res, objective)\n",
    "\n",
    "for i in 0:N\n",
    "    model = Model(Gurobi.Optimizer)\n",
    "    set_optimizer_attribute(model, \"NonConvex\", 2);\n",
    "\n",
    "    @variable(model, 0 <= x[1:n, 1:m] <= 1)\n",
    "    @variable(model, obj >= -1);\n",
    "\n",
    "    @constraint(model, job_full[j in 1:m], sum(x[i, j] for i in 1:n) == 1);\n",
    "    @constraint(model, country_job[i in 1:n, j in 1:m], x[i, j] <= com[i,j]);\n",
    "    @constraint(model, obj*(sum(D'*x)) == (sum(Dsoc'*x)-sum(D'*x)))\n",
    "    @constraint(model, (obj1_ - i * ep)*sum(S'*x) == (sum(D'*x)-sum(S'*x)));\n",
    "\n",
    "\n",
    "    @objective(model, Min, obj);\n",
    "    \n",
    "    JuMP.optimize!(model)\n",
    "    sol = JuMP.value.(x)\n",
    "    obj = JuMP.objective_value(model);\n",
    "    \n",
    "    push!(res, obj)\n",
    "    \n",
    "end"
   ]
  },
  {
   "cell_type": "code",
   "execution_count": 28,
   "id": "f3344c99",
   "metadata": {},
   "outputs": [
    {
     "data": {
      "text/plain": [
       "6-element Vector{Any}:\n",
       " -0.980126744210102\n",
       " -0.9804274834980832\n",
       " -0.9804162931534189\n",
       " -0.9798839644118467\n",
       " -0.9791771402045861\n",
       " -0.975163884781896"
      ]
     },
     "execution_count": 28,
     "metadata": {},
     "output_type": "execute_result"
    }
   ],
   "source": [
    "res"
   ]
  },
  {
   "cell_type": "code",
   "execution_count": 29,
   "id": "e378565c",
   "metadata": {},
   "outputs": [
    {
     "data": {
      "text/plain": [
       "0.2441322618618571"
      ]
     },
     "execution_count": 29,
     "metadata": {},
     "output_type": "execute_result"
    }
   ],
   "source": [
    "obj1_ - 5 * ep"
   ]
  },
  {
   "cell_type": "code",
   "execution_count": 30,
   "id": "98350892",
   "metadata": {},
   "outputs": [],
   "source": [
    "ls = []\n",
    "for i in 0: N\n",
    "    push!(ls, obj1_ - i * ep)\n",
    "end"
   ]
  },
  {
   "cell_type": "code",
   "execution_count": 31,
   "id": "9788f919",
   "metadata": {},
   "outputs": [
    {
     "data": {
      "text/plain": [
       "6-element Vector{Any}:\n",
       " 3.1630514652055894\n",
       " 2.579267624536843\n",
       " 1.9954837838680966\n",
       " 1.4116999431993502\n",
       " 0.8279161025306037\n",
       " 0.2441322618618571"
      ]
     },
     "execution_count": 31,
     "metadata": {},
     "output_type": "execute_result"
    }
   ],
   "source": [
    "ls"
   ]
  },
  {
   "cell_type": "code",
   "execution_count": 32,
   "id": "445ff5c5",
   "metadata": {},
   "outputs": [
    {
     "data": {
      "image/svg+xml": [
       "<?xml version=\"1.0\" encoding=\"utf-8\"?>\n",
       "<svg xmlns=\"http://www.w3.org/2000/svg\" xmlns:xlink=\"http://www.w3.org/1999/xlink\" width=\"600\" height=\"400\" viewBox=\"0 0 2400 1600\">\n",
       "<defs>\n",
       "  <clipPath id=\"clip410\">\n",
       "    <rect x=\"0\" y=\"0\" width=\"2400\" height=\"1600\"/>\n",
       "  </clipPath>\n",
       "</defs>\n",
       "<path clip-path=\"url(#clip410)\" d=\"\n",
       "M0 1600 L2400 1600 L2400 0 L0 0  Z\n",
       "  \" fill=\"#ffffff\" fill-rule=\"evenodd\" fill-opacity=\"1\"/>\n",
       "<defs>\n",
       "  <clipPath id=\"clip411\">\n",
       "    <rect x=\"480\" y=\"0\" width=\"1681\" height=\"1600\"/>\n",
       "  </clipPath>\n",
       "</defs>\n",
       "<path clip-path=\"url(#clip410)\" d=\"\n",
       "M287.528 1423.18 L2352.76 1423.18 L2352.76 123.472 L287.528 123.472  Z\n",
       "  \" fill=\"#ffffff\" fill-rule=\"evenodd\" fill-opacity=\"1\"/>\n",
       "<defs>\n",
       "  <clipPath id=\"clip412\">\n",
       "    <rect x=\"287\" y=\"123\" width=\"2066\" height=\"1301\"/>\n",
       "  </clipPath>\n",
       "</defs>\n",
       "<polyline clip-path=\"url(#clip412)\" style=\"stroke:#000000; stroke-linecap:round; stroke-linejoin:round; stroke-width:2; stroke-opacity:0.1; fill:none\" points=\"\n",
       "  287.528,1423.18 287.528,123.472 \n",
       "  \"/>\n",
       "<polyline clip-path=\"url(#clip412)\" style=\"stroke:#000000; stroke-linecap:round; stroke-linejoin:round; stroke-width:2; stroke-opacity:0.1; fill:none\" points=\"\n",
       "  975.937,1423.18 975.937,123.472 \n",
       "  \"/>\n",
       "<polyline clip-path=\"url(#clip412)\" style=\"stroke:#000000; stroke-linecap:round; stroke-linejoin:round; stroke-width:2; stroke-opacity:0.1; fill:none\" points=\"\n",
       "  1664.35,1423.18 1664.35,123.472 \n",
       "  \"/>\n",
       "<polyline clip-path=\"url(#clip412)\" style=\"stroke:#000000; stroke-linecap:round; stroke-linejoin:round; stroke-width:2; stroke-opacity:0.1; fill:none\" points=\"\n",
       "  2352.76,1423.18 2352.76,123.472 \n",
       "  \"/>\n",
       "<polyline clip-path=\"url(#clip410)\" style=\"stroke:#000000; stroke-linecap:round; stroke-linejoin:round; stroke-width:4; stroke-opacity:1; fill:none\" points=\"\n",
       "  287.528,1423.18 2352.76,1423.18 \n",
       "  \"/>\n",
       "<polyline clip-path=\"url(#clip410)\" style=\"stroke:#000000; stroke-linecap:round; stroke-linejoin:round; stroke-width:4; stroke-opacity:1; fill:none\" points=\"\n",
       "  287.528,1423.18 287.528,1404.28 \n",
       "  \"/>\n",
       "<polyline clip-path=\"url(#clip410)\" style=\"stroke:#000000; stroke-linecap:round; stroke-linejoin:round; stroke-width:4; stroke-opacity:1; fill:none\" points=\"\n",
       "  975.937,1423.18 975.937,1404.28 \n",
       "  \"/>\n",
       "<polyline clip-path=\"url(#clip410)\" style=\"stroke:#000000; stroke-linecap:round; stroke-linejoin:round; stroke-width:4; stroke-opacity:1; fill:none\" points=\"\n",
       "  1664.35,1423.18 1664.35,1404.28 \n",
       "  \"/>\n",
       "<polyline clip-path=\"url(#clip410)\" style=\"stroke:#000000; stroke-linecap:round; stroke-linejoin:round; stroke-width:4; stroke-opacity:1; fill:none\" points=\"\n",
       "  2352.76,1423.18 2352.76,1404.28 \n",
       "  \"/>\n",
       "<path clip-path=\"url(#clip410)\" d=\"M257.285 1468.75 L286.961 1468.75 L286.961 1472.69 L257.285 1472.69 L257.285 1468.75 Z\" fill=\"#000000\" fill-rule=\"evenodd\" fill-opacity=\"1\" /><path clip-path=\"url(#clip410)\" d=\"M297.864 1481.64 L305.502 1481.64 L305.502 1455.28 L297.192 1456.95 L297.192 1452.69 L305.456 1451.02 L310.132 1451.02 L310.132 1481.64 L317.771 1481.64 L317.771 1485.58 L297.864 1485.58 L297.864 1481.64 Z\" fill=\"#000000\" fill-rule=\"evenodd\" fill-opacity=\"1\" /><path clip-path=\"url(#clip410)\" d=\"M975.937 1454.1 Q972.326 1454.1 970.497 1457.66 Q968.692 1461.2 968.692 1468.33 Q968.692 1475.44 970.497 1479.01 Q972.326 1482.55 975.937 1482.55 Q979.572 1482.55 981.377 1479.01 Q983.206 1475.44 983.206 1468.33 Q983.206 1461.2 981.377 1457.66 Q979.572 1454.1 975.937 1454.1 M975.937 1450.39 Q981.747 1450.39 984.803 1455 Q987.882 1459.58 987.882 1468.33 Q987.882 1477.06 984.803 1481.67 Q981.747 1486.25 975.937 1486.25 Q970.127 1486.25 967.048 1481.67 Q963.993 1477.06 963.993 1468.33 Q963.993 1459.58 967.048 1455 Q970.127 1450.39 975.937 1450.39 Z\" fill=\"#000000\" fill-rule=\"evenodd\" fill-opacity=\"1\" /><path clip-path=\"url(#clip410)\" d=\"M1654.73 1481.64 L1662.37 1481.64 L1662.37 1455.28 L1654.06 1456.95 L1654.06 1452.69 L1662.32 1451.02 L1667 1451.02 L1667 1481.64 L1674.64 1481.64 L1674.64 1485.58 L1654.73 1485.58 L1654.73 1481.64 Z\" fill=\"#000000\" fill-rule=\"evenodd\" fill-opacity=\"1\" /><path clip-path=\"url(#clip410)\" d=\"M2347.41 1481.64 L2363.73 1481.64 L2363.73 1485.58 L2341.78 1485.58 L2341.78 1481.64 Q2344.45 1478.89 2349.03 1474.26 Q2353.64 1469.61 2354.82 1468.27 Q2357.06 1465.74 2357.94 1464.01 Q2358.84 1462.25 2358.84 1460.56 Q2358.84 1457.8 2356.9 1456.07 Q2354.98 1454.33 2351.88 1454.33 Q2349.68 1454.33 2347.22 1455.09 Q2344.79 1455.86 2342.02 1457.41 L2342.02 1452.69 Q2344.84 1451.55 2347.29 1450.97 Q2349.75 1450.39 2351.78 1450.39 Q2357.15 1450.39 2360.35 1453.08 Q2363.54 1455.77 2363.54 1460.26 Q2363.54 1462.39 2362.73 1464.31 Q2361.95 1466.2 2359.84 1468.8 Q2359.26 1469.47 2356.16 1472.69 Q2353.06 1475.88 2347.41 1481.64 Z\" fill=\"#000000\" fill-rule=\"evenodd\" fill-opacity=\"1\" /><path clip-path=\"url(#clip410)\" d=\"M1050.04 1520.52 L1080.09 1520.52 L1080.09 1525.93 L1056.47 1525.93 L1056.47 1540 L1079.1 1540 L1079.1 1545.41 L1056.47 1545.41 L1056.47 1562.63 L1080.66 1562.63 L1080.66 1568.04 L1050.04 1568.04 L1050.04 1520.52 Z\" fill=\"#000000\" fill-rule=\"evenodd\" fill-opacity=\"1\" /><path clip-path=\"url(#clip410)\" d=\"M1116.63 1533.76 L1116.63 1539.24 Q1114.15 1537.87 1111.63 1537.2 Q1109.15 1536.5 1106.6 1536.5 Q1100.91 1536.5 1097.76 1540.13 Q1094.6 1543.73 1094.6 1550.25 Q1094.6 1556.78 1097.76 1560.4 Q1100.91 1564 1106.6 1564 Q1109.15 1564 1111.63 1563.33 Q1114.15 1562.63 1116.63 1561.26 L1116.63 1566.68 Q1114.18 1567.82 1111.54 1568.39 Q1108.93 1568.97 1105.97 1568.97 Q1097.92 1568.97 1093.17 1563.91 Q1088.43 1558.85 1088.43 1550.25 Q1088.43 1541.53 1093.2 1536.53 Q1098.01 1531.54 1106.35 1531.54 Q1109.06 1531.54 1111.63 1532.11 Q1114.21 1532.65 1116.63 1533.76 Z\" fill=\"#000000\" fill-rule=\"evenodd\" fill-opacity=\"1\" /><path clip-path=\"url(#clip410)\" d=\"M1140.63 1536.5 Q1135.92 1536.5 1133.18 1540.19 Q1130.44 1543.85 1130.44 1550.25 Q1130.44 1556.65 1133.15 1560.34 Q1135.89 1564 1140.63 1564 Q1145.31 1564 1148.05 1560.31 Q1150.78 1556.62 1150.78 1550.25 Q1150.78 1543.92 1148.05 1540.23 Q1145.31 1536.5 1140.63 1536.5 M1140.63 1531.54 Q1148.27 1531.54 1152.63 1536.5 Q1156.99 1541.47 1156.99 1550.25 Q1156.99 1559 1152.63 1564 Q1148.27 1568.97 1140.63 1568.97 Q1132.96 1568.97 1128.6 1564 Q1124.27 1559 1124.27 1550.25 Q1124.27 1541.47 1128.6 1536.5 Q1132.96 1531.54 1140.63 1531.54 Z\" fill=\"#000000\" fill-rule=\"evenodd\" fill-opacity=\"1\" /><path clip-path=\"url(#clip410)\" d=\"M1166.7 1518.52 L1172.55 1518.52 L1172.55 1568.04 L1166.7 1568.04 L1166.7 1518.52 Z\" fill=\"#000000\" fill-rule=\"evenodd\" fill-opacity=\"1\" /><path clip-path=\"url(#clip410)\" d=\"M1198.62 1536.5 Q1193.91 1536.5 1191.17 1540.19 Q1188.44 1543.85 1188.44 1550.25 Q1188.44 1556.65 1191.14 1560.34 Q1193.88 1564 1198.62 1564 Q1203.3 1564 1206.04 1560.31 Q1208.77 1556.62 1208.77 1550.25 Q1208.77 1543.92 1206.04 1540.23 Q1203.3 1536.5 1198.62 1536.5 M1198.62 1531.54 Q1206.26 1531.54 1210.62 1536.5 Q1214.98 1541.47 1214.98 1550.25 Q1214.98 1559 1210.62 1564 Q1206.26 1568.97 1198.62 1568.97 Q1190.95 1568.97 1186.59 1564 Q1182.26 1559 1182.26 1550.25 Q1182.26 1541.47 1186.59 1536.5 Q1190.95 1531.54 1198.62 1531.54 Z\" fill=\"#000000\" fill-rule=\"evenodd\" fill-opacity=\"1\" /><path clip-path=\"url(#clip410)\" d=\"M1248.15 1549.81 Q1248.15 1543.44 1245.5 1539.94 Q1242.89 1536.44 1238.15 1536.44 Q1233.44 1536.44 1230.8 1539.94 Q1228.19 1543.44 1228.19 1549.81 Q1228.19 1556.14 1230.8 1559.64 Q1233.44 1563.14 1238.15 1563.14 Q1242.89 1563.14 1245.5 1559.64 Q1248.15 1556.14 1248.15 1549.81 M1254 1563.62 Q1254 1572.72 1249.96 1577.15 Q1245.92 1581.6 1237.58 1581.6 Q1234.49 1581.6 1231.75 1581.13 Q1229.02 1580.68 1226.44 1579.72 L1226.44 1574.03 Q1229.02 1575.43 1231.53 1576.1 Q1234.05 1576.76 1236.66 1576.76 Q1242.42 1576.76 1245.28 1573.74 Q1248.15 1570.75 1248.15 1564.67 L1248.15 1561.77 Q1246.33 1564.92 1243.5 1566.48 Q1240.67 1568.04 1236.72 1568.04 Q1230.16 1568.04 1226.15 1563.05 Q1222.14 1558.05 1222.14 1549.81 Q1222.14 1541.53 1226.15 1536.53 Q1230.16 1531.54 1236.72 1531.54 Q1240.67 1531.54 1243.5 1533.1 Q1246.33 1534.66 1248.15 1537.81 L1248.15 1532.4 L1254 1532.4 L1254 1563.62 Z\" fill=\"#000000\" fill-rule=\"evenodd\" fill-opacity=\"1\" /><path clip-path=\"url(#clip410)\" d=\"M1266.07 1532.4 L1271.92 1532.4 L1271.92 1568.04 L1266.07 1568.04 L1266.07 1532.4 M1266.07 1518.52 L1271.92 1518.52 L1271.92 1525.93 L1266.07 1525.93 L1266.07 1518.52 Z\" fill=\"#000000\" fill-rule=\"evenodd\" fill-opacity=\"1\" /><path clip-path=\"url(#clip410)\" d=\"M1309.83 1533.76 L1309.83 1539.24 Q1307.35 1537.87 1304.83 1537.2 Q1302.35 1536.5 1299.8 1536.5 Q1294.11 1536.5 1290.96 1540.13 Q1287.8 1543.73 1287.8 1550.25 Q1287.8 1556.78 1290.96 1560.4 Q1294.11 1564 1299.8 1564 Q1302.35 1564 1304.83 1563.33 Q1307.35 1562.63 1309.83 1561.26 L1309.83 1566.68 Q1307.38 1567.82 1304.74 1568.39 Q1302.13 1568.97 1299.17 1568.97 Q1291.11 1568.97 1286.37 1563.91 Q1281.63 1558.85 1281.63 1550.25 Q1281.63 1541.53 1286.4 1536.53 Q1291.21 1531.54 1299.55 1531.54 Q1302.25 1531.54 1304.83 1532.11 Q1307.41 1532.65 1309.83 1533.76 Z\" fill=\"#000000\" fill-rule=\"evenodd\" fill-opacity=\"1\" /><path clip-path=\"url(#clip410)\" d=\"M1336.22 1550.12 Q1329.12 1550.12 1326.38 1551.75 Q1323.64 1553.37 1323.64 1557.29 Q1323.64 1560.4 1325.68 1562.25 Q1327.75 1564.07 1331.28 1564.07 Q1336.15 1564.07 1339.08 1560.63 Q1342.04 1557.16 1342.04 1551.43 L1342.04 1550.12 L1336.22 1550.12 M1347.9 1547.71 L1347.9 1568.04 L1342.04 1568.04 L1342.04 1562.63 Q1340.03 1565.88 1337.04 1567.44 Q1334.05 1568.97 1329.72 1568.97 Q1324.25 1568.97 1321 1565.91 Q1317.79 1562.82 1317.79 1557.67 Q1317.79 1551.65 1321.8 1548.6 Q1325.84 1545.54 1333.83 1545.54 L1342.04 1545.54 L1342.04 1544.97 Q1342.04 1540.93 1339.37 1538.73 Q1336.72 1536.5 1331.92 1536.5 Q1328.86 1536.5 1325.97 1537.23 Q1323.07 1537.97 1320.4 1539.43 L1320.4 1534.02 Q1323.61 1532.78 1326.63 1532.17 Q1329.66 1531.54 1332.52 1531.54 Q1340.26 1531.54 1344.08 1535.55 Q1347.9 1539.56 1347.9 1547.71 Z\" fill=\"#000000\" fill-rule=\"evenodd\" fill-opacity=\"1\" /><path clip-path=\"url(#clip410)\" d=\"M1359.96 1518.52 L1365.82 1518.52 L1365.82 1568.04 L1359.96 1568.04 L1359.96 1518.52 Z\" fill=\"#000000\" fill-rule=\"evenodd\" fill-opacity=\"1\" /><path clip-path=\"url(#clip410)\" d=\"M1378.07 1518.52 L1383.93 1518.52 L1383.93 1568.04 L1378.07 1568.04 L1378.07 1518.52 Z\" fill=\"#000000\" fill-rule=\"evenodd\" fill-opacity=\"1\" /><path clip-path=\"url(#clip410)\" d=\"M1411.01 1571.35 Q1408.53 1577.72 1406.17 1579.66 Q1403.82 1581.6 1399.87 1581.6 L1395.19 1581.6 L1395.19 1576.7 L1398.63 1576.7 Q1401.05 1576.7 1402.39 1575.56 Q1403.72 1574.41 1405.35 1570.14 L1406.4 1567.47 L1391.98 1532.4 L1398.19 1532.4 L1409.33 1560.28 L1420.47 1532.4 L1426.67 1532.4 L1411.01 1571.35 Z\" fill=\"#000000\" fill-rule=\"evenodd\" fill-opacity=\"1\" /><path clip-path=\"url(#clip410)\" d=\"M1484.22 1522.08 L1484.22 1528.35 Q1480.56 1526.6 1477.31 1525.74 Q1474.06 1524.88 1471.04 1524.88 Q1465.79 1524.88 1462.92 1526.92 Q1460.09 1528.96 1460.09 1532.71 Q1460.09 1535.87 1461.97 1537.49 Q1463.88 1539.08 1469.16 1540.07 L1473.05 1540.86 Q1480.24 1542.23 1483.65 1545.7 Q1487.08 1549.14 1487.08 1554.93 Q1487.08 1561.84 1482.44 1565.4 Q1477.82 1568.97 1468.88 1568.97 Q1465.5 1568.97 1461.68 1568.2 Q1457.9 1567.44 1453.82 1565.94 L1453.82 1559.32 Q1457.74 1561.52 1461.49 1562.63 Q1465.25 1563.75 1468.88 1563.75 Q1474.38 1563.75 1477.37 1561.58 Q1480.37 1559.42 1480.37 1555.41 Q1480.37 1551.91 1478.2 1549.93 Q1476.07 1547.96 1471.17 1546.97 L1467.25 1546.21 Q1460.06 1544.78 1456.85 1541.72 Q1453.63 1538.67 1453.63 1533.22 Q1453.63 1526.92 1458.05 1523.29 Q1462.51 1519.66 1470.31 1519.66 Q1473.65 1519.66 1477.12 1520.27 Q1480.59 1520.87 1484.22 1522.08 Z\" fill=\"#000000\" fill-rule=\"evenodd\" fill-opacity=\"1\" /><path clip-path=\"url(#clip410)\" d=\"M1513.05 1550.12 Q1505.96 1550.12 1503.22 1551.75 Q1500.48 1553.37 1500.48 1557.29 Q1500.48 1560.4 1502.52 1562.25 Q1504.59 1564.07 1508.12 1564.07 Q1512.99 1564.07 1515.92 1560.63 Q1518.88 1557.16 1518.88 1551.43 L1518.88 1550.12 L1513.05 1550.12 M1524.74 1547.71 L1524.74 1568.04 L1518.88 1568.04 L1518.88 1562.63 Q1516.87 1565.88 1513.88 1567.44 Q1510.89 1568.97 1506.56 1568.97 Q1501.09 1568.97 1497.84 1565.91 Q1494.63 1562.82 1494.63 1557.67 Q1494.63 1551.65 1498.64 1548.6 Q1502.68 1545.54 1510.67 1545.54 L1518.88 1545.54 L1518.88 1544.97 Q1518.88 1540.93 1516.21 1538.73 Q1513.56 1536.5 1508.76 1536.5 Q1505.7 1536.5 1502.81 1537.23 Q1499.91 1537.97 1497.24 1539.43 L1497.24 1534.02 Q1500.45 1532.78 1503.47 1532.17 Q1506.5 1531.54 1509.36 1531.54 Q1517.1 1531.54 1520.92 1535.55 Q1524.74 1539.56 1524.74 1547.71 Z\" fill=\"#000000\" fill-rule=\"evenodd\" fill-opacity=\"1\" /><path clip-path=\"url(#clip410)\" d=\"M1554.85 1518.52 L1554.85 1523.39 L1549.24 1523.39 Q1546.09 1523.39 1544.85 1524.66 Q1543.64 1525.93 1543.64 1529.24 L1543.64 1532.4 L1553.29 1532.4 L1553.29 1536.95 L1543.64 1536.95 L1543.64 1568.04 L1537.75 1568.04 L1537.75 1536.95 L1532.15 1536.95 L1532.15 1532.4 L1537.75 1532.4 L1537.75 1529.91 Q1537.75 1523.96 1540.52 1521.26 Q1543.29 1518.52 1549.31 1518.52 L1554.85 1518.52 Z\" fill=\"#000000\" fill-rule=\"evenodd\" fill-opacity=\"1\" /><path clip-path=\"url(#clip410)\" d=\"M1590.24 1548.76 L1590.24 1551.62 L1563.31 1551.62 Q1563.69 1557.67 1566.94 1560.85 Q1570.22 1564 1576.04 1564 Q1579.42 1564 1582.57 1563.17 Q1585.75 1562.35 1588.87 1560.69 L1588.87 1566.23 Q1585.72 1567.57 1582.41 1568.27 Q1579.1 1568.97 1575.69 1568.97 Q1567.16 1568.97 1562.17 1564 Q1557.2 1559.04 1557.2 1550.57 Q1557.2 1541.82 1561.91 1536.69 Q1566.65 1531.54 1574.67 1531.54 Q1581.87 1531.54 1586.04 1536.18 Q1590.24 1540.8 1590.24 1548.76 M1584.38 1547.04 Q1584.32 1542.23 1581.68 1539.37 Q1579.07 1536.5 1574.74 1536.5 Q1569.84 1536.5 1566.88 1539.27 Q1563.95 1542.04 1563.5 1547.07 L1584.38 1547.04 Z\" fill=\"#000000\" fill-rule=\"evenodd\" fill-opacity=\"1\" /><polyline clip-path=\"url(#clip412)\" style=\"stroke:#000000; stroke-linecap:round; stroke-linejoin:round; stroke-width:2; stroke-opacity:0.1; fill:none\" points=\"\n",
       "  287.528,1098.25 2352.76,1098.25 \n",
       "  \"/>\n",
       "<polyline clip-path=\"url(#clip412)\" style=\"stroke:#000000; stroke-linecap:round; stroke-linejoin:round; stroke-width:2; stroke-opacity:0.1; fill:none\" points=\"\n",
       "  287.528,773.326 2352.76,773.326 \n",
       "  \"/>\n",
       "<polyline clip-path=\"url(#clip412)\" style=\"stroke:#000000; stroke-linecap:round; stroke-linejoin:round; stroke-width:2; stroke-opacity:0.1; fill:none\" points=\"\n",
       "  287.528,448.399 2352.76,448.399 \n",
       "  \"/>\n",
       "<polyline clip-path=\"url(#clip412)\" style=\"stroke:#000000; stroke-linecap:round; stroke-linejoin:round; stroke-width:2; stroke-opacity:0.1; fill:none\" points=\"\n",
       "  287.528,123.472 2352.76,123.472 \n",
       "  \"/>\n",
       "<polyline clip-path=\"url(#clip410)\" style=\"stroke:#000000; stroke-linecap:round; stroke-linejoin:round; stroke-width:4; stroke-opacity:1; fill:none\" points=\"\n",
       "  287.528,1423.18 287.528,123.472 \n",
       "  \"/>\n",
       "<polyline clip-path=\"url(#clip410)\" style=\"stroke:#000000; stroke-linecap:round; stroke-linejoin:round; stroke-width:4; stroke-opacity:1; fill:none\" points=\"\n",
       "  287.528,1098.25 306.426,1098.25 \n",
       "  \"/>\n",
       "<polyline clip-path=\"url(#clip410)\" style=\"stroke:#000000; stroke-linecap:round; stroke-linejoin:round; stroke-width:4; stroke-opacity:1; fill:none\" points=\"\n",
       "  287.528,773.326 306.426,773.326 \n",
       "  \"/>\n",
       "<polyline clip-path=\"url(#clip410)\" style=\"stroke:#000000; stroke-linecap:round; stroke-linejoin:round; stroke-width:4; stroke-opacity:1; fill:none\" points=\"\n",
       "  287.528,448.399 306.426,448.399 \n",
       "  \"/>\n",
       "<polyline clip-path=\"url(#clip410)\" style=\"stroke:#000000; stroke-linecap:round; stroke-linejoin:round; stroke-width:4; stroke-opacity:1; fill:none\" points=\"\n",
       "  287.528,123.472 306.426,123.472 \n",
       "  \"/>\n",
       "<path clip-path=\"url(#clip410)\" d=\"M114.607 1098.7 L144.283 1098.7 L144.283 1102.64 L114.607 1102.64 L114.607 1098.7 Z\" fill=\"#000000\" fill-rule=\"evenodd\" fill-opacity=\"1\" /><path clip-path=\"url(#clip410)\" d=\"M164.376 1084.05 Q160.765 1084.05 158.936 1087.62 Q157.13 1091.16 157.13 1098.29 Q157.13 1105.39 158.936 1108.96 Q160.765 1112.5 164.376 1112.5 Q168.01 1112.5 169.815 1108.96 Q171.644 1105.39 171.644 1098.29 Q171.644 1091.16 169.815 1087.62 Q168.01 1084.05 164.376 1084.05 M164.376 1080.35 Q170.186 1080.35 173.241 1084.95 Q176.32 1089.54 176.32 1098.29 Q176.32 1107.01 173.241 1111.62 Q170.186 1116.2 164.376 1116.2 Q158.565 1116.2 155.487 1111.62 Q152.431 1107.01 152.431 1098.29 Q152.431 1089.54 155.487 1084.95 Q158.565 1080.35 164.376 1080.35 Z\" fill=\"#000000\" fill-rule=\"evenodd\" fill-opacity=\"1\" /><path clip-path=\"url(#clip410)\" d=\"M184.538 1109.65 L189.422 1109.65 L189.422 1115.53 L184.538 1115.53 L184.538 1109.65 Z\" fill=\"#000000\" fill-rule=\"evenodd\" fill-opacity=\"1\" /><path clip-path=\"url(#clip410)\" d=\"M199.746 1114.82 L199.746 1110.56 Q201.505 1111.39 203.311 1111.83 Q205.116 1112.27 206.852 1112.27 Q211.482 1112.27 213.912 1109.17 Q216.366 1106.04 216.713 1099.7 Q215.371 1101.69 213.311 1102.76 Q211.25 1103.82 208.75 1103.82 Q203.565 1103.82 200.533 1100.7 Q197.524 1097.55 197.524 1092.11 Q197.524 1086.78 200.672 1083.57 Q203.82 1080.35 209.051 1080.35 Q215.047 1080.35 218.195 1084.95 Q221.366 1089.54 221.366 1098.29 Q221.366 1106.46 217.477 1111.34 Q213.611 1116.2 207.061 1116.2 Q205.301 1116.2 203.496 1115.86 Q201.69 1115.51 199.746 1114.82 M209.051 1100.16 Q212.199 1100.16 214.028 1098.01 Q215.88 1095.86 215.88 1092.11 Q215.88 1088.38 214.028 1086.23 Q212.199 1084.05 209.051 1084.05 Q205.903 1084.05 204.051 1086.23 Q202.223 1088.38 202.223 1092.11 Q202.223 1095.86 204.051 1098.01 Q205.903 1100.16 209.051 1100.16 Z\" fill=\"#000000\" fill-rule=\"evenodd\" fill-opacity=\"1\" /><path clip-path=\"url(#clip410)\" d=\"M229.908 1114.82 L229.908 1110.56 Q231.667 1111.39 233.472 1111.83 Q235.278 1112.27 237.014 1112.27 Q241.644 1112.27 244.074 1109.17 Q246.528 1106.04 246.875 1099.7 Q245.533 1101.69 243.472 1102.76 Q241.412 1103.82 238.912 1103.82 Q233.727 1103.82 230.695 1100.7 Q227.685 1097.55 227.685 1092.11 Q227.685 1086.78 230.834 1083.57 Q233.982 1080.35 239.213 1080.35 Q245.209 1080.35 248.357 1084.95 Q251.528 1089.54 251.528 1098.29 Q251.528 1106.46 247.639 1111.34 Q243.773 1116.2 237.222 1116.2 Q235.463 1116.2 233.658 1115.86 Q231.852 1115.51 229.908 1114.82 M239.213 1100.16 Q242.361 1100.16 244.19 1098.01 Q246.042 1095.86 246.042 1092.11 Q246.042 1088.38 244.19 1086.23 Q242.361 1084.05 239.213 1084.05 Q236.065 1084.05 234.213 1086.23 Q232.385 1088.38 232.385 1092.11 Q232.385 1095.86 234.213 1098.01 Q236.065 1100.16 239.213 1100.16 Z\" fill=\"#000000\" fill-rule=\"evenodd\" fill-opacity=\"1\" /><path clip-path=\"url(#clip410)\" d=\"M114.515 773.777 L144.191 773.777 L144.191 777.713 L114.515 777.713 L114.515 773.777 Z\" fill=\"#000000\" fill-rule=\"evenodd\" fill-opacity=\"1\" /><path clip-path=\"url(#clip410)\" d=\"M164.283 759.125 Q160.672 759.125 158.843 762.689 Q157.038 766.231 157.038 773.361 Q157.038 780.467 158.843 784.032 Q160.672 787.574 164.283 787.574 Q167.917 787.574 169.723 784.032 Q171.552 780.467 171.552 773.361 Q171.552 766.231 169.723 762.689 Q167.917 759.125 164.283 759.125 M164.283 755.421 Q170.093 755.421 173.149 760.027 Q176.227 764.611 176.227 773.361 Q176.227 782.088 173.149 786.694 Q170.093 791.277 164.283 791.277 Q158.473 791.277 155.394 786.694 Q152.339 782.088 152.339 773.361 Q152.339 764.611 155.394 760.027 Q158.473 755.421 164.283 755.421 Z\" fill=\"#000000\" fill-rule=\"evenodd\" fill-opacity=\"1\" /><path clip-path=\"url(#clip410)\" d=\"M184.445 784.726 L189.329 784.726 L189.329 790.606 L184.445 790.606 L184.445 784.726 Z\" fill=\"#000000\" fill-rule=\"evenodd\" fill-opacity=\"1\" /><path clip-path=\"url(#clip410)\" d=\"M199.653 789.888 L199.653 785.629 Q201.412 786.462 203.218 786.902 Q205.024 787.342 206.76 787.342 Q211.389 787.342 213.82 784.24 Q216.273 781.115 216.621 774.773 Q215.278 776.763 213.218 777.828 Q211.158 778.893 208.658 778.893 Q203.473 778.893 200.44 775.768 Q197.431 772.62 197.431 767.18 Q197.431 761.856 200.579 758.639 Q203.727 755.421 208.959 755.421 Q214.954 755.421 218.102 760.027 Q221.273 764.611 221.273 773.361 Q221.273 781.532 217.385 786.416 Q213.519 791.277 206.968 791.277 Q205.209 791.277 203.403 790.93 Q201.598 790.583 199.653 789.888 M208.959 775.236 Q212.107 775.236 213.936 773.083 Q215.787 770.93 215.787 767.18 Q215.787 763.453 213.936 761.301 Q212.107 759.125 208.959 759.125 Q205.811 759.125 203.959 761.301 Q202.13 763.453 202.13 767.18 Q202.13 770.93 203.959 773.083 Q205.811 775.236 208.959 775.236 Z\" fill=\"#000000\" fill-rule=\"evenodd\" fill-opacity=\"1\" /><path clip-path=\"url(#clip410)\" d=\"M239.676 774.194 Q236.343 774.194 234.422 775.976 Q232.523 777.759 232.523 780.884 Q232.523 784.009 234.422 785.791 Q236.343 787.574 239.676 787.574 Q243.009 787.574 244.931 785.791 Q246.852 783.986 246.852 780.884 Q246.852 777.759 244.931 775.976 Q243.033 774.194 239.676 774.194 M235 772.203 Q231.991 771.463 230.301 769.402 Q228.635 767.342 228.635 764.379 Q228.635 760.236 231.574 757.828 Q234.537 755.421 239.676 755.421 Q244.838 755.421 247.778 757.828 Q250.718 760.236 250.718 764.379 Q250.718 767.342 249.028 769.402 Q247.361 771.463 244.375 772.203 Q247.755 772.99 249.63 775.282 Q251.528 777.574 251.528 780.884 Q251.528 785.907 248.449 788.592 Q245.394 791.277 239.676 791.277 Q233.959 791.277 230.88 788.592 Q227.824 785.907 227.824 780.884 Q227.824 777.574 229.723 775.282 Q231.621 772.99 235 772.203 M233.287 764.819 Q233.287 767.504 234.954 769.009 Q236.644 770.513 239.676 770.513 Q242.685 770.513 244.375 769.009 Q246.088 767.504 246.088 764.819 Q246.088 762.134 244.375 760.629 Q242.685 759.125 239.676 759.125 Q236.644 759.125 234.954 760.629 Q233.287 762.134 233.287 764.819 Z\" fill=\"#000000\" fill-rule=\"evenodd\" fill-opacity=\"1\" /><path clip-path=\"url(#clip410)\" d=\"M115.325 448.85 L145.001 448.85 L145.001 452.786 L115.325 452.786 L115.325 448.85 Z\" fill=\"#000000\" fill-rule=\"evenodd\" fill-opacity=\"1\" /><path clip-path=\"url(#clip410)\" d=\"M165.093 434.198 Q161.482 434.198 159.653 437.763 Q157.848 441.304 157.848 448.434 Q157.848 455.54 159.653 459.105 Q161.482 462.647 165.093 462.647 Q168.727 462.647 170.533 459.105 Q172.362 455.54 172.362 448.434 Q172.362 441.304 170.533 437.763 Q168.727 434.198 165.093 434.198 M165.093 430.494 Q170.903 430.494 173.959 435.101 Q177.038 439.684 177.038 448.434 Q177.038 457.161 173.959 461.767 Q170.903 466.35 165.093 466.35 Q159.283 466.35 156.204 461.767 Q153.149 457.161 153.149 448.434 Q153.149 439.684 156.204 435.101 Q159.283 430.494 165.093 430.494 Z\" fill=\"#000000\" fill-rule=\"evenodd\" fill-opacity=\"1\" /><path clip-path=\"url(#clip410)\" d=\"M185.255 459.799 L190.139 459.799 L190.139 465.679 L185.255 465.679 L185.255 459.799 Z\" fill=\"#000000\" fill-rule=\"evenodd\" fill-opacity=\"1\" /><path clip-path=\"url(#clip410)\" d=\"M200.463 464.961 L200.463 460.702 Q202.223 461.536 204.028 461.975 Q205.834 462.415 207.57 462.415 Q212.199 462.415 214.63 459.313 Q217.084 456.188 217.431 449.846 Q216.088 451.837 214.028 452.901 Q211.968 453.966 209.468 453.966 Q204.283 453.966 201.25 450.841 Q198.241 447.693 198.241 442.253 Q198.241 436.929 201.389 433.712 Q204.537 430.494 209.769 430.494 Q215.764 430.494 218.912 435.101 Q222.084 439.684 222.084 448.434 Q222.084 456.605 218.195 461.489 Q214.329 466.35 207.778 466.35 Q206.019 466.35 204.213 466.003 Q202.408 465.656 200.463 464.961 M209.769 450.309 Q212.917 450.309 214.746 448.156 Q216.598 446.003 216.598 442.253 Q216.598 438.526 214.746 436.374 Q212.917 434.198 209.769 434.198 Q206.621 434.198 204.769 436.374 Q202.94 438.526 202.94 442.253 Q202.94 446.003 204.769 448.156 Q206.621 450.309 209.769 450.309 Z\" fill=\"#000000\" fill-rule=\"evenodd\" fill-opacity=\"1\" /><path clip-path=\"url(#clip410)\" d=\"M229.306 431.119 L251.528 431.119 L251.528 433.11 L238.982 465.679 L234.097 465.679 L245.903 435.054 L229.306 435.054 L229.306 431.119 Z\" fill=\"#000000\" fill-rule=\"evenodd\" fill-opacity=\"1\" /><path clip-path=\"url(#clip410)\" d=\"M114.26 123.924 L143.936 123.924 L143.936 127.859 L114.26 127.859 L114.26 123.924 Z\" fill=\"#000000\" fill-rule=\"evenodd\" fill-opacity=\"1\" /><path clip-path=\"url(#clip410)\" d=\"M164.028 109.271 Q160.417 109.271 158.589 112.836 Q156.783 116.377 156.783 123.507 Q156.783 130.613 158.589 134.178 Q160.417 137.72 164.028 137.72 Q167.663 137.72 169.468 134.178 Q171.297 130.613 171.297 123.507 Q171.297 116.377 169.468 112.836 Q167.663 109.271 164.028 109.271 M164.028 105.567 Q169.839 105.567 172.894 110.174 Q175.973 114.757 175.973 123.507 Q175.973 132.234 172.894 136.84 Q169.839 141.423 164.028 141.423 Q158.218 141.423 155.14 136.84 Q152.084 132.234 152.084 123.507 Q152.084 114.757 155.14 110.174 Q158.218 105.567 164.028 105.567 Z\" fill=\"#000000\" fill-rule=\"evenodd\" fill-opacity=\"1\" /><path clip-path=\"url(#clip410)\" d=\"M184.19 134.873 L189.075 134.873 L189.075 140.752 L184.19 140.752 L184.19 134.873 Z\" fill=\"#000000\" fill-rule=\"evenodd\" fill-opacity=\"1\" /><path clip-path=\"url(#clip410)\" d=\"M199.399 140.035 L199.399 135.775 Q201.158 136.609 202.963 137.048 Q204.769 137.488 206.505 137.488 Q211.135 137.488 213.565 134.386 Q216.019 131.261 216.366 124.919 Q215.024 126.91 212.963 127.974 Q210.903 129.039 208.403 129.039 Q203.218 129.039 200.186 125.914 Q197.176 122.766 197.176 117.326 Q197.176 112.002 200.325 108.785 Q203.473 105.567 208.704 105.567 Q214.699 105.567 217.848 110.174 Q221.019 114.757 221.019 123.507 Q221.019 131.678 217.13 136.562 Q213.264 141.423 206.713 141.423 Q204.954 141.423 203.149 141.076 Q201.343 140.729 199.399 140.035 M208.704 125.382 Q211.852 125.382 213.681 123.229 Q215.533 121.076 215.533 117.326 Q215.533 113.599 213.681 111.447 Q211.852 109.271 208.704 109.271 Q205.556 109.271 203.704 111.447 Q201.875 113.599 201.875 117.326 Q201.875 121.076 203.704 123.229 Q205.556 125.382 208.704 125.382 Z\" fill=\"#000000\" fill-rule=\"evenodd\" fill-opacity=\"1\" /><path clip-path=\"url(#clip410)\" d=\"M240 121.609 Q236.852 121.609 235 123.761 Q233.172 125.914 233.172 129.664 Q233.172 133.391 235 135.567 Q236.852 137.72 240 137.72 Q243.148 137.72 244.977 135.567 Q246.829 133.391 246.829 129.664 Q246.829 125.914 244.977 123.761 Q243.148 121.609 240 121.609 M249.283 106.956 L249.283 111.215 Q247.523 110.382 245.718 109.942 Q243.935 109.502 242.176 109.502 Q237.547 109.502 235.093 112.627 Q232.662 115.752 232.315 122.072 Q233.681 120.058 235.741 118.993 Q237.801 117.905 240.278 117.905 Q245.486 117.905 248.496 121.076 Q251.528 124.224 251.528 129.664 Q251.528 134.988 248.38 138.206 Q245.232 141.423 240 141.423 Q234.005 141.423 230.834 136.84 Q227.662 132.234 227.662 123.507 Q227.662 115.312 231.551 110.451 Q235.44 105.567 241.991 105.567 Q243.75 105.567 245.533 105.914 Q247.338 106.262 249.283 106.956 Z\" fill=\"#000000\" fill-rule=\"evenodd\" fill-opacity=\"1\" /><path clip-path=\"url(#clip410)\" d=\"M18.0438 935.174 L24.314 935.174 Q22.5634 938.834 21.704 942.081 Q20.8447 945.327 20.8447 948.351 Q20.8447 953.603 22.8817 956.467 Q24.9187 959.3 28.6745 959.3 Q31.8255 959.3 33.4488 957.422 Q35.0402 955.513 36.0269 950.229 L36.8226 946.346 Q38.1912 939.153 41.6605 935.747 Q45.098 932.31 50.8908 932.31 Q57.7976 932.31 61.3624 936.956 Q64.9272 941.572 64.9272 950.515 Q64.9272 953.889 64.1633 957.709 Q63.3994 961.496 61.9035 965.57 L55.2831 965.57 Q57.4793 961.655 58.5933 957.9 Q59.7073 954.144 59.7073 950.515 Q59.7073 945.009 57.543 942.017 Q55.3786 939.025 51.3682 939.025 Q47.8671 939.025 45.8937 941.19 Q43.9204 943.322 42.9337 948.224 L42.1698 952.139 Q40.7375 959.332 37.682 962.547 Q34.6264 965.761 29.1837 965.761 Q22.8817 965.761 19.2532 961.337 Q15.6248 956.881 15.6248 949.083 Q15.6248 945.741 16.2295 942.272 Q16.8343 938.803 18.0438 935.174 Z\" fill=\"#000000\" fill-rule=\"evenodd\" fill-opacity=\"1\" /><path clip-path=\"url(#clip410)\" d=\"M32.4621 908.725 Q32.4621 913.435 36.1542 916.172 Q39.8145 918.91 46.212 918.91 Q52.6095 918.91 56.3017 916.204 Q59.9619 913.467 59.9619 908.725 Q59.9619 904.046 56.2698 901.309 Q52.5777 898.571 46.212 898.571 Q39.8781 898.571 36.186 901.309 Q32.4621 904.046 32.4621 908.725 M27.4968 908.725 Q27.4968 901.086 32.4621 896.725 Q37.4273 892.365 46.212 892.365 Q54.9649 892.365 59.9619 896.725 Q64.9272 901.086 64.9272 908.725 Q64.9272 916.395 59.9619 920.756 Q54.9649 925.084 46.212 925.084 Q37.4273 925.084 32.4621 920.756 Q27.4968 916.395 27.4968 908.725 Z\" fill=\"#000000\" fill-rule=\"evenodd\" fill-opacity=\"1\" /><path clip-path=\"url(#clip410)\" d=\"M29.7248 857.003 L35.1993 857.003 Q33.8307 859.486 33.1623 862 Q32.4621 864.483 32.4621 867.029 Q32.4621 872.726 36.0905 875.878 Q39.6872 879.029 46.212 879.029 Q52.7369 879.029 56.3653 875.878 Q59.9619 872.726 59.9619 867.029 Q59.9619 864.483 59.2935 862 Q58.5933 859.486 57.2247 857.003 L62.6355 857.003 Q63.7814 859.454 64.3543 862.096 Q64.9272 864.706 64.9272 867.666 Q64.9272 875.718 59.8664 880.461 Q54.8057 885.203 46.212 885.203 Q37.491 885.203 32.4939 880.429 Q27.4968 875.623 27.4968 867.284 Q27.4968 864.578 28.0697 862 Q28.6108 859.422 29.7248 857.003 Z\" fill=\"#000000\" fill-rule=\"evenodd\" fill-opacity=\"1\" /><path clip-path=\"url(#clip410)\" d=\"M28.3562 846.818 L28.3562 840.962 L64.0042 840.962 L64.0042 846.818 L28.3562 846.818 M14.479 846.818 L14.479 840.962 L21.895 840.962 L21.895 846.818 L14.479 846.818 Z\" fill=\"#000000\" fill-rule=\"evenodd\" fill-opacity=\"1\" /><path clip-path=\"url(#clip410)\" d=\"M46.0847 812.507 Q46.0847 819.605 47.7079 822.342 Q49.3312 825.079 53.2461 825.079 Q56.3653 825.079 58.2114 823.042 Q60.0256 820.973 60.0256 817.44 Q60.0256 812.571 56.5881 809.642 Q53.1188 806.682 47.3897 806.682 L46.0847 806.682 L46.0847 812.507 M43.6657 800.826 L64.0042 800.826 L64.0042 806.682 L58.5933 806.682 Q61.8398 808.687 63.3994 811.679 Q64.9272 814.671 64.9272 819 Q64.9272 824.474 61.8716 827.721 Q58.7843 830.936 53.6281 830.936 Q47.6125 830.936 44.5569 826.925 Q41.5014 822.883 41.5014 814.894 L41.5014 806.682 L40.9285 806.682 Q36.8862 806.682 34.6901 809.356 Q32.4621 811.998 32.4621 816.804 Q32.4621 819.859 33.1941 822.756 Q33.9262 825.652 35.3903 828.326 L29.9795 828.326 Q28.7381 825.111 28.1334 822.087 Q27.4968 819.064 27.4968 816.199 Q27.4968 808.465 31.5072 804.645 Q35.5176 800.826 43.6657 800.826 Z\" fill=\"#000000\" fill-rule=\"evenodd\" fill-opacity=\"1\" /><path clip-path=\"url(#clip410)\" d=\"M14.479 788.763 L14.479 782.906 L64.0042 782.906 L64.0042 788.763 L14.479 788.763 Z\" fill=\"#000000\" fill-rule=\"evenodd\" fill-opacity=\"1\" /><path clip-path=\"url(#clip410)\" d=\"M14.479 770.652 L14.479 764.796 L64.0042 764.796 L64.0042 770.652 L14.479 770.652 Z\" fill=\"#000000\" fill-rule=\"evenodd\" fill-opacity=\"1\" /><path clip-path=\"url(#clip410)\" d=\"M67.3143 737.71 Q73.68 740.192 75.6216 742.548 Q77.5631 744.903 77.5631 748.85 L77.5631 753.529 L72.6615 753.529 L72.6615 750.091 Q72.6615 747.672 71.5157 746.335 Q70.3699 744.999 66.1048 743.375 L63.4312 742.325 L28.3562 756.743 L28.3562 750.537 L56.238 739.397 L28.3562 728.257 L28.3562 722.05 L67.3143 737.71 Z\" fill=\"#000000\" fill-rule=\"evenodd\" fill-opacity=\"1\" /><path clip-path=\"url(#clip410)\" d=\"M16.4842 692.991 L16.4842 686.561 L60.694 686.561 Q69.2877 686.561 73.1708 689.84 Q77.0539 693.086 77.0539 700.311 L77.0539 702.762 L71.643 702.762 L71.643 700.757 Q71.643 696.492 69.2559 694.741 Q66.8687 692.991 60.694 692.991 L16.4842 692.991 Z\" fill=\"#000000\" fill-rule=\"evenodd\" fill-opacity=\"1\" /><path clip-path=\"url(#clip410)\" d=\"M49.9359 674.626 L28.3562 674.626 L28.3562 668.769 L49.7131 668.769 Q54.7739 668.769 57.3202 666.796 Q59.8346 664.823 59.8346 660.876 Q59.8346 656.133 56.8109 653.396 Q53.7872 650.627 48.5673 650.627 L28.3562 650.627 L28.3562 644.771 L64.0042 644.771 L64.0042 650.627 L58.5296 650.627 Q61.7762 652.76 63.3676 655.592 Q64.9272 658.393 64.9272 662.117 Q64.9272 668.26 61.1078 671.443 Q57.2883 674.626 49.9359 674.626 M27.4968 659.889 L27.4968 659.889 Z\" fill=\"#000000\" fill-rule=\"evenodd\" fill-opacity=\"1\" /><path clip-path=\"url(#clip410)\" d=\"M29.4065 609.982 L34.9447 609.982 Q33.6716 612.465 33.035 615.138 Q32.3984 617.812 32.3984 620.676 Q32.3984 625.037 33.7352 627.233 Q35.072 629.397 37.7456 629.397 Q39.7826 629.397 40.9603 627.838 Q42.1061 626.278 43.1565 621.568 L43.6021 619.562 Q44.9389 613.324 47.3897 610.714 Q49.8086 608.072 54.1691 608.072 Q59.1344 608.072 62.0308 612.019 Q64.9272 615.934 64.9272 622.809 Q64.9272 625.673 64.3543 628.793 Q63.8132 631.88 62.6992 635.317 L56.6518 635.317 Q58.3387 632.071 59.198 628.92 Q60.0256 625.769 60.0256 622.682 Q60.0256 618.544 58.6251 616.316 Q57.1929 614.088 54.6147 614.088 Q52.2276 614.088 50.9545 615.711 Q49.6813 617.303 48.5037 622.745 L48.0262 624.782 Q46.8804 630.225 44.5251 632.644 Q42.138 635.063 38.0002 635.063 Q32.9713 635.063 30.2341 631.498 Q27.4968 627.933 27.4968 621.377 Q27.4968 618.13 27.9743 615.265 Q28.4517 612.401 29.4065 609.982 Z\" fill=\"#000000\" fill-rule=\"evenodd\" fill-opacity=\"1\" /><path clip-path=\"url(#clip410)\" d=\"M18.2347 592.954 L28.3562 592.954 L28.3562 580.891 L32.9077 580.891 L32.9077 592.954 L52.2594 592.954 Q56.6199 592.954 57.8613 591.776 Q59.1026 590.567 59.1026 586.906 L59.1026 580.891 L64.0042 580.891 L64.0042 586.906 Q64.0042 593.686 61.4897 596.264 Q58.9434 598.842 52.2594 598.842 L32.9077 598.842 L32.9077 603.139 L28.3562 603.139 L28.3562 598.842 L18.2347 598.842 L18.2347 592.954 Z\" fill=\"#000000\" fill-rule=\"evenodd\" fill-opacity=\"1\" /><path clip-path=\"url(#clip410)\" d=\"M466.92 17.6457 Q458.008 17.6457 452.742 24.2892 Q447.516 30.9327 447.516 42.3968 Q447.516 53.8203 452.742 60.4638 Q458.008 67.1073 466.92 67.1073 Q475.832 67.1073 481.017 60.4638 Q486.243 53.8203 486.243 42.3968 Q486.243 30.9327 481.017 24.2892 Q475.832 17.6457 466.92 17.6457 M466.92 11.0023 Q479.64 11.0023 487.256 19.5497 Q494.871 28.0566 494.871 42.3968 Q494.871 56.6965 487.256 65.2439 Q479.64 73.7508 466.92 73.7508 Q454.16 73.7508 446.504 65.2439 Q438.888 56.737 438.888 42.3968 Q438.888 28.0566 446.504 19.5497 Q454.16 11.0023 466.92 11.0023 Z\" fill=\"#000000\" fill-rule=\"evenodd\" fill-opacity=\"1\" /><path clip-path=\"url(#clip410)\" d=\"M502.001 27.2059 L509.9 27.2059 L524.078 65.2844 L538.257 27.2059 L546.156 27.2059 L529.142 72.576 L519.015 72.576 L502.001 27.2059 Z\" fill=\"#000000\" fill-rule=\"evenodd\" fill-opacity=\"1\" /><path clip-path=\"url(#clip410)\" d=\"M595.253 48.0275 L595.253 51.6733 L560.982 51.6733 Q561.468 59.3701 565.6 63.421 Q569.773 67.4314 577.186 67.4314 Q581.48 67.4314 585.49 66.3781 Q589.541 65.3249 593.511 63.2184 L593.511 70.267 Q589.501 71.9684 585.288 72.8596 Q581.075 73.7508 576.74 73.7508 Q565.884 73.7508 559.524 67.4314 Q553.204 61.1119 553.204 50.3365 Q553.204 39.1965 559.2 32.6746 Q565.236 26.1121 575.444 26.1121 Q584.599 26.1121 589.906 32.0264 Q595.253 37.9003 595.253 48.0275 M587.799 45.84 Q587.718 39.7232 584.356 36.0774 Q581.034 32.4315 575.525 32.4315 Q569.287 32.4315 565.519 35.9558 Q561.792 39.4801 561.225 45.8805 L587.799 45.84 Z\" fill=\"#000000\" fill-rule=\"evenodd\" fill-opacity=\"1\" /><path clip-path=\"url(#clip410)\" d=\"M633.777 34.1734 Q632.521 33.4443 631.022 33.1202 Q629.564 32.7556 627.782 32.7556 Q621.462 32.7556 618.059 36.8875 Q614.697 40.9789 614.697 48.6757 L614.697 72.576 L607.203 72.576 L607.203 27.2059 L614.697 27.2059 L614.697 34.2544 Q617.047 30.1225 620.814 28.1376 Q624.581 26.1121 629.969 26.1121 Q630.739 26.1121 631.67 26.2337 Q632.602 26.3147 633.736 26.5172 L633.777 34.1734 Z\" fill=\"#000000\" fill-rule=\"evenodd\" fill-opacity=\"1\" /><path clip-path=\"url(#clip410)\" d=\"M675.339 14.324 L675.339 27.2059 L690.692 27.2059 L690.692 32.9987 L675.339 32.9987 L675.339 57.6282 Q675.339 63.1779 676.838 64.7578 Q678.377 66.3376 683.036 66.3376 L690.692 66.3376 L690.692 72.576 L683.036 72.576 Q674.408 72.576 671.126 69.3758 Q667.845 66.1351 667.845 57.6282 L667.845 32.9987 L662.376 32.9987 L662.376 27.2059 L667.845 27.2059 L667.845 14.324 L675.339 14.324 Z\" fill=\"#000000\" fill-rule=\"evenodd\" fill-opacity=\"1\" /><path clip-path=\"url(#clip410)\" d=\"M738.209 45.1919 L738.209 72.576 L730.756 72.576 L730.756 45.4349 Q730.756 38.994 728.244 35.7938 Q725.732 32.5936 720.709 32.5936 Q714.674 32.5936 711.19 36.4419 Q707.706 40.2903 707.706 46.9338 L707.706 72.576 L700.212 72.576 L700.212 9.54393 L707.706 9.54393 L707.706 34.2544 Q710.38 30.163 713.985 28.1376 Q717.631 26.1121 722.37 26.1121 Q730.188 26.1121 734.199 30.9732 Q738.209 35.7938 738.209 45.1919 Z\" fill=\"#000000\" fill-rule=\"evenodd\" fill-opacity=\"1\" /><path clip-path=\"url(#clip410)\" d=\"M791.884 48.0275 L791.884 51.6733 L757.613 51.6733 Q758.099 59.3701 762.231 63.421 Q766.404 67.4314 773.817 67.4314 Q778.111 67.4314 782.121 66.3781 Q786.172 65.3249 790.142 63.2184 L790.142 70.267 Q786.131 71.9684 781.919 72.8596 Q777.706 73.7508 773.371 73.7508 Q762.515 73.7508 756.155 67.4314 Q749.835 61.1119 749.835 50.3365 Q749.835 39.1965 755.831 32.6746 Q761.867 26.1121 772.075 26.1121 Q781.23 26.1121 786.537 32.0264 Q791.884 37.9003 791.884 48.0275 M784.43 45.84 Q784.349 39.7232 780.987 36.0774 Q777.665 32.4315 772.156 32.4315 Q765.917 32.4315 762.15 35.9558 Q758.423 39.4801 757.856 45.8805 L784.43 45.84 Z\" fill=\"#000000\" fill-rule=\"evenodd\" fill-opacity=\"1\" /><path clip-path=\"url(#clip410)\" d=\"M826.154 27.2059 L833.608 27.2059 L842.925 62.6108 L852.202 27.2059 L860.992 27.2059 L870.309 62.6108 L879.586 27.2059 L887.039 27.2059 L875.17 72.576 L866.38 72.576 L856.617 35.3887 L846.814 72.576 L838.024 72.576 L826.154 27.2059 Z\" fill=\"#000000\" fill-rule=\"evenodd\" fill-opacity=\"1\" /><path clip-path=\"url(#clip410)\" d=\"M936.055 45.1919 L936.055 72.576 L928.602 72.576 L928.602 45.4349 Q928.602 38.994 926.09 35.7938 Q923.579 32.5936 918.556 32.5936 Q912.52 32.5936 909.036 36.4419 Q905.552 40.2903 905.552 46.9338 L905.552 72.576 L898.058 72.576 L898.058 9.54393 L905.552 9.54393 L905.552 34.2544 Q908.226 30.163 911.831 28.1376 Q915.477 26.1121 920.216 26.1121 Q928.035 26.1121 932.045 30.9732 Q936.055 35.7938 936.055 45.1919 Z\" fill=\"#000000\" fill-rule=\"evenodd\" fill-opacity=\"1\" /><path clip-path=\"url(#clip410)\" d=\"M968.503 32.4315 Q962.508 32.4315 959.024 37.1306 Q955.54 41.7891 955.54 49.9314 Q955.54 58.0738 958.984 62.7728 Q962.467 67.4314 968.503 67.4314 Q974.458 67.4314 977.942 62.7323 Q981.426 58.0333 981.426 49.9314 Q981.426 41.8701 977.942 37.1711 Q974.458 32.4315 968.503 32.4315 M968.503 26.1121 Q978.225 26.1121 983.775 32.4315 Q989.325 38.7509 989.325 49.9314 Q989.325 61.0714 983.775 67.4314 Q978.225 73.7508 968.503 73.7508 Q958.741 73.7508 953.191 67.4314 Q947.682 61.0714 947.682 49.9314 Q947.682 38.7509 953.191 32.4315 Q958.741 26.1121 968.503 26.1121 Z\" fill=\"#000000\" fill-rule=\"evenodd\" fill-opacity=\"1\" /><path clip-path=\"url(#clip410)\" d=\"M1001.68 9.54393 L1009.13 9.54393 L1009.13 72.576 L1001.68 72.576 L1001.68 9.54393 Z\" fill=\"#000000\" fill-rule=\"evenodd\" fill-opacity=\"1\" /><path clip-path=\"url(#clip410)\" d=\"M1063.54 48.0275 L1063.54 51.6733 L1029.27 51.6733 Q1029.75 59.3701 1033.88 63.421 Q1038.06 67.4314 1045.47 67.4314 Q1049.76 67.4314 1053.77 66.3781 Q1057.83 65.3249 1061.8 63.2184 L1061.8 70.267 Q1057.79 71.9684 1053.57 72.8596 Q1049.36 73.7508 1045.02 73.7508 Q1034.17 73.7508 1027.81 67.4314 Q1021.49 61.1119 1021.49 50.3365 Q1021.49 39.1965 1027.48 32.6746 Q1033.52 26.1121 1043.73 26.1121 Q1052.88 26.1121 1058.19 32.0264 Q1063.54 37.9003 1063.54 48.0275 M1056.08 45.84 Q1056 39.7232 1052.64 36.0774 Q1049.32 32.4315 1043.81 32.4315 Q1037.57 32.4315 1033.8 35.9558 Q1030.08 39.4801 1029.51 45.8805 L1056.08 45.84 Z\" fill=\"#000000\" fill-rule=\"evenodd\" fill-opacity=\"1\" /><path clip-path=\"url(#clip410)\" d=\"M1131.07 28.5427 L1131.07 35.5912 Q1127.91 33.9709 1124.5 33.1607 Q1121.1 32.3505 1117.45 32.3505 Q1111.91 32.3505 1109.11 34.0519 Q1106.36 35.7533 1106.36 39.156 Q1106.36 41.7486 1108.34 43.2475 Q1110.33 44.7058 1116.32 46.0426 L1118.87 46.6097 Q1126.81 48.3111 1130.13 51.4303 Q1133.5 54.509 1133.5 60.0587 Q1133.5 66.3781 1128.47 70.0644 Q1123.49 73.7508 1114.74 73.7508 Q1111.1 73.7508 1107.13 73.0216 Q1103.2 72.3329 1098.82 70.9151 L1098.82 63.2184 Q1102.95 65.3654 1106.96 66.4591 Q1110.97 67.5124 1114.9 67.5124 Q1120.17 67.5124 1123 65.73 Q1125.84 63.9071 1125.84 60.6258 Q1125.84 57.5877 1123.77 55.9673 Q1121.75 54.3469 1114.82 52.8481 L1112.23 52.2405 Q1105.3 50.7821 1102.22 47.7845 Q1099.14 44.7463 1099.14 39.4801 Q1099.14 33.0797 1103.68 29.5959 Q1108.22 26.1121 1116.56 26.1121 Q1120.7 26.1121 1124.34 26.7198 Q1127.99 27.3274 1131.07 28.5427 Z\" fill=\"#000000\" fill-rule=\"evenodd\" fill-opacity=\"1\" /><path clip-path=\"url(#clip410)\" d=\"M1144.6 54.671 L1144.6 27.2059 L1152.05 27.2059 L1152.05 54.3874 Q1152.05 60.8284 1154.56 64.0691 Q1157.07 67.2693 1162.1 67.2693 Q1168.13 67.2693 1171.62 63.421 Q1175.14 59.5726 1175.14 52.9291 L1175.14 27.2059 L1182.59 27.2059 L1182.59 72.576 L1175.14 72.576 L1175.14 65.6084 Q1172.43 69.7404 1168.82 71.7658 Q1165.26 73.7508 1160.52 73.7508 Q1152.7 73.7508 1148.65 68.8897 Q1144.6 64.0286 1144.6 54.671 M1163.35 26.1121 L1163.35 26.1121 Z\" fill=\"#000000\" fill-rule=\"evenodd\" fill-opacity=\"1\" /><path clip-path=\"url(#clip410)\" d=\"M1205.16 65.7705 L1205.16 89.8329 L1197.66 89.8329 L1197.66 27.2059 L1205.16 27.2059 L1205.16 34.0924 Q1207.51 30.0415 1211.07 28.0971 Q1214.68 26.1121 1219.66 26.1121 Q1227.92 26.1121 1233.07 32.6746 Q1238.25 39.2371 1238.25 49.9314 Q1238.25 60.6258 1233.07 67.1883 Q1227.92 73.7508 1219.66 73.7508 Q1214.68 73.7508 1211.07 71.8063 Q1207.51 69.8214 1205.16 65.7705 M1230.52 49.9314 Q1230.52 41.7081 1227.11 37.0496 Q1223.75 32.3505 1217.84 32.3505 Q1211.92 32.3505 1208.52 37.0496 Q1205.16 41.7081 1205.16 49.9314 Q1205.16 58.1548 1208.52 62.8538 Q1211.92 67.5124 1217.84 67.5124 Q1223.75 67.5124 1227.11 62.8538 Q1230.52 58.1548 1230.52 49.9314 Z\" fill=\"#000000\" fill-rule=\"evenodd\" fill-opacity=\"1\" /><path clip-path=\"url(#clip410)\" d=\"M1257.82 65.7705 L1257.82 89.8329 L1250.32 89.8329 L1250.32 27.2059 L1257.82 27.2059 L1257.82 34.0924 Q1260.17 30.0415 1263.73 28.0971 Q1267.34 26.1121 1272.32 26.1121 Q1280.58 26.1121 1285.73 32.6746 Q1290.91 39.2371 1290.91 49.9314 Q1290.91 60.6258 1285.73 67.1883 Q1280.58 73.7508 1272.32 73.7508 Q1267.34 73.7508 1263.73 71.8063 Q1260.17 69.8214 1257.82 65.7705 M1283.18 49.9314 Q1283.18 41.7081 1279.77 37.0496 Q1276.41 32.3505 1270.5 32.3505 Q1264.58 32.3505 1261.18 37.0496 Q1257.82 41.7081 1257.82 49.9314 Q1257.82 58.1548 1261.18 62.8538 Q1264.58 67.5124 1270.5 67.5124 Q1276.41 67.5124 1279.77 62.8538 Q1283.18 58.1548 1283.18 49.9314 Z\" fill=\"#000000\" fill-rule=\"evenodd\" fill-opacity=\"1\" /><path clip-path=\"url(#clip410)\" d=\"M1303.27 9.54393 L1310.72 9.54393 L1310.72 72.576 L1303.27 72.576 L1303.27 9.54393 Z\" fill=\"#000000\" fill-rule=\"evenodd\" fill-opacity=\"1\" /><path clip-path=\"url(#clip410)\" d=\"M1345.2 76.7889 Q1342.04 84.8907 1339.04 87.3618 Q1336.04 89.8329 1331.02 89.8329 L1325.06 89.8329 L1325.06 83.5945 L1329.44 83.5945 Q1332.52 83.5945 1334.22 82.1361 Q1335.92 80.6778 1337.99 75.2496 L1339.32 71.8468 L1320.97 27.2059 L1328.87 27.2059 L1343.05 62.6918 L1357.23 27.2059 L1365.13 27.2059 L1345.2 76.7889 Z\" fill=\"#000000\" fill-rule=\"evenodd\" fill-opacity=\"1\" /><path clip-path=\"url(#clip410)\" d=\"M1434.44 28.9478 L1434.44 35.9153 Q1431.28 34.1734 1428.08 33.3227 Q1424.92 32.4315 1421.68 32.4315 Q1414.43 32.4315 1410.42 37.0496 Q1406.41 41.6271 1406.41 49.9314 Q1406.41 58.2358 1410.42 62.8538 Q1414.43 67.4314 1421.68 67.4314 Q1424.92 67.4314 1428.08 66.5807 Q1431.28 65.6895 1434.44 63.9476 L1434.44 70.8341 Q1431.32 72.2924 1427.96 73.0216 Q1424.63 73.7508 1420.87 73.7508 Q1410.62 73.7508 1404.58 67.3098 Q1398.55 60.8689 1398.55 49.9314 Q1398.55 38.832 1404.62 32.472 Q1410.74 26.1121 1421.35 26.1121 Q1424.8 26.1121 1428.08 26.8413 Q1431.36 27.5299 1434.44 28.9478 Z\" fill=\"#000000\" fill-rule=\"evenodd\" fill-opacity=\"1\" /><path clip-path=\"url(#clip410)\" d=\"M1485.11 45.1919 L1485.11 72.576 L1477.66 72.576 L1477.66 45.4349 Q1477.66 38.994 1475.15 35.7938 Q1472.64 32.5936 1467.62 32.5936 Q1461.58 32.5936 1458.1 36.4419 Q1454.61 40.2903 1454.61 46.9338 L1454.61 72.576 L1447.12 72.576 L1447.12 9.54393 L1454.61 9.54393 L1454.61 34.2544 Q1457.29 30.163 1460.89 28.1376 Q1464.54 26.1121 1469.28 26.1121 Q1477.09 26.1121 1481.1 30.9732 Q1485.11 35.7938 1485.11 45.1919 Z\" fill=\"#000000\" fill-rule=\"evenodd\" fill-opacity=\"1\" /><path clip-path=\"url(#clip410)\" d=\"M1520.6 49.7694 Q1511.57 49.7694 1508.08 51.8354 Q1504.6 53.9013 1504.6 58.8839 Q1504.6 62.8538 1507.19 65.2034 Q1509.83 67.5124 1514.32 67.5124 Q1520.52 67.5124 1524.25 63.1374 Q1528.01 58.7219 1528.01 51.4303 L1528.01 49.7694 L1520.6 49.7694 M1535.47 46.6907 L1535.47 72.576 L1528.01 72.576 L1528.01 65.6895 Q1525.46 69.8214 1521.65 71.8063 Q1517.85 73.7508 1512.34 73.7508 Q1505.37 73.7508 1501.24 69.8619 Q1497.15 65.9325 1497.15 59.3701 Q1497.15 51.7138 1502.25 47.825 Q1507.39 43.9361 1517.56 43.9361 L1528.01 43.9361 L1528.01 43.2069 Q1528.01 38.0623 1524.61 35.2672 Q1521.25 32.4315 1515.13 32.4315 Q1511.24 32.4315 1507.56 33.3632 Q1503.87 34.295 1500.47 36.1584 L1500.47 29.2718 Q1504.56 27.692 1508.41 26.9223 Q1512.26 26.1121 1515.9 26.1121 Q1525.75 26.1121 1530.61 31.2163 Q1535.47 36.3204 1535.47 46.6907 Z\" fill=\"#000000\" fill-rule=\"evenodd\" fill-opacity=\"1\" /><path clip-path=\"url(#clip410)\" d=\"M1550.82 27.2059 L1558.27 27.2059 L1558.27 72.576 L1550.82 72.576 L1550.82 27.2059 M1550.82 9.54393 L1558.27 9.54393 L1558.27 18.9825 L1550.82 18.9825 L1550.82 9.54393 Z\" fill=\"#000000\" fill-rule=\"evenodd\" fill-opacity=\"1\" /><path clip-path=\"url(#clip410)\" d=\"M1611.58 45.1919 L1611.58 72.576 L1604.13 72.576 L1604.13 45.4349 Q1604.13 38.994 1601.62 35.7938 Q1599.11 32.5936 1594.08 32.5936 Q1588.05 32.5936 1584.56 36.4419 Q1581.08 40.2903 1581.08 46.9338 L1581.08 72.576 L1573.59 72.576 L1573.59 27.2059 L1581.08 27.2059 L1581.08 34.2544 Q1583.75 30.163 1587.36 28.1376 Q1591.01 26.1121 1595.75 26.1121 Q1603.56 26.1121 1607.57 30.9732 Q1611.58 35.7938 1611.58 45.1919 Z\" fill=\"#000000\" fill-rule=\"evenodd\" fill-opacity=\"1\" /><path clip-path=\"url(#clip410)\" d=\"M1670.73 9.62495 Q1665.3 18.942 1662.67 28.0566 Q1660.03 37.1711 1660.03 46.5287 Q1660.03 55.8863 1662.67 65.0818 Q1665.34 74.2369 1670.73 83.5134 L1664.25 83.5134 Q1658.17 73.9938 1655.13 64.7983 Q1652.13 55.6027 1652.13 46.5287 Q1652.13 37.4952 1655.13 28.3401 Q1658.13 19.1851 1664.25 9.62495 L1670.73 9.62495 Z\" fill=\"#000000\" fill-rule=\"evenodd\" fill-opacity=\"1\" /><path clip-path=\"url(#clip410)\" d=\"M1717.23 34.4165 Q1715.73 33.8899 1714.23 33.4848 Q1710.22 32.4315 1705.93 32.4315 Q1698.52 32.4315 1694.38 36.4419 Q1690.54 40.1688 1689.81 47.0148 L1717.23 47.0148 L1717.23 52.8481 L1689.81 52.8481 Q1690.54 59.6941 1694.38 63.421 Q1698.52 67.4314 1705.93 67.4314 Q1711.11 67.4314 1714.23 66.3781 L1717.23 65.3654 L1717.23 72.1304 L1714.03 72.8596 Q1709.82 73.7508 1705.48 73.7508 Q1694.63 73.7508 1688.31 67.4314 Q1681.95 61.1119 1681.95 49.9314 Q1681.95 38.7509 1688.31 32.4315 Q1694.63 26.1121 1705.48 26.1121 Q1709.58 26.1121 1714.03 27.0033 Q1715.65 27.3274 1717.23 27.8135 L1717.23 34.4165 Z\" fill=\"#000000\" fill-rule=\"evenodd\" fill-opacity=\"1\" /><path clip-path=\"url(#clip410)\" d=\"M1732.46 46.5287 L1754.3 46.5287 L1754.3 53.1722 L1732.46 53.1722 L1732.46 46.5287 Z\" fill=\"#000000\" fill-rule=\"evenodd\" fill-opacity=\"1\" /><path clip-path=\"url(#clip410)\" d=\"M1798.82 28.9478 L1798.82 35.9153 Q1795.66 34.1734 1792.46 33.3227 Q1789.3 32.4315 1786.06 32.4315 Q1778.81 32.4315 1774.8 37.0496 Q1770.78 41.6271 1770.78 49.9314 Q1770.78 58.2358 1774.8 62.8538 Q1778.81 67.4314 1786.06 67.4314 Q1789.3 67.4314 1792.46 66.5807 Q1795.66 65.6895 1798.82 63.9476 L1798.82 70.8341 Q1795.7 72.2924 1792.34 73.0216 Q1789.01 73.7508 1785.25 73.7508 Q1775 73.7508 1768.96 67.3098 Q1762.93 60.8689 1762.93 49.9314 Q1762.93 38.832 1769 32.472 Q1775.12 26.1121 1785.73 26.1121 Q1789.18 26.1121 1792.46 26.8413 Q1795.74 27.5299 1798.82 28.9478 Z\" fill=\"#000000\" fill-rule=\"evenodd\" fill-opacity=\"1\" /><path clip-path=\"url(#clip410)\" d=\"M1829.36 32.4315 Q1823.37 32.4315 1819.88 37.1306 Q1816.4 41.7891 1816.4 49.9314 Q1816.4 58.0738 1819.84 62.7728 Q1823.32 67.4314 1829.36 67.4314 Q1835.32 67.4314 1838.8 62.7323 Q1842.28 58.0333 1842.28 49.9314 Q1842.28 41.8701 1838.8 37.1711 Q1835.32 32.4315 1829.36 32.4315 M1829.36 26.1121 Q1839.08 26.1121 1844.63 32.4315 Q1850.18 38.7509 1850.18 49.9314 Q1850.18 61.0714 1844.63 67.4314 Q1839.08 73.7508 1829.36 73.7508 Q1819.6 73.7508 1814.05 67.4314 Q1808.54 61.0714 1808.54 49.9314 Q1808.54 38.7509 1814.05 32.4315 Q1819.6 26.1121 1829.36 26.1121 Z\" fill=\"#000000\" fill-rule=\"evenodd\" fill-opacity=\"1\" /><path clip-path=\"url(#clip410)\" d=\"M1900.25 45.1919 L1900.25 72.576 L1892.8 72.576 L1892.8 45.4349 Q1892.8 38.994 1890.29 35.7938 Q1887.77 32.5936 1882.75 32.5936 Q1876.72 32.5936 1873.23 36.4419 Q1869.75 40.2903 1869.75 46.9338 L1869.75 72.576 L1862.25 72.576 L1862.25 27.2059 L1869.75 27.2059 L1869.75 34.2544 Q1872.42 30.163 1876.03 28.1376 Q1879.67 26.1121 1884.41 26.1121 Q1892.23 26.1121 1896.24 30.9732 Q1900.25 35.7938 1900.25 45.1919 Z\" fill=\"#000000\" fill-rule=\"evenodd\" fill-opacity=\"1\" /><path clip-path=\"url(#clip410)\" d=\"M1944.04 28.5427 L1944.04 35.5912 Q1940.88 33.9709 1937.48 33.1607 Q1934.08 32.3505 1930.43 32.3505 Q1924.88 32.3505 1922.09 34.0519 Q1919.33 35.7533 1919.33 39.156 Q1919.33 41.7486 1921.32 43.2475 Q1923.3 44.7058 1929.3 46.0426 L1931.85 46.6097 Q1939.79 48.3111 1943.11 51.4303 Q1946.47 54.509 1946.47 60.0587 Q1946.47 66.3781 1941.45 70.0644 Q1936.47 73.7508 1927.72 73.7508 Q1924.07 73.7508 1920.1 73.0216 Q1916.17 72.3329 1911.8 70.9151 L1911.8 63.2184 Q1915.93 65.3654 1919.94 66.4591 Q1923.95 67.5124 1927.88 67.5124 Q1933.15 67.5124 1935.98 65.73 Q1938.82 63.9071 1938.82 60.6258 Q1938.82 57.5877 1936.75 55.9673 Q1934.72 54.3469 1927.8 52.8481 L1925.21 52.2405 Q1918.28 50.7821 1915.2 47.7845 Q1912.12 44.7463 1912.12 39.4801 Q1912.12 33.0797 1916.66 29.5959 Q1921.19 26.1121 1929.54 26.1121 Q1933.67 26.1121 1937.32 26.7198 Q1940.96 27.3274 1944.04 28.5427 Z\" fill=\"#000000\" fill-rule=\"evenodd\" fill-opacity=\"1\" /><path clip-path=\"url(#clip410)\" d=\"M1965.71 14.324 L1965.71 27.2059 L1981.07 27.2059 L1981.07 32.9987 L1965.71 32.9987 L1965.71 57.6282 Q1965.71 63.1779 1967.21 64.7578 Q1968.75 66.3376 1973.41 66.3376 L1981.07 66.3376 L1981.07 72.576 L1973.41 72.576 Q1964.78 72.576 1961.5 69.3758 Q1958.22 66.1351 1958.22 57.6282 L1958.22 32.9987 L1952.75 32.9987 L1952.75 27.2059 L1958.22 27.2059 L1958.22 14.324 L1965.71 14.324 Z\" fill=\"#000000\" fill-rule=\"evenodd\" fill-opacity=\"1\" /><path clip-path=\"url(#clip410)\" d=\"M2017.16 34.1734 Q2015.9 33.4443 2014.41 33.1202 Q2012.95 32.7556 2011.17 32.7556 Q2004.85 32.7556 2001.44 36.8875 Q1998.08 40.9789 1998.08 48.6757 L1998.08 72.576 L1990.59 72.576 L1990.59 27.2059 L1998.08 27.2059 L1998.08 34.2544 Q2000.43 30.1225 2004.2 28.1376 Q2007.97 26.1121 2013.35 26.1121 Q2014.12 26.1121 2015.05 26.2337 Q2015.99 26.3147 2017.12 26.5172 L2017.16 34.1734 Z\" fill=\"#000000\" fill-rule=\"evenodd\" fill-opacity=\"1\" /><path clip-path=\"url(#clip410)\" d=\"M2045.6 49.7694 Q2036.56 49.7694 2033.08 51.8354 Q2029.6 53.9013 2029.6 58.8839 Q2029.6 62.8538 2032.19 65.2034 Q2034.82 67.5124 2039.32 67.5124 Q2045.52 67.5124 2049.24 63.1374 Q2053.01 58.7219 2053.01 51.4303 L2053.01 49.7694 L2045.6 49.7694 M2060.46 46.6907 L2060.46 72.576 L2053.01 72.576 L2053.01 65.6895 Q2050.46 69.8214 2046.65 71.8063 Q2042.84 73.7508 2037.33 73.7508 Q2030.37 73.7508 2026.23 69.8619 Q2022.14 65.9325 2022.14 59.3701 Q2022.14 51.7138 2027.25 47.825 Q2032.39 43.9361 2042.56 43.9361 L2053.01 43.9361 L2053.01 43.2069 Q2053.01 38.0623 2049.61 35.2672 Q2046.25 32.4315 2040.13 32.4315 Q2036.24 32.4315 2032.55 33.3632 Q2028.87 34.295 2025.47 36.1584 L2025.47 29.2718 Q2029.56 27.692 2033.4 26.9223 Q2037.25 26.1121 2040.9 26.1121 Q2050.74 26.1121 2055.6 31.2163 Q2060.46 36.3204 2060.46 46.6907 Z\" fill=\"#000000\" fill-rule=\"evenodd\" fill-opacity=\"1\" /><path clip-path=\"url(#clip410)\" d=\"M2075.82 27.2059 L2083.27 27.2059 L2083.27 72.576 L2075.82 72.576 L2075.82 27.2059 M2075.82 9.54393 L2083.27 9.54393 L2083.27 18.9825 L2075.82 18.9825 L2075.82 9.54393 Z\" fill=\"#000000\" fill-rule=\"evenodd\" fill-opacity=\"1\" /><path clip-path=\"url(#clip410)\" d=\"M2136.58 45.1919 L2136.58 72.576 L2129.13 72.576 L2129.13 45.4349 Q2129.13 38.994 2126.62 35.7938 Q2124.1 32.5936 2119.08 32.5936 Q2113.05 32.5936 2109.56 36.4419 Q2106.08 40.2903 2106.08 46.9338 L2106.08 72.576 L2098.58 72.576 L2098.58 27.2059 L2106.08 27.2059 L2106.08 34.2544 Q2108.75 30.163 2112.36 28.1376 Q2116 26.1121 2120.74 26.1121 Q2128.56 26.1121 2132.57 30.9732 Q2136.58 35.7938 2136.58 45.1919 Z\" fill=\"#000000\" fill-rule=\"evenodd\" fill-opacity=\"1\" /><path clip-path=\"url(#clip410)\" d=\"M2158.82 14.324 L2158.82 27.2059 L2174.17 27.2059 L2174.17 32.9987 L2158.82 32.9987 L2158.82 57.6282 Q2158.82 63.1779 2160.32 64.7578 Q2161.86 66.3376 2166.52 66.3376 L2174.17 66.3376 L2174.17 72.576 L2166.52 72.576 Q2157.89 72.576 2154.61 69.3758 Q2151.33 66.1351 2151.33 57.6282 L2151.33 32.9987 L2145.86 32.9987 L2145.86 27.2059 L2151.33 27.2059 L2151.33 14.324 L2158.82 14.324 Z\" fill=\"#000000\" fill-rule=\"evenodd\" fill-opacity=\"1\" /><path clip-path=\"url(#clip410)\" d=\"M2182.8 9.62495 L2189.28 9.62495 Q2195.36 19.1851 2198.36 28.3401 Q2201.4 37.4952 2201.4 46.5287 Q2201.4 55.6027 2198.36 64.7983 Q2195.36 73.9938 2189.28 83.5134 L2182.8 83.5134 Q2188.19 74.2369 2190.82 65.0818 Q2193.5 55.8863 2193.5 46.5287 Q2193.5 37.1711 2190.82 28.0566 Q2188.19 18.942 2182.8 9.62495 Z\" fill=\"#000000\" fill-rule=\"evenodd\" fill-opacity=\"1\" /><polyline clip-path=\"url(#clip412)\" style=\"stroke:#009af9; stroke-linecap:round; stroke-linejoin:round; stroke-width:4; stroke-opacity:1; fill:none\" points=\"\n",
       "  3153.41,777.444 2751.53,787.216 2349.65,786.852 1947.76,769.556 1545.88,746.589 1144,616.188 \n",
       "  \"/>\n",
       "<circle clip-path=\"url(#clip412)\" cx=\"2349.65\" cy=\"786.852\" r=\"14.4\" fill=\"#e26f46\" fill-rule=\"evenodd\" fill-opacity=\"1\" stroke=\"#000000\" stroke-opacity=\"1\" stroke-width=\"3.2\"/>\n",
       "<circle clip-path=\"url(#clip412)\" cx=\"1947.76\" cy=\"769.556\" r=\"14.4\" fill=\"#e26f46\" fill-rule=\"evenodd\" fill-opacity=\"1\" stroke=\"#000000\" stroke-opacity=\"1\" stroke-width=\"3.2\"/>\n",
       "<circle clip-path=\"url(#clip412)\" cx=\"1545.88\" cy=\"746.589\" r=\"14.4\" fill=\"#e26f46\" fill-rule=\"evenodd\" fill-opacity=\"1\" stroke=\"#000000\" stroke-opacity=\"1\" stroke-width=\"3.2\"/>\n",
       "<circle clip-path=\"url(#clip412)\" cx=\"1144\" cy=\"616.188\" r=\"14.4\" fill=\"#e26f46\" fill-rule=\"evenodd\" fill-opacity=\"1\" stroke=\"#000000\" stroke-opacity=\"1\" stroke-width=\"3.2\"/>\n",
       "<path clip-path=\"url(#clip410)\" d=\"\n",
       "M2024.96 322.316 L2283.91 322.316 L2283.91 166.796 L2024.96 166.796  Z\n",
       "  \" fill=\"#ffffff\" fill-rule=\"evenodd\" fill-opacity=\"1\"/>\n",
       "<polyline clip-path=\"url(#clip410)\" style=\"stroke:#000000; stroke-linecap:round; stroke-linejoin:round; stroke-width:4; stroke-opacity:1; fill:none\" points=\"\n",
       "  2024.96,322.316 2283.91,322.316 2283.91,166.796 2024.96,166.796 2024.96,322.316 \n",
       "  \"/>\n",
       "<polyline clip-path=\"url(#clip410)\" style=\"stroke:#009af9; stroke-linecap:round; stroke-linejoin:round; stroke-width:4; stroke-opacity:1; fill:none\" points=\"\n",
       "  2047.91,218.636 2185.59,218.636 \n",
       "  \"/>\n",
       "<path clip-path=\"url(#clip410)\" d=\"M2222.38 238.323 Q2220.57 242.953 2218.86 244.365 Q2217.15 245.777 2214.28 245.777 L2210.88 245.777 L2210.88 242.212 L2213.38 242.212 Q2215.13 242.212 2216.11 241.379 Q2217.08 240.545 2218.26 237.443 L2219.02 235.499 L2208.54 209.99 L2213.05 209.99 L2221.15 230.268 L2229.26 209.99 L2233.77 209.99 L2222.38 238.323 Z\" fill=\"#000000\" fill-rule=\"evenodd\" fill-opacity=\"1\" /><path clip-path=\"url(#clip410)\" d=\"M2241.06 231.981 L2248.7 231.981 L2248.7 205.615 L2240.39 207.282 L2240.39 203.022 L2248.65 201.356 L2253.33 201.356 L2253.33 231.981 L2260.97 231.981 L2260.97 235.916 L2241.06 235.916 L2241.06 231.981 Z\" fill=\"#000000\" fill-rule=\"evenodd\" fill-opacity=\"1\" /><circle clip-path=\"url(#clip410)\" cx=\"2116.75\" cy=\"270.476\" r=\"23.04\" fill=\"#e26f46\" fill-rule=\"evenodd\" fill-opacity=\"1\" stroke=\"#000000\" stroke-opacity=\"1\" stroke-width=\"5.12\"/>\n",
       "<path clip-path=\"url(#clip410)\" d=\"M2222.38 290.163 Q2220.57 294.793 2218.86 296.205 Q2217.15 297.617 2214.28 297.617 L2210.88 297.617 L2210.88 294.052 L2213.38 294.052 Q2215.13 294.052 2216.11 293.219 Q2217.08 292.385 2218.26 289.283 L2219.02 287.339 L2208.54 261.83 L2213.05 261.83 L2221.15 282.108 L2229.26 261.83 L2233.77 261.83 L2222.38 290.163 Z\" fill=\"#000000\" fill-rule=\"evenodd\" fill-opacity=\"1\" /><path clip-path=\"url(#clip410)\" d=\"M2244.28 283.821 L2260.6 283.821 L2260.6 287.756 L2238.65 287.756 L2238.65 283.821 Q2241.32 281.066 2245.9 276.436 Q2250.51 271.784 2251.69 270.441 Q2253.93 267.918 2254.81 266.182 Q2255.71 264.423 2255.71 262.733 Q2255.71 259.978 2253.77 258.242 Q2251.85 256.506 2248.75 256.506 Q2246.55 256.506 2244.09 257.27 Q2241.66 258.034 2238.88 259.585 L2238.88 254.862 Q2241.71 253.728 2244.16 253.149 Q2246.62 252.571 2248.65 252.571 Q2254.02 252.571 2257.22 255.256 Q2260.41 257.941 2260.41 262.432 Q2260.41 264.561 2259.6 266.483 Q2258.82 268.381 2256.71 270.973 Q2256.13 271.645 2253.03 274.862 Q2249.93 278.057 2244.28 283.821 Z\" fill=\"#000000\" fill-rule=\"evenodd\" fill-opacity=\"1\" /></svg>\n"
      ]
     },
     "execution_count": 32,
     "metadata": {},
     "output_type": "execute_result"
    }
   ],
   "source": [
    "x_axis = ls\n",
    "y_axis = res\n",
    "\n",
    "plot(x_axis, y_axis, xlims=(-1, 2), ylims=(-1,-0.96))\n",
    "plot!(x_axis, y_axis, seriestype=:scatter)\n",
    "\n",
    "title!(\"Over the whole supply chain (ϵ-constraint)\")\n",
    "xlabel!(\"Ecologically Safe\")\n",
    "ylabel!(\"Socially Just\")"
   ]
  },
  {
   "cell_type": "code",
   "execution_count": null,
   "id": "e4fd3a4b",
   "metadata": {},
   "outputs": [],
   "source": []
  }
 ],
 "metadata": {
  "kernelspec": {
   "display_name": "Julia 1.8.3",
   "language": "julia",
   "name": "julia-1.8"
  },
  "language_info": {
   "file_extension": ".jl",
   "mimetype": "application/julia",
   "name": "julia",
   "version": "1.8.3"
  }
 },
 "nbformat": 4,
 "nbformat_minor": 5
}
