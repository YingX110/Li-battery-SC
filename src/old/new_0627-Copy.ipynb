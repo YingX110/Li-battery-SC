{
 "cells": [
  {
   "cell_type": "code",
   "execution_count": 1,
   "id": "9b532604",
   "metadata": {},
   "outputs": [],
   "source": [
    "using JuMP, Gurobi\n",
    "using CSV, LinearAlgebra, DataFrames"
   ]
  },
  {
   "cell_type": "code",
   "execution_count": 2,
   "id": "52b86dd3",
   "metadata": {},
   "outputs": [],
   "source": [
    "#load the data and orgnize \n",
    "FL = repeat([Float64], inner=15)\n",
    "dtype = append!([String], FL);\n",
    "\n",
    "regional_EF = CSV.File(\"C:/Users/bourg/.julia/environments/batterySC/Li-battery-SC/data/SC_regional/new_EF_SC.csv\",header=1,delim=\",\", types=dtype) |> DataFrame    \n",
    "capacity = CSV.File(\"C:/Users/bourg/.julia/environments/batterySC/Li-battery-SC/data/SC_regional/capacity.csv\",header=1,delim=\",\", types=dtype) |> DataFrame    \n",
    "distance = CSV.File(\"C:/Users/bourg/.julia/environments/batterySC/Li-battery-SC/data/SC_regional/distance.csv\",header=1,delim=\",\") |> DataFrame \n",
    "LCA_model = CSV.File(\"C:/Users/bourg/.julia/environments/batterySC/Li-battery-SC/data/SC_regional/LCA_model.csv\",header=1,delim=\",\") |> DataFrame \n",
    "emi_sink = CSV.File(\"C:/Users/bourg/.julia/environments/batterySC/Li-battery-SC/data/SC_regional/emission_sink.csv\",header=1,delim=\",\") |> DataFrame;"
   ]
  },
  {
   "cell_type": "code",
   "execution_count": 9,
   "id": "871a427e",
   "metadata": {},
   "outputs": [],
   "source": [
    "cell_demand = 0.001*165*(1.369*1e6)*3          # annual demand of Li battery for tesla (2M EV/yr, 3 NMC111 pack/EV, 164.98 kg/pack)\n",
    "\n",
    "global_sink = 1.099e10                        # global pub (ocean) CO2 sequestration (ton/yr)\n",
    "global_sink_tot = 2.236e10                  # global total (ocean+land) CO2 sequestration (ton/yr)\n",
    "global_emi = 3.53e10                          # global CO2 emission (ton/yr)\n",
    "es_ratio = global_sink/global_emi\n",
    "es_ratio_tot = global_sink_tot/global_emi\n",
    "emission_c = emi_sink[!, \"emission\"]          # national CO2 emission (ton/yr)\n",
    "sink_c = emi_sink[!, \"sink ton/yr\"]           # national CO2 sink (ton/yr)\n",
    "\n",
    "EF_trans = 1.005/10000                        # ton CO2/km*ton (The average freight truck in the U.S. emits 161.8 grams of CO2 per ton-mile)\n",
    "process = LCA_model[!,\"process\"]\n",
    "countries = capacity[!,\"Country\"]\n",
    "ncty = size(countries,1)                          # No. of countries\n",
    "nproc = size(process,1);                          # No. of processes \n",
    "\n",
    "mkt_loc = findfirst(isequal(\"United States\"), countries)\n",
    "mkt_proc = findfirst(isequal(\"battery\"), process)\n",
    "\n",
    "# seperate model\n",
    "cathode = 1:4\n",
    "cell = 5:10\n",
    "noncell = [12,13]\n",
    "battery = [11,14]\n",
    "scaler = LCA_model[!,\"scaler\"];"
   ]
  },
  {
   "cell_type": "code",
   "execution_count": 4,
   "id": "699e800d",
   "metadata": {},
   "outputs": [
    {
     "data": {
      "text/html": [
       "<div><div style = \"float: left;\"><span>15×3 DataFrame</span></div><div style = \"clear: both;\"></div></div><div class = \"data-frame\" style = \"overflow-x: scroll;\"><table class = \"data-frame\" style = \"margin-bottom: 6px;\"><thead><tr class = \"header\"><th class = \"rowNumber\" style = \"font-weight: bold; text-align: right;\">Row</th><th style = \"text-align: left;\">process</th><th style = \"text-align: left;\">input (material/kg battery)</th><th style = \"text-align: left;\">scaler</th></tr><tr class = \"subheader headerLastRow\"><th class = \"rowNumber\" style = \"font-weight: bold; text-align: right;\"></th><th title = \"String15\" style = \"text-align: left;\">String15</th><th title = \"Float64\" style = \"text-align: left;\">Float64</th><th title = \"Float64\" style = \"text-align: left;\">Float64</th></tr></thead><tbody><tr><td class = \"rowNumber\" style = \"font-weight: bold; text-align: right;\">1</td><td style = \"text-align: left;\">Li</td><td style = \"text-align: right;\">0.11</td><td style = \"text-align: right;\">0.383</td></tr><tr><td class = \"rowNumber\" style = \"font-weight: bold; text-align: right;\">2</td><td style = \"text-align: left;\">Co</td><td style = \"text-align: right;\">0.154</td><td style = \"text-align: right;\">0.536</td></tr><tr><td class = \"rowNumber\" style = \"font-weight: bold; text-align: right;\">3</td><td style = \"text-align: left;\">Mn</td><td style = \"text-align: right;\">0.15</td><td style = \"text-align: right;\">0.522</td></tr><tr><td class = \"rowNumber\" style = \"font-weight: bold; text-align: right;\">4</td><td style = \"text-align: left;\">Ni</td><td style = \"text-align: right;\">0.154</td><td style = \"text-align: right;\">0.535</td></tr><tr><td class = \"rowNumber\" style = \"font-weight: bold; text-align: right;\">5</td><td style = \"text-align: left;\">cathode</td><td style = \"text-align: right;\">0.287</td><td style = \"text-align: right;\">0.396</td></tr><tr><td class = \"rowNumber\" style = \"font-weight: bold; text-align: right;\">6</td><td style = \"text-align: left;\">graphite</td><td style = \"text-align: right;\">0.16</td><td style = \"text-align: right;\">0.221</td></tr><tr><td class = \"rowNumber\" style = \"font-weight: bold; text-align: right;\">7</td><td style = \"text-align: left;\">PP</td><td style = \"text-align: right;\">0.0116</td><td style = \"text-align: right;\">0.016</td></tr><tr><td class = \"rowNumber\" style = \"font-weight: bold; text-align: right;\">8</td><td style = \"text-align: left;\">PE</td><td style = \"text-align: right;\">0.0029</td><td style = \"text-align: right;\">0.004</td></tr><tr><td class = \"rowNumber\" style = \"font-weight: bold; text-align: right;\">9</td><td style = \"text-align: left;\">Cu</td><td style = \"text-align: right;\">0.133</td><td style = \"text-align: right;\">0.095</td></tr><tr><td class = \"rowNumber\" style = \"font-weight: bold; text-align: right;\">10</td><td style = \"text-align: left;\">Al</td><td style = \"text-align: right;\">0.0689</td><td style = \"text-align: right;\">0.184</td></tr><tr><td class = \"rowNumber\" style = \"font-weight: bold; text-align: right;\">11</td><td style = \"text-align: left;\">cell</td><td style = \"text-align: right;\">0.725</td><td style = \"text-align: right;\">0.725</td></tr><tr><td class = \"rowNumber\" style = \"font-weight: bold; text-align: right;\">12</td><td style = \"text-align: left;\">PET</td><td style = \"text-align: right;\">0.0152</td><td style = \"text-align: right;\">0.005</td></tr><tr><td class = \"rowNumber\" style = \"font-weight: bold; text-align: right;\">13</td><td style = \"text-align: left;\">electronics</td><td style = \"text-align: right;\">0.037</td><td style = \"text-align: right;\">0.004</td></tr><tr><td class = \"rowNumber\" style = \"font-weight: bold; text-align: right;\">14</td><td style = \"text-align: left;\">noncell</td><td style = \"text-align: right;\">1.0</td><td style = \"text-align: right;\">1.0</td></tr><tr><td class = \"rowNumber\" style = \"font-weight: bold; text-align: right;\">15</td><td style = \"text-align: left;\">battery</td><td style = \"text-align: right;\">1.0</td><td style = \"text-align: right;\">1.0</td></tr></tbody></table></div>"
      ],
      "text/latex": [
       "\\begin{tabular}{r|ccc}\n",
       "\t& process & input (material/kg battery) & scaler\\\\\n",
       "\t\\hline\n",
       "\t& String15 & Float64 & Float64\\\\\n",
       "\t\\hline\n",
       "\t1 & Li & 0.11 & 0.383 \\\\\n",
       "\t2 & Co & 0.154 & 0.536 \\\\\n",
       "\t3 & Mn & 0.15 & 0.522 \\\\\n",
       "\t4 & Ni & 0.154 & 0.535 \\\\\n",
       "\t5 & cathode & 0.287 & 0.396 \\\\\n",
       "\t6 & graphite & 0.16 & 0.221 \\\\\n",
       "\t7 & PP & 0.0116 & 0.016 \\\\\n",
       "\t8 & PE & 0.0029 & 0.004 \\\\\n",
       "\t9 & Cu & 0.133 & 0.095 \\\\\n",
       "\t10 & Al & 0.0689 & 0.184 \\\\\n",
       "\t11 & cell & 0.725 & 0.725 \\\\\n",
       "\t12 & PET & 0.0152 & 0.005 \\\\\n",
       "\t13 & electronics & 0.037 & 0.004 \\\\\n",
       "\t14 & noncell & 1.0 & 1.0 \\\\\n",
       "\t15 & battery & 1.0 & 1.0 \\\\\n",
       "\\end{tabular}\n"
      ],
      "text/plain": [
       "\u001b[1m15×3 DataFrame\u001b[0m\n",
       "\u001b[1m Row \u001b[0m│\u001b[1m process     \u001b[0m\u001b[1m input (material/kg battery) \u001b[0m\u001b[1m scaler  \u001b[0m\n",
       "     │\u001b[90m String15    \u001b[0m\u001b[90m Float64                     \u001b[0m\u001b[90m Float64 \u001b[0m\n",
       "─────┼───────────────────────────────────────────────────\n",
       "   1 │ Li                                0.11      0.383\n",
       "   2 │ Co                                0.154     0.536\n",
       "   3 │ Mn                                0.15      0.522\n",
       "   4 │ Ni                                0.154     0.535\n",
       "   5 │ cathode                           0.287     0.396\n",
       "   6 │ graphite                          0.16      0.221\n",
       "   7 │ PP                                0.0116    0.016\n",
       "   8 │ PE                                0.0029    0.004\n",
       "   9 │ Cu                                0.133     0.095\n",
       "  10 │ Al                                0.0689    0.184\n",
       "  11 │ cell                              0.725     0.725\n",
       "  12 │ PET                               0.0152    0.005\n",
       "  13 │ electronics                       0.037     0.004\n",
       "  14 │ noncell                           1.0       1.0\n",
       "  15 │ battery                           1.0       1.0"
      ]
     },
     "execution_count": 4,
     "metadata": {},
     "output_type": "execute_result"
    }
   ],
   "source": [
    "LCA_model"
   ]
  },
  {
   "cell_type": "code",
   "execution_count": 5,
   "id": "89bd7af2",
   "metadata": {},
   "outputs": [],
   "source": [
    "up_cath = scaler[1:4] * scaler[5] * scaler[11]\n",
    "up_cell = scaler[5:10] * scaler[11]\n",
    "cell_sef = scaler[11]\n",
    "up_noncell = scaler[12:13] * scaler[14]\n",
    "noncell_sef = scaler[14]\n",
    "battery_sef = scaler[15];"
   ]
  },
  {
   "cell_type": "code",
   "execution_count": 6,
   "id": "be8d60c7",
   "metadata": {},
   "outputs": [
    {
     "data": {
      "text/plain": [
       "15-element Vector{Float64}:\n",
       " 0.1099593\n",
       " 0.1538856\n",
       " 0.1498662\n",
       " 0.1535985\n",
       " 0.2871\n",
       " 0.160225\n",
       " 0.0116\n",
       " 0.0029\n",
       " 0.06887499999999999\n",
       " 0.1334\n",
       " 0.725\n",
       " 0.005\n",
       " 0.004\n",
       " 1.0\n",
       " 1.0"
      ]
     },
     "execution_count": 6,
     "metadata": {},
     "output_type": "execute_result"
    }
   ],
   "source": [
    "vcat(up_cath, up_cell, cell_sef, up_noncell, noncell_sef, battery_sef)"
   ]
  },
  {
   "cell_type": "code",
   "execution_count": 10,
   "id": "2498bae7",
   "metadata": {},
   "outputs": [
    {
     "data": {
      "text/plain": [
       "677655.0"
      ]
     },
     "execution_count": 10,
     "metadata": {},
     "output_type": "execute_result"
    }
   ],
   "source": [
    "cell_demand"
   ]
  },
  {
   "cell_type": "code",
   "execution_count": 11,
   "id": "493e081b",
   "metadata": {},
   "outputs": [
    {
     "data": {
      "text/plain": [
       "673118.4"
      ]
     },
     "execution_count": 11,
     "metadata": {},
     "output_type": "execute_result"
    }
   ],
   "source": [
    "3*164.98/1000*1.36*10^6   "
   ]
  },
  {
   "cell_type": "code",
   "execution_count": 12,
   "id": "4624b510",
   "metadata": {},
   "outputs": [
    {
     "data": {
      "text/plain": [
       "15-element Vector{Float64}:\n",
       "  74514.4694415\n",
       " 104281.34626800001\n",
       " 101557.579761\n",
       " 104086.7915175\n",
       " 194554.75050000002\n",
       " 108577.272375\n",
       "   7860.798\n",
       "   1965.1995\n",
       "  46673.488124999996\n",
       "  90399.177\n",
       " 491299.875\n",
       "   3388.275\n",
       "   2710.62\n",
       " 677655.0\n",
       " 677655.0"
      ]
     },
     "execution_count": 12,
     "metadata": {},
     "output_type": "execute_result"
    }
   ],
   "source": [
    "vcat(up_cath, up_cell, cell_sef, up_noncell, noncell_sef, battery_sef) .* cell_demand"
   ]
  },
  {
   "cell_type": "code",
   "execution_count": 13,
   "id": "a82d668a",
   "metadata": {},
   "outputs": [
    {
     "data": {
      "text/plain": [
       "15-element Vector{Float64}:\n",
       "  74514.4694415\n",
       " 104281.34626800001\n",
       " 101557.579761\n",
       " 104086.7915175\n",
       " 194554.75050000002\n",
       " 108577.272375\n",
       "   7860.798\n",
       "   1965.1995\n",
       "  46673.488124999996\n",
       "  90399.177\n",
       " 491299.875\n",
       "   3388.275\n",
       "   2710.62\n",
       " 677655.0\n",
       " 677655.0"
      ]
     },
     "execution_count": 13,
     "metadata": {},
     "output_type": "execute_result"
    }
   ],
   "source": [
    "input_amount = []\n",
    "input_amount = vcat(up_cath, up_cell, cell_sef, up_noncell, noncell_sef, battery_sef) .* cell_demand\n",
    "input_amount    # unit: ton"
   ]
  },
  {
   "cell_type": "markdown",
   "id": "524fd524",
   "metadata": {},
   "source": [
    "----"
   ]
  },
  {
   "cell_type": "code",
   "execution_count": 14,
   "id": "91c4e362",
   "metadata": {},
   "outputs": [
    {
     "name": "stdout",
     "output_type": "stream",
     "text": [
      "Academic license - for non-commercial use only - expires 2023-11-27\r\n"
     ]
    }
   ],
   "source": [
    "model = Model(Gurobi.Optimizer);"
   ]
  },
  {
   "cell_type": "code",
   "execution_count": 15,
   "id": "4157572b",
   "metadata": {},
   "outputs": [],
   "source": [
    "#variables \n",
    "@variable(model, x[1:ncty, 1:nproc] >= 0)            # x[i,k] production amount of product k at location i\n",
    "@variable(model, y[1:ncty, 1:ncty, 1:nproc] >= 0);   # y[i,j,k] ship product k from i to j "
   ]
  },
  {
   "cell_type": "code",
   "execution_count": 16,
   "id": "35f9c50e",
   "metadata": {},
   "outputs": [],
   "source": [
    "# capacity constraint: x[i,k] <= capacity[i][k]\n",
    "for k in 1:nproc\n",
    "    for i in 1:ncty\n",
    "        @constraint(model, x[i,k] <= capacity[!, 2:end][i,k])\n",
    "    end\n",
    "end"
   ]
  },
  {
   "cell_type": "code",
   "execution_count": 17,
   "id": "2a16ae37",
   "metadata": {},
   "outputs": [],
   "source": [
    "# node output flow constraint\n",
    "for k in 1:nproc\n",
    "    for i in 1:ncty\n",
    "        @constraint(model, sum(y[i,j,k] for j in 1:ncty) == x[i,k])\n",
    "    end\n",
    "end"
   ]
  },
  {
   "cell_type": "code",
   "execution_count": 18,
   "id": "654f5726",
   "metadata": {},
   "outputs": [],
   "source": [
    "# node output flow to market y[i,38, 15]\n",
    "for i in 1:ncty\n",
    "    for j in [e for e in 1:ncty if e != mkt_loc]\n",
    "        @constraint(model, y[i,j,mkt_proc] == 0)\n",
    "    end\n",
    "end"
   ]
  },
  {
   "cell_type": "code",
   "execution_count": 19,
   "id": "0add76b2",
   "metadata": {},
   "outputs": [],
   "source": [
    "for k in 1:nproc-1\n",
    "    @constraint(model, sum(x[i,k] for i in 1:ncty) == input_amount[k])\n",
    "end"
   ]
  },
  {
   "cell_type": "code",
   "execution_count": 20,
   "id": "d98a47b2",
   "metadata": {},
   "outputs": [],
   "source": [
    "# @constraint(model, sum(x[i,9] for i in 1:ncty) == input_amount[9])"
   ]
  },
  {
   "cell_type": "code",
   "execution_count": 21,
   "id": "f939779d",
   "metadata": {},
   "outputs": [],
   "source": [
    "# # final demand constraint\n",
    "# @constraint(model, sum(x[i, mkt_proc] for i in 1:ncty) == cell_demand);"
   ]
  },
  {
   "cell_type": "code",
   "execution_count": 22,
   "id": "85745707",
   "metadata": {},
   "outputs": [],
   "source": [
    "# final demand constraint\n",
    "@constraint(model, sum(y[i,mkt_loc,mkt_proc] for i in 1:ncty) == cell_demand);"
   ]
  },
  {
   "cell_type": "code",
   "execution_count": 23,
   "id": "fd42b376",
   "metadata": {},
   "outputs": [],
   "source": [
    "# cathode LCA constraints (index=5)\n",
    "for k in cathode\n",
    "    for j in 1:ncty\n",
    "        @constraint(model, sum(y[i,j,k] for i in 1:ncty) == x[j,5] * scaler[k])\n",
    "    end\n",
    "end\n",
    "\n",
    "\n",
    "# cell LCA constraints (index=11)\n",
    "for k in cell\n",
    "    for j in 1:ncty\n",
    "        @constraint(model, sum(y[i,j,k] for i in 1:ncty) == x[j,11] * scaler[k])\n",
    "    end\n",
    "end\n",
    "\n",
    "\n",
    "# non cell LCA constraints (index=14)\n",
    "for k in noncell\n",
    "    for j in 1:ncty\n",
    "        @constraint(model, sum(y[i,j,k] for i in 1:ncty) == x[j,14] * scaler[k])\n",
    "    end\n",
    "end\n",
    "\n",
    "\n",
    "# battery LCA constraints (index=15)\n",
    "for k in battery\n",
    "    for j in 1:ncty\n",
    "        @constraint(model, sum(y[i,j,k] for i in 1:ncty) == x[j,15] * scaler[k])\n",
    "    end\n",
    "end\n"
   ]
  },
  {
   "cell_type": "code",
   "execution_count": 24,
   "id": "e18904d7",
   "metadata": {},
   "outputs": [],
   "source": [
    "# 1. production emission (TES)\n",
    "val_x = zeros(ncty, nproc)\n",
    "\n",
    "for k in 1:nproc\n",
    "    for i in 1:ncty\n",
    "        val_x[i,k] = regional_EF[i, k+1] * (1 - sink_c[i]/emission_c[i] - es_ratio)\n",
    "    end\n",
    "end\n",
    "\n",
    "proc_emi = sum(x .* val_x);"
   ]
  },
  {
   "cell_type": "code",
   "execution_count": 25,
   "id": "61ba6144",
   "metadata": {},
   "outputs": [],
   "source": [
    "# 2. transpotration emission (TES, w/ supply)\n",
    "trans_emi = 0\n",
    "\n",
    "for i in 1:ncty\n",
    "    for j in 1:ncty\n",
    "        amount = sum(y[i,j,k] for k in 1:nproc)\n",
    "        arc_emi = amount * distance[!, 2:end][i,j] * EF_trans\n",
    "        arc_seq = arc_emi * (sink_c[j]/emission_c[j] + es_ratio)\n",
    "        arc_net = arc_emi - arc_seq\n",
    "        trans_emi += arc_net\n",
    "    end\n",
    "end"
   ]
  },
  {
   "cell_type": "code",
   "execution_count": 26,
   "id": "7a186025",
   "metadata": {},
   "outputs": [],
   "source": [
    "@objective(model, Min, proc_emi+trans_emi);"
   ]
  },
  {
   "cell_type": "code",
   "execution_count": 27,
   "id": "3b08f050",
   "metadata": {},
   "outputs": [
    {
     "name": "stdout",
     "output_type": "stream",
     "text": [
      "Gurobi Optimizer version 9.1.2 build v9.1.2rc0 (win64)\r\n",
      "Thread count: 6 physical cores, 12 logical processors, using up to 12 threads\r\n",
      "Optimize a model with 2103 rows, 13050 columns and 26912 nonzeros\r\n",
      "Model fingerprint: 0x471a5f88\r\n",
      "Coefficient statistics:\r\n",
      "  Matrix range     [4e-03, 1e+00]\r\n",
      "  Objective range  [2e-03, 4e+02]\r\n",
      "  Bounds range     [0e+00, 0e+00]\r\n",
      "  RHS range        [3e+02, 1e+15]\r\n",
      "Warning: Model contains large rhs\r\n",
      "         Consider reformulating model or setting NumericFocus parameter\r\n",
      "         to avoid numerical issues.\r\n",
      "Presolve removed 1801 rows and 11497 columns\r\n",
      "Presolve time: 0.01s\r\n",
      "\r\n",
      "Solved in 0 iterations and 0.01 seconds\r\n",
      "Infeasible or unbounded model\r\n",
      "\r\n",
      "User-callback calls 23, time in user-callback 0.00 sec\r\n"
     ]
    }
   ],
   "source": [
    "JuMP.optimize!(model)"
   ]
  },
  {
   "cell_type": "code",
   "execution_count": 82,
   "id": "e44413af",
   "metadata": {},
   "outputs": [],
   "source": [
    "optx = copy(JuMP.value.(x))\n",
    "opty = copy(JuMP.value.(y));"
   ]
  },
  {
   "cell_type": "code",
   "execution_count": 83,
   "id": "7d0dec5e",
   "metadata": {},
   "outputs": [
    {
     "data": {
      "text/plain": [
       "29×15 Matrix{Float64}:\n",
       "  3010.8     0.0       0.0      0.0  …     0.0    0.0       0.0       0.0\n",
       "     0.0  7400.0       0.0      0.0        0.0    0.0       0.0       0.0\n",
       "  1800.0     0.0   33869.8  34713.3        0.0    0.0       0.0       0.0\n",
       "  1540.0  4440.0       0.0      0.0        0.0    0.0       0.0       0.0\n",
       " 18500.0     0.0       0.0      0.0        0.0  904.0       0.0       0.0\n",
       "     0.0  2000.0       0.0      0.0  …  1130.0    0.0       0.0       0.0\n",
       "     0.0     0.0       0.0      0.0        0.0    0.0       0.0       0.0\n",
       "     0.0  1380.0       0.0      0.0        0.0    0.0       0.0       0.0\n",
       "     0.0     0.0       0.0      0.0        0.0    0.0       0.0       0.0\n",
       "     0.0     0.0       0.0      0.0        0.0    0.0       0.0       0.0\n",
       "     0.0     0.0       0.0      0.0  …     0.0    0.0       0.0       0.0\n",
       "     0.0  1200.0       0.0      0.0        0.0    0.0       0.0       0.0\n",
       "     0.0     0.0       0.0      0.0        0.0    0.0       0.0       0.0\n",
       "     ⋮                               ⋱                           \n",
       "     0.0     0.0       0.0      0.0        0.0    0.0  226000.0       0.0\n",
       "     0.0     0.0       0.0      0.0        0.0    0.0       0.0       0.0\n",
       "     0.0  5920.0       0.0      0.0        0.0    0.0       0.0       0.0\n",
       "     0.0     0.0       0.0      0.0  …     0.0    0.0       0.0       0.0\n",
       "     0.0  8880.0       0.0      0.0        0.0    0.0       0.0       0.0\n",
       "     0.0     0.0       0.0      0.0        0.0    0.0       0.0       0.0\n",
       "     0.0  1668.15      0.0      0.0        0.0    0.0       0.0       0.0\n",
       "     0.0     0.0       0.0      0.0        0.0    0.0       0.0       0.0\n",
       "     0.0     0.0       0.0      0.0  …     0.0    0.0       0.0       0.0\n",
       "     0.0     0.0       0.0      0.0        0.0    0.0       0.0       0.0\n",
       "     0.0     0.0       0.0      0.0        0.0    0.0       0.0       0.0\n",
       "     0.0   490.0       0.0      0.0        0.0    0.0       0.0  226000.0"
      ]
     },
     "execution_count": 83,
     "metadata": {},
     "output_type": "execute_result"
    }
   ],
   "source": [
    "optx"
   ]
  },
  {
   "cell_type": "code",
   "execution_count": 84,
   "id": "a03ed3f7",
   "metadata": {},
   "outputs": [
    {
     "data": {
      "text/plain": [
       "\"/Users/bourg/Desktop/x_matrix_regional.csv\""
      ]
     },
     "execution_count": 84,
     "metadata": {},
     "output_type": "execute_result"
    }
   ],
   "source": [
    "using Tables\n",
    "res = Tables.table(optx[1:end, 1:end]);\n",
    "CSV.write(\"/Users/bourg/Desktop/x_matrix_regional.csv\", res) "
   ]
  },
  {
   "cell_type": "code",
   "execution_count": 62,
   "id": "3ef4eaf2",
   "metadata": {},
   "outputs": [
    {
     "data": {
      "text/plain": [
       "\"/Users/bourg/Desktop/y02_matrix.csv\""
      ]
     },
     "execution_count": 62,
     "metadata": {},
     "output_type": "execute_result"
    }
   ],
   "source": [
    "res_y02 = Tables.table(opty[1:end, 1:end, 02])\n",
    "CSV.write(\"/Users/bourg/Desktop/y02_matrix.csv\", res_y02) "
   ]
  },
  {
   "cell_type": "code",
   "execution_count": null,
   "id": "8aee5430",
   "metadata": {},
   "outputs": [],
   "source": []
  },
  {
   "cell_type": "code",
   "execution_count": 38,
   "id": "8ffec852",
   "metadata": {},
   "outputs": [],
   "source": [
    "# # 2. transpotration emission\n",
    "# trans_emi = 0\n",
    "# for k in 1:nproc\n",
    "#     for i in 1:ncty\n",
    "#         for j in 1:ncty\n",
    "#             trans_emi += y[i,j,k] * distance[!, 2:end][i,j] * EF_trans;\n",
    "#         end\n",
    "#     end\n",
    "# end"
   ]
  }
 ],
 "metadata": {
  "kernelspec": {
   "display_name": "Julia 1.8.3",
   "language": "julia",
   "name": "julia-1.8"
  },
  "language_info": {
   "file_extension": ".jl",
   "mimetype": "application/julia",
   "name": "julia",
   "version": "1.8.3"
  }
 },
 "nbformat": 4,
 "nbformat_minor": 5
}
