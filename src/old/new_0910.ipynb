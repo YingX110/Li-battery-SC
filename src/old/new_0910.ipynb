{
 "cells": [
  {
   "cell_type": "code",
   "execution_count": 9,
   "id": "9b532604",
   "metadata": {},
   "outputs": [],
   "source": [
    "using JuMP, Gurobi\n",
    "using CSV, LinearAlgebra, DataFrames"
   ]
  },
  {
   "cell_type": "code",
   "execution_count": 37,
   "id": "52b86dd3",
   "metadata": {},
   "outputs": [],
   "source": [
    "#load the data and orgnize \n",
    "FL = repeat([Float64], inner=15)\n",
    "dtype = append!([String], FL);\n",
    "\n",
    "regional_EF = CSV.File(\"C:/Users/bourg/.julia/environments/batterySC/Li-battery-SC/data/social/new_EF_SC1.csv\",header=1,delim=\",\", types=dtype) |> DataFrame    \n",
    "capacity = CSV.File(\"C:/Users/bourg/.julia/environments/batterySC/Li-battery-SC/data/social/capacity1.csv\",header=1,delim=\",\", types=dtype) |> DataFrame    \n",
    "distance = CSV.File(\"C:/Users/bourg/.julia/environments/batterySC/Li-battery-SC/data/social/distance.csv\",header=1,delim=\",\") |> DataFrame \n",
    "LCA_model = CSV.File(\"C:/Users/bourg/.julia/environments/batterySC/Li-battery-SC/data/social/LCA_model1.csv\",header=1,delim=\",\") |> DataFrame \n",
    "D_Dsoc = CSV.File(\"C:/Users/bourg/.julia/environments/batterySC/Li-battery-SC/data/social/D_Dsoc1.csv\",header=1,delim=\",\") |> DataFrame\n",
    "GDP = CSV.File(\"C:/Users/bourg/.julia/environments/batterySC/Li-battery-SC/data/social/GDP.csv\",header=1,delim=\",\") |> DataFrame;"
   ]
  },
  {
   "cell_type": "code",
   "execution_count": 40,
   "id": "871a427e",
   "metadata": {},
   "outputs": [],
   "source": [
    "cell_demand = 0.001*164.98*(1.369*1e6)*3           # annual demand of Li battery for tesla (1.369M EV/yr, ~2 NMC111 pack/EV, 226 kg/pack (35kwh/pack), 80~100 kWh per EV)\n",
    "\n",
    "global_sink = 1.099e10                        # global pub (ocean) CO2 sequestration (ton/yr)\n",
    "global_sink_tot = 2.236e10                  # global total (ocean+land) CO2 sequestration (ton/yr)\n",
    "global_emi = 3.53e10                          # global CO2 emission (ton/yr)\n",
    "es_ratio = global_sink/global_emi\n",
    "es_ratio_tot = global_sink_tot/global_emi\n",
    "D = D_Dsoc[!, \"D\"]          # national CO2 emission (ton/yr)\n",
    "Dsoc = D_Dsoc[!, \"Dsoc ton/yr\"]           # national CO2 sink (ton/yr)\n",
    "\n",
    "EF_trans = 1.005/10000                        # ton CO2/km*ton (The average freight truck in the U.S. emits 161.8 grams of CO2 per ton-mile)\n",
    "process = LCA_model[!,\"process\"]\n",
    "countries = capacity[!,\"country\"]\n",
    "ncty = size(countries,1)                          # No. of countries\n",
    "nproc = size(process,1);                          # No. of processes \n",
    "\n",
    "mkt_loc = findfirst(isequal(\"United States\"), countries)\n",
    "mkt_proc = findfirst(isequal(\"battery\"), process)\n",
    "\n",
    "# seperate model\n",
    "cathode = 1:4\n",
    "cell = 5:10\n",
    "noncell = [12,13]\n",
    "battery = [11,14]\n",
    "scaler = LCA_model[!,\"scaler\"]\n",
    "price = LCA_model[!,\"price (usd/kg product)\"]\n",
    "vGDP = GDP[!,\"GDP usd\"];"
   ]
  },
  {
   "cell_type": "code",
   "execution_count": 16,
   "id": "699e800d",
   "metadata": {},
   "outputs": [
    {
     "data": {
      "text/html": [
       "<div><div style = \"float: left;\"><span>15×3 DataFrame</span></div><div style = \"clear: both;\"></div></div><div class = \"data-frame\" style = \"overflow-x: scroll;\"><table class = \"data-frame\" style = \"margin-bottom: 6px;\"><thead><tr class = \"header\"><th class = \"rowNumber\" style = \"font-weight: bold; text-align: right;\">Row</th><th style = \"text-align: left;\">process</th><th style = \"text-align: left;\">scaler</th><th style = \"text-align: left;\">price (usd/kg product)</th></tr><tr class = \"subheader headerLastRow\"><th class = \"rowNumber\" style = \"font-weight: bold; text-align: right;\"></th><th title = \"String15\" style = \"text-align: left;\">String15</th><th title = \"Float64\" style = \"text-align: left;\">Float64</th><th title = \"Float64\" style = \"text-align: left;\">Float64</th></tr></thead><tbody><tr><td class = \"rowNumber\" style = \"font-weight: bold; text-align: right;\">1</td><td style = \"text-align: left;\">Li</td><td style = \"text-align: right;\">0.383</td><td style = \"text-align: right;\">40.0</td></tr><tr><td class = \"rowNumber\" style = \"font-weight: bold; text-align: right;\">2</td><td style = \"text-align: left;\">Co</td><td style = \"text-align: right;\">0.536</td><td style = \"text-align: right;\">79.5</td></tr><tr><td class = \"rowNumber\" style = \"font-weight: bold; text-align: right;\">3</td><td style = \"text-align: left;\">Mn</td><td style = \"text-align: right;\">0.522</td><td style = \"text-align: right;\">1.51</td></tr><tr><td class = \"rowNumber\" style = \"font-weight: bold; text-align: right;\">4</td><td style = \"text-align: left;\">Ni</td><td style = \"text-align: right;\">0.535</td><td style = \"text-align: right;\">20.13</td></tr><tr><td class = \"rowNumber\" style = \"font-weight: bold; text-align: right;\">5</td><td style = \"text-align: left;\">cathode</td><td style = \"text-align: right;\">0.396</td><td style = \"text-align: right;\">7.4</td></tr><tr><td class = \"rowNumber\" style = \"font-weight: bold; text-align: right;\">6</td><td style = \"text-align: left;\">graphite</td><td style = \"text-align: right;\">0.221</td><td style = \"text-align: right;\">20.0</td></tr><tr><td class = \"rowNumber\" style = \"font-weight: bold; text-align: right;\">7</td><td style = \"text-align: left;\">PP</td><td style = \"text-align: right;\">0.016</td><td style = \"text-align: right;\">1.208</td></tr><tr><td class = \"rowNumber\" style = \"font-weight: bold; text-align: right;\">8</td><td style = \"text-align: left;\">PE</td><td style = \"text-align: right;\">0.004</td><td style = \"text-align: right;\">1.143</td></tr><tr><td class = \"rowNumber\" style = \"font-weight: bold; text-align: right;\">9</td><td style = \"text-align: left;\">Cu</td><td style = \"text-align: right;\">0.095</td><td style = \"text-align: right;\">8.21</td></tr><tr><td class = \"rowNumber\" style = \"font-weight: bold; text-align: right;\">10</td><td style = \"text-align: left;\">Al</td><td style = \"text-align: right;\">0.184</td><td style = \"text-align: right;\">2.137</td></tr><tr><td class = \"rowNumber\" style = \"font-weight: bold; text-align: right;\">11</td><td style = \"text-align: left;\">cell</td><td style = \"text-align: right;\">0.725</td><td style = \"text-align: right;\">27.4</td></tr><tr><td class = \"rowNumber\" style = \"font-weight: bold; text-align: right;\">12</td><td style = \"text-align: left;\">PET</td><td style = \"text-align: right;\">0.005</td><td style = \"text-align: right;\">1.35</td></tr><tr><td class = \"rowNumber\" style = \"font-weight: bold; text-align: right;\">13</td><td style = \"text-align: left;\">electronics</td><td style = \"text-align: right;\">0.004</td><td style = \"text-align: right;\">5000.0</td></tr><tr><td class = \"rowNumber\" style = \"font-weight: bold; text-align: right;\">14</td><td style = \"text-align: left;\">noncell</td><td style = \"text-align: right;\">1.0</td><td style = \"text-align: right;\">3.51</td></tr><tr><td class = \"rowNumber\" style = \"font-weight: bold; text-align: right;\">15</td><td style = \"text-align: left;\">battery</td><td style = \"text-align: right;\">1.0</td><td style = \"text-align: right;\">23.4</td></tr></tbody></table></div>"
      ],
      "text/latex": [
       "\\begin{tabular}{r|ccc}\n",
       "\t& process & scaler & price (usd/kg product)\\\\\n",
       "\t\\hline\n",
       "\t& String15 & Float64 & Float64\\\\\n",
       "\t\\hline\n",
       "\t1 & Li & 0.383 & 40.0 \\\\\n",
       "\t2 & Co & 0.536 & 79.5 \\\\\n",
       "\t3 & Mn & 0.522 & 1.51 \\\\\n",
       "\t4 & Ni & 0.535 & 20.13 \\\\\n",
       "\t5 & cathode & 0.396 & 7.4 \\\\\n",
       "\t6 & graphite & 0.221 & 20.0 \\\\\n",
       "\t7 & PP & 0.016 & 1.208 \\\\\n",
       "\t8 & PE & 0.004 & 1.143 \\\\\n",
       "\t9 & Cu & 0.095 & 8.21 \\\\\n",
       "\t10 & Al & 0.184 & 2.137 \\\\\n",
       "\t11 & cell & 0.725 & 27.4 \\\\\n",
       "\t12 & PET & 0.005 & 1.35 \\\\\n",
       "\t13 & electronics & 0.004 & 5000.0 \\\\\n",
       "\t14 & noncell & 1.0 & 3.51 \\\\\n",
       "\t15 & battery & 1.0 & 23.4 \\\\\n",
       "\\end{tabular}\n"
      ],
      "text/plain": [
       "\u001b[1m15×3 DataFrame\u001b[0m\n",
       "\u001b[1m Row \u001b[0m│\u001b[1m process     \u001b[0m\u001b[1m scaler  \u001b[0m\u001b[1m price (usd/kg product) \u001b[0m\n",
       "     │\u001b[90m String15    \u001b[0m\u001b[90m Float64 \u001b[0m\u001b[90m Float64                \u001b[0m\n",
       "─────┼──────────────────────────────────────────────\n",
       "   1 │ Li             0.383                  40.0\n",
       "   2 │ Co             0.536                  79.5\n",
       "   3 │ Mn             0.522                   1.51\n",
       "   4 │ Ni             0.535                  20.13\n",
       "   5 │ cathode        0.396                   7.4\n",
       "   6 │ graphite       0.221                  20.0\n",
       "   7 │ PP             0.016                   1.208\n",
       "   8 │ PE             0.004                   1.143\n",
       "   9 │ Cu             0.095                   8.21\n",
       "  10 │ Al             0.184                   2.137\n",
       "  11 │ cell           0.725                  27.4\n",
       "  12 │ PET            0.005                   1.35\n",
       "  13 │ electronics    0.004                5000.0\n",
       "  14 │ noncell        1.0                     3.51\n",
       "  15 │ battery        1.0                    23.4"
      ]
     },
     "execution_count": 16,
     "metadata": {},
     "output_type": "execute_result"
    }
   ],
   "source": [
    "LCA_model"
   ]
  },
  {
   "cell_type": "code",
   "execution_count": 17,
   "id": "89bd7af2",
   "metadata": {},
   "outputs": [
    {
     "data": {
      "text/plain": [
       "1.0"
      ]
     },
     "execution_count": 17,
     "metadata": {},
     "output_type": "execute_result"
    }
   ],
   "source": [
    "up_cath = scaler[1:4] * scaler[5] * scaler[11]\n",
    "up_cell = scaler[5:10] * scaler[11]\n",
    "cell_sef = scaler[11]\n",
    "up_noncell = scaler[12:13] * scaler[14]\n",
    "noncell_sef = scaler[14]\n",
    "battery_sef = scaler[15]"
   ]
  },
  {
   "cell_type": "code",
   "execution_count": 18,
   "id": "a82d668a",
   "metadata": {},
   "outputs": [
    {
     "data": {
      "text/plain": [
       "15-element Vector{Float64}:\n",
       "  74505.437384598\n",
       " 104268.70610481601\n",
       " 101545.269751332\n",
       " 104074.17493671\n",
       " 194531.168106\n",
       " 108564.11149350001\n",
       "   7859.845175999999\n",
       "   1964.9612939999997\n",
       "  46667.83073249999\n",
       "  90388.21952399999\n",
       " 491240.3235\n",
       "   3387.8643\n",
       "   2710.29144\n",
       " 677572.86\n",
       " 677572.86"
      ]
     },
     "execution_count": 18,
     "metadata": {},
     "output_type": "execute_result"
    }
   ],
   "source": [
    "input_amount = []\n",
    "input_amount = vcat(up_cath, up_cell, cell_sef, up_noncell, noncell_sef, battery_sef) .* cell_demand\n",
    "input_amount"
   ]
  },
  {
   "cell_type": "markdown",
   "id": "524fd524",
   "metadata": {},
   "source": [
    "----"
   ]
  },
  {
   "cell_type": "code",
   "execution_count": 19,
   "id": "91c4e362",
   "metadata": {},
   "outputs": [
    {
     "name": "stdout",
     "output_type": "stream",
     "text": [
      "Academic license - for non-commercial use only - expires 2023-11-27\r\n"
     ]
    }
   ],
   "source": [
    "model = Model(Gurobi.Optimizer);"
   ]
  },
  {
   "cell_type": "code",
   "execution_count": 20,
   "id": "4157572b",
   "metadata": {},
   "outputs": [],
   "source": [
    "#variables \n",
    "@variable(model, x[1:ncty, 1:nproc] >= 0)            # x[i,k] production amount of product k at location i\n",
    "@variable(model, y[1:ncty, 1:ncty, 1:nproc] >= 0)   # y[i,j,k] ship product k from i to j \n",
    "@variable(model, delta[1:ncty], binary=true);"
   ]
  },
  {
   "cell_type": "code",
   "execution_count": 21,
   "id": "35f9c50e",
   "metadata": {},
   "outputs": [],
   "source": [
    "# capacity constraint: x[i,k] <= capacity[i][k]\n",
    "for k in 1:nproc\n",
    "    for i in 1:ncty\n",
    "        @constraint(model, x[i,k] <= capacity[!, 2:end][i,k])\n",
    "    end\n",
    "end"
   ]
  },
  {
   "cell_type": "code",
   "execution_count": 22,
   "id": "2a16ae37",
   "metadata": {},
   "outputs": [],
   "source": [
    "# node output flow constraint\n",
    "for k in 1:nproc\n",
    "    for i in 1:ncty\n",
    "        @constraint(model, sum(y[i,j,k] for j in 1:ncty) == x[i,k])\n",
    "    end\n",
    "end"
   ]
  },
  {
   "cell_type": "code",
   "execution_count": 23,
   "id": "654f5726",
   "metadata": {},
   "outputs": [],
   "source": [
    "# node output flow to market y[i,38, 15]\n",
    "for i in 1:ncty\n",
    "    for j in [e for e in 1:ncty if e != mkt_loc]\n",
    "        @constraint(model, y[i,j,mkt_proc] == 0)\n",
    "    end\n",
    "end"
   ]
  },
  {
   "cell_type": "code",
   "execution_count": 24,
   "id": "0add76b2",
   "metadata": {},
   "outputs": [],
   "source": [
    "for k in 1:nproc-1\n",
    "    @constraint(model, sum(x[i,k] for i in 1:ncty) == input_amount[k])\n",
    "end"
   ]
  },
  {
   "cell_type": "code",
   "execution_count": 25,
   "id": "85745707",
   "metadata": {},
   "outputs": [],
   "source": [
    "# final demand constraint\n",
    "@constraint(model, sum(y[i,mkt_loc,mkt_proc] for i in 1:ncty) == cell_demand);"
   ]
  },
  {
   "cell_type": "code",
   "execution_count": 26,
   "id": "fd42b376",
   "metadata": {},
   "outputs": [],
   "source": [
    "# cathode LCA constraints (index=5)\n",
    "for k in cathode\n",
    "    for j in 1:ncty\n",
    "        @constraint(model, sum(y[i,j,k] for i in 1:ncty) == x[j,5] * scaler[k])\n",
    "    end\n",
    "end\n",
    "\n",
    "\n",
    "# cell LCA constraints (index=11)\n",
    "for k in cell\n",
    "    for j in 1:ncty\n",
    "        @constraint(model, sum(y[i,j,k] for i in 1:ncty) == x[j,11] * scaler[k])\n",
    "    end\n",
    "end\n",
    "\n",
    "\n",
    "# non cell LCA constraints (index=14)\n",
    "for k in noncell\n",
    "    for j in 1:ncty\n",
    "        @constraint(model, sum(y[i,j,k] for i in 1:ncty) == x[j,14] * scaler[k])\n",
    "    end\n",
    "end\n",
    "\n",
    "\n",
    "# battery LCA constraints (index=15)\n",
    "for k in battery\n",
    "    for j in 1:ncty\n",
    "        @constraint(model, sum(y[i,j,k] for i in 1:ncty) == x[j,15] * scaler[k])\n",
    "    end\n",
    "end\n"
   ]
  },
  {
   "cell_type": "code",
   "execution_count": 27,
   "id": "ab7a1167",
   "metadata": {},
   "outputs": [],
   "source": [
    "Pemi = 0\n",
    "Pincome = 0\n",
    "proD = Vector{AffExpr}(undef, ncty)\n",
    "proM = Vector{AffExpr}(undef, ncty)\n",
    "\n",
    "for i in 1:ncty\n",
    "    for k in 1:nproc\n",
    "        Pemi += regional_EF[i,k+1] * x[i,k]\n",
    "        Pincome += x[i,k] * price[k]\n",
    "    end\n",
    "    proD[i] = Pemi\n",
    "    proM[i] = Pincome\n",
    "end\n",
    "\n",
    "\n",
    "Temi = 0\n",
    "transD = Vector{AffExpr}(undef, ncty)\n",
    "for i in 1:ncty\n",
    "    for j in 1:ncty\n",
    "        amount = sum(y[i,j,k] for k in 1:nproc)\n",
    "        Temi += amount * distance[!, 2:end][i,j] * EF_trans\n",
    "    end\n",
    "    transD[i] = Temi\n",
    "end"
   ]
  },
  {
   "cell_type": "code",
   "execution_count": 28,
   "id": "52c87d0b",
   "metadata": {},
   "outputs": [
    {
     "data": {
      "text/plain": [
       "1.0e15"
      ]
     },
     "execution_count": 28,
     "metadata": {},
     "output_type": "execute_result"
    }
   ],
   "source": [
    "M = 1e15"
   ]
  },
  {
   "cell_type": "code",
   "execution_count": 43,
   "id": "91f502a7",
   "metadata": {},
   "outputs": [],
   "source": [
    "Allo_soc = proM ./ vGDP .* Dsoc\n",
    "SJ = proD + transD - Allo_soc;"
   ]
  },
  {
   "cell_type": "code",
   "execution_count": 44,
   "id": "0319dcec",
   "metadata": {},
   "outputs": [],
   "source": [
    "for i in 1:ncty\n",
    "    @constraint(model, SJ[i] >= (1 - delta[i]) * M)\n",
    "end"
   ]
  },
  {
   "cell_type": "code",
   "execution_count": 45,
   "id": "21f7ccb2",
   "metadata": {},
   "outputs": [],
   "source": [
    "@objective(model, Max, sum(delta));"
   ]
  },
  {
   "cell_type": "code",
   "execution_count": 46,
   "id": "3b08f050",
   "metadata": {},
   "outputs": [
    {
     "name": "stdout",
     "output_type": "stream",
     "text": [
      "Gurobi Optimizer version 9.1.2 build v9.1.2rc0 (win64)\r\n",
      "Thread count: 6 physical cores, 12 logical processors, using up to 12 threads\r\n",
      "Optimize a model with 2235 rows, 13980 columns and 238020 nonzeros\r\n",
      "Model fingerprint: 0x7d33165e\r\n",
      "Variable types: 13950 continuous, 30 integer (30 binary)\r\n",
      "Coefficient statistics:\r\n",
      "  Matrix range     [4e-03, 1e+15]\r\n",
      "  Objective range  [1e+00, 1e+00]\r\n",
      "  Bounds range     [0e+00, 0e+00]\r\n",
      "  RHS range        [2e+02, 1e+15]\r\n",
      "Warning: Model contains large matrix coefficient range\r\n",
      "Warning: Model contains large rhs\r\n",
      "         Consider reformulating model or setting NumericFocus parameter\r\n",
      "         to avoid numerical issues.\r\n",
      "Found heuristic solution: objective 30.0000000\r\n",
      "Presolve removed 1957 rows and 12595 columns\r\n",
      "Presolve time: 0.05s\r\n",
      "Presolved: 278 rows, 1385 columns, 3943 nonzeros\r\n",
      "Variable types: 1385 continuous, 0 integer (0 binary)\r\n",
      "\r\n",
      "Explored 0 nodes (0 simplex iterations) in 0.08 seconds\r\n",
      "Thread count was 12 (of 12 available processors)\r\n",
      "\r\n",
      "Solution count 1: 30 \r\n",
      "\r\n",
      "Optimal solution found (tolerance 1.00e-04)\r\n",
      "Best objective 3.000000000000e+01, best bound 3.000000000000e+01, gap 0.0000%\r\n",
      "\r\n",
      "User-callback calls 61, time in user-callback 0.00 sec\r\n"
     ]
    }
   ],
   "source": [
    "JuMP.optimize!(model)"
   ]
  },
  {
   "cell_type": "code",
   "execution_count": 47,
   "id": "e44413af",
   "metadata": {},
   "outputs": [],
   "source": [
    "optx = copy(JuMP.value.(x))\n",
    "opty = copy(JuMP.value.(y));"
   ]
  },
  {
   "cell_type": "code",
   "execution_count": 93,
   "id": "509bcb99",
   "metadata": {},
   "outputs": [],
   "source": [
    "res_x = DataFrame(optx, :auto)\n",
    "rename!(res_x, [\"x$i\" => proc for (i, proc) in enumerate(process)])\n",
    "insertcols!(res_x, 1, :country => countries);"
   ]
  },
  {
   "cell_type": "code",
   "execution_count": 94,
   "id": "9df024ea",
   "metadata": {},
   "outputs": [
    {
     "data": {
      "text/html": [
       "<div><div style = \"float: left;\"><span>30×16 DataFrame</span></div><div style = \"float: right;\"><span style = \"font-style: italic;\">5 rows omitted</span></div><div style = \"clear: both;\"></div></div><div class = \"data-frame\" style = \"overflow-x: scroll;\"><table class = \"data-frame\" style = \"margin-bottom: 6px;\"><thead><tr class = \"header\"><th class = \"rowNumber\" style = \"font-weight: bold; text-align: right;\">Row</th><th style = \"text-align: left;\">country</th><th style = \"text-align: left;\">Li</th><th style = \"text-align: left;\">Co</th><th style = \"text-align: left;\">Mn</th><th style = \"text-align: left;\">Ni</th><th style = \"text-align: left;\">cathode</th><th style = \"text-align: left;\">graphite</th><th style = \"text-align: left;\">PP</th><th style = \"text-align: left;\">PE</th><th style = \"text-align: left;\">Cu</th><th style = \"text-align: left;\">Al</th><th style = \"text-align: left;\">cell</th><th style = \"text-align: left;\">PET</th><th style = \"text-align: left;\">electronics</th><th style = \"text-align: left;\">noncell</th><th style = \"text-align: left;\">battery</th></tr><tr class = \"subheader headerLastRow\"><th class = \"rowNumber\" style = \"font-weight: bold; text-align: right;\"></th><th title = \"String\" style = \"text-align: left;\">String</th><th title = \"Float64\" style = \"text-align: left;\">Float64</th><th title = \"Float64\" style = \"text-align: left;\">Float64</th><th title = \"Float64\" style = \"text-align: left;\">Float64</th><th title = \"Float64\" style = \"text-align: left;\">Float64</th><th title = \"Float64\" style = \"text-align: left;\">Float64</th><th title = \"Float64\" style = \"text-align: left;\">Float64</th><th title = \"Float64\" style = \"text-align: left;\">Float64</th><th title = \"Float64\" style = \"text-align: left;\">Float64</th><th title = \"Float64\" style = \"text-align: left;\">Float64</th><th title = \"Float64\" style = \"text-align: left;\">Float64</th><th title = \"Float64\" style = \"text-align: left;\">Float64</th><th title = \"Float64\" style = \"text-align: left;\">Float64</th><th title = \"Float64\" style = \"text-align: left;\">Float64</th><th title = \"Float64\" style = \"text-align: left;\">Float64</th><th title = \"Float64\" style = \"text-align: left;\">Float64</th></tr></thead><tbody><tr><td class = \"rowNumber\" style = \"font-weight: bold; text-align: right;\">1</td><td style = \"text-align: left;\">Argentina</td><td style = \"text-align: right;\">0.0</td><td style = \"text-align: right;\">0.0</td><td style = \"text-align: right;\">0.0</td><td style = \"text-align: right;\">0.0</td><td style = \"text-align: right;\">0.0</td><td style = \"text-align: right;\">0.0</td><td style = \"text-align: right;\">0.0</td><td style = \"text-align: right;\">0.0</td><td style = \"text-align: right;\">0.0</td><td style = \"text-align: right;\">0.0</td><td style = \"text-align: right;\">0.0</td><td style = \"text-align: right;\">0.0</td><td style = \"text-align: right;\">0.0</td><td style = \"text-align: right;\">0.0</td><td style = \"text-align: right;\">0.0</td></tr><tr><td class = \"rowNumber\" style = \"font-weight: bold; text-align: right;\">2</td><td style = \"text-align: left;\">Australia</td><td style = \"text-align: right;\">32705.4</td><td style = \"text-align: right;\">0.0</td><td style = \"text-align: right;\">0.0</td><td style = \"text-align: right;\">0.0</td><td style = \"text-align: right;\">0.0</td><td style = \"text-align: right;\">0.0</td><td style = \"text-align: right;\">0.0</td><td style = \"text-align: right;\">0.0</td><td style = \"text-align: right;\">0.0</td><td style = \"text-align: right;\">0.0</td><td style = \"text-align: right;\">0.0</td><td style = \"text-align: right;\">0.0</td><td style = \"text-align: right;\">0.0</td><td style = \"text-align: right;\">0.0</td><td style = \"text-align: right;\">0.0</td></tr><tr><td class = \"rowNumber\" style = \"font-weight: bold; text-align: right;\">3</td><td style = \"text-align: left;\">Brazil</td><td style = \"text-align: right;\">2200.0</td><td style = \"text-align: right;\">0.0</td><td style = \"text-align: right;\">0.0</td><td style = \"text-align: right;\">0.0</td><td style = \"text-align: right;\">0.0</td><td style = \"text-align: right;\">0.0</td><td style = \"text-align: right;\">0.0</td><td style = \"text-align: right;\">0.0</td><td style = \"text-align: right;\">46667.8</td><td style = \"text-align: right;\">0.0</td><td style = \"text-align: right;\">0.0</td><td style = \"text-align: right;\">0.0</td><td style = \"text-align: right;\">0.0</td><td style = \"text-align: right;\">0.0</td><td style = \"text-align: right;\">0.0</td></tr><tr><td class = \"rowNumber\" style = \"font-weight: bold; text-align: right;\">4</td><td style = \"text-align: left;\">Canada</td><td style = \"text-align: right;\">0.0</td><td style = \"text-align: right;\">0.0</td><td style = \"text-align: right;\">0.0</td><td style = \"text-align: right;\">1.04074e5</td><td style = \"text-align: right;\">0.0</td><td style = \"text-align: right;\">0.0</td><td style = \"text-align: right;\">0.0</td><td style = \"text-align: right;\">0.0</td><td style = \"text-align: right;\">0.0</td><td style = \"text-align: right;\">0.0</td><td style = \"text-align: right;\">0.0</td><td style = \"text-align: right;\">0.0</td><td style = \"text-align: right;\">2710.29</td><td style = \"text-align: right;\">0.0</td><td style = \"text-align: right;\">0.0</td></tr><tr><td class = \"rowNumber\" style = \"font-weight: bold; text-align: right;\">5</td><td style = \"text-align: left;\">Chile</td><td style = \"text-align: right;\">39000.0</td><td style = \"text-align: right;\">0.0</td><td style = \"text-align: right;\">0.0</td><td style = \"text-align: right;\">0.0</td><td style = \"text-align: right;\">0.0</td><td style = \"text-align: right;\">0.0</td><td style = \"text-align: right;\">0.0</td><td style = \"text-align: right;\">0.0</td><td style = \"text-align: right;\">0.0</td><td style = \"text-align: right;\">0.0</td><td style = \"text-align: right;\">0.0</td><td style = \"text-align: right;\">0.0</td><td style = \"text-align: right;\">0.0</td><td style = \"text-align: right;\">0.0</td><td style = \"text-align: right;\">0.0</td></tr><tr><td class = \"rowNumber\" style = \"font-weight: bold; text-align: right;\">6</td><td style = \"text-align: left;\">China</td><td style = \"text-align: right;\">0.0</td><td style = \"text-align: right;\">0.0</td><td style = \"text-align: right;\">0.0</td><td style = \"text-align: right;\">0.0</td><td style = \"text-align: right;\">0.0</td><td style = \"text-align: right;\">98314.1</td><td style = \"text-align: right;\">0.0</td><td style = \"text-align: right;\">0.0</td><td style = \"text-align: right;\">0.0</td><td style = \"text-align: right;\">0.0</td><td style = \"text-align: right;\">0.0</td><td style = \"text-align: right;\">0.0</td><td style = \"text-align: right;\">0.0</td><td style = \"text-align: right;\">0.0</td><td style = \"text-align: right;\">6.77573e5</td></tr><tr><td class = \"rowNumber\" style = \"font-weight: bold; text-align: right;\">7</td><td style = \"text-align: left;\">Colombia</td><td style = \"text-align: right;\">0.0</td><td style = \"text-align: right;\">0.0</td><td style = \"text-align: right;\">0.0</td><td style = \"text-align: right;\">0.0</td><td style = \"text-align: right;\">0.0</td><td style = \"text-align: right;\">0.0</td><td style = \"text-align: right;\">0.0</td><td style = \"text-align: right;\">0.0</td><td style = \"text-align: right;\">0.0</td><td style = \"text-align: right;\">0.0</td><td style = \"text-align: right;\">0.0</td><td style = \"text-align: right;\">0.0</td><td style = \"text-align: right;\">0.0</td><td style = \"text-align: right;\">0.0</td><td style = \"text-align: right;\">0.0</td></tr><tr><td class = \"rowNumber\" style = \"font-weight: bold; text-align: right;\">8</td><td style = \"text-align: left;\">Congo</td><td style = \"text-align: right;\">0.0</td><td style = \"text-align: right;\">1.04269e5</td><td style = \"text-align: right;\">0.0</td><td style = \"text-align: right;\">0.0</td><td style = \"text-align: right;\">0.0</td><td style = \"text-align: right;\">0.0</td><td style = \"text-align: right;\">0.0</td><td style = \"text-align: right;\">0.0</td><td style = \"text-align: right;\">0.0</td><td style = \"text-align: right;\">0.0</td><td style = \"text-align: right;\">0.0</td><td style = \"text-align: right;\">0.0</td><td style = \"text-align: right;\">0.0</td><td style = \"text-align: right;\">0.0</td><td style = \"text-align: right;\">0.0</td></tr><tr><td class = \"rowNumber\" style = \"font-weight: bold; text-align: right;\">9</td><td style = \"text-align: left;\">Finland</td><td style = \"text-align: right;\">0.0</td><td style = \"text-align: right;\">0.0</td><td style = \"text-align: right;\">0.0</td><td style = \"text-align: right;\">0.0</td><td style = \"text-align: right;\">0.0</td><td style = \"text-align: right;\">0.0</td><td style = \"text-align: right;\">0.0</td><td style = \"text-align: right;\">0.0</td><td style = \"text-align: right;\">0.0</td><td style = \"text-align: right;\">0.0</td><td style = \"text-align: right;\">0.0</td><td style = \"text-align: right;\">0.0</td><td style = \"text-align: right;\">0.0</td><td style = \"text-align: right;\">0.0</td><td style = \"text-align: right;\">0.0</td></tr><tr><td class = \"rowNumber\" style = \"font-weight: bold; text-align: right;\">10</td><td style = \"text-align: left;\">France</td><td style = \"text-align: right;\">0.0</td><td style = \"text-align: right;\">0.0</td><td style = \"text-align: right;\">0.0</td><td style = \"text-align: right;\">0.0</td><td style = \"text-align: right;\">0.0</td><td style = \"text-align: right;\">0.0</td><td style = \"text-align: right;\">0.0</td><td style = \"text-align: right;\">0.0</td><td style = \"text-align: right;\">0.0</td><td style = \"text-align: right;\">0.0</td><td style = \"text-align: right;\">0.0</td><td style = \"text-align: right;\">0.0</td><td style = \"text-align: right;\">0.0</td><td style = \"text-align: right;\">0.0</td><td style = \"text-align: right;\">0.0</td></tr><tr><td class = \"rowNumber\" style = \"font-weight: bold; text-align: right;\">11</td><td style = \"text-align: left;\">Germany</td><td style = \"text-align: right;\">0.0</td><td style = \"text-align: right;\">0.0</td><td style = \"text-align: right;\">0.0</td><td style = \"text-align: right;\">0.0</td><td style = \"text-align: right;\">1.94531e5</td><td style = \"text-align: right;\">0.0</td><td style = \"text-align: right;\">0.0</td><td style = \"text-align: right;\">0.0</td><td style = \"text-align: right;\">0.0</td><td style = \"text-align: right;\">0.0</td><td style = \"text-align: right;\">0.0</td><td style = \"text-align: right;\">0.0</td><td style = \"text-align: right;\">0.0</td><td style = \"text-align: right;\">0.0</td><td style = \"text-align: right;\">0.0</td></tr><tr><td class = \"rowNumber\" style = \"font-weight: bold; text-align: right;\">12</td><td style = \"text-align: left;\">India</td><td style = \"text-align: right;\">0.0</td><td style = \"text-align: right;\">0.0</td><td style = \"text-align: right;\">0.0</td><td style = \"text-align: right;\">0.0</td><td style = \"text-align: right;\">0.0</td><td style = \"text-align: right;\">0.0</td><td style = \"text-align: right;\">0.0</td><td style = \"text-align: right;\">0.0</td><td style = \"text-align: right;\">0.0</td><td style = \"text-align: right;\">0.0</td><td style = \"text-align: right;\">0.0</td><td style = \"text-align: right;\">0.0</td><td style = \"text-align: right;\">0.0</td><td style = \"text-align: right;\">0.0</td><td style = \"text-align: right;\">0.0</td></tr><tr><td class = \"rowNumber\" style = \"font-weight: bold; text-align: right;\">13</td><td style = \"text-align: left;\">Indonesia</td><td style = \"text-align: right;\">0.0</td><td style = \"text-align: right;\">0.0</td><td style = \"text-align: right;\">0.0</td><td style = \"text-align: right;\">0.0</td><td style = \"text-align: right;\">0.0</td><td style = \"text-align: right;\">0.0</td><td style = \"text-align: right;\">0.0</td><td style = \"text-align: right;\">0.0</td><td style = \"text-align: right;\">0.0</td><td style = \"text-align: right;\">0.0</td><td style = \"text-align: right;\">0.0</td><td style = \"text-align: right;\">0.0</td><td style = \"text-align: right;\">0.0</td><td style = \"text-align: right;\">0.0</td><td style = \"text-align: right;\">0.0</td></tr><tr><td style = \"text-align: right;\">&vellip;</td><td style = \"text-align: right;\">&vellip;</td><td style = \"text-align: right;\">&vellip;</td><td style = \"text-align: right;\">&vellip;</td><td style = \"text-align: right;\">&vellip;</td><td style = \"text-align: right;\">&vellip;</td><td style = \"text-align: right;\">&vellip;</td><td style = \"text-align: right;\">&vellip;</td><td style = \"text-align: right;\">&vellip;</td><td style = \"text-align: right;\">&vellip;</td><td style = \"text-align: right;\">&vellip;</td><td style = \"text-align: right;\">&vellip;</td><td style = \"text-align: right;\">&vellip;</td><td style = \"text-align: right;\">&vellip;</td><td style = \"text-align: right;\">&vellip;</td><td style = \"text-align: right;\">&vellip;</td><td style = \"text-align: right;\">&vellip;</td></tr><tr><td class = \"rowNumber\" style = \"font-weight: bold; text-align: right;\">19</td><td style = \"text-align: left;\">Norway</td><td style = \"text-align: right;\">0.0</td><td style = \"text-align: right;\">0.0</td><td style = \"text-align: right;\">0.0</td><td style = \"text-align: right;\">0.0</td><td style = \"text-align: right;\">0.0</td><td style = \"text-align: right;\">10000.0</td><td style = \"text-align: right;\">0.0</td><td style = \"text-align: right;\">0.0</td><td style = \"text-align: right;\">0.0</td><td style = \"text-align: right;\">0.0</td><td style = \"text-align: right;\">0.0</td><td style = \"text-align: right;\">0.0</td><td style = \"text-align: right;\">0.0</td><td style = \"text-align: right;\">0.0</td><td style = \"text-align: right;\">0.0</td></tr><tr><td class = \"rowNumber\" style = \"font-weight: bold; text-align: right;\">20</td><td style = \"text-align: left;\">Peru</td><td style = \"text-align: right;\">0.0</td><td style = \"text-align: right;\">0.0</td><td style = \"text-align: right;\">0.0</td><td style = \"text-align: right;\">0.0</td><td style = \"text-align: right;\">0.0</td><td style = \"text-align: right;\">0.0</td><td style = \"text-align: right;\">0.0</td><td style = \"text-align: right;\">0.0</td><td style = \"text-align: right;\">0.0</td><td style = \"text-align: right;\">0.0</td><td style = \"text-align: right;\">0.0</td><td style = \"text-align: right;\">0.0</td><td style = \"text-align: right;\">0.0</td><td style = \"text-align: right;\">0.0</td><td style = \"text-align: right;\">0.0</td></tr><tr><td class = \"rowNumber\" style = \"font-weight: bold; text-align: right;\">21</td><td style = \"text-align: left;\">Philippines</td><td style = \"text-align: right;\">0.0</td><td style = \"text-align: right;\">0.0</td><td style = \"text-align: right;\">0.0</td><td style = \"text-align: right;\">0.0</td><td style = \"text-align: right;\">0.0</td><td style = \"text-align: right;\">0.0</td><td style = \"text-align: right;\">0.0</td><td style = \"text-align: right;\">0.0</td><td style = \"text-align: right;\">0.0</td><td style = \"text-align: right;\">0.0</td><td style = \"text-align: right;\">0.0</td><td style = \"text-align: right;\">0.0</td><td style = \"text-align: right;\">0.0</td><td style = \"text-align: right;\">0.0</td><td style = \"text-align: right;\">0.0</td></tr><tr><td class = \"rowNumber\" style = \"font-weight: bold; text-align: right;\">22</td><td style = \"text-align: left;\">Portugal</td><td style = \"text-align: right;\">600.0</td><td style = \"text-align: right;\">0.0</td><td style = \"text-align: right;\">0.0</td><td style = \"text-align: right;\">0.0</td><td style = \"text-align: right;\">0.0</td><td style = \"text-align: right;\">0.0</td><td style = \"text-align: right;\">0.0</td><td style = \"text-align: right;\">0.0</td><td style = \"text-align: right;\">0.0</td><td style = \"text-align: right;\">0.0</td><td style = \"text-align: right;\">0.0</td><td style = \"text-align: right;\">0.0</td><td style = \"text-align: right;\">0.0</td><td style = \"text-align: right;\">0.0</td><td style = \"text-align: right;\">0.0</td></tr><tr><td class = \"rowNumber\" style = \"font-weight: bold; text-align: right;\">23</td><td style = \"text-align: left;\">Russia</td><td style = \"text-align: right;\">0.0</td><td style = \"text-align: right;\">0.0</td><td style = \"text-align: right;\">0.0</td><td style = \"text-align: right;\">0.0</td><td style = \"text-align: right;\">0.0</td><td style = \"text-align: right;\">0.0</td><td style = \"text-align: right;\">0.0</td><td style = \"text-align: right;\">0.0</td><td style = \"text-align: right;\">0.0</td><td style = \"text-align: right;\">0.0</td><td style = \"text-align: right;\">0.0</td><td style = \"text-align: right;\">0.0</td><td style = \"text-align: right;\">0.0</td><td style = \"text-align: right;\">0.0</td><td style = \"text-align: right;\">0.0</td></tr><tr><td class = \"rowNumber\" style = \"font-weight: bold; text-align: right;\">24</td><td style = \"text-align: left;\">Saudi arabia</td><td style = \"text-align: right;\">0.0</td><td style = \"text-align: right;\">0.0</td><td style = \"text-align: right;\">0.0</td><td style = \"text-align: right;\">0.0</td><td style = \"text-align: right;\">0.0</td><td style = \"text-align: right;\">0.0</td><td style = \"text-align: right;\">0.0</td><td style = \"text-align: right;\">0.0</td><td style = \"text-align: right;\">0.0</td><td style = \"text-align: right;\">0.0</td><td style = \"text-align: right;\">0.0</td><td style = \"text-align: right;\">0.0</td><td style = \"text-align: right;\">0.0</td><td style = \"text-align: right;\">0.0</td><td style = \"text-align: right;\">0.0</td></tr><tr><td class = \"rowNumber\" style = \"font-weight: bold; text-align: right;\">25</td><td style = \"text-align: left;\">South Africa</td><td style = \"text-align: right;\">0.0</td><td style = \"text-align: right;\">0.0</td><td style = \"text-align: right;\">0.0</td><td style = \"text-align: right;\">0.0</td><td style = \"text-align: right;\">0.0</td><td style = \"text-align: right;\">0.0</td><td style = \"text-align: right;\">0.0</td><td style = \"text-align: right;\">1964.96</td><td style = \"text-align: right;\">0.0</td><td style = \"text-align: right;\">0.0</td><td style = \"text-align: right;\">0.0</td><td style = \"text-align: right;\">0.0</td><td style = \"text-align: right;\">0.0</td><td style = \"text-align: right;\">0.0</td><td style = \"text-align: right;\">0.0</td></tr><tr><td class = \"rowNumber\" style = \"font-weight: bold; text-align: right;\">26</td><td style = \"text-align: left;\">South korea</td><td style = \"text-align: right;\">0.0</td><td style = \"text-align: right;\">0.0</td><td style = \"text-align: right;\">0.0</td><td style = \"text-align: right;\">0.0</td><td style = \"text-align: right;\">0.0</td><td style = \"text-align: right;\">0.0</td><td style = \"text-align: right;\">0.0</td><td style = \"text-align: right;\">0.0</td><td style = \"text-align: right;\">0.0</td><td style = \"text-align: right;\">0.0</td><td style = \"text-align: right;\">4.9124e5</td><td style = \"text-align: right;\">0.0</td><td style = \"text-align: right;\">0.0</td><td style = \"text-align: right;\">0.0</td><td style = \"text-align: right;\">0.0</td></tr><tr><td class = \"rowNumber\" style = \"font-weight: bold; text-align: right;\">27</td><td style = \"text-align: left;\">Turkey</td><td style = \"text-align: right;\">0.0</td><td style = \"text-align: right;\">0.0</td><td style = \"text-align: right;\">0.0</td><td style = \"text-align: right;\">0.0</td><td style = \"text-align: right;\">0.0</td><td style = \"text-align: right;\">0.0</td><td style = \"text-align: right;\">0.0</td><td style = \"text-align: right;\">0.0</td><td style = \"text-align: right;\">0.0</td><td style = \"text-align: right;\">0.0</td><td style = \"text-align: right;\">0.0</td><td style = \"text-align: right;\">0.0</td><td style = \"text-align: right;\">0.0</td><td style = \"text-align: right;\">0.0</td><td style = \"text-align: right;\">0.0</td></tr><tr><td class = \"rowNumber\" style = \"font-weight: bold; text-align: right;\">28</td><td style = \"text-align: left;\">Ukraine</td><td style = \"text-align: right;\">0.0</td><td style = \"text-align: right;\">0.0</td><td style = \"text-align: right;\">1.01545e5</td><td style = \"text-align: right;\">0.0</td><td style = \"text-align: right;\">0.0</td><td style = \"text-align: right;\">0.0</td><td style = \"text-align: right;\">0.0</td><td style = \"text-align: right;\">0.0</td><td style = \"text-align: right;\">0.0</td><td style = \"text-align: right;\">0.0</td><td style = \"text-align: right;\">0.0</td><td style = \"text-align: right;\">0.0</td><td style = \"text-align: right;\">0.0</td><td style = \"text-align: right;\">0.0</td><td style = \"text-align: right;\">0.0</td></tr><tr><td class = \"rowNumber\" style = \"font-weight: bold; text-align: right;\">29</td><td style = \"text-align: left;\">United Arab Emirates</td><td style = \"text-align: right;\">0.0</td><td style = \"text-align: right;\">0.0</td><td style = \"text-align: right;\">0.0</td><td style = \"text-align: right;\">0.0</td><td style = \"text-align: right;\">0.0</td><td style = \"text-align: right;\">0.0</td><td style = \"text-align: right;\">0.0</td><td style = \"text-align: right;\">0.0</td><td style = \"text-align: right;\">0.0</td><td style = \"text-align: right;\">0.0</td><td style = \"text-align: right;\">0.0</td><td style = \"text-align: right;\">0.0</td><td style = \"text-align: right;\">0.0</td><td style = \"text-align: right;\">0.0</td><td style = \"text-align: right;\">0.0</td></tr><tr><td class = \"rowNumber\" style = \"font-weight: bold; text-align: right;\">30</td><td style = \"text-align: left;\">United States</td><td style = \"text-align: right;\">0.0</td><td style = \"text-align: right;\">0.0</td><td style = \"text-align: right;\">0.0</td><td style = \"text-align: right;\">0.0</td><td style = \"text-align: right;\">0.0</td><td style = \"text-align: right;\">0.0</td><td style = \"text-align: right;\">7859.85</td><td style = \"text-align: right;\">0.0</td><td style = \"text-align: right;\">0.0</td><td style = \"text-align: right;\">90388.2</td><td style = \"text-align: right;\">0.0</td><td style = \"text-align: right;\">3387.86</td><td style = \"text-align: right;\">0.0</td><td style = \"text-align: right;\">0.0</td><td style = \"text-align: right;\">0.0</td></tr></tbody></table></div>"
      ],
      "text/latex": [
       "\\begin{tabular}{r|cccccccc}\n",
       "\t& country & Li & Co & Mn & Ni & cathode & graphite & \\\\\n",
       "\t\\hline\n",
       "\t& String & Float64 & Float64 & Float64 & Float64 & Float64 & Float64 & \\\\\n",
       "\t\\hline\n",
       "\t1 & Argentina & 0.0 & 0.0 & 0.0 & 0.0 & 0.0 & 0.0 & $\\dots$ \\\\\n",
       "\t2 & Australia & 32705.4 & 0.0 & 0.0 & 0.0 & 0.0 & 0.0 & $\\dots$ \\\\\n",
       "\t3 & Brazil & 2200.0 & 0.0 & 0.0 & 0.0 & 0.0 & 0.0 & $\\dots$ \\\\\n",
       "\t4 & Canada & 0.0 & 0.0 & 0.0 & 1.04074e5 & 0.0 & 0.0 & $\\dots$ \\\\\n",
       "\t5 & Chile & 39000.0 & 0.0 & 0.0 & 0.0 & 0.0 & 0.0 & $\\dots$ \\\\\n",
       "\t6 & China & 0.0 & 0.0 & 0.0 & 0.0 & 0.0 & 98314.1 & $\\dots$ \\\\\n",
       "\t7 & Colombia & 0.0 & 0.0 & 0.0 & 0.0 & 0.0 & 0.0 & $\\dots$ \\\\\n",
       "\t8 & Congo & 0.0 & 1.04269e5 & 0.0 & 0.0 & 0.0 & 0.0 & $\\dots$ \\\\\n",
       "\t9 & Finland & 0.0 & 0.0 & 0.0 & 0.0 & 0.0 & 0.0 & $\\dots$ \\\\\n",
       "\t10 & France & 0.0 & 0.0 & 0.0 & 0.0 & 0.0 & 0.0 & $\\dots$ \\\\\n",
       "\t11 & Germany & 0.0 & 0.0 & 0.0 & 0.0 & 1.94531e5 & 0.0 & $\\dots$ \\\\\n",
       "\t12 & India & 0.0 & 0.0 & 0.0 & 0.0 & 0.0 & 0.0 & $\\dots$ \\\\\n",
       "\t13 & Indonesia & 0.0 & 0.0 & 0.0 & 0.0 & 0.0 & 0.0 & $\\dots$ \\\\\n",
       "\t14 & Iran & 0.0 & 0.0 & 0.0 & 0.0 & 0.0 & 0.0 & $\\dots$ \\\\\n",
       "\t15 & Japan & 0.0 & 0.0 & 0.0 & 0.0 & 0.0 & 0.0 & $\\dots$ \\\\\n",
       "\t16 & Kazakhstan & 0.0 & 0.0 & 0.0 & 0.0 & 0.0 & 0.0 & $\\dots$ \\\\\n",
       "\t17 & Malaysia & 0.0 & 0.0 & 0.0 & 0.0 & 0.0 & 0.0 & $\\dots$ \\\\\n",
       "\t18 & Mexico & 0.0 & 0.0 & 0.0 & 0.0 & 0.0 & 250.0 & $\\dots$ \\\\\n",
       "\t19 & Norway & 0.0 & 0.0 & 0.0 & 0.0 & 0.0 & 10000.0 & $\\dots$ \\\\\n",
       "\t20 & Peru & 0.0 & 0.0 & 0.0 & 0.0 & 0.0 & 0.0 & $\\dots$ \\\\\n",
       "\t21 & Philippines & 0.0 & 0.0 & 0.0 & 0.0 & 0.0 & 0.0 & $\\dots$ \\\\\n",
       "\t22 & Portugal & 600.0 & 0.0 & 0.0 & 0.0 & 0.0 & 0.0 & $\\dots$ \\\\\n",
       "\t23 & Russia & 0.0 & 0.0 & 0.0 & 0.0 & 0.0 & 0.0 & $\\dots$ \\\\\n",
       "\t24 & Saudi arabia & 0.0 & 0.0 & 0.0 & 0.0 & 0.0 & 0.0 & $\\dots$ \\\\\n",
       "\t25 & South Africa & 0.0 & 0.0 & 0.0 & 0.0 & 0.0 & 0.0 & $\\dots$ \\\\\n",
       "\t26 & South korea & 0.0 & 0.0 & 0.0 & 0.0 & 0.0 & 0.0 & $\\dots$ \\\\\n",
       "\t27 & Turkey & 0.0 & 0.0 & 0.0 & 0.0 & 0.0 & 0.0 & $\\dots$ \\\\\n",
       "\t28 & Ukraine & 0.0 & 0.0 & 1.01545e5 & 0.0 & 0.0 & 0.0 & $\\dots$ \\\\\n",
       "\t29 & United Arab Emirates & 0.0 & 0.0 & 0.0 & 0.0 & 0.0 & 0.0 & $\\dots$ \\\\\n",
       "\t30 & United States & 0.0 & 0.0 & 0.0 & 0.0 & 0.0 & 0.0 & $\\dots$ \\\\\n",
       "\\end{tabular}\n"
      ],
      "text/plain": [
       "\u001b[1m30×16 DataFrame\u001b[0m\n",
       "\u001b[1m Row \u001b[0m│\u001b[1m country              \u001b[0m\u001b[1m Li      \u001b[0m\u001b[1m Co        \u001b[0m\u001b[1m Mn        \u001b[0m\u001b[1m Ni        \u001b[0m\u001b[1m cathode\u001b[0m ⋯\n",
       "     │\u001b[90m String               \u001b[0m\u001b[90m Float64 \u001b[0m\u001b[90m Float64   \u001b[0m\u001b[90m Float64   \u001b[0m\u001b[90m Float64   \u001b[0m\u001b[90m Float64\u001b[0m ⋯\n",
       "─────┼──────────────────────────────────────────────────────────────────────────\n",
       "   1 │ Argentina                 0.0  0.0        0.0        0.0        0.0     ⋯\n",
       "   2 │ Australia             32705.4  0.0        0.0        0.0        0.0\n",
       "   3 │ Brazil                 2200.0  0.0        0.0        0.0        0.0\n",
       "   4 │ Canada                    0.0  0.0        0.0        1.04074e5  0.0\n",
       "   5 │ Chile                 39000.0  0.0        0.0        0.0        0.0     ⋯\n",
       "   6 │ China                     0.0  0.0        0.0        0.0        0.0\n",
       "   7 │ Colombia                  0.0  0.0        0.0        0.0        0.0\n",
       "   8 │ Congo                     0.0  1.04269e5  0.0        0.0        0.0\n",
       "   9 │ Finland                   0.0  0.0        0.0        0.0        0.0     ⋯\n",
       "  10 │ France                    0.0  0.0        0.0        0.0        0.0\n",
       "  11 │ Germany                   0.0  0.0        0.0        0.0        1.94531\n",
       "  ⋮  │          ⋮               ⋮         ⋮          ⋮          ⋮          ⋮   ⋱\n",
       "  21 │ Philippines               0.0  0.0        0.0        0.0        0.0\n",
       "  22 │ Portugal                600.0  0.0        0.0        0.0        0.0     ⋯\n",
       "  23 │ Russia                    0.0  0.0        0.0        0.0        0.0\n",
       "  24 │ Saudi arabia              0.0  0.0        0.0        0.0        0.0\n",
       "  25 │ South Africa              0.0  0.0        0.0        0.0        0.0\n",
       "  26 │ South korea               0.0  0.0        0.0        0.0        0.0     ⋯\n",
       "  27 │ Turkey                    0.0  0.0        0.0        0.0        0.0\n",
       "  28 │ Ukraine                   0.0  0.0        1.01545e5  0.0        0.0\n",
       "  29 │ United Arab Emirates      0.0  0.0        0.0        0.0        0.0\n",
       "  30 │ United States             0.0  0.0        0.0        0.0        0.0     ⋯\n",
       "\u001b[36m                                                   11 columns and 9 rows omitted\u001b[0m"
      ]
     },
     "execution_count": 94,
     "metadata": {},
     "output_type": "execute_result"
    }
   ],
   "source": [
    "res_x"
   ]
  },
  {
   "cell_type": "code",
   "execution_count": 95,
   "id": "4ed272e5",
   "metadata": {},
   "outputs": [
    {
     "data": {
      "text/plain": [
       "\"/Users/bourg/Desktop/x_matrix_regional0915.csv\""
      ]
     },
     "execution_count": 95,
     "metadata": {},
     "output_type": "execute_result"
    }
   ],
   "source": [
    "CSV.write(\"/Users/bourg/Desktop/x_matrix_regional0915.csv\", res_x) "
   ]
  },
  {
   "cell_type": "code",
   "execution_count": 49,
   "id": "a03ed3f7",
   "metadata": {},
   "outputs": [
    {
     "data": {
      "text/plain": [
       "\"/Users/bourg/Desktop/x_matrix_regional0914.csv\""
      ]
     },
     "execution_count": 49,
     "metadata": {},
     "output_type": "execute_result"
    }
   ],
   "source": [
    "using Tables\n",
    "res = Tables.table(optx[1:end, 1:end]);\n",
    "CSV.write(\"/Users/bourg/Desktop/x_matrix_regional0914.csv\", res) "
   ]
  },
  {
   "cell_type": "code",
   "execution_count": 62,
   "id": "3ef4eaf2",
   "metadata": {},
   "outputs": [
    {
     "data": {
      "text/plain": [
       "\"/Users/bourg/Desktop/y02_matrix.csv\""
      ]
     },
     "execution_count": 62,
     "metadata": {},
     "output_type": "execute_result"
    }
   ],
   "source": [
    "res_y02 = Tables.table(opty[1:end, 1:end, 02])\n",
    "CSV.write(\"/Users/bourg/Desktop/y02_matrix.csv\", res_y02) "
   ]
  },
  {
   "cell_type": "code",
   "execution_count": null,
   "id": "8aee5430",
   "metadata": {},
   "outputs": [],
   "source": []
  },
  {
   "cell_type": "code",
   "execution_count": 38,
   "id": "8ffec852",
   "metadata": {},
   "outputs": [],
   "source": [
    "# # 2. transpotration emission\n",
    "# trans_emi = 0\n",
    "# for k in 1:nproc\n",
    "#     for i in 1:ncty\n",
    "#         for j in 1:ncty\n",
    "#             trans_emi += y[i,j,k] * distance[!, 2:end][i,j] * EF_trans;\n",
    "#         end\n",
    "#     end\n",
    "# end"
   ]
  },
  {
   "cell_type": "code",
   "execution_count": 15,
   "id": "c16439db",
   "metadata": {},
   "outputs": [],
   "source": [
    "# Pemi = 0\n",
    "# Pincome = 0\n",
    "# proD = zeros(ncty)\n",
    "# proM = zeros(ncty)\n",
    "# for i in 1:ncty\n",
    "#     for k in 1:nproc\n",
    "#         Pemi += regional_EF[i, k+1] * x[i,k] \n",
    "#         Pincome += x[i,k] * price[k]\n",
    "#     end\n",
    "#         proD[i] = Pemi\n",
    "#         proM[i] = Pincome\n",
    "# end\n",
    "        \n",
    "   \n",
    "\n",
    "# Temi = 0\n",
    "# transD = zeros(ncty)\n",
    "# for i in 1:ncty\n",
    "#     for j in 1:ncty\n",
    "#         amount = sum(y[i,j,k] for k in 1:nproc)\n",
    "#         Temi += amount * distance[!, 2:end][i,j] * EF_trans\n",
    "#     end\n",
    "#     transD[i] = Temi\n",
    "# end\n",
    "\n",
    "\n",
    "# Allo_soc = proM ./ vGDP .* Dsoc\n",
    "# SJ = proD + transD - Allo_soc\n",
    "    \n",
    "# M = Inf\n"
   ]
  }
 ],
 "metadata": {
  "kernelspec": {
   "display_name": "Julia 1.8.3",
   "language": "julia",
   "name": "julia-1.8"
  },
  "language_info": {
   "file_extension": ".jl",
   "mimetype": "application/julia",
   "name": "julia",
   "version": "1.8.3"
  }
 },
 "nbformat": 4,
 "nbformat_minor": 5
}
