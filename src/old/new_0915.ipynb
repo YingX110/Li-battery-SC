{
 "cells": [
  {
   "cell_type": "code",
   "execution_count": 1,
   "id": "9b532604",
   "metadata": {},
   "outputs": [],
   "source": [
    "using JuMP, Gurobi\n",
    "using CSV, LinearAlgebra, DataFrames"
   ]
  },
  {
   "cell_type": "code",
   "execution_count": 3,
   "id": "42f5b579",
   "metadata": {},
   "outputs": [],
   "source": [
    "#load social and ecological data and orgnize \n",
    "FL = repeat([Float64], inner=15)\n",
    "dtype = append!([String], FL);\n",
    "\n",
    "regional_EF = CSV.File(\"C:/Users/bourg/.julia/environments/batterySC/Li-battery-SC/data/social/new_EF_SC1.csv\",header=1,delim=\",\", types=dtype) |> DataFrame    \n",
    "capacity = CSV.File(\"C:/Users/bourg/.julia/environments/batterySC/Li-battery-SC/data/social/capacity2.csv\",header=1,delim=\",\", types=dtype) |> DataFrame    \n",
    "distance = CSV.File(\"C:/Users/bourg/.julia/environments/batterySC/Li-battery-SC/data/social/distance.csv\",header=1,delim=\",\") |> DataFrame \n",
    "LCA_model = CSV.File(\"C:/Users/bourg/.julia/environments/batterySC/Li-battery-SC/data/social/LCA_model2.csv\",header=1,delim=\",\") |> DataFrame \n",
    "D_Dsoc = CSV.File(\"C:/Users/bourg/.julia/environments/batterySC/Li-battery-SC/data/social/D_Dsoc1.csv\",header=1,delim=\",\") |> DataFrame\n",
    "GDP = CSV.File(\"C:/Users/bourg/.julia/environments/batterySC/Li-battery-SC/data/social/GDP.csv\",header=1,delim=\",\") |> DataFrame;\n",
    "emi_sink = CSV.File(\"C:/Users/bourg/.julia/environments/batterySC/Li-battery-SC/data/SC_regional/emission_sink1.csv\",header=1,delim=\",\") |> DataFrame;"
   ]
  },
  {
   "cell_type": "code",
   "execution_count": 11,
   "id": "871a427e",
   "metadata": {},
   "outputs": [],
   "source": [
    "cell_demand = 0.001*164.98*(1.36*1e6)*3           # annual demand of Li battery for tesla (1.369M EV/yr, ~2 NMC111 pack/EV, 226 kg/pack (35kwh/pack), 80~100 kWh per EV)\n",
    "\n",
    "D = D_Dsoc[!, \"D\"]          # national CO2 emission (ton/yr)\n",
    "Dsoc = D_Dsoc[!, \"Dsoc ton/yr\"]           # national CO2 sink (ton/yr)\n",
    "\n",
    "EF_trans = 1.005/10000                        # ton CO2/km*ton (The average freight truck in the U.S. emits 161.8 grams of CO2 per ton-mile)\n",
    "process = LCA_model[!,\"process\"]\n",
    "countries = capacity[!,\"country\"]\n",
    "ncty = size(countries,1)                          # No. of countries\n",
    "nproc = size(process,1);                          # No. of processes \n",
    "\n",
    "mkt_loc = findfirst(isequal(\"United States\"), countries)\n",
    "mkt_proc = findfirst(isequal(\"battery\"), process)\n",
    "\n",
    "# seperate model\n",
    "cathode = 1:4\n",
    "cell = 5:10\n",
    "noncell = [12,13]\n",
    "battery = [11,14]\n",
    "scaler = LCA_model[!,\"scaler\"]\n",
    "price = LCA_model[!,\"price (usd/ton product)\"]\n",
    "vGDP = GDP[!,\"GDP usd\"];"
   ]
  },
  {
   "cell_type": "code",
   "execution_count": 12,
   "id": "89bd7af2",
   "metadata": {},
   "outputs": [
    {
     "data": {
      "text/plain": [
       "1.0"
      ]
     },
     "execution_count": 12,
     "metadata": {},
     "output_type": "execute_result"
    }
   ],
   "source": [
    "up_cath = scaler[1:4] * scaler[5] * scaler[11]\n",
    "up_cell = scaler[5:10] * scaler[11]\n",
    "cell_sef = scaler[11]\n",
    "up_noncell = scaler[12:13] * scaler[14]\n",
    "noncell_sef = scaler[14]\n",
    "battery_sef = scaler[15]"
   ]
  },
  {
   "cell_type": "code",
   "execution_count": 13,
   "id": "a82d668a",
   "metadata": {},
   "outputs": [
    {
     "data": {
      "text/plain": [
       "15-element Vector{Float64}:\n",
       "  74015.62808111998\n",
       " 103583.22885504\n",
       " 100877.69675807998\n",
       " 103389.97656239998\n",
       " 193252.29264\n",
       " 107850.39563999999\n",
       "   7808.173439999999\n",
       "   1952.0433599999997\n",
       "  46361.02979999999\n",
       "  89793.99455999998\n",
       " 488010.8399999999\n",
       "   3365.5919999999996\n",
       "   2692.4736\n",
       " 673118.3999999999\n",
       " 673118.3999999999"
      ]
     },
     "execution_count": 13,
     "metadata": {},
     "output_type": "execute_result"
    }
   ],
   "source": [
    "input_amount = []\n",
    "input_amount = vcat(up_cath, up_cell, cell_sef, up_noncell, noncell_sef, battery_sef) .* cell_demand\n",
    "input_amount  # ton"
   ]
  },
  {
   "cell_type": "code",
   "execution_count": 14,
   "id": "8782fdfa",
   "metadata": {},
   "outputs": [
    {
     "data": {
      "text/plain": [
       "15-element Vector{Float64}:\n",
       " 2.960625123244799e9\n",
       " 8.234866693975679e9\n",
       " 1.5232532210470077e8\n",
       " 2.0812402282011118e9\n",
       " 1.430066965536e9\n",
       " 2.1570079127999997e9\n",
       " 9.432273515519999e6\n",
       " 2.2311855604799995e6\n",
       " 3.8062405465799993e8\n",
       " 1.9188976637471995e8\n",
       " 1.3371497015999998e10\n",
       " 4.543549199999999e6\n",
       " 1.61548416e9\n",
       " 2.3626455839999995e9\n",
       " 1.5750970559999998e10"
      ]
     },
     "execution_count": 14,
     "metadata": {},
     "output_type": "execute_result"
    }
   ],
   "source": [
    "MktV = price .* input_amount "
   ]
  },
  {
   "cell_type": "code",
   "execution_count": 15,
   "id": "13d3a0ba",
   "metadata": {},
   "outputs": [
    {
     "data": {
      "text/plain": [
       "1.5750970559999998e10"
      ]
     },
     "execution_count": 15,
     "metadata": {},
     "output_type": "execute_result"
    }
   ],
   "source": [
    "maximum(MktV)"
   ]
  },
  {
   "cell_type": "code",
   "execution_count": 16,
   "id": "fc58931c",
   "metadata": {},
   "outputs": [
    {
     "data": {
      "text/plain": [
       "5.54e10"
      ]
     },
     "execution_count": 16,
     "metadata": {},
     "output_type": "execute_result"
    }
   ],
   "source": [
    "minimum(vGDP)"
   ]
  },
  {
   "cell_type": "markdown",
   "id": "524fd524",
   "metadata": {},
   "source": [
    "----"
   ]
  },
  {
   "cell_type": "code",
   "execution_count": 17,
   "id": "91c4e362",
   "metadata": {},
   "outputs": [
    {
     "name": "stdout",
     "output_type": "stream",
     "text": [
      "Academic license - for non-commercial use only - expires 2023-11-27\r\n"
     ]
    }
   ],
   "source": [
    "model = Model(Gurobi.Optimizer);"
   ]
  },
  {
   "cell_type": "code",
   "execution_count": 18,
   "id": "4157572b",
   "metadata": {},
   "outputs": [],
   "source": [
    "#variables \n",
    "@variable(model, x[1:ncty, 1:nproc] >= 0)            # x[i,k] production amount of product k at location i\n",
    "@variable(model, y[1:ncty, 1:ncty, 1:nproc] >= 0)   # y[i,j,k] ship product k from i to j \n",
    "@variable(model, delta[1:ncty], binary=true);"
   ]
  },
  {
   "cell_type": "code",
   "execution_count": 19,
   "id": "35f9c50e",
   "metadata": {},
   "outputs": [],
   "source": [
    "# capacity constraint: x[i,k] <= capacity[i][k]\n",
    "for k in 1:nproc\n",
    "    for i in 1:ncty\n",
    "        @constraint(model, x[i,k] <= capacity[!, 2:end][i,k])\n",
    "    end\n",
    "end"
   ]
  },
  {
   "cell_type": "code",
   "execution_count": 20,
   "id": "2a16ae37",
   "metadata": {},
   "outputs": [],
   "source": [
    "# node output flow constraint\n",
    "for k in 1:nproc\n",
    "    for i in 1:ncty\n",
    "        @constraint(model, sum(y[i,j,k] for j in 1:ncty) == x[i,k])\n",
    "    end\n",
    "end"
   ]
  },
  {
   "cell_type": "code",
   "execution_count": 21,
   "id": "654f5726",
   "metadata": {},
   "outputs": [],
   "source": [
    "# node output flow to market y[i,38, 15]\n",
    "for i in 1:ncty\n",
    "    for j in [e for e in 1:ncty if e != mkt_loc]\n",
    "        @constraint(model, y[i,j,mkt_proc] == 0)\n",
    "    end\n",
    "end"
   ]
  },
  {
   "cell_type": "code",
   "execution_count": 22,
   "id": "0add76b2",
   "metadata": {},
   "outputs": [],
   "source": [
    "for k in 1:nproc-1\n",
    "    @constraint(model, sum(x[i,k] for i in 1:ncty) == input_amount[k])\n",
    "end"
   ]
  },
  {
   "cell_type": "code",
   "execution_count": 23,
   "id": "85745707",
   "metadata": {},
   "outputs": [],
   "source": [
    "# final demand constraint\n",
    "@constraint(model, sum(y[i,mkt_loc,mkt_proc] for i in 1:ncty) == cell_demand);"
   ]
  },
  {
   "cell_type": "code",
   "execution_count": 24,
   "id": "fd42b376",
   "metadata": {},
   "outputs": [],
   "source": [
    "# cathode LCA constraints (index=5)\n",
    "for k in cathode\n",
    "    for j in 1:ncty\n",
    "        @constraint(model, sum(y[i,j,k] for i in 1:ncty) == x[j,5] * scaler[k])\n",
    "    end\n",
    "end\n",
    "\n",
    "\n",
    "# cell LCA constraints (index=11)\n",
    "for k in cell\n",
    "    for j in 1:ncty\n",
    "        @constraint(model, sum(y[i,j,k] for i in 1:ncty) == x[j,11] * scaler[k])\n",
    "    end\n",
    "end\n",
    "\n",
    "\n",
    "# non cell LCA constraints (index=14)\n",
    "for k in noncell\n",
    "    for j in 1:ncty\n",
    "        @constraint(model, sum(y[i,j,k] for i in 1:ncty) == x[j,14] * scaler[k])\n",
    "    end\n",
    "end\n",
    "\n",
    "\n",
    "# battery LCA constraints (index=15)\n",
    "for k in battery\n",
    "    for j in 1:ncty\n",
    "        @constraint(model, sum(y[i,j,k] for i in 1:ncty) == x[j,15] * scaler[k])\n",
    "    end\n",
    "end\n"
   ]
  },
  {
   "cell_type": "code",
   "execution_count": 25,
   "id": "ab7a1167",
   "metadata": {},
   "outputs": [],
   "source": [
    "Pemi = 0\n",
    "Pincome = 0\n",
    "proD = Vector{AffExpr}(undef, ncty)\n",
    "proM = Vector{AffExpr}(undef, ncty)\n",
    "\n",
    "for i in 1:ncty\n",
    "    for k in 1:nproc\n",
    "        Pemi += regional_EF[i,k+1] * x[i,k]\n",
    "        Pincome += x[i,k] * price[k]\n",
    "    end\n",
    "    proD[i] = Pemi\n",
    "    proM[i] = Pincome\n",
    "end\n",
    "\n",
    "\n",
    "Temi = 0\n",
    "transD = Vector{AffExpr}(undef, ncty)\n",
    "for i in 1:ncty\n",
    "    for j in 1:ncty\n",
    "        amount = sum(y[i,j,k] for k in 1:nproc)\n",
    "        Temi += amount * distance[!, 2:end][i,j] * EF_trans\n",
    "    end\n",
    "    transD[i] = Temi\n",
    "end"
   ]
  },
  {
   "cell_type": "code",
   "execution_count": 26,
   "id": "7f0d126f",
   "metadata": {},
   "outputs": [
    {
     "data": {
      "text/latex": [
       "$$ 40000 x_{1,1} + 79500 x_{1,2} + 1510 x_{1,3} + 20130 x_{1,4} + 7400 x_{1,5} + 20000 x_{1,6} + 1208 x_{1,7} + 1143 x_{1,8} + 8210 x_{1,9} + 2137 x_{1,10} + 27400 x_{1,11} + 1350 x_{1,12} + 600000 x_{1,13} + 3510 x_{1,14} + 23400 x_{1,15} $$"
      ],
      "text/plain": [
       "40000 x[1,1] + 79500 x[1,2] + 1510 x[1,3] + 20130 x[1,4] + 7400 x[1,5] + 20000 x[1,6] + 1208 x[1,7] + 1143 x[1,8] + 8210 x[1,9] + 2137 x[1,10] + 27400 x[1,11] + 1350 x[1,12] + 600000 x[1,13] + 3510 x[1,14] + 23400 x[1,15]"
      ]
     },
     "execution_count": 26,
     "metadata": {},
     "output_type": "execute_result"
    }
   ],
   "source": [
    "proM[1]"
   ]
  },
  {
   "cell_type": "code",
   "execution_count": 28,
   "id": "ba3fcdbf",
   "metadata": {},
   "outputs": [],
   "source": [
    "for i in 1:ncty\n",
    "    @constraint(model, proM[i] <= vGDP[i])\n",
    "end"
   ]
  },
  {
   "cell_type": "code",
   "execution_count": 29,
   "id": "91f502a7",
   "metadata": {},
   "outputs": [],
   "source": [
    "M = 1e20\n",
    "Allo_soc = proM ./ vGDP .* Dsoc\n",
    "SJ = proD + transD - Allo_soc;"
   ]
  },
  {
   "cell_type": "code",
   "execution_count": 30,
   "id": "0319dcec",
   "metadata": {},
   "outputs": [],
   "source": [
    "for i in 1:ncty\n",
    "    @constraint(model, SJ[i] >= (delta[i] - 1) * M)\n",
    "end\n",
    "\n",
    "for i in 1:ncty\n",
    "    @constraint(model, SJ[i] <= delta[i] * M)\n",
    "end"
   ]
  },
  {
   "cell_type": "code",
   "execution_count": 40,
   "id": "21f7ccb2",
   "metadata": {},
   "outputs": [],
   "source": [
    "@objective(model, Max, sum(delta));"
   ]
  },
  {
   "cell_type": "code",
   "execution_count": 41,
   "id": "3b08f050",
   "metadata": {},
   "outputs": [
    {
     "name": "stdout",
     "output_type": "stream",
     "text": [
      "Gurobi Optimizer version 9.1.2 build v9.1.2rc0 (win64)\r\n",
      "Thread count: 6 physical cores, 12 logical processors, using up to 12 threads\r\n",
      "Optimize a model with 2325 rows, 13980 columns and 461250 nonzeros\r\n",
      "Model fingerprint: 0xb45085d4\r\n",
      "Variable types: 13950 continuous, 30 integer (30 binary)\r\n",
      "Coefficient statistics:\r\n",
      "  Matrix range     [2e-04, 1e+20]\r\n",
      "  Objective range  [1e+00, 1e+00]\r\n",
      "  Bounds range     [0e+00, 0e+00]\r\n",
      "  RHS range        [2e+02, 1e+20]\r\n",
      "Warning: Model contains large matrix coefficient range\r\n",
      "Warning: Model contains large rhs\r\n",
      "         Consider reformulating model or setting NumericFocus parameter\r\n",
      "         to avoid numerical issues.\r\n",
      "\r\n",
      "MIP start from previous solve produced solution with objective 24 (0.10s)\r\n",
      "Loaded MIP start from previous solve with objective 24\r\n",
      "\r\n",
      "Presolve removed 2233 rows and 13772 columns\r\n",
      "Presolve time: 0.08s\r\n",
      "Presolved: 92 rows, 208 columns, 495 nonzeros\r\n",
      "Found heuristic solution: objective 30.0000000\r\n",
      "Variable types: 208 continuous, 0 integer (0 binary)\r\n",
      "\r\n",
      "Explored 0 nodes (0 simplex iterations) in 0.27 seconds\r\n",
      "Thread count was 12 (of 12 available processors)\r\n",
      "\r\n",
      "Solution count 3: 30 24 24 \r\n",
      "\r\n",
      "Optimal solution found (tolerance 1.00e-04)\r\n",
      "Warning: max constraint violation (5.2363e+08) exceeds tolerance\r\n",
      "         (possibly due to large matrix coefficients)\r\n",
      "Best objective 3.000000000000e+01, best bound 3.000000000000e+01, gap 0.0000%\r\n",
      "\r\n",
      "User-callback calls 432, time in user-callback 0.00 sec\r\n"
     ]
    }
   ],
   "source": [
    "JuMP.optimize!(model)"
   ]
  },
  {
   "cell_type": "code",
   "execution_count": 42,
   "id": "5f897b9a",
   "metadata": {},
   "outputs": [
    {
     "data": {
      "text/plain": [
       "30×15 Matrix{Float64}:\n",
       "     0.0      0.0  0.0            0.0  …     0.0   0.0        0.0\n",
       " 11415.6      0.0  0.0            0.0        0.0   0.0        0.0\n",
       "  2200.0      0.0  0.0            0.0        0.0   0.0        0.0\n",
       "   500.0      0.0  0.0            0.0        0.0   0.0        0.0\n",
       " 39000.0      0.0  0.0            0.0        0.0   0.0        0.0\n",
       " 19000.0      0.0  0.0            0.0  …     0.0   0.0        0.0\n",
       "     0.0      0.0  0.0            0.0        0.0   0.0        0.0\n",
       "     0.0  82929.2  0.0            0.0        0.0   0.0        0.0\n",
       "     0.0      0.0  0.0            0.0        0.0   0.0        0.0\n",
       "     0.0      0.0  0.0            0.0        0.0   0.0        0.0\n",
       "     0.0      0.0  0.0            0.0  …     0.0   0.0        0.0\n",
       "     0.0      0.0  0.0            0.0        0.0   0.0        0.0\n",
       "     0.0   9454.0  0.0            0.0        0.0   0.0        0.0\n",
       "     ⋮                                 ⋱                      \n",
       "     0.0      0.0  0.0            0.0        0.0   0.0        0.0\n",
       "     0.0      0.0  0.0            0.0        0.0   0.0        0.0\n",
       "     0.0   5400.0  0.0            0.0  …     0.0   0.0        0.0\n",
       "   600.0      0.0  0.0            0.0        0.0   0.0        0.0\n",
       "     0.0   3500.0  0.0        35390.0        0.0   0.0        0.0\n",
       "     0.0      0.0  0.0            0.0        0.0   0.0        0.0\n",
       "     0.0      0.0  0.0        54000.0        0.0   0.0        0.0\n",
       "     0.0      0.0  0.0            0.0  …     0.0   0.0        0.0\n",
       "     0.0   2300.0  0.0            0.0        0.0   0.0        0.0\n",
       "     0.0      0.0  1.00878e5      0.0        0.0   0.0        0.0\n",
       "     0.0      0.0  0.0            0.0        0.0   0.0        0.0\n",
       "   900.0      0.0  0.0        14000.0     2692.47  6.73118e5  6.73118e5"
      ]
     },
     "execution_count": 42,
     "metadata": {},
     "output_type": "execute_result"
    }
   ],
   "source": [
    "JuMP.value.(x)"
   ]
  },
  {
   "cell_type": "code",
   "execution_count": 27,
   "id": "e44413af",
   "metadata": {},
   "outputs": [],
   "source": [
    "optx = copy(JuMP.value.(x))\n",
    "opty = copy(JuMP.value.(y));"
   ]
  },
  {
   "cell_type": "code",
   "execution_count": 28,
   "id": "509bcb99",
   "metadata": {},
   "outputs": [],
   "source": [
    "res_x = DataFrame(optx, :auto)\n",
    "rename!(res_x, [\"x$i\" => proc for (i, proc) in enumerate(process)])\n",
    "insertcols!(res_x, 1, :country => countries);"
   ]
  },
  {
   "cell_type": "code",
   "execution_count": 59,
   "id": "325e211a",
   "metadata": {},
   "outputs": [],
   "source": [
    "# DataFrame(opty[1:end, 1:end, 1], :auto)"
   ]
  },
  {
   "cell_type": "code",
   "execution_count": 29,
   "id": "4ed272e5",
   "metadata": {},
   "outputs": [
    {
     "data": {
      "text/plain": [
       "\"/Users/bourg/Desktop/x_matrix_0915_worst.csv\""
      ]
     },
     "execution_count": 29,
     "metadata": {},
     "output_type": "execute_result"
    }
   ],
   "source": [
    "CSV.write(\"/Users/bourg/Desktop/x_matrix_0915_worst.csv\", res_x) "
   ]
  },
  {
   "cell_type": "markdown",
   "id": "fbe997ba",
   "metadata": {},
   "source": [
    "----"
   ]
  },
  {
   "cell_type": "code",
   "execution_count": 37,
   "id": "a041be4c",
   "metadata": {},
   "outputs": [],
   "source": [
    "Pemi = 0\n",
    "Pincome = 0\n",
    "proD = zeros(ncty)\n",
    "proM = zeros(ncty)\n",
    "\n",
    "for i in 1:ncty\n",
    "    for k in 1:nproc\n",
    "        Pemi += regional_EF[i,k+1] * optx[i,k]\n",
    "        Pincome += optx[i,k] * price[k]\n",
    "    end\n",
    "    proD[i] = Pemi\n",
    "    proM[i] = Pincome\n",
    "end"
   ]
  },
  {
   "cell_type": "code",
   "execution_count": 39,
   "id": "b6027472",
   "metadata": {},
   "outputs": [],
   "source": [
    "Temi = 0\n",
    "transD = zeros(ncty)\n",
    "for i in 1:ncty\n",
    "    for j in 1:ncty\n",
    "        amount = sum(opty[i,j,k] for k in 1:nproc)\n",
    "        Temi += amount * distance[!, 2:end][i,j] * EF_trans\n",
    "    end\n",
    "    transD[i] = Temi\n",
    "end"
   ]
  },
  {
   "cell_type": "code",
   "execution_count": 41,
   "id": "1fb6dd00",
   "metadata": {},
   "outputs": [],
   "source": [
    "Allo_soc = proM ./ vGDP .* Dsoc;"
   ]
  },
  {
   "cell_type": "code",
   "execution_count": 42,
   "id": "04490c61",
   "metadata": {},
   "outputs": [
    {
     "data": {
      "text/plain": [
       "30-element Vector{Float64}:\n",
       "       0.0\n",
       "  146302.13332199663\n",
       "  123831.42101741045\n",
       "  206256.08675930544\n",
       "  159912.63574448245\n",
       "       1.056562300404097e6\n",
       "  875207.1441314534\n",
       " -794987.1116928686\n",
       "       2.924519861638376e6\n",
       "       3.0915770757717355e6\n",
       "       3.950255987924516e6\n",
       "  615154.6924511166\n",
       "       3.1179878368311003e6\n",
       "       ⋮\n",
       "       5.53059013545199e6\n",
       "       4.554944546771766e6\n",
       "       3.2063561278521023e6\n",
       "       5.516343264027968e6\n",
       "      -9.0869063574939e8\n",
       "      -3.938191876841539e8\n",
       "       4.066881103618127e6\n",
       "      -5.091918499342205e8\n",
       "       6.573037055059096e6\n",
       "       5.237567647721427e6\n",
       "       7.624298300202082e6\n",
       "       1.0146016860700918e7"
      ]
     },
     "execution_count": 42,
     "metadata": {},
     "output_type": "execute_result"
    }
   ],
   "source": [
    "SJ = proD + transD - Allo_soc"
   ]
  },
  {
   "cell_type": "code",
   "execution_count": 45,
   "id": "c6553903",
   "metadata": {},
   "outputs": [],
   "source": [
    "optdelta = JuMP.value.(delta);"
   ]
  },
  {
   "cell_type": "code",
   "execution_count": 49,
   "id": "dbb6de7b",
   "metadata": {},
   "outputs": [
    {
     "data": {
      "text/plain": [
       "146302.13332199663"
      ]
     },
     "execution_count": 49,
     "metadata": {},
     "output_type": "execute_result"
    }
   ],
   "source": [
    "SJ[2]"
   ]
  },
  {
   "cell_type": "code",
   "execution_count": 48,
   "id": "58086b02",
   "metadata": {},
   "outputs": [
    {
     "data": {
      "text/plain": [
       "-1.0e20"
      ]
     },
     "execution_count": 48,
     "metadata": {},
     "output_type": "execute_result"
    }
   ],
   "source": [
    "(optdelta[2] - 1) * M"
   ]
  },
  {
   "cell_type": "code",
   "execution_count": null,
   "id": "00db9f81",
   "metadata": {},
   "outputs": [],
   "source": []
  },
  {
   "cell_type": "code",
   "execution_count": null,
   "id": "be36aadf",
   "metadata": {},
   "outputs": [],
   "source": []
  },
  {
   "cell_type": "code",
   "execution_count": null,
   "id": "323cd8d3",
   "metadata": {},
   "outputs": [],
   "source": []
  },
  {
   "cell_type": "code",
   "execution_count": 31,
   "id": "a03ed3f7",
   "metadata": {},
   "outputs": [],
   "source": [
    "# using Tables\n",
    "# res = Tables.table(optx[1:end, 1:end]);\n",
    "# CSV.write(\"/Users/bourg/Desktop/x_matrix_regional0914.csv\", res) "
   ]
  },
  {
   "cell_type": "code",
   "execution_count": 30,
   "id": "3ef4eaf2",
   "metadata": {},
   "outputs": [],
   "source": [
    "# res_y02 = Tables.table(opty[1:end, 1:end, 02])\n",
    "# CSV.write(\"/Users/bourg/Desktop/y02_matrix.csv\", res_y02) "
   ]
  },
  {
   "cell_type": "code",
   "execution_count": null,
   "id": "8aee5430",
   "metadata": {},
   "outputs": [],
   "source": []
  }
 ],
 "metadata": {
  "kernelspec": {
   "display_name": "Julia 1.8.3",
   "language": "julia",
   "name": "julia-1.8"
  },
  "language_info": {
   "file_extension": ".jl",
   "mimetype": "application/julia",
   "name": "julia",
   "version": "1.8.3"
  }
 },
 "nbformat": 4,
 "nbformat_minor": 5
}
