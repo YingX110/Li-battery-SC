{
 "cells": [
  {
   "cell_type": "code",
   "execution_count": 1,
   "id": "323db6c7",
   "metadata": {},
   "outputs": [],
   "source": [
    "using JuMP, Gurobi\n",
    "using CSV, LinearAlgebra, DataFrames\n",
    "using Plots"
   ]
  },
  {
   "cell_type": "code",
   "execution_count": 2,
   "id": "06379d3d",
   "metadata": {},
   "outputs": [],
   "source": [
    "using SparseArrays"
   ]
  },
  {
   "cell_type": "code",
   "execution_count": 3,
   "id": "659e5df3",
   "metadata": {},
   "outputs": [],
   "source": [
    "#load the data and orgnize \n",
    "cap_cstr = CSV.read(\"/Users/bourg/.julia/environments/batterySC/data/capacity_constraint.csv\", \n",
    "                    DataFrame, \n",
    "                    header=1) |> DataFrame\n",
    "\n",
    "distance = CSV.File(\"/Users/bourg/.julia/environments/batterySC/data/distance.csv\",header=1) |> DataFrame\n",
    "\n",
    "LCA_model = CSV.File(\"/Users/bourg/.julia/environments/batterySC/data/LCA_model314.csv\",header=1) |> DataFrame\n",
    "\n",
    "SD = CSV.File(\"/Users/bourg/.julia/environments/batterySC/data/emission_sink.csv\",header=1) |> DataFrame; "
   ]
  },
  {
   "cell_type": "code",
   "execution_count": 4,
   "id": "eff42f8f",
   "metadata": {},
   "outputs": [],
   "source": [
    "cell_demand = 6000000 * 164.98/1000         # annual demand of Li battery for tesla (2M EV/yr, 3 NMC111 pack/EV, 164.98 kg/pack)\n",
    "gobal_sink = 1.53e9                         # global CO2 sequestration (ton/yr)\n",
    "global_emission = 4.75e10                   # global CO2 emission (ton/yr)\n",
    "EF_aircraft = 0.433/1000                    # ton CO2/km*ton emission factor for freight transporation \n",
    "EF_input = LCA_model[!,\"EF (kg CO2/material)\"]\n",
    "process = LCA_model[!,\"process\"]\n",
    "countries = cap_cstr[!,\"Country\"]\n",
    "n = size(countries,1)                       # No. of countries\n",
    "m = size(process,1);                        # No. of processes "
   ]
  },
  {
   "cell_type": "code",
   "execution_count": 5,
   "id": "9abc9283",
   "metadata": {},
   "outputs": [
    {
     "data": {
      "text/plain": [
       "4-element Vector{Float64}:\n",
       " 0.03591269841269842\n",
       " 0.20238095238095236\n",
       " 0.19007936507936507\n",
       " 0.20238095238095236"
      ]
     },
     "execution_count": 5,
     "metadata": {},
     "output_type": "execute_result"
    }
   ],
   "source": [
    "# seperate model\n",
    "# scaler_powder = LCA_model[1:4,\"input (material/kg NMC111 powder)\"]     # mineral inputs for 1 kg NMC111 powder\n",
    "scaler_cell = LCA_model[1:10,\"input (material/kg battery)\"];     # inputs for 1 kg NMC111 powder\n",
    "scaler_powder = scaler_cell[1:4] / scaler_cell[5]"
   ]
  },
  {
   "cell_type": "code",
   "execution_count": 6,
   "id": "28fc98b4",
   "metadata": {},
   "outputs": [
    {
     "data": {
      "text/plain": [
       "11-element Vector{Float64}:\n",
       "   8958.413999999999\n",
       "  50483.87999999999\n",
       "  47415.25199999999\n",
       "  50483.87999999999\n",
       " 249449.75999999998\n",
       " 139573.07999999996\n",
       "  10888.679999999998\n",
       "   3603.1631999999995\n",
       " 115815.95999999999\n",
       " 236581.31999999995\n",
       " 989879.9999999999"
      ]
     },
     "execution_count": 6,
     "metadata": {},
     "output_type": "execute_result"
    }
   ],
   "source": [
    "FU_input = cell_demand * LCA_model[1:11,\"input (material/kg battery)\"]"
   ]
  },
  {
   "cell_type": "markdown",
   "id": "5e04293b",
   "metadata": {},
   "source": [
    "----"
   ]
  },
  {
   "cell_type": "code",
   "execution_count": 7,
   "id": "04900f2b",
   "metadata": {},
   "outputs": [
    {
     "name": "stdout",
     "output_type": "stream",
     "text": [
      "Academic license - for non-commercial use only - expires 2023-11-27\r\n"
     ]
    }
   ],
   "source": [
    "model = Model(Gurobi.Optimizer);"
   ]
  },
  {
   "cell_type": "code",
   "execution_count": 8,
   "id": "ba522361",
   "metadata": {},
   "outputs": [],
   "source": [
    "#variables \n",
    "@variable(model, x[1:n, 1:m] >= 0)         # x[i,k] production amount of product k at location i\n",
    "@variable(model, y[1:n, 1:n, 1:m] >= 0);   # y[i,j,k] ship product k from i to j "
   ]
  },
  {
   "cell_type": "code",
   "execution_count": 9,
   "id": "25ee5bfa",
   "metadata": {},
   "outputs": [],
   "source": [
    "# node output flow constraint\n",
    "for k in 1:m\n",
    "    for i in 1:n\n",
    "        @constraint(model, sum(y[i,j,k] for j in 1:n) <= x[i,k])\n",
    "    end\n",
    "end"
   ]
  },
  {
   "cell_type": "code",
   "execution_count": 10,
   "id": "d1063079",
   "metadata": {},
   "outputs": [],
   "source": [
    "# NMC111 powder input flow constraint\n",
    "for k in 1:4\n",
    "    for j in 1:n\n",
    "        @constraint(model, sum(y[i,j,k] for i in 1:n) >= x[j,5] * scaler_powder[k])\n",
    "    end\n",
    "end\n",
    "\n",
    "# for j in 1:n\n",
    "#     @constraint(model, sum(y[i,j,2] for i in 1:n) >= x[j,5] * scaler_powder[2])\n",
    "# end\n",
    "\n",
    "# for j in 1:n\n",
    "#     @constraint(model, sum(y[i,j,1] for i in 1:n) >= x[j,5] * scaler_powder[1])\n",
    "# end\n",
    "\n",
    "\n",
    "\n",
    "\n",
    "\n",
    "# NMC111 battery input flow constraint\n",
    "for k in 5:10\n",
    "    for j in 1:n\n",
    "        @constraint(model, sum(y[i,j,k] for i in 1:n) >= x[j,11] * scaler_cell[k])\n",
    "    end\n",
    "end\n",
    "\n"
   ]
  },
  {
   "cell_type": "code",
   "execution_count": 11,
   "id": "64fa182a",
   "metadata": {},
   "outputs": [],
   "source": [
    "# production capacity constraints\n",
    "for i in 1:n\n",
    "    for k in 1:m\n",
    "        @constraint(model, x[i,k] <= cap_cstr[!, 2:end][i,k])\n",
    "    end\n",
    "end"
   ]
  },
  {
   "cell_type": "code",
   "execution_count": 12,
   "id": "354399ae",
   "metadata": {},
   "outputs": [],
   "source": [
    "# final demand constraints\n",
    "for k in 1:11\n",
    "    @constraint(model, sum(x[i,k] for i in 1:n) == FU_input[k])\n",
    "end\n",
    "\n",
    "# @constraint(model, sum(x[i,11] for i in 1:n) == FU_battery);"
   ]
  },
  {
   "cell_type": "code",
   "execution_count": 13,
   "id": "eb53474c",
   "metadata": {},
   "outputs": [],
   "source": [
    "vec_flow = []\n",
    "\n",
    "for k in 1:m\n",
    "    flow = sum(x[i, k] for i in 1:n)\n",
    "    push!(vec_flow, flow)\n",
    "end\n",
    "\n",
    "D_proc = EF_input' * vec_flow;"
   ]
  },
  {
   "cell_type": "code",
   "execution_count": 14,
   "id": "3bb8be98",
   "metadata": {},
   "outputs": [],
   "source": [
    "trans_emi = 0\n",
    "\n",
    "for k in 1:m\n",
    "    for i in 1:n\n",
    "        for j in 1:n\n",
    "            trans_emi += y[i,j,k] * distance[!, 2:end][i,j] * EF_aircraft\n",
    "        end\n",
    "    end\n",
    "end\n",
    "\n",
    "D_trans = trans_emi + sum(x[i,11] * distance[!, 2:end][i,38] for i in 1:n);"
   ]
  },
  {
   "cell_type": "code",
   "execution_count": 15,
   "id": "8c9ab186",
   "metadata": {},
   "outputs": [],
   "source": [
    "# supply - based on emission\n",
    "emi = x * EF_input\n",
    "S_country = SD[!, \"sink ton/yr\"] .* emi ./ SD[!, \"emission\"]\n",
    "S_global = gobal_sink/global_emission * emi\n",
    "S = S_global\n",
    "S_tot = sum(S);"
   ]
  },
  {
   "cell_type": "code",
   "execution_count": 16,
   "id": "e83fbe5a",
   "metadata": {},
   "outputs": [],
   "source": [
    "@objective(model, Min, D_trans+D_proc-S_tot);"
   ]
  },
  {
   "cell_type": "code",
   "execution_count": 17,
   "id": "c343e55d",
   "metadata": {},
   "outputs": [
    {
     "name": "stdout",
     "output_type": "stream",
     "text": [
      "Gurobi Optimizer version 9.1.2 build v9.1.2rc0 (win64)\r\n",
      "Thread count: 6 physical cores, 12 logical processors, using up to 12 threads\r\n",
      "Optimize a model with 1291 rows, 18040 columns and 35320 nonzeros\r\n",
      "Model fingerprint: 0x635b7834\r\n",
      "Coefficient statistics:\r\n",
      "  Matrix range     [4e-03, 1e+00]\r\n",
      "  Objective range  [2e-02, 2e+04]\r\n",
      "  Bounds range     [0e+00, 0e+00]\r\n",
      "  RHS range        [3e+02, 1e+15]\r\n",
      "Warning: Model contains large rhs\r\n",
      "         Consider reformulating model or setting NumericFocus parameter\r\n",
      "         to avoid numerical issues.\r\n",
      "\r\n",
      "Concurrent LP optimizer: primal simplex, dual simplex, and barrier\r\n",
      "Showing barrier log only...\r\n",
      "\r\n",
      "Presolve removed 1115 rows and 17283 columns\r\n",
      "Presolve time: 0.02s\r\n",
      "\r\n",
      "Solved with dual simplex\r\n",
      "Solved in 48 iterations and 0.02 seconds\r\n",
      "Optimal objective  7.472362676e+06\r\n",
      "\r\n",
      "User-callback calls 41, time in user-callback 0.00 sec\r\n"
     ]
    }
   ],
   "source": [
    "JuMP.optimize!(model)"
   ]
  },
  {
   "cell_type": "markdown",
   "id": "55ce385b",
   "metadata": {},
   "source": [
    "-----"
   ]
  },
  {
   "cell_type": "code",
   "execution_count": 30,
   "id": "9581b5ca",
   "metadata": {},
   "outputs": [],
   "source": [
    "optx = copy(JuMP.value.(x))\n",
    "opty = copy(JuMP.value.(y))\n",
    "Li = optx[:, 1]\n",
    "Co = optx[:, 2]\n",
    "Mn = optx[:, 3]\n",
    "Ni = optx[:, 4]\n",
    "NMC = optx[:, 5];"
   ]
  },
  {
   "cell_type": "code",
   "execution_count": 25,
   "id": "0fc128cc",
   "metadata": {},
   "outputs": [],
   "source": [
    "for i in 1:n\n",
    "    if Li_y[i]>0\n",
    "        println(Li_y[i])\n",
    "    end\n",
    "end"
   ]
  },
  {
   "cell_type": "code",
   "execution_count": null,
   "id": "2fdcdb60",
   "metadata": {},
   "outputs": [],
   "source": []
  },
  {
   "cell_type": "code",
   "execution_count": 183,
   "id": "3a53fa1c",
   "metadata": {},
   "outputs": [
    {
     "data": {
      "text/plain": [
       "40×11 Matrix{Float64}:\n",
       "    0.0       0.0       0.0      0.0  …       0.0  0.0             0.0\n",
       "    0.0    7400.0       0.0      0.0          0.0  0.0             0.0\n",
       "    0.0       0.0       0.0      0.0          0.0  0.0             0.0\n",
       "    0.0       0.0       0.0      0.0          0.0  0.0             0.0\n",
       "    0.0       0.0       0.0      0.0          0.0  0.0             0.0\n",
       "    0.0    4440.0       0.0      0.0  …       0.0  0.0             0.0\n",
       "    0.0       0.0       0.0      0.0          0.0  0.0             0.0\n",
       " 8958.41   2000.0       0.0      0.0          0.0  0.0             0.0\n",
       "    0.0       0.0       0.0      0.0          0.0  0.0             0.0\n",
       "    0.0   10400.0       0.0      0.0          0.0  0.0             0.0\n",
       "    0.0    3500.0       0.0      0.0  …       0.0  0.0             0.0\n",
       "    0.0    1380.0       0.0      0.0          0.0  0.0             0.0\n",
       "    0.0       0.0       0.0      0.0          0.0  0.0             0.0\n",
       "    ⋮                                 ⋱                            ⋮\n",
       "    0.0    5920.0       0.0      0.0          0.0  0.0             0.0\n",
       "    0.0       0.0       0.0      0.0          0.0  0.0             0.0\n",
       "    0.0       0.0       0.0      0.0  …       0.0  0.0             0.0\n",
       "    0.0       0.0       0.0      0.0          0.0  0.0             0.0\n",
       "    0.0    3100.0       0.0  50483.9          0.0  0.0             0.0\n",
       "    0.0       0.0       0.0      0.0          0.0  0.0             0.0\n",
       "    0.0       0.0       0.0      0.0          0.0  0.0             0.0\n",
       "    0.0       0.0   47415.3      0.0  …       0.0  0.0             0.0\n",
       "    0.0       0.0       0.0      0.0          0.0  0.0             0.0\n",
       "    0.0       0.0       0.0      0.0     115816.0  2.36581e5  989880.0\n",
       "    0.0     897.0       0.0      0.0          0.0  0.0             0.0\n",
       "    0.0     246.88      0.0      0.0          0.0  0.0             0.0"
      ]
     },
     "execution_count": 183,
     "metadata": {},
     "output_type": "execute_result"
    }
   ],
   "source": [
    "copy(JuMP.value.(x))"
   ]
  },
  {
   "cell_type": "code",
   "execution_count": 26,
   "id": "ca737c3e",
   "metadata": {},
   "outputs": [
    {
     "name": "stdout",
     "output_type": "stream",
     "text": [
      "Non-zero indices:\n",
      "CartesianIndex(8, 8, 1)\n",
      "CartesianIndex(5, 38, 1)\n",
      "CartesianIndex(6, 38, 1)\n",
      "CartesianIndex(24, 38, 1)\n",
      "CartesianIndex(30, 38, 1)\n",
      "CartesianIndex(38, 38, 1)\n",
      "CartesianIndex(2, 38, 2)\n",
      "CartesianIndex(6, 38, 2)\n",
      "CartesianIndex(8, 38, 2)\n",
      "CartesianIndex(10, 38, 2)\n",
      "CartesianIndex(11, 38, 2)\n",
      "CartesianIndex(12, 38, 2)\n",
      "CartesianIndex(18, 38, 2)\n",
      "CartesianIndex(24, 38, 2)\n",
      "CartesianIndex(25, 38, 2)\n",
      "CartesianIndex(27, 38, 2)\n",
      "CartesianIndex(29, 38, 2)\n",
      "CartesianIndex(31, 38, 2)\n",
      "CartesianIndex(33, 38, 2)\n",
      "CartesianIndex(38, 38, 2)\n",
      "CartesianIndex(39, 38, 2)\n",
      "CartesianIndex(40, 38, 2)\n",
      "CartesianIndex(24, 38, 3)\n",
      "CartesianIndex(6, 38, 4)\n",
      "CartesianIndex(38, 38, 5)\n",
      "CartesianIndex(5, 38, 6)\n",
      "CartesianIndex(6, 38, 6)\n",
      "CartesianIndex(8, 38, 6)\n",
      "CartesianIndex(15, 38, 6)\n",
      "CartesianIndex(24, 38, 6)\n",
      "CartesianIndex(26, 38, 6)\n",
      "CartesianIndex(31, 38, 6)\n",
      "CartesianIndex(35, 38, 6)\n",
      "CartesianIndex(36, 38, 6)\n",
      "CartesianIndex(38, 38, 7)\n",
      "CartesianIndex(38, 38, 8)\n",
      "CartesianIndex(38, 38, 9)\n",
      "CartesianIndex(38, 38, 10)\n"
     ]
    }
   ],
   "source": [
    "indices = CartesianIndices(opty)\n",
    "nonzero_indices = indices[opty .!= 0]\n",
    "\n",
    "println(\"Non-zero indices:\")\n",
    "for index in nonzero_indices\n",
    "    println(index)\n",
    "end\n"
   ]
  },
  {
   "cell_type": "code",
   "execution_count": 51,
   "id": "13bebf02",
   "metadata": {},
   "outputs": [],
   "source": [
    "using Tables\n",
    "res = Tables.table(opty[1:end, 1:end, 11]);"
   ]
  },
  {
   "cell_type": "code",
   "execution_count": 52,
   "id": "ff723e16",
   "metadata": {},
   "outputs": [
    {
     "data": {
      "text/plain": [
       "\"/Users/bourg/Desktop/y11_matrix.csv\""
      ]
     },
     "execution_count": 52,
     "metadata": {},
     "output_type": "execute_result"
    }
   ],
   "source": [
    "CSV.write(\"/Users/bourg/Desktop/y11_matrix.csv\", res) "
   ]
  },
  {
   "cell_type": "code",
   "execution_count": null,
   "id": "3c0bf37d",
   "metadata": {},
   "outputs": [],
   "source": []
  }
 ],
 "metadata": {
  "kernelspec": {
   "display_name": "Julia 1.8.3",
   "language": "julia",
   "name": "julia-1.8"
  },
  "language_info": {
   "file_extension": ".jl",
   "mimetype": "application/julia",
   "name": "julia",
   "version": "1.8.3"
  }
 },
 "nbformat": 4,
 "nbformat_minor": 5
}
