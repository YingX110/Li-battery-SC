{
 "cells": [
  {
   "cell_type": "code",
   "execution_count": 167,
   "id": "323db6c7",
   "metadata": {},
   "outputs": [],
   "source": [
    "using JuMP, Gurobi\n",
    "using CSV, LinearAlgebra, DataFrames\n",
    "using Plots"
   ]
  },
  {
   "cell_type": "code",
   "execution_count": 196,
   "id": "b8ab5b78",
   "metadata": {},
   "outputs": [],
   "source": [
    "using SparseArrays"
   ]
  },
  {
   "cell_type": "code",
   "execution_count": 210,
   "id": "659e5df3",
   "metadata": {},
   "outputs": [],
   "source": [
    "#load the data and orgnize \n",
    "cap_cstr = CSV.read(\"/Users/bourg/.julia/environments/batterySC/data/testdata/battery/capacity_constraints18.csv\", \n",
    "                    DataFrame, \n",
    "                    header=1) |> DataFrame\n",
    "\n",
    "distance = CSV.File(\"/Users/bourg/.julia/environments/batterySC/data/testdata/battery/distance18.csv\",header=1) |> DataFrame\n",
    "\n",
    "LCA_model = CSV.File(\"/Users/bourg/.julia/environments/batterySC/data/testdata/battery/LCA_model18.csv\",header=1) |> DataFrame\n",
    "\n",
    "SD = CSV.File(\"/Users/bourg/.julia/environments/batterySC/data/testdata/battery/emission_sink18.csv\",header=1) |> DataFrame; \n",
    "\n",
    "# first(cap_cstr, 5)\n",
    "# first(distance, 5)\n",
    "# ncol(distance)"
   ]
  },
  {
   "cell_type": "code",
   "execution_count": 211,
   "id": "d9b741ff",
   "metadata": {},
   "outputs": [
    {
     "data": {
      "text/html": [
       "<div><div style = \"float: left;\"><span>10×8 DataFrame</span></div><div style = \"clear: both;\"></div></div><div class = \"data-frame\" style = \"overflow-x: scroll;\"><table class = \"data-frame\" style = \"margin-bottom: 6px;\"><thead><tr class = \"header\"><th class = \"rowNumber\" style = \"font-weight: bold; text-align: right;\">Row</th><th style = \"text-align: left;\">Country</th><th style = \"text-align: left;\">NMC111 powder</th><th style = \"text-align: left;\">Graphite</th><th style = \"text-align: left;\">PP</th><th style = \"text-align: left;\">PE</th><th style = \"text-align: left;\">Cu</th><th style = \"text-align: left;\">Al</th><th style = \"text-align: left;\">battery production</th></tr><tr class = \"subheader headerLastRow\"><th class = \"rowNumber\" style = \"font-weight: bold; text-align: right;\"></th><th title = \"String31\" style = \"text-align: left;\">String31</th><th title = \"Float64\" style = \"text-align: left;\">Float64</th><th title = \"Int64\" style = \"text-align: left;\">Int64</th><th title = \"Int64\" style = \"text-align: left;\">Int64</th><th title = \"Int64\" style = \"text-align: left;\">Int64</th><th title = \"Int64\" style = \"text-align: left;\">Int64</th><th title = \"Int64\" style = \"text-align: left;\">Int64</th><th title = \"Float64\" style = \"text-align: left;\">Float64</th></tr></thead><tbody><tr><td class = \"rowNumber\" style = \"font-weight: bold; text-align: right;\">1</td><td style = \"text-align: left;\">Argentina</td><td style = \"text-align: right;\">0.0</td><td style = \"text-align: right;\">0</td><td style = \"text-align: right;\">300000</td><td style = \"text-align: right;\">0</td><td style = \"text-align: right;\">0</td><td style = \"text-align: right;\">0</td><td style = \"text-align: right;\">0.0</td></tr><tr><td class = \"rowNumber\" style = \"font-weight: bold; text-align: right;\">2</td><td style = \"text-align: left;\">Australia</td><td style = \"text-align: right;\">0.0</td><td style = \"text-align: right;\">500</td><td style = \"text-align: right;\">500000</td><td style = \"text-align: right;\">600000</td><td style = \"text-align: right;\">920000</td><td style = \"text-align: right;\">1600000</td><td style = \"text-align: right;\">0.0</td></tr><tr><td class = \"rowNumber\" style = \"font-weight: bold; text-align: right;\">3</td><td style = \"text-align: left;\">Bahrain</td><td style = \"text-align: right;\">0.0</td><td style = \"text-align: right;\">0</td><td style = \"text-align: right;\">0</td><td style = \"text-align: right;\">0</td><td style = \"text-align: right;\">0</td><td style = \"text-align: right;\">1200000</td><td style = \"text-align: right;\">0.0</td></tr><tr><td class = \"rowNumber\" style = \"font-weight: bold; text-align: right;\">4</td><td style = \"text-align: left;\">Bolivia</td><td style = \"text-align: right;\">0.0</td><td style = \"text-align: right;\">0</td><td style = \"text-align: right;\">0</td><td style = \"text-align: right;\">0</td><td style = \"text-align: right;\">0</td><td style = \"text-align: right;\">0</td><td style = \"text-align: right;\">0.0</td></tr><tr><td class = \"rowNumber\" style = \"font-weight: bold; text-align: right;\">5</td><td style = \"text-align: left;\">Brazil</td><td style = \"text-align: right;\">0.0</td><td style = \"text-align: right;\">87000</td><td style = \"text-align: right;\">1900000</td><td style = \"text-align: right;\">3600000</td><td style = \"text-align: right;\">400000</td><td style = \"text-align: right;\">590000</td><td style = \"text-align: right;\">0.0</td></tr><tr><td class = \"rowNumber\" style = \"font-weight: bold; text-align: right;\">6</td><td style = \"text-align: left;\">Canada</td><td style = \"text-align: right;\">0.0</td><td style = \"text-align: right;\">15000</td><td style = \"text-align: right;\">1400000</td><td style = \"text-align: right;\">2500000</td><td style = \"text-align: right;\">480000</td><td style = \"text-align: right;\">2900000</td><td style = \"text-align: right;\">0.0</td></tr><tr><td class = \"rowNumber\" style = \"font-weight: bold; text-align: right;\">7</td><td style = \"text-align: left;\">Chile</td><td style = \"text-align: right;\">0.0</td><td style = \"text-align: right;\">0</td><td style = \"text-align: right;\">0</td><td style = \"text-align: right;\">300000</td><td style = \"text-align: right;\">5700000</td><td style = \"text-align: right;\">0</td><td style = \"text-align: right;\">0.0</td></tr><tr><td class = \"rowNumber\" style = \"font-weight: bold; text-align: right;\">8</td><td style = \"text-align: left;\">China</td><td style = \"text-align: right;\">1.0e11</td><td style = \"text-align: right;\">850000</td><td style = \"text-align: right;\">23800000</td><td style = \"text-align: right;\">27000000</td><td style = \"text-align: right;\">1600000</td><td style = \"text-align: right;\">37000000</td><td style = \"text-align: right;\">1.0e15</td></tr><tr><td class = \"rowNumber\" style = \"font-weight: bold; text-align: right;\">9</td><td style = \"text-align: left;\">Colombia</td><td style = \"text-align: right;\">0.0</td><td style = \"text-align: right;\">0</td><td style = \"text-align: right;\">200000</td><td style = \"text-align: right;\">600000</td><td style = \"text-align: right;\">0</td><td style = \"text-align: right;\">0</td><td style = \"text-align: right;\">0.0</td></tr><tr><td class = \"rowNumber\" style = \"font-weight: bold; text-align: right;\">10</td><td style = \"text-align: left;\">Congo</td><td style = \"text-align: right;\">0.0</td><td style = \"text-align: right;\">0</td><td style = \"text-align: right;\">0</td><td style = \"text-align: right;\">30000</td><td style = \"text-align: right;\">1200000</td><td style = \"text-align: right;\">0</td><td style = \"text-align: right;\">0.0</td></tr></tbody></table></div>"
      ],
      "text/latex": [
       "\\begin{tabular}{r|cccccccc}\n",
       "\t& Country & NMC111 powder & Graphite & PP & PE & Cu & Al & battery production\\\\\n",
       "\t\\hline\n",
       "\t& String31 & Float64 & Int64 & Int64 & Int64 & Int64 & Int64 & Float64\\\\\n",
       "\t\\hline\n",
       "\t1 & Argentina & 0.0 & 0 & 300000 & 0 & 0 & 0 & 0.0 \\\\\n",
       "\t2 & Australia & 0.0 & 500 & 500000 & 600000 & 920000 & 1600000 & 0.0 \\\\\n",
       "\t3 & Bahrain & 0.0 & 0 & 0 & 0 & 0 & 1200000 & 0.0 \\\\\n",
       "\t4 & Bolivia & 0.0 & 0 & 0 & 0 & 0 & 0 & 0.0 \\\\\n",
       "\t5 & Brazil & 0.0 & 87000 & 1900000 & 3600000 & 400000 & 590000 & 0.0 \\\\\n",
       "\t6 & Canada & 0.0 & 15000 & 1400000 & 2500000 & 480000 & 2900000 & 0.0 \\\\\n",
       "\t7 & Chile & 0.0 & 0 & 0 & 300000 & 5700000 & 0 & 0.0 \\\\\n",
       "\t8 & China & 1.0e11 & 850000 & 23800000 & 27000000 & 1600000 & 37000000 & 1.0e15 \\\\\n",
       "\t9 & Colombia & 0.0 & 0 & 200000 & 600000 & 0 & 0 & 0.0 \\\\\n",
       "\t10 & Congo & 0.0 & 0 & 0 & 30000 & 1200000 & 0 & 0.0 \\\\\n",
       "\\end{tabular}\n"
      ],
      "text/plain": [
       "\u001b[1m10×8 DataFrame\u001b[0m\n",
       "\u001b[1m Row \u001b[0m│\u001b[1m Country   \u001b[0m\u001b[1m NMC111 powder \u001b[0m\u001b[1m Graphite \u001b[0m\u001b[1m PP       \u001b[0m\u001b[1m PE       \u001b[0m\u001b[1m Cu      \u001b[0m\u001b[1m Al    \u001b[0m ⋯\n",
       "     │\u001b[90m String31  \u001b[0m\u001b[90m Float64       \u001b[0m\u001b[90m Int64    \u001b[0m\u001b[90m Int64    \u001b[0m\u001b[90m Int64    \u001b[0m\u001b[90m Int64   \u001b[0m\u001b[90m Int64 \u001b[0m ⋯\n",
       "─────┼──────────────────────────────────────────────────────────────────────────\n",
       "   1 │ Argentina         0.0            0    300000         0        0         ⋯\n",
       "   2 │ Australia         0.0          500    500000    600000   920000   16000\n",
       "   3 │ Bahrain           0.0            0         0         0        0   12000\n",
       "   4 │ Bolivia           0.0            0         0         0        0\n",
       "   5 │ Brazil            0.0        87000   1900000   3600000   400000    5900 ⋯\n",
       "   6 │ Canada            0.0        15000   1400000   2500000   480000   29000\n",
       "   7 │ Chile             0.0            0         0    300000  5700000\n",
       "   8 │ China             1.0e11    850000  23800000  27000000  1600000  370000\n",
       "   9 │ Colombia          0.0            0    200000    600000        0         ⋯\n",
       "  10 │ Congo             0.0            0         0     30000  1200000\n",
       "\u001b[36m                                                               2 columns omitted\u001b[0m"
      ]
     },
     "execution_count": 211,
     "metadata": {},
     "output_type": "execute_result"
    }
   ],
   "source": [
    "first(cap_cstr,10)"
   ]
  },
  {
   "cell_type": "code",
   "execution_count": 212,
   "id": "9c3ac379",
   "metadata": {},
   "outputs": [
    {
     "data": {
      "text/html": [
       "<div><div style = \"float: left;\"><span>7×3 DataFrame</span></div><div style = \"clear: both;\"></div></div><div class = \"data-frame\" style = \"overflow-x: scroll;\"><table class = \"data-frame\" style = \"margin-bottom: 6px;\"><thead><tr class = \"header\"><th class = \"rowNumber\" style = \"font-weight: bold; text-align: right;\">Row</th><th style = \"text-align: left;\">process</th><th style = \"text-align: left;\">EF (kg CO2/material)</th><th style = \"text-align: left;\">input (material/kg battery)</th></tr><tr class = \"subheader headerLastRow\"><th class = \"rowNumber\" style = \"font-weight: bold; text-align: right;\"></th><th title = \"String31\" style = \"text-align: left;\">String31</th><th title = \"Float64\" style = \"text-align: left;\">Float64</th><th title = \"Float64\" style = \"text-align: left;\">Float64</th></tr></thead><tbody><tr><td class = \"rowNumber\" style = \"font-weight: bold; text-align: right;\">1</td><td style = \"text-align: left;\">NMC111 powder</td><td style = \"text-align: right;\">14.7</td><td style = \"text-align: right;\">0.252</td></tr><tr><td class = \"rowNumber\" style = \"font-weight: bold; text-align: right;\">2</td><td style = \"text-align: left;\">Graphite</td><td style = \"text-align: right;\">4.86</td><td style = \"text-align: right;\">0.141</td></tr><tr><td class = \"rowNumber\" style = \"font-weight: bold; text-align: right;\">3</td><td style = \"text-align: left;\">PP</td><td style = \"text-align: right;\">2.53</td><td style = \"text-align: right;\">0.011</td></tr><tr><td class = \"rowNumber\" style = \"font-weight: bold; text-align: right;\">4</td><td style = \"text-align: left;\">PE</td><td style = \"text-align: right;\">2.93</td><td style = \"text-align: right;\">0.00364</td></tr><tr><td class = \"rowNumber\" style = \"font-weight: bold; text-align: right;\">5</td><td style = \"text-align: left;\">Cu</td><td style = \"text-align: right;\">3.08</td><td style = \"text-align: right;\">0.117</td></tr><tr><td class = \"rowNumber\" style = \"font-weight: bold; text-align: right;\">6</td><td style = \"text-align: left;\">Al</td><td style = \"text-align: right;\">7.41</td><td style = \"text-align: right;\">0.239</td></tr><tr><td class = \"rowNumber\" style = \"font-weight: bold; text-align: right;\">7</td><td style = \"text-align: left;\">battery production</td><td style = \"text-align: right;\">0.1183</td><td style = \"text-align: right;\">1.0</td></tr></tbody></table></div>"
      ],
      "text/latex": [
       "\\begin{tabular}{r|ccc}\n",
       "\t& process & EF (kg CO2/material) & input (material/kg battery)\\\\\n",
       "\t\\hline\n",
       "\t& String31 & Float64 & Float64\\\\\n",
       "\t\\hline\n",
       "\t1 & NMC111 powder & 14.7 & 0.252 \\\\\n",
       "\t2 & Graphite & 4.86 & 0.141 \\\\\n",
       "\t3 & PP & 2.53 & 0.011 \\\\\n",
       "\t4 & PE & 2.93 & 0.00364 \\\\\n",
       "\t5 & Cu & 3.08 & 0.117 \\\\\n",
       "\t6 & Al & 7.41 & 0.239 \\\\\n",
       "\t7 & battery production & 0.1183 & 1.0 \\\\\n",
       "\\end{tabular}\n"
      ],
      "text/plain": [
       "\u001b[1m7×3 DataFrame\u001b[0m\n",
       "\u001b[1m Row \u001b[0m│\u001b[1m process            \u001b[0m\u001b[1m EF (kg CO2/material) \u001b[0m\u001b[1m input (material/kg battery) \u001b[0m\n",
       "     │\u001b[90m String31           \u001b[0m\u001b[90m Float64              \u001b[0m\u001b[90m Float64                     \u001b[0m\n",
       "─────┼───────────────────────────────────────────────────────────────────────\n",
       "   1 │ NMC111 powder                    14.7                         0.252\n",
       "   2 │ Graphite                          4.86                        0.141\n",
       "   3 │ PP                                2.53                        0.011\n",
       "   4 │ PE                                2.93                        0.00364\n",
       "   5 │ Cu                                3.08                        0.117\n",
       "   6 │ Al                                7.41                        0.239\n",
       "   7 │ battery production                0.1183                      1.0"
      ]
     },
     "execution_count": 212,
     "metadata": {},
     "output_type": "execute_result"
    }
   ],
   "source": [
    "LCA_model"
   ]
  },
  {
   "cell_type": "code",
   "execution_count": 213,
   "id": "eff42f8f",
   "metadata": {},
   "outputs": [],
   "source": [
    "# powder_demand = 7000                        # demand of NMC111 powder\n",
    "battery_demand = 500000\n",
    "gobal_sink = 1.53e9                         # global CO2 sequestration\n",
    "global_emission = 4.75e10                   # global CO2 emission\n",
    "EF_aircraft = 0.000433                     # kg CO2/km*ton emission factor for freight transporation \n",
    "EF_input = LCA_model[!,\"EF (kg CO2/material)\"]\n",
    "process = LCA_model[!,\"process\"]\n",
    "countries = cap_cstr[!,\"Country\"]\n",
    "n = size(countries,1)                       # No. of countries\n",
    "m = size(process,1);                        # No. of processes "
   ]
  },
  {
   "cell_type": "code",
   "execution_count": 228,
   "id": "9abc9283",
   "metadata": {},
   "outputs": [
    {
     "data": {
      "text/plain": [
       "7-element Vector{Float64}:\n",
       " 0.252\n",
       " 0.141\n",
       " 0.011\n",
       " 0.00364\n",
       " 0.117\n",
       " 0.239\n",
       " 1.0"
      ]
     },
     "execution_count": 228,
     "metadata": {},
     "output_type": "execute_result"
    }
   ],
   "source": [
    "# seperate model\n",
    "scaler_battery = LCA_model[1:7,\"input (material/kg battery)\"]     # mineral inputs for 1 kg NMC111 powder"
   ]
  },
  {
   "cell_type": "code",
   "execution_count": 229,
   "id": "28fc98b4",
   "metadata": {},
   "outputs": [
    {
     "data": {
      "text/plain": [
       "7-element Vector{Float64}:\n",
       " 126000.0\n",
       "  70500.0\n",
       "   5500.0\n",
       "   1820.0\n",
       "  58500.0\n",
       " 119500.0\n",
       " 500000.0"
      ]
     },
     "execution_count": 229,
     "metadata": {},
     "output_type": "execute_result"
    }
   ],
   "source": [
    "input_FU = battery_demand .* scaler_battery"
   ]
  },
  {
   "cell_type": "markdown",
   "id": "5e04293b",
   "metadata": {},
   "source": [
    "----"
   ]
  },
  {
   "cell_type": "code",
   "execution_count": 222,
   "id": "04900f2b",
   "metadata": {},
   "outputs": [
    {
     "name": "stdout",
     "output_type": "stream",
     "text": [
      "Academic license - for non-commercial use only - expires 2023-11-27\r\n"
     ]
    }
   ],
   "source": [
    "model = Model(Gurobi.Optimizer);"
   ]
  },
  {
   "cell_type": "code",
   "execution_count": 223,
   "id": "ba522361",
   "metadata": {},
   "outputs": [],
   "source": [
    "#variables \n",
    "@variable(model, x[1:n, 1:m] >= 0)         # x[i,k] production amount of product k at location i\n",
    "@variable(model, y[1:n, 1:n, 1:m] >= 0);   # y[i,j,k] ship product k from i to j "
   ]
  },
  {
   "cell_type": "code",
   "execution_count": 224,
   "id": "25ee5bfa",
   "metadata": {},
   "outputs": [],
   "source": [
    "# node output flow constraint\n",
    "for k in 1:m\n",
    "    for i in 1:n\n",
    "        @constraint(model, sum(y[i,j,k] for j in 1:n) <= x[i,k])\n",
    "    end\n",
    "end"
   ]
  },
  {
   "cell_type": "code",
   "execution_count": 225,
   "id": "d1063079",
   "metadata": {},
   "outputs": [],
   "source": [
    "# NMC111 powder input flow constraint\n",
    "for k in 1:4\n",
    "    for j in 1:n\n",
    "        @constraint(model, sum(y[i,j,k] for i in 1:n) >= x[j,5] * scaler_battery[k])\n",
    "#         @constraint(model, sum(y[i,j,k] for i in 1:n) >= input_FU[k])\n",
    "    end\n",
    "end"
   ]
  },
  {
   "cell_type": "code",
   "execution_count": 226,
   "id": "64fa182a",
   "metadata": {},
   "outputs": [],
   "source": [
    "# production capacity constraints\n",
    "for i in 1:n\n",
    "    for k in 1:m\n",
    "        @constraint(model, x[i,k] <= cap_cstr[!, 2:end][i,k])\n",
    "    end\n",
    "end"
   ]
  },
  {
   "cell_type": "code",
   "execution_count": 230,
   "id": "ad407055",
   "metadata": {},
   "outputs": [
    {
     "data": {
      "text/plain": [
       "7-element Vector{Float64}:\n",
       " 126000.0\n",
       "  70500.0\n",
       "   5500.0\n",
       "   1820.0\n",
       "  58500.0\n",
       " 119500.0\n",
       " 500000.0"
      ]
     },
     "execution_count": 230,
     "metadata": {},
     "output_type": "execute_result"
    }
   ],
   "source": [
    "input_FU"
   ]
  },
  {
   "cell_type": "code",
   "execution_count": 231,
   "id": "354399ae",
   "metadata": {},
   "outputs": [
    {
     "data": {
      "text/latex": [
       "$$ x_{1,7} + x_{2,7} + x_{3,7} + x_{4,7} + x_{5,7} + x_{6,7} + x_{7,7} + x_{8,7} + x_{9,7} + x_{10,7} + x_{11,7} + x_{12,7} + x_{13,7} + x_{14,7} + x_{15,7} + x_{16,7} + x_{17,7} + x_{18,7} + x_{19,7} + x_{20,7} + x_{21,7} + x_{22,7} + x_{23,7} + x_{24,7} + x_{25,7} + x_{26,7} + x_{27,7} + x_{28,7} + x_{29,7} + x_{30,7} + x_{31,7} + x_{32,7} + x_{33,7} + x_{34,7} + x_{35,7} + x_{36,7} + x_{37,7} + x_{38,7} + x_{39,7} + x_{40,7} = 500000.0 $$"
      ],
      "text/plain": [
       "x[1,7] + x[2,7] + x[3,7] + x[4,7] + x[5,7] + x[6,7] + x[7,7] + x[8,7] + x[9,7] + x[10,7] + x[11,7] + x[12,7] + x[13,7] + x[14,7] + x[15,7] + x[16,7] + x[17,7] + x[18,7] + x[19,7] + x[20,7] + x[21,7] + x[22,7] + x[23,7] + x[24,7] + x[25,7] + x[26,7] + x[27,7] + x[28,7] + x[29,7] + x[30,7] + x[31,7] + x[32,7] + x[33,7] + x[34,7] + x[35,7] + x[36,7] + x[37,7] + x[38,7] + x[39,7] + x[40,7] == 500000.0"
      ]
     },
     "execution_count": 231,
     "metadata": {},
     "output_type": "execute_result"
    }
   ],
   "source": [
    "# final demand constraints\n",
    "for k in 1:6\n",
    "    @constraint(model, sum(x[i,k] for i in 1:n) == input_FU[k])\n",
    "end\n",
    "\n",
    "@constraint(model, sum(x[i,7] for i in 1:n) == battery_demand)"
   ]
  },
  {
   "cell_type": "code",
   "execution_count": 234,
   "id": "eb53474c",
   "metadata": {},
   "outputs": [],
   "source": [
    "vec_flow = []\n",
    "\n",
    "for k in 1:m\n",
    "    flow = sum(x[i, k] for i in 1:n)\n",
    "    push!(vec_flow, flow)\n",
    "end\n",
    "\n",
    "D_proc = EF_input' * vec_flow;"
   ]
  },
  {
   "cell_type": "code",
   "execution_count": 235,
   "id": "3bb8be98",
   "metadata": {},
   "outputs": [
    {
     "name": "stderr",
     "output_type": "stream",
     "text": [
      "┌ Warning: The addition operator has been used on JuMP expressions a large number of times. This warning is safe to ignore but may indicate that model generation is slower than necessary. For performance reasons, you should not add expressions in a loop. Instead of x += y, use add_to_expression!(x,y) to modify x in place. If y is a single variable, you may also use add_to_expression!(x, coef, y) for x += coef*y.\n",
      "└ @ JuMP C:\\Users\\bourg\\.julia\\packages\\JuMP\\klrjG\\src\\JuMP.jl:1352\n"
     ]
    }
   ],
   "source": [
    "trans_emi = 0\n",
    "\n",
    "for k in 1:m\n",
    "    for i in 1:n\n",
    "        for j in 1:n\n",
    "            trans_emi += y[i,j,k] * distance[!, 2:end][i,j] * EF_aircraft\n",
    "        end\n",
    "    end\n",
    "end\n",
    "\n",
    "# output = sum(x[i,5] for i in 1:n)\n",
    "D_trans = trans_emi + sum(x[i,7] * distance[!, 2:end][i,38] for i in 1:n);"
   ]
  },
  {
   "cell_type": "code",
   "execution_count": 185,
   "id": "1c122432",
   "metadata": {},
   "outputs": [],
   "source": [
    "# SD[!, \"sink ton/yr\"]"
   ]
  },
  {
   "cell_type": "code",
   "execution_count": 186,
   "id": "929f7f90",
   "metadata": {},
   "outputs": [],
   "source": [
    "# EF_input"
   ]
  },
  {
   "cell_type": "code",
   "execution_count": 236,
   "id": "8c9ab186",
   "metadata": {},
   "outputs": [],
   "source": [
    "# supply - based on emission\n",
    "emi = x * EF_input\n",
    "S_country = SD[!, \"sink ton/yr\"] .* emi ./ SD[!, \"emission\"]\n",
    "S_global = gobal_sink/global_emission * emi\n",
    "S = S_country + S_global\n",
    "S_tot = sum(S);"
   ]
  },
  {
   "cell_type": "code",
   "execution_count": 237,
   "id": "e83fbe5a",
   "metadata": {},
   "outputs": [],
   "source": [
    "@objective(model, Min, D_proc + D_trans);"
   ]
  },
  {
   "cell_type": "code",
   "execution_count": 238,
   "id": "c343e55d",
   "metadata": {},
   "outputs": [
    {
     "name": "stdout",
     "output_type": "stream",
     "text": [
      "Gurobi Optimizer version 9.1.2 build v9.1.2rc0 (win64)\r\n",
      "Thread count: 6 physical cores, 12 logical processors, using up to 12 threads\r\n",
      "Optimize a model with 727 rows, 11480 columns and 18600 nonzeros\r\n",
      "Model fingerprint: 0xe1e2e9a5\r\n",
      "Coefficient statistics:\r\n",
      "  Matrix range     [4e-03, 1e+00]\r\n",
      "  Objective range  [1e-01, 2e+04]\r\n",
      "  Bounds range     [0e+00, 0e+00]\r\n",
      "  RHS range        [3e+02, 1e+15]\r\n",
      "Warning: Model contains large rhs\r\n",
      "         Consider reformulating model or setting NumericFocus parameter\r\n",
      "         to avoid numerical issues.\r\n",
      "Presolve removed 627 rows and 10813 columns\r\n",
      "Presolve time: 0.01s\r\n",
      "Presolved: 100 rows, 667 columns, 1373 nonzeros\r\n",
      "\r\n",
      "Iteration    Objective       Primal Inf.    Dual Inf.      Time\r\n",
      "       0    3.3389026e+06   3.698087e+04   0.000000e+00      0s\r\n",
      "      22    3.3389026e+06   0.000000e+00   0.000000e+00      0s\r\n",
      "\r\n",
      "Solved in 22 iterations and 0.01 seconds\r\n",
      "Optimal objective  3.338902600e+06\r\n",
      "\r\n",
      "User-callback calls 65, time in user-callback 0.00 sec\r\n"
     ]
    }
   ],
   "source": [
    "JuMP.optimize!(model)"
   ]
  },
  {
   "cell_type": "code",
   "execution_count": 240,
   "id": "c2a472f5",
   "metadata": {},
   "outputs": [],
   "source": [
    "optY = JuMP.value.(y);"
   ]
  },
  {
   "cell_type": "code",
   "execution_count": 241,
   "id": "6cbff3fc",
   "metadata": {},
   "outputs": [
    {
     "data": {
      "text/plain": [
       "40×7 Matrix{Float64}:\n",
       "      0.0      0.0     0.0     0.0       0.0       0.0       0.0\n",
       "      0.0    500.0     0.0     0.0       0.0       0.0       0.0\n",
       "      0.0      0.0     0.0     0.0       0.0       0.0       0.0\n",
       "      0.0      0.0     0.0     0.0       0.0       0.0       0.0\n",
       "      0.0  29851.5  4856.5     0.0       0.0       0.0       0.0\n",
       "      0.0  15000.0     0.0     0.0       0.0       0.0       0.0\n",
       "      0.0      0.0     0.0     0.0       0.0       0.0       0.0\n",
       " 126000.0   8248.5   643.5   212.94  58500.0       0.0       0.0\n",
       "      0.0      0.0     0.0  1607.06      0.0       0.0       0.0\n",
       "      0.0      0.0     0.0     0.0       0.0       0.0       0.0\n",
       "      0.0      0.0     0.0     0.0       0.0       0.0       0.0\n",
       "      0.0      0.0     0.0     0.0       0.0       0.0       0.0\n",
       "      0.0      0.0     0.0     0.0       0.0       0.0       0.0\n",
       "      ⋮                                            ⋮    \n",
       "      0.0      0.0     0.0     0.0       0.0       0.0       0.0\n",
       "      0.0      0.0     0.0     0.0       0.0       0.0       0.0\n",
       "      0.0  15000.0     0.0     0.0       0.0       0.0       0.0\n",
       "      0.0      0.0     0.0     0.0       0.0       0.0       0.0\n",
       "      0.0      0.0     0.0     0.0       0.0       0.0       0.0\n",
       "      0.0      0.0     0.0     0.0       0.0       0.0       0.0\n",
       "      0.0      0.0     0.0     0.0       0.0       0.0       0.0\n",
       "      0.0      0.0     0.0     0.0       0.0       0.0       0.0\n",
       "      0.0      0.0     0.0     0.0       0.0       0.0       0.0\n",
       "      0.0      0.0     0.0     0.0       0.0  119500.0  500000.0\n",
       "      0.0      0.0     0.0     0.0       0.0       0.0       0.0\n",
       "      0.0      0.0     0.0     0.0       0.0       0.0       0.0"
      ]
     },
     "execution_count": 241,
     "metadata": {},
     "output_type": "execute_result"
    }
   ],
   "source": [
    "optX = JuMP.value.(x)"
   ]
  },
  {
   "cell_type": "code",
   "execution_count": 23,
   "id": "d1f401a9",
   "metadata": {},
   "outputs": [
    {
     "data": {
      "text/plain": [
       "4-element Vector{Float64}:\n",
       "  503.99999999999994\n",
       " 1421.0\n",
       " 1330.0\n",
       " 1421.0"
      ]
     },
     "execution_count": 23,
     "metadata": {},
     "output_type": "execute_result"
    }
   ],
   "source": [
    "input_FU"
   ]
  },
  {
   "cell_type": "code",
   "execution_count": 191,
   "id": "86acfddc",
   "metadata": {},
   "outputs": [
    {
     "data": {
      "text/plain": [
       "10×10 Matrix{Float64}:\n",
       " 0.0  0.0  0.0  0.0  0.0  0.0  0.0    0.0  0.0  0.0\n",
       " 0.0  0.0  0.0  0.0  0.0  0.0  0.0    0.0  0.0  0.0\n",
       " 0.0  0.0  0.0  0.0  0.0  0.0  0.0    0.0  0.0  0.0\n",
       " 0.0  0.0  0.0  0.0  0.0  0.0  0.0    0.0  0.0  0.0\n",
       " 0.0  0.0  0.0  0.0  0.0  0.0  0.0    0.0  0.0  0.0\n",
       " 0.0  0.0  0.0  0.0  0.0  0.0  0.0    0.0  0.0  0.0\n",
       " 0.0  0.0  0.0  0.0  0.0  0.0  0.0    0.0  0.0  0.0\n",
       " 0.0  0.0  0.0  0.0  0.0  0.0  0.0  504.0  0.0  0.0\n",
       " 0.0  0.0  0.0  0.0  0.0  0.0  0.0    0.0  0.0  0.0\n",
       " 0.0  0.0  0.0  0.0  0.0  0.0  0.0    0.0  0.0  0.0"
      ]
     },
     "execution_count": 191,
     "metadata": {},
     "output_type": "execute_result"
    }
   ],
   "source": [
    "JuMP.value.(y[1:10,1:10,1])"
   ]
  },
  {
   "cell_type": "code",
   "execution_count": 25,
   "id": "d1a2267a",
   "metadata": {},
   "outputs": [
    {
     "data": {
      "text/plain": [
       "10×10 Matrix{Float64}:\n",
       " 0.0  0.0  0.0  0.0  0.0  0.0  0.0    0.0  0.0  0.0\n",
       " 0.0  0.0  0.0  0.0  0.0  0.0  0.0    0.0  0.0  0.0\n",
       " 0.0  0.0  0.0  0.0  0.0  0.0  0.0    0.0  0.0  0.0\n",
       " 0.0  0.0  0.0  0.0  0.0  0.0  0.0  931.0  0.0  0.0\n",
       " 0.0  0.0  0.0  0.0  0.0  0.0  0.0    0.0  0.0  0.0\n",
       " 0.0  0.0  0.0  0.0  0.0  0.0  0.0    0.0  0.0  0.0\n",
       " 0.0  0.0  0.0  0.0  0.0  0.0  0.0    0.0  0.0  0.0\n",
       " 0.0  0.0  0.0  0.0  0.0  0.0  0.0  490.0  0.0  0.0\n",
       " 0.0  0.0  0.0  0.0  0.0  0.0  0.0    0.0  0.0  0.0\n",
       " 0.0  0.0  0.0  0.0  0.0  0.0  0.0    0.0  0.0  0.0"
      ]
     },
     "execution_count": 25,
     "metadata": {},
     "output_type": "execute_result"
    }
   ],
   "source": [
    "JuMP.value.(y[1:10,1:10,2])"
   ]
  },
  {
   "cell_type": "code",
   "execution_count": 26,
   "id": "fe41a63d",
   "metadata": {},
   "outputs": [
    {
     "data": {
      "text/plain": [
       "10×10 Matrix{Float64}:\n",
       " 0.0  0.0  0.0  0.0  0.0  0.0  0.0     0.0  0.0  0.0\n",
       " 0.0  0.0  0.0  0.0  0.0  0.0  0.0     0.0  0.0  0.0\n",
       " 0.0  0.0  0.0  0.0  0.0  0.0  0.0  1330.0  0.0  0.0\n",
       " 0.0  0.0  0.0  0.0  0.0  0.0  0.0     0.0  0.0  0.0\n",
       " 0.0  0.0  0.0  0.0  0.0  0.0  0.0     0.0  0.0  0.0\n",
       " 0.0  0.0  0.0  0.0  0.0  0.0  0.0     0.0  0.0  0.0\n",
       " 0.0  0.0  0.0  0.0  0.0  0.0  0.0     0.0  0.0  0.0\n",
       " 0.0  0.0  0.0  0.0  0.0  0.0  0.0     0.0  0.0  0.0\n",
       " 0.0  0.0  0.0  0.0  0.0  0.0  0.0     0.0  0.0  0.0\n",
       " 0.0  0.0  0.0  0.0  0.0  0.0  0.0     0.0  0.0  0.0"
      ]
     },
     "execution_count": 26,
     "metadata": {},
     "output_type": "execute_result"
    }
   ],
   "source": [
    "JuMP.value.(y[1:10,1:10,3])"
   ]
  },
  {
   "cell_type": "code",
   "execution_count": 27,
   "id": "c6722747",
   "metadata": {},
   "outputs": [
    {
     "data": {
      "text/plain": [
       "10×10 Matrix{Float64}:\n",
       " 0.0  0.0  0.0  0.0  0.0  0.0  0.0     0.0  0.0  0.0\n",
       " 0.0  0.0  0.0  0.0  0.0  0.0  0.0     0.0  0.0  0.0\n",
       " 0.0  0.0  0.0  0.0  0.0  0.0  0.0     0.0  0.0  0.0\n",
       " 0.0  0.0  0.0  0.0  0.0  0.0  0.0  1421.0  0.0  0.0\n",
       " 0.0  0.0  0.0  0.0  0.0  0.0  0.0     0.0  0.0  0.0\n",
       " 0.0  0.0  0.0  0.0  0.0  0.0  0.0     0.0  0.0  0.0\n",
       " 0.0  0.0  0.0  0.0  0.0  0.0  0.0     0.0  0.0  0.0\n",
       " 0.0  0.0  0.0  0.0  0.0  0.0  0.0     0.0  0.0  0.0\n",
       " 0.0  0.0  0.0  0.0  0.0  0.0  0.0     0.0  0.0  0.0\n",
       " 0.0  0.0  0.0  0.0  0.0  0.0  0.0     0.0  0.0  0.0"
      ]
     },
     "execution_count": 27,
     "metadata": {},
     "output_type": "execute_result"
    }
   ],
   "source": [
    "JuMP.value.(y[1:10,1:10,4])"
   ]
  },
  {
   "cell_type": "code",
   "execution_count": 28,
   "id": "38d969f5",
   "metadata": {},
   "outputs": [
    {
     "data": {
      "text/plain": [
       "10×10 Matrix{Float64}:\n",
       " 0.0  0.0  0.0  0.0  0.0  0.0  0.0  0.0  0.0  0.0\n",
       " 0.0  0.0  0.0  0.0  0.0  0.0  0.0  0.0  0.0  0.0\n",
       " 0.0  0.0  0.0  0.0  0.0  0.0  0.0  0.0  0.0  0.0\n",
       " 0.0  0.0  0.0  0.0  0.0  0.0  0.0  0.0  0.0  0.0\n",
       " 0.0  0.0  0.0  0.0  0.0  0.0  0.0  0.0  0.0  0.0\n",
       " 0.0  0.0  0.0  0.0  0.0  0.0  0.0  0.0  0.0  0.0\n",
       " 0.0  0.0  0.0  0.0  0.0  0.0  0.0  0.0  0.0  0.0\n",
       " 0.0  0.0  0.0  0.0  0.0  0.0  0.0  0.0  0.0  0.0\n",
       " 0.0  0.0  0.0  0.0  0.0  0.0  0.0  0.0  0.0  0.0\n",
       " 0.0  0.0  0.0  0.0  0.0  0.0  0.0  0.0  0.0  0.0"
      ]
     },
     "execution_count": 28,
     "metadata": {},
     "output_type": "execute_result"
    }
   ],
   "source": [
    "JuMP.value.(y[1:10,1:10,5])"
   ]
  },
  {
   "cell_type": "code",
   "execution_count": 29,
   "id": "2859095d",
   "metadata": {},
   "outputs": [
    {
     "data": {
      "text/html": [
       "<div><div style = \"float: left;\"><span>10×11 DataFrame</span></div><div style = \"clear: both;\"></div></div><div class = \"data-frame\" style = \"overflow-x: scroll;\"><table class = \"data-frame\" style = \"margin-bottom: 6px;\"><thead><tr class = \"header\"><th class = \"rowNumber\" style = \"font-weight: bold; text-align: right;\">Row</th><th style = \"text-align: left;\">Column1</th><th style = \"text-align: left;\">Argentina</th><th style = \"text-align: left;\">Australia</th><th style = \"text-align: left;\">Brazil</th><th style = \"text-align: left;\">Canada</th><th style = \"text-align: left;\">Chile</th><th style = \"text-align: left;\">China</th><th style = \"text-align: left;\">Russia</th><th style = \"text-align: left;\">United States</th><th style = \"text-align: left;\">Zambia</th><th style = \"text-align: left;\">Zimbabwe</th></tr><tr class = \"subheader headerLastRow\"><th class = \"rowNumber\" style = \"font-weight: bold; text-align: right;\"></th><th title = \"String15\" style = \"text-align: left;\">String15</th><th title = \"Float64\" style = \"text-align: left;\">Float64</th><th title = \"Float64\" style = \"text-align: left;\">Float64</th><th title = \"Float64\" style = \"text-align: left;\">Float64</th><th title = \"Float64\" style = \"text-align: left;\">Float64</th><th title = \"Float64\" style = \"text-align: left;\">Float64</th><th title = \"Float64\" style = \"text-align: left;\">Float64</th><th title = \"Float64\" style = \"text-align: left;\">Float64</th><th title = \"Float64\" style = \"text-align: left;\">Float64</th><th title = \"Float64\" style = \"text-align: left;\">Float64</th><th title = \"Float64\" style = \"text-align: left;\">Float64</th></tr></thead><tbody><tr><td class = \"rowNumber\" style = \"font-weight: bold; text-align: right;\">1</td><td style = \"text-align: left;\">Argentina</td><td style = \"text-align: right;\">0.0</td><td style = \"text-align: right;\">12704.8</td><td style = \"text-align: right;\">2924.25</td><td style = \"text-align: right;\">11259.1</td><td style = \"text-align: right;\">766.299</td><td style = \"text-align: right;\">18899.0</td><td style = \"text-align: right;\">17335.1</td><td style = \"text-align: right;\">9017.69</td><td style = \"text-align: right;\">9230.47</td><td style = \"text-align: right;\">8940.93</td></tr><tr><td class = \"rowNumber\" style = \"font-weight: bold; text-align: right;\">2</td><td style = \"text-align: left;\">Australia</td><td style = \"text-align: right;\">12704.8</td><td style = \"text-align: right;\">0.0</td><td style = \"text-align: right;\">15578.6</td><td style = \"text-align: right;\">14151.6</td><td style = \"text-align: right;\">12734.1</td><td style = \"text-align: right;\">7474.36</td><td style = \"text-align: right;\">9983.62</td><td style = \"text-align: right;\">15184.5</td><td style = \"text-align: right;\">10932.2</td><td style = \"text-align: right;\">10496.6</td></tr><tr><td class = \"rowNumber\" style = \"font-weight: bold; text-align: right;\">3</td><td style = \"text-align: left;\">Brazil</td><td style = \"text-align: right;\">2924.25</td><td style = \"text-align: right;\">15578.6</td><td style = \"text-align: right;\">0.0</td><td style = \"text-align: right;\">9304.54</td><td style = \"text-align: right;\">3084.2</td><td style = \"text-align: right;\">16632.9</td><td style = \"text-align: right;\">14451.5</td><td style = \"text-align: right;\">7316.93</td><td style = \"text-align: right;\">8571.87</td><td style = \"text-align: right;\">8579.94</td></tr><tr><td class = \"rowNumber\" style = \"font-weight: bold; text-align: right;\">4</td><td style = \"text-align: left;\">Canada</td><td style = \"text-align: right;\">11259.1</td><td style = \"text-align: right;\">14151.6</td><td style = \"text-align: right;\">9304.54</td><td style = \"text-align: right;\">0.0</td><td style = \"text-align: right;\">10725.8</td><td style = \"text-align: right;\">9385.87</td><td style = \"text-align: right;\">6644.49</td><td style = \"text-align: right;\">2261.54</td><td style = \"text-align: right;\">13848.5</td><td style = \"text-align: right;\">14485.1</td></tr><tr><td class = \"rowNumber\" style = \"font-weight: bold; text-align: right;\">5</td><td style = \"text-align: left;\">Chile</td><td style = \"text-align: right;\">766.299</td><td style = \"text-align: right;\">12734.1</td><td style = \"text-align: right;\">3084.2</td><td style = \"text-align: right;\">10725.8</td><td style = \"text-align: right;\">0.0</td><td style = \"text-align: right;\">19630.1</td><td style = \"text-align: right;\">17132.4</td><td style = \"text-align: right;\">8466.86</td><td style = \"text-align: right;\">9985.79</td><td style = \"text-align: right;\">9705.13</td></tr><tr><td class = \"rowNumber\" style = \"font-weight: bold; text-align: right;\">6</td><td style = \"text-align: left;\">China</td><td style = \"text-align: right;\">18899.0</td><td style = \"text-align: right;\">7474.36</td><td style = \"text-align: right;\">16632.9</td><td style = \"text-align: right;\">9385.87</td><td style = \"text-align: right;\">19630.1</td><td style = \"text-align: right;\">0.0</td><td style = \"text-align: right;\">2854.62</td><td style = \"text-align: right;\">11647.3</td><td style = \"text-align: right;\">9668.54</td><td style = \"text-align: right;\">9963.54</td></tr><tr><td class = \"rowNumber\" style = \"font-weight: bold; text-align: right;\">7</td><td style = \"text-align: left;\">Russia</td><td style = \"text-align: right;\">17335.1</td><td style = \"text-align: right;\">9983.62</td><td style = \"text-align: right;\">14451.5</td><td style = \"text-align: right;\">6644.49</td><td style = \"text-align: right;\">17132.4</td><td style = \"text-align: right;\">2854.62</td><td style = \"text-align: right;\">0.0</td><td style = \"text-align: right;\">8886.1</td><td style = \"text-align: right;\">10639.3</td><td style = \"text-align: right;\">11151.6</td></tr><tr><td class = \"rowNumber\" style = \"font-weight: bold; text-align: right;\">8</td><td style = \"text-align: left;\">United States</td><td style = \"text-align: right;\">9017.69</td><td style = \"text-align: right;\">15184.5</td><td style = \"text-align: right;\">7316.93</td><td style = \"text-align: right;\">2261.54</td><td style = \"text-align: right;\">8466.86</td><td style = \"text-align: right;\">11647.3</td><td style = \"text-align: right;\">8886.1</td><td style = \"text-align: right;\">0.0</td><td style = \"text-align: right;\">13844.5</td><td style = \"text-align: right;\">14330.4</td></tr><tr><td class = \"rowNumber\" style = \"font-weight: bold; text-align: right;\">9</td><td style = \"text-align: left;\">Zambia</td><td style = \"text-align: right;\">9230.47</td><td style = \"text-align: right;\">10932.2</td><td style = \"text-align: right;\">8571.87</td><td style = \"text-align: right;\">13848.5</td><td style = \"text-align: right;\">9985.79</td><td style = \"text-align: right;\">9668.54</td><td style = \"text-align: right;\">10639.3</td><td style = \"text-align: right;\">13844.5</td><td style = \"text-align: right;\">0.0</td><td style = \"text-align: right;\">668.693</td></tr><tr><td class = \"rowNumber\" style = \"font-weight: bold; text-align: right;\">10</td><td style = \"text-align: left;\">Zimbabwe</td><td style = \"text-align: right;\">8940.93</td><td style = \"text-align: right;\">10496.6</td><td style = \"text-align: right;\">8579.94</td><td style = \"text-align: right;\">14485.1</td><td style = \"text-align: right;\">9705.13</td><td style = \"text-align: right;\">9963.54</td><td style = \"text-align: right;\">11151.6</td><td style = \"text-align: right;\">14330.4</td><td style = \"text-align: right;\">668.693</td><td style = \"text-align: right;\">0.0</td></tr></tbody></table></div>"
      ],
      "text/latex": [
       "\\begin{tabular}{r|ccccccccc}\n",
       "\t& Column1 & Argentina & Australia & Brazil & Canada & Chile & China & Russia & \\\\\n",
       "\t\\hline\n",
       "\t& String15 & Float64 & Float64 & Float64 & Float64 & Float64 & Float64 & Float64 & \\\\\n",
       "\t\\hline\n",
       "\t1 & Argentina & 0.0 & 12704.8 & 2924.25 & 11259.1 & 766.299 & 18899.0 & 17335.1 & $\\dots$ \\\\\n",
       "\t2 & Australia & 12704.8 & 0.0 & 15578.6 & 14151.6 & 12734.1 & 7474.36 & 9983.62 & $\\dots$ \\\\\n",
       "\t3 & Brazil & 2924.25 & 15578.6 & 0.0 & 9304.54 & 3084.2 & 16632.9 & 14451.5 & $\\dots$ \\\\\n",
       "\t4 & Canada & 11259.1 & 14151.6 & 9304.54 & 0.0 & 10725.8 & 9385.87 & 6644.49 & $\\dots$ \\\\\n",
       "\t5 & Chile & 766.299 & 12734.1 & 3084.2 & 10725.8 & 0.0 & 19630.1 & 17132.4 & $\\dots$ \\\\\n",
       "\t6 & China & 18899.0 & 7474.36 & 16632.9 & 9385.87 & 19630.1 & 0.0 & 2854.62 & $\\dots$ \\\\\n",
       "\t7 & Russia & 17335.1 & 9983.62 & 14451.5 & 6644.49 & 17132.4 & 2854.62 & 0.0 & $\\dots$ \\\\\n",
       "\t8 & United States & 9017.69 & 15184.5 & 7316.93 & 2261.54 & 8466.86 & 11647.3 & 8886.1 & $\\dots$ \\\\\n",
       "\t9 & Zambia & 9230.47 & 10932.2 & 8571.87 & 13848.5 & 9985.79 & 9668.54 & 10639.3 & $\\dots$ \\\\\n",
       "\t10 & Zimbabwe & 8940.93 & 10496.6 & 8579.94 & 14485.1 & 9705.13 & 9963.54 & 11151.6 & $\\dots$ \\\\\n",
       "\\end{tabular}\n"
      ],
      "text/plain": [
       "\u001b[1m10×11 DataFrame\u001b[0m\n",
       "\u001b[1m Row \u001b[0m│\u001b[1m Column1       \u001b[0m\u001b[1m Argentina \u001b[0m\u001b[1m Australia \u001b[0m\u001b[1m Brazil   \u001b[0m\u001b[1m Canada   \u001b[0m\u001b[1m Chile     \u001b[0m\u001b[1m Chi\u001b[0m ⋯\n",
       "     │\u001b[90m String15      \u001b[0m\u001b[90m Float64   \u001b[0m\u001b[90m Float64   \u001b[0m\u001b[90m Float64  \u001b[0m\u001b[90m Float64  \u001b[0m\u001b[90m Float64   \u001b[0m\u001b[90m Flo\u001b[0m ⋯\n",
       "─────┼──────────────────────────────────────────────────────────────────────────\n",
       "   1 │ Argentina          0.0     12704.8    2924.25  11259.1     766.299  188 ⋯\n",
       "   2 │ Australia      12704.8         0.0   15578.6   14151.6   12734.1     74\n",
       "   3 │ Brazil          2924.25    15578.6       0.0    9304.54   3084.2    166\n",
       "   4 │ Canada         11259.1     14151.6    9304.54      0.0   10725.8     93\n",
       "   5 │ Chile            766.299   12734.1    3084.2   10725.8       0.0    196 ⋯\n",
       "   6 │ China          18899.0      7474.36  16632.9    9385.87  19630.1\n",
       "   7 │ Russia         17335.1      9983.62  14451.5    6644.49  17132.4     28\n",
       "   8 │ United States   9017.69    15184.5    7316.93   2261.54   8466.86   116\n",
       "   9 │ Zambia          9230.47    10932.2    8571.87  13848.5    9985.79    96 ⋯\n",
       "  10 │ Zimbabwe        8940.93    10496.6    8579.94  14485.1    9705.13    99\n",
       "\u001b[36m                                                               5 columns omitted\u001b[0m"
      ]
     },
     "execution_count": 29,
     "metadata": {},
     "output_type": "execute_result"
    }
   ],
   "source": [
    "distance"
   ]
  },
  {
   "cell_type": "markdown",
   "id": "ac460f46",
   "metadata": {},
   "source": [
    "### TEST"
   ]
  },
  {
   "cell_type": "code",
   "execution_count": 100,
   "id": "c7a302fe",
   "metadata": {},
   "outputs": [],
   "source": [
    "# vec_flow = []\n",
    "\n",
    "# for k in 1:5\n",
    "#     flow = sum(optX[i, k] for i in 1:10)\n",
    "#     push!(vec_flow, flow)\n",
    "# end\n",
    "\n",
    "# D_proc = EF_input' * vec_flow"
   ]
  },
  {
   "cell_type": "code",
   "execution_count": 56,
   "id": "8e48e59b",
   "metadata": {},
   "outputs": [
    {
     "data": {
      "text/plain": [
       "proc_emi (generic function with 1 method)"
      ]
     },
     "execution_count": 56,
     "metadata": {},
     "output_type": "execute_result"
    }
   ],
   "source": [
    "function proc_emi(x, n, m, EF_input)\n",
    "    vec_flow = []\n",
    "    for k in 1:m\n",
    "        flow = sum(x[i,k] for i in 1:n)\n",
    "        push!(vec_flow, flow)\n",
    "    end\n",
    "    return EF_input' * vec_flow\n",
    "end"
   ]
  },
  {
   "cell_type": "code",
   "execution_count": 61,
   "id": "f62e9ff9",
   "metadata": {},
   "outputs": [
    {
     "data": {
      "text/plain": [
       "transp_emi (generic function with 1 method)"
      ]
     },
     "execution_count": 61,
     "metadata": {},
     "output_type": "execute_result"
    }
   ],
   "source": [
    "function transp_emi(y,n,m)\n",
    "    ls = []\n",
    "    for k in 1:m\n",
    "        for i in 1:n\n",
    "            for j in 1:n\n",
    "                emission = y[i,j,k] * distance[!, 2:end][i,j] * EF_aircraft\n",
    "                if emission > 0\n",
    "                    push!(ls, emission)\n",
    "                end\n",
    "            end\n",
    "        end\n",
    "    end\n",
    "    return sum(ls)\n",
    "end"
   ]
  },
  {
   "cell_type": "code",
   "execution_count": 93,
   "id": "b9652a4e",
   "metadata": {},
   "outputs": [
    {
     "data": {
      "text/plain": [
       "carbon_supply (generic function with 1 method)"
      ]
     },
     "execution_count": 93,
     "metadata": {},
     "output_type": "execute_result"
    }
   ],
   "source": [
    "function carbon_supply(x,EF_input,SD,gobal_sink,global_emission)\n",
    "    emi = x * EF_input\n",
    "    S_country = SD[!, \"sink ton/yr\"] .* emi ./ SD[!, \"emission\"]\n",
    "    S_global = gobal_sink/global_emission * emi\n",
    "    S = S_country + S_global\n",
    "    return sum(S)\n",
    "end"
   ]
  },
  {
   "cell_type": "code",
   "execution_count": 104,
   "id": "78e7a4db",
   "metadata": {},
   "outputs": [],
   "source": [
    "feaY = copy(optY)\n",
    "# typeof(feaY)\n",
    "feaY[4,8,2] = 0\n",
    "feaY[2,8,2] += 931;"
   ]
  },
  {
   "cell_type": "code",
   "execution_count": 106,
   "id": "27700526",
   "metadata": {},
   "outputs": [
    {
     "data": {
      "text/plain": [
       "10×10 Matrix{Float64}:\n",
       " 0.0  0.0  0.0  0.0  0.0  0.0  0.0    0.0  0.0  0.0\n",
       " 0.0  0.0  0.0  0.0  0.0  0.0  0.0  931.0  0.0  0.0\n",
       " 0.0  0.0  0.0  0.0  0.0  0.0  0.0    0.0  0.0  0.0\n",
       " 0.0  0.0  0.0  0.0  0.0  0.0  0.0    0.0  0.0  0.0\n",
       " 0.0  0.0  0.0  0.0  0.0  0.0  0.0    0.0  0.0  0.0\n",
       " 0.0  0.0  0.0  0.0  0.0  0.0  0.0    0.0  0.0  0.0\n",
       " 0.0  0.0  0.0  0.0  0.0  0.0  0.0    0.0  0.0  0.0\n",
       " 0.0  0.0  0.0  0.0  0.0  0.0  0.0  490.0  0.0  0.0\n",
       " 0.0  0.0  0.0  0.0  0.0  0.0  0.0    0.0  0.0  0.0\n",
       " 0.0  0.0  0.0  0.0  0.0  0.0  0.0    0.0  0.0  0.0"
      ]
     },
     "execution_count": 106,
     "metadata": {},
     "output_type": "execute_result"
    }
   ],
   "source": [
    "feaY[1:10,1:10,2]"
   ]
  },
  {
   "cell_type": "code",
   "execution_count": 110,
   "id": "33288e80",
   "metadata": {},
   "outputs": [
    {
     "data": {
      "text/plain": [
       "10×5 Matrix{Float64}:\n",
       "   0.0    0.0     0.0     0.0     0.0\n",
       "   0.0  931.0     0.0     0.0     0.0\n",
       "   0.0    0.0  1330.0     0.0     0.0\n",
       "   0.0    0.0     0.0  1421.0     0.0\n",
       "   0.0    0.0     0.0     0.0     0.0\n",
       "   0.0    0.0     0.0     0.0     0.0\n",
       "   0.0    0.0     0.0     0.0     0.0\n",
       " 504.0  490.0     0.0     0.0  7000.0\n",
       "   0.0    0.0     0.0     0.0     0.0\n",
       "   0.0    0.0     0.0     0.0     0.0"
      ]
     },
     "execution_count": 110,
     "metadata": {},
     "output_type": "execute_result"
    }
   ],
   "source": [
    "feaX = copy(optX)\n",
    "feaX[4,2] = 0\n",
    "feaX[2,2] = 931\n",
    "feaX"
   ]
  },
  {
   "cell_type": "code",
   "execution_count": 111,
   "id": "f31da611",
   "metadata": {},
   "outputs": [
    {
     "data": {
      "text/plain": [
       "1.1726478011691008e7"
      ]
     },
     "execution_count": 111,
     "metadata": {},
     "output_type": "execute_result"
    }
   ],
   "source": [
    "trans_test = transp_emi(feaY,10,5)"
   ]
  },
  {
   "cell_type": "code",
   "execution_count": 112,
   "id": "936e9fea",
   "metadata": {},
   "outputs": [
    {
     "data": {
      "text/plain": [
       "112575.414"
      ]
     },
     "execution_count": 112,
     "metadata": {},
     "output_type": "execute_result"
    }
   ],
   "source": [
    "proc_test = proc_emi(feaX, 10, 5, EF_input)"
   ]
  },
  {
   "cell_type": "code",
   "execution_count": 113,
   "id": "0768af17",
   "metadata": {},
   "outputs": [
    {
     "data": {
      "text/plain": [
       "58169.53425798187"
      ]
     },
     "execution_count": 113,
     "metadata": {},
     "output_type": "execute_result"
    }
   ],
   "source": [
    "Stest = carbon_supply(feaX,EF_input,SD,gobal_sink,global_emission)"
   ]
  },
  {
   "cell_type": "code",
   "execution_count": 114,
   "id": "9730320e",
   "metadata": {},
   "outputs": [
    {
     "data": {
      "text/plain": [
       "1.1780883891433027e7"
      ]
     },
     "execution_count": 114,
     "metadata": {},
     "output_type": "execute_result"
    }
   ],
   "source": [
    "result = trans_test+proc_test-Stest"
   ]
  },
  {
   "cell_type": "code",
   "execution_count": 107,
   "id": "4ea3c6eb",
   "metadata": {},
   "outputs": [],
   "source": [
    "# m = 5\n",
    "# n = 10\n",
    "# ls = []\n",
    "\n",
    "# for k in 1:m\n",
    "#     for i in 1:n\n",
    "#         for j in 1:n\n",
    "#             trans_emi = optY[i,j,k] * distance[!, 2:end][i,j] * EF_aircraft\n",
    "#             if trans_emi > 0\n",
    "#                 push!(ls, trans_emi)\n",
    "#             end\n",
    "#         end\n",
    "#     end\n",
    "# end"
   ]
  },
  {
   "cell_type": "code",
   "execution_count": 35,
   "id": "3e08b230",
   "metadata": {},
   "outputs": [
    {
     "data": {
      "text/plain": [
       "3-element Vector{Any}:\n",
       " 911678.2625382389\n",
       "      4.213746169823749e6\n",
       "      1.3915089270320488e6"
      ]
     },
     "execution_count": 35,
     "metadata": {},
     "output_type": "execute_result"
    }
   ],
   "source": [
    "ls"
   ]
  },
  {
   "cell_type": "code",
   "execution_count": 42,
   "id": "7f7bcb1b",
   "metadata": {},
   "outputs": [
    {
     "data": {
      "text/plain": [
       "6.516933359394037e6"
      ]
     },
     "execution_count": 42,
     "metadata": {},
     "output_type": "execute_result"
    }
   ],
   "source": [
    "D_trans = sum(ls)"
   ]
  },
  {
   "cell_type": "code",
   "execution_count": 37,
   "id": "be7f38ca",
   "metadata": {},
   "outputs": [
    {
     "data": {
      "text/plain": [
       "911678.2625382389"
      ]
     },
     "execution_count": 37,
     "metadata": {},
     "output_type": "execute_result"
    }
   ],
   "source": [
    "optY[4,8,2] * distance[!, 2:end][4,8] * EF_aircraft"
   ]
  },
  {
   "cell_type": "code",
   "execution_count": 38,
   "id": "61f33b7b",
   "metadata": {},
   "outputs": [
    {
     "data": {
      "text/plain": [
       "4.213746169823749e6"
      ]
     },
     "execution_count": 38,
     "metadata": {},
     "output_type": "execute_result"
    }
   ],
   "source": [
    "optY[3,8,3] * distance[!, 2:end][3,8] * EF_aircraft"
   ]
  },
  {
   "cell_type": "code",
   "execution_count": 43,
   "id": "eba59dbb",
   "metadata": {},
   "outputs": [
    {
     "data": {
      "text/plain": [
       "6.629508773394037e6"
      ]
     },
     "execution_count": 43,
     "metadata": {},
     "output_type": "execute_result"
    }
   ],
   "source": [
    "D_proc + D_trans"
   ]
  },
  {
   "cell_type": "code",
   "execution_count": 47,
   "id": "beca4b9b",
   "metadata": {},
   "outputs": [
    {
     "data": {
      "text/plain": [
       "10-element Vector{Float64}:\n",
       "     0.0\n",
       "     0.0\n",
       " 16460.170940170938\n",
       "  4375.268162601626\n",
       "     0.0\n",
       "     0.0\n",
       "     0.0\n",
       " 34382.964\n",
       "     0.0\n",
       "     0.0"
      ]
     },
     "execution_count": 47,
     "metadata": {},
     "output_type": "execute_result"
    }
   ],
   "source": [
    "emi = optX * EF_input\n",
    "S_country = SD[!, \"sink ton/yr\"] .* emi ./ SD[!, \"emission\"]"
   ]
  },
  {
   "cell_type": "code",
   "execution_count": 48,
   "id": "d474fbb3",
   "metadata": {},
   "outputs": [
    {
     "data": {
      "text/plain": [
       "10-element Vector{Float64}:\n",
       "    0.0\n",
       "    0.0\n",
       "  239.90399999999997\n",
       "   63.729234947368425\n",
       "    0.0\n",
       "    0.0\n",
       "    0.0\n",
       " 3322.4801002105264\n",
       "    0.0\n",
       "    0.0"
      ]
     },
     "execution_count": 48,
     "metadata": {},
     "output_type": "execute_result"
    }
   ],
   "source": [
    "S_global = gobal_sink/global_emission * emi"
   ]
  },
  {
   "cell_type": "code",
   "execution_count": 50,
   "id": "09f6be22",
   "metadata": {},
   "outputs": [
    {
     "data": {
      "text/plain": [
       "58844.516437930455"
      ]
     },
     "execution_count": 50,
     "metadata": {},
     "output_type": "execute_result"
    }
   ],
   "source": [
    "S = S_country + S_global \n",
    "S_tot = sum(S)"
   ]
  },
  {
   "cell_type": "code",
   "execution_count": 55,
   "id": "cdfe9e50",
   "metadata": {},
   "outputs": [
    {
     "data": {
      "text/plain": [
       "10×5 Matrix{Float64}:\n",
       "   0.0     0.0     0.0     0.0     0.0\n",
       "   0.0     0.0     0.0     0.0     0.0\n",
       "   0.0     0.0  1330.0     0.0     0.0\n",
       "   0.0     0.0     0.0  1421.0     0.0\n",
       "   0.0     0.0     0.0     0.0     0.0\n",
       "   0.0     0.0     0.0     0.0     0.0\n",
       "   0.0     0.0     0.0     0.0     0.0\n",
       " 504.0  1421.0     0.0     0.0  7000.0\n",
       "   0.0     0.0     0.0     0.0     0.0\n",
       "   0.0     0.0     0.0     0.0     0.0"
      ]
     },
     "execution_count": 55,
     "metadata": {},
     "output_type": "execute_result"
    }
   ],
   "source": []
  },
  {
   "cell_type": "code",
   "execution_count": null,
   "id": "71be787e",
   "metadata": {},
   "outputs": [],
   "source": []
  }
 ],
 "metadata": {
  "kernelspec": {
   "display_name": "Julia 1.8.3",
   "language": "julia",
   "name": "julia-1.8"
  },
  "language_info": {
   "file_extension": ".jl",
   "mimetype": "application/julia",
   "name": "julia",
   "version": "1.8.3"
  }
 },
 "nbformat": 4,
 "nbformat_minor": 5
}
